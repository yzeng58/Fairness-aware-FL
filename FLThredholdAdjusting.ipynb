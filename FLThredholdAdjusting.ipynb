{
 "cells": [
  {
   "cell_type": "code",
   "execution_count": 1,
   "metadata": {},
   "outputs": [],
   "source": [
    "# import the training method \n",
    "from FairFedAvg import *\n",
    "\n",
    "# import the synthetic dataset\n",
    "from utils import *"
   ]
  },
  {
   "cell_type": "code",
   "execution_count": 2,
   "metadata": {},
   "outputs": [],
   "source": [
    "synthetic_info = dataGenerate(seed = 2)"
   ]
  },
  {
   "cell_type": "code",
   "execution_count": 3,
   "metadata": {
    "scrolled": true
   },
   "outputs": [
    {
     "name": "stderr",
     "output_type": "stream",
     "text": [
      "\r",
      "  0%|          | 0/2 [00:00<?, ?it/s]"
     ]
    },
    {
     "name": "stdout",
     "output_type": "stream",
     "text": [
      "\n",
      " | Global Training Round : 1 |\n",
      "\n"
     ]
    },
    {
     "name": "stderr",
     "output_type": "stream",
     "text": [
      "\r",
      " 50%|█████     | 1/2 [00:01<00:01,  1.46s/it]"
     ]
    },
    {
     "name": "stdout",
     "output_type": "stream",
     "text": [
      "Client 1: accuracy loss: 3.66 | fairness loss 0.03 | Risk Difference = 0.56\n",
      "Client 2: accuracy loss: 2.95 | fairness loss 0.02 | Risk Difference = 0.61\n",
      "Client 3: accuracy loss: 2.36 | fairness loss 0.03 | Risk Difference = 0.56\n",
      " \n",
      "Avg Training Stats after 1 global rounds:\n",
      "Training loss: 71.52 | Validation accuracy: 87.22% | Validation Risk Difference: 0.5849\n",
      "\n",
      " | Global Training Round : 2 |\n",
      "\n"
     ]
    },
    {
     "name": "stderr",
     "output_type": "stream",
     "text": [
      "100%|██████████| 2/2 [00:02<00:00,  1.43s/it]\n",
      "  0%|          | 0/10 [00:00<?, ?it/s]"
     ]
    },
    {
     "name": "stdout",
     "output_type": "stream",
     "text": [
      "Client 1: accuracy loss: 3.23 | fairness loss 0.20 | Risk Difference = 0.64\n",
      "Client 2: accuracy loss: 2.50 | fairness loss 0.25 | Risk Difference = 0.71\n",
      "Client 3: accuracy loss: 1.66 | fairness loss 0.25 | Risk Difference = 0.70\n",
      " \n",
      "Avg Training Stats after 2 global rounds:\n",
      "Training loss: 52.75 | Validation accuracy: 87.69% | Validation Risk Difference: 0.6883\n"
     ]
    },
    {
     "name": "stderr",
     "output_type": "stream",
     "text": [
      "100%|██████████| 10/10 [00:20<00:00,  2.05s/it]"
     ]
    },
    {
     "name": "stdout",
     "output_type": "stream",
     "text": [
      " \n",
      " Results after 2 global rounds of training:\n",
      "|---- Avg Train Accuracy: 87.69%\n",
      "|---- Test Accuracy: 86.40%\n",
      "|---- Test Risk Difference: 0.6190\n",
      "\n",
      " Total Run Time: 23.4389 sec\n"
     ]
    },
    {
     "name": "stderr",
     "output_type": "stream",
     "text": [
      "\n"
     ]
    }
   ],
   "source": [
    "model = logReg(num_features=3, num_classes=2)\n",
    "\n",
    "train(model, synthetic_info, option = \"threshold adjusting\", learning_rate = 0.005,\n",
    "      num_rounds = 2, local_epochs = 10, adjusting_rounds = 10, adjusting_epochs = 20,\n",
    "      train_prn = False, adjusting_alpha = 0.05)"
   ]
  },
  {
   "cell_type": "code",
   "execution_count": 4,
   "metadata": {},
   "outputs": [
    {
     "name": "stderr",
     "output_type": "stream",
     "text": [
      "100%|██████████| 1/1 [00:00<00:00,  6.05it/s]"
     ]
    },
    {
     "name": "stdout",
     "output_type": "stream",
     "text": [
      "\n",
      " | Global Training Round : 1 |\n",
      "\n",
      "Client 1: accuracy loss: 3.23 | fairness loss 0.21 | Risk Difference = 0.70\n",
      "Client 2: accuracy loss: 2.51 | fairness loss 0.26 | Risk Difference = 0.71\n",
      "Client 3: accuracy loss: 1.64 | fairness loss 0.26 | Risk Difference = 0.70\n",
      " \n",
      "Avg Training Stats after 1 global rounds:\n",
      "Training loss: 32.82 | Validation accuracy: 87.69% | Validation Risk Difference: 0.7033\n"
     ]
    },
    {
     "name": "stderr",
     "output_type": "stream",
     "text": [
      "\n",
      " 80%|████████  | 8/10 [00:15<00:03,  1.91s/it]"
     ]
    },
    {
     "name": "stdout",
     "output_type": "stream",
     "text": [
      " \n",
      " Results after 1 global rounds of training:\n",
      "|---- Avg Train Accuracy: 87.69%\n",
      "|---- Test Accuracy: 38.60%\n",
      "|---- Test Risk Difference: 0.5147\n",
      "\n",
      " Total Run Time: 15.9085 sec\n"
     ]
    }
   ],
   "source": [
    "train(model, synthetic_info, option = \"threshold adjusting\", learning_rate = 0.005,\n",
    "      num_rounds = 1, local_epochs = 1, train_prn = False, adjusting_alpha = 1)"
   ]
  },
  {
   "cell_type": "code",
   "execution_count": 5,
   "metadata": {},
   "outputs": [
    {
     "name": "stderr",
     "output_type": "stream",
     "text": [
      "\n",
      "  0%|          | 0/2 [00:00<?, ?it/s]\u001b[A"
     ]
    },
    {
     "name": "stdout",
     "output_type": "stream",
     "text": [
      "\n",
      " | Global Training Round : 1 |\n",
      "\n"
     ]
    },
    {
     "name": "stderr",
     "output_type": "stream",
     "text": [
      "\n",
      " 50%|█████     | 1/2 [00:01<00:01,  1.01s/it]\u001b[A"
     ]
    },
    {
     "name": "stdout",
     "output_type": "stream",
     "text": [
      "Client 1: accuracy loss: 3.16 | fairness loss 1.50 | Risk Difference = 0.71\n",
      "Client 2: accuracy loss: 2.59 | fairness loss 1.82 | Risk Difference = 0.71\n",
      "Client 3: accuracy loss: 1.68 | fairness loss 1.82 | Risk Difference = 0.77\n",
      " \n",
      "Avg Training Stats after 1 global rounds:\n",
      "Training loss: 36.15 | Validation accuracy: 88.37% | Validation Risk Difference: 0.7318\n",
      "\n",
      " | Global Training Round : 2 |\n",
      "\n"
     ]
    },
    {
     "name": "stderr",
     "output_type": "stream",
     "text": [
      "\n",
      "100%|██████████| 2/2 [00:02<00:00,  1.26s/it]\u001b[A"
     ]
    },
    {
     "name": "stdout",
     "output_type": "stream",
     "text": [
      "Client 1: accuracy loss: 3.23 | fairness loss 1.83 | Risk Difference = 0.70\n",
      "Client 2: accuracy loss: 2.50 | fairness loss 2.21 | Risk Difference = 0.71\n",
      "Client 3: accuracy loss: 1.64 | fairness loss 2.20 | Risk Difference = 0.70\n",
      " \n",
      "Avg Training Stats after 2 global rounds:\n",
      "Training loss: 34.45 | Validation accuracy: 87.69% | Validation Risk Difference: 0.7033\n",
      " \n",
      " Results after 2 global rounds of training:\n",
      "|---- Avg Train Accuracy: 87.69%\n",
      "|---- Test Accuracy: 86.20%\n",
      "|---- Test Risk Difference: 0.6446\n",
      "\n",
      " Total Run Time: 2.5513 sec\n"
     ]
    },
    {
     "name": "stderr",
     "output_type": "stream",
     "text": [
      "\n"
     ]
    }
   ],
   "source": [
    "model = logReg(num_features=3, num_classes=2)\n",
    "\n",
    "train(model, synthetic_info,\n",
    "      option = \"unconstrained\", optimizer = 'adam', learning_rate = 0.005,\n",
    "      num_rounds = 2, local_epochs = 10, train_prn = False)"
   ]
  },
  {
   "cell_type": "code",
   "execution_count": null,
   "metadata": {},
   "outputs": [],
   "source": []
  }
 ],
 "metadata": {
  "kernelspec": {
   "display_name": "Python 3",
   "language": "python",
   "name": "python3"
  },
  "language_info": {
   "codemirror_mode": {
    "name": "ipython",
    "version": 3
   },
   "file_extension": ".py",
   "mimetype": "text/x-python",
   "name": "python",
   "nbconvert_exporter": "python",
   "pygments_lexer": "ipython3",
   "version": "3.7.4"
  }
 },
 "nbformat": 4,
 "nbformat_minor": 2
}
