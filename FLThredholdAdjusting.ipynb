{
 "cells": [
  {
   "cell_type": "code",
   "execution_count": 8,
   "metadata": {},
   "outputs": [],
   "source": [
    "# import the training method \n",
    "from FairFedAvg import *\n",
    "\n",
    "# import the synthetic dataset\n",
    "from utils import *"
   ]
  },
  {
   "cell_type": "code",
   "execution_count": 2,
   "metadata": {},
   "outputs": [],
   "source": [
    "synthetic_info = dataGenerate(seed = 544)"
   ]
  },
  {
   "cell_type": "code",
   "execution_count": 6,
   "metadata": {
    "scrolled": true
   },
   "outputs": [
    {
     "name": "stderr",
     "output_type": "stream",
     "text": [
      "\n",
      "\n",
      "  0%|          | 0/2 [00:00<?, ?it/s]\u001b[A\u001b[A"
     ]
    },
    {
     "name": "stdout",
     "output_type": "stream",
     "text": [
      "\n",
      " | Global Training Round : 1 |\n",
      "\n"
     ]
    },
    {
     "name": "stderr",
     "output_type": "stream",
     "text": [
      "\n",
      "\n",
      " 50%|█████     | 1/2 [00:01<00:01,  1.03s/it]\u001b[A\u001b[A"
     ]
    },
    {
     "name": "stdout",
     "output_type": "stream",
     "text": [
      "Client 1: accuracy loss: 2.88 | fairness loss 0.84 | Demographic disparity = 0.57\n",
      "Client 2: accuracy loss: 3.52 | fairness loss 1.40 | Demographic disparity = 0.37\n",
      "Client 3: accuracy loss: 2.28 | fairness loss 1.46 | Demographic disparity = 0.45\n",
      " \n",
      "Avg Training Stats after 1 global rounds:\n",
      "Training loss: 44.23 | Validation accuracy: 86.18% | Validation Demographic disparity: 0.4101\n",
      "\n",
      " | Global Training Round : 2 |\n",
      "\n"
     ]
    },
    {
     "name": "stderr",
     "output_type": "stream",
     "text": [
      "\n",
      "\n",
      "100%|██████████| 2/2 [00:01<00:00,  1.06it/s]\u001b[A\u001b[A\n",
      "\n",
      "\n",
      "  0%|          | 0/10 [00:00<?, ?it/s]\u001b[A\u001b[A"
     ]
    },
    {
     "name": "stdout",
     "output_type": "stream",
     "text": [
      "Client 1: accuracy loss: 2.58 | fairness loss 1.04 | Demographic disparity = 0.51\n",
      "Client 2: accuracy loss: 3.36 | fairness loss 1.75 | Demographic disparity = 0.32\n",
      "Client 3: accuracy loss: 2.14 | fairness loss 1.85 | Demographic disparity = 0.45\n",
      " \n",
      "Avg Training Stats after 2 global rounds:\n",
      "Training loss: 40.45 | Validation accuracy: 87.88% | Validation Demographic disparity: 0.3791\n"
     ]
    },
    {
     "name": "stderr",
     "output_type": "stream",
     "text": [
      "\n",
      "\n",
      " 10%|█         | 1/10 [00:03<00:35,  3.95s/it]\u001b[A\u001b[A"
     ]
    },
    {
     "name": "stdout",
     "output_type": "stream",
     "text": [
      " \n",
      "Avg Training Stats after 1 threshold adjusting global rounds:\n",
      "Training loss: 17.64 | Validation accuracy: 84.78% | Validation Demographic disparity: 0.2651\n"
     ]
    },
    {
     "name": "stderr",
     "output_type": "stream",
     "text": [
      "\n",
      "\n",
      " 20%|██        | 2/10 [00:06<00:28,  3.61s/it]\u001b[A\u001b[A"
     ]
    },
    {
     "name": "stdout",
     "output_type": "stream",
     "text": [
      " \n",
      "Avg Training Stats after 2 threshold adjusting global rounds:\n",
      "Training loss: 20.98 | Validation accuracy: 81.27% | Validation Demographic disparity: 0.2123\n"
     ]
    },
    {
     "name": "stderr",
     "output_type": "stream",
     "text": [
      "\n",
      "\n",
      " 30%|███       | 3/10 [00:09<00:23,  3.42s/it]\u001b[A\u001b[A"
     ]
    },
    {
     "name": "stdout",
     "output_type": "stream",
     "text": [
      " \n",
      "Avg Training Stats after 3 threshold adjusting global rounds:\n",
      "Training loss: 24.68 | Validation accuracy: 78.93% | Validation Demographic disparity: 0.1825\n"
     ]
    },
    {
     "name": "stderr",
     "output_type": "stream",
     "text": [
      "\n",
      "\n",
      " 40%|████      | 4/10 [00:12<00:18,  3.08s/it]\u001b[A\u001b[A"
     ]
    },
    {
     "name": "stdout",
     "output_type": "stream",
     "text": [
      " \n",
      "Avg Training Stats after 4 threshold adjusting global rounds:\n",
      "Training loss: 28.95 | Validation accuracy: 75.63% | Validation Demographic disparity: 0.1363\n"
     ]
    },
    {
     "name": "stderr",
     "output_type": "stream",
     "text": [
      "\n",
      "\n",
      " 50%|█████     | 5/10 [00:14<00:14,  2.82s/it]\u001b[A\u001b[A"
     ]
    },
    {
     "name": "stdout",
     "output_type": "stream",
     "text": [
      " \n",
      "Avg Training Stats after 5 threshold adjusting global rounds:\n",
      "Training loss: 33.81 | Validation accuracy: 72.13% | Validation Demographic disparity: 0.0868\n"
     ]
    },
    {
     "name": "stderr",
     "output_type": "stream",
     "text": [
      "\n",
      "\n",
      " 60%|██████    | 6/10 [00:16<00:10,  2.64s/it]\u001b[A\u001b[A"
     ]
    },
    {
     "name": "stdout",
     "output_type": "stream",
     "text": [
      " \n",
      "Avg Training Stats after 6 threshold adjusting global rounds:\n",
      "Training loss: 39.22 | Validation accuracy: 68.28% | Validation Demographic disparity: 0.0307\n"
     ]
    },
    {
     "name": "stderr",
     "output_type": "stream",
     "text": [
      "\n",
      "\n",
      " 70%|███████   | 7/10 [00:18<00:07,  2.50s/it]\u001b[A\u001b[A"
     ]
    },
    {
     "name": "stdout",
     "output_type": "stream",
     "text": [
      " \n",
      "Avg Training Stats after 7 threshold adjusting global rounds:\n",
      "Training loss: 45.13 | Validation accuracy: 65.88% | Validation Demographic disparity: 0.0023\n",
      " \n",
      " Results after 2 global rounds of training:\n",
      "|---- Avg Train Accuracy: 87.88%\n",
      "|---- Test Accuracy: 64.80%\n",
      "|---- Test Demographic disparity: 0.0237\n",
      "\n",
      " Total Run Time: 20.5683 sec\n"
     ]
    }
   ],
   "source": [
    "train(logReg(num_features=3, num_classes=2), synthetic_info, option = \"threshold adjusting\", learning_rate = 0.005,\n",
    "      num_rounds = 2, local_epochs = 10, adjusting_rounds = 10, adjusting_epochs = 30, metric = \"Demographic disparity\",\n",
    "      train_prn = False, adjusting_alpha = 0.7, seed = 544, epsilon=0.02)"
   ]
  },
  {
   "cell_type": "code",
   "execution_count": 8,
   "metadata": {
    "scrolled": true
   },
   "outputs": [
    {
     "name": "stderr",
     "output_type": "stream",
     "text": [
      "\n",
      "\n",
      "\n",
      "\n",
      "  0%|          | 0/2 [00:00<?, ?it/s]\u001b[A\u001b[A\u001b[A\u001b[A\n",
      "\n",
      "\n",
      "\n",
      " 50%|█████     | 1/2 [00:00<00:00,  1.15it/s]\u001b[A\u001b[A\u001b[A\u001b[A\n",
      "\n",
      "\n",
      "\n",
      "100%|██████████| 2/2 [00:01<00:00,  1.14it/s]\u001b[A\u001b[A\u001b[A\u001b[A\n",
      "\n",
      "\n",
      "\n",
      "\n",
      "  0%|          | 0/10 [00:00<?, ?it/s]\u001b[A\u001b[A\u001b[A\u001b[A\n",
      "\n",
      "\n",
      "\n",
      " 10%|█         | 1/10 [00:02<00:23,  2.56s/it]\u001b[A\u001b[A\u001b[A\u001b[A\n",
      "\n",
      "\n",
      "\n",
      " 20%|██        | 2/10 [00:05<00:22,  2.77s/it]\u001b[A\u001b[A\u001b[A\u001b[A\n",
      "\n",
      "\n",
      "\n",
      " 30%|███       | 3/10 [00:09<00:20,  2.93s/it]\u001b[A\u001b[A\u001b[A\u001b[A\n",
      "\n",
      "\n",
      "\n",
      " 40%|████      | 4/10 [00:12<00:18,  3.10s/it]\u001b[A\u001b[A\u001b[A\u001b[A"
     ]
    },
    {
     "data": {
      "text/plain": [
       "(0.65, 0.062324324324324276)"
      ]
     },
     "execution_count": 8,
     "metadata": {},
     "output_type": "execute_result"
    }
   ],
   "source": [
    "synthetic_info = dataGenerate(seed = 831)\n",
    "train(logReg(num_features=3, num_classes=2), synthetic_info, option = \"threshold adjusting\", learning_rate = 0.005,\n",
    "      num_rounds = 2, local_epochs = 10, adjusting_rounds = 10, adjusting_epochs = 30, metric = \"Demographic disparity\",\n",
    "      train_prn = False, adjusting_alpha = 0.7, seed = 831, epsilon=0.02, ret = True)"
   ]
  },
  {
   "cell_type": "code",
   "execution_count": 9,
   "metadata": {
    "scrolled": true
   },
   "outputs": [
    {
     "name": "stderr",
     "output_type": "stream",
     "text": [
      "\n",
      "\n",
      "\n",
      "\n",
      "\n",
      "  0%|          | 0/2 [00:00<?, ?it/s]\u001b[A\u001b[A\u001b[A\u001b[A\u001b[A\n",
      "\n",
      "\n",
      "\n",
      "\n",
      " 50%|█████     | 1/2 [00:01<00:01,  1.59s/it]\u001b[A\u001b[A\u001b[A\u001b[A\u001b[A\n",
      "\n",
      "\n",
      "\n",
      "\n",
      "100%|██████████| 2/2 [00:02<00:00,  1.39s/it]\u001b[A\u001b[A\u001b[A\u001b[A\u001b[A\n",
      "\n",
      "\n",
      "\n",
      "\n",
      "\n",
      "  0%|          | 0/10 [00:00<?, ?it/s]\u001b[A\u001b[A\u001b[A\u001b[A\u001b[A\n",
      "\n",
      "\n",
      "\n",
      "\n",
      " 10%|█         | 1/10 [00:03<00:33,  3.76s/it]\u001b[A\u001b[A\u001b[A\u001b[A\u001b[A\n",
      "\n",
      "\n",
      "\n",
      "\n",
      " 20%|██        | 2/10 [00:07<00:28,  3.62s/it]\u001b[A\u001b[A\u001b[A\u001b[A\u001b[A\n",
      "\n",
      "\n",
      "\n",
      "\n",
      " 30%|███       | 3/10 [00:10<00:24,  3.55s/it]\u001b[A\u001b[A\u001b[A\u001b[A\u001b[A\n",
      "\n",
      "\n",
      "\n",
      "\n",
      " 40%|████      | 4/10 [00:13<00:21,  3.51s/it]\u001b[A\u001b[A\u001b[A\u001b[A\u001b[A\n",
      "\n",
      "\n",
      "\n",
      "\n",
      " 50%|█████     | 5/10 [00:16<00:16,  3.39s/it]\u001b[A\u001b[A\u001b[A\u001b[A\u001b[A"
     ]
    },
    {
     "data": {
      "text/plain": [
       "(0.596, 0.003821782178217825)"
      ]
     },
     "execution_count": 9,
     "metadata": {},
     "output_type": "execute_result"
    }
   ],
   "source": [
    "synthetic_info = dataGenerate(seed = 990)\n",
    "train(logReg(num_features=3, num_classes=2), synthetic_info, option = \"threshold adjusting\", learning_rate = 0.005,\n",
    "      num_rounds = 2, local_epochs = 10, adjusting_rounds = 10, adjusting_epochs = 30, metric = \"Demographic disparity\",\n",
    "      train_prn = False, adjusting_alpha = 0.7, seed = 990, epsilon=0.02, ret = True)"
   ]
  },
  {
   "cell_type": "code",
   "execution_count": 7,
   "metadata": {},
   "outputs": [
    {
     "name": "stderr",
     "output_type": "stream",
     "text": [
      "100%|██████████| 2/2 [00:02<00:00,  1.02s/it]\n",
      " 80%|████████  | 8/10 [00:31<00:07,  3.92s/it]"
     ]
    },
    {
     "data": {
      "text/plain": [
       "(0.55, 0.12)"
      ]
     },
     "execution_count": 7,
     "metadata": {},
     "output_type": "execute_result"
    }
   ],
   "source": [
    "synthetic_info = dataGenerate(seed = 402, test_samples = 100)\n",
    "train(logReg(num_features=3, num_classes=2), synthetic_info, option = \"threshold adjusting\", learning_rate = 0.005,\n",
    "      num_rounds = 2, local_epochs = 10, adjusting_rounds = 10, adjusting_epochs = 30, metric = \"Demographic disparity\",\n",
    "      train_prn = False, adjusting_alpha = 0.7, seed = 402, epsilon=0.02, ret = True)"
   ]
  },
  {
   "cell_type": "code",
   "execution_count": 16,
   "metadata": {},
   "outputs": [
    {
     "name": "stderr",
     "output_type": "stream",
     "text": [
      "\n",
      "  0%|          | 0/2 [00:00<?, ?it/s]\u001b[A\n",
      " 50%|█████     | 1/2 [00:00<00:00,  1.21it/s]\u001b[A\n",
      "100%|██████████| 2/2 [00:01<00:00,  1.23it/s]\u001b[A\n",
      "\n",
      "  0%|          | 0/10 [00:00<?, ?it/s]\u001b[A\n",
      " 10%|█         | 1/10 [00:02<00:18,  2.01s/it]\u001b[A\n",
      " 20%|██        | 2/10 [00:04<00:16,  2.02s/it]\u001b[A\n",
      " 30%|███       | 3/10 [00:06<00:14,  2.03s/it]\u001b[A\n",
      " 40%|████      | 4/10 [00:08<00:12,  2.06s/it]\u001b[A\n",
      " 50%|█████     | 5/10 [00:10<00:10,  2.10s/it]\u001b[A\n",
      " 60%|██████    | 6/10 [00:12<00:08,  2.14s/it]\u001b[A\n",
      " 70%|███████   | 7/10 [00:14<00:06,  2.15s/it]\u001b[A\n",
      " 80%|████████  | 8/10 [00:16<00:04,  2.14s/it]\u001b[A\n",
      " 90%|█████████ | 9/10 [00:19<00:02,  2.20s/it]\u001b[A\n",
      "100%|██████████| 10/10 [00:21<00:00,  2.15s/it]\u001b[A\n"
     ]
    },
    {
     "data": {
      "text/plain": [
       "(0.49, 0.095)"
      ]
     },
     "execution_count": 16,
     "metadata": {},
     "output_type": "execute_result"
    }
   ],
   "source": [
    "train(logReg(num_features=3, num_classes=2), synthetic_info,\n",
    "  option = \"threshold adjusting\", learning_rate = 0.005, metric = \"Demographic disparity\",\n",
    "  num_rounds = 2, local_epochs = 10, ret = True, seed = 123, train_prn = False, \n",
    "  adjusting_alpha = 0.7, adjusting_epochs = 30, \n",
    "  adjusting_rounds = 10, epsilon = 0.02)"
   ]
  },
  {
   "cell_type": "code",
   "execution_count": 17,
   "metadata": {
    "scrolled": false
   },
   "outputs": [
    {
     "name": "stderr",
     "output_type": "stream",
     "text": [
      "\n",
      "  0%|          | 0/2 [00:00<?, ?it/s]\u001b[A\n",
      " 50%|█████     | 1/2 [00:00<00:00,  1.36it/s]\u001b[A\n",
      "100%|██████████| 2/2 [00:01<00:00,  1.35it/s]\u001b[A\n",
      "\n",
      "  0%|          | 0/10 [00:00<?, ?it/s]\u001b[A\n",
      " 10%|█         | 1/10 [00:02<00:20,  2.25s/it]\u001b[A\n",
      " 20%|██        | 2/10 [00:04<00:18,  2.26s/it]\u001b[A\n",
      " 30%|███       | 3/10 [00:06<00:15,  2.23s/it]\u001b[A\n",
      " 40%|████      | 4/10 [00:09<00:13,  2.31s/it]\u001b[A\n",
      " 50%|█████     | 5/10 [00:11<00:12,  2.44s/it]\u001b[A\n",
      " 60%|██████    | 6/10 [00:14<00:10,  2.57s/it]\u001b[A\n",
      " 70%|███████   | 7/10 [00:17<00:07,  2.59s/it]\u001b[A\n",
      " 80%|████████  | 8/10 [00:19<00:04,  2.47s/it]\u001b[A\n",
      " 90%|█████████ | 9/10 [00:22<00:02,  2.45s/it]\u001b[A\n",
      "100%|██████████| 10/10 [00:24<00:00,  2.43s/it]\u001b[A\n"
     ]
    },
    {
     "data": {
      "text/plain": [
       "(0.49, 0.095)"
      ]
     },
     "execution_count": 17,
     "metadata": {},
     "output_type": "execute_result"
    }
   ],
   "source": [
    "train(logReg(num_features=3, num_classes=2), synthetic_info,\n",
    "  option = \"threshold adjusting\", learning_rate = 0.005, metric = \"Demographic disparity\",\n",
    "  num_rounds = 2, local_epochs = 10, ret = True, seed = 123, train_prn = False, \n",
    "  adjusting_alpha = 0.7, adjusting_epochs = 30, \n",
    "  adjusting_rounds = 10, epsilon = 0.02)"
   ]
  },
  {
   "cell_type": "code",
   "execution_count": 18,
   "metadata": {},
   "outputs": [
    {
     "name": "stderr",
     "output_type": "stream",
     "text": [
      "\n",
      "  0%|          | 0/2 [00:00<?, ?it/s]\u001b[A\n",
      " 50%|█████     | 1/2 [00:00<00:00,  1.45it/s]\u001b[A\n",
      "100%|██████████| 2/2 [00:01<00:00,  1.39it/s]\u001b[A\n",
      "\n",
      "  0%|          | 0/10 [00:00<?, ?it/s]\u001b[A\n",
      " 10%|█         | 1/10 [00:01<00:17,  1.93s/it]\u001b[A\n",
      " 20%|██        | 2/10 [00:03<00:15,  1.95s/it]\u001b[A\n",
      " 30%|███       | 3/10 [00:05<00:13,  1.97s/it]\u001b[A\n",
      " 40%|████      | 4/10 [00:08<00:12,  2.12s/it]\u001b[A\n",
      " 50%|█████     | 5/10 [00:10<00:11,  2.21s/it]\u001b[A\n",
      " 60%|██████    | 6/10 [00:14<00:10,  2.59s/it]\u001b[A\n",
      " 70%|███████   | 7/10 [00:16<00:07,  2.62s/it]\u001b[A\n",
      " 80%|████████  | 8/10 [00:19<00:05,  2.68s/it]\u001b[A\n",
      " 90%|█████████ | 9/10 [00:22<00:02,  2.74s/it]\u001b[A\n",
      "100%|██████████| 10/10 [00:26<00:00,  2.62s/it]\u001b[A\n"
     ]
    },
    {
     "data": {
      "text/plain": [
       "(0.83, 0.26499999999999996)"
      ]
     },
     "execution_count": 18,
     "metadata": {},
     "output_type": "execute_result"
    }
   ],
   "source": [
    "train(logReg(num_features=3, num_classes=2), synthetic_info,\n",
    "  option = \"threshold adjusting\", learning_rate = 0.005, metric = \"Demographic disparity\",optimizer = \"sgd\", \n",
    "  num_rounds = 2, local_epochs = 10, ret = True, seed = 123, train_prn = False, \n",
    "  adjusting_alpha = 0.7, adjusting_epochs = 30, \n",
    "  adjusting_rounds = 10, epsilon = 0.02)"
   ]
  },
  {
   "cell_type": "code",
   "execution_count": 19,
   "metadata": {},
   "outputs": [
    {
     "name": "stderr",
     "output_type": "stream",
     "text": [
      "\n",
      "  0%|          | 0/2 [00:00<?, ?it/s]\u001b[A\n",
      " 50%|█████     | 1/2 [00:00<00:00,  1.28it/s]\u001b[A\n",
      "100%|██████████| 2/2 [00:01<00:00,  1.29it/s]\u001b[A\n",
      "\n",
      "  0%|          | 0/10 [00:00<?, ?it/s]\u001b[A\n",
      " 10%|█         | 1/10 [00:02<00:20,  2.31s/it]\u001b[A\n",
      " 20%|██        | 2/10 [00:04<00:18,  2.34s/it]\u001b[A\n",
      " 30%|███       | 3/10 [00:06<00:16,  2.29s/it]\u001b[A\n",
      " 40%|████      | 4/10 [00:09<00:13,  2.24s/it]\u001b[A\n",
      " 50%|█████     | 5/10 [00:11<00:11,  2.30s/it]\u001b[A\n",
      " 60%|██████    | 6/10 [00:13<00:09,  2.33s/it]\u001b[A\n",
      " 70%|███████   | 7/10 [00:16<00:06,  2.28s/it]\u001b[A\n",
      " 80%|████████  | 8/10 [00:18<00:04,  2.23s/it]\u001b[A\n",
      " 90%|█████████ | 9/10 [00:20<00:02,  2.18s/it]\u001b[A\n",
      "100%|██████████| 10/10 [00:23<00:00,  2.31s/it]\u001b[A\n"
     ]
    },
    {
     "data": {
      "text/plain": [
       "(0.49, 0.095)"
      ]
     },
     "execution_count": 19,
     "metadata": {},
     "output_type": "execute_result"
    }
   ],
   "source": [
    "train(logReg(num_features=3, num_classes=2), synthetic_info,\n",
    "  option = \"threshold adjusting\", learning_rate = 0.005, metric = \"Demographic disparity\",\n",
    "  num_rounds = 2, local_epochs = 10, ret = True, seed = 123, train_prn = False, \n",
    "  adjusting_alpha = 0.7, adjusting_epochs = 30, \n",
    "  adjusting_rounds = 10, epsilon = 0.02)"
   ]
  },
  {
   "cell_type": "code",
   "execution_count": 20,
   "metadata": {},
   "outputs": [
    {
     "name": "stderr",
     "output_type": "stream",
     "text": [
      "\n",
      "  0%|          | 0/2 [00:00<?, ?it/s]\u001b[A\n",
      " 50%|█████     | 1/2 [00:01<00:01,  1.41s/it]\u001b[A\n",
      "100%|██████████| 2/2 [00:02<00:00,  1.19s/it]\u001b[A\n",
      "\n",
      "  0%|          | 0/10 [00:00<?, ?it/s]\u001b[A\n",
      " 10%|█         | 1/10 [00:04<00:43,  4.86s/it]\u001b[A\n",
      " 20%|██        | 2/10 [00:08<00:35,  4.43s/it]\u001b[A\n",
      " 30%|███       | 3/10 [00:11<00:29,  4.18s/it]\u001b[A\n",
      " 40%|████      | 4/10 [00:14<00:22,  3.76s/it]\u001b[A\n",
      " 50%|█████     | 5/10 [00:17<00:16,  3.36s/it]\u001b[A\n",
      " 60%|██████    | 6/10 [00:19<00:12,  3.11s/it]\u001b[A\n",
      " 70%|███████   | 7/10 [00:23<00:09,  3.27s/it]\u001b[A\n",
      " 80%|████████  | 8/10 [00:25<00:06,  3.09s/it]\u001b[A\n",
      " 90%|█████████ | 9/10 [00:28<00:02,  2.90s/it]\u001b[A\n",
      "100%|██████████| 10/10 [00:30<00:00,  3.06s/it]\u001b[A\n"
     ]
    },
    {
     "data": {
      "text/plain": [
       "(0.83, 0.26499999999999996)"
      ]
     },
     "execution_count": 20,
     "metadata": {},
     "output_type": "execute_result"
    }
   ],
   "source": [
    "train(logReg(num_features=3, num_classes=2), synthetic_info,\n",
    "  option = \"threshold adjusting\", learning_rate = 0.005, metric = \"Demographic disparity\",optimizer = \"sgd\", \n",
    "  num_rounds = 2, local_epochs = 10, ret = True, seed = 123, train_prn = False, \n",
    "  adjusting_alpha = 0.7, adjusting_epochs = 30, \n",
    "  adjusting_rounds = 10, epsilon = 0.02)"
   ]
  },
  {
   "cell_type": "code",
   "execution_count": null,
   "metadata": {},
   "outputs": [],
   "source": [
    " alpha = 1,  adaptive_alpha = 1, penalty = 1, "
   ]
  },
  {
   "cell_type": "code",
   "execution_count": null,
   "metadata": {},
   "outputs": [],
   "source": []
  },
  {
   "cell_type": "code",
   "execution_count": null,
   "metadata": {},
   "outputs": [],
   "source": []
  }
 ],
 "metadata": {
  "kernelspec": {
   "display_name": "Python 3",
   "language": "python",
   "name": "python3"
  },
  "language_info": {
   "codemirror_mode": {
    "name": "ipython",
    "version": 3
   },
   "file_extension": ".py",
   "mimetype": "text/x-python",
   "name": "python",
   "nbconvert_exporter": "python",
   "pygments_lexer": "ipython3",
   "version": "3.7.4"
  }
 },
 "nbformat": 4,
 "nbformat_minor": 2
}
