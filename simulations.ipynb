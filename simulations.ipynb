{
 "cells": [
  {
   "cell_type": "code",
   "execution_count": 1,
   "metadata": {},
   "outputs": [],
   "source": [
    "from sims import *"
   ]
  },
  {
   "cell_type": "code",
   "execution_count": 2,
   "metadata": {
    "scrolled": true
   },
   "outputs": [
    {
     "name": "stdout",
     "output_type": "stream",
     "text": [
      "  |  Simulation : 1 | \n",
      "      seed : 13 -----\n"
     ]
    },
    {
     "name": "stderr",
     "output_type": "stream",
     "text": [
      "100%|██████████| 10/10 [00:25<00:00,  2.56s/it]\n"
     ]
    },
    {
     "name": "stdout",
     "output_type": "stream",
     "text": [
      "      Accuracy: 70.00%  Demographic disparity: 0.04\n",
      "  |  Simulation : 2 | \n",
      "      seed : 40 -----\n"
     ]
    },
    {
     "name": "stderr",
     "output_type": "stream",
     "text": [
      "100%|██████████| 10/10 [00:26<00:00,  2.65s/it]\n"
     ]
    },
    {
     "name": "stdout",
     "output_type": "stream",
     "text": [
      "      Accuracy: 90.00%  Demographic disparity: 0.30\n",
      "  |  Simulation : 3 | \n",
      "      seed : 69 -----\n"
     ]
    },
    {
     "name": "stderr",
     "output_type": "stream",
     "text": [
      "100%|██████████| 10/10 [00:33<00:00,  3.32s/it]\n"
     ]
    },
    {
     "name": "stdout",
     "output_type": "stream",
     "text": [
      "      Accuracy: 75.00%  Demographic disparity: 0.01\n",
      "  |  Simulation : 4 | \n",
      "      seed : 104 -----\n"
     ]
    },
    {
     "name": "stderr",
     "output_type": "stream",
     "text": [
      "100%|██████████| 10/10 [00:44<00:00,  4.42s/it]\n"
     ]
    },
    {
     "name": "stdout",
     "output_type": "stream",
     "text": [
      "      Accuracy: 69.00%  Demographic disparity: 0.01\n",
      "  |  Simulation : 5 | \n",
      "      seed : 151 -----\n"
     ]
    },
    {
     "name": "stderr",
     "output_type": "stream",
     "text": [
      "100%|██████████| 10/10 [00:56<00:00,  5.62s/it]\n"
     ]
    },
    {
     "name": "stdout",
     "output_type": "stream",
     "text": [
      "      Accuracy: 76.00%  Demographic disparity: 0.12\n",
      "  |  Simulation : 6 | \n",
      "      seed : 211 -----\n"
     ]
    },
    {
     "name": "stderr",
     "output_type": "stream",
     "text": [
      "100%|██████████| 10/10 [00:47<00:00,  4.76s/it]\n"
     ]
    },
    {
     "name": "stdout",
     "output_type": "stream",
     "text": [
      "      Accuracy: 77.00%  Demographic disparity: 0.12\n",
      "  |  Simulation : 7 | \n",
      "      seed : 262 -----\n"
     ]
    },
    {
     "name": "stderr",
     "output_type": "stream",
     "text": [
      "100%|██████████| 10/10 [00:47<00:00,  4.72s/it]\n"
     ]
    },
    {
     "name": "stdout",
     "output_type": "stream",
     "text": [
      "      Accuracy: 67.00%  Demographic disparity: 0.17\n",
      "  |  Simulation : 8 | \n",
      "      seed : 313 -----\n"
     ]
    },
    {
     "name": "stderr",
     "output_type": "stream",
     "text": [
      "100%|██████████| 10/10 [00:25<00:00,  2.57s/it]\n"
     ]
    },
    {
     "name": "stdout",
     "output_type": "stream",
     "text": [
      "      Accuracy: 67.00%  Demographic disparity: 0.03\n",
      "  |  Simulation : 9 | \n",
      "      seed : 341 -----\n"
     ]
    },
    {
     "name": "stderr",
     "output_type": "stream",
     "text": [
      "100%|██████████| 10/10 [00:25<00:00,  2.58s/it]\n"
     ]
    },
    {
     "name": "stdout",
     "output_type": "stream",
     "text": [
      "      Accuracy: 68.00%  Demographic disparity: 0.02\n",
      "  |  Simulation : 10 | \n",
      "      seed : 368 -----\n"
     ]
    },
    {
     "name": "stderr",
     "output_type": "stream",
     "text": [
      "100%|██████████| 10/10 [00:26<00:00,  2.69s/it]\n"
     ]
    },
    {
     "name": "stdout",
     "output_type": "stream",
     "text": [
      "      Accuracy: 90.00%  Demographic disparity: 0.18\n",
      "  |  Simulation : 11 | \n",
      "      seed : 397 -----\n"
     ]
    },
    {
     "name": "stderr",
     "output_type": "stream",
     "text": [
      "100%|██████████| 10/10 [00:36<00:00,  3.65s/it]\n"
     ]
    },
    {
     "name": "stdout",
     "output_type": "stream",
     "text": [
      "      Accuracy: 64.00%  Demographic disparity: 0.03\n",
      "  |  Simulation : 12 | \n",
      "      seed : 436 -----\n"
     ]
    },
    {
     "name": "stderr",
     "output_type": "stream",
     "text": [
      "100%|██████████| 10/10 [00:51<00:00,  5.17s/it]\n"
     ]
    },
    {
     "name": "stdout",
     "output_type": "stream",
     "text": [
      "      Accuracy: 79.00%  Demographic disparity: 0.05\n",
      "  |  Simulation : 13 | \n",
      "      seed : 491 -----\n"
     ]
    },
    {
     "name": "stderr",
     "output_type": "stream",
     "text": [
      "100%|██████████| 10/10 [00:47<00:00,  4.75s/it]\n"
     ]
    },
    {
     "name": "stdout",
     "output_type": "stream",
     "text": [
      "      Accuracy: 72.00%  Demographic disparity: 0.01\n",
      "  |  Simulation : 14 | \n",
      "      seed : 542 -----\n"
     ]
    },
    {
     "name": "stderr",
     "output_type": "stream",
     "text": [
      "100%|██████████| 10/10 [00:46<00:00,  4.67s/it]\n"
     ]
    },
    {
     "name": "stdout",
     "output_type": "stream",
     "text": [
      "      Accuracy: 76.00%  Demographic disparity: 0.11\n",
      "  |  Simulation : 15 | \n",
      "      seed : 592 -----\n"
     ]
    },
    {
     "name": "stderr",
     "output_type": "stream",
     "text": [
      "100%|██████████| 10/10 [00:28<00:00,  2.88s/it]\n"
     ]
    },
    {
     "name": "stdout",
     "output_type": "stream",
     "text": [
      "      Accuracy: 73.00%  Demographic disparity: 0.05\n",
      "  |  Simulation : 16 | \n",
      "      seed : 624 -----\n"
     ]
    },
    {
     "name": "stderr",
     "output_type": "stream",
     "text": [
      "100%|██████████| 10/10 [00:32<00:00,  3.28s/it]\n"
     ]
    },
    {
     "name": "stdout",
     "output_type": "stream",
     "text": [
      "      Accuracy: 77.00%  Demographic disparity: 0.05\n",
      "  |  Simulation : 17 | \n",
      "      seed : 659 -----\n"
     ]
    },
    {
     "name": "stderr",
     "output_type": "stream",
     "text": [
      "100%|██████████| 10/10 [00:41<00:00,  4.11s/it]\n"
     ]
    },
    {
     "name": "stdout",
     "output_type": "stream",
     "text": [
      "      Accuracy: 61.00%  Demographic disparity: 0.10\n",
      "  |  Simulation : 18 | \n",
      "      seed : 703 -----\n"
     ]
    },
    {
     "name": "stderr",
     "output_type": "stream",
     "text": [
      "100%|██████████| 10/10 [00:31<00:00,  3.17s/it]\n"
     ]
    },
    {
     "name": "stdout",
     "output_type": "stream",
     "text": [
      "      Accuracy: 78.00%  Demographic disparity: 0.06\n",
      "  |  Simulation : 19 | \n",
      "      seed : 736 -----\n"
     ]
    },
    {
     "name": "stderr",
     "output_type": "stream",
     "text": [
      "100%|██████████| 10/10 [00:37<00:00,  3.71s/it]\n"
     ]
    },
    {
     "name": "stdout",
     "output_type": "stream",
     "text": [
      "      Accuracy: 61.00%  Demographic disparity: 0.08\n",
      "  |  Simulation : 20 | \n",
      "      seed : 775 -----\n"
     ]
    },
    {
     "name": "stderr",
     "output_type": "stream",
     "text": [
      "100%|██████████| 10/10 [00:46<00:00,  4.61s/it]"
     ]
    },
    {
     "name": "stdout",
     "output_type": "stream",
     "text": [
      "      Accuracy: 77.00%  Demographic disparity: 0.07\n",
      "| Test Accuracy: 0.733(0.077) | Demographic disparity: 0.081(0.070) |\n",
      "| Time elapsed: 812.02 seconds |\n"
     ]
    },
    {
     "name": "stderr",
     "output_type": "stream",
     "text": [
      "\n"
     ]
    },
    {
     "data": {
      "text/plain": [
       "(0.7334999999999998,\n",
       " 0.07741285422977247,\n",
       " 0.08146406703418099,\n",
       " 0.06976321939991738)"
      ]
     },
     "execution_count": 2,
     "metadata": {},
     "output_type": "execute_result"
    }
   ],
   "source": [
    "runSim(num_sim = 20, train_samples = 3000, test_samples = 100, learning_rate = 0.005, num_rounds = 10, \n",
    "          local_epochs = 30, alpha = 1, metric = \"Demographic disparity\", adaptive_alpha = True)"
   ]
  },
  {
   "cell_type": "code",
   "execution_count": 4,
   "metadata": {},
   "outputs": [],
   "source": [
    "synthetic_info = dataGenerate(seed = 40, train_samples = 3000, test_samples = 100)"
   ]
  },
  {
   "cell_type": "code",
   "execution_count": 7,
   "metadata": {},
   "outputs": [
    {
     "name": "stderr",
     "output_type": "stream",
     "text": [
      "\n",
      "\n",
      "  0%|          | 0/10 [00:00<?, ?it/s]\u001b[A\u001b[A"
     ]
    },
    {
     "name": "stdout",
     "output_type": "stream",
     "text": [
      "\n",
      " | Global Training Round : 1 |\n",
      "\n"
     ]
    },
    {
     "name": "stderr",
     "output_type": "stream",
     "text": [
      "\n",
      "\n",
      " 10%|█         | 1/10 [00:02<00:26,  2.96s/it]\u001b[A\u001b[A"
     ]
    },
    {
     "name": "stdout",
     "output_type": "stream",
     "text": [
      "Client 0: accuracy loss: 2.96 | fairness loss 0.15 | Demographic disparity = 0.50\n",
      "Client 1: accuracy loss: 2.78 | fairness loss 0.17 | Demographic disparity = 0.44\n",
      "Client 2: accuracy loss: 1.76 | fairness loss 0.28 | Demographic disparity = 0.38\n",
      " \n",
      "Avg Training Stats after 1 global rounds:\n",
      "Training loss: 35.02 | Training accuracy: 88.78% | Training Demographic disparity: 0.4522\n",
      "\n",
      " | Global Training Round : 2 |\n",
      "\n"
     ]
    },
    {
     "name": "stderr",
     "output_type": "stream",
     "text": [
      "\n",
      "\n",
      " 20%|██        | 2/10 [00:06<00:24,  3.00s/it]\u001b[A\u001b[A"
     ]
    },
    {
     "name": "stdout",
     "output_type": "stream",
     "text": [
      "Client 0: accuracy loss: 2.95 | fairness loss 0.21 | Demographic disparity = 0.36\n",
      "Client 1: accuracy loss: 3.25 | fairness loss 0.28 | Demographic disparity = 0.29\n",
      "Client 2: accuracy loss: 2.20 | fairness loss 0.43 | Demographic disparity = 0.25\n",
      " \n",
      "Avg Training Stats after 2 global rounds:\n",
      "Training loss: 42.26 | Training accuracy: 85.69% | Training Demographic disparity: 0.3112\n",
      "\n",
      " | Global Training Round : 3 |\n",
      "\n"
     ]
    },
    {
     "name": "stderr",
     "output_type": "stream",
     "text": [
      "\n",
      "\n",
      " 30%|███       | 3/10 [00:09<00:21,  3.04s/it]\u001b[A\u001b[A"
     ]
    },
    {
     "name": "stdout",
     "output_type": "stream",
     "text": [
      "Client 0: accuracy loss: 2.90 | fairness loss 0.23 | Demographic disparity = 0.32\n",
      "Client 1: accuracy loss: 3.60 | fairness loss 0.29 | Demographic disparity = 0.24\n",
      "Client 2: accuracy loss: 2.64 | fairness loss 0.48 | Demographic disparity = 0.19\n",
      " \n",
      "Avg Training Stats after 3 global rounds:\n",
      "Training loss: 43.09 | Training accuracy: 84.03% | Training Demographic disparity: 0.2578\n",
      "\n",
      " | Global Training Round : 4 |\n",
      "\n"
     ]
    },
    {
     "name": "stderr",
     "output_type": "stream",
     "text": [
      "\n",
      "\n",
      " 40%|████      | 4/10 [00:12<00:19,  3.17s/it]\u001b[A\u001b[A"
     ]
    },
    {
     "name": "stdout",
     "output_type": "stream",
     "text": [
      "Client 0: accuracy loss: 2.99 | fairness loss 0.28 | Demographic disparity = 0.24\n",
      "Client 1: accuracy loss: 4.10 | fairness loss 0.32 | Demographic disparity = 0.20\n",
      "Client 2: accuracy loss: 3.23 | fairness loss 0.55 | Demographic disparity = 0.14\n",
      " \n",
      "Avg Training Stats after 4 global rounds:\n",
      "Training loss: 42.87 | Training accuracy: 81.75% | Training Demographic disparity: 0.2010\n",
      "\n",
      " | Global Training Round : 5 |\n",
      "\n"
     ]
    },
    {
     "name": "stderr",
     "output_type": "stream",
     "text": [
      "\n",
      "\n",
      " 50%|█████     | 5/10 [00:15<00:15,  3.18s/it]\u001b[A\u001b[A"
     ]
    },
    {
     "name": "stdout",
     "output_type": "stream",
     "text": [
      "Client 0: accuracy loss: 3.15 | fairness loss 0.33 | Demographic disparity = 0.14\n",
      "Client 1: accuracy loss: 4.63 | fairness loss 0.36 | Demographic disparity = 0.20\n",
      "Client 2: accuracy loss: 3.86 | fairness loss 0.63 | Demographic disparity = 0.08\n",
      " \n",
      "Avg Training Stats after 5 global rounds:\n",
      "Training loss: 42.47 | Training accuracy: 79.48% | Training Demographic disparity: 0.1535\n",
      "\n",
      " | Global Training Round : 6 |\n",
      "\n"
     ]
    },
    {
     "name": "stderr",
     "output_type": "stream",
     "text": [
      "\n",
      "\n",
      " 60%|██████    | 6/10 [00:18<00:12,  3.16s/it]\u001b[A\u001b[A"
     ]
    },
    {
     "name": "stdout",
     "output_type": "stream",
     "text": [
      "Client 0: accuracy loss: 3.32 | fairness loss 0.38 | Demographic disparity = 0.10\n",
      "Client 1: accuracy loss: 5.14 | fairness loss 0.41 | Demographic disparity = 0.15\n",
      "Client 2: accuracy loss: 4.46 | fairness loss 0.70 | Demographic disparity = 0.05\n",
      " \n",
      "Avg Training Stats after 6 global rounds:\n",
      "Training loss: 42.07 | Training accuracy: 77.38% | Training Demographic disparity: 0.1086\n",
      "\n",
      " | Global Training Round : 7 |\n",
      "\n"
     ]
    },
    {
     "name": "stderr",
     "output_type": "stream",
     "text": [
      "\n",
      "\n",
      " 70%|███████   | 7/10 [00:22<00:09,  3.13s/it]\u001b[A\u001b[A"
     ]
    },
    {
     "name": "stdout",
     "output_type": "stream",
     "text": [
      "Client 0: accuracy loss: 3.49 | fairness loss 0.43 | Demographic disparity = 0.03\n",
      "Client 1: accuracy loss: 5.61 | fairness loss 0.45 | Demographic disparity = 0.07\n",
      "Client 2: accuracy loss: 5.01 | fairness loss 0.77 | Demographic disparity = 0.03\n",
      " \n",
      "Avg Training Stats after 7 global rounds:\n",
      "Training loss: 41.72 | Training accuracy: 74.70% | Training Demographic disparity: 0.0492\n",
      "\n",
      " | Global Training Round : 8 |\n",
      "\n"
     ]
    },
    {
     "name": "stderr",
     "output_type": "stream",
     "text": [
      "\n",
      "\n",
      " 80%|████████  | 8/10 [00:25<00:06,  3.14s/it]\u001b[A\u001b[A"
     ]
    },
    {
     "name": "stdout",
     "output_type": "stream",
     "text": [
      "Client 0: accuracy loss: 3.90 | fairness loss 0.51 | Demographic disparity = 0.02\n",
      "Client 1: accuracy loss: 6.48 | fairness loss 0.53 | Demographic disparity = 0.04\n",
      "Client 2: accuracy loss: 6.02 | fairness loss 0.88 | Demographic disparity = 0.03\n",
      " \n",
      "Avg Training Stats after 8 global rounds:\n",
      "Training loss: 41.17 | Training accuracy: 71.48% | Training Demographic disparity: 0.0010\n",
      "\n",
      " | Global Training Round : 9 |\n",
      "\n"
     ]
    },
    {
     "name": "stderr",
     "output_type": "stream",
     "text": [
      "\n",
      "\n",
      " 90%|█████████ | 9/10 [00:28<00:03,  3.19s/it]\u001b[A\u001b[A"
     ]
    },
    {
     "name": "stdout",
     "output_type": "stream",
     "text": [
      "Client 0: accuracy loss: 3.67 | fairness loss 0.48 | Demographic disparity = 0.02\n",
      "Client 1: accuracy loss: 6.02 | fairness loss 0.47 | Demographic disparity = 0.06\n",
      "Client 2: accuracy loss: 5.41 | fairness loss 0.82 | Demographic disparity = 0.02\n",
      " \n",
      "Avg Training Stats after 9 global rounds:\n",
      "Training loss: 40.95 | Training accuracy: 72.49% | Training Demographic disparity: 0.0189\n",
      "\n",
      " | Global Training Round : 10 |\n",
      "\n"
     ]
    },
    {
     "name": "stderr",
     "output_type": "stream",
     "text": [
      "\n",
      "\n",
      "100%|██████████| 10/10 [00:31<00:00,  3.15s/it]\u001b[A\u001b[A"
     ]
    },
    {
     "name": "stdout",
     "output_type": "stream",
     "text": [
      "Client 0: accuracy loss: 3.69 | fairness loss 0.48 | Demographic disparity = 0.02\n",
      "Client 1: accuracy loss: 6.09 | fairness loss 0.48 | Demographic disparity = 0.06\n",
      "Client 2: accuracy loss: 5.48 | fairness loss 0.83 | Demographic disparity = 0.02\n",
      " \n",
      "Avg Training Stats after 10 global rounds:\n",
      "Training loss: 40.78 | Training accuracy: 72.49% | Training Demographic disparity: 0.0189\n",
      " \n",
      " Results after 11 global rounds of training:\n",
      "|---- Avg Train Accuracy: 72.49%\n",
      "|---- Test Accuracy: 81.00%\n",
      "|---- Test Demographic disparity: 0.0571\n",
      "\n",
      " Total Run Time: 31.6071 sec\n"
     ]
    },
    {
     "name": "stderr",
     "output_type": "stream",
     "text": [
      "\n"
     ]
    }
   ],
   "source": [
    "train(logReg(num_features=3, num_classes=2), synthetic_info,\n",
    "      option = \"FairBatch\", optimizer = 'adam', learning_rate = 0.005, metric = \"Demographic disparity\",\n",
    "      num_rounds = 10, local_epochs = 30, alpha = 1, train_prn = False, adaptive_alpha = True, seed = 40)"
   ]
  },
  {
   "cell_type": "code",
   "execution_count": null,
   "metadata": {},
   "outputs": [],
   "source": []
  }
 ],
 "metadata": {
  "kernelspec": {
   "display_name": "Python 3",
   "language": "python",
   "name": "python3"
  },
  "language_info": {
   "codemirror_mode": {
    "name": "ipython",
    "version": 3
   },
   "file_extension": ".py",
   "mimetype": "text/x-python",
   "name": "python",
   "nbconvert_exporter": "python",
   "pygments_lexer": "ipython3",
   "version": "3.7.4"
  }
 },
 "nbformat": 4,
 "nbformat_minor": 2
}
