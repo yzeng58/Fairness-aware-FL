{
 "cells": [
  {
   "cell_type": "code",
   "execution_count": 1,
   "metadata": {},
   "outputs": [],
   "source": [
    "# import the training method \n",
    "from FairFedAvg import *\n",
    "\n",
    "import time"
   ]
  },
  {
   "cell_type": "code",
   "execution_count": 2,
   "metadata": {},
   "outputs": [],
   "source": [
    "synthetic_info = dataGenerate(seed = 2, train_samples = 3000, test_samples = 100)"
   ]
  },
  {
   "cell_type": "code",
   "execution_count": 3,
   "metadata": {},
   "outputs": [
    {
     "name": "stderr",
     "output_type": "stream",
     "text": [
      "100%|██████████| 1/1 [00:00<00:00,  4.94it/s]"
     ]
    },
    {
     "name": "stdout",
     "output_type": "stream",
     "text": [
      "\n",
      " | Global Training Round : 1 |\n",
      "\n",
      "Client 0: accuracy loss: 2.86 | fairness loss 0.05 | Demographic disparity = 0.73\n",
      "Client 1: accuracy loss: 1.60 | fairness loss 0.14 | Demographic disparity = 0.45\n",
      "Client 2: accuracy loss: 2.54 | fairness loss 0.13 | Demographic disparity = 0.41\n",
      " \n",
      "Avg Training Stats after 1 global rounds:\n",
      "Training loss: 64.45 | Training accuracy: 90.16% | Training Demographic disparity: 0.4967\n",
      " \n",
      " Results after 2 global rounds of training:\n",
      "|---- Avg Train Accuracy: 90.16%\n",
      "|---- Test Accuracy: 85.00%\n",
      "|---- Test Demographic disparity: 0.4161\n",
      "\n",
      " Total Run Time: 0.2387 sec\n"
     ]
    },
    {
     "name": "stderr",
     "output_type": "stream",
     "text": [
      "\n"
     ]
    }
   ],
   "source": [
    "train(logReg(num_features=3, num_classes=2), synthetic_info,\n",
    "      option = \"FairBatch\", optimizer = 'sgd', learning_rate = 0.002, metric = \"Demographic disparity\",\n",
    "      num_rounds = 1, local_epochs = 1, alpha = 0.05, train_prn = False)"
   ]
  },
  {
   "cell_type": "code",
   "execution_count": null,
   "metadata": {},
   "outputs": [
    {
     "name": "stderr",
     "output_type": "stream",
     "text": [
      "\r",
      "  0%|          | 0/20 [00:00<?, ?it/s]"
     ]
    },
    {
     "name": "stdout",
     "output_type": "stream",
     "text": [
      "\n",
      " | Global Training Round : 1 |\n",
      "\n"
     ]
    },
    {
     "name": "stderr",
     "output_type": "stream",
     "text": [
      "\r",
      "  5%|▌         | 1/20 [00:04<01:17,  4.08s/it]"
     ]
    },
    {
     "name": "stdout",
     "output_type": "stream",
     "text": [
      "Client 0: accuracy loss: 3.26 | fairness loss 0.13 | Demographic disparity = 0.40\n",
      "Client 1: accuracy loss: 3.93 | fairness loss 0.32 | Demographic disparity = 0.35\n",
      "Client 2: accuracy loss: 2.47 | fairness loss 0.34 | Demographic disparity = 0.33\n",
      " \n",
      "Avg Training Stats after 1 global rounds:\n",
      "Training loss: 34.05 | Training accuracy: 84.76% | Training Demographic disparity: 0.3519\n",
      "\n",
      " | Global Training Round : 2 |\n",
      "\n"
     ]
    },
    {
     "name": "stderr",
     "output_type": "stream",
     "text": [
      "\r",
      " 10%|█         | 2/20 [00:07<01:12,  4.02s/it]"
     ]
    },
    {
     "name": "stdout",
     "output_type": "stream",
     "text": [
      "Client 0: accuracy loss: 3.27 | fairness loss 0.10 | Demographic disparity = 0.39\n",
      "Client 1: accuracy loss: 3.84 | fairness loss 0.27 | Demographic disparity = 0.32\n",
      "Client 2: accuracy loss: 2.53 | fairness loss 0.28 | Demographic disparity = 0.26\n",
      " \n",
      "Avg Training Stats after 2 global rounds:\n",
      "Training loss: 35.41 | Training accuracy: 85.59% | Training Demographic disparity: 0.3209\n",
      "\n",
      " | Global Training Round : 3 |\n",
      "\n"
     ]
    },
    {
     "name": "stderr",
     "output_type": "stream",
     "text": [
      "\r",
      " 15%|█▌        | 3/20 [00:11<01:07,  3.96s/it]"
     ]
    },
    {
     "name": "stdout",
     "output_type": "stream",
     "text": [
      "Client 0: accuracy loss: 3.33 | fairness loss 0.09 | Demographic disparity = 0.38\n",
      "Client 1: accuracy loss: 3.82 | fairness loss 0.24 | Demographic disparity = 0.29\n",
      "Client 2: accuracy loss: 2.62 | fairness loss 0.25 | Demographic disparity = 0.25\n",
      " \n",
      "Avg Training Stats after 3 global rounds:\n",
      "Training loss: 36.63 | Training accuracy: 86.96% | Training Demographic disparity: 0.2980\n",
      "\n",
      " | Global Training Round : 4 |\n",
      "\n"
     ]
    },
    {
     "name": "stderr",
     "output_type": "stream",
     "text": [
      "\r",
      " 20%|██        | 4/20 [00:15<01:03,  3.97s/it]"
     ]
    },
    {
     "name": "stdout",
     "output_type": "stream",
     "text": [
      "Client 0: accuracy loss: 3.44 | fairness loss 0.07 | Demographic disparity = 0.38\n",
      "Client 1: accuracy loss: 3.89 | fairness loss 0.19 | Demographic disparity = 0.27\n",
      "Client 2: accuracy loss: 2.81 | fairness loss 0.20 | Demographic disparity = 0.20\n",
      " \n",
      "Avg Training Stats after 4 global rounds:\n",
      "Training loss: 37.69 | Training accuracy: 85.38% | Training Demographic disparity: 0.2721\n",
      "\n",
      " | Global Training Round : 5 |\n",
      "\n"
     ]
    },
    {
     "name": "stderr",
     "output_type": "stream",
     "text": [
      "\r",
      " 25%|██▌       | 5/20 [00:19<01:00,  4.02s/it]"
     ]
    },
    {
     "name": "stdout",
     "output_type": "stream",
     "text": [
      "Client 0: accuracy loss: 3.59 | fairness loss 0.05 | Demographic disparity = 0.27\n",
      "Client 1: accuracy loss: 3.98 | fairness loss 0.15 | Demographic disparity = 0.26\n",
      "Client 2: accuracy loss: 3.04 | fairness loss 0.16 | Demographic disparity = 0.19\n",
      " \n",
      "Avg Training Stats after 5 global rounds:\n",
      "Training loss: 38.53 | Training accuracy: 83.49% | Training Demographic disparity: 0.2447\n",
      "\n",
      " | Global Training Round : 6 |\n",
      "\n"
     ]
    },
    {
     "name": "stderr",
     "output_type": "stream",
     "text": [
      "\r",
      " 30%|███       | 6/20 [00:24<00:56,  4.04s/it]"
     ]
    },
    {
     "name": "stdout",
     "output_type": "stream",
     "text": [
      "Client 0: accuracy loss: 3.69 | fairness loss 0.05 | Demographic disparity = 0.21\n",
      "Client 1: accuracy loss: 4.04 | fairness loss 0.14 | Demographic disparity = 0.23\n",
      "Client 2: accuracy loss: 3.24 | fairness loss 0.14 | Demographic disparity = 0.16\n",
      " \n",
      "Avg Training Stats after 6 global rounds:\n",
      "Training loss: 39.28 | Training accuracy: 82.05% | Training Demographic disparity: 0.2174\n",
      "\n",
      " | Global Training Round : 7 |\n",
      "\n"
     ]
    },
    {
     "name": "stderr",
     "output_type": "stream",
     "text": [
      "\r",
      " 35%|███▌      | 7/20 [00:27<00:51,  3.96s/it]"
     ]
    },
    {
     "name": "stdout",
     "output_type": "stream",
     "text": [
      "Client 0: accuracy loss: 3.87 | fairness loss 0.05 | Demographic disparity = 0.16\n",
      "Client 1: accuracy loss: 4.28 | fairness loss 0.13 | Demographic disparity = 0.20\n",
      "Client 2: accuracy loss: 3.65 | fairness loss 0.13 | Demographic disparity = 0.08\n",
      " \n",
      "Avg Training Stats after 7 global rounds:\n",
      "Training loss: 39.78 | Training accuracy: 78.79% | Training Demographic disparity: 0.1578\n",
      "\n",
      " | Global Training Round : 8 |\n",
      "\n"
     ]
    },
    {
     "name": "stderr",
     "output_type": "stream",
     "text": [
      "\r",
      " 40%|████      | 8/20 [00:31<00:46,  3.92s/it]"
     ]
    },
    {
     "name": "stdout",
     "output_type": "stream",
     "text": [
      "Client 0: accuracy loss: 4.40 | fairness loss 0.07 | Demographic disparity = 0.06\n",
      "Client 1: accuracy loss: 5.11 | fairness loss 0.12 | Demographic disparity = 0.10\n",
      "Client 2: accuracy loss: 4.93 | fairness loss 0.11 | Demographic disparity = 0.04\n",
      " \n",
      "Avg Training Stats after 8 global rounds:\n",
      "Training loss: 39.95 | Training accuracy: 72.31% | Training Demographic disparity: 0.0517\n",
      "\n",
      " | Global Training Round : 9 |\n",
      "\n"
     ]
    },
    {
     "name": "stderr",
     "output_type": "stream",
     "text": [
      "\r",
      " 45%|████▌     | 9/20 [00:35<00:42,  3.84s/it]"
     ]
    },
    {
     "name": "stdout",
     "output_type": "stream",
     "text": [
      "Client 0: accuracy loss: 4.92 | fairness loss 0.13 | Demographic disparity = 0.03\n",
      "Client 1: accuracy loss: 6.09 | fairness loss 0.17 | Demographic disparity = 0.01\n",
      "Client 2: accuracy loss: 6.29 | fairness loss 0.14 | Demographic disparity = 0.07\n",
      " \n",
      "Avg Training Stats after 9 global rounds:\n",
      "Training loss: 39.95 | Training accuracy: 71.11% | Training Demographic disparity: 0.0060\n",
      "\n",
      " | Global Training Round : 10 |\n",
      "\n"
     ]
    },
    {
     "name": "stderr",
     "output_type": "stream",
     "text": [
      "\r",
      " 50%|█████     | 10/20 [00:39<00:40,  4.08s/it]"
     ]
    },
    {
     "name": "stdout",
     "output_type": "stream",
     "text": [
      "Client 0: accuracy loss: 4.40 | fairness loss 0.09 | Demographic disparity = 0.06\n",
      "Client 1: accuracy loss: 5.08 | fairness loss 0.16 | Demographic disparity = 0.07\n",
      "Client 2: accuracy loss: 4.92 | fairness loss 0.15 | Demographic disparity = 0.03\n",
      " \n",
      "Avg Training Stats after 10 global rounds:\n",
      "Training loss: 40.20 | Training accuracy: 72.05% | Training Demographic disparity: 0.0469\n",
      "\n",
      " | Global Training Round : 11 |\n",
      "\n"
     ]
    },
    {
     "name": "stderr",
     "output_type": "stream",
     "text": [
      "\r",
      " 55%|█████▌    | 11/20 [00:44<00:37,  4.22s/it]"
     ]
    },
    {
     "name": "stdout",
     "output_type": "stream",
     "text": [
      "Client 0: accuracy loss: 5.13 | fairness loss 0.15 | Demographic disparity = 0.07\n",
      "Client 1: accuracy loss: 6.49 | fairness loss 0.20 | Demographic disparity = 0.01\n",
      "Client 2: accuracy loss: 6.81 | fairness loss 0.16 | Demographic disparity = 0.08\n",
      " \n",
      "Avg Training Stats after 11 global rounds:\n",
      "Training loss: 40.14 | Training accuracy: 69.77% | Training Demographic disparity: 0.0252\n",
      "\n",
      " | Global Training Round : 12 |\n",
      "\n"
     ]
    },
    {
     "name": "stderr",
     "output_type": "stream",
     "text": [
      "\r",
      " 60%|██████    | 12/20 [00:48<00:33,  4.18s/it]"
     ]
    },
    {
     "name": "stdout",
     "output_type": "stream",
     "text": [
      "Client 0: accuracy loss: 4.48 | fairness loss 0.10 | Demographic disparity = 0.06\n",
      "Client 1: accuracy loss: 5.21 | fairness loss 0.17 | Demographic disparity = 0.07\n",
      "Client 2: accuracy loss: 5.11 | fairness loss 0.16 | Demographic disparity = 0.04\n",
      " \n",
      "Avg Training Stats after 12 global rounds:\n",
      "Training loss: 40.34 | Training accuracy: 71.66% | Training Demographic disparity: 0.0421\n",
      "\n",
      " | Global Training Round : 13 |\n",
      "\n"
     ]
    }
   ],
   "source": [
    "train(logReg(num_features=3, num_classes=2), synthetic_info,\n",
    "      option = \"FairBatch\", optimizer = 'sgd', learning_rate = 0.002, metric = \"Demographic disparity\",\n",
    "      num_rounds = 20, local_epochs = 40, alpha = 0.1, train_prn = False, adaptive_alpha = True)"
   ]
  },
  {
   "cell_type": "code",
   "execution_count": null,
   "metadata": {},
   "outputs": [],
   "source": [
    "def runSim(num_sim = 20, train_samples = 1000, test_samples = 100, learning_rate = 0.005, num_rounds = 20, \n",
    "          local_epochs = 50, alpha = 0.05, metric = \"Demographic disparity\"):\n",
    "    \"\"\"\n",
    "    Run simulations.\n",
    "    \"\"\"\n",
    "    \n",
    "    test_acc, rd = [], []\n",
    "    start = time.time()\n",
    "    \n",
    "    for i in range(num_sim):\n",
    "        seed = int(time.time()%1000)\n",
    "        print(\"  |  Simulation : %d | \" % (i+1))\n",
    "        print(\"      seed : %d -----\" % seed)\n",
    "        \n",
    "        # generate the synthetic dataset\n",
    "        synthetic_info = dataGenerate(seed = seed, train_samples = train_samples, test_samples = test_samples)\n",
    "        \n",
    "        # train the model with the synthetic dataset\n",
    "        test_acc_i, rd_i = train(logReg(num_features=3, num_classes=2), synthetic_info,\n",
    "          option = \"FairBatch\", optimizer = 'sgd', learning_rate = learning_rate, metric = metric,\n",
    "          num_rounds = num_rounds, local_epochs = local_epochs, alpha = alpha, ret = True, seed = seed)\n",
    "        \n",
    "        test_acc.append(test_acc_i)\n",
    "        rd.append(rd_i)\n",
    "        \n",
    "        print(\"      Accuracy: %.2f%%  %s: %.2f\" % (test_acc_i * 100, metric, rd_i))\n",
    "        \n",
    "    mean_acc, std_acc, mean_rd, std_rd = np.mean(test_acc), np.std(test_acc), np.mean(rd), np.std(rd)\n",
    "    print(\"| Test Accuracy: %.3f(%.3f) | %s: %.3f(%.3f) |\" % (mean_acc, std_acc, metric, mean_rd, std_rd))\n",
    "    \n",
    "    print(\"| Time elapsed: %.2f seconds |\" % (time.time() - start))\n",
    "    return mean_acc, std_acc, mean_rd, std_rd"
   ]
  },
  {
   "cell_type": "code",
   "execution_count": 3,
   "metadata": {},
   "outputs": [
    {
     "name": "stdout",
     "output_type": "stream",
     "text": [
      "  |  Simulation : 1 | \n",
      "      seed : 714 -----\n"
     ]
    },
    {
     "ename": "NameError",
     "evalue": "name 'train' is not defined",
     "output_type": "error",
     "traceback": [
      "\u001b[0;31m---------------------------------------------------------------------------\u001b[0m",
      "\u001b[0;31mNameError\u001b[0m                                 Traceback (most recent call last)",
      "\u001b[0;32m<ipython-input-3-062c7a1b744f>\u001b[0m in \u001b[0;36m<module>\u001b[0;34m\u001b[0m\n\u001b[1;32m      1\u001b[0m runSim(num_sim = 20, train_samples = 1000, test_samples = 100, learning_rate = 0.005, num_rounds = 20, \n\u001b[0;32m----> 2\u001b[0;31m           local_epochs = 50, alpha = 0.05, metric = \"Demographic disparity\")\n\u001b[0m",
      "\u001b[0;32m~/Google Drive/办公/research/code/Fair-FedAvg/utils.py\u001b[0m in \u001b[0;36mrunSim\u001b[0;34m(num_sim, train_samples, test_samples, learning_rate, num_rounds, local_epochs, alpha, metric)\u001b[0m\n\u001b[1;32m    181\u001b[0m \u001b[0;34m\u001b[0m\u001b[0m\n\u001b[1;32m    182\u001b[0m         \u001b[0;31m# train the model with the synthetic dataset\u001b[0m\u001b[0;34m\u001b[0m\u001b[0;34m\u001b[0m\u001b[0;34m\u001b[0m\u001b[0m\n\u001b[0;32m--> 183\u001b[0;31m         test_acc_i, rd_i = train(logReg(num_features=3, num_classes=2), synthetic_info,\n\u001b[0m\u001b[1;32m    184\u001b[0m           \u001b[0moption\u001b[0m \u001b[0;34m=\u001b[0m \u001b[0;34m\"FairBatch\"\u001b[0m\u001b[0;34m,\u001b[0m \u001b[0moptimizer\u001b[0m \u001b[0;34m=\u001b[0m \u001b[0;34m'sgd'\u001b[0m\u001b[0;34m,\u001b[0m \u001b[0mlearning_rate\u001b[0m \u001b[0;34m=\u001b[0m \u001b[0mlearning_rate\u001b[0m\u001b[0;34m,\u001b[0m \u001b[0mmetric\u001b[0m \u001b[0;34m=\u001b[0m \u001b[0mmetric\u001b[0m\u001b[0;34m,\u001b[0m\u001b[0;34m\u001b[0m\u001b[0;34m\u001b[0m\u001b[0m\n\u001b[1;32m    185\u001b[0m           num_rounds = num_rounds, local_epochs = local_epochs, alpha = alpha, ret = True, seed = seed)\n",
      "\u001b[0;31mNameError\u001b[0m: name 'train' is not defined"
     ]
    }
   ],
   "source": [
    "runSim(num_sim = 20, train_samples = 1000, test_samples = 100, learning_rate = 0.005, num_rounds = 20, \n",
    "          local_epochs = 50, alpha = 0.05, metric = \"Demographic disparity\")"
   ]
  },
  {
   "cell_type": "code",
   "execution_count": null,
   "metadata": {},
   "outputs": [],
   "source": []
  }
 ],
 "metadata": {
  "kernelspec": {
   "display_name": "Python 3",
   "language": "python",
   "name": "python3"
  },
  "language_info": {
   "codemirror_mode": {
    "name": "ipython",
    "version": 3
   },
   "file_extension": ".py",
   "mimetype": "text/x-python",
   "name": "python",
   "nbconvert_exporter": "python",
   "pygments_lexer": "ipython3",
   "version": "3.7.4"
  }
 },
 "nbformat": 4,
 "nbformat_minor": 2
}
