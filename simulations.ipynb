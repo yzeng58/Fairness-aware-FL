{
 "cells": [
  {
   "cell_type": "code",
   "execution_count": 1,
   "metadata": {},
   "outputs": [],
   "source": [
    "# import the synthetic dataset\n",
    "from syntheticDataGenerate import *\n",
    "# import the training method \n",
    "from FairFedAvg import *\n",
    "\n",
    "import time"
   ]
  },
  {
   "cell_type": "code",
   "execution_count": 2,
   "metadata": {},
   "outputs": [],
   "source": [
    "synthetic_info = dataGenerate(seed = 2, train_samples = 3000, test_samples = 100)"
   ]
  },
  {
   "cell_type": "code",
   "execution_count": null,
   "metadata": {},
   "outputs": [
    {
     "name": "stderr",
     "output_type": "stream",
     "text": [
      "\r",
      "  0%|          | 0/1 [00:00<?, ?it/s]"
     ]
    }
   ],
   "source": [
    "train(logReg(num_features=3, num_classes=2), synthetic_info,\n",
    "      option = \"FairBatch\", optimizer = 'sgd', learning_rate = 0.005, metric = \"Demographic disparity\",\n",
    "      num_rounds = 1, local_epochs = 1, alpha = 0.05, ret = True, train_prn = False)"
   ]
  },
  {
   "cell_type": "code",
   "execution_count": null,
   "metadata": {},
   "outputs": [
    {
     "name": "stderr",
     "output_type": "stream",
     "text": [
      "\r",
      "  0%|          | 0/1 [00:00<?, ?it/s]"
     ]
    }
   ],
   "source": [
    "train(logReg(num_features=3, num_classes=2), synthetic_info,\n",
    "      option = \"FairBatch\", optimizer = 'sgd', learning_rate = 0.005, metric = \"Demographic disparity\",\n",
    "      num_rounds = 1, local_epochs = 1, alpha = 0.05, ret = True)"
   ]
  },
  {
   "cell_type": "code",
   "execution_count": 1,
   "metadata": {},
   "outputs": [
    {
     "ename": "NameError",
     "evalue": "name 'train' is not defined",
     "output_type": "error",
     "traceback": [
      "\u001b[0;31m---------------------------------------------------------------------------\u001b[0m",
      "\u001b[0;31mNameError\u001b[0m                                 Traceback (most recent call last)",
      "\u001b[0;32m<ipython-input-1-bb9e07333ea1>\u001b[0m in \u001b[0;36m<module>\u001b[0;34m\u001b[0m\n\u001b[0;32m----> 1\u001b[0;31m train(logReg(num_features=3, num_classes=2), synthetic_info,\n\u001b[0m\u001b[1;32m      2\u001b[0m       \u001b[0moption\u001b[0m \u001b[0;34m=\u001b[0m \u001b[0;34m\"FairBatch\"\u001b[0m\u001b[0;34m,\u001b[0m \u001b[0moptimizer\u001b[0m \u001b[0;34m=\u001b[0m \u001b[0;34m'sgd'\u001b[0m\u001b[0;34m,\u001b[0m \u001b[0mlearning_rate\u001b[0m \u001b[0;34m=\u001b[0m \u001b[0;36m0.002\u001b[0m\u001b[0;34m,\u001b[0m \u001b[0mmetric\u001b[0m \u001b[0;34m=\u001b[0m \u001b[0;34m\"Demographic disparity\"\u001b[0m\u001b[0;34m,\u001b[0m\u001b[0;34m\u001b[0m\u001b[0;34m\u001b[0m\u001b[0m\n\u001b[1;32m      3\u001b[0m       num_rounds = 50, local_epochs = 50, alpha = 0.05, train_prn = False)\n",
      "\u001b[0;31mNameError\u001b[0m: name 'train' is not defined"
     ]
    }
   ],
   "source": [
    "train(logReg(num_features=3, num_classes=2), synthetic_info,\n",
    "      option = \"FairBatch\", optimizer = 'sgd', learning_rate = 0.002, metric = \"Demographic disparity\",\n",
    "      num_rounds = 50, local_epochs = 50, alpha = 0.05, train_prn = False)"
   ]
  },
  {
   "cell_type": "code",
   "execution_count": 17,
   "metadata": {},
   "outputs": [],
   "source": [
    "def runSim(num_sim = 20, train_samples = 1000, test_samples = 100, learning_rate = 0.005, num_rounds = 20, \n",
    "          local_epochs = 50, alpha = 0.05, metric = \"Demographic disparity\"):\n",
    "    \"\"\"\n",
    "    Run simulations.\n",
    "    \"\"\"\n",
    "    \n",
    "    test_acc, rd = [], []\n",
    "    start = time.time()\n",
    "    \n",
    "    for i in range(num_sim):\n",
    "        seed = int(time.time()%1000)\n",
    "        print(\"  |  Simulation : %d | \" % (i+1))\n",
    "        print(\"      seed : %d -----\" % seed)\n",
    "        \n",
    "        # generate the synthetic dataset\n",
    "        synthetic_info = dataGenerate(seed = seed, train_samples = train_samples, test_samples = test_samples)\n",
    "        \n",
    "        # train the model with the synthetic dataset\n",
    "        test_acc_i, rd_i = train(logReg(num_features=3, num_classes=2), synthetic_info,\n",
    "          option = \"FairBatch\", optimizer = 'sgd', learning_rate = learning_rate, metric = metric,\n",
    "          num_rounds = num_rounds, local_epochs = local_epochs, alpha = alpha, ret = True, seed = seed)\n",
    "        \n",
    "        test_acc.append(test_acc_i)\n",
    "        rd.append(rd_i)\n",
    "        \n",
    "        print(\"      Accuracy: %.2f%%  %s: %.2f\" % (test_acc_i * 100, metric, rd_i))\n",
    "        \n",
    "    mean_acc, std_acc, mean_rd, std_rd = np.mean(test_acc), np.std(test_acc), np.mean(rd), np.std(rd)\n",
    "    print(\"| Test Accuracy: %.3f(%.3f) | %s: %.3f(%.3f) |\" % (mean_acc, std_acc, metric, mean_rd, std_rd))\n",
    "    \n",
    "    print(\"| Time elapsed: %.2f seconds |\" % (time.time() - start))\n",
    "    return mean_acc, std_acc, mean_rd, std_rd"
   ]
  },
  {
   "cell_type": "code",
   "execution_count": 18,
   "metadata": {},
   "outputs": [
    {
     "name": "stdout",
     "output_type": "stream",
     "text": [
      "  |  Simulation : 1 | \n",
      "      seed : 819 -----\n"
     ]
    },
    {
     "name": "stderr",
     "output_type": "stream",
     "text": [
      "100%|██████████| 20/20 [00:17<00:00,  1.12it/s]\n"
     ]
    },
    {
     "name": "stdout",
     "output_type": "stream",
     "text": [
      "      Accuracy: 80.00%  Demographic disparity: 0.03\n",
      "  |  Simulation : 2 | \n",
      "      seed : 837 -----\n"
     ]
    },
    {
     "name": "stderr",
     "output_type": "stream",
     "text": [
      "100%|██████████| 20/20 [00:16<00:00,  1.19it/s]\n"
     ]
    },
    {
     "name": "stdout",
     "output_type": "stream",
     "text": [
      "      Accuracy: 62.00%  Demographic disparity: 0.15\n",
      "  |  Simulation : 3 | \n",
      "      seed : 854 -----\n"
     ]
    },
    {
     "name": "stderr",
     "output_type": "stream",
     "text": [
      "100%|██████████| 20/20 [00:16<00:00,  1.21it/s]\n"
     ]
    },
    {
     "name": "stdout",
     "output_type": "stream",
     "text": [
      "      Accuracy: 75.00%  Demographic disparity: 0.00\n",
      "  |  Simulation : 4 | \n",
      "      seed : 872 -----\n"
     ]
    },
    {
     "name": "stderr",
     "output_type": "stream",
     "text": [
      "100%|██████████| 20/20 [00:16<00:00,  1.23it/s]\n"
     ]
    },
    {
     "name": "stdout",
     "output_type": "stream",
     "text": [
      "      Accuracy: 72.00%  Demographic disparity: 0.13\n",
      "  |  Simulation : 5 | \n",
      "      seed : 889 -----\n"
     ]
    },
    {
     "name": "stderr",
     "output_type": "stream",
     "text": [
      "100%|██████████| 20/20 [00:16<00:00,  1.20it/s]\n"
     ]
    },
    {
     "name": "stdout",
     "output_type": "stream",
     "text": [
      "      Accuracy: 73.00%  Demographic disparity: 0.13\n",
      "  |  Simulation : 6 | \n",
      "      seed : 906 -----\n"
     ]
    },
    {
     "name": "stderr",
     "output_type": "stream",
     "text": [
      "100%|██████████| 20/20 [00:16<00:00,  1.24it/s]\n"
     ]
    },
    {
     "name": "stdout",
     "output_type": "stream",
     "text": [
      "      Accuracy: 63.00%  Demographic disparity: 0.09\n",
      "  |  Simulation : 7 | \n",
      "      seed : 922 -----\n"
     ]
    },
    {
     "name": "stderr",
     "output_type": "stream",
     "text": [
      "100%|██████████| 20/20 [00:18<00:00,  1.09it/s]\n"
     ]
    },
    {
     "name": "stdout",
     "output_type": "stream",
     "text": [
      "      Accuracy: 73.00%  Demographic disparity: 0.01\n",
      "  |  Simulation : 8 | \n",
      "      seed : 941 -----\n"
     ]
    },
    {
     "name": "stderr",
     "output_type": "stream",
     "text": [
      "100%|██████████| 20/20 [00:16<00:00,  1.25it/s]\n"
     ]
    },
    {
     "name": "stdout",
     "output_type": "stream",
     "text": [
      "      Accuracy: 66.00%  Demographic disparity: 0.09\n",
      "  |  Simulation : 9 | \n",
      "      seed : 958 -----\n"
     ]
    },
    {
     "name": "stderr",
     "output_type": "stream",
     "text": [
      "100%|██████████| 20/20 [00:16<00:00,  1.25it/s]\n"
     ]
    },
    {
     "name": "stdout",
     "output_type": "stream",
     "text": [
      "      Accuracy: 80.00%  Demographic disparity: 0.16\n",
      "  |  Simulation : 10 | \n",
      "      seed : 974 -----\n"
     ]
    },
    {
     "name": "stderr",
     "output_type": "stream",
     "text": [
      "100%|██████████| 20/20 [00:16<00:00,  1.23it/s]\n"
     ]
    },
    {
     "name": "stdout",
     "output_type": "stream",
     "text": [
      "      Accuracy: 80.00%  Demographic disparity: 0.14\n",
      "  |  Simulation : 11 | \n",
      "      seed : 991 -----\n"
     ]
    },
    {
     "name": "stderr",
     "output_type": "stream",
     "text": [
      "100%|██████████| 20/20 [00:15<00:00,  1.25it/s]\n"
     ]
    },
    {
     "name": "stdout",
     "output_type": "stream",
     "text": [
      "      Accuracy: 67.00%  Demographic disparity: 0.08\n",
      "  |  Simulation : 12 | \n",
      "      seed : 8 -----\n"
     ]
    },
    {
     "name": "stderr",
     "output_type": "stream",
     "text": [
      "100%|██████████| 20/20 [00:16<00:00,  1.23it/s]\n"
     ]
    },
    {
     "name": "stdout",
     "output_type": "stream",
     "text": [
      "      Accuracy: 77.00%  Demographic disparity: 0.02\n",
      "  |  Simulation : 13 | \n",
      "      seed : 25 -----\n"
     ]
    },
    {
     "name": "stderr",
     "output_type": "stream",
     "text": [
      "100%|██████████| 20/20 [00:16<00:00,  1.25it/s]\n"
     ]
    },
    {
     "name": "stdout",
     "output_type": "stream",
     "text": [
      "      Accuracy: 69.00%  Demographic disparity: 0.06\n",
      "  |  Simulation : 14 | \n",
      "      seed : 41 -----\n"
     ]
    },
    {
     "name": "stderr",
     "output_type": "stream",
     "text": [
      "100%|██████████| 20/20 [00:15<00:00,  1.25it/s]\n"
     ]
    },
    {
     "name": "stdout",
     "output_type": "stream",
     "text": [
      "      Accuracy: 74.00%  Demographic disparity: 0.04\n",
      "  |  Simulation : 15 | \n",
      "      seed : 58 -----\n"
     ]
    },
    {
     "name": "stderr",
     "output_type": "stream",
     "text": [
      "100%|██████████| 20/20 [00:16<00:00,  1.24it/s]\n"
     ]
    },
    {
     "name": "stdout",
     "output_type": "stream",
     "text": [
      "      Accuracy: 77.00%  Demographic disparity: 0.01\n",
      "  |  Simulation : 16 | \n",
      "      seed : 74 -----\n"
     ]
    },
    {
     "name": "stderr",
     "output_type": "stream",
     "text": [
      "100%|██████████| 20/20 [00:16<00:00,  1.25it/s]\n"
     ]
    },
    {
     "name": "stdout",
     "output_type": "stream",
     "text": [
      "      Accuracy: 79.00%  Demographic disparity: 0.09\n",
      "  |  Simulation : 17 | \n",
      "      seed : 91 -----\n"
     ]
    },
    {
     "name": "stderr",
     "output_type": "stream",
     "text": [
      "100%|██████████| 20/20 [00:16<00:00,  1.25it/s]\n"
     ]
    },
    {
     "name": "stdout",
     "output_type": "stream",
     "text": [
      "      Accuracy: 76.00%  Demographic disparity: 0.00\n",
      "  |  Simulation : 18 | \n",
      "      seed : 107 -----\n"
     ]
    },
    {
     "name": "stderr",
     "output_type": "stream",
     "text": [
      "100%|██████████| 20/20 [00:15<00:00,  1.26it/s]\n"
     ]
    },
    {
     "name": "stdout",
     "output_type": "stream",
     "text": [
      "      Accuracy: 87.00%  Demographic disparity: 0.22\n",
      "  |  Simulation : 19 | \n",
      "      seed : 124 -----\n"
     ]
    },
    {
     "name": "stderr",
     "output_type": "stream",
     "text": [
      "100%|██████████| 20/20 [00:16<00:00,  1.24it/s]\n"
     ]
    },
    {
     "name": "stdout",
     "output_type": "stream",
     "text": [
      "      Accuracy: 72.00%  Demographic disparity: 0.01\n",
      "  |  Simulation : 20 | \n",
      "      seed : 141 -----\n"
     ]
    },
    {
     "name": "stderr",
     "output_type": "stream",
     "text": [
      "100%|██████████| 20/20 [00:18<00:00,  1.08it/s]"
     ]
    },
    {
     "name": "stdout",
     "output_type": "stream",
     "text": [
      "      Accuracy: 69.00%  Demographic disparity: 0.02\n",
      "| Test Accuracy: 0.735(0.062) | Demographic disparity: 0.075(0.062) |\n",
      "| Time elapsed: 341.14 seconds |\n"
     ]
    },
    {
     "name": "stderr",
     "output_type": "stream",
     "text": [
      "\n"
     ]
    },
    {
     "data": {
      "text/plain": [
       "(0.7354999999999999,\n",
       " 0.061601542188487464,\n",
       " 0.07464142634660291,\n",
       " 0.062167845942566025)"
      ]
     },
     "execution_count": 18,
     "metadata": {},
     "output_type": "execute_result"
    }
   ],
   "source": [
    "runSim(num_sim = 20, train_samples = 1000, test_samples = 100, learning_rate = 0.005, num_rounds = 20, \n",
    "          local_epochs = 50, alpha = 0.05, metric = \"Demographic disparity\")"
   ]
  },
  {
   "cell_type": "code",
   "execution_count": null,
   "metadata": {},
   "outputs": [],
   "source": []
  }
 ],
 "metadata": {
  "kernelspec": {
   "display_name": "Python 3",
   "language": "python",
   "name": "python3"
  },
  "language_info": {
   "codemirror_mode": {
    "name": "ipython",
    "version": 3
   },
   "file_extension": ".py",
   "mimetype": "text/x-python",
   "name": "python",
   "nbconvert_exporter": "python",
   "pygments_lexer": "ipython3",
   "version": "3.7.4"
  }
 },
 "nbformat": 4,
 "nbformat_minor": 2
}
