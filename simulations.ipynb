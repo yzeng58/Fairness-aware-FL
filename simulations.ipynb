{
 "cells": [
  {
   "cell_type": "code",
   "execution_count": 1,
   "metadata": {},
   "outputs": [],
   "source": [
    "# import the synthetic dataset\n",
    "from syntheticDataGenerate import *\n",
    "# import the training method \n",
    "from FairFedAvg import *\n",
    "\n",
    "import time"
   ]
  },
  {
   "cell_type": "code",
   "execution_count": 2,
   "metadata": {},
   "outputs": [],
   "source": [
    "synthetic_info = dataGenerate(seed = 2, train_samples = 3000, test_samples = 100)"
   ]
  },
  {
   "cell_type": "code",
   "execution_count": 3,
   "metadata": {},
   "outputs": [
    {
     "name": "stderr",
     "output_type": "stream",
     "text": [
      "100%|██████████| 1/1 [00:00<00:00,  6.76it/s]"
     ]
    },
    {
     "name": "stdout",
     "output_type": "stream",
     "text": [
      "| Global Round : 1 | Local Epoch : 0 | [0/1034 (0%)]\tBatch Loss: 206.926651\n",
      "| Global Round : 1 | Local Epoch : 0 | [0/915 (0%)]\tBatch Loss: 243.026840\n",
      "| Global Round : 1 | Local Epoch : 0 | [512/915 (50%)]\tBatch Loss: 60.984989\n",
      "| Global Round : 1 | Local Epoch : 0 | [0/750 (0%)]\tBatch Loss: 224.948074\n",
      "| Global Round : 1 | Local Epoch : 0 | [384/750 (50%)]\tBatch Loss: 46.890572\n"
     ]
    },
    {
     "name": "stderr",
     "output_type": "stream",
     "text": [
      "\n"
     ]
    },
    {
     "data": {
      "text/plain": [
       "(0.88, 0.38170731707317074)"
      ]
     },
     "execution_count": 3,
     "metadata": {},
     "output_type": "execute_result"
    }
   ],
   "source": [
    "train(logReg(num_features=3, num_classes=2), synthetic_info,\n",
    "      option = \"FairBatch\", optimizer = 'sgd', learning_rate = 0.005, metric = \"Demographic disparity\",\n",
    "      num_rounds = 1, local_epochs = 1, alpha = 0.05, ret = True)"
   ]
  },
  {
   "cell_type": "code",
   "execution_count": null,
   "metadata": {},
   "outputs": [],
   "source": [
    "train(logReg(num_features=3, num_classes=2), synthetic_info,\n",
    "      option = \"FairBatch\", optimizer = 'sgd', learning_rate = 0.005, metric = \"Demographic disparity\",\n",
    "      num_rounds = 1, local_epochs = 1, alpha = 0.05, ret = True)"
   ]
  },
  {
   "cell_type": "code",
   "execution_count": null,
   "metadata": {},
   "outputs": [],
   "source": [
    "train(logReg(num_features=3, num_classes=2), synthetic_info,\n",
    "      option = \"FairBatch\", optimizer = 'sgd', learning_rate = 0.002, metric = \"Demographic disparity\",\n",
    "      num_rounds = 50, local_epochs = 50, alpha = 0.05, train_prn = False)"
   ]
  },
  {
   "cell_type": "code",
   "execution_count": null,
   "metadata": {},
   "outputs": [],
   "source": [
    "def runSim(num_sim = 20, train_samples = 1000, test_samples = 100, learning_rate = 0.005, num_rounds = 20, \n",
    "          local_epochs = 50, alpha = 0.05, metric = \"Demographic disparity\"):\n",
    "    \"\"\"\n",
    "    Run simulations.\n",
    "    \"\"\"\n",
    "    \n",
    "    test_acc, rd = [], []\n",
    "    start = time.time()\n",
    "    \n",
    "    for i in range(num_sim):\n",
    "        seed = int(time.time()%1000)\n",
    "        print(\"  |  Simulation : %d | \" % (i+1))\n",
    "        print(\"      seed : %d -----\" % seed)\n",
    "        \n",
    "        # generate the synthetic dataset\n",
    "        synthetic_info = dataGenerate(seed = seed, train_samples = train_samples, test_samples = test_samples)\n",
    "        \n",
    "        # train the model with the synthetic dataset\n",
    "        test_acc_i, rd_i = train(logReg(num_features=3, num_classes=2), synthetic_info,\n",
    "          option = \"FairBatch\", optimizer = 'sgd', learning_rate = learning_rate, metric = metric,\n",
    "          num_rounds = num_rounds, local_epochs = local_epochs, alpha = alpha, ret = True, seed = seed)\n",
    "        \n",
    "        test_acc.append(test_acc_i)\n",
    "        rd.append(rd_i)\n",
    "        \n",
    "        print(\"      Accuracy: %.2f%%  %s: %.2f\" % (test_acc_i * 100, metric, rd_i))\n",
    "        \n",
    "    mean_acc, std_acc, mean_rd, std_rd = np.mean(test_acc), np.std(test_acc), np.mean(rd), np.std(rd)\n",
    "    print(\"| Test Accuracy: %.3f(%.3f) | %s: %.3f(%.3f) |\" % (mean_acc, std_acc, metric, mean_rd, std_rd))\n",
    "    \n",
    "    print(\"| Time elapsed: %.2f seconds |\" % (time.time() - start))\n",
    "    return mean_acc, std_acc, mean_rd, std_rd"
   ]
  },
  {
   "cell_type": "code",
   "execution_count": null,
   "metadata": {},
   "outputs": [],
   "source": [
    "runSim(num_sim = 20, train_samples = 1000, test_samples = 100, learning_rate = 0.005, num_rounds = 20, \n",
    "          local_epochs = 50, alpha = 0.05, metric = \"Demographic disparity\")"
   ]
  },
  {
   "cell_type": "code",
   "execution_count": null,
   "metadata": {},
   "outputs": [],
   "source": []
  }
 ],
 "metadata": {
  "kernelspec": {
   "display_name": "Python 3",
   "language": "python",
   "name": "python3"
  },
  "language_info": {
   "codemirror_mode": {
    "name": "ipython",
    "version": 3
   },
   "file_extension": ".py",
   "mimetype": "text/x-python",
   "name": "python",
   "nbconvert_exporter": "python",
   "pygments_lexer": "ipython3",
   "version": "3.7.4"
  }
 },
 "nbformat": 4,
 "nbformat_minor": 2
}
