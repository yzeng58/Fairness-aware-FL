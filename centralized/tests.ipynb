{
 "cells": [
  {
   "cell_type": "code",
   "execution_count": 1,
   "metadata": {},
   "outputs": [],
   "source": [
    "from DPFair import *"
   ]
  },
  {
   "cell_type": "code",
   "execution_count": 2,
   "metadata": {},
   "outputs": [],
   "source": [
    "synthetic_info = dataGenerate(seed = 745, test_samples = 300, train_samples = 3000)"
   ]
  },
  {
   "cell_type": "code",
   "execution_count": 5,
   "metadata": {
    "scrolled": true
   },
   "outputs": [
    {
     "name": "stderr",
     "output_type": "stream",
     "text": [
      "\r",
      "  0%|          | 0/10 [00:00<?, ?it/s]"
     ]
    },
    {
     "name": "stdout",
     "output_type": "stream",
     "text": [
      "\n",
      " | Global Training Round : 1 |\n",
      "\n"
     ]
    },
    {
     "name": "stderr",
     "output_type": "stream",
     "text": [
      "\r",
      " 10%|█         | 1/10 [00:02<00:21,  2.35s/it]"
     ]
    },
    {
     "name": "stdout",
     "output_type": "stream",
     "text": [
      "Accuracy loss: 12.80 | fairness loss 65.63 | Demographic disparity = 0.33\n",
      " \n",
      "Avg Training Stats after 1 global rounds:\n",
      "Training loss: 80.14 | Validation accuracy: 81.33% | Validation Demographic disparity: 0.3296\n",
      "\n",
      " | Global Training Round : 2 |\n",
      "\n"
     ]
    },
    {
     "name": "stderr",
     "output_type": "stream",
     "text": [
      "\r",
      " 20%|██        | 2/10 [00:05<00:19,  2.45s/it]"
     ]
    },
    {
     "name": "stdout",
     "output_type": "stream",
     "text": [
      "Accuracy loss: 9.03 | fairness loss 107.27 | Demographic disparity = 0.46\n",
      " \n",
      "Avg Training Stats after 2 global rounds:\n",
      "Training loss: 61.53 | Validation accuracy: 88.33% | Validation Demographic disparity: 0.4613\n",
      "\n",
      " | Global Training Round : 3 |\n",
      "\n"
     ]
    },
    {
     "name": "stderr",
     "output_type": "stream",
     "text": [
      "\r",
      " 30%|███       | 3/10 [00:07<00:17,  2.50s/it]"
     ]
    },
    {
     "name": "stdout",
     "output_type": "stream",
     "text": [
      "Accuracy loss: 8.28 | fairness loss 135.04 | Demographic disparity = 0.50\n",
      " \n",
      "Avg Training Stats after 3 global rounds:\n",
      "Training loss: 53.20 | Validation accuracy: 88.33% | Validation Demographic disparity: 0.5013\n",
      "\n",
      " | Global Training Round : 4 |\n",
      "\n"
     ]
    },
    {
     "name": "stderr",
     "output_type": "stream",
     "text": [
      "\r",
      " 40%|████      | 4/10 [00:10<00:15,  2.55s/it]"
     ]
    },
    {
     "name": "stdout",
     "output_type": "stream",
     "text": [
      "Accuracy loss: 8.14 | fairness loss 151.57 | Demographic disparity = 0.51\n",
      " \n",
      "Avg Training Stats after 4 global rounds:\n",
      "Training loss: 48.70 | Validation accuracy: 88.67% | Validation Demographic disparity: 0.5113\n",
      "\n",
      " | Global Training Round : 5 |\n",
      "\n"
     ]
    },
    {
     "name": "stderr",
     "output_type": "stream",
     "text": [
      "\r",
      " 50%|█████     | 5/10 [00:13<00:13,  2.61s/it]"
     ]
    },
    {
     "name": "stdout",
     "output_type": "stream",
     "text": [
      "Accuracy loss: 8.12 | fairness loss 160.00 | Demographic disparity = 0.51\n",
      " \n",
      "Avg Training Stats after 5 global rounds:\n",
      "Training loss: 45.96 | Validation accuracy: 88.67% | Validation Demographic disparity: 0.5113\n",
      "\n",
      " | Global Training Round : 6 |\n",
      "\n"
     ]
    },
    {
     "name": "stderr",
     "output_type": "stream",
     "text": [
      "\r",
      " 60%|██████    | 6/10 [00:15<00:10,  2.51s/it]"
     ]
    },
    {
     "name": "stdout",
     "output_type": "stream",
     "text": [
      "Accuracy loss: 8.11 | fairness loss 163.50 | Demographic disparity = 0.51\n",
      " \n",
      "Avg Training Stats after 6 global rounds:\n",
      "Training loss: 44.12 | Validation accuracy: 88.67% | Validation Demographic disparity: 0.5113\n",
      "\n",
      " | Global Training Round : 7 |\n",
      "\n"
     ]
    },
    {
     "name": "stderr",
     "output_type": "stream",
     "text": [
      "\r",
      " 70%|███████   | 7/10 [00:17<00:07,  2.42s/it]"
     ]
    },
    {
     "name": "stdout",
     "output_type": "stream",
     "text": [
      "Accuracy loss: 8.11 | fairness loss 164.57 | Demographic disparity = 0.51\n",
      " \n",
      "Avg Training Stats after 7 global rounds:\n",
      "Training loss: 42.81 | Validation accuracy: 88.67% | Validation Demographic disparity: 0.5113\n",
      "\n",
      " | Global Training Round : 8 |\n",
      "\n"
     ]
    },
    {
     "name": "stderr",
     "output_type": "stream",
     "text": [
      "\r",
      " 80%|████████  | 8/10 [00:19<00:04,  2.35s/it]"
     ]
    },
    {
     "name": "stdout",
     "output_type": "stream",
     "text": [
      "Accuracy loss: 8.11 | fairness loss 164.17 | Demographic disparity = 0.51\n",
      " \n",
      "Avg Training Stats after 8 global rounds:\n",
      "Training loss: 41.82 | Validation accuracy: 88.67% | Validation Demographic disparity: 0.5113\n",
      "\n",
      " | Global Training Round : 9 |\n",
      "\n"
     ]
    },
    {
     "name": "stderr",
     "output_type": "stream",
     "text": [
      "\r",
      " 90%|█████████ | 9/10 [00:22<00:02,  2.38s/it]"
     ]
    },
    {
     "name": "stdout",
     "output_type": "stream",
     "text": [
      "Accuracy loss: 8.11 | fairness loss 164.90 | Demographic disparity = 0.51\n",
      " \n",
      "Avg Training Stats after 9 global rounds:\n",
      "Training loss: 41.05 | Validation accuracy: 88.67% | Validation Demographic disparity: 0.5113\n",
      "\n",
      " | Global Training Round : 10 |\n",
      "\n"
     ]
    },
    {
     "name": "stderr",
     "output_type": "stream",
     "text": [
      "100%|██████████| 10/10 [00:24<00:00,  2.46s/it]"
     ]
    },
    {
     "name": "stdout",
     "output_type": "stream",
     "text": [
      "Accuracy loss: 8.10 | fairness loss 164.83 | Demographic disparity = 0.51\n",
      " \n",
      "Avg Training Stats after 10 global rounds:\n",
      "Training loss: 40.44 | Validation accuracy: 88.67% | Validation Demographic disparity: 0.5113\n",
      " \n",
      " Results after 10 global rounds of training:\n",
      "|---- Avg Train Accuracy: 88.67%\n",
      "|---- Test Accuracy: 90.67%\n",
      "|---- Test Demographic disparity: 0.3686\n",
      "\n",
      " Total Run Time: 24.6145 sec\n"
     ]
    },
    {
     "name": "stderr",
     "output_type": "stream",
     "text": [
      "\n"
     ]
    }
   ],
   "source": [
    "server = Server(logReg(num_features=3, num_classes=2, seed = seed), synthetic_info, train_prn = False, seed = seed)\n",
    "server.Unconstrained(num_rounds = 10, local_epochs = 30, optimizer = 'adam', learning_rate = 0.0004)\n"
   ]
  },
  {
   "cell_type": "code",
   "execution_count": null,
   "metadata": {},
   "outputs": [],
   "source": []
  }
 ],
 "metadata": {
  "kernelspec": {
   "display_name": "Python 3",
   "language": "python",
   "name": "python3"
  },
  "language_info": {
   "codemirror_mode": {
    "name": "ipython",
    "version": 3
   },
   "file_extension": ".py",
   "mimetype": "text/x-python",
   "name": "python",
   "nbconvert_exporter": "python",
   "pygments_lexer": "ipython3",
   "version": "3.7.4"
  }
 },
 "nbformat": 4,
 "nbformat_minor": 2
}
