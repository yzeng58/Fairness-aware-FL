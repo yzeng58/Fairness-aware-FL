{
 "cells": [
  {
   "cell_type": "code",
   "execution_count": 1,
   "metadata": {},
   "outputs": [],
   "source": [
    "from DPFair import *\n",
    "seed = 123"
   ]
  },
  {
   "cell_type": "code",
   "execution_count": 21,
   "metadata": {},
   "outputs": [],
   "source": [
    "data_info = nsfData(q = (0.99,0.01), test_samples = 300, train_samples = 3000)"
   ]
  },
  {
   "cell_type": "code",
   "execution_count": 6,
   "metadata": {
    "scrolled": true
   },
   "outputs": [
    {
     "name": "stderr",
     "output_type": "stream",
     "text": [
      "  0%|          | 5/1000 [00:00<00:24, 39.81it/s]"
     ]
    },
    {
     "name": "stdout",
     "output_type": "stream",
     "text": [
      "\n",
      " | Global Training Round : 1 |\n",
      "\n",
      " \n",
      "Avg Training Stats after 1 global rounds:\n",
      "accuracy loss: 16.24 | fairness loss 62.18 | Demographic disparity = 0.00\n",
      "Training loss: 162.39 | Validation accuracy: 75.67% | Validation Demographic disparity: 0.0000\n"
     ]
    },
    {
     "name": "stderr",
     "output_type": "stream",
     "text": [
      "  6%|▌         | 60/1000 [00:00<00:14, 62.90it/s]"
     ]
    },
    {
     "name": "stdout",
     "output_type": "stream",
     "text": [
      "\n",
      " | Global Training Round : 51 |\n",
      "\n",
      " \n",
      "Avg Training Stats after 51 global rounds:\n",
      "accuracy loss: 13.86 | fairness loss 102.45 | Demographic disparity = 0.00\n",
      "Training loss: 138.62 | Validation accuracy: 75.67% | Validation Demographic disparity: 0.0000\n"
     ]
    },
    {
     "name": "stderr",
     "output_type": "stream",
     "text": [
      " 11%|█         | 111/1000 [00:01<00:13, 66.10it/s]"
     ]
    },
    {
     "name": "stdout",
     "output_type": "stream",
     "text": [
      "\n",
      " | Global Training Round : 101 |\n",
      "\n",
      " \n",
      "Avg Training Stats after 101 global rounds:\n",
      "accuracy loss: 12.41 | fairness loss 155.25 | Demographic disparity = 0.00\n",
      "Training loss: 124.12 | Validation accuracy: 75.67% | Validation Demographic disparity: 0.0000\n"
     ]
    },
    {
     "name": "stderr",
     "output_type": "stream",
     "text": [
      " 16%|█▌        | 156/1000 [00:02<00:12, 68.47it/s]"
     ]
    },
    {
     "name": "stdout",
     "output_type": "stream",
     "text": [
      "\n",
      " | Global Training Round : 151 |\n",
      "\n",
      " \n",
      "Avg Training Stats after 151 global rounds:\n",
      "accuracy loss: 11.61 | fairness loss 192.50 | Demographic disparity = 0.00\n",
      "Training loss: 116.05 | Validation accuracy: 75.67% | Validation Demographic disparity: 0.0000\n"
     ]
    },
    {
     "name": "stderr",
     "output_type": "stream",
     "text": [
      " 21%|██▏       | 213/1000 [00:03<00:11, 65.94it/s]"
     ]
    },
    {
     "name": "stdout",
     "output_type": "stream",
     "text": [
      "\n",
      " | Global Training Round : 201 |\n",
      "\n",
      " \n",
      "Avg Training Stats after 201 global rounds:\n",
      "accuracy loss: 11.16 | fairness loss 215.59 | Demographic disparity = 0.00\n",
      "Training loss: 111.58 | Validation accuracy: 75.67% | Validation Demographic disparity: 0.0000\n"
     ]
    },
    {
     "name": "stderr",
     "output_type": "stream",
     "text": [
      " 26%|██▌       | 260/1000 [00:04<00:10, 67.76it/s]"
     ]
    },
    {
     "name": "stdout",
     "output_type": "stream",
     "text": [
      "\n",
      " | Global Training Round : 251 |\n",
      "\n",
      " \n",
      "Avg Training Stats after 251 global rounds:\n",
      "accuracy loss: 10.89 | fairness loss 232.70 | Demographic disparity = 0.00\n",
      "Training loss: 108.87 | Validation accuracy: 75.67% | Validation Demographic disparity: 0.0000\n"
     ]
    },
    {
     "name": "stderr",
     "output_type": "stream",
     "text": [
      " 31%|███▏      | 313/1000 [00:04<00:10, 68.07it/s]"
     ]
    },
    {
     "name": "stdout",
     "output_type": "stream",
     "text": [
      "\n",
      " | Global Training Round : 301 |\n",
      "\n",
      " \n",
      "Avg Training Stats after 301 global rounds:\n",
      "accuracy loss: 10.71 | fairness loss 245.91 | Demographic disparity = 0.00\n",
      "Training loss: 107.15 | Validation accuracy: 75.67% | Validation Demographic disparity: 0.0000\n"
     ]
    },
    {
     "name": "stderr",
     "output_type": "stream",
     "text": [
      " 36%|███▋      | 363/1000 [00:05<00:09, 68.77it/s]"
     ]
    },
    {
     "name": "stdout",
     "output_type": "stream",
     "text": [
      "\n",
      " | Global Training Round : 351 |\n",
      "\n",
      " \n",
      "Avg Training Stats after 351 global rounds:\n",
      "accuracy loss: 10.61 | fairness loss 255.13 | Demographic disparity = 0.00\n",
      "Training loss: 106.09 | Validation accuracy: 75.67% | Validation Demographic disparity: 0.0000\n"
     ]
    },
    {
     "name": "stderr",
     "output_type": "stream",
     "text": [
      " 41%|████▏     | 414/1000 [00:06<00:08, 68.41it/s]"
     ]
    },
    {
     "name": "stdout",
     "output_type": "stream",
     "text": [
      "\n",
      " | Global Training Round : 401 |\n",
      "\n",
      " \n",
      "Avg Training Stats after 401 global rounds:\n",
      "accuracy loss: 10.55 | fairness loss 260.86 | Demographic disparity = 0.00\n",
      "Training loss: 105.48 | Validation accuracy: 75.67% | Validation Demographic disparity: 0.0000\n"
     ]
    },
    {
     "name": "stderr",
     "output_type": "stream",
     "text": [
      " 46%|████▌     | 459/1000 [00:07<00:07, 70.77it/s]"
     ]
    },
    {
     "name": "stdout",
     "output_type": "stream",
     "text": [
      "\n",
      " | Global Training Round : 451 |\n",
      "\n",
      " \n",
      "Avg Training Stats after 451 global rounds:\n",
      "accuracy loss: 10.52 | fairness loss 264.07 | Demographic disparity = 0.00\n",
      "Training loss: 105.15 | Validation accuracy: 75.67% | Validation Demographic disparity: 0.0000\n"
     ]
    },
    {
     "name": "stderr",
     "output_type": "stream",
     "text": [
      " 51%|█████     | 511/1000 [00:07<00:07, 68.99it/s]"
     ]
    },
    {
     "name": "stdout",
     "output_type": "stream",
     "text": [
      "\n",
      " | Global Training Round : 501 |\n",
      "\n",
      " \n",
      "Avg Training Stats after 501 global rounds:\n",
      "accuracy loss: 10.50 | fairness loss 265.73 | Demographic disparity = 0.00\n",
      "Training loss: 104.99 | Validation accuracy: 75.67% | Validation Demographic disparity: 0.0000\n"
     ]
    },
    {
     "name": "stderr",
     "output_type": "stream",
     "text": [
      " 56%|█████▌    | 556/1000 [00:08<00:06, 66.48it/s]"
     ]
    },
    {
     "name": "stdout",
     "output_type": "stream",
     "text": [
      "\n",
      " | Global Training Round : 551 |\n",
      "\n",
      " \n",
      "Avg Training Stats after 551 global rounds:\n",
      "accuracy loss: 10.49 | fairness loss 266.52 | Demographic disparity = 0.00\n",
      "Training loss: 104.91 | Validation accuracy: 75.67% | Validation Demographic disparity: 0.0000\n"
     ]
    },
    {
     "name": "stderr",
     "output_type": "stream",
     "text": [
      " 61%|██████    | 609/1000 [00:09<00:05, 67.05it/s]"
     ]
    },
    {
     "name": "stdout",
     "output_type": "stream",
     "text": [
      "\n",
      " | Global Training Round : 601 |\n",
      "\n",
      " \n",
      "Avg Training Stats after 601 global rounds:\n",
      "accuracy loss: 10.49 | fairness loss 266.87 | Demographic disparity = 0.03\n",
      "Training loss: 104.87 | Validation accuracy: 79.00% | Validation Demographic disparity: 0.0333\n"
     ]
    },
    {
     "name": "stderr",
     "output_type": "stream",
     "text": [
      " 66%|██████▌   | 662/1000 [00:10<00:04, 69.19it/s]"
     ]
    },
    {
     "name": "stdout",
     "output_type": "stream",
     "text": [
      "\n",
      " | Global Training Round : 651 |\n",
      "\n",
      " \n",
      "Avg Training Stats after 651 global rounds:\n",
      "accuracy loss: 10.49 | fairness loss 267.01 | Demographic disparity = 0.03\n",
      "Training loss: 104.86 | Validation accuracy: 79.00% | Validation Demographic disparity: 0.0333\n"
     ]
    },
    {
     "name": "stderr",
     "output_type": "stream",
     "text": [
      " 71%|███████   | 708/1000 [00:10<00:04, 66.56it/s]"
     ]
    },
    {
     "name": "stdout",
     "output_type": "stream",
     "text": [
      "\n",
      " | Global Training Round : 701 |\n",
      "\n",
      " \n",
      "Avg Training Stats after 701 global rounds:\n",
      "accuracy loss: 10.49 | fairness loss 267.07 | Demographic disparity = 0.03\n",
      "Training loss: 104.85 | Validation accuracy: 79.00% | Validation Demographic disparity: 0.0333\n"
     ]
    },
    {
     "name": "stderr",
     "output_type": "stream",
     "text": [
      " 76%|███████▌  | 759/1000 [00:11<00:03, 64.31it/s]"
     ]
    },
    {
     "name": "stdout",
     "output_type": "stream",
     "text": [
      "\n",
      " | Global Training Round : 751 |\n",
      "\n",
      " \n",
      "Avg Training Stats after 751 global rounds:\n",
      "accuracy loss: 10.49 | fairness loss 267.09 | Demographic disparity = 0.03\n",
      "Training loss: 104.85 | Validation accuracy: 79.00% | Validation Demographic disparity: 0.0333\n"
     ]
    },
    {
     "name": "stderr",
     "output_type": "stream",
     "text": [
      " 81%|████████  | 811/1000 [00:12<00:02, 70.98it/s]"
     ]
    },
    {
     "name": "stdout",
     "output_type": "stream",
     "text": [
      "\n",
      " | Global Training Round : 801 |\n",
      "\n",
      " \n",
      "Avg Training Stats after 801 global rounds:\n",
      "accuracy loss: 10.48 | fairness loss 267.10 | Demographic disparity = 0.03\n",
      "Training loss: 104.85 | Validation accuracy: 79.00% | Validation Demographic disparity: 0.0333\n"
     ]
    },
    {
     "name": "stderr",
     "output_type": "stream",
     "text": [
      " 86%|████████▌ | 859/1000 [00:12<00:01, 73.39it/s]"
     ]
    },
    {
     "name": "stdout",
     "output_type": "stream",
     "text": [
      "\n",
      " | Global Training Round : 851 |\n",
      "\n",
      " \n",
      "Avg Training Stats after 851 global rounds:\n",
      "accuracy loss: 10.48 | fairness loss 267.10 | Demographic disparity = 0.03\n",
      "Training loss: 104.85 | Validation accuracy: 79.00% | Validation Demographic disparity: 0.0333\n"
     ]
    },
    {
     "name": "stderr",
     "output_type": "stream",
     "text": [
      " 91%|█████████ | 906/1000 [00:13<00:01, 62.75it/s]"
     ]
    },
    {
     "name": "stdout",
     "output_type": "stream",
     "text": [
      "\n",
      " | Global Training Round : 901 |\n",
      "\n",
      " \n",
      "Avg Training Stats after 901 global rounds:\n",
      "accuracy loss: 10.48 | fairness loss 267.10 | Demographic disparity = 0.03\n",
      "Training loss: 104.85 | Validation accuracy: 79.00% | Validation Demographic disparity: 0.0333\n"
     ]
    },
    {
     "name": "stderr",
     "output_type": "stream",
     "text": [
      " 96%|█████████▌| 960/1000 [00:14<00:00, 59.38it/s]"
     ]
    },
    {
     "name": "stdout",
     "output_type": "stream",
     "text": [
      "\n",
      " | Global Training Round : 951 |\n",
      "\n",
      " \n",
      "Avg Training Stats after 951 global rounds:\n",
      "accuracy loss: 10.48 | fairness loss 267.10 | Demographic disparity = 0.03\n",
      "Training loss: 104.85 | Validation accuracy: 79.00% | Validation Demographic disparity: 0.0333\n"
     ]
    },
    {
     "name": "stderr",
     "output_type": "stream",
     "text": [
      "100%|██████████| 1000/1000 [00:15<00:00, 65.48it/s]"
     ]
    },
    {
     "name": "stdout",
     "output_type": "stream",
     "text": [
      " \n",
      " Results after 1000 global rounds of training:\n",
      "|---- Avg Train Accuracy: 79.00%\n",
      "|---- Test Accuracy: 75.33%\n",
      "|---- Test Demographic disparity: 0.0540\n",
      "\n",
      " Total Run Time: 15.3302 sec\n"
     ]
    },
    {
     "name": "stderr",
     "output_type": "stream",
     "text": [
      "\n"
     ]
    }
   ],
   "source": [
    "#6500 6550 6600\n",
    "server = Server(logReg(num_features=2, num_classes=2, seed = seed), data_info, seed = seed)\n",
    "server.FairConstraints(num_epochs = 1000, optimizer = 'adam', learning_rate = 0.005, penalty = 6550)"
   ]
  },
  {
   "cell_type": "code",
   "execution_count": 23,
   "metadata": {
    "scrolled": true
   },
   "outputs": [
    {
     "name": "stderr",
     "output_type": "stream",
     "text": [
      "  1%|          | 6/1000 [00:00<00:17, 55.64it/s]"
     ]
    },
    {
     "name": "stdout",
     "output_type": "stream",
     "text": [
      "\n",
      " | Global Training Round : 1 |\n",
      "\n",
      " \n",
      "Avg Training Stats after 1 global rounds:\n",
      "accuracy loss: 16.24 | fairness loss 62.65 | Demographic disparity = 0.00\n",
      "Training loss: 162.39 | Validation accuracy: 75.67% | Validation Demographic disparity: 0.0000\n"
     ]
    },
    {
     "name": "stderr",
     "output_type": "stream",
     "text": [
      "  6%|▌         | 59/1000 [00:00<00:14, 63.03it/s]"
     ]
    },
    {
     "name": "stdout",
     "output_type": "stream",
     "text": [
      "\n",
      " | Global Training Round : 51 |\n",
      "\n",
      " \n",
      "Avg Training Stats after 51 global rounds:\n",
      "accuracy loss: 13.87 | fairness loss 102.83 | Demographic disparity = 0.00\n",
      "Training loss: 138.68 | Validation accuracy: 75.67% | Validation Demographic disparity: 0.0000\n"
     ]
    },
    {
     "name": "stderr",
     "output_type": "stream",
     "text": [
      " 11%|█         | 108/1000 [00:01<00:15, 56.09it/s]"
     ]
    },
    {
     "name": "stdout",
     "output_type": "stream",
     "text": [
      "\n",
      " | Global Training Round : 101 |\n",
      "\n",
      " \n",
      "Avg Training Stats after 101 global rounds:\n",
      "accuracy loss: 12.42 | fairness loss 155.46 | Demographic disparity = 0.00\n",
      "Training loss: 124.25 | Validation accuracy: 75.67% | Validation Demographic disparity: 0.0000\n"
     ]
    },
    {
     "name": "stderr",
     "output_type": "stream",
     "text": [
      " 16%|█▌        | 158/1000 [00:02<00:12, 65.89it/s]"
     ]
    },
    {
     "name": "stdout",
     "output_type": "stream",
     "text": [
      "\n",
      " | Global Training Round : 151 |\n",
      "\n",
      " \n",
      "Avg Training Stats after 151 global rounds:\n",
      "accuracy loss: 11.62 | fairness loss 192.21 | Demographic disparity = 0.00\n",
      "Training loss: 116.25 | Validation accuracy: 75.67% | Validation Demographic disparity: 0.0000\n"
     ]
    },
    {
     "name": "stderr",
     "output_type": "stream",
     "text": [
      " 21%|██        | 210/1000 [00:03<00:11, 68.31it/s]"
     ]
    },
    {
     "name": "stdout",
     "output_type": "stream",
     "text": [
      "\n",
      " | Global Training Round : 201 |\n",
      "\n",
      " \n",
      "Avg Training Stats after 201 global rounds:\n",
      "accuracy loss: 11.18 | fairness loss 215.03 | Demographic disparity = 0.00\n",
      "Training loss: 111.81 | Validation accuracy: 75.67% | Validation Demographic disparity: 0.0000\n"
     ]
    },
    {
     "name": "stderr",
     "output_type": "stream",
     "text": [
      " 26%|██▌       | 260/1000 [00:04<00:10, 68.43it/s]"
     ]
    },
    {
     "name": "stdout",
     "output_type": "stream",
     "text": [
      "\n",
      " | Global Training Round : 251 |\n",
      "\n",
      " \n",
      "Avg Training Stats after 251 global rounds:\n",
      "accuracy loss: 10.91 | fairness loss 232.10 | Demographic disparity = 0.00\n",
      "Training loss: 109.12 | Validation accuracy: 75.67% | Validation Demographic disparity: 0.0000\n"
     ]
    },
    {
     "name": "stderr",
     "output_type": "stream",
     "text": [
      " 31%|███       | 307/1000 [00:04<00:10, 68.77it/s]"
     ]
    },
    {
     "name": "stdout",
     "output_type": "stream",
     "text": [
      "\n",
      " | Global Training Round : 301 |\n",
      "\n",
      " \n",
      "Avg Training Stats after 301 global rounds:\n",
      "accuracy loss: 10.74 | fairness loss 245.29 | Demographic disparity = 0.00\n",
      "Training loss: 107.41 | Validation accuracy: 75.67% | Validation Demographic disparity: 0.0000\n"
     ]
    },
    {
     "name": "stderr",
     "output_type": "stream",
     "text": [
      " 36%|███▋      | 364/1000 [00:05<00:09, 68.34it/s]"
     ]
    },
    {
     "name": "stdout",
     "output_type": "stream",
     "text": [
      "\n",
      " | Global Training Round : 351 |\n",
      "\n",
      " \n",
      "Avg Training Stats after 351 global rounds:\n",
      "accuracy loss: 10.64 | fairness loss 254.46 | Demographic disparity = 0.00\n",
      "Training loss: 106.36 | Validation accuracy: 75.67% | Validation Demographic disparity: 0.0000\n"
     ]
    },
    {
     "name": "stderr",
     "output_type": "stream",
     "text": [
      " 41%|████      | 409/1000 [00:06<00:08, 71.66it/s]"
     ]
    },
    {
     "name": "stdout",
     "output_type": "stream",
     "text": [
      "\n",
      " | Global Training Round : 401 |\n",
      "\n",
      " \n",
      "Avg Training Stats after 401 global rounds:\n",
      "accuracy loss: 10.58 | fairness loss 260.12 | Demographic disparity = 0.00\n",
      "Training loss: 105.76 | Validation accuracy: 75.67% | Validation Demographic disparity: 0.0000\n"
     ]
    },
    {
     "name": "stderr",
     "output_type": "stream",
     "text": [
      " 46%|████▌     | 460/1000 [00:07<00:08, 67.27it/s]"
     ]
    },
    {
     "name": "stdout",
     "output_type": "stream",
     "text": [
      "\n",
      " | Global Training Round : 451 |\n",
      "\n",
      " \n",
      "Avg Training Stats after 451 global rounds:\n",
      "accuracy loss: 10.54 | fairness loss 263.28 | Demographic disparity = 0.00\n",
      "Training loss: 105.44 | Validation accuracy: 75.67% | Validation Demographic disparity: 0.0000\n"
     ]
    },
    {
     "name": "stderr",
     "output_type": "stream",
     "text": [
      " 50%|█████     | 504/1000 [00:07<00:07, 67.74it/s]"
     ]
    },
    {
     "name": "stdout",
     "output_type": "stream",
     "text": [
      "\n",
      " | Global Training Round : 501 |\n",
      "\n",
      " \n",
      "Avg Training Stats after 501 global rounds:\n",
      "accuracy loss: 10.53 | fairness loss 264.90 | Demographic disparity = 0.00\n",
      "Training loss: 105.27 | Validation accuracy: 75.67% | Validation Demographic disparity: 0.0000\n"
     ]
    },
    {
     "name": "stderr",
     "output_type": "stream",
     "text": [
      " 56%|█████▌    | 561/1000 [00:08<00:06, 66.12it/s]"
     ]
    },
    {
     "name": "stdout",
     "output_type": "stream",
     "text": [
      "\n",
      " | Global Training Round : 551 |\n",
      "\n",
      " \n",
      "Avg Training Stats after 551 global rounds:\n",
      "accuracy loss: 10.52 | fairness loss 265.67 | Demographic disparity = 0.00\n",
      "Training loss: 105.20 | Validation accuracy: 75.67% | Validation Demographic disparity: 0.0000\n"
     ]
    },
    {
     "name": "stderr",
     "output_type": "stream",
     "text": [
      " 61%|██████    | 612/1000 [00:09<00:05, 68.18it/s]"
     ]
    },
    {
     "name": "stdout",
     "output_type": "stream",
     "text": [
      "\n",
      " | Global Training Round : 601 |\n",
      "\n",
      " \n",
      "Avg Training Stats after 601 global rounds:\n",
      "accuracy loss: 10.52 | fairness loss 266.01 | Demographic disparity = 0.00\n",
      "Training loss: 105.16 | Validation accuracy: 75.67% | Validation Demographic disparity: 0.0000\n"
     ]
    },
    {
     "name": "stderr",
     "output_type": "stream",
     "text": [
      " 66%|██████▌   | 661/1000 [00:10<00:05, 64.59it/s]"
     ]
    },
    {
     "name": "stdout",
     "output_type": "stream",
     "text": [
      "\n",
      " | Global Training Round : 651 |\n",
      "\n",
      " \n",
      "Avg Training Stats after 651 global rounds:\n",
      "accuracy loss: 10.51 | fairness loss 266.15 | Demographic disparity = 0.00\n",
      "Training loss: 105.15 | Validation accuracy: 75.67% | Validation Demographic disparity: 0.0000\n"
     ]
    },
    {
     "name": "stderr",
     "output_type": "stream",
     "text": [
      " 71%|███████▏  | 713/1000 [00:10<00:04, 68.39it/s]"
     ]
    },
    {
     "name": "stdout",
     "output_type": "stream",
     "text": [
      "\n",
      " | Global Training Round : 701 |\n",
      "\n",
      " \n",
      "Avg Training Stats after 701 global rounds:\n",
      "accuracy loss: 10.51 | fairness loss 266.20 | Demographic disparity = 0.00\n",
      "Training loss: 105.14 | Validation accuracy: 75.67% | Validation Demographic disparity: 0.0000\n"
     ]
    },
    {
     "name": "stderr",
     "output_type": "stream",
     "text": [
      " 76%|███████▋  | 764/1000 [00:11<00:03, 69.07it/s]"
     ]
    },
    {
     "name": "stdout",
     "output_type": "stream",
     "text": [
      "\n",
      " | Global Training Round : 751 |\n",
      "\n",
      " \n",
      "Avg Training Stats after 751 global rounds:\n",
      "accuracy loss: 10.51 | fairness loss 266.22 | Demographic disparity = 0.00\n",
      "Training loss: 105.14 | Validation accuracy: 75.67% | Validation Demographic disparity: 0.0000\n"
     ]
    },
    {
     "name": "stderr",
     "output_type": "stream",
     "text": [
      " 81%|████████  | 807/1000 [00:12<00:02, 66.45it/s]"
     ]
    },
    {
     "name": "stdout",
     "output_type": "stream",
     "text": [
      "\n",
      " | Global Training Round : 801 |\n",
      "\n",
      " \n",
      "Avg Training Stats after 801 global rounds:\n",
      "accuracy loss: 10.51 | fairness loss 266.22 | Demographic disparity = 0.00\n",
      "Training loss: 105.14 | Validation accuracy: 75.67% | Validation Demographic disparity: 0.0000\n"
     ]
    },
    {
     "name": "stderr",
     "output_type": "stream",
     "text": [
      " 86%|████████▋ | 864/1000 [00:13<00:01, 68.44it/s]"
     ]
    },
    {
     "name": "stdout",
     "output_type": "stream",
     "text": [
      "\n",
      " | Global Training Round : 851 |\n",
      "\n",
      " \n",
      "Avg Training Stats after 851 global rounds:\n",
      "accuracy loss: 10.51 | fairness loss 266.23 | Demographic disparity = 0.00\n",
      "Training loss: 105.14 | Validation accuracy: 75.67% | Validation Demographic disparity: 0.0000\n"
     ]
    },
    {
     "name": "stderr",
     "output_type": "stream",
     "text": [
      " 91%|█████████ | 910/1000 [00:13<00:01, 67.43it/s]"
     ]
    },
    {
     "name": "stdout",
     "output_type": "stream",
     "text": [
      "\n",
      " | Global Training Round : 901 |\n",
      "\n",
      " \n",
      "Avg Training Stats after 901 global rounds:\n",
      "accuracy loss: 10.51 | fairness loss 266.23 | Demographic disparity = 0.00\n",
      "Training loss: 105.14 | Validation accuracy: 75.67% | Validation Demographic disparity: 0.0000\n"
     ]
    },
    {
     "name": "stderr",
     "output_type": "stream",
     "text": [
      " 96%|█████████▌| 961/1000 [00:14<00:00, 68.14it/s]"
     ]
    },
    {
     "name": "stdout",
     "output_type": "stream",
     "text": [
      "\n",
      " | Global Training Round : 951 |\n",
      "\n",
      " \n",
      "Avg Training Stats after 951 global rounds:\n",
      "accuracy loss: 10.51 | fairness loss 266.23 | Demographic disparity = 0.00\n",
      "Training loss: 105.14 | Validation accuracy: 75.67% | Validation Demographic disparity: 0.0000\n"
     ]
    },
    {
     "name": "stderr",
     "output_type": "stream",
     "text": [
      "100%|██████████| 1000/1000 [00:15<00:00, 65.84it/s]\n"
     ]
    },
    {
     "name": "stdout",
     "output_type": "stream",
     "text": [
      " \n",
      " Results after 1000 global rounds of training:\n",
      "|---- Avg Train Accuracy: 75.67%\n",
      "|---- Test Accuracy: 70.00%\n",
      "|---- Test Demographic disparity: 0.0000\n",
      "\n",
      " Total Run Time: 15.2080 sec\n"
     ]
    }
   ],
   "source": [
    "#6500 6550 6600\n",
    "server = Server(logReg(num_features=2, num_classes=2, seed = seed), data_info, seed = seed)\n",
    "server.FairConstraints(num_epochs = 1000, optimizer = 'adam', learning_rate = 0.005, penalty = 6600)"
   ]
  },
  {
   "cell_type": "code",
   "execution_count": 6,
   "metadata": {
    "scrolled": true
   },
   "outputs": [
    {
     "name": "stderr",
     "output_type": "stream",
     "text": [
      "  0%|          | 2/1200 [00:00<01:43, 11.58it/s]"
     ]
    },
    {
     "name": "stdout",
     "output_type": "stream",
     "text": [
      "\n",
      " | Global Training Round : 1 |\n",
      "\n",
      "Predictor loss: 153.48 | adversary loss 8.01 | Demographic disparity = 0.00\n",
      " \n",
      "Avg Training Stats after 1 global rounds:\n",
      "Training loss: 0.60 | Validation accuracy: 75.67% | Validation Demographic disparity: 0.0000\n"
     ]
    },
    {
     "name": "stderr",
     "output_type": "stream",
     "text": [
      "  4%|▍         | 50/1200 [00:04<01:51, 10.30it/s]"
     ]
    },
    {
     "name": "stdout",
     "output_type": "stream",
     "text": [
      "\n",
      " | Global Training Round : 51 |\n",
      "\n",
      "Predictor loss: 81.80 | adversary loss 6.95 | Demographic disparity = 0.03\n",
      " \n",
      "Avg Training Stats after 51 global rounds:\n",
      "Training loss: 0.28 | Validation accuracy: 79.00% | Validation Demographic disparity: 0.0333\n"
     ]
    },
    {
     "name": "stderr",
     "output_type": "stream",
     "text": [
      "  8%|▊         | 102/1200 [00:08<01:32, 11.83it/s]"
     ]
    },
    {
     "name": "stdout",
     "output_type": "stream",
     "text": [
      "\n",
      " | Global Training Round : 101 |\n",
      "\n",
      "Predictor loss: 67.62 | adversary loss 6.89 | Demographic disparity = 0.03\n",
      " \n",
      "Avg Training Stats after 101 global rounds:\n",
      "Training loss: 0.27 | Validation accuracy: 79.00% | Validation Demographic disparity: 0.0333\n"
     ]
    },
    {
     "name": "stderr",
     "output_type": "stream",
     "text": [
      " 13%|█▎        | 152/1200 [00:13<01:31, 11.43it/s]"
     ]
    },
    {
     "name": "stdout",
     "output_type": "stream",
     "text": [
      "\n",
      " | Global Training Round : 151 |\n",
      "\n",
      "Predictor loss: 67.93 | adversary loss 6.92 | Demographic disparity = 0.03\n",
      " \n",
      "Avg Training Stats after 151 global rounds:\n",
      "Training loss: 0.27 | Validation accuracy: 79.00% | Validation Demographic disparity: 0.0333\n"
     ]
    },
    {
     "name": "stderr",
     "output_type": "stream",
     "text": [
      " 17%|█▋        | 202/1200 [00:17<01:25, 11.67it/s]"
     ]
    },
    {
     "name": "stdout",
     "output_type": "stream",
     "text": [
      "\n",
      " | Global Training Round : 201 |\n",
      "\n",
      "Predictor loss: 67.65 | adversary loss 6.92 | Demographic disparity = 0.03\n",
      " \n",
      "Avg Training Stats after 201 global rounds:\n",
      "Training loss: 0.27 | Validation accuracy: 79.00% | Validation Demographic disparity: 0.0333\n"
     ]
    },
    {
     "name": "stderr",
     "output_type": "stream",
     "text": [
      " 21%|██        | 252/1200 [00:22<01:23, 11.38it/s]"
     ]
    },
    {
     "name": "stdout",
     "output_type": "stream",
     "text": [
      "\n",
      " | Global Training Round : 251 |\n",
      "\n",
      "Predictor loss: 68.81 | adversary loss 6.99 | Demographic disparity = 0.03\n",
      " \n",
      "Avg Training Stats after 251 global rounds:\n",
      "Training loss: 0.26 | Validation accuracy: 79.00% | Validation Demographic disparity: 0.0333\n"
     ]
    },
    {
     "name": "stderr",
     "output_type": "stream",
     "text": [
      " 25%|██▌       | 302/1200 [00:26<01:23, 10.79it/s]"
     ]
    },
    {
     "name": "stdout",
     "output_type": "stream",
     "text": [
      "\n",
      " | Global Training Round : 301 |\n",
      "\n",
      "Predictor loss: 70.32 | adversary loss 6.89 | Demographic disparity = 0.03\n",
      " \n",
      "Avg Training Stats after 301 global rounds:\n",
      "Training loss: 0.26 | Validation accuracy: 79.00% | Validation Demographic disparity: 0.0333\n"
     ]
    },
    {
     "name": "stderr",
     "output_type": "stream",
     "text": [
      " 29%|██▉       | 352/1200 [00:30<01:11, 11.79it/s]"
     ]
    },
    {
     "name": "stdout",
     "output_type": "stream",
     "text": [
      "\n",
      " | Global Training Round : 351 |\n",
      "\n",
      "Predictor loss: 77.93 | adversary loss 6.92 | Demographic disparity = 0.03\n",
      " \n",
      "Avg Training Stats after 351 global rounds:\n",
      "Training loss: 0.26 | Validation accuracy: 79.00% | Validation Demographic disparity: 0.0333\n"
     ]
    },
    {
     "name": "stderr",
     "output_type": "stream",
     "text": [
      " 34%|███▎      | 402/1200 [00:35<01:07, 11.80it/s]"
     ]
    },
    {
     "name": "stdout",
     "output_type": "stream",
     "text": [
      "\n",
      " | Global Training Round : 401 |\n",
      "\n",
      "Predictor loss: 87.30 | adversary loss 6.95 | Demographic disparity = 0.03\n",
      " \n",
      "Avg Training Stats after 401 global rounds:\n",
      "Training loss: 0.27 | Validation accuracy: 79.00% | Validation Demographic disparity: 0.0333\n"
     ]
    },
    {
     "name": "stderr",
     "output_type": "stream",
     "text": [
      " 38%|███▊      | 452/1200 [00:39<01:05, 11.43it/s]"
     ]
    },
    {
     "name": "stdout",
     "output_type": "stream",
     "text": [
      "\n",
      " | Global Training Round : 451 |\n",
      "\n",
      "Predictor loss: 83.05 | adversary loss 6.94 | Demographic disparity = 0.03\n",
      " \n",
      "Avg Training Stats after 451 global rounds:\n",
      "Training loss: 0.28 | Validation accuracy: 79.00% | Validation Demographic disparity: 0.0333\n"
     ]
    },
    {
     "name": "stderr",
     "output_type": "stream",
     "text": [
      " 42%|████▏     | 502/1200 [00:43<00:58, 11.88it/s]"
     ]
    },
    {
     "name": "stdout",
     "output_type": "stream",
     "text": [
      "\n",
      " | Global Training Round : 501 |\n",
      "\n",
      "Predictor loss: 76.22 | adversary loss 6.94 | Demographic disparity = 0.03\n",
      " \n",
      "Avg Training Stats after 501 global rounds:\n",
      "Training loss: 0.28 | Validation accuracy: 79.00% | Validation Demographic disparity: 0.0333\n"
     ]
    },
    {
     "name": "stderr",
     "output_type": "stream",
     "text": [
      " 46%|████▌     | 552/1200 [00:48<00:56, 11.53it/s]"
     ]
    },
    {
     "name": "stdout",
     "output_type": "stream",
     "text": [
      "\n",
      " | Global Training Round : 551 |\n",
      "\n",
      "Predictor loss: 69.99 | adversary loss 6.98 | Demographic disparity = 0.03\n",
      " \n",
      "Avg Training Stats after 551 global rounds:\n",
      "Training loss: 0.28 | Validation accuracy: 79.00% | Validation Demographic disparity: 0.0333\n"
     ]
    },
    {
     "name": "stderr",
     "output_type": "stream",
     "text": [
      " 50%|█████     | 602/1200 [00:52<00:50, 11.92it/s]"
     ]
    },
    {
     "name": "stdout",
     "output_type": "stream",
     "text": [
      "\n",
      " | Global Training Round : 601 |\n",
      "\n",
      "Predictor loss: 83.70 | adversary loss 6.96 | Demographic disparity = 0.03\n",
      " \n",
      "Avg Training Stats after 601 global rounds:\n",
      "Training loss: 0.28 | Validation accuracy: 79.00% | Validation Demographic disparity: 0.0333\n"
     ]
    },
    {
     "name": "stderr",
     "output_type": "stream",
     "text": [
      " 54%|█████▍    | 652/1200 [00:56<00:45, 12.06it/s]"
     ]
    },
    {
     "name": "stdout",
     "output_type": "stream",
     "text": [
      "\n",
      " | Global Training Round : 651 |\n",
      "\n",
      "Predictor loss: 79.83 | adversary loss 6.92 | Demographic disparity = 0.03\n",
      " \n",
      "Avg Training Stats after 651 global rounds:\n",
      "Training loss: 0.29 | Validation accuracy: 79.00% | Validation Demographic disparity: 0.0333\n"
     ]
    },
    {
     "name": "stderr",
     "output_type": "stream",
     "text": [
      " 58%|█████▊    | 702/1200 [01:00<00:41, 12.02it/s]"
     ]
    },
    {
     "name": "stdout",
     "output_type": "stream",
     "text": [
      "\n",
      " | Global Training Round : 701 |\n",
      "\n",
      "Predictor loss: 78.36 | adversary loss 6.87 | Demographic disparity = 0.03\n",
      " \n",
      "Avg Training Stats after 701 global rounds:\n",
      "Training loss: 0.29 | Validation accuracy: 79.00% | Validation Demographic disparity: 0.0333\n"
     ]
    },
    {
     "name": "stderr",
     "output_type": "stream",
     "text": [
      " 63%|██████▎   | 752/1200 [01:04<00:37, 12.08it/s]"
     ]
    },
    {
     "name": "stdout",
     "output_type": "stream",
     "text": [
      "\n",
      " | Global Training Round : 751 |\n",
      "\n",
      "Predictor loss: 94.39 | adversary loss 6.95 | Demographic disparity = 0.03\n",
      " \n",
      "Avg Training Stats after 751 global rounds:\n",
      "Training loss: 0.29 | Validation accuracy: 79.00% | Validation Demographic disparity: 0.0333\n"
     ]
    },
    {
     "name": "stderr",
     "output_type": "stream",
     "text": [
      " 67%|██████▋   | 802/1200 [01:08<00:33, 11.98it/s]"
     ]
    },
    {
     "name": "stdout",
     "output_type": "stream",
     "text": [
      "\n",
      " | Global Training Round : 801 |\n",
      "\n",
      "Predictor loss: 96.12 | adversary loss 6.99 | Demographic disparity = 0.03\n",
      " \n",
      "Avg Training Stats after 801 global rounds:\n",
      "Training loss: 0.30 | Validation accuracy: 79.00% | Validation Demographic disparity: 0.0333\n"
     ]
    },
    {
     "name": "stderr",
     "output_type": "stream",
     "text": [
      " 71%|███████   | 852/1200 [01:12<00:28, 12.24it/s]"
     ]
    },
    {
     "name": "stdout",
     "output_type": "stream",
     "text": [
      "\n",
      " | Global Training Round : 851 |\n",
      "\n",
      "Predictor loss: 102.93 | adversary loss 6.91 | Demographic disparity = 0.03\n",
      " \n",
      "Avg Training Stats after 851 global rounds:\n",
      "Training loss: 0.30 | Validation accuracy: 79.00% | Validation Demographic disparity: 0.0333\n"
     ]
    },
    {
     "name": "stderr",
     "output_type": "stream",
     "text": [
      " 75%|███████▌  | 902/1200 [01:17<00:24, 12.17it/s]"
     ]
    },
    {
     "name": "stdout",
     "output_type": "stream",
     "text": [
      "\n",
      " | Global Training Round : 901 |\n",
      "\n",
      "Predictor loss: 103.99 | adversary loss 6.93 | Demographic disparity = 0.03\n",
      " \n",
      "Avg Training Stats after 901 global rounds:\n",
      "Training loss: 0.31 | Validation accuracy: 79.00% | Validation Demographic disparity: 0.0333\n"
     ]
    },
    {
     "name": "stderr",
     "output_type": "stream",
     "text": [
      " 79%|███████▉  | 952/1200 [01:21<00:20, 12.18it/s]"
     ]
    },
    {
     "name": "stdout",
     "output_type": "stream",
     "text": [
      "\n",
      " | Global Training Round : 951 |\n",
      "\n",
      "Predictor loss: 101.25 | adversary loss 6.93 | Demographic disparity = 0.03\n",
      " \n",
      "Avg Training Stats after 951 global rounds:\n",
      "Training loss: 0.31 | Validation accuracy: 79.00% | Validation Demographic disparity: 0.0333\n"
     ]
    },
    {
     "name": "stderr",
     "output_type": "stream",
     "text": [
      " 84%|████████▎ | 1002/1200 [01:25<00:16, 12.16it/s]"
     ]
    },
    {
     "name": "stdout",
     "output_type": "stream",
     "text": [
      "\n",
      " | Global Training Round : 1001 |\n",
      "\n",
      "Predictor loss: 93.61 | adversary loss 6.94 | Demographic disparity = 0.03\n",
      " \n",
      "Avg Training Stats after 1001 global rounds:\n",
      "Training loss: 0.32 | Validation accuracy: 79.00% | Validation Demographic disparity: 0.0333\n"
     ]
    },
    {
     "name": "stderr",
     "output_type": "stream",
     "text": [
      " 88%|████████▊ | 1052/1200 [01:29<00:12, 12.16it/s]"
     ]
    },
    {
     "name": "stdout",
     "output_type": "stream",
     "text": [
      "\n",
      " | Global Training Round : 1051 |\n",
      "\n",
      "Predictor loss: 78.37 | adversary loss 6.94 | Demographic disparity = 0.03\n",
      " \n",
      "Avg Training Stats after 1051 global rounds:\n",
      "Training loss: 0.32 | Validation accuracy: 79.00% | Validation Demographic disparity: 0.0333\n"
     ]
    },
    {
     "name": "stderr",
     "output_type": "stream",
     "text": [
      " 92%|█████████▏| 1102/1200 [01:33<00:08, 11.98it/s]"
     ]
    },
    {
     "name": "stdout",
     "output_type": "stream",
     "text": [
      "\n",
      " | Global Training Round : 1101 |\n",
      "\n",
      "Predictor loss: 69.59 | adversary loss 6.96 | Demographic disparity = 0.03\n",
      " \n",
      "Avg Training Stats after 1101 global rounds:\n",
      "Training loss: 0.32 | Validation accuracy: 79.00% | Validation Demographic disparity: 0.0333\n"
     ]
    },
    {
     "name": "stderr",
     "output_type": "stream",
     "text": [
      " 96%|█████████▌| 1152/1200 [01:37<00:04, 11.95it/s]"
     ]
    },
    {
     "name": "stdout",
     "output_type": "stream",
     "text": [
      "\n",
      " | Global Training Round : 1151 |\n",
      "\n",
      "Predictor loss: 64.66 | adversary loss 6.92 | Demographic disparity = 0.03\n",
      " \n",
      "Avg Training Stats after 1151 global rounds:\n",
      "Training loss: 0.32 | Validation accuracy: 79.00% | Validation Demographic disparity: 0.0333\n"
     ]
    },
    {
     "name": "stderr",
     "output_type": "stream",
     "text": [
      "100%|██████████| 1200/1200 [01:41<00:00, 11.77it/s]"
     ]
    },
    {
     "name": "stdout",
     "output_type": "stream",
     "text": [
      " \n",
      " Results after 1200 global rounds of training:\n",
      "|---- Avg Train Accuracy: 79.00%\n",
      "|---- Test Accuracy: 75.33%\n",
      "|---- Test Demographic disparity: 0.0540\n",
      "\n",
      " Total Run Time: 101.9520 sec\n"
     ]
    },
    {
     "name": "stderr",
     "output_type": "stream",
     "text": [
      "\n"
     ]
    }
   ],
   "source": [
    "# 0.999 1\n",
    "server = Server(logReg(num_features=2, num_classes=2, seed = seed), data_info, seed = seed)\n",
    "server.FTrain(num_epochs = 1200, init_epochs = 30, lr_g = 0.003, lr_d = 0.003, ratio_gd = 1, lambda_d = 0.9999)"
   ]
  },
  {
   "cell_type": "code",
   "execution_count": 9,
   "metadata": {
    "scrolled": true
   },
   "outputs": [
    {
     "name": "stderr",
     "output_type": "stream",
     "text": [
      "  0%|          | 2/1200 [00:00<01:47, 11.18it/s]"
     ]
    },
    {
     "name": "stdout",
     "output_type": "stream",
     "text": [
      "\n",
      " | Global Training Round : 1 |\n",
      "\n",
      "Predictor loss: 153.48 | adversary loss 8.01 | Demographic disparity = 0.00\n",
      " \n",
      "Avg Training Stats after 1 global rounds:\n",
      "Training loss: 0.60 | Validation accuracy: 75.67% | Validation Demographic disparity: 0.0000\n"
     ]
    },
    {
     "name": "stderr",
     "output_type": "stream",
     "text": [
      "  4%|▍         | 52/1200 [00:04<01:34, 12.19it/s]"
     ]
    },
    {
     "name": "stdout",
     "output_type": "stream",
     "text": [
      "\n",
      " | Global Training Round : 51 |\n",
      "\n",
      "Predictor loss: 81.81 | adversary loss 6.95 | Demographic disparity = 0.03\n",
      " \n",
      "Avg Training Stats after 51 global rounds:\n",
      "Training loss: 0.28 | Validation accuracy: 79.00% | Validation Demographic disparity: 0.0333\n"
     ]
    },
    {
     "name": "stderr",
     "output_type": "stream",
     "text": [
      "  8%|▊         | 102/1200 [00:08<01:31, 12.00it/s]"
     ]
    },
    {
     "name": "stdout",
     "output_type": "stream",
     "text": [
      "\n",
      " | Global Training Round : 101 |\n",
      "\n",
      "Predictor loss: 67.70 | adversary loss 6.89 | Demographic disparity = 0.03\n",
      " \n",
      "Avg Training Stats after 101 global rounds:\n",
      "Training loss: 0.27 | Validation accuracy: 79.00% | Validation Demographic disparity: 0.0333\n"
     ]
    },
    {
     "name": "stderr",
     "output_type": "stream",
     "text": [
      " 13%|█▎        | 152/1200 [00:12<01:30, 11.62it/s]"
     ]
    },
    {
     "name": "stdout",
     "output_type": "stream",
     "text": [
      "\n",
      " | Global Training Round : 151 |\n",
      "\n",
      "Predictor loss: 68.17 | adversary loss 6.92 | Demographic disparity = 0.03\n",
      " \n",
      "Avg Training Stats after 151 global rounds:\n",
      "Training loss: 0.27 | Validation accuracy: 79.00% | Validation Demographic disparity: 0.0333\n"
     ]
    },
    {
     "name": "stderr",
     "output_type": "stream",
     "text": [
      " 17%|█▋        | 202/1200 [00:17<01:29, 11.13it/s]"
     ]
    },
    {
     "name": "stdout",
     "output_type": "stream",
     "text": [
      "\n",
      " | Global Training Round : 201 |\n",
      "\n",
      "Predictor loss: 68.14 | adversary loss 6.92 | Demographic disparity = 0.03\n",
      " \n",
      "Avg Training Stats after 201 global rounds:\n",
      "Training loss: 0.27 | Validation accuracy: 79.00% | Validation Demographic disparity: 0.0333\n"
     ]
    },
    {
     "name": "stderr",
     "output_type": "stream",
     "text": [
      " 21%|██        | 252/1200 [00:21<01:18, 12.15it/s]"
     ]
    },
    {
     "name": "stdout",
     "output_type": "stream",
     "text": [
      "\n",
      " | Global Training Round : 251 |\n",
      "\n",
      "Predictor loss: 69.63 | adversary loss 6.99 | Demographic disparity = 0.03\n",
      " \n",
      "Avg Training Stats after 251 global rounds:\n",
      "Training loss: 0.27 | Validation accuracy: 79.00% | Validation Demographic disparity: 0.0333\n"
     ]
    },
    {
     "name": "stderr",
     "output_type": "stream",
     "text": [
      " 25%|██▌       | 302/1200 [00:25<01:13, 12.28it/s]"
     ]
    },
    {
     "name": "stdout",
     "output_type": "stream",
     "text": [
      "\n",
      " | Global Training Round : 301 |\n",
      "\n",
      "Predictor loss: 71.46 | adversary loss 6.89 | Demographic disparity = 0.03\n",
      " \n",
      "Avg Training Stats after 301 global rounds:\n",
      "Training loss: 0.26 | Validation accuracy: 79.00% | Validation Demographic disparity: 0.0333\n"
     ]
    },
    {
     "name": "stderr",
     "output_type": "stream",
     "text": [
      " 29%|██▉       | 352/1200 [00:29<01:09, 12.25it/s]"
     ]
    },
    {
     "name": "stdout",
     "output_type": "stream",
     "text": [
      "\n",
      " | Global Training Round : 351 |\n",
      "\n",
      "Predictor loss: 80.84 | adversary loss 6.92 | Demographic disparity = 0.03\n",
      " \n",
      "Avg Training Stats after 351 global rounds:\n",
      "Training loss: 0.27 | Validation accuracy: 79.00% | Validation Demographic disparity: 0.0333\n"
     ]
    },
    {
     "name": "stderr",
     "output_type": "stream",
     "text": [
      " 34%|███▎      | 402/1200 [00:33<01:05, 12.11it/s]"
     ]
    },
    {
     "name": "stdout",
     "output_type": "stream",
     "text": [
      "\n",
      " | Global Training Round : 401 |\n",
      "\n",
      "Predictor loss: 94.04 | adversary loss 6.95 | Demographic disparity = 0.03\n",
      " \n",
      "Avg Training Stats after 401 global rounds:\n",
      "Training loss: 0.28 | Validation accuracy: 79.00% | Validation Demographic disparity: 0.0333\n"
     ]
    },
    {
     "name": "stderr",
     "output_type": "stream",
     "text": [
      " 38%|███▊      | 452/1200 [00:38<01:02, 11.94it/s]"
     ]
    },
    {
     "name": "stdout",
     "output_type": "stream",
     "text": [
      "\n",
      " | Global Training Round : 451 |\n",
      "\n",
      "Predictor loss: 95.56 | adversary loss 6.94 | Demographic disparity = 0.03\n",
      " \n",
      "Avg Training Stats after 451 global rounds:\n",
      "Training loss: 0.29 | Validation accuracy: 79.00% | Validation Demographic disparity: 0.0333\n"
     ]
    },
    {
     "name": "stderr",
     "output_type": "stream",
     "text": [
      " 42%|████▏     | 502/1200 [00:42<00:58, 11.89it/s]"
     ]
    },
    {
     "name": "stdout",
     "output_type": "stream",
     "text": [
      "\n",
      " | Global Training Round : 501 |\n",
      "\n",
      "Predictor loss: 95.72 | adversary loss 6.95 | Demographic disparity = 0.03\n",
      " \n",
      "Avg Training Stats after 501 global rounds:\n",
      "Training loss: 0.30 | Validation accuracy: 79.00% | Validation Demographic disparity: 0.0333\n"
     ]
    },
    {
     "name": "stderr",
     "output_type": "stream",
     "text": [
      " 46%|████▌     | 552/1200 [00:46<00:54, 11.86it/s]"
     ]
    },
    {
     "name": "stdout",
     "output_type": "stream",
     "text": [
      "\n",
      " | Global Training Round : 551 |\n",
      "\n",
      "Predictor loss: 87.09 | adversary loss 6.97 | Demographic disparity = 0.03\n",
      " \n",
      "Avg Training Stats after 551 global rounds:\n",
      "Training loss: 0.30 | Validation accuracy: 79.00% | Validation Demographic disparity: 0.0333\n"
     ]
    },
    {
     "name": "stderr",
     "output_type": "stream",
     "text": [
      " 50%|█████     | 602/1200 [00:50<00:50, 11.90it/s]"
     ]
    },
    {
     "name": "stdout",
     "output_type": "stream",
     "text": [
      "\n",
      " | Global Training Round : 601 |\n",
      "\n",
      "Predictor loss: 109.21 | adversary loss 6.96 | Demographic disparity = 0.03\n",
      " \n",
      "Avg Training Stats after 601 global rounds:\n",
      "Training loss: 0.31 | Validation accuracy: 79.00% | Validation Demographic disparity: 0.0333\n"
     ]
    },
    {
     "name": "stderr",
     "output_type": "stream",
     "text": [
      " 54%|█████▍    | 652/1200 [00:55<00:46, 11.79it/s]"
     ]
    },
    {
     "name": "stdout",
     "output_type": "stream",
     "text": [
      "\n",
      " | Global Training Round : 651 |\n",
      "\n",
      "Predictor loss: 112.50 | adversary loss 7.03 | Demographic disparity = 0.03\n",
      " \n",
      "Avg Training Stats after 651 global rounds:\n",
      "Training loss: 0.32 | Validation accuracy: 79.00% | Validation Demographic disparity: 0.0333\n"
     ]
    },
    {
     "name": "stderr",
     "output_type": "stream",
     "text": [
      " 58%|█████▊    | 702/1200 [00:59<00:41, 11.90it/s]"
     ]
    },
    {
     "name": "stdout",
     "output_type": "stream",
     "text": [
      "\n",
      " | Global Training Round : 701 |\n",
      "\n",
      "Predictor loss: 116.05 | adversary loss 7.00 | Demographic disparity = 0.00\n",
      " \n",
      "Avg Training Stats after 701 global rounds:\n",
      "Training loss: 0.33 | Validation accuracy: 75.67% | Validation Demographic disparity: 0.0000\n"
     ]
    },
    {
     "name": "stderr",
     "output_type": "stream",
     "text": [
      " 63%|██████▎   | 752/1200 [01:03<00:37, 11.94it/s]"
     ]
    },
    {
     "name": "stdout",
     "output_type": "stream",
     "text": [
      "\n",
      " | Global Training Round : 751 |\n",
      "\n",
      "Predictor loss: 120.96 | adversary loss 6.81 | Demographic disparity = 0.03\n",
      " \n",
      "Avg Training Stats after 751 global rounds:\n",
      "Training loss: 0.34 | Validation accuracy: 79.00% | Validation Demographic disparity: 0.0333\n"
     ]
    },
    {
     "name": "stderr",
     "output_type": "stream",
     "text": [
      " 67%|██████▋   | 802/1200 [01:07<00:33, 11.82it/s]"
     ]
    },
    {
     "name": "stdout",
     "output_type": "stream",
     "text": [
      "\n",
      " | Global Training Round : 801 |\n",
      "\n",
      "Predictor loss: 127.28 | adversary loss 6.92 | Demographic disparity = 0.00\n",
      " \n",
      "Avg Training Stats after 801 global rounds:\n",
      "Training loss: 0.35 | Validation accuracy: 75.67% | Validation Demographic disparity: 0.0000\n"
     ]
    },
    {
     "name": "stderr",
     "output_type": "stream",
     "text": [
      " 71%|███████   | 852/1200 [01:12<00:29, 11.73it/s]"
     ]
    },
    {
     "name": "stdout",
     "output_type": "stream",
     "text": [
      "\n",
      " | Global Training Round : 851 |\n",
      "\n",
      "Predictor loss: 132.40 | adversary loss 6.94 | Demographic disparity = 0.00\n",
      " \n",
      "Avg Training Stats after 851 global rounds:\n",
      "Training loss: 0.36 | Validation accuracy: 75.67% | Validation Demographic disparity: 0.0000\n"
     ]
    },
    {
     "name": "stderr",
     "output_type": "stream",
     "text": [
      " 75%|███████▌  | 902/1200 [01:16<00:25, 11.81it/s]"
     ]
    },
    {
     "name": "stdout",
     "output_type": "stream",
     "text": [
      "\n",
      " | Global Training Round : 901 |\n",
      "\n",
      "Predictor loss: 130.07 | adversary loss 6.93 | Demographic disparity = 0.00\n",
      " \n",
      "Avg Training Stats after 901 global rounds:\n",
      "Training loss: 0.37 | Validation accuracy: 75.67% | Validation Demographic disparity: 0.0000\n"
     ]
    },
    {
     "name": "stderr",
     "output_type": "stream",
     "text": [
      " 79%|███████▉  | 952/1200 [01:20<00:20, 11.84it/s]"
     ]
    },
    {
     "name": "stdout",
     "output_type": "stream",
     "text": [
      "\n",
      " | Global Training Round : 951 |\n",
      "\n",
      "Predictor loss: 127.74 | adversary loss 6.96 | Demographic disparity = 0.00\n",
      " \n",
      "Avg Training Stats after 951 global rounds:\n",
      "Training loss: 0.37 | Validation accuracy: 75.67% | Validation Demographic disparity: 0.0000\n"
     ]
    },
    {
     "name": "stderr",
     "output_type": "stream",
     "text": [
      " 84%|████████▎ | 1002/1200 [01:25<00:18, 10.80it/s]"
     ]
    },
    {
     "name": "stdout",
     "output_type": "stream",
     "text": [
      "\n",
      " | Global Training Round : 1001 |\n",
      "\n",
      "Predictor loss: 123.13 | adversary loss 6.94 | Demographic disparity = 0.00\n",
      " \n",
      "Avg Training Stats after 1001 global rounds:\n",
      "Training loss: 0.38 | Validation accuracy: 75.67% | Validation Demographic disparity: 0.0000\n"
     ]
    },
    {
     "name": "stderr",
     "output_type": "stream",
     "text": [
      " 88%|████████▊ | 1052/1200 [01:29<00:13, 10.59it/s]"
     ]
    },
    {
     "name": "stdout",
     "output_type": "stream",
     "text": [
      "\n",
      " | Global Training Round : 1051 |\n",
      "\n",
      "Predictor loss: 123.18 | adversary loss 6.94 | Demographic disparity = 0.00\n",
      " \n",
      "Avg Training Stats after 1051 global rounds:\n",
      "Training loss: 0.38 | Validation accuracy: 75.67% | Validation Demographic disparity: 0.0000\n"
     ]
    },
    {
     "name": "stderr",
     "output_type": "stream",
     "text": [
      " 92%|█████████▏| 1101/1200 [01:34<00:10,  9.83it/s]"
     ]
    },
    {
     "name": "stdout",
     "output_type": "stream",
     "text": [
      "\n",
      " | Global Training Round : 1101 |\n",
      "\n",
      "Predictor loss: 136.00 | adversary loss 6.94 | Demographic disparity = 0.00\n",
      " \n",
      "Avg Training Stats after 1101 global rounds:\n",
      "Training loss: 0.39 | Validation accuracy: 75.67% | Validation Demographic disparity: 0.0000\n"
     ]
    },
    {
     "name": "stderr",
     "output_type": "stream",
     "text": [
      " 96%|█████████▌| 1151/1200 [01:38<00:04, 10.98it/s]"
     ]
    },
    {
     "name": "stdout",
     "output_type": "stream",
     "text": [
      "\n",
      " | Global Training Round : 1151 |\n",
      "\n",
      "Predictor loss: 137.88 | adversary loss 6.94 | Demographic disparity = 0.00\n",
      " \n",
      "Avg Training Stats after 1151 global rounds:\n",
      "Training loss: 0.40 | Validation accuracy: 75.67% | Validation Demographic disparity: 0.0000\n"
     ]
    },
    {
     "name": "stderr",
     "output_type": "stream",
     "text": [
      "100%|██████████| 1200/1200 [01:42<00:00, 11.70it/s]"
     ]
    },
    {
     "name": "stdout",
     "output_type": "stream",
     "text": [
      " \n",
      " Results after 1200 global rounds of training:\n",
      "|---- Avg Train Accuracy: 79.00%\n",
      "|---- Test Accuracy: 75.33%\n",
      "|---- Test Demographic disparity: 0.0540\n",
      "\n",
      " Total Run Time: 102.6081 sec\n"
     ]
    },
    {
     "name": "stderr",
     "output_type": "stream",
     "text": [
      "\n"
     ]
    }
   ],
   "source": [
    "# 0.999 0.999995\n",
    "server = Server(logReg(num_features=2, num_classes=2, seed = seed), data_info, seed = seed)\n",
    "server.FTrain(num_epochs = 1200, init_epochs = 30, lr_g = 0.003, lr_d = 0.003, ratio_gd = 1, lambda_d = 0.999995)"
   ]
  },
  {
   "cell_type": "code",
   "execution_count": 10,
   "metadata": {},
   "outputs": [],
   "source": [
    "data_info = nsfData(q = (0.9,0.1), test_samples = 300, train_samples = 3000)"
   ]
  },
  {
   "cell_type": "code",
   "execution_count": 19,
   "metadata": {
    "scrolled": true
   },
   "outputs": [
    {
     "name": "stderr",
     "output_type": "stream",
     "text": [
      "  1%|          | 6/1000 [00:00<00:17, 57.63it/s]"
     ]
    },
    {
     "name": "stdout",
     "output_type": "stream",
     "text": [
      "\n",
      " | Global Training Round : 1 |\n",
      "\n",
      " \n",
      "Avg Training Stats after 1 global rounds:\n",
      "accuracy loss: 20.51 | fairness loss 102.89 | Demographic disparity = 0.00\n",
      "Training loss: 205.07 | Validation accuracy: 64.33% | Validation Demographic disparity: 0.0000\n"
     ]
    },
    {
     "name": "stderr",
     "output_type": "stream",
     "text": [
      "  6%|▌         | 60/1000 [00:01<00:16, 57.71it/s]"
     ]
    },
    {
     "name": "stdout",
     "output_type": "stream",
     "text": [
      "\n",
      " | Global Training Round : 51 |\n",
      "\n",
      " \n",
      "Avg Training Stats after 51 global rounds:\n",
      "accuracy loss: 17.21 | fairness loss 117.53 | Demographic disparity = 0.00\n",
      "Training loss: 172.05 | Validation accuracy: 64.33% | Validation Demographic disparity: 0.0000\n"
     ]
    },
    {
     "name": "stderr",
     "output_type": "stream",
     "text": [
      " 11%|█         | 111/1000 [00:01<00:13, 66.40it/s]"
     ]
    },
    {
     "name": "stdout",
     "output_type": "stream",
     "text": [
      "\n",
      " | Global Training Round : 101 |\n",
      "\n",
      " \n",
      "Avg Training Stats after 101 global rounds:\n",
      "accuracy loss: 15.40 | fairness loss 148.62 | Demographic disparity = 0.00\n",
      "Training loss: 154.01 | Validation accuracy: 64.33% | Validation Demographic disparity: 0.0000\n"
     ]
    },
    {
     "name": "stderr",
     "output_type": "stream",
     "text": [
      " 16%|█▌        | 155/1000 [00:02<00:13, 64.85it/s]"
     ]
    },
    {
     "name": "stdout",
     "output_type": "stream",
     "text": [
      "\n",
      " | Global Training Round : 151 |\n",
      "\n",
      " \n",
      "Avg Training Stats after 151 global rounds:\n",
      "accuracy loss: 14.43 | fairness loss 181.70 | Demographic disparity = 0.00\n",
      "Training loss: 144.26 | Validation accuracy: 64.33% | Validation Demographic disparity: 0.0000\n"
     ]
    },
    {
     "name": "stderr",
     "output_type": "stream",
     "text": [
      " 21%|██        | 206/1000 [00:03<00:12, 64.24it/s]"
     ]
    },
    {
     "name": "stdout",
     "output_type": "stream",
     "text": [
      "\n",
      " | Global Training Round : 201 |\n",
      "\n",
      " \n",
      "Avg Training Stats after 201 global rounds:\n",
      "accuracy loss: 13.87 | fairness loss 211.10 | Demographic disparity = 0.00\n",
      "Training loss: 138.74 | Validation accuracy: 64.33% | Validation Demographic disparity: 0.0000\n"
     ]
    },
    {
     "name": "stderr",
     "output_type": "stream",
     "text": [
      " 26%|██▌       | 257/1000 [00:04<00:11, 63.02it/s]"
     ]
    },
    {
     "name": "stdout",
     "output_type": "stream",
     "text": [
      "\n",
      " | Global Training Round : 251 |\n",
      "\n",
      " \n",
      "Avg Training Stats after 251 global rounds:\n",
      "accuracy loss: 13.56 | fairness loss 233.43 | Demographic disparity = 0.00\n",
      "Training loss: 135.58 | Validation accuracy: 64.33% | Validation Demographic disparity: 0.0000\n"
     ]
    },
    {
     "name": "stderr",
     "output_type": "stream",
     "text": [
      " 31%|███       | 307/1000 [00:04<00:10, 63.70it/s]"
     ]
    },
    {
     "name": "stdout",
     "output_type": "stream",
     "text": [
      "\n",
      " | Global Training Round : 301 |\n",
      "\n",
      " \n",
      "Avg Training Stats after 301 global rounds:\n",
      "accuracy loss: 13.39 | fairness loss 247.60 | Demographic disparity = 0.00\n",
      "Training loss: 133.86 | Validation accuracy: 64.33% | Validation Demographic disparity: 0.0000\n"
     ]
    },
    {
     "name": "stderr",
     "output_type": "stream",
     "text": [
      " 36%|███▌      | 357/1000 [00:05<00:10, 63.63it/s]"
     ]
    },
    {
     "name": "stdout",
     "output_type": "stream",
     "text": [
      "\n",
      " | Global Training Round : 351 |\n",
      "\n",
      " \n",
      "Avg Training Stats after 351 global rounds:\n",
      "accuracy loss: 13.30 | fairness loss 255.21 | Demographic disparity = 0.00\n",
      "Training loss: 133.00 | Validation accuracy: 64.33% | Validation Demographic disparity: 0.0000\n"
     ]
    },
    {
     "name": "stderr",
     "output_type": "stream",
     "text": [
      " 41%|████      | 411/1000 [00:06<00:08, 69.86it/s]"
     ]
    },
    {
     "name": "stdout",
     "output_type": "stream",
     "text": [
      "\n",
      " | Global Training Round : 401 |\n",
      "\n",
      " \n",
      "Avg Training Stats after 401 global rounds:\n",
      "accuracy loss: 13.26 | fairness loss 258.76 | Demographic disparity = 0.00\n",
      "Training loss: 132.62 | Validation accuracy: 64.33% | Validation Demographic disparity: 0.0000\n"
     ]
    },
    {
     "name": "stderr",
     "output_type": "stream",
     "text": [
      " 46%|████▋     | 463/1000 [00:07<00:07, 68.00it/s]"
     ]
    },
    {
     "name": "stdout",
     "output_type": "stream",
     "text": [
      "\n",
      " | Global Training Round : 451 |\n",
      "\n",
      " \n",
      "Avg Training Stats after 451 global rounds:\n",
      "accuracy loss: 13.25 | fairness loss 260.23 | Demographic disparity = 0.00\n",
      "Training loss: 132.46 | Validation accuracy: 64.33% | Validation Demographic disparity: 0.0000\n"
     ]
    },
    {
     "name": "stderr",
     "output_type": "stream",
     "text": [
      " 51%|█████     | 509/1000 [00:07<00:07, 69.20it/s]"
     ]
    },
    {
     "name": "stdout",
     "output_type": "stream",
     "text": [
      "\n",
      " | Global Training Round : 501 |\n",
      "\n",
      " \n",
      "Avg Training Stats after 501 global rounds:\n",
      "accuracy loss: 13.24 | fairness loss 260.77 | Demographic disparity = 0.00\n",
      "Training loss: 132.40 | Validation accuracy: 64.33% | Validation Demographic disparity: 0.0000\n"
     ]
    },
    {
     "name": "stderr",
     "output_type": "stream",
     "text": [
      " 56%|█████▌    | 558/1000 [00:08<00:06, 64.87it/s]"
     ]
    },
    {
     "name": "stdout",
     "output_type": "stream",
     "text": [
      "\n",
      " | Global Training Round : 551 |\n",
      "\n",
      " \n",
      "Avg Training Stats after 551 global rounds:\n",
      "accuracy loss: 13.24 | fairness loss 260.94 | Demographic disparity = 0.00\n",
      "Training loss: 132.39 | Validation accuracy: 64.33% | Validation Demographic disparity: 0.0000\n"
     ]
    },
    {
     "name": "stderr",
     "output_type": "stream",
     "text": [
      " 61%|██████    | 609/1000 [00:09<00:05, 67.27it/s]"
     ]
    },
    {
     "name": "stdout",
     "output_type": "stream",
     "text": [
      "\n",
      " | Global Training Round : 601 |\n",
      "\n",
      " \n",
      "Avg Training Stats after 601 global rounds:\n",
      "accuracy loss: 13.24 | fairness loss 261.00 | Demographic disparity = 0.10\n",
      "Training loss: 132.38 | Validation accuracy: 73.00% | Validation Demographic disparity: 0.0952\n"
     ]
    },
    {
     "name": "stderr",
     "output_type": "stream",
     "text": [
      " 66%|██████▌   | 658/1000 [00:10<00:06, 55.51it/s]"
     ]
    },
    {
     "name": "stdout",
     "output_type": "stream",
     "text": [
      "\n",
      " | Global Training Round : 651 |\n",
      "\n",
      " \n",
      "Avg Training Stats after 651 global rounds:\n",
      "accuracy loss: 13.24 | fairness loss 261.01 | Demographic disparity = 0.10\n",
      "Training loss: 132.38 | Validation accuracy: 73.00% | Validation Demographic disparity: 0.0952\n"
     ]
    },
    {
     "name": "stderr",
     "output_type": "stream",
     "text": [
      " 71%|███████   | 707/1000 [00:11<00:04, 60.85it/s]"
     ]
    },
    {
     "name": "stdout",
     "output_type": "stream",
     "text": [
      "\n",
      " | Global Training Round : 701 |\n",
      "\n",
      " \n",
      "Avg Training Stats after 701 global rounds:\n",
      "accuracy loss: 13.24 | fairness loss 261.01 | Demographic disparity = 0.10\n",
      "Training loss: 132.38 | Validation accuracy: 73.00% | Validation Demographic disparity: 0.0952\n"
     ]
    },
    {
     "name": "stderr",
     "output_type": "stream",
     "text": [
      " 76%|███████▋  | 763/1000 [00:11<00:03, 63.69it/s]"
     ]
    },
    {
     "name": "stdout",
     "output_type": "stream",
     "text": [
      "\n",
      " | Global Training Round : 751 |\n",
      "\n",
      " \n",
      "Avg Training Stats after 751 global rounds:\n",
      "accuracy loss: 13.24 | fairness loss 261.01 | Demographic disparity = 0.10\n",
      "Training loss: 132.38 | Validation accuracy: 73.00% | Validation Demographic disparity: 0.0952\n"
     ]
    },
    {
     "name": "stderr",
     "output_type": "stream",
     "text": [
      " 81%|████████  | 809/1000 [00:12<00:02, 69.01it/s]"
     ]
    },
    {
     "name": "stdout",
     "output_type": "stream",
     "text": [
      "\n",
      " | Global Training Round : 801 |\n",
      "\n",
      " \n",
      "Avg Training Stats after 801 global rounds:\n",
      "accuracy loss: 13.24 | fairness loss 261.01 | Demographic disparity = 0.10\n",
      "Training loss: 132.38 | Validation accuracy: 73.00% | Validation Demographic disparity: 0.0952\n"
     ]
    },
    {
     "name": "stderr",
     "output_type": "stream",
     "text": [
      " 86%|████████▌ | 859/1000 [00:13<00:02, 66.33it/s]"
     ]
    },
    {
     "name": "stdout",
     "output_type": "stream",
     "text": [
      "\n",
      " | Global Training Round : 851 |\n",
      "\n",
      " \n",
      "Avg Training Stats after 851 global rounds:\n",
      "accuracy loss: 13.24 | fairness loss 261.01 | Demographic disparity = 0.10\n",
      "Training loss: 132.38 | Validation accuracy: 73.00% | Validation Demographic disparity: 0.0952\n"
     ]
    },
    {
     "name": "stderr",
     "output_type": "stream",
     "text": [
      " 91%|█████████ | 911/1000 [00:14<00:01, 69.34it/s]"
     ]
    },
    {
     "name": "stdout",
     "output_type": "stream",
     "text": [
      "\n",
      " | Global Training Round : 901 |\n",
      "\n",
      " \n",
      "Avg Training Stats after 901 global rounds:\n",
      "accuracy loss: 13.24 | fairness loss 261.01 | Demographic disparity = 0.10\n",
      "Training loss: 132.38 | Validation accuracy: 73.00% | Validation Demographic disparity: 0.0952\n"
     ]
    },
    {
     "name": "stderr",
     "output_type": "stream",
     "text": [
      " 96%|█████████▋| 964/1000 [00:14<00:00, 70.77it/s]"
     ]
    },
    {
     "name": "stdout",
     "output_type": "stream",
     "text": [
      "\n",
      " | Global Training Round : 951 |\n",
      "\n",
      " \n",
      "Avg Training Stats after 951 global rounds:\n",
      "accuracy loss: 13.24 | fairness loss 261.01 | Demographic disparity = 0.10\n",
      "Training loss: 132.38 | Validation accuracy: 73.00% | Validation Demographic disparity: 0.0952\n"
     ]
    },
    {
     "name": "stderr",
     "output_type": "stream",
     "text": [
      "100%|██████████| 1000/1000 [00:15<00:00, 65.03it/s]"
     ]
    },
    {
     "name": "stdout",
     "output_type": "stream",
     "text": [
      " \n",
      " Results after 1000 global rounds of training:\n",
      "|---- Avg Train Accuracy: 73.00%\n",
      "|---- Test Accuracy: 76.33%\n",
      "|---- Test Demographic disparity: 0.0777\n",
      "\n",
      " Total Run Time: 15.3975 sec\n"
     ]
    },
    {
     "name": "stderr",
     "output_type": "stream",
     "text": [
      "\n"
     ]
    }
   ],
   "source": [
    "#8750 8800\n",
    "server = Server(logReg(num_features=2, num_classes=2, seed = seed), data_info, seed = seed)\n",
    "server.FairConstraints(num_epochs = 1000, optimizer = 'adam', learning_rate = 0.005, penalty = 8760)"
   ]
  },
  {
   "cell_type": "code",
   "execution_count": 36,
   "metadata": {},
   "outputs": [],
   "source": [
    "synthetic_info = dataGenerate(seed = 745, test_samples = 300, train_samples = 3000, client_split = ((.7,.1),(.2,.3),(.1,.6)))"
   ]
  },
  {
   "cell_type": "code",
   "execution_count": 35,
   "metadata": {
    "scrolled": true
   },
   "outputs": [
    {
     "name": "stderr",
     "output_type": "stream",
     "text": [
      "  0%|          | 4/1000 [00:00<00:24, 40.00it/s]"
     ]
    },
    {
     "name": "stdout",
     "output_type": "stream",
     "text": [
      "\n",
      " | Global Training Round : 1 |\n",
      "\n",
      " \n",
      "Avg Training Stats after 1 global rounds:\n",
      "accuracy loss: 23.74 | fairness loss 7586.97 | Demographic disparity = 0.19\n",
      "Training loss: 237.36 | Validation accuracy: 57.33% | Validation Demographic disparity: 0.1905\n"
     ]
    },
    {
     "name": "stderr",
     "output_type": "stream",
     "text": [
      "  6%|▌         | 61/1000 [00:01<00:15, 61.13it/s]"
     ]
    },
    {
     "name": "stdout",
     "output_type": "stream",
     "text": [
      "\n",
      " | Global Training Round : 51 |\n",
      "\n",
      " \n",
      "Avg Training Stats after 51 global rounds:\n",
      "accuracy loss: 21.58 | fairness loss 1273.71 | Demographic disparity = 0.11\n",
      "Training loss: 215.82 | Validation accuracy: 55.67% | Validation Demographic disparity: 0.1130\n"
     ]
    },
    {
     "name": "stderr",
     "output_type": "stream",
     "text": [
      " 11%|█         | 111/1000 [00:01<00:13, 65.86it/s]"
     ]
    },
    {
     "name": "stdout",
     "output_type": "stream",
     "text": [
      "\n",
      " | Global Training Round : 101 |\n",
      "\n",
      " \n",
      "Avg Training Stats after 101 global rounds:\n",
      "accuracy loss: 18.92 | fairness loss 272.97 | Demographic disparity = 0.05\n",
      "Training loss: 189.17 | Validation accuracy: 61.67% | Validation Demographic disparity: 0.0488\n"
     ]
    },
    {
     "name": "stderr",
     "output_type": "stream",
     "text": [
      " 16%|█▌        | 160/1000 [00:02<00:13, 63.94it/s]"
     ]
    },
    {
     "name": "stdout",
     "output_type": "stream",
     "text": [
      "\n",
      " | Global Training Round : 151 |\n",
      "\n",
      " \n",
      "Avg Training Stats after 151 global rounds:\n",
      "accuracy loss: 18.09 | fairness loss 102.87 | Demographic disparity = 0.00\n",
      "Training loss: 180.94 | Validation accuracy: 63.00% | Validation Demographic disparity: 0.0000\n"
     ]
    },
    {
     "name": "stderr",
     "output_type": "stream",
     "text": [
      " 21%|██        | 210/1000 [00:03<00:12, 64.43it/s]"
     ]
    },
    {
     "name": "stdout",
     "output_type": "stream",
     "text": [
      "\n",
      " | Global Training Round : 201 |\n",
      "\n",
      " \n",
      "Avg Training Stats after 201 global rounds:\n",
      "accuracy loss: 17.83 | fairness loss 90.22 | Demographic disparity = 0.02\n",
      "Training loss: 178.32 | Validation accuracy: 64.00% | Validation Demographic disparity: 0.0183\n"
     ]
    },
    {
     "name": "stderr",
     "output_type": "stream",
     "text": [
      " 26%|██▌       | 259/1000 [00:04<00:11, 65.08it/s]"
     ]
    },
    {
     "name": "stdout",
     "output_type": "stream",
     "text": [
      "\n",
      " | Global Training Round : 251 |\n",
      "\n",
      " \n",
      "Avg Training Stats after 251 global rounds:\n",
      "accuracy loss: 17.76 | fairness loss 93.22 | Demographic disparity = 0.03\n",
      "Training loss: 177.59 | Validation accuracy: 64.67% | Validation Demographic disparity: 0.0305\n"
     ]
    },
    {
     "name": "stderr",
     "output_type": "stream",
     "text": [
      " 31%|███       | 308/1000 [00:04<00:10, 64.34it/s]"
     ]
    },
    {
     "name": "stdout",
     "output_type": "stream",
     "text": [
      "\n",
      " | Global Training Round : 301 |\n",
      "\n",
      " \n",
      "Avg Training Stats after 301 global rounds:\n",
      "accuracy loss: 17.74 | fairness loss 94.42 | Demographic disparity = 0.04\n",
      "Training loss: 177.43 | Validation accuracy: 65.00% | Validation Demographic disparity: 0.0366\n"
     ]
    },
    {
     "name": "stderr",
     "output_type": "stream",
     "text": [
      " 36%|███▌      | 357/1000 [00:05<00:12, 53.54it/s]"
     ]
    },
    {
     "name": "stdout",
     "output_type": "stream",
     "text": [
      "\n",
      " | Global Training Round : 351 |\n",
      "\n",
      " \n",
      "Avg Training Stats after 351 global rounds:\n",
      "accuracy loss: 17.74 | fairness loss 94.58 | Demographic disparity = 0.04\n",
      "Training loss: 177.40 | Validation accuracy: 65.00% | Validation Demographic disparity: 0.0366\n"
     ]
    },
    {
     "name": "stderr",
     "output_type": "stream",
     "text": [
      " 41%|████▏     | 413/1000 [00:06<00:08, 66.00it/s]"
     ]
    },
    {
     "name": "stdout",
     "output_type": "stream",
     "text": [
      "\n",
      " | Global Training Round : 401 |\n",
      "\n",
      " \n",
      "Avg Training Stats after 401 global rounds:\n",
      "accuracy loss: 17.74 | fairness loss 94.55 | Demographic disparity = 0.04\n",
      "Training loss: 177.40 | Validation accuracy: 65.00% | Validation Demographic disparity: 0.0366\n"
     ]
    },
    {
     "name": "stderr",
     "output_type": "stream",
     "text": [
      " 46%|████▌     | 462/1000 [00:07<00:09, 59.69it/s]"
     ]
    },
    {
     "name": "stdout",
     "output_type": "stream",
     "text": [
      "\n",
      " | Global Training Round : 451 |\n",
      "\n",
      " \n",
      "Avg Training Stats after 451 global rounds:\n",
      "accuracy loss: 17.74 | fairness loss 94.51 | Demographic disparity = 0.04\n",
      "Training loss: 177.41 | Validation accuracy: 65.00% | Validation Demographic disparity: 0.0366\n"
     ]
    },
    {
     "name": "stderr",
     "output_type": "stream",
     "text": [
      " 51%|█████     | 511/1000 [00:08<00:07, 66.15it/s]"
     ]
    },
    {
     "name": "stdout",
     "output_type": "stream",
     "text": [
      "\n",
      " | Global Training Round : 501 |\n",
      "\n",
      " \n",
      "Avg Training Stats after 501 global rounds:\n",
      "accuracy loss: 17.74 | fairness loss 94.49 | Demographic disparity = 0.04\n",
      "Training loss: 177.41 | Validation accuracy: 65.00% | Validation Demographic disparity: 0.0366\n"
     ]
    },
    {
     "name": "stderr",
     "output_type": "stream",
     "text": [
      " 56%|█████▌    | 560/1000 [00:08<00:06, 64.40it/s]"
     ]
    },
    {
     "name": "stdout",
     "output_type": "stream",
     "text": [
      "\n",
      " | Global Training Round : 551 |\n",
      "\n",
      " \n",
      "Avg Training Stats after 551 global rounds:\n",
      "accuracy loss: 17.74 | fairness loss 94.48 | Demographic disparity = 0.04\n",
      "Training loss: 177.41 | Validation accuracy: 65.00% | Validation Demographic disparity: 0.0366\n"
     ]
    },
    {
     "name": "stderr",
     "output_type": "stream",
     "text": [
      " 61%|██████    | 610/1000 [00:09<00:06, 63.15it/s]"
     ]
    },
    {
     "name": "stdout",
     "output_type": "stream",
     "text": [
      "\n",
      " | Global Training Round : 601 |\n",
      "\n",
      " \n",
      "Avg Training Stats after 601 global rounds:\n",
      "accuracy loss: 17.74 | fairness loss 94.48 | Demographic disparity = 0.04\n",
      "Training loss: 177.41 | Validation accuracy: 65.00% | Validation Demographic disparity: 0.0366\n"
     ]
    },
    {
     "name": "stderr",
     "output_type": "stream",
     "text": [
      " 66%|██████▌   | 659/1000 [00:10<00:05, 67.28it/s]"
     ]
    },
    {
     "name": "stdout",
     "output_type": "stream",
     "text": [
      "\n",
      " | Global Training Round : 651 |\n",
      "\n",
      " \n",
      "Avg Training Stats after 651 global rounds:\n",
      "accuracy loss: 17.74 | fairness loss 94.47 | Demographic disparity = 0.04\n",
      "Training loss: 177.41 | Validation accuracy: 65.00% | Validation Demographic disparity: 0.0366\n"
     ]
    },
    {
     "name": "stderr",
     "output_type": "stream",
     "text": [
      " 71%|███████   | 710/1000 [00:11<00:04, 68.25it/s]"
     ]
    },
    {
     "name": "stdout",
     "output_type": "stream",
     "text": [
      "\n",
      " | Global Training Round : 701 |\n",
      "\n",
      " \n",
      "Avg Training Stats after 701 global rounds:\n",
      "accuracy loss: 17.74 | fairness loss 94.47 | Demographic disparity = 0.04\n",
      "Training loss: 177.41 | Validation accuracy: 65.00% | Validation Demographic disparity: 0.0366\n"
     ]
    },
    {
     "name": "stderr",
     "output_type": "stream",
     "text": [
      " 76%|███████▌  | 762/1000 [00:11<00:03, 69.45it/s]"
     ]
    },
    {
     "name": "stdout",
     "output_type": "stream",
     "text": [
      "\n",
      " | Global Training Round : 751 |\n",
      "\n",
      " \n",
      "Avg Training Stats after 751 global rounds:\n",
      "accuracy loss: 17.74 | fairness loss 94.47 | Demographic disparity = 0.04\n",
      "Training loss: 177.41 | Validation accuracy: 65.00% | Validation Demographic disparity: 0.0366\n"
     ]
    },
    {
     "name": "stderr",
     "output_type": "stream",
     "text": [
      " 81%|████████  | 806/1000 [00:12<00:03, 60.24it/s]"
     ]
    },
    {
     "name": "stdout",
     "output_type": "stream",
     "text": [
      "\n",
      " | Global Training Round : 801 |\n",
      "\n",
      " \n",
      "Avg Training Stats after 801 global rounds:\n",
      "accuracy loss: 17.74 | fairness loss 94.47 | Demographic disparity = 0.04\n",
      "Training loss: 177.41 | Validation accuracy: 65.00% | Validation Demographic disparity: 0.0366\n"
     ]
    },
    {
     "name": "stderr",
     "output_type": "stream",
     "text": [
      " 85%|████████▌ | 853/1000 [00:14<00:06, 23.44it/s]"
     ]
    },
    {
     "name": "stdout",
     "output_type": "stream",
     "text": [
      "\n",
      " | Global Training Round : 851 |\n",
      "\n",
      " \n",
      "Avg Training Stats after 851 global rounds:\n",
      "accuracy loss: 17.74 | fairness loss 94.47 | Demographic disparity = 0.04\n",
      "Training loss: 177.41 | Validation accuracy: 65.00% | Validation Demographic disparity: 0.0366\n"
     ]
    },
    {
     "name": "stderr",
     "output_type": "stream",
     "text": [
      " 90%|█████████ | 903/1000 [00:15<00:03, 30.41it/s]"
     ]
    },
    {
     "name": "stdout",
     "output_type": "stream",
     "text": [
      "\n",
      " | Global Training Round : 901 |\n",
      "\n",
      " \n",
      "Avg Training Stats after 901 global rounds:\n",
      "accuracy loss: 17.74 | fairness loss 94.47 | Demographic disparity = 0.04\n",
      "Training loss: 177.41 | Validation accuracy: 65.00% | Validation Demographic disparity: 0.0366\n"
     ]
    },
    {
     "name": "stderr",
     "output_type": "stream",
     "text": [
      " 95%|█████████▌| 954/1000 [00:17<00:01, 33.57it/s]"
     ]
    },
    {
     "name": "stdout",
     "output_type": "stream",
     "text": [
      "\n",
      " | Global Training Round : 951 |\n",
      "\n",
      " \n",
      "Avg Training Stats after 951 global rounds:\n",
      "accuracy loss: 17.74 | fairness loss 94.47 | Demographic disparity = 0.04\n",
      "Training loss: 177.41 | Validation accuracy: 65.00% | Validation Demographic disparity: 0.0366\n"
     ]
    },
    {
     "name": "stderr",
     "output_type": "stream",
     "text": [
      "100%|██████████| 1000/1000 [00:18<00:00, 52.96it/s]"
     ]
    },
    {
     "name": "stdout",
     "output_type": "stream",
     "text": [
      " \n",
      " Results after 1000 global rounds of training:\n",
      "|---- Avg Train Accuracy: 65.00%\n",
      "|---- Test Accuracy: 62.67%\n",
      "|---- Test Demographic disparity: 0.0207\n",
      "\n",
      " Total Run Time: 18.9163 sec\n"
     ]
    },
    {
     "name": "stderr",
     "output_type": "stream",
     "text": [
      "\n"
     ]
    }
   ],
   "source": [
    "#8750 8800\n",
    "server = Server(logReg(num_features=3, num_classes=2, seed = seed), synthetic_info, seed = seed)\n",
    "server.FairConstraints(num_epochs = 1000, optimizer = 'adam', learning_rate = 0.005, penalty = 18000)"
   ]
  },
  {
   "cell_type": "code",
   "execution_count": 41,
   "metadata": {
    "scrolled": true
   },
   "outputs": [
    {
     "name": "stderr",
     "output_type": "stream",
     "text": [
      "\n",
      "  0%|          | 0/300 [00:00<?, ?it/s]\u001b[A\n",
      "  0%|          | 1/300 [00:00<00:55,  5.36it/s]\u001b[A"
     ]
    },
    {
     "name": "stdout",
     "output_type": "stream",
     "text": [
      "\n",
      " | Global Training Round : 1 |\n",
      "\n",
      "Accuracy loss: 81.53 | fairness loss 73.70 | Demographic disparity = 0.38\n",
      " \n",
      "Avg Training Stats after 1 global rounds:\n",
      "Training loss: 0.72 | Training accuracy: 70.37% | Training Demographic disparity: 0.3753\n"
     ]
    },
    {
     "name": "stderr",
     "output_type": "stream",
     "text": [
      "\n",
      "  1%|          | 2/300 [00:00<00:58,  5.08it/s]\u001b[A\n",
      "  1%|          | 3/300 [00:00<00:57,  5.20it/s]\u001b[A\n",
      "  1%|▏         | 4/300 [00:00<00:57,  5.11it/s]\u001b[A\n",
      "  2%|▏         | 5/300 [00:00<00:56,  5.25it/s]\u001b[A\n",
      "  2%|▏         | 6/300 [00:01<00:57,  5.10it/s]\u001b[A\n",
      "  2%|▏         | 7/300 [00:01<00:59,  4.94it/s]\u001b[A\n",
      "  3%|▎         | 8/300 [00:01<00:58,  4.97it/s]\u001b[A\n",
      "  3%|▎         | 9/300 [00:01<01:00,  4.79it/s]\u001b[A\n",
      "  3%|▎         | 10/300 [00:02<01:03,  4.59it/s]\u001b[A\n",
      "  4%|▎         | 11/300 [00:02<01:03,  4.57it/s]\u001b[A\n",
      "  4%|▍         | 12/300 [00:02<01:03,  4.55it/s]\u001b[A\n"
     ]
    },
    {
     "ename": "KeyboardInterrupt",
     "evalue": "",
     "output_type": "error",
     "traceback": [
      "\u001b[0;31m---------------------------------------------------------------------------\u001b[0m",
      "\u001b[0;31mKeyboardInterrupt\u001b[0m                         Traceback (most recent call last)",
      "\u001b[0;32m<ipython-input-41-1be29722990d>\u001b[0m in \u001b[0;36m<module>\u001b[0;34m\u001b[0m\n\u001b[1;32m      1\u001b[0m \u001b[0mserver\u001b[0m \u001b[0;34m=\u001b[0m \u001b[0mServer\u001b[0m\u001b[0;34m(\u001b[0m\u001b[0mlogReg\u001b[0m\u001b[0;34m(\u001b[0m\u001b[0mnum_features\u001b[0m\u001b[0;34m=\u001b[0m\u001b[0;36m3\u001b[0m\u001b[0;34m,\u001b[0m \u001b[0mnum_classes\u001b[0m\u001b[0;34m=\u001b[0m\u001b[0;36m2\u001b[0m\u001b[0;34m,\u001b[0m \u001b[0mseed\u001b[0m \u001b[0;34m=\u001b[0m \u001b[0mseed\u001b[0m\u001b[0;34m)\u001b[0m\u001b[0;34m,\u001b[0m \u001b[0msynthetic_info\u001b[0m\u001b[0;34m,\u001b[0m \u001b[0mseed\u001b[0m \u001b[0;34m=\u001b[0m \u001b[0mseed\u001b[0m\u001b[0;34m)\u001b[0m\u001b[0;34m\u001b[0m\u001b[0;34m\u001b[0m\u001b[0m\n\u001b[0;32m----> 2\u001b[0;31m \u001b[0mserver\u001b[0m\u001b[0;34m.\u001b[0m\u001b[0mFairBatch\u001b[0m\u001b[0;34m(\u001b[0m\u001b[0mnum_epochs\u001b[0m \u001b[0;34m=\u001b[0m \u001b[0;36m300\u001b[0m\u001b[0;34m,\u001b[0m \u001b[0moptimizer\u001b[0m \u001b[0;34m=\u001b[0m \u001b[0;34m'adam'\u001b[0m\u001b[0;34m,\u001b[0m \u001b[0mlearning_rate\u001b[0m \u001b[0;34m=\u001b[0m \u001b[0;36m0.004\u001b[0m\u001b[0;34m,\u001b[0m \u001b[0malpha\u001b[0m \u001b[0;34m=\u001b[0m \u001b[0;36m0.01\u001b[0m\u001b[0;34m)\u001b[0m\u001b[0;34m\u001b[0m\u001b[0;34m\u001b[0m\u001b[0m\n\u001b[0m",
      "\u001b[0;32m~/Google Drive/办公/research/code/Fair-FedAvg/centralized/DPFair.py\u001b[0m in \u001b[0;36mFairBatch\u001b[0;34m(self, num_epochs, learning_rate, optimizer, alpha, trace)\u001b[0m\n\u001b[1;32m    801\u001b[0m             \u001b[0mself\u001b[0m\u001b[0;34m.\u001b[0m\u001b[0mmodel\u001b[0m\u001b[0;34m.\u001b[0m\u001b[0meval\u001b[0m\u001b[0;34m(\u001b[0m\u001b[0;34m)\u001b[0m\u001b[0;34m\u001b[0m\u001b[0;34m\u001b[0m\u001b[0m\n\u001b[1;32m    802\u001b[0m                 \u001b[0;31m# validation dataset inference\u001b[0m\u001b[0;34m\u001b[0m\u001b[0;34m\u001b[0m\u001b[0;34m\u001b[0m\u001b[0m\n\u001b[0;32m--> 803\u001b[0;31m             \u001b[0macc\u001b[0m\u001b[0;34m,\u001b[0m \u001b[0mloss\u001b[0m\u001b[0;34m,\u001b[0m \u001b[0mn_yz\u001b[0m\u001b[0;34m,\u001b[0m \u001b[0macc_loss\u001b[0m\u001b[0;34m,\u001b[0m \u001b[0mfair_loss\u001b[0m\u001b[0;34m,\u001b[0m \u001b[0mloss_yz\u001b[0m \u001b[0;34m=\u001b[0m \u001b[0mself\u001b[0m\u001b[0;34m.\u001b[0m\u001b[0minference\u001b[0m\u001b[0;34m(\u001b[0m\u001b[0mmodel\u001b[0m \u001b[0;34m=\u001b[0m \u001b[0mself\u001b[0m\u001b[0;34m.\u001b[0m\u001b[0mmodel\u001b[0m\u001b[0;34m,\u001b[0m \u001b[0moption\u001b[0m \u001b[0;34m=\u001b[0m \u001b[0;34m'FairBatch'\u001b[0m\u001b[0;34m,\u001b[0m \u001b[0mvalidloader\u001b[0m\u001b[0;34m=\u001b[0m\u001b[0mself\u001b[0m\u001b[0;34m.\u001b[0m\u001b[0mtrainloader\u001b[0m\u001b[0;34m)\u001b[0m\u001b[0;34m\u001b[0m\u001b[0;34m\u001b[0m\u001b[0m\n\u001b[0m\u001b[1;32m    804\u001b[0m             \u001b[0mlist_acc\u001b[0m\u001b[0;34m.\u001b[0m\u001b[0mappend\u001b[0m\u001b[0;34m(\u001b[0m\u001b[0macc\u001b[0m\u001b[0;34m)\u001b[0m\u001b[0;34m\u001b[0m\u001b[0;34m\u001b[0m\u001b[0m\n\u001b[1;32m    805\u001b[0m \u001b[0;34m\u001b[0m\u001b[0m\n",
      "\u001b[0;32m~/Google Drive/办公/research/code/Fair-FedAvg/centralized/DPFair.py\u001b[0m in \u001b[0;36minference\u001b[0;34m(self, option, penalty, model, validloader)\u001b[0m\n\u001b[1;32m   1011\u001b[0m                                                     \u001b[0mlabels\u001b[0m\u001b[0;34m[\u001b[0m\u001b[0mgroup_boolean_idx\u001b[0m\u001b[0;34m[\u001b[0m\u001b[0myz\u001b[0m\u001b[0;34m]\u001b[0m\u001b[0;34m]\u001b[0m\u001b[0;34m,\u001b[0m\u001b[0;34m\u001b[0m\u001b[0;34m\u001b[0m\u001b[0m\n\u001b[1;32m   1012\u001b[0m                                          \u001b[0moutputs\u001b[0m\u001b[0;34m[\u001b[0m\u001b[0mgroup_boolean_idx\u001b[0m\u001b[0;34m[\u001b[0m\u001b[0myz\u001b[0m\u001b[0;34m]\u001b[0m\u001b[0;34m]\u001b[0m\u001b[0;34m,\u001b[0m \u001b[0msensitive\u001b[0m\u001b[0;34m[\u001b[0m\u001b[0mgroup_boolean_idx\u001b[0m\u001b[0;34m[\u001b[0m\u001b[0myz\u001b[0m\u001b[0;34m]\u001b[0m\u001b[0;34m]\u001b[0m\u001b[0;34m,\u001b[0m\u001b[0;34m\u001b[0m\u001b[0;34m\u001b[0m\u001b[0m\n\u001b[0;32m-> 1013\u001b[0;31m                                          penalty)\n\u001b[0m\u001b[1;32m   1014\u001b[0m                     \u001b[0mloss_yz\u001b[0m\u001b[0;34m[\u001b[0m\u001b[0myz\u001b[0m\u001b[0;34m]\u001b[0m \u001b[0;34m+=\u001b[0m \u001b[0mloss_yz_\u001b[0m\u001b[0;34m\u001b[0m\u001b[0;34m\u001b[0m\u001b[0m\n\u001b[1;32m   1015\u001b[0m \u001b[0;34m\u001b[0m\u001b[0m\n",
      "\u001b[0;32m~/Google Drive/办公/research/code/Fair-FedAvg/utils.py\u001b[0m in \u001b[0;36mloss_func\u001b[0;34m(option, logits, targets, outputs, sensitive, larg)\u001b[0m\n\u001b[1;32m    164\u001b[0m     \"\"\"\n\u001b[1;32m    165\u001b[0m \u001b[0;34m\u001b[0m\u001b[0m\n\u001b[0;32m--> 166\u001b[0;31m     \u001b[0macc_loss\u001b[0m \u001b[0;34m=\u001b[0m \u001b[0mF\u001b[0m\u001b[0;34m.\u001b[0m\u001b[0mcross_entropy\u001b[0m\u001b[0;34m(\u001b[0m\u001b[0mlogits\u001b[0m\u001b[0;34m,\u001b[0m \u001b[0mtargets\u001b[0m\u001b[0;34m,\u001b[0m \u001b[0mreduction\u001b[0m \u001b[0;34m=\u001b[0m \u001b[0;34m'sum'\u001b[0m\u001b[0;34m)\u001b[0m\u001b[0;34m\u001b[0m\u001b[0;34m\u001b[0m\u001b[0m\n\u001b[0m\u001b[1;32m    167\u001b[0m     \u001b[0mfair_loss0\u001b[0m \u001b[0;34m=\u001b[0m \u001b[0mtorch\u001b[0m\u001b[0;34m.\u001b[0m\u001b[0mmul\u001b[0m\u001b[0;34m(\u001b[0m\u001b[0msensitive\u001b[0m \u001b[0;34m-\u001b[0m \u001b[0msensitive\u001b[0m\u001b[0;34m.\u001b[0m\u001b[0mtype\u001b[0m\u001b[0;34m(\u001b[0m\u001b[0mtorch\u001b[0m\u001b[0;34m.\u001b[0m\u001b[0mFloatTensor\u001b[0m\u001b[0;34m)\u001b[0m\u001b[0;34m.\u001b[0m\u001b[0mmean\u001b[0m\u001b[0;34m(\u001b[0m\u001b[0;34m)\u001b[0m\u001b[0;34m,\u001b[0m \u001b[0mlogits\u001b[0m\u001b[0;34m.\u001b[0m\u001b[0mT\u001b[0m\u001b[0;34m[\u001b[0m\u001b[0;36m0\u001b[0m\u001b[0;34m]\u001b[0m \u001b[0;34m-\u001b[0m \u001b[0mtorch\u001b[0m\u001b[0;34m.\u001b[0m\u001b[0mmean\u001b[0m\u001b[0;34m(\u001b[0m\u001b[0mlogits\u001b[0m\u001b[0;34m.\u001b[0m\u001b[0mT\u001b[0m\u001b[0;34m[\u001b[0m\u001b[0;36m0\u001b[0m\u001b[0;34m]\u001b[0m\u001b[0;34m)\u001b[0m\u001b[0;34m)\u001b[0m\u001b[0;34m\u001b[0m\u001b[0;34m\u001b[0m\u001b[0m\n\u001b[1;32m    168\u001b[0m     \u001b[0mfair_loss0\u001b[0m \u001b[0;34m=\u001b[0m \u001b[0mtorch\u001b[0m\u001b[0;34m.\u001b[0m\u001b[0mmean\u001b[0m\u001b[0;34m(\u001b[0m\u001b[0mtorch\u001b[0m\u001b[0;34m.\u001b[0m\u001b[0mmul\u001b[0m\u001b[0;34m(\u001b[0m\u001b[0mfair_loss0\u001b[0m\u001b[0;34m,\u001b[0m \u001b[0mfair_loss0\u001b[0m\u001b[0;34m)\u001b[0m\u001b[0;34m)\u001b[0m\u001b[0;34m\u001b[0m\u001b[0;34m\u001b[0m\u001b[0m\n",
      "\u001b[0;31mKeyboardInterrupt\u001b[0m: "
     ]
    }
   ],
   "source": [
    "server = Server(logReg(num_features=3, num_classes=2, seed = seed), synthetic_info, seed = seed)\n",
    "server.FairBatch(num_epochs = 300, optimizer = 'adam', learning_rate = 0.004, alpha = 0.01)"
   ]
  },
  {
   "cell_type": "code",
   "execution_count": null,
   "metadata": {},
   "outputs": [],
   "source": []
  }
 ],
 "metadata": {
  "kernelspec": {
   "display_name": "Python 3",
   "language": "python",
   "name": "python3"
  },
  "language_info": {
   "codemirror_mode": {
    "name": "ipython",
    "version": 3
   },
   "file_extension": ".py",
   "mimetype": "text/x-python",
   "name": "python",
   "nbconvert_exporter": "python",
   "pygments_lexer": "ipython3",
   "version": "3.7.4"
  }
 },
 "nbformat": 4,
 "nbformat_minor": 2
}
