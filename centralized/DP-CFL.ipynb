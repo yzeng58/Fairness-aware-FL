{
 "cells": [
  {
   "cell_type": "code",
   "execution_count": 4,
   "metadata": {},
   "outputs": [],
   "source": [
    "from DPFair import *\n",
    "seed = 123"
   ]
  },
  {
   "cell_type": "code",
   "execution_count": 5,
   "metadata": {},
   "outputs": [],
   "source": [
    "data_info = nsfData(q = (0.9,0.1), test_samples = 300, train_samples = 3000)"
   ]
  },
  {
   "cell_type": "code",
   "execution_count": 11,
   "metadata": {
    "scrolled": true
   },
   "outputs": [
    {
     "name": "stderr",
     "output_type": "stream",
     "text": [
      "  1%|          | 2/300 [00:00<00:25, 11.86it/s]"
     ]
    },
    {
     "name": "stdout",
     "output_type": "stream",
     "text": [
      "\n",
      " | Global Training Round : 1 |\n",
      "\n",
      "Predictor loss: 243.97 | adversary loss 12.34 | Demographic disparity = 0.00\n",
      " \n",
      "Avg Training Stats after 1 global rounds:\n",
      "Training loss: 0.63 | Validation accuracy: 49.33% | Validation Demographic disparity: 0.0000\n"
     ]
    },
    {
     "name": "stderr",
     "output_type": "stream",
     "text": [
      " 17%|█▋        | 52/300 [00:04<00:20, 12.13it/s]"
     ]
    },
    {
     "name": "stdout",
     "output_type": "stream",
     "text": [
      "\n",
      " | Global Training Round : 51 |\n",
      "\n",
      "Predictor loss: 15.63 | adversary loss 7.02 | Demographic disparity = 0.49\n",
      " \n",
      "Avg Training Stats after 51 global rounds:\n",
      "Training loss: 0.17 | Validation accuracy: 100.00% | Validation Demographic disparity: 0.4933\n"
     ]
    },
    {
     "name": "stderr",
     "output_type": "stream",
     "text": [
      " 34%|███▍      | 102/300 [00:08<00:16, 11.83it/s]"
     ]
    },
    {
     "name": "stdout",
     "output_type": "stream",
     "text": [
      "\n",
      " | Global Training Round : 101 |\n",
      "\n",
      "Predictor loss: 12.08 | adversary loss 6.34 | Demographic disparity = 0.49\n",
      " \n",
      "Avg Training Stats after 101 global rounds:\n",
      "Training loss: 0.13 | Validation accuracy: 100.00% | Validation Demographic disparity: 0.4933\n"
     ]
    },
    {
     "name": "stderr",
     "output_type": "stream",
     "text": [
      " 51%|█████     | 152/300 [00:12<00:11, 12.83it/s]"
     ]
    },
    {
     "name": "stdout",
     "output_type": "stream",
     "text": [
      "\n",
      " | Global Training Round : 151 |\n",
      "\n",
      "Predictor loss: 12.78 | adversary loss 8.17 | Demographic disparity = 0.49\n",
      " \n",
      "Avg Training Stats after 151 global rounds:\n",
      "Training loss: 0.13 | Validation accuracy: 100.00% | Validation Demographic disparity: 0.4933\n"
     ]
    },
    {
     "name": "stderr",
     "output_type": "stream",
     "text": [
      " 67%|██████▋   | 202/300 [00:16<00:08, 12.21it/s]"
     ]
    },
    {
     "name": "stdout",
     "output_type": "stream",
     "text": [
      "\n",
      " | Global Training Round : 201 |\n",
      "\n",
      "Predictor loss: 12.40 | adversary loss 7.18 | Demographic disparity = 0.49\n",
      " \n",
      "Avg Training Stats after 201 global rounds:\n",
      "Training loss: 0.13 | Validation accuracy: 100.00% | Validation Demographic disparity: 0.4933\n"
     ]
    },
    {
     "name": "stderr",
     "output_type": "stream",
     "text": [
      " 84%|████████▍ | 252/300 [00:20<00:03, 12.04it/s]"
     ]
    },
    {
     "name": "stdout",
     "output_type": "stream",
     "text": [
      "\n",
      " | Global Training Round : 251 |\n",
      "\n",
      "Predictor loss: 12.63 | adversary loss 7.67 | Demographic disparity = 0.49\n",
      " \n",
      "Avg Training Stats after 251 global rounds:\n",
      "Training loss: 0.13 | Validation accuracy: 100.00% | Validation Demographic disparity: 0.4933\n"
     ]
    },
    {
     "name": "stderr",
     "output_type": "stream",
     "text": [
      "100%|██████████| 300/300 [00:24<00:00, 12.07it/s]"
     ]
    },
    {
     "name": "stdout",
     "output_type": "stream",
     "text": [
      " \n",
      " Results after 300 global rounds of training:\n",
      "|---- Avg Train Accuracy: 100.00%\n",
      "|---- Test Accuracy: 100.00%\n",
      "|---- Test Demographic disparity: 0.1590\n",
      "\n",
      " Total Run Time: 24.8835 sec\n"
     ]
    },
    {
     "name": "stderr",
     "output_type": "stream",
     "text": [
      "\n"
     ]
    }
   ],
   "source": [
    "server = Server(logReg(num_features=2, num_classes=2, seed = seed), data_info, seed = seed)\n",
    "server.FTrain(num_epochs = 300, init_epochs = 50, lr_g = 0.005, lr_d = 0.01, lambda_d = 1)"
   ]
  },
  {
   "cell_type": "code",
   "execution_count": null,
   "metadata": {},
   "outputs": [],
   "source": []
  }
 ],
 "metadata": {
  "kernelspec": {
   "display_name": "Python 3",
   "language": "python",
   "name": "python3"
  },
  "language_info": {
   "codemirror_mode": {
    "name": "ipython",
    "version": 3
   },
   "file_extension": ".py",
   "mimetype": "text/x-python",
   "name": "python",
   "nbconvert_exporter": "python",
   "pygments_lexer": "ipython3",
   "version": "3.7.4"
  }
 },
 "nbformat": 4,
 "nbformat_minor": 2
}
