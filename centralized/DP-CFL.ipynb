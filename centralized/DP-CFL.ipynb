{
 "cells": [
  {
   "cell_type": "code",
   "execution_count": 1,
   "metadata": {},
   "outputs": [],
   "source": [
    "from DPFair import *\n",
    "seed = 123"
   ]
  },
  {
   "cell_type": "code",
   "execution_count": 2,
   "metadata": {},
   "outputs": [],
   "source": [
    "data_info = ufldataset(test_samples = 300, train_samples = 3000)"
   ]
  },
  {
   "cell_type": "code",
   "execution_count": 11,
   "metadata": {
    "scrolled": true
   },
   "outputs": [
    {
     "name": "stderr",
     "output_type": "stream",
     "text": [
      " 20%|█▉        | 59/300 [00:00<00:03, 64.96it/s]"
     ]
    },
    {
     "name": "stdout",
     "output_type": "stream",
     "text": [
      "\n",
      " | Global Training Round : 50 |\n",
      "\n",
      " \n",
      "Avg Training Stats after 50 global rounds:\n",
      "accuracy loss: 22.41 | fairness loss 289.04 | Demographic disparity = 0.00\n",
      "Training loss: 224.05 | Validation accuracy: 50.67% | Validation Demographic disparity: 0.0000\n"
     ]
    },
    {
     "name": "stderr",
     "output_type": "stream",
     "text": [
      " 36%|███▌      | 108/300 [00:01<00:02, 66.60it/s]"
     ]
    },
    {
     "name": "stdout",
     "output_type": "stream",
     "text": [
      "\n",
      " | Global Training Round : 100 |\n",
      "\n",
      " \n",
      "Avg Training Stats after 100 global rounds:\n",
      "accuracy loss: 19.25 | fairness loss 75.04 | Demographic disparity = 0.03\n",
      "Training loss: 192.50 | Validation accuracy: 53.00% | Validation Demographic disparity: 0.0253\n"
     ]
    },
    {
     "name": "stderr",
     "output_type": "stream",
     "text": [
      " 52%|█████▏    | 157/300 [00:02<00:02, 66.79it/s]"
     ]
    },
    {
     "name": "stdout",
     "output_type": "stream",
     "text": [
      "\n",
      " | Global Training Round : 150 |\n",
      "\n",
      " \n",
      "Avg Training Stats after 150 global rounds:\n",
      "accuracy loss: 18.34 | fairness loss 91.95 | Demographic disparity = 0.12\n",
      "Training loss: 183.40 | Validation accuracy: 78.67% | Validation Demographic disparity: 0.1161\n"
     ]
    },
    {
     "name": "stderr",
     "output_type": "stream",
     "text": [
      " 69%|██████▊   | 206/300 [00:03<00:01, 67.83it/s]"
     ]
    },
    {
     "name": "stdout",
     "output_type": "stream",
     "text": [
      "\n",
      " | Global Training Round : 200 |\n",
      "\n",
      " \n",
      "Avg Training Stats after 200 global rounds:\n",
      "accuracy loss: 18.17 | fairness loss 99.77 | Demographic disparity = 0.04\n",
      "Training loss: 181.69 | Validation accuracy: 80.33% | Validation Demographic disparity: 0.0383\n"
     ]
    },
    {
     "name": "stderr",
     "output_type": "stream",
     "text": [
      " 85%|████████▌ | 256/300 [00:03<00:00, 67.73it/s]"
     ]
    },
    {
     "name": "stdout",
     "output_type": "stream",
     "text": [
      "\n",
      " | Global Training Round : 250 |\n",
      "\n",
      " \n",
      "Avg Training Stats after 250 global rounds:\n",
      "accuracy loss: 18.15 | fairness loss 100.29 | Demographic disparity = 0.03\n",
      "Training loss: 181.55 | Validation accuracy: 79.67% | Validation Demographic disparity: 0.0297\n"
     ]
    },
    {
     "name": "stderr",
     "output_type": "stream",
     "text": [
      "100%|██████████| 300/300 [00:04<00:00, 64.68it/s]"
     ]
    },
    {
     "name": "stdout",
     "output_type": "stream",
     "text": [
      "\n",
      " | Global Training Round : 300 |\n",
      "\n",
      " \n",
      "Avg Training Stats after 300 global rounds:\n",
      "accuracy loss: 18.16 | fairness loss 100.37 | Demographic disparity = 0.03\n",
      "Training loss: 181.56 | Validation accuracy: 79.33% | Validation Demographic disparity: 0.0261\n",
      " \n",
      " Results after 300 global rounds of training:\n",
      "|---- Avg Train Accuracy: 79.33%\n",
      "|---- Test Accuracy: 78.00%\n",
      "|---- Test Demographic disparity: 0.0087\n",
      "\n",
      " Total Run Time: 4.6519 sec\n"
     ]
    },
    {
     "name": "stderr",
     "output_type": "stream",
     "text": [
      "\n"
     ]
    }
   ],
   "source": [
    "#6500 6550 6600\n",
    "server = Server(logReg(num_features=2, num_classes=2, seed = seed), data_info, seed = seed)\n",
    "server.FairConstraints(num_epochs = 300, optimizer = 'adam', learning_rate = 0.005, penalty = 10000)"
   ]
  },
  {
   "cell_type": "code",
   "execution_count": 8,
   "metadata": {
    "scrolled": true
   },
   "outputs": [
    {
     "name": "stderr",
     "output_type": "stream",
     "text": [
      " 17%|█▋        | 51/300 [00:04<00:20, 12.43it/s]"
     ]
    },
    {
     "name": "stdout",
     "output_type": "stream",
     "text": [
      "\n",
      " | Global Training Round : 50 |\n",
      "\n",
      "Predictor loss: 120.77 | adversary loss 6.69 | Demographic disparity = 0.02\n",
      " \n",
      "Avg Training Stats after 50 global rounds:\n",
      "Training loss: 0.47 | Validation accuracy: 79.00% | Validation Demographic disparity: 0.0164\n"
     ]
    },
    {
     "name": "stderr",
     "output_type": "stream",
     "text": [
      " 33%|███▎      | 100/300 [00:08<00:16, 11.96it/s]"
     ]
    },
    {
     "name": "stdout",
     "output_type": "stream",
     "text": [
      "\n",
      " | Global Training Round : 100 |\n",
      "\n",
      "Predictor loss: 120.94 | adversary loss 6.57 | Demographic disparity = 0.01\n",
      " \n",
      "Avg Training Stats after 100 global rounds:\n",
      "Training loss: 0.47 | Validation accuracy: 78.67% | Validation Demographic disparity: 0.0128\n"
     ]
    },
    {
     "name": "stderr",
     "output_type": "stream",
     "text": [
      " 50%|█████     | 150/300 [00:13<00:13, 11.37it/s]"
     ]
    },
    {
     "name": "stdout",
     "output_type": "stream",
     "text": [
      "\n",
      " | Global Training Round : 150 |\n",
      "\n",
      "Predictor loss: 124.44 | adversary loss 6.61 | Demographic disparity = 0.04\n",
      " \n",
      "Avg Training Stats after 150 global rounds:\n",
      "Training loss: 0.47 | Validation accuracy: 77.00% | Validation Demographic disparity: 0.0419\n"
     ]
    },
    {
     "name": "stderr",
     "output_type": "stream",
     "text": [
      " 67%|██████▋   | 200/300 [00:17<00:07, 12.55it/s]"
     ]
    },
    {
     "name": "stdout",
     "output_type": "stream",
     "text": [
      "\n",
      " | Global Training Round : 200 |\n",
      "\n",
      "Predictor loss: 125.07 | adversary loss 7.15 | Demographic disparity = 0.01\n",
      " \n",
      "Avg Training Stats after 200 global rounds:\n",
      "Training loss: 0.47 | Validation accuracy: 79.00% | Validation Demographic disparity: 0.0147\n"
     ]
    },
    {
     "name": "stderr",
     "output_type": "stream",
     "text": [
      " 83%|████████▎ | 250/300 [00:21<00:03, 13.34it/s]"
     ]
    },
    {
     "name": "stdout",
     "output_type": "stream",
     "text": [
      "\n",
      " | Global Training Round : 250 |\n",
      "\n",
      "Predictor loss: 120.76 | adversary loss 7.03 | Demographic disparity = 0.01\n",
      " \n",
      "Avg Training Stats after 250 global rounds:\n",
      "Training loss: 0.47 | Validation accuracy: 78.67% | Validation Demographic disparity: 0.0128\n"
     ]
    },
    {
     "name": "stderr",
     "output_type": "stream",
     "text": [
      "100%|██████████| 300/300 [00:25<00:00, 11.65it/s]"
     ]
    },
    {
     "name": "stdout",
     "output_type": "stream",
     "text": [
      "\n",
      " | Global Training Round : 300 |\n",
      "\n",
      "Predictor loss: 120.90 | adversary loss 6.96 | Demographic disparity = 0.03\n",
      " \n",
      "Avg Training Stats after 300 global rounds:\n",
      "Training loss: 0.47 | Validation accuracy: 79.33% | Validation Demographic disparity: 0.0272\n",
      " \n",
      " Results after 300 global rounds of training:\n",
      "|---- Avg Train Accuracy: 79.33%\n",
      "|---- Test Accuracy: 75.67%\n",
      "|---- Test Demographic disparity: 0.0499\n",
      "\n",
      " Total Run Time: 25.8748 sec\n"
     ]
    },
    {
     "name": "stderr",
     "output_type": "stream",
     "text": [
      "\n"
     ]
    }
   ],
   "source": [
    "# 0.999 1\n",
    "server = Server(logReg(num_features=2, num_classes=2, seed = seed), data_info, seed = seed)\n",
    "server.FTrain(num_epochs = 300, init_epochs = 30, lr_g = 0.005, lr_d = 0.01, ratio_gd = 3, lambda_d = 0.9)"
   ]
  },
  {
   "cell_type": "code",
   "execution_count": 2,
   "metadata": {},
   "outputs": [],
   "source": [
    "synthetic_info = dataGenerate(seed = 745, test_samples = 300, train_samples = 600, client_split = ((.7,.1),(.2,.3),(.1,.6)))"
   ]
  },
  {
   "cell_type": "code",
   "execution_count": 3,
   "metadata": {
    "scrolled": true
   },
   "outputs": [
    {
     "name": "stderr",
     "output_type": "stream",
     "text": [
      "  7%|▋         | 71/1000 [00:00<00:06, 136.82it/s]"
     ]
    },
    {
     "name": "stdout",
     "output_type": "stream",
     "text": [
      "\n",
      " | Global Training Round : 50 |\n",
      "\n",
      " \n",
      "Avg Training Stats after 50 global rounds:\n",
      "accuracy loss: 7.82 | fairness loss 397.09 | Demographic disparity = 0.26\n",
      "Training loss: 46.93 | Validation accuracy: 51.67% | Validation Demographic disparity: 0.2583\n"
     ]
    },
    {
     "name": "stderr",
     "output_type": "stream",
     "text": [
      " 12%|█▏        | 117/1000 [00:00<00:06, 145.20it/s]"
     ]
    },
    {
     "name": "stdout",
     "output_type": "stream",
     "text": [
      "\n",
      " | Global Training Round : 100 |\n",
      "\n",
      " \n",
      "Avg Training Stats after 100 global rounds:\n",
      "accuracy loss: 6.54 | fairness loss 99.16 | Demographic disparity = 0.30\n",
      "Training loss: 39.26 | Validation accuracy: 60.00% | Validation Demographic disparity: 0.3000\n"
     ]
    },
    {
     "name": "stderr",
     "output_type": "stream",
     "text": [
      " 17%|█▋        | 171/1000 [00:01<00:06, 123.78it/s]"
     ]
    },
    {
     "name": "stdout",
     "output_type": "stream",
     "text": [
      "\n",
      " | Global Training Round : 150 |\n",
      "\n",
      " \n",
      "Avg Training Stats after 150 global rounds:\n",
      "accuracy loss: 6.11 | fairness loss 28.78 | Demographic disparity = 0.00\n",
      "Training loss: 36.69 | Validation accuracy: 70.00% | Validation Demographic disparity: 0.0000\n"
     ]
    },
    {
     "name": "stderr",
     "output_type": "stream",
     "text": [
      " 21%|██▏       | 214/1000 [00:01<00:06, 123.81it/s]"
     ]
    },
    {
     "name": "stdout",
     "output_type": "stream",
     "text": [
      "\n",
      " | Global Training Round : 200 |\n",
      "\n",
      " \n",
      "Avg Training Stats after 200 global rounds:\n",
      "accuracy loss: 5.95 | fairness loss 14.56 | Demographic disparity = 0.02\n",
      "Training loss: 35.69 | Validation accuracy: 71.67% | Validation Demographic disparity: 0.0250\n"
     ]
    },
    {
     "name": "stderr",
     "output_type": "stream",
     "text": [
      " 28%|██▊       | 277/1000 [00:02<00:05, 136.10it/s]"
     ]
    },
    {
     "name": "stdout",
     "output_type": "stream",
     "text": [
      "\n",
      " | Global Training Round : 250 |\n",
      "\n",
      " \n",
      "Avg Training Stats after 250 global rounds:\n",
      "accuracy loss: 5.89 | fairness loss 12.51 | Demographic disparity = 0.05\n",
      "Training loss: 35.32 | Validation accuracy: 73.33% | Validation Demographic disparity: 0.0500\n"
     ]
    },
    {
     "name": "stderr",
     "output_type": "stream",
     "text": [
      " 32%|███▏      | 321/1000 [00:02<00:04, 138.28it/s]"
     ]
    },
    {
     "name": "stdout",
     "output_type": "stream",
     "text": [
      "\n",
      " | Global Training Round : 300 |\n",
      "\n",
      " \n",
      "Avg Training Stats after 300 global rounds:\n",
      "accuracy loss: 5.87 | fairness loss 12.43 | Demographic disparity = 0.05\n",
      "Training loss: 35.20 | Validation accuracy: 73.33% | Validation Demographic disparity: 0.0500\n"
     ]
    },
    {
     "name": "stderr",
     "output_type": "stream",
     "text": [
      " 37%|███▋      | 366/1000 [00:02<00:04, 135.21it/s]"
     ]
    },
    {
     "name": "stdout",
     "output_type": "stream",
     "text": [
      "\n",
      " | Global Training Round : 350 |\n",
      "\n",
      " \n",
      "Avg Training Stats after 350 global rounds:\n",
      "accuracy loss: 5.86 | fairness loss 12.49 | Demographic disparity = 0.05\n",
      "Training loss: 35.16 | Validation accuracy: 73.33% | Validation Demographic disparity: 0.0500\n"
     ]
    },
    {
     "name": "stderr",
     "output_type": "stream",
     "text": [
      " 42%|████▏     | 424/1000 [00:03<00:05, 114.18it/s]"
     ]
    },
    {
     "name": "stdout",
     "output_type": "stream",
     "text": [
      "\n",
      " | Global Training Round : 400 |\n",
      "\n",
      " \n",
      "Avg Training Stats after 400 global rounds:\n",
      "accuracy loss: 5.86 | fairness loss 12.51 | Demographic disparity = 0.05\n",
      "Training loss: 35.15 | Validation accuracy: 73.33% | Validation Demographic disparity: 0.0500\n"
     ]
    },
    {
     "name": "stderr",
     "output_type": "stream",
     "text": [
      " 48%|████▊     | 476/1000 [00:03<00:03, 145.01it/s]"
     ]
    },
    {
     "name": "stdout",
     "output_type": "stream",
     "text": [
      "\n",
      " | Global Training Round : 450 |\n",
      "\n",
      " \n",
      "Avg Training Stats after 450 global rounds:\n",
      "accuracy loss: 5.86 | fairness loss 12.52 | Demographic disparity = 0.05\n",
      "Training loss: 35.15 | Validation accuracy: 73.33% | Validation Demographic disparity: 0.0500\n"
     ]
    },
    {
     "name": "stderr",
     "output_type": "stream",
     "text": [
      " 51%|█████     | 509/1000 [00:03<00:03, 151.38it/s]"
     ]
    },
    {
     "name": "stdout",
     "output_type": "stream",
     "text": [
      "\n",
      " | Global Training Round : 500 |\n",
      "\n",
      " \n",
      "Avg Training Stats after 500 global rounds:\n",
      "accuracy loss: 5.86 | fairness loss 12.52 | Demographic disparity = 0.05\n",
      "Training loss: 35.15 | Validation accuracy: 73.33% | Validation Demographic disparity: 0.0500\n"
     ]
    },
    {
     "name": "stderr",
     "output_type": "stream",
     "text": [
      " 57%|█████▋    | 568/1000 [00:04<00:03, 132.69it/s]"
     ]
    },
    {
     "name": "stdout",
     "output_type": "stream",
     "text": [
      "\n",
      " | Global Training Round : 550 |\n",
      "\n",
      " \n",
      "Avg Training Stats after 550 global rounds:\n",
      "accuracy loss: 5.86 | fairness loss 12.52 | Demographic disparity = 0.05\n",
      "Training loss: 35.15 | Validation accuracy: 73.33% | Validation Demographic disparity: 0.0500\n"
     ]
    },
    {
     "name": "stderr",
     "output_type": "stream",
     "text": [
      " 62%|██████▏   | 620/1000 [00:04<00:02, 153.60it/s]"
     ]
    },
    {
     "name": "stdout",
     "output_type": "stream",
     "text": [
      "\n",
      " | Global Training Round : 600 |\n",
      "\n",
      " \n",
      "Avg Training Stats after 600 global rounds:\n",
      "accuracy loss: 5.86 | fairness loss 12.52 | Demographic disparity = 0.05\n",
      "Training loss: 35.15 | Validation accuracy: 73.33% | Validation Demographic disparity: 0.0500\n"
     ]
    },
    {
     "name": "stderr",
     "output_type": "stream",
     "text": [
      " 67%|██████▋   | 669/1000 [00:04<00:02, 153.68it/s]"
     ]
    },
    {
     "name": "stdout",
     "output_type": "stream",
     "text": [
      "\n",
      " | Global Training Round : 650 |\n",
      "\n",
      " \n",
      "Avg Training Stats after 650 global rounds:\n",
      "accuracy loss: 5.86 | fairness loss 12.52 | Demographic disparity = 0.05\n",
      "Training loss: 35.15 | Validation accuracy: 73.33% | Validation Demographic disparity: 0.0500\n"
     ]
    },
    {
     "name": "stderr",
     "output_type": "stream",
     "text": [
      " 72%|███████▏  | 718/1000 [00:05<00:01, 153.91it/s]"
     ]
    },
    {
     "name": "stdout",
     "output_type": "stream",
     "text": [
      "\n",
      " | Global Training Round : 700 |\n",
      "\n",
      " \n",
      "Avg Training Stats after 700 global rounds:\n",
      "accuracy loss: 5.86 | fairness loss 12.52 | Demographic disparity = 0.05\n",
      "Training loss: 35.15 | Validation accuracy: 73.33% | Validation Demographic disparity: 0.0500\n"
     ]
    },
    {
     "name": "stderr",
     "output_type": "stream",
     "text": [
      " 77%|███████▋  | 770/1000 [00:05<00:01, 163.60it/s]"
     ]
    },
    {
     "name": "stdout",
     "output_type": "stream",
     "text": [
      "\n",
      " | Global Training Round : 750 |\n",
      "\n",
      " \n",
      "Avg Training Stats after 750 global rounds:\n",
      "accuracy loss: 5.86 | fairness loss 12.52 | Demographic disparity = 0.05\n",
      "Training loss: 35.15 | Validation accuracy: 73.33% | Validation Demographic disparity: 0.0500\n"
     ]
    },
    {
     "name": "stderr",
     "output_type": "stream",
     "text": [
      " 82%|████████▏ | 821/1000 [00:05<00:01, 166.48it/s]"
     ]
    },
    {
     "name": "stdout",
     "output_type": "stream",
     "text": [
      "\n",
      " | Global Training Round : 800 |\n",
      "\n",
      " \n",
      "Avg Training Stats after 800 global rounds:\n",
      "accuracy loss: 5.86 | fairness loss 12.52 | Demographic disparity = 0.05\n",
      "Training loss: 35.15 | Validation accuracy: 73.33% | Validation Demographic disparity: 0.0500\n"
     ]
    },
    {
     "name": "stderr",
     "output_type": "stream",
     "text": [
      " 87%|████████▋ | 871/1000 [00:06<00:00, 155.33it/s]"
     ]
    },
    {
     "name": "stdout",
     "output_type": "stream",
     "text": [
      "\n",
      " | Global Training Round : 850 |\n",
      "\n",
      " \n",
      "Avg Training Stats after 850 global rounds:\n",
      "accuracy loss: 5.86 | fairness loss 12.52 | Demographic disparity = 0.05\n",
      "Training loss: 35.15 | Validation accuracy: 73.33% | Validation Demographic disparity: 0.0500\n"
     ]
    },
    {
     "name": "stderr",
     "output_type": "stream",
     "text": [
      " 92%|█████████▏| 919/1000 [00:06<00:00, 151.43it/s]"
     ]
    },
    {
     "name": "stdout",
     "output_type": "stream",
     "text": [
      "\n",
      " | Global Training Round : 900 |\n",
      "\n",
      " \n",
      "Avg Training Stats after 900 global rounds:\n",
      "accuracy loss: 5.86 | fairness loss 12.52 | Demographic disparity = 0.05\n",
      "Training loss: 35.15 | Validation accuracy: 73.33% | Validation Demographic disparity: 0.0500\n"
     ]
    },
    {
     "name": "stderr",
     "output_type": "stream",
     "text": [
      " 97%|█████████▋| 970/1000 [00:06<00:00, 155.50it/s]"
     ]
    },
    {
     "name": "stdout",
     "output_type": "stream",
     "text": [
      "\n",
      " | Global Training Round : 950 |\n",
      "\n",
      " \n",
      "Avg Training Stats after 950 global rounds:\n",
      "accuracy loss: 5.86 | fairness loss 12.52 | Demographic disparity = 0.05\n",
      "Training loss: 35.15 | Validation accuracy: 73.33% | Validation Demographic disparity: 0.0500\n"
     ]
    },
    {
     "name": "stderr",
     "output_type": "stream",
     "text": [
      "100%|██████████| 1000/1000 [00:07<00:00, 142.79it/s]"
     ]
    },
    {
     "name": "stdout",
     "output_type": "stream",
     "text": [
      "\n",
      " | Global Training Round : 1000 |\n",
      "\n",
      " \n",
      "Avg Training Stats after 1000 global rounds:\n",
      "accuracy loss: 5.86 | fairness loss 12.52 | Demographic disparity = 0.05\n",
      "Training loss: 35.15 | Validation accuracy: 73.33% | Validation Demographic disparity: 0.0500\n",
      " \n",
      " Results after 1000 global rounds of training:\n",
      "|---- Avg Train Accuracy: 73.33%\n",
      "|---- Test Accuracy: 62.67%\n",
      "|---- Test Demographic disparity: 0.0482\n",
      "\n",
      " Total Run Time: 7.0153 sec\n"
     ]
    },
    {
     "name": "stderr",
     "output_type": "stream",
     "text": [
      "\n"
     ]
    }
   ],
   "source": [
    "#8750 8800\n",
    "server = Server(logReg(num_features=3, num_classes=2, seed = seed), synthetic_info, seed = seed)\n",
    "server.FairConstraints(num_epochs = 1000, optimizer = 'adam', learning_rate = 0.005, penalty = 3900)"
   ]
  },
  {
   "cell_type": "code",
   "execution_count": 15,
   "metadata": {
    "scrolled": true
   },
   "outputs": [
    {
     "name": "stderr",
     "output_type": "stream",
     "text": [
      " 18%|█▊        | 53/300 [00:02<00:08, 28.38it/s]"
     ]
    },
    {
     "name": "stdout",
     "output_type": "stream",
     "text": [
      "\n",
      " | Global Training Round : 50 |\n",
      "\n",
      "Accuracy loss: 39.74 | fairness loss 59.69 | Demographic disparity = 0.28\n",
      " \n",
      "Avg Training Stats after 50 global rounds:\n",
      "Training loss: 0.59 | Training accuracy: 85.37% | Training Demographic disparity: 0.2766\n"
     ]
    },
    {
     "name": "stderr",
     "output_type": "stream",
     "text": [
      " 35%|███▍      | 104/300 [00:03<00:06, 28.41it/s]"
     ]
    },
    {
     "name": "stdout",
     "output_type": "stream",
     "text": [
      "\n",
      " | Global Training Round : 100 |\n",
      "\n",
      "Accuracy loss: 41.77 | fairness loss 69.49 | Demographic disparity = 0.19\n",
      " \n",
      "Avg Training Stats after 100 global rounds:\n",
      "Training loss: 0.49 | Training accuracy: 81.30% | Training Demographic disparity: 0.1919\n"
     ]
    },
    {
     "name": "stderr",
     "output_type": "stream",
     "text": [
      " 51%|█████     | 152/300 [00:05<00:05, 28.39it/s]"
     ]
    },
    {
     "name": "stdout",
     "output_type": "stream",
     "text": [
      "\n",
      " | Global Training Round : 150 |\n",
      "\n",
      "Accuracy loss: 47.22 | fairness loss 79.28 | Demographic disparity = 0.13\n",
      " \n",
      "Avg Training Stats after 150 global rounds:\n",
      "Training loss: 0.44 | Training accuracy: 78.70% | Training Demographic disparity: 0.1326\n"
     ]
    },
    {
     "name": "stderr",
     "output_type": "stream",
     "text": [
      " 68%|██████▊   | 203/300 [00:07<00:03, 27.98it/s]"
     ]
    },
    {
     "name": "stdout",
     "output_type": "stream",
     "text": [
      "\n",
      " | Global Training Round : 200 |\n",
      "\n",
      "Accuracy loss: 52.03 | fairness loss 84.20 | Demographic disparity = 0.08\n",
      " \n",
      "Avg Training Stats after 200 global rounds:\n",
      "Training loss: 0.41 | Training accuracy: 76.67% | Training Demographic disparity: 0.0825\n"
     ]
    },
    {
     "name": "stderr",
     "output_type": "stream",
     "text": [
      " 85%|████████▍ | 254/300 [00:09<00:01, 27.92it/s]"
     ]
    },
    {
     "name": "stdout",
     "output_type": "stream",
     "text": [
      "\n",
      " | Global Training Round : 250 |\n",
      "\n",
      "Accuracy loss: 55.05 | fairness loss 98.51 | Demographic disparity = 0.07\n",
      " \n",
      "Avg Training Stats after 250 global rounds:\n",
      "Training loss: 0.38 | Training accuracy: 75.74% | Training Demographic disparity: 0.0676\n"
     ]
    },
    {
     "name": "stderr",
     "output_type": "stream",
     "text": [
      "100%|██████████| 300/300 [00:11<00:00, 27.15it/s]"
     ]
    },
    {
     "name": "stdout",
     "output_type": "stream",
     "text": [
      "\n",
      " | Global Training Round : 300 |\n",
      "\n",
      "Accuracy loss: 59.41 | fairness loss 93.09 | Demographic disparity = 0.04\n",
      " \n",
      "Avg Training Stats after 300 global rounds:\n",
      "Training loss: 0.36 | Training accuracy: 73.89% | Training Demographic disparity: 0.0417\n",
      " \n",
      " Results after 300 global rounds of training:\n",
      "|---- Avg Train Accuracy: 73.89%\n",
      "|---- Test Accuracy: 70.00%\n",
      "|---- Test Demographic disparity: 0.0443\n",
      "\n",
      " Total Run Time: 11.0671 sec\n"
     ]
    },
    {
     "name": "stderr",
     "output_type": "stream",
     "text": [
      "\n"
     ]
    }
   ],
   "source": [
    "server = Server(logReg(num_features=3, num_classes=2, seed = seed), synthetic_info, seed = seed)\n",
    "server.FairBatch(num_epochs = 300, optimizer = 'adam', learning_rate = 0.004, alpha = 0.093)"
   ]
  },
  {
   "cell_type": "code",
   "execution_count": 25,
   "metadata": {
    "scrolled": true
   },
   "outputs": [
    {
     "name": "stderr",
     "output_type": "stream",
     "text": [
      " 18%|█▊        | 55/300 [00:01<00:06, 39.83it/s]"
     ]
    },
    {
     "name": "stdout",
     "output_type": "stream",
     "text": [
      "\n",
      " | Global Training Round : 50 |\n",
      "\n",
      "Predictor loss: 20.88 | adversary loss 3.16 | Demographic disparity = 0.32\n",
      " \n",
      "Avg Training Stats after 50 global rounds:\n",
      "Training loss: 0.41 | Validation accuracy: 83.33% | Validation Demographic disparity: 0.3167\n"
     ]
    },
    {
     "name": "stderr",
     "output_type": "stream",
     "text": [
      " 36%|███▌      | 108/300 [00:02<00:04, 42.87it/s]"
     ]
    },
    {
     "name": "stdout",
     "output_type": "stream",
     "text": [
      "\n",
      " | Global Training Round : 100 |\n",
      "\n",
      "Predictor loss: 28.46 | adversary loss 4.10 | Demographic disparity = 0.07\n",
      " \n",
      "Avg Training Stats after 100 global rounds:\n",
      "Training loss: 0.59 | Validation accuracy: 76.67% | Validation Demographic disparity: 0.0750\n"
     ]
    },
    {
     "name": "stderr",
     "output_type": "stream",
     "text": [
      " 51%|█████▏    | 154/300 [00:03<00:03, 43.94it/s]"
     ]
    },
    {
     "name": "stdout",
     "output_type": "stream",
     "text": [
      "\n",
      " | Global Training Round : 150 |\n",
      "\n",
      "Predictor loss: 25.65 | adversary loss 3.87 | Demographic disparity = 0.07\n",
      " \n",
      "Avg Training Stats after 150 global rounds:\n",
      "Training loss: 0.53 | Validation accuracy: 81.67% | Validation Demographic disparity: 0.0667\n"
     ]
    },
    {
     "name": "stderr",
     "output_type": "stream",
     "text": [
      " 69%|██████▉   | 207/300 [00:05<00:01, 47.07it/s]"
     ]
    },
    {
     "name": "stdout",
     "output_type": "stream",
     "text": [
      "\n",
      " | Global Training Round : 200 |\n",
      "\n",
      "Predictor loss: 26.41 | adversary loss 4.13 | Demographic disparity = 0.03\n",
      " \n",
      "Avg Training Stats after 200 global rounds:\n",
      "Training loss: 0.54 | Validation accuracy: 78.33% | Validation Demographic disparity: 0.0250\n"
     ]
    },
    {
     "name": "stderr",
     "output_type": "stream",
     "text": [
      " 86%|████████▌ | 257/300 [00:06<00:00, 46.14it/s]"
     ]
    },
    {
     "name": "stdout",
     "output_type": "stream",
     "text": [
      "\n",
      " | Global Training Round : 250 |\n",
      "\n",
      "Predictor loss: 23.68 | adversary loss 3.77 | Demographic disparity = 0.03\n",
      " \n",
      "Avg Training Stats after 250 global rounds:\n",
      "Training loss: 0.52 | Validation accuracy: 83.33% | Validation Demographic disparity: 0.0333\n"
     ]
    },
    {
     "name": "stderr",
     "output_type": "stream",
     "text": [
      "100%|██████████| 300/300 [00:07<00:00, 41.81it/s]"
     ]
    },
    {
     "name": "stdout",
     "output_type": "stream",
     "text": [
      "\n",
      " | Global Training Round : 300 |\n",
      "\n",
      "Predictor loss: 29.11 | adversary loss 4.30 | Demographic disparity = 0.06\n",
      " \n",
      "Avg Training Stats after 300 global rounds:\n",
      "Training loss: 0.51 | Validation accuracy: 78.33% | Validation Demographic disparity: 0.0583\n",
      " \n",
      " Results after 300 global rounds of training:\n",
      "|---- Avg Train Accuracy: 78.33%\n",
      "|---- Test Accuracy: 70.00%\n",
      "|---- Test Demographic disparity: 0.0509\n",
      "\n",
      " Total Run Time: 7.2066 sec\n"
     ]
    },
    {
     "name": "stderr",
     "output_type": "stream",
     "text": [
      "\n"
     ]
    }
   ],
   "source": [
    "server = Server(logReg(num_features=3, num_classes=2, seed = seed), synthetic_info, seed = seed)\n",
    "server.FTrain(num_epochs = 300, init_epochs = 30, lr_g = 0.005, lr_d = 0.01, ratio_gd = 3, lambda_d = 0.63)"
   ]
  },
  {
   "cell_type": "code",
   "execution_count": null,
   "metadata": {},
   "outputs": [],
   "source": []
  }
 ],
 "metadata": {
  "kernelspec": {
   "display_name": "Python 3",
   "language": "python",
   "name": "python3"
  },
  "language_info": {
   "codemirror_mode": {
    "name": "ipython",
    "version": 3
   },
   "file_extension": ".py",
   "mimetype": "text/x-python",
   "name": "python",
   "nbconvert_exporter": "python",
   "pygments_lexer": "ipython3",
   "version": "3.7.4"
  }
 },
 "nbformat": 4,
 "nbformat_minor": 2
}
