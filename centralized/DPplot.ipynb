{
 "cells": [
  {
   "cell_type": "code",
   "execution_count": 1,
   "metadata": {},
   "outputs": [],
   "source": [
    "from DP_sims import *\n",
    "import matplotlib.pyplot as plt\n",
    "%matplotlib inline"
   ]
  },
  {
   "cell_type": "code",
   "execution_count": 2,
   "metadata": {
    "scrolled": true
   },
   "outputs": [
    {
     "name": "stderr",
     "output_type": "stream",
     "text": [
      "\r",
      "  0%|          | 0/300 [00:00<?, ?it/s]"
     ]
    },
    {
     "name": "stdout",
     "output_type": "stream",
     "text": [
      "|  Simulation : 1 | \n",
      "      seed : 610 -----\n"
     ]
    },
    {
     "name": "stderr",
     "output_type": "stream",
     "text": [
      "100%|██████████| 300/300 [01:44<00:00,  2.88it/s]\n",
      "  0%|          | 0/300 [00:00<?, ?it/s]"
     ]
    },
    {
     "name": "stdout",
     "output_type": "stream",
     "text": [
      "[0.8133333333333334, 0.79, 0.7733333333333333, 0.7633333333333333, 0.7566666666666667, 0.7566666666666667, 0.75, 0.7466666666666667, 0.74]\n",
      "[0.1336585365853658, 0.09487804878048778, 0.07382113821138214, 0.059430894308943105, 0.040243902439024426, 0.040243902439024426, 0.032113821138211374, 0.02731707317073173, 0.01918699186991868]\n",
      "|  Simulation : 2 | \n",
      "      seed : 715 -----\n"
     ]
    },
    {
     "name": "stderr",
     "output_type": "stream",
     "text": [
      "100%|██████████| 300/300 [01:22<00:00,  3.65it/s]\n",
      "  0%|          | 0/300 [00:00<?, ?it/s]"
     ]
    },
    {
     "name": "stdout",
     "output_type": "stream",
     "text": [
      "[0.7933333333333333, 0.7833333333333333, 0.7666666666666667, 0.7666666666666667, 0.7633333333333333, 0.76, 0.7533333333333333, 0.7466666666666667, 0.7433333333333333]\n",
      "[0.10926829268292682, 0.09780487804878046, 0.07382113821138214, 0.06569105691056909, 0.06089430894308945, 0.056097560975609695, 0.047967479674796754, 0.022113821138211365, 0.017317073170731723]\n",
      "|  Simulation : 3 | \n",
      "      seed : 797 -----\n"
     ]
    },
    {
     "name": "stderr",
     "output_type": "stream",
     "text": [
      "100%|██████████| 300/300 [02:04<00:00,  2.40it/s]\n",
      "  0%|          | 0/300 [00:00<?, ?it/s]"
     ]
    },
    {
     "name": "stdout",
     "output_type": "stream",
     "text": [
      "[0.81, 0.7833333333333333, 0.7833333333333333, 0.7733333333333333, 0.77, 0.76, 0.7566666666666667, 0.7533333333333333, 0.7533333333333333]\n",
      "[0.1303252032520325, 0.09780487804878046, 0.08821138211382118, 0.07382113821138214, 0.07048780487804873, 0.056097560975609695, 0.051300813008130164, 0.03837398373983736, 0.030243902439024417]\n",
      "|  Simulation : 4 | \n",
      "      seed : 922 -----\n"
     ]
    },
    {
     "name": "stderr",
     "output_type": "stream",
     "text": [
      "100%|██████████| 300/300 [01:21<00:00,  3.69it/s]\n",
      "  0%|          | 0/300 [00:00<?, ?it/s]"
     ]
    },
    {
     "name": "stdout",
     "output_type": "stream",
     "text": [
      "[0.7966666666666666, 0.77, 0.77, 0.7633333333333333, 0.7566666666666667, 0.7466666666666667, 0.7466666666666667, 0.7466666666666667, 0.74]\n",
      "[0.11552845528455291, 0.07861788617886178, 0.06902439024390239, 0.059430894308943105, 0.051300813008130164, 0.02731707317073173, 0.02731707317073173, 0.020650406504065022, 0.01252032520325197]\n",
      "|  Simulation : 5 | \n",
      "      seed : 3 -----\n"
     ]
    },
    {
     "name": "stderr",
     "output_type": "stream",
     "text": [
      "100%|██████████| 300/300 [01:26<00:00,  3.48it/s]\n",
      "  0%|          | 0/300 [00:00<?, ?it/s]"
     ]
    },
    {
     "name": "stdout",
     "output_type": "stream",
     "text": [
      "[0.8066666666666666, 0.7733333333333333, 0.77, 0.76, 0.7533333333333333, 0.7466666666666667, 0.7433333333333333, 0.7433333333333333, 0.74]\n",
      "[0.1255284552845528, 0.07382113821138214, 0.06902439024390239, 0.056097560975609695, 0.04650406504065041, 0.02731707317073173, 0.023983739837398432, 0.017317073170731723, 0.01252032520325197]\n",
      "|  Simulation : 6 | \n",
      "      seed : 89 -----\n"
     ]
    },
    {
     "name": "stderr",
     "output_type": "stream",
     "text": [
      "100%|██████████| 300/300 [01:33<00:00,  3.20it/s]\n",
      "  0%|          | 0/300 [00:00<?, ?it/s]"
     ]
    },
    {
     "name": "stdout",
     "output_type": "stream",
     "text": [
      "[0.8066666666666666, 0.7833333333333333, 0.7733333333333333, 0.7633333333333333, 0.76, 0.75, 0.75, 0.7466666666666667, 0.74]\n",
      "[0.1269918699186992, 0.08821138211382118, 0.07382113821138214, 0.059430894308943105, 0.04650406504065041, 0.033577235772357716, 0.033577235772357716, 0.022113821138211365, 0.013983739837398423]\n",
      "|  Simulation : 7 | \n",
      "      seed : 183 -----\n"
     ]
    },
    {
     "name": "stderr",
     "output_type": "stream",
     "text": [
      "100%|██████████| 300/300 [01:31<00:00,  3.29it/s]\n",
      "  0%|          | 0/300 [00:00<?, ?it/s]"
     ]
    },
    {
     "name": "stdout",
     "output_type": "stream",
     "text": [
      "[0.8, 0.7833333333333333, 0.7733333333333333, 0.77, 0.7566666666666667, 0.7533333333333333, 0.75, 0.7466666666666667, 0.74]\n",
      "[0.11886178861788621, 0.08821138211382118, 0.07382113821138214, 0.06902439024390239, 0.051300813008130164, 0.03837398373983736, 0.033577235772357716, 0.020650406504065022, 0.013983739837398423]\n",
      "|  Simulation : 8 | \n",
      "      seed : 274 -----\n"
     ]
    },
    {
     "name": "stderr",
     "output_type": "stream",
     "text": [
      "100%|██████████| 300/300 [01:42<00:00,  2.93it/s]\n",
      "  0%|          | 0/300 [00:00<?, ?it/s]"
     ]
    },
    {
     "name": "stdout",
     "output_type": "stream",
     "text": [
      "[0.8, 0.7666666666666667, 0.7666666666666667, 0.76, 0.7566666666666667, 0.7433333333333333, 0.7433333333333333, 0.7433333333333333, 0.7333333333333333]\n",
      "[0.11886178861788621, 0.07382113821138214, 0.06569105691056909, 0.056097560975609695, 0.051300813008130164, 0.017317073170731723, 0.017317073170731723, 0.017317073170731723, 0.005853658536585371]\n",
      "|  Simulation : 9 | \n",
      "      seed : 377 -----\n"
     ]
    },
    {
     "name": "stderr",
     "output_type": "stream",
     "text": [
      "100%|██████████| 300/300 [01:39<00:00,  3.03it/s]\n",
      "  0%|          | 0/300 [00:00<?, ?it/s]"
     ]
    },
    {
     "name": "stdout",
     "output_type": "stream",
     "text": [
      "[0.7966666666666666, 0.7866666666666666, 0.7733333333333333, 0.77, 0.76, 0.7566666666666667, 0.7533333333333333, 0.7433333333333333, 0.7466666666666667]\n",
      "[0.11552845528455291, 0.10113821138211376, 0.07382113821138214, 0.06902439024390239, 0.056097560975609695, 0.051300813008130164, 0.036910569105691016, 0.023983739837398432, 0.020650406504065022]\n",
      "|  Simulation : 10 | \n",
      "      seed : 476 -----\n"
     ]
    },
    {
     "name": "stderr",
     "output_type": "stream",
     "text": [
      "100%|██████████| 300/300 [01:36<00:00,  3.11it/s]\n"
     ]
    },
    {
     "name": "stdout",
     "output_type": "stream",
     "text": [
      "[0.7933333333333333, 0.7933333333333333, 0.7833333333333333, 0.7733333333333333, 0.7666666666666667, 0.76, 0.7633333333333333, 0.75, 0.75]\n",
      "[0.10926829268292682, 0.10113821138211376, 0.08821138211382118, 0.07382113821138214, 0.06422764227642275, 0.056097560975609695, 0.051300813008130164, 0.033577235772357716, 0.026910569105691118]\n"
     ]
    },
    {
     "name": "stderr",
     "output_type": "stream",
     "text": [
      "\r",
      "  0%|          | 0/300 [00:00<?, ?it/s]"
     ]
    },
    {
     "name": "stdout",
     "output_type": "stream",
     "text": [
      "|  Simulation : 1 | \n",
      "      seed : 575 -----\n"
     ]
    },
    {
     "name": "stderr",
     "output_type": "stream",
     "text": [
      "100%|██████████| 300/300 [01:19<00:00,  3.75it/s]\n",
      "  0%|          | 0/300 [00:00<?, ?it/s]"
     ]
    },
    {
     "name": "stdout",
     "output_type": "stream",
     "text": [
      "[0.83, 0.8333333333333334, 0.8266666666666667, 0.82, 0.8166666666666667, 0.8066666666666666, 0.8, 0.8, 0.8]\n",
      "[0.16804878048780486, 0.17284552845528456, 0.1499186991869918, 0.1417886178861788, 0.1384552845528455, 0.1269918699186992, 0.11886178861788621, 0.11886178861788621, 0.11886178861788621]\n",
      "|  Simulation : 2 | \n",
      "      seed : 655 -----\n"
     ]
    },
    {
     "name": "stderr",
     "output_type": "stream",
     "text": [
      "100%|██████████| 300/300 [01:33<00:00,  3.20it/s]\n",
      "  0%|          | 0/300 [00:00<?, ?it/s]"
     ]
    },
    {
     "name": "stdout",
     "output_type": "stream",
     "text": [
      "[0.8433333333333334, 0.8366666666666667, 0.83, 0.8266666666666667, 0.8266666666666667, 0.8266666666666667, 0.8133333333333334, 0.8066666666666666, 0.8033333333333333]\n",
      "[0.18723577235772354, 0.17764227642276426, 0.16804878048780486, 0.16325203252032522, 0.1565853658536585, 0.14032520325203252, 0.1255284552845528, 0.11739837398373981, 0.11406504065040651]\n",
      "|  Simulation : 3 | \n",
      "      seed : 749 -----\n"
     ]
    },
    {
     "name": "stderr",
     "output_type": "stream",
     "text": [
      "100%|██████████| 300/300 [01:51<00:00,  2.70it/s]\n",
      "  0%|          | 0/300 [00:00<?, ?it/s]"
     ]
    },
    {
     "name": "stdout",
     "output_type": "stream",
     "text": [
      "[0.8333333333333334, 0.8333333333333334, 0.8333333333333334, 0.82, 0.8166666666666667, 0.8166666666666667, 0.8066666666666666, 0.8033333333333333, 0.8]\n",
      "[0.17284552845528456, 0.17284552845528456, 0.15804878048780485, 0.1417886178861788, 0.1384552845528455, 0.1384552845528455, 0.1269918699186992, 0.12219512195121951, 0.11886178861788621]\n",
      "|  Simulation : 4 | \n",
      "      seed : 860 -----\n"
     ]
    },
    {
     "name": "stderr",
     "output_type": "stream",
     "text": [
      "100%|██████████| 300/300 [01:36<00:00,  3.09it/s]\n",
      "  0%|          | 0/300 [00:00<?, ?it/s]"
     ]
    },
    {
     "name": "stdout",
     "output_type": "stream",
     "text": [
      "[0.8366666666666667, 0.83, 0.82, 0.8133333333333334, 0.8033333333333333, 0.8033333333333333, 0.7933333333333333, 0.79, 0.7866666666666666]\n",
      "[0.17764227642276426, 0.1599186991869918, 0.1417886178861788, 0.1336585365853658, 0.12219512195121951, 0.12219512195121951, 0.10926829268292682, 0.10447154471544717, 0.10113821138211376]\n",
      "|  Simulation : 5 | \n",
      "      seed : 957 -----\n"
     ]
    },
    {
     "name": "stderr",
     "output_type": "stream",
     "text": [
      "100%|██████████| 300/300 [01:23<00:00,  3.61it/s]\n",
      "  0%|          | 0/300 [00:00<?, ?it/s]"
     ]
    },
    {
     "name": "stdout",
     "output_type": "stream",
     "text": [
      "[0.8433333333333334, 0.83, 0.82, 0.81, 0.8033333333333333, 0.7966666666666666, 0.79, 0.79, 0.79]\n",
      "[0.18723577235772354, 0.1599186991869918, 0.1417886178861788, 0.12886178861788622, 0.12219512195121951, 0.11260162601626023, 0.10447154471544717, 0.10447154471544717, 0.09634146341463412]\n",
      "|  Simulation : 6 | \n",
      "      seed : 40 -----\n"
     ]
    },
    {
     "name": "stderr",
     "output_type": "stream",
     "text": [
      "100%|██████████| 300/300 [01:20<00:00,  3.73it/s]\n",
      "  0%|          | 0/300 [00:00<?, ?it/s]"
     ]
    },
    {
     "name": "stdout",
     "output_type": "stream",
     "text": [
      "[0.8433333333333334, 0.8333333333333334, 0.8233333333333334, 0.8166666666666667, 0.81, 0.8066666666666666, 0.8033333333333333, 0.7966666666666666, 0.7966666666666666]\n",
      "[0.18723577235772354, 0.16617886178861785, 0.1465853658536585, 0.1384552845528455, 0.1317886178861789, 0.1284552845528455, 0.12365853658536591, 0.11552845528455291, 0.11552845528455291]\n",
      "|  Simulation : 7 | \n",
      "      seed : 120 -----\n"
     ]
    },
    {
     "name": "stderr",
     "output_type": "stream",
     "text": [
      "100%|██████████| 300/300 [01:37<00:00,  3.08it/s]\n",
      "  0%|          | 0/300 [00:00<?, ?it/s]"
     ]
    },
    {
     "name": "stdout",
     "output_type": "stream",
     "text": [
      "[0.8333333333333334, 0.8266666666666667, 0.8266666666666667, 0.8233333333333334, 0.8133333333333334, 0.81, 0.8033333333333333, 0.7966666666666666, 0.7966666666666666]\n",
      "[0.17284552845528456, 0.16325203252032522, 0.15512195121951222, 0.1451219512195122, 0.13219512195121952, 0.12886178861788622, 0.11406504065040651, 0.10447154471544717, 0.10447154471544717]\n",
      "|  Simulation : 8 | \n",
      "      seed : 218 -----\n"
     ]
    },
    {
     "name": "stderr",
     "output_type": "stream",
     "text": [
      "100%|██████████| 300/300 [02:03<00:00,  2.42it/s]\n",
      "  0%|          | 0/300 [00:00<?, ?it/s]"
     ]
    },
    {
     "name": "stdout",
     "output_type": "stream",
     "text": [
      "[0.8366666666666667, 0.83, 0.82, 0.8133333333333334, 0.8033333333333333, 0.8, 0.7933333333333333, 0.79, 0.79]\n",
      "[0.17764227642276426, 0.1599186991869918, 0.1417886178861788, 0.1336585365853658, 0.12219512195121951, 0.11886178861788621, 0.10926829268292682, 0.10593495934959352, 0.09634146341463412]\n",
      "|  Simulation : 9 | \n",
      "      seed : 342 -----\n"
     ]
    },
    {
     "name": "stderr",
     "output_type": "stream",
     "text": [
      "100%|██████████| 300/300 [01:16<00:00,  3.90it/s]\n",
      "  0%|          | 0/300 [00:00<?, ?it/s]"
     ]
    },
    {
     "name": "stdout",
     "output_type": "stream",
     "text": [
      "[0.8433333333333334, 0.8333333333333334, 0.8266666666666667, 0.8266666666666667, 0.82, 0.8166666666666667, 0.8166666666666667, 0.8033333333333333, 0.7966666666666666]\n",
      "[0.18723577235772354, 0.17284552845528456, 0.16325203252032522, 0.15512195121951222, 0.14699186991869923, 0.13552845528455282, 0.12739837398373982, 0.11260162601626023, 0.10447154471544717]\n",
      "|  Simulation : 10 | \n",
      "      seed : 418 -----\n"
     ]
    },
    {
     "name": "stderr",
     "output_type": "stream",
     "text": [
      "100%|██████████| 300/300 [01:18<00:00,  3.83it/s]\n"
     ]
    },
    {
     "name": "stdout",
     "output_type": "stream",
     "text": [
      "[0.8433333333333334, 0.8233333333333334, 0.82, 0.8133333333333334, 0.8066666666666666, 0.7966666666666666, 0.7933333333333333, 0.7933333333333333, 0.79]\n",
      "[0.18723577235772354, 0.15845528455284552, 0.14032520325203252, 0.13219512195121952, 0.11593495934959352, 0.10447154471544717, 0.09967479674796742, 0.09967479674796742, 0.09487804878048778]\n"
     ]
    },
    {
     "name": "stderr",
     "output_type": "stream",
     "text": [
      "  0%|          | 1/300 [00:00<00:57,  5.18it/s]"
     ]
    },
    {
     "name": "stdout",
     "output_type": "stream",
     "text": [
      "|  Simulation : 1 | \n",
      "      seed : 499 -----\n"
     ]
    },
    {
     "name": "stderr",
     "output_type": "stream",
     "text": [
      "100%|██████████| 300/300 [00:59<00:00,  5.04it/s]\n",
      "  0%|          | 1/300 [00:00<00:57,  5.20it/s]"
     ]
    },
    {
     "name": "stdout",
     "output_type": "stream",
     "text": [
      "[0.8733333333333333, 0.8733333333333333, 0.8533333333333334, 0.8433333333333334, 0.84, 0.84, 0.84, 0.8433333333333334, 0.8433333333333334]\n",
      "[0.24081300813008133, 0.24081300813008133, 0.21642276422764228, 0.2034959349593496, 0.1986991869918699, 0.19056910569105684, 0.19056910569105684, 0.18723577235772354, 0.18723577235772354]\n",
      "|  Simulation : 2 | \n",
      "      seed : 558 -----\n"
     ]
    },
    {
     "name": "stderr",
     "output_type": "stream",
     "text": [
      "100%|██████████| 300/300 [01:01<00:00,  4.91it/s]\n",
      "  0%|          | 1/300 [00:00<00:54,  5.46it/s]"
     ]
    },
    {
     "name": "stdout",
     "output_type": "stream",
     "text": [
      "[0.8766666666666667, 0.8733333333333333, 0.86, 0.8466666666666667, 0.84, 0.8433333333333334, 0.84, 0.84, 0.8433333333333334]\n",
      "[0.24560975609756103, 0.24081300813008133, 0.22308943089430888, 0.2068292682926829, 0.1986991869918699, 0.19390243902439025, 0.19056910569105684, 0.19056910569105684, 0.18723577235772354]\n",
      "|  Simulation : 3 | \n",
      "      seed : 619 -----\n"
     ]
    },
    {
     "name": "stderr",
     "output_type": "stream",
     "text": [
      "100%|██████████| 300/300 [01:06<00:00,  4.53it/s]\n",
      "  0%|          | 1/300 [00:00<00:55,  5.36it/s]"
     ]
    },
    {
     "name": "stdout",
     "output_type": "stream",
     "text": [
      "[0.8733333333333333, 0.8633333333333333, 0.84, 0.84, 0.8433333333333334, 0.8433333333333334, 0.8433333333333334, 0.8433333333333334, 0.84]\n",
      "[0.24081300813008133, 0.22934959349593503, 0.2001626016260163, 0.2001626016260163, 0.18723577235772354, 0.18723577235772354, 0.18723577235772354, 0.18723577235772354, 0.18243902439024384]\n",
      "|  Simulation : 4 | \n",
      "      seed : 686 -----\n"
     ]
    },
    {
     "name": "stderr",
     "output_type": "stream",
     "text": [
      "100%|██████████| 300/300 [00:59<00:00,  5.08it/s]\n",
      "  0%|          | 0/300 [00:00<?, ?it/s]"
     ]
    },
    {
     "name": "stdout",
     "output_type": "stream",
     "text": [
      "[0.8766666666666667, 0.87, 0.8566666666666667, 0.8466666666666667, 0.8366666666666667, 0.84, 0.8433333333333334, 0.8433333333333334, 0.8433333333333334]\n",
      "[0.24560975609756103, 0.23601626016260163, 0.2182926829268293, 0.2068292682926829, 0.1953658536585366, 0.19056910569105684, 0.18723577235772354, 0.18723577235772354, 0.18723577235772354]\n",
      "|  Simulation : 5 | \n",
      "      seed : 745 -----\n"
     ]
    },
    {
     "name": "stderr",
     "output_type": "stream",
     "text": [
      "100%|██████████| 300/300 [01:03<00:00,  4.71it/s]\n",
      "  0%|          | 0/300 [00:00<?, ?it/s]"
     ]
    },
    {
     "name": "stdout",
     "output_type": "stream",
     "text": [
      "[0.8833333333333333, 0.8733333333333333, 0.8666666666666667, 0.85, 0.84, 0.8366666666666667, 0.8433333333333334, 0.8433333333333334, 0.8433333333333334]\n",
      "[0.2552032520325203, 0.24081300813008133, 0.23268292682926833, 0.21162601626016259, 0.2001626016260163, 0.1953658536585366, 0.18723577235772354, 0.18723577235772354, 0.18723577235772354]\n",
      "|  Simulation : 6 | \n",
      "      seed : 808 -----\n"
     ]
    },
    {
     "name": "stderr",
     "output_type": "stream",
     "text": [
      "100%|██████████| 300/300 [01:13<00:00,  4.09it/s]\n",
      "  0%|          | 0/300 [00:00<?, ?it/s]"
     ]
    },
    {
     "name": "stdout",
     "output_type": "stream",
     "text": [
      "[0.8766666666666667, 0.8733333333333333, 0.86, 0.8466666666666667, 0.84, 0.8366666666666667, 0.84, 0.8433333333333334, 0.8433333333333334]\n",
      "[0.24560975609756103, 0.24081300813008133, 0.22601626016260162, 0.2082926829268293, 0.2001626016260163, 0.1953658536585366, 0.1920325203252033, 0.18723577235772354, 0.18723577235772354]\n",
      "|  Simulation : 7 | \n",
      "      seed : 882 -----\n"
     ]
    },
    {
     "name": "stderr",
     "output_type": "stream",
     "text": [
      "100%|██████████| 300/300 [01:05<00:00,  4.61it/s]\n",
      "  0%|          | 0/300 [00:00<?, ?it/s]"
     ]
    },
    {
     "name": "stdout",
     "output_type": "stream",
     "text": [
      "[0.87, 0.8733333333333333, 0.86, 0.8433333333333334, 0.84, 0.8433333333333334, 0.84, 0.8433333333333334, 0.8433333333333334]\n",
      "[0.23601626016260163, 0.24081300813008133, 0.22601626016260162, 0.204959349593496, 0.2001626016260163, 0.196829268292683, 0.1920325203252033, 0.18723577235772354, 0.18723577235772354]\n",
      "|  Simulation : 8 | \n",
      "      seed : 947 -----\n"
     ]
    },
    {
     "name": "stderr",
     "output_type": "stream",
     "text": [
      "100%|██████████| 300/300 [00:56<00:00,  5.35it/s]\n",
      "  0%|          | 0/300 [00:00<?, ?it/s]"
     ]
    },
    {
     "name": "stdout",
     "output_type": "stream",
     "text": [
      "[0.8766666666666667, 0.8666666666666667, 0.8466666666666667, 0.84, 0.8433333333333334, 0.8433333333333334, 0.8433333333333334, 0.8433333333333334, 0.8433333333333334]\n",
      "[0.24414634146341463, 0.23268292682926833, 0.2082926829268293, 0.2001626016260163, 0.196829268292683, 0.18723577235772354, 0.18723577235772354, 0.18723577235772354, 0.18723577235772354]\n",
      "|  Simulation : 9 | \n",
      "      seed : 3 -----\n"
     ]
    },
    {
     "name": "stderr",
     "output_type": "stream",
     "text": [
      "100%|██████████| 300/300 [00:57<00:00,  5.23it/s]\n",
      "  0%|          | 1/300 [00:00<00:58,  5.13it/s]"
     ]
    },
    {
     "name": "stdout",
     "output_type": "stream",
     "text": [
      "[0.8766666666666667, 0.87, 0.8533333333333334, 0.8433333333333334, 0.8433333333333334, 0.8466666666666667, 0.8433333333333334, 0.8433333333333334, 0.8433333333333334]\n",
      "[0.24414634146341463, 0.23601626016260163, 0.21642276422764228, 0.2034959349593496, 0.196829268292683, 0.1920325203252033, 0.18723577235772354, 0.18723577235772354, 0.18723577235772354]\n",
      "|  Simulation : 10 | \n",
      "      seed : 61 -----\n"
     ]
    },
    {
     "name": "stderr",
     "output_type": "stream",
     "text": [
      "100%|██████████| 300/300 [00:55<00:00,  5.36it/s]"
     ]
    },
    {
     "name": "stdout",
     "output_type": "stream",
     "text": [
      "[0.8733333333333333, 0.87, 0.8533333333333334, 0.8433333333333334, 0.84, 0.84, 0.8433333333333334, 0.8433333333333334, 0.8433333333333334]\n",
      "[0.24081300813008133, 0.23601626016260163, 0.21495934959349589, 0.2034959349593496, 0.2001626016260163, 0.19056910569105684, 0.18723577235772354, 0.18723577235772354, 0.18723577235772354]\n"
     ]
    },
    {
     "name": "stderr",
     "output_type": "stream",
     "text": [
      "\n"
     ]
    }
   ],
   "source": [
    "# FairBatch\n",
    "acc, dp = [], []\n",
    "acc_, dp_ = runSim(num_sim = 10, train_samples = 3000, test_samples = 300, learning_rate = 0.006, num_epochs = 300,\n",
    "                                  option = 'FairBatch', alpha = 0.08, optimizer = 'adam', fixed_dataset = 745, trace = 30)\n",
    "acc.extend(acc_)\n",
    "dp.extend(dp_)\n",
    "# FairBatch\n",
    "acc_, dp_ = runSim(num_sim = 10, train_samples = 3000, test_samples = 300, learning_rate = 0.005, num_epochs = 300,\n",
    "                                  option = 'FairBatch', alpha = 0.06, optimizer = 'adam', fixed_dataset = 745, trace = 30)\n",
    "acc.extend(acc_)\n",
    "dp.extend(dp_)\n",
    "# FairBatch\n",
    "acc_, dp_ = runSim(num_sim = 10, train_samples = 3000, test_samples = 300, learning_rate = 0.005, num_epochs = 300,\n",
    "                                  option = 'FairBatch', alpha = 0.037, optimizer = 'adam', fixed_dataset = 745, trace = 30)\n",
    "acc.extend(acc_)\n",
    "dp.extend(dp_)"
   ]
  },
  {
   "cell_type": "code",
   "execution_count": 44,
   "metadata": {
    "scrolled": true
   },
   "outputs": [
    {
     "name": "stderr",
     "output_type": "stream",
     "text": [
      "\r",
      "  0%|          | 0/300 [00:00<?, ?it/s]"
     ]
    },
    {
     "name": "stdout",
     "output_type": "stream",
     "text": [
      "|  Simulation : 1 | \n",
      "      seed : 45 -----\n"
     ]
    },
    {
     "name": "stderr",
     "output_type": "stream",
     "text": [
      "100%|██████████| 300/300 [00:52<00:00,  5.75it/s]\n",
      "  0%|          | 0/300 [00:00<?, ?it/s]"
     ]
    },
    {
     "name": "stdout",
     "output_type": "stream",
     "text": [
      "[0.8766666666666667, 0.8733333333333333, 0.8733333333333333, 0.8733333333333333, 0.86, 0.85, 0.8466666666666667, 0.8433333333333334, 0.8366666666666667]\n",
      "[0.24414634146341463, 0.24081300813008133, 0.24081300813008133, 0.24081300813008133, 0.22308943089430888, 0.21162601626016259, 0.2068292682926829, 0.2034959349593496, 0.1953658536585366]\n",
      "|  Simulation : 2 | \n",
      "      seed : 97 -----\n"
     ]
    },
    {
     "name": "stderr",
     "output_type": "stream",
     "text": [
      "100%|██████████| 300/300 [00:51<00:00,  5.87it/s]\n",
      "  0%|          | 1/300 [00:00<00:55,  5.39it/s]"
     ]
    },
    {
     "name": "stdout",
     "output_type": "stream",
     "text": [
      "[0.88, 0.8733333333333333, 0.87, 0.8566666666666667, 0.85, 0.8533333333333334, 0.8433333333333334, 0.8433333333333334, 0.8433333333333334]\n",
      "[0.24894308943089433, 0.24081300813008133, 0.23601626016260163, 0.22121951219512198, 0.21308943089430898, 0.20975609756097557, 0.196829268292683, 0.196829268292683, 0.196829268292683]\n",
      "|  Simulation : 3 | \n",
      "      seed : 148 -----\n"
     ]
    },
    {
     "name": "stderr",
     "output_type": "stream",
     "text": [
      "100%|██████████| 300/300 [00:51<00:00,  5.88it/s]\n",
      "  0%|          | 1/300 [00:00<00:50,  5.93it/s]"
     ]
    },
    {
     "name": "stdout",
     "output_type": "stream",
     "text": [
      "[0.8766666666666667, 0.8733333333333333, 0.8733333333333333, 0.8633333333333333, 0.86, 0.8533333333333334, 0.8433333333333334, 0.8433333333333334, 0.8433333333333334]\n",
      "[0.24560975609756103, 0.24081300813008133, 0.24081300813008133, 0.22934959349593503, 0.22601626016260162, 0.21788617886178857, 0.204959349593496, 0.204959349593496, 0.196829268292683]\n",
      "|  Simulation : 4 | \n",
      "      seed : 199 -----\n"
     ]
    },
    {
     "name": "stderr",
     "output_type": "stream",
     "text": [
      "100%|██████████| 300/300 [00:51<00:00,  5.80it/s]\n",
      "  0%|          | 1/300 [00:00<00:49,  6.00it/s]"
     ]
    },
    {
     "name": "stdout",
     "output_type": "stream",
     "text": [
      "[0.8766666666666667, 0.87, 0.8566666666666667, 0.85, 0.8433333333333334, 0.8433333333333334, 0.8433333333333334, 0.8433333333333334, 0.8366666666666667]\n",
      "[0.24414634146341463, 0.23601626016260163, 0.2168292682926829, 0.2086991869918699, 0.2020325203252033, 0.19390243902439025, 0.19390243902439025, 0.19390243902439025, 0.18577235772357725]\n",
      "|  Simulation : 5 | \n",
      "      seed : 251 -----\n"
     ]
    },
    {
     "name": "stderr",
     "output_type": "stream",
     "text": [
      "100%|██████████| 300/300 [00:51<00:00,  5.83it/s]\n",
      "  0%|          | 1/300 [00:00<00:49,  6.08it/s]"
     ]
    },
    {
     "name": "stdout",
     "output_type": "stream",
     "text": [
      "[0.8733333333333333, 0.8733333333333333, 0.8733333333333333, 0.86, 0.8533333333333334, 0.8533333333333334, 0.8433333333333334, 0.84, 0.8366666666666667]\n",
      "[0.24081300813008133, 0.24081300813008133, 0.24081300813008133, 0.22601626016260162, 0.21788617886178857, 0.21788617886178857, 0.2034959349593496, 0.1986991869918699, 0.1953658536585366]\n",
      "|  Simulation : 6 | \n",
      "      seed : 302 -----\n"
     ]
    },
    {
     "name": "stderr",
     "output_type": "stream",
     "text": [
      "100%|██████████| 300/300 [00:51<00:00,  5.84it/s]\n",
      "  0%|          | 1/300 [00:00<00:51,  5.84it/s]"
     ]
    },
    {
     "name": "stdout",
     "output_type": "stream",
     "text": [
      "[0.8766666666666667, 0.8733333333333333, 0.8733333333333333, 0.8633333333333333, 0.85, 0.8466666666666667, 0.84, 0.84, 0.8366666666666667]\n",
      "[0.24560975609756103, 0.24081300813008133, 0.24081300813008133, 0.22788617886178858, 0.21162601626016259, 0.2068292682926829, 0.2001626016260163, 0.2001626016260163, 0.1953658536585366]\n",
      "|  Simulation : 7 | \n",
      "      seed : 354 -----\n"
     ]
    },
    {
     "name": "stderr",
     "output_type": "stream",
     "text": [
      "100%|██████████| 300/300 [00:50<00:00,  5.89it/s]\n",
      "  0%|          | 1/300 [00:00<00:49,  6.04it/s]"
     ]
    },
    {
     "name": "stdout",
     "output_type": "stream",
     "text": [
      "[0.8766666666666667, 0.8733333333333333, 0.8666666666666667, 0.86, 0.8466666666666667, 0.8433333333333334, 0.84, 0.8433333333333334, 0.8433333333333334]\n",
      "[0.24414634146341463, 0.24081300813008133, 0.23414634146341462, 0.22601626016260162, 0.20975609756097557, 0.204959349593496, 0.2001626016260163, 0.196829268292683, 0.196829268292683]\n",
      "|  Simulation : 8 | \n",
      "      seed : 405 -----\n"
     ]
    },
    {
     "name": "stderr",
     "output_type": "stream",
     "text": [
      "100%|██████████| 300/300 [00:51<00:00,  5.87it/s]\n",
      "  0%|          | 1/300 [00:00<00:49,  5.98it/s]"
     ]
    },
    {
     "name": "stdout",
     "output_type": "stream",
     "text": [
      "[0.88, 0.8733333333333333, 0.8666666666666667, 0.86, 0.8533333333333334, 0.8533333333333334, 0.8466666666666667, 0.8466666666666667, 0.8433333333333334]\n",
      "[0.24894308943089433, 0.24081300813008133, 0.23414634146341462, 0.22747967479674802, 0.21934959349593502, 0.21121951219512197, 0.20162601626016258, 0.20162601626016258, 0.196829268292683]\n",
      "|  Simulation : 9 | \n",
      "      seed : 456 -----\n"
     ]
    },
    {
     "name": "stderr",
     "output_type": "stream",
     "text": [
      "100%|██████████| 300/300 [00:50<00:00,  5.93it/s]\n",
      "  0%|          | 1/300 [00:00<00:50,  5.96it/s]"
     ]
    },
    {
     "name": "stdout",
     "output_type": "stream",
     "text": [
      "[0.88, 0.8733333333333333, 0.8633333333333333, 0.8533333333333334, 0.8433333333333334, 0.8433333333333334, 0.8433333333333334, 0.8433333333333334, 0.84]\n",
      "[0.24894308943089433, 0.24081300813008133, 0.2264227642276423, 0.2134959349593496, 0.2020325203252033, 0.2020325203252033, 0.19390243902439025, 0.19390243902439025, 0.19056910569105684]\n",
      "|  Simulation : 10 | \n",
      "      seed : 506 -----\n"
     ]
    },
    {
     "name": "stderr",
     "output_type": "stream",
     "text": [
      "100%|██████████| 300/300 [00:50<00:00,  5.90it/s]"
     ]
    },
    {
     "name": "stdout",
     "output_type": "stream",
     "text": [
      "[0.8766666666666667, 0.8733333333333333, 0.8733333333333333, 0.8633333333333333, 0.8533333333333334, 0.8466666666666667, 0.84, 0.84, 0.84]\n",
      "[0.24414634146341463, 0.24081300813008133, 0.24081300813008133, 0.23081300813008132, 0.21642276422764228, 0.2082926829268293, 0.2001626016260163, 0.2001626016260163, 0.2001626016260163]\n"
     ]
    },
    {
     "name": "stderr",
     "output_type": "stream",
     "text": [
      "\n"
     ]
    }
   ],
   "source": [
    "acc_, dp_ = runSim(num_sim = 10, train_samples = 3000, test_samples = 300, learning_rate = 0.005, num_epochs = 300,\n",
    "                                  option = 'FairBatch', alpha = 0.037, optimizer = 'adam', fixed_dataset = 745, trace = 30)"
   ]
  },
  {
   "cell_type": "code",
   "execution_count": 45,
   "metadata": {
    "scrolled": true
   },
   "outputs": [
    {
     "data": {
      "image/png": "[encoded data removed]",
      "text/plain": [
       "<Figure size 432x288 with 1 Axes>"
      ]
     },
     "metadata": {
      "needs_background": "light"
     },
     "output_type": "display_data"
    }
   ],
   "source": [
    "df_test = pd.DataFrame({'Acc': acc_, 'DP': dp_})\n",
    "df_test.plot.scatter(x = 'DP', y = 'Acc')\n",
    "None"
   ]
  },
  {
   "cell_type": "code",
   "execution_count": 46,
   "metadata": {},
   "outputs": [],
   "source": [
    "acc = acc[:18]\n",
    "acc.extend(acc_)\n",
    "dp = dp[:18]\n",
    "dp.extend(dp_)"
   ]
  },
  {
   "cell_type": "code",
   "execution_count": 47,
   "metadata": {
    "scrolled": true
   },
   "outputs": [
    {
     "data": {
      "image/png": "[encoded data removed]",
      "text/plain": [
       "<Figure size 432x288 with 1 Axes>"
      ]
     },
     "metadata": {
      "needs_background": "light"
     },
     "output_type": "display_data"
    }
   ],
   "source": [
    "df_cen = pd.DataFrame({'Acc': acc, 'DP': dp})\n",
    "ax = df_cen.plot.scatter(x = 'DP', y = 'Acc')\n",
    "df_test.plot.scatter(x = 'DP', y = 'Acc', ax = ax)\n",
    "df_cen.to_csv('FairBatch.csv')\n",
    "None"
   ]
  },
  {
   "cell_type": "code",
   "execution_count": 11,
   "metadata": {},
   "outputs": [],
   "source": [
    "df_fed = pd.read_csv(os.path.join('..', 'DP', 'FedFB_default.csv'))\n",
    "df_fed1 = pd.read_csv(os.path.join('..', 'DP', 'FedFB_even.csv'))\n",
    "df_fed2 = pd.read_csv(os.path.join('..', 'DP', 'FedFB_more.csv'))\n",
    "df_cen = pd.read_csv('FairBatch.csv')"
   ]
  },
  {
   "cell_type": "code",
   "execution_count": 13,
   "metadata": {},
   "outputs": [
    {
     "data": {
      "image/png": "[encoded data removed]",
      "text/plain": [
       "<Figure size 432x288 with 1 Axes>"
      ]
     },
     "metadata": {
      "needs_background": "light"
     },
     "output_type": "display_data"
    }
   ],
   "source": [
    "_, ax = plt.subplots(figsize=(6,4))\n",
    "plt.scatter(df_cen['DP'], df_cen['Acc'])\n",
    "plt.scatter(df_fed['DP'], df_fed['Acc'])\n",
    "plt.scatter(df_fed1['DP'], df_fed1['Acc'])\n",
    "plt.scatter(df_fed2['DP'], df_fed2['Acc'])\n",
    "None"
   ]
  },
  {
   "cell_type": "code",
   "execution_count": 22,
   "metadata": {},
   "outputs": [
    {
     "data": {
      "image/png": "[encoded data removed]",
      "text/plain": [
       "<Figure size 432x288 with 1 Axes>"
      ]
     },
     "metadata": {
      "needs_background": "light"
     },
     "output_type": "display_data"
    }
   ],
   "source": [
    "ax = df_cen.plot.scatter(x = 'DP', y = 'Acc', label = 'CenFB')\n",
    "df_fed1[:36].plot.scatter(x = 'DP', y = 'Acc', ax = ax, c = 'green', label = 'FedFB Variance = '+ str(0.))\n",
    "df_fed[:36].plot.scatter(x = 'DP', y = 'Acc', ax = ax, c = 'red', label = 'FedFB Variance = '+ str(0.22))\n",
    "df_fed2[:36].plot.scatter(x = 'DP', y = 'Acc', ax = ax, c = 'yellow', label = 'FedFB Variance = '+ str(0.47))\n",
    "ax.set_xlabel('Demographic Disparity')\n",
    "ax.set_ylabel('Accuracy')\n",
    "ax.grid()\n",
    "plt.savefig(\"plots.pdf\")\n",
    "None"
   ]
  },
  {
   "cell_type": "code",
   "execution_count": 12,
   "metadata": {},
   "outputs": [
    {
     "data": {
      "text/html": [
       "<div>\n",
       "<style scoped>\n",
       "    .dataframe tbody tr th:only-of-type {\n",
       "        vertical-align: middle;\n",
       "    }\n",
       "\n",
       "    .dataframe tbody tr th {\n",
       "        vertical-align: top;\n",
       "    }\n",
       "\n",
       "    .dataframe thead th {\n",
       "        text-align: right;\n",
       "    }\n",
       "</style>\n",
       "<table border=\"1\" class=\"dataframe\">\n",
       "  <thead>\n",
       "    <tr style=\"text-align: right;\">\n",
       "      <th></th>\n",
       "      <th>Unnamed: 0</th>\n",
       "      <th>Accuracy</th>\n",
       "      <th>Demographic Disparity</th>\n",
       "    </tr>\n",
       "  </thead>\n",
       "  <tbody>\n",
       "    <tr>\n",
       "      <td>0</td>\n",
       "      <td>0</td>\n",
       "      <td>0.893333</td>\n",
       "      <td>0.382593</td>\n",
       "    </tr>\n",
       "    <tr>\n",
       "      <td>1</td>\n",
       "      <td>1</td>\n",
       "      <td>0.904500</td>\n",
       "      <td>0.346199</td>\n",
       "    </tr>\n",
       "    <tr>\n",
       "      <td>2</td>\n",
       "      <td>2</td>\n",
       "      <td>0.898167</td>\n",
       "      <td>0.287874</td>\n",
       "    </tr>\n",
       "    <tr>\n",
       "      <td>3</td>\n",
       "      <td>3</td>\n",
       "      <td>0.891000</td>\n",
       "      <td>0.263089</td>\n",
       "    </tr>\n",
       "    <tr>\n",
       "      <td>4</td>\n",
       "      <td>4</td>\n",
       "      <td>0.874333</td>\n",
       "      <td>0.242033</td>\n",
       "    </tr>\n",
       "    <tr>\n",
       "      <td>5</td>\n",
       "      <td>5</td>\n",
       "      <td>0.850167</td>\n",
       "      <td>0.205280</td>\n",
       "    </tr>\n",
       "    <tr>\n",
       "      <td>6</td>\n",
       "      <td>6</td>\n",
       "      <td>0.835167</td>\n",
       "      <td>0.165776</td>\n",
       "    </tr>\n",
       "    <tr>\n",
       "      <td>7</td>\n",
       "      <td>7</td>\n",
       "      <td>0.813667</td>\n",
       "      <td>0.135236</td>\n",
       "    </tr>\n",
       "    <tr>\n",
       "      <td>8</td>\n",
       "      <td>8</td>\n",
       "      <td>0.783000</td>\n",
       "      <td>0.094902</td>\n",
       "    </tr>\n",
       "    <tr>\n",
       "      <td>9</td>\n",
       "      <td>9</td>\n",
       "      <td>0.754833</td>\n",
       "      <td>0.053679</td>\n",
       "    </tr>\n",
       "    <tr>\n",
       "      <td>10</td>\n",
       "      <td>10</td>\n",
       "      <td>0.736000</td>\n",
       "      <td>0.022561</td>\n",
       "    </tr>\n",
       "    <tr>\n",
       "      <td>11</td>\n",
       "      <td>11</td>\n",
       "      <td>0.694000</td>\n",
       "      <td>0.041715</td>\n",
       "    </tr>\n",
       "  </tbody>\n",
       "</table>\n",
       "</div>"
      ],
      "text/plain": [
       "    Unnamed: 0  Accuracy  Demographic Disparity\n",
       "0            0  0.893333               0.382593\n",
       "1            1  0.904500               0.346199\n",
       "2            2  0.898167               0.287874\n",
       "3            3  0.891000               0.263089\n",
       "4            4  0.874333               0.242033\n",
       "5            5  0.850167               0.205280\n",
       "6            6  0.835167               0.165776\n",
       "7            7  0.813667               0.135236\n",
       "8            8  0.783000               0.094902\n",
       "9            9  0.754833               0.053679\n",
       "10          10  0.736000               0.022561\n",
       "11          11  0.694000               0.041715"
      ]
     },
     "execution_count": 12,
     "metadata": {},
     "output_type": "execute_result"
    }
   ],
   "source": [
    "df_fed"
   ]
  },
  {
   "cell_type": "code",
   "execution_count": 18,
   "metadata": {},
   "outputs": [
    {
     "data": {
      "text/plain": [
       "0.21900281705067104"
      ]
     },
     "execution_count": 18,
     "metadata": {},
     "output_type": "execute_result"
    }
   ],
   "source": [
    "np.array(((.5, .2), (.3, .4), (.2, .4))).std(axis = 0).sum()"
   ]
  },
  {
   "cell_type": "code",
   "execution_count": 19,
   "metadata": {},
   "outputs": [
    {
     "data": {
      "text/plain": [
       "0.0"
      ]
     },
     "execution_count": 19,
     "metadata": {},
     "output_type": "execute_result"
    }
   ],
   "source": [
    "np.array(((.33, .33), (.33, .33), (.33, .33))).std(axis = 0).sum()"
   ]
  },
  {
   "cell_type": "code",
   "execution_count": 20,
   "metadata": {},
   "outputs": [
    {
     "data": {
      "text/plain": [
       "0.4679473958993595"
      ]
     },
     "execution_count": 20,
     "metadata": {},
     "output_type": "execute_result"
    }
   ],
   "source": [
    "np.array(((.7, .1), (.2, .3), (.1, .6))).std(axis = 0).sum()"
   ]
  },
  {
   "cell_type": "code",
   "execution_count": null,
   "metadata": {},
   "outputs": [],
   "source": []
  }
 ],
 "metadata": {
  "kernelspec": {
   "display_name": "Python 3",
   "language": "python",
   "name": "python3"
  },
  "language_info": {
   "codemirror_mode": {
    "name": "ipython",
    "version": 3
   },
   "file_extension": ".py",
   "mimetype": "text/x-python",
   "name": "python",
   "nbconvert_exporter": "python",
   "pygments_lexer": "ipython3",
   "version": "3.7.4"
  }
 },
 "nbformat": 4,
 "nbformat_minor": 2
}
