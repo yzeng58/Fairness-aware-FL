{
 "cells": [
  {
   "cell_type": "code",
   "execution_count": 1,
   "metadata": {},
   "outputs": [],
   "source": [
    "from EO_sims import *\n",
    "import matplotlib.pyplot as plt\n",
    "%matplotlib inline"
   ]
  },
  {
   "cell_type": "code",
   "execution_count": null,
   "metadata": {
    "scrolled": true
   },
   "outputs": [
    {
     "name": "stderr",
     "output_type": "stream",
     "text": [
      "\r",
      "  0%|          | 0/300 [00:00<?, ?it/s]"
     ]
    },
    {
     "name": "stdout",
     "output_type": "stream",
     "text": [
      "|  Simulation : 1 | \n",
      "      seed : 201 -----\n"
     ]
    },
    {
     "name": "stderr",
     "output_type": "stream",
     "text": [
      "100%|██████████| 300/300 [01:23<00:00,  3.60it/s]\n",
      "  0%|          | 0/300 [00:00<?, ?it/s]"
     ]
    },
    {
     "name": "stdout",
     "output_type": "stream",
     "text": [
      "[0.91, 0.9133333333333333, 0.9133333333333333, 0.9133333333333333, 0.9133333333333333, 0.9133333333333333, 0.9133333333333333, 0.9133333333333333, 0.9133333333333333, 0.9133333333333333, 0.9166666666666666, 0.9166666666666666, 0.9166666666666666, 0.9166666666666666, 0.9166666666666666, 0.9166666666666666, 0.9166666666666666, 0.9166666666666666, 0.9133333333333333, 0.9133333333333333]\n",
      "[0.08424908424908417, 0.08974358974358976, 0.08974358974358976, 0.08974358974358976, 0.08974358974358976, 0.08974358974358976, 0.08974358974358976, 0.08974358974358976, 0.08974358974358976, 0.08974358974358976, 0.06746031746031744, 0.06746031746031744, 0.06746031746031744, 0.06746031746031744, 0.06746031746031744, 0.06746031746031744, 0.06746031746031744, 0.06746031746031744, 0.06196581196581197, 0.06196581196581197]\n",
      "|  Simulation : 2 | \n",
      "      seed : 284 -----\n"
     ]
    },
    {
     "name": "stderr",
     "output_type": "stream",
     "text": [
      "100%|██████████| 300/300 [01:19<00:00,  3.77it/s]\n",
      "  0%|          | 1/300 [00:00<00:50,  5.89it/s]"
     ]
    },
    {
     "name": "stdout",
     "output_type": "stream",
     "text": [
      "[0.9, 0.8966666666666666, 0.8966666666666666, 0.8966666666666666, 0.8966666666666666, 0.8966666666666666, 0.8966666666666666, 0.8966666666666666, 0.8966666666666666, 0.8966666666666666, 0.8966666666666666, 0.8966666666666666, 0.8966666666666666, 0.8966666666666666, 0.8966666666666666, 0.8966666666666666, 0.8966666666666666, 0.8966666666666666, 0.8933333333333333, 0.8933333333333333]\n",
      "[0.028693528693528703, 0.028693528693528703, 0.028693528693528703, 0.028693528693528703, 0.028693528693528703, 0.028693528693528703, 0.028693528693528703, 0.028693528693528703, 0.028693528693528703, 0.028693528693528703, 0.028693528693528703, 0.028693528693528703, 0.028693528693528703, 0.028693528693528703, 0.028693528693528703, 0.028693528693528703, 0.028693528693528703, 0.028693528693528703, 0.028693528693528703, 0.028693528693528703]\n",
      "|  Simulation : 3 | \n",
      "      seed : 364 -----\n"
     ]
    },
    {
     "name": "stderr",
     "output_type": "stream",
     "text": [
      " 25%|██▌       | 76/300 [00:14<00:44,  5.02it/s]"
     ]
    }
   ],
   "source": [
    "acc_, dp_ = runSim(num_sim = 10, train_samples = 3000, test_samples = 300, learning_rate = 0.001, num_epochs = 300,\n",
    "                                  option = 'FairBatch', alpha = 0.02, optimizer = 'adam', fixed_dataset = 745, trace = 5)\n",
    "\n"
   ]
  },
  {
   "cell_type": "code",
   "execution_count": null,
   "metadata": {},
   "outputs": [],
   "source": [
    "acc_, dp_ = runSim(num_sim = 10, train_samples = 3000, test_samples = 300, learning_rate = 0.001, num_epochs = 300,\n",
    "                                  option = 'FairBatch', alpha = 0.03, optimizer = 'adam', fixed_dataset = 745, trace = 20)\n",
    "\n"
   ]
  },
  {
   "cell_type": "code",
   "execution_count": null,
   "metadata": {},
   "outputs": [],
   "source": [
    "df_cen = pd.DataFrame({'Acc': acc_, 'DP': dp_})\n",
    "ax = df_cen.plot.scatter(x = 'DP', y = 'Acc')\n",
    "# df_tes.plot.scatter(x = 'DP', y = 'Acc', ax = ax)\n",
    "None"
   ]
  },
  {
   "cell_type": "code",
   "execution_count": null,
   "metadata": {},
   "outputs": [],
   "source": []
  }
 ],
 "metadata": {
  "kernelspec": {
   "display_name": "Python 3",
   "language": "python",
   "name": "python3"
  },
  "language_info": {
   "codemirror_mode": {
    "name": "ipython",
    "version": 3
   },
   "file_extension": ".py",
   "mimetype": "text/x-python",
   "name": "python",
   "nbconvert_exporter": "python",
   "pygments_lexer": "ipython3",
   "version": "3.7.4"
  }
 },
 "nbformat": 4,
 "nbformat_minor": 2
}
