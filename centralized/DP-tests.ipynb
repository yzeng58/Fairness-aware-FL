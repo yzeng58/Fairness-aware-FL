{
 "cells": [
  {
   "cell_type": "code",
   "execution_count": 1,
   "metadata": {},
   "outputs": [],
   "source": [
    "from DPFair import *\n",
    "seed = 123"
   ]
  },
  {
   "cell_type": "code",
   "execution_count": 2,
   "metadata": {},
   "outputs": [],
   "source": [
    "synthetic_info = dataGenerate(seed = 745, test_samples = 300, train_samples = 3000)"
   ]
  },
  {
   "cell_type": "code",
   "execution_count": 4,
   "metadata": {},
   "outputs": [
    {
     "name": "stderr",
     "output_type": "stream",
     "text": [
      "  1%|          | 2/300 [00:00<00:29, 10.16it/s]"
     ]
    },
    {
     "name": "stdout",
     "output_type": "stream",
     "text": [
      "\n",
      " | Global Training Round : 1 |\n",
      "\n",
      "Predictor loss: 166.54 | adversary loss 5.58 | Demographic disparity = 0.44\n",
      " \n",
      "Avg Training Stats after 1 global rounds:\n",
      "Training loss: 0.74 | Validation accuracy: 74.67% | Validation Demographic disparity: 0.4436\n",
      "\n",
      " | Global Training Round : 2 |\n",
      "\n",
      "Predictor loss: 137.62 | adversary loss 4.66 | Demographic disparity = 0.52\n",
      " \n",
      "Avg Training Stats after 2 global rounds:\n",
      "Training loss: 0.66 | Validation accuracy: 80.67% | Validation Demographic disparity: 0.5163\n",
      "\n",
      " | Global Training Round : 3 |\n",
      "\n"
     ]
    },
    {
     "name": "stderr",
     "output_type": "stream",
     "text": [
      "\r",
      "  1%|▏         | 4/300 [00:00<00:28, 10.43it/s]"
     ]
    },
    {
     "name": "stdout",
     "output_type": "stream",
     "text": [
      "Predictor loss: 117.05 | adversary loss 4.15 | Demographic disparity = 0.57\n",
      " \n",
      "Avg Training Stats after 3 global rounds:\n",
      "Training loss: 0.60 | Validation accuracy: 84.67% | Validation Demographic disparity: 0.5729\n",
      "\n",
      " | Global Training Round : 4 |\n",
      "\n",
      "Predictor loss: 103.74 | adversary loss 3.76 | Demographic disparity = 0.59\n",
      " \n",
      "Avg Training Stats after 4 global rounds:\n",
      "Training loss: 0.56 | Validation accuracy: 85.33% | Validation Demographic disparity: 0.5906\n",
      "\n",
      " | Global Training Round : 5 |\n",
      "\n",
      "Predictor loss: 95.73 | adversary loss 3.39 | Demographic disparity = 0.56\n",
      " \n",
      "Avg Training Stats after 5 global rounds:\n",
      "Training loss: 0.52 | Validation accuracy: 87.67% | Validation Demographic disparity: 0.5629\n",
      "\n",
      " | Global Training Round : 6 |\n",
      "\n"
     ]
    },
    {
     "name": "stderr",
     "output_type": "stream",
     "text": [
      "  2%|▏         | 7/300 [00:00<00:29,  9.78it/s]"
     ]
    },
    {
     "name": "stdout",
     "output_type": "stream",
     "text": [
      "Predictor loss: 90.65 | adversary loss 3.06 | Demographic disparity = 0.56\n",
      " \n",
      "Avg Training Stats after 6 global rounds:\n",
      "Training loss: 0.48 | Validation accuracy: 88.33% | Validation Demographic disparity: 0.5562\n",
      "\n",
      " | Global Training Round : 7 |\n",
      "\n",
      "Predictor loss: 87.48 | adversary loss 2.82 | Demographic disparity = 0.54\n",
      " \n",
      "Avg Training Stats after 7 global rounds:\n",
      "Training loss: 0.46 | Validation accuracy: 88.67% | Validation Demographic disparity: 0.5435\n",
      "\n",
      " | Global Training Round : 8 |\n",
      "\n"
     ]
    },
    {
     "name": "stderr",
     "output_type": "stream",
     "text": [
      "  3%|▎         | 9/300 [00:00<00:31,  9.14it/s]"
     ]
    },
    {
     "name": "stdout",
     "output_type": "stream",
     "text": [
      "Predictor loss: 85.49 | adversary loss 2.72 | Demographic disparity = 0.54\n",
      " \n",
      "Avg Training Stats after 8 global rounds:\n",
      "Training loss: 0.44 | Validation accuracy: 88.33% | Validation Demographic disparity: 0.5401\n",
      "\n",
      " | Global Training Round : 9 |\n",
      "\n",
      "Predictor loss: 84.15 | adversary loss 2.66 | Demographic disparity = 0.53\n",
      " \n",
      "Avg Training Stats after 9 global rounds:\n",
      "Training loss: 0.43 | Validation accuracy: 88.00% | Validation Demographic disparity: 0.5340\n",
      "\n",
      " | Global Training Round : 10 |\n",
      "\n",
      "Predictor loss: 83.21 | adversary loss 2.56 | Demographic disparity = 0.53\n",
      " \n",
      "Avg Training Stats after 10 global rounds:\n",
      "Training loss: 0.41 | Validation accuracy: 88.33% | Validation Demographic disparity: 0.5307\n",
      "\n",
      " | Global Training Round : 11 |\n",
      "\n"
     ]
    },
    {
     "name": "stderr",
     "output_type": "stream",
     "text": [
      "  4%|▍         | 13/300 [00:01<00:27, 10.40it/s]"
     ]
    },
    {
     "name": "stdout",
     "output_type": "stream",
     "text": [
      "Predictor loss: 82.58 | adversary loss 2.55 | Demographic disparity = 0.52\n",
      " \n",
      "Avg Training Stats after 11 global rounds:\n",
      "Training loss: 0.40 | Validation accuracy: 88.67% | Validation Demographic disparity: 0.5179\n",
      "\n",
      " | Global Training Round : 12 |\n",
      "\n",
      "Predictor loss: 82.29 | adversary loss 2.57 | Demographic disparity = 0.52\n",
      " \n",
      "Avg Training Stats after 12 global rounds:\n",
      "Training loss: 0.39 | Validation accuracy: 88.67% | Validation Demographic disparity: 0.5179\n",
      "\n",
      " | Global Training Round : 13 |\n",
      "\n",
      "Predictor loss: 81.81 | adversary loss 2.47 | Demographic disparity = 0.52\n",
      " \n",
      "Avg Training Stats after 13 global rounds:\n",
      "Training loss: 0.38 | Validation accuracy: 88.67% | Validation Demographic disparity: 0.5179\n",
      "\n",
      " | Global Training Round : 14 |\n",
      "\n"
     ]
    },
    {
     "name": "stderr",
     "output_type": "stream",
     "text": [
      "\r",
      "  5%|▌         | 15/300 [00:01<00:26, 10.62it/s]"
     ]
    },
    {
     "name": "stdout",
     "output_type": "stream",
     "text": [
      "Predictor loss: 81.68 | adversary loss 2.44 | Demographic disparity = 0.52\n",
      " \n",
      "Avg Training Stats after 14 global rounds:\n",
      "Training loss: 0.38 | Validation accuracy: 88.67% | Validation Demographic disparity: 0.5179\n",
      "\n",
      " | Global Training Round : 15 |\n",
      "\n",
      "Predictor loss: 81.75 | adversary loss 2.54 | Demographic disparity = 0.51\n",
      " \n",
      "Avg Training Stats after 15 global rounds:\n",
      "Training loss: 0.37 | Validation accuracy: 88.33% | Validation Demographic disparity: 0.5146\n",
      "\n",
      " | Global Training Round : 16 |\n",
      "\n",
      "Predictor loss: 81.43 | adversary loss 2.45 | Demographic disparity = 0.52\n",
      " \n",
      "Avg Training Stats after 16 global rounds:\n",
      "Training loss: 0.37 | Validation accuracy: 88.67% | Validation Demographic disparity: 0.5179\n",
      "\n",
      " | Global Training Round : 17 |\n",
      "\n"
     ]
    },
    {
     "name": "stderr",
     "output_type": "stream",
     "text": [
      "  6%|▋         | 19/300 [00:01<00:26, 10.71it/s]"
     ]
    },
    {
     "name": "stdout",
     "output_type": "stream",
     "text": [
      "Predictor loss: 81.38 | adversary loss 2.50 | Demographic disparity = 0.51\n",
      " \n",
      "Avg Training Stats after 17 global rounds:\n",
      "Training loss: 0.36 | Validation accuracy: 88.67% | Validation Demographic disparity: 0.5113\n",
      "\n",
      " | Global Training Round : 18 |\n",
      "\n",
      "Predictor loss: 81.25 | adversary loss 2.45 | Demographic disparity = 0.52\n",
      " \n",
      "Avg Training Stats after 18 global rounds:\n",
      "Training loss: 0.36 | Validation accuracy: 88.67% | Validation Demographic disparity: 0.5179\n",
      "\n",
      " | Global Training Round : 19 |\n",
      "\n",
      "Predictor loss: 81.22 | adversary loss 2.47 | Demographic disparity = 0.51\n",
      " \n",
      "Avg Training Stats after 19 global rounds:\n",
      "Training loss: 0.35 | Validation accuracy: 89.00% | Validation Demographic disparity: 0.5146\n",
      "\n",
      " | Global Training Round : 20 |\n",
      "\n"
     ]
    },
    {
     "name": "stderr",
     "output_type": "stream",
     "text": [
      "\r",
      "  7%|▋         | 21/300 [00:02<00:26, 10.52it/s]"
     ]
    },
    {
     "name": "stdout",
     "output_type": "stream",
     "text": [
      "Predictor loss: 81.15 | adversary loss 2.45 | Demographic disparity = 0.51\n",
      " \n",
      "Avg Training Stats after 20 global rounds:\n",
      "Training loss: 0.35 | Validation accuracy: 89.00% | Validation Demographic disparity: 0.5146\n",
      "\n",
      " | Global Training Round : 21 |\n",
      "\n",
      "Predictor loss: 81.13 | adversary loss 2.44 | Demographic disparity = 0.51\n",
      " \n",
      "Avg Training Stats after 21 global rounds:\n",
      "Training loss: 0.35 | Validation accuracy: 89.00% | Validation Demographic disparity: 0.5146\n",
      "\n",
      " | Global Training Round : 22 |\n",
      "\n",
      "Predictor loss: 81.20 | adversary loss 2.54 | Demographic disparity = 0.51\n",
      " \n",
      "Avg Training Stats after 22 global rounds:\n",
      "Training loss: 0.34 | Validation accuracy: 88.67% | Validation Demographic disparity: 0.5113\n",
      "\n",
      " | Global Training Round : 23 |\n",
      "\n"
     ]
    },
    {
     "name": "stderr",
     "output_type": "stream",
     "text": [
      "\r",
      "  8%|▊         | 23/300 [00:02<00:25, 10.72it/s]"
     ]
    },
    {
     "name": "stdout",
     "output_type": "stream",
     "text": [
      "Predictor loss: 81.11 | adversary loss 2.52 | Demographic disparity = 0.51\n",
      " \n",
      "Avg Training Stats after 23 global rounds:\n",
      "Training loss: 0.34 | Validation accuracy: 88.67% | Validation Demographic disparity: 0.5113\n",
      "\n",
      " | Global Training Round : 24 |\n",
      "\n",
      "Predictor loss: 81.08 | adversary loss 2.53 | Demographic disparity = 0.51\n",
      " \n",
      "Avg Training Stats after 24 global rounds:\n",
      "Training loss: 0.34 | Validation accuracy: 88.67% | Validation Demographic disparity: 0.5113\n",
      "\n",
      " | Global Training Round : 25 |\n",
      "\n"
     ]
    },
    {
     "name": "stderr",
     "output_type": "stream",
     "text": [
      "\r",
      "  8%|▊         | 25/300 [00:02<00:27,  9.99it/s]"
     ]
    },
    {
     "name": "stdout",
     "output_type": "stream",
     "text": [
      "Predictor loss: 81.07 | adversary loss 2.52 | Demographic disparity = 0.51\n",
      " \n",
      "Avg Training Stats after 25 global rounds:\n",
      "Training loss: 0.34 | Validation accuracy: 88.67% | Validation Demographic disparity: 0.5113\n",
      "\n",
      " | Global Training Round : 26 |\n",
      "\n",
      "Predictor loss: 81.05 | adversary loss 2.50 | Demographic disparity = 0.51\n",
      " \n",
      "Avg Training Stats after 26 global rounds:\n",
      "Training loss: 0.34 | Validation accuracy: 88.67% | Validation Demographic disparity: 0.5113\n",
      "\n",
      " | Global Training Round : 27 |\n",
      "\n"
     ]
    },
    {
     "name": "stderr",
     "output_type": "stream",
     "text": [
      "  9%|▉         | 28/300 [00:02<00:28,  9.60it/s]"
     ]
    },
    {
     "name": "stdout",
     "output_type": "stream",
     "text": [
      "Predictor loss: 81.08 | adversary loss 2.55 | Demographic disparity = 0.51\n",
      " \n",
      "Avg Training Stats after 27 global rounds:\n",
      "Training loss: 0.33 | Validation accuracy: 88.67% | Validation Demographic disparity: 0.5113\n",
      "\n",
      " | Global Training Round : 28 |\n",
      "\n",
      "Predictor loss: 81.02 | adversary loss 2.49 | Demographic disparity = 0.51\n",
      " \n",
      "Avg Training Stats after 28 global rounds:\n",
      "Training loss: 0.33 | Validation accuracy: 88.67% | Validation Demographic disparity: 0.5113\n",
      "\n",
      " | Global Training Round : 29 |\n",
      "\n"
     ]
    },
    {
     "name": "stderr",
     "output_type": "stream",
     "text": [
      " 10%|█         | 30/300 [00:02<00:29,  9.12it/s]"
     ]
    },
    {
     "name": "stdout",
     "output_type": "stream",
     "text": [
      "Predictor loss: 81.01 | adversary loss 2.49 | Demographic disparity = 0.51\n",
      " \n",
      "Avg Training Stats after 29 global rounds:\n",
      "Training loss: 0.33 | Validation accuracy: 89.00% | Validation Demographic disparity: 0.5052\n",
      "\n",
      " | Global Training Round : 30 |\n",
      "\n",
      "Predictor loss: 81.01 | adversary loss 2.49 | Demographic disparity = 0.51\n",
      " \n",
      "Avg Training Stats after 30 global rounds:\n",
      "Training loss: 0.33 | Validation accuracy: 89.00% | Validation Demographic disparity: 0.5052\n",
      "\n",
      " | Global Training Round : 31 |\n",
      "\n"
     ]
    },
    {
     "name": "stderr",
     "output_type": "stream",
     "text": [
      "\r",
      " 11%|█         | 32/300 [00:03<00:28,  9.41it/s]"
     ]
    },
    {
     "name": "stdout",
     "output_type": "stream",
     "text": [
      "Predictor loss: 81.19 | adversary loss 2.62 | Demographic disparity = 0.51\n",
      " \n",
      "Avg Training Stats after 31 global rounds:\n",
      "Training loss: 0.33 | Validation accuracy: 88.67% | Validation Demographic disparity: 0.5113\n",
      "\n",
      " | Global Training Round : 32 |\n",
      "\n",
      "Predictor loss: 81.02 | adversary loss 2.50 | Demographic disparity = 0.51\n",
      " \n",
      "Avg Training Stats after 32 global rounds:\n",
      "Training loss: 0.33 | Validation accuracy: 89.00% | Validation Demographic disparity: 0.5052\n",
      "\n",
      " | Global Training Round : 33 |\n",
      "\n"
     ]
    },
    {
     "name": "stderr",
     "output_type": "stream",
     "text": [
      " 11%|█▏        | 34/300 [00:03<00:28,  9.35it/s]"
     ]
    },
    {
     "name": "stdout",
     "output_type": "stream",
     "text": [
      "Predictor loss: 80.98 | adversary loss 2.53 | Demographic disparity = 0.51\n",
      " \n",
      "Avg Training Stats after 33 global rounds:\n",
      "Training loss: 0.33 | Validation accuracy: 89.00% | Validation Demographic disparity: 0.5052\n",
      "\n",
      " | Global Training Round : 34 |\n",
      "\n",
      "Predictor loss: 81.07 | adversary loss 2.59 | Demographic disparity = 0.51\n",
      " \n",
      "Avg Training Stats after 34 global rounds:\n",
      "Training loss: 0.32 | Validation accuracy: 88.67% | Validation Demographic disparity: 0.5113\n",
      "\n",
      " | Global Training Round : 35 |\n",
      "\n",
      "Predictor loss: 81.06 | adversary loss 2.56 | Demographic disparity = 0.51\n",
      " \n",
      "Avg Training Stats after 35 global rounds:\n",
      "Training loss: 0.32 | Validation accuracy: 88.67% | Validation Demographic disparity: 0.5113\n",
      "\n",
      " | Global Training Round : 36 |\n",
      "\n"
     ]
    },
    {
     "name": "stderr",
     "output_type": "stream",
     "text": [
      " 13%|█▎        | 38/300 [00:03<00:25, 10.19it/s]"
     ]
    },
    {
     "name": "stdout",
     "output_type": "stream",
     "text": [
      "Predictor loss: 80.99 | adversary loss 2.48 | Demographic disparity = 0.51\n",
      " \n",
      "Avg Training Stats after 36 global rounds:\n",
      "Training loss: 0.32 | Validation accuracy: 89.00% | Validation Demographic disparity: 0.5052\n",
      "\n",
      " | Global Training Round : 37 |\n",
      "\n",
      "Predictor loss: 81.11 | adversary loss 2.55 | Demographic disparity = 0.51\n",
      " \n",
      "Avg Training Stats after 37 global rounds:\n",
      "Training loss: 0.32 | Validation accuracy: 89.00% | Validation Demographic disparity: 0.5052\n",
      "\n",
      " | Global Training Round : 38 |\n",
      "\n",
      "Predictor loss: 81.11 | adversary loss 2.51 | Demographic disparity = 0.51\n",
      " \n",
      "Avg Training Stats after 38 global rounds:\n",
      "Training loss: 0.32 | Validation accuracy: 89.00% | Validation Demographic disparity: 0.5052\n",
      "\n",
      " | Global Training Round : 39 |\n",
      "\n"
     ]
    },
    {
     "name": "stderr",
     "output_type": "stream",
     "text": [
      "\r",
      " 13%|█▎        | 40/300 [00:03<00:25, 10.35it/s]"
     ]
    },
    {
     "name": "stdout",
     "output_type": "stream",
     "text": [
      "Predictor loss: 80.99 | adversary loss 2.47 | Demographic disparity = 0.51\n",
      " \n",
      "Avg Training Stats after 39 global rounds:\n",
      "Training loss: 0.32 | Validation accuracy: 89.00% | Validation Demographic disparity: 0.5052\n",
      "\n",
      " | Global Training Round : 40 |\n",
      "\n",
      "Predictor loss: 80.99 | adversary loss 2.47 | Demographic disparity = 0.51\n",
      " \n",
      "Avg Training Stats after 40 global rounds:\n",
      "Training loss: 0.32 | Validation accuracy: 89.00% | Validation Demographic disparity: 0.5052\n",
      "\n",
      " | Global Training Round : 41 |\n",
      "\n",
      "Predictor loss: 81.01 | adversary loss 2.49 | Demographic disparity = 0.51\n",
      " \n",
      "Avg Training Stats after 41 global rounds:\n",
      "Training loss: 0.32 | Validation accuracy: 89.00% | Validation Demographic disparity: 0.5052\n",
      "\n",
      " | Global Training Round : 42 |\n",
      "\n"
     ]
    },
    {
     "name": "stderr",
     "output_type": "stream",
     "text": [
      "\r",
      " 14%|█▍        | 42/300 [00:04<00:25, 10.19it/s]"
     ]
    },
    {
     "name": "stdout",
     "output_type": "stream",
     "text": [
      "Predictor loss: 81.02 | adversary loss 2.50 | Demographic disparity = 0.51\n",
      " \n",
      "Avg Training Stats after 42 global rounds:\n",
      "Training loss: 0.32 | Validation accuracy: 89.00% | Validation Demographic disparity: 0.5052\n",
      "\n",
      " | Global Training Round : 43 |\n",
      "\n",
      "Predictor loss: 81.06 | adversary loss 2.43 | Demographic disparity = 0.51\n",
      " \n",
      "Avg Training Stats after 43 global rounds:\n",
      "Training loss: 0.32 | Validation accuracy: 89.00% | Validation Demographic disparity: 0.5052\n",
      "\n",
      " | Global Training Round : 44 |\n",
      "\n"
     ]
    },
    {
     "name": "stderr",
     "output_type": "stream",
     "text": [
      " 15%|█▌        | 45/300 [00:04<00:26,  9.56it/s]"
     ]
    },
    {
     "name": "stdout",
     "output_type": "stream",
     "text": [
      "Predictor loss: 81.05 | adversary loss 2.50 | Demographic disparity = 0.51\n",
      " \n",
      "Avg Training Stats after 44 global rounds:\n",
      "Training loss: 0.31 | Validation accuracy: 89.00% | Validation Demographic disparity: 0.5052\n",
      "\n",
      " | Global Training Round : 45 |\n",
      "\n",
      "Predictor loss: 81.01 | adversary loss 2.50 | Demographic disparity = 0.51\n",
      " \n",
      "Avg Training Stats after 45 global rounds:\n",
      "Training loss: 0.31 | Validation accuracy: 89.00% | Validation Demographic disparity: 0.5052\n",
      "\n",
      " | Global Training Round : 46 |\n",
      "\n"
     ]
    },
    {
     "name": "stderr",
     "output_type": "stream",
     "text": [
      " 16%|█▌        | 47/300 [00:04<00:27,  9.13it/s]"
     ]
    },
    {
     "name": "stdout",
     "output_type": "stream",
     "text": [
      "Predictor loss: 81.00 | adversary loss 2.45 | Demographic disparity = 0.51\n",
      " \n",
      "Avg Training Stats after 46 global rounds:\n",
      "Training loss: 0.31 | Validation accuracy: 89.00% | Validation Demographic disparity: 0.5052\n",
      "\n",
      " | Global Training Round : 47 |\n",
      "\n",
      "Predictor loss: 81.03 | adversary loss 2.49 | Demographic disparity = 0.51\n",
      " \n",
      "Avg Training Stats after 47 global rounds:\n",
      "Training loss: 0.31 | Validation accuracy: 89.00% | Validation Demographic disparity: 0.5052\n",
      "\n",
      " | Global Training Round : 48 |\n",
      "\n"
     ]
    },
    {
     "name": "stderr",
     "output_type": "stream",
     "text": [
      " 16%|█▋        | 49/300 [00:04<00:31,  8.00it/s]"
     ]
    },
    {
     "name": "stdout",
     "output_type": "stream",
     "text": [
      "Predictor loss: 81.05 | adversary loss 2.46 | Demographic disparity = 0.51\n",
      " \n",
      "Avg Training Stats after 48 global rounds:\n",
      "Training loss: 0.31 | Validation accuracy: 89.00% | Validation Demographic disparity: 0.5052\n",
      "\n",
      " | Global Training Round : 49 |\n",
      "\n",
      "Predictor loss: 81.00 | adversary loss 2.49 | Demographic disparity = 0.51\n",
      " \n",
      "Avg Training Stats after 49 global rounds:\n",
      "Training loss: 0.31 | Validation accuracy: 88.67% | Validation Demographic disparity: 0.5113\n",
      "\n",
      " | Global Training Round : 50 |\n",
      "\n"
     ]
    },
    {
     "name": "stderr",
     "output_type": "stream",
     "text": [
      " 17%|█▋        | 52/300 [00:05<00:28,  8.80it/s]"
     ]
    },
    {
     "name": "stdout",
     "output_type": "stream",
     "text": [
      "Predictor loss: 80.99 | adversary loss 2.41 | Demographic disparity = 0.51\n",
      " \n",
      "Avg Training Stats after 50 global rounds:\n",
      "Training loss: 0.31 | Validation accuracy: 89.00% | Validation Demographic disparity: 0.5052\n",
      "\n",
      " | Global Training Round : 51 |\n",
      "\n",
      "Predictor loss: 80.99 | adversary loss 2.41 | Demographic disparity = 0.51\n",
      " \n",
      "Avg Training Stats after 51 global rounds:\n",
      "Training loss: 0.31 | Validation accuracy: 89.00% | Validation Demographic disparity: 0.5052\n",
      "\n",
      " | Global Training Round : 52 |\n",
      "\n",
      "Predictor loss: 103.98 | adversary loss 7.60 | Demographic disparity = 0.39\n",
      " \n",
      "Avg Training Stats after 52 global rounds:\n",
      "Training loss: 0.31 | Validation accuracy: 85.33% | Validation Demographic disparity: 0.3852\n",
      "\n",
      " | Global Training Round : 53 |\n",
      "\n"
     ]
    },
    {
     "name": "stderr",
     "output_type": "stream",
     "text": [
      " 18%|█▊        | 54/300 [00:05<00:27,  8.92it/s]"
     ]
    },
    {
     "name": "stdout",
     "output_type": "stream",
     "text": [
      "Predictor loss: 103.98 | adversary loss 6.76 | Demographic disparity = 0.39\n",
      " \n",
      "Avg Training Stats after 53 global rounds:\n",
      "Training loss: 0.31 | Validation accuracy: 85.33% | Validation Demographic disparity: 0.3852\n",
      "\n",
      " | Global Training Round : 54 |\n",
      "\n",
      "Predictor loss: 103.98 | adversary loss 6.24 | Demographic disparity = 0.39\n",
      " \n",
      "Avg Training Stats after 54 global rounds:\n",
      "Training loss: 0.31 | Validation accuracy: 85.33% | Validation Demographic disparity: 0.3852\n",
      "\n",
      " | Global Training Round : 55 |\n",
      "\n"
     ]
    },
    {
     "name": "stderr",
     "output_type": "stream",
     "text": [
      " 19%|█▉        | 57/300 [00:05<00:25,  9.58it/s]"
     ]
    },
    {
     "name": "stdout",
     "output_type": "stream",
     "text": [
      "Predictor loss: 516.68 | adversary loss 23.85 | Demographic disparity = 0.22\n",
      " \n",
      "Avg Training Stats after 55 global rounds:\n",
      "Training loss: 0.32 | Validation accuracy: 40.00% | Validation Demographic disparity: 0.2227\n",
      "\n",
      " | Global Training Round : 56 |\n",
      "\n",
      "Predictor loss: 516.68 | adversary loss 10.60 | Demographic disparity = 0.22\n",
      " \n",
      "Avg Training Stats after 56 global rounds:\n",
      "Training loss: 0.34 | Validation accuracy: 40.00% | Validation Demographic disparity: 0.2227\n",
      "\n",
      " | Global Training Round : 57 |\n",
      "\n",
      "Predictor loss: 516.68 | adversary loss 5.70 | Demographic disparity = 0.22\n",
      " \n",
      "Avg Training Stats after 57 global rounds:\n",
      "Training loss: 0.36 | Validation accuracy: 40.00% | Validation Demographic disparity: 0.2227\n",
      "\n",
      " | Global Training Round : 58 |\n",
      "\n"
     ]
    },
    {
     "name": "stderr",
     "output_type": "stream",
     "text": [
      " 20%|██        | 60/300 [00:06<00:23, 10.01it/s]"
     ]
    },
    {
     "name": "stdout",
     "output_type": "stream",
     "text": [
      "Predictor loss: 712.40 | adversary loss 4.41 | Demographic disparity = 0.34\n",
      " \n",
      "Avg Training Stats after 58 global rounds:\n",
      "Training loss: 0.39 | Validation accuracy: 32.67% | Validation Demographic disparity: 0.3414\n",
      "\n",
      " | Global Training Round : 59 |\n",
      "\n",
      "Predictor loss: 712.40 | adversary loss 3.60 | Demographic disparity = 0.34\n",
      " \n",
      "Avg Training Stats after 59 global rounds:\n",
      "Training loss: 0.43 | Validation accuracy: 32.67% | Validation Demographic disparity: 0.3414\n",
      "\n",
      " | Global Training Round : 60 |\n",
      "\n",
      "Predictor loss: 712.40 | adversary loss 3.22 | Demographic disparity = 0.34\n",
      " \n",
      "Avg Training Stats after 60 global rounds:\n",
      "Training loss: 0.46 | Validation accuracy: 32.67% | Validation Demographic disparity: 0.3414\n",
      "\n",
      " | Global Training Round : 61 |\n",
      "\n"
     ]
    },
    {
     "name": "stderr",
     "output_type": "stream",
     "text": [
      "\r",
      " 21%|██        | 62/300 [00:06<00:23, 10.08it/s]"
     ]
    },
    {
     "name": "stdout",
     "output_type": "stream",
     "text": [
      "Predictor loss: 420.20 | adversary loss 3.49 | Demographic disparity = 0.13\n",
      " \n",
      "Avg Training Stats after 61 global rounds:\n",
      "Training loss: 0.48 | Validation accuracy: 47.67% | Validation Demographic disparity: 0.1311\n",
      "\n",
      " | Global Training Round : 62 |\n",
      "\n",
      "Predictor loss: 420.20 | adversary loss 3.38 | Demographic disparity = 0.13\n",
      " \n",
      "Avg Training Stats after 62 global rounds:\n",
      "Training loss: 0.49 | Validation accuracy: 47.67% | Validation Demographic disparity: 0.1311\n",
      "\n",
      " | Global Training Round : 63 |\n",
      "\n",
      "Predictor loss: 420.20 | adversary loss 3.28 | Demographic disparity = 0.13\n",
      " \n",
      "Avg Training Stats after 63 global rounds:\n",
      "Training loss: 0.50 | Validation accuracy: 47.67% | Validation Demographic disparity: 0.1311\n",
      "\n",
      " | Global Training Round : 64 |\n",
      "\n"
     ]
    },
    {
     "name": "stderr",
     "output_type": "stream",
     "text": [
      " 22%|██▏       | 66/300 [00:06<00:22, 10.33it/s]"
     ]
    },
    {
     "name": "stdout",
     "output_type": "stream",
     "text": [
      "Predictor loss: 234.34 | adversary loss 3.95 | Demographic disparity = 0.09\n",
      " \n",
      "Avg Training Stats after 64 global rounds:\n",
      "Training loss: 0.51 | Validation accuracy: 63.67% | Validation Demographic disparity: 0.0854\n",
      "\n",
      " | Global Training Round : 65 |\n",
      "\n",
      "Predictor loss: 234.34 | adversary loss 3.77 | Demographic disparity = 0.09\n",
      " \n",
      "Avg Training Stats after 65 global rounds:\n",
      "Training loss: 0.51 | Validation accuracy: 63.67% | Validation Demographic disparity: 0.0854\n",
      "\n",
      " | Global Training Round : 66 |\n",
      "\n",
      "Predictor loss: 234.34 | adversary loss 3.62 | Demographic disparity = 0.09\n",
      " \n",
      "Avg Training Stats after 66 global rounds:\n",
      "Training loss: 0.52 | Validation accuracy: 63.67% | Validation Demographic disparity: 0.0854\n",
      "\n",
      " | Global Training Round : 67 |\n",
      "\n"
     ]
    },
    {
     "name": "stderr",
     "output_type": "stream",
     "text": [
      "\r",
      " 23%|██▎       | 68/300 [00:06<00:22, 10.50it/s]"
     ]
    },
    {
     "name": "stdout",
     "output_type": "stream",
     "text": [
      "Predictor loss: 168.81 | adversary loss 4.41 | Demographic disparity = 0.19\n",
      " \n",
      "Avg Training Stats after 67 global rounds:\n",
      "Training loss: 0.52 | Validation accuracy: 71.67% | Validation Demographic disparity: 0.1903\n",
      "\n",
      " | Global Training Round : 68 |\n",
      "\n",
      "Predictor loss: 168.81 | adversary loss 4.12 | Demographic disparity = 0.19\n",
      " \n",
      "Avg Training Stats after 68 global rounds:\n",
      "Training loss: 0.52 | Validation accuracy: 71.67% | Validation Demographic disparity: 0.1903\n",
      "\n",
      " | Global Training Round : 69 |\n",
      "\n",
      "Predictor loss: 168.81 | adversary loss 3.91 | Demographic disparity = 0.19\n",
      " \n",
      "Avg Training Stats after 69 global rounds:\n",
      "Training loss: 0.52 | Validation accuracy: 71.67% | Validation Demographic disparity: 0.1903\n",
      "\n",
      " | Global Training Round : 70 |\n",
      "\n"
     ]
    },
    {
     "name": "stderr",
     "output_type": "stream",
     "text": [
      " 24%|██▍       | 72/300 [00:07<00:21, 10.48it/s]"
     ]
    },
    {
     "name": "stdout",
     "output_type": "stream",
     "text": [
      "Predictor loss: 154.80 | adversary loss 4.99 | Demographic disparity = 0.24\n",
      " \n",
      "Avg Training Stats after 70 global rounds:\n",
      "Training loss: 0.52 | Validation accuracy: 76.67% | Validation Demographic disparity: 0.2403\n",
      "\n",
      " | Global Training Round : 71 |\n",
      "\n",
      "Predictor loss: 154.80 | adversary loss 4.71 | Demographic disparity = 0.24\n",
      " \n",
      "Avg Training Stats after 71 global rounds:\n",
      "Training loss: 0.52 | Validation accuracy: 76.67% | Validation Demographic disparity: 0.2403\n",
      "\n",
      " | Global Training Round : 72 |\n",
      "\n",
      "Predictor loss: 154.80 | adversary loss 4.57 | Demographic disparity = 0.24\n",
      " \n",
      "Avg Training Stats after 72 global rounds:\n",
      "Training loss: 0.52 | Validation accuracy: 76.67% | Validation Demographic disparity: 0.2403\n",
      "\n",
      " | Global Training Round : 73 |\n",
      "\n"
     ]
    },
    {
     "name": "stderr",
     "output_type": "stream",
     "text": [
      "\r",
      " 25%|██▍       | 74/300 [00:07<00:22, 10.22it/s]"
     ]
    },
    {
     "name": "stdout",
     "output_type": "stream",
     "text": [
      "Predictor loss: 173.93 | adversary loss 6.35 | Demographic disparity = 0.16\n",
      " \n",
      "Avg Training Stats after 73 global rounds:\n",
      "Training loss: 0.52 | Validation accuracy: 70.00% | Validation Demographic disparity: 0.1598\n",
      "\n",
      " | Global Training Round : 74 |\n",
      "\n",
      "Predictor loss: 173.93 | adversary loss 6.22 | Demographic disparity = 0.16\n",
      " \n",
      "Avg Training Stats after 74 global rounds:\n",
      "Training loss: 0.52 | Validation accuracy: 70.00% | Validation Demographic disparity: 0.1598\n",
      "\n",
      " | Global Training Round : 75 |\n",
      "\n",
      "Predictor loss: 173.93 | adversary loss 6.18 | Demographic disparity = 0.16\n",
      " \n",
      "Avg Training Stats after 75 global rounds:\n",
      "Training loss: 0.52 | Validation accuracy: 70.00% | Validation Demographic disparity: 0.1598\n",
      "\n",
      " | Global Training Round : 76 |\n",
      "\n"
     ]
    },
    {
     "name": "stderr",
     "output_type": "stream",
     "text": [
      " 26%|██▌       | 78/300 [00:07<00:20, 10.65it/s]"
     ]
    },
    {
     "name": "stdout",
     "output_type": "stream",
     "text": [
      "Predictor loss: 236.98 | adversary loss 8.44 | Demographic disparity = 0.04\n",
      " \n",
      "Avg Training Stats after 76 global rounds:\n",
      "Training loss: 0.52 | Validation accuracy: 62.00% | Validation Demographic disparity: 0.0399\n",
      "\n",
      " | Global Training Round : 77 |\n",
      "\n",
      "Predictor loss: 236.98 | adversary loss 7.92 | Demographic disparity = 0.04\n",
      " \n",
      "Avg Training Stats after 77 global rounds:\n",
      "Training loss: 0.52 | Validation accuracy: 62.00% | Validation Demographic disparity: 0.0399\n",
      "\n",
      " | Global Training Round : 78 |\n",
      "\n",
      "Predictor loss: 236.98 | adversary loss 7.66 | Demographic disparity = 0.04\n",
      " \n",
      "Avg Training Stats after 78 global rounds:\n",
      "Training loss: 0.53 | Validation accuracy: 62.00% | Validation Demographic disparity: 0.0399\n",
      "\n",
      " | Global Training Round : 79 |\n",
      "\n"
     ]
    },
    {
     "name": "stderr",
     "output_type": "stream",
     "text": [
      "\r",
      " 27%|██▋       | 80/300 [00:07<00:20, 10.84it/s]"
     ]
    },
    {
     "name": "stdout",
     "output_type": "stream",
     "text": [
      "Predictor loss: 245.43 | adversary loss 7.42 | Demographic disparity = 0.02\n",
      " \n",
      "Avg Training Stats after 79 global rounds:\n",
      "Training loss: 0.53 | Validation accuracy: 61.00% | Validation Demographic disparity: 0.0177\n",
      "\n",
      " | Global Training Round : 80 |\n",
      "\n",
      "Predictor loss: 245.43 | adversary loss 7.11 | Demographic disparity = 0.02\n",
      " \n",
      "Avg Training Stats after 80 global rounds:\n",
      "Training loss: 0.53 | Validation accuracy: 61.00% | Validation Demographic disparity: 0.0177\n",
      "\n",
      " | Global Training Round : 81 |\n",
      "\n",
      "Predictor loss: 245.43 | adversary loss 6.82 | Demographic disparity = 0.02\n",
      " \n",
      "Avg Training Stats after 81 global rounds:\n",
      "Training loss: 0.53 | Validation accuracy: 61.00% | Validation Demographic disparity: 0.0177\n",
      "\n",
      " | Global Training Round : 82 |\n",
      "\n"
     ]
    },
    {
     "name": "stderr",
     "output_type": "stream",
     "text": [
      " 28%|██▊       | 84/300 [00:08<00:19, 11.05it/s]"
     ]
    },
    {
     "name": "stdout",
     "output_type": "stream",
     "text": [
      "Predictor loss: 185.24 | adversary loss 6.80 | Demographic disparity = 0.13\n",
      " \n",
      "Avg Training Stats after 82 global rounds:\n",
      "Training loss: 0.54 | Validation accuracy: 68.00% | Validation Demographic disparity: 0.1315\n",
      "\n",
      " | Global Training Round : 83 |\n",
      "\n",
      "Predictor loss: 185.24 | adversary loss 6.54 | Demographic disparity = 0.13\n",
      " \n",
      "Avg Training Stats after 83 global rounds:\n",
      "Training loss: 0.54 | Validation accuracy: 68.00% | Validation Demographic disparity: 0.1315\n",
      "\n",
      " | Global Training Round : 84 |\n",
      "\n",
      "Predictor loss: 185.24 | adversary loss 6.37 | Demographic disparity = 0.13\n",
      " \n",
      "Avg Training Stats after 84 global rounds:\n",
      "Training loss: 0.54 | Validation accuracy: 68.00% | Validation Demographic disparity: 0.1315\n",
      "\n",
      " | Global Training Round : 85 |\n",
      "\n"
     ]
    },
    {
     "name": "stderr",
     "output_type": "stream",
     "text": [
      "\r",
      " 29%|██▊       | 86/300 [00:08<00:19, 11.05it/s]"
     ]
    },
    {
     "name": "stdout",
     "output_type": "stream",
     "text": [
      "Predictor loss: 146.97 | adversary loss 6.34 | Demographic disparity = 0.24\n",
      " \n",
      "Avg Training Stats after 85 global rounds:\n",
      "Training loss: 0.54 | Validation accuracy: 76.33% | Validation Demographic disparity: 0.2436\n",
      "\n",
      " | Global Training Round : 86 |\n",
      "\n",
      "Predictor loss: 146.97 | adversary loss 6.13 | Demographic disparity = 0.24\n",
      " \n",
      "Avg Training Stats after 86 global rounds:\n",
      "Training loss: 0.54 | Validation accuracy: 76.33% | Validation Demographic disparity: 0.2436\n",
      "\n",
      " | Global Training Round : 87 |\n",
      "\n",
      "Predictor loss: 146.97 | adversary loss 6.00 | Demographic disparity = 0.24\n",
      " \n",
      "Avg Training Stats after 87 global rounds:\n",
      "Training loss: 0.54 | Validation accuracy: 76.33% | Validation Demographic disparity: 0.2436\n",
      "\n",
      " | Global Training Round : 88 |\n",
      "\n"
     ]
    },
    {
     "name": "stderr",
     "output_type": "stream",
     "text": [
      " 30%|███       | 90/300 [00:08<00:18, 11.26it/s]"
     ]
    },
    {
     "name": "stdout",
     "output_type": "stream",
     "text": [
      "Predictor loss: 140.83 | adversary loss 5.97 | Demographic disparity = 0.25\n",
      " \n",
      "Avg Training Stats after 88 global rounds:\n",
      "Training loss: 0.54 | Validation accuracy: 76.67% | Validation Demographic disparity: 0.2470\n",
      "\n",
      " | Global Training Round : 89 |\n",
      "\n",
      "Predictor loss: 140.83 | adversary loss 5.88 | Demographic disparity = 0.25\n",
      " \n",
      "Avg Training Stats after 89 global rounds:\n",
      "Training loss: 0.53 | Validation accuracy: 76.67% | Validation Demographic disparity: 0.2470\n",
      "\n",
      " | Global Training Round : 90 |\n",
      "\n",
      "Predictor loss: 140.83 | adversary loss 5.82 | Demographic disparity = 0.25\n",
      " \n",
      "Avg Training Stats after 90 global rounds:\n",
      "Training loss: 0.53 | Validation accuracy: 76.67% | Validation Demographic disparity: 0.2470\n",
      "\n",
      " | Global Training Round : 91 |\n",
      "\n"
     ]
    },
    {
     "name": "stderr",
     "output_type": "stream",
     "text": [
      "\r",
      " 31%|███       | 92/300 [00:09<00:18, 11.22it/s]"
     ]
    },
    {
     "name": "stdout",
     "output_type": "stream",
     "text": [
      "Predictor loss: 154.58 | adversary loss 6.03 | Demographic disparity = 0.21\n",
      " \n",
      "Avg Training Stats after 91 global rounds:\n",
      "Training loss: 0.53 | Validation accuracy: 73.33% | Validation Demographic disparity: 0.2070\n",
      "\n",
      " | Global Training Round : 92 |\n",
      "\n",
      "Predictor loss: 154.58 | adversary loss 6.00 | Demographic disparity = 0.21\n",
      " \n",
      "Avg Training Stats after 92 global rounds:\n",
      "Training loss: 0.53 | Validation accuracy: 73.33% | Validation Demographic disparity: 0.2070\n",
      "\n",
      " | Global Training Round : 93 |\n",
      "\n",
      "Predictor loss: 154.58 | adversary loss 6.00 | Demographic disparity = 0.21\n",
      " \n",
      "Avg Training Stats after 93 global rounds:\n",
      "Training loss: 0.53 | Validation accuracy: 73.33% | Validation Demographic disparity: 0.2070\n",
      "\n",
      " | Global Training Round : 94 |\n",
      "\n"
     ]
    },
    {
     "name": "stderr",
     "output_type": "stream",
     "text": [
      " 32%|███▏      | 96/300 [00:09<00:18, 11.05it/s]"
     ]
    },
    {
     "name": "stdout",
     "output_type": "stream",
     "text": [
      "Predictor loss: 173.11 | adversary loss 6.25 | Demographic disparity = 0.14\n",
      " \n",
      "Avg Training Stats after 94 global rounds:\n",
      "Training loss: 0.53 | Validation accuracy: 69.00% | Validation Demographic disparity: 0.1404\n",
      "\n",
      " | Global Training Round : 95 |\n",
      "\n",
      "Predictor loss: 173.11 | adversary loss 6.24 | Demographic disparity = 0.14\n",
      " \n",
      "Avg Training Stats after 95 global rounds:\n",
      "Training loss: 0.53 | Validation accuracy: 69.00% | Validation Demographic disparity: 0.1404\n",
      "\n",
      " | Global Training Round : 96 |\n",
      "\n",
      "Predictor loss: 173.11 | adversary loss 6.23 | Demographic disparity = 0.14\n",
      " \n",
      "Avg Training Stats after 96 global rounds:\n",
      "Training loss: 0.53 | Validation accuracy: 69.00% | Validation Demographic disparity: 0.1404\n",
      "\n",
      " | Global Training Round : 97 |\n",
      "\n"
     ]
    },
    {
     "name": "stderr",
     "output_type": "stream",
     "text": [
      "\r",
      " 33%|███▎      | 98/300 [00:09<00:18, 10.68it/s]"
     ]
    },
    {
     "name": "stdout",
     "output_type": "stream",
     "text": [
      "Predictor loss: 182.91 | adversary loss 6.38 | Demographic disparity = 0.09\n",
      " \n",
      "Avg Training Stats after 97 global rounds:\n",
      "Training loss: 0.53 | Validation accuracy: 66.00% | Validation Demographic disparity: 0.0871\n",
      "\n",
      " | Global Training Round : 98 |\n",
      "\n",
      "Predictor loss: 182.91 | adversary loss 6.38 | Demographic disparity = 0.09\n",
      " \n",
      "Avg Training Stats after 98 global rounds:\n",
      "Training loss: 0.53 | Validation accuracy: 66.00% | Validation Demographic disparity: 0.0871\n",
      "\n",
      " | Global Training Round : 99 |\n",
      "\n",
      "Predictor loss: 182.91 | adversary loss 6.39 | Demographic disparity = 0.09\n",
      " \n",
      "Avg Training Stats after 99 global rounds:\n",
      "Training loss: 0.53 | Validation accuracy: 66.00% | Validation Demographic disparity: 0.0871\n",
      "\n",
      " | Global Training Round : 100 |\n",
      "\n"
     ]
    },
    {
     "name": "stderr",
     "output_type": "stream",
     "text": [
      " 34%|███▍      | 102/300 [00:09<00:17, 11.01it/s]"
     ]
    },
    {
     "name": "stdout",
     "output_type": "stream",
     "text": [
      "Predictor loss: 176.49 | adversary loss 6.38 | Demographic disparity = 0.09\n",
      " \n",
      "Avg Training Stats after 100 global rounds:\n",
      "Training loss: 0.53 | Validation accuracy: 66.67% | Validation Demographic disparity: 0.0910\n",
      "\n",
      " | Global Training Round : 101 |\n",
      "\n",
      "Predictor loss: 176.49 | adversary loss 6.38 | Demographic disparity = 0.09\n",
      " \n",
      "Avg Training Stats after 101 global rounds:\n",
      "Training loss: 0.53 | Validation accuracy: 66.67% | Validation Demographic disparity: 0.0910\n",
      "\n",
      " | Global Training Round : 102 |\n",
      "\n",
      "Predictor loss: 176.49 | adversary loss 6.38 | Demographic disparity = 0.09\n",
      " \n",
      "Avg Training Stats after 102 global rounds:\n",
      "Training loss: 0.54 | Validation accuracy: 66.67% | Validation Demographic disparity: 0.0910\n",
      "\n",
      " | Global Training Round : 103 |\n",
      "\n"
     ]
    },
    {
     "name": "stderr",
     "output_type": "stream",
     "text": [
      "\r",
      " 35%|███▍      | 104/300 [00:10<00:17, 11.04it/s]"
     ]
    },
    {
     "name": "stdout",
     "output_type": "stream",
     "text": [
      "Predictor loss: 164.06 | adversary loss 6.30 | Demographic disparity = 0.12\n",
      " \n",
      "Avg Training Stats after 103 global rounds:\n",
      "Training loss: 0.54 | Validation accuracy: 69.33% | Validation Demographic disparity: 0.1232\n",
      "\n",
      " | Global Training Round : 104 |\n",
      "\n",
      "Predictor loss: 164.06 | adversary loss 6.27 | Demographic disparity = 0.12\n",
      " \n",
      "Avg Training Stats after 104 global rounds:\n",
      "Training loss: 0.54 | Validation accuracy: 69.33% | Validation Demographic disparity: 0.1232\n",
      "\n",
      " | Global Training Round : 105 |\n",
      "\n",
      "Predictor loss: 164.06 | adversary loss 6.27 | Demographic disparity = 0.12\n",
      " \n",
      "Avg Training Stats after 105 global rounds:\n",
      "Training loss: 0.54 | Validation accuracy: 69.33% | Validation Demographic disparity: 0.1232\n",
      "\n",
      " | Global Training Round : 106 |\n",
      "\n"
     ]
    },
    {
     "name": "stderr",
     "output_type": "stream",
     "text": [
      " 36%|███▌      | 108/300 [00:10<00:16, 11.42it/s]"
     ]
    },
    {
     "name": "stdout",
     "output_type": "stream",
     "text": [
      "Predictor loss: 160.68 | adversary loss 6.26 | Demographic disparity = 0.13\n",
      " \n",
      "Avg Training Stats after 106 global rounds:\n",
      "Training loss: 0.53 | Validation accuracy: 71.00% | Validation Demographic disparity: 0.1304\n",
      "\n",
      " | Global Training Round : 107 |\n",
      "\n",
      "Predictor loss: 160.68 | adversary loss 6.26 | Demographic disparity = 0.13\n",
      " \n",
      "Avg Training Stats after 107 global rounds:\n",
      "Training loss: 0.53 | Validation accuracy: 71.00% | Validation Demographic disparity: 0.1304\n",
      "\n",
      " | Global Training Round : 108 |\n",
      "\n",
      "Predictor loss: 160.68 | adversary loss 6.26 | Demographic disparity = 0.13\n",
      " \n",
      "Avg Training Stats after 108 global rounds:\n",
      "Training loss: 0.53 | Validation accuracy: 71.00% | Validation Demographic disparity: 0.1304\n",
      "\n",
      " | Global Training Round : 109 |\n",
      "\n"
     ]
    },
    {
     "name": "stderr",
     "output_type": "stream",
     "text": [
      "\r",
      " 37%|███▋      | 110/300 [00:10<00:17, 11.13it/s]"
     ]
    },
    {
     "name": "stdout",
     "output_type": "stream",
     "text": [
      "Predictor loss: 162.77 | adversary loss 6.30 | Demographic disparity = 0.12\n",
      " \n",
      "Avg Training Stats after 109 global rounds:\n",
      "Training loss: 0.53 | Validation accuracy: 70.33% | Validation Demographic disparity: 0.1182\n",
      "\n",
      " | Global Training Round : 110 |\n",
      "\n",
      "Predictor loss: 162.77 | adversary loss 6.30 | Demographic disparity = 0.12\n",
      " \n",
      "Avg Training Stats after 110 global rounds:\n",
      "Training loss: 0.53 | Validation accuracy: 70.33% | Validation Demographic disparity: 0.1182\n",
      "\n",
      " | Global Training Round : 111 |\n",
      "\n",
      "Predictor loss: 162.77 | adversary loss 6.29 | Demographic disparity = 0.12\n",
      " \n",
      "Avg Training Stats after 111 global rounds:\n",
      "Training loss: 0.53 | Validation accuracy: 70.33% | Validation Demographic disparity: 0.1182\n",
      "\n",
      " | Global Training Round : 112 |\n",
      "\n"
     ]
    },
    {
     "name": "stderr",
     "output_type": "stream",
     "text": [
      " 38%|███▊      | 114/300 [00:11<00:16, 11.46it/s]"
     ]
    },
    {
     "name": "stdout",
     "output_type": "stream",
     "text": [
      "Predictor loss: 166.94 | adversary loss 6.36 | Demographic disparity = 0.08\n",
      " \n",
      "Avg Training Stats after 112 global rounds:\n",
      "Training loss: 0.53 | Validation accuracy: 68.00% | Validation Demographic disparity: 0.0783\n",
      "\n",
      " | Global Training Round : 113 |\n",
      "\n",
      "Predictor loss: 166.94 | adversary loss 6.36 | Demographic disparity = 0.08\n",
      " \n",
      "Avg Training Stats after 113 global rounds:\n",
      "Training loss: 0.53 | Validation accuracy: 68.00% | Validation Demographic disparity: 0.0783\n",
      "\n",
      " | Global Training Round : 114 |\n",
      "\n",
      "Predictor loss: 166.94 | adversary loss 6.37 | Demographic disparity = 0.08\n",
      " \n",
      "Avg Training Stats after 114 global rounds:\n",
      "Training loss: 0.53 | Validation accuracy: 68.00% | Validation Demographic disparity: 0.0783\n",
      "\n",
      " | Global Training Round : 115 |\n",
      "\n"
     ]
    },
    {
     "name": "stderr",
     "output_type": "stream",
     "text": [
      "\r",
      " 39%|███▊      | 116/300 [00:11<00:16, 11.38it/s]"
     ]
    },
    {
     "name": "stdout",
     "output_type": "stream",
     "text": [
      "Predictor loss: 166.34 | adversary loss 6.40 | Demographic disparity = 0.07\n",
      " \n",
      "Avg Training Stats after 115 global rounds:\n",
      "Training loss: 0.53 | Validation accuracy: 68.00% | Validation Demographic disparity: 0.0728\n",
      "\n",
      " | Global Training Round : 116 |\n",
      "\n",
      "Predictor loss: 166.34 | adversary loss 6.40 | Demographic disparity = 0.07\n",
      " \n",
      "Avg Training Stats after 116 global rounds:\n",
      "Training loss: 0.53 | Validation accuracy: 68.00% | Validation Demographic disparity: 0.0728\n",
      "\n",
      " | Global Training Round : 117 |\n",
      "\n",
      "Predictor loss: 166.34 | adversary loss 6.41 | Demographic disparity = 0.07\n",
      " \n",
      "Avg Training Stats after 117 global rounds:\n",
      "Training loss: 0.53 | Validation accuracy: 68.00% | Validation Demographic disparity: 0.0728\n",
      "\n",
      " | Global Training Round : 118 |\n",
      "\n"
     ]
    },
    {
     "name": "stderr",
     "output_type": "stream",
     "text": [
      " 40%|████      | 120/300 [00:11<00:15, 11.51it/s]"
     ]
    },
    {
     "name": "stdout",
     "output_type": "stream",
     "text": [
      "Predictor loss: 159.41 | adversary loss 6.39 | Demographic disparity = 0.12\n",
      " \n",
      "Avg Training Stats after 118 global rounds:\n",
      "Training loss: 0.53 | Validation accuracy: 72.33% | Validation Demographic disparity: 0.1216\n",
      "\n",
      " | Global Training Round : 119 |\n",
      "\n",
      "Predictor loss: 159.41 | adversary loss 6.38 | Demographic disparity = 0.12\n",
      " \n",
      "Avg Training Stats after 119 global rounds:\n",
      "Training loss: 0.53 | Validation accuracy: 72.33% | Validation Demographic disparity: 0.1216\n",
      "\n",
      " | Global Training Round : 120 |\n",
      "\n",
      "Predictor loss: 159.41 | adversary loss 6.37 | Demographic disparity = 0.12\n",
      " \n",
      "Avg Training Stats after 120 global rounds:\n",
      "Training loss: 0.53 | Validation accuracy: 72.33% | Validation Demographic disparity: 0.1216\n",
      "\n",
      " | Global Training Round : 121 |\n",
      "\n"
     ]
    },
    {
     "name": "stderr",
     "output_type": "stream",
     "text": [
      "\r",
      " 41%|████      | 122/300 [00:11<00:15, 11.17it/s]"
     ]
    },
    {
     "name": "stdout",
     "output_type": "stream",
     "text": [
      "Predictor loss: 156.39 | adversary loss 6.37 | Demographic disparity = 0.13\n",
      " \n",
      "Avg Training Stats after 121 global rounds:\n",
      "Training loss: 0.53 | Validation accuracy: 73.00% | Validation Demographic disparity: 0.1283\n",
      "\n",
      " | Global Training Round : 122 |\n",
      "\n",
      "Predictor loss: 156.39 | adversary loss 6.37 | Demographic disparity = 0.13\n",
      " \n",
      "Avg Training Stats after 122 global rounds:\n",
      "Training loss: 0.53 | Validation accuracy: 73.00% | Validation Demographic disparity: 0.1283\n",
      "\n",
      " | Global Training Round : 123 |\n",
      "\n",
      "Predictor loss: 156.39 | adversary loss 6.36 | Demographic disparity = 0.13\n",
      " \n",
      "Avg Training Stats after 123 global rounds:\n",
      "Training loss: 0.53 | Validation accuracy: 73.00% | Validation Demographic disparity: 0.1283\n",
      "\n",
      " | Global Training Round : 124 |\n",
      "\n"
     ]
    },
    {
     "name": "stderr",
     "output_type": "stream",
     "text": [
      " 42%|████▏     | 126/300 [00:12<00:15, 11.46it/s]"
     ]
    },
    {
     "name": "stdout",
     "output_type": "stream",
     "text": [
      "Predictor loss: 158.92 | adversary loss 6.39 | Demographic disparity = 0.12\n",
      " \n",
      "Avg Training Stats after 124 global rounds:\n",
      "Training loss: 0.53 | Validation accuracy: 72.67% | Validation Demographic disparity: 0.1250\n",
      "\n",
      " | Global Training Round : 125 |\n",
      "\n",
      "Predictor loss: 158.92 | adversary loss 6.40 | Demographic disparity = 0.12\n",
      " \n",
      "Avg Training Stats after 125 global rounds:\n",
      "Training loss: 0.53 | Validation accuracy: 72.67% | Validation Demographic disparity: 0.1250\n",
      "\n",
      " | Global Training Round : 126 |\n",
      "\n",
      "Predictor loss: 158.92 | adversary loss 6.40 | Demographic disparity = 0.12\n",
      " \n",
      "Avg Training Stats after 126 global rounds:\n",
      "Training loss: 0.53 | Validation accuracy: 72.67% | Validation Demographic disparity: 0.1250\n",
      "\n",
      " | Global Training Round : 127 |\n",
      "\n"
     ]
    },
    {
     "name": "stderr",
     "output_type": "stream",
     "text": [
      "\r",
      " 43%|████▎     | 128/300 [00:12<00:15, 11.28it/s]"
     ]
    },
    {
     "name": "stdout",
     "output_type": "stream",
     "text": [
      "Predictor loss: 161.24 | adversary loss 6.43 | Demographic disparity = 0.11\n",
      " \n",
      "Avg Training Stats after 127 global rounds:\n",
      "Training loss: 0.53 | Validation accuracy: 72.33% | Validation Demographic disparity: 0.1067\n",
      "\n",
      " | Global Training Round : 128 |\n",
      "\n",
      "Predictor loss: 161.24 | adversary loss 6.43 | Demographic disparity = 0.11\n",
      " \n",
      "Avg Training Stats after 128 global rounds:\n",
      "Training loss: 0.53 | Validation accuracy: 72.33% | Validation Demographic disparity: 0.1067\n",
      "\n",
      " | Global Training Round : 129 |\n",
      "\n",
      "Predictor loss: 161.24 | adversary loss 6.41 | Demographic disparity = 0.11\n",
      " \n",
      "Avg Training Stats after 129 global rounds:\n",
      "Training loss: 0.53 | Validation accuracy: 72.33% | Validation Demographic disparity: 0.1067\n",
      "\n",
      " | Global Training Round : 130 |\n",
      "\n"
     ]
    },
    {
     "name": "stderr",
     "output_type": "stream",
     "text": [
      " 44%|████▍     | 132/300 [00:12<00:15, 11.14it/s]"
     ]
    },
    {
     "name": "stdout",
     "output_type": "stream",
     "text": [
      "Predictor loss: 160.44 | adversary loss 6.44 | Demographic disparity = 0.11\n",
      " \n",
      "Avg Training Stats after 130 global rounds:\n",
      "Training loss: 0.53 | Validation accuracy: 72.67% | Validation Demographic disparity: 0.1100\n",
      "\n",
      " | Global Training Round : 131 |\n",
      "\n",
      "Predictor loss: 160.44 | adversary loss 6.45 | Demographic disparity = 0.11\n",
      " \n",
      "Avg Training Stats after 131 global rounds:\n",
      "Training loss: 0.53 | Validation accuracy: 72.67% | Validation Demographic disparity: 0.1100\n",
      "\n",
      " | Global Training Round : 132 |\n",
      "\n",
      "Predictor loss: 160.44 | adversary loss 6.45 | Demographic disparity = 0.11\n",
      " \n",
      "Avg Training Stats after 132 global rounds:\n",
      "Training loss: 0.53 | Validation accuracy: 72.67% | Validation Demographic disparity: 0.1100\n",
      "\n",
      " | Global Training Round : 133 |\n",
      "\n"
     ]
    },
    {
     "name": "stderr",
     "output_type": "stream",
     "text": [
      "\r",
      " 45%|████▍     | 134/300 [00:12<00:15, 11.02it/s]"
     ]
    },
    {
     "name": "stdout",
     "output_type": "stream",
     "text": [
      "Predictor loss: 156.34 | adversary loss 6.44 | Demographic disparity = 0.13\n",
      " \n",
      "Avg Training Stats after 133 global rounds:\n",
      "Training loss: 0.53 | Validation accuracy: 73.67% | Validation Demographic disparity: 0.1255\n",
      "\n",
      " | Global Training Round : 134 |\n",
      "\n",
      "Predictor loss: 156.34 | adversary loss 6.42 | Demographic disparity = 0.13\n",
      " \n",
      "Avg Training Stats after 134 global rounds:\n",
      "Training loss: 0.53 | Validation accuracy: 73.67% | Validation Demographic disparity: 0.1255\n",
      "\n",
      " | Global Training Round : 135 |\n",
      "\n",
      "Predictor loss: 156.34 | adversary loss 6.42 | Demographic disparity = 0.13\n",
      " \n",
      "Avg Training Stats after 135 global rounds:\n",
      "Training loss: 0.53 | Validation accuracy: 73.67% | Validation Demographic disparity: 0.1255\n",
      "\n",
      " | Global Training Round : 136 |\n",
      "\n"
     ]
    },
    {
     "name": "stderr",
     "output_type": "stream",
     "text": [
      " 46%|████▌     | 138/300 [00:13<00:13, 11.81it/s]"
     ]
    },
    {
     "name": "stdout",
     "output_type": "stream",
     "text": [
      "Predictor loss: 152.57 | adversary loss 6.40 | Demographic disparity = 0.15\n",
      " \n",
      "Avg Training Stats after 136 global rounds:\n",
      "Training loss: 0.53 | Validation accuracy: 75.33% | Validation Demographic disparity: 0.1477\n",
      "\n",
      " | Global Training Round : 137 |\n",
      "\n",
      "Predictor loss: 152.57 | adversary loss 6.39 | Demographic disparity = 0.15\n",
      " \n",
      "Avg Training Stats after 137 global rounds:\n",
      "Training loss: 0.53 | Validation accuracy: 75.33% | Validation Demographic disparity: 0.1477\n",
      "\n",
      " | Global Training Round : 138 |\n",
      "\n",
      "Predictor loss: 152.57 | adversary loss 6.37 | Demographic disparity = 0.15\n",
      " \n",
      "Avg Training Stats after 138 global rounds:\n",
      "Training loss: 0.53 | Validation accuracy: 75.33% | Validation Demographic disparity: 0.1477\n",
      "\n",
      " | Global Training Round : 139 |\n",
      "\n"
     ]
    },
    {
     "name": "stderr",
     "output_type": "stream",
     "text": [
      "\r",
      " 47%|████▋     | 140/300 [00:13<00:13, 11.97it/s]"
     ]
    },
    {
     "name": "stdout",
     "output_type": "stream",
     "text": [
      "Predictor loss: 154.11 | adversary loss 6.39 | Demographic disparity = 0.13\n",
      " \n",
      "Avg Training Stats after 139 global rounds:\n",
      "Training loss: 0.53 | Validation accuracy: 74.33% | Validation Demographic disparity: 0.1294\n",
      "\n",
      " | Global Training Round : 140 |\n",
      "\n",
      "Predictor loss: 154.11 | adversary loss 6.39 | Demographic disparity = 0.13\n",
      " \n",
      "Avg Training Stats after 140 global rounds:\n",
      "Training loss: 0.53 | Validation accuracy: 74.33% | Validation Demographic disparity: 0.1294\n",
      "\n",
      " | Global Training Round : 141 |\n",
      "\n",
      "Predictor loss: 154.11 | adversary loss 6.40 | Demographic disparity = 0.13\n",
      " \n",
      "Avg Training Stats after 141 global rounds:\n",
      "Training loss: 0.53 | Validation accuracy: 74.33% | Validation Demographic disparity: 0.1294\n",
      "\n",
      " | Global Training Round : 142 |\n",
      "\n"
     ]
    },
    {
     "name": "stderr",
     "output_type": "stream",
     "text": [
      " 48%|████▊     | 144/300 [00:13<00:12, 12.15it/s]"
     ]
    },
    {
     "name": "stdout",
     "output_type": "stream",
     "text": [
      "Predictor loss: 157.62 | adversary loss 6.45 | Demographic disparity = 0.11\n",
      " \n",
      "Avg Training Stats after 142 global rounds:\n",
      "Training loss: 0.53 | Validation accuracy: 73.67% | Validation Demographic disparity: 0.1133\n",
      "\n",
      " | Global Training Round : 143 |\n",
      "\n",
      "Predictor loss: 157.62 | adversary loss 6.43 | Demographic disparity = 0.11\n",
      " \n",
      "Avg Training Stats after 143 global rounds:\n",
      "Training loss: 0.53 | Validation accuracy: 73.67% | Validation Demographic disparity: 0.1133\n",
      "\n",
      " | Global Training Round : 144 |\n",
      "\n",
      "Predictor loss: 157.62 | adversary loss 6.44 | Demographic disparity = 0.11\n",
      " \n",
      "Avg Training Stats after 144 global rounds:\n",
      "Training loss: 0.53 | Validation accuracy: 73.67% | Validation Demographic disparity: 0.1133\n",
      "\n",
      " | Global Training Round : 145 |\n",
      "\n"
     ]
    },
    {
     "name": "stderr",
     "output_type": "stream",
     "text": [
      "\r",
      " 49%|████▊     | 146/300 [00:13<00:12, 12.22it/s]"
     ]
    },
    {
     "name": "stdout",
     "output_type": "stream",
     "text": [
      "Predictor loss: 158.36 | adversary loss 6.44 | Demographic disparity = 0.10\n",
      " \n",
      "Avg Training Stats after 145 global rounds:\n",
      "Training loss: 0.53 | Validation accuracy: 73.00% | Validation Demographic disparity: 0.1011\n",
      "\n",
      " | Global Training Round : 146 |\n",
      "\n",
      "Predictor loss: 158.36 | adversary loss 6.44 | Demographic disparity = 0.10\n",
      " \n",
      "Avg Training Stats after 146 global rounds:\n",
      "Training loss: 0.53 | Validation accuracy: 73.00% | Validation Demographic disparity: 0.1011\n",
      "\n",
      " | Global Training Round : 147 |\n",
      "\n",
      "Predictor loss: 158.36 | adversary loss 6.43 | Demographic disparity = 0.10\n",
      " \n",
      "Avg Training Stats after 147 global rounds:\n",
      "Training loss: 0.53 | Validation accuracy: 73.00% | Validation Demographic disparity: 0.1011\n",
      "\n",
      " | Global Training Round : 148 |\n",
      "\n"
     ]
    },
    {
     "name": "stderr",
     "output_type": "stream",
     "text": [
      " 50%|█████     | 150/300 [00:14<00:11, 12.52it/s]"
     ]
    },
    {
     "name": "stdout",
     "output_type": "stream",
     "text": [
      "Predictor loss: 156.33 | adversary loss 6.41 | Demographic disparity = 0.10\n",
      " \n",
      "Avg Training Stats after 148 global rounds:\n",
      "Training loss: 0.53 | Validation accuracy: 73.00% | Validation Demographic disparity: 0.1011\n",
      "\n",
      " | Global Training Round : 149 |\n",
      "\n",
      "Predictor loss: 156.33 | adversary loss 6.42 | Demographic disparity = 0.10\n",
      " \n",
      "Avg Training Stats after 149 global rounds:\n",
      "Training loss: 0.53 | Validation accuracy: 73.00% | Validation Demographic disparity: 0.1011\n",
      "\n",
      " | Global Training Round : 150 |\n",
      "\n",
      "Predictor loss: 156.33 | adversary loss 6.43 | Demographic disparity = 0.10\n",
      " \n",
      "Avg Training Stats after 150 global rounds:\n",
      "Training loss: 0.53 | Validation accuracy: 73.00% | Validation Demographic disparity: 0.1011\n",
      "\n",
      " | Global Training Round : 151 |\n",
      "\n"
     ]
    },
    {
     "name": "stderr",
     "output_type": "stream",
     "text": [
      "\r",
      " 51%|█████     | 152/300 [00:14<00:11, 12.37it/s]"
     ]
    },
    {
     "name": "stdout",
     "output_type": "stream",
     "text": [
      "Predictor loss: 154.61 | adversary loss 6.42 | Demographic disparity = 0.12\n",
      " \n",
      "Avg Training Stats after 151 global rounds:\n",
      "Training loss: 0.53 | Validation accuracy: 74.33% | Validation Demographic disparity: 0.1172\n",
      "\n",
      " | Global Training Round : 152 |\n",
      "\n",
      "Predictor loss: 154.61 | adversary loss 6.41 | Demographic disparity = 0.12\n",
      " \n",
      "Avg Training Stats after 152 global rounds:\n",
      "Training loss: 0.53 | Validation accuracy: 74.33% | Validation Demographic disparity: 0.1172\n",
      "\n",
      " | Global Training Round : 153 |\n",
      "\n",
      "Predictor loss: 154.61 | adversary loss 6.41 | Demographic disparity = 0.12\n",
      " \n",
      "Avg Training Stats after 153 global rounds:\n",
      "Training loss: 0.53 | Validation accuracy: 74.33% | Validation Demographic disparity: 0.1172\n",
      "\n",
      " | Global Training Round : 154 |\n",
      "\n"
     ]
    },
    {
     "name": "stderr",
     "output_type": "stream",
     "text": [
      " 52%|█████▏    | 156/300 [00:14<00:11, 12.71it/s]"
     ]
    },
    {
     "name": "stdout",
     "output_type": "stream",
     "text": [
      "Predictor loss: 153.66 | adversary loss 6.41 | Demographic disparity = 0.11\n",
      " \n",
      "Avg Training Stats after 154 global rounds:\n",
      "Training loss: 0.53 | Validation accuracy: 74.00% | Validation Demographic disparity: 0.1111\n",
      "\n",
      " | Global Training Round : 155 |\n",
      "\n",
      "Predictor loss: 153.66 | adversary loss 6.40 | Demographic disparity = 0.11\n",
      " \n",
      "Avg Training Stats after 155 global rounds:\n",
      "Training loss: 0.53 | Validation accuracy: 74.00% | Validation Demographic disparity: 0.1111\n",
      "\n",
      " | Global Training Round : 156 |\n",
      "\n",
      "Predictor loss: 153.66 | adversary loss 6.42 | Demographic disparity = 0.11\n",
      " \n",
      "Avg Training Stats after 156 global rounds:\n",
      "Training loss: 0.53 | Validation accuracy: 74.00% | Validation Demographic disparity: 0.1111\n",
      "\n",
      " | Global Training Round : 157 |\n",
      "\n"
     ]
    },
    {
     "name": "stderr",
     "output_type": "stream",
     "text": [
      "\r",
      " 53%|█████▎    | 158/300 [00:14<00:11, 12.21it/s]"
     ]
    },
    {
     "name": "stdout",
     "output_type": "stream",
     "text": [
      "Predictor loss: 154.57 | adversary loss 6.42 | Demographic disparity = 0.11\n",
      " \n",
      "Avg Training Stats after 157 global rounds:\n",
      "Training loss: 0.53 | Validation accuracy: 74.00% | Validation Demographic disparity: 0.1111\n",
      "\n",
      " | Global Training Round : 158 |\n",
      "\n",
      "Predictor loss: 154.57 | adversary loss 6.43 | Demographic disparity = 0.11\n",
      " \n",
      "Avg Training Stats after 158 global rounds:\n",
      "Training loss: 0.53 | Validation accuracy: 74.00% | Validation Demographic disparity: 0.1111\n",
      "\n",
      " | Global Training Round : 159 |\n",
      "\n",
      "Predictor loss: 154.57 | adversary loss 6.44 | Demographic disparity = 0.11\n",
      " \n",
      "Avg Training Stats after 159 global rounds:\n",
      "Training loss: 0.53 | Validation accuracy: 74.00% | Validation Demographic disparity: 0.1111\n",
      "\n",
      " | Global Training Round : 160 |\n",
      "\n"
     ]
    },
    {
     "name": "stderr",
     "output_type": "stream",
     "text": [
      " 54%|█████▍    | 162/300 [00:15<00:10, 12.58it/s]"
     ]
    },
    {
     "name": "stdout",
     "output_type": "stream",
     "text": [
      "Predictor loss: 156.38 | adversary loss 6.46 | Demographic disparity = 0.10\n",
      " \n",
      "Avg Training Stats after 160 global rounds:\n",
      "Training loss: 0.53 | Validation accuracy: 73.00% | Validation Demographic disparity: 0.0984\n",
      "\n",
      " | Global Training Round : 161 |\n",
      "\n",
      "Predictor loss: 156.38 | adversary loss 6.45 | Demographic disparity = 0.10\n",
      " \n",
      "Avg Training Stats after 161 global rounds:\n",
      "Training loss: 0.53 | Validation accuracy: 73.00% | Validation Demographic disparity: 0.0984\n",
      "\n",
      " | Global Training Round : 162 |\n",
      "\n",
      "Predictor loss: 156.38 | adversary loss 6.45 | Demographic disparity = 0.10\n",
      " \n",
      "Avg Training Stats after 162 global rounds:\n",
      "Training loss: 0.53 | Validation accuracy: 73.00% | Validation Demographic disparity: 0.0984\n",
      "\n",
      " | Global Training Round : 163 |\n",
      "\n"
     ]
    },
    {
     "name": "stderr",
     "output_type": "stream",
     "text": [
      "\r",
      " 55%|█████▍    | 164/300 [00:15<00:10, 12.52it/s]"
     ]
    },
    {
     "name": "stdout",
     "output_type": "stream",
     "text": [
      "Predictor loss: 153.66 | adversary loss 6.43 | Demographic disparity = 0.11\n",
      " \n",
      "Avg Training Stats after 163 global rounds:\n",
      "Training loss: 0.53 | Validation accuracy: 74.00% | Validation Demographic disparity: 0.1111\n",
      "\n",
      " | Global Training Round : 164 |\n",
      "\n",
      "Predictor loss: 153.66 | adversary loss 6.43 | Demographic disparity = 0.11\n",
      " \n",
      "Avg Training Stats after 164 global rounds:\n",
      "Training loss: 0.53 | Validation accuracy: 74.00% | Validation Demographic disparity: 0.1111\n",
      "\n",
      " | Global Training Round : 165 |\n",
      "\n",
      "Predictor loss: 153.66 | adversary loss 6.43 | Demographic disparity = 0.11\n",
      " \n",
      "Avg Training Stats after 165 global rounds:\n",
      "Training loss: 0.53 | Validation accuracy: 74.00% | Validation Demographic disparity: 0.1111\n",
      "\n",
      " | Global Training Round : 166 |\n",
      "\n"
     ]
    },
    {
     "name": "stderr",
     "output_type": "stream",
     "text": [
      " 56%|█████▌    | 168/300 [00:15<00:10, 12.53it/s]"
     ]
    },
    {
     "name": "stdout",
     "output_type": "stream",
     "text": [
      "Predictor loss: 152.38 | adversary loss 6.41 | Demographic disparity = 0.11\n",
      " \n",
      "Avg Training Stats after 166 global rounds:\n",
      "Training loss: 0.53 | Validation accuracy: 73.67% | Validation Demographic disparity: 0.1145\n",
      "\n",
      " | Global Training Round : 167 |\n",
      "\n",
      "Predictor loss: 152.38 | adversary loss 6.39 | Demographic disparity = 0.11\n",
      " \n",
      "Avg Training Stats after 167 global rounds:\n",
      "Training loss: 0.53 | Validation accuracy: 73.67% | Validation Demographic disparity: 0.1145\n",
      "\n",
      " | Global Training Round : 168 |\n",
      "\n",
      "Predictor loss: 152.38 | adversary loss 6.40 | Demographic disparity = 0.11\n",
      " \n",
      "Avg Training Stats after 168 global rounds:\n",
      "Training loss: 0.53 | Validation accuracy: 73.67% | Validation Demographic disparity: 0.1145\n",
      "\n",
      " | Global Training Round : 169 |\n",
      "\n"
     ]
    },
    {
     "name": "stderr",
     "output_type": "stream",
     "text": [
      "\r",
      " 57%|█████▋    | 170/300 [00:15<00:10, 12.47it/s]"
     ]
    },
    {
     "name": "stdout",
     "output_type": "stream",
     "text": [
      "Predictor loss: 154.50 | adversary loss 6.42 | Demographic disparity = 0.11\n",
      " \n",
      "Avg Training Stats after 169 global rounds:\n",
      "Training loss: 0.53 | Validation accuracy: 73.67% | Validation Demographic disparity: 0.1050\n",
      "\n",
      " | Global Training Round : 170 |\n",
      "\n",
      "Predictor loss: 154.50 | adversary loss 6.42 | Demographic disparity = 0.11\n",
      " \n",
      "Avg Training Stats after 170 global rounds:\n",
      "Training loss: 0.53 | Validation accuracy: 73.67% | Validation Demographic disparity: 0.1050\n",
      "\n",
      " | Global Training Round : 171 |\n",
      "\n",
      "Predictor loss: 154.50 | adversary loss 6.44 | Demographic disparity = 0.11\n",
      " \n",
      "Avg Training Stats after 171 global rounds:\n",
      "Training loss: 0.53 | Validation accuracy: 73.67% | Validation Demographic disparity: 0.1050\n",
      "\n",
      " | Global Training Round : 172 |\n",
      "\n"
     ]
    },
    {
     "name": "stderr",
     "output_type": "stream",
     "text": [
      " 58%|█████▊    | 174/300 [00:16<00:10, 12.51it/s]"
     ]
    },
    {
     "name": "stdout",
     "output_type": "stream",
     "text": [
      "Predictor loss: 155.43 | adversary loss 6.44 | Demographic disparity = 0.10\n",
      " \n",
      "Avg Training Stats after 172 global rounds:\n",
      "Training loss: 0.53 | Validation accuracy: 73.33% | Validation Demographic disparity: 0.1017\n",
      "\n",
      " | Global Training Round : 173 |\n",
      "\n",
      "Predictor loss: 155.43 | adversary loss 6.44 | Demographic disparity = 0.10\n",
      " \n",
      "Avg Training Stats after 173 global rounds:\n",
      "Training loss: 0.53 | Validation accuracy: 73.33% | Validation Demographic disparity: 0.1017\n",
      "\n",
      " | Global Training Round : 174 |\n",
      "\n",
      "Predictor loss: 155.43 | adversary loss 6.46 | Demographic disparity = 0.10\n",
      " \n",
      "Avg Training Stats after 174 global rounds:\n",
      "Training loss: 0.53 | Validation accuracy: 73.33% | Validation Demographic disparity: 0.1017\n",
      "\n",
      " | Global Training Round : 175 |\n",
      "\n"
     ]
    },
    {
     "name": "stderr",
     "output_type": "stream",
     "text": [
      "\r",
      " 59%|█████▊    | 176/300 [00:16<00:09, 12.47it/s]"
     ]
    },
    {
     "name": "stdout",
     "output_type": "stream",
     "text": [
      "Predictor loss: 151.66 | adversary loss 6.42 | Demographic disparity = 0.11\n",
      " \n",
      "Avg Training Stats after 175 global rounds:\n",
      "Training loss: 0.53 | Validation accuracy: 73.33% | Validation Demographic disparity: 0.1084\n",
      "\n",
      " | Global Training Round : 176 |\n",
      "\n",
      "Predictor loss: 151.66 | adversary loss 6.44 | Demographic disparity = 0.11\n",
      " \n",
      "Avg Training Stats after 176 global rounds:\n",
      "Training loss: 0.53 | Validation accuracy: 73.33% | Validation Demographic disparity: 0.1084\n",
      "\n",
      " | Global Training Round : 177 |\n",
      "\n",
      "Predictor loss: 151.66 | adversary loss 6.42 | Demographic disparity = 0.11\n",
      " \n",
      "Avg Training Stats after 177 global rounds:\n",
      "Training loss: 0.53 | Validation accuracy: 73.33% | Validation Demographic disparity: 0.1084\n",
      "\n",
      " | Global Training Round : 178 |\n",
      "\n"
     ]
    },
    {
     "name": "stderr",
     "output_type": "stream",
     "text": [
      " 60%|██████    | 180/300 [00:16<00:09, 12.78it/s]"
     ]
    },
    {
     "name": "stdout",
     "output_type": "stream",
     "text": [
      "Predictor loss: 151.54 | adversary loss 6.44 | Demographic disparity = 0.11\n",
      " \n",
      "Avg Training Stats after 178 global rounds:\n",
      "Training loss: 0.53 | Validation accuracy: 73.33% | Validation Demographic disparity: 0.1084\n",
      "\n",
      " | Global Training Round : 179 |\n",
      "\n",
      "Predictor loss: 151.54 | adversary loss 6.44 | Demographic disparity = 0.11\n",
      " \n",
      "Avg Training Stats after 179 global rounds:\n",
      "Training loss: 0.53 | Validation accuracy: 73.33% | Validation Demographic disparity: 0.1084\n",
      "\n",
      " | Global Training Round : 180 |\n",
      "\n",
      "Predictor loss: 151.54 | adversary loss 6.44 | Demographic disparity = 0.11\n",
      " \n",
      "Avg Training Stats after 180 global rounds:\n",
      "Training loss: 0.53 | Validation accuracy: 73.33% | Validation Demographic disparity: 0.1084\n",
      "\n",
      " | Global Training Round : 181 |\n",
      "\n"
     ]
    },
    {
     "name": "stderr",
     "output_type": "stream",
     "text": [
      "\r",
      " 61%|██████    | 182/300 [00:16<00:09, 12.64it/s]"
     ]
    },
    {
     "name": "stdout",
     "output_type": "stream",
     "text": [
      "Predictor loss: 151.40 | adversary loss 6.43 | Demographic disparity = 0.11\n",
      " \n",
      "Avg Training Stats after 181 global rounds:\n",
      "Training loss: 0.53 | Validation accuracy: 73.67% | Validation Demographic disparity: 0.1145\n",
      "\n",
      " | Global Training Round : 182 |\n",
      "\n",
      "Predictor loss: 151.40 | adversary loss 6.41 | Demographic disparity = 0.11\n",
      " \n",
      "Avg Training Stats after 182 global rounds:\n",
      "Training loss: 0.53 | Validation accuracy: 73.67% | Validation Demographic disparity: 0.1145\n",
      "\n",
      " | Global Training Round : 183 |\n",
      "\n",
      "Predictor loss: 151.40 | adversary loss 6.40 | Demographic disparity = 0.11\n",
      " \n",
      "Avg Training Stats after 183 global rounds:\n",
      "Training loss: 0.53 | Validation accuracy: 73.67% | Validation Demographic disparity: 0.1145\n",
      "\n",
      " | Global Training Round : 184 |\n",
      "\n"
     ]
    },
    {
     "name": "stderr",
     "output_type": "stream",
     "text": [
      " 62%|██████▏   | 186/300 [00:16<00:08, 12.76it/s]"
     ]
    },
    {
     "name": "stdout",
     "output_type": "stream",
     "text": [
      "Predictor loss: 152.57 | adversary loss 6.43 | Demographic disparity = 0.10\n",
      " \n",
      "Avg Training Stats after 184 global rounds:\n",
      "Training loss: 0.53 | Validation accuracy: 73.67% | Validation Demographic disparity: 0.1023\n",
      "\n",
      " | Global Training Round : 185 |\n",
      "\n",
      "Predictor loss: 152.57 | adversary loss 6.42 | Demographic disparity = 0.10\n",
      " \n",
      "Avg Training Stats after 185 global rounds:\n",
      "Training loss: 0.53 | Validation accuracy: 73.67% | Validation Demographic disparity: 0.1023\n",
      "\n",
      " | Global Training Round : 186 |\n",
      "\n",
      "Predictor loss: 152.57 | adversary loss 6.42 | Demographic disparity = 0.10\n",
      " \n",
      "Avg Training Stats after 186 global rounds:\n",
      "Training loss: 0.53 | Validation accuracy: 73.67% | Validation Demographic disparity: 0.1023\n",
      "\n",
      " | Global Training Round : 187 |\n",
      "\n"
     ]
    },
    {
     "name": "stderr",
     "output_type": "stream",
     "text": [
      "\r",
      " 63%|██████▎   | 188/300 [00:17<00:08, 12.55it/s]"
     ]
    },
    {
     "name": "stdout",
     "output_type": "stream",
     "text": [
      "Predictor loss: 153.96 | adversary loss 6.45 | Demographic disparity = 0.09\n",
      " \n",
      "Avg Training Stats after 187 global rounds:\n",
      "Training loss: 0.53 | Validation accuracy: 73.00% | Validation Demographic disparity: 0.0928\n",
      "\n",
      " | Global Training Round : 188 |\n",
      "\n",
      "Predictor loss: 153.96 | adversary loss 6.46 | Demographic disparity = 0.09\n",
      " \n",
      "Avg Training Stats after 188 global rounds:\n",
      "Training loss: 0.53 | Validation accuracy: 73.00% | Validation Demographic disparity: 0.0928\n",
      "\n",
      " | Global Training Round : 189 |\n",
      "\n",
      "Predictor loss: 153.96 | adversary loss 6.44 | Demographic disparity = 0.09\n",
      " \n",
      "Avg Training Stats after 189 global rounds:\n",
      "Training loss: 0.52 | Validation accuracy: 73.00% | Validation Demographic disparity: 0.0928\n",
      "\n",
      " | Global Training Round : 190 |\n",
      "\n"
     ]
    },
    {
     "name": "stderr",
     "output_type": "stream",
     "text": [
      " 64%|██████▍   | 192/300 [00:17<00:08, 12.75it/s]"
     ]
    },
    {
     "name": "stdout",
     "output_type": "stream",
     "text": [
      "Predictor loss: 152.12 | adversary loss 6.43 | Demographic disparity = 0.10\n",
      " \n",
      "Avg Training Stats after 190 global rounds:\n",
      "Training loss: 0.52 | Validation accuracy: 73.33% | Validation Demographic disparity: 0.0989\n",
      "\n",
      " | Global Training Round : 191 |\n",
      "\n",
      "Predictor loss: 152.12 | adversary loss 6.42 | Demographic disparity = 0.10\n",
      " \n",
      "Avg Training Stats after 191 global rounds:\n",
      "Training loss: 0.52 | Validation accuracy: 73.33% | Validation Demographic disparity: 0.0989\n",
      "\n",
      " | Global Training Round : 192 |\n",
      "\n",
      "Predictor loss: 152.12 | adversary loss 6.44 | Demographic disparity = 0.10\n",
      " \n",
      "Avg Training Stats after 192 global rounds:\n",
      "Training loss: 0.52 | Validation accuracy: 73.33% | Validation Demographic disparity: 0.0989\n",
      "\n",
      " | Global Training Round : 193 |\n",
      "\n"
     ]
    },
    {
     "name": "stderr",
     "output_type": "stream",
     "text": [
      "\r",
      " 65%|██████▍   | 194/300 [00:17<00:08, 12.59it/s]"
     ]
    },
    {
     "name": "stdout",
     "output_type": "stream",
     "text": [
      "Predictor loss: 149.78 | adversary loss 6.43 | Demographic disparity = 0.12\n",
      " \n",
      "Avg Training Stats after 193 global rounds:\n",
      "Training loss: 0.52 | Validation accuracy: 75.00% | Validation Demographic disparity: 0.1211\n",
      "\n",
      " | Global Training Round : 194 |\n",
      "\n",
      "Predictor loss: 149.78 | adversary loss 6.41 | Demographic disparity = 0.12\n",
      " \n",
      "Avg Training Stats after 194 global rounds:\n",
      "Training loss: 0.52 | Validation accuracy: 75.00% | Validation Demographic disparity: 0.1211\n",
      "\n",
      " | Global Training Round : 195 |\n",
      "\n",
      "Predictor loss: 149.78 | adversary loss 6.40 | Demographic disparity = 0.12\n",
      " \n",
      "Avg Training Stats after 195 global rounds:\n",
      "Training loss: 0.52 | Validation accuracy: 75.00% | Validation Demographic disparity: 0.1211\n",
      "\n",
      " | Global Training Round : 196 |\n",
      "\n"
     ]
    },
    {
     "name": "stderr",
     "output_type": "stream",
     "text": [
      " 66%|██████▌   | 198/300 [00:17<00:08, 12.72it/s]"
     ]
    },
    {
     "name": "stdout",
     "output_type": "stream",
     "text": [
      "Predictor loss: 150.11 | adversary loss 6.41 | Demographic disparity = 0.12\n",
      " \n",
      "Avg Training Stats after 196 global rounds:\n",
      "Training loss: 0.52 | Validation accuracy: 75.00% | Validation Demographic disparity: 0.1211\n",
      "\n",
      " | Global Training Round : 197 |\n",
      "\n",
      "Predictor loss: 150.11 | adversary loss 6.41 | Demographic disparity = 0.12\n",
      " \n",
      "Avg Training Stats after 197 global rounds:\n",
      "Training loss: 0.52 | Validation accuracy: 75.00% | Validation Demographic disparity: 0.1211\n",
      "\n",
      " | Global Training Round : 198 |\n",
      "\n",
      "Predictor loss: 150.11 | adversary loss 6.40 | Demographic disparity = 0.12\n",
      " \n",
      "Avg Training Stats after 198 global rounds:\n",
      "Training loss: 0.52 | Validation accuracy: 75.00% | Validation Demographic disparity: 0.1211\n",
      "\n",
      " | Global Training Round : 199 |\n",
      "\n"
     ]
    },
    {
     "name": "stderr",
     "output_type": "stream",
     "text": [
      "\r",
      " 67%|██████▋   | 200/300 [00:18<00:07, 12.70it/s]"
     ]
    },
    {
     "name": "stdout",
     "output_type": "stream",
     "text": [
      "Predictor loss: 152.45 | adversary loss 6.42 | Demographic disparity = 0.09\n",
      " \n",
      "Avg Training Stats after 199 global rounds:\n",
      "Training loss: 0.52 | Validation accuracy: 73.00% | Validation Demographic disparity: 0.0928\n",
      "\n",
      " | Global Training Round : 200 |\n",
      "\n",
      "Predictor loss: 152.45 | adversary loss 6.42 | Demographic disparity = 0.09\n",
      " \n",
      "Avg Training Stats after 200 global rounds:\n",
      "Training loss: 0.52 | Validation accuracy: 73.00% | Validation Demographic disparity: 0.0928\n",
      "\n",
      " | Global Training Round : 201 |\n",
      "\n",
      "Predictor loss: 152.45 | adversary loss 6.42 | Demographic disparity = 0.09\n",
      " \n",
      "Avg Training Stats after 201 global rounds:\n",
      "Training loss: 0.52 | Validation accuracy: 73.00% | Validation Demographic disparity: 0.0928\n",
      "\n",
      " | Global Training Round : 202 |\n",
      "\n"
     ]
    },
    {
     "name": "stderr",
     "output_type": "stream",
     "text": [
      " 68%|██████▊   | 204/300 [00:18<00:07, 12.86it/s]"
     ]
    },
    {
     "name": "stdout",
     "output_type": "stream",
     "text": [
      "Predictor loss: 153.87 | adversary loss 6.43 | Demographic disparity = 0.09\n",
      " \n",
      "Avg Training Stats after 202 global rounds:\n",
      "Training loss: 0.52 | Validation accuracy: 73.00% | Validation Demographic disparity: 0.0928\n",
      "\n",
      " | Global Training Round : 203 |\n",
      "\n",
      "Predictor loss: 153.87 | adversary loss 6.44 | Demographic disparity = 0.09\n",
      " \n",
      "Avg Training Stats after 203 global rounds:\n",
      "Training loss: 0.52 | Validation accuracy: 73.00% | Validation Demographic disparity: 0.0928\n",
      "\n",
      " | Global Training Round : 204 |\n",
      "\n",
      "Predictor loss: 153.87 | adversary loss 6.45 | Demographic disparity = 0.09\n",
      " \n",
      "Avg Training Stats after 204 global rounds:\n",
      "Training loss: 0.52 | Validation accuracy: 73.00% | Validation Demographic disparity: 0.0928\n",
      "\n",
      " | Global Training Round : 205 |\n",
      "\n"
     ]
    },
    {
     "name": "stderr",
     "output_type": "stream",
     "text": [
      "\r",
      " 69%|██████▊   | 206/300 [00:18<00:07, 12.56it/s]"
     ]
    },
    {
     "name": "stdout",
     "output_type": "stream",
     "text": [
      "Predictor loss: 150.93 | adversary loss 6.42 | Demographic disparity = 0.11\n",
      " \n",
      "Avg Training Stats after 205 global rounds:\n",
      "Training loss: 0.52 | Validation accuracy: 74.33% | Validation Demographic disparity: 0.1145\n",
      "\n",
      " | Global Training Round : 206 |\n",
      "\n",
      "Predictor loss: 150.93 | adversary loss 6.43 | Demographic disparity = 0.11\n",
      " \n",
      "Avg Training Stats after 206 global rounds:\n",
      "Training loss: 0.52 | Validation accuracy: 74.33% | Validation Demographic disparity: 0.1145\n",
      "\n",
      " | Global Training Round : 207 |\n",
      "\n",
      "Predictor loss: 150.93 | adversary loss 6.43 | Demographic disparity = 0.11\n",
      " \n",
      "Avg Training Stats after 207 global rounds:\n",
      "Training loss: 0.52 | Validation accuracy: 74.33% | Validation Demographic disparity: 0.1145\n",
      "\n",
      " | Global Training Round : 208 |\n",
      "\n"
     ]
    },
    {
     "name": "stderr",
     "output_type": "stream",
     "text": [
      " 70%|███████   | 210/300 [00:18<00:07, 12.30it/s]"
     ]
    },
    {
     "name": "stdout",
     "output_type": "stream",
     "text": [
      "Predictor loss: 147.46 | adversary loss 6.40 | Demographic disparity = 0.13\n",
      " \n",
      "Avg Training Stats after 208 global rounds:\n",
      "Training loss: 0.52 | Validation accuracy: 75.67% | Validation Demographic disparity: 0.1306\n",
      "\n",
      " | Global Training Round : 209 |\n",
      "\n",
      "Predictor loss: 147.46 | adversary loss 6.40 | Demographic disparity = 0.13\n",
      " \n",
      "Avg Training Stats after 209 global rounds:\n",
      "Training loss: 0.52 | Validation accuracy: 75.67% | Validation Demographic disparity: 0.1306\n",
      "\n",
      " | Global Training Round : 210 |\n",
      "\n",
      "Predictor loss: 147.46 | adversary loss 6.40 | Demographic disparity = 0.13\n",
      " \n",
      "Avg Training Stats after 210 global rounds:\n",
      "Training loss: 0.52 | Validation accuracy: 75.67% | Validation Demographic disparity: 0.1306\n",
      "\n",
      " | Global Training Round : 211 |\n",
      "\n"
     ]
    },
    {
     "name": "stderr",
     "output_type": "stream",
     "text": [
      "\r",
      " 71%|███████   | 212/300 [00:19<00:07, 11.98it/s]"
     ]
    },
    {
     "name": "stdout",
     "output_type": "stream",
     "text": [
      "Predictor loss: 148.81 | adversary loss 6.39 | Demographic disparity = 0.13\n",
      " \n",
      "Avg Training Stats after 211 global rounds:\n",
      "Training loss: 0.52 | Validation accuracy: 75.67% | Validation Demographic disparity: 0.1306\n",
      "\n",
      " | Global Training Round : 212 |\n",
      "\n",
      "Predictor loss: 148.81 | adversary loss 6.41 | Demographic disparity = 0.13\n",
      " \n",
      "Avg Training Stats after 212 global rounds:\n",
      "Training loss: 0.52 | Validation accuracy: 75.67% | Validation Demographic disparity: 0.1306\n",
      "\n",
      " | Global Training Round : 213 |\n",
      "\n",
      "Predictor loss: 148.81 | adversary loss 6.39 | Demographic disparity = 0.13\n",
      " \n",
      "Avg Training Stats after 213 global rounds:\n",
      "Training loss: 0.52 | Validation accuracy: 75.67% | Validation Demographic disparity: 0.1306\n",
      "\n",
      " | Global Training Round : 214 |\n",
      "\n"
     ]
    },
    {
     "name": "stderr",
     "output_type": "stream",
     "text": [
      "\r",
      " 71%|███████▏  | 214/300 [00:19<00:07, 11.83it/s]"
     ]
    },
    {
     "name": "stdout",
     "output_type": "stream",
     "text": [
      "Predictor loss: 150.11 | adversary loss 6.40 | Demographic disparity = 0.11\n",
      " \n",
      "Avg Training Stats after 214 global rounds:\n",
      "Training loss: 0.52 | Validation accuracy: 74.33% | Validation Demographic disparity: 0.1117\n",
      "\n",
      " | Global Training Round : 215 |\n",
      "\n",
      "Predictor loss: 150.11 | adversary loss 6.41 | Demographic disparity = 0.11\n",
      " \n",
      "Avg Training Stats after 215 global rounds:\n",
      "Training loss: 0.52 | Validation accuracy: 74.33% | Validation Demographic disparity: 0.1117\n",
      "\n",
      " | Global Training Round : 216 |\n",
      "\n"
     ]
    },
    {
     "name": "stderr",
     "output_type": "stream",
     "text": [
      "\r",
      " 72%|███████▏  | 216/300 [00:19<00:08,  9.94it/s]"
     ]
    },
    {
     "name": "stdout",
     "output_type": "stream",
     "text": [
      "Predictor loss: 150.11 | adversary loss 6.41 | Demographic disparity = 0.11\n",
      " \n",
      "Avg Training Stats after 216 global rounds:\n",
      "Training loss: 0.52 | Validation accuracy: 74.33% | Validation Demographic disparity: 0.1117\n",
      "\n",
      " | Global Training Round : 217 |\n",
      "\n",
      "Predictor loss: 150.42 | adversary loss 6.43 | Demographic disparity = 0.11\n",
      " \n",
      "Avg Training Stats after 217 global rounds:\n",
      "Training loss: 0.52 | Validation accuracy: 74.33% | Validation Demographic disparity: 0.1117\n",
      "\n",
      " | Global Training Round : 218 |\n",
      "\n"
     ]
    },
    {
     "name": "stderr",
     "output_type": "stream",
     "text": [
      "\r",
      " 73%|███████▎  | 218/300 [00:19<00:09,  8.50it/s]"
     ]
    },
    {
     "name": "stdout",
     "output_type": "stream",
     "text": [
      "Predictor loss: 150.42 | adversary loss 6.42 | Demographic disparity = 0.11\n",
      " \n",
      "Avg Training Stats after 218 global rounds:\n",
      "Training loss: 0.52 | Validation accuracy: 74.33% | Validation Demographic disparity: 0.1117\n",
      "\n",
      " | Global Training Round : 219 |\n",
      "\n"
     ]
    },
    {
     "name": "stderr",
     "output_type": "stream",
     "text": [
      "\r",
      " 73%|███████▎  | 219/300 [00:20<00:12,  6.26it/s]"
     ]
    },
    {
     "name": "stdout",
     "output_type": "stream",
     "text": [
      "Predictor loss: 150.42 | adversary loss 6.42 | Demographic disparity = 0.11\n",
      " \n",
      "Avg Training Stats after 219 global rounds:\n",
      "Training loss: 0.52 | Validation accuracy: 74.33% | Validation Demographic disparity: 0.1117\n",
      "\n",
      " | Global Training Round : 220 |\n",
      "\n"
     ]
    },
    {
     "name": "stderr",
     "output_type": "stream",
     "text": [
      "\r",
      " 73%|███████▎  | 220/300 [00:20<00:15,  5.15it/s]"
     ]
    },
    {
     "name": "stdout",
     "output_type": "stream",
     "text": [
      "Predictor loss: 148.09 | adversary loss 6.41 | Demographic disparity = 0.13\n",
      " \n",
      "Avg Training Stats after 220 global rounds:\n",
      "Training loss: 0.52 | Validation accuracy: 75.33% | Validation Demographic disparity: 0.1272\n",
      "\n",
      " | Global Training Round : 221 |\n",
      "\n"
     ]
    },
    {
     "name": "stderr",
     "output_type": "stream",
     "text": [
      "\r",
      " 74%|███████▎  | 221/300 [00:20<00:19,  4.13it/s]"
     ]
    },
    {
     "name": "stdout",
     "output_type": "stream",
     "text": [
      "Predictor loss: 148.09 | adversary loss 6.41 | Demographic disparity = 0.13\n",
      " \n",
      "Avg Training Stats after 221 global rounds:\n",
      "Training loss: 0.52 | Validation accuracy: 75.33% | Validation Demographic disparity: 0.1272\n",
      "\n",
      " | Global Training Round : 222 |\n",
      "\n"
     ]
    },
    {
     "name": "stderr",
     "output_type": "stream",
     "text": [
      "\r",
      " 74%|███████▍  | 222/300 [00:20<00:19,  4.05it/s]"
     ]
    },
    {
     "name": "stdout",
     "output_type": "stream",
     "text": [
      "Predictor loss: 148.09 | adversary loss 6.40 | Demographic disparity = 0.13\n",
      " \n",
      "Avg Training Stats after 222 global rounds:\n",
      "Training loss: 0.52 | Validation accuracy: 75.33% | Validation Demographic disparity: 0.1272\n",
      "\n",
      " | Global Training Round : 223 |\n",
      "\n"
     ]
    },
    {
     "name": "stderr",
     "output_type": "stream",
     "text": [
      "\r",
      " 74%|███████▍  | 223/300 [00:21<00:20,  3.73it/s]"
     ]
    },
    {
     "name": "stdout",
     "output_type": "stream",
     "text": [
      "Predictor loss: 148.13 | adversary loss 6.41 | Demographic disparity = 0.13\n",
      " \n",
      "Avg Training Stats after 223 global rounds:\n",
      "Training loss: 0.52 | Validation accuracy: 75.33% | Validation Demographic disparity: 0.1272\n",
      "\n",
      " | Global Training Round : 224 |\n",
      "\n"
     ]
    },
    {
     "name": "stderr",
     "output_type": "stream",
     "text": [
      "\r",
      " 75%|███████▍  | 224/300 [00:21<00:20,  3.71it/s]"
     ]
    },
    {
     "name": "stdout",
     "output_type": "stream",
     "text": [
      "Predictor loss: 148.13 | adversary loss 6.41 | Demographic disparity = 0.13\n",
      " \n",
      "Avg Training Stats after 224 global rounds:\n",
      "Training loss: 0.52 | Validation accuracy: 75.33% | Validation Demographic disparity: 0.1272\n",
      "\n",
      " | Global Training Round : 225 |\n",
      "\n"
     ]
    },
    {
     "name": "stderr",
     "output_type": "stream",
     "text": [
      "\r",
      " 75%|███████▌  | 225/300 [00:21<00:19,  3.93it/s]"
     ]
    },
    {
     "name": "stdout",
     "output_type": "stream",
     "text": [
      "Predictor loss: 148.13 | adversary loss 6.42 | Demographic disparity = 0.13\n",
      " \n",
      "Avg Training Stats after 225 global rounds:\n",
      "Training loss: 0.52 | Validation accuracy: 75.33% | Validation Demographic disparity: 0.1272\n",
      "\n",
      " | Global Training Round : 226 |\n",
      "\n"
     ]
    },
    {
     "name": "stderr",
     "output_type": "stream",
     "text": [
      "\r",
      " 75%|███████▌  | 226/300 [00:22<00:20,  3.66it/s]"
     ]
    },
    {
     "name": "stdout",
     "output_type": "stream",
     "text": [
      "Predictor loss: 147.55 | adversary loss 6.43 | Demographic disparity = 0.13\n",
      " \n",
      "Avg Training Stats after 226 global rounds:\n",
      "Training loss: 0.52 | Validation accuracy: 75.00% | Validation Demographic disparity: 0.1306\n",
      "\n",
      " | Global Training Round : 227 |\n",
      "\n"
     ]
    },
    {
     "name": "stderr",
     "output_type": "stream",
     "text": [
      "\r",
      " 76%|███████▌  | 227/300 [00:22<00:21,  3.45it/s]"
     ]
    },
    {
     "name": "stdout",
     "output_type": "stream",
     "text": [
      "Predictor loss: 147.55 | adversary loss 6.41 | Demographic disparity = 0.13\n",
      " \n",
      "Avg Training Stats after 227 global rounds:\n",
      "Training loss: 0.52 | Validation accuracy: 75.00% | Validation Demographic disparity: 0.1306\n",
      "\n",
      " | Global Training Round : 228 |\n",
      "\n"
     ]
    },
    {
     "name": "stderr",
     "output_type": "stream",
     "text": [
      " 76%|███████▋  | 229/300 [00:22<00:18,  3.94it/s]"
     ]
    },
    {
     "name": "stdout",
     "output_type": "stream",
     "text": [
      "Predictor loss: 147.55 | adversary loss 6.41 | Demographic disparity = 0.13\n",
      " \n",
      "Avg Training Stats after 228 global rounds:\n",
      "Training loss: 0.52 | Validation accuracy: 75.00% | Validation Demographic disparity: 0.1306\n",
      "\n",
      " | Global Training Round : 229 |\n",
      "\n",
      "Predictor loss: 148.27 | adversary loss 6.40 | Demographic disparity = 0.13\n",
      " \n",
      "Avg Training Stats after 229 global rounds:\n",
      "Training loss: 0.52 | Validation accuracy: 75.33% | Validation Demographic disparity: 0.1272\n",
      "\n",
      " | Global Training Round : 230 |\n",
      "\n"
     ]
    },
    {
     "name": "stderr",
     "output_type": "stream",
     "text": [
      "\r",
      " 77%|███████▋  | 230/300 [00:23<00:16,  4.20it/s]"
     ]
    },
    {
     "name": "stdout",
     "output_type": "stream",
     "text": [
      "Predictor loss: 148.27 | adversary loss 6.41 | Demographic disparity = 0.13\n",
      " \n",
      "Avg Training Stats after 230 global rounds:\n",
      "Training loss: 0.52 | Validation accuracy: 75.33% | Validation Demographic disparity: 0.1272\n",
      "\n",
      " | Global Training Round : 231 |\n",
      "\n"
     ]
    },
    {
     "name": "stderr",
     "output_type": "stream",
     "text": [
      "\r",
      " 77%|███████▋  | 231/300 [00:23<00:18,  3.69it/s]"
     ]
    },
    {
     "name": "stdout",
     "output_type": "stream",
     "text": [
      "Predictor loss: 148.27 | adversary loss 6.41 | Demographic disparity = 0.13\n",
      " \n",
      "Avg Training Stats after 231 global rounds:\n",
      "Training loss: 0.52 | Validation accuracy: 75.33% | Validation Demographic disparity: 0.1272\n",
      "\n",
      " | Global Training Round : 232 |\n",
      "\n"
     ]
    },
    {
     "name": "stderr",
     "output_type": "stream",
     "text": [
      " 78%|███████▊  | 233/300 [00:23<00:15,  4.35it/s]"
     ]
    },
    {
     "name": "stdout",
     "output_type": "stream",
     "text": [
      "Predictor loss: 149.77 | adversary loss 6.43 | Demographic disparity = 0.12\n",
      " \n",
      "Avg Training Stats after 232 global rounds:\n",
      "Training loss: 0.52 | Validation accuracy: 75.00% | Validation Demographic disparity: 0.1211\n",
      "\n",
      " | Global Training Round : 233 |\n",
      "\n",
      "Predictor loss: 149.77 | adversary loss 6.43 | Demographic disparity = 0.12\n",
      " \n",
      "Avg Training Stats after 233 global rounds:\n",
      "Training loss: 0.52 | Validation accuracy: 75.00% | Validation Demographic disparity: 0.1211\n",
      "\n",
      " | Global Training Round : 234 |\n",
      "\n"
     ]
    },
    {
     "name": "stderr",
     "output_type": "stream",
     "text": [
      "\r",
      " 78%|███████▊  | 234/300 [00:23<00:13,  4.72it/s]"
     ]
    },
    {
     "name": "stdout",
     "output_type": "stream",
     "text": [
      "Predictor loss: 149.77 | adversary loss 6.42 | Demographic disparity = 0.12\n",
      " \n",
      "Avg Training Stats after 234 global rounds:\n",
      "Training loss: 0.52 | Validation accuracy: 75.00% | Validation Demographic disparity: 0.1211\n",
      "\n",
      " | Global Training Round : 235 |\n",
      "\n"
     ]
    },
    {
     "name": "stderr",
     "output_type": "stream",
     "text": [
      "\r",
      " 78%|███████▊  | 235/300 [00:24<00:13,  4.65it/s]"
     ]
    },
    {
     "name": "stdout",
     "output_type": "stream",
     "text": [
      "Predictor loss: 148.45 | adversary loss 6.41 | Demographic disparity = 0.13\n",
      " \n",
      "Avg Training Stats after 235 global rounds:\n",
      "Training loss: 0.52 | Validation accuracy: 75.00% | Validation Demographic disparity: 0.1306\n",
      "\n",
      " | Global Training Round : 236 |\n",
      "\n"
     ]
    },
    {
     "name": "stderr",
     "output_type": "stream",
     "text": [
      "\r",
      " 79%|███████▊  | 236/300 [00:24<00:16,  3.99it/s]"
     ]
    },
    {
     "name": "stdout",
     "output_type": "stream",
     "text": [
      "Predictor loss: 148.45 | adversary loss 6.40 | Demographic disparity = 0.13\n",
      " \n",
      "Avg Training Stats after 236 global rounds:\n",
      "Training loss: 0.52 | Validation accuracy: 75.00% | Validation Demographic disparity: 0.1306\n",
      "\n",
      " | Global Training Round : 237 |\n",
      "\n"
     ]
    },
    {
     "name": "stderr",
     "output_type": "stream",
     "text": [
      "\r",
      " 79%|███████▉  | 237/300 [00:24<00:17,  3.50it/s]"
     ]
    },
    {
     "name": "stdout",
     "output_type": "stream",
     "text": [
      "Predictor loss: 148.45 | adversary loss 6.40 | Demographic disparity = 0.13\n",
      " \n",
      "Avg Training Stats after 237 global rounds:\n",
      "Training loss: 0.52 | Validation accuracy: 75.00% | Validation Demographic disparity: 0.1306\n",
      "\n",
      " | Global Training Round : 238 |\n",
      "\n"
     ]
    },
    {
     "name": "stderr",
     "output_type": "stream",
     "text": [
      " 80%|███████▉  | 239/300 [00:25<00:17,  3.44it/s]"
     ]
    },
    {
     "name": "stdout",
     "output_type": "stream",
     "text": [
      "Predictor loss: 149.35 | adversary loss 6.41 | Demographic disparity = 0.12\n",
      " \n",
      "Avg Training Stats after 238 global rounds:\n",
      "Training loss: 0.52 | Validation accuracy: 75.00% | Validation Demographic disparity: 0.1211\n",
      "\n",
      " | Global Training Round : 239 |\n",
      "\n",
      "Predictor loss: 149.35 | adversary loss 6.41 | Demographic disparity = 0.12\n",
      " \n",
      "Avg Training Stats after 239 global rounds:\n",
      "Training loss: 0.52 | Validation accuracy: 75.00% | Validation Demographic disparity: 0.1211\n",
      "\n",
      " | Global Training Round : 240 |\n",
      "\n"
     ]
    },
    {
     "name": "stderr",
     "output_type": "stream",
     "text": [
      " 80%|████████  | 241/300 [00:25<00:14,  4.17it/s]"
     ]
    },
    {
     "name": "stdout",
     "output_type": "stream",
     "text": [
      "Predictor loss: 149.35 | adversary loss 6.42 | Demographic disparity = 0.12\n",
      " \n",
      "Avg Training Stats after 240 global rounds:\n",
      "Training loss: 0.52 | Validation accuracy: 75.00% | Validation Demographic disparity: 0.1211\n",
      "\n",
      " | Global Training Round : 241 |\n",
      "\n",
      "Predictor loss: 150.70 | adversary loss 6.43 | Demographic disparity = 0.12\n",
      " \n",
      "Avg Training Stats after 241 global rounds:\n",
      "Training loss: 0.52 | Validation accuracy: 74.67% | Validation Demographic disparity: 0.1178\n",
      "\n",
      " | Global Training Round : 242 |\n",
      "\n"
     ]
    },
    {
     "name": "stderr",
     "output_type": "stream",
     "text": [
      "\r",
      " 81%|████████  | 242/300 [00:26<00:11,  5.02it/s]"
     ]
    },
    {
     "name": "stdout",
     "output_type": "stream",
     "text": [
      "Predictor loss: 150.70 | adversary loss 6.43 | Demographic disparity = 0.12\n",
      " \n",
      "Avg Training Stats after 242 global rounds:\n",
      "Training loss: 0.52 | Validation accuracy: 74.67% | Validation Demographic disparity: 0.1178\n",
      "\n",
      " | Global Training Round : 243 |\n",
      "\n",
      "Predictor loss: 150.70 | adversary loss 6.43 | Demographic disparity = 0.12\n",
      " \n",
      "Avg Training Stats after 243 global rounds:\n",
      "Training loss: 0.52 | Validation accuracy: 74.67% | Validation Demographic disparity: 0.1178\n",
      "\n",
      " | Global Training Round : 244 |\n",
      "\n"
     ]
    },
    {
     "name": "stderr",
     "output_type": "stream",
     "text": [
      " 82%|████████▏ | 245/300 [00:26<00:08,  6.53it/s]"
     ]
    },
    {
     "name": "stdout",
     "output_type": "stream",
     "text": [
      "Predictor loss: 147.52 | adversary loss 6.42 | Demographic disparity = 0.13\n",
      " \n",
      "Avg Training Stats after 244 global rounds:\n",
      "Training loss: 0.52 | Validation accuracy: 75.00% | Validation Demographic disparity: 0.1306\n",
      "\n",
      " | Global Training Round : 245 |\n",
      "\n",
      "Predictor loss: 147.52 | adversary loss 6.44 | Demographic disparity = 0.13\n",
      " \n",
      "Avg Training Stats after 245 global rounds:\n",
      "Training loss: 0.52 | Validation accuracy: 75.00% | Validation Demographic disparity: 0.1306\n",
      "\n",
      " | Global Training Round : 246 |\n",
      "\n"
     ]
    },
    {
     "name": "stderr",
     "output_type": "stream",
     "text": [
      " 82%|████████▏ | 247/300 [00:26<00:07,  7.50it/s]"
     ]
    },
    {
     "name": "stdout",
     "output_type": "stream",
     "text": [
      "Predictor loss: 147.52 | adversary loss 6.42 | Demographic disparity = 0.13\n",
      " \n",
      "Avg Training Stats after 246 global rounds:\n",
      "Training loss: 0.52 | Validation accuracy: 75.00% | Validation Demographic disparity: 0.1306\n",
      "\n",
      " | Global Training Round : 247 |\n",
      "\n",
      "Predictor loss: 144.44 | adversary loss 6.38 | Demographic disparity = 0.15\n",
      " \n",
      "Avg Training Stats after 247 global rounds:\n",
      "Training loss: 0.52 | Validation accuracy: 76.67% | Validation Demographic disparity: 0.1500\n",
      "\n",
      " | Global Training Round : 248 |\n",
      "\n"
     ]
    },
    {
     "name": "stderr",
     "output_type": "stream",
     "text": [
      " 83%|████████▎ | 249/300 [00:26<00:06,  7.63it/s]"
     ]
    },
    {
     "name": "stdout",
     "output_type": "stream",
     "text": [
      "Predictor loss: 144.44 | adversary loss 6.40 | Demographic disparity = 0.15\n",
      " \n",
      "Avg Training Stats after 248 global rounds:\n",
      "Training loss: 0.52 | Validation accuracy: 76.67% | Validation Demographic disparity: 0.1500\n",
      "\n",
      " | Global Training Round : 249 |\n",
      "\n",
      "Predictor loss: 144.44 | adversary loss 6.38 | Demographic disparity = 0.15\n",
      " \n",
      "Avg Training Stats after 249 global rounds:\n",
      "Training loss: 0.52 | Validation accuracy: 76.67% | Validation Demographic disparity: 0.1500\n",
      "\n",
      " | Global Training Round : 250 |\n",
      "\n"
     ]
    },
    {
     "name": "stderr",
     "output_type": "stream",
     "text": [
      " 84%|████████▍ | 252/300 [00:27<00:05,  8.22it/s]"
     ]
    },
    {
     "name": "stdout",
     "output_type": "stream",
     "text": [
      "Predictor loss: 146.91 | adversary loss 6.41 | Demographic disparity = 0.14\n",
      " \n",
      "Avg Training Stats after 250 global rounds:\n",
      "Training loss: 0.52 | Validation accuracy: 75.67% | Validation Demographic disparity: 0.1400\n",
      "\n",
      " | Global Training Round : 251 |\n",
      "\n",
      "Predictor loss: 146.91 | adversary loss 6.40 | Demographic disparity = 0.14\n",
      " \n",
      "Avg Training Stats after 251 global rounds:\n",
      "Training loss: 0.52 | Validation accuracy: 75.67% | Validation Demographic disparity: 0.1400\n",
      "\n",
      " | Global Training Round : 252 |\n",
      "\n",
      "Predictor loss: 146.91 | adversary loss 6.40 | Demographic disparity = 0.14\n",
      " \n",
      "Avg Training Stats after 252 global rounds:\n",
      "Training loss: 0.52 | Validation accuracy: 75.67% | Validation Demographic disparity: 0.1400\n",
      "\n",
      " | Global Training Round : 253 |\n",
      "\n"
     ]
    },
    {
     "name": "stderr",
     "output_type": "stream",
     "text": [
      " 85%|████████▌ | 255/300 [00:27<00:04,  9.40it/s]"
     ]
    },
    {
     "name": "stdout",
     "output_type": "stream",
     "text": [
      "Predictor loss: 151.35 | adversary loss 6.44 | Demographic disparity = 0.11\n",
      " \n",
      "Avg Training Stats after 253 global rounds:\n",
      "Training loss: 0.52 | Validation accuracy: 74.33% | Validation Demographic disparity: 0.1145\n",
      "\n",
      " | Global Training Round : 254 |\n",
      "\n",
      "Predictor loss: 151.35 | adversary loss 6.43 | Demographic disparity = 0.11\n",
      " \n",
      "Avg Training Stats after 254 global rounds:\n",
      "Training loss: 0.52 | Validation accuracy: 74.33% | Validation Demographic disparity: 0.1145\n",
      "\n",
      " | Global Training Round : 255 |\n",
      "\n",
      "Predictor loss: 151.35 | adversary loss 6.42 | Demographic disparity = 0.11\n",
      " \n",
      "Avg Training Stats after 255 global rounds:\n",
      "Training loss: 0.52 | Validation accuracy: 74.33% | Validation Demographic disparity: 0.1145\n",
      "\n",
      " | Global Training Round : 256 |\n",
      "\n"
     ]
    },
    {
     "name": "stderr",
     "output_type": "stream",
     "text": [
      " 86%|████████▌ | 258/300 [00:27<00:04, 10.10it/s]"
     ]
    },
    {
     "name": "stdout",
     "output_type": "stream",
     "text": [
      "Predictor loss: 150.58 | adversary loss 6.43 | Demographic disparity = 0.11\n",
      " \n",
      "Avg Training Stats after 256 global rounds:\n",
      "Training loss: 0.52 | Validation accuracy: 74.00% | Validation Demographic disparity: 0.1123\n",
      "\n",
      " | Global Training Round : 257 |\n",
      "\n",
      "Predictor loss: 150.58 | adversary loss 6.44 | Demographic disparity = 0.11\n",
      " \n",
      "Avg Training Stats after 257 global rounds:\n",
      "Training loss: 0.52 | Validation accuracy: 74.00% | Validation Demographic disparity: 0.1123\n",
      "\n",
      " | Global Training Round : 258 |\n",
      "\n",
      "Predictor loss: 150.58 | adversary loss 6.43 | Demographic disparity = 0.11\n",
      " \n",
      "Avg Training Stats after 258 global rounds:\n",
      "Training loss: 0.52 | Validation accuracy: 74.00% | Validation Demographic disparity: 0.1123\n",
      "\n",
      " | Global Training Round : 259 |\n",
      "\n"
     ]
    },
    {
     "name": "stderr",
     "output_type": "stream",
     "text": [
      "\r",
      " 87%|████████▋ | 260/300 [00:27<00:03, 10.22it/s]"
     ]
    },
    {
     "name": "stdout",
     "output_type": "stream",
     "text": [
      "Predictor loss: 146.44 | adversary loss 6.43 | Demographic disparity = 0.14\n",
      " \n",
      "Avg Training Stats after 259 global rounds:\n",
      "Training loss: 0.52 | Validation accuracy: 76.00% | Validation Demographic disparity: 0.1433\n",
      "\n",
      " | Global Training Round : 260 |\n",
      "\n",
      "Predictor loss: 146.44 | adversary loss 6.42 | Demographic disparity = 0.14\n",
      " \n",
      "Avg Training Stats after 260 global rounds:\n",
      "Training loss: 0.52 | Validation accuracy: 76.00% | Validation Demographic disparity: 0.1433\n",
      "\n",
      " | Global Training Round : 261 |\n",
      "\n",
      "Predictor loss: 146.44 | adversary loss 6.41 | Demographic disparity = 0.14\n",
      " \n",
      "Avg Training Stats after 261 global rounds:\n",
      "Training loss: 0.52 | Validation accuracy: 76.00% | Validation Demographic disparity: 0.1433\n",
      "\n",
      " | Global Training Round : 262 |\n",
      "\n"
     ]
    },
    {
     "name": "stderr",
     "output_type": "stream",
     "text": [
      " 88%|████████▊ | 264/300 [00:28<00:03, 10.48it/s]"
     ]
    },
    {
     "name": "stdout",
     "output_type": "stream",
     "text": [
      "Predictor loss: 143.70 | adversary loss 6.37 | Demographic disparity = 0.15\n",
      " \n",
      "Avg Training Stats after 262 global rounds:\n",
      "Training loss: 0.52 | Validation accuracy: 76.33% | Validation Demographic disparity: 0.1467\n",
      "\n",
      " | Global Training Round : 263 |\n",
      "\n",
      "Predictor loss: 143.70 | adversary loss 6.38 | Demographic disparity = 0.15\n",
      " \n",
      "Avg Training Stats after 263 global rounds:\n",
      "Training loss: 0.52 | Validation accuracy: 76.33% | Validation Demographic disparity: 0.1467\n",
      "\n",
      " | Global Training Round : 264 |\n",
      "\n",
      "Predictor loss: 143.70 | adversary loss 6.35 | Demographic disparity = 0.15\n",
      " \n",
      "Avg Training Stats after 264 global rounds:\n",
      "Training loss: 0.52 | Validation accuracy: 76.33% | Validation Demographic disparity: 0.1467\n",
      "\n",
      " | Global Training Round : 265 |\n",
      "\n"
     ]
    },
    {
     "name": "stderr",
     "output_type": "stream",
     "text": [
      "\r",
      " 89%|████████▊ | 266/300 [00:28<00:03, 10.31it/s]"
     ]
    },
    {
     "name": "stdout",
     "output_type": "stream",
     "text": [
      "Predictor loss: 149.33 | adversary loss 6.41 | Demographic disparity = 0.12\n",
      " \n",
      "Avg Training Stats after 265 global rounds:\n",
      "Training loss: 0.52 | Validation accuracy: 74.33% | Validation Demographic disparity: 0.1184\n",
      "\n",
      " | Global Training Round : 266 |\n",
      "\n",
      "Predictor loss: 149.33 | adversary loss 6.44 | Demographic disparity = 0.12\n",
      " \n",
      "Avg Training Stats after 266 global rounds:\n",
      "Training loss: 0.52 | Validation accuracy: 74.33% | Validation Demographic disparity: 0.1184\n",
      "\n",
      " | Global Training Round : 267 |\n",
      "\n",
      "Predictor loss: 149.33 | adversary loss 6.44 | Demographic disparity = 0.12\n",
      " \n",
      "Avg Training Stats after 267 global rounds:\n",
      "Training loss: 0.52 | Validation accuracy: 74.33% | Validation Demographic disparity: 0.1184\n",
      "\n",
      " | Global Training Round : 268 |\n",
      "\n"
     ]
    },
    {
     "name": "stderr",
     "output_type": "stream",
     "text": [
      " 90%|█████████ | 270/300 [00:28<00:02, 10.42it/s]"
     ]
    },
    {
     "name": "stdout",
     "output_type": "stream",
     "text": [
      "Predictor loss: 148.57 | adversary loss 6.45 | Demographic disparity = 0.14\n",
      " \n",
      "Avg Training Stats after 268 global rounds:\n",
      "Training loss: 0.52 | Validation accuracy: 75.33% | Validation Demographic disparity: 0.1367\n",
      "\n",
      " | Global Training Round : 269 |\n",
      "\n",
      "Predictor loss: 148.57 | adversary loss 6.43 | Demographic disparity = 0.14\n",
      " \n",
      "Avg Training Stats after 269 global rounds:\n",
      "Training loss: 0.52 | Validation accuracy: 75.33% | Validation Demographic disparity: 0.1367\n",
      "\n",
      " | Global Training Round : 270 |\n",
      "\n",
      "Predictor loss: 148.57 | adversary loss 6.42 | Demographic disparity = 0.14\n",
      " \n",
      "Avg Training Stats after 270 global rounds:\n",
      "Training loss: 0.51 | Validation accuracy: 75.33% | Validation Demographic disparity: 0.1367\n",
      "\n",
      " | Global Training Round : 271 |\n",
      "\n"
     ]
    },
    {
     "name": "stderr",
     "output_type": "stream",
     "text": [
      "\r",
      " 91%|█████████ | 272/300 [00:29<00:02, 10.25it/s]"
     ]
    },
    {
     "name": "stdout",
     "output_type": "stream",
     "text": [
      "Predictor loss: 145.83 | adversary loss 6.40 | Demographic disparity = 0.14\n",
      " \n",
      "Avg Training Stats after 271 global rounds:\n",
      "Training loss: 0.51 | Validation accuracy: 75.33% | Validation Demographic disparity: 0.1367\n",
      "\n",
      " | Global Training Round : 272 |\n",
      "\n",
      "Predictor loss: 145.83 | adversary loss 6.40 | Demographic disparity = 0.14\n",
      " \n",
      "Avg Training Stats after 272 global rounds:\n",
      "Training loss: 0.51 | Validation accuracy: 75.33% | Validation Demographic disparity: 0.1367\n",
      "\n",
      " | Global Training Round : 273 |\n",
      "\n",
      "Predictor loss: 145.83 | adversary loss 6.39 | Demographic disparity = 0.14\n",
      " \n",
      "Avg Training Stats after 273 global rounds:\n",
      "Training loss: 0.51 | Validation accuracy: 75.33% | Validation Demographic disparity: 0.1367\n",
      "\n",
      " | Global Training Round : 274 |\n",
      "\n"
     ]
    },
    {
     "name": "stderr",
     "output_type": "stream",
     "text": [
      " 92%|█████████▏| 276/300 [00:29<00:02, 10.84it/s]"
     ]
    },
    {
     "name": "stdout",
     "output_type": "stream",
     "text": [
      "Predictor loss: 147.86 | adversary loss 6.41 | Demographic disparity = 0.12\n",
      " \n",
      "Avg Training Stats after 274 global rounds:\n",
      "Training loss: 0.51 | Validation accuracy: 74.67% | Validation Demographic disparity: 0.1245\n",
      "\n",
      " | Global Training Round : 275 |\n",
      "\n",
      "Predictor loss: 147.86 | adversary loss 6.43 | Demographic disparity = 0.12\n",
      " \n",
      "Avg Training Stats after 275 global rounds:\n",
      "Training loss: 0.51 | Validation accuracy: 74.67% | Validation Demographic disparity: 0.1245\n",
      "\n",
      " | Global Training Round : 276 |\n",
      "\n",
      "Predictor loss: 147.86 | adversary loss 6.42 | Demographic disparity = 0.12\n",
      " \n",
      "Avg Training Stats after 276 global rounds:\n",
      "Training loss: 0.51 | Validation accuracy: 74.67% | Validation Demographic disparity: 0.1245\n",
      "\n",
      " | Global Training Round : 277 |\n",
      "\n"
     ]
    },
    {
     "name": "stderr",
     "output_type": "stream",
     "text": [
      "\r",
      " 93%|█████████▎| 278/300 [00:29<00:02, 10.85it/s]"
     ]
    },
    {
     "name": "stdout",
     "output_type": "stream",
     "text": [
      "Predictor loss: 149.27 | adversary loss 6.43 | Demographic disparity = 0.12\n",
      " \n",
      "Avg Training Stats after 277 global rounds:\n",
      "Training loss: 0.51 | Validation accuracy: 74.67% | Validation Demographic disparity: 0.1245\n",
      "\n",
      " | Global Training Round : 278 |\n",
      "\n",
      "Predictor loss: 149.27 | adversary loss 6.42 | Demographic disparity = 0.12\n",
      " \n",
      "Avg Training Stats after 278 global rounds:\n",
      "Training loss: 0.51 | Validation accuracy: 74.67% | Validation Demographic disparity: 0.1245\n",
      "\n",
      " | Global Training Round : 279 |\n",
      "\n",
      "Predictor loss: 149.27 | adversary loss 6.42 | Demographic disparity = 0.12\n",
      " \n",
      "Avg Training Stats after 279 global rounds:\n",
      "Training loss: 0.51 | Validation accuracy: 74.67% | Validation Demographic disparity: 0.1245\n",
      "\n",
      " | Global Training Round : 280 |\n",
      "\n"
     ]
    },
    {
     "name": "stderr",
     "output_type": "stream",
     "text": [
      " 94%|█████████▍| 282/300 [00:30<00:01, 11.07it/s]"
     ]
    },
    {
     "name": "stdout",
     "output_type": "stream",
     "text": [
      "Predictor loss: 145.37 | adversary loss 6.39 | Demographic disparity = 0.14\n",
      " \n",
      "Avg Training Stats after 280 global rounds:\n",
      "Training loss: 0.51 | Validation accuracy: 76.00% | Validation Demographic disparity: 0.1433\n",
      "\n",
      " | Global Training Round : 281 |\n",
      "\n",
      "Predictor loss: 145.37 | adversary loss 6.40 | Demographic disparity = 0.14\n",
      " \n",
      "Avg Training Stats after 281 global rounds:\n",
      "Training loss: 0.51 | Validation accuracy: 76.00% | Validation Demographic disparity: 0.1433\n",
      "\n",
      " | Global Training Round : 282 |\n",
      "\n",
      "Predictor loss: 145.37 | adversary loss 6.40 | Demographic disparity = 0.14\n",
      " \n",
      "Avg Training Stats after 282 global rounds:\n",
      "Training loss: 0.51 | Validation accuracy: 76.00% | Validation Demographic disparity: 0.1433\n",
      "\n",
      " | Global Training Round : 283 |\n",
      "\n"
     ]
    },
    {
     "name": "stderr",
     "output_type": "stream",
     "text": [
      "\r",
      " 95%|█████████▍| 284/300 [00:30<00:01, 11.00it/s]"
     ]
    },
    {
     "name": "stdout",
     "output_type": "stream",
     "text": [
      "Predictor loss: 146.90 | adversary loss 6.41 | Demographic disparity = 0.14\n",
      " \n",
      "Avg Training Stats after 283 global rounds:\n",
      "Training loss: 0.51 | Validation accuracy: 76.00% | Validation Demographic disparity: 0.1433\n",
      "\n",
      " | Global Training Round : 284 |\n",
      "\n",
      "Predictor loss: 146.90 | adversary loss 6.42 | Demographic disparity = 0.14\n",
      " \n",
      "Avg Training Stats after 284 global rounds:\n",
      "Training loss: 0.51 | Validation accuracy: 76.00% | Validation Demographic disparity: 0.1433\n",
      "\n",
      " | Global Training Round : 285 |\n",
      "\n",
      "Predictor loss: 146.90 | adversary loss 6.43 | Demographic disparity = 0.14\n",
      " \n",
      "Avg Training Stats after 285 global rounds:\n",
      "Training loss: 0.51 | Validation accuracy: 76.00% | Validation Demographic disparity: 0.1433\n",
      "\n",
      " | Global Training Round : 286 |\n",
      "\n"
     ]
    },
    {
     "name": "stderr",
     "output_type": "stream",
     "text": [
      " 96%|█████████▌| 288/300 [00:30<00:01, 11.52it/s]"
     ]
    },
    {
     "name": "stdout",
     "output_type": "stream",
     "text": [
      "Predictor loss: 145.73 | adversary loss 6.41 | Demographic disparity = 0.14\n",
      " \n",
      "Avg Training Stats after 286 global rounds:\n",
      "Training loss: 0.51 | Validation accuracy: 76.00% | Validation Demographic disparity: 0.1433\n",
      "\n",
      " | Global Training Round : 287 |\n",
      "\n",
      "Predictor loss: 145.73 | adversary loss 6.41 | Demographic disparity = 0.14\n",
      " \n",
      "Avg Training Stats after 287 global rounds:\n",
      "Training loss: 0.51 | Validation accuracy: 76.00% | Validation Demographic disparity: 0.1433\n",
      "\n",
      " | Global Training Round : 288 |\n",
      "\n",
      "Predictor loss: 145.73 | adversary loss 6.39 | Demographic disparity = 0.14\n",
      " \n",
      "Avg Training Stats after 288 global rounds:\n",
      "Training loss: 0.51 | Validation accuracy: 76.00% | Validation Demographic disparity: 0.1433\n",
      "\n",
      " | Global Training Round : 289 |\n",
      "\n"
     ]
    },
    {
     "name": "stderr",
     "output_type": "stream",
     "text": [
      "\r",
      " 97%|█████████▋| 290/300 [00:30<00:00, 11.13it/s]"
     ]
    },
    {
     "name": "stdout",
     "output_type": "stream",
     "text": [
      "Predictor loss: 148.41 | adversary loss 6.41 | Demographic disparity = 0.13\n",
      " \n",
      "Avg Training Stats after 289 global rounds:\n",
      "Training loss: 0.51 | Validation accuracy: 75.00% | Validation Demographic disparity: 0.1250\n",
      "\n",
      " | Global Training Round : 290 |\n",
      "\n",
      "Predictor loss: 148.41 | adversary loss 6.42 | Demographic disparity = 0.13\n",
      " \n",
      "Avg Training Stats after 290 global rounds:\n",
      "Training loss: 0.51 | Validation accuracy: 75.00% | Validation Demographic disparity: 0.1250\n",
      "\n",
      " | Global Training Round : 291 |\n",
      "\n",
      "Predictor loss: 148.41 | adversary loss 6.42 | Demographic disparity = 0.13\n",
      " \n",
      "Avg Training Stats after 291 global rounds:\n",
      "Training loss: 0.51 | Validation accuracy: 75.00% | Validation Demographic disparity: 0.1250\n",
      "\n",
      " | Global Training Round : 292 |\n",
      "\n"
     ]
    },
    {
     "name": "stderr",
     "output_type": "stream",
     "text": [
      " 98%|█████████▊| 294/300 [00:31<00:00, 11.10it/s]"
     ]
    },
    {
     "name": "stdout",
     "output_type": "stream",
     "text": [
      "Predictor loss: 149.05 | adversary loss 6.43 | Demographic disparity = 0.12\n",
      " \n",
      "Avg Training Stats after 292 global rounds:\n",
      "Training loss: 0.51 | Validation accuracy: 74.00% | Validation Demographic disparity: 0.1150\n",
      "\n",
      " | Global Training Round : 293 |\n",
      "\n",
      "Predictor loss: 149.05 | adversary loss 6.42 | Demographic disparity = 0.12\n",
      " \n",
      "Avg Training Stats after 293 global rounds:\n",
      "Training loss: 0.51 | Validation accuracy: 74.00% | Validation Demographic disparity: 0.1150\n",
      "\n",
      " | Global Training Round : 294 |\n",
      "\n",
      "Predictor loss: 149.05 | adversary loss 6.43 | Demographic disparity = 0.12\n",
      " \n",
      "Avg Training Stats after 294 global rounds:\n",
      "Training loss: 0.51 | Validation accuracy: 74.00% | Validation Demographic disparity: 0.1150\n",
      "\n",
      " | Global Training Round : 295 |\n",
      "\n"
     ]
    },
    {
     "name": "stderr",
     "output_type": "stream",
     "text": [
      "\r",
      " 99%|█████████▊| 296/300 [00:31<00:00, 11.08it/s]"
     ]
    },
    {
     "name": "stdout",
     "output_type": "stream",
     "text": [
      "Predictor loss: 147.15 | adversary loss 6.43 | Demographic disparity = 0.13\n",
      " \n",
      "Avg Training Stats after 295 global rounds:\n",
      "Training loss: 0.51 | Validation accuracy: 75.33% | Validation Demographic disparity: 0.1311\n",
      "\n",
      " | Global Training Round : 296 |\n",
      "\n",
      "Predictor loss: 147.15 | adversary loss 6.43 | Demographic disparity = 0.13\n",
      " \n",
      "Avg Training Stats after 296 global rounds:\n",
      "Training loss: 0.51 | Validation accuracy: 75.33% | Validation Demographic disparity: 0.1311\n",
      "\n",
      " | Global Training Round : 297 |\n",
      "\n",
      "Predictor loss: 147.15 | adversary loss 6.42 | Demographic disparity = 0.13\n",
      " \n",
      "Avg Training Stats after 297 global rounds:\n",
      "Training loss: 0.51 | Validation accuracy: 75.33% | Validation Demographic disparity: 0.1311\n",
      "\n",
      " | Global Training Round : 298 |\n",
      "\n"
     ]
    },
    {
     "name": "stderr",
     "output_type": "stream",
     "text": [
      "100%|██████████| 300/300 [00:31<00:00,  9.48it/s]"
     ]
    },
    {
     "name": "stdout",
     "output_type": "stream",
     "text": [
      "Predictor loss: 147.14 | adversary loss 6.41 | Demographic disparity = 0.13\n",
      " \n",
      "Avg Training Stats after 298 global rounds:\n",
      "Training loss: 0.51 | Validation accuracy: 75.00% | Validation Demographic disparity: 0.1250\n",
      "\n",
      " | Global Training Round : 299 |\n",
      "\n",
      "Predictor loss: 147.14 | adversary loss 6.43 | Demographic disparity = 0.13\n",
      " \n",
      "Avg Training Stats after 299 global rounds:\n",
      "Training loss: 0.51 | Validation accuracy: 75.00% | Validation Demographic disparity: 0.1250\n",
      "\n",
      " | Global Training Round : 300 |\n",
      "\n",
      "Predictor loss: 147.14 | adversary loss 6.45 | Demographic disparity = 0.13\n",
      " \n",
      "Avg Training Stats after 300 global rounds:\n",
      "Training loss: 0.51 | Validation accuracy: 75.00% | Validation Demographic disparity: 0.1250\n",
      " \n",
      " Results after 300 global rounds of training:\n",
      "|---- Avg Train Accuracy: 75.00%\n",
      "|---- Test Accuracy: 73.67%\n",
      "|---- Test Demographic disparity: 0.0336\n",
      "\n",
      " Total Run Time: 31.6534 sec\n"
     ]
    },
    {
     "name": "stderr",
     "output_type": "stream",
     "text": [
      "\n"
     ]
    }
   ],
   "source": [
    "server = Server(logReg(num_features=3, num_classes=2, seed = seed), synthetic_info, train_prn = False, seed = seed)\n",
    "server.FTrain(num_epochs = 300, init_epochs = 50, lr_g = 0.005, lr_d = 0.01, lambda_d = 0.8)\n"
   ]
  },
  {
   "cell_type": "code",
   "execution_count": 22,
   "metadata": {
    "scrolled": true
   },
   "outputs": [
    {
     "name": "stderr",
     "output_type": "stream",
     "text": [
      "  0%|          | 1/300 [00:00<00:39,  7.48it/s]"
     ]
    },
    {
     "name": "stdout",
     "output_type": "stream",
     "text": [
      "\n",
      " | Global Training Round : 1 |\n",
      "\n",
      "Accuracy loss: 21.45 | fairness loss 40.04 | Demographic disparity = 0.24\n",
      " \n",
      "Avg Training Stats after 1 global rounds:\n",
      "Training loss: 1.10 | Validation accuracy: 61.33% | Validation Demographic disparity: 0.2416\n",
      "\n",
      " | Global Training Round : 2 |\n",
      "\n"
     ]
    },
    {
     "name": "stderr",
     "output_type": "stream",
     "text": [
      "  1%|          | 3/300 [00:00<00:39,  7.57it/s]"
     ]
    },
    {
     "name": "stdout",
     "output_type": "stream",
     "text": [
      "Accuracy loss: 20.18 | fairness loss 33.41 | Demographic disparity = 0.25\n",
      " \n",
      "Avg Training Stats after 2 global rounds:\n",
      "Training loss: 1.19 | Validation accuracy: 62.00% | Validation Demographic disparity: 0.2482\n",
      "\n",
      " | Global Training Round : 3 |\n",
      "\n",
      "Accuracy loss: 19.78 | fairness loss 26.56 | Demographic disparity = 0.25\n",
      " \n",
      "Avg Training Stats after 3 global rounds:\n",
      "Training loss: 1.20 | Validation accuracy: 61.00% | Validation Demographic disparity: 0.2477\n",
      "\n",
      " | Global Training Round : 4 |\n",
      "\n"
     ]
    },
    {
     "name": "stderr",
     "output_type": "stream",
     "text": [
      "  2%|▏         | 5/300 [00:00<00:41,  7.16it/s]"
     ]
    },
    {
     "name": "stdout",
     "output_type": "stream",
     "text": [
      "Accuracy loss: 20.03 | fairness loss 21.92 | Demographic disparity = 0.20\n",
      " \n",
      "Avg Training Stats after 4 global rounds:\n",
      "Training loss: 1.17 | Validation accuracy: 57.33% | Validation Demographic disparity: 0.1999\n",
      "\n",
      " | Global Training Round : 5 |\n",
      "\n",
      "Accuracy loss: 20.77 | fairness loss 19.54 | Demographic disparity = 0.16\n",
      " \n",
      "Avg Training Stats after 5 global rounds:\n",
      "Training loss: 1.12 | Validation accuracy: 54.33% | Validation Demographic disparity: 0.1589\n",
      "\n",
      " | Global Training Round : 6 |\n",
      "\n"
     ]
    },
    {
     "name": "stderr",
     "output_type": "stream",
     "text": [
      "  2%|▏         | 7/300 [00:00<00:43,  6.80it/s]"
     ]
    },
    {
     "name": "stdout",
     "output_type": "stream",
     "text": [
      "Accuracy loss: 21.78 | fairness loss 18.85 | Demographic disparity = 0.20\n",
      " \n",
      "Avg Training Stats after 6 global rounds:\n",
      "Training loss: 1.07 | Validation accuracy: 24.67% | Validation Demographic disparity: 0.1987\n",
      "\n",
      " | Global Training Round : 7 |\n",
      "\n",
      "Accuracy loss: 22.81 | fairness loss 19.20 | Demographic disparity = 0.39\n",
      " \n",
      "Avg Training Stats after 7 global rounds:\n",
      "Training loss: 1.02 | Validation accuracy: 24.00% | Validation Demographic disparity: 0.3936\n",
      "\n",
      " | Global Training Round : 8 |\n",
      "\n"
     ]
    },
    {
     "name": "stderr",
     "output_type": "stream",
     "text": [
      "  3%|▎         | 9/300 [00:01<00:37,  7.71it/s]"
     ]
    },
    {
     "name": "stdout",
     "output_type": "stream",
     "text": [
      "Accuracy loss: 23.67 | fairness loss 20.07 | Demographic disparity = 0.35\n",
      " \n",
      "Avg Training Stats after 8 global rounds:\n",
      "Training loss: 0.97 | Validation accuracy: 31.67% | Validation Demographic disparity: 0.3514\n",
      "\n",
      " | Global Training Round : 9 |\n",
      "\n",
      "Accuracy loss: 24.20 | fairness loss 21.05 | Demographic disparity = 0.32\n",
      " \n",
      "Avg Training Stats after 9 global rounds:\n",
      "Training loss: 0.93 | Validation accuracy: 34.00% | Validation Demographic disparity: 0.3226\n",
      "\n",
      " | Global Training Round : 10 |\n",
      "\n"
     ]
    },
    {
     "name": "stderr",
     "output_type": "stream",
     "text": [
      "  4%|▎         | 11/300 [00:01<00:37,  7.72it/s]"
     ]
    },
    {
     "name": "stdout",
     "output_type": "stream",
     "text": [
      "Accuracy loss: 24.24 | fairness loss 21.85 | Demographic disparity = 0.25\n",
      " \n",
      "Avg Training Stats after 10 global rounds:\n",
      "Training loss: 0.90 | Validation accuracy: 38.67% | Validation Demographic disparity: 0.2499\n",
      "\n",
      " | Global Training Round : 11 |\n",
      "\n",
      "Accuracy loss: 23.60 | fairness loss 22.27 | Demographic disparity = 0.21\n",
      " \n",
      "Avg Training Stats after 11 global rounds:\n",
      "Training loss: 0.87 | Validation accuracy: 41.67% | Validation Demographic disparity: 0.2143\n",
      "\n",
      " | Global Training Round : 12 |\n",
      "\n"
     ]
    },
    {
     "name": "stderr",
     "output_type": "stream",
     "text": [
      "  4%|▍         | 13/300 [00:01<00:35,  8.19it/s]"
     ]
    },
    {
     "name": "stdout",
     "output_type": "stream",
     "text": [
      "Accuracy loss: 22.21 | fairness loss 22.36 | Demographic disparity = 0.13\n",
      " \n",
      "Avg Training Stats after 12 global rounds:\n",
      "Training loss: 0.84 | Validation accuracy: 48.67% | Validation Demographic disparity: 0.1333\n",
      "\n",
      " | Global Training Round : 13 |\n",
      "\n",
      "Accuracy loss: 20.33 | fairness loss 22.57 | Demographic disparity = 0.06\n",
      " \n",
      "Avg Training Stats after 13 global rounds:\n",
      "Training loss: 0.82 | Validation accuracy: 55.00% | Validation Demographic disparity: 0.0561\n",
      "\n",
      " | Global Training Round : 14 |\n",
      "\n"
     ]
    },
    {
     "name": "stderr",
     "output_type": "stream",
     "text": [
      "  5%|▌         | 15/300 [00:02<00:49,  5.75it/s]"
     ]
    },
    {
     "name": "stdout",
     "output_type": "stream",
     "text": [
      "Accuracy loss: 18.56 | fairness loss 23.33 | Demographic disparity = 0.05\n",
      " \n",
      "Avg Training Stats after 14 global rounds:\n",
      "Training loss: 0.80 | Validation accuracy: 62.67% | Validation Demographic disparity: 0.0466\n",
      "\n",
      " | Global Training Round : 15 |\n",
      "\n",
      "Accuracy loss: 17.34 | fairness loss 24.51 | Demographic disparity = 0.11\n",
      " \n",
      "Avg Training Stats after 15 global rounds:\n",
      "Training loss: 0.78 | Validation accuracy: 68.00% | Validation Demographic disparity: 0.1071\n",
      "\n",
      " | Global Training Round : 16 |\n",
      "\n"
     ]
    },
    {
     "name": "stderr",
     "output_type": "stream",
     "text": [
      "  6%|▌         | 17/300 [00:02<00:43,  6.55it/s]"
     ]
    },
    {
     "name": "stdout",
     "output_type": "stream",
     "text": [
      "Accuracy loss: 16.81 | fairness loss 25.63 | Demographic disparity = 0.13\n",
      " \n",
      "Avg Training Stats after 16 global rounds:\n",
      "Training loss: 0.76 | Validation accuracy: 69.67% | Validation Demographic disparity: 0.1293\n",
      "\n",
      " | Global Training Round : 17 |\n",
      "\n",
      "Accuracy loss: 16.84 | fairness loss 26.42 | Demographic disparity = 0.12\n",
      " \n",
      "Avg Training Stats after 17 global rounds:\n",
      "Training loss: 0.74 | Validation accuracy: 69.00% | Validation Demographic disparity: 0.1171\n",
      "\n",
      " | Global Training Round : 18 |\n",
      "\n"
     ]
    },
    {
     "name": "stderr",
     "output_type": "stream",
     "text": [
      "  6%|▋         | 19/300 [00:02<00:37,  7.51it/s]"
     ]
    },
    {
     "name": "stdout",
     "output_type": "stream",
     "text": [
      "Accuracy loss: 17.25 | fairness loss 26.98 | Demographic disparity = 0.09\n",
      " \n",
      "Avg Training Stats after 18 global rounds:\n",
      "Training loss: 0.73 | Validation accuracy: 66.67% | Validation Demographic disparity: 0.0910\n",
      "\n",
      " | Global Training Round : 19 |\n",
      "\n",
      "Accuracy loss: 17.87 | fairness loss 27.43 | Demographic disparity = 0.06\n",
      " \n",
      "Avg Training Stats after 19 global rounds:\n",
      "Training loss: 0.71 | Validation accuracy: 64.33% | Validation Demographic disparity: 0.0594\n",
      "\n",
      " | Global Training Round : 20 |\n",
      "\n"
     ]
    },
    {
     "name": "stderr",
     "output_type": "stream",
     "text": [
      "  7%|▋         | 21/300 [00:02<00:36,  7.63it/s]"
     ]
    },
    {
     "name": "stdout",
     "output_type": "stream",
     "text": [
      "Accuracy loss: 18.57 | fairness loss 27.89 | Demographic disparity = 0.04\n",
      " \n",
      "Avg Training Stats after 20 global rounds:\n",
      "Training loss: 0.70 | Validation accuracy: 63.00% | Validation Demographic disparity: 0.0405\n",
      "\n",
      " | Global Training Round : 21 |\n",
      "\n",
      "Accuracy loss: 19.24 | fairness loss 28.37 | Demographic disparity = 0.01\n",
      " \n",
      "Avg Training Stats after 21 global rounds:\n",
      "Training loss: 0.69 | Validation accuracy: 61.33% | Validation Demographic disparity: 0.0116\n",
      "\n",
      " | Global Training Round : 22 |\n",
      "\n"
     ]
    },
    {
     "name": "stderr",
     "output_type": "stream",
     "text": [
      "  8%|▊         | 23/300 [00:03<00:35,  7.74it/s]"
     ]
    },
    {
     "name": "stdout",
     "output_type": "stream",
     "text": [
      "Accuracy loss: 19.82 | fairness loss 28.87 | Demographic disparity = 0.00\n",
      " \n",
      "Avg Training Stats after 22 global rounds:\n",
      "Training loss: 0.67 | Validation accuracy: 60.33% | Validation Demographic disparity: 0.0011\n",
      "\n",
      " | Global Training Round : 23 |\n",
      "\n",
      "Accuracy loss: 20.25 | fairness loss 29.34 | Demographic disparity = 0.03\n",
      " \n",
      "Avg Training Stats after 23 global rounds:\n",
      "Training loss: 0.66 | Validation accuracy: 58.33% | Validation Demographic disparity: 0.0267\n",
      "\n",
      " | Global Training Round : 24 |\n",
      "\n"
     ]
    },
    {
     "name": "stderr",
     "output_type": "stream",
     "text": [
      "  8%|▊         | 25/300 [00:03<00:33,  8.17it/s]"
     ]
    },
    {
     "name": "stdout",
     "output_type": "stream",
     "text": [
      "Accuracy loss: 20.46 | fairness loss 29.75 | Demographic disparity = 0.03\n",
      " \n",
      "Avg Training Stats after 24 global rounds:\n",
      "Training loss: 0.65 | Validation accuracy: 57.67% | Validation Demographic disparity: 0.0333\n",
      "\n",
      " | Global Training Round : 25 |\n",
      "\n",
      "Accuracy loss: 20.44 | fairness loss 30.09 | Demographic disparity = 0.03\n",
      " \n",
      "Avg Training Stats after 25 global rounds:\n",
      "Training loss: 0.64 | Validation accuracy: 58.00% | Validation Demographic disparity: 0.0300\n",
      "\n",
      " | Global Training Round : 26 |\n",
      "\n"
     ]
    },
    {
     "name": "stderr",
     "output_type": "stream",
     "text": [
      "  9%|▉         | 27/300 [00:03<00:33,  8.13it/s]"
     ]
    },
    {
     "name": "stdout",
     "output_type": "stream",
     "text": [
      "Accuracy loss: 20.16 | fairness loss 30.38 | Demographic disparity = 0.03\n",
      " \n",
      "Avg Training Stats after 26 global rounds:\n",
      "Training loss: 0.63 | Validation accuracy: 59.33% | Validation Demographic disparity: 0.0261\n",
      "\n",
      " | Global Training Round : 27 |\n",
      "\n",
      "Accuracy loss: 19.69 | fairness loss 30.65 | Demographic disparity = 0.01\n",
      " \n",
      "Avg Training Stats after 27 global rounds:\n",
      "Training loss: 0.63 | Validation accuracy: 60.67% | Validation Demographic disparity: 0.0072\n",
      "\n",
      " | Global Training Round : 28 |\n",
      "\n"
     ]
    },
    {
     "name": "stderr",
     "output_type": "stream",
     "text": [
      " 10%|▉         | 29/300 [00:03<00:34,  7.93it/s]"
     ]
    },
    {
     "name": "stdout",
     "output_type": "stream",
     "text": [
      "Accuracy loss: 19.12 | fairness loss 30.98 | Demographic disparity = 0.02\n",
      " \n",
      "Avg Training Stats after 28 global rounds:\n",
      "Training loss: 0.62 | Validation accuracy: 63.00% | Validation Demographic disparity: 0.0161\n",
      "\n",
      " | Global Training Round : 29 |\n",
      "\n",
      "Accuracy loss: 18.59 | fairness loss 31.37 | Demographic disparity = 0.03\n",
      " \n",
      "Avg Training Stats after 29 global rounds:\n",
      "Training loss: 0.61 | Validation accuracy: 63.67% | Validation Demographic disparity: 0.0350\n",
      "\n",
      " | Global Training Round : 30 |\n",
      "\n"
     ]
    },
    {
     "name": "stderr",
     "output_type": "stream",
     "text": [
      " 10%|█         | 31/300 [00:04<00:33,  8.12it/s]"
     ]
    },
    {
     "name": "stdout",
     "output_type": "stream",
     "text": [
      "Accuracy loss: 18.19 | fairness loss 31.77 | Demographic disparity = 0.03\n",
      " \n",
      "Avg Training Stats after 30 global rounds:\n",
      "Training loss: 0.60 | Validation accuracy: 63.67% | Validation Demographic disparity: 0.0350\n",
      "\n",
      " | Global Training Round : 31 |\n",
      "\n",
      "Accuracy loss: 17.99 | fairness loss 32.11 | Demographic disparity = 0.05\n",
      " \n",
      "Avg Training Stats after 31 global rounds:\n",
      "Training loss: 0.60 | Validation accuracy: 64.67% | Validation Demographic disparity: 0.0505\n",
      "\n",
      " | Global Training Round : 32 |\n",
      "\n"
     ]
    },
    {
     "name": "stderr",
     "output_type": "stream",
     "text": [
      " 11%|█         | 33/300 [00:04<00:31,  8.50it/s]"
     ]
    },
    {
     "name": "stdout",
     "output_type": "stream",
     "text": [
      "Accuracy loss: 17.96 | fairness loss 32.37 | Demographic disparity = 0.06\n",
      " \n",
      "Avg Training Stats after 32 global rounds:\n",
      "Training loss: 0.59 | Validation accuracy: 65.33% | Validation Demographic disparity: 0.0599\n",
      "\n",
      " | Global Training Round : 33 |\n",
      "\n",
      "Accuracy loss: 18.07 | fairness loss 32.55 | Demographic disparity = 0.04\n",
      " \n",
      "Avg Training Stats after 33 global rounds:\n",
      "Training loss: 0.58 | Validation accuracy: 64.33% | Validation Demographic disparity: 0.0444\n",
      "\n",
      " | Global Training Round : 34 |\n",
      "\n"
     ]
    },
    {
     "name": "stderr",
     "output_type": "stream",
     "text": [
      " 12%|█▏        | 35/300 [00:04<00:30,  8.63it/s]"
     ]
    },
    {
     "name": "stdout",
     "output_type": "stream",
     "text": [
      "Accuracy loss: 18.26 | fairness loss 32.67 | Demographic disparity = 0.02\n",
      " \n",
      "Avg Training Stats after 34 global rounds:\n",
      "Training loss: 0.58 | Validation accuracy: 63.00% | Validation Demographic disparity: 0.0228\n",
      "\n",
      " | Global Training Round : 35 |\n",
      "\n",
      "Accuracy loss: 18.46 | fairness loss 32.77 | Demographic disparity = 0.02\n",
      " \n",
      "Avg Training Stats after 35 global rounds:\n",
      "Training loss: 0.57 | Validation accuracy: 63.33% | Validation Demographic disparity: 0.0167\n",
      "\n",
      " | Global Training Round : 36 |\n",
      "\n"
     ]
    },
    {
     "name": "stderr",
     "output_type": "stream",
     "text": [
      " 12%|█▏        | 37/300 [00:04<00:31,  8.46it/s]"
     ]
    },
    {
     "name": "stdout",
     "output_type": "stream",
     "text": [
      "Accuracy loss: 18.63 | fairness loss 32.87 | Demographic disparity = 0.01\n",
      " \n",
      "Avg Training Stats after 36 global rounds:\n",
      "Training loss: 0.56 | Validation accuracy: 63.00% | Validation Demographic disparity: 0.0106\n",
      "\n",
      " | Global Training Round : 37 |\n",
      "\n",
      "Accuracy loss: 18.71 | fairness loss 32.97 | Demographic disparity = 0.00\n",
      " \n",
      "Avg Training Stats after 37 global rounds:\n",
      "Training loss: 0.56 | Validation accuracy: 63.33% | Validation Demographic disparity: 0.0045\n",
      "\n",
      " | Global Training Round : 38 |\n",
      "\n"
     ]
    },
    {
     "name": "stderr",
     "output_type": "stream",
     "text": [
      " 13%|█▎        | 39/300 [00:05<00:31,  8.34it/s]"
     ]
    },
    {
     "name": "stdout",
     "output_type": "stream",
     "text": [
      "Accuracy loss: 18.69 | fairness loss 33.10 | Demographic disparity = 0.01\n",
      " \n",
      "Avg Training Stats after 38 global rounds:\n",
      "Training loss: 0.55 | Validation accuracy: 63.67% | Validation Demographic disparity: 0.0106\n",
      "\n",
      " | Global Training Round : 39 |\n",
      "\n",
      "Accuracy loss: 18.57 | fairness loss 33.25 | Demographic disparity = 0.00\n",
      " \n",
      "Avg Training Stats after 39 global rounds:\n",
      "Training loss: 0.55 | Validation accuracy: 63.33% | Validation Demographic disparity: 0.0045\n",
      "\n",
      " | Global Training Round : 40 |\n",
      "\n"
     ]
    },
    {
     "name": "stderr",
     "output_type": "stream",
     "text": [
      " 14%|█▎        | 41/300 [00:05<00:29,  8.64it/s]"
     ]
    },
    {
     "name": "stdout",
     "output_type": "stream",
     "text": [
      "Accuracy loss: 18.37 | fairness loss 33.44 | Demographic disparity = 0.03\n",
      " \n",
      "Avg Training Stats after 40 global rounds:\n",
      "Training loss: 0.54 | Validation accuracy: 65.00% | Validation Demographic disparity: 0.0267\n",
      "\n",
      " | Global Training Round : 41 |\n",
      "\n",
      "Accuracy loss: 18.15 | fairness loss 33.66 | Demographic disparity = 0.03\n",
      " \n",
      "Avg Training Stats after 41 global rounds:\n",
      "Training loss: 0.54 | Validation accuracy: 65.00% | Validation Demographic disparity: 0.0267\n",
      "\n",
      " | Global Training Round : 42 |\n",
      "\n"
     ]
    },
    {
     "name": "stderr",
     "output_type": "stream",
     "text": [
      " 14%|█▍        | 43/300 [00:05<00:29,  8.71it/s]"
     ]
    },
    {
     "name": "stdout",
     "output_type": "stream",
     "text": [
      "Accuracy loss: 17.95 | fairness loss 33.89 | Demographic disparity = 0.03\n",
      " \n",
      "Avg Training Stats after 42 global rounds:\n",
      "Training loss: 0.53 | Validation accuracy: 65.33% | Validation Demographic disparity: 0.0300\n",
      "\n",
      " | Global Training Round : 43 |\n",
      "\n",
      "Accuracy loss: 17.80 | fairness loss 34.10 | Demographic disparity = 0.04\n",
      " \n",
      "Avg Training Stats after 43 global rounds:\n",
      "Training loss: 0.53 | Validation accuracy: 66.00% | Validation Demographic disparity: 0.0367\n",
      "\n",
      " | Global Training Round : 44 |\n",
      "\n"
     ]
    },
    {
     "name": "stderr",
     "output_type": "stream",
     "text": [
      " 15%|█▌        | 45/300 [00:05<00:28,  8.84it/s]"
     ]
    },
    {
     "name": "stdout",
     "output_type": "stream",
     "text": [
      "Accuracy loss: 17.72 | fairness loss 34.29 | Demographic disparity = 0.03\n",
      " \n",
      "Avg Training Stats after 44 global rounds:\n",
      "Training loss: 0.53 | Validation accuracy: 66.00% | Validation Demographic disparity: 0.0339\n",
      "\n",
      " | Global Training Round : 45 |\n",
      "\n",
      "Accuracy loss: 17.71 | fairness loss 34.43 | Demographic disparity = 0.04\n",
      " \n",
      "Avg Training Stats after 45 global rounds:\n",
      "Training loss: 0.52 | Validation accuracy: 66.67% | Validation Demographic disparity: 0.0433\n",
      "\n",
      " | Global Training Round : 46 |\n",
      "\n"
     ]
    },
    {
     "name": "stderr",
     "output_type": "stream",
     "text": [
      " 16%|█▌        | 47/300 [00:06<00:29,  8.63it/s]"
     ]
    },
    {
     "name": "stdout",
     "output_type": "stream",
     "text": [
      "Accuracy loss: 17.73 | fairness loss 34.55 | Demographic disparity = 0.04\n",
      " \n",
      "Avg Training Stats after 46 global rounds:\n",
      "Training loss: 0.52 | Validation accuracy: 66.67% | Validation Demographic disparity: 0.0433\n",
      "\n",
      " | Global Training Round : 47 |\n",
      "\n",
      "Accuracy loss: 17.77 | fairness loss 34.66 | Demographic disparity = 0.04\n",
      " \n",
      "Avg Training Stats after 47 global rounds:\n",
      "Training loss: 0.51 | Validation accuracy: 66.67% | Validation Demographic disparity: 0.0433\n",
      "\n",
      " | Global Training Round : 48 |\n",
      "\n"
     ]
    },
    {
     "name": "stderr",
     "output_type": "stream",
     "text": [
      " 16%|█▋        | 49/300 [00:06<00:28,  8.75it/s]"
     ]
    },
    {
     "name": "stdout",
     "output_type": "stream",
     "text": [
      "Accuracy loss: 17.79 | fairness loss 34.77 | Demographic disparity = 0.04\n",
      " \n",
      "Avg Training Stats after 48 global rounds:\n",
      "Training loss: 0.51 | Validation accuracy: 66.33% | Validation Demographic disparity: 0.0372\n",
      "\n",
      " | Global Training Round : 49 |\n",
      "\n",
      "Accuracy loss: 17.78 | fairness loss 34.91 | Demographic disparity = 0.04\n",
      " \n",
      "Avg Training Stats after 49 global rounds:\n",
      "Training loss: 0.51 | Validation accuracy: 67.00% | Validation Demographic disparity: 0.0372\n",
      "\n",
      " | Global Training Round : 50 |\n",
      "\n"
     ]
    },
    {
     "name": "stderr",
     "output_type": "stream",
     "text": [
      " 17%|█▋        | 51/300 [00:06<00:31,  7.98it/s]"
     ]
    },
    {
     "name": "stdout",
     "output_type": "stream",
     "text": [
      "Accuracy loss: 17.74 | fairness loss 35.06 | Demographic disparity = 0.02\n",
      " \n",
      "Avg Training Stats after 50 global rounds:\n",
      "Training loss: 0.50 | Validation accuracy: 66.33% | Validation Demographic disparity: 0.0223\n",
      "\n",
      " | Global Training Round : 51 |\n",
      "\n",
      "Accuracy loss: 17.66 | fairness loss 35.25 | Demographic disparity = 0.03\n",
      " \n",
      "Avg Training Stats after 51 global rounds:\n",
      "Training loss: 0.50 | Validation accuracy: 66.67% | Validation Demographic disparity: 0.0256\n",
      "\n",
      " | Global Training Round : 52 |\n",
      "\n"
     ]
    },
    {
     "name": "stderr",
     "output_type": "stream",
     "text": [
      " 18%|█▊        | 53/300 [00:06<00:31,  7.96it/s]"
     ]
    },
    {
     "name": "stdout",
     "output_type": "stream",
     "text": [
      "Accuracy loss: 17.57 | fairness loss 35.46 | Demographic disparity = 0.03\n",
      " \n",
      "Avg Training Stats after 52 global rounds:\n",
      "Training loss: 0.50 | Validation accuracy: 67.00% | Validation Demographic disparity: 0.0317\n",
      "\n",
      " | Global Training Round : 53 |\n",
      "\n",
      "Accuracy loss: 17.49 | fairness loss 35.67 | Demographic disparity = 0.04\n",
      " \n",
      "Avg Training Stats after 53 global rounds:\n",
      "Training loss: 0.49 | Validation accuracy: 68.00% | Validation Demographic disparity: 0.0445\n",
      "\n",
      " | Global Training Round : 54 |\n",
      "\n"
     ]
    },
    {
     "name": "stderr",
     "output_type": "stream",
     "text": [
      " 18%|█▊        | 55/300 [00:07<00:29,  8.35it/s]"
     ]
    },
    {
     "name": "stdout",
     "output_type": "stream",
     "text": [
      "Accuracy loss: 17.42 | fairness loss 35.88 | Demographic disparity = 0.04\n",
      " \n",
      "Avg Training Stats after 54 global rounds:\n",
      "Training loss: 0.49 | Validation accuracy: 68.00% | Validation Demographic disparity: 0.0445\n",
      "\n",
      " | Global Training Round : 55 |\n",
      "\n",
      "Accuracy loss: 17.37 | fairness loss 36.08 | Demographic disparity = 0.05\n",
      " \n",
      "Avg Training Stats after 55 global rounds:\n",
      "Training loss: 0.49 | Validation accuracy: 68.33% | Validation Demographic disparity: 0.0478\n",
      "\n",
      " | Global Training Round : 56 |\n",
      "\n"
     ]
    },
    {
     "name": "stderr",
     "output_type": "stream",
     "text": [
      " 19%|█▉        | 57/300 [00:07<00:28,  8.54it/s]"
     ]
    },
    {
     "name": "stdout",
     "output_type": "stream",
     "text": [
      "Accuracy loss: 17.35 | fairness loss 36.27 | Demographic disparity = 0.04\n",
      " \n",
      "Avg Training Stats after 56 global rounds:\n",
      "Training loss: 0.48 | Validation accuracy: 68.00% | Validation Demographic disparity: 0.0428\n",
      "\n",
      " | Global Training Round : 57 |\n",
      "\n",
      "Accuracy loss: 17.34 | fairness loss 36.45 | Demographic disparity = 0.04\n",
      " \n",
      "Avg Training Stats after 57 global rounds:\n",
      "Training loss: 0.48 | Validation accuracy: 67.67% | Validation Demographic disparity: 0.0367\n",
      "\n",
      " | Global Training Round : 58 |\n",
      "\n"
     ]
    },
    {
     "name": "stderr",
     "output_type": "stream",
     "text": [
      " 20%|█▉        | 59/300 [00:07<00:28,  8.47it/s]"
     ]
    },
    {
     "name": "stdout",
     "output_type": "stream",
     "text": [
      "Accuracy loss: 17.33 | fairness loss 36.63 | Demographic disparity = 0.04\n",
      " \n",
      "Avg Training Stats after 58 global rounds:\n",
      "Training loss: 0.48 | Validation accuracy: 67.67% | Validation Demographic disparity: 0.0367\n",
      "\n",
      " | Global Training Round : 59 |\n",
      "\n",
      "Accuracy loss: 17.32 | fairness loss 36.81 | Demographic disparity = 0.04\n",
      " \n",
      "Avg Training Stats after 59 global rounds:\n",
      "Training loss: 0.47 | Validation accuracy: 67.67% | Validation Demographic disparity: 0.0367\n",
      "\n",
      " | Global Training Round : 60 |\n",
      "\n"
     ]
    },
    {
     "name": "stderr",
     "output_type": "stream",
     "text": [
      " 20%|██        | 61/300 [00:07<00:29,  8.08it/s]"
     ]
    },
    {
     "name": "stdout",
     "output_type": "stream",
     "text": [
      "Accuracy loss: 17.29 | fairness loss 37.01 | Demographic disparity = 0.04\n",
      " \n",
      "Avg Training Stats after 60 global rounds:\n",
      "Training loss: 0.47 | Validation accuracy: 68.00% | Validation Demographic disparity: 0.0401\n",
      "\n",
      " | Global Training Round : 61 |\n",
      "\n",
      "Accuracy loss: 17.26 | fairness loss 37.22 | Demographic disparity = 0.04\n",
      " \n",
      "Avg Training Stats after 61 global rounds:\n",
      "Training loss: 0.47 | Validation accuracy: 68.00% | Validation Demographic disparity: 0.0401\n",
      "\n",
      " | Global Training Round : 62 |\n",
      "\n"
     ]
    },
    {
     "name": "stderr",
     "output_type": "stream",
     "text": [
      " 21%|██        | 63/300 [00:07<00:28,  8.34it/s]"
     ]
    },
    {
     "name": "stdout",
     "output_type": "stream",
     "text": [
      "Accuracy loss: 17.22 | fairness loss 37.45 | Demographic disparity = 0.04\n",
      " \n",
      "Avg Training Stats after 62 global rounds:\n",
      "Training loss: 0.47 | Validation accuracy: 68.33% | Validation Demographic disparity: 0.0434\n",
      "\n",
      " | Global Training Round : 63 |\n",
      "\n",
      "Accuracy loss: 17.18 | fairness loss 37.68 | Demographic disparity = 0.05\n",
      " \n",
      "Avg Training Stats after 63 global rounds:\n",
      "Training loss: 0.46 | Validation accuracy: 68.67% | Validation Demographic disparity: 0.0467\n",
      "\n",
      " | Global Training Round : 64 |\n",
      "\n"
     ]
    },
    {
     "name": "stderr",
     "output_type": "stream",
     "text": [
      " 22%|██▏       | 65/300 [00:08<00:28,  8.20it/s]"
     ]
    },
    {
     "name": "stdout",
     "output_type": "stream",
     "text": [
      "Accuracy loss: 17.15 | fairness loss 37.91 | Demographic disparity = 0.05\n",
      " \n",
      "Avg Training Stats after 64 global rounds:\n",
      "Training loss: 0.46 | Validation accuracy: 68.67% | Validation Demographic disparity: 0.0467\n",
      "\n",
      " | Global Training Round : 65 |\n",
      "\n",
      "Accuracy loss: 17.12 | fairness loss 38.14 | Demographic disparity = 0.05\n",
      " \n",
      "Avg Training Stats after 65 global rounds:\n",
      "Training loss: 0.46 | Validation accuracy: 68.67% | Validation Demographic disparity: 0.0467\n",
      "\n",
      " | Global Training Round : 66 |\n",
      "\n"
     ]
    },
    {
     "name": "stderr",
     "output_type": "stream",
     "text": [
      " 22%|██▏       | 67/300 [00:08<00:28,  8.22it/s]"
     ]
    },
    {
     "name": "stdout",
     "output_type": "stream",
     "text": [
      "Accuracy loss: 17.10 | fairness loss 38.36 | Demographic disparity = 0.05\n",
      " \n",
      "Avg Training Stats after 66 global rounds:\n",
      "Training loss: 0.46 | Validation accuracy: 68.67% | Validation Demographic disparity: 0.0467\n",
      "\n",
      " | Global Training Round : 67 |\n",
      "\n",
      "Accuracy loss: 17.09 | fairness loss 38.59 | Demographic disparity = 0.04\n",
      " \n",
      "Avg Training Stats after 67 global rounds:\n",
      "Training loss: 0.45 | Validation accuracy: 69.00% | Validation Demographic disparity: 0.0406\n",
      "\n",
      " | Global Training Round : 68 |\n",
      "\n"
     ]
    },
    {
     "name": "stderr",
     "output_type": "stream",
     "text": [
      " 23%|██▎       | 69/300 [00:08<00:27,  8.26it/s]"
     ]
    },
    {
     "name": "stdout",
     "output_type": "stream",
     "text": [
      "Accuracy loss: 17.08 | fairness loss 38.81 | Demographic disparity = 0.04\n",
      " \n",
      "Avg Training Stats after 68 global rounds:\n",
      "Training loss: 0.45 | Validation accuracy: 69.00% | Validation Demographic disparity: 0.0406\n",
      "\n",
      " | Global Training Round : 69 |\n",
      "\n",
      "Accuracy loss: 17.06 | fairness loss 39.04 | Demographic disparity = 0.04\n",
      " \n",
      "Avg Training Stats after 69 global rounds:\n",
      "Training loss: 0.45 | Validation accuracy: 69.00% | Validation Demographic disparity: 0.0406\n",
      "\n",
      " | Global Training Round : 70 |\n",
      "\n"
     ]
    },
    {
     "name": "stderr",
     "output_type": "stream",
     "text": [
      " 24%|██▎       | 71/300 [00:08<00:28,  8.05it/s]"
     ]
    },
    {
     "name": "stdout",
     "output_type": "stream",
     "text": [
      "Accuracy loss: 17.05 | fairness loss 39.27 | Demographic disparity = 0.04\n",
      " \n",
      "Avg Training Stats after 70 global rounds:\n",
      "Training loss: 0.45 | Validation accuracy: 69.00% | Validation Demographic disparity: 0.0406\n",
      "\n",
      " | Global Training Round : 71 |\n",
      "\n",
      "Accuracy loss: 17.03 | fairness loss 39.51 | Demographic disparity = 0.03\n",
      " \n",
      "Avg Training Stats after 71 global rounds:\n",
      "Training loss: 0.45 | Validation accuracy: 68.67% | Validation Demographic disparity: 0.0345\n",
      "\n",
      " | Global Training Round : 72 |\n",
      "\n"
     ]
    },
    {
     "name": "stderr",
     "output_type": "stream",
     "text": [
      " 24%|██▍       | 73/300 [00:09<00:27,  8.39it/s]"
     ]
    },
    {
     "name": "stdout",
     "output_type": "stream",
     "text": [
      "Accuracy loss: 17.01 | fairness loss 39.76 | Demographic disparity = 0.03\n",
      " \n",
      "Avg Training Stats after 72 global rounds:\n",
      "Training loss: 0.44 | Validation accuracy: 68.67% | Validation Demographic disparity: 0.0345\n",
      "\n",
      " | Global Training Round : 73 |\n",
      "\n",
      "Accuracy loss: 16.99 | fairness loss 40.01 | Demographic disparity = 0.03\n",
      " \n",
      "Avg Training Stats after 73 global rounds:\n",
      "Training loss: 0.44 | Validation accuracy: 68.67% | Validation Demographic disparity: 0.0345\n",
      "\n",
      " | Global Training Round : 74 |\n",
      "\n"
     ]
    },
    {
     "name": "stderr",
     "output_type": "stream",
     "text": [
      " 25%|██▌       | 75/300 [00:09<00:26,  8.49it/s]"
     ]
    },
    {
     "name": "stdout",
     "output_type": "stream",
     "text": [
      "Accuracy loss: 16.98 | fairness loss 40.25 | Demographic disparity = 0.04\n",
      " \n",
      "Avg Training Stats after 74 global rounds:\n",
      "Training loss: 0.44 | Validation accuracy: 69.00% | Validation Demographic disparity: 0.0379\n",
      "\n",
      " | Global Training Round : 75 |\n",
      "\n",
      "Accuracy loss: 16.96 | fairness loss 40.50 | Demographic disparity = 0.04\n",
      " \n",
      "Avg Training Stats after 75 global rounds:\n",
      "Training loss: 0.44 | Validation accuracy: 69.00% | Validation Demographic disparity: 0.0379\n",
      "\n",
      " | Global Training Round : 76 |\n",
      "\n"
     ]
    },
    {
     "name": "stderr",
     "output_type": "stream",
     "text": [
      " 26%|██▌       | 77/300 [00:09<00:26,  8.47it/s]"
     ]
    },
    {
     "name": "stdout",
     "output_type": "stream",
     "text": [
      "Accuracy loss: 16.95 | fairness loss 40.75 | Demographic disparity = 0.03\n",
      " \n",
      "Avg Training Stats after 76 global rounds:\n",
      "Training loss: 0.44 | Validation accuracy: 68.67% | Validation Demographic disparity: 0.0318\n",
      "\n",
      " | Global Training Round : 77 |\n",
      "\n",
      "Accuracy loss: 16.94 | fairness loss 41.00 | Demographic disparity = 0.03\n",
      " \n",
      "Avg Training Stats after 77 global rounds:\n",
      "Training loss: 0.43 | Validation accuracy: 68.67% | Validation Demographic disparity: 0.0318\n",
      "\n",
      " | Global Training Round : 78 |\n",
      "\n"
     ]
    },
    {
     "name": "stderr",
     "output_type": "stream",
     "text": [
      " 26%|██▋       | 79/300 [00:09<00:25,  8.68it/s]"
     ]
    },
    {
     "name": "stdout",
     "output_type": "stream",
     "text": [
      "Accuracy loss: 16.93 | fairness loss 41.25 | Demographic disparity = 0.03\n",
      " \n",
      "Avg Training Stats after 78 global rounds:\n",
      "Training loss: 0.43 | Validation accuracy: 68.67% | Validation Demographic disparity: 0.0318\n",
      "\n",
      " | Global Training Round : 79 |\n",
      "\n",
      "Accuracy loss: 16.93 | fairness loss 41.50 | Demographic disparity = 0.03\n",
      " \n",
      "Avg Training Stats after 79 global rounds:\n",
      "Training loss: 0.43 | Validation accuracy: 68.67% | Validation Demographic disparity: 0.0290\n",
      "\n",
      " | Global Training Round : 80 |\n",
      "\n"
     ]
    },
    {
     "name": "stderr",
     "output_type": "stream",
     "text": [
      " 27%|██▋       | 81/300 [00:10<00:24,  9.00it/s]"
     ]
    },
    {
     "name": "stdout",
     "output_type": "stream",
     "text": [
      "Accuracy loss: 16.92 | fairness loss 41.75 | Demographic disparity = 0.03\n",
      " \n",
      "Avg Training Stats after 80 global rounds:\n",
      "Training loss: 0.43 | Validation accuracy: 69.00% | Validation Demographic disparity: 0.0323\n",
      "\n",
      " | Global Training Round : 81 |\n",
      "\n",
      "Accuracy loss: 16.91 | fairness loss 42.01 | Demographic disparity = 0.03\n",
      " \n",
      "Avg Training Stats after 81 global rounds:\n",
      "Training loss: 0.43 | Validation accuracy: 69.00% | Validation Demographic disparity: 0.0323\n",
      "\n",
      " | Global Training Round : 82 |\n",
      "\n"
     ]
    },
    {
     "name": "stderr",
     "output_type": "stream",
     "text": [
      " 28%|██▊       | 83/300 [00:10<00:23,  9.12it/s]"
     ]
    },
    {
     "name": "stdout",
     "output_type": "stream",
     "text": [
      "Accuracy loss: 16.90 | fairness loss 42.27 | Demographic disparity = 0.03\n",
      " \n",
      "Avg Training Stats after 82 global rounds:\n",
      "Training loss: 0.43 | Validation accuracy: 69.00% | Validation Demographic disparity: 0.0296\n",
      "\n",
      " | Global Training Round : 83 |\n",
      "\n",
      "Accuracy loss: 16.89 | fairness loss 42.53 | Demographic disparity = 0.03\n",
      " \n",
      "Avg Training Stats after 83 global rounds:\n",
      "Training loss: 0.42 | Validation accuracy: 69.00% | Validation Demographic disparity: 0.0296\n",
      "\n",
      " | Global Training Round : 84 |\n",
      "\n"
     ]
    },
    {
     "name": "stderr",
     "output_type": "stream",
     "text": [
      " 28%|██▊       | 85/300 [00:10<00:23,  9.01it/s]"
     ]
    },
    {
     "name": "stdout",
     "output_type": "stream",
     "text": [
      "Accuracy loss: 16.88 | fairness loss 42.78 | Demographic disparity = 0.03\n",
      " \n",
      "Avg Training Stats after 84 global rounds:\n",
      "Training loss: 0.42 | Validation accuracy: 69.00% | Validation Demographic disparity: 0.0296\n",
      "\n",
      " | Global Training Round : 85 |\n",
      "\n",
      "Accuracy loss: 16.88 | fairness loss 43.04 | Demographic disparity = 0.03\n",
      " \n",
      "Avg Training Stats after 85 global rounds:\n",
      "Training loss: 0.42 | Validation accuracy: 69.00% | Validation Demographic disparity: 0.0296\n",
      "\n",
      " | Global Training Round : 86 |\n",
      "\n"
     ]
    },
    {
     "name": "stderr",
     "output_type": "stream",
     "text": [
      " 29%|██▉       | 87/300 [00:10<00:26,  8.12it/s]"
     ]
    },
    {
     "name": "stdout",
     "output_type": "stream",
     "text": [
      "Accuracy loss: 16.87 | fairness loss 43.30 | Demographic disparity = 0.04\n",
      " \n",
      "Avg Training Stats after 86 global rounds:\n",
      "Training loss: 0.42 | Validation accuracy: 69.33% | Validation Demographic disparity: 0.0357\n",
      "\n",
      " | Global Training Round : 87 |\n",
      "\n",
      "Accuracy loss: 16.87 | fairness loss 43.56 | Demographic disparity = 0.04\n",
      " \n",
      "Avg Training Stats after 87 global rounds:\n",
      "Training loss: 0.42 | Validation accuracy: 69.33% | Validation Demographic disparity: 0.0357\n",
      "\n",
      " | Global Training Round : 88 |\n",
      "\n"
     ]
    },
    {
     "name": "stderr",
     "output_type": "stream",
     "text": [
      " 30%|██▉       | 89/300 [00:11<00:26,  7.95it/s]"
     ]
    },
    {
     "name": "stdout",
     "output_type": "stream",
     "text": [
      "Accuracy loss: 16.87 | fairness loss 43.82 | Demographic disparity = 0.04\n",
      " \n",
      "Avg Training Stats after 88 global rounds:\n",
      "Training loss: 0.42 | Validation accuracy: 69.33% | Validation Demographic disparity: 0.0357\n",
      "\n",
      " | Global Training Round : 89 |\n",
      "\n",
      "Accuracy loss: 16.86 | fairness loss 44.09 | Demographic disparity = 0.04\n",
      " \n",
      "Avg Training Stats after 89 global rounds:\n",
      "Training loss: 0.41 | Validation accuracy: 69.33% | Validation Demographic disparity: 0.0357\n",
      "\n",
      " | Global Training Round : 90 |\n",
      "\n"
     ]
    },
    {
     "name": "stderr",
     "output_type": "stream",
     "text": [
      " 30%|███       | 91/300 [00:11<00:26,  8.01it/s]"
     ]
    },
    {
     "name": "stdout",
     "output_type": "stream",
     "text": [
      "Accuracy loss: 16.86 | fairness loss 44.35 | Demographic disparity = 0.04\n",
      " \n",
      "Avg Training Stats after 90 global rounds:\n",
      "Training loss: 0.41 | Validation accuracy: 69.33% | Validation Demographic disparity: 0.0357\n",
      "\n",
      " | Global Training Round : 91 |\n",
      "\n",
      "Accuracy loss: 16.86 | fairness loss 44.61 | Demographic disparity = 0.04\n",
      " \n",
      "Avg Training Stats after 91 global rounds:\n",
      "Training loss: 0.41 | Validation accuracy: 69.33% | Validation Demographic disparity: 0.0357\n",
      "\n",
      " | Global Training Round : 92 |\n",
      "\n"
     ]
    },
    {
     "name": "stderr",
     "output_type": "stream",
     "text": [
      " 31%|███       | 93/300 [00:11<00:27,  7.62it/s]"
     ]
    },
    {
     "name": "stdout",
     "output_type": "stream",
     "text": [
      "Accuracy loss: 16.85 | fairness loss 44.88 | Demographic disparity = 0.03\n",
      " \n",
      "Avg Training Stats after 92 global rounds:\n",
      "Training loss: 0.41 | Validation accuracy: 69.00% | Validation Demographic disparity: 0.0296\n",
      "\n",
      " | Global Training Round : 93 |\n",
      "\n",
      "Accuracy loss: 16.85 | fairness loss 45.14 | Demographic disparity = 0.03\n",
      " \n",
      "Avg Training Stats after 93 global rounds:\n",
      "Training loss: 0.41 | Validation accuracy: 69.00% | Validation Demographic disparity: 0.0296\n",
      "\n",
      " | Global Training Round : 94 |\n",
      "\n"
     ]
    },
    {
     "name": "stderr",
     "output_type": "stream",
     "text": [
      " 32%|███▏      | 95/300 [00:11<00:26,  7.65it/s]"
     ]
    },
    {
     "name": "stdout",
     "output_type": "stream",
     "text": [
      "Accuracy loss: 16.85 | fairness loss 45.40 | Demographic disparity = 0.03\n",
      " \n",
      "Avg Training Stats after 94 global rounds:\n",
      "Training loss: 0.41 | Validation accuracy: 69.00% | Validation Demographic disparity: 0.0296\n",
      "\n",
      " | Global Training Round : 95 |\n",
      "\n",
      "Accuracy loss: 16.85 | fairness loss 45.67 | Demographic disparity = 0.03\n",
      " \n",
      "Avg Training Stats after 95 global rounds:\n",
      "Training loss: 0.41 | Validation accuracy: 69.00% | Validation Demographic disparity: 0.0296\n",
      "\n",
      " | Global Training Round : 96 |\n",
      "\n"
     ]
    },
    {
     "name": "stderr",
     "output_type": "stream",
     "text": [
      " 32%|███▏      | 97/300 [00:12<00:25,  7.85it/s]"
     ]
    },
    {
     "name": "stdout",
     "output_type": "stream",
     "text": [
      "Accuracy loss: 16.85 | fairness loss 45.93 | Demographic disparity = 0.03\n",
      " \n",
      "Avg Training Stats after 96 global rounds:\n",
      "Training loss: 0.41 | Validation accuracy: 69.00% | Validation Demographic disparity: 0.0296\n",
      "\n",
      " | Global Training Round : 97 |\n",
      "\n",
      "Accuracy loss: 16.85 | fairness loss 46.19 | Demographic disparity = 0.03\n",
      " \n",
      "Avg Training Stats after 97 global rounds:\n",
      "Training loss: 0.40 | Validation accuracy: 69.00% | Validation Demographic disparity: 0.0296\n",
      "\n",
      " | Global Training Round : 98 |\n",
      "\n"
     ]
    },
    {
     "name": "stderr",
     "output_type": "stream",
     "text": [
      " 33%|███▎      | 99/300 [00:12<00:26,  7.65it/s]"
     ]
    },
    {
     "name": "stdout",
     "output_type": "stream",
     "text": [
      "Accuracy loss: 16.85 | fairness loss 46.46 | Demographic disparity = 0.02\n",
      " \n",
      "Avg Training Stats after 98 global rounds:\n",
      "Training loss: 0.40 | Validation accuracy: 69.33% | Validation Demographic disparity: 0.0235\n",
      "\n",
      " | Global Training Round : 99 |\n",
      "\n",
      "Accuracy loss: 16.85 | fairness loss 46.72 | Demographic disparity = 0.02\n",
      " \n",
      "Avg Training Stats after 99 global rounds:\n",
      "Training loss: 0.40 | Validation accuracy: 69.00% | Validation Demographic disparity: 0.0201\n",
      "\n",
      " | Global Training Round : 100 |\n",
      "\n"
     ]
    },
    {
     "name": "stderr",
     "output_type": "stream",
     "text": [
      " 34%|███▎      | 101/300 [00:12<00:24,  7.99it/s]"
     ]
    },
    {
     "name": "stdout",
     "output_type": "stream",
     "text": [
      "Accuracy loss: 16.85 | fairness loss 46.99 | Demographic disparity = 0.02\n",
      " \n",
      "Avg Training Stats after 100 global rounds:\n",
      "Training loss: 0.40 | Validation accuracy: 69.00% | Validation Demographic disparity: 0.0201\n",
      "\n",
      " | Global Training Round : 101 |\n",
      "\n",
      "Accuracy loss: 16.85 | fairness loss 47.25 | Demographic disparity = 0.02\n",
      " \n",
      "Avg Training Stats after 101 global rounds:\n",
      "Training loss: 0.40 | Validation accuracy: 69.00% | Validation Demographic disparity: 0.0201\n",
      "\n",
      " | Global Training Round : 102 |\n",
      "\n"
     ]
    },
    {
     "name": "stderr",
     "output_type": "stream",
     "text": [
      " 34%|███▍      | 103/300 [00:12<00:24,  8.10it/s]"
     ]
    },
    {
     "name": "stdout",
     "output_type": "stream",
     "text": [
      "Accuracy loss: 16.85 | fairness loss 47.51 | Demographic disparity = 0.02\n",
      " \n",
      "Avg Training Stats after 102 global rounds:\n",
      "Training loss: 0.40 | Validation accuracy: 69.00% | Validation Demographic disparity: 0.0201\n",
      "\n",
      " | Global Training Round : 103 |\n",
      "\n",
      "Accuracy loss: 16.85 | fairness loss 47.78 | Demographic disparity = 0.02\n",
      " \n",
      "Avg Training Stats after 103 global rounds:\n",
      "Training loss: 0.40 | Validation accuracy: 69.00% | Validation Demographic disparity: 0.0201\n",
      "\n",
      " | Global Training Round : 104 |\n",
      "\n"
     ]
    },
    {
     "name": "stderr",
     "output_type": "stream",
     "text": [
      " 35%|███▌      | 105/300 [00:13<00:23,  8.14it/s]"
     ]
    },
    {
     "name": "stdout",
     "output_type": "stream",
     "text": [
      "Accuracy loss: 16.85 | fairness loss 48.04 | Demographic disparity = 0.02\n",
      " \n",
      "Avg Training Stats after 104 global rounds:\n",
      "Training loss: 0.40 | Validation accuracy: 69.00% | Validation Demographic disparity: 0.0201\n",
      "\n",
      " | Global Training Round : 105 |\n",
      "\n",
      "Accuracy loss: 16.86 | fairness loss 48.30 | Demographic disparity = 0.02\n",
      " \n",
      "Avg Training Stats after 105 global rounds:\n",
      "Training loss: 0.39 | Validation accuracy: 69.00% | Validation Demographic disparity: 0.0201\n",
      "\n",
      " | Global Training Round : 106 |\n",
      "\n"
     ]
    },
    {
     "name": "stderr",
     "output_type": "stream",
     "text": [
      " 36%|███▌      | 107/300 [00:13<00:24,  7.95it/s]"
     ]
    },
    {
     "name": "stdout",
     "output_type": "stream",
     "text": [
      "Accuracy loss: 16.86 | fairness loss 48.56 | Demographic disparity = 0.02\n",
      " \n",
      "Avg Training Stats after 106 global rounds:\n",
      "Training loss: 0.39 | Validation accuracy: 69.33% | Validation Demographic disparity: 0.0235\n",
      "\n",
      " | Global Training Round : 107 |\n",
      "\n",
      "Accuracy loss: 16.86 | fairness loss 48.82 | Demographic disparity = 0.02\n",
      " \n",
      "Avg Training Stats after 107 global rounds:\n",
      "Training loss: 0.39 | Validation accuracy: 69.33% | Validation Demographic disparity: 0.0235\n",
      "\n",
      " | Global Training Round : 108 |\n",
      "\n"
     ]
    },
    {
     "name": "stderr",
     "output_type": "stream",
     "text": [
      " 36%|███▋      | 109/300 [00:13<00:23,  8.12it/s]"
     ]
    },
    {
     "name": "stdout",
     "output_type": "stream",
     "text": [
      "Accuracy loss: 16.86 | fairness loss 49.09 | Demographic disparity = 0.02\n",
      " \n",
      "Avg Training Stats after 108 global rounds:\n",
      "Training loss: 0.39 | Validation accuracy: 69.33% | Validation Demographic disparity: 0.0235\n",
      "\n",
      " | Global Training Round : 109 |\n",
      "\n",
      "Accuracy loss: 16.87 | fairness loss 49.35 | Demographic disparity = 0.02\n",
      " \n",
      "Avg Training Stats after 109 global rounds:\n",
      "Training loss: 0.39 | Validation accuracy: 69.33% | Validation Demographic disparity: 0.0235\n",
      "\n",
      " | Global Training Round : 110 |\n",
      "\n"
     ]
    },
    {
     "name": "stderr",
     "output_type": "stream",
     "text": [
      " 37%|███▋      | 111/300 [00:13<00:24,  7.71it/s]"
     ]
    },
    {
     "name": "stdout",
     "output_type": "stream",
     "text": [
      "Accuracy loss: 16.87 | fairness loss 49.61 | Demographic disparity = 0.02\n",
      " \n",
      "Avg Training Stats after 110 global rounds:\n",
      "Training loss: 0.39 | Validation accuracy: 69.33% | Validation Demographic disparity: 0.0235\n",
      "\n",
      " | Global Training Round : 111 |\n",
      "\n",
      "Accuracy loss: 16.87 | fairness loss 49.87 | Demographic disparity = 0.02\n",
      " \n",
      "Avg Training Stats after 111 global rounds:\n",
      "Training loss: 0.39 | Validation accuracy: 69.33% | Validation Demographic disparity: 0.0235\n",
      "\n",
      " | Global Training Round : 112 |\n",
      "\n"
     ]
    },
    {
     "name": "stderr",
     "output_type": "stream",
     "text": [
      " 38%|███▊      | 113/300 [00:14<00:24,  7.52it/s]"
     ]
    },
    {
     "name": "stdout",
     "output_type": "stream",
     "text": [
      "Accuracy loss: 16.88 | fairness loss 50.13 | Demographic disparity = 0.02\n",
      " \n",
      "Avg Training Stats after 112 global rounds:\n",
      "Training loss: 0.39 | Validation accuracy: 69.33% | Validation Demographic disparity: 0.0235\n",
      "\n",
      " | Global Training Round : 113 |\n",
      "\n",
      "Accuracy loss: 16.88 | fairness loss 50.39 | Demographic disparity = 0.02\n",
      " \n",
      "Avg Training Stats after 113 global rounds:\n",
      "Training loss: 0.39 | Validation accuracy: 69.33% | Validation Demographic disparity: 0.0235\n",
      "\n",
      " | Global Training Round : 114 |\n",
      "\n"
     ]
    },
    {
     "name": "stderr",
     "output_type": "stream",
     "text": [
      " 38%|███▊      | 115/300 [00:14<00:23,  7.72it/s]"
     ]
    },
    {
     "name": "stdout",
     "output_type": "stream",
     "text": [
      "Accuracy loss: 16.89 | fairness loss 50.64 | Demographic disparity = 0.02\n",
      " \n",
      "Avg Training Stats after 114 global rounds:\n",
      "Training loss: 0.39 | Validation accuracy: 69.33% | Validation Demographic disparity: 0.0235\n",
      "\n",
      " | Global Training Round : 115 |\n",
      "\n",
      "Accuracy loss: 16.89 | fairness loss 50.90 | Demographic disparity = 0.02\n",
      " \n",
      "Avg Training Stats after 115 global rounds:\n",
      "Training loss: 0.38 | Validation accuracy: 69.33% | Validation Demographic disparity: 0.0235\n",
      "\n",
      " | Global Training Round : 116 |\n",
      "\n"
     ]
    },
    {
     "name": "stderr",
     "output_type": "stream",
     "text": [
      " 39%|███▉      | 117/300 [00:14<00:24,  7.47it/s]"
     ]
    },
    {
     "name": "stdout",
     "output_type": "stream",
     "text": [
      "Accuracy loss: 16.89 | fairness loss 51.16 | Demographic disparity = 0.02\n",
      " \n",
      "Avg Training Stats after 116 global rounds:\n",
      "Training loss: 0.38 | Validation accuracy: 69.33% | Validation Demographic disparity: 0.0235\n",
      "\n",
      " | Global Training Round : 117 |\n",
      "\n",
      "Accuracy loss: 16.90 | fairness loss 51.41 | Demographic disparity = 0.02\n",
      " \n",
      "Avg Training Stats after 117 global rounds:\n",
      "Training loss: 0.38 | Validation accuracy: 69.33% | Validation Demographic disparity: 0.0235\n",
      "\n",
      " | Global Training Round : 118 |\n",
      "\n"
     ]
    },
    {
     "name": "stderr",
     "output_type": "stream",
     "text": [
      " 40%|███▉      | 119/300 [00:14<00:24,  7.50it/s]"
     ]
    },
    {
     "name": "stdout",
     "output_type": "stream",
     "text": [
      "Accuracy loss: 16.90 | fairness loss 51.67 | Demographic disparity = 0.02\n",
      " \n",
      "Avg Training Stats after 118 global rounds:\n",
      "Training loss: 0.38 | Validation accuracy: 69.00% | Validation Demographic disparity: 0.0174\n",
      "\n",
      " | Global Training Round : 119 |\n",
      "\n",
      "Accuracy loss: 16.91 | fairness loss 51.92 | Demographic disparity = 0.02\n",
      " \n",
      "Avg Training Stats after 119 global rounds:\n",
      "Training loss: 0.38 | Validation accuracy: 69.00% | Validation Demographic disparity: 0.0174\n",
      "\n",
      " | Global Training Round : 120 |\n",
      "\n"
     ]
    },
    {
     "name": "stderr",
     "output_type": "stream",
     "text": [
      " 40%|████      | 121/300 [00:15<00:23,  7.58it/s]"
     ]
    },
    {
     "name": "stdout",
     "output_type": "stream",
     "text": [
      "Accuracy loss: 16.91 | fairness loss 52.18 | Demographic disparity = 0.02\n",
      " \n",
      "Avg Training Stats after 120 global rounds:\n",
      "Training loss: 0.38 | Validation accuracy: 69.00% | Validation Demographic disparity: 0.0174\n",
      "\n",
      " | Global Training Round : 121 |\n",
      "\n",
      "Accuracy loss: 16.92 | fairness loss 52.43 | Demographic disparity = 0.02\n",
      " \n",
      "Avg Training Stats after 121 global rounds:\n",
      "Training loss: 0.38 | Validation accuracy: 69.00% | Validation Demographic disparity: 0.0174\n",
      "\n",
      " | Global Training Round : 122 |\n",
      "\n"
     ]
    },
    {
     "name": "stderr",
     "output_type": "stream",
     "text": [
      " 41%|████      | 123/300 [00:15<00:23,  7.69it/s]"
     ]
    },
    {
     "name": "stdout",
     "output_type": "stream",
     "text": [
      "Accuracy loss: 16.93 | fairness loss 52.68 | Demographic disparity = 0.02\n",
      " \n",
      "Avg Training Stats after 122 global rounds:\n",
      "Training loss: 0.38 | Validation accuracy: 69.00% | Validation Demographic disparity: 0.0174\n",
      "\n",
      " | Global Training Round : 123 |\n",
      "\n",
      "Accuracy loss: 16.93 | fairness loss 52.93 | Demographic disparity = 0.02\n",
      " \n",
      "Avg Training Stats after 123 global rounds:\n",
      "Training loss: 0.38 | Validation accuracy: 69.00% | Validation Demographic disparity: 0.0174\n",
      "\n",
      " | Global Training Round : 124 |\n",
      "\n"
     ]
    },
    {
     "name": "stderr",
     "output_type": "stream",
     "text": [
      " 42%|████▏     | 125/300 [00:15<00:22,  7.66it/s]"
     ]
    },
    {
     "name": "stdout",
     "output_type": "stream",
     "text": [
      "Accuracy loss: 16.94 | fairness loss 53.18 | Demographic disparity = 0.02\n",
      " \n",
      "Avg Training Stats after 124 global rounds:\n",
      "Training loss: 0.38 | Validation accuracy: 69.00% | Validation Demographic disparity: 0.0174\n",
      "\n",
      " | Global Training Round : 125 |\n",
      "\n",
      "Accuracy loss: 16.94 | fairness loss 53.43 | Demographic disparity = 0.01\n",
      " \n",
      "Avg Training Stats after 125 global rounds:\n",
      "Training loss: 0.38 | Validation accuracy: 68.67% | Validation Demographic disparity: 0.0113\n",
      "\n",
      " | Global Training Round : 126 |\n",
      "\n"
     ]
    },
    {
     "name": "stderr",
     "output_type": "stream",
     "text": [
      " 42%|████▏     | 127/300 [00:15<00:20,  8.30it/s]"
     ]
    },
    {
     "name": "stdout",
     "output_type": "stream",
     "text": [
      "Accuracy loss: 16.95 | fairness loss 53.68 | Demographic disparity = 0.02\n",
      " \n",
      "Avg Training Stats after 126 global rounds:\n",
      "Training loss: 0.37 | Validation accuracy: 69.00% | Validation Demographic disparity: 0.0174\n",
      "\n",
      " | Global Training Round : 127 |\n",
      "\n",
      "Accuracy loss: 16.95 | fairness loss 53.92 | Demographic disparity = 0.02\n",
      " \n",
      "Avg Training Stats after 127 global rounds:\n",
      "Training loss: 0.37 | Validation accuracy: 68.67% | Validation Demographic disparity: 0.0207\n",
      "\n",
      " | Global Training Round : 128 |\n",
      "\n"
     ]
    },
    {
     "name": "stderr",
     "output_type": "stream",
     "text": [
      " 43%|████▎     | 129/300 [00:16<00:22,  7.76it/s]"
     ]
    },
    {
     "name": "stdout",
     "output_type": "stream",
     "text": [
      "Accuracy loss: 16.96 | fairness loss 54.17 | Demographic disparity = 0.02\n",
      " \n",
      "Avg Training Stats after 128 global rounds:\n",
      "Training loss: 0.37 | Validation accuracy: 68.67% | Validation Demographic disparity: 0.0207\n",
      "\n",
      " | Global Training Round : 129 |\n",
      "\n",
      "Accuracy loss: 16.97 | fairness loss 54.41 | Demographic disparity = 0.02\n",
      " \n",
      "Avg Training Stats after 129 global rounds:\n",
      "Training loss: 0.37 | Validation accuracy: 68.67% | Validation Demographic disparity: 0.0207\n",
      "\n",
      " | Global Training Round : 130 |\n",
      "\n"
     ]
    },
    {
     "name": "stderr",
     "output_type": "stream",
     "text": [
      " 44%|████▎     | 131/300 [00:16<00:21,  7.96it/s]"
     ]
    },
    {
     "name": "stdout",
     "output_type": "stream",
     "text": [
      "Accuracy loss: 16.97 | fairness loss 54.66 | Demographic disparity = 0.02\n",
      " \n",
      "Avg Training Stats after 130 global rounds:\n",
      "Training loss: 0.37 | Validation accuracy: 68.67% | Validation Demographic disparity: 0.0207\n",
      "\n",
      " | Global Training Round : 131 |\n",
      "\n",
      "Accuracy loss: 16.98 | fairness loss 54.90 | Demographic disparity = 0.02\n",
      " \n",
      "Avg Training Stats after 131 global rounds:\n",
      "Training loss: 0.37 | Validation accuracy: 68.67% | Validation Demographic disparity: 0.0207\n",
      "\n",
      " | Global Training Round : 132 |\n",
      "\n"
     ]
    },
    {
     "name": "stderr",
     "output_type": "stream",
     "text": [
      " 44%|████▍     | 133/300 [00:16<00:20,  8.02it/s]"
     ]
    },
    {
     "name": "stdout",
     "output_type": "stream",
     "text": [
      "Accuracy loss: 16.99 | fairness loss 55.14 | Demographic disparity = 0.02\n",
      " \n",
      "Avg Training Stats after 132 global rounds:\n",
      "Training loss: 0.37 | Validation accuracy: 68.67% | Validation Demographic disparity: 0.0207\n",
      "\n",
      " | Global Training Round : 133 |\n",
      "\n",
      "Accuracy loss: 16.99 | fairness loss 55.38 | Demographic disparity = 0.02\n",
      " \n",
      "Avg Training Stats after 133 global rounds:\n",
      "Training loss: 0.37 | Validation accuracy: 68.67% | Validation Demographic disparity: 0.0207\n",
      "\n",
      " | Global Training Round : 134 |\n",
      "\n"
     ]
    },
    {
     "name": "stderr",
     "output_type": "stream",
     "text": [
      " 45%|████▌     | 135/300 [00:16<00:20,  7.86it/s]"
     ]
    },
    {
     "name": "stdout",
     "output_type": "stream",
     "text": [
      "Accuracy loss: 17.00 | fairness loss 55.62 | Demographic disparity = 0.02\n",
      " \n",
      "Avg Training Stats after 134 global rounds:\n",
      "Training loss: 0.37 | Validation accuracy: 68.67% | Validation Demographic disparity: 0.0207\n",
      "\n",
      " | Global Training Round : 135 |\n",
      "\n",
      "Accuracy loss: 17.01 | fairness loss 55.86 | Demographic disparity = 0.01\n",
      " \n",
      "Avg Training Stats after 135 global rounds:\n",
      "Training loss: 0.37 | Validation accuracy: 68.33% | Validation Demographic disparity: 0.0146\n",
      "\n",
      " | Global Training Round : 136 |\n",
      "\n"
     ]
    },
    {
     "name": "stderr",
     "output_type": "stream",
     "text": [
      " 46%|████▌     | 137/300 [00:17<00:20,  7.85it/s]"
     ]
    },
    {
     "name": "stdout",
     "output_type": "stream",
     "text": [
      "Accuracy loss: 17.01 | fairness loss 56.10 | Demographic disparity = 0.01\n",
      " \n",
      "Avg Training Stats after 136 global rounds:\n",
      "Training loss: 0.37 | Validation accuracy: 68.33% | Validation Demographic disparity: 0.0146\n",
      "\n",
      " | Global Training Round : 137 |\n",
      "\n",
      "Accuracy loss: 17.02 | fairness loss 56.33 | Demographic disparity = 0.02\n",
      " \n",
      "Avg Training Stats after 137 global rounds:\n",
      "Training loss: 0.37 | Validation accuracy: 68.67% | Validation Demographic disparity: 0.0179\n",
      "\n",
      " | Global Training Round : 138 |\n",
      "\n"
     ]
    },
    {
     "name": "stderr",
     "output_type": "stream",
     "text": [
      " 46%|████▋     | 139/300 [00:17<00:20,  7.68it/s]"
     ]
    },
    {
     "name": "stdout",
     "output_type": "stream",
     "text": [
      "Accuracy loss: 17.03 | fairness loss 56.57 | Demographic disparity = 0.01\n",
      " \n",
      "Avg Training Stats after 138 global rounds:\n",
      "Training loss: 0.37 | Validation accuracy: 68.33% | Validation Demographic disparity: 0.0146\n",
      "\n",
      " | Global Training Round : 139 |\n",
      "\n",
      "Accuracy loss: 17.03 | fairness loss 56.80 | Demographic disparity = 0.01\n",
      " \n",
      "Avg Training Stats after 139 global rounds:\n",
      "Training loss: 0.37 | Validation accuracy: 68.33% | Validation Demographic disparity: 0.0146\n",
      "\n",
      " | Global Training Round : 140 |\n",
      "\n"
     ]
    },
    {
     "name": "stderr",
     "output_type": "stream",
     "text": [
      " 47%|████▋     | 141/300 [00:17<00:19,  7.96it/s]"
     ]
    },
    {
     "name": "stdout",
     "output_type": "stream",
     "text": [
      "Accuracy loss: 17.04 | fairness loss 57.03 | Demographic disparity = 0.01\n",
      " \n",
      "Avg Training Stats after 140 global rounds:\n",
      "Training loss: 0.36 | Validation accuracy: 68.33% | Validation Demographic disparity: 0.0146\n",
      "\n",
      " | Global Training Round : 141 |\n",
      "\n",
      "Accuracy loss: 17.05 | fairness loss 57.26 | Demographic disparity = 0.01\n",
      " \n",
      "Avg Training Stats after 141 global rounds:\n",
      "Training loss: 0.36 | Validation accuracy: 68.33% | Validation Demographic disparity: 0.0146\n",
      "\n",
      " | Global Training Round : 142 |\n",
      "\n"
     ]
    },
    {
     "name": "stderr",
     "output_type": "stream",
     "text": [
      " 48%|████▊     | 143/300 [00:17<00:19,  8.16it/s]"
     ]
    },
    {
     "name": "stdout",
     "output_type": "stream",
     "text": [
      "Accuracy loss: 17.05 | fairness loss 57.49 | Demographic disparity = 0.02\n",
      " \n",
      "Avg Training Stats after 142 global rounds:\n",
      "Training loss: 0.36 | Validation accuracy: 68.67% | Validation Demographic disparity: 0.0207\n",
      "\n",
      " | Global Training Round : 143 |\n",
      "\n",
      "Accuracy loss: 17.06 | fairness loss 57.72 | Demographic disparity = 0.02\n",
      " \n",
      "Avg Training Stats after 143 global rounds:\n",
      "Training loss: 0.36 | Validation accuracy: 68.67% | Validation Demographic disparity: 0.0207\n",
      "\n",
      " | Global Training Round : 144 |\n",
      "\n"
     ]
    },
    {
     "name": "stderr",
     "output_type": "stream",
     "text": [
      " 48%|████▊     | 145/300 [00:18<00:18,  8.30it/s]"
     ]
    },
    {
     "name": "stdout",
     "output_type": "stream",
     "text": [
      "Accuracy loss: 17.07 | fairness loss 57.95 | Demographic disparity = 0.02\n",
      " \n",
      "Avg Training Stats after 144 global rounds:\n",
      "Training loss: 0.36 | Validation accuracy: 68.67% | Validation Demographic disparity: 0.0207\n",
      "\n",
      " | Global Training Round : 145 |\n",
      "\n",
      "Accuracy loss: 17.07 | fairness loss 58.17 | Demographic disparity = 0.02\n",
      " \n",
      "Avg Training Stats after 145 global rounds:\n",
      "Training loss: 0.36 | Validation accuracy: 68.67% | Validation Demographic disparity: 0.0207\n",
      "\n",
      " | Global Training Round : 146 |\n",
      "\n"
     ]
    },
    {
     "name": "stderr",
     "output_type": "stream",
     "text": [
      " 49%|████▉     | 147/300 [00:18<00:18,  8.14it/s]"
     ]
    },
    {
     "name": "stdout",
     "output_type": "stream",
     "text": [
      "Accuracy loss: 17.08 | fairness loss 58.40 | Demographic disparity = 0.02\n",
      " \n",
      "Avg Training Stats after 146 global rounds:\n",
      "Training loss: 0.36 | Validation accuracy: 68.67% | Validation Demographic disparity: 0.0207\n",
      "\n",
      " | Global Training Round : 147 |\n",
      "\n",
      "Accuracy loss: 17.09 | fairness loss 58.62 | Demographic disparity = 0.02\n",
      " \n",
      "Avg Training Stats after 147 global rounds:\n",
      "Training loss: 0.36 | Validation accuracy: 68.67% | Validation Demographic disparity: 0.0207\n",
      "\n",
      " | Global Training Round : 148 |\n",
      "\n"
     ]
    },
    {
     "name": "stderr",
     "output_type": "stream",
     "text": [
      " 50%|████▉     | 149/300 [00:18<00:17,  8.55it/s]"
     ]
    },
    {
     "name": "stdout",
     "output_type": "stream",
     "text": [
      "Accuracy loss: 17.10 | fairness loss 58.84 | Demographic disparity = 0.02\n",
      " \n",
      "Avg Training Stats after 148 global rounds:\n",
      "Training loss: 0.36 | Validation accuracy: 68.67% | Validation Demographic disparity: 0.0207\n",
      "\n",
      " | Global Training Round : 149 |\n",
      "\n",
      "Accuracy loss: 17.10 | fairness loss 59.06 | Demographic disparity = 0.02\n",
      " \n",
      "Avg Training Stats after 149 global rounds:\n",
      "Training loss: 0.36 | Validation accuracy: 68.67% | Validation Demographic disparity: 0.0207\n",
      "\n",
      " | Global Training Round : 150 |\n",
      "\n"
     ]
    },
    {
     "name": "stderr",
     "output_type": "stream",
     "text": [
      " 50%|█████     | 151/300 [00:18<00:18,  7.95it/s]"
     ]
    },
    {
     "name": "stdout",
     "output_type": "stream",
     "text": [
      "Accuracy loss: 17.11 | fairness loss 59.28 | Demographic disparity = 0.02\n",
      " \n",
      "Avg Training Stats after 150 global rounds:\n",
      "Training loss: 0.36 | Validation accuracy: 68.67% | Validation Demographic disparity: 0.0207\n",
      "\n",
      " | Global Training Round : 151 |\n",
      "\n",
      "Accuracy loss: 17.12 | fairness loss 59.49 | Demographic disparity = 0.02\n",
      " \n",
      "Avg Training Stats after 151 global rounds:\n",
      "Training loss: 0.36 | Validation accuracy: 68.67% | Validation Demographic disparity: 0.0207\n",
      "\n",
      " | Global Training Round : 152 |\n",
      "\n"
     ]
    },
    {
     "name": "stderr",
     "output_type": "stream",
     "text": [
      " 51%|█████     | 153/300 [00:19<00:19,  7.42it/s]"
     ]
    },
    {
     "name": "stdout",
     "output_type": "stream",
     "text": [
      "Accuracy loss: 17.13 | fairness loss 59.71 | Demographic disparity = 0.02\n",
      " \n",
      "Avg Training Stats after 152 global rounds:\n",
      "Training loss: 0.36 | Validation accuracy: 68.67% | Validation Demographic disparity: 0.0207\n",
      "\n",
      " | Global Training Round : 153 |\n",
      "\n",
      "Accuracy loss: 17.13 | fairness loss 59.92 | Demographic disparity = 0.02\n",
      " \n",
      "Avg Training Stats after 153 global rounds:\n",
      "Training loss: 0.36 | Validation accuracy: 68.67% | Validation Demographic disparity: 0.0207\n",
      "\n",
      " | Global Training Round : 154 |\n",
      "\n"
     ]
    },
    {
     "name": "stderr",
     "output_type": "stream",
     "text": [
      " 52%|█████▏    | 155/300 [00:19<00:17,  8.31it/s]"
     ]
    },
    {
     "name": "stdout",
     "output_type": "stream",
     "text": [
      "Accuracy loss: 17.14 | fairness loss 60.14 | Demographic disparity = 0.02\n",
      " \n",
      "Avg Training Stats after 154 global rounds:\n",
      "Training loss: 0.36 | Validation accuracy: 68.67% | Validation Demographic disparity: 0.0207\n",
      "\n",
      " | Global Training Round : 155 |\n",
      "\n",
      "Accuracy loss: 17.15 | fairness loss 60.35 | Demographic disparity = 0.02\n",
      " \n",
      "Avg Training Stats after 155 global rounds:\n",
      "Training loss: 0.36 | Validation accuracy: 69.00% | Validation Demographic disparity: 0.0240\n",
      "\n",
      " | Global Training Round : 156 |\n",
      "\n"
     ]
    },
    {
     "name": "stderr",
     "output_type": "stream",
     "text": [
      " 52%|█████▏    | 157/300 [00:19<00:18,  7.90it/s]"
     ]
    },
    {
     "name": "stdout",
     "output_type": "stream",
     "text": [
      "Accuracy loss: 17.15 | fairness loss 60.56 | Demographic disparity = 0.02\n",
      " \n",
      "Avg Training Stats after 156 global rounds:\n",
      "Training loss: 0.36 | Validation accuracy: 69.00% | Validation Demographic disparity: 0.0240\n",
      "\n",
      " | Global Training Round : 157 |\n",
      "\n",
      "Accuracy loss: 17.16 | fairness loss 60.77 | Demographic disparity = 0.02\n",
      " \n",
      "Avg Training Stats after 157 global rounds:\n",
      "Training loss: 0.35 | Validation accuracy: 69.00% | Validation Demographic disparity: 0.0240\n",
      "\n",
      " | Global Training Round : 158 |\n",
      "\n"
     ]
    },
    {
     "name": "stderr",
     "output_type": "stream",
     "text": [
      " 53%|█████▎    | 160/300 [00:20<00:16,  8.74it/s]"
     ]
    },
    {
     "name": "stdout",
     "output_type": "stream",
     "text": [
      "Accuracy loss: 17.17 | fairness loss 60.97 | Demographic disparity = 0.02\n",
      " \n",
      "Avg Training Stats after 158 global rounds:\n",
      "Training loss: 0.35 | Validation accuracy: 69.00% | Validation Demographic disparity: 0.0240\n",
      "\n",
      " | Global Training Round : 159 |\n",
      "\n",
      "Accuracy loss: 17.18 | fairness loss 61.18 | Demographic disparity = 0.02\n",
      " \n",
      "Avg Training Stats after 159 global rounds:\n",
      "Training loss: 0.35 | Validation accuracy: 68.67% | Validation Demographic disparity: 0.0207\n",
      "\n",
      " | Global Training Round : 160 |\n",
      "\n",
      "Accuracy loss: 17.18 | fairness loss 61.38 | Demographic disparity = 0.02\n",
      " \n",
      "Avg Training Stats after 160 global rounds:\n",
      "Training loss: 0.35 | Validation accuracy: 68.67% | Validation Demographic disparity: 0.0207\n",
      "\n",
      " | Global Training Round : 161 |\n",
      "\n"
     ]
    },
    {
     "name": "stderr",
     "output_type": "stream",
     "text": [
      " 54%|█████▍    | 162/300 [00:20<00:15,  9.05it/s]"
     ]
    },
    {
     "name": "stdout",
     "output_type": "stream",
     "text": [
      "Accuracy loss: 17.19 | fairness loss 61.58 | Demographic disparity = 0.02\n",
      " \n",
      "Avg Training Stats after 161 global rounds:\n",
      "Training loss: 0.35 | Validation accuracy: 68.67% | Validation Demographic disparity: 0.0207\n",
      "\n",
      " | Global Training Round : 162 |\n",
      "\n",
      "Accuracy loss: 17.20 | fairness loss 61.78 | Demographic disparity = 0.02\n",
      " \n",
      "Avg Training Stats after 162 global rounds:\n",
      "Training loss: 0.35 | Validation accuracy: 68.67% | Validation Demographic disparity: 0.0207\n",
      "\n",
      " | Global Training Round : 163 |\n",
      "\n"
     ]
    },
    {
     "name": "stderr",
     "output_type": "stream",
     "text": [
      " 55%|█████▍    | 164/300 [00:20<00:14,  9.25it/s]"
     ]
    },
    {
     "name": "stdout",
     "output_type": "stream",
     "text": [
      "Accuracy loss: 17.21 | fairness loss 61.98 | Demographic disparity = 0.02\n",
      " \n",
      "Avg Training Stats after 163 global rounds:\n",
      "Training loss: 0.35 | Validation accuracy: 68.67% | Validation Demographic disparity: 0.0207\n",
      "\n",
      " | Global Training Round : 164 |\n",
      "\n",
      "Accuracy loss: 17.21 | fairness loss 62.18 | Demographic disparity = 0.02\n",
      " \n",
      "Avg Training Stats after 164 global rounds:\n",
      "Training loss: 0.35 | Validation accuracy: 68.67% | Validation Demographic disparity: 0.0207\n",
      "\n",
      " | Global Training Round : 165 |\n",
      "\n"
     ]
    },
    {
     "name": "stderr",
     "output_type": "stream",
     "text": [
      " 55%|█████▌    | 166/300 [00:20<00:16,  8.35it/s]"
     ]
    },
    {
     "name": "stdout",
     "output_type": "stream",
     "text": [
      "Accuracy loss: 17.22 | fairness loss 62.38 | Demographic disparity = 0.02\n",
      " \n",
      "Avg Training Stats after 165 global rounds:\n",
      "Training loss: 0.35 | Validation accuracy: 68.67% | Validation Demographic disparity: 0.0207\n",
      "\n",
      " | Global Training Round : 166 |\n",
      "\n",
      "Accuracy loss: 17.23 | fairness loss 62.57 | Demographic disparity = 0.02\n",
      " \n",
      "Avg Training Stats after 166 global rounds:\n",
      "Training loss: 0.35 | Validation accuracy: 68.67% | Validation Demographic disparity: 0.0207\n",
      "\n",
      " | Global Training Round : 167 |\n",
      "\n"
     ]
    },
    {
     "name": "stderr",
     "output_type": "stream",
     "text": [
      " 56%|█████▌    | 168/300 [00:20<00:17,  7.66it/s]"
     ]
    },
    {
     "name": "stdout",
     "output_type": "stream",
     "text": [
      "Accuracy loss: 17.23 | fairness loss 62.77 | Demographic disparity = 0.02\n",
      " \n",
      "Avg Training Stats after 167 global rounds:\n",
      "Training loss: 0.35 | Validation accuracy: 68.67% | Validation Demographic disparity: 0.0207\n",
      "\n",
      " | Global Training Round : 168 |\n",
      "\n",
      "Accuracy loss: 17.24 | fairness loss 62.96 | Demographic disparity = 0.02\n",
      " \n",
      "Avg Training Stats after 168 global rounds:\n",
      "Training loss: 0.35 | Validation accuracy: 68.67% | Validation Demographic disparity: 0.0207\n",
      "\n",
      " | Global Training Round : 169 |\n",
      "\n"
     ]
    },
    {
     "name": "stderr",
     "output_type": "stream",
     "text": [
      " 57%|█████▋    | 170/300 [00:21<00:15,  8.14it/s]"
     ]
    },
    {
     "name": "stdout",
     "output_type": "stream",
     "text": [
      "Accuracy loss: 17.25 | fairness loss 63.15 | Demographic disparity = 0.02\n",
      " \n",
      "Avg Training Stats after 169 global rounds:\n",
      "Training loss: 0.35 | Validation accuracy: 68.67% | Validation Demographic disparity: 0.0207\n",
      "\n",
      " | Global Training Round : 170 |\n",
      "\n",
      "Accuracy loss: 17.26 | fairness loss 63.33 | Demographic disparity = 0.02\n",
      " \n",
      "Avg Training Stats after 170 global rounds:\n",
      "Training loss: 0.35 | Validation accuracy: 68.67% | Validation Demographic disparity: 0.0207\n",
      "\n",
      " | Global Training Round : 171 |\n",
      "\n"
     ]
    },
    {
     "name": "stderr",
     "output_type": "stream",
     "text": [
      " 57%|█████▋    | 172/300 [00:21<00:15,  8.12it/s]"
     ]
    },
    {
     "name": "stdout",
     "output_type": "stream",
     "text": [
      "Accuracy loss: 17.26 | fairness loss 63.52 | Demographic disparity = 0.02\n",
      " \n",
      "Avg Training Stats after 171 global rounds:\n",
      "Training loss: 0.35 | Validation accuracy: 68.67% | Validation Demographic disparity: 0.0207\n",
      "\n",
      " | Global Training Round : 172 |\n",
      "\n",
      "Accuracy loss: 17.27 | fairness loss 63.71 | Demographic disparity = 0.02\n",
      " \n",
      "Avg Training Stats after 172 global rounds:\n",
      "Training loss: 0.35 | Validation accuracy: 68.33% | Validation Demographic disparity: 0.0240\n",
      "\n",
      " | Global Training Round : 173 |\n",
      "\n"
     ]
    },
    {
     "name": "stderr",
     "output_type": "stream",
     "text": [
      " 58%|█████▊    | 174/300 [00:21<00:16,  7.77it/s]"
     ]
    },
    {
     "name": "stdout",
     "output_type": "stream",
     "text": [
      "Accuracy loss: 17.28 | fairness loss 63.89 | Demographic disparity = 0.02\n",
      " \n",
      "Avg Training Stats after 173 global rounds:\n",
      "Training loss: 0.35 | Validation accuracy: 68.33% | Validation Demographic disparity: 0.0240\n",
      "\n",
      " | Global Training Round : 174 |\n",
      "\n",
      "Accuracy loss: 17.28 | fairness loss 64.07 | Demographic disparity = 0.02\n",
      " \n",
      "Avg Training Stats after 174 global rounds:\n",
      "Training loss: 0.35 | Validation accuracy: 68.33% | Validation Demographic disparity: 0.0240\n",
      "\n",
      " | Global Training Round : 175 |\n",
      "\n"
     ]
    },
    {
     "name": "stderr",
     "output_type": "stream",
     "text": [
      " 59%|█████▊    | 176/300 [00:21<00:15,  8.10it/s]"
     ]
    },
    {
     "name": "stdout",
     "output_type": "stream",
     "text": [
      "Accuracy loss: 17.29 | fairness loss 64.25 | Demographic disparity = 0.02\n",
      " \n",
      "Avg Training Stats after 175 global rounds:\n",
      "Training loss: 0.35 | Validation accuracy: 68.33% | Validation Demographic disparity: 0.0240\n",
      "\n",
      " | Global Training Round : 176 |\n",
      "\n",
      "Accuracy loss: 17.30 | fairness loss 64.43 | Demographic disparity = 0.02\n",
      " \n",
      "Avg Training Stats after 176 global rounds:\n",
      "Training loss: 0.35 | Validation accuracy: 68.33% | Validation Demographic disparity: 0.0240\n",
      "\n",
      " | Global Training Round : 177 |\n",
      "\n"
     ]
    },
    {
     "name": "stderr",
     "output_type": "stream",
     "text": [
      " 59%|█████▉    | 178/300 [00:22<00:18,  6.63it/s]"
     ]
    },
    {
     "name": "stdout",
     "output_type": "stream",
     "text": [
      "Accuracy loss: 17.30 | fairness loss 64.61 | Demographic disparity = 0.02\n",
      " \n",
      "Avg Training Stats after 177 global rounds:\n",
      "Training loss: 0.35 | Validation accuracy: 68.33% | Validation Demographic disparity: 0.0240\n",
      "\n",
      " | Global Training Round : 178 |\n",
      "\n",
      "Accuracy loss: 17.31 | fairness loss 64.78 | Demographic disparity = 0.02\n",
      " \n",
      "Avg Training Stats after 178 global rounds:\n",
      "Training loss: 0.34 | Validation accuracy: 68.33% | Validation Demographic disparity: 0.0240\n",
      "\n",
      " | Global Training Round : 179 |\n",
      "\n"
     ]
    },
    {
     "name": "stderr",
     "output_type": "stream",
     "text": [
      " 60%|██████    | 180/300 [00:22<00:17,  7.05it/s]"
     ]
    },
    {
     "name": "stdout",
     "output_type": "stream",
     "text": [
      "Accuracy loss: 17.32 | fairness loss 64.96 | Demographic disparity = 0.02\n",
      " \n",
      "Avg Training Stats after 179 global rounds:\n",
      "Training loss: 0.34 | Validation accuracy: 68.33% | Validation Demographic disparity: 0.0240\n",
      "\n",
      " | Global Training Round : 180 |\n",
      "\n",
      "Accuracy loss: 17.32 | fairness loss 65.13 | Demographic disparity = 0.02\n",
      " \n",
      "Avg Training Stats after 180 global rounds:\n",
      "Training loss: 0.34 | Validation accuracy: 68.33% | Validation Demographic disparity: 0.0240\n",
      "\n",
      " | Global Training Round : 181 |\n",
      "\n"
     ]
    },
    {
     "name": "stderr",
     "output_type": "stream",
     "text": [
      " 61%|██████    | 182/300 [00:22<00:16,  7.23it/s]"
     ]
    },
    {
     "name": "stdout",
     "output_type": "stream",
     "text": [
      "Accuracy loss: 17.33 | fairness loss 65.30 | Demographic disparity = 0.02\n",
      " \n",
      "Avg Training Stats after 181 global rounds:\n",
      "Training loss: 0.34 | Validation accuracy: 68.33% | Validation Demographic disparity: 0.0240\n",
      "\n",
      " | Global Training Round : 182 |\n",
      "\n",
      "Accuracy loss: 17.34 | fairness loss 65.47 | Demographic disparity = 0.02\n",
      " \n",
      "Avg Training Stats after 182 global rounds:\n",
      "Training loss: 0.34 | Validation accuracy: 68.33% | Validation Demographic disparity: 0.0240\n",
      "\n",
      " | Global Training Round : 183 |\n",
      "\n"
     ]
    },
    {
     "name": "stderr",
     "output_type": "stream",
     "text": [
      " 61%|██████▏   | 184/300 [00:23<00:16,  7.01it/s]"
     ]
    },
    {
     "name": "stdout",
     "output_type": "stream",
     "text": [
      "Accuracy loss: 17.34 | fairness loss 65.64 | Demographic disparity = 0.02\n",
      " \n",
      "Avg Training Stats after 183 global rounds:\n",
      "Training loss: 0.34 | Validation accuracy: 68.33% | Validation Demographic disparity: 0.0240\n",
      "\n",
      " | Global Training Round : 184 |\n",
      "\n",
      "Accuracy loss: 17.35 | fairness loss 65.81 | Demographic disparity = 0.02\n",
      " \n",
      "Avg Training Stats after 184 global rounds:\n",
      "Training loss: 0.34 | Validation accuracy: 68.00% | Validation Demographic disparity: 0.0179\n",
      "\n",
      " | Global Training Round : 185 |\n",
      "\n"
     ]
    },
    {
     "name": "stderr",
     "output_type": "stream",
     "text": [
      " 62%|██████▏   | 186/300 [00:23<00:15,  7.56it/s]"
     ]
    },
    {
     "name": "stdout",
     "output_type": "stream",
     "text": [
      "Accuracy loss: 17.36 | fairness loss 65.97 | Demographic disparity = 0.02\n",
      " \n",
      "Avg Training Stats after 185 global rounds:\n",
      "Training loss: 0.34 | Validation accuracy: 68.00% | Validation Demographic disparity: 0.0179\n",
      "\n",
      " | Global Training Round : 186 |\n",
      "\n",
      "Accuracy loss: 17.36 | fairness loss 66.13 | Demographic disparity = 0.02\n",
      " \n",
      "Avg Training Stats after 186 global rounds:\n",
      "Training loss: 0.34 | Validation accuracy: 68.00% | Validation Demographic disparity: 0.0179\n",
      "\n",
      " | Global Training Round : 187 |\n",
      "\n"
     ]
    },
    {
     "name": "stderr",
     "output_type": "stream",
     "text": [
      " 63%|██████▎   | 188/300 [00:23<00:15,  7.11it/s]"
     ]
    },
    {
     "name": "stdout",
     "output_type": "stream",
     "text": [
      "Accuracy loss: 17.37 | fairness loss 66.29 | Demographic disparity = 0.02\n",
      " \n",
      "Avg Training Stats after 187 global rounds:\n",
      "Training loss: 0.34 | Validation accuracy: 68.00% | Validation Demographic disparity: 0.0179\n",
      "\n",
      " | Global Training Round : 188 |\n",
      "\n",
      "Accuracy loss: 17.38 | fairness loss 66.45 | Demographic disparity = 0.02\n",
      " \n",
      "Avg Training Stats after 188 global rounds:\n",
      "Training loss: 0.34 | Validation accuracy: 68.00% | Validation Demographic disparity: 0.0179\n",
      "\n",
      " | Global Training Round : 189 |\n",
      "\n"
     ]
    },
    {
     "name": "stderr",
     "output_type": "stream",
     "text": [
      " 63%|██████▎   | 190/300 [00:24<00:15,  6.88it/s]"
     ]
    },
    {
     "name": "stdout",
     "output_type": "stream",
     "text": [
      "Accuracy loss: 17.38 | fairness loss 66.61 | Demographic disparity = 0.02\n",
      " \n",
      "Avg Training Stats after 189 global rounds:\n",
      "Training loss: 0.34 | Validation accuracy: 68.00% | Validation Demographic disparity: 0.0179\n",
      "\n",
      " | Global Training Round : 190 |\n",
      "\n",
      "Accuracy loss: 17.39 | fairness loss 66.77 | Demographic disparity = 0.02\n",
      " \n",
      "Avg Training Stats after 190 global rounds:\n",
      "Training loss: 0.34 | Validation accuracy: 68.00% | Validation Demographic disparity: 0.0179\n",
      "\n",
      " | Global Training Round : 191 |\n",
      "\n"
     ]
    },
    {
     "name": "stderr",
     "output_type": "stream",
     "text": [
      " 64%|██████▍   | 192/300 [00:24<00:15,  6.80it/s]"
     ]
    },
    {
     "name": "stdout",
     "output_type": "stream",
     "text": [
      "Accuracy loss: 17.40 | fairness loss 66.92 | Demographic disparity = 0.02\n",
      " \n",
      "Avg Training Stats after 191 global rounds:\n",
      "Training loss: 0.34 | Validation accuracy: 68.00% | Validation Demographic disparity: 0.0179\n",
      "\n",
      " | Global Training Round : 192 |\n",
      "\n",
      "Accuracy loss: 17.40 | fairness loss 67.08 | Demographic disparity = 0.02\n",
      " \n",
      "Avg Training Stats after 192 global rounds:\n",
      "Training loss: 0.34 | Validation accuracy: 68.00% | Validation Demographic disparity: 0.0179\n",
      "\n",
      " | Global Training Round : 193 |\n",
      "\n"
     ]
    },
    {
     "name": "stderr",
     "output_type": "stream",
     "text": [
      " 65%|██████▍   | 194/300 [00:24<00:15,  6.81it/s]"
     ]
    },
    {
     "name": "stdout",
     "output_type": "stream",
     "text": [
      "Accuracy loss: 17.41 | fairness loss 67.23 | Demographic disparity = 0.02\n",
      " \n",
      "Avg Training Stats after 193 global rounds:\n",
      "Training loss: 0.34 | Validation accuracy: 68.00% | Validation Demographic disparity: 0.0179\n",
      "\n",
      " | Global Training Round : 194 |\n",
      "\n",
      "Accuracy loss: 17.42 | fairness loss 67.38 | Demographic disparity = 0.02\n",
      " \n",
      "Avg Training Stats after 194 global rounds:\n",
      "Training loss: 0.34 | Validation accuracy: 68.00% | Validation Demographic disparity: 0.0179\n",
      "\n",
      " | Global Training Round : 195 |\n",
      "\n"
     ]
    },
    {
     "name": "stderr",
     "output_type": "stream",
     "text": [
      " 65%|██████▌   | 196/300 [00:24<00:14,  7.01it/s]"
     ]
    },
    {
     "name": "stdout",
     "output_type": "stream",
     "text": [
      "Accuracy loss: 17.42 | fairness loss 67.53 | Demographic disparity = 0.02\n",
      " \n",
      "Avg Training Stats after 195 global rounds:\n",
      "Training loss: 0.34 | Validation accuracy: 68.00% | Validation Demographic disparity: 0.0179\n",
      "\n",
      " | Global Training Round : 196 |\n",
      "\n",
      "Accuracy loss: 17.43 | fairness loss 67.68 | Demographic disparity = 0.02\n",
      " \n",
      "Avg Training Stats after 196 global rounds:\n",
      "Training loss: 0.34 | Validation accuracy: 68.00% | Validation Demographic disparity: 0.0179\n",
      "\n",
      " | Global Training Round : 197 |\n",
      "\n"
     ]
    },
    {
     "name": "stderr",
     "output_type": "stream",
     "text": [
      " 66%|██████▌   | 198/300 [00:25<00:13,  7.55it/s]"
     ]
    },
    {
     "name": "stdout",
     "output_type": "stream",
     "text": [
      "Accuracy loss: 17.43 | fairness loss 67.82 | Demographic disparity = 0.02\n",
      " \n",
      "Avg Training Stats after 197 global rounds:\n",
      "Training loss: 0.34 | Validation accuracy: 68.00% | Validation Demographic disparity: 0.0179\n",
      "\n",
      " | Global Training Round : 198 |\n",
      "\n",
      "Accuracy loss: 17.44 | fairness loss 67.97 | Demographic disparity = 0.02\n",
      " \n",
      "Avg Training Stats after 198 global rounds:\n",
      "Training loss: 0.34 | Validation accuracy: 68.00% | Validation Demographic disparity: 0.0179\n",
      "\n",
      " | Global Training Round : 199 |\n",
      "\n"
     ]
    },
    {
     "name": "stderr",
     "output_type": "stream",
     "text": [
      " 67%|██████▋   | 200/300 [00:25<00:13,  7.41it/s]"
     ]
    },
    {
     "name": "stdout",
     "output_type": "stream",
     "text": [
      "Accuracy loss: 17.45 | fairness loss 68.11 | Demographic disparity = 0.02\n",
      " \n",
      "Avg Training Stats after 199 global rounds:\n",
      "Training loss: 0.34 | Validation accuracy: 68.00% | Validation Demographic disparity: 0.0179\n",
      "\n",
      " | Global Training Round : 200 |\n",
      "\n",
      "Accuracy loss: 17.45 | fairness loss 68.25 | Demographic disparity = 0.02\n",
      " \n",
      "Avg Training Stats after 200 global rounds:\n",
      "Training loss: 0.34 | Validation accuracy: 68.00% | Validation Demographic disparity: 0.0179\n",
      "\n",
      " | Global Training Round : 201 |\n",
      "\n"
     ]
    },
    {
     "name": "stderr",
     "output_type": "stream",
     "text": [
      " 67%|██████▋   | 202/300 [00:25<00:13,  7.36it/s]"
     ]
    },
    {
     "name": "stdout",
     "output_type": "stream",
     "text": [
      "Accuracy loss: 17.46 | fairness loss 68.39 | Demographic disparity = 0.02\n",
      " \n",
      "Avg Training Stats after 201 global rounds:\n",
      "Training loss: 0.34 | Validation accuracy: 68.00% | Validation Demographic disparity: 0.0179\n",
      "\n",
      " | Global Training Round : 202 |\n",
      "\n",
      "Accuracy loss: 17.46 | fairness loss 68.53 | Demographic disparity = 0.02\n",
      " \n",
      "Avg Training Stats after 202 global rounds:\n",
      "Training loss: 0.34 | Validation accuracy: 68.00% | Validation Demographic disparity: 0.0179\n",
      "\n",
      " | Global Training Round : 203 |\n",
      "\n"
     ]
    },
    {
     "name": "stderr",
     "output_type": "stream",
     "text": [
      " 68%|██████▊   | 204/300 [00:25<00:12,  7.43it/s]"
     ]
    },
    {
     "name": "stdout",
     "output_type": "stream",
     "text": [
      "Accuracy loss: 17.47 | fairness loss 68.66 | Demographic disparity = 0.02\n",
      " \n",
      "Avg Training Stats after 203 global rounds:\n",
      "Training loss: 0.34 | Validation accuracy: 68.00% | Validation Demographic disparity: 0.0179\n",
      "\n",
      " | Global Training Round : 204 |\n",
      "\n",
      "Accuracy loss: 17.47 | fairness loss 68.80 | Demographic disparity = 0.02\n",
      " \n",
      "Avg Training Stats after 204 global rounds:\n",
      "Training loss: 0.34 | Validation accuracy: 68.00% | Validation Demographic disparity: 0.0179\n",
      "\n",
      " | Global Training Round : 205 |\n",
      "\n"
     ]
    },
    {
     "name": "stderr",
     "output_type": "stream",
     "text": [
      " 69%|██████▊   | 206/300 [00:26<00:12,  7.59it/s]"
     ]
    },
    {
     "name": "stdout",
     "output_type": "stream",
     "text": [
      "Accuracy loss: 17.48 | fairness loss 68.93 | Demographic disparity = 0.02\n",
      " \n",
      "Avg Training Stats after 205 global rounds:\n",
      "Training loss: 0.34 | Validation accuracy: 68.00% | Validation Demographic disparity: 0.0179\n",
      "\n",
      " | Global Training Round : 206 |\n",
      "\n",
      "Accuracy loss: 17.49 | fairness loss 69.07 | Demographic disparity = 0.02\n",
      " \n",
      "Avg Training Stats after 206 global rounds:\n",
      "Training loss: 0.33 | Validation accuracy: 68.00% | Validation Demographic disparity: 0.0179\n",
      "\n",
      " | Global Training Round : 207 |\n",
      "\n"
     ]
    },
    {
     "name": "stderr",
     "output_type": "stream",
     "text": [
      " 69%|██████▉   | 208/300 [00:26<00:12,  7.46it/s]"
     ]
    },
    {
     "name": "stdout",
     "output_type": "stream",
     "text": [
      "Accuracy loss: 17.49 | fairness loss 69.20 | Demographic disparity = 0.02\n",
      " \n",
      "Avg Training Stats after 207 global rounds:\n",
      "Training loss: 0.33 | Validation accuracy: 68.00% | Validation Demographic disparity: 0.0179\n",
      "\n",
      " | Global Training Round : 208 |\n",
      "\n",
      "Accuracy loss: 17.50 | fairness loss 69.33 | Demographic disparity = 0.02\n",
      " \n",
      "Avg Training Stats after 208 global rounds:\n",
      "Training loss: 0.33 | Validation accuracy: 68.00% | Validation Demographic disparity: 0.0179\n",
      "\n",
      " | Global Training Round : 209 |\n",
      "\n"
     ]
    },
    {
     "name": "stderr",
     "output_type": "stream",
     "text": [
      " 70%|███████   | 210/300 [00:26<00:12,  7.43it/s]"
     ]
    },
    {
     "name": "stdout",
     "output_type": "stream",
     "text": [
      "Accuracy loss: 17.50 | fairness loss 69.45 | Demographic disparity = 0.02\n",
      " \n",
      "Avg Training Stats after 209 global rounds:\n",
      "Training loss: 0.33 | Validation accuracy: 68.00% | Validation Demographic disparity: 0.0179\n",
      "\n",
      " | Global Training Round : 210 |\n",
      "\n",
      "Accuracy loss: 17.51 | fairness loss 69.58 | Demographic disparity = 0.02\n",
      " \n",
      "Avg Training Stats after 210 global rounds:\n",
      "Training loss: 0.33 | Validation accuracy: 68.00% | Validation Demographic disparity: 0.0179\n",
      "\n",
      " | Global Training Round : 211 |\n",
      "\n"
     ]
    },
    {
     "name": "stderr",
     "output_type": "stream",
     "text": [
      " 71%|███████   | 212/300 [00:27<00:11,  7.57it/s]"
     ]
    },
    {
     "name": "stdout",
     "output_type": "stream",
     "text": [
      "Accuracy loss: 17.51 | fairness loss 69.70 | Demographic disparity = 0.02\n",
      " \n",
      "Avg Training Stats after 211 global rounds:\n",
      "Training loss: 0.33 | Validation accuracy: 68.00% | Validation Demographic disparity: 0.0179\n",
      "\n",
      " | Global Training Round : 212 |\n",
      "\n",
      "Accuracy loss: 17.52 | fairness loss 69.83 | Demographic disparity = 0.02\n",
      " \n",
      "Avg Training Stats after 212 global rounds:\n",
      "Training loss: 0.33 | Validation accuracy: 68.00% | Validation Demographic disparity: 0.0179\n",
      "\n",
      " | Global Training Round : 213 |\n",
      "\n"
     ]
    },
    {
     "name": "stderr",
     "output_type": "stream",
     "text": [
      " 71%|███████▏  | 214/300 [00:27<00:10,  7.94it/s]"
     ]
    },
    {
     "name": "stdout",
     "output_type": "stream",
     "text": [
      "Accuracy loss: 17.52 | fairness loss 69.95 | Demographic disparity = 0.02\n",
      " \n",
      "Avg Training Stats after 213 global rounds:\n",
      "Training loss: 0.33 | Validation accuracy: 68.00% | Validation Demographic disparity: 0.0179\n",
      "\n",
      " | Global Training Round : 214 |\n",
      "\n",
      "Accuracy loss: 17.53 | fairness loss 70.07 | Demographic disparity = 0.02\n",
      " \n",
      "Avg Training Stats after 214 global rounds:\n",
      "Training loss: 0.33 | Validation accuracy: 68.00% | Validation Demographic disparity: 0.0179\n",
      "\n",
      " | Global Training Round : 215 |\n",
      "\n"
     ]
    },
    {
     "name": "stderr",
     "output_type": "stream",
     "text": [
      " 72%|███████▏  | 216/300 [00:27<00:09,  8.51it/s]"
     ]
    },
    {
     "name": "stdout",
     "output_type": "stream",
     "text": [
      "Accuracy loss: 17.53 | fairness loss 70.19 | Demographic disparity = 0.02\n",
      " \n",
      "Avg Training Stats after 215 global rounds:\n",
      "Training loss: 0.33 | Validation accuracy: 68.00% | Validation Demographic disparity: 0.0179\n",
      "\n",
      " | Global Training Round : 216 |\n",
      "\n",
      "Accuracy loss: 17.54 | fairness loss 70.31 | Demographic disparity = 0.02\n",
      " \n",
      "Avg Training Stats after 216 global rounds:\n",
      "Training loss: 0.33 | Validation accuracy: 68.00% | Validation Demographic disparity: 0.0179\n",
      "\n",
      " | Global Training Round : 217 |\n",
      "\n"
     ]
    },
    {
     "name": "stderr",
     "output_type": "stream",
     "text": [
      " 73%|███████▎  | 218/300 [00:27<00:10,  7.97it/s]"
     ]
    },
    {
     "name": "stdout",
     "output_type": "stream",
     "text": [
      "Accuracy loss: 17.54 | fairness loss 70.42 | Demographic disparity = 0.02\n",
      " \n",
      "Avg Training Stats after 217 global rounds:\n",
      "Training loss: 0.33 | Validation accuracy: 68.00% | Validation Demographic disparity: 0.0179\n",
      "\n",
      " | Global Training Round : 218 |\n",
      "\n",
      "Accuracy loss: 17.55 | fairness loss 70.54 | Demographic disparity = 0.02\n",
      " \n",
      "Avg Training Stats after 218 global rounds:\n",
      "Training loss: 0.33 | Validation accuracy: 68.00% | Validation Demographic disparity: 0.0179\n",
      "\n",
      " | Global Training Round : 219 |\n",
      "\n"
     ]
    },
    {
     "name": "stderr",
     "output_type": "stream",
     "text": [
      " 73%|███████▎  | 220/300 [00:28<00:10,  7.67it/s]"
     ]
    },
    {
     "name": "stdout",
     "output_type": "stream",
     "text": [
      "Accuracy loss: 17.55 | fairness loss 70.65 | Demographic disparity = 0.02\n",
      " \n",
      "Avg Training Stats after 219 global rounds:\n",
      "Training loss: 0.33 | Validation accuracy: 68.00% | Validation Demographic disparity: 0.0179\n",
      "\n",
      " | Global Training Round : 220 |\n",
      "\n",
      "Accuracy loss: 17.56 | fairness loss 70.76 | Demographic disparity = 0.02\n",
      " \n",
      "Avg Training Stats after 220 global rounds:\n",
      "Training loss: 0.33 | Validation accuracy: 68.00% | Validation Demographic disparity: 0.0179\n",
      "\n",
      " | Global Training Round : 221 |\n",
      "\n"
     ]
    },
    {
     "name": "stderr",
     "output_type": "stream",
     "text": [
      " 74%|███████▍  | 222/300 [00:28<00:10,  7.69it/s]"
     ]
    },
    {
     "name": "stdout",
     "output_type": "stream",
     "text": [
      "Accuracy loss: 17.56 | fairness loss 70.87 | Demographic disparity = 0.02\n",
      " \n",
      "Avg Training Stats after 221 global rounds:\n",
      "Training loss: 0.33 | Validation accuracy: 68.00% | Validation Demographic disparity: 0.0179\n",
      "\n",
      " | Global Training Round : 222 |\n",
      "\n",
      "Accuracy loss: 17.57 | fairness loss 70.98 | Demographic disparity = 0.02\n",
      " \n",
      "Avg Training Stats after 222 global rounds:\n",
      "Training loss: 0.33 | Validation accuracy: 68.00% | Validation Demographic disparity: 0.0179\n",
      "\n",
      " | Global Training Round : 223 |\n",
      "\n"
     ]
    },
    {
     "name": "stderr",
     "output_type": "stream",
     "text": [
      " 75%|███████▍  | 224/300 [00:28<00:11,  6.75it/s]"
     ]
    },
    {
     "name": "stdout",
     "output_type": "stream",
     "text": [
      "Accuracy loss: 17.57 | fairness loss 71.09 | Demographic disparity = 0.02\n",
      " \n",
      "Avg Training Stats after 223 global rounds:\n",
      "Training loss: 0.33 | Validation accuracy: 68.00% | Validation Demographic disparity: 0.0179\n",
      "\n",
      " | Global Training Round : 224 |\n",
      "\n",
      "Accuracy loss: 17.58 | fairness loss 71.20 | Demographic disparity = 0.02\n",
      " \n",
      "Avg Training Stats after 224 global rounds:\n",
      "Training loss: 0.33 | Validation accuracy: 68.00% | Validation Demographic disparity: 0.0179\n",
      "\n",
      " | Global Training Round : 225 |\n",
      "\n"
     ]
    },
    {
     "name": "stderr",
     "output_type": "stream",
     "text": [
      "\r",
      " 75%|███████▌  | 225/300 [00:28<00:13,  5.68it/s]"
     ]
    },
    {
     "name": "stdout",
     "output_type": "stream",
     "text": [
      "Accuracy loss: 17.58 | fairness loss 71.30 | Demographic disparity = 0.02\n",
      " \n",
      "Avg Training Stats after 225 global rounds:\n",
      "Training loss: 0.33 | Validation accuracy: 68.00% | Validation Demographic disparity: 0.0179\n",
      "\n",
      " | Global Training Round : 226 |\n",
      "\n"
     ]
    },
    {
     "name": "stderr",
     "output_type": "stream",
     "text": [
      "\r",
      " 75%|███████▌  | 226/300 [00:29<00:15,  4.92it/s]"
     ]
    },
    {
     "name": "stdout",
     "output_type": "stream",
     "text": [
      "Accuracy loss: 17.59 | fairness loss 71.41 | Demographic disparity = 0.02\n",
      " \n",
      "Avg Training Stats after 226 global rounds:\n",
      "Training loss: 0.33 | Validation accuracy: 68.00% | Validation Demographic disparity: 0.0179\n",
      "\n",
      " | Global Training Round : 227 |\n",
      "\n"
     ]
    },
    {
     "name": "stderr",
     "output_type": "stream",
     "text": [
      "\r",
      " 76%|███████▌  | 227/300 [00:29<00:15,  4.69it/s]"
     ]
    },
    {
     "name": "stdout",
     "output_type": "stream",
     "text": [
      "Accuracy loss: 17.59 | fairness loss 71.51 | Demographic disparity = 0.02\n",
      " \n",
      "Avg Training Stats after 227 global rounds:\n",
      "Training loss: 0.33 | Validation accuracy: 68.33% | Validation Demographic disparity: 0.0213\n",
      "\n",
      " | Global Training Round : 228 |\n",
      "\n"
     ]
    },
    {
     "name": "stderr",
     "output_type": "stream",
     "text": [
      "\r",
      " 76%|███████▌  | 228/300 [00:29<00:16,  4.39it/s]"
     ]
    },
    {
     "name": "stdout",
     "output_type": "stream",
     "text": [
      "Accuracy loss: 17.60 | fairness loss 71.61 | Demographic disparity = 0.02\n",
      " \n",
      "Avg Training Stats after 228 global rounds:\n",
      "Training loss: 0.33 | Validation accuracy: 68.33% | Validation Demographic disparity: 0.0213\n",
      "\n",
      " | Global Training Round : 229 |\n",
      "\n"
     ]
    },
    {
     "name": "stderr",
     "output_type": "stream",
     "text": [
      "\r",
      " 76%|███████▋  | 229/300 [00:29<00:16,  4.42it/s]"
     ]
    },
    {
     "name": "stdout",
     "output_type": "stream",
     "text": [
      "Accuracy loss: 17.60 | fairness loss 71.71 | Demographic disparity = 0.02\n",
      " \n",
      "Avg Training Stats after 229 global rounds:\n",
      "Training loss: 0.33 | Validation accuracy: 68.33% | Validation Demographic disparity: 0.0213\n",
      "\n",
      " | Global Training Round : 230 |\n",
      "\n"
     ]
    },
    {
     "name": "stderr",
     "output_type": "stream",
     "text": [
      "\r",
      " 77%|███████▋  | 230/300 [00:30<00:22,  3.06it/s]"
     ]
    },
    {
     "name": "stdout",
     "output_type": "stream",
     "text": [
      "Accuracy loss: 17.60 | fairness loss 71.81 | Demographic disparity = 0.02\n",
      " \n",
      "Avg Training Stats after 230 global rounds:\n",
      "Training loss: 0.33 | Validation accuracy: 68.33% | Validation Demographic disparity: 0.0213\n",
      "\n",
      " | Global Training Round : 231 |\n",
      "\n"
     ]
    },
    {
     "name": "stderr",
     "output_type": "stream",
     "text": [
      "\r",
      " 77%|███████▋  | 231/300 [00:30<00:26,  2.60it/s]"
     ]
    },
    {
     "name": "stdout",
     "output_type": "stream",
     "text": [
      "Accuracy loss: 17.61 | fairness loss 71.91 | Demographic disparity = 0.02\n",
      " \n",
      "Avg Training Stats after 231 global rounds:\n",
      "Training loss: 0.33 | Validation accuracy: 68.33% | Validation Demographic disparity: 0.0213\n",
      "\n",
      " | Global Training Round : 232 |\n",
      "\n"
     ]
    },
    {
     "name": "stderr",
     "output_type": "stream",
     "text": [
      " 78%|███████▊  | 233/300 [00:31<00:19,  3.42it/s]"
     ]
    },
    {
     "name": "stdout",
     "output_type": "stream",
     "text": [
      "Accuracy loss: 17.61 | fairness loss 72.00 | Demographic disparity = 0.02\n",
      " \n",
      "Avg Training Stats after 232 global rounds:\n",
      "Training loss: 0.33 | Validation accuracy: 68.33% | Validation Demographic disparity: 0.0213\n",
      "\n",
      " | Global Training Round : 233 |\n",
      "\n",
      "Accuracy loss: 17.62 | fairness loss 72.10 | Demographic disparity = 0.02\n",
      " \n",
      "Avg Training Stats after 233 global rounds:\n",
      "Training loss: 0.33 | Validation accuracy: 68.33% | Validation Demographic disparity: 0.0213\n",
      "\n",
      " | Global Training Round : 234 |\n",
      "\n"
     ]
    },
    {
     "name": "stderr",
     "output_type": "stream",
     "text": [
      " 78%|███████▊  | 235/300 [00:31<00:14,  4.59it/s]"
     ]
    },
    {
     "name": "stdout",
     "output_type": "stream",
     "text": [
      "Accuracy loss: 17.62 | fairness loss 72.19 | Demographic disparity = 0.02\n",
      " \n",
      "Avg Training Stats after 234 global rounds:\n",
      "Training loss: 0.33 | Validation accuracy: 68.33% | Validation Demographic disparity: 0.0213\n",
      "\n",
      " | Global Training Round : 235 |\n",
      "\n",
      "Accuracy loss: 17.63 | fairness loss 72.28 | Demographic disparity = 0.02\n",
      " \n",
      "Avg Training Stats after 235 global rounds:\n",
      "Training loss: 0.33 | Validation accuracy: 68.33% | Validation Demographic disparity: 0.0213\n",
      "\n",
      " | Global Training Round : 236 |\n",
      "\n"
     ]
    },
    {
     "name": "stderr",
     "output_type": "stream",
     "text": [
      " 79%|███████▉  | 237/300 [00:32<00:12,  5.23it/s]"
     ]
    },
    {
     "name": "stdout",
     "output_type": "stream",
     "text": [
      "Accuracy loss: 17.63 | fairness loss 72.38 | Demographic disparity = 0.02\n",
      " \n",
      "Avg Training Stats after 236 global rounds:\n",
      "Training loss: 0.33 | Validation accuracy: 68.33% | Validation Demographic disparity: 0.0213\n",
      "\n",
      " | Global Training Round : 237 |\n",
      "\n",
      "Accuracy loss: 17.63 | fairness loss 72.47 | Demographic disparity = 0.02\n",
      " \n",
      "Avg Training Stats after 237 global rounds:\n",
      "Training loss: 0.33 | Validation accuracy: 68.33% | Validation Demographic disparity: 0.0213\n",
      "\n",
      " | Global Training Round : 238 |\n",
      "\n"
     ]
    },
    {
     "name": "stderr",
     "output_type": "stream",
     "text": [
      " 80%|███████▉  | 239/300 [00:32<00:10,  5.56it/s]"
     ]
    },
    {
     "name": "stdout",
     "output_type": "stream",
     "text": [
      "Accuracy loss: 17.64 | fairness loss 72.56 | Demographic disparity = 0.02\n",
      " \n",
      "Avg Training Stats after 238 global rounds:\n",
      "Training loss: 0.33 | Validation accuracy: 68.33% | Validation Demographic disparity: 0.0213\n",
      "\n",
      " | Global Training Round : 239 |\n",
      "\n",
      "Accuracy loss: 17.64 | fairness loss 72.64 | Demographic disparity = 0.02\n",
      " \n",
      "Avg Training Stats after 239 global rounds:\n",
      "Training loss: 0.33 | Validation accuracy: 68.33% | Validation Demographic disparity: 0.0213\n",
      "\n",
      " | Global Training Round : 240 |\n",
      "\n"
     ]
    },
    {
     "name": "stderr",
     "output_type": "stream",
     "text": [
      " 80%|████████  | 241/300 [00:32<00:09,  6.44it/s]"
     ]
    },
    {
     "name": "stdout",
     "output_type": "stream",
     "text": [
      "Accuracy loss: 17.64 | fairness loss 72.73 | Demographic disparity = 0.02\n",
      " \n",
      "Avg Training Stats after 240 global rounds:\n",
      "Training loss: 0.33 | Validation accuracy: 68.33% | Validation Demographic disparity: 0.0213\n",
      "\n",
      " | Global Training Round : 241 |\n",
      "\n",
      "Accuracy loss: 17.65 | fairness loss 72.81 | Demographic disparity = 0.02\n",
      " \n",
      "Avg Training Stats after 241 global rounds:\n",
      "Training loss: 0.33 | Validation accuracy: 68.33% | Validation Demographic disparity: 0.0213\n",
      "\n",
      " | Global Training Round : 242 |\n",
      "\n"
     ]
    },
    {
     "name": "stderr",
     "output_type": "stream",
     "text": [
      " 81%|████████  | 243/300 [00:32<00:08,  6.50it/s]"
     ]
    },
    {
     "name": "stdout",
     "output_type": "stream",
     "text": [
      "Accuracy loss: 17.65 | fairness loss 72.90 | Demographic disparity = 0.02\n",
      " \n",
      "Avg Training Stats after 242 global rounds:\n",
      "Training loss: 0.33 | Validation accuracy: 68.33% | Validation Demographic disparity: 0.0213\n",
      "\n",
      " | Global Training Round : 243 |\n",
      "\n",
      "Accuracy loss: 17.66 | fairness loss 72.98 | Demographic disparity = 0.02\n",
      " \n",
      "Avg Training Stats after 243 global rounds:\n",
      "Training loss: 0.33 | Validation accuracy: 68.33% | Validation Demographic disparity: 0.0213\n",
      "\n",
      " | Global Training Round : 244 |\n",
      "\n"
     ]
    },
    {
     "name": "stderr",
     "output_type": "stream",
     "text": [
      " 82%|████████▏ | 245/300 [00:33<00:08,  6.71it/s]"
     ]
    },
    {
     "name": "stdout",
     "output_type": "stream",
     "text": [
      "Accuracy loss: 17.66 | fairness loss 73.06 | Demographic disparity = 0.02\n",
      " \n",
      "Avg Training Stats after 244 global rounds:\n",
      "Training loss: 0.33 | Validation accuracy: 68.33% | Validation Demographic disparity: 0.0213\n",
      "\n",
      " | Global Training Round : 245 |\n",
      "\n",
      "Accuracy loss: 17.66 | fairness loss 73.15 | Demographic disparity = 0.02\n",
      " \n",
      "Avg Training Stats after 245 global rounds:\n",
      "Training loss: 0.33 | Validation accuracy: 68.33% | Validation Demographic disparity: 0.0213\n",
      "\n",
      " | Global Training Round : 246 |\n",
      "\n"
     ]
    },
    {
     "name": "stderr",
     "output_type": "stream",
     "text": [
      "\r",
      " 82%|████████▏ | 246/300 [00:33<00:08,  6.30it/s]"
     ]
    },
    {
     "name": "stdout",
     "output_type": "stream",
     "text": [
      "Accuracy loss: 17.67 | fairness loss 73.23 | Demographic disparity = 0.02\n",
      " \n",
      "Avg Training Stats after 246 global rounds:\n",
      "Training loss: 0.32 | Validation accuracy: 68.33% | Validation Demographic disparity: 0.0213\n",
      "\n",
      " | Global Training Round : 247 |\n",
      "\n"
     ]
    },
    {
     "name": "stderr",
     "output_type": "stream",
     "text": [
      " 83%|████████▎ | 248/300 [00:33<00:08,  6.04it/s]"
     ]
    },
    {
     "name": "stdout",
     "output_type": "stream",
     "text": [
      "Accuracy loss: 17.67 | fairness loss 73.30 | Demographic disparity = 0.02\n",
      " \n",
      "Avg Training Stats after 247 global rounds:\n",
      "Training loss: 0.32 | Validation accuracy: 68.33% | Validation Demographic disparity: 0.0213\n",
      "\n",
      " | Global Training Round : 248 |\n",
      "\n",
      "Accuracy loss: 17.67 | fairness loss 73.38 | Demographic disparity = 0.02\n",
      " \n",
      "Avg Training Stats after 248 global rounds:\n",
      "Training loss: 0.32 | Validation accuracy: 68.33% | Validation Demographic disparity: 0.0213\n",
      "\n",
      " | Global Training Round : 249 |\n",
      "\n"
     ]
    },
    {
     "name": "stderr",
     "output_type": "stream",
     "text": [
      " 83%|████████▎ | 250/300 [00:34<00:08,  6.24it/s]"
     ]
    },
    {
     "name": "stdout",
     "output_type": "stream",
     "text": [
      "Accuracy loss: 17.68 | fairness loss 73.46 | Demographic disparity = 0.02\n",
      " \n",
      "Avg Training Stats after 249 global rounds:\n",
      "Training loss: 0.32 | Validation accuracy: 68.33% | Validation Demographic disparity: 0.0213\n",
      "\n",
      " | Global Training Round : 250 |\n",
      "\n",
      "Accuracy loss: 17.68 | fairness loss 73.53 | Demographic disparity = 0.02\n",
      " \n",
      "Avg Training Stats after 250 global rounds:\n",
      "Training loss: 0.32 | Validation accuracy: 68.33% | Validation Demographic disparity: 0.0213\n",
      "\n",
      " | Global Training Round : 251 |\n",
      "\n"
     ]
    },
    {
     "name": "stderr",
     "output_type": "stream",
     "text": [
      " 84%|████████▍ | 252/300 [00:34<00:08,  5.54it/s]"
     ]
    },
    {
     "name": "stdout",
     "output_type": "stream",
     "text": [
      "Accuracy loss: 17.68 | fairness loss 73.61 | Demographic disparity = 0.02\n",
      " \n",
      "Avg Training Stats after 251 global rounds:\n",
      "Training loss: 0.32 | Validation accuracy: 68.33% | Validation Demographic disparity: 0.0213\n",
      "\n",
      " | Global Training Round : 252 |\n",
      "\n",
      "Accuracy loss: 17.69 | fairness loss 73.68 | Demographic disparity = 0.02\n",
      " \n",
      "Avg Training Stats after 252 global rounds:\n",
      "Training loss: 0.32 | Validation accuracy: 68.33% | Validation Demographic disparity: 0.0213\n",
      "\n",
      " | Global Training Round : 253 |\n",
      "\n"
     ]
    },
    {
     "name": "stderr",
     "output_type": "stream",
     "text": [
      " 85%|████████▍ | 254/300 [00:34<00:07,  5.98it/s]"
     ]
    },
    {
     "name": "stdout",
     "output_type": "stream",
     "text": [
      "Accuracy loss: 17.69 | fairness loss 73.75 | Demographic disparity = 0.02\n",
      " \n",
      "Avg Training Stats after 253 global rounds:\n",
      "Training loss: 0.32 | Validation accuracy: 68.33% | Validation Demographic disparity: 0.0213\n",
      "\n",
      " | Global Training Round : 254 |\n",
      "\n",
      "Accuracy loss: 17.69 | fairness loss 73.83 | Demographic disparity = 0.02\n",
      " \n",
      "Avg Training Stats after 254 global rounds:\n",
      "Training loss: 0.32 | Validation accuracy: 68.33% | Validation Demographic disparity: 0.0213\n",
      "\n",
      " | Global Training Round : 255 |\n",
      "\n"
     ]
    },
    {
     "name": "stderr",
     "output_type": "stream",
     "text": [
      " 85%|████████▌ | 256/300 [00:35<00:06,  6.54it/s]"
     ]
    },
    {
     "name": "stdout",
     "output_type": "stream",
     "text": [
      "Accuracy loss: 17.70 | fairness loss 73.90 | Demographic disparity = 0.02\n",
      " \n",
      "Avg Training Stats after 255 global rounds:\n",
      "Training loss: 0.32 | Validation accuracy: 68.33% | Validation Demographic disparity: 0.0213\n",
      "\n",
      " | Global Training Round : 256 |\n",
      "\n",
      "Accuracy loss: 17.70 | fairness loss 73.97 | Demographic disparity = 0.02\n",
      " \n",
      "Avg Training Stats after 256 global rounds:\n",
      "Training loss: 0.32 | Validation accuracy: 68.33% | Validation Demographic disparity: 0.0213\n",
      "\n",
      " | Global Training Round : 257 |\n",
      "\n"
     ]
    },
    {
     "name": "stderr",
     "output_type": "stream",
     "text": [
      "\r",
      " 86%|████████▌ | 257/300 [00:35<00:06,  6.69it/s]"
     ]
    },
    {
     "name": "stdout",
     "output_type": "stream",
     "text": [
      "Accuracy loss: 17.70 | fairness loss 74.03 | Demographic disparity = 0.02\n",
      " \n",
      "Avg Training Stats after 257 global rounds:\n",
      "Training loss: 0.32 | Validation accuracy: 68.33% | Validation Demographic disparity: 0.0213\n",
      "\n",
      " | Global Training Round : 258 |\n",
      "\n"
     ]
    },
    {
     "name": "stderr",
     "output_type": "stream",
     "text": [
      " 86%|████████▋ | 259/300 [00:35<00:07,  5.86it/s]"
     ]
    },
    {
     "name": "stdout",
     "output_type": "stream",
     "text": [
      "Accuracy loss: 17.71 | fairness loss 74.10 | Demographic disparity = 0.02\n",
      " \n",
      "Avg Training Stats after 258 global rounds:\n",
      "Training loss: 0.32 | Validation accuracy: 68.33% | Validation Demographic disparity: 0.0213\n",
      "\n",
      " | Global Training Round : 259 |\n",
      "\n",
      "Accuracy loss: 17.71 | fairness loss 74.17 | Demographic disparity = 0.02\n",
      " \n",
      "Avg Training Stats after 259 global rounds:\n",
      "Training loss: 0.32 | Validation accuracy: 68.33% | Validation Demographic disparity: 0.0213\n",
      "\n",
      " | Global Training Round : 260 |\n",
      "\n"
     ]
    },
    {
     "name": "stderr",
     "output_type": "stream",
     "text": [
      " 87%|████████▋ | 261/300 [00:35<00:06,  5.60it/s]"
     ]
    },
    {
     "name": "stdout",
     "output_type": "stream",
     "text": [
      "Accuracy loss: 17.71 | fairness loss 74.23 | Demographic disparity = 0.02\n",
      " \n",
      "Avg Training Stats after 260 global rounds:\n",
      "Training loss: 0.32 | Validation accuracy: 68.33% | Validation Demographic disparity: 0.0213\n",
      "\n",
      " | Global Training Round : 261 |\n",
      "\n",
      "Accuracy loss: 17.72 | fairness loss 74.30 | Demographic disparity = 0.02\n",
      " \n",
      "Avg Training Stats after 261 global rounds:\n",
      "Training loss: 0.32 | Validation accuracy: 68.33% | Validation Demographic disparity: 0.0213\n",
      "\n",
      " | Global Training Round : 262 |\n",
      "\n"
     ]
    },
    {
     "name": "stderr",
     "output_type": "stream",
     "text": [
      " 88%|████████▊ | 263/300 [00:36<00:05,  6.28it/s]"
     ]
    },
    {
     "name": "stdout",
     "output_type": "stream",
     "text": [
      "Accuracy loss: 17.72 | fairness loss 74.36 | Demographic disparity = 0.02\n",
      " \n",
      "Avg Training Stats after 262 global rounds:\n",
      "Training loss: 0.32 | Validation accuracy: 68.33% | Validation Demographic disparity: 0.0213\n",
      "\n",
      " | Global Training Round : 263 |\n",
      "\n",
      "Accuracy loss: 17.72 | fairness loss 74.42 | Demographic disparity = 0.02\n",
      " \n",
      "Avg Training Stats after 263 global rounds:\n",
      "Training loss: 0.32 | Validation accuracy: 68.33% | Validation Demographic disparity: 0.0213\n",
      "\n",
      " | Global Training Round : 264 |\n",
      "\n"
     ]
    },
    {
     "name": "stderr",
     "output_type": "stream",
     "text": [
      " 88%|████████▊ | 265/300 [00:36<00:05,  6.05it/s]"
     ]
    },
    {
     "name": "stdout",
     "output_type": "stream",
     "text": [
      "Accuracy loss: 17.72 | fairness loss 74.49 | Demographic disparity = 0.02\n",
      " \n",
      "Avg Training Stats after 264 global rounds:\n",
      "Training loss: 0.32 | Validation accuracy: 68.33% | Validation Demographic disparity: 0.0213\n",
      "\n",
      " | Global Training Round : 265 |\n",
      "\n",
      "Accuracy loss: 17.73 | fairness loss 74.55 | Demographic disparity = 0.02\n",
      " \n",
      "Avg Training Stats after 265 global rounds:\n",
      "Training loss: 0.32 | Validation accuracy: 68.33% | Validation Demographic disparity: 0.0213\n",
      "\n",
      " | Global Training Round : 266 |\n",
      "\n"
     ]
    },
    {
     "name": "stderr",
     "output_type": "stream",
     "text": [
      " 89%|████████▉ | 267/300 [00:36<00:04,  6.61it/s]"
     ]
    },
    {
     "name": "stdout",
     "output_type": "stream",
     "text": [
      "Accuracy loss: 17.73 | fairness loss 74.61 | Demographic disparity = 0.02\n",
      " \n",
      "Avg Training Stats after 266 global rounds:\n",
      "Training loss: 0.32 | Validation accuracy: 68.33% | Validation Demographic disparity: 0.0213\n",
      "\n",
      " | Global Training Round : 267 |\n",
      "\n",
      "Accuracy loss: 17.73 | fairness loss 74.67 | Demographic disparity = 0.02\n",
      " \n",
      "Avg Training Stats after 267 global rounds:\n",
      "Training loss: 0.32 | Validation accuracy: 68.33% | Validation Demographic disparity: 0.0213\n",
      "\n",
      " | Global Training Round : 268 |\n",
      "\n"
     ]
    },
    {
     "name": "stderr",
     "output_type": "stream",
     "text": [
      " 90%|████████▉ | 269/300 [00:37<00:04,  6.71it/s]"
     ]
    },
    {
     "name": "stdout",
     "output_type": "stream",
     "text": [
      "Accuracy loss: 17.74 | fairness loss 74.72 | Demographic disparity = 0.02\n",
      " \n",
      "Avg Training Stats after 268 global rounds:\n",
      "Training loss: 0.32 | Validation accuracy: 68.33% | Validation Demographic disparity: 0.0213\n",
      "\n",
      " | Global Training Round : 269 |\n",
      "\n",
      "Accuracy loss: 17.74 | fairness loss 74.78 | Demographic disparity = 0.02\n",
      " \n",
      "Avg Training Stats after 269 global rounds:\n",
      "Training loss: 0.32 | Validation accuracy: 68.00% | Validation Demographic disparity: 0.0152\n",
      "\n",
      " | Global Training Round : 270 |\n",
      "\n"
     ]
    },
    {
     "name": "stderr",
     "output_type": "stream",
     "text": [
      " 90%|█████████ | 271/300 [00:37<00:04,  6.61it/s]"
     ]
    },
    {
     "name": "stdout",
     "output_type": "stream",
     "text": [
      "Accuracy loss: 17.74 | fairness loss 74.84 | Demographic disparity = 0.02\n",
      " \n",
      "Avg Training Stats after 270 global rounds:\n",
      "Training loss: 0.32 | Validation accuracy: 68.00% | Validation Demographic disparity: 0.0152\n",
      "\n",
      " | Global Training Round : 271 |\n",
      "\n",
      "Accuracy loss: 17.74 | fairness loss 74.89 | Demographic disparity = 0.02\n",
      " \n",
      "Avg Training Stats after 271 global rounds:\n",
      "Training loss: 0.32 | Validation accuracy: 68.00% | Validation Demographic disparity: 0.0152\n",
      "\n",
      " | Global Training Round : 272 |\n",
      "\n"
     ]
    },
    {
     "name": "stderr",
     "output_type": "stream",
     "text": [
      " 91%|█████████ | 273/300 [00:37<00:04,  5.58it/s]"
     ]
    },
    {
     "name": "stdout",
     "output_type": "stream",
     "text": [
      "Accuracy loss: 17.75 | fairness loss 74.95 | Demographic disparity = 0.02\n",
      " \n",
      "Avg Training Stats after 272 global rounds:\n",
      "Training loss: 0.32 | Validation accuracy: 68.00% | Validation Demographic disparity: 0.0152\n",
      "\n",
      " | Global Training Round : 273 |\n",
      "\n",
      "Accuracy loss: 17.75 | fairness loss 75.00 | Demographic disparity = 0.02\n",
      " \n",
      "Avg Training Stats after 273 global rounds:\n",
      "Training loss: 0.32 | Validation accuracy: 68.00% | Validation Demographic disparity: 0.0152\n",
      "\n",
      " | Global Training Round : 274 |\n",
      "\n"
     ]
    },
    {
     "name": "stderr",
     "output_type": "stream",
     "text": [
      "\r",
      " 91%|█████████▏| 274/300 [00:38<00:05,  4.53it/s]"
     ]
    },
    {
     "name": "stdout",
     "output_type": "stream",
     "text": [
      "Accuracy loss: 17.75 | fairness loss 75.06 | Demographic disparity = 0.02\n",
      " \n",
      "Avg Training Stats after 274 global rounds:\n",
      "Training loss: 0.32 | Validation accuracy: 68.00% | Validation Demographic disparity: 0.0152\n",
      "\n",
      " | Global Training Round : 275 |\n",
      "\n"
     ]
    },
    {
     "name": "stderr",
     "output_type": "stream",
     "text": [
      " 92%|█████████▏| 276/300 [00:38<00:04,  4.94it/s]"
     ]
    },
    {
     "name": "stdout",
     "output_type": "stream",
     "text": [
      "Accuracy loss: 17.75 | fairness loss 75.11 | Demographic disparity = 0.02\n",
      " \n",
      "Avg Training Stats after 275 global rounds:\n",
      "Training loss: 0.32 | Validation accuracy: 68.00% | Validation Demographic disparity: 0.0152\n",
      "\n",
      " | Global Training Round : 276 |\n",
      "\n",
      "Accuracy loss: 17.76 | fairness loss 75.16 | Demographic disparity = 0.02\n",
      " \n",
      "Avg Training Stats after 276 global rounds:\n",
      "Training loss: 0.32 | Validation accuracy: 68.00% | Validation Demographic disparity: 0.0152\n",
      "\n",
      " | Global Training Round : 277 |\n",
      "\n"
     ]
    },
    {
     "name": "stderr",
     "output_type": "stream",
     "text": [
      "\r",
      " 92%|█████████▏| 277/300 [00:38<00:04,  5.19it/s]"
     ]
    },
    {
     "name": "stdout",
     "output_type": "stream",
     "text": [
      "Accuracy loss: 17.76 | fairness loss 75.21 | Demographic disparity = 0.02\n",
      " \n",
      "Avg Training Stats after 277 global rounds:\n",
      "Training loss: 0.32 | Validation accuracy: 68.00% | Validation Demographic disparity: 0.0152\n",
      "\n",
      " | Global Training Round : 278 |\n",
      "\n"
     ]
    },
    {
     "name": "stderr",
     "output_type": "stream",
     "text": [
      "\r",
      " 93%|█████████▎| 278/300 [00:39<00:04,  4.83it/s]"
     ]
    },
    {
     "name": "stdout",
     "output_type": "stream",
     "text": [
      "Accuracy loss: 17.76 | fairness loss 75.26 | Demographic disparity = 0.02\n",
      " \n",
      "Avg Training Stats after 278 global rounds:\n",
      "Training loss: 0.32 | Validation accuracy: 68.00% | Validation Demographic disparity: 0.0152\n",
      "\n",
      " | Global Training Round : 279 |\n",
      "\n"
     ]
    },
    {
     "name": "stderr",
     "output_type": "stream",
     "text": [
      "\r",
      " 93%|█████████▎| 279/300 [00:39<00:04,  4.82it/s]"
     ]
    },
    {
     "name": "stdout",
     "output_type": "stream",
     "text": [
      "Accuracy loss: 17.76 | fairness loss 75.31 | Demographic disparity = 0.02\n",
      " \n",
      "Avg Training Stats after 279 global rounds:\n",
      "Training loss: 0.32 | Validation accuracy: 68.00% | Validation Demographic disparity: 0.0152\n",
      "\n",
      " | Global Training Round : 280 |\n",
      "\n"
     ]
    },
    {
     "name": "stderr",
     "output_type": "stream",
     "text": [
      "\r",
      " 93%|█████████▎| 280/300 [00:39<00:07,  2.74it/s]"
     ]
    },
    {
     "name": "stdout",
     "output_type": "stream",
     "text": [
      "Accuracy loss: 17.76 | fairness loss 75.36 | Demographic disparity = 0.02\n",
      " \n",
      "Avg Training Stats after 280 global rounds:\n",
      "Training loss: 0.32 | Validation accuracy: 68.00% | Validation Demographic disparity: 0.0152\n",
      "\n",
      " | Global Training Round : 281 |\n",
      "\n"
     ]
    },
    {
     "name": "stderr",
     "output_type": "stream",
     "text": [
      "\r",
      " 94%|█████████▎| 281/300 [00:40<00:08,  2.14it/s]"
     ]
    },
    {
     "name": "stdout",
     "output_type": "stream",
     "text": [
      "Accuracy loss: 17.77 | fairness loss 75.41 | Demographic disparity = 0.02\n",
      " \n",
      "Avg Training Stats after 281 global rounds:\n",
      "Training loss: 0.32 | Validation accuracy: 68.00% | Validation Demographic disparity: 0.0152\n",
      "\n",
      " | Global Training Round : 282 |\n",
      "\n"
     ]
    },
    {
     "name": "stderr",
     "output_type": "stream",
     "text": [
      "\r",
      " 94%|█████████▍| 282/300 [00:41<00:09,  1.87it/s]"
     ]
    },
    {
     "name": "stdout",
     "output_type": "stream",
     "text": [
      "Accuracy loss: 17.77 | fairness loss 75.45 | Demographic disparity = 0.02\n",
      " \n",
      "Avg Training Stats after 282 global rounds:\n",
      "Training loss: 0.32 | Validation accuracy: 68.00% | Validation Demographic disparity: 0.0152\n",
      "\n",
      " | Global Training Round : 283 |\n",
      "\n"
     ]
    },
    {
     "name": "stderr",
     "output_type": "stream",
     "text": [
      "\r",
      " 94%|█████████▍| 283/300 [00:41<00:08,  1.90it/s]"
     ]
    },
    {
     "name": "stdout",
     "output_type": "stream",
     "text": [
      "Accuracy loss: 17.77 | fairness loss 75.50 | Demographic disparity = 0.02\n",
      " \n",
      "Avg Training Stats after 283 global rounds:\n",
      "Training loss: 0.32 | Validation accuracy: 68.00% | Validation Demographic disparity: 0.0152\n",
      "\n",
      " | Global Training Round : 284 |\n",
      "\n"
     ]
    },
    {
     "name": "stderr",
     "output_type": "stream",
     "text": [
      "\r",
      " 95%|█████████▍| 284/300 [00:42<00:08,  1.93it/s]"
     ]
    },
    {
     "name": "stdout",
     "output_type": "stream",
     "text": [
      "Accuracy loss: 17.77 | fairness loss 75.55 | Demographic disparity = 0.02\n",
      " \n",
      "Avg Training Stats after 284 global rounds:\n",
      "Training loss: 0.32 | Validation accuracy: 68.00% | Validation Demographic disparity: 0.0152\n",
      "\n",
      " | Global Training Round : 285 |\n",
      "\n"
     ]
    },
    {
     "name": "stderr",
     "output_type": "stream",
     "text": [
      "\r",
      " 95%|█████████▌| 285/300 [00:42<00:07,  1.97it/s]"
     ]
    },
    {
     "name": "stdout",
     "output_type": "stream",
     "text": [
      "Accuracy loss: 17.78 | fairness loss 75.59 | Demographic disparity = 0.02\n",
      " \n",
      "Avg Training Stats after 285 global rounds:\n",
      "Training loss: 0.32 | Validation accuracy: 68.00% | Validation Demographic disparity: 0.0152\n",
      "\n",
      " | Global Training Round : 286 |\n",
      "\n"
     ]
    },
    {
     "name": "stderr",
     "output_type": "stream",
     "text": [
      "\r",
      " 95%|█████████▌| 286/300 [00:43<00:06,  2.23it/s]"
     ]
    },
    {
     "name": "stdout",
     "output_type": "stream",
     "text": [
      "Accuracy loss: 17.78 | fairness loss 75.64 | Demographic disparity = 0.02\n",
      " \n",
      "Avg Training Stats after 286 global rounds:\n",
      "Training loss: 0.32 | Validation accuracy: 68.00% | Validation Demographic disparity: 0.0152\n",
      "\n",
      " | Global Training Round : 287 |\n",
      "\n"
     ]
    },
    {
     "name": "stderr",
     "output_type": "stream",
     "text": [
      "\r",
      " 96%|█████████▌| 287/300 [00:43<00:05,  2.23it/s]"
     ]
    },
    {
     "name": "stdout",
     "output_type": "stream",
     "text": [
      "Accuracy loss: 17.78 | fairness loss 75.68 | Demographic disparity = 0.02\n",
      " \n",
      "Avg Training Stats after 287 global rounds:\n",
      "Training loss: 0.32 | Validation accuracy: 68.00% | Validation Demographic disparity: 0.0152\n",
      "\n",
      " | Global Training Round : 288 |\n",
      "\n"
     ]
    },
    {
     "name": "stderr",
     "output_type": "stream",
     "text": [
      "\r",
      " 96%|█████████▌| 288/300 [00:44<00:05,  2.30it/s]"
     ]
    },
    {
     "name": "stdout",
     "output_type": "stream",
     "text": [
      "Accuracy loss: 17.78 | fairness loss 75.72 | Demographic disparity = 0.02\n",
      " \n",
      "Avg Training Stats after 288 global rounds:\n",
      "Training loss: 0.32 | Validation accuracy: 68.00% | Validation Demographic disparity: 0.0152\n",
      "\n",
      " | Global Training Round : 289 |\n",
      "\n"
     ]
    },
    {
     "name": "stderr",
     "output_type": "stream",
     "text": [
      "\r",
      " 96%|█████████▋| 289/300 [00:44<00:05,  2.12it/s]"
     ]
    },
    {
     "name": "stdout",
     "output_type": "stream",
     "text": [
      "Accuracy loss: 17.78 | fairness loss 75.77 | Demographic disparity = 0.02\n",
      " \n",
      "Avg Training Stats after 289 global rounds:\n",
      "Training loss: 0.32 | Validation accuracy: 68.00% | Validation Demographic disparity: 0.0152\n",
      "\n",
      " | Global Training Round : 290 |\n",
      "\n"
     ]
    },
    {
     "name": "stderr",
     "output_type": "stream",
     "text": [
      "\r",
      " 97%|█████████▋| 290/300 [00:45<00:05,  1.99it/s]"
     ]
    },
    {
     "name": "stdout",
     "output_type": "stream",
     "text": [
      "Accuracy loss: 17.79 | fairness loss 75.81 | Demographic disparity = 0.02\n",
      " \n",
      "Avg Training Stats after 290 global rounds:\n",
      "Training loss: 0.32 | Validation accuracy: 68.00% | Validation Demographic disparity: 0.0152\n",
      "\n",
      " | Global Training Round : 291 |\n",
      "\n"
     ]
    },
    {
     "name": "stderr",
     "output_type": "stream",
     "text": [
      "\r",
      " 97%|█████████▋| 291/300 [00:45<00:04,  2.11it/s]"
     ]
    },
    {
     "name": "stdout",
     "output_type": "stream",
     "text": [
      "Accuracy loss: 17.79 | fairness loss 75.85 | Demographic disparity = 0.02\n",
      " \n",
      "Avg Training Stats after 291 global rounds:\n",
      "Training loss: 0.32 | Validation accuracy: 68.00% | Validation Demographic disparity: 0.0152\n",
      "\n",
      " | Global Training Round : 292 |\n",
      "\n"
     ]
    },
    {
     "name": "stderr",
     "output_type": "stream",
     "text": [
      "\r",
      " 97%|█████████▋| 292/300 [00:46<00:03,  2.02it/s]"
     ]
    },
    {
     "name": "stdout",
     "output_type": "stream",
     "text": [
      "Accuracy loss: 17.79 | fairness loss 75.89 | Demographic disparity = 0.02\n",
      " \n",
      "Avg Training Stats after 292 global rounds:\n",
      "Training loss: 0.32 | Validation accuracy: 68.00% | Validation Demographic disparity: 0.0152\n",
      "\n",
      " | Global Training Round : 293 |\n",
      "\n"
     ]
    },
    {
     "name": "stderr",
     "output_type": "stream",
     "text": [
      "\r",
      " 98%|█████████▊| 293/300 [00:46<00:03,  2.09it/s]"
     ]
    },
    {
     "name": "stdout",
     "output_type": "stream",
     "text": [
      "Accuracy loss: 17.79 | fairness loss 75.93 | Demographic disparity = 0.02\n",
      " \n",
      "Avg Training Stats after 293 global rounds:\n",
      "Training loss: 0.32 | Validation accuracy: 68.00% | Validation Demographic disparity: 0.0152\n",
      "\n",
      " | Global Training Round : 294 |\n",
      "\n"
     ]
    },
    {
     "name": "stderr",
     "output_type": "stream",
     "text": [
      "\r",
      " 98%|█████████▊| 294/300 [00:46<00:02,  2.20it/s]"
     ]
    },
    {
     "name": "stdout",
     "output_type": "stream",
     "text": [
      "Accuracy loss: 17.79 | fairness loss 75.97 | Demographic disparity = 0.02\n",
      " \n",
      "Avg Training Stats after 294 global rounds:\n",
      "Training loss: 0.32 | Validation accuracy: 68.00% | Validation Demographic disparity: 0.0152\n",
      "\n",
      " | Global Training Round : 295 |\n",
      "\n"
     ]
    },
    {
     "name": "stderr",
     "output_type": "stream",
     "text": [
      "\r",
      " 98%|█████████▊| 295/300 [00:47<00:02,  2.38it/s]"
     ]
    },
    {
     "name": "stdout",
     "output_type": "stream",
     "text": [
      "Accuracy loss: 17.80 | fairness loss 76.01 | Demographic disparity = 0.02\n",
      " \n",
      "Avg Training Stats after 295 global rounds:\n",
      "Training loss: 0.32 | Validation accuracy: 68.00% | Validation Demographic disparity: 0.0152\n",
      "\n",
      " | Global Training Round : 296 |\n",
      "\n"
     ]
    },
    {
     "name": "stderr",
     "output_type": "stream",
     "text": [
      "\r",
      " 99%|█████████▊| 296/300 [00:47<00:01,  2.70it/s]"
     ]
    },
    {
     "name": "stdout",
     "output_type": "stream",
     "text": [
      "Accuracy loss: 17.80 | fairness loss 76.04 | Demographic disparity = 0.02\n",
      " \n",
      "Avg Training Stats after 296 global rounds:\n",
      "Training loss: 0.32 | Validation accuracy: 68.00% | Validation Demographic disparity: 0.0152\n",
      "\n",
      " | Global Training Round : 297 |\n",
      "\n"
     ]
    },
    {
     "name": "stderr",
     "output_type": "stream",
     "text": [
      "\r",
      " 99%|█████████▉| 297/300 [00:47<00:01,  2.60it/s]"
     ]
    },
    {
     "name": "stdout",
     "output_type": "stream",
     "text": [
      "Accuracy loss: 17.80 | fairness loss 76.08 | Demographic disparity = 0.02\n",
      " \n",
      "Avg Training Stats after 297 global rounds:\n",
      "Training loss: 0.32 | Validation accuracy: 68.00% | Validation Demographic disparity: 0.0152\n",
      "\n",
      " | Global Training Round : 298 |\n",
      "\n"
     ]
    },
    {
     "name": "stderr",
     "output_type": "stream",
     "text": [
      "\r",
      " 99%|█████████▉| 298/300 [00:48<00:00,  2.36it/s]"
     ]
    },
    {
     "name": "stdout",
     "output_type": "stream",
     "text": [
      "Accuracy loss: 17.80 | fairness loss 76.12 | Demographic disparity = 0.02\n",
      " \n",
      "Avg Training Stats after 298 global rounds:\n",
      "Training loss: 0.32 | Validation accuracy: 68.00% | Validation Demographic disparity: 0.0152\n",
      "\n",
      " | Global Training Round : 299 |\n",
      "\n",
      "Accuracy loss: 17.80 | fairness loss 76.15 | Demographic disparity = 0.02"
     ]
    },
    {
     "name": "stderr",
     "output_type": "stream",
     "text": [
      "100%|██████████| 300/300 [00:48<00:00,  6.15it/s]"
     ]
    },
    {
     "name": "stdout",
     "output_type": "stream",
     "text": [
      "\n",
      " \n",
      "Avg Training Stats after 299 global rounds:\n",
      "Training loss: 0.32 | Validation accuracy: 68.00% | Validation Demographic disparity: 0.0152\n",
      "\n",
      " | Global Training Round : 300 |\n",
      "\n",
      "Accuracy loss: 17.80 | fairness loss 76.19 | Demographic disparity = 0.02\n",
      " \n",
      "Avg Training Stats after 300 global rounds:\n",
      "Training loss: 0.32 | Validation accuracy: 68.00% | Validation Demographic disparity: 0.0152\n",
      " \n",
      " Results after 300 global rounds of training:\n",
      "|---- Avg Train Accuracy: 68.00%\n",
      "|---- Test Accuracy: 71.33%\n",
      "|---- Test Demographic disparity: 0.0281\n",
      "\n",
      " Total Run Time: 48.8135 sec\n"
     ]
    },
    {
     "name": "stderr",
     "output_type": "stream",
     "text": [
      "\n"
     ]
    }
   ],
   "source": [
    "server = Server(logReg(num_features=3, num_classes=2, seed = seed), synthetic_info, train_prn = False, seed = seed)\n",
    "server.BiasCorrecting(num_epochs = 300, optimizer = 'adam', epsilon = None, learning_rate = 0.002, alpha = 15)"
   ]
  },
  {
   "cell_type": "code",
   "execution_count": 4,
   "metadata": {},
   "outputs": [
    {
     "name": "stderr",
     "output_type": "stream",
     "text": [
      "\r",
      "  0%|          | 0/300 [00:00<?, ?it/s]"
     ]
    },
    {
     "name": "stdout",
     "output_type": "stream",
     "text": [
      "\n",
      " | Global Training Round : 1 |\n",
      "\n"
     ]
    },
    {
     "name": "stderr",
     "output_type": "stream",
     "text": [
      "  1%|          | 2/300 [00:00<01:00,  4.94it/s]"
     ]
    },
    {
     "name": "stdout",
     "output_type": "stream",
     "text": [
      "Accuracy loss: 74.56 | fairness loss 85.99 | Demographic disparity = 0.41\n",
      " \n",
      "Avg Training Stats after 1 global rounds:\n",
      "Training loss: 0.68 | Training accuracy: 73.96% | Training Demographic disparity: 0.4107\n",
      "\n",
      " | Global Training Round : 2 |\n",
      "\n",
      "Accuracy loss: 60.09 | fairness loss 84.77 | Demographic disparity = 0.45\n",
      " \n",
      "Avg Training Stats after 2 global rounds:\n",
      "Training loss: 0.65 | Training accuracy: 78.78% | Training Demographic disparity: 0.4501\n",
      "\n",
      " | Global Training Round : 3 |\n",
      "\n"
     ]
    },
    {
     "name": "stderr",
     "output_type": "stream",
     "text": [
      "  1%|▏         | 4/300 [00:00<00:55,  5.33it/s]"
     ]
    },
    {
     "name": "stdout",
     "output_type": "stream",
     "text": [
      "Accuracy loss: 49.17 | fairness loss 65.35 | Demographic disparity = 0.43\n",
      " \n",
      "Avg Training Stats after 3 global rounds:\n",
      "Training loss: 0.61 | Training accuracy: 82.33% | Training Demographic disparity: 0.4323\n",
      "\n",
      " | Global Training Round : 4 |\n",
      "\n",
      "Accuracy loss: 43.24 | fairness loss 59.90 | Demographic disparity = 0.41\n",
      " \n",
      "Avg Training Stats after 4 global rounds:\n",
      "Training loss: 0.57 | Training accuracy: 85.33% | Training Demographic disparity: 0.4148\n",
      "\n",
      " | Global Training Round : 5 |\n",
      "\n"
     ]
    },
    {
     "name": "stderr",
     "output_type": "stream",
     "text": [
      "  2%|▏         | 6/300 [00:01<00:53,  5.54it/s]"
     ]
    },
    {
     "name": "stdout",
     "output_type": "stream",
     "text": [
      "Accuracy loss: 40.69 | fairness loss 62.44 | Demographic disparity = 0.39\n",
      " \n",
      "Avg Training Stats after 5 global rounds:\n",
      "Training loss: 0.54 | Training accuracy: 86.63% | Training Demographic disparity: 0.3947\n",
      "\n",
      " | Global Training Round : 6 |\n",
      "\n",
      "Accuracy loss: 38.89 | fairness loss 74.02 | Demographic disparity = 0.38\n",
      " \n",
      "Avg Training Stats after 6 global rounds:\n",
      "Training loss: 0.52 | Training accuracy: 87.04% | Training Demographic disparity: 0.3806\n",
      "\n",
      " | Global Training Round : 7 |\n",
      "\n"
     ]
    },
    {
     "name": "stderr",
     "output_type": "stream",
     "text": [
      "  3%|▎         | 8/300 [00:01<00:51,  5.65it/s]"
     ]
    },
    {
     "name": "stdout",
     "output_type": "stream",
     "text": [
      "Accuracy loss: 38.25 | fairness loss 80.66 | Demographic disparity = 0.36\n",
      " \n",
      "Avg Training Stats after 7 global rounds:\n",
      "Training loss: 0.50 | Training accuracy: 87.11% | Training Demographic disparity: 0.3611\n",
      "\n",
      " | Global Training Round : 8 |\n",
      "\n",
      "Accuracy loss: 38.42 | fairness loss 82.59 | Demographic disparity = 0.34\n",
      " \n",
      "Avg Training Stats after 8 global rounds:\n",
      "Training loss: 0.48 | Training accuracy: 86.85% | Training Demographic disparity: 0.3416\n",
      "\n",
      " | Global Training Round : 9 |\n",
      "\n"
     ]
    },
    {
     "name": "stderr",
     "output_type": "stream",
     "text": [
      "  3%|▎         | 10/300 [00:01<00:51,  5.61it/s]"
     ]
    },
    {
     "name": "stdout",
     "output_type": "stream",
     "text": [
      "Accuracy loss: 38.12 | fairness loss 90.78 | Demographic disparity = 0.33\n",
      " \n",
      "Avg Training Stats after 9 global rounds:\n",
      "Training loss: 0.47 | Training accuracy: 87.07% | Training Demographic disparity: 0.3313\n",
      "\n",
      " | Global Training Round : 10 |\n",
      "\n",
      "Accuracy loss: 37.73 | fairness loss 96.49 | Demographic disparity = 0.33\n",
      " \n",
      "Avg Training Stats after 10 global rounds:\n",
      "Training loss: 0.46 | Training accuracy: 86.93% | Training Demographic disparity: 0.3296\n",
      "\n",
      " | Global Training Round : 11 |\n",
      "\n"
     ]
    },
    {
     "name": "stderr",
     "output_type": "stream",
     "text": [
      "\r",
      "  4%|▎         | 11/300 [00:02<00:54,  5.29it/s]"
     ]
    },
    {
     "name": "stdout",
     "output_type": "stream",
     "text": [
      "Accuracy loss: 38.28 | fairness loss 92.86 | Demographic disparity = 0.31\n",
      " \n",
      "Avg Training Stats after 11 global rounds:\n",
      "Training loss: 0.45 | Training accuracy: 86.96% | Training Demographic disparity: 0.3144\n",
      "\n",
      " | Global Training Round : 12 |\n",
      "\n"
     ]
    },
    {
     "name": "stderr",
     "output_type": "stream",
     "text": [
      "\r",
      "  4%|▍         | 12/300 [00:02<00:57,  5.02it/s]"
     ]
    },
    {
     "name": "stdout",
     "output_type": "stream",
     "text": [
      "Accuracy loss: 38.76 | fairness loss 93.14 | Demographic disparity = 0.30\n",
      " \n",
      "Avg Training Stats after 12 global rounds:\n",
      "Training loss: 0.45 | Training accuracy: 86.26% | Training Demographic disparity: 0.3014\n",
      "\n",
      " | Global Training Round : 13 |\n",
      "\n"
     ]
    },
    {
     "name": "stderr",
     "output_type": "stream",
     "text": [
      "\r",
      "  4%|▍         | 13/300 [00:02<00:58,  4.93it/s]"
     ]
    },
    {
     "name": "stdout",
     "output_type": "stream",
     "text": [
      "Accuracy loss: 38.23 | fairness loss 98.96 | Demographic disparity = 0.31\n",
      " \n",
      "Avg Training Stats after 13 global rounds:\n",
      "Training loss: 0.44 | Training accuracy: 86.59% | Training Demographic disparity: 0.3067\n",
      "\n",
      " | Global Training Round : 14 |\n",
      "\n"
     ]
    },
    {
     "name": "stderr",
     "output_type": "stream",
     "text": [
      "  5%|▌         | 15/300 [00:02<00:58,  4.89it/s]"
     ]
    },
    {
     "name": "stdout",
     "output_type": "stream",
     "text": [
      "Accuracy loss: 38.88 | fairness loss 97.50 | Demographic disparity = 0.29\n",
      " \n",
      "Avg Training Stats after 14 global rounds:\n",
      "Training loss: 0.43 | Training accuracy: 86.00% | Training Demographic disparity: 0.2889\n",
      "\n",
      " | Global Training Round : 15 |\n",
      "\n",
      "Accuracy loss: 39.16 | fairness loss 100.44 | Demographic disparity = 0.28\n",
      " \n",
      "Avg Training Stats after 15 global rounds:\n",
      "Training loss: 0.43 | Training accuracy: 85.78% | Training Demographic disparity: 0.2826\n",
      "\n",
      " | Global Training Round : 16 |\n",
      "\n"
     ]
    },
    {
     "name": "stderr",
     "output_type": "stream",
     "text": [
      "  6%|▌         | 17/300 [00:03<00:54,  5.17it/s]"
     ]
    },
    {
     "name": "stdout",
     "output_type": "stream",
     "text": [
      "Accuracy loss: 39.45 | fairness loss 100.60 | Demographic disparity = 0.28\n",
      " \n",
      "Avg Training Stats after 16 global rounds:\n",
      "Training loss: 0.42 | Training accuracy: 85.56% | Training Demographic disparity: 0.2789\n",
      "\n",
      " | Global Training Round : 17 |\n",
      "\n",
      "Accuracy loss: 39.90 | fairness loss 99.05 | Demographic disparity = 0.27\n",
      " \n",
      "Avg Training Stats after 17 global rounds:\n",
      "Training loss: 0.42 | Training accuracy: 85.37% | Training Demographic disparity: 0.2729\n",
      "\n",
      " | Global Training Round : 18 |\n",
      "\n"
     ]
    },
    {
     "name": "stderr",
     "output_type": "stream",
     "text": [
      "  6%|▋         | 19/300 [00:03<00:53,  5.27it/s]"
     ]
    },
    {
     "name": "stdout",
     "output_type": "stream",
     "text": [
      "Accuracy loss: 40.15 | fairness loss 99.47 | Demographic disparity = 0.27\n",
      " \n",
      "Avg Training Stats after 18 global rounds:\n",
      "Training loss: 0.42 | Training accuracy: 85.41% | Training Demographic disparity: 0.2673\n",
      "\n",
      " | Global Training Round : 19 |\n",
      "\n",
      "Accuracy loss: 40.94 | fairness loss 99.69 | Demographic disparity = 0.26\n",
      " \n",
      "Avg Training Stats after 19 global rounds:\n",
      "Training loss: 0.41 | Training accuracy: 84.93% | Training Demographic disparity: 0.2569\n",
      "\n",
      " | Global Training Round : 20 |\n",
      "\n"
     ]
    },
    {
     "name": "stderr",
     "output_type": "stream",
     "text": [
      "  7%|▋         | 21/300 [00:03<00:53,  5.26it/s]"
     ]
    },
    {
     "name": "stdout",
     "output_type": "stream",
     "text": [
      "Accuracy loss: 41.38 | fairness loss 99.34 | Demographic disparity = 0.25\n",
      " \n",
      "Avg Training Stats after 20 global rounds:\n",
      "Training loss: 0.41 | Training accuracy: 85.07% | Training Demographic disparity: 0.2514\n",
      "\n",
      " | Global Training Round : 21 |\n",
      "\n",
      "Accuracy loss: 41.86 | fairness loss 96.28 | Demographic disparity = 0.24\n",
      " \n",
      "Avg Training Stats after 21 global rounds:\n",
      "Training loss: 0.41 | Training accuracy: 84.52% | Training Demographic disparity: 0.2421\n",
      "\n",
      " | Global Training Round : 22 |\n",
      "\n"
     ]
    },
    {
     "name": "stderr",
     "output_type": "stream",
     "text": [
      "  8%|▊         | 23/300 [00:04<00:51,  5.37it/s]"
     ]
    },
    {
     "name": "stdout",
     "output_type": "stream",
     "text": [
      "Accuracy loss: 41.84 | fairness loss 99.46 | Demographic disparity = 0.24\n",
      " \n",
      "Avg Training Stats after 22 global rounds:\n",
      "Training loss: 0.41 | Training accuracy: 84.48% | Training Demographic disparity: 0.2428\n",
      "\n",
      " | Global Training Round : 23 |\n",
      "\n",
      "Accuracy loss: 42.34 | fairness loss 97.37 | Demographic disparity = 0.24\n",
      " \n",
      "Avg Training Stats after 23 global rounds:\n",
      "Training loss: 0.40 | Training accuracy: 84.52% | Training Demographic disparity: 0.2381\n",
      "\n",
      " | Global Training Round : 24 |\n",
      "\n"
     ]
    },
    {
     "name": "stderr",
     "output_type": "stream",
     "text": [
      "  8%|▊         | 25/300 [00:04<00:51,  5.36it/s]"
     ]
    },
    {
     "name": "stdout",
     "output_type": "stream",
     "text": [
      "Accuracy loss: 42.94 | fairness loss 95.43 | Demographic disparity = 0.23\n",
      " \n",
      "Avg Training Stats after 24 global rounds:\n",
      "Training loss: 0.40 | Training accuracy: 84.30% | Training Demographic disparity: 0.2306\n",
      "\n",
      " | Global Training Round : 25 |\n",
      "\n",
      "Accuracy loss: 42.82 | fairness loss 99.35 | Demographic disparity = 0.23\n",
      " \n",
      "Avg Training Stats after 25 global rounds:\n",
      "Training loss: 0.40 | Training accuracy: 84.33% | Training Demographic disparity: 0.2325\n",
      "\n",
      " | Global Training Round : 26 |\n",
      "\n"
     ]
    },
    {
     "name": "stderr",
     "output_type": "stream",
     "text": [
      "  9%|▉         | 27/300 [00:05<00:49,  5.48it/s]"
     ]
    },
    {
     "name": "stdout",
     "output_type": "stream",
     "text": [
      "Accuracy loss: 42.72 | fairness loss 103.19 | Demographic disparity = 0.23\n",
      " \n",
      "Avg Training Stats after 26 global rounds:\n",
      "Training loss: 0.40 | Training accuracy: 84.30% | Training Demographic disparity: 0.2322\n",
      "\n",
      " | Global Training Round : 27 |\n",
      "\n",
      "Accuracy loss: 43.23 | fairness loss 103.09 | Demographic disparity = 0.23\n",
      " \n",
      "Avg Training Stats after 27 global rounds:\n",
      "Training loss: 0.40 | Training accuracy: 84.15% | Training Demographic disparity: 0.2288\n",
      "\n",
      " | Global Training Round : 28 |\n",
      "\n"
     ]
    },
    {
     "name": "stderr",
     "output_type": "stream",
     "text": [
      " 10%|▉         | 29/300 [00:05<00:49,  5.53it/s]"
     ]
    },
    {
     "name": "stdout",
     "output_type": "stream",
     "text": [
      "Accuracy loss: 44.53 | fairness loss 96.45 | Demographic disparity = 0.22\n",
      " \n",
      "Avg Training Stats after 28 global rounds:\n",
      "Training loss: 0.39 | Training accuracy: 83.63% | Training Demographic disparity: 0.2158\n",
      "\n",
      " | Global Training Round : 29 |\n",
      "\n",
      "Accuracy loss: 44.51 | fairness loss 98.17 | Demographic disparity = 0.21\n",
      " \n",
      "Avg Training Stats after 29 global rounds:\n",
      "Training loss: 0.39 | Training accuracy: 83.67% | Training Demographic disparity: 0.2126\n",
      "\n",
      " | Global Training Round : 30 |\n",
      "\n"
     ]
    },
    {
     "name": "stderr",
     "output_type": "stream",
     "text": [
      " 10%|█         | 31/300 [00:05<00:47,  5.62it/s]"
     ]
    },
    {
     "name": "stdout",
     "output_type": "stream",
     "text": [
      "Accuracy loss: 44.26 | fairness loss 101.57 | Demographic disparity = 0.22\n",
      " \n",
      "Avg Training Stats after 30 global rounds:\n",
      "Training loss: 0.39 | Training accuracy: 84.11% | Training Demographic disparity: 0.2170\n",
      "\n",
      " | Global Training Round : 31 |\n",
      "\n",
      "Accuracy loss: 45.56 | fairness loss 93.20 | Demographic disparity = 0.20\n",
      " \n",
      "Avg Training Stats after 31 global rounds:\n",
      "Training loss: 0.39 | Training accuracy: 83.41% | Training Demographic disparity: 0.2044\n",
      "\n",
      " | Global Training Round : 32 |\n",
      "\n"
     ]
    },
    {
     "name": "stderr",
     "output_type": "stream",
     "text": [
      " 11%|█         | 33/300 [00:06<00:47,  5.62it/s]"
     ]
    },
    {
     "name": "stdout",
     "output_type": "stream",
     "text": [
      "Accuracy loss: 44.50 | fairness loss 105.59 | Demographic disparity = 0.22\n",
      " \n",
      "Avg Training Stats after 32 global rounds:\n",
      "Training loss: 0.39 | Training accuracy: 84.22% | Training Demographic disparity: 0.2176\n",
      "\n",
      " | Global Training Round : 33 |\n",
      "\n",
      "Accuracy loss: 45.19 | fairness loss 101.51 | Demographic disparity = 0.21\n",
      " \n",
      "Avg Training Stats after 33 global rounds:\n",
      "Training loss: 0.39 | Training accuracy: 83.63% | Training Demographic disparity: 0.2082\n",
      "\n",
      " | Global Training Round : 34 |\n",
      "\n"
     ]
    },
    {
     "name": "stderr",
     "output_type": "stream",
     "text": [
      " 12%|█▏        | 35/300 [00:06<00:47,  5.60it/s]"
     ]
    },
    {
     "name": "stdout",
     "output_type": "stream",
     "text": [
      "Accuracy loss: 45.65 | fairness loss 102.45 | Demographic disparity = 0.21\n",
      " \n",
      "Avg Training Stats after 34 global rounds:\n",
      "Training loss: 0.39 | Training accuracy: 83.63% | Training Demographic disparity: 0.2059\n",
      "\n",
      " | Global Training Round : 35 |\n",
      "\n",
      "Accuracy loss: 45.51 | fairness loss 103.58 | Demographic disparity = 0.21\n",
      " \n",
      "Avg Training Stats after 35 global rounds:\n",
      "Training loss: 0.39 | Training accuracy: 83.63% | Training Demographic disparity: 0.2069\n",
      "\n",
      " | Global Training Round : 36 |\n",
      "\n"
     ]
    },
    {
     "name": "stderr",
     "output_type": "stream",
     "text": [
      " 12%|█▏        | 37/300 [00:06<00:47,  5.57it/s]"
     ]
    },
    {
     "name": "stdout",
     "output_type": "stream",
     "text": [
      "Accuracy loss: 45.31 | fairness loss 107.46 | Demographic disparity = 0.21\n",
      " \n",
      "Avg Training Stats after 36 global rounds:\n",
      "Training loss: 0.38 | Training accuracy: 83.78% | Training Demographic disparity: 0.2096\n",
      "\n",
      " | Global Training Round : 37 |\n",
      "\n",
      "Accuracy loss: 46.55 | fairness loss 99.35 | Demographic disparity = 0.20\n",
      " \n",
      "Avg Training Stats after 37 global rounds:\n",
      "Training loss: 0.38 | Training accuracy: 83.30% | Training Demographic disparity: 0.1974\n",
      "\n",
      " | Global Training Round : 38 |\n",
      "\n"
     ]
    },
    {
     "name": "stderr",
     "output_type": "stream",
     "text": [
      " 13%|█▎        | 39/300 [00:07<00:46,  5.62it/s]"
     ]
    },
    {
     "name": "stdout",
     "output_type": "stream",
     "text": [
      "Accuracy loss: 46.72 | fairness loss 101.61 | Demographic disparity = 0.20\n",
      " \n",
      "Avg Training Stats after 38 global rounds:\n",
      "Training loss: 0.38 | Training accuracy: 83.07% | Training Demographic disparity: 0.1953\n",
      "\n",
      " | Global Training Round : 39 |\n",
      "\n",
      "Accuracy loss: 46.40 | fairness loss 105.76 | Demographic disparity = 0.20\n",
      " \n",
      "Avg Training Stats after 39 global rounds:\n",
      "Training loss: 0.38 | Training accuracy: 83.19% | Training Demographic disparity: 0.1972\n",
      "\n",
      " | Global Training Round : 40 |\n",
      "\n"
     ]
    },
    {
     "name": "stderr",
     "output_type": "stream",
     "text": [
      " 14%|█▎        | 41/300 [00:07<00:46,  5.51it/s]"
     ]
    },
    {
     "name": "stdout",
     "output_type": "stream",
     "text": [
      "Accuracy loss: 46.12 | fairness loss 105.69 | Demographic disparity = 0.20\n",
      " \n",
      "Avg Training Stats after 40 global rounds:\n",
      "Training loss: 0.38 | Training accuracy: 83.26% | Training Demographic disparity: 0.2007\n",
      "\n",
      " | Global Training Round : 41 |\n",
      "\n",
      "Accuracy loss: 46.77 | fairness loss 105.29 | Demographic disparity = 0.20\n",
      " \n",
      "Avg Training Stats after 41 global rounds:\n",
      "Training loss: 0.38 | Training accuracy: 83.30% | Training Demographic disparity: 0.1980\n",
      "\n",
      " | Global Training Round : 42 |\n",
      "\n"
     ]
    },
    {
     "name": "stderr",
     "output_type": "stream",
     "text": [
      " 14%|█▍        | 43/300 [00:07<00:47,  5.43it/s]"
     ]
    },
    {
     "name": "stdout",
     "output_type": "stream",
     "text": [
      "Accuracy loss: 46.76 | fairness loss 109.83 | Demographic disparity = 0.20\n",
      " \n",
      "Avg Training Stats after 42 global rounds:\n",
      "Training loss: 0.38 | Training accuracy: 83.26% | Training Demographic disparity: 0.1967\n",
      "\n",
      " | Global Training Round : 43 |\n",
      "\n",
      "Accuracy loss: 47.99 | fairness loss 101.58 | Demographic disparity = 0.18\n",
      " \n",
      "Avg Training Stats after 43 global rounds:\n",
      "Training loss: 0.38 | Training accuracy: 82.67% | Training Demographic disparity: 0.1813\n",
      "\n",
      " | Global Training Round : 44 |\n",
      "\n"
     ]
    },
    {
     "name": "stderr",
     "output_type": "stream",
     "text": [
      " 15%|█▌        | 45/300 [00:08<00:46,  5.45it/s]"
     ]
    },
    {
     "name": "stdout",
     "output_type": "stream",
     "text": [
      "Accuracy loss: 48.01 | fairness loss 102.98 | Demographic disparity = 0.18\n",
      " \n",
      "Avg Training Stats after 44 global rounds:\n",
      "Training loss: 0.38 | Training accuracy: 82.85% | Training Demographic disparity: 0.1845\n",
      "\n",
      " | Global Training Round : 45 |\n",
      "\n",
      "Accuracy loss: 48.02 | fairness loss 103.62 | Demographic disparity = 0.18\n",
      " \n",
      "Avg Training Stats after 45 global rounds:\n",
      "Training loss: 0.38 | Training accuracy: 82.78% | Training Demographic disparity: 0.1820\n",
      "\n",
      " | Global Training Round : 46 |\n",
      "\n"
     ]
    },
    {
     "name": "stderr",
     "output_type": "stream",
     "text": [
      " 16%|█▌        | 47/300 [00:08<00:48,  5.22it/s]"
     ]
    },
    {
     "name": "stdout",
     "output_type": "stream",
     "text": [
      "Accuracy loss: 47.74 | fairness loss 106.20 | Demographic disparity = 0.19\n",
      " \n",
      "Avg Training Stats after 46 global rounds:\n",
      "Training loss: 0.38 | Training accuracy: 83.00% | Training Demographic disparity: 0.1854\n",
      "\n",
      " | Global Training Round : 47 |\n",
      "\n",
      "Accuracy loss: 47.64 | fairness loss 107.94 | Demographic disparity = 0.19\n",
      " \n",
      "Avg Training Stats after 47 global rounds:\n",
      "Training loss: 0.37 | Training accuracy: 82.96% | Training Demographic disparity: 0.1861\n",
      "\n",
      " | Global Training Round : 48 |\n",
      "\n"
     ]
    },
    {
     "name": "stderr",
     "output_type": "stream",
     "text": [
      " 16%|█▋        | 49/300 [00:09<00:48,  5.18it/s]"
     ]
    },
    {
     "name": "stdout",
     "output_type": "stream",
     "text": [
      "Accuracy loss: 48.70 | fairness loss 107.28 | Demographic disparity = 0.17\n",
      " \n",
      "Avg Training Stats after 48 global rounds:\n",
      "Training loss: 0.37 | Training accuracy: 82.33% | Training Demographic disparity: 0.1744\n",
      "\n",
      " | Global Training Round : 49 |\n",
      "\n",
      "Accuracy loss: 48.28 | fairness loss 105.20 | Demographic disparity = 0.18\n",
      " \n",
      "Avg Training Stats after 49 global rounds:\n",
      "Training loss: 0.37 | Training accuracy: 82.63% | Training Demographic disparity: 0.1798\n",
      "\n",
      " | Global Training Round : 50 |\n",
      "\n"
     ]
    },
    {
     "name": "stderr",
     "output_type": "stream",
     "text": [
      "\r",
      " 17%|█▋        | 50/300 [00:09<00:50,  5.00it/s]"
     ]
    },
    {
     "name": "stdout",
     "output_type": "stream",
     "text": [
      "Accuracy loss: 48.45 | fairness loss 110.54 | Demographic disparity = 0.18\n",
      " \n",
      "Avg Training Stats after 50 global rounds:\n",
      "Training loss: 0.37 | Training accuracy: 82.67% | Training Demographic disparity: 0.1822\n",
      "\n",
      " | Global Training Round : 51 |\n",
      "\n",
      "Accuracy loss: 47.98 | fairness loss 111.87 | Demographic disparity = 0.18\n"
     ]
    },
    {
     "name": "stderr",
     "output_type": "stream",
     "text": [
      " 17%|█▋        | 52/300 [00:09<00:49,  5.05it/s]"
     ]
    },
    {
     "name": "stdout",
     "output_type": "stream",
     "text": [
      " \n",
      "Avg Training Stats after 51 global rounds:\n",
      "Training loss: 0.37 | Training accuracy: 82.96% | Training Demographic disparity: 0.1849\n",
      "\n",
      " | Global Training Round : 52 |\n",
      "\n",
      "Accuracy loss: 48.54 | fairness loss 109.43 | Demographic disparity = 0.18\n",
      " \n",
      "Avg Training Stats after 52 global rounds:\n",
      "Training loss: 0.37 | Training accuracy: 82.56% | Training Demographic disparity: 0.1777\n",
      "\n",
      " | Global Training Round : 53 |\n",
      "\n"
     ]
    },
    {
     "name": "stderr",
     "output_type": "stream",
     "text": [
      " 18%|█▊        | 54/300 [00:10<00:48,  5.08it/s]"
     ]
    },
    {
     "name": "stdout",
     "output_type": "stream",
     "text": [
      "Accuracy loss: 49.37 | fairness loss 105.86 | Demographic disparity = 0.17\n",
      " \n",
      "Avg Training Stats after 53 global rounds:\n",
      "Training loss: 0.37 | Training accuracy: 82.15% | Training Demographic disparity: 0.1713\n",
      "\n",
      " | Global Training Round : 54 |\n",
      "\n",
      "Accuracy loss: 49.59 | fairness loss 107.22 | Demographic disparity = 0.17\n",
      " \n",
      "Avg Training Stats after 54 global rounds:\n",
      "Training loss: 0.37 | Training accuracy: 82.26% | Training Demographic disparity: 0.1701\n",
      "\n",
      " | Global Training Round : 55 |\n",
      "\n"
     ]
    },
    {
     "name": "stderr",
     "output_type": "stream",
     "text": [
      " 19%|█▊        | 56/300 [00:10<00:47,  5.19it/s]"
     ]
    },
    {
     "name": "stdout",
     "output_type": "stream",
     "text": [
      "Accuracy loss: 48.37 | fairness loss 115.24 | Demographic disparity = 0.18\n",
      " \n",
      "Avg Training Stats after 55 global rounds:\n",
      "Training loss: 0.37 | Training accuracy: 82.70% | Training Demographic disparity: 0.1817\n",
      "\n",
      " | Global Training Round : 56 |\n",
      "\n",
      "Accuracy loss: 49.16 | fairness loss 113.00 | Demographic disparity = 0.18\n",
      " \n",
      "Avg Training Stats after 56 global rounds:\n",
      "Training loss: 0.37 | Training accuracy: 82.33% | Training Demographic disparity: 0.1759\n",
      "\n",
      " | Global Training Round : 57 |\n",
      "\n"
     ]
    },
    {
     "name": "stderr",
     "output_type": "stream",
     "text": [
      "\r",
      " 19%|█▉        | 57/300 [00:10<00:46,  5.23it/s]"
     ]
    },
    {
     "name": "stdout",
     "output_type": "stream",
     "text": [
      "Accuracy loss: 49.69 | fairness loss 112.52 | Demographic disparity = 0.17\n",
      " \n",
      "Avg Training Stats after 57 global rounds:\n",
      "Training loss: 0.37 | Training accuracy: 81.93% | Training Demographic disparity: 0.1690\n",
      "\n",
      " | Global Training Round : 58 |\n",
      "\n"
     ]
    },
    {
     "name": "stderr",
     "output_type": "stream",
     "text": [
      " 20%|█▉        | 59/300 [00:11<00:46,  5.17it/s]"
     ]
    },
    {
     "name": "stdout",
     "output_type": "stream",
     "text": [
      "Accuracy loss: 49.12 | fairness loss 114.14 | Demographic disparity = 0.18\n",
      " \n",
      "Avg Training Stats after 58 global rounds:\n",
      "Training loss: 0.37 | Training accuracy: 82.52% | Training Demographic disparity: 0.1763\n",
      "\n",
      " | Global Training Round : 59 |\n",
      "\n",
      "Accuracy loss: 50.36 | fairness loss 106.19 | Demographic disparity = 0.16\n",
      " \n",
      "Avg Training Stats after 59 global rounds:\n",
      "Training loss: 0.37 | Training accuracy: 81.89% | Training Demographic disparity: 0.1646\n",
      "\n",
      " | Global Training Round : 60 |\n",
      "\n"
     ]
    },
    {
     "name": "stderr",
     "output_type": "stream",
     "text": [
      " 20%|██        | 61/300 [00:11<00:46,  5.16it/s]"
     ]
    },
    {
     "name": "stdout",
     "output_type": "stream",
     "text": [
      "Accuracy loss: 49.53 | fairness loss 107.82 | Demographic disparity = 0.17\n",
      " \n",
      "Avg Training Stats after 60 global rounds:\n",
      "Training loss: 0.37 | Training accuracy: 82.15% | Training Demographic disparity: 0.1704\n",
      "\n",
      " | Global Training Round : 61 |\n",
      "\n",
      "Accuracy loss: 50.32 | fairness loss 106.52 | Demographic disparity = 0.17\n",
      " \n",
      "Avg Training Stats after 61 global rounds:\n",
      "Training loss: 0.37 | Training accuracy: 81.93% | Training Demographic disparity: 0.1656\n",
      "\n",
      " | Global Training Round : 62 |\n",
      "\n"
     ]
    },
    {
     "name": "stderr",
     "output_type": "stream",
     "text": [
      " 21%|██        | 63/300 [00:11<00:45,  5.26it/s]"
     ]
    },
    {
     "name": "stdout",
     "output_type": "stream",
     "text": [
      "Accuracy loss: 49.71 | fairness loss 108.53 | Demographic disparity = 0.17\n",
      " \n",
      "Avg Training Stats after 62 global rounds:\n",
      "Training loss: 0.37 | Training accuracy: 82.19% | Training Demographic disparity: 0.1716\n",
      "\n",
      " | Global Training Round : 63 |\n",
      "\n",
      "Accuracy loss: 49.95 | fairness loss 111.61 | Demographic disparity = 0.17\n",
      " \n",
      "Avg Training Stats after 63 global rounds:\n",
      "Training loss: 0.37 | Training accuracy: 82.22% | Training Demographic disparity: 0.1694\n",
      "\n",
      " | Global Training Round : 64 |\n",
      "\n"
     ]
    },
    {
     "name": "stderr",
     "output_type": "stream",
     "text": [
      " 22%|██▏       | 65/300 [00:12<00:44,  5.32it/s]"
     ]
    },
    {
     "name": "stdout",
     "output_type": "stream",
     "text": [
      "Accuracy loss: 50.96 | fairness loss 106.22 | Demographic disparity = 0.16\n",
      " \n",
      "Avg Training Stats after 64 global rounds:\n",
      "Training loss: 0.36 | Training accuracy: 81.74% | Training Demographic disparity: 0.1622\n",
      "\n",
      " | Global Training Round : 65 |\n",
      "\n",
      "Accuracy loss: 49.87 | fairness loss 114.34 | Demographic disparity = 0.17\n",
      " \n",
      "Avg Training Stats after 65 global rounds:\n",
      "Training loss: 0.36 | Training accuracy: 82.22% | Training Demographic disparity: 0.1712\n",
      "\n",
      " | Global Training Round : 66 |\n",
      "\n"
     ]
    },
    {
     "name": "stderr",
     "output_type": "stream",
     "text": [
      " 22%|██▏       | 67/300 [00:12<00:43,  5.36it/s]"
     ]
    },
    {
     "name": "stdout",
     "output_type": "stream",
     "text": [
      "Accuracy loss: 51.05 | fairness loss 112.74 | Demographic disparity = 0.16\n",
      " \n",
      "Avg Training Stats after 66 global rounds:\n",
      "Training loss: 0.36 | Training accuracy: 81.59% | Training Demographic disparity: 0.1610\n",
      "\n",
      " | Global Training Round : 67 |\n",
      "\n",
      "Accuracy loss: 51.49 | fairness loss 104.43 | Demographic disparity = 0.16\n",
      " \n",
      "Avg Training Stats after 67 global rounds:\n",
      "Training loss: 0.36 | Training accuracy: 81.41% | Training Demographic disparity: 0.1568\n",
      "\n",
      " | Global Training Round : 68 |\n",
      "\n"
     ]
    },
    {
     "name": "stderr",
     "output_type": "stream",
     "text": [
      " 23%|██▎       | 69/300 [00:12<00:43,  5.32it/s]"
     ]
    },
    {
     "name": "stdout",
     "output_type": "stream",
     "text": [
      "Accuracy loss: 50.95 | fairness loss 108.92 | Demographic disparity = 0.16\n",
      " \n",
      "Avg Training Stats after 68 global rounds:\n",
      "Training loss: 0.36 | Training accuracy: 81.70% | Training Demographic disparity: 0.1621\n",
      "\n",
      " | Global Training Round : 69 |\n",
      "\n",
      "Accuracy loss: 52.25 | fairness loss 106.85 | Demographic disparity = 0.15\n",
      " \n",
      "Avg Training Stats after 69 global rounds:\n",
      "Training loss: 0.36 | Training accuracy: 80.85% | Training Demographic disparity: 0.1483\n",
      "\n",
      " | Global Training Round : 70 |\n",
      "\n"
     ]
    },
    {
     "name": "stderr",
     "output_type": "stream",
     "text": [
      " 24%|██▎       | 71/300 [00:13<00:42,  5.33it/s]"
     ]
    },
    {
     "name": "stdout",
     "output_type": "stream",
     "text": [
      "Accuracy loss: 51.94 | fairness loss 108.16 | Demographic disparity = 0.15\n",
      " \n",
      "Avg Training Stats after 70 global rounds:\n",
      "Training loss: 0.36 | Training accuracy: 81.15% | Training Demographic disparity: 0.1509\n",
      "\n",
      " | Global Training Round : 71 |\n",
      "\n",
      "Accuracy loss: 52.12 | fairness loss 108.92 | Demographic disparity = 0.15\n",
      " \n",
      "Avg Training Stats after 71 global rounds:\n",
      "Training loss: 0.36 | Training accuracy: 80.96% | Training Demographic disparity: 0.1493\n",
      "\n",
      " | Global Training Round : 72 |\n",
      "\n"
     ]
    },
    {
     "name": "stderr",
     "output_type": "stream",
     "text": [
      " 24%|██▍       | 73/300 [00:13<00:47,  4.82it/s]"
     ]
    },
    {
     "name": "stdout",
     "output_type": "stream",
     "text": [
      "Accuracy loss: 51.41 | fairness loss 110.66 | Demographic disparity = 0.16\n",
      " \n",
      "Avg Training Stats after 72 global rounds:\n",
      "Training loss: 0.36 | Training accuracy: 81.67% | Training Demographic disparity: 0.1584\n",
      "\n",
      " | Global Training Round : 73 |\n",
      "\n",
      "Accuracy loss: 51.71 | fairness loss 108.57 | Demographic disparity = 0.16\n",
      " \n",
      "Avg Training Stats after 73 global rounds:\n",
      "Training loss: 0.36 | Training accuracy: 81.41% | Training Demographic disparity: 0.1573\n",
      "\n",
      " | Global Training Round : 74 |\n",
      "\n"
     ]
    },
    {
     "name": "stderr",
     "output_type": "stream",
     "text": [
      "\r",
      " 25%|██▍       | 74/300 [00:14<00:45,  4.93it/s]"
     ]
    },
    {
     "name": "stdout",
     "output_type": "stream",
     "text": [
      "Accuracy loss: 50.92 | fairness loss 115.61 | Demographic disparity = 0.16\n",
      " \n",
      "Avg Training Stats after 74 global rounds:\n",
      "Training loss: 0.36 | Training accuracy: 81.81% | Training Demographic disparity: 0.1649\n",
      "\n",
      " | Global Training Round : 75 |\n",
      "\n"
     ]
    },
    {
     "name": "stderr",
     "output_type": "stream",
     "text": [
      " 25%|██▌       | 76/300 [00:14<00:48,  4.66it/s]"
     ]
    },
    {
     "name": "stdout",
     "output_type": "stream",
     "text": [
      "Accuracy loss: 51.49 | fairness loss 116.58 | Demographic disparity = 0.16\n",
      " \n",
      "Avg Training Stats after 75 global rounds:\n",
      "Training loss: 0.36 | Training accuracy: 81.48% | Training Demographic disparity: 0.1585\n",
      "\n",
      " | Global Training Round : 76 |\n",
      "\n",
      "Accuracy loss: 51.80 | fairness loss 110.62 | Demographic disparity = 0.15\n",
      " \n",
      "Avg Training Stats after 76 global rounds:\n",
      "Training loss: 0.36 | Training accuracy: 81.41% | Training Demographic disparity: 0.1548\n",
      "\n",
      " | Global Training Round : 77 |\n",
      "\n"
     ]
    },
    {
     "name": "stderr",
     "output_type": "stream",
     "text": [
      " 26%|██▌       | 78/300 [00:14<00:44,  5.04it/s]"
     ]
    },
    {
     "name": "stdout",
     "output_type": "stream",
     "text": [
      "Accuracy loss: 53.20 | fairness loss 103.41 | Demographic disparity = 0.14\n",
      " \n",
      "Avg Training Stats after 77 global rounds:\n",
      "Training loss: 0.36 | Training accuracy: 80.44% | Training Demographic disparity: 0.1403\n",
      "\n",
      " | Global Training Round : 78 |\n",
      "\n",
      "Accuracy loss: 52.09 | fairness loss 110.26 | Demographic disparity = 0.15\n",
      " \n",
      "Avg Training Stats after 78 global rounds:\n",
      "Training loss: 0.36 | Training accuracy: 81.22% | Training Demographic disparity: 0.1524\n",
      "\n",
      " | Global Training Round : 79 |\n",
      "\n"
     ]
    },
    {
     "name": "stderr",
     "output_type": "stream",
     "text": [
      " 27%|██▋       | 80/300 [00:15<00:41,  5.25it/s]"
     ]
    },
    {
     "name": "stdout",
     "output_type": "stream",
     "text": [
      "Accuracy loss: 52.94 | fairness loss 106.89 | Demographic disparity = 0.14\n",
      " \n",
      "Avg Training Stats after 79 global rounds:\n",
      "Training loss: 0.36 | Training accuracy: 80.70% | Training Demographic disparity: 0.1438\n",
      "\n",
      " | Global Training Round : 80 |\n",
      "\n",
      "Accuracy loss: 52.67 | fairness loss 114.46 | Demographic disparity = 0.15\n",
      " \n",
      "Avg Training Stats after 80 global rounds:\n",
      "Training loss: 0.36 | Training accuracy: 80.85% | Training Demographic disparity: 0.1490\n",
      "\n",
      " | Global Training Round : 81 |\n",
      "\n"
     ]
    },
    {
     "name": "stderr",
     "output_type": "stream",
     "text": [
      " 27%|██▋       | 82/300 [00:15<00:40,  5.40it/s]"
     ]
    },
    {
     "name": "stdout",
     "output_type": "stream",
     "text": [
      "Accuracy loss: 52.09 | fairness loss 113.58 | Demographic disparity = 0.15\n",
      " \n",
      "Avg Training Stats after 81 global rounds:\n",
      "Training loss: 0.36 | Training accuracy: 81.30% | Training Demographic disparity: 0.1533\n",
      "\n",
      " | Global Training Round : 82 |\n",
      "\n",
      "Accuracy loss: 53.03 | fairness loss 106.16 | Demographic disparity = 0.14\n",
      " \n",
      "Avg Training Stats after 82 global rounds:\n",
      "Training loss: 0.36 | Training accuracy: 80.56% | Training Demographic disparity: 0.1419\n",
      "\n",
      " | Global Training Round : 83 |\n",
      "\n"
     ]
    },
    {
     "name": "stderr",
     "output_type": "stream",
     "text": [
      " 28%|██▊       | 84/300 [00:15<00:39,  5.50it/s]"
     ]
    },
    {
     "name": "stdout",
     "output_type": "stream",
     "text": [
      "Accuracy loss: 53.24 | fairness loss 108.56 | Demographic disparity = 0.14\n",
      " \n",
      "Avg Training Stats after 83 global rounds:\n",
      "Training loss: 0.36 | Training accuracy: 80.52% | Training Demographic disparity: 0.1397\n",
      "\n",
      " | Global Training Round : 84 |\n",
      "\n",
      "Accuracy loss: 52.89 | fairness loss 107.79 | Demographic disparity = 0.14\n",
      " \n",
      "Avg Training Stats after 84 global rounds:\n",
      "Training loss: 0.36 | Training accuracy: 80.70% | Training Demographic disparity: 0.1434\n",
      "\n",
      " | Global Training Round : 85 |\n",
      "\n"
     ]
    },
    {
     "name": "stderr",
     "output_type": "stream",
     "text": [
      " 29%|██▊       | 86/300 [00:16<00:38,  5.51it/s]"
     ]
    },
    {
     "name": "stdout",
     "output_type": "stream",
     "text": [
      "Accuracy loss: 51.66 | fairness loss 119.57 | Demographic disparity = 0.16\n",
      " \n",
      "Avg Training Stats after 85 global rounds:\n",
      "Training loss: 0.36 | Training accuracy: 81.44% | Training Demographic disparity: 0.1576\n",
      "\n",
      " | Global Training Round : 86 |\n",
      "\n",
      "Accuracy loss: 52.94 | fairness loss 112.67 | Demographic disparity = 0.15\n",
      " \n",
      "Avg Training Stats after 86 global rounds:\n",
      "Training loss: 0.36 | Training accuracy: 80.78% | Training Demographic disparity: 0.1450\n",
      "\n",
      " | Global Training Round : 87 |\n",
      "\n"
     ]
    },
    {
     "name": "stderr",
     "output_type": "stream",
     "text": [
      " 29%|██▉       | 88/300 [00:16<00:38,  5.45it/s]"
     ]
    },
    {
     "name": "stdout",
     "output_type": "stream",
     "text": [
      "Accuracy loss: 52.78 | fairness loss 118.73 | Demographic disparity = 0.15\n",
      " \n",
      "Avg Training Stats after 87 global rounds:\n",
      "Training loss: 0.36 | Training accuracy: 80.89% | Training Demographic disparity: 0.1467\n",
      "\n",
      " | Global Training Round : 88 |\n",
      "\n",
      "Accuracy loss: 52.23 | fairness loss 116.24 | Demographic disparity = 0.15\n",
      " \n",
      "Avg Training Stats after 88 global rounds:\n",
      "Training loss: 0.35 | Training accuracy: 81.22% | Training Demographic disparity: 0.1534\n",
      "\n",
      " | Global Training Round : 89 |\n",
      "\n"
     ]
    },
    {
     "name": "stderr",
     "output_type": "stream",
     "text": [
      " 30%|███       | 90/300 [00:17<00:39,  5.32it/s]"
     ]
    },
    {
     "name": "stdout",
     "output_type": "stream",
     "text": [
      "Accuracy loss: 53.49 | fairness loss 108.33 | Demographic disparity = 0.14\n",
      " \n",
      "Avg Training Stats after 89 global rounds:\n",
      "Training loss: 0.35 | Training accuracy: 80.33% | Training Demographic disparity: 0.1373\n",
      "\n",
      " | Global Training Round : 90 |\n",
      "\n",
      "Accuracy loss: 53.60 | fairness loss 115.13 | Demographic disparity = 0.14\n",
      " \n",
      "Avg Training Stats after 90 global rounds:\n",
      "Training loss: 0.35 | Training accuracy: 80.41% | Training Demographic disparity: 0.1386\n"
     ]
    },
    {
     "name": "stderr",
     "output_type": "stream",
     "text": [
      "\r",
      " 30%|███       | 91/300 [00:17<00:38,  5.38it/s]"
     ]
    },
    {
     "name": "stdout",
     "output_type": "stream",
     "text": [
      "\n",
      " | Global Training Round : 91 |\n",
      "\n",
      "Accuracy loss: 54.35 | fairness loss 105.08 | Demographic disparity = 0.13\n",
      " \n",
      "Avg Training Stats after 91 global rounds:\n",
      "Training loss: 0.35 | Training accuracy: 79.96% | Training Demographic disparity: 0.1283\n",
      "\n",
      " | Global Training Round : 92 |\n",
      "\n"
     ]
    },
    {
     "name": "stderr",
     "output_type": "stream",
     "text": [
      " 31%|███       | 93/300 [00:17<00:38,  5.44it/s]"
     ]
    },
    {
     "name": "stdout",
     "output_type": "stream",
     "text": [
      "Accuracy loss: 53.95 | fairness loss 108.57 | Demographic disparity = 0.13\n",
      " \n",
      "Avg Training Stats after 92 global rounds:\n",
      "Training loss: 0.35 | Training accuracy: 80.11% | Training Demographic disparity: 0.1331\n",
      "\n",
      " | Global Training Round : 93 |\n",
      "\n",
      "Accuracy loss: 52.97 | fairness loss 112.02 | Demographic disparity = 0.15\n",
      " \n",
      "Avg Training Stats after 93 global rounds:\n",
      "Training loss: 0.35 | Training accuracy: 80.85% | Training Demographic disparity: 0.1457\n",
      "\n",
      " | Global Training Round : 94 |\n",
      "\n"
     ]
    },
    {
     "name": "stderr",
     "output_type": "stream",
     "text": [
      " 32%|███▏      | 95/300 [00:17<00:37,  5.45it/s]"
     ]
    },
    {
     "name": "stdout",
     "output_type": "stream",
     "text": [
      "Accuracy loss: 54.25 | fairness loss 110.02 | Demographic disparity = 0.13\n",
      " \n",
      "Avg Training Stats after 94 global rounds:\n",
      "Training loss: 0.35 | Training accuracy: 80.07% | Training Demographic disparity: 0.1317\n",
      "\n",
      " | Global Training Round : 95 |\n",
      "\n",
      "Accuracy loss: 53.31 | fairness loss 113.28 | Demographic disparity = 0.14\n",
      " \n",
      "Avg Training Stats after 95 global rounds:\n",
      "Training loss: 0.35 | Training accuracy: 80.63% | Training Demographic disparity: 0.1423\n",
      "\n",
      " | Global Training Round : 96 |\n",
      "\n"
     ]
    },
    {
     "name": "stderr",
     "output_type": "stream",
     "text": [
      "\r",
      " 32%|███▏      | 96/300 [00:18<00:44,  4.59it/s]"
     ]
    },
    {
     "name": "stdout",
     "output_type": "stream",
     "text": [
      "Accuracy loss: 53.50 | fairness loss 111.94 | Demographic disparity = 0.14\n",
      " \n",
      "Avg Training Stats after 96 global rounds:\n",
      "Training loss: 0.35 | Training accuracy: 80.52% | Training Demographic disparity: 0.1393\n",
      "\n",
      " | Global Training Round : 97 |\n",
      "\n"
     ]
    },
    {
     "name": "stderr",
     "output_type": "stream",
     "text": [
      " 33%|███▎      | 98/300 [00:18<00:43,  4.63it/s]"
     ]
    },
    {
     "name": "stdout",
     "output_type": "stream",
     "text": [
      "Accuracy loss: 54.00 | fairness loss 107.87 | Demographic disparity = 0.13\n",
      " \n",
      "Avg Training Stats after 97 global rounds:\n",
      "Training loss: 0.35 | Training accuracy: 80.15% | Training Demographic disparity: 0.1328\n",
      "\n",
      " | Global Training Round : 98 |\n",
      "\n",
      "Accuracy loss: 54.60 | fairness loss 110.11 | Demographic disparity = 0.13\n",
      " \n",
      "Avg Training Stats after 98 global rounds:\n",
      "Training loss: 0.35 | Training accuracy: 79.78% | Training Demographic disparity: 0.1280\n",
      "\n",
      " | Global Training Round : 99 |\n",
      "\n"
     ]
    },
    {
     "name": "stderr",
     "output_type": "stream",
     "text": [
      "\r",
      " 33%|███▎      | 99/300 [00:18<00:41,  4.85it/s]"
     ]
    },
    {
     "name": "stdout",
     "output_type": "stream",
     "text": [
      "Accuracy loss: 54.87 | fairness loss 106.62 | Demographic disparity = 0.12\n",
      " \n",
      "Avg Training Stats after 99 global rounds:\n",
      "Training loss: 0.35 | Training accuracy: 79.63% | Training Demographic disparity: 0.1241\n",
      "\n",
      " | Global Training Round : 100 |\n",
      "\n"
     ]
    },
    {
     "name": "stderr",
     "output_type": "stream",
     "text": [
      "\r",
      " 33%|███▎      | 100/300 [00:19<00:48,  4.12it/s]"
     ]
    },
    {
     "name": "stdout",
     "output_type": "stream",
     "text": [
      "Accuracy loss: 53.38 | fairness loss 116.15 | Demographic disparity = 0.14\n",
      " \n",
      "Avg Training Stats after 100 global rounds:\n",
      "Training loss: 0.35 | Training accuracy: 80.56% | Training Demographic disparity: 0.1415\n",
      "\n",
      " | Global Training Round : 101 |\n",
      "\n"
     ]
    },
    {
     "name": "stderr",
     "output_type": "stream",
     "text": [
      "\r",
      " 34%|███▎      | 101/300 [00:19<00:47,  4.22it/s]"
     ]
    },
    {
     "name": "stdout",
     "output_type": "stream",
     "text": [
      "Accuracy loss: 54.62 | fairness loss 108.81 | Demographic disparity = 0.13\n",
      " \n",
      "Avg Training Stats after 101 global rounds:\n",
      "Training loss: 0.35 | Training accuracy: 79.89% | Training Demographic disparity: 0.1307\n",
      "\n",
      " | Global Training Round : 102 |\n",
      "\n"
     ]
    },
    {
     "name": "stderr",
     "output_type": "stream",
     "text": [
      "\r",
      " 34%|███▍      | 102/300 [00:20<01:15,  2.63it/s]"
     ]
    },
    {
     "name": "stdout",
     "output_type": "stream",
     "text": [
      "Accuracy loss: 54.74 | fairness loss 110.35 | Demographic disparity = 0.13\n",
      " \n",
      "Avg Training Stats after 102 global rounds:\n",
      "Training loss: 0.35 | Training accuracy: 79.78% | Training Demographic disparity: 0.1279\n",
      "\n",
      " | Global Training Round : 103 |\n",
      "\n"
     ]
    },
    {
     "name": "stderr",
     "output_type": "stream",
     "text": [
      "\r",
      " 34%|███▍      | 103/300 [00:20<01:11,  2.76it/s]"
     ]
    },
    {
     "name": "stdout",
     "output_type": "stream",
     "text": [
      "Accuracy loss: 54.43 | fairness loss 114.55 | Demographic disparity = 0.13\n",
      " \n",
      "Avg Training Stats after 103 global rounds:\n",
      "Training loss: 0.35 | Training accuracy: 79.93% | Training Demographic disparity: 0.1304\n",
      "\n",
      " | Global Training Round : 104 |\n",
      "\n"
     ]
    },
    {
     "name": "stderr",
     "output_type": "stream",
     "text": [
      "\r",
      " 35%|███▍      | 104/300 [00:20<01:03,  3.09it/s]"
     ]
    },
    {
     "name": "stdout",
     "output_type": "stream",
     "text": [
      "Accuracy loss: 55.40 | fairness loss 107.39 | Demographic disparity = 0.12\n",
      " \n",
      "Avg Training Stats after 104 global rounds:\n",
      "Training loss: 0.35 | Training accuracy: 79.52% | Training Demographic disparity: 0.1202\n",
      "\n",
      " | Global Training Round : 105 |\n",
      "\n"
     ]
    },
    {
     "name": "stderr",
     "output_type": "stream",
     "text": [
      "\r",
      " 35%|███▌      | 105/300 [00:20<00:59,  3.27it/s]"
     ]
    },
    {
     "name": "stdout",
     "output_type": "stream",
     "text": [
      "Accuracy loss: 56.11 | fairness loss 102.52 | Demographic disparity = 0.11\n",
      " \n",
      "Avg Training Stats after 105 global rounds:\n",
      "Training loss: 0.35 | Training accuracy: 79.15% | Training Demographic disparity: 0.1146\n",
      "\n",
      " | Global Training Round : 106 |\n",
      "\n"
     ]
    },
    {
     "name": "stderr",
     "output_type": "stream",
     "text": [
      "\r",
      " 35%|███▌      | 106/300 [00:21<00:57,  3.35it/s]"
     ]
    },
    {
     "name": "stdout",
     "output_type": "stream",
     "text": [
      "Accuracy loss: 54.44 | fairness loss 112.51 | Demographic disparity = 0.13\n",
      " \n",
      "Avg Training Stats after 106 global rounds:\n",
      "Training loss: 0.35 | Training accuracy: 79.89% | Training Demographic disparity: 0.1288\n",
      "\n",
      " | Global Training Round : 107 |\n",
      "\n"
     ]
    },
    {
     "name": "stderr",
     "output_type": "stream",
     "text": [
      "\r",
      " 36%|███▌      | 107/300 [00:21<00:57,  3.34it/s]"
     ]
    },
    {
     "name": "stdout",
     "output_type": "stream",
     "text": [
      "Accuracy loss: 54.91 | fairness loss 112.12 | Demographic disparity = 0.12\n",
      " \n",
      "Avg Training Stats after 107 global rounds:\n",
      "Training loss: 0.35 | Training accuracy: 79.63% | Training Demographic disparity: 0.1243\n",
      "\n",
      " | Global Training Round : 108 |\n",
      "\n"
     ]
    },
    {
     "name": "stderr",
     "output_type": "stream",
     "text": [
      "\r",
      " 36%|███▌      | 108/300 [00:21<00:55,  3.48it/s]"
     ]
    },
    {
     "name": "stdout",
     "output_type": "stream",
     "text": [
      "Accuracy loss: 56.65 | fairness loss 105.60 | Demographic disparity = 0.11\n",
      " \n",
      "Avg Training Stats after 108 global rounds:\n",
      "Training loss: 0.35 | Training accuracy: 78.81% | Training Demographic disparity: 0.1094\n",
      "\n",
      " | Global Training Round : 109 |\n",
      "\n"
     ]
    },
    {
     "name": "stderr",
     "output_type": "stream",
     "text": [
      " 37%|███▋      | 110/300 [00:22<00:47,  4.04it/s]"
     ]
    },
    {
     "name": "stdout",
     "output_type": "stream",
     "text": [
      "Accuracy loss: 54.85 | fairness loss 108.43 | Demographic disparity = 0.12\n",
      " \n",
      "Avg Training Stats after 109 global rounds:\n",
      "Training loss: 0.35 | Training accuracy: 79.70% | Training Demographic disparity: 0.1242\n",
      "\n",
      " | Global Training Round : 110 |\n",
      "\n",
      "Accuracy loss: 55.35 | fairness loss 107.48 | Demographic disparity = 0.12\n",
      " \n",
      "Avg Training Stats after 110 global rounds:\n",
      "Training loss: 0.35 | Training accuracy: 79.52% | Training Demographic disparity: 0.1207\n",
      "\n",
      " | Global Training Round : 111 |\n",
      "\n"
     ]
    },
    {
     "name": "stderr",
     "output_type": "stream",
     "text": [
      "\r",
      " 37%|███▋      | 111/300 [00:22<00:44,  4.22it/s]"
     ]
    },
    {
     "name": "stdout",
     "output_type": "stream",
     "text": [
      "Accuracy loss: 53.99 | fairness loss 110.41 | Demographic disparity = 0.14\n",
      " \n",
      "Avg Training Stats after 111 global rounds:\n",
      "Training loss: 0.35 | Training accuracy: 80.37% | Training Demographic disparity: 0.1356\n",
      "\n",
      " | Global Training Round : 112 |\n",
      "\n"
     ]
    },
    {
     "name": "stderr",
     "output_type": "stream",
     "text": [
      "\r",
      " 37%|███▋      | 112/300 [00:22<00:43,  4.35it/s]"
     ]
    },
    {
     "name": "stdout",
     "output_type": "stream",
     "text": [
      "Accuracy loss: 55.20 | fairness loss 113.19 | Demographic disparity = 0.12\n",
      " \n",
      "Avg Training Stats after 112 global rounds:\n",
      "Training loss: 0.35 | Training accuracy: 79.63% | Training Demographic disparity: 0.1247\n",
      "\n",
      " | Global Training Round : 113 |\n",
      "\n"
     ]
    },
    {
     "name": "stderr",
     "output_type": "stream",
     "text": [
      "\r",
      " 38%|███▊      | 113/300 [00:23<01:06,  2.83it/s]"
     ]
    },
    {
     "name": "stdout",
     "output_type": "stream",
     "text": [
      "Accuracy loss: 55.65 | fairness loss 108.59 | Demographic disparity = 0.12\n",
      " \n",
      "Avg Training Stats after 113 global rounds:\n",
      "Training loss: 0.35 | Training accuracy: 79.56% | Training Demographic disparity: 0.1212\n",
      "\n",
      " | Global Training Round : 114 |\n",
      "\n"
     ]
    },
    {
     "name": "stderr",
     "output_type": "stream",
     "text": [
      "\r",
      " 38%|███▊      | 114/300 [00:23<01:20,  2.30it/s]"
     ]
    },
    {
     "name": "stdout",
     "output_type": "stream",
     "text": [
      "Accuracy loss: 56.43 | fairness loss 103.48 | Demographic disparity = 0.11\n",
      " \n",
      "Avg Training Stats after 114 global rounds:\n",
      "Training loss: 0.35 | Training accuracy: 79.30% | Training Demographic disparity: 0.1149\n",
      "\n",
      " | Global Training Round : 115 |\n",
      "\n"
     ]
    },
    {
     "name": "stderr",
     "output_type": "stream",
     "text": [
      "\r",
      " 38%|███▊      | 115/300 [00:24<01:27,  2.11it/s]"
     ]
    },
    {
     "name": "stdout",
     "output_type": "stream",
     "text": [
      "Accuracy loss: 56.13 | fairness loss 103.01 | Demographic disparity = 0.11\n",
      " \n",
      "Avg Training Stats after 115 global rounds:\n",
      "Training loss: 0.35 | Training accuracy: 78.96% | Training Demographic disparity: 0.1139\n",
      "\n",
      " | Global Training Round : 116 |\n",
      "\n"
     ]
    },
    {
     "name": "stderr",
     "output_type": "stream",
     "text": [
      "\r",
      " 39%|███▊      | 116/300 [00:25<01:38,  1.87it/s]"
     ]
    },
    {
     "name": "stdout",
     "output_type": "stream",
     "text": [
      "Accuracy loss: 57.68 | fairness loss 95.77 | Demographic disparity = 0.10\n",
      " \n",
      "Avg Training Stats after 116 global rounds:\n",
      "Training loss: 0.35 | Training accuracy: 78.30% | Training Demographic disparity: 0.1001\n",
      "\n",
      " | Global Training Round : 117 |\n",
      "\n"
     ]
    },
    {
     "name": "stderr",
     "output_type": "stream",
     "text": [
      "\r",
      " 39%|███▉      | 117/300 [00:25<01:37,  1.87it/s]"
     ]
    },
    {
     "name": "stdout",
     "output_type": "stream",
     "text": [
      "Accuracy loss: 56.20 | fairness loss 106.06 | Demographic disparity = 0.11\n",
      " \n",
      "Avg Training Stats after 117 global rounds:\n",
      "Training loss: 0.35 | Training accuracy: 78.78% | Training Demographic disparity: 0.1110\n",
      "\n",
      " | Global Training Round : 118 |\n",
      "\n"
     ]
    },
    {
     "name": "stderr",
     "output_type": "stream",
     "text": [
      "\r",
      " 39%|███▉      | 118/300 [00:26<01:28,  2.07it/s]"
     ]
    },
    {
     "name": "stdout",
     "output_type": "stream",
     "text": [
      "Accuracy loss: 55.88 | fairness loss 107.43 | Demographic disparity = 0.12\n",
      " \n",
      "Avg Training Stats after 118 global rounds:\n",
      "Training loss: 0.35 | Training accuracy: 79.22% | Training Demographic disparity: 0.1170\n",
      "\n",
      " | Global Training Round : 119 |\n",
      "\n"
     ]
    },
    {
     "name": "stderr",
     "output_type": "stream",
     "text": [
      "\r",
      " 40%|███▉      | 119/300 [00:26<01:34,  1.93it/s]"
     ]
    },
    {
     "name": "stdout",
     "output_type": "stream",
     "text": [
      "Accuracy loss: 55.05 | fairness loss 116.61 | Demographic disparity = 0.13\n",
      " \n",
      "Avg Training Stats after 119 global rounds:\n",
      "Training loss: 0.35 | Training accuracy: 79.63% | Training Demographic disparity: 0.1262\n",
      "\n",
      " | Global Training Round : 120 |\n",
      "\n"
     ]
    },
    {
     "name": "stderr",
     "output_type": "stream",
     "text": [
      "\r",
      " 40%|████      | 120/300 [00:27<01:41,  1.77it/s]"
     ]
    },
    {
     "name": "stdout",
     "output_type": "stream",
     "text": [
      "Accuracy loss: 55.22 | fairness loss 114.12 | Demographic disparity = 0.12\n",
      " \n",
      "Avg Training Stats after 120 global rounds:\n",
      "Training loss: 0.35 | Training accuracy: 79.59% | Training Demographic disparity: 0.1239\n",
      "\n",
      " | Global Training Round : 121 |\n",
      "\n"
     ]
    },
    {
     "name": "stderr",
     "output_type": "stream",
     "text": [
      "\r",
      " 40%|████      | 121/300 [00:27<01:30,  1.98it/s]"
     ]
    },
    {
     "name": "stdout",
     "output_type": "stream",
     "text": [
      "Accuracy loss: 54.66 | fairness loss 114.32 | Demographic disparity = 0.13\n",
      " \n",
      "Avg Training Stats after 121 global rounds:\n",
      "Training loss: 0.35 | Training accuracy: 79.93% | Training Demographic disparity: 0.1302\n",
      "\n",
      " | Global Training Round : 122 |\n",
      "\n"
     ]
    },
    {
     "name": "stderr",
     "output_type": "stream",
     "text": [
      " 41%|████      | 123/300 [00:28<01:01,  2.88it/s]"
     ]
    },
    {
     "name": "stdout",
     "output_type": "stream",
     "text": [
      "Accuracy loss: 55.30 | fairness loss 113.14 | Demographic disparity = 0.12\n",
      " \n",
      "Avg Training Stats after 122 global rounds:\n",
      "Training loss: 0.35 | Training accuracy: 79.56% | Training Demographic disparity: 0.1237\n",
      "\n",
      " | Global Training Round : 123 |\n",
      "\n",
      "Accuracy loss: 56.33 | fairness loss 106.85 | Demographic disparity = 0.11\n",
      " \n",
      "Avg Training Stats after 123 global rounds:\n",
      "Training loss: 0.35 | Training accuracy: 78.93% | Training Demographic disparity: 0.1124\n",
      "\n",
      " | Global Training Round : 124 |\n",
      "\n"
     ]
    },
    {
     "name": "stderr",
     "output_type": "stream",
     "text": [
      " 42%|████▏     | 125/300 [00:28<00:46,  3.75it/s]"
     ]
    },
    {
     "name": "stdout",
     "output_type": "stream",
     "text": [
      "Accuracy loss: 55.74 | fairness loss 110.96 | Demographic disparity = 0.12\n",
      " \n",
      "Avg Training Stats after 124 global rounds:\n",
      "Training loss: 0.35 | Training accuracy: 79.33% | Training Demographic disparity: 0.1205\n",
      "\n",
      " | Global Training Round : 125 |\n",
      "\n",
      "Accuracy loss: 54.97 | fairness loss 110.36 | Demographic disparity = 0.13\n",
      " \n",
      "Avg Training Stats after 125 global rounds:\n",
      "Training loss: 0.35 | Training accuracy: 79.67% | Training Demographic disparity: 0.1255\n",
      "\n",
      " | Global Training Round : 126 |\n",
      "\n"
     ]
    },
    {
     "name": "stderr",
     "output_type": "stream",
     "text": [
      "\r",
      " 42%|████▏     | 126/300 [00:28<00:43,  3.96it/s]"
     ]
    },
    {
     "name": "stdout",
     "output_type": "stream",
     "text": [
      "Accuracy loss: 54.42 | fairness loss 115.43 | Demographic disparity = 0.13\n",
      " \n",
      "Avg Training Stats after 126 global rounds:\n",
      "Training loss: 0.35 | Training accuracy: 80.04% | Training Demographic disparity: 0.1339\n",
      "\n",
      " | Global Training Round : 127 |\n",
      "\n"
     ]
    },
    {
     "name": "stderr",
     "output_type": "stream",
     "text": [
      " 43%|████▎     | 128/300 [00:29<00:39,  4.37it/s]"
     ]
    },
    {
     "name": "stdout",
     "output_type": "stream",
     "text": [
      "Accuracy loss: 57.22 | fairness loss 109.08 | Demographic disparity = 0.11\n",
      " \n",
      "Avg Training Stats after 127 global rounds:\n",
      "Training loss: 0.35 | Training accuracy: 78.78% | Training Demographic disparity: 0.1079\n",
      "\n",
      " | Global Training Round : 128 |\n",
      "\n",
      "Accuracy loss: 56.39 | fairness loss 107.40 | Demographic disparity = 0.11\n",
      " \n",
      "Avg Training Stats after 128 global rounds:\n",
      "Training loss: 0.35 | Training accuracy: 79.00% | Training Demographic disparity: 0.1131\n",
      "\n",
      " | Global Training Round : 129 |\n",
      "\n"
     ]
    },
    {
     "name": "stderr",
     "output_type": "stream",
     "text": [
      " 43%|████▎     | 130/300 [00:29<00:35,  4.81it/s]"
     ]
    },
    {
     "name": "stdout",
     "output_type": "stream",
     "text": [
      "Accuracy loss: 56.88 | fairness loss 106.52 | Demographic disparity = 0.11\n",
      " \n",
      "Avg Training Stats after 129 global rounds:\n",
      "Training loss: 0.35 | Training accuracy: 78.78% | Training Demographic disparity: 0.1100\n",
      "\n",
      " | Global Training Round : 130 |\n",
      "\n",
      "Accuracy loss: 58.84 | fairness loss 105.13 | Demographic disparity = 0.09\n",
      " \n",
      "Avg Training Stats after 130 global rounds:\n",
      "Training loss: 0.35 | Training accuracy: 77.93% | Training Demographic disparity: 0.0939\n",
      "\n",
      " | Global Training Round : 131 |\n",
      "\n"
     ]
    },
    {
     "name": "stderr",
     "output_type": "stream",
     "text": [
      " 44%|████▍     | 132/300 [00:29<00:32,  5.10it/s]"
     ]
    },
    {
     "name": "stdout",
     "output_type": "stream",
     "text": [
      "Accuracy loss: 55.37 | fairness loss 110.22 | Demographic disparity = 0.12\n",
      " \n",
      "Avg Training Stats after 131 global rounds:\n",
      "Training loss: 0.34 | Training accuracy: 79.74% | Training Demographic disparity: 0.1240\n",
      "\n",
      " | Global Training Round : 132 |\n",
      "\n",
      "Accuracy loss: 57.59 | fairness loss 104.70 | Demographic disparity = 0.11\n",
      " \n",
      "Avg Training Stats after 132 global rounds:\n",
      "Training loss: 0.34 | Training accuracy: 78.81% | Training Demographic disparity: 0.1063\n",
      "\n",
      " | Global Training Round : 133 |\n",
      "\n"
     ]
    },
    {
     "name": "stderr",
     "output_type": "stream",
     "text": [
      " 45%|████▍     | 134/300 [00:30<00:32,  5.05it/s]"
     ]
    },
    {
     "name": "stdout",
     "output_type": "stream",
     "text": [
      "Accuracy loss: 55.05 | fairness loss 112.22 | Demographic disparity = 0.12\n",
      " \n",
      "Avg Training Stats after 133 global rounds:\n",
      "Training loss: 0.34 | Training accuracy: 79.67% | Training Demographic disparity: 0.1250\n",
      "\n",
      " | Global Training Round : 134 |\n",
      "\n",
      "Accuracy loss: 56.32 | fairness loss 111.50 | Demographic disparity = 0.12\n",
      " \n",
      "Avg Training Stats after 134 global rounds:\n",
      "Training loss: 0.34 | Training accuracy: 79.22% | Training Demographic disparity: 0.1166\n",
      "\n",
      " | Global Training Round : 135 |\n",
      "\n"
     ]
    },
    {
     "name": "stderr",
     "output_type": "stream",
     "text": [
      " 45%|████▌     | 136/300 [00:30<00:32,  5.11it/s]"
     ]
    },
    {
     "name": "stdout",
     "output_type": "stream",
     "text": [
      "Accuracy loss: 56.13 | fairness loss 109.38 | Demographic disparity = 0.12\n",
      " \n",
      "Avg Training Stats after 135 global rounds:\n",
      "Training loss: 0.34 | Training accuracy: 79.11% | Training Demographic disparity: 0.1163\n",
      "\n",
      " | Global Training Round : 136 |\n",
      "\n",
      "Accuracy loss: 57.38 | fairness loss 105.82 | Demographic disparity = 0.11\n",
      " \n",
      "Avg Training Stats after 136 global rounds:\n",
      "Training loss: 0.34 | Training accuracy: 78.56% | Training Demographic disparity: 0.1052\n",
      "\n",
      " | Global Training Round : 137 |\n",
      "\n"
     ]
    },
    {
     "name": "stderr",
     "output_type": "stream",
     "text": [
      " 46%|████▌     | 138/300 [00:31<00:31,  5.11it/s]"
     ]
    },
    {
     "name": "stdout",
     "output_type": "stream",
     "text": [
      "Accuracy loss: 56.06 | fairness loss 118.39 | Demographic disparity = 0.12\n",
      " \n",
      "Avg Training Stats after 137 global rounds:\n",
      "Training loss: 0.34 | Training accuracy: 79.30% | Training Demographic disparity: 0.1181\n",
      "\n",
      " | Global Training Round : 138 |\n",
      "\n",
      "Accuracy loss: 57.74 | fairness loss 106.04 | Demographic disparity = 0.11\n",
      " \n",
      "Avg Training Stats after 138 global rounds:\n",
      "Training loss: 0.34 | Training accuracy: 78.59% | Training Demographic disparity: 0.1054\n",
      "\n",
      " | Global Training Round : 139 |\n",
      "\n"
     ]
    },
    {
     "name": "stderr",
     "output_type": "stream",
     "text": [
      " 47%|████▋     | 140/300 [00:31<00:30,  5.24it/s]"
     ]
    },
    {
     "name": "stdout",
     "output_type": "stream",
     "text": [
      "Accuracy loss: 57.06 | fairness loss 114.41 | Demographic disparity = 0.11\n",
      " \n",
      "Avg Training Stats after 139 global rounds:\n",
      "Training loss: 0.34 | Training accuracy: 78.81% | Training Demographic disparity: 0.1106\n",
      "\n",
      " | Global Training Round : 140 |\n",
      "\n",
      "Accuracy loss: 57.28 | fairness loss 108.12 | Demographic disparity = 0.11\n",
      " \n",
      "Avg Training Stats after 140 global rounds:\n",
      "Training loss: 0.34 | Training accuracy: 78.74% | Training Demographic disparity: 0.1086\n",
      "\n",
      " | Global Training Round : 141 |\n",
      "\n"
     ]
    },
    {
     "name": "stderr",
     "output_type": "stream",
     "text": [
      " 47%|████▋     | 142/300 [00:31<00:29,  5.33it/s]"
     ]
    },
    {
     "name": "stdout",
     "output_type": "stream",
     "text": [
      "Accuracy loss: 56.06 | fairness loss 116.69 | Demographic disparity = 0.12\n",
      " \n",
      "Avg Training Stats after 141 global rounds:\n",
      "Training loss: 0.34 | Training accuracy: 79.41% | Training Demographic disparity: 0.1197\n",
      "\n",
      " | Global Training Round : 142 |\n",
      "\n",
      "Accuracy loss: 56.32 | fairness loss 110.88 | Demographic disparity = 0.12\n",
      " \n",
      "Avg Training Stats after 142 global rounds:\n",
      "Training loss: 0.34 | Training accuracy: 79.33% | Training Demographic disparity: 0.1185\n",
      "\n",
      " | Global Training Round : 143 |\n",
      "\n"
     ]
    },
    {
     "name": "stderr",
     "output_type": "stream",
     "text": [
      " 48%|████▊     | 144/300 [00:32<00:28,  5.39it/s]"
     ]
    },
    {
     "name": "stdout",
     "output_type": "stream",
     "text": [
      "Accuracy loss: 57.51 | fairness loss 106.29 | Demographic disparity = 0.11\n",
      " \n",
      "Avg Training Stats after 143 global rounds:\n",
      "Training loss: 0.34 | Training accuracy: 78.67% | Training Demographic disparity: 0.1064\n",
      "\n",
      " | Global Training Round : 144 |\n",
      "\n",
      "Accuracy loss: 57.37 | fairness loss 106.14 | Demographic disparity = 0.11\n",
      " \n",
      "Avg Training Stats after 144 global rounds:\n",
      "Training loss: 0.34 | Training accuracy: 78.59% | Training Demographic disparity: 0.1063\n",
      "\n",
      " | Global Training Round : 145 |\n",
      "\n"
     ]
    },
    {
     "name": "stderr",
     "output_type": "stream",
     "text": [
      " 49%|████▊     | 146/300 [00:32<00:28,  5.44it/s]"
     ]
    },
    {
     "name": "stdout",
     "output_type": "stream",
     "text": [
      "Accuracy loss: 56.84 | fairness loss 113.64 | Demographic disparity = 0.11\n",
      " \n",
      "Avg Training Stats after 145 global rounds:\n",
      "Training loss: 0.34 | Training accuracy: 79.07% | Training Demographic disparity: 0.1150\n",
      "\n",
      " | Global Training Round : 146 |\n",
      "\n",
      "Accuracy loss: 57.69 | fairness loss 107.38 | Demographic disparity = 0.10\n",
      " \n",
      "Avg Training Stats after 146 global rounds:\n",
      "Training loss: 0.34 | Training accuracy: 78.44% | Training Demographic disparity: 0.1030\n",
      "\n",
      " | Global Training Round : 147 |\n",
      "\n"
     ]
    },
    {
     "name": "stderr",
     "output_type": "stream",
     "text": [
      " 49%|████▉     | 148/300 [00:32<00:28,  5.39it/s]"
     ]
    },
    {
     "name": "stdout",
     "output_type": "stream",
     "text": [
      "Accuracy loss: 58.85 | fairness loss 104.38 | Demographic disparity = 0.10\n",
      " \n",
      "Avg Training Stats after 147 global rounds:\n",
      "Training loss: 0.34 | Training accuracy: 78.11% | Training Demographic disparity: 0.0963\n",
      "\n",
      " | Global Training Round : 148 |\n",
      "\n",
      "Accuracy loss: 58.07 | fairness loss 114.05 | Demographic disparity = 0.10\n",
      " \n",
      "Avg Training Stats after 148 global rounds:\n",
      "Training loss: 0.34 | Training accuracy: 78.56% | Training Demographic disparity: 0.1022\n",
      "\n",
      " | Global Training Round : 149 |\n",
      "\n"
     ]
    },
    {
     "name": "stderr",
     "output_type": "stream",
     "text": [
      " 50%|█████     | 150/300 [00:33<00:27,  5.36it/s]"
     ]
    },
    {
     "name": "stdout",
     "output_type": "stream",
     "text": [
      "Accuracy loss: 58.60 | fairness loss 110.49 | Demographic disparity = 0.10\n",
      " \n",
      "Avg Training Stats after 149 global rounds:\n",
      "Training loss: 0.34 | Training accuracy: 78.41% | Training Demographic disparity: 0.1010\n",
      "\n",
      " | Global Training Round : 150 |\n",
      "\n",
      "Accuracy loss: 58.92 | fairness loss 98.42 | Demographic disparity = 0.09\n",
      " \n",
      "Avg Training Stats after 150 global rounds:\n",
      "Training loss: 0.34 | Training accuracy: 77.78% | Training Demographic disparity: 0.0911\n",
      "\n",
      " | Global Training Round : 151 |\n",
      "\n"
     ]
    },
    {
     "name": "stderr",
     "output_type": "stream",
     "text": [
      " 51%|█████     | 152/300 [00:33<00:27,  5.32it/s]"
     ]
    },
    {
     "name": "stdout",
     "output_type": "stream",
     "text": [
      "Accuracy loss: 57.64 | fairness loss 106.15 | Demographic disparity = 0.11\n",
      " \n",
      "Avg Training Stats after 151 global rounds:\n",
      "Training loss: 0.34 | Training accuracy: 78.48% | Training Demographic disparity: 0.1052\n",
      "\n",
      " | Global Training Round : 152 |\n",
      "\n",
      "Accuracy loss: 57.73 | fairness loss 109.32 | Demographic disparity = 0.10\n",
      " \n",
      "Avg Training Stats after 152 global rounds:\n",
      "Training loss: 0.34 | Training accuracy: 78.56% | Training Demographic disparity: 0.1046\n",
      "\n",
      " | Global Training Round : 153 |\n",
      "\n"
     ]
    },
    {
     "name": "stderr",
     "output_type": "stream",
     "text": [
      "\r",
      " 51%|█████     | 153/300 [00:33<00:29,  5.03it/s]"
     ]
    },
    {
     "name": "stdout",
     "output_type": "stream",
     "text": [
      "Accuracy loss: 57.70 | fairness loss 107.17 | Demographic disparity = 0.10\n",
      " \n",
      "Avg Training Stats after 153 global rounds:\n",
      "Training loss: 0.34 | Training accuracy: 78.48% | Training Demographic disparity: 0.1048\n",
      "\n",
      " | Global Training Round : 154 |\n",
      "\n"
     ]
    },
    {
     "name": "stderr",
     "output_type": "stream",
     "text": [
      "\r",
      " 51%|█████▏    | 154/300 [00:34<00:30,  4.77it/s]"
     ]
    },
    {
     "name": "stdout",
     "output_type": "stream",
     "text": [
      "Accuracy loss: 59.97 | fairness loss 101.87 | Demographic disparity = 0.09\n",
      " \n",
      "Avg Training Stats after 154 global rounds:\n",
      "Training loss: 0.34 | Training accuracy: 77.59% | Training Demographic disparity: 0.0871\n",
      "\n",
      " | Global Training Round : 155 |\n",
      "\n"
     ]
    },
    {
     "name": "stderr",
     "output_type": "stream",
     "text": [
      " 52%|█████▏    | 156/300 [00:34<00:29,  4.86it/s]"
     ]
    },
    {
     "name": "stdout",
     "output_type": "stream",
     "text": [
      "Accuracy loss: 58.64 | fairness loss 102.75 | Demographic disparity = 0.09\n",
      " \n",
      "Avg Training Stats after 155 global rounds:\n",
      "Training loss: 0.34 | Training accuracy: 77.96% | Training Demographic disparity: 0.0945\n",
      "\n",
      " | Global Training Round : 156 |\n",
      "\n",
      "Accuracy loss: 59.57 | fairness loss 105.53 | Demographic disparity = 0.09\n",
      " \n",
      "Avg Training Stats after 156 global rounds:\n",
      "Training loss: 0.34 | Training accuracy: 77.85% | Training Demographic disparity: 0.0924\n",
      "\n",
      " | Global Training Round : 157 |\n",
      "\n"
     ]
    },
    {
     "name": "stderr",
     "output_type": "stream",
     "text": [
      "\r",
      " 52%|█████▏    | 157/300 [00:34<00:30,  4.75it/s]"
     ]
    },
    {
     "name": "stdout",
     "output_type": "stream",
     "text": [
      "Accuracy loss: 59.70 | fairness loss 105.93 | Demographic disparity = 0.09\n",
      " \n",
      "Avg Training Stats after 157 global rounds:\n",
      "Training loss: 0.34 | Training accuracy: 78.00% | Training Demographic disparity: 0.0947\n",
      "\n",
      " | Global Training Round : 158 |\n",
      "\n"
     ]
    },
    {
     "name": "stderr",
     "output_type": "stream",
     "text": [
      " 53%|█████▎    | 159/300 [00:35<00:28,  4.90it/s]"
     ]
    },
    {
     "name": "stdout",
     "output_type": "stream",
     "text": [
      "Accuracy loss: 57.18 | fairness loss 111.08 | Demographic disparity = 0.11\n",
      " \n",
      "Avg Training Stats after 158 global rounds:\n",
      "Training loss: 0.34 | Training accuracy: 78.96% | Training Demographic disparity: 0.1110\n",
      "\n",
      " | Global Training Round : 159 |\n",
      "\n",
      "Accuracy loss: 59.63 | fairness loss 103.94 | Demographic disparity = 0.09\n",
      " \n",
      "Avg Training Stats after 159 global rounds:\n",
      "Training loss: 0.34 | Training accuracy: 77.96% | Training Demographic disparity: 0.0907\n",
      "\n",
      " | Global Training Round : 160 |\n",
      "\n"
     ]
    },
    {
     "name": "stderr",
     "output_type": "stream",
     "text": [
      "\r",
      " 53%|█████▎    | 160/300 [00:35<00:28,  4.91it/s]"
     ]
    },
    {
     "name": "stdout",
     "output_type": "stream",
     "text": [
      "Accuracy loss: 57.65 | fairness loss 109.68 | Demographic disparity = 0.10\n",
      " \n",
      "Avg Training Stats after 160 global rounds:\n",
      "Training loss: 0.34 | Training accuracy: 78.48% | Training Demographic disparity: 0.1038\n",
      "\n",
      " | Global Training Round : 161 |\n",
      "\n"
     ]
    },
    {
     "name": "stderr",
     "output_type": "stream",
     "text": [
      "\r",
      " 54%|█████▎    | 161/300 [00:35<00:29,  4.66it/s]"
     ]
    },
    {
     "name": "stdout",
     "output_type": "stream",
     "text": [
      "Accuracy loss: 58.01 | fairness loss 107.96 | Demographic disparity = 0.10\n",
      " \n",
      "Avg Training Stats after 161 global rounds:\n",
      "Training loss: 0.34 | Training accuracy: 78.41% | Training Demographic disparity: 0.1026\n",
      "\n",
      " | Global Training Round : 162 |\n",
      "\n"
     ]
    },
    {
     "name": "stderr",
     "output_type": "stream",
     "text": [
      "\r",
      " 54%|█████▍    | 162/300 [00:35<00:31,  4.35it/s]"
     ]
    },
    {
     "name": "stdout",
     "output_type": "stream",
     "text": [
      "Accuracy loss: 59.46 | fairness loss 100.21 | Demographic disparity = 0.09\n",
      " \n",
      "Avg Training Stats after 162 global rounds:\n",
      "Training loss: 0.34 | Training accuracy: 77.70% | Training Demographic disparity: 0.0881\n",
      "\n",
      " | Global Training Round : 163 |\n",
      "\n"
     ]
    },
    {
     "name": "stderr",
     "output_type": "stream",
     "text": [
      " 55%|█████▍    | 164/300 [00:36<00:29,  4.66it/s]"
     ]
    },
    {
     "name": "stdout",
     "output_type": "stream",
     "text": [
      "Accuracy loss: 58.67 | fairness loss 102.39 | Demographic disparity = 0.09\n",
      " \n",
      "Avg Training Stats after 163 global rounds:\n",
      "Training loss: 0.34 | Training accuracy: 77.89% | Training Demographic disparity: 0.0934\n",
      "\n",
      " | Global Training Round : 164 |\n",
      "\n",
      "Accuracy loss: 58.41 | fairness loss 108.29 | Demographic disparity = 0.10\n",
      " \n",
      "Avg Training Stats after 164 global rounds:\n",
      "Training loss: 0.34 | Training accuracy: 78.26% | Training Demographic disparity: 0.1011\n",
      "\n",
      " | Global Training Round : 165 |\n",
      "\n"
     ]
    },
    {
     "name": "stderr",
     "output_type": "stream",
     "text": [
      " 55%|█████▌    | 166/300 [00:36<00:27,  4.83it/s]"
     ]
    },
    {
     "name": "stdout",
     "output_type": "stream",
     "text": [
      "Accuracy loss: 59.32 | fairness loss 107.31 | Demographic disparity = 0.10\n",
      " \n",
      "Avg Training Stats after 165 global rounds:\n",
      "Training loss: 0.34 | Training accuracy: 78.22% | Training Demographic disparity: 0.0969\n",
      "\n",
      " | Global Training Round : 166 |\n",
      "\n",
      "Accuracy loss: 58.08 | fairness loss 112.58 | Demographic disparity = 0.11\n",
      " \n",
      "Avg Training Stats after 166 global rounds:\n",
      "Training loss: 0.34 | Training accuracy: 78.52% | Training Demographic disparity: 0.1055\n",
      "\n",
      " | Global Training Round : 167 |\n",
      "\n"
     ]
    },
    {
     "name": "stderr",
     "output_type": "stream",
     "text": [
      "\r",
      " 56%|█████▌    | 167/300 [00:36<00:28,  4.74it/s]"
     ]
    },
    {
     "name": "stdout",
     "output_type": "stream",
     "text": [
      "Accuracy loss: 57.68 | fairness loss 110.64 | Demographic disparity = 0.11\n",
      " \n",
      "Avg Training Stats after 167 global rounds:\n",
      "Training loss: 0.34 | Training accuracy: 78.78% | Training Demographic disparity: 0.1096\n",
      "\n",
      " | Global Training Round : 168 |\n",
      "\n"
     ]
    },
    {
     "name": "stderr",
     "output_type": "stream",
     "text": [
      "\r",
      " 56%|█████▌    | 168/300 [00:37<00:28,  4.68it/s]"
     ]
    },
    {
     "name": "stdout",
     "output_type": "stream",
     "text": [
      "Accuracy loss: 59.17 | fairness loss 109.97 | Demographic disparity = 0.10\n",
      " \n",
      "Avg Training Stats after 168 global rounds:\n",
      "Training loss: 0.34 | Training accuracy: 78.00% | Training Demographic disparity: 0.0956\n",
      "\n",
      " | Global Training Round : 169 |\n",
      "\n"
     ]
    },
    {
     "name": "stderr",
     "output_type": "stream",
     "text": [
      "\r",
      " 56%|█████▋    | 169/300 [00:37<00:30,  4.37it/s]"
     ]
    },
    {
     "name": "stdout",
     "output_type": "stream",
     "text": [
      "Accuracy loss: 58.43 | fairness loss 112.09 | Demographic disparity = 0.10\n",
      " \n",
      "Avg Training Stats after 169 global rounds:\n",
      "Training loss: 0.34 | Training accuracy: 78.33% | Training Demographic disparity: 0.1008\n",
      "\n",
      " | Global Training Round : 170 |\n",
      "\n"
     ]
    },
    {
     "name": "stderr",
     "output_type": "stream",
     "text": [
      "\r",
      " 57%|█████▋    | 170/300 [00:37<00:32,  3.95it/s]"
     ]
    },
    {
     "name": "stdout",
     "output_type": "stream",
     "text": [
      "Accuracy loss: 57.91 | fairness loss 114.19 | Demographic disparity = 0.10\n",
      " \n",
      "Avg Training Stats after 170 global rounds:\n",
      "Training loss: 0.34 | Training accuracy: 78.41% | Training Demographic disparity: 0.1035\n",
      "\n",
      " | Global Training Round : 171 |\n",
      "\n"
     ]
    },
    {
     "name": "stderr",
     "output_type": "stream",
     "text": [
      "\r",
      " 57%|█████▋    | 171/300 [00:37<00:32,  3.95it/s]"
     ]
    },
    {
     "name": "stdout",
     "output_type": "stream",
     "text": [
      "Accuracy loss: 58.19 | fairness loss 109.90 | Demographic disparity = 0.11\n",
      " \n",
      "Avg Training Stats after 171 global rounds:\n",
      "Training loss: 0.34 | Training accuracy: 78.63% | Training Demographic disparity: 0.1051\n",
      "\n",
      " | Global Training Round : 172 |\n",
      "\n"
     ]
    },
    {
     "name": "stderr",
     "output_type": "stream",
     "text": [
      "\r",
      " 57%|█████▋    | 172/300 [00:38<00:32,  3.99it/s]"
     ]
    },
    {
     "name": "stdout",
     "output_type": "stream",
     "text": [
      "Accuracy loss: 59.19 | fairness loss 109.19 | Demographic disparity = 0.10\n",
      " \n",
      "Avg Training Stats after 172 global rounds:\n",
      "Training loss: 0.34 | Training accuracy: 78.15% | Training Demographic disparity: 0.0977\n",
      "\n",
      " | Global Training Round : 173 |\n",
      "\n"
     ]
    },
    {
     "name": "stderr",
     "output_type": "stream",
     "text": [
      "\r",
      " 58%|█████▊    | 173/300 [00:38<00:36,  3.49it/s]"
     ]
    },
    {
     "name": "stdout",
     "output_type": "stream",
     "text": [
      "Accuracy loss: 58.21 | fairness loss 112.37 | Demographic disparity = 0.11\n",
      " \n",
      "Avg Training Stats after 173 global rounds:\n",
      "Training loss: 0.34 | Training accuracy: 78.59% | Training Demographic disparity: 0.1052\n",
      "\n",
      " | Global Training Round : 174 |\n",
      "\n"
     ]
    },
    {
     "name": "stderr",
     "output_type": "stream",
     "text": [
      "\r",
      " 58%|█████▊    | 174/300 [00:38<00:38,  3.25it/s]"
     ]
    },
    {
     "name": "stdout",
     "output_type": "stream",
     "text": [
      "Accuracy loss: 58.86 | fairness loss 108.96 | Demographic disparity = 0.10\n",
      " \n",
      "Avg Training Stats after 174 global rounds:\n",
      "Training loss: 0.34 | Training accuracy: 78.07% | Training Demographic disparity: 0.0971\n",
      "\n",
      " | Global Training Round : 175 |\n",
      "\n"
     ]
    },
    {
     "name": "stderr",
     "output_type": "stream",
     "text": [
      "\r",
      " 58%|█████▊    | 175/300 [00:39<00:35,  3.54it/s]"
     ]
    },
    {
     "name": "stdout",
     "output_type": "stream",
     "text": [
      "Accuracy loss: 59.05 | fairness loss 111.22 | Demographic disparity = 0.10\n",
      " \n",
      "Avg Training Stats after 175 global rounds:\n",
      "Training loss: 0.34 | Training accuracy: 78.04% | Training Demographic disparity: 0.0953\n",
      "\n",
      " | Global Training Round : 176 |\n",
      "\n"
     ]
    },
    {
     "name": "stderr",
     "output_type": "stream",
     "text": [
      "\r",
      " 59%|█████▊    | 176/300 [00:39<00:45,  2.71it/s]"
     ]
    },
    {
     "name": "stdout",
     "output_type": "stream",
     "text": [
      "Accuracy loss: 61.12 | fairness loss 100.02 | Demographic disparity = 0.08\n",
      " \n",
      "Avg Training Stats after 176 global rounds:\n",
      "Training loss: 0.34 | Training accuracy: 76.85% | Training Demographic disparity: 0.0754\n",
      "\n",
      " | Global Training Round : 177 |\n",
      "\n"
     ]
    },
    {
     "name": "stderr",
     "output_type": "stream",
     "text": [
      "\r",
      " 59%|█████▉    | 177/300 [00:40<00:52,  2.33it/s]"
     ]
    },
    {
     "name": "stdout",
     "output_type": "stream",
     "text": [
      "Accuracy loss: 57.50 | fairness loss 113.55 | Demographic disparity = 0.11\n",
      " \n",
      "Avg Training Stats after 177 global rounds:\n",
      "Training loss: 0.34 | Training accuracy: 78.85% | Training Demographic disparity: 0.1121\n",
      "\n",
      " | Global Training Round : 178 |\n",
      "\n"
     ]
    },
    {
     "name": "stderr",
     "output_type": "stream",
     "text": [
      "\r",
      " 59%|█████▉    | 178/300 [00:40<00:47,  2.54it/s]"
     ]
    },
    {
     "name": "stdout",
     "output_type": "stream",
     "text": [
      "Accuracy loss: 58.45 | fairness loss 112.92 | Demographic disparity = 0.10\n",
      " \n",
      "Avg Training Stats after 178 global rounds:\n",
      "Training loss: 0.34 | Training accuracy: 78.30% | Training Demographic disparity: 0.1004\n",
      "\n",
      " | Global Training Round : 179 |\n",
      "\n"
     ]
    },
    {
     "name": "stderr",
     "output_type": "stream",
     "text": [
      "\r",
      " 60%|█████▉    | 179/300 [00:40<00:41,  2.91it/s]"
     ]
    },
    {
     "name": "stdout",
     "output_type": "stream",
     "text": [
      "Accuracy loss: 60.22 | fairness loss 99.54 | Demographic disparity = 0.08\n",
      " \n",
      "Avg Training Stats after 179 global rounds:\n",
      "Training loss: 0.34 | Training accuracy: 77.22% | Training Demographic disparity: 0.0822\n",
      "\n",
      " | Global Training Round : 180 |\n",
      "\n"
     ]
    },
    {
     "name": "stderr",
     "output_type": "stream",
     "text": [
      "\r",
      " 60%|██████    | 180/300 [00:41<00:36,  3.29it/s]"
     ]
    },
    {
     "name": "stdout",
     "output_type": "stream",
     "text": [
      "Accuracy loss: 59.86 | fairness loss 102.50 | Demographic disparity = 0.09\n",
      " \n",
      "Avg Training Stats after 180 global rounds:\n",
      "Training loss: 0.34 | Training accuracy: 77.48% | Training Demographic disparity: 0.0861\n",
      "\n",
      " | Global Training Round : 181 |\n",
      "\n"
     ]
    },
    {
     "name": "stderr",
     "output_type": "stream",
     "text": [
      "\r",
      " 60%|██████    | 181/300 [00:41<00:40,  2.96it/s]"
     ]
    },
    {
     "name": "stdout",
     "output_type": "stream",
     "text": [
      "Accuracy loss: 59.87 | fairness loss 102.87 | Demographic disparity = 0.09\n",
      " \n",
      "Avg Training Stats after 181 global rounds:\n",
      "Training loss: 0.34 | Training accuracy: 77.67% | Training Demographic disparity: 0.0892\n",
      "\n",
      " | Global Training Round : 182 |\n",
      "\n"
     ]
    },
    {
     "name": "stderr",
     "output_type": "stream",
     "text": [
      "\r",
      " 61%|██████    | 182/300 [00:41<00:39,  3.02it/s]"
     ]
    },
    {
     "name": "stdout",
     "output_type": "stream",
     "text": [
      "Accuracy loss: 61.11 | fairness loss 104.55 | Demographic disparity = 0.08\n",
      " \n",
      "Avg Training Stats after 182 global rounds:\n",
      "Training loss: 0.34 | Training accuracy: 77.04% | Training Demographic disparity: 0.0800\n",
      "\n",
      " | Global Training Round : 183 |\n",
      "\n"
     ]
    },
    {
     "name": "stderr",
     "output_type": "stream",
     "text": [
      "\r",
      " 61%|██████    | 183/300 [00:42<00:43,  2.72it/s]"
     ]
    },
    {
     "name": "stdout",
     "output_type": "stream",
     "text": [
      "Accuracy loss: 58.96 | fairness loss 110.67 | Demographic disparity = 0.09\n",
      " \n",
      "Avg Training Stats after 183 global rounds:\n",
      "Training loss: 0.34 | Training accuracy: 77.89% | Training Demographic disparity: 0.0949\n",
      "\n",
      " | Global Training Round : 184 |\n",
      "\n"
     ]
    },
    {
     "name": "stderr",
     "output_type": "stream",
     "text": [
      "\r",
      " 61%|██████▏   | 184/300 [00:42<00:50,  2.30it/s]"
     ]
    },
    {
     "name": "stdout",
     "output_type": "stream",
     "text": [
      "Accuracy loss: 59.53 | fairness loss 107.72 | Demographic disparity = 0.09\n",
      " \n",
      "Avg Training Stats after 184 global rounds:\n",
      "Training loss: 0.34 | Training accuracy: 77.78% | Training Demographic disparity: 0.0919\n",
      "\n",
      " | Global Training Round : 185 |\n",
      "\n"
     ]
    },
    {
     "name": "stderr",
     "output_type": "stream",
     "text": [
      " 62%|██████▏   | 186/300 [00:43<00:41,  2.77it/s]"
     ]
    },
    {
     "name": "stdout",
     "output_type": "stream",
     "text": [
      "Accuracy loss: 59.24 | fairness loss 109.80 | Demographic disparity = 0.10\n",
      " \n",
      "Avg Training Stats after 185 global rounds:\n",
      "Training loss: 0.34 | Training accuracy: 77.96% | Training Demographic disparity: 0.0967\n",
      "\n",
      " | Global Training Round : 186 |\n",
      "\n",
      "Accuracy loss: 60.22 | fairness loss 105.99 | Demographic disparity = 0.09\n",
      " \n",
      "Avg Training Stats after 186 global rounds:\n",
      "Training loss: 0.34 | Training accuracy: 77.56% | Training Demographic disparity: 0.0878\n",
      "\n",
      " | Global Training Round : 187 |\n",
      "\n"
     ]
    },
    {
     "name": "stderr",
     "output_type": "stream",
     "text": [
      "\r",
      " 62%|██████▏   | 187/300 [00:43<00:35,  3.17it/s]"
     ]
    },
    {
     "name": "stdout",
     "output_type": "stream",
     "text": [
      "Accuracy loss: 59.06 | fairness loss 112.93 | Demographic disparity = 0.10\n",
      " \n",
      "Avg Training Stats after 187 global rounds:\n",
      "Training loss: 0.34 | Training accuracy: 77.89% | Training Demographic disparity: 0.0952\n",
      "\n",
      " | Global Training Round : 188 |\n",
      "\n"
     ]
    },
    {
     "name": "stderr",
     "output_type": "stream",
     "text": [
      " 63%|██████▎   | 189/300 [00:44<00:29,  3.82it/s]"
     ]
    },
    {
     "name": "stdout",
     "output_type": "stream",
     "text": [
      "Accuracy loss: 58.78 | fairness loss 112.76 | Demographic disparity = 0.10\n",
      " \n",
      "Avg Training Stats after 188 global rounds:\n",
      "Training loss: 0.34 | Training accuracy: 78.37% | Training Demographic disparity: 0.1016\n",
      "\n",
      " | Global Training Round : 189 |\n",
      "\n",
      "Accuracy loss: 61.11 | fairness loss 101.64 | Demographic disparity = 0.08\n",
      " \n",
      "Avg Training Stats after 189 global rounds:\n",
      "Training loss: 0.34 | Training accuracy: 77.15% | Training Demographic disparity: 0.0787\n",
      "\n",
      " | Global Training Round : 190 |\n",
      "\n"
     ]
    },
    {
     "name": "stderr",
     "output_type": "stream",
     "text": [
      "\r",
      " 63%|██████▎   | 190/300 [00:44<00:26,  4.12it/s]"
     ]
    },
    {
     "name": "stdout",
     "output_type": "stream",
     "text": [
      "Accuracy loss: 59.80 | fairness loss 108.05 | Demographic disparity = 0.09\n",
      " \n",
      "Avg Training Stats after 190 global rounds:\n",
      "Training loss: 0.34 | Training accuracy: 77.89% | Training Demographic disparity: 0.0908\n",
      "\n",
      " | Global Training Round : 191 |\n",
      "\n"
     ]
    },
    {
     "name": "stderr",
     "output_type": "stream",
     "text": [
      " 64%|██████▍   | 192/300 [00:44<00:23,  4.52it/s]"
     ]
    },
    {
     "name": "stdout",
     "output_type": "stream",
     "text": [
      "Accuracy loss: 58.97 | fairness loss 111.03 | Demographic disparity = 0.10\n",
      " \n",
      "Avg Training Stats after 191 global rounds:\n",
      "Training loss: 0.34 | Training accuracy: 78.19% | Training Demographic disparity: 0.0990\n",
      "\n",
      " | Global Training Round : 192 |\n",
      "\n",
      "Accuracy loss: 59.28 | fairness loss 108.32 | Demographic disparity = 0.10\n",
      " \n",
      "Avg Training Stats after 192 global rounds:\n",
      "Training loss: 0.34 | Training accuracy: 78.15% | Training Demographic disparity: 0.0967\n"
     ]
    },
    {
     "name": "stderr",
     "output_type": "stream",
     "text": [
      "\r",
      " 64%|██████▍   | 193/300 [00:44<00:22,  4.75it/s]"
     ]
    },
    {
     "name": "stdout",
     "output_type": "stream",
     "text": [
      "\n",
      " | Global Training Round : 193 |\n",
      "\n",
      "Accuracy loss: 60.20 | fairness loss 105.97 | Demographic disparity = 0.09\n",
      " \n",
      "Avg Training Stats after 193 global rounds:\n",
      "Training loss: 0.34 | Training accuracy: 77.37% | Training Demographic disparity: 0.0871\n",
      "\n",
      " | Global Training Round : 194 |\n",
      "\n"
     ]
    },
    {
     "name": "stderr",
     "output_type": "stream",
     "text": [
      "\r",
      " 65%|██████▍   | 194/300 [00:45<00:21,  4.92it/s]"
     ]
    },
    {
     "name": "stdout",
     "output_type": "stream",
     "text": [
      "Accuracy loss: 60.85 | fairness loss 101.32 | Demographic disparity = 0.08\n",
      " \n",
      "Avg Training Stats after 194 global rounds:\n",
      "Training loss: 0.34 | Training accuracy: 77.33% | Training Demographic disparity: 0.0814\n",
      "\n",
      " | Global Training Round : 195 |\n",
      "\n"
     ]
    },
    {
     "name": "stderr",
     "output_type": "stream",
     "text": [
      "\r",
      " 65%|██████▌   | 195/300 [00:45<00:22,  4.69it/s]"
     ]
    },
    {
     "name": "stdout",
     "output_type": "stream",
     "text": [
      "Accuracy loss: 60.64 | fairness loss 104.96 | Demographic disparity = 0.08\n",
      " \n",
      "Avg Training Stats after 195 global rounds:\n",
      "Training loss: 0.34 | Training accuracy: 77.30% | Training Demographic disparity: 0.0816\n",
      "\n",
      " | Global Training Round : 196 |\n",
      "\n"
     ]
    },
    {
     "name": "stderr",
     "output_type": "stream",
     "text": [
      "\r",
      " 65%|██████▌   | 196/300 [00:45<00:23,  4.36it/s]"
     ]
    },
    {
     "name": "stdout",
     "output_type": "stream",
     "text": [
      "Accuracy loss: 60.28 | fairness loss 111.52 | Demographic disparity = 0.09\n",
      " \n",
      "Avg Training Stats after 196 global rounds:\n",
      "Training loss: 0.34 | Training accuracy: 77.63% | Training Demographic disparity: 0.0899\n",
      "\n",
      " | Global Training Round : 197 |\n",
      "\n"
     ]
    },
    {
     "name": "stderr",
     "output_type": "stream",
     "text": [
      "\r",
      " 66%|██████▌   | 197/300 [00:45<00:30,  3.40it/s]"
     ]
    },
    {
     "name": "stdout",
     "output_type": "stream",
     "text": [
      "Accuracy loss: 59.52 | fairness loss 111.98 | Demographic disparity = 0.09\n",
      " \n",
      "Avg Training Stats after 197 global rounds:\n",
      "Training loss: 0.34 | Training accuracy: 77.78% | Training Demographic disparity: 0.0929\n",
      "\n",
      " | Global Training Round : 198 |\n",
      "\n"
     ]
    },
    {
     "name": "stderr",
     "output_type": "stream",
     "text": [
      "\r",
      " 66%|██████▌   | 198/300 [00:46<00:43,  2.35it/s]"
     ]
    },
    {
     "name": "stdout",
     "output_type": "stream",
     "text": [
      "Accuracy loss: 58.42 | fairness loss 115.04 | Demographic disparity = 0.10\n",
      " \n",
      "Avg Training Stats after 198 global rounds:\n",
      "Training loss: 0.33 | Training accuracy: 78.44% | Training Demographic disparity: 0.1045\n",
      "\n",
      " | Global Training Round : 199 |\n",
      "\n"
     ]
    },
    {
     "name": "stderr",
     "output_type": "stream",
     "text": [
      "\r",
      " 66%|██████▋   | 199/300 [00:47<00:45,  2.22it/s]"
     ]
    },
    {
     "name": "stdout",
     "output_type": "stream",
     "text": [
      "Accuracy loss: 59.25 | fairness loss 113.61 | Demographic disparity = 0.10\n",
      " \n",
      "Avg Training Stats after 199 global rounds:\n",
      "Training loss: 0.33 | Training accuracy: 78.15% | Training Demographic disparity: 0.0970\n",
      "\n",
      " | Global Training Round : 200 |\n",
      "\n"
     ]
    },
    {
     "name": "stderr",
     "output_type": "stream",
     "text": [
      "\r",
      " 67%|██████▋   | 200/300 [00:47<00:48,  2.06it/s]"
     ]
    },
    {
     "name": "stdout",
     "output_type": "stream",
     "text": [
      "Accuracy loss: 58.76 | fairness loss 113.15 | Demographic disparity = 0.10\n",
      " \n",
      "Avg Training Stats after 200 global rounds:\n",
      "Training loss: 0.33 | Training accuracy: 78.26% | Training Demographic disparity: 0.0994\n",
      "\n",
      " | Global Training Round : 201 |\n",
      "\n"
     ]
    },
    {
     "name": "stderr",
     "output_type": "stream",
     "text": [
      "\r",
      " 67%|██████▋   | 201/300 [00:48<00:51,  1.91it/s]"
     ]
    },
    {
     "name": "stdout",
     "output_type": "stream",
     "text": [
      "Accuracy loss: 61.39 | fairness loss 105.99 | Demographic disparity = 0.08\n",
      " \n",
      "Avg Training Stats after 201 global rounds:\n",
      "Training loss: 0.33 | Training accuracy: 76.96% | Training Demographic disparity: 0.0781\n",
      "\n",
      " | Global Training Round : 202 |\n",
      "\n"
     ]
    },
    {
     "name": "stderr",
     "output_type": "stream",
     "text": [
      "\r",
      " 67%|██████▋   | 202/300 [00:49<00:54,  1.79it/s]"
     ]
    },
    {
     "name": "stdout",
     "output_type": "stream",
     "text": [
      "Accuracy loss: 63.80 | fairness loss 91.46 | Demographic disparity = 0.05\n",
      " \n",
      "Avg Training Stats after 202 global rounds:\n",
      "Training loss: 0.33 | Training accuracy: 75.41% | Training Demographic disparity: 0.0524\n",
      "\n",
      " | Global Training Round : 203 |\n",
      "\n"
     ]
    },
    {
     "name": "stderr",
     "output_type": "stream",
     "text": [
      "\r",
      " 68%|██████▊   | 203/300 [00:49<00:54,  1.77it/s]"
     ]
    },
    {
     "name": "stdout",
     "output_type": "stream",
     "text": [
      "Accuracy loss: 60.97 | fairness loss 107.09 | Demographic disparity = 0.08\n",
      " \n",
      "Avg Training Stats after 203 global rounds:\n",
      "Training loss: 0.33 | Training accuracy: 77.11% | Training Demographic disparity: 0.0797\n",
      "\n",
      " | Global Training Round : 204 |\n",
      "\n"
     ]
    },
    {
     "name": "stderr",
     "output_type": "stream",
     "text": [
      "\r",
      " 68%|██████▊   | 204/300 [00:49<00:46,  2.06it/s]"
     ]
    },
    {
     "name": "stdout",
     "output_type": "stream",
     "text": [
      "Accuracy loss: 60.05 | fairness loss 108.71 | Demographic disparity = 0.09\n",
      " \n",
      "Avg Training Stats after 204 global rounds:\n",
      "Training loss: 0.33 | Training accuracy: 77.59% | Training Demographic disparity: 0.0893\n",
      "\n",
      " | Global Training Round : 205 |\n",
      "\n"
     ]
    },
    {
     "name": "stderr",
     "output_type": "stream",
     "text": [
      "\r",
      " 68%|██████▊   | 205/300 [00:50<00:43,  2.19it/s]"
     ]
    },
    {
     "name": "stdout",
     "output_type": "stream",
     "text": [
      "Accuracy loss: 59.76 | fairness loss 110.44 | Demographic disparity = 0.09\n",
      " \n",
      "Avg Training Stats after 205 global rounds:\n",
      "Training loss: 0.33 | Training accuracy: 77.63% | Training Demographic disparity: 0.0889\n",
      "\n",
      " | Global Training Round : 206 |\n",
      "\n"
     ]
    },
    {
     "name": "stderr",
     "output_type": "stream",
     "text": [
      "\r",
      " 69%|██████▊   | 206/300 [00:50<00:36,  2.58it/s]"
     ]
    },
    {
     "name": "stdout",
     "output_type": "stream",
     "text": [
      "Accuracy loss: 60.81 | fairness loss 108.55 | Demographic disparity = 0.08\n",
      " \n",
      "Avg Training Stats after 206 global rounds:\n",
      "Training loss: 0.33 | Training accuracy: 77.15% | Training Demographic disparity: 0.0821\n",
      "\n",
      " | Global Training Round : 207 |\n",
      "\n",
      "Accuracy loss: 60.21 | fairness loss 108.60 | Demographic disparity = 0.09\n"
     ]
    },
    {
     "name": "stderr",
     "output_type": "stream",
     "text": [
      "\r",
      " 69%|██████▉   | 207/300 [00:50<00:30,  3.01it/s]"
     ]
    },
    {
     "name": "stdout",
     "output_type": "stream",
     "text": [
      " \n",
      "Avg Training Stats after 207 global rounds:\n",
      "Training loss: 0.33 | Training accuracy: 77.78% | Training Demographic disparity: 0.0896\n",
      "\n",
      " | Global Training Round : 208 |\n",
      "\n"
     ]
    },
    {
     "name": "stderr",
     "output_type": "stream",
     "text": [
      "\r",
      " 69%|██████▉   | 208/300 [00:50<00:27,  3.39it/s]"
     ]
    },
    {
     "name": "stdout",
     "output_type": "stream",
     "text": [
      "Accuracy loss: 60.68 | fairness loss 107.32 | Demographic disparity = 0.09\n",
      " \n",
      "Avg Training Stats after 208 global rounds:\n",
      "Training loss: 0.33 | Training accuracy: 77.37% | Training Demographic disparity: 0.0857\n",
      "\n",
      " | Global Training Round : 209 |\n",
      "\n"
     ]
    },
    {
     "name": "stderr",
     "output_type": "stream",
     "text": [
      " 70%|███████   | 210/300 [00:51<00:22,  4.05it/s]"
     ]
    },
    {
     "name": "stdout",
     "output_type": "stream",
     "text": [
      "Accuracy loss: 60.67 | fairness loss 107.63 | Demographic disparity = 0.08\n",
      " \n",
      "Avg Training Stats after 209 global rounds:\n",
      "Training loss: 0.33 | Training accuracy: 77.37% | Training Demographic disparity: 0.0828\n",
      "\n",
      " | Global Training Round : 210 |\n",
      "\n",
      "Accuracy loss: 59.76 | fairness loss 112.27 | Demographic disparity = 0.09\n",
      " \n",
      "Avg Training Stats after 210 global rounds:\n",
      "Training loss: 0.33 | Training accuracy: 77.70% | Training Demographic disparity: 0.0914\n",
      "\n",
      " | Global Training Round : 211 |\n",
      "\n"
     ]
    },
    {
     "name": "stderr",
     "output_type": "stream",
     "text": [
      " 71%|███████   | 212/300 [00:51<00:19,  4.42it/s]"
     ]
    },
    {
     "name": "stdout",
     "output_type": "stream",
     "text": [
      "Accuracy loss: 61.37 | fairness loss 106.95 | Demographic disparity = 0.08\n",
      " \n",
      "Avg Training Stats after 211 global rounds:\n",
      "Training loss: 0.33 | Training accuracy: 77.07% | Training Demographic disparity: 0.0781\n",
      "\n",
      " | Global Training Round : 212 |\n",
      "\n",
      "Accuracy loss: 62.22 | fairness loss 100.16 | Demographic disparity = 0.07\n",
      " \n",
      "Avg Training Stats after 212 global rounds:\n",
      "Training loss: 0.33 | Training accuracy: 76.44% | Training Demographic disparity: 0.0713\n",
      "\n",
      " | Global Training Round : 213 |\n",
      "\n"
     ]
    },
    {
     "name": "stderr",
     "output_type": "stream",
     "text": [
      "\r",
      " 71%|███████   | 213/300 [00:51<00:18,  4.68it/s]"
     ]
    },
    {
     "name": "stdout",
     "output_type": "stream",
     "text": [
      "Accuracy loss: 65.14 | fairness loss 91.45 | Demographic disparity = 0.04\n",
      " \n",
      "Avg Training Stats after 213 global rounds:\n",
      "Training loss: 0.33 | Training accuracy: 74.96% | Training Demographic disparity: 0.0448\n",
      "\n",
      " | Global Training Round : 214 |\n",
      "\n"
     ]
    },
    {
     "name": "stderr",
     "output_type": "stream",
     "text": [
      "\r",
      " 71%|███████▏  | 214/300 [00:52<00:24,  3.50it/s]"
     ]
    },
    {
     "name": "stdout",
     "output_type": "stream",
     "text": [
      "Accuracy loss: 59.72 | fairness loss 107.72 | Demographic disparity = 0.09\n",
      " \n",
      "Avg Training Stats after 214 global rounds:\n",
      "Training loss: 0.33 | Training accuracy: 77.52% | Training Demographic disparity: 0.0873\n",
      "\n",
      " | Global Training Round : 215 |\n",
      "\n"
     ]
    },
    {
     "name": "stderr",
     "output_type": "stream",
     "text": [
      "\r",
      " 72%|███████▏  | 215/300 [00:52<00:22,  3.80it/s]"
     ]
    },
    {
     "name": "stdout",
     "output_type": "stream",
     "text": [
      "Accuracy loss: 60.22 | fairness loss 103.30 | Demographic disparity = 0.08\n",
      " \n",
      "Avg Training Stats after 215 global rounds:\n",
      "Training loss: 0.33 | Training accuracy: 77.33% | Training Demographic disparity: 0.0837\n",
      "\n",
      " | Global Training Round : 216 |\n",
      "\n"
     ]
    },
    {
     "name": "stderr",
     "output_type": "stream",
     "text": [
      "\r",
      " 72%|███████▏  | 216/300 [00:52<00:20,  4.02it/s]"
     ]
    },
    {
     "name": "stdout",
     "output_type": "stream",
     "text": [
      "Accuracy loss: 62.33 | fairness loss 101.97 | Demographic disparity = 0.07\n",
      " \n",
      "Avg Training Stats after 216 global rounds:\n",
      "Training loss: 0.33 | Training accuracy: 76.63% | Training Demographic disparity: 0.0702\n",
      "\n",
      " | Global Training Round : 217 |\n",
      "\n"
     ]
    },
    {
     "name": "stderr",
     "output_type": "stream",
     "text": [
      "\r",
      " 72%|███████▏  | 217/300 [00:53<00:19,  4.22it/s]"
     ]
    },
    {
     "name": "stdout",
     "output_type": "stream",
     "text": [
      "Accuracy loss: 61.21 | fairness loss 107.11 | Demographic disparity = 0.08\n",
      " \n",
      "Avg Training Stats after 217 global rounds:\n",
      "Training loss: 0.33 | Training accuracy: 77.07% | Training Demographic disparity: 0.0792\n",
      "\n",
      " | Global Training Round : 218 |\n",
      "\n"
     ]
    },
    {
     "name": "stderr",
     "output_type": "stream",
     "text": [
      "\r",
      " 73%|███████▎  | 218/300 [00:53<00:18,  4.41it/s]"
     ]
    },
    {
     "name": "stdout",
     "output_type": "stream",
     "text": [
      "Accuracy loss: 60.09 | fairness loss 111.01 | Demographic disparity = 0.09\n",
      " \n",
      "Avg Training Stats after 218 global rounds:\n",
      "Training loss: 0.33 | Training accuracy: 77.56% | Training Demographic disparity: 0.0881\n",
      "\n",
      " | Global Training Round : 219 |\n",
      "\n"
     ]
    },
    {
     "name": "stderr",
     "output_type": "stream",
     "text": [
      "\r",
      " 73%|███████▎  | 219/300 [00:53<00:18,  4.34it/s]"
     ]
    },
    {
     "name": "stdout",
     "output_type": "stream",
     "text": [
      "Accuracy loss: 59.90 | fairness loss 118.39 | Demographic disparity = 0.09\n",
      " \n",
      "Avg Training Stats after 219 global rounds:\n",
      "Training loss: 0.33 | Training accuracy: 77.63% | Training Demographic disparity: 0.0909\n",
      "\n",
      " | Global Training Round : 220 |\n",
      "\n"
     ]
    },
    {
     "name": "stderr",
     "output_type": "stream",
     "text": [
      "\r",
      " 73%|███████▎  | 220/300 [00:53<00:18,  4.36it/s]"
     ]
    },
    {
     "name": "stdout",
     "output_type": "stream",
     "text": [
      "Accuracy loss: 59.24 | fairness loss 114.66 | Demographic disparity = 0.10\n",
      " \n",
      "Avg Training Stats after 220 global rounds:\n",
      "Training loss: 0.33 | Training accuracy: 78.00% | Training Demographic disparity: 0.0957\n",
      "\n",
      " | Global Training Round : 221 |\n",
      "\n"
     ]
    },
    {
     "name": "stderr",
     "output_type": "stream",
     "text": [
      "\r",
      " 74%|███████▎  | 221/300 [00:53<00:18,  4.31it/s]"
     ]
    },
    {
     "name": "stdout",
     "output_type": "stream",
     "text": [
      "Accuracy loss: 60.94 | fairness loss 110.41 | Demographic disparity = 0.08\n",
      " \n",
      "Avg Training Stats after 221 global rounds:\n",
      "Training loss: 0.33 | Training accuracy: 77.26% | Training Demographic disparity: 0.0832\n",
      "\n",
      " | Global Training Round : 222 |\n",
      "\n"
     ]
    },
    {
     "name": "stderr",
     "output_type": "stream",
     "text": [
      "\r",
      " 74%|███████▍  | 222/300 [00:54<00:17,  4.45it/s]"
     ]
    },
    {
     "name": "stdout",
     "output_type": "stream",
     "text": [
      "Accuracy loss: 62.09 | fairness loss 104.22 | Demographic disparity = 0.07\n",
      " \n",
      "Avg Training Stats after 222 global rounds:\n",
      "Training loss: 0.33 | Training accuracy: 76.70% | Training Demographic disparity: 0.0735\n",
      "\n",
      " | Global Training Round : 223 |\n",
      "\n"
     ]
    },
    {
     "name": "stderr",
     "output_type": "stream",
     "text": [
      "\r",
      " 74%|███████▍  | 223/300 [00:54<00:17,  4.50it/s]"
     ]
    },
    {
     "name": "stdout",
     "output_type": "stream",
     "text": [
      "Accuracy loss: 61.70 | fairness loss 105.78 | Demographic disparity = 0.08\n",
      " \n",
      "Avg Training Stats after 223 global rounds:\n",
      "Training loss: 0.33 | Training accuracy: 76.93% | Training Demographic disparity: 0.0765\n",
      "\n",
      " | Global Training Round : 224 |\n",
      "\n"
     ]
    },
    {
     "name": "stderr",
     "output_type": "stream",
     "text": [
      "\r",
      " 75%|███████▍  | 224/300 [00:54<00:16,  4.53it/s]"
     ]
    },
    {
     "name": "stdout",
     "output_type": "stream",
     "text": [
      "Accuracy loss: 61.71 | fairness loss 109.71 | Demographic disparity = 0.08\n",
      " \n",
      "Avg Training Stats after 224 global rounds:\n",
      "Training loss: 0.33 | Training accuracy: 76.96% | Training Demographic disparity: 0.0792\n",
      "\n",
      " | Global Training Round : 225 |\n",
      "\n"
     ]
    },
    {
     "name": "stderr",
     "output_type": "stream",
     "text": [
      "\r",
      " 75%|███████▌  | 225/300 [00:54<00:17,  4.40it/s]"
     ]
    },
    {
     "name": "stdout",
     "output_type": "stream",
     "text": [
      "Accuracy loss: 63.17 | fairness loss 104.00 | Demographic disparity = 0.06\n",
      " \n",
      "Avg Training Stats after 225 global rounds:\n",
      "Training loss: 0.33 | Training accuracy: 76.22% | Training Demographic disparity: 0.0644\n",
      "\n",
      " | Global Training Round : 226 |\n",
      "\n"
     ]
    },
    {
     "name": "stderr",
     "output_type": "stream",
     "text": [
      " 76%|███████▌  | 227/300 [00:55<00:16,  4.49it/s]"
     ]
    },
    {
     "name": "stdout",
     "output_type": "stream",
     "text": [
      "Accuracy loss: 63.53 | fairness loss 107.42 | Demographic disparity = 0.06\n",
      " \n",
      "Avg Training Stats after 226 global rounds:\n",
      "Training loss: 0.33 | Training accuracy: 76.04% | Training Demographic disparity: 0.0632\n",
      "\n",
      " | Global Training Round : 227 |\n",
      "\n",
      "Accuracy loss: 60.95 | fairness loss 107.71 | Demographic disparity = 0.09\n",
      " \n",
      "Avg Training Stats after 227 global rounds:\n",
      "Training loss: 0.33 | Training accuracy: 77.37% | Training Demographic disparity: 0.0861\n",
      "\n",
      " | Global Training Round : 228 |\n",
      "\n"
     ]
    },
    {
     "name": "stderr",
     "output_type": "stream",
     "text": [
      "\r",
      " 76%|███████▌  | 228/300 [00:55<00:15,  4.56it/s]"
     ]
    },
    {
     "name": "stdout",
     "output_type": "stream",
     "text": [
      "Accuracy loss: 60.14 | fairness loss 111.46 | Demographic disparity = 0.09\n",
      " \n",
      "Avg Training Stats after 228 global rounds:\n",
      "Training loss: 0.33 | Training accuracy: 77.59% | Training Demographic disparity: 0.0907\n",
      "\n",
      " | Global Training Round : 229 |\n",
      "\n"
     ]
    },
    {
     "name": "stderr",
     "output_type": "stream",
     "text": [
      "\r",
      " 76%|███████▋  | 229/300 [00:55<00:15,  4.61it/s]"
     ]
    },
    {
     "name": "stdout",
     "output_type": "stream",
     "text": [
      "Accuracy loss: 63.04 | fairness loss 105.64 | Demographic disparity = 0.06\n",
      " \n",
      "Avg Training Stats after 229 global rounds:\n",
      "Training loss: 0.33 | Training accuracy: 76.19% | Training Demographic disparity: 0.0632\n",
      "\n",
      " | Global Training Round : 230 |\n",
      "\n"
     ]
    },
    {
     "name": "stderr",
     "output_type": "stream",
     "text": [
      " 77%|███████▋  | 231/300 [00:56<00:15,  4.46it/s]"
     ]
    },
    {
     "name": "stdout",
     "output_type": "stream",
     "text": [
      "Accuracy loss: 61.69 | fairness loss 107.01 | Demographic disparity = 0.08\n",
      " \n",
      "Avg Training Stats after 230 global rounds:\n",
      "Training loss: 0.33 | Training accuracy: 76.96% | Training Demographic disparity: 0.0770\n",
      "\n",
      " | Global Training Round : 231 |\n",
      "\n",
      "Accuracy loss: 61.52 | fairness loss 110.31 | Demographic disparity = 0.08\n",
      " \n",
      "Avg Training Stats after 231 global rounds:\n",
      "Training loss: 0.33 | Training accuracy: 77.07% | Training Demographic disparity: 0.0799\n",
      "\n",
      " | Global Training Round : 232 |\n",
      "\n"
     ]
    },
    {
     "name": "stderr",
     "output_type": "stream",
     "text": [
      " 78%|███████▊  | 233/300 [00:56<00:14,  4.76it/s]"
     ]
    },
    {
     "name": "stdout",
     "output_type": "stream",
     "text": [
      "Accuracy loss: 62.20 | fairness loss 105.29 | Demographic disparity = 0.07\n",
      " \n",
      "Avg Training Stats after 232 global rounds:\n",
      "Training loss: 0.33 | Training accuracy: 76.78% | Training Demographic disparity: 0.0744\n",
      "\n",
      " | Global Training Round : 233 |\n",
      "\n",
      "Accuracy loss: 61.03 | fairness loss 110.23 | Demographic disparity = 0.08\n",
      " \n",
      "Avg Training Stats after 233 global rounds:\n",
      "Training loss: 0.33 | Training accuracy: 77.33% | Training Demographic disparity: 0.0843\n",
      "\n",
      " | Global Training Round : 234 |\n",
      "\n"
     ]
    },
    {
     "name": "stderr",
     "output_type": "stream",
     "text": [
      "\r",
      " 78%|███████▊  | 234/300 [00:56<00:15,  4.18it/s]"
     ]
    },
    {
     "name": "stdout",
     "output_type": "stream",
     "text": [
      "Accuracy loss: 61.16 | fairness loss 107.97 | Demographic disparity = 0.08\n",
      " \n",
      "Avg Training Stats after 234 global rounds:\n",
      "Training loss: 0.33 | Training accuracy: 77.22% | Training Demographic disparity: 0.0810\n",
      "\n",
      " | Global Training Round : 235 |\n",
      "\n"
     ]
    },
    {
     "name": "stderr",
     "output_type": "stream",
     "text": [
      " 79%|███████▊  | 236/300 [00:57<00:13,  4.66it/s]"
     ]
    },
    {
     "name": "stdout",
     "output_type": "stream",
     "text": [
      "Accuracy loss: 61.28 | fairness loss 108.98 | Demographic disparity = 0.08\n",
      " \n",
      "Avg Training Stats after 235 global rounds:\n",
      "Training loss: 0.33 | Training accuracy: 77.22% | Training Demographic disparity: 0.0806\n",
      "\n",
      " | Global Training Round : 236 |\n",
      "\n",
      "Accuracy loss: 61.84 | fairness loss 105.88 | Demographic disparity = 0.08\n",
      " \n",
      "Avg Training Stats after 236 global rounds:\n",
      "Training loss: 0.33 | Training accuracy: 76.96% | Training Demographic disparity: 0.0763\n",
      "\n",
      " | Global Training Round : 237 |\n",
      "\n"
     ]
    },
    {
     "name": "stderr",
     "output_type": "stream",
     "text": [
      "\r",
      " 79%|███████▉  | 237/300 [00:57<00:15,  3.97it/s]"
     ]
    },
    {
     "name": "stdout",
     "output_type": "stream",
     "text": [
      "Accuracy loss: 62.60 | fairness loss 103.98 | Demographic disparity = 0.07\n",
      " \n",
      "Avg Training Stats after 237 global rounds:\n",
      "Training loss: 0.33 | Training accuracy: 76.63% | Training Demographic disparity: 0.0717\n",
      "\n",
      " | Global Training Round : 238 |\n",
      "\n"
     ]
    },
    {
     "name": "stderr",
     "output_type": "stream",
     "text": [
      "\r",
      " 79%|███████▉  | 238/300 [00:58<00:19,  3.16it/s]"
     ]
    },
    {
     "name": "stdout",
     "output_type": "stream",
     "text": [
      "Accuracy loss: 61.47 | fairness loss 110.81 | Demographic disparity = 0.08\n",
      " \n",
      "Avg Training Stats after 238 global rounds:\n",
      "Training loss: 0.33 | Training accuracy: 77.15% | Training Demographic disparity: 0.0802\n",
      "\n",
      " | Global Training Round : 239 |\n",
      "\n"
     ]
    },
    {
     "name": "stderr",
     "output_type": "stream",
     "text": [
      "\r",
      " 80%|███████▉  | 239/300 [00:58<00:28,  2.16it/s]"
     ]
    },
    {
     "name": "stdout",
     "output_type": "stream",
     "text": [
      "Accuracy loss: 61.33 | fairness loss 111.13 | Demographic disparity = 0.08\n",
      " \n",
      "Avg Training Stats after 239 global rounds:\n",
      "Training loss: 0.33 | Training accuracy: 77.22% | Training Demographic disparity: 0.0806\n",
      "\n",
      " | Global Training Round : 240 |\n",
      "\n"
     ]
    },
    {
     "name": "stderr",
     "output_type": "stream",
     "text": [
      "\r",
      " 80%|████████  | 240/300 [00:59<00:24,  2.41it/s]"
     ]
    },
    {
     "name": "stdout",
     "output_type": "stream",
     "text": [
      "Accuracy loss: 62.08 | fairness loss 110.31 | Demographic disparity = 0.07\n",
      " \n",
      "Avg Training Stats after 240 global rounds:\n",
      "Training loss: 0.33 | Training accuracy: 76.89% | Training Demographic disparity: 0.0747\n",
      "\n",
      " | Global Training Round : 241 |\n",
      "\n"
     ]
    },
    {
     "name": "stderr",
     "output_type": "stream",
     "text": [
      "\r",
      " 80%|████████  | 241/300 [00:59<00:21,  2.70it/s]"
     ]
    },
    {
     "name": "stdout",
     "output_type": "stream",
     "text": [
      "Accuracy loss: 62.16 | fairness loss 108.56 | Demographic disparity = 0.07\n",
      " \n",
      "Avg Training Stats after 241 global rounds:\n",
      "Training loss: 0.33 | Training accuracy: 76.74% | Training Demographic disparity: 0.0743\n",
      "\n",
      " | Global Training Round : 242 |\n",
      "\n",
      "Accuracy loss: 61.73 | fairness loss 106.05 | Demographic disparity = 0.08\n"
     ]
    },
    {
     "name": "stderr",
     "output_type": "stream",
     "text": [
      "\r",
      " 81%|████████  | 242/300 [00:59<00:18,  3.12it/s]"
     ]
    },
    {
     "name": "stdout",
     "output_type": "stream",
     "text": [
      " \n",
      "Avg Training Stats after 242 global rounds:\n",
      "Training loss: 0.33 | Training accuracy: 77.04% | Training Demographic disparity: 0.0790\n",
      "\n",
      " | Global Training Round : 243 |\n",
      "\n",
      "Accuracy loss: 62.13 | fairness loss 109.24 | Demographic disparity = 0.08\n"
     ]
    },
    {
     "name": "stderr",
     "output_type": "stream",
     "text": [
      "\r",
      " 81%|████████  | 243/300 [00:59<00:16,  3.51it/s]"
     ]
    },
    {
     "name": "stdout",
     "output_type": "stream",
     "text": [
      " \n",
      "Avg Training Stats after 243 global rounds:\n",
      "Training loss: 0.33 | Training accuracy: 76.89% | Training Demographic disparity: 0.0761\n",
      "\n",
      " | Global Training Round : 244 |\n",
      "\n"
     ]
    },
    {
     "name": "stderr",
     "output_type": "stream",
     "text": [
      "\r",
      " 81%|████████▏ | 244/300 [01:00<00:21,  2.64it/s]"
     ]
    },
    {
     "name": "stdout",
     "output_type": "stream",
     "text": [
      "Accuracy loss: 60.82 | fairness loss 115.68 | Demographic disparity = 0.09\n",
      " \n",
      "Avg Training Stats after 244 global rounds:\n",
      "Training loss: 0.33 | Training accuracy: 77.41% | Training Demographic disparity: 0.0866\n",
      "\n",
      " | Global Training Round : 245 |\n",
      "\n"
     ]
    },
    {
     "name": "stderr",
     "output_type": "stream",
     "text": [
      "\r",
      " 82%|████████▏ | 245/300 [01:00<00:22,  2.45it/s]"
     ]
    },
    {
     "name": "stdout",
     "output_type": "stream",
     "text": [
      "Accuracy loss: 62.49 | fairness loss 115.32 | Demographic disparity = 0.07\n",
      " \n",
      "Avg Training Stats after 245 global rounds:\n",
      "Training loss: 0.33 | Training accuracy: 76.67% | Training Demographic disparity: 0.0736\n",
      "\n",
      " | Global Training Round : 246 |\n",
      "\n"
     ]
    },
    {
     "name": "stderr",
     "output_type": "stream",
     "text": [
      "\r",
      " 82%|████████▏ | 246/300 [01:01<00:20,  2.59it/s]"
     ]
    },
    {
     "name": "stdout",
     "output_type": "stream",
     "text": [
      "Accuracy loss: 64.25 | fairness loss 108.95 | Demographic disparity = 0.06\n",
      " \n",
      "Avg Training Stats after 246 global rounds:\n",
      "Training loss: 0.33 | Training accuracy: 75.74% | Training Demographic disparity: 0.0575\n",
      "\n",
      " | Global Training Round : 247 |\n",
      "\n"
     ]
    },
    {
     "name": "stderr",
     "output_type": "stream",
     "text": [
      "\r",
      " 82%|████████▏ | 247/300 [01:01<00:18,  2.91it/s]"
     ]
    },
    {
     "name": "stdout",
     "output_type": "stream",
     "text": [
      "Accuracy loss: 61.42 | fairness loss 111.34 | Demographic disparity = 0.08\n",
      " \n",
      "Avg Training Stats after 247 global rounds:\n",
      "Training loss: 0.33 | Training accuracy: 77.19% | Training Demographic disparity: 0.0804\n",
      "\n",
      " | Global Training Round : 248 |\n",
      "\n"
     ]
    },
    {
     "name": "stderr",
     "output_type": "stream",
     "text": [
      "\r",
      " 83%|████████▎ | 248/300 [01:01<00:16,  3.12it/s]"
     ]
    },
    {
     "name": "stdout",
     "output_type": "stream",
     "text": [
      "Accuracy loss: 62.44 | fairness loss 107.55 | Demographic disparity = 0.07\n",
      " \n",
      "Avg Training Stats after 248 global rounds:\n",
      "Training loss: 0.33 | Training accuracy: 76.74% | Training Demographic disparity: 0.0711\n",
      "\n",
      " | Global Training Round : 249 |\n",
      "\n"
     ]
    },
    {
     "name": "stderr",
     "output_type": "stream",
     "text": [
      "\r",
      " 83%|████████▎ | 249/300 [01:02<00:14,  3.44it/s]"
     ]
    },
    {
     "name": "stdout",
     "output_type": "stream",
     "text": [
      "Accuracy loss: 62.01 | fairness loss 108.11 | Demographic disparity = 0.08\n",
      " \n",
      "Avg Training Stats after 249 global rounds:\n",
      "Training loss: 0.33 | Training accuracy: 77.04% | Training Demographic disparity: 0.0777\n",
      "\n",
      " | Global Training Round : 250 |\n",
      "\n"
     ]
    },
    {
     "name": "stderr",
     "output_type": "stream",
     "text": [
      "\r",
      " 83%|████████▎ | 250/300 [01:02<00:13,  3.67it/s]"
     ]
    },
    {
     "name": "stdout",
     "output_type": "stream",
     "text": [
      "Accuracy loss: 62.04 | fairness loss 112.58 | Demographic disparity = 0.08\n",
      " \n",
      "Avg Training Stats after 250 global rounds:\n",
      "Training loss: 0.33 | Training accuracy: 76.89% | Training Demographic disparity: 0.0778\n",
      "\n",
      " | Global Training Round : 251 |\n",
      "\n"
     ]
    },
    {
     "name": "stderr",
     "output_type": "stream",
     "text": [
      "\r",
      " 84%|████████▎ | 251/300 [01:02<00:13,  3.74it/s]"
     ]
    },
    {
     "name": "stdout",
     "output_type": "stream",
     "text": [
      "Accuracy loss: 62.37 | fairness loss 109.55 | Demographic disparity = 0.07\n",
      " \n",
      "Avg Training Stats after 251 global rounds:\n",
      "Training loss: 0.33 | Training accuracy: 76.74% | Training Demographic disparity: 0.0730\n",
      "\n",
      " | Global Training Round : 252 |\n",
      "\n"
     ]
    },
    {
     "name": "stderr",
     "output_type": "stream",
     "text": [
      " 84%|████████▍ | 253/300 [01:02<00:11,  3.97it/s]"
     ]
    },
    {
     "name": "stdout",
     "output_type": "stream",
     "text": [
      "Accuracy loss: 63.13 | fairness loss 107.28 | Demographic disparity = 0.07\n",
      " \n",
      "Avg Training Stats after 252 global rounds:\n",
      "Training loss: 0.33 | Training accuracy: 76.22% | Training Demographic disparity: 0.0667\n",
      "\n",
      " | Global Training Round : 253 |\n",
      "\n",
      "Accuracy loss: 62.41 | fairness loss 109.83 | Demographic disparity = 0.07\n",
      " \n",
      "Avg Training Stats after 253 global rounds:\n",
      "Training loss: 0.33 | Training accuracy: 76.74% | Training Demographic disparity: 0.0725\n",
      "\n",
      " | Global Training Round : 254 |\n",
      "\n"
     ]
    },
    {
     "name": "stderr",
     "output_type": "stream",
     "text": [
      "\r",
      " 85%|████████▍ | 254/300 [01:03<00:10,  4.32it/s]"
     ]
    },
    {
     "name": "stdout",
     "output_type": "stream",
     "text": [
      "Accuracy loss: 62.95 | fairness loss 108.64 | Demographic disparity = 0.07\n",
      " \n",
      "Avg Training Stats after 254 global rounds:\n",
      "Training loss: 0.33 | Training accuracy: 76.56% | Training Demographic disparity: 0.0699\n",
      "\n",
      " | Global Training Round : 255 |\n",
      "\n"
     ]
    },
    {
     "name": "stderr",
     "output_type": "stream",
     "text": [
      " 85%|████████▌ | 256/300 [01:03<00:09,  4.72it/s]"
     ]
    },
    {
     "name": "stdout",
     "output_type": "stream",
     "text": [
      "Accuracy loss: 63.20 | fairness loss 106.33 | Demographic disparity = 0.07\n",
      " \n",
      "Avg Training Stats after 255 global rounds:\n",
      "Training loss: 0.33 | Training accuracy: 76.41% | Training Demographic disparity: 0.0666\n",
      "\n",
      " | Global Training Round : 256 |\n",
      "\n",
      "Accuracy loss: 62.32 | fairness loss 108.79 | Demographic disparity = 0.08\n",
      " \n",
      "Avg Training Stats after 256 global rounds:\n",
      "Training loss: 0.33 | Training accuracy: 76.85% | Training Demographic disparity: 0.0763\n",
      "\n",
      " | Global Training Round : 257 |\n",
      "\n"
     ]
    },
    {
     "name": "stderr",
     "output_type": "stream",
     "text": [
      " 86%|████████▌ | 258/300 [01:03<00:08,  4.93it/s]"
     ]
    },
    {
     "name": "stdout",
     "output_type": "stream",
     "text": [
      "Accuracy loss: 62.98 | fairness loss 109.65 | Demographic disparity = 0.07\n",
      " \n",
      "Avg Training Stats after 257 global rounds:\n",
      "Training loss: 0.33 | Training accuracy: 76.63% | Training Demographic disparity: 0.0700\n",
      "\n",
      " | Global Training Round : 258 |\n",
      "\n",
      "Accuracy loss: 62.32 | fairness loss 107.35 | Demographic disparity = 0.08\n",
      " \n",
      "Avg Training Stats after 258 global rounds:\n",
      "Training loss: 0.33 | Training accuracy: 76.85% | Training Demographic disparity: 0.0763\n",
      "\n",
      " | Global Training Round : 259 |\n",
      "\n"
     ]
    },
    {
     "name": "stderr",
     "output_type": "stream",
     "text": [
      " 87%|████████▋ | 260/300 [01:04<00:07,  5.09it/s]"
     ]
    },
    {
     "name": "stdout",
     "output_type": "stream",
     "text": [
      "Accuracy loss: 62.19 | fairness loss 108.79 | Demographic disparity = 0.07\n",
      " \n",
      "Avg Training Stats after 259 global rounds:\n",
      "Training loss: 0.33 | Training accuracy: 76.78% | Training Demographic disparity: 0.0746\n",
      "\n",
      " | Global Training Round : 260 |\n",
      "\n",
      "Accuracy loss: 63.02 | fairness loss 108.54 | Demographic disparity = 0.07\n",
      " \n",
      "Avg Training Stats after 260 global rounds:\n",
      "Training loss: 0.33 | Training accuracy: 76.41% | Training Demographic disparity: 0.0686\n",
      "\n",
      " | Global Training Round : 261 |\n",
      "\n"
     ]
    },
    {
     "name": "stderr",
     "output_type": "stream",
     "text": [
      " 87%|████████▋ | 262/300 [01:04<00:07,  5.35it/s]"
     ]
    },
    {
     "name": "stdout",
     "output_type": "stream",
     "text": [
      "Accuracy loss: 64.65 | fairness loss 102.47 | Demographic disparity = 0.05\n",
      " \n",
      "Avg Training Stats after 261 global rounds:\n",
      "Training loss: 0.33 | Training accuracy: 75.41% | Training Demographic disparity: 0.0518\n",
      "\n",
      " | Global Training Round : 262 |\n",
      "\n",
      "Accuracy loss: 62.39 | fairness loss 110.67 | Demographic disparity = 0.07\n",
      " \n",
      "Avg Training Stats after 262 global rounds:\n",
      "Training loss: 0.33 | Training accuracy: 76.85% | Training Demographic disparity: 0.0738\n",
      "\n",
      " | Global Training Round : 263 |\n",
      "\n"
     ]
    },
    {
     "name": "stderr",
     "output_type": "stream",
     "text": [
      " 88%|████████▊ | 264/300 [01:05<00:06,  5.46it/s]"
     ]
    },
    {
     "name": "stdout",
     "output_type": "stream",
     "text": [
      "Accuracy loss: 63.43 | fairness loss 103.03 | Demographic disparity = 0.07\n",
      " \n",
      "Avg Training Stats after 263 global rounds:\n",
      "Training loss: 0.33 | Training accuracy: 76.41% | Training Demographic disparity: 0.0665\n",
      "\n",
      " | Global Training Round : 264 |\n",
      "\n",
      "Accuracy loss: 62.20 | fairness loss 112.99 | Demographic disparity = 0.08\n",
      " \n",
      "Avg Training Stats after 264 global rounds:\n",
      "Training loss: 0.33 | Training accuracy: 76.93% | Training Demographic disparity: 0.0764\n",
      "\n",
      " | Global Training Round : 265 |\n",
      "\n"
     ]
    },
    {
     "name": "stderr",
     "output_type": "stream",
     "text": [
      " 89%|████████▊ | 266/300 [01:05<00:06,  5.33it/s]"
     ]
    },
    {
     "name": "stdout",
     "output_type": "stream",
     "text": [
      "Accuracy loss: 63.36 | fairness loss 107.96 | Demographic disparity = 0.07\n",
      " \n",
      "Avg Training Stats after 265 global rounds:\n",
      "Training loss: 0.33 | Training accuracy: 76.37% | Training Demographic disparity: 0.0673\n",
      "\n",
      " | Global Training Round : 266 |\n",
      "\n",
      "Accuracy loss: 63.81 | fairness loss 106.20 | Demographic disparity = 0.06\n",
      " \n",
      "Avg Training Stats after 266 global rounds:\n",
      "Training loss: 0.33 | Training accuracy: 76.15% | Training Demographic disparity: 0.0629\n",
      "\n",
      " | Global Training Round : 267 |\n",
      "\n"
     ]
    },
    {
     "name": "stderr",
     "output_type": "stream",
     "text": [
      " 89%|████████▉ | 268/300 [01:05<00:05,  5.48it/s]"
     ]
    },
    {
     "name": "stdout",
     "output_type": "stream",
     "text": [
      "Accuracy loss: 62.93 | fairness loss 108.11 | Demographic disparity = 0.07\n",
      " \n",
      "Avg Training Stats after 267 global rounds:\n",
      "Training loss: 0.33 | Training accuracy: 76.52% | Training Demographic disparity: 0.0687\n",
      "\n",
      " | Global Training Round : 268 |\n",
      "\n",
      "Accuracy loss: 62.52 | fairness loss 110.75 | Demographic disparity = 0.07\n",
      " \n",
      "Avg Training Stats after 268 global rounds:\n",
      "Training loss: 0.33 | Training accuracy: 76.63% | Training Demographic disparity: 0.0723\n",
      "\n",
      " | Global Training Round : 269 |\n",
      "\n"
     ]
    },
    {
     "name": "stderr",
     "output_type": "stream",
     "text": [
      " 90%|█████████ | 270/300 [01:06<00:05,  5.41it/s]"
     ]
    },
    {
     "name": "stdout",
     "output_type": "stream",
     "text": [
      "Accuracy loss: 63.24 | fairness loss 109.00 | Demographic disparity = 0.07\n",
      " \n",
      "Avg Training Stats after 269 global rounds:\n",
      "Training loss: 0.33 | Training accuracy: 76.41% | Training Demographic disparity: 0.0680\n",
      "\n",
      " | Global Training Round : 270 |\n",
      "\n",
      "Accuracy loss: 62.40 | fairness loss 116.60 | Demographic disparity = 0.08\n",
      " \n",
      "Avg Training Stats after 270 global rounds:\n",
      "Training loss: 0.33 | Training accuracy: 76.85% | Training Demographic disparity: 0.0759\n",
      "\n",
      " | Global Training Round : 271 |\n",
      "\n"
     ]
    },
    {
     "name": "stderr",
     "output_type": "stream",
     "text": [
      " 91%|█████████ | 272/300 [01:06<00:05,  5.49it/s]"
     ]
    },
    {
     "name": "stdout",
     "output_type": "stream",
     "text": [
      "Accuracy loss: 62.37 | fairness loss 105.25 | Demographic disparity = 0.07\n",
      " \n",
      "Avg Training Stats after 271 global rounds:\n",
      "Training loss: 0.33 | Training accuracy: 76.74% | Training Demographic disparity: 0.0740\n",
      "\n",
      " | Global Training Round : 272 |\n",
      "\n",
      "Accuracy loss: 64.48 | fairness loss 103.00 | Demographic disparity = 0.06\n",
      " \n",
      "Avg Training Stats after 272 global rounds:\n",
      "Training loss: 0.33 | Training accuracy: 75.56% | Training Demographic disparity: 0.0561\n",
      "\n",
      " | Global Training Round : 273 |\n",
      "\n"
     ]
    },
    {
     "name": "stderr",
     "output_type": "stream",
     "text": [
      " 91%|█████████▏| 274/300 [01:06<00:04,  5.46it/s]"
     ]
    },
    {
     "name": "stdout",
     "output_type": "stream",
     "text": [
      "Accuracy loss: 63.03 | fairness loss 107.76 | Demographic disparity = 0.07\n",
      " \n",
      "Avg Training Stats after 273 global rounds:\n",
      "Training loss: 0.33 | Training accuracy: 76.52% | Training Demographic disparity: 0.0699\n",
      "\n",
      " | Global Training Round : 274 |\n",
      "\n",
      "Accuracy loss: 63.56 | fairness loss 110.12 | Demographic disparity = 0.07\n",
      " \n",
      "Avg Training Stats after 274 global rounds:\n",
      "Training loss: 0.33 | Training accuracy: 76.37% | Training Demographic disparity: 0.0666\n",
      "\n",
      " | Global Training Round : 275 |\n",
      "\n"
     ]
    },
    {
     "name": "stderr",
     "output_type": "stream",
     "text": [
      " 92%|█████████▏| 276/300 [01:07<00:04,  5.38it/s]"
     ]
    },
    {
     "name": "stdout",
     "output_type": "stream",
     "text": [
      "Accuracy loss: 63.51 | fairness loss 108.42 | Demographic disparity = 0.07\n",
      " \n",
      "Avg Training Stats after 275 global rounds:\n",
      "Training loss: 0.33 | Training accuracy: 76.30% | Training Demographic disparity: 0.0650\n",
      "\n",
      " | Global Training Round : 276 |\n",
      "\n",
      "Accuracy loss: 63.28 | fairness loss 111.02 | Demographic disparity = 0.07\n",
      " \n",
      "Avg Training Stats after 276 global rounds:\n",
      "Training loss: 0.33 | Training accuracy: 76.56% | Training Demographic disparity: 0.0690\n",
      "\n",
      " | Global Training Round : 277 |\n",
      "\n"
     ]
    },
    {
     "name": "stderr",
     "output_type": "stream",
     "text": [
      " 93%|█████████▎| 278/300 [01:07<00:03,  5.50it/s]"
     ]
    },
    {
     "name": "stdout",
     "output_type": "stream",
     "text": [
      "Accuracy loss: 66.18 | fairness loss 109.74 | Demographic disparity = 0.04\n",
      " \n",
      "Avg Training Stats after 277 global rounds:\n",
      "Training loss: 0.33 | Training accuracy: 74.96% | Training Demographic disparity: 0.0438\n",
      "\n",
      " | Global Training Round : 278 |\n",
      "\n",
      "Accuracy loss: 66.74 | fairness loss 97.47 | Demographic disparity = 0.04\n",
      " \n",
      "Avg Training Stats after 278 global rounds:\n",
      "Training loss: 0.33 | Training accuracy: 74.56% | Training Demographic disparity: 0.0369\n",
      "\n",
      " | Global Training Round : 279 |\n",
      "\n"
     ]
    },
    {
     "name": "stderr",
     "output_type": "stream",
     "text": [
      " 93%|█████████▎| 280/300 [01:07<00:03,  5.66it/s]"
     ]
    },
    {
     "name": "stdout",
     "output_type": "stream",
     "text": [
      "Accuracy loss: 63.43 | fairness loss 105.52 | Demographic disparity = 0.07\n",
      " \n",
      "Avg Training Stats after 279 global rounds:\n",
      "Training loss: 0.33 | Training accuracy: 76.33% | Training Demographic disparity: 0.0669\n",
      "\n",
      " | Global Training Round : 280 |\n",
      "\n",
      "Accuracy loss: 62.36 | fairness loss 114.17 | Demographic disparity = 0.08\n",
      " \n",
      "Avg Training Stats after 280 global rounds:\n",
      "Training loss: 0.33 | Training accuracy: 77.00% | Training Demographic disparity: 0.0773\n",
      "\n",
      " | Global Training Round : 281 |\n",
      "\n"
     ]
    },
    {
     "name": "stderr",
     "output_type": "stream",
     "text": [
      " 94%|█████████▍| 282/300 [01:08<00:03,  5.51it/s]"
     ]
    },
    {
     "name": "stdout",
     "output_type": "stream",
     "text": [
      "Accuracy loss: 65.26 | fairness loss 106.55 | Demographic disparity = 0.05\n",
      " \n",
      "Avg Training Stats after 281 global rounds:\n",
      "Training loss: 0.33 | Training accuracy: 75.48% | Training Demographic disparity: 0.0520\n",
      "\n",
      " | Global Training Round : 282 |\n",
      "\n",
      "Accuracy loss: 65.33 | fairness loss 103.01 | Demographic disparity = 0.05\n",
      " \n",
      "Avg Training Stats after 282 global rounds:\n",
      "Training loss: 0.33 | Training accuracy: 75.56% | Training Demographic disparity: 0.0527\n",
      "\n",
      " | Global Training Round : 283 |\n",
      "\n"
     ]
    },
    {
     "name": "stderr",
     "output_type": "stream",
     "text": [
      " 95%|█████████▍| 284/300 [01:08<00:02,  5.55it/s]"
     ]
    },
    {
     "name": "stdout",
     "output_type": "stream",
     "text": [
      "Accuracy loss: 63.68 | fairness loss 109.83 | Demographic disparity = 0.07\n",
      " \n",
      "Avg Training Stats after 283 global rounds:\n",
      "Training loss: 0.33 | Training accuracy: 76.26% | Training Demographic disparity: 0.0651\n",
      "\n",
      " | Global Training Round : 284 |\n",
      "\n",
      "Accuracy loss: 62.96 | fairness loss 109.51 | Demographic disparity = 0.07\n",
      " \n",
      "Avg Training Stats after 284 global rounds:\n",
      "Training loss: 0.33 | Training accuracy: 76.70% | Training Demographic disparity: 0.0730\n",
      "\n",
      " | Global Training Round : 285 |\n",
      "\n"
     ]
    },
    {
     "name": "stderr",
     "output_type": "stream",
     "text": [
      " 95%|█████████▌| 286/300 [01:09<00:02,  5.56it/s]"
     ]
    },
    {
     "name": "stdout",
     "output_type": "stream",
     "text": [
      "Accuracy loss: 65.90 | fairness loss 105.05 | Demographic disparity = 0.04\n",
      " \n",
      "Avg Training Stats after 285 global rounds:\n",
      "Training loss: 0.33 | Training accuracy: 74.96% | Training Demographic disparity: 0.0439\n",
      "\n",
      " | Global Training Round : 286 |\n",
      "\n",
      "Accuracy loss: 63.93 | fairness loss 108.34 | Demographic disparity = 0.06\n",
      " \n",
      "Avg Training Stats after 286 global rounds:\n",
      "Training loss: 0.32 | Training accuracy: 76.15% | Training Demographic disparity: 0.0648\n",
      "\n",
      " | Global Training Round : 287 |\n",
      "\n"
     ]
    },
    {
     "name": "stderr",
     "output_type": "stream",
     "text": [
      "\r",
      " 96%|█████████▌| 287/300 [01:09<00:02,  5.14it/s]"
     ]
    },
    {
     "name": "stdout",
     "output_type": "stream",
     "text": [
      "Accuracy loss: 63.65 | fairness loss 109.21 | Demographic disparity = 0.07\n",
      " \n",
      "Avg Training Stats after 287 global rounds:\n",
      "Training loss: 0.32 | Training accuracy: 76.41% | Training Demographic disparity: 0.0666\n",
      "\n",
      " | Global Training Round : 288 |\n",
      "\n"
     ]
    },
    {
     "name": "stderr",
     "output_type": "stream",
     "text": [
      "\r",
      " 96%|█████████▌| 288/300 [01:09<00:03,  3.94it/s]"
     ]
    },
    {
     "name": "stdout",
     "output_type": "stream",
     "text": [
      "Accuracy loss: 64.12 | fairness loss 111.94 | Demographic disparity = 0.06\n",
      " \n",
      "Avg Training Stats after 288 global rounds:\n",
      "Training loss: 0.32 | Training accuracy: 76.15% | Training Demographic disparity: 0.0636\n",
      "\n",
      " | Global Training Round : 289 |\n",
      "\n"
     ]
    },
    {
     "name": "stderr",
     "output_type": "stream",
     "text": [
      "\r",
      " 96%|█████████▋| 289/300 [01:09<00:02,  4.14it/s]"
     ]
    },
    {
     "name": "stdout",
     "output_type": "stream",
     "text": [
      "Accuracy loss: 63.62 | fairness loss 106.80 | Demographic disparity = 0.07\n",
      " \n",
      "Avg Training Stats after 289 global rounds:\n",
      "Training loss: 0.32 | Training accuracy: 76.41% | Training Demographic disparity: 0.0670\n",
      "\n",
      " | Global Training Round : 290 |\n",
      "\n",
      "Accuracy loss: 63.08 | fairness loss 110.82 | Demographic disparity = 0.07\n"
     ]
    },
    {
     "name": "stderr",
     "output_type": "stream",
     "text": [
      " 97%|█████████▋| 291/300 [01:10<00:01,  4.55it/s]"
     ]
    },
    {
     "name": "stdout",
     "output_type": "stream",
     "text": [
      " \n",
      "Avg Training Stats after 290 global rounds:\n",
      "Training loss: 0.32 | Training accuracy: 76.52% | Training Demographic disparity: 0.0713\n",
      "\n",
      " | Global Training Round : 291 |\n",
      "\n",
      "Accuracy loss: 65.28 | fairness loss 104.23 | Demographic disparity = 0.05\n",
      " \n",
      "Avg Training Stats after 291 global rounds:\n",
      "Training loss: 0.32 | Training accuracy: 75.52% | Training Demographic disparity: 0.0529\n",
      "\n",
      " | Global Training Round : 292 |\n",
      "\n"
     ]
    },
    {
     "name": "stderr",
     "output_type": "stream",
     "text": [
      "\r",
      " 97%|█████████▋| 292/300 [01:10<00:01,  4.63it/s]"
     ]
    },
    {
     "name": "stdout",
     "output_type": "stream",
     "text": [
      "Accuracy loss: 64.96 | fairness loss 105.26 | Demographic disparity = 0.06\n",
      " \n",
      "Avg Training Stats after 292 global rounds:\n",
      "Training loss: 0.32 | Training accuracy: 75.67% | Training Demographic disparity: 0.0557\n",
      "\n",
      " | Global Training Round : 293 |\n",
      "\n"
     ]
    },
    {
     "name": "stderr",
     "output_type": "stream",
     "text": [
      " 98%|█████████▊| 294/300 [01:10<00:01,  4.83it/s]"
     ]
    },
    {
     "name": "stdout",
     "output_type": "stream",
     "text": [
      "Accuracy loss: 63.74 | fairness loss 107.11 | Demographic disparity = 0.07\n",
      " \n",
      "Avg Training Stats after 293 global rounds:\n",
      "Training loss: 0.32 | Training accuracy: 76.33% | Training Demographic disparity: 0.0660\n",
      "\n",
      " | Global Training Round : 294 |\n",
      "\n",
      "Accuracy loss: 64.32 | fairness loss 109.82 | Demographic disparity = 0.06\n",
      " \n",
      "Avg Training Stats after 294 global rounds:\n",
      "Training loss: 0.32 | Training accuracy: 76.19% | Training Demographic disparity: 0.0621\n",
      "\n",
      " | Global Training Round : 295 |\n",
      "\n"
     ]
    },
    {
     "name": "stderr",
     "output_type": "stream",
     "text": [
      " 99%|█████████▊| 296/300 [01:11<00:00,  4.96it/s]"
     ]
    },
    {
     "name": "stdout",
     "output_type": "stream",
     "text": [
      "Accuracy loss: 63.47 | fairness loss 108.10 | Demographic disparity = 0.07\n",
      " \n",
      "Avg Training Stats after 295 global rounds:\n",
      "Training loss: 0.32 | Training accuracy: 76.48% | Training Demographic disparity: 0.0689\n",
      "\n",
      " | Global Training Round : 296 |\n",
      "\n",
      "Accuracy loss: 66.25 | fairness loss 101.61 | Demographic disparity = 0.04\n",
      " \n",
      "Avg Training Stats after 296 global rounds:\n",
      "Training loss: 0.32 | Training accuracy: 74.96% | Training Demographic disparity: 0.0432\n",
      "\n",
      " | Global Training Round : 297 |\n",
      "\n"
     ]
    },
    {
     "name": "stderr",
     "output_type": "stream",
     "text": [
      "\r",
      " 99%|█████████▉| 297/300 [01:11<00:00,  5.03it/s]"
     ]
    },
    {
     "name": "stdout",
     "output_type": "stream",
     "text": [
      "Accuracy loss: 67.23 | fairness loss 95.28 | Demographic disparity = 0.03\n",
      " \n",
      "Avg Training Stats after 297 global rounds:\n",
      "Training loss: 0.32 | Training accuracy: 74.48% | Training Demographic disparity: 0.0341\n",
      "\n",
      " | Global Training Round : 298 |\n",
      "\n"
     ]
    },
    {
     "name": "stderr",
     "output_type": "stream",
     "text": [
      "\r",
      " 99%|█████████▉| 298/300 [01:11<00:00,  5.01it/s]"
     ]
    },
    {
     "name": "stdout",
     "output_type": "stream",
     "text": [
      "Accuracy loss: 64.71 | fairness loss 110.01 | Demographic disparity = 0.06\n",
      " \n",
      "Avg Training Stats after 298 global rounds:\n",
      "Training loss: 0.32 | Training accuracy: 75.93% | Training Demographic disparity: 0.0584\n",
      "\n",
      " | Global Training Round : 299 |\n",
      "\n",
      "Accuracy loss: 66.03 | fairness loss 105.43 | Demographic disparity = 0.05\n"
     ]
    },
    {
     "name": "stderr",
     "output_type": "stream",
     "text": [
      "\r",
      "100%|█████████▉| 299/300 [01:11<00:00,  4.98it/s]"
     ]
    },
    {
     "name": "stdout",
     "output_type": "stream",
     "text": [
      " \n",
      "Avg Training Stats after 299 global rounds:\n",
      "Training loss: 0.32 | Training accuracy: 75.11% | Training Demographic disparity: 0.0464\n",
      "\n",
      " | Global Training Round : 300 |\n",
      "\n"
     ]
    },
    {
     "name": "stderr",
     "output_type": "stream",
     "text": [
      "100%|██████████| 300/300 [01:12<00:00,  4.16it/s]"
     ]
    },
    {
     "name": "stdout",
     "output_type": "stream",
     "text": [
      "Accuracy loss: 64.30 | fairness loss 107.15 | Demographic disparity = 0.06\n",
      " \n",
      "Avg Training Stats after 300 global rounds:\n",
      "Training loss: 0.32 | Training accuracy: 76.11% | Training Demographic disparity: 0.0614\n",
      " \n",
      " Results after 300 global rounds of training:\n",
      "|---- Avg Train Accuracy: 76.11%\n",
      "|---- Test Accuracy: 74.67%\n",
      "|---- Test Demographic disparity: 0.0221\n",
      "\n",
      " Total Run Time: 72.2593 sec\n"
     ]
    },
    {
     "name": "stderr",
     "output_type": "stream",
     "text": [
      "\n"
     ]
    }
   ],
   "source": [
    "server = Server(logReg(num_features=3, num_classes=2, seed = seed), synthetic_info, train_prn = False, seed = seed)\n",
    "server.FairBatch(num_epochs = 300, optimizer = 'adam', learning_rate = 0.006, alpha = 0.08)"
   ]
  },
  {
   "cell_type": "code",
   "execution_count": 3,
   "metadata": {
    "scrolled": true
   },
   "outputs": [
    {
     "name": "stderr",
     "output_type": "stream",
     "text": [
      "  0%|          | 1/300 [00:00<00:32,  9.13it/s]"
     ]
    },
    {
     "name": "stdout",
     "output_type": "stream",
     "text": [
      "\n",
      " | Global Training Round : 1 |\n",
      "\n",
      "Accuracy loss: 22.77 | fairness loss 45.44 | Demographic disparity = 0.24\n",
      " \n",
      "Avg Training Stats after 1 global rounds:\n",
      "Training loss: 105.25 | Validation accuracy: 60.00% | Validation Demographic disparity: 0.2377\n",
      "\n",
      " | Global Training Round : 2 |\n",
      "\n",
      "Accuracy loss: 22.00 | fairness loss 47.19 | Demographic disparity = 0.26\n",
      " \n",
      "Avg Training Stats after 2 global rounds:\n",
      "Training loss: 103.59 | Validation accuracy: 61.67% | Validation Demographic disparity: 0.2571\n",
      "\n",
      " | Global Training Round : 3 |\n",
      "\n"
     ]
    },
    {
     "name": "stderr",
     "output_type": "stream",
     "text": [
      "  1%|▏         | 4/300 [00:00<00:32,  9.07it/s]"
     ]
    },
    {
     "name": "stdout",
     "output_type": "stream",
     "text": [
      "Accuracy loss: 21.32 | fairness loss 48.92 | Demographic disparity = 0.26\n",
      " \n",
      "Avg Training Stats after 3 global rounds:\n",
      "Training loss: 102.03 | Validation accuracy: 62.33% | Validation Demographic disparity: 0.2638\n",
      "\n",
      " | Global Training Round : 4 |\n",
      "\n",
      "Accuracy loss: 20.70 | fairness loss 50.74 | Demographic disparity = 0.29\n",
      " \n",
      "Avg Training Stats after 4 global rounds:\n",
      "Training loss: 100.56 | Validation accuracy: 64.33% | Validation Demographic disparity: 0.2865\n",
      "\n",
      " | Global Training Round : 5 |\n",
      "\n"
     ]
    },
    {
     "name": "stderr",
     "output_type": "stream",
     "text": [
      "  2%|▏         | 6/300 [00:00<00:33,  8.69it/s]"
     ]
    },
    {
     "name": "stdout",
     "output_type": "stream",
     "text": [
      "Accuracy loss: 20.12 | fairness loss 52.61 | Demographic disparity = 0.31\n",
      " \n",
      "Avg Training Stats after 5 global rounds:\n",
      "Training loss: 99.18 | Validation accuracy: 65.67% | Validation Demographic disparity: 0.3148\n",
      "\n",
      " | Global Training Round : 6 |\n",
      "\n",
      "Accuracy loss: 19.61 | fairness loss 54.52 | Demographic disparity = 0.35\n",
      " \n",
      "Avg Training Stats after 6 global rounds:\n",
      "Training loss: 97.87 | Validation accuracy: 67.67% | Validation Demographic disparity: 0.3459\n",
      "\n",
      " | Global Training Round : 7 |\n",
      "\n"
     ]
    },
    {
     "name": "stderr",
     "output_type": "stream",
     "text": [
      "  3%|▎         | 8/300 [00:01<00:39,  7.31it/s]"
     ]
    },
    {
     "name": "stdout",
     "output_type": "stream",
     "text": [
      "Accuracy loss: 19.13 | fairness loss 56.27 | Demographic disparity = 0.36\n",
      " \n",
      "Avg Training Stats after 7 global rounds:\n",
      "Training loss: 96.63 | Validation accuracy: 69.33% | Validation Demographic disparity: 0.3614\n",
      "\n",
      " | Global Training Round : 8 |\n",
      "\n",
      "Accuracy loss: 18.70 | fairness loss 58.09 | Demographic disparity = 0.37\n",
      " \n",
      "Avg Training Stats after 8 global rounds:\n",
      "Training loss: 95.46 | Validation accuracy: 70.00% | Validation Demographic disparity: 0.3681\n",
      "\n",
      " | Global Training Round : 9 |\n",
      "\n"
     ]
    },
    {
     "name": "stderr",
     "output_type": "stream",
     "text": [
      "\r",
      "  3%|▎         | 10/300 [00:01<00:35,  8.10it/s]"
     ]
    },
    {
     "name": "stdout",
     "output_type": "stream",
     "text": [
      "Accuracy loss: 18.29 | fairness loss 59.80 | Demographic disparity = 0.38\n",
      " \n",
      "Avg Training Stats after 9 global rounds:\n",
      "Training loss: 94.35 | Validation accuracy: 71.00% | Validation Demographic disparity: 0.3809\n",
      "\n",
      " | Global Training Round : 10 |\n",
      "\n",
      "Accuracy loss: 17.91 | fairness loss 61.48 | Demographic disparity = 0.40\n",
      " \n",
      "Avg Training Stats after 10 global rounds:\n",
      "Training loss: 93.29 | Validation accuracy: 71.67% | Validation Demographic disparity: 0.3997\n",
      "\n",
      " | Global Training Round : 11 |\n",
      "\n",
      "Accuracy loss: 17.56 | fairness loss 63.15 | Demographic disparity = 0.40\n",
      " \n",
      "Avg Training Stats after 11 global rounds:\n"
     ]
    },
    {
     "name": "stderr",
     "output_type": "stream",
     "text": [
      "  4%|▍         | 12/300 [00:01<00:34,  8.36it/s]"
     ]
    },
    {
     "name": "stdout",
     "output_type": "stream",
     "text": [
      "Training loss: 92.28 | Validation accuracy: 71.67% | Validation Demographic disparity: 0.3997\n",
      "\n",
      " | Global Training Round : 12 |\n",
      "\n",
      "Accuracy loss: 17.23 | fairness loss 64.61 | Demographic disparity = 0.41\n",
      " \n",
      "Avg Training Stats after 12 global rounds:\n",
      "Training loss: 91.32 | Validation accuracy: 72.67% | Validation Demographic disparity: 0.4125\n",
      "\n",
      " | Global Training Round : 13 |\n",
      "\n"
     ]
    },
    {
     "name": "stderr",
     "output_type": "stream",
     "text": [
      "  5%|▍         | 14/300 [00:01<00:33,  8.49it/s]"
     ]
    },
    {
     "name": "stdout",
     "output_type": "stream",
     "text": [
      "Accuracy loss: 16.92 | fairness loss 65.86 | Demographic disparity = 0.43\n",
      " \n",
      "Avg Training Stats after 13 global rounds:\n",
      "Training loss: 90.39 | Validation accuracy: 74.00% | Validation Demographic disparity: 0.4314\n",
      "\n",
      " | Global Training Round : 14 |\n",
      "\n",
      "Accuracy loss: 16.63 | fairness loss 67.22 | Demographic disparity = 0.44\n",
      " \n",
      "Avg Training Stats after 14 global rounds:\n",
      "Training loss: 89.50 | Validation accuracy: 74.33% | Validation Demographic disparity: 0.4375\n",
      "\n",
      " | Global Training Round : 15 |\n",
      "\n"
     ]
    },
    {
     "name": "stderr",
     "output_type": "stream",
     "text": [
      "  5%|▌         | 16/300 [00:01<00:32,  8.72it/s]"
     ]
    },
    {
     "name": "stdout",
     "output_type": "stream",
     "text": [
      "Accuracy loss: 16.35 | fairness loss 68.27 | Demographic disparity = 0.46\n",
      " \n",
      "Avg Training Stats after 15 global rounds:\n",
      "Training loss: 88.64 | Validation accuracy: 75.67% | Validation Demographic disparity: 0.4591\n",
      "\n",
      " | Global Training Round : 16 |\n",
      "\n",
      "Accuracy loss: 16.09 | fairness loss 69.25 | Demographic disparity = 0.46\n",
      " \n",
      "Avg Training Stats after 16 global rounds:\n",
      "Training loss: 87.82 | Validation accuracy: 75.67% | Validation Demographic disparity: 0.4591\n",
      "\n",
      " | Global Training Round : 17 |\n",
      "\n"
     ]
    },
    {
     "name": "stderr",
     "output_type": "stream",
     "text": [
      "  6%|▋         | 19/300 [00:02<00:29,  9.45it/s]"
     ]
    },
    {
     "name": "stdout",
     "output_type": "stream",
     "text": [
      "Accuracy loss: 15.83 | fairness loss 70.26 | Demographic disparity = 0.46\n",
      " \n",
      "Avg Training Stats after 17 global rounds:\n",
      "Training loss: 87.02 | Validation accuracy: 75.67% | Validation Demographic disparity: 0.4591\n",
      "\n",
      " | Global Training Round : 18 |\n",
      "\n",
      "Accuracy loss: 15.59 | fairness loss 71.04 | Demographic disparity = 0.47\n",
      " \n",
      "Avg Training Stats after 18 global rounds:\n",
      "Training loss: 86.24 | Validation accuracy: 76.67% | Validation Demographic disparity: 0.4747\n",
      "\n",
      " | Global Training Round : 19 |\n",
      "\n",
      "Accuracy loss: 15.35 | fairness loss 71.79 | Demographic disparity = 0.48\n",
      " \n",
      "Avg Training Stats after 19 global rounds:\n",
      "Training loss: 85.49 | Validation accuracy: 77.67% | Validation Demographic disparity: 0.4847\n",
      "\n",
      " | Global Training Round : 20 |\n",
      "\n"
     ]
    },
    {
     "name": "stderr",
     "output_type": "stream",
     "text": [
      "  7%|▋         | 22/300 [00:02<00:28,  9.79it/s]"
     ]
    },
    {
     "name": "stdout",
     "output_type": "stream",
     "text": [
      "Accuracy loss: 15.12 | fairness loss 72.37 | Demographic disparity = 0.49\n",
      " \n",
      "Avg Training Stats after 20 global rounds:\n",
      "Training loss: 84.77 | Validation accuracy: 78.33% | Validation Demographic disparity: 0.4941\n",
      "\n",
      " | Global Training Round : 21 |\n",
      "\n",
      "Accuracy loss: 14.90 | fairness loss 72.94 | Demographic disparity = 0.50\n",
      " \n",
      "Avg Training Stats after 21 global rounds:\n",
      "Training loss: 84.06 | Validation accuracy: 78.67% | Validation Demographic disparity: 0.4974\n",
      "\n",
      " | Global Training Round : 22 |\n",
      "\n",
      "Accuracy loss: 14.69 | fairness loss 73.25 | Demographic disparity = 0.50\n",
      " \n",
      "Avg Training Stats after 22 global rounds:\n",
      "Training loss: 83.37 | Validation accuracy: 78.67% | Validation Demographic disparity: 0.4974\n",
      "\n",
      " | Global Training Round : 23 |\n",
      "\n"
     ]
    },
    {
     "name": "stderr",
     "output_type": "stream",
     "text": [
      "\r",
      "  8%|▊         | 24/300 [00:02<00:27, 10.02it/s]"
     ]
    },
    {
     "name": "stdout",
     "output_type": "stream",
     "text": [
      "Accuracy loss: 14.49 | fairness loss 73.63 | Demographic disparity = 0.50\n",
      " \n",
      "Avg Training Stats after 23 global rounds:\n",
      "Training loss: 82.69 | Validation accuracy: 79.67% | Validation Demographic disparity: 0.4980\n",
      "\n",
      " | Global Training Round : 24 |\n",
      "\n",
      "Accuracy loss: 14.29 | fairness loss 73.79 | Demographic disparity = 0.50\n",
      " \n",
      "Avg Training Stats after 24 global rounds:\n",
      "Training loss: 82.03 | Validation accuracy: 79.67% | Validation Demographic disparity: 0.4980\n",
      "\n",
      " | Global Training Round : 25 |\n",
      "\n",
      "Accuracy loss: 14.09 | fairness loss 73.89 | Demographic disparity = 0.50\n",
      " \n",
      "Avg Training Stats after 25 global rounds:\n",
      "Training loss: 81.39 | Validation accuracy: 79.67% | Validation Demographic disparity: 0.4980\n",
      "\n",
      " | Global Training Round : 26 |\n",
      "\n"
     ]
    },
    {
     "name": "stderr",
     "output_type": "stream",
     "text": [
      "  9%|▉         | 28/300 [00:03<00:26, 10.32it/s]"
     ]
    },
    {
     "name": "stdout",
     "output_type": "stream",
     "text": [
      "Accuracy loss: 13.91 | fairness loss 74.06 | Demographic disparity = 0.51\n",
      " \n",
      "Avg Training Stats after 26 global rounds:\n",
      "Training loss: 80.76 | Validation accuracy: 80.33% | Validation Demographic disparity: 0.5102\n",
      "\n",
      " | Global Training Round : 27 |\n",
      "\n",
      "Accuracy loss: 13.72 | fairness loss 74.18 | Demographic disparity = 0.52\n",
      " \n",
      "Avg Training Stats after 27 global rounds:\n",
      "Training loss: 80.15 | Validation accuracy: 80.67% | Validation Demographic disparity: 0.5163\n",
      "\n",
      " | Global Training Round : 28 |\n",
      "\n",
      "Accuracy loss: 13.54 | fairness loss 74.12 | Demographic disparity = 0.52\n",
      " \n",
      "Avg Training Stats after 28 global rounds:\n",
      "Training loss: 79.55 | Validation accuracy: 81.00% | Validation Demographic disparity: 0.5224\n",
      "\n",
      " | Global Training Round : 29 |\n",
      "\n"
     ]
    },
    {
     "name": "stderr",
     "output_type": "stream",
     "text": [
      "\r",
      " 10%|█         | 30/300 [00:03<00:25, 10.46it/s]"
     ]
    },
    {
     "name": "stdout",
     "output_type": "stream",
     "text": [
      "Accuracy loss: 13.37 | fairness loss 74.08 | Demographic disparity = 0.53\n",
      " \n",
      "Avg Training Stats after 29 global rounds:\n",
      "Training loss: 78.96 | Validation accuracy: 81.33% | Validation Demographic disparity: 0.5285\n",
      "\n",
      " | Global Training Round : 30 |\n",
      "\n",
      "Accuracy loss: 13.20 | fairness loss 74.08 | Demographic disparity = 0.53\n",
      " \n",
      "Avg Training Stats after 30 global rounds:\n",
      "Training loss: 78.38 | Validation accuracy: 81.33% | Validation Demographic disparity: 0.5285\n",
      "\n",
      " | Global Training Round : 31 |\n",
      "\n",
      "Accuracy loss: 13.04 | fairness loss 73.98 | Demographic disparity = 0.54\n",
      " \n",
      "Avg Training Stats after 31 global rounds:\n",
      "Training loss: 77.81 | Validation accuracy: 81.33% | Validation Demographic disparity: 0.5407\n",
      "\n",
      " | Global Training Round : 32 |\n",
      "\n"
     ]
    },
    {
     "name": "stderr",
     "output_type": "stream",
     "text": [
      " 11%|█▏        | 34/300 [00:03<00:25, 10.63it/s]"
     ]
    },
    {
     "name": "stdout",
     "output_type": "stream",
     "text": [
      "Accuracy loss: 12.88 | fairness loss 73.84 | Demographic disparity = 0.54\n",
      " \n",
      "Avg Training Stats after 32 global rounds:\n",
      "Training loss: 77.25 | Validation accuracy: 81.67% | Validation Demographic disparity: 0.5440\n",
      "\n",
      " | Global Training Round : 33 |\n",
      "\n",
      "Accuracy loss: 12.72 | fairness loss 73.73 | Demographic disparity = 0.55\n",
      " \n",
      "Avg Training Stats after 33 global rounds:\n",
      "Training loss: 76.70 | Validation accuracy: 82.00% | Validation Demographic disparity: 0.5474\n",
      "\n",
      " | Global Training Round : 34 |\n",
      "\n",
      "Accuracy loss: 12.57 | fairness loss 73.59 | Demographic disparity = 0.55\n",
      " \n",
      "Avg Training Stats after 34 global rounds:\n",
      "Training loss: 76.16 | Validation accuracy: 82.33% | Validation Demographic disparity: 0.5535\n",
      "\n",
      " | Global Training Round : 35 |\n",
      "\n"
     ]
    },
    {
     "name": "stderr",
     "output_type": "stream",
     "text": [
      "\r",
      " 12%|█▏        | 36/300 [00:03<00:25, 10.45it/s]"
     ]
    },
    {
     "name": "stdout",
     "output_type": "stream",
     "text": [
      "Accuracy loss: 12.42 | fairness loss 73.58 | Demographic disparity = 0.56\n",
      " \n",
      "Avg Training Stats after 35 global rounds:\n",
      "Training loss: 75.63 | Validation accuracy: 82.67% | Validation Demographic disparity: 0.5568\n",
      "\n",
      " | Global Training Round : 36 |\n",
      "\n",
      "Accuracy loss: 12.28 | fairness loss 73.18 | Demographic disparity = 0.57\n",
      " \n",
      "Avg Training Stats after 36 global rounds:\n",
      "Training loss: 75.11 | Validation accuracy: 83.33% | Validation Demographic disparity: 0.5662\n",
      "\n",
      " | Global Training Round : 37 |\n",
      "\n",
      "Accuracy loss: 12.14 | fairness loss 73.15 | Demographic disparity = 0.57\n",
      " \n",
      "Avg Training Stats after 37 global rounds:\n",
      "Training loss: 74.60 | Validation accuracy: 83.67% | Validation Demographic disparity: 0.5723\n",
      "\n",
      " | Global Training Round : 38 |\n",
      "\n"
     ]
    },
    {
     "name": "stderr",
     "output_type": "stream",
     "text": [
      " 13%|█▎        | 40/300 [00:04<00:24, 10.41it/s]"
     ]
    },
    {
     "name": "stdout",
     "output_type": "stream",
     "text": [
      "Accuracy loss: 12.01 | fairness loss 73.11 | Demographic disparity = 0.57\n",
      " \n",
      "Avg Training Stats after 38 global rounds:\n",
      "Training loss: 74.10 | Validation accuracy: 83.67% | Validation Demographic disparity: 0.5723\n",
      "\n",
      " | Global Training Round : 39 |\n",
      "\n",
      "Accuracy loss: 11.88 | fairness loss 72.84 | Demographic disparity = 0.57\n",
      " \n",
      "Avg Training Stats after 39 global rounds:\n",
      "Training loss: 73.61 | Validation accuracy: 83.67% | Validation Demographic disparity: 0.5723\n",
      "\n",
      " | Global Training Round : 40 |\n",
      "\n",
      "Accuracy loss: 11.75 | fairness loss 72.57 | Demographic disparity = 0.57\n",
      " \n",
      "Avg Training Stats after 40 global rounds:\n",
      "Training loss: 73.12 | Validation accuracy: 84.67% | Validation Demographic disparity: 0.5729\n",
      "\n",
      " | Global Training Round : 41 |\n",
      "\n"
     ]
    },
    {
     "name": "stderr",
     "output_type": "stream",
     "text": [
      "\r",
      " 14%|█▍        | 42/300 [00:04<00:25, 10.16it/s]"
     ]
    },
    {
     "name": "stdout",
     "output_type": "stream",
     "text": [
      "Accuracy loss: 11.62 | fairness loss 72.61 | Demographic disparity = 0.57\n",
      " \n",
      "Avg Training Stats after 41 global rounds:\n",
      "Training loss: 72.64 | Validation accuracy: 84.67% | Validation Demographic disparity: 0.5729\n",
      "\n",
      " | Global Training Round : 42 |\n",
      "\n",
      "Accuracy loss: 11.51 | fairness loss 72.54 | Demographic disparity = 0.57\n",
      " \n",
      "Avg Training Stats after 42 global rounds:\n",
      "Training loss: 72.17 | Validation accuracy: 84.67% | Validation Demographic disparity: 0.5729\n",
      "\n",
      " | Global Training Round : 43 |\n",
      "\n"
     ]
    },
    {
     "name": "stderr",
     "output_type": "stream",
     "text": [
      "\r",
      " 15%|█▍        | 44/300 [00:04<00:24, 10.34it/s]"
     ]
    },
    {
     "name": "stdout",
     "output_type": "stream",
     "text": [
      "Accuracy loss: 11.39 | fairness loss 72.29 | Demographic disparity = 0.58\n",
      " \n",
      "Avg Training Stats after 43 global rounds:\n",
      "Training loss: 71.71 | Validation accuracy: 85.00% | Validation Demographic disparity: 0.5790\n",
      "\n",
      " | Global Training Round : 44 |\n",
      "\n",
      "Accuracy loss: 11.28 | fairness loss 72.26 | Demographic disparity = 0.59\n",
      " \n",
      "Avg Training Stats after 44 global rounds:\n",
      "Training loss: 71.26 | Validation accuracy: 85.00% | Validation Demographic disparity: 0.5912\n",
      "\n",
      " | Global Training Round : 45 |\n",
      "\n",
      "Accuracy loss: 11.17 | fairness loss 72.45 | Demographic disparity = 0.59\n",
      " \n",
      "Avg Training Stats after 45 global rounds:\n",
      "Training loss: 70.81 | Validation accuracy: 85.00% | Validation Demographic disparity: 0.5912\n",
      "\n",
      " | Global Training Round : 46 |\n",
      "\n"
     ]
    },
    {
     "name": "stderr",
     "output_type": "stream",
     "text": [
      "\r",
      " 15%|█▌        | 46/300 [00:04<00:23, 10.79it/s]"
     ]
    },
    {
     "name": "stdout",
     "output_type": "stream",
     "text": [
      "Accuracy loss: 11.07 | fairness loss 72.29 | Demographic disparity = 0.60\n",
      " \n",
      "Avg Training Stats after 46 global rounds:\n",
      "Training loss: 70.37 | Validation accuracy: 84.67% | Validation Demographic disparity: 0.5973\n",
      "\n",
      " | Global Training Round : 47 |\n",
      "\n",
      "Accuracy loss: 10.97 | fairness loss 72.39 | Demographic disparity = 0.60\n",
      " \n",
      "Avg Training Stats after 47 global rounds:\n",
      "Training loss: 69.94 | Validation accuracy: 85.00% | Validation Demographic disparity: 0.6034\n",
      "\n",
      " | Global Training Round : 48 |\n",
      "\n"
     ]
    },
    {
     "name": "stderr",
     "output_type": "stream",
     "text": [
      "\r",
      " 16%|█▌        | 48/300 [00:04<00:24, 10.27it/s]"
     ]
    },
    {
     "name": "stdout",
     "output_type": "stream",
     "text": [
      "Accuracy loss: 10.87 | fairness loss 72.39 | Demographic disparity = 0.59\n",
      " \n",
      "Avg Training Stats after 48 global rounds:\n",
      "Training loss: 69.52 | Validation accuracy: 85.67% | Validation Demographic disparity: 0.5940\n",
      "\n",
      " | Global Training Round : 49 |\n",
      "\n",
      "Accuracy loss: 10.78 | fairness loss 72.42 | Demographic disparity = 0.59\n",
      " \n",
      "Avg Training Stats after 49 global rounds:\n",
      "Training loss: 69.10 | Validation accuracy: 85.33% | Validation Demographic disparity: 0.5906\n",
      "\n",
      " | Global Training Round : 50 |\n",
      "\n"
     ]
    },
    {
     "name": "stderr",
     "output_type": "stream",
     "text": [
      " 17%|█▋        | 51/300 [00:05<00:26,  9.41it/s]"
     ]
    },
    {
     "name": "stdout",
     "output_type": "stream",
     "text": [
      "Accuracy loss: 10.68 | fairness loss 72.53 | Demographic disparity = 0.59\n",
      " \n",
      "Avg Training Stats after 50 global rounds:\n",
      "Training loss: 68.69 | Validation accuracy: 85.33% | Validation Demographic disparity: 0.5906\n",
      "\n",
      " | Global Training Round : 51 |\n",
      "\n",
      "Accuracy loss: 10.60 | fairness loss 72.73 | Demographic disparity = 0.59\n",
      " \n",
      "Avg Training Stats after 51 global rounds:\n",
      "Training loss: 68.29 | Validation accuracy: 85.33% | Validation Demographic disparity: 0.5906\n",
      "\n",
      " | Global Training Round : 52 |\n",
      "\n"
     ]
    },
    {
     "name": "stderr",
     "output_type": "stream",
     "text": [
      "\r",
      " 18%|█▊        | 53/300 [00:05<00:25,  9.79it/s]"
     ]
    },
    {
     "name": "stdout",
     "output_type": "stream",
     "text": [
      "Accuracy loss: 10.51 | fairness loss 72.67 | Demographic disparity = 0.59\n",
      " \n",
      "Avg Training Stats after 52 global rounds:\n",
      "Training loss: 67.89 | Validation accuracy: 85.33% | Validation Demographic disparity: 0.5906\n",
      "\n",
      " | Global Training Round : 53 |\n",
      "\n",
      "Accuracy loss: 10.43 | fairness loss 73.01 | Demographic disparity = 0.59\n",
      " \n",
      "Avg Training Stats after 53 global rounds:\n",
      "Training loss: 67.50 | Validation accuracy: 85.33% | Validation Demographic disparity: 0.5906\n",
      "\n",
      " | Global Training Round : 54 |\n",
      "\n",
      "Accuracy loss: 10.35 | fairness loss 73.17 | Demographic disparity = 0.59\n",
      " \n",
      "Avg Training Stats after 54 global rounds:\n",
      "Training loss: 67.12 | Validation accuracy: 85.33% | Validation Demographic disparity: 0.5906\n",
      "\n",
      " | Global Training Round : 55 |\n",
      "\n"
     ]
    },
    {
     "name": "stderr",
     "output_type": "stream",
     "text": [
      "\r",
      " 18%|█▊        | 55/300 [00:05<00:24, 10.01it/s]"
     ]
    },
    {
     "name": "stdout",
     "output_type": "stream",
     "text": [
      "Accuracy loss: 10.27 | fairness loss 73.23 | Demographic disparity = 0.60\n",
      " \n",
      "Avg Training Stats after 55 global rounds:\n",
      "Training loss: 66.74 | Validation accuracy: 85.67% | Validation Demographic disparity: 0.5967\n",
      "\n",
      " | Global Training Round : 56 |\n",
      "\n",
      "Accuracy loss: 10.20 | fairness loss 73.46 | Demographic disparity = 0.60\n",
      " \n",
      "Avg Training Stats after 56 global rounds:\n",
      "Training loss: 66.37 | Validation accuracy: 85.67% | Validation Demographic disparity: 0.5967\n",
      "\n",
      " | Global Training Round : 57 |\n",
      "\n"
     ]
    },
    {
     "name": "stderr",
     "output_type": "stream",
     "text": [
      " 19%|█▉        | 58/300 [00:06<00:30,  7.87it/s]"
     ]
    },
    {
     "name": "stdout",
     "output_type": "stream",
     "text": [
      "Accuracy loss: 10.13 | fairness loss 73.85 | Demographic disparity = 0.60\n",
      " \n",
      "Avg Training Stats after 57 global rounds:\n",
      "Training loss: 66.01 | Validation accuracy: 85.67% | Validation Demographic disparity: 0.5967\n",
      "\n",
      " | Global Training Round : 58 |\n",
      "\n",
      "Accuracy loss: 10.06 | fairness loss 74.21 | Demographic disparity = 0.59\n",
      " \n",
      "Avg Training Stats after 58 global rounds:\n",
      "Training loss: 65.65 | Validation accuracy: 86.00% | Validation Demographic disparity: 0.5906\n",
      "\n",
      " | Global Training Round : 59 |\n",
      "\n"
     ]
    },
    {
     "name": "stderr",
     "output_type": "stream",
     "text": [
      "\r",
      " 20%|█▉        | 59/300 [00:06<00:28,  8.32it/s]"
     ]
    },
    {
     "name": "stdout",
     "output_type": "stream",
     "text": [
      "Accuracy loss: 9.99 | fairness loss 74.27 | Demographic disparity = 0.59\n",
      " \n",
      "Avg Training Stats after 59 global rounds:\n",
      "Training loss: 65.30 | Validation accuracy: 86.00% | Validation Demographic disparity: 0.5906\n",
      "\n",
      " | Global Training Round : 60 |\n",
      "\n"
     ]
    },
    {
     "name": "stderr",
     "output_type": "stream",
     "text": [
      "\r",
      " 20%|██        | 60/300 [00:06<00:44,  5.41it/s]"
     ]
    },
    {
     "name": "stdout",
     "output_type": "stream",
     "text": [
      "Accuracy loss: 9.93 | fairness loss 74.83 | Demographic disparity = 0.58\n",
      " \n",
      "Avg Training Stats after 60 global rounds:\n",
      "Training loss: 64.96 | Validation accuracy: 86.33% | Validation Demographic disparity: 0.5845\n",
      "\n",
      " | Global Training Round : 61 |\n",
      "\n"
     ]
    },
    {
     "name": "stderr",
     "output_type": "stream",
     "text": [
      "\r",
      " 20%|██        | 61/300 [00:06<00:51,  4.62it/s]"
     ]
    },
    {
     "name": "stdout",
     "output_type": "stream",
     "text": [
      "Accuracy loss: 9.87 | fairness loss 75.10 | Demographic disparity = 0.58\n",
      " \n",
      "Avg Training Stats after 61 global rounds:\n",
      "Training loss: 64.62 | Validation accuracy: 86.33% | Validation Demographic disparity: 0.5845\n",
      "\n",
      " | Global Training Round : 62 |\n",
      "\n"
     ]
    },
    {
     "name": "stderr",
     "output_type": "stream",
     "text": [
      "\r",
      " 21%|██        | 62/300 [00:07<00:55,  4.29it/s]"
     ]
    },
    {
     "name": "stdout",
     "output_type": "stream",
     "text": [
      "Accuracy loss: 9.81 | fairness loss 75.47 | Demographic disparity = 0.58\n",
      " \n",
      "Avg Training Stats after 62 global rounds:\n",
      "Training loss: 64.28 | Validation accuracy: 86.33% | Validation Demographic disparity: 0.5845\n",
      "\n",
      " | Global Training Round : 63 |\n",
      "\n"
     ]
    },
    {
     "name": "stderr",
     "output_type": "stream",
     "text": [
      "\r",
      " 21%|██        | 63/300 [00:07<01:01,  3.83it/s]"
     ]
    },
    {
     "name": "stdout",
     "output_type": "stream",
     "text": [
      "Accuracy loss: 9.75 | fairness loss 75.96 | Demographic disparity = 0.58\n",
      " \n",
      "Avg Training Stats after 63 global rounds:\n",
      "Training loss: 63.95 | Validation accuracy: 86.33% | Validation Demographic disparity: 0.5845\n",
      "\n",
      " | Global Training Round : 64 |\n",
      "\n"
     ]
    },
    {
     "name": "stderr",
     "output_type": "stream",
     "text": [
      "\r",
      " 21%|██▏       | 64/300 [00:07<01:01,  3.82it/s]"
     ]
    },
    {
     "name": "stdout",
     "output_type": "stream",
     "text": [
      "Accuracy loss: 9.69 | fairness loss 76.68 | Demographic disparity = 0.57\n",
      " \n",
      "Avg Training Stats after 64 global rounds:\n",
      "Training loss: 63.63 | Validation accuracy: 87.33% | Validation Demographic disparity: 0.5690\n",
      "\n",
      " | Global Training Round : 65 |\n",
      "\n"
     ]
    },
    {
     "name": "stderr",
     "output_type": "stream",
     "text": [
      "\r",
      " 22%|██▏       | 65/300 [00:07<01:00,  3.88it/s]"
     ]
    },
    {
     "name": "stdout",
     "output_type": "stream",
     "text": [
      "Accuracy loss: 9.64 | fairness loss 76.98 | Demographic disparity = 0.57\n",
      " \n",
      "Avg Training Stats after 65 global rounds:\n",
      "Training loss: 63.31 | Validation accuracy: 87.33% | Validation Demographic disparity: 0.5690\n",
      "\n",
      " | Global Training Round : 66 |\n",
      "\n"
     ]
    },
    {
     "name": "stderr",
     "output_type": "stream",
     "text": [
      "\r",
      " 22%|██▏       | 66/300 [00:08<00:56,  4.13it/s]"
     ]
    },
    {
     "name": "stdout",
     "output_type": "stream",
     "text": [
      "Accuracy loss: 9.59 | fairness loss 77.31 | Demographic disparity = 0.56\n",
      " \n",
      "Avg Training Stats after 66 global rounds:\n",
      "Training loss: 63.00 | Validation accuracy: 87.67% | Validation Demographic disparity: 0.5629\n",
      "\n",
      " | Global Training Round : 67 |\n",
      "\n"
     ]
    },
    {
     "name": "stderr",
     "output_type": "stream",
     "text": [
      "\r",
      " 22%|██▏       | 67/300 [00:08<01:02,  3.73it/s]"
     ]
    },
    {
     "name": "stdout",
     "output_type": "stream",
     "text": [
      "Accuracy loss: 9.54 | fairness loss 77.94 | Demographic disparity = 0.56\n",
      " \n",
      "Avg Training Stats after 67 global rounds:\n",
      "Training loss: 62.70 | Validation accuracy: 87.67% | Validation Demographic disparity: 0.5629\n",
      "\n",
      " | Global Training Round : 68 |\n",
      "\n"
     ]
    },
    {
     "name": "stderr",
     "output_type": "stream",
     "text": [
      " 23%|██▎       | 69/300 [00:08<00:52,  4.43it/s]"
     ]
    },
    {
     "name": "stdout",
     "output_type": "stream",
     "text": [
      "Accuracy loss: 9.49 | fairness loss 78.37 | Demographic disparity = 0.56\n",
      " \n",
      "Avg Training Stats after 68 global rounds:\n",
      "Training loss: 62.40 | Validation accuracy: 88.00% | Validation Demographic disparity: 0.5596\n",
      "\n",
      " | Global Training Round : 69 |\n",
      "\n",
      "Accuracy loss: 9.44 | fairness loss 79.06 | Demographic disparity = 0.56\n",
      " \n",
      "Avg Training Stats after 69 global rounds:\n",
      "Training loss: 62.10 | Validation accuracy: 88.00% | Validation Demographic disparity: 0.5596\n",
      "\n",
      " | Global Training Round : 70 |\n",
      "\n"
     ]
    },
    {
     "name": "stderr",
     "output_type": "stream",
     "text": [
      "\r",
      " 23%|██▎       | 70/300 [00:09<00:59,  3.86it/s]"
     ]
    },
    {
     "name": "stdout",
     "output_type": "stream",
     "text": [
      "Accuracy loss: 9.40 | fairness loss 79.60 | Demographic disparity = 0.56\n",
      " \n",
      "Avg Training Stats after 70 global rounds:\n",
      "Training loss: 61.81 | Validation accuracy: 88.00% | Validation Demographic disparity: 0.5596\n",
      "\n",
      " | Global Training Round : 71 |\n",
      "\n"
     ]
    },
    {
     "name": "stderr",
     "output_type": "stream",
     "text": [
      "\r",
      " 24%|██▎       | 71/300 [00:09<01:04,  3.56it/s]"
     ]
    },
    {
     "name": "stdout",
     "output_type": "stream",
     "text": [
      "Accuracy loss: 9.35 | fairness loss 79.97 | Demographic disparity = 0.56\n",
      " \n",
      "Avg Training Stats after 71 global rounds:\n",
      "Training loss: 61.52 | Validation accuracy: 88.33% | Validation Demographic disparity: 0.5562\n",
      "\n",
      " | Global Training Round : 72 |\n",
      "\n"
     ]
    },
    {
     "name": "stderr",
     "output_type": "stream",
     "text": [
      " 24%|██▍       | 73/300 [00:09<00:55,  4.08it/s]"
     ]
    },
    {
     "name": "stdout",
     "output_type": "stream",
     "text": [
      "Accuracy loss: 9.31 | fairness loss 80.49 | Demographic disparity = 0.56\n",
      " \n",
      "Avg Training Stats after 72 global rounds:\n",
      "Training loss: 61.24 | Validation accuracy: 88.33% | Validation Demographic disparity: 0.5562\n",
      "\n",
      " | Global Training Round : 73 |\n",
      "\n",
      "Accuracy loss: 9.27 | fairness loss 81.20 | Demographic disparity = 0.56\n",
      " \n",
      "Avg Training Stats after 73 global rounds:\n",
      "Training loss: 60.97 | Validation accuracy: 88.33% | Validation Demographic disparity: 0.5562\n",
      "\n",
      " | Global Training Round : 74 |\n",
      "\n"
     ]
    },
    {
     "name": "stderr",
     "output_type": "stream",
     "text": [
      " 25%|██▌       | 75/300 [00:10<00:48,  4.67it/s]"
     ]
    },
    {
     "name": "stdout",
     "output_type": "stream",
     "text": [
      "Accuracy loss: 9.23 | fairness loss 81.65 | Demographic disparity = 0.56\n",
      " \n",
      "Avg Training Stats after 74 global rounds:\n",
      "Training loss: 60.69 | Validation accuracy: 88.33% | Validation Demographic disparity: 0.5562\n",
      "\n",
      " | Global Training Round : 75 |\n",
      "\n",
      "Accuracy loss: 9.19 | fairness loss 82.58 | Demographic disparity = 0.56\n",
      " \n",
      "Avg Training Stats after 75 global rounds:\n",
      "Training loss: 60.43 | Validation accuracy: 88.33% | Validation Demographic disparity: 0.5562\n",
      "\n",
      " | Global Training Round : 76 |\n",
      "\n"
     ]
    },
    {
     "name": "stderr",
     "output_type": "stream",
     "text": [
      " 26%|██▌       | 77/300 [00:10<00:39,  5.65it/s]"
     ]
    },
    {
     "name": "stdout",
     "output_type": "stream",
     "text": [
      "Accuracy loss: 9.15 | fairness loss 83.15 | Demographic disparity = 0.56\n",
      " \n",
      "Avg Training Stats after 76 global rounds:\n",
      "Training loss: 60.16 | Validation accuracy: 88.33% | Validation Demographic disparity: 0.5562\n",
      "\n",
      " | Global Training Round : 77 |\n",
      "\n",
      "Accuracy loss: 9.12 | fairness loss 83.62 | Demographic disparity = 0.56\n",
      " \n",
      "Avg Training Stats after 77 global rounds:\n",
      "Training loss: 59.91 | Validation accuracy: 88.33% | Validation Demographic disparity: 0.5562\n",
      "\n",
      " | Global Training Round : 78 |\n",
      "\n"
     ]
    },
    {
     "name": "stderr",
     "output_type": "stream",
     "text": [
      " 26%|██▋       | 79/300 [00:10<00:33,  6.67it/s]"
     ]
    },
    {
     "name": "stdout",
     "output_type": "stream",
     "text": [
      "Accuracy loss: 9.09 | fairness loss 84.34 | Demographic disparity = 0.56\n",
      " \n",
      "Avg Training Stats after 78 global rounds:\n",
      "Training loss: 59.65 | Validation accuracy: 88.33% | Validation Demographic disparity: 0.5562\n",
      "\n",
      " | Global Training Round : 79 |\n",
      "\n",
      "Accuracy loss: 9.05 | fairness loss 84.97 | Demographic disparity = 0.56\n",
      " \n",
      "Avg Training Stats after 79 global rounds:\n",
      "Training loss: 59.40 | Validation accuracy: 88.33% | Validation Demographic disparity: 0.5562\n",
      "\n",
      " | Global Training Round : 80 |\n",
      "\n"
     ]
    },
    {
     "name": "stderr",
     "output_type": "stream",
     "text": [
      " 27%|██▋       | 82/300 [00:11<00:26,  8.14it/s]"
     ]
    },
    {
     "name": "stdout",
     "output_type": "stream",
     "text": [
      "Accuracy loss: 9.02 | fairness loss 85.76 | Demographic disparity = 0.56\n",
      " \n",
      "Avg Training Stats after 80 global rounds:\n",
      "Training loss: 59.16 | Validation accuracy: 88.33% | Validation Demographic disparity: 0.5562\n",
      "\n",
      " | Global Training Round : 81 |\n",
      "\n",
      "Accuracy loss: 8.99 | fairness loss 86.18 | Demographic disparity = 0.56\n",
      " \n",
      "Avg Training Stats after 81 global rounds:\n",
      "Training loss: 58.91 | Validation accuracy: 88.33% | Validation Demographic disparity: 0.5562\n",
      "\n",
      " | Global Training Round : 82 |\n",
      "\n",
      "Accuracy loss: 8.96 | fairness loss 87.03 | Demographic disparity = 0.55\n",
      " \n",
      "Avg Training Stats after 82 global rounds:\n",
      "Training loss: 58.68 | Validation accuracy: 88.67% | Validation Demographic disparity: 0.5529\n",
      "\n",
      " | Global Training Round : 83 |\n",
      "\n"
     ]
    },
    {
     "name": "stderr",
     "output_type": "stream",
     "text": [
      " 28%|██▊       | 85/300 [00:11<00:24,  8.79it/s]"
     ]
    },
    {
     "name": "stdout",
     "output_type": "stream",
     "text": [
      "Accuracy loss: 8.93 | fairness loss 87.70 | Demographic disparity = 0.55\n",
      " \n",
      "Avg Training Stats after 83 global rounds:\n",
      "Training loss: 58.44 | Validation accuracy: 88.33% | Validation Demographic disparity: 0.5468\n",
      "\n",
      " | Global Training Round : 84 |\n",
      "\n",
      "Accuracy loss: 8.90 | fairness loss 88.37 | Demographic disparity = 0.55\n",
      " \n",
      "Avg Training Stats after 84 global rounds:\n",
      "Training loss: 58.21 | Validation accuracy: 88.33% | Validation Demographic disparity: 0.5468\n",
      "\n",
      " | Global Training Round : 85 |\n",
      "\n",
      "Accuracy loss: 8.88 | fairness loss 88.93 | Demographic disparity = 0.55\n",
      " \n",
      "Avg Training Stats after 85 global rounds:\n",
      "Training loss: 57.99 | Validation accuracy: 88.33% | Validation Demographic disparity: 0.5468\n",
      "\n",
      " | Global Training Round : 86 |\n",
      "\n"
     ]
    },
    {
     "name": "stderr",
     "output_type": "stream",
     "text": [
      "\r",
      " 29%|██▊       | 86/300 [00:11<00:25,  8.46it/s]"
     ]
    },
    {
     "name": "stdout",
     "output_type": "stream",
     "text": [
      "Accuracy loss: 8.85 | fairness loss 89.59 | Demographic disparity = 0.55\n",
      " \n",
      "Avg Training Stats after 86 global rounds:\n",
      "Training loss: 57.76 | Validation accuracy: 88.33% | Validation Demographic disparity: 0.5468\n",
      "\n",
      " | Global Training Round : 87 |\n",
      "\n"
     ]
    },
    {
     "name": "stderr",
     "output_type": "stream",
     "text": [
      " 29%|██▉       | 88/300 [00:11<00:29,  7.26it/s]"
     ]
    },
    {
     "name": "stdout",
     "output_type": "stream",
     "text": [
      "Accuracy loss: 8.82 | fairness loss 90.46 | Demographic disparity = 0.55\n",
      " \n",
      "Avg Training Stats after 87 global rounds:\n",
      "Training loss: 57.55 | Validation accuracy: 88.33% | Validation Demographic disparity: 0.5468\n",
      "\n",
      " | Global Training Round : 88 |\n",
      "\n",
      "Accuracy loss: 8.80 | fairness loss 91.08 | Demographic disparity = 0.54\n",
      " \n",
      "Avg Training Stats after 88 global rounds:\n",
      "Training loss: 57.33 | Validation accuracy: 88.67% | Validation Demographic disparity: 0.5435\n",
      "\n",
      " | Global Training Round : 89 |\n",
      "\n",
      "Accuracy loss: 8.78 | fairness loss 91.99 | Demographic disparity = 0.54\n",
      " \n",
      "Avg Training Stats after 89 global rounds:\n",
      "Training loss: 57.12 | Validation accuracy: 88.67% | Validation Demographic disparity: 0.5435\n",
      "\n",
      " | Global Training Round : 90 |\n",
      "\n"
     ]
    },
    {
     "name": "stderr",
     "output_type": "stream",
     "text": [
      " 31%|███       | 92/300 [00:12<00:23,  8.98it/s]"
     ]
    },
    {
     "name": "stdout",
     "output_type": "stream",
     "text": [
      "Accuracy loss: 8.75 | fairness loss 92.71 | Demographic disparity = 0.54\n",
      " \n",
      "Avg Training Stats after 90 global rounds:\n",
      "Training loss: 56.91 | Validation accuracy: 88.67% | Validation Demographic disparity: 0.5435\n",
      "\n",
      " | Global Training Round : 91 |\n",
      "\n",
      "Accuracy loss: 8.73 | fairness loss 93.40 | Demographic disparity = 0.54\n",
      " \n",
      "Avg Training Stats after 91 global rounds:\n",
      "Training loss: 56.70 | Validation accuracy: 88.67% | Validation Demographic disparity: 0.5435\n",
      "\n",
      " | Global Training Round : 92 |\n",
      "\n",
      "Accuracy loss: 8.71 | fairness loss 93.82 | Demographic disparity = 0.54\n",
      " \n",
      "Avg Training Stats after 92 global rounds:\n",
      "Training loss: 56.50 | Validation accuracy: 88.67% | Validation Demographic disparity: 0.5435\n",
      "\n",
      " | Global Training Round : 93 |\n",
      "\n"
     ]
    },
    {
     "name": "stderr",
     "output_type": "stream",
     "text": [
      "\r",
      " 31%|███▏      | 94/300 [00:12<00:21,  9.41it/s]"
     ]
    },
    {
     "name": "stdout",
     "output_type": "stream",
     "text": [
      "Accuracy loss: 8.69 | fairness loss 94.88 | Demographic disparity = 0.54\n",
      " \n",
      "Avg Training Stats after 93 global rounds:\n",
      "Training loss: 56.30 | Validation accuracy: 88.67% | Validation Demographic disparity: 0.5435\n",
      "\n",
      " | Global Training Round : 94 |\n",
      "\n",
      "Accuracy loss: 8.67 | fairness loss 95.52 | Demographic disparity = 0.54\n",
      " \n",
      "Avg Training Stats after 94 global rounds:\n",
      "Training loss: 56.11 | Validation accuracy: 88.33% | Validation Demographic disparity: 0.5401\n",
      "\n",
      " | Global Training Round : 95 |\n",
      "\n",
      "Accuracy loss: 8.65 | fairness loss 96.21 | Demographic disparity = 0.54\n",
      " \n",
      "Avg Training Stats after 95 global rounds:\n",
      "Training loss: 55.91 | Validation accuracy: 88.33% | Validation Demographic disparity: 0.5401\n",
      "\n",
      " | Global Training Round : 96 |\n",
      "\n"
     ]
    },
    {
     "name": "stderr",
     "output_type": "stream",
     "text": [
      " 33%|███▎      | 98/300 [00:12<00:19, 10.41it/s]"
     ]
    },
    {
     "name": "stdout",
     "output_type": "stream",
     "text": [
      "Accuracy loss: 8.63 | fairness loss 97.21 | Demographic disparity = 0.54\n",
      " \n",
      "Avg Training Stats after 96 global rounds:\n",
      "Training loss: 55.73 | Validation accuracy: 88.33% | Validation Demographic disparity: 0.5401\n",
      "\n",
      " | Global Training Round : 97 |\n",
      "\n",
      "Accuracy loss: 8.61 | fairness loss 97.55 | Demographic disparity = 0.54\n",
      " \n",
      "Avg Training Stats after 97 global rounds:\n",
      "Training loss: 55.54 | Validation accuracy: 88.33% | Validation Demographic disparity: 0.5401\n",
      "\n",
      " | Global Training Round : 98 |\n",
      "\n",
      "Accuracy loss: 8.60 | fairness loss 98.27 | Demographic disparity = 0.54\n",
      " \n",
      "Avg Training Stats after 98 global rounds:\n",
      "Training loss: 55.35 | Validation accuracy: 88.33% | Validation Demographic disparity: 0.5401\n",
      "\n",
      " | Global Training Round : 99 |\n",
      "\n"
     ]
    },
    {
     "name": "stderr",
     "output_type": "stream",
     "text": [
      "\r",
      " 33%|███▎      | 100/300 [00:12<00:18, 10.66it/s]"
     ]
    },
    {
     "name": "stdout",
     "output_type": "stream",
     "text": [
      "Accuracy loss: 8.58 | fairness loss 99.00 | Demographic disparity = 0.54\n",
      " \n",
      "Avg Training Stats after 99 global rounds:\n",
      "Training loss: 55.17 | Validation accuracy: 88.33% | Validation Demographic disparity: 0.5401\n",
      "\n",
      " | Global Training Round : 100 |\n",
      "\n",
      "Accuracy loss: 8.56 | fairness loss 99.96 | Demographic disparity = 0.54\n",
      " \n",
      "Avg Training Stats after 100 global rounds:\n",
      "Training loss: 55.00 | Validation accuracy: 88.33% | Validation Demographic disparity: 0.5401\n",
      "\n",
      " | Global Training Round : 101 |\n",
      "\n",
      "Accuracy loss: 8.55 | fairness loss 100.57 | Demographic disparity = 0.54\n",
      " \n",
      "Avg Training Stats after 101 global rounds:\n",
      "Training loss: 54.82 | Validation accuracy: 88.33% | Validation Demographic disparity: 0.5401\n",
      "\n",
      " | Global Training Round : 102 |\n",
      "\n"
     ]
    },
    {
     "name": "stderr",
     "output_type": "stream",
     "text": [
      " 35%|███▍      | 104/300 [00:13<00:18, 10.53it/s]"
     ]
    },
    {
     "name": "stdout",
     "output_type": "stream",
     "text": [
      "Accuracy loss: 8.53 | fairness loss 101.58 | Demographic disparity = 0.54\n",
      " \n",
      "Avg Training Stats after 102 global rounds:\n",
      "Training loss: 54.65 | Validation accuracy: 88.33% | Validation Demographic disparity: 0.5401\n",
      "\n",
      " | Global Training Round : 103 |\n",
      "\n",
      "Accuracy loss: 8.52 | fairness loss 102.27 | Demographic disparity = 0.54\n",
      " \n",
      "Avg Training Stats after 103 global rounds:\n",
      "Training loss: 54.48 | Validation accuracy: 88.33% | Validation Demographic disparity: 0.5401\n",
      "\n",
      " | Global Training Round : 104 |\n",
      "\n",
      "Accuracy loss: 8.50 | fairness loss 103.00 | Demographic disparity = 0.54\n",
      " \n",
      "Avg Training Stats after 104 global rounds:\n",
      "Training loss: 54.31 | Validation accuracy: 88.33% | Validation Demographic disparity: 0.5401\n",
      "\n",
      " | Global Training Round : 105 |\n",
      "\n"
     ]
    },
    {
     "name": "stderr",
     "output_type": "stream",
     "text": [
      "\r",
      " 35%|███▌      | 106/300 [00:13<00:17, 10.96it/s]"
     ]
    },
    {
     "name": "stdout",
     "output_type": "stream",
     "text": [
      "Accuracy loss: 8.49 | fairness loss 103.83 | Demographic disparity = 0.54\n",
      " \n",
      "Avg Training Stats after 105 global rounds:\n",
      "Training loss: 54.14 | Validation accuracy: 88.33% | Validation Demographic disparity: 0.5401\n",
      "\n",
      " | Global Training Round : 106 |\n",
      "\n",
      "Accuracy loss: 8.48 | fairness loss 104.56 | Demographic disparity = 0.54\n",
      " \n",
      "Avg Training Stats after 106 global rounds:\n",
      "Training loss: 53.98 | Validation accuracy: 88.33% | Validation Demographic disparity: 0.5401\n",
      "\n",
      " | Global Training Round : 107 |\n",
      "\n",
      "Accuracy loss: 8.46 | fairness loss 105.13 | Demographic disparity = 0.54\n",
      " \n",
      "Avg Training Stats after 107 global rounds:\n",
      "Training loss: 53.82 | Validation accuracy: 88.33% | Validation Demographic disparity: 0.5401\n",
      "\n",
      " | Global Training Round : 108 |\n",
      "\n"
     ]
    },
    {
     "name": "stderr",
     "output_type": "stream",
     "text": [
      " 37%|███▋      | 110/300 [00:13<00:17, 10.94it/s]"
     ]
    },
    {
     "name": "stdout",
     "output_type": "stream",
     "text": [
      "Accuracy loss: 8.45 | fairness loss 105.95 | Demographic disparity = 0.54\n",
      " \n",
      "Avg Training Stats after 108 global rounds:\n",
      "Training loss: 53.66 | Validation accuracy: 88.67% | Validation Demographic disparity: 0.5368\n",
      "\n",
      " | Global Training Round : 109 |\n",
      "\n",
      "Accuracy loss: 8.44 | fairness loss 106.54 | Demographic disparity = 0.54\n",
      " \n",
      "Avg Training Stats after 109 global rounds:\n",
      "Training loss: 53.51 | Validation accuracy: 88.67% | Validation Demographic disparity: 0.5368\n",
      "\n",
      " | Global Training Round : 110 |\n",
      "\n",
      "Accuracy loss: 8.43 | fairness loss 107.22 | Demographic disparity = 0.54\n",
      " \n",
      "Avg Training Stats after 110 global rounds:\n",
      "Training loss: 53.35 | Validation accuracy: 88.67% | Validation Demographic disparity: 0.5368\n",
      "\n",
      " | Global Training Round : 111 |\n",
      "\n"
     ]
    },
    {
     "name": "stderr",
     "output_type": "stream",
     "text": [
      "\r",
      " 37%|███▋      | 112/300 [00:14<00:16, 11.23it/s]"
     ]
    },
    {
     "name": "stdout",
     "output_type": "stream",
     "text": [
      "Accuracy loss: 8.42 | fairness loss 107.76 | Demographic disparity = 0.54\n",
      " \n",
      "Avg Training Stats after 111 global rounds:\n",
      "Training loss: 53.20 | Validation accuracy: 88.67% | Validation Demographic disparity: 0.5368\n",
      "\n",
      " | Global Training Round : 112 |\n",
      "\n",
      "Accuracy loss: 8.41 | fairness loss 108.64 | Demographic disparity = 0.53\n",
      " \n",
      "Avg Training Stats after 112 global rounds:\n",
      "Training loss: 53.05 | Validation accuracy: 88.33% | Validation Demographic disparity: 0.5307\n",
      "\n",
      " | Global Training Round : 113 |\n",
      "\n",
      "Accuracy loss: 8.40 | fairness loss 109.32 | Demographic disparity = 0.53\n",
      " \n",
      "Avg Training Stats after 113 global rounds:\n",
      "Training loss: 52.91 | Validation accuracy: 88.33% | Validation Demographic disparity: 0.5307\n",
      "\n",
      " | Global Training Round : 114 |\n",
      "\n"
     ]
    },
    {
     "name": "stderr",
     "output_type": "stream",
     "text": [
      " 39%|███▊      | 116/300 [00:14<00:15, 11.64it/s]"
     ]
    },
    {
     "name": "stdout",
     "output_type": "stream",
     "text": [
      "Accuracy loss: 8.38 | fairness loss 110.03 | Demographic disparity = 0.53\n",
      " \n",
      "Avg Training Stats after 114 global rounds:\n",
      "Training loss: 52.76 | Validation accuracy: 88.33% | Validation Demographic disparity: 0.5307\n",
      "\n",
      " | Global Training Round : 115 |\n",
      "\n",
      "Accuracy loss: 8.38 | fairness loss 110.61 | Demographic disparity = 0.53\n",
      " \n",
      "Avg Training Stats after 115 global rounds:\n",
      "Training loss: 52.62 | Validation accuracy: 88.33% | Validation Demographic disparity: 0.5307\n",
      "\n",
      " | Global Training Round : 116 |\n",
      "\n",
      "Accuracy loss: 8.36 | fairness loss 111.77 | Demographic disparity = 0.53\n",
      " \n",
      "Avg Training Stats after 116 global rounds:\n",
      "Training loss: 52.48 | Validation accuracy: 88.33% | Validation Demographic disparity: 0.5307\n",
      "\n",
      " | Global Training Round : 117 |\n",
      "\n"
     ]
    },
    {
     "name": "stderr",
     "output_type": "stream",
     "text": [
      "\r",
      " 39%|███▉      | 118/300 [00:14<00:15, 11.69it/s]"
     ]
    },
    {
     "name": "stdout",
     "output_type": "stream",
     "text": [
      "Accuracy loss: 8.36 | fairness loss 112.28 | Demographic disparity = 0.53\n",
      " \n",
      "Avg Training Stats after 117 global rounds:\n",
      "Training loss: 52.34 | Validation accuracy: 88.33% | Validation Demographic disparity: 0.5307\n",
      "\n",
      " | Global Training Round : 118 |\n",
      "\n",
      "Accuracy loss: 8.35 | fairness loss 112.74 | Demographic disparity = 0.52\n",
      " \n",
      "Avg Training Stats after 118 global rounds:\n",
      "Training loss: 52.20 | Validation accuracy: 88.67% | Validation Demographic disparity: 0.5246\n",
      "\n",
      " | Global Training Round : 119 |\n",
      "\n",
      "Accuracy loss: 8.34 | fairness loss 113.83 | Demographic disparity = 0.52\n",
      " \n",
      "Avg Training Stats after 119 global rounds:\n",
      "Training loss: 52.07 | Validation accuracy: 88.67% | Validation Demographic disparity: 0.5246\n",
      "\n",
      " | Global Training Round : 120 |\n",
      "\n"
     ]
    },
    {
     "name": "stderr",
     "output_type": "stream",
     "text": [
      " 41%|████      | 122/300 [00:14<00:14, 11.98it/s]"
     ]
    },
    {
     "name": "stdout",
     "output_type": "stream",
     "text": [
      "Accuracy loss: 8.33 | fairness loss 114.18 | Demographic disparity = 0.52\n",
      " \n",
      "Avg Training Stats after 120 global rounds:\n",
      "Training loss: 51.94 | Validation accuracy: 88.67% | Validation Demographic disparity: 0.5246\n",
      "\n",
      " | Global Training Round : 121 |\n",
      "\n",
      "Accuracy loss: 8.32 | fairness loss 115.02 | Demographic disparity = 0.52\n",
      " \n",
      "Avg Training Stats after 121 global rounds:\n",
      "Training loss: 51.80 | Validation accuracy: 88.67% | Validation Demographic disparity: 0.5246\n",
      "\n",
      " | Global Training Round : 122 |\n",
      "\n",
      "Accuracy loss: 8.31 | fairness loss 115.96 | Demographic disparity = 0.52\n",
      " \n",
      "Avg Training Stats after 122 global rounds:\n",
      "Training loss: 51.68 | Validation accuracy: 88.67% | Validation Demographic disparity: 0.5246\n",
      "\n",
      " | Global Training Round : 123 |\n",
      "\n"
     ]
    },
    {
     "name": "stderr",
     "output_type": "stream",
     "text": [
      "\r",
      " 41%|████▏     | 124/300 [00:15<00:14, 11.88it/s]"
     ]
    },
    {
     "name": "stdout",
     "output_type": "stream",
     "text": [
      "Accuracy loss: 8.31 | fairness loss 116.11 | Demographic disparity = 0.52\n",
      " \n",
      "Avg Training Stats after 123 global rounds:\n",
      "Training loss: 51.55 | Validation accuracy: 88.67% | Validation Demographic disparity: 0.5246\n",
      "\n",
      " | Global Training Round : 124 |\n",
      "\n",
      "Accuracy loss: 8.30 | fairness loss 117.27 | Demographic disparity = 0.52\n",
      " \n",
      "Avg Training Stats after 124 global rounds:\n",
      "Training loss: 51.42 | Validation accuracy: 88.67% | Validation Demographic disparity: 0.5246\n",
      "\n",
      " | Global Training Round : 125 |\n",
      "\n",
      "Accuracy loss: 8.29 | fairness loss 117.83 | Demographic disparity = 0.52\n",
      " \n",
      "Avg Training Stats after 125 global rounds:\n",
      "Training loss: 51.30 | Validation accuracy: 88.67% | Validation Demographic disparity: 0.5246\n",
      "\n",
      " | Global Training Round : 126 |\n",
      "\n"
     ]
    },
    {
     "name": "stderr",
     "output_type": "stream",
     "text": [
      " 43%|████▎     | 128/300 [00:15<00:14, 12.05it/s]"
     ]
    },
    {
     "name": "stdout",
     "output_type": "stream",
     "text": [
      "Accuracy loss: 8.29 | fairness loss 118.37 | Demographic disparity = 0.52\n",
      " \n",
      "Avg Training Stats after 126 global rounds:\n",
      "Training loss: 51.18 | Validation accuracy: 88.67% | Validation Demographic disparity: 0.5246\n",
      "\n",
      " | Global Training Round : 127 |\n",
      "\n",
      "Accuracy loss: 8.28 | fairness loss 119.20 | Demographic disparity = 0.52\n",
      " \n",
      "Avg Training Stats after 127 global rounds:\n",
      "Training loss: 51.06 | Validation accuracy: 88.67% | Validation Demographic disparity: 0.5246\n",
      "\n",
      " | Global Training Round : 128 |\n",
      "\n",
      "Accuracy loss: 8.27 | fairness loss 119.97 | Demographic disparity = 0.52\n",
      " \n",
      "Avg Training Stats after 128 global rounds:\n",
      "Training loss: 50.94 | Validation accuracy: 88.67% | Validation Demographic disparity: 0.5246\n",
      "\n",
      " | Global Training Round : 129 |\n",
      "\n"
     ]
    },
    {
     "name": "stderr",
     "output_type": "stream",
     "text": [
      "\r",
      " 43%|████▎     | 130/300 [00:15<00:14, 11.96it/s]"
     ]
    },
    {
     "name": "stdout",
     "output_type": "stream",
     "text": [
      "Accuracy loss: 8.27 | fairness loss 120.81 | Demographic disparity = 0.52\n",
      " \n",
      "Avg Training Stats after 129 global rounds:\n",
      "Training loss: 50.82 | Validation accuracy: 88.67% | Validation Demographic disparity: 0.5246\n",
      "\n",
      " | Global Training Round : 130 |\n",
      "\n",
      "Accuracy loss: 8.26 | fairness loss 121.17 | Demographic disparity = 0.52\n",
      " \n",
      "Avg Training Stats after 130 global rounds:\n",
      "Training loss: 50.70 | Validation accuracy: 89.00% | Validation Demographic disparity: 0.5213\n",
      "\n",
      " | Global Training Round : 131 |\n",
      "\n",
      "Accuracy loss: 8.26 | fairness loss 121.83 | Demographic disparity = 0.52\n",
      " \n",
      "Avg Training Stats after 131 global rounds:\n",
      "Training loss: 50.59 | Validation accuracy: 89.00% | Validation Demographic disparity: 0.5213\n",
      "\n",
      " | Global Training Round : 132 |\n",
      "\n"
     ]
    },
    {
     "name": "stderr",
     "output_type": "stream",
     "text": [
      " 45%|████▍     | 134/300 [00:15<00:13, 12.12it/s]"
     ]
    },
    {
     "name": "stdout",
     "output_type": "stream",
     "text": [
      "Accuracy loss: 8.25 | fairness loss 122.47 | Demographic disparity = 0.52\n",
      " \n",
      "Avg Training Stats after 132 global rounds:\n",
      "Training loss: 50.48 | Validation accuracy: 88.67% | Validation Demographic disparity: 0.5179\n",
      "\n",
      " | Global Training Round : 133 |\n",
      "\n",
      "Accuracy loss: 8.24 | fairness loss 123.23 | Demographic disparity = 0.52\n",
      " \n",
      "Avg Training Stats after 133 global rounds:\n",
      "Training loss: 50.37 | Validation accuracy: 88.67% | Validation Demographic disparity: 0.5179\n",
      "\n",
      " | Global Training Round : 134 |\n",
      "\n",
      "Accuracy loss: 8.24 | fairness loss 123.69 | Demographic disparity = 0.52\n",
      " \n",
      "Avg Training Stats after 134 global rounds:\n",
      "Training loss: 50.26 | Validation accuracy: 88.67% | Validation Demographic disparity: 0.5179\n",
      "\n",
      " | Global Training Round : 135 |\n",
      "\n"
     ]
    },
    {
     "name": "stderr",
     "output_type": "stream",
     "text": [
      "\r",
      " 45%|████▌     | 136/300 [00:16<00:13, 12.10it/s]"
     ]
    },
    {
     "name": "stdout",
     "output_type": "stream",
     "text": [
      "Accuracy loss: 8.23 | fairness loss 124.45 | Demographic disparity = 0.52\n",
      " \n",
      "Avg Training Stats after 135 global rounds:\n",
      "Training loss: 50.15 | Validation accuracy: 88.67% | Validation Demographic disparity: 0.5179\n",
      "\n",
      " | Global Training Round : 136 |\n",
      "\n",
      "Accuracy loss: 8.23 | fairness loss 125.16 | Demographic disparity = 0.52\n",
      " \n",
      "Avg Training Stats after 136 global rounds:\n",
      "Training loss: 50.04 | Validation accuracy: 88.67% | Validation Demographic disparity: 0.5179\n",
      "\n",
      " | Global Training Round : 137 |\n",
      "\n",
      "Accuracy loss: 8.23 | fairness loss 125.71 | Demographic disparity = 0.52\n",
      " \n",
      "Avg Training Stats after 137 global rounds:\n",
      "Training loss: 49.93 | Validation accuracy: 88.67% | Validation Demographic disparity: 0.5179\n",
      "\n",
      " | Global Training Round : 138 |\n",
      "\n"
     ]
    },
    {
     "name": "stderr",
     "output_type": "stream",
     "text": [
      " 47%|████▋     | 140/300 [00:16<00:13, 12.15it/s]"
     ]
    },
    {
     "name": "stdout",
     "output_type": "stream",
     "text": [
      "Accuracy loss: 8.22 | fairness loss 126.46 | Demographic disparity = 0.52\n",
      " \n",
      "Avg Training Stats after 138 global rounds:\n",
      "Training loss: 49.83 | Validation accuracy: 88.67% | Validation Demographic disparity: 0.5179\n",
      "\n",
      " | Global Training Round : 139 |\n",
      "\n",
      "Accuracy loss: 8.22 | fairness loss 126.81 | Demographic disparity = 0.52\n",
      " \n",
      "Avg Training Stats after 139 global rounds:\n",
      "Training loss: 49.73 | Validation accuracy: 88.67% | Validation Demographic disparity: 0.5179\n",
      "\n",
      " | Global Training Round : 140 |\n",
      "\n",
      "Accuracy loss: 8.21 | fairness loss 127.36 | Demographic disparity = 0.52\n",
      " \n",
      "Avg Training Stats after 140 global rounds:\n",
      "Training loss: 49.63 | Validation accuracy: 88.67% | Validation Demographic disparity: 0.5179\n",
      "\n",
      " | Global Training Round : 141 |\n",
      "\n"
     ]
    },
    {
     "name": "stderr",
     "output_type": "stream",
     "text": [
      "\r",
      " 47%|████▋     | 142/300 [00:16<00:13, 11.91it/s]"
     ]
    },
    {
     "name": "stdout",
     "output_type": "stream",
     "text": [
      "Accuracy loss: 8.21 | fairness loss 128.11 | Demographic disparity = 0.52\n",
      " \n",
      "Avg Training Stats after 141 global rounds:\n",
      "Training loss: 49.53 | Validation accuracy: 88.67% | Validation Demographic disparity: 0.5179\n",
      "\n",
      " | Global Training Round : 142 |\n",
      "\n",
      "Accuracy loss: 8.21 | fairness loss 128.57 | Demographic disparity = 0.52\n",
      " \n",
      "Avg Training Stats after 142 global rounds:\n",
      "Training loss: 49.43 | Validation accuracy: 88.67% | Validation Demographic disparity: 0.5179\n",
      "\n",
      " | Global Training Round : 143 |\n",
      "\n",
      "Accuracy loss: 8.20 | fairness loss 129.28 | Demographic disparity = 0.52\n",
      " \n",
      "Avg Training Stats after 143 global rounds:\n",
      "Training loss: 49.33 | Validation accuracy: 88.67% | Validation Demographic disparity: 0.5179\n",
      "\n",
      " | Global Training Round : 144 |\n",
      "\n"
     ]
    },
    {
     "name": "stderr",
     "output_type": "stream",
     "text": [
      " 49%|████▊     | 146/300 [00:16<00:12, 11.96it/s]"
     ]
    },
    {
     "name": "stdout",
     "output_type": "stream",
     "text": [
      "Accuracy loss: 8.20 | fairness loss 129.73 | Demographic disparity = 0.52\n",
      " \n",
      "Avg Training Stats after 144 global rounds:\n",
      "Training loss: 49.23 | Validation accuracy: 88.67% | Validation Demographic disparity: 0.5179\n",
      "\n",
      " | Global Training Round : 145 |\n",
      "\n",
      "Accuracy loss: 8.20 | fairness loss 130.02 | Demographic disparity = 0.52\n",
      " \n",
      "Avg Training Stats after 145 global rounds:\n",
      "Training loss: 49.14 | Validation accuracy: 88.67% | Validation Demographic disparity: 0.5179\n",
      "\n",
      " | Global Training Round : 146 |\n",
      "\n",
      "Accuracy loss: 8.19 | fairness loss 130.83 | Demographic disparity = 0.52\n",
      " \n",
      "Avg Training Stats after 146 global rounds:\n",
      "Training loss: 49.04 | Validation accuracy: 88.67% | Validation Demographic disparity: 0.5179\n",
      "\n",
      " | Global Training Round : 147 |\n",
      "\n"
     ]
    },
    {
     "name": "stderr",
     "output_type": "stream",
     "text": [
      "\r",
      " 49%|████▉     | 148/300 [00:17<00:13, 11.66it/s]"
     ]
    },
    {
     "name": "stdout",
     "output_type": "stream",
     "text": [
      "Accuracy loss: 8.19 | fairness loss 131.46 | Demographic disparity = 0.52\n",
      " \n",
      "Avg Training Stats after 147 global rounds:\n",
      "Training loss: 48.95 | Validation accuracy: 88.67% | Validation Demographic disparity: 0.5179\n",
      "\n",
      " | Global Training Round : 148 |\n",
      "\n",
      "Accuracy loss: 8.19 | fairness loss 132.00 | Demographic disparity = 0.52\n",
      " \n",
      "Avg Training Stats after 148 global rounds:\n",
      "Training loss: 48.86 | Validation accuracy: 88.67% | Validation Demographic disparity: 0.5179\n",
      "\n",
      " | Global Training Round : 149 |\n",
      "\n",
      "Accuracy loss: 8.18 | fairness loss 132.54 | Demographic disparity = 0.52\n",
      " \n",
      "Avg Training Stats after 149 global rounds:\n",
      "Training loss: 48.77 | Validation accuracy: 88.67% | Validation Demographic disparity: 0.5179\n",
      "\n",
      " | Global Training Round : 150 |\n",
      "\n"
     ]
    },
    {
     "name": "stderr",
     "output_type": "stream",
     "text": [
      " 51%|█████     | 152/300 [00:17<00:12, 11.52it/s]"
     ]
    },
    {
     "name": "stdout",
     "output_type": "stream",
     "text": [
      "Accuracy loss: 8.18 | fairness loss 133.29 | Demographic disparity = 0.52\n",
      " \n",
      "Avg Training Stats after 150 global rounds:\n",
      "Training loss: 48.68 | Validation accuracy: 88.67% | Validation Demographic disparity: 0.5179\n",
      "\n",
      " | Global Training Round : 151 |\n",
      "\n",
      "Accuracy loss: 8.18 | fairness loss 134.21 | Demographic disparity = 0.52\n",
      " \n",
      "Avg Training Stats after 151 global rounds:\n",
      "Training loss: 48.59 | Validation accuracy: 88.67% | Validation Demographic disparity: 0.5179\n",
      "\n",
      " | Global Training Round : 152 |\n",
      "\n",
      "Accuracy loss: 8.17 | fairness loss 134.32 | Demographic disparity = 0.52\n",
      " \n",
      "Avg Training Stats after 152 global rounds:\n",
      "Training loss: 48.50 | Validation accuracy: 88.67% | Validation Demographic disparity: 0.5179\n",
      "\n",
      " | Global Training Round : 153 |\n",
      "\n"
     ]
    },
    {
     "name": "stderr",
     "output_type": "stream",
     "text": [
      "\r",
      " 51%|█████▏    | 154/300 [00:17<00:12, 11.38it/s]"
     ]
    },
    {
     "name": "stdout",
     "output_type": "stream",
     "text": [
      "Accuracy loss: 8.17 | fairness loss 134.62 | Demographic disparity = 0.52\n",
      " \n",
      "Avg Training Stats after 153 global rounds:\n",
      "Training loss: 48.41 | Validation accuracy: 88.67% | Validation Demographic disparity: 0.5179\n",
      "\n",
      " | Global Training Round : 154 |\n",
      "\n",
      "Accuracy loss: 8.17 | fairness loss 135.61 | Demographic disparity = 0.52\n",
      " \n",
      "Avg Training Stats after 154 global rounds:\n",
      "Training loss: 48.33 | Validation accuracy: 88.67% | Validation Demographic disparity: 0.5179\n",
      "\n",
      " | Global Training Round : 155 |\n",
      "\n"
     ]
    },
    {
     "name": "stderr",
     "output_type": "stream",
     "text": [
      "\r",
      " 52%|█████▏    | 156/300 [00:17<00:13, 10.58it/s]"
     ]
    },
    {
     "name": "stdout",
     "output_type": "stream",
     "text": [
      "Accuracy loss: 8.17 | fairness loss 135.79 | Demographic disparity = 0.52\n",
      " \n",
      "Avg Training Stats after 155 global rounds:\n",
      "Training loss: 48.24 | Validation accuracy: 88.67% | Validation Demographic disparity: 0.5179\n",
      "\n",
      " | Global Training Round : 156 |\n",
      "\n",
      "Accuracy loss: 8.16 | fairness loss 136.48 | Demographic disparity = 0.52\n",
      " \n",
      "Avg Training Stats after 156 global rounds:\n",
      "Training loss: 48.16 | Validation accuracy: 88.67% | Validation Demographic disparity: 0.5179\n",
      "\n",
      " | Global Training Round : 157 |\n",
      "\n",
      "Accuracy loss: 8.16 | fairness loss 137.12 | Demographic disparity = 0.52\n",
      " \n",
      "Avg Training Stats after 157 global rounds:\n",
      "Training loss: 48.08 | Validation accuracy: 88.67% | Validation Demographic disparity: 0.5179\n",
      "\n",
      " | Global Training Round : 158 |\n",
      "\n"
     ]
    },
    {
     "name": "stderr",
     "output_type": "stream",
     "text": [
      " 53%|█████▎    | 160/300 [00:18<00:12, 11.28it/s]"
     ]
    },
    {
     "name": "stdout",
     "output_type": "stream",
     "text": [
      "Accuracy loss: 8.16 | fairness loss 137.57 | Demographic disparity = 0.52\n",
      " \n",
      "Avg Training Stats after 158 global rounds:\n",
      "Training loss: 48.00 | Validation accuracy: 88.67% | Validation Demographic disparity: 0.5179\n",
      "\n",
      " | Global Training Round : 159 |\n",
      "\n",
      "Accuracy loss: 8.16 | fairness loss 137.96 | Demographic disparity = 0.52\n",
      " \n",
      "Avg Training Stats after 159 global rounds:\n",
      "Training loss: 47.92 | Validation accuracy: 88.67% | Validation Demographic disparity: 0.5179\n",
      "\n",
      " | Global Training Round : 160 |\n",
      "\n",
      "Accuracy loss: 8.16 | fairness loss 138.49 | Demographic disparity = 0.52\n",
      " \n",
      "Avg Training Stats after 160 global rounds:\n",
      "Training loss: 47.84 | Validation accuracy: 88.67% | Validation Demographic disparity: 0.5179\n",
      "\n",
      " | Global Training Round : 161 |\n",
      "\n"
     ]
    },
    {
     "name": "stderr",
     "output_type": "stream",
     "text": [
      "\r",
      " 54%|█████▍    | 162/300 [00:18<00:12, 11.49it/s]"
     ]
    },
    {
     "name": "stdout",
     "output_type": "stream",
     "text": [
      "Accuracy loss: 8.15 | fairness loss 139.12 | Demographic disparity = 0.52\n",
      " \n",
      "Avg Training Stats after 161 global rounds:\n",
      "Training loss: 47.76 | Validation accuracy: 88.67% | Validation Demographic disparity: 0.5179\n",
      "\n",
      " | Global Training Round : 162 |\n",
      "\n",
      "Accuracy loss: 8.15 | fairness loss 139.50 | Demographic disparity = 0.52\n",
      " \n",
      "Avg Training Stats after 162 global rounds:\n",
      "Training loss: 47.68 | Validation accuracy: 88.67% | Validation Demographic disparity: 0.5179\n",
      "\n",
      " | Global Training Round : 163 |\n",
      "\n"
     ]
    },
    {
     "name": "stderr",
     "output_type": "stream",
     "text": [
      "\r",
      " 55%|█████▍    | 164/300 [00:18<00:13, 10.21it/s]"
     ]
    },
    {
     "name": "stdout",
     "output_type": "stream",
     "text": [
      "Accuracy loss: 8.15 | fairness loss 139.77 | Demographic disparity = 0.52\n",
      " \n",
      "Avg Training Stats after 163 global rounds:\n",
      "Training loss: 47.60 | Validation accuracy: 88.67% | Validation Demographic disparity: 0.5179\n",
      "\n",
      " | Global Training Round : 164 |\n",
      "\n",
      "Accuracy loss: 8.15 | fairness loss 140.37 | Demographic disparity = 0.52\n",
      " \n",
      "Avg Training Stats after 164 global rounds:\n",
      "Training loss: 47.53 | Validation accuracy: 88.67% | Validation Demographic disparity: 0.5179\n",
      "\n",
      " | Global Training Round : 165 |\n",
      "\n",
      "Accuracy loss: 8.15 | fairness loss 140.59 | Demographic disparity = 0.52\n",
      " \n",
      "Avg Training Stats after 165 global rounds:\n",
      "Training loss: 47.45 | Validation accuracy: 88.67% | Validation Demographic disparity: 0.5179\n",
      "\n",
      " | Global Training Round : 166 |\n",
      "\n"
     ]
    },
    {
     "name": "stderr",
     "output_type": "stream",
     "text": [
      " 56%|█████▌    | 168/300 [00:18<00:12, 10.90it/s]"
     ]
    },
    {
     "name": "stdout",
     "output_type": "stream",
     "text": [
      "Accuracy loss: 8.15 | fairness loss 141.48 | Demographic disparity = 0.52\n",
      " \n",
      "Avg Training Stats after 166 global rounds:\n",
      "Training loss: 47.38 | Validation accuracy: 88.67% | Validation Demographic disparity: 0.5179\n",
      "\n",
      " | Global Training Round : 167 |\n",
      "\n",
      "Accuracy loss: 8.14 | fairness loss 141.49 | Demographic disparity = 0.52\n",
      " \n",
      "Avg Training Stats after 167 global rounds:\n",
      "Training loss: 47.31 | Validation accuracy: 88.67% | Validation Demographic disparity: 0.5179\n",
      "\n",
      " | Global Training Round : 168 |\n",
      "\n",
      "Accuracy loss: 8.14 | fairness loss 142.14 | Demographic disparity = 0.52\n",
      " \n",
      "Avg Training Stats after 168 global rounds:\n",
      "Training loss: 47.23 | Validation accuracy: 88.67% | Validation Demographic disparity: 0.5179\n",
      "\n",
      " | Global Training Round : 169 |\n",
      "\n"
     ]
    },
    {
     "name": "stderr",
     "output_type": "stream",
     "text": [
      "\r",
      " 57%|█████▋    | 170/300 [00:19<00:11, 11.22it/s]"
     ]
    },
    {
     "name": "stdout",
     "output_type": "stream",
     "text": [
      "Accuracy loss: 8.14 | fairness loss 142.74 | Demographic disparity = 0.52\n",
      " \n",
      "Avg Training Stats after 169 global rounds:\n",
      "Training loss: 47.16 | Validation accuracy: 88.67% | Validation Demographic disparity: 0.5179\n",
      "\n",
      " | Global Training Round : 170 |\n",
      "\n",
      "Accuracy loss: 8.14 | fairness loss 143.12 | Demographic disparity = 0.52\n",
      " \n",
      "Avg Training Stats after 170 global rounds:\n",
      "Training loss: 47.09 | Validation accuracy: 88.67% | Validation Demographic disparity: 0.5179\n",
      "\n",
      " | Global Training Round : 171 |\n",
      "\n",
      "Accuracy loss: 8.14 | fairness loss 143.76 | Demographic disparity = 0.52\n",
      " \n",
      "Avg Training Stats after 171 global rounds:\n",
      "Training loss: 47.02 | Validation accuracy: 88.67% | Validation Demographic disparity: 0.5179\n",
      "\n",
      " | Global Training Round : 172 |\n",
      "\n"
     ]
    },
    {
     "name": "stderr",
     "output_type": "stream",
     "text": [
      " 58%|█████▊    | 174/300 [00:19<00:10, 11.61it/s]"
     ]
    },
    {
     "name": "stdout",
     "output_type": "stream",
     "text": [
      "Accuracy loss: 8.14 | fairness loss 143.77 | Demographic disparity = 0.52\n",
      " \n",
      "Avg Training Stats after 172 global rounds:\n",
      "Training loss: 46.95 | Validation accuracy: 88.67% | Validation Demographic disparity: 0.5179\n",
      "\n",
      " | Global Training Round : 173 |\n",
      "\n",
      "Accuracy loss: 8.14 | fairness loss 144.44 | Demographic disparity = 0.52\n",
      " \n",
      "Avg Training Stats after 173 global rounds:\n",
      "Training loss: 46.88 | Validation accuracy: 88.67% | Validation Demographic disparity: 0.5179\n",
      "\n",
      " | Global Training Round : 174 |\n",
      "\n",
      "Accuracy loss: 8.14 | fairness loss 144.43 | Demographic disparity = 0.52\n",
      " \n",
      "Avg Training Stats after 174 global rounds:\n",
      "Training loss: 46.81 | Validation accuracy: 88.67% | Validation Demographic disparity: 0.5179\n",
      "\n",
      " | Global Training Round : 175 |\n",
      "\n"
     ]
    },
    {
     "name": "stderr",
     "output_type": "stream",
     "text": [
      "\r",
      " 59%|█████▊    | 176/300 [00:19<00:10, 11.72it/s]"
     ]
    },
    {
     "name": "stdout",
     "output_type": "stream",
     "text": [
      "Accuracy loss: 8.13 | fairness loss 145.01 | Demographic disparity = 0.52\n",
      " \n",
      "Avg Training Stats after 175 global rounds:\n",
      "Training loss: 46.75 | Validation accuracy: 88.67% | Validation Demographic disparity: 0.5179\n",
      "\n",
      " | Global Training Round : 176 |\n",
      "\n",
      "Accuracy loss: 8.13 | fairness loss 145.75 | Demographic disparity = 0.52\n",
      " \n",
      "Avg Training Stats after 176 global rounds:\n",
      "Training loss: 46.68 | Validation accuracy: 88.67% | Validation Demographic disparity: 0.5179\n",
      "\n",
      " | Global Training Round : 177 |\n",
      "\n",
      "Accuracy loss: 8.13 | fairness loss 145.80 | Demographic disparity = 0.52\n",
      " \n",
      "Avg Training Stats after 177 global rounds:\n",
      "Training loss: 46.62 | Validation accuracy: 88.67% | Validation Demographic disparity: 0.5179\n",
      "\n",
      " | Global Training Round : 178 |\n",
      "\n"
     ]
    },
    {
     "name": "stderr",
     "output_type": "stream",
     "text": [
      " 60%|██████    | 180/300 [00:19<00:10, 11.79it/s]"
     ]
    },
    {
     "name": "stdout",
     "output_type": "stream",
     "text": [
      "Accuracy loss: 8.13 | fairness loss 146.10 | Demographic disparity = 0.51\n",
      " \n",
      "Avg Training Stats after 178 global rounds:\n",
      "Training loss: 46.55 | Validation accuracy: 89.00% | Validation Demographic disparity: 0.5146\n",
      "\n",
      " | Global Training Round : 179 |\n",
      "\n",
      "Accuracy loss: 8.13 | fairness loss 146.83 | Demographic disparity = 0.51\n",
      " \n",
      "Avg Training Stats after 179 global rounds:\n",
      "Training loss: 46.49 | Validation accuracy: 89.00% | Validation Demographic disparity: 0.5146\n",
      "\n",
      " | Global Training Round : 180 |\n",
      "\n",
      "Accuracy loss: 8.13 | fairness loss 146.77 | Demographic disparity = 0.51\n",
      " \n",
      "Avg Training Stats after 180 global rounds:\n",
      "Training loss: 46.42 | Validation accuracy: 89.00% | Validation Demographic disparity: 0.5146\n",
      "\n",
      " | Global Training Round : 181 |\n",
      "\n"
     ]
    },
    {
     "name": "stderr",
     "output_type": "stream",
     "text": [
      "\r",
      " 61%|██████    | 182/300 [00:20<00:09, 11.87it/s]"
     ]
    },
    {
     "name": "stdout",
     "output_type": "stream",
     "text": [
      "Accuracy loss: 8.13 | fairness loss 147.10 | Demographic disparity = 0.51\n",
      " \n",
      "Avg Training Stats after 181 global rounds:\n",
      "Training loss: 46.36 | Validation accuracy: 89.00% | Validation Demographic disparity: 0.5146\n",
      "\n",
      " | Global Training Round : 182 |\n",
      "\n",
      "Accuracy loss: 8.13 | fairness loss 147.52 | Demographic disparity = 0.51\n",
      " \n",
      "Avg Training Stats after 182 global rounds:\n",
      "Training loss: 46.30 | Validation accuracy: 89.00% | Validation Demographic disparity: 0.5146\n",
      "\n",
      " | Global Training Round : 183 |\n",
      "\n",
      "Accuracy loss: 8.13 | fairness loss 148.62 | Demographic disparity = 0.51\n",
      " \n",
      "Avg Training Stats after 183 global rounds:\n",
      "Training loss: 46.24 | Validation accuracy: 89.00% | Validation Demographic disparity: 0.5146\n",
      "\n",
      " | Global Training Round : 184 |\n",
      "\n"
     ]
    },
    {
     "name": "stderr",
     "output_type": "stream",
     "text": [
      " 62%|██████▏   | 186/300 [00:20<00:09, 11.81it/s]"
     ]
    },
    {
     "name": "stdout",
     "output_type": "stream",
     "text": [
      "Accuracy loss: 8.13 | fairness loss 148.32 | Demographic disparity = 0.51\n",
      " \n",
      "Avg Training Stats after 184 global rounds:\n",
      "Training loss: 46.18 | Validation accuracy: 89.00% | Validation Demographic disparity: 0.5146\n",
      "\n",
      " | Global Training Round : 185 |\n",
      "\n",
      "Accuracy loss: 8.13 | fairness loss 148.68 | Demographic disparity = 0.51\n",
      " \n",
      "Avg Training Stats after 185 global rounds:\n",
      "Training loss: 46.11 | Validation accuracy: 89.00% | Validation Demographic disparity: 0.5146\n",
      "\n",
      " | Global Training Round : 186 |\n",
      "\n",
      "Accuracy loss: 8.13 | fairness loss 149.26 | Demographic disparity = 0.51\n",
      " \n",
      "Avg Training Stats after 186 global rounds:\n",
      "Training loss: 46.06 | Validation accuracy: 89.00% | Validation Demographic disparity: 0.5146\n",
      "\n",
      " | Global Training Round : 187 |\n",
      "\n"
     ]
    },
    {
     "name": "stderr",
     "output_type": "stream",
     "text": [
      "\r",
      " 63%|██████▎   | 188/300 [00:20<00:09, 11.90it/s]"
     ]
    },
    {
     "name": "stdout",
     "output_type": "stream",
     "text": [
      "Accuracy loss: 8.12 | fairness loss 149.47 | Demographic disparity = 0.51\n",
      " \n",
      "Avg Training Stats after 187 global rounds:\n",
      "Training loss: 46.00 | Validation accuracy: 89.00% | Validation Demographic disparity: 0.5146\n",
      "\n",
      " | Global Training Round : 188 |\n",
      "\n",
      "Accuracy loss: 8.12 | fairness loss 149.87 | Demographic disparity = 0.51\n",
      " \n",
      "Avg Training Stats after 188 global rounds:\n",
      "Training loss: 45.94 | Validation accuracy: 89.00% | Validation Demographic disparity: 0.5146\n",
      "\n",
      " | Global Training Round : 189 |\n",
      "\n",
      "Accuracy loss: 8.12 | fairness loss 149.90 | Demographic disparity = 0.51\n",
      " \n",
      "Avg Training Stats after 189 global rounds:\n",
      "Training loss: 45.88 | Validation accuracy: 88.67% | Validation Demographic disparity: 0.5113\n",
      "\n",
      " | Global Training Round : 190 |\n",
      "\n"
     ]
    },
    {
     "name": "stderr",
     "output_type": "stream",
     "text": [
      " 64%|██████▍   | 192/300 [00:20<00:09, 11.65it/s]"
     ]
    },
    {
     "name": "stdout",
     "output_type": "stream",
     "text": [
      "Accuracy loss: 8.12 | fairness loss 150.37 | Demographic disparity = 0.51\n",
      " \n",
      "Avg Training Stats after 190 global rounds:\n",
      "Training loss: 45.82 | Validation accuracy: 88.67% | Validation Demographic disparity: 0.5113\n",
      "\n",
      " | Global Training Round : 191 |\n",
      "\n",
      "Accuracy loss: 8.12 | fairness loss 150.61 | Demographic disparity = 0.51\n",
      " \n",
      "Avg Training Stats after 191 global rounds:\n",
      "Training loss: 45.77 | Validation accuracy: 88.67% | Validation Demographic disparity: 0.5113\n",
      "\n",
      " | Global Training Round : 192 |\n",
      "\n",
      "Accuracy loss: 8.12 | fairness loss 150.45 | Demographic disparity = 0.51\n",
      " \n",
      "Avg Training Stats after 192 global rounds:\n",
      "Training loss: 45.71 | Validation accuracy: 88.67% | Validation Demographic disparity: 0.5113\n",
      "\n",
      " | Global Training Round : 193 |\n",
      "\n"
     ]
    },
    {
     "name": "stderr",
     "output_type": "stream",
     "text": [
      "\r",
      " 65%|██████▍   | 194/300 [00:21<00:09, 11.50it/s]"
     ]
    },
    {
     "name": "stdout",
     "output_type": "stream",
     "text": [
      "Accuracy loss: 8.12 | fairness loss 151.28 | Demographic disparity = 0.51\n",
      " \n",
      "Avg Training Stats after 193 global rounds:\n",
      "Training loss: 45.65 | Validation accuracy: 88.67% | Validation Demographic disparity: 0.5113\n",
      "\n",
      " | Global Training Round : 194 |\n",
      "\n",
      "Accuracy loss: 8.12 | fairness loss 151.66 | Demographic disparity = 0.51\n",
      " \n",
      "Avg Training Stats after 194 global rounds:\n",
      "Training loss: 45.60 | Validation accuracy: 88.67% | Validation Demographic disparity: 0.5113\n",
      "\n",
      " | Global Training Round : 195 |\n",
      "\n",
      "Accuracy loss: 8.12 | fairness loss 151.94 | Demographic disparity = 0.51\n",
      " \n",
      "Avg Training Stats after 195 global rounds:\n",
      "Training loss: 45.54 | Validation accuracy: 88.67% | Validation Demographic disparity: 0.5113\n",
      "\n",
      " | Global Training Round : 196 |\n",
      "\n"
     ]
    },
    {
     "name": "stderr",
     "output_type": "stream",
     "text": [
      " 66%|██████▌   | 198/300 [00:21<00:08, 11.78it/s]"
     ]
    },
    {
     "name": "stdout",
     "output_type": "stream",
     "text": [
      "Accuracy loss: 8.12 | fairness loss 151.82 | Demographic disparity = 0.51\n",
      " \n",
      "Avg Training Stats after 196 global rounds:\n",
      "Training loss: 45.49 | Validation accuracy: 88.67% | Validation Demographic disparity: 0.5113\n",
      "\n",
      " | Global Training Round : 197 |\n",
      "\n",
      "Accuracy loss: 8.12 | fairness loss 152.52 | Demographic disparity = 0.51\n",
      " \n",
      "Avg Training Stats after 197 global rounds:\n",
      "Training loss: 45.44 | Validation accuracy: 88.67% | Validation Demographic disparity: 0.5113\n",
      "\n",
      " | Global Training Round : 198 |\n",
      "\n",
      "Accuracy loss: 8.12 | fairness loss 152.40 | Demographic disparity = 0.51\n",
      " \n",
      "Avg Training Stats after 198 global rounds:\n",
      "Training loss: 45.38 | Validation accuracy: 88.67% | Validation Demographic disparity: 0.5113\n",
      "\n",
      " | Global Training Round : 199 |\n",
      "\n"
     ]
    },
    {
     "name": "stderr",
     "output_type": "stream",
     "text": [
      "\r",
      " 67%|██████▋   | 200/300 [00:21<00:08, 11.87it/s]"
     ]
    },
    {
     "name": "stdout",
     "output_type": "stream",
     "text": [
      "Accuracy loss: 8.12 | fairness loss 152.73 | Demographic disparity = 0.51\n",
      " \n",
      "Avg Training Stats after 199 global rounds:\n",
      "Training loss: 45.33 | Validation accuracy: 88.67% | Validation Demographic disparity: 0.5113\n",
      "\n",
      " | Global Training Round : 200 |\n",
      "\n",
      "Accuracy loss: 8.12 | fairness loss 153.32 | Demographic disparity = 0.51\n",
      " \n",
      "Avg Training Stats after 200 global rounds:\n",
      "Training loss: 45.28 | Validation accuracy: 88.67% | Validation Demographic disparity: 0.5113\n",
      "\n",
      " | Global Training Round : 201 |\n",
      "\n",
      "Accuracy loss: 8.12 | fairness loss 153.32 | Demographic disparity = 0.51\n",
      " \n",
      "Avg Training Stats after 201 global rounds:\n",
      "Training loss: 45.23 | Validation accuracy: 88.67% | Validation Demographic disparity: 0.5113\n",
      "\n",
      " | Global Training Round : 202 |\n",
      "\n"
     ]
    },
    {
     "name": "stderr",
     "output_type": "stream",
     "text": [
      " 68%|██████▊   | 204/300 [00:21<00:07, 12.01it/s]"
     ]
    },
    {
     "name": "stdout",
     "output_type": "stream",
     "text": [
      "Accuracy loss: 8.12 | fairness loss 153.58 | Demographic disparity = 0.51\n",
      " \n",
      "Avg Training Stats after 202 global rounds:\n",
      "Training loss: 45.18 | Validation accuracy: 88.67% | Validation Demographic disparity: 0.5113\n",
      "\n",
      " | Global Training Round : 203 |\n",
      "\n",
      "Accuracy loss: 8.12 | fairness loss 153.31 | Demographic disparity = 0.51\n",
      " \n",
      "Avg Training Stats after 203 global rounds:\n",
      "Training loss: 45.13 | Validation accuracy: 88.67% | Validation Demographic disparity: 0.5113\n",
      "\n",
      " | Global Training Round : 204 |\n",
      "\n",
      "Accuracy loss: 8.12 | fairness loss 154.27 | Demographic disparity = 0.51\n",
      " \n",
      "Avg Training Stats after 204 global rounds:\n",
      "Training loss: 45.08 | Validation accuracy: 88.67% | Validation Demographic disparity: 0.5113\n",
      "\n",
      " | Global Training Round : 205 |\n",
      "\n"
     ]
    },
    {
     "name": "stderr",
     "output_type": "stream",
     "text": [
      "\r",
      " 69%|██████▊   | 206/300 [00:22<00:07, 12.04it/s]"
     ]
    },
    {
     "name": "stdout",
     "output_type": "stream",
     "text": [
      "Accuracy loss: 8.12 | fairness loss 154.18 | Demographic disparity = 0.51\n",
      " \n",
      "Avg Training Stats after 205 global rounds:\n",
      "Training loss: 45.03 | Validation accuracy: 88.67% | Validation Demographic disparity: 0.5113\n",
      "\n",
      " | Global Training Round : 206 |\n",
      "\n",
      "Accuracy loss: 8.12 | fairness loss 154.13 | Demographic disparity = 0.51\n",
      " \n",
      "Avg Training Stats after 206 global rounds:\n",
      "Training loss: 44.98 | Validation accuracy: 88.67% | Validation Demographic disparity: 0.5113\n",
      "\n",
      " | Global Training Round : 207 |\n",
      "\n",
      "Accuracy loss: 8.12 | fairness loss 154.72 | Demographic disparity = 0.51\n",
      " \n",
      "Avg Training Stats after 207 global rounds:\n",
      "Training loss: 44.93 | Validation accuracy: 88.67% | Validation Demographic disparity: 0.5113\n",
      "\n",
      " | Global Training Round : 208 |\n",
      "\n"
     ]
    },
    {
     "name": "stderr",
     "output_type": "stream",
     "text": [
      " 70%|███████   | 210/300 [00:22<00:07, 12.06it/s]"
     ]
    },
    {
     "name": "stdout",
     "output_type": "stream",
     "text": [
      "Accuracy loss: 8.12 | fairness loss 154.78 | Demographic disparity = 0.51\n",
      " \n",
      "Avg Training Stats after 208 global rounds:\n",
      "Training loss: 44.88 | Validation accuracy: 88.67% | Validation Demographic disparity: 0.5113\n",
      "\n",
      " | Global Training Round : 209 |\n",
      "\n",
      "Accuracy loss: 8.12 | fairness loss 155.18 | Demographic disparity = 0.51\n",
      " \n",
      "Avg Training Stats after 209 global rounds:\n",
      "Training loss: 44.84 | Validation accuracy: 88.67% | Validation Demographic disparity: 0.5113\n",
      "\n",
      " | Global Training Round : 210 |\n",
      "\n",
      "Accuracy loss: 8.12 | fairness loss 155.43 | Demographic disparity = 0.51\n",
      " \n",
      "Avg Training Stats after 210 global rounds:\n",
      "Training loss: 44.79 | Validation accuracy: 88.67% | Validation Demographic disparity: 0.5113\n",
      "\n",
      " | Global Training Round : 211 |\n",
      "\n"
     ]
    },
    {
     "name": "stderr",
     "output_type": "stream",
     "text": [
      "\r",
      " 71%|███████   | 212/300 [00:22<00:07, 12.03it/s]"
     ]
    },
    {
     "name": "stdout",
     "output_type": "stream",
     "text": [
      "Accuracy loss: 8.12 | fairness loss 155.03 | Demographic disparity = 0.51\n",
      " \n",
      "Avg Training Stats after 211 global rounds:\n",
      "Training loss: 44.74 | Validation accuracy: 88.67% | Validation Demographic disparity: 0.5113\n",
      "\n",
      " | Global Training Round : 212 |\n",
      "\n",
      "Accuracy loss: 8.12 | fairness loss 155.40 | Demographic disparity = 0.51\n",
      " \n",
      "Avg Training Stats after 212 global rounds:\n",
      "Training loss: 44.70 | Validation accuracy: 88.67% | Validation Demographic disparity: 0.5113\n",
      "\n",
      " | Global Training Round : 213 |\n",
      "\n",
      "Accuracy loss: 8.11 | fairness loss 155.94 | Demographic disparity = 0.51\n",
      " \n",
      "Avg Training Stats after 213 global rounds:\n",
      "Training loss: 44.65 | Validation accuracy: 88.67% | Validation Demographic disparity: 0.5113\n",
      "\n",
      " | Global Training Round : 214 |\n",
      "\n"
     ]
    },
    {
     "name": "stderr",
     "output_type": "stream",
     "text": [
      " 72%|███████▏  | 216/300 [00:22<00:06, 12.06it/s]"
     ]
    },
    {
     "name": "stdout",
     "output_type": "stream",
     "text": [
      "Accuracy loss: 8.11 | fairness loss 155.84 | Demographic disparity = 0.51\n",
      " \n",
      "Avg Training Stats after 214 global rounds:\n",
      "Training loss: 44.61 | Validation accuracy: 88.67% | Validation Demographic disparity: 0.5113\n",
      "\n",
      " | Global Training Round : 215 |\n",
      "\n",
      "Accuracy loss: 8.11 | fairness loss 156.37 | Demographic disparity = 0.51\n",
      " \n",
      "Avg Training Stats after 215 global rounds:\n",
      "Training loss: 44.56 | Validation accuracy: 88.67% | Validation Demographic disparity: 0.5113\n",
      "\n",
      " | Global Training Round : 216 |\n",
      "\n",
      "Accuracy loss: 8.11 | fairness loss 156.56 | Demographic disparity = 0.51\n",
      " \n",
      "Avg Training Stats after 216 global rounds:\n",
      "Training loss: 44.52 | Validation accuracy: 88.67% | Validation Demographic disparity: 0.5113\n",
      "\n",
      " | Global Training Round : 217 |\n",
      "\n"
     ]
    },
    {
     "name": "stderr",
     "output_type": "stream",
     "text": [
      "\r",
      " 73%|███████▎  | 218/300 [00:23<00:06, 12.09it/s]"
     ]
    },
    {
     "name": "stdout",
     "output_type": "stream",
     "text": [
      "Accuracy loss: 8.11 | fairness loss 156.71 | Demographic disparity = 0.51\n",
      " \n",
      "Avg Training Stats after 217 global rounds:\n",
      "Training loss: 44.47 | Validation accuracy: 88.67% | Validation Demographic disparity: 0.5113\n",
      "\n",
      " | Global Training Round : 218 |\n",
      "\n",
      "Accuracy loss: 8.11 | fairness loss 156.66 | Demographic disparity = 0.51\n",
      " \n",
      "Avg Training Stats after 218 global rounds:\n",
      "Training loss: 44.43 | Validation accuracy: 88.67% | Validation Demographic disparity: 0.5113\n",
      "\n",
      " | Global Training Round : 219 |\n",
      "\n",
      "Accuracy loss: 8.11 | fairness loss 156.83 | Demographic disparity = 0.51\n",
      " \n",
      "Avg Training Stats after 219 global rounds:\n",
      "Training loss: 44.38 | Validation accuracy: 88.67% | Validation Demographic disparity: 0.5113\n",
      "\n",
      " | Global Training Round : 220 |\n",
      "\n"
     ]
    },
    {
     "name": "stderr",
     "output_type": "stream",
     "text": [
      " 74%|███████▍  | 222/300 [00:23<00:06, 12.07it/s]"
     ]
    },
    {
     "name": "stdout",
     "output_type": "stream",
     "text": [
      "Accuracy loss: 8.11 | fairness loss 156.87 | Demographic disparity = 0.51\n",
      " \n",
      "Avg Training Stats after 220 global rounds:\n",
      "Training loss: 44.34 | Validation accuracy: 88.67% | Validation Demographic disparity: 0.5113\n",
      "\n",
      " | Global Training Round : 221 |\n",
      "\n",
      "Accuracy loss: 8.11 | fairness loss 157.35 | Demographic disparity = 0.51\n",
      " \n",
      "Avg Training Stats after 221 global rounds:\n",
      "Training loss: 44.30 | Validation accuracy: 88.67% | Validation Demographic disparity: 0.5113\n",
      "\n",
      " | Global Training Round : 222 |\n",
      "\n",
      "Accuracy loss: 8.11 | fairness loss 157.16 | Demographic disparity = 0.51\n",
      " \n",
      "Avg Training Stats after 222 global rounds:\n",
      "Training loss: 44.26 | Validation accuracy: 88.67% | Validation Demographic disparity: 0.5113\n",
      "\n",
      " | Global Training Round : 223 |\n",
      "\n"
     ]
    },
    {
     "name": "stderr",
     "output_type": "stream",
     "text": [
      "\r",
      " 75%|███████▍  | 224/300 [00:23<00:06, 12.09it/s]"
     ]
    },
    {
     "name": "stdout",
     "output_type": "stream",
     "text": [
      "Accuracy loss: 8.11 | fairness loss 157.25 | Demographic disparity = 0.51\n",
      " \n",
      "Avg Training Stats after 223 global rounds:\n",
      "Training loss: 44.22 | Validation accuracy: 88.67% | Validation Demographic disparity: 0.5113\n",
      "\n",
      " | Global Training Round : 224 |\n",
      "\n",
      "Accuracy loss: 8.11 | fairness loss 157.45 | Demographic disparity = 0.51\n",
      " \n",
      "Avg Training Stats after 224 global rounds:\n",
      "Training loss: 44.17 | Validation accuracy: 88.67% | Validation Demographic disparity: 0.5113\n",
      "\n",
      " | Global Training Round : 225 |\n",
      "\n",
      "Accuracy loss: 8.11 | fairness loss 157.84 | Demographic disparity = 0.51\n",
      " \n",
      "Avg Training Stats after 225 global rounds:\n",
      "Training loss: 44.13 | Validation accuracy: 88.67% | Validation Demographic disparity: 0.5113\n",
      "\n",
      " | Global Training Round : 226 |\n",
      "\n"
     ]
    },
    {
     "name": "stderr",
     "output_type": "stream",
     "text": [
      " 76%|███████▌  | 228/300 [00:23<00:05, 12.09it/s]"
     ]
    },
    {
     "name": "stdout",
     "output_type": "stream",
     "text": [
      "Accuracy loss: 8.11 | fairness loss 157.85 | Demographic disparity = 0.51\n",
      " \n",
      "Avg Training Stats after 226 global rounds:\n",
      "Training loss: 44.09 | Validation accuracy: 88.67% | Validation Demographic disparity: 0.5113\n",
      "\n",
      " | Global Training Round : 227 |\n",
      "\n",
      "Accuracy loss: 8.11 | fairness loss 157.80 | Demographic disparity = 0.51\n",
      " \n",
      "Avg Training Stats after 227 global rounds:\n",
      "Training loss: 44.05 | Validation accuracy: 88.67% | Validation Demographic disparity: 0.5113\n",
      "\n",
      " | Global Training Round : 228 |\n",
      "\n",
      "Accuracy loss: 8.11 | fairness loss 157.40 | Demographic disparity = 0.51\n",
      " \n",
      "Avg Training Stats after 228 global rounds:\n",
      "Training loss: 44.01 | Validation accuracy: 88.67% | Validation Demographic disparity: 0.5113\n",
      "\n",
      " | Global Training Round : 229 |\n",
      "\n"
     ]
    },
    {
     "name": "stderr",
     "output_type": "stream",
     "text": [
      "\r",
      " 77%|███████▋  | 230/300 [00:24<00:05, 12.11it/s]"
     ]
    },
    {
     "name": "stdout",
     "output_type": "stream",
     "text": [
      "Accuracy loss: 8.11 | fairness loss 158.20 | Demographic disparity = 0.51\n",
      " \n",
      "Avg Training Stats after 229 global rounds:\n",
      "Training loss: 43.97 | Validation accuracy: 88.67% | Validation Demographic disparity: 0.5113\n",
      "\n",
      " | Global Training Round : 230 |\n",
      "\n",
      "Accuracy loss: 8.11 | fairness loss 158.48 | Demographic disparity = 0.51\n",
      " \n",
      "Avg Training Stats after 230 global rounds:\n",
      "Training loss: 43.93 | Validation accuracy: 88.67% | Validation Demographic disparity: 0.5113\n",
      "\n",
      " | Global Training Round : 231 |\n",
      "\n",
      "Accuracy loss: 8.11 | fairness loss 158.32 | Demographic disparity = 0.51\n",
      " \n",
      "Avg Training Stats after 231 global rounds:\n",
      "Training loss: 43.89 | Validation accuracy: 88.67% | Validation Demographic disparity: 0.5113\n",
      "\n",
      " | Global Training Round : 232 |\n",
      "\n"
     ]
    },
    {
     "name": "stderr",
     "output_type": "stream",
     "text": [
      " 78%|███████▊  | 234/300 [00:24<00:05, 11.95it/s]"
     ]
    },
    {
     "name": "stdout",
     "output_type": "stream",
     "text": [
      "Accuracy loss: 8.11 | fairness loss 158.53 | Demographic disparity = 0.51\n",
      " \n",
      "Avg Training Stats after 232 global rounds:\n",
      "Training loss: 43.86 | Validation accuracy: 88.67% | Validation Demographic disparity: 0.5113\n",
      "\n",
      " | Global Training Round : 233 |\n",
      "\n",
      "Accuracy loss: 8.11 | fairness loss 158.56 | Demographic disparity = 0.51\n",
      " \n",
      "Avg Training Stats after 233 global rounds:\n",
      "Training loss: 43.82 | Validation accuracy: 88.67% | Validation Demographic disparity: 0.5113\n",
      "\n",
      " | Global Training Round : 234 |\n",
      "\n",
      "Accuracy loss: 8.11 | fairness loss 158.41 | Demographic disparity = 0.51\n",
      " \n",
      "Avg Training Stats after 234 global rounds:\n",
      "Training loss: 43.78 | Validation accuracy: 88.67% | Validation Demographic disparity: 0.5113\n",
      "\n",
      " | Global Training Round : 235 |\n",
      "\n"
     ]
    },
    {
     "name": "stderr",
     "output_type": "stream",
     "text": [
      "\r",
      " 79%|███████▊  | 236/300 [00:24<00:05, 11.82it/s]"
     ]
    },
    {
     "name": "stdout",
     "output_type": "stream",
     "text": [
      "Accuracy loss: 8.11 | fairness loss 158.78 | Demographic disparity = 0.51\n",
      " \n",
      "Avg Training Stats after 235 global rounds:\n",
      "Training loss: 43.74 | Validation accuracy: 88.67% | Validation Demographic disparity: 0.5113\n",
      "\n",
      " | Global Training Round : 236 |\n",
      "\n",
      "Accuracy loss: 8.11 | fairness loss 159.19 | Demographic disparity = 0.51\n",
      " \n",
      "Avg Training Stats after 236 global rounds:\n",
      "Training loss: 43.70 | Validation accuracy: 88.67% | Validation Demographic disparity: 0.5113\n",
      "\n",
      " | Global Training Round : 237 |\n",
      "\n",
      "Accuracy loss: 8.11 | fairness loss 158.95 | Demographic disparity = 0.51\n",
      " \n",
      "Avg Training Stats after 237 global rounds:\n",
      "Training loss: 43.67 | Validation accuracy: 88.67% | Validation Demographic disparity: 0.5113\n",
      "\n",
      " | Global Training Round : 238 |\n",
      "\n"
     ]
    },
    {
     "name": "stderr",
     "output_type": "stream",
     "text": [
      " 80%|████████  | 240/300 [00:24<00:05, 11.98it/s]"
     ]
    },
    {
     "name": "stdout",
     "output_type": "stream",
     "text": [
      "Accuracy loss: 8.11 | fairness loss 159.14 | Demographic disparity = 0.51\n",
      " \n",
      "Avg Training Stats after 238 global rounds:\n",
      "Training loss: 43.63 | Validation accuracy: 88.67% | Validation Demographic disparity: 0.5113\n",
      "\n",
      " | Global Training Round : 239 |\n",
      "\n",
      "Accuracy loss: 8.11 | fairness loss 158.85 | Demographic disparity = 0.51\n",
      " \n",
      "Avg Training Stats after 239 global rounds:\n",
      "Training loss: 43.59 | Validation accuracy: 88.67% | Validation Demographic disparity: 0.5113\n",
      "\n",
      " | Global Training Round : 240 |\n",
      "\n",
      "Accuracy loss: 8.11 | fairness loss 158.98 | Demographic disparity = 0.51\n",
      " \n",
      "Avg Training Stats after 240 global rounds:\n",
      "Training loss: 43.56 | Validation accuracy: 88.67% | Validation Demographic disparity: 0.5113\n",
      "\n",
      " | Global Training Round : 241 |\n",
      "\n"
     ]
    },
    {
     "name": "stderr",
     "output_type": "stream",
     "text": [
      "\r",
      " 81%|████████  | 242/300 [00:25<00:04, 11.98it/s]"
     ]
    },
    {
     "name": "stdout",
     "output_type": "stream",
     "text": [
      "Accuracy loss: 8.11 | fairness loss 159.27 | Demographic disparity = 0.51\n",
      " \n",
      "Avg Training Stats after 241 global rounds:\n",
      "Training loss: 43.52 | Validation accuracy: 88.67% | Validation Demographic disparity: 0.5113\n",
      "\n",
      " | Global Training Round : 242 |\n",
      "\n",
      "Accuracy loss: 8.11 | fairness loss 159.65 | Demographic disparity = 0.51\n",
      " \n",
      "Avg Training Stats after 242 global rounds:\n",
      "Training loss: 43.49 | Validation accuracy: 88.67% | Validation Demographic disparity: 0.5113\n",
      "\n",
      " | Global Training Round : 243 |\n",
      "\n",
      "Accuracy loss: 8.11 | fairness loss 159.33 | Demographic disparity = 0.51\n",
      " \n",
      "Avg Training Stats after 243 global rounds:\n",
      "Training loss: 43.45 | Validation accuracy: 88.67% | Validation Demographic disparity: 0.5113\n",
      "\n",
      " | Global Training Round : 244 |\n",
      "\n"
     ]
    },
    {
     "name": "stderr",
     "output_type": "stream",
     "text": [
      " 82%|████████▏ | 246/300 [00:25<00:04, 12.06it/s]"
     ]
    },
    {
     "name": "stdout",
     "output_type": "stream",
     "text": [
      "Accuracy loss: 8.11 | fairness loss 159.55 | Demographic disparity = 0.51\n",
      " \n",
      "Avg Training Stats after 244 global rounds:\n",
      "Training loss: 43.42 | Validation accuracy: 88.67% | Validation Demographic disparity: 0.5113\n",
      "\n",
      " | Global Training Round : 245 |\n",
      "\n",
      "Accuracy loss: 8.11 | fairness loss 159.79 | Demographic disparity = 0.51\n",
      " \n",
      "Avg Training Stats after 245 global rounds:\n",
      "Training loss: 43.38 | Validation accuracy: 88.67% | Validation Demographic disparity: 0.5113\n",
      "\n",
      " | Global Training Round : 246 |\n",
      "\n",
      "Accuracy loss: 8.11 | fairness loss 159.44 | Demographic disparity = 0.51\n",
      " \n",
      "Avg Training Stats after 246 global rounds:\n",
      "Training loss: 43.35 | Validation accuracy: 88.67% | Validation Demographic disparity: 0.5113\n",
      "\n",
      " | Global Training Round : 247 |\n",
      "\n"
     ]
    },
    {
     "name": "stderr",
     "output_type": "stream",
     "text": [
      "\r",
      " 83%|████████▎ | 248/300 [00:25<00:04, 12.04it/s]"
     ]
    },
    {
     "name": "stdout",
     "output_type": "stream",
     "text": [
      "Accuracy loss: 8.11 | fairness loss 159.30 | Demographic disparity = 0.51\n",
      " \n",
      "Avg Training Stats after 247 global rounds:\n",
      "Training loss: 43.31 | Validation accuracy: 88.67% | Validation Demographic disparity: 0.5113\n",
      "\n",
      " | Global Training Round : 248 |\n",
      "\n",
      "Accuracy loss: 8.11 | fairness loss 159.56 | Demographic disparity = 0.51\n",
      " \n",
      "Avg Training Stats after 248 global rounds:\n",
      "Training loss: 43.28 | Validation accuracy: 88.67% | Validation Demographic disparity: 0.5113\n",
      "\n",
      " | Global Training Round : 249 |\n",
      "\n",
      "Accuracy loss: 8.11 | fairness loss 159.70 | Demographic disparity = 0.51\n",
      " \n",
      "Avg Training Stats after 249 global rounds:\n",
      "Training loss: 43.25 | Validation accuracy: 88.67% | Validation Demographic disparity: 0.5113\n",
      "\n",
      " | Global Training Round : 250 |\n",
      "\n"
     ]
    },
    {
     "name": "stderr",
     "output_type": "stream",
     "text": [
      " 84%|████████▍ | 252/300 [00:25<00:04, 11.99it/s]"
     ]
    },
    {
     "name": "stdout",
     "output_type": "stream",
     "text": [
      "Accuracy loss: 8.11 | fairness loss 159.85 | Demographic disparity = 0.51\n",
      " \n",
      "Avg Training Stats after 250 global rounds:\n",
      "Training loss: 43.21 | Validation accuracy: 88.67% | Validation Demographic disparity: 0.5113\n",
      "\n",
      " | Global Training Round : 251 |\n",
      "\n",
      "Accuracy loss: 8.11 | fairness loss 159.92 | Demographic disparity = 0.51\n",
      " \n",
      "Avg Training Stats after 251 global rounds:\n",
      "Training loss: 43.18 | Validation accuracy: 88.67% | Validation Demographic disparity: 0.5113\n",
      "\n",
      " | Global Training Round : 252 |\n",
      "\n",
      "Accuracy loss: 8.11 | fairness loss 160.27 | Demographic disparity = 0.51\n",
      " \n",
      "Avg Training Stats after 252 global rounds:\n",
      "Training loss: 43.15 | Validation accuracy: 88.67% | Validation Demographic disparity: 0.5113\n",
      "\n",
      " | Global Training Round : 253 |\n",
      "\n"
     ]
    },
    {
     "name": "stderr",
     "output_type": "stream",
     "text": [
      "\r",
      " 85%|████████▍ | 254/300 [00:26<00:03, 11.90it/s]"
     ]
    },
    {
     "name": "stdout",
     "output_type": "stream",
     "text": [
      "Accuracy loss: 8.11 | fairness loss 159.94 | Demographic disparity = 0.51\n",
      " \n",
      "Avg Training Stats after 253 global rounds:\n",
      "Training loss: 43.11 | Validation accuracy: 88.67% | Validation Demographic disparity: 0.5113\n",
      "\n",
      " | Global Training Round : 254 |\n",
      "\n",
      "Accuracy loss: 8.11 | fairness loss 160.43 | Demographic disparity = 0.51\n",
      " \n",
      "Avg Training Stats after 254 global rounds:\n",
      "Training loss: 43.08 | Validation accuracy: 88.67% | Validation Demographic disparity: 0.5113\n",
      "\n",
      " | Global Training Round : 255 |\n",
      "\n",
      "Accuracy loss: 8.11 | fairness loss 160.22 | Demographic disparity = 0.51\n",
      " \n",
      "Avg Training Stats after 255 global rounds:\n",
      "Training loss: 43.05 | Validation accuracy: 88.67% | Validation Demographic disparity: 0.5113\n",
      "\n",
      " | Global Training Round : 256 |\n",
      "\n"
     ]
    },
    {
     "name": "stderr",
     "output_type": "stream",
     "text": [
      " 86%|████████▌ | 258/300 [00:26<00:03, 11.90it/s]"
     ]
    },
    {
     "name": "stdout",
     "output_type": "stream",
     "text": [
      "Accuracy loss: 8.11 | fairness loss 160.48 | Demographic disparity = 0.51\n",
      " \n",
      "Avg Training Stats after 256 global rounds:\n",
      "Training loss: 43.02 | Validation accuracy: 88.67% | Validation Demographic disparity: 0.5113\n",
      "\n",
      " | Global Training Round : 257 |\n",
      "\n",
      "Accuracy loss: 8.11 | fairness loss 160.15 | Demographic disparity = 0.51\n",
      " \n",
      "Avg Training Stats after 257 global rounds:\n",
      "Training loss: 42.99 | Validation accuracy: 88.67% | Validation Demographic disparity: 0.5113\n",
      "\n",
      " | Global Training Round : 258 |\n",
      "\n",
      "Accuracy loss: 8.11 | fairness loss 160.33 | Demographic disparity = 0.51\n",
      " \n",
      "Avg Training Stats after 258 global rounds:\n",
      "Training loss: 42.95 | Validation accuracy: 88.67% | Validation Demographic disparity: 0.5113\n",
      "\n",
      " | Global Training Round : 259 |\n",
      "\n"
     ]
    },
    {
     "name": "stderr",
     "output_type": "stream",
     "text": [
      "\r",
      " 87%|████████▋ | 260/300 [00:26<00:03, 11.94it/s]"
     ]
    },
    {
     "name": "stdout",
     "output_type": "stream",
     "text": [
      "Accuracy loss: 8.11 | fairness loss 160.57 | Demographic disparity = 0.51\n",
      " \n",
      "Avg Training Stats after 259 global rounds:\n",
      "Training loss: 42.92 | Validation accuracy: 88.67% | Validation Demographic disparity: 0.5113\n",
      "\n",
      " | Global Training Round : 260 |\n",
      "\n",
      "Accuracy loss: 8.11 | fairness loss 160.65 | Demographic disparity = 0.51\n",
      " \n",
      "Avg Training Stats after 260 global rounds:\n",
      "Training loss: 42.89 | Validation accuracy: 88.67% | Validation Demographic disparity: 0.5113\n",
      "\n",
      " | Global Training Round : 261 |\n",
      "\n",
      "Accuracy loss: 8.11 | fairness loss 160.39 | Demographic disparity = 0.51\n",
      " \n",
      "Avg Training Stats after 261 global rounds:\n",
      "Training loss: 42.86 | Validation accuracy: 88.67% | Validation Demographic disparity: 0.5113\n",
      "\n",
      " | Global Training Round : 262 |\n",
      "\n"
     ]
    },
    {
     "name": "stderr",
     "output_type": "stream",
     "text": [
      " 88%|████████▊ | 264/300 [00:26<00:03, 11.98it/s]"
     ]
    },
    {
     "name": "stdout",
     "output_type": "stream",
     "text": [
      "Accuracy loss: 8.11 | fairness loss 160.65 | Demographic disparity = 0.51\n",
      " \n",
      "Avg Training Stats after 262 global rounds:\n",
      "Training loss: 42.83 | Validation accuracy: 88.67% | Validation Demographic disparity: 0.5113\n",
      "\n",
      " | Global Training Round : 263 |\n",
      "\n",
      "Accuracy loss: 8.11 | fairness loss 160.20 | Demographic disparity = 0.51\n",
      " \n",
      "Avg Training Stats after 263 global rounds:\n",
      "Training loss: 42.80 | Validation accuracy: 88.67% | Validation Demographic disparity: 0.5113\n",
      "\n",
      " | Global Training Round : 264 |\n",
      "\n",
      "Accuracy loss: 8.11 | fairness loss 160.64 | Demographic disparity = 0.51\n",
      " \n",
      "Avg Training Stats after 264 global rounds:\n",
      "Training loss: 42.77 | Validation accuracy: 88.67% | Validation Demographic disparity: 0.5113\n",
      "\n",
      " | Global Training Round : 265 |\n",
      "\n"
     ]
    },
    {
     "name": "stderr",
     "output_type": "stream",
     "text": [
      "\r",
      " 89%|████████▊ | 266/300 [00:27<00:02, 11.99it/s]"
     ]
    },
    {
     "name": "stdout",
     "output_type": "stream",
     "text": [
      "Accuracy loss: 8.11 | fairness loss 160.73 | Demographic disparity = 0.51\n",
      " \n",
      "Avg Training Stats after 265 global rounds:\n",
      "Training loss: 42.74 | Validation accuracy: 88.67% | Validation Demographic disparity: 0.5113\n",
      "\n",
      " | Global Training Round : 266 |\n",
      "\n",
      "Accuracy loss: 8.11 | fairness loss 160.64 | Demographic disparity = 0.51\n",
      " \n",
      "Avg Training Stats after 266 global rounds:\n",
      "Training loss: 42.71 | Validation accuracy: 88.67% | Validation Demographic disparity: 0.5113\n",
      "\n",
      " | Global Training Round : 267 |\n",
      "\n",
      "Accuracy loss: 8.11 | fairness loss 160.83 | Demographic disparity = 0.51\n",
      " \n",
      "Avg Training Stats after 267 global rounds:\n",
      "Training loss: 42.68 | Validation accuracy: 88.67% | Validation Demographic disparity: 0.5113\n",
      "\n",
      " | Global Training Round : 268 |\n",
      "\n"
     ]
    },
    {
     "name": "stderr",
     "output_type": "stream",
     "text": [
      " 90%|█████████ | 270/300 [00:27<00:02, 11.94it/s]"
     ]
    },
    {
     "name": "stdout",
     "output_type": "stream",
     "text": [
      "Accuracy loss: 8.11 | fairness loss 160.33 | Demographic disparity = 0.51\n",
      " \n",
      "Avg Training Stats after 268 global rounds:\n",
      "Training loss: 42.65 | Validation accuracy: 88.67% | Validation Demographic disparity: 0.5113\n",
      "\n",
      " | Global Training Round : 269 |\n",
      "\n",
      "Accuracy loss: 8.11 | fairness loss 160.33 | Demographic disparity = 0.51\n",
      " \n",
      "Avg Training Stats after 269 global rounds:\n",
      "Training loss: 42.63 | Validation accuracy: 88.67% | Validation Demographic disparity: 0.5113\n",
      "\n",
      " | Global Training Round : 270 |\n",
      "\n",
      "Accuracy loss: 8.11 | fairness loss 160.85 | Demographic disparity = 0.51\n",
      " \n",
      "Avg Training Stats after 270 global rounds:\n",
      "Training loss: 42.60 | Validation accuracy: 88.67% | Validation Demographic disparity: 0.5113\n",
      "\n",
      " | Global Training Round : 271 |\n",
      "\n"
     ]
    },
    {
     "name": "stderr",
     "output_type": "stream",
     "text": [
      "\r",
      " 91%|█████████ | 272/300 [00:27<00:02, 11.78it/s]"
     ]
    },
    {
     "name": "stdout",
     "output_type": "stream",
     "text": [
      "Accuracy loss: 8.11 | fairness loss 161.05 | Demographic disparity = 0.51\n",
      " \n",
      "Avg Training Stats after 271 global rounds:\n",
      "Training loss: 42.57 | Validation accuracy: 88.67% | Validation Demographic disparity: 0.5113\n",
      "\n",
      " | Global Training Round : 272 |\n",
      "\n",
      "Accuracy loss: 8.11 | fairness loss 160.87 | Demographic disparity = 0.51\n",
      " \n",
      "Avg Training Stats after 272 global rounds:\n",
      "Training loss: 42.54 | Validation accuracy: 88.67% | Validation Demographic disparity: 0.5113\n",
      "\n",
      " | Global Training Round : 273 |\n",
      "\n",
      "Accuracy loss: 8.11 | fairness loss 160.59 | Demographic disparity = 0.51\n",
      " \n",
      "Avg Training Stats after 273 global rounds:\n",
      "Training loss: 42.51 | Validation accuracy: 88.67% | Validation Demographic disparity: 0.5113\n",
      "\n",
      " | Global Training Round : 274 |\n",
      "\n"
     ]
    },
    {
     "name": "stderr",
     "output_type": "stream",
     "text": [
      " 92%|█████████▏| 276/300 [00:27<00:02, 11.95it/s]"
     ]
    },
    {
     "name": "stdout",
     "output_type": "stream",
     "text": [
      "Accuracy loss: 8.11 | fairness loss 160.51 | Demographic disparity = 0.51\n",
      " \n",
      "Avg Training Stats after 274 global rounds:\n",
      "Training loss: 42.48 | Validation accuracy: 88.67% | Validation Demographic disparity: 0.5113\n",
      "\n",
      " | Global Training Round : 275 |\n",
      "\n",
      "Accuracy loss: 8.11 | fairness loss 160.76 | Demographic disparity = 0.51\n",
      " \n",
      "Avg Training Stats after 275 global rounds:\n",
      "Training loss: 42.46 | Validation accuracy: 88.67% | Validation Demographic disparity: 0.5113\n",
      "\n",
      " | Global Training Round : 276 |\n",
      "\n",
      "Accuracy loss: 8.11 | fairness loss 160.81 | Demographic disparity = 0.51\n",
      " \n",
      "Avg Training Stats after 276 global rounds:\n",
      "Training loss: 42.43 | Validation accuracy: 88.67% | Validation Demographic disparity: 0.5113\n",
      "\n",
      " | Global Training Round : 277 |\n",
      "\n"
     ]
    },
    {
     "name": "stderr",
     "output_type": "stream",
     "text": [
      "\r",
      " 93%|█████████▎| 278/300 [00:28<00:01, 12.00it/s]"
     ]
    },
    {
     "name": "stdout",
     "output_type": "stream",
     "text": [
      "Accuracy loss: 8.11 | fairness loss 160.61 | Demographic disparity = 0.51\n",
      " \n",
      "Avg Training Stats after 277 global rounds:\n",
      "Training loss: 42.40 | Validation accuracy: 88.67% | Validation Demographic disparity: 0.5113\n",
      "\n",
      " | Global Training Round : 278 |\n",
      "\n",
      "Accuracy loss: 8.11 | fairness loss 160.90 | Demographic disparity = 0.51\n",
      " \n",
      "Avg Training Stats after 278 global rounds:\n",
      "Training loss: 42.38 | Validation accuracy: 88.67% | Validation Demographic disparity: 0.5113\n",
      "\n",
      " | Global Training Round : 279 |\n",
      "\n",
      "Accuracy loss: 8.11 | fairness loss 160.75 | Demographic disparity = 0.51\n",
      " \n",
      "Avg Training Stats after 279 global rounds:\n",
      "Training loss: 42.35 | Validation accuracy: 88.67% | Validation Demographic disparity: 0.5113\n",
      "\n",
      " | Global Training Round : 280 |\n",
      "\n"
     ]
    },
    {
     "name": "stderr",
     "output_type": "stream",
     "text": [
      " 94%|█████████▍| 282/300 [00:28<00:01, 12.07it/s]"
     ]
    },
    {
     "name": "stdout",
     "output_type": "stream",
     "text": [
      "Accuracy loss: 8.11 | fairness loss 160.77 | Demographic disparity = 0.51\n",
      " \n",
      "Avg Training Stats after 280 global rounds:\n",
      "Training loss: 42.32 | Validation accuracy: 88.67% | Validation Demographic disparity: 0.5113\n",
      "\n",
      " | Global Training Round : 281 |\n",
      "\n",
      "Accuracy loss: 8.11 | fairness loss 161.19 | Demographic disparity = 0.51\n",
      " \n",
      "Avg Training Stats after 281 global rounds:\n",
      "Training loss: 42.30 | Validation accuracy: 88.67% | Validation Demographic disparity: 0.5113\n",
      "\n",
      " | Global Training Round : 282 |\n",
      "\n",
      "Accuracy loss: 8.11 | fairness loss 160.75 | Demographic disparity = 0.51\n",
      " \n",
      "Avg Training Stats after 282 global rounds:\n",
      "Training loss: 42.27 | Validation accuracy: 88.67% | Validation Demographic disparity: 0.5113\n",
      "\n",
      " | Global Training Round : 283 |\n",
      "\n"
     ]
    },
    {
     "name": "stderr",
     "output_type": "stream",
     "text": [
      "\r",
      " 95%|█████████▍| 284/300 [00:28<00:01, 12.06it/s]"
     ]
    },
    {
     "name": "stdout",
     "output_type": "stream",
     "text": [
      "Accuracy loss: 8.11 | fairness loss 160.82 | Demographic disparity = 0.51\n",
      " \n",
      "Avg Training Stats after 283 global rounds:\n",
      "Training loss: 42.24 | Validation accuracy: 88.67% | Validation Demographic disparity: 0.5113\n",
      "\n",
      " | Global Training Round : 284 |\n",
      "\n",
      "Accuracy loss: 8.11 | fairness loss 161.18 | Demographic disparity = 0.51\n",
      " \n",
      "Avg Training Stats after 284 global rounds:\n",
      "Training loss: 42.22 | Validation accuracy: 88.67% | Validation Demographic disparity: 0.5113\n",
      "\n",
      " | Global Training Round : 285 |\n",
      "\n",
      "Accuracy loss: 8.11 | fairness loss 161.08 | Demographic disparity = 0.51\n",
      " \n",
      "Avg Training Stats after 285 global rounds:\n",
      "Training loss: 42.19 | Validation accuracy: 88.67% | Validation Demographic disparity: 0.5113\n",
      "\n",
      " | Global Training Round : 286 |\n",
      "\n"
     ]
    },
    {
     "name": "stderr",
     "output_type": "stream",
     "text": [
      " 96%|█████████▌| 288/300 [00:28<00:00, 12.10it/s]"
     ]
    },
    {
     "name": "stdout",
     "output_type": "stream",
     "text": [
      "Accuracy loss: 8.11 | fairness loss 161.00 | Demographic disparity = 0.51\n",
      " \n",
      "Avg Training Stats after 286 global rounds:\n",
      "Training loss: 42.17 | Validation accuracy: 88.67% | Validation Demographic disparity: 0.5113\n",
      "\n",
      " | Global Training Round : 287 |\n",
      "\n",
      "Accuracy loss: 8.11 | fairness loss 160.80 | Demographic disparity = 0.51\n",
      " \n",
      "Avg Training Stats after 287 global rounds:\n",
      "Training loss: 42.14 | Validation accuracy: 88.67% | Validation Demographic disparity: 0.5113\n",
      "\n",
      " | Global Training Round : 288 |\n",
      "\n",
      "Accuracy loss: 8.10 | fairness loss 161.36 | Demographic disparity = 0.51\n",
      " \n",
      "Avg Training Stats after 288 global rounds:\n",
      "Training loss: 42.12 | Validation accuracy: 88.67% | Validation Demographic disparity: 0.5113\n",
      "\n",
      " | Global Training Round : 289 |\n",
      "\n"
     ]
    },
    {
     "name": "stderr",
     "output_type": "stream",
     "text": [
      "\r",
      " 97%|█████████▋| 290/300 [00:29<00:00, 12.11it/s]"
     ]
    },
    {
     "name": "stdout",
     "output_type": "stream",
     "text": [
      "Accuracy loss: 8.11 | fairness loss 161.00 | Demographic disparity = 0.51\n",
      " \n",
      "Avg Training Stats after 289 global rounds:\n",
      "Training loss: 42.09 | Validation accuracy: 88.67% | Validation Demographic disparity: 0.5113\n",
      "\n",
      " | Global Training Round : 290 |\n",
      "\n",
      "Accuracy loss: 8.10 | fairness loss 160.88 | Demographic disparity = 0.51\n",
      " \n",
      "Avg Training Stats after 290 global rounds:\n",
      "Training loss: 42.07 | Validation accuracy: 88.67% | Validation Demographic disparity: 0.5113\n",
      "\n",
      " | Global Training Round : 291 |\n",
      "\n",
      "Accuracy loss: 8.10 | fairness loss 160.87 | Demographic disparity = 0.51\n",
      " \n",
      "Avg Training Stats after 291 global rounds:\n",
      "Training loss: 42.04 | Validation accuracy: 88.67% | Validation Demographic disparity: 0.5113\n",
      "\n",
      " | Global Training Round : 292 |\n",
      "\n"
     ]
    },
    {
     "name": "stderr",
     "output_type": "stream",
     "text": [
      " 98%|█████████▊| 294/300 [00:29<00:00, 11.72it/s]"
     ]
    },
    {
     "name": "stdout",
     "output_type": "stream",
     "text": [
      "Accuracy loss: 8.10 | fairness loss 160.87 | Demographic disparity = 0.51\n",
      " \n",
      "Avg Training Stats after 292 global rounds:\n",
      "Training loss: 42.02 | Validation accuracy: 88.67% | Validation Demographic disparity: 0.5113\n",
      "\n",
      " | Global Training Round : 293 |\n",
      "\n",
      "Accuracy loss: 8.10 | fairness loss 161.61 | Demographic disparity = 0.51\n",
      " \n",
      "Avg Training Stats after 293 global rounds:\n",
      "Training loss: 41.99 | Validation accuracy: 88.67% | Validation Demographic disparity: 0.5113\n",
      "\n",
      " | Global Training Round : 294 |\n",
      "\n",
      "Accuracy loss: 8.10 | fairness loss 160.93 | Demographic disparity = 0.51\n",
      " \n",
      "Avg Training Stats after 294 global rounds:\n",
      "Training loss: 41.97 | Validation accuracy: 88.67% | Validation Demographic disparity: 0.5113\n",
      "\n",
      " | Global Training Round : 295 |\n",
      "\n"
     ]
    },
    {
     "name": "stderr",
     "output_type": "stream",
     "text": [
      "\r",
      " 99%|█████████▊| 296/300 [00:29<00:00, 11.75it/s]"
     ]
    },
    {
     "name": "stdout",
     "output_type": "stream",
     "text": [
      "Accuracy loss: 8.10 | fairness loss 161.32 | Demographic disparity = 0.51\n",
      " \n",
      "Avg Training Stats after 295 global rounds:\n",
      "Training loss: 41.94 | Validation accuracy: 88.67% | Validation Demographic disparity: 0.5113\n",
      "\n",
      " | Global Training Round : 296 |\n",
      "\n",
      "Accuracy loss: 8.10 | fairness loss 161.07 | Demographic disparity = 0.51\n",
      " \n",
      "Avg Training Stats after 296 global rounds:\n",
      "Training loss: 41.92 | Validation accuracy: 88.67% | Validation Demographic disparity: 0.5113\n",
      "\n",
      " | Global Training Round : 297 |\n",
      "\n",
      "Accuracy loss: 8.10 | fairness loss 160.95 | Demographic disparity = 0.51\n",
      " \n",
      "Avg Training Stats after 297 global rounds:\n",
      "Training loss: 41.90 | Validation accuracy: 88.67% | Validation Demographic disparity: 0.5113\n",
      "\n",
      " | Global Training Round : 298 |\n",
      "\n"
     ]
    },
    {
     "name": "stderr",
     "output_type": "stream",
     "text": [
      "100%|██████████| 300/300 [00:29<00:00, 10.01it/s]"
     ]
    },
    {
     "name": "stdout",
     "output_type": "stream",
     "text": [
      "Accuracy loss: 8.10 | fairness loss 161.10 | Demographic disparity = 0.51\n",
      " \n",
      "Avg Training Stats after 298 global rounds:\n",
      "Training loss: 41.87 | Validation accuracy: 88.67% | Validation Demographic disparity: 0.5113\n",
      "\n",
      " | Global Training Round : 299 |\n",
      "\n",
      "Accuracy loss: 8.10 | fairness loss 161.06 | Demographic disparity = 0.51\n",
      " \n",
      "Avg Training Stats after 299 global rounds:\n",
      "Training loss: 41.85 | Validation accuracy: 88.67% | Validation Demographic disparity: 0.5113\n",
      "\n",
      " | Global Training Round : 300 |\n",
      "\n",
      "Accuracy loss: 8.10 | fairness loss 160.96 | Demographic disparity = 0.51\n",
      " \n",
      "Avg Training Stats after 300 global rounds:\n",
      "Training loss: 41.83 | Validation accuracy: 88.67% | Validation Demographic disparity: 0.5113\n",
      " \n",
      " Results after 300 global rounds of training:\n",
      "|---- Avg Train Accuracy: 88.67%\n",
      "|---- Test Accuracy: 90.67%\n",
      "|---- Test Demographic disparity: 0.3686\n",
      "\n",
      " Total Run Time: 30.0044 sec\n"
     ]
    },
    {
     "name": "stderr",
     "output_type": "stream",
     "text": [
      "\n"
     ]
    }
   ],
   "source": [
    "server = Server(logReg(num_features=3, num_classes=2, seed = seed), synthetic_info, train_prn = False, seed = seed)\n",
    "server.Unconstrained(num_epochs = 300, optimizer = 'adam', learning_rate = 0.0004)\n"
   ]
  },
  {
   "cell_type": "code",
   "execution_count": 4,
   "metadata": {
    "scrolled": true
   },
   "outputs": [
    {
     "name": "stderr",
     "output_type": "stream",
     "text": [
      "  1%|          | 2/300 [00:00<00:33,  8.80it/s]"
     ]
    },
    {
     "name": "stdout",
     "output_type": "stream",
     "text": [
      " \n",
      "Avg Training Stats after 1 threshold adjusting global rounds:\n",
      "Training loss: 40.61 | Validation accuracy: 89.18% | Validation Demographic disparity: 0.4991\n",
      " \n",
      "Avg Training Stats after 2 threshold adjusting global rounds:\n",
      "Training loss: 40.82 | Validation accuracy: 88.71% | Validation Demographic disparity: 0.4930\n"
     ]
    },
    {
     "name": "stderr",
     "output_type": "stream",
     "text": [
      "  1%|▏         | 4/300 [00:00<00:33,  8.78it/s]"
     ]
    },
    {
     "name": "stdout",
     "output_type": "stream",
     "text": [
      " \n",
      "Avg Training Stats after 3 threshold adjusting global rounds:\n",
      "Training loss: 41.09 | Validation accuracy: 88.71% | Validation Demographic disparity: 0.4930\n",
      " \n",
      "Avg Training Stats after 4 threshold adjusting global rounds:\n",
      "Training loss: 41.41 | Validation accuracy: 88.71% | Validation Demographic disparity: 0.4808\n"
     ]
    },
    {
     "name": "stderr",
     "output_type": "stream",
     "text": [
      "  2%|▏         | 6/300 [00:00<00:33,  8.71it/s]"
     ]
    },
    {
     "name": "stdout",
     "output_type": "stream",
     "text": [
      " \n",
      "Avg Training Stats after 5 threshold adjusting global rounds:\n",
      "Training loss: 41.75 | Validation accuracy: 88.71% | Validation Demographic disparity: 0.4808\n",
      " \n",
      "Avg Training Stats after 6 threshold adjusting global rounds:\n",
      "Training loss: 42.11 | Validation accuracy: 89.18% | Validation Demographic disparity: 0.4747\n"
     ]
    },
    {
     "name": "stderr",
     "output_type": "stream",
     "text": [
      "  3%|▎         | 8/300 [00:00<00:33,  8.83it/s]"
     ]
    },
    {
     "name": "stdout",
     "output_type": "stream",
     "text": [
      " \n",
      "Avg Training Stats after 7 threshold adjusting global rounds:\n",
      "Training loss: 42.50 | Validation accuracy: 87.30% | Validation Demographic disparity: 0.4503\n",
      " \n",
      "Avg Training Stats after 8 threshold adjusting global rounds:\n",
      "Training loss: 42.90 | Validation accuracy: 87.30% | Validation Demographic disparity: 0.4503\n"
     ]
    },
    {
     "name": "stderr",
     "output_type": "stream",
     "text": [
      "  4%|▎         | 11/300 [00:01<00:31,  9.28it/s]"
     ]
    },
    {
     "name": "stdout",
     "output_type": "stream",
     "text": [
      " \n",
      "Avg Training Stats after 9 threshold adjusting global rounds:\n",
      "Training loss: 43.31 | Validation accuracy: 86.35% | Validation Demographic disparity: 0.4381\n",
      " \n",
      "Avg Training Stats after 10 threshold adjusting global rounds:\n",
      "Training loss: 43.74 | Validation accuracy: 85.88% | Validation Demographic disparity: 0.4319\n",
      " \n",
      "Avg Training Stats after 11 threshold adjusting global rounds:\n",
      "Training loss: 44.18 | Validation accuracy: 86.35% | Validation Demographic disparity: 0.4258\n"
     ]
    },
    {
     "name": "stderr",
     "output_type": "stream",
     "text": [
      "  4%|▍         | 13/300 [00:01<00:30,  9.42it/s]"
     ]
    },
    {
     "name": "stdout",
     "output_type": "stream",
     "text": [
      " \n",
      "Avg Training Stats after 12 threshold adjusting global rounds:\n",
      "Training loss: 44.62 | Validation accuracy: 86.83% | Validation Demographic disparity: 0.4197\n",
      " \n",
      "Avg Training Stats after 13 threshold adjusting global rounds:\n",
      "Training loss: 45.08 | Validation accuracy: 85.88% | Validation Demographic disparity: 0.4075\n",
      " \n",
      "Avg Training Stats after 14 threshold adjusting global rounds:\n",
      "Training loss: 45.55 | Validation accuracy: 85.88% | Validation Demographic disparity: 0.4075\n"
     ]
    },
    {
     "name": "stderr",
     "output_type": "stream",
     "text": [
      "  6%|▌         | 17/300 [00:01<00:28,  9.80it/s]"
     ]
    },
    {
     "name": "stdout",
     "output_type": "stream",
     "text": [
      " \n",
      "Avg Training Stats after 15 threshold adjusting global rounds:\n",
      "Training loss: 46.02 | Validation accuracy: 85.88% | Validation Demographic disparity: 0.4075\n",
      " \n",
      "Avg Training Stats after 16 threshold adjusting global rounds:\n",
      "Training loss: 46.50 | Validation accuracy: 84.94% | Validation Demographic disparity: 0.3953\n",
      " \n",
      "Avg Training Stats after 17 threshold adjusting global rounds:\n",
      "Training loss: 46.99 | Validation accuracy: 84.00% | Validation Demographic disparity: 0.3831\n"
     ]
    },
    {
     "name": "stderr",
     "output_type": "stream",
     "text": [
      "  6%|▋         | 19/300 [00:02<00:29,  9.55it/s]"
     ]
    },
    {
     "name": "stdout",
     "output_type": "stream",
     "text": [
      " \n",
      "Avg Training Stats after 18 threshold adjusting global rounds:\n",
      "Training loss: 47.49 | Validation accuracy: 84.00% | Validation Demographic disparity: 0.3709\n",
      " \n",
      "Avg Training Stats after 19 threshold adjusting global rounds:\n",
      "Training loss: 47.99 | Validation accuracy: 84.00% | Validation Demographic disparity: 0.3709\n"
     ]
    },
    {
     "name": "stderr",
     "output_type": "stream",
     "text": [
      "  7%|▋         | 22/300 [00:02<00:28,  9.80it/s]"
     ]
    },
    {
     "name": "stdout",
     "output_type": "stream",
     "text": [
      " \n",
      "Avg Training Stats after 20 threshold adjusting global rounds:\n",
      "Training loss: 48.50 | Validation accuracy: 83.05% | Validation Demographic disparity: 0.3587\n",
      " \n",
      "Avg Training Stats after 21 threshold adjusting global rounds:\n",
      "Training loss: 49.01 | Validation accuracy: 83.05% | Validation Demographic disparity: 0.3587\n",
      " \n",
      "Avg Training Stats after 22 threshold adjusting global rounds:\n",
      "Training loss: 49.53 | Validation accuracy: 83.52% | Validation Demographic disparity: 0.3526\n"
     ]
    },
    {
     "name": "stderr",
     "output_type": "stream",
     "text": [
      "  8%|▊         | 24/300 [00:02<00:28,  9.77it/s]"
     ]
    },
    {
     "name": "stdout",
     "output_type": "stream",
     "text": [
      " \n",
      "Avg Training Stats after 23 threshold adjusting global rounds:\n",
      "Training loss: 50.06 | Validation accuracy: 82.58% | Validation Demographic disparity: 0.3404\n",
      " \n",
      "Avg Training Stats after 24 threshold adjusting global rounds:\n",
      "Training loss: 50.58 | Validation accuracy: 82.58% | Validation Demographic disparity: 0.3282\n",
      " \n",
      "Avg Training Stats after 25 threshold adjusting global rounds:\n",
      "Training loss: 51.12 | Validation accuracy: 82.11% | Validation Demographic disparity: 0.3221\n"
     ]
    },
    {
     "name": "stderr",
     "output_type": "stream",
     "text": [
      "  9%|▉         | 28/300 [00:02<00:27,  9.98it/s]"
     ]
    },
    {
     "name": "stdout",
     "output_type": "stream",
     "text": [
      " \n",
      "Avg Training Stats after 26 threshold adjusting global rounds:\n",
      "Training loss: 51.66 | Validation accuracy: 82.11% | Validation Demographic disparity: 0.3221\n",
      " \n",
      "Avg Training Stats after 27 threshold adjusting global rounds:\n",
      "Training loss: 52.20 | Validation accuracy: 82.11% | Validation Demographic disparity: 0.3221\n",
      " \n",
      "Avg Training Stats after 28 threshold adjusting global rounds:\n",
      "Training loss: 52.74 | Validation accuracy: 81.64% | Validation Demographic disparity: 0.3160\n"
     ]
    },
    {
     "name": "stderr",
     "output_type": "stream",
     "text": [
      " 10%|█         | 31/300 [00:03<00:26, 10.03it/s]"
     ]
    },
    {
     "name": "stdout",
     "output_type": "stream",
     "text": [
      " \n",
      "Avg Training Stats after 29 threshold adjusting global rounds:\n",
      "Training loss: 53.29 | Validation accuracy: 81.17% | Validation Demographic disparity: 0.3099\n",
      " \n",
      "Avg Training Stats after 30 threshold adjusting global rounds:\n",
      "Training loss: 53.85 | Validation accuracy: 81.17% | Validation Demographic disparity: 0.3099\n",
      " \n",
      "Avg Training Stats after 31 threshold adjusting global rounds:\n",
      "Training loss: 54.41 | Validation accuracy: 80.69% | Validation Demographic disparity: 0.3038\n"
     ]
    },
    {
     "name": "stderr",
     "output_type": "stream",
     "text": [
      "\r",
      " 11%|█         | 33/300 [00:03<00:26, 10.02it/s]"
     ]
    },
    {
     "name": "stdout",
     "output_type": "stream",
     "text": [
      " \n",
      "Avg Training Stats after 32 threshold adjusting global rounds:\n",
      "Training loss: 54.97 | Validation accuracy: 79.75% | Validation Demographic disparity: 0.2916\n",
      " \n",
      "Avg Training Stats after 33 threshold adjusting global rounds:\n",
      "Training loss: 55.53 | Validation accuracy: 79.75% | Validation Demographic disparity: 0.2916\n",
      " \n",
      "Avg Training Stats after 34 threshold adjusting global rounds:\n",
      "Training loss: 56.10 | Validation accuracy: 79.75% | Validation Demographic disparity: 0.2916\n"
     ]
    },
    {
     "name": "stderr",
     "output_type": "stream",
     "text": [
      " 12%|█▏        | 37/300 [00:03<00:26, 10.03it/s]"
     ]
    },
    {
     "name": "stdout",
     "output_type": "stream",
     "text": [
      " \n",
      "Avg Training Stats after 35 threshold adjusting global rounds:\n",
      "Training loss: 56.67 | Validation accuracy: 79.75% | Validation Demographic disparity: 0.2794\n",
      " \n",
      "Avg Training Stats after 36 threshold adjusting global rounds:\n",
      "Training loss: 57.24 | Validation accuracy: 79.75% | Validation Demographic disparity: 0.2794\n",
      " \n",
      "Avg Training Stats after 37 threshold adjusting global rounds:\n",
      "Training loss: 57.81 | Validation accuracy: 78.34% | Validation Demographic disparity: 0.2611\n"
     ]
    },
    {
     "name": "stderr",
     "output_type": "stream",
     "text": [
      "\r",
      " 13%|█▎        | 39/300 [00:04<00:26,  9.98it/s]"
     ]
    },
    {
     "name": "stdout",
     "output_type": "stream",
     "text": [
      " \n",
      "Avg Training Stats after 38 threshold adjusting global rounds:\n",
      "Training loss: 58.39 | Validation accuracy: 77.86% | Validation Demographic disparity: 0.2550\n",
      " \n",
      "Avg Training Stats after 39 threshold adjusting global rounds:\n",
      "Training loss: 58.97 | Validation accuracy: 77.86% | Validation Demographic disparity: 0.2550\n",
      " \n",
      "Avg Training Stats after 40 threshold adjusting global rounds:\n",
      "Training loss: 59.56 | Validation accuracy: 76.92% | Validation Demographic disparity: 0.2428\n"
     ]
    },
    {
     "name": "stderr",
     "output_type": "stream",
     "text": [
      "\r",
      " 14%|█▎        | 41/300 [00:04<00:25, 10.03it/s]"
     ]
    },
    {
     "name": "stdout",
     "output_type": "stream",
     "text": [
      " \n",
      "Avg Training Stats after 41 threshold adjusting global rounds:\n",
      "Training loss: 60.14 | Validation accuracy: 75.98% | Validation Demographic disparity: 0.2306\n",
      " \n",
      "Avg Training Stats after 42 threshold adjusting global rounds:\n",
      "Training loss: 60.73 | Validation accuracy: 75.03% | Validation Demographic disparity: 0.2184\n"
     ]
    },
    {
     "name": "stderr",
     "output_type": "stream",
     "text": [
      " 15%|█▍        | 44/300 [00:04<00:26,  9.81it/s]"
     ]
    },
    {
     "name": "stdout",
     "output_type": "stream",
     "text": [
      " \n",
      "Avg Training Stats after 43 threshold adjusting global rounds:\n",
      "Training loss: 61.32 | Validation accuracy: 74.09% | Validation Demographic disparity: 0.2062\n",
      " \n",
      "Avg Training Stats after 44 threshold adjusting global rounds:\n",
      "Training loss: 61.91 | Validation accuracy: 73.62% | Validation Demographic disparity: 0.2001\n",
      " \n",
      "Avg Training Stats after 45 threshold adjusting global rounds:\n",
      "Training loss: 62.50 | Validation accuracy: 73.62% | Validation Demographic disparity: 0.2001\n"
     ]
    },
    {
     "name": "stderr",
     "output_type": "stream",
     "text": [
      " 16%|█▌        | 47/300 [00:04<00:25,  9.94it/s]"
     ]
    },
    {
     "name": "stdout",
     "output_type": "stream",
     "text": [
      " \n",
      "Avg Training Stats after 46 threshold adjusting global rounds:\n",
      "Training loss: 63.10 | Validation accuracy: 73.15% | Validation Demographic disparity: 0.1940\n",
      " \n",
      "Avg Training Stats after 47 threshold adjusting global rounds:\n",
      "Training loss: 63.70 | Validation accuracy: 73.15% | Validation Demographic disparity: 0.1940\n"
     ]
    },
    {
     "name": "stderr",
     "output_type": "stream",
     "text": [
      " 16%|█▋        | 49/300 [00:05<00:26,  9.64it/s]"
     ]
    },
    {
     "name": "stdout",
     "output_type": "stream",
     "text": [
      " \n",
      "Avg Training Stats after 48 threshold adjusting global rounds:\n",
      "Training loss: 64.29 | Validation accuracy: 73.15% | Validation Demographic disparity: 0.1940\n",
      " \n",
      "Avg Training Stats after 49 threshold adjusting global rounds:\n",
      "Training loss: 64.89 | Validation accuracy: 73.15% | Validation Demographic disparity: 0.1940\n"
     ]
    },
    {
     "name": "stderr",
     "output_type": "stream",
     "text": [
      " 17%|█▋        | 51/300 [00:05<00:25,  9.72it/s]"
     ]
    },
    {
     "name": "stdout",
     "output_type": "stream",
     "text": [
      " \n",
      "Avg Training Stats after 50 threshold adjusting global rounds:\n",
      "Training loss: 65.50 | Validation accuracy: 73.15% | Validation Demographic disparity: 0.1940\n",
      " \n",
      "Avg Training Stats after 51 threshold adjusting global rounds:\n",
      "Training loss: 66.10 | Validation accuracy: 72.68% | Validation Demographic disparity: 0.1879\n"
     ]
    },
    {
     "name": "stderr",
     "output_type": "stream",
     "text": [
      " 18%|█▊        | 53/300 [00:05<00:26,  9.36it/s]"
     ]
    },
    {
     "name": "stdout",
     "output_type": "stream",
     "text": [
      " \n",
      "Avg Training Stats after 52 threshold adjusting global rounds:\n",
      "Training loss: 66.71 | Validation accuracy: 72.68% | Validation Demographic disparity: 0.1879\n",
      " \n",
      "Avg Training Stats after 53 threshold adjusting global rounds:\n",
      "Training loss: 67.31 | Validation accuracy: 71.73% | Validation Demographic disparity: 0.1757\n"
     ]
    },
    {
     "name": "stderr",
     "output_type": "stream",
     "text": [
      " 18%|█▊        | 55/300 [00:05<00:25,  9.60it/s]"
     ]
    },
    {
     "name": "stdout",
     "output_type": "stream",
     "text": [
      " \n",
      "Avg Training Stats after 54 threshold adjusting global rounds:\n",
      "Training loss: 67.92 | Validation accuracy: 71.26% | Validation Demographic disparity: 0.1696\n",
      " \n",
      "Avg Training Stats after 55 threshold adjusting global rounds:\n",
      "Training loss: 68.53 | Validation accuracy: 71.26% | Validation Demographic disparity: 0.1696\n",
      " \n",
      "Avg Training Stats after 56 threshold adjusting global rounds:\n",
      "Training loss: 69.14 | Validation accuracy: 71.26% | Validation Demographic disparity: 0.1696\n"
     ]
    },
    {
     "name": "stderr",
     "output_type": "stream",
     "text": [
      " 19%|█▉        | 58/300 [00:05<00:24,  9.73it/s]"
     ]
    },
    {
     "name": "stdout",
     "output_type": "stream",
     "text": [
      " \n",
      "Avg Training Stats after 57 threshold adjusting global rounds:\n",
      "Training loss: 69.75 | Validation accuracy: 70.79% | Validation Demographic disparity: 0.1635\n",
      " \n",
      "Avg Training Stats after 58 threshold adjusting global rounds:\n",
      "Training loss: 70.36 | Validation accuracy: 70.79% | Validation Demographic disparity: 0.1635\n"
     ]
    },
    {
     "name": "stderr",
     "output_type": "stream",
     "text": [
      " 20%|██        | 60/300 [00:06<00:24,  9.74it/s]"
     ]
    },
    {
     "name": "stdout",
     "output_type": "stream",
     "text": [
      " \n",
      "Avg Training Stats after 59 threshold adjusting global rounds:\n",
      "Training loss: 70.98 | Validation accuracy: 70.79% | Validation Demographic disparity: 0.1635\n",
      " \n",
      "Avg Training Stats after 60 threshold adjusting global rounds:\n",
      "Training loss: 71.59 | Validation accuracy: 70.32% | Validation Demographic disparity: 0.1574\n",
      " \n",
      "Avg Training Stats after 61 threshold adjusting global rounds:\n",
      "Training loss: 72.21 | Validation accuracy: 70.32% | Validation Demographic disparity: 0.1574\n"
     ]
    },
    {
     "name": "stderr",
     "output_type": "stream",
     "text": [
      " 21%|██        | 63/300 [00:06<00:24,  9.82it/s]"
     ]
    },
    {
     "name": "stdout",
     "output_type": "stream",
     "text": [
      " \n",
      "Avg Training Stats after 62 threshold adjusting global rounds:\n",
      "Training loss: 72.82 | Validation accuracy: 70.32% | Validation Demographic disparity: 0.1574\n",
      " \n",
      "Avg Training Stats after 63 threshold adjusting global rounds:\n",
      "Training loss: 73.44 | Validation accuracy: 70.32% | Validation Demographic disparity: 0.1574\n",
      " \n",
      "Avg Training Stats after 64 threshold adjusting global rounds:\n",
      "Training loss: 74.06 | Validation accuracy: 70.32% | Validation Demographic disparity: 0.1574\n"
     ]
    },
    {
     "name": "stderr",
     "output_type": "stream",
     "text": [
      " 22%|██▏       | 67/300 [00:06<00:23,  9.95it/s]"
     ]
    },
    {
     "name": "stdout",
     "output_type": "stream",
     "text": [
      " \n",
      "Avg Training Stats after 65 threshold adjusting global rounds:\n",
      "Training loss: 74.68 | Validation accuracy: 69.85% | Validation Demographic disparity: 0.1513\n",
      " \n",
      "Avg Training Stats after 66 threshold adjusting global rounds:\n",
      "Training loss: 75.30 | Validation accuracy: 69.37% | Validation Demographic disparity: 0.1452\n",
      " \n",
      "Avg Training Stats after 67 threshold adjusting global rounds:\n",
      "Training loss: 75.92 | Validation accuracy: 68.90% | Validation Demographic disparity: 0.1391\n"
     ]
    },
    {
     "name": "stderr",
     "output_type": "stream",
     "text": [
      " 23%|██▎       | 70/300 [00:07<00:22, 10.03it/s]"
     ]
    },
    {
     "name": "stdout",
     "output_type": "stream",
     "text": [
      " \n",
      "Avg Training Stats after 68 threshold adjusting global rounds:\n",
      "Training loss: 76.54 | Validation accuracy: 68.43% | Validation Demographic disparity: 0.1330\n",
      " \n",
      "Avg Training Stats after 69 threshold adjusting global rounds:\n",
      "Training loss: 77.16 | Validation accuracy: 68.43% | Validation Demographic disparity: 0.1330\n",
      " \n",
      "Avg Training Stats after 70 threshold adjusting global rounds:\n",
      "Training loss: 77.79 | Validation accuracy: 68.43% | Validation Demographic disparity: 0.1330\n"
     ]
    },
    {
     "name": "stderr",
     "output_type": "stream",
     "text": [
      "\r",
      " 24%|██▍       | 72/300 [00:07<00:22,  9.99it/s]"
     ]
    },
    {
     "name": "stdout",
     "output_type": "stream",
     "text": [
      " \n",
      "Avg Training Stats after 71 threshold adjusting global rounds:\n",
      "Training loss: 78.41 | Validation accuracy: 68.43% | Validation Demographic disparity: 0.1330\n",
      " \n",
      "Avg Training Stats after 72 threshold adjusting global rounds:\n",
      "Training loss: 79.03 | Validation accuracy: 68.43% | Validation Demographic disparity: 0.1330\n"
     ]
    },
    {
     "name": "stderr",
     "output_type": "stream",
     "text": [
      " 25%|██▍       | 74/300 [00:07<00:24,  9.23it/s]"
     ]
    },
    {
     "name": "stdout",
     "output_type": "stream",
     "text": [
      " \n",
      "Avg Training Stats after 73 threshold adjusting global rounds:\n",
      "Training loss: 79.66 | Validation accuracy: 68.43% | Validation Demographic disparity: 0.1330\n",
      " \n",
      "Avg Training Stats after 74 threshold adjusting global rounds:\n",
      "Training loss: 80.28 | Validation accuracy: 67.96% | Validation Demographic disparity: 0.1269\n"
     ]
    },
    {
     "name": "stderr",
     "output_type": "stream",
     "text": [
      " 25%|██▌       | 76/300 [00:07<00:25,  8.66it/s]"
     ]
    },
    {
     "name": "stdout",
     "output_type": "stream",
     "text": [
      " \n",
      "Avg Training Stats after 75 threshold adjusting global rounds:\n",
      "Training loss: 80.91 | Validation accuracy: 67.96% | Validation Demographic disparity: 0.1269\n",
      " \n",
      "Avg Training Stats after 76 threshold adjusting global rounds:\n",
      "Training loss: 81.53 | Validation accuracy: 67.96% | Validation Demographic disparity: 0.1269\n"
     ]
    },
    {
     "name": "stderr",
     "output_type": "stream",
     "text": [
      " 26%|██▌       | 78/300 [00:08<00:24,  8.96it/s]"
     ]
    },
    {
     "name": "stdout",
     "output_type": "stream",
     "text": [
      " \n",
      "Avg Training Stats after 77 threshold adjusting global rounds:\n",
      "Training loss: 82.16 | Validation accuracy: 67.96% | Validation Demographic disparity: 0.1269\n",
      " \n",
      "Avg Training Stats after 78 threshold adjusting global rounds:\n",
      "Training loss: 82.78 | Validation accuracy: 67.96% | Validation Demographic disparity: 0.1269\n"
     ]
    },
    {
     "name": "stderr",
     "output_type": "stream",
     "text": [
      " 27%|██▋       | 80/300 [00:08<00:25,  8.66it/s]"
     ]
    },
    {
     "name": "stdout",
     "output_type": "stream",
     "text": [
      " \n",
      "Avg Training Stats after 79 threshold adjusting global rounds:\n",
      "Training loss: 83.41 | Validation accuracy: 67.96% | Validation Demographic disparity: 0.1269\n",
      " \n",
      "Avg Training Stats after 80 threshold adjusting global rounds:\n",
      "Training loss: 84.04 | Validation accuracy: 67.96% | Validation Demographic disparity: 0.1269\n"
     ]
    },
    {
     "name": "stderr",
     "output_type": "stream",
     "text": [
      " 27%|██▋       | 82/300 [00:08<00:25,  8.46it/s]"
     ]
    },
    {
     "name": "stdout",
     "output_type": "stream",
     "text": [
      " \n",
      "Avg Training Stats after 81 threshold adjusting global rounds:\n",
      "Training loss: 84.67 | Validation accuracy: 67.96% | Validation Demographic disparity: 0.1269\n",
      " \n",
      "Avg Training Stats after 82 threshold adjusting global rounds:\n",
      "Training loss: 85.29 | Validation accuracy: 67.96% | Validation Demographic disparity: 0.1269\n"
     ]
    },
    {
     "name": "stderr",
     "output_type": "stream",
     "text": [
      " 28%|██▊       | 84/300 [00:08<00:25,  8.47it/s]"
     ]
    },
    {
     "name": "stdout",
     "output_type": "stream",
     "text": [
      " \n",
      "Avg Training Stats after 83 threshold adjusting global rounds:\n",
      "Training loss: 85.92 | Validation accuracy: 67.96% | Validation Demographic disparity: 0.1269\n",
      " \n",
      "Avg Training Stats after 84 threshold adjusting global rounds:\n",
      "Training loss: 86.55 | Validation accuracy: 67.96% | Validation Demographic disparity: 0.1269\n"
     ]
    },
    {
     "name": "stderr",
     "output_type": "stream",
     "text": [
      " 29%|██▊       | 86/300 [00:09<00:25,  8.33it/s]"
     ]
    },
    {
     "name": "stdout",
     "output_type": "stream",
     "text": [
      " \n",
      "Avg Training Stats after 85 threshold adjusting global rounds:\n",
      "Training loss: 87.18 | Validation accuracy: 67.96% | Validation Demographic disparity: 0.1269\n",
      " \n",
      "Avg Training Stats after 86 threshold adjusting global rounds:\n",
      "Training loss: 87.80 | Validation accuracy: 67.96% | Validation Demographic disparity: 0.1269\n"
     ]
    },
    {
     "name": "stderr",
     "output_type": "stream",
     "text": [
      " 29%|██▉       | 88/300 [00:09<00:25,  8.21it/s]"
     ]
    },
    {
     "name": "stdout",
     "output_type": "stream",
     "text": [
      " \n",
      "Avg Training Stats after 87 threshold adjusting global rounds:\n",
      "Training loss: 88.43 | Validation accuracy: 67.49% | Validation Demographic disparity: 0.1208\n",
      " \n",
      "Avg Training Stats after 88 threshold adjusting global rounds:\n",
      "Training loss: 89.06 | Validation accuracy: 67.49% | Validation Demographic disparity: 0.1208\n"
     ]
    },
    {
     "name": "stderr",
     "output_type": "stream",
     "text": [
      " 30%|███       | 90/300 [00:09<00:26,  7.85it/s]"
     ]
    },
    {
     "name": "stdout",
     "output_type": "stream",
     "text": [
      " \n",
      "Avg Training Stats after 89 threshold adjusting global rounds:\n",
      "Training loss: 89.69 | Validation accuracy: 67.49% | Validation Demographic disparity: 0.1208\n",
      " \n",
      "Avg Training Stats after 90 threshold adjusting global rounds:\n",
      "Training loss: 90.32 | Validation accuracy: 67.49% | Validation Demographic disparity: 0.1208\n"
     ]
    },
    {
     "name": "stderr",
     "output_type": "stream",
     "text": [
      " 31%|███       | 92/300 [00:09<00:24,  8.46it/s]"
     ]
    },
    {
     "name": "stdout",
     "output_type": "stream",
     "text": [
      " \n",
      "Avg Training Stats after 91 threshold adjusting global rounds:\n",
      "Training loss: 90.95 | Validation accuracy: 67.02% | Validation Demographic disparity: 0.1147\n",
      " \n",
      "Avg Training Stats after 92 threshold adjusting global rounds:\n",
      "Training loss: 91.58 | Validation accuracy: 67.02% | Validation Demographic disparity: 0.1147\n"
     ]
    },
    {
     "name": "stderr",
     "output_type": "stream",
     "text": [
      " 31%|███▏      | 94/300 [00:10<00:24,  8.36it/s]"
     ]
    },
    {
     "name": "stdout",
     "output_type": "stream",
     "text": [
      " \n",
      "Avg Training Stats after 93 threshold adjusting global rounds:\n",
      "Training loss: 92.20 | Validation accuracy: 67.02% | Validation Demographic disparity: 0.1147\n",
      " \n",
      "Avg Training Stats after 94 threshold adjusting global rounds:\n",
      "Training loss: 92.83 | Validation accuracy: 67.02% | Validation Demographic disparity: 0.1147\n"
     ]
    },
    {
     "name": "stderr",
     "output_type": "stream",
     "text": [
      " 32%|███▏      | 96/300 [00:10<00:23,  8.83it/s]"
     ]
    },
    {
     "name": "stdout",
     "output_type": "stream",
     "text": [
      " \n",
      "Avg Training Stats after 95 threshold adjusting global rounds:\n",
      "Training loss: 93.46 | Validation accuracy: 67.02% | Validation Demographic disparity: 0.1147\n",
      " \n",
      "Avg Training Stats after 96 threshold adjusting global rounds:\n",
      "Training loss: 94.09 | Validation accuracy: 66.54% | Validation Demographic disparity: 0.1086\n"
     ]
    },
    {
     "name": "stderr",
     "output_type": "stream",
     "text": [
      " 33%|███▎      | 98/300 [00:10<00:25,  7.91it/s]"
     ]
    },
    {
     "name": "stdout",
     "output_type": "stream",
     "text": [
      " \n",
      "Avg Training Stats after 97 threshold adjusting global rounds:\n",
      "Training loss: 94.72 | Validation accuracy: 66.54% | Validation Demographic disparity: 0.1086\n",
      " \n",
      "Avg Training Stats after 98 threshold adjusting global rounds:\n",
      "Training loss: 95.35 | Validation accuracy: 66.54% | Validation Demographic disparity: 0.1086\n"
     ]
    },
    {
     "name": "stderr",
     "output_type": "stream",
     "text": [
      " 33%|███▎      | 100/300 [00:10<00:23,  8.47it/s]"
     ]
    },
    {
     "name": "stdout",
     "output_type": "stream",
     "text": [
      " \n",
      "Avg Training Stats after 99 threshold adjusting global rounds:\n",
      "Training loss: 95.98 | Validation accuracy: 66.54% | Validation Demographic disparity: 0.1086\n",
      " \n",
      "Avg Training Stats after 100 threshold adjusting global rounds:\n",
      "Training loss: 96.60 | Validation accuracy: 66.07% | Validation Demographic disparity: 0.1025\n"
     ]
    },
    {
     "name": "stderr",
     "output_type": "stream",
     "text": [
      " 34%|███▍      | 102/300 [00:10<00:22,  8.96it/s]"
     ]
    },
    {
     "name": "stdout",
     "output_type": "stream",
     "text": [
      " \n",
      "Avg Training Stats after 101 threshold adjusting global rounds:\n",
      "Training loss: 97.23 | Validation accuracy: 65.60% | Validation Demographic disparity: 0.0964\n",
      " \n",
      "Avg Training Stats after 102 threshold adjusting global rounds:\n",
      "Training loss: 97.86 | Validation accuracy: 65.60% | Validation Demographic disparity: 0.0964\n"
     ]
    },
    {
     "name": "stderr",
     "output_type": "stream",
     "text": [
      " 35%|███▍      | 104/300 [00:11<00:21,  8.98it/s]"
     ]
    },
    {
     "name": "stdout",
     "output_type": "stream",
     "text": [
      " \n",
      "Avg Training Stats after 103 threshold adjusting global rounds:\n",
      "Training loss: 98.49 | Validation accuracy: 64.66% | Validation Demographic disparity: 0.0842\n",
      " \n",
      "Avg Training Stats after 104 threshold adjusting global rounds:\n",
      "Training loss: 99.12 | Validation accuracy: 64.66% | Validation Demographic disparity: 0.0842\n"
     ]
    },
    {
     "name": "stderr",
     "output_type": "stream",
     "text": [
      " 35%|███▌      | 106/300 [00:11<00:21,  9.22it/s]"
     ]
    },
    {
     "name": "stdout",
     "output_type": "stream",
     "text": [
      " \n",
      "Avg Training Stats after 105 threshold adjusting global rounds:\n",
      "Training loss: 99.74 | Validation accuracy: 64.66% | Validation Demographic disparity: 0.0842\n",
      " \n",
      "Avg Training Stats after 106 threshold adjusting global rounds:\n",
      "Training loss: 100.37 | Validation accuracy: 65.13% | Validation Demographic disparity: 0.0781\n"
     ]
    },
    {
     "name": "stderr",
     "output_type": "stream",
     "text": [
      " 36%|███▋      | 109/300 [00:11<00:20,  9.44it/s]"
     ]
    },
    {
     "name": "stdout",
     "output_type": "stream",
     "text": [
      " \n",
      "Avg Training Stats after 107 threshold adjusting global rounds:\n",
      "Training loss: 101.00 | Validation accuracy: 64.66% | Validation Demographic disparity: 0.0720\n",
      " \n",
      "Avg Training Stats after 108 threshold adjusting global rounds:\n",
      "Training loss: 101.63 | Validation accuracy: 63.24% | Validation Demographic disparity: 0.0537\n",
      " \n",
      "Avg Training Stats after 109 threshold adjusting global rounds:\n",
      "Training loss: 102.25 | Validation accuracy: 63.24% | Validation Demographic disparity: 0.0537\n"
     ]
    },
    {
     "name": "stderr",
     "output_type": "stream",
     "text": [
      " 37%|███▋      | 111/300 [00:11<00:21,  8.73it/s]"
     ]
    },
    {
     "name": "stdout",
     "output_type": "stream",
     "text": [
      " \n",
      "Avg Training Stats after 110 threshold adjusting global rounds:\n",
      "Training loss: 102.88 | Validation accuracy: 63.24% | Validation Demographic disparity: 0.0537\n",
      " \n",
      "Avg Training Stats after 111 threshold adjusting global rounds:\n",
      "Training loss: 103.51 | Validation accuracy: 62.77% | Validation Demographic disparity: 0.0476\n"
     ]
    },
    {
     "name": "stderr",
     "output_type": "stream",
     "text": [
      " 38%|███▊      | 113/300 [00:12<00:21,  8.81it/s]"
     ]
    },
    {
     "name": "stdout",
     "output_type": "stream",
     "text": [
      " \n",
      "Avg Training Stats after 112 threshold adjusting global rounds:\n",
      "Training loss: 104.13 | Validation accuracy: 62.30% | Validation Demographic disparity: 0.0415\n",
      " \n",
      "Avg Training Stats after 113 threshold adjusting global rounds:\n",
      "Training loss: 104.76 | Validation accuracy: 62.30% | Validation Demographic disparity: 0.0415\n"
     ]
    },
    {
     "name": "stderr",
     "output_type": "stream",
     "text": [
      " 38%|███▊      | 115/300 [00:12<00:21,  8.73it/s]"
     ]
    },
    {
     "name": "stdout",
     "output_type": "stream",
     "text": [
      " \n",
      "Avg Training Stats after 114 threshold adjusting global rounds:\n",
      "Training loss: 105.38 | Validation accuracy: 62.30% | Validation Demographic disparity: 0.0415\n",
      " \n",
      "Avg Training Stats after 115 threshold adjusting global rounds:\n",
      "Training loss: 106.01 | Validation accuracy: 62.30% | Validation Demographic disparity: 0.0415\n"
     ]
    },
    {
     "name": "stderr",
     "output_type": "stream",
     "text": [
      " 39%|███▉      | 117/300 [00:12<00:20,  8.92it/s]"
     ]
    },
    {
     "name": "stdout",
     "output_type": "stream",
     "text": [
      " \n",
      "Avg Training Stats after 116 threshold adjusting global rounds:\n",
      "Training loss: 106.63 | Validation accuracy: 62.30% | Validation Demographic disparity: 0.0415\n",
      " \n",
      "Avg Training Stats after 117 threshold adjusting global rounds:\n",
      "Training loss: 107.26 | Validation accuracy: 61.83% | Validation Demographic disparity: 0.0354\n"
     ]
    },
    {
     "name": "stderr",
     "output_type": "stream",
     "text": [
      " 40%|███▉      | 119/300 [00:12<00:21,  8.60it/s]"
     ]
    },
    {
     "name": "stdout",
     "output_type": "stream",
     "text": [
      " \n",
      "Avg Training Stats after 118 threshold adjusting global rounds:\n",
      "Training loss: 107.88 | Validation accuracy: 61.35% | Validation Demographic disparity: 0.0293\n",
      " \n",
      "Avg Training Stats after 119 threshold adjusting global rounds:\n",
      "Training loss: 108.51 | Validation accuracy: 60.88% | Validation Demographic disparity: 0.0232\n"
     ]
    },
    {
     "name": "stderr",
     "output_type": "stream",
     "text": [
      " 40%|████      | 121/300 [00:13<00:22,  8.11it/s]"
     ]
    },
    {
     "name": "stdout",
     "output_type": "stream",
     "text": [
      " \n",
      "Avg Training Stats after 120 threshold adjusting global rounds:\n",
      "Training loss: 109.13 | Validation accuracy: 60.88% | Validation Demographic disparity: 0.0232\n",
      " \n",
      "Avg Training Stats after 121 threshold adjusting global rounds:\n",
      "Training loss: 109.75 | Validation accuracy: 60.88% | Validation Demographic disparity: 0.0232\n"
     ]
    },
    {
     "name": "stderr",
     "output_type": "stream",
     "text": [
      " 41%|████      | 123/300 [00:13<00:21,  8.37it/s]"
     ]
    },
    {
     "name": "stdout",
     "output_type": "stream",
     "text": [
      " \n",
      "Avg Training Stats after 122 threshold adjusting global rounds:\n",
      "Training loss: 110.37 | Validation accuracy: 60.88% | Validation Demographic disparity: 0.0232\n",
      " \n",
      "Avg Training Stats after 123 threshold adjusting global rounds:\n",
      "Training loss: 111.00 | Validation accuracy: 60.88% | Validation Demographic disparity: 0.0232\n"
     ]
    },
    {
     "name": "stderr",
     "output_type": "stream",
     "text": [
      " 42%|████▏     | 125/300 [00:13<00:20,  8.63it/s]"
     ]
    },
    {
     "name": "stdout",
     "output_type": "stream",
     "text": [
      " \n",
      "Avg Training Stats after 124 threshold adjusting global rounds:\n",
      "Training loss: 111.62 | Validation accuracy: 60.41% | Validation Demographic disparity: 0.0171\n",
      " \n",
      "Avg Training Stats after 125 threshold adjusting global rounds:\n",
      "Training loss: 112.24 | Validation accuracy: 59.94% | Validation Demographic disparity: 0.0110\n"
     ]
    },
    {
     "name": "stderr",
     "output_type": "stream",
     "text": [
      " 42%|████▏     | 127/300 [00:13<00:21,  8.12it/s]"
     ]
    },
    {
     "name": "stdout",
     "output_type": "stream",
     "text": [
      " \n",
      "Avg Training Stats after 126 threshold adjusting global rounds:\n",
      "Training loss: 112.86 | Validation accuracy: 59.94% | Validation Demographic disparity: 0.0110\n",
      " \n",
      "Avg Training Stats after 127 threshold adjusting global rounds:\n",
      "Training loss: 113.48 | Validation accuracy: 59.94% | Validation Demographic disparity: 0.0110\n"
     ]
    },
    {
     "name": "stderr",
     "output_type": "stream",
     "text": [
      "\r",
      " 43%|████▎     | 128/300 [00:13<00:21,  8.14it/s]"
     ]
    },
    {
     "name": "stdout",
     "output_type": "stream",
     "text": [
      " \n",
      "Avg Training Stats after 128 threshold adjusting global rounds:\n",
      "Training loss: 114.10 | Validation accuracy: 59.94% | Validation Demographic disparity: 0.0110\n",
      " \n",
      "Avg Training Stats after 129 threshold adjusting global rounds:\n",
      "Training loss: 114.72 | Validation accuracy: 59.47% | Validation Demographic disparity: 0.0049\n",
      " \n",
      " Results after 300 global rounds of training:\n",
      "|---- Test Accuracy: 71.00%\n",
      "|---- Test Demographic disparity: 0.0199\n",
      "\n",
      " Total Run Time: 14.0785 sec\n"
     ]
    }
   ],
   "source": [
    "# server = Server(logReg(num_features=3, num_classes=2, seed = seed), synthetic_info, train_prn = False, seed = seed)\n",
    "# server.Unconstrained(num_epochs = 300, optimizer = 'adam', learning_rate = 0.0004)\n",
    "server.ThresholdAdjust(num_epochs = 300, epsilon = 0.01, learning_rate = 0.005)"
   ]
  },
  {
   "cell_type": "code",
   "execution_count": 21,
   "metadata": {},
   "outputs": [
    {
     "name": "stderr",
     "output_type": "stream",
     "text": [
      "  2%|▏         | 5/300 [00:00<00:06, 49.07it/s]"
     ]
    },
    {
     "name": "stdout",
     "output_type": "stream",
     "text": [
      "\n",
      " | Global Training Round : 1 |\n",
      "\n",
      " \n",
      "Avg Training Stats after 1 global rounds:\n",
      "accuracy loss: 23.74 | fairness loss 8429.97 | Demographic disparity = 0.19\n",
      "Training loss: 237.36 | Validation accuracy: 57.33% | Validation Demographic disparity: 0.1905\n",
      "\n",
      " | Global Training Round : 2 |\n",
      "\n",
      " \n",
      "Avg Training Stats after 2 global rounds:\n",
      "accuracy loss: 23.87 | fairness loss 8092.38 | Demographic disparity = 0.19\n",
      "Training loss: 238.65 | Validation accuracy: 57.33% | Validation Demographic disparity: 0.1905\n",
      "\n",
      " | Global Training Round : 3 |\n",
      "\n",
      " \n",
      "Avg Training Stats after 3 global rounds:\n",
      "accuracy loss: 24.00 | fairness loss 7765.65 | Demographic disparity = 0.19\n",
      "Training loss: 239.98 | Validation accuracy: 57.33% | Validation Demographic disparity: 0.1905\n",
      "\n",
      " | Global Training Round : 4 |\n",
      "\n",
      " \n",
      "Avg Training Stats after 4 global rounds:\n",
      "accuracy loss: 24.13 | fairness loss 7449.99 | Demographic disparity = 0.19\n",
      "Training loss: 241.34 | Validation accuracy: 57.33% | Validation Demographic disparity: 0.1905\n",
      "\n",
      " | Global Training Round : 5 |\n",
      "\n",
      " \n",
      "Avg Training Stats after 5 global rounds:\n",
      "accuracy loss: 24.27 | fairness loss 7145.57 | Demographic disparity = 0.18\n",
      "Training loss: 242.72 | Validation accuracy: 56.67% | Validation Demographic disparity: 0.1811\n",
      "\n",
      " | Global Training Round : 6 |\n",
      "\n",
      " \n",
      "Avg Training Stats after 6 global rounds:\n",
      "accuracy loss: 24.41 | fairness loss 6852.54 | Demographic disparity = 0.16\n",
      "Training loss: 244.11 | Validation accuracy: 55.67% | Validation Demographic disparity: 0.1628\n",
      "\n",
      " | Global Training Round : 7 |\n",
      "\n",
      " \n",
      "Avg Training Stats after 7 global rounds:\n",
      "accuracy loss: 24.55 | fairness loss 6571.01 | Demographic disparity = 0.15\n",
      "Training loss: 245.50 | Validation accuracy: 55.00% | Validation Demographic disparity: 0.1533\n",
      "\n",
      " | Global Training Round : 8 |\n",
      "\n",
      " \n",
      "Avg Training Stats after 8 global rounds:\n",
      "accuracy loss: 24.69 | fairness loss 6301.04 | Demographic disparity = 0.15\n",
      "Training loss: 246.89 | Validation accuracy: 55.00% | Validation Demographic disparity: 0.1533\n",
      "\n",
      " | Global Training Round : 9 |\n",
      "\n",
      " \n",
      "Avg Training Stats after 9 global rounds:\n",
      "accuracy loss: 24.82 | fairness loss 6042.62 | Demographic disparity = 0.15\n",
      "Training loss: 248.24 | Validation accuracy: 54.67% | Validation Demographic disparity: 0.1472\n",
      "\n",
      " | Global Training Round : 10 |\n",
      "\n",
      " \n",
      "Avg Training Stats after 10 global rounds:\n",
      "accuracy loss: 24.96 | fairness loss 5795.73 | Demographic disparity = 0.14\n",
      "Training loss: 249.56 | Validation accuracy: 55.00% | Validation Demographic disparity: 0.1411\n",
      "\n",
      " | Global Training Round : 11 |\n",
      "\n",
      " \n",
      "Avg Training Stats after 11 global rounds:\n",
      "accuracy loss: 25.08 | fairness loss 5560.24 | Demographic disparity = 0.14\n",
      "Training loss: 250.82 | Validation accuracy: 54.67% | Validation Demographic disparity: 0.1350\n",
      "\n",
      " | Global Training Round : 12 |\n",
      "\n"
     ]
    },
    {
     "name": "stderr",
     "output_type": "stream",
     "text": [
      "  6%|▌         | 17/300 [00:00<00:05, 50.94it/s]"
     ]
    },
    {
     "name": "stdout",
     "output_type": "stream",
     "text": [
      " \n",
      "Avg Training Stats after 12 global rounds:\n",
      "accuracy loss: 25.20 | fairness loss 5335.99 | Demographic disparity = 0.13\n",
      "Training loss: 252.02 | Validation accuracy: 54.00% | Validation Demographic disparity: 0.1256\n",
      "\n",
      " | Global Training Round : 13 |\n",
      "\n",
      " \n",
      "Avg Training Stats after 13 global rounds:\n",
      "accuracy loss: 25.31 | fairness loss 5122.76 | Demographic disparity = 0.11\n",
      "Training loss: 253.12 | Validation accuracy: 53.33% | Validation Demographic disparity: 0.1134\n",
      "\n",
      " | Global Training Round : 14 |\n",
      "\n",
      " \n",
      "Avg Training Stats after 14 global rounds:\n",
      "accuracy loss: 25.41 | fairness loss 4920.25 | Demographic disparity = 0.11\n",
      "Training loss: 254.12 | Validation accuracy: 53.00% | Validation Demographic disparity: 0.1073\n",
      "\n",
      " | Global Training Round : 15 |\n",
      "\n",
      " \n",
      "Avg Training Stats after 15 global rounds:\n",
      "accuracy loss: 25.50 | fairness loss 4728.11 | Demographic disparity = 0.11\n",
      "Training loss: 254.99 | Validation accuracy: 53.00% | Validation Demographic disparity: 0.1073\n",
      "\n",
      " | Global Training Round : 16 |\n",
      "\n",
      " \n",
      "Avg Training Stats after 16 global rounds:\n",
      "accuracy loss: 25.57 | fairness loss 4545.94 | Demographic disparity = 0.11\n",
      "Training loss: 255.73 | Validation accuracy: 52.67% | Validation Demographic disparity: 0.1106\n",
      "\n",
      " | Global Training Round : 17 |\n",
      "\n",
      " \n",
      "Avg Training Stats after 17 global rounds:\n",
      "accuracy loss: 25.63 | fairness loss 4373.30 | Demographic disparity = 0.11\n",
      "Training loss: 256.31 | Validation accuracy: 52.67% | Validation Demographic disparity: 0.1106\n",
      "\n",
      " | Global Training Round : 18 |\n",
      "\n",
      " \n",
      "Avg Training Stats after 18 global rounds:\n",
      "accuracy loss: 25.67 | fairness loss 4209.68 | Demographic disparity = 0.11\n",
      "Training loss: 256.74 | Validation accuracy: 52.67% | Validation Demographic disparity: 0.1106\n",
      "\n",
      " | Global Training Round : 19 |\n",
      "\n",
      " \n",
      "Avg Training Stats after 19 global rounds:\n",
      "accuracy loss: 25.70 | fairness loss 4054.59 | Demographic disparity = 0.11\n",
      "Training loss: 256.99 | Validation accuracy: 52.67% | Validation Demographic disparity: 0.1106\n",
      "\n",
      " | Global Training Round : 20 |\n",
      "\n",
      " \n",
      "Avg Training Stats after 20 global rounds:\n",
      "accuracy loss: 25.71 | fairness loss 3907.49 | Demographic disparity = 0.11\n",
      "Training loss: 257.06 | Validation accuracy: 52.67% | Validation Demographic disparity: 0.1106\n",
      "\n",
      " | Global Training Round : 21 |\n",
      "\n",
      " \n",
      "Avg Training Stats after 21 global rounds:\n",
      "accuracy loss: 25.70 | fairness loss 3767.84 | Demographic disparity = 0.10\n",
      "Training loss: 256.95 | Validation accuracy: 52.00% | Validation Demographic disparity: 0.0984\n",
      "\n",
      " | Global Training Round : 22 |\n",
      "\n",
      " \n",
      "Avg Training Stats after 22 global rounds:\n",
      "accuracy loss: 25.67 | fairness loss 3635.12 | Demographic disparity = 0.10\n",
      "Training loss: 256.67 | Validation accuracy: 52.00% | Validation Demographic disparity: 0.0957\n",
      "\n",
      " | Global Training Round : 23 |\n",
      "\n",
      " \n",
      "Avg Training Stats after 23 global rounds:\n",
      "accuracy loss: 25.62 | fairness loss 3508.81 | Demographic disparity = 0.10\n",
      "Training loss: 256.23 | Validation accuracy: 52.00% | Validation Demographic disparity: 0.0957\n",
      "\n",
      " | Global Training Round : 24 |\n",
      "\n"
     ]
    },
    {
     "name": "stderr",
     "output_type": "stream",
     "text": [
      " 10%|█         | 30/300 [00:00<00:04, 55.12it/s]"
     ]
    },
    {
     "name": "stdout",
     "output_type": "stream",
     "text": [
      " \n",
      "Avg Training Stats after 24 global rounds:\n",
      "accuracy loss: 25.56 | fairness loss 3388.41 | Demographic disparity = 0.10\n",
      "Training loss: 255.62 | Validation accuracy: 52.00% | Validation Demographic disparity: 0.0957\n",
      "\n",
      " | Global Training Round : 25 |\n",
      "\n",
      " \n",
      "Avg Training Stats after 25 global rounds:\n",
      "accuracy loss: 25.49 | fairness loss 3273.46 | Demographic disparity = 0.09\n",
      "Training loss: 254.86 | Validation accuracy: 51.67% | Validation Demographic disparity: 0.0896\n",
      "\n",
      " | Global Training Round : 26 |\n",
      "\n",
      " \n",
      "Avg Training Stats after 26 global rounds:\n",
      "accuracy loss: 25.40 | fairness loss 3163.52 | Demographic disparity = 0.09\n",
      "Training loss: 253.96 | Validation accuracy: 52.00% | Validation Demographic disparity: 0.0929\n",
      "\n",
      " | Global Training Round : 27 |\n",
      "\n",
      " \n",
      "Avg Training Stats after 27 global rounds:\n",
      "accuracy loss: 25.29 | fairness loss 3058.17 | Demographic disparity = 0.09\n",
      "Training loss: 252.94 | Validation accuracy: 51.67% | Validation Demographic disparity: 0.0868\n",
      "\n",
      " | Global Training Round : 28 |\n",
      "\n",
      " \n",
      "Avg Training Stats after 28 global rounds:\n",
      "accuracy loss: 25.18 | fairness loss 2957.06 | Demographic disparity = 0.09\n",
      "Training loss: 251.81 | Validation accuracy: 51.67% | Validation Demographic disparity: 0.0868\n",
      "\n",
      " | Global Training Round : 29 |\n",
      "\n",
      " \n",
      "Avg Training Stats after 29 global rounds:\n",
      "accuracy loss: 25.06 | fairness loss 2859.83 | Demographic disparity = 0.09\n",
      "Training loss: 250.59 | Validation accuracy: 51.67% | Validation Demographic disparity: 0.0868\n",
      "\n",
      " | Global Training Round : 30 |\n",
      "\n",
      " \n",
      "Avg Training Stats after 30 global rounds:\n",
      "accuracy loss: 24.93 | fairness loss 2766.21 | Demographic disparity = 0.08\n",
      "Training loss: 249.29 | Validation accuracy: 51.33% | Validation Demographic disparity: 0.0807\n",
      "\n",
      " | Global Training Round : 31 |\n",
      "\n",
      " \n",
      "Avg Training Stats after 31 global rounds:\n",
      "accuracy loss: 24.79 | fairness loss 2675.92 | Demographic disparity = 0.08\n",
      "Training loss: 247.93 | Validation accuracy: 51.33% | Validation Demographic disparity: 0.0807\n",
      "\n",
      " | Global Training Round : 32 |\n",
      "\n",
      " \n",
      "Avg Training Stats after 32 global rounds:\n",
      "accuracy loss: 24.65 | fairness loss 2588.74 | Demographic disparity = 0.08\n",
      "Training loss: 246.51 | Validation accuracy: 51.33% | Validation Demographic disparity: 0.0807\n",
      "\n",
      " | Global Training Round : 33 |\n",
      "\n",
      " \n",
      "Avg Training Stats after 33 global rounds:\n",
      "accuracy loss: 24.51 | fairness loss 2504.49 | Demographic disparity = 0.08\n",
      "Training loss: 245.05 | Validation accuracy: 51.33% | Validation Demographic disparity: 0.0807\n",
      "\n",
      " | Global Training Round : 34 |\n",
      "\n",
      " \n",
      "Avg Training Stats after 34 global rounds:\n",
      "accuracy loss: 24.36 | fairness loss 2423.01 | Demographic disparity = 0.08\n",
      "Training loss: 243.56 | Validation accuracy: 51.33% | Validation Demographic disparity: 0.0779\n",
      "\n",
      " | Global Training Round : 35 |\n",
      "\n",
      " \n",
      "Avg Training Stats after 35 global rounds:\n",
      "accuracy loss: 24.21 | fairness loss 2344.18 | Demographic disparity = 0.08\n",
      "Training loss: 242.06 | Validation accuracy: 51.33% | Validation Demographic disparity: 0.0779\n",
      "\n",
      " | Global Training Round : 36 |\n",
      "\n"
     ]
    },
    {
     "name": "stderr",
     "output_type": "stream",
     "text": [
      " 14%|█▍        | 42/300 [00:00<00:04, 55.39it/s]"
     ]
    },
    {
     "name": "stdout",
     "output_type": "stream",
     "text": [
      " \n",
      "Avg Training Stats after 36 global rounds:\n",
      "accuracy loss: 24.05 | fairness loss 2267.91 | Demographic disparity = 0.08\n",
      "Training loss: 240.53 | Validation accuracy: 51.33% | Validation Demographic disparity: 0.0752\n",
      "\n",
      " | Global Training Round : 37 |\n",
      "\n",
      " \n",
      "Avg Training Stats after 37 global rounds:\n",
      "accuracy loss: 23.90 | fairness loss 2194.12 | Demographic disparity = 0.06\n",
      "Training loss: 239.00 | Validation accuracy: 50.67% | Validation Demographic disparity: 0.0630\n",
      "\n",
      " | Global Training Round : 38 |\n",
      "\n",
      " \n",
      "Avg Training Stats after 38 global rounds:\n",
      "accuracy loss: 23.75 | fairness loss 2122.76 | Demographic disparity = 0.06\n",
      "Training loss: 237.47 | Validation accuracy: 50.67% | Validation Demographic disparity: 0.0630\n",
      "\n",
      " | Global Training Round : 39 |\n",
      "\n",
      " \n",
      "Avg Training Stats after 39 global rounds:\n",
      "accuracy loss: 23.59 | fairness loss 2053.78 | Demographic disparity = 0.06\n",
      "Training loss: 235.93 | Validation accuracy: 50.67% | Validation Demographic disparity: 0.0630\n",
      "\n",
      " | Global Training Round : 40 |\n",
      "\n",
      " \n",
      "Avg Training Stats after 40 global rounds:\n",
      "accuracy loss: 23.44 | fairness loss 1987.14 | Demographic disparity = 0.06\n",
      "Training loss: 234.41 | Validation accuracy: 50.67% | Validation Demographic disparity: 0.0630\n",
      "\n",
      " | Global Training Round : 41 |\n",
      "\n",
      " \n",
      "Avg Training Stats after 41 global rounds:\n",
      "accuracy loss: 23.29 | fairness loss 1922.82 | Demographic disparity = 0.07\n",
      "Training loss: 232.89 | Validation accuracy: 51.33% | Validation Demographic disparity: 0.0696\n",
      "\n",
      " | Global Training Round : 42 |\n",
      "\n",
      " \n",
      "Avg Training Stats after 42 global rounds:\n",
      "accuracy loss: 23.14 | fairness loss 1860.76 | Demographic disparity = 0.07\n",
      "Training loss: 231.38 | Validation accuracy: 51.33% | Validation Demographic disparity: 0.0696\n",
      "\n",
      " | Global Training Round : 43 |\n",
      "\n",
      " \n",
      "Avg Training Stats after 43 global rounds:\n",
      "accuracy loss: 22.99 | fairness loss 1800.94 | Demographic disparity = 0.07\n",
      "Training loss: 229.88 | Validation accuracy: 51.33% | Validation Demographic disparity: 0.0696\n",
      "\n",
      " | Global Training Round : 44 |\n",
      "\n",
      " \n",
      "Avg Training Stats after 44 global rounds:\n",
      "accuracy loss: 22.84 | fairness loss 1743.31 | Demographic disparity = 0.07\n",
      "Training loss: 228.40 | Validation accuracy: 51.33% | Validation Demographic disparity: 0.0696\n",
      "\n",
      " | Global Training Round : 45 |\n",
      "\n",
      " \n",
      "Avg Training Stats after 45 global rounds:\n",
      "accuracy loss: 22.69 | fairness loss 1687.81 | Demographic disparity = 0.07\n",
      "Training loss: 226.93 | Validation accuracy: 51.67% | Validation Demographic disparity: 0.0730\n",
      "\n",
      " | Global Training Round : 46 |\n",
      "\n",
      " \n",
      "Avg Training Stats after 46 global rounds:\n",
      "accuracy loss: 22.55 | fairness loss 1634.38 | Demographic disparity = 0.07\n",
      "Training loss: 225.48 | Validation accuracy: 51.33% | Validation Demographic disparity: 0.0669\n",
      "\n",
      " | Global Training Round : 47 |\n",
      "\n",
      " \n",
      "Avg Training Stats after 47 global rounds:\n",
      "accuracy loss: 22.40 | fairness loss 1582.95 | Demographic disparity = 0.07\n",
      "Training loss: 224.05 | Validation accuracy: 51.67% | Validation Demographic disparity: 0.0702\n",
      "\n",
      " | Global Training Round : 48 |\n",
      "\n"
     ]
    },
    {
     "name": "stderr",
     "output_type": "stream",
     "text": [
      " 18%|█▊        | 54/300 [00:00<00:04, 56.31it/s]"
     ]
    },
    {
     "name": "stdout",
     "output_type": "stream",
     "text": [
      " \n",
      "Avg Training Stats after 48 global rounds:\n",
      "accuracy loss: 22.26 | fairness loss 1533.46 | Demographic disparity = 0.08\n",
      "Training loss: 222.64 | Validation accuracy: 52.67% | Validation Demographic disparity: 0.0802\n",
      "\n",
      " | Global Training Round : 49 |\n",
      "\n",
      " \n",
      "Avg Training Stats after 49 global rounds:\n",
      "accuracy loss: 22.13 | fairness loss 1485.80 | Demographic disparity = 0.09\n",
      "Training loss: 221.26 | Validation accuracy: 53.33% | Validation Demographic disparity: 0.0869\n",
      "\n",
      " | Global Training Round : 50 |\n",
      "\n",
      " \n",
      "Avg Training Stats after 50 global rounds:\n",
      "accuracy loss: 21.99 | fairness loss 1439.91 | Demographic disparity = 0.09\n",
      "Training loss: 219.90 | Validation accuracy: 53.67% | Validation Demographic disparity: 0.0902\n",
      "\n",
      " | Global Training Round : 51 |\n",
      "\n",
      " \n",
      "Avg Training Stats after 51 global rounds:\n",
      "accuracy loss: 21.86 | fairness loss 1395.69 | Demographic disparity = 0.10\n",
      "Training loss: 218.58 | Validation accuracy: 54.67% | Validation Demographic disparity: 0.1002\n",
      "\n",
      " | Global Training Round : 52 |\n",
      "\n",
      " \n",
      "Avg Training Stats after 52 global rounds:\n",
      "accuracy loss: 21.73 | fairness loss 1353.04 | Demographic disparity = 0.10\n",
      "Training loss: 217.29 | Validation accuracy: 54.67% | Validation Demographic disparity: 0.1002\n",
      "\n",
      " | Global Training Round : 53 |\n",
      "\n",
      " \n",
      "Avg Training Stats after 53 global rounds:\n",
      "accuracy loss: 21.60 | fairness loss 1311.87 | Demographic disparity = 0.10\n",
      "Training loss: 216.03 | Validation accuracy: 55.00% | Validation Demographic disparity: 0.1035\n",
      "\n",
      " | Global Training Round : 54 |\n",
      "\n",
      " \n",
      "Avg Training Stats after 54 global rounds:\n",
      "accuracy loss: 21.48 | fairness loss 1272.09 | Demographic disparity = 0.11\n",
      "Training loss: 214.82 | Validation accuracy: 55.33% | Validation Demographic disparity: 0.1069\n",
      "\n",
      " | Global Training Round : 55 |\n",
      "\n",
      " \n",
      "Avg Training Stats after 55 global rounds:\n",
      "accuracy loss: 21.37 | fairness loss 1233.60 | Demographic disparity = 0.12\n",
      "Training loss: 213.65 | Validation accuracy: 56.33% | Validation Demographic disparity: 0.1169\n",
      "\n",
      " | Global Training Round : 56 |\n",
      "\n",
      " \n",
      "Avg Training Stats after 56 global rounds:\n",
      "accuracy loss: 21.25 | fairness loss 1196.31 | Demographic disparity = 0.13\n",
      "Training loss: 212.53 | Validation accuracy: 57.33% | Validation Demographic disparity: 0.1269\n",
      "\n",
      " | Global Training Round : 57 |\n",
      "\n",
      " \n",
      "Avg Training Stats after 57 global rounds:\n",
      "accuracy loss: 21.15 | fairness loss 1160.13 | Demographic disparity = 0.13\n",
      "Training loss: 211.46 | Validation accuracy: 57.67% | Validation Demographic disparity: 0.1302\n",
      "\n",
      " | Global Training Round : 58 |\n",
      "\n",
      " \n",
      "Avg Training Stats after 58 global rounds:\n",
      "accuracy loss: 21.04 | fairness loss 1124.98 | Demographic disparity = 0.14\n",
      "Training loss: 210.44 | Validation accuracy: 58.33% | Validation Demographic disparity: 0.1369\n",
      "\n",
      " | Global Training Round : 59 |\n",
      "\n",
      " \n",
      "Avg Training Stats after 59 global rounds:\n",
      "accuracy loss: 20.95 | fairness loss 1090.79 | Demographic disparity = 0.14\n",
      "Training loss: 209.47 | Validation accuracy: 58.67% | Validation Demographic disparity: 0.1402\n",
      "\n",
      " | Global Training Round : 60 |\n",
      "\n",
      " \n",
      "Avg Training Stats after 60 global rounds:\n",
      "accuracy loss: 20.86 | fairness loss 1057.49 | Demographic disparity = 0.14\n",
      "Training loss: 208.55 | Validation accuracy: 59.00% | Validation Demographic disparity: 0.1435\n",
      "\n",
      " | Global Training Round : 61 |\n",
      "\n"
     ]
    },
    {
     "name": "stderr",
     "output_type": "stream",
     "text": [
      " 22%|██▏       | 67/300 [00:01<00:04, 57.89it/s]"
     ]
    },
    {
     "name": "stdout",
     "output_type": "stream",
     "text": [
      " \n",
      "Avg Training Stats after 61 global rounds:\n",
      "accuracy loss: 20.77 | fairness loss 1025.03 | Demographic disparity = 0.14\n",
      "Training loss: 207.69 | Validation accuracy: 59.00% | Validation Demographic disparity: 0.1435\n",
      "\n",
      " | Global Training Round : 62 |\n",
      "\n",
      " \n",
      "Avg Training Stats after 62 global rounds:\n",
      "accuracy loss: 20.69 | fairness loss 993.37 | Demographic disparity = 0.15\n",
      "Training loss: 206.88 | Validation accuracy: 59.67% | Validation Demographic disparity: 0.1502\n",
      "\n",
      " | Global Training Round : 63 |\n",
      "\n",
      " \n",
      "Avg Training Stats after 63 global rounds:\n",
      "accuracy loss: 20.61 | fairness loss 962.46 | Demographic disparity = 0.15\n",
      "Training loss: 206.12 | Validation accuracy: 59.67% | Validation Demographic disparity: 0.1502\n",
      "\n",
      " | Global Training Round : 64 |\n",
      "\n",
      " \n",
      "Avg Training Stats after 64 global rounds:\n",
      "accuracy loss: 20.54 | fairness loss 932.28 | Demographic disparity = 0.15\n",
      "Training loss: 205.41 | Validation accuracy: 59.67% | Validation Demographic disparity: 0.1502\n",
      "\n",
      " | Global Training Round : 65 |\n",
      "\n",
      " \n",
      "Avg Training Stats after 65 global rounds:\n",
      "accuracy loss: 20.47 | fairness loss 902.82 | Demographic disparity = 0.15\n",
      "Training loss: 204.75 | Validation accuracy: 59.67% | Validation Demographic disparity: 0.1474\n",
      "\n",
      " | Global Training Round : 66 |\n",
      "\n",
      " \n",
      "Avg Training Stats after 66 global rounds:\n",
      "accuracy loss: 20.41 | fairness loss 874.07 | Demographic disparity = 0.16\n",
      "Training loss: 204.12 | Validation accuracy: 60.67% | Validation Demographic disparity: 0.1574\n",
      "\n",
      " | Global Training Round : 67 |\n",
      "\n",
      " \n",
      "Avg Training Stats after 67 global rounds:\n",
      "accuracy loss: 20.35 | fairness loss 846.03 | Demographic disparity = 0.16\n",
      "Training loss: 203.54 | Validation accuracy: 61.00% | Validation Demographic disparity: 0.1608\n",
      "\n",
      " | Global Training Round : 68 |\n",
      "\n",
      " \n",
      "Avg Training Stats after 68 global rounds:\n",
      "accuracy loss: 20.30 | fairness loss 818.70 | Demographic disparity = 0.17\n",
      "Training loss: 202.99 | Validation accuracy: 61.67% | Validation Demographic disparity: 0.1674\n",
      "\n",
      " | Global Training Round : 69 |\n",
      "\n",
      " \n",
      "Avg Training Stats after 69 global rounds:\n",
      "accuracy loss: 20.25 | fairness loss 792.09 | Demographic disparity = 0.17\n",
      "Training loss: 202.48 | Validation accuracy: 61.67% | Validation Demographic disparity: 0.1674\n",
      "\n",
      " | Global Training Round : 70 |\n",
      "\n",
      " \n",
      "Avg Training Stats after 70 global rounds:\n",
      "accuracy loss: 20.20 | fairness loss 766.21 | Demographic disparity = 0.17\n",
      "Training loss: 201.99 | Validation accuracy: 62.00% | Validation Demographic disparity: 0.1708\n",
      "\n",
      " | Global Training Round : 71 |\n",
      "\n",
      " \n",
      "Avg Training Stats after 71 global rounds:\n",
      "accuracy loss: 20.15 | fairness loss 741.07 | Demographic disparity = 0.17\n",
      "Training loss: 201.53 | Validation accuracy: 62.00% | Validation Demographic disparity: 0.1708\n",
      "\n",
      " | Global Training Round : 72 |\n",
      "\n"
     ]
    },
    {
     "name": "stderr",
     "output_type": "stream",
     "text": [
      " 26%|██▋       | 79/300 [00:01<00:03, 55.75it/s]"
     ]
    },
    {
     "name": "stdout",
     "output_type": "stream",
     "text": [
      " \n",
      "Avg Training Stats after 72 global rounds:\n",
      "accuracy loss: 20.11 | fairness loss 716.68 | Demographic disparity = 0.18\n",
      "Training loss: 201.08 | Validation accuracy: 62.67% | Validation Demographic disparity: 0.1774\n",
      "\n",
      " | Global Training Round : 73 |\n",
      "\n",
      " \n",
      "Avg Training Stats after 73 global rounds:\n",
      "accuracy loss: 20.07 | fairness loss 693.05 | Demographic disparity = 0.17\n",
      "Training loss: 200.66 | Validation accuracy: 62.00% | Validation Demographic disparity: 0.1652\n",
      "\n",
      " | Global Training Round : 74 |\n",
      "\n",
      " \n",
      "Avg Training Stats after 74 global rounds:\n",
      "accuracy loss: 20.02 | fairness loss 670.17 | Demographic disparity = 0.17\n",
      "Training loss: 200.24 | Validation accuracy: 62.00% | Validation Demographic disparity: 0.1652\n",
      "\n",
      " | Global Training Round : 75 |\n",
      "\n",
      " \n",
      "Avg Training Stats after 75 global rounds:\n",
      "accuracy loss: 19.98 | fairness loss 648.05 | Demographic disparity = 0.16\n",
      "Training loss: 199.84 | Validation accuracy: 61.67% | Validation Demographic disparity: 0.1591\n",
      "\n",
      " | Global Training Round : 76 |\n",
      "\n",
      " \n",
      "Avg Training Stats after 76 global rounds:\n",
      "accuracy loss: 19.94 | fairness loss 626.69 | Demographic disparity = 0.16\n",
      "Training loss: 199.44 | Validation accuracy: 61.67% | Validation Demographic disparity: 0.1591\n",
      "\n",
      " | Global Training Round : 77 |\n",
      "\n",
      " \n",
      "Avg Training Stats after 77 global rounds:\n",
      "accuracy loss: 19.91 | fairness loss 606.08 | Demographic disparity = 0.15\n",
      "Training loss: 199.05 | Validation accuracy: 61.33% | Validation Demographic disparity: 0.1503\n",
      "\n",
      " | Global Training Round : 78 |\n",
      "\n",
      " \n",
      "Avg Training Stats after 78 global rounds:\n",
      "accuracy loss: 19.87 | fairness loss 586.20 | Demographic disparity = 0.15\n",
      "Training loss: 198.67 | Validation accuracy: 61.33% | Validation Demographic disparity: 0.1475\n",
      "\n",
      " | Global Training Round : 79 |\n",
      "\n",
      " \n",
      "Avg Training Stats after 79 global rounds:\n",
      "accuracy loss: 19.83 | fairness loss 567.03 | Demographic disparity = 0.15\n",
      "Training loss: 198.29 | Validation accuracy: 61.33% | Validation Demographic disparity: 0.1475\n",
      "\n",
      " | Global Training Round : 80 |\n",
      "\n",
      " \n",
      "Avg Training Stats after 80 global rounds:\n",
      "accuracy loss: 19.79 | fairness loss 548.57 | Demographic disparity = 0.14\n",
      "Training loss: 197.91 | Validation accuracy: 61.00% | Validation Demographic disparity: 0.1358\n",
      "\n",
      " | Global Training Round : 81 |\n",
      "\n",
      " \n",
      "Avg Training Stats after 81 global rounds:\n",
      "accuracy loss: 19.75 | fairness loss 530.78 | Demographic disparity = 0.14\n",
      "Training loss: 197.54 | Validation accuracy: 61.00% | Validation Demographic disparity: 0.1358\n",
      "\n",
      " | Global Training Round : 82 |\n",
      "\n",
      " \n",
      "Avg Training Stats after 82 global rounds:\n",
      "accuracy loss: 19.72 | fairness loss 513.65 | Demographic disparity = 0.14\n",
      "Training loss: 197.17 | Validation accuracy: 61.33% | Validation Demographic disparity: 0.1392\n",
      "\n",
      " | Global Training Round : 83 |\n",
      "\n",
      " \n",
      "Avg Training Stats after 83 global rounds:\n",
      "accuracy loss: 19.68 | fairness loss 497.14 | Demographic disparity = 0.14\n",
      "Training loss: 196.80 | Validation accuracy: 61.33% | Validation Demographic disparity: 0.1392\n",
      "\n",
      " | Global Training Round : 84 |\n",
      "\n"
     ]
    },
    {
     "name": "stderr",
     "output_type": "stream",
     "text": [
      " 31%|███       | 92/300 [00:01<00:03, 58.14it/s]"
     ]
    },
    {
     "name": "stdout",
     "output_type": "stream",
     "text": [
      " \n",
      "Avg Training Stats after 84 global rounds:\n",
      "accuracy loss: 19.64 | fairness loss 481.24 | Demographic disparity = 0.13\n",
      "Training loss: 196.44 | Validation accuracy: 60.67% | Validation Demographic disparity: 0.1270\n",
      "\n",
      " | Global Training Round : 85 |\n",
      "\n",
      " \n",
      "Avg Training Stats after 85 global rounds:\n",
      "accuracy loss: 19.61 | fairness loss 465.91 | Demographic disparity = 0.12\n",
      "Training loss: 196.09 | Validation accuracy: 60.33% | Validation Demographic disparity: 0.1209\n",
      "\n",
      " | Global Training Round : 86 |\n",
      "\n",
      " \n",
      "Avg Training Stats after 86 global rounds:\n",
      "accuracy loss: 19.57 | fairness loss 451.13 | Demographic disparity = 0.11\n",
      "Training loss: 195.73 | Validation accuracy: 59.67% | Validation Demographic disparity: 0.1087\n",
      "\n",
      " | Global Training Round : 87 |\n",
      "\n",
      " \n",
      "Avg Training Stats after 87 global rounds:\n",
      "accuracy loss: 19.54 | fairness loss 436.89 | Demographic disparity = 0.11\n",
      "Training loss: 195.39 | Validation accuracy: 59.67% | Validation Demographic disparity: 0.1087\n",
      "\n",
      " | Global Training Round : 88 |\n",
      "\n",
      " \n",
      "Avg Training Stats after 88 global rounds:\n",
      "accuracy loss: 19.50 | fairness loss 423.15 | Demographic disparity = 0.10\n",
      "Training loss: 195.05 | Validation accuracy: 59.33% | Validation Demographic disparity: 0.1026\n",
      "\n",
      " | Global Training Round : 89 |\n",
      "\n",
      " \n",
      "Avg Training Stats after 89 global rounds:\n",
      "accuracy loss: 19.47 | fairness loss 409.89 | Demographic disparity = 0.10\n",
      "Training loss: 194.71 | Validation accuracy: 60.00% | Validation Demographic disparity: 0.0998\n",
      "\n",
      " | Global Training Round : 90 |\n",
      "\n",
      " \n",
      "Avg Training Stats after 90 global rounds:\n",
      "accuracy loss: 19.44 | fairness loss 397.11 | Demographic disparity = 0.10\n",
      "Training loss: 194.38 | Validation accuracy: 60.67% | Validation Demographic disparity: 0.0970\n",
      "\n",
      " | Global Training Round : 91 |\n",
      "\n",
      " \n",
      "Avg Training Stats after 91 global rounds:\n",
      "accuracy loss: 19.41 | fairness loss 384.78 | Demographic disparity = 0.10\n",
      "Training loss: 194.05 | Validation accuracy: 60.67% | Validation Demographic disparity: 0.0970\n",
      "\n",
      " | Global Training Round : 92 |\n",
      "\n",
      " \n",
      "Avg Training Stats after 92 global rounds:\n",
      "accuracy loss: 19.37 | fairness loss 372.89 | Demographic disparity = 0.10\n",
      "Training loss: 193.73 | Validation accuracy: 61.00% | Validation Demographic disparity: 0.1004\n",
      "\n",
      " | Global Training Round : 93 |\n",
      "\n",
      " \n",
      "Avg Training Stats after 93 global rounds:\n",
      "accuracy loss: 19.34 | fairness loss 361.42 | Demographic disparity = 0.09\n",
      "Training loss: 193.41 | Validation accuracy: 61.33% | Validation Demographic disparity: 0.0943\n",
      "\n",
      " | Global Training Round : 94 |\n",
      "\n",
      " \n",
      "Avg Training Stats after 94 global rounds:\n",
      "accuracy loss: 19.31 | fairness loss 350.37 | Demographic disparity = 0.08\n",
      "Training loss: 193.10 | Validation accuracy: 62.00% | Validation Demographic disparity: 0.0793\n",
      "\n",
      " | Global Training Round : 95 |\n",
      "\n",
      " \n",
      "Avg Training Stats after 95 global rounds:\n",
      "accuracy loss: 19.28 | fairness loss 339.73 | Demographic disparity = 0.07\n",
      "Training loss: 192.79 | Validation accuracy: 61.67% | Validation Demographic disparity: 0.0732\n",
      "\n",
      " | Global Training Round : 96 |\n",
      "\n",
      " \n",
      "Avg Training Stats after 96 global rounds:\n",
      "accuracy loss: 19.25 | fairness loss 329.48 | Demographic disparity = 0.07\n",
      "Training loss: 192.49 | Validation accuracy: 61.67% | Validation Demographic disparity: 0.0732\n",
      "\n",
      " | Global Training Round : 97 |\n",
      "\n"
     ]
    },
    {
     "name": "stderr",
     "output_type": "stream",
     "text": [
      " 35%|███▌      | 105/300 [00:01<00:03, 57.22it/s]"
     ]
    },
    {
     "name": "stdout",
     "output_type": "stream",
     "text": [
      " \n",
      "Avg Training Stats after 97 global rounds:\n",
      "accuracy loss: 19.22 | fairness loss 319.61 | Demographic disparity = 0.07\n",
      "Training loss: 192.19 | Validation accuracy: 61.67% | Validation Demographic disparity: 0.0732\n",
      "\n",
      " | Global Training Round : 98 |\n",
      "\n",
      " \n",
      "Avg Training Stats after 98 global rounds:\n",
      "accuracy loss: 19.19 | fairness loss 310.11 | Demographic disparity = 0.07\n",
      "Training loss: 191.89 | Validation accuracy: 61.67% | Validation Demographic disparity: 0.0732\n",
      "\n",
      " | Global Training Round : 99 |\n",
      "\n",
      " \n",
      "Avg Training Stats after 99 global rounds:\n",
      "accuracy loss: 19.16 | fairness loss 300.97 | Demographic disparity = 0.06\n",
      "Training loss: 191.59 | Validation accuracy: 61.00% | Validation Demographic disparity: 0.0610\n",
      "\n",
      " | Global Training Round : 100 |\n",
      "\n",
      " \n",
      "Avg Training Stats after 100 global rounds:\n",
      "accuracy loss: 19.13 | fairness loss 292.18 | Demographic disparity = 0.06\n",
      "Training loss: 191.30 | Validation accuracy: 61.00% | Validation Demographic disparity: 0.0610\n",
      "\n",
      " | Global Training Round : 101 |\n",
      "\n",
      " \n",
      "Avg Training Stats after 101 global rounds:\n",
      "accuracy loss: 19.10 | fairness loss 283.72 | Demographic disparity = 0.04\n",
      "Training loss: 191.02 | Validation accuracy: 62.00% | Validation Demographic disparity: 0.0427\n",
      "\n",
      " | Global Training Round : 102 |\n",
      "\n",
      " \n",
      "Avg Training Stats after 102 global rounds:\n",
      "accuracy loss: 19.07 | fairness loss 275.58 | Demographic disparity = 0.04\n",
      "Training loss: 190.73 | Validation accuracy: 61.67% | Validation Demographic disparity: 0.0366\n",
      "\n",
      " | Global Training Round : 103 |\n",
      "\n",
      " \n",
      "Avg Training Stats after 103 global rounds:\n",
      "accuracy loss: 19.05 | fairness loss 267.75 | Demographic disparity = 0.04\n",
      "Training loss: 190.45 | Validation accuracy: 61.67% | Validation Demographic disparity: 0.0366\n",
      "\n",
      " | Global Training Round : 104 |\n",
      "\n",
      " \n",
      "Avg Training Stats after 104 global rounds:\n",
      "accuracy loss: 19.02 | fairness loss 260.22 | Demographic disparity = 0.04\n",
      "Training loss: 190.18 | Validation accuracy: 61.67% | Validation Demographic disparity: 0.0366\n",
      "\n",
      " | Global Training Round : 105 |\n",
      "\n",
      " \n",
      "Avg Training Stats after 105 global rounds:\n",
      "accuracy loss: 18.99 | fairness loss 252.96 | Demographic disparity = 0.04\n",
      "Training loss: 189.91 | Validation accuracy: 61.67% | Validation Demographic disparity: 0.0366\n",
      "\n",
      " | Global Training Round : 106 |\n",
      "\n",
      " \n",
      "Avg Training Stats after 106 global rounds:\n",
      "accuracy loss: 18.96 | fairness loss 245.96 | Demographic disparity = 0.02\n",
      "Training loss: 189.65 | Validation accuracy: 61.67% | Validation Demographic disparity: 0.0244\n",
      "\n",
      " | Global Training Round : 107 |\n",
      "\n",
      " \n",
      "Avg Training Stats after 107 global rounds:\n",
      "accuracy loss: 18.94 | fairness loss 239.21 | Demographic disparity = 0.02\n",
      "Training loss: 189.39 | Validation accuracy: 62.00% | Validation Demographic disparity: 0.0183\n",
      "\n",
      " | Global Training Round : 108 |\n",
      "\n"
     ]
    },
    {
     "name": "stderr",
     "output_type": "stream",
     "text": [
      " 39%|███▉      | 117/300 [00:02<00:03, 54.92it/s]"
     ]
    },
    {
     "name": "stdout",
     "output_type": "stream",
     "text": [
      " \n",
      "Avg Training Stats after 108 global rounds:\n",
      "accuracy loss: 18.91 | fairness loss 232.70 | Demographic disparity = 0.02\n",
      "Training loss: 189.13 | Validation accuracy: 62.00% | Validation Demographic disparity: 0.0183\n",
      "\n",
      " | Global Training Round : 109 |\n",
      "\n",
      " \n",
      "Avg Training Stats after 109 global rounds:\n",
      "accuracy loss: 18.89 | fairness loss 226.41 | Demographic disparity = 0.02\n",
      "Training loss: 188.89 | Validation accuracy: 62.00% | Validation Demographic disparity: 0.0183\n",
      "\n",
      " | Global Training Round : 110 |\n",
      "\n",
      " \n",
      "Avg Training Stats after 110 global rounds:\n",
      "accuracy loss: 18.87 | fairness loss 220.33 | Demographic disparity = 0.01\n",
      "Training loss: 188.65 | Validation accuracy: 62.33% | Validation Demographic disparity: 0.0122\n",
      "\n",
      " | Global Training Round : 111 |\n",
      "\n",
      " \n",
      "Avg Training Stats after 111 global rounds:\n",
      "accuracy loss: 18.84 | fairness loss 214.46 | Demographic disparity = 0.00\n",
      "Training loss: 188.42 | Validation accuracy: 63.00% | Validation Demographic disparity: 0.0000\n",
      "\n",
      " | Global Training Round : 112 |\n",
      "\n",
      " \n",
      "Avg Training Stats after 112 global rounds:\n",
      "accuracy loss: 18.82 | fairness loss 208.77 | Demographic disparity = 0.00\n",
      "Training loss: 188.19 | Validation accuracy: 63.00% | Validation Demographic disparity: 0.0000\n",
      "\n",
      " | Global Training Round : 113 |\n",
      "\n",
      " \n",
      "Avg Training Stats after 113 global rounds:\n",
      "accuracy loss: 18.80 | fairness loss 203.27 | Demographic disparity = 0.00\n",
      "Training loss: 187.98 | Validation accuracy: 63.00% | Validation Demographic disparity: 0.0000\n",
      "\n",
      " | Global Training Round : 114 |\n",
      "\n",
      " \n",
      "Avg Training Stats after 114 global rounds:\n",
      "accuracy loss: 18.78 | fairness loss 197.95 | Demographic disparity = 0.00\n",
      "Training loss: 187.77 | Validation accuracy: 63.00% | Validation Demographic disparity: 0.0000\n",
      "\n",
      " | Global Training Round : 115 |\n",
      "\n",
      " \n",
      "Avg Training Stats after 115 global rounds:\n",
      "accuracy loss: 18.76 | fairness loss 192.80 | Demographic disparity = 0.00\n",
      "Training loss: 187.56 | Validation accuracy: 63.00% | Validation Demographic disparity: 0.0000\n",
      "\n",
      " | Global Training Round : 116 |\n",
      "\n",
      " \n",
      "Avg Training Stats after 116 global rounds:\n",
      "accuracy loss: 18.74 | fairness loss 187.82 | Demographic disparity = 0.00\n",
      "Training loss: 187.36 | Validation accuracy: 63.00% | Validation Demographic disparity: 0.0000\n",
      "\n",
      " | Global Training Round : 117 |\n",
      "\n",
      " \n",
      "Avg Training Stats after 117 global rounds:\n",
      "accuracy loss: 18.72 | fairness loss 183.00 | Demographic disparity = 0.00\n",
      "Training loss: 187.17 | Validation accuracy: 63.00% | Validation Demographic disparity: 0.0000\n",
      "\n",
      " | Global Training Round : 118 |\n",
      "\n",
      " \n",
      "Avg Training Stats after 118 global rounds:\n",
      "accuracy loss: 18.70 | fairness loss 178.35 | Demographic disparity = 0.00\n",
      "Training loss: 186.99 | Validation accuracy: 63.00% | Validation Demographic disparity: 0.0000\n",
      "\n",
      " | Global Training Round : 119 |\n",
      "\n",
      " \n",
      "Avg Training Stats after 119 global rounds:\n",
      "accuracy loss: 18.68 | fairness loss 173.86 | Demographic disparity = 0.00\n",
      "Training loss: 186.81 | Validation accuracy: 63.00% | Validation Demographic disparity: 0.0000\n",
      "\n",
      " | Global Training Round : 120 |\n",
      "\n"
     ]
    },
    {
     "name": "stderr",
     "output_type": "stream",
     "text": [
      " 43%|████▎     | 129/300 [00:02<00:03, 55.76it/s]"
     ]
    },
    {
     "name": "stdout",
     "output_type": "stream",
     "text": [
      " \n",
      "Avg Training Stats after 120 global rounds:\n",
      "accuracy loss: 18.66 | fairness loss 169.53 | Demographic disparity = 0.00\n",
      "Training loss: 186.63 | Validation accuracy: 63.00% | Validation Demographic disparity: 0.0000\n",
      "\n",
      " | Global Training Round : 121 |\n",
      "\n",
      " \n",
      "Avg Training Stats after 121 global rounds:\n",
      "accuracy loss: 18.65 | fairness loss 165.36 | Demographic disparity = 0.00\n",
      "Training loss: 186.46 | Validation accuracy: 63.00% | Validation Demographic disparity: 0.0000\n",
      "\n",
      " | Global Training Round : 122 |\n",
      "\n",
      " \n",
      "Avg Training Stats after 122 global rounds:\n",
      "accuracy loss: 18.63 | fairness loss 161.34 | Demographic disparity = 0.00\n",
      "Training loss: 186.29 | Validation accuracy: 63.00% | Validation Demographic disparity: 0.0000\n",
      "\n",
      " | Global Training Round : 123 |\n",
      "\n",
      " \n",
      "Avg Training Stats after 123 global rounds:\n",
      "accuracy loss: 18.61 | fairness loss 157.47 | Demographic disparity = 0.00\n",
      "Training loss: 186.13 | Validation accuracy: 63.00% | Validation Demographic disparity: 0.0000\n",
      "\n",
      " | Global Training Round : 124 |\n",
      "\n",
      " \n",
      "Avg Training Stats after 124 global rounds:\n",
      "accuracy loss: 18.60 | fairness loss 153.76 | Demographic disparity = 0.00\n",
      "Training loss: 185.97 | Validation accuracy: 63.00% | Validation Demographic disparity: 0.0000\n",
      "\n",
      " | Global Training Round : 125 |\n",
      "\n",
      " \n",
      "Avg Training Stats after 125 global rounds:\n",
      "accuracy loss: 18.58 | fairness loss 150.19 | Demographic disparity = 0.00\n",
      "Training loss: 185.82 | Validation accuracy: 63.00% | Validation Demographic disparity: 0.0000\n",
      "\n",
      " | Global Training Round : 126 |\n",
      "\n",
      " \n",
      "Avg Training Stats after 126 global rounds:\n",
      "accuracy loss: 18.57 | fairness loss 146.77 | Demographic disparity = 0.00\n",
      "Training loss: 185.66 | Validation accuracy: 63.00% | Validation Demographic disparity: 0.0000\n",
      "\n",
      " | Global Training Round : 127 |\n",
      "\n",
      " \n",
      "Avg Training Stats after 127 global rounds:\n",
      "accuracy loss: 18.55 | fairness loss 143.49 | Demographic disparity = 0.00\n",
      "Training loss: 185.51 | Validation accuracy: 63.00% | Validation Demographic disparity: 0.0000\n",
      "\n",
      " | Global Training Round : 128 |\n",
      "\n",
      " \n",
      "Avg Training Stats after 128 global rounds:\n",
      "accuracy loss: 18.54 | fairness loss 140.34 | Demographic disparity = 0.00\n",
      "Training loss: 185.36 | Validation accuracy: 63.00% | Validation Demographic disparity: 0.0000\n",
      "\n",
      " | Global Training Round : 129 |\n",
      "\n",
      " \n",
      "Avg Training Stats after 129 global rounds:\n",
      "accuracy loss: 18.52 | fairness loss 137.33 | Demographic disparity = 0.00\n",
      "Training loss: 185.22 | Validation accuracy: 63.00% | Validation Demographic disparity: 0.0000\n",
      "\n",
      " | Global Training Round : 130 |\n",
      "\n",
      " \n",
      "Avg Training Stats after 130 global rounds:\n",
      "accuracy loss: 18.51 | fairness loss 134.45 | Demographic disparity = 0.00\n",
      "Training loss: 185.08 | Validation accuracy: 63.00% | Validation Demographic disparity: 0.0000\n",
      "\n",
      " | Global Training Round : 131 |\n",
      "\n",
      " \n",
      "Avg Training Stats after 131 global rounds:\n",
      "accuracy loss: 18.49 | fairness loss 131.69 | Demographic disparity = 0.00\n",
      "Training loss: 184.94 | Validation accuracy: 63.00% | Validation Demographic disparity: 0.0000\n",
      "\n",
      " | Global Training Round : 132 |\n",
      "\n"
     ]
    },
    {
     "name": "stderr",
     "output_type": "stream",
     "text": [
      " 47%|████▋     | 142/300 [00:02<00:02, 56.01it/s]"
     ]
    },
    {
     "name": "stdout",
     "output_type": "stream",
     "text": [
      " \n",
      "Avg Training Stats after 132 global rounds:\n",
      "accuracy loss: 18.48 | fairness loss 129.04 | Demographic disparity = 0.00\n",
      "Training loss: 184.80 | Validation accuracy: 63.00% | Validation Demographic disparity: 0.0000\n",
      "\n",
      " | Global Training Round : 133 |\n",
      "\n",
      " \n",
      "Avg Training Stats after 133 global rounds:\n",
      "accuracy loss: 18.47 | fairness loss 126.52 | Demographic disparity = 0.00\n",
      "Training loss: 184.67 | Validation accuracy: 63.00% | Validation Demographic disparity: 0.0000\n",
      "\n",
      " | Global Training Round : 134 |\n",
      "\n",
      " \n",
      "Avg Training Stats after 134 global rounds:\n",
      "accuracy loss: 18.45 | fairness loss 124.10 | Demographic disparity = 0.00\n",
      "Training loss: 184.54 | Validation accuracy: 63.00% | Validation Demographic disparity: 0.0000\n",
      "\n",
      " | Global Training Round : 135 |\n",
      "\n",
      " \n",
      "Avg Training Stats after 135 global rounds:\n",
      "accuracy loss: 18.44 | fairness loss 121.80 | Demographic disparity = 0.00\n",
      "Training loss: 184.41 | Validation accuracy: 63.00% | Validation Demographic disparity: 0.0000\n",
      "\n",
      " | Global Training Round : 136 |\n",
      "\n",
      " \n",
      "Avg Training Stats after 136 global rounds:\n",
      "accuracy loss: 18.43 | fairness loss 119.59 | Demographic disparity = 0.00\n",
      "Training loss: 184.28 | Validation accuracy: 63.00% | Validation Demographic disparity: 0.0000\n",
      "\n",
      " | Global Training Round : 137 |\n",
      "\n",
      " \n",
      "Avg Training Stats after 137 global rounds:\n",
      "accuracy loss: 18.42 | fairness loss 117.49 | Demographic disparity = 0.00\n",
      "Training loss: 184.16 | Validation accuracy: 63.00% | Validation Demographic disparity: 0.0000\n",
      "\n",
      " | Global Training Round : 138 |\n",
      "\n",
      " \n",
      "Avg Training Stats after 138 global rounds:\n",
      "accuracy loss: 18.40 | fairness loss 115.48 | Demographic disparity = 0.00\n",
      "Training loss: 184.04 | Validation accuracy: 63.00% | Validation Demographic disparity: 0.0000\n",
      "\n",
      " | Global Training Round : 139 |\n",
      "\n",
      " \n",
      "Avg Training Stats after 139 global rounds:\n",
      "accuracy loss: 18.39 | fairness loss 113.57 | Demographic disparity = 0.00\n",
      "Training loss: 183.92 | Validation accuracy: 63.00% | Validation Demographic disparity: 0.0000\n",
      "\n",
      " | Global Training Round : 140 |\n",
      "\n",
      " \n",
      "Avg Training Stats after 140 global rounds:\n",
      "accuracy loss: 18.38 | fairness loss 111.75 | Demographic disparity = 0.00\n",
      "Training loss: 183.80 | Validation accuracy: 63.00% | Validation Demographic disparity: 0.0000\n",
      "\n",
      " | Global Training Round : 141 |\n",
      "\n",
      " \n",
      "Avg Training Stats after 141 global rounds:\n",
      "accuracy loss: 18.37 | fairness loss 110.01 | Demographic disparity = 0.00\n",
      "Training loss: 183.69 | Validation accuracy: 63.00% | Validation Demographic disparity: 0.0000\n",
      "\n",
      " | Global Training Round : 142 |\n",
      "\n",
      " \n",
      "Avg Training Stats after 142 global rounds:\n",
      "accuracy loss: 18.36 | fairness loss 108.36 | Demographic disparity = 0.00\n",
      "Training loss: 183.58 | Validation accuracy: 63.00% | Validation Demographic disparity: 0.0000\n",
      "\n",
      " | Global Training Round : 143 |\n",
      "\n",
      " \n",
      "Avg Training Stats after 143 global rounds:\n",
      "accuracy loss: 18.35 | fairness loss 106.80 | Demographic disparity = 0.00\n",
      "Training loss: 183.47 | Validation accuracy: 63.00% | Validation Demographic disparity: 0.0000\n",
      "\n",
      " | Global Training Round : 144 |\n",
      "\n"
     ]
    },
    {
     "name": "stderr",
     "output_type": "stream",
     "text": [
      " 51%|█████▏    | 154/300 [00:02<00:02, 55.99it/s]"
     ]
    },
    {
     "name": "stdout",
     "output_type": "stream",
     "text": [
      " \n",
      "Avg Training Stats after 144 global rounds:\n",
      "accuracy loss: 18.34 | fairness loss 105.31 | Demographic disparity = 0.00\n",
      "Training loss: 183.36 | Validation accuracy: 63.00% | Validation Demographic disparity: 0.0000\n",
      "\n",
      " | Global Training Round : 145 |\n",
      "\n",
      " \n",
      "Avg Training Stats after 145 global rounds:\n",
      "accuracy loss: 18.33 | fairness loss 103.91 | Demographic disparity = 0.00\n",
      "Training loss: 183.26 | Validation accuracy: 63.00% | Validation Demographic disparity: 0.0000\n",
      "\n",
      " | Global Training Round : 146 |\n",
      "\n",
      " \n",
      "Avg Training Stats after 146 global rounds:\n",
      "accuracy loss: 18.32 | fairness loss 102.57 | Demographic disparity = 0.00\n",
      "Training loss: 183.15 | Validation accuracy: 63.00% | Validation Demographic disparity: 0.0000\n",
      "\n",
      " | Global Training Round : 147 |\n",
      "\n",
      " \n",
      "Avg Training Stats after 147 global rounds:\n",
      "accuracy loss: 18.30 | fairness loss 101.31 | Demographic disparity = 0.00\n",
      "Training loss: 183.05 | Validation accuracy: 63.00% | Validation Demographic disparity: 0.0000\n",
      "\n",
      " | Global Training Round : 148 |\n",
      "\n",
      " \n",
      "Avg Training Stats after 148 global rounds:\n",
      "accuracy loss: 18.30 | fairness loss 100.11 | Demographic disparity = 0.00\n",
      "Training loss: 182.95 | Validation accuracy: 63.00% | Validation Demographic disparity: 0.0000\n",
      "\n",
      " | Global Training Round : 149 |\n",
      "\n",
      " \n",
      "Avg Training Stats after 149 global rounds:\n",
      "accuracy loss: 18.29 | fairness loss 98.98 | Demographic disparity = 0.00\n",
      "Training loss: 182.85 | Validation accuracy: 63.00% | Validation Demographic disparity: 0.0000\n",
      "\n",
      " | Global Training Round : 150 |\n",
      "\n",
      " \n",
      "Avg Training Stats after 150 global rounds:\n",
      "accuracy loss: 18.28 | fairness loss 97.91 | Demographic disparity = 0.00\n",
      "Training loss: 182.76 | Validation accuracy: 63.00% | Validation Demographic disparity: 0.0000\n",
      "\n",
      " | Global Training Round : 151 |\n",
      "\n",
      " \n",
      "Avg Training Stats after 151 global rounds:\n",
      "accuracy loss: 18.27 | fairness loss 96.90 | Demographic disparity = 0.00\n",
      "Training loss: 182.66 | Validation accuracy: 63.00% | Validation Demographic disparity: 0.0000\n",
      "\n",
      " | Global Training Round : 152 |\n",
      "\n",
      " \n",
      "Avg Training Stats after 152 global rounds:\n",
      "accuracy loss: 18.26 | fairness loss 95.95 | Demographic disparity = 0.00\n",
      "Training loss: 182.57 | Validation accuracy: 63.00% | Validation Demographic disparity: 0.0000\n",
      "\n",
      " | Global Training Round : 153 |\n",
      "\n",
      " \n",
      "Avg Training Stats after 153 global rounds:\n",
      "accuracy loss: 18.25 | fairness loss 95.04 | Demographic disparity = 0.00\n",
      "Training loss: 182.48 | Validation accuracy: 63.00% | Validation Demographic disparity: 0.0000\n",
      "\n",
      " | Global Training Round : 154 |\n",
      "\n",
      " \n",
      "Avg Training Stats after 154 global rounds:\n",
      "accuracy loss: 18.24 | fairness loss 94.19 | Demographic disparity = 0.00\n",
      "Training loss: 182.39 | Validation accuracy: 63.00% | Validation Demographic disparity: 0.0000\n",
      "\n",
      " | Global Training Round : 155 |\n",
      "\n",
      " \n",
      "Avg Training Stats after 155 global rounds:\n",
      "accuracy loss: 18.23 | fairness loss 93.38 | Demographic disparity = 0.00\n",
      "Training loss: 182.31 | Validation accuracy: 63.00% | Validation Demographic disparity: 0.0000\n",
      "\n",
      " | Global Training Round : 156 |\n",
      "\n"
     ]
    },
    {
     "name": "stderr",
     "output_type": "stream",
     "text": [
      " 55%|█████▌    | 166/300 [00:02<00:02, 55.38it/s]"
     ]
    },
    {
     "name": "stdout",
     "output_type": "stream",
     "text": [
      " \n",
      "Avg Training Stats after 156 global rounds:\n",
      "accuracy loss: 18.22 | fairness loss 92.62 | Demographic disparity = 0.00\n",
      "Training loss: 182.23 | Validation accuracy: 63.00% | Validation Demographic disparity: 0.0000\n",
      "\n",
      " | Global Training Round : 157 |\n",
      "\n",
      " \n",
      "Avg Training Stats after 157 global rounds:\n",
      "accuracy loss: 18.21 | fairness loss 91.90 | Demographic disparity = 0.00\n",
      "Training loss: 182.14 | Validation accuracy: 63.00% | Validation Demographic disparity: 0.0000\n",
      "\n",
      " | Global Training Round : 158 |\n",
      "\n",
      " \n",
      "Avg Training Stats after 158 global rounds:\n",
      "accuracy loss: 18.21 | fairness loss 91.21 | Demographic disparity = 0.00\n",
      "Training loss: 182.07 | Validation accuracy: 63.00% | Validation Demographic disparity: 0.0000\n",
      "\n",
      " | Global Training Round : 159 |\n",
      "\n",
      " \n",
      "Avg Training Stats after 159 global rounds:\n",
      "accuracy loss: 18.20 | fairness loss 90.57 | Demographic disparity = 0.00\n",
      "Training loss: 181.99 | Validation accuracy: 63.00% | Validation Demographic disparity: 0.0000\n",
      "\n",
      " | Global Training Round : 160 |\n",
      "\n",
      " \n",
      "Avg Training Stats after 160 global rounds:\n",
      "accuracy loss: 18.19 | fairness loss 89.96 | Demographic disparity = 0.00\n",
      "Training loss: 181.91 | Validation accuracy: 63.00% | Validation Demographic disparity: 0.0000\n",
      "\n",
      " | Global Training Round : 161 |\n",
      "\n",
      " \n",
      "Avg Training Stats after 161 global rounds:\n",
      "accuracy loss: 18.18 | fairness loss 89.38 | Demographic disparity = 0.00\n",
      "Training loss: 181.84 | Validation accuracy: 63.00% | Validation Demographic disparity: 0.0000\n",
      "\n",
      " | Global Training Round : 162 |\n",
      "\n",
      " \n",
      "Avg Training Stats after 162 global rounds:\n",
      "accuracy loss: 18.18 | fairness loss 88.84 | Demographic disparity = 0.00\n",
      "Training loss: 181.77 | Validation accuracy: 63.00% | Validation Demographic disparity: 0.0000\n",
      "\n",
      " | Global Training Round : 163 |\n",
      "\n",
      " \n",
      "Avg Training Stats after 163 global rounds:\n",
      "accuracy loss: 18.17 | fairness loss 88.33 | Demographic disparity = 0.00\n",
      "Training loss: 181.70 | Validation accuracy: 63.00% | Validation Demographic disparity: 0.0000\n",
      "\n",
      " | Global Training Round : 164 |\n",
      "\n",
      " \n",
      "Avg Training Stats after 164 global rounds:\n",
      "accuracy loss: 18.16 | fairness loss 87.86 | Demographic disparity = 0.00\n",
      "Training loss: 181.63 | Validation accuracy: 63.00% | Validation Demographic disparity: 0.0000\n",
      "\n",
      " | Global Training Round : 165 |\n",
      "\n",
      " \n",
      "Avg Training Stats after 165 global rounds:\n",
      "accuracy loss: 18.16 | fairness loss 87.41 | Demographic disparity = 0.00\n",
      "Training loss: 181.57 | Validation accuracy: 63.00% | Validation Demographic disparity: 0.0000\n",
      "\n",
      " | Global Training Round : 166 |\n",
      "\n",
      " \n",
      "Avg Training Stats after 166 global rounds:\n",
      "accuracy loss: 18.15 | fairness loss 86.99 | Demographic disparity = 0.00\n",
      "Training loss: 181.50 | Validation accuracy: 63.00% | Validation Demographic disparity: 0.0000\n",
      "\n",
      " | Global Training Round : 167 |\n",
      "\n",
      " \n",
      "Avg Training Stats after 167 global rounds:\n",
      "accuracy loss: 18.14 | fairness loss 86.60 | Demographic disparity = 0.00\n",
      "Training loss: 181.44 | Validation accuracy: 63.00% | Validation Demographic disparity: 0.0000\n",
      "\n",
      " | Global Training Round : 168 |\n",
      "\n"
     ]
    },
    {
     "name": "stderr",
     "output_type": "stream",
     "text": [
      " 59%|█████▉    | 178/300 [00:03<00:02, 56.15it/s]"
     ]
    },
    {
     "name": "stdout",
     "output_type": "stream",
     "text": [
      " \n",
      "Avg Training Stats after 168 global rounds:\n",
      "accuracy loss: 18.14 | fairness loss 86.23 | Demographic disparity = 0.00\n",
      "Training loss: 181.38 | Validation accuracy: 63.00% | Validation Demographic disparity: 0.0000\n",
      "\n",
      " | Global Training Round : 169 |\n",
      "\n",
      " \n",
      "Avg Training Stats after 169 global rounds:\n",
      "accuracy loss: 18.13 | fairness loss 85.89 | Demographic disparity = 0.00\n",
      "Training loss: 181.32 | Validation accuracy: 63.00% | Validation Demographic disparity: 0.0000\n",
      "\n",
      " | Global Training Round : 170 |\n",
      "\n",
      " \n",
      "Avg Training Stats after 170 global rounds:\n",
      "accuracy loss: 18.13 | fairness loss 85.58 | Demographic disparity = 0.00\n",
      "Training loss: 181.26 | Validation accuracy: 63.00% | Validation Demographic disparity: 0.0000\n",
      "\n",
      " | Global Training Round : 171 |\n",
      "\n",
      " \n",
      "Avg Training Stats after 171 global rounds:\n",
      "accuracy loss: 18.12 | fairness loss 85.29 | Demographic disparity = 0.00\n",
      "Training loss: 181.20 | Validation accuracy: 63.00% | Validation Demographic disparity: 0.0000\n",
      "\n",
      " | Global Training Round : 172 |\n",
      "\n",
      " \n",
      "Avg Training Stats after 172 global rounds:\n",
      "accuracy loss: 18.11 | fairness loss 85.02 | Demographic disparity = 0.00\n",
      "Training loss: 181.15 | Validation accuracy: 63.00% | Validation Demographic disparity: 0.0000\n",
      "\n",
      " | Global Training Round : 173 |\n",
      "\n",
      " \n",
      "Avg Training Stats after 173 global rounds:\n",
      "accuracy loss: 18.11 | fairness loss 84.77 | Demographic disparity = 0.00\n",
      "Training loss: 181.10 | Validation accuracy: 63.00% | Validation Demographic disparity: 0.0000\n",
      "\n",
      " | Global Training Round : 174 |\n",
      "\n",
      " \n",
      "Avg Training Stats after 174 global rounds:\n",
      "accuracy loss: 18.10 | fairness loss 84.54 | Demographic disparity = 0.00\n",
      "Training loss: 181.04 | Validation accuracy: 63.00% | Validation Demographic disparity: 0.0000\n",
      "\n",
      " | Global Training Round : 175 |\n",
      "\n",
      " \n",
      "Avg Training Stats after 175 global rounds:\n",
      "accuracy loss: 18.10 | fairness loss 84.33 | Demographic disparity = 0.00\n",
      "Training loss: 180.99 | Validation accuracy: 63.00% | Validation Demographic disparity: 0.0000\n",
      "\n",
      " | Global Training Round : 176 |\n",
      "\n",
      " \n",
      "Avg Training Stats after 176 global rounds:\n",
      "accuracy loss: 18.09 | fairness loss 84.14 | Demographic disparity = 0.00\n",
      "Training loss: 180.94 | Validation accuracy: 63.00% | Validation Demographic disparity: 0.0000\n",
      "\n",
      " | Global Training Round : 177 |\n",
      "\n",
      " \n",
      "Avg Training Stats after 177 global rounds:\n",
      "accuracy loss: 18.09 | fairness loss 83.97 | Demographic disparity = 0.00\n",
      "Training loss: 180.89 | Validation accuracy: 63.00% | Validation Demographic disparity: 0.0000\n",
      "\n",
      " | Global Training Round : 178 |\n",
      "\n",
      " \n",
      "Avg Training Stats after 178 global rounds:\n",
      "accuracy loss: 18.08 | fairness loss 83.81 | Demographic disparity = 0.00\n",
      "Training loss: 180.84 | Validation accuracy: 63.00% | Validation Demographic disparity: 0.0000\n",
      "\n",
      " | Global Training Round : 179 |\n",
      "\n",
      " \n",
      "Avg Training Stats after 179 global rounds:\n",
      "accuracy loss: 18.08 | fairness loss 83.67 | Demographic disparity = 0.00\n",
      "Training loss: 180.80 | Validation accuracy: 63.00% | Validation Demographic disparity: 0.0000\n",
      "\n",
      " | Global Training Round : 180 |\n",
      "\n"
     ]
    },
    {
     "name": "stderr",
     "output_type": "stream",
     "text": [
      " 63%|██████▎   | 190/300 [00:03<00:01, 55.75it/s]"
     ]
    },
    {
     "name": "stdout",
     "output_type": "stream",
     "text": [
      " \n",
      "Avg Training Stats after 180 global rounds:\n",
      "accuracy loss: 18.08 | fairness loss 83.54 | Demographic disparity = 0.00\n",
      "Training loss: 180.75 | Validation accuracy: 63.00% | Validation Demographic disparity: 0.0000\n",
      "\n",
      " | Global Training Round : 181 |\n",
      "\n",
      " \n",
      "Avg Training Stats after 181 global rounds:\n",
      "accuracy loss: 18.07 | fairness loss 83.43 | Demographic disparity = 0.00\n",
      "Training loss: 180.71 | Validation accuracy: 63.00% | Validation Demographic disparity: 0.0000\n",
      "\n",
      " | Global Training Round : 182 |\n",
      "\n",
      " \n",
      "Avg Training Stats after 182 global rounds:\n",
      "accuracy loss: 18.07 | fairness loss 83.33 | Demographic disparity = 0.00\n",
      "Training loss: 180.66 | Validation accuracy: 63.00% | Validation Demographic disparity: 0.0000\n",
      "\n",
      " | Global Training Round : 183 |\n",
      "\n",
      " \n",
      "Avg Training Stats after 183 global rounds:\n",
      "accuracy loss: 18.06 | fairness loss 83.24 | Demographic disparity = 0.00\n",
      "Training loss: 180.62 | Validation accuracy: 63.00% | Validation Demographic disparity: 0.0000\n",
      "\n",
      " | Global Training Round : 184 |\n",
      "\n",
      " \n",
      "Avg Training Stats after 184 global rounds:\n",
      "accuracy loss: 18.06 | fairness loss 83.17 | Demographic disparity = 0.00\n",
      "Training loss: 180.58 | Validation accuracy: 63.00% | Validation Demographic disparity: 0.0000\n",
      "\n",
      " | Global Training Round : 185 |\n",
      "\n",
      " \n",
      "Avg Training Stats after 185 global rounds:\n",
      "accuracy loss: 18.05 | fairness loss 83.11 | Demographic disparity = 0.00\n",
      "Training loss: 180.54 | Validation accuracy: 63.00% | Validation Demographic disparity: 0.0000\n",
      "\n",
      " | Global Training Round : 186 |\n",
      "\n",
      " \n",
      "Avg Training Stats after 186 global rounds:\n",
      "accuracy loss: 18.05 | fairness loss 83.05 | Demographic disparity = 0.00\n",
      "Training loss: 180.50 | Validation accuracy: 63.00% | Validation Demographic disparity: 0.0000\n",
      "\n",
      " | Global Training Round : 187 |\n",
      "\n",
      " \n",
      "Avg Training Stats after 187 global rounds:\n",
      "accuracy loss: 18.05 | fairness loss 83.01 | Demographic disparity = 0.00\n",
      "Training loss: 180.46 | Validation accuracy: 63.00% | Validation Demographic disparity: 0.0000\n",
      "\n",
      " | Global Training Round : 188 |\n",
      "\n",
      " \n",
      "Avg Training Stats after 188 global rounds:\n",
      "accuracy loss: 18.04 | fairness loss 82.98 | Demographic disparity = 0.00\n",
      "Training loss: 180.43 | Validation accuracy: 63.00% | Validation Demographic disparity: 0.0000\n",
      "\n",
      " | Global Training Round : 189 |\n",
      "\n",
      " \n",
      "Avg Training Stats after 189 global rounds:\n",
      "accuracy loss: 18.04 | fairness loss 82.96 | Demographic disparity = 0.00\n",
      "Training loss: 180.39 | Validation accuracy: 63.00% | Validation Demographic disparity: 0.0000\n",
      "\n",
      " | Global Training Round : 190 |\n",
      "\n",
      " \n",
      "Avg Training Stats after 190 global rounds:\n",
      "accuracy loss: 18.04 | fairness loss 82.94 | Demographic disparity = 0.00\n",
      "Training loss: 180.35 | Validation accuracy: 63.00% | Validation Demographic disparity: 0.0000\n",
      "\n",
      " | Global Training Round : 191 |\n",
      "\n",
      " \n",
      "Avg Training Stats after 191 global rounds:\n",
      "accuracy loss: 18.03 | fairness loss 82.94 | Demographic disparity = 0.00\n",
      "Training loss: 180.32 | Validation accuracy: 63.00% | Validation Demographic disparity: 0.0000\n",
      "\n",
      " | Global Training Round : 192 |\n",
      "\n"
     ]
    },
    {
     "name": "stderr",
     "output_type": "stream",
     "text": [
      " 68%|██████▊   | 203/300 [00:03<00:01, 57.28it/s]"
     ]
    },
    {
     "name": "stdout",
     "output_type": "stream",
     "text": [
      " \n",
      "Avg Training Stats after 192 global rounds:\n",
      "accuracy loss: 18.03 | fairness loss 82.94 | Demographic disparity = 0.00\n",
      "Training loss: 180.28 | Validation accuracy: 63.00% | Validation Demographic disparity: 0.0000\n",
      "\n",
      " | Global Training Round : 193 |\n",
      "\n",
      " \n",
      "Avg Training Stats after 193 global rounds:\n",
      "accuracy loss: 18.03 | fairness loss 82.95 | Demographic disparity = 0.00\n",
      "Training loss: 180.25 | Validation accuracy: 63.00% | Validation Demographic disparity: 0.0000\n",
      "\n",
      " | Global Training Round : 194 |\n",
      "\n",
      " \n",
      "Avg Training Stats after 194 global rounds:\n",
      "accuracy loss: 18.02 | fairness loss 82.96 | Demographic disparity = 0.00\n",
      "Training loss: 180.22 | Validation accuracy: 63.00% | Validation Demographic disparity: 0.0000\n",
      "\n",
      " | Global Training Round : 195 |\n",
      "\n",
      " \n",
      "Avg Training Stats after 195 global rounds:\n",
      "accuracy loss: 18.02 | fairness loss 82.98 | Demographic disparity = 0.00\n",
      "Training loss: 180.19 | Validation accuracy: 63.00% | Validation Demographic disparity: 0.0000\n",
      "\n",
      " | Global Training Round : 196 |\n",
      "\n",
      " \n",
      "Avg Training Stats after 196 global rounds:\n",
      "accuracy loss: 18.02 | fairness loss 83.01 | Demographic disparity = 0.00\n",
      "Training loss: 180.16 | Validation accuracy: 63.00% | Validation Demographic disparity: 0.0000\n",
      "\n",
      " | Global Training Round : 197 |\n",
      "\n",
      " \n",
      "Avg Training Stats after 197 global rounds:\n",
      "accuracy loss: 18.01 | fairness loss 83.04 | Demographic disparity = 0.00\n",
      "Training loss: 180.13 | Validation accuracy: 63.00% | Validation Demographic disparity: 0.0000\n",
      "\n",
      " | Global Training Round : 198 |\n",
      "\n",
      " \n",
      "Avg Training Stats after 198 global rounds:\n",
      "accuracy loss: 18.01 | fairness loss 83.07 | Demographic disparity = 0.00\n",
      "Training loss: 180.10 | Validation accuracy: 63.00% | Validation Demographic disparity: 0.0000\n",
      "\n",
      " | Global Training Round : 199 |\n",
      "\n",
      " \n",
      "Avg Training Stats after 199 global rounds:\n",
      "accuracy loss: 18.01 | fairness loss 83.11 | Demographic disparity = 0.00\n",
      "Training loss: 180.07 | Validation accuracy: 63.00% | Validation Demographic disparity: 0.0000\n",
      "\n",
      " | Global Training Round : 200 |\n",
      "\n",
      " \n",
      "Avg Training Stats after 200 global rounds:\n",
      "accuracy loss: 18.00 | fairness loss 83.15 | Demographic disparity = 0.00\n",
      "Training loss: 180.04 | Validation accuracy: 63.00% | Validation Demographic disparity: 0.0000\n",
      "\n",
      " | Global Training Round : 201 |\n",
      "\n",
      " \n",
      "Avg Training Stats after 201 global rounds:\n",
      "accuracy loss: 18.00 | fairness loss 83.20 | Demographic disparity = 0.00\n",
      "Training loss: 180.01 | Validation accuracy: 63.00% | Validation Demographic disparity: 0.0000\n",
      "\n",
      " | Global Training Round : 202 |\n",
      "\n",
      " \n",
      "Avg Training Stats after 202 global rounds:\n",
      "accuracy loss: 18.00 | fairness loss 83.24 | Demographic disparity = 0.00\n",
      "Training loss: 179.99 | Validation accuracy: 63.00% | Validation Demographic disparity: 0.0000\n",
      "\n",
      " | Global Training Round : 203 |\n",
      "\n",
      " \n",
      "Avg Training Stats after 203 global rounds:\n",
      "accuracy loss: 18.00 | fairness loss 83.29 | Demographic disparity = 0.00\n",
      "Training loss: 179.96 | Validation accuracy: 63.00% | Validation Demographic disparity: 0.0000\n",
      "\n",
      " | Global Training Round : 204 |\n",
      "\n"
     ]
    },
    {
     "name": "stderr",
     "output_type": "stream",
     "text": [
      " 72%|███████▏  | 215/300 [00:03<00:01, 55.31it/s]"
     ]
    },
    {
     "name": "stdout",
     "output_type": "stream",
     "text": [
      " \n",
      "Avg Training Stats after 204 global rounds:\n",
      "accuracy loss: 17.99 | fairness loss 83.35 | Demographic disparity = 0.00\n",
      "Training loss: 179.94 | Validation accuracy: 63.00% | Validation Demographic disparity: 0.0000\n",
      "\n",
      " | Global Training Round : 205 |\n",
      "\n",
      " \n",
      "Avg Training Stats after 205 global rounds:\n",
      "accuracy loss: 17.99 | fairness loss 83.40 | Demographic disparity = 0.00\n",
      "Training loss: 179.91 | Validation accuracy: 63.00% | Validation Demographic disparity: 0.0000\n",
      "\n",
      " | Global Training Round : 206 |\n",
      "\n",
      " \n",
      "Avg Training Stats after 206 global rounds:\n",
      "accuracy loss: 17.99 | fairness loss 83.46 | Demographic disparity = 0.00\n",
      "Training loss: 179.89 | Validation accuracy: 63.00% | Validation Demographic disparity: 0.0000\n",
      "\n",
      " | Global Training Round : 207 |\n",
      "\n",
      " \n",
      "Avg Training Stats after 207 global rounds:\n",
      "accuracy loss: 17.99 | fairness loss 83.52 | Demographic disparity = 0.00\n",
      "Training loss: 179.87 | Validation accuracy: 63.00% | Validation Demographic disparity: 0.0000\n",
      "\n",
      " | Global Training Round : 208 |\n",
      "\n",
      " \n",
      "Avg Training Stats after 208 global rounds:\n",
      "accuracy loss: 17.98 | fairness loss 83.58 | Demographic disparity = 0.01\n",
      "Training loss: 179.85 | Validation accuracy: 63.33% | Validation Demographic disparity: 0.0061\n",
      "\n",
      " | Global Training Round : 209 |\n",
      "\n",
      " \n",
      "Avg Training Stats after 209 global rounds:\n",
      "accuracy loss: 17.98 | fairness loss 83.64 | Demographic disparity = 0.01\n",
      "Training loss: 179.82 | Validation accuracy: 63.33% | Validation Demographic disparity: 0.0061\n",
      "\n",
      " | Global Training Round : 210 |\n",
      "\n",
      " \n",
      "Avg Training Stats after 210 global rounds:\n",
      "accuracy loss: 17.98 | fairness loss 83.71 | Demographic disparity = 0.01\n",
      "Training loss: 179.80 | Validation accuracy: 63.33% | Validation Demographic disparity: 0.0061\n",
      "\n",
      " | Global Training Round : 211 |\n",
      "\n",
      " \n",
      "Avg Training Stats after 211 global rounds:\n",
      "accuracy loss: 17.98 | fairness loss 83.77 | Demographic disparity = 0.01\n",
      "Training loss: 179.78 | Validation accuracy: 63.33% | Validation Demographic disparity: 0.0061\n",
      "\n",
      " | Global Training Round : 212 |\n",
      "\n",
      " \n",
      "Avg Training Stats after 212 global rounds:\n",
      "accuracy loss: 17.98 | fairness loss 83.84 | Demographic disparity = 0.01\n",
      "Training loss: 179.76 | Validation accuracy: 63.33% | Validation Demographic disparity: 0.0061\n",
      "\n",
      " | Global Training Round : 213 |\n",
      "\n",
      " \n",
      "Avg Training Stats after 213 global rounds:\n",
      "accuracy loss: 17.97 | fairness loss 83.91 | Demographic disparity = 0.01\n",
      "Training loss: 179.74 | Validation accuracy: 63.33% | Validation Demographic disparity: 0.0061\n",
      "\n",
      " | Global Training Round : 214 |\n",
      "\n",
      " \n",
      "Avg Training Stats after 214 global rounds:\n",
      "accuracy loss: 17.97 | fairness loss 83.97 | Demographic disparity = 0.01\n",
      "Training loss: 179.72 | Validation accuracy: 63.33% | Validation Demographic disparity: 0.0061\n",
      "\n",
      " | Global Training Round : 215 |\n",
      "\n",
      " \n",
      "Avg Training Stats after 215 global rounds:\n",
      "accuracy loss: 17.97 | fairness loss 84.04 | Demographic disparity = 0.01\n",
      "Training loss: 179.71 | Validation accuracy: 63.33% | Validation Demographic disparity: 0.0061\n",
      "\n",
      " | Global Training Round : 216 |\n",
      "\n"
     ]
    },
    {
     "name": "stderr",
     "output_type": "stream",
     "text": [
      "\r",
      " 74%|███████▎  | 221/300 [00:03<00:01, 52.80it/s]"
     ]
    },
    {
     "name": "stdout",
     "output_type": "stream",
     "text": [
      " \n",
      "Avg Training Stats after 216 global rounds:\n",
      "accuracy loss: 17.97 | fairness loss 84.11 | Demographic disparity = 0.01\n",
      "Training loss: 179.69 | Validation accuracy: 63.33% | Validation Demographic disparity: 0.0061\n",
      "\n",
      " | Global Training Round : 217 |\n",
      "\n",
      " \n",
      "Avg Training Stats after 217 global rounds:\n",
      "accuracy loss: 17.97 | fairness loss 84.18 | Demographic disparity = 0.01\n",
      "Training loss: 179.67 | Validation accuracy: 63.33% | Validation Demographic disparity: 0.0061\n",
      "\n",
      " | Global Training Round : 218 |\n",
      "\n",
      " \n",
      "Avg Training Stats after 218 global rounds:\n",
      "accuracy loss: 17.97 | fairness loss 84.25 | Demographic disparity = 0.01\n",
      "Training loss: 179.65 | Validation accuracy: 63.33% | Validation Demographic disparity: 0.0061\n",
      "\n",
      " | Global Training Round : 219 |\n",
      "\n",
      " \n",
      "Avg Training Stats after 219 global rounds:\n",
      "accuracy loss: 17.96 | fairness loss 84.32 | Demographic disparity = 0.01\n",
      "Training loss: 179.64 | Validation accuracy: 63.33% | Validation Demographic disparity: 0.0061\n",
      "\n",
      " | Global Training Round : 220 |\n",
      "\n",
      " \n",
      "Avg Training Stats after 220 global rounds:\n",
      "accuracy loss: 17.96 | fairness loss 84.39 | Demographic disparity = 0.01\n",
      "Training loss: 179.62 | Validation accuracy: 63.33% | Validation Demographic disparity: 0.0061\n",
      "\n",
      " | Global Training Round : 221 |\n",
      "\n",
      " \n",
      "Avg Training Stats after 221 global rounds:\n",
      "accuracy loss: 17.96 | fairness loss 84.46 | Demographic disparity = 0.01\n",
      "Training loss: 179.60 | Validation accuracy: 63.33% | Validation Demographic disparity: 0.0061\n",
      "\n",
      " | Global Training Round : 222 |\n",
      "\n",
      " \n",
      "Avg Training Stats after 222 global rounds:\n",
      "accuracy loss: 17.96 | fairness loss 84.53 | Demographic disparity = 0.01\n",
      "Training loss: 179.59 | Validation accuracy: 63.33% | Validation Demographic disparity: 0.0061\n",
      "\n",
      " | Global Training Round : 223 |\n",
      "\n",
      " \n",
      "Avg Training Stats after 223 global rounds:\n",
      "accuracy loss: 17.96 | fairness loss 84.60 | Demographic disparity = 0.01\n",
      "Training loss: 179.57 | Validation accuracy: 63.33% | Validation Demographic disparity: 0.0061\n",
      "\n",
      " | Global Training Round : 224 |\n",
      "\n",
      " \n",
      "Avg Training Stats after 224 global rounds:\n",
      "accuracy loss: 17.96 | fairness loss 84.66 | Demographic disparity = 0.01\n",
      "Training loss: 179.56 | Validation accuracy: 63.33% | Validation Demographic disparity: 0.0061\n",
      "\n",
      " | Global Training Round : 225 |\n",
      "\n"
     ]
    },
    {
     "name": "stderr",
     "output_type": "stream",
     "text": [
      " 77%|███████▋  | 232/300 [00:04<00:01, 43.50it/s]"
     ]
    },
    {
     "name": "stdout",
     "output_type": "stream",
     "text": [
      " \n",
      "Avg Training Stats after 225 global rounds:\n",
      "accuracy loss: 17.95 | fairness loss 84.73 | Demographic disparity = 0.01\n",
      "Training loss: 179.55 | Validation accuracy: 63.33% | Validation Demographic disparity: 0.0061\n",
      "\n",
      " | Global Training Round : 226 |\n",
      "\n",
      " \n",
      "Avg Training Stats after 226 global rounds:\n",
      "accuracy loss: 17.95 | fairness loss 84.80 | Demographic disparity = 0.01\n",
      "Training loss: 179.53 | Validation accuracy: 63.33% | Validation Demographic disparity: 0.0061\n",
      "\n",
      " | Global Training Round : 227 |\n",
      "\n",
      " \n",
      "Avg Training Stats after 227 global rounds:\n",
      "accuracy loss: 17.95 | fairness loss 84.87 | Demographic disparity = 0.01\n",
      "Training loss: 179.52 | Validation accuracy: 63.33% | Validation Demographic disparity: 0.0061\n",
      "\n",
      " | Global Training Round : 228 |\n",
      "\n",
      " \n",
      "Avg Training Stats after 228 global rounds:\n",
      "accuracy loss: 17.95 | fairness loss 84.94 | Demographic disparity = 0.01\n",
      "Training loss: 179.51 | Validation accuracy: 63.33% | Validation Demographic disparity: 0.0061\n",
      "\n",
      " | Global Training Round : 229 |\n",
      "\n",
      " \n",
      "Avg Training Stats after 229 global rounds:\n",
      "accuracy loss: 17.95 | fairness loss 85.00 | Demographic disparity = 0.01\n",
      "Training loss: 179.49 | Validation accuracy: 63.33% | Validation Demographic disparity: 0.0061\n",
      "\n",
      " | Global Training Round : 230 |\n",
      "\n",
      " \n",
      "Avg Training Stats after 230 global rounds:\n",
      "accuracy loss: 17.95 | fairness loss 85.07 | Demographic disparity = 0.01\n",
      "Training loss: 179.48 | Validation accuracy: 63.33% | Validation Demographic disparity: 0.0061\n",
      "\n",
      " | Global Training Round : 231 |\n",
      "\n",
      " \n",
      "Avg Training Stats after 231 global rounds:\n",
      "accuracy loss: 17.95 | fairness loss 85.13 | Demographic disparity = 0.01\n",
      "Training loss: 179.47 | Validation accuracy: 63.33% | Validation Demographic disparity: 0.0061\n",
      "\n",
      " | Global Training Round : 232 |\n",
      "\n",
      " \n",
      "Avg Training Stats after 232 global rounds:\n",
      "accuracy loss: 17.95 | fairness loss 85.20 | Demographic disparity = 0.01\n",
      "Training loss: 179.46 | Validation accuracy: 63.33% | Validation Demographic disparity: 0.0061\n",
      "\n",
      " | Global Training Round : 233 |\n",
      "\n"
     ]
    },
    {
     "name": "stderr",
     "output_type": "stream",
     "text": [
      " 81%|████████▏ | 244/300 [00:04<00:01, 49.14it/s]"
     ]
    },
    {
     "name": "stdout",
     "output_type": "stream",
     "text": [
      " \n",
      "Avg Training Stats after 233 global rounds:\n",
      "accuracy loss: 17.94 | fairness loss 85.26 | Demographic disparity = 0.01\n",
      "Training loss: 179.45 | Validation accuracy: 63.33% | Validation Demographic disparity: 0.0061\n",
      "\n",
      " | Global Training Round : 234 |\n",
      "\n",
      " \n",
      "Avg Training Stats after 234 global rounds:\n",
      "accuracy loss: 17.94 | fairness loss 85.32 | Demographic disparity = 0.01\n",
      "Training loss: 179.44 | Validation accuracy: 63.33% | Validation Demographic disparity: 0.0061\n",
      "\n",
      " | Global Training Round : 235 |\n",
      "\n",
      " \n",
      "Avg Training Stats after 235 global rounds:\n",
      "accuracy loss: 17.94 | fairness loss 85.38 | Demographic disparity = 0.01\n",
      "Training loss: 179.43 | Validation accuracy: 63.33% | Validation Demographic disparity: 0.0061\n",
      "\n",
      " | Global Training Round : 236 |\n",
      "\n",
      " \n",
      "Avg Training Stats after 236 global rounds:\n",
      "accuracy loss: 17.94 | fairness loss 85.44 | Demographic disparity = 0.01\n",
      "Training loss: 179.42 | Validation accuracy: 63.33% | Validation Demographic disparity: 0.0061\n",
      "\n",
      " | Global Training Round : 237 |\n",
      "\n",
      " \n",
      "Avg Training Stats after 237 global rounds:\n",
      "accuracy loss: 17.94 | fairness loss 85.50 | Demographic disparity = 0.01\n",
      "Training loss: 179.41 | Validation accuracy: 63.33% | Validation Demographic disparity: 0.0061\n",
      "\n",
      " | Global Training Round : 238 |\n",
      "\n",
      " \n",
      "Avg Training Stats after 238 global rounds:\n",
      "accuracy loss: 17.94 | fairness loss 85.56 | Demographic disparity = 0.01\n",
      "Training loss: 179.40 | Validation accuracy: 63.33% | Validation Demographic disparity: 0.0061\n",
      "\n",
      " | Global Training Round : 239 |\n",
      "\n",
      " \n",
      "Avg Training Stats after 239 global rounds:\n",
      "accuracy loss: 17.94 | fairness loss 85.62 | Demographic disparity = 0.01\n",
      "Training loss: 179.39 | Validation accuracy: 63.33% | Validation Demographic disparity: 0.0061\n",
      "\n",
      " | Global Training Round : 240 |\n",
      "\n",
      " \n",
      "Avg Training Stats after 240 global rounds:\n",
      "accuracy loss: 17.94 | fairness loss 85.67 | Demographic disparity = 0.01\n",
      "Training loss: 179.38 | Validation accuracy: 63.33% | Validation Demographic disparity: 0.0061\n",
      "\n",
      " | Global Training Round : 241 |\n",
      "\n",
      " \n",
      "Avg Training Stats after 241 global rounds:\n",
      "accuracy loss: 17.94 | fairness loss 85.73 | Demographic disparity = 0.01\n",
      "Training loss: 179.37 | Validation accuracy: 63.33% | Validation Demographic disparity: 0.0061\n",
      "\n",
      " | Global Training Round : 242 |\n",
      "\n",
      " \n",
      "Avg Training Stats after 242 global rounds:\n",
      "accuracy loss: 17.94 | fairness loss 85.78 | Demographic disparity = 0.01\n",
      "Training loss: 179.36 | Validation accuracy: 63.33% | Validation Demographic disparity: 0.0061\n",
      "\n",
      " | Global Training Round : 243 |\n",
      "\n",
      " \n",
      "Avg Training Stats after 243 global rounds:\n",
      "accuracy loss: 17.94 | fairness loss 85.84 | Demographic disparity = 0.01\n",
      "Training loss: 179.35 | Validation accuracy: 63.33% | Validation Demographic disparity: 0.0061\n",
      "\n",
      " | Global Training Round : 244 |\n",
      "\n",
      " \n",
      "Avg Training Stats after 244 global rounds:\n",
      "accuracy loss: 17.93 | fairness loss 85.89 | Demographic disparity = 0.01\n",
      "Training loss: 179.34 | Validation accuracy: 63.33% | Validation Demographic disparity: 0.0061\n",
      "\n",
      " | Global Training Round : 245 |\n",
      "\n",
      " \n",
      "Avg Training Stats after 245 global rounds:\n",
      "accuracy loss: 17.93 | fairness loss 85.94 | Demographic disparity = 0.01\n",
      "Training loss: 179.34 | Validation accuracy: 63.33% | Validation Demographic disparity: 0.0061\n",
      "\n",
      " | Global Training Round : 246 |\n",
      "\n"
     ]
    },
    {
     "name": "stderr",
     "output_type": "stream",
     "text": [
      " 85%|████████▌ | 256/300 [00:04<00:00, 51.28it/s]"
     ]
    },
    {
     "name": "stdout",
     "output_type": "stream",
     "text": [
      " \n",
      "Avg Training Stats after 246 global rounds:\n",
      "accuracy loss: 17.93 | fairness loss 85.99 | Demographic disparity = 0.01\n",
      "Training loss: 179.33 | Validation accuracy: 63.33% | Validation Demographic disparity: 0.0061\n",
      "\n",
      " | Global Training Round : 247 |\n",
      "\n",
      " \n",
      "Avg Training Stats after 247 global rounds:\n",
      "accuracy loss: 17.93 | fairness loss 86.04 | Demographic disparity = 0.01\n",
      "Training loss: 179.32 | Validation accuracy: 63.67% | Validation Demographic disparity: 0.0122\n",
      "\n",
      " | Global Training Round : 248 |\n",
      "\n",
      " \n",
      "Avg Training Stats after 248 global rounds:\n",
      "accuracy loss: 17.93 | fairness loss 86.08 | Demographic disparity = 0.01\n",
      "Training loss: 179.31 | Validation accuracy: 63.67% | Validation Demographic disparity: 0.0122\n",
      "\n",
      " | Global Training Round : 249 |\n",
      "\n",
      " \n",
      "Avg Training Stats after 249 global rounds:\n",
      "accuracy loss: 17.93 | fairness loss 86.13 | Demographic disparity = 0.01\n",
      "Training loss: 179.31 | Validation accuracy: 63.67% | Validation Demographic disparity: 0.0122\n",
      "\n",
      " | Global Training Round : 250 |\n",
      "\n",
      " \n",
      "Avg Training Stats after 250 global rounds:\n",
      "accuracy loss: 17.93 | fairness loss 86.18 | Demographic disparity = 0.01\n",
      "Training loss: 179.30 | Validation accuracy: 63.67% | Validation Demographic disparity: 0.0122\n",
      "\n",
      " | Global Training Round : 251 |\n",
      "\n",
      " \n",
      "Avg Training Stats after 251 global rounds:\n",
      "accuracy loss: 17.93 | fairness loss 86.22 | Demographic disparity = 0.01\n",
      "Training loss: 179.29 | Validation accuracy: 63.67% | Validation Demographic disparity: 0.0122\n",
      "\n",
      " | Global Training Round : 252 |\n",
      "\n",
      " \n",
      "Avg Training Stats after 252 global rounds:\n",
      "accuracy loss: 17.93 | fairness loss 86.26 | Demographic disparity = 0.01\n",
      "Training loss: 179.29 | Validation accuracy: 63.67% | Validation Demographic disparity: 0.0122\n",
      "\n",
      " | Global Training Round : 253 |\n",
      "\n",
      " \n",
      "Avg Training Stats after 253 global rounds:\n",
      "accuracy loss: 17.93 | fairness loss 86.31 | Demographic disparity = 0.01\n",
      "Training loss: 179.28 | Validation accuracy: 63.67% | Validation Demographic disparity: 0.0122\n",
      "\n",
      " | Global Training Round : 254 |\n",
      "\n",
      " \n",
      "Avg Training Stats after 254 global rounds:\n",
      "accuracy loss: 17.93 | fairness loss 86.35 | Demographic disparity = 0.01\n",
      "Training loss: 179.27 | Validation accuracy: 63.67% | Validation Demographic disparity: 0.0122\n",
      "\n",
      " | Global Training Round : 255 |\n",
      "\n",
      " \n",
      "Avg Training Stats after 255 global rounds:\n",
      "accuracy loss: 17.93 | fairness loss 86.39 | Demographic disparity = 0.01\n",
      "Training loss: 179.27 | Validation accuracy: 63.67% | Validation Demographic disparity: 0.0122\n",
      "\n",
      " | Global Training Round : 256 |\n",
      "\n",
      " \n",
      "Avg Training Stats after 256 global rounds:\n",
      "accuracy loss: 17.93 | fairness loss 86.43 | Demographic disparity = 0.01\n",
      "Training loss: 179.26 | Validation accuracy: 63.67% | Validation Demographic disparity: 0.0122\n",
      "\n",
      " | Global Training Round : 257 |\n",
      "\n",
      " \n",
      "Avg Training Stats after 257 global rounds:"
     ]
    },
    {
     "name": "stderr",
     "output_type": "stream",
     "text": [
      " 89%|████████▉ | 268/300 [00:04<00:00, 53.78it/s]"
     ]
    },
    {
     "name": "stdout",
     "output_type": "stream",
     "text": [
      "\n",
      "accuracy loss: 17.93 | fairness loss 86.46 | Demographic disparity = 0.01\n",
      "Training loss: 179.26 | Validation accuracy: 63.67% | Validation Demographic disparity: 0.0122\n",
      "\n",
      " | Global Training Round : 258 |\n",
      "\n",
      " \n",
      "Avg Training Stats after 258 global rounds:\n",
      "accuracy loss: 17.93 | fairness loss 86.50 | Demographic disparity = 0.01\n",
      "Training loss: 179.25 | Validation accuracy: 63.67% | Validation Demographic disparity: 0.0122\n",
      "\n",
      " | Global Training Round : 259 |\n",
      "\n",
      " \n",
      "Avg Training Stats after 259 global rounds:\n",
      "accuracy loss: 17.92 | fairness loss 86.54 | Demographic disparity = 0.01\n",
      "Training loss: 179.25 | Validation accuracy: 63.67% | Validation Demographic disparity: 0.0122\n",
      "\n",
      " | Global Training Round : 260 |\n",
      "\n",
      " \n",
      "Avg Training Stats after 260 global rounds:\n",
      "accuracy loss: 17.92 | fairness loss 86.57 | Demographic disparity = 0.01\n",
      "Training loss: 179.24 | Validation accuracy: 63.67% | Validation Demographic disparity: 0.0122\n",
      "\n",
      " | Global Training Round : 261 |\n",
      "\n",
      " \n",
      "Avg Training Stats after 261 global rounds:\n",
      "accuracy loss: 17.92 | fairness loss 86.61 | Demographic disparity = 0.01\n",
      "Training loss: 179.24 | Validation accuracy: 63.67% | Validation Demographic disparity: 0.0122\n",
      "\n",
      " | Global Training Round : 262 |\n",
      "\n",
      " \n",
      "Avg Training Stats after 262 global rounds:\n",
      "accuracy loss: 17.92 | fairness loss 86.64 | Demographic disparity = 0.01\n",
      "Training loss: 179.23 | Validation accuracy: 63.67% | Validation Demographic disparity: 0.0122\n",
      "\n",
      " | Global Training Round : 263 |\n",
      "\n",
      " \n",
      "Avg Training Stats after 263 global rounds:\n",
      "accuracy loss: 17.92 | fairness loss 86.67 | Demographic disparity = 0.01\n",
      "Training loss: 179.23 | Validation accuracy: 63.67% | Validation Demographic disparity: 0.0122\n",
      "\n",
      " | Global Training Round : 264 |\n",
      "\n",
      " \n",
      "Avg Training Stats after 264 global rounds:\n",
      "accuracy loss: 17.92 | fairness loss 86.70 | Demographic disparity = 0.01\n",
      "Training loss: 179.22 | Validation accuracy: 63.67% | Validation Demographic disparity: 0.0122\n",
      "\n",
      " | Global Training Round : 265 |\n",
      "\n",
      " \n",
      "Avg Training Stats after 265 global rounds:\n",
      "accuracy loss: 17.92 | fairness loss 86.73 | Demographic disparity = 0.01\n",
      "Training loss: 179.22 | Validation accuracy: 63.67% | Validation Demographic disparity: 0.0122\n",
      "\n",
      " | Global Training Round : 266 |\n",
      "\n",
      " \n",
      "Avg Training Stats after 266 global rounds:\n",
      "accuracy loss: 17.92 | fairness loss 86.76 | Demographic disparity = 0.01\n",
      "Training loss: 179.22 | Validation accuracy: 63.67% | Validation Demographic disparity: 0.0122\n",
      "\n",
      " | Global Training Round : 267 |\n",
      "\n",
      " \n",
      "Avg Training Stats after 267 global rounds:\n",
      "accuracy loss: 17.92 | fairness loss 86.79 | Demographic disparity = 0.01\n",
      "Training loss: 179.21 | Validation accuracy: 63.67% | Validation Demographic disparity: 0.0122\n",
      "\n",
      " | Global Training Round : 268 |\n",
      "\n",
      " \n",
      "Avg Training Stats after 268 global rounds:\n",
      "accuracy loss: 17.92 | fairness loss 86.82 | Demographic disparity = 0.01\n",
      "Training loss: 179.21 | Validation accuracy: 63.67% | Validation Demographic disparity: 0.0122\n",
      "\n",
      " | Global Training Round : 269 |\n",
      "\n"
     ]
    },
    {
     "name": "stderr",
     "output_type": "stream",
     "text": [
      "\r",
      " 91%|█████████▏| 274/300 [00:05<00:00, 53.50it/s]"
     ]
    },
    {
     "name": "stdout",
     "output_type": "stream",
     "text": [
      " \n",
      "Avg Training Stats after 269 global rounds:\n",
      "accuracy loss: 17.92 | fairness loss 86.85 | Demographic disparity = 0.01\n",
      "Training loss: 179.21 | Validation accuracy: 63.67% | Validation Demographic disparity: 0.0122\n",
      "\n",
      " | Global Training Round : 270 |\n",
      "\n",
      " \n",
      "Avg Training Stats after 270 global rounds:\n",
      "accuracy loss: 17.92 | fairness loss 86.87 | Demographic disparity = 0.01\n",
      "Training loss: 179.20 | Validation accuracy: 63.67% | Validation Demographic disparity: 0.0122\n",
      "\n",
      " | Global Training Round : 271 |\n",
      "\n",
      " \n",
      "Avg Training Stats after 271 global rounds:\n",
      "accuracy loss: 17.92 | fairness loss 86.90 | Demographic disparity = 0.01\n",
      "Training loss: 179.20 | Validation accuracy: 63.67% | Validation Demographic disparity: 0.0122\n",
      "\n",
      " | Global Training Round : 272 |\n",
      "\n",
      " \n",
      "Avg Training Stats after 272 global rounds:\n",
      "accuracy loss: 17.92 | fairness loss 86.92 | Demographic disparity = 0.01\n",
      "Training loss: 179.20 | Validation accuracy: 63.67% | Validation Demographic disparity: 0.0122\n",
      "\n",
      " | Global Training Round : 273 |\n",
      "\n",
      " \n",
      "Avg Training Stats after 273 global rounds:\n",
      "accuracy loss: 17.92 | fairness loss 86.94 | Demographic disparity = 0.01\n",
      "Training loss: 179.19 | Validation accuracy: 63.67% | Validation Demographic disparity: 0.0122\n",
      "\n",
      " | Global Training Round : 274 |\n",
      "\n",
      " \n",
      "Avg Training Stats after 274 global rounds:\n",
      "accuracy loss: 17.92 | fairness loss 86.97 | Demographic disparity = 0.01\n",
      "Training loss: 179.19 | Validation accuracy: 63.67% | Validation Demographic disparity: 0.0122\n",
      "\n",
      " | Global Training Round : 275 |\n",
      "\n",
      " \n",
      "Avg Training Stats after 275 global rounds:\n",
      "accuracy loss: 17.92 | fairness loss 86.99 | Demographic disparity = 0.01\n",
      "Training loss: 179.19 | Validation accuracy: 63.67% | Validation Demographic disparity: 0.0122\n",
      "\n",
      " | Global Training Round : 276 |\n",
      "\n",
      " \n",
      "Avg Training Stats after 276 global rounds:\n",
      "accuracy loss: 17.92 | fairness loss 87.01 | Demographic disparity = 0.02\n",
      "Training loss: 179.18 | Validation accuracy: 64.00% | Validation Demographic disparity: 0.0183\n",
      "\n",
      " | Global Training Round : 277 |\n",
      "\n",
      " \n",
      "Avg Training Stats after 277 global rounds:\n",
      "accuracy loss: 17.92 | fairness loss 87.03 | Demographic disparity = 0.02\n",
      "Training loss: 179.18 | Validation accuracy: 64.00% | Validation Demographic disparity: 0.0183\n",
      "\n",
      " | Global Training Round : 278 |\n",
      "\n",
      " \n",
      "Avg Training Stats after 278 global rounds:\n",
      "accuracy loss: 17.92 | fairness loss 87.05 | Demographic disparity = 0.02\n",
      "Training loss: 179.18 | Validation accuracy: 64.00% | Validation Demographic disparity: 0.0183\n",
      "\n",
      " | Global Training Round : 279 |\n",
      "\n",
      " \n",
      "Avg Training Stats after 279 global rounds:\n",
      "accuracy loss: 17.92 | fairness loss 87.07 | Demographic disparity = 0.02\n",
      "Training loss: 179.17 | Validation accuracy: 64.00% | Validation Demographic disparity: 0.0183\n",
      "\n",
      " | Global Training Round : 280 |\n",
      "\n",
      " \n",
      "Avg Training Stats after 280 global rounds:\n",
      "accuracy loss: 17.92 | fairness loss 87.09 | Demographic disparity = 0.02\n",
      "Training loss: 179.17 | Validation accuracy: 64.00% | Validation Demographic disparity: 0.0183\n",
      "\n",
      " | Global Training Round : 281 |\n",
      "\n"
     ]
    },
    {
     "name": "stderr",
     "output_type": "stream",
     "text": [
      " 96%|█████████▌| 288/300 [00:05<00:00, 57.29it/s]"
     ]
    },
    {
     "name": "stdout",
     "output_type": "stream",
     "text": [
      " \n",
      "Avg Training Stats after 281 global rounds:\n",
      "accuracy loss: 17.92 | fairness loss 87.11 | Demographic disparity = 0.02\n",
      "Training loss: 179.17 | Validation accuracy: 64.00% | Validation Demographic disparity: 0.0183\n",
      "\n",
      " | Global Training Round : 282 |\n",
      "\n",
      " \n",
      "Avg Training Stats after 282 global rounds:\n",
      "accuracy loss: 17.92 | fairness loss 87.12 | Demographic disparity = 0.02\n",
      "Training loss: 179.17 | Validation accuracy: 64.00% | Validation Demographic disparity: 0.0183\n",
      "\n",
      " | Global Training Round : 283 |\n",
      "\n",
      " \n",
      "Avg Training Stats after 283 global rounds:\n",
      "accuracy loss: 17.92 | fairness loss 87.14 | Demographic disparity = 0.02\n",
      "Training loss: 179.17 | Validation accuracy: 64.00% | Validation Demographic disparity: 0.0183\n",
      "\n",
      " | Global Training Round : 284 |\n",
      "\n",
      " \n",
      "Avg Training Stats after 284 global rounds:\n",
      "accuracy loss: 17.92 | fairness loss 87.16 | Demographic disparity = 0.02\n",
      "Training loss: 179.16 | Validation accuracy: 64.00% | Validation Demographic disparity: 0.0183\n",
      "\n",
      " | Global Training Round : 285 |\n",
      "\n",
      " \n",
      "Avg Training Stats after 285 global rounds:\n",
      "accuracy loss: 17.92 | fairness loss 87.17 | Demographic disparity = 0.02\n",
      "Training loss: 179.16 | Validation accuracy: 64.00% | Validation Demographic disparity: 0.0183\n",
      "\n",
      " | Global Training Round : 286 |\n",
      "\n",
      " \n",
      "Avg Training Stats after 286 global rounds:\n",
      "accuracy loss: 17.92 | fairness loss 87.19 | Demographic disparity = 0.02\n",
      "Training loss: 179.16 | Validation accuracy: 64.00% | Validation Demographic disparity: 0.0183\n",
      "\n",
      " | Global Training Round : 287 |\n",
      "\n",
      " \n",
      "Avg Training Stats after 287 global rounds:\n",
      "accuracy loss: 17.92 | fairness loss 87.20 | Demographic disparity = 0.02\n",
      "Training loss: 179.16 | Validation accuracy: 64.00% | Validation Demographic disparity: 0.0183\n",
      "\n",
      " | Global Training Round : 288 |\n",
      "\n",
      " \n",
      "Avg Training Stats after 288 global rounds:\n",
      "accuracy loss: 17.92 | fairness loss 87.22 | Demographic disparity = 0.02\n",
      "Training loss: 179.16 | Validation accuracy: 64.00% | Validation Demographic disparity: 0.0183\n",
      "\n",
      " | Global Training Round : 289 |\n",
      "\n",
      " \n",
      "Avg Training Stats after 289 global rounds:\n",
      "accuracy loss: 17.92 | fairness loss 87.23 | Demographic disparity = 0.02\n",
      "Training loss: 179.15 | Validation accuracy: 64.00% | Validation Demographic disparity: 0.0183\n",
      "\n",
      " | Global Training Round : 290 |\n",
      "\n",
      " \n",
      "Avg Training Stats after 290 global rounds:\n",
      "accuracy loss: 17.92 | fairness loss 87.24 | Demographic disparity = 0.02\n",
      "Training loss: 179.15 | Validation accuracy: 64.00% | Validation Demographic disparity: 0.0183\n",
      "\n",
      " | Global Training Round : 291 |\n",
      "\n",
      " \n",
      "Avg Training Stats after 291 global rounds:\n",
      "accuracy loss: 17.92 | fairness loss 87.25 | Demographic disparity = 0.02\n",
      "Training loss: 179.15 | Validation accuracy: 64.00% | Validation Demographic disparity: 0.0183\n",
      "\n",
      " | Global Training Round : 292 |\n",
      "\n",
      " \n",
      "Avg Training Stats after 292 global rounds:\n",
      "accuracy loss: 17.91 | fairness loss 87.26 | Demographic disparity = 0.02\n",
      "Training loss: 179.15 | Validation accuracy: 64.00% | Validation Demographic disparity: 0.0183\n",
      "\n",
      " | Global Training Round : 293 |\n",
      "\n",
      " \n",
      "Avg Training Stats after 293 global rounds:\n",
      "accuracy loss: 17.91 | fairness loss 87.28 | Demographic disparity = 0.02\n",
      "Training loss: 179.15 | Validation accuracy: 64.00% | Validation Demographic disparity: 0.0183\n",
      "\n",
      " | Global Training Round : 294 |\n",
      "\n"
     ]
    },
    {
     "name": "stderr",
     "output_type": "stream",
     "text": [
      "100%|██████████| 300/300 [00:05<00:00, 55.18it/s]"
     ]
    },
    {
     "name": "stdout",
     "output_type": "stream",
     "text": [
      " \n",
      "Avg Training Stats after 294 global rounds:\n",
      "accuracy loss: 17.91 | fairness loss 87.29 | Demographic disparity = 0.02\n",
      "Training loss: 179.15 | Validation accuracy: 64.00% | Validation Demographic disparity: 0.0183\n",
      "\n",
      " | Global Training Round : 295 |\n",
      "\n",
      " \n",
      "Avg Training Stats after 295 global rounds:\n",
      "accuracy loss: 17.91 | fairness loss 87.30 | Demographic disparity = 0.02\n",
      "Training loss: 179.14 | Validation accuracy: 64.00% | Validation Demographic disparity: 0.0183\n",
      "\n",
      " | Global Training Round : 296 |\n",
      "\n",
      " \n",
      "Avg Training Stats after 296 global rounds:\n",
      "accuracy loss: 17.91 | fairness loss 87.31 | Demographic disparity = 0.02\n",
      "Training loss: 179.14 | Validation accuracy: 64.00% | Validation Demographic disparity: 0.0183\n",
      "\n",
      " | Global Training Round : 297 |\n",
      "\n",
      " \n",
      "Avg Training Stats after 297 global rounds:\n",
      "accuracy loss: 17.91 | fairness loss 87.32 | Demographic disparity = 0.02\n",
      "Training loss: 179.14 | Validation accuracy: 64.00% | Validation Demographic disparity: 0.0183\n",
      "\n",
      " | Global Training Round : 298 |\n",
      "\n",
      " \n",
      "Avg Training Stats after 298 global rounds:\n",
      "accuracy loss: 17.91 | fairness loss 87.32 | Demographic disparity = 0.02\n",
      "Training loss: 179.14 | Validation accuracy: 64.00% | Validation Demographic disparity: 0.0183\n",
      "\n",
      " | Global Training Round : 299 |\n",
      "\n",
      " \n",
      "Avg Training Stats after 299 global rounds:\n",
      "accuracy loss: 17.91 | fairness loss 87.33 | Demographic disparity = 0.02\n",
      "Training loss: 179.14 | Validation accuracy: 64.00% | Validation Demographic disparity: 0.0183\n",
      "\n",
      " | Global Training Round : 300 |\n",
      "\n",
      " \n",
      "Avg Training Stats after 300 global rounds:\n",
      "accuracy loss: 17.91 | fairness loss 87.34 | Demographic disparity = 0.02\n",
      "Training loss: 179.14 | Validation accuracy: 64.00% | Validation Demographic disparity: 0.0183\n",
      " \n",
      " Results after 300 global rounds of training:\n",
      "|---- Avg Train Accuracy: 64.00%\n",
      "|---- Test Accuracy: 62.67%\n",
      "|---- Test Demographic disparity: 0.0207\n",
      "\n",
      " Total Run Time: 5.4495 sec\n"
     ]
    },
    {
     "name": "stderr",
     "output_type": "stream",
     "text": [
      "\n"
     ]
    }
   ],
   "source": [
    "server = Server(logReg(num_features=3, num_classes=2, seed = seed), synthetic_info, train_prn = False, seed = seed)\n",
    "server.FairConstraints(num_epochs = 300, optimizer = 'adam', learning_rate = 0.005, penalty = 20000)\n"
   ]
  },
  {
   "cell_type": "code",
   "execution_count": null,
   "metadata": {},
   "outputs": [],
   "source": []
  }
 ],
 "metadata": {
  "kernelspec": {
   "display_name": "Python 3",
   "language": "python",
   "name": "python3"
  },
  "language_info": {
   "codemirror_mode": {
    "name": "ipython",
    "version": 3
   },
   "file_extension": ".py",
   "mimetype": "text/x-python",
   "name": "python",
   "nbconvert_exporter": "python",
   "pygments_lexer": "ipython3",
   "version": "3.7.4"
  }
 },
 "nbformat": 4,
 "nbformat_minor": 2
}
