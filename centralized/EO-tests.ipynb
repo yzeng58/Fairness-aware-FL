{
 "cells": [
  {
   "cell_type": "code",
   "execution_count": 1,
   "metadata": {},
   "outputs": [],
   "source": [
    "from EOFair import *\n",
    "seed = 123"
   ]
  },
  {
   "cell_type": "code",
   "execution_count": 2,
   "metadata": {},
   "outputs": [],
   "source": [
    "synthetic_info = dataGenerate(seed = 745, test_samples = 300, train_samples = 3000)"
   ]
  },
  {
   "cell_type": "code",
   "execution_count": 3,
   "metadata": {},
   "outputs": [
    {
     "name": "stderr",
     "output_type": "stream",
     "text": [
      "  0%|          | 1/300 [00:00<00:43,  6.95it/s]"
     ]
    },
    {
     "name": "stdout",
     "output_type": "stream",
     "text": [
      "\n",
      " | Global Training Round : 1 |\n",
      "\n",
      "Predictor loss: 16.65 | adversary loss 0.58 | Equal Opportunity Disparity = 0.60\n",
      " \n",
      "Avg Training Stats after 1 global rounds:\n",
      "Training loss: 0.74 | Validation accuracy: 74.67% | Validation Equal Opportunity Disparity: 0.6034\n",
      "\n",
      " | Global Training Round : 2 |\n",
      "\n"
     ]
    },
    {
     "name": "stderr",
     "output_type": "stream",
     "text": [
      "  1%|          | 3/300 [00:00<00:40,  7.37it/s]"
     ]
    },
    {
     "name": "stdout",
     "output_type": "stream",
     "text": [
      "Predictor loss: 13.76 | adversary loss 0.51 | Equal Opportunity Disparity = 0.61\n",
      " \n",
      "Avg Training Stats after 2 global rounds:\n",
      "Training loss: 0.59 | Validation accuracy: 80.67% | Validation Equal Opportunity Disparity: 0.6109\n",
      "\n",
      " | Global Training Round : 3 |\n",
      "\n",
      "Predictor loss: 11.71 | adversary loss 0.48 | Equal Opportunity Disparity = 0.64\n",
      " \n",
      "Avg Training Stats after 3 global rounds:\n",
      "Training loss: 0.49 | Validation accuracy: 84.67% | Validation Equal Opportunity Disparity: 0.6426\n",
      "\n",
      " | Global Training Round : 4 |\n",
      "\n"
     ]
    },
    {
     "name": "stderr",
     "output_type": "stream",
     "text": [
      "  2%|▏         | 5/300 [00:00<00:37,  7.81it/s]"
     ]
    },
    {
     "name": "stdout",
     "output_type": "stream",
     "text": [
      "Predictor loss: 10.37 | adversary loss 0.45 | Equal Opportunity Disparity = 0.68\n",
      " \n",
      "Avg Training Stats after 4 global rounds:\n",
      "Training loss: 0.41 | Validation accuracy: 85.33% | Validation Equal Opportunity Disparity: 0.6775\n",
      "\n",
      " | Global Training Round : 5 |\n",
      "\n",
      "Predictor loss: 9.57 | adversary loss 0.42 | Equal Opportunity Disparity = 0.48\n",
      " \n",
      "Avg Training Stats after 5 global rounds:\n",
      "Training loss: 0.36 | Validation accuracy: 87.67% | Validation Equal Opportunity Disparity: 0.4767\n",
      "\n",
      " | Global Training Round : 6 |\n",
      "\n"
     ]
    },
    {
     "name": "stderr",
     "output_type": "stream",
     "text": [
      "  2%|▏         | 7/300 [00:00<00:35,  8.30it/s]"
     ]
    },
    {
     "name": "stdout",
     "output_type": "stream",
     "text": [
      "Predictor loss: 9.07 | adversary loss 0.40 | Equal Opportunity Disparity = 0.48\n",
      " \n",
      "Avg Training Stats after 6 global rounds:\n",
      "Training loss: 0.33 | Validation accuracy: 88.33% | Validation Equal Opportunity Disparity: 0.4767\n",
      "\n",
      " | Global Training Round : 7 |\n",
      "\n",
      "Predictor loss: 8.75 | adversary loss 0.37 | Equal Opportunity Disparity = 0.48\n",
      " \n",
      "Avg Training Stats after 7 global rounds:\n",
      "Training loss: 0.31 | Validation accuracy: 88.67% | Validation Equal Opportunity Disparity: 0.4767\n",
      "\n",
      " | Global Training Round : 8 |\n",
      "\n"
     ]
    },
    {
     "name": "stderr",
     "output_type": "stream",
     "text": [
      "  3%|▎         | 9/300 [00:01<00:39,  7.39it/s]"
     ]
    },
    {
     "name": "stdout",
     "output_type": "stream",
     "text": [
      "Predictor loss: 8.55 | adversary loss 0.36 | Equal Opportunity Disparity = 0.47\n",
      " \n",
      "Avg Training Stats after 8 global rounds:\n",
      "Training loss: 0.31 | Validation accuracy: 88.33% | Validation Equal Opportunity Disparity: 0.4714\n",
      "\n",
      " | Global Training Round : 9 |\n",
      "\n",
      "Predictor loss: 8.41 | adversary loss 0.35 | Equal Opportunity Disparity = 0.47\n",
      " \n",
      "Avg Training Stats after 9 global rounds:\n",
      "Training loss: 0.31 | Validation accuracy: 88.00% | Validation Equal Opportunity Disparity: 0.4714\n",
      "\n",
      " | Global Training Round : 10 |\n",
      "\n"
     ]
    },
    {
     "name": "stderr",
     "output_type": "stream",
     "text": [
      "  4%|▍         | 12/300 [00:01<00:33,  8.62it/s]"
     ]
    },
    {
     "name": "stdout",
     "output_type": "stream",
     "text": [
      "Predictor loss: 8.32 | adversary loss 0.33 | Equal Opportunity Disparity = 0.47\n",
      " \n",
      "Avg Training Stats after 10 global rounds:\n",
      "Training loss: 0.29 | Validation accuracy: 88.33% | Validation Equal Opportunity Disparity: 0.4714\n",
      "\n",
      " | Global Training Round : 11 |\n",
      "\n",
      "Predictor loss: 8.26 | adversary loss 0.33 | Equal Opportunity Disparity = 0.43\n",
      " \n",
      "Avg Training Stats after 11 global rounds:\n",
      "Training loss: 0.30 | Validation accuracy: 88.67% | Validation Equal Opportunity Disparity: 0.4259\n",
      "\n",
      " | Global Training Round : 12 |\n",
      "\n",
      "Predictor loss: 8.23 | adversary loss 0.33 | Equal Opportunity Disparity = 0.43\n",
      " \n",
      "Avg Training Stats after 12 global rounds:\n",
      "Training loss: 0.28 | Validation accuracy: 88.67% | Validation Equal Opportunity Disparity: 0.4259\n",
      "\n",
      " | Global Training Round : 13 |\n",
      "\n"
     ]
    },
    {
     "name": "stderr",
     "output_type": "stream",
     "text": [
      "  5%|▌         | 15/300 [00:01<00:32,  8.83it/s]"
     ]
    },
    {
     "name": "stdout",
     "output_type": "stream",
     "text": [
      "Predictor loss: 8.18 | adversary loss 0.31 | Equal Opportunity Disparity = 0.43\n",
      " \n",
      "Avg Training Stats after 13 global rounds:\n",
      "Training loss: 0.29 | Validation accuracy: 88.67% | Validation Equal Opportunity Disparity: 0.4259\n",
      "\n",
      " | Global Training Round : 14 |\n",
      "\n",
      "Predictor loss: 8.17 | adversary loss 0.31 | Equal Opportunity Disparity = 0.43\n",
      " \n",
      "Avg Training Stats after 14 global rounds:\n",
      "Training loss: 0.29 | Validation accuracy: 88.67% | Validation Equal Opportunity Disparity: 0.4259\n",
      "\n",
      " | Global Training Round : 15 |\n",
      "\n",
      "Predictor loss: 8.18 | adversary loss 0.31 | Equal Opportunity Disparity = 0.42\n",
      " \n",
      "Avg Training Stats after 15 global rounds:\n",
      "Training loss: 0.29 | Validation accuracy: 88.33% | Validation Equal Opportunity Disparity: 0.4206\n",
      "\n",
      " | Global Training Round : 16 |\n",
      "\n"
     ]
    },
    {
     "name": "stderr",
     "output_type": "stream",
     "text": [
      "  6%|▌         | 17/300 [00:02<00:33,  8.57it/s]"
     ]
    },
    {
     "name": "stdout",
     "output_type": "stream",
     "text": [
      "Predictor loss: 8.14 | adversary loss 0.30 | Equal Opportunity Disparity = 0.43\n",
      " \n",
      "Avg Training Stats after 16 global rounds:\n",
      "Training loss: 0.30 | Validation accuracy: 88.67% | Validation Equal Opportunity Disparity: 0.4259\n",
      "\n",
      " | Global Training Round : 17 |\n",
      "\n",
      "Predictor loss: 8.14 | adversary loss 0.30 | Equal Opportunity Disparity = 0.42\n",
      " \n",
      "Avg Training Stats after 17 global rounds:\n",
      "Training loss: 0.29 | Validation accuracy: 88.67% | Validation Equal Opportunity Disparity: 0.4206\n",
      "\n",
      " | Global Training Round : 18 |\n",
      "\n"
     ]
    },
    {
     "name": "stderr",
     "output_type": "stream",
     "text": [
      "  6%|▋         | 19/300 [00:02<00:32,  8.53it/s]"
     ]
    },
    {
     "name": "stdout",
     "output_type": "stream",
     "text": [
      "Predictor loss: 8.13 | adversary loss 0.30 | Equal Opportunity Disparity = 0.43\n",
      " \n",
      "Avg Training Stats after 18 global rounds:\n",
      "Training loss: 0.28 | Validation accuracy: 88.67% | Validation Equal Opportunity Disparity: 0.4259\n",
      "\n",
      " | Global Training Round : 19 |\n",
      "\n",
      "Predictor loss: 8.12 | adversary loss 0.30 | Equal Opportunity Disparity = 0.43\n",
      " \n",
      "Avg Training Stats after 19 global rounds:\n",
      "Training loss: 0.28 | Validation accuracy: 89.00% | Validation Equal Opportunity Disparity: 0.4259\n",
      "\n",
      " | Global Training Round : 20 |\n",
      "\n"
     ]
    },
    {
     "name": "stderr",
     "output_type": "stream",
     "text": [
      "  7%|▋         | 22/300 [00:02<00:30,  9.20it/s]"
     ]
    },
    {
     "name": "stdout",
     "output_type": "stream",
     "text": [
      "Predictor loss: 8.12 | adversary loss 0.29 | Equal Opportunity Disparity = 0.43\n",
      " \n",
      "Avg Training Stats after 20 global rounds:\n",
      "Training loss: 0.28 | Validation accuracy: 89.00% | Validation Equal Opportunity Disparity: 0.4259\n",
      "\n",
      " | Global Training Round : 21 |\n",
      "\n",
      "Predictor loss: 8.11 | adversary loss 0.29 | Equal Opportunity Disparity = 0.43\n",
      " \n",
      "Avg Training Stats after 21 global rounds:\n",
      "Training loss: 0.28 | Validation accuracy: 89.00% | Validation Equal Opportunity Disparity: 0.4259\n",
      "\n",
      " | Global Training Round : 22 |\n",
      "\n",
      "Predictor loss: 8.12 | adversary loss 0.30 | Equal Opportunity Disparity = 0.42\n",
      " \n",
      "Avg Training Stats after 22 global rounds:\n",
      "Training loss: 0.29 | Validation accuracy: 88.67% | Validation Equal Opportunity Disparity: 0.4206\n",
      "\n",
      " | Global Training Round : 23 |\n",
      "\n"
     ]
    },
    {
     "name": "stderr",
     "output_type": "stream",
     "text": [
      "  8%|▊         | 24/300 [00:02<00:31,  8.83it/s]"
     ]
    },
    {
     "name": "stdout",
     "output_type": "stream",
     "text": [
      "Predictor loss: 8.11 | adversary loss 0.29 | Equal Opportunity Disparity = 0.42\n",
      " \n",
      "Avg Training Stats after 23 global rounds:\n",
      "Training loss: 0.29 | Validation accuracy: 88.67% | Validation Equal Opportunity Disparity: 0.4206\n",
      "\n",
      " | Global Training Round : 24 |\n",
      "\n",
      "Predictor loss: 8.11 | adversary loss 0.29 | Equal Opportunity Disparity = 0.42\n",
      " \n",
      "Avg Training Stats after 24 global rounds:\n",
      "Training loss: 0.29 | Validation accuracy: 88.67% | Validation Equal Opportunity Disparity: 0.4206\n",
      "\n",
      " | Global Training Round : 25 |\n",
      "\n",
      "Predictor loss: 8.11 | adversary loss 0.29 | Equal Opportunity Disparity = 0.42\n",
      " \n",
      "Avg Training Stats after 25 global rounds:\n",
      "Training loss: 0.28 | Validation accuracy: 88.67% | Validation Equal Opportunity Disparity: 0.4206\n",
      "\n",
      " | Global Training Round : 26 |\n",
      "\n"
     ]
    },
    {
     "name": "stderr",
     "output_type": "stream",
     "text": [
      "  9%|▉         | 28/300 [00:03<00:27, 10.03it/s]"
     ]
    },
    {
     "name": "stdout",
     "output_type": "stream",
     "text": [
      "Predictor loss: 8.11 | adversary loss 0.28 | Equal Opportunity Disparity = 0.42\n",
      " \n",
      "Avg Training Stats after 26 global rounds:\n",
      "Training loss: 0.29 | Validation accuracy: 88.67% | Validation Equal Opportunity Disparity: 0.4206\n",
      "\n",
      " | Global Training Round : 27 |\n",
      "\n",
      "Predictor loss: 8.11 | adversary loss 0.29 | Equal Opportunity Disparity = 0.42\n",
      " \n",
      "Avg Training Stats after 27 global rounds:\n",
      "Training loss: 0.29 | Validation accuracy: 88.67% | Validation Equal Opportunity Disparity: 0.4206\n",
      "\n",
      " | Global Training Round : 28 |\n",
      "\n",
      "Predictor loss: 8.10 | adversary loss 0.28 | Equal Opportunity Disparity = 0.42\n",
      " \n",
      "Avg Training Stats after 28 global rounds:\n",
      "Training loss: 0.29 | Validation accuracy: 88.67% | Validation Equal Opportunity Disparity: 0.4206\n",
      "\n",
      " | Global Training Round : 29 |\n",
      "\n"
     ]
    },
    {
     "name": "stderr",
     "output_type": "stream",
     "text": [
      "\r",
      " 10%|█         | 30/300 [00:03<00:25, 10.41it/s]"
     ]
    },
    {
     "name": "stdout",
     "output_type": "stream",
     "text": [
      "Predictor loss: 8.10 | adversary loss 0.28 | Equal Opportunity Disparity = 0.38\n",
      " \n",
      "Avg Training Stats after 29 global rounds:\n",
      "Training loss: 0.28 | Validation accuracy: 89.00% | Validation Equal Opportunity Disparity: 0.3805\n",
      "\n",
      " | Global Training Round : 30 |\n",
      "\n",
      "Predictor loss: 8.10 | adversary loss 0.28 | Equal Opportunity Disparity = 0.38\n",
      " \n",
      "Avg Training Stats after 30 global rounds:\n",
      "Training loss: 0.29 | Validation accuracy: 89.00% | Validation Equal Opportunity Disparity: 0.3805\n",
      "\n",
      " | Global Training Round : 31 |\n",
      "\n",
      "Predictor loss: 8.12 | adversary loss 0.29 | Equal Opportunity Disparity = 0.42\n",
      " \n",
      "Avg Training Stats after 31 global rounds:\n",
      "Training loss: 0.30 | Validation accuracy: 88.67% | Validation Equal Opportunity Disparity: 0.4206\n",
      "\n",
      " | Global Training Round : 32 |\n",
      "\n"
     ]
    },
    {
     "name": "stderr",
     "output_type": "stream",
     "text": [
      " 11%|█▏        | 34/300 [00:03<00:25, 10.31it/s]"
     ]
    },
    {
     "name": "stdout",
     "output_type": "stream",
     "text": [
      "Predictor loss: 8.10 | adversary loss 0.28 | Equal Opportunity Disparity = 0.38\n",
      " \n",
      "Avg Training Stats after 32 global rounds:\n",
      "Training loss: 0.28 | Validation accuracy: 89.00% | Validation Equal Opportunity Disparity: 0.3805\n",
      "\n",
      " | Global Training Round : 33 |\n",
      "\n",
      "Predictor loss: 8.10 | adversary loss 0.28 | Equal Opportunity Disparity = 0.38\n",
      " \n",
      "Avg Training Stats after 33 global rounds:\n",
      "Training loss: 0.28 | Validation accuracy: 89.00% | Validation Equal Opportunity Disparity: 0.3805\n",
      "\n",
      " | Global Training Round : 34 |\n",
      "\n",
      "Predictor loss: 8.11 | adversary loss 0.28 | Equal Opportunity Disparity = 0.42\n",
      " \n",
      "Avg Training Stats after 34 global rounds:\n",
      "Training loss: 0.29 | Validation accuracy: 88.67% | Validation Equal Opportunity Disparity: 0.4206\n",
      "\n",
      " | Global Training Round : 35 |\n",
      "\n"
     ]
    },
    {
     "name": "stderr",
     "output_type": "stream",
     "text": [
      "\r",
      " 12%|█▏        | 36/300 [00:03<00:25, 10.34it/s]"
     ]
    },
    {
     "name": "stdout",
     "output_type": "stream",
     "text": [
      "Predictor loss: 8.11 | adversary loss 0.28 | Equal Opportunity Disparity = 0.42\n",
      " \n",
      "Avg Training Stats after 35 global rounds:\n",
      "Training loss: 0.28 | Validation accuracy: 88.67% | Validation Equal Opportunity Disparity: 0.4206\n",
      "\n",
      " | Global Training Round : 36 |\n",
      "\n",
      "Predictor loss: 8.10 | adversary loss 0.27 | Equal Opportunity Disparity = 0.38\n",
      " \n",
      "Avg Training Stats after 36 global rounds:\n",
      "Training loss: 0.29 | Validation accuracy: 89.00% | Validation Equal Opportunity Disparity: 0.3805\n",
      "\n",
      " | Global Training Round : 37 |\n",
      "\n",
      "Predictor loss: 8.11 | adversary loss 0.27 | Equal Opportunity Disparity = 0.38\n",
      " \n",
      "Avg Training Stats after 37 global rounds:\n",
      "Training loss: 0.28 | Validation accuracy: 89.00% | Validation Equal Opportunity Disparity: 0.3805\n",
      "\n",
      " | Global Training Round : 38 |\n",
      "\n"
     ]
    },
    {
     "name": "stderr",
     "output_type": "stream",
     "text": [
      " 13%|█▎        | 40/300 [00:04<00:24, 10.47it/s]"
     ]
    },
    {
     "name": "stdout",
     "output_type": "stream",
     "text": [
      "Predictor loss: 8.11 | adversary loss 0.27 | Equal Opportunity Disparity = 0.38\n",
      " \n",
      "Avg Training Stats after 38 global rounds:\n",
      "Training loss: 0.28 | Validation accuracy: 89.00% | Validation Equal Opportunity Disparity: 0.3805\n",
      "\n",
      " | Global Training Round : 39 |\n",
      "\n",
      "Predictor loss: 8.10 | adversary loss 0.27 | Equal Opportunity Disparity = 0.38\n",
      " \n",
      "Avg Training Stats after 39 global rounds:\n",
      "Training loss: 0.28 | Validation accuracy: 89.00% | Validation Equal Opportunity Disparity: 0.3805\n",
      "\n",
      " | Global Training Round : 40 |\n",
      "\n",
      "Predictor loss: 8.10 | adversary loss 0.26 | Equal Opportunity Disparity = 0.38\n",
      " \n",
      "Avg Training Stats after 40 global rounds:\n",
      "Training loss: 0.28 | Validation accuracy: 89.00% | Validation Equal Opportunity Disparity: 0.3805\n",
      "\n",
      " | Global Training Round : 41 |\n",
      "\n"
     ]
    },
    {
     "name": "stderr",
     "output_type": "stream",
     "text": [
      "\r",
      " 14%|█▍        | 42/300 [00:04<00:24, 10.54it/s]"
     ]
    },
    {
     "name": "stdout",
     "output_type": "stream",
     "text": [
      "Predictor loss: 8.10 | adversary loss 0.27 | Equal Opportunity Disparity = 0.38\n",
      " \n",
      "Avg Training Stats after 41 global rounds:\n",
      "Training loss: 0.28 | Validation accuracy: 89.00% | Validation Equal Opportunity Disparity: 0.3805\n",
      "\n",
      " | Global Training Round : 42 |\n",
      "\n",
      "Predictor loss: 8.10 | adversary loss 0.27 | Equal Opportunity Disparity = 0.38\n",
      " \n",
      "Avg Training Stats after 42 global rounds:\n",
      "Training loss: 0.28 | Validation accuracy: 89.00% | Validation Equal Opportunity Disparity: 0.3805\n",
      "\n",
      " | Global Training Round : 43 |\n",
      "\n",
      "Predictor loss: 8.11 | adversary loss 0.26 | Equal Opportunity Disparity = 0.38\n",
      " \n",
      "Avg Training Stats after 43 global rounds:\n",
      "Training loss: 0.28 | Validation accuracy: 89.00% | Validation Equal Opportunity Disparity: 0.3805\n",
      "\n",
      " | Global Training Round : 44 |\n",
      "\n"
     ]
    },
    {
     "name": "stderr",
     "output_type": "stream",
     "text": [
      " 15%|█▌        | 46/300 [00:04<00:24, 10.57it/s]"
     ]
    },
    {
     "name": "stdout",
     "output_type": "stream",
     "text": [
      "Predictor loss: 8.10 | adversary loss 0.26 | Equal Opportunity Disparity = 0.38\n",
      " \n",
      "Avg Training Stats after 44 global rounds:\n",
      "Training loss: 0.29 | Validation accuracy: 89.00% | Validation Equal Opportunity Disparity: 0.3805\n",
      "\n",
      " | Global Training Round : 45 |\n",
      "\n",
      "Predictor loss: 8.10 | adversary loss 0.26 | Equal Opportunity Disparity = 0.38\n",
      " \n",
      "Avg Training Stats after 45 global rounds:\n",
      "Training loss: 0.28 | Validation accuracy: 89.00% | Validation Equal Opportunity Disparity: 0.3805\n",
      "\n",
      " | Global Training Round : 46 |\n",
      "\n",
      "Predictor loss: 8.10 | adversary loss 0.26 | Equal Opportunity Disparity = 0.38\n",
      " \n",
      "Avg Training Stats after 46 global rounds:\n",
      "Training loss: 0.29 | Validation accuracy: 89.00% | Validation Equal Opportunity Disparity: 0.3805\n",
      "\n",
      " | Global Training Round : 47 |\n",
      "\n"
     ]
    },
    {
     "name": "stderr",
     "output_type": "stream",
     "text": [
      "\r",
      " 16%|█▌        | 48/300 [00:05<00:23, 10.56it/s]"
     ]
    },
    {
     "name": "stdout",
     "output_type": "stream",
     "text": [
      "Predictor loss: 8.10 | adversary loss 0.26 | Equal Opportunity Disparity = 0.38\n",
      " \n",
      "Avg Training Stats after 47 global rounds:\n",
      "Training loss: 0.30 | Validation accuracy: 89.00% | Validation Equal Opportunity Disparity: 0.3805\n",
      "\n",
      " | Global Training Round : 48 |\n",
      "\n",
      "Predictor loss: 8.11 | adversary loss 0.26 | Equal Opportunity Disparity = 0.38\n",
      " \n",
      "Avg Training Stats after 48 global rounds:\n",
      "Training loss: 0.29 | Validation accuracy: 89.00% | Validation Equal Opportunity Disparity: 0.3805\n",
      "\n",
      " | Global Training Round : 49 |\n",
      "\n",
      "Predictor loss: 8.10 | adversary loss 0.26 | Equal Opportunity Disparity = 0.42\n",
      " \n",
      "Avg Training Stats after 49 global rounds:\n",
      "Training loss: 0.28 | Validation accuracy: 88.67% | Validation Equal Opportunity Disparity: 0.4206\n",
      "\n",
      " | Global Training Round : 50 |\n",
      "\n"
     ]
    },
    {
     "name": "stderr",
     "output_type": "stream",
     "text": [
      " 17%|█▋        | 52/300 [00:05<00:23, 10.68it/s]"
     ]
    },
    {
     "name": "stdout",
     "output_type": "stream",
     "text": [
      "Predictor loss: 8.10 | adversary loss 0.25 | Equal Opportunity Disparity = 0.38\n",
      " \n",
      "Avg Training Stats after 50 global rounds:\n",
      "Training loss: 0.28 | Validation accuracy: 89.00% | Validation Equal Opportunity Disparity: 0.3805\n",
      "\n",
      " | Global Training Round : 51 |\n",
      "\n",
      "Predictor loss: 8.10 | adversary loss 0.25 | Equal Opportunity Disparity = 0.38\n",
      " \n",
      "Avg Training Stats after 51 global rounds:\n",
      "Training loss: 0.28 | Validation accuracy: 89.00% | Validation Equal Opportunity Disparity: 0.3805\n",
      "\n",
      " | Global Training Round : 52 |\n",
      "\n",
      "Predictor loss: 10.11 | adversary loss 0.73 | Equal Opportunity Disparity = 0.28\n",
      " \n",
      "Avg Training Stats after 52 global rounds:\n",
      "Training loss: 0.30 | Validation accuracy: 86.33% | Validation Equal Opportunity Disparity: 0.2821\n",
      "\n",
      " | Global Training Round : 53 |\n",
      "\n"
     ]
    },
    {
     "name": "stderr",
     "output_type": "stream",
     "text": [
      "\r",
      " 18%|█▊        | 54/300 [00:05<00:22, 10.99it/s]"
     ]
    },
    {
     "name": "stdout",
     "output_type": "stream",
     "text": [
      "Predictor loss: 10.11 | adversary loss 0.64 | Equal Opportunity Disparity = 0.28\n",
      " \n",
      "Avg Training Stats after 53 global rounds:\n",
      "Training loss: 0.33 | Validation accuracy: 86.33% | Validation Equal Opportunity Disparity: 0.2821\n",
      "\n",
      " | Global Training Round : 54 |\n",
      "\n",
      "Predictor loss: 10.11 | adversary loss 0.59 | Equal Opportunity Disparity = 0.28\n",
      " \n",
      "Avg Training Stats after 54 global rounds:\n",
      "Training loss: 0.34 | Validation accuracy: 86.33% | Validation Equal Opportunity Disparity: 0.2821\n",
      "\n",
      " | Global Training Round : 55 |\n",
      "\n",
      "Predictor loss: 49.18 | adversary loss 2.15 | Equal Opportunity Disparity = 0.40\n",
      " \n",
      "Avg Training Stats after 55 global rounds:\n",
      "Training loss: 0.72 | Validation accuracy: 38.00% | Validation Equal Opportunity Disparity: 0.3992\n",
      "\n",
      " | Global Training Round : 56 |\n",
      "\n"
     ]
    },
    {
     "name": "stderr",
     "output_type": "stream",
     "text": [
      " 19%|█▉        | 58/300 [00:05<00:21, 11.03it/s]"
     ]
    },
    {
     "name": "stdout",
     "output_type": "stream",
     "text": [
      "Predictor loss: 49.18 | adversary loss 1.07 | Equal Opportunity Disparity = 0.40\n",
      " \n",
      "Avg Training Stats after 56 global rounds:\n",
      "Training loss: 1.54 | Validation accuracy: 38.00% | Validation Equal Opportunity Disparity: 0.3992\n",
      "\n",
      " | Global Training Round : 57 |\n",
      "\n",
      "Predictor loss: 49.18 | adversary loss 0.71 | Equal Opportunity Disparity = 0.40\n",
      " \n",
      "Avg Training Stats after 57 global rounds:\n",
      "Training loss: 1.54 | Validation accuracy: 38.00% | Validation Equal Opportunity Disparity: 0.3992\n",
      "\n",
      " | Global Training Round : 58 |\n",
      "\n",
      "Predictor loss: 76.98 | adversary loss 0.68 | Equal Opportunity Disparity = 0.52\n",
      " \n",
      "Avg Training Stats after 58 global rounds:\n",
      "Training loss: 2.20 | Validation accuracy: 28.67% | Validation Equal Opportunity Disparity: 0.5241\n",
      "\n",
      " | Global Training Round : 59 |\n",
      "\n"
     ]
    },
    {
     "name": "stderr",
     "output_type": "stream",
     "text": [
      "\r",
      " 20%|██        | 60/300 [00:06<00:21, 11.18it/s]"
     ]
    },
    {
     "name": "stdout",
     "output_type": "stream",
     "text": [
      "Predictor loss: 76.98 | adversary loss 0.51 | Equal Opportunity Disparity = 0.52\n",
      " \n",
      "Avg Training Stats after 59 global rounds:\n",
      "Training loss: 2.49 | Validation accuracy: 28.67% | Validation Equal Opportunity Disparity: 0.5241\n",
      "\n",
      " | Global Training Round : 60 |\n",
      "\n",
      "Predictor loss: 76.98 | adversary loss 0.43 | Equal Opportunity Disparity = 0.52\n",
      " \n",
      "Avg Training Stats after 60 global rounds:\n",
      "Training loss: 2.49 | Validation accuracy: 28.67% | Validation Equal Opportunity Disparity: 0.5241\n",
      "\n",
      " | Global Training Round : 61 |\n",
      "\n",
      "Predictor loss: 49.11 | adversary loss 0.43 | Equal Opportunity Disparity = 0.33\n",
      " \n",
      "Avg Training Stats after 61 global rounds:\n",
      "Training loss: 2.09 | Validation accuracy: 41.00% | Validation Equal Opportunity Disparity: 0.3252\n",
      "\n",
      " | Global Training Round : 62 |\n",
      "\n"
     ]
    },
    {
     "name": "stderr",
     "output_type": "stream",
     "text": [
      " 21%|██▏       | 64/300 [00:06<00:21, 11.11it/s]"
     ]
    },
    {
     "name": "stdout",
     "output_type": "stream",
     "text": [
      "Predictor loss: 49.11 | adversary loss 0.41 | Equal Opportunity Disparity = 0.33\n",
      " \n",
      "Avg Training Stats after 62 global rounds:\n",
      "Training loss: 1.56 | Validation accuracy: 41.00% | Validation Equal Opportunity Disparity: 0.3252\n",
      "\n",
      " | Global Training Round : 63 |\n",
      "\n",
      "Predictor loss: 49.11 | adversary loss 0.39 | Equal Opportunity Disparity = 0.33\n",
      " \n",
      "Avg Training Stats after 63 global rounds:\n",
      "Training loss: 1.60 | Validation accuracy: 41.00% | Validation Equal Opportunity Disparity: 0.3252\n",
      "\n",
      " | Global Training Round : 64 |\n",
      "\n",
      "Predictor loss: 24.72 | adversary loss 0.49 | Equal Opportunity Disparity = 0.08\n",
      " \n",
      "Avg Training Stats after 64 global rounds:\n",
      "Training loss: 1.14 | Validation accuracy: 60.33% | Validation Equal Opportunity Disparity: 0.0839\n",
      "\n",
      " | Global Training Round : 65 |\n",
      "\n"
     ]
    },
    {
     "name": "stderr",
     "output_type": "stream",
     "text": [
      "\r",
      " 22%|██▏       | 66/300 [00:06<00:20, 11.49it/s]"
     ]
    },
    {
     "name": "stdout",
     "output_type": "stream",
     "text": [
      "Predictor loss: 24.72 | adversary loss 0.49 | Equal Opportunity Disparity = 0.08\n",
      " \n",
      "Avg Training Stats after 65 global rounds:\n",
      "Training loss: 0.80 | Validation accuracy: 60.33% | Validation Equal Opportunity Disparity: 0.0839\n",
      "\n",
      " | Global Training Round : 66 |\n",
      "\n",
      "Predictor loss: 24.72 | adversary loss 0.48 | Equal Opportunity Disparity = 0.08\n",
      " \n",
      "Avg Training Stats after 66 global rounds:\n",
      "Training loss: 0.79 | Validation accuracy: 60.33% | Validation Equal Opportunity Disparity: 0.0839\n",
      "\n",
      " | Global Training Round : 67 |\n",
      "\n",
      "Predictor loss: 15.12 | adversary loss 0.67 | Equal Opportunity Disparity = 0.17\n",
      " \n",
      "Avg Training Stats after 67 global rounds:\n",
      "Training loss: 0.63 | Validation accuracy: 77.67% | Validation Equal Opportunity Disparity: 0.1657\n",
      "\n",
      " | Global Training Round : 68 |\n",
      "\n"
     ]
    },
    {
     "name": "stderr",
     "output_type": "stream",
     "text": [
      " 23%|██▎       | 70/300 [00:07<00:20, 11.01it/s]"
     ]
    },
    {
     "name": "stdout",
     "output_type": "stream",
     "text": [
      "Predictor loss: 15.12 | adversary loss 0.65 | Equal Opportunity Disparity = 0.17\n",
      " \n",
      "Avg Training Stats after 68 global rounds:\n",
      "Training loss: 0.49 | Validation accuracy: 77.67% | Validation Equal Opportunity Disparity: 0.1657\n",
      "\n",
      " | Global Training Round : 69 |\n",
      "\n",
      "Predictor loss: 15.12 | adversary loss 0.64 | Equal Opportunity Disparity = 0.17\n",
      " \n",
      "Avg Training Stats after 69 global rounds:\n",
      "Training loss: 0.50 | Validation accuracy: 77.67% | Validation Equal Opportunity Disparity: 0.1657\n",
      "\n",
      " | Global Training Round : 70 |\n",
      "\n",
      "Predictor loss: 12.65 | adversary loss 0.93 | Equal Opportunity Disparity = 0.21\n",
      " \n",
      "Avg Training Stats after 70 global rounds:\n",
      "Training loss: 0.45 | Validation accuracy: 81.33% | Validation Equal Opportunity Disparity: 0.2080\n",
      "\n",
      " | Global Training Round : 71 |\n",
      "\n"
     ]
    },
    {
     "name": "stderr",
     "output_type": "stream",
     "text": [
      "\r",
      " 24%|██▍       | 72/300 [00:07<00:20, 11.11it/s]"
     ]
    },
    {
     "name": "stdout",
     "output_type": "stream",
     "text": [
      "Predictor loss: 12.65 | adversary loss 0.88 | Equal Opportunity Disparity = 0.21\n",
      " \n",
      "Avg Training Stats after 71 global rounds:\n",
      "Training loss: 0.43 | Validation accuracy: 81.33% | Validation Equal Opportunity Disparity: 0.2080\n",
      "\n",
      " | Global Training Round : 72 |\n",
      "\n",
      "Predictor loss: 12.65 | adversary loss 0.84 | Equal Opportunity Disparity = 0.21\n",
      " \n",
      "Avg Training Stats after 72 global rounds:\n",
      "Training loss: 0.42 | Validation accuracy: 81.33% | Validation Equal Opportunity Disparity: 0.2080\n",
      "\n",
      " | Global Training Round : 73 |\n",
      "\n",
      "Predictor loss: 12.77 | adversary loss 1.16 | Equal Opportunity Disparity = 0.20\n",
      " \n",
      "Avg Training Stats after 73 global rounds:\n",
      "Training loss: 0.43 | Validation accuracy: 81.00% | Validation Equal Opportunity Disparity: 0.2027\n",
      "\n",
      " | Global Training Round : 74 |\n",
      "\n"
     ]
    },
    {
     "name": "stderr",
     "output_type": "stream",
     "text": [
      " 25%|██▌       | 76/300 [00:07<00:19, 11.57it/s]"
     ]
    },
    {
     "name": "stdout",
     "output_type": "stream",
     "text": [
      "Predictor loss: 12.77 | adversary loss 1.02 | Equal Opportunity Disparity = 0.20\n",
      " \n",
      "Avg Training Stats after 74 global rounds:\n",
      "Training loss: 0.43 | Validation accuracy: 81.00% | Validation Equal Opportunity Disparity: 0.2027\n",
      "\n",
      " | Global Training Round : 75 |\n",
      "\n",
      "Predictor loss: 12.77 | adversary loss 0.91 | Equal Opportunity Disparity = 0.20\n",
      " \n",
      "Avg Training Stats after 75 global rounds:\n",
      "Training loss: 0.43 | Validation accuracy: 81.00% | Validation Equal Opportunity Disparity: 0.2027\n",
      "\n",
      " | Global Training Round : 76 |\n",
      "\n",
      "Predictor loss: 14.86 | adversary loss 1.07 | Equal Opportunity Disparity = 0.18\n",
      " \n",
      "Avg Training Stats after 76 global rounds:\n",
      "Training loss: 0.45 | Validation accuracy: 78.33% | Validation Equal Opportunity Disparity: 0.1763\n",
      "\n",
      " | Global Training Round : 77 |\n",
      "\n"
     ]
    },
    {
     "name": "stderr",
     "output_type": "stream",
     "text": [
      "\r",
      " 26%|██▌       | 78/300 [00:07<00:18, 11.71it/s]"
     ]
    },
    {
     "name": "stdout",
     "output_type": "stream",
     "text": [
      "Predictor loss: 14.86 | adversary loss 0.84 | Equal Opportunity Disparity = 0.18\n",
      " \n",
      "Avg Training Stats after 77 global rounds:\n",
      "Training loss: 0.52 | Validation accuracy: 78.33% | Validation Equal Opportunity Disparity: 0.1763\n",
      "\n",
      " | Global Training Round : 78 |\n",
      "\n",
      "Predictor loss: 14.86 | adversary loss 0.71 | Equal Opportunity Disparity = 0.18\n",
      " \n",
      "Avg Training Stats after 78 global rounds:\n",
      "Training loss: 0.49 | Validation accuracy: 78.33% | Validation Equal Opportunity Disparity: 0.1763\n",
      "\n",
      " | Global Training Round : 79 |\n",
      "\n",
      "Predictor loss: 17.22 | adversary loss 0.64 | Equal Opportunity Disparity = 0.08\n",
      " \n",
      "Avg Training Stats after 79 global rounds:\n",
      "Training loss: 0.52 | Validation accuracy: 72.00% | Validation Equal Opportunity Disparity: 0.0832\n",
      "\n",
      " | Global Training Round : 80 |\n",
      "\n"
     ]
    },
    {
     "name": "stderr",
     "output_type": "stream",
     "text": [
      " 27%|██▋       | 82/300 [00:08<00:18, 11.80it/s]"
     ]
    },
    {
     "name": "stdout",
     "output_type": "stream",
     "text": [
      "Predictor loss: 17.22 | adversary loss 0.53 | Equal Opportunity Disparity = 0.08\n",
      " \n",
      "Avg Training Stats after 80 global rounds:\n",
      "Training loss: 0.56 | Validation accuracy: 72.00% | Validation Equal Opportunity Disparity: 0.0832\n",
      "\n",
      " | Global Training Round : 81 |\n",
      "\n",
      "Predictor loss: 17.22 | adversary loss 0.47 | Equal Opportunity Disparity = 0.08\n",
      " \n",
      "Avg Training Stats after 81 global rounds:\n",
      "Training loss: 0.58 | Validation accuracy: 72.00% | Validation Equal Opportunity Disparity: 0.0832\n",
      "\n",
      " | Global Training Round : 82 |\n",
      "\n",
      "Predictor loss: 16.03 | adversary loss 0.44 | Equal Opportunity Disparity = 0.13\n",
      " \n",
      "Avg Training Stats after 82 global rounds:\n",
      "Training loss: 0.56 | Validation accuracy: 75.33% | Validation Equal Opportunity Disparity: 0.1308\n",
      "\n",
      " | Global Training Round : 83 |\n",
      "\n"
     ]
    },
    {
     "name": "stderr",
     "output_type": "stream",
     "text": [
      "\r",
      " 28%|██▊       | 84/300 [00:08<00:17, 12.15it/s]"
     ]
    },
    {
     "name": "stdout",
     "output_type": "stream",
     "text": [
      "Predictor loss: 16.03 | adversary loss 0.43 | Equal Opportunity Disparity = 0.13\n",
      " \n",
      "Avg Training Stats after 83 global rounds:\n",
      "Training loss: 0.53 | Validation accuracy: 75.33% | Validation Equal Opportunity Disparity: 0.1308\n",
      "\n",
      " | Global Training Round : 84 |\n",
      "\n",
      "Predictor loss: 16.03 | adversary loss 0.41 | Equal Opportunity Disparity = 0.13\n",
      " \n",
      "Avg Training Stats after 84 global rounds:\n",
      "Training loss: 0.52 | Validation accuracy: 75.33% | Validation Equal Opportunity Disparity: 0.1308\n",
      "\n",
      " | Global Training Round : 85 |\n",
      "\n",
      "Predictor loss: 13.29 | adversary loss 0.42 | Equal Opportunity Disparity = 0.24\n",
      " \n",
      "Avg Training Stats after 85 global rounds:\n",
      "Training loss: 0.49 | Validation accuracy: 81.33% | Validation Equal Opportunity Disparity: 0.2398\n",
      "\n",
      " | Global Training Round : 86 |\n",
      "\n"
     ]
    },
    {
     "name": "stderr",
     "output_type": "stream",
     "text": [
      " 29%|██▉       | 88/300 [00:08<00:17, 12.07it/s]"
     ]
    },
    {
     "name": "stdout",
     "output_type": "stream",
     "text": [
      "Predictor loss: 13.29 | adversary loss 0.42 | Equal Opportunity Disparity = 0.24\n",
      " \n",
      "Avg Training Stats after 86 global rounds:\n",
      "Training loss: 0.46 | Validation accuracy: 81.33% | Validation Equal Opportunity Disparity: 0.2398\n",
      "\n",
      " | Global Training Round : 87 |\n",
      "\n",
      "Predictor loss: 13.29 | adversary loss 0.42 | Equal Opportunity Disparity = 0.24\n",
      " \n",
      "Avg Training Stats after 87 global rounds:\n",
      "Training loss: 0.45 | Validation accuracy: 81.33% | Validation Equal Opportunity Disparity: 0.2398\n",
      "\n",
      " | Global Training Round : 88 |\n",
      "\n",
      "Predictor loss: 11.48 | adversary loss 0.44 | Equal Opportunity Disparity = 0.27\n",
      " \n",
      "Avg Training Stats after 88 global rounds:\n",
      "Training loss: 0.41 | Validation accuracy: 83.67% | Validation Equal Opportunity Disparity: 0.2715\n",
      "\n",
      " | Global Training Round : 89 |\n",
      "\n"
     ]
    },
    {
     "name": "stderr",
     "output_type": "stream",
     "text": [
      "\r",
      " 30%|███       | 90/300 [00:08<00:17, 12.04it/s]"
     ]
    },
    {
     "name": "stdout",
     "output_type": "stream",
     "text": [
      "Predictor loss: 11.48 | adversary loss 0.44 | Equal Opportunity Disparity = 0.27\n",
      " \n",
      "Avg Training Stats after 89 global rounds:\n",
      "Training loss: 0.39 | Validation accuracy: 83.67% | Validation Equal Opportunity Disparity: 0.2715\n",
      "\n",
      " | Global Training Round : 90 |\n",
      "\n",
      "Predictor loss: 11.48 | adversary loss 0.44 | Equal Opportunity Disparity = 0.27\n",
      " \n",
      "Avg Training Stats after 90 global rounds:\n",
      "Training loss: 0.41 | Validation accuracy: 83.67% | Validation Equal Opportunity Disparity: 0.2715\n",
      "\n",
      " | Global Training Round : 91 |\n",
      "\n",
      "Predictor loss: 10.67 | adversary loss 0.46 | Equal Opportunity Disparity = 0.28\n",
      " \n",
      "Avg Training Stats after 91 global rounds:\n",
      "Training loss: 0.38 | Validation accuracy: 84.33% | Validation Equal Opportunity Disparity: 0.2821\n",
      "\n",
      " | Global Training Round : 92 |\n",
      "\n"
     ]
    },
    {
     "name": "stderr",
     "output_type": "stream",
     "text": [
      " 31%|███▏      | 94/300 [00:09<00:17, 11.74it/s]"
     ]
    },
    {
     "name": "stdout",
     "output_type": "stream",
     "text": [
      "Predictor loss: 10.67 | adversary loss 0.47 | Equal Opportunity Disparity = 0.28\n",
      " \n",
      "Avg Training Stats after 92 global rounds:\n",
      "Training loss: 0.38 | Validation accuracy: 84.33% | Validation Equal Opportunity Disparity: 0.2821\n",
      "\n",
      " | Global Training Round : 93 |\n",
      "\n",
      "Predictor loss: 10.67 | adversary loss 0.47 | Equal Opportunity Disparity = 0.28\n",
      " \n",
      "Avg Training Stats after 93 global rounds:\n",
      "Training loss: 0.37 | Validation accuracy: 84.33% | Validation Equal Opportunity Disparity: 0.2821\n",
      "\n",
      " | Global Training Round : 94 |\n",
      "\n",
      "Predictor loss: 10.40 | adversary loss 0.49 | Equal Opportunity Disparity = 0.29\n",
      " \n",
      "Avg Training Stats after 94 global rounds:\n",
      "Training loss: 0.36 | Validation accuracy: 84.67% | Validation Equal Opportunity Disparity: 0.2874\n",
      "\n",
      " | Global Training Round : 95 |\n",
      "\n"
     ]
    },
    {
     "name": "stderr",
     "output_type": "stream",
     "text": [
      "\r",
      " 32%|███▏      | 96/300 [00:09<00:16, 12.07it/s]"
     ]
    },
    {
     "name": "stdout",
     "output_type": "stream",
     "text": [
      "Predictor loss: 10.40 | adversary loss 0.50 | Equal Opportunity Disparity = 0.29\n",
      " \n",
      "Avg Training Stats after 95 global rounds:\n",
      "Training loss: 0.35 | Validation accuracy: 84.67% | Validation Equal Opportunity Disparity: 0.2874\n",
      "\n",
      " | Global Training Round : 96 |\n",
      "\n",
      "Predictor loss: 10.40 | adversary loss 0.51 | Equal Opportunity Disparity = 0.29\n",
      " \n",
      "Avg Training Stats after 96 global rounds:\n",
      "Training loss: 0.36 | Validation accuracy: 84.67% | Validation Equal Opportunity Disparity: 0.2874\n",
      "\n",
      " | Global Training Round : 97 |\n",
      "\n",
      "Predictor loss: 10.50 | adversary loss 0.53 | Equal Opportunity Disparity = 0.25\n",
      " \n",
      "Avg Training Stats after 97 global rounds:\n",
      "Training loss: 0.35 | Validation accuracy: 85.00% | Validation Equal Opportunity Disparity: 0.2472\n",
      "\n",
      " | Global Training Round : 98 |\n",
      "\n"
     ]
    },
    {
     "name": "stderr",
     "output_type": "stream",
     "text": [
      " 33%|███▎      | 100/300 [00:09<00:16, 11.95it/s]"
     ]
    },
    {
     "name": "stdout",
     "output_type": "stream",
     "text": [
      "Predictor loss: 10.50 | adversary loss 0.53 | Equal Opportunity Disparity = 0.25\n",
      " \n",
      "Avg Training Stats after 98 global rounds:\n",
      "Training loss: 0.36 | Validation accuracy: 85.00% | Validation Equal Opportunity Disparity: 0.2472\n",
      "\n",
      " | Global Training Round : 99 |\n",
      "\n",
      "Predictor loss: 10.50 | adversary loss 0.53 | Equal Opportunity Disparity = 0.25\n",
      " \n",
      "Avg Training Stats after 99 global rounds:\n",
      "Training loss: 0.37 | Validation accuracy: 85.00% | Validation Equal Opportunity Disparity: 0.2472\n",
      "\n",
      " | Global Training Round : 100 |\n",
      "\n",
      "Predictor loss: 10.84 | adversary loss 0.56 | Equal Opportunity Disparity = 0.21\n",
      " \n",
      "Avg Training Stats after 100 global rounds:\n",
      "Training loss: 0.36 | Validation accuracy: 85.00% | Validation Equal Opportunity Disparity: 0.2071\n",
      "\n",
      " | Global Training Round : 101 |\n",
      "\n"
     ]
    },
    {
     "name": "stderr",
     "output_type": "stream",
     "text": [
      "\r",
      " 34%|███▍      | 102/300 [00:09<00:17, 11.60it/s]"
     ]
    },
    {
     "name": "stdout",
     "output_type": "stream",
     "text": [
      "Predictor loss: 10.84 | adversary loss 0.56 | Equal Opportunity Disparity = 0.21\n",
      " \n",
      "Avg Training Stats after 101 global rounds:\n",
      "Training loss: 0.39 | Validation accuracy: 85.00% | Validation Equal Opportunity Disparity: 0.2071\n",
      "\n",
      " | Global Training Round : 102 |\n",
      "\n",
      "Predictor loss: 10.84 | adversary loss 0.56 | Equal Opportunity Disparity = 0.21\n",
      " \n",
      "Avg Training Stats after 102 global rounds:\n",
      "Training loss: 0.37 | Validation accuracy: 85.00% | Validation Equal Opportunity Disparity: 0.2071\n",
      "\n",
      " | Global Training Round : 103 |\n",
      "\n",
      "Predictor loss: 11.23 | adversary loss 0.58 | Equal Opportunity Disparity = 0.17\n",
      " \n",
      "Avg Training Stats after 103 global rounds:\n",
      "Training loss: 0.38 | Validation accuracy: 84.67% | Validation Equal Opportunity Disparity: 0.1669\n",
      "\n",
      " | Global Training Round : 104 |\n",
      "\n"
     ]
    },
    {
     "name": "stderr",
     "output_type": "stream",
     "text": [
      " 35%|███▌      | 106/300 [00:10<00:17, 11.21it/s]"
     ]
    },
    {
     "name": "stdout",
     "output_type": "stream",
     "text": [
      "Predictor loss: 11.23 | adversary loss 0.59 | Equal Opportunity Disparity = 0.17\n",
      " \n",
      "Avg Training Stats after 104 global rounds:\n",
      "Training loss: 0.39 | Validation accuracy: 84.67% | Validation Equal Opportunity Disparity: 0.1669\n",
      "\n",
      " | Global Training Round : 105 |\n",
      "\n",
      "Predictor loss: 11.23 | adversary loss 0.60 | Equal Opportunity Disparity = 0.17\n",
      " \n",
      "Avg Training Stats after 105 global rounds:\n",
      "Training loss: 0.39 | Validation accuracy: 84.67% | Validation Equal Opportunity Disparity: 0.1669\n",
      "\n",
      " | Global Training Round : 106 |\n",
      "\n",
      "Predictor loss: 11.77 | adversary loss 0.61 | Equal Opportunity Disparity = 0.17\n",
      " \n",
      "Avg Training Stats after 106 global rounds:\n",
      "Training loss: 0.40 | Validation accuracy: 82.67% | Validation Equal Opportunity Disparity: 0.1669\n",
      "\n",
      " | Global Training Round : 107 |\n",
      "\n"
     ]
    },
    {
     "name": "stderr",
     "output_type": "stream",
     "text": [
      "\r",
      " 36%|███▌      | 108/300 [00:10<00:17, 11.21it/s]"
     ]
    },
    {
     "name": "stdout",
     "output_type": "stream",
     "text": [
      "Predictor loss: 11.77 | adversary loss 0.61 | Equal Opportunity Disparity = 0.17\n",
      " \n",
      "Avg Training Stats after 107 global rounds:\n",
      "Training loss: 0.40 | Validation accuracy: 82.67% | Validation Equal Opportunity Disparity: 0.1669\n",
      "\n",
      " | Global Training Round : 108 |\n",
      "\n",
      "Predictor loss: 11.77 | adversary loss 0.61 | Equal Opportunity Disparity = 0.17\n",
      " \n",
      "Avg Training Stats after 108 global rounds:\n",
      "Training loss: 0.40 | Validation accuracy: 82.67% | Validation Equal Opportunity Disparity: 0.1669\n",
      "\n",
      " | Global Training Round : 109 |\n",
      "\n",
      "Predictor loss: 12.23 | adversary loss 0.62 | Equal Opportunity Disparity = 0.17\n",
      " \n",
      "Avg Training Stats after 109 global rounds:\n",
      "Training loss: 0.43 | Validation accuracy: 81.33% | Validation Equal Opportunity Disparity: 0.1669\n",
      "\n",
      " | Global Training Round : 110 |\n",
      "\n"
     ]
    },
    {
     "name": "stderr",
     "output_type": "stream",
     "text": [
      " 37%|███▋      | 112/300 [00:10<00:17, 10.85it/s]"
     ]
    },
    {
     "name": "stdout",
     "output_type": "stream",
     "text": [
      "Predictor loss: 12.23 | adversary loss 0.63 | Equal Opportunity Disparity = 0.17\n",
      " \n",
      "Avg Training Stats after 110 global rounds:\n",
      "Training loss: 0.43 | Validation accuracy: 81.33% | Validation Equal Opportunity Disparity: 0.1669\n",
      "\n",
      " | Global Training Round : 111 |\n",
      "\n",
      "Predictor loss: 12.23 | adversary loss 0.64 | Equal Opportunity Disparity = 0.17\n",
      " \n",
      "Avg Training Stats after 111 global rounds:\n",
      "Training loss: 0.42 | Validation accuracy: 81.33% | Validation Equal Opportunity Disparity: 0.1669\n",
      "\n",
      " | Global Training Round : 112 |\n",
      "\n",
      "Predictor loss: 12.62 | adversary loss 0.65 | Equal Opportunity Disparity = 0.17\n",
      " \n",
      "Avg Training Stats after 112 global rounds:\n",
      "Training loss: 0.43 | Validation accuracy: 80.33% | Validation Equal Opportunity Disparity: 0.1669\n",
      "\n",
      " | Global Training Round : 113 |\n",
      "\n"
     ]
    },
    {
     "name": "stderr",
     "output_type": "stream",
     "text": [
      "\r",
      " 38%|███▊      | 114/300 [00:10<00:16, 10.99it/s]"
     ]
    },
    {
     "name": "stdout",
     "output_type": "stream",
     "text": [
      "Predictor loss: 12.62 | adversary loss 0.66 | Equal Opportunity Disparity = 0.17\n",
      " \n",
      "Avg Training Stats after 113 global rounds:\n",
      "Training loss: 0.43 | Validation accuracy: 80.33% | Validation Equal Opportunity Disparity: 0.1669\n",
      "\n",
      " | Global Training Round : 114 |\n",
      "\n",
      "Predictor loss: 12.62 | adversary loss 0.66 | Equal Opportunity Disparity = 0.17\n",
      " \n",
      "Avg Training Stats after 114 global rounds:\n",
      "Training loss: 0.44 | Validation accuracy: 80.33% | Validation Equal Opportunity Disparity: 0.1669\n",
      "\n",
      " | Global Training Round : 115 |\n",
      "\n",
      "Predictor loss: 12.78 | adversary loss 0.67 | Equal Opportunity Disparity = 0.13\n",
      " \n",
      "Avg Training Stats after 115 global rounds:\n",
      "Training loss: 0.45 | Validation accuracy: 80.33% | Validation Equal Opportunity Disparity: 0.1320\n",
      "\n",
      " | Global Training Round : 116 |\n",
      "\n"
     ]
    },
    {
     "name": "stderr",
     "output_type": "stream",
     "text": [
      " 39%|███▉      | 118/300 [00:11<00:16, 11.04it/s]"
     ]
    },
    {
     "name": "stdout",
     "output_type": "stream",
     "text": [
      "Predictor loss: 12.78 | adversary loss 0.67 | Equal Opportunity Disparity = 0.13\n",
      " \n",
      "Avg Training Stats after 116 global rounds:\n",
      "Training loss: 0.44 | Validation accuracy: 80.33% | Validation Equal Opportunity Disparity: 0.1320\n",
      "\n",
      " | Global Training Round : 117 |\n",
      "\n",
      "Predictor loss: 12.78 | adversary loss 0.67 | Equal Opportunity Disparity = 0.13\n",
      " \n",
      "Avg Training Stats after 117 global rounds:\n",
      "Training loss: 0.44 | Validation accuracy: 80.33% | Validation Equal Opportunity Disparity: 0.1320\n",
      "\n",
      " | Global Training Round : 118 |\n",
      "\n",
      "Predictor loss: 12.78 | adversary loss 0.68 | Equal Opportunity Disparity = 0.14\n",
      " \n",
      "Avg Training Stats after 118 global rounds:\n",
      "Training loss: 0.46 | Validation accuracy: 79.67% | Validation Equal Opportunity Disparity: 0.1426\n",
      "\n",
      " | Global Training Round : 119 |\n",
      "\n"
     ]
    },
    {
     "name": "stderr",
     "output_type": "stream",
     "text": [
      "\r",
      " 40%|████      | 120/300 [00:11<00:15, 11.32it/s]"
     ]
    },
    {
     "name": "stdout",
     "output_type": "stream",
     "text": [
      "Predictor loss: 12.78 | adversary loss 0.68 | Equal Opportunity Disparity = 0.14\n",
      " \n",
      "Avg Training Stats after 119 global rounds:\n",
      "Training loss: 0.44 | Validation accuracy: 79.67% | Validation Equal Opportunity Disparity: 0.1426\n",
      "\n",
      " | Global Training Round : 120 |\n",
      "\n",
      "Predictor loss: 12.78 | adversary loss 0.68 | Equal Opportunity Disparity = 0.14\n",
      " \n",
      "Avg Training Stats after 120 global rounds:\n",
      "Training loss: 0.45 | Validation accuracy: 79.67% | Validation Equal Opportunity Disparity: 0.1426\n",
      "\n",
      " | Global Training Round : 121 |\n",
      "\n",
      "Predictor loss: 12.78 | adversary loss 0.68 | Equal Opportunity Disparity = 0.11\n",
      " \n",
      "Avg Training Stats after 121 global rounds:\n",
      "Training loss: 0.44 | Validation accuracy: 79.67% | Validation Equal Opportunity Disparity: 0.1130\n",
      "\n",
      " | Global Training Round : 122 |\n",
      "\n"
     ]
    },
    {
     "name": "stderr",
     "output_type": "stream",
     "text": [
      " 41%|████▏     | 124/300 [00:11<00:15, 11.32it/s]"
     ]
    },
    {
     "name": "stdout",
     "output_type": "stream",
     "text": [
      "Predictor loss: 12.78 | adversary loss 0.68 | Equal Opportunity Disparity = 0.11\n",
      " \n",
      "Avg Training Stats after 122 global rounds:\n",
      "Training loss: 0.44 | Validation accuracy: 79.67% | Validation Equal Opportunity Disparity: 0.1130\n",
      "\n",
      " | Global Training Round : 123 |\n",
      "\n",
      "Predictor loss: 12.78 | adversary loss 0.68 | Equal Opportunity Disparity = 0.11\n",
      " \n",
      "Avg Training Stats after 123 global rounds:\n",
      "Training loss: 0.45 | Validation accuracy: 79.67% | Validation Equal Opportunity Disparity: 0.1130\n",
      "\n",
      " | Global Training Round : 124 |\n",
      "\n",
      "Predictor loss: 12.88 | adversary loss 0.68 | Equal Opportunity Disparity = 0.12\n",
      " \n",
      "Avg Training Stats after 124 global rounds:\n",
      "Training loss: 0.44 | Validation accuracy: 79.67% | Validation Equal Opportunity Disparity: 0.1183\n",
      "\n",
      " | Global Training Round : 125 |\n",
      "\n"
     ]
    },
    {
     "name": "stderr",
     "output_type": "stream",
     "text": [
      "\r",
      " 42%|████▏     | 126/300 [00:11<00:15, 11.21it/s]"
     ]
    },
    {
     "name": "stdout",
     "output_type": "stream",
     "text": [
      "Predictor loss: 12.88 | adversary loss 0.67 | Equal Opportunity Disparity = 0.12\n",
      " \n",
      "Avg Training Stats after 125 global rounds:\n",
      "Training loss: 0.46 | Validation accuracy: 79.67% | Validation Equal Opportunity Disparity: 0.1183\n",
      "\n",
      " | Global Training Round : 126 |\n",
      "\n",
      "Predictor loss: 12.88 | adversary loss 0.68 | Equal Opportunity Disparity = 0.12\n",
      " \n",
      "Avg Training Stats after 126 global rounds:\n",
      "Training loss: 0.45 | Validation accuracy: 79.67% | Validation Equal Opportunity Disparity: 0.1183\n",
      "\n",
      " | Global Training Round : 127 |\n",
      "\n",
      "Predictor loss: 12.94 | adversary loss 0.68 | Equal Opportunity Disparity = 0.12\n",
      " \n",
      "Avg Training Stats after 127 global rounds:\n",
      "Training loss: 0.46 | Validation accuracy: 79.00% | Validation Equal Opportunity Disparity: 0.1183\n",
      "\n",
      " | Global Training Round : 128 |\n",
      "\n"
     ]
    },
    {
     "name": "stderr",
     "output_type": "stream",
     "text": [
      " 43%|████▎     | 130/300 [00:12<00:15, 10.97it/s]"
     ]
    },
    {
     "name": "stdout",
     "output_type": "stream",
     "text": [
      "Predictor loss: 12.94 | adversary loss 0.68 | Equal Opportunity Disparity = 0.12\n",
      " \n",
      "Avg Training Stats after 128 global rounds:\n",
      "Training loss: 0.45 | Validation accuracy: 79.00% | Validation Equal Opportunity Disparity: 0.1183\n",
      "\n",
      " | Global Training Round : 129 |\n",
      "\n",
      "Predictor loss: 12.94 | adversary loss 0.68 | Equal Opportunity Disparity = 0.12\n",
      " \n",
      "Avg Training Stats after 129 global rounds:\n",
      "Training loss: 0.45 | Validation accuracy: 79.00% | Validation Equal Opportunity Disparity: 0.1183\n",
      "\n",
      " | Global Training Round : 130 |\n",
      "\n",
      "Predictor loss: 12.96 | adversary loss 0.68 | Equal Opportunity Disparity = 0.12\n",
      " \n",
      "Avg Training Stats after 130 global rounds:\n",
      "Training loss: 0.45 | Validation accuracy: 79.00% | Validation Equal Opportunity Disparity: 0.1183\n",
      "\n",
      " | Global Training Round : 131 |\n",
      "\n"
     ]
    },
    {
     "name": "stderr",
     "output_type": "stream",
     "text": [
      "\r",
      " 44%|████▍     | 132/300 [00:12<00:15, 11.11it/s]"
     ]
    },
    {
     "name": "stdout",
     "output_type": "stream",
     "text": [
      "Predictor loss: 12.96 | adversary loss 0.68 | Equal Opportunity Disparity = 0.12\n",
      " \n",
      "Avg Training Stats after 131 global rounds:\n",
      "Training loss: 0.45 | Validation accuracy: 79.00% | Validation Equal Opportunity Disparity: 0.1183\n",
      "\n",
      " | Global Training Round : 132 |\n",
      "\n",
      "Predictor loss: 12.96 | adversary loss 0.67 | Equal Opportunity Disparity = 0.12\n",
      " \n",
      "Avg Training Stats after 132 global rounds:\n",
      "Training loss: 0.45 | Validation accuracy: 79.00% | Validation Equal Opportunity Disparity: 0.1183\n",
      "\n",
      " | Global Training Round : 133 |\n",
      "\n",
      "Predictor loss: 12.86 | adversary loss 0.67 | Equal Opportunity Disparity = 0.09\n",
      " \n",
      "Avg Training Stats after 133 global rounds:\n",
      "Training loss: 0.44 | Validation accuracy: 80.00% | Validation Equal Opportunity Disparity: 0.0887\n",
      "\n",
      " | Global Training Round : 134 |\n",
      "\n"
     ]
    },
    {
     "name": "stderr",
     "output_type": "stream",
     "text": [
      " 45%|████▌     | 136/300 [00:12<00:14, 10.97it/s]"
     ]
    },
    {
     "name": "stdout",
     "output_type": "stream",
     "text": [
      "Predictor loss: 12.86 | adversary loss 0.67 | Equal Opportunity Disparity = 0.09\n",
      " \n",
      "Avg Training Stats after 134 global rounds:\n",
      "Training loss: 0.44 | Validation accuracy: 80.00% | Validation Equal Opportunity Disparity: 0.0887\n",
      "\n",
      " | Global Training Round : 135 |\n",
      "\n",
      "Predictor loss: 12.86 | adversary loss 0.68 | Equal Opportunity Disparity = 0.09\n",
      " \n",
      "Avg Training Stats after 135 global rounds:\n",
      "Training loss: 0.45 | Validation accuracy: 80.00% | Validation Equal Opportunity Disparity: 0.0887\n",
      "\n",
      " | Global Training Round : 136 |\n",
      "\n",
      "Predictor loss: 12.75 | adversary loss 0.67 | Equal Opportunity Disparity = 0.09\n",
      " \n",
      "Avg Training Stats after 136 global rounds:\n",
      "Training loss: 0.45 | Validation accuracy: 79.33% | Validation Equal Opportunity Disparity: 0.0887\n",
      "\n",
      " | Global Training Round : 137 |\n",
      "\n"
     ]
    },
    {
     "name": "stderr",
     "output_type": "stream",
     "text": [
      "\r",
      " 46%|████▌     | 138/300 [00:12<00:14, 11.17it/s]"
     ]
    },
    {
     "name": "stdout",
     "output_type": "stream",
     "text": [
      "Predictor loss: 12.75 | adversary loss 0.67 | Equal Opportunity Disparity = 0.09\n",
      " \n",
      "Avg Training Stats after 137 global rounds:\n",
      "Training loss: 0.44 | Validation accuracy: 79.33% | Validation Equal Opportunity Disparity: 0.0887\n",
      "\n",
      " | Global Training Round : 138 |\n",
      "\n",
      "Predictor loss: 12.75 | adversary loss 0.67 | Equal Opportunity Disparity = 0.09\n",
      " \n",
      "Avg Training Stats after 138 global rounds:\n",
      "Training loss: 0.44 | Validation accuracy: 79.33% | Validation Equal Opportunity Disparity: 0.0887\n",
      "\n",
      " | Global Training Round : 139 |\n",
      "\n",
      "Predictor loss: 12.63 | adversary loss 0.67 | Equal Opportunity Disparity = 0.09\n",
      " \n",
      "Avg Training Stats after 139 global rounds:\n",
      "Training loss: 0.44 | Validation accuracy: 79.67% | Validation Equal Opportunity Disparity: 0.0887\n",
      "\n",
      " | Global Training Round : 140 |\n",
      "\n"
     ]
    },
    {
     "name": "stderr",
     "output_type": "stream",
     "text": [
      " 47%|████▋     | 142/300 [00:13<00:13, 11.31it/s]"
     ]
    },
    {
     "name": "stdout",
     "output_type": "stream",
     "text": [
      "Predictor loss: 12.63 | adversary loss 0.67 | Equal Opportunity Disparity = 0.09\n",
      " \n",
      "Avg Training Stats after 140 global rounds:\n",
      "Training loss: 0.44 | Validation accuracy: 79.67% | Validation Equal Opportunity Disparity: 0.0887\n",
      "\n",
      " | Global Training Round : 141 |\n",
      "\n",
      "Predictor loss: 12.63 | adversary loss 0.67 | Equal Opportunity Disparity = 0.09\n",
      " \n",
      "Avg Training Stats after 141 global rounds:\n",
      "Training loss: 0.44 | Validation accuracy: 79.67% | Validation Equal Opportunity Disparity: 0.0887\n",
      "\n",
      " | Global Training Round : 142 |\n",
      "\n",
      "Predictor loss: 12.58 | adversary loss 0.66 | Equal Opportunity Disparity = 0.09\n",
      " \n",
      "Avg Training Stats after 142 global rounds:\n",
      "Training loss: 0.44 | Validation accuracy: 80.33% | Validation Equal Opportunity Disparity: 0.0887\n",
      "\n",
      " | Global Training Round : 143 |\n",
      "\n"
     ]
    },
    {
     "name": "stderr",
     "output_type": "stream",
     "text": [
      "\r",
      " 48%|████▊     | 144/300 [00:13<00:13, 11.21it/s]"
     ]
    },
    {
     "name": "stdout",
     "output_type": "stream",
     "text": [
      "Predictor loss: 12.58 | adversary loss 0.67 | Equal Opportunity Disparity = 0.09\n",
      " \n",
      "Avg Training Stats after 143 global rounds:\n",
      "Training loss: 0.44 | Validation accuracy: 80.33% | Validation Equal Opportunity Disparity: 0.0887\n",
      "\n",
      " | Global Training Round : 144 |\n",
      "\n",
      "Predictor loss: 12.58 | adversary loss 0.67 | Equal Opportunity Disparity = 0.09\n",
      " \n",
      "Avg Training Stats after 144 global rounds:\n",
      "Training loss: 0.44 | Validation accuracy: 80.33% | Validation Equal Opportunity Disparity: 0.0887\n",
      "\n",
      " | Global Training Round : 145 |\n",
      "\n",
      "Predictor loss: 12.69 | adversary loss 0.67 | Equal Opportunity Disparity = 0.09\n",
      " \n",
      "Avg Training Stats after 145 global rounds:\n",
      "Training loss: 0.44 | Validation accuracy: 79.00% | Validation Equal Opportunity Disparity: 0.0887\n",
      "\n",
      " | Global Training Round : 146 |\n",
      "\n"
     ]
    },
    {
     "name": "stderr",
     "output_type": "stream",
     "text": [
      " 49%|████▉     | 148/300 [00:13<00:13, 11.06it/s]"
     ]
    },
    {
     "name": "stdout",
     "output_type": "stream",
     "text": [
      "Predictor loss: 12.69 | adversary loss 0.67 | Equal Opportunity Disparity = 0.09\n",
      " \n",
      "Avg Training Stats after 146 global rounds:\n",
      "Training loss: 0.43 | Validation accuracy: 79.00% | Validation Equal Opportunity Disparity: 0.0887\n",
      "\n",
      " | Global Training Round : 147 |\n",
      "\n",
      "Predictor loss: 12.69 | adversary loss 0.67 | Equal Opportunity Disparity = 0.09\n",
      " \n",
      "Avg Training Stats after 147 global rounds:\n",
      "Training loss: 0.44 | Validation accuracy: 79.00% | Validation Equal Opportunity Disparity: 0.0887\n",
      "\n",
      " | Global Training Round : 148 |\n",
      "\n",
      "Predictor loss: 12.81 | adversary loss 0.68 | Equal Opportunity Disparity = 0.09\n",
      " \n",
      "Avg Training Stats after 148 global rounds:\n",
      "Training loss: 0.44 | Validation accuracy: 78.67% | Validation Equal Opportunity Disparity: 0.0887\n",
      "\n",
      " | Global Training Round : 149 |\n",
      "\n"
     ]
    },
    {
     "name": "stderr",
     "output_type": "stream",
     "text": [
      "\r",
      " 50%|█████     | 150/300 [00:14<00:13, 11.16it/s]"
     ]
    },
    {
     "name": "stdout",
     "output_type": "stream",
     "text": [
      "Predictor loss: 12.81 | adversary loss 0.67 | Equal Opportunity Disparity = 0.09\n",
      " \n",
      "Avg Training Stats after 149 global rounds:\n",
      "Training loss: 0.44 | Validation accuracy: 78.67% | Validation Equal Opportunity Disparity: 0.0887\n",
      "\n",
      " | Global Training Round : 150 |\n",
      "\n",
      "Predictor loss: 12.81 | adversary loss 0.66 | Equal Opportunity Disparity = 0.09\n",
      " \n",
      "Avg Training Stats after 150 global rounds:\n",
      "Training loss: 0.45 | Validation accuracy: 78.67% | Validation Equal Opportunity Disparity: 0.0887\n",
      "\n",
      " | Global Training Round : 151 |\n",
      "\n",
      "Predictor loss: 12.82 | adversary loss 0.67 | Equal Opportunity Disparity = 0.09\n",
      " \n",
      "Avg Training Stats after 151 global rounds:\n",
      "Training loss: 0.44 | Validation accuracy: 79.00% | Validation Equal Opportunity Disparity: 0.0887\n",
      "\n",
      " | Global Training Round : 152 |\n",
      "\n"
     ]
    },
    {
     "name": "stderr",
     "output_type": "stream",
     "text": [
      " 51%|█████▏    | 154/300 [00:14<00:13, 11.20it/s]"
     ]
    },
    {
     "name": "stdout",
     "output_type": "stream",
     "text": [
      "Predictor loss: 12.82 | adversary loss 0.67 | Equal Opportunity Disparity = 0.09\n",
      " \n",
      "Avg Training Stats after 152 global rounds:\n",
      "Training loss: 0.44 | Validation accuracy: 79.00% | Validation Equal Opportunity Disparity: 0.0887\n",
      "\n",
      " | Global Training Round : 153 |\n",
      "\n",
      "Predictor loss: 12.82 | adversary loss 0.67 | Equal Opportunity Disparity = 0.09\n",
      " \n",
      "Avg Training Stats after 153 global rounds:\n",
      "Training loss: 0.44 | Validation accuracy: 79.00% | Validation Equal Opportunity Disparity: 0.0887\n",
      "\n",
      " | Global Training Round : 154 |\n",
      "\n",
      "Predictor loss: 12.78 | adversary loss 0.67 | Equal Opportunity Disparity = 0.09\n",
      " \n",
      "Avg Training Stats after 154 global rounds:\n",
      "Training loss: 0.44 | Validation accuracy: 79.33% | Validation Equal Opportunity Disparity: 0.0887\n",
      "\n",
      " | Global Training Round : 155 |\n",
      "\n"
     ]
    },
    {
     "name": "stderr",
     "output_type": "stream",
     "text": [
      "\r",
      " 52%|█████▏    | 156/300 [00:14<00:12, 11.17it/s]"
     ]
    },
    {
     "name": "stdout",
     "output_type": "stream",
     "text": [
      "Predictor loss: 12.78 | adversary loss 0.67 | Equal Opportunity Disparity = 0.09\n",
      " \n",
      "Avg Training Stats after 155 global rounds:\n",
      "Training loss: 0.43 | Validation accuracy: 79.33% | Validation Equal Opportunity Disparity: 0.0887\n",
      "\n",
      " | Global Training Round : 156 |\n",
      "\n",
      "Predictor loss: 12.78 | adversary loss 0.67 | Equal Opportunity Disparity = 0.09\n",
      " \n",
      "Avg Training Stats after 156 global rounds:\n",
      "Training loss: 0.44 | Validation accuracy: 79.33% | Validation Equal Opportunity Disparity: 0.0887\n",
      "\n",
      " | Global Training Round : 157 |\n",
      "\n",
      "Predictor loss: 12.64 | adversary loss 0.67 | Equal Opportunity Disparity = 0.09\n",
      " \n",
      "Avg Training Stats after 157 global rounds:\n",
      "Training loss: 0.44 | Validation accuracy: 79.33% | Validation Equal Opportunity Disparity: 0.0887\n",
      "\n",
      " | Global Training Round : 158 |\n",
      "\n"
     ]
    },
    {
     "name": "stderr",
     "output_type": "stream",
     "text": [
      " 53%|█████▎    | 160/300 [00:14<00:12, 10.99it/s]"
     ]
    },
    {
     "name": "stdout",
     "output_type": "stream",
     "text": [
      "Predictor loss: 12.64 | adversary loss 0.67 | Equal Opportunity Disparity = 0.09\n",
      " \n",
      "Avg Training Stats after 158 global rounds:\n",
      "Training loss: 0.44 | Validation accuracy: 79.33% | Validation Equal Opportunity Disparity: 0.0887\n",
      "\n",
      " | Global Training Round : 159 |\n",
      "\n",
      "Predictor loss: 12.64 | adversary loss 0.67 | Equal Opportunity Disparity = 0.09\n",
      " \n",
      "Avg Training Stats after 159 global rounds:\n",
      "Training loss: 0.43 | Validation accuracy: 79.33% | Validation Equal Opportunity Disparity: 0.0887\n",
      "\n",
      " | Global Training Round : 160 |\n",
      "\n",
      "Predictor loss: 12.53 | adversary loss 0.68 | Equal Opportunity Disparity = 0.09\n",
      " \n",
      "Avg Training Stats after 160 global rounds:\n",
      "Training loss: 0.43 | Validation accuracy: 79.33% | Validation Equal Opportunity Disparity: 0.0887\n",
      "\n",
      " | Global Training Round : 161 |\n",
      "\n"
     ]
    },
    {
     "name": "stderr",
     "output_type": "stream",
     "text": [
      "\r",
      " 54%|█████▍    | 162/300 [00:15<00:12, 11.20it/s]"
     ]
    },
    {
     "name": "stdout",
     "output_type": "stream",
     "text": [
      "Predictor loss: 12.53 | adversary loss 0.68 | Equal Opportunity Disparity = 0.09\n",
      " \n",
      "Avg Training Stats after 161 global rounds:\n",
      "Training loss: 0.43 | Validation accuracy: 79.33% | Validation Equal Opportunity Disparity: 0.0887\n",
      "\n",
      " | Global Training Round : 162 |\n",
      "\n",
      "Predictor loss: 12.53 | adversary loss 0.67 | Equal Opportunity Disparity = 0.09\n",
      " \n",
      "Avg Training Stats after 162 global rounds:\n",
      "Training loss: 0.45 | Validation accuracy: 79.33% | Validation Equal Opportunity Disparity: 0.0887\n",
      "\n",
      " | Global Training Round : 163 |\n",
      "\n",
      "Predictor loss: 12.32 | adversary loss 0.68 | Equal Opportunity Disparity = 0.08\n",
      " \n",
      "Avg Training Stats after 163 global rounds:\n",
      "Training loss: 0.43 | Validation accuracy: 79.67% | Validation Equal Opportunity Disparity: 0.0835\n",
      "\n",
      " | Global Training Round : 164 |\n",
      "\n"
     ]
    },
    {
     "name": "stderr",
     "output_type": "stream",
     "text": [
      "\r",
      " 55%|█████▍    | 164/300 [00:15<00:13, 10.36it/s]"
     ]
    },
    {
     "name": "stdout",
     "output_type": "stream",
     "text": [
      "Predictor loss: 12.32 | adversary loss 0.67 | Equal Opportunity Disparity = 0.08\n",
      " \n",
      "Avg Training Stats after 164 global rounds:\n",
      "Training loss: 0.43 | Validation accuracy: 79.67% | Validation Equal Opportunity Disparity: 0.0835\n",
      "\n",
      " | Global Training Round : 165 |\n",
      "\n",
      "Predictor loss: 12.32 | adversary loss 0.67 | Equal Opportunity Disparity = 0.08\n",
      " \n",
      "Avg Training Stats after 165 global rounds:\n",
      "Training loss: 0.43 | Validation accuracy: 79.67% | Validation Equal Opportunity Disparity: 0.0835\n",
      "\n",
      " | Global Training Round : 166 |\n",
      "\n"
     ]
    },
    {
     "name": "stderr",
     "output_type": "stream",
     "text": [
      " 56%|█████▌    | 167/300 [00:15<00:14,  9.18it/s]"
     ]
    },
    {
     "name": "stdout",
     "output_type": "stream",
     "text": [
      "Predictor loss: 12.27 | adversary loss 0.67 | Equal Opportunity Disparity = 0.08\n",
      " \n",
      "Avg Training Stats after 166 global rounds:\n",
      "Training loss: 0.42 | Validation accuracy: 79.67% | Validation Equal Opportunity Disparity: 0.0835\n",
      "\n",
      " | Global Training Round : 167 |\n",
      "\n",
      "Predictor loss: 12.27 | adversary loss 0.68 | Equal Opportunity Disparity = 0.08\n",
      " \n",
      "Avg Training Stats after 167 global rounds:\n",
      "Training loss: 0.42 | Validation accuracy: 79.67% | Validation Equal Opportunity Disparity: 0.0835\n",
      "\n",
      " | Global Training Round : 168 |\n",
      "\n"
     ]
    },
    {
     "name": "stderr",
     "output_type": "stream",
     "text": [
      " 56%|█████▋    | 169/300 [00:15<00:14,  9.15it/s]"
     ]
    },
    {
     "name": "stdout",
     "output_type": "stream",
     "text": [
      "Predictor loss: 12.27 | adversary loss 0.68 | Equal Opportunity Disparity = 0.08\n",
      " \n",
      "Avg Training Stats after 168 global rounds:\n",
      "Training loss: 0.43 | Validation accuracy: 79.67% | Validation Equal Opportunity Disparity: 0.0835\n",
      "\n",
      " | Global Training Round : 169 |\n",
      "\n",
      "Predictor loss: 12.44 | adversary loss 0.68 | Equal Opportunity Disparity = 0.08\n",
      " \n",
      "Avg Training Stats after 169 global rounds:\n",
      "Training loss: 0.43 | Validation accuracy: 79.33% | Validation Equal Opportunity Disparity: 0.0835\n",
      "\n",
      " | Global Training Round : 170 |\n",
      "\n",
      "Predictor loss: 12.44 | adversary loss 0.68 | Equal Opportunity Disparity = 0.08\n",
      " \n",
      "Avg Training Stats after 170 global rounds:\n",
      "Training loss: 0.43 | Validation accuracy: 79.33% | Validation Equal Opportunity Disparity: 0.0835\n",
      "\n",
      " | Global Training Round : 171 |\n",
      "\n"
     ]
    },
    {
     "name": "stderr",
     "output_type": "stream",
     "text": [
      "\r",
      " 57%|█████▋    | 171/300 [00:16<00:13,  9.70it/s]"
     ]
    },
    {
     "name": "stdout",
     "output_type": "stream",
     "text": [
      "Predictor loss: 12.44 | adversary loss 0.68 | Equal Opportunity Disparity = 0.08\n",
      " \n",
      "Avg Training Stats after 171 global rounds:\n",
      "Training loss: 0.45 | Validation accuracy: 79.33% | Validation Equal Opportunity Disparity: 0.0835\n",
      "\n",
      " | Global Training Round : 172 |\n",
      "\n",
      "Predictor loss: 12.60 | adversary loss 0.68 | Equal Opportunity Disparity = 0.04\n",
      " \n",
      "Avg Training Stats after 172 global rounds:\n",
      "Training loss: 0.43 | Validation accuracy: 79.33% | Validation Equal Opportunity Disparity: 0.0433\n",
      "\n",
      " | Global Training Round : 173 |\n",
      "\n"
     ]
    },
    {
     "name": "stderr",
     "output_type": "stream",
     "text": [
      " 58%|█████▊    | 174/300 [00:16<00:17,  7.08it/s]"
     ]
    },
    {
     "name": "stdout",
     "output_type": "stream",
     "text": [
      "Predictor loss: 12.60 | adversary loss 0.68 | Equal Opportunity Disparity = 0.04\n",
      " \n",
      "Avg Training Stats after 173 global rounds:\n",
      "Training loss: 0.43 | Validation accuracy: 79.33% | Validation Equal Opportunity Disparity: 0.0433\n",
      "\n",
      " | Global Training Round : 174 |\n",
      "\n",
      "Predictor loss: 12.60 | adversary loss 0.67 | Equal Opportunity Disparity = 0.04\n",
      " \n",
      "Avg Training Stats after 174 global rounds:\n",
      "Training loss: 0.43 | Validation accuracy: 79.33% | Validation Equal Opportunity Disparity: 0.0433\n",
      "\n",
      " | Global Training Round : 175 |\n",
      "\n"
     ]
    },
    {
     "name": "stderr",
     "output_type": "stream",
     "text": [
      " 59%|█████▊    | 176/300 [00:17<00:17,  7.05it/s]"
     ]
    },
    {
     "name": "stdout",
     "output_type": "stream",
     "text": [
      "Predictor loss: 12.43 | adversary loss 0.67 | Equal Opportunity Disparity = 0.04\n",
      " \n",
      "Avg Training Stats after 175 global rounds:\n",
      "Training loss: 0.43 | Validation accuracy: 79.67% | Validation Equal Opportunity Disparity: 0.0433\n",
      "\n",
      " | Global Training Round : 176 |\n",
      "\n",
      "Predictor loss: 12.43 | adversary loss 0.68 | Equal Opportunity Disparity = 0.04\n",
      " \n",
      "Avg Training Stats after 176 global rounds:\n",
      "Training loss: 0.43 | Validation accuracy: 79.67% | Validation Equal Opportunity Disparity: 0.0433\n",
      "\n",
      " | Global Training Round : 177 |\n",
      "\n"
     ]
    },
    {
     "name": "stderr",
     "output_type": "stream",
     "text": [
      "\r",
      " 59%|█████▉    | 178/300 [00:17<00:17,  7.12it/s]"
     ]
    },
    {
     "name": "stdout",
     "output_type": "stream",
     "text": [
      "Predictor loss: 12.43 | adversary loss 0.68 | Equal Opportunity Disparity = 0.04\n",
      " \n",
      "Avg Training Stats after 177 global rounds:\n",
      "Training loss: 0.42 | Validation accuracy: 79.67% | Validation Equal Opportunity Disparity: 0.0433\n",
      "\n",
      " | Global Training Round : 178 |\n",
      "\n",
      "Predictor loss: 12.28 | adversary loss 0.67 | Equal Opportunity Disparity = 0.04\n",
      " \n",
      "Avg Training Stats after 178 global rounds:\n",
      "Training loss: 0.43 | Validation accuracy: 79.67% | Validation Equal Opportunity Disparity: 0.0433\n",
      "\n",
      " | Global Training Round : 179 |\n",
      "\n"
     ]
    },
    {
     "name": "stderr",
     "output_type": "stream",
     "text": [
      " 60%|██████    | 181/300 [00:17<00:14,  8.39it/s]"
     ]
    },
    {
     "name": "stdout",
     "output_type": "stream",
     "text": [
      "Predictor loss: 12.28 | adversary loss 0.67 | Equal Opportunity Disparity = 0.04\n",
      " \n",
      "Avg Training Stats after 179 global rounds:\n",
      "Training loss: 0.43 | Validation accuracy: 79.67% | Validation Equal Opportunity Disparity: 0.0433\n",
      "\n",
      " | Global Training Round : 180 |\n",
      "\n",
      "Predictor loss: 12.28 | adversary loss 0.67 | Equal Opportunity Disparity = 0.04\n",
      " \n",
      "Avg Training Stats after 180 global rounds:\n",
      "Training loss: 0.42 | Validation accuracy: 79.67% | Validation Equal Opportunity Disparity: 0.0433\n",
      "\n",
      " | Global Training Round : 181 |\n",
      "\n",
      "Predictor loss: 11.96 | adversary loss 0.67 | Equal Opportunity Disparity = 0.04\n",
      " \n",
      "Avg Training Stats after 181 global rounds:\n",
      "Training loss: 0.42 | Validation accuracy: 80.67% | Validation Equal Opportunity Disparity: 0.0433\n",
      "\n",
      " | Global Training Round : 182 |\n",
      "\n",
      "Predictor loss: 11.96 | adversary loss 0.68 | Equal Opportunity Disparity = 0.04\n",
      " \n",
      "Avg Training Stats after 182 global rounds:\n",
      "Training loss: 0.41 | Validation accuracy: 80.67% | Validation Equal Opportunity Disparity: 0.0433\n",
      "\n",
      " | Global Training Round : 183 |\n",
      "\n"
     ]
    },
    {
     "name": "stderr",
     "output_type": "stream",
     "text": [
      "\r",
      " 61%|██████    | 183/300 [00:18<00:17,  6.80it/s]"
     ]
    },
    {
     "name": "stdout",
     "output_type": "stream",
     "text": [
      "Predictor loss: 11.96 | adversary loss 0.68 | Equal Opportunity Disparity = 0.04\n",
      " \n",
      "Avg Training Stats after 183 global rounds:\n",
      "Training loss: 0.41 | Validation accuracy: 80.67% | Validation Equal Opportunity Disparity: 0.0433\n",
      "\n",
      " | Global Training Round : 184 |\n",
      "\n"
     ]
    },
    {
     "name": "stderr",
     "output_type": "stream",
     "text": [
      " 62%|██████▏   | 185/300 [00:18<00:19,  5.95it/s]"
     ]
    },
    {
     "name": "stdout",
     "output_type": "stream",
     "text": [
      "Predictor loss: 11.88 | adversary loss 0.67 | Equal Opportunity Disparity = 0.04\n",
      " \n",
      "Avg Training Stats after 184 global rounds:\n",
      "Training loss: 0.41 | Validation accuracy: 80.67% | Validation Equal Opportunity Disparity: 0.0433\n",
      "\n",
      " | Global Training Round : 185 |\n",
      "\n",
      "Predictor loss: 11.88 | adversary loss 0.68 | Equal Opportunity Disparity = 0.04\n",
      " \n",
      "Avg Training Stats after 185 global rounds:\n",
      "Training loss: 0.41 | Validation accuracy: 80.67% | Validation Equal Opportunity Disparity: 0.0433\n",
      "\n",
      " | Global Training Round : 186 |\n",
      "\n",
      "Predictor loss: 11.88 | adversary loss 0.67 | Equal Opportunity Disparity = 0.04\n",
      " \n",
      "Avg Training Stats after 186 global rounds:\n",
      "Training loss: 0.41 | Validation accuracy: 80.67% | Validation Equal Opportunity Disparity: 0.0433\n",
      "\n",
      " | Global Training Round : 187 |\n",
      "\n"
     ]
    },
    {
     "name": "stderr",
     "output_type": "stream",
     "text": [
      " 63%|██████▎   | 188/300 [00:18<00:15,  7.33it/s]"
     ]
    },
    {
     "name": "stdout",
     "output_type": "stream",
     "text": [
      "Predictor loss: 11.96 | adversary loss 0.67 | Equal Opportunity Disparity = 0.04\n",
      " \n",
      "Avg Training Stats after 187 global rounds:\n",
      "Training loss: 0.42 | Validation accuracy: 80.33% | Validation Equal Opportunity Disparity: 0.0380\n",
      "\n",
      " | Global Training Round : 188 |\n",
      "\n",
      "Predictor loss: 11.96 | adversary loss 0.67 | Equal Opportunity Disparity = 0.04\n",
      " \n",
      "Avg Training Stats after 188 global rounds:\n",
      "Training loss: 0.41 | Validation accuracy: 80.33% | Validation Equal Opportunity Disparity: 0.0380\n",
      "\n",
      " | Global Training Round : 189 |\n",
      "\n",
      "Predictor loss: 11.96 | adversary loss 0.68 | Equal Opportunity Disparity = 0.04"
     ]
    },
    {
     "name": "stderr",
     "output_type": "stream",
     "text": [
      "\r",
      " 63%|██████▎   | 190/300 [00:18<00:13,  8.07it/s]"
     ]
    },
    {
     "name": "stdout",
     "output_type": "stream",
     "text": [
      "\n",
      " \n",
      "Avg Training Stats after 189 global rounds:\n",
      "Training loss: 0.41 | Validation accuracy: 80.33% | Validation Equal Opportunity Disparity: 0.0380\n",
      "\n",
      " | Global Training Round : 190 |\n",
      "\n",
      "Predictor loss: 12.01 | adversary loss 0.68 | Equal Opportunity Disparity = 0.04\n",
      " \n",
      "Avg Training Stats after 190 global rounds:\n",
      "Training loss: 0.41 | Validation accuracy: 80.33% | Validation Equal Opportunity Disparity: 0.0380\n",
      "\n",
      " | Global Training Round : 191 |\n",
      "\n",
      "Predictor loss: 12.01 | adversary loss 0.69 | Equal Opportunity Disparity = 0.04\n",
      " \n",
      "Avg Training Stats after 191 global rounds:\n",
      "Training loss: 0.42 | Validation accuracy: 80.33% | Validation Equal Opportunity Disparity: 0.0380\n",
      "\n",
      " | Global Training Round : 192 |\n",
      "\n"
     ]
    },
    {
     "name": "stderr",
     "output_type": "stream",
     "text": [
      " 64%|██████▍   | 193/300 [00:19<00:12,  8.38it/s]"
     ]
    },
    {
     "name": "stdout",
     "output_type": "stream",
     "text": [
      "Predictor loss: 12.01 | adversary loss 0.68 | Equal Opportunity Disparity = 0.04\n",
      " \n",
      "Avg Training Stats after 192 global rounds:\n",
      "Training loss: 0.42 | Validation accuracy: 80.33% | Validation Equal Opportunity Disparity: 0.0380\n",
      "\n",
      " | Global Training Round : 193 |\n",
      "\n",
      "Predictor loss: 11.99 | adversary loss 0.68 | Equal Opportunity Disparity = 0.04\n",
      " \n",
      "Avg Training Stats after 193 global rounds:\n",
      "Training loss: 0.42 | Validation accuracy: 80.33% | Validation Equal Opportunity Disparity: 0.0380\n",
      "\n",
      " | Global Training Round : 194 |\n",
      "\n"
     ]
    },
    {
     "name": "stderr",
     "output_type": "stream",
     "text": [
      " 65%|██████▌   | 196/300 [00:19<00:11,  9.32it/s]"
     ]
    },
    {
     "name": "stdout",
     "output_type": "stream",
     "text": [
      "Predictor loss: 11.99 | adversary loss 0.68 | Equal Opportunity Disparity = 0.04\n",
      " \n",
      "Avg Training Stats after 194 global rounds:\n",
      "Training loss: 0.41 | Validation accuracy: 80.33% | Validation Equal Opportunity Disparity: 0.0380\n",
      "\n",
      " | Global Training Round : 195 |\n",
      "\n",
      "Predictor loss: 11.99 | adversary loss 0.68 | Equal Opportunity Disparity = 0.04\n",
      " \n",
      "Avg Training Stats after 195 global rounds:\n",
      "Training loss: 0.41 | Validation accuracy: 80.33% | Validation Equal Opportunity Disparity: 0.0380\n",
      "\n",
      " | Global Training Round : 196 |\n",
      "\n",
      "Predictor loss: 11.95 | adversary loss 0.68 | Equal Opportunity Disparity = 0.04\n",
      " \n",
      "Avg Training Stats after 196 global rounds:\n",
      "Training loss: 0.42 | Validation accuracy: 80.33% | Validation Equal Opportunity Disparity: 0.0380\n",
      "\n",
      " | Global Training Round : 197 |\n",
      "\n"
     ]
    },
    {
     "name": "stderr",
     "output_type": "stream",
     "text": [
      "\r",
      " 66%|██████▌   | 197/300 [00:19<00:10,  9.41it/s]"
     ]
    },
    {
     "name": "stdout",
     "output_type": "stream",
     "text": [
      "Predictor loss: 11.95 | adversary loss 0.68 | Equal Opportunity Disparity = 0.04\n",
      " \n",
      "Avg Training Stats after 197 global rounds:\n",
      "Training loss: 0.42 | Validation accuracy: 80.33% | Validation Equal Opportunity Disparity: 0.0380\n",
      "\n",
      " | Global Training Round : 198 |\n",
      "\n",
      "Predictor loss: 11.95 | adversary loss 0.68 | Equal Opportunity Disparity = 0.04\n",
      " \n",
      "Avg Training Stats after 198 global rounds:\n",
      "Training loss: 0.40 | Validation accuracy: 80.33% | Validation Equal Opportunity Disparity: 0.0380\n",
      "\n",
      " | Global Training Round : 199 |\n",
      "\n"
     ]
    },
    {
     "name": "stderr",
     "output_type": "stream",
     "text": [
      " 67%|██████▋   | 201/300 [00:19<00:09,  9.97it/s]"
     ]
    },
    {
     "name": "stdout",
     "output_type": "stream",
     "text": [
      "Predictor loss: 11.93 | adversary loss 0.68 | Equal Opportunity Disparity = 0.04\n",
      " \n",
      "Avg Training Stats after 199 global rounds:\n",
      "Training loss: 0.41 | Validation accuracy: 80.67% | Validation Equal Opportunity Disparity: 0.0380\n",
      "\n",
      " | Global Training Round : 200 |\n",
      "\n",
      "Predictor loss: 11.93 | adversary loss 0.68 | Equal Opportunity Disparity = 0.04\n",
      " \n",
      "Avg Training Stats after 200 global rounds:\n",
      "Training loss: 0.41 | Validation accuracy: 80.67% | Validation Equal Opportunity Disparity: 0.0380\n",
      "\n",
      " | Global Training Round : 201 |\n",
      "\n",
      "Predictor loss: 11.93 | adversary loss 0.68 | Equal Opportunity Disparity = 0.04\n",
      " \n",
      "Avg Training Stats after 201 global rounds:\n",
      "Training loss: 0.40 | Validation accuracy: 80.67% | Validation Equal Opportunity Disparity: 0.0380\n",
      "\n",
      " | Global Training Round : 202 |\n",
      "\n"
     ]
    },
    {
     "name": "stderr",
     "output_type": "stream",
     "text": [
      "\r",
      " 68%|██████▊   | 203/300 [00:20<00:09, 10.32it/s]"
     ]
    },
    {
     "name": "stdout",
     "output_type": "stream",
     "text": [
      "Predictor loss: 11.98 | adversary loss 0.68 | Equal Opportunity Disparity = 0.04\n",
      " \n",
      "Avg Training Stats after 202 global rounds:\n",
      "Training loss: 0.42 | Validation accuracy: 80.33% | Validation Equal Opportunity Disparity: 0.0380\n",
      "\n",
      " | Global Training Round : 203 |\n",
      "\n",
      "Predictor loss: 11.98 | adversary loss 0.68 | Equal Opportunity Disparity = 0.04\n",
      " \n",
      "Avg Training Stats after 203 global rounds:\n",
      "Training loss: 0.41 | Validation accuracy: 80.33% | Validation Equal Opportunity Disparity: 0.0380\n",
      "\n",
      " | Global Training Round : 204 |\n",
      "\n",
      "Predictor loss: 11.98 | adversary loss 0.67 | Equal Opportunity Disparity = 0.04\n",
      " \n",
      "Avg Training Stats after 204 global rounds:\n",
      "Training loss: 0.41 | Validation accuracy: 80.33% | Validation Equal Opportunity Disparity: 0.0380\n",
      "\n",
      " | Global Training Round : 205 |\n",
      "\n"
     ]
    },
    {
     "name": "stderr",
     "output_type": "stream",
     "text": [
      " 69%|██████▉   | 207/300 [00:20<00:09, 10.33it/s]"
     ]
    },
    {
     "name": "stdout",
     "output_type": "stream",
     "text": [
      "Predictor loss: 11.92 | adversary loss 0.68 | Equal Opportunity Disparity = 0.04\n",
      " \n",
      "Avg Training Stats after 205 global rounds:\n",
      "Training loss: 0.40 | Validation accuracy: 80.67% | Validation Equal Opportunity Disparity: 0.0380\n",
      "\n",
      " | Global Training Round : 206 |\n",
      "\n",
      "Predictor loss: 11.92 | adversary loss 0.68 | Equal Opportunity Disparity = 0.04\n",
      " \n",
      "Avg Training Stats after 206 global rounds:\n",
      "Training loss: 0.41 | Validation accuracy: 80.67% | Validation Equal Opportunity Disparity: 0.0380\n",
      "\n",
      " | Global Training Round : 207 |\n",
      "\n",
      "Predictor loss: 11.92 | adversary loss 0.68 | Equal Opportunity Disparity = 0.04\n",
      " \n",
      "Avg Training Stats after 207 global rounds:\n",
      "Training loss: 0.41 | Validation accuracy: 80.67% | Validation Equal Opportunity Disparity: 0.0380\n",
      "\n",
      " | Global Training Round : 208 |\n",
      "\n",
      "Predictor loss: 11.74 | adversary loss 0.67 | Equal Opportunity Disparity = 0.04\n",
      " \n",
      "Avg Training Stats after 208 global rounds:\n",
      "Training loss: 0.41 | Validation accuracy: 81.00% | Validation Equal Opportunity Disparity: 0.0380\n",
      "\n",
      " | Global Training Round : 209 |\n",
      "\n"
     ]
    },
    {
     "name": "stderr",
     "output_type": "stream",
     "text": [
      " 70%|███████   | 211/300 [00:20<00:08, 10.53it/s]"
     ]
    },
    {
     "name": "stdout",
     "output_type": "stream",
     "text": [
      "Predictor loss: 11.74 | adversary loss 0.68 | Equal Opportunity Disparity = 0.04\n",
      " \n",
      "Avg Training Stats after 209 global rounds:\n",
      "Training loss: 0.40 | Validation accuracy: 81.00% | Validation Equal Opportunity Disparity: 0.0380\n",
      "\n",
      " | Global Training Round : 210 |\n",
      "\n",
      "Predictor loss: 11.74 | adversary loss 0.68 | Equal Opportunity Disparity = 0.04\n",
      " \n",
      "Avg Training Stats after 210 global rounds:\n",
      "Training loss: 0.40 | Validation accuracy: 81.00% | Validation Equal Opportunity Disparity: 0.0380\n",
      "\n",
      " | Global Training Round : 211 |\n",
      "\n",
      "Predictor loss: 11.65 | adversary loss 0.69 | Equal Opportunity Disparity = 0.04\n",
      " \n",
      "Avg Training Stats after 211 global rounds:\n",
      "Training loss: 0.40 | Validation accuracy: 81.00% | Validation Equal Opportunity Disparity: 0.0380\n",
      "\n",
      " | Global Training Round : 212 |\n",
      "\n"
     ]
    },
    {
     "name": "stderr",
     "output_type": "stream",
     "text": [
      "\r",
      " 71%|███████   | 213/300 [00:21<00:08, 10.39it/s]"
     ]
    },
    {
     "name": "stdout",
     "output_type": "stream",
     "text": [
      "Predictor loss: 11.65 | adversary loss 0.69 | Equal Opportunity Disparity = 0.04\n",
      " \n",
      "Avg Training Stats after 212 global rounds:\n",
      "Training loss: 0.41 | Validation accuracy: 81.00% | Validation Equal Opportunity Disparity: 0.0380\n",
      "\n",
      " | Global Training Round : 213 |\n",
      "\n",
      "Predictor loss: 11.65 | adversary loss 0.69 | Equal Opportunity Disparity = 0.04\n",
      " \n",
      "Avg Training Stats after 213 global rounds:\n",
      "Training loss: 0.40 | Validation accuracy: 81.00% | Validation Equal Opportunity Disparity: 0.0380\n",
      "\n",
      " | Global Training Round : 214 |\n",
      "\n",
      "Predictor loss: 11.63 | adversary loss 0.69 | Equal Opportunity Disparity = 0.04\n",
      " \n",
      "Avg Training Stats after 214 global rounds:\n",
      "Training loss: 0.40 | Validation accuracy: 81.00% | Validation Equal Opportunity Disparity: 0.0380\n",
      "\n",
      " | Global Training Round : 215 |\n",
      "\n"
     ]
    },
    {
     "name": "stderr",
     "output_type": "stream",
     "text": [
      " 72%|███████▏  | 217/300 [00:21<00:08, 10.23it/s]"
     ]
    },
    {
     "name": "stdout",
     "output_type": "stream",
     "text": [
      "Predictor loss: 11.63 | adversary loss 0.69 | Equal Opportunity Disparity = 0.04\n",
      " \n",
      "Avg Training Stats after 215 global rounds:\n",
      "Training loss: 0.40 | Validation accuracy: 81.00% | Validation Equal Opportunity Disparity: 0.0380\n",
      "\n",
      " | Global Training Round : 216 |\n",
      "\n",
      "Predictor loss: 11.63 | adversary loss 0.68 | Equal Opportunity Disparity = 0.04\n",
      " \n",
      "Avg Training Stats after 216 global rounds:\n",
      "Training loss: 0.41 | Validation accuracy: 81.00% | Validation Equal Opportunity Disparity: 0.0380\n",
      "\n",
      " | Global Training Round : 217 |\n",
      "\n",
      "Predictor loss: 11.59 | adversary loss 0.68 | Equal Opportunity Disparity = 0.04\n",
      " \n",
      "Avg Training Stats after 217 global rounds:\n",
      "Training loss: 0.41 | Validation accuracy: 81.00% | Validation Equal Opportunity Disparity: 0.0380\n",
      "\n",
      " | Global Training Round : 218 |\n",
      "\n"
     ]
    },
    {
     "name": "stderr",
     "output_type": "stream",
     "text": [
      "\r",
      " 73%|███████▎  | 219/300 [00:21<00:07, 10.18it/s]"
     ]
    },
    {
     "name": "stdout",
     "output_type": "stream",
     "text": [
      "Predictor loss: 11.59 | adversary loss 0.69 | Equal Opportunity Disparity = 0.04\n",
      " \n",
      "Avg Training Stats after 218 global rounds:\n",
      "Training loss: 0.40 | Validation accuracy: 81.00% | Validation Equal Opportunity Disparity: 0.0380\n",
      "\n",
      " | Global Training Round : 219 |\n",
      "\n",
      "Predictor loss: 11.59 | adversary loss 0.69 | Equal Opportunity Disparity = 0.04\n",
      " \n",
      "Avg Training Stats after 219 global rounds:\n",
      "Training loss: 0.40 | Validation accuracy: 81.00% | Validation Equal Opportunity Disparity: 0.0380\n",
      "\n",
      " | Global Training Round : 220 |\n",
      "\n"
     ]
    },
    {
     "name": "stderr",
     "output_type": "stream",
     "text": [
      "\r",
      " 74%|███████▎  | 221/300 [00:21<00:07, 10.01it/s]"
     ]
    },
    {
     "name": "stdout",
     "output_type": "stream",
     "text": [
      "Predictor loss: 11.55 | adversary loss 0.69 | Equal Opportunity Disparity = 0.04\n",
      " \n",
      "Avg Training Stats after 220 global rounds:\n",
      "Training loss: 0.40 | Validation accuracy: 81.67% | Validation Equal Opportunity Disparity: 0.0380\n",
      "\n",
      " | Global Training Round : 221 |\n",
      "\n",
      "Predictor loss: 11.55 | adversary loss 0.68 | Equal Opportunity Disparity = 0.04\n",
      " \n",
      "Avg Training Stats after 221 global rounds:\n",
      "Training loss: 0.40 | Validation accuracy: 81.67% | Validation Equal Opportunity Disparity: 0.0380\n",
      "\n",
      " | Global Training Round : 222 |\n",
      "\n",
      "Predictor loss: 11.55 | adversary loss 0.68 | Equal Opportunity Disparity = 0.04\n",
      " \n",
      "Avg Training Stats after 222 global rounds:\n",
      "Training loss: 0.39 | Validation accuracy: 81.67% | Validation Equal Opportunity Disparity: 0.0380\n",
      "\n",
      " | Global Training Round : 223 |\n",
      "\n"
     ]
    },
    {
     "name": "stderr",
     "output_type": "stream",
     "text": [
      " 75%|███████▌  | 225/300 [00:22<00:07,  9.90it/s]"
     ]
    },
    {
     "name": "stdout",
     "output_type": "stream",
     "text": [
      "Predictor loss: 11.48 | adversary loss 0.67 | Equal Opportunity Disparity = 0.04\n",
      " \n",
      "Avg Training Stats after 223 global rounds:\n",
      "Training loss: 0.40 | Validation accuracy: 82.00% | Validation Equal Opportunity Disparity: 0.0380\n",
      "\n",
      " | Global Training Round : 224 |\n",
      "\n",
      "Predictor loss: 11.48 | adversary loss 0.68 | Equal Opportunity Disparity = 0.04\n",
      " \n",
      "Avg Training Stats after 224 global rounds:\n",
      "Training loss: 0.40 | Validation accuracy: 82.00% | Validation Equal Opportunity Disparity: 0.0380\n",
      "\n",
      " | Global Training Round : 225 |\n",
      "\n",
      "Predictor loss: 11.48 | adversary loss 0.67 | Equal Opportunity Disparity = 0.04\n",
      " \n",
      "Avg Training Stats after 225 global rounds:\n",
      "Training loss: 0.40 | Validation accuracy: 82.00% | Validation Equal Opportunity Disparity: 0.0380\n",
      "\n",
      " | Global Training Round : 226 |\n",
      "\n"
     ]
    },
    {
     "name": "stderr",
     "output_type": "stream",
     "text": [
      " 76%|███████▌  | 227/300 [00:22<00:07,  9.28it/s]"
     ]
    },
    {
     "name": "stdout",
     "output_type": "stream",
     "text": [
      "Predictor loss: 11.31 | adversary loss 0.68 | Equal Opportunity Disparity = 0.04\n",
      " \n",
      "Avg Training Stats after 226 global rounds:\n",
      "Training loss: 0.40 | Validation accuracy: 83.00% | Validation Equal Opportunity Disparity: 0.0433\n",
      "\n",
      " | Global Training Round : 227 |\n",
      "\n",
      "Predictor loss: 11.31 | adversary loss 0.68 | Equal Opportunity Disparity = 0.04\n",
      " \n",
      "Avg Training Stats after 227 global rounds:\n",
      "Training loss: 0.39 | Validation accuracy: 83.00% | Validation Equal Opportunity Disparity: 0.0433\n",
      "\n",
      " | Global Training Round : 228 |\n",
      "\n",
      "Predictor loss: 11.31 | adversary loss 0.67 | Equal Opportunity Disparity = 0.04\n",
      " \n",
      "Avg Training Stats after 228 global rounds:\n",
      "Training loss: 0.40 | Validation accuracy: 83.00% | Validation Equal Opportunity Disparity: 0.0433\n",
      "\n",
      " | Global Training Round : 229 |\n",
      "\n"
     ]
    },
    {
     "name": "stderr",
     "output_type": "stream",
     "text": [
      " 77%|███████▋  | 231/300 [00:22<00:06, 10.24it/s]"
     ]
    },
    {
     "name": "stdout",
     "output_type": "stream",
     "text": [
      "Predictor loss: 11.40 | adversary loss 0.68 | Equal Opportunity Disparity = 0.04\n",
      " \n",
      "Avg Training Stats after 229 global rounds:\n",
      "Training loss: 0.39 | Validation accuracy: 83.00% | Validation Equal Opportunity Disparity: 0.0433\n",
      "\n",
      " | Global Training Round : 230 |\n",
      "\n",
      "Predictor loss: 11.40 | adversary loss 0.67 | Equal Opportunity Disparity = 0.04\n",
      " \n",
      "Avg Training Stats after 230 global rounds:\n",
      "Training loss: 0.40 | Validation accuracy: 83.00% | Validation Equal Opportunity Disparity: 0.0433\n",
      "\n",
      " | Global Training Round : 231 |\n",
      "\n",
      "Predictor loss: 11.40 | adversary loss 0.67 | Equal Opportunity Disparity = 0.04\n",
      " \n",
      "Avg Training Stats after 231 global rounds:\n",
      "Training loss: 0.39 | Validation accuracy: 83.00% | Validation Equal Opportunity Disparity: 0.0433\n",
      "\n",
      " | Global Training Round : 232 |\n",
      "\n"
     ]
    },
    {
     "name": "stderr",
     "output_type": "stream",
     "text": [
      "\r",
      " 78%|███████▊  | 233/300 [00:23<00:07,  9.52it/s]"
     ]
    },
    {
     "name": "stdout",
     "output_type": "stream",
     "text": [
      "Predictor loss: 11.47 | adversary loss 0.67 | Equal Opportunity Disparity = 0.04\n",
      " \n",
      "Avg Training Stats after 232 global rounds:\n",
      "Training loss: 0.39 | Validation accuracy: 82.33% | Validation Equal Opportunity Disparity: 0.0433\n",
      "\n",
      " | Global Training Round : 233 |\n",
      "\n",
      "Predictor loss: 11.47 | adversary loss 0.67 | Equal Opportunity Disparity = 0.04\n",
      " \n",
      "Avg Training Stats after 233 global rounds:\n",
      "Training loss: 0.39 | Validation accuracy: 82.33% | Validation Equal Opportunity Disparity: 0.0433\n",
      "\n",
      " | Global Training Round : 234 |\n",
      "\n"
     ]
    },
    {
     "name": "stderr",
     "output_type": "stream",
     "text": [
      " 78%|███████▊  | 235/300 [00:23<00:06,  9.37it/s]"
     ]
    },
    {
     "name": "stdout",
     "output_type": "stream",
     "text": [
      "Predictor loss: 11.47 | adversary loss 0.67 | Equal Opportunity Disparity = 0.04\n",
      " \n",
      "Avg Training Stats after 234 global rounds:\n",
      "Training loss: 0.40 | Validation accuracy: 82.33% | Validation Equal Opportunity Disparity: 0.0433\n",
      "\n",
      " | Global Training Round : 235 |\n",
      "\n",
      "Predictor loss: 11.39 | adversary loss 0.68 | Equal Opportunity Disparity = 0.04\n",
      " \n",
      "Avg Training Stats after 235 global rounds:\n",
      "Training loss: 0.39 | Validation accuracy: 83.00% | Validation Equal Opportunity Disparity: 0.0433\n",
      "\n",
      " | Global Training Round : 236 |\n",
      "\n",
      "Predictor loss: 11.39 | adversary loss 0.68 | Equal Opportunity Disparity = 0.04\n",
      " \n",
      "Avg Training Stats after 236 global rounds:\n",
      "Training loss: 0.39 | Validation accuracy: 83.00% | Validation Equal Opportunity Disparity: 0.0433\n",
      "\n",
      " | Global Training Round : 237 |\n",
      "\n"
     ]
    },
    {
     "name": "stderr",
     "output_type": "stream",
     "text": [
      " 79%|███████▉  | 238/300 [00:23<00:06,  9.43it/s]"
     ]
    },
    {
     "name": "stdout",
     "output_type": "stream",
     "text": [
      "Predictor loss: 11.39 | adversary loss 0.68 | Equal Opportunity Disparity = 0.04\n",
      " \n",
      "Avg Training Stats after 237 global rounds:\n",
      "Training loss: 0.40 | Validation accuracy: 83.00% | Validation Equal Opportunity Disparity: 0.0433\n",
      "\n",
      " | Global Training Round : 238 |\n",
      "\n",
      "Predictor loss: 11.51 | adversary loss 0.69 | Equal Opportunity Disparity = 0.04\n",
      " \n",
      "Avg Training Stats after 238 global rounds:\n",
      "Training loss: 0.39 | Validation accuracy: 82.00% | Validation Equal Opportunity Disparity: 0.0380\n",
      "\n",
      " | Global Training Round : 239 |\n",
      "\n"
     ]
    },
    {
     "name": "stderr",
     "output_type": "stream",
     "text": [
      " 80%|████████  | 240/300 [00:23<00:06,  9.23it/s]"
     ]
    },
    {
     "name": "stdout",
     "output_type": "stream",
     "text": [
      "Predictor loss: 11.51 | adversary loss 0.69 | Equal Opportunity Disparity = 0.04\n",
      " \n",
      "Avg Training Stats after 239 global rounds:\n",
      "Training loss: 0.39 | Validation accuracy: 82.00% | Validation Equal Opportunity Disparity: 0.0380\n",
      "\n",
      " | Global Training Round : 240 |\n",
      "\n",
      "Predictor loss: 11.51 | adversary loss 0.69 | Equal Opportunity Disparity = 0.04\n",
      " \n",
      "Avg Training Stats after 240 global rounds:\n",
      "Training loss: 0.40 | Validation accuracy: 82.00% | Validation Equal Opportunity Disparity: 0.0380\n",
      "\n",
      " | Global Training Round : 241 |\n",
      "\n"
     ]
    },
    {
     "name": "stderr",
     "output_type": "stream",
     "text": [
      " 81%|████████  | 242/300 [00:24<00:06,  9.10it/s]"
     ]
    },
    {
     "name": "stdout",
     "output_type": "stream",
     "text": [
      "Predictor loss: 11.68 | adversary loss 0.69 | Equal Opportunity Disparity = 0.04\n",
      " \n",
      "Avg Training Stats after 241 global rounds:\n",
      "Training loss: 0.40 | Validation accuracy: 81.33% | Validation Equal Opportunity Disparity: 0.0380\n",
      "\n",
      " | Global Training Round : 242 |\n",
      "\n",
      "Predictor loss: 11.68 | adversary loss 0.69 | Equal Opportunity Disparity = 0.04\n",
      " \n",
      "Avg Training Stats after 242 global rounds:\n",
      "Training loss: 0.41 | Validation accuracy: 81.33% | Validation Equal Opportunity Disparity: 0.0380\n",
      "\n",
      " | Global Training Round : 243 |\n",
      "\n"
     ]
    },
    {
     "name": "stderr",
     "output_type": "stream",
     "text": [
      " 81%|████████▏ | 244/300 [00:24<00:06,  8.54it/s]"
     ]
    },
    {
     "name": "stdout",
     "output_type": "stream",
     "text": [
      "Predictor loss: 11.68 | adversary loss 0.69 | Equal Opportunity Disparity = 0.04\n",
      " \n",
      "Avg Training Stats after 243 global rounds:\n",
      "Training loss: 0.39 | Validation accuracy: 81.33% | Validation Equal Opportunity Disparity: 0.0380\n",
      "\n",
      " | Global Training Round : 244 |\n",
      "\n",
      "Predictor loss: 11.60 | adversary loss 0.69 | Equal Opportunity Disparity = 0.04\n",
      " \n",
      "Avg Training Stats after 244 global rounds:\n",
      "Training loss: 0.40 | Validation accuracy: 81.33% | Validation Equal Opportunity Disparity: 0.0380\n",
      "\n",
      " | Global Training Round : 245 |\n",
      "\n"
     ]
    },
    {
     "name": "stderr",
     "output_type": "stream",
     "text": [
      " 82%|████████▏ | 246/300 [00:24<00:06,  8.67it/s]"
     ]
    },
    {
     "name": "stdout",
     "output_type": "stream",
     "text": [
      "Predictor loss: 11.60 | adversary loss 0.69 | Equal Opportunity Disparity = 0.04\n",
      " \n",
      "Avg Training Stats after 245 global rounds:\n",
      "Training loss: 0.41 | Validation accuracy: 81.33% | Validation Equal Opportunity Disparity: 0.0380\n",
      "\n",
      " | Global Training Round : 246 |\n",
      "\n",
      "Predictor loss: 11.60 | adversary loss 0.69 | Equal Opportunity Disparity = 0.04\n",
      " \n",
      "Avg Training Stats after 246 global rounds:\n",
      "Training loss: 0.41 | Validation accuracy: 81.33% | Validation Equal Opportunity Disparity: 0.0380\n",
      "\n",
      " | Global Training Round : 247 |\n",
      "\n",
      "Predictor loss: 11.42 | adversary loss 0.69 | Equal Opportunity Disparity = 0.04\n",
      " \n",
      "Avg Training Stats after 247 global rounds:\n",
      "Training loss: 0.40 | Validation accuracy: 82.00% | Validation Equal Opportunity Disparity: 0.0380\n",
      "\n",
      " | Global Training Round : 248 |\n",
      "\n"
     ]
    },
    {
     "name": "stderr",
     "output_type": "stream",
     "text": [
      " 83%|████████▎ | 249/300 [00:24<00:05,  9.43it/s]"
     ]
    },
    {
     "name": "stdout",
     "output_type": "stream",
     "text": [
      "Predictor loss: 11.42 | adversary loss 0.67 | Equal Opportunity Disparity = 0.04\n",
      " \n",
      "Avg Training Stats after 248 global rounds:\n",
      "Training loss: 0.40 | Validation accuracy: 82.00% | Validation Equal Opportunity Disparity: 0.0380\n",
      "\n",
      " | Global Training Round : 249 |\n",
      "\n",
      "Predictor loss: 11.42 | adversary loss 0.68 | Equal Opportunity Disparity = 0.04\n",
      " \n",
      "Avg Training Stats after 249 global rounds:\n",
      "Training loss: 0.40 | Validation accuracy: 82.00% | Validation Equal Opportunity Disparity: 0.0380\n",
      "\n",
      " | Global Training Round : 250 |\n",
      "\n"
     ]
    },
    {
     "name": "stderr",
     "output_type": "stream",
     "text": [
      " 84%|████████▍ | 252/300 [00:25<00:04,  9.79it/s]"
     ]
    },
    {
     "name": "stdout",
     "output_type": "stream",
     "text": [
      "Predictor loss: 11.35 | adversary loss 0.67 | Equal Opportunity Disparity = 0.04\n",
      " \n",
      "Avg Training Stats after 250 global rounds:\n",
      "Training loss: 0.41 | Validation accuracy: 83.00% | Validation Equal Opportunity Disparity: 0.0433\n",
      "\n",
      " | Global Training Round : 251 |\n",
      "\n",
      "Predictor loss: 11.35 | adversary loss 0.67 | Equal Opportunity Disparity = 0.04\n",
      " \n",
      "Avg Training Stats after 251 global rounds:\n",
      "Training loss: 0.39 | Validation accuracy: 83.00% | Validation Equal Opportunity Disparity: 0.0433\n",
      "\n",
      " | Global Training Round : 252 |\n",
      "\n",
      "Predictor loss: 11.35 | adversary loss 0.67 | Equal Opportunity Disparity = 0.04\n",
      " \n",
      "Avg Training Stats after 252 global rounds:\n",
      "Training loss: 0.39 | Validation accuracy: 83.00% | Validation Equal Opportunity Disparity: 0.0433\n",
      "\n",
      " | Global Training Round : 253 |\n",
      "\n"
     ]
    },
    {
     "name": "stderr",
     "output_type": "stream",
     "text": [
      " 85%|████████▌ | 255/300 [00:25<00:04,  9.60it/s]"
     ]
    },
    {
     "name": "stdout",
     "output_type": "stream",
     "text": [
      "Predictor loss: 11.36 | adversary loss 0.67 | Equal Opportunity Disparity = 0.04\n",
      " \n",
      "Avg Training Stats after 253 global rounds:\n",
      "Training loss: 0.39 | Validation accuracy: 83.00% | Validation Equal Opportunity Disparity: 0.0380\n",
      "\n",
      " | Global Training Round : 254 |\n",
      "\n",
      "Predictor loss: 11.36 | adversary loss 0.67 | Equal Opportunity Disparity = 0.04\n",
      " \n",
      "Avg Training Stats after 254 global rounds:\n",
      "Training loss: 0.40 | Validation accuracy: 83.00% | Validation Equal Opportunity Disparity: 0.0380\n",
      "\n",
      " | Global Training Round : 255 |\n",
      "\n",
      "Predictor loss: 11.36 | adversary loss 0.67 | Equal Opportunity Disparity = 0.04\n",
      " \n",
      "Avg Training Stats after 255 global rounds:\n",
      "Training loss: 0.39 | Validation accuracy: 83.00% | Validation Equal Opportunity Disparity: 0.0380\n",
      "\n",
      " | Global Training Round : 256 |\n",
      "\n"
     ]
    },
    {
     "name": "stderr",
     "output_type": "stream",
     "text": [
      " 86%|████████▌ | 258/300 [00:25<00:04,  9.90it/s]"
     ]
    },
    {
     "name": "stdout",
     "output_type": "stream",
     "text": [
      "Predictor loss: 11.52 | adversary loss 0.68 | Equal Opportunity Disparity = 0.04\n",
      " \n",
      "Avg Training Stats after 256 global rounds:\n",
      "Training loss: 0.41 | Validation accuracy: 82.00% | Validation Equal Opportunity Disparity: 0.0380\n",
      "\n",
      " | Global Training Round : 257 |\n",
      "\n",
      "Predictor loss: 11.52 | adversary loss 0.67 | Equal Opportunity Disparity = 0.04\n",
      " \n",
      "Avg Training Stats after 257 global rounds:\n",
      "Training loss: 0.40 | Validation accuracy: 82.00% | Validation Equal Opportunity Disparity: 0.0380\n",
      "\n",
      " | Global Training Round : 258 |\n",
      "\n",
      "Predictor loss: 11.52 | adversary loss 0.68 | Equal Opportunity Disparity = 0.04\n",
      " \n",
      "Avg Training Stats after 258 global rounds:\n",
      "Training loss: 0.40 | Validation accuracy: 82.00% | Validation Equal Opportunity Disparity: 0.0380\n",
      "\n",
      " | Global Training Round : 259 |\n",
      "\n"
     ]
    },
    {
     "name": "stderr",
     "output_type": "stream",
     "text": [
      "\r",
      " 87%|████████▋ | 260/300 [00:25<00:03, 10.10it/s]"
     ]
    },
    {
     "name": "stdout",
     "output_type": "stream",
     "text": [
      "Predictor loss: 11.55 | adversary loss 0.67 | Equal Opportunity Disparity = 0.04\n",
      " \n",
      "Avg Training Stats after 259 global rounds:\n",
      "Training loss: 0.40 | Validation accuracy: 82.33% | Validation Equal Opportunity Disparity: 0.0380\n",
      "\n",
      " | Global Training Round : 260 |\n",
      "\n",
      "Predictor loss: 11.55 | adversary loss 0.68 | Equal Opportunity Disparity = 0.04\n",
      " \n",
      "Avg Training Stats after 260 global rounds:\n",
      "Training loss: 0.40 | Validation accuracy: 82.33% | Validation Equal Opportunity Disparity: 0.0380\n",
      "\n",
      " | Global Training Round : 261 |\n",
      "\n",
      "Predictor loss: 11.55 | adversary loss 0.68 | Equal Opportunity Disparity = 0.04\n",
      " \n",
      "Avg Training Stats after 261 global rounds:\n",
      "Training loss: 0.39 | Validation accuracy: 82.33% | Validation Equal Opportunity Disparity: 0.0380\n",
      "\n",
      " | Global Training Round : 262 |\n",
      "\n"
     ]
    },
    {
     "name": "stderr",
     "output_type": "stream",
     "text": [
      " 88%|████████▊ | 264/300 [00:26<00:03, 10.80it/s]"
     ]
    },
    {
     "name": "stdout",
     "output_type": "stream",
     "text": [
      "Predictor loss: 11.33 | adversary loss 0.68 | Equal Opportunity Disparity = 0.04\n",
      " \n",
      "Avg Training Stats after 262 global rounds:\n",
      "Training loss: 0.39 | Validation accuracy: 83.33% | Validation Equal Opportunity Disparity: 0.0433\n",
      "\n",
      " | Global Training Round : 263 |\n",
      "\n",
      "Predictor loss: 11.33 | adversary loss 0.68 | Equal Opportunity Disparity = 0.04\n",
      " \n",
      "Avg Training Stats after 263 global rounds:\n",
      "Training loss: 0.39 | Validation accuracy: 83.33% | Validation Equal Opportunity Disparity: 0.0433\n",
      "\n",
      " | Global Training Round : 264 |\n",
      "\n",
      "Predictor loss: 11.33 | adversary loss 0.69 | Equal Opportunity Disparity = 0.04\n",
      " \n",
      "Avg Training Stats after 264 global rounds:\n",
      "Training loss: 0.38 | Validation accuracy: 83.33% | Validation Equal Opportunity Disparity: 0.0433\n",
      "\n",
      " | Global Training Round : 265 |\n",
      "\n"
     ]
    },
    {
     "name": "stderr",
     "output_type": "stream",
     "text": [
      "\r",
      " 89%|████████▊ | 266/300 [00:26<00:03, 10.61it/s]"
     ]
    },
    {
     "name": "stdout",
     "output_type": "stream",
     "text": [
      "Predictor loss: 11.31 | adversary loss 0.69 | Equal Opportunity Disparity = 0.04\n",
      " \n",
      "Avg Training Stats after 265 global rounds:\n",
      "Training loss: 0.39 | Validation accuracy: 83.00% | Validation Equal Opportunity Disparity: 0.0433\n",
      "\n",
      " | Global Training Round : 266 |\n",
      "\n",
      "Predictor loss: 11.31 | adversary loss 0.68 | Equal Opportunity Disparity = 0.04\n",
      " \n",
      "Avg Training Stats after 266 global rounds:\n",
      "Training loss: 0.40 | Validation accuracy: 83.00% | Validation Equal Opportunity Disparity: 0.0433\n",
      "\n",
      " | Global Training Round : 267 |\n",
      "\n",
      "Predictor loss: 11.31 | adversary loss 0.68 | Equal Opportunity Disparity = 0.04\n",
      " \n",
      "Avg Training Stats after 267 global rounds:\n",
      "Training loss: 0.39 | Validation accuracy: 83.00% | Validation Equal Opportunity Disparity: 0.0433\n",
      "\n",
      " | Global Training Round : 268 |\n",
      "\n"
     ]
    },
    {
     "name": "stderr",
     "output_type": "stream",
     "text": [
      "\r",
      " 89%|████████▉ | 268/300 [00:26<00:03, 10.38it/s]"
     ]
    },
    {
     "name": "stdout",
     "output_type": "stream",
     "text": [
      "Predictor loss: 11.20 | adversary loss 0.68 | Equal Opportunity Disparity = 0.04\n",
      " \n",
      "Avg Training Stats after 268 global rounds:\n",
      "Training loss: 0.39 | Validation accuracy: 83.33% | Validation Equal Opportunity Disparity: 0.0433\n",
      "\n",
      " | Global Training Round : 269 |\n",
      "\n",
      "Predictor loss: 11.20 | adversary loss 0.69 | Equal Opportunity Disparity = 0.04\n",
      " \n",
      "Avg Training Stats after 269 global rounds:\n",
      "Training loss: 0.39 | Validation accuracy: 83.33% | Validation Equal Opportunity Disparity: 0.0433\n",
      "\n",
      " | Global Training Round : 270 |\n",
      "\n"
     ]
    },
    {
     "name": "stderr",
     "output_type": "stream",
     "text": [
      "\r",
      " 90%|█████████ | 270/300 [00:26<00:02, 10.14it/s]"
     ]
    },
    {
     "name": "stdout",
     "output_type": "stream",
     "text": [
      "Predictor loss: 11.20 | adversary loss 0.68 | Equal Opportunity Disparity = 0.04\n",
      " \n",
      "Avg Training Stats after 270 global rounds:\n",
      "Training loss: 0.38 | Validation accuracy: 83.33% | Validation Equal Opportunity Disparity: 0.0433\n",
      "\n",
      " | Global Training Round : 271 |\n",
      "\n"
     ]
    },
    {
     "name": "stderr",
     "output_type": "stream",
     "text": [
      "\r",
      " 91%|█████████ | 272/300 [00:27<00:03,  8.48it/s]"
     ]
    },
    {
     "name": "stdout",
     "output_type": "stream",
     "text": [
      "Predictor loss: 11.07 | adversary loss 0.68 | Equal Opportunity Disparity = 0.04\n",
      " \n",
      "Avg Training Stats after 271 global rounds:\n",
      "Training loss: 0.38 | Validation accuracy: 83.67% | Validation Equal Opportunity Disparity: 0.0433\n",
      "\n",
      " | Global Training Round : 272 |\n",
      "\n",
      "Predictor loss: 11.07 | adversary loss 0.68 | Equal Opportunity Disparity = 0.04\n",
      " \n",
      "Avg Training Stats after 272 global rounds:\n",
      "Training loss: 0.39 | Validation accuracy: 83.67% | Validation Equal Opportunity Disparity: 0.0433\n",
      "\n",
      " | Global Training Round : 273 |\n",
      "\n"
     ]
    },
    {
     "name": "stderr",
     "output_type": "stream",
     "text": [
      "\r",
      " 91%|█████████ | 273/300 [00:27<00:03,  8.74it/s]"
     ]
    },
    {
     "name": "stdout",
     "output_type": "stream",
     "text": [
      "Predictor loss: 11.07 | adversary loss 0.68 | Equal Opportunity Disparity = 0.04\n",
      " \n",
      "Avg Training Stats after 273 global rounds:\n",
      "Training loss: 0.38 | Validation accuracy: 83.67% | Validation Equal Opportunity Disparity: 0.0433\n",
      "\n",
      " | Global Training Round : 274 |\n",
      "\n",
      "Predictor loss: 11.16 | adversary loss 0.68 | Equal Opportunity Disparity = 0.04\n",
      " \n",
      "Avg Training Stats after 274 global rounds:\n",
      "Training loss: 0.40 | Validation accuracy: 83.33% | Validation Equal Opportunity Disparity: 0.0433\n",
      "\n",
      " | Global Training Round : 275 |\n",
      "\n"
     ]
    },
    {
     "name": "stderr",
     "output_type": "stream",
     "text": [
      " 92%|█████████▏| 277/300 [00:27<00:02,  9.39it/s]"
     ]
    },
    {
     "name": "stdout",
     "output_type": "stream",
     "text": [
      "Predictor loss: 11.16 | adversary loss 0.68 | Equal Opportunity Disparity = 0.04\n",
      " \n",
      "Avg Training Stats after 275 global rounds:\n",
      "Training loss: 0.39 | Validation accuracy: 83.33% | Validation Equal Opportunity Disparity: 0.0433\n",
      "\n",
      " | Global Training Round : 276 |\n",
      "\n",
      "Predictor loss: 11.16 | adversary loss 0.69 | Equal Opportunity Disparity = 0.04\n",
      " \n",
      "Avg Training Stats after 276 global rounds:\n",
      "Training loss: 0.38 | Validation accuracy: 83.33% | Validation Equal Opportunity Disparity: 0.0433\n",
      "\n",
      " | Global Training Round : 277 |\n",
      "\n",
      "Predictor loss: 11.38 | adversary loss 0.69 | Equal Opportunity Disparity = 0.03\n",
      " \n",
      "Avg Training Stats after 277 global rounds:\n",
      "Training loss: 0.39 | Validation accuracy: 83.00% | Validation Equal Opportunity Disparity: 0.0327\n",
      "\n",
      " | Global Training Round : 278 |\n",
      "\n"
     ]
    },
    {
     "name": "stderr",
     "output_type": "stream",
     "text": [
      "\r",
      " 93%|█████████▎| 279/300 [00:27<00:02, 10.08it/s]"
     ]
    },
    {
     "name": "stdout",
     "output_type": "stream",
     "text": [
      "Predictor loss: 11.38 | adversary loss 0.69 | Equal Opportunity Disparity = 0.03\n",
      " \n",
      "Avg Training Stats after 278 global rounds:\n",
      "Training loss: 0.40 | Validation accuracy: 83.00% | Validation Equal Opportunity Disparity: 0.0327\n",
      "\n",
      " | Global Training Round : 279 |\n",
      "\n",
      "Predictor loss: 11.38 | adversary loss 0.69 | Equal Opportunity Disparity = 0.03\n",
      " \n",
      "Avg Training Stats after 279 global rounds:\n",
      "Training loss: 0.40 | Validation accuracy: 83.00% | Validation Equal Opportunity Disparity: 0.0327\n",
      "\n",
      " | Global Training Round : 280 |\n",
      "\n",
      "Predictor loss: 11.45 | adversary loss 0.69 | Equal Opportunity Disparity = 0.04\n",
      " \n",
      "Avg Training Stats after 280 global rounds:\n",
      "Training loss: 0.39 | Validation accuracy: 82.67% | Validation Equal Opportunity Disparity: 0.0433\n",
      "\n",
      " | Global Training Round : 281 |\n",
      "\n"
     ]
    },
    {
     "name": "stderr",
     "output_type": "stream",
     "text": [
      " 94%|█████████▍| 283/300 [00:28<00:01, 10.23it/s]"
     ]
    },
    {
     "name": "stdout",
     "output_type": "stream",
     "text": [
      "Predictor loss: 11.45 | adversary loss 0.68 | Equal Opportunity Disparity = 0.04\n",
      " \n",
      "Avg Training Stats after 281 global rounds:\n",
      "Training loss: 0.40 | Validation accuracy: 82.67% | Validation Equal Opportunity Disparity: 0.0433\n",
      "\n",
      " | Global Training Round : 282 |\n",
      "\n",
      "Predictor loss: 11.45 | adversary loss 0.68 | Equal Opportunity Disparity = 0.04\n",
      " \n",
      "Avg Training Stats after 282 global rounds:\n",
      "Training loss: 0.39 | Validation accuracy: 82.67% | Validation Equal Opportunity Disparity: 0.0433\n",
      "\n",
      " | Global Training Round : 283 |\n",
      "\n",
      "Predictor loss: 11.44 | adversary loss 0.68 | Equal Opportunity Disparity = 0.04\n",
      " \n",
      "Avg Training Stats after 283 global rounds:\n",
      "Training loss: 0.40 | Validation accuracy: 82.67% | Validation Equal Opportunity Disparity: 0.0380\n",
      "\n",
      " | Global Training Round : 284 |\n",
      "\n"
     ]
    },
    {
     "name": "stderr",
     "output_type": "stream",
     "text": [
      " 95%|█████████▌| 286/300 [00:28<00:01,  9.16it/s]"
     ]
    },
    {
     "name": "stdout",
     "output_type": "stream",
     "text": [
      "Predictor loss: 11.44 | adversary loss 0.68 | Equal Opportunity Disparity = 0.04\n",
      " \n",
      "Avg Training Stats after 284 global rounds:\n",
      "Training loss: 0.40 | Validation accuracy: 82.67% | Validation Equal Opportunity Disparity: 0.0380\n",
      "\n",
      " | Global Training Round : 285 |\n",
      "\n",
      "Predictor loss: 11.44 | adversary loss 0.69 | Equal Opportunity Disparity = 0.04\n",
      " \n",
      "Avg Training Stats after 285 global rounds:\n",
      "Training loss: 0.40 | Validation accuracy: 82.67% | Validation Equal Opportunity Disparity: 0.0380\n",
      "\n",
      " | Global Training Round : 286 |\n",
      "\n",
      "Predictor loss: 11.16 | adversary loss 0.68 | Equal Opportunity Disparity = 0.05\n",
      " \n",
      "Avg Training Stats after 286 global rounds:\n",
      "Training loss: 0.39 | Validation accuracy: 83.67% | Validation Equal Opportunity Disparity: 0.0486\n",
      "\n",
      " | Global Training Round : 287 |\n",
      "\n"
     ]
    },
    {
     "name": "stderr",
     "output_type": "stream",
     "text": [
      "\r",
      " 96%|█████████▌| 287/300 [00:28<00:01,  9.12it/s]"
     ]
    },
    {
     "name": "stdout",
     "output_type": "stream",
     "text": [
      "Predictor loss: 11.16 | adversary loss 0.68 | Equal Opportunity Disparity = 0.05\n",
      " \n",
      "Avg Training Stats after 287 global rounds:\n",
      "Training loss: 0.39 | Validation accuracy: 83.67% | Validation Equal Opportunity Disparity: 0.0486\n",
      "\n",
      " | Global Training Round : 288 |\n",
      "\n",
      "Predictor loss: 11.16 | adversary loss 0.68 | Equal Opportunity Disparity = 0.05\n",
      " \n",
      "Avg Training Stats after 288 global rounds:\n",
      "Training loss: 0.38 | Validation accuracy: 83.67% | Validation Equal Opportunity Disparity: 0.0486\n",
      "\n",
      " | Global Training Round : 289 |\n",
      "\n"
     ]
    },
    {
     "name": "stderr",
     "output_type": "stream",
     "text": [
      " 97%|█████████▋| 290/300 [00:29<00:01,  9.31it/s]"
     ]
    },
    {
     "name": "stdout",
     "output_type": "stream",
     "text": [
      "Predictor loss: 11.14 | adversary loss 0.68 | Equal Opportunity Disparity = 0.05\n",
      " \n",
      "Avg Training Stats after 289 global rounds:\n",
      "Training loss: 0.39 | Validation accuracy: 83.33% | Validation Equal Opportunity Disparity: 0.0486\n",
      "\n",
      " | Global Training Round : 290 |\n",
      "\n",
      "Predictor loss: 11.14 | adversary loss 0.68 | Equal Opportunity Disparity = 0.05\n",
      " \n",
      "Avg Training Stats after 290 global rounds:\n",
      "Training loss: 0.39 | Validation accuracy: 83.33% | Validation Equal Opportunity Disparity: 0.0486\n",
      "\n",
      " | Global Training Round : 291 |\n",
      "\n"
     ]
    },
    {
     "name": "stderr",
     "output_type": "stream",
     "text": [
      " 97%|█████████▋| 292/300 [00:29<00:00,  9.28it/s]"
     ]
    },
    {
     "name": "stdout",
     "output_type": "stream",
     "text": [
      "Predictor loss: 11.14 | adversary loss 0.67 | Equal Opportunity Disparity = 0.05\n",
      " \n",
      "Avg Training Stats after 291 global rounds:\n",
      "Training loss: 0.39 | Validation accuracy: 83.33% | Validation Equal Opportunity Disparity: 0.0486\n",
      "\n",
      " | Global Training Round : 292 |\n",
      "\n",
      "Predictor loss: 11.20 | adversary loss 0.67 | Equal Opportunity Disparity = 0.05\n",
      " \n",
      "Avg Training Stats after 292 global rounds:\n",
      "Training loss: 0.38 | Validation accuracy: 83.67% | Validation Equal Opportunity Disparity: 0.0486\n",
      "\n",
      " | Global Training Round : 293 |\n",
      "\n"
     ]
    },
    {
     "name": "stderr",
     "output_type": "stream",
     "text": [
      " 98%|█████████▊| 295/300 [00:29<00:00,  9.56it/s]"
     ]
    },
    {
     "name": "stdout",
     "output_type": "stream",
     "text": [
      "Predictor loss: 11.20 | adversary loss 0.68 | Equal Opportunity Disparity = 0.05\n",
      " \n",
      "Avg Training Stats after 293 global rounds:\n",
      "Training loss: 0.38 | Validation accuracy: 83.67% | Validation Equal Opportunity Disparity: 0.0486\n",
      "\n",
      " | Global Training Round : 294 |\n",
      "\n",
      "Predictor loss: 11.20 | adversary loss 0.67 | Equal Opportunity Disparity = 0.05\n",
      " \n",
      "Avg Training Stats after 294 global rounds:\n",
      "Training loss: 0.39 | Validation accuracy: 83.67% | Validation Equal Opportunity Disparity: 0.0486\n",
      "\n",
      " | Global Training Round : 295 |\n",
      "\n",
      "Predictor loss: 11.27 | adversary loss 0.68 | Equal Opportunity Disparity = 0.05\n",
      " \n",
      "Avg Training Stats after 295 global rounds:\n",
      "Training loss: 0.40 | Validation accuracy: 83.33% | Validation Equal Opportunity Disparity: 0.0486\n",
      "\n",
      " | Global Training Round : 296 |\n",
      "\n"
     ]
    },
    {
     "name": "stderr",
     "output_type": "stream",
     "text": [
      "\r",
      " 99%|█████████▉| 297/300 [00:29<00:00,  9.93it/s]"
     ]
    },
    {
     "name": "stdout",
     "output_type": "stream",
     "text": [
      "Predictor loss: 11.27 | adversary loss 0.68 | Equal Opportunity Disparity = 0.05\n",
      " \n",
      "Avg Training Stats after 296 global rounds:\n",
      "Training loss: 0.39 | Validation accuracy: 83.33% | Validation Equal Opportunity Disparity: 0.0486\n",
      "\n",
      " | Global Training Round : 297 |\n",
      "\n",
      "Predictor loss: 11.27 | adversary loss 0.68 | Equal Opportunity Disparity = 0.05\n",
      " \n",
      "Avg Training Stats after 297 global rounds:\n",
      "Training loss: 0.38 | Validation accuracy: 83.33% | Validation Equal Opportunity Disparity: 0.0486\n",
      "\n",
      " | Global Training Round : 298 |\n",
      "\n",
      "Predictor loss: 11.38 | adversary loss 0.69 | Equal Opportunity Disparity = 0.05\n",
      " \n",
      "Avg Training Stats after 298 global rounds:\n",
      "Training loss: 0.39 | Validation accuracy: 83.00% | Validation Equal Opportunity Disparity: 0.0486\n",
      "\n",
      " | Global Training Round : 299 |\n",
      "\n"
     ]
    },
    {
     "name": "stderr",
     "output_type": "stream",
     "text": [
      "100%|██████████| 300/300 [00:30<00:00,  9.97it/s]"
     ]
    },
    {
     "name": "stdout",
     "output_type": "stream",
     "text": [
      "Predictor loss: 11.38 | adversary loss 0.68 | Equal Opportunity Disparity = 0.05\n",
      " \n",
      "Avg Training Stats after 299 global rounds:\n",
      "Training loss: 0.41 | Validation accuracy: 83.00% | Validation Equal Opportunity Disparity: 0.0486\n",
      "\n",
      " | Global Training Round : 300 |\n",
      "\n",
      "Predictor loss: 11.38 | adversary loss 0.67 | Equal Opportunity Disparity = 0.05\n",
      " \n",
      "Avg Training Stats after 300 global rounds:\n",
      "Training loss: 0.40 | Validation accuracy: 83.00% | Validation Equal Opportunity Disparity: 0.0486\n",
      " \n",
      " Results after 300 global rounds of training:\n",
      "|---- Avg Train Accuracy: 83.00%\n",
      "|---- Test Accuracy: 80.33%\n",
      "|---- Test Equal Opportunity Disparity: 0.0046\n",
      "\n",
      " Total Run Time: 30.2054 sec\n"
     ]
    },
    {
     "name": "stderr",
     "output_type": "stream",
     "text": [
      "\n"
     ]
    }
   ],
   "source": [
    "server = Server(logReg(num_features=3, num_classes=2, seed = seed), synthetic_info, train_prn = False, seed = seed)\n",
    "server.FTrain(num_epochs = 300, init_epochs = 50, lr_g = 0.005, lr_d = 0.01, lambda_d = 0.8)"
   ]
  },
  {
   "cell_type": "code",
   "execution_count": 4,
   "metadata": {},
   "outputs": [
    {
     "name": "stderr",
     "output_type": "stream",
     "text": [
      "  0%|          | 1/300 [00:00<00:50,  5.91it/s]"
     ]
    },
    {
     "name": "stdout",
     "output_type": "stream",
     "text": [
      "\n",
      " | Global Training Round : 1 |\n",
      "\n",
      "Accuracy loss: 21.61 | fairness loss 48.10 | Equal Opportunity Disparity = 0.40\n",
      " \n",
      "Avg Training Stats after 1 global rounds:\n",
      "Training loss: 0.84 | Validation accuracy: 62.00% | Validation Equal Opportunity Disparity: 0.4014\n",
      "\n",
      " | Global Training Round : 2 |\n",
      "\n"
     ]
    },
    {
     "name": "stderr",
     "output_type": "stream",
     "text": [
      "  1%|          | 3/300 [00:00<00:49,  5.98it/s]"
     ]
    },
    {
     "name": "stdout",
     "output_type": "stream",
     "text": [
      "Accuracy loss: 20.05 | fairness loss 52.75 | Equal Opportunity Disparity = 0.49\n",
      " \n",
      "Avg Training Stats after 2 global rounds:\n",
      "Training loss: 0.81 | Validation accuracy: 66.00% | Validation Equal Opportunity Disparity: 0.4945\n",
      "\n",
      " | Global Training Round : 3 |\n",
      "\n",
      "Accuracy loss: 18.84 | fairness loss 56.44 | Equal Opportunity Disparity = 0.53\n",
      " \n",
      "Avg Training Stats after 3 global rounds:\n",
      "Training loss: 0.77 | Validation accuracy: 69.67% | Validation Equal Opportunity Disparity: 0.5262\n",
      "\n",
      " | Global Training Round : 4 |\n",
      "\n"
     ]
    },
    {
     "name": "stderr",
     "output_type": "stream",
     "text": [
      "  2%|▏         | 5/300 [00:00<00:45,  6.45it/s]"
     ]
    },
    {
     "name": "stdout",
     "output_type": "stream",
     "text": [
      "Accuracy loss: 17.88 | fairness loss 59.38 | Equal Opportunity Disparity = 0.54\n",
      " \n",
      "Avg Training Stats after 4 global rounds:\n",
      "Training loss: 0.79 | Validation accuracy: 71.33% | Validation Equal Opportunity Disparity: 0.5421\n",
      "\n",
      " | Global Training Round : 5 |\n",
      "\n",
      "Accuracy loss: 17.10 | fairness loss 59.18 | Equal Opportunity Disparity = 0.61\n",
      " \n",
      "Avg Training Stats after 5 global rounds:\n",
      "Training loss: 0.77 | Validation accuracy: 72.67% | Validation Equal Opportunity Disparity: 0.6087\n",
      "\n",
      " | Global Training Round : 6 |\n",
      "\n"
     ]
    },
    {
     "name": "stderr",
     "output_type": "stream",
     "text": [
      "  2%|▏         | 7/300 [00:01<00:43,  6.68it/s]"
     ]
    },
    {
     "name": "stdout",
     "output_type": "stream",
     "text": [
      "Accuracy loss: 16.44 | fairness loss 57.69 | Equal Opportunity Disparity = 0.62\n",
      " \n",
      "Avg Training Stats after 6 global rounds:\n",
      "Training loss: 0.75 | Validation accuracy: 73.67% | Validation Equal Opportunity Disparity: 0.6193\n",
      "\n",
      " | Global Training Round : 7 |\n",
      "\n",
      "Accuracy loss: 15.88 | fairness loss 55.01 | Equal Opportunity Disparity = 0.60\n",
      " \n",
      "Avg Training Stats after 7 global rounds:\n",
      "Training loss: 0.76 | Validation accuracy: 75.33% | Validation Equal Opportunity Disparity: 0.6003\n",
      "\n",
      " | Global Training Round : 8 |\n",
      "\n"
     ]
    },
    {
     "name": "stderr",
     "output_type": "stream",
     "text": [
      "  3%|▎         | 9/300 [00:01<00:43,  6.76it/s]"
     ]
    },
    {
     "name": "stdout",
     "output_type": "stream",
     "text": [
      "Accuracy loss: 15.38 | fairness loss 51.54 | Equal Opportunity Disparity = 0.61\n",
      " \n",
      "Avg Training Stats after 8 global rounds:\n",
      "Training loss: 0.73 | Validation accuracy: 76.33% | Validation Equal Opportunity Disparity: 0.6109\n",
      "\n",
      " | Global Training Round : 9 |\n",
      "\n",
      "Accuracy loss: 14.96 | fairness loss 47.44 | Equal Opportunity Disparity = 0.54\n",
      " \n",
      "Avg Training Stats after 9 global rounds:\n",
      "Training loss: 0.70 | Validation accuracy: 77.67% | Validation Equal Opportunity Disparity: 0.5411\n",
      "\n",
      " | Global Training Round : 10 |\n",
      "\n"
     ]
    },
    {
     "name": "stderr",
     "output_type": "stream",
     "text": [
      "  4%|▎         | 11/300 [00:01<00:42,  6.74it/s]"
     ]
    },
    {
     "name": "stdout",
     "output_type": "stream",
     "text": [
      "Accuracy loss: 14.61 | fairness loss 43.81 | Equal Opportunity Disparity = 0.56\n",
      " \n",
      "Avg Training Stats after 10 global rounds:\n",
      "Training loss: 0.71 | Validation accuracy: 78.33% | Validation Equal Opportunity Disparity: 0.5570\n",
      "\n",
      " | Global Training Round : 11 |\n",
      "\n",
      "Accuracy loss: 14.33 | fairness loss 40.00 | Equal Opportunity Disparity = 0.48\n",
      " \n",
      "Avg Training Stats after 11 global rounds:\n",
      "Training loss: 0.66 | Validation accuracy: 79.00% | Validation Equal Opportunity Disparity: 0.4767\n",
      "\n",
      " | Global Training Round : 12 |\n",
      "\n"
     ]
    },
    {
     "name": "stderr",
     "output_type": "stream",
     "text": [
      "  4%|▍         | 13/300 [00:01<00:42,  6.73it/s]"
     ]
    },
    {
     "name": "stdout",
     "output_type": "stream",
     "text": [
      "Accuracy loss: 14.11 | fairness loss 37.14 | Equal Opportunity Disparity = 0.40\n",
      " \n",
      "Avg Training Stats after 12 global rounds:\n",
      "Training loss: 0.65 | Validation accuracy: 80.00% | Validation Equal Opportunity Disparity: 0.4016\n",
      "\n",
      " | Global Training Round : 13 |\n",
      "\n",
      "Accuracy loss: 13.94 | fairness loss 34.33 | Equal Opportunity Disparity = 0.24\n",
      " \n",
      "Avg Training Stats after 13 global rounds:\n",
      "Training loss: 0.63 | Validation accuracy: 81.00% | Validation Equal Opportunity Disparity: 0.2410\n",
      "\n",
      " | Global Training Round : 14 |\n",
      "\n"
     ]
    },
    {
     "name": "stderr",
     "output_type": "stream",
     "text": [
      "  5%|▌         | 15/300 [00:02<00:42,  6.72it/s]"
     ]
    },
    {
     "name": "stdout",
     "output_type": "stream",
     "text": [
      "Accuracy loss: 13.84 | fairness loss 31.97 | Equal Opportunity Disparity = 0.12\n",
      " \n",
      "Avg Training Stats after 14 global rounds:\n",
      "Training loss: 0.60 | Validation accuracy: 82.00% | Validation Equal Opportunity Disparity: 0.1205\n",
      "\n",
      " | Global Training Round : 15 |\n",
      "\n",
      "Accuracy loss: 13.74 | fairness loss 30.19 | Equal Opportunity Disparity = 0.12\n",
      " \n",
      "Avg Training Stats after 15 global rounds:\n",
      "Training loss: 0.59 | Validation accuracy: 81.00% | Validation Equal Opportunity Disparity: 0.1205\n",
      "\n",
      " | Global Training Round : 16 |\n",
      "\n"
     ]
    },
    {
     "name": "stderr",
     "output_type": "stream",
     "text": [
      "  6%|▌         | 17/300 [00:02<00:43,  6.47it/s]"
     ]
    },
    {
     "name": "stdout",
     "output_type": "stream",
     "text": [
      "Accuracy loss: 13.70 | fairness loss 28.80 | Equal Opportunity Disparity = 0.08\n",
      " \n",
      "Avg Training Stats after 16 global rounds:\n",
      "Training loss: 0.55 | Validation accuracy: 80.00% | Validation Equal Opportunity Disparity: 0.0803\n",
      "\n",
      " | Global Training Round : 17 |\n",
      "\n",
      "Accuracy loss: 13.58 | fairness loss 28.23 | Equal Opportunity Disparity = 0.08\n",
      " \n",
      "Avg Training Stats after 17 global rounds:\n",
      "Training loss: 0.56 | Validation accuracy: 80.33% | Validation Equal Opportunity Disparity: 0.0803\n",
      "\n",
      " | Global Training Round : 18 |\n",
      "\n"
     ]
    },
    {
     "name": "stderr",
     "output_type": "stream",
     "text": [
      "  6%|▋         | 19/300 [00:02<00:41,  6.76it/s]"
     ]
    },
    {
     "name": "stdout",
     "output_type": "stream",
     "text": [
      "Accuracy loss: 13.56 | fairness loss 27.45 | Equal Opportunity Disparity = 0.08\n",
      " \n",
      "Avg Training Stats after 18 global rounds:\n",
      "Training loss: 0.53 | Validation accuracy: 79.00% | Validation Equal Opportunity Disparity: 0.0803\n",
      "\n",
      " | Global Training Round : 19 |\n",
      "\n",
      "Accuracy loss: 13.50 | fairness loss 27.10 | Equal Opportunity Disparity = 0.04\n",
      " \n",
      "Avg Training Stats after 19 global rounds:\n",
      "Training loss: 0.51 | Validation accuracy: 78.33% | Validation Equal Opportunity Disparity: 0.0402\n",
      "\n",
      " | Global Training Round : 20 |\n",
      "\n"
     ]
    },
    {
     "name": "stderr",
     "output_type": "stream",
     "text": [
      "  7%|▋         | 21/300 [00:03<00:39,  7.06it/s]"
     ]
    },
    {
     "name": "stdout",
     "output_type": "stream",
     "text": [
      "Accuracy loss: 13.42 | fairness loss 27.17 | Equal Opportunity Disparity = 0.04\n",
      " \n",
      "Avg Training Stats after 20 global rounds:\n",
      "Training loss: 0.49 | Validation accuracy: 77.67% | Validation Equal Opportunity Disparity: 0.0402\n",
      "\n",
      " | Global Training Round : 21 |\n",
      "\n",
      "Accuracy loss: 13.40 | fairness loss 27.06 | Equal Opportunity Disparity = 0.04\n",
      " \n",
      "Avg Training Stats after 21 global rounds:\n",
      "Training loss: 0.48 | Validation accuracy: 78.67% | Validation Equal Opportunity Disparity: 0.0402\n",
      "\n",
      " | Global Training Round : 22 |\n",
      "\n"
     ]
    },
    {
     "name": "stderr",
     "output_type": "stream",
     "text": [
      "  8%|▊         | 23/300 [00:03<00:40,  6.77it/s]"
     ]
    },
    {
     "name": "stdout",
     "output_type": "stream",
     "text": [
      "Accuracy loss: 13.27 | fairness loss 27.51 | Equal Opportunity Disparity = 0.08\n",
      " \n",
      "Avg Training Stats after 22 global rounds:\n",
      "Training loss: 0.48 | Validation accuracy: 78.67% | Validation Equal Opportunity Disparity: 0.0803\n",
      "\n",
      " | Global Training Round : 23 |\n",
      "\n",
      "Accuracy loss: 13.26 | fairness loss 27.66 | Equal Opportunity Disparity = 0.08\n",
      " \n",
      "Avg Training Stats after 23 global rounds:\n",
      "Training loss: 0.47 | Validation accuracy: 78.00% | Validation Equal Opportunity Disparity: 0.0803\n",
      "\n",
      " | Global Training Round : 24 |\n",
      "\n"
     ]
    },
    {
     "name": "stderr",
     "output_type": "stream",
     "text": [
      "  8%|▊         | 25/300 [00:03<00:40,  6.75it/s]"
     ]
    },
    {
     "name": "stdout",
     "output_type": "stream",
     "text": [
      "Accuracy loss: 13.24 | fairness loss 27.87 | Equal Opportunity Disparity = 0.08\n",
      " \n",
      "Avg Training Stats after 24 global rounds:\n",
      "Training loss: 0.47 | Validation accuracy: 78.00% | Validation Equal Opportunity Disparity: 0.0803\n",
      "\n",
      " | Global Training Round : 25 |\n",
      "\n",
      "Accuracy loss: 13.16 | fairness loss 28.37 | Equal Opportunity Disparity = 0.12\n",
      " \n",
      "Avg Training Stats after 25 global rounds:\n",
      "Training loss: 0.46 | Validation accuracy: 78.33% | Validation Equal Opportunity Disparity: 0.1152\n",
      "\n",
      " | Global Training Round : 26 |\n",
      "\n"
     ]
    },
    {
     "name": "stderr",
     "output_type": "stream",
     "text": [
      "  9%|▉         | 27/300 [00:04<00:37,  7.19it/s]"
     ]
    },
    {
     "name": "stdout",
     "output_type": "stream",
     "text": [
      "Accuracy loss: 13.28 | fairness loss 28.25 | Equal Opportunity Disparity = 0.12\n",
      " \n",
      "Avg Training Stats after 26 global rounds:\n",
      "Training loss: 0.44 | Validation accuracy: 78.00% | Validation Equal Opportunity Disparity: 0.1152\n",
      "\n",
      " | Global Training Round : 27 |\n",
      "\n",
      "Accuracy loss: 13.13 | fairness loss 29.10 | Equal Opportunity Disparity = 0.12\n",
      " \n",
      "Avg Training Stats after 27 global rounds:\n",
      "Training loss: 0.44 | Validation accuracy: 79.00% | Validation Equal Opportunity Disparity: 0.1152\n",
      "\n",
      " | Global Training Round : 28 |\n",
      "\n"
     ]
    },
    {
     "name": "stderr",
     "output_type": "stream",
     "text": [
      " 10%|▉         | 29/300 [00:04<00:37,  7.25it/s]"
     ]
    },
    {
     "name": "stdout",
     "output_type": "stream",
     "text": [
      "Accuracy loss: 13.06 | fairness loss 29.73 | Equal Opportunity Disparity = 0.12\n",
      " \n",
      "Avg Training Stats after 28 global rounds:\n",
      "Training loss: 0.43 | Validation accuracy: 79.00% | Validation Equal Opportunity Disparity: 0.1152\n",
      "\n",
      " | Global Training Round : 29 |\n",
      "\n",
      "Accuracy loss: 13.04 | fairness loss 30.25 | Equal Opportunity Disparity = 0.10\n",
      " \n",
      "Avg Training Stats after 29 global rounds:\n",
      "Training loss: 0.43 | Validation accuracy: 78.67% | Validation Equal Opportunity Disparity: 0.1046\n",
      "\n",
      " | Global Training Round : 30 |\n",
      "\n"
     ]
    },
    {
     "name": "stderr",
     "output_type": "stream",
     "text": [
      " 10%|█         | 31/300 [00:04<00:36,  7.31it/s]"
     ]
    },
    {
     "name": "stdout",
     "output_type": "stream",
     "text": [
      "Accuracy loss: 13.05 | fairness loss 30.69 | Equal Opportunity Disparity = 0.10\n",
      " \n",
      "Avg Training Stats after 30 global rounds:\n",
      "Training loss: 0.42 | Validation accuracy: 79.00% | Validation Equal Opportunity Disparity: 0.1046\n",
      "\n",
      " | Global Training Round : 31 |\n",
      "\n",
      "Accuracy loss: 13.04 | fairness loss 31.21 | Equal Opportunity Disparity = 0.10\n",
      " \n",
      "Avg Training Stats after 31 global rounds:\n",
      "Training loss: 0.43 | Validation accuracy: 78.67% | Validation Equal Opportunity Disparity: 0.0993\n",
      "\n",
      " | Global Training Round : 32 |\n",
      "\n"
     ]
    },
    {
     "name": "stderr",
     "output_type": "stream",
     "text": [
      " 11%|█         | 33/300 [00:04<00:34,  7.68it/s]"
     ]
    },
    {
     "name": "stdout",
     "output_type": "stream",
     "text": [
      "Accuracy loss: 13.15 | fairness loss 31.40 | Equal Opportunity Disparity = 0.09\n",
      " \n",
      "Avg Training Stats after 32 global rounds:\n",
      "Training loss: 0.41 | Validation accuracy: 78.00% | Validation Equal Opportunity Disparity: 0.0887\n",
      "\n",
      " | Global Training Round : 33 |\n",
      "\n",
      "Accuracy loss: 13.09 | fairness loss 32.06 | Equal Opportunity Disparity = 0.09\n",
      " \n",
      "Avg Training Stats after 33 global rounds:\n",
      "Training loss: 0.42 | Validation accuracy: 78.00% | Validation Equal Opportunity Disparity: 0.0887\n",
      "\n",
      " | Global Training Round : 34 |\n",
      "\n"
     ]
    },
    {
     "name": "stderr",
     "output_type": "stream",
     "text": [
      " 12%|█▏        | 35/300 [00:05<00:34,  7.59it/s]"
     ]
    },
    {
     "name": "stdout",
     "output_type": "stream",
     "text": [
      "Accuracy loss: 12.96 | fairness loss 32.87 | Equal Opportunity Disparity = 0.09\n",
      " \n",
      "Avg Training Stats after 34 global rounds:\n",
      "Training loss: 0.41 | Validation accuracy: 78.33% | Validation Equal Opportunity Disparity: 0.0887\n",
      "\n",
      " | Global Training Round : 35 |\n",
      "\n",
      "Accuracy loss: 13.02 | fairness loss 33.20 | Equal Opportunity Disparity = 0.09\n",
      " \n",
      "Avg Training Stats after 35 global rounds:\n",
      "Training loss: 0.40 | Validation accuracy: 78.67% | Validation Equal Opportunity Disparity: 0.0887\n",
      "\n",
      " | Global Training Round : 36 |\n",
      "\n"
     ]
    },
    {
     "name": "stderr",
     "output_type": "stream",
     "text": [
      " 12%|█▏        | 37/300 [00:05<00:33,  7.89it/s]"
     ]
    },
    {
     "name": "stdout",
     "output_type": "stream",
     "text": [
      "Accuracy loss: 12.90 | fairness loss 34.04 | Equal Opportunity Disparity = 0.09\n",
      " \n",
      "Avg Training Stats after 36 global rounds:\n",
      "Training loss: 0.41 | Validation accuracy: 79.00% | Validation Equal Opportunity Disparity: 0.0887\n",
      "\n",
      " | Global Training Round : 37 |\n",
      "\n",
      "Accuracy loss: 12.79 | fairness loss 34.85 | Equal Opportunity Disparity = 0.09\n",
      " \n",
      "Avg Training Stats after 37 global rounds:\n",
      "Training loss: 0.38 | Validation accuracy: 80.00% | Validation Equal Opportunity Disparity: 0.0887\n",
      "\n",
      " | Global Training Round : 38 |\n",
      "\n"
     ]
    },
    {
     "name": "stderr",
     "output_type": "stream",
     "text": [
      " 13%|█▎        | 39/300 [00:05<00:33,  7.91it/s]"
     ]
    },
    {
     "name": "stdout",
     "output_type": "stream",
     "text": [
      "Accuracy loss: 12.64 | fairness loss 35.85 | Equal Opportunity Disparity = 0.09\n",
      " \n",
      "Avg Training Stats after 38 global rounds:\n",
      "Training loss: 0.39 | Validation accuracy: 81.00% | Validation Equal Opportunity Disparity: 0.0887\n",
      "\n",
      " | Global Training Round : 39 |\n",
      "\n",
      "Accuracy loss: 12.68 | fairness loss 36.23 | Equal Opportunity Disparity = 0.09\n",
      " \n",
      "Avg Training Stats after 39 global rounds:\n",
      "Training loss: 0.40 | Validation accuracy: 81.00% | Validation Equal Opportunity Disparity: 0.0887\n",
      "\n",
      " | Global Training Round : 40 |\n",
      "\n"
     ]
    },
    {
     "name": "stderr",
     "output_type": "stream",
     "text": [
      " 14%|█▎        | 41/300 [00:05<00:32,  8.02it/s]"
     ]
    },
    {
     "name": "stdout",
     "output_type": "stream",
     "text": [
      "Accuracy loss: 12.84 | fairness loss 36.14 | Equal Opportunity Disparity = 0.09\n",
      " \n",
      "Avg Training Stats after 40 global rounds:\n",
      "Training loss: 0.39 | Validation accuracy: 81.00% | Validation Equal Opportunity Disparity: 0.0887\n",
      "\n",
      " | Global Training Round : 41 |\n",
      "\n",
      "Accuracy loss: 12.90 | fairness loss 36.42 | Equal Opportunity Disparity = 0.09\n",
      " \n",
      "Avg Training Stats after 41 global rounds:\n",
      "Training loss: 0.39 | Validation accuracy: 81.00% | Validation Equal Opportunity Disparity: 0.0887\n",
      "\n",
      " | Global Training Round : 42 |\n",
      "\n"
     ]
    },
    {
     "name": "stderr",
     "output_type": "stream",
     "text": [
      " 14%|█▍        | 43/300 [00:06<00:35,  7.21it/s]"
     ]
    },
    {
     "name": "stdout",
     "output_type": "stream",
     "text": [
      "Accuracy loss: 12.75 | fairness loss 37.37 | Equal Opportunity Disparity = 0.13\n",
      " \n",
      "Avg Training Stats after 42 global rounds:\n",
      "Training loss: 0.37 | Validation accuracy: 81.00% | Validation Equal Opportunity Disparity: 0.1289\n",
      "\n",
      " | Global Training Round : 43 |\n",
      "\n",
      "Accuracy loss: 12.67 | fairness loss 38.13 | Equal Opportunity Disparity = 0.13\n",
      " \n",
      "Avg Training Stats after 43 global rounds:\n",
      "Training loss: 0.38 | Validation accuracy: 81.00% | Validation Equal Opportunity Disparity: 0.1289\n",
      "\n",
      " | Global Training Round : 44 |\n",
      "\n"
     ]
    },
    {
     "name": "stderr",
     "output_type": "stream",
     "text": [
      " 15%|█▌        | 45/300 [00:06<00:37,  6.89it/s]"
     ]
    },
    {
     "name": "stdout",
     "output_type": "stream",
     "text": [
      "Accuracy loss: 12.71 | fairness loss 38.38 | Equal Opportunity Disparity = 0.08\n",
      " \n",
      "Avg Training Stats after 44 global rounds:\n",
      "Training loss: 0.38 | Validation accuracy: 81.33% | Validation Equal Opportunity Disparity: 0.0835\n",
      "\n",
      " | Global Training Round : 45 |\n",
      "\n",
      "Accuracy loss: 12.68 | fairness loss 38.96 | Equal Opportunity Disparity = 0.08\n",
      " \n",
      "Avg Training Stats after 45 global rounds:\n",
      "Training loss: 0.38 | Validation accuracy: 81.33% | Validation Equal Opportunity Disparity: 0.0835\n",
      "\n",
      " | Global Training Round : 46 |\n",
      "\n"
     ]
    },
    {
     "name": "stderr",
     "output_type": "stream",
     "text": [
      " 16%|█▌        | 47/300 [00:06<00:40,  6.20it/s]"
     ]
    },
    {
     "name": "stdout",
     "output_type": "stream",
     "text": [
      "Accuracy loss: 12.70 | fairness loss 39.31 | Equal Opportunity Disparity = 0.08\n",
      " \n",
      "Avg Training Stats after 46 global rounds:\n",
      "Training loss: 0.39 | Validation accuracy: 81.33% | Validation Equal Opportunity Disparity: 0.0835\n",
      "\n",
      " | Global Training Round : 47 |\n",
      "\n",
      "Accuracy loss: 12.74 | fairness loss 39.43 | Equal Opportunity Disparity = 0.08\n",
      " \n",
      "Avg Training Stats after 47 global rounds:\n",
      "Training loss: 0.37 | Validation accuracy: 81.33% | Validation Equal Opportunity Disparity: 0.0835\n",
      "\n",
      " | Global Training Round : 48 |\n",
      "\n"
     ]
    },
    {
     "name": "stderr",
     "output_type": "stream",
     "text": [
      " 16%|█▋        | 49/300 [00:07<00:39,  6.41it/s]"
     ]
    },
    {
     "name": "stdout",
     "output_type": "stream",
     "text": [
      "Accuracy loss: 12.71 | fairness loss 39.89 | Equal Opportunity Disparity = 0.08\n",
      " \n",
      "Avg Training Stats after 48 global rounds:\n",
      "Training loss: 0.39 | Validation accuracy: 81.33% | Validation Equal Opportunity Disparity: 0.0835\n",
      "\n",
      " | Global Training Round : 49 |\n",
      "\n",
      "Accuracy loss: 12.66 | fairness loss 40.11 | Equal Opportunity Disparity = 0.08\n",
      " \n",
      "Avg Training Stats after 49 global rounds:\n",
      "Training loss: 0.35 | Validation accuracy: 80.67% | Validation Equal Opportunity Disparity: 0.0835\n",
      "\n",
      " | Global Training Round : 50 |\n",
      "\n"
     ]
    },
    {
     "name": "stderr",
     "output_type": "stream",
     "text": [
      " 17%|█▋        | 51/300 [00:07<00:37,  6.57it/s]"
     ]
    },
    {
     "name": "stdout",
     "output_type": "stream",
     "text": [
      "Accuracy loss: 12.67 | fairness loss 40.41 | Equal Opportunity Disparity = 0.08\n",
      " \n",
      "Avg Training Stats after 50 global rounds:\n",
      "Training loss: 0.37 | Validation accuracy: 80.33% | Validation Equal Opportunity Disparity: 0.0835\n",
      "\n",
      " | Global Training Round : 51 |\n",
      "\n",
      "Accuracy loss: 12.76 | fairness loss 40.48 | Equal Opportunity Disparity = 0.08\n",
      " \n",
      "Avg Training Stats after 51 global rounds:\n",
      "Training loss: 0.36 | Validation accuracy: 80.33% | Validation Equal Opportunity Disparity: 0.0835\n",
      "\n",
      " | Global Training Round : 52 |\n",
      "\n"
     ]
    },
    {
     "name": "stderr",
     "output_type": "stream",
     "text": [
      "\r",
      " 17%|█▋        | 52/300 [00:07<00:51,  4.78it/s]"
     ]
    },
    {
     "name": "stdout",
     "output_type": "stream",
     "text": [
      "Accuracy loss: 12.85 | fairness loss 40.61 | Equal Opportunity Disparity = 0.08\n",
      " \n",
      "Avg Training Stats after 52 global rounds:\n",
      "Training loss: 0.36 | Validation accuracy: 80.33% | Validation Equal Opportunity Disparity: 0.0782\n",
      "\n",
      " | Global Training Round : 53 |\n",
      "\n"
     ]
    },
    {
     "name": "stderr",
     "output_type": "stream",
     "text": [
      " 18%|█▊        | 54/300 [00:08<00:50,  4.89it/s]"
     ]
    },
    {
     "name": "stdout",
     "output_type": "stream",
     "text": [
      "Accuracy loss: 12.85 | fairness loss 40.93 | Equal Opportunity Disparity = 0.07\n",
      " \n",
      "Avg Training Stats after 53 global rounds:\n",
      "Training loss: 0.37 | Validation accuracy: 80.00% | Validation Equal Opportunity Disparity: 0.0729\n",
      "\n",
      " | Global Training Round : 54 |\n",
      "\n",
      "Accuracy loss: 12.88 | fairness loss 41.02 | Equal Opportunity Disparity = 0.07\n",
      " \n",
      "Avg Training Stats after 54 global rounds:\n",
      "Training loss: 0.35 | Validation accuracy: 80.00% | Validation Equal Opportunity Disparity: 0.0729\n",
      "\n",
      " | Global Training Round : 55 |\n",
      "\n"
     ]
    },
    {
     "name": "stderr",
     "output_type": "stream",
     "text": [
      " 19%|█▊        | 56/300 [00:08<00:42,  5.76it/s]"
     ]
    },
    {
     "name": "stdout",
     "output_type": "stream",
     "text": [
      "Accuracy loss: 12.89 | fairness loss 41.36 | Equal Opportunity Disparity = 0.07\n",
      " \n",
      "Avg Training Stats after 55 global rounds:\n",
      "Training loss: 0.35 | Validation accuracy: 80.33% | Validation Equal Opportunity Disparity: 0.0729\n",
      "\n",
      " | Global Training Round : 56 |\n",
      "\n",
      "Accuracy loss: 12.93 | fairness loss 41.67 | Equal Opportunity Disparity = 0.06\n",
      " \n",
      "Avg Training Stats after 56 global rounds:\n",
      "Training loss: 0.35 | Validation accuracy: 80.00% | Validation Equal Opportunity Disparity: 0.0623\n",
      "\n",
      " | Global Training Round : 57 |\n",
      "\n"
     ]
    },
    {
     "name": "stderr",
     "output_type": "stream",
     "text": [
      " 19%|█▉        | 58/300 [00:08<00:38,  6.37it/s]"
     ]
    },
    {
     "name": "stdout",
     "output_type": "stream",
     "text": [
      "Accuracy loss: 12.94 | fairness loss 41.89 | Equal Opportunity Disparity = 0.06\n",
      " \n",
      "Avg Training Stats after 57 global rounds:\n",
      "Training loss: 0.36 | Validation accuracy: 80.00% | Validation Equal Opportunity Disparity: 0.0623\n",
      "\n",
      " | Global Training Round : 58 |\n",
      "\n",
      "Accuracy loss: 13.09 | fairness loss 41.71 | Equal Opportunity Disparity = 0.06\n",
      " \n",
      "Avg Training Stats after 58 global rounds:\n",
      "Training loss: 0.35 | Validation accuracy: 79.00% | Validation Equal Opportunity Disparity: 0.0623\n",
      "\n",
      " | Global Training Round : 59 |\n",
      "\n"
     ]
    },
    {
     "name": "stderr",
     "output_type": "stream",
     "text": [
      " 20%|██        | 60/300 [00:08<00:33,  7.27it/s]"
     ]
    },
    {
     "name": "stdout",
     "output_type": "stream",
     "text": [
      "Accuracy loss: 13.00 | fairness loss 42.27 | Equal Opportunity Disparity = 0.06\n",
      " \n",
      "Avg Training Stats after 59 global rounds:\n",
      "Training loss: 0.35 | Validation accuracy: 79.00% | Validation Equal Opportunity Disparity: 0.0623\n",
      "\n",
      " | Global Training Round : 60 |\n",
      "\n",
      "Accuracy loss: 13.00 | fairness loss 42.63 | Equal Opportunity Disparity = 0.06\n",
      " \n",
      "Avg Training Stats after 60 global rounds:\n",
      "Training loss: 0.34 | Validation accuracy: 79.00% | Validation Equal Opportunity Disparity: 0.0623\n",
      "\n",
      " | Global Training Round : 61 |\n",
      "\n"
     ]
    },
    {
     "name": "stderr",
     "output_type": "stream",
     "text": [
      " 21%|██        | 62/300 [00:09<00:31,  7.64it/s]"
     ]
    },
    {
     "name": "stdout",
     "output_type": "stream",
     "text": [
      "Accuracy loss: 13.01 | fairness loss 42.95 | Equal Opportunity Disparity = 0.06\n",
      " \n",
      "Avg Training Stats after 61 global rounds:\n",
      "Training loss: 0.34 | Validation accuracy: 79.00% | Validation Equal Opportunity Disparity: 0.0623\n",
      "\n",
      " | Global Training Round : 62 |\n",
      "\n",
      "Accuracy loss: 13.27 | fairness loss 42.42 | Equal Opportunity Disparity = 0.06\n",
      " \n",
      "Avg Training Stats after 62 global rounds:\n",
      "Training loss: 0.36 | Validation accuracy: 78.33% | Validation Equal Opportunity Disparity: 0.0570\n",
      "\n",
      " | Global Training Round : 63 |\n",
      "\n"
     ]
    },
    {
     "name": "stderr",
     "output_type": "stream",
     "text": [
      " 21%|██▏       | 64/300 [00:09<00:33,  7.07it/s]"
     ]
    },
    {
     "name": "stdout",
     "output_type": "stream",
     "text": [
      "Accuracy loss: 13.57 | fairness loss 41.79 | Equal Opportunity Disparity = 0.05\n",
      " \n",
      "Avg Training Stats after 63 global rounds:\n",
      "Training loss: 0.35 | Validation accuracy: 77.33% | Validation Equal Opportunity Disparity: 0.0464\n",
      "\n",
      " | Global Training Round : 64 |\n",
      "\n",
      "Accuracy loss: 13.52 | fairness loss 42.17 | Equal Opportunity Disparity = 0.05\n",
      " \n",
      "Avg Training Stats after 64 global rounds:\n",
      "Training loss: 0.34 | Validation accuracy: 77.67% | Validation Equal Opportunity Disparity: 0.0517\n",
      "\n",
      " | Global Training Round : 65 |\n",
      "\n"
     ]
    },
    {
     "name": "stderr",
     "output_type": "stream",
     "text": [
      " 22%|██▏       | 66/300 [00:10<00:41,  5.62it/s]"
     ]
    },
    {
     "name": "stdout",
     "output_type": "stream",
     "text": [
      "Accuracy loss: 13.53 | fairness loss 42.43 | Equal Opportunity Disparity = 0.05\n",
      " \n",
      "Avg Training Stats after 65 global rounds:\n",
      "Training loss: 0.33 | Validation accuracy: 78.00% | Validation Equal Opportunity Disparity: 0.0517\n",
      "\n",
      " | Global Training Round : 66 |\n",
      "\n",
      "Accuracy loss: 13.42 | fairness loss 43.01 | Equal Opportunity Disparity = 0.05\n",
      " \n",
      "Avg Training Stats after 66 global rounds:\n",
      "Training loss: 0.33 | Validation accuracy: 78.00% | Validation Equal Opportunity Disparity: 0.0517\n",
      "\n",
      " | Global Training Round : 67 |\n",
      "\n"
     ]
    },
    {
     "name": "stderr",
     "output_type": "stream",
     "text": [
      "\r",
      " 22%|██▏       | 67/300 [00:10<00:37,  6.14it/s]"
     ]
    },
    {
     "name": "stdout",
     "output_type": "stream",
     "text": [
      "Accuracy loss: 13.37 | fairness loss 43.45 | Equal Opportunity Disparity = 0.06\n",
      " \n",
      "Avg Training Stats after 67 global rounds:\n",
      "Training loss: 0.33 | Validation accuracy: 78.33% | Validation Equal Opportunity Disparity: 0.0570\n",
      "\n",
      " | Global Training Round : 68 |\n",
      "\n"
     ]
    },
    {
     "name": "stderr",
     "output_type": "stream",
     "text": [
      "\r",
      " 23%|██▎       | 68/300 [00:10<01:04,  3.59it/s]"
     ]
    },
    {
     "name": "stdout",
     "output_type": "stream",
     "text": [
      "Accuracy loss: 13.38 | fairness loss 43.71 | Equal Opportunity Disparity = 0.06\n",
      " \n",
      "Avg Training Stats after 68 global rounds:\n",
      "Training loss: 0.33 | Validation accuracy: 78.67% | Validation Equal Opportunity Disparity: 0.0570\n",
      "\n",
      " | Global Training Round : 69 |\n",
      "\n"
     ]
    },
    {
     "name": "stderr",
     "output_type": "stream",
     "text": [
      " 23%|██▎       | 70/300 [00:11<00:52,  4.42it/s]"
     ]
    },
    {
     "name": "stdout",
     "output_type": "stream",
     "text": [
      "Accuracy loss: 13.49 | fairness loss 43.61 | Equal Opportunity Disparity = 0.05\n",
      " \n",
      "Avg Training Stats after 69 global rounds:\n",
      "Training loss: 0.33 | Validation accuracy: 78.33% | Validation Equal Opportunity Disparity: 0.0517\n",
      "\n",
      " | Global Training Round : 70 |\n",
      "\n",
      "Accuracy loss: 13.45 | fairness loss 43.96 | Equal Opportunity Disparity = 0.06\n",
      " \n",
      "Avg Training Stats after 70 global rounds:\n",
      "Training loss: 0.35 | Validation accuracy: 78.67% | Validation Equal Opportunity Disparity: 0.0570\n",
      "\n",
      " | Global Training Round : 71 |\n",
      "\n"
     ]
    },
    {
     "name": "stderr",
     "output_type": "stream",
     "text": [
      "\r",
      " 24%|██▎       | 71/300 [00:11<00:45,  5.05it/s]"
     ]
    },
    {
     "name": "stdout",
     "output_type": "stream",
     "text": [
      "Accuracy loss: 13.65 | fairness loss 43.48 | Equal Opportunity Disparity = 0.05\n",
      " \n",
      "Avg Training Stats after 71 global rounds:\n",
      "Training loss: 0.35 | Validation accuracy: 78.00% | Validation Equal Opportunity Disparity: 0.0517\n",
      "\n",
      " | Global Training Round : 72 |\n",
      "\n"
     ]
    },
    {
     "name": "stderr",
     "output_type": "stream",
     "text": [
      " 24%|██▍       | 73/300 [00:11<00:45,  5.02it/s]"
     ]
    },
    {
     "name": "stdout",
     "output_type": "stream",
     "text": [
      "Accuracy loss: 13.64 | fairness loss 43.49 | Equal Opportunity Disparity = 0.05\n",
      " \n",
      "Avg Training Stats after 72 global rounds:\n",
      "Training loss: 0.33 | Validation accuracy: 77.67% | Validation Equal Opportunity Disparity: 0.0517\n",
      "\n",
      " | Global Training Round : 73 |\n",
      "\n",
      "Accuracy loss: 13.59 | fairness loss 43.80 | Equal Opportunity Disparity = 0.05\n",
      " \n",
      "Avg Training Stats after 73 global rounds:\n",
      "Training loss: 0.33 | Validation accuracy: 77.67% | Validation Equal Opportunity Disparity: 0.0517\n",
      "\n",
      " | Global Training Round : 74 |\n",
      "\n"
     ]
    },
    {
     "name": "stderr",
     "output_type": "stream",
     "text": [
      " 25%|██▌       | 75/300 [00:11<00:38,  5.80it/s]"
     ]
    },
    {
     "name": "stdout",
     "output_type": "stream",
     "text": [
      "Accuracy loss: 13.59 | fairness loss 44.07 | Equal Opportunity Disparity = 0.05\n",
      " \n",
      "Avg Training Stats after 74 global rounds:\n",
      "Training loss: 0.33 | Validation accuracy: 78.00% | Validation Equal Opportunity Disparity: 0.0517\n",
      "\n",
      " | Global Training Round : 75 |\n",
      "\n",
      "Accuracy loss: 13.59 | fairness loss 44.21 | Equal Opportunity Disparity = 0.05\n",
      " \n",
      "Avg Training Stats after 75 global rounds:\n",
      "Training loss: 0.34 | Validation accuracy: 77.67% | Validation Equal Opportunity Disparity: 0.0517\n",
      "\n",
      " | Global Training Round : 76 |\n",
      "\n"
     ]
    },
    {
     "name": "stderr",
     "output_type": "stream",
     "text": [
      " 26%|██▌       | 77/300 [00:12<00:32,  6.78it/s]"
     ]
    },
    {
     "name": "stdout",
     "output_type": "stream",
     "text": [
      "Accuracy loss: 13.72 | fairness loss 44.07 | Equal Opportunity Disparity = 0.05\n",
      " \n",
      "Avg Training Stats after 76 global rounds:\n",
      "Training loss: 0.33 | Validation accuracy: 77.00% | Validation Equal Opportunity Disparity: 0.0517\n",
      "\n",
      " | Global Training Round : 77 |\n",
      "\n",
      "Accuracy loss: 13.64 | fairness loss 44.27 | Equal Opportunity Disparity = 0.06\n",
      " \n",
      "Avg Training Stats after 77 global rounds:\n",
      "Training loss: 0.32 | Validation accuracy: 77.67% | Validation Equal Opportunity Disparity: 0.0570\n",
      "\n",
      " | Global Training Round : 78 |\n",
      "\n"
     ]
    },
    {
     "name": "stderr",
     "output_type": "stream",
     "text": [
      " 26%|██▋       | 79/300 [00:12<00:29,  7.48it/s]"
     ]
    },
    {
     "name": "stdout",
     "output_type": "stream",
     "text": [
      "Accuracy loss: 13.53 | fairness loss 44.76 | Equal Opportunity Disparity = 0.02\n",
      " \n",
      "Avg Training Stats after 78 global rounds:\n",
      "Training loss: 0.34 | Validation accuracy: 78.33% | Validation Equal Opportunity Disparity: 0.0168\n",
      "\n",
      " | Global Training Round : 79 |\n",
      "\n",
      "Accuracy loss: 13.54 | fairness loss 44.68 | Equal Opportunity Disparity = 0.02\n",
      " \n",
      "Avg Training Stats after 79 global rounds:\n",
      "Training loss: 0.31 | Validation accuracy: 78.33% | Validation Equal Opportunity Disparity: 0.0168\n",
      "\n",
      " | Global Training Round : 80 |\n",
      "\n"
     ]
    },
    {
     "name": "stderr",
     "output_type": "stream",
     "text": [
      " 27%|██▋       | 81/300 [00:12<00:27,  7.89it/s]"
     ]
    },
    {
     "name": "stdout",
     "output_type": "stream",
     "text": [
      "Accuracy loss: 13.57 | fairness loss 44.77 | Equal Opportunity Disparity = 0.02\n",
      " \n",
      "Avg Training Stats after 80 global rounds:\n",
      "Training loss: 0.32 | Validation accuracy: 78.00% | Validation Equal Opportunity Disparity: 0.0168\n",
      "\n",
      " | Global Training Round : 81 |\n",
      "\n",
      "Accuracy loss: 13.56 | fairness loss 45.01 | Equal Opportunity Disparity = 0.02\n",
      " \n",
      "Avg Training Stats after 81 global rounds:\n",
      "Training loss: 0.32 | Validation accuracy: 78.00% | Validation Equal Opportunity Disparity: 0.0168\n",
      "\n",
      " | Global Training Round : 82 |\n",
      "\n"
     ]
    },
    {
     "name": "stderr",
     "output_type": "stream",
     "text": [
      " 28%|██▊       | 83/300 [00:12<00:26,  8.07it/s]"
     ]
    },
    {
     "name": "stdout",
     "output_type": "stream",
     "text": [
      "Accuracy loss: 13.67 | fairness loss 44.85 | Equal Opportunity Disparity = 0.02\n",
      " \n",
      "Avg Training Stats after 82 global rounds:\n",
      "Training loss: 0.32 | Validation accuracy: 78.33% | Validation Equal Opportunity Disparity: 0.0168\n",
      "\n",
      " | Global Training Round : 83 |\n",
      "\n",
      "Accuracy loss: 13.69 | fairness loss 45.10 | Equal Opportunity Disparity = 0.02\n",
      " \n",
      "Avg Training Stats after 83 global rounds:\n",
      "Training loss: 0.32 | Validation accuracy: 78.33% | Validation Equal Opportunity Disparity: 0.0168\n",
      "\n",
      " | Global Training Round : 84 |\n",
      "\n"
     ]
    },
    {
     "name": "stderr",
     "output_type": "stream",
     "text": [
      " 28%|██▊       | 85/300 [00:13<00:26,  8.00it/s]"
     ]
    },
    {
     "name": "stdout",
     "output_type": "stream",
     "text": [
      "Accuracy loss: 13.70 | fairness loss 45.32 | Equal Opportunity Disparity = 0.02\n",
      " \n",
      "Avg Training Stats after 84 global rounds:\n",
      "Training loss: 0.32 | Validation accuracy: 78.33% | Validation Equal Opportunity Disparity: 0.0168\n",
      "\n",
      " | Global Training Round : 85 |\n",
      "\n",
      "Accuracy loss: 13.67 | fairness loss 45.56 | Equal Opportunity Disparity = 0.02\n",
      " \n",
      "Avg Training Stats after 85 global rounds:\n",
      "Training loss: 0.30 | Validation accuracy: 78.00% | Validation Equal Opportunity Disparity: 0.0168\n",
      "\n",
      " | Global Training Round : 86 |\n",
      "\n"
     ]
    },
    {
     "name": "stderr",
     "output_type": "stream",
     "text": [
      " 29%|██▉       | 87/300 [00:13<00:26,  8.04it/s]"
     ]
    },
    {
     "name": "stdout",
     "output_type": "stream",
     "text": [
      "Accuracy loss: 13.64 | fairness loss 45.92 | Equal Opportunity Disparity = 0.02\n",
      " \n",
      "Avg Training Stats after 86 global rounds:\n",
      "Training loss: 0.30 | Validation accuracy: 78.00% | Validation Equal Opportunity Disparity: 0.0168\n",
      "\n",
      " | Global Training Round : 87 |\n",
      "\n",
      "Accuracy loss: 13.63 | fairness loss 46.27 | Equal Opportunity Disparity = 0.02\n",
      " \n",
      "Avg Training Stats after 87 global rounds:\n",
      "Training loss: 0.32 | Validation accuracy: 78.00% | Validation Equal Opportunity Disparity: 0.0168\n",
      "\n",
      " | Global Training Round : 88 |\n",
      "\n"
     ]
    },
    {
     "name": "stderr",
     "output_type": "stream",
     "text": [
      " 30%|██▉       | 89/300 [00:13<00:26,  7.87it/s]"
     ]
    },
    {
     "name": "stdout",
     "output_type": "stream",
     "text": [
      "Accuracy loss: 13.64 | fairness loss 46.27 | Equal Opportunity Disparity = 0.02\n",
      " \n",
      "Avg Training Stats after 88 global rounds:\n",
      "Training loss: 0.32 | Validation accuracy: 77.67% | Validation Equal Opportunity Disparity: 0.0168\n",
      "\n",
      " | Global Training Round : 89 |\n",
      "\n",
      "Accuracy loss: 13.67 | fairness loss 46.04 | Equal Opportunity Disparity = 0.02\n",
      " \n",
      "Avg Training Stats after 89 global rounds:\n",
      "Training loss: 0.31 | Validation accuracy: 77.67% | Validation Equal Opportunity Disparity: 0.0168\n",
      "\n",
      " | Global Training Round : 90 |\n",
      "\n"
     ]
    },
    {
     "name": "stderr",
     "output_type": "stream",
     "text": [
      " 30%|███       | 91/300 [00:13<00:26,  8.02it/s]"
     ]
    },
    {
     "name": "stdout",
     "output_type": "stream",
     "text": [
      "Accuracy loss: 13.72 | fairness loss 46.10 | Equal Opportunity Disparity = 0.02\n",
      " \n",
      "Avg Training Stats after 90 global rounds:\n",
      "Training loss: 0.31 | Validation accuracy: 77.67% | Validation Equal Opportunity Disparity: 0.0168\n",
      "\n",
      " | Global Training Round : 91 |\n",
      "\n",
      "Accuracy loss: 13.78 | fairness loss 46.05 | Equal Opportunity Disparity = 0.02\n",
      " \n",
      "Avg Training Stats after 91 global rounds:\n",
      "Training loss: 0.31 | Validation accuracy: 77.67% | Validation Equal Opportunity Disparity: 0.0168\n",
      "\n",
      " | Global Training Round : 92 |\n",
      "\n"
     ]
    },
    {
     "name": "stderr",
     "output_type": "stream",
     "text": [
      " 31%|███       | 93/300 [00:14<00:25,  8.13it/s]"
     ]
    },
    {
     "name": "stdout",
     "output_type": "stream",
     "text": [
      "Accuracy loss: 13.76 | fairness loss 46.30 | Equal Opportunity Disparity = 0.02\n",
      " \n",
      "Avg Training Stats after 92 global rounds:\n",
      "Training loss: 0.31 | Validation accuracy: 77.67% | Validation Equal Opportunity Disparity: 0.0168\n",
      "\n",
      " | Global Training Round : 93 |\n",
      "\n",
      "Accuracy loss: 13.83 | fairness loss 46.11 | Equal Opportunity Disparity = 0.02\n",
      " \n",
      "Avg Training Stats after 93 global rounds:\n",
      "Training loss: 0.31 | Validation accuracy: 77.33% | Validation Equal Opportunity Disparity: 0.0168\n",
      "\n",
      " | Global Training Round : 94 |\n",
      "\n"
     ]
    },
    {
     "name": "stderr",
     "output_type": "stream",
     "text": [
      " 32%|███▏      | 95/300 [00:14<00:25,  8.06it/s]"
     ]
    },
    {
     "name": "stdout",
     "output_type": "stream",
     "text": [
      "Accuracy loss: 13.84 | fairness loss 46.18 | Equal Opportunity Disparity = 0.02\n",
      " \n",
      "Avg Training Stats after 94 global rounds:\n",
      "Training loss: 0.30 | Validation accuracy: 77.33% | Validation Equal Opportunity Disparity: 0.0168\n",
      "\n",
      " | Global Training Round : 95 |\n",
      "\n",
      "Accuracy loss: 13.86 | fairness loss 46.35 | Equal Opportunity Disparity = 0.02\n",
      " \n",
      "Avg Training Stats after 95 global rounds:\n",
      "Training loss: 0.32 | Validation accuracy: 77.33% | Validation Equal Opportunity Disparity: 0.0168\n",
      "\n",
      " | Global Training Round : 96 |\n",
      "\n"
     ]
    },
    {
     "name": "stderr",
     "output_type": "stream",
     "text": [
      " 32%|███▏      | 97/300 [00:14<00:25,  8.05it/s]"
     ]
    },
    {
     "name": "stdout",
     "output_type": "stream",
     "text": [
      "Accuracy loss: 13.97 | fairness loss 46.03 | Equal Opportunity Disparity = 0.02\n",
      " \n",
      "Avg Training Stats after 96 global rounds:\n",
      "Training loss: 0.30 | Validation accuracy: 77.33% | Validation Equal Opportunity Disparity: 0.0168\n",
      "\n",
      " | Global Training Round : 97 |\n",
      "\n",
      "Accuracy loss: 14.02 | fairness loss 46.04 | Equal Opportunity Disparity = 0.02\n",
      " \n",
      "Avg Training Stats after 97 global rounds:\n",
      "Training loss: 0.31 | Validation accuracy: 77.00% | Validation Equal Opportunity Disparity: 0.0168\n",
      "\n",
      " | Global Training Round : 98 |\n",
      "\n"
     ]
    },
    {
     "name": "stderr",
     "output_type": "stream",
     "text": [
      " 33%|███▎      | 99/300 [00:14<00:24,  8.06it/s]"
     ]
    },
    {
     "name": "stdout",
     "output_type": "stream",
     "text": [
      "Accuracy loss: 14.01 | fairness loss 46.13 | Equal Opportunity Disparity = 0.02\n",
      " \n",
      "Avg Training Stats after 98 global rounds:\n",
      "Training loss: 0.33 | Validation accuracy: 77.33% | Validation Equal Opportunity Disparity: 0.0168\n",
      "\n",
      " | Global Training Round : 99 |\n",
      "\n",
      "Accuracy loss: 14.09 | fairness loss 45.62 | Equal Opportunity Disparity = 0.02\n",
      " \n",
      "Avg Training Stats after 99 global rounds:\n",
      "Training loss: 0.30 | Validation accuracy: 77.00% | Validation Equal Opportunity Disparity: 0.0168\n",
      "\n",
      " | Global Training Round : 100 |\n",
      "\n"
     ]
    },
    {
     "name": "stderr",
     "output_type": "stream",
     "text": [
      " 34%|███▎      | 101/300 [00:15<00:24,  8.10it/s]"
     ]
    },
    {
     "name": "stdout",
     "output_type": "stream",
     "text": [
      "Accuracy loss: 13.98 | fairness loss 46.12 | Equal Opportunity Disparity = 0.02\n",
      " \n",
      "Avg Training Stats after 100 global rounds:\n",
      "Training loss: 0.30 | Validation accuracy: 77.67% | Validation Equal Opportunity Disparity: 0.0221\n",
      "\n",
      " | Global Training Round : 101 |\n",
      "\n",
      "Accuracy loss: 13.93 | fairness loss 46.55 | Equal Opportunity Disparity = 0.02\n",
      " \n",
      "Avg Training Stats after 101 global rounds:\n",
      "Training loss: 0.30 | Validation accuracy: 77.67% | Validation Equal Opportunity Disparity: 0.0221\n",
      "\n",
      " | Global Training Round : 102 |\n",
      "\n"
     ]
    },
    {
     "name": "stderr",
     "output_type": "stream",
     "text": [
      " 34%|███▍      | 103/300 [00:15<00:24,  8.08it/s]"
     ]
    },
    {
     "name": "stdout",
     "output_type": "stream",
     "text": [
      "Accuracy loss: 14.01 | fairness loss 46.35 | Equal Opportunity Disparity = 0.02\n",
      " \n",
      "Avg Training Stats after 102 global rounds:\n",
      "Training loss: 0.29 | Validation accuracy: 77.67% | Validation Equal Opportunity Disparity: 0.0221\n",
      "\n",
      " | Global Training Round : 103 |\n",
      "\n",
      "Accuracy loss: 14.07 | fairness loss 46.35 | Equal Opportunity Disparity = 0.02\n",
      " \n",
      "Avg Training Stats after 103 global rounds:\n",
      "Training loss: 0.30 | Validation accuracy: 77.67% | Validation Equal Opportunity Disparity: 0.0221\n",
      "\n",
      " | Global Training Round : 104 |\n",
      "\n"
     ]
    },
    {
     "name": "stderr",
     "output_type": "stream",
     "text": [
      " 35%|███▌      | 105/300 [00:15<00:23,  8.18it/s]"
     ]
    },
    {
     "name": "stdout",
     "output_type": "stream",
     "text": [
      "Accuracy loss: 14.06 | fairness loss 46.78 | Equal Opportunity Disparity = 0.02\n",
      " \n",
      "Avg Training Stats after 104 global rounds:\n",
      "Training loss: 0.30 | Validation accuracy: 77.67% | Validation Equal Opportunity Disparity: 0.0221\n",
      "\n",
      " | Global Training Round : 105 |\n",
      "\n",
      "Accuracy loss: 14.13 | fairness loss 46.71 | Equal Opportunity Disparity = 0.02\n",
      " \n",
      "Avg Training Stats after 105 global rounds:\n",
      "Training loss: 0.30 | Validation accuracy: 77.67% | Validation Equal Opportunity Disparity: 0.0221\n",
      "\n",
      " | Global Training Round : 106 |\n",
      "\n"
     ]
    },
    {
     "name": "stderr",
     "output_type": "stream",
     "text": [
      " 36%|███▌      | 107/300 [00:15<00:23,  8.28it/s]"
     ]
    },
    {
     "name": "stdout",
     "output_type": "stream",
     "text": [
      "Accuracy loss: 14.10 | fairness loss 46.92 | Equal Opportunity Disparity = 0.02\n",
      " \n",
      "Avg Training Stats after 106 global rounds:\n",
      "Training loss: 0.29 | Validation accuracy: 77.33% | Validation Equal Opportunity Disparity: 0.0221\n",
      "\n",
      " | Global Training Round : 107 |\n",
      "\n",
      "Accuracy loss: 14.07 | fairness loss 47.31 | Equal Opportunity Disparity = 0.03\n",
      " \n",
      "Avg Training Stats after 107 global rounds:\n",
      "Training loss: 0.29 | Validation accuracy: 77.67% | Validation Equal Opportunity Disparity: 0.0274\n",
      "\n",
      " | Global Training Round : 108 |\n",
      "\n"
     ]
    },
    {
     "name": "stderr",
     "output_type": "stream",
     "text": [
      " 36%|███▋      | 109/300 [00:16<00:23,  8.28it/s]"
     ]
    },
    {
     "name": "stdout",
     "output_type": "stream",
     "text": [
      "Accuracy loss: 14.13 | fairness loss 47.42 | Equal Opportunity Disparity = 0.02\n",
      " \n",
      "Avg Training Stats after 108 global rounds:\n",
      "Training loss: 0.29 | Validation accuracy: 77.33% | Validation Equal Opportunity Disparity: 0.0221\n",
      "\n",
      " | Global Training Round : 109 |\n",
      "\n",
      "Accuracy loss: 14.20 | fairness loss 47.40 | Equal Opportunity Disparity = 0.02\n",
      " \n",
      "Avg Training Stats after 109 global rounds:\n",
      "Training loss: 0.29 | Validation accuracy: 77.33% | Validation Equal Opportunity Disparity: 0.0221\n",
      "\n",
      " | Global Training Round : 110 |\n",
      "\n"
     ]
    },
    {
     "name": "stderr",
     "output_type": "stream",
     "text": [
      " 37%|███▋      | 111/300 [00:16<00:22,  8.29it/s]"
     ]
    },
    {
     "name": "stdout",
     "output_type": "stream",
     "text": [
      "Accuracy loss: 14.20 | fairness loss 47.65 | Equal Opportunity Disparity = 0.02\n",
      " \n",
      "Avg Training Stats after 110 global rounds:\n",
      "Training loss: 0.30 | Validation accuracy: 77.33% | Validation Equal Opportunity Disparity: 0.0221\n",
      "\n",
      " | Global Training Round : 111 |\n",
      "\n",
      "Accuracy loss: 14.23 | fairness loss 47.59 | Equal Opportunity Disparity = 0.02\n",
      " \n",
      "Avg Training Stats after 111 global rounds:\n",
      "Training loss: 0.30 | Validation accuracy: 77.67% | Validation Equal Opportunity Disparity: 0.0180\n",
      "\n",
      " | Global Training Round : 112 |\n",
      "\n"
     ]
    },
    {
     "name": "stderr",
     "output_type": "stream",
     "text": [
      " 38%|███▊      | 113/300 [00:16<00:25,  7.36it/s]"
     ]
    },
    {
     "name": "stdout",
     "output_type": "stream",
     "text": [
      "Accuracy loss: 14.30 | fairness loss 47.36 | Equal Opportunity Disparity = 0.02\n",
      " \n",
      "Avg Training Stats after 112 global rounds:\n",
      "Training loss: 0.30 | Validation accuracy: 77.00% | Validation Equal Opportunity Disparity: 0.0180\n",
      "\n",
      " | Global Training Round : 113 |\n",
      "\n",
      "Accuracy loss: 14.21 | fairness loss 47.75 | Equal Opportunity Disparity = 0.02\n",
      " \n",
      "Avg Training Stats after 113 global rounds:\n",
      "Training loss: 0.30 | Validation accuracy: 77.33% | Validation Equal Opportunity Disparity: 0.0180\n",
      "\n",
      " | Global Training Round : 114 |\n",
      "\n"
     ]
    },
    {
     "name": "stderr",
     "output_type": "stream",
     "text": [
      " 38%|███▊      | 115/300 [00:16<00:24,  7.61it/s]"
     ]
    },
    {
     "name": "stdout",
     "output_type": "stream",
     "text": [
      "Accuracy loss: 14.21 | fairness loss 47.92 | Equal Opportunity Disparity = 0.02\n",
      " \n",
      "Avg Training Stats after 114 global rounds:\n",
      "Training loss: 0.28 | Validation accuracy: 77.67% | Validation Equal Opportunity Disparity: 0.0180\n",
      "\n",
      " | Global Training Round : 115 |\n",
      "\n",
      "Accuracy loss: 14.23 | fairness loss 48.17 | Equal Opportunity Disparity = 0.02\n",
      " \n",
      "Avg Training Stats after 115 global rounds:\n",
      "Training loss: 0.28 | Validation accuracy: 77.67% | Validation Equal Opportunity Disparity: 0.0180\n",
      "\n",
      " | Global Training Round : 116 |\n",
      "\n"
     ]
    },
    {
     "name": "stderr",
     "output_type": "stream",
     "text": [
      " 39%|███▉      | 117/300 [00:17<00:23,  7.81it/s]"
     ]
    },
    {
     "name": "stdout",
     "output_type": "stream",
     "text": [
      "Accuracy loss: 14.15 | fairness loss 48.85 | Equal Opportunity Disparity = 0.02\n",
      " \n",
      "Avg Training Stats after 116 global rounds:\n",
      "Training loss: 0.30 | Validation accuracy: 77.67% | Validation Equal Opportunity Disparity: 0.0180\n",
      "\n",
      " | Global Training Round : 117 |\n",
      "\n",
      "Accuracy loss: 14.35 | fairness loss 48.27 | Equal Opportunity Disparity = 0.02\n",
      " \n",
      "Avg Training Stats after 117 global rounds:\n",
      "Training loss: 0.30 | Validation accuracy: 77.33% | Validation Equal Opportunity Disparity: 0.0180\n",
      "\n",
      " | Global Training Round : 118 |\n",
      "\n"
     ]
    },
    {
     "name": "stderr",
     "output_type": "stream",
     "text": [
      " 40%|███▉      | 119/300 [00:17<00:23,  7.78it/s]"
     ]
    },
    {
     "name": "stdout",
     "output_type": "stream",
     "text": [
      "Accuracy loss: 14.51 | fairness loss 47.84 | Equal Opportunity Disparity = 0.02\n",
      " \n",
      "Avg Training Stats after 118 global rounds:\n",
      "Training loss: 0.29 | Validation accuracy: 77.00% | Validation Equal Opportunity Disparity: 0.0180\n",
      "\n",
      " | Global Training Round : 119 |\n",
      "\n",
      "Accuracy loss: 14.39 | fairness loss 48.44 | Equal Opportunity Disparity = 0.02\n",
      " \n",
      "Avg Training Stats after 119 global rounds:\n",
      "Training loss: 0.29 | Validation accuracy: 77.33% | Validation Equal Opportunity Disparity: 0.0180\n",
      "\n",
      " | Global Training Round : 120 |\n",
      "\n"
     ]
    },
    {
     "name": "stderr",
     "output_type": "stream",
     "text": [
      " 40%|████      | 121/300 [00:17<00:22,  7.88it/s]"
     ]
    },
    {
     "name": "stdout",
     "output_type": "stream",
     "text": [
      "Accuracy loss: 14.31 | fairness loss 48.84 | Equal Opportunity Disparity = 0.01\n",
      " \n",
      "Avg Training Stats after 120 global rounds:\n",
      "Training loss: 0.28 | Validation accuracy: 77.67% | Validation Equal Opportunity Disparity: 0.0127\n",
      "\n",
      " | Global Training Round : 121 |\n",
      "\n",
      "Accuracy loss: 14.32 | fairness loss 49.14 | Equal Opportunity Disparity = 0.01\n",
      " \n",
      "Avg Training Stats after 121 global rounds:\n",
      "Training loss: 0.28 | Validation accuracy: 77.67% | Validation Equal Opportunity Disparity: 0.0127\n",
      "\n",
      " | Global Training Round : 122 |\n",
      "\n"
     ]
    },
    {
     "name": "stderr",
     "output_type": "stream",
     "text": [
      " 41%|████      | 123/300 [00:17<00:22,  7.79it/s]"
     ]
    },
    {
     "name": "stdout",
     "output_type": "stream",
     "text": [
      "Accuracy loss: 14.27 | fairness loss 49.59 | Equal Opportunity Disparity = 0.01\n",
      " \n",
      "Avg Training Stats after 122 global rounds:\n",
      "Training loss: 0.28 | Validation accuracy: 77.67% | Validation Equal Opportunity Disparity: 0.0127\n",
      "\n",
      " | Global Training Round : 123 |\n",
      "\n",
      "Accuracy loss: 14.30 | fairness loss 49.86 | Equal Opportunity Disparity = 0.01\n",
      " \n",
      "Avg Training Stats after 123 global rounds:\n",
      "Training loss: 0.28 | Validation accuracy: 77.67% | Validation Equal Opportunity Disparity: 0.0127\n",
      "\n",
      " | Global Training Round : 124 |\n",
      "\n"
     ]
    },
    {
     "name": "stderr",
     "output_type": "stream",
     "text": [
      " 42%|████▏     | 125/300 [00:18<00:22,  7.91it/s]"
     ]
    },
    {
     "name": "stdout",
     "output_type": "stream",
     "text": [
      "Accuracy loss: 14.30 | fairness loss 50.16 | Equal Opportunity Disparity = 0.01\n",
      " \n",
      "Avg Training Stats after 124 global rounds:\n",
      "Training loss: 0.28 | Validation accuracy: 77.33% | Validation Equal Opportunity Disparity: 0.0127\n",
      "\n",
      " | Global Training Round : 125 |\n",
      "\n",
      "Accuracy loss: 14.33 | fairness loss 50.43 | Equal Opportunity Disparity = 0.01\n",
      " \n",
      "Avg Training Stats after 125 global rounds:\n",
      "Training loss: 0.29 | Validation accuracy: 77.33% | Validation Equal Opportunity Disparity: 0.0127\n",
      "\n",
      " | Global Training Round : 126 |\n",
      "\n"
     ]
    },
    {
     "name": "stderr",
     "output_type": "stream",
     "text": [
      " 42%|████▏     | 127/300 [00:18<00:21,  8.11it/s]"
     ]
    },
    {
     "name": "stdout",
     "output_type": "stream",
     "text": [
      "Accuracy loss: 14.40 | fairness loss 50.17 | Equal Opportunity Disparity = 0.01\n",
      " \n",
      "Avg Training Stats after 126 global rounds:\n",
      "Training loss: 0.28 | Validation accuracy: 77.33% | Validation Equal Opportunity Disparity: 0.0127\n",
      "\n",
      " | Global Training Round : 127 |\n",
      "\n",
      "Accuracy loss: 14.36 | fairness loss 50.69 | Equal Opportunity Disparity = 0.01\n",
      " \n",
      "Avg Training Stats after 127 global rounds:\n",
      "Training loss: 0.28 | Validation accuracy: 77.33% | Validation Equal Opportunity Disparity: 0.0127\n",
      "\n",
      " | Global Training Round : 128 |\n",
      "\n"
     ]
    },
    {
     "name": "stderr",
     "output_type": "stream",
     "text": [
      " 43%|████▎     | 129/300 [00:18<00:20,  8.19it/s]"
     ]
    },
    {
     "name": "stdout",
     "output_type": "stream",
     "text": [
      "Accuracy loss: 14.32 | fairness loss 51.22 | Equal Opportunity Disparity = 0.01\n",
      " \n",
      "Avg Training Stats after 128 global rounds:\n",
      "Training loss: 0.28 | Validation accuracy: 77.33% | Validation Equal Opportunity Disparity: 0.0127\n",
      "\n",
      " | Global Training Round : 129 |\n",
      "\n",
      "Accuracy loss: 14.35 | fairness loss 51.24 | Equal Opportunity Disparity = 0.01\n",
      " \n",
      "Avg Training Stats after 129 global rounds:\n",
      "Training loss: 0.30 | Validation accuracy: 77.33% | Validation Equal Opportunity Disparity: 0.0127\n",
      "\n",
      " | Global Training Round : 130 |\n",
      "\n"
     ]
    },
    {
     "name": "stderr",
     "output_type": "stream",
     "text": [
      " 44%|████▎     | 131/300 [00:18<00:20,  8.24it/s]"
     ]
    },
    {
     "name": "stdout",
     "output_type": "stream",
     "text": [
      "Accuracy loss: 14.40 | fairness loss 50.89 | Equal Opportunity Disparity = 0.01\n",
      " \n",
      "Avg Training Stats after 130 global rounds:\n",
      "Training loss: 0.29 | Validation accuracy: 77.33% | Validation Equal Opportunity Disparity: 0.0127\n",
      "\n",
      " | Global Training Round : 131 |\n",
      "\n",
      "Accuracy loss: 14.49 | fairness loss 50.67 | Equal Opportunity Disparity = 0.01\n",
      " \n",
      "Avg Training Stats after 131 global rounds:\n",
      "Training loss: 0.28 | Validation accuracy: 77.33% | Validation Equal Opportunity Disparity: 0.0127\n",
      "\n",
      " | Global Training Round : 132 |\n",
      "\n"
     ]
    },
    {
     "name": "stderr",
     "output_type": "stream",
     "text": [
      " 44%|████▍     | 133/300 [00:19<00:21,  7.74it/s]"
     ]
    },
    {
     "name": "stdout",
     "output_type": "stream",
     "text": [
      "Accuracy loss: 14.47 | fairness loss 50.98 | Equal Opportunity Disparity = 0.01\n",
      " \n",
      "Avg Training Stats after 132 global rounds:\n",
      "Training loss: 0.28 | Validation accuracy: 77.33% | Validation Equal Opportunity Disparity: 0.0127\n",
      "\n",
      " | Global Training Round : 133 |\n",
      "\n",
      "Accuracy loss: 14.44 | fairness loss 51.24 | Equal Opportunity Disparity = 0.01\n",
      " \n",
      "Avg Training Stats after 133 global rounds:\n",
      "Training loss: 0.30 | Validation accuracy: 77.33% | Validation Equal Opportunity Disparity: 0.0127\n",
      "\n",
      " | Global Training Round : 134 |\n",
      "\n"
     ]
    },
    {
     "name": "stderr",
     "output_type": "stream",
     "text": [
      " 45%|████▌     | 135/300 [00:19<00:20,  7.89it/s]"
     ]
    },
    {
     "name": "stdout",
     "output_type": "stream",
     "text": [
      "Accuracy loss: 14.58 | fairness loss 50.86 | Equal Opportunity Disparity = 0.01\n",
      " \n",
      "Avg Training Stats after 134 global rounds:\n",
      "Training loss: 0.29 | Validation accuracy: 77.33% | Validation Equal Opportunity Disparity: 0.0127\n",
      "\n",
      " | Global Training Round : 135 |\n",
      "\n",
      "Accuracy loss: 14.50 | fairness loss 51.18 | Equal Opportunity Disparity = 0.01\n",
      " \n",
      "Avg Training Stats after 135 global rounds:\n",
      "Training loss: 0.28 | Validation accuracy: 77.33% | Validation Equal Opportunity Disparity: 0.0127\n",
      "\n",
      " | Global Training Round : 136 |\n",
      "\n"
     ]
    },
    {
     "name": "stderr",
     "output_type": "stream",
     "text": [
      " 46%|████▌     | 137/300 [00:19<00:20,  8.06it/s]"
     ]
    },
    {
     "name": "stdout",
     "output_type": "stream",
     "text": [
      "Accuracy loss: 14.50 | fairness loss 51.56 | Equal Opportunity Disparity = 0.01\n",
      " \n",
      "Avg Training Stats after 136 global rounds:\n",
      "Training loss: 0.28 | Validation accuracy: 77.33% | Validation Equal Opportunity Disparity: 0.0127\n",
      "\n",
      " | Global Training Round : 137 |\n",
      "\n",
      "Accuracy loss: 14.44 | fairness loss 52.13 | Equal Opportunity Disparity = 0.01\n",
      " \n",
      "Avg Training Stats after 137 global rounds:\n",
      "Training loss: 0.28 | Validation accuracy: 77.33% | Validation Equal Opportunity Disparity: 0.0127\n",
      "\n",
      " | Global Training Round : 138 |\n",
      "\n"
     ]
    },
    {
     "name": "stderr",
     "output_type": "stream",
     "text": [
      " 46%|████▋     | 139/300 [00:19<00:19,  8.19it/s]"
     ]
    },
    {
     "name": "stdout",
     "output_type": "stream",
     "text": [
      "Accuracy loss: 14.35 | fairness loss 52.89 | Equal Opportunity Disparity = 0.01\n",
      " \n",
      "Avg Training Stats after 138 global rounds:\n",
      "Training loss: 0.28 | Validation accuracy: 77.00% | Validation Equal Opportunity Disparity: 0.0075\n",
      "\n",
      " | Global Training Round : 139 |\n",
      "\n",
      "Accuracy loss: 14.29 | fairness loss 53.36 | Equal Opportunity Disparity = 0.01\n",
      " \n",
      "Avg Training Stats after 139 global rounds:\n",
      "Training loss: 0.30 | Validation accuracy: 77.00% | Validation Equal Opportunity Disparity: 0.0075\n",
      "\n",
      " | Global Training Round : 140 |\n",
      "\n"
     ]
    },
    {
     "name": "stderr",
     "output_type": "stream",
     "text": [
      " 47%|████▋     | 141/300 [00:20<00:19,  8.29it/s]"
     ]
    },
    {
     "name": "stdout",
     "output_type": "stream",
     "text": [
      "Accuracy loss: 14.36 | fairness loss 53.13 | Equal Opportunity Disparity = 0.01\n",
      " \n",
      "Avg Training Stats after 140 global rounds:\n",
      "Training loss: 0.29 | Validation accuracy: 76.67% | Validation Equal Opportunity Disparity: 0.0075\n",
      "\n",
      " | Global Training Round : 141 |\n",
      "\n",
      "Accuracy loss: 14.39 | fairness loss 53.04 | Equal Opportunity Disparity = 0.01\n",
      " \n",
      "Avg Training Stats after 141 global rounds:\n",
      "Training loss: 0.28 | Validation accuracy: 77.00% | Validation Equal Opportunity Disparity: 0.0075\n",
      "\n",
      " | Global Training Round : 142 |\n",
      "\n"
     ]
    },
    {
     "name": "stderr",
     "output_type": "stream",
     "text": [
      " 48%|████▊     | 143/300 [00:20<00:18,  8.31it/s]"
     ]
    },
    {
     "name": "stdout",
     "output_type": "stream",
     "text": [
      "Accuracy loss: 14.30 | fairness loss 53.76 | Equal Opportunity Disparity = 0.01\n",
      " \n",
      "Avg Training Stats after 142 global rounds:\n",
      "Training loss: 0.28 | Validation accuracy: 76.67% | Validation Equal Opportunity Disparity: 0.0075\n",
      "\n",
      " | Global Training Round : 143 |\n",
      "\n",
      "Accuracy loss: 14.31 | fairness loss 53.89 | Equal Opportunity Disparity = 0.01\n",
      " \n",
      "Avg Training Stats after 143 global rounds:\n",
      "Training loss: 0.28 | Validation accuracy: 76.67% | Validation Equal Opportunity Disparity: 0.0075\n",
      "\n",
      " | Global Training Round : 144 |\n",
      "\n"
     ]
    },
    {
     "name": "stderr",
     "output_type": "stream",
     "text": [
      " 48%|████▊     | 145/300 [00:20<00:18,  8.29it/s]"
     ]
    },
    {
     "name": "stdout",
     "output_type": "stream",
     "text": [
      "Accuracy loss: 14.17 | fairness loss 54.76 | Equal Opportunity Disparity = 0.01\n",
      " \n",
      "Avg Training Stats after 144 global rounds:\n",
      "Training loss: 0.28 | Validation accuracy: 76.67% | Validation Equal Opportunity Disparity: 0.0075\n",
      "\n",
      " | Global Training Round : 145 |\n",
      "\n",
      "Accuracy loss: 14.14 | fairness loss 55.27 | Equal Opportunity Disparity = 0.01\n",
      " \n",
      "Avg Training Stats after 145 global rounds:\n",
      "Training loss: 0.28 | Validation accuracy: 76.67% | Validation Equal Opportunity Disparity: 0.0075\n",
      "\n",
      " | Global Training Round : 146 |\n",
      "\n"
     ]
    },
    {
     "name": "stderr",
     "output_type": "stream",
     "text": [
      " 49%|████▉     | 147/300 [00:20<00:18,  8.26it/s]"
     ]
    },
    {
     "name": "stdout",
     "output_type": "stream",
     "text": [
      "Accuracy loss: 14.15 | fairness loss 55.32 | Equal Opportunity Disparity = 0.01\n",
      " \n",
      "Avg Training Stats after 146 global rounds:\n",
      "Training loss: 0.27 | Validation accuracy: 76.67% | Validation Equal Opportunity Disparity: 0.0075\n",
      "\n",
      " | Global Training Round : 147 |\n",
      "\n",
      "Accuracy loss: 14.12 | fairness loss 55.79 | Equal Opportunity Disparity = 0.01\n",
      " \n",
      "Avg Training Stats after 147 global rounds:\n",
      "Training loss: 0.28 | Validation accuracy: 76.67% | Validation Equal Opportunity Disparity: 0.0075\n",
      "\n",
      " | Global Training Round : 148 |\n",
      "\n"
     ]
    },
    {
     "name": "stderr",
     "output_type": "stream",
     "text": [
      " 50%|████▉     | 149/300 [00:21<00:18,  8.32it/s]"
     ]
    },
    {
     "name": "stdout",
     "output_type": "stream",
     "text": [
      "Accuracy loss: 14.07 | fairness loss 56.40 | Equal Opportunity Disparity = 0.01\n",
      " \n",
      "Avg Training Stats after 148 global rounds:\n",
      "Training loss: 0.28 | Validation accuracy: 77.00% | Validation Equal Opportunity Disparity: 0.0075\n",
      "\n",
      " | Global Training Round : 149 |\n",
      "\n",
      "Accuracy loss: 14.03 | fairness loss 56.88 | Equal Opportunity Disparity = 0.01\n",
      " \n",
      "Avg Training Stats after 149 global rounds:\n",
      "Training loss: 0.28 | Validation accuracy: 77.00% | Validation Equal Opportunity Disparity: 0.0075\n",
      "\n",
      " | Global Training Round : 150 |\n",
      "\n"
     ]
    },
    {
     "name": "stderr",
     "output_type": "stream",
     "text": [
      " 50%|█████     | 151/300 [00:21<00:18,  7.97it/s]"
     ]
    },
    {
     "name": "stdout",
     "output_type": "stream",
     "text": [
      "Accuracy loss: 14.12 | fairness loss 56.60 | Equal Opportunity Disparity = 0.01\n",
      " \n",
      "Avg Training Stats after 150 global rounds:\n",
      "Training loss: 0.29 | Validation accuracy: 76.67% | Validation Equal Opportunity Disparity: 0.0075\n",
      "\n",
      " | Global Training Round : 151 |\n",
      "\n",
      "Accuracy loss: 14.08 | fairness loss 56.83 | Equal Opportunity Disparity = 0.01\n",
      " \n",
      "Avg Training Stats after 151 global rounds:\n",
      "Training loss: 0.29 | Validation accuracy: 76.33% | Validation Equal Opportunity Disparity: 0.0075\n",
      "\n",
      " | Global Training Round : 152 |\n",
      "\n"
     ]
    },
    {
     "name": "stderr",
     "output_type": "stream",
     "text": [
      " 51%|█████     | 153/300 [00:21<00:17,  8.19it/s]"
     ]
    },
    {
     "name": "stdout",
     "output_type": "stream",
     "text": [
      "Accuracy loss: 14.19 | fairness loss 56.41 | Equal Opportunity Disparity = 0.01\n",
      " \n",
      "Avg Training Stats after 152 global rounds:\n",
      "Training loss: 0.27 | Validation accuracy: 76.33% | Validation Equal Opportunity Disparity: 0.0075\n",
      "\n",
      " | Global Training Round : 153 |\n",
      "\n",
      "Accuracy loss: 14.17 | fairness loss 56.78 | Equal Opportunity Disparity = 0.01\n",
      " \n",
      "Avg Training Stats after 153 global rounds:\n",
      "Training loss: 0.28 | Validation accuracy: 76.33% | Validation Equal Opportunity Disparity: 0.0075\n",
      "\n",
      " | Global Training Round : 154 |\n",
      "\n"
     ]
    },
    {
     "name": "stderr",
     "output_type": "stream",
     "text": [
      " 52%|█████▏    | 155/300 [00:21<00:17,  8.25it/s]"
     ]
    },
    {
     "name": "stdout",
     "output_type": "stream",
     "text": [
      "Accuracy loss: 14.02 | fairness loss 57.92 | Equal Opportunity Disparity = 0.01\n",
      " \n",
      "Avg Training Stats after 154 global rounds:\n",
      "Training loss: 0.28 | Validation accuracy: 76.67% | Validation Equal Opportunity Disparity: 0.0075\n",
      "\n",
      " | Global Training Round : 155 |\n",
      "\n",
      "Accuracy loss: 13.94 | fairness loss 58.68 | Equal Opportunity Disparity = 0.01\n",
      " \n",
      "Avg Training Stats after 155 global rounds:\n",
      "Training loss: 0.27 | Validation accuracy: 76.67% | Validation Equal Opportunity Disparity: 0.0075\n",
      "\n",
      " | Global Training Round : 156 |\n",
      "\n"
     ]
    },
    {
     "name": "stderr",
     "output_type": "stream",
     "text": [
      " 52%|█████▏    | 157/300 [00:22<00:19,  7.45it/s]"
     ]
    },
    {
     "name": "stdout",
     "output_type": "stream",
     "text": [
      "Accuracy loss: 13.91 | fairness loss 59.10 | Equal Opportunity Disparity = 0.01\n",
      " \n",
      "Avg Training Stats after 156 global rounds:\n",
      "Training loss: 0.30 | Validation accuracy: 76.67% | Validation Equal Opportunity Disparity: 0.0075\n",
      "\n",
      " | Global Training Round : 157 |\n",
      "\n",
      "Accuracy loss: 13.90 | fairness loss 59.05 | Equal Opportunity Disparity = 0.01\n",
      " \n",
      "Avg Training Stats after 157 global rounds:\n",
      "Training loss: 0.27 | Validation accuracy: 76.67% | Validation Equal Opportunity Disparity: 0.0075\n",
      "\n",
      " | Global Training Round : 158 |\n",
      "\n"
     ]
    },
    {
     "name": "stderr",
     "output_type": "stream",
     "text": [
      " 53%|█████▎    | 159/300 [00:22<00:17,  7.87it/s]"
     ]
    },
    {
     "name": "stdout",
     "output_type": "stream",
     "text": [
      "Accuracy loss: 13.89 | fairness loss 59.33 | Equal Opportunity Disparity = 0.01\n",
      " \n",
      "Avg Training Stats after 158 global rounds:\n",
      "Training loss: 0.28 | Validation accuracy: 76.67% | Validation Equal Opportunity Disparity: 0.0075\n",
      "\n",
      " | Global Training Round : 159 |\n",
      "\n",
      "Accuracy loss: 13.89 | fairness loss 59.40 | Equal Opportunity Disparity = 0.01\n",
      " \n",
      "Avg Training Stats after 159 global rounds:\n",
      "Training loss: 0.29 | Validation accuracy: 76.67% | Validation Equal Opportunity Disparity: 0.0075\n",
      "\n",
      " | Global Training Round : 160 |\n",
      "\n"
     ]
    },
    {
     "name": "stderr",
     "output_type": "stream",
     "text": [
      " 54%|█████▎    | 161/300 [00:22<00:18,  7.47it/s]"
     ]
    },
    {
     "name": "stdout",
     "output_type": "stream",
     "text": [
      "Accuracy loss: 13.85 | fairness loss 59.90 | Equal Opportunity Disparity = 0.01\n",
      " \n",
      "Avg Training Stats after 160 global rounds:\n",
      "Training loss: 0.28 | Validation accuracy: 76.67% | Validation Equal Opportunity Disparity: 0.0075\n",
      "\n",
      " | Global Training Round : 161 |\n",
      "\n",
      "Accuracy loss: 13.90 | fairness loss 59.86 | Equal Opportunity Disparity = 0.01\n",
      " \n",
      "Avg Training Stats after 161 global rounds:\n",
      "Training loss: 0.29 | Validation accuracy: 76.67% | Validation Equal Opportunity Disparity: 0.0075\n",
      "\n",
      " | Global Training Round : 162 |\n",
      "\n"
     ]
    },
    {
     "name": "stderr",
     "output_type": "stream",
     "text": [
      " 54%|█████▍    | 163/300 [00:23<00:21,  6.34it/s]"
     ]
    },
    {
     "name": "stdout",
     "output_type": "stream",
     "text": [
      "Accuracy loss: 13.87 | fairness loss 60.23 | Equal Opportunity Disparity = 0.01\n",
      " \n",
      "Avg Training Stats after 162 global rounds:\n",
      "Training loss: 0.29 | Validation accuracy: 76.67% | Validation Equal Opportunity Disparity: 0.0075\n",
      "\n",
      " | Global Training Round : 163 |\n",
      "\n",
      "Accuracy loss: 13.90 | fairness loss 60.18 | Equal Opportunity Disparity = 0.01\n",
      " \n",
      "Avg Training Stats after 163 global rounds:\n",
      "Training loss: 0.28 | Validation accuracy: 76.67% | Validation Equal Opportunity Disparity: 0.0075\n",
      "\n",
      " | Global Training Round : 164 |\n",
      "\n"
     ]
    },
    {
     "name": "stderr",
     "output_type": "stream",
     "text": [
      " 55%|█████▌    | 165/300 [00:23<00:19,  7.07it/s]"
     ]
    },
    {
     "name": "stdout",
     "output_type": "stream",
     "text": [
      "Accuracy loss: 13.88 | fairness loss 60.50 | Equal Opportunity Disparity = 0.01\n",
      " \n",
      "Avg Training Stats after 164 global rounds:\n",
      "Training loss: 0.28 | Validation accuracy: 76.67% | Validation Equal Opportunity Disparity: 0.0075\n",
      "\n",
      " | Global Training Round : 165 |\n",
      "\n",
      "Accuracy loss: 13.77 | fairness loss 61.55 | Equal Opportunity Disparity = 0.01\n",
      " \n",
      "Avg Training Stats after 165 global rounds:\n",
      "Training loss: 0.28 | Validation accuracy: 76.67% | Validation Equal Opportunity Disparity: 0.0075\n",
      "\n",
      " | Global Training Round : 166 |\n",
      "\n"
     ]
    },
    {
     "name": "stderr",
     "output_type": "stream",
     "text": [
      " 56%|█████▌    | 167/300 [00:23<00:17,  7.59it/s]"
     ]
    },
    {
     "name": "stdout",
     "output_type": "stream",
     "text": [
      "Accuracy loss: 13.71 | fairness loss 62.15 | Equal Opportunity Disparity = 0.01\n",
      " \n",
      "Avg Training Stats after 166 global rounds:\n",
      "Training loss: 0.29 | Validation accuracy: 76.67% | Validation Equal Opportunity Disparity: 0.0075\n",
      "\n",
      " | Global Training Round : 167 |\n",
      "\n",
      "Accuracy loss: 13.74 | fairness loss 62.03 | Equal Opportunity Disparity = 0.01\n",
      " \n",
      "Avg Training Stats after 167 global rounds:\n",
      "Training loss: 0.28 | Validation accuracy: 76.67% | Validation Equal Opportunity Disparity: 0.0075\n",
      "\n",
      " | Global Training Round : 168 |\n",
      "\n"
     ]
    },
    {
     "name": "stderr",
     "output_type": "stream",
     "text": [
      " 56%|█████▋    | 169/300 [00:23<00:16,  7.78it/s]"
     ]
    },
    {
     "name": "stdout",
     "output_type": "stream",
     "text": [
      "Accuracy loss: 13.69 | fairness loss 62.61 | Equal Opportunity Disparity = 0.01\n",
      " \n",
      "Avg Training Stats after 168 global rounds:\n",
      "Training loss: 0.28 | Validation accuracy: 76.67% | Validation Equal Opportunity Disparity: 0.0075\n",
      "\n",
      " | Global Training Round : 169 |\n",
      "\n",
      "Accuracy loss: 13.69 | fairness loss 62.92 | Equal Opportunity Disparity = 0.01\n",
      " \n",
      "Avg Training Stats after 169 global rounds:\n",
      "Training loss: 0.28 | Validation accuracy: 76.67% | Validation Equal Opportunity Disparity: 0.0075\n",
      "\n",
      " | Global Training Round : 170 |\n",
      "\n"
     ]
    },
    {
     "name": "stderr",
     "output_type": "stream",
     "text": [
      " 57%|█████▋    | 171/300 [00:24<00:16,  8.04it/s]"
     ]
    },
    {
     "name": "stdout",
     "output_type": "stream",
     "text": [
      "Accuracy loss: 13.62 | fairness loss 63.64 | Equal Opportunity Disparity = 0.01\n",
      " \n",
      "Avg Training Stats after 170 global rounds:\n",
      "Training loss: 0.28 | Validation accuracy: 76.67% | Validation Equal Opportunity Disparity: 0.0075\n",
      "\n",
      " | Global Training Round : 171 |\n",
      "\n",
      "Accuracy loss: 13.57 | fairness loss 64.23 | Equal Opportunity Disparity = 0.01\n",
      " \n",
      "Avg Training Stats after 171 global rounds:\n",
      "Training loss: 0.28 | Validation accuracy: 76.67% | Validation Equal Opportunity Disparity: 0.0075\n",
      "\n",
      " | Global Training Round : 172 |\n",
      "\n"
     ]
    },
    {
     "name": "stderr",
     "output_type": "stream",
     "text": [
      " 58%|█████▊    | 173/300 [00:24<00:15,  8.17it/s]"
     ]
    },
    {
     "name": "stdout",
     "output_type": "stream",
     "text": [
      "Accuracy loss: 13.51 | fairness loss 64.90 | Equal Opportunity Disparity = 0.01\n",
      " \n",
      "Avg Training Stats after 172 global rounds:\n",
      "Training loss: 0.28 | Validation accuracy: 77.00% | Validation Equal Opportunity Disparity: 0.0075\n",
      "\n",
      " | Global Training Round : 173 |\n",
      "\n",
      "Accuracy loss: 13.55 | fairness loss 64.70 | Equal Opportunity Disparity = 0.01\n",
      " \n",
      "Avg Training Stats after 173 global rounds:\n",
      "Training loss: 0.30 | Validation accuracy: 77.00% | Validation Equal Opportunity Disparity: 0.0075\n",
      "\n",
      " | Global Training Round : 174 |\n",
      "\n"
     ]
    },
    {
     "name": "stderr",
     "output_type": "stream",
     "text": [
      " 58%|█████▊    | 175/300 [00:24<00:18,  6.93it/s]"
     ]
    },
    {
     "name": "stdout",
     "output_type": "stream",
     "text": [
      "Accuracy loss: 13.55 | fairness loss 64.89 | Equal Opportunity Disparity = 0.01\n",
      " \n",
      "Avg Training Stats after 174 global rounds:\n",
      "Training loss: 0.30 | Validation accuracy: 76.67% | Validation Equal Opportunity Disparity: 0.0075\n",
      "\n",
      " | Global Training Round : 175 |\n",
      "\n",
      "Accuracy loss: 13.49 | fairness loss 65.18 | Equal Opportunity Disparity = 0.01\n",
      " \n",
      "Avg Training Stats after 175 global rounds:\n",
      "Training loss: 0.28 | Validation accuracy: 77.00% | Validation Equal Opportunity Disparity: 0.0075\n",
      "\n",
      " | Global Training Round : 176 |\n",
      "\n"
     ]
    },
    {
     "name": "stderr",
     "output_type": "stream",
     "text": [
      " 59%|█████▉    | 177/300 [00:24<00:16,  7.28it/s]"
     ]
    },
    {
     "name": "stdout",
     "output_type": "stream",
     "text": [
      "Accuracy loss: 13.40 | fairness loss 66.23 | Equal Opportunity Disparity = 0.01\n",
      " \n",
      "Avg Training Stats after 176 global rounds:\n",
      "Training loss: 0.30 | Validation accuracy: 77.00% | Validation Equal Opportunity Disparity: 0.0075\n",
      "\n",
      " | Global Training Round : 177 |\n",
      "\n",
      "Accuracy loss: 13.39 | fairness loss 66.53 | Equal Opportunity Disparity = 0.01\n",
      " \n",
      "Avg Training Stats after 177 global rounds:\n",
      "Training loss: 0.28 | Validation accuracy: 76.67% | Validation Equal Opportunity Disparity: 0.0127\n",
      "\n",
      " | Global Training Round : 178 |\n",
      "\n"
     ]
    },
    {
     "name": "stderr",
     "output_type": "stream",
     "text": [
      " 60%|█████▉    | 179/300 [00:25<00:16,  7.53it/s]"
     ]
    },
    {
     "name": "stdout",
     "output_type": "stream",
     "text": [
      "Accuracy loss: 13.32 | fairness loss 67.40 | Equal Opportunity Disparity = 0.01\n",
      " \n",
      "Avg Training Stats after 178 global rounds:\n",
      "Training loss: 0.29 | Validation accuracy: 76.67% | Validation Equal Opportunity Disparity: 0.0127\n",
      "\n",
      " | Global Training Round : 179 |\n",
      "\n",
      "Accuracy loss: 13.29 | fairness loss 67.76 | Equal Opportunity Disparity = 0.01\n",
      " \n",
      "Avg Training Stats after 179 global rounds:\n",
      "Training loss: 0.29 | Validation accuracy: 76.67% | Validation Equal Opportunity Disparity: 0.0127\n",
      "\n",
      " | Global Training Round : 180 |\n",
      "\n"
     ]
    },
    {
     "name": "stderr",
     "output_type": "stream",
     "text": [
      " 60%|██████    | 181/300 [00:25<00:17,  6.99it/s]"
     ]
    },
    {
     "name": "stdout",
     "output_type": "stream",
     "text": [
      "Accuracy loss: 13.16 | fairness loss 69.18 | Equal Opportunity Disparity = 0.01\n",
      " \n",
      "Avg Training Stats after 180 global rounds:\n",
      "Training loss: 0.30 | Validation accuracy: 77.00% | Validation Equal Opportunity Disparity: 0.0127\n",
      "\n",
      " | Global Training Round : 181 |\n",
      "\n",
      "Accuracy loss: 13.10 | fairness loss 69.51 | Equal Opportunity Disparity = 0.01\n",
      " \n",
      "Avg Training Stats after 181 global rounds:\n",
      "Training loss: 0.29 | Validation accuracy: 77.67% | Validation Equal Opportunity Disparity: 0.0075\n",
      "\n",
      " | Global Training Round : 182 |\n",
      "\n"
     ]
    },
    {
     "name": "stderr",
     "output_type": "stream",
     "text": [
      " 61%|██████    | 183/300 [00:25<00:17,  6.70it/s]"
     ]
    },
    {
     "name": "stdout",
     "output_type": "stream",
     "text": [
      "Accuracy loss: 13.06 | fairness loss 70.31 | Equal Opportunity Disparity = 0.01\n",
      " \n",
      "Avg Training Stats after 182 global rounds:\n",
      "Training loss: 0.28 | Validation accuracy: 77.67% | Validation Equal Opportunity Disparity: 0.0075\n",
      "\n",
      " | Global Training Round : 183 |\n",
      "\n",
      "Accuracy loss: 13.04 | fairness loss 70.60 | Equal Opportunity Disparity = 0.01\n",
      " \n",
      "Avg Training Stats after 183 global rounds:\n",
      "Training loss: 0.29 | Validation accuracy: 77.67% | Validation Equal Opportunity Disparity: 0.0075\n",
      "\n",
      " | Global Training Round : 184 |\n",
      "\n"
     ]
    },
    {
     "name": "stderr",
     "output_type": "stream",
     "text": [
      " 62%|██████▏   | 185/300 [00:25<00:16,  7.13it/s]"
     ]
    },
    {
     "name": "stdout",
     "output_type": "stream",
     "text": [
      "Accuracy loss: 13.10 | fairness loss 70.20 | Equal Opportunity Disparity = 0.01\n",
      " \n",
      "Avg Training Stats after 184 global rounds:\n",
      "Training loss: 0.29 | Validation accuracy: 77.67% | Validation Equal Opportunity Disparity: 0.0075\n",
      "\n",
      " | Global Training Round : 185 |\n",
      "\n",
      "Accuracy loss: 13.10 | fairness loss 70.32 | Equal Opportunity Disparity = 0.01\n",
      " \n",
      "Avg Training Stats after 185 global rounds:\n",
      "Training loss: 0.29 | Validation accuracy: 77.67% | Validation Equal Opportunity Disparity: 0.0075\n",
      "\n",
      " | Global Training Round : 186 |\n",
      "\n"
     ]
    },
    {
     "name": "stderr",
     "output_type": "stream",
     "text": [
      " 62%|██████▏   | 187/300 [00:26<00:15,  7.36it/s]"
     ]
    },
    {
     "name": "stdout",
     "output_type": "stream",
     "text": [
      "Accuracy loss: 13.13 | fairness loss 70.28 | Equal Opportunity Disparity = 0.01\n",
      " \n",
      "Avg Training Stats after 186 global rounds:\n",
      "Training loss: 0.29 | Validation accuracy: 77.67% | Validation Equal Opportunity Disparity: 0.0075\n",
      "\n",
      " | Global Training Round : 187 |\n",
      "\n",
      "Accuracy loss: 13.04 | fairness loss 71.67 | Equal Opportunity Disparity = 0.01\n",
      " \n",
      "Avg Training Stats after 187 global rounds:\n",
      "Training loss: 0.29 | Validation accuracy: 78.00% | Validation Equal Opportunity Disparity: 0.0075\n",
      "\n",
      " | Global Training Round : 188 |\n",
      "\n"
     ]
    },
    {
     "name": "stderr",
     "output_type": "stream",
     "text": [
      " 63%|██████▎   | 189/300 [00:26<00:14,  7.67it/s]"
     ]
    },
    {
     "name": "stdout",
     "output_type": "stream",
     "text": [
      "Accuracy loss: 12.95 | fairness loss 73.01 | Equal Opportunity Disparity = 0.01\n",
      " \n",
      "Avg Training Stats after 188 global rounds:\n",
      "Training loss: 0.31 | Validation accuracy: 78.33% | Validation Equal Opportunity Disparity: 0.0075\n",
      "\n",
      " | Global Training Round : 189 |\n",
      "\n",
      "Accuracy loss: 13.10 | fairness loss 71.29 | Equal Opportunity Disparity = 0.01\n",
      " \n",
      "Avg Training Stats after 189 global rounds:\n",
      "Training loss: 0.29 | Validation accuracy: 77.67% | Validation Equal Opportunity Disparity: 0.0127\n",
      "\n",
      " | Global Training Round : 190 |\n",
      "\n"
     ]
    },
    {
     "name": "stderr",
     "output_type": "stream",
     "text": [
      " 64%|██████▎   | 191/300 [00:26<00:15,  7.14it/s]"
     ]
    },
    {
     "name": "stdout",
     "output_type": "stream",
     "text": [
      "Accuracy loss: 13.07 | fairness loss 71.87 | Equal Opportunity Disparity = 0.01\n",
      " \n",
      "Avg Training Stats after 190 global rounds:\n",
      "Training loss: 0.29 | Validation accuracy: 77.67% | Validation Equal Opportunity Disparity: 0.0127\n",
      "\n",
      " | Global Training Round : 191 |\n",
      "\n",
      "Accuracy loss: 12.98 | fairness loss 73.05 | Equal Opportunity Disparity = 0.01\n",
      " \n",
      "Avg Training Stats after 191 global rounds:\n",
      "Training loss: 0.31 | Validation accuracy: 78.33% | Validation Equal Opportunity Disparity: 0.0075\n",
      "\n",
      " | Global Training Round : 192 |\n",
      "\n"
     ]
    },
    {
     "name": "stderr",
     "output_type": "stream",
     "text": [
      " 64%|██████▍   | 193/300 [00:27<00:14,  7.44it/s]"
     ]
    },
    {
     "name": "stdout",
     "output_type": "stream",
     "text": [
      "Accuracy loss: 12.96 | fairness loss 73.34 | Equal Opportunity Disparity = 0.01\n",
      " \n",
      "Avg Training Stats after 192 global rounds:\n",
      "Training loss: 0.30 | Validation accuracy: 78.00% | Validation Equal Opportunity Disparity: 0.0127\n",
      "\n",
      " | Global Training Round : 193 |\n",
      "\n",
      "Accuracy loss: 12.95 | fairness loss 73.42 | Equal Opportunity Disparity = 0.01\n",
      " \n",
      "Avg Training Stats after 193 global rounds:\n",
      "Training loss: 0.29 | Validation accuracy: 78.00% | Validation Equal Opportunity Disparity: 0.0127\n",
      "\n",
      " | Global Training Round : 194 |\n",
      "\n"
     ]
    },
    {
     "name": "stderr",
     "output_type": "stream",
     "text": [
      " 65%|██████▌   | 195/300 [00:27<00:16,  6.56it/s]"
     ]
    },
    {
     "name": "stdout",
     "output_type": "stream",
     "text": [
      "Accuracy loss: 12.84 | fairness loss 74.63 | Equal Opportunity Disparity = 0.01\n",
      " \n",
      "Avg Training Stats after 194 global rounds:\n",
      "Training loss: 0.29 | Validation accuracy: 78.33% | Validation Equal Opportunity Disparity: 0.0075\n",
      "\n",
      " | Global Training Round : 195 |\n",
      "\n",
      "Accuracy loss: 12.77 | fairness loss 75.63 | Equal Opportunity Disparity = 0.01\n",
      " \n",
      "Avg Training Stats after 195 global rounds:\n",
      "Training loss: 0.30 | Validation accuracy: 78.33% | Validation Equal Opportunity Disparity: 0.0075\n",
      "\n",
      " | Global Training Round : 196 |\n",
      "\n"
     ]
    },
    {
     "name": "stderr",
     "output_type": "stream",
     "text": [
      " 66%|██████▌   | 197/300 [00:27<00:15,  6.58it/s]"
     ]
    },
    {
     "name": "stdout",
     "output_type": "stream",
     "text": [
      "Accuracy loss: 12.72 | fairness loss 76.42 | Equal Opportunity Disparity = 0.01\n",
      " \n",
      "Avg Training Stats after 196 global rounds:\n",
      "Training loss: 0.30 | Validation accuracy: 78.33% | Validation Equal Opportunity Disparity: 0.0075\n",
      "\n",
      " | Global Training Round : 197 |\n",
      "\n",
      "Accuracy loss: 12.67 | fairness loss 77.15 | Equal Opportunity Disparity = 0.01\n",
      " \n",
      "Avg Training Stats after 197 global rounds:\n",
      "Training loss: 0.29 | Validation accuracy: 78.67% | Validation Equal Opportunity Disparity: 0.0075\n",
      "\n",
      " | Global Training Round : 198 |\n",
      "\n"
     ]
    },
    {
     "name": "stderr",
     "output_type": "stream",
     "text": [
      " 66%|██████▋   | 199/300 [00:27<00:14,  6.79it/s]"
     ]
    },
    {
     "name": "stdout",
     "output_type": "stream",
     "text": [
      "Accuracy loss: 12.62 | fairness loss 77.64 | Equal Opportunity Disparity = 0.01\n",
      " \n",
      "Avg Training Stats after 198 global rounds:\n",
      "Training loss: 0.30 | Validation accuracy: 78.67% | Validation Equal Opportunity Disparity: 0.0075\n",
      "\n",
      " | Global Training Round : 199 |\n",
      "\n",
      "Accuracy loss: 12.62 | fairness loss 77.69 | Equal Opportunity Disparity = 0.01\n",
      " \n",
      "Avg Training Stats after 199 global rounds:\n",
      "Training loss: 0.29 | Validation accuracy: 78.67% | Validation Equal Opportunity Disparity: 0.0075\n",
      "\n",
      " | Global Training Round : 200 |\n",
      "\n"
     ]
    },
    {
     "name": "stderr",
     "output_type": "stream",
     "text": [
      " 67%|██████▋   | 201/300 [00:28<00:14,  6.79it/s]"
     ]
    },
    {
     "name": "stdout",
     "output_type": "stream",
     "text": [
      "Accuracy loss: 12.58 | fairness loss 78.24 | Equal Opportunity Disparity = 0.01\n",
      " \n",
      "Avg Training Stats after 200 global rounds:\n",
      "Training loss: 0.29 | Validation accuracy: 79.00% | Validation Equal Opportunity Disparity: 0.0075\n",
      "\n",
      " | Global Training Round : 201 |\n",
      "\n",
      "Accuracy loss: 12.55 | fairness loss 78.55 | Equal Opportunity Disparity = 0.01\n",
      " \n",
      "Avg Training Stats after 201 global rounds:\n",
      "Training loss: 0.30 | Validation accuracy: 79.33% | Validation Equal Opportunity Disparity: 0.0075\n",
      "\n",
      " | Global Training Round : 202 |\n",
      "\n"
     ]
    },
    {
     "name": "stderr",
     "output_type": "stream",
     "text": [
      " 68%|██████▊   | 203/300 [00:28<00:13,  7.29it/s]"
     ]
    },
    {
     "name": "stdout",
     "output_type": "stream",
     "text": [
      "Accuracy loss: 12.51 | fairness loss 79.13 | Equal Opportunity Disparity = 0.01\n",
      " \n",
      "Avg Training Stats after 202 global rounds:\n",
      "Training loss: 0.30 | Validation accuracy: 79.33% | Validation Equal Opportunity Disparity: 0.0075\n",
      "\n",
      " | Global Training Round : 203 |\n",
      "\n",
      "Accuracy loss: 12.44 | fairness loss 80.21 | Equal Opportunity Disparity = 0.00\n",
      " \n",
      "Avg Training Stats after 203 global rounds:\n",
      "Training loss: 0.30 | Validation accuracy: 79.33% | Validation Equal Opportunity Disparity: 0.0022\n",
      "\n",
      " | Global Training Round : 204 |\n",
      "\n"
     ]
    },
    {
     "name": "stderr",
     "output_type": "stream",
     "text": [
      "\r",
      " 68%|██████▊   | 204/300 [00:28<00:13,  6.92it/s]"
     ]
    },
    {
     "name": "stdout",
     "output_type": "stream",
     "text": [
      "Accuracy loss: 12.48 | fairness loss 79.14 | Equal Opportunity Disparity = 0.00\n",
      " \n",
      "Avg Training Stats after 204 global rounds:\n",
      "Training loss: 0.30 | Validation accuracy: 79.00% | Validation Equal Opportunity Disparity: 0.0022\n",
      "\n",
      " | Global Training Round : 205 |\n",
      "\n",
      "Accuracy loss: 12.48 | fairness loss 79.12 | Equal Opportunity Disparity = 0.00\n",
      " \n",
      "Avg Training Stats after 205 global rounds:\n"
     ]
    },
    {
     "name": "stderr",
     "output_type": "stream",
     "text": [
      "\r",
      " 68%|██████▊   | 205/300 [00:28<00:15,  6.18it/s]"
     ]
    },
    {
     "name": "stdout",
     "output_type": "stream",
     "text": [
      "Training loss: 0.32 | Validation accuracy: 79.00% | Validation Equal Opportunity Disparity: 0.0022\n",
      "\n",
      " | Global Training Round : 206 |\n",
      "\n"
     ]
    },
    {
     "name": "stderr",
     "output_type": "stream",
     "text": [
      " 69%|██████▉   | 207/300 [00:29<00:16,  5.70it/s]"
     ]
    },
    {
     "name": "stdout",
     "output_type": "stream",
     "text": [
      "Accuracy loss: 12.60 | fairness loss 77.18 | Equal Opportunity Disparity = 0.00\n",
      " \n",
      "Avg Training Stats after 206 global rounds:\n",
      "Training loss: 0.29 | Validation accuracy: 79.00% | Validation Equal Opportunity Disparity: 0.0022\n",
      "\n",
      " | Global Training Round : 207 |\n",
      "\n",
      "Accuracy loss: 12.57 | fairness loss 77.54 | Equal Opportunity Disparity = 0.00\n",
      " \n",
      "Avg Training Stats after 207 global rounds:\n",
      "Training loss: 0.30 | Validation accuracy: 79.00% | Validation Equal Opportunity Disparity: 0.0022\n",
      "\n",
      " | Global Training Round : 208 |\n",
      "\n"
     ]
    },
    {
     "name": "stderr",
     "output_type": "stream",
     "text": [
      " 70%|██████▉   | 209/300 [00:29<00:15,  5.84it/s]"
     ]
    },
    {
     "name": "stdout",
     "output_type": "stream",
     "text": [
      "Accuracy loss: 12.55 | fairness loss 77.91 | Equal Opportunity Disparity = 0.01\n",
      " \n",
      "Avg Training Stats after 208 global rounds:\n",
      "Training loss: 0.30 | Validation accuracy: 78.67% | Validation Equal Opportunity Disparity: 0.0075\n",
      "\n",
      " | Global Training Round : 209 |\n",
      "\n",
      "Accuracy loss: 12.47 | fairness loss 78.99 | Equal Opportunity Disparity = 0.01\n",
      " \n",
      "Avg Training Stats after 209 global rounds:\n",
      "Training loss: 0.30 | Validation accuracy: 78.67% | Validation Equal Opportunity Disparity: 0.0075\n",
      "\n",
      " | Global Training Round : 210 |\n",
      "\n"
     ]
    },
    {
     "name": "stderr",
     "output_type": "stream",
     "text": [
      " 70%|███████   | 211/300 [00:29<00:13,  6.65it/s]"
     ]
    },
    {
     "name": "stdout",
     "output_type": "stream",
     "text": [
      "Accuracy loss: 12.43 | fairness loss 79.79 | Equal Opportunity Disparity = 0.01\n",
      " \n",
      "Avg Training Stats after 210 global rounds:\n",
      "Training loss: 0.32 | Validation accuracy: 79.33% | Validation Equal Opportunity Disparity: 0.0075\n",
      "\n",
      " | Global Training Round : 211 |\n",
      "\n",
      "Accuracy loss: 12.38 | fairness loss 79.97 | Equal Opportunity Disparity = 0.01\n",
      " \n",
      "Avg Training Stats after 211 global rounds:\n",
      "Training loss: 0.30 | Validation accuracy: 79.67% | Validation Equal Opportunity Disparity: 0.0075\n",
      "\n",
      " | Global Training Round : 212 |\n",
      "\n"
     ]
    },
    {
     "name": "stderr",
     "output_type": "stream",
     "text": [
      " 71%|███████   | 213/300 [00:30<00:11,  7.26it/s]"
     ]
    },
    {
     "name": "stdout",
     "output_type": "stream",
     "text": [
      "Accuracy loss: 12.26 | fairness loss 81.73 | Equal Opportunity Disparity = 0.00\n",
      " \n",
      "Avg Training Stats after 212 global rounds:\n",
      "Training loss: 0.29 | Validation accuracy: 80.33% | Validation Equal Opportunity Disparity: 0.0022\n",
      "\n",
      " | Global Training Round : 213 |\n",
      "\n",
      "Accuracy loss: 12.18 | fairness loss 83.02 | Equal Opportunity Disparity = 0.00\n",
      " \n",
      "Avg Training Stats after 213 global rounds:\n",
      "Training loss: 0.30 | Validation accuracy: 81.00% | Validation Equal Opportunity Disparity: 0.0022\n",
      "\n",
      " | Global Training Round : 214 |\n",
      "\n"
     ]
    },
    {
     "name": "stderr",
     "output_type": "stream",
     "text": [
      " 72%|███████▏  | 215/300 [00:30<00:11,  7.66it/s]"
     ]
    },
    {
     "name": "stdout",
     "output_type": "stream",
     "text": [
      "Accuracy loss: 12.13 | fairness loss 83.81 | Equal Opportunity Disparity = 0.00\n",
      " \n",
      "Avg Training Stats after 214 global rounds:\n",
      "Training loss: 0.30 | Validation accuracy: 81.00% | Validation Equal Opportunity Disparity: 0.0022\n",
      "\n",
      " | Global Training Round : 215 |\n",
      "\n",
      "Accuracy loss: 12.08 | fairness loss 84.53 | Equal Opportunity Disparity = 0.00\n",
      " \n",
      "Avg Training Stats after 215 global rounds:\n",
      "Training loss: 0.30 | Validation accuracy: 81.00% | Validation Equal Opportunity Disparity: 0.0022\n",
      "\n",
      " | Global Training Round : 216 |\n",
      "\n"
     ]
    },
    {
     "name": "stderr",
     "output_type": "stream",
     "text": [
      " 72%|███████▏  | 217/300 [00:30<00:10,  7.85it/s]"
     ]
    },
    {
     "name": "stdout",
     "output_type": "stream",
     "text": [
      "Accuracy loss: 12.11 | fairness loss 83.88 | Equal Opportunity Disparity = 0.00\n",
      " \n",
      "Avg Training Stats after 216 global rounds:\n",
      "Training loss: 0.30 | Validation accuracy: 81.00% | Validation Equal Opportunity Disparity: 0.0022\n",
      "\n",
      " | Global Training Round : 217 |\n",
      "\n",
      "Accuracy loss: 12.08 | fairness loss 84.54 | Equal Opportunity Disparity = 0.00\n",
      " \n",
      "Avg Training Stats after 217 global rounds:\n",
      "Training loss: 0.30 | Validation accuracy: 81.00% | Validation Equal Opportunity Disparity: 0.0022\n",
      "\n",
      " | Global Training Round : 218 |\n",
      "\n"
     ]
    },
    {
     "name": "stderr",
     "output_type": "stream",
     "text": [
      " 73%|███████▎  | 219/300 [00:30<00:10,  7.91it/s]"
     ]
    },
    {
     "name": "stdout",
     "output_type": "stream",
     "text": [
      "Accuracy loss: 12.01 | fairness loss 85.99 | Equal Opportunity Disparity = 0.00\n",
      " \n",
      "Avg Training Stats after 218 global rounds:\n",
      "Training loss: 0.30 | Validation accuracy: 81.00% | Validation Equal Opportunity Disparity: 0.0022\n",
      "\n",
      " | Global Training Round : 219 |\n",
      "\n",
      "Accuracy loss: 11.97 | fairness loss 86.94 | Equal Opportunity Disparity = 0.00\n",
      " \n",
      "Avg Training Stats after 219 global rounds:\n",
      "Training loss: 0.30 | Validation accuracy: 81.00% | Validation Equal Opportunity Disparity: 0.0022\n",
      "\n",
      " | Global Training Round : 220 |\n",
      "\n"
     ]
    },
    {
     "name": "stderr",
     "output_type": "stream",
     "text": [
      " 74%|███████▎  | 221/300 [00:31<00:09,  8.12it/s]"
     ]
    },
    {
     "name": "stdout",
     "output_type": "stream",
     "text": [
      "Accuracy loss: 11.92 | fairness loss 87.75 | Equal Opportunity Disparity = 0.00\n",
      " \n",
      "Avg Training Stats after 220 global rounds:\n",
      "Training loss: 0.30 | Validation accuracy: 81.00% | Validation Equal Opportunity Disparity: 0.0022\n",
      "\n",
      " | Global Training Round : 221 |\n",
      "\n",
      "Accuracy loss: 11.89 | fairness loss 88.11 | Equal Opportunity Disparity = 0.00\n",
      " \n",
      "Avg Training Stats after 221 global rounds:\n",
      "Training loss: 0.32 | Validation accuracy: 81.00% | Validation Equal Opportunity Disparity: 0.0022\n",
      "\n",
      " | Global Training Round : 222 |\n",
      "\n"
     ]
    },
    {
     "name": "stderr",
     "output_type": "stream",
     "text": [
      " 74%|███████▍  | 223/300 [00:31<00:10,  7.17it/s]"
     ]
    },
    {
     "name": "stdout",
     "output_type": "stream",
     "text": [
      "Accuracy loss: 11.94 | fairness loss 86.82 | Equal Opportunity Disparity = 0.00\n",
      " \n",
      "Avg Training Stats after 222 global rounds:\n",
      "Training loss: 0.30 | Validation accuracy: 81.67% | Validation Equal Opportunity Disparity: 0.0022\n",
      "\n",
      " | Global Training Round : 223 |\n",
      "\n",
      "Accuracy loss: 12.00 | fairness loss 85.57 | Equal Opportunity Disparity = 0.00\n",
      " \n",
      "Avg Training Stats after 223 global rounds:\n",
      "Training loss: 0.29 | Validation accuracy: 81.33% | Validation Equal Opportunity Disparity: 0.0022\n",
      "\n",
      " | Global Training Round : 224 |\n",
      "\n"
     ]
    },
    {
     "name": "stderr",
     "output_type": "stream",
     "text": [
      " 75%|███████▌  | 225/300 [00:31<00:10,  7.04it/s]"
     ]
    },
    {
     "name": "stdout",
     "output_type": "stream",
     "text": [
      "Accuracy loss: 11.96 | fairness loss 86.33 | Equal Opportunity Disparity = 0.00\n",
      " \n",
      "Avg Training Stats after 224 global rounds:\n",
      "Training loss: 0.30 | Validation accuracy: 81.00% | Validation Equal Opportunity Disparity: 0.0022\n",
      "\n",
      " | Global Training Round : 225 |\n",
      "\n",
      "Accuracy loss: 11.92 | fairness loss 87.22 | Equal Opportunity Disparity = 0.00\n",
      " \n",
      "Avg Training Stats after 225 global rounds:\n",
      "Training loss: 0.30 | Validation accuracy: 81.67% | Validation Equal Opportunity Disparity: 0.0022\n",
      "\n",
      " | Global Training Round : 226 |\n",
      "\n"
     ]
    },
    {
     "name": "stderr",
     "output_type": "stream",
     "text": [
      "\r",
      " 75%|███████▌  | 226/300 [00:31<00:10,  6.83it/s]"
     ]
    },
    {
     "name": "stdout",
     "output_type": "stream",
     "text": [
      "Accuracy loss: 11.89 | fairness loss 87.83 | Equal Opportunity Disparity = 0.00\n",
      " \n",
      "Avg Training Stats after 226 global rounds:\n",
      "Training loss: 0.30 | Validation accuracy: 81.67% | Validation Equal Opportunity Disparity: 0.0022\n",
      "\n",
      " | Global Training Round : 227 |\n",
      "\n"
     ]
    },
    {
     "name": "stderr",
     "output_type": "stream",
     "text": [
      "\r",
      " 76%|███████▌  | 227/300 [00:32<00:12,  5.65it/s]"
     ]
    },
    {
     "name": "stdout",
     "output_type": "stream",
     "text": [
      "Accuracy loss: 11.85 | fairness loss 88.45 | Equal Opportunity Disparity = 0.00\n",
      " \n",
      "Avg Training Stats after 227 global rounds:\n",
      "Training loss: 0.30 | Validation accuracy: 81.33% | Validation Equal Opportunity Disparity: 0.0022\n",
      "\n",
      " | Global Training Round : 228 |\n",
      "\n"
     ]
    },
    {
     "name": "stderr",
     "output_type": "stream",
     "text": [
      "\r",
      " 76%|███████▌  | 228/300 [00:32<00:16,  4.46it/s]"
     ]
    },
    {
     "name": "stdout",
     "output_type": "stream",
     "text": [
      "Accuracy loss: 11.82 | fairness loss 88.90 | Equal Opportunity Disparity = 0.00\n",
      " \n",
      "Avg Training Stats after 228 global rounds:\n",
      "Training loss: 0.29 | Validation accuracy: 81.67% | Validation Equal Opportunity Disparity: 0.0022\n",
      "\n",
      " | Global Training Round : 229 |\n",
      "\n"
     ]
    },
    {
     "name": "stderr",
     "output_type": "stream",
     "text": [
      "\r",
      " 76%|███████▋  | 229/300 [00:32<00:18,  3.81it/s]"
     ]
    },
    {
     "name": "stdout",
     "output_type": "stream",
     "text": [
      "Accuracy loss: 11.80 | fairness loss 89.12 | Equal Opportunity Disparity = 0.00\n",
      " \n",
      "Avg Training Stats after 229 global rounds:\n",
      "Training loss: 0.30 | Validation accuracy: 81.67% | Validation Equal Opportunity Disparity: 0.0022\n",
      "\n",
      " | Global Training Round : 230 |\n",
      "\n"
     ]
    },
    {
     "name": "stderr",
     "output_type": "stream",
     "text": [
      "\r",
      " 77%|███████▋  | 230/300 [00:33<00:28,  2.46it/s]"
     ]
    },
    {
     "name": "stdout",
     "output_type": "stream",
     "text": [
      "Accuracy loss: 11.75 | fairness loss 90.02 | Equal Opportunity Disparity = 0.00\n",
      " \n",
      "Avg Training Stats after 230 global rounds:\n",
      "Training loss: 0.30 | Validation accuracy: 81.67% | Validation Equal Opportunity Disparity: 0.0022\n",
      "\n",
      " | Global Training Round : 231 |\n",
      "\n"
     ]
    },
    {
     "name": "stderr",
     "output_type": "stream",
     "text": [
      "\r",
      " 77%|███████▋  | 231/300 [00:34<00:41,  1.68it/s]"
     ]
    },
    {
     "name": "stdout",
     "output_type": "stream",
     "text": [
      "Accuracy loss: 11.75 | fairness loss 90.00 | Equal Opportunity Disparity = 0.00\n",
      " \n",
      "Avg Training Stats after 231 global rounds:\n",
      "Training loss: 0.31 | Validation accuracy: 81.67% | Validation Equal Opportunity Disparity: 0.0022\n",
      "\n",
      " | Global Training Round : 232 |\n",
      "\n"
     ]
    },
    {
     "name": "stderr",
     "output_type": "stream",
     "text": [
      "\r",
      " 77%|███████▋  | 232/300 [00:34<00:36,  1.87it/s]"
     ]
    },
    {
     "name": "stdout",
     "output_type": "stream",
     "text": [
      "Accuracy loss: 11.80 | fairness loss 89.00 | Equal Opportunity Disparity = 0.00\n",
      " \n",
      "Avg Training Stats after 232 global rounds:\n",
      "Training loss: 0.31 | Validation accuracy: 82.00% | Validation Equal Opportunity Disparity: 0.0022\n",
      "\n",
      " | Global Training Round : 233 |\n",
      "\n"
     ]
    },
    {
     "name": "stderr",
     "output_type": "stream",
     "text": [
      "\r",
      " 78%|███████▊  | 233/300 [00:35<00:31,  2.12it/s]"
     ]
    },
    {
     "name": "stdout",
     "output_type": "stream",
     "text": [
      "Accuracy loss: 11.74 | fairness loss 89.58 | Equal Opportunity Disparity = 0.00\n",
      " \n",
      "Avg Training Stats after 233 global rounds:\n",
      "Training loss: 0.30 | Validation accuracy: 81.67% | Validation Equal Opportunity Disparity: 0.0022\n",
      "\n",
      " | Global Training Round : 234 |\n",
      "\n"
     ]
    },
    {
     "name": "stderr",
     "output_type": "stream",
     "text": [
      "\r",
      " 78%|███████▊  | 234/300 [00:35<00:30,  2.14it/s]"
     ]
    },
    {
     "name": "stdout",
     "output_type": "stream",
     "text": [
      "Accuracy loss: 11.69 | fairness loss 90.40 | Equal Opportunity Disparity = 0.00\n",
      " \n",
      "Avg Training Stats after 234 global rounds:\n",
      "Training loss: 0.32 | Validation accuracy: 81.67% | Validation Equal Opportunity Disparity: 0.0022\n",
      "\n",
      " | Global Training Round : 235 |\n",
      "\n"
     ]
    },
    {
     "name": "stderr",
     "output_type": "stream",
     "text": [
      "\r",
      " 78%|███████▊  | 235/300 [00:36<00:31,  2.07it/s]"
     ]
    },
    {
     "name": "stdout",
     "output_type": "stream",
     "text": [
      "Accuracy loss: 11.74 | fairness loss 89.31 | Equal Opportunity Disparity = 0.00\n",
      " \n",
      "Avg Training Stats after 235 global rounds:\n",
      "Training loss: 0.32 | Validation accuracy: 81.33% | Validation Equal Opportunity Disparity: 0.0022\n",
      "\n",
      " | Global Training Round : 236 |\n",
      "\n"
     ]
    },
    {
     "name": "stderr",
     "output_type": "stream",
     "text": [
      "\r",
      " 79%|███████▊  | 236/300 [00:36<00:30,  2.13it/s]"
     ]
    },
    {
     "name": "stdout",
     "output_type": "stream",
     "text": [
      "Accuracy loss: 11.80 | fairness loss 87.69 | Equal Opportunity Disparity = 0.00\n",
      " \n",
      "Avg Training Stats after 236 global rounds:\n",
      "Training loss: 0.29 | Validation accuracy: 81.67% | Validation Equal Opportunity Disparity: 0.0022\n",
      "\n",
      " | Global Training Round : 237 |\n",
      "\n"
     ]
    },
    {
     "name": "stderr",
     "output_type": "stream",
     "text": [
      "\r",
      " 79%|███████▉  | 237/300 [00:37<00:28,  2.22it/s]"
     ]
    },
    {
     "name": "stdout",
     "output_type": "stream",
     "text": [
      "Accuracy loss: 11.80 | fairness loss 88.08 | Equal Opportunity Disparity = 0.00\n",
      " \n",
      "Avg Training Stats after 237 global rounds:\n",
      "Training loss: 0.30 | Validation accuracy: 81.33% | Validation Equal Opportunity Disparity: 0.0022\n",
      "\n",
      " | Global Training Round : 238 |\n",
      "\n"
     ]
    },
    {
     "name": "stderr",
     "output_type": "stream",
     "text": [
      "\r",
      " 79%|███████▉  | 238/300 [00:37<00:26,  2.36it/s]"
     ]
    },
    {
     "name": "stdout",
     "output_type": "stream",
     "text": [
      "Accuracy loss: 11.83 | fairness loss 87.79 | Equal Opportunity Disparity = 0.00\n",
      " \n",
      "Avg Training Stats after 238 global rounds:\n",
      "Training loss: 0.32 | Validation accuracy: 81.67% | Validation Equal Opportunity Disparity: 0.0022\n",
      "\n",
      " | Global Training Round : 239 |\n",
      "\n"
     ]
    },
    {
     "name": "stderr",
     "output_type": "stream",
     "text": [
      "\r",
      " 80%|███████▉  | 239/300 [00:38<00:28,  2.10it/s]"
     ]
    },
    {
     "name": "stdout",
     "output_type": "stream",
     "text": [
      "Accuracy loss: 11.87 | fairness loss 86.91 | Equal Opportunity Disparity = 0.00\n",
      " \n",
      "Avg Training Stats after 239 global rounds:\n",
      "Training loss: 0.30 | Validation accuracy: 81.67% | Validation Equal Opportunity Disparity: 0.0022\n",
      "\n",
      " | Global Training Round : 240 |\n",
      "\n"
     ]
    },
    {
     "name": "stderr",
     "output_type": "stream",
     "text": [
      "\r",
      " 80%|████████  | 240/300 [00:38<00:27,  2.17it/s]"
     ]
    },
    {
     "name": "stdout",
     "output_type": "stream",
     "text": [
      "Accuracy loss: 11.82 | fairness loss 87.61 | Equal Opportunity Disparity = 0.00\n",
      " \n",
      "Avg Training Stats after 240 global rounds:\n",
      "Training loss: 0.30 | Validation accuracy: 81.33% | Validation Equal Opportunity Disparity: 0.0022\n",
      "\n",
      " | Global Training Round : 241 |\n",
      "\n"
     ]
    },
    {
     "name": "stderr",
     "output_type": "stream",
     "text": [
      "\r",
      " 80%|████████  | 241/300 [00:38<00:26,  2.22it/s]"
     ]
    },
    {
     "name": "stdout",
     "output_type": "stream",
     "text": [
      "Accuracy loss: 11.79 | fairness loss 88.54 | Equal Opportunity Disparity = 0.00\n",
      " \n",
      "Avg Training Stats after 241 global rounds:\n",
      "Training loss: 0.30 | Validation accuracy: 82.00% | Validation Equal Opportunity Disparity: 0.0022\n",
      "\n",
      " | Global Training Round : 242 |\n",
      "\n"
     ]
    },
    {
     "name": "stderr",
     "output_type": "stream",
     "text": [
      "\r",
      " 81%|████████  | 242/300 [00:39<00:28,  2.01it/s]"
     ]
    },
    {
     "name": "stdout",
     "output_type": "stream",
     "text": [
      "Accuracy loss: 11.77 | fairness loss 88.82 | Equal Opportunity Disparity = 0.00\n",
      " \n",
      "Avg Training Stats after 242 global rounds:\n",
      "Training loss: 0.31 | Validation accuracy: 81.67% | Validation Equal Opportunity Disparity: 0.0022\n",
      "\n",
      " | Global Training Round : 243 |\n",
      "\n"
     ]
    },
    {
     "name": "stderr",
     "output_type": "stream",
     "text": [
      " 81%|████████▏ | 244/300 [00:40<00:22,  2.45it/s]"
     ]
    },
    {
     "name": "stdout",
     "output_type": "stream",
     "text": [
      "Accuracy loss: 11.71 | fairness loss 89.26 | Equal Opportunity Disparity = 0.00\n",
      " \n",
      "Avg Training Stats after 243 global rounds:\n",
      "Training loss: 0.30 | Validation accuracy: 81.67% | Validation Equal Opportunity Disparity: 0.0022\n",
      "\n",
      " | Global Training Round : 244 |\n",
      "\n",
      "Accuracy loss: 11.71 | fairness loss 89.47 | Equal Opportunity Disparity = 0.00\n",
      " \n",
      "Avg Training Stats after 244 global rounds:\n",
      "Training loss: 0.29 | Validation accuracy: 81.67% | Validation Equal Opportunity Disparity: 0.0022\n",
      "\n",
      " | Global Training Round : 245 |\n",
      "\n"
     ]
    },
    {
     "name": "stderr",
     "output_type": "stream",
     "text": [
      "\r",
      " 82%|████████▏ | 245/300 [00:40<00:19,  2.82it/s]"
     ]
    },
    {
     "name": "stdout",
     "output_type": "stream",
     "text": [
      "Accuracy loss: 11.69 | fairness loss 90.10 | Equal Opportunity Disparity = 0.00\n",
      " \n",
      "Avg Training Stats after 245 global rounds:\n",
      "Training loss: 0.30 | Validation accuracy: 82.00% | Validation Equal Opportunity Disparity: 0.0022\n",
      "\n",
      " | Global Training Round : 246 |\n",
      "\n"
     ]
    },
    {
     "name": "stderr",
     "output_type": "stream",
     "text": [
      "\r",
      " 82%|████████▏ | 246/300 [00:40<00:16,  3.20it/s]"
     ]
    },
    {
     "name": "stdout",
     "output_type": "stream",
     "text": [
      "Accuracy loss: 11.62 | fairness loss 91.50 | Equal Opportunity Disparity = 0.00\n",
      " \n",
      "Avg Training Stats after 246 global rounds:\n",
      "Training loss: 0.31 | Validation accuracy: 82.33% | Validation Equal Opportunity Disparity: 0.0022\n",
      "\n",
      " | Global Training Round : 247 |\n",
      "\n"
     ]
    },
    {
     "name": "stderr",
     "output_type": "stream",
     "text": [
      "\r",
      " 82%|████████▏ | 247/300 [00:40<00:14,  3.57it/s]"
     ]
    },
    {
     "name": "stdout",
     "output_type": "stream",
     "text": [
      "Accuracy loss: 11.63 | fairness loss 91.41 | Equal Opportunity Disparity = 0.00\n",
      " \n",
      "Avg Training Stats after 247 global rounds:\n",
      "Training loss: 0.30 | Validation accuracy: 82.33% | Validation Equal Opportunity Disparity: 0.0022\n",
      "\n",
      " | Global Training Round : 248 |\n",
      "\n"
     ]
    },
    {
     "name": "stderr",
     "output_type": "stream",
     "text": [
      "\r",
      " 83%|████████▎ | 248/300 [00:41<00:13,  3.85it/s]"
     ]
    },
    {
     "name": "stdout",
     "output_type": "stream",
     "text": [
      "Accuracy loss: 11.63 | fairness loss 91.31 | Equal Opportunity Disparity = 0.00\n",
      " \n",
      "Avg Training Stats after 248 global rounds:\n",
      "Training loss: 0.31 | Validation accuracy: 82.33% | Validation Equal Opportunity Disparity: 0.0022\n",
      "\n",
      " | Global Training Round : 249 |\n",
      "\n"
     ]
    },
    {
     "name": "stderr",
     "output_type": "stream",
     "text": [
      " 83%|████████▎ | 250/300 [00:41<00:11,  4.48it/s]"
     ]
    },
    {
     "name": "stdout",
     "output_type": "stream",
     "text": [
      "Accuracy loss: 11.66 | fairness loss 90.19 | Equal Opportunity Disparity = 0.00\n",
      " \n",
      "Avg Training Stats after 249 global rounds:\n",
      "Training loss: 0.30 | Validation accuracy: 82.00% | Validation Equal Opportunity Disparity: 0.0022\n",
      "\n",
      " | Global Training Round : 250 |\n",
      "\n",
      "Accuracy loss: 11.63 | fairness loss 90.80 | Equal Opportunity Disparity = 0.00\n",
      " \n",
      "Avg Training Stats after 250 global rounds:\n",
      "Training loss: 0.31 | Validation accuracy: 82.00% | Validation Equal Opportunity Disparity: 0.0022\n",
      "\n",
      " | Global Training Round : 251 |\n",
      "\n"
     ]
    },
    {
     "name": "stderr",
     "output_type": "stream",
     "text": [
      " 84%|████████▍ | 252/300 [00:41<00:10,  4.73it/s]"
     ]
    },
    {
     "name": "stdout",
     "output_type": "stream",
     "text": [
      "Accuracy loss: 11.62 | fairness loss 90.44 | Equal Opportunity Disparity = 0.01\n",
      " \n",
      "Avg Training Stats after 251 global rounds:\n",
      "Training loss: 0.31 | Validation accuracy: 82.00% | Validation Equal Opportunity Disparity: 0.0075\n",
      "\n",
      " | Global Training Round : 252 |\n",
      "\n",
      "Accuracy loss: 11.63 | fairness loss 90.54 | Equal Opportunity Disparity = 0.00\n",
      " \n",
      "Avg Training Stats after 252 global rounds:\n",
      "Training loss: 0.31 | Validation accuracy: 82.33% | Validation Equal Opportunity Disparity: 0.0022\n",
      "\n",
      " | Global Training Round : 253 |\n",
      "\n"
     ]
    },
    {
     "name": "stderr",
     "output_type": "stream",
     "text": [
      " 85%|████████▍ | 254/300 [00:42<00:08,  5.58it/s]"
     ]
    },
    {
     "name": "stdout",
     "output_type": "stream",
     "text": [
      "Accuracy loss: 11.67 | fairness loss 89.73 | Equal Opportunity Disparity = 0.01\n",
      " \n",
      "Avg Training Stats after 253 global rounds:\n",
      "Training loss: 0.30 | Validation accuracy: 82.33% | Validation Equal Opportunity Disparity: 0.0075\n",
      "\n",
      " | Global Training Round : 254 |\n",
      "\n",
      "Accuracy loss: 11.65 | fairness loss 89.48 | Equal Opportunity Disparity = 0.00\n",
      " \n",
      "Avg Training Stats after 254 global rounds:\n",
      "Training loss: 0.31 | Validation accuracy: 82.00% | Validation Equal Opportunity Disparity: 0.0022\n",
      "\n",
      " | Global Training Round : 255 |\n",
      "\n"
     ]
    },
    {
     "name": "stderr",
     "output_type": "stream",
     "text": [
      " 85%|████████▌ | 256/300 [00:42<00:06,  6.54it/s]"
     ]
    },
    {
     "name": "stdout",
     "output_type": "stream",
     "text": [
      "Accuracy loss: 11.73 | fairness loss 88.26 | Equal Opportunity Disparity = 0.00\n",
      " \n",
      "Avg Training Stats after 255 global rounds:\n",
      "Training loss: 0.31 | Validation accuracy: 81.67% | Validation Equal Opportunity Disparity: 0.0022\n",
      "\n",
      " | Global Training Round : 256 |\n",
      "\n",
      "Accuracy loss: 11.68 | fairness loss 89.30 | Equal Opportunity Disparity = 0.00\n",
      " \n",
      "Avg Training Stats after 256 global rounds:\n",
      "Training loss: 0.31 | Validation accuracy: 82.00% | Validation Equal Opportunity Disparity: 0.0022\n",
      "\n",
      " | Global Training Round : 257 |\n",
      "\n"
     ]
    },
    {
     "name": "stderr",
     "output_type": "stream",
     "text": [
      " 86%|████████▌ | 258/300 [00:42<00:06,  6.81it/s]"
     ]
    },
    {
     "name": "stdout",
     "output_type": "stream",
     "text": [
      "Accuracy loss: 11.69 | fairness loss 88.97 | Equal Opportunity Disparity = 0.00\n",
      " \n",
      "Avg Training Stats after 257 global rounds:\n",
      "Training loss: 0.30 | Validation accuracy: 81.67% | Validation Equal Opportunity Disparity: 0.0022\n",
      "\n",
      " | Global Training Round : 258 |\n",
      "\n",
      "Accuracy loss: 11.67 | fairness loss 89.53 | Equal Opportunity Disparity = 0.00\n",
      " \n",
      "Avg Training Stats after 258 global rounds:\n",
      "Training loss: 0.30 | Validation accuracy: 81.67% | Validation Equal Opportunity Disparity: 0.0022\n",
      "\n",
      " | Global Training Round : 259 |\n",
      "\n"
     ]
    },
    {
     "name": "stderr",
     "output_type": "stream",
     "text": [
      "\r",
      " 86%|████████▋ | 259/300 [00:42<00:06,  6.35it/s]"
     ]
    },
    {
     "name": "stdout",
     "output_type": "stream",
     "text": [
      "Accuracy loss: 11.63 | fairness loss 90.35 | Equal Opportunity Disparity = 0.00\n",
      " \n",
      "Avg Training Stats after 259 global rounds:\n",
      "Training loss: 0.30 | Validation accuracy: 82.00% | Validation Equal Opportunity Disparity: 0.0022\n",
      "\n",
      " | Global Training Round : 260 |\n",
      "\n"
     ]
    },
    {
     "name": "stderr",
     "output_type": "stream",
     "text": [
      " 87%|████████▋ | 261/300 [00:43<00:06,  5.83it/s]"
     ]
    },
    {
     "name": "stdout",
     "output_type": "stream",
     "text": [
      "Accuracy loss: 11.59 | fairness loss 90.91 | Equal Opportunity Disparity = 0.00\n",
      " \n",
      "Avg Training Stats after 260 global rounds:\n",
      "Training loss: 0.31 | Validation accuracy: 82.33% | Validation Equal Opportunity Disparity: 0.0022\n",
      "\n",
      " | Global Training Round : 261 |\n",
      "\n",
      "Accuracy loss: 11.60 | fairness loss 90.72 | Equal Opportunity Disparity = 0.00\n",
      " \n",
      "Avg Training Stats after 261 global rounds:\n",
      "Training loss: 0.31 | Validation accuracy: 82.00% | Validation Equal Opportunity Disparity: 0.0022\n",
      "\n",
      " | Global Training Round : 262 |\n",
      "\n"
     ]
    },
    {
     "name": "stderr",
     "output_type": "stream",
     "text": [
      " 88%|████████▊ | 263/300 [00:43<00:05,  6.79it/s]"
     ]
    },
    {
     "name": "stdout",
     "output_type": "stream",
     "text": [
      "Accuracy loss: 11.65 | fairness loss 89.74 | Equal Opportunity Disparity = 0.00\n",
      " \n",
      "Avg Training Stats after 262 global rounds:\n",
      "Training loss: 0.30 | Validation accuracy: 82.00% | Validation Equal Opportunity Disparity: 0.0022\n",
      "\n",
      " | Global Training Round : 263 |\n",
      "\n",
      "Accuracy loss: 11.62 | fairness loss 90.49 | Equal Opportunity Disparity = 0.00\n",
      " \n",
      "Avg Training Stats after 263 global rounds:\n",
      "Training loss: 0.31 | Validation accuracy: 82.33% | Validation Equal Opportunity Disparity: 0.0022\n",
      "\n",
      " | Global Training Round : 264 |\n",
      "\n"
     ]
    },
    {
     "name": "stderr",
     "output_type": "stream",
     "text": [
      " 88%|████████▊ | 265/300 [00:43<00:04,  7.38it/s]"
     ]
    },
    {
     "name": "stdout",
     "output_type": "stream",
     "text": [
      "Accuracy loss: 11.65 | fairness loss 89.62 | Equal Opportunity Disparity = 0.01\n",
      " \n",
      "Avg Training Stats after 264 global rounds:\n",
      "Training loss: 0.30 | Validation accuracy: 82.33% | Validation Equal Opportunity Disparity: 0.0075\n",
      "\n",
      " | Global Training Round : 265 |\n",
      "\n",
      "Accuracy loss: 11.63 | fairness loss 90.22 | Equal Opportunity Disparity = 0.01\n",
      " \n",
      "Avg Training Stats after 265 global rounds:\n",
      "Training loss: 0.31 | Validation accuracy: 82.33% | Validation Equal Opportunity Disparity: 0.0075\n",
      "\n",
      " | Global Training Round : 266 |\n",
      "\n"
     ]
    },
    {
     "name": "stderr",
     "output_type": "stream",
     "text": [
      " 89%|████████▉ | 267/300 [00:44<00:04,  7.84it/s]"
     ]
    },
    {
     "name": "stdout",
     "output_type": "stream",
     "text": [
      "Accuracy loss: 11.65 | fairness loss 89.15 | Equal Opportunity Disparity = 0.01\n",
      " \n",
      "Avg Training Stats after 266 global rounds:\n",
      "Training loss: 0.30 | Validation accuracy: 81.67% | Validation Equal Opportunity Disparity: 0.0075\n",
      "\n",
      " | Global Training Round : 267 |\n",
      "\n",
      "Accuracy loss: 11.58 | fairness loss 90.86 | Equal Opportunity Disparity = 0.00\n",
      " \n",
      "Avg Training Stats after 267 global rounds:\n",
      "Training loss: 0.30 | Validation accuracy: 82.67% | Validation Equal Opportunity Disparity: 0.0022\n",
      "\n",
      " | Global Training Round : 268 |\n",
      "\n"
     ]
    },
    {
     "name": "stderr",
     "output_type": "stream",
     "text": [
      " 90%|████████▉ | 269/300 [00:44<00:03,  8.12it/s]"
     ]
    },
    {
     "name": "stdout",
     "output_type": "stream",
     "text": [
      "Accuracy loss: 11.55 | fairness loss 91.58 | Equal Opportunity Disparity = 0.00\n",
      " \n",
      "Avg Training Stats after 268 global rounds:\n",
      "Training loss: 0.30 | Validation accuracy: 82.67% | Validation Equal Opportunity Disparity: 0.0022\n",
      "\n",
      " | Global Training Round : 269 |\n",
      "\n",
      "Accuracy loss: 11.57 | fairness loss 91.48 | Equal Opportunity Disparity = 0.01\n",
      " \n",
      "Avg Training Stats after 269 global rounds:\n",
      "Training loss: 0.32 | Validation accuracy: 82.67% | Validation Equal Opportunity Disparity: 0.0075\n",
      "\n",
      " | Global Training Round : 270 |\n",
      "\n"
     ]
    },
    {
     "name": "stderr",
     "output_type": "stream",
     "text": [
      " 90%|█████████ | 271/300 [00:44<00:03,  8.22it/s]"
     ]
    },
    {
     "name": "stdout",
     "output_type": "stream",
     "text": [
      "Accuracy loss: 11.60 | fairness loss 90.90 | Equal Opportunity Disparity = 0.00\n",
      " \n",
      "Avg Training Stats after 270 global rounds:\n",
      "Training loss: 0.30 | Validation accuracy: 82.33% | Validation Equal Opportunity Disparity: 0.0022\n",
      "\n",
      " | Global Training Round : 271 |\n",
      "\n",
      "Accuracy loss: 11.62 | fairness loss 90.26 | Equal Opportunity Disparity = 0.01\n",
      " \n",
      "Avg Training Stats after 271 global rounds:\n",
      "Training loss: 0.30 | Validation accuracy: 82.33% | Validation Equal Opportunity Disparity: 0.0075\n",
      "\n",
      " | Global Training Round : 272 |\n",
      "\n"
     ]
    },
    {
     "name": "stderr",
     "output_type": "stream",
     "text": [
      " 91%|█████████ | 273/300 [00:44<00:03,  8.28it/s]"
     ]
    },
    {
     "name": "stdout",
     "output_type": "stream",
     "text": [
      "Accuracy loss: 11.56 | fairness loss 91.65 | Equal Opportunity Disparity = 0.00\n",
      " \n",
      "Avg Training Stats after 272 global rounds:\n",
      "Training loss: 0.30 | Validation accuracy: 82.67% | Validation Equal Opportunity Disparity: 0.0022\n",
      "\n",
      " | Global Training Round : 273 |\n",
      "\n",
      "Accuracy loss: 11.50 | fairness loss 92.79 | Equal Opportunity Disparity = 0.00\n",
      " \n",
      "Avg Training Stats after 273 global rounds:\n",
      "Training loss: 0.30 | Validation accuracy: 82.67% | Validation Equal Opportunity Disparity: 0.0022\n",
      "\n",
      " | Global Training Round : 274 |\n",
      "\n"
     ]
    },
    {
     "name": "stderr",
     "output_type": "stream",
     "text": [
      " 92%|█████████▏| 275/300 [00:45<00:03,  8.31it/s]"
     ]
    },
    {
     "name": "stdout",
     "output_type": "stream",
     "text": [
      "Accuracy loss: 11.50 | fairness loss 92.65 | Equal Opportunity Disparity = 0.00\n",
      " \n",
      "Avg Training Stats after 274 global rounds:\n",
      "Training loss: 0.31 | Validation accuracy: 82.67% | Validation Equal Opportunity Disparity: 0.0022\n",
      "\n",
      " | Global Training Round : 275 |\n",
      "\n",
      "Accuracy loss: 11.55 | fairness loss 91.90 | Equal Opportunity Disparity = 0.00\n",
      " \n",
      "Avg Training Stats after 275 global rounds:\n",
      "Training loss: 0.30 | Validation accuracy: 82.67% | Validation Equal Opportunity Disparity: 0.0022\n",
      "\n",
      " | Global Training Round : 276 |\n",
      "\n"
     ]
    },
    {
     "name": "stderr",
     "output_type": "stream",
     "text": [
      " 92%|█████████▏| 277/300 [00:45<00:03,  7.64it/s]"
     ]
    },
    {
     "name": "stdout",
     "output_type": "stream",
     "text": [
      "Accuracy loss: 11.51 | fairness loss 92.89 | Equal Opportunity Disparity = 0.00\n",
      " \n",
      "Avg Training Stats after 276 global rounds:\n",
      "Training loss: 0.30 | Validation accuracy: 82.67% | Validation Equal Opportunity Disparity: 0.0022\n",
      "\n",
      " | Global Training Round : 277 |\n",
      "\n",
      "Accuracy loss: 11.46 | fairness loss 93.90 | Equal Opportunity Disparity = 0.00\n",
      " \n",
      "Avg Training Stats after 277 global rounds:\n",
      "Training loss: 0.30 | Validation accuracy: 82.33% | Validation Equal Opportunity Disparity: 0.0022\n",
      "\n",
      " | Global Training Round : 278 |\n",
      "\n"
     ]
    },
    {
     "name": "stderr",
     "output_type": "stream",
     "text": [
      " 93%|█████████▎| 279/300 [00:45<00:02,  7.80it/s]"
     ]
    },
    {
     "name": "stdout",
     "output_type": "stream",
     "text": [
      "Accuracy loss: 11.49 | fairness loss 93.27 | Equal Opportunity Disparity = 0.00\n",
      " \n",
      "Avg Training Stats after 278 global rounds:\n",
      "Training loss: 0.30 | Validation accuracy: 82.67% | Validation Equal Opportunity Disparity: 0.0022\n",
      "\n",
      " | Global Training Round : 279 |\n",
      "\n",
      "Accuracy loss: 11.47 | fairness loss 93.51 | Equal Opportunity Disparity = 0.00\n",
      " \n",
      "Avg Training Stats after 279 global rounds:\n",
      "Training loss: 0.30 | Validation accuracy: 82.67% | Validation Equal Opportunity Disparity: 0.0022\n",
      "\n",
      " | Global Training Round : 280 |\n",
      "\n"
     ]
    },
    {
     "name": "stderr",
     "output_type": "stream",
     "text": [
      " 94%|█████████▎| 281/300 [00:45<00:02,  7.93it/s]"
     ]
    },
    {
     "name": "stdout",
     "output_type": "stream",
     "text": [
      "Accuracy loss: 11.46 | fairness loss 93.80 | Equal Opportunity Disparity = 0.00\n",
      " \n",
      "Avg Training Stats after 280 global rounds:\n",
      "Training loss: 0.31 | Validation accuracy: 82.67% | Validation Equal Opportunity Disparity: 0.0022\n",
      "\n",
      " | Global Training Round : 281 |\n",
      "\n",
      "Accuracy loss: 11.49 | fairness loss 93.33 | Equal Opportunity Disparity = 0.00\n",
      " \n",
      "Avg Training Stats after 281 global rounds:\n",
      "Training loss: 0.30 | Validation accuracy: 83.33% | Validation Equal Opportunity Disparity: 0.0022\n",
      "\n",
      " | Global Training Round : 282 |\n",
      "\n"
     ]
    },
    {
     "name": "stderr",
     "output_type": "stream",
     "text": [
      " 94%|█████████▍| 283/300 [00:46<00:02,  8.08it/s]"
     ]
    },
    {
     "name": "stdout",
     "output_type": "stream",
     "text": [
      "Accuracy loss: 11.54 | fairness loss 92.25 | Equal Opportunity Disparity = 0.00\n",
      " \n",
      "Avg Training Stats after 282 global rounds:\n",
      "Training loss: 0.30 | Validation accuracy: 83.33% | Validation Equal Opportunity Disparity: 0.0022\n",
      "\n",
      " | Global Training Round : 283 |\n",
      "\n",
      "Accuracy loss: 11.51 | fairness loss 92.73 | Equal Opportunity Disparity = 0.00\n",
      " \n",
      "Avg Training Stats after 283 global rounds:\n",
      "Training loss: 0.30 | Validation accuracy: 82.67% | Validation Equal Opportunity Disparity: 0.0022\n",
      "\n",
      " | Global Training Round : 284 |\n",
      "\n"
     ]
    },
    {
     "name": "stderr",
     "output_type": "stream",
     "text": [
      " 95%|█████████▌| 285/300 [00:46<00:01,  8.22it/s]"
     ]
    },
    {
     "name": "stdout",
     "output_type": "stream",
     "text": [
      "Accuracy loss: 11.48 | fairness loss 93.20 | Equal Opportunity Disparity = 0.00\n",
      " \n",
      "Avg Training Stats after 284 global rounds:\n",
      "Training loss: 0.31 | Validation accuracy: 82.67% | Validation Equal Opportunity Disparity: 0.0022\n",
      "\n",
      " | Global Training Round : 285 |\n",
      "\n",
      "Accuracy loss: 11.49 | fairness loss 92.40 | Equal Opportunity Disparity = 0.00\n",
      " \n",
      "Avg Training Stats after 285 global rounds:\n",
      "Training loss: 0.30 | Validation accuracy: 82.67% | Validation Equal Opportunity Disparity: 0.0022\n",
      "\n",
      " | Global Training Round : 286 |\n",
      "\n"
     ]
    },
    {
     "name": "stderr",
     "output_type": "stream",
     "text": [
      " 96%|█████████▌| 287/300 [00:46<00:01,  8.29it/s]"
     ]
    },
    {
     "name": "stdout",
     "output_type": "stream",
     "text": [
      "Accuracy loss: 11.43 | fairness loss 94.09 | Equal Opportunity Disparity = 0.00\n",
      " \n",
      "Avg Training Stats after 286 global rounds:\n",
      "Training loss: 0.30 | Validation accuracy: 82.67% | Validation Equal Opportunity Disparity: 0.0022\n",
      "\n",
      " | Global Training Round : 287 |\n",
      "\n",
      "Accuracy loss: 11.50 | fairness loss 92.50 | Equal Opportunity Disparity = 0.00\n",
      " \n",
      "Avg Training Stats after 287 global rounds:\n",
      "Training loss: 0.30 | Validation accuracy: 82.67% | Validation Equal Opportunity Disparity: 0.0022\n",
      "\n",
      " | Global Training Round : 288 |\n",
      "\n"
     ]
    },
    {
     "name": "stderr",
     "output_type": "stream",
     "text": [
      " 96%|█████████▋| 289/300 [00:46<00:01,  8.32it/s]"
     ]
    },
    {
     "name": "stdout",
     "output_type": "stream",
     "text": [
      "Accuracy loss: 11.52 | fairness loss 92.31 | Equal Opportunity Disparity = 0.00\n",
      " \n",
      "Avg Training Stats after 288 global rounds:\n",
      "Training loss: 0.29 | Validation accuracy: 82.67% | Validation Equal Opportunity Disparity: 0.0022\n",
      "\n",
      " | Global Training Round : 289 |\n",
      "\n",
      "Accuracy loss: 11.49 | fairness loss 92.95 | Equal Opportunity Disparity = 0.00\n",
      " \n",
      "Avg Training Stats after 289 global rounds:\n",
      "Training loss: 0.30 | Validation accuracy: 82.67% | Validation Equal Opportunity Disparity: 0.0022\n",
      "\n",
      " | Global Training Round : 290 |\n",
      "\n"
     ]
    },
    {
     "name": "stderr",
     "output_type": "stream",
     "text": [
      "\r",
      " 97%|█████████▋| 290/300 [00:46<00:01,  8.12it/s]"
     ]
    },
    {
     "name": "stdout",
     "output_type": "stream",
     "text": [
      "Accuracy loss: 11.52 | fairness loss 92.42 | Equal Opportunity Disparity = 0.00\n",
      " \n",
      "Avg Training Stats after 290 global rounds:\n",
      "Training loss: 0.30 | Validation accuracy: 82.67% | Validation Equal Opportunity Disparity: 0.0022\n",
      "\n",
      " | Global Training Round : 291 |\n",
      "\n"
     ]
    },
    {
     "name": "stderr",
     "output_type": "stream",
     "text": [
      " 97%|█████████▋| 292/300 [00:47<00:01,  6.58it/s]"
     ]
    },
    {
     "name": "stdout",
     "output_type": "stream",
     "text": [
      "Accuracy loss: 11.54 | fairness loss 91.80 | Equal Opportunity Disparity = 0.00\n",
      " \n",
      "Avg Training Stats after 291 global rounds:\n",
      "Training loss: 0.30 | Validation accuracy: 82.67% | Validation Equal Opportunity Disparity: 0.0022\n",
      "\n",
      " | Global Training Round : 292 |\n",
      "\n",
      "Accuracy loss: 11.56 | fairness loss 91.38 | Equal Opportunity Disparity = 0.00\n",
      " \n",
      "Avg Training Stats after 292 global rounds:\n",
      "Training loss: 0.30 | Validation accuracy: 82.67% | Validation Equal Opportunity Disparity: 0.0022\n",
      "\n",
      " | Global Training Round : 293 |\n",
      "\n"
     ]
    },
    {
     "name": "stderr",
     "output_type": "stream",
     "text": [
      " 98%|█████████▊| 294/300 [00:47<00:00,  7.26it/s]"
     ]
    },
    {
     "name": "stdout",
     "output_type": "stream",
     "text": [
      "Accuracy loss: 11.55 | fairness loss 91.33 | Equal Opportunity Disparity = 0.00\n",
      " \n",
      "Avg Training Stats after 293 global rounds:\n",
      "Training loss: 0.31 | Validation accuracy: 82.67% | Validation Equal Opportunity Disparity: 0.0022\n",
      "\n",
      " | Global Training Round : 294 |\n",
      "\n",
      "Accuracy loss: 11.61 | fairness loss 90.47 | Equal Opportunity Disparity = 0.00\n",
      " \n",
      "Avg Training Stats after 294 global rounds:\n",
      "Training loss: 0.31 | Validation accuracy: 82.00% | Validation Equal Opportunity Disparity: 0.0022\n",
      "\n",
      " | Global Training Round : 295 |\n",
      "\n"
     ]
    },
    {
     "name": "stderr",
     "output_type": "stream",
     "text": [
      " 99%|█████████▊| 296/300 [00:47<00:00,  7.54it/s]"
     ]
    },
    {
     "name": "stdout",
     "output_type": "stream",
     "text": [
      "Accuracy loss: 11.73 | fairness loss 88.11 | Equal Opportunity Disparity = 0.00\n",
      " \n",
      "Avg Training Stats after 295 global rounds:\n",
      "Training loss: 0.31 | Validation accuracy: 81.00% | Validation Equal Opportunity Disparity: 0.0022\n",
      "\n",
      " | Global Training Round : 296 |\n",
      "\n",
      "Accuracy loss: 11.73 | fairness loss 87.71 | Equal Opportunity Disparity = 0.00\n",
      " \n",
      "Avg Training Stats after 296 global rounds:\n",
      "Training loss: 0.30 | Validation accuracy: 81.33% | Validation Equal Opportunity Disparity: 0.0022\n",
      "\n",
      " | Global Training Round : 297 |\n",
      "\n"
     ]
    },
    {
     "name": "stderr",
     "output_type": "stream",
     "text": [
      "\r",
      " 99%|█████████▉| 297/300 [00:47<00:00,  7.55it/s]"
     ]
    },
    {
     "name": "stdout",
     "output_type": "stream",
     "text": [
      "Accuracy loss: 11.69 | fairness loss 88.60 | Equal Opportunity Disparity = 0.00\n",
      " \n",
      "Avg Training Stats after 297 global rounds:\n",
      "Training loss: 0.30 | Validation accuracy: 82.00% | Validation Equal Opportunity Disparity: 0.0022\n",
      "\n",
      " | Global Training Round : 298 |\n",
      "\n"
     ]
    },
    {
     "name": "stderr",
     "output_type": "stream",
     "text": [
      "100%|█████████▉| 299/300 [00:48<00:00,  6.11it/s]"
     ]
    },
    {
     "name": "stdout",
     "output_type": "stream",
     "text": [
      "Accuracy loss: 11.59 | fairness loss 90.45 | Equal Opportunity Disparity = 0.00\n",
      " \n",
      "Avg Training Stats after 298 global rounds:\n",
      "Training loss: 0.30 | Validation accuracy: 82.33% | Validation Equal Opportunity Disparity: 0.0022\n",
      "\n",
      " | Global Training Round : 299 |\n",
      "\n",
      "Accuracy loss: 11.59 | fairness loss 90.75 | Equal Opportunity Disparity = 0.00\n",
      " \n",
      "Avg Training Stats after 299 global rounds:\n",
      "Training loss: 0.30 | Validation accuracy: 82.33% | Validation Equal Opportunity Disparity: 0.0022\n",
      "\n",
      " | Global Training Round : 300 |\n",
      "\n"
     ]
    },
    {
     "name": "stderr",
     "output_type": "stream",
     "text": [
      "100%|██████████| 300/300 [00:48<00:00,  6.19it/s]"
     ]
    },
    {
     "name": "stdout",
     "output_type": "stream",
     "text": [
      "Accuracy loss: 11.57 | fairness loss 91.10 | Equal Opportunity Disparity = 0.00\n",
      " \n",
      "Avg Training Stats after 300 global rounds:\n",
      "Training loss: 0.30 | Validation accuracy: 82.33% | Validation Equal Opportunity Disparity: 0.0022\n",
      " \n",
      " Results after 300 global rounds of training:\n",
      "|---- Avg Train Accuracy: 82.33%\n",
      "|---- Test Accuracy: 79.67%\n",
      "|---- Test Equal Opportunity Disparity: 0.0379\n",
      "\n",
      " Total Run Time: 48.5029 sec\n"
     ]
    },
    {
     "name": "stderr",
     "output_type": "stream",
     "text": [
      "\n"
     ]
    }
   ],
   "source": [
    "server = Server(logReg(num_features=3, num_classes=2, seed = seed), synthetic_info, train_prn = False, seed = seed)\n",
    "server.BiasCorrecting(num_epochs = 300, optimizer = 'adam', learning_rate = 0.001, alpha = 1)"
   ]
  },
  {
   "cell_type": "code",
   "execution_count": 7,
   "metadata": {
    "scrolled": true
   },
   "outputs": [
    {
     "name": "stderr",
     "output_type": "stream",
     "text": [
      "  1%|          | 2/300 [00:00<00:49,  5.96it/s]"
     ]
    },
    {
     "name": "stdout",
     "output_type": "stream",
     "text": [
      " \n",
      "Avg Training Stats after 1 threshold adjusting global rounds:\n",
      "Training loss: 425.17 | Train accuracy: 87.29% | Train Equal Opportunity Disparity: 0.2071\n",
      " \n",
      "Avg Training Stats after 2 threshold adjusting global rounds:\n",
      "Training loss: 427.60 | Train accuracy: 87.17% | Train Equal Opportunity Disparity: 0.1915\n"
     ]
    },
    {
     "name": "stderr",
     "output_type": "stream",
     "text": [
      "\r",
      "  1%|          | 3/300 [00:00<00:51,  5.75it/s]"
     ]
    },
    {
     "name": "stdout",
     "output_type": "stream",
     "text": [
      " \n",
      "Avg Training Stats after 3 threshold adjusting global rounds:\n",
      "Training loss: 430.76 | Train accuracy: 87.42% | Train Equal Opportunity Disparity: 0.1655\n"
     ]
    },
    {
     "name": "stderr",
     "output_type": "stream",
     "text": [
      "  2%|▏         | 5/300 [00:00<00:53,  5.50it/s]"
     ]
    },
    {
     "name": "stdout",
     "output_type": "stream",
     "text": [
      " \n",
      "Avg Training Stats after 4 threshold adjusting global rounds:\n",
      "Training loss: 434.39 | Train accuracy: 87.09% | Train Equal Opportunity Disparity: 0.1551\n",
      " \n",
      "Avg Training Stats after 5 threshold adjusting global rounds:\n",
      "Training loss: 438.34 | Train accuracy: 86.80% | Train Equal Opportunity Disparity: 0.1474\n"
     ]
    },
    {
     "name": "stderr",
     "output_type": "stream",
     "text": [
      "  2%|▏         | 7/300 [00:01<00:51,  5.69it/s]"
     ]
    },
    {
     "name": "stdout",
     "output_type": "stream",
     "text": [
      " \n",
      "Avg Training Stats after 6 threshold adjusting global rounds:\n",
      "Training loss: 442.54 | Train accuracy: 86.42% | Train Equal Opportunity Disparity: 0.1318\n",
      " \n",
      "Avg Training Stats after 7 threshold adjusting global rounds:\n",
      "Training loss: 446.94 | Train accuracy: 85.89% | Train Equal Opportunity Disparity: 0.1292\n"
     ]
    },
    {
     "name": "stderr",
     "output_type": "stream",
     "text": [
      "  3%|▎         | 9/300 [00:01<00:48,  5.96it/s]"
     ]
    },
    {
     "name": "stdout",
     "output_type": "stream",
     "text": [
      " \n",
      "Avg Training Stats after 8 threshold adjusting global rounds:\n",
      "Training loss: 451.51 | Train accuracy: 85.68% | Train Equal Opportunity Disparity: 0.1162\n",
      " \n",
      "Avg Training Stats after 9 threshold adjusting global rounds:\n",
      "Training loss: 456.23 | Train accuracy: 85.31% | Train Equal Opportunity Disparity: 0.1162\n"
     ]
    },
    {
     "name": "stderr",
     "output_type": "stream",
     "text": [
      "  4%|▎         | 11/300 [00:01<00:47,  6.14it/s]"
     ]
    },
    {
     "name": "stdout",
     "output_type": "stream",
     "text": [
      " \n",
      "Avg Training Stats after 10 threshold adjusting global rounds:\n",
      "Training loss: 461.08 | Train accuracy: 84.98% | Train Equal Opportunity Disparity: 0.1084\n",
      " \n",
      "Avg Training Stats after 11 threshold adjusting global rounds:\n",
      "Training loss: 466.04 | Train accuracy: 84.77% | Train Equal Opportunity Disparity: 0.1006\n"
     ]
    },
    {
     "name": "stderr",
     "output_type": "stream",
     "text": [
      "  4%|▍         | 13/300 [00:02<00:45,  6.30it/s]"
     ]
    },
    {
     "name": "stdout",
     "output_type": "stream",
     "text": [
      " \n",
      "Avg Training Stats after 12 threshold adjusting global rounds:\n",
      "Training loss: 471.11 | Train accuracy: 84.56% | Train Equal Opportunity Disparity: 0.0980\n",
      " \n",
      "Avg Training Stats after 13 threshold adjusting global rounds:\n",
      "Training loss: 476.26 | Train accuracy: 84.23% | Train Equal Opportunity Disparity: 0.0928\n"
     ]
    },
    {
     "name": "stderr",
     "output_type": "stream",
     "text": [
      "  5%|▌         | 15/300 [00:02<00:44,  6.39it/s]"
     ]
    },
    {
     "name": "stdout",
     "output_type": "stream",
     "text": [
      " \n",
      "Avg Training Stats after 14 threshold adjusting global rounds:\n",
      "Training loss: 481.51 | Train accuracy: 83.86% | Train Equal Opportunity Disparity: 0.0928\n",
      " \n",
      "Avg Training Stats after 15 threshold adjusting global rounds:\n",
      "Training loss: 486.83 | Train accuracy: 83.57% | Train Equal Opportunity Disparity: 0.0876\n"
     ]
    },
    {
     "name": "stderr",
     "output_type": "stream",
     "text": [
      "\r",
      "  5%|▌         | 16/300 [00:02<00:45,  6.27it/s]"
     ]
    },
    {
     "name": "stdout",
     "output_type": "stream",
     "text": [
      " \n",
      "Avg Training Stats after 16 threshold adjusting global rounds:\n",
      "Training loss: 492.22 | Train accuracy: 83.40% | Train Equal Opportunity Disparity: 0.0824\n"
     ]
    },
    {
     "name": "stderr",
     "output_type": "stream",
     "text": [
      "  6%|▌         | 18/300 [00:03<00:48,  5.85it/s]"
     ]
    },
    {
     "name": "stdout",
     "output_type": "stream",
     "text": [
      " \n",
      "Avg Training Stats after 17 threshold adjusting global rounds:\n",
      "Training loss: 497.67 | Train accuracy: 83.20% | Train Equal Opportunity Disparity: 0.0798\n",
      " \n",
      "Avg Training Stats after 18 threshold adjusting global rounds:\n",
      "Training loss: 503.20 | Train accuracy: 82.99% | Train Equal Opportunity Disparity: 0.0720\n"
     ]
    },
    {
     "name": "stderr",
     "output_type": "stream",
     "text": [
      "  7%|▋         | 20/300 [00:03<00:48,  5.83it/s]"
     ]
    },
    {
     "name": "stdout",
     "output_type": "stream",
     "text": [
      " \n",
      "Avg Training Stats after 19 threshold adjusting global rounds:\n",
      "Training loss: 508.77 | Train accuracy: 82.70% | Train Equal Opportunity Disparity: 0.0720\n",
      " \n",
      "Avg Training Stats after 20 threshold adjusting global rounds:\n",
      "Training loss: 514.41 | Train accuracy: 82.45% | Train Equal Opportunity Disparity: 0.0720\n"
     ]
    },
    {
     "name": "stderr",
     "output_type": "stream",
     "text": [
      "\r",
      "  7%|▋         | 21/300 [00:03<00:46,  5.95it/s]"
     ]
    },
    {
     "name": "stdout",
     "output_type": "stream",
     "text": [
      " \n",
      "Avg Training Stats after 21 threshold adjusting global rounds:\n",
      "Training loss: 520.09 | Train accuracy: 82.16% | Train Equal Opportunity Disparity: 0.0642\n"
     ]
    },
    {
     "name": "stderr",
     "output_type": "stream",
     "text": [
      "  8%|▊         | 23/300 [00:03<00:50,  5.49it/s]"
     ]
    },
    {
     "name": "stdout",
     "output_type": "stream",
     "text": [
      " \n",
      "Avg Training Stats after 22 threshold adjusting global rounds:\n",
      "Training loss: 525.83 | Train accuracy: 82.08% | Train Equal Opportunity Disparity: 0.0460\n",
      " \n",
      "Avg Training Stats after 23 threshold adjusting global rounds:\n",
      "Training loss: 531.61 | Train accuracy: 81.62% | Train Equal Opportunity Disparity: 0.0434\n"
     ]
    },
    {
     "name": "stderr",
     "output_type": "stream",
     "text": [
      "\r",
      "  8%|▊         | 24/300 [00:04<00:49,  5.56it/s]"
     ]
    },
    {
     "name": "stdout",
     "output_type": "stream",
     "text": [
      " \n",
      "Avg Training Stats after 24 threshold adjusting global rounds:\n",
      "Training loss: 537.44 | Train accuracy: 81.33% | Train Equal Opportunity Disparity: 0.0408\n"
     ]
    },
    {
     "name": "stderr",
     "output_type": "stream",
     "text": [
      "  9%|▊         | 26/300 [00:04<00:51,  5.36it/s]"
     ]
    },
    {
     "name": "stdout",
     "output_type": "stream",
     "text": [
      " \n",
      "Avg Training Stats after 25 threshold adjusting global rounds:\n",
      "Training loss: 543.30 | Train accuracy: 81.13% | Train Equal Opportunity Disparity: 0.0356\n",
      " \n",
      "Avg Training Stats after 26 threshold adjusting global rounds:\n",
      "Training loss: 549.21 | Train accuracy: 80.84% | Train Equal Opportunity Disparity: 0.0356\n"
     ]
    },
    {
     "name": "stderr",
     "output_type": "stream",
     "text": [
      "  9%|▉         | 28/300 [00:04<00:53,  5.07it/s]"
     ]
    },
    {
     "name": "stdout",
     "output_type": "stream",
     "text": [
      " \n",
      "Avg Training Stats after 27 threshold adjusting global rounds:\n",
      "Training loss: 555.15 | Train accuracy: 80.67% | Train Equal Opportunity Disparity: 0.0330\n",
      " \n",
      "Avg Training Stats after 28 threshold adjusting global rounds:\n",
      "Training loss: 561.13 | Train accuracy: 80.50% | Train Equal Opportunity Disparity: 0.0278\n"
     ]
    },
    {
     "name": "stderr",
     "output_type": "stream",
     "text": [
      " 10%|█         | 30/300 [00:05<00:47,  5.72it/s]"
     ]
    },
    {
     "name": "stdout",
     "output_type": "stream",
     "text": [
      " \n",
      "Avg Training Stats after 29 threshold adjusting global rounds:\n",
      "Training loss: 567.15 | Train accuracy: 80.26% | Train Equal Opportunity Disparity: 0.0252\n",
      " \n",
      "Avg Training Stats after 30 threshold adjusting global rounds:\n",
      "Training loss: 573.19 | Train accuracy: 80.22% | Train Equal Opportunity Disparity: 0.0226\n"
     ]
    },
    {
     "name": "stderr",
     "output_type": "stream",
     "text": [
      "\r",
      " 10%|█         | 31/300 [00:05<00:45,  5.89it/s]"
     ]
    },
    {
     "name": "stdout",
     "output_type": "stream",
     "text": [
      " \n",
      "Avg Training Stats after 31 threshold adjusting global rounds:\n",
      "Training loss: 579.27 | Train accuracy: 79.88% | Train Equal Opportunity Disparity: 0.0122\n"
     ]
    },
    {
     "name": "stderr",
     "output_type": "stream",
     "text": [
      "\r",
      " 10%|█         | 31/300 [00:05<00:48,  5.52it/s]"
     ]
    },
    {
     "name": "stdout",
     "output_type": "stream",
     "text": [
      " \n",
      "Avg Training Stats after 32 threshold adjusting global rounds:\n",
      "Training loss: 585.38 | Train accuracy: 79.39% | Train Equal Opportunity Disparity: 0.0096\n",
      " \n",
      " Results after 300 global rounds of training:\n",
      "|---- Test Accuracy: 81.67%\n",
      "|---- Test Equal Opportunity Disparity: 0.0284\n",
      "\n",
      " Total Run Time: 5.6573 sec\n"
     ]
    },
    {
     "name": "stderr",
     "output_type": "stream",
     "text": [
      "\n"
     ]
    }
   ],
   "source": [
    "server.ThresholdAdjust(num_epochs = 300, epsilon = 0.01, learning_rate = 0.005)"
   ]
  },
  {
   "cell_type": "code",
   "execution_count": 5,
   "metadata": {
    "scrolled": true
   },
   "outputs": [
    {
     "name": "stderr",
     "output_type": "stream",
     "text": [
      "  0%|          | 1/300 [00:00<00:50,  5.92it/s]"
     ]
    },
    {
     "name": "stdout",
     "output_type": "stream",
     "text": [
      "\n",
      " | Global Training Round : 1 |\n",
      "\n",
      "Accuracy loss: 106.62 | fairness loss 52.01 | Equal Opportunity Disparity = 0.35\n",
      " \n",
      "Avg Training Stats after 1 global rounds:\n",
      "Training loss: 384.64 | Validation accuracy: 56.07% | Validation Equal Opportunity Disparity: 0.3514\n",
      "\n",
      " | Global Training Round : 2 |\n",
      "\n"
     ]
    },
    {
     "name": "stderr",
     "output_type": "stream",
     "text": [
      "  1%|          | 3/300 [00:00<00:53,  5.58it/s]"
     ]
    },
    {
     "name": "stdout",
     "output_type": "stream",
     "text": [
      "Accuracy loss: 106.36 | fairness loss 50.99 | Equal Opportunity Disparity = 0.35\n",
      " \n",
      "Avg Training Stats after 2 global rounds:\n",
      "Training loss: 388.70 | Validation accuracy: 56.07% | Validation Equal Opportunity Disparity: 0.3492\n",
      "\n",
      " | Global Training Round : 3 |\n",
      "\n",
      "Accuracy loss: 106.07 | fairness loss 50.89 | Equal Opportunity Disparity = 0.35\n",
      " \n",
      "Avg Training Stats after 3 global rounds:\n",
      "Training loss: 391.11 | Validation accuracy: 56.15% | Validation Equal Opportunity Disparity: 0.3471\n",
      "\n",
      " | Global Training Round : 4 |\n",
      "\n"
     ]
    },
    {
     "name": "stderr",
     "output_type": "stream",
     "text": [
      "  2%|▏         | 5/300 [00:00<00:48,  6.03it/s]"
     ]
    },
    {
     "name": "stdout",
     "output_type": "stream",
     "text": [
      "Accuracy loss: 105.84 | fairness loss 49.05 | Equal Opportunity Disparity = 0.35\n",
      " \n",
      "Avg Training Stats after 4 global rounds:\n",
      "Training loss: 387.35 | Validation accuracy: 56.04% | Validation Equal Opportunity Disparity: 0.3464\n",
      "\n",
      " | Global Training Round : 5 |\n",
      "\n",
      "Accuracy loss: 105.59 | fairness loss 48.74 | Equal Opportunity Disparity = 0.35\n",
      " \n",
      "Avg Training Stats after 5 global rounds:\n",
      "Training loss: 383.22 | Validation accuracy: 56.00% | Validation Equal Opportunity Disparity: 0.3471\n",
      "\n",
      " | Global Training Round : 6 |\n",
      "\n"
     ]
    },
    {
     "name": "stderr",
     "output_type": "stream",
     "text": [
      "  2%|▏         | 7/300 [00:01<00:50,  5.83it/s]"
     ]
    },
    {
     "name": "stdout",
     "output_type": "stream",
     "text": [
      "Accuracy loss: 105.36 | fairness loss 47.26 | Equal Opportunity Disparity = 0.35\n",
      " \n",
      "Avg Training Stats after 6 global rounds:\n",
      "Training loss: 380.28 | Validation accuracy: 55.89% | Validation Equal Opportunity Disparity: 0.3471\n",
      "\n",
      " | Global Training Round : 7 |\n",
      "\n",
      "Accuracy loss: 105.12 | fairness loss 47.72 | Equal Opportunity Disparity = 0.35\n",
      " \n",
      "Avg Training Stats after 7 global rounds:\n",
      "Training loss: 376.75 | Validation accuracy: 55.85% | Validation Equal Opportunity Disparity: 0.3471\n",
      "\n",
      " | Global Training Round : 8 |\n",
      "\n"
     ]
    },
    {
     "name": "stderr",
     "output_type": "stream",
     "text": [
      "  3%|▎         | 9/300 [00:01<00:49,  5.83it/s]"
     ]
    },
    {
     "name": "stdout",
     "output_type": "stream",
     "text": [
      "Accuracy loss: 104.84 | fairness loss 47.28 | Equal Opportunity Disparity = 0.35\n",
      " \n",
      "Avg Training Stats after 8 global rounds:\n",
      "Training loss: 374.17 | Validation accuracy: 55.89% | Validation Equal Opportunity Disparity: 0.3477\n",
      "\n",
      " | Global Training Round : 9 |\n",
      "\n",
      "Accuracy loss: 104.59 | fairness loss 46.79 | Equal Opportunity Disparity = 0.35\n",
      " \n",
      "Avg Training Stats after 9 global rounds:\n",
      "Training loss: 372.97 | Validation accuracy: 55.93% | Validation Equal Opportunity Disparity: 0.3489\n",
      "\n",
      " | Global Training Round : 10 |\n",
      "\n"
     ]
    },
    {
     "name": "stderr",
     "output_type": "stream",
     "text": [
      "  4%|▎         | 11/300 [00:01<00:46,  6.19it/s]"
     ]
    },
    {
     "name": "stdout",
     "output_type": "stream",
     "text": [
      "Accuracy loss: 104.35 | fairness loss 46.19 | Equal Opportunity Disparity = 0.35\n",
      " \n",
      "Avg Training Stats after 10 global rounds:\n",
      "Training loss: 371.42 | Validation accuracy: 55.93% | Validation Equal Opportunity Disparity: 0.3489\n",
      "\n",
      " | Global Training Round : 11 |\n",
      "\n",
      "Accuracy loss: 104.06 | fairness loss 46.89 | Equal Opportunity Disparity = 0.35\n",
      " \n",
      "Avg Training Stats after 11 global rounds:\n",
      "Training loss: 369.82 | Validation accuracy: 55.89% | Validation Equal Opportunity Disparity: 0.3495\n",
      "\n",
      " | Global Training Round : 12 |\n",
      "\n"
     ]
    },
    {
     "name": "stderr",
     "output_type": "stream",
     "text": [
      "  4%|▍         | 13/300 [00:02<00:44,  6.43it/s]"
     ]
    },
    {
     "name": "stdout",
     "output_type": "stream",
     "text": [
      "Accuracy loss: 103.83 | fairness loss 45.26 | Equal Opportunity Disparity = 0.35\n",
      " \n",
      "Avg Training Stats after 12 global rounds:\n",
      "Training loss: 368.66 | Validation accuracy: 55.89% | Validation Equal Opportunity Disparity: 0.3495\n",
      "\n",
      " | Global Training Round : 13 |\n",
      "\n",
      "Accuracy loss: 103.69 | fairness loss 43.91 | Equal Opportunity Disparity = 0.35\n",
      " \n",
      "Avg Training Stats after 13 global rounds:\n",
      "Training loss: 366.78 | Validation accuracy: 55.89% | Validation Equal Opportunity Disparity: 0.3468\n",
      "\n",
      " | Global Training Round : 14 |\n",
      "\n"
     ]
    },
    {
     "name": "stderr",
     "output_type": "stream",
     "text": [
      "  5%|▌         | 15/300 [00:02<00:43,  6.61it/s]"
     ]
    },
    {
     "name": "stdout",
     "output_type": "stream",
     "text": [
      "Accuracy loss: 103.48 | fairness loss 43.19 | Equal Opportunity Disparity = 0.35\n",
      " \n",
      "Avg Training Stats after 14 global rounds:\n",
      "Training loss: 364.96 | Validation accuracy: 55.85% | Validation Equal Opportunity Disparity: 0.3468\n",
      "\n",
      " | Global Training Round : 15 |\n",
      "\n",
      "Accuracy loss: 103.29 | fairness loss 43.29 | Equal Opportunity Disparity = 0.35\n",
      " \n",
      "Avg Training Stats after 15 global rounds:\n",
      "Training loss: 363.44 | Validation accuracy: 55.78% | Validation Equal Opportunity Disparity: 0.3461\n",
      "\n",
      " | Global Training Round : 16 |\n",
      "\n"
     ]
    },
    {
     "name": "stderr",
     "output_type": "stream",
     "text": [
      "  6%|▌         | 17/300 [00:02<00:41,  6.80it/s]"
     ]
    },
    {
     "name": "stdout",
     "output_type": "stream",
     "text": [
      "Accuracy loss: 103.09 | fairness loss 43.05 | Equal Opportunity Disparity = 0.35\n",
      " \n",
      "Avg Training Stats after 16 global rounds:\n",
      "Training loss: 361.58 | Validation accuracy: 55.74% | Validation Equal Opportunity Disparity: 0.3461\n",
      "\n",
      " | Global Training Round : 17 |\n",
      "\n",
      "Accuracy loss: 102.85 | fairness loss 42.73 | Equal Opportunity Disparity = 0.35\n",
      " \n",
      "Avg Training Stats after 17 global rounds:\n",
      "Training loss: 361.16 | Validation accuracy: 55.70% | Validation Equal Opportunity Disparity: 0.3461\n",
      "\n",
      " | Global Training Round : 18 |\n",
      "\n"
     ]
    },
    {
     "name": "stderr",
     "output_type": "stream",
     "text": [
      "  6%|▋         | 19/300 [00:03<00:40,  6.91it/s]"
     ]
    },
    {
     "name": "stdout",
     "output_type": "stream",
     "text": [
      "Accuracy loss: 102.63 | fairness loss 42.43 | Equal Opportunity Disparity = 0.34\n",
      " \n",
      "Avg Training Stats after 18 global rounds:\n",
      "Training loss: 359.40 | Validation accuracy: 55.78% | Validation Equal Opportunity Disparity: 0.3440\n",
      "\n",
      " | Global Training Round : 19 |\n",
      "\n",
      "Accuracy loss: 102.44 | fairness loss 41.43 | Equal Opportunity Disparity = 0.34\n",
      " \n",
      "Avg Training Stats after 19 global rounds:\n",
      "Training loss: 357.37 | Validation accuracy: 55.74% | Validation Equal Opportunity Disparity: 0.3440\n",
      "\n",
      " | Global Training Round : 20 |\n",
      "\n"
     ]
    },
    {
     "name": "stderr",
     "output_type": "stream",
     "text": [
      "  7%|▋         | 21/300 [00:03<00:40,  6.97it/s]"
     ]
    },
    {
     "name": "stdout",
     "output_type": "stream",
     "text": [
      "Accuracy loss: 102.21 | fairness loss 41.21 | Equal Opportunity Disparity = 0.34\n",
      " \n",
      "Avg Training Stats after 20 global rounds:\n",
      "Training loss: 355.44 | Validation accuracy: 55.70% | Validation Equal Opportunity Disparity: 0.3440\n",
      "\n",
      " | Global Training Round : 21 |\n",
      "\n",
      "Accuracy loss: 102.00 | fairness loss 39.23 | Equal Opportunity Disparity = 0.35\n",
      " \n",
      "Avg Training Stats after 21 global rounds:\n",
      "Training loss: 353.96 | Validation accuracy: 55.67% | Validation Equal Opportunity Disparity: 0.3452\n",
      "\n",
      " | Global Training Round : 22 |\n",
      "\n"
     ]
    },
    {
     "name": "stderr",
     "output_type": "stream",
     "text": [
      "  8%|▊         | 23/300 [00:03<00:39,  6.98it/s]"
     ]
    },
    {
     "name": "stdout",
     "output_type": "stream",
     "text": [
      "Accuracy loss: 101.79 | fairness loss 40.07 | Equal Opportunity Disparity = 0.34\n",
      " \n",
      "Avg Training Stats after 22 global rounds:\n",
      "Training loss: 352.47 | Validation accuracy: 55.67% | Validation Equal Opportunity Disparity: 0.3418\n",
      "\n",
      " | Global Training Round : 23 |\n",
      "\n",
      "Accuracy loss: 101.57 | fairness loss 40.44 | Equal Opportunity Disparity = 0.34\n",
      " \n",
      "Avg Training Stats after 23 global rounds:\n",
      "Training loss: 350.76 | Validation accuracy: 55.70% | Validation Equal Opportunity Disparity: 0.3431\n",
      "\n",
      " | Global Training Round : 24 |\n",
      "\n"
     ]
    },
    {
     "name": "stderr",
     "output_type": "stream",
     "text": [
      "  8%|▊         | 25/300 [00:03<00:39,  6.98it/s]"
     ]
    },
    {
     "name": "stdout",
     "output_type": "stream",
     "text": [
      "Accuracy loss: 101.31 | fairness loss 39.82 | Equal Opportunity Disparity = 0.34\n",
      " \n",
      "Avg Training Stats after 24 global rounds:\n",
      "Training loss: 349.02 | Validation accuracy: 55.70% | Validation Equal Opportunity Disparity: 0.3443\n",
      "\n",
      " | Global Training Round : 25 |\n",
      "\n",
      "Accuracy loss: 101.10 | fairness loss 38.60 | Equal Opportunity Disparity = 0.34\n",
      " \n",
      "Avg Training Stats after 25 global rounds:\n",
      "Training loss: 347.34 | Validation accuracy: 55.67% | Validation Equal Opportunity Disparity: 0.3443\n",
      "\n",
      " | Global Training Round : 26 |\n",
      "\n"
     ]
    },
    {
     "name": "stderr",
     "output_type": "stream",
     "text": [
      "  9%|▉         | 27/300 [00:04<00:38,  7.01it/s]"
     ]
    },
    {
     "name": "stdout",
     "output_type": "stream",
     "text": [
      "Accuracy loss: 100.91 | fairness loss 38.35 | Equal Opportunity Disparity = 0.34\n",
      " \n",
      "Avg Training Stats after 26 global rounds:\n",
      "Training loss: 345.99 | Validation accuracy: 55.56% | Validation Equal Opportunity Disparity: 0.3437\n",
      "\n",
      " | Global Training Round : 27 |\n",
      "\n",
      "Accuracy loss: 100.72 | fairness loss 37.45 | Equal Opportunity Disparity = 0.34\n",
      " \n",
      "Avg Training Stats after 27 global rounds:\n",
      "Training loss: 344.61 | Validation accuracy: 55.56% | Validation Equal Opportunity Disparity: 0.3437\n",
      "\n",
      " | Global Training Round : 28 |\n",
      "\n"
     ]
    },
    {
     "name": "stderr",
     "output_type": "stream",
     "text": [
      " 10%|▉         | 29/300 [00:04<00:38,  7.00it/s]"
     ]
    },
    {
     "name": "stdout",
     "output_type": "stream",
     "text": [
      "Accuracy loss: 100.53 | fairness loss 38.10 | Equal Opportunity Disparity = 0.34\n",
      " \n",
      "Avg Training Stats after 28 global rounds:\n",
      "Training loss: 343.25 | Validation accuracy: 55.44% | Validation Equal Opportunity Disparity: 0.3437\n",
      "\n",
      " | Global Training Round : 29 |\n",
      "\n",
      "Accuracy loss: 100.31 | fairness loss 36.83 | Equal Opportunity Disparity = 0.34\n",
      " \n",
      "Avg Training Stats after 29 global rounds:\n",
      "Training loss: 341.65 | Validation accuracy: 55.44% | Validation Equal Opportunity Disparity: 0.3443\n",
      "\n",
      " | Global Training Round : 30 |\n",
      "\n"
     ]
    },
    {
     "name": "stderr",
     "output_type": "stream",
     "text": [
      " 10%|█         | 31/300 [00:04<00:38,  7.02it/s]"
     ]
    },
    {
     "name": "stdout",
     "output_type": "stream",
     "text": [
      "Accuracy loss: 100.12 | fairness loss 36.82 | Equal Opportunity Disparity = 0.34\n",
      " \n",
      "Avg Training Stats after 30 global rounds:\n",
      "Training loss: 340.16 | Validation accuracy: 55.44% | Validation Equal Opportunity Disparity: 0.3416\n",
      "\n",
      " | Global Training Round : 31 |\n",
      "\n",
      "Accuracy loss: 99.93 | fairness loss 35.72 | Equal Opportunity Disparity = 0.34\n",
      " \n",
      "Avg Training Stats after 31 global rounds:\n",
      "Training loss: 338.64 | Validation accuracy: 55.41% | Validation Equal Opportunity Disparity: 0.3416\n",
      "\n",
      " | Global Training Round : 32 |\n",
      "\n"
     ]
    },
    {
     "name": "stderr",
     "output_type": "stream",
     "text": [
      " 11%|█         | 33/300 [00:05<00:37,  7.04it/s]"
     ]
    },
    {
     "name": "stdout",
     "output_type": "stream",
     "text": [
      "Accuracy loss: 99.75 | fairness loss 36.23 | Equal Opportunity Disparity = 0.34\n",
      " \n",
      "Avg Training Stats after 32 global rounds:\n",
      "Training loss: 337.19 | Validation accuracy: 55.37% | Validation Equal Opportunity Disparity: 0.3382\n",
      "\n",
      " | Global Training Round : 33 |\n",
      "\n",
      "Accuracy loss: 99.56 | fairness loss 35.44 | Equal Opportunity Disparity = 0.34\n",
      " \n",
      "Avg Training Stats after 33 global rounds:\n",
      "Training loss: 335.80 | Validation accuracy: 55.41% | Validation Equal Opportunity Disparity: 0.3360\n",
      "\n",
      " | Global Training Round : 34 |\n",
      "\n"
     ]
    },
    {
     "name": "stderr",
     "output_type": "stream",
     "text": [
      " 12%|█▏        | 35/300 [00:05<00:37,  7.01it/s]"
     ]
    },
    {
     "name": "stdout",
     "output_type": "stream",
     "text": [
      "Accuracy loss: 99.39 | fairness loss 34.86 | Equal Opportunity Disparity = 0.34\n",
      " \n",
      "Avg Training Stats after 34 global rounds:\n",
      "Training loss: 334.29 | Validation accuracy: 55.41% | Validation Equal Opportunity Disparity: 0.3360\n",
      "\n",
      " | Global Training Round : 35 |\n",
      "\n",
      "Accuracy loss: 99.24 | fairness loss 34.51 | Equal Opportunity Disparity = 0.34\n",
      " \n",
      "Avg Training Stats after 35 global rounds:\n",
      "Training loss: 332.87 | Validation accuracy: 55.33% | Validation Equal Opportunity Disparity: 0.3360\n",
      "\n",
      " | Global Training Round : 36 |\n",
      "\n"
     ]
    },
    {
     "name": "stderr",
     "output_type": "stream",
     "text": [
      " 12%|█▏        | 37/300 [00:05<00:37,  6.98it/s]"
     ]
    },
    {
     "name": "stdout",
     "output_type": "stream",
     "text": [
      "Accuracy loss: 99.03 | fairness loss 33.80 | Equal Opportunity Disparity = 0.34\n",
      " \n",
      "Avg Training Stats after 36 global rounds:\n",
      "Training loss: 331.41 | Validation accuracy: 55.33% | Validation Equal Opportunity Disparity: 0.3366\n",
      "\n",
      " | Global Training Round : 37 |\n",
      "\n",
      "Accuracy loss: 98.86 | fairness loss 33.05 | Equal Opportunity Disparity = 0.33\n",
      " \n",
      "Avg Training Stats after 37 global rounds:\n",
      "Training loss: 330.37 | Validation accuracy: 55.30% | Validation Equal Opportunity Disparity: 0.3339\n",
      "\n",
      " | Global Training Round : 38 |\n",
      "\n"
     ]
    },
    {
     "name": "stderr",
     "output_type": "stream",
     "text": [
      " 13%|█▎        | 39/300 [00:05<00:37,  6.99it/s]"
     ]
    },
    {
     "name": "stdout",
     "output_type": "stream",
     "text": [
      "Accuracy loss: 98.68 | fairness loss 33.82 | Equal Opportunity Disparity = 0.34\n",
      " \n",
      "Avg Training Stats after 38 global rounds:\n",
      "Training loss: 329.31 | Validation accuracy: 55.41% | Validation Equal Opportunity Disparity: 0.3364\n",
      "\n",
      " | Global Training Round : 39 |\n",
      "\n",
      "Accuracy loss: 98.46 | fairness loss 33.34 | Equal Opportunity Disparity = 0.34\n",
      " \n",
      "Avg Training Stats after 39 global rounds:\n",
      "Training loss: 327.96 | Validation accuracy: 55.44% | Validation Equal Opportunity Disparity: 0.3370\n",
      "\n",
      " | Global Training Round : 40 |\n",
      "\n"
     ]
    },
    {
     "name": "stderr",
     "output_type": "stream",
     "text": [
      " 14%|█▎        | 41/300 [00:06<00:37,  6.96it/s]"
     ]
    },
    {
     "name": "stdout",
     "output_type": "stream",
     "text": [
      "Accuracy loss: 98.25 | fairness loss 31.53 | Equal Opportunity Disparity = 0.33\n",
      " \n",
      "Avg Training Stats after 40 global rounds:\n",
      "Training loss: 326.51 | Validation accuracy: 55.41% | Validation Equal Opportunity Disparity: 0.3348\n",
      "\n",
      " | Global Training Round : 41 |\n",
      "\n",
      "Accuracy loss: 98.10 | fairness loss 32.29 | Equal Opportunity Disparity = 0.33\n",
      " \n",
      "Avg Training Stats after 41 global rounds:\n",
      "Training loss: 325.04 | Validation accuracy: 55.37% | Validation Equal Opportunity Disparity: 0.3321\n",
      "\n",
      " | Global Training Round : 42 |\n",
      "\n"
     ]
    },
    {
     "name": "stderr",
     "output_type": "stream",
     "text": [
      " 14%|█▍        | 43/300 [00:06<00:36,  6.96it/s]"
     ]
    },
    {
     "name": "stdout",
     "output_type": "stream",
     "text": [
      "Accuracy loss: 97.90 | fairness loss 30.47 | Equal Opportunity Disparity = 0.33\n",
      " \n",
      "Avg Training Stats after 42 global rounds:\n",
      "Training loss: 323.74 | Validation accuracy: 55.44% | Validation Equal Opportunity Disparity: 0.3339\n",
      "\n",
      " | Global Training Round : 43 |\n",
      "\n",
      "Accuracy loss: 97.76 | fairness loss 31.11 | Equal Opportunity Disparity = 0.34\n",
      " \n",
      "Avg Training Stats after 43 global rounds:\n",
      "Training loss: 322.40 | Validation accuracy: 55.48% | Validation Equal Opportunity Disparity: 0.3352\n",
      "\n",
      " | Global Training Round : 44 |\n",
      "\n"
     ]
    },
    {
     "name": "stderr",
     "output_type": "stream",
     "text": [
      " 15%|█▌        | 45/300 [00:06<00:36,  6.97it/s]"
     ]
    },
    {
     "name": "stdout",
     "output_type": "stream",
     "text": [
      "Accuracy loss: 97.60 | fairness loss 30.41 | Equal Opportunity Disparity = 0.34\n",
      " \n",
      "Avg Training Stats after 44 global rounds:\n",
      "Training loss: 321.18 | Validation accuracy: 55.52% | Validation Equal Opportunity Disparity: 0.3358\n",
      "\n",
      " | Global Training Round : 45 |\n",
      "\n",
      "Accuracy loss: 97.44 | fairness loss 30.32 | Equal Opportunity Disparity = 0.34\n",
      " \n",
      "Avg Training Stats after 45 global rounds:\n",
      "Training loss: 320.01 | Validation accuracy: 55.52% | Validation Equal Opportunity Disparity: 0.3370\n",
      "\n",
      " | Global Training Round : 46 |\n",
      "\n"
     ]
    },
    {
     "name": "stderr",
     "output_type": "stream",
     "text": [
      " 16%|█▌        | 47/300 [00:07<00:36,  7.01it/s]"
     ]
    },
    {
     "name": "stdout",
     "output_type": "stream",
     "text": [
      "Accuracy loss: 97.27 | fairness loss 29.92 | Equal Opportunity Disparity = 0.34\n",
      " \n",
      "Avg Training Stats after 46 global rounds:\n",
      "Training loss: 318.64 | Validation accuracy: 55.56% | Validation Equal Opportunity Disparity: 0.3389\n",
      "\n",
      " | Global Training Round : 47 |\n",
      "\n",
      "Accuracy loss: 97.10 | fairness loss 29.41 | Equal Opportunity Disparity = 0.34\n",
      " \n",
      "Avg Training Stats after 47 global rounds:\n",
      "Training loss: 317.35 | Validation accuracy: 55.67% | Validation Equal Opportunity Disparity: 0.3407\n",
      "\n",
      " | Global Training Round : 48 |\n",
      "\n"
     ]
    },
    {
     "name": "stderr",
     "output_type": "stream",
     "text": [
      " 16%|█▋        | 49/300 [00:07<00:35,  7.02it/s]"
     ]
    },
    {
     "name": "stdout",
     "output_type": "stream",
     "text": [
      "Accuracy loss: 96.91 | fairness loss 29.91 | Equal Opportunity Disparity = 0.34\n",
      " \n",
      "Avg Training Stats after 48 global rounds:\n",
      "Training loss: 316.09 | Validation accuracy: 55.63% | Validation Equal Opportunity Disparity: 0.3414\n",
      "\n",
      " | Global Training Round : 49 |\n",
      "\n",
      "Accuracy loss: 96.75 | fairness loss 29.45 | Equal Opportunity Disparity = 0.34\n",
      " \n",
      "Avg Training Stats after 49 global rounds:\n",
      "Training loss: 314.80 | Validation accuracy: 55.48% | Validation Equal Opportunity Disparity: 0.3420\n",
      "\n",
      " | Global Training Round : 50 |\n",
      "\n"
     ]
    },
    {
     "name": "stderr",
     "output_type": "stream",
     "text": [
      " 17%|█▋        | 51/300 [00:07<00:35,  6.98it/s]"
     ]
    },
    {
     "name": "stdout",
     "output_type": "stream",
     "text": [
      "Accuracy loss: 96.61 | fairness loss 28.25 | Equal Opportunity Disparity = 0.34\n",
      " \n",
      "Avg Training Stats after 50 global rounds:\n",
      "Training loss: 313.55 | Validation accuracy: 55.41% | Validation Equal Opportunity Disparity: 0.3426\n",
      "\n",
      " | Global Training Round : 51 |\n",
      "\n",
      "Accuracy loss: 96.47 | fairness loss 29.34 | Equal Opportunity Disparity = 0.34\n",
      " \n",
      "Avg Training Stats after 51 global rounds:\n",
      "Training loss: 312.27 | Validation accuracy: 55.30% | Validation Equal Opportunity Disparity: 0.3432\n",
      "\n",
      " | Global Training Round : 52 |\n",
      "\n"
     ]
    },
    {
     "name": "stderr",
     "output_type": "stream",
     "text": [
      " 18%|█▊        | 53/300 [00:07<00:35,  7.00it/s]"
     ]
    },
    {
     "name": "stdout",
     "output_type": "stream",
     "text": [
      "Accuracy loss: 96.32 | fairness loss 28.21 | Equal Opportunity Disparity = 0.34\n",
      " \n",
      "Avg Training Stats after 52 global rounds:\n",
      "Training loss: 311.15 | Validation accuracy: 55.22% | Validation Equal Opportunity Disparity: 0.3432\n",
      "\n",
      " | Global Training Round : 53 |\n",
      "\n",
      "Accuracy loss: 96.21 | fairness loss 26.99 | Equal Opportunity Disparity = 0.34\n",
      " \n",
      "Avg Training Stats after 53 global rounds:\n",
      "Training loss: 309.92 | Validation accuracy: 55.22% | Validation Equal Opportunity Disparity: 0.3405\n",
      "\n",
      " | Global Training Round : 54 |\n",
      "\n"
     ]
    },
    {
     "name": "stderr",
     "output_type": "stream",
     "text": [
      " 18%|█▊        | 55/300 [00:08<00:35,  6.99it/s]"
     ]
    },
    {
     "name": "stdout",
     "output_type": "stream",
     "text": [
      "Accuracy loss: 96.08 | fairness loss 26.89 | Equal Opportunity Disparity = 0.34\n",
      " \n",
      "Avg Training Stats after 54 global rounds:\n",
      "Training loss: 308.78 | Validation accuracy: 55.15% | Validation Equal Opportunity Disparity: 0.3411\n",
      "\n",
      " | Global Training Round : 55 |\n",
      "\n",
      "Accuracy loss: 95.90 | fairness loss 28.07 | Equal Opportunity Disparity = 0.34\n",
      " \n",
      "Avg Training Stats after 55 global rounds:\n",
      "Training loss: 307.50 | Validation accuracy: 55.19% | Validation Equal Opportunity Disparity: 0.3395\n",
      "\n",
      " | Global Training Round : 56 |\n",
      "\n"
     ]
    },
    {
     "name": "stderr",
     "output_type": "stream",
     "text": [
      " 19%|█▉        | 57/300 [00:08<00:34,  7.00it/s]"
     ]
    },
    {
     "name": "stdout",
     "output_type": "stream",
     "text": [
      "Accuracy loss: 95.75 | fairness loss 27.31 | Equal Opportunity Disparity = 0.34\n",
      " \n",
      "Avg Training Stats after 56 global rounds:\n",
      "Training loss: 306.24 | Validation accuracy: 55.15% | Validation Equal Opportunity Disparity: 0.3395\n",
      "\n",
      " | Global Training Round : 57 |\n",
      "\n",
      "Accuracy loss: 95.59 | fairness loss 26.35 | Equal Opportunity Disparity = 0.34\n",
      " \n",
      "Avg Training Stats after 57 global rounds:\n",
      "Training loss: 305.14 | Validation accuracy: 55.22% | Validation Equal Opportunity Disparity: 0.3420\n",
      "\n",
      " | Global Training Round : 58 |\n",
      "\n"
     ]
    },
    {
     "name": "stderr",
     "output_type": "stream",
     "text": [
      " 20%|█▉        | 59/300 [00:08<00:34,  6.99it/s]"
     ]
    },
    {
     "name": "stdout",
     "output_type": "stream",
     "text": [
      "Accuracy loss: 95.40 | fairness loss 26.43 | Equal Opportunity Disparity = 0.34\n",
      " \n",
      "Avg Training Stats after 58 global rounds:\n",
      "Training loss: 303.92 | Validation accuracy: 55.11% | Validation Equal Opportunity Disparity: 0.3420\n",
      "\n",
      " | Global Training Round : 59 |\n",
      "\n",
      "Accuracy loss: 95.26 | fairness loss 25.50 | Equal Opportunity Disparity = 0.34\n",
      " \n",
      "Avg Training Stats after 59 global rounds:\n",
      "Training loss: 302.71 | Validation accuracy: 55.22% | Validation Equal Opportunity Disparity: 0.3445\n",
      "\n",
      " | Global Training Round : 60 |\n",
      "\n"
     ]
    },
    {
     "name": "stderr",
     "output_type": "stream",
     "text": [
      " 20%|██        | 61/300 [00:09<00:35,  6.72it/s]"
     ]
    },
    {
     "name": "stdout",
     "output_type": "stream",
     "text": [
      "Accuracy loss: 95.14 | fairness loss 25.41 | Equal Opportunity Disparity = 0.35\n",
      " \n",
      "Avg Training Stats after 60 global rounds:\n",
      "Training loss: 301.65 | Validation accuracy: 55.26% | Validation Equal Opportunity Disparity: 0.3457\n",
      "\n",
      " | Global Training Round : 61 |\n",
      "\n",
      "Accuracy loss: 95.01 | fairness loss 24.75 | Equal Opportunity Disparity = 0.35\n",
      " \n",
      "Avg Training Stats after 61 global rounds:\n",
      "Training loss: 300.53 | Validation accuracy: 55.22% | Validation Equal Opportunity Disparity: 0.3470\n",
      "\n",
      " | Global Training Round : 62 |\n",
      "\n"
     ]
    },
    {
     "name": "stderr",
     "output_type": "stream",
     "text": [
      " 21%|██        | 63/300 [00:09<00:34,  6.83it/s]"
     ]
    },
    {
     "name": "stdout",
     "output_type": "stream",
     "text": [
      "Accuracy loss: 94.86 | fairness loss 24.51 | Equal Opportunity Disparity = 0.35\n",
      " \n",
      "Avg Training Stats after 62 global rounds:\n",
      "Training loss: 299.39 | Validation accuracy: 55.33% | Validation Equal Opportunity Disparity: 0.3455\n",
      "\n",
      " | Global Training Round : 63 |\n",
      "\n",
      "Accuracy loss: 94.68 | fairness loss 25.19 | Equal Opportunity Disparity = 0.35\n",
      " \n",
      "Avg Training Stats after 63 global rounds:\n",
      "Training loss: 298.21 | Validation accuracy: 55.26% | Validation Equal Opportunity Disparity: 0.3467\n",
      "\n",
      " | Global Training Round : 64 |\n",
      "\n"
     ]
    },
    {
     "name": "stderr",
     "output_type": "stream",
     "text": [
      " 22%|██▏       | 65/300 [00:09<00:33,  6.94it/s]"
     ]
    },
    {
     "name": "stdout",
     "output_type": "stream",
     "text": [
      "Accuracy loss: 94.55 | fairness loss 23.92 | Equal Opportunity Disparity = 0.35\n",
      " \n",
      "Avg Training Stats after 64 global rounds:\n",
      "Training loss: 297.11 | Validation accuracy: 55.33% | Validation Equal Opportunity Disparity: 0.3486\n",
      "\n",
      " | Global Training Round : 65 |\n",
      "\n",
      "Accuracy loss: 94.40 | fairness loss 24.00 | Equal Opportunity Disparity = 0.35\n",
      " \n",
      "Avg Training Stats after 65 global rounds:\n",
      "Training loss: 295.98 | Validation accuracy: 55.33% | Validation Equal Opportunity Disparity: 0.3470\n",
      "\n",
      " | Global Training Round : 66 |\n",
      "\n"
     ]
    },
    {
     "name": "stderr",
     "output_type": "stream",
     "text": [
      " 22%|██▏       | 67/300 [00:09<00:34,  6.83it/s]"
     ]
    },
    {
     "name": "stdout",
     "output_type": "stream",
     "text": [
      "Accuracy loss: 94.23 | fairness loss 23.58 | Equal Opportunity Disparity = 0.35\n",
      " \n",
      "Avg Training Stats after 66 global rounds:\n",
      "Training loss: 294.83 | Validation accuracy: 55.41% | Validation Equal Opportunity Disparity: 0.3495\n",
      "\n",
      " | Global Training Round : 67 |\n",
      "\n",
      "Accuracy loss: 94.08 | fairness loss 22.91 | Equal Opportunity Disparity = 0.35\n",
      " \n",
      "Avg Training Stats after 67 global rounds:\n",
      "Training loss: 293.73 | Validation accuracy: 55.48% | Validation Equal Opportunity Disparity: 0.3520\n",
      "\n",
      " | Global Training Round : 68 |\n",
      "\n"
     ]
    },
    {
     "name": "stderr",
     "output_type": "stream",
     "text": [
      " 23%|██▎       | 69/300 [00:10<00:34,  6.70it/s]"
     ]
    },
    {
     "name": "stdout",
     "output_type": "stream",
     "text": [
      "Accuracy loss: 93.93 | fairness loss 22.94 | Equal Opportunity Disparity = 0.35\n",
      " \n",
      "Avg Training Stats after 68 global rounds:\n",
      "Training loss: 292.60 | Validation accuracy: 55.44% | Validation Equal Opportunity Disparity: 0.3520\n",
      "\n",
      " | Global Training Round : 69 |\n",
      "\n",
      "Accuracy loss: 93.85 | fairness loss 22.34 | Equal Opportunity Disparity = 0.35\n",
      " \n",
      "Avg Training Stats after 69 global rounds:\n",
      "Training loss: 291.52 | Validation accuracy: 55.44% | Validation Equal Opportunity Disparity: 0.3505\n",
      "\n",
      " | Global Training Round : 70 |\n",
      "\n"
     ]
    },
    {
     "name": "stderr",
     "output_type": "stream",
     "text": [
      " 24%|██▎       | 71/300 [00:10<00:33,  6.83it/s]"
     ]
    },
    {
     "name": "stdout",
     "output_type": "stream",
     "text": [
      "Accuracy loss: 93.71 | fairness loss 21.86 | Equal Opportunity Disparity = 0.35\n",
      " \n",
      "Avg Training Stats after 70 global rounds:\n",
      "Training loss: 290.44 | Validation accuracy: 55.41% | Validation Equal Opportunity Disparity: 0.3511\n",
      "\n",
      " | Global Training Round : 71 |\n",
      "\n",
      "Accuracy loss: 93.56 | fairness loss 22.00 | Equal Opportunity Disparity = 0.35\n",
      " \n",
      "Avg Training Stats after 71 global rounds:\n",
      "Training loss: 289.32 | Validation accuracy: 55.41% | Validation Equal Opportunity Disparity: 0.3517\n",
      "\n",
      " | Global Training Round : 72 |\n",
      "\n"
     ]
    },
    {
     "name": "stderr",
     "output_type": "stream",
     "text": [
      " 24%|██▍       | 73/300 [00:10<00:32,  6.91it/s]"
     ]
    },
    {
     "name": "stdout",
     "output_type": "stream",
     "text": [
      "Accuracy loss: 93.43 | fairness loss 21.96 | Equal Opportunity Disparity = 0.35\n",
      " \n",
      "Avg Training Stats after 72 global rounds:\n",
      "Training loss: 288.30 | Validation accuracy: 55.37% | Validation Equal Opportunity Disparity: 0.3536\n",
      "\n",
      " | Global Training Round : 73 |\n",
      "\n",
      "Accuracy loss: 93.28 | fairness loss 21.46 | Equal Opportunity Disparity = 0.36\n",
      " \n",
      "Avg Training Stats after 73 global rounds:\n",
      "Training loss: 287.19 | Validation accuracy: 55.41% | Validation Equal Opportunity Disparity: 0.3554\n",
      "\n",
      " | Global Training Round : 74 |\n",
      "\n"
     ]
    },
    {
     "name": "stderr",
     "output_type": "stream",
     "text": [
      " 25%|██▌       | 75/300 [00:11<00:32,  6.90it/s]"
     ]
    },
    {
     "name": "stdout",
     "output_type": "stream",
     "text": [
      "Accuracy loss: 93.12 | fairness loss 21.89 | Equal Opportunity Disparity = 0.36\n",
      " \n",
      "Avg Training Stats after 74 global rounds:\n",
      "Training loss: 286.16 | Validation accuracy: 55.52% | Validation Equal Opportunity Disparity: 0.3585\n",
      "\n",
      " | Global Training Round : 75 |\n",
      "\n",
      "Accuracy loss: 92.96 | fairness loss 21.01 | Equal Opportunity Disparity = 0.36\n",
      " \n",
      "Avg Training Stats after 75 global rounds:\n",
      "Training loss: 285.13 | Validation accuracy: 55.48% | Validation Equal Opportunity Disparity: 0.3604\n",
      "\n",
      " | Global Training Round : 76 |\n",
      "\n"
     ]
    },
    {
     "name": "stderr",
     "output_type": "stream",
     "text": [
      " 26%|██▌       | 77/300 [00:11<00:33,  6.75it/s]"
     ]
    },
    {
     "name": "stdout",
     "output_type": "stream",
     "text": [
      "Accuracy loss: 92.83 | fairness loss 20.26 | Equal Opportunity Disparity = 0.36\n",
      " \n",
      "Avg Training Stats after 76 global rounds:\n",
      "Training loss: 284.08 | Validation accuracy: 55.37% | Validation Equal Opportunity Disparity: 0.3610\n",
      "\n",
      " | Global Training Round : 77 |\n",
      "\n",
      "Accuracy loss: 92.71 | fairness loss 20.04 | Equal Opportunity Disparity = 0.36\n",
      " \n",
      "Avg Training Stats after 77 global rounds:\n",
      "Training loss: 283.01 | Validation accuracy: 55.30% | Validation Equal Opportunity Disparity: 0.3616\n",
      "\n",
      " | Global Training Round : 78 |\n",
      "\n"
     ]
    },
    {
     "name": "stderr",
     "output_type": "stream",
     "text": [
      " 26%|██▋       | 79/300 [00:11<00:32,  6.88it/s]"
     ]
    },
    {
     "name": "stdout",
     "output_type": "stream",
     "text": [
      "Accuracy loss: 92.61 | fairness loss 20.00 | Equal Opportunity Disparity = 0.36\n",
      " \n",
      "Avg Training Stats after 78 global rounds:\n",
      "Training loss: 281.95 | Validation accuracy: 55.26% | Validation Equal Opportunity Disparity: 0.3623\n",
      "\n",
      " | Global Training Round : 79 |\n",
      "\n",
      "Accuracy loss: 92.44 | fairness loss 20.06 | Equal Opportunity Disparity = 0.36\n",
      " \n",
      "Avg Training Stats after 79 global rounds:\n",
      "Training loss: 280.93 | Validation accuracy: 55.22% | Validation Equal Opportunity Disparity: 0.3629\n",
      "\n",
      " | Global Training Round : 80 |\n",
      "\n"
     ]
    },
    {
     "name": "stderr",
     "output_type": "stream",
     "text": [
      " 27%|██▋       | 81/300 [00:11<00:32,  6.82it/s]"
     ]
    },
    {
     "name": "stdout",
     "output_type": "stream",
     "text": [
      "Accuracy loss: 92.32 | fairness loss 19.62 | Equal Opportunity Disparity = 0.36\n",
      " \n",
      "Avg Training Stats after 80 global rounds:\n",
      "Training loss: 279.87 | Validation accuracy: 55.22% | Validation Equal Opportunity Disparity: 0.3641\n",
      "\n",
      " | Global Training Round : 81 |\n",
      "\n",
      "Accuracy loss: 92.17 | fairness loss 19.42 | Equal Opportunity Disparity = 0.37\n",
      " \n",
      "Avg Training Stats after 81 global rounds:\n",
      "Training loss: 278.90 | Validation accuracy: 55.26% | Validation Equal Opportunity Disparity: 0.3660\n",
      "\n",
      " | Global Training Round : 82 |\n",
      "\n"
     ]
    },
    {
     "name": "stderr",
     "output_type": "stream",
     "text": [
      " 28%|██▊       | 83/300 [00:12<00:32,  6.71it/s]"
     ]
    },
    {
     "name": "stdout",
     "output_type": "stream",
     "text": [
      "Accuracy loss: 92.03 | fairness loss 19.24 | Equal Opportunity Disparity = 0.37\n",
      " \n",
      "Avg Training Stats after 82 global rounds:\n",
      "Training loss: 277.87 | Validation accuracy: 55.33% | Validation Equal Opportunity Disparity: 0.3678\n",
      "\n",
      " | Global Training Round : 83 |\n",
      "\n",
      "Accuracy loss: 91.86 | fairness loss 18.83 | Equal Opportunity Disparity = 0.37\n",
      " \n",
      "Avg Training Stats after 83 global rounds:\n",
      "Training loss: 276.92 | Validation accuracy: 55.44% | Validation Equal Opportunity Disparity: 0.3675\n",
      "\n",
      " | Global Training Round : 84 |\n",
      "\n"
     ]
    },
    {
     "name": "stderr",
     "output_type": "stream",
     "text": [
      " 28%|██▊       | 85/300 [00:12<00:31,  6.77it/s]"
     ]
    },
    {
     "name": "stdout",
     "output_type": "stream",
     "text": [
      "Accuracy loss: 91.76 | fairness loss 18.44 | Equal Opportunity Disparity = 0.37\n",
      " \n",
      "Avg Training Stats after 84 global rounds:\n",
      "Training loss: 276.03 | Validation accuracy: 55.33% | Validation Equal Opportunity Disparity: 0.3682\n",
      "\n",
      " | Global Training Round : 85 |\n",
      "\n",
      "Accuracy loss: 91.62 | fairness loss 18.22 | Equal Opportunity Disparity = 0.37\n",
      " \n",
      "Avg Training Stats after 85 global rounds:\n",
      "Training loss: 275.03 | Validation accuracy: 55.26% | Validation Equal Opportunity Disparity: 0.3688\n",
      "\n",
      " | Global Training Round : 86 |\n",
      "\n"
     ]
    },
    {
     "name": "stderr",
     "output_type": "stream",
     "text": [
      " 29%|██▉       | 87/300 [00:12<00:31,  6.86it/s]"
     ]
    },
    {
     "name": "stdout",
     "output_type": "stream",
     "text": [
      "Accuracy loss: 91.48 | fairness loss 17.79 | Equal Opportunity Disparity = 0.37\n",
      " \n",
      "Avg Training Stats after 86 global rounds:\n",
      "Training loss: 274.12 | Validation accuracy: 55.26% | Validation Equal Opportunity Disparity: 0.3666\n",
      "\n",
      " | Global Training Round : 87 |\n",
      "\n",
      "Accuracy loss: 91.36 | fairness loss 17.68 | Equal Opportunity Disparity = 0.37\n",
      " \n",
      "Avg Training Stats after 87 global rounds:\n",
      "Training loss: 273.15 | Validation accuracy: 55.37% | Validation Equal Opportunity Disparity: 0.3685\n",
      "\n",
      " | Global Training Round : 88 |\n",
      "\n"
     ]
    },
    {
     "name": "stderr",
     "output_type": "stream",
     "text": [
      " 30%|██▉       | 89/300 [00:13<00:30,  6.88it/s]"
     ]
    },
    {
     "name": "stdout",
     "output_type": "stream",
     "text": [
      "Accuracy loss: 91.23 | fairness loss 18.18 | Equal Opportunity Disparity = 0.37\n",
      " \n",
      "Avg Training Stats after 88 global rounds:\n",
      "Training loss: 272.15 | Validation accuracy: 55.41% | Validation Equal Opportunity Disparity: 0.3676\n",
      "\n",
      " | Global Training Round : 89 |\n",
      "\n",
      "Accuracy loss: 91.08 | fairness loss 17.88 | Equal Opportunity Disparity = 0.37\n",
      " \n",
      "Avg Training Stats after 89 global rounds:\n",
      "Training loss: 271.17 | Validation accuracy: 55.44% | Validation Equal Opportunity Disparity: 0.3695\n",
      "\n",
      " | Global Training Round : 90 |\n",
      "\n"
     ]
    },
    {
     "name": "stderr",
     "output_type": "stream",
     "text": [
      " 30%|███       | 91/300 [00:13<00:30,  6.90it/s]"
     ]
    },
    {
     "name": "stdout",
     "output_type": "stream",
     "text": [
      "Accuracy loss: 90.97 | fairness loss 17.82 | Equal Opportunity Disparity = 0.37\n",
      " \n",
      "Avg Training Stats after 90 global rounds:\n",
      "Training loss: 270.18 | Validation accuracy: 55.44% | Validation Equal Opportunity Disparity: 0.3719\n",
      "\n",
      " | Global Training Round : 91 |\n",
      "\n",
      "Accuracy loss: 90.85 | fairness loss 17.03 | Equal Opportunity Disparity = 0.37\n",
      " \n",
      "Avg Training Stats after 91 global rounds:\n",
      "Training loss: 269.25 | Validation accuracy: 55.48% | Validation Equal Opportunity Disparity: 0.3704\n",
      "\n",
      " | Global Training Round : 92 |\n",
      "\n"
     ]
    },
    {
     "name": "stderr",
     "output_type": "stream",
     "text": [
      " 31%|███       | 93/300 [00:13<00:30,  6.87it/s]"
     ]
    },
    {
     "name": "stdout",
     "output_type": "stream",
     "text": [
      "Accuracy loss: 90.70 | fairness loss 16.85 | Equal Opportunity Disparity = 0.37\n",
      " \n",
      "Avg Training Stats after 92 global rounds:\n",
      "Training loss: 268.33 | Validation accuracy: 55.52% | Validation Equal Opportunity Disparity: 0.3729\n",
      "\n",
      " | Global Training Round : 93 |\n",
      "\n",
      "Accuracy loss: 90.59 | fairness loss 16.73 | Equal Opportunity Disparity = 0.37\n",
      " \n",
      "Avg Training Stats after 93 global rounds:\n",
      "Training loss: 267.40 | Validation accuracy: 55.56% | Validation Equal Opportunity Disparity: 0.3701\n",
      "\n",
      " | Global Training Round : 94 |\n",
      "\n"
     ]
    },
    {
     "name": "stderr",
     "output_type": "stream",
     "text": [
      " 32%|███▏      | 95/300 [00:14<00:29,  6.89it/s]"
     ]
    },
    {
     "name": "stdout",
     "output_type": "stream",
     "text": [
      "Accuracy loss: 90.45 | fairness loss 16.24 | Equal Opportunity Disparity = 0.37\n",
      " \n",
      "Avg Training Stats after 94 global rounds:\n",
      "Training loss: 266.45 | Validation accuracy: 55.63% | Validation Equal Opportunity Disparity: 0.3720\n",
      "\n",
      " | Global Training Round : 95 |\n",
      "\n",
      "Accuracy loss: 90.32 | fairness loss 16.47 | Equal Opportunity Disparity = 0.37\n",
      " \n",
      "Avg Training Stats after 95 global rounds:\n",
      "Training loss: 265.49 | Validation accuracy: 55.78% | Validation Equal Opportunity Disparity: 0.3711\n",
      "\n",
      " | Global Training Round : 96 |\n",
      "\n"
     ]
    },
    {
     "name": "stderr",
     "output_type": "stream",
     "text": [
      " 32%|███▏      | 97/300 [00:14<00:29,  6.90it/s]"
     ]
    },
    {
     "name": "stdout",
     "output_type": "stream",
     "text": [
      "Accuracy loss: 90.15 | fairness loss 15.87 | Equal Opportunity Disparity = 0.37\n",
      " \n",
      "Avg Training Stats after 96 global rounds:\n",
      "Training loss: 264.57 | Validation accuracy: 55.81% | Validation Equal Opportunity Disparity: 0.3729\n",
      "\n",
      " | Global Training Round : 97 |\n",
      "\n",
      "Accuracy loss: 90.06 | fairness loss 15.78 | Equal Opportunity Disparity = 0.37\n",
      " \n",
      "Avg Training Stats after 97 global rounds:\n",
      "Training loss: 263.65 | Validation accuracy: 55.78% | Validation Equal Opportunity Disparity: 0.3702\n",
      "\n",
      " | Global Training Round : 98 |\n",
      "\n"
     ]
    },
    {
     "name": "stderr",
     "output_type": "stream",
     "text": [
      " 33%|███▎      | 99/300 [00:14<00:29,  6.91it/s]"
     ]
    },
    {
     "name": "stdout",
     "output_type": "stream",
     "text": [
      "Accuracy loss: 89.92 | fairness loss 15.28 | Equal Opportunity Disparity = 0.37\n",
      " \n",
      "Avg Training Stats after 98 global rounds:\n",
      "Training loss: 262.73 | Validation accuracy: 55.85% | Validation Equal Opportunity Disparity: 0.3693\n",
      "\n",
      " | Global Training Round : 99 |\n",
      "\n",
      "Accuracy loss: 89.79 | fairness loss 15.49 | Equal Opportunity Disparity = 0.37\n",
      " \n",
      "Avg Training Stats after 99 global rounds:\n",
      "Training loss: 261.83 | Validation accuracy: 55.85% | Validation Equal Opportunity Disparity: 0.3711\n",
      "\n",
      " | Global Training Round : 100 |\n",
      "\n"
     ]
    },
    {
     "name": "stderr",
     "output_type": "stream",
     "text": [
      " 34%|███▎      | 101/300 [00:14<00:28,  6.90it/s]"
     ]
    },
    {
     "name": "stdout",
     "output_type": "stream",
     "text": [
      "Accuracy loss: 89.67 | fairness loss 15.58 | Equal Opportunity Disparity = 0.37\n",
      " \n",
      "Avg Training Stats after 100 global rounds:\n",
      "Training loss: 260.94 | Validation accuracy: 55.89% | Validation Equal Opportunity Disparity: 0.3736\n",
      "\n",
      " | Global Training Round : 101 |\n",
      "\n",
      "Accuracy loss: 89.57 | fairness loss 14.86 | Equal Opportunity Disparity = 0.37\n",
      " \n",
      "Avg Training Stats after 101 global rounds:\n",
      "Training loss: 260.05 | Validation accuracy: 55.93% | Validation Equal Opportunity Disparity: 0.3714\n",
      "\n",
      " | Global Training Round : 102 |\n",
      "\n"
     ]
    },
    {
     "name": "stderr",
     "output_type": "stream",
     "text": [
      " 34%|███▍      | 103/300 [00:15<00:28,  6.90it/s]"
     ]
    },
    {
     "name": "stdout",
     "output_type": "stream",
     "text": [
      "Accuracy loss: 89.44 | fairness loss 14.79 | Equal Opportunity Disparity = 0.37\n",
      " \n",
      "Avg Training Stats after 102 global rounds:\n",
      "Training loss: 259.18 | Validation accuracy: 55.96% | Validation Equal Opportunity Disparity: 0.3739\n",
      "\n",
      " | Global Training Round : 103 |\n",
      "\n",
      "Accuracy loss: 89.32 | fairness loss 14.47 | Equal Opportunity Disparity = 0.37\n",
      " \n",
      "Avg Training Stats after 103 global rounds:\n",
      "Training loss: 258.30 | Validation accuracy: 55.85% | Validation Equal Opportunity Disparity: 0.3739\n",
      "\n",
      " | Global Training Round : 104 |\n",
      "\n"
     ]
    },
    {
     "name": "stderr",
     "output_type": "stream",
     "text": [
      " 35%|███▌      | 105/300 [00:15<00:28,  6.91it/s]"
     ]
    },
    {
     "name": "stdout",
     "output_type": "stream",
     "text": [
      "Accuracy loss: 89.18 | fairness loss 14.47 | Equal Opportunity Disparity = 0.38\n",
      " \n",
      "Avg Training Stats after 104 global rounds:\n",
      "Training loss: 257.43 | Validation accuracy: 55.93% | Validation Equal Opportunity Disparity: 0.3764\n",
      "\n",
      " | Global Training Round : 105 |\n",
      "\n",
      "Accuracy loss: 89.03 | fairness loss 14.44 | Equal Opportunity Disparity = 0.38\n",
      " \n",
      "Avg Training Stats after 105 global rounds:\n",
      "Training loss: 256.56 | Validation accuracy: 56.07% | Validation Equal Opportunity Disparity: 0.3808\n",
      "\n",
      " | Global Training Round : 106 |\n",
      "\n"
     ]
    },
    {
     "name": "stderr",
     "output_type": "stream",
     "text": [
      " 36%|███▌      | 107/300 [00:15<00:28,  6.68it/s]"
     ]
    },
    {
     "name": "stdout",
     "output_type": "stream",
     "text": [
      "Accuracy loss: 88.89 | fairness loss 14.04 | Equal Opportunity Disparity = 0.38\n",
      " \n",
      "Avg Training Stats after 106 global rounds:\n",
      "Training loss: 255.70 | Validation accuracy: 56.11% | Validation Equal Opportunity Disparity: 0.3826\n",
      "\n",
      " | Global Training Round : 107 |\n",
      "\n",
      "Accuracy loss: 88.78 | fairness loss 13.83 | Equal Opportunity Disparity = 0.39\n",
      " \n",
      "Avg Training Stats after 107 global rounds:\n",
      "Training loss: 254.83 | Validation accuracy: 56.37% | Validation Equal Opportunity Disparity: 0.3870\n",
      "\n",
      " | Global Training Round : 108 |\n",
      "\n"
     ]
    },
    {
     "name": "stderr",
     "output_type": "stream",
     "text": [
      " 36%|███▋      | 109/300 [00:16<00:28,  6.80it/s]"
     ]
    },
    {
     "name": "stdout",
     "output_type": "stream",
     "text": [
      "Accuracy loss: 88.62 | fairness loss 13.87 | Equal Opportunity Disparity = 0.39\n",
      " \n",
      "Avg Training Stats after 108 global rounds:\n",
      "Training loss: 253.99 | Validation accuracy: 56.41% | Validation Equal Opportunity Disparity: 0.3888\n",
      "\n",
      " | Global Training Round : 109 |\n",
      "\n",
      "Accuracy loss: 88.51 | fairness loss 13.43 | Equal Opportunity Disparity = 0.39\n",
      " \n",
      "Avg Training Stats after 109 global rounds:\n",
      "Training loss: 253.15 | Validation accuracy: 56.56% | Validation Equal Opportunity Disparity: 0.3891\n",
      "\n",
      " | Global Training Round : 110 |\n",
      "\n"
     ]
    },
    {
     "name": "stderr",
     "output_type": "stream",
     "text": [
      " 37%|███▋      | 111/300 [00:16<00:29,  6.42it/s]"
     ]
    },
    {
     "name": "stdout",
     "output_type": "stream",
     "text": [
      "Accuracy loss: 88.37 | fairness loss 13.28 | Equal Opportunity Disparity = 0.39\n",
      " \n",
      "Avg Training Stats after 110 global rounds:\n",
      "Training loss: 252.31 | Validation accuracy: 56.59% | Validation Equal Opportunity Disparity: 0.3904\n",
      "\n",
      " | Global Training Round : 111 |\n",
      "\n",
      "Accuracy loss: 88.26 | fairness loss 13.01 | Equal Opportunity Disparity = 0.39\n",
      " \n",
      "Avg Training Stats after 111 global rounds:\n",
      "Training loss: 251.49 | Validation accuracy: 56.56% | Validation Equal Opportunity Disparity: 0.3923\n",
      "\n",
      " | Global Training Round : 112 |\n",
      "\n"
     ]
    },
    {
     "name": "stderr",
     "output_type": "stream",
     "text": [
      " 38%|███▊      | 113/300 [00:16<00:28,  6.65it/s]"
     ]
    },
    {
     "name": "stdout",
     "output_type": "stream",
     "text": [
      "Accuracy loss: 88.14 | fairness loss 12.61 | Equal Opportunity Disparity = 0.39\n",
      " \n",
      "Avg Training Stats after 112 global rounds:\n",
      "Training loss: 250.65 | Validation accuracy: 56.37% | Validation Equal Opportunity Disparity: 0.3923\n",
      "\n",
      " | Global Training Round : 113 |\n",
      "\n",
      "Accuracy loss: 87.98 | fairness loss 12.62 | Equal Opportunity Disparity = 0.39\n",
      " \n",
      "Avg Training Stats after 113 global rounds:\n",
      "Training loss: 249.81 | Validation accuracy: 56.48% | Validation Equal Opportunity Disparity: 0.3920\n",
      "\n",
      " | Global Training Round : 114 |\n",
      "\n"
     ]
    },
    {
     "name": "stderr",
     "output_type": "stream",
     "text": [
      " 38%|███▊      | 115/300 [00:17<00:27,  6.78it/s]"
     ]
    },
    {
     "name": "stdout",
     "output_type": "stream",
     "text": [
      "Accuracy loss: 87.85 | fairness loss 12.81 | Equal Opportunity Disparity = 0.39\n",
      " \n",
      "Avg Training Stats after 114 global rounds:\n",
      "Training loss: 249.02 | Validation accuracy: 56.41% | Validation Equal Opportunity Disparity: 0.3892\n",
      "\n",
      " | Global Training Round : 115 |\n",
      "\n",
      "Accuracy loss: 87.75 | fairness loss 12.13 | Equal Opportunity Disparity = 0.39\n",
      " \n",
      "Avg Training Stats after 115 global rounds:\n",
      "Training loss: 248.22 | Validation accuracy: 56.33% | Validation Equal Opportunity Disparity: 0.3904\n",
      "\n",
      " | Global Training Round : 116 |\n",
      "\n"
     ]
    },
    {
     "name": "stderr",
     "output_type": "stream",
     "text": [
      " 39%|███▉      | 117/300 [00:17<00:27,  6.66it/s]"
     ]
    },
    {
     "name": "stdout",
     "output_type": "stream",
     "text": [
      "Accuracy loss: 87.62 | fairness loss 12.08 | Equal Opportunity Disparity = 0.39\n",
      " \n",
      "Avg Training Stats after 116 global rounds:\n",
      "Training loss: 247.40 | Validation accuracy: 56.44% | Validation Equal Opportunity Disparity: 0.3895\n",
      "\n",
      " | Global Training Round : 117 |\n",
      "\n",
      "Accuracy loss: 87.48 | fairness loss 12.29 | Equal Opportunity Disparity = 0.39\n",
      " \n",
      "Avg Training Stats after 117 global rounds:\n",
      "Training loss: 246.58 | Validation accuracy: 56.56% | Validation Equal Opportunity Disparity: 0.3914\n",
      "\n",
      " | Global Training Round : 118 |\n",
      "\n"
     ]
    },
    {
     "name": "stderr",
     "output_type": "stream",
     "text": [
      " 40%|███▉      | 119/300 [00:17<00:27,  6.59it/s]"
     ]
    },
    {
     "name": "stdout",
     "output_type": "stream",
     "text": [
      "Accuracy loss: 87.36 | fairness loss 11.75 | Equal Opportunity Disparity = 0.39\n",
      " \n",
      "Avg Training Stats after 118 global rounds:\n",
      "Training loss: 245.78 | Validation accuracy: 56.48% | Validation Equal Opportunity Disparity: 0.3899\n",
      "\n",
      " | Global Training Round : 119 |\n",
      "\n",
      "Accuracy loss: 87.22 | fairness loss 11.73 | Equal Opportunity Disparity = 0.39\n",
      " \n",
      "Avg Training Stats after 119 global rounds:\n",
      "Training loss: 244.98 | Validation accuracy: 56.56% | Validation Equal Opportunity Disparity: 0.3923\n",
      "\n",
      " | Global Training Round : 120 |\n",
      "\n"
     ]
    },
    {
     "name": "stderr",
     "output_type": "stream",
     "text": [
      " 40%|████      | 121/300 [00:17<00:27,  6.62it/s]"
     ]
    },
    {
     "name": "stdout",
     "output_type": "stream",
     "text": [
      "Accuracy loss: 87.10 | fairness loss 11.36 | Equal Opportunity Disparity = 0.39\n",
      " \n",
      "Avg Training Stats after 120 global rounds:\n",
      "Training loss: 244.21 | Validation accuracy: 56.63% | Validation Equal Opportunity Disparity: 0.3936\n",
      "\n",
      " | Global Training Round : 121 |\n",
      "\n",
      "Accuracy loss: 86.99 | fairness loss 11.32 | Equal Opportunity Disparity = 0.39\n",
      " \n",
      "Avg Training Stats after 121 global rounds:\n",
      "Training loss: 243.46 | Validation accuracy: 56.59% | Validation Equal Opportunity Disparity: 0.3948\n",
      "\n",
      " | Global Training Round : 122 |\n",
      "\n"
     ]
    },
    {
     "name": "stderr",
     "output_type": "stream",
     "text": [
      " 41%|████      | 123/300 [00:18<00:26,  6.64it/s]"
     ]
    },
    {
     "name": "stdout",
     "output_type": "stream",
     "text": [
      "Accuracy loss: 86.89 | fairness loss 11.78 | Equal Opportunity Disparity = 0.40\n",
      " \n",
      "Avg Training Stats after 122 global rounds:\n",
      "Training loss: 242.69 | Validation accuracy: 56.59% | Validation Equal Opportunity Disparity: 0.3967\n",
      "\n",
      " | Global Training Round : 123 |\n",
      "\n",
      "Accuracy loss: 86.76 | fairness loss 11.12 | Equal Opportunity Disparity = 0.40\n",
      " \n",
      "Avg Training Stats after 123 global rounds:\n",
      "Training loss: 241.92 | Validation accuracy: 56.52% | Validation Equal Opportunity Disparity: 0.3973\n",
      "\n",
      " | Global Training Round : 124 |\n",
      "\n"
     ]
    },
    {
     "name": "stderr",
     "output_type": "stream",
     "text": [
      " 42%|████▏     | 125/300 [00:18<00:26,  6.69it/s]"
     ]
    },
    {
     "name": "stdout",
     "output_type": "stream",
     "text": [
      "Accuracy loss: 86.66 | fairness loss 10.97 | Equal Opportunity Disparity = 0.40\n",
      " \n",
      "Avg Training Stats after 124 global rounds:\n",
      "Training loss: 241.18 | Validation accuracy: 56.56% | Validation Equal Opportunity Disparity: 0.3985\n",
      "\n",
      " | Global Training Round : 125 |\n",
      "\n",
      "Accuracy loss: 86.59 | fairness loss 11.25 | Equal Opportunity Disparity = 0.40\n",
      " \n",
      "Avg Training Stats after 125 global rounds:\n",
      "Training loss: 240.43 | Validation accuracy: 56.63% | Validation Equal Opportunity Disparity: 0.4004\n",
      "\n",
      " | Global Training Round : 126 |\n",
      "\n"
     ]
    },
    {
     "name": "stderr",
     "output_type": "stream",
     "text": [
      " 42%|████▏     | 127/300 [00:18<00:25,  6.83it/s]"
     ]
    },
    {
     "name": "stdout",
     "output_type": "stream",
     "text": [
      "Accuracy loss: 86.48 | fairness loss 10.67 | Equal Opportunity Disparity = 0.40\n",
      " \n",
      "Avg Training Stats after 126 global rounds:\n",
      "Training loss: 239.68 | Validation accuracy: 56.78% | Validation Equal Opportunity Disparity: 0.3967\n",
      "\n",
      " | Global Training Round : 127 |\n",
      "\n",
      "Accuracy loss: 86.36 | fairness loss 10.57 | Equal Opportunity Disparity = 0.40\n",
      " \n",
      "Avg Training Stats after 127 global rounds:\n",
      "Training loss: 238.95 | Validation accuracy: 56.96% | Validation Equal Opportunity Disparity: 0.3998\n",
      "\n",
      " | Global Training Round : 128 |\n",
      "\n"
     ]
    },
    {
     "name": "stderr",
     "output_type": "stream",
     "text": [
      " 43%|████▎     | 129/300 [00:19<00:24,  6.87it/s]"
     ]
    },
    {
     "name": "stdout",
     "output_type": "stream",
     "text": [
      "Accuracy loss: 86.25 | fairness loss 10.38 | Equal Opportunity Disparity = 0.40\n",
      " \n",
      "Avg Training Stats after 128 global rounds:\n",
      "Training loss: 238.21 | Validation accuracy: 57.07% | Validation Equal Opportunity Disparity: 0.4017\n",
      "\n",
      " | Global Training Round : 129 |\n",
      "\n",
      "Accuracy loss: 86.13 | fairness loss 10.16 | Equal Opportunity Disparity = 0.40\n",
      " \n",
      "Avg Training Stats after 129 global rounds:\n",
      "Training loss: 237.45 | Validation accuracy: 57.11% | Validation Equal Opportunity Disparity: 0.4008\n",
      "\n",
      " | Global Training Round : 130 |\n",
      "\n"
     ]
    },
    {
     "name": "stderr",
     "output_type": "stream",
     "text": [
      " 44%|████▎     | 131/300 [00:19<00:24,  6.88it/s]"
     ]
    },
    {
     "name": "stdout",
     "output_type": "stream",
     "text": [
      "Accuracy loss: 86.03 | fairness loss 9.95 | Equal Opportunity Disparity = 0.40\n",
      " \n",
      "Avg Training Stats after 130 global rounds:\n",
      "Training loss: 236.73 | Validation accuracy: 57.07% | Validation Equal Opportunity Disparity: 0.3993\n",
      "\n",
      " | Global Training Round : 131 |\n",
      "\n",
      "Accuracy loss: 85.90 | fairness loss 10.05 | Equal Opportunity Disparity = 0.40\n",
      " \n",
      "Avg Training Stats after 131 global rounds:\n",
      "Training loss: 236.00 | Validation accuracy: 57.26% | Validation Equal Opportunity Disparity: 0.3968\n",
      "\n",
      " | Global Training Round : 132 |\n",
      "\n"
     ]
    },
    {
     "name": "stderr",
     "output_type": "stream",
     "text": [
      " 44%|████▍     | 133/300 [00:19<00:25,  6.65it/s]"
     ]
    },
    {
     "name": "stdout",
     "output_type": "stream",
     "text": [
      "Accuracy loss: 85.78 | fairness loss 9.77 | Equal Opportunity Disparity = 0.40\n",
      " \n",
      "Avg Training Stats after 132 global rounds:\n",
      "Training loss: 235.29 | Validation accuracy: 57.33% | Validation Equal Opportunity Disparity: 0.3987\n",
      "\n",
      " | Global Training Round : 133 |\n",
      "\n",
      "Accuracy loss: 85.64 | fairness loss 9.72 | Equal Opportunity Disparity = 0.40\n",
      " \n",
      "Avg Training Stats after 133 global rounds:\n",
      "Training loss: 234.57 | Validation accuracy: 57.70% | Validation Equal Opportunity Disparity: 0.4021\n",
      "\n",
      " | Global Training Round : 134 |\n",
      "\n"
     ]
    },
    {
     "name": "stderr",
     "output_type": "stream",
     "text": [
      " 45%|████▌     | 135/300 [00:19<00:24,  6.77it/s]"
     ]
    },
    {
     "name": "stdout",
     "output_type": "stream",
     "text": [
      "Accuracy loss: 85.53 | fairness loss 9.48 | Equal Opportunity Disparity = 0.40\n",
      " \n",
      "Avg Training Stats after 134 global rounds:\n",
      "Training loss: 233.86 | Validation accuracy: 57.81% | Validation Equal Opportunity Disparity: 0.3972\n",
      "\n",
      " | Global Training Round : 135 |\n",
      "\n",
      "Accuracy loss: 85.40 | fairness loss 9.60 | Equal Opportunity Disparity = 0.39\n",
      " \n",
      "Avg Training Stats after 135 global rounds:\n",
      "Training loss: 233.13 | Validation accuracy: 57.96% | Validation Equal Opportunity Disparity: 0.3929\n",
      "\n",
      " | Global Training Round : 136 |\n",
      "\n"
     ]
    },
    {
     "name": "stderr",
     "output_type": "stream",
     "text": [
      " 46%|████▌     | 137/300 [00:20<00:23,  6.88it/s]"
     ]
    },
    {
     "name": "stdout",
     "output_type": "stream",
     "text": [
      "Accuracy loss: 85.27 | fairness loss 9.34 | Equal Opportunity Disparity = 0.39\n",
      " \n",
      "Avg Training Stats after 136 global rounds:\n",
      "Training loss: 232.44 | Validation accuracy: 58.07% | Validation Equal Opportunity Disparity: 0.3926\n",
      "\n",
      " | Global Training Round : 137 |\n",
      "\n",
      "Accuracy loss: 85.16 | fairness loss 8.97 | Equal Opportunity Disparity = 0.39\n",
      " \n",
      "Avg Training Stats after 137 global rounds:\n",
      "Training loss: 231.74 | Validation accuracy: 57.96% | Validation Equal Opportunity Disparity: 0.3926\n",
      "\n",
      " | Global Training Round : 138 |\n",
      "\n"
     ]
    },
    {
     "name": "stderr",
     "output_type": "stream",
     "text": [
      " 46%|████▋     | 139/300 [00:20<00:23,  6.95it/s]"
     ]
    },
    {
     "name": "stdout",
     "output_type": "stream",
     "text": [
      "Accuracy loss: 85.01 | fairness loss 8.90 | Equal Opportunity Disparity = 0.40\n",
      " \n",
      "Avg Training Stats after 138 global rounds:\n",
      "Training loss: 231.05 | Validation accuracy: 58.11% | Validation Equal Opportunity Disparity: 0.3951\n",
      "\n",
      " | Global Training Round : 139 |\n",
      "\n",
      "Accuracy loss: 84.89 | fairness loss 8.99 | Equal Opportunity Disparity = 0.40\n",
      " \n",
      "Avg Training Stats after 139 global rounds:\n",
      "Training loss: 230.34 | Validation accuracy: 58.22% | Validation Equal Opportunity Disparity: 0.3969\n",
      "\n",
      " | Global Training Round : 140 |\n",
      "\n"
     ]
    },
    {
     "name": "stderr",
     "output_type": "stream",
     "text": [
      " 47%|████▋     | 141/300 [00:20<00:22,  6.98it/s]"
     ]
    },
    {
     "name": "stdout",
     "output_type": "stream",
     "text": [
      "Accuracy loss: 84.72 | fairness loss 8.96 | Equal Opportunity Disparity = 0.40\n",
      " \n",
      "Avg Training Stats after 140 global rounds:\n",
      "Training loss: 229.64 | Validation accuracy: 58.41% | Validation Equal Opportunity Disparity: 0.3973\n",
      "\n",
      " | Global Training Round : 141 |\n",
      "\n",
      "Accuracy loss: 84.59 | fairness loss 8.43 | Equal Opportunity Disparity = 0.40\n",
      " \n",
      "Avg Training Stats after 141 global rounds:\n",
      "Training loss: 228.96 | Validation accuracy: 58.33% | Validation Equal Opportunity Disparity: 0.3979\n",
      "\n",
      " | Global Training Round : 142 |\n",
      "\n"
     ]
    },
    {
     "name": "stderr",
     "output_type": "stream",
     "text": [
      " 48%|████▊     | 143/300 [00:21<00:22,  6.99it/s]"
     ]
    },
    {
     "name": "stdout",
     "output_type": "stream",
     "text": [
      "Accuracy loss: 84.49 | fairness loss 8.65 | Equal Opportunity Disparity = 0.40\n",
      " \n",
      "Avg Training Stats after 142 global rounds:\n",
      "Training loss: 228.27 | Validation accuracy: 58.33% | Validation Equal Opportunity Disparity: 0.3991\n",
      "\n",
      " | Global Training Round : 143 |\n",
      "\n",
      "Accuracy loss: 84.33 | fairness loss 8.41 | Equal Opportunity Disparity = 0.40\n",
      " \n",
      "Avg Training Stats after 143 global rounds:\n",
      "Training loss: 227.61 | Validation accuracy: 58.52% | Validation Equal Opportunity Disparity: 0.3982\n",
      "\n",
      " | Global Training Round : 144 |\n",
      "\n"
     ]
    },
    {
     "name": "stderr",
     "output_type": "stream",
     "text": [
      " 48%|████▊     | 145/300 [00:21<00:22,  6.98it/s]"
     ]
    },
    {
     "name": "stdout",
     "output_type": "stream",
     "text": [
      "Accuracy loss: 84.23 | fairness loss 8.44 | Equal Opportunity Disparity = 0.40\n",
      " \n",
      "Avg Training Stats after 144 global rounds:\n",
      "Training loss: 226.93 | Validation accuracy: 58.52% | Validation Equal Opportunity Disparity: 0.4007\n",
      "\n",
      " | Global Training Round : 145 |\n",
      "\n",
      "Accuracy loss: 84.08 | fairness loss 8.15 | Equal Opportunity Disparity = 0.39\n",
      " \n",
      "Avg Training Stats after 145 global rounds:\n",
      "Training loss: 226.26 | Validation accuracy: 58.70% | Validation Equal Opportunity Disparity: 0.3936\n",
      "\n",
      " | Global Training Round : 146 |\n",
      "\n"
     ]
    },
    {
     "name": "stderr",
     "output_type": "stream",
     "text": [
      " 49%|████▉     | 147/300 [00:21<00:21,  7.02it/s]"
     ]
    },
    {
     "name": "stdout",
     "output_type": "stream",
     "text": [
      "Accuracy loss: 83.96 | fairness loss 8.19 | Equal Opportunity Disparity = 0.40\n",
      " \n",
      "Avg Training Stats after 146 global rounds:\n",
      "Training loss: 225.60 | Validation accuracy: 58.81% | Validation Equal Opportunity Disparity: 0.3955\n",
      "\n",
      " | Global Training Round : 147 |\n",
      "\n",
      "Accuracy loss: 83.85 | fairness loss 7.89 | Equal Opportunity Disparity = 0.40\n",
      " \n",
      "Avg Training Stats after 147 global rounds:\n",
      "Training loss: 224.93 | Validation accuracy: 59.00% | Validation Equal Opportunity Disparity: 0.3952\n",
      "\n",
      " | Global Training Round : 148 |\n",
      "\n"
     ]
    },
    {
     "name": "stderr",
     "output_type": "stream",
     "text": [
      " 50%|████▉     | 149/300 [00:21<00:21,  7.04it/s]"
     ]
    },
    {
     "name": "stdout",
     "output_type": "stream",
     "text": [
      "Accuracy loss: 83.72 | fairness loss 8.18 | Equal Opportunity Disparity = 0.39\n",
      " \n",
      "Avg Training Stats after 148 global rounds:\n",
      "Training loss: 224.27 | Validation accuracy: 59.15% | Validation Equal Opportunity Disparity: 0.3922\n",
      "\n",
      " | Global Training Round : 149 |\n",
      "\n",
      "Accuracy loss: 83.60 | fairness loss 7.75 | Equal Opportunity Disparity = 0.39\n",
      " \n",
      "Avg Training Stats after 149 global rounds:\n",
      "Training loss: 223.61 | Validation accuracy: 59.26% | Validation Equal Opportunity Disparity: 0.3906\n",
      "\n",
      " | Global Training Round : 150 |\n",
      "\n"
     ]
    },
    {
     "name": "stderr",
     "output_type": "stream",
     "text": [
      " 50%|█████     | 151/300 [00:22<00:21,  7.03it/s]"
     ]
    },
    {
     "name": "stdout",
     "output_type": "stream",
     "text": [
      "Accuracy loss: 83.45 | fairness loss 7.66 | Equal Opportunity Disparity = 0.39\n",
      " \n",
      "Avg Training Stats after 150 global rounds:\n",
      "Training loss: 222.97 | Validation accuracy: 59.48% | Validation Equal Opportunity Disparity: 0.3944\n",
      "\n",
      " | Global Training Round : 151 |\n",
      "\n",
      "Accuracy loss: 83.34 | fairness loss 7.41 | Equal Opportunity Disparity = 0.40\n",
      " \n",
      "Avg Training Stats after 151 global rounds:\n",
      "Training loss: 222.33 | Validation accuracy: 59.59% | Validation Equal Opportunity Disparity: 0.3962\n",
      "\n",
      " | Global Training Round : 152 |\n",
      "\n"
     ]
    },
    {
     "name": "stderr",
     "output_type": "stream",
     "text": [
      " 51%|█████     | 153/300 [00:22<00:20,  7.02it/s]"
     ]
    },
    {
     "name": "stdout",
     "output_type": "stream",
     "text": [
      "Accuracy loss: 83.25 | fairness loss 7.61 | Equal Opportunity Disparity = 0.40\n",
      " \n",
      "Avg Training Stats after 152 global rounds:\n",
      "Training loss: 221.69 | Validation accuracy: 59.78% | Validation Equal Opportunity Disparity: 0.3972\n",
      "\n",
      " | Global Training Round : 153 |\n",
      "\n",
      "Accuracy loss: 83.13 | fairness loss 7.50 | Equal Opportunity Disparity = 0.40\n",
      " \n",
      "Avg Training Stats after 153 global rounds:\n",
      "Training loss: 221.05 | Validation accuracy: 59.78% | Validation Equal Opportunity Disparity: 0.3972\n",
      "\n",
      " | Global Training Round : 154 |\n",
      "\n"
     ]
    },
    {
     "name": "stderr",
     "output_type": "stream",
     "text": [
      " 52%|█████▏    | 155/300 [00:22<00:20,  7.00it/s]"
     ]
    },
    {
     "name": "stdout",
     "output_type": "stream",
     "text": [
      "Accuracy loss: 82.97 | fairness loss 7.30 | Equal Opportunity Disparity = 0.39\n",
      " \n",
      "Avg Training Stats after 154 global rounds:\n",
      "Training loss: 220.42 | Validation accuracy: 59.89% | Validation Equal Opportunity Disparity: 0.3929\n",
      "\n",
      " | Global Training Round : 155 |\n",
      "\n",
      "Accuracy loss: 82.86 | fairness loss 7.08 | Equal Opportunity Disparity = 0.39\n",
      " \n",
      "Avg Training Stats after 155 global rounds:\n",
      "Training loss: 219.78 | Validation accuracy: 59.85% | Validation Equal Opportunity Disparity: 0.3935\n",
      "\n",
      " | Global Training Round : 156 |\n",
      "\n"
     ]
    },
    {
     "name": "stderr",
     "output_type": "stream",
     "text": [
      " 52%|█████▏    | 157/300 [00:23<00:20,  6.99it/s]"
     ]
    },
    {
     "name": "stdout",
     "output_type": "stream",
     "text": [
      "Accuracy loss: 82.75 | fairness loss 7.14 | Equal Opportunity Disparity = 0.40\n",
      " \n",
      "Avg Training Stats after 156 global rounds:\n",
      "Training loss: 219.16 | Validation accuracy: 59.96% | Validation Equal Opportunity Disparity: 0.3954\n",
      "\n",
      " | Global Training Round : 157 |\n",
      "\n",
      "Accuracy loss: 82.63 | fairness loss 6.87 | Equal Opportunity Disparity = 0.39\n",
      " \n",
      "Avg Training Stats after 157 global rounds:\n",
      "Training loss: 218.53 | Validation accuracy: 60.22% | Validation Equal Opportunity Disparity: 0.3911\n",
      "\n",
      " | Global Training Round : 158 |\n",
      "\n"
     ]
    },
    {
     "name": "stderr",
     "output_type": "stream",
     "text": [
      " 53%|█████▎    | 159/300 [00:23<00:20,  6.98it/s]"
     ]
    },
    {
     "name": "stdout",
     "output_type": "stream",
     "text": [
      "Accuracy loss: 82.48 | fairness loss 6.81 | Equal Opportunity Disparity = 0.39\n",
      " \n",
      "Avg Training Stats after 158 global rounds:\n",
      "Training loss: 217.91 | Validation accuracy: 60.26% | Validation Equal Opportunity Disparity: 0.3917\n",
      "\n",
      " | Global Training Round : 159 |\n",
      "\n",
      "Accuracy loss: 82.37 | fairness loss 6.66 | Equal Opportunity Disparity = 0.39\n",
      " \n",
      "Avg Training Stats after 159 global rounds:\n",
      "Training loss: 217.30 | Validation accuracy: 60.59% | Validation Equal Opportunity Disparity: 0.3877\n",
      "\n",
      " | Global Training Round : 160 |\n",
      "\n"
     ]
    },
    {
     "name": "stderr",
     "output_type": "stream",
     "text": [
      " 54%|█████▎    | 161/300 [00:23<00:19,  6.96it/s]"
     ]
    },
    {
     "name": "stdout",
     "output_type": "stream",
     "text": [
      "Accuracy loss: 82.27 | fairness loss 6.62 | Equal Opportunity Disparity = 0.39\n",
      " \n",
      "Avg Training Stats after 160 global rounds:\n",
      "Training loss: 216.68 | Validation accuracy: 60.70% | Validation Equal Opportunity Disparity: 0.3874\n",
      "\n",
      " | Global Training Round : 161 |\n",
      "\n",
      "Accuracy loss: 82.13 | fairness loss 6.56 | Equal Opportunity Disparity = 0.39\n",
      " \n",
      "Avg Training Stats after 161 global rounds:\n",
      "Training loss: 216.08 | Validation accuracy: 60.78% | Validation Equal Opportunity Disparity: 0.3865\n",
      "\n",
      " | Global Training Round : 162 |\n",
      "\n"
     ]
    },
    {
     "name": "stderr",
     "output_type": "stream",
     "text": [
      " 54%|█████▍    | 163/300 [00:23<00:19,  6.96it/s]"
     ]
    },
    {
     "name": "stdout",
     "output_type": "stream",
     "text": [
      "Accuracy loss: 82.02 | fairness loss 6.48 | Equal Opportunity Disparity = 0.38\n",
      " \n",
      "Avg Training Stats after 162 global rounds:\n",
      "Training loss: 215.48 | Validation accuracy: 60.89% | Validation Equal Opportunity Disparity: 0.3828\n",
      "\n",
      " | Global Training Round : 163 |\n",
      "\n",
      "Accuracy loss: 81.92 | fairness loss 6.50 | Equal Opportunity Disparity = 0.38\n",
      " \n",
      "Avg Training Stats after 163 global rounds:\n",
      "Training loss: 214.88 | Validation accuracy: 60.96% | Validation Equal Opportunity Disparity: 0.3813\n",
      "\n",
      " | Global Training Round : 164 |\n",
      "\n"
     ]
    },
    {
     "name": "stderr",
     "output_type": "stream",
     "text": [
      " 55%|█████▌    | 165/300 [00:24<00:19,  6.98it/s]"
     ]
    },
    {
     "name": "stdout",
     "output_type": "stream",
     "text": [
      "Accuracy loss: 81.81 | fairness loss 6.23 | Equal Opportunity Disparity = 0.38\n",
      " \n",
      "Avg Training Stats after 164 global rounds:\n",
      "Training loss: 214.28 | Validation accuracy: 60.96% | Validation Equal Opportunity Disparity: 0.3819\n",
      "\n",
      " | Global Training Round : 165 |\n",
      "\n",
      "Accuracy loss: 81.66 | fairness loss 6.28 | Equal Opportunity Disparity = 0.39\n",
      " \n",
      "Avg Training Stats after 165 global rounds:\n",
      "Training loss: 213.70 | Validation accuracy: 61.15% | Validation Equal Opportunity Disparity: 0.3850\n",
      "\n",
      " | Global Training Round : 166 |\n",
      "\n"
     ]
    },
    {
     "name": "stderr",
     "output_type": "stream",
     "text": [
      " 56%|█████▌    | 167/300 [00:24<00:19,  6.99it/s]"
     ]
    },
    {
     "name": "stdout",
     "output_type": "stream",
     "text": [
      "Accuracy loss: 81.55 | fairness loss 6.12 | Equal Opportunity Disparity = 0.39\n",
      " \n",
      "Avg Training Stats after 166 global rounds:\n",
      "Training loss: 213.10 | Validation accuracy: 61.15% | Validation Equal Opportunity Disparity: 0.3856\n",
      "\n",
      " | Global Training Round : 167 |\n",
      "\n",
      "Accuracy loss: 81.40 | fairness loss 5.97 | Equal Opportunity Disparity = 0.39\n",
      " \n",
      "Avg Training Stats after 167 global rounds:\n",
      "Training loss: 212.51 | Validation accuracy: 61.41% | Validation Equal Opportunity Disparity: 0.3872\n",
      "\n",
      " | Global Training Round : 168 |\n",
      "\n"
     ]
    },
    {
     "name": "stderr",
     "output_type": "stream",
     "text": [
      " 56%|█████▋    | 169/300 [00:24<00:18,  7.02it/s]"
     ]
    },
    {
     "name": "stdout",
     "output_type": "stream",
     "text": [
      "Accuracy loss: 81.24 | fairness loss 6.02 | Equal Opportunity Disparity = 0.39\n",
      " \n",
      "Avg Training Stats after 168 global rounds:\n",
      "Training loss: 211.92 | Validation accuracy: 61.48% | Validation Equal Opportunity Disparity: 0.3885\n",
      "\n",
      " | Global Training Round : 169 |\n",
      "\n",
      "Accuracy loss: 81.13 | fairness loss 5.87 | Equal Opportunity Disparity = 0.39\n",
      " \n",
      "Avg Training Stats after 169 global rounds:\n",
      "Training loss: 211.35 | Validation accuracy: 61.52% | Validation Equal Opportunity Disparity: 0.3897\n",
      "\n",
      " | Global Training Round : 170 |\n",
      "\n"
     ]
    },
    {
     "name": "stderr",
     "output_type": "stream",
     "text": [
      " 57%|█████▋    | 171/300 [00:25<00:18,  7.03it/s]"
     ]
    },
    {
     "name": "stdout",
     "output_type": "stream",
     "text": [
      "Accuracy loss: 81.04 | fairness loss 5.77 | Equal Opportunity Disparity = 0.39\n",
      " \n",
      "Avg Training Stats after 170 global rounds:\n",
      "Training loss: 210.78 | Validation accuracy: 61.56% | Validation Equal Opportunity Disparity: 0.3916\n",
      "\n",
      " | Global Training Round : 171 |\n",
      "\n",
      "Accuracy loss: 80.92 | fairness loss 5.63 | Equal Opportunity Disparity = 0.39\n",
      " \n",
      "Avg Training Stats after 171 global rounds:\n",
      "Training loss: 210.21 | Validation accuracy: 61.63% | Validation Equal Opportunity Disparity: 0.3873\n",
      "\n",
      " | Global Training Round : 172 |\n",
      "\n"
     ]
    },
    {
     "name": "stderr",
     "output_type": "stream",
     "text": [
      " 58%|█████▊    | 173/300 [00:25<00:18,  7.00it/s]"
     ]
    },
    {
     "name": "stdout",
     "output_type": "stream",
     "text": [
      "Accuracy loss: 80.81 | fairness loss 5.71 | Equal Opportunity Disparity = 0.39\n",
      " \n",
      "Avg Training Stats after 172 global rounds:\n",
      "Training loss: 209.63 | Validation accuracy: 61.81% | Validation Equal Opportunity Disparity: 0.3870\n",
      "\n",
      " | Global Training Round : 173 |\n",
      "\n",
      "Accuracy loss: 80.66 | fairness loss 5.51 | Equal Opportunity Disparity = 0.39\n",
      " \n",
      "Avg Training Stats after 173 global rounds:\n",
      "Training loss: 209.07 | Validation accuracy: 62.07% | Validation Equal Opportunity Disparity: 0.3861\n",
      "\n",
      " | Global Training Round : 174 |\n",
      "\n"
     ]
    },
    {
     "name": "stderr",
     "output_type": "stream",
     "text": [
      " 58%|█████▊    | 175/300 [00:25<00:18,  6.90it/s]"
     ]
    },
    {
     "name": "stdout",
     "output_type": "stream",
     "text": [
      "Accuracy loss: 80.54 | fairness loss 5.59 | Equal Opportunity Disparity = 0.38\n",
      " \n",
      "Avg Training Stats after 174 global rounds:\n",
      "Training loss: 208.50 | Validation accuracy: 62.15% | Validation Equal Opportunity Disparity: 0.3818\n",
      "\n",
      " | Global Training Round : 175 |\n",
      "\n",
      "Accuracy loss: 80.42 | fairness loss 5.35 | Equal Opportunity Disparity = 0.38\n",
      " \n",
      "Avg Training Stats after 175 global rounds:\n",
      "Training loss: 207.94 | Validation accuracy: 62.33% | Validation Equal Opportunity Disparity: 0.3793\n",
      "\n",
      " | Global Training Round : 176 |\n",
      "\n"
     ]
    },
    {
     "name": "stderr",
     "output_type": "stream",
     "text": [
      " 59%|█████▉    | 177/300 [00:25<00:17,  6.97it/s]"
     ]
    },
    {
     "name": "stdout",
     "output_type": "stream",
     "text": [
      "Accuracy loss: 80.31 | fairness loss 5.37 | Equal Opportunity Disparity = 0.37\n",
      " \n",
      "Avg Training Stats after 176 global rounds:\n",
      "Training loss: 207.38 | Validation accuracy: 62.44% | Validation Equal Opportunity Disparity: 0.3744\n",
      "\n",
      " | Global Training Round : 177 |\n",
      "\n",
      "Accuracy loss: 80.17 | fairness loss 5.47 | Equal Opportunity Disparity = 0.38\n",
      " \n",
      "Avg Training Stats after 177 global rounds:\n",
      "Training loss: 206.83 | Validation accuracy: 62.48% | Validation Equal Opportunity Disparity: 0.3750\n",
      "\n",
      " | Global Training Round : 178 |\n",
      "\n"
     ]
    },
    {
     "name": "stderr",
     "output_type": "stream",
     "text": [
      " 60%|█████▉    | 179/300 [00:26<00:17,  6.98it/s]"
     ]
    },
    {
     "name": "stdout",
     "output_type": "stream",
     "text": [
      "Accuracy loss: 80.05 | fairness loss 5.10 | Equal Opportunity Disparity = 0.37\n",
      " \n",
      "Avg Training Stats after 178 global rounds:\n",
      "Training loss: 206.28 | Validation accuracy: 62.67% | Validation Equal Opportunity Disparity: 0.3714\n",
      "\n",
      " | Global Training Round : 179 |\n",
      "\n",
      "Accuracy loss: 79.99 | fairness loss 5.05 | Equal Opportunity Disparity = 0.37\n",
      " \n",
      "Avg Training Stats after 179 global rounds:\n",
      "Training loss: 205.73 | Validation accuracy: 62.67% | Validation Equal Opportunity Disparity: 0.3686\n",
      "\n",
      " | Global Training Round : 180 |\n",
      "\n"
     ]
    },
    {
     "name": "stderr",
     "output_type": "stream",
     "text": [
      " 60%|██████    | 181/300 [00:26<00:17,  6.98it/s]"
     ]
    },
    {
     "name": "stdout",
     "output_type": "stream",
     "text": [
      "Accuracy loss: 79.84 | fairness loss 5.05 | Equal Opportunity Disparity = 0.36\n",
      " \n",
      "Avg Training Stats after 180 global rounds:\n",
      "Training loss: 205.18 | Validation accuracy: 62.81% | Validation Equal Opportunity Disparity: 0.3643\n",
      "\n",
      " | Global Training Round : 181 |\n",
      "\n",
      "Accuracy loss: 79.72 | fairness loss 5.22 | Equal Opportunity Disparity = 0.36\n",
      " \n",
      "Avg Training Stats after 181 global rounds:\n",
      "Training loss: 204.64 | Validation accuracy: 62.93% | Validation Equal Opportunity Disparity: 0.3621\n",
      "\n",
      " | Global Training Round : 182 |\n",
      "\n"
     ]
    },
    {
     "name": "stderr",
     "output_type": "stream",
     "text": [
      " 61%|██████    | 183/300 [00:26<00:16,  7.00it/s]"
     ]
    },
    {
     "name": "stdout",
     "output_type": "stream",
     "text": [
      "Accuracy loss: 79.61 | fairness loss 4.88 | Equal Opportunity Disparity = 0.36\n",
      " \n",
      "Avg Training Stats after 182 global rounds:\n",
      "Training loss: 204.10 | Validation accuracy: 62.96% | Validation Equal Opportunity Disparity: 0.3621\n",
      "\n",
      " | Global Training Round : 183 |\n",
      "\n",
      "Accuracy loss: 79.46 | fairness loss 4.80 | Equal Opportunity Disparity = 0.36\n",
      " \n",
      "Avg Training Stats after 183 global rounds:\n",
      "Training loss: 203.57 | Validation accuracy: 63.33% | Validation Equal Opportunity Disparity: 0.3585\n",
      "\n",
      " | Global Training Round : 184 |\n",
      "\n"
     ]
    },
    {
     "name": "stderr",
     "output_type": "stream",
     "text": [
      " 62%|██████▏   | 185/300 [00:27<00:16,  7.02it/s]"
     ]
    },
    {
     "name": "stdout",
     "output_type": "stream",
     "text": [
      "Accuracy loss: 79.32 | fairness loss 4.95 | Equal Opportunity Disparity = 0.36\n",
      " \n",
      "Avg Training Stats after 184 global rounds:\n",
      "Training loss: 203.04 | Validation accuracy: 63.52% | Validation Equal Opportunity Disparity: 0.3591\n",
      "\n",
      " | Global Training Round : 185 |\n",
      "\n",
      "Accuracy loss: 79.20 | fairness loss 4.73 | Equal Opportunity Disparity = 0.36\n",
      " \n",
      "Avg Training Stats after 185 global rounds:\n",
      "Training loss: 202.50 | Validation accuracy: 63.56% | Validation Equal Opportunity Disparity: 0.3569\n",
      "\n",
      " | Global Training Round : 186 |\n",
      "\n"
     ]
    },
    {
     "name": "stderr",
     "output_type": "stream",
     "text": [
      " 62%|██████▏   | 187/300 [00:27<00:16,  7.01it/s]"
     ]
    },
    {
     "name": "stdout",
     "output_type": "stream",
     "text": [
      "Accuracy loss: 79.07 | fairness loss 4.75 | Equal Opportunity Disparity = 0.35\n",
      " \n",
      "Avg Training Stats after 186 global rounds:\n",
      "Training loss: 201.97 | Validation accuracy: 63.67% | Validation Equal Opportunity Disparity: 0.3542\n",
      "\n",
      " | Global Training Round : 187 |\n",
      "\n",
      "Accuracy loss: 78.94 | fairness loss 4.54 | Equal Opportunity Disparity = 0.35\n",
      " \n",
      "Avg Training Stats after 187 global rounds:\n",
      "Training loss: 201.45 | Validation accuracy: 63.96% | Validation Equal Opportunity Disparity: 0.3514\n",
      "\n",
      " | Global Training Round : 188 |\n",
      "\n"
     ]
    },
    {
     "name": "stderr",
     "output_type": "stream",
     "text": [
      " 63%|██████▎   | 189/300 [00:27<00:15,  6.96it/s]"
     ]
    },
    {
     "name": "stdout",
     "output_type": "stream",
     "text": [
      "Accuracy loss: 78.86 | fairness loss 4.57 | Equal Opportunity Disparity = 0.35\n",
      " \n",
      "Avg Training Stats after 188 global rounds:\n",
      "Training loss: 200.93 | Validation accuracy: 63.96% | Validation Equal Opportunity Disparity: 0.3514\n",
      "\n",
      " | Global Training Round : 189 |\n",
      "\n",
      "Accuracy loss: 78.76 | fairness loss 4.46 | Equal Opportunity Disparity = 0.35\n",
      " \n",
      "Avg Training Stats after 189 global rounds:\n",
      "Training loss: 200.41 | Validation accuracy: 64.11% | Validation Equal Opportunity Disparity: 0.3492\n",
      "\n",
      " | Global Training Round : 190 |\n",
      "\n"
     ]
    },
    {
     "name": "stderr",
     "output_type": "stream",
     "text": [
      " 64%|██████▎   | 191/300 [00:27<00:15,  6.98it/s]"
     ]
    },
    {
     "name": "stdout",
     "output_type": "stream",
     "text": [
      "Accuracy loss: 78.61 | fairness loss 4.39 | Equal Opportunity Disparity = 0.35\n",
      " \n",
      "Avg Training Stats after 190 global rounds:\n",
      "Training loss: 199.90 | Validation accuracy: 64.19% | Validation Equal Opportunity Disparity: 0.3471\n",
      "\n",
      " | Global Training Round : 191 |\n",
      "\n",
      "Accuracy loss: 78.47 | fairness loss 4.39 | Equal Opportunity Disparity = 0.34\n",
      " \n",
      "Avg Training Stats after 191 global rounds:\n",
      "Training loss: 199.38 | Validation accuracy: 64.26% | Validation Equal Opportunity Disparity: 0.3416\n",
      "\n",
      " | Global Training Round : 192 |\n",
      "\n"
     ]
    },
    {
     "name": "stderr",
     "output_type": "stream",
     "text": [
      " 64%|██████▍   | 193/300 [00:28<00:15,  7.01it/s]"
     ]
    },
    {
     "name": "stdout",
     "output_type": "stream",
     "text": [
      "Accuracy loss: 78.30 | fairness loss 4.34 | Equal Opportunity Disparity = 0.33\n",
      " \n",
      "Avg Training Stats after 192 global rounds:\n",
      "Training loss: 198.87 | Validation accuracy: 64.63% | Validation Equal Opportunity Disparity: 0.3289\n",
      "\n",
      " | Global Training Round : 193 |\n",
      "\n",
      "Accuracy loss: 78.18 | fairness loss 4.29 | Equal Opportunity Disparity = 0.33\n",
      " \n",
      "Avg Training Stats after 193 global rounds:\n",
      "Training loss: 198.36 | Validation accuracy: 64.67% | Validation Equal Opportunity Disparity: 0.3289\n",
      "\n",
      " | Global Training Round : 194 |\n",
      "\n"
     ]
    },
    {
     "name": "stderr",
     "output_type": "stream",
     "text": [
      " 65%|██████▌   | 195/300 [00:28<00:14,  7.01it/s]"
     ]
    },
    {
     "name": "stdout",
     "output_type": "stream",
     "text": [
      "Accuracy loss: 78.07 | fairness loss 4.23 | Equal Opportunity Disparity = 0.32\n",
      " \n",
      "Avg Training Stats after 194 global rounds:\n",
      "Training loss: 197.86 | Validation accuracy: 64.81% | Validation Equal Opportunity Disparity: 0.3206\n",
      "\n",
      " | Global Training Round : 195 |\n",
      "\n",
      "Accuracy loss: 78.00 | fairness loss 4.13 | Equal Opportunity Disparity = 0.31\n",
      " \n",
      "Avg Training Stats after 195 global rounds:\n",
      "Training loss: 197.36 | Validation accuracy: 64.93% | Validation Equal Opportunity Disparity: 0.3123\n",
      "\n",
      " | Global Training Round : 196 |\n",
      "\n"
     ]
    },
    {
     "name": "stderr",
     "output_type": "stream",
     "text": [
      " 66%|██████▌   | 197/300 [00:28<00:14,  6.97it/s]"
     ]
    },
    {
     "name": "stdout",
     "output_type": "stream",
     "text": [
      "Accuracy loss: 77.86 | fairness loss 4.11 | Equal Opportunity Disparity = 0.30\n",
      " \n",
      "Avg Training Stats after 196 global rounds:\n",
      "Training loss: 196.87 | Validation accuracy: 65.26% | Validation Equal Opportunity Disparity: 0.3040\n",
      "\n",
      " | Global Training Round : 197 |\n",
      "\n",
      "Accuracy loss: 77.78 | fairness loss 3.96 | Equal Opportunity Disparity = 0.30\n",
      " \n",
      "Avg Training Stats after 197 global rounds:\n",
      "Training loss: 196.37 | Validation accuracy: 65.07% | Validation Equal Opportunity Disparity: 0.3013\n",
      "\n",
      " | Global Training Round : 198 |\n",
      "\n"
     ]
    },
    {
     "name": "stderr",
     "output_type": "stream",
     "text": [
      " 66%|██████▋   | 199/300 [00:29<00:14,  6.90it/s]"
     ]
    },
    {
     "name": "stdout",
     "output_type": "stream",
     "text": [
      "Accuracy loss: 77.66 | fairness loss 3.96 | Equal Opportunity Disparity = 0.30\n",
      " \n",
      "Avg Training Stats after 198 global rounds:\n",
      "Training loss: 195.88 | Validation accuracy: 65.37% | Validation Equal Opportunity Disparity: 0.2985\n",
      "\n",
      " | Global Training Round : 199 |\n",
      "\n",
      "Accuracy loss: 77.56 | fairness loss 3.96 | Equal Opportunity Disparity = 0.29\n",
      " \n",
      "Avg Training Stats after 199 global rounds:\n",
      "Training loss: 195.40 | Validation accuracy: 65.63% | Validation Equal Opportunity Disparity: 0.2902\n",
      "\n",
      " | Global Training Round : 200 |\n",
      "\n"
     ]
    },
    {
     "name": "stderr",
     "output_type": "stream",
     "text": [
      " 67%|██████▋   | 201/300 [00:29<00:14,  6.86it/s]"
     ]
    },
    {
     "name": "stdout",
     "output_type": "stream",
     "text": [
      "Accuracy loss: 77.48 | fairness loss 3.89 | Equal Opportunity Disparity = 0.29\n",
      " \n",
      "Avg Training Stats after 200 global rounds:\n",
      "Training loss: 194.91 | Validation accuracy: 65.63% | Validation Equal Opportunity Disparity: 0.2874\n",
      "\n",
      " | Global Training Round : 201 |\n",
      "\n",
      "Accuracy loss: 77.39 | fairness loss 3.78 | Equal Opportunity Disparity = 0.28\n",
      " \n",
      "Avg Training Stats after 201 global rounds:\n",
      "Training loss: 194.43 | Validation accuracy: 65.67% | Validation Equal Opportunity Disparity: 0.2819\n",
      "\n",
      " | Global Training Round : 202 |\n",
      "\n"
     ]
    },
    {
     "name": "stderr",
     "output_type": "stream",
     "text": [
      " 68%|██████▊   | 203/300 [00:29<00:13,  6.93it/s]"
     ]
    },
    {
     "name": "stdout",
     "output_type": "stream",
     "text": [
      "Accuracy loss: 77.26 | fairness loss 3.87 | Equal Opportunity Disparity = 0.27\n",
      " \n",
      "Avg Training Stats after 202 global rounds:\n",
      "Training loss: 193.95 | Validation accuracy: 65.89% | Validation Equal Opportunity Disparity: 0.2708\n",
      "\n",
      " | Global Training Round : 203 |\n",
      "\n",
      "Accuracy loss: 77.11 | fairness loss 3.71 | Equal Opportunity Disparity = 0.26\n",
      " \n",
      "Avg Training Stats after 203 global rounds:\n",
      "Training loss: 193.47 | Validation accuracy: 66.11% | Validation Equal Opportunity Disparity: 0.2597\n",
      "\n",
      " | Global Training Round : 204 |\n",
      "\n"
     ]
    },
    {
     "name": "stderr",
     "output_type": "stream",
     "text": [
      " 68%|██████▊   | 205/300 [00:30<00:13,  6.96it/s]"
     ]
    },
    {
     "name": "stdout",
     "output_type": "stream",
     "text": [
      "Accuracy loss: 77.02 | fairness loss 3.58 | Equal Opportunity Disparity = 0.25\n",
      " \n",
      "Avg Training Stats after 204 global rounds:\n",
      "Training loss: 193.00 | Validation accuracy: 66.07% | Validation Equal Opportunity Disparity: 0.2542\n",
      "\n",
      " | Global Training Round : 205 |\n",
      "\n",
      "Accuracy loss: 76.94 | fairness loss 3.64 | Equal Opportunity Disparity = 0.25\n",
      " \n",
      "Avg Training Stats after 205 global rounds:\n",
      "Training loss: 192.53 | Validation accuracy: 66.22% | Validation Equal Opportunity Disparity: 0.2514\n",
      "\n",
      " | Global Training Round : 206 |\n",
      "\n"
     ]
    },
    {
     "name": "stderr",
     "output_type": "stream",
     "text": [
      " 69%|██████▉   | 207/300 [00:30<00:13,  6.98it/s]"
     ]
    },
    {
     "name": "stdout",
     "output_type": "stream",
     "text": [
      "Accuracy loss: 76.84 | fairness loss 3.56 | Equal Opportunity Disparity = 0.25\n",
      " \n",
      "Avg Training Stats after 206 global rounds:\n",
      "Training loss: 192.06 | Validation accuracy: 66.37% | Validation Equal Opportunity Disparity: 0.2459\n",
      "\n",
      " | Global Training Round : 207 |\n",
      "\n",
      "Accuracy loss: 76.73 | fairness loss 3.70 | Equal Opportunity Disparity = 0.24\n",
      " \n",
      "Avg Training Stats after 207 global rounds:\n",
      "Training loss: 191.59 | Validation accuracy: 66.52% | Validation Equal Opportunity Disparity: 0.2403\n",
      "\n",
      " | Global Training Round : 208 |\n",
      "\n"
     ]
    },
    {
     "name": "stderr",
     "output_type": "stream",
     "text": [
      " 70%|██████▉   | 209/300 [00:30<00:12,  7.01it/s]"
     ]
    },
    {
     "name": "stdout",
     "output_type": "stream",
     "text": [
      "Accuracy loss: 76.64 | fairness loss 3.53 | Equal Opportunity Disparity = 0.24\n",
      " \n",
      "Avg Training Stats after 208 global rounds:\n",
      "Training loss: 191.13 | Validation accuracy: 66.52% | Validation Equal Opportunity Disparity: 0.2376\n",
      "\n",
      " | Global Training Round : 209 |\n",
      "\n",
      "Accuracy loss: 76.54 | fairness loss 3.48 | Equal Opportunity Disparity = 0.24\n",
      " \n",
      "Avg Training Stats after 209 global rounds:\n",
      "Training loss: 190.67 | Validation accuracy: 66.56% | Validation Equal Opportunity Disparity: 0.2382\n",
      "\n",
      " | Global Training Round : 210 |\n",
      "\n"
     ]
    },
    {
     "name": "stderr",
     "output_type": "stream",
     "text": [
      " 70%|███████   | 211/300 [00:30<00:12,  7.02it/s]"
     ]
    },
    {
     "name": "stdout",
     "output_type": "stream",
     "text": [
      "Accuracy loss: 76.45 | fairness loss 3.43 | Equal Opportunity Disparity = 0.23\n",
      " \n",
      "Avg Training Stats after 210 global rounds:\n",
      "Training loss: 190.22 | Validation accuracy: 66.63% | Validation Equal Opportunity Disparity: 0.2326\n",
      "\n",
      " | Global Training Round : 211 |\n",
      "\n",
      "Accuracy loss: 76.37 | fairness loss 3.38 | Equal Opportunity Disparity = 0.23\n",
      " \n",
      "Avg Training Stats after 211 global rounds:\n",
      "Training loss: 189.76 | Validation accuracy: 66.63% | Validation Equal Opportunity Disparity: 0.2326\n",
      "\n",
      " | Global Training Round : 212 |\n",
      "\n"
     ]
    },
    {
     "name": "stderr",
     "output_type": "stream",
     "text": [
      " 71%|███████   | 213/300 [00:31<00:12,  6.94it/s]"
     ]
    },
    {
     "name": "stdout",
     "output_type": "stream",
     "text": [
      "Accuracy loss: 76.23 | fairness loss 3.28 | Equal Opportunity Disparity = 0.23\n",
      " \n",
      "Avg Training Stats after 212 global rounds:\n",
      "Training loss: 189.30 | Validation accuracy: 66.78% | Validation Equal Opportunity Disparity: 0.2271\n",
      "\n",
      " | Global Training Round : 213 |\n",
      "\n",
      "Accuracy loss: 76.08 | fairness loss 3.34 | Equal Opportunity Disparity = 0.22\n",
      " \n",
      "Avg Training Stats after 213 global rounds:\n",
      "Training loss: 188.85 | Validation accuracy: 67.15% | Validation Equal Opportunity Disparity: 0.2243\n",
      "\n",
      " | Global Training Round : 214 |\n",
      "\n"
     ]
    },
    {
     "name": "stderr",
     "output_type": "stream",
     "text": [
      " 72%|███████▏  | 215/300 [00:31<00:12,  6.85it/s]"
     ]
    },
    {
     "name": "stdout",
     "output_type": "stream",
     "text": [
      "Accuracy loss: 76.00 | fairness loss 3.24 | Equal Opportunity Disparity = 0.22\n",
      " \n",
      "Avg Training Stats after 214 global rounds:\n",
      "Training loss: 188.41 | Validation accuracy: 67.26% | Validation Equal Opportunity Disparity: 0.2243\n",
      "\n",
      " | Global Training Round : 215 |\n",
      "\n",
      "Accuracy loss: 75.90 | fairness loss 3.19 | Equal Opportunity Disparity = 0.22\n",
      " \n",
      "Avg Training Stats after 215 global rounds:\n",
      "Training loss: 187.96 | Validation accuracy: 67.44% | Validation Equal Opportunity Disparity: 0.2188\n",
      "\n",
      " | Global Training Round : 216 |\n",
      "\n"
     ]
    },
    {
     "name": "stderr",
     "output_type": "stream",
     "text": [
      " 72%|███████▏  | 217/300 [00:31<00:12,  6.88it/s]"
     ]
    },
    {
     "name": "stdout",
     "output_type": "stream",
     "text": [
      "Accuracy loss: 75.81 | fairness loss 3.15 | Equal Opportunity Disparity = 0.21\n",
      " \n",
      "Avg Training Stats after 216 global rounds:\n",
      "Training loss: 187.52 | Validation accuracy: 67.67% | Validation Equal Opportunity Disparity: 0.2133\n",
      "\n",
      " | Global Training Round : 217 |\n",
      "\n",
      "Accuracy loss: 75.70 | fairness loss 3.15 | Equal Opportunity Disparity = 0.21\n",
      " \n",
      "Avg Training Stats after 217 global rounds:\n",
      "Training loss: 187.08 | Validation accuracy: 67.78% | Validation Equal Opportunity Disparity: 0.2105\n",
      "\n",
      " | Global Training Round : 218 |\n",
      "\n"
     ]
    },
    {
     "name": "stderr",
     "output_type": "stream",
     "text": [
      " 73%|███████▎  | 219/300 [00:32<00:11,  6.77it/s]"
     ]
    },
    {
     "name": "stdout",
     "output_type": "stream",
     "text": [
      "Accuracy loss: 75.59 | fairness loss 3.08 | Equal Opportunity Disparity = 0.20\n",
      " \n",
      "Avg Training Stats after 218 global rounds:\n",
      "Training loss: 186.64 | Validation accuracy: 67.96% | Validation Equal Opportunity Disparity: 0.2022\n",
      "\n",
      " | Global Training Round : 219 |\n",
      "\n",
      "Accuracy loss: 75.50 | fairness loss 3.09 | Equal Opportunity Disparity = 0.20\n",
      " \n",
      "Avg Training Stats after 219 global rounds:\n",
      "Training loss: 186.21 | Validation accuracy: 68.00% | Validation Equal Opportunity Disparity: 0.1994\n",
      "\n",
      " | Global Training Round : 220 |\n",
      "\n"
     ]
    },
    {
     "name": "stderr",
     "output_type": "stream",
     "text": [
      " 74%|███████▎  | 221/300 [00:32<00:11,  6.90it/s]"
     ]
    },
    {
     "name": "stdout",
     "output_type": "stream",
     "text": [
      "Accuracy loss: 75.42 | fairness loss 3.08 | Equal Opportunity Disparity = 0.19\n",
      " \n",
      "Avg Training Stats after 220 global rounds:\n",
      "Training loss: 185.78 | Validation accuracy: 68.19% | Validation Equal Opportunity Disparity: 0.1911\n",
      "\n",
      " | Global Training Round : 221 |\n",
      "\n",
      "Accuracy loss: 75.28 | fairness loss 3.00 | Equal Opportunity Disparity = 0.18\n",
      " \n",
      "Avg Training Stats after 221 global rounds:\n",
      "Training loss: 185.34 | Validation accuracy: 68.41% | Validation Equal Opportunity Disparity: 0.1828\n",
      "\n",
      " | Global Training Round : 222 |\n",
      "\n"
     ]
    },
    {
     "name": "stderr",
     "output_type": "stream",
     "text": [
      " 74%|███████▍  | 223/300 [00:32<00:11,  6.95it/s]"
     ]
    },
    {
     "name": "stdout",
     "output_type": "stream",
     "text": [
      "Accuracy loss: 75.19 | fairness loss 3.00 | Equal Opportunity Disparity = 0.18\n",
      " \n",
      "Avg Training Stats after 222 global rounds:\n",
      "Training loss: 184.92 | Validation accuracy: 68.52% | Validation Equal Opportunity Disparity: 0.1772\n",
      "\n",
      " | Global Training Round : 223 |\n",
      "\n",
      "Accuracy loss: 75.12 | fairness loss 2.95 | Equal Opportunity Disparity = 0.17\n",
      " \n",
      "Avg Training Stats after 223 global rounds:\n",
      "Training loss: 184.49 | Validation accuracy: 68.56% | Validation Equal Opportunity Disparity: 0.1745\n",
      "\n",
      " | Global Training Round : 224 |\n",
      "\n"
     ]
    },
    {
     "name": "stderr",
     "output_type": "stream",
     "text": [
      " 75%|███████▌  | 225/300 [00:32<00:10,  6.99it/s]"
     ]
    },
    {
     "name": "stdout",
     "output_type": "stream",
     "text": [
      "Accuracy loss: 74.97 | fairness loss 2.89 | Equal Opportunity Disparity = 0.16\n",
      " \n",
      "Avg Training Stats after 224 global rounds:\n",
      "Training loss: 184.07 | Validation accuracy: 68.93% | Validation Equal Opportunity Disparity: 0.1634\n",
      "\n",
      " | Global Training Round : 225 |\n",
      "\n",
      "Accuracy loss: 74.88 | fairness loss 2.89 | Equal Opportunity Disparity = 0.16\n",
      " \n",
      "Avg Training Stats after 225 global rounds:\n",
      "Training loss: 183.64 | Validation accuracy: 69.11% | Validation Equal Opportunity Disparity: 0.1551\n",
      "\n",
      " | Global Training Round : 226 |\n",
      "\n"
     ]
    },
    {
     "name": "stderr",
     "output_type": "stream",
     "text": [
      " 76%|███████▌  | 227/300 [00:33<00:10,  7.00it/s]"
     ]
    },
    {
     "name": "stdout",
     "output_type": "stream",
     "text": [
      "Accuracy loss: 74.83 | fairness loss 2.86 | Equal Opportunity Disparity = 0.15\n",
      " \n",
      "Avg Training Stats after 226 global rounds:\n",
      "Training loss: 183.22 | Validation accuracy: 69.11% | Validation Equal Opportunity Disparity: 0.1496\n",
      "\n",
      " | Global Training Round : 227 |\n",
      "\n",
      "Accuracy loss: 74.71 | fairness loss 2.82 | Equal Opportunity Disparity = 0.15\n",
      " \n",
      "Avg Training Stats after 227 global rounds:\n",
      "Training loss: 182.81 | Validation accuracy: 69.19% | Validation Equal Opportunity Disparity: 0.1496\n",
      "\n",
      " | Global Training Round : 228 |\n",
      "\n"
     ]
    },
    {
     "name": "stderr",
     "output_type": "stream",
     "text": [
      " 76%|███████▋  | 229/300 [00:33<00:10,  6.98it/s]"
     ]
    },
    {
     "name": "stdout",
     "output_type": "stream",
     "text": [
      "Accuracy loss: 74.58 | fairness loss 2.85 | Equal Opportunity Disparity = 0.15\n",
      " \n",
      "Avg Training Stats after 228 global rounds:\n",
      "Training loss: 182.40 | Validation accuracy: 69.19% | Validation Equal Opportunity Disparity: 0.1496\n",
      "\n",
      " | Global Training Round : 229 |\n",
      "\n",
      "Accuracy loss: 74.48 | fairness loss 2.76 | Equal Opportunity Disparity = 0.14\n",
      " \n",
      "Avg Training Stats after 229 global rounds:\n",
      "Training loss: 181.99 | Validation accuracy: 69.41% | Validation Equal Opportunity Disparity: 0.1440\n",
      "\n",
      " | Global Training Round : 230 |\n",
      "\n"
     ]
    },
    {
     "name": "stderr",
     "output_type": "stream",
     "text": [
      " 77%|███████▋  | 231/300 [00:33<00:10,  6.89it/s]"
     ]
    },
    {
     "name": "stdout",
     "output_type": "stream",
     "text": [
      "Accuracy loss: 74.45 | fairness loss 2.71 | Equal Opportunity Disparity = 0.14\n",
      " \n",
      "Avg Training Stats after 230 global rounds:\n",
      "Training loss: 181.58 | Validation accuracy: 69.48% | Validation Equal Opportunity Disparity: 0.1385\n",
      "\n",
      " | Global Training Round : 231 |\n",
      "\n",
      "Accuracy loss: 74.33 | fairness loss 2.69 | Equal Opportunity Disparity = 0.12\n",
      " \n",
      "Avg Training Stats after 231 global rounds:\n",
      "Training loss: 181.17 | Validation accuracy: 69.74% | Validation Equal Opportunity Disparity: 0.1246\n",
      "\n",
      " | Global Training Round : 232 |\n",
      "\n"
     ]
    },
    {
     "name": "stderr",
     "output_type": "stream",
     "text": [
      " 78%|███████▊  | 233/300 [00:34<00:09,  6.96it/s]"
     ]
    },
    {
     "name": "stdout",
     "output_type": "stream",
     "text": [
      "Accuracy loss: 74.22 | fairness loss 2.65 | Equal Opportunity Disparity = 0.11\n",
      " \n",
      "Avg Training Stats after 232 global rounds:\n",
      "Training loss: 180.77 | Validation accuracy: 69.96% | Validation Equal Opportunity Disparity: 0.1108\n",
      "\n",
      " | Global Training Round : 233 |\n",
      "\n",
      "Accuracy loss: 74.17 | fairness loss 2.60 | Equal Opportunity Disparity = 0.11\n",
      " \n",
      "Avg Training Stats after 233 global rounds:\n",
      "Training loss: 180.36 | Validation accuracy: 70.04% | Validation Equal Opportunity Disparity: 0.1052\n",
      "\n",
      " | Global Training Round : 234 |\n",
      "\n"
     ]
    },
    {
     "name": "stderr",
     "output_type": "stream",
     "text": [
      " 78%|███████▊  | 235/300 [00:34<00:09,  6.96it/s]"
     ]
    },
    {
     "name": "stdout",
     "output_type": "stream",
     "text": [
      "Accuracy loss: 74.05 | fairness loss 2.62 | Equal Opportunity Disparity = 0.09\n",
      " \n",
      "Avg Training Stats after 234 global rounds:\n",
      "Training loss: 179.96 | Validation accuracy: 70.44% | Validation Equal Opportunity Disparity: 0.0914\n",
      "\n",
      " | Global Training Round : 235 |\n",
      "\n",
      "Accuracy loss: 73.94 | fairness loss 2.59 | Equal Opportunity Disparity = 0.08\n",
      " \n",
      "Avg Training Stats after 235 global rounds:\n",
      "Training loss: 179.57 | Validation accuracy: 70.59% | Validation Equal Opportunity Disparity: 0.0831\n",
      "\n",
      " | Global Training Round : 236 |\n",
      "\n"
     ]
    },
    {
     "name": "stderr",
     "output_type": "stream",
     "text": [
      " 79%|███████▉  | 237/300 [00:34<00:09,  6.99it/s]"
     ]
    },
    {
     "name": "stdout",
     "output_type": "stream",
     "text": [
      "Accuracy loss: 73.87 | fairness loss 2.54 | Equal Opportunity Disparity = 0.07\n",
      " \n",
      "Avg Training Stats after 236 global rounds:\n",
      "Training loss: 179.17 | Validation accuracy: 70.78% | Validation Equal Opportunity Disparity: 0.0748\n",
      "\n",
      " | Global Training Round : 237 |\n",
      "\n",
      "Accuracy loss: 73.75 | fairness loss 2.56 | Equal Opportunity Disparity = 0.07\n",
      " \n",
      "Avg Training Stats after 237 global rounds:\n",
      "Training loss: 178.77 | Validation accuracy: 71.04% | Validation Equal Opportunity Disparity: 0.0748\n",
      "\n",
      " | Global Training Round : 238 |\n",
      "\n"
     ]
    },
    {
     "name": "stderr",
     "output_type": "stream",
     "text": [
      " 80%|███████▉  | 239/300 [00:34<00:08,  6.98it/s]"
     ]
    },
    {
     "name": "stdout",
     "output_type": "stream",
     "text": [
      "Accuracy loss: 73.61 | fairness loss 2.57 | Equal Opportunity Disparity = 0.07\n",
      " \n",
      "Avg Training Stats after 238 global rounds:\n",
      "Training loss: 178.38 | Validation accuracy: 71.30% | Validation Equal Opportunity Disparity: 0.0720\n",
      "\n",
      " | Global Training Round : 239 |\n",
      "\n",
      "Accuracy loss: 73.52 | fairness loss 2.54 | Equal Opportunity Disparity = 0.07\n",
      " \n",
      "Avg Training Stats after 239 global rounds:\n",
      "Training loss: 178.00 | Validation accuracy: 71.37% | Validation Equal Opportunity Disparity: 0.0692\n",
      "\n",
      " | Global Training Round : 240 |\n",
      "\n"
     ]
    },
    {
     "name": "stderr",
     "output_type": "stream",
     "text": [
      " 80%|████████  | 241/300 [00:35<00:08,  7.01it/s]"
     ]
    },
    {
     "name": "stdout",
     "output_type": "stream",
     "text": [
      "Accuracy loss: 73.46 | fairness loss 2.56 | Equal Opportunity Disparity = 0.07\n",
      " \n",
      "Avg Training Stats after 240 global rounds:\n",
      "Training loss: 177.61 | Validation accuracy: 71.33% | Validation Equal Opportunity Disparity: 0.0665\n",
      "\n",
      " | Global Training Round : 241 |\n",
      "\n",
      "Accuracy loss: 73.37 | fairness loss 2.50 | Equal Opportunity Disparity = 0.06\n",
      " \n",
      "Avg Training Stats after 241 global rounds:\n",
      "Training loss: 177.22 | Validation accuracy: 71.44% | Validation Equal Opportunity Disparity: 0.0637\n",
      "\n",
      " | Global Training Round : 242 |\n",
      "\n"
     ]
    },
    {
     "name": "stderr",
     "output_type": "stream",
     "text": [
      " 81%|████████  | 243/300 [00:35<00:08,  7.04it/s]"
     ]
    },
    {
     "name": "stdout",
     "output_type": "stream",
     "text": [
      "Accuracy loss: 73.26 | fairness loss 2.46 | Equal Opportunity Disparity = 0.06\n",
      " \n",
      "Avg Training Stats after 242 global rounds:\n",
      "Training loss: 176.84 | Validation accuracy: 71.56% | Validation Equal Opportunity Disparity: 0.0609\n",
      "\n",
      " | Global Training Round : 243 |\n",
      "\n",
      "Accuracy loss: 73.16 | fairness loss 2.39 | Equal Opportunity Disparity = 0.06\n",
      " \n",
      "Avg Training Stats after 243 global rounds:\n",
      "Training loss: 176.46 | Validation accuracy: 71.67% | Validation Equal Opportunity Disparity: 0.0637\n",
      "\n",
      " | Global Training Round : 244 |\n",
      "\n"
     ]
    },
    {
     "name": "stderr",
     "output_type": "stream",
     "text": [
      " 82%|████████▏ | 245/300 [00:35<00:07,  6.95it/s]"
     ]
    },
    {
     "name": "stdout",
     "output_type": "stream",
     "text": [
      "Accuracy loss: 73.11 | fairness loss 2.47 | Equal Opportunity Disparity = 0.06\n",
      " \n",
      "Avg Training Stats after 244 global rounds:\n",
      "Training loss: 176.08 | Validation accuracy: 71.70% | Validation Equal Opportunity Disparity: 0.0554\n",
      "\n",
      " | Global Training Round : 245 |\n",
      "\n",
      "Accuracy loss: 73.05 | fairness loss 2.36 | Equal Opportunity Disparity = 0.06\n",
      " \n",
      "Avg Training Stats after 245 global rounds:\n",
      "Training loss: 175.71 | Validation accuracy: 71.78% | Validation Equal Opportunity Disparity: 0.0554\n",
      "\n",
      " | Global Training Round : 246 |\n",
      "\n"
     ]
    },
    {
     "name": "stderr",
     "output_type": "stream",
     "text": [
      " 82%|████████▏ | 247/300 [00:36<00:07,  6.85it/s]"
     ]
    },
    {
     "name": "stdout",
     "output_type": "stream",
     "text": [
      "Accuracy loss: 72.91 | fairness loss 2.35 | Equal Opportunity Disparity = 0.05\n",
      " \n",
      "Avg Training Stats after 246 global rounds:\n",
      "Training loss: 175.33 | Validation accuracy: 72.04% | Validation Equal Opportunity Disparity: 0.0526\n",
      "\n",
      " | Global Training Round : 247 |\n",
      "\n",
      "Accuracy loss: 72.77 | fairness loss 2.40 | Equal Opportunity Disparity = 0.05\n",
      " \n",
      "Avg Training Stats after 247 global rounds:\n",
      "Training loss: 174.96 | Validation accuracy: 72.19% | Validation Equal Opportunity Disparity: 0.0471\n",
      "\n",
      " | Global Training Round : 248 |\n",
      "\n"
     ]
    },
    {
     "name": "stderr",
     "output_type": "stream",
     "text": [
      " 83%|████████▎ | 249/300 [00:36<00:07,  6.91it/s]"
     ]
    },
    {
     "name": "stdout",
     "output_type": "stream",
     "text": [
      "Accuracy loss: 72.75 | fairness loss 2.32 | Equal Opportunity Disparity = 0.04\n",
      " \n",
      "Avg Training Stats after 248 global rounds:\n",
      "Training loss: 174.59 | Validation accuracy: 72.26% | Validation Equal Opportunity Disparity: 0.0415\n",
      "\n",
      " | Global Training Round : 249 |\n",
      "\n",
      "Accuracy loss: 72.67 | fairness loss 2.31 | Equal Opportunity Disparity = 0.04\n",
      " \n",
      "Avg Training Stats after 249 global rounds:\n",
      "Training loss: 174.22 | Validation accuracy: 72.41% | Validation Equal Opportunity Disparity: 0.0388\n",
      "\n",
      " | Global Training Round : 250 |\n",
      "\n"
     ]
    },
    {
     "name": "stderr",
     "output_type": "stream",
     "text": [
      " 84%|████████▎ | 251/300 [00:36<00:07,  6.97it/s]"
     ]
    },
    {
     "name": "stdout",
     "output_type": "stream",
     "text": [
      "Accuracy loss: 72.56 | fairness loss 2.29 | Equal Opportunity Disparity = 0.04\n",
      " \n",
      "Avg Training Stats after 250 global rounds:\n",
      "Training loss: 173.85 | Validation accuracy: 72.56% | Validation Equal Opportunity Disparity: 0.0388\n",
      "\n",
      " | Global Training Round : 251 |\n",
      "\n",
      "Accuracy loss: 72.47 | fairness loss 2.27 | Equal Opportunity Disparity = 0.04\n",
      " \n",
      "Avg Training Stats after 251 global rounds:\n",
      "Training loss: 173.49 | Validation accuracy: 72.78% | Validation Equal Opportunity Disparity: 0.0388\n",
      "\n",
      " | Global Training Round : 252 |\n",
      "\n"
     ]
    },
    {
     "name": "stderr",
     "output_type": "stream",
     "text": [
      " 84%|████████▍ | 253/300 [00:36<00:06,  6.97it/s]"
     ]
    },
    {
     "name": "stdout",
     "output_type": "stream",
     "text": [
      "Accuracy loss: 72.32 | fairness loss 2.30 | Equal Opportunity Disparity = 0.04\n",
      " \n",
      "Avg Training Stats after 252 global rounds:\n",
      "Training loss: 173.13 | Validation accuracy: 73.22% | Validation Equal Opportunity Disparity: 0.0388\n",
      "\n",
      " | Global Training Round : 253 |\n",
      "\n",
      "Accuracy loss: 72.25 | fairness loss 2.30 | Equal Opportunity Disparity = 0.04\n",
      " \n",
      "Avg Training Stats after 253 global rounds:\n",
      "Training loss: 172.77 | Validation accuracy: 73.41% | Validation Equal Opportunity Disparity: 0.0360\n",
      "\n",
      " | Global Training Round : 254 |\n",
      "\n"
     ]
    },
    {
     "name": "stderr",
     "output_type": "stream",
     "text": [
      " 85%|████████▌ | 255/300 [00:37<00:06,  7.01it/s]"
     ]
    },
    {
     "name": "stdout",
     "output_type": "stream",
     "text": [
      "Accuracy loss: 72.19 | fairness loss 2.30 | Equal Opportunity Disparity = 0.04\n",
      " \n",
      "Avg Training Stats after 254 global rounds:\n",
      "Training loss: 172.41 | Validation accuracy: 73.44% | Validation Equal Opportunity Disparity: 0.0360\n",
      "\n",
      " | Global Training Round : 255 |\n",
      "\n",
      "Accuracy loss: 72.14 | fairness loss 2.19 | Equal Opportunity Disparity = 0.03\n",
      " \n",
      "Avg Training Stats after 255 global rounds:\n",
      "Training loss: 172.06 | Validation accuracy: 73.74% | Validation Equal Opportunity Disparity: 0.0332\n",
      "\n",
      " | Global Training Round : 256 |\n",
      "\n"
     ]
    },
    {
     "name": "stderr",
     "output_type": "stream",
     "text": [
      " 86%|████████▌ | 257/300 [00:37<00:06,  6.99it/s]"
     ]
    },
    {
     "name": "stdout",
     "output_type": "stream",
     "text": [
      "Accuracy loss: 72.08 | fairness loss 2.22 | Equal Opportunity Disparity = 0.03\n",
      " \n",
      "Avg Training Stats after 256 global rounds:\n",
      "Training loss: 171.71 | Validation accuracy: 73.74% | Validation Equal Opportunity Disparity: 0.0332\n",
      "\n",
      " | Global Training Round : 257 |\n",
      "\n",
      "Accuracy loss: 72.01 | fairness loss 2.18 | Equal Opportunity Disparity = 0.03\n",
      " \n",
      "Avg Training Stats after 257 global rounds:\n",
      "Training loss: 171.35 | Validation accuracy: 73.78% | Validation Equal Opportunity Disparity: 0.0332\n",
      "\n",
      " | Global Training Round : 258 |\n",
      "\n"
     ]
    },
    {
     "name": "stderr",
     "output_type": "stream",
     "text": [
      " 86%|████████▋ | 259/300 [00:37<00:05,  7.01it/s]"
     ]
    },
    {
     "name": "stdout",
     "output_type": "stream",
     "text": [
      "Accuracy loss: 71.90 | fairness loss 2.15 | Equal Opportunity Disparity = 0.03\n",
      " \n",
      "Avg Training Stats after 258 global rounds:\n",
      "Training loss: 171.01 | Validation accuracy: 73.96% | Validation Equal Opportunity Disparity: 0.0332\n",
      "\n",
      " | Global Training Round : 259 |\n",
      "\n",
      "Accuracy loss: 71.83 | fairness loss 2.15 | Equal Opportunity Disparity = 0.03\n",
      " \n",
      "Avg Training Stats after 259 global rounds:\n",
      "Training loss: 170.66 | Validation accuracy: 74.04% | Validation Equal Opportunity Disparity: 0.0332\n",
      "\n",
      " | Global Training Round : 260 |\n",
      "\n"
     ]
    },
    {
     "name": "stderr",
     "output_type": "stream",
     "text": [
      " 87%|████████▋ | 261/300 [00:38<00:05,  7.02it/s]"
     ]
    },
    {
     "name": "stdout",
     "output_type": "stream",
     "text": [
      "Accuracy loss: 71.79 | fairness loss 2.13 | Equal Opportunity Disparity = 0.03\n",
      " \n",
      "Avg Training Stats after 260 global rounds:\n",
      "Training loss: 170.31 | Validation accuracy: 74.11% | Validation Equal Opportunity Disparity: 0.0305\n",
      "\n",
      " | Global Training Round : 261 |\n",
      "\n",
      "Accuracy loss: 71.71 | fairness loss 2.11 | Equal Opportunity Disparity = 0.03\n",
      " \n",
      "Avg Training Stats after 261 global rounds:\n",
      "Training loss: 169.97 | Validation accuracy: 74.11% | Validation Equal Opportunity Disparity: 0.0305\n",
      "\n",
      " | Global Training Round : 262 |\n",
      "\n"
     ]
    },
    {
     "name": "stderr",
     "output_type": "stream",
     "text": [
      " 88%|████████▊ | 263/300 [00:38<00:05,  7.03it/s]"
     ]
    },
    {
     "name": "stdout",
     "output_type": "stream",
     "text": [
      "Accuracy loss: 71.61 | fairness loss 2.16 | Equal Opportunity Disparity = 0.03\n",
      " \n",
      "Avg Training Stats after 262 global rounds:\n",
      "Training loss: 169.63 | Validation accuracy: 74.22% | Validation Equal Opportunity Disparity: 0.0305\n",
      "\n",
      " | Global Training Round : 263 |\n",
      "\n",
      "Accuracy loss: 71.55 | fairness loss 2.15 | Equal Opportunity Disparity = 0.03\n",
      " \n",
      "Avg Training Stats after 263 global rounds:\n",
      "Training loss: 169.29 | Validation accuracy: 74.37% | Validation Equal Opportunity Disparity: 0.0277\n",
      "\n",
      " | Global Training Round : 264 |\n",
      "\n"
     ]
    },
    {
     "name": "stderr",
     "output_type": "stream",
     "text": [
      " 88%|████████▊ | 265/300 [00:38<00:05,  6.99it/s]"
     ]
    },
    {
     "name": "stdout",
     "output_type": "stream",
     "text": [
      "Accuracy loss: 71.42 | fairness loss 2.09 | Equal Opportunity Disparity = 0.03\n",
      " \n",
      "Avg Training Stats after 264 global rounds:\n",
      "Training loss: 168.95 | Validation accuracy: 74.52% | Validation Equal Opportunity Disparity: 0.0305\n",
      "\n",
      " | Global Training Round : 265 |\n",
      "\n",
      "Accuracy loss: 71.35 | fairness loss 2.09 | Equal Opportunity Disparity = 0.02\n",
      " \n",
      "Avg Training Stats after 265 global rounds:\n",
      "Training loss: 168.61 | Validation accuracy: 74.70% | Validation Equal Opportunity Disparity: 0.0249\n",
      "\n",
      " | Global Training Round : 266 |\n",
      "\n"
     ]
    },
    {
     "name": "stderr",
     "output_type": "stream",
     "text": [
      " 89%|████████▉ | 267/300 [00:38<00:04,  7.01it/s]"
     ]
    },
    {
     "name": "stdout",
     "output_type": "stream",
     "text": [
      "Accuracy loss: 71.25 | fairness loss 2.12 | Equal Opportunity Disparity = 0.02\n",
      " \n",
      "Avg Training Stats after 266 global rounds:\n",
      "Training loss: 168.28 | Validation accuracy: 74.74% | Validation Equal Opportunity Disparity: 0.0249\n",
      "\n",
      " | Global Training Round : 267 |\n",
      "\n",
      "Accuracy loss: 71.20 | fairness loss 2.09 | Equal Opportunity Disparity = 0.02\n",
      " \n",
      "Avg Training Stats after 267 global rounds:\n",
      "Training loss: 167.95 | Validation accuracy: 74.89% | Validation Equal Opportunity Disparity: 0.0222\n",
      "\n",
      " | Global Training Round : 268 |\n",
      "\n"
     ]
    },
    {
     "name": "stderr",
     "output_type": "stream",
     "text": [
      " 90%|████████▉ | 269/300 [00:39<00:04,  7.01it/s]"
     ]
    },
    {
     "name": "stdout",
     "output_type": "stream",
     "text": [
      "Accuracy loss: 71.14 | fairness loss 2.08 | Equal Opportunity Disparity = 0.02\n",
      " \n",
      "Avg Training Stats after 268 global rounds:\n",
      "Training loss: 167.62 | Validation accuracy: 75.07% | Validation Equal Opportunity Disparity: 0.0194\n",
      "\n",
      " | Global Training Round : 269 |\n",
      "\n",
      "Accuracy loss: 71.07 | fairness loss 2.06 | Equal Opportunity Disparity = 0.02\n",
      " \n",
      "Avg Training Stats after 269 global rounds:\n",
      "Training loss: 167.29 | Validation accuracy: 75.26% | Validation Equal Opportunity Disparity: 0.0194\n",
      "\n",
      " | Global Training Round : 270 |\n",
      "\n"
     ]
    },
    {
     "name": "stderr",
     "output_type": "stream",
     "text": [
      " 90%|█████████ | 271/300 [00:39<00:04,  6.97it/s]"
     ]
    },
    {
     "name": "stdout",
     "output_type": "stream",
     "text": [
      "Accuracy loss: 70.92 | fairness loss 2.09 | Equal Opportunity Disparity = 0.02\n",
      " \n",
      "Avg Training Stats after 270 global rounds:\n",
      "Training loss: 166.96 | Validation accuracy: 75.63% | Validation Equal Opportunity Disparity: 0.0194\n",
      "\n",
      " | Global Training Round : 271 |\n",
      "\n",
      "Accuracy loss: 70.83 | fairness loss 2.08 | Equal Opportunity Disparity = 0.02\n",
      " \n",
      "Avg Training Stats after 271 global rounds:\n",
      "Training loss: 166.64 | Validation accuracy: 75.89% | Validation Equal Opportunity Disparity: 0.0194\n",
      "\n",
      " | Global Training Round : 272 |\n",
      "\n"
     ]
    },
    {
     "name": "stderr",
     "output_type": "stream",
     "text": [
      " 91%|█████████ | 273/300 [00:39<00:03,  7.02it/s]"
     ]
    },
    {
     "name": "stdout",
     "output_type": "stream",
     "text": [
      "Accuracy loss: 70.73 | fairness loss 2.08 | Equal Opportunity Disparity = 0.02\n",
      " \n",
      "Avg Training Stats after 272 global rounds:\n",
      "Training loss: 166.31 | Validation accuracy: 76.00% | Validation Equal Opportunity Disparity: 0.0194\n",
      "\n",
      " | Global Training Round : 273 |\n",
      "\n",
      "Accuracy loss: 70.67 | fairness loss 2.02 | Equal Opportunity Disparity = 0.02\n",
      " \n",
      "Avg Training Stats after 273 global rounds:\n",
      "Training loss: 165.99 | Validation accuracy: 76.04% | Validation Equal Opportunity Disparity: 0.0194\n",
      "\n",
      " | Global Training Round : 274 |\n",
      "\n"
     ]
    },
    {
     "name": "stderr",
     "output_type": "stream",
     "text": [
      " 92%|█████████▏| 275/300 [00:40<00:03,  6.92it/s]"
     ]
    },
    {
     "name": "stdout",
     "output_type": "stream",
     "text": [
      "Accuracy loss: 70.61 | fairness loss 2.00 | Equal Opportunity Disparity = 0.02\n",
      " \n",
      "Avg Training Stats after 274 global rounds:\n",
      "Training loss: 165.67 | Validation accuracy: 76.00% | Validation Equal Opportunity Disparity: 0.0222\n",
      "\n",
      " | Global Training Round : 275 |\n",
      "\n",
      "Accuracy loss: 70.52 | fairness loss 2.05 | Equal Opportunity Disparity = 0.02\n",
      " \n",
      "Avg Training Stats after 275 global rounds:\n",
      "Training loss: 165.36 | Validation accuracy: 76.04% | Validation Equal Opportunity Disparity: 0.0222\n",
      "\n",
      " | Global Training Round : 276 |\n",
      "\n"
     ]
    },
    {
     "name": "stderr",
     "output_type": "stream",
     "text": [
      " 92%|█████████▏| 277/300 [00:40<00:03,  6.90it/s]"
     ]
    },
    {
     "name": "stdout",
     "output_type": "stream",
     "text": [
      "Accuracy loss: 70.49 | fairness loss 2.01 | Equal Opportunity Disparity = 0.02\n",
      " \n",
      "Avg Training Stats after 276 global rounds:\n",
      "Training loss: 165.04 | Validation accuracy: 76.04% | Validation Equal Opportunity Disparity: 0.0222\n",
      "\n",
      " | Global Training Round : 277 |\n",
      "\n",
      "Accuracy loss: 70.44 | fairness loss 2.00 | Equal Opportunity Disparity = 0.02\n",
      " \n",
      "Avg Training Stats after 277 global rounds:\n",
      "Training loss: 164.73 | Validation accuracy: 76.07% | Validation Equal Opportunity Disparity: 0.0222\n",
      "\n",
      " | Global Training Round : 278 |\n",
      "\n"
     ]
    },
    {
     "name": "stderr",
     "output_type": "stream",
     "text": [
      " 93%|█████████▎| 279/300 [00:40<00:03,  6.97it/s]"
     ]
    },
    {
     "name": "stdout",
     "output_type": "stream",
     "text": [
      "Accuracy loss: 70.34 | fairness loss 2.02 | Equal Opportunity Disparity = 0.02\n",
      " \n",
      "Avg Training Stats after 278 global rounds:\n",
      "Training loss: 164.41 | Validation accuracy: 76.26% | Validation Equal Opportunity Disparity: 0.0222\n",
      "\n",
      " | Global Training Round : 279 |\n",
      "\n",
      "Accuracy loss: 70.27 | fairness loss 2.04 | Equal Opportunity Disparity = 0.02\n",
      " \n",
      "Avg Training Stats after 279 global rounds:\n",
      "Training loss: 164.10 | Validation accuracy: 76.41% | Validation Equal Opportunity Disparity: 0.0222\n",
      "\n",
      " | Global Training Round : 280 |\n",
      "\n"
     ]
    },
    {
     "name": "stderr",
     "output_type": "stream",
     "text": [
      " 94%|█████████▎| 281/300 [00:40<00:02,  6.99it/s]"
     ]
    },
    {
     "name": "stdout",
     "output_type": "stream",
     "text": [
      "Accuracy loss: 70.19 | fairness loss 2.02 | Equal Opportunity Disparity = 0.02\n",
      " \n",
      "Avg Training Stats after 280 global rounds:\n",
      "Training loss: 163.80 | Validation accuracy: 76.41% | Validation Equal Opportunity Disparity: 0.0222\n",
      "\n",
      " | Global Training Round : 281 |\n",
      "\n",
      "Accuracy loss: 70.13 | fairness loss 2.06 | Equal Opportunity Disparity = 0.02\n",
      " \n",
      "Avg Training Stats after 281 global rounds:\n",
      "Training loss: 163.49 | Validation accuracy: 76.74% | Validation Equal Opportunity Disparity: 0.0249\n",
      "\n",
      " | Global Training Round : 282 |\n",
      "\n"
     ]
    },
    {
     "name": "stderr",
     "output_type": "stream",
     "text": [
      " 94%|█████████▍| 283/300 [00:41<00:02,  6.98it/s]"
     ]
    },
    {
     "name": "stdout",
     "output_type": "stream",
     "text": [
      "Accuracy loss: 70.13 | fairness loss 1.97 | Equal Opportunity Disparity = 0.02\n",
      " \n",
      "Avg Training Stats after 282 global rounds:\n",
      "Training loss: 163.19 | Validation accuracy: 76.70% | Validation Equal Opportunity Disparity: 0.0249\n",
      "\n",
      " | Global Training Round : 283 |\n",
      "\n",
      "Accuracy loss: 70.09 | fairness loss 1.98 | Equal Opportunity Disparity = 0.02\n",
      " \n",
      "Avg Training Stats after 283 global rounds:\n",
      "Training loss: 162.88 | Validation accuracy: 76.74% | Validation Equal Opportunity Disparity: 0.0249\n",
      "\n",
      " | Global Training Round : 284 |\n",
      "\n"
     ]
    },
    {
     "name": "stderr",
     "output_type": "stream",
     "text": [
      " 95%|█████████▌| 285/300 [00:41<00:02,  6.99it/s]"
     ]
    },
    {
     "name": "stdout",
     "output_type": "stream",
     "text": [
      "Accuracy loss: 69.99 | fairness loss 1.98 | Equal Opportunity Disparity = 0.02\n",
      " \n",
      "Avg Training Stats after 284 global rounds:\n",
      "Training loss: 162.58 | Validation accuracy: 76.78% | Validation Equal Opportunity Disparity: 0.0249\n",
      "\n",
      " | Global Training Round : 285 |\n",
      "\n",
      "Accuracy loss: 69.92 | fairness loss 2.02 | Equal Opportunity Disparity = 0.02\n",
      " \n",
      "Avg Training Stats after 285 global rounds:\n",
      "Training loss: 162.28 | Validation accuracy: 76.89% | Validation Equal Opportunity Disparity: 0.0249\n",
      "\n",
      " | Global Training Round : 286 |\n",
      "\n"
     ]
    },
    {
     "name": "stderr",
     "output_type": "stream",
     "text": [
      " 96%|█████████▌| 287/300 [00:41<00:01,  7.01it/s]"
     ]
    },
    {
     "name": "stdout",
     "output_type": "stream",
     "text": [
      "Accuracy loss: 69.86 | fairness loss 1.99 | Equal Opportunity Disparity = 0.03\n",
      " \n",
      "Avg Training Stats after 286 global rounds:\n",
      "Training loss: 161.98 | Validation accuracy: 76.85% | Validation Equal Opportunity Disparity: 0.0277\n",
      "\n",
      " | Global Training Round : 287 |\n",
      "\n",
      "Accuracy loss: 69.78 | fairness loss 1.99 | Equal Opportunity Disparity = 0.03\n",
      " \n",
      "Avg Training Stats after 287 global rounds:\n",
      "Training loss: 161.69 | Validation accuracy: 76.89% | Validation Equal Opportunity Disparity: 0.0305\n",
      "\n",
      " | Global Training Round : 288 |\n",
      "\n"
     ]
    },
    {
     "name": "stderr",
     "output_type": "stream",
     "text": [
      " 96%|█████████▋| 289/300 [00:42<00:01,  7.00it/s]"
     ]
    },
    {
     "name": "stdout",
     "output_type": "stream",
     "text": [
      "Accuracy loss: 69.68 | fairness loss 2.01 | Equal Opportunity Disparity = 0.03\n",
      " \n",
      "Avg Training Stats after 288 global rounds:\n",
      "Training loss: 161.39 | Validation accuracy: 76.96% | Validation Equal Opportunity Disparity: 0.0305\n",
      "\n",
      " | Global Training Round : 289 |\n",
      "\n",
      "Accuracy loss: 69.58 | fairness loss 1.97 | Equal Opportunity Disparity = 0.03\n",
      " \n",
      "Avg Training Stats after 289 global rounds:\n",
      "Training loss: 161.10 | Validation accuracy: 77.07% | Validation Equal Opportunity Disparity: 0.0305\n",
      "\n",
      " | Global Training Round : 290 |\n",
      "\n"
     ]
    },
    {
     "name": "stderr",
     "output_type": "stream",
     "text": [
      " 97%|█████████▋| 291/300 [00:42<00:01,  7.01it/s]"
     ]
    },
    {
     "name": "stdout",
     "output_type": "stream",
     "text": [
      "Accuracy loss: 69.53 | fairness loss 1.97 | Equal Opportunity Disparity = 0.03\n",
      " \n",
      "Avg Training Stats after 290 global rounds:\n",
      "Training loss: 160.81 | Validation accuracy: 77.11% | Validation Equal Opportunity Disparity: 0.0305\n",
      "\n",
      " | Global Training Round : 291 |\n",
      "\n",
      "Accuracy loss: 69.46 | fairness loss 2.03 | Equal Opportunity Disparity = 0.03\n",
      " \n",
      "Avg Training Stats after 291 global rounds:\n",
      "Training loss: 160.52 | Validation accuracy: 77.22% | Validation Equal Opportunity Disparity: 0.0305\n",
      "\n",
      " | Global Training Round : 292 |\n",
      "\n"
     ]
    },
    {
     "name": "stderr",
     "output_type": "stream",
     "text": [
      " 98%|█████████▊| 293/300 [00:42<00:00,  7.03it/s]"
     ]
    },
    {
     "name": "stdout",
     "output_type": "stream",
     "text": [
      "Accuracy loss: 69.42 | fairness loss 1.99 | Equal Opportunity Disparity = 0.03\n",
      " \n",
      "Avg Training Stats after 292 global rounds:\n",
      "Training loss: 160.23 | Validation accuracy: 77.26% | Validation Equal Opportunity Disparity: 0.0305\n",
      "\n",
      " | Global Training Round : 293 |\n",
      "\n",
      "Accuracy loss: 69.41 | fairness loss 2.00 | Equal Opportunity Disparity = 0.03\n",
      " \n",
      "Avg Training Stats after 293 global rounds:\n",
      "Training loss: 159.94 | Validation accuracy: 77.30% | Validation Equal Opportunity Disparity: 0.0305\n",
      "\n",
      " | Global Training Round : 294 |\n",
      "\n"
     ]
    },
    {
     "name": "stderr",
     "output_type": "stream",
     "text": [
      " 98%|█████████▊| 295/300 [00:42<00:00,  7.03it/s]"
     ]
    },
    {
     "name": "stdout",
     "output_type": "stream",
     "text": [
      "Accuracy loss: 69.35 | fairness loss 1.94 | Equal Opportunity Disparity = 0.03\n",
      " \n",
      "Avg Training Stats after 294 global rounds:\n",
      "Training loss: 159.66 | Validation accuracy: 77.26% | Validation Equal Opportunity Disparity: 0.0332\n",
      "\n",
      " | Global Training Round : 295 |\n",
      "\n",
      "Accuracy loss: 69.35 | fairness loss 1.93 | Equal Opportunity Disparity = 0.03\n",
      " \n",
      "Avg Training Stats after 295 global rounds:\n",
      "Training loss: 159.38 | Validation accuracy: 77.22% | Validation Equal Opportunity Disparity: 0.0305\n",
      "\n",
      " | Global Training Round : 296 |\n",
      "\n"
     ]
    },
    {
     "name": "stderr",
     "output_type": "stream",
     "text": [
      " 99%|█████████▉| 297/300 [00:43<00:00,  7.03it/s]"
     ]
    },
    {
     "name": "stdout",
     "output_type": "stream",
     "text": [
      "Accuracy loss: 69.39 | fairness loss 1.90 | Equal Opportunity Disparity = 0.03\n",
      " \n",
      "Avg Training Stats after 296 global rounds:\n",
      "Training loss: 159.10 | Validation accuracy: 77.15% | Validation Equal Opportunity Disparity: 0.0305\n",
      "\n",
      " | Global Training Round : 297 |\n",
      "\n",
      "Accuracy loss: 69.31 | fairness loss 2.01 | Equal Opportunity Disparity = 0.03\n",
      " \n",
      "Avg Training Stats after 297 global rounds:\n",
      "Training loss: 158.82 | Validation accuracy: 77.26% | Validation Equal Opportunity Disparity: 0.0305\n",
      "\n",
      " | Global Training Round : 298 |\n",
      "\n"
     ]
    },
    {
     "name": "stderr",
     "output_type": "stream",
     "text": [
      "100%|█████████▉| 299/300 [00:43<00:00,  7.03it/s]"
     ]
    },
    {
     "name": "stdout",
     "output_type": "stream",
     "text": [
      "Accuracy loss: 69.19 | fairness loss 1.95 | Equal Opportunity Disparity = 0.03\n",
      " \n",
      "Avg Training Stats after 298 global rounds:\n",
      "Training loss: 158.54 | Validation accuracy: 77.52% | Validation Equal Opportunity Disparity: 0.0305\n",
      "\n",
      " | Global Training Round : 299 |\n",
      "\n",
      "Accuracy loss: 69.10 | fairness loss 1.95 | Equal Opportunity Disparity = 0.03\n",
      " \n",
      "Avg Training Stats after 299 global rounds:\n",
      "Training loss: 158.26 | Validation accuracy: 77.56% | Validation Equal Opportunity Disparity: 0.0305\n",
      "\n",
      " | Global Training Round : 300 |\n",
      "\n"
     ]
    },
    {
     "name": "stderr",
     "output_type": "stream",
     "text": [
      "100%|██████████| 300/300 [00:43<00:00,  6.87it/s]"
     ]
    },
    {
     "name": "stdout",
     "output_type": "stream",
     "text": [
      "Accuracy loss: 69.05 | fairness loss 2.05 | Equal Opportunity Disparity = 0.03\n",
      " \n",
      "Avg Training Stats after 300 global rounds:\n",
      "Training loss: 157.99 | Validation accuracy: 77.81% | Validation Equal Opportunity Disparity: 0.0305\n",
      " \n",
      " Results after 300 global rounds of training:\n",
      "|---- Avg Train Accuracy: 77.81%\n",
      "|---- Test Accuracy: 77.67%\n",
      "|---- Test Equal Opportunity Disparity: 0.0223\n",
      "\n",
      " Total Run Time: 43.6774 sec\n"
     ]
    },
    {
     "name": "stderr",
     "output_type": "stream",
     "text": [
      "\n"
     ]
    }
   ],
   "source": [
    "server = Server(logReg(num_features=3, num_classes=2, seed = seed), synthetic_info, train_prn = False, seed = seed)\n",
    "server.FairConstraints(num_epochs = 300, optimizer = 'adam', learning_rate = 0.0001, penalty = 800)"
   ]
  },
  {
   "cell_type": "code",
   "execution_count": 9,
   "metadata": {
    "scrolled": true
   },
   "outputs": [
    {
     "name": "stderr",
     "output_type": "stream",
     "text": [
      "\n",
      "\n",
      "  0%|          | 0/300 [00:00<?, ?it/s]\u001b[A\u001b[A\n",
      "\n",
      "  0%|          | 1/300 [00:00<00:58,  5.15it/s]\u001b[A\u001b[A"
     ]
    },
    {
     "name": "stdout",
     "output_type": "stream",
     "text": [
      "\n",
      " | Global Training Round : 1 |\n",
      "\n",
      "Accuracy loss: 98.58 | fairness loss 56.30 | Equal Opportunity Disparity = 0.40\n",
      " \n",
      "Avg Training Stats after 1 global rounds:\n",
      "Training loss: 0.82 | Training accuracy: 60.67% | Training Equal Opportunity Disparity: 0.3954\n",
      "\n",
      " | Global Training Round : 2 |\n",
      "\n"
     ]
    },
    {
     "name": "stderr",
     "output_type": "stream",
     "text": [
      "\n",
      "\n",
      "  1%|          | 2/300 [00:00<00:59,  5.03it/s]\u001b[A\u001b[A\n",
      "\n",
      "  1%|          | 3/300 [00:00<00:58,  5.09it/s]\u001b[A\u001b[A"
     ]
    },
    {
     "name": "stdout",
     "output_type": "stream",
     "text": [
      "Accuracy loss: 92.08 | fairness loss 59.44 | Equal Opportunity Disparity = 0.43\n",
      " \n",
      "Avg Training Stats after 2 global rounds:\n",
      "Training loss: 0.83 | Training accuracy: 64.56% | Training Equal Opportunity Disparity: 0.4324\n",
      "\n",
      " | Global Training Round : 3 |\n",
      "\n",
      "Accuracy loss: 86.95 | fairness loss 61.65 | Equal Opportunity Disparity = 0.46\n",
      " \n",
      "Avg Training Stats after 3 global rounds:\n",
      "Training loss: 0.83 | Training accuracy: 67.19% | Training Equal Opportunity Disparity: 0.4589\n",
      "\n",
      " | Global Training Round : 4 |\n",
      "\n"
     ]
    },
    {
     "name": "stderr",
     "output_type": "stream",
     "text": [
      "\n",
      "\n",
      "  1%|▏         | 4/300 [00:00<00:57,  5.11it/s]\u001b[A\u001b[A\n",
      "\n",
      "  2%|▏         | 5/300 [00:00<00:56,  5.24it/s]\u001b[A\u001b[A"
     ]
    },
    {
     "name": "stdout",
     "output_type": "stream",
     "text": [
      "Accuracy loss: 82.55 | fairness loss 63.66 | Equal Opportunity Disparity = 0.47\n",
      " \n",
      "Avg Training Stats after 4 global rounds:\n",
      "Training loss: 0.83 | Training accuracy: 68.74% | Training Equal Opportunity Disparity: 0.4741\n",
      "\n",
      " | Global Training Round : 5 |\n",
      "\n",
      "Accuracy loss: 78.90 | fairness loss 64.16 | Equal Opportunity Disparity = 0.50\n",
      " \n",
      "Avg Training Stats after 5 global rounds:\n",
      "Training loss: 0.82 | Training accuracy: 70.44% | Training Equal Opportunity Disparity: 0.4979\n",
      "\n",
      " | Global Training Round : 6 |\n",
      "\n"
     ]
    },
    {
     "name": "stderr",
     "output_type": "stream",
     "text": [
      "\n",
      "\n",
      "  2%|▏         | 6/300 [00:01<01:00,  4.87it/s]\u001b[A\u001b[A\n",
      "\n",
      "  2%|▏         | 7/300 [00:01<00:57,  5.06it/s]\u001b[A\u001b[A"
     ]
    },
    {
     "name": "stdout",
     "output_type": "stream",
     "text": [
      "Accuracy loss: 75.57 | fairness loss 61.36 | Equal Opportunity Disparity = 0.50\n",
      " \n",
      "Avg Training Stats after 6 global rounds:\n",
      "Training loss: 0.81 | Training accuracy: 71.93% | Training Equal Opportunity Disparity: 0.5048\n",
      "\n",
      " | Global Training Round : 7 |\n",
      "\n",
      "Accuracy loss: 72.35 | fairness loss 60.33 | Equal Opportunity Disparity = 0.50\n",
      " \n",
      "Avg Training Stats after 7 global rounds:\n",
      "Training loss: 0.80 | Training accuracy: 72.93% | Training Equal Opportunity Disparity: 0.5049\n",
      "\n",
      " | Global Training Round : 8 |\n",
      "\n"
     ]
    },
    {
     "name": "stderr",
     "output_type": "stream",
     "text": [
      "\n",
      "\n",
      "  3%|▎         | 8/300 [00:01<00:58,  4.98it/s]\u001b[A\u001b[A\n",
      "\n",
      "  3%|▎         | 9/300 [00:01<00:56,  5.11it/s]\u001b[A\u001b[A"
     ]
    },
    {
     "name": "stdout",
     "output_type": "stream",
     "text": [
      "Accuracy loss: 69.57 | fairness loss 58.58 | Equal Opportunity Disparity = 0.51\n",
      " \n",
      "Avg Training Stats after 8 global rounds:\n",
      "Training loss: 0.79 | Training accuracy: 73.85% | Training Equal Opportunity Disparity: 0.5124\n",
      "\n",
      " | Global Training Round : 9 |\n",
      "\n",
      "Accuracy loss: 66.89 | fairness loss 56.34 | Equal Opportunity Disparity = 0.52\n",
      " \n",
      "Avg Training Stats after 9 global rounds:\n",
      "Training loss: 0.78 | Training accuracy: 75.19% | Training Equal Opportunity Disparity: 0.5184\n",
      "\n",
      " | Global Training Round : 10 |\n",
      "\n"
     ]
    },
    {
     "name": "stderr",
     "output_type": "stream",
     "text": [
      "\n",
      "\n",
      "  3%|▎         | 10/300 [00:02<00:59,  4.89it/s]\u001b[A\u001b[A"
     ]
    },
    {
     "name": "stdout",
     "output_type": "stream",
     "text": [
      "Accuracy loss: 64.35 | fairness loss 54.57 | Equal Opportunity Disparity = 0.51\n",
      " \n",
      "Avg Training Stats after 10 global rounds:\n",
      "Training loss: 0.77 | Training accuracy: 76.19% | Training Equal Opportunity Disparity: 0.5067\n",
      "\n",
      " | Global Training Round : 11 |\n",
      "\n"
     ]
    },
    {
     "name": "stderr",
     "output_type": "stream",
     "text": [
      "\n",
      "\n",
      "  4%|▎         | 11/300 [00:02<00:58,  4.90it/s]\u001b[A\u001b[A\n",
      "\n",
      "  4%|▍         | 12/300 [00:02<00:56,  5.06it/s]\u001b[A\u001b[A"
     ]
    },
    {
     "name": "stdout",
     "output_type": "stream",
     "text": [
      "Accuracy loss: 62.01 | fairness loss 52.02 | Equal Opportunity Disparity = 0.50\n",
      " \n",
      "Avg Training Stats after 11 global rounds:\n",
      "Training loss: 0.76 | Training accuracy: 77.04% | Training Equal Opportunity Disparity: 0.4957\n",
      "\n",
      " | Global Training Round : 12 |\n",
      "\n",
      "Accuracy loss: 59.93 | fairness loss 49.47 | Equal Opportunity Disparity = 0.47\n",
      " \n",
      "Avg Training Stats after 12 global rounds:\n",
      "Training loss: 0.75 | Training accuracy: 77.85% | Training Equal Opportunity Disparity: 0.4671\n",
      "\n",
      " | Global Training Round : 13 |\n",
      "\n"
     ]
    },
    {
     "name": "stderr",
     "output_type": "stream",
     "text": [
      "\n",
      "\n",
      "  4%|▍         | 13/300 [00:02<00:58,  4.90it/s]\u001b[A\u001b[A"
     ]
    },
    {
     "name": "stdout",
     "output_type": "stream",
     "text": [
      "Accuracy loss: 57.97 | fairness loss 49.28 | Equal Opportunity Disparity = 0.46\n",
      " \n",
      "Avg Training Stats after 13 global rounds:\n",
      "Training loss: 0.74 | Training accuracy: 78.70% | Training Equal Opportunity Disparity: 0.4579\n",
      "\n",
      " | Global Training Round : 14 |\n",
      "\n",
      "Accuracy loss: 56.15 | fairness loss 47.64 | Equal Opportunity Disparity = 0.41\n"
     ]
    },
    {
     "name": "stderr",
     "output_type": "stream",
     "text": [
      "\n",
      "\n",
      "  5%|▍         | 14/300 [00:02<00:58,  4.90it/s]\u001b[A\u001b[A\n",
      "\n",
      "  5%|▌         | 15/300 [00:03<00:57,  4.97it/s]\u001b[A\u001b[A"
     ]
    },
    {
     "name": "stdout",
     "output_type": "stream",
     "text": [
      " \n",
      "Avg Training Stats after 14 global rounds:\n",
      "Training loss: 0.73 | Training accuracy: 79.56% | Training Equal Opportunity Disparity: 0.4108\n",
      "\n",
      " | Global Training Round : 15 |\n",
      "\n",
      "Accuracy loss: 54.51 | fairness loss 48.92 | Equal Opportunity Disparity = 0.38\n",
      " \n",
      "Avg Training Stats after 15 global rounds:\n",
      "Training loss: 0.72 | Training accuracy: 80.30% | Training Equal Opportunity Disparity: 0.3776\n",
      "\n",
      " | Global Training Round : 16 |\n",
      "\n"
     ]
    },
    {
     "name": "stderr",
     "output_type": "stream",
     "text": [
      "\n",
      "\n",
      "  5%|▌         | 16/300 [00:03<00:57,  4.93it/s]\u001b[A\u001b[A"
     ]
    },
    {
     "name": "stdout",
     "output_type": "stream",
     "text": [
      "Accuracy loss: 53.07 | fairness loss 48.72 | Equal Opportunity Disparity = 0.33\n",
      " \n",
      "Avg Training Stats after 16 global rounds:\n",
      "Training loss: 0.71 | Training accuracy: 81.07% | Training Equal Opportunity Disparity: 0.3305\n",
      "\n",
      " | Global Training Round : 17 |\n",
      "\n"
     ]
    },
    {
     "name": "stderr",
     "output_type": "stream",
     "text": [
      "\n",
      "\n",
      "  6%|▌         | 17/300 [00:03<00:58,  4.84it/s]\u001b[A\u001b[A\n",
      "\n",
      "  6%|▌         | 18/300 [00:03<00:57,  4.93it/s]\u001b[A\u001b[A"
     ]
    },
    {
     "name": "stdout",
     "output_type": "stream",
     "text": [
      "Accuracy loss: 51.69 | fairness loss 48.00 | Equal Opportunity Disparity = 0.30\n",
      " \n",
      "Avg Training Stats after 17 global rounds:\n",
      "Training loss: 0.70 | Training accuracy: 81.70% | Training Equal Opportunity Disparity: 0.2972\n",
      "\n",
      " | Global Training Round : 18 |\n",
      "\n",
      "Accuracy loss: 50.41 | fairness loss 48.13 | Equal Opportunity Disparity = 0.27\n",
      " \n",
      "Avg Training Stats after 18 global rounds:\n",
      "Training loss: 0.69 | Training accuracy: 82.44% | Training Equal Opportunity Disparity: 0.2717\n",
      "\n",
      " | Global Training Round : 19 |\n",
      "\n"
     ]
    },
    {
     "name": "stderr",
     "output_type": "stream",
     "text": [
      "\n",
      "\n",
      "  6%|▋         | 19/300 [00:03<00:56,  4.94it/s]\u001b[A\u001b[A\n",
      "\n",
      "  7%|▋         | 20/300 [00:04<00:55,  5.07it/s]\u001b[A\u001b[A"
     ]
    },
    {
     "name": "stdout",
     "output_type": "stream",
     "text": [
      "Accuracy loss: 49.41 | fairness loss 49.44 | Equal Opportunity Disparity = 0.23\n",
      " \n",
      "Avg Training Stats after 19 global rounds:\n",
      "Training loss: 0.68 | Training accuracy: 83.04% | Training Equal Opportunity Disparity: 0.2329\n",
      "\n",
      " | Global Training Round : 20 |\n",
      "\n",
      "Accuracy loss: 48.41 | fairness loss 49.07 | Equal Opportunity Disparity = 0.22\n",
      " \n",
      "Avg Training Stats after 20 global rounds:\n",
      "Training loss: 0.67 | Training accuracy: 83.63% | Training Equal Opportunity Disparity: 0.2191\n",
      "\n",
      " | Global Training Round : 21 |\n",
      "\n"
     ]
    },
    {
     "name": "stderr",
     "output_type": "stream",
     "text": [
      "\n",
      "\n",
      "  7%|▋         | 21/300 [00:04<00:54,  5.11it/s]\u001b[A\u001b[A\n",
      "\n",
      "  7%|▋         | 22/300 [00:04<00:53,  5.20it/s]\u001b[A\u001b[A"
     ]
    },
    {
     "name": "stdout",
     "output_type": "stream",
     "text": [
      "Accuracy loss: 47.54 | fairness loss 48.67 | Equal Opportunity Disparity = 0.21\n",
      " \n",
      "Avg Training Stats after 21 global rounds:\n",
      "Training loss: 0.66 | Training accuracy: 83.74% | Training Equal Opportunity Disparity: 0.2074\n",
      "\n",
      " | Global Training Round : 22 |\n",
      "\n",
      "Accuracy loss: 46.69 | fairness loss 51.83 | Equal Opportunity Disparity = 0.19\n",
      " \n",
      "Avg Training Stats after 22 global rounds:\n",
      "Training loss: 0.65 | Training accuracy: 84.19% | Training Equal Opportunity Disparity: 0.1898\n",
      "\n",
      " | Global Training Round : 23 |\n",
      "\n"
     ]
    },
    {
     "name": "stderr",
     "output_type": "stream",
     "text": [
      "\n",
      "\n",
      "  8%|▊         | 23/300 [00:04<00:53,  5.19it/s]\u001b[A\u001b[A\n",
      "\n",
      "  8%|▊         | 24/300 [00:04<00:53,  5.17it/s]\u001b[A\u001b[A"
     ]
    },
    {
     "name": "stdout",
     "output_type": "stream",
     "text": [
      "Accuracy loss: 45.88 | fairness loss 51.07 | Equal Opportunity Disparity = 0.19\n",
      " \n",
      "Avg Training Stats after 23 global rounds:\n",
      "Training loss: 0.64 | Training accuracy: 84.67% | Training Equal Opportunity Disparity: 0.1858\n",
      "\n",
      " | Global Training Round : 24 |\n",
      "\n",
      "Accuracy loss: 45.21 | fairness loss 51.48 | Equal Opportunity Disparity = 0.18\n",
      " \n",
      "Avg Training Stats after 24 global rounds:\n",
      "Training loss: 0.64 | Training accuracy: 84.78% | Training Equal Opportunity Disparity: 0.1833\n",
      "\n",
      " | Global Training Round : 25 |\n",
      "\n"
     ]
    },
    {
     "name": "stderr",
     "output_type": "stream",
     "text": [
      "\n",
      "\n",
      "  8%|▊         | 25/300 [00:04<00:52,  5.25it/s]\u001b[A\u001b[A\n",
      "\n",
      "  9%|▊         | 26/300 [00:05<00:50,  5.40it/s]\u001b[A\u001b[A"
     ]
    },
    {
     "name": "stdout",
     "output_type": "stream",
     "text": [
      "Accuracy loss: 44.63 | fairness loss 52.76 | Equal Opportunity Disparity = 0.16\n",
      " \n",
      "Avg Training Stats after 25 global rounds:\n",
      "Training loss: 0.63 | Training accuracy: 85.11% | Training Equal Opportunity Disparity: 0.1633\n",
      "\n",
      " | Global Training Round : 26 |\n",
      "\n",
      "Accuracy loss: 44.02 | fairness loss 53.82 | Equal Opportunity Disparity = 0.16\n",
      " \n",
      "Avg Training Stats after 26 global rounds:\n",
      "Training loss: 0.62 | Training accuracy: 85.44% | Training Equal Opportunity Disparity: 0.1621\n",
      "\n",
      " | Global Training Round : 27 |\n",
      "\n"
     ]
    },
    {
     "name": "stderr",
     "output_type": "stream",
     "text": [
      "\n",
      "\n",
      "  9%|▉         | 27/300 [00:05<00:50,  5.46it/s]\u001b[A\u001b[A\n",
      "\n",
      "  9%|▉         | 28/300 [00:05<00:49,  5.48it/s]\u001b[A\u001b[A"
     ]
    },
    {
     "name": "stdout",
     "output_type": "stream",
     "text": [
      "Accuracy loss: 43.49 | fairness loss 55.45 | Equal Opportunity Disparity = 0.16\n",
      " \n",
      "Avg Training Stats after 27 global rounds:\n",
      "Training loss: 0.62 | Training accuracy: 85.59% | Training Equal Opportunity Disparity: 0.1587\n",
      "\n",
      " | Global Training Round : 28 |\n",
      "\n",
      "Accuracy loss: 43.18 | fairness loss 55.01 | Equal Opportunity Disparity = 0.15\n",
      " \n",
      "Avg Training Stats after 28 global rounds:\n",
      "Training loss: 0.61 | Training accuracy: 85.85% | Training Equal Opportunity Disparity: 0.1525\n",
      "\n",
      " | Global Training Round : 29 |\n",
      "\n"
     ]
    },
    {
     "name": "stderr",
     "output_type": "stream",
     "text": [
      "\n",
      "\n",
      " 10%|▉         | 29/300 [00:05<00:50,  5.39it/s]\u001b[A\u001b[A"
     ]
    },
    {
     "name": "stdout",
     "output_type": "stream",
     "text": [
      "Accuracy loss: 42.77 | fairness loss 56.39 | Equal Opportunity Disparity = 0.15\n",
      " \n",
      "Avg Training Stats after 29 global rounds:\n",
      "Training loss: 0.60 | Training accuracy: 85.81% | Training Equal Opportunity Disparity: 0.1513\n",
      "\n",
      " | Global Training Round : 30 |\n",
      "\n",
      "Accuracy loss: 42.32 | fairness loss 57.79 | Equal Opportunity Disparity = 0.15\n"
     ]
    },
    {
     "name": "stderr",
     "output_type": "stream",
     "text": [
      "\n",
      "\n",
      " 10%|█         | 30/300 [00:05<00:51,  5.27it/s]\u001b[A\u001b[A\n",
      "\n",
      " 10%|█         | 31/300 [00:06<00:50,  5.32it/s]\u001b[A\u001b[A"
     ]
    },
    {
     "name": "stdout",
     "output_type": "stream",
     "text": [
      " \n",
      "Avg Training Stats after 30 global rounds:\n",
      "Training loss: 0.60 | Training accuracy: 85.96% | Training Equal Opportunity Disparity: 0.1507\n",
      "\n",
      " | Global Training Round : 31 |\n",
      "\n",
      "Accuracy loss: 42.08 | fairness loss 57.62 | Equal Opportunity Disparity = 0.15\n",
      " \n",
      "Avg Training Stats after 31 global rounds:\n",
      "Training loss: 0.59 | Training accuracy: 85.96% | Training Equal Opportunity Disparity: 0.1488\n",
      "\n",
      " | Global Training Round : 32 |\n",
      "\n"
     ]
    },
    {
     "name": "stderr",
     "output_type": "stream",
     "text": [
      "\n",
      "\n",
      " 11%|█         | 32/300 [00:06<00:51,  5.25it/s]\u001b[A\u001b[A\n",
      "\n",
      " 11%|█         | 33/300 [00:06<00:50,  5.29it/s]\u001b[A\u001b[A"
     ]
    },
    {
     "name": "stdout",
     "output_type": "stream",
     "text": [
      "Accuracy loss: 41.53 | fairness loss 63.08 | Equal Opportunity Disparity = 0.15\n",
      " \n",
      "Avg Training Stats after 32 global rounds:\n",
      "Training loss: 0.59 | Training accuracy: 86.07% | Training Equal Opportunity Disparity: 0.1485\n",
      "\n",
      " | Global Training Round : 33 |\n",
      "\n",
      "Accuracy loss: 41.20 | fairness loss 63.21 | Equal Opportunity Disparity = 0.15\n",
      " \n",
      "Avg Training Stats after 33 global rounds:\n",
      "Training loss: 0.58 | Training accuracy: 86.15% | Training Equal Opportunity Disparity: 0.1472\n",
      "\n",
      " | Global Training Round : 34 |\n",
      "\n"
     ]
    },
    {
     "name": "stderr",
     "output_type": "stream",
     "text": [
      "\n",
      "\n",
      " 11%|█▏        | 34/300 [00:06<00:50,  5.22it/s]\u001b[A\u001b[A\n",
      "\n",
      " 12%|█▏        | 35/300 [00:06<00:51,  5.19it/s]\u001b[A\u001b[A"
     ]
    },
    {
     "name": "stdout",
     "output_type": "stream",
     "text": [
      "Accuracy loss: 40.95 | fairness loss 64.14 | Equal Opportunity Disparity = 0.15\n",
      " \n",
      "Avg Training Stats after 34 global rounds:\n",
      "Training loss: 0.58 | Training accuracy: 86.41% | Training Equal Opportunity Disparity: 0.1466\n",
      "\n",
      " | Global Training Round : 35 |\n",
      "\n",
      "Accuracy loss: 40.76 | fairness loss 65.00 | Equal Opportunity Disparity = 0.14\n",
      " \n",
      "Avg Training Stats after 35 global rounds:\n",
      "Training loss: 0.57 | Training accuracy: 86.48% | Training Equal Opportunity Disparity: 0.1432\n",
      "\n",
      " | Global Training Round : 36 |\n",
      "\n"
     ]
    },
    {
     "name": "stderr",
     "output_type": "stream",
     "text": [
      "\n",
      "\n",
      " 12%|█▏        | 36/300 [00:07<00:50,  5.24it/s]\u001b[A\u001b[A\n",
      "\n",
      " 12%|█▏        | 37/300 [00:07<00:49,  5.31it/s]\u001b[A\u001b[A"
     ]
    },
    {
     "name": "stdout",
     "output_type": "stream",
     "text": [
      "Accuracy loss: 40.49 | fairness loss 67.35 | Equal Opportunity Disparity = 0.14\n",
      " \n",
      "Avg Training Stats after 36 global rounds:\n",
      "Training loss: 0.57 | Training accuracy: 86.41% | Training Equal Opportunity Disparity: 0.1401\n",
      "\n",
      " | Global Training Round : 37 |\n",
      "\n",
      "Accuracy loss: 40.36 | fairness loss 64.89 | Equal Opportunity Disparity = 0.14\n",
      " \n",
      "Avg Training Stats after 37 global rounds:\n",
      "Training loss: 0.57 | Training accuracy: 86.44% | Training Equal Opportunity Disparity: 0.1370\n",
      "\n",
      " | Global Training Round : 38 |\n",
      "\n"
     ]
    },
    {
     "name": "stderr",
     "output_type": "stream",
     "text": [
      "\n",
      "\n",
      " 13%|█▎        | 38/300 [00:07<00:49,  5.25it/s]\u001b[A\u001b[A\n",
      "\n"
     ]
    },
    {
     "name": "stdout",
     "output_type": "stream",
     "text": [
      "Accuracy loss: 40.30 | fairness loss 66.56 | Equal Opportunity Disparity = 0.13\n",
      " \n",
      "Avg Training Stats after 38 global rounds:\n",
      "Training loss: 0.56 | Training accuracy: 86.41% | Training Equal Opportunity Disparity: 0.1268\n",
      "\n",
      " | Global Training Round : 39 |\n",
      "\n",
      "Accuracy loss: 40.17 | fairness loss 68.78 | Equal Opportunity Disparity = 0.12\n",
      " \n",
      "Avg Training Stats after 39 global rounds:\n",
      "Training loss: 0.56 | Training accuracy: 86.26% | Training Equal Opportunity Disparity: 0.1250\n"
     ]
    },
    {
     "name": "stderr",
     "output_type": "stream",
     "text": [
      " 13%|█▎        | 39/300 [00:07<00:50,  5.18it/s]\u001b[A\u001b[A\n",
      "\n",
      " 13%|█▎        | 40/300 [00:07<00:50,  5.16it/s]\u001b[A\u001b[A"
     ]
    },
    {
     "name": "stdout",
     "output_type": "stream",
     "text": [
      "\n",
      " | Global Training Round : 40 |\n",
      "\n",
      "Accuracy loss: 39.85 | fairness loss 69.37 | Equal Opportunity Disparity = 0.12\n",
      " \n",
      "Avg Training Stats after 40 global rounds:\n",
      "Training loss: 0.55 | Training accuracy: 86.33% | Training Equal Opportunity Disparity: 0.1250\n",
      "\n",
      " | Global Training Round : 41 |\n",
      "\n"
     ]
    },
    {
     "name": "stderr",
     "output_type": "stream",
     "text": [
      "\n",
      "\n",
      " 14%|█▎        | 41/300 [00:07<00:49,  5.21it/s]\u001b[A\u001b[A\n",
      "\n",
      " 14%|█▍        | 42/300 [00:08<00:48,  5.27it/s]\u001b[A\u001b[A"
     ]
    },
    {
     "name": "stdout",
     "output_type": "stream",
     "text": [
      "Accuracy loss: 39.68 | fairness loss 72.68 | Equal Opportunity Disparity = 0.12\n",
      " \n",
      "Avg Training Stats after 41 global rounds:\n",
      "Training loss: 0.55 | Training accuracy: 86.30% | Training Equal Opportunity Disparity: 0.1237\n",
      "\n",
      " | Global Training Round : 42 |\n",
      "\n",
      "Accuracy loss: 39.56 | fairness loss 75.49 | Equal Opportunity Disparity = 0.12\n",
      " \n",
      "Avg Training Stats after 42 global rounds:\n",
      "Training loss: 0.55 | Training accuracy: 86.26% | Training Equal Opportunity Disparity: 0.1225\n",
      "\n",
      " | Global Training Round : 43 |\n",
      "\n"
     ]
    },
    {
     "name": "stderr",
     "output_type": "stream",
     "text": [
      "\n",
      "\n",
      " 14%|█▍        | 43/300 [00:08<00:49,  5.23it/s]\u001b[A\u001b[A\n",
      "\n",
      " 15%|█▍        | 44/300 [00:08<00:49,  5.20it/s]\u001b[A\u001b[A"
     ]
    },
    {
     "name": "stdout",
     "output_type": "stream",
     "text": [
      "Accuracy loss: 39.59 | fairness loss 73.23 | Equal Opportunity Disparity = 0.12\n",
      " \n",
      "Avg Training Stats after 43 global rounds:\n",
      "Training loss: 0.54 | Training accuracy: 86.07% | Training Equal Opportunity Disparity: 0.1225\n",
      "\n",
      " | Global Training Round : 44 |\n",
      "\n",
      "Accuracy loss: 39.61 | fairness loss 71.67 | Equal Opportunity Disparity = 0.11\n",
      " \n",
      "Avg Training Stats after 44 global rounds:\n",
      "Training loss: 0.54 | Training accuracy: 85.96% | Training Equal Opportunity Disparity: 0.1139\n",
      "\n",
      " | Global Training Round : 45 |\n",
      "\n"
     ]
    },
    {
     "name": "stderr",
     "output_type": "stream",
     "text": [
      "\n",
      "\n",
      " 15%|█▌        | 45/300 [00:08<00:50,  5.02it/s]\u001b[A\u001b[A\n",
      "\n",
      " 15%|█▌        | 46/300 [00:08<00:49,  5.17it/s]\u001b[A\u001b[A"
     ]
    },
    {
     "name": "stdout",
     "output_type": "stream",
     "text": [
      "Accuracy loss: 39.63 | fairness loss 74.14 | Equal Opportunity Disparity = 0.11\n",
      " \n",
      "Avg Training Stats after 45 global rounds:\n",
      "Training loss: 0.54 | Training accuracy: 85.81% | Training Equal Opportunity Disparity: 0.1120\n",
      "\n",
      " | Global Training Round : 46 |\n",
      "\n",
      "Accuracy loss: 39.51 | fairness loss 74.74 | Equal Opportunity Disparity = 0.11\n",
      " \n",
      "Avg Training Stats after 46 global rounds:\n",
      "Training loss: 0.53 | Training accuracy: 85.85% | Training Equal Opportunity Disparity: 0.1114\n",
      "\n",
      " | Global Training Round : 47 |\n",
      "\n"
     ]
    },
    {
     "name": "stderr",
     "output_type": "stream",
     "text": [
      "\n",
      "\n",
      " 16%|█▌        | 47/300 [00:09<00:48,  5.17it/s]\u001b[A\u001b[A\n",
      "\n",
      " 16%|█▌        | 48/300 [00:09<00:48,  5.18it/s]\u001b[A\u001b[A"
     ]
    },
    {
     "name": "stdout",
     "output_type": "stream",
     "text": [
      "Accuracy loss: 39.33 | fairness loss 76.30 | Equal Opportunity Disparity = 0.11\n",
      " \n",
      "Avg Training Stats after 47 global rounds:\n",
      "Training loss: 0.53 | Training accuracy: 85.85% | Training Equal Opportunity Disparity: 0.1114\n",
      "\n",
      " | Global Training Round : 48 |\n",
      "\n",
      "Accuracy loss: 39.41 | fairness loss 76.41 | Equal Opportunity Disparity = 0.11\n",
      " \n",
      "Avg Training Stats after 48 global rounds:\n",
      "Training loss: 0.53 | Training accuracy: 85.74% | Training Equal Opportunity Disparity: 0.1067\n",
      "\n",
      " | Global Training Round : 49 |\n",
      "\n"
     ]
    },
    {
     "name": "stderr",
     "output_type": "stream",
     "text": [
      "\n",
      "\n",
      " 16%|█▋        | 49/300 [00:09<00:49,  5.10it/s]\u001b[A\u001b[A"
     ]
    },
    {
     "name": "stdout",
     "output_type": "stream",
     "text": [
      "Accuracy loss: 39.32 | fairness loss 76.38 | Equal Opportunity Disparity = 0.11\n",
      " \n",
      "Avg Training Stats after 49 global rounds:\n",
      "Training loss: 0.52 | Training accuracy: 85.67% | Training Equal Opportunity Disparity: 0.1055\n",
      "\n",
      " | Global Training Round : 50 |\n",
      "\n"
     ]
    },
    {
     "name": "stderr",
     "output_type": "stream",
     "text": [
      "\n",
      "\n",
      " 17%|█▋        | 50/300 [00:09<00:51,  4.87it/s]\u001b[A\u001b[A\n",
      "\n",
      " 17%|█▋        | 51/300 [00:09<00:50,  4.94it/s]\u001b[A\u001b[A"
     ]
    },
    {
     "name": "stdout",
     "output_type": "stream",
     "text": [
      "Accuracy loss: 39.22 | fairness loss 79.89 | Equal Opportunity Disparity = 0.10\n",
      " \n",
      "Avg Training Stats after 50 global rounds:\n",
      "Training loss: 0.52 | Training accuracy: 85.74% | Training Equal Opportunity Disparity: 0.1049\n",
      "\n",
      " | Global Training Round : 51 |\n",
      "\n",
      "Accuracy loss: 39.16 | fairness loss 80.61 | Equal Opportunity Disparity = 0.10\n",
      " \n",
      "Avg Training Stats after 51 global rounds:\n",
      "Training loss: 0.52 | Training accuracy: 85.74% | Training Equal Opportunity Disparity: 0.1049\n",
      "\n",
      " | Global Training Round : 52 |\n",
      "\n"
     ]
    },
    {
     "name": "stderr",
     "output_type": "stream",
     "text": [
      "\n",
      "\n",
      " 17%|█▋        | 52/300 [00:10<00:49,  4.97it/s]\u001b[A\u001b[A"
     ]
    },
    {
     "name": "stdout",
     "output_type": "stream",
     "text": [
      "Accuracy loss: 39.12 | fairness loss 81.75 | Equal Opportunity Disparity = 0.10\n",
      " \n",
      "Avg Training Stats after 52 global rounds:\n",
      "Training loss: 0.52 | Training accuracy: 85.70% | Training Equal Opportunity Disparity: 0.1036\n",
      "\n",
      " | Global Training Round : 53 |\n",
      "\n",
      "Accuracy loss: 39.18 | fairness loss 81.45 | Equal Opportunity Disparity = 0.10\n"
     ]
    },
    {
     "name": "stderr",
     "output_type": "stream",
     "text": [
      "\n",
      "\n",
      " 18%|█▊        | 53/300 [00:10<00:49,  4.95it/s]\u001b[A\u001b[A"
     ]
    },
    {
     "name": "stdout",
     "output_type": "stream",
     "text": [
      " \n",
      "Avg Training Stats after 53 global rounds:\n",
      "Training loss: 0.51 | Training accuracy: 85.81% | Training Equal Opportunity Disparity: 0.1036\n",
      "\n",
      " | Global Training Round : 54 |\n",
      "\n",
      "Accuracy loss: 39.32 | fairness loss 82.68 | Equal Opportunity Disparity = 0.10\n"
     ]
    },
    {
     "name": "stderr",
     "output_type": "stream",
     "text": [
      "\n",
      "\n",
      " 18%|█▊        | 54/300 [00:10<00:49,  4.95it/s]\u001b[A\u001b[A\n",
      "\n",
      " 18%|█▊        | 55/300 [00:10<00:48,  5.01it/s]\u001b[A\u001b[A"
     ]
    },
    {
     "name": "stdout",
     "output_type": "stream",
     "text": [
      " \n",
      "Avg Training Stats after 54 global rounds:\n",
      "Training loss: 0.51 | Training accuracy: 85.89% | Training Equal Opportunity Disparity: 0.0996\n",
      "\n",
      " | Global Training Round : 55 |\n",
      "\n",
      "Accuracy loss: 39.19 | fairness loss 82.85 | Equal Opportunity Disparity = 0.10\n",
      " \n",
      "Avg Training Stats after 55 global rounds:\n",
      "Training loss: 0.51 | Training accuracy: 85.93% | Training Equal Opportunity Disparity: 0.0962\n",
      "\n",
      " | Global Training Round : 56 |\n",
      "\n"
     ]
    },
    {
     "name": "stderr",
     "output_type": "stream",
     "text": [
      "\n",
      "\n",
      " 19%|█▊        | 56/300 [00:10<00:48,  5.08it/s]\u001b[A\u001b[A\n",
      "\n",
      " 19%|█▉        | 57/300 [00:11<00:46,  5.17it/s]\u001b[A\u001b[A"
     ]
    },
    {
     "name": "stdout",
     "output_type": "stream",
     "text": [
      "Accuracy loss: 39.08 | fairness loss 84.57 | Equal Opportunity Disparity = 0.10\n",
      " \n",
      "Avg Training Stats after 56 global rounds:\n",
      "Training loss: 0.51 | Training accuracy: 85.96% | Training Equal Opportunity Disparity: 0.0956\n",
      "\n",
      " | Global Training Round : 57 |\n",
      "\n",
      "Accuracy loss: 39.12 | fairness loss 86.94 | Equal Opportunity Disparity = 0.09\n",
      " \n",
      "Avg Training Stats after 57 global rounds:\n",
      "Training loss: 0.51 | Training accuracy: 85.81% | Training Equal Opportunity Disparity: 0.0931\n",
      "\n",
      " | Global Training Round : 58 |\n",
      "\n"
     ]
    },
    {
     "name": "stderr",
     "output_type": "stream",
     "text": [
      "\n",
      "\n",
      " 19%|█▉        | 58/300 [00:11<00:47,  5.11it/s]\u001b[A\u001b[A"
     ]
    },
    {
     "name": "stdout",
     "output_type": "stream",
     "text": [
      "Accuracy loss: 39.04 | fairness loss 86.66 | Equal Opportunity Disparity = 0.09\n",
      " \n",
      "Avg Training Stats after 58 global rounds:\n",
      "Training loss: 0.50 | Training accuracy: 85.93% | Training Equal Opportunity Disparity: 0.0931\n",
      "\n",
      " | Global Training Round : 59 |\n",
      "\n",
      "Accuracy loss: 39.14 | fairness loss 85.07 | Equal Opportunity Disparity = 0.09\n"
     ]
    },
    {
     "name": "stderr",
     "output_type": "stream",
     "text": [
      "\n",
      "\n",
      " 20%|█▉        | 59/300 [00:11<00:47,  5.06it/s]\u001b[A\u001b[A\n",
      "\n",
      " 20%|██        | 60/300 [00:11<00:47,  5.11it/s]\u001b[A\u001b[A"
     ]
    },
    {
     "name": "stdout",
     "output_type": "stream",
     "text": [
      " \n",
      "Avg Training Stats after 59 global rounds:\n",
      "Training loss: 0.50 | Training accuracy: 86.00% | Training Equal Opportunity Disparity: 0.0931\n",
      "\n",
      " | Global Training Round : 60 |\n",
      "\n",
      "Accuracy loss: 39.14 | fairness loss 85.19 | Equal Opportunity Disparity = 0.09\n",
      " \n",
      "Avg Training Stats after 60 global rounds:\n",
      "Training loss: 0.50 | Training accuracy: 85.89% | Training Equal Opportunity Disparity: 0.0931\n",
      "\n",
      " | Global Training Round : 61 |\n",
      "\n"
     ]
    },
    {
     "name": "stderr",
     "output_type": "stream",
     "text": [
      "\n",
      "\n",
      " 20%|██        | 61/300 [00:11<00:45,  5.25it/s]\u001b[A\u001b[A"
     ]
    },
    {
     "name": "stdout",
     "output_type": "stream",
     "text": [
      "Accuracy loss: 39.15 | fairness loss 85.65 | Equal Opportunity Disparity = 0.09\n",
      " \n",
      "Avg Training Stats after 61 global rounds:\n",
      "Training loss: 0.50 | Training accuracy: 86.00% | Training Equal Opportunity Disparity: 0.0931\n",
      "\n",
      " | Global Training Round : 62 |\n",
      "\n"
     ]
    },
    {
     "name": "stderr",
     "output_type": "stream",
     "text": [
      "\n",
      "\n",
      " 21%|██        | 62/300 [00:12<00:46,  5.12it/s]\u001b[A\u001b[A"
     ]
    },
    {
     "name": "stdout",
     "output_type": "stream",
     "text": [
      "Accuracy loss: 39.10 | fairness loss 86.60 | Equal Opportunity Disparity = 0.09\n",
      " \n",
      "Avg Training Stats after 62 global rounds:\n",
      "Training loss: 0.50 | Training accuracy: 86.00% | Training Equal Opportunity Disparity: 0.0931\n",
      "\n",
      " | Global Training Round : 63 |\n",
      "\n"
     ]
    },
    {
     "name": "stderr",
     "output_type": "stream",
     "text": [
      "\n",
      "\n",
      " 21%|██        | 63/300 [00:12<00:47,  5.04it/s]\u001b[A\u001b[A\n",
      "\n",
      " 21%|██▏       | 64/300 [00:12<00:46,  5.12it/s]\u001b[A\u001b[A"
     ]
    },
    {
     "name": "stdout",
     "output_type": "stream",
     "text": [
      "Accuracy loss: 39.02 | fairness loss 90.44 | Equal Opportunity Disparity = 0.09\n",
      " \n",
      "Avg Training Stats after 63 global rounds:\n",
      "Training loss: 0.49 | Training accuracy: 86.00% | Training Equal Opportunity Disparity: 0.0931\n",
      "\n",
      " | Global Training Round : 64 |\n",
      "\n",
      "Accuracy loss: 39.07 | fairness loss 89.53 | Equal Opportunity Disparity = 0.09\n",
      " \n",
      "Avg Training Stats after 64 global rounds:\n",
      "Training loss: 0.49 | Training accuracy: 85.96% | Training Equal Opportunity Disparity: 0.0913\n",
      "\n",
      " | Global Training Round : 65 |\n",
      "\n"
     ]
    },
    {
     "name": "stderr",
     "output_type": "stream",
     "text": [
      "\n",
      "\n",
      " 22%|██▏       | 65/300 [00:12<00:45,  5.13it/s]\u001b[A\u001b[A\n",
      "\n",
      " 22%|██▏       | 66/300 [00:12<00:45,  5.13it/s]\u001b[A\u001b[A"
     ]
    },
    {
     "name": "stdout",
     "output_type": "stream",
     "text": [
      "Accuracy loss: 39.04 | fairness loss 91.34 | Equal Opportunity Disparity = 0.09\n",
      " \n",
      "Avg Training Stats after 65 global rounds:\n",
      "Training loss: 0.49 | Training accuracy: 86.00% | Training Equal Opportunity Disparity: 0.0907\n",
      "\n",
      " | Global Training Round : 66 |\n",
      "\n",
      "Accuracy loss: 39.12 | fairness loss 94.55 | Equal Opportunity Disparity = 0.09\n",
      " \n",
      "Avg Training Stats after 66 global rounds:\n",
      "Training loss: 0.49 | Training accuracy: 86.00% | Training Equal Opportunity Disparity: 0.0879\n",
      "\n",
      " | Global Training Round : 67 |\n",
      "\n"
     ]
    },
    {
     "name": "stderr",
     "output_type": "stream",
     "text": [
      "\n",
      "\n",
      " 22%|██▏       | 67/300 [00:13<00:45,  5.13it/s]\u001b[A\u001b[A"
     ]
    },
    {
     "name": "stdout",
     "output_type": "stream",
     "text": [
      "Accuracy loss: 39.20 | fairness loss 89.01 | Equal Opportunity Disparity = 0.08\n",
      " \n",
      "Avg Training Stats after 67 global rounds:\n",
      "Training loss: 0.49 | Training accuracy: 85.89% | Training Equal Opportunity Disparity: 0.0826\n",
      "\n",
      " | Global Training Round : 68 |\n",
      "\n",
      "Accuracy loss: 39.22 | fairness loss 90.41 | Equal Opportunity Disparity = 0.08\n"
     ]
    },
    {
     "name": "stderr",
     "output_type": "stream",
     "text": [
      "\n",
      "\n",
      " 23%|██▎       | 68/300 [00:13<00:45,  5.07it/s]\u001b[A\u001b[A\n",
      "\n",
      " 23%|██▎       | 69/300 [00:13<00:44,  5.17it/s]\u001b[A\u001b[A"
     ]
    },
    {
     "name": "stdout",
     "output_type": "stream",
     "text": [
      " \n",
      "Avg Training Stats after 68 global rounds:\n",
      "Training loss: 0.48 | Training accuracy: 85.96% | Training Equal Opportunity Disparity: 0.0799\n",
      "\n",
      " | Global Training Round : 69 |\n",
      "\n",
      "Accuracy loss: 39.35 | fairness loss 93.27 | Equal Opportunity Disparity = 0.08\n",
      " \n",
      "Avg Training Stats after 69 global rounds:\n",
      "Training loss: 0.48 | Training accuracy: 86.04% | Training Equal Opportunity Disparity: 0.0799\n",
      "\n",
      " | Global Training Round : 70 |\n",
      "\n"
     ]
    },
    {
     "name": "stderr",
     "output_type": "stream",
     "text": [
      "\n",
      "\n",
      " 23%|██▎       | 70/300 [00:13<00:44,  5.19it/s]\u001b[A\u001b[A\n",
      "\n",
      " 24%|██▎       | 71/300 [00:13<00:43,  5.27it/s]\u001b[A\u001b[A"
     ]
    },
    {
     "name": "stdout",
     "output_type": "stream",
     "text": [
      "Accuracy loss: 39.39 | fairness loss 94.13 | Equal Opportunity Disparity = 0.08\n",
      " \n",
      "Avg Training Stats after 70 global rounds:\n",
      "Training loss: 0.48 | Training accuracy: 86.00% | Training Equal Opportunity Disparity: 0.0793\n",
      "\n",
      " | Global Training Round : 71 |\n",
      "\n",
      "Accuracy loss: 39.56 | fairness loss 93.36 | Equal Opportunity Disparity = 0.08\n",
      " \n",
      "Avg Training Stats after 71 global rounds:\n",
      "Training loss: 0.48 | Training accuracy: 85.93% | Training Equal Opportunity Disparity: 0.0780\n",
      "\n",
      " | Global Training Round : 72 |\n",
      "\n"
     ]
    },
    {
     "name": "stderr",
     "output_type": "stream",
     "text": [
      "\n",
      "\n",
      " 24%|██▍       | 72/300 [00:14<00:43,  5.21it/s]\u001b[A\u001b[A"
     ]
    },
    {
     "name": "stdout",
     "output_type": "stream",
     "text": [
      "Accuracy loss: 39.60 | fairness loss 91.87 | Equal Opportunity Disparity = 0.07\n",
      " \n",
      "Avg Training Stats after 72 global rounds:\n",
      "Training loss: 0.48 | Training accuracy: 85.85% | Training Equal Opportunity Disparity: 0.0740\n",
      "\n",
      " | Global Training Round : 73 |\n",
      "\n",
      "Accuracy loss: 39.69 | fairness loss 90.38 | Equal Opportunity Disparity = 0.07\n"
     ]
    },
    {
     "name": "stderr",
     "output_type": "stream",
     "text": [
      "\n",
      "\n",
      " 24%|██▍       | 73/300 [00:14<00:44,  5.14it/s]\u001b[A\u001b[A\n",
      "\n",
      " 25%|██▍       | 74/300 [00:14<00:43,  5.21it/s]\u001b[A\u001b[A"
     ]
    },
    {
     "name": "stdout",
     "output_type": "stream",
     "text": [
      " \n",
      "Avg Training Stats after 73 global rounds:\n",
      "Training loss: 0.48 | Training accuracy: 85.85% | Training Equal Opportunity Disparity: 0.0734\n",
      "\n",
      " | Global Training Round : 74 |\n",
      "\n",
      "Accuracy loss: 39.56 | fairness loss 93.01 | Equal Opportunity Disparity = 0.07\n",
      " \n",
      "Avg Training Stats after 74 global rounds:\n",
      "Training loss: 0.47 | Training accuracy: 85.93% | Training Equal Opportunity Disparity: 0.0728\n",
      "\n",
      " | Global Training Round : 75 |\n",
      "\n"
     ]
    },
    {
     "name": "stderr",
     "output_type": "stream",
     "text": [
      "\n",
      "\n",
      " 25%|██▌       | 75/300 [00:14<00:43,  5.23it/s]\u001b[A\u001b[A\n",
      "\n",
      " 25%|██▌       | 76/300 [00:14<00:42,  5.26it/s]\u001b[A\u001b[A"
     ]
    },
    {
     "name": "stdout",
     "output_type": "stream",
     "text": [
      "Accuracy loss: 39.56 | fairness loss 96.53 | Equal Opportunity Disparity = 0.07\n",
      " \n",
      "Avg Training Stats after 75 global rounds:\n",
      "Training loss: 0.47 | Training accuracy: 85.89% | Training Equal Opportunity Disparity: 0.0721\n",
      "\n",
      " | Global Training Round : 76 |\n",
      "\n",
      "Accuracy loss: 39.60 | fairness loss 95.12 | Equal Opportunity Disparity = 0.07\n",
      " \n",
      "Avg Training Stats after 76 global rounds:\n",
      "Training loss: 0.47 | Training accuracy: 85.89% | Training Equal Opportunity Disparity: 0.0721\n",
      "\n",
      " | Global Training Round : 77 |\n",
      "\n"
     ]
    },
    {
     "name": "stderr",
     "output_type": "stream",
     "text": [
      "\n",
      "\n",
      " 26%|██▌       | 77/300 [00:15<00:42,  5.20it/s]\u001b[A\u001b[A\n",
      "\n",
      " 26%|██▌       | 78/300 [00:15<00:42,  5.18it/s]\u001b[A\u001b[A"
     ]
    },
    {
     "name": "stdout",
     "output_type": "stream",
     "text": [
      "Accuracy loss: 39.76 | fairness loss 93.72 | Equal Opportunity Disparity = 0.07\n",
      " \n",
      "Avg Training Stats after 77 global rounds:\n",
      "Training loss: 0.47 | Training accuracy: 85.81% | Training Equal Opportunity Disparity: 0.0703\n",
      "\n",
      " | Global Training Round : 78 |\n",
      "\n",
      "Accuracy loss: 39.79 | fairness loss 94.51 | Equal Opportunity Disparity = 0.07\n",
      " \n",
      "Avg Training Stats after 78 global rounds:\n",
      "Training loss: 0.47 | Training accuracy: 85.78% | Training Equal Opportunity Disparity: 0.0697\n",
      "\n",
      " | Global Training Round : 79 |\n",
      "\n"
     ]
    },
    {
     "name": "stderr",
     "output_type": "stream",
     "text": [
      "\n",
      "\n",
      " 26%|██▋       | 79/300 [00:15<00:43,  5.06it/s]\u001b[A\u001b[A"
     ]
    },
    {
     "name": "stdout",
     "output_type": "stream",
     "text": [
      "Accuracy loss: 39.86 | fairness loss 94.42 | Equal Opportunity Disparity = 0.07\n",
      " \n",
      "Avg Training Stats after 79 global rounds:\n",
      "Training loss: 0.47 | Training accuracy: 85.78% | Training Equal Opportunity Disparity: 0.0690\n",
      "\n",
      " | Global Training Round : 80 |\n",
      "\n"
     ]
    },
    {
     "name": "stderr",
     "output_type": "stream",
     "text": [
      "\n",
      "\n",
      " 27%|██▋       | 80/300 [00:15<00:46,  4.74it/s]\u001b[A\u001b[A"
     ]
    },
    {
     "name": "stdout",
     "output_type": "stream",
     "text": [
      "Accuracy loss: 39.97 | fairness loss 96.50 | Equal Opportunity Disparity = 0.07\n",
      " \n",
      "Avg Training Stats after 80 global rounds:\n",
      "Training loss: 0.47 | Training accuracy: 85.67% | Training Equal Opportunity Disparity: 0.0678\n",
      "\n",
      " | Global Training Round : 81 |\n",
      "\n"
     ]
    },
    {
     "name": "stderr",
     "output_type": "stream",
     "text": [
      "\n",
      "\n",
      " 27%|██▋       | 81/300 [00:15<00:49,  4.47it/s]\u001b[A\u001b[A"
     ]
    },
    {
     "name": "stdout",
     "output_type": "stream",
     "text": [
      "Accuracy loss: 39.99 | fairness loss 95.30 | Equal Opportunity Disparity = 0.07\n",
      " \n",
      "Avg Training Stats after 81 global rounds:\n",
      "Training loss: 0.47 | Training accuracy: 85.78% | Training Equal Opportunity Disparity: 0.0678\n",
      "\n",
      " | Global Training Round : 82 |\n",
      "\n"
     ]
    },
    {
     "name": "stderr",
     "output_type": "stream",
     "text": [
      "\n",
      "\n",
      " 27%|██▋       | 82/300 [00:16<00:49,  4.43it/s]\u001b[A\u001b[A\n",
      "\n",
      " 28%|██▊       | 83/300 [00:16<00:46,  4.64it/s]\u001b[A\u001b[A"
     ]
    },
    {
     "name": "stdout",
     "output_type": "stream",
     "text": [
      "Accuracy loss: 40.18 | fairness loss 92.77 | Equal Opportunity Disparity = 0.07\n",
      " \n",
      "Avg Training Stats after 82 global rounds:\n",
      "Training loss: 0.46 | Training accuracy: 85.70% | Training Equal Opportunity Disparity: 0.0678\n",
      "\n",
      " | Global Training Round : 83 |\n",
      "\n",
      "Accuracy loss: 40.30 | fairness loss 96.15 | Equal Opportunity Disparity = 0.07\n",
      " \n",
      "Avg Training Stats after 83 global rounds:\n",
      "Training loss: 0.46 | Training accuracy: 85.37% | Training Equal Opportunity Disparity: 0.0678\n",
      "\n",
      " | Global Training Round : 84 |\n",
      "\n"
     ]
    },
    {
     "name": "stderr",
     "output_type": "stream",
     "text": [
      "\n",
      "\n",
      " 28%|██▊       | 84/300 [00:16<00:51,  4.21it/s]\u001b[A\u001b[A"
     ]
    },
    {
     "name": "stdout",
     "output_type": "stream",
     "text": [
      "Accuracy loss: 40.27 | fairness loss 94.98 | Equal Opportunity Disparity = 0.07\n",
      " \n",
      "Avg Training Stats after 84 global rounds:\n",
      "Training loss: 0.46 | Training accuracy: 85.63% | Training Equal Opportunity Disparity: 0.0672\n",
      "\n",
      " | Global Training Round : 85 |\n",
      "\n"
     ]
    },
    {
     "name": "stderr",
     "output_type": "stream",
     "text": [
      "\n",
      "\n",
      " 28%|██▊       | 85/300 [00:16<00:50,  4.22it/s]\u001b[A\u001b[A"
     ]
    },
    {
     "name": "stdout",
     "output_type": "stream",
     "text": [
      "Accuracy loss: 40.10 | fairness loss 100.78 | Equal Opportunity Disparity = 0.07\n",
      " \n",
      "Avg Training Stats after 85 global rounds:\n",
      "Training loss: 0.46 | Training accuracy: 85.74% | Training Equal Opportunity Disparity: 0.0672\n",
      "\n",
      " | Global Training Round : 86 |\n",
      "\n"
     ]
    },
    {
     "name": "stderr",
     "output_type": "stream",
     "text": [
      "\n",
      "\n",
      " 29%|██▊       | 86/300 [00:17<00:59,  3.58it/s]\u001b[A\u001b[A"
     ]
    },
    {
     "name": "stdout",
     "output_type": "stream",
     "text": [
      "Accuracy loss: 40.19 | fairness loss 98.44 | Equal Opportunity Disparity = 0.07\n",
      " \n",
      "Avg Training Stats after 86 global rounds:\n",
      "Training loss: 0.46 | Training accuracy: 85.81% | Training Equal Opportunity Disparity: 0.0672\n",
      "\n",
      " | Global Training Round : 87 |\n",
      "\n"
     ]
    },
    {
     "name": "stderr",
     "output_type": "stream",
     "text": [
      "\n",
      "\n",
      " 29%|██▉       | 87/300 [00:17<01:01,  3.47it/s]\u001b[A\u001b[A"
     ]
    },
    {
     "name": "stdout",
     "output_type": "stream",
     "text": [
      "Accuracy loss: 40.24 | fairness loss 104.13 | Equal Opportunity Disparity = 0.07\n",
      " \n",
      "Avg Training Stats after 87 global rounds:\n",
      "Training loss: 0.46 | Training accuracy: 85.81% | Training Equal Opportunity Disparity: 0.0653\n",
      "\n",
      " | Global Training Round : 88 |\n",
      "\n"
     ]
    },
    {
     "name": "stderr",
     "output_type": "stream",
     "text": [
      "\n",
      "\n",
      " 29%|██▉       | 88/300 [00:17<00:56,  3.76it/s]\u001b[A\u001b[A"
     ]
    },
    {
     "name": "stdout",
     "output_type": "stream",
     "text": [
      "Accuracy loss: 40.25 | fairness loss 99.80 | Equal Opportunity Disparity = 0.06\n",
      " \n",
      "Avg Training Stats after 88 global rounds:\n",
      "Training loss: 0.46 | Training accuracy: 85.78% | Training Equal Opportunity Disparity: 0.0647\n",
      "\n",
      " | Global Training Round : 89 |\n",
      "\n"
     ]
    },
    {
     "name": "stderr",
     "output_type": "stream",
     "text": [
      "\n",
      "\n",
      " 30%|██▉       | 89/300 [00:17<00:52,  4.03it/s]\u001b[A\u001b[A"
     ]
    },
    {
     "name": "stdout",
     "output_type": "stream",
     "text": [
      "Accuracy loss: 40.39 | fairness loss 97.76 | Equal Opportunity Disparity = 0.06\n",
      " \n",
      "Avg Training Stats after 89 global rounds:\n",
      "Training loss: 0.46 | Training accuracy: 85.67% | Training Equal Opportunity Disparity: 0.0647\n",
      "\n",
      " | Global Training Round : 90 |\n",
      "\n"
     ]
    },
    {
     "name": "stderr",
     "output_type": "stream",
     "text": [
      "\n",
      "\n",
      " 30%|███       | 90/300 [00:18<00:49,  4.21it/s]\u001b[A\u001b[A\n",
      "\n",
      " 30%|███       | 91/300 [00:18<00:46,  4.46it/s]\u001b[A\u001b[A"
     ]
    },
    {
     "name": "stdout",
     "output_type": "stream",
     "text": [
      "Accuracy loss: 40.57 | fairness loss 101.26 | Equal Opportunity Disparity = 0.06\n",
      " \n",
      "Avg Training Stats after 90 global rounds:\n",
      "Training loss: 0.46 | Training accuracy: 85.56% | Training Equal Opportunity Disparity: 0.0628\n",
      "\n",
      " | Global Training Round : 91 |\n",
      "\n",
      "Accuracy loss: 40.71 | fairness loss 99.61 | Equal Opportunity Disparity = 0.06\n",
      " \n",
      "Avg Training Stats after 91 global rounds:\n",
      "Training loss: 0.45 | Training accuracy: 85.19% | Training Equal Opportunity Disparity: 0.0594\n",
      "\n",
      " | Global Training Round : 92 |\n",
      "\n"
     ]
    },
    {
     "name": "stderr",
     "output_type": "stream",
     "text": [
      "\n",
      "\n",
      " 31%|███       | 92/300 [00:18<00:44,  4.69it/s]\u001b[A\u001b[A"
     ]
    },
    {
     "name": "stdout",
     "output_type": "stream",
     "text": [
      "Accuracy loss: 40.82 | fairness loss 96.95 | Equal Opportunity Disparity = 0.06\n",
      " \n",
      "Avg Training Stats after 92 global rounds:\n",
      "Training loss: 0.45 | Training accuracy: 85.19% | Training Equal Opportunity Disparity: 0.0588\n",
      "\n",
      " | Global Training Round : 93 |\n",
      "\n"
     ]
    },
    {
     "name": "stderr",
     "output_type": "stream",
     "text": [
      "\n",
      "\n",
      " 31%|███       | 93/300 [00:18<00:44,  4.62it/s]\u001b[A\u001b[A"
     ]
    },
    {
     "name": "stdout",
     "output_type": "stream",
     "text": [
      "Accuracy loss: 40.83 | fairness loss 97.10 | Equal Opportunity Disparity = 0.06\n",
      " \n",
      "Avg Training Stats after 93 global rounds:\n",
      "Training loss: 0.45 | Training accuracy: 85.19% | Training Equal Opportunity Disparity: 0.0588\n",
      "\n",
      " | Global Training Round : 94 |\n",
      "\n"
     ]
    },
    {
     "name": "stderr",
     "output_type": "stream",
     "text": [
      "\n",
      "\n",
      " 31%|███▏      | 94/300 [00:19<00:45,  4.56it/s]\u001b[A\u001b[A"
     ]
    },
    {
     "name": "stdout",
     "output_type": "stream",
     "text": [
      "Accuracy loss: 40.91 | fairness loss 99.55 | Equal Opportunity Disparity = 0.06\n",
      " \n",
      "Avg Training Stats after 94 global rounds:\n",
      "Training loss: 0.45 | Training accuracy: 85.15% | Training Equal Opportunity Disparity: 0.0582\n",
      "\n",
      " | Global Training Round : 95 |\n",
      "\n"
     ]
    },
    {
     "name": "stderr",
     "output_type": "stream",
     "text": [
      "\n",
      "\n",
      " 32%|███▏      | 95/300 [00:19<00:44,  4.62it/s]\u001b[A\u001b[A"
     ]
    },
    {
     "name": "stdout",
     "output_type": "stream",
     "text": [
      "Accuracy loss: 40.94 | fairness loss 98.04 | Equal Opportunity Disparity = 0.06\n",
      " \n",
      "Avg Training Stats after 95 global rounds:\n",
      "Training loss: 0.45 | Training accuracy: 85.15% | Training Equal Opportunity Disparity: 0.0576\n",
      "\n",
      " | Global Training Round : 96 |\n",
      "\n"
     ]
    },
    {
     "name": "stderr",
     "output_type": "stream",
     "text": [
      "\n",
      "\n",
      " 32%|███▏      | 96/300 [00:19<00:50,  4.01it/s]\u001b[A\u001b[A\n",
      "\n",
      " 32%|███▏      | 97/300 [00:19<00:46,  4.36it/s]\u001b[A\u001b[A"
     ]
    },
    {
     "name": "stdout",
     "output_type": "stream",
     "text": [
      "Accuracy loss: 40.85 | fairness loss 100.28 | Equal Opportunity Disparity = 0.05\n",
      " \n",
      "Avg Training Stats after 96 global rounds:\n",
      "Training loss: 0.45 | Training accuracy: 85.26% | Training Equal Opportunity Disparity: 0.0548\n",
      "\n",
      " | Global Training Round : 97 |\n",
      "\n",
      "Accuracy loss: 40.90 | fairness loss 98.41 | Equal Opportunity Disparity = 0.05\n",
      " \n",
      "Avg Training Stats after 97 global rounds:\n",
      "Training loss: 0.45 | Training accuracy: 85.19% | Training Equal Opportunity Disparity: 0.0542\n",
      "\n",
      " | Global Training Round : 98 |\n",
      "\n"
     ]
    },
    {
     "name": "stderr",
     "output_type": "stream",
     "text": [
      "\n",
      "\n",
      " 33%|███▎      | 98/300 [00:19<00:46,  4.39it/s]\u001b[A\u001b[A"
     ]
    },
    {
     "name": "stdout",
     "output_type": "stream",
     "text": [
      "Accuracy loss: 41.01 | fairness loss 101.22 | Equal Opportunity Disparity = 0.05\n",
      " \n",
      "Avg Training Stats after 98 global rounds:\n",
      "Training loss: 0.45 | Training accuracy: 85.26% | Training Equal Opportunity Disparity: 0.0523\n",
      "\n",
      " | Global Training Round : 99 |\n",
      "\n"
     ]
    },
    {
     "name": "stderr",
     "output_type": "stream",
     "text": [
      "\n",
      "\n",
      " 33%|███▎      | 99/300 [00:20<00:45,  4.44it/s]\u001b[A\u001b[A"
     ]
    },
    {
     "name": "stdout",
     "output_type": "stream",
     "text": [
      "Accuracy loss: 41.28 | fairness loss 99.09 | Equal Opportunity Disparity = 0.05\n",
      " \n",
      "Avg Training Stats after 99 global rounds:\n",
      "Training loss: 0.45 | Training accuracy: 85.04% | Training Equal Opportunity Disparity: 0.0511\n",
      "\n",
      " | Global Training Round : 100 |\n",
      "\n"
     ]
    },
    {
     "name": "stderr",
     "output_type": "stream",
     "text": [
      "\n",
      "\n",
      " 33%|███▎      | 100/300 [00:20<00:44,  4.50it/s]\u001b[A\u001b[A"
     ]
    },
    {
     "name": "stdout",
     "output_type": "stream",
     "text": [
      "Accuracy loss: 41.27 | fairness loss 100.38 | Equal Opportunity Disparity = 0.05\n",
      " \n",
      "Avg Training Stats after 100 global rounds:\n",
      "Training loss: 0.45 | Training accuracy: 85.19% | Training Equal Opportunity Disparity: 0.0505\n",
      "\n",
      " | Global Training Round : 101 |\n",
      "\n"
     ]
    },
    {
     "name": "stderr",
     "output_type": "stream",
     "text": [
      "\n",
      "\n",
      " 34%|███▎      | 101/300 [00:20<01:01,  3.23it/s]\u001b[A\u001b[A"
     ]
    },
    {
     "name": "stdout",
     "output_type": "stream",
     "text": [
      "Accuracy loss: 41.34 | fairness loss 98.64 | Equal Opportunity Disparity = 0.05\n",
      " \n",
      "Avg Training Stats after 101 global rounds:\n",
      "Training loss: 0.45 | Training accuracy: 85.15% | Training Equal Opportunity Disparity: 0.0492\n",
      "\n",
      " | Global Training Round : 102 |\n",
      "\n"
     ]
    },
    {
     "name": "stderr",
     "output_type": "stream",
     "text": [
      "\n",
      "\n",
      " 34%|███▍      | 102/300 [00:21<00:57,  3.42it/s]\u001b[A\u001b[A"
     ]
    },
    {
     "name": "stdout",
     "output_type": "stream",
     "text": [
      "Accuracy loss: 41.45 | fairness loss 101.02 | Equal Opportunity Disparity = 0.05\n",
      " \n",
      "Avg Training Stats after 102 global rounds:\n",
      "Training loss: 0.44 | Training accuracy: 85.15% | Training Equal Opportunity Disparity: 0.0492\n",
      "\n",
      " | Global Training Round : 103 |\n",
      "\n"
     ]
    },
    {
     "name": "stderr",
     "output_type": "stream",
     "text": [
      "\n",
      "\n",
      " 34%|███▍      | 103/300 [00:21<00:57,  3.41it/s]\u001b[A\u001b[A\n",
      "\n",
      " 35%|███▍      | 104/300 [00:21<00:51,  3.83it/s]\u001b[A\u001b[A"
     ]
    },
    {
     "name": "stdout",
     "output_type": "stream",
     "text": [
      "Accuracy loss: 41.52 | fairness loss 104.24 | Equal Opportunity Disparity = 0.05\n",
      " \n",
      "Avg Training Stats after 103 global rounds:\n",
      "Training loss: 0.44 | Training accuracy: 85.19% | Training Equal Opportunity Disparity: 0.0486\n",
      "\n",
      " | Global Training Round : 104 |\n",
      "\n",
      "Accuracy loss: 41.70 | fairness loss 100.62 | Equal Opportunity Disparity = 0.05\n",
      " \n",
      "Avg Training Stats after 104 global rounds:\n",
      "Training loss: 0.44 | Training accuracy: 85.19% | Training Equal Opportunity Disparity: 0.0458\n",
      "\n",
      " | Global Training Round : 105 |\n",
      "\n"
     ]
    },
    {
     "name": "stderr",
     "output_type": "stream",
     "text": [
      "\n",
      "\n",
      " 35%|███▌      | 105/300 [00:21<00:48,  4.02it/s]\u001b[A\u001b[A"
     ]
    },
    {
     "name": "stdout",
     "output_type": "stream",
     "text": [
      "Accuracy loss: 41.90 | fairness loss 98.23 | Equal Opportunity Disparity = 0.05\n",
      " \n",
      "Avg Training Stats after 105 global rounds:\n",
      "Training loss: 0.44 | Training accuracy: 85.11% | Training Equal Opportunity Disparity: 0.0452\n",
      "\n",
      " | Global Training Round : 106 |\n",
      "\n"
     ]
    },
    {
     "name": "stderr",
     "output_type": "stream",
     "text": [
      "\n",
      "\n",
      " 35%|███▌      | 106/300 [00:22<00:46,  4.20it/s]\u001b[A\u001b[A"
     ]
    },
    {
     "name": "stdout",
     "output_type": "stream",
     "text": [
      "Accuracy loss: 41.94 | fairness loss 100.85 | Equal Opportunity Disparity = 0.05\n",
      " \n",
      "Avg Training Stats after 106 global rounds:\n",
      "Training loss: 0.44 | Training accuracy: 85.15% | Training Equal Opportunity Disparity: 0.0452\n",
      "\n",
      " | Global Training Round : 107 |\n",
      "\n"
     ]
    },
    {
     "name": "stderr",
     "output_type": "stream",
     "text": [
      "\n",
      "\n",
      " 36%|███▌      | 107/300 [00:22<00:44,  4.36it/s]\u001b[A\u001b[A"
     ]
    },
    {
     "name": "stdout",
     "output_type": "stream",
     "text": [
      "Accuracy loss: 41.93 | fairness loss 103.19 | Equal Opportunity Disparity = 0.05\n",
      " \n",
      "Avg Training Stats after 107 global rounds:\n",
      "Training loss: 0.44 | Training accuracy: 85.11% | Training Equal Opportunity Disparity: 0.0458\n",
      "\n",
      " | Global Training Round : 108 |\n",
      "\n"
     ]
    },
    {
     "name": "stderr",
     "output_type": "stream",
     "text": [
      "\n",
      "\n",
      " 36%|███▌      | 108/300 [00:22<00:42,  4.52it/s]\u001b[A\u001b[A"
     ]
    },
    {
     "name": "stdout",
     "output_type": "stream",
     "text": [
      "Accuracy loss: 42.24 | fairness loss 100.37 | Equal Opportunity Disparity = 0.04\n",
      " \n",
      "Avg Training Stats after 108 global rounds:\n",
      "Training loss: 0.44 | Training accuracy: 85.07% | Training Equal Opportunity Disparity: 0.0412\n",
      "\n",
      " | Global Training Round : 109 |\n",
      "\n",
      "Accuracy loss: 42.27 | fairness loss 98.06 | Equal Opportunity Disparity = 0.04\n"
     ]
    },
    {
     "name": "stderr",
     "output_type": "stream",
     "text": [
      "\n",
      "\n",
      " 36%|███▋      | 109/300 [00:22<00:41,  4.63it/s]\u001b[A\u001b[A"
     ]
    },
    {
     "name": "stdout",
     "output_type": "stream",
     "text": [
      " \n",
      "Avg Training Stats after 109 global rounds:\n",
      "Training loss: 0.44 | Training accuracy: 85.04% | Training Equal Opportunity Disparity: 0.0406\n",
      "\n",
      " | Global Training Round : 110 |\n",
      "\n"
     ]
    },
    {
     "name": "stderr",
     "output_type": "stream",
     "text": [
      "\n",
      "\n",
      " 37%|███▋      | 110/300 [00:22<00:40,  4.68it/s]\u001b[A\u001b[A\n",
      "\n",
      " 37%|███▋      | 111/300 [00:23<00:39,  4.80it/s]"
     ]
    },
    {
     "name": "stdout",
     "output_type": "stream",
     "text": [
      "Accuracy loss: 42.38 | fairness loss 98.36 | Equal Opportunity Disparity = 0.04\n",
      " \n",
      "Avg Training Stats after 110 global rounds:\n",
      "Training loss: 0.44 | Training accuracy: 85.04% | Training Equal Opportunity Disparity: 0.0406\n",
      "\n",
      " | Global Training Round : 111 |\n",
      "\n",
      "Accuracy loss: 42.16 | fairness loss 97.72 | Equal Opportunity Disparity = 0.04\n",
      " \n",
      "Avg Training Stats after 111 global rounds:\n",
      "Training loss: 0.44 | Training accuracy: 85.11% | Training Equal Opportunity Disparity: 0.0412\n"
     ]
    },
    {
     "name": "stderr",
     "output_type": "stream",
     "text": [
      "\u001b[A\u001b[A\n",
      "\n",
      " 37%|███▋      | 112/300 [00:23<00:37,  4.98it/s]\u001b[A\u001b[A"
     ]
    },
    {
     "name": "stdout",
     "output_type": "stream",
     "text": [
      "\n",
      " | Global Training Round : 112 |\n",
      "\n",
      "Accuracy loss: 42.31 | fairness loss 102.69 | Equal Opportunity Disparity = 0.04\n",
      " \n",
      "Avg Training Stats after 112 global rounds:\n",
      "Training loss: 0.44 | Training accuracy: 84.96% | Training Equal Opportunity Disparity: 0.0400\n",
      "\n",
      " | Global Training Round : 113 |\n",
      "\n"
     ]
    },
    {
     "name": "stderr",
     "output_type": "stream",
     "text": [
      "\n",
      "\n",
      " 38%|███▊      | 113/300 [00:23<00:38,  4.84it/s]\u001b[A\u001b[A\n",
      "\n",
      " 38%|███▊      | 114/300 [00:23<00:37,  4.99it/s]\u001b[A\u001b[A"
     ]
    },
    {
     "name": "stdout",
     "output_type": "stream",
     "text": [
      "Accuracy loss: 42.48 | fairness loss 100.13 | Equal Opportunity Disparity = 0.04\n",
      " \n",
      "Avg Training Stats after 113 global rounds:\n",
      "Training loss: 0.44 | Training accuracy: 84.96% | Training Equal Opportunity Disparity: 0.0400\n",
      "\n",
      " | Global Training Round : 114 |\n",
      "\n",
      "Accuracy loss: 42.87 | fairness loss 96.27 | Equal Opportunity Disparity = 0.04\n",
      " \n",
      "Avg Training Stats after 114 global rounds:\n",
      "Training loss: 0.44 | Training accuracy: 84.85% | Training Equal Opportunity Disparity: 0.0387\n",
      "\n",
      " | Global Training Round : 115 |\n",
      "\n"
     ]
    },
    {
     "name": "stderr",
     "output_type": "stream",
     "text": [
      "\n",
      "\n",
      " 38%|███▊      | 115/300 [00:23<00:38,  4.85it/s]\u001b[A\u001b[A"
     ]
    },
    {
     "name": "stdout",
     "output_type": "stream",
     "text": [
      "Accuracy loss: 42.95 | fairness loss 95.75 | Equal Opportunity Disparity = 0.04\n",
      " \n",
      "Avg Training Stats after 115 global rounds:\n",
      "Training loss: 0.44 | Training accuracy: 84.89% | Training Equal Opportunity Disparity: 0.0360\n",
      "\n",
      " | Global Training Round : 116 |\n",
      "\n"
     ]
    },
    {
     "name": "stderr",
     "output_type": "stream",
     "text": [
      "\n",
      "\n",
      " 39%|███▊      | 116/300 [00:24<00:38,  4.82it/s]\u001b[A\u001b[A"
     ]
    },
    {
     "name": "stdout",
     "output_type": "stream",
     "text": [
      "Accuracy loss: 43.17 | fairness loss 94.72 | Equal Opportunity Disparity = 0.04\n",
      " \n",
      "Avg Training Stats after 116 global rounds:\n",
      "Training loss: 0.43 | Training accuracy: 84.85% | Training Equal Opportunity Disparity: 0.0353\n",
      "\n",
      " | Global Training Round : 117 |\n",
      "\n",
      "Accuracy loss: 43.24 | fairness loss 99.72 | Equal Opportunity Disparity = 0.04\n"
     ]
    },
    {
     "name": "stderr",
     "output_type": "stream",
     "text": [
      "\n",
      "\n",
      " 39%|███▉      | 117/300 [00:24<00:37,  4.86it/s]\u001b[A\u001b[A"
     ]
    },
    {
     "name": "stdout",
     "output_type": "stream",
     "text": [
      " \n",
      "Avg Training Stats after 117 global rounds:\n",
      "Training loss: 0.43 | Training accuracy: 84.81% | Training Equal Opportunity Disparity: 0.0353\n",
      "\n",
      " | Global Training Round : 118 |\n",
      "\n",
      "Accuracy loss: 43.19 | fairness loss 97.82 | Equal Opportunity Disparity = 0.03\n"
     ]
    },
    {
     "name": "stderr",
     "output_type": "stream",
     "text": [
      "\n",
      "\n",
      " 39%|███▉      | 118/300 [00:24<00:37,  4.86it/s]\u001b[A\u001b[A"
     ]
    },
    {
     "name": "stdout",
     "output_type": "stream",
     "text": [
      " \n",
      "Avg Training Stats after 118 global rounds:\n",
      "Training loss: 0.43 | Training accuracy: 84.81% | Training Equal Opportunity Disparity: 0.0341\n",
      "\n",
      " | Global Training Round : 119 |\n",
      "\n"
     ]
    },
    {
     "name": "stderr",
     "output_type": "stream",
     "text": [
      "\n",
      "\n",
      " 40%|███▉      | 119/300 [00:24<00:37,  4.83it/s]\u001b[A\u001b[A"
     ]
    },
    {
     "name": "stdout",
     "output_type": "stream",
     "text": [
      "Accuracy loss: 43.01 | fairness loss 103.79 | Equal Opportunity Disparity = 0.03\n",
      " \n",
      "Avg Training Stats after 119 global rounds:\n",
      "Training loss: 0.43 | Training accuracy: 84.89% | Training Equal Opportunity Disparity: 0.0329\n",
      "\n",
      " | Global Training Round : 120 |\n",
      "\n",
      "Accuracy loss: 43.00 | fairness loss 103.23 | Equal Opportunity Disparity = 0.03"
     ]
    },
    {
     "name": "stderr",
     "output_type": "stream",
     "text": [
      "\n",
      "\n",
      " 40%|████      | 120/300 [00:24<00:37,  4.86it/s]\u001b[A\u001b[A"
     ]
    },
    {
     "name": "stdout",
     "output_type": "stream",
     "text": [
      "\n",
      " \n",
      "Avg Training Stats after 120 global rounds:\n",
      "Training loss: 0.43 | Training accuracy: 84.85% | Training Equal Opportunity Disparity: 0.0322\n",
      "\n",
      " | Global Training Round : 121 |\n",
      "\n"
     ]
    },
    {
     "name": "stderr",
     "output_type": "stream",
     "text": [
      "\n",
      "\n",
      " 40%|████      | 121/300 [00:25<00:36,  4.86it/s]\u001b[A\u001b[A\n",
      "\n",
      " 41%|████      | 122/300 [00:25<00:36,  4.91it/s]\u001b[A\u001b[A"
     ]
    },
    {
     "name": "stdout",
     "output_type": "stream",
     "text": [
      "Accuracy loss: 42.86 | fairness loss 101.16 | Equal Opportunity Disparity = 0.03\n",
      " \n",
      "Avg Training Stats after 121 global rounds:\n",
      "Training loss: 0.43 | Training accuracy: 84.96% | Training Equal Opportunity Disparity: 0.0322\n",
      "\n",
      " | Global Training Round : 122 |\n",
      "\n",
      "Accuracy loss: 42.93 | fairness loss 103.51 | Equal Opportunity Disparity = 0.03\n",
      " \n",
      "Avg Training Stats after 122 global rounds:\n",
      "Training loss: 0.43 | Training accuracy: 84.96% | Training Equal Opportunity Disparity: 0.0316\n"
     ]
    },
    {
     "name": "stderr",
     "output_type": "stream",
     "text": [
      "\n",
      "\n",
      " 41%|████      | 123/300 [00:25<00:35,  4.99it/s]\u001b[A\u001b[A"
     ]
    },
    {
     "name": "stdout",
     "output_type": "stream",
     "text": [
      "\n",
      " | Global Training Round : 123 |\n",
      "\n",
      "Accuracy loss: 43.03 | fairness loss 103.66 | Equal Opportunity Disparity = 0.03\n",
      " \n",
      "Avg Training Stats after 123 global rounds:\n",
      "Training loss: 0.43 | Training accuracy: 84.89% | Training Equal Opportunity Disparity: 0.0316\n",
      "\n",
      " | Global Training Round : 124 |\n",
      "\n"
     ]
    },
    {
     "name": "stderr",
     "output_type": "stream",
     "text": [
      "\n",
      "\n",
      " 41%|████▏     | 124/300 [00:25<00:35,  4.96it/s]\u001b[A\u001b[A"
     ]
    },
    {
     "name": "stdout",
     "output_type": "stream",
     "text": [
      "Accuracy loss: 43.25 | fairness loss 102.46 | Equal Opportunity Disparity = 0.03\n",
      " \n",
      "Avg Training Stats after 124 global rounds:\n",
      "Training loss: 0.43 | Training accuracy: 84.74% | Training Equal Opportunity Disparity: 0.0298\n",
      "\n",
      " | Global Training Round : 125 |\n",
      "\n"
     ]
    },
    {
     "name": "stderr",
     "output_type": "stream",
     "text": [
      "\n",
      "\n",
      " 42%|████▏     | 125/300 [00:25<00:35,  4.95it/s]\u001b[A\u001b[A\n",
      "\n",
      " 42%|████▏     | 126/300 [00:26<00:34,  5.06it/s]\u001b[A\u001b[A"
     ]
    },
    {
     "name": "stdout",
     "output_type": "stream",
     "text": [
      "Accuracy loss: 43.24 | fairness loss 103.32 | Equal Opportunity Disparity = 0.03\n",
      " \n",
      "Avg Training Stats after 125 global rounds:\n",
      "Training loss: 0.43 | Training accuracy: 84.85% | Training Equal Opportunity Disparity: 0.0298\n",
      "\n",
      " | Global Training Round : 126 |\n",
      "\n",
      "Accuracy loss: 43.16 | fairness loss 104.62 | Equal Opportunity Disparity = 0.03\n",
      " \n",
      "Avg Training Stats after 126 global rounds:\n",
      "Training loss: 0.43 | Training accuracy: 84.89% | Training Equal Opportunity Disparity: 0.0291\n",
      "\n",
      " | Global Training Round : 127 |\n",
      "\n"
     ]
    },
    {
     "name": "stderr",
     "output_type": "stream",
     "text": [
      "\n",
      "\n",
      " 42%|████▏     | 127/300 [00:26<00:35,  4.88it/s]\u001b[A\u001b[A\n",
      "\n",
      " 43%|████▎     | 128/300 [00:26<00:34,  4.98it/s]\u001b[A\u001b[A"
     ]
    },
    {
     "name": "stdout",
     "output_type": "stream",
     "text": [
      "Accuracy loss: 43.57 | fairness loss 105.45 | Equal Opportunity Disparity = 0.03\n",
      " \n",
      "Avg Training Stats after 127 global rounds:\n",
      "Training loss: 0.43 | Training accuracy: 84.67% | Training Equal Opportunity Disparity: 0.0273\n",
      "\n",
      " | Global Training Round : 128 |\n",
      "\n",
      "Accuracy loss: 43.86 | fairness loss 99.92 | Equal Opportunity Disparity = 0.03\n",
      " \n",
      "Avg Training Stats after 128 global rounds:\n",
      "Training loss: 0.43 | Training accuracy: 84.48% | Training Equal Opportunity Disparity: 0.0254\n",
      "\n",
      " | Global Training Round : 129 |\n",
      "\n"
     ]
    },
    {
     "name": "stderr",
     "output_type": "stream",
     "text": [
      "\n",
      "\n",
      " 43%|████▎     | 129/300 [00:26<00:35,  4.85it/s]\u001b[A\u001b[A"
     ]
    },
    {
     "name": "stdout",
     "output_type": "stream",
     "text": [
      "Accuracy loss: 43.97 | fairness loss 101.34 | Equal Opportunity Disparity = 0.03\n",
      " \n",
      "Avg Training Stats after 129 global rounds:\n",
      "Training loss: 0.43 | Training accuracy: 84.41% | Training Equal Opportunity Disparity: 0.0254\n",
      "\n",
      " | Global Training Round : 130 |\n",
      "\n"
     ]
    },
    {
     "name": "stderr",
     "output_type": "stream",
     "text": [
      "\n",
      "\n",
      " 43%|████▎     | 130/300 [00:26<00:35,  4.84it/s]\u001b[A\u001b[A\n",
      "\n",
      " 44%|████▎     | 131/300 [00:27<00:34,  4.96it/s]\u001b[A\u001b[A"
     ]
    },
    {
     "name": "stdout",
     "output_type": "stream",
     "text": [
      "Accuracy loss: 44.35 | fairness loss 102.52 | Equal Opportunity Disparity = 0.02\n",
      " \n",
      "Avg Training Stats after 130 global rounds:\n",
      "Training loss: 0.43 | Training accuracy: 84.15% | Training Equal Opportunity Disparity: 0.0248\n",
      "\n",
      " | Global Training Round : 131 |\n",
      "\n",
      "Accuracy loss: 44.18 | fairness loss 98.60 | Equal Opportunity Disparity = 0.02\n",
      " \n",
      "Avg Training Stats after 131 global rounds:\n",
      "Training loss: 0.43 | Training accuracy: 84.33% | Training Equal Opportunity Disparity: 0.0248\n",
      "\n",
      " | Global Training Round : 132 |\n",
      "\n"
     ]
    },
    {
     "name": "stderr",
     "output_type": "stream",
     "text": [
      "\n",
      "\n",
      " 44%|████▍     | 132/300 [00:27<00:33,  4.98it/s]\u001b[A\u001b[A\n",
      "\n",
      " 44%|████▍     | 133/300 [00:27<00:32,  5.08it/s]\u001b[A\u001b[A"
     ]
    },
    {
     "name": "stdout",
     "output_type": "stream",
     "text": [
      "Accuracy loss: 44.24 | fairness loss 100.71 | Equal Opportunity Disparity = 0.02\n",
      " \n",
      "Avg Training Stats after 132 global rounds:\n",
      "Training loss: 0.43 | Training accuracy: 84.41% | Training Equal Opportunity Disparity: 0.0248\n",
      "\n",
      " | Global Training Round : 133 |\n",
      "\n",
      "Accuracy loss: 44.02 | fairness loss 103.06 | Equal Opportunity Disparity = 0.02\n",
      " \n",
      "Avg Training Stats after 133 global rounds:\n",
      "Training loss: 0.42 | Training accuracy: 84.41% | Training Equal Opportunity Disparity: 0.0248\n",
      "\n",
      " | Global Training Round : 134 |\n",
      "\n"
     ]
    },
    {
     "name": "stderr",
     "output_type": "stream",
     "text": [
      "\n",
      "\n",
      " 45%|████▍     | 134/300 [00:27<00:32,  5.09it/s]\u001b[A\u001b[A"
     ]
    },
    {
     "name": "stdout",
     "output_type": "stream",
     "text": [
      "Accuracy loss: 44.02 | fairness loss 105.01 | Equal Opportunity Disparity = 0.02\n",
      " \n",
      "Avg Training Stats after 134 global rounds:\n",
      "Training loss: 0.42 | Training accuracy: 84.41% | Training Equal Opportunity Disparity: 0.0236\n",
      "\n",
      " | Global Training Round : 135 |\n",
      "\n",
      "Accuracy loss: 43.97 | fairness loss 105.64 | Equal Opportunity Disparity = 0.02\n"
     ]
    },
    {
     "name": "stderr",
     "output_type": "stream",
     "text": [
      "\n",
      "\n",
      " 45%|████▌     | 135/300 [00:27<00:32,  5.06it/s]\u001b[A\u001b[A\n",
      "\n",
      " 45%|████▌     | 136/300 [00:28<00:31,  5.22it/s]\u001b[A\u001b[A"
     ]
    },
    {
     "name": "stdout",
     "output_type": "stream",
     "text": [
      " \n",
      "Avg Training Stats after 135 global rounds:\n",
      "Training loss: 0.42 | Training accuracy: 84.41% | Training Equal Opportunity Disparity: 0.0242\n",
      "\n",
      " | Global Training Round : 136 |\n",
      "\n",
      "Accuracy loss: 44.18 | fairness loss 103.88 | Equal Opportunity Disparity = 0.02\n",
      " \n",
      "Avg Training Stats after 136 global rounds:\n",
      "Training loss: 0.42 | Training accuracy: 84.33% | Training Equal Opportunity Disparity: 0.0242\n",
      "\n",
      " | Global Training Round : 137 |\n",
      "\n"
     ]
    },
    {
     "name": "stderr",
     "output_type": "stream",
     "text": [
      "\n",
      "\n",
      " 46%|████▌     | 137/300 [00:28<00:32,  5.07it/s]\u001b[A\u001b[A\n",
      "\n",
      " 46%|████▌     | 138/300 [00:28<00:31,  5.08it/s]\u001b[A\u001b[A"
     ]
    },
    {
     "name": "stdout",
     "output_type": "stream",
     "text": [
      "Accuracy loss: 44.18 | fairness loss 108.97 | Equal Opportunity Disparity = 0.02\n",
      " \n",
      "Avg Training Stats after 137 global rounds:\n",
      "Training loss: 0.42 | Training accuracy: 84.37% | Training Equal Opportunity Disparity: 0.0242\n",
      "\n",
      " | Global Training Round : 138 |\n",
      "\n",
      "Accuracy loss: 44.37 | fairness loss 105.25 | Equal Opportunity Disparity = 0.02\n",
      " \n",
      "Avg Training Stats after 138 global rounds:\n",
      "Training loss: 0.42 | Training accuracy: 84.26% | Training Equal Opportunity Disparity: 0.0236\n",
      "\n",
      " | Global Training Round : 139 |\n",
      "\n"
     ]
    },
    {
     "name": "stderr",
     "output_type": "stream",
     "text": [
      "\n",
      "\n",
      " 46%|████▋     | 139/300 [00:28<00:31,  5.19it/s]\u001b[A\u001b[A"
     ]
    },
    {
     "name": "stdout",
     "output_type": "stream",
     "text": [
      "Accuracy loss: 44.43 | fairness loss 108.62 | Equal Opportunity Disparity = 0.02\n",
      " \n",
      "Avg Training Stats after 139 global rounds:\n",
      "Training loss: 0.42 | Training accuracy: 84.26% | Training Equal Opportunity Disparity: 0.0223\n",
      "\n",
      " | Global Training Round : 140 |\n",
      "\n"
     ]
    },
    {
     "name": "stderr",
     "output_type": "stream",
     "text": [
      "\n",
      "\n",
      " 47%|████▋     | 140/300 [00:28<00:32,  4.96it/s]\u001b[A\u001b[A\n",
      "\n",
      " 47%|████▋     | 141/300 [00:29<00:31,  5.02it/s]\u001b[A\u001b[A"
     ]
    },
    {
     "name": "stdout",
     "output_type": "stream",
     "text": [
      "Accuracy loss: 44.53 | fairness loss 102.46 | Equal Opportunity Disparity = 0.02\n",
      " \n",
      "Avg Training Stats after 140 global rounds:\n",
      "Training loss: 0.42 | Training accuracy: 84.15% | Training Equal Opportunity Disparity: 0.0211\n",
      "\n",
      " | Global Training Round : 141 |\n",
      "\n",
      "Accuracy loss: 44.37 | fairness loss 107.12 | Equal Opportunity Disparity = 0.02\n",
      " \n",
      "Avg Training Stats after 141 global rounds:\n",
      "Training loss: 0.42 | Training accuracy: 84.26% | Training Equal Opportunity Disparity: 0.0223\n",
      "\n",
      " | Global Training Round : 142 |\n",
      "\n"
     ]
    },
    {
     "name": "stderr",
     "output_type": "stream",
     "text": [
      "\n",
      "\n",
      " 47%|████▋     | 142/300 [00:29<00:31,  5.07it/s]\u001b[A\u001b[A\n",
      "\n",
      " 48%|████▊     | 143/300 [00:29<00:30,  5.15it/s]\u001b[A\u001b[A"
     ]
    },
    {
     "name": "stdout",
     "output_type": "stream",
     "text": [
      "Accuracy loss: 44.26 | fairness loss 106.79 | Equal Opportunity Disparity = 0.02\n",
      " \n",
      "Avg Training Stats after 142 global rounds:\n",
      "Training loss: 0.42 | Training accuracy: 84.33% | Training Equal Opportunity Disparity: 0.0217\n",
      "\n",
      " | Global Training Round : 143 |\n",
      "\n",
      "Accuracy loss: 44.31 | fairness loss 106.39 | Equal Opportunity Disparity = 0.02\n",
      " \n",
      "Avg Training Stats after 143 global rounds:\n",
      "Training loss: 0.42 | Training accuracy: 84.37% | Training Equal Opportunity Disparity: 0.0205\n",
      "\n",
      " | Global Training Round : 144 |\n",
      "\n"
     ]
    },
    {
     "name": "stderr",
     "output_type": "stream",
     "text": [
      "\n",
      "\n",
      " 48%|████▊     | 144/300 [00:29<00:30,  5.09it/s]\u001b[A\u001b[A\n",
      "\n",
      " 48%|████▊     | 145/300 [00:29<00:30,  5.14it/s]\u001b[A\u001b[A"
     ]
    },
    {
     "name": "stdout",
     "output_type": "stream",
     "text": [
      "Accuracy loss: 44.37 | fairness loss 104.58 | Equal Opportunity Disparity = 0.02\n",
      " \n",
      "Avg Training Stats after 144 global rounds:\n",
      "Training loss: 0.42 | Training accuracy: 84.33% | Training Equal Opportunity Disparity: 0.0211\n",
      "\n",
      " | Global Training Round : 145 |\n",
      "\n",
      "Accuracy loss: 44.40 | fairness loss 108.25 | Equal Opportunity Disparity = 0.02\n",
      " \n",
      "Avg Training Stats after 145 global rounds:\n",
      "Training loss: 0.42 | Training accuracy: 84.33% | Training Equal Opportunity Disparity: 0.0205\n",
      "\n",
      " | Global Training Round : 146 |\n",
      "\n"
     ]
    },
    {
     "name": "stderr",
     "output_type": "stream",
     "text": [
      "\n",
      "\n",
      " 49%|████▊     | 146/300 [00:30<00:30,  5.03it/s]\u001b[A\u001b[A\n",
      "\n",
      " 49%|████▉     | 147/300 [00:30<00:29,  5.16it/s]\u001b[A\u001b[A"
     ]
    },
    {
     "name": "stdout",
     "output_type": "stream",
     "text": [
      "Accuracy loss: 44.51 | fairness loss 108.69 | Equal Opportunity Disparity = 0.02\n",
      " \n",
      "Avg Training Stats after 146 global rounds:\n",
      "Training loss: 0.42 | Training accuracy: 84.22% | Training Equal Opportunity Disparity: 0.0205\n",
      "\n",
      " | Global Training Round : 147 |\n",
      "\n",
      "Accuracy loss: 44.83 | fairness loss 108.34 | Equal Opportunity Disparity = 0.02\n",
      " \n",
      "Avg Training Stats after 147 global rounds:\n",
      "Training loss: 0.42 | Training accuracy: 84.04% | Training Equal Opportunity Disparity: 0.0192\n",
      "\n",
      " | Global Training Round : 148 |\n",
      "\n"
     ]
    },
    {
     "name": "stderr",
     "output_type": "stream",
     "text": [
      "\n",
      "\n",
      " 49%|████▉     | 148/300 [00:30<00:30,  5.01it/s]\u001b[A\u001b[A"
     ]
    },
    {
     "name": "stdout",
     "output_type": "stream",
     "text": [
      "Accuracy loss: 44.85 | fairness loss 111.95 | Equal Opportunity Disparity = 0.02\n",
      " \n",
      "Avg Training Stats after 148 global rounds:\n",
      "Training loss: 0.42 | Training accuracy: 84.04% | Training Equal Opportunity Disparity: 0.0192\n",
      "\n",
      " | Global Training Round : 149 |\n",
      "\n"
     ]
    },
    {
     "name": "stderr",
     "output_type": "stream",
     "text": [
      "\n",
      "\n",
      " 50%|████▉     | 149/300 [00:30<00:30,  4.95it/s]\u001b[A\u001b[A"
     ]
    },
    {
     "name": "stdout",
     "output_type": "stream",
     "text": [
      "Accuracy loss: 44.96 | fairness loss 107.25 | Equal Opportunity Disparity = 0.02\n",
      " \n",
      "Avg Training Stats after 149 global rounds:\n",
      "Training loss: 0.42 | Training accuracy: 84.04% | Training Equal Opportunity Disparity: 0.0186\n",
      "\n",
      " | Global Training Round : 150 |\n",
      "\n"
     ]
    },
    {
     "name": "stderr",
     "output_type": "stream",
     "text": [
      "\n",
      "\n",
      " 50%|█████     | 150/300 [00:30<00:30,  4.90it/s]\u001b[A\u001b[A"
     ]
    },
    {
     "name": "stdout",
     "output_type": "stream",
     "text": [
      "Accuracy loss: 45.17 | fairness loss 101.03 | Equal Opportunity Disparity = 0.02\n",
      " \n",
      "Avg Training Stats after 150 global rounds:\n",
      "Training loss: 0.42 | Training accuracy: 84.04% | Training Equal Opportunity Disparity: 0.0152\n",
      "\n",
      " | Global Training Round : 151 |\n",
      "\n"
     ]
    },
    {
     "name": "stderr",
     "output_type": "stream",
     "text": [
      "\n",
      "\n",
      " 50%|█████     | 151/300 [00:31<00:30,  4.89it/s]\u001b[A\u001b[A\n",
      "\n",
      " 51%|█████     | 152/300 [00:31<00:29,  4.98it/s]\u001b[A\u001b[A"
     ]
    },
    {
     "name": "stdout",
     "output_type": "stream",
     "text": [
      "Accuracy loss: 45.11 | fairness loss 103.67 | Equal Opportunity Disparity = 0.02\n",
      " \n",
      "Avg Training Stats after 151 global rounds:\n",
      "Training loss: 0.42 | Training accuracy: 83.96% | Training Equal Opportunity Disparity: 0.0174\n",
      "\n",
      " | Global Training Round : 152 |\n",
      "\n",
      "Accuracy loss: 45.17 | fairness loss 107.28 | Equal Opportunity Disparity = 0.01\n",
      " \n",
      "Avg Training Stats after 152 global rounds:\n",
      "Training loss: 0.42 | Training accuracy: 84.00% | Training Equal Opportunity Disparity: 0.0146\n",
      "\n",
      " | Global Training Round : 153 |\n",
      "\n"
     ]
    },
    {
     "name": "stderr",
     "output_type": "stream",
     "text": [
      "\n",
      "\n",
      " 51%|█████     | 153/300 [00:31<00:29,  4.95it/s]\u001b[A\u001b[A\n",
      "\n",
      " 51%|█████▏    | 154/300 [00:31<00:29,  5.02it/s]\u001b[A\u001b[A"
     ]
    },
    {
     "name": "stdout",
     "output_type": "stream",
     "text": [
      "Accuracy loss: 45.04 | fairness loss 104.90 | Equal Opportunity Disparity = 0.02\n",
      " \n",
      "Avg Training Stats after 153 global rounds:\n",
      "Training loss: 0.42 | Training accuracy: 84.04% | Training Equal Opportunity Disparity: 0.0186\n",
      "\n",
      " | Global Training Round : 154 |\n",
      "\n",
      "Accuracy loss: 45.29 | fairness loss 105.32 | Equal Opportunity Disparity = 0.01\n",
      " \n",
      "Avg Training Stats after 154 global rounds:\n",
      "Training loss: 0.42 | Training accuracy: 83.96% | Training Equal Opportunity Disparity: 0.0146\n",
      "\n",
      " | Global Training Round : 155 |\n",
      "\n"
     ]
    },
    {
     "name": "stderr",
     "output_type": "stream",
     "text": [
      "\n",
      "\n",
      " 52%|█████▏    | 155/300 [00:31<00:28,  5.03it/s]\u001b[A\u001b[A\n",
      "\n",
      " 52%|█████▏    | 156/300 [00:32<00:28,  5.08it/s]\u001b[A\u001b[A"
     ]
    },
    {
     "name": "stdout",
     "output_type": "stream",
     "text": [
      "Accuracy loss: 45.28 | fairness loss 106.45 | Equal Opportunity Disparity = 0.01\n",
      " \n",
      "Avg Training Stats after 155 global rounds:\n",
      "Training loss: 0.41 | Training accuracy: 83.96% | Training Equal Opportunity Disparity: 0.0103\n",
      "\n",
      " | Global Training Round : 156 |\n",
      "\n",
      "Accuracy loss: 45.26 | fairness loss 106.20 | Equal Opportunity Disparity = 0.01\n",
      " \n",
      "Avg Training Stats after 156 global rounds:\n",
      "Training loss: 0.41 | Training accuracy: 83.96% | Training Equal Opportunity Disparity: 0.0140\n",
      "\n",
      " | Global Training Round : 157 |\n",
      "\n"
     ]
    },
    {
     "name": "stderr",
     "output_type": "stream",
     "text": [
      "\n",
      "\n",
      " 52%|█████▏    | 157/300 [00:32<00:28,  5.10it/s]\u001b[A\u001b[A\n",
      "\n",
      " 53%|█████▎    | 158/300 [00:32<00:27,  5.20it/s]\u001b[A\u001b[A"
     ]
    },
    {
     "name": "stdout",
     "output_type": "stream",
     "text": [
      "Accuracy loss: 45.54 | fairness loss 104.27 | Equal Opportunity Disparity = 0.01\n",
      " \n",
      "Avg Training Stats after 157 global rounds:\n",
      "Training loss: 0.41 | Training accuracy: 83.81% | Training Equal Opportunity Disparity: 0.0100\n",
      "\n",
      " | Global Training Round : 158 |\n",
      "\n",
      "Accuracy loss: 45.29 | fairness loss 105.69 | Equal Opportunity Disparity = 0.01\n",
      " \n",
      "Avg Training Stats after 158 global rounds:\n",
      "Training loss: 0.41 | Training accuracy: 83.96% | Training Equal Opportunity Disparity: 0.0140\n",
      "\n",
      " | Global Training Round : 159 |\n",
      "\n"
     ]
    },
    {
     "name": "stderr",
     "output_type": "stream",
     "text": [
      "\n",
      "\n",
      " 53%|█████▎    | 159/300 [00:32<00:27,  5.16it/s]\u001b[A\u001b[A\n",
      "\n"
     ]
    },
    {
     "name": "stdout",
     "output_type": "stream",
     "text": [
      "Accuracy loss: 45.38 | fairness loss 108.77 | Equal Opportunity Disparity = 0.01\n",
      " \n",
      "Avg Training Stats after 159 global rounds:\n",
      "Training loss: 0.41 | Training accuracy: 83.96% | Training Equal Opportunity Disparity: 0.0084\n",
      "\n",
      " | Global Training Round : 160 |\n",
      "\n",
      "Accuracy loss: 45.10 | fairness loss 110.66 | Equal Opportunity Disparity = 0.01\n",
      " \n",
      "Avg Training Stats after 160 global rounds:\n",
      "Training loss: 0.41 | Training accuracy: 84.07% | Training Equal Opportunity Disparity: 0.0112\n"
     ]
    },
    {
     "name": "stderr",
     "output_type": "stream",
     "text": [
      " 53%|█████▎    | 160/300 [00:32<00:27,  5.13it/s]\u001b[A\u001b[A\n",
      "\n",
      " 54%|█████▎    | 161/300 [00:33<00:27,  5.10it/s]\u001b[A\u001b[A"
     ]
    },
    {
     "name": "stdout",
     "output_type": "stream",
     "text": [
      "\n",
      " | Global Training Round : 161 |\n",
      "\n",
      "Accuracy loss: 45.09 | fairness loss 108.34 | Equal Opportunity Disparity = 0.01\n",
      " \n",
      "Avg Training Stats after 161 global rounds:\n",
      "Training loss: 0.41 | Training accuracy: 84.04% | Training Equal Opportunity Disparity: 0.0118\n",
      "\n",
      " | Global Training Round : 162 |\n",
      "\n"
     ]
    },
    {
     "name": "stderr",
     "output_type": "stream",
     "text": [
      "\n",
      "\n",
      " 54%|█████▍    | 162/300 [00:33<00:26,  5.17it/s]\u001b[A\u001b[A\n",
      "\n",
      " 54%|█████▍    | 163/300 [00:33<00:26,  5.25it/s]\u001b[A\u001b[A"
     ]
    },
    {
     "name": "stdout",
     "output_type": "stream",
     "text": [
      "Accuracy loss: 45.26 | fairness loss 107.52 | Equal Opportunity Disparity = 0.01\n",
      " \n",
      "Avg Training Stats after 162 global rounds:\n",
      "Training loss: 0.41 | Training accuracy: 83.93% | Training Equal Opportunity Disparity: 0.0090\n",
      "\n",
      " | Global Training Round : 163 |\n",
      "\n",
      "Accuracy loss: 45.26 | fairness loss 106.44 | Equal Opportunity Disparity = 0.01\n",
      " \n",
      "Avg Training Stats after 163 global rounds:\n",
      "Training loss: 0.41 | Training accuracy: 83.89% | Training Equal Opportunity Disparity: 0.0060\n",
      "\n",
      " | Global Training Round : 164 |\n",
      "\n"
     ]
    },
    {
     "name": "stderr",
     "output_type": "stream",
     "text": [
      "\n",
      "\n",
      " 55%|█████▍    | 164/300 [00:33<00:26,  5.19it/s]\u001b[A\u001b[A\n",
      "\n",
      " 55%|█████▌    | 165/300 [00:33<00:26,  5.16it/s]\u001b[A\u001b[A"
     ]
    },
    {
     "name": "stdout",
     "output_type": "stream",
     "text": [
      "Accuracy loss: 45.12 | fairness loss 107.81 | Equal Opportunity Disparity = 0.01\n",
      " \n",
      "Avg Training Stats after 164 global rounds:\n",
      "Training loss: 0.41 | Training accuracy: 84.00% | Training Equal Opportunity Disparity: 0.0060\n",
      "\n",
      " | Global Training Round : 165 |\n",
      "\n",
      "Accuracy loss: 45.30 | fairness loss 105.91 | Equal Opportunity Disparity = 0.01\n",
      " \n",
      "Avg Training Stats after 165 global rounds:\n",
      "Training loss: 0.41 | Training accuracy: 83.85% | Training Equal Opportunity Disparity: 0.0103\n",
      "\n",
      " | Global Training Round : 166 |\n",
      "\n"
     ]
    },
    {
     "name": "stderr",
     "output_type": "stream",
     "text": [
      "\n",
      "\n",
      " 55%|█████▌    | 166/300 [00:34<00:25,  5.16it/s]\u001b[A\u001b[A\n",
      "\n",
      " 56%|█████▌    | 167/300 [00:34<00:25,  5.31it/s]\u001b[A\u001b[A"
     ]
    },
    {
     "name": "stdout",
     "output_type": "stream",
     "text": [
      "Accuracy loss: 45.25 | fairness loss 108.97 | Equal Opportunity Disparity = 0.01\n",
      " \n",
      "Avg Training Stats after 166 global rounds:\n",
      "Training loss: 0.41 | Training accuracy: 83.96% | Training Equal Opportunity Disparity: 0.0109\n",
      "\n",
      " | Global Training Round : 167 |\n",
      "\n",
      "Accuracy loss: 45.04 | fairness loss 107.94 | Equal Opportunity Disparity = 0.01\n",
      " \n",
      "Avg Training Stats after 167 global rounds:\n",
      "Training loss: 0.41 | Training accuracy: 84.07% | Training Equal Opportunity Disparity: 0.0143\n",
      "\n",
      " | Global Training Round : 168 |\n",
      "\n"
     ]
    },
    {
     "name": "stderr",
     "output_type": "stream",
     "text": [
      "\n",
      "\n",
      " 56%|█████▌    | 168/300 [00:34<00:25,  5.11it/s]\u001b[A\u001b[A"
     ]
    },
    {
     "name": "stdout",
     "output_type": "stream",
     "text": [
      "Accuracy loss: 45.13 | fairness loss 111.34 | Equal Opportunity Disparity = 0.01\n",
      " \n",
      "Avg Training Stats after 168 global rounds:\n",
      "Training loss: 0.41 | Training accuracy: 84.00% | Training Equal Opportunity Disparity: 0.0118\n",
      "\n",
      " | Global Training Round : 169 |\n",
      "\n",
      "Accuracy loss: 45.10 | fairness loss 114.82 | Equal Opportunity Disparity = 0.01\n"
     ]
    },
    {
     "name": "stderr",
     "output_type": "stream",
     "text": [
      "\n",
      "\n",
      " 56%|█████▋    | 169/300 [00:34<00:25,  5.08it/s]\u001b[A\u001b[A"
     ]
    },
    {
     "name": "stdout",
     "output_type": "stream",
     "text": [
      " \n",
      "Avg Training Stats after 169 global rounds:\n",
      "Training loss: 0.41 | Training accuracy: 84.11% | Training Equal Opportunity Disparity: 0.0112\n",
      "\n",
      " | Global Training Round : 170 |\n",
      "\n"
     ]
    },
    {
     "name": "stderr",
     "output_type": "stream",
     "text": [
      "\n",
      "\n",
      " 57%|█████▋    | 170/300 [00:34<00:25,  5.02it/s]\u001b[A\u001b[A"
     ]
    },
    {
     "name": "stdout",
     "output_type": "stream",
     "text": [
      "Accuracy loss: 44.94 | fairness loss 114.51 | Equal Opportunity Disparity = 0.01\n",
      " \n",
      "Avg Training Stats after 170 global rounds:\n",
      "Training loss: 0.41 | Training accuracy: 84.30% | Training Equal Opportunity Disparity: 0.0137\n",
      "\n",
      " | Global Training Round : 171 |\n",
      "\n"
     ]
    },
    {
     "name": "stderr",
     "output_type": "stream",
     "text": [
      "\n",
      "\n",
      " 57%|█████▋    | 171/300 [00:35<00:25,  4.96it/s]\u001b[A\u001b[A\n",
      "\n",
      " 57%|█████▋    | 172/300 [00:35<00:25,  5.00it/s]\u001b[A\u001b[A"
     ]
    },
    {
     "name": "stdout",
     "output_type": "stream",
     "text": [
      "Accuracy loss: 44.84 | fairness loss 111.12 | Equal Opportunity Disparity = 0.02\n",
      " \n",
      "Avg Training Stats after 171 global rounds:\n",
      "Training loss: 0.41 | Training accuracy: 84.22% | Training Equal Opportunity Disparity: 0.0152\n",
      "\n",
      " | Global Training Round : 172 |\n",
      "\n",
      "Accuracy loss: 44.96 | fairness loss 113.23 | Equal Opportunity Disparity = 0.01\n",
      " \n",
      "Avg Training Stats after 172 global rounds:\n",
      "Training loss: 0.41 | Training accuracy: 84.15% | Training Equal Opportunity Disparity: 0.0140\n",
      "\n",
      " | Global Training Round : 173 |\n",
      "\n"
     ]
    },
    {
     "name": "stderr",
     "output_type": "stream",
     "text": [
      "\n",
      "\n",
      " 58%|█████▊    | 173/300 [00:35<00:24,  5.09it/s]\u001b[A\u001b[A\n",
      "\n",
      " 58%|█████▊    | 174/300 [00:35<00:24,  5.21it/s]\u001b[A\u001b[A"
     ]
    },
    {
     "name": "stdout",
     "output_type": "stream",
     "text": [
      "Accuracy loss: 44.92 | fairness loss 114.42 | Equal Opportunity Disparity = 0.01\n",
      " \n",
      "Avg Training Stats after 173 global rounds:\n",
      "Training loss: 0.41 | Training accuracy: 84.19% | Training Equal Opportunity Disparity: 0.0140\n",
      "\n",
      " | Global Training Round : 174 |\n",
      "\n",
      "Accuracy loss: 44.95 | fairness loss 116.29 | Equal Opportunity Disparity = 0.01\n",
      " \n",
      "Avg Training Stats after 174 global rounds:\n",
      "Training loss: 0.41 | Training accuracy: 84.19% | Training Equal Opportunity Disparity: 0.0140\n",
      "\n",
      " | Global Training Round : 175 |\n",
      "\n"
     ]
    },
    {
     "name": "stderr",
     "output_type": "stream",
     "text": [
      "\n",
      "\n",
      " 58%|█████▊    | 175/300 [00:35<00:23,  5.23it/s]\u001b[A\u001b[A\n",
      "\n",
      " 59%|█████▊    | 176/300 [00:35<00:23,  5.23it/s]\u001b[A\u001b[A"
     ]
    },
    {
     "name": "stdout",
     "output_type": "stream",
     "text": [
      "Accuracy loss: 44.94 | fairness loss 118.81 | Equal Opportunity Disparity = 0.01\n",
      " \n",
      "Avg Training Stats after 175 global rounds:\n",
      "Training loss: 0.41 | Training accuracy: 84.19% | Training Equal Opportunity Disparity: 0.0140\n",
      "\n",
      " | Global Training Round : 176 |\n",
      "\n",
      "Accuracy loss: 45.16 | fairness loss 113.50 | Equal Opportunity Disparity = 0.01\n",
      " \n",
      "Avg Training Stats after 176 global rounds:\n",
      "Training loss: 0.41 | Training accuracy: 84.15% | Training Equal Opportunity Disparity: 0.0140\n",
      "\n",
      " | Global Training Round : 177 |\n",
      "\n"
     ]
    },
    {
     "name": "stderr",
     "output_type": "stream",
     "text": [
      "\n",
      "\n",
      " 59%|█████▉    | 177/300 [00:36<00:23,  5.31it/s]\u001b[A\u001b[A"
     ]
    },
    {
     "name": "stdout",
     "output_type": "stream",
     "text": [
      "Accuracy loss: 45.01 | fairness loss 115.75 | Equal Opportunity Disparity = 0.01\n",
      " \n",
      "Avg Training Stats after 177 global rounds:\n",
      "Training loss: 0.41 | Training accuracy: 84.19% | Training Equal Opportunity Disparity: 0.0140\n",
      "\n",
      " | Global Training Round : 178 |\n",
      "\n"
     ]
    },
    {
     "name": "stderr",
     "output_type": "stream",
     "text": [
      "\n",
      "\n",
      " 59%|█████▉    | 178/300 [00:36<00:23,  5.16it/s]\u001b[A\u001b[A"
     ]
    },
    {
     "name": "stdout",
     "output_type": "stream",
     "text": [
      "Accuracy loss: 44.94 | fairness loss 120.68 | Equal Opportunity Disparity = 0.01\n",
      " \n",
      "Avg Training Stats after 178 global rounds:\n",
      "Training loss: 0.41 | Training accuracy: 84.19% | Training Equal Opportunity Disparity: 0.0140\n",
      "\n",
      " | Global Training Round : 179 |\n",
      "\n"
     ]
    },
    {
     "name": "stderr",
     "output_type": "stream",
     "text": [
      "\n",
      "\n",
      " 60%|█████▉    | 179/300 [00:36<00:23,  5.08it/s]\u001b[A\u001b[A\n",
      "\n",
      " 60%|██████    | 180/300 [00:36<00:23,  5.19it/s]\u001b[A\u001b[A"
     ]
    },
    {
     "name": "stdout",
     "output_type": "stream",
     "text": [
      "Accuracy loss: 45.02 | fairness loss 113.88 | Equal Opportunity Disparity = 0.01\n",
      " \n",
      "Avg Training Stats after 179 global rounds:\n",
      "Training loss: 0.41 | Training accuracy: 84.15% | Training Equal Opportunity Disparity: 0.0118\n",
      "\n",
      " | Global Training Round : 180 |\n",
      "\n",
      "Accuracy loss: 45.14 | fairness loss 113.42 | Equal Opportunity Disparity = 0.01\n",
      " \n",
      "Avg Training Stats after 180 global rounds:\n",
      "Training loss: 0.41 | Training accuracy: 84.15% | Training Equal Opportunity Disparity: 0.0097\n",
      "\n",
      " | Global Training Round : 181 |\n",
      "\n"
     ]
    },
    {
     "name": "stderr",
     "output_type": "stream",
     "text": [
      "\n",
      "\n",
      " 60%|██████    | 181/300 [00:36<00:22,  5.24it/s]\u001b[A\u001b[A"
     ]
    },
    {
     "name": "stdout",
     "output_type": "stream",
     "text": [
      "Accuracy loss: 45.12 | fairness loss 111.62 | Equal Opportunity Disparity = 0.01\n",
      " \n",
      "Avg Training Stats after 181 global rounds:\n",
      "Training loss: 0.41 | Training accuracy: 84.15% | Training Equal Opportunity Disparity: 0.0097\n",
      "\n",
      " | Global Training Round : 182 |\n",
      "\n"
     ]
    },
    {
     "name": "stderr",
     "output_type": "stream",
     "text": [
      "\n",
      "\n",
      " 61%|██████    | 182/300 [00:37<00:23,  5.12it/s]\u001b[A\u001b[A"
     ]
    },
    {
     "name": "stdout",
     "output_type": "stream",
     "text": [
      "Accuracy loss: 45.34 | fairness loss 113.58 | Equal Opportunity Disparity = 0.01\n",
      " \n",
      "Avg Training Stats after 182 global rounds:\n",
      "Training loss: 0.41 | Training accuracy: 84.07% | Training Equal Opportunity Disparity: 0.0112\n",
      "\n",
      " | Global Training Round : 183 |\n",
      "\n"
     ]
    },
    {
     "name": "stderr",
     "output_type": "stream",
     "text": [
      "\n",
      "\n",
      " 61%|██████    | 183/300 [00:37<00:23,  4.92it/s]\u001b[A\u001b[A"
     ]
    },
    {
     "name": "stdout",
     "output_type": "stream",
     "text": [
      "Accuracy loss: 45.34 | fairness loss 114.54 | Equal Opportunity Disparity = 0.01\n",
      " \n",
      "Avg Training Stats after 183 global rounds:\n",
      "Training loss: 0.41 | Training accuracy: 84.15% | Training Equal Opportunity Disparity: 0.0084\n",
      "\n",
      " | Global Training Round : 184 |\n",
      "\n"
     ]
    },
    {
     "name": "stderr",
     "output_type": "stream",
     "text": [
      "\n",
      "\n",
      " 61%|██████▏   | 184/300 [00:37<00:23,  4.86it/s]\u001b[A\u001b[A\n",
      "\n"
     ]
    },
    {
     "name": "stdout",
     "output_type": "stream",
     "text": [
      "Accuracy loss: 45.33 | fairness loss 113.74 | Equal Opportunity Disparity = 0.01\n",
      " \n",
      "Avg Training Stats after 184 global rounds:\n",
      "Training loss: 0.40 | Training accuracy: 84.07% | Training Equal Opportunity Disparity: 0.0112\n",
      "\n",
      " | Global Training Round : 185 |\n",
      "\n",
      "Accuracy loss: 45.26 | fairness loss 113.92 | Equal Opportunity Disparity = 0.01\n",
      " \n",
      "Avg Training Stats after 185 global rounds:\n",
      "Training loss: 0.40 | Training accuracy: 84.15% | Training Equal Opportunity Disparity: 0.0140\n"
     ]
    },
    {
     "name": "stderr",
     "output_type": "stream",
     "text": [
      " 62%|██████▏   | 185/300 [00:37<00:23,  4.91it/s]\u001b[A\u001b[A\n",
      "\n",
      " 62%|██████▏   | 186/300 [00:37<00:23,  4.95it/s]\u001b[A\u001b[A"
     ]
    },
    {
     "name": "stdout",
     "output_type": "stream",
     "text": [
      "\n",
      " | Global Training Round : 186 |\n",
      "\n",
      "Accuracy loss: 45.32 | fairness loss 114.30 | Equal Opportunity Disparity = 0.01\n",
      " \n",
      "Avg Training Stats after 186 global rounds:\n",
      "Training loss: 0.40 | Training accuracy: 84.15% | Training Equal Opportunity Disparity: 0.0112\n",
      "\n",
      " | Global Training Round : 187 |\n",
      "\n"
     ]
    },
    {
     "name": "stderr",
     "output_type": "stream",
     "text": [
      "\n",
      "\n",
      " 62%|██████▏   | 187/300 [00:38<00:22,  4.92it/s]\u001b[A\u001b[A"
     ]
    },
    {
     "name": "stdout",
     "output_type": "stream",
     "text": [
      "Accuracy loss: 45.15 | fairness loss 118.75 | Equal Opportunity Disparity = 0.01\n",
      " \n",
      "Avg Training Stats after 187 global rounds:\n",
      "Training loss: 0.40 | Training accuracy: 84.07% | Training Equal Opportunity Disparity: 0.0133\n",
      "\n",
      " | Global Training Round : 188 |\n",
      "\n"
     ]
    },
    {
     "name": "stderr",
     "output_type": "stream",
     "text": [
      "\n",
      "\n",
      " 63%|██████▎   | 188/300 [00:38<00:22,  4.93it/s]\u001b[A\u001b[A"
     ]
    },
    {
     "name": "stdout",
     "output_type": "stream",
     "text": [
      "Accuracy loss: 45.08 | fairness loss 119.61 | Equal Opportunity Disparity = 0.01\n",
      " \n",
      "Avg Training Stats after 188 global rounds:\n",
      "Training loss: 0.40 | Training accuracy: 84.15% | Training Equal Opportunity Disparity: 0.0146\n",
      "\n",
      " | Global Training Round : 189 |\n",
      "\n",
      "Accuracy loss: 45.25 | fairness loss 116.11 | Equal Opportunity Disparity = 0.01\n"
     ]
    },
    {
     "name": "stderr",
     "output_type": "stream",
     "text": [
      "\n",
      "\n",
      " 63%|██████▎   | 189/300 [00:38<00:22,  4.92it/s]\u001b[A\u001b[A"
     ]
    },
    {
     "name": "stdout",
     "output_type": "stream",
     "text": [
      " \n",
      "Avg Training Stats after 189 global rounds:\n",
      "Training loss: 0.40 | Training accuracy: 84.11% | Training Equal Opportunity Disparity: 0.0063\n",
      "\n",
      " | Global Training Round : 190 |\n",
      "\n"
     ]
    },
    {
     "name": "stderr",
     "output_type": "stream",
     "text": [
      "\n",
      "\n",
      " 63%|██████▎   | 190/300 [00:38<00:22,  4.85it/s]\u001b[A\u001b[A\n",
      "\n",
      " 64%|██████▎   | 191/300 [00:38<00:21,  5.01it/s]\u001b[A\u001b[A"
     ]
    },
    {
     "name": "stdout",
     "output_type": "stream",
     "text": [
      "Accuracy loss: 45.23 | fairness loss 118.56 | Equal Opportunity Disparity = 0.01\n",
      " \n",
      "Avg Training Stats after 190 global rounds:\n",
      "Training loss: 0.40 | Training accuracy: 84.07% | Training Equal Opportunity Disparity: 0.0090\n",
      "\n",
      " | Global Training Round : 191 |\n",
      "\n",
      "Accuracy loss: 45.15 | fairness loss 117.35 | Equal Opportunity Disparity = 0.01\n",
      " \n",
      "Avg Training Stats after 191 global rounds:\n",
      "Training loss: 0.40 | Training accuracy: 84.15% | Training Equal Opportunity Disparity: 0.0097\n",
      "\n",
      " | Global Training Round : 192 |\n",
      "\n"
     ]
    },
    {
     "name": "stderr",
     "output_type": "stream",
     "text": [
      "\n",
      "\n",
      " 64%|██████▍   | 192/300 [00:39<00:21,  5.07it/s]\u001b[A\u001b[A\n",
      "\n",
      " 64%|██████▍   | 193/300 [00:39<00:20,  5.17it/s]\u001b[A\u001b[A"
     ]
    },
    {
     "name": "stdout",
     "output_type": "stream",
     "text": [
      "Accuracy loss: 45.10 | fairness loss 117.12 | Equal Opportunity Disparity = 0.01\n",
      " \n",
      "Avg Training Stats after 192 global rounds:\n",
      "Training loss: 0.40 | Training accuracy: 84.19% | Training Equal Opportunity Disparity: 0.0103\n",
      "\n",
      " | Global Training Round : 193 |\n",
      "\n",
      "Accuracy loss: 45.15 | fairness loss 115.38 | Equal Opportunity Disparity = 0.01\n",
      " \n",
      "Avg Training Stats after 193 global rounds:\n",
      "Training loss: 0.40 | Training accuracy: 84.15% | Training Equal Opportunity Disparity: 0.0118\n",
      "\n",
      " | Global Training Round : 194 |\n",
      "\n"
     ]
    },
    {
     "name": "stderr",
     "output_type": "stream",
     "text": [
      "\n",
      "\n",
      " 65%|██████▍   | 194/300 [00:39<00:20,  5.17it/s]\u001b[A\u001b[A\n",
      "\n",
      " 65%|██████▌   | 195/300 [00:39<00:20,  5.15it/s]\u001b[A\u001b[A"
     ]
    },
    {
     "name": "stdout",
     "output_type": "stream",
     "text": [
      "Accuracy loss: 45.26 | fairness loss 118.62 | Equal Opportunity Disparity = 0.00\n",
      " \n",
      "Avg Training Stats after 194 global rounds:\n",
      "Training loss: 0.40 | Training accuracy: 84.11% | Training Equal Opportunity Disparity: 0.0035\n",
      "\n",
      " | Global Training Round : 195 |\n",
      "\n",
      "Accuracy loss: 45.30 | fairness loss 117.99 | Equal Opportunity Disparity = 0.00\n",
      " \n",
      "Avg Training Stats after 195 global rounds:\n",
      "Training loss: 0.40 | Training accuracy: 84.11% | Training Equal Opportunity Disparity: 0.0041\n",
      "\n",
      " | Global Training Round : 196 |\n",
      "\n"
     ]
    },
    {
     "name": "stderr",
     "output_type": "stream",
     "text": [
      "\n",
      "\n",
      " 65%|██████▌   | 196/300 [00:39<00:20,  5.02it/s]\u001b[A\u001b[A\n",
      "\n",
      " 66%|██████▌   | 197/300 [00:40<00:20,  5.08it/s]\u001b[A\u001b[A"
     ]
    },
    {
     "name": "stdout",
     "output_type": "stream",
     "text": [
      "Accuracy loss: 45.20 | fairness loss 120.95 | Equal Opportunity Disparity = 0.01\n",
      " \n",
      "Avg Training Stats after 196 global rounds:\n",
      "Training loss: 0.40 | Training accuracy: 84.19% | Training Equal Opportunity Disparity: 0.0075\n",
      "\n",
      " | Global Training Round : 197 |\n",
      "\n",
      "Accuracy loss: 45.27 | fairness loss 116.95 | Equal Opportunity Disparity = 0.01\n",
      " \n",
      "Avg Training Stats after 197 global rounds:\n",
      "Training loss: 0.40 | Training accuracy: 84.15% | Training Equal Opportunity Disparity: 0.0090\n",
      "\n",
      " | Global Training Round : 198 |\n",
      "\n"
     ]
    },
    {
     "name": "stderr",
     "output_type": "stream",
     "text": [
      "\n",
      "\n",
      " 66%|██████▌   | 198/300 [00:40<00:19,  5.12it/s]\u001b[A\u001b[A\n",
      "\n",
      " 66%|██████▋   | 199/300 [00:40<00:19,  5.15it/s]\u001b[A\u001b[A"
     ]
    },
    {
     "name": "stdout",
     "output_type": "stream",
     "text": [
      "Accuracy loss: 45.07 | fairness loss 121.21 | Equal Opportunity Disparity = 0.01\n",
      " \n",
      "Avg Training Stats after 198 global rounds:\n",
      "Training loss: 0.40 | Training accuracy: 84.15% | Training Equal Opportunity Disparity: 0.0124\n",
      "\n",
      " | Global Training Round : 199 |\n",
      "\n",
      "Accuracy loss: 45.05 | fairness loss 123.57 | Equal Opportunity Disparity = 0.01\n",
      " \n",
      "Avg Training Stats after 199 global rounds:\n",
      "Training loss: 0.40 | Training accuracy: 84.19% | Training Equal Opportunity Disparity: 0.0103\n",
      "\n",
      " | Global Training Round : 200 |\n",
      "\n"
     ]
    },
    {
     "name": "stderr",
     "output_type": "stream",
     "text": [
      "\n",
      "\n",
      " 67%|██████▋   | 200/300 [00:40<00:19,  5.06it/s]\u001b[A\u001b[A"
     ]
    },
    {
     "name": "stdout",
     "output_type": "stream",
     "text": [
      "Accuracy loss: 44.82 | fairness loss 120.74 | Equal Opportunity Disparity = 0.01\n",
      " \n",
      "Avg Training Stats after 200 global rounds:\n",
      "Training loss: 0.40 | Training accuracy: 84.15% | Training Equal Opportunity Disparity: 0.0131\n",
      "\n",
      " | Global Training Round : 201 |\n",
      "\n",
      "Accuracy loss: 44.99 | fairness loss 121.36 | Equal Opportunity Disparity = 0.02\n"
     ]
    },
    {
     "name": "stderr",
     "output_type": "stream",
     "text": [
      "\n",
      "\n",
      " 67%|██████▋   | 201/300 [00:40<00:19,  4.99it/s]\u001b[A\u001b[A\n",
      "\n",
      " 67%|██████▋   | 202/300 [00:41<00:19,  5.00it/s]\u001b[A\u001b[A"
     ]
    },
    {
     "name": "stdout",
     "output_type": "stream",
     "text": [
      " \n",
      "Avg Training Stats after 201 global rounds:\n",
      "Training loss: 0.40 | Training accuracy: 84.22% | Training Equal Opportunity Disparity: 0.0158\n",
      "\n",
      " | Global Training Round : 202 |\n",
      "\n",
      "Accuracy loss: 45.42 | fairness loss 115.98 | Equal Opportunity Disparity = 0.00\n",
      " \n",
      "Avg Training Stats after 202 global rounds:\n",
      "Training loss: 0.40 | Training accuracy: 84.00% | Training Equal Opportunity Disparity: 0.0035\n",
      "\n",
      " | Global Training Round : 203 |\n",
      "\n"
     ]
    },
    {
     "name": "stderr",
     "output_type": "stream",
     "text": [
      "\n",
      "\n",
      " 68%|██████▊   | 203/300 [00:41<00:19,  4.88it/s]\u001b[A\u001b[A\n",
      "\n",
      " 68%|██████▊   | 204/300 [00:41<00:19,  4.97it/s]\u001b[A\u001b[A"
     ]
    },
    {
     "name": "stdout",
     "output_type": "stream",
     "text": [
      "Accuracy loss: 45.50 | fairness loss 120.12 | Equal Opportunity Disparity = 0.00\n",
      " \n",
      "Avg Training Stats after 203 global rounds:\n",
      "Training loss: 0.40 | Training accuracy: 83.93% | Training Equal Opportunity Disparity: 0.0029\n",
      "\n",
      " | Global Training Round : 204 |\n",
      "\n",
      "Accuracy loss: 45.40 | fairness loss 117.34 | Equal Opportunity Disparity = 0.01\n",
      " \n",
      "Avg Training Stats after 204 global rounds:\n",
      "Training loss: 0.40 | Training accuracy: 84.04% | Training Equal Opportunity Disparity: 0.0057\n",
      "\n",
      " | Global Training Round : 205 |\n",
      "\n"
     ]
    },
    {
     "name": "stderr",
     "output_type": "stream",
     "text": [
      "\n",
      "\n",
      " 68%|██████▊   | 205/300 [00:41<00:19,  4.87it/s]\u001b[A\u001b[A\n",
      "\n",
      " 69%|██████▊   | 206/300 [00:41<00:19,  4.93it/s]\u001b[A\u001b[A"
     ]
    },
    {
     "name": "stdout",
     "output_type": "stream",
     "text": [
      "Accuracy loss: 45.26 | fairness loss 119.52 | Equal Opportunity Disparity = 0.01\n",
      " \n",
      "Avg Training Stats after 205 global rounds:\n",
      "Training loss: 0.40 | Training accuracy: 84.11% | Training Equal Opportunity Disparity: 0.0063\n",
      "\n",
      " | Global Training Round : 206 |\n",
      "\n",
      "Accuracy loss: 45.27 | fairness loss 119.70 | Equal Opportunity Disparity = 0.01\n",
      " \n",
      "Avg Training Stats after 206 global rounds:\n",
      "Training loss: 0.40 | Training accuracy: 84.04% | Training Equal Opportunity Disparity: 0.0112\n",
      "\n",
      " | Global Training Round : 207 |\n",
      "\n"
     ]
    },
    {
     "name": "stderr",
     "output_type": "stream",
     "text": [
      "\n",
      "\n",
      " 69%|██████▉   | 207/300 [00:42<00:18,  5.03it/s]\u001b[A\u001b[A\n",
      "\n",
      " 69%|██████▉   | 208/300 [00:42<00:18,  5.09it/s]\u001b[A\u001b[A"
     ]
    },
    {
     "name": "stdout",
     "output_type": "stream",
     "text": [
      "Accuracy loss: 45.28 | fairness loss 117.98 | Equal Opportunity Disparity = 0.01\n",
      " \n",
      "Avg Training Stats after 207 global rounds:\n",
      "Training loss: 0.40 | Training accuracy: 84.00% | Training Equal Opportunity Disparity: 0.0112\n",
      "\n",
      " | Global Training Round : 208 |\n",
      "\n",
      "Accuracy loss: 45.20 | fairness loss 120.03 | Equal Opportunity Disparity = 0.01\n",
      " \n",
      "Avg Training Stats after 208 global rounds:\n",
      "Training loss: 0.40 | Training accuracy: 84.15% | Training Equal Opportunity Disparity: 0.0118\n",
      "\n",
      " | Global Training Round : 209 |\n",
      "\n"
     ]
    },
    {
     "name": "stderr",
     "output_type": "stream",
     "text": [
      "\n",
      "\n",
      " 70%|██████▉   | 209/300 [00:42<00:17,  5.19it/s]\u001b[A\u001b[A\n",
      "\n",
      " 70%|███████   | 210/300 [00:42<00:16,  5.33it/s]\u001b[A\u001b[A"
     ]
    },
    {
     "name": "stdout",
     "output_type": "stream",
     "text": [
      "Accuracy loss: 45.17 | fairness loss 120.39 | Equal Opportunity Disparity = 0.01\n",
      " \n",
      "Avg Training Stats after 209 global rounds:\n",
      "Training loss: 0.40 | Training accuracy: 84.15% | Training Equal Opportunity Disparity: 0.0075\n",
      "\n",
      " | Global Training Round : 210 |\n",
      "\n",
      "Accuracy loss: 45.08 | fairness loss 120.58 | Equal Opportunity Disparity = 0.01\n",
      " \n",
      "Avg Training Stats after 210 global rounds:\n",
      "Training loss: 0.40 | Training accuracy: 84.15% | Training Equal Opportunity Disparity: 0.0103\n",
      "\n",
      " | Global Training Round : 211 |\n",
      "\n"
     ]
    },
    {
     "name": "stderr",
     "output_type": "stream",
     "text": [
      "\n",
      "\n",
      " 70%|███████   | 211/300 [00:42<00:16,  5.39it/s]\u001b[A\u001b[A\n",
      "\n",
      " 71%|███████   | 212/300 [00:43<00:16,  5.45it/s]\u001b[A\u001b[A"
     ]
    },
    {
     "name": "stdout",
     "output_type": "stream",
     "text": [
      "Accuracy loss: 45.15 | fairness loss 121.19 | Equal Opportunity Disparity = 0.01\n",
      " \n",
      "Avg Training Stats after 211 global rounds:\n",
      "Training loss: 0.40 | Training accuracy: 84.19% | Training Equal Opportunity Disparity: 0.0103\n",
      "\n",
      " | Global Training Round : 212 |\n",
      "\n",
      "Accuracy loss: 45.15 | fairness loss 119.94 | Equal Opportunity Disparity = 0.01\n",
      " \n",
      "Avg Training Stats after 212 global rounds:\n",
      "Training loss: 0.40 | Training accuracy: 83.96% | Training Equal Opportunity Disparity: 0.0075\n",
      "\n",
      " | Global Training Round : 213 |\n",
      "\n"
     ]
    },
    {
     "name": "stderr",
     "output_type": "stream",
     "text": [
      "\n",
      "\n",
      " 71%|███████   | 213/300 [00:43<00:15,  5.47it/s]\u001b[A\u001b[A\n",
      "\n",
      " 71%|███████▏  | 214/300 [00:43<00:15,  5.50it/s]\u001b[A\u001b[A"
     ]
    },
    {
     "name": "stdout",
     "output_type": "stream",
     "text": [
      "Accuracy loss: 45.38 | fairness loss 117.75 | Equal Opportunity Disparity = 0.00\n",
      " \n",
      "Avg Training Stats after 213 global rounds:\n",
      "Training loss: 0.40 | Training accuracy: 84.04% | Training Equal Opportunity Disparity: 0.0035\n",
      "\n",
      " | Global Training Round : 214 |\n",
      "\n",
      "Accuracy loss: 45.28 | fairness loss 119.88 | Equal Opportunity Disparity = 0.00\n",
      " \n",
      "Avg Training Stats after 214 global rounds:\n",
      "Training loss: 0.40 | Training accuracy: 83.96% | Training Equal Opportunity Disparity: 0.0041\n",
      "\n",
      " | Global Training Round : 215 |\n",
      "\n"
     ]
    },
    {
     "name": "stderr",
     "output_type": "stream",
     "text": [
      "\n",
      "\n",
      " 72%|███████▏  | 215/300 [00:43<00:15,  5.40it/s]\u001b[A\u001b[A"
     ]
    },
    {
     "name": "stdout",
     "output_type": "stream",
     "text": [
      "Accuracy loss: 45.18 | fairness loss 118.85 | Equal Opportunity Disparity = 0.00\n",
      " \n",
      "Avg Training Stats after 215 global rounds:\n",
      "Training loss: 0.40 | Training accuracy: 83.93% | Training Equal Opportunity Disparity: 0.0041\n",
      "\n",
      " | Global Training Round : 216 |\n",
      "\n"
     ]
    },
    {
     "name": "stderr",
     "output_type": "stream",
     "text": [
      "\n",
      "\n",
      " 72%|███████▏  | 216/300 [00:43<00:16,  5.23it/s]\u001b[A\u001b[A"
     ]
    },
    {
     "name": "stdout",
     "output_type": "stream",
     "text": [
      "Accuracy loss: 45.23 | fairness loss 119.62 | Equal Opportunity Disparity = 0.00\n",
      " \n",
      "Avg Training Stats after 216 global rounds:\n",
      "Training loss: 0.40 | Training accuracy: 83.89% | Training Equal Opportunity Disparity: 0.0041\n",
      "\n",
      " | Global Training Round : 217 |\n",
      "\n",
      "Accuracy loss: 45.21 | fairness loss 121.01 | Equal Opportunity Disparity = 0.00\n"
     ]
    },
    {
     "name": "stderr",
     "output_type": "stream",
     "text": [
      "\n",
      "\n",
      " 72%|███████▏  | 217/300 [00:44<00:16,  5.15it/s]\u001b[A\u001b[A"
     ]
    },
    {
     "name": "stdout",
     "output_type": "stream",
     "text": [
      " \n",
      "Avg Training Stats after 217 global rounds:\n",
      "Training loss: 0.40 | Training accuracy: 83.93% | Training Equal Opportunity Disparity: 0.0047\n",
      "\n",
      " | Global Training Round : 218 |\n",
      "\n"
     ]
    },
    {
     "name": "stderr",
     "output_type": "stream",
     "text": [
      "\n",
      "\n",
      " 73%|███████▎  | 218/300 [00:44<00:16,  5.02it/s]\u001b[A\u001b[A"
     ]
    },
    {
     "name": "stdout",
     "output_type": "stream",
     "text": [
      "Accuracy loss: 45.06 | fairness loss 120.67 | Equal Opportunity Disparity = 0.01\n",
      " \n",
      "Avg Training Stats after 218 global rounds:\n",
      "Training loss: 0.40 | Training accuracy: 83.89% | Training Equal Opportunity Disparity: 0.0069\n",
      "\n",
      " | Global Training Round : 219 |\n",
      "\n"
     ]
    },
    {
     "name": "stderr",
     "output_type": "stream",
     "text": [
      "\n",
      "\n",
      " 73%|███████▎  | 219/300 [00:44<00:16,  4.97it/s]\u001b[A\u001b[A\n",
      "\n",
      " 73%|███████▎  | 220/300 [00:44<00:15,  5.03it/s]\u001b[A\u001b[A"
     ]
    },
    {
     "name": "stdout",
     "output_type": "stream",
     "text": [
      "Accuracy loss: 44.98 | fairness loss 127.91 | Equal Opportunity Disparity = 0.01\n",
      " \n",
      "Avg Training Stats after 219 global rounds:\n",
      "Training loss: 0.40 | Training accuracy: 84.07% | Training Equal Opportunity Disparity: 0.0075\n",
      "\n",
      " | Global Training Round : 220 |\n",
      "\n",
      "Accuracy loss: 44.77 | fairness loss 123.95 | Equal Opportunity Disparity = 0.01\n",
      " \n",
      "Avg Training Stats after 220 global rounds:\n",
      "Training loss: 0.40 | Training accuracy: 84.19% | Training Equal Opportunity Disparity: 0.0137\n",
      "\n",
      " | Global Training Round : 221 |\n",
      "\n"
     ]
    },
    {
     "name": "stderr",
     "output_type": "stream",
     "text": [
      "\n",
      "\n",
      " 74%|███████▎  | 221/300 [00:44<00:15,  5.02it/s]\u001b[A\u001b[A\n",
      "\n",
      " 74%|███████▍  | 222/300 [00:45<00:15,  5.04it/s]\u001b[A\u001b[A"
     ]
    },
    {
     "name": "stdout",
     "output_type": "stream",
     "text": [
      "Accuracy loss: 44.80 | fairness loss 125.21 | Equal Opportunity Disparity = 0.01\n",
      " \n",
      "Avg Training Stats after 221 global rounds:\n",
      "Training loss: 0.40 | Training accuracy: 84.22% | Training Equal Opportunity Disparity: 0.0149\n",
      "\n",
      " | Global Training Round : 222 |\n",
      "\n",
      "Accuracy loss: 44.85 | fairness loss 124.98 | Equal Opportunity Disparity = 0.01\n",
      " \n",
      "Avg Training Stats after 222 global rounds:\n",
      "Training loss: 0.40 | Training accuracy: 84.19% | Training Equal Opportunity Disparity: 0.0094\n",
      "\n",
      " | Global Training Round : 223 |\n",
      "\n"
     ]
    },
    {
     "name": "stderr",
     "output_type": "stream",
     "text": [
      "\n",
      "\n",
      " 74%|███████▍  | 223/300 [00:45<00:15,  5.10it/s]\u001b[A\u001b[A"
     ]
    },
    {
     "name": "stdout",
     "output_type": "stream",
     "text": [
      "Accuracy loss: 44.89 | fairness loss 122.97 | Equal Opportunity Disparity = 0.01\n",
      " \n",
      "Avg Training Stats after 223 global rounds:\n",
      "Training loss: 0.40 | Training accuracy: 84.19% | Training Equal Opportunity Disparity: 0.0081\n",
      "\n",
      " | Global Training Round : 224 |\n",
      "\n",
      "Accuracy loss: 44.98 | fairness loss 126.12 | Equal Opportunity Disparity = 0.01\n"
     ]
    },
    {
     "name": "stderr",
     "output_type": "stream",
     "text": [
      "\n",
      "\n",
      " 75%|███████▍  | 224/300 [00:45<00:15,  5.06it/s]\u001b[A\u001b[A\n",
      "\n",
      " 75%|███████▌  | 225/300 [00:45<00:14,  5.07it/s]\u001b[A\u001b[A"
     ]
    },
    {
     "name": "stdout",
     "output_type": "stream",
     "text": [
      " \n",
      "Avg Training Stats after 224 global rounds:\n",
      "Training loss: 0.40 | Training accuracy: 84.07% | Training Equal Opportunity Disparity: 0.0131\n",
      "\n",
      " | Global Training Round : 225 |\n",
      "\n",
      "Accuracy loss: 45.16 | fairness loss 124.08 | Equal Opportunity Disparity = 0.01\n",
      " \n",
      "Avg Training Stats after 225 global rounds:\n",
      "Training loss: 0.40 | Training accuracy: 84.19% | Training Equal Opportunity Disparity: 0.0103\n",
      "\n",
      " | Global Training Round : 226 |\n",
      "\n"
     ]
    },
    {
     "name": "stderr",
     "output_type": "stream",
     "text": [
      "\n",
      "\n",
      " 75%|███████▌  | 226/300 [00:45<00:14,  4.97it/s]\u001b[A\u001b[A"
     ]
    },
    {
     "name": "stdout",
     "output_type": "stream",
     "text": [
      "Accuracy loss: 45.23 | fairness loss 124.38 | Equal Opportunity Disparity = 0.01\n",
      " \n",
      "Avg Training Stats after 226 global rounds:\n",
      "Training loss: 0.39 | Training accuracy: 84.15% | Training Equal Opportunity Disparity: 0.0112\n",
      "\n",
      " | Global Training Round : 227 |\n",
      "\n",
      "Accuracy loss: 45.17 | fairness loss 119.82 | Equal Opportunity Disparity = 0.01\n"
     ]
    },
    {
     "name": "stderr",
     "output_type": "stream",
     "text": [
      "\n",
      "\n",
      " 76%|███████▌  | 227/300 [00:46<00:14,  4.96it/s]\u001b[A\u001b[A"
     ]
    },
    {
     "name": "stdout",
     "output_type": "stream",
     "text": [
      " \n",
      "Avg Training Stats after 227 global rounds:\n",
      "Training loss: 0.39 | Training accuracy: 84.15% | Training Equal Opportunity Disparity: 0.0118\n",
      "\n",
      " | Global Training Round : 228 |\n",
      "\n"
     ]
    },
    {
     "name": "stderr",
     "output_type": "stream",
     "text": [
      "\n",
      "\n",
      " 76%|███████▌  | 228/300 [00:46<00:14,  4.88it/s]\u001b[A\u001b[A"
     ]
    },
    {
     "name": "stdout",
     "output_type": "stream",
     "text": [
      "Accuracy loss: 44.94 | fairness loss 120.90 | Equal Opportunity Disparity = 0.01\n",
      " \n",
      "Avg Training Stats after 228 global rounds:\n",
      "Training loss: 0.39 | Training accuracy: 84.22% | Training Equal Opportunity Disparity: 0.0146\n",
      "\n",
      " | Global Training Round : 229 |\n",
      "\n"
     ]
    },
    {
     "name": "stderr",
     "output_type": "stream",
     "text": [
      "\n",
      "\n",
      " 76%|███████▋  | 229/300 [00:46<00:14,  4.82it/s]\u001b[A\u001b[A\n",
      "\n",
      " 77%|███████▋  | 230/300 [00:46<00:14,  4.90it/s]\u001b[A\u001b[A"
     ]
    },
    {
     "name": "stdout",
     "output_type": "stream",
     "text": [
      "Accuracy loss: 45.13 | fairness loss 128.00 | Equal Opportunity Disparity = 0.01\n",
      " \n",
      "Avg Training Stats after 229 global rounds:\n",
      "Training loss: 0.39 | Training accuracy: 84.22% | Training Equal Opportunity Disparity: 0.0118\n",
      "\n",
      " | Global Training Round : 230 |\n",
      "\n",
      "Accuracy loss: 45.05 | fairness loss 124.11 | Equal Opportunity Disparity = 0.01\n",
      " \n",
      "Avg Training Stats after 230 global rounds:\n",
      "Training loss: 0.39 | Training accuracy: 84.22% | Training Equal Opportunity Disparity: 0.0131\n",
      "\n",
      " | Global Training Round : 231 |\n",
      "\n"
     ]
    },
    {
     "name": "stderr",
     "output_type": "stream",
     "text": [
      "\n",
      "\n",
      " 77%|███████▋  | 231/300 [00:46<00:13,  5.05it/s]\u001b[A\u001b[A"
     ]
    },
    {
     "name": "stdout",
     "output_type": "stream",
     "text": [
      "Accuracy loss: 44.98 | fairness loss 123.22 | Equal Opportunity Disparity = 0.01\n",
      " \n",
      "Avg Training Stats after 231 global rounds:\n",
      "Training loss: 0.39 | Training accuracy: 84.15% | Training Equal Opportunity Disparity: 0.0143\n",
      "\n",
      " | Global Training Round : 232 |\n",
      "\n"
     ]
    },
    {
     "name": "stderr",
     "output_type": "stream",
     "text": [
      "\n",
      "\n",
      " 77%|███████▋  | 232/300 [00:47<00:13,  4.90it/s]\u001b[A\u001b[A"
     ]
    },
    {
     "name": "stdout",
     "output_type": "stream",
     "text": [
      "Accuracy loss: 44.96 | fairness loss 119.28 | Equal Opportunity Disparity = 0.02\n",
      " \n",
      "Avg Training Stats after 232 global rounds:\n",
      "Training loss: 0.39 | Training accuracy: 84.11% | Training Equal Opportunity Disparity: 0.0164\n",
      "\n",
      " | Global Training Round : 233 |\n",
      "\n"
     ]
    },
    {
     "name": "stderr",
     "output_type": "stream",
     "text": [
      "\n",
      "\n",
      " 78%|███████▊  | 233/300 [00:47<00:15,  4.39it/s]\u001b[A\u001b[A\n",
      "\n",
      " 78%|███████▊  | 234/300 [00:47<00:14,  4.62it/s]\u001b[A\u001b[A"
     ]
    },
    {
     "name": "stdout",
     "output_type": "stream",
     "text": [
      "Accuracy loss: 44.87 | fairness loss 124.98 | Equal Opportunity Disparity = 0.02\n",
      " \n",
      "Avg Training Stats after 233 global rounds:\n",
      "Training loss: 0.39 | Training accuracy: 84.19% | Training Equal Opportunity Disparity: 0.0171\n",
      "\n",
      " | Global Training Round : 234 |\n",
      "\n",
      "Accuracy loss: 44.83 | fairness loss 122.96 | Equal Opportunity Disparity = 0.02\n",
      " \n",
      "Avg Training Stats after 234 global rounds:\n",
      "Training loss: 0.39 | Training accuracy: 84.07% | Training Equal Opportunity Disparity: 0.0171\n",
      "\n",
      " | Global Training Round : 235 |\n",
      "\n"
     ]
    },
    {
     "name": "stderr",
     "output_type": "stream",
     "text": [
      "\n",
      "\n",
      " 78%|███████▊  | 235/300 [00:47<00:13,  4.66it/s]\u001b[A\u001b[A"
     ]
    },
    {
     "name": "stdout",
     "output_type": "stream",
     "text": [
      "Accuracy loss: 44.74 | fairness loss 125.86 | Equal Opportunity Disparity = 0.01\n",
      " \n",
      "Avg Training Stats after 235 global rounds:\n",
      "Training loss: 0.39 | Training accuracy: 84.26% | Training Equal Opportunity Disparity: 0.0134\n",
      "\n",
      " | Global Training Round : 236 |\n",
      "\n"
     ]
    },
    {
     "name": "stderr",
     "output_type": "stream",
     "text": [
      "\n",
      "\n",
      " 79%|███████▊  | 236/300 [00:47<00:14,  4.39it/s]\u001b[A\u001b[A"
     ]
    },
    {
     "name": "stdout",
     "output_type": "stream",
     "text": [
      "Accuracy loss: 44.70 | fairness loss 124.13 | Equal Opportunity Disparity = 0.02\n",
      " \n",
      "Avg Training Stats after 236 global rounds:\n",
      "Training loss: 0.39 | Training accuracy: 84.37% | Training Equal Opportunity Disparity: 0.0152\n",
      "\n",
      " | Global Training Round : 237 |\n",
      "\n"
     ]
    },
    {
     "name": "stderr",
     "output_type": "stream",
     "text": [
      "\n",
      "\n",
      " 79%|███████▉  | 237/300 [00:48<00:14,  4.44it/s]\u001b[A\u001b[A"
     ]
    },
    {
     "name": "stdout",
     "output_type": "stream",
     "text": [
      "Accuracy loss: 44.78 | fairness loss 124.13 | Equal Opportunity Disparity = 0.01\n",
      " \n",
      "Avg Training Stats after 237 global rounds:\n",
      "Training loss: 0.39 | Training accuracy: 84.33% | Training Equal Opportunity Disparity: 0.0125\n",
      "\n",
      " | Global Training Round : 238 |\n",
      "\n"
     ]
    },
    {
     "name": "stderr",
     "output_type": "stream",
     "text": [
      "\n",
      "\n",
      " 79%|███████▉  | 238/300 [00:48<00:13,  4.55it/s]\u001b[A\u001b[A"
     ]
    },
    {
     "name": "stdout",
     "output_type": "stream",
     "text": [
      "Accuracy loss: 44.72 | fairness loss 126.56 | Equal Opportunity Disparity = 0.01\n",
      " \n",
      "Avg Training Stats after 238 global rounds:\n",
      "Training loss: 0.39 | Training accuracy: 84.37% | Training Equal Opportunity Disparity: 0.0131\n",
      "\n",
      " | Global Training Round : 239 |\n",
      "\n"
     ]
    },
    {
     "name": "stderr",
     "output_type": "stream",
     "text": [
      "\n",
      "\n",
      " 80%|███████▉  | 239/300 [00:48<00:13,  4.60it/s]\u001b[A\u001b[A"
     ]
    },
    {
     "name": "stdout",
     "output_type": "stream",
     "text": [
      "Accuracy loss: 44.64 | fairness loss 127.54 | Equal Opportunity Disparity = 0.01\n",
      " \n",
      "Avg Training Stats after 239 global rounds:\n",
      "Training loss: 0.39 | Training accuracy: 84.44% | Training Equal Opportunity Disparity: 0.0137\n",
      "\n",
      " | Global Training Round : 240 |\n",
      "\n"
     ]
    },
    {
     "name": "stderr",
     "output_type": "stream",
     "text": [
      "\n",
      "\n",
      " 80%|████████  | 240/300 [00:48<00:12,  4.63it/s]\u001b[A\u001b[A"
     ]
    },
    {
     "name": "stdout",
     "output_type": "stream",
     "text": [
      "Accuracy loss: 44.67 | fairness loss 128.49 | Equal Opportunity Disparity = 0.02\n",
      " \n",
      "Avg Training Stats after 240 global rounds:\n",
      "Training loss: 0.39 | Training accuracy: 84.33% | Training Equal Opportunity Disparity: 0.0152\n",
      "\n",
      " | Global Training Round : 241 |\n",
      "\n"
     ]
    },
    {
     "name": "stderr",
     "output_type": "stream",
     "text": [
      "\n",
      "\n",
      " 80%|████████  | 241/300 [00:49<00:12,  4.64it/s]\u001b[A\u001b[A"
     ]
    },
    {
     "name": "stdout",
     "output_type": "stream",
     "text": [
      "Accuracy loss: 44.66 | fairness loss 125.29 | Equal Opportunity Disparity = 0.02\n",
      " \n",
      "Avg Training Stats after 241 global rounds:\n",
      "Training loss: 0.39 | Training accuracy: 84.33% | Training Equal Opportunity Disparity: 0.0180\n",
      "\n",
      " | Global Training Round : 242 |\n",
      "\n"
     ]
    },
    {
     "name": "stderr",
     "output_type": "stream",
     "text": [
      "\n",
      "\n",
      " 81%|████████  | 242/300 [00:49<00:12,  4.57it/s]\u001b[A\u001b[A"
     ]
    },
    {
     "name": "stdout",
     "output_type": "stream",
     "text": [
      "Accuracy loss: 44.69 | fairness loss 122.32 | Equal Opportunity Disparity = 0.02\n",
      " \n",
      "Avg Training Stats after 242 global rounds:\n",
      "Training loss: 0.39 | Training accuracy: 84.33% | Training Equal Opportunity Disparity: 0.0152\n",
      "\n",
      " | Global Training Round : 243 |\n",
      "\n"
     ]
    },
    {
     "name": "stderr",
     "output_type": "stream",
     "text": [
      "\n",
      "\n",
      " 81%|████████  | 243/300 [00:49<00:13,  4.32it/s]\u001b[A\u001b[A\n",
      "\n",
      " 81%|████████▏ | 244/300 [00:49<00:12,  4.56it/s]\u001b[A\u001b[A"
     ]
    },
    {
     "name": "stdout",
     "output_type": "stream",
     "text": [
      "Accuracy loss: 44.75 | fairness loss 126.23 | Equal Opportunity Disparity = 0.02\n",
      " \n",
      "Avg Training Stats after 243 global rounds:\n",
      "Training loss: 0.39 | Training accuracy: 84.19% | Training Equal Opportunity Disparity: 0.0180\n",
      "\n",
      " | Global Training Round : 244 |\n",
      "\n",
      "Accuracy loss: 44.59 | fairness loss 129.80 | Equal Opportunity Disparity = 0.02\n",
      " \n",
      "Avg Training Stats after 244 global rounds:\n",
      "Training loss: 0.39 | Training accuracy: 84.44% | Training Equal Opportunity Disparity: 0.0165\n",
      "\n",
      " | Global Training Round : 245 |\n",
      "\n"
     ]
    },
    {
     "name": "stderr",
     "output_type": "stream",
     "text": [
      "\n",
      "\n",
      " 82%|████████▏ | 245/300 [00:49<00:12,  4.51it/s]\u001b[A\u001b[A"
     ]
    },
    {
     "name": "stdout",
     "output_type": "stream",
     "text": [
      "Accuracy loss: 44.59 | fairness loss 131.09 | Equal Opportunity Disparity = 0.02\n",
      " \n",
      "Avg Training Stats after 245 global rounds:\n",
      "Training loss: 0.39 | Training accuracy: 84.33% | Training Equal Opportunity Disparity: 0.0208\n",
      "\n",
      " | Global Training Round : 246 |\n",
      "\n"
     ]
    },
    {
     "name": "stderr",
     "output_type": "stream",
     "text": [
      "\n",
      "\n",
      " 82%|████████▏ | 246/300 [00:50<00:11,  4.55it/s]\u001b[A\u001b[A\n",
      "\n",
      " 82%|████████▏ | 247/300 [00:50<00:11,  4.76it/s]\u001b[A\u001b[A"
     ]
    },
    {
     "name": "stdout",
     "output_type": "stream",
     "text": [
      "Accuracy loss: 44.87 | fairness loss 129.73 | Equal Opportunity Disparity = 0.02\n",
      " \n",
      "Avg Training Stats after 246 global rounds:\n",
      "Training loss: 0.39 | Training accuracy: 84.15% | Training Equal Opportunity Disparity: 0.0152\n",
      "\n",
      " | Global Training Round : 247 |\n",
      "\n",
      "Accuracy loss: 44.75 | fairness loss 125.77 | Equal Opportunity Disparity = 0.02\n",
      " \n",
      "Avg Training Stats after 247 global rounds:\n",
      "Training loss: 0.39 | Training accuracy: 84.19% | Training Equal Opportunity Disparity: 0.0180\n",
      "\n",
      " | Global Training Round : 248 |\n",
      "\n"
     ]
    },
    {
     "name": "stderr",
     "output_type": "stream",
     "text": [
      "\n",
      "\n",
      " 83%|████████▎ | 248/300 [00:50<00:10,  4.90it/s]\u001b[A\u001b[A\n",
      "\n",
      " 83%|████████▎ | 249/300 [00:50<00:10,  5.02it/s]\u001b[A\u001b[A"
     ]
    },
    {
     "name": "stdout",
     "output_type": "stream",
     "text": [
      "Accuracy loss: 44.68 | fairness loss 124.42 | Equal Opportunity Disparity = 0.02\n",
      " \n",
      "Avg Training Stats after 248 global rounds:\n",
      "Training loss: 0.39 | Training accuracy: 84.30% | Training Equal Opportunity Disparity: 0.0186\n",
      "\n",
      " | Global Training Round : 249 |\n",
      "\n",
      "Accuracy loss: 44.59 | fairness loss 123.18 | Equal Opportunity Disparity = 0.02\n",
      " \n",
      "Avg Training Stats after 249 global rounds:\n",
      "Training loss: 0.39 | Training accuracy: 84.33% | Training Equal Opportunity Disparity: 0.0186\n",
      "\n",
      " | Global Training Round : 250 |\n",
      "\n"
     ]
    },
    {
     "name": "stderr",
     "output_type": "stream",
     "text": [
      "\n",
      "\n",
      " 83%|████████▎ | 250/300 [00:50<00:09,  5.03it/s]\u001b[A\u001b[A\n",
      "\n",
      " 84%|████████▎ | 251/300 [00:51<00:09,  5.04it/s]\u001b[A\u001b[A"
     ]
    },
    {
     "name": "stdout",
     "output_type": "stream",
     "text": [
      "Accuracy loss: 44.49 | fairness loss 128.74 | Equal Opportunity Disparity = 0.02\n",
      " \n",
      "Avg Training Stats after 250 global rounds:\n",
      "Training loss: 0.39 | Training accuracy: 84.37% | Training Equal Opportunity Disparity: 0.0214\n",
      "\n",
      " | Global Training Round : 251 |\n",
      "\n",
      "Accuracy loss: 44.44 | fairness loss 130.33 | Equal Opportunity Disparity = 0.02\n",
      " \n",
      "Avg Training Stats after 251 global rounds:\n",
      "Training loss: 0.39 | Training accuracy: 84.41% | Training Equal Opportunity Disparity: 0.0214\n",
      "\n",
      " | Global Training Round : 252 |\n",
      "\n"
     ]
    },
    {
     "name": "stderr",
     "output_type": "stream",
     "text": [
      "\n",
      "\n",
      " 84%|████████▍ | 252/300 [00:51<00:10,  4.49it/s]\u001b[A\u001b[A"
     ]
    },
    {
     "name": "stdout",
     "output_type": "stream",
     "text": [
      "Accuracy loss: 44.46 | fairness loss 132.72 | Equal Opportunity Disparity = 0.02\n",
      " \n",
      "Avg Training Stats after 252 global rounds:\n",
      "Training loss: 0.39 | Training accuracy: 84.44% | Training Equal Opportunity Disparity: 0.0199\n",
      "\n",
      " | Global Training Round : 253 |\n",
      "\n"
     ]
    },
    {
     "name": "stderr",
     "output_type": "stream",
     "text": [
      "\n",
      "\n",
      " 84%|████████▍ | 253/300 [00:51<00:10,  4.56it/s]\u001b[A\u001b[A"
     ]
    },
    {
     "name": "stdout",
     "output_type": "stream",
     "text": [
      "Accuracy loss: 44.43 | fairness loss 130.03 | Equal Opportunity Disparity = 0.02\n",
      " \n",
      "Avg Training Stats after 253 global rounds:\n",
      "Training loss: 0.39 | Training accuracy: 84.48% | Training Equal Opportunity Disparity: 0.0199\n",
      "\n",
      " | Global Training Round : 254 |\n",
      "\n"
     ]
    },
    {
     "name": "stderr",
     "output_type": "stream",
     "text": [
      "\n",
      "\n",
      " 85%|████████▍ | 254/300 [00:51<00:10,  4.40it/s]\u001b[A\u001b[A"
     ]
    },
    {
     "name": "stdout",
     "output_type": "stream",
     "text": [
      "Accuracy loss: 44.51 | fairness loss 125.95 | Equal Opportunity Disparity = 0.02\n",
      " \n",
      "Avg Training Stats after 254 global rounds:\n",
      "Training loss: 0.39 | Training accuracy: 84.44% | Training Equal Opportunity Disparity: 0.0193\n",
      "\n",
      " | Global Training Round : 255 |\n",
      "\n"
     ]
    },
    {
     "name": "stderr",
     "output_type": "stream",
     "text": [
      "\n",
      "\n",
      " 85%|████████▌ | 255/300 [00:52<00:10,  4.38it/s]\u001b[A\u001b[A"
     ]
    },
    {
     "name": "stdout",
     "output_type": "stream",
     "text": [
      "Accuracy loss: 44.53 | fairness loss 128.06 | Equal Opportunity Disparity = 0.02\n",
      " \n",
      "Avg Training Stats after 255 global rounds:\n",
      "Training loss: 0.39 | Training accuracy: 84.41% | Training Equal Opportunity Disparity: 0.0193\n",
      "\n",
      " | Global Training Round : 256 |\n",
      "\n"
     ]
    },
    {
     "name": "stderr",
     "output_type": "stream",
     "text": [
      "\n",
      "\n",
      " 85%|████████▌ | 256/300 [00:52<00:10,  4.26it/s]\u001b[A\u001b[A"
     ]
    },
    {
     "name": "stdout",
     "output_type": "stream",
     "text": [
      "Accuracy loss: 44.43 | fairness loss 127.62 | Equal Opportunity Disparity = 0.02\n",
      " \n",
      "Avg Training Stats after 256 global rounds:\n",
      "Training loss: 0.39 | Training accuracy: 84.52% | Training Equal Opportunity Disparity: 0.0177\n",
      "\n",
      " | Global Training Round : 257 |\n",
      "\n"
     ]
    },
    {
     "name": "stderr",
     "output_type": "stream",
     "text": [
      "\n",
      "\n",
      " 86%|████████▌ | 257/300 [00:52<00:10,  4.18it/s]\u001b[A\u001b[A"
     ]
    },
    {
     "name": "stdout",
     "output_type": "stream",
     "text": [
      "Accuracy loss: 44.50 | fairness loss 129.90 | Equal Opportunity Disparity = 0.02\n",
      " \n",
      "Avg Training Stats after 257 global rounds:\n",
      "Training loss: 0.39 | Training accuracy: 84.48% | Training Equal Opportunity Disparity: 0.0177\n",
      "\n",
      " | Global Training Round : 258 |\n",
      "\n"
     ]
    },
    {
     "name": "stderr",
     "output_type": "stream",
     "text": [
      "\n",
      "\n",
      " 86%|████████▌ | 258/300 [00:52<00:10,  4.07it/s]\u001b[A\u001b[A"
     ]
    },
    {
     "name": "stdout",
     "output_type": "stream",
     "text": [
      "Accuracy loss: 44.44 | fairness loss 125.18 | Equal Opportunity Disparity = 0.01\n",
      " \n",
      "Avg Training Stats after 258 global rounds:\n",
      "Training loss: 0.39 | Training accuracy: 84.48% | Training Equal Opportunity Disparity: 0.0150\n",
      "\n",
      " | Global Training Round : 259 |\n",
      "\n"
     ]
    },
    {
     "name": "stderr",
     "output_type": "stream",
     "text": [
      "\n",
      "\n",
      " 86%|████████▋ | 259/300 [00:53<00:10,  4.06it/s]\u001b[A\u001b[A"
     ]
    },
    {
     "name": "stdout",
     "output_type": "stream",
     "text": [
      "Accuracy loss: 44.33 | fairness loss 126.58 | Equal Opportunity Disparity = 0.02\n",
      " \n",
      "Avg Training Stats after 259 global rounds:\n",
      "Training loss: 0.39 | Training accuracy: 84.56% | Training Equal Opportunity Disparity: 0.0183\n",
      "\n",
      " | Global Training Round : 260 |\n",
      "\n"
     ]
    },
    {
     "name": "stderr",
     "output_type": "stream",
     "text": [
      "\n",
      "\n",
      " 87%|████████▋ | 260/300 [00:53<00:09,  4.05it/s]\u001b[A\u001b[A"
     ]
    },
    {
     "name": "stdout",
     "output_type": "stream",
     "text": [
      "Accuracy loss: 44.36 | fairness loss 130.08 | Equal Opportunity Disparity = 0.02\n",
      " \n",
      "Avg Training Stats after 260 global rounds:\n",
      "Training loss: 0.39 | Training accuracy: 84.56% | Training Equal Opportunity Disparity: 0.0156\n",
      "\n",
      " | Global Training Round : 261 |\n",
      "\n"
     ]
    },
    {
     "name": "stderr",
     "output_type": "stream",
     "text": [
      "\n",
      "\n",
      " 87%|████████▋ | 261/300 [00:53<00:10,  3.73it/s]\u001b[A\u001b[A\n",
      "\n",
      " 87%|████████▋ | 262/300 [00:53<00:09,  4.05it/s]\u001b[A\u001b[A"
     ]
    },
    {
     "name": "stdout",
     "output_type": "stream",
     "text": [
      "Accuracy loss: 44.56 | fairness loss 127.23 | Equal Opportunity Disparity = 0.01\n",
      " \n",
      "Avg Training Stats after 261 global rounds:\n",
      "Training loss: 0.39 | Training accuracy: 84.44% | Training Equal Opportunity Disparity: 0.0128\n",
      "\n",
      " | Global Training Round : 262 |\n",
      "\n",
      "Accuracy loss: 44.41 | fairness loss 125.96 | Equal Opportunity Disparity = 0.02\n",
      " \n",
      "Avg Training Stats after 262 global rounds:\n",
      "Training loss: 0.39 | Training accuracy: 84.56% | Training Equal Opportunity Disparity: 0.0162\n",
      "\n",
      " | Global Training Round : 263 |\n",
      "\n"
     ]
    },
    {
     "name": "stderr",
     "output_type": "stream",
     "text": [
      "\n",
      "\n",
      " 88%|████████▊ | 263/300 [00:54<00:08,  4.14it/s]\u001b[A\u001b[A"
     ]
    },
    {
     "name": "stdout",
     "output_type": "stream",
     "text": [
      "Accuracy loss: 44.46 | fairness loss 121.94 | Equal Opportunity Disparity = 0.01\n",
      " \n",
      "Avg Training Stats after 263 global rounds:\n",
      "Training loss: 0.39 | Training accuracy: 84.48% | Training Equal Opportunity Disparity: 0.0150\n",
      "\n",
      " | Global Training Round : 264 |\n",
      "\n"
     ]
    },
    {
     "name": "stderr",
     "output_type": "stream",
     "text": [
      "\n",
      "\n",
      " 88%|████████▊ | 264/300 [00:54<00:08,  4.33it/s]\u001b[A\u001b[A"
     ]
    },
    {
     "name": "stdout",
     "output_type": "stream",
     "text": [
      "Accuracy loss: 44.42 | fairness loss 127.24 | Equal Opportunity Disparity = 0.01\n",
      " \n",
      "Avg Training Stats after 264 global rounds:\n",
      "Training loss: 0.39 | Training accuracy: 84.52% | Training Equal Opportunity Disparity: 0.0150\n",
      "\n",
      " | Global Training Round : 265 |\n",
      "\n"
     ]
    },
    {
     "name": "stderr",
     "output_type": "stream",
     "text": [
      "\n",
      "\n",
      " 88%|████████▊ | 265/300 [00:54<00:08,  4.32it/s]\u001b[A\u001b[A"
     ]
    },
    {
     "name": "stdout",
     "output_type": "stream",
     "text": [
      "Accuracy loss: 44.38 | fairness loss 128.46 | Equal Opportunity Disparity = 0.02\n",
      " \n",
      "Avg Training Stats after 265 global rounds:\n",
      "Training loss: 0.39 | Training accuracy: 84.48% | Training Equal Opportunity Disparity: 0.0205\n",
      "\n",
      " | Global Training Round : 266 |\n",
      "\n"
     ]
    },
    {
     "name": "stderr",
     "output_type": "stream",
     "text": [
      "\n",
      "\n",
      " 89%|████████▊ | 266/300 [00:54<00:08,  4.14it/s]\u001b[A\u001b[A"
     ]
    },
    {
     "name": "stdout",
     "output_type": "stream",
     "text": [
      "Accuracy loss: 44.42 | fairness loss 126.71 | Equal Opportunity Disparity = 0.02\n",
      " \n",
      "Avg Training Stats after 266 global rounds:\n",
      "Training loss: 0.39 | Training accuracy: 84.48% | Training Equal Opportunity Disparity: 0.0199\n",
      "\n",
      " | Global Training Round : 267 |\n",
      "\n"
     ]
    },
    {
     "name": "stderr",
     "output_type": "stream",
     "text": [
      "\n",
      "\n",
      " 89%|████████▉ | 267/300 [00:55<00:08,  3.97it/s]\u001b[A\u001b[A"
     ]
    },
    {
     "name": "stdout",
     "output_type": "stream",
     "text": [
      "Accuracy loss: 44.45 | fairness loss 126.36 | Equal Opportunity Disparity = 0.02\n",
      " \n",
      "Avg Training Stats after 267 global rounds:\n",
      "Training loss: 0.39 | Training accuracy: 84.44% | Training Equal Opportunity Disparity: 0.0193\n",
      "\n",
      " | Global Training Round : 268 |\n",
      "\n"
     ]
    },
    {
     "name": "stderr",
     "output_type": "stream",
     "text": [
      "\n",
      "\n",
      " 89%|████████▉ | 268/300 [00:55<00:08,  3.85it/s]\u001b[A\u001b[A"
     ]
    },
    {
     "name": "stdout",
     "output_type": "stream",
     "text": [
      "Accuracy loss: 44.38 | fairness loss 129.60 | Equal Opportunity Disparity = 0.02\n",
      " \n",
      "Avg Training Stats after 268 global rounds:\n",
      "Training loss: 0.39 | Training accuracy: 84.44% | Training Equal Opportunity Disparity: 0.0226\n",
      "\n",
      " | Global Training Round : 269 |\n",
      "\n"
     ]
    },
    {
     "name": "stderr",
     "output_type": "stream",
     "text": [
      "\n",
      "\n",
      " 90%|████████▉ | 269/300 [00:55<00:07,  3.93it/s]\u001b[A\u001b[A"
     ]
    },
    {
     "name": "stdout",
     "output_type": "stream",
     "text": [
      "Accuracy loss: 44.37 | fairness loss 129.33 | Equal Opportunity Disparity = 0.02\n",
      " \n",
      "Avg Training Stats after 269 global rounds:\n",
      "Training loss: 0.39 | Training accuracy: 84.44% | Training Equal Opportunity Disparity: 0.0226\n",
      "\n",
      " | Global Training Round : 270 |\n",
      "\n"
     ]
    },
    {
     "name": "stderr",
     "output_type": "stream",
     "text": [
      "\n",
      "\n",
      " 90%|█████████ | 270/300 [00:55<00:07,  3.80it/s]\u001b[A\u001b[A"
     ]
    },
    {
     "name": "stdout",
     "output_type": "stream",
     "text": [
      "Accuracy loss: 44.27 | fairness loss 134.69 | Equal Opportunity Disparity = 0.02\n",
      " \n",
      "Avg Training Stats after 270 global rounds:\n",
      "Training loss: 0.39 | Training accuracy: 84.48% | Training Equal Opportunity Disparity: 0.0226\n",
      "\n",
      " | Global Training Round : 271 |\n",
      "\n"
     ]
    },
    {
     "name": "stderr",
     "output_type": "stream",
     "text": [
      "\n",
      "\n",
      " 90%|█████████ | 271/300 [00:56<00:07,  3.87it/s]\u001b[A\u001b[A"
     ]
    },
    {
     "name": "stdout",
     "output_type": "stream",
     "text": [
      "Accuracy loss: 44.05 | fairness loss 128.69 | Equal Opportunity Disparity = 0.02\n",
      " \n",
      "Avg Training Stats after 271 global rounds:\n",
      "Training loss: 0.39 | Training accuracy: 84.67% | Training Equal Opportunity Disparity: 0.0224\n",
      "\n",
      " | Global Training Round : 272 |\n",
      "\n"
     ]
    },
    {
     "name": "stderr",
     "output_type": "stream",
     "text": [
      "\n",
      "\n",
      " 91%|█████████ | 272/300 [00:56<00:07,  3.92it/s]\u001b[A\u001b[A"
     ]
    },
    {
     "name": "stdout",
     "output_type": "stream",
     "text": [
      "Accuracy loss: 44.07 | fairness loss 129.25 | Equal Opportunity Disparity = 0.02\n",
      " \n",
      "Avg Training Stats after 272 global rounds:\n",
      "Training loss: 0.39 | Training accuracy: 84.63% | Training Equal Opportunity Disparity: 0.0181\n",
      "\n",
      " | Global Training Round : 273 |\n",
      "\n"
     ]
    },
    {
     "name": "stderr",
     "output_type": "stream",
     "text": [
      "\n",
      "\n",
      " 91%|█████████ | 273/300 [00:56<00:07,  3.82it/s]\u001b[A\u001b[A\n",
      "\n",
      " 91%|█████████▏| 274/300 [00:56<00:06,  4.12it/s]\u001b[A\u001b[A"
     ]
    },
    {
     "name": "stdout",
     "output_type": "stream",
     "text": [
      "Accuracy loss: 44.07 | fairness loss 126.59 | Equal Opportunity Disparity = 0.02\n",
      " \n",
      "Avg Training Stats after 273 global rounds:\n",
      "Training loss: 0.39 | Training accuracy: 84.67% | Training Equal Opportunity Disparity: 0.0187\n",
      "\n",
      " | Global Training Round : 274 |\n",
      "\n",
      "Accuracy loss: 44.12 | fairness loss 130.38 | Equal Opportunity Disparity = 0.02\n",
      " \n",
      "Avg Training Stats after 274 global rounds:\n",
      "Training loss: 0.39 | Training accuracy: 84.63% | Training Equal Opportunity Disparity: 0.0168\n",
      "\n",
      " | Global Training Round : 275 |\n",
      "\n"
     ]
    },
    {
     "name": "stderr",
     "output_type": "stream",
     "text": [
      "\n",
      "\n",
      " 92%|█████████▏| 275/300 [00:57<00:05,  4.37it/s]\u001b[A\u001b[A"
     ]
    },
    {
     "name": "stdout",
     "output_type": "stream",
     "text": [
      "Accuracy loss: 44.15 | fairness loss 130.22 | Equal Opportunity Disparity = 0.02\n",
      " \n",
      "Avg Training Stats after 275 global rounds:\n",
      "Training loss: 0.39 | Training accuracy: 84.63% | Training Equal Opportunity Disparity: 0.0168\n",
      "\n",
      " | Global Training Round : 276 |\n",
      "\n"
     ]
    },
    {
     "name": "stderr",
     "output_type": "stream",
     "text": [
      "\n",
      "\n",
      " 92%|█████████▏| 276/300 [00:57<00:05,  4.44it/s]\u001b[A\u001b[A"
     ]
    },
    {
     "name": "stdout",
     "output_type": "stream",
     "text": [
      "Accuracy loss: 44.18 | fairness loss 127.99 | Equal Opportunity Disparity = 0.02\n",
      " \n",
      "Avg Training Stats after 276 global rounds:\n",
      "Training loss: 0.39 | Training accuracy: 84.59% | Training Equal Opportunity Disparity: 0.0190\n",
      "\n",
      " | Global Training Round : 277 |\n",
      "\n"
     ]
    },
    {
     "name": "stderr",
     "output_type": "stream",
     "text": [
      "\n",
      "\n",
      " 92%|█████████▏| 277/300 [00:57<00:05,  4.48it/s]\u001b[A\u001b[A"
     ]
    },
    {
     "name": "stdout",
     "output_type": "stream",
     "text": [
      "Accuracy loss: 44.41 | fairness loss 133.17 | Equal Opportunity Disparity = 0.02\n",
      " \n",
      "Avg Training Stats after 277 global rounds:\n",
      "Training loss: 0.39 | Training accuracy: 84.48% | Training Equal Opportunity Disparity: 0.0211\n",
      "\n",
      " | Global Training Round : 278 |\n",
      "\n"
     ]
    },
    {
     "name": "stderr",
     "output_type": "stream",
     "text": [
      "\n",
      "\n",
      " 93%|█████████▎| 278/300 [00:57<00:04,  4.51it/s]\u001b[A\u001b[A"
     ]
    },
    {
     "name": "stdout",
     "output_type": "stream",
     "text": [
      "Accuracy loss: 44.77 | fairness loss 121.88 | Equal Opportunity Disparity = 0.02\n",
      " \n",
      "Avg Training Stats after 278 global rounds:\n",
      "Training loss: 0.39 | Training accuracy: 84.04% | Training Equal Opportunity Disparity: 0.0165\n",
      "\n",
      " | Global Training Round : 279 |\n",
      "\n"
     ]
    },
    {
     "name": "stderr",
     "output_type": "stream",
     "text": [
      "\n",
      "\n",
      " 93%|█████████▎| 279/300 [00:57<00:04,  4.21it/s]\u001b[A\u001b[A"
     ]
    },
    {
     "name": "stdout",
     "output_type": "stream",
     "text": [
      "Accuracy loss: 44.63 | fairness loss 121.41 | Equal Opportunity Disparity = 0.02\n",
      " \n",
      "Avg Training Stats after 279 global rounds:\n",
      "Training loss: 0.39 | Training accuracy: 84.19% | Training Equal Opportunity Disparity: 0.0177\n",
      "\n",
      " | Global Training Round : 280 |\n",
      "\n"
     ]
    },
    {
     "name": "stderr",
     "output_type": "stream",
     "text": [
      "\n",
      "\n",
      " 93%|█████████▎| 280/300 [00:58<00:04,  4.38it/s]\u001b[A\u001b[A\n",
      "\n",
      " 94%|█████████▎| 281/300 [00:58<00:04,  4.57it/s]\u001b[A\u001b[A"
     ]
    },
    {
     "name": "stdout",
     "output_type": "stream",
     "text": [
      "Accuracy loss: 44.38 | fairness loss 126.05 | Equal Opportunity Disparity = 0.02\n",
      " \n",
      "Avg Training Stats after 280 global rounds:\n",
      "Training loss: 0.39 | Training accuracy: 84.33% | Training Equal Opportunity Disparity: 0.0183\n",
      "\n",
      " | Global Training Round : 281 |\n",
      "\n",
      "Accuracy loss: 44.41 | fairness loss 128.13 | Equal Opportunity Disparity = 0.02\n",
      " \n",
      "Avg Training Stats after 281 global rounds:\n",
      "Training loss: 0.39 | Training accuracy: 84.33% | Training Equal Opportunity Disparity: 0.0211\n",
      "\n",
      " | Global Training Round : 282 |\n",
      "\n"
     ]
    },
    {
     "name": "stderr",
     "output_type": "stream",
     "text": [
      "\n",
      "\n",
      " 94%|█████████▍| 282/300 [00:58<00:03,  4.71it/s]\u001b[A\u001b[A"
     ]
    },
    {
     "name": "stdout",
     "output_type": "stream",
     "text": [
      "Accuracy loss: 44.60 | fairness loss 123.85 | Equal Opportunity Disparity = 0.02\n",
      " \n",
      "Avg Training Stats after 282 global rounds:\n",
      "Training loss: 0.39 | Training accuracy: 84.19% | Training Equal Opportunity Disparity: 0.0183\n",
      "\n",
      " | Global Training Round : 283 |\n",
      "\n"
     ]
    },
    {
     "name": "stderr",
     "output_type": "stream",
     "text": [
      "\n",
      "\n",
      " 94%|█████████▍| 283/300 [00:58<00:03,  4.69it/s]\u001b[A\u001b[A"
     ]
    },
    {
     "name": "stdout",
     "output_type": "stream",
     "text": [
      "Accuracy loss: 44.53 | fairness loss 128.14 | Equal Opportunity Disparity = 0.02\n",
      " \n",
      "Avg Training Stats after 283 global rounds:\n",
      "Training loss: 0.39 | Training accuracy: 84.30% | Training Equal Opportunity Disparity: 0.0183\n",
      "\n",
      " | Global Training Round : 284 |\n",
      "\n"
     ]
    },
    {
     "name": "stderr",
     "output_type": "stream",
     "text": [
      "\n",
      "\n",
      " 95%|█████████▍| 284/300 [00:59<00:03,  4.63it/s]\u001b[A\u001b[A"
     ]
    },
    {
     "name": "stdout",
     "output_type": "stream",
     "text": [
      "Accuracy loss: 44.43 | fairness loss 125.14 | Equal Opportunity Disparity = 0.02\n",
      " \n",
      "Avg Training Stats after 284 global rounds:\n",
      "Training loss: 0.39 | Training accuracy: 84.26% | Training Equal Opportunity Disparity: 0.0211\n",
      "\n",
      " | Global Training Round : 285 |\n",
      "\n"
     ]
    },
    {
     "name": "stderr",
     "output_type": "stream",
     "text": [
      "\n",
      "\n",
      " 95%|█████████▌| 285/300 [00:59<00:03,  4.58it/s]\u001b[A\u001b[A"
     ]
    },
    {
     "name": "stdout",
     "output_type": "stream",
     "text": [
      "Accuracy loss: 44.56 | fairness loss 124.38 | Equal Opportunity Disparity = 0.02\n",
      " \n",
      "Avg Training Stats after 285 global rounds:\n",
      "Training loss: 0.39 | Training accuracy: 84.22% | Training Equal Opportunity Disparity: 0.0171\n",
      "\n",
      " | Global Training Round : 286 |\n",
      "\n"
     ]
    },
    {
     "name": "stderr",
     "output_type": "stream",
     "text": [
      "\n",
      "\n",
      " 95%|█████████▌| 286/300 [00:59<00:02,  4.68it/s]\u001b[A\u001b[A"
     ]
    },
    {
     "name": "stdout",
     "output_type": "stream",
     "text": [
      "Accuracy loss: 44.38 | fairness loss 129.54 | Equal Opportunity Disparity = 0.02\n",
      " \n",
      "Avg Training Stats after 286 global rounds:\n",
      "Training loss: 0.39 | Training accuracy: 84.26% | Training Equal Opportunity Disparity: 0.0183\n",
      "\n",
      " | Global Training Round : 287 |\n",
      "\n"
     ]
    },
    {
     "name": "stderr",
     "output_type": "stream",
     "text": [
      "\n",
      "\n",
      " 96%|█████████▌| 287/300 [00:59<00:02,  4.47it/s]\u001b[A\u001b[A"
     ]
    },
    {
     "name": "stdout",
     "output_type": "stream",
     "text": [
      "Accuracy loss: 44.21 | fairness loss 129.33 | Equal Opportunity Disparity = 0.02\n",
      " \n",
      "Avg Training Stats after 287 global rounds:\n",
      "Training loss: 0.39 | Training accuracy: 84.48% | Training Equal Opportunity Disparity: 0.0224\n",
      "\n",
      " | Global Training Round : 288 |\n",
      "\n"
     ]
    },
    {
     "name": "stderr",
     "output_type": "stream",
     "text": [
      "\n",
      "\n",
      " 96%|█████████▌| 288/300 [00:59<00:02,  4.48it/s]\u001b[A\u001b[A\n",
      "\n",
      " 96%|█████████▋| 289/300 [01:00<00:02,  4.68it/s]\u001b[A\u001b[A"
     ]
    },
    {
     "name": "stdout",
     "output_type": "stream",
     "text": [
      "Accuracy loss: 44.11 | fairness loss 129.91 | Equal Opportunity Disparity = 0.02\n",
      " \n",
      "Avg Training Stats after 288 global rounds:\n",
      "Training loss: 0.39 | Training accuracy: 84.41% | Training Equal Opportunity Disparity: 0.0239\n",
      "\n",
      " | Global Training Round : 289 |\n",
      "\n",
      "Accuracy loss: 44.09 | fairness loss 126.72 | Equal Opportunity Disparity = 0.03\n",
      " \n",
      "Avg Training Stats after 289 global rounds:\n",
      "Training loss: 0.39 | Training accuracy: 84.52% | Training Equal Opportunity Disparity: 0.0251\n",
      "\n",
      " | Global Training Round : 290 |\n",
      "\n"
     ]
    },
    {
     "name": "stderr",
     "output_type": "stream",
     "text": [
      "\n",
      "\n",
      " 97%|█████████▋| 290/300 [01:00<00:02,  4.86it/s]\u001b[A\u001b[A\n",
      "\n",
      " 97%|█████████▋| 291/300 [01:00<00:01,  5.01it/s]\u001b[A\u001b[A"
     ]
    },
    {
     "name": "stdout",
     "output_type": "stream",
     "text": [
      "Accuracy loss: 43.99 | fairness loss 132.93 | Equal Opportunity Disparity = 0.03\n",
      " \n",
      "Avg Training Stats after 290 global rounds:\n",
      "Training loss: 0.39 | Training accuracy: 84.56% | Training Equal Opportunity Disparity: 0.0251\n",
      "\n",
      " | Global Training Round : 291 |\n",
      "\n",
      "Accuracy loss: 44.04 | fairness loss 127.58 | Equal Opportunity Disparity = 0.02\n",
      " \n",
      "Avg Training Stats after 291 global rounds:\n",
      "Training loss: 0.38 | Training accuracy: 84.59% | Training Equal Opportunity Disparity: 0.0224\n",
      "\n",
      " | Global Training Round : 292 |\n",
      "\n"
     ]
    },
    {
     "name": "stderr",
     "output_type": "stream",
     "text": [
      "\n",
      "\n",
      " 97%|█████████▋| 292/300 [01:00<00:01,  5.15it/s]\u001b[A\u001b[A\n",
      "\n",
      " 98%|█████████▊| 293/300 [01:00<00:01,  5.31it/s]\u001b[A\u001b[A"
     ]
    },
    {
     "name": "stdout",
     "output_type": "stream",
     "text": [
      "Accuracy loss: 44.12 | fairness loss 129.22 | Equal Opportunity Disparity = 0.02\n",
      " \n",
      "Avg Training Stats after 292 global rounds:\n",
      "Training loss: 0.38 | Training accuracy: 84.52% | Training Equal Opportunity Disparity: 0.0224\n",
      "\n",
      " | Global Training Round : 293 |\n",
      "\n",
      "Accuracy loss: 44.16 | fairness loss 124.41 | Equal Opportunity Disparity = 0.02\n",
      " \n",
      "Avg Training Stats after 293 global rounds:\n",
      "Training loss: 0.38 | Training accuracy: 84.52% | Training Equal Opportunity Disparity: 0.0224\n",
      "\n",
      " | Global Training Round : 294 |\n",
      "\n"
     ]
    },
    {
     "name": "stderr",
     "output_type": "stream",
     "text": [
      "\n",
      "\n",
      " 98%|█████████▊| 294/300 [01:01<00:01,  5.41it/s]\u001b[A\u001b[A\n",
      "\n",
      " 98%|█████████▊| 295/300 [01:01<00:00,  5.52it/s]\u001b[A\u001b[A"
     ]
    },
    {
     "name": "stdout",
     "output_type": "stream",
     "text": [
      "Accuracy loss: 44.20 | fairness loss 126.17 | Equal Opportunity Disparity = 0.02\n",
      " \n",
      "Avg Training Stats after 294 global rounds:\n",
      "Training loss: 0.38 | Training accuracy: 84.41% | Training Equal Opportunity Disparity: 0.0239\n",
      "\n",
      " | Global Training Round : 295 |\n",
      "\n",
      "Accuracy loss: 44.07 | fairness loss 126.33 | Equal Opportunity Disparity = 0.02\n",
      " \n",
      "Avg Training Stats after 295 global rounds:\n",
      "Training loss: 0.38 | Training accuracy: 84.52% | Training Equal Opportunity Disparity: 0.0239\n",
      "\n",
      " | Global Training Round : 296 |\n",
      "\n"
     ]
    },
    {
     "name": "stderr",
     "output_type": "stream",
     "text": [
      "\n",
      "\n",
      " 99%|█████████▊| 296/300 [01:01<00:00,  5.55it/s]\u001b[A\u001b[A\n",
      "\n",
      " 99%|█████████▉| 297/300 [01:01<00:00,  5.56it/s]\u001b[A\u001b[A"
     ]
    },
    {
     "name": "stdout",
     "output_type": "stream",
     "text": [
      "Accuracy loss: 44.25 | fairness loss 126.85 | Equal Opportunity Disparity = 0.02\n",
      " \n",
      "Avg Training Stats after 296 global rounds:\n",
      "Training loss: 0.38 | Training accuracy: 84.41% | Training Equal Opportunity Disparity: 0.0211\n",
      "\n",
      " | Global Training Round : 297 |\n",
      "\n",
      "Accuracy loss: 44.39 | fairness loss 121.69 | Equal Opportunity Disparity = 0.02\n",
      " \n",
      "Avg Training Stats after 297 global rounds:\n",
      "Training loss: 0.38 | Training accuracy: 84.30% | Training Equal Opportunity Disparity: 0.0190\n",
      "\n",
      " | Global Training Round : 298 |\n",
      "\n"
     ]
    },
    {
     "name": "stderr",
     "output_type": "stream",
     "text": [
      "\n",
      "\n",
      " 99%|█████████▉| 298/300 [01:01<00:00,  5.46it/s]\u001b[A\u001b[A\n",
      "\n",
      "100%|█████████▉| 299/300 [01:01<00:00,  5.50it/s]\u001b[A\u001b[A"
     ]
    },
    {
     "name": "stdout",
     "output_type": "stream",
     "text": [
      "Accuracy loss: 44.27 | fairness loss 129.36 | Equal Opportunity Disparity = 0.01\n",
      " \n",
      "Avg Training Stats after 298 global rounds:\n",
      "Training loss: 0.38 | Training accuracy: 84.48% | Training Equal Opportunity Disparity: 0.0134\n",
      "\n",
      " | Global Training Round : 299 |\n",
      "\n",
      "Accuracy loss: 44.33 | fairness loss 123.63 | Equal Opportunity Disparity = 0.02\n",
      " \n",
      "Avg Training Stats after 299 global rounds:\n",
      "Training loss: 0.38 | Training accuracy: 84.37% | Training Equal Opportunity Disparity: 0.0162\n",
      "\n",
      " | Global Training Round : 300 |\n",
      "\n"
     ]
    },
    {
     "name": "stderr",
     "output_type": "stream",
     "text": [
      "\n",
      "\n",
      "100%|██████████| 300/300 [01:02<00:00,  4.83it/s]\u001b[A\u001b[A"
     ]
    },
    {
     "name": "stdout",
     "output_type": "stream",
     "text": [
      "Accuracy loss: 44.16 | fairness loss 124.47 | Equal Opportunity Disparity = 0.02\n",
      " \n",
      "Avg Training Stats after 300 global rounds:\n",
      "Training loss: 0.38 | Training accuracy: 84.56% | Training Equal Opportunity Disparity: 0.0190\n",
      " \n",
      " Results after 300 global rounds of training:\n",
      "|---- Avg Train Accuracy: 84.56%\n",
      "|---- Test Accuracy: 84.00%\n",
      "|---- Test Equal Opportunity Disparity: 0.0485\n",
      "\n",
      " Total Run Time: 62.1147 sec\n"
     ]
    },
    {
     "name": "stderr",
     "output_type": "stream",
     "text": [
      "\n"
     ]
    }
   ],
   "source": [
    "server = Server(logReg(num_features=3, num_classes=2, seed = seed), synthetic_info, train_prn = False, seed = seed)\n",
    "server.FairBatch(num_epochs = 300, optimizer = 'adam', learning_rate = 0.001, alpha = 0.07)"
   ]
  },
  {
   "cell_type": "code",
   "execution_count": 11,
   "metadata": {},
   "outputs": [
    {
     "name": "stderr",
     "output_type": "stream",
     "text": [
      "\n",
      "\n",
      "  0%|          | 0/300 [00:00<?, ?it/s]\u001b[A\u001b[A"
     ]
    },
    {
     "name": "stdout",
     "output_type": "stream",
     "text": [
      "\n",
      " | Global Training Round : 1 |\n",
      "\n"
     ]
    },
    {
     "name": "stderr",
     "output_type": "stream",
     "text": [
      "\n",
      "\n",
      "  0%|          | 1/300 [00:00<02:49,  1.76it/s]\u001b[A\u001b[A"
     ]
    },
    {
     "name": "stdout",
     "output_type": "stream",
     "text": [
      "Accuracy loss: 98.58 | fairness loss 56.30 | Equal Opportunity Disparity = 0.40\n",
      " \n",
      "Avg Training Stats after 1 global rounds:\n",
      "Training loss: 0.82 | Training accuracy: 60.67% | Training Equal Opportunity Disparity: 0.3954\n",
      "\n",
      " | Global Training Round : 2 |\n",
      "\n"
     ]
    },
    {
     "name": "stderr",
     "output_type": "stream",
     "text": [
      "\n",
      "\n",
      "  1%|          | 2/300 [00:00<02:32,  1.95it/s]\u001b[A\u001b[A"
     ]
    },
    {
     "name": "stdout",
     "output_type": "stream",
     "text": [
      "Accuracy loss: 92.03 | fairness loss 59.68 | Equal Opportunity Disparity = 0.43\n",
      " \n",
      "Avg Training Stats after 2 global rounds:\n",
      "Training loss: 0.82 | Training accuracy: 64.48% | Training Equal Opportunity Disparity: 0.4339\n",
      "\n",
      " | Global Training Round : 3 |\n",
      "\n"
     ]
    },
    {
     "name": "stderr",
     "output_type": "stream",
     "text": [
      "\n",
      "\n",
      "  1%|          | 3/300 [00:01<02:25,  2.04it/s]\u001b[A\u001b[A"
     ]
    },
    {
     "name": "stdout",
     "output_type": "stream",
     "text": [
      "Accuracy loss: 86.83 | fairness loss 62.54 | Equal Opportunity Disparity = 0.46\n",
      " \n",
      "Avg Training Stats after 3 global rounds:\n",
      "Training loss: 0.82 | Training accuracy: 67.22% | Training Equal Opportunity Disparity: 0.4644\n",
      "\n",
      " | Global Training Round : 4 |\n",
      "\n"
     ]
    },
    {
     "name": "stderr",
     "output_type": "stream",
     "text": [
      "\n",
      "\n",
      "  1%|▏         | 4/300 [00:02<02:56,  1.68it/s]\u001b[A\u001b[A"
     ]
    },
    {
     "name": "stdout",
     "output_type": "stream",
     "text": [
      "Accuracy loss: 82.41 | fairness loss 65.45 | Equal Opportunity Disparity = 0.48\n",
      " \n",
      "Avg Training Stats after 4 global rounds:\n",
      "Training loss: 0.81 | Training accuracy: 69.00% | Training Equal Opportunity Disparity: 0.4809\n",
      "\n",
      " | Global Training Round : 5 |\n",
      "\n"
     ]
    },
    {
     "name": "stderr",
     "output_type": "stream",
     "text": [
      "\n",
      "\n",
      "  2%|▏         | 5/300 [00:02<02:34,  1.91it/s]\u001b[A\u001b[A\n",
      "\n",
      "  2%|▏         | 6/300 [00:02<02:03,  2.37it/s]\u001b[A\u001b[A"
     ]
    },
    {
     "name": "stdout",
     "output_type": "stream",
     "text": [
      "Accuracy loss: 78.73 | fairness loss 67.03 | Equal Opportunity Disparity = 0.50\n",
      " \n",
      "Avg Training Stats after 5 global rounds:\n",
      "Training loss: 0.80 | Training accuracy: 70.81% | Training Equal Opportunity Disparity: 0.5032\n",
      "\n",
      " | Global Training Round : 6 |\n",
      "\n",
      "Accuracy loss: 75.41 | fairness loss 64.96 | Equal Opportunity Disparity = 0.50\n",
      " \n",
      "Avg Training Stats after 6 global rounds:\n",
      "Training loss: 0.79 | Training accuracy: 72.41% | Training Equal Opportunity Disparity: 0.5042\n",
      "\n",
      " | Global Training Round : 7 |\n",
      "\n"
     ]
    },
    {
     "name": "stderr",
     "output_type": "stream",
     "text": [
      "\n",
      "\n",
      "  2%|▏         | 7/300 [00:02<01:43,  2.84it/s]\u001b[A\u001b[A\n",
      "\n",
      "  3%|▎         | 8/300 [00:03<01:29,  3.28it/s]\u001b[A\u001b[A"
     ]
    },
    {
     "name": "stdout",
     "output_type": "stream",
     "text": [
      "Accuracy loss: 72.22 | fairness loss 64.93 | Equal Opportunity Disparity = 0.51\n",
      " \n",
      "Avg Training Stats after 7 global rounds:\n",
      "Training loss: 0.78 | Training accuracy: 73.52% | Training Equal Opportunity Disparity: 0.5065\n",
      "\n",
      " | Global Training Round : 8 |\n",
      "\n",
      "Accuracy loss: 69.43 | fairness loss 63.97 | Equal Opportunity Disparity = 0.52\n",
      " \n",
      "Avg Training Stats after 8 global rounds:\n",
      "Training loss: 0.77 | Training accuracy: 74.33% | Training Equal Opportunity Disparity: 0.5223\n",
      "\n",
      " | Global Training Round : 9 |\n",
      "\n"
     ]
    },
    {
     "name": "stderr",
     "output_type": "stream",
     "text": [
      "\n",
      "\n",
      "  3%|▎         | 9/300 [00:03<01:22,  3.53it/s]\u001b[A\u001b[A"
     ]
    },
    {
     "name": "stdout",
     "output_type": "stream",
     "text": [
      "Accuracy loss: 66.75 | fairness loss 61.96 | Equal Opportunity Disparity = 0.53\n",
      " \n",
      "Avg Training Stats after 9 global rounds:\n",
      "Training loss: 0.75 | Training accuracy: 75.52% | Training Equal Opportunity Disparity: 0.5328\n",
      "\n",
      " | Global Training Round : 10 |\n",
      "\n"
     ]
    },
    {
     "name": "stderr",
     "output_type": "stream",
     "text": [
      "\n",
      "\n",
      "  3%|▎         | 10/300 [00:03<01:22,  3.51it/s]\u001b[A\u001b[A"
     ]
    },
    {
     "name": "stdout",
     "output_type": "stream",
     "text": [
      "Accuracy loss: 64.24 | fairness loss 60.41 | Equal Opportunity Disparity = 0.52\n",
      " \n",
      "Avg Training Stats after 10 global rounds:\n",
      "Training loss: 0.74 | Training accuracy: 76.41% | Training Equal Opportunity Disparity: 0.5243\n",
      "\n",
      " | Global Training Round : 11 |\n",
      "\n"
     ]
    },
    {
     "name": "stderr",
     "output_type": "stream",
     "text": [
      "\n",
      "\n",
      "  4%|▎         | 11/300 [00:03<01:24,  3.44it/s]\u001b[A\u001b[A"
     ]
    },
    {
     "name": "stdout",
     "output_type": "stream",
     "text": [
      "Accuracy loss: 61.88 | fairness loss 58.07 | Equal Opportunity Disparity = 0.52\n",
      " \n",
      "Avg Training Stats after 11 global rounds:\n",
      "Training loss: 0.73 | Training accuracy: 77.44% | Training Equal Opportunity Disparity: 0.5160\n",
      "\n",
      " | Global Training Round : 12 |\n",
      "\n"
     ]
    },
    {
     "name": "stderr",
     "output_type": "stream",
     "text": [
      "\n",
      "\n",
      "  4%|▍         | 12/300 [00:04<01:17,  3.70it/s]\u001b[A\u001b[A\n",
      "\n",
      "  4%|▍         | 13/300 [00:04<01:10,  4.08it/s]\u001b[A\u001b[A"
     ]
    },
    {
     "name": "stdout",
     "output_type": "stream",
     "text": [
      "Accuracy loss: 59.73 | fairness loss 55.43 | Equal Opportunity Disparity = 0.52\n",
      " \n",
      "Avg Training Stats after 12 global rounds:\n",
      "Training loss: 0.72 | Training accuracy: 78.11% | Training Equal Opportunity Disparity: 0.5157\n",
      "\n",
      " | Global Training Round : 13 |\n",
      "\n",
      "Accuracy loss: 57.76 | fairness loss 55.26 | Equal Opportunity Disparity = 0.50\n",
      " \n",
      "Avg Training Stats after 13 global rounds:\n",
      "Training loss: 0.71 | Training accuracy: 78.93% | Training Equal Opportunity Disparity: 0.4982\n",
      "\n",
      " | Global Training Round : 14 |\n",
      "\n"
     ]
    },
    {
     "name": "stderr",
     "output_type": "stream",
     "text": [
      "\n",
      "\n",
      "  5%|▍         | 14/300 [00:04<01:04,  4.42it/s]\u001b[A\u001b[A\n",
      "\n",
      "  5%|▌         | 15/300 [00:04<01:00,  4.71it/s]\u001b[A\u001b[A"
     ]
    },
    {
     "name": "stdout",
     "output_type": "stream",
     "text": [
      "Accuracy loss: 55.89 | fairness loss 53.44 | Equal Opportunity Disparity = 0.46\n",
      " \n",
      "Avg Training Stats after 14 global rounds:\n",
      "Training loss: 0.70 | Training accuracy: 79.70% | Training Equal Opportunity Disparity: 0.4634\n",
      "\n",
      " | Global Training Round : 15 |\n",
      "\n",
      "Accuracy loss: 54.22 | fairness loss 54.78 | Equal Opportunity Disparity = 0.44\n",
      " \n",
      "Avg Training Stats after 15 global rounds:\n",
      "Training loss: 0.69 | Training accuracy: 80.33% | Training Equal Opportunity Disparity: 0.4351\n",
      "\n",
      " | Global Training Round : 16 |\n",
      "\n"
     ]
    },
    {
     "name": "stderr",
     "output_type": "stream",
     "text": [
      "\n",
      "\n",
      "  5%|▌         | 16/300 [00:05<01:03,  4.46it/s]\u001b[A\u001b[A"
     ]
    },
    {
     "name": "stdout",
     "output_type": "stream",
     "text": [
      "Accuracy loss: 52.72 | fairness loss 54.52 | Equal Opportunity Disparity = 0.40\n",
      " \n",
      "Avg Training Stats after 16 global rounds:\n",
      "Training loss: 0.68 | Training accuracy: 80.85% | Training Equal Opportunity Disparity: 0.3985\n",
      "\n",
      " | Global Training Round : 17 |\n",
      "\n"
     ]
    },
    {
     "name": "stderr",
     "output_type": "stream",
     "text": [
      "\n",
      "\n",
      "  6%|▌         | 17/300 [00:05<01:03,  4.44it/s]\u001b[A\u001b[A\n",
      "\n"
     ]
    },
    {
     "name": "stdout",
     "output_type": "stream",
     "text": [
      "Accuracy loss: 51.31 | fairness loss 53.58 | Equal Opportunity Disparity = 0.37\n",
      " \n",
      "Avg Training Stats after 17 global rounds:\n",
      "Training loss: 0.67 | Training accuracy: 81.52% | Training Equal Opportunity Disparity: 0.3680\n",
      "\n",
      " | Global Training Round : 18 |\n",
      "\n",
      "Accuracy loss: 50.02 | fairness loss 53.57 | Equal Opportunity Disparity = 0.35\n",
      " \n",
      "Avg Training Stats after 18 global rounds:\n",
      "Training loss: 0.66 | Training accuracy: 82.11% | Training Equal Opportunity Disparity: 0.3465\n"
     ]
    },
    {
     "name": "stderr",
     "output_type": "stream",
     "text": [
      "  6%|▌         | 18/300 [00:05<01:01,  4.60it/s]\u001b[A\u001b[A"
     ]
    },
    {
     "name": "stdout",
     "output_type": "stream",
     "text": [
      "\n",
      " | Global Training Round : 19 |\n",
      "\n"
     ]
    },
    {
     "name": "stderr",
     "output_type": "stream",
     "text": [
      "\n",
      "\n",
      "  6%|▋         | 19/300 [00:05<01:14,  3.79it/s]\u001b[A\u001b[A"
     ]
    },
    {
     "name": "stdout",
     "output_type": "stream",
     "text": [
      "Accuracy loss: 48.94 | fairness loss 54.84 | Equal Opportunity Disparity = 0.30\n",
      " \n",
      "Avg Training Stats after 19 global rounds:\n",
      "Training loss: 0.65 | Training accuracy: 82.85% | Training Equal Opportunity Disparity: 0.3022\n",
      "\n",
      " | Global Training Round : 20 |\n",
      "\n",
      "Accuracy loss: 47.87 | fairness loss 54.30 | Equal Opportunity Disparity = 0.27\n"
     ]
    },
    {
     "name": "stderr",
     "output_type": "stream",
     "text": [
      "\n",
      "\n",
      "  7%|▋         | 20/300 [00:06<01:08,  4.09it/s]\u001b[A\u001b[A\n",
      "\n",
      "  7%|▋         | 21/300 [00:06<01:03,  4.36it/s]\u001b[A\u001b[A"
     ]
    },
    {
     "name": "stdout",
     "output_type": "stream",
     "text": [
      " \n",
      "Avg Training Stats after 20 global rounds:\n",
      "Training loss: 0.64 | Training accuracy: 83.70% | Training Equal Opportunity Disparity: 0.2689\n",
      "\n",
      " | Global Training Round : 21 |\n",
      "\n",
      "Accuracy loss: 46.95 | fairness loss 53.71 | Equal Opportunity Disparity = 0.25\n",
      " \n",
      "Avg Training Stats after 21 global rounds:\n",
      "Training loss: 0.63 | Training accuracy: 84.00% | Training Equal Opportunity Disparity: 0.2462\n",
      "\n",
      " | Global Training Round : 22 |\n",
      "\n"
     ]
    },
    {
     "name": "stderr",
     "output_type": "stream",
     "text": [
      "\n",
      "\n",
      "  7%|▋         | 22/300 [00:06<01:03,  4.36it/s]\u001b[A\u001b[A"
     ]
    },
    {
     "name": "stdout",
     "output_type": "stream",
     "text": [
      "Accuracy loss: 46.08 | fairness loss 57.24 | Equal Opportunity Disparity = 0.23\n",
      " \n",
      "Avg Training Stats after 22 global rounds:\n",
      "Training loss: 0.63 | Training accuracy: 84.48% | Training Equal Opportunity Disparity: 0.2304\n",
      "\n",
      " | Global Training Round : 23 |\n",
      "\n"
     ]
    },
    {
     "name": "stderr",
     "output_type": "stream",
     "text": [
      "\n",
      "\n",
      "  8%|▊         | 23/300 [00:06<01:09,  3.97it/s]\u001b[A\u001b[A"
     ]
    },
    {
     "name": "stdout",
     "output_type": "stream",
     "text": [
      "Accuracy loss: 45.24 | fairness loss 56.12 | Equal Opportunity Disparity = 0.23\n",
      " \n",
      "Avg Training Stats after 23 global rounds:\n",
      "Training loss: 0.62 | Training accuracy: 84.78% | Training Equal Opportunity Disparity: 0.2341\n",
      "\n",
      " | Global Training Round : 24 |\n",
      "\n"
     ]
    },
    {
     "name": "stderr",
     "output_type": "stream",
     "text": [
      "\n",
      "\n",
      "  8%|▊         | 24/300 [00:06<01:06,  4.15it/s]\u001b[A\u001b[A"
     ]
    },
    {
     "name": "stdout",
     "output_type": "stream",
     "text": [
      "Accuracy loss: 44.52 | fairness loss 56.43 | Equal Opportunity Disparity = 0.23\n",
      " \n",
      "Avg Training Stats after 24 global rounds:\n",
      "Training loss: 0.61 | Training accuracy: 84.85% | Training Equal Opportunity Disparity: 0.2261\n",
      "\n",
      " | Global Training Round : 25 |\n",
      "\n"
     ]
    },
    {
     "name": "stderr",
     "output_type": "stream",
     "text": [
      "\n",
      "\n",
      "  8%|▊         | 25/300 [00:07<01:05,  4.20it/s]\u001b[A\u001b[A"
     ]
    },
    {
     "name": "stdout",
     "output_type": "stream",
     "text": [
      "Accuracy loss: 43.90 | fairness loss 57.79 | Equal Opportunity Disparity = 0.21\n",
      " \n",
      "Avg Training Stats after 25 global rounds:\n",
      "Training loss: 0.60 | Training accuracy: 85.07% | Training Equal Opportunity Disparity: 0.2132\n",
      "\n",
      " | Global Training Round : 26 |\n",
      "\n"
     ]
    },
    {
     "name": "stderr",
     "output_type": "stream",
     "text": [
      "\n",
      "\n",
      "  9%|▊         | 26/300 [00:07<01:03,  4.33it/s]\u001b[A\u001b[A\n",
      "\n",
      "  9%|▉         | 27/300 [00:07<00:59,  4.60it/s]\u001b[A\u001b[A"
     ]
    },
    {
     "name": "stdout",
     "output_type": "stream",
     "text": [
      "Accuracy loss: 43.26 | fairness loss 58.93 | Equal Opportunity Disparity = 0.21\n",
      " \n",
      "Avg Training Stats after 26 global rounds:\n",
      "Training loss: 0.60 | Training accuracy: 85.30% | Training Equal Opportunity Disparity: 0.2076\n",
      "\n",
      " | Global Training Round : 27 |\n",
      "\n",
      "Accuracy loss: 42.70 | fairness loss 60.75 | Equal Opportunity Disparity = 0.20\n",
      " \n",
      "Avg Training Stats after 27 global rounds:\n",
      "Training loss: 0.59 | Training accuracy: 85.59% | Training Equal Opportunity Disparity: 0.2049\n",
      "\n",
      " | Global Training Round : 28 |\n",
      "\n"
     ]
    },
    {
     "name": "stderr",
     "output_type": "stream",
     "text": [
      "\n",
      "\n",
      "  9%|▉         | 28/300 [00:07<00:58,  4.67it/s]\u001b[A\u001b[A\n",
      "\n",
      " 10%|▉         | 29/300 [00:07<00:56,  4.78it/s]"
     ]
    },
    {
     "name": "stdout",
     "output_type": "stream",
     "text": [
      "Accuracy loss: 42.31 | fairness loss 60.44 | Equal Opportunity Disparity = 0.19\n",
      " \n",
      "Avg Training Stats after 28 global rounds:\n",
      "Training loss: 0.58 | Training accuracy: 85.78% | Training Equal Opportunity Disparity: 0.1947\n",
      "\n",
      " | Global Training Round : 29 |\n",
      "\n",
      "Accuracy loss: 41.87 | fairness loss 61.90 | Equal Opportunity Disparity = 0.19\n",
      " \n",
      "Avg Training Stats after 29 global rounds:\n",
      "Training loss: 0.58 | Training accuracy: 85.89% | Training Equal Opportunity Disparity: 0.1864\n"
     ]
    },
    {
     "name": "stderr",
     "output_type": "stream",
     "text": [
      "\u001b[A\u001b[A\n",
      "\n",
      " 10%|█         | 30/300 [00:08<00:55,  4.90it/s]\u001b[A\u001b[A"
     ]
    },
    {
     "name": "stdout",
     "output_type": "stream",
     "text": [
      "\n",
      " | Global Training Round : 30 |\n",
      "\n",
      "Accuracy loss: 41.43 | fairness loss 63.23 | Equal Opportunity Disparity = 0.18\n",
      " \n",
      "Avg Training Stats after 30 global rounds:\n",
      "Training loss: 0.57 | Training accuracy: 86.04% | Training Equal Opportunity Disparity: 0.1830\n",
      "\n",
      " | Global Training Round : 31 |\n",
      "\n"
     ]
    },
    {
     "name": "stderr",
     "output_type": "stream",
     "text": [
      "\n",
      "\n",
      " 10%|█         | 31/300 [00:08<00:53,  4.99it/s]\u001b[A\u001b[A"
     ]
    },
    {
     "name": "stdout",
     "output_type": "stream",
     "text": [
      "Accuracy loss: 41.15 | fairness loss 63.07 | Equal Opportunity Disparity = 0.18\n",
      " \n",
      "Avg Training Stats after 31 global rounds:\n",
      "Training loss: 0.57 | Training accuracy: 86.11% | Training Equal Opportunity Disparity: 0.1756\n",
      "\n",
      " | Global Training Round : 32 |\n",
      "\n"
     ]
    },
    {
     "name": "stderr",
     "output_type": "stream",
     "text": [
      "\n",
      "\n",
      " 11%|█         | 32/300 [00:08<00:54,  4.90it/s]\u001b[A\u001b[A\n",
      "\n",
      " 11%|█         | 33/300 [00:08<00:53,  4.97it/s]\u001b[A\u001b[A"
     ]
    },
    {
     "name": "stdout",
     "output_type": "stream",
     "text": [
      "Accuracy loss: 40.63 | fairness loss 68.84 | Equal Opportunity Disparity = 0.18\n",
      " \n",
      "Avg Training Stats after 32 global rounds:\n",
      "Training loss: 0.56 | Training accuracy: 86.15% | Training Equal Opportunity Disparity: 0.1777\n",
      "\n",
      " | Global Training Round : 33 |\n",
      "\n",
      "Accuracy loss: 40.31 | fairness loss 68.91 | Equal Opportunity Disparity = 0.18\n",
      " \n",
      "Avg Training Stats after 33 global rounds:\n",
      "Training loss: 0.56 | Training accuracy: 86.11% | Training Equal Opportunity Disparity: 0.1759\n",
      "\n",
      " | Global Training Round : 34 |\n",
      "\n"
     ]
    },
    {
     "name": "stderr",
     "output_type": "stream",
     "text": [
      "\n",
      "\n",
      " 11%|█▏        | 34/300 [00:08<00:53,  4.99it/s]\u001b[A\u001b[A\n",
      "\n",
      " 12%|█▏        | 35/300 [00:09<00:52,  5.05it/s]\u001b[A\u001b[A"
     ]
    },
    {
     "name": "stdout",
     "output_type": "stream",
     "text": [
      "Accuracy loss: 40.02 | fairness loss 69.86 | Equal Opportunity Disparity = 0.17\n",
      " \n",
      "Avg Training Stats after 34 global rounds:\n",
      "Training loss: 0.55 | Training accuracy: 86.30% | Training Equal Opportunity Disparity: 0.1728\n",
      "\n",
      " | Global Training Round : 35 |\n",
      "\n",
      "Accuracy loss: 39.79 | fairness loss 71.02 | Equal Opportunity Disparity = 0.17\n",
      " \n",
      "Avg Training Stats after 35 global rounds:\n",
      "Training loss: 0.55 | Training accuracy: 86.59% | Training Equal Opportunity Disparity: 0.1694\n",
      "\n",
      " | Global Training Round : 36 |\n",
      "\n"
     ]
    },
    {
     "name": "stderr",
     "output_type": "stream",
     "text": [
      "\n",
      "\n",
      " 12%|█▏        | 36/300 [00:09<00:52,  5.03it/s]\u001b[A\u001b[A"
     ]
    },
    {
     "name": "stdout",
     "output_type": "stream",
     "text": [
      "Accuracy loss: 39.51 | fairness loss 73.63 | Equal Opportunity Disparity = 0.17\n",
      " \n",
      "Avg Training Stats after 36 global rounds:\n",
      "Training loss: 0.55 | Training accuracy: 86.74% | Training Equal Opportunity Disparity: 0.1660\n",
      "\n",
      " | Global Training Round : 37 |\n",
      "\n"
     ]
    },
    {
     "name": "stderr",
     "output_type": "stream",
     "text": [
      "\n",
      "\n",
      " 12%|█▏        | 37/300 [00:09<00:52,  4.98it/s]\u001b[A\u001b[A"
     ]
    },
    {
     "name": "stdout",
     "output_type": "stream",
     "text": [
      "Accuracy loss: 39.32 | fairness loss 71.06 | Equal Opportunity Disparity = 0.17\n",
      " \n",
      "Avg Training Stats after 37 global rounds:\n",
      "Training loss: 0.54 | Training accuracy: 86.78% | Training Equal Opportunity Disparity: 0.1681\n",
      "\n",
      " | Global Training Round : 38 |\n",
      "\n"
     ]
    },
    {
     "name": "stderr",
     "output_type": "stream",
     "text": [
      "\n",
      "\n",
      " 13%|█▎        | 38/300 [00:09<00:53,  4.92it/s]\u001b[A\u001b[A"
     ]
    },
    {
     "name": "stdout",
     "output_type": "stream",
     "text": [
      "Accuracy loss: 39.20 | fairness loss 73.03 | Equal Opportunity Disparity = 0.16\n",
      " \n",
      "Avg Training Stats after 38 global rounds:\n",
      "Training loss: 0.54 | Training accuracy: 86.93% | Training Equal Opportunity Disparity: 0.1580\n",
      "\n",
      " | Global Training Round : 39 |\n",
      "\n"
     ]
    },
    {
     "name": "stderr",
     "output_type": "stream",
     "text": [
      "\n",
      "\n",
      " 13%|█▎        | 39/300 [00:09<00:54,  4.82it/s]\u001b[A\u001b[A"
     ]
    },
    {
     "name": "stdout",
     "output_type": "stream",
     "text": [
      "Accuracy loss: 39.04 | fairness loss 75.64 | Equal Opportunity Disparity = 0.15\n",
      " \n",
      "Avg Training Stats after 39 global rounds:\n",
      "Training loss: 0.53 | Training accuracy: 86.81% | Training Equal Opportunity Disparity: 0.1540\n",
      "\n",
      " | Global Training Round : 40 |\n",
      "\n"
     ]
    },
    {
     "name": "stderr",
     "output_type": "stream",
     "text": [
      "\n",
      "\n",
      " 13%|█▎        | 40/300 [00:10<00:54,  4.79it/s]\u001b[A\u001b[A"
     ]
    },
    {
     "name": "stdout",
     "output_type": "stream",
     "text": [
      "Accuracy loss: 38.75 | fairness loss 76.31 | Equal Opportunity Disparity = 0.15\n",
      " \n",
      "Avg Training Stats after 40 global rounds:\n",
      "Training loss: 0.53 | Training accuracy: 86.81% | Training Equal Opportunity Disparity: 0.1521\n",
      "\n",
      " | Global Training Round : 41 |\n",
      "\n"
     ]
    },
    {
     "name": "stderr",
     "output_type": "stream",
     "text": [
      "\n",
      "\n",
      " 14%|█▎        | 41/300 [00:10<00:55,  4.67it/s]\u001b[A\u001b[A"
     ]
    },
    {
     "name": "stdout",
     "output_type": "stream",
     "text": [
      "Accuracy loss: 38.58 | fairness loss 79.88 | Equal Opportunity Disparity = 0.15\n",
      " \n",
      "Avg Training Stats after 41 global rounds:\n",
      "Training loss: 0.53 | Training accuracy: 86.85% | Training Equal Opportunity Disparity: 0.1509\n",
      "\n",
      " | Global Training Round : 42 |\n",
      "\n"
     ]
    },
    {
     "name": "stderr",
     "output_type": "stream",
     "text": [
      "\n",
      "\n",
      " 14%|█▍        | 42/300 [00:10<00:55,  4.68it/s]\u001b[A\u001b[A"
     ]
    },
    {
     "name": "stdout",
     "output_type": "stream",
     "text": [
      "Accuracy loss: 38.43 | fairness loss 83.21 | Equal Opportunity Disparity = 0.15\n",
      " \n",
      "Avg Training Stats after 42 global rounds:\n",
      "Training loss: 0.52 | Training accuracy: 86.85% | Training Equal Opportunity Disparity: 0.1490\n",
      "\n",
      " | Global Training Round : 43 |\n",
      "\n"
     ]
    },
    {
     "name": "stderr",
     "output_type": "stream",
     "text": [
      "\n",
      "\n",
      " 14%|█▍        | 43/300 [00:10<00:55,  4.66it/s]\u001b[A\u001b[A"
     ]
    },
    {
     "name": "stdout",
     "output_type": "stream",
     "text": [
      "Accuracy loss: 38.39 | fairness loss 80.86 | Equal Opportunity Disparity = 0.15\n",
      " \n",
      "Avg Training Stats after 43 global rounds:\n",
      "Training loss: 0.52 | Training accuracy: 86.81% | Training Equal Opportunity Disparity: 0.1462\n",
      "\n",
      " | Global Training Round : 44 |\n",
      "\n"
     ]
    },
    {
     "name": "stderr",
     "output_type": "stream",
     "text": [
      "\n",
      "\n",
      " 15%|█▍        | 44/300 [00:11<00:56,  4.54it/s]\u001b[A\u001b[A\n",
      "\n",
      " 15%|█▌        | 45/300 [00:11<00:54,  4.70it/s]\u001b[A\u001b[A"
     ]
    },
    {
     "name": "stdout",
     "output_type": "stream",
     "text": [
      "Accuracy loss: 38.35 | fairness loss 79.35 | Equal Opportunity Disparity = 0.14\n",
      " \n",
      "Avg Training Stats after 44 global rounds:\n",
      "Training loss: 0.52 | Training accuracy: 86.89% | Training Equal Opportunity Disparity: 0.1444\n",
      "\n",
      " | Global Training Round : 45 |\n",
      "\n",
      "Accuracy loss: 38.34 | fairness loss 81.95 | Equal Opportunity Disparity = 0.14\n",
      " \n",
      "Avg Training Stats after 45 global rounds:\n",
      "Training loss: 0.51 | Training accuracy: 86.74% | Training Equal Opportunity Disparity: 0.1444\n",
      "\n",
      " | Global Training Round : 46 |\n",
      "\n"
     ]
    },
    {
     "name": "stderr",
     "output_type": "stream",
     "text": [
      "\n",
      "\n",
      " 15%|█▌        | 46/300 [00:11<00:54,  4.67it/s]\u001b[A\u001b[A"
     ]
    },
    {
     "name": "stdout",
     "output_type": "stream",
     "text": [
      "Accuracy loss: 38.22 | fairness loss 82.59 | Equal Opportunity Disparity = 0.14\n",
      " \n",
      "Avg Training Stats after 46 global rounds:\n",
      "Training loss: 0.51 | Training accuracy: 86.67% | Training Equal Opportunity Disparity: 0.1410\n",
      "\n",
      " | Global Training Round : 47 |\n",
      "\n",
      "Accuracy loss: 38.05 | fairness loss 84.49 | Equal Opportunity Disparity = 0.14\n"
     ]
    },
    {
     "name": "stderr",
     "output_type": "stream",
     "text": [
      "\n",
      "\n",
      " 16%|█▌        | 47/300 [00:11<00:53,  4.75it/s]\u001b[A\u001b[A"
     ]
    },
    {
     "name": "stdout",
     "output_type": "stream",
     "text": [
      " \n",
      "Avg Training Stats after 47 global rounds:\n",
      "Training loss: 0.51 | Training accuracy: 86.78% | Training Equal Opportunity Disparity: 0.1376\n",
      "\n",
      " | Global Training Round : 48 |\n",
      "\n"
     ]
    },
    {
     "name": "stderr",
     "output_type": "stream",
     "text": [
      "\n",
      "\n",
      " 16%|█▌        | 48/300 [00:11<00:53,  4.72it/s]\u001b[A\u001b[A"
     ]
    },
    {
     "name": "stdout",
     "output_type": "stream",
     "text": [
      "Accuracy loss: 38.08 | fairness loss 84.44 | Equal Opportunity Disparity = 0.14\n",
      " \n",
      "Avg Training Stats after 48 global rounds:\n",
      "Training loss: 0.51 | Training accuracy: 86.74% | Training Equal Opportunity Disparity: 0.1370\n",
      "\n",
      " | Global Training Round : 49 |\n",
      "\n"
     ]
    },
    {
     "name": "stderr",
     "output_type": "stream",
     "text": [
      "\n",
      "\n",
      " 16%|█▋        | 49/300 [00:12<00:52,  4.77it/s]\u001b[A\u001b[A\n",
      "\n",
      " 17%|█▋        | 50/300 [00:12<00:50,  4.97it/s]\u001b[A\u001b[A"
     ]
    },
    {
     "name": "stdout",
     "output_type": "stream",
     "text": [
      "Accuracy loss: 37.99 | fairness loss 84.61 | Equal Opportunity Disparity = 0.13\n",
      " \n",
      "Avg Training Stats after 49 global rounds:\n",
      "Training loss: 0.50 | Training accuracy: 86.74% | Training Equal Opportunity Disparity: 0.1342\n",
      "\n",
      " | Global Training Round : 50 |\n",
      "\n",
      "Accuracy loss: 37.87 | fairness loss 88.53 | Equal Opportunity Disparity = 0.13\n",
      " \n",
      "Avg Training Stats after 50 global rounds:\n",
      "Training loss: 0.50 | Training accuracy: 86.78% | Training Equal Opportunity Disparity: 0.1330\n",
      "\n",
      " | Global Training Round : 51 |\n",
      "\n"
     ]
    },
    {
     "name": "stderr",
     "output_type": "stream",
     "text": [
      "\n",
      "\n",
      " 17%|█▋        | 51/300 [00:12<00:48,  5.10it/s]\u001b[A\u001b[A\n",
      "\n",
      " 17%|█▋        | 52/300 [00:12<00:47,  5.18it/s]\u001b[A\u001b[A"
     ]
    },
    {
     "name": "stdout",
     "output_type": "stream",
     "text": [
      "Accuracy loss: 37.79 | fairness loss 89.53 | Equal Opportunity Disparity = 0.13\n",
      " \n",
      "Avg Training Stats after 51 global rounds:\n",
      "Training loss: 0.50 | Training accuracy: 86.70% | Training Equal Opportunity Disparity: 0.1330\n",
      "\n",
      " | Global Training Round : 52 |\n",
      "\n",
      "Accuracy loss: 37.74 | fairness loss 90.98 | Equal Opportunity Disparity = 0.13\n",
      " \n",
      "Avg Training Stats after 52 global rounds:\n",
      "Training loss: 0.49 | Training accuracy: 86.59% | Training Equal Opportunity Disparity: 0.1311\n",
      "\n",
      " | Global Training Round : 53 |\n",
      "\n"
     ]
    },
    {
     "name": "stderr",
     "output_type": "stream",
     "text": [
      "\n",
      "\n",
      " 18%|█▊        | 53/300 [00:12<00:50,  4.88it/s]\u001b[A\u001b[A"
     ]
    },
    {
     "name": "stdout",
     "output_type": "stream",
     "text": [
      "Accuracy loss: 37.76 | fairness loss 90.80 | Equal Opportunity Disparity = 0.13\n",
      " \n",
      "Avg Training Stats after 53 global rounds:\n",
      "Training loss: 0.49 | Training accuracy: 86.48% | Training Equal Opportunity Disparity: 0.1305\n",
      "\n",
      " | Global Training Round : 54 |\n",
      "\n"
     ]
    },
    {
     "name": "stderr",
     "output_type": "stream",
     "text": [
      "\n",
      "\n",
      " 18%|█▊        | 54/300 [00:13<00:51,  4.79it/s]\u001b[A\u001b[A"
     ]
    },
    {
     "name": "stdout",
     "output_type": "stream",
     "text": [
      "Accuracy loss: 37.81 | fairness loss 92.30 | Equal Opportunity Disparity = 0.12\n",
      " \n",
      "Avg Training Stats after 54 global rounds:\n",
      "Training loss: 0.49 | Training accuracy: 86.44% | Training Equal Opportunity Disparity: 0.1243\n",
      "\n",
      " | Global Training Round : 55 |\n",
      "\n"
     ]
    },
    {
     "name": "stderr",
     "output_type": "stream",
     "text": [
      "\n",
      "\n",
      " 18%|█▊        | 55/300 [00:13<00:51,  4.73it/s]\u001b[A\u001b[A"
     ]
    },
    {
     "name": "stdout",
     "output_type": "stream",
     "text": [
      "Accuracy loss: 37.70 | fairness loss 92.32 | Equal Opportunity Disparity = 0.12\n",
      " \n",
      "Avg Training Stats after 55 global rounds:\n",
      "Training loss: 0.49 | Training accuracy: 86.52% | Training Equal Opportunity Disparity: 0.1225\n",
      "\n",
      " | Global Training Round : 56 |\n",
      "\n"
     ]
    },
    {
     "name": "stderr",
     "output_type": "stream",
     "text": [
      "\n",
      "\n",
      " 19%|█▊        | 56/300 [00:13<00:51,  4.77it/s]\u001b[A\u001b[A\n",
      "\n",
      " 19%|█▉        | 57/300 [00:13<00:48,  4.98it/s]\u001b[A\u001b[A"
     ]
    },
    {
     "name": "stdout",
     "output_type": "stream",
     "text": [
      "Accuracy loss: 37.60 | fairness loss 94.31 | Equal Opportunity Disparity = 0.12\n",
      " \n",
      "Avg Training Stats after 56 global rounds:\n",
      "Training loss: 0.49 | Training accuracy: 86.56% | Training Equal Opportunity Disparity: 0.1225\n",
      "\n",
      " | Global Training Round : 57 |\n",
      "\n",
      "Accuracy loss: 37.59 | fairness loss 97.17 | Equal Opportunity Disparity = 0.12\n",
      " \n",
      "Avg Training Stats after 57 global rounds:\n",
      "Training loss: 0.48 | Training accuracy: 86.30% | Training Equal Opportunity Disparity: 0.1206\n",
      "\n",
      " | Global Training Round : 58 |\n",
      "\n"
     ]
    },
    {
     "name": "stderr",
     "output_type": "stream",
     "text": [
      "\n",
      "\n",
      " 19%|█▉        | 58/300 [00:13<00:50,  4.76it/s]\u001b[A\u001b[A"
     ]
    },
    {
     "name": "stdout",
     "output_type": "stream",
     "text": [
      "Accuracy loss: 37.50 | fairness loss 96.94 | Equal Opportunity Disparity = 0.12\n",
      " \n",
      "Avg Training Stats after 58 global rounds:\n",
      "Training loss: 0.48 | Training accuracy: 86.44% | Training Equal Opportunity Disparity: 0.1206\n",
      "\n",
      " | Global Training Round : 59 |\n",
      "\n"
     ]
    },
    {
     "name": "stderr",
     "output_type": "stream",
     "text": [
      "\n",
      "\n",
      " 20%|█▉        | 59/300 [00:14<00:52,  4.59it/s]\u001b[A\u001b[A\n",
      "\n",
      " 20%|██        | 60/300 [00:14<00:49,  4.82it/s]\u001b[A\u001b[A"
     ]
    },
    {
     "name": "stdout",
     "output_type": "stream",
     "text": [
      "Accuracy loss: 37.55 | fairness loss 95.37 | Equal Opportunity Disparity = 0.12\n",
      " \n",
      "Avg Training Stats after 59 global rounds:\n",
      "Training loss: 0.48 | Training accuracy: 86.26% | Training Equal Opportunity Disparity: 0.1187\n",
      "\n",
      " | Global Training Round : 60 |\n",
      "\n",
      "Accuracy loss: 37.53 | fairness loss 95.89 | Equal Opportunity Disparity = 0.12\n",
      " \n",
      "Avg Training Stats after 60 global rounds:\n",
      "Training loss: 0.48 | Training accuracy: 86.26% | Training Equal Opportunity Disparity: 0.1194\n",
      "\n",
      " | Global Training Round : 61 |\n",
      "\n"
     ]
    },
    {
     "name": "stderr",
     "output_type": "stream",
     "text": [
      "\n",
      "\n",
      " 20%|██        | 61/300 [00:14<00:47,  5.00it/s]\u001b[A\u001b[A"
     ]
    },
    {
     "name": "stdout",
     "output_type": "stream",
     "text": [
      "Accuracy loss: 37.52 | fairness loss 96.45 | Equal Opportunity Disparity = 0.12\n",
      " \n",
      "Avg Training Stats after 61 global rounds:\n",
      "Training loss: 0.48 | Training accuracy: 86.30% | Training Equal Opportunity Disparity: 0.1160\n",
      "\n",
      " | Global Training Round : 62 |\n",
      "\n"
     ]
    },
    {
     "name": "stderr",
     "output_type": "stream",
     "text": [
      "\n",
      "\n",
      " 21%|██        | 62/300 [00:14<00:49,  4.76it/s]\u001b[A\u001b[A\n",
      "\n",
      " 21%|██        | 63/300 [00:14<00:48,  4.90it/s]\u001b[A\u001b[A"
     ]
    },
    {
     "name": "stdout",
     "output_type": "stream",
     "text": [
      "Accuracy loss: 37.47 | fairness loss 97.53 | Equal Opportunity Disparity = 0.12\n",
      " \n",
      "Avg Training Stats after 62 global rounds:\n",
      "Training loss: 0.47 | Training accuracy: 86.19% | Training Equal Opportunity Disparity: 0.1160\n",
      "\n",
      " | Global Training Round : 63 |\n",
      "\n",
      "Accuracy loss: 37.40 | fairness loss 101.69 | Equal Opportunity Disparity = 0.12\n",
      " \n",
      "Avg Training Stats after 63 global rounds:\n",
      "Training loss: 0.47 | Training accuracy: 86.07% | Training Equal Opportunity Disparity: 0.1187\n",
      "\n",
      " | Global Training Round : 64 |\n",
      "\n"
     ]
    },
    {
     "name": "stderr",
     "output_type": "stream",
     "text": [
      "\n",
      "\n",
      " 21%|██▏       | 64/300 [00:15<00:47,  4.97it/s]\u001b[A\u001b[A\n",
      "\n",
      " 22%|██▏       | 65/300 [00:15<00:46,  5.09it/s]\u001b[A\u001b[A"
     ]
    },
    {
     "name": "stdout",
     "output_type": "stream",
     "text": [
      "Accuracy loss: 37.42 | fairness loss 100.94 | Equal Opportunity Disparity = 0.11\n",
      " \n",
      "Avg Training Stats after 64 global rounds:\n",
      "Training loss: 0.47 | Training accuracy: 86.15% | Training Equal Opportunity Disparity: 0.1132\n",
      "\n",
      " | Global Training Round : 65 |\n",
      "\n",
      "Accuracy loss: 37.37 | fairness loss 103.06 | Equal Opportunity Disparity = 0.11\n",
      " \n",
      "Avg Training Stats after 65 global rounds:\n",
      "Training loss: 0.47 | Training accuracy: 86.15% | Training Equal Opportunity Disparity: 0.1120\n",
      "\n",
      " | Global Training Round : 66 |\n",
      "\n"
     ]
    },
    {
     "name": "stderr",
     "output_type": "stream",
     "text": [
      "\n",
      "\n",
      " 22%|██▏       | 66/300 [00:15<00:46,  5.01it/s]\u001b[A\u001b[A\n",
      "\n",
      " 22%|██▏       | 67/300 [00:15<00:45,  5.14it/s]\u001b[A\u001b[A"
     ]
    },
    {
     "name": "stdout",
     "output_type": "stream",
     "text": [
      "Accuracy loss: 37.42 | fairness loss 106.76 | Equal Opportunity Disparity = 0.11\n",
      " \n",
      "Avg Training Stats after 66 global rounds:\n",
      "Training loss: 0.47 | Training accuracy: 86.11% | Training Equal Opportunity Disparity: 0.1092\n",
      "\n",
      " | Global Training Round : 67 |\n",
      "\n",
      "Accuracy loss: 37.45 | fairness loss 100.59 | Equal Opportunity Disparity = 0.11\n",
      " \n",
      "Avg Training Stats after 67 global rounds:\n",
      "Training loss: 0.47 | Training accuracy: 86.19% | Training Equal Opportunity Disparity: 0.1092\n",
      "\n",
      " | Global Training Round : 68 |\n",
      "\n"
     ]
    },
    {
     "name": "stderr",
     "output_type": "stream",
     "text": [
      "\n",
      "\n",
      " 23%|██▎       | 68/300 [00:15<00:46,  5.01it/s]\u001b[A\u001b[A"
     ]
    },
    {
     "name": "stdout",
     "output_type": "stream",
     "text": [
      "Accuracy loss: 37.44 | fairness loss 102.29 | Equal Opportunity Disparity = 0.11\n",
      " \n",
      "Avg Training Stats after 68 global rounds:\n",
      "Training loss: 0.46 | Training accuracy: 86.11% | Training Equal Opportunity Disparity: 0.1079\n",
      "\n",
      " | Global Training Round : 69 |\n",
      "\n"
     ]
    },
    {
     "name": "stderr",
     "output_type": "stream",
     "text": [
      "\n",
      "\n",
      " 23%|██▎       | 69/300 [00:16<00:48,  4.77it/s]\u001b[A\u001b[A\n",
      "\n",
      " 23%|██▎       | 70/300 [00:16<00:46,  4.90it/s]\u001b[A\u001b[A"
     ]
    },
    {
     "name": "stdout",
     "output_type": "stream",
     "text": [
      "Accuracy loss: 37.53 | fairness loss 105.61 | Equal Opportunity Disparity = 0.11\n",
      " \n",
      "Avg Training Stats after 69 global rounds:\n",
      "Training loss: 0.46 | Training accuracy: 86.07% | Training Equal Opportunity Disparity: 0.1079\n",
      "\n",
      " | Global Training Round : 70 |\n",
      "\n",
      "Accuracy loss: 37.54 | fairness loss 106.56 | Equal Opportunity Disparity = 0.10\n",
      " \n",
      "Avg Training Stats after 70 global rounds:\n",
      "Training loss: 0.46 | Training accuracy: 86.04% | Training Equal Opportunity Disparity: 0.1039\n",
      "\n",
      " | Global Training Round : 71 |\n",
      "\n"
     ]
    },
    {
     "name": "stderr",
     "output_type": "stream",
     "text": [
      "\n",
      "\n",
      " 24%|██▎       | 71/300 [00:16<00:49,  4.64it/s]\u001b[A\u001b[A"
     ]
    },
    {
     "name": "stdout",
     "output_type": "stream",
     "text": [
      "Accuracy loss: 37.65 | fairness loss 105.96 | Equal Opportunity Disparity = 0.11\n",
      " \n",
      "Avg Training Stats after 71 global rounds:\n",
      "Training loss: 0.46 | Training accuracy: 86.04% | Training Equal Opportunity Disparity: 0.1067\n",
      "\n",
      " | Global Training Round : 72 |\n",
      "\n"
     ]
    },
    {
     "name": "stderr",
     "output_type": "stream",
     "text": [
      "\n",
      "\n",
      " 24%|██▍       | 72/300 [00:16<00:49,  4.61it/s]\u001b[A\u001b[A\n",
      "\n",
      " 24%|██▍       | 73/300 [00:17<00:47,  4.76it/s]\u001b[A\u001b[A"
     ]
    },
    {
     "name": "stdout",
     "output_type": "stream",
     "text": [
      "Accuracy loss: 37.65 | fairness loss 104.30 | Equal Opportunity Disparity = 0.10\n",
      " \n",
      "Avg Training Stats after 72 global rounds:\n",
      "Training loss: 0.46 | Training accuracy: 86.04% | Training Equal Opportunity Disparity: 0.1033\n",
      "\n",
      " | Global Training Round : 73 |\n",
      "\n",
      "Accuracy loss: 37.69 | fairness loss 102.84 | Equal Opportunity Disparity = 0.10\n",
      " \n",
      "Avg Training Stats after 73 global rounds:\n",
      "Training loss: 0.46 | Training accuracy: 85.96% | Training Equal Opportunity Disparity: 0.1015\n",
      "\n",
      " | Global Training Round : 74 |\n",
      "\n"
     ]
    },
    {
     "name": "stderr",
     "output_type": "stream",
     "text": [
      "\n",
      "\n",
      " 25%|██▍       | 74/300 [00:17<00:46,  4.90it/s]\u001b[A\u001b[A\n",
      "\n",
      " 25%|██▌       | 75/300 [00:17<00:45,  4.99it/s]\u001b[A\u001b[A"
     ]
    },
    {
     "name": "stdout",
     "output_type": "stream",
     "text": [
      "Accuracy loss: 37.58 | fairness loss 105.53 | Equal Opportunity Disparity = 0.10\n",
      " \n",
      "Avg Training Stats after 74 global rounds:\n",
      "Training loss: 0.46 | Training accuracy: 86.04% | Training Equal Opportunity Disparity: 0.1021\n",
      "\n",
      " | Global Training Round : 75 |\n",
      "\n",
      "Accuracy loss: 37.58 | fairness loss 109.48 | Equal Opportunity Disparity = 0.10\n",
      " \n",
      "Avg Training Stats after 75 global rounds:\n",
      "Training loss: 0.45 | Training accuracy: 86.07% | Training Equal Opportunity Disparity: 0.1021\n",
      "\n",
      " | Global Training Round : 76 |\n",
      "\n"
     ]
    },
    {
     "name": "stderr",
     "output_type": "stream",
     "text": [
      "\n",
      "\n",
      " 25%|██▌       | 76/300 [00:17<00:44,  5.05it/s]\u001b[A\u001b[A"
     ]
    },
    {
     "name": "stdout",
     "output_type": "stream",
     "text": [
      "Accuracy loss: 37.59 | fairness loss 108.49 | Equal Opportunity Disparity = 0.10\n",
      " \n",
      "Avg Training Stats after 76 global rounds:\n",
      "Training loss: 0.45 | Training accuracy: 86.07% | Training Equal Opportunity Disparity: 0.0993\n",
      "\n",
      " | Global Training Round : 77 |\n",
      "\n"
     ]
    },
    {
     "name": "stderr",
     "output_type": "stream",
     "text": [
      "\n",
      "\n",
      " 26%|██▌       | 77/300 [00:17<00:44,  5.02it/s]\u001b[A\u001b[A"
     ]
    },
    {
     "name": "stdout",
     "output_type": "stream",
     "text": [
      "Accuracy loss: 37.68 | fairness loss 106.73 | Equal Opportunity Disparity = 0.10\n",
      " \n",
      "Avg Training Stats after 77 global rounds:\n",
      "Training loss: 0.45 | Training accuracy: 86.11% | Training Equal Opportunity Disparity: 0.0987\n",
      "\n",
      " | Global Training Round : 78 |\n",
      "\n"
     ]
    },
    {
     "name": "stderr",
     "output_type": "stream",
     "text": [
      "\n",
      "\n",
      " 26%|██▌       | 78/300 [00:18<00:45,  4.89it/s]\u001b[A\u001b[A"
     ]
    },
    {
     "name": "stdout",
     "output_type": "stream",
     "text": [
      "Accuracy loss: 37.68 | fairness loss 107.66 | Equal Opportunity Disparity = 0.10\n",
      " \n",
      "Avg Training Stats after 78 global rounds:\n",
      "Training loss: 0.45 | Training accuracy: 86.04% | Training Equal Opportunity Disparity: 0.0987\n",
      "\n",
      " | Global Training Round : 79 |\n",
      "\n"
     ]
    },
    {
     "name": "stderr",
     "output_type": "stream",
     "text": [
      "\n",
      "\n",
      " 26%|██▋       | 79/300 [00:18<00:58,  3.75it/s]\u001b[A\u001b[A"
     ]
    },
    {
     "name": "stdout",
     "output_type": "stream",
     "text": [
      "Accuracy loss: 37.72 | fairness loss 107.66 | Equal Opportunity Disparity = 0.10\n",
      " \n",
      "Avg Training Stats after 79 global rounds:\n",
      "Training loss: 0.45 | Training accuracy: 86.00% | Training Equal Opportunity Disparity: 0.0987\n",
      "\n",
      " | Global Training Round : 80 |\n",
      "\n"
     ]
    },
    {
     "name": "stderr",
     "output_type": "stream",
     "text": [
      "\n",
      "\n",
      " 27%|██▋       | 80/300 [00:18<01:03,  3.49it/s]\u001b[A\u001b[A\n",
      "\n",
      " 27%|██▋       | 81/300 [00:18<00:56,  3.87it/s]\u001b[A\u001b[A"
     ]
    },
    {
     "name": "stdout",
     "output_type": "stream",
     "text": [
      "Accuracy loss: 37.78 | fairness loss 109.70 | Equal Opportunity Disparity = 0.10\n",
      " \n",
      "Avg Training Stats after 80 global rounds:\n",
      "Training loss: 0.45 | Training accuracy: 86.11% | Training Equal Opportunity Disparity: 0.0987\n",
      "\n",
      " | Global Training Round : 81 |\n",
      "\n",
      "Accuracy loss: 37.78 | fairness loss 108.42 | Equal Opportunity Disparity = 0.10\n",
      " \n",
      "Avg Training Stats after 81 global rounds:\n",
      "Training loss: 0.45 | Training accuracy: 86.04% | Training Equal Opportunity Disparity: 0.0974\n",
      "\n",
      " | Global Training Round : 82 |\n",
      "\n"
     ]
    },
    {
     "name": "stderr",
     "output_type": "stream",
     "text": [
      "\n",
      "\n",
      " 27%|██▋       | 82/300 [00:19<00:52,  4.15it/s]\u001b[A\u001b[A\n",
      "\n",
      " 28%|██▊       | 83/300 [00:19<00:48,  4.46it/s]\u001b[A\u001b[A"
     ]
    },
    {
     "name": "stdout",
     "output_type": "stream",
     "text": [
      "Accuracy loss: 37.90 | fairness loss 106.07 | Equal Opportunity Disparity = 0.10\n",
      " \n",
      "Avg Training Stats after 82 global rounds:\n",
      "Training loss: 0.45 | Training accuracy: 86.11% | Training Equal Opportunity Disparity: 0.0987\n",
      "\n",
      " | Global Training Round : 83 |\n",
      "\n",
      "Accuracy loss: 37.96 | fairness loss 110.20 | Equal Opportunity Disparity = 0.10\n",
      " \n",
      "Avg Training Stats after 83 global rounds:\n",
      "Training loss: 0.45 | Training accuracy: 86.04% | Training Equal Opportunity Disparity: 0.0953\n",
      "\n",
      " | Global Training Round : 84 |\n",
      "\n"
     ]
    },
    {
     "name": "stderr",
     "output_type": "stream",
     "text": [
      "\n",
      "\n",
      " 28%|██▊       | 84/300 [00:19<00:46,  4.65it/s]\u001b[A\u001b[A\n",
      "\n",
      " 28%|██▊       | 85/300 [00:19<00:44,  4.86it/s]\u001b[A\u001b[A"
     ]
    },
    {
     "name": "stdout",
     "output_type": "stream",
     "text": [
      "Accuracy loss: 37.92 | fairness loss 109.19 | Equal Opportunity Disparity = 0.10\n",
      " \n",
      "Avg Training Stats after 84 global rounds:\n",
      "Training loss: 0.44 | Training accuracy: 85.93% | Training Equal Opportunity Disparity: 0.0968\n",
      "\n",
      " | Global Training Round : 85 |\n",
      "\n",
      "Accuracy loss: 37.80 | fairness loss 115.72 | Equal Opportunity Disparity = 0.10\n",
      " \n",
      "Avg Training Stats after 85 global rounds:\n",
      "Training loss: 0.44 | Training accuracy: 85.96% | Training Equal Opportunity Disparity: 0.0968\n",
      "\n",
      " | Global Training Round : 86 |\n",
      "\n"
     ]
    },
    {
     "name": "stderr",
     "output_type": "stream",
     "text": [
      "\n",
      "\n",
      " 29%|██▊       | 86/300 [00:19<00:43,  4.92it/s]\u001b[A\u001b[A\n",
      "\n",
      " 29%|██▉       | 87/300 [00:20<00:42,  4.99it/s]\u001b[A\u001b[A"
     ]
    },
    {
     "name": "stdout",
     "output_type": "stream",
     "text": [
      "Accuracy loss: 37.84 | fairness loss 112.93 | Equal Opportunity Disparity = 0.10\n",
      " \n",
      "Avg Training Stats after 86 global rounds:\n",
      "Training loss: 0.44 | Training accuracy: 86.04% | Training Equal Opportunity Disparity: 0.0968\n",
      "\n",
      " | Global Training Round : 87 |\n",
      "\n",
      "Accuracy loss: 37.85 | fairness loss 119.42 | Equal Opportunity Disparity = 0.10\n",
      " \n",
      "Avg Training Stats after 87 global rounds:\n",
      "Training loss: 0.44 | Training accuracy: 86.04% | Training Equal Opportunity Disparity: 0.0968\n",
      "\n",
      " | Global Training Round : 88 |\n",
      "\n"
     ]
    },
    {
     "name": "stderr",
     "output_type": "stream",
     "text": [
      "\n",
      "\n",
      " 29%|██▉       | 88/300 [00:20<00:42,  5.00it/s]\u001b[A\u001b[A"
     ]
    },
    {
     "name": "stdout",
     "output_type": "stream",
     "text": [
      "Accuracy loss: 37.84 | fairness loss 114.40 | Equal Opportunity Disparity = 0.10\n",
      " \n",
      "Avg Training Stats after 88 global rounds:\n",
      "Training loss: 0.44 | Training accuracy: 86.07% | Training Equal Opportunity Disparity: 0.0962\n",
      "\n",
      " | Global Training Round : 89 |\n",
      "\n",
      "Accuracy loss: 37.91 | fairness loss 112.36 | Equal Opportunity Disparity = 0.10\n"
     ]
    },
    {
     "name": "stderr",
     "output_type": "stream",
     "text": [
      "\n",
      "\n",
      " 30%|██▉       | 89/300 [00:20<00:42,  4.99it/s]\u001b[A\u001b[A\n",
      "\n",
      " 30%|███       | 90/300 [00:20<00:41,  5.05it/s]\u001b[A\u001b[A"
     ]
    },
    {
     "name": "stdout",
     "output_type": "stream",
     "text": [
      " \n",
      "Avg Training Stats after 89 global rounds:\n",
      "Training loss: 0.44 | Training accuracy: 86.04% | Training Equal Opportunity Disparity: 0.0962\n",
      "\n",
      " | Global Training Round : 90 |\n",
      "\n",
      "Accuracy loss: 38.01 | fairness loss 116.07 | Equal Opportunity Disparity = 0.09\n",
      " \n",
      "Avg Training Stats after 90 global rounds:\n",
      "Training loss: 0.44 | Training accuracy: 86.07% | Training Equal Opportunity Disparity: 0.0950\n",
      "\n",
      " | Global Training Round : 91 |\n",
      "\n"
     ]
    },
    {
     "name": "stderr",
     "output_type": "stream",
     "text": [
      "\n",
      "\n",
      " 30%|███       | 91/300 [00:20<00:40,  5.17it/s]\u001b[A\u001b[A\n",
      "\n",
      " 31%|███       | 92/300 [00:21<00:40,  5.17it/s]\u001b[A\u001b[A"
     ]
    },
    {
     "name": "stdout",
     "output_type": "stream",
     "text": [
      "Accuracy loss: 38.10 | fairness loss 114.90 | Equal Opportunity Disparity = 0.09\n",
      " \n",
      "Avg Training Stats after 91 global rounds:\n",
      "Training loss: 0.44 | Training accuracy: 86.04% | Training Equal Opportunity Disparity: 0.0900\n",
      "\n",
      " | Global Training Round : 92 |\n",
      "\n",
      "Accuracy loss: 38.17 | fairness loss 111.51 | Equal Opportunity Disparity = 0.09\n",
      " \n",
      "Avg Training Stats after 92 global rounds:\n",
      "Training loss: 0.44 | Training accuracy: 86.07% | Training Equal Opportunity Disparity: 0.0860\n",
      "\n",
      " | Global Training Round : 93 |\n",
      "\n"
     ]
    },
    {
     "name": "stderr",
     "output_type": "stream",
     "text": [
      "\n",
      "\n",
      " 31%|███       | 93/300 [00:21<00:39,  5.26it/s]\u001b[A\u001b[A\n",
      "\n",
      " 31%|███▏      | 94/300 [00:21<00:39,  5.24it/s]\u001b[A\u001b[A"
     ]
    },
    {
     "name": "stdout",
     "output_type": "stream",
     "text": [
      "Accuracy loss: 38.16 | fairness loss 112.02 | Equal Opportunity Disparity = 0.09\n",
      " \n",
      "Avg Training Stats after 93 global rounds:\n",
      "Training loss: 0.44 | Training accuracy: 86.04% | Training Equal Opportunity Disparity: 0.0867\n",
      "\n",
      " | Global Training Round : 94 |\n",
      "\n",
      "Accuracy loss: 38.21 | fairness loss 114.92 | Equal Opportunity Disparity = 0.08\n",
      " \n",
      "Avg Training Stats after 94 global rounds:\n",
      "Training loss: 0.43 | Training accuracy: 86.07% | Training Equal Opportunity Disparity: 0.0839\n",
      "\n",
      " | Global Training Round : 95 |\n",
      "\n"
     ]
    },
    {
     "name": "stderr",
     "output_type": "stream",
     "text": [
      "\n",
      "\n",
      " 32%|███▏      | 95/300 [00:21<00:38,  5.27it/s]\u001b[A\u001b[A\n",
      "\n",
      " 32%|███▏      | 96/300 [00:21<00:39,  5.23it/s]\u001b[A\u001b[A"
     ]
    },
    {
     "name": "stdout",
     "output_type": "stream",
     "text": [
      "Accuracy loss: 38.21 | fairness loss 113.08 | Equal Opportunity Disparity = 0.08\n",
      " \n",
      "Avg Training Stats after 95 global rounds:\n",
      "Training loss: 0.43 | Training accuracy: 86.07% | Training Equal Opportunity Disparity: 0.0833\n",
      "\n",
      " | Global Training Round : 96 |\n",
      "\n",
      "Accuracy loss: 38.16 | fairness loss 115.75 | Equal Opportunity Disparity = 0.09\n",
      " \n",
      "Avg Training Stats after 96 global rounds:\n",
      "Training loss: 0.43 | Training accuracy: 86.00% | Training Equal Opportunity Disparity: 0.0873\n",
      "\n",
      " | Global Training Round : 97 |\n",
      "\n"
     ]
    },
    {
     "name": "stderr",
     "output_type": "stream",
     "text": [
      "\n",
      "\n",
      " 32%|███▏      | 97/300 [00:22<00:38,  5.27it/s]\u001b[A\u001b[A\n",
      "\n",
      " 33%|███▎      | 98/300 [00:22<00:38,  5.25it/s]\u001b[A\u001b[A"
     ]
    },
    {
     "name": "stdout",
     "output_type": "stream",
     "text": [
      "Accuracy loss: 38.17 | fairness loss 113.38 | Equal Opportunity Disparity = 0.09\n",
      " \n",
      "Avg Training Stats after 97 global rounds:\n",
      "Training loss: 0.43 | Training accuracy: 86.04% | Training Equal Opportunity Disparity: 0.0873\n",
      "\n",
      " | Global Training Round : 98 |\n",
      "\n",
      "Accuracy loss: 38.22 | fairness loss 116.49 | Equal Opportunity Disparity = 0.09\n",
      " \n",
      "Avg Training Stats after 98 global rounds:\n",
      "Training loss: 0.43 | Training accuracy: 85.96% | Training Equal Opportunity Disparity: 0.0860\n",
      "\n",
      " | Global Training Round : 99 |\n",
      "\n"
     ]
    },
    {
     "name": "stderr",
     "output_type": "stream",
     "text": [
      "\n",
      "\n",
      " 33%|███▎      | 99/300 [00:22<00:38,  5.19it/s]\u001b[A\u001b[A"
     ]
    },
    {
     "name": "stdout",
     "output_type": "stream",
     "text": [
      "Accuracy loss: 38.37 | fairness loss 114.25 | Equal Opportunity Disparity = 0.08\n",
      " \n",
      "Avg Training Stats after 99 global rounds:\n",
      "Training loss: 0.43 | Training accuracy: 86.00% | Training Equal Opportunity Disparity: 0.0826\n",
      "\n",
      " | Global Training Round : 100 |\n",
      "\n"
     ]
    },
    {
     "name": "stderr",
     "output_type": "stream",
     "text": [
      "\n",
      "\n",
      " 33%|███▎      | 100/300 [00:22<00:44,  4.49it/s]\u001b[A\u001b[A"
     ]
    },
    {
     "name": "stdout",
     "output_type": "stream",
     "text": [
      "Accuracy loss: 38.34 | fairness loss 115.55 | Equal Opportunity Disparity = 0.08\n",
      " \n",
      "Avg Training Stats after 100 global rounds:\n",
      "Training loss: 0.43 | Training accuracy: 85.93% | Training Equal Opportunity Disparity: 0.0808\n",
      "\n",
      " | Global Training Round : 101 |\n",
      "\n"
     ]
    },
    {
     "name": "stderr",
     "output_type": "stream",
     "text": [
      "\n",
      "\n",
      " 34%|███▎      | 101/300 [00:22<00:43,  4.53it/s]\u001b[A\u001b[A"
     ]
    },
    {
     "name": "stdout",
     "output_type": "stream",
     "text": [
      "Accuracy loss: 38.38 | fairness loss 113.73 | Equal Opportunity Disparity = 0.08\n",
      " \n",
      "Avg Training Stats after 101 global rounds:\n",
      "Training loss: 0.43 | Training accuracy: 85.93% | Training Equal Opportunity Disparity: 0.0802\n",
      "\n",
      " | Global Training Round : 102 |\n",
      "\n"
     ]
    },
    {
     "name": "stderr",
     "output_type": "stream",
     "text": [
      "\n",
      "\n",
      " 34%|███▍      | 102/300 [00:23<00:42,  4.62it/s]\u001b[A\u001b[A\n",
      "\n",
      " 34%|███▍      | 103/300 [00:23<00:41,  4.80it/s]\u001b[A\u001b[A"
     ]
    },
    {
     "name": "stdout",
     "output_type": "stream",
     "text": [
      "Accuracy loss: 38.43 | fairness loss 116.37 | Equal Opportunity Disparity = 0.08\n",
      " \n",
      "Avg Training Stats after 102 global rounds:\n",
      "Training loss: 0.43 | Training accuracy: 85.93% | Training Equal Opportunity Disparity: 0.0802\n",
      "\n",
      " | Global Training Round : 103 |\n",
      "\n",
      "Accuracy loss: 38.46 | fairness loss 120.05 | Equal Opportunity Disparity = 0.08\n",
      " \n",
      "Avg Training Stats after 103 global rounds:\n",
      "Training loss: 0.43 | Training accuracy: 85.93% | Training Equal Opportunity Disparity: 0.0802\n",
      "\n",
      " | Global Training Round : 104 |\n",
      "\n"
     ]
    },
    {
     "name": "stderr",
     "output_type": "stream",
     "text": [
      "\n",
      "\n",
      " 35%|███▍      | 104/300 [00:23<00:39,  4.91it/s]\u001b[A\u001b[A\n",
      "\n",
      " 35%|███▌      | 105/300 [00:23<00:39,  4.96it/s]\u001b[A\u001b[A"
     ]
    },
    {
     "name": "stdout",
     "output_type": "stream",
     "text": [
      "Accuracy loss: 38.56 | fairness loss 116.02 | Equal Opportunity Disparity = 0.08\n",
      " \n",
      "Avg Training Stats after 104 global rounds:\n",
      "Training loss: 0.43 | Training accuracy: 85.93% | Training Equal Opportunity Disparity: 0.0774\n",
      "\n",
      " | Global Training Round : 105 |\n",
      "\n",
      "Accuracy loss: 38.68 | fairness loss 113.64 | Equal Opportunity Disparity = 0.08\n",
      " \n",
      "Avg Training Stats after 105 global rounds:\n",
      "Training loss: 0.43 | Training accuracy: 86.00% | Training Equal Opportunity Disparity: 0.0768\n",
      "\n",
      " | Global Training Round : 106 |\n",
      "\n"
     ]
    },
    {
     "name": "stderr",
     "output_type": "stream",
     "text": [
      "\n",
      "\n",
      " 35%|███▌      | 106/300 [00:23<00:38,  5.03it/s]\u001b[A\u001b[A"
     ]
    },
    {
     "name": "stdout",
     "output_type": "stream",
     "text": [
      "Accuracy loss: 38.68 | fairness loss 116.43 | Equal Opportunity Disparity = 0.08\n",
      " \n",
      "Avg Training Stats after 106 global rounds:\n",
      "Training loss: 0.43 | Training accuracy: 85.93% | Training Equal Opportunity Disparity: 0.0768\n",
      "\n",
      " | Global Training Round : 107 |\n",
      "\n"
     ]
    },
    {
     "name": "stderr",
     "output_type": "stream",
     "text": [
      "\n",
      "\n",
      " 36%|███▌      | 107/300 [00:24<00:42,  4.51it/s]\u001b[A\u001b[A\n",
      "\n",
      " 36%|███▌      | 108/300 [00:24<00:40,  4.72it/s]\u001b[A\u001b[A"
     ]
    },
    {
     "name": "stdout",
     "output_type": "stream",
     "text": [
      "Accuracy loss: 38.66 | fairness loss 119.51 | Equal Opportunity Disparity = 0.08\n",
      " \n",
      "Avg Training Stats after 107 global rounds:\n",
      "Training loss: 0.43 | Training accuracy: 85.81% | Training Equal Opportunity Disparity: 0.0762\n",
      "\n",
      " | Global Training Round : 108 |\n",
      "\n",
      "Accuracy loss: 38.86 | fairness loss 116.10 | Equal Opportunity Disparity = 0.08\n",
      " \n",
      "Avg Training Stats after 108 global rounds:\n",
      "Training loss: 0.42 | Training accuracy: 85.85% | Training Equal Opportunity Disparity: 0.0755\n",
      "\n",
      " | Global Training Round : 109 |\n",
      "\n"
     ]
    },
    {
     "name": "stderr",
     "output_type": "stream",
     "text": [
      "\n",
      "\n",
      " 36%|███▋      | 109/300 [00:24<00:38,  4.90it/s]\u001b[A\u001b[A"
     ]
    },
    {
     "name": "stdout",
     "output_type": "stream",
     "text": [
      "Accuracy loss: 38.86 | fairness loss 113.50 | Equal Opportunity Disparity = 0.07\n",
      " \n",
      "Avg Training Stats after 109 global rounds:\n",
      "Training loss: 0.42 | Training accuracy: 85.81% | Training Equal Opportunity Disparity: 0.0749\n",
      "\n",
      " | Global Training Round : 110 |\n",
      "\n"
     ]
    },
    {
     "name": "stderr",
     "output_type": "stream",
     "text": [
      "\n",
      "\n",
      " 37%|███▋      | 110/300 [00:24<00:39,  4.79it/s]\u001b[A\u001b[A"
     ]
    },
    {
     "name": "stdout",
     "output_type": "stream",
     "text": [
      "Accuracy loss: 38.93 | fairness loss 113.86 | Equal Opportunity Disparity = 0.07\n",
      " \n",
      "Avg Training Stats after 110 global rounds:\n",
      "Training loss: 0.42 | Training accuracy: 85.81% | Training Equal Opportunity Disparity: 0.0749\n",
      "\n",
      " | Global Training Round : 111 |\n",
      "\n"
     ]
    },
    {
     "name": "stderr",
     "output_type": "stream",
     "text": [
      "\n",
      "\n",
      " 37%|███▋      | 111/300 [00:25<00:39,  4.79it/s]\u001b[A\u001b[A"
     ]
    },
    {
     "name": "stdout",
     "output_type": "stream",
     "text": [
      "Accuracy loss: 38.78 | fairness loss 113.06 | Equal Opportunity Disparity = 0.08\n",
      " \n",
      "Avg Training Stats after 111 global rounds:\n",
      "Training loss: 0.42 | Training accuracy: 85.78% | Training Equal Opportunity Disparity: 0.0755\n",
      "\n",
      " | Global Training Round : 112 |\n",
      "\n",
      "Accuracy loss: 38.85 | fairness loss 118.85 | Equal Opportunity Disparity = 0.07\n"
     ]
    },
    {
     "name": "stderr",
     "output_type": "stream",
     "text": [
      "\n",
      "\n",
      " 37%|███▋      | 112/300 [00:25<00:38,  4.83it/s]\u001b[A\u001b[A\n",
      "\n",
      " 38%|███▊      | 113/300 [00:25<00:37,  4.94it/s]\u001b[A\u001b[A"
     ]
    },
    {
     "name": "stdout",
     "output_type": "stream",
     "text": [
      " \n",
      "Avg Training Stats after 112 global rounds:\n",
      "Training loss: 0.42 | Training accuracy: 85.78% | Training Equal Opportunity Disparity: 0.0743\n",
      "\n",
      " | Global Training Round : 113 |\n",
      "\n",
      "Accuracy loss: 38.94 | fairness loss 115.95 | Equal Opportunity Disparity = 0.07\n",
      " \n",
      "Avg Training Stats after 113 global rounds:\n",
      "Training loss: 0.42 | Training accuracy: 85.74% | Training Equal Opportunity Disparity: 0.0749\n",
      "\n",
      " | Global Training Round : 114 |\n",
      "\n"
     ]
    },
    {
     "name": "stderr",
     "output_type": "stream",
     "text": [
      "\n",
      "\n",
      " 38%|███▊      | 114/300 [00:25<00:37,  4.90it/s]\u001b[A\u001b[A\n",
      "\n"
     ]
    },
    {
     "name": "stdout",
     "output_type": "stream",
     "text": [
      "Accuracy loss: 39.15 | fairness loss 112.21 | Equal Opportunity Disparity = 0.07\n",
      " \n",
      "Avg Training Stats after 114 global rounds:\n",
      "Training loss: 0.42 | Training accuracy: 85.63% | Training Equal Opportunity Disparity: 0.0709\n",
      "\n",
      " | Global Training Round : 115 |\n",
      "\n",
      "Accuracy loss: 39.19 | fairness loss 111.48 | Equal Opportunity Disparity = 0.07\n",
      " \n",
      "Avg Training Stats after 115 global rounds:\n",
      "Training loss: 0.42 | Training accuracy: 85.70% | Training Equal Opportunity Disparity: 0.0709\n"
     ]
    },
    {
     "name": "stderr",
     "output_type": "stream",
     "text": [
      " 38%|███▊      | 115/300 [00:25<00:37,  4.94it/s]\u001b[A\u001b[A"
     ]
    },
    {
     "name": "stdout",
     "output_type": "stream",
     "text": [
      "\n",
      " | Global Training Round : 116 |\n",
      "\n"
     ]
    },
    {
     "name": "stderr",
     "output_type": "stream",
     "text": [
      "\n",
      "\n",
      " 39%|███▊      | 116/300 [00:26<00:37,  4.85it/s]\u001b[A\u001b[A"
     ]
    },
    {
     "name": "stdout",
     "output_type": "stream",
     "text": [
      "Accuracy loss: 39.34 | fairness loss 110.11 | Equal Opportunity Disparity = 0.07\n",
      " \n",
      "Avg Training Stats after 116 global rounds:\n",
      "Training loss: 0.42 | Training accuracy: 85.63% | Training Equal Opportunity Disparity: 0.0703\n",
      "\n",
      " | Global Training Round : 117 |\n",
      "\n",
      "Accuracy loss: 39.36 | fairness loss 116.11 | Equal Opportunity Disparity = 0.07\n"
     ]
    },
    {
     "name": "stderr",
     "output_type": "stream",
     "text": [
      "\n",
      "\n",
      " 39%|███▉      | 117/300 [00:26<00:37,  4.87it/s]\u001b[A\u001b[A"
     ]
    },
    {
     "name": "stdout",
     "output_type": "stream",
     "text": [
      " \n",
      "Avg Training Stats after 117 global rounds:\n",
      "Training loss: 0.42 | Training accuracy: 85.67% | Training Equal Opportunity Disparity: 0.0709\n",
      "\n",
      " | Global Training Round : 118 |\n",
      "\n"
     ]
    },
    {
     "name": "stderr",
     "output_type": "stream",
     "text": [
      "\n",
      "\n",
      " 39%|███▉      | 118/300 [00:26<00:37,  4.82it/s]\u001b[A\u001b[A\n",
      "\n",
      " 40%|███▉      | 119/300 [00:26<00:36,  4.98it/s]\u001b[A\u001b[A"
     ]
    },
    {
     "name": "stdout",
     "output_type": "stream",
     "text": [
      "Accuracy loss: 39.30 | fairness loss 113.66 | Equal Opportunity Disparity = 0.07\n",
      " \n",
      "Avg Training Stats after 118 global rounds:\n",
      "Training loss: 0.42 | Training accuracy: 85.70% | Training Equal Opportunity Disparity: 0.0703\n",
      "\n",
      " | Global Training Round : 119 |\n",
      "\n",
      "Accuracy loss: 39.16 | fairness loss 120.23 | Equal Opportunity Disparity = 0.07\n",
      " \n",
      "Avg Training Stats after 119 global rounds:\n",
      "Training loss: 0.42 | Training accuracy: 85.67% | Training Equal Opportunity Disparity: 0.0724\n",
      "\n",
      " | Global Training Round : 120 |\n",
      "\n"
     ]
    },
    {
     "name": "stderr",
     "output_type": "stream",
     "text": [
      "\n",
      "\n",
      " 40%|████      | 120/300 [00:26<00:36,  4.92it/s]\u001b[A\u001b[A\n",
      "\n",
      " 40%|████      | 121/300 [00:27<00:35,  4.99it/s]\u001b[A\u001b[A"
     ]
    },
    {
     "name": "stdout",
     "output_type": "stream",
     "text": [
      "Accuracy loss: 39.13 | fairness loss 119.75 | Equal Opportunity Disparity = 0.07\n",
      " \n",
      "Avg Training Stats after 120 global rounds:\n",
      "Training loss: 0.42 | Training accuracy: 85.70% | Training Equal Opportunity Disparity: 0.0724\n",
      "\n",
      " | Global Training Round : 121 |\n",
      "\n",
      "Accuracy loss: 39.03 | fairness loss 116.52 | Equal Opportunity Disparity = 0.07\n",
      " \n",
      "Avg Training Stats after 121 global rounds:\n",
      "Training loss: 0.42 | Training accuracy: 85.85% | Training Equal Opportunity Disparity: 0.0730\n",
      "\n",
      " | Global Training Round : 122 |\n",
      "\n"
     ]
    },
    {
     "name": "stderr",
     "output_type": "stream",
     "text": [
      "\n",
      "\n",
      " 41%|████      | 122/300 [00:27<00:36,  4.89it/s]\u001b[A\u001b[A"
     ]
    },
    {
     "name": "stdout",
     "output_type": "stream",
     "text": [
      "Accuracy loss: 39.05 | fairness loss 119.78 | Equal Opportunity Disparity = 0.07\n",
      " \n",
      "Avg Training Stats after 122 global rounds:\n",
      "Training loss: 0.42 | Training accuracy: 85.81% | Training Equal Opportunity Disparity: 0.0724\n",
      "\n",
      " | Global Training Round : 123 |\n",
      "\n",
      "Accuracy loss: 39.12 | fairness loss 119.91 | Equal Opportunity Disparity = 0.07\n"
     ]
    },
    {
     "name": "stderr",
     "output_type": "stream",
     "text": [
      "\n",
      "\n",
      " 41%|████      | 123/300 [00:27<00:36,  4.91it/s]\u001b[A\u001b[A\n",
      "\n",
      " 41%|████▏     | 124/300 [00:27<00:35,  5.01it/s]\u001b[A\u001b[A"
     ]
    },
    {
     "name": "stdout",
     "output_type": "stream",
     "text": [
      " \n",
      "Avg Training Stats after 123 global rounds:\n",
      "Training loss: 0.42 | Training accuracy: 85.78% | Training Equal Opportunity Disparity: 0.0724\n",
      "\n",
      " | Global Training Round : 124 |\n",
      "\n",
      "Accuracy loss: 39.25 | fairness loss 118.40 | Equal Opportunity Disparity = 0.07\n",
      " \n",
      "Avg Training Stats after 124 global rounds:\n",
      "Training loss: 0.42 | Training accuracy: 85.78% | Training Equal Opportunity Disparity: 0.0718\n",
      "\n",
      " | Global Training Round : 125 |\n",
      "\n"
     ]
    },
    {
     "name": "stderr",
     "output_type": "stream",
     "text": [
      "\n",
      "\n",
      " 42%|████▏     | 125/300 [00:27<00:35,  4.99it/s]\u001b[A\u001b[A\n",
      "\n",
      " 42%|████▏     | 126/300 [00:28<00:34,  5.04it/s]\u001b[A\u001b[A"
     ]
    },
    {
     "name": "stdout",
     "output_type": "stream",
     "text": [
      "Accuracy loss: 39.21 | fairness loss 119.38 | Equal Opportunity Disparity = 0.07\n",
      " \n",
      "Avg Training Stats after 125 global rounds:\n",
      "Training loss: 0.42 | Training accuracy: 85.93% | Training Equal Opportunity Disparity: 0.0724\n",
      "\n",
      " | Global Training Round : 126 |\n",
      "\n",
      "Accuracy loss: 39.12 | fairness loss 120.94 | Equal Opportunity Disparity = 0.07\n",
      " \n",
      "Avg Training Stats after 126 global rounds:\n",
      "Training loss: 0.41 | Training accuracy: 85.93% | Training Equal Opportunity Disparity: 0.0724\n",
      "\n",
      " | Global Training Round : 127 |\n",
      "\n"
     ]
    },
    {
     "name": "stderr",
     "output_type": "stream",
     "text": [
      "\n",
      "\n",
      " 42%|████▏     | 127/300 [00:28<00:34,  5.05it/s]\u001b[A\u001b[A"
     ]
    },
    {
     "name": "stdout",
     "output_type": "stream",
     "text": [
      "Accuracy loss: 39.36 | fairness loss 122.10 | Equal Opportunity Disparity = 0.07\n",
      " \n",
      "Avg Training Stats after 127 global rounds:\n",
      "Training loss: 0.41 | Training accuracy: 85.78% | Training Equal Opportunity Disparity: 0.0699\n",
      "\n",
      " | Global Training Round : 128 |\n",
      "\n",
      "Accuracy loss: 39.52 | fairness loss 115.15 | Equal Opportunity Disparity = 0.07\n"
     ]
    },
    {
     "name": "stderr",
     "output_type": "stream",
     "text": [
      "\n",
      "\n",
      " 43%|████▎     | 128/300 [00:28<00:34,  5.00it/s]\u001b[A\u001b[A\n",
      "\n",
      " 43%|████▎     | 129/300 [00:28<00:33,  5.09it/s]\u001b[A\u001b[A"
     ]
    },
    {
     "name": "stdout",
     "output_type": "stream",
     "text": [
      " \n",
      "Avg Training Stats after 128 global rounds:\n",
      "Training loss: 0.41 | Training accuracy: 85.78% | Training Equal Opportunity Disparity: 0.0672\n",
      "\n",
      " | Global Training Round : 129 |\n",
      "\n",
      "Accuracy loss: 39.56 | fairness loss 117.52 | Equal Opportunity Disparity = 0.07\n",
      " \n",
      "Avg Training Stats after 129 global rounds:\n",
      "Training loss: 0.41 | Training accuracy: 85.78% | Training Equal Opportunity Disparity: 0.0672\n",
      "\n",
      " | Global Training Round : 130 |\n",
      "\n"
     ]
    },
    {
     "name": "stderr",
     "output_type": "stream",
     "text": [
      "\n",
      "\n",
      " 43%|████▎     | 130/300 [00:28<00:32,  5.15it/s]\u001b[A\u001b[A\n",
      "\n",
      " 44%|████▎     | 131/300 [00:28<00:32,  5.22it/s]\u001b[A\u001b[A"
     ]
    },
    {
     "name": "stdout",
     "output_type": "stream",
     "text": [
      "Accuracy loss: 39.77 | fairness loss 118.77 | Equal Opportunity Disparity = 0.07\n",
      " \n",
      "Avg Training Stats after 130 global rounds:\n",
      "Training loss: 0.41 | Training accuracy: 85.70% | Training Equal Opportunity Disparity: 0.0672\n",
      "\n",
      " | Global Training Round : 131 |\n",
      "\n",
      "Accuracy loss: 39.63 | fairness loss 114.61 | Equal Opportunity Disparity = 0.07\n",
      " \n",
      "Avg Training Stats after 131 global rounds:\n",
      "Training loss: 0.41 | Training accuracy: 85.74% | Training Equal Opportunity Disparity: 0.0672\n",
      "\n",
      " | Global Training Round : 132 |\n",
      "\n"
     ]
    },
    {
     "name": "stderr",
     "output_type": "stream",
     "text": [
      "\n",
      "\n",
      " 44%|████▍     | 132/300 [00:29<00:32,  5.12it/s]\u001b[A\u001b[A\n",
      "\n",
      " 44%|████▍     | 133/300 [00:29<00:32,  5.21it/s]\u001b[A\u001b[A"
     ]
    },
    {
     "name": "stdout",
     "output_type": "stream",
     "text": [
      "Accuracy loss: 39.67 | fairness loss 116.93 | Equal Opportunity Disparity = 0.07\n",
      " \n",
      "Avg Training Stats after 132 global rounds:\n",
      "Training loss: 0.41 | Training accuracy: 85.78% | Training Equal Opportunity Disparity: 0.0672\n",
      "\n",
      " | Global Training Round : 133 |\n",
      "\n",
      "Accuracy loss: 39.51 | fairness loss 119.75 | Equal Opportunity Disparity = 0.07\n",
      " \n",
      "Avg Training Stats after 133 global rounds:\n",
      "Training loss: 0.41 | Training accuracy: 85.67% | Training Equal Opportunity Disparity: 0.0687\n",
      "\n",
      " | Global Training Round : 134 |\n",
      "\n"
     ]
    },
    {
     "name": "stderr",
     "output_type": "stream",
     "text": [
      "\n",
      "\n",
      " 45%|████▍     | 134/300 [00:29<00:32,  5.13it/s]\u001b[A\u001b[A\n",
      "\n",
      " 45%|████▌     | 135/300 [00:29<00:32,  5.13it/s]\u001b[A\u001b[A"
     ]
    },
    {
     "name": "stdout",
     "output_type": "stream",
     "text": [
      "Accuracy loss: 39.50 | fairness loss 121.59 | Equal Opportunity Disparity = 0.07\n",
      " \n",
      "Avg Training Stats after 134 global rounds:\n",
      "Training loss: 0.41 | Training accuracy: 85.67% | Training Equal Opportunity Disparity: 0.0687\n",
      "\n",
      " | Global Training Round : 135 |\n",
      "\n",
      "Accuracy loss: 39.45 | fairness loss 122.62 | Equal Opportunity Disparity = 0.07\n",
      " \n",
      "Avg Training Stats after 135 global rounds:\n",
      "Training loss: 0.41 | Training accuracy: 85.67% | Training Equal Opportunity Disparity: 0.0666\n",
      "\n",
      " | Global Training Round : 136 |\n",
      "\n"
     ]
    },
    {
     "name": "stderr",
     "output_type": "stream",
     "text": [
      "\n",
      "\n",
      " 45%|████▌     | 136/300 [00:29<00:31,  5.21it/s]\u001b[A\u001b[A\n",
      "\n",
      " 46%|████▌     | 137/300 [00:30<00:31,  5.18it/s]\u001b[A\u001b[A"
     ]
    },
    {
     "name": "stdout",
     "output_type": "stream",
     "text": [
      "Accuracy loss: 39.60 | fairness loss 119.96 | Equal Opportunity Disparity = 0.07\n",
      " \n",
      "Avg Training Stats after 136 global rounds:\n",
      "Training loss: 0.41 | Training accuracy: 85.59% | Training Equal Opportunity Disparity: 0.0666\n",
      "\n",
      " | Global Training Round : 137 |\n",
      "\n",
      "Accuracy loss: 39.59 | fairness loss 125.38 | Equal Opportunity Disparity = 0.07\n",
      " \n",
      "Avg Training Stats after 137 global rounds:\n",
      "Training loss: 0.41 | Training accuracy: 85.59% | Training Equal Opportunity Disparity: 0.0659\n",
      "\n",
      " | Global Training Round : 138 |\n",
      "\n"
     ]
    },
    {
     "name": "stderr",
     "output_type": "stream",
     "text": [
      "\n",
      "\n",
      " 46%|████▌     | 138/300 [00:30<00:31,  5.13it/s]\u001b[A\u001b[A\n",
      "\n",
      " 46%|████▋     | 139/300 [00:30<00:31,  5.12it/s]\u001b[A\u001b[A"
     ]
    },
    {
     "name": "stdout",
     "output_type": "stream",
     "text": [
      "Accuracy loss: 39.72 | fairness loss 121.89 | Equal Opportunity Disparity = 0.07\n",
      " \n",
      "Avg Training Stats after 138 global rounds:\n",
      "Training loss: 0.41 | Training accuracy: 85.48% | Training Equal Opportunity Disparity: 0.0659\n",
      "\n",
      " | Global Training Round : 139 |\n",
      "\n",
      "Accuracy loss: 39.74 | fairness loss 125.41 | Equal Opportunity Disparity = 0.07\n",
      " \n",
      "Avg Training Stats after 139 global rounds:\n",
      "Training loss: 0.41 | Training accuracy: 85.56% | Training Equal Opportunity Disparity: 0.0659\n",
      "\n",
      " | Global Training Round : 140 |\n",
      "\n"
     ]
    },
    {
     "name": "stderr",
     "output_type": "stream",
     "text": [
      "\n",
      "\n",
      " 47%|████▋     | 140/300 [00:30<00:30,  5.19it/s]\u001b[A\u001b[A\n",
      "\n",
      " 47%|████▋     | 141/300 [00:30<00:30,  5.18it/s]\u001b[A\u001b[A"
     ]
    },
    {
     "name": "stdout",
     "output_type": "stream",
     "text": [
      "Accuracy loss: 39.81 | fairness loss 117.86 | Equal Opportunity Disparity = 0.06\n",
      " \n",
      "Avg Training Stats after 140 global rounds:\n",
      "Training loss: 0.41 | Training accuracy: 85.52% | Training Equal Opportunity Disparity: 0.0625\n",
      "\n",
      " | Global Training Round : 141 |\n",
      "\n",
      "Accuracy loss: 39.71 | fairness loss 123.04 | Equal Opportunity Disparity = 0.07\n",
      " \n",
      "Avg Training Stats after 141 global rounds:\n",
      "Training loss: 0.41 | Training accuracy: 85.56% | Training Equal Opportunity Disparity: 0.0653\n",
      "\n",
      " | Global Training Round : 142 |\n",
      "\n"
     ]
    },
    {
     "name": "stderr",
     "output_type": "stream",
     "text": [
      "\n",
      "\n",
      " 47%|████▋     | 142/300 [00:31<00:30,  5.16it/s]\u001b[A\u001b[A\n",
      "\n",
      " 48%|████▊     | 143/300 [00:31<00:30,  5.15it/s]\u001b[A\u001b[A"
     ]
    },
    {
     "name": "stdout",
     "output_type": "stream",
     "text": [
      "Accuracy loss: 39.64 | fairness loss 123.09 | Equal Opportunity Disparity = 0.07\n",
      " \n",
      "Avg Training Stats after 142 global rounds:\n",
      "Training loss: 0.41 | Training accuracy: 85.59% | Training Equal Opportunity Disparity: 0.0653\n",
      "\n",
      " | Global Training Round : 143 |\n",
      "\n",
      "Accuracy loss: 39.67 | fairness loss 122.19 | Equal Opportunity Disparity = 0.07\n",
      " \n",
      "Avg Training Stats after 143 global rounds:\n",
      "Training loss: 0.41 | Training accuracy: 85.63% | Training Equal Opportunity Disparity: 0.0653\n",
      "\n",
      " | Global Training Round : 144 |\n",
      "\n"
     ]
    },
    {
     "name": "stderr",
     "output_type": "stream",
     "text": [
      "\n",
      "\n",
      " 48%|████▊     | 144/300 [00:31<00:30,  5.12it/s]\u001b[A\u001b[A"
     ]
    },
    {
     "name": "stdout",
     "output_type": "stream",
     "text": [
      "Accuracy loss: 39.75 | fairness loss 119.39 | Equal Opportunity Disparity = 0.07\n",
      " \n",
      "Avg Training Stats after 144 global rounds:\n",
      "Training loss: 0.41 | Training accuracy: 85.56% | Training Equal Opportunity Disparity: 0.0653\n",
      "\n",
      " | Global Training Round : 145 |\n",
      "\n"
     ]
    },
    {
     "name": "stderr",
     "output_type": "stream",
     "text": [
      "\n",
      "\n",
      " 48%|████▊     | 145/300 [00:31<00:31,  4.88it/s]\u001b[A\u001b[A\n",
      "\n",
      " 49%|████▊     | 146/300 [00:31<00:31,  4.97it/s]\u001b[A\u001b[A"
     ]
    },
    {
     "name": "stdout",
     "output_type": "stream",
     "text": [
      "Accuracy loss: 39.78 | fairness loss 123.22 | Equal Opportunity Disparity = 0.06\n",
      " \n",
      "Avg Training Stats after 145 global rounds:\n",
      "Training loss: 0.41 | Training accuracy: 85.63% | Training Equal Opportunity Disparity: 0.0647\n",
      "\n",
      " | Global Training Round : 146 |\n",
      "\n",
      "Accuracy loss: 39.86 | fairness loss 123.62 | Equal Opportunity Disparity = 0.06\n",
      " \n",
      "Avg Training Stats after 146 global rounds:\n",
      "Training loss: 0.41 | Training accuracy: 85.52% | Training Equal Opportunity Disparity: 0.0641\n",
      "\n",
      " | Global Training Round : 147 |\n",
      "\n"
     ]
    },
    {
     "name": "stderr",
     "output_type": "stream",
     "text": [
      "\n",
      "\n",
      " 49%|████▉     | 147/300 [00:32<00:30,  5.01it/s]\u001b[A\u001b[A\n",
      "\n",
      " 49%|████▉     | 148/300 [00:32<00:30,  5.06it/s]\u001b[A\u001b[A"
     ]
    },
    {
     "name": "stdout",
     "output_type": "stream",
     "text": [
      "Accuracy loss: 40.07 | fairness loss 123.54 | Equal Opportunity Disparity = 0.06\n",
      " \n",
      "Avg Training Stats after 147 global rounds:\n",
      "Training loss: 0.41 | Training accuracy: 85.48% | Training Equal Opportunity Disparity: 0.0619\n",
      "\n",
      " | Global Training Round : 148 |\n",
      "\n",
      "Accuracy loss: 40.08 | fairness loss 126.77 | Equal Opportunity Disparity = 0.06\n",
      " \n",
      "Avg Training Stats after 148 global rounds:\n",
      "Training loss: 0.41 | Training accuracy: 85.44% | Training Equal Opportunity Disparity: 0.0613\n",
      "\n",
      " | Global Training Round : 149 |\n",
      "\n"
     ]
    },
    {
     "name": "stderr",
     "output_type": "stream",
     "text": [
      "\n",
      "\n",
      " 50%|████▉     | 149/300 [00:32<00:30,  5.00it/s]\u001b[A\u001b[A"
     ]
    },
    {
     "name": "stdout",
     "output_type": "stream",
     "text": [
      "Accuracy loss: 40.14 | fairness loss 120.76 | Equal Opportunity Disparity = 0.06\n",
      " \n",
      "Avg Training Stats after 149 global rounds:\n",
      "Training loss: 0.41 | Training accuracy: 85.48% | Training Equal Opportunity Disparity: 0.0607\n",
      "\n",
      " | Global Training Round : 150 |\n",
      "\n",
      "Accuracy loss: 40.28 | fairness loss 114.48 | Equal Opportunity Disparity = 0.06\n"
     ]
    },
    {
     "name": "stderr",
     "output_type": "stream",
     "text": [
      "\n",
      "\n",
      " 50%|█████     | 150/300 [00:32<00:30,  4.97it/s]\u001b[A\u001b[A"
     ]
    },
    {
     "name": "stdout",
     "output_type": "stream",
     "text": [
      " \n",
      "Avg Training Stats after 150 global rounds:\n",
      "Training loss: 0.41 | Training accuracy: 85.41% | Training Equal Opportunity Disparity: 0.0588\n",
      "\n",
      " | Global Training Round : 151 |\n",
      "\n"
     ]
    },
    {
     "name": "stderr",
     "output_type": "stream",
     "text": [
      "\n",
      "\n",
      " 50%|█████     | 151/300 [00:32<00:31,  4.75it/s]\u001b[A\u001b[A"
     ]
    },
    {
     "name": "stdout",
     "output_type": "stream",
     "text": [
      "Accuracy loss: 40.24 | fairness loss 116.62 | Equal Opportunity Disparity = 0.06\n",
      " \n",
      "Avg Training Stats after 151 global rounds:\n",
      "Training loss: 0.40 | Training accuracy: 85.33% | Training Equal Opportunity Disparity: 0.0582\n",
      "\n",
      " | Global Training Round : 152 |\n",
      "\n"
     ]
    },
    {
     "name": "stderr",
     "output_type": "stream",
     "text": [
      "\n",
      "\n",
      " 51%|█████     | 152/300 [00:33<00:32,  4.57it/s]\u001b[A\u001b[A"
     ]
    },
    {
     "name": "stdout",
     "output_type": "stream",
     "text": [
      "Accuracy loss: 40.29 | fairness loss 121.11 | Equal Opportunity Disparity = 0.06\n",
      " \n",
      "Avg Training Stats after 152 global rounds:\n",
      "Training loss: 0.40 | Training accuracy: 85.41% | Training Equal Opportunity Disparity: 0.0588\n",
      "\n",
      " | Global Training Round : 153 |\n",
      "\n"
     ]
    },
    {
     "name": "stderr",
     "output_type": "stream",
     "text": [
      "\n",
      "\n",
      " 51%|█████     | 153/300 [00:33<00:31,  4.63it/s]\u001b[A\u001b[A"
     ]
    },
    {
     "name": "stdout",
     "output_type": "stream",
     "text": [
      "Accuracy loss: 40.22 | fairness loss 118.01 | Equal Opportunity Disparity = 0.06\n",
      " \n",
      "Avg Training Stats after 153 global rounds:\n",
      "Training loss: 0.40 | Training accuracy: 85.41% | Training Equal Opportunity Disparity: 0.0594\n",
      "\n",
      " | Global Training Round : 154 |\n",
      "\n"
     ]
    },
    {
     "name": "stderr",
     "output_type": "stream",
     "text": [
      "\n",
      "\n",
      " 51%|█████▏    | 154/300 [00:33<00:31,  4.68it/s]\u001b[A\u001b[A"
     ]
    },
    {
     "name": "stdout",
     "output_type": "stream",
     "text": [
      "Accuracy loss: 40.42 | fairness loss 118.38 | Equal Opportunity Disparity = 0.06\n",
      " \n",
      "Avg Training Stats after 154 global rounds:\n",
      "Training loss: 0.40 | Training accuracy: 85.33% | Training Equal Opportunity Disparity: 0.0582\n",
      "\n",
      " | Global Training Round : 155 |\n",
      "\n"
     ]
    },
    {
     "name": "stderr",
     "output_type": "stream",
     "text": [
      "\n",
      "\n",
      " 52%|█████▏    | 155/300 [00:33<00:31,  4.59it/s]\u001b[A\u001b[A"
     ]
    },
    {
     "name": "stdout",
     "output_type": "stream",
     "text": [
      "Accuracy loss: 40.43 | fairness loss 119.25 | Equal Opportunity Disparity = 0.06\n",
      " \n",
      "Avg Training Stats after 155 global rounds:\n",
      "Training loss: 0.40 | Training accuracy: 85.30% | Training Equal Opportunity Disparity: 0.0573\n",
      "\n",
      " | Global Training Round : 156 |\n",
      "\n"
     ]
    },
    {
     "name": "stderr",
     "output_type": "stream",
     "text": [
      "\n",
      "\n",
      " 52%|█████▏    | 156/300 [00:34<00:32,  4.46it/s]\u001b[A\u001b[A\n",
      "\n",
      " 52%|█████▏    | 157/300 [00:34<00:30,  4.64it/s]\u001b[A\u001b[A"
     ]
    },
    {
     "name": "stdout",
     "output_type": "stream",
     "text": [
      "Accuracy loss: 40.43 | fairness loss 118.72 | Equal Opportunity Disparity = 0.06\n",
      " \n",
      "Avg Training Stats after 156 global rounds:\n",
      "Training loss: 0.40 | Training accuracy: 85.33% | Training Equal Opportunity Disparity: 0.0582\n",
      "\n",
      " | Global Training Round : 157 |\n",
      "\n",
      "Accuracy loss: 40.61 | fairness loss 116.42 | Equal Opportunity Disparity = 0.05\n",
      " \n",
      "Avg Training Stats after 157 global rounds:\n",
      "Training loss: 0.40 | Training accuracy: 85.19% | Training Equal Opportunity Disparity: 0.0536\n",
      "\n",
      " | Global Training Round : 158 |\n",
      "\n"
     ]
    },
    {
     "name": "stderr",
     "output_type": "stream",
     "text": [
      "\n",
      "\n",
      " 53%|█████▎    | 158/300 [00:34<00:29,  4.82it/s]\u001b[A\u001b[A\n",
      "\n",
      " 53%|█████▎    | 159/300 [00:34<00:28,  4.98it/s]\u001b[A\u001b[A"
     ]
    },
    {
     "name": "stdout",
     "output_type": "stream",
     "text": [
      "Accuracy loss: 40.44 | fairness loss 117.79 | Equal Opportunity Disparity = 0.06\n",
      " \n",
      "Avg Training Stats after 158 global rounds:\n",
      "Training loss: 0.40 | Training accuracy: 85.33% | Training Equal Opportunity Disparity: 0.0576\n",
      "\n",
      " | Global Training Round : 159 |\n",
      "\n",
      "Accuracy loss: 40.54 | fairness loss 120.92 | Equal Opportunity Disparity = 0.05\n",
      " \n",
      "Avg Training Stats after 159 global rounds:\n",
      "Training loss: 0.40 | Training accuracy: 85.26% | Training Equal Opportunity Disparity: 0.0548\n",
      "\n",
      " | Global Training Round : 160 |\n",
      "\n"
     ]
    },
    {
     "name": "stderr",
     "output_type": "stream",
     "text": [
      "\n",
      "\n",
      " 53%|█████▎    | 160/300 [00:34<00:31,  4.40it/s]\u001b[A\u001b[A"
     ]
    },
    {
     "name": "stdout",
     "output_type": "stream",
     "text": [
      "Accuracy loss: 40.38 | fairness loss 123.02 | Equal Opportunity Disparity = 0.06\n",
      " \n",
      "Avg Training Stats after 160 global rounds:\n",
      "Training loss: 0.40 | Training accuracy: 85.33% | Training Equal Opportunity Disparity: 0.0616\n",
      "\n",
      " | Global Training Round : 161 |\n",
      "\n"
     ]
    },
    {
     "name": "stderr",
     "output_type": "stream",
     "text": [
      "\n",
      "\n",
      " 54%|█████▎    | 161/300 [00:35<00:34,  4.06it/s]\u001b[A\u001b[A"
     ]
    },
    {
     "name": "stdout",
     "output_type": "stream",
     "text": [
      "Accuracy loss: 40.40 | fairness loss 119.84 | Equal Opportunity Disparity = 0.06\n",
      " \n",
      "Avg Training Stats after 161 global rounds:\n",
      "Training loss: 0.40 | Training accuracy: 85.37% | Training Equal Opportunity Disparity: 0.0616\n",
      "\n",
      " | Global Training Round : 162 |\n",
      "\n"
     ]
    },
    {
     "name": "stderr",
     "output_type": "stream",
     "text": [
      "\n",
      "\n",
      " 54%|█████▍    | 162/300 [00:35<00:33,  4.11it/s]\u001b[A\u001b[A"
     ]
    },
    {
     "name": "stdout",
     "output_type": "stream",
     "text": [
      "Accuracy loss: 40.54 | fairness loss 119.01 | Equal Opportunity Disparity = 0.06\n",
      " \n",
      "Avg Training Stats after 162 global rounds:\n",
      "Training loss: 0.40 | Training accuracy: 85.15% | Training Equal Opportunity Disparity: 0.0567\n",
      "\n",
      " | Global Training Round : 163 |\n",
      "\n"
     ]
    },
    {
     "name": "stderr",
     "output_type": "stream",
     "text": [
      "\n",
      "\n",
      " 54%|█████▍    | 163/300 [00:35<00:41,  3.34it/s]\u001b[A\u001b[A"
     ]
    },
    {
     "name": "stdout",
     "output_type": "stream",
     "text": [
      "Accuracy loss: 40.58 | fairness loss 117.82 | Equal Opportunity Disparity = 0.05\n",
      " \n",
      "Avg Training Stats after 163 global rounds:\n",
      "Training loss: 0.40 | Training accuracy: 85.22% | Training Equal Opportunity Disparity: 0.0545\n",
      "\n",
      " | Global Training Round : 164 |\n",
      "\n"
     ]
    },
    {
     "name": "stderr",
     "output_type": "stream",
     "text": [
      "\n",
      "\n",
      " 55%|█████▍    | 164/300 [00:36<00:39,  3.45it/s]\u001b[A\u001b[A"
     ]
    },
    {
     "name": "stdout",
     "output_type": "stream",
     "text": [
      "Accuracy loss: 40.50 | fairness loss 118.97 | Equal Opportunity Disparity = 0.06\n",
      " \n",
      "Avg Training Stats after 164 global rounds:\n",
      "Training loss: 0.40 | Training accuracy: 85.19% | Training Equal Opportunity Disparity: 0.0628\n",
      "\n",
      " | Global Training Round : 165 |\n",
      "\n"
     ]
    },
    {
     "name": "stderr",
     "output_type": "stream",
     "text": [
      "\n",
      "\n",
      " 55%|█████▌    | 165/300 [00:36<00:36,  3.65it/s]\u001b[A\u001b[A\n",
      "\n",
      " 55%|█████▌    | 166/300 [00:36<00:33,  4.00it/s]\u001b[A\u001b[A"
     ]
    },
    {
     "name": "stdout",
     "output_type": "stream",
     "text": [
      "Accuracy loss: 40.65 | fairness loss 116.27 | Equal Opportunity Disparity = 0.05\n",
      " \n",
      "Avg Training Stats after 165 global rounds:\n",
      "Training loss: 0.40 | Training accuracy: 85.15% | Training Equal Opportunity Disparity: 0.0539\n",
      "\n",
      " | Global Training Round : 166 |\n",
      "\n",
      "Accuracy loss: 40.65 | fairness loss 119.51 | Equal Opportunity Disparity = 0.05\n",
      " \n",
      "Avg Training Stats after 166 global rounds:\n",
      "Training loss: 0.40 | Training accuracy: 85.26% | Training Equal Opportunity Disparity: 0.0533\n",
      "\n",
      " | Global Training Round : 167 |\n",
      "\n"
     ]
    },
    {
     "name": "stderr",
     "output_type": "stream",
     "text": [
      "\n",
      "\n",
      " 56%|█████▌    | 167/300 [00:36<00:38,  3.45it/s]\u001b[A\u001b[A"
     ]
    },
    {
     "name": "stdout",
     "output_type": "stream",
     "text": [
      "Accuracy loss: 40.52 | fairness loss 118.18 | Equal Opportunity Disparity = 0.06\n",
      " \n",
      "Avg Training Stats after 167 global rounds:\n",
      "Training loss: 0.40 | Training accuracy: 85.26% | Training Equal Opportunity Disparity: 0.0622\n",
      "\n",
      " | Global Training Round : 168 |\n",
      "\n"
     ]
    },
    {
     "name": "stderr",
     "output_type": "stream",
     "text": [
      "\n",
      "\n",
      " 56%|█████▌    | 168/300 [00:37<00:35,  3.67it/s]\u001b[A\u001b[A"
     ]
    },
    {
     "name": "stdout",
     "output_type": "stream",
     "text": [
      "Accuracy loss: 40.60 | fairness loss 121.30 | Equal Opportunity Disparity = 0.06\n",
      " \n",
      "Avg Training Stats after 168 global rounds:\n",
      "Training loss: 0.40 | Training accuracy: 85.30% | Training Equal Opportunity Disparity: 0.0570\n",
      "\n",
      " | Global Training Round : 169 |\n",
      "\n"
     ]
    },
    {
     "name": "stderr",
     "output_type": "stream",
     "text": [
      "\n",
      "\n",
      " 56%|█████▋    | 169/300 [00:37<00:33,  3.86it/s]\u001b[A\u001b[A"
     ]
    },
    {
     "name": "stdout",
     "output_type": "stream",
     "text": [
      "Accuracy loss: 40.58 | fairness loss 125.53 | Equal Opportunity Disparity = 0.06\n",
      " \n",
      "Avg Training Stats after 169 global rounds:\n",
      "Training loss: 0.40 | Training accuracy: 85.37% | Training Equal Opportunity Disparity: 0.0597\n",
      "\n",
      " | Global Training Round : 170 |\n",
      "\n"
     ]
    },
    {
     "name": "stderr",
     "output_type": "stream",
     "text": [
      "\n",
      "\n",
      " 57%|█████▋    | 170/300 [00:37<00:31,  4.08it/s]\u001b[A\u001b[A"
     ]
    },
    {
     "name": "stdout",
     "output_type": "stream",
     "text": [
      "Accuracy loss: 40.49 | fairness loss 124.09 | Equal Opportunity Disparity = 0.06\n",
      " \n",
      "Avg Training Stats after 170 global rounds:\n",
      "Training loss: 0.40 | Training accuracy: 85.37% | Training Equal Opportunity Disparity: 0.0610\n",
      "\n",
      " | Global Training Round : 171 |\n",
      "\n"
     ]
    },
    {
     "name": "stderr",
     "output_type": "stream",
     "text": [
      "\n",
      "\n",
      " 57%|█████▋    | 171/300 [00:37<00:31,  4.09it/s]\u001b[A\u001b[A"
     ]
    },
    {
     "name": "stdout",
     "output_type": "stream",
     "text": [
      "Accuracy loss: 40.42 | fairness loss 120.93 | Equal Opportunity Disparity = 0.06\n",
      " \n",
      "Avg Training Stats after 171 global rounds:\n",
      "Training loss: 0.40 | Training accuracy: 85.33% | Training Equal Opportunity Disparity: 0.0597\n",
      "\n",
      " | Global Training Round : 172 |\n",
      "\n"
     ]
    },
    {
     "name": "stderr",
     "output_type": "stream",
     "text": [
      "\n",
      "\n",
      " 57%|█████▋    | 172/300 [00:38<00:31,  4.09it/s]\u001b[A\u001b[A"
     ]
    },
    {
     "name": "stdout",
     "output_type": "stream",
     "text": [
      "Accuracy loss: 40.51 | fairness loss 122.71 | Equal Opportunity Disparity = 0.06\n",
      " \n",
      "Avg Training Stats after 172 global rounds:\n",
      "Training loss: 0.40 | Training accuracy: 85.37% | Training Equal Opportunity Disparity: 0.0591\n",
      "\n",
      " | Global Training Round : 173 |\n",
      "\n"
     ]
    },
    {
     "name": "stderr",
     "output_type": "stream",
     "text": [
      "\n",
      "\n",
      " 58%|█████▊    | 173/300 [00:38<00:31,  4.09it/s]\u001b[A\u001b[A"
     ]
    },
    {
     "name": "stdout",
     "output_type": "stream",
     "text": [
      "Accuracy loss: 40.50 | fairness loss 123.84 | Equal Opportunity Disparity = 0.06\n",
      " \n",
      "Avg Training Stats after 173 global rounds:\n",
      "Training loss: 0.40 | Training accuracy: 85.41% | Training Equal Opportunity Disparity: 0.0585\n",
      "\n",
      " | Global Training Round : 174 |\n",
      "\n"
     ]
    },
    {
     "name": "stderr",
     "output_type": "stream",
     "text": [
      "\n",
      "\n",
      " 58%|█████▊    | 174/300 [00:38<00:30,  4.17it/s]\u001b[A\u001b[A"
     ]
    },
    {
     "name": "stdout",
     "output_type": "stream",
     "text": [
      "Accuracy loss: 40.53 | fairness loss 126.01 | Equal Opportunity Disparity = 0.06\n",
      " \n",
      "Avg Training Stats after 174 global rounds:\n",
      "Training loss: 0.40 | Training accuracy: 85.41% | Training Equal Opportunity Disparity: 0.0591\n",
      "\n",
      " | Global Training Round : 175 |\n",
      "\n"
     ]
    },
    {
     "name": "stderr",
     "output_type": "stream",
     "text": [
      "\n",
      "\n",
      " 58%|█████▊    | 175/300 [00:38<00:29,  4.21it/s]\u001b[A\u001b[A"
     ]
    },
    {
     "name": "stdout",
     "output_type": "stream",
     "text": [
      "Accuracy loss: 40.55 | fairness loss 128.50 | Equal Opportunity Disparity = 0.06\n",
      " \n",
      "Avg Training Stats after 175 global rounds:\n",
      "Training loss: 0.40 | Training accuracy: 85.41% | Training Equal Opportunity Disparity: 0.0591\n",
      "\n",
      " | Global Training Round : 176 |\n",
      "\n"
     ]
    },
    {
     "name": "stderr",
     "output_type": "stream",
     "text": [
      "\n",
      "\n",
      " 59%|█████▊    | 176/300 [00:39<00:28,  4.30it/s]\u001b[A\u001b[A"
     ]
    },
    {
     "name": "stdout",
     "output_type": "stream",
     "text": [
      "Accuracy loss: 40.71 | fairness loss 122.11 | Equal Opportunity Disparity = 0.06\n",
      " \n",
      "Avg Training Stats after 176 global rounds:\n",
      "Training loss: 0.40 | Training accuracy: 85.37% | Training Equal Opportunity Disparity: 0.0579\n",
      "\n",
      " | Global Training Round : 177 |\n",
      "\n"
     ]
    },
    {
     "name": "stderr",
     "output_type": "stream",
     "text": [
      "\n",
      "\n",
      " 59%|█████▉    | 177/300 [00:39<00:28,  4.38it/s]\u001b[A\u001b[A"
     ]
    },
    {
     "name": "stdout",
     "output_type": "stream",
     "text": [
      "Accuracy loss: 40.63 | fairness loss 124.83 | Equal Opportunity Disparity = 0.06\n",
      " \n",
      "Avg Training Stats after 177 global rounds:\n",
      "Training loss: 0.40 | Training accuracy: 85.33% | Training Equal Opportunity Disparity: 0.0573\n",
      "\n",
      " | Global Training Round : 178 |\n",
      "\n"
     ]
    },
    {
     "name": "stderr",
     "output_type": "stream",
     "text": [
      "\n",
      "\n",
      " 59%|█████▉    | 178/300 [00:39<00:27,  4.42it/s]\u001b[A\u001b[A"
     ]
    },
    {
     "name": "stdout",
     "output_type": "stream",
     "text": [
      "Accuracy loss: 40.61 | fairness loss 129.43 | Equal Opportunity Disparity = 0.06\n",
      " \n",
      "Avg Training Stats after 178 global rounds:\n",
      "Training loss: 0.40 | Training accuracy: 85.37% | Training Equal Opportunity Disparity: 0.0579\n",
      "\n",
      " | Global Training Round : 179 |\n",
      "\n"
     ]
    },
    {
     "name": "stderr",
     "output_type": "stream",
     "text": [
      "\n",
      "\n",
      " 60%|█████▉    | 179/300 [00:39<00:27,  4.38it/s]\u001b[A\u001b[A"
     ]
    },
    {
     "name": "stdout",
     "output_type": "stream",
     "text": [
      "Accuracy loss: 40.70 | fairness loss 122.28 | Equal Opportunity Disparity = 0.06\n",
      " \n",
      "Avg Training Stats after 179 global rounds:\n",
      "Training loss: 0.40 | Training accuracy: 85.30% | Training Equal Opportunity Disparity: 0.0585\n",
      "\n",
      " | Global Training Round : 180 |\n",
      "\n"
     ]
    },
    {
     "name": "stderr",
     "output_type": "stream",
     "text": [
      "\n",
      "\n",
      " 60%|██████    | 180/300 [00:39<00:27,  4.39it/s]\u001b[A\u001b[A"
     ]
    },
    {
     "name": "stdout",
     "output_type": "stream",
     "text": [
      "Accuracy loss: 40.82 | fairness loss 121.39 | Equal Opportunity Disparity = 0.06\n",
      " \n",
      "Avg Training Stats after 180 global rounds:\n",
      "Training loss: 0.40 | Training accuracy: 85.22% | Training Equal Opportunity Disparity: 0.0585\n",
      "\n",
      " | Global Training Round : 181 |\n",
      "\n"
     ]
    },
    {
     "name": "stderr",
     "output_type": "stream",
     "text": [
      "\n",
      "\n",
      " 60%|██████    | 181/300 [00:40<00:27,  4.39it/s]\u001b[A\u001b[A"
     ]
    },
    {
     "name": "stdout",
     "output_type": "stream",
     "text": [
      "Accuracy loss: 40.81 | fairness loss 119.36 | Equal Opportunity Disparity = 0.06\n",
      " \n",
      "Avg Training Stats after 181 global rounds:\n",
      "Training loss: 0.40 | Training accuracy: 85.26% | Training Equal Opportunity Disparity: 0.0585\n",
      "\n",
      " | Global Training Round : 182 |\n",
      "\n"
     ]
    },
    {
     "name": "stderr",
     "output_type": "stream",
     "text": [
      "\n",
      "\n",
      " 61%|██████    | 182/300 [00:40<00:26,  4.38it/s]\u001b[A\u001b[A"
     ]
    },
    {
     "name": "stdout",
     "output_type": "stream",
     "text": [
      "Accuracy loss: 40.99 | fairness loss 120.99 | Equal Opportunity Disparity = 0.06\n",
      " \n",
      "Avg Training Stats after 182 global rounds:\n",
      "Training loss: 0.40 | Training accuracy: 85.26% | Training Equal Opportunity Disparity: 0.0560\n",
      "\n",
      " | Global Training Round : 183 |\n",
      "\n"
     ]
    },
    {
     "name": "stderr",
     "output_type": "stream",
     "text": [
      "\n",
      "\n",
      " 61%|██████    | 183/300 [00:40<00:26,  4.36it/s]\u001b[A\u001b[A"
     ]
    },
    {
     "name": "stdout",
     "output_type": "stream",
     "text": [
      "Accuracy loss: 41.01 | fairness loss 122.02 | Equal Opportunity Disparity = 0.05\n",
      " \n",
      "Avg Training Stats after 183 global rounds:\n",
      "Training loss: 0.40 | Training accuracy: 85.30% | Training Equal Opportunity Disparity: 0.0532\n",
      "\n",
      " | Global Training Round : 184 |\n",
      "\n"
     ]
    },
    {
     "name": "stderr",
     "output_type": "stream",
     "text": [
      "\n",
      "\n",
      " 61%|██████▏   | 184/300 [00:40<00:26,  4.43it/s]\u001b[A\u001b[A"
     ]
    },
    {
     "name": "stdout",
     "output_type": "stream",
     "text": [
      "Accuracy loss: 41.03 | fairness loss 121.17 | Equal Opportunity Disparity = 0.05\n",
      " \n",
      "Avg Training Stats after 184 global rounds:\n",
      "Training loss: 0.40 | Training accuracy: 85.41% | Training Equal Opportunity Disparity: 0.0505\n",
      "\n",
      " | Global Training Round : 185 |\n",
      "\n"
     ]
    },
    {
     "name": "stderr",
     "output_type": "stream",
     "text": [
      "\n",
      "\n",
      " 62%|██████▏   | 185/300 [00:41<00:25,  4.54it/s]\u001b[A\u001b[A\n",
      "\n",
      " 62%|██████▏   | 186/300 [00:41<00:24,  4.74it/s]\u001b[A\u001b[A"
     ]
    },
    {
     "name": "stdout",
     "output_type": "stream",
     "text": [
      "Accuracy loss: 40.99 | fairness loss 120.86 | Equal Opportunity Disparity = 0.05\n",
      " \n",
      "Avg Training Stats after 185 global rounds:\n",
      "Training loss: 0.40 | Training accuracy: 85.33% | Training Equal Opportunity Disparity: 0.0548\n",
      "\n",
      " | Global Training Round : 186 |\n",
      "\n",
      "Accuracy loss: 41.06 | fairness loss 120.96 | Equal Opportunity Disparity = 0.05\n",
      " \n",
      "Avg Training Stats after 186 global rounds:\n",
      "Training loss: 0.39 | Training accuracy: 85.30% | Training Equal Opportunity Disparity: 0.0548\n",
      "\n",
      " | Global Training Round : 187 |\n",
      "\n"
     ]
    },
    {
     "name": "stderr",
     "output_type": "stream",
     "text": [
      "\n",
      "\n",
      " 62%|██████▏   | 187/300 [00:41<00:23,  4.78it/s]\u001b[A\u001b[A\n",
      "\n",
      " 63%|██████▎   | 188/300 [00:41<00:22,  4.91it/s]\u001b[A\u001b[A"
     ]
    },
    {
     "name": "stdout",
     "output_type": "stream",
     "text": [
      "Accuracy loss: 40.95 | fairness loss 125.69 | Equal Opportunity Disparity = 0.06\n",
      " \n",
      "Avg Training Stats after 187 global rounds:\n",
      "Training loss: 0.39 | Training accuracy: 85.30% | Training Equal Opportunity Disparity: 0.0554\n",
      "\n",
      " | Global Training Round : 188 |\n",
      "\n",
      "Accuracy loss: 40.94 | fairness loss 126.43 | Equal Opportunity Disparity = 0.06\n",
      " \n",
      "Avg Training Stats after 188 global rounds:\n",
      "Training loss: 0.39 | Training accuracy: 85.26% | Training Equal Opportunity Disparity: 0.0554\n",
      "\n",
      " | Global Training Round : 189 |\n",
      "\n"
     ]
    },
    {
     "name": "stderr",
     "output_type": "stream",
     "text": [
      "\n",
      "\n",
      " 63%|██████▎   | 189/300 [00:41<00:22,  4.84it/s]\u001b[A\u001b[A"
     ]
    },
    {
     "name": "stdout",
     "output_type": "stream",
     "text": [
      "Accuracy loss: 41.10 | fairness loss 122.52 | Equal Opportunity Disparity = 0.05\n",
      " \n",
      "Avg Training Stats after 189 global rounds:\n",
      "Training loss: 0.39 | Training accuracy: 85.26% | Training Equal Opportunity Disparity: 0.0499\n",
      "\n",
      " | Global Training Round : 190 |\n",
      "\n"
     ]
    },
    {
     "name": "stderr",
     "output_type": "stream",
     "text": [
      "\n",
      "\n",
      " 63%|██████▎   | 190/300 [00:42<00:24,  4.53it/s]\u001b[A\u001b[A"
     ]
    },
    {
     "name": "stdout",
     "output_type": "stream",
     "text": [
      "Accuracy loss: 41.12 | fairness loss 124.95 | Equal Opportunity Disparity = 0.05\n",
      " \n",
      "Avg Training Stats after 190 global rounds:\n",
      "Training loss: 0.39 | Training accuracy: 85.26% | Training Equal Opportunity Disparity: 0.0505\n",
      "\n",
      " | Global Training Round : 191 |\n",
      "\n"
     ]
    },
    {
     "name": "stderr",
     "output_type": "stream",
     "text": [
      "\n",
      "\n",
      " 64%|██████▎   | 191/300 [00:42<00:23,  4.56it/s]\u001b[A\u001b[A"
     ]
    },
    {
     "name": "stdout",
     "output_type": "stream",
     "text": [
      "Accuracy loss: 41.09 | fairness loss 123.34 | Equal Opportunity Disparity = 0.05\n",
      " \n",
      "Avg Training Stats after 191 global rounds:\n",
      "Training loss: 0.39 | Training accuracy: 85.30% | Training Equal Opportunity Disparity: 0.0505\n",
      "\n",
      " | Global Training Round : 192 |\n",
      "\n"
     ]
    },
    {
     "name": "stderr",
     "output_type": "stream",
     "text": [
      "\n",
      "\n",
      " 64%|██████▍   | 192/300 [00:42<00:23,  4.53it/s]\u001b[A\u001b[A"
     ]
    },
    {
     "name": "stdout",
     "output_type": "stream",
     "text": [
      "Accuracy loss: 41.08 | fairness loss 123.49 | Equal Opportunity Disparity = 0.05\n",
      " \n",
      "Avg Training Stats after 192 global rounds:\n",
      "Training loss: 0.39 | Training accuracy: 85.30% | Training Equal Opportunity Disparity: 0.0511\n",
      "\n",
      " | Global Training Round : 193 |\n",
      "\n"
     ]
    },
    {
     "name": "stderr",
     "output_type": "stream",
     "text": [
      "\n",
      "\n",
      " 64%|██████▍   | 193/300 [00:42<00:23,  4.53it/s]\u001b[A\u001b[A\n",
      "\n",
      " 65%|██████▍   | 194/300 [00:42<00:22,  4.74it/s]\u001b[A\u001b[A"
     ]
    },
    {
     "name": "stdout",
     "output_type": "stream",
     "text": [
      "Accuracy loss: 41.12 | fairness loss 120.70 | Equal Opportunity Disparity = 0.05\n",
      " \n",
      "Avg Training Stats after 193 global rounds:\n",
      "Training loss: 0.39 | Training accuracy: 85.41% | Training Equal Opportunity Disparity: 0.0548\n",
      "\n",
      " | Global Training Round : 194 |\n",
      "\n",
      "Accuracy loss: 41.22 | fairness loss 124.63 | Equal Opportunity Disparity = 0.05\n",
      " \n",
      "Avg Training Stats after 194 global rounds:\n",
      "Training loss: 0.39 | Training accuracy: 85.26% | Training Equal Opportunity Disparity: 0.0471\n",
      "\n",
      " | Global Training Round : 195 |\n",
      "\n"
     ]
    },
    {
     "name": "stderr",
     "output_type": "stream",
     "text": [
      "\n",
      "\n",
      " 65%|██████▌   | 195/300 [00:43<00:22,  4.66it/s]\u001b[A\u001b[A"
     ]
    },
    {
     "name": "stdout",
     "output_type": "stream",
     "text": [
      "Accuracy loss: 41.27 | fairness loss 123.42 | Equal Opportunity Disparity = 0.05\n",
      " \n",
      "Avg Training Stats after 195 global rounds:\n",
      "Training loss: 0.39 | Training accuracy: 85.22% | Training Equal Opportunity Disparity: 0.0471\n",
      "\n",
      " | Global Training Round : 196 |\n",
      "\n"
     ]
    },
    {
     "name": "stderr",
     "output_type": "stream",
     "text": [
      "\n",
      "\n",
      " 65%|██████▌   | 196/300 [00:43<00:22,  4.53it/s]\u001b[A\u001b[A\n",
      "\n",
      " 66%|██████▌   | 197/300 [00:43<00:21,  4.72it/s]\u001b[A\u001b[A"
     ]
    },
    {
     "name": "stdout",
     "output_type": "stream",
     "text": [
      "Accuracy loss: 41.23 | fairness loss 126.47 | Equal Opportunity Disparity = 0.05\n",
      " \n",
      "Avg Training Stats after 196 global rounds:\n",
      "Training loss: 0.39 | Training accuracy: 85.22% | Training Equal Opportunity Disparity: 0.0465\n",
      "\n",
      " | Global Training Round : 197 |\n",
      "\n",
      "Accuracy loss: 41.28 | fairness loss 122.00 | Equal Opportunity Disparity = 0.05\n",
      " \n",
      "Avg Training Stats after 197 global rounds:\n",
      "Training loss: 0.39 | Training accuracy: 85.41% | Training Equal Opportunity Disparity: 0.0492\n",
      "\n",
      " | Global Training Round : 198 |\n",
      "\n"
     ]
    },
    {
     "name": "stderr",
     "output_type": "stream",
     "text": [
      "\n",
      "\n",
      " 66%|██████▌   | 198/300 [00:43<00:22,  4.59it/s]\u001b[A\u001b[A"
     ]
    },
    {
     "name": "stdout",
     "output_type": "stream",
     "text": [
      "Accuracy loss: 41.16 | fairness loss 126.53 | Equal Opportunity Disparity = 0.05\n",
      " \n",
      "Avg Training Stats after 198 global rounds:\n",
      "Training loss: 0.39 | Training accuracy: 85.44% | Training Equal Opportunity Disparity: 0.0520\n",
      "\n",
      " | Global Training Round : 199 |\n",
      "\n"
     ]
    },
    {
     "name": "stderr",
     "output_type": "stream",
     "text": [
      "\n",
      "\n",
      " 66%|██████▋   | 199/300 [00:44<00:22,  4.53it/s]\u001b[A\u001b[A"
     ]
    },
    {
     "name": "stdout",
     "output_type": "stream",
     "text": [
      "Accuracy loss: 41.18 | fairness loss 128.47 | Equal Opportunity Disparity = 0.05\n",
      " \n",
      "Avg Training Stats after 199 global rounds:\n",
      "Training loss: 0.39 | Training accuracy: 85.37% | Training Equal Opportunity Disparity: 0.0492\n",
      "\n",
      " | Global Training Round : 200 |\n",
      "\n"
     ]
    },
    {
     "name": "stderr",
     "output_type": "stream",
     "text": [
      "\n",
      "\n",
      " 67%|██████▋   | 200/300 [00:44<00:25,  3.88it/s]\u001b[A\u001b[A"
     ]
    },
    {
     "name": "stdout",
     "output_type": "stream",
     "text": [
      "Accuracy loss: 41.03 | fairness loss 125.37 | Equal Opportunity Disparity = 0.05\n",
      " \n",
      "Avg Training Stats after 200 global rounds:\n",
      "Training loss: 0.39 | Training accuracy: 85.33% | Training Equal Opportunity Disparity: 0.0548\n",
      "\n",
      " | Global Training Round : 201 |\n",
      "\n"
     ]
    },
    {
     "name": "stderr",
     "output_type": "stream",
     "text": [
      "\n",
      "\n",
      " 67%|██████▋   | 201/300 [00:44<00:28,  3.50it/s]\u001b[A\u001b[A"
     ]
    },
    {
     "name": "stdout",
     "output_type": "stream",
     "text": [
      "Accuracy loss: 41.18 | fairness loss 126.07 | Equal Opportunity Disparity = 0.05\n",
      " \n",
      "Avg Training Stats after 201 global rounds:\n",
      "Training loss: 0.39 | Training accuracy: 85.33% | Training Equal Opportunity Disparity: 0.0535\n",
      "\n",
      " | Global Training Round : 202 |\n",
      "\n"
     ]
    },
    {
     "name": "stderr",
     "output_type": "stream",
     "text": [
      "\n",
      "\n",
      " 67%|██████▋   | 202/300 [00:45<00:26,  3.76it/s]\u001b[A\u001b[A"
     ]
    },
    {
     "name": "stdout",
     "output_type": "stream",
     "text": [
      "Accuracy loss: 41.53 | fairness loss 120.77 | Equal Opportunity Disparity = 0.04\n",
      " \n",
      "Avg Training Stats after 202 global rounds:\n",
      "Training loss: 0.39 | Training accuracy: 85.26% | Training Equal Opportunity Disparity: 0.0418\n",
      "\n",
      " | Global Training Round : 203 |\n",
      "\n"
     ]
    },
    {
     "name": "stderr",
     "output_type": "stream",
     "text": [
      "\n",
      "\n",
      " 68%|██████▊   | 203/300 [00:45<00:30,  3.22it/s]\u001b[A\u001b[A"
     ]
    },
    {
     "name": "stdout",
     "output_type": "stream",
     "text": [
      "Accuracy loss: 41.61 | fairness loss 124.30 | Equal Opportunity Disparity = 0.04\n",
      " \n",
      "Avg Training Stats after 203 global rounds:\n",
      "Training loss: 0.39 | Training accuracy: 85.22% | Training Equal Opportunity Disparity: 0.0418\n",
      "\n",
      " | Global Training Round : 204 |\n",
      "\n"
     ]
    },
    {
     "name": "stderr",
     "output_type": "stream",
     "text": [
      "\n",
      "\n",
      " 68%|██████▊   | 204/300 [00:45<00:30,  3.16it/s]\u001b[A\u001b[A"
     ]
    },
    {
     "name": "stdout",
     "output_type": "stream",
     "text": [
      "Accuracy loss: 41.55 | fairness loss 121.69 | Equal Opportunity Disparity = 0.04\n",
      " \n",
      "Avg Training Stats after 204 global rounds:\n",
      "Training loss: 0.39 | Training accuracy: 85.30% | Training Equal Opportunity Disparity: 0.0418\n",
      "\n",
      " | Global Training Round : 205 |\n",
      "\n"
     ]
    },
    {
     "name": "stderr",
     "output_type": "stream",
     "text": [
      "\n",
      "\n",
      " 68%|██████▊   | 205/300 [00:45<00:27,  3.52it/s]\u001b[A\u001b[A\n",
      "\n",
      " 69%|██████▊   | 206/300 [00:46<00:23,  3.92it/s]\u001b[A\u001b[A"
     ]
    },
    {
     "name": "stdout",
     "output_type": "stream",
     "text": [
      "Accuracy loss: 41.46 | fairness loss 123.88 | Equal Opportunity Disparity = 0.04\n",
      " \n",
      "Avg Training Stats after 205 global rounds:\n",
      "Training loss: 0.39 | Training accuracy: 85.30% | Training Equal Opportunity Disparity: 0.0446\n",
      "\n",
      " | Global Training Round : 206 |\n",
      "\n",
      "Accuracy loss: 41.48 | fairness loss 124.12 | Equal Opportunity Disparity = 0.04\n",
      " \n",
      "Avg Training Stats after 206 global rounds:\n",
      "Training loss: 0.39 | Training accuracy: 85.33% | Training Equal Opportunity Disparity: 0.0418\n",
      "\n",
      " | Global Training Round : 207 |\n",
      "\n"
     ]
    },
    {
     "name": "stderr",
     "output_type": "stream",
     "text": [
      "\n",
      "\n",
      " 69%|██████▉   | 207/300 [00:46<00:22,  4.20it/s]\u001b[A\u001b[A\n",
      "\n",
      " 69%|██████▉   | 208/300 [00:46<00:20,  4.51it/s]\u001b[A\u001b[A"
     ]
    },
    {
     "name": "stdout",
     "output_type": "stream",
     "text": [
      "Accuracy loss: 41.52 | fairness loss 122.34 | Equal Opportunity Disparity = 0.04\n",
      " \n",
      "Avg Training Stats after 207 global rounds:\n",
      "Training loss: 0.39 | Training accuracy: 85.26% | Training Equal Opportunity Disparity: 0.0446\n",
      "\n",
      " | Global Training Round : 208 |\n",
      "\n",
      "Accuracy loss: 41.47 | fairness loss 124.44 | Equal Opportunity Disparity = 0.04\n",
      " \n",
      "Avg Training Stats after 208 global rounds:\n",
      "Training loss: 0.39 | Training accuracy: 85.37% | Training Equal Opportunity Disparity: 0.0446\n",
      "\n",
      " | Global Training Round : 209 |\n",
      "\n"
     ]
    },
    {
     "name": "stderr",
     "output_type": "stream",
     "text": [
      "\n",
      "\n",
      " 70%|██████▉   | 209/300 [00:46<00:19,  4.63it/s]\u001b[A\u001b[A\n",
      "\n",
      " 70%|███████   | 210/300 [00:46<00:18,  4.77it/s]\u001b[A\u001b[A"
     ]
    },
    {
     "name": "stdout",
     "output_type": "stream",
     "text": [
      "Accuracy loss: 41.49 | fairness loss 123.96 | Equal Opportunity Disparity = 0.04\n",
      " \n",
      "Avg Training Stats after 209 global rounds:\n",
      "Training loss: 0.39 | Training accuracy: 85.33% | Training Equal Opportunity Disparity: 0.0446\n",
      "\n",
      " | Global Training Round : 210 |\n",
      "\n",
      "Accuracy loss: 41.45 | fairness loss 124.40 | Equal Opportunity Disparity = 0.04\n",
      " \n",
      "Avg Training Stats after 210 global rounds:\n",
      "Training loss: 0.39 | Training accuracy: 85.37% | Training Equal Opportunity Disparity: 0.0446\n",
      "\n",
      " | Global Training Round : 211 |\n",
      "\n"
     ]
    },
    {
     "name": "stderr",
     "output_type": "stream",
     "text": [
      "\n",
      "\n",
      " 70%|███████   | 211/300 [00:47<00:18,  4.90it/s]\u001b[A\u001b[A\n",
      "\n",
      " 71%|███████   | 212/300 [00:47<00:17,  5.00it/s]\u001b[A\u001b[A"
     ]
    },
    {
     "name": "stdout",
     "output_type": "stream",
     "text": [
      "Accuracy loss: 41.53 | fairness loss 124.77 | Equal Opportunity Disparity = 0.04\n",
      " \n",
      "Avg Training Stats after 211 global rounds:\n",
      "Training loss: 0.39 | Training accuracy: 85.30% | Training Equal Opportunity Disparity: 0.0446\n",
      "\n",
      " | Global Training Round : 212 |\n",
      "\n",
      "Accuracy loss: 41.55 | fairness loss 123.29 | Equal Opportunity Disparity = 0.05\n",
      " \n",
      "Avg Training Stats after 212 global rounds:\n",
      "Training loss: 0.39 | Training accuracy: 85.37% | Training Equal Opportunity Disparity: 0.0452\n",
      "\n",
      " | Global Training Round : 213 |\n",
      "\n"
     ]
    },
    {
     "name": "stderr",
     "output_type": "stream",
     "text": [
      "\n",
      "\n",
      " 71%|███████   | 213/300 [00:47<00:17,  5.05it/s]\u001b[A\u001b[A"
     ]
    },
    {
     "name": "stdout",
     "output_type": "stream",
     "text": [
      "Accuracy loss: 41.74 | fairness loss 120.98 | Equal Opportunity Disparity = 0.04\n",
      " \n",
      "Avg Training Stats after 213 global rounds:\n",
      "Training loss: 0.39 | Training accuracy: 85.30% | Training Equal Opportunity Disparity: 0.0418\n",
      "\n",
      " | Global Training Round : 214 |\n",
      "\n"
     ]
    },
    {
     "name": "stderr",
     "output_type": "stream",
     "text": [
      "\n",
      "\n",
      " 71%|███████▏  | 214/300 [00:47<00:17,  5.02it/s]\u001b[A\u001b[A"
     ]
    },
    {
     "name": "stdout",
     "output_type": "stream",
     "text": [
      "Accuracy loss: 41.69 | fairness loss 123.02 | Equal Opportunity Disparity = 0.04\n",
      " \n",
      "Avg Training Stats after 214 global rounds:\n",
      "Training loss: 0.39 | Training accuracy: 85.26% | Training Equal Opportunity Disparity: 0.0446\n",
      "\n",
      " | Global Training Round : 215 |\n",
      "\n",
      "Accuracy loss: 41.65 | fairness loss 121.90 | Equal Opportunity Disparity = 0.05\n"
     ]
    },
    {
     "name": "stderr",
     "output_type": "stream",
     "text": [
      "\n",
      "\n",
      " 72%|███████▏  | 215/300 [00:47<00:17,  4.98it/s]\u001b[A\u001b[A\n",
      "\n",
      " 72%|███████▏  | 216/300 [00:48<00:16,  5.08it/s]\u001b[A\u001b[A"
     ]
    },
    {
     "name": "stdout",
     "output_type": "stream",
     "text": [
      " \n",
      "Avg Training Stats after 215 global rounds:\n",
      "Training loss: 0.39 | Training accuracy: 85.22% | Training Equal Opportunity Disparity: 0.0452\n",
      "\n",
      " | Global Training Round : 216 |\n",
      "\n",
      "Accuracy loss: 41.72 | fairness loss 122.21 | Equal Opportunity Disparity = 0.05\n",
      " \n",
      "Avg Training Stats after 216 global rounds:\n",
      "Training loss: 0.39 | Training accuracy: 85.22% | Training Equal Opportunity Disparity: 0.0452\n",
      "\n",
      " | Global Training Round : 217 |\n",
      "\n"
     ]
    },
    {
     "name": "stderr",
     "output_type": "stream",
     "text": [
      "\n",
      "\n",
      " 72%|███████▏  | 217/300 [00:48<00:16,  5.04it/s]\u001b[A\u001b[A"
     ]
    },
    {
     "name": "stdout",
     "output_type": "stream",
     "text": [
      "Accuracy loss: 41.73 | fairness loss 123.38 | Equal Opportunity Disparity = 0.05\n",
      " \n",
      "Avg Training Stats after 217 global rounds:\n",
      "Training loss: 0.39 | Training accuracy: 85.22% | Training Equal Opportunity Disparity: 0.0452\n",
      "\n",
      " | Global Training Round : 218 |\n",
      "\n"
     ]
    },
    {
     "name": "stderr",
     "output_type": "stream",
     "text": [
      "\n",
      "\n",
      " 73%|███████▎  | 218/300 [00:48<00:16,  5.01it/s]\u001b[A\u001b[A\n",
      "\n",
      " 73%|███████▎  | 219/300 [00:48<00:16,  5.05it/s]\u001b[A\u001b[A"
     ]
    },
    {
     "name": "stdout",
     "output_type": "stream",
     "text": [
      "Accuracy loss: 41.63 | fairness loss 123.11 | Equal Opportunity Disparity = 0.05\n",
      " \n",
      "Avg Training Stats after 218 global rounds:\n",
      "Training loss: 0.39 | Training accuracy: 85.33% | Training Equal Opportunity Disparity: 0.0452\n",
      "\n",
      " | Global Training Round : 219 |\n",
      "\n",
      "Accuracy loss: 41.59 | fairness loss 130.64 | Equal Opportunity Disparity = 0.04\n",
      " \n",
      "Avg Training Stats after 219 global rounds:\n",
      "Training loss: 0.39 | Training accuracy: 85.37% | Training Equal Opportunity Disparity: 0.0446\n",
      "\n",
      " | Global Training Round : 220 |\n",
      "\n"
     ]
    },
    {
     "name": "stderr",
     "output_type": "stream",
     "text": [
      "\n",
      "\n",
      " 73%|███████▎  | 220/300 [00:48<00:16,  5.00it/s]\u001b[A\u001b[A"
     ]
    },
    {
     "name": "stdout",
     "output_type": "stream",
     "text": [
      "Accuracy loss: 41.44 | fairness loss 126.41 | Equal Opportunity Disparity = 0.05\n",
      " \n",
      "Avg Training Stats after 220 global rounds:\n",
      "Training loss: 0.39 | Training accuracy: 85.48% | Training Equal Opportunity Disparity: 0.0480\n",
      "\n",
      " | Global Training Round : 221 |\n",
      "\n"
     ]
    },
    {
     "name": "stderr",
     "output_type": "stream",
     "text": [
      "\n",
      "\n",
      " 74%|███████▎  | 221/300 [00:49<00:16,  4.86it/s]\u001b[A\u001b[A"
     ]
    },
    {
     "name": "stdout",
     "output_type": "stream",
     "text": [
      "Accuracy loss: 41.50 | fairness loss 127.75 | Equal Opportunity Disparity = 0.04\n",
      " \n",
      "Avg Training Stats after 221 global rounds:\n",
      "Training loss: 0.39 | Training accuracy: 85.44% | Training Equal Opportunity Disparity: 0.0446\n",
      "\n",
      " | Global Training Round : 222 |\n",
      "\n",
      "Accuracy loss: 41.57 | fairness loss 127.16 | Equal Opportunity Disparity = 0.05\n"
     ]
    },
    {
     "name": "stderr",
     "output_type": "stream",
     "text": [
      "\n",
      "\n",
      " 74%|███████▍  | 222/300 [00:49<00:15,  4.90it/s]\u001b[A\u001b[A\n",
      "\n",
      " 74%|███████▍  | 223/300 [00:49<00:15,  5.04it/s]\u001b[A\u001b[A"
     ]
    },
    {
     "name": "stdout",
     "output_type": "stream",
     "text": [
      " \n",
      "Avg Training Stats after 222 global rounds:\n",
      "Training loss: 0.39 | Training accuracy: 85.44% | Training Equal Opportunity Disparity: 0.0452\n",
      "\n",
      " | Global Training Round : 223 |\n",
      "\n",
      "Accuracy loss: 41.63 | fairness loss 125.02 | Equal Opportunity Disparity = 0.04\n",
      " \n",
      "Avg Training Stats after 223 global rounds:\n",
      "Training loss: 0.39 | Training accuracy: 85.37% | Training Equal Opportunity Disparity: 0.0446\n",
      "\n",
      " | Global Training Round : 224 |\n",
      "\n"
     ]
    },
    {
     "name": "stderr",
     "output_type": "stream",
     "text": [
      "\n",
      "\n",
      " 75%|███████▍  | 224/300 [00:49<00:14,  5.16it/s]\u001b[A\u001b[A\n",
      "\n",
      " 75%|███████▌  | 225/300 [00:49<00:14,  5.26it/s]\u001b[A\u001b[A"
     ]
    },
    {
     "name": "stdout",
     "output_type": "stream",
     "text": [
      "Accuracy loss: 41.71 | fairness loss 128.21 | Equal Opportunity Disparity = 0.04\n",
      " \n",
      "Avg Training Stats after 224 global rounds:\n",
      "Training loss: 0.39 | Training accuracy: 85.41% | Training Equal Opportunity Disparity: 0.0446\n",
      "\n",
      " | Global Training Round : 225 |\n",
      "\n",
      "Accuracy loss: 41.89 | fairness loss 125.61 | Equal Opportunity Disparity = 0.04\n",
      " \n",
      "Avg Training Stats after 225 global rounds:\n",
      "Training loss: 0.39 | Training accuracy: 85.26% | Training Equal Opportunity Disparity: 0.0418\n",
      "\n",
      " | Global Training Round : 226 |\n",
      "\n"
     ]
    },
    {
     "name": "stderr",
     "output_type": "stream",
     "text": [
      "\n",
      "\n",
      " 75%|███████▌  | 226/300 [00:50<00:14,  5.11it/s]\u001b[A\u001b[A\n",
      "\n"
     ]
    },
    {
     "name": "stdout",
     "output_type": "stream",
     "text": [
      "Accuracy loss: 41.96 | fairness loss 125.86 | Equal Opportunity Disparity = 0.04\n",
      " \n",
      "Avg Training Stats after 226 global rounds:\n",
      "Training loss: 0.39 | Training accuracy: 85.30% | Training Equal Opportunity Disparity: 0.0406\n",
      "\n",
      " | Global Training Round : 227 |\n",
      "\n",
      "Accuracy loss: 41.93 | fairness loss 121.23 | Equal Opportunity Disparity = 0.04\n",
      " \n",
      "Avg Training Stats after 227 global rounds:\n",
      "Training loss: 0.39 | Training accuracy: 85.30% | Training Equal Opportunity Disparity: 0.0418\n"
     ]
    },
    {
     "name": "stderr",
     "output_type": "stream",
     "text": [
      " 76%|███████▌  | 227/300 [00:50<00:14,  5.09it/s]\u001b[A\u001b[A\n",
      "\n",
      " 76%|███████▌  | 228/300 [00:50<00:14,  5.12it/s]\u001b[A\u001b[A"
     ]
    },
    {
     "name": "stdout",
     "output_type": "stream",
     "text": [
      "\n",
      " | Global Training Round : 228 |\n",
      "\n",
      "Accuracy loss: 41.76 | fairness loss 122.16 | Equal Opportunity Disparity = 0.05\n",
      " \n",
      "Avg Training Stats after 228 global rounds:\n",
      "Training loss: 0.39 | Training accuracy: 85.41% | Training Equal Opportunity Disparity: 0.0461\n",
      "\n",
      " | Global Training Round : 229 |\n",
      "\n"
     ]
    },
    {
     "name": "stderr",
     "output_type": "stream",
     "text": [
      "\n",
      "\n",
      " 76%|███████▋  | 229/300 [00:50<00:13,  5.20it/s]\u001b[A\u001b[A\n",
      "\n",
      " 77%|███████▋  | 230/300 [00:50<00:13,  5.18it/s]\u001b[A\u001b[A"
     ]
    },
    {
     "name": "stdout",
     "output_type": "stream",
     "text": [
      "Accuracy loss: 41.96 | fairness loss 129.35 | Equal Opportunity Disparity = 0.04\n",
      " \n",
      "Avg Training Stats after 229 global rounds:\n",
      "Training loss: 0.39 | Training accuracy: 85.33% | Training Equal Opportunity Disparity: 0.0418\n",
      "\n",
      " | Global Training Round : 230 |\n",
      "\n",
      "Accuracy loss: 41.91 | fairness loss 125.53 | Equal Opportunity Disparity = 0.04\n",
      " \n",
      "Avg Training Stats after 230 global rounds:\n",
      "Training loss: 0.39 | Training accuracy: 85.30% | Training Equal Opportunity Disparity: 0.0418\n",
      "\n",
      " | Global Training Round : 231 |\n",
      "\n"
     ]
    },
    {
     "name": "stderr",
     "output_type": "stream",
     "text": [
      "\n",
      "\n",
      " 77%|███████▋  | 231/300 [00:51<00:13,  5.13it/s]\u001b[A\u001b[A\n",
      "\n",
      " 77%|███████▋  | 232/300 [00:51<00:13,  5.16it/s]\u001b[A\u001b[A"
     ]
    },
    {
     "name": "stdout",
     "output_type": "stream",
     "text": [
      "Accuracy loss: 41.88 | fairness loss 124.57 | Equal Opportunity Disparity = 0.04\n",
      " \n",
      "Avg Training Stats after 231 global rounds:\n",
      "Training loss: 0.39 | Training accuracy: 85.33% | Training Equal Opportunity Disparity: 0.0418\n",
      "\n",
      " | Global Training Round : 232 |\n",
      "\n",
      "Accuracy loss: 41.88 | fairness loss 120.28 | Equal Opportunity Disparity = 0.04\n",
      " \n",
      "Avg Training Stats after 232 global rounds:\n",
      "Training loss: 0.39 | Training accuracy: 85.37% | Training Equal Opportunity Disparity: 0.0412\n",
      "\n",
      " | Global Training Round : 233 |\n",
      "\n"
     ]
    },
    {
     "name": "stderr",
     "output_type": "stream",
     "text": [
      "\n",
      "\n",
      " 78%|███████▊  | 233/300 [00:51<00:13,  5.12it/s]\u001b[A\u001b[A\n",
      "\n",
      " 78%|███████▊  | 234/300 [00:51<00:12,  5.24it/s]\u001b[A\u001b[A"
     ]
    },
    {
     "name": "stdout",
     "output_type": "stream",
     "text": [
      "Accuracy loss: 41.84 | fairness loss 126.24 | Equal Opportunity Disparity = 0.04\n",
      " \n",
      "Avg Training Stats after 233 global rounds:\n",
      "Training loss: 0.39 | Training accuracy: 85.33% | Training Equal Opportunity Disparity: 0.0446\n",
      "\n",
      " | Global Training Round : 234 |\n",
      "\n",
      "Accuracy loss: 41.84 | fairness loss 124.10 | Equal Opportunity Disparity = 0.04\n",
      " \n",
      "Avg Training Stats after 234 global rounds:\n",
      "Training loss: 0.39 | Training accuracy: 85.37% | Training Equal Opportunity Disparity: 0.0418\n",
      "\n",
      " | Global Training Round : 235 |\n",
      "\n"
     ]
    },
    {
     "name": "stderr",
     "output_type": "stream",
     "text": [
      "\n",
      "\n",
      " 78%|███████▊  | 235/300 [00:51<00:12,  5.21it/s]\u001b[A\u001b[A"
     ]
    },
    {
     "name": "stdout",
     "output_type": "stream",
     "text": [
      "Accuracy loss: 41.79 | fairness loss 127.20 | Equal Opportunity Disparity = 0.04\n",
      " \n",
      "Avg Training Stats after 235 global rounds:\n",
      "Training loss: 0.39 | Training accuracy: 85.30% | Training Equal Opportunity Disparity: 0.0446\n",
      "\n",
      " | Global Training Round : 236 |\n",
      "\n",
      "Accuracy loss: 41.79 | fairness loss 125.27 | Equal Opportunity Disparity = 0.04\n"
     ]
    },
    {
     "name": "stderr",
     "output_type": "stream",
     "text": [
      "\n",
      "\n",
      " 79%|███████▊  | 236/300 [00:52<00:12,  5.14it/s]\u001b[A\u001b[A\n",
      "\n",
      " 79%|███████▉  | 237/300 [00:52<00:12,  5.16it/s]\u001b[A\u001b[A"
     ]
    },
    {
     "name": "stdout",
     "output_type": "stream",
     "text": [
      " \n",
      "Avg Training Stats after 236 global rounds:\n",
      "Training loss: 0.39 | Training accuracy: 85.26% | Training Equal Opportunity Disparity: 0.0418\n",
      "\n",
      " | Global Training Round : 237 |\n",
      "\n",
      "Accuracy loss: 41.90 | fairness loss 125.24 | Equal Opportunity Disparity = 0.04\n",
      " \n",
      "Avg Training Stats after 237 global rounds:\n",
      "Training loss: 0.39 | Training accuracy: 85.19% | Training Equal Opportunity Disparity: 0.0391\n",
      "\n",
      " | Global Training Round : 238 |\n",
      "\n"
     ]
    },
    {
     "name": "stderr",
     "output_type": "stream",
     "text": [
      "\n",
      "\n",
      " 79%|███████▉  | 238/300 [00:52<00:11,  5.22it/s]\u001b[A\u001b[A\n",
      "\n",
      " 80%|███████▉  | 239/300 [00:52<00:11,  5.26it/s]\u001b[A\u001b[A"
     ]
    },
    {
     "name": "stdout",
     "output_type": "stream",
     "text": [
      "Accuracy loss: 41.87 | fairness loss 127.28 | Equal Opportunity Disparity = 0.04\n",
      " \n",
      "Avg Training Stats after 238 global rounds:\n",
      "Training loss: 0.39 | Training accuracy: 85.19% | Training Equal Opportunity Disparity: 0.0391\n",
      "\n",
      " | Global Training Round : 239 |\n",
      "\n",
      "Accuracy loss: 41.83 | fairness loss 128.63 | Equal Opportunity Disparity = 0.04\n",
      " \n",
      "Avg Training Stats after 239 global rounds:\n",
      "Training loss: 0.39 | Training accuracy: 85.15% | Training Equal Opportunity Disparity: 0.0418\n",
      "\n",
      " | Global Training Round : 240 |\n",
      "\n"
     ]
    },
    {
     "name": "stderr",
     "output_type": "stream",
     "text": [
      "\n",
      "\n",
      " 80%|████████  | 240/300 [00:52<00:11,  5.24it/s]\u001b[A\u001b[A\n",
      "\n",
      " 80%|████████  | 241/300 [00:52<00:11,  5.30it/s]\u001b[A\u001b[A"
     ]
    },
    {
     "name": "stdout",
     "output_type": "stream",
     "text": [
      "Accuracy loss: 41.87 | fairness loss 129.57 | Equal Opportunity Disparity = 0.04\n",
      " \n",
      "Avg Training Stats after 240 global rounds:\n",
      "Training loss: 0.39 | Training accuracy: 85.15% | Training Equal Opportunity Disparity: 0.0418\n",
      "\n",
      " | Global Training Round : 241 |\n",
      "\n",
      "Accuracy loss: 41.89 | fairness loss 126.03 | Equal Opportunity Disparity = 0.04\n",
      " \n",
      "Avg Training Stats after 241 global rounds:\n",
      "Training loss: 0.39 | Training accuracy: 85.26% | Training Equal Opportunity Disparity: 0.0418\n",
      "\n",
      " | Global Training Round : 242 |\n",
      "\n"
     ]
    },
    {
     "name": "stderr",
     "output_type": "stream",
     "text": [
      "\n",
      "\n",
      " 81%|████████  | 242/300 [00:53<00:11,  5.24it/s]\u001b[A\u001b[A\n",
      "\n",
      " 81%|████████  | 243/300 [00:53<00:10,  5.32it/s]\u001b[A\u001b[A"
     ]
    },
    {
     "name": "stdout",
     "output_type": "stream",
     "text": [
      "Accuracy loss: 41.94 | fairness loss 123.04 | Equal Opportunity Disparity = 0.04\n",
      " \n",
      "Avg Training Stats after 242 global rounds:\n",
      "Training loss: 0.39 | Training accuracy: 85.22% | Training Equal Opportunity Disparity: 0.0391\n",
      "\n",
      " | Global Training Round : 243 |\n",
      "\n",
      "Accuracy loss: 42.02 | fairness loss 126.86 | Equal Opportunity Disparity = 0.04\n",
      " \n",
      "Avg Training Stats after 243 global rounds:\n",
      "Training loss: 0.38 | Training accuracy: 85.15% | Training Equal Opportunity Disparity: 0.0391\n",
      "\n",
      " | Global Training Round : 244 |\n",
      "\n"
     ]
    },
    {
     "name": "stderr",
     "output_type": "stream",
     "text": [
      "\n",
      "\n",
      " 81%|████████▏ | 244/300 [00:53<00:10,  5.38it/s]\u001b[A\u001b[A\n",
      "\n",
      " 82%|████████▏ | 245/300 [00:53<00:10,  5.44it/s]\u001b[A\u001b[A"
     ]
    },
    {
     "name": "stdout",
     "output_type": "stream",
     "text": [
      "Accuracy loss: 41.90 | fairness loss 130.49 | Equal Opportunity Disparity = 0.04\n",
      " \n",
      "Avg Training Stats after 244 global rounds:\n",
      "Training loss: 0.38 | Training accuracy: 85.19% | Training Equal Opportunity Disparity: 0.0418\n",
      "\n",
      " | Global Training Round : 245 |\n",
      "\n",
      "Accuracy loss: 41.92 | fairness loss 131.20 | Equal Opportunity Disparity = 0.04\n",
      " \n",
      "Avg Training Stats after 245 global rounds:\n",
      "Training loss: 0.38 | Training accuracy: 85.33% | Training Equal Opportunity Disparity: 0.0418\n",
      "\n",
      " | Global Training Round : 246 |\n",
      "\n"
     ]
    },
    {
     "name": "stderr",
     "output_type": "stream",
     "text": [
      "\n",
      "\n",
      " 82%|████████▏ | 246/300 [00:53<00:10,  5.32it/s]\u001b[A\u001b[A\n",
      "\n",
      " 82%|████████▏ | 247/300 [00:54<00:09,  5.30it/s]\u001b[A\u001b[A"
     ]
    },
    {
     "name": "stdout",
     "output_type": "stream",
     "text": [
      "Accuracy loss: 42.19 | fairness loss 129.24 | Equal Opportunity Disparity = 0.04\n",
      " \n",
      "Avg Training Stats after 246 global rounds:\n",
      "Training loss: 0.38 | Training accuracy: 85.19% | Training Equal Opportunity Disparity: 0.0391\n",
      "\n",
      " | Global Training Round : 247 |\n",
      "\n",
      "Accuracy loss: 42.12 | fairness loss 126.11 | Equal Opportunity Disparity = 0.04\n",
      " \n",
      "Avg Training Stats after 247 global rounds:\n",
      "Training loss: 0.38 | Training accuracy: 85.26% | Training Equal Opportunity Disparity: 0.0391\n",
      "\n",
      " | Global Training Round : 248 |\n",
      "\n"
     ]
    },
    {
     "name": "stderr",
     "output_type": "stream",
     "text": [
      "\n",
      "\n",
      " 83%|████████▎ | 248/300 [00:54<00:09,  5.34it/s]\u001b[A\u001b[A\n",
      "\n",
      " 83%|████████▎ | 249/300 [00:54<00:09,  5.38it/s]\u001b[A\u001b[A"
     ]
    },
    {
     "name": "stdout",
     "output_type": "stream",
     "text": [
      "Accuracy loss: 42.09 | fairness loss 124.57 | Equal Opportunity Disparity = 0.04\n",
      " \n",
      "Avg Training Stats after 248 global rounds:\n",
      "Training loss: 0.38 | Training accuracy: 85.22% | Training Equal Opportunity Disparity: 0.0391\n",
      "\n",
      " | Global Training Round : 249 |\n",
      "\n",
      "Accuracy loss: 42.04 | fairness loss 123.13 | Equal Opportunity Disparity = 0.04\n",
      " \n",
      "Avg Training Stats after 249 global rounds:\n",
      "Training loss: 0.38 | Training accuracy: 85.30% | Training Equal Opportunity Disparity: 0.0391\n",
      "\n",
      " | Global Training Round : 250 |\n",
      "\n"
     ]
    },
    {
     "name": "stderr",
     "output_type": "stream",
     "text": [
      "\n",
      "\n",
      " 83%|████████▎ | 250/300 [00:54<00:09,  5.41it/s]\u001b[A\u001b[A\n",
      "\n",
      " 84%|████████▎ | 251/300 [00:54<00:09,  5.44it/s]\u001b[A\u001b[A"
     ]
    },
    {
     "name": "stdout",
     "output_type": "stream",
     "text": [
      "Accuracy loss: 41.97 | fairness loss 128.63 | Equal Opportunity Disparity = 0.04\n",
      " \n",
      "Avg Training Stats after 250 global rounds:\n",
      "Training loss: 0.38 | Training accuracy: 85.26% | Training Equal Opportunity Disparity: 0.0406\n",
      "\n",
      " | Global Training Round : 251 |\n",
      "\n",
      "Accuracy loss: 41.94 | fairness loss 130.37 | Equal Opportunity Disparity = 0.04\n",
      " \n",
      "Avg Training Stats after 251 global rounds:\n",
      "Training loss: 0.38 | Training accuracy: 85.33% | Training Equal Opportunity Disparity: 0.0412\n",
      "\n",
      " | Global Training Round : 252 |\n",
      "\n"
     ]
    },
    {
     "name": "stderr",
     "output_type": "stream",
     "text": [
      "\n",
      "\n",
      " 84%|████████▍ | 252/300 [00:55<00:08,  5.39it/s]\u001b[A\u001b[A\n",
      "\n",
      " 84%|████████▍ | 253/300 [00:55<00:08,  5.44it/s]\u001b[A\u001b[A"
     ]
    },
    {
     "name": "stdout",
     "output_type": "stream",
     "text": [
      "Accuracy loss: 41.99 | fairness loss 132.44 | Equal Opportunity Disparity = 0.04\n",
      " \n",
      "Avg Training Stats after 252 global rounds:\n",
      "Training loss: 0.38 | Training accuracy: 85.22% | Training Equal Opportunity Disparity: 0.0391\n",
      "\n",
      " | Global Training Round : 253 |\n",
      "\n",
      "Accuracy loss: 41.99 | fairness loss 130.17 | Equal Opportunity Disparity = 0.04\n",
      " \n",
      "Avg Training Stats after 253 global rounds:\n",
      "Training loss: 0.38 | Training accuracy: 85.22% | Training Equal Opportunity Disparity: 0.0391\n",
      "\n",
      " | Global Training Round : 254 |\n",
      "\n"
     ]
    },
    {
     "name": "stderr",
     "output_type": "stream",
     "text": [
      "\n",
      "\n",
      " 85%|████████▍ | 254/300 [00:55<00:09,  4.79it/s]\u001b[A\u001b[A"
     ]
    },
    {
     "name": "stdout",
     "output_type": "stream",
     "text": [
      "Accuracy loss: 42.09 | fairness loss 125.54 | Equal Opportunity Disparity = 0.04\n",
      " \n",
      "Avg Training Stats after 254 global rounds:\n",
      "Training loss: 0.38 | Training accuracy: 85.19% | Training Equal Opportunity Disparity: 0.0384\n",
      "\n",
      " | Global Training Round : 255 |\n",
      "\n"
     ]
    },
    {
     "name": "stderr",
     "output_type": "stream",
     "text": [
      "\n",
      "\n",
      " 85%|████████▌ | 255/300 [00:55<00:09,  4.68it/s]\u001b[A\u001b[A"
     ]
    },
    {
     "name": "stdout",
     "output_type": "stream",
     "text": [
      "Accuracy loss: 42.13 | fairness loss 127.70 | Equal Opportunity Disparity = 0.04\n",
      " \n",
      "Avg Training Stats after 255 global rounds:\n",
      "Training loss: 0.38 | Training accuracy: 85.19% | Training Equal Opportunity Disparity: 0.0391\n",
      "\n",
      " | Global Training Round : 256 |\n",
      "\n"
     ]
    },
    {
     "name": "stderr",
     "output_type": "stream",
     "text": [
      "\n",
      "\n",
      " 85%|████████▌ | 256/300 [00:56<00:11,  3.85it/s]\u001b[A\u001b[A"
     ]
    },
    {
     "name": "stdout",
     "output_type": "stream",
     "text": [
      "Accuracy loss: 42.08 | fairness loss 127.06 | Equal Opportunity Disparity = 0.04\n",
      " \n",
      "Avg Training Stats after 256 global rounds:\n",
      "Training loss: 0.38 | Training accuracy: 85.22% | Training Equal Opportunity Disparity: 0.0391\n",
      "\n",
      " | Global Training Round : 257 |\n",
      "\n"
     ]
    },
    {
     "name": "stderr",
     "output_type": "stream",
     "text": [
      "\n",
      "\n",
      " 86%|████████▌ | 257/300 [00:56<00:10,  3.96it/s]\u001b[A\u001b[A\n",
      "\n",
      " 86%|████████▌ | 258/300 [00:56<00:09,  4.29it/s]\u001b[A\u001b[A"
     ]
    },
    {
     "name": "stdout",
     "output_type": "stream",
     "text": [
      "Accuracy loss: 42.17 | fairness loss 129.41 | Equal Opportunity Disparity = 0.04\n",
      " \n",
      "Avg Training Stats after 257 global rounds:\n",
      "Training loss: 0.38 | Training accuracy: 85.19% | Training Equal Opportunity Disparity: 0.0391\n",
      "\n",
      " | Global Training Round : 258 |\n",
      "\n",
      "Accuracy loss: 42.15 | fairness loss 124.49 | Equal Opportunity Disparity = 0.04\n",
      " \n",
      "Avg Training Stats after 258 global rounds:\n",
      "Training loss: 0.38 | Training accuracy: 85.19% | Training Equal Opportunity Disparity: 0.0391\n",
      "\n",
      " | Global Training Round : 259 |\n",
      "\n"
     ]
    },
    {
     "name": "stderr",
     "output_type": "stream",
     "text": [
      "\n",
      "\n",
      " 86%|████████▋ | 259/300 [00:56<00:09,  4.45it/s]\u001b[A\u001b[A"
     ]
    },
    {
     "name": "stdout",
     "output_type": "stream",
     "text": [
      "Accuracy loss: 42.07 | fairness loss 125.93 | Equal Opportunity Disparity = 0.04\n",
      " \n",
      "Avg Training Stats after 259 global rounds:\n",
      "Training loss: 0.38 | Training accuracy: 85.19% | Training Equal Opportunity Disparity: 0.0384\n",
      "\n",
      " | Global Training Round : 260 |\n",
      "\n"
     ]
    },
    {
     "name": "stderr",
     "output_type": "stream",
     "text": [
      "\n",
      "\n",
      " 87%|████████▋ | 260/300 [00:56<00:08,  4.47it/s]\u001b[A\u001b[A"
     ]
    },
    {
     "name": "stdout",
     "output_type": "stream",
     "text": [
      "Accuracy loss: 42.12 | fairness loss 129.14 | Equal Opportunity Disparity = 0.04\n",
      " \n",
      "Avg Training Stats after 260 global rounds:\n",
      "Training loss: 0.38 | Training accuracy: 85.15% | Training Equal Opportunity Disparity: 0.0384\n",
      "\n",
      " | Global Training Round : 261 |\n",
      "\n"
     ]
    },
    {
     "name": "stderr",
     "output_type": "stream",
     "text": [
      "\n",
      "\n",
      " 87%|████████▋ | 261/300 [00:57<00:09,  4.32it/s]\u001b[A\u001b[A"
     ]
    },
    {
     "name": "stdout",
     "output_type": "stream",
     "text": [
      "Accuracy loss: 42.34 | fairness loss 126.28 | Equal Opportunity Disparity = 0.04\n",
      " \n",
      "Avg Training Stats after 261 global rounds:\n",
      "Training loss: 0.38 | Training accuracy: 85.04% | Training Equal Opportunity Disparity: 0.0384\n",
      "\n",
      " | Global Training Round : 262 |\n",
      "\n"
     ]
    },
    {
     "name": "stderr",
     "output_type": "stream",
     "text": [
      "\n",
      "\n",
      " 87%|████████▋ | 262/300 [00:57<00:08,  4.24it/s]\u001b[A\u001b[A"
     ]
    },
    {
     "name": "stdout",
     "output_type": "stream",
     "text": [
      "Accuracy loss: 42.22 | fairness loss 124.99 | Equal Opportunity Disparity = 0.04\n",
      " \n",
      "Avg Training Stats after 262 global rounds:\n",
      "Training loss: 0.38 | Training accuracy: 85.15% | Training Equal Opportunity Disparity: 0.0384\n",
      "\n",
      " | Global Training Round : 263 |\n",
      "\n"
     ]
    },
    {
     "name": "stderr",
     "output_type": "stream",
     "text": [
      "\n",
      "\n",
      " 88%|████████▊ | 263/300 [00:57<00:09,  3.95it/s]\u001b[A\u001b[A"
     ]
    },
    {
     "name": "stdout",
     "output_type": "stream",
     "text": [
      "Accuracy loss: 42.28 | fairness loss 121.04 | Equal Opportunity Disparity = 0.04\n",
      " \n",
      "Avg Training Stats after 263 global rounds:\n",
      "Training loss: 0.38 | Training accuracy: 85.15% | Training Equal Opportunity Disparity: 0.0384\n",
      "\n",
      " | Global Training Round : 264 |\n",
      "\n"
     ]
    },
    {
     "name": "stderr",
     "output_type": "stream",
     "text": [
      "\n",
      "\n",
      " 88%|████████▊ | 264/300 [00:57<00:08,  4.02it/s]\u001b[A\u001b[A"
     ]
    },
    {
     "name": "stdout",
     "output_type": "stream",
     "text": [
      "Accuracy loss: 42.26 | fairness loss 125.98 | Equal Opportunity Disparity = 0.04\n",
      " \n",
      "Avg Training Stats after 264 global rounds:\n",
      "Training loss: 0.38 | Training accuracy: 85.19% | Training Equal Opportunity Disparity: 0.0384\n",
      "\n",
      " | Global Training Round : 265 |\n",
      "\n"
     ]
    },
    {
     "name": "stderr",
     "output_type": "stream",
     "text": [
      "\n",
      "\n",
      " 88%|████████▊ | 265/300 [00:58<00:08,  3.93it/s]\u001b[A\u001b[A"
     ]
    },
    {
     "name": "stdout",
     "output_type": "stream",
     "text": [
      "Accuracy loss: 42.24 | fairness loss 127.60 | Equal Opportunity Disparity = 0.04\n",
      " \n",
      "Avg Training Stats after 265 global rounds:\n",
      "Training loss: 0.38 | Training accuracy: 85.19% | Training Equal Opportunity Disparity: 0.0372\n",
      "\n",
      " | Global Training Round : 266 |\n",
      "\n"
     ]
    },
    {
     "name": "stderr",
     "output_type": "stream",
     "text": [
      "\n",
      "\n",
      " 89%|████████▊ | 266/300 [00:58<00:08,  4.02it/s]\u001b[A\u001b[A"
     ]
    },
    {
     "name": "stdout",
     "output_type": "stream",
     "text": [
      "Accuracy loss: 42.30 | fairness loss 125.70 | Equal Opportunity Disparity = 0.04\n",
      " \n",
      "Avg Training Stats after 266 global rounds:\n",
      "Training loss: 0.38 | Training accuracy: 85.22% | Training Equal Opportunity Disparity: 0.0366\n",
      "\n",
      " | Global Training Round : 267 |\n",
      "\n"
     ]
    },
    {
     "name": "stderr",
     "output_type": "stream",
     "text": [
      "\n",
      "\n",
      " 89%|████████▉ | 267/300 [00:58<00:08,  4.10it/s]\u001b[A\u001b[A"
     ]
    },
    {
     "name": "stdout",
     "output_type": "stream",
     "text": [
      "Accuracy loss: 42.35 | fairness loss 125.14 | Equal Opportunity Disparity = 0.04\n",
      " \n",
      "Avg Training Stats after 267 global rounds:\n",
      "Training loss: 0.38 | Training accuracy: 85.07% | Training Equal Opportunity Disparity: 0.0353\n",
      "\n",
      " | Global Training Round : 268 |\n",
      "\n"
     ]
    },
    {
     "name": "stderr",
     "output_type": "stream",
     "text": [
      "\n",
      "\n",
      " 89%|████████▉ | 268/300 [00:58<00:07,  4.09it/s]\u001b[A\u001b[A\n",
      "\n",
      " 90%|████████▉ | 269/300 [00:59<00:07,  4.35it/s]\u001b[A\u001b[A"
     ]
    },
    {
     "name": "stdout",
     "output_type": "stream",
     "text": [
      "Accuracy loss: 42.30 | fairness loss 128.48 | Equal Opportunity Disparity = 0.04\n",
      " \n",
      "Avg Training Stats after 268 global rounds:\n",
      "Training loss: 0.38 | Training accuracy: 85.19% | Training Equal Opportunity Disparity: 0.0360\n",
      "\n",
      " | Global Training Round : 269 |\n",
      "\n",
      "Accuracy loss: 42.32 | fairness loss 128.13 | Equal Opportunity Disparity = 0.04\n",
      " \n",
      "Avg Training Stats after 269 global rounds:\n",
      "Training loss: 0.38 | Training accuracy: 85.19% | Training Equal Opportunity Disparity: 0.0360\n",
      "\n",
      " | Global Training Round : 270 |\n",
      "\n"
     ]
    },
    {
     "name": "stderr",
     "output_type": "stream",
     "text": [
      "\n",
      "\n",
      " 90%|█████████ | 270/300 [00:59<00:06,  4.42it/s]\u001b[A\u001b[A"
     ]
    },
    {
     "name": "stdout",
     "output_type": "stream",
     "text": [
      "Accuracy loss: 42.25 | fairness loss 133.36 | Equal Opportunity Disparity = 0.04\n",
      " \n",
      "Avg Training Stats after 270 global rounds:\n",
      "Training loss: 0.38 | Training accuracy: 85.15% | Training Equal Opportunity Disparity: 0.0387\n",
      "\n",
      " | Global Training Round : 271 |\n",
      "\n"
     ]
    },
    {
     "name": "stderr",
     "output_type": "stream",
     "text": [
      "\n",
      "\n",
      " 90%|█████████ | 271/300 [00:59<00:06,  4.53it/s]\u001b[A\u001b[A"
     ]
    },
    {
     "name": "stdout",
     "output_type": "stream",
     "text": [
      "Accuracy loss: 42.11 | fairness loss 127.44 | Equal Opportunity Disparity = 0.04\n",
      " \n",
      "Avg Training Stats after 271 global rounds:\n",
      "Training loss: 0.38 | Training accuracy: 85.15% | Training Equal Opportunity Disparity: 0.0434\n",
      "\n",
      " | Global Training Round : 272 |\n",
      "\n"
     ]
    },
    {
     "name": "stderr",
     "output_type": "stream",
     "text": [
      "\n",
      "\n",
      " 91%|█████████ | 272/300 [00:59<00:06,  4.43it/s]\u001b[A\u001b[A\n",
      "\n",
      " 91%|█████████ | 273/300 [00:59<00:05,  4.73it/s]\u001b[A\u001b[A"
     ]
    },
    {
     "name": "stdout",
     "output_type": "stream",
     "text": [
      "Accuracy loss: 42.17 | fairness loss 127.47 | Equal Opportunity Disparity = 0.04\n",
      " \n",
      "Avg Training Stats after 272 global rounds:\n",
      "Training loss: 0.38 | Training accuracy: 85.11% | Training Equal Opportunity Disparity: 0.0384\n",
      "\n",
      " | Global Training Round : 273 |\n",
      "\n",
      "Accuracy loss: 42.19 | fairness loss 124.86 | Equal Opportunity Disparity = 0.04\n",
      " \n",
      "Avg Training Stats after 273 global rounds:\n",
      "Training loss: 0.38 | Training accuracy: 85.11% | Training Equal Opportunity Disparity: 0.0384\n",
      "\n",
      " | Global Training Round : 274 |\n",
      "\n"
     ]
    },
    {
     "name": "stderr",
     "output_type": "stream",
     "text": [
      "\n",
      "\n",
      " 91%|█████████▏| 274/300 [01:00<00:05,  4.56it/s]\u001b[A\u001b[A\n",
      "\n",
      " 92%|█████████▏| 275/300 [01:00<00:05,  4.71it/s]\u001b[A\u001b[A"
     ]
    },
    {
     "name": "stdout",
     "output_type": "stream",
     "text": [
      "Accuracy loss: 42.25 | fairness loss 128.75 | Equal Opportunity Disparity = 0.04\n",
      " \n",
      "Avg Training Stats after 274 global rounds:\n",
      "Training loss: 0.38 | Training accuracy: 85.15% | Training Equal Opportunity Disparity: 0.0384\n",
      "\n",
      " | Global Training Round : 275 |\n",
      "\n",
      "Accuracy loss: 42.29 | fairness loss 128.50 | Equal Opportunity Disparity = 0.04\n",
      " \n",
      "Avg Training Stats after 275 global rounds:\n",
      "Training loss: 0.38 | Training accuracy: 85.07% | Training Equal Opportunity Disparity: 0.0372\n",
      "\n",
      " | Global Training Round : 276 |\n",
      "\n"
     ]
    },
    {
     "name": "stderr",
     "output_type": "stream",
     "text": [
      "\n",
      "\n",
      " 92%|█████████▏| 276/300 [01:00<00:05,  4.71it/s]\u001b[A\u001b[A"
     ]
    },
    {
     "name": "stdout",
     "output_type": "stream",
     "text": [
      "Accuracy loss: 42.34 | fairness loss 126.18 | Equal Opportunity Disparity = 0.04\n",
      " \n",
      "Avg Training Stats after 276 global rounds:\n",
      "Training loss: 0.38 | Training accuracy: 85.11% | Training Equal Opportunity Disparity: 0.0366\n",
      "\n",
      " | Global Training Round : 277 |\n",
      "\n",
      "Accuracy loss: 42.56 | fairness loss 131.40 | Equal Opportunity Disparity = 0.03\n"
     ]
    },
    {
     "name": "stderr",
     "output_type": "stream",
     "text": [
      "\n",
      "\n",
      " 92%|█████████▏| 277/300 [01:00<00:04,  4.78it/s]\u001b[A\u001b[A"
     ]
    },
    {
     "name": "stdout",
     "output_type": "stream",
     "text": [
      " \n",
      "Avg Training Stats after 277 global rounds:\n",
      "Training loss: 0.38 | Training accuracy: 85.00% | Training Equal Opportunity Disparity: 0.0347\n",
      "\n",
      " | Global Training Round : 278 |\n",
      "\n"
     ]
    },
    {
     "name": "stderr",
     "output_type": "stream",
     "text": [
      "\n",
      "\n",
      " 93%|█████████▎| 278/300 [01:01<00:04,  4.77it/s]\u001b[A\u001b[A"
     ]
    },
    {
     "name": "stdout",
     "output_type": "stream",
     "text": [
      "Accuracy loss: 42.92 | fairness loss 120.15 | Equal Opportunity Disparity = 0.03\n",
      " \n",
      "Avg Training Stats after 278 global rounds:\n",
      "Training loss: 0.38 | Training accuracy: 84.63% | Training Equal Opportunity Disparity: 0.0341\n",
      "\n",
      " | Global Training Round : 279 |\n",
      "\n",
      "Accuracy loss: 42.80 | fairness loss 119.84 | Equal Opportunity Disparity = 0.03\n"
     ]
    },
    {
     "name": "stderr",
     "output_type": "stream",
     "text": [
      "\n",
      "\n",
      " 93%|█████████▎| 279/300 [01:01<00:04,  4.82it/s]\u001b[A\u001b[A\n",
      "\n",
      " 93%|█████████▎| 280/300 [01:01<00:04,  4.89it/s]\u001b[A\u001b[A"
     ]
    },
    {
     "name": "stdout",
     "output_type": "stream",
     "text": [
      " \n",
      "Avg Training Stats after 279 global rounds:\n",
      "Training loss: 0.38 | Training accuracy: 84.85% | Training Equal Opportunity Disparity: 0.0347\n",
      "\n",
      " | Global Training Round : 280 |\n",
      "\n",
      "Accuracy loss: 42.61 | fairness loss 124.41 | Equal Opportunity Disparity = 0.04\n",
      " \n",
      "Avg Training Stats after 280 global rounds:\n",
      "Training loss: 0.38 | Training accuracy: 85.00% | Training Equal Opportunity Disparity: 0.0360\n",
      "\n",
      " | Global Training Round : 281 |\n",
      "\n"
     ]
    },
    {
     "name": "stderr",
     "output_type": "stream",
     "text": [
      "\n",
      "\n",
      " 94%|█████████▎| 281/300 [01:01<00:04,  4.69it/s]\u001b[A\u001b[A"
     ]
    },
    {
     "name": "stdout",
     "output_type": "stream",
     "text": [
      "Accuracy loss: 42.66 | fairness loss 126.27 | Equal Opportunity Disparity = 0.04\n",
      " \n",
      "Avg Training Stats after 281 global rounds:\n",
      "Training loss: 0.38 | Training accuracy: 84.96% | Training Equal Opportunity Disparity: 0.0353\n",
      "\n",
      " | Global Training Round : 282 |\n",
      "\n",
      "Accuracy loss: 42.86 | fairness loss 122.07 | Equal Opportunity Disparity = 0.03\n"
     ]
    },
    {
     "name": "stderr",
     "output_type": "stream",
     "text": [
      "\n",
      "\n",
      " 94%|█████████▍| 282/300 [01:01<00:03,  4.75it/s]\u001b[A\u001b[A\n",
      "\n",
      " 94%|█████████▍| 283/300 [01:02<00:03,  4.87it/s]\u001b[A\u001b[A"
     ]
    },
    {
     "name": "stdout",
     "output_type": "stream",
     "text": [
      " \n",
      "Avg Training Stats after 282 global rounds:\n",
      "Training loss: 0.38 | Training accuracy: 84.67% | Training Equal Opportunity Disparity: 0.0335\n",
      "\n",
      " | Global Training Round : 283 |\n",
      "\n",
      "Accuracy loss: 42.80 | fairness loss 126.28 | Equal Opportunity Disparity = 0.03\n",
      " \n",
      "Avg Training Stats after 283 global rounds:\n",
      "Training loss: 0.38 | Training accuracy: 84.78% | Training Equal Opportunity Disparity: 0.0335\n",
      "\n",
      " | Global Training Round : 284 |\n",
      "\n"
     ]
    },
    {
     "name": "stderr",
     "output_type": "stream",
     "text": [
      "\n",
      "\n",
      " 95%|█████████▍| 284/300 [01:02<00:03,  4.87it/s]\u001b[A\u001b[A"
     ]
    },
    {
     "name": "stdout",
     "output_type": "stream",
     "text": [
      "Accuracy loss: 42.74 | fairness loss 123.26 | Equal Opportunity Disparity = 0.03\n",
      " \n",
      "Avg Training Stats after 284 global rounds:\n",
      "Training loss: 0.38 | Training accuracy: 84.81% | Training Equal Opportunity Disparity: 0.0341\n",
      "\n",
      " | Global Training Round : 285 |\n",
      "\n"
     ]
    },
    {
     "name": "stderr",
     "output_type": "stream",
     "text": [
      "\n",
      "\n",
      " 95%|█████████▌| 285/300 [01:02<00:03,  4.64it/s]\u001b[A\u001b[A"
     ]
    },
    {
     "name": "stdout",
     "output_type": "stream",
     "text": [
      "Accuracy loss: 42.88 | fairness loss 122.29 | Equal Opportunity Disparity = 0.03\n",
      " \n",
      "Avg Training Stats after 285 global rounds:\n",
      "Training loss: 0.38 | Training accuracy: 84.67% | Training Equal Opportunity Disparity: 0.0335\n",
      "\n",
      " | Global Training Round : 286 |\n",
      "\n"
     ]
    },
    {
     "name": "stderr",
     "output_type": "stream",
     "text": [
      "\n",
      "\n",
      " 95%|█████████▌| 286/300 [01:02<00:03,  4.35it/s]\u001b[A\u001b[A"
     ]
    },
    {
     "name": "stdout",
     "output_type": "stream",
     "text": [
      "Accuracy loss: 42.74 | fairness loss 127.46 | Equal Opportunity Disparity = 0.04\n",
      " \n",
      "Avg Training Stats after 286 global rounds:\n",
      "Training loss: 0.38 | Training accuracy: 84.89% | Training Equal Opportunity Disparity: 0.0353\n",
      "\n",
      " | Global Training Round : 287 |\n",
      "\n"
     ]
    },
    {
     "name": "stderr",
     "output_type": "stream",
     "text": [
      "\n",
      "\n",
      " 96%|█████████▌| 287/300 [01:02<00:03,  4.27it/s]\u001b[A\u001b[A"
     ]
    },
    {
     "name": "stdout",
     "output_type": "stream",
     "text": [
      "Accuracy loss: 42.61 | fairness loss 127.23 | Equal Opportunity Disparity = 0.04\n",
      " \n",
      "Avg Training Stats after 287 global rounds:\n",
      "Training loss: 0.38 | Training accuracy: 84.96% | Training Equal Opportunity Disparity: 0.0353\n",
      "\n",
      " | Global Training Round : 288 |\n",
      "\n"
     ]
    },
    {
     "name": "stderr",
     "output_type": "stream",
     "text": [
      "\n",
      "\n",
      " 96%|█████████▌| 288/300 [01:03<00:02,  4.25it/s]\u001b[A\u001b[A\n",
      "\n",
      " 96%|█████████▋| 289/300 [01:03<00:02,  4.49it/s]\u001b[A\u001b[A"
     ]
    },
    {
     "name": "stdout",
     "output_type": "stream",
     "text": [
      "Accuracy loss: 42.54 | fairness loss 127.78 | Equal Opportunity Disparity = 0.04\n",
      " \n",
      "Avg Training Stats after 288 global rounds:\n",
      "Training loss: 0.38 | Training accuracy: 85.00% | Training Equal Opportunity Disparity: 0.0353\n",
      "\n",
      " | Global Training Round : 289 |\n",
      "\n",
      "Accuracy loss: 42.55 | fairness loss 124.66 | Equal Opportunity Disparity = 0.04\n",
      " \n",
      "Avg Training Stats after 289 global rounds:\n",
      "Training loss: 0.38 | Training accuracy: 85.00% | Training Equal Opportunity Disparity: 0.0353\n",
      "\n",
      " | Global Training Round : 290 |\n",
      "\n"
     ]
    },
    {
     "name": "stderr",
     "output_type": "stream",
     "text": [
      "\n",
      "\n",
      " 97%|█████████▋| 290/300 [01:03<00:02,  4.42it/s]\u001b[A\u001b[A"
     ]
    },
    {
     "name": "stdout",
     "output_type": "stream",
     "text": [
      "Accuracy loss: 42.48 | fairness loss 130.81 | Equal Opportunity Disparity = 0.04\n",
      " \n",
      "Avg Training Stats after 290 global rounds:\n",
      "Training loss: 0.38 | Training accuracy: 85.07% | Training Equal Opportunity Disparity: 0.0353\n",
      "\n",
      " | Global Training Round : 291 |\n",
      "\n"
     ]
    },
    {
     "name": "stderr",
     "output_type": "stream",
     "text": [
      "\n",
      "\n",
      " 97%|█████████▋| 291/300 [01:03<00:02,  4.46it/s]\u001b[A\u001b[A"
     ]
    },
    {
     "name": "stdout",
     "output_type": "stream",
     "text": [
      "Accuracy loss: 42.56 | fairness loss 125.37 | Equal Opportunity Disparity = 0.04\n",
      " \n",
      "Avg Training Stats after 291 global rounds:\n",
      "Training loss: 0.38 | Training accuracy: 85.00% | Training Equal Opportunity Disparity: 0.0353\n",
      "\n",
      " | Global Training Round : 292 |\n",
      "\n"
     ]
    },
    {
     "name": "stderr",
     "output_type": "stream",
     "text": [
      "\n",
      "\n",
      " 97%|█████████▋| 292/300 [01:04<00:02,  3.64it/s]\u001b[A\u001b[A"
     ]
    },
    {
     "name": "stdout",
     "output_type": "stream",
     "text": [
      "Accuracy loss: 42.66 | fairness loss 126.94 | Equal Opportunity Disparity = 0.04\n",
      " \n",
      "Avg Training Stats after 292 global rounds:\n",
      "Training loss: 0.38 | Training accuracy: 84.93% | Training Equal Opportunity Disparity: 0.0353\n",
      "\n",
      " | Global Training Round : 293 |\n",
      "\n"
     ]
    },
    {
     "name": "stderr",
     "output_type": "stream",
     "text": [
      "\n",
      "\n",
      " 98%|█████████▊| 293/300 [01:04<00:01,  3.87it/s]\u001b[A\u001b[A"
     ]
    },
    {
     "name": "stdout",
     "output_type": "stream",
     "text": [
      "Accuracy loss: 42.71 | fairness loss 122.17 | Equal Opportunity Disparity = 0.03\n",
      " \n",
      "Avg Training Stats after 293 global rounds:\n",
      "Training loss: 0.38 | Training accuracy: 84.89% | Training Equal Opportunity Disparity: 0.0341\n",
      "\n",
      " | Global Training Round : 294 |\n",
      "\n"
     ]
    },
    {
     "name": "stderr",
     "output_type": "stream",
     "text": [
      "\n",
      "\n",
      " 98%|█████████▊| 294/300 [01:04<00:01,  3.90it/s]\u001b[A\u001b[A"
     ]
    },
    {
     "name": "stdout",
     "output_type": "stream",
     "text": [
      "Accuracy loss: 42.76 | fairness loss 123.68 | Equal Opportunity Disparity = 0.03\n",
      " \n",
      "Avg Training Stats after 294 global rounds:\n",
      "Training loss: 0.38 | Training accuracy: 84.89% | Training Equal Opportunity Disparity: 0.0335\n",
      "\n",
      " | Global Training Round : 295 |\n",
      "\n"
     ]
    },
    {
     "name": "stderr",
     "output_type": "stream",
     "text": [
      "\n",
      "\n",
      " 98%|█████████▊| 295/300 [01:04<00:01,  4.14it/s]\u001b[A\u001b[A"
     ]
    },
    {
     "name": "stdout",
     "output_type": "stream",
     "text": [
      "Accuracy loss: 42.66 | fairness loss 123.97 | Equal Opportunity Disparity = 0.03\n",
      " \n",
      "Avg Training Stats after 295 global rounds:\n",
      "Training loss: 0.38 | Training accuracy: 84.93% | Training Equal Opportunity Disparity: 0.0335\n",
      "\n",
      " | Global Training Round : 296 |\n",
      "\n"
     ]
    },
    {
     "name": "stderr",
     "output_type": "stream",
     "text": [
      "\n",
      "\n",
      " 99%|█████████▊| 296/300 [01:05<00:01,  3.57it/s]\u001b[A\u001b[A\n",
      "\n",
      " 99%|█████████▉| 297/300 [01:05<00:00,  3.97it/s]\u001b[A\u001b[A"
     ]
    },
    {
     "name": "stdout",
     "output_type": "stream",
     "text": [
      "Accuracy loss: 42.87 | fairness loss 124.45 | Equal Opportunity Disparity = 0.03\n",
      " \n",
      "Avg Training Stats after 296 global rounds:\n",
      "Training loss: 0.38 | Training accuracy: 84.81% | Training Equal Opportunity Disparity: 0.0322\n",
      "\n",
      " | Global Training Round : 297 |\n",
      "\n",
      "Accuracy loss: 43.03 | fairness loss 119.18 | Equal Opportunity Disparity = 0.03\n",
      " \n",
      "Avg Training Stats after 297 global rounds:\n",
      "Training loss: 0.38 | Training accuracy: 84.67% | Training Equal Opportunity Disparity: 0.0329\n",
      "\n",
      " | Global Training Round : 298 |\n",
      "\n"
     ]
    },
    {
     "name": "stderr",
     "output_type": "stream",
     "text": [
      "\n",
      "\n",
      " 99%|█████████▉| 298/300 [01:05<00:00,  4.19it/s]\u001b[A\u001b[A"
     ]
    },
    {
     "name": "stdout",
     "output_type": "stream",
     "text": [
      "Accuracy loss: 42.93 | fairness loss 126.60 | Equal Opportunity Disparity = 0.03\n",
      " \n",
      "Avg Training Stats after 298 global rounds:\n",
      "Training loss: 0.38 | Training accuracy: 84.78% | Training Equal Opportunity Disparity: 0.0301\n",
      "\n",
      " | Global Training Round : 299 |\n",
      "\n"
     ]
    },
    {
     "name": "stderr",
     "output_type": "stream",
     "text": [
      "\n",
      "\n",
      "100%|█████████▉| 299/300 [01:05<00:00,  4.10it/s]\u001b[A\u001b[A"
     ]
    },
    {
     "name": "stdout",
     "output_type": "stream",
     "text": [
      "Accuracy loss: 43.02 | fairness loss 120.93 | Equal Opportunity Disparity = 0.03\n",
      " \n",
      "Avg Training Stats after 299 global rounds:\n",
      "Training loss: 0.38 | Training accuracy: 84.70% | Training Equal Opportunity Disparity: 0.0329\n",
      "\n",
      " | Global Training Round : 300 |\n",
      "\n"
     ]
    },
    {
     "name": "stderr",
     "output_type": "stream",
     "text": [
      "\n",
      "\n",
      "100%|██████████| 300/300 [01:06<00:00,  4.53it/s]\u001b[A\u001b[A"
     ]
    },
    {
     "name": "stdout",
     "output_type": "stream",
     "text": [
      "Accuracy loss: 42.87 | fairness loss 121.78 | Equal Opportunity Disparity = 0.03\n",
      " \n",
      "Avg Training Stats after 300 global rounds:\n",
      "Training loss: 0.38 | Training accuracy: 84.78% | Training Equal Opportunity Disparity: 0.0301\n",
      " \n",
      " Results after 300 global rounds of training:\n",
      "|---- Avg Train Accuracy: 84.78%\n",
      "|---- Test Accuracy: 84.33%\n",
      "|---- Test Equal Opportunity Disparity: 0.0208\n",
      "\n",
      " Total Run Time: 66.2350 sec\n"
     ]
    },
    {
     "name": "stderr",
     "output_type": "stream",
     "text": [
      "\n"
     ]
    }
   ],
   "source": [
    "server = Server(logReg(num_features=3, num_classes=2, seed = seed), synthetic_info, train_prn = False, seed = seed)\n",
    "server.FairBatch(num_epochs = 300, optimizer = 'adam', learning_rate = 0.001, alpha = 0.05)"
   ]
  },
  {
   "cell_type": "code",
   "execution_count": null,
   "metadata": {},
   "outputs": [],
   "source": []
  }
 ],
 "metadata": {
  "kernelspec": {
   "display_name": "Python 3",
   "language": "python",
   "name": "python3"
  },
  "language_info": {
   "codemirror_mode": {
    "name": "ipython",
    "version": 3
   },
   "file_extension": ".py",
   "mimetype": "text/x-python",
   "name": "python",
   "nbconvert_exporter": "python",
   "pygments_lexer": "ipython3",
   "version": "3.7.4"
  }
 },
 "nbformat": 4,
 "nbformat_minor": 2
}
