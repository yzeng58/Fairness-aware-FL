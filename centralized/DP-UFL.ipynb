{
 "cells": [
  {
   "cell_type": "code",
   "execution_count": 1,
   "metadata": {},
   "outputs": [],
   "source": [
    "from DPnonfed import *"
   ]
  },
  {
   "cell_type": "code",
   "execution_count": 2,
   "metadata": {},
   "outputs": [],
   "source": [
    "data_info = nsfData(q = (0.9,0.1), test_samples = 300, train_samples = 3000)"
   ]
  },
  {
   "cell_type": "code",
   "execution_count": 3,
   "metadata": {
    "scrolled": true
   },
   "outputs": [
    {
     "name": "stderr",
     "output_type": "stream",
     "text": [
      "  3%|▎         | 9/300 [00:00<00:03, 87.61it/s]"
     ]
    },
    {
     "name": "stdout",
     "output_type": "stream",
     "text": [
      "\n",
      " | Global Training Round : 1 |\n",
      "\n",
      " \n",
      "Avg Training Stats after 1 global rounds:\n",
      "accuracy loss: 7.50 | fairness loss 470.02 | Demographic disparity = 0.00\n",
      "Training loss: 74.97 | Validation accuracy: 80.00% | Validation Demographic disparity: 0.0000\n"
     ]
    },
    {
     "name": "stderr",
     "output_type": "stream",
     "text": [
      " 22%|██▏       | 66/300 [00:00<00:02, 90.36it/s]"
     ]
    },
    {
     "name": "stdout",
     "output_type": "stream",
     "text": [
      "\n",
      " | Global Training Round : 51 |\n",
      "\n",
      " \n",
      "Avg Training Stats after 51 global rounds:\n",
      "accuracy loss: 7.51 | fairness loss 3.82 | Demographic disparity = 0.00\n",
      "Training loss: 75.14 | Validation accuracy: 80.00% | Validation Demographic disparity: 0.0000\n"
     ]
    },
    {
     "name": "stderr",
     "output_type": "stream",
     "text": [
      " 37%|███▋      | 112/300 [00:01<00:02, 80.27it/s]"
     ]
    },
    {
     "name": "stdout",
     "output_type": "stream",
     "text": [
      "\n",
      " | Global Training Round : 101 |\n",
      "\n",
      " \n",
      "Avg Training Stats after 101 global rounds:\n",
      "accuracy loss: 7.43 | fairness loss 5.94 | Demographic disparity = 0.00\n",
      "Training loss: 74.33 | Validation accuracy: 80.00% | Validation Demographic disparity: 0.0000\n"
     ]
    },
    {
     "name": "stderr",
     "output_type": "stream",
     "text": [
      " 56%|█████▌    | 167/300 [00:01<00:01, 84.23it/s]"
     ]
    },
    {
     "name": "stdout",
     "output_type": "stream",
     "text": [
      "\n",
      " | Global Training Round : 151 |\n",
      "\n",
      " \n",
      "Avg Training Stats after 151 global rounds:\n",
      "accuracy loss: 7.44 | fairness loss 5.88 | Demographic disparity = 0.00\n",
      "Training loss: 74.37 | Validation accuracy: 80.00% | Validation Demographic disparity: 0.0000\n"
     ]
    },
    {
     "name": "stderr",
     "output_type": "stream",
     "text": [
      " 72%|███████▏  | 215/300 [00:02<00:00, 86.96it/s]"
     ]
    },
    {
     "name": "stdout",
     "output_type": "stream",
     "text": [
      "\n",
      " | Global Training Round : 201 |\n",
      "\n",
      " \n",
      "Avg Training Stats after 201 global rounds:\n",
      "accuracy loss: 7.44 | fairness loss 5.85 | Demographic disparity = 0.00\n",
      "Training loss: 74.37 | Validation accuracy: 80.00% | Validation Demographic disparity: 0.0000\n"
     ]
    },
    {
     "name": "stderr",
     "output_type": "stream",
     "text": [
      " 86%|████████▋ | 259/300 [00:03<00:00, 80.27it/s]"
     ]
    },
    {
     "name": "stdout",
     "output_type": "stream",
     "text": [
      "\n",
      " | Global Training Round : 251 |\n",
      "\n",
      " \n",
      "Avg Training Stats after 251 global rounds:\n",
      "accuracy loss: 7.44 | fairness loss 5.85 | Demographic disparity = 0.00\n",
      "Training loss: 74.37 | Validation accuracy: 80.00% | Validation Demographic disparity: 0.0000\n"
     ]
    },
    {
     "name": "stderr",
     "output_type": "stream",
     "text": [
      "100%|██████████| 300/300 [00:03<00:00, 81.35it/s]\n",
      "  3%|▎         | 8/300 [00:00<00:03, 77.61it/s]"
     ]
    },
    {
     "name": "stdout",
     "output_type": "stream",
     "text": [
      " \n",
      " Results after 300 global rounds of training:\n",
      "|---- Avg Train Accuracy: 80.00%\n",
      "|---- Test Accuracy: 68.67%\n",
      "|---- Test Demographic disparity: 0.0000\n",
      "\n",
      " Total Run Time: 3.7013 sec\n",
      "\n",
      " | Global Training Round : 1 |\n",
      "\n",
      " \n",
      "Avg Training Stats after 1 global rounds:\n",
      "accuracy loss: 13.55 | fairness loss 1344.77 | Demographic disparity = 0.00\n",
      "Training loss: 135.45 | Validation accuracy: 46.67% | Validation Demographic disparity: 0.0000\n"
     ]
    },
    {
     "name": "stderr",
     "output_type": "stream",
     "text": [
      " 20%|██        | 60/300 [00:00<00:03, 76.52it/s]"
     ]
    },
    {
     "name": "stdout",
     "output_type": "stream",
     "text": [
      "\n",
      " | Global Training Round : 51 |\n",
      "\n",
      " \n",
      "Avg Training Stats after 51 global rounds:\n",
      "accuracy loss: 9.99 | fairness loss 41.95 | Demographic disparity = 0.00\n",
      "Training loss: 99.91 | Validation accuracy: 46.67% | Validation Demographic disparity: 0.0000\n"
     ]
    },
    {
     "name": "stderr",
     "output_type": "stream",
     "text": [
      " 36%|███▋      | 109/300 [00:01<00:02, 66.48it/s]"
     ]
    },
    {
     "name": "stdout",
     "output_type": "stream",
     "text": [
      "\n",
      " | Global Training Round : 101 |\n",
      "\n",
      " \n",
      "Avg Training Stats after 101 global rounds:\n",
      "accuracy loss: 9.09 | fairness loss 80.30 | Demographic disparity = 0.47\n",
      "Training loss: 90.86 | Validation accuracy: 100.00% | Validation Demographic disparity: 0.4667\n"
     ]
    },
    {
     "name": "stderr",
     "output_type": "stream",
     "text": [
      " 56%|█████▌    | 167/300 [00:02<00:01, 83.98it/s]"
     ]
    },
    {
     "name": "stdout",
     "output_type": "stream",
     "text": [
      "\n",
      " | Global Training Round : 151 |\n",
      "\n",
      " \n",
      "Avg Training Stats after 151 global rounds:\n",
      "accuracy loss: 8.48 | fairness loss 146.67 | Demographic disparity = 0.47\n",
      "Training loss: 84.78 | Validation accuracy: 100.00% | Validation Demographic disparity: 0.4667\n"
     ]
    },
    {
     "name": "stderr",
     "output_type": "stream",
     "text": [
      " 71%|███████   | 213/300 [00:02<00:01, 85.11it/s]"
     ]
    },
    {
     "name": "stdout",
     "output_type": "stream",
     "text": [
      "\n",
      " | Global Training Round : 201 |\n",
      "\n",
      " \n",
      "Avg Training Stats after 201 global rounds:\n",
      "accuracy loss: 8.10 | fairness loss 194.75 | Demographic disparity = 0.47\n",
      "Training loss: 80.95 | Validation accuracy: 100.00% | Validation Demographic disparity: 0.4667\n"
     ]
    },
    {
     "name": "stderr",
     "output_type": "stream",
     "text": [
      " 86%|████████▋ | 259/300 [00:03<00:00, 83.59it/s]"
     ]
    },
    {
     "name": "stdout",
     "output_type": "stream",
     "text": [
      "\n",
      " | Global Training Round : 251 |\n",
      "\n",
      " \n",
      "Avg Training Stats after 251 global rounds:\n",
      "accuracy loss: 7.85 | fairness loss 224.58 | Demographic disparity = 0.47\n",
      "Training loss: 78.55 | Validation accuracy: 100.00% | Validation Demographic disparity: 0.4667\n"
     ]
    },
    {
     "name": "stderr",
     "output_type": "stream",
     "text": [
      "100%|██████████| 300/300 [00:03<00:00, 76.76it/s]"
     ]
    },
    {
     "name": "stdout",
     "output_type": "stream",
     "text": [
      " \n",
      " Results after 300 global rounds of training:\n",
      "|---- Avg Train Accuracy: 100.00%\n",
      "|---- Test Accuracy: 100.00%\n",
      "|---- Test Demographic disparity: 0.1590\n",
      "\n",
      " Total Run Time: 3.9189 sec\n"
     ]
    },
    {
     "name": "stderr",
     "output_type": "stream",
     "text": [
      "\n"
     ]
    },
    {
     "data": {
      "text/plain": [
       "(0.8433333333333334, 0.0794854586129754)"
      ]
     },
     "execution_count": 3,
     "metadata": {},
     "output_type": "execute_result"
    }
   ],
   "source": [
    "runNonFed(data_info, method = 'FC', learning_rate = 0.01, num_epochs = 300, num_features = 2,\n",
    "                optimizer = 'adam', seed = 123, penalty = 100000, Z = 2)"
   ]
  },
  {
   "cell_type": "code",
   "execution_count": 4,
   "metadata": {
    "scrolled": true
   },
   "outputs": [
    {
     "name": "stderr",
     "output_type": "stream",
     "text": [
      "  1%|          | 3/300 [00:00<00:13, 22.72it/s]"
     ]
    },
    {
     "name": "stdout",
     "output_type": "stream",
     "text": [
      "\n",
      " | Global Training Round : 1 |\n",
      "\n",
      "Predictor loss: 70.04 | adversary loss 3.75 | Demographic disparity = 0.00\n",
      " \n",
      "Avg Training Stats after 1 global rounds:\n",
      "Training loss: 0.41 | Validation accuracy: 80.00% | Validation Demographic disparity: 0.0000\n"
     ]
    },
    {
     "name": "stderr",
     "output_type": "stream",
     "text": [
      " 18%|█▊        | 54/300 [00:02<00:10, 23.43it/s]"
     ]
    },
    {
     "name": "stdout",
     "output_type": "stream",
     "text": [
      "\n",
      " | Global Training Round : 51 |\n",
      "\n",
      "Predictor loss: 5.36 | adversary loss 2.68 | Demographic disparity = 0.40\n",
      " \n",
      "Avg Training Stats after 51 global rounds:\n",
      "Training loss: 0.13 | Validation accuracy: 100.00% | Validation Demographic disparity: 0.4000\n"
     ]
    },
    {
     "name": "stderr",
     "output_type": "stream",
     "text": [
      " 34%|███▍      | 102/300 [00:04<00:09, 21.88it/s]"
     ]
    },
    {
     "name": "stdout",
     "output_type": "stream",
     "text": [
      "\n",
      " | Global Training Round : 101 |\n",
      "\n",
      "Predictor loss: 13.05 | adversary loss 4.12 | Demographic disparity = 0.40\n",
      " \n",
      "Avg Training Stats after 101 global rounds:\n",
      "Training loss: 0.09 | Validation accuracy: 100.00% | Validation Demographic disparity: 0.4000\n"
     ]
    },
    {
     "name": "stderr",
     "output_type": "stream",
     "text": [
      " 51%|█████     | 153/300 [00:06<00:06, 21.32it/s]"
     ]
    },
    {
     "name": "stdout",
     "output_type": "stream",
     "text": [
      "\n",
      " | Global Training Round : 151 |\n",
      "\n",
      "Predictor loss: 42.62 | adversary loss 4.25 | Demographic disparity = 0.40\n",
      " \n",
      "Avg Training Stats after 151 global rounds:\n",
      "Training loss: 0.14 | Validation accuracy: 100.00% | Validation Demographic disparity: 0.4000\n"
     ]
    },
    {
     "name": "stderr",
     "output_type": "stream",
     "text": [
      " 68%|██████▊   | 204/300 [00:09<00:04, 23.78it/s]"
     ]
    },
    {
     "name": "stdout",
     "output_type": "stream",
     "text": [
      "\n",
      " | Global Training Round : 201 |\n",
      "\n",
      "Predictor loss: 37.38 | adversary loss 3.71 | Demographic disparity = 0.40\n",
      " \n",
      "Avg Training Stats after 201 global rounds:\n",
      "Training loss: 0.18 | Validation accuracy: 100.00% | Validation Demographic disparity: 0.4000\n"
     ]
    },
    {
     "name": "stderr",
     "output_type": "stream",
     "text": [
      " 84%|████████▍ | 252/300 [00:11<00:02, 22.28it/s]"
     ]
    },
    {
     "name": "stdout",
     "output_type": "stream",
     "text": [
      "\n",
      " | Global Training Round : 251 |\n",
      "\n",
      "Predictor loss: 38.92 | adversary loss 3.59 | Demographic disparity = 0.40\n",
      " \n",
      "Avg Training Stats after 251 global rounds:\n",
      "Training loss: 0.19 | Validation accuracy: 100.00% | Validation Demographic disparity: 0.4000\n"
     ]
    },
    {
     "name": "stderr",
     "output_type": "stream",
     "text": [
      "100%|██████████| 300/300 [00:13<00:00, 22.04it/s]\n",
      "  1%|          | 2/300 [00:00<00:15, 19.09it/s]"
     ]
    },
    {
     "name": "stdout",
     "output_type": "stream",
     "text": [
      " \n",
      " Results after 300 global rounds of training:\n",
      "|---- Avg Train Accuracy: 100.00%\n",
      "|---- Test Accuracy: 100.00%\n",
      "|---- Test Demographic disparity: 0.1590\n",
      "\n",
      " Total Run Time: 13.6296 sec\n",
      "\n",
      " | Global Training Round : 1 |\n",
      "\n",
      "Predictor loss: 120.60 | adversary loss 5.28 | Demographic disparity = 0.00\n",
      " \n",
      "Avg Training Stats after 1 global rounds:\n",
      "Training loss: 0.86 | Validation accuracy: 46.67% | Validation Demographic disparity: 0.0000\n"
     ]
    },
    {
     "name": "stderr",
     "output_type": "stream",
     "text": [
      " 18%|█▊        | 54/300 [00:03<00:11, 21.72it/s]"
     ]
    },
    {
     "name": "stdout",
     "output_type": "stream",
     "text": [
      "\n",
      " | Global Training Round : 51 |\n",
      "\n",
      "Predictor loss: 6.30 | adversary loss 0.89 | Demographic disparity = 0.47\n",
      " \n",
      "Avg Training Stats after 51 global rounds:\n",
      "Training loss: 0.19 | Validation accuracy: 100.00% | Validation Demographic disparity: 0.4667\n"
     ]
    },
    {
     "name": "stderr",
     "output_type": "stream",
     "text": [
      " 34%|███▍      | 102/300 [00:05<00:08, 22.23it/s]"
     ]
    },
    {
     "name": "stdout",
     "output_type": "stream",
     "text": [
      "\n",
      " | Global Training Round : 101 |\n",
      "\n",
      "Predictor loss: 30.85 | adversary loss 3.09 | Demographic disparity = 0.42\n",
      " \n",
      "Avg Training Stats after 101 global rounds:\n",
      "Training loss: 0.15 | Validation accuracy: 88.67% | Validation Demographic disparity: 0.4200\n"
     ]
    },
    {
     "name": "stderr",
     "output_type": "stream",
     "text": [
      " 51%|█████     | 153/300 [00:07<00:06, 22.47it/s]"
     ]
    },
    {
     "name": "stdout",
     "output_type": "stream",
     "text": [
      "\n",
      " | Global Training Round : 151 |\n",
      "\n",
      "Predictor loss: 26.68 | adversary loss 3.88 | Demographic disparity = 0.42\n",
      " \n",
      "Avg Training Stats after 151 global rounds:\n",
      "Training loss: 0.16 | Validation accuracy: 88.67% | Validation Demographic disparity: 0.4200\n"
     ]
    },
    {
     "name": "stderr",
     "output_type": "stream",
     "text": [
      " 67%|██████▋   | 202/300 [00:09<00:04, 20.88it/s]"
     ]
    },
    {
     "name": "stdout",
     "output_type": "stream",
     "text": [
      "\n",
      " | Global Training Round : 201 |\n",
      "\n",
      "Predictor loss: 26.86 | adversary loss 3.40 | Demographic disparity = 0.42\n",
      " \n",
      "Avg Training Stats after 201 global rounds:\n",
      "Training loss: 0.16 | Validation accuracy: 88.67% | Validation Demographic disparity: 0.4200\n"
     ]
    },
    {
     "name": "stderr",
     "output_type": "stream",
     "text": [
      " 84%|████████▍ | 253/300 [00:12<00:02, 22.37it/s]"
     ]
    },
    {
     "name": "stdout",
     "output_type": "stream",
     "text": [
      "\n",
      " | Global Training Round : 251 |\n",
      "\n",
      "Predictor loss: 25.40 | adversary loss 3.34 | Demographic disparity = 0.42\n",
      " \n",
      "Avg Training Stats after 251 global rounds:\n",
      "Training loss: 0.16 | Validation accuracy: 88.67% | Validation Demographic disparity: 0.4200\n"
     ]
    },
    {
     "name": "stderr",
     "output_type": "stream",
     "text": [
      "100%|██████████| 300/300 [00:14<00:00, 20.93it/s]"
     ]
    },
    {
     "name": "stdout",
     "output_type": "stream",
     "text": [
      " \n",
      " Results after 300 global rounds of training:\n",
      "|---- Avg Train Accuracy: 88.67%\n",
      "|---- Test Accuracy: 92.33%\n",
      "|---- Test Demographic disparity: 0.2367\n",
      "\n",
      " Total Run Time: 14.3449 sec\n"
     ]
    },
    {
     "name": "stderr",
     "output_type": "stream",
     "text": [
      "\n"
     ]
    },
    {
     "data": {
      "text/plain": [
       "(0.9616666666666667, 0.19781879194630878)"
      ]
     },
     "execution_count": 4,
     "metadata": {},
     "output_type": "execute_result"
    }
   ],
   "source": [
    "runNonFed(data_info, method = 'FTrain', init_epochs = 50, lr_g = 0.01, lr_d = 0.1, lambda_d = 1, num_features = 2)"
   ]
  },
  {
   "cell_type": "code",
   "execution_count": null,
   "metadata": {},
   "outputs": [],
   "source": []
  }
 ],
 "metadata": {
  "kernelspec": {
   "display_name": "Python 3",
   "language": "python",
   "name": "python3"
  },
  "language_info": {
   "codemirror_mode": {
    "name": "ipython",
    "version": 3
   },
   "file_extension": ".py",
   "mimetype": "text/x-python",
   "name": "python",
   "nbconvert_exporter": "python",
   "pygments_lexer": "ipython3",
   "version": "3.7.4"
  }
 },
 "nbformat": 4,
 "nbformat_minor": 2
}
