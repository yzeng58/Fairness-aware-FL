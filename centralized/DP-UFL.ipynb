{
 "cells": [
  {
   "cell_type": "code",
   "execution_count": 1,
   "metadata": {},
   "outputs": [],
   "source": [
    "from DPnonfed import *"
   ]
  },
  {
   "cell_type": "code",
   "execution_count": 10,
   "metadata": {},
   "outputs": [],
   "source": [
    "data_info = nsfData(q = (0.9,0.1), test_samples = 300, train_samples = 3000)"
   ]
  },
  {
   "cell_type": "code",
   "execution_count": 11,
   "metadata": {
    "scrolled": true
   },
   "outputs": [
    {
     "name": "stderr",
     "output_type": "stream",
     "text": [
      "  1%|          | 3/300 [00:00<00:10, 28.84it/s]"
     ]
    },
    {
     "name": "stdout",
     "output_type": "stream",
     "text": [
      "\n",
      " | Global Training Round : 1 |\n",
      "\n",
      " \n",
      "Avg Training Stats after 1 global rounds:\n",
      "accuracy loss: 6.73 | fairness loss 407.61 | Demographic disparity = 0.00\n",
      "Training loss: 67.29 | Validation accuracy: 84.00% | Validation Demographic disparity: 0.0000\n"
     ]
    },
    {
     "name": "stderr",
     "output_type": "stream",
     "text": [
      " 22%|██▏       | 65/300 [00:00<00:03, 74.65it/s]"
     ]
    },
    {
     "name": "stdout",
     "output_type": "stream",
     "text": [
      "\n",
      " | Global Training Round : 51 |\n",
      "\n",
      " \n",
      "Avg Training Stats after 51 global rounds:\n",
      "accuracy loss: 6.49 | fairness loss 3.21 | Demographic disparity = 0.00\n",
      "Training loss: 64.94 | Validation accuracy: 84.00% | Validation Demographic disparity: 0.0000\n"
     ]
    },
    {
     "name": "stderr",
     "output_type": "stream",
     "text": [
      " 38%|███▊      | 113/300 [00:01<00:02, 88.54it/s]"
     ]
    },
    {
     "name": "stdout",
     "output_type": "stream",
     "text": [
      "\n",
      " | Global Training Round : 101 |\n",
      "\n",
      " \n",
      "Avg Training Stats after 101 global rounds:\n",
      "accuracy loss: 6.45 | fairness loss 5.02 | Demographic disparity = 0.00\n",
      "Training loss: 64.54 | Validation accuracy: 84.00% | Validation Demographic disparity: 0.0000\n"
     ]
    },
    {
     "name": "stderr",
     "output_type": "stream",
     "text": [
      " 54%|█████▍    | 162/300 [00:01<00:01, 88.48it/s]"
     ]
    },
    {
     "name": "stdout",
     "output_type": "stream",
     "text": [
      "\n",
      " | Global Training Round : 151 |\n",
      "\n",
      " \n",
      "Avg Training Stats after 151 global rounds:\n",
      "accuracy loss: 6.46 | fairness loss 4.97 | Demographic disparity = 0.00\n",
      "Training loss: 64.55 | Validation accuracy: 84.00% | Validation Demographic disparity: 0.0000\n"
     ]
    },
    {
     "name": "stderr",
     "output_type": "stream",
     "text": [
      " 72%|███████▏  | 217/300 [00:02<00:00, 84.34it/s]"
     ]
    },
    {
     "name": "stdout",
     "output_type": "stream",
     "text": [
      "\n",
      " | Global Training Round : 201 |\n",
      "\n",
      " \n",
      "Avg Training Stats after 201 global rounds:\n",
      "accuracy loss: 6.46 | fairness loss 4.94 | Demographic disparity = 0.00\n",
      "Training loss: 64.55 | Validation accuracy: 84.00% | Validation Demographic disparity: 0.0000\n"
     ]
    },
    {
     "name": "stderr",
     "output_type": "stream",
     "text": [
      " 87%|████████▋ | 262/300 [00:03<00:00, 83.25it/s]"
     ]
    },
    {
     "name": "stdout",
     "output_type": "stream",
     "text": [
      "\n",
      " | Global Training Round : 251 |\n",
      "\n",
      " \n",
      "Avg Training Stats after 251 global rounds:\n",
      "accuracy loss: 6.46 | fairness loss 4.94 | Demographic disparity = 0.00\n",
      "Training loss: 64.55 | Validation accuracy: 84.00% | Validation Demographic disparity: 0.0000\n"
     ]
    },
    {
     "name": "stderr",
     "output_type": "stream",
     "text": [
      "100%|██████████| 300/300 [00:03<00:00, 82.69it/s]\n",
      "  3%|▎         | 8/300 [00:00<00:03, 75.53it/s]"
     ]
    },
    {
     "name": "stdout",
     "output_type": "stream",
     "text": [
      " \n",
      " Results after 300 global rounds of training:\n",
      "|---- Avg Train Accuracy: 84.00%\n",
      "|---- Test Accuracy: 68.67%\n",
      "|---- Test Demographic disparity: 0.0000\n",
      "\n",
      " Total Run Time: 3.6492 sec\n",
      "\n",
      " | Global Training Round : 1 |\n",
      "\n",
      " \n",
      "Avg Training Stats after 1 global rounds:\n",
      "accuracy loss: 13.56 | fairness loss 920.76 | Demographic disparity = 0.00\n",
      "Training loss: 135.60 | Validation accuracy: 46.00% | Validation Demographic disparity: 0.0000\n"
     ]
    },
    {
     "name": "stderr",
     "output_type": "stream",
     "text": [
      " 21%|██        | 63/300 [00:01<00:03, 66.70it/s]"
     ]
    },
    {
     "name": "stdout",
     "output_type": "stream",
     "text": [
      "\n",
      " | Global Training Round : 51 |\n",
      "\n",
      " \n",
      "Avg Training Stats after 51 global rounds:\n",
      "accuracy loss: 10.00 | fairness loss 23.43 | Demographic disparity = 0.00\n",
      "Training loss: 100.04 | Validation accuracy: 46.00% | Validation Demographic disparity: 0.0000\n"
     ]
    },
    {
     "name": "stderr",
     "output_type": "stream",
     "text": [
      " 39%|███▊      | 116/300 [00:01<00:02, 81.46it/s]"
     ]
    },
    {
     "name": "stdout",
     "output_type": "stream",
     "text": [
      "\n",
      " | Global Training Round : 101 |\n",
      "\n",
      " \n",
      "Avg Training Stats after 101 global rounds:\n",
      "accuracy loss: 9.04 | fairness loss 41.01 | Demographic disparity = 0.46\n",
      "Training loss: 90.40 | Validation accuracy: 100.00% | Validation Demographic disparity: 0.4600\n"
     ]
    },
    {
     "name": "stderr",
     "output_type": "stream",
     "text": [
      " 54%|█████▍    | 162/300 [00:02<00:01, 86.83it/s]"
     ]
    },
    {
     "name": "stdout",
     "output_type": "stream",
     "text": [
      "\n",
      " | Global Training Round : 151 |\n",
      "\n",
      " \n",
      "Avg Training Stats after 151 global rounds:\n",
      "accuracy loss: 8.41 | fairness loss 74.66 | Demographic disparity = 0.46\n",
      "Training loss: 84.05 | Validation accuracy: 100.00% | Validation Demographic disparity: 0.4600\n"
     ]
    },
    {
     "name": "stderr",
     "output_type": "stream",
     "text": [
      " 73%|███████▎  | 218/300 [00:02<00:00, 88.83it/s]"
     ]
    },
    {
     "name": "stdout",
     "output_type": "stream",
     "text": [
      "\n",
      " | Global Training Round : 201 |\n",
      "\n",
      " \n",
      "Avg Training Stats after 201 global rounds:\n",
      "accuracy loss: 8.01 | fairness loss 99.00 | Demographic disparity = 0.46\n",
      "Training loss: 80.07 | Validation accuracy: 100.00% | Validation Demographic disparity: 0.4600\n"
     ]
    },
    {
     "name": "stderr",
     "output_type": "stream",
     "text": [
      " 88%|████████▊ | 264/300 [00:03<00:00, 85.68it/s]"
     ]
    },
    {
     "name": "stdout",
     "output_type": "stream",
     "text": [
      "\n",
      " | Global Training Round : 251 |\n",
      "\n",
      " \n",
      "Avg Training Stats after 251 global rounds:\n",
      "accuracy loss: 7.76 | fairness loss 114.09 | Demographic disparity = 0.46\n",
      "Training loss: 77.56 | Validation accuracy: 100.00% | Validation Demographic disparity: 0.4600\n"
     ]
    },
    {
     "name": "stderr",
     "output_type": "stream",
     "text": [
      "100%|██████████| 300/300 [00:03<00:00, 78.66it/s]"
     ]
    },
    {
     "name": "stdout",
     "output_type": "stream",
     "text": [
      " \n",
      " Results after 300 global rounds of training:\n",
      "|---- Avg Train Accuracy: 100.00%\n",
      "|---- Test Accuracy: 100.00%\n",
      "|---- Test Demographic disparity: 0.1590\n",
      "\n",
      " Total Run Time: 3.8327 sec\n"
     ]
    },
    {
     "name": "stderr",
     "output_type": "stream",
     "text": [
      "\n"
     ]
    },
    {
     "data": {
      "text/plain": [
       "(0.8433333333333334, 0.0794854586129754)"
      ]
     },
     "execution_count": 11,
     "metadata": {},
     "output_type": "execute_result"
    }
   ],
   "source": [
    "runNonFed(data_info, method = 'FC', learning_rate = 0.01, num_epochs = 300, num_features = 2,\n",
    "                optimizer = 'adam', seed = 123, penalty = 100000, Z = 2)"
   ]
  },
  {
   "cell_type": "code",
   "execution_count": 12,
   "metadata": {
    "scrolled": true
   },
   "outputs": [
    {
     "name": "stderr",
     "output_type": "stream",
     "text": [
      "  1%|          | 3/300 [00:00<00:13, 21.93it/s]"
     ]
    },
    {
     "name": "stdout",
     "output_type": "stream",
     "text": [
      "\n",
      " | Global Training Round : 1 |\n",
      "\n",
      "Predictor loss: 60.41 | adversary loss 3.23 | Demographic disparity = 0.00\n",
      " \n",
      "Avg Training Stats after 1 global rounds:\n",
      "Training loss: 0.42 | Validation accuracy: 84.00% | Validation Demographic disparity: 0.0000\n"
     ]
    },
    {
     "name": "stderr",
     "output_type": "stream",
     "text": [
      " 18%|█▊        | 53/300 [00:02<00:10, 24.45it/s]"
     ]
    },
    {
     "name": "stdout",
     "output_type": "stream",
     "text": [
      "\n",
      " | Global Training Round : 51 |\n",
      "\n",
      "Predictor loss: 4.77 | adversary loss 2.25 | Demographic disparity = 0.44\n",
      " \n",
      "Avg Training Stats after 51 global rounds:\n",
      "Training loss: 0.13 | Validation accuracy: 100.00% | Validation Demographic disparity: 0.4400\n"
     ]
    },
    {
     "name": "stderr",
     "output_type": "stream",
     "text": [
      " 35%|███▍      | 104/300 [00:04<00:07, 24.63it/s]"
     ]
    },
    {
     "name": "stdout",
     "output_type": "stream",
     "text": [
      "\n",
      " | Global Training Round : 101 |\n",
      "\n",
      "Predictor loss: 22.21 | adversary loss 3.89 | Demographic disparity = 0.44\n",
      " \n",
      "Avg Training Stats after 101 global rounds:\n",
      "Training loss: 0.10 | Validation accuracy: 100.00% | Validation Demographic disparity: 0.4400\n"
     ]
    },
    {
     "name": "stderr",
     "output_type": "stream",
     "text": [
      " 52%|█████▏    | 155/300 [00:06<00:05, 24.97it/s]"
     ]
    },
    {
     "name": "stdout",
     "output_type": "stream",
     "text": [
      "\n",
      " | Global Training Round : 151 |\n",
      "\n",
      "Predictor loss: 44.43 | adversary loss 3.28 | Demographic disparity = 0.44\n",
      " \n",
      "Avg Training Stats after 151 global rounds:\n",
      "Training loss: 0.16 | Validation accuracy: 100.00% | Validation Demographic disparity: 0.4400\n"
     ]
    },
    {
     "name": "stderr",
     "output_type": "stream",
     "text": [
      " 68%|██████▊   | 203/300 [00:08<00:03, 25.07it/s]"
     ]
    },
    {
     "name": "stdout",
     "output_type": "stream",
     "text": [
      "\n",
      " | Global Training Round : 201 |\n",
      "\n",
      "Predictor loss: 38.16 | adversary loss 3.16 | Demographic disparity = 0.44\n",
      " \n",
      "Avg Training Stats after 201 global rounds:\n",
      "Training loss: 0.19 | Validation accuracy: 100.00% | Validation Demographic disparity: 0.4400\n"
     ]
    },
    {
     "name": "stderr",
     "output_type": "stream",
     "text": [
      " 85%|████████▍ | 254/300 [00:10<00:01, 25.10it/s]"
     ]
    },
    {
     "name": "stdout",
     "output_type": "stream",
     "text": [
      "\n",
      " | Global Training Round : 251 |\n",
      "\n",
      "Predictor loss: 47.93 | adversary loss 3.15 | Demographic disparity = 0.44\n",
      " \n",
      "Avg Training Stats after 251 global rounds:\n",
      "Training loss: 0.20 | Validation accuracy: 100.00% | Validation Demographic disparity: 0.4400\n"
     ]
    },
    {
     "name": "stderr",
     "output_type": "stream",
     "text": [
      "100%|██████████| 300/300 [00:12<00:00, 24.39it/s]\n",
      "  1%|          | 3/300 [00:00<00:12, 23.52it/s]"
     ]
    },
    {
     "name": "stdout",
     "output_type": "stream",
     "text": [
      " \n",
      " Results after 300 global rounds of training:\n",
      "|---- Avg Train Accuracy: 100.00%\n",
      "|---- Test Accuracy: 100.00%\n",
      "|---- Test Demographic disparity: 0.1590\n",
      "\n",
      " Total Run Time: 12.3199 sec\n",
      "\n",
      " | Global Training Round : 1 |\n",
      "\n",
      "Predictor loss: 121.50 | adversary loss 6.05 | Demographic disparity = 0.00\n",
      " \n",
      "Avg Training Stats after 1 global rounds:\n",
      "Training loss: 0.86 | Validation accuracy: 46.00% | Validation Demographic disparity: 0.0000\n"
     ]
    },
    {
     "name": "stderr",
     "output_type": "stream",
     "text": [
      " 18%|█▊        | 54/300 [00:02<00:10, 24.47it/s]"
     ]
    },
    {
     "name": "stdout",
     "output_type": "stream",
     "text": [
      "\n",
      " | Global Training Round : 51 |\n",
      "\n",
      "Predictor loss: 6.63 | adversary loss 0.96 | Demographic disparity = 0.46\n",
      " \n",
      "Avg Training Stats after 51 global rounds:\n",
      "Training loss: 0.19 | Validation accuracy: 100.00% | Validation Demographic disparity: 0.4600\n"
     ]
    },
    {
     "name": "stderr",
     "output_type": "stream",
     "text": [
      " 35%|███▌      | 105/300 [00:04<00:07, 24.87it/s]"
     ]
    },
    {
     "name": "stdout",
     "output_type": "stream",
     "text": [
      "\n",
      " | Global Training Round : 101 |\n",
      "\n",
      "Predictor loss: 24.11 | adversary loss 2.52 | Demographic disparity = 0.46\n",
      " \n",
      "Avg Training Stats after 101 global rounds:\n",
      "Training loss: 0.14 | Validation accuracy: 92.00% | Validation Demographic disparity: 0.4600\n"
     ]
    },
    {
     "name": "stderr",
     "output_type": "stream",
     "text": [
      " 51%|█████     | 153/300 [00:06<00:05, 24.84it/s]"
     ]
    },
    {
     "name": "stdout",
     "output_type": "stream",
     "text": [
      "\n",
      " | Global Training Round : 151 |\n",
      "\n",
      "Predictor loss: 20.61 | adversary loss 2.98 | Demographic disparity = 0.46\n",
      " \n",
      "Avg Training Stats after 151 global rounds:\n",
      "Training loss: 0.16 | Validation accuracy: 92.00% | Validation Demographic disparity: 0.4600\n"
     ]
    },
    {
     "name": "stderr",
     "output_type": "stream",
     "text": [
      " 68%|██████▊   | 204/300 [00:08<00:03, 24.94it/s]"
     ]
    },
    {
     "name": "stdout",
     "output_type": "stream",
     "text": [
      "\n",
      " | Global Training Round : 201 |\n",
      "\n",
      "Predictor loss: 21.46 | adversary loss 2.85 | Demographic disparity = 0.46\n",
      " \n",
      "Avg Training Stats after 201 global rounds:\n",
      "Training loss: 0.16 | Validation accuracy: 92.00% | Validation Demographic disparity: 0.4600\n"
     ]
    },
    {
     "name": "stderr",
     "output_type": "stream",
     "text": [
      " 85%|████████▌ | 255/300 [00:10<00:01, 25.00it/s]"
     ]
    },
    {
     "name": "stdout",
     "output_type": "stream",
     "text": [
      "\n",
      " | Global Training Round : 251 |\n",
      "\n",
      "Predictor loss: 20.14 | adversary loss 2.86 | Demographic disparity = 0.46\n",
      " \n",
      "Avg Training Stats after 251 global rounds:\n",
      "Training loss: 0.16 | Validation accuracy: 92.00% | Validation Demographic disparity: 0.4600\n"
     ]
    },
    {
     "name": "stderr",
     "output_type": "stream",
     "text": [
      "100%|██████████| 300/300 [00:12<00:00, 24.72it/s]"
     ]
    },
    {
     "name": "stdout",
     "output_type": "stream",
     "text": [
      " \n",
      " Results after 300 global rounds of training:\n",
      "|---- Avg Train Accuracy: 92.00%\n",
      "|---- Test Accuracy: 92.33%\n",
      "|---- Test Demographic disparity: 0.2367\n",
      "\n",
      " Total Run Time: 12.1534 sec\n"
     ]
    },
    {
     "name": "stderr",
     "output_type": "stream",
     "text": [
      "\n"
     ]
    },
    {
     "data": {
      "text/plain": [
       "(0.9616666666666667, 0.19781879194630878)"
      ]
     },
     "execution_count": 12,
     "metadata": {},
     "output_type": "execute_result"
    }
   ],
   "source": [
    "runNonFed(data_info, method = 'FTrain', init_epochs = 50, lr_g = 0.01, lr_d = 0.08, lambda_d = 1, num_features = 2)"
   ]
  },
  {
   "cell_type": "code",
   "execution_count": 2,
   "metadata": {
    "scrolled": true
   },
   "outputs": [],
   "source": [
    "data_info = nsfData(q = (0.99,0.01), test_samples = 300, train_samples = 3000)"
   ]
  },
  {
   "cell_type": "code",
   "execution_count": 7,
   "metadata": {
    "scrolled": true
   },
   "outputs": [
    {
     "name": "stderr",
     "output_type": "stream",
     "text": [
      "  3%|▎         | 9/300 [00:00<00:03, 83.17it/s]"
     ]
    },
    {
     "name": "stdout",
     "output_type": "stream",
     "text": [
      "\n",
      " | Global Training Round : 1 |\n",
      "\n",
      " \n",
      "Avg Training Stats after 1 global rounds:\n",
      "accuracy loss: 5.09 | fairness loss 69933.65 | Demographic disparity = 0.00\n",
      "Training loss: 50.85 | Validation accuracy: 92.67% | Validation Demographic disparity: 0.0000\n"
     ]
    },
    {
     "name": "stderr",
     "output_type": "stream",
     "text": [
      " 23%|██▎       | 68/300 [00:00<00:02, 83.27it/s]"
     ]
    },
    {
     "name": "stdout",
     "output_type": "stream",
     "text": [
      "\n",
      " | Global Training Round : 51 |\n",
      "\n",
      " \n",
      "Avg Training Stats after 51 global rounds:\n",
      "accuracy loss: 4.14 | fairness loss 123.59 | Demographic disparity = 0.00\n",
      "Training loss: 41.44 | Validation accuracy: 92.67% | Validation Demographic disparity: 0.0000\n"
     ]
    },
    {
     "name": "stderr",
     "output_type": "stream",
     "text": [
      " 38%|███▊      | 114/300 [00:01<00:02, 89.28it/s]"
     ]
    },
    {
     "name": "stdout",
     "output_type": "stream",
     "text": [
      "\n",
      " | Global Training Round : 101 |\n",
      "\n",
      " \n",
      "Avg Training Stats after 101 global rounds:\n",
      "accuracy loss: 4.09 | fairness loss 1.65 | Demographic disparity = 0.00\n",
      "Training loss: 40.88 | Validation accuracy: 92.67% | Validation Demographic disparity: 0.0000\n"
     ]
    },
    {
     "name": "stderr",
     "output_type": "stream",
     "text": [
      " 54%|█████▎    | 161/300 [00:01<00:01, 89.78it/s]"
     ]
    },
    {
     "name": "stdout",
     "output_type": "stream",
     "text": [
      "\n",
      " | Global Training Round : 151 |\n",
      "\n",
      " \n",
      "Avg Training Stats after 151 global rounds:\n",
      "accuracy loss: 4.09 | fairness loss 0.03 | Demographic disparity = 0.00\n",
      "Training loss: 40.92 | Validation accuracy: 92.67% | Validation Demographic disparity: 0.0000\n"
     ]
    },
    {
     "name": "stderr",
     "output_type": "stream",
     "text": [
      " 70%|███████   | 210/300 [00:02<00:01, 87.29it/s]"
     ]
    },
    {
     "name": "stdout",
     "output_type": "stream",
     "text": [
      "\n",
      " | Global Training Round : 201 |\n",
      "\n",
      " \n",
      "Avg Training Stats after 201 global rounds:\n",
      "accuracy loss: 4.09 | fairness loss 0.04 | Demographic disparity = 0.00\n",
      "Training loss: 40.91 | Validation accuracy: 92.67% | Validation Demographic disparity: 0.0000\n"
     ]
    },
    {
     "name": "stderr",
     "output_type": "stream",
     "text": [
      " 88%|████████▊ | 265/300 [00:03<00:00, 86.15it/s]"
     ]
    },
    {
     "name": "stdout",
     "output_type": "stream",
     "text": [
      "\n",
      " | Global Training Round : 251 |\n",
      "\n",
      " \n",
      "Avg Training Stats after 251 global rounds:\n",
      "accuracy loss: 4.09 | fairness loss 0.04 | Demographic disparity = 0.00\n",
      "Training loss: 40.91 | Validation accuracy: 92.67% | Validation Demographic disparity: 0.0000\n"
     ]
    },
    {
     "name": "stderr",
     "output_type": "stream",
     "text": [
      "100%|██████████| 300/300 [00:03<00:00, 84.88it/s]\n",
      "  3%|▎         | 8/300 [00:00<00:03, 78.49it/s]"
     ]
    },
    {
     "name": "stdout",
     "output_type": "stream",
     "text": [
      " \n",
      " Results after 300 global rounds of training:\n",
      "|---- Avg Train Accuracy: 92.67%\n",
      "|---- Test Accuracy: 70.00%\n",
      "|---- Test Demographic disparity: 0.0000\n",
      "\n",
      " Total Run Time: 3.6101 sec\n",
      "\n",
      " | Global Training Round : 1 |\n",
      "\n",
      " \n",
      "Avg Training Stats after 1 global rounds:\n",
      "accuracy loss: 12.14 | fairness loss 0.00 | Demographic disparity = 1.00\n",
      "Training loss: 121.41 | Validation accuracy: 53.33% | Validation Demographic disparity: 1.0000\n"
     ]
    },
    {
     "name": "stderr",
     "output_type": "stream",
     "text": [
      " 21%|██        | 62/300 [00:00<00:02, 83.83it/s]"
     ]
    },
    {
     "name": "stdout",
     "output_type": "stream",
     "text": [
      "\n",
      " | Global Training Round : 51 |\n",
      "\n",
      " \n",
      "Avg Training Stats after 51 global rounds:\n",
      "accuracy loss: 9.92 | fairness loss 0.00 | Demographic disparity = 1.00\n",
      "Training loss: 99.17 | Validation accuracy: 53.33% | Validation Demographic disparity: 1.0000\n"
     ]
    },
    {
     "name": "stderr",
     "output_type": "stream",
     "text": [
      " 37%|███▋      | 111/300 [00:01<00:02, 91.69it/s]"
     ]
    },
    {
     "name": "stdout",
     "output_type": "stream",
     "text": [
      "\n",
      " | Global Training Round : 101 |\n",
      "\n",
      " \n",
      "Avg Training Stats after 101 global rounds:\n",
      "accuracy loss: 9.94 | fairness loss 0.00 | Demographic disparity = 1.00\n",
      "Training loss: 99.45 | Validation accuracy: 53.33% | Validation Demographic disparity: 1.0000\n"
     ]
    },
    {
     "name": "stderr",
     "output_type": "stream",
     "text": [
      " 53%|█████▎    | 159/300 [00:01<00:01, 90.23it/s]"
     ]
    },
    {
     "name": "stdout",
     "output_type": "stream",
     "text": [
      "\n",
      " | Global Training Round : 151 |\n",
      "\n",
      " \n",
      "Avg Training Stats after 151 global rounds:\n",
      "accuracy loss: 9.93 | fairness loss 0.00 | Demographic disparity = 1.00\n",
      "Training loss: 99.33 | Validation accuracy: 53.33% | Validation Demographic disparity: 1.0000\n"
     ]
    },
    {
     "name": "stderr",
     "output_type": "stream",
     "text": [
      " 73%|███████▎  | 218/300 [00:02<00:00, 91.61it/s]"
     ]
    },
    {
     "name": "stdout",
     "output_type": "stream",
     "text": [
      "\n",
      " | Global Training Round : 201 |\n",
      "\n",
      " \n",
      "Avg Training Stats after 201 global rounds:\n",
      "accuracy loss: 9.93 | fairness loss 0.00 | Demographic disparity = 1.00\n",
      "Training loss: 99.31 | Validation accuracy: 53.33% | Validation Demographic disparity: 1.0000\n"
     ]
    },
    {
     "name": "stderr",
     "output_type": "stream",
     "text": [
      " 88%|████████▊ | 265/300 [00:03<00:00, 86.26it/s]"
     ]
    },
    {
     "name": "stdout",
     "output_type": "stream",
     "text": [
      "\n",
      " | Global Training Round : 251 |\n",
      "\n",
      " \n",
      "Avg Training Stats after 251 global rounds:\n",
      "accuracy loss: 9.93 | fairness loss 0.00 | Demographic disparity = 1.00\n",
      "Training loss: 99.28 | Validation accuracy: 53.33% | Validation Demographic disparity: 1.0000\n"
     ]
    },
    {
     "name": "stderr",
     "output_type": "stream",
     "text": [
      "100%|██████████| 300/300 [00:03<00:00, 88.49it/s]"
     ]
    },
    {
     "name": "stdout",
     "output_type": "stream",
     "text": [
      " \n",
      " Results after 300 global rounds of training:\n",
      "|---- Avg Train Accuracy: 53.33%\n",
      "|---- Test Accuracy: 70.00%\n",
      "|---- Test Demographic disparity: 0.0000\n",
      "\n",
      " Total Run Time: 3.4199 sec\n"
     ]
    },
    {
     "name": "stderr",
     "output_type": "stream",
     "text": [
      "\n"
     ]
    },
    {
     "data": {
      "text/plain": [
       "(0.7, 0.0)"
      ]
     },
     "execution_count": 7,
     "metadata": {},
     "output_type": "execute_result"
    }
   ],
   "source": [
    "runNonFed(data_info, method = 'FC', learning_rate = 0.01, num_epochs = 300, num_features = 2,\n",
    "                optimizer = 'adam', seed = 123, penalty = 100000000, Z = 2)"
   ]
  },
  {
   "cell_type": "code",
   "execution_count": 4,
   "metadata": {
    "scrolled": true
   },
   "outputs": [
    {
     "name": "stderr",
     "output_type": "stream",
     "text": [
      "  1%|          | 2/300 [00:00<00:15, 19.64it/s]"
     ]
    },
    {
     "name": "stdout",
     "output_type": "stream",
     "text": [
      "\n",
      " | Global Training Round : 1 |\n",
      "\n",
      "Predictor loss: 40.03 | adversary loss 1.45 | Demographic disparity = 0.00\n",
      " \n",
      "Avg Training Stats after 1 global rounds:\n",
      "Training loss: 0.38 | Validation accuracy: 92.67% | Validation Demographic disparity: 0.0000\n"
     ]
    },
    {
     "name": "stderr",
     "output_type": "stream",
     "text": [
      " 17%|█▋        | 52/300 [00:02<00:11, 22.33it/s]"
     ]
    },
    {
     "name": "stdout",
     "output_type": "stream",
     "text": [
      "\n",
      " | Global Training Round : 51 |\n",
      "\n",
      "Predictor loss: 3.76 | adversary loss 0.67 | Demographic disparity = 0.43\n",
      " \n",
      "Avg Training Stats after 51 global rounds:\n",
      "Training loss: 0.12 | Validation accuracy: 100.00% | Validation Demographic disparity: 0.4267\n"
     ]
    },
    {
     "name": "stderr",
     "output_type": "stream",
     "text": [
      " 34%|███▍      | 103/300 [00:04<00:07, 24.84it/s]"
     ]
    },
    {
     "name": "stdout",
     "output_type": "stream",
     "text": [
      "\n",
      " | Global Training Round : 101 |\n",
      "\n",
      "Predictor loss: 25.03 | adversary loss 0.71 | Demographic disparity = 0.43\n",
      " \n",
      "Avg Training Stats after 101 global rounds:\n",
      "Training loss: 0.10 | Validation accuracy: 100.00% | Validation Demographic disparity: 0.4267\n"
     ]
    },
    {
     "name": "stderr",
     "output_type": "stream",
     "text": [
      " 51%|█████▏    | 154/300 [00:06<00:05, 25.52it/s]"
     ]
    },
    {
     "name": "stdout",
     "output_type": "stream",
     "text": [
      "\n",
      " | Global Training Round : 151 |\n",
      "\n",
      "Predictor loss: 37.41 | adversary loss 0.71 | Demographic disparity = 0.43\n",
      " \n",
      "Avg Training Stats after 151 global rounds:\n",
      "Training loss: 0.14 | Validation accuracy: 100.00% | Validation Demographic disparity: 0.4267\n"
     ]
    },
    {
     "name": "stderr",
     "output_type": "stream",
     "text": [
      " 68%|██████▊   | 205/300 [00:08<00:03, 25.51it/s]"
     ]
    },
    {
     "name": "stdout",
     "output_type": "stream",
     "text": [
      "\n",
      " | Global Training Round : 201 |\n",
      "\n",
      "Predictor loss: 37.79 | adversary loss 0.70 | Demographic disparity = 0.43\n",
      " \n",
      "Avg Training Stats after 201 global rounds:\n",
      "Training loss: 0.16 | Validation accuracy: 100.00% | Validation Demographic disparity: 0.4267\n"
     ]
    },
    {
     "name": "stderr",
     "output_type": "stream",
     "text": [
      " 84%|████████▍ | 253/300 [00:10<00:01, 25.59it/s]"
     ]
    },
    {
     "name": "stdout",
     "output_type": "stream",
     "text": [
      "\n",
      " | Global Training Round : 251 |\n",
      "\n",
      "Predictor loss: 38.07 | adversary loss 0.71 | Demographic disparity = 0.43\n",
      " \n",
      "Avg Training Stats after 251 global rounds:\n",
      "Training loss: 0.18 | Validation accuracy: 100.00% | Validation Demographic disparity: 0.4267\n"
     ]
    },
    {
     "name": "stderr",
     "output_type": "stream",
     "text": [
      "100%|██████████| 300/300 [00:12<00:00, 23.98it/s]\n",
      "  1%|          | 3/300 [00:00<00:14, 21.20it/s]"
     ]
    },
    {
     "name": "stdout",
     "output_type": "stream",
     "text": [
      " \n",
      " Results after 300 global rounds of training:\n",
      "|---- Avg Train Accuracy: 100.00%\n",
      "|---- Test Accuracy: 100.00%\n",
      "|---- Test Demographic disparity: 0.1926\n",
      "\n",
      " Total Run Time: 12.5209 sec\n",
      "\n",
      " | Global Training Round : 1 |\n",
      "\n",
      "Predictor loss: 110.92 | adversary loss 5.10 | Demographic disparity = 1.00\n",
      " \n",
      "Avg Training Stats after 1 global rounds:\n",
      "Training loss: 0.80 | Validation accuracy: 53.33% | Validation Demographic disparity: 1.0000\n"
     ]
    },
    {
     "name": "stderr",
     "output_type": "stream",
     "text": [
      " 18%|█▊        | 54/300 [00:02<00:10, 24.54it/s]"
     ]
    },
    {
     "name": "stdout",
     "output_type": "stream",
     "text": [
      "\n",
      " | Global Training Round : 51 |\n",
      "\n",
      "Predictor loss: 6.72 | adversary loss 0.17 | Demographic disparity = 0.53\n",
      " \n",
      "Avg Training Stats after 51 global rounds:\n",
      "Training loss: 0.20 | Validation accuracy: 100.00% | Validation Demographic disparity: 0.5333\n"
     ]
    },
    {
     "name": "stderr",
     "output_type": "stream",
     "text": [
      " 34%|███▍      | 102/300 [00:04<00:08, 22.54it/s]"
     ]
    },
    {
     "name": "stdout",
     "output_type": "stream",
     "text": [
      "\n",
      " | Global Training Round : 101 |\n",
      "\n",
      "Predictor loss: 6.54 | adversary loss 0.13 | Demographic disparity = 0.53\n",
      " \n",
      "Avg Training Stats after 101 global rounds:\n",
      "Training loss: 0.12 | Validation accuracy: 100.00% | Validation Demographic disparity: 0.5333\n"
     ]
    },
    {
     "name": "stderr",
     "output_type": "stream",
     "text": [
      " 50%|█████     | 151/300 [00:06<00:08, 17.18it/s]"
     ]
    },
    {
     "name": "stdout",
     "output_type": "stream",
     "text": [
      "\n",
      " | Global Training Round : 151 |\n",
      "\n",
      "Predictor loss: 6.68 | adversary loss 0.09 | Demographic disparity = 0.53\n",
      " \n",
      "Avg Training Stats after 151 global rounds:\n",
      "Training loss: 0.10 | Validation accuracy: 100.00% | Validation Demographic disparity: 0.5333\n"
     ]
    },
    {
     "name": "stderr",
     "output_type": "stream",
     "text": [
      " 67%|██████▋   | 202/300 [00:09<00:04, 21.93it/s]"
     ]
    },
    {
     "name": "stdout",
     "output_type": "stream",
     "text": [
      "\n",
      " | Global Training Round : 201 |\n",
      "\n",
      "Predictor loss: 6.88 | adversary loss 0.08 | Demographic disparity = 0.53\n",
      " \n",
      "Avg Training Stats after 201 global rounds:\n",
      "Training loss: 0.08 | Validation accuracy: 100.00% | Validation Demographic disparity: 0.5333\n"
     ]
    },
    {
     "name": "stderr",
     "output_type": "stream",
     "text": [
      " 84%|████████▍ | 253/300 [00:11<00:02, 22.87it/s]"
     ]
    },
    {
     "name": "stdout",
     "output_type": "stream",
     "text": [
      "\n",
      " | Global Training Round : 251 |\n",
      "\n",
      "Predictor loss: 6.97 | adversary loss 0.06 | Demographic disparity = 0.53\n",
      " \n",
      "Avg Training Stats after 251 global rounds:\n",
      "Training loss: 0.08 | Validation accuracy: 100.00% | Validation Demographic disparity: 0.5333\n"
     ]
    },
    {
     "name": "stderr",
     "output_type": "stream",
     "text": [
      "100%|██████████| 300/300 [00:13<00:00, 21.72it/s]"
     ]
    },
    {
     "name": "stdout",
     "output_type": "stream",
     "text": [
      " \n",
      " Results after 300 global rounds of training:\n",
      "|---- Avg Train Accuracy: 100.00%\n",
      "|---- Test Accuracy: 94.67%\n",
      "|---- Test Demographic disparity: 0.2467\n",
      "\n",
      " Total Run Time: 13.8271 sec\n"
     ]
    },
    {
     "name": "stderr",
     "output_type": "stream",
     "text": [
      "\n"
     ]
    },
    {
     "data": {
      "text/plain": [
       "(0.9733333333333334, 0.2196420581655482)"
      ]
     },
     "execution_count": 4,
     "metadata": {},
     "output_type": "execute_result"
    }
   ],
   "source": [
    "runNonFed(data_info, method = 'FTrain', init_epochs = 50, lr_g = 0.01, lr_d = 0.08, lambda_d = 1, num_features = 2)"
   ]
  },
  {
   "cell_type": "markdown",
   "metadata": {},
   "source": [
    "# new setting"
   ]
  },
  {
   "cell_type": "code",
   "execution_count": 2,
   "metadata": {},
   "outputs": [],
   "source": [
    "synthetic_info = dataGenerate(seed = 745, test_samples = 300, train_samples = 3000, client_split = ((.7,.1),(.2,.3),(.1,.6)))"
   ]
  },
  {
   "cell_type": "code",
   "execution_count": 10,
   "metadata": {
    "scrolled": true
   },
   "outputs": [
    {
     "name": "stderr",
     "output_type": "stream",
     "text": [
      "  3%|▎         | 8/300 [00:00<00:03, 78.26it/s]"
     ]
    },
    {
     "name": "stdout",
     "output_type": "stream",
     "text": [
      "\n",
      " | Global Training Round : 1 |\n",
      "\n",
      " \n",
      "Avg Training Stats after 1 global rounds:\n",
      "accuracy loss: 8.17 | fairness loss 350.97 | Demographic disparity = 0.33\n",
      "Training loss: 89.82 | Validation accuracy: 62.28% | Validation Demographic disparity: 0.3333\n"
     ]
    },
    {
     "name": "stderr",
     "output_type": "stream",
     "text": [
      " 20%|██        | 61/300 [00:00<00:03, 77.98it/s]"
     ]
    },
    {
     "name": "stdout",
     "output_type": "stream",
     "text": [
      "\n",
      " | Global Training Round : 51 |\n",
      "\n",
      " \n",
      "Avg Training Stats after 51 global rounds:\n",
      "accuracy loss: 4.52 | fairness loss 77.42 | Demographic disparity = 0.38\n",
      "Training loss: 49.74 | Validation accuracy: 78.95% | Validation Demographic disparity: 0.3797\n"
     ]
    },
    {
     "name": "stderr",
     "output_type": "stream",
     "text": [
      " 38%|███▊      | 114/300 [00:01<00:02, 84.51it/s]"
     ]
    },
    {
     "name": "stdout",
     "output_type": "stream",
     "text": [
      "\n",
      " | Global Training Round : 101 |\n",
      "\n",
      " \n",
      "Avg Training Stats after 101 global rounds:\n",
      "accuracy loss: 4.43 | fairness loss 44.37 | Demographic disparity = 0.30\n",
      "Training loss: 48.76 | Validation accuracy: 77.19% | Validation Demographic disparity: 0.3020\n"
     ]
    },
    {
     "name": "stderr",
     "output_type": "stream",
     "text": [
      " 53%|█████▎    | 159/300 [00:01<00:01, 82.12it/s]"
     ]
    },
    {
     "name": "stdout",
     "output_type": "stream",
     "text": [
      "\n",
      " | Global Training Round : 151 |\n",
      "\n",
      " \n",
      "Avg Training Stats after 151 global rounds:\n",
      "accuracy loss: 4.42 | fairness loss 42.26 | Demographic disparity = 0.24\n",
      "Training loss: 48.64 | Validation accuracy: 78.95% | Validation Demographic disparity: 0.2368\n"
     ]
    },
    {
     "name": "stderr",
     "output_type": "stream",
     "text": [
      " 72%|███████▏  | 216/300 [00:02<00:00, 84.67it/s]"
     ]
    },
    {
     "name": "stdout",
     "output_type": "stream",
     "text": [
      "\n",
      " | Global Training Round : 201 |\n",
      "\n",
      " \n",
      "Avg Training Stats after 201 global rounds:\n",
      "accuracy loss: 4.43 | fairness loss 41.66 | Demographic disparity = 0.24\n",
      "Training loss: 48.70 | Validation accuracy: 78.95% | Validation Demographic disparity: 0.2368\n"
     ]
    },
    {
     "name": "stderr",
     "output_type": "stream",
     "text": [
      " 88%|████████▊ | 263/300 [00:03<00:00, 86.58it/s]"
     ]
    },
    {
     "name": "stdout",
     "output_type": "stream",
     "text": [
      "\n",
      " | Global Training Round : 251 |\n",
      "\n",
      " \n",
      "Avg Training Stats after 251 global rounds:\n",
      "accuracy loss: 4.43 | fairness loss 41.56 | Demographic disparity = 0.24\n",
      "Training loss: 48.71 | Validation accuracy: 78.95% | Validation Demographic disparity: 0.2368\n"
     ]
    },
    {
     "name": "stderr",
     "output_type": "stream",
     "text": [
      "100%|██████████| 300/300 [00:03<00:00, 83.99it/s]\n",
      "  3%|▎         | 9/300 [00:00<00:03, 84.82it/s]"
     ]
    },
    {
     "name": "stdout",
     "output_type": "stream",
     "text": [
      " \n",
      " Results after 300 global rounds of training:\n",
      "|---- Avg Train Accuracy: 78.95%\n",
      "|---- Test Accuracy: 73.67%\n",
      "|---- Test Demographic disparity: 0.1508\n",
      "\n",
      " Total Run Time: 3.5842 sec\n",
      "\n",
      " | Global Training Round : 1 |\n",
      "\n",
      " \n",
      "Avg Training Stats after 1 global rounds:\n",
      "accuracy loss: 8.25 | fairness loss 430.91 | Demographic disparity = 0.20\n",
      "Training loss: 90.72 | Validation accuracy: 55.88% | Validation Demographic disparity: 0.2020\n"
     ]
    },
    {
     "name": "stderr",
     "output_type": "stream",
     "text": [
      " 21%|██▏       | 64/300 [00:00<00:02, 80.31it/s]"
     ]
    },
    {
     "name": "stdout",
     "output_type": "stream",
     "text": [
      "\n",
      " | Global Training Round : 51 |\n",
      "\n",
      " \n",
      "Avg Training Stats after 51 global rounds:\n",
      "accuracy loss: 4.42 | fairness loss 99.65 | Demographic disparity = 0.47\n",
      "Training loss: 48.64 | Validation accuracy: 86.27% | Validation Demographic disparity: 0.4706\n"
     ]
    },
    {
     "name": "stderr",
     "output_type": "stream",
     "text": [
      " 38%|███▊      | 115/300 [00:01<00:01, 93.60it/s]"
     ]
    },
    {
     "name": "stdout",
     "output_type": "stream",
     "text": [
      "\n",
      " | Global Training Round : 101 |\n",
      "\n",
      " \n",
      "Avg Training Stats after 101 global rounds:\n",
      "accuracy loss: 4.13 | fairness loss 82.83 | Demographic disparity = 0.42\n",
      "Training loss: 45.38 | Validation accuracy: 89.22% | Validation Demographic disparity: 0.4152\n"
     ]
    },
    {
     "name": "stderr",
     "output_type": "stream",
     "text": [
      " 55%|█████▌    | 166/300 [00:01<00:01, 96.36it/s]"
     ]
    },
    {
     "name": "stdout",
     "output_type": "stream",
     "text": [
      "\n",
      " | Global Training Round : 151 |\n",
      "\n",
      " \n",
      "Avg Training Stats after 151 global rounds:\n",
      "accuracy loss: 4.09 | fairness loss 84.84 | Demographic disparity = 0.39\n",
      "Training loss: 44.96 | Validation accuracy: 90.20% | Validation Demographic disparity: 0.3858\n"
     ]
    },
    {
     "name": "stderr",
     "output_type": "stream",
     "text": [
      " 73%|███████▎  | 220/300 [00:02<00:00, 100.44it/s]"
     ]
    },
    {
     "name": "stdout",
     "output_type": "stream",
     "text": [
      "\n",
      " | Global Training Round : 201 |\n",
      "\n",
      " \n",
      "Avg Training Stats after 201 global rounds:\n",
      "accuracy loss: 4.08 | fairness loss 84.89 | Demographic disparity = 0.40\n",
      "Training loss: 44.93 | Validation accuracy: 89.22% | Validation Demographic disparity: 0.3956\n"
     ]
    },
    {
     "name": "stderr",
     "output_type": "stream",
     "text": [
      " 88%|████████▊ | 264/300 [00:02<00:00, 100.91it/s]"
     ]
    },
    {
     "name": "stdout",
     "output_type": "stream",
     "text": [
      "\n",
      " | Global Training Round : 251 |\n",
      "\n",
      " \n",
      "Avg Training Stats after 251 global rounds:\n",
      "accuracy loss: 4.08 | fairness loss 84.89 | Demographic disparity = 0.40\n",
      "Training loss: 44.93 | Validation accuracy: 89.22% | Validation Demographic disparity: 0.3956\n"
     ]
    },
    {
     "name": "stderr",
     "output_type": "stream",
     "text": [
      "100%|██████████| 300/300 [00:03<00:00, 94.19it/s] \n",
      "  4%|▍         | 13/300 [00:00<00:02, 121.44it/s]"
     ]
    },
    {
     "name": "stdout",
     "output_type": "stream",
     "text": [
      " \n",
      " Results after 300 global rounds of training:\n",
      "|---- Avg Train Accuracy: 89.22%\n",
      "|---- Test Accuracy: 89.00%\n",
      "|---- Test Demographic disparity: 0.3846\n",
      "\n",
      " Total Run Time: 3.1988 sec\n",
      "\n",
      " | Global Training Round : 1 |\n",
      "\n",
      " \n",
      "Avg Training Stats after 1 global rounds:\n",
      "accuracy loss: 7.56 | fairness loss 414.97 | Demographic disparity = 0.25\n",
      "Training loss: 68.06 | Validation accuracy: 57.65% | Validation Demographic disparity: 0.2452\n"
     ]
    },
    {
     "name": "stderr",
     "output_type": "stream",
     "text": [
      " 21%|██▏       | 64/300 [00:00<00:01, 120.14it/s]"
     ]
    },
    {
     "name": "stdout",
     "output_type": "stream",
     "text": [
      "\n",
      " | Global Training Round : 51 |\n",
      "\n",
      " \n",
      "Avg Training Stats after 51 global rounds:\n",
      "accuracy loss: 4.91 | fairness loss 75.78 | Demographic disparity = 0.54\n",
      "Training loss: 44.16 | Validation accuracy: 80.00% | Validation Demographic disparity: 0.5377\n"
     ]
    },
    {
     "name": "stderr",
     "output_type": "stream",
     "text": [
      " 38%|███▊      | 114/300 [00:00<00:01, 119.10it/s]"
     ]
    },
    {
     "name": "stdout",
     "output_type": "stream",
     "text": [
      "\n",
      " | Global Training Round : 101 |\n",
      "\n",
      " \n",
      "Avg Training Stats after 101 global rounds:\n",
      "accuracy loss: 4.68 | fairness loss 58.87 | Demographic disparity = 0.44\n",
      "Training loss: 42.15 | Validation accuracy: 85.88% | Validation Demographic disparity: 0.4413\n"
     ]
    },
    {
     "name": "stderr",
     "output_type": "stream",
     "text": [
      " 55%|█████▍    | 164/300 [00:01<00:01, 119.91it/s]"
     ]
    },
    {
     "name": "stdout",
     "output_type": "stream",
     "text": [
      "\n",
      " | Global Training Round : 151 |\n",
      "\n",
      " \n",
      "Avg Training Stats after 151 global rounds:\n",
      "accuracy loss: 4.67 | fairness loss 59.71 | Demographic disparity = 0.43\n",
      "Training loss: 42.04 | Validation accuracy: 84.71% | Validation Demographic disparity: 0.4296\n"
     ]
    },
    {
     "name": "stderr",
     "output_type": "stream",
     "text": [
      " 72%|███████▏  | 215/300 [00:01<00:00, 119.94it/s]"
     ]
    },
    {
     "name": "stdout",
     "output_type": "stream",
     "text": [
      "\n",
      " | Global Training Round : 201 |\n",
      "\n",
      " \n",
      "Avg Training Stats after 201 global rounds:\n",
      "accuracy loss: 4.67 | fairness loss 59.78 | Demographic disparity = 0.43\n",
      "Training loss: 42.02 | Validation accuracy: 84.71% | Validation Demographic disparity: 0.4296\n"
     ]
    },
    {
     "name": "stderr",
     "output_type": "stream",
     "text": [
      " 89%|████████▊ | 266/300 [00:02<00:00, 121.20it/s]"
     ]
    },
    {
     "name": "stdout",
     "output_type": "stream",
     "text": [
      "\n",
      " | Global Training Round : 251 |\n",
      "\n",
      " \n",
      "Avg Training Stats after 251 global rounds:\n",
      "accuracy loss: 4.67 | fairness loss 59.80 | Demographic disparity = 0.43\n",
      "Training loss: 42.02 | Validation accuracy: 84.71% | Validation Demographic disparity: 0.4296\n"
     ]
    },
    {
     "name": "stderr",
     "output_type": "stream",
     "text": [
      "100%|██████████| 300/300 [00:02<00:00, 119.50it/s]"
     ]
    },
    {
     "name": "stdout",
     "output_type": "stream",
     "text": [
      " \n",
      " Results after 300 global rounds of training:\n",
      "|---- Avg Train Accuracy: 84.71%\n",
      "|---- Test Accuracy: 87.67%\n",
      "|---- Test Demographic disparity: 0.4274\n",
      "\n",
      " Total Run Time: 2.5256 sec\n"
     ]
    },
    {
     "name": "stderr",
     "output_type": "stream",
     "text": [
      "\n"
     ]
    },
    {
     "data": {
      "text/plain": [
       "(0.82814, 0.3080326829268292)"
      ]
     },
     "execution_count": 10,
     "metadata": {},
     "output_type": "execute_result"
    }
   ],
   "source": [
    "runNonFed(synthetic_info, method = 'FC', learning_rate = 0.01, num_epochs = 300, num_features = 3,\n",
    "                optimizer = 'adam', seed = 123, penalty = 1000, Z = 2)"
   ]
  },
  {
   "cell_type": "code",
   "execution_count": 3,
   "metadata": {
    "scrolled": true
   },
   "outputs": [
    {
     "name": "stderr",
     "output_type": "stream",
     "text": [
      "  3%|▎         | 8/300 [00:00<00:03, 74.90it/s]"
     ]
    },
    {
     "name": "stdout",
     "output_type": "stream",
     "text": [
      "\n",
      " | Global Training Round : 1 |\n",
      "\n",
      " \n",
      "Avg Training Stats after 1 global rounds:\n",
      "accuracy loss: 10.67 | fairness loss 887.87 | Demographic disparity = 0.42\n",
      "Training loss: 117.37 | Validation accuracy: 60.87% | Validation Demographic disparity: 0.4246\n"
     ]
    },
    {
     "name": "stderr",
     "output_type": "stream",
     "text": [
      " 21%|██        | 62/300 [00:00<00:03, 73.68it/s]"
     ]
    },
    {
     "name": "stdout",
     "output_type": "stream",
     "text": [
      "\n",
      " | Global Training Round : 51 |\n",
      "\n",
      " \n",
      "Avg Training Stats after 51 global rounds:\n",
      "accuracy loss: 6.07 | fairness loss 41.58 | Demographic disparity = 0.00\n",
      "Training loss: 66.78 | Validation accuracy: 78.26% | Validation Demographic disparity: 0.0000\n"
     ]
    },
    {
     "name": "stderr",
     "output_type": "stream",
     "text": [
      " 38%|███▊      | 114/300 [00:01<00:02, 82.97it/s]"
     ]
    },
    {
     "name": "stdout",
     "output_type": "stream",
     "text": [
      "\n",
      " | Global Training Round : 101 |\n",
      "\n",
      " \n",
      "Avg Training Stats after 101 global rounds:\n",
      "accuracy loss: 5.60 | fairness loss 29.03 | Demographic disparity = 0.00\n",
      "Training loss: 61.57 | Validation accuracy: 78.26% | Validation Demographic disparity: 0.0000\n"
     ]
    },
    {
     "name": "stderr",
     "output_type": "stream",
     "text": [
      " 53%|█████▎    | 160/300 [00:02<00:01, 87.55it/s]"
     ]
    },
    {
     "name": "stdout",
     "output_type": "stream",
     "text": [
      "\n",
      " | Global Training Round : 151 |\n",
      "\n",
      " \n",
      "Avg Training Stats after 151 global rounds:\n",
      "accuracy loss: 5.48 | fairness loss 31.10 | Demographic disparity = 0.00\n",
      "Training loss: 60.28 | Validation accuracy: 78.26% | Validation Demographic disparity: 0.0000\n"
     ]
    },
    {
     "name": "stderr",
     "output_type": "stream",
     "text": [
      " 72%|███████▏  | 216/300 [00:02<00:00, 87.51it/s]"
     ]
    },
    {
     "name": "stdout",
     "output_type": "stream",
     "text": [
      "\n",
      " | Global Training Round : 201 |\n",
      "\n",
      " \n",
      "Avg Training Stats after 201 global rounds:\n",
      "accuracy loss: 5.43 | fairness loss 35.62 | Demographic disparity = 0.00\n",
      "Training loss: 59.71 | Validation accuracy: 78.26% | Validation Demographic disparity: 0.0000\n"
     ]
    },
    {
     "name": "stderr",
     "output_type": "stream",
     "text": [
      " 87%|████████▋ | 262/300 [00:03<00:00, 87.15it/s]"
     ]
    },
    {
     "name": "stdout",
     "output_type": "stream",
     "text": [
      "\n",
      " | Global Training Round : 251 |\n",
      "\n",
      " \n",
      "Avg Training Stats after 251 global rounds:\n",
      "accuracy loss: 5.41 | fairness loss 38.57 | Demographic disparity = 0.00\n",
      "Training loss: 59.48 | Validation accuracy: 78.26% | Validation Demographic disparity: 0.0000\n"
     ]
    },
    {
     "name": "stderr",
     "output_type": "stream",
     "text": [
      "100%|██████████| 300/300 [00:03<00:00, 81.27it/s]\n",
      "  4%|▍         | 13/300 [00:00<00:02, 128.81it/s]"
     ]
    },
    {
     "name": "stdout",
     "output_type": "stream",
     "text": [
      " \n",
      " Results after 300 global rounds of training:\n",
      "|---- Avg Train Accuracy: 77.54%\n",
      "|---- Test Accuracy: 61.33%\n",
      "|---- Test Demographic disparity: 0.0015\n",
      "\n",
      " Total Run Time: 3.7060 sec\n",
      "\n",
      " | Global Training Round : 1 |\n",
      "\n",
      " \n",
      "Avg Training Stats after 1 global rounds:\n",
      "accuracy loss: 7.56 | fairness loss 11220.23 | Demographic disparity = 0.21\n",
      "Training loss: 60.49 | Validation accuracy: 60.27% | Validation Demographic disparity: 0.2063\n"
     ]
    },
    {
     "name": "stderr",
     "output_type": "stream",
     "text": [
      " 20%|██        | 61/300 [00:00<00:02, 118.68it/s]"
     ]
    },
    {
     "name": "stdout",
     "output_type": "stream",
     "text": [
      "\n",
      " | Global Training Round : 51 |\n",
      "\n",
      " \n",
      "Avg Training Stats after 51 global rounds:\n",
      "accuracy loss: 6.20 | fairness loss 208.24 | Demographic disparity = 0.09\n",
      "Training loss: 49.63 | Validation accuracy: 50.68% | Validation Demographic disparity: 0.0904\n"
     ]
    },
    {
     "name": "stderr",
     "output_type": "stream",
     "text": [
      " 41%|████▏     | 124/300 [00:01<00:01, 121.78it/s]"
     ]
    },
    {
     "name": "stdout",
     "output_type": "stream",
     "text": [
      "\n",
      " | Global Training Round : 101 |\n",
      "\n",
      " \n",
      "Avg Training Stats after 101 global rounds:\n",
      "accuracy loss: 6.00 | fairness loss 6.16 | Demographic disparity = 0.00\n",
      "Training loss: 47.96 | Validation accuracy: 61.64% | Validation Demographic disparity: 0.0000\n"
     ]
    },
    {
     "name": "stderr",
     "output_type": "stream",
     "text": [
      " 58%|█████▊    | 175/300 [00:01<00:01, 122.38it/s]"
     ]
    },
    {
     "name": "stdout",
     "output_type": "stream",
     "text": [
      "\n",
      " | Global Training Round : 151 |\n",
      "\n",
      " \n",
      "Avg Training Stats after 151 global rounds:\n",
      "accuracy loss: 6.00 | fairness loss 5.11 | Demographic disparity = 0.00\n",
      "Training loss: 48.00 | Validation accuracy: 61.64% | Validation Demographic disparity: 0.0000\n"
     ]
    },
    {
     "name": "stderr",
     "output_type": "stream",
     "text": [
      " 71%|███████   | 212/300 [00:01<00:00, 113.57it/s]"
     ]
    },
    {
     "name": "stdout",
     "output_type": "stream",
     "text": [
      "\n",
      " | Global Training Round : 201 |\n",
      "\n",
      " \n",
      "Avg Training Stats after 201 global rounds:\n",
      "accuracy loss: 6.00 | fairness loss 4.99 | Demographic disparity = 0.00\n",
      "Training loss: 48.01 | Validation accuracy: 61.64% | Validation Demographic disparity: 0.0000\n"
     ]
    },
    {
     "name": "stderr",
     "output_type": "stream",
     "text": [
      " 92%|█████████▏| 275/300 [00:02<00:00, 120.11it/s]"
     ]
    },
    {
     "name": "stdout",
     "output_type": "stream",
     "text": [
      "\n",
      " | Global Training Round : 251 |\n",
      "\n",
      " \n",
      "Avg Training Stats after 251 global rounds:\n",
      "accuracy loss: 6.00 | fairness loss 4.97 | Demographic disparity = 0.00\n",
      "Training loss: 48.01 | Validation accuracy: 61.64% | Validation Demographic disparity: 0.0000\n"
     ]
    },
    {
     "name": "stderr",
     "output_type": "stream",
     "text": [
      "100%|██████████| 300/300 [00:02<00:00, 118.01it/s]\n",
      "  3%|▎         | 9/300 [00:00<00:03, 89.22it/s]"
     ]
    },
    {
     "name": "stdout",
     "output_type": "stream",
     "text": [
      " \n",
      " Results after 300 global rounds of training:\n",
      "|---- Avg Train Accuracy: 61.64%\n",
      "|---- Test Accuracy: 60.67%\n",
      "|---- Test Demographic disparity: 0.0000\n",
      "\n",
      " Total Run Time: 2.5533 sec\n",
      "\n",
      " | Global Training Round : 1 |\n",
      "\n",
      " \n",
      "Avg Training Stats after 1 global rounds:\n",
      "accuracy loss: 8.68 | fairness loss 90433.18 | Demographic disparity = 0.32\n",
      "Training loss: 86.85 | Validation accuracy: 49.45% | Validation Demographic disparity: 0.3222\n"
     ]
    },
    {
     "name": "stderr",
     "output_type": "stream",
     "text": [
      " 20%|██        | 60/300 [00:00<00:02, 94.73it/s]"
     ]
    },
    {
     "name": "stdout",
     "output_type": "stream",
     "text": [
      "\n",
      " | Global Training Round : 51 |\n",
      "\n",
      " \n",
      "Avg Training Stats after 51 global rounds:\n",
      "accuracy loss: 7.16 | fairness loss 1789.29 | Demographic disparity = 0.00\n",
      "Training loss: 71.62 | Validation accuracy: 52.75% | Validation Demographic disparity: 0.0000\n"
     ]
    },
    {
     "name": "stderr",
     "output_type": "stream",
     "text": [
      " 37%|███▋      | 112/300 [00:01<00:01, 98.78it/s]"
     ]
    },
    {
     "name": "stdout",
     "output_type": "stream",
     "text": [
      "\n",
      " | Global Training Round : 101 |\n",
      "\n",
      " \n",
      "Avg Training Stats after 101 global rounds:\n",
      "accuracy loss: 6.52 | fairness loss 16.47 | Demographic disparity = 0.00\n",
      "Training loss: 65.20 | Validation accuracy: 52.75% | Validation Demographic disparity: 0.0000\n"
     ]
    },
    {
     "name": "stderr",
     "output_type": "stream",
     "text": [
      " 56%|█████▌    | 167/300 [00:01<00:01, 100.04it/s]"
     ]
    },
    {
     "name": "stdout",
     "output_type": "stream",
     "text": [
      "\n",
      " | Global Training Round : 151 |\n",
      "\n",
      " \n",
      "Avg Training Stats after 151 global rounds:\n",
      "accuracy loss: 6.47 | fairness loss 5.44 | Demographic disparity = 0.00\n",
      "Training loss: 64.71 | Validation accuracy: 52.75% | Validation Demographic disparity: 0.0000\n"
     ]
    },
    {
     "name": "stderr",
     "output_type": "stream",
     "text": [
      " 70%|███████   | 210/300 [00:02<00:00, 99.56it/s] "
     ]
    },
    {
     "name": "stdout",
     "output_type": "stream",
     "text": [
      "\n",
      " | Global Training Round : 201 |\n",
      "\n",
      " \n",
      "Avg Training Stats after 201 global rounds:\n",
      "accuracy loss: 6.46 | fairness loss 2.31 | Demographic disparity = 0.00\n",
      "Training loss: 64.65 | Validation accuracy: 52.75% | Validation Demographic disparity: 0.0000\n"
     ]
    },
    {
     "name": "stderr",
     "output_type": "stream",
     "text": [
      " 87%|████████▋ | 262/300 [00:02<00:00, 92.72it/s] "
     ]
    },
    {
     "name": "stdout",
     "output_type": "stream",
     "text": [
      "\n",
      " | Global Training Round : 251 |\n",
      "\n",
      " \n",
      "Avg Training Stats after 251 global rounds:\n",
      "accuracy loss: 6.46 | fairness loss 1.13 | Demographic disparity = 0.00\n",
      "Training loss: 64.58 | Validation accuracy: 52.75% | Validation Demographic disparity: 0.0000\n"
     ]
    },
    {
     "name": "stderr",
     "output_type": "stream",
     "text": [
      "100%|██████████| 300/300 [00:03<00:00, 96.23it/s]"
     ]
    },
    {
     "name": "stdout",
     "output_type": "stream",
     "text": [
      " \n",
      " Results after 300 global rounds of training:\n",
      "|---- Avg Train Accuracy: 52.75%\n",
      "|---- Test Accuracy: 39.33%\n",
      "|---- Test Demographic disparity: 0.0000\n",
      "\n",
      " Total Run Time: 3.1287 sec\n"
     ]
    },
    {
     "name": "stderr",
     "output_type": "stream",
     "text": [
      "\n"
     ]
    },
    {
     "data": {
      "text/plain": [
       "(0.5453644444444444, 0.000670243902439025)"
      ]
     },
     "execution_count": 3,
     "metadata": {},
     "output_type": "execute_result"
    }
   ],
   "source": [
    "runNonFed(synthetic_info, method = 'FC', learning_rate = 0.01, num_epochs = 300, num_features = 3,\n",
    "                optimizer = 'adam', seed = 123, penalty = (5000, 25000, 250000), Z = 2)"
   ]
  },
  {
   "cell_type": "code",
   "execution_count": 3,
   "metadata": {
    "scrolled": true
   },
   "outputs": [
    {
     "name": "stderr",
     "output_type": "stream",
     "text": [
      "  1%|          | 2/300 [00:00<00:20, 14.89it/s]"
     ]
    },
    {
     "name": "stdout",
     "output_type": "stream",
     "text": [
      "\n",
      " | Global Training Round : 1 |\n",
      "\n",
      "Accuracy loss: 101.08 | fairness loss 48.16 | Demographic disparity = 0.38\n",
      " \n",
      "Avg Training Stats after 1 global rounds:\n",
      "Training loss: 0.79 | Training accuracy: 61.68% | Training Demographic disparity: 0.3774\n"
     ]
    },
    {
     "name": "stderr",
     "output_type": "stream",
     "text": [
      " 18%|█▊        | 53/300 [00:03<00:16, 14.92it/s]"
     ]
    },
    {
     "name": "stdout",
     "output_type": "stream",
     "text": [
      "\n",
      " | Global Training Round : 51 |\n",
      "\n",
      "Accuracy loss: 44.89 | fairness loss 37.38 | Demographic disparity = 0.32\n",
      " \n",
      "Avg Training Stats after 51 global rounds:\n",
      "Training loss: 0.57 | Training accuracy: 85.63% | Training Demographic disparity: 0.3165\n"
     ]
    },
    {
     "name": "stderr",
     "output_type": "stream",
     "text": [
      " 34%|███▍      | 103/300 [00:07<00:12, 15.36it/s]"
     ]
    },
    {
     "name": "stdout",
     "output_type": "stream",
     "text": [
      "\n",
      " | Global Training Round : 101 |\n",
      "\n",
      "Accuracy loss: 47.16 | fairness loss 43.47 | Demographic disparity = 0.19\n",
      " \n",
      "Avg Training Stats after 101 global rounds:\n",
      "Training loss: 0.46 | Training accuracy: 83.68% | Training Demographic disparity: 0.1910\n"
     ]
    },
    {
     "name": "stderr",
     "output_type": "stream",
     "text": [
      " 51%|█████     | 153/300 [00:10<00:09, 14.98it/s]"
     ]
    },
    {
     "name": "stdout",
     "output_type": "stream",
     "text": [
      "\n",
      " | Global Training Round : 151 |\n",
      "\n",
      "Accuracy loss: 52.56 | fairness loss 42.94 | Demographic disparity = 0.11\n",
      " \n",
      "Avg Training Stats after 151 global rounds:\n",
      "Training loss: 0.41 | Training accuracy: 81.82% | Training Demographic disparity: 0.1062\n"
     ]
    },
    {
     "name": "stderr",
     "output_type": "stream",
     "text": [
      " 68%|██████▊   | 203/300 [00:13<00:06, 14.76it/s]"
     ]
    },
    {
     "name": "stdout",
     "output_type": "stream",
     "text": [
      "\n",
      " | Global Training Round : 201 |\n",
      "\n",
      "Accuracy loss: 58.26 | fairness loss 44.51 | Demographic disparity = 0.04\n",
      " \n",
      "Avg Training Stats after 201 global rounds:\n",
      "Training loss: 0.37 | Training accuracy: 79.28% | Training Demographic disparity: 0.0432\n"
     ]
    },
    {
     "name": "stderr",
     "output_type": "stream",
     "text": [
      " 84%|████████▎ | 251/300 [00:18<00:09,  5.19it/s]"
     ]
    },
    {
     "name": "stdout",
     "output_type": "stream",
     "text": [
      "\n",
      " | Global Training Round : 251 |\n",
      "\n",
      "Accuracy loss: 63.79 | fairness loss 47.50 | Demographic disparity = 0.01\n",
      " \n",
      "Avg Training Stats after 251 global rounds:\n",
      "Training loss: 0.34 | Training accuracy: 77.61% | Training Demographic disparity: 0.0071\n"
     ]
    },
    {
     "name": "stderr",
     "output_type": "stream",
     "text": [
      "100%|██████████| 300/300 [00:24<00:00, 12.23it/s]\n",
      "  1%|          | 2/300 [00:00<00:21, 13.60it/s]"
     ]
    },
    {
     "name": "stdout",
     "output_type": "stream",
     "text": [
      " \n",
      " Results after 300 global rounds of training:\n",
      "|---- Avg Train Accuracy: 75.46%\n",
      "|---- Test Accuracy: 67.67%\n",
      "|---- Test Demographic disparity: 0.0882\n",
      "\n",
      " Total Run Time: 24.5820 sec\n",
      "\n",
      " | Global Training Round : 1 |\n",
      "\n",
      "Accuracy loss: 95.77 | fairness loss 52.43 | Demographic disparity = 0.22\n",
      " \n",
      "Avg Training Stats after 1 global rounds:\n",
      "Training loss: 0.85 | Training accuracy: 57.52% | Training Demographic disparity: 0.2190\n"
     ]
    },
    {
     "name": "stderr",
     "output_type": "stream",
     "text": [
      " 17%|█▋        | 52/300 [00:03<00:18, 13.74it/s]"
     ]
    },
    {
     "name": "stdout",
     "output_type": "stream",
     "text": [
      "\n",
      " | Global Training Round : 51 |\n",
      "\n",
      "Accuracy loss: 44.56 | fairness loss 46.89 | Demographic disparity = 0.24\n",
      " \n",
      "Avg Training Stats after 51 global rounds:\n",
      "Training loss: 0.63 | Training accuracy: 85.40% | Training Demographic disparity: 0.2376\n"
     ]
    },
    {
     "name": "stderr",
     "output_type": "stream",
     "text": [
      " 34%|███▍      | 102/300 [00:06<00:12, 15.96it/s]"
     ]
    },
    {
     "name": "stdout",
     "output_type": "stream",
     "text": [
      "\n",
      " | Global Training Round : 101 |\n",
      "\n",
      "Accuracy loss: 47.02 | fairness loss 58.33 | Demographic disparity = 0.17\n",
      " \n",
      "Avg Training Stats after 101 global rounds:\n",
      "Training loss: 0.52 | Training accuracy: 82.24% | Training Demographic disparity: 0.1663\n"
     ]
    },
    {
     "name": "stderr",
     "output_type": "stream",
     "text": [
      " 51%|█████     | 152/300 [00:09<00:09, 15.23it/s]"
     ]
    },
    {
     "name": "stdout",
     "output_type": "stream",
     "text": [
      "\n",
      " | Global Training Round : 151 |\n",
      "\n",
      "Accuracy loss: 53.51 | fairness loss 59.19 | Demographic disparity = 0.10\n",
      " \n",
      "Avg Training Stats after 151 global rounds:\n",
      "Training loss: 0.46 | Training accuracy: 78.00% | Training Demographic disparity: 0.0968\n"
     ]
    },
    {
     "name": "stderr",
     "output_type": "stream",
     "text": [
      " 67%|██████▋   | 202/300 [00:13<00:06, 15.37it/s]"
     ]
    },
    {
     "name": "stdout",
     "output_type": "stream",
     "text": [
      "\n",
      " | Global Training Round : 201 |\n",
      "\n",
      "Accuracy loss: 60.93 | fairness loss 57.48 | Demographic disparity = 0.02\n",
      " \n",
      "Avg Training Stats after 201 global rounds:\n",
      "Training loss: 0.42 | Training accuracy: 73.09% | Training Demographic disparity: 0.0238\n"
     ]
    },
    {
     "name": "stderr",
     "output_type": "stream",
     "text": [
      " 84%|████████▍ | 252/300 [00:16<00:03, 15.78it/s]"
     ]
    },
    {
     "name": "stdout",
     "output_type": "stream",
     "text": [
      "\n",
      " | Global Training Round : 251 |\n",
      "\n",
      "Accuracy loss: 67.35 | fairness loss 66.01 | Demographic disparity = 0.03\n",
      " \n",
      "Avg Training Stats after 251 global rounds:\n",
      "Training loss: 0.39 | Training accuracy: 68.74% | Training Demographic disparity: 0.0257\n"
     ]
    },
    {
     "name": "stderr",
     "output_type": "stream",
     "text": [
      "100%|██████████| 300/300 [00:19<00:00, 15.14it/s]\n",
      "  1%|          | 2/300 [00:00<00:15, 19.38it/s]"
     ]
    },
    {
     "name": "stdout",
     "output_type": "stream",
     "text": [
      " \n",
      " Results after 300 global rounds of training:\n",
      "|---- Avg Train Accuracy: 67.97%\n",
      "|---- Test Accuracy: 67.00%\n",
      "|---- Test Demographic disparity: 0.0715\n",
      "\n",
      " Total Run Time: 19.8299 sec\n",
      "\n",
      " | Global Training Round : 1 |\n",
      "\n",
      "Accuracy loss: 104.46 | fairness loss 53.46 | Demographic disparity = 0.27\n",
      " \n",
      "Avg Training Stats after 1 global rounds:\n",
      "Training loss: 0.84 | Training accuracy: 58.18% | Training Demographic disparity: 0.2690\n"
     ]
    },
    {
     "name": "stderr",
     "output_type": "stream",
     "text": [
      " 18%|█▊        | 54/300 [00:02<00:11, 20.93it/s]"
     ]
    },
    {
     "name": "stdout",
     "output_type": "stream",
     "text": [
      "\n",
      " | Global Training Round : 51 |\n",
      "\n",
      "Accuracy loss: 55.98 | fairness loss 35.50 | Demographic disparity = 0.31\n",
      " \n",
      "Avg Training Stats after 51 global rounds:\n",
      "Training loss: 0.71 | Training accuracy: 85.22% | Training Demographic disparity: 0.3114\n"
     ]
    },
    {
     "name": "stderr",
     "output_type": "stream",
     "text": [
      " 35%|███▍      | 104/300 [00:05<00:10, 18.95it/s]"
     ]
    },
    {
     "name": "stdout",
     "output_type": "stream",
     "text": [
      "\n",
      " | Global Training Round : 101 |\n",
      "\n",
      "Accuracy loss: 57.25 | fairness loss 48.95 | Demographic disparity = 0.18\n",
      " \n",
      "Avg Training Stats after 101 global rounds:\n",
      "Training loss: 0.59 | Training accuracy: 78.50% | Training Demographic disparity: 0.1802\n"
     ]
    },
    {
     "name": "stderr",
     "output_type": "stream",
     "text": [
      " 51%|█████     | 153/300 [00:07<00:08, 18.37it/s]"
     ]
    },
    {
     "name": "stdout",
     "output_type": "stream",
     "text": [
      "\n",
      " | Global Training Round : 151 |\n",
      "\n",
      "Accuracy loss: 63.25 | fairness loss 51.88 | Demographic disparity = 0.10\n",
      " \n",
      "Avg Training Stats after 151 global rounds:\n",
      "Training loss: 0.52 | Training accuracy: 74.01% | Training Demographic disparity: 0.0995\n"
     ]
    },
    {
     "name": "stderr",
     "output_type": "stream",
     "text": [
      " 68%|██████▊   | 203/300 [00:10<00:04, 19.99it/s]"
     ]
    },
    {
     "name": "stdout",
     "output_type": "stream",
     "text": [
      "\n",
      " | Global Training Round : 201 |\n",
      "\n",
      "Accuracy loss: 70.25 | fairness loss 53.66 | Demographic disparity = 0.04\n",
      " \n",
      "Avg Training Stats after 201 global rounds:\n",
      "Training loss: 0.48 | Training accuracy: 70.05% | Training Demographic disparity: 0.0394\n"
     ]
    },
    {
     "name": "stderr",
     "output_type": "stream",
     "text": [
      " 84%|████████▍ | 252/300 [00:13<00:02, 18.90it/s]"
     ]
    },
    {
     "name": "stdout",
     "output_type": "stream",
     "text": [
      "\n",
      " | Global Training Round : 251 |\n",
      "\n",
      "Accuracy loss: 77.39 | fairness loss 55.59 | Demographic disparity = 0.03\n",
      " \n",
      "Avg Training Stats after 251 global rounds:\n",
      "Training loss: 0.45 | Training accuracy: 66.23% | Training Demographic disparity: 0.0268\n"
     ]
    },
    {
     "name": "stderr",
     "output_type": "stream",
     "text": [
      "100%|██████████| 300/300 [00:15<00:00, 19.02it/s]\n"
     ]
    },
    {
     "name": "stdout",
     "output_type": "stream",
     "text": [
      " \n",
      " Results after 300 global rounds of training:\n",
      "|---- Avg Train Accuracy: 63.85%\n",
      "|---- Test Accuracy: 65.33%\n",
      "|---- Test Demographic disparity: 0.0763\n",
      "\n",
      " Total Run Time: 15.8017 sec\n"
     ]
    },
    {
     "data": {
      "text/plain": [
       "(0.6678433333333333, 0.07915878048780489)"
      ]
     },
     "execution_count": 3,
     "metadata": {},
     "output_type": "execute_result"
    }
   ],
   "source": [
    "runNonFed(synthetic_info, method = 'FairBatch', learning_rate = 0.002, num_epochs = 300, num_features = 3,\n",
    "                optimizer = 'adam', seed = 123, alpha = 0.1, Z = 2)"
   ]
  },
  {
   "cell_type": "code",
   "execution_count": 6,
   "metadata": {
    "scrolled": true
   },
   "outputs": [
    {
     "name": "stderr",
     "output_type": "stream",
     "text": [
      "  1%|          | 3/300 [00:00<00:13, 22.02it/s]"
     ]
    },
    {
     "name": "stdout",
     "output_type": "stream",
     "text": [
      "\n",
      " | Global Training Round : 1 |\n",
      "\n"
     ]
    },
    {
     "name": "stderr",
     "output_type": "stream",
     "text": [
      " 18%|█▊        | 54/300 [00:02<00:10, 24.40it/s]"
     ]
    },
    {
     "name": "stdout",
     "output_type": "stream",
     "text": [
      "Predictor loss: 39.76 | adversary loss 1.63 | Demographic disparity = 0.63\n",
      " \n",
      "Avg Training Stats after 50 global rounds:\n",
      "Training loss: 0.34 | Validation accuracy: 84.78% | Validation Demographic disparity: 0.6333\n",
      "\n",
      " | Global Training Round : 51 |\n",
      "\n"
     ]
    },
    {
     "name": "stderr",
     "output_type": "stream",
     "text": [
      " 34%|███▍      | 102/300 [00:04<00:09, 20.37it/s]"
     ]
    },
    {
     "name": "stdout",
     "output_type": "stream",
     "text": [
      "Predictor loss: 63.42 | adversary loss 2.76 | Demographic disparity = 0.24\n",
      " \n",
      "Avg Training Stats after 100 global rounds:\n",
      "Training loss: 0.41 | Validation accuracy: 79.71% | Validation Demographic disparity: 0.2377\n",
      "\n",
      " | Global Training Round : 101 |\n",
      "\n"
     ]
    },
    {
     "name": "stderr",
     "output_type": "stream",
     "text": [
      " 51%|█████     | 153/300 [00:06<00:05, 26.65it/s]"
     ]
    },
    {
     "name": "stdout",
     "output_type": "stream",
     "text": [
      "Predictor loss: 62.17 | adversary loss 2.85 | Demographic disparity = 0.10\n",
      " \n",
      "Avg Training Stats after 150 global rounds:\n",
      "Training loss: 0.40 | Validation accuracy: 79.71% | Validation Demographic disparity: 0.0957\n",
      "\n",
      " | Global Training Round : 151 |\n",
      "\n"
     ]
    },
    {
     "name": "stderr",
     "output_type": "stream",
     "text": [
      " 68%|██████▊   | 204/300 [00:08<00:03, 27.43it/s]"
     ]
    },
    {
     "name": "stdout",
     "output_type": "stream",
     "text": [
      "Predictor loss: 56.33 | adversary loss 2.81 | Demographic disparity = 0.06\n",
      " \n",
      "Avg Training Stats after 200 global rounds:\n",
      "Training loss: 0.40 | Validation accuracy: 80.43% | Validation Demographic disparity: 0.0609\n",
      "\n",
      " | Global Training Round : 201 |\n",
      "\n"
     ]
    },
    {
     "name": "stderr",
     "output_type": "stream",
     "text": [
      " 85%|████████▌ | 255/300 [00:10<00:01, 27.87it/s]"
     ]
    },
    {
     "name": "stdout",
     "output_type": "stream",
     "text": [
      "Predictor loss: 53.10 | adversary loss 2.85 | Demographic disparity = 0.09\n",
      " \n",
      "Avg Training Stats after 250 global rounds:\n",
      "Training loss: 0.39 | Validation accuracy: 80.43% | Validation Demographic disparity: 0.0899\n",
      "\n",
      " | Global Training Round : 251 |\n",
      "\n"
     ]
    },
    {
     "name": "stderr",
     "output_type": "stream",
     "text": [
      "100%|██████████| 300/300 [00:11<00:00, 25.59it/s]\n",
      "  2%|▏         | 5/300 [00:00<00:06, 47.46it/s]"
     ]
    },
    {
     "name": "stdout",
     "output_type": "stream",
     "text": [
      "Predictor loss: 57.22 | adversary loss 3.00 | Demographic disparity = 0.02\n",
      " \n",
      "Avg Training Stats after 300 global rounds:\n",
      "Training loss: 0.39 | Validation accuracy: 81.88% | Validation Demographic disparity: 0.0246\n",
      " \n",
      " Results after 300 global rounds of training:\n",
      "|---- Avg Train Accuracy: 81.88%\n",
      "|---- Test Accuracy: 69.33%\n",
      "|---- Test Demographic disparity: 0.0278\n",
      "\n",
      " Total Run Time: 11.7393 sec\n",
      "\n",
      " | Global Training Round : 1 |\n",
      "\n"
     ]
    },
    {
     "name": "stderr",
     "output_type": "stream",
     "text": [
      " 18%|█▊        | 55/300 [00:01<00:05, 45.98it/s]"
     ]
    },
    {
     "name": "stdout",
     "output_type": "stream",
     "text": [
      "Predictor loss: 14.95 | adversary loss 2.94 | Demographic disparity = 0.35\n",
      " \n",
      "Avg Training Stats after 50 global rounds:\n",
      "Training loss: 0.41 | Validation accuracy: 90.41% | Validation Demographic disparity: 0.3456\n",
      "\n",
      " | Global Training Round : 51 |\n",
      "\n"
     ]
    },
    {
     "name": "stderr",
     "output_type": "stream",
     "text": [
      " 37%|███▋      | 110/300 [00:02<00:03, 48.75it/s]"
     ]
    },
    {
     "name": "stdout",
     "output_type": "stream",
     "text": [
      "Predictor loss: 151.85 | adversary loss 3.69 | Demographic disparity = 0.29\n",
      " \n",
      "Avg Training Stats after 100 global rounds:\n",
      "Training loss: 0.64 | Validation accuracy: 28.77% | Validation Demographic disparity: 0.2932\n",
      "\n",
      " | Global Training Round : 101 |\n",
      "\n"
     ]
    },
    {
     "name": "stderr",
     "output_type": "stream",
     "text": [
      " 52%|█████▏    | 155/300 [00:03<00:03, 45.54it/s]"
     ]
    },
    {
     "name": "stdout",
     "output_type": "stream",
     "text": [
      "Predictor loss: 41.55 | adversary loss 4.67 | Demographic disparity = 0.16\n",
      " \n",
      "Avg Training Stats after 150 global rounds:\n",
      "Training loss: 0.80 | Validation accuracy: 72.60% | Validation Demographic disparity: 0.1581\n",
      "\n",
      " | Global Training Round : 151 |\n",
      "\n"
     ]
    },
    {
     "name": "stderr",
     "output_type": "stream",
     "text": [
      " 68%|██████▊   | 205/300 [00:04<00:02, 45.74it/s]"
     ]
    },
    {
     "name": "stdout",
     "output_type": "stream",
     "text": [
      "Predictor loss: 43.81 | adversary loss 6.39 | Demographic disparity = 0.14\n",
      " \n",
      "Avg Training Stats after 200 global rounds:\n",
      "Training loss: 0.73 | Validation accuracy: 71.23% | Validation Demographic disparity: 0.1444\n",
      "\n",
      " | Global Training Round : 201 |\n",
      "\n"
     ]
    },
    {
     "name": "stderr",
     "output_type": "stream",
     "text": [
      " 85%|████████▌ | 256/300 [00:05<00:00, 49.64it/s]"
     ]
    },
    {
     "name": "stdout",
     "output_type": "stream",
     "text": [
      "Predictor loss: 64.97 | adversary loss 6.11 | Demographic disparity = 0.03\n",
      " \n",
      "Avg Training Stats after 250 global rounds:\n",
      "Training loss: 0.75 | Validation accuracy: 54.79% | Validation Demographic disparity: 0.0270\n",
      "\n",
      " | Global Training Round : 251 |\n",
      "\n"
     ]
    },
    {
     "name": "stderr",
     "output_type": "stream",
     "text": [
      "100%|██████████| 300/300 [00:06<00:00, 48.04it/s]\n",
      "  1%|▏         | 4/300 [00:00<00:07, 38.76it/s]"
     ]
    },
    {
     "name": "stdout",
     "output_type": "stream",
     "text": [
      "Predictor loss: 46.06 | adversary loss 5.59 | Demographic disparity = 0.10\n",
      " \n",
      "Avg Training Stats after 300 global rounds:\n",
      "Training loss: 0.74 | Validation accuracy: 67.12% | Validation Demographic disparity: 0.1022\n",
      " \n",
      " Results after 300 global rounds of training:\n",
      "|---- Avg Train Accuracy: 67.12%\n",
      "|---- Test Accuracy: 74.33%\n",
      "|---- Test Demographic disparity: 0.1354\n",
      "\n",
      " Total Run Time: 6.2538 sec\n",
      "\n",
      " | Global Training Round : 1 |\n",
      "\n"
     ]
    },
    {
     "name": "stderr",
     "output_type": "stream",
     "text": [
      " 19%|█▉        | 57/300 [00:01<00:06, 39.39it/s]"
     ]
    },
    {
     "name": "stdout",
     "output_type": "stream",
     "text": [
      "Predictor loss: 31.14 | adversary loss 3.71 | Demographic disparity = 0.58\n",
      " \n",
      "Avg Training Stats after 50 global rounds:\n",
      "Training loss: 0.39 | Validation accuracy: 83.52% | Validation Demographic disparity: 0.5809\n",
      "\n",
      " | Global Training Round : 51 |\n",
      "\n"
     ]
    },
    {
     "name": "stderr",
     "output_type": "stream",
     "text": [
      " 35%|███▌      | 105/300 [00:02<00:04, 40.36it/s]"
     ]
    },
    {
     "name": "stdout",
     "output_type": "stream",
     "text": [
      "Predictor loss: 131.83 | adversary loss 3.29 | Demographic disparity = 0.31\n",
      " \n",
      "Avg Training Stats after 100 global rounds:\n",
      "Training loss: 0.74 | Validation accuracy: 47.25% | Validation Demographic disparity: 0.3067\n",
      "\n",
      " | Global Training Round : 101 |\n",
      "\n"
     ]
    },
    {
     "name": "stderr",
     "output_type": "stream",
     "text": [
      " 52%|█████▏    | 155/300 [00:04<00:03, 37.09it/s]"
     ]
    },
    {
     "name": "stdout",
     "output_type": "stream",
     "text": [
      "Predictor loss: 58.12 | adversary loss 4.63 | Demographic disparity = 0.07\n",
      " \n",
      "Avg Training Stats after 150 global rounds:\n",
      "Training loss: 0.80 | Validation accuracy: 71.43% | Validation Demographic disparity: 0.0744\n",
      "\n",
      " | Global Training Round : 151 |\n",
      "\n"
     ]
    },
    {
     "name": "stderr",
     "output_type": "stream",
     "text": [
      " 68%|██████▊   | 205/300 [00:06<00:03, 27.55it/s]"
     ]
    },
    {
     "name": "stdout",
     "output_type": "stream",
     "text": [
      "Predictor loss: 33.12 | adversary loss 5.63 | Demographic disparity = 0.37\n",
      " \n",
      "Avg Training Stats after 200 global rounds:\n",
      "Training loss: 0.73 | Validation accuracy: 80.22% | Validation Demographic disparity: 0.3661\n",
      "\n",
      " | Global Training Round : 201 |\n",
      "\n"
     ]
    },
    {
     "name": "stderr",
     "output_type": "stream",
     "text": [
      " 85%|████████▌ | 255/300 [00:07<00:01, 34.24it/s]"
     ]
    },
    {
     "name": "stdout",
     "output_type": "stream",
     "text": [
      "Predictor loss: 57.07 | adversary loss 3.71 | Demographic disparity = 0.11\n",
      " \n",
      "Avg Training Stats after 250 global rounds:\n",
      "Training loss: 0.68 | Validation accuracy: 74.73% | Validation Demographic disparity: 0.1074\n",
      "\n",
      " | Global Training Round : 251 |\n",
      "\n"
     ]
    },
    {
     "name": "stderr",
     "output_type": "stream",
     "text": [
      "100%|██████████| 300/300 [00:10<00:00, 28.98it/s]"
     ]
    },
    {
     "name": "stdout",
     "output_type": "stream",
     "text": [
      "Predictor loss: 73.56 | adversary loss 6.33 | Demographic disparity = 0.09\n",
      " \n",
      "Avg Training Stats after 300 global rounds:\n",
      "Training loss: 0.69 | Validation accuracy: 61.54% | Validation Demographic disparity: 0.0949\n",
      " \n",
      " Results after 300 global rounds of training:\n",
      "|---- Avg Train Accuracy: 61.54%\n",
      "|---- Test Accuracy: 60.33%\n",
      "|---- Test Demographic disparity: 0.0620\n",
      "\n",
      " Total Run Time: 10.3668 sec\n"
     ]
    },
    {
     "name": "stderr",
     "output_type": "stream",
     "text": [
      "\n"
     ]
    },
    {
     "data": {
      "text/plain": [
       "(0.6782, 0.0639807046070461)"
      ]
     },
     "execution_count": 6,
     "metadata": {},
     "output_type": "execute_result"
    }
   ],
   "source": [
    "runNonFed(synthetic_info, method = 'FTrain', init_epochs = 50, lr_g = 0.004, lr_d = 0.01, lambda_d = (0.8, 0.91, 0.9))"
   ]
  },
  {
   "cell_type": "code",
   "execution_count": null,
   "metadata": {},
   "outputs": [],
   "source": []
  }
 ],
 "metadata": {
  "kernelspec": {
   "display_name": "Python 3",
   "language": "python",
   "name": "python3"
  },
  "language_info": {
   "codemirror_mode": {
    "name": "ipython",
    "version": 3
   },
   "file_extension": ".py",
   "mimetype": "text/x-python",
   "name": "python",
   "nbconvert_exporter": "python",
   "pygments_lexer": "ipython3",
   "version": "3.7.4"
  }
 },
 "nbformat": 4,
 "nbformat_minor": 2
}
