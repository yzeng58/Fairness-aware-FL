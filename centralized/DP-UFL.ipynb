{
 "cells": [
  {
   "cell_type": "code",
   "execution_count": 1,
   "metadata": {},
   "outputs": [],
   "source": [
    "from DPnonfed import *"
   ]
  },
  {
   "cell_type": "code",
   "execution_count": 2,
   "metadata": {},
   "outputs": [],
   "source": [
    "data_info = ufldataset(test_samples = 300, train_samples = 3000)"
   ]
  },
  {
   "cell_type": "code",
   "execution_count": 3,
   "metadata": {
    "scrolled": true
   },
   "outputs": [
    {
     "name": "stderr",
     "output_type": "stream",
     "text": [
      " 19%|█▉        | 57/300 [00:00<00:03, 75.85it/s]"
     ]
    },
    {
     "name": "stdout",
     "output_type": "stream",
     "text": [
      "\n",
      " | Global Training Round : 50 |\n",
      "\n",
      " \n",
      "Avg Training Stats after 50 global rounds:\n",
      "accuracy loss: 8.23 | fairness loss 42.51 | Demographic disparity = 0.01\n",
      "Training loss: 82.31 | Validation accuracy: 70.00% | Validation Demographic disparity: 0.0072\n"
     ]
    },
    {
     "name": "stderr",
     "output_type": "stream",
     "text": [
      " 38%|███▊      | 114/300 [00:01<00:02, 75.38it/s]"
     ]
    },
    {
     "name": "stdout",
     "output_type": "stream",
     "text": [
      "\n",
      " | Global Training Round : 100 |\n",
      "\n",
      " \n",
      "Avg Training Stats after 100 global rounds:\n",
      "accuracy loss: 8.07 | fairness loss 50.51 | Demographic disparity = 0.01\n",
      "Training loss: 80.73 | Validation accuracy: 70.67% | Validation Demographic disparity: 0.0144\n"
     ]
    },
    {
     "name": "stderr",
     "output_type": "stream",
     "text": [
      " 53%|█████▎    | 158/300 [00:02<00:02, 70.99it/s]"
     ]
    },
    {
     "name": "stdout",
     "output_type": "stream",
     "text": [
      "\n",
      " | Global Training Round : 150 |\n",
      "\n",
      " \n",
      "Avg Training Stats after 150 global rounds:\n",
      "accuracy loss: 8.08 | fairness loss 49.33 | Demographic disparity = 0.01\n",
      "Training loss: 80.77 | Validation accuracy: 70.67% | Validation Demographic disparity: 0.0144\n"
     ]
    },
    {
     "name": "stderr",
     "output_type": "stream",
     "text": [
      " 70%|███████   | 210/300 [00:02<00:01, 77.95it/s]"
     ]
    },
    {
     "name": "stdout",
     "output_type": "stream",
     "text": [
      "\n",
      " | Global Training Round : 200 |\n",
      "\n",
      " \n",
      "Avg Training Stats after 200 global rounds:\n",
      "accuracy loss: 8.07 | fairness loss 49.45 | Demographic disparity = 0.01\n",
      "Training loss: 80.75 | Validation accuracy: 70.67% | Validation Demographic disparity: 0.0144\n"
     ]
    },
    {
     "name": "stderr",
     "output_type": "stream",
     "text": [
      " 87%|████████▋ | 262/300 [00:03<00:00, 80.01it/s]"
     ]
    },
    {
     "name": "stdout",
     "output_type": "stream",
     "text": [
      "\n",
      " | Global Training Round : 250 |\n",
      "\n",
      " \n",
      "Avg Training Stats after 250 global rounds:\n",
      "accuracy loss: 8.07 | fairness loss 49.49 | Demographic disparity = 0.01\n",
      "Training loss: 80.74 | Validation accuracy: 70.67% | Validation Demographic disparity: 0.0144\n"
     ]
    },
    {
     "name": "stderr",
     "output_type": "stream",
     "text": [
      "100%|██████████| 300/300 [00:03<00:00, 75.61it/s]\n",
      "  2%|▏         | 7/300 [00:00<00:04, 67.24it/s]"
     ]
    },
    {
     "name": "stdout",
     "output_type": "stream",
     "text": [
      "\n",
      " | Global Training Round : 300 |\n",
      "\n",
      " \n",
      "Avg Training Stats after 300 global rounds:\n",
      "accuracy loss: 8.07 | fairness loss 49.50 | Demographic disparity = 0.01\n",
      "Training loss: 80.74 | Validation accuracy: 70.67% | Validation Demographic disparity: 0.0144\n",
      " \n",
      " Results after 300 global rounds of training:\n",
      "|---- Avg Train Accuracy: 70.67%\n",
      "|---- Test Accuracy: 42.00%\n",
      "|---- Test Demographic disparity: 0.0033\n",
      "\n",
      " Total Run Time: 3.9840 sec\n"
     ]
    },
    {
     "name": "stderr",
     "output_type": "stream",
     "text": [
      " 22%|██▏       | 65/300 [00:00<00:02, 80.14it/s]"
     ]
    },
    {
     "name": "stdout",
     "output_type": "stream",
     "text": [
      "\n",
      " | Global Training Round : 50 |\n",
      "\n",
      " \n",
      "Avg Training Stats after 50 global rounds:\n",
      "accuracy loss: 8.94 | fairness loss 47.48 | Demographic disparity = 0.13\n",
      "Training loss: 89.35 | Validation accuracy: 71.33% | Validation Demographic disparity: 0.1335\n"
     ]
    },
    {
     "name": "stderr",
     "output_type": "stream",
     "text": [
      " 38%|███▊      | 114/300 [00:01<00:02, 72.32it/s]"
     ]
    },
    {
     "name": "stdout",
     "output_type": "stream",
     "text": [
      "\n",
      " | Global Training Round : 100 |\n",
      "\n",
      " \n",
      "Avg Training Stats after 100 global rounds:\n",
      "accuracy loss: 8.44 | fairness loss 46.54 | Demographic disparity = 0.02\n",
      "Training loss: 84.35 | Validation accuracy: 72.00% | Validation Demographic disparity: 0.0223\n"
     ]
    },
    {
     "name": "stderr",
     "output_type": "stream",
     "text": [
      " 55%|█████▌    | 166/300 [00:02<00:01, 81.81it/s]"
     ]
    },
    {
     "name": "stdout",
     "output_type": "stream",
     "text": [
      "\n",
      " | Global Training Round : 150 |\n",
      "\n",
      " \n",
      "Avg Training Stats after 150 global rounds:\n",
      "accuracy loss: 8.43 | fairness loss 42.91 | Demographic disparity = 0.01\n",
      "Training loss: 84.31 | Validation accuracy: 72.00% | Validation Demographic disparity: 0.0074\n"
     ]
    },
    {
     "name": "stderr",
     "output_type": "stream",
     "text": [
      " 67%|██████▋   | 200/300 [00:02<00:01, 72.91it/s]"
     ]
    },
    {
     "name": "stdout",
     "output_type": "stream",
     "text": [
      "\n",
      " | Global Training Round : 200 |\n",
      "\n",
      " \n",
      "Avg Training Stats after 200 global rounds:\n",
      "accuracy loss: 8.42 | fairness loss 40.12 | Demographic disparity = 0.01\n",
      "Training loss: 84.20 | Validation accuracy: 72.00% | Validation Demographic disparity: 0.0074\n"
     ]
    },
    {
     "name": "stderr",
     "output_type": "stream",
     "text": [
      " 88%|████████▊ | 264/300 [00:03<00:00, 72.80it/s]"
     ]
    },
    {
     "name": "stdout",
     "output_type": "stream",
     "text": [
      "\n",
      " | Global Training Round : 250 |\n",
      "\n",
      " \n",
      "Avg Training Stats after 250 global rounds:\n",
      "accuracy loss: 8.41 | fairness loss 37.96 | Demographic disparity = 0.01\n",
      "Training loss: 84.11 | Validation accuracy: 72.00% | Validation Demographic disparity: 0.0074\n"
     ]
    },
    {
     "name": "stderr",
     "output_type": "stream",
     "text": [
      "100%|██████████| 300/300 [00:04<00:00, 69.71it/s]"
     ]
    },
    {
     "name": "stdout",
     "output_type": "stream",
     "text": [
      "\n",
      " | Global Training Round : 300 |\n",
      "\n",
      " \n",
      "Avg Training Stats after 300 global rounds:\n",
      "accuracy loss: 8.40 | fairness loss 36.38 | Demographic disparity = 0.00\n",
      "Training loss: 84.05 | Validation accuracy: 71.33% | Validation Demographic disparity: 0.0000\n",
      " \n",
      " Results after 300 global rounds of training:\n",
      "|---- Avg Train Accuracy: 71.33%\n",
      "|---- Test Accuracy: 74.33%\n",
      "|---- Test Demographic disparity: 0.1243\n",
      "\n",
      " Total Run Time: 4.3179 sec\n"
     ]
    },
    {
     "name": "stderr",
     "output_type": "stream",
     "text": [
      "\n"
     ]
    },
    {
     "data": {
      "text/plain": [
       "(0.5816666666666667, 0.06380095923261389)"
      ]
     },
     "execution_count": 3,
     "metadata": {},
     "output_type": "execute_result"
    }
   ],
   "source": [
    "runNonFed(data_info, method = 'FC', learning_rate = 0.01, num_epochs = 300, num_features = 2,\n",
    "                optimizer = 'adam', seed = 123, penalty = (5000,4000), Z = 2)"
   ]
  },
  {
   "cell_type": "code",
   "execution_count": 5,
   "metadata": {
    "scrolled": true
   },
   "outputs": [
    {
     "name": "stderr",
     "output_type": "stream",
     "text": [
      " 17%|█▋        | 52/300 [00:02<00:10, 22.91it/s]"
     ]
    },
    {
     "name": "stdout",
     "output_type": "stream",
     "text": [
      "\n",
      " | Global Training Round : 50 |\n",
      "\n",
      "Predictor loss: 46.56 | adversary loss 5.14 | Demographic disparity = 0.15\n",
      " \n",
      "Avg Training Stats after 50 global rounds:\n",
      "Training loss: 0.40 | Validation accuracy: 82.67% | Validation Demographic disparity: 0.1500\n"
     ]
    },
    {
     "name": "stderr",
     "output_type": "stream",
     "text": [
      " 34%|███▍      | 103/300 [00:04<00:08, 23.77it/s]"
     ]
    },
    {
     "name": "stdout",
     "output_type": "stream",
     "text": [
      "\n",
      " | Global Training Round : 100 |\n",
      "\n",
      "Predictor loss: 210.00 | adversary loss 6.16 | Demographic disparity = 0.11\n",
      " \n",
      "Avg Training Stats after 100 global rounds:\n",
      "Training loss: 0.80 | Validation accuracy: 42.67% | Validation Demographic disparity: 0.1061\n"
     ]
    },
    {
     "name": "stderr",
     "output_type": "stream",
     "text": [
      " 50%|█████     | 151/300 [00:06<00:06, 21.42it/s]"
     ]
    },
    {
     "name": "stdout",
     "output_type": "stream",
     "text": [
      "\n",
      " | Global Training Round : 150 |\n",
      "\n",
      "Predictor loss: 475.28 | adversary loss 5.07 | Demographic disparity = 0.00\n",
      " \n",
      "Avg Training Stats after 150 global rounds:\n",
      "Training loss: 1.28 | Validation accuracy: 30.67% | Validation Demographic disparity: 0.0000\n"
     ]
    },
    {
     "name": "stderr",
     "output_type": "stream",
     "text": [
      " 67%|██████▋   | 202/300 [00:08<00:04, 21.41it/s]"
     ]
    },
    {
     "name": "stdout",
     "output_type": "stream",
     "text": [
      "\n",
      " | Global Training Round : 200 |\n",
      "\n",
      "Predictor loss: 581.39 | adversary loss 8.17 | Demographic disparity = 0.00\n",
      " \n",
      "Avg Training Stats after 200 global rounds:\n",
      "Training loss: 1.56 | Validation accuracy: 30.67% | Validation Demographic disparity: 0.0000\n"
     ]
    },
    {
     "name": "stderr",
     "output_type": "stream",
     "text": [
      " 84%|████████▍ | 253/300 [00:11<00:02, 22.68it/s]"
     ]
    },
    {
     "name": "stdout",
     "output_type": "stream",
     "text": [
      "\n",
      " | Global Training Round : 250 |\n",
      "\n",
      "Predictor loss: 406.73 | adversary loss 6.69 | Demographic disparity = 0.00\n",
      " \n",
      "Avg Training Stats after 250 global rounds:\n",
      "Training loss: 1.92 | Validation accuracy: 30.67% | Validation Demographic disparity: 0.0000\n"
     ]
    },
    {
     "name": "stderr",
     "output_type": "stream",
     "text": [
      "100%|██████████| 300/300 [00:13<00:00, 21.97it/s]\n",
      "  0%|          | 0/300 [00:00<?, ?it/s]"
     ]
    },
    {
     "name": "stdout",
     "output_type": "stream",
     "text": [
      "\n",
      " | Global Training Round : 300 |\n",
      "\n",
      "Predictor loss: 634.27 | adversary loss 6.73 | Demographic disparity = 0.00\n",
      " \n",
      "Avg Training Stats after 300 global rounds:\n",
      "Training loss: 2.23 | Validation accuracy: 30.67% | Validation Demographic disparity: 0.0000\n",
      " \n",
      " Results after 300 global rounds of training:\n",
      "|---- Avg Train Accuracy: 30.67%\n",
      "|---- Test Accuracy: 58.33%\n",
      "|---- Test Demographic disparity: 0.0000\n",
      "\n",
      " Total Run Time: 13.6711 sec\n"
     ]
    },
    {
     "name": "stderr",
     "output_type": "stream",
     "text": [
      " 18%|█▊        | 53/300 [00:02<00:12, 20.52it/s]"
     ]
    },
    {
     "name": "stdout",
     "output_type": "stream",
     "text": [
      "\n",
      " | Global Training Round : 50 |\n",
      "\n",
      "Predictor loss: 75.89 | adversary loss 1.28 | Demographic disparity = 0.25\n",
      " \n",
      "Avg Training Stats after 50 global rounds:\n",
      "Training loss: 0.54 | Validation accuracy: 74.00% | Validation Demographic disparity: 0.2522\n"
     ]
    },
    {
     "name": "stderr",
     "output_type": "stream",
     "text": [
      " 34%|███▎      | 101/300 [00:04<00:08, 23.37it/s]"
     ]
    },
    {
     "name": "stdout",
     "output_type": "stream",
     "text": [
      "\n",
      " | Global Training Round : 100 |\n",
      "\n",
      "Predictor loss: 155.60 | adversary loss 8.38 | Demographic disparity = 0.00\n",
      " \n",
      "Avg Training Stats after 100 global rounds:\n",
      "Training loss: 0.86 | Validation accuracy: 71.33% | Validation Demographic disparity: 0.0000\n"
     ]
    },
    {
     "name": "stderr",
     "output_type": "stream",
     "text": [
      " 51%|█████     | 152/300 [00:07<00:06, 21.52it/s]"
     ]
    },
    {
     "name": "stdout",
     "output_type": "stream",
     "text": [
      "\n",
      " | Global Training Round : 150 |\n",
      "\n",
      "Predictor loss: 187.40 | adversary loss 0.27 | Demographic disparity = 0.00\n",
      " \n",
      "Avg Training Stats after 150 global rounds:\n",
      "Training loss: 1.02 | Validation accuracy: 71.33% | Validation Demographic disparity: 0.0000\n"
     ]
    },
    {
     "name": "stderr",
     "output_type": "stream",
     "text": [
      " 68%|██████▊   | 203/300 [00:09<00:04, 20.95it/s]"
     ]
    },
    {
     "name": "stdout",
     "output_type": "stream",
     "text": [
      "\n",
      " | Global Training Round : 200 |\n",
      "\n",
      "Predictor loss: 188.10 | adversary loss 0.36 | Demographic disparity = 0.00\n",
      " \n",
      "Avg Training Stats after 200 global rounds:\n",
      "Training loss: 1.11 | Validation accuracy: 71.33% | Validation Demographic disparity: 0.0000\n"
     ]
    },
    {
     "name": "stderr",
     "output_type": "stream",
     "text": [
      " 84%|████████▎ | 251/300 [00:12<00:02, 20.01it/s]"
     ]
    },
    {
     "name": "stdout",
     "output_type": "stream",
     "text": [
      "\n",
      " | Global Training Round : 250 |\n",
      "\n",
      "Predictor loss: 189.22 | adversary loss 0.45 | Demographic disparity = 0.00\n",
      " \n",
      "Avg Training Stats after 250 global rounds:\n",
      "Training loss: 1.17 | Validation accuracy: 71.33% | Validation Demographic disparity: 0.0000\n"
     ]
    },
    {
     "name": "stderr",
     "output_type": "stream",
     "text": [
      "100%|██████████| 300/300 [00:14<00:00, 20.38it/s]"
     ]
    },
    {
     "name": "stdout",
     "output_type": "stream",
     "text": [
      "\n",
      " | Global Training Round : 300 |\n",
      "\n",
      "Predictor loss: 189.32 | adversary loss 0.05 | Demographic disparity = 0.00\n",
      " \n",
      "Avg Training Stats after 300 global rounds:\n",
      "Training loss: 1.22 | Validation accuracy: 71.33% | Validation Demographic disparity: 0.0000\n",
      " \n",
      " Results after 300 global rounds of training:\n",
      "|---- Avg Train Accuracy: 71.33%\n",
      "|---- Test Accuracy: 72.33%\n",
      "|---- Test Demographic disparity: 0.1144\n",
      "\n",
      " Total Run Time: 14.7496 sec\n"
     ]
    },
    {
     "name": "stderr",
     "output_type": "stream",
     "text": [
      "\n"
     ]
    },
    {
     "data": {
      "text/plain": [
       "(0.6533333333333333, 0.05721822541966425)"
      ]
     },
     "execution_count": 5,
     "metadata": {},
     "output_type": "execute_result"
    }
   ],
   "source": [
    "runNonFed(data_info, method = 'FTrain', init_epochs = 50, lr_g = (0.01,0.01), lr_d = (0.08, 0.08), lambda_d = (1,1), num_features = 2)"
   ]
  },
  {
   "cell_type": "markdown",
   "metadata": {},
   "source": [
    "# new setting"
   ]
  },
  {
   "cell_type": "code",
   "execution_count": 2,
   "metadata": {},
   "outputs": [],
   "source": [
    "synthetic_info = dataGenerate(seed = 745, test_samples = 300, train_samples = 600, client_split = ((.7,.1),(.2,.3),(.1,.6)))"
   ]
  },
  {
   "cell_type": "code",
   "execution_count": 13,
   "metadata": {
    "scrolled": true
   },
   "outputs": [
    {
     "name": "stderr",
     "output_type": "stream",
     "text": [
      " 28%|██▊       | 83/300 [00:00<00:09, 23.01it/s]"
     ]
    },
    {
     "name": "stdout",
     "output_type": "stream",
     "text": [
      "\n",
      " | Global Training Round : 50 |\n",
      "\n",
      " \n",
      "Avg Training Stats after 50 global rounds:\n",
      "accuracy loss: 4.67 | fairness loss 8.32 | Demographic disparity = 0.00\n",
      "Training loss: 14.00 | Validation accuracy: 70.37% | Validation Demographic disparity: 0.0000\n",
      "\n",
      " | Global Training Round : 100 |\n",
      "\n"
     ]
    },
    {
     "name": "stderr",
     "output_type": "stream",
     "text": [
      " 43%|████▎     | 129/300 [00:00<00:04, 42.51it/s]"
     ]
    },
    {
     "name": "stdout",
     "output_type": "stream",
     "text": [
      " \n",
      "Avg Training Stats after 100 global rounds:\n",
      "accuracy loss: 4.44 | fairness loss 8.10 | Demographic disparity = 0.00\n",
      "Training loss: 13.32 | Validation accuracy: 70.37% | Validation Demographic disparity: 0.0000\n",
      "\n",
      " | Global Training Round : 150 |\n",
      "\n"
     ]
    },
    {
     "name": "stderr",
     "output_type": "stream",
     "text": [
      " 60%|██████    | 180/300 [00:00<00:01, 73.87it/s]"
     ]
    },
    {
     "name": "stdout",
     "output_type": "stream",
     "text": [
      " \n",
      "Avg Training Stats after 150 global rounds:\n",
      "accuracy loss: 4.34 | fairness loss 8.87 | Demographic disparity = 0.00\n",
      "Training loss: 13.03 | Validation accuracy: 70.37% | Validation Demographic disparity: 0.0000\n",
      "\n",
      " | Global Training Round : 200 |\n",
      "\n",
      " \n",
      "Avg Training Stats after 200 global rounds:\n",
      "accuracy loss: 4.32 | fairness loss 9.04 | Demographic disparity = 0.00\n",
      "Training loss: 12.97 | Validation accuracy: 70.37% | Validation Demographic disparity: 0.0000\n"
     ]
    },
    {
     "name": "stderr",
     "output_type": "stream",
     "text": [
      "100%|██████████| 300/300 [00:01<00:00, 214.91it/s]"
     ]
    },
    {
     "name": "stdout",
     "output_type": "stream",
     "text": [
      "\n",
      " | Global Training Round : 250 |\n",
      "\n",
      " \n",
      "Avg Training Stats after 250 global rounds:\n",
      "accuracy loss: 4.32 | fairness loss 9.08 | Demographic disparity = 0.00\n",
      "Training loss: 12.95 | Validation accuracy: 70.37% | Validation Demographic disparity: 0.0000\n",
      "\n",
      " | Global Training Round : 300 |\n",
      "\n",
      " \n",
      "Avg Training Stats after 300 global rounds:\n",
      "accuracy loss: 4.31 | fairness loss 9.10 | Demographic disparity = 0.00\n",
      "Training loss: 12.94 | Validation accuracy: 70.37% | Validation Demographic disparity: 0.0000\n"
     ]
    },
    {
     "name": "stderr",
     "output_type": "stream",
     "text": [
      "\n",
      " 13%|█▎        | 40/300 [00:00<00:00, 397.89it/s]"
     ]
    },
    {
     "name": "stdout",
     "output_type": "stream",
     "text": [
      " \n",
      " Results after 300 global rounds of training:\n",
      "|---- Avg Train Accuracy: 70.37%\n",
      "|---- Test Accuracy: 64.33%\n",
      "|---- Test Demographic disparity: 0.0255\n",
      "\n",
      " Total Run Time: 1.4836 sec\n",
      "\n",
      " | Global Training Round : 50 |\n",
      "\n",
      " \n",
      "Avg Training Stats after 50 global rounds:\n",
      "accuracy loss: 5.30 | fairness loss 62.89 | Demographic disparity = 0.47\n",
      "Training loss: 10.61 | Validation accuracy: 46.67% | Validation Demographic disparity: 0.4667\n"
     ]
    },
    {
     "name": "stderr",
     "output_type": "stream",
     "text": [
      " 50%|█████     | 150/300 [00:00<00:00, 366.52it/s]"
     ]
    },
    {
     "name": "stdout",
     "output_type": "stream",
     "text": [
      "\n",
      " | Global Training Round : 100 |\n",
      "\n",
      " \n",
      "Avg Training Stats after 100 global rounds:\n",
      "accuracy loss: 5.13 | fairness loss 6.32 | Demographic disparity = 0.27\n",
      "Training loss: 10.27 | Validation accuracy: 40.00% | Validation Demographic disparity: 0.2667\n",
      "\n",
      " | Global Training Round : 150 |\n",
      "\n",
      " \n",
      "Avg Training Stats after 150 global rounds:\n",
      "accuracy loss: 5.15 | fairness loss 0.95 | Demographic disparity = 0.00\n",
      "Training loss: 10.29 | Validation accuracy: 40.00% | Validation Demographic disparity: 0.0000\n"
     ]
    },
    {
     "name": "stderr",
     "output_type": "stream",
     "text": [
      " 88%|████████▊ | 263/300 [00:00<00:00, 372.51it/s]"
     ]
    },
    {
     "name": "stdout",
     "output_type": "stream",
     "text": [
      "\n",
      " | Global Training Round : 200 |\n",
      "\n",
      " \n",
      "Avg Training Stats after 200 global rounds:\n",
      "accuracy loss: 5.15 | fairness loss 0.67 | Demographic disparity = 0.00\n",
      "Training loss: 10.30 | Validation accuracy: 40.00% | Validation Demographic disparity: 0.0000\n",
      "\n",
      " | Global Training Round : 250 |\n",
      "\n",
      " \n",
      "Avg Training Stats after 250 global rounds:\n",
      "accuracy loss: 5.15 | fairness loss 0.63 | Demographic disparity = 0.00\n",
      "Training loss: 10.30 | Validation accuracy: 40.00% | Validation Demographic disparity: 0.0000\n"
     ]
    },
    {
     "name": "stderr",
     "output_type": "stream",
     "text": [
      "100%|██████████| 300/300 [00:00<00:00, 369.22it/s]\n",
      " 13%|█▎        | 39/300 [00:00<00:00, 389.91it/s]"
     ]
    },
    {
     "name": "stdout",
     "output_type": "stream",
     "text": [
      "\n",
      " | Global Training Round : 300 |\n",
      "\n",
      " \n",
      "Avg Training Stats after 300 global rounds:\n",
      "accuracy loss: 5.15 | fairness loss 0.62 | Demographic disparity = 0.00\n",
      "Training loss: 10.30 | Validation accuracy: 40.00% | Validation Demographic disparity: 0.0000\n",
      " \n",
      " Results after 300 global rounds of training:\n",
      "|---- Avg Train Accuracy: 40.00%\n",
      "|---- Test Accuracy: 42.33%\n",
      "|---- Test Demographic disparity: 0.0033\n",
      "\n",
      " Total Run Time: 0.8305 sec\n",
      "\n",
      " | Global Training Round : 50 |\n",
      "\n",
      " \n",
      "Avg Training Stats after 50 global rounds:\n",
      "accuracy loss: 6.77 | fairness loss 17.49 | Demographic disparity = 0.00\n",
      "Training loss: 13.54 | Validation accuracy: 52.63% | Validation Demographic disparity: 0.0000\n"
     ]
    },
    {
     "name": "stderr",
     "output_type": "stream",
     "text": [
      " 52%|█████▏    | 157/300 [00:00<00:00, 389.16it/s]"
     ]
    },
    {
     "name": "stdout",
     "output_type": "stream",
     "text": [
      "\n",
      " | Global Training Round : 100 |\n",
      "\n",
      " \n",
      "Avg Training Stats after 100 global rounds:\n",
      "accuracy loss: 6.01 | fairness loss 5.97 | Demographic disparity = 0.00\n",
      "Training loss: 12.01 | Validation accuracy: 52.63% | Validation Demographic disparity: 0.0000\n",
      "\n",
      " | Global Training Round : 150 |\n",
      "\n",
      " \n",
      "Avg Training Stats after 150 global rounds:\n",
      "accuracy loss: 5.81 | fairness loss 8.30 | Demographic disparity = 0.05\n",
      "Training loss: 11.62 | Validation accuracy: 57.89% | Validation Demographic disparity: 0.0526\n"
     ]
    },
    {
     "name": "stderr",
     "output_type": "stream",
     "text": [
      " 90%|█████████ | 270/300 [00:00<00:00, 375.01it/s]"
     ]
    },
    {
     "name": "stdout",
     "output_type": "stream",
     "text": [
      "\n",
      " | Global Training Round : 200 |\n",
      "\n",
      " \n",
      "Avg Training Stats after 200 global rounds:\n",
      "accuracy loss: 5.76 | fairness loss 9.22 | Demographic disparity = 0.05\n",
      "Training loss: 11.53 | Validation accuracy: 57.89% | Validation Demographic disparity: 0.0526\n",
      "\n",
      " | Global Training Round : 250 |\n",
      "\n",
      " \n",
      "Avg Training Stats after 250 global rounds:\n",
      "accuracy loss: 5.76 | fairness loss 9.48 | Demographic disparity = 0.05\n",
      "Training loss: 11.51 | Validation accuracy: 57.89% | Validation Demographic disparity: 0.0526\n"
     ]
    },
    {
     "name": "stderr",
     "output_type": "stream",
     "text": [
      "100%|██████████| 300/300 [00:00<00:00, 379.90it/s]\n"
     ]
    },
    {
     "name": "stdout",
     "output_type": "stream",
     "text": [
      "\n",
      " | Global Training Round : 300 |\n",
      "\n",
      " \n",
      "Avg Training Stats after 300 global rounds:\n",
      "accuracy loss: 5.75 | fairness loss 9.59 | Demographic disparity = 0.05\n",
      "Training loss: 11.50 | Validation accuracy: 57.89% | Validation Demographic disparity: 0.0526\n",
      " \n",
      " Results after 300 global rounds of training:\n",
      "|---- Avg Train Accuracy: 57.89%\n",
      "|---- Test Accuracy: 45.33%\n",
      "|---- Test Demographic disparity: 0.0114\n",
      "\n",
      " Total Run Time: 0.8112 sec\n"
     ]
    },
    {
     "data": {
      "text/plain": [
       "(0.5302666666666667, 0.015709489051094885)"
      ]
     },
     "execution_count": 13,
     "metadata": {},
     "output_type": "execute_result"
    }
   ],
   "source": [
    "runNonFed(synthetic_info, method = 'FC', learning_rate = 0.01, num_epochs = 300, num_features = 3,\n",
    "                optimizer = 'adam', seed = 123, penalty = (600, 5000, 1200), Z = 2)"
   ]
  },
  {
   "cell_type": "code",
   "execution_count": 7,
   "metadata": {
    "scrolled": true
   },
   "outputs": [
    {
     "name": "stderr",
     "output_type": "stream",
     "text": [
      " 19%|█▉        | 57/300 [00:01<00:04, 51.87it/s]"
     ]
    },
    {
     "name": "stdout",
     "output_type": "stream",
     "text": [
      "\n",
      " | Global Training Round : 50 |\n",
      "\n",
      "Accuracy loss: 64.34 | fairness loss 13.29 | Demographic disparity = 0.37\n",
      " \n",
      "Avg Training Stats after 50 global rounds:\n",
      "Training loss: 0.85 | Training accuracy: 79.08% | Training Demographic disparity: 0.3748\n"
     ]
    },
    {
     "name": "stderr",
     "output_type": "stream",
     "text": [
      " 35%|███▌      | 106/300 [00:02<00:03, 55.61it/s]"
     ]
    },
    {
     "name": "stdout",
     "output_type": "stream",
     "text": [
      "\n",
      " | Global Training Round : 100 |\n",
      "\n",
      "Accuracy loss: 53.03 | fairness loss 9.27 | Demographic disparity = 0.00\n",
      " \n",
      "Avg Training Stats after 100 global rounds:\n",
      "Training loss: 0.71 | Training accuracy: 78.24% | Training Demographic disparity: 0.0000\n"
     ]
    },
    {
     "name": "stderr",
     "output_type": "stream",
     "text": [
      " 51%|█████▏    | 154/300 [00:03<00:03, 48.20it/s]"
     ]
    },
    {
     "name": "stdout",
     "output_type": "stream",
     "text": [
      "\n",
      " | Global Training Round : 150 |\n",
      "\n",
      "Accuracy loss: 48.46 | fairness loss 10.00 | Demographic disparity = 0.10\n",
      " \n",
      "Avg Training Stats after 150 global rounds:\n",
      "Training loss: 0.61 | Training accuracy: 81.59% | Training Demographic disparity: 0.0997\n"
     ]
    },
    {
     "name": "stderr",
     "output_type": "stream",
     "text": [
      " 69%|██████▉   | 207/300 [00:04<00:01, 60.25it/s]"
     ]
    },
    {
     "name": "stdout",
     "output_type": "stream",
     "text": [
      "\n",
      " | Global Training Round : 200 |\n",
      "\n",
      "Accuracy loss: 46.64 | fairness loss 11.87 | Demographic disparity = 0.02\n",
      " \n",
      "Avg Training Stats after 200 global rounds:\n",
      "Training loss: 0.54 | Training accuracy: 82.01% | Training Demographic disparity: 0.0202\n"
     ]
    },
    {
     "name": "stderr",
     "output_type": "stream",
     "text": [
      " 85%|████████▌ | 255/300 [00:04<00:00, 60.56it/s]"
     ]
    },
    {
     "name": "stdout",
     "output_type": "stream",
     "text": [
      "\n",
      " | Global Training Round : 250 |\n",
      "\n",
      "Accuracy loss: 46.11 | fairness loss 14.91 | Demographic disparity = 0.07\n",
      " \n",
      "Avg Training Stats after 250 global rounds:\n",
      "Training loss: 0.49 | Training accuracy: 82.43% | Training Demographic disparity: 0.0659\n"
     ]
    },
    {
     "name": "stderr",
     "output_type": "stream",
     "text": [
      "100%|██████████| 300/300 [00:05<00:00, 53.69it/s]\n",
      "  3%|▎         | 10/300 [00:00<00:03, 91.56it/s]"
     ]
    },
    {
     "name": "stdout",
     "output_type": "stream",
     "text": [
      "\n",
      " | Global Training Round : 300 |\n",
      "\n",
      "Accuracy loss: 46.84 | fairness loss 16.98 | Demographic disparity = 0.02\n",
      " \n",
      "Avg Training Stats after 300 global rounds:\n",
      "Training loss: 0.45 | Training accuracy: 81.59% | Training Demographic disparity: 0.0241\n",
      " \n",
      " Results after 300 global rounds of training:\n",
      "|---- Avg Train Accuracy: 81.59%\n",
      "|---- Test Accuracy: 72.00%\n",
      "|---- Test Demographic disparity: 0.1075\n",
      "\n",
      " Total Run Time: 5.5990 sec\n"
     ]
    },
    {
     "name": "stderr",
     "output_type": "stream",
     "text": [
      " 22%|██▏       | 67/300 [00:00<00:02, 90.09it/s]"
     ]
    },
    {
     "name": "stdout",
     "output_type": "stream",
     "text": [
      "\n",
      " | Global Training Round : 50 |\n",
      "\n",
      "Accuracy loss: 38.04 | fairness loss 61.27 | Demographic disparity = 0.33\n",
      " \n",
      "Avg Training Stats after 50 global rounds:\n",
      "Training loss: 0.99 | Training accuracy: 66.41% | Training Demographic disparity: 0.3261\n"
     ]
    },
    {
     "name": "stderr",
     "output_type": "stream",
     "text": [
      " 39%|███▊      | 116/300 [00:01<00:02, 90.80it/s]"
     ]
    },
    {
     "name": "stdout",
     "output_type": "stream",
     "text": [
      "\n",
      " | Global Training Round : 100 |\n",
      "\n",
      "Accuracy loss: 31.47 | fairness loss 33.18 | Demographic disparity = 0.49\n",
      " \n",
      "Avg Training Stats after 100 global rounds:\n",
      "Training loss: 0.90 | Training accuracy: 80.15% | Training Demographic disparity: 0.4924\n"
     ]
    },
    {
     "name": "stderr",
     "output_type": "stream",
     "text": [
      " 54%|█████▎    | 161/300 [00:01<00:01, 82.02it/s]"
     ]
    },
    {
     "name": "stdout",
     "output_type": "stream",
     "text": [
      "\n",
      " | Global Training Round : 150 |\n",
      "\n",
      "Accuracy loss: 29.58 | fairness loss 17.91 | Demographic disparity = 0.45\n",
      " \n",
      "Avg Training Stats after 150 global rounds:\n",
      "Training loss: 0.83 | Training accuracy: 84.73% | Training Demographic disparity: 0.4505\n"
     ]
    },
    {
     "name": "stderr",
     "output_type": "stream",
     "text": [
      " 72%|███████▏  | 217/300 [00:02<00:00, 88.23it/s]"
     ]
    },
    {
     "name": "stdout",
     "output_type": "stream",
     "text": [
      "\n",
      " | Global Training Round : 200 |\n",
      "\n",
      "Accuracy loss: 29.35 | fairness loss 18.71 | Demographic disparity = 0.36\n",
      " \n",
      "Avg Training Stats after 200 global rounds:\n",
      "Training loss: 0.78 | Training accuracy: 85.50% | Training Demographic disparity: 0.3597\n"
     ]
    },
    {
     "name": "stderr",
     "output_type": "stream",
     "text": [
      " 88%|████████▊ | 264/300 [00:03<00:00, 87.25it/s]"
     ]
    },
    {
     "name": "stdout",
     "output_type": "stream",
     "text": [
      "\n",
      " | Global Training Round : 250 |\n",
      "\n",
      "Accuracy loss: 35.92 | fairness loss 38.05 | Demographic disparity = 0.18\n",
      " \n",
      "Avg Training Stats after 250 global rounds:\n",
      "Training loss: nan | Training accuracy: 74.81% | Training Demographic disparity: 0.1820\n"
     ]
    },
    {
     "name": "stderr",
     "output_type": "stream",
     "text": [
      "100%|██████████| 300/300 [00:03<00:00, 86.93it/s]\n",
      "  3%|▎         | 8/300 [00:00<00:03, 75.49it/s]"
     ]
    },
    {
     "name": "stdout",
     "output_type": "stream",
     "text": [
      "\n",
      " | Global Training Round : 300 |\n",
      "\n",
      "Accuracy loss: 47.82 | fairness loss 31.03 | Demographic disparity = 0.05\n",
      " \n",
      "Avg Training Stats after 300 global rounds:\n",
      "Training loss: nan | Training accuracy: 56.49% | Training Demographic disparity: 0.0477\n",
      " \n",
      " Results after 300 global rounds of training:\n",
      "|---- Avg Train Accuracy: 56.49%\n",
      "|---- Test Accuracy: 51.00%\n",
      "|---- Test Demographic disparity: 0.1212\n",
      "\n",
      " Total Run Time: 3.4638 sec\n"
     ]
    },
    {
     "name": "stderr",
     "output_type": "stream",
     "text": [
      " 19%|█▉        | 58/300 [00:00<00:03, 77.53it/s]"
     ]
    },
    {
     "name": "stdout",
     "output_type": "stream",
     "text": [
      "\n",
      " | Global Training Round : 50 |\n",
      "\n",
      "Accuracy loss: 41.84 | fairness loss 21.40 | Demographic disparity = 0.60\n",
      " \n",
      "Avg Training Stats after 50 global rounds:\n",
      "Training loss: 0.91 | Training accuracy: 77.51% | Training Demographic disparity: 0.6048\n"
     ]
    },
    {
     "name": "stderr",
     "output_type": "stream",
     "text": [
      " 36%|███▌      | 107/300 [00:01<00:02, 78.11it/s]"
     ]
    },
    {
     "name": "stdout",
     "output_type": "stream",
     "text": [
      "\n",
      " | Global Training Round : 100 |\n",
      "\n",
      "Accuracy loss: 34.77 | fairness loss 23.52 | Demographic disparity = 0.31\n",
      " \n",
      "Avg Training Stats after 100 global rounds:\n",
      "Training loss: 0.73 | Training accuracy: 83.43% | Training Demographic disparity: 0.3140\n"
     ]
    },
    {
     "name": "stderr",
     "output_type": "stream",
     "text": [
      " 53%|█████▎    | 159/300 [00:02<00:01, 79.21it/s]"
     ]
    },
    {
     "name": "stdout",
     "output_type": "stream",
     "text": [
      "\n",
      " | Global Training Round : 150 |\n",
      "\n",
      "Accuracy loss: 35.54 | fairness loss 26.80 | Demographic disparity = 0.22\n",
      " \n",
      "Avg Training Stats after 150 global rounds:\n",
      "Training loss: 0.64 | Training accuracy: 81.07% | Training Demographic disparity: 0.2204\n"
     ]
    },
    {
     "name": "stderr",
     "output_type": "stream",
     "text": [
      " 70%|██████▉   | 209/300 [00:02<00:01, 79.90it/s]"
     ]
    },
    {
     "name": "stdout",
     "output_type": "stream",
     "text": [
      "\n",
      " | Global Training Round : 200 |\n",
      "\n",
      "Accuracy loss: 40.11 | fairness loss 26.29 | Demographic disparity = 0.16\n",
      " \n",
      "Avg Training Stats after 200 global rounds:\n",
      "Training loss: 0.57 | Training accuracy: 77.51% | Training Demographic disparity: 0.1622\n"
     ]
    },
    {
     "name": "stderr",
     "output_type": "stream",
     "text": [
      " 87%|████████▋ | 261/300 [00:03<00:00, 80.11it/s]"
     ]
    },
    {
     "name": "stdout",
     "output_type": "stream",
     "text": [
      "\n",
      " | Global Training Round : 250 |\n",
      "\n",
      "Accuracy loss: 39.40 | fairness loss 35.31 | Demographic disparity = 0.14\n",
      " \n",
      "Avg Training Stats after 250 global rounds:\n",
      "Training loss: 0.52 | Training accuracy: 79.29% | Training Demographic disparity: 0.1445\n"
     ]
    },
    {
     "name": "stderr",
     "output_type": "stream",
     "text": [
      "100%|██████████| 300/300 [00:03<00:00, 78.97it/s]"
     ]
    },
    {
     "name": "stdout",
     "output_type": "stream",
     "text": [
      "\n",
      " | Global Training Round : 300 |\n",
      "\n",
      "Accuracy loss: 46.23 | fairness loss 30.12 | Demographic disparity = 0.02\n",
      " \n",
      "Avg Training Stats after 300 global rounds:\n",
      "Training loss: 0.47 | Training accuracy: 71.01% | Training Demographic disparity: 0.0182\n",
      " \n",
      " Results after 300 global rounds of training:\n",
      "|---- Avg Train Accuracy: 71.01%\n",
      "|---- Test Accuracy: 65.33%\n",
      "|---- Test Demographic disparity: 0.0233\n",
      "\n",
      " Total Run Time: 3.8090 sec\n"
     ]
    },
    {
     "name": "stderr",
     "output_type": "stream",
     "text": [
      "\n"
     ]
    },
    {
     "data": {
      "text/plain": [
       "(0.6480111111111111, 0.08446107055961073)"
      ]
     },
     "execution_count": 7,
     "metadata": {},
     "output_type": "execute_result"
    }
   ],
   "source": [
    "runNonFed(synthetic_info, method = 'FairBatch', learning_rate = (0.002,0.002,0.0035), num_epochs = 300, num_features = 3,\n",
    "                optimizer = 'adam', seed = 123, alpha = (0.093,0.135,0.13), Z = 2)"
   ]
  },
  {
   "cell_type": "code",
   "execution_count": 12,
   "metadata": {
    "scrolled": true
   },
   "outputs": [
    {
     "name": "stderr",
     "output_type": "stream",
     "text": [
      "  7%|▋         | 71/1000 [00:00<00:09, 101.37it/s]"
     ]
    },
    {
     "name": "stdout",
     "output_type": "stream",
     "text": [
      "\n",
      " | Global Training Round : 50 |\n",
      "\n",
      "Predictor loss: 16.47 | adversary loss 0.42 | Demographic disparity = 0.96\n",
      " \n",
      "Avg Training Stats after 50 global rounds:\n",
      "Training loss: 0.59 | Validation accuracy: 74.07% | Validation Demographic disparity: 0.9630\n"
     ]
    },
    {
     "name": "stderr",
     "output_type": "stream",
     "text": [
      " 12%|█▏        | 118/1000 [00:01<00:08, 108.54it/s]"
     ]
    },
    {
     "name": "stdout",
     "output_type": "stream",
     "text": [
      "\n",
      " | Global Training Round : 100 |\n",
      "\n",
      "Predictor loss: 15.20 | adversary loss 0.36 | Demographic disparity = 0.96\n",
      " \n",
      "Avg Training Stats after 100 global rounds:\n",
      "Training loss: 0.51 | Validation accuracy: 74.07% | Validation Demographic disparity: 0.9630\n"
     ]
    },
    {
     "name": "stderr",
     "output_type": "stream",
     "text": [
      " 16%|█▋        | 165/1000 [00:01<00:07, 113.11it/s]"
     ]
    },
    {
     "name": "stdout",
     "output_type": "stream",
     "text": [
      "\n",
      " | Global Training Round : 150 |\n",
      "\n",
      "Predictor loss: 15.05 | adversary loss 0.40 | Demographic disparity = 0.96\n",
      " \n",
      "Avg Training Stats after 150 global rounds:\n",
      "Training loss: 0.49 | Validation accuracy: 74.07% | Validation Demographic disparity: 0.9630\n"
     ]
    },
    {
     "name": "stderr",
     "output_type": "stream",
     "text": [
      " 21%|██        | 209/1000 [00:02<00:08, 96.11it/s] "
     ]
    },
    {
     "name": "stdout",
     "output_type": "stream",
     "text": [
      "\n",
      " | Global Training Round : 200 |\n",
      "\n",
      "Predictor loss: 17.33 | adversary loss 0.58 | Demographic disparity = 0.00\n",
      " \n",
      "Avg Training Stats after 200 global rounds:\n",
      "Training loss: 0.50 | Validation accuracy: 70.37% | Validation Demographic disparity: 0.0000\n"
     ]
    },
    {
     "name": "stderr",
     "output_type": "stream",
     "text": [
      " 26%|██▋       | 265/1000 [00:02<00:06, 105.42it/s]"
     ]
    },
    {
     "name": "stdout",
     "output_type": "stream",
     "text": [
      "\n",
      " | Global Training Round : 250 |\n",
      "\n",
      "Predictor loss: 27.25 | adversary loss 1.00 | Demographic disparity = 0.89\n",
      " \n",
      "Avg Training Stats after 250 global rounds:\n",
      "Training loss: 0.56 | Validation accuracy: 25.93% | Validation Demographic disparity: 0.8889\n"
     ]
    },
    {
     "name": "stderr",
     "output_type": "stream",
     "text": [
      " 31%|███▏      | 313/1000 [00:02<00:06, 114.23it/s]"
     ]
    },
    {
     "name": "stdout",
     "output_type": "stream",
     "text": [
      "\n",
      " | Global Training Round : 300 |\n",
      "\n",
      "Predictor loss: 38.47 | adversary loss 0.91 | Demographic disparity = 0.93\n",
      " \n",
      "Avg Training Stats after 300 global rounds:\n",
      "Training loss: 0.71 | Validation accuracy: 29.63% | Validation Demographic disparity: 0.9259\n"
     ]
    },
    {
     "name": "stderr",
     "output_type": "stream",
     "text": [
      " 36%|███▌      | 361/1000 [00:03<00:05, 113.46it/s]"
     ]
    },
    {
     "name": "stdout",
     "output_type": "stream",
     "text": [
      "\n",
      " | Global Training Round : 350 |\n",
      "\n",
      "Predictor loss: 29.64 | adversary loss 0.63 | Demographic disparity = 0.85\n",
      " \n",
      "Avg Training Stats after 350 global rounds:\n",
      "Training loss: 0.82 | Validation accuracy: 29.63% | Validation Demographic disparity: 0.8519\n"
     ]
    },
    {
     "name": "stderr",
     "output_type": "stream",
     "text": [
      " 42%|████▏     | 421/1000 [00:03<00:05, 115.42it/s]"
     ]
    },
    {
     "name": "stdout",
     "output_type": "stream",
     "text": [
      "\n",
      " | Global Training Round : 400 |\n",
      "\n",
      "Predictor loss: 18.73 | adversary loss 0.57 | Demographic disparity = 0.37\n",
      " \n",
      "Avg Training Stats after 400 global rounds:\n",
      "Training loss: 0.84 | Validation accuracy: 48.15% | Validation Demographic disparity: 0.3704\n"
     ]
    },
    {
     "name": "stderr",
     "output_type": "stream",
     "text": [
      " 47%|████▋     | 469/1000 [00:04<00:04, 112.66it/s]"
     ]
    },
    {
     "name": "stdout",
     "output_type": "stream",
     "text": [
      "\n",
      " | Global Training Round : 450 |\n",
      "\n",
      "Predictor loss: 14.66 | adversary loss 0.56 | Demographic disparity = 0.00\n",
      " \n",
      "Avg Training Stats after 450 global rounds:\n",
      "Training loss: 0.81 | Validation accuracy: 70.37% | Validation Demographic disparity: 0.0000\n"
     ]
    },
    {
     "name": "stderr",
     "output_type": "stream",
     "text": [
      " 52%|█████▏    | 516/1000 [00:04<00:05, 93.31it/s] "
     ]
    },
    {
     "name": "stdout",
     "output_type": "stream",
     "text": [
      "\n",
      " | Global Training Round : 500 |\n",
      "\n",
      "Predictor loss: 13.55 | adversary loss 0.56 | Demographic disparity = 0.96\n",
      " \n",
      "Avg Training Stats after 500 global rounds:\n",
      "Training loss: 0.78 | Validation accuracy: 74.07% | Validation Demographic disparity: 0.9630\n"
     ]
    },
    {
     "name": "stderr",
     "output_type": "stream",
     "text": [
      " 56%|█████▋    | 564/1000 [00:05<00:04, 108.91it/s]"
     ]
    },
    {
     "name": "stdout",
     "output_type": "stream",
     "text": [
      "\n",
      " | Global Training Round : 550 |\n",
      "\n",
      "Predictor loss: 13.27 | adversary loss 0.60 | Demographic disparity = 0.96\n",
      " \n",
      "Avg Training Stats after 550 global rounds:\n",
      "Training loss: 0.75 | Validation accuracy: 74.07% | Validation Demographic disparity: 0.9630\n"
     ]
    },
    {
     "name": "stderr",
     "output_type": "stream",
     "text": [
      " 61%|██████    | 612/1000 [00:05<00:03, 112.47it/s]"
     ]
    },
    {
     "name": "stdout",
     "output_type": "stream",
     "text": [
      "\n",
      " | Global Training Round : 600 |\n",
      "\n",
      "Predictor loss: 13.33 | adversary loss 0.64 | Demographic disparity = 0.96\n",
      " \n",
      "Avg Training Stats after 600 global rounds:\n",
      "Training loss: 0.72 | Validation accuracy: 74.07% | Validation Demographic disparity: 0.9630\n"
     ]
    },
    {
     "name": "stderr",
     "output_type": "stream",
     "text": [
      " 66%|██████▌   | 660/1000 [00:06<00:03, 112.86it/s]"
     ]
    },
    {
     "name": "stdout",
     "output_type": "stream",
     "text": [
      "\n",
      " | Global Training Round : 650 |\n",
      "\n",
      "Predictor loss: 13.98 | adversary loss 0.63 | Demographic disparity = 0.00\n",
      " \n",
      "Avg Training Stats after 650 global rounds:\n",
      "Training loss: 0.70 | Validation accuracy: 70.37% | Validation Demographic disparity: 0.0000\n"
     ]
    },
    {
     "name": "stderr",
     "output_type": "stream",
     "text": [
      " 72%|███████▏  | 721/1000 [00:06<00:02, 114.62it/s]"
     ]
    },
    {
     "name": "stdout",
     "output_type": "stream",
     "text": [
      "\n",
      " | Global Training Round : 700 |\n",
      "\n",
      "Predictor loss: 14.91 | adversary loss 0.56 | Demographic disparity = 0.00\n",
      " \n",
      "Avg Training Stats after 700 global rounds:\n",
      "Training loss: 0.68 | Validation accuracy: 70.37% | Validation Demographic disparity: 0.0000\n"
     ]
    },
    {
     "name": "stderr",
     "output_type": "stream",
     "text": [
      " 77%|███████▋  | 769/1000 [00:07<00:02, 113.62it/s]"
     ]
    },
    {
     "name": "stdout",
     "output_type": "stream",
     "text": [
      "\n",
      " | Global Training Round : 750 |\n",
      "\n",
      "Predictor loss: 15.07 | adversary loss 0.48 | Demographic disparity = 0.00\n",
      " \n",
      "Avg Training Stats after 750 global rounds:\n",
      "Training loss: 0.67 | Validation accuracy: 70.37% | Validation Demographic disparity: 0.0000\n"
     ]
    },
    {
     "name": "stderr",
     "output_type": "stream",
     "text": [
      " 82%|████████▏ | 817/1000 [00:07<00:01, 115.48it/s]"
     ]
    },
    {
     "name": "stdout",
     "output_type": "stream",
     "text": [
      "\n",
      " | Global Training Round : 800 |\n",
      "\n",
      "Predictor loss: 14.61 | adversary loss 0.44 | Demographic disparity = 0.00\n",
      " \n",
      "Avg Training Stats after 800 global rounds:\n",
      "Training loss: 0.66 | Validation accuracy: 70.37% | Validation Demographic disparity: 0.0000\n"
     ]
    },
    {
     "name": "stderr",
     "output_type": "stream",
     "text": [
      " 86%|████████▋ | 865/1000 [00:07<00:01, 111.74it/s]"
     ]
    },
    {
     "name": "stdout",
     "output_type": "stream",
     "text": [
      "\n",
      " | Global Training Round : 850 |\n",
      "\n",
      "Predictor loss: 14.10 | adversary loss 0.43 | Demographic disparity = 0.00\n",
      " \n",
      "Avg Training Stats after 850 global rounds:\n",
      "Training loss: 0.65 | Validation accuracy: 70.37% | Validation Demographic disparity: 0.0000\n"
     ]
    },
    {
     "name": "stderr",
     "output_type": "stream",
     "text": [
      " 91%|█████████▏| 913/1000 [00:08<00:00, 113.05it/s]"
     ]
    },
    {
     "name": "stdout",
     "output_type": "stream",
     "text": [
      "\n",
      " | Global Training Round : 900 |\n",
      "\n",
      "Predictor loss: 13.74 | adversary loss 0.44 | Demographic disparity = 0.00\n",
      " \n",
      "Avg Training Stats after 900 global rounds:\n",
      "Training loss: 0.64 | Validation accuracy: 70.37% | Validation Demographic disparity: 0.0000\n"
     ]
    },
    {
     "name": "stderr",
     "output_type": "stream",
     "text": [
      " 96%|█████████▌| 961/1000 [00:08<00:00, 115.88it/s]"
     ]
    },
    {
     "name": "stdout",
     "output_type": "stream",
     "text": [
      "\n",
      " | Global Training Round : 950 |\n",
      "\n",
      "Predictor loss: 13.46 | adversary loss 0.46 | Demographic disparity = 0.00\n",
      " \n",
      "Avg Training Stats after 950 global rounds:\n",
      "Training loss: 0.63 | Validation accuracy: 70.37% | Validation Demographic disparity: 0.0000\n"
     ]
    },
    {
     "name": "stderr",
     "output_type": "stream",
     "text": [
      "100%|██████████| 1000/1000 [00:09<00:00, 109.58it/s]\n",
      "  2%|▏         | 18/1000 [00:00<00:05, 178.05it/s]"
     ]
    },
    {
     "name": "stdout",
     "output_type": "stream",
     "text": [
      "\n",
      " | Global Training Round : 1000 |\n",
      "\n",
      "Predictor loss: 13.27 | adversary loss 0.49 | Demographic disparity = 0.00\n",
      " \n",
      "Avg Training Stats after 1000 global rounds:\n",
      "Training loss: 0.62 | Validation accuracy: 70.37% | Validation Demographic disparity: 0.0000\n",
      " \n",
      " Results after 1000 global rounds of training:\n",
      "|---- Avg Train Accuracy: 70.37%\n",
      "|---- Test Accuracy: 64.67%\n",
      "|---- Test Demographic disparity: 0.0698\n",
      "\n",
      " Total Run Time: 9.1390 sec\n"
     ]
    },
    {
     "name": "stderr",
     "output_type": "stream",
     "text": [
      "  7%|▋         | 69/1000 [00:00<00:05, 169.99it/s]"
     ]
    },
    {
     "name": "stdout",
     "output_type": "stream",
     "text": [
      "\n",
      " | Global Training Round : 50 |\n",
      "\n",
      "Predictor loss: 4.30 | adversary loss 0.46 | Demographic disparity = 0.73\n",
      " \n",
      "Avg Training Stats after 50 global rounds:\n",
      "Training loss: 0.45 | Validation accuracy: 86.67% | Validation Demographic disparity: 0.7333\n"
     ]
    },
    {
     "name": "stderr",
     "output_type": "stream",
     "text": [
      " 12%|█▏        | 123/1000 [00:00<00:05, 174.98it/s]"
     ]
    },
    {
     "name": "stdout",
     "output_type": "stream",
     "text": [
      "\n",
      " | Global Training Round : 100 |\n",
      "\n",
      "Predictor loss: 3.41 | adversary loss 1.02 | Demographic disparity = 0.60\n",
      " \n",
      "Avg Training Stats after 100 global rounds:\n",
      "Training loss: 0.38 | Validation accuracy: 100.00% | Validation Demographic disparity: 0.6000\n"
     ]
    },
    {
     "name": "stderr",
     "output_type": "stream",
     "text": [
      " 18%|█▊        | 179/1000 [00:01<00:04, 179.33it/s]"
     ]
    },
    {
     "name": "stdout",
     "output_type": "stream",
     "text": [
      "\n",
      " | Global Training Round : 150 |\n",
      "\n",
      "Predictor loss: 12.71 | adversary loss 1.31 | Demographic disparity = 0.27\n",
      " \n",
      "Avg Training Stats after 150 global rounds:\n",
      "Training loss: 0.45 | Validation accuracy: 53.33% | Validation Demographic disparity: 0.2667\n"
     ]
    },
    {
     "name": "stderr",
     "output_type": "stream",
     "text": [
      " 22%|██▏       | 216/1000 [00:01<00:04, 179.02it/s]"
     ]
    },
    {
     "name": "stdout",
     "output_type": "stream",
     "text": [
      "\n",
      " | Global Training Round : 200 |\n",
      "\n",
      "Predictor loss: 11.85 | adversary loss 1.86 | Demographic disparity = 0.13\n",
      " \n",
      "Avg Training Stats after 200 global rounds:\n",
      "Training loss: 0.72 | Validation accuracy: 66.67% | Validation Demographic disparity: 0.1333\n"
     ]
    },
    {
     "name": "stderr",
     "output_type": "stream",
     "text": [
      " 27%|██▋       | 268/1000 [00:01<00:04, 161.11it/s]"
     ]
    },
    {
     "name": "stdout",
     "output_type": "stream",
     "text": [
      "\n",
      " | Global Training Round : 250 |\n",
      "\n",
      "Predictor loss: 5.35 | adversary loss 1.41 | Demographic disparity = 0.00\n",
      " \n",
      "Avg Training Stats after 250 global rounds:\n",
      "Training loss: 0.76 | Validation accuracy: 80.00% | Validation Demographic disparity: 0.0000\n"
     ]
    },
    {
     "name": "stderr",
     "output_type": "stream",
     "text": [
      " 32%|███▏      | 321/1000 [00:01<00:04, 169.02it/s]"
     ]
    },
    {
     "name": "stdout",
     "output_type": "stream",
     "text": [
      "\n",
      " | Global Training Round : 300 |\n",
      "\n",
      "Predictor loss: 6.77 | adversary loss 0.78 | Demographic disparity = 0.07\n",
      " \n",
      "Avg Training Stats after 300 global rounds:\n",
      "Training loss: 0.75 | Validation accuracy: 73.33% | Validation Demographic disparity: 0.0667\n"
     ]
    },
    {
     "name": "stderr",
     "output_type": "stream",
     "text": [
      " 38%|███▊      | 375/1000 [00:02<00:03, 173.03it/s]"
     ]
    },
    {
     "name": "stdout",
     "output_type": "stream",
     "text": [
      "\n",
      " | Global Training Round : 350 |\n",
      "\n",
      "Predictor loss: 9.11 | adversary loss 0.79 | Demographic disparity = 0.13\n",
      " \n",
      "Avg Training Stats after 350 global rounds:\n",
      "Training loss: 0.76 | Validation accuracy: 66.67% | Validation Demographic disparity: 0.1333\n"
     ]
    },
    {
     "name": "stderr",
     "output_type": "stream",
     "text": [
      " 43%|████▎     | 430/1000 [00:02<00:03, 175.11it/s]"
     ]
    },
    {
     "name": "stdout",
     "output_type": "stream",
     "text": [
      "\n",
      " | Global Training Round : 400 |\n",
      "\n",
      "Predictor loss: 10.11 | adversary loss 1.87 | Demographic disparity = 0.13\n",
      " \n",
      "Avg Training Stats after 400 global rounds:\n",
      "Training loss: 0.80 | Validation accuracy: 66.67% | Validation Demographic disparity: 0.1333\n"
     ]
    },
    {
     "name": "stderr",
     "output_type": "stream",
     "text": [
      "\r",
      " 45%|████▍     | 448/1000 [00:02<00:03, 158.12it/s]"
     ]
    },
    {
     "name": "stdout",
     "output_type": "stream",
     "text": [
      "\n",
      " | Global Training Round : 450 |\n",
      "\n",
      "Predictor loss: 7.19 | adversary loss 1.39 | Demographic disparity = 0.07\n",
      " \n",
      "Avg Training Stats after 450 global rounds:\n",
      "Training loss: 0.83 | Validation accuracy: 73.33% | Validation Demographic disparity: 0.0667\n"
     ]
    },
    {
     "name": "stderr",
     "output_type": "stream",
     "text": [
      " 52%|█████▎    | 525/1000 [00:03<00:03, 126.76it/s]"
     ]
    },
    {
     "name": "stdout",
     "output_type": "stream",
     "text": [
      "\n",
      " | Global Training Round : 500 |\n",
      "\n",
      "Predictor loss: 7.20 | adversary loss 0.97 | Demographic disparity = 0.07\n",
      " \n",
      "Avg Training Stats after 500 global rounds:\n",
      "Training loss: 0.83 | Validation accuracy: 73.33% | Validation Demographic disparity: 0.0667\n"
     ]
    },
    {
     "name": "stderr",
     "output_type": "stream",
     "text": [
      " 57%|█████▋    | 571/1000 [00:03<00:03, 139.76it/s]"
     ]
    },
    {
     "name": "stdout",
     "output_type": "stream",
     "text": [
      "\n",
      " | Global Training Round : 550 |\n",
      "\n",
      "Predictor loss: 8.94 | adversary loss 1.87 | Demographic disparity = 0.07\n",
      " \n",
      "Avg Training Stats after 550 global rounds:\n",
      "Training loss: 0.84 | Validation accuracy: 73.33% | Validation Demographic disparity: 0.0667\n"
     ]
    },
    {
     "name": "stderr",
     "output_type": "stream",
     "text": [
      " 62%|██████▏   | 620/1000 [00:04<00:02, 144.53it/s]"
     ]
    },
    {
     "name": "stdout",
     "output_type": "stream",
     "text": [
      "\n",
      " | Global Training Round : 600 |\n",
      "\n",
      "Predictor loss: 8.30 | adversary loss 1.78 | Demographic disparity = 0.07\n",
      " \n",
      "Avg Training Stats after 600 global rounds:\n",
      "Training loss: 0.85 | Validation accuracy: 73.33% | Validation Demographic disparity: 0.0667\n"
     ]
    },
    {
     "name": "stderr",
     "output_type": "stream",
     "text": [
      " 67%|██████▋   | 669/1000 [00:04<00:02, 152.98it/s]"
     ]
    },
    {
     "name": "stdout",
     "output_type": "stream",
     "text": [
      "\n",
      " | Global Training Round : 650 |\n",
      "\n",
      "Predictor loss: 6.67 | adversary loss 1.50 | Demographic disparity = 0.07\n",
      " \n",
      "Avg Training Stats after 650 global rounds:\n",
      "Training loss: 0.86 | Validation accuracy: 73.33% | Validation Demographic disparity: 0.0667\n"
     ]
    },
    {
     "name": "stderr",
     "output_type": "stream",
     "text": [
      " 72%|███████▏  | 717/1000 [00:04<00:01, 151.79it/s]"
     ]
    },
    {
     "name": "stdout",
     "output_type": "stream",
     "text": [
      "\n",
      " | Global Training Round : 700 |\n",
      "\n",
      "Predictor loss: 8.00 | adversary loss 1.12 | Demographic disparity = 0.07\n",
      " \n",
      "Avg Training Stats after 700 global rounds:\n",
      "Training loss: 0.86 | Validation accuracy: 73.33% | Validation Demographic disparity: 0.0667\n"
     ]
    },
    {
     "name": "stderr",
     "output_type": "stream",
     "text": [
      " 76%|███████▋  | 765/1000 [00:04<00:01, 150.99it/s]"
     ]
    },
    {
     "name": "stdout",
     "output_type": "stream",
     "text": [
      "\n",
      " | Global Training Round : 750 |\n",
      "\n",
      "Predictor loss: 9.20 | adversary loss 1.82 | Demographic disparity = 0.13\n",
      " \n",
      "Avg Training Stats after 750 global rounds:\n",
      "Training loss: 0.87 | Validation accuracy: 66.67% | Validation Demographic disparity: 0.1333\n"
     ]
    },
    {
     "name": "stderr",
     "output_type": "stream",
     "text": [
      " 82%|████████▏ | 818/1000 [00:05<00:01, 162.92it/s]"
     ]
    },
    {
     "name": "stdout",
     "output_type": "stream",
     "text": [
      "\n",
      " | Global Training Round : 800 |\n",
      "\n",
      "Predictor loss: 6.80 | adversary loss 1.81 | Demographic disparity = 0.00\n",
      " \n",
      "Avg Training Stats after 800 global rounds:\n",
      "Training loss: 0.88 | Validation accuracy: 80.00% | Validation Demographic disparity: 0.0000\n"
     ]
    },
    {
     "name": "stderr",
     "output_type": "stream",
     "text": [
      " 87%|████████▋ | 871/1000 [00:05<00:00, 166.29it/s]"
     ]
    },
    {
     "name": "stdout",
     "output_type": "stream",
     "text": [
      "\n",
      " | Global Training Round : 850 |\n",
      "\n",
      "Predictor loss: 7.14 | adversary loss 1.10 | Demographic disparity = 0.07\n",
      " \n",
      "Avg Training Stats after 850 global rounds:\n",
      "Training loss: 0.87 | Validation accuracy: 73.33% | Validation Demographic disparity: 0.0667\n"
     ]
    },
    {
     "name": "stderr",
     "output_type": "stream",
     "text": [
      " 92%|█████████▏| 923/1000 [00:05<00:00, 161.79it/s]"
     ]
    },
    {
     "name": "stdout",
     "output_type": "stream",
     "text": [
      "\n",
      " | Global Training Round : 900 |\n",
      "\n",
      "Predictor loss: 8.55 | adversary loss 1.79 | Demographic disparity = 0.07\n",
      " \n",
      "Avg Training Stats after 900 global rounds:\n",
      "Training loss: 0.88 | Validation accuracy: 73.33% | Validation Demographic disparity: 0.0667\n"
     ]
    },
    {
     "name": "stderr",
     "output_type": "stream",
     "text": [
      " 98%|█████████▊| 976/1000 [00:06<00:00, 168.03it/s]"
     ]
    },
    {
     "name": "stdout",
     "output_type": "stream",
     "text": [
      "\n",
      " | Global Training Round : 950 |\n",
      "\n",
      "Predictor loss: 7.32 | adversary loss 1.65 | Demographic disparity = 0.07\n",
      " \n",
      "Avg Training Stats after 950 global rounds:\n",
      "Training loss: 0.88 | Validation accuracy: 73.33% | Validation Demographic disparity: 0.0667\n"
     ]
    },
    {
     "name": "stderr",
     "output_type": "stream",
     "text": [
      "100%|██████████| 1000/1000 [00:06<00:00, 156.35it/s]\n",
      "  1%|▏         | 14/1000 [00:00<00:07, 131.32it/s]"
     ]
    },
    {
     "name": "stdout",
     "output_type": "stream",
     "text": [
      "\n",
      " | Global Training Round : 1000 |\n",
      "\n",
      "Predictor loss: 8.26 | adversary loss 1.42 | Demographic disparity = 0.07\n",
      " \n",
      "Avg Training Stats after 1000 global rounds:\n",
      "Training loss: 0.88 | Validation accuracy: 73.33% | Validation Demographic disparity: 0.0667\n",
      " \n",
      " Results after 1000 global rounds of training:\n",
      "|---- Avg Train Accuracy: 73.33%\n",
      "|---- Test Accuracy: 56.00%\n",
      "|---- Test Demographic disparity: 0.0535\n",
      "\n",
      " Total Run Time: 6.4067 sec\n"
     ]
    },
    {
     "name": "stderr",
     "output_type": "stream",
     "text": [
      "  7%|▋         | 68/1000 [00:00<00:07, 132.05it/s]"
     ]
    },
    {
     "name": "stdout",
     "output_type": "stream",
     "text": [
      "\n",
      " | Global Training Round : 50 |\n",
      "\n",
      "Predictor loss: 8.05 | adversary loss 0.46 | Demographic disparity = 0.63\n",
      " \n",
      "Avg Training Stats after 50 global rounds:\n",
      "Training loss: 0.48 | Validation accuracy: 78.95% | Validation Demographic disparity: 0.6316\n"
     ]
    },
    {
     "name": "stderr",
     "output_type": "stream",
     "text": [
      " 12%|█▎        | 125/1000 [00:00<00:06, 137.78it/s]"
     ]
    },
    {
     "name": "stdout",
     "output_type": "stream",
     "text": [
      "\n",
      " | Global Training Round : 100 |\n",
      "\n",
      "Predictor loss: 6.35 | adversary loss 0.58 | Demographic disparity = 0.58\n",
      " \n",
      "Avg Training Stats after 100 global rounds:\n",
      "Training loss: 0.39 | Validation accuracy: 84.21% | Validation Demographic disparity: 0.5789\n"
     ]
    },
    {
     "name": "stderr",
     "output_type": "stream",
     "text": [
      " 17%|█▋        | 170/1000 [00:01<00:05, 140.26it/s]"
     ]
    },
    {
     "name": "stdout",
     "output_type": "stream",
     "text": [
      "\n",
      " | Global Training Round : 150 |\n",
      "\n",
      "Predictor loss: 11.62 | adversary loss 1.52 | Demographic disparity = 0.11\n",
      " \n",
      "Avg Training Stats after 150 global rounds:\n",
      "Training loss: 0.41 | Validation accuracy: 57.89% | Validation Demographic disparity: 0.1053\n"
     ]
    },
    {
     "name": "stderr",
     "output_type": "stream",
     "text": [
      " 22%|██▏       | 215/1000 [00:01<00:05, 138.77it/s]"
     ]
    },
    {
     "name": "stdout",
     "output_type": "stream",
     "text": [
      "\n",
      " | Global Training Round : 200 |\n",
      "\n",
      "Predictor loss: 29.33 | adversary loss 0.93 | Demographic disparity = 0.57\n",
      " \n",
      "Avg Training Stats after 200 global rounds:\n",
      "Training loss: 0.71 | Validation accuracy: 31.58% | Validation Demographic disparity: 0.5702\n"
     ]
    },
    {
     "name": "stderr",
     "output_type": "stream",
     "text": [
      " 28%|██▊       | 275/1000 [00:02<00:05, 138.66it/s]"
     ]
    },
    {
     "name": "stdout",
     "output_type": "stream",
     "text": [
      "\n",
      " | Global Training Round : 250 |\n",
      "\n",
      "Predictor loss: 8.62 | adversary loss 1.27 | Demographic disparity = 0.26\n",
      " \n",
      "Avg Training Stats after 250 global rounds:\n",
      "Training loss: 0.82 | Validation accuracy: 73.68% | Validation Demographic disparity: 0.2632\n"
     ]
    },
    {
     "name": "stderr",
     "output_type": "stream",
     "text": [
      " 32%|███▏      | 317/1000 [00:02<00:04, 138.86it/s]"
     ]
    },
    {
     "name": "stdout",
     "output_type": "stream",
     "text": [
      "\n",
      " | Global Training Round : 300 |\n",
      "\n",
      "Predictor loss: 4.65 | adversary loss 1.42 | Demographic disparity = 0.53\n",
      " \n",
      "Avg Training Stats after 300 global rounds:\n",
      "Training loss: 0.75 | Validation accuracy: 89.47% | Validation Demographic disparity: 0.5263\n"
     ]
    },
    {
     "name": "stderr",
     "output_type": "stream",
     "text": [
      " 38%|███▊      | 377/1000 [00:02<00:04, 141.90it/s]"
     ]
    },
    {
     "name": "stdout",
     "output_type": "stream",
     "text": [
      "\n",
      " | Global Training Round : 350 |\n",
      "\n",
      "Predictor loss: 4.65 | adversary loss 0.83 | Demographic disparity = 0.53\n",
      " \n",
      "Avg Training Stats after 350 global rounds:\n",
      "Training loss: 0.69 | Validation accuracy: 89.47% | Validation Demographic disparity: 0.5263\n"
     ]
    },
    {
     "name": "stderr",
     "output_type": "stream",
     "text": [
      " 42%|████▏     | 421/1000 [00:03<00:04, 138.25it/s]"
     ]
    },
    {
     "name": "stdout",
     "output_type": "stream",
     "text": [
      "\n",
      " | Global Training Round : 400 |\n",
      "\n",
      "Predictor loss: 4.85 | adversary loss 0.83 | Demographic disparity = 0.53\n",
      " \n",
      "Avg Training Stats after 400 global rounds:\n",
      "Training loss: 0.64 | Validation accuracy: 89.47% | Validation Demographic disparity: 0.5263\n"
     ]
    },
    {
     "name": "stderr",
     "output_type": "stream",
     "text": [
      " 47%|████▋     | 466/1000 [00:03<00:03, 142.39it/s]"
     ]
    },
    {
     "name": "stdout",
     "output_type": "stream",
     "text": [
      "\n",
      " | Global Training Round : 450 |\n",
      "\n",
      "Predictor loss: 5.21 | adversary loss 1.13 | Demographic disparity = 0.53\n",
      " \n",
      "Avg Training Stats after 450 global rounds:\n",
      "Training loss: 0.60 | Validation accuracy: 89.47% | Validation Demographic disparity: 0.5263\n"
     ]
    },
    {
     "name": "stderr",
     "output_type": "stream",
     "text": [
      " 52%|█████▎    | 525/1000 [00:03<00:03, 135.95it/s]"
     ]
    },
    {
     "name": "stdout",
     "output_type": "stream",
     "text": [
      "\n",
      " | Global Training Round : 500 |\n",
      "\n",
      "Predictor loss: 6.64 | adversary loss 1.71 | Demographic disparity = 0.18\n",
      " \n",
      "Avg Training Stats after 500 global rounds:\n",
      "Training loss: 0.58 | Validation accuracy: 84.21% | Validation Demographic disparity: 0.1842\n"
     ]
    },
    {
     "name": "stderr",
     "output_type": "stream",
     "text": [
      " 57%|█████▋    | 567/1000 [00:04<00:03, 132.80it/s]"
     ]
    },
    {
     "name": "stdout",
     "output_type": "stream",
     "text": [
      "\n",
      " | Global Training Round : 550 |\n",
      "\n",
      "Predictor loss: 13.94 | adversary loss 1.56 | Demographic disparity = 0.31\n",
      " \n",
      "Avg Training Stats after 550 global rounds:\n",
      "Training loss: 0.57 | Validation accuracy: 57.89% | Validation Demographic disparity: 0.3070\n"
     ]
    },
    {
     "name": "stderr",
     "output_type": "stream",
     "text": [
      " 62%|██████▎   | 625/1000 [00:04<00:02, 137.64it/s]"
     ]
    },
    {
     "name": "stdout",
     "output_type": "stream",
     "text": [
      "\n",
      " | Global Training Round : 600 |\n",
      "\n",
      "Predictor loss: 15.00 | adversary loss 0.81 | Demographic disparity = 0.42\n",
      " \n",
      "Avg Training Stats after 600 global rounds:\n",
      "Training loss: 0.61 | Validation accuracy: 52.63% | Validation Demographic disparity: 0.4211\n"
     ]
    },
    {
     "name": "stderr",
     "output_type": "stream",
     "text": [
      " 67%|██████▋   | 667/1000 [00:04<00:02, 129.34it/s]"
     ]
    },
    {
     "name": "stdout",
     "output_type": "stream",
     "text": [
      "\n",
      " | Global Training Round : 650 |\n",
      "\n",
      "Predictor loss: 7.83 | adversary loss 1.14 | Demographic disparity = 0.04\n",
      " \n",
      "Avg Training Stats after 650 global rounds:\n",
      "Training loss: 0.61 | Validation accuracy: 73.68% | Validation Demographic disparity: 0.0439\n"
     ]
    },
    {
     "name": "stderr",
     "output_type": "stream",
     "text": [
      " 72%|███████▏  | 721/1000 [00:05<00:02, 128.16it/s]"
     ]
    },
    {
     "name": "stdout",
     "output_type": "stream",
     "text": [
      "\n",
      " | Global Training Round : 700 |\n",
      "\n",
      "Predictor loss: 6.68 | adversary loss 1.44 | Demographic disparity = 0.07\n",
      " \n",
      "Avg Training Stats after 700 global rounds:\n",
      "Training loss: 0.59 | Validation accuracy: 78.95% | Validation Demographic disparity: 0.0702\n"
     ]
    },
    {
     "name": "stderr",
     "output_type": "stream",
     "text": [
      " 76%|███████▋  | 765/1000 [00:05<00:01, 137.21it/s]"
     ]
    },
    {
     "name": "stdout",
     "output_type": "stream",
     "text": [
      "\n",
      " | Global Training Round : 750 |\n",
      "\n",
      "Predictor loss: 7.04 | adversary loss 1.43 | Demographic disparity = 0.04\n",
      " \n",
      "Avg Training Stats after 750 global rounds:\n",
      "Training loss: 0.58 | Validation accuracy: 73.68% | Validation Demographic disparity: 0.0439\n"
     ]
    },
    {
     "name": "stderr",
     "output_type": "stream",
     "text": [
      " 83%|████████▎ | 826/1000 [00:06<00:01, 141.42it/s]"
     ]
    },
    {
     "name": "stdout",
     "output_type": "stream",
     "text": [
      "\n",
      " | Global Training Round : 800 |\n",
      "\n",
      "Predictor loss: 7.11 | adversary loss 1.43 | Demographic disparity = 0.04\n",
      " \n",
      "Avg Training Stats after 800 global rounds:\n",
      "Training loss: 0.56 | Validation accuracy: 73.68% | Validation Demographic disparity: 0.0439\n"
     ]
    },
    {
     "name": "stderr",
     "output_type": "stream",
     "text": [
      " 87%|████████▋ | 872/1000 [00:06<00:00, 142.29it/s]"
     ]
    },
    {
     "name": "stdout",
     "output_type": "stream",
     "text": [
      "\n",
      " | Global Training Round : 850 |\n",
      "\n",
      "Predictor loss: 7.25 | adversary loss 1.38 | Demographic disparity = 0.04\n",
      " \n",
      "Avg Training Stats after 850 global rounds:\n",
      "Training loss: 0.55 | Validation accuracy: 73.68% | Validation Demographic disparity: 0.0439\n"
     ]
    },
    {
     "name": "stderr",
     "output_type": "stream",
     "text": [
      " 91%|█████████▏| 913/1000 [00:06<00:00, 118.19it/s]"
     ]
    },
    {
     "name": "stdout",
     "output_type": "stream",
     "text": [
      "\n",
      " | Global Training Round : 900 |\n",
      "\n",
      "Predictor loss: 8.10 | adversary loss 1.31 | Demographic disparity = 0.04\n",
      " \n",
      "Avg Training Stats after 900 global rounds:\n",
      "Training loss: 0.54 | Validation accuracy: 73.68% | Validation Demographic disparity: 0.0439\n"
     ]
    },
    {
     "name": "stderr",
     "output_type": "stream",
     "text": [
      " 97%|█████████▋| 971/1000 [00:07<00:00, 134.26it/s]"
     ]
    },
    {
     "name": "stdout",
     "output_type": "stream",
     "text": [
      "\n",
      " | Global Training Round : 950 |\n",
      "\n",
      "Predictor loss: 9.78 | adversary loss 1.34 | Demographic disparity = 0.04\n",
      " \n",
      "Avg Training Stats after 950 global rounds:\n",
      "Training loss: 0.54 | Validation accuracy: 73.68% | Validation Demographic disparity: 0.0439\n"
     ]
    },
    {
     "name": "stderr",
     "output_type": "stream",
     "text": [
      "100%|██████████| 1000/1000 [00:07<00:00, 135.78it/s]\n"
     ]
    },
    {
     "name": "stdout",
     "output_type": "stream",
     "text": [
      "\n",
      " | Global Training Round : 1000 |\n",
      "\n",
      "Predictor loss: 9.62 | adversary loss 1.30 | Demographic disparity = 0.04\n",
      " \n",
      "Avg Training Stats after 1000 global rounds:\n",
      "Training loss: 0.54 | Validation accuracy: 73.68% | Validation Demographic disparity: 0.0439\n",
      " \n",
      " Results after 1000 global rounds of training:\n",
      "|---- Avg Train Accuracy: 73.68%\n",
      "|---- Test Accuracy: 53.00%\n",
      "|---- Test Demographic disparity: 0.0325\n",
      "\n",
      " Total Run Time: 7.3766 sec\n"
     ]
    },
    {
     "data": {
      "text/plain": [
       "(0.5890222222222221, 0.054127169505271695)"
      ]
     },
     "execution_count": 12,
     "metadata": {},
     "output_type": "execute_result"
    }
   ],
   "source": [
    "runNonFed(synthetic_info, method = 'FTrain', num_epochs = 1000,init_epochs = 50, lr_g = (0.003,0.01,0.006), lr_d = (0.01,0.05,0.02), lambda_d = (0.9, 0.97, 0.85))"
   ]
  },
  {
   "cell_type": "code",
   "execution_count": 9,
   "metadata": {},
   "outputs": [],
   "source": []
  },
  {
   "cell_type": "code",
   "execution_count": 1,
   "metadata": {},
   "outputs": [],
   "source": [
    "import numpy as np\n",
    "import pandas as pd"
   ]
  },
  {
   "cell_type": "code",
   "execution_count": null,
   "metadata": {},
   "outputs": [],
   "source": []
  }
 ],
 "metadata": {
  "kernelspec": {
   "display_name": "Python 3",
   "language": "python",
   "name": "python3"
  },
  "language_info": {
   "codemirror_mode": {
    "name": "ipython",
    "version": 3
   },
   "file_extension": ".py",
   "mimetype": "text/x-python",
   "name": "python",
   "nbconvert_exporter": "python",
   "pygments_lexer": "ipython3",
   "version": "3.7.4"
  }
 },
 "nbformat": 4,
 "nbformat_minor": 2
}
