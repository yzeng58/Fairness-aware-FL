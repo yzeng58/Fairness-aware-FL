{
 "cells": [
  {
   "cell_type": "code",
   "execution_count": 1,
   "metadata": {},
   "outputs": [],
   "source": [
    "from sims import *"
   ]
  },
  {
   "cell_type": "code",
   "execution_count": 2,
   "metadata": {},
   "outputs": [],
   "source": [
    "synthetic_info = dataGenerate(seed = 7, train_samples = 3000, test_samples = 100)"
   ]
  },
  {
   "cell_type": "code",
   "execution_count": 3,
   "metadata": {},
   "outputs": [
    {
     "name": "stderr",
     "output_type": "stream",
     "text": [
      "\r",
      "  0%|          | 0/10 [00:00<?, ?it/s]"
     ]
    },
    {
     "name": "stdout",
     "output_type": "stream",
     "text": [
      "\n",
      " | Global Training Round : 1 |\n",
      "\n"
     ]
    },
    {
     "name": "stderr",
     "output_type": "stream",
     "text": [
      "\r",
      " 10%|█         | 1/10 [00:03<00:34,  3.88s/it]"
     ]
    },
    {
     "name": "stdout",
     "output_type": "stream",
     "text": [
      "1021\n",
      "1137\n",
      "Client 0: accuracy loss: 2685.70 | fairness loss 2562427.97 | Demographic disparity = 0.43\n",
      "Client 1: accuracy loss: 2488.89 | fairness loss 4931735.14 | Demographic disparity = 0.33\n",
      "Client 2: accuracy loss: 2137.30 | fairness loss 4067157.23 | Demographic disparity = 0.31\n",
      " \n",
      "Avg Training Stats after 1 global rounds:\n",
      "Training loss: 34.44 | Training accuracy: 88.68% | Training Demographic disparity: 0.3448\n",
      "\n",
      " | Global Training Round : 2 |\n",
      "\n"
     ]
    },
    {
     "name": "stderr",
     "output_type": "stream",
     "text": [
      "\r",
      " 20%|██        | 2/10 [00:07<00:29,  3.73s/it]"
     ]
    },
    {
     "name": "stdout",
     "output_type": "stream",
     "text": [
      "1021\n",
      "1137\n",
      "Client 0: accuracy loss: 5786395.08 | fairness loss 11917750793309.09 | Demographic disparity = 0.42\n",
      "Client 1: accuracy loss: 5366318.23 | fairness loss 22935637733003.64 | Demographic disparity = 0.32\n",
      "Client 2: accuracy loss: 4606512.55 | fairness loss 18914701952465.45 | Demographic disparity = 0.31\n",
      " \n",
      "Avg Training Stats after 2 global rounds:\n",
      "Training loss: 42542.46 | Training accuracy: 88.06% | Training Demographic disparity: 0.3382\n",
      "\n",
      " | Global Training Round : 3 |\n",
      "\n"
     ]
    },
    {
     "name": "stderr",
     "output_type": "stream",
     "text": [
      "\r",
      " 30%|███       | 3/10 [00:09<00:23,  3.42s/it]"
     ]
    },
    {
     "name": "stdout",
     "output_type": "stream",
     "text": [
      "1021\n",
      "1137\n",
      "Client 0: accuracy loss: 12492824482.91 | fairness loss 55551979968718651392.00 | Demographic disparity = 0.42\n",
      "Client 1: accuracy loss: 11585880273.45 | fairness loss 106909444823395745792.00 | Demographic disparity = 0.32\n",
      "Client 2: accuracy loss: 9945459642.18 | fairness loss 88166730811230961664.00 | Demographic disparity = 0.31\n",
      " \n",
      "Avg Training Stats after 3 global rounds:\n",
      "Training loss: 61174783.79 | Training accuracy: 88.06% | Training Demographic disparity: 0.3382\n",
      "\n",
      " | Global Training Round : 4 |\n",
      "\n"
     ]
    },
    {
     "name": "stderr",
     "output_type": "stream",
     "text": [
      "\r",
      " 40%|████      | 4/10 [00:12<00:19,  3.18s/it]"
     ]
    },
    {
     "name": "stdout",
     "output_type": "stream",
     "text": [
      "1021\n",
      "1137\n",
      "Client 0: accuracy loss: 26972010172788.36 | fairness loss 258943416338900633671172096.00 | Demographic disparity = 0.42\n",
      "Client 1: accuracy loss: 25013916032279.27 | fairness loss 498334996991402890410065920.00 | Demographic disparity = 0.32\n",
      "Client 2: accuracy loss: 21472246497280.00 | fairness loss 410969914047392218945159168.00 | Demographic disparity = 0.31\n",
      " \n",
      "Avg Training Stats after 4 global rounds:\n",
      "Training loss: 99057223795.08 | Training accuracy: 88.06% | Training Demographic disparity: 0.3382\n",
      "\n",
      " | Global Training Round : 5 |\n",
      "\n"
     ]
    },
    {
     "name": "stderr",
     "output_type": "stream",
     "text": [
      "\r",
      " 50%|█████     | 5/10 [00:15<00:15,  3.01s/it]"
     ]
    },
    {
     "name": "stdout",
     "output_type": "stream",
     "text": [
      "1021\n",
      "1137\n",
      "Client 0: accuracy loss: 58232569491667504.00 | fairness loss 1207008088717520921268531297779712.00 | Demographic disparity = 0.42\n",
      "Client 1: accuracy loss: 54005044798148984.00 | fairness loss 2322879717533499171934426495975424.00 | Demographic disparity = 0.32\n",
      "Client 2: accuracy loss: 46358584305480800.00 | fairness loss 1915646543702042116958244615225344.00 | Demographic disparity = 0.31\n",
      " \n",
      "Avg Training Stats after 5 global rounds:\n",
      "Training loss: 171091637679693.44 | Training accuracy: 88.06% | Training Demographic disparity: 0.3382\n",
      "\n",
      " | Global Training Round : 6 |\n",
      "\n"
     ]
    },
    {
     "name": "stderr",
     "output_type": "stream",
     "text": [
      "\r",
      " 60%|██████    | 6/10 [00:18<00:11,  2.99s/it]"
     ]
    },
    {
     "name": "stdout",
     "output_type": "stream",
     "text": [
      "1021\n",
      "1137\n",
      "Client 0: accuracy loss: 125724118872930385920.00 | fairness loss inf | Demographic disparity = 0.42\n",
      "Client 1: accuracy loss: 116596890131920388096.00 | fairness loss inf | Demographic disparity = 0.32\n",
      "Client 2: accuracy loss: 100088178438588858368.00 | fairness loss inf | Demographic disparity = 0.31\n",
      " \n",
      "Avg Training Stats after 6 global rounds:\n",
      "Training loss: 307822371471366848.00 | Training accuracy: 88.06% | Training Demographic disparity: 0.3382\n",
      "\n",
      " | Global Training Round : 7 |\n",
      "\n"
     ]
    },
    {
     "name": "stderr",
     "output_type": "stream",
     "text": [
      "\r",
      " 70%|███████   | 7/10 [00:20<00:08,  2.94s/it]"
     ]
    },
    {
     "name": "stdout",
     "output_type": "stream",
     "text": [
      "1021\n",
      "1137\n",
      "Client 0: accuracy loss: 271438378225378785230848.00 | fairness loss inf | Demographic disparity = 0.42\n",
      "Client 1: accuracy loss: 251732672527908927963136.00 | fairness loss inf | Demographic disparity = 0.32\n",
      "Client 2: accuracy loss: 216090376885474789687296.00 | fairness loss inf | Demographic disparity = 0.31\n",
      " \n",
      "Avg Training Stats after 7 global rounds:\n",
      "Training loss: 569647291050136436736.00 | Training accuracy: 88.06% | Training Demographic disparity: 0.3382\n",
      "\n",
      " | Global Training Round : 8 |\n",
      "\n"
     ]
    },
    {
     "name": "stderr",
     "output_type": "stream",
     "text": [
      "\r",
      " 80%|████████  | 8/10 [00:24<00:06,  3.02s/it]"
     ]
    },
    {
     "name": "stdout",
     "output_type": "stream",
     "text": [
      "1021\n",
      "1137\n",
      "Client 0: accuracy loss: 586035449289068991865683968.00 | fairness loss inf | Demographic disparity = 0.42\n",
      "Client 1: accuracy loss: 543490837988157114915225600.00 | fairness loss inf | Demographic disparity = 0.32\n",
      "Client 2: accuracy loss: 466539128218172868945510400.00 | fairness loss inf | Demographic disparity = 0.31\n",
      " \n",
      "Avg Training Stats after 8 global rounds:\n",
      "Training loss: 1076134956058334310957056.00 | Training accuracy: 88.06% | Training Demographic disparity: 0.3382\n",
      "\n",
      " | Global Training Round : 9 |\n",
      "\n"
     ]
    },
    {
     "name": "stderr",
     "output_type": "stream",
     "text": [
      "\r",
      " 90%|█████████ | 9/10 [00:27<00:03,  3.04s/it]"
     ]
    },
    {
     "name": "stdout",
     "output_type": "stream",
     "text": [
      "1021\n",
      "1137\n",
      "Client 0: accuracy loss: 1265250614589323009089807056896.00 | fairness loss inf | Demographic disparity = 0.42\n",
      "Client 1: accuracy loss: 1173396750218700092765275947008.00 | fairness loss inf | Demographic disparity = 0.32\n",
      "Client 2: accuracy loss: 1007258002120751126063993585664.00 | fairness loss inf | Demographic disparity = 0.31\n",
      " \n",
      "Avg Training Stats after 9 global rounds:\n",
      "Training loss: 2065222534152440802153857024.00 | Training accuracy: 88.06% | Training Demographic disparity: 0.3382\n",
      "\n",
      " | Global Training Round : 10 |\n",
      "\n"
     ]
    },
    {
     "name": "stderr",
     "output_type": "stream",
     "text": [
      "100%|██████████| 10/10 [00:30<00:00,  3.01s/it]"
     ]
    },
    {
     "name": "stdout",
     "output_type": "stream",
     "text": [
      "1021\n",
      "1137\n",
      "Client 0: accuracy loss: 2731675952440808786553930252288000.00 | fairness loss inf | Demographic disparity = 0.42\n",
      "Client 1: accuracy loss: 2533363564046218950207597503840256.00 | fairness loss inf | Demographic disparity = 0.32\n",
      "Client 2: accuracy loss: 2174669945300764416891182938849280.00 | fairness loss inf | Demographic disparity = 0.31\n",
      " \n",
      "Avg Training Stats after 10 global rounds:\n",
      "Training loss: 4012934150955683764706991931392.00 | Training accuracy: 88.06% | Training Demographic disparity: 0.3382\n",
      " \n",
      " Results after 11 global rounds of training:\n",
      "|---- Avg Train Accuracy: 88.06%\n",
      "|---- Test Accuracy: 94.00%\n",
      "|---- Test Demographic disparity: 0.3880\n",
      "\n",
      " Total Run Time: 30.1075 sec\n"
     ]
    },
    {
     "name": "stderr",
     "output_type": "stream",
     "text": [
      "\n"
     ]
    }
   ],
   "source": [
    "train(logReg(num_features=3, num_classes=2), synthetic_info,\n",
    "      option = \"FairBatch\", optimizer = 'adam', learning_rate = 0.005, metric = \"Demographic disparity\",\n",
    "      num_rounds = 10, local_epochs = 30, alpha = 1, train_prn = False, adaptive_alpha = True, seed = 7)"
   ]
  },
  {
   "cell_type": "code",
   "execution_count": 4,
   "metadata": {},
   "outputs": [
    {
     "name": "stderr",
     "output_type": "stream",
     "text": [
      "\r",
      "  0%|          | 0/10 [00:00<?, ?it/s]"
     ]
    },
    {
     "name": "stdout",
     "output_type": "stream",
     "text": [
      "\n",
      " | Global Training Round : 1 |\n",
      "\n"
     ]
    },
    {
     "name": "stderr",
     "output_type": "stream",
     "text": [
      "\r",
      " 10%|█         | 1/10 [00:03<00:28,  3.12s/it]"
     ]
    },
    {
     "name": "stdout",
     "output_type": "stream",
     "text": [
      "Client 0: accuracy loss: 2.67 | fairness loss 0.51 | Demographic disparity = 0.56\n",
      "Client 1: accuracy loss: 2.53 | fairness loss 0.94 | Demographic disparity = 0.36\n",
      "Client 2: accuracy loss: 2.22 | fairness loss 0.78 | Demographic disparity = 0.35\n",
      " \n",
      "Avg Training Stats after 1 global rounds:\n",
      "Training loss: 38.28 | Training accuracy: 87.88% | Training Demographic disparity: 0.4057\n",
      "\n",
      " | Global Training Round : 2 |\n",
      "\n"
     ]
    },
    {
     "name": "stderr",
     "output_type": "stream",
     "text": [
      "\r",
      " 20%|██        | 2/10 [00:05<00:24,  3.05s/it]"
     ]
    },
    {
     "name": "stdout",
     "output_type": "stream",
     "text": [
      "Client 0: accuracy loss: 2.85 | fairness loss 0.36 | Demographic disparity = 0.38\n",
      "Client 1: accuracy loss: 3.00 | fairness loss 0.63 | Demographic disparity = 0.26\n",
      "Client 2: accuracy loss: 2.43 | fairness loss 0.54 | Demographic disparity = 0.25\n",
      " \n",
      "Avg Training Stats after 2 global rounds:\n",
      "Training loss: 45.11 | Training accuracy: 88.36% | Training Demographic disparity: 0.2802\n",
      "\n",
      " | Global Training Round : 3 |\n",
      "\n"
     ]
    },
    {
     "name": "stderr",
     "output_type": "stream",
     "text": [
      "\r",
      " 30%|███       | 3/10 [00:08<00:20,  2.94s/it]"
     ]
    },
    {
     "name": "stdout",
     "output_type": "stream",
     "text": [
      "Client 0: accuracy loss: 2.93 | fairness loss 0.32 | Demographic disparity = 0.29\n",
      "Client 1: accuracy loss: 3.31 | fairness loss 0.58 | Demographic disparity = 0.20\n",
      "Client 2: accuracy loss: 2.94 | fairness loss 0.53 | Demographic disparity = 0.12\n",
      " \n",
      "Avg Training Stats after 3 global rounds:\n",
      "Training loss: 45.50 | Training accuracy: 84.35% | Training Demographic disparity: 0.1786\n",
      "\n",
      " | Global Training Round : 4 |\n",
      "\n"
     ]
    },
    {
     "name": "stderr",
     "output_type": "stream",
     "text": [
      "\r",
      " 40%|████      | 4/10 [00:11<00:17,  2.89s/it]"
     ]
    },
    {
     "name": "stdout",
     "output_type": "stream",
     "text": [
      "Client 0: accuracy loss: 3.07 | fairness loss 0.31 | Demographic disparity = 0.22\n",
      "Client 1: accuracy loss: 3.81 | fairness loss 0.59 | Demographic disparity = 0.12\n",
      "Client 2: accuracy loss: 3.64 | fairness loss 0.55 | Demographic disparity = 0.05\n",
      " \n",
      "Avg Training Stats after 4 global rounds:\n",
      "Training loss: 44.96 | Training accuracy: 80.06% | Training Demographic disparity: 0.1065\n",
      "\n",
      " | Global Training Round : 5 |\n",
      "\n"
     ]
    },
    {
     "name": "stderr",
     "output_type": "stream",
     "text": [
      "\r",
      " 50%|█████     | 5/10 [00:14<00:14,  2.95s/it]"
     ]
    },
    {
     "name": "stdout",
     "output_type": "stream",
     "text": [
      "Client 0: accuracy loss: 3.24 | fairness loss 0.32 | Demographic disparity = 0.06\n",
      "Client 1: accuracy loss: 4.33 | fairness loss 0.61 | Demographic disparity = 0.06\n",
      "Client 2: accuracy loss: 4.33 | fairness loss 0.58 | Demographic disparity = 0.01\n",
      " \n",
      "Avg Training Stats after 5 global rounds:\n",
      "Training loss: 44.35 | Training accuracy: 76.74% | Training Demographic disparity: 0.0410\n",
      "\n",
      " | Global Training Round : 6 |\n",
      "\n"
     ]
    },
    {
     "name": "stderr",
     "output_type": "stream",
     "text": [
      "\r",
      " 60%|██████    | 6/10 [00:17<00:12,  3.09s/it]"
     ]
    },
    {
     "name": "stdout",
     "output_type": "stream",
     "text": [
      "Client 0: accuracy loss: 2.99 | fairness loss 0.39 | Demographic disparity = 0.23\n",
      "Client 1: accuracy loss: 3.79 | fairness loss 0.73 | Demographic disparity = 0.12\n",
      "Client 2: accuracy loss: 3.81 | fairness loss 0.68 | Demographic disparity = 0.04\n",
      " \n",
      "Avg Training Stats after 6 global rounds:\n",
      "Training loss: 44.10 | Training accuracy: 80.02% | Training Demographic disparity: 0.1000\n",
      "\n",
      " | Global Training Round : 7 |\n",
      "\n"
     ]
    },
    {
     "name": "stderr",
     "output_type": "stream",
     "text": [
      "\r",
      " 70%|███████   | 7/10 [00:21<00:09,  3.16s/it]"
     ]
    },
    {
     "name": "stdout",
     "output_type": "stream",
     "text": [
      "Client 0: accuracy loss: 3.08 | fairness loss 0.37 | Demographic disparity = 0.15\n",
      "Client 1: accuracy loss: 4.03 | fairness loss 0.70 | Demographic disparity = 0.11\n",
      "Client 2: accuracy loss: 4.09 | fairness loss 0.66 | Demographic disparity = 0.02\n",
      " \n",
      "Avg Training Stats after 7 global rounds:\n",
      "Training loss: 43.85 | Training accuracy: 78.72% | Training Demographic disparity: 0.0782\n",
      "\n",
      " | Global Training Round : 8 |\n",
      "\n"
     ]
    },
    {
     "name": "stderr",
     "output_type": "stream",
     "text": [
      "\r",
      " 80%|████████  | 8/10 [00:24<00:06,  3.07s/it]"
     ]
    },
    {
     "name": "stdout",
     "output_type": "stream",
     "text": [
      "Client 0: accuracy loss: 3.46 | fairness loss 0.33 | Demographic disparity = 0.02\n",
      "Client 1: accuracy loss: 4.94 | fairness loss 0.63 | Demographic disparity = 0.01\n",
      "Client 2: accuracy loss: 5.11 | fairness loss 0.63 | Demographic disparity = 0.05\n",
      " \n",
      "Avg Training Stats after 8 global rounds:\n",
      "Training loss: 43.49 | Training accuracy: 73.19% | Training Demographic disparity: 0.0137\n",
      "\n",
      " | Global Training Round : 9 |\n",
      "\n"
     ]
    },
    {
     "name": "stderr",
     "output_type": "stream",
     "text": [
      "\r",
      " 90%|█████████ | 9/10 [00:26<00:02,  2.96s/it]"
     ]
    },
    {
     "name": "stdout",
     "output_type": "stream",
     "text": [
      "Client 0: accuracy loss: 3.18 | fairness loss 0.39 | Demographic disparity = 0.15\n",
      "Client 1: accuracy loss: 4.34 | fairness loss 0.74 | Demographic disparity = 0.08\n",
      "Client 2: accuracy loss: 4.48 | fairness loss 0.71 | Demographic disparity = 0.00\n",
      " \n",
      "Avg Training Stats after 9 global rounds:\n",
      "Training loss: 43.37 | Training accuracy: 77.29% | Training Demographic disparity: 0.0585\n",
      "\n",
      " | Global Training Round : 10 |\n",
      "\n"
     ]
    },
    {
     "name": "stderr",
     "output_type": "stream",
     "text": [
      "100%|██████████| 10/10 [00:29<00:00,  2.97s/it]"
     ]
    },
    {
     "name": "stdout",
     "output_type": "stream",
     "text": [
      "Client 0: accuracy loss: 3.23 | fairness loss 0.38 | Demographic disparity = 0.15\n",
      "Client 1: accuracy loss: 4.45 | fairness loss 0.72 | Demographic disparity = 0.06\n",
      "Client 2: accuracy loss: 4.60 | fairness loss 0.69 | Demographic disparity = 0.00\n",
      " \n",
      "Avg Training Stats after 10 global rounds:\n",
      "Training loss: 43.24 | Training accuracy: 76.64% | Training Demographic disparity: 0.0497\n",
      " \n",
      " Results after 11 global rounds of training:\n",
      "|---- Avg Train Accuracy: 76.64%\n",
      "|---- Test Accuracy: 79.00%\n",
      "|---- Test Demographic disparity: 0.1478\n",
      "\n",
      " Total Run Time: 29.7363 sec\n"
     ]
    },
    {
     "name": "stderr",
     "output_type": "stream",
     "text": [
      "\n"
     ]
    }
   ],
   "source": [
    "train(logReg(num_features=3, num_classes=2), synthetic_info,\n",
    "      option = \"FairBatch\", optimizer = 'adam', learning_rate = 0.005, metric = \"Demographic disparity\",\n",
    "      num_rounds = 10, local_epochs = 30, alpha = 1, train_prn = False, adaptive_alpha = True, seed = 7)"
   ]
  },
  {
   "cell_type": "code",
   "execution_count": 5,
   "metadata": {},
   "outputs": [
    {
     "name": "stderr",
     "output_type": "stream",
     "text": [
      "100%|██████████| 10/10 [00:27<00:00,  2.71s/it]\n"
     ]
    },
    {
     "data": {
      "text/plain": [
       "(0.79, 0.1478048780487805)"
      ]
     },
     "execution_count": 5,
     "metadata": {},
     "output_type": "execute_result"
    }
   ],
   "source": [
    "train(logReg(num_features=3, num_classes=2), synthetic_info,\n",
    "      option = \"FairBatch\", optimizer = 'adam', learning_rate = 0.005, metric = \"Demographic disparity\",\n",
    "      num_rounds = 10, local_epochs = 30, alpha = 1, ret = True, adaptive_alpha = True, seed = 7)"
   ]
  },
  {
   "cell_type": "code",
   "execution_count": 6,
   "metadata": {},
   "outputs": [
    {
     "name": "stderr",
     "output_type": "stream",
     "text": [
      "100%|██████████| 10/10 [00:33<00:00,  3.39s/it]\n"
     ]
    },
    {
     "data": {
      "text/plain": [
       "(0.79, 0.1478048780487805)"
      ]
     },
     "execution_count": 6,
     "metadata": {},
     "output_type": "execute_result"
    }
   ],
   "source": [
    "train(logReg(num_features=3, num_classes=2), synthetic_info,\n",
    "      option = \"FairBatch\", optimizer = 'adam', learning_rate = 0.005, metric = \"Demographic disparity\",\n",
    "      num_rounds = 10, local_epochs = 30, alpha = 1, ret = True, adaptive_alpha = True, seed = 7)"
   ]
  },
  {
   "cell_type": "code",
   "execution_count": 7,
   "metadata": {},
   "outputs": [
    {
     "name": "stderr",
     "output_type": "stream",
     "text": [
      "100%|██████████| 10/10 [00:27<00:00,  2.74s/it]\n"
     ]
    },
    {
     "data": {
      "text/plain": [
       "(0.79, 0.1478048780487805)"
      ]
     },
     "execution_count": 7,
     "metadata": {},
     "output_type": "execute_result"
    }
   ],
   "source": [
    "train(logReg(num_features=3, num_classes=2), synthetic_info,\n",
    "      option = \"FairBatch\", optimizer = 'adam', learning_rate = 0.005, metric = \"Demographic disparity\",\n",
    "      num_rounds = 10, local_epochs = 30, alpha = 1, ret = True, adaptive_alpha = True, seed = 7)"
   ]
  },
  {
   "cell_type": "code",
   "execution_count": 8,
   "metadata": {},
   "outputs": [
    {
     "name": "stderr",
     "output_type": "stream",
     "text": [
      "100%|██████████| 10/10 [00:26<00:00,  2.62s/it]\n"
     ]
    },
    {
     "data": {
      "text/plain": [
       "(0.79, 0.1478048780487805)"
      ]
     },
     "execution_count": 8,
     "metadata": {},
     "output_type": "execute_result"
    }
   ],
   "source": [
    "train(logReg(num_features=3, num_classes=2), synthetic_info,\n",
    "      option = \"FairBatch\", optimizer = 'adam', learning_rate = 0.005, metric = \"Demographic disparity\",\n",
    "      num_rounds = 10, local_epochs = 30, alpha = 1, ret = True, adaptive_alpha = True, seed = 7)"
   ]
  },
  {
   "cell_type": "code",
   "execution_count": null,
   "metadata": {},
   "outputs": [],
   "source": [
    "DataLoader()"
   ]
  }
 ],
 "metadata": {
  "kernelspec": {
   "display_name": "Python 3",
   "language": "python",
   "name": "python3"
  },
  "language_info": {
   "codemirror_mode": {
    "name": "ipython",
    "version": 3
   },
   "file_extension": ".py",
   "mimetype": "text/x-python",
   "name": "python",
   "nbconvert_exporter": "python",
   "pygments_lexer": "ipython3",
   "version": "3.7.4"
  }
 },
 "nbformat": 4,
 "nbformat_minor": 2
}
