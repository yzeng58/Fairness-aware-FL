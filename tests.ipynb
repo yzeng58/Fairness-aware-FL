{
 "cells": [
  {
   "cell_type": "code",
   "execution_count": 1,
   "metadata": {},
   "outputs": [],
   "source": [
    "from Server import *"
   ]
  },
  {
   "cell_type": "code",
   "execution_count": 6,
   "metadata": {
    "scrolled": true
   },
   "outputs": [
    {
     "name": "stderr",
     "output_type": "stream",
     "text": [
      "\n",
      "  0%|          | 0/1 [00:00<?, ?it/s]\u001b[A"
     ]
    },
    {
     "name": "stdout",
     "output_type": "stream",
     "text": [
      "\n",
      " | Global Training Round : 1 |\n",
      "\n"
     ]
    },
    {
     "name": "stderr",
     "output_type": "stream",
     "text": [
      "\n",
      "100%|██████████| 1/1 [00:02<00:00,  2.40s/it]\u001b[A\n",
      "\n",
      "  0%|          | 0/9 [00:00<?, ?it/s]\u001b[A"
     ]
    },
    {
     "name": "stdout",
     "output_type": "stream",
     "text": [
      "Client 1: accuracy loss: 3.34 | fairness loss 1071.04 | Demographic disparity = 0.48\n",
      "Client 2: accuracy loss: 2.28 | fairness loss 992.26 | Demographic disparity = 0.39\n",
      "Client 3: accuracy loss: 2.86 | fairness loss 1189.98 | Demographic disparity = 0.33\n",
      " \n",
      "Avg Training Stats after 1 global rounds:\n",
      "Training loss: 38.60 | Validation accuracy: 86.86% | Validation Demographic disparity: 0.3999\n",
      " \n",
      " Results after 1 global rounds of training:\n",
      "|---- Avg Train Accuracy: 86.86%\n",
      "|---- Test Accuracy: 84.00%\n",
      "|---- Test Demographic disparity: 0.4857\n",
      "\n",
      " Total Run Time: 2.4168 sec\n",
      "\n",
      " | Global Training Round : 1 |\n",
      "\n"
     ]
    },
    {
     "name": "stderr",
     "output_type": "stream",
     "text": [
      "\n",
      " 11%|█         | 1/9 [00:02<00:22,  2.87s/it]\u001b[A"
     ]
    },
    {
     "name": "stdout",
     "output_type": "stream",
     "text": [
      "Client 1: predictor loss: 4.19 | adversary loss 0.40 | Demographic disparity = 0.37\n",
      "Client 2: predictor loss: 2.80 | adversary loss 0.40 | Demographic disparity = 0.39\n",
      "Client 3: predictor loss: 3.29 | adversary loss 0.47 | Demographic disparity = 0.22\n",
      " \n",
      "Avg Training Stats after 1 global rounds:\n",
      "Training loss: 41.28 | Validation accuracy: 82.75% | Validation Demographic disparity: 0.3366\n",
      "\n",
      " | Global Training Round : 2 |\n",
      "\n"
     ]
    },
    {
     "name": "stderr",
     "output_type": "stream",
     "text": [
      "\n",
      " 22%|██▏       | 2/9 [00:05<00:19,  2.84s/it]\u001b[A"
     ]
    },
    {
     "name": "stdout",
     "output_type": "stream",
     "text": [
      "Client 1: predictor loss: 3.97 | adversary loss 0.38 | Demographic disparity = 0.39\n",
      "Client 2: predictor loss: 2.66 | adversary loss 0.40 | Demographic disparity = 0.41\n",
      "Client 3: predictor loss: 3.19 | adversary loss 0.49 | Demographic disparity = 0.25\n",
      " \n",
      "Avg Training Stats after 2 global rounds:\n",
      "Training loss: 43.05 | Validation accuracy: 82.75% | Validation Demographic disparity: 0.3566\n",
      "\n",
      " | Global Training Round : 3 |\n",
      "\n"
     ]
    },
    {
     "name": "stderr",
     "output_type": "stream",
     "text": [
      "\n",
      " 33%|███▎      | 3/9 [00:08<00:17,  2.93s/it]\u001b[A"
     ]
    },
    {
     "name": "stdout",
     "output_type": "stream",
     "text": [
      "Client 1: predictor loss: 4.82 | adversary loss 0.44 | Demographic disparity = 0.44\n",
      "Client 2: predictor loss: 3.08 | adversary loss 0.45 | Demographic disparity = 0.32\n",
      "Client 3: predictor loss: 3.74 | adversary loss 0.56 | Demographic disparity = 0.18\n",
      " \n",
      "Avg Training Stats after 3 global rounds:\n",
      "Training loss: 44.36 | Validation accuracy: 79.13% | Validation Demographic disparity: 0.3018\n",
      "\n",
      " | Global Training Round : 4 |\n",
      "\n"
     ]
    },
    {
     "name": "stderr",
     "output_type": "stream",
     "text": [
      "\n",
      " 44%|████▍     | 4/9 [00:12<00:15,  3.04s/it]\u001b[A"
     ]
    },
    {
     "name": "stdout",
     "output_type": "stream",
     "text": [
      "Client 1: predictor loss: 5.61 | adversary loss 0.48 | Demographic disparity = 0.30\n",
      "Client 2: predictor loss: 3.44 | adversary loss 0.48 | Demographic disparity = 0.26\n",
      "Client 3: predictor loss: 4.28 | adversary loss 0.60 | Demographic disparity = 0.16\n",
      " \n",
      "Avg Training Stats after 4 global rounds:\n",
      "Training loss: 47.19 | Validation accuracy: 76.39% | Validation Demographic disparity: 0.2307\n",
      "\n",
      " | Global Training Round : 5 |\n",
      "\n"
     ]
    },
    {
     "name": "stderr",
     "output_type": "stream",
     "text": [
      "\n",
      " 56%|█████▌    | 5/9 [00:15<00:12,  3.04s/it]\u001b[A"
     ]
    },
    {
     "name": "stdout",
     "output_type": "stream",
     "text": [
      "Client 1: predictor loss: 6.28 | adversary loss 0.50 | Demographic disparity = 0.29\n",
      "Client 2: predictor loss: 3.76 | adversary loss 0.51 | Demographic disparity = 0.25\n",
      "Client 3: predictor loss: 4.73 | adversary loss 0.63 | Demographic disparity = 0.13\n",
      " \n",
      "Avg Training Stats after 5 global rounds:\n",
      "Training loss: 50.52 | Validation accuracy: 74.04% | Validation Demographic disparity: 0.2116\n",
      "\n",
      " | Global Training Round : 6 |\n",
      "\n"
     ]
    },
    {
     "name": "stderr",
     "output_type": "stream",
     "text": [
      "\n",
      " 67%|██████▋   | 6/9 [00:18<00:09,  3.09s/it]\u001b[A"
     ]
    },
    {
     "name": "stdout",
     "output_type": "stream",
     "text": [
      "Client 1: predictor loss: 6.80 | adversary loss 0.51 | Demographic disparity = 0.18\n",
      "Client 2: predictor loss: 4.09 | adversary loss 0.53 | Demographic disparity = 0.24\n",
      "Client 3: predictor loss: 5.06 | adversary loss 0.65 | Demographic disparity = 0.09\n",
      " \n",
      "Avg Training Stats after 6 global rounds:\n",
      "Training loss: 53.71 | Validation accuracy: 71.57% | Validation Demographic disparity: 0.1711\n",
      "\n",
      " | Global Training Round : 7 |\n",
      "\n"
     ]
    },
    {
     "name": "stderr",
     "output_type": "stream",
     "text": [
      "\n",
      " 78%|███████▊  | 7/9 [00:21<00:06,  3.13s/it]\u001b[A"
     ]
    },
    {
     "name": "stdout",
     "output_type": "stream",
     "text": [
      "Client 1: predictor loss: 7.14 | adversary loss 0.52 | Demographic disparity = 0.18\n",
      "Client 2: predictor loss: 4.31 | adversary loss 0.55 | Demographic disparity = 0.22\n",
      "Client 3: predictor loss: 5.29 | adversary loss 0.67 | Demographic disparity = 0.08\n",
      " \n",
      "Avg Training Stats after 7 global rounds:\n",
      "Training loss: 56.64 | Validation accuracy: 70.52% | Validation Demographic disparity: 0.1562\n",
      "\n",
      " | Global Training Round : 8 |\n",
      "\n"
     ]
    },
    {
     "name": "stderr",
     "output_type": "stream",
     "text": [
      "\n",
      " 89%|████████▉ | 8/9 [00:24<00:03,  3.15s/it]\u001b[A"
     ]
    },
    {
     "name": "stdout",
     "output_type": "stream",
     "text": [
      "Client 1: predictor loss: 5.15 | adversary loss 0.47 | Demographic disparity = 0.36\n",
      "Client 2: predictor loss: 3.17 | adversary loss 0.51 | Demographic disparity = 0.32\n",
      "Client 3: predictor loss: 3.98 | adversary loss 0.63 | Demographic disparity = 0.18\n",
      " \n",
      "Avg Training Stats after 8 global rounds:\n",
      "Training loss: 58.50 | Validation accuracy: 78.54% | Validation Demographic disparity: 0.2837\n",
      "\n",
      " | Global Training Round : 9 |\n",
      "\n"
     ]
    },
    {
     "name": "stderr",
     "output_type": "stream",
     "text": [
      "\n",
      "100%|██████████| 9/9 [00:27<00:00,  3.11s/it]\u001b[A"
     ]
    },
    {
     "name": "stdout",
     "output_type": "stream",
     "text": [
      "Client 1: predictor loss: 5.72 | adversary loss 0.49 | Demographic disparity = 0.30\n",
      "Client 2: predictor loss: 3.48 | adversary loss 0.51 | Demographic disparity = 0.26\n",
      "Client 3: predictor loss: 4.34 | adversary loss 0.64 | Demographic disparity = 0.14\n",
      " \n",
      "Avg Training Stats after 9 global rounds:\n",
      "Training loss: 58.41 | Validation accuracy: 76.00% | Validation Demographic disparity: 0.2274\n",
      " \n",
      " Results after 9 global rounds of training:\n",
      "|---- Avg Train Accuracy: 76.00%\n",
      "|---- Test Accuracy: 73.00%\n",
      "|---- Test Demographic disparity: 0.2957\n",
      "\n",
      " Total Run Time: 27.9964 sec\n"
     ]
    },
    {
     "name": "stderr",
     "output_type": "stream",
     "text": [
      "\n"
     ]
    }
   ],
   "source": [
    "seed = 619\n",
    "synthetic_info = dataGenerate(seed = seed, test_samples = 100)\n",
    "server = Server(logReg(num_features=3, num_classes=2, seed = seed), synthetic_info, train_prn = False, metric = \"Demographic disparity\", seed = seed)\n",
    "server.Unconstrained(num_rounds = 1, local_epochs = 30, optimizer = 'adam', learning_rate = 0.01)\n",
    "server.AdversarialLearning(num_rounds = 9, local_epochs = 30, optimizer = 'adam', epsilon = None, learning_rate = 0.005, alpha = 0.5, adaptive_lr = True)"
   ]
  },
  {
   "cell_type": "code",
   "execution_count": 4,
   "metadata": {
    "scrolled": true
   },
   "outputs": [
    {
     "name": "stderr",
     "output_type": "stream",
     "text": [
      "\r",
      "  0%|          | 0/1 [00:00<?, ?it/s]"
     ]
    },
    {
     "name": "stdout",
     "output_type": "stream",
     "text": [
      "\n",
      " | Global Training Round : 1 |\n",
      "\n"
     ]
    },
    {
     "name": "stderr",
     "output_type": "stream",
     "text": [
      "100%|██████████| 1/1 [00:02<00:00,  2.45s/it]\n",
      "  0%|          | 0/9 [00:00<?, ?it/s]"
     ]
    },
    {
     "name": "stdout",
     "output_type": "stream",
     "text": [
      "Client 1: accuracy loss: 2.67 | fairness loss 446.22 | Demographic disparity = 0.47\n",
      "Client 2: accuracy loss: 3.49 | fairness loss 522.31 | Demographic disparity = 0.32\n",
      "Client 3: accuracy loss: 2.43 | fairness loss 531.58 | Demographic disparity = 0.47\n",
      " \n",
      "Avg Training Stats after 1 global rounds:\n",
      "Training loss: 53.65 | Validation accuracy: 86.28% | Validation Demographic disparity: 0.3835\n",
      " \n",
      " Results after 1 global rounds of training:\n",
      "|---- Avg Train Accuracy: 86.28%\n",
      "|---- Test Accuracy: 82.00%\n",
      "|---- Test Demographic disparity: 0.3805\n",
      "\n",
      " Total Run Time: 2.4680 sec\n",
      "\n",
      " | Global Training Round : 1 |\n",
      "\n"
     ]
    },
    {
     "name": "stderr",
     "output_type": "stream",
     "text": [
      "\r",
      " 11%|█         | 1/9 [00:03<00:28,  3.53s/it]"
     ]
    },
    {
     "name": "stdout",
     "output_type": "stream",
     "text": [
      "Client 1: predictor loss: 5.07 | adversary loss 0.46 | Demographic disparity = 0.32\n",
      "Client 2: predictor loss: 5.66 | adversary loss 0.68 | Demographic disparity = 0.09\n",
      "Client 3: predictor loss: 4.58 | adversary loss 0.76 | Demographic disparity = 0.07\n",
      " \n",
      "Avg Training Stats after 1 global rounds:\n",
      "Training loss: 41.48 | Validation accuracy: 69.18% | Validation Demographic disparity: 0.1421\n",
      "\n",
      " | Global Training Round : 2 |\n",
      "\n"
     ]
    },
    {
     "name": "stderr",
     "output_type": "stream",
     "text": [
      "\r",
      " 22%|██▏       | 2/9 [00:07<00:25,  3.64s/it]"
     ]
    },
    {
     "name": "stdout",
     "output_type": "stream",
     "text": [
      "Client 1: predictor loss: 5.88 | adversary loss 0.67 | Demographic disparity = 0.15\n",
      "Client 2: predictor loss: 6.47 | adversary loss 0.69 | Demographic disparity = 0.02\n",
      "Client 3: predictor loss: 5.37 | adversary loss 0.62 | Demographic disparity = 0.05\n",
      " \n",
      "Avg Training Stats after 2 global rounds:\n",
      "Training loss: 53.62 | Validation accuracy: 62.85% | Validation Demographic disparity: 0.0398\n",
      "\n",
      " | Global Training Round : 3 |\n",
      "\n"
     ]
    },
    {
     "name": "stderr",
     "output_type": "stream",
     "text": [
      "\r",
      " 33%|███▎      | 3/9 [00:10<00:21,  3.53s/it]"
     ]
    },
    {
     "name": "stdout",
     "output_type": "stream",
     "text": [
      "Client 1: predictor loss: 6.70 | adversary loss 0.78 | Demographic disparity = 0.06\n",
      "Client 2: predictor loss: 7.23 | adversary loss 0.76 | Demographic disparity = 0.02\n",
      "Client 3: predictor loss: 6.10 | adversary loss 0.69 | Demographic disparity = 0.11\n",
      " \n",
      "Avg Training Stats after 3 global rounds:\n",
      "Training loss: 62.83 | Validation accuracy: 58.57% | Validation Demographic disparity: 0.0020\n",
      "\n",
      " | Global Training Round : 4 |\n",
      "\n"
     ]
    },
    {
     "name": "stderr",
     "output_type": "stream",
     "text": [
      "\r",
      " 44%|████▍     | 4/9 [00:13<00:17,  3.40s/it]"
     ]
    },
    {
     "name": "stdout",
     "output_type": "stream",
     "text": [
      "Client 1: predictor loss: 7.84 | adversary loss 0.76 | Demographic disparity = 0.10\n",
      "Client 2: predictor loss: 8.23 | adversary loss 0.74 | Demographic disparity = 0.05\n",
      "Client 3: predictor loss: 7.05 | adversary loss 0.72 | Demographic disparity = 0.20\n",
      " \n",
      "Avg Training Stats after 4 global rounds:\n",
      "Training loss: 70.98 | Validation accuracy: 52.35% | Validation Demographic disparity: 0.0924\n",
      "\n",
      " | Global Training Round : 5 |\n",
      "\n"
     ]
    },
    {
     "name": "stderr",
     "output_type": "stream",
     "text": [
      "\r",
      " 56%|█████▌    | 5/9 [00:16<00:13,  3.30s/it]"
     ]
    },
    {
     "name": "stdout",
     "output_type": "stream",
     "text": [
      "Client 1: predictor loss: 2.99 | adversary loss 0.58 | Demographic disparity = 0.46\n",
      "Client 2: predictor loss: 3.80 | adversary loss 0.60 | Demographic disparity = 0.26\n",
      "Client 3: predictor loss: 2.62 | adversary loss 0.56 | Demographic disparity = 0.39\n",
      " \n",
      "Avg Training Stats after 5 global rounds:\n",
      "Training loss: 75.47 | Validation accuracy: 84.47% | Validation Demographic disparity: 0.3261\n",
      "\n",
      " | Global Training Round : 6 |\n",
      "\n"
     ]
    },
    {
     "name": "stderr",
     "output_type": "stream",
     "text": [
      "\r",
      " 67%|██████▋   | 6/9 [00:20<00:09,  3.25s/it]"
     ]
    },
    {
     "name": "stdout",
     "output_type": "stream",
     "text": [
      "Client 1: predictor loss: 3.65 | adversary loss 0.56 | Demographic disparity = 0.33\n",
      "Client 2: predictor loss: 4.75 | adversary loss 0.67 | Demographic disparity = 0.18\n",
      "Client 3: predictor loss: 3.31 | adversary loss 0.60 | Demographic disparity = 0.23\n",
      " \n",
      "Avg Training Stats after 6 global rounds:\n",
      "Training loss: 70.26 | Validation accuracy: 78.20% | Validation Demographic disparity: 0.2316\n",
      "\n",
      " | Global Training Round : 7 |\n",
      "\n"
     ]
    },
    {
     "name": "stderr",
     "output_type": "stream",
     "text": [
      "\r",
      " 78%|███████▊  | 7/9 [00:23<00:06,  3.29s/it]"
     ]
    },
    {
     "name": "stdout",
     "output_type": "stream",
     "text": [
      "Client 1: predictor loss: 4.22 | adversary loss 0.61 | Demographic disparity = 0.28\n",
      "Client 2: predictor loss: 5.52 | adversary loss 0.69 | Demographic disparity = 0.12\n",
      "Client 3: predictor loss: 3.95 | adversary loss 0.64 | Demographic disparity = 0.17\n",
      " \n",
      "Avg Training Stats after 7 global rounds:\n",
      "Training loss: 67.84 | Validation accuracy: 74.72% | Validation Demographic disparity: 0.1823\n",
      "\n",
      " | Global Training Round : 8 |\n",
      "\n"
     ]
    },
    {
     "name": "stderr",
     "output_type": "stream",
     "text": [
      "\r",
      " 89%|████████▉ | 8/9 [00:26<00:03,  3.33s/it]"
     ]
    },
    {
     "name": "stdout",
     "output_type": "stream",
     "text": [
      "Client 1: predictor loss: 4.71 | adversary loss 0.63 | Demographic disparity = 0.25\n",
      "Client 2: predictor loss: 6.03 | adversary loss 0.70 | Demographic disparity = 0.10\n",
      "Client 3: predictor loss: 4.49 | adversary loss 0.66 | Demographic disparity = 0.09\n",
      " \n",
      "Avg Training Stats after 8 global rounds:\n",
      "Training loss: 66.86 | Validation accuracy: 70.84% | Validation Demographic disparity: 0.1394\n",
      "\n",
      " | Global Training Round : 9 |\n",
      "\n"
     ]
    },
    {
     "name": "stderr",
     "output_type": "stream",
     "text": [
      "100%|██████████| 9/9 [00:29<00:00,  3.32s/it]"
     ]
    },
    {
     "name": "stdout",
     "output_type": "stream",
     "text": [
      "Client 1: predictor loss: 4.97 | adversary loss 0.64 | Demographic disparity = 0.25\n",
      "Client 2: predictor loss: 6.32 | adversary loss 0.70 | Demographic disparity = 0.09\n",
      "Client 3: predictor loss: 4.78 | adversary loss 0.67 | Demographic disparity = 0.06\n",
      " \n",
      "Avg Training Stats after 9 global rounds:\n",
      "Training loss: 66.63 | Validation accuracy: 70.12% | Validation Demographic disparity: 0.1317\n",
      " \n",
      " Results after 9 global rounds of training:\n",
      "|---- Avg Train Accuracy: 70.12%\n",
      "|---- Test Accuracy: 71.00%\n",
      "|---- Test Demographic disparity: 0.1110\n",
      "\n",
      " Total Run Time: 29.8830 sec\n"
     ]
    },
    {
     "name": "stderr",
     "output_type": "stream",
     "text": [
      "\n"
     ]
    }
   ],
   "source": [
    "seed = 860\n",
    "synthetic_info = dataGenerate(seed = seed, test_samples = 100)\n",
    "server = Server(logReg(num_features=3, num_classes=2, seed = seed), synthetic_info, train_prn = False, metric = \"Demographic disparity\", seed = seed)\n",
    "server.Unconstrained(num_rounds = 1, local_epochs = 30, optimizer = 'adam', learning_rate = 0.01)\n",
    "server.AdversarialLearning(num_rounds = 9, local_epochs = 30, optimizer = 'adam', epsilon = None, learning_rate = 0.005, alpha = 0.5, adaptive_lr = True)"
   ]
  },
  {
   "cell_type": "code",
   "execution_count": 2,
   "metadata": {
    "scrolled": true
   },
   "outputs": [
    {
     "name": "stderr",
     "output_type": "stream",
     "text": [
      "\r",
      "  0%|          | 0/10 [00:00<?, ?it/s]"
     ]
    },
    {
     "name": "stdout",
     "output_type": "stream",
     "text": [
      "\n",
      " | Global Training Round : 1 |\n",
      "\n"
     ]
    },
    {
     "name": "stderr",
     "output_type": "stream",
     "text": [
      "\r",
      " 10%|█         | 1/10 [00:04<00:37,  4.17s/it]"
     ]
    },
    {
     "name": "stdout",
     "output_type": "stream",
     "text": [
      "Client 1: accuracy loss: 4.44 | fairness loss 257.14 | Demographic disparity = 0.54\n",
      "Client 2: accuracy loss: 3.75 | fairness loss 209.96 | Demographic disparity = 0.32\n",
      "Client 3: accuracy loss: 3.97 | fairness loss 170.62 | Demographic disparity = 0.28\n",
      " \n",
      "Avg Training Stats after 1 global rounds:\n",
      "Training loss: 0.65 | Validation accuracy: 81.78% | Validation Demographic disparity: 0.3722\n",
      "\n",
      " | Global Training Round : 2 |\n",
      "\n"
     ]
    },
    {
     "name": "stderr",
     "output_type": "stream",
     "text": [
      "\r",
      " 20%|██        | 2/10 [00:08<00:32,  4.10s/it]"
     ]
    },
    {
     "name": "stdout",
     "output_type": "stream",
     "text": [
      "Client 1: accuracy loss: 4.26 | fairness loss 123.58 | Demographic disparity = 0.53\n",
      "Client 2: accuracy loss: 3.75 | fairness loss 96.23 | Demographic disparity = 0.34\n",
      "Client 3: accuracy loss: 3.49 | fairness loss 87.91 | Demographic disparity = 0.33\n",
      " \n",
      "Avg Training Stats after 2 global rounds:\n",
      "Training loss: 0.58 | Validation accuracy: 88.44% | Validation Demographic disparity: 0.3805\n",
      "\n",
      " | Global Training Round : 3 |\n",
      "\n"
     ]
    },
    {
     "name": "stderr",
     "output_type": "stream",
     "text": [
      "\r",
      " 30%|███       | 3/10 [00:12<00:29,  4.27s/it]"
     ]
    },
    {
     "name": "stdout",
     "output_type": "stream",
     "text": [
      "Client 1: accuracy loss: 4.39 | fairness loss 77.36 | Demographic disparity = 0.51\n",
      "Client 2: accuracy loss: 3.99 | fairness loss 63.38 | Demographic disparity = 0.26\n",
      "Client 3: accuracy loss: 3.45 | fairness loss 66.12 | Demographic disparity = 0.27\n",
      " \n",
      "Avg Training Stats after 3 global rounds:\n",
      "Training loss: 0.54 | Validation accuracy: 85.69% | Validation Demographic disparity: 0.3193\n",
      "\n",
      " | Global Training Round : 4 |\n",
      "\n"
     ]
    },
    {
     "name": "stderr",
     "output_type": "stream",
     "text": [
      "\r",
      " 40%|████      | 4/10 [00:16<00:25,  4.26s/it]"
     ]
    },
    {
     "name": "stdout",
     "output_type": "stream",
     "text": [
      "Client 1: accuracy loss: 4.76 | fairness loss 48.59 | Demographic disparity = 0.47\n",
      "Client 2: accuracy loss: 4.40 | fairness loss 44.34 | Demographic disparity = 0.20\n",
      "Client 3: accuracy loss: 3.62 | fairness loss 49.67 | Demographic disparity = 0.23\n",
      " \n",
      "Avg Training Stats after 4 global rounds:\n",
      "Training loss: 0.52 | Validation accuracy: 82.57% | Validation Demographic disparity: 0.2680\n",
      "\n",
      " | Global Training Round : 5 |\n",
      "\n"
     ]
    },
    {
     "name": "stderr",
     "output_type": "stream",
     "text": [
      "\r",
      " 50%|█████     | 5/10 [00:21<00:21,  4.21s/it]"
     ]
    },
    {
     "name": "stdout",
     "output_type": "stream",
     "text": [
      "Client 1: accuracy loss: 5.17 | fairness loss 30.54 | Demographic disparity = 0.39\n",
      "Client 2: accuracy loss: 4.81 | fairness loss 31.97 | Demographic disparity = 0.15\n",
      "Client 3: accuracy loss: 3.86 | fairness loss 36.51 | Demographic disparity = 0.16\n",
      " \n",
      "Avg Training Stats after 5 global rounds:\n",
      "Training loss: 0.51 | Validation accuracy: 79.88% | Validation Demographic disparity: 0.1986\n",
      "\n",
      " | Global Training Round : 6 |\n",
      "\n"
     ]
    },
    {
     "name": "stderr",
     "output_type": "stream",
     "text": [
      "\r",
      " 60%|██████    | 6/10 [00:25<00:16,  4.13s/it]"
     ]
    },
    {
     "name": "stdout",
     "output_type": "stream",
     "text": [
      "Client 1: accuracy loss: 5.49 | fairness loss 21.43 | Demographic disparity = 0.33\n",
      "Client 2: accuracy loss: 5.11 | fairness loss 25.64 | Demographic disparity = 0.09\n",
      "Client 3: accuracy loss: 4.04 | fairness loss 29.04 | Demographic disparity = 0.12\n",
      " \n",
      "Avg Training Stats after 6 global rounds:\n",
      "Training loss: 0.50 | Validation accuracy: 76.18% | Validation Demographic disparity: 0.1457\n",
      "\n",
      " | Global Training Round : 7 |\n",
      "\n"
     ]
    },
    {
     "name": "stderr",
     "output_type": "stream",
     "text": [
      "\r",
      " 70%|███████   | 7/10 [00:28<00:11,  3.93s/it]"
     ]
    },
    {
     "name": "stdout",
     "output_type": "stream",
     "text": [
      "Client 1: accuracy loss: 5.71 | fairness loss 17.05 | Demographic disparity = 0.28\n",
      "Client 2: accuracy loss: 5.32 | fairness loss 22.63 | Demographic disparity = 0.02\n",
      "Client 3: accuracy loss: 4.17 | fairness loss 25.19 | Demographic disparity = 0.11\n",
      " \n",
      "Avg Training Stats after 7 global rounds:\n",
      "Training loss: 0.49 | Validation accuracy: 73.29% | Validation Demographic disparity: 0.1011\n",
      "\n",
      " | Global Training Round : 8 |\n",
      "\n"
     ]
    },
    {
     "name": "stderr",
     "output_type": "stream",
     "text": [
      "\r",
      " 80%|████████  | 8/10 [00:31<00:07,  3.76s/it]"
     ]
    },
    {
     "name": "stdout",
     "output_type": "stream",
     "text": [
      "Client 1: accuracy loss: 5.85 | fairness loss 14.86 | Demographic disparity = 0.26\n",
      "Client 2: accuracy loss: 5.45 | fairness loss 21.16 | Demographic disparity = 0.01\n",
      "Client 3: accuracy loss: 4.25 | fairness loss 23.15 | Demographic disparity = 0.07\n",
      " \n",
      "Avg Training Stats after 8 global rounds:\n",
      "Training loss: 0.48 | Validation accuracy: 71.14% | Validation Demographic disparity: 0.0697\n",
      "\n",
      " | Global Training Round : 9 |\n",
      "\n"
     ]
    },
    {
     "name": "stderr",
     "output_type": "stream",
     "text": [
      "\r",
      " 90%|█████████ | 9/10 [00:35<00:03,  3.74s/it]"
     ]
    },
    {
     "name": "stdout",
     "output_type": "stream",
     "text": [
      "Client 1: accuracy loss: 5.95 | fairness loss 13.71 | Demographic disparity = 0.26\n",
      "Client 2: accuracy loss: 5.54 | fairness loss 20.41 | Demographic disparity = 0.01\n",
      "Client 3: accuracy loss: 4.30 | fairness loss 22.03 | Demographic disparity = 0.07\n",
      " \n",
      "Avg Training Stats after 9 global rounds:\n",
      "Training loss: 0.47 | Validation accuracy: 71.14% | Validation Demographic disparity: 0.0697\n",
      "\n",
      " | Global Training Round : 10 |\n",
      "\n"
     ]
    },
    {
     "name": "stderr",
     "output_type": "stream",
     "text": [
      "100%|██████████| 10/10 [00:38<00:00,  3.90s/it]"
     ]
    },
    {
     "name": "stdout",
     "output_type": "stream",
     "text": [
      "Client 1: accuracy loss: 6.01 | fairness loss 13.06 | Demographic disparity = 0.21\n",
      "Client 2: accuracy loss: 5.59 | fairness loss 19.99 | Demographic disparity = 0.02\n",
      "Client 3: accuracy loss: 4.34 | fairness loss 21.37 | Demographic disparity = 0.06\n",
      " \n",
      "Avg Training Stats after 10 global rounds:\n",
      "Training loss: 0.47 | Validation accuracy: 69.84% | Validation Demographic disparity: 0.0515\n",
      " \n",
      " Results after 10 global rounds of training:\n",
      "|---- Avg Train Accuracy: 69.84%\n",
      "|---- Test Accuracy: 71.00%\n",
      "|---- Test Demographic disparity: 0.0689\n",
      "\n",
      " Total Run Time: 38.9901 sec\n"
     ]
    },
    {
     "name": "stderr",
     "output_type": "stream",
     "text": [
      "\n"
     ]
    }
   ],
   "source": [
    "seed = 210\n",
    "synthetic_info = dataGenerate(seed = seed, test_samples = 100)\n",
    "server = Server(logReg(num_features=3, num_classes=2, seed = seed), synthetic_info, train_prn = False, metric = \"Demographic disparity\", seed = seed)\n",
    "server.BiasCorrecting(num_rounds = 10, local_epochs = 30, optimizer = 'adam', epsilon = None, learning_rate = 0.001, alpha = 10)\n",
    "\n",
    "\n"
   ]
  },
  {
   "cell_type": "code",
   "execution_count": 6,
   "metadata": {
    "scrolled": true
   },
   "outputs": [
    {
     "name": "stderr",
     "output_type": "stream",
     "text": [
      "\r",
      "  0%|          | 0/10 [00:00<?, ?it/s]"
     ]
    },
    {
     "name": "stdout",
     "output_type": "stream",
     "text": [
      "\n",
      " | Global Training Round : 1 |\n",
      "\n"
     ]
    },
    {
     "name": "stderr",
     "output_type": "stream",
     "text": [
      "\r",
      " 10%|█         | 1/10 [00:02<00:20,  2.26s/it]"
     ]
    },
    {
     "name": "stdout",
     "output_type": "stream",
     "text": [
      "Client 1: accuracy loss: 3.87 | fairness loss 695.38 | Demographic disparity = 0.54\n",
      "Client 2: accuracy loss: 3.12 | fairness loss 570.50 | Demographic disparity = 0.33\n",
      "Client 3: accuracy loss: 3.83 | fairness loss 461.92 | Demographic disparity = 0.29\n",
      " \n",
      "Avg Training Stats after 1 global rounds:\n",
      "Training loss: 77.96 | Validation accuracy: 81.85% | Validation Demographic disparity: 0.3838\n",
      "\n",
      " | Global Training Round : 2 |\n",
      "\n"
     ]
    },
    {
     "name": "stderr",
     "output_type": "stream",
     "text": [
      "\r",
      " 20%|██        | 2/10 [00:04<00:17,  2.23s/it]"
     ]
    },
    {
     "name": "stdout",
     "output_type": "stream",
     "text": [
      "Client 1: accuracy loss: 2.86 | fairness loss 794.52 | Demographic disparity = 0.64\n",
      "Client 2: accuracy loss: 2.33 | fairness loss 620.35 | Demographic disparity = 0.36\n",
      "Client 3: accuracy loss: 2.78 | fairness loss 546.89 | Demographic disparity = 0.39\n",
      " \n",
      "Avg Training Stats after 2 global rounds:\n",
      "Training loss: 64.63 | Validation accuracy: 89.42% | Validation Demographic disparity: 0.4433\n",
      "\n",
      " | Global Training Round : 3 |\n",
      "\n"
     ]
    },
    {
     "name": "stderr",
     "output_type": "stream",
     "text": [
      "\r",
      " 30%|███       | 3/10 [00:06<00:16,  2.32s/it]"
     ]
    },
    {
     "name": "stdout",
     "output_type": "stream",
     "text": [
      "Client 1: accuracy loss: 2.53 | fairness loss 1006.54 | Demographic disparity = 0.57\n",
      "Client 2: accuracy loss: 2.08 | fairness loss 780.10 | Demographic disparity = 0.36\n",
      "Client 3: accuracy loss: 2.48 | fairness loss 748.09 | Demographic disparity = 0.37\n",
      " \n",
      "Avg Training Stats after 3 global rounds:\n",
      "Training loss: 56.37 | Validation accuracy: 88.44% | Validation Demographic disparity: 0.4267\n",
      "\n",
      " | Global Training Round : 4 |\n",
      "\n"
     ]
    },
    {
     "name": "stderr",
     "output_type": "stream",
     "text": [
      "\r",
      " 40%|████      | 4/10 [00:09<00:15,  2.50s/it]"
     ]
    },
    {
     "name": "stdout",
     "output_type": "stream",
     "text": [
      "Client 1: accuracy loss: 2.50 | fairness loss 1254.40 | Demographic disparity = 0.57\n",
      "Client 2: accuracy loss: 2.02 | fairness loss 975.23 | Demographic disparity = 0.36\n",
      "Client 3: accuracy loss: 2.47 | fairness loss 981.28 | Demographic disparity = 0.35\n",
      " \n",
      "Avg Training Stats after 4 global rounds:\n",
      "Training loss: 51.44 | Validation accuracy: 89.23% | Validation Demographic disparity: 0.4176\n",
      "\n",
      " | Global Training Round : 5 |\n",
      "\n"
     ]
    },
    {
     "name": "stderr",
     "output_type": "stream",
     "text": [
      "\r",
      " 50%|█████     | 5/10 [00:12<00:12,  2.56s/it]"
     ]
    },
    {
     "name": "stdout",
     "output_type": "stream",
     "text": [
      "Client 1: accuracy loss: 2.51 | fairness loss 1343.54 | Demographic disparity = 0.57\n",
      "Client 2: accuracy loss: 2.01 | fairness loss 1045.68 | Demographic disparity = 0.35\n",
      "Client 3: accuracy loss: 2.48 | fairness loss 1062.59 | Demographic disparity = 0.35\n",
      " \n",
      "Avg Training Stats after 5 global rounds:\n",
      "Training loss: 48.40 | Validation accuracy: 88.90% | Validation Demographic disparity: 0.4143\n",
      "\n",
      " | Global Training Round : 6 |\n",
      "\n"
     ]
    },
    {
     "name": "stderr",
     "output_type": "stream",
     "text": [
      "\r",
      " 60%|██████    | 6/10 [00:15<00:10,  2.63s/it]"
     ]
    },
    {
     "name": "stdout",
     "output_type": "stream",
     "text": [
      "Client 1: accuracy loss: 2.52 | fairness loss 1361.09 | Demographic disparity = 0.57\n",
      "Client 2: accuracy loss: 2.00 | fairness loss 1059.49 | Demographic disparity = 0.35\n",
      "Client 3: accuracy loss: 2.47 | fairness loss 1076.50 | Demographic disparity = 0.35\n",
      " \n",
      "Avg Training Stats after 6 global rounds:\n",
      "Training loss: 46.38 | Validation accuracy: 88.90% | Validation Demographic disparity: 0.4143\n",
      "\n",
      " | Global Training Round : 7 |\n",
      "\n"
     ]
    },
    {
     "name": "stderr",
     "output_type": "stream",
     "text": [
      "\r",
      " 70%|███████   | 7/10 [00:17<00:07,  2.58s/it]"
     ]
    },
    {
     "name": "stdout",
     "output_type": "stream",
     "text": [
      "Client 1: accuracy loss: 2.52 | fairness loss 1367.86 | Demographic disparity = 0.57\n",
      "Client 2: accuracy loss: 1.99 | fairness loss 1064.80 | Demographic disparity = 0.35\n",
      "Client 3: accuracy loss: 2.46 | fairness loss 1080.67 | Demographic disparity = 0.34\n",
      " \n",
      "Avg Training Stats after 7 global rounds:\n",
      "Training loss: 44.93 | Validation accuracy: 88.51% | Validation Demographic disparity: 0.4085\n",
      "\n",
      " | Global Training Round : 8 |\n",
      "\n"
     ]
    },
    {
     "name": "stderr",
     "output_type": "stream",
     "text": [
      "\r",
      " 80%|████████  | 8/10 [00:20<00:05,  2.54s/it]"
     ]
    },
    {
     "name": "stdout",
     "output_type": "stream",
     "text": [
      "Client 1: accuracy loss: 2.53 | fairness loss 1372.36 | Demographic disparity = 0.57\n",
      "Client 2: accuracy loss: 1.99 | fairness loss 1068.33 | Demographic disparity = 0.35\n",
      "Client 3: accuracy loss: 2.46 | fairness loss 1083.04 | Demographic disparity = 0.34\n",
      " \n",
      "Avg Training Stats after 8 global rounds:\n",
      "Training loss: 43.85 | Validation accuracy: 88.51% | Validation Demographic disparity: 0.4085\n",
      "\n",
      " | Global Training Round : 9 |\n",
      "\n"
     ]
    },
    {
     "name": "stderr",
     "output_type": "stream",
     "text": [
      "\r",
      " 90%|█████████ | 9/10 [00:23<00:02,  2.85s/it]"
     ]
    },
    {
     "name": "stdout",
     "output_type": "stream",
     "text": [
      "Client 1: accuracy loss: 2.53 | fairness loss 1376.00 | Demographic disparity = 0.57\n",
      "Client 2: accuracy loss: 1.99 | fairness loss 1071.19 | Demographic disparity = 0.34\n",
      "Client 3: accuracy loss: 2.46 | fairness loss 1084.90 | Demographic disparity = 0.34\n",
      " \n",
      "Avg Training Stats after 9 global rounds:\n",
      "Training loss: 43.00 | Validation accuracy: 88.19% | Validation Demographic disparity: 0.4052\n",
      "\n",
      " | Global Training Round : 10 |\n",
      "\n"
     ]
    },
    {
     "name": "stderr",
     "output_type": "stream",
     "text": [
      "100%|██████████| 10/10 [00:26<00:00,  2.65s/it]"
     ]
    },
    {
     "name": "stdout",
     "output_type": "stream",
     "text": [
      "Client 1: accuracy loss: 2.53 | fairness loss 1379.11 | Demographic disparity = 0.57\n",
      "Client 2: accuracy loss: 1.99 | fairness loss 1073.62 | Demographic disparity = 0.34\n",
      "Client 3: accuracy loss: 2.45 | fairness loss 1086.50 | Demographic disparity = 0.34\n",
      " \n",
      "Avg Training Stats after 10 global rounds:\n",
      "Training loss: 42.33 | Validation accuracy: 88.19% | Validation Demographic disparity: 0.4052\n",
      " \n",
      " Results after 10 global rounds of training:\n",
      "|---- Avg Train Accuracy: 88.19%\n",
      "|---- Test Accuracy: 90.00%\n",
      "|---- Test Demographic disparity: 0.4000\n",
      "\n",
      " Total Run Time: 26.4954 sec\n"
     ]
    },
    {
     "name": "stderr",
     "output_type": "stream",
     "text": [
      "\n"
     ]
    }
   ],
   "source": [
    "seed = 210\n",
    "synthetic_info = dataGenerate(seed = seed, test_samples = 100)\n",
    "server = Server(logReg(num_features=3, num_classes=2, seed = seed), synthetic_info, train_prn = False, metric = \"Demographic disparity\", seed = seed)\n",
    "server.Unconstrained(num_rounds = 10, local_epochs = 30, optimizer = 'adam', epsilon = None, learning_rate = 0.001)"
   ]
  },
  {
   "cell_type": "code",
   "execution_count": 5,
   "metadata": {
    "scrolled": true
   },
   "outputs": [
    {
     "name": "stderr",
     "output_type": "stream",
     "text": [
      "\r",
      "  0%|          | 0/10 [00:00<?, ?it/s]"
     ]
    },
    {
     "name": "stdout",
     "output_type": "stream",
     "text": [
      "\n",
      " | Global Training Round : 1 |\n",
      "\n"
     ]
    },
    {
     "name": "stderr",
     "output_type": "stream",
     "text": [
      "\r",
      " 10%|█         | 1/10 [00:03<00:35,  3.96s/it]"
     ]
    },
    {
     "name": "stdout",
     "output_type": "stream",
     "text": [
      "Client 1: accuracy loss: 3.26 | fairness loss 167.64 | Demographic disparity = 0.48\n",
      "Client 2: accuracy loss: 3.62 | fairness loss 248.47 | Demographic disparity = 0.33\n",
      "Client 3: accuracy loss: 2.55 | fairness loss 334.10 | Demographic disparity = 0.39\n",
      " \n",
      "Avg Training Stats after 1 global rounds:\n",
      "Training loss: 0.40 | Validation accuracy: 87.94% | Validation Demographic disparity: 0.3690\n",
      "\n",
      " | Global Training Round : 2 |\n",
      "\n"
     ]
    },
    {
     "name": "stderr",
     "output_type": "stream",
     "text": [
      "\r",
      " 20%|██        | 2/10 [00:07<00:31,  3.90s/it]"
     ]
    },
    {
     "name": "stdout",
     "output_type": "stream",
     "text": [
      "Client 1: accuracy loss: 3.26 | fairness loss 125.20 | Demographic disparity = 0.37\n",
      "Client 2: accuracy loss: 3.56 | fairness loss 193.73 | Demographic disparity = 0.33\n",
      "Client 3: accuracy loss: 2.46 | fairness loss 261.38 | Demographic disparity = 0.33\n",
      " \n",
      "Avg Training Stats after 2 global rounds:\n",
      "Training loss: 0.38 | Validation accuracy: 88.43% | Validation Demographic disparity: 0.3317\n",
      "\n",
      " | Global Training Round : 3 |\n",
      "\n"
     ]
    },
    {
     "name": "stderr",
     "output_type": "stream",
     "text": [
      "\r",
      " 30%|███       | 3/10 [00:11<00:27,  3.99s/it]"
     ]
    },
    {
     "name": "stdout",
     "output_type": "stream",
     "text": [
      "Client 1: accuracy loss: 3.66 | fairness loss 78.69 | Demographic disparity = 0.35\n",
      "Client 2: accuracy loss: 3.76 | fairness loss 126.82 | Demographic disparity = 0.24\n",
      "Client 3: accuracy loss: 2.72 | fairness loss 170.36 | Demographic disparity = 0.31\n",
      " \n",
      "Avg Training Stats after 3 global rounds:\n",
      "Training loss: 0.39 | Validation accuracy: 87.03% | Validation Demographic disparity: 0.2724\n",
      "\n",
      " | Global Training Round : 4 |\n",
      "\n"
     ]
    },
    {
     "name": "stderr",
     "output_type": "stream",
     "text": [
      "\r",
      " 40%|████      | 4/10 [00:15<00:22,  3.73s/it]"
     ]
    },
    {
     "name": "stdout",
     "output_type": "stream",
     "text": [
      "Client 1: accuracy loss: 4.05 | fairness loss 56.74 | Demographic disparity = 0.23\n",
      "Client 2: accuracy loss: 4.01 | fairness loss 94.47 | Demographic disparity = 0.17\n",
      "Client 3: accuracy loss: 2.99 | fairness loss 124.80 | Demographic disparity = 0.24\n",
      " \n",
      "Avg Training Stats after 4 global rounds:\n",
      "Training loss: 0.39 | Validation accuracy: 82.74% | Validation Demographic disparity: 0.2032\n",
      "\n",
      " | Global Training Round : 5 |\n",
      "\n"
     ]
    },
    {
     "name": "stderr",
     "output_type": "stream",
     "text": [
      "\r",
      " 50%|█████     | 5/10 [00:17<00:17,  3.44s/it]"
     ]
    },
    {
     "name": "stdout",
     "output_type": "stream",
     "text": [
      "Client 1: accuracy loss: 4.38 | fairness loss 46.83 | Demographic disparity = 0.19\n",
      "Client 2: accuracy loss: 4.23 | fairness loss 79.16 | Demographic disparity = 0.15\n",
      "Client 3: accuracy loss: 3.23 | fairness loss 102.03 | Demographic disparity = 0.21\n",
      " \n",
      "Avg Training Stats after 5 global rounds:\n",
      "Training loss: 0.39 | Validation accuracy: 81.51% | Validation Demographic disparity: 0.1711\n",
      "\n",
      " | Global Training Round : 6 |\n",
      "\n"
     ]
    },
    {
     "name": "stderr",
     "output_type": "stream",
     "text": [
      "\r",
      " 60%|██████    | 6/10 [00:20<00:13,  3.26s/it]"
     ]
    },
    {
     "name": "stdout",
     "output_type": "stream",
     "text": [
      "Client 1: accuracy loss: 4.64 | fairness loss 42.44 | Demographic disparity = 0.07\n",
      "Client 2: accuracy loss: 4.42 | fairness loss 71.84 | Demographic disparity = 0.09\n",
      "Client 3: accuracy loss: 3.42 | fairness loss 90.31 | Demographic disparity = 0.18\n",
      " \n",
      "Avg Training Stats after 6 global rounds:\n",
      "Training loss: 0.39 | Validation accuracy: 79.85% | Validation Demographic disparity: 0.1103\n",
      "\n",
      " | Global Training Round : 7 |\n",
      "\n"
     ]
    },
    {
     "name": "stderr",
     "output_type": "stream",
     "text": [
      "\r",
      " 70%|███████   | 7/10 [00:23<00:09,  3.16s/it]"
     ]
    },
    {
     "name": "stdout",
     "output_type": "stream",
     "text": [
      "Client 1: accuracy loss: 4.84 | fairness loss 40.53 | Demographic disparity = 0.07\n",
      "Client 2: accuracy loss: 4.56 | fairness loss 68.25 | Demographic disparity = 0.07\n",
      "Client 3: accuracy loss: 3.57 | fairness loss 84.01 | Demographic disparity = 0.16\n",
      " \n",
      "Avg Training Stats after 7 global rounds:\n",
      "Training loss: 0.39 | Validation accuracy: 77.60% | Validation Demographic disparity: 0.0713\n",
      "\n",
      " | Global Training Round : 8 |\n",
      "\n"
     ]
    },
    {
     "name": "stderr",
     "output_type": "stream",
     "text": [
      "\r",
      " 80%|████████  | 8/10 [00:26<00:06,  3.17s/it]"
     ]
    },
    {
     "name": "stdout",
     "output_type": "stream",
     "text": [
      "Client 1: accuracy loss: 4.99 | fairness loss 39.73 | Demographic disparity = 0.07\n",
      "Client 2: accuracy loss: 4.67 | fairness loss 66.42 | Demographic disparity = 0.07\n",
      "Client 3: accuracy loss: 3.67 | fairness loss 80.43 | Demographic disparity = 0.12\n",
      " \n",
      "Avg Training Stats after 8 global rounds:\n",
      "Training loss: 0.38 | Validation accuracy: 76.43% | Validation Demographic disparity: 0.0558\n",
      "\n",
      " | Global Training Round : 9 |\n",
      "\n"
     ]
    },
    {
     "name": "stderr",
     "output_type": "stream",
     "text": [
      "\r",
      " 90%|█████████ | 9/10 [00:29<00:03,  3.06s/it]"
     ]
    },
    {
     "name": "stdout",
     "output_type": "stream",
     "text": [
      "Client 1: accuracy loss: 5.09 | fairness loss 39.41 | Demographic disparity = 0.08\n",
      "Client 2: accuracy loss: 4.75 | fairness loss 65.45 | Demographic disparity = 0.07\n",
      "Client 3: accuracy loss: 3.75 | fairness loss 78.30 | Demographic disparity = 0.12\n",
      " \n",
      "Avg Training Stats after 9 global rounds:\n",
      "Training loss: 0.38 | Validation accuracy: 76.13% | Validation Demographic disparity: 0.0525\n",
      "\n",
      " | Global Training Round : 10 |\n",
      "\n"
     ]
    },
    {
     "name": "stderr",
     "output_type": "stream",
     "text": [
      "100%|██████████| 10/10 [00:32<00:00,  3.22s/it]"
     ]
    },
    {
     "name": "stdout",
     "output_type": "stream",
     "text": [
      "Client 1: accuracy loss: 5.17 | fairness loss 39.30 | Demographic disparity = 0.13\n",
      "Client 2: accuracy loss: 4.81 | fairness loss 64.91 | Demographic disparity = 0.04\n",
      "Client 3: accuracy loss: 3.81 | fairness loss 76.97 | Demographic disparity = 0.12\n",
      " \n",
      "Avg Training Stats after 10 global rounds:\n",
      "Training loss: 0.38 | Validation accuracy: 74.58% | Validation Demographic disparity: 0.0285\n",
      " \n",
      " Results after 10 global rounds of training:\n",
      "|---- Avg Train Accuracy: 74.58%\n",
      "|---- Test Accuracy: 67.00%\n",
      "|---- Test Demographic disparity: 0.0746\n",
      "\n",
      " Total Run Time: 32.2221 sec\n"
     ]
    },
    {
     "name": "stderr",
     "output_type": "stream",
     "text": [
      "\n"
     ]
    }
   ],
   "source": [
    "seed = 355\n",
    "synthetic_info = dataGenerate(seed = seed, test_samples = 100)\n",
    "server = Server(logReg(num_features=3, num_classes=2, seed = seed), synthetic_info, train_prn = False, metric = \"Demographic disparity\", seed = seed)\n",
    "server.BiasCorrecting(num_rounds = 10, local_epochs = 30, optimizer = 'adam', epsilon = None, learning_rate = 0.005, alpha = 5)\n",
    "\n",
    "\n"
   ]
  },
  {
   "cell_type": "code",
   "execution_count": null,
   "metadata": {
    "scrolled": true
   },
   "outputs": [],
   "source": [
    "seed = 355\n",
    "synthetic_info = dataGenerate(seed = seed, test_samples = 100)\n",
    "server = Server(logReg(num_features=3, num_classes=2, seed = seed), synthetic_info, train_prn = False, metric = \"Demographic disparity\", seed = seed)\n",
    "server.BiasCorrecting(num_rounds = 10, local_epochs = 30, optimizer = 'adam', epsilon = 0.03, learning_rate = 0.001, alpha = 10)\n",
    "\n",
    "\n"
   ]
  },
  {
   "cell_type": "code",
   "execution_count": null,
   "metadata": {},
   "outputs": [],
   "source": []
  }
 ],
 "metadata": {
  "kernelspec": {
   "display_name": "Python 3",
   "language": "python",
   "name": "python3"
  },
  "language_info": {
   "codemirror_mode": {
    "name": "ipython",
    "version": 3
   },
   "file_extension": ".py",
   "mimetype": "text/x-python",
   "name": "python",
   "nbconvert_exporter": "python",
   "pygments_lexer": "ipython3",
   "version": "3.7.4"
  }
 },
 "nbformat": 4,
 "nbformat_minor": 2
}
