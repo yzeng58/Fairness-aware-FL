{
 "cells": [
  {
   "cell_type": "code",
   "execution_count": 1,
   "metadata": {},
   "outputs": [],
   "source": [
    "import utils"
   ]
  },
  {
   "cell_type": "code",
   "execution_count": 2,
   "metadata": {},
   "outputs": [
    {
     "data": {
      "text/plain": [
       "['DPDisparity',\n",
       " 'Dataset',\n",
       " 'DatasetSplit',\n",
       " 'F',\n",
       " 'LoadData',\n",
       " 'X_DIST',\n",
       " 'X_PRIME',\n",
       " 'Z_MEAN',\n",
       " '__builtins__',\n",
       " '__cached__',\n",
       " '__doc__',\n",
       " '__file__',\n",
       " '__loader__',\n",
       " '__name__',\n",
       " '__package__',\n",
       " '__spec__',\n",
       " 'al_loss',\n",
       " 'average_weights',\n",
       " 'copy',\n",
       " 'dataGenerate',\n",
       " 'logReg',\n",
       " 'loss_func',\n",
       " 'multivariate_normal',\n",
       " 'np',\n",
       " 'pRule',\n",
       " 'pd',\n",
       " 'random',\n",
       " 'riskDifference',\n",
       " 'torch',\n",
       " 'weighted_average_weights',\n",
       " 'weighted_loss',\n",
       " 'zafar_loss']"
      ]
     },
     "execution_count": 2,
     "metadata": {},
     "output_type": "execute_result"
    }
   ],
   "source": [
    "dir(utils)"
   ]
  },
  {
   "cell_type": "code",
   "execution_count": null,
   "metadata": {},
   "outputs": [],
   "source": []
  }
 ],
 "metadata": {
  "kernelspec": {
   "display_name": "Python 3",
   "language": "python",
   "name": "python3"
  },
  "language_info": {
   "codemirror_mode": {
    "name": "ipython",
    "version": 3
   },
   "file_extension": ".py",
   "mimetype": "text/x-python",
   "name": "python",
   "nbconvert_exporter": "python",
   "pygments_lexer": "ipython3",
   "version": "3.7.4"
  }
 },
 "nbformat": 4,
 "nbformat_minor": 2
}
