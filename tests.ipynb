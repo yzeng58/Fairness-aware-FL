{
 "cells": [
  {
   "cell_type": "code",
   "execution_count": 1,
   "metadata": {},
   "outputs": [],
   "source": [
    "from Server import *"
   ]
  },
  {
   "cell_type": "code",
   "execution_count": 2,
   "metadata": {},
   "outputs": [],
   "source": [
    "synthetic_info = dataGenerate(seed = 615, test_samples = 100)"
   ]
  },
  {
   "cell_type": "code",
   "execution_count": 3,
   "metadata": {},
   "outputs": [
    {
     "name": "stderr",
     "output_type": "stream",
     "text": [
      "\r",
      "  0%|          | 0/10 [00:00<?, ?it/s]"
     ]
    },
    {
     "name": "stdout",
     "output_type": "stream",
     "text": [
      "\n",
      " | Global Training Round : 1 |\n",
      "\n"
     ]
    },
    {
     "name": "stderr",
     "output_type": "stream",
     "text": [
      "\r",
      " 10%|█         | 1/10 [00:02<00:21,  2.36s/it]"
     ]
    },
    {
     "name": "stdout",
     "output_type": "stream",
     "text": [
      "Client 1: accuracy loss: 3.48 | fairness loss 0.00 | Risk Difference = 0.48\n",
      "Client 2: accuracy loss: 2.14 | fairness loss 0.00 | Risk Difference = 0.70\n",
      "Client 3: accuracy loss: 2.56 | fairness loss 0.00 | Risk Difference = 0.62\n",
      " \n",
      "Avg Training Stats after 1 global rounds:\n",
      "Training loss: 45.06 | Training accuracy: 87.16% | Training Risk Difference: 0.6372\n",
      "\n",
      " | Global Training Round : 2 |\n",
      "\n"
     ]
    },
    {
     "name": "stderr",
     "output_type": "stream",
     "text": [
      "\r",
      " 20%|██        | 2/10 [00:04<00:18,  2.27s/it]"
     ]
    },
    {
     "name": "stdout",
     "output_type": "stream",
     "text": [
      "Client 1: accuracy loss: 3.96 | fairness loss 0.00 | Risk Difference = 0.31\n",
      "Client 2: accuracy loss: 3.14 | fairness loss 0.00 | Risk Difference = 0.56\n",
      "Client 3: accuracy loss: 3.30 | fairness loss 0.00 | Risk Difference = 0.30\n",
      " \n",
      "Avg Training Stats after 2 global rounds:\n",
      "Training loss: 46.37 | Training accuracy: 81.59% | Training Risk Difference: 0.4249\n",
      "\n",
      " | Global Training Round : 3 |\n",
      "\n"
     ]
    },
    {
     "name": "stderr",
     "output_type": "stream",
     "text": [
      "\r",
      " 30%|███       | 3/10 [00:06<00:15,  2.23s/it]"
     ]
    },
    {
     "name": "stdout",
     "output_type": "stream",
     "text": [
      "Client 1: accuracy loss: 4.09 | fairness loss 0.00 | Risk Difference = 0.22\n",
      "Client 2: accuracy loss: 3.69 | fairness loss 0.00 | Risk Difference = 0.41\n",
      "Client 3: accuracy loss: 3.70 | fairness loss 0.00 | Risk Difference = 0.18\n",
      " \n",
      "Avg Training Stats after 3 global rounds:\n",
      "Training loss: 45.84 | Training accuracy: 80.22% | Training Risk Difference: 0.2983\n",
      "\n",
      " | Global Training Round : 4 |\n",
      "\n"
     ]
    },
    {
     "name": "stderr",
     "output_type": "stream",
     "text": [
      "\r",
      " 40%|████      | 4/10 [00:08<00:13,  2.19s/it]"
     ]
    },
    {
     "name": "stdout",
     "output_type": "stream",
     "text": [
      "Client 1: accuracy loss: 4.29 | fairness loss 0.00 | Risk Difference = 0.18\n",
      "Client 2: accuracy loss: 4.31 | fairness loss 0.00 | Risk Difference = 0.26\n",
      "Client 3: accuracy loss: 4.29 | fairness loss 0.00 | Risk Difference = 0.02\n",
      " \n",
      "Avg Training Stats after 4 global rounds:\n",
      "Training loss: 45.10 | Training accuracy: 75.12% | Training Risk Difference: 0.1717\n",
      "\n",
      " | Global Training Round : 5 |\n",
      "\n"
     ]
    },
    {
     "name": "stderr",
     "output_type": "stream",
     "text": [
      "\r",
      " 50%|█████     | 5/10 [00:10<00:10,  2.17s/it]"
     ]
    },
    {
     "name": "stdout",
     "output_type": "stream",
     "text": [
      "Client 1: accuracy loss: 4.48 | fairness loss 0.00 | Risk Difference = 0.13\n",
      "Client 2: accuracy loss: 4.90 | fairness loss 0.00 | Risk Difference = 0.20\n",
      "Client 3: accuracy loss: 4.90 | fairness loss 0.00 | Risk Difference = 0.05\n",
      " \n",
      "Avg Training Stats after 5 global rounds:\n",
      "Training loss: 44.45 | Training accuracy: 72.27% | Training Risk Difference: 0.1096\n",
      "\n",
      " | Global Training Round : 6 |\n",
      "\n"
     ]
    },
    {
     "name": "stderr",
     "output_type": "stream",
     "text": [
      "\r",
      " 60%|██████    | 6/10 [00:12<00:08,  2.14s/it]"
     ]
    },
    {
     "name": "stdout",
     "output_type": "stream",
     "text": [
      "Client 1: accuracy loss: 4.66 | fairness loss 0.00 | Risk Difference = 0.09\n",
      "Client 2: accuracy loss: 5.44 | fairness loss 0.00 | Risk Difference = 0.13\n",
      "Client 3: accuracy loss: 5.47 | fairness loss 0.00 | Risk Difference = 0.07\n",
      " \n",
      "Avg Training Stats after 6 global rounds:\n",
      "Training loss: 43.93 | Training accuracy: 70.60% | Training Risk Difference: 0.0693\n",
      "\n",
      " | Global Training Round : 7 |\n",
      "\n"
     ]
    },
    {
     "name": "stderr",
     "output_type": "stream",
     "text": [
      "\r",
      " 70%|███████   | 7/10 [00:14<00:06,  2.12s/it]"
     ]
    },
    {
     "name": "stdout",
     "output_type": "stream",
     "text": [
      "Client 1: accuracy loss: 4.83 | fairness loss 0.00 | Risk Difference = 0.05\n",
      "Client 2: accuracy loss: 5.92 | fairness loss 0.00 | Risk Difference = 0.06\n",
      "Client 3: accuracy loss: 5.99 | fairness loss 0.00 | Risk Difference = 0.11\n",
      " \n",
      "Avg Training Stats after 7 global rounds:\n",
      "Training loss: 43.51 | Training accuracy: 68.54% | Training Risk Difference: 0.0209\n",
      "\n",
      " | Global Training Round : 8 |\n",
      "\n"
     ]
    },
    {
     "name": "stderr",
     "output_type": "stream",
     "text": [
      "\r",
      " 80%|████████  | 8/10 [00:17<00:04,  2.11s/it]"
     ]
    },
    {
     "name": "stdout",
     "output_type": "stream",
     "text": [
      "Client 1: accuracy loss: 4.98 | fairness loss 0.00 | Risk Difference = 0.05\n",
      "Client 2: accuracy loss: 6.35 | fairness loss 0.00 | Risk Difference = 0.06\n",
      "Client 3: accuracy loss: 6.46 | fairness loss 0.00 | Risk Difference = 0.12\n",
      " \n",
      "Avg Training Stats after 8 global rounds:\n",
      "Training loss: 43.17 | Training accuracy: 68.14% | Training Risk Difference: 0.0129\n",
      "\n",
      " | Global Training Round : 9 |\n",
      "\n"
     ]
    },
    {
     "name": "stderr",
     "output_type": "stream",
     "text": [
      "\r",
      " 90%|█████████ | 9/10 [00:19<00:02,  2.16s/it]"
     ]
    },
    {
     "name": "stdout",
     "output_type": "stream",
     "text": [
      "Client 1: accuracy loss: 5.15 | fairness loss 0.00 | Risk Difference = 0.04\n",
      "Client 2: accuracy loss: 6.80 | fairness loss 0.00 | Risk Difference = 0.04\n",
      "Client 3: accuracy loss: 6.95 | fairness loss 0.00 | Risk Difference = 0.18\n",
      " \n",
      "Avg Training Stats after 9 global rounds:\n",
      "Training loss: 42.88 | Training accuracy: 66.05% | Training Risk Difference: 0.0355\n",
      "\n",
      " | Global Training Round : 10 |\n",
      "\n"
     ]
    },
    {
     "name": "stderr",
     "output_type": "stream",
     "text": [
      "100%|██████████| 10/10 [00:21<00:00,  2.16s/it]"
     ]
    },
    {
     "name": "stdout",
     "output_type": "stream",
     "text": [
      "Client 1: accuracy loss: 5.29 | fairness loss 0.00 | Risk Difference = 0.08\n",
      "Client 2: accuracy loss: 7.20 | fairness loss 0.00 | Risk Difference = 0.02\n",
      "Client 3: accuracy loss: 7.39 | fairness loss 0.00 | Risk Difference = 0.25\n",
      " \n",
      "Avg Training Stats after 10 global rounds:\n",
      "Training loss: 42.64 | Training accuracy: 63.85% | Training Risk Difference: 0.0839\n",
      " \n",
      " Results after 10 global rounds of training:\n",
      "|---- Avg Train Accuracy: 63.85%\n",
      "|---- Test Accuracy: 84.00%\n",
      "|---- Test Risk Difference: 0.0686\n",
      "\n",
      " Total Run Time: 21.6409 sec\n"
     ]
    },
    {
     "name": "stderr",
     "output_type": "stream",
     "text": [
      "\n"
     ]
    }
   ],
   "source": [
    "server = Server(logReg(num_features=3, num_classes=2), synthetic_info, train_prn = False)\n",
    "server.FairBatch(num_rounds = 10, local_epochs = 30)"
   ]
  },
  {
   "cell_type": "code",
   "execution_count": 4,
   "metadata": {},
   "outputs": [
    {
     "name": "stderr",
     "output_type": "stream",
     "text": [
      "\r",
      "  0%|          | 0/10 [00:00<?, ?it/s]"
     ]
    },
    {
     "name": "stdout",
     "output_type": "stream",
     "text": [
      "\n",
      " | Global Training Round : 1 |\n",
      "\n"
     ]
    },
    {
     "name": "stderr",
     "output_type": "stream",
     "text": [
      "\r",
      " 10%|█         | 1/10 [00:02<00:19,  2.22s/it]"
     ]
    },
    {
     "name": "stdout",
     "output_type": "stream",
     "text": [
      "Client 1: accuracy loss: 5.03 | fairness loss 81.65 | Risk Difference = 0.46\n",
      "Client 2: accuracy loss: 5.03 | fairness loss 81.65 | Risk Difference = 0.46\n",
      "Client 3: accuracy loss: 5.03 | fairness loss 81.65 | Risk Difference = 0.46\n",
      " \n",
      "Avg Training Stats after 1 global rounds:\n",
      "Training loss: 253.96 | Validation accuracy: 71.43% | Validation Risk Difference: 0.4643\n",
      "\n",
      " | Global Training Round : 2 |\n",
      "\n"
     ]
    },
    {
     "name": "stderr",
     "output_type": "stream",
     "text": [
      "\r",
      " 20%|██        | 2/10 [00:04<00:17,  2.20s/it]"
     ]
    },
    {
     "name": "stdout",
     "output_type": "stream",
     "text": [
      "Client 1: accuracy loss: 4.91 | fairness loss 9.55 | Risk Difference = 0.18\n",
      "Client 2: accuracy loss: 4.91 | fairness loss 9.55 | Risk Difference = 0.18\n",
      "Client 3: accuracy loss: 4.91 | fairness loss 9.55 | Risk Difference = 0.18\n",
      " \n",
      "Avg Training Stats after 2 global rounds:\n",
      "Training loss: 181.09 | Validation accuracy: 59.52% | Validation Risk Difference: 0.1786\n",
      "\n",
      " | Global Training Round : 3 |\n",
      "\n"
     ]
    },
    {
     "name": "stderr",
     "output_type": "stream",
     "text": [
      "\r",
      " 30%|███       | 3/10 [00:06<00:15,  2.21s/it]"
     ]
    },
    {
     "name": "stdout",
     "output_type": "stream",
     "text": [
      "Client 1: accuracy loss: 5.62 | fairness loss 3.52 | Risk Difference = 0.04\n",
      "Client 2: accuracy loss: 5.62 | fairness loss 3.52 | Risk Difference = 0.04\n",
      "Client 3: accuracy loss: 5.62 | fairness loss 3.52 | Risk Difference = 0.04\n",
      " \n",
      "Avg Training Stats after 3 global rounds:\n",
      "Training loss: 145.62 | Validation accuracy: 72.41% | Validation Risk Difference: 0.0435\n",
      "\n",
      " | Global Training Round : 4 |\n",
      "\n"
     ]
    },
    {
     "name": "stderr",
     "output_type": "stream",
     "text": [
      "\r",
      " 40%|████      | 4/10 [00:09<00:13,  2.28s/it]"
     ]
    },
    {
     "name": "stdout",
     "output_type": "stream",
     "text": [
      "Client 1: accuracy loss: 4.69 | fairness loss 4.28 | Risk Difference = 0.29\n",
      "Client 2: accuracy loss: 4.69 | fairness loss 4.28 | Risk Difference = 0.29\n",
      "Client 3: accuracy loss: 4.69 | fairness loss 4.28 | Risk Difference = 0.29\n",
      " \n",
      "Avg Training Stats after 4 global rounds:\n",
      "Training loss: 127.46 | Validation accuracy: 67.86% | Validation Risk Difference: 0.2857\n",
      "\n",
      " | Global Training Round : 5 |\n",
      "\n"
     ]
    },
    {
     "name": "stderr",
     "output_type": "stream",
     "text": [
      "\r",
      " 50%|█████     | 5/10 [00:11<00:11,  2.26s/it]"
     ]
    },
    {
     "name": "stdout",
     "output_type": "stream",
     "text": [
      "Client 1: accuracy loss: 4.65 | fairness loss 4.23 | Risk Difference = 0.48\n",
      "Client 2: accuracy loss: 4.65 | fairness loss 4.23 | Risk Difference = 0.48\n",
      "Client 3: accuracy loss: 4.65 | fairness loss 4.23 | Risk Difference = 0.48\n",
      " \n",
      "Avg Training Stats after 5 global rounds:\n",
      "Training loss: 116.49 | Validation accuracy: 80.95% | Validation Risk Difference: 0.4821\n",
      "\n",
      " | Global Training Round : 6 |\n",
      "\n"
     ]
    },
    {
     "name": "stderr",
     "output_type": "stream",
     "text": [
      "\r",
      " 60%|██████    | 6/10 [00:13<00:09,  2.26s/it]"
     ]
    },
    {
     "name": "stdout",
     "output_type": "stream",
     "text": [
      "Client 1: accuracy loss: 5.58 | fairness loss 3.99 | Risk Difference = 0.18\n",
      "Client 2: accuracy loss: 5.58 | fairness loss 3.99 | Risk Difference = 0.18\n",
      "Client 3: accuracy loss: 5.58 | fairness loss 3.99 | Risk Difference = 0.18\n",
      " \n",
      "Avg Training Stats after 6 global rounds:\n",
      "Training loss: 109.21 | Validation accuracy: 60.78% | Validation Risk Difference: 0.1778\n",
      "\n",
      " | Global Training Round : 7 |\n",
      "\n"
     ]
    },
    {
     "name": "stderr",
     "output_type": "stream",
     "text": [
      "\r",
      " 70%|███████   | 7/10 [00:15<00:06,  2.26s/it]"
     ]
    },
    {
     "name": "stdout",
     "output_type": "stream",
     "text": [
      "Client 1: accuracy loss: 5.65 | fairness loss 3.89 | Risk Difference = 0.07\n",
      "Client 2: accuracy loss: 5.65 | fairness loss 3.89 | Risk Difference = 0.07\n",
      "Client 3: accuracy loss: 5.65 | fairness loss 3.89 | Risk Difference = 0.07\n",
      " \n",
      "Avg Training Stats after 7 global rounds:\n",
      "Training loss: 103.97 | Validation accuracy: 55.88% | Validation Risk Difference: 0.0667\n",
      "\n",
      " | Global Training Round : 8 |\n",
      "\n"
     ]
    },
    {
     "name": "stderr",
     "output_type": "stream",
     "text": [
      "\r",
      " 80%|████████  | 8/10 [00:18<00:04,  2.30s/it]"
     ]
    },
    {
     "name": "stdout",
     "output_type": "stream",
     "text": [
      "Client 1: accuracy loss: 5.68 | fairness loss 3.87 | Risk Difference = 0.07\n",
      "Client 2: accuracy loss: 5.68 | fairness loss 3.87 | Risk Difference = 0.07\n",
      "Client 3: accuracy loss: 5.68 | fairness loss 3.87 | Risk Difference = 0.07\n",
      " \n",
      "Avg Training Stats after 8 global rounds:\n",
      "Training loss: 100.06 | Validation accuracy: 55.88% | Validation Risk Difference: 0.0667\n",
      "\n",
      " | Global Training Round : 9 |\n",
      "\n"
     ]
    },
    {
     "name": "stderr",
     "output_type": "stream",
     "text": [
      "\r",
      " 90%|█████████ | 9/10 [00:20<00:02,  2.32s/it]"
     ]
    },
    {
     "name": "stdout",
     "output_type": "stream",
     "text": [
      "Client 1: accuracy loss: 5.70 | fairness loss 3.87 | Risk Difference = 0.07\n",
      "Client 2: accuracy loss: 5.70 | fairness loss 3.87 | Risk Difference = 0.07\n",
      "Client 3: accuracy loss: 5.70 | fairness loss 3.87 | Risk Difference = 0.07\n",
      " \n",
      "Avg Training Stats after 9 global rounds:\n",
      "Training loss: 97.04 | Validation accuracy: 55.88% | Validation Risk Difference: 0.0667\n",
      "\n",
      " | Global Training Round : 10 |\n",
      "\n"
     ]
    },
    {
     "name": "stderr",
     "output_type": "stream",
     "text": [
      "100%|██████████| 10/10 [00:22<00:00,  2.29s/it]"
     ]
    },
    {
     "name": "stdout",
     "output_type": "stream",
     "text": [
      "Client 1: accuracy loss: 4.99 | fairness loss 3.83 | Risk Difference = 0.04\n",
      "Client 2: accuracy loss: 4.99 | fairness loss 3.83 | Risk Difference = 0.04\n",
      "Client 3: accuracy loss: 4.99 | fairness loss 3.83 | Risk Difference = 0.04\n",
      " \n",
      "Avg Training Stats after 10 global rounds:\n",
      "Training loss: 94.62 | Validation accuracy: 50.00% | Validation Risk Difference: 0.0357\n",
      " \n",
      " Results after 10 global rounds of training:\n",
      "|---- Avg Train Accuracy: 50.00%\n",
      "|---- Test Accuracy: 75.00%\n",
      "|---- Test Risk Difference: 0.0731\n",
      "\n",
      " Total Run Time: 22.9221 sec\n"
     ]
    },
    {
     "name": "stderr",
     "output_type": "stream",
     "text": [
      "\n"
     ]
    }
   ],
   "source": [
    "server = Server(logReg(num_features=3, num_classes=2), synthetic_info, train_prn = False)\n",
    "server.Zafar(num_rounds = 10, local_epochs = 30)"
   ]
  },
  {
   "cell_type": "code",
   "execution_count": 10,
   "metadata": {
    "scrolled": true
   },
   "outputs": [
    {
     "name": "stderr",
     "output_type": "stream",
     "text": [
      "\n",
      "  0%|          | 0/2 [00:00<?, ?it/s]\u001b[A"
     ]
    },
    {
     "name": "stdout",
     "output_type": "stream",
     "text": [
      "\n",
      " | Global Training Round : 1 |\n",
      "\n"
     ]
    },
    {
     "name": "stderr",
     "output_type": "stream",
     "text": [
      "\n",
      " 50%|█████     | 1/2 [00:00<00:00,  2.31it/s]\u001b[A"
     ]
    },
    {
     "name": "stdout",
     "output_type": "stream",
     "text": [
      "Client 1: accuracy loss: 4.58 | fairness loss 0.00 | Risk Difference = 0.66\n",
      "Client 2: accuracy loss: 4.58 | fairness loss 0.00 | Risk Difference = 0.66\n",
      "Client 3: accuracy loss: 4.58 | fairness loss 0.00 | Risk Difference = 0.66\n",
      " \n",
      "Avg Training Stats after 1 global rounds:\n",
      "Training loss: 94.87 | Validation accuracy: 72.62% | Validation Risk Difference: 0.6607\n",
      "\n",
      " | Global Training Round : 2 |\n",
      "\n"
     ]
    },
    {
     "name": "stderr",
     "output_type": "stream",
     "text": [
      "\n",
      "100%|██████████| 2/2 [00:00<00:00,  2.28it/s]\u001b[A\n",
      "\n",
      "  0%|          | 0/10 [00:00<?, ?it/s]\u001b[A"
     ]
    },
    {
     "name": "stdout",
     "output_type": "stream",
     "text": [
      "Client 1: accuracy loss: 3.21 | fairness loss 0.00 | Risk Difference = 0.71\n",
      "Client 2: accuracy loss: 3.21 | fairness loss 0.00 | Risk Difference = 0.71\n",
      "Client 3: accuracy loss: 3.21 | fairness loss 0.00 | Risk Difference = 0.71\n",
      " \n",
      "Avg Training Stats after 2 global rounds:\n",
      "Training loss: 79.73 | Validation accuracy: 82.14% | Validation Risk Difference: 0.7143\n",
      " \n",
      " Results after 2 global rounds of training:\n",
      "|---- Avg Train Accuracy: 82.14%\n",
      "|---- Test Accuracy: 87.00%\n",
      "|---- Test Risk Difference: 0.6453\n",
      "\n",
      " Total Run Time: 0.8904 sec\n"
     ]
    },
    {
     "name": "stderr",
     "output_type": "stream",
     "text": [
      "\n",
      " 10%|█         | 1/10 [00:02<00:20,  2.32s/it]\u001b[A"
     ]
    },
    {
     "name": "stdout",
     "output_type": "stream",
     "text": [
      " \n",
      "Avg Training Stats after 1 threshold adjusting global rounds:\n",
      "Training loss: 24.97 | Validation accuracy: 75.97% | Validation Risk Difference: 0.4571\n"
     ]
    },
    {
     "name": "stderr",
     "output_type": "stream",
     "text": [
      "\n",
      " 20%|██        | 2/10 [00:04<00:18,  2.30s/it]\u001b[A"
     ]
    },
    {
     "name": "stdout",
     "output_type": "stream",
     "text": [
      " \n",
      "Avg Training Stats after 2 threshold adjusting global rounds:\n",
      "Training loss: 27.91 | Validation accuracy: 72.09% | Validation Risk Difference: 0.3818\n"
     ]
    },
    {
     "name": "stderr",
     "output_type": "stream",
     "text": [
      "\n",
      " 30%|███       | 3/10 [00:06<00:15,  2.26s/it]\u001b[A"
     ]
    },
    {
     "name": "stdout",
     "output_type": "stream",
     "text": [
      " \n",
      "Avg Training Stats after 3 threshold adjusting global rounds:\n",
      "Training loss: 30.99 | Validation accuracy: 67.92% | Validation Risk Difference: 0.2689\n"
     ]
    },
    {
     "name": "stderr",
     "output_type": "stream",
     "text": [
      "\n",
      " 40%|████      | 4/10 [00:08<00:13,  2.25s/it]\u001b[A"
     ]
    },
    {
     "name": "stdout",
     "output_type": "stream",
     "text": [
      " \n",
      "Avg Training Stats after 4 threshold adjusting global rounds:\n",
      "Training loss: 34.24 | Validation accuracy: 63.19% | Validation Risk Difference: 0.1614\n"
     ]
    },
    {
     "name": "stderr",
     "output_type": "stream",
     "text": [
      "\n",
      " 50%|█████     | 5/10 [00:11<00:11,  2.24s/it]\u001b[A"
     ]
    },
    {
     "name": "stdout",
     "output_type": "stream",
     "text": [
      " \n",
      "Avg Training Stats after 5 threshold adjusting global rounds:\n",
      "Training loss: 37.63 | Validation accuracy: 59.71% | Validation Risk Difference: 0.0646\n"
     ]
    },
    {
     "name": "stderr",
     "output_type": "stream",
     "text": [
      "\n",
      " 60%|██████    | 6/10 [00:13<00:08,  2.24s/it]\u001b[A"
     ]
    },
    {
     "name": "stdout",
     "output_type": "stream",
     "text": [
      " \n",
      "Avg Training Stats after 6 threshold adjusting global rounds:\n",
      "Training loss: 41.15 | Validation accuracy: 56.85% | Validation Risk Difference: 0.0160\n",
      " \n",
      " Results after 10 global rounds of training:\n",
      "|---- Test Accuracy: 54.00%\n",
      "|---- Test Risk Difference: 0.0241\n",
      "\n",
      " Total Run Time: 13.4557 sec\n"
     ]
    }
   ],
   "source": [
    "server = Server(logReg(num_features=3, num_classes=2), synthetic_info, train_prn = False)\n",
    "server.Unconstrained(num_rounds = 2, local_epochs = 5)\n",
    "server.ThresholdAdjust(epsilon = 0.02, learning_rate = 0.6)"
   ]
  },
  {
   "cell_type": "code",
   "execution_count": 9,
   "metadata": {
    "scrolled": true
   },
   "outputs": [
    {
     "name": "stderr",
     "output_type": "stream",
     "text": [
      "\r",
      "  0%|          | 0/2 [00:00<?, ?it/s]"
     ]
    },
    {
     "name": "stdout",
     "output_type": "stream",
     "text": [
      "\n",
      " | Global Training Round : 1 |\n",
      "\n"
     ]
    },
    {
     "name": "stderr",
     "output_type": "stream",
     "text": [
      "\r",
      " 50%|█████     | 1/2 [00:00<00:00,  2.38it/s]"
     ]
    },
    {
     "name": "stdout",
     "output_type": "stream",
     "text": [
      "Client 1: accuracy loss: 4.58 | fairness loss 0.00 | Risk Difference = 0.66\n",
      "Client 2: accuracy loss: 4.58 | fairness loss 0.00 | Risk Difference = 0.66\n",
      "Client 3: accuracy loss: 4.58 | fairness loss 0.00 | Risk Difference = 0.66\n",
      " \n",
      "Avg Training Stats after 1 global rounds:\n",
      "Training loss: 94.87 | Validation accuracy: 72.62% | Validation Risk Difference: 0.6607\n",
      "\n",
      " | Global Training Round : 2 |\n",
      "\n"
     ]
    },
    {
     "name": "stderr",
     "output_type": "stream",
     "text": [
      "100%|██████████| 2/2 [00:00<00:00,  2.31it/s]\n",
      "  0%|          | 0/10 [00:00<?, ?it/s]"
     ]
    },
    {
     "name": "stdout",
     "output_type": "stream",
     "text": [
      "Client 1: accuracy loss: 3.21 | fairness loss 0.00 | Risk Difference = 0.71\n",
      "Client 2: accuracy loss: 3.21 | fairness loss 0.00 | Risk Difference = 0.71\n",
      "Client 3: accuracy loss: 3.21 | fairness loss 0.00 | Risk Difference = 0.71\n",
      " \n",
      "Avg Training Stats after 2 global rounds:\n",
      "Training loss: 79.73 | Validation accuracy: 82.14% | Validation Risk Difference: 0.7143\n",
      " \n",
      " Results after 2 global rounds of training:\n",
      "|---- Avg Train Accuracy: 82.14%\n",
      "|---- Test Accuracy: 87.00%\n",
      "|---- Test Risk Difference: 0.6453\n",
      "\n",
      " Total Run Time: 0.8994 sec\n"
     ]
    },
    {
     "name": "stderr",
     "output_type": "stream",
     "text": [
      "\r",
      " 10%|█         | 1/10 [00:02<00:20,  2.23s/it]"
     ]
    },
    {
     "name": "stdout",
     "output_type": "stream",
     "text": [
      " \n",
      "Avg Training Stats after 1 threshold adjusting global rounds:\n",
      "Training loss: 24.97 | Validation accuracy: 75.97% | Validation Risk Difference: 0.4571\n"
     ]
    },
    {
     "name": "stderr",
     "output_type": "stream",
     "text": [
      "\r",
      " 20%|██        | 2/10 [00:04<00:17,  2.24s/it]"
     ]
    },
    {
     "name": "stdout",
     "output_type": "stream",
     "text": [
      " \n",
      "Avg Training Stats after 2 threshold adjusting global rounds:\n",
      "Training loss: 27.91 | Validation accuracy: 72.09% | Validation Risk Difference: 0.3818\n"
     ]
    },
    {
     "name": "stderr",
     "output_type": "stream",
     "text": [
      "\r",
      " 30%|███       | 3/10 [00:06<00:15,  2.19s/it]"
     ]
    },
    {
     "name": "stdout",
     "output_type": "stream",
     "text": [
      " \n",
      "Avg Training Stats after 3 threshold adjusting global rounds:\n",
      "Training loss: 30.99 | Validation accuracy: 67.92% | Validation Risk Difference: 0.2689\n"
     ]
    },
    {
     "name": "stderr",
     "output_type": "stream",
     "text": [
      "\r",
      " 40%|████      | 4/10 [00:08<00:13,  2.20s/it]"
     ]
    },
    {
     "name": "stdout",
     "output_type": "stream",
     "text": [
      " \n",
      "Avg Training Stats after 4 threshold adjusting global rounds:\n",
      "Training loss: 34.24 | Validation accuracy: 63.19% | Validation Risk Difference: 0.1614\n"
     ]
    },
    {
     "name": "stderr",
     "output_type": "stream",
     "text": [
      "\r",
      " 50%|█████     | 5/10 [00:10<00:10,  2.19s/it]"
     ]
    },
    {
     "name": "stdout",
     "output_type": "stream",
     "text": [
      " \n",
      "Avg Training Stats after 5 threshold adjusting global rounds:\n",
      "Training loss: 37.63 | Validation accuracy: 59.71% | Validation Risk Difference: 0.0646\n"
     ]
    },
    {
     "name": "stderr",
     "output_type": "stream",
     "text": [
      "\r",
      " 60%|██████    | 6/10 [00:13<00:08,  2.20s/it]"
     ]
    },
    {
     "name": "stdout",
     "output_type": "stream",
     "text": [
      " \n",
      "Avg Training Stats after 6 threshold adjusting global rounds:\n",
      "Training loss: 41.15 | Validation accuracy: 56.85% | Validation Risk Difference: 0.0160\n",
      " \n",
      " Results after 10 global rounds of training:\n",
      "|---- Test Accuracy: 54.00%\n",
      "|---- Test Risk Difference: 0.0241\n",
      "\n",
      " Total Run Time: 13.1729 sec\n"
     ]
    }
   ],
   "source": [
    "server = Server(logReg(num_features=3, num_classes=2), synthetic_info, train_prn = False)\n",
    "server.Unconstrained(num_rounds = 2, local_epochs = 5)\n",
    "server.ThresholdAdjust(epsilon = 0.02, learning_rate = 0.6)"
   ]
  },
  {
   "cell_type": "code",
   "execution_count": 11,
   "metadata": {},
   "outputs": [
    {
     "name": "stderr",
     "output_type": "stream",
     "text": [
      "\n",
      "\n",
      "  0%|          | 0/2 [00:00<?, ?it/s]\u001b[A\u001b[A"
     ]
    },
    {
     "name": "stdout",
     "output_type": "stream",
     "text": [
      "\n",
      " | Global Training Round : 1 |\n",
      "\n"
     ]
    },
    {
     "name": "stderr",
     "output_type": "stream",
     "text": [
      "\n",
      "\n",
      " 50%|█████     | 1/2 [00:00<00:00,  2.47it/s]\u001b[A\u001b[A"
     ]
    },
    {
     "name": "stdout",
     "output_type": "stream",
     "text": [
      "Client 1: accuracy loss: 4.58 | fairness loss 0.00 | Risk Difference = 0.66\n",
      "Client 2: accuracy loss: 4.58 | fairness loss 0.00 | Risk Difference = 0.66\n",
      "Client 3: accuracy loss: 4.58 | fairness loss 0.00 | Risk Difference = 0.66\n",
      " \n",
      "Avg Training Stats after 1 global rounds:\n",
      "Training loss: 94.87 | Validation accuracy: 72.62% | Validation Risk Difference: 0.6607\n",
      "\n",
      " | Global Training Round : 2 |\n",
      "\n"
     ]
    },
    {
     "name": "stderr",
     "output_type": "stream",
     "text": [
      "\n",
      "\n",
      "100%|██████████| 2/2 [00:00<00:00,  2.49it/s]\u001b[A\u001b[A\n",
      "\n",
      "\n",
      "  0%|          | 0/10 [00:00<?, ?it/s]\u001b[A\u001b[A"
     ]
    },
    {
     "name": "stdout",
     "output_type": "stream",
     "text": [
      "Client 1: accuracy loss: 3.21 | fairness loss 0.00 | Risk Difference = 0.71\n",
      "Client 2: accuracy loss: 3.21 | fairness loss 0.00 | Risk Difference = 0.71\n",
      "Client 3: accuracy loss: 3.21 | fairness loss 0.00 | Risk Difference = 0.71\n",
      " \n",
      "Avg Training Stats after 2 global rounds:\n",
      "Training loss: 79.73 | Validation accuracy: 82.14% | Validation Risk Difference: 0.7143\n",
      " \n",
      " Results after 2 global rounds of training:\n",
      "|---- Avg Train Accuracy: 82.14%\n",
      "|---- Test Accuracy: 87.00%\n",
      "|---- Test Risk Difference: 0.6453\n",
      "\n",
      " Total Run Time: 0.8162 sec\n"
     ]
    },
    {
     "name": "stderr",
     "output_type": "stream",
     "text": [
      "\n",
      "\n",
      " 10%|█         | 1/10 [00:02<00:20,  2.29s/it]\u001b[A\u001b[A"
     ]
    },
    {
     "name": "stdout",
     "output_type": "stream",
     "text": [
      " \n",
      "Avg Training Stats after 1 threshold adjusting global rounds:\n",
      "Training loss: 24.97 | Validation accuracy: 75.97% | Validation Risk Difference: 0.4571\n"
     ]
    },
    {
     "name": "stderr",
     "output_type": "stream",
     "text": [
      "\n",
      "\n",
      " 20%|██        | 2/10 [00:04<00:17,  2.22s/it]\u001b[A\u001b[A"
     ]
    },
    {
     "name": "stdout",
     "output_type": "stream",
     "text": [
      " \n",
      "Avg Training Stats after 2 threshold adjusting global rounds:\n",
      "Training loss: 27.91 | Validation accuracy: 72.09% | Validation Risk Difference: 0.3818\n"
     ]
    },
    {
     "name": "stderr",
     "output_type": "stream",
     "text": [
      "\n",
      "\n",
      " 30%|███       | 3/10 [00:06<00:16,  2.34s/it]\u001b[A\u001b[A"
     ]
    },
    {
     "name": "stdout",
     "output_type": "stream",
     "text": [
      " \n",
      "Avg Training Stats after 3 threshold adjusting global rounds:\n",
      "Training loss: 30.99 | Validation accuracy: 67.92% | Validation Risk Difference: 0.2689\n"
     ]
    },
    {
     "name": "stderr",
     "output_type": "stream",
     "text": [
      "\n",
      "\n",
      " 40%|████      | 4/10 [00:09<00:14,  2.38s/it]\u001b[A\u001b[A"
     ]
    },
    {
     "name": "stdout",
     "output_type": "stream",
     "text": [
      " \n",
      "Avg Training Stats after 4 threshold adjusting global rounds:\n",
      "Training loss: 34.24 | Validation accuracy: 63.19% | Validation Risk Difference: 0.1614\n"
     ]
    },
    {
     "name": "stderr",
     "output_type": "stream",
     "text": [
      "\n",
      "\n",
      " 50%|█████     | 5/10 [00:12<00:12,  2.44s/it]\u001b[A\u001b[A"
     ]
    },
    {
     "name": "stdout",
     "output_type": "stream",
     "text": [
      " \n",
      "Avg Training Stats after 5 threshold adjusting global rounds:\n",
      "Training loss: 37.63 | Validation accuracy: 59.71% | Validation Risk Difference: 0.0646\n"
     ]
    },
    {
     "name": "stderr",
     "output_type": "stream",
     "text": [
      "\n",
      "\n",
      " 60%|██████    | 6/10 [00:14<00:09,  2.46s/it]\u001b[A\u001b[A"
     ]
    },
    {
     "name": "stdout",
     "output_type": "stream",
     "text": [
      " \n",
      "Avg Training Stats after 6 threshold adjusting global rounds:\n",
      "Training loss: 41.15 | Validation accuracy: 56.85% | Validation Risk Difference: 0.0160\n",
      " \n",
      " Results after 10 global rounds of training:\n",
      "|---- Test Accuracy: 54.00%\n",
      "|---- Test Risk Difference: 0.0241\n",
      "\n",
      " Total Run Time: 14.5536 sec\n"
     ]
    }
   ],
   "source": [
    "server = Server(logReg(num_features=3, num_classes=2), synthetic_info, train_prn = False)\n",
    "server.Unconstrained(num_rounds = 2, local_epochs = 5)\n",
    "server.ThresholdAdjust(epsilon = 0.02, learning_rate = 0.6)"
   ]
  },
  {
   "cell_type": "code",
   "execution_count": null,
   "metadata": {},
   "outputs": [],
   "source": []
  }
 ],
 "metadata": {
  "kernelspec": {
   "display_name": "Python 3",
   "language": "python",
   "name": "python3"
  },
  "language_info": {
   "codemirror_mode": {
    "name": "ipython",
    "version": 3
   },
   "file_extension": ".py",
   "mimetype": "text/x-python",
   "name": "python",
   "nbconvert_exporter": "python",
   "pygments_lexer": "ipython3",
   "version": "3.7.4"
  }
 },
 "nbformat": 4,
 "nbformat_minor": 2
}
