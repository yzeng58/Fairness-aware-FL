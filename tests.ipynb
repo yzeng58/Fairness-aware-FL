{
 "cells": [
  {
   "cell_type": "code",
   "execution_count": 1,
   "metadata": {},
   "outputs": [],
   "source": [
    "from Server import *"
   ]
  },
  {
   "cell_type": "code",
   "execution_count": 2,
   "metadata": {
    "scrolled": true
   },
   "outputs": [],
   "source": []
  },
  {
   "cell_type": "code",
   "execution_count": 4,
   "metadata": {},
   "outputs": [
    {
     "name": "stderr",
     "output_type": "stream",
     "text": [
      "\r",
      "  0%|          | 0/10 [00:00<?, ?it/s]"
     ]
    },
    {
     "name": "stdout",
     "output_type": "stream",
     "text": [
      "\n",
      " | Global Training Round : 1 |\n",
      "\n"
     ]
    },
    {
     "name": "stderr",
     "output_type": "stream",
     "text": [
      "\r",
      " 10%|█         | 1/10 [00:02<00:22,  2.52s/it]"
     ]
    },
    {
     "name": "stdout",
     "output_type": "stream",
     "text": [
      "Client 1: predictor loss: 49.86 | adversary loss 0.33 | Demographic disparity = 0.53\n",
      "Client 2: predictor loss: 76.04 | adversary loss 0.64 | Demographic disparity = 0.37\n",
      "Client 3: predictor loss: 47.50 | adversary loss 0.95 | Demographic disparity = 0.40\n",
      " \n",
      "Avg Training Stats after 1 global rounds:\n",
      "Training loss: 2379.18 | Validation accuracy: 84.83% | Validation Demographic disparity: 0.3615\n",
      "\n",
      " | Global Training Round : 2 |\n",
      "\n"
     ]
    },
    {
     "name": "stderr",
     "output_type": "stream",
     "text": [
      "\r",
      " 20%|██        | 2/10 [00:04<00:19,  2.50s/it]"
     ]
    },
    {
     "name": "stdout",
     "output_type": "stream",
     "text": [
      "Client 1: predictor loss: 71.56 | adversary loss 0.15 | Demographic disparity = 0.53\n",
      "Client 2: predictor loss: 108.40 | adversary loss 0.20 | Demographic disparity = 0.38\n",
      "Client 3: predictor loss: 70.18 | adversary loss 0.23 | Demographic disparity = 0.38\n",
      " \n",
      "Avg Training Stats after 2 global rounds:\n",
      "Training loss: 1475.17 | Validation accuracy: 84.90% | Validation Demographic disparity: 0.3615\n",
      "\n",
      " | Global Training Round : 3 |\n",
      "\n"
     ]
    },
    {
     "name": "stderr",
     "output_type": "stream",
     "text": [
      "\r",
      " 30%|███       | 3/10 [00:07<00:18,  2.64s/it]"
     ]
    },
    {
     "name": "stdout",
     "output_type": "stream",
     "text": [
      "Client 1: predictor loss: 94.89 | adversary loss 0.08 | Demographic disparity = 0.58\n",
      "Client 2: predictor loss: 116.95 | adversary loss 0.11 | Demographic disparity = 0.38\n",
      "Client 3: predictor loss: 103.06 | adversary loss 0.11 | Demographic disparity = 0.45\n",
      " \n",
      "Avg Training Stats after 3 global rounds:\n",
      "Training loss: 1223.98 | Validation accuracy: 82.74% | Validation Demographic disparity: 0.3892\n",
      "\n",
      " | Global Training Round : 4 |\n",
      "\n"
     ]
    },
    {
     "name": "stderr",
     "output_type": "stream",
     "text": [
      "\r",
      " 40%|████      | 4/10 [00:10<00:15,  2.64s/it]"
     ]
    },
    {
     "name": "stdout",
     "output_type": "stream",
     "text": [
      "Client 1: predictor loss: 154.90 | adversary loss 0.03 | Demographic disparity = 0.55\n",
      "Client 2: predictor loss: 127.84 | adversary loss 0.06 | Demographic disparity = 0.42\n",
      "Client 3: predictor loss: 170.72 | adversary loss 0.07 | Demographic disparity = 0.45\n",
      " \n",
      "Avg Training Stats after 4 global rounds:\n",
      "Training loss: 1188.72 | Validation accuracy: 82.20% | Validation Demographic disparity: 0.3952\n",
      "\n",
      " | Global Training Round : 5 |\n",
      "\n"
     ]
    },
    {
     "name": "stderr",
     "output_type": "stream",
     "text": [
      "\r",
      " 50%|█████     | 5/10 [00:13<00:12,  2.60s/it]"
     ]
    },
    {
     "name": "stdout",
     "output_type": "stream",
     "text": [
      "Client 1: predictor loss: 168.81 | adversary loss 0.01 | Demographic disparity = 0.55\n",
      "Client 2: predictor loss: 135.23 | adversary loss 0.02 | Demographic disparity = 0.42\n",
      "Client 3: predictor loss: 183.57 | adversary loss 0.03 | Demographic disparity = 0.45\n",
      " \n",
      "Avg Training Stats after 5 global rounds:\n",
      "Training loss: 1227.40 | Validation accuracy: 82.20% | Validation Demographic disparity: 0.3952\n",
      "\n",
      " | Global Training Round : 6 |\n",
      "\n"
     ]
    },
    {
     "name": "stderr",
     "output_type": "stream",
     "text": [
      "\r",
      " 60%|██████    | 6/10 [00:15<00:10,  2.56s/it]"
     ]
    },
    {
     "name": "stdout",
     "output_type": "stream",
     "text": [
      "Client 1: predictor loss: 150.30 | adversary loss 0.01 | Demographic disparity = 0.54\n",
      "Client 2: predictor loss: 125.85 | adversary loss 0.02 | Demographic disparity = 0.38\n",
      "Client 3: predictor loss: 161.80 | adversary loss 0.02 | Demographic disparity = 0.45\n",
      " \n",
      "Avg Training Stats after 6 global rounds:\n",
      "Training loss: 1234.37 | Validation accuracy: 82.53% | Validation Demographic disparity: 0.3787\n",
      "\n",
      " | Global Training Round : 7 |\n",
      "\n"
     ]
    },
    {
     "name": "stderr",
     "output_type": "stream",
     "text": [
      "\r",
      " 70%|███████   | 7/10 [00:18<00:07,  2.60s/it]"
     ]
    },
    {
     "name": "stdout",
     "output_type": "stream",
     "text": [
      "Client 1: predictor loss: 137.97 | adversary loss 0.01 | Demographic disparity = 0.55\n",
      "Client 2: predictor loss: 114.98 | adversary loss 0.02 | Demographic disparity = 0.37\n",
      "Client 3: predictor loss: 147.34 | adversary loss 0.02 | Demographic disparity = 0.39\n",
      " \n",
      "Avg Training Stats after 7 global rounds:\n",
      "Training loss: 1221.95 | Validation accuracy: 80.72% | Validation Demographic disparity: 0.3628\n",
      "\n",
      " | Global Training Round : 8 |\n",
      "\n"
     ]
    },
    {
     "name": "stderr",
     "output_type": "stream",
     "text": [
      "\r",
      " 80%|████████  | 8/10 [00:21<00:05,  2.66s/it]"
     ]
    },
    {
     "name": "stdout",
     "output_type": "stream",
     "text": [
      "Client 1: predictor loss: 96.40 | adversary loss 0.02 | Demographic disparity = 0.46\n",
      "Client 2: predictor loss: 99.41 | adversary loss 0.02 | Demographic disparity = 0.31\n",
      "Client 3: predictor loss: 99.43 | adversary loss 0.02 | Demographic disparity = 0.34\n",
      " \n",
      "Avg Training Stats after 8 global rounds:\n",
      "Training loss: 1186.89 | Validation accuracy: 78.37% | Validation Demographic disparity: 0.3071\n",
      "\n",
      " | Global Training Round : 9 |\n",
      "\n"
     ]
    },
    {
     "name": "stderr",
     "output_type": "stream",
     "text": [
      "\r",
      " 90%|█████████ | 9/10 [00:23<00:02,  2.64s/it]"
     ]
    },
    {
     "name": "stdout",
     "output_type": "stream",
     "text": [
      "Client 1: predictor loss: 49.20 | adversary loss 0.02 | Demographic disparity = 0.31\n",
      "Client 2: predictor loss: 59.23 | adversary loss 0.03 | Demographic disparity = 0.20\n",
      "Client 3: predictor loss: 46.86 | adversary loss 0.03 | Demographic disparity = 0.23\n",
      " \n",
      "Avg Training Stats after 9 global rounds:\n",
      "Training loss: 1120.98 | Validation accuracy: 68.49% | Validation Demographic disparity: 0.2042\n",
      "\n",
      " | Global Training Round : 10 |\n",
      "\n",
      "Client 1: predictor loss: 23.08 | adversary loss 0.02 | Demographic disparity = 0.01\n",
      "Client 2: predictor loss: 28.28 | adversary loss 0.03 | Demographic disparity = 0.00\n",
      "Client 3: predictor loss: 23.72 | adversary loss 0.03 | Demographic disparity = 0.02\n",
      " \n",
      "Avg Training Stats after 10 global rounds:\n",
      "Training loss: 1038.50 | Validation accuracy: 45.19% | Validation Demographic disparity: 0.0066\n",
      " \n",
      " Results after 10 global rounds of training:\n",
      "|---- Avg Train Accuracy: 45.19%\n",
      "|---- Test Accuracy: 43.00%\n",
      "|---- Test Demographic disparity: 0.0300\n",
      "\n",
      " Total Run Time: 26.6030 sec\n"
     ]
    }
   ],
   "source": [
    "server = Server(logReg(num_features=3, num_classes=2), synthetic_info, train_prn = False, metric = \"Demographic disparity\", seed = 744)\n",
    "server.AdversarialLearning(num_rounds = 10, local_epochs = 30, optimizer = 'adam', epsilon = 0.01, learning_rate = 0.01, alpha = 0.01)"
   ]
  },
  {
   "cell_type": "code",
   "execution_count": 6,
   "metadata": {},
   "outputs": [
    {
     "name": "stdout",
     "output_type": "stream",
     "text": [
      "|  Simulation : 1 | \n",
      "      seed : 254 -----\n"
     ]
    },
    {
     "name": "stderr",
     "output_type": "stream",
     "text": [
      "\n",
      "  0%|          | 0/10 [00:00<?, ?it/s]\u001b[A\n",
      " 10%|█         | 1/10 [00:02<00:25,  2.80s/it]\u001b[A\n",
      " 20%|██        | 2/10 [00:06<00:25,  3.21s/it]\u001b[A\n",
      " 30%|███       | 3/10 [00:10<00:23,  3.32s/it]\u001b[A\n",
      " 40%|████      | 4/10 [00:14<00:20,  3.37s/it]\u001b[A\n",
      " 50%|█████     | 5/10 [00:17<00:17,  3.42s/it]\u001b[A\n",
      " 60%|██████    | 6/10 [00:20<00:13,  3.28s/it]\u001b[A\n",
      " 70%|███████   | 7/10 [00:23<00:09,  3.14s/it]\u001b[A\n",
      " 80%|████████  | 8/10 [00:26<00:06,  3.04s/it]\u001b[A\n",
      " 90%|█████████ | 9/10 [00:29<00:03,  3.01s/it]\u001b[A\n",
      "100%|██████████| 10/10 [00:32<00:00,  3.24s/it]\u001b[A\n"
     ]
    },
    {
     "name": "stdout",
     "output_type": "stream",
     "text": [
      "      Accuracy: 49.00%  Demographic disparity: 0.00\n",
      "|  Simulation : 2 | \n",
      "      seed : 289 -----\n"
     ]
    },
    {
     "name": "stderr",
     "output_type": "stream",
     "text": [
      "\n",
      "  0%|          | 0/10 [00:00<?, ?it/s]\u001b[A\n",
      " 10%|█         | 1/10 [00:03<00:31,  3.52s/it]\u001b[A\n",
      " 20%|██        | 2/10 [00:07<00:29,  3.64s/it]\u001b[A\n",
      " 30%|███       | 3/10 [00:10<00:24,  3.51s/it]\u001b[A\n",
      " 40%|████      | 4/10 [00:13<00:20,  3.34s/it]\u001b[A\n",
      " 50%|█████     | 5/10 [00:16<00:16,  3.21s/it]\u001b[A\n",
      " 60%|██████    | 6/10 [00:19<00:12,  3.12s/it]\u001b[A\n",
      " 70%|███████   | 7/10 [00:22<00:09,  3.16s/it]\u001b[A\n",
      " 80%|████████  | 8/10 [00:25<00:06,  3.19s/it]\u001b[A\n",
      " 90%|█████████ | 9/10 [00:29<00:03,  3.24s/it]\u001b[A\n",
      "100%|██████████| 10/10 [00:32<00:00,  3.27s/it]\u001b[A\n"
     ]
    },
    {
     "name": "stdout",
     "output_type": "stream",
     "text": [
      "      Accuracy: 89.00%  Demographic disparity: 0.54\n",
      "|  Simulation : 3 | \n",
      "      seed : 323 -----\n"
     ]
    },
    {
     "name": "stderr",
     "output_type": "stream",
     "text": [
      "\n",
      "  0%|          | 0/10 [00:00<?, ?it/s]\u001b[A\n",
      " 10%|█         | 1/10 [00:03<00:33,  3.76s/it]\u001b[A\n",
      " 20%|██        | 2/10 [00:07<00:30,  3.79s/it]\u001b[A\n",
      " 30%|███       | 3/10 [00:11<00:26,  3.81s/it]\u001b[A\n",
      " 40%|████      | 4/10 [00:14<00:22,  3.70s/it]\u001b[A\n",
      " 50%|█████     | 5/10 [00:19<00:19,  3.83s/it]\u001b[A\n",
      " 60%|██████    | 6/10 [00:22<00:15,  3.85s/it]\u001b[A\n",
      " 70%|███████   | 7/10 [00:26<00:11,  3.85s/it]\u001b[A\n",
      " 80%|████████  | 8/10 [00:29<00:07,  3.61s/it]\u001b[A\n",
      " 90%|█████████ | 9/10 [00:32<00:03,  3.41s/it]\u001b[A\n",
      "100%|██████████| 10/10 [00:35<00:00,  3.57s/it]\u001b[A\n"
     ]
    },
    {
     "name": "stdout",
     "output_type": "stream",
     "text": [
      "      Accuracy: 44.00%  Demographic disparity: 0.00\n",
      "|  Simulation : 4 | \n",
      "      seed : 361 -----\n"
     ]
    },
    {
     "name": "stderr",
     "output_type": "stream",
     "text": [
      "\n",
      "  0%|          | 0/10 [00:00<?, ?it/s]\u001b[A\n",
      " 10%|█         | 1/10 [00:02<00:26,  2.96s/it]\u001b[A\n",
      " 20%|██        | 2/10 [00:05<00:23,  2.94s/it]\u001b[A\n",
      " 30%|███       | 3/10 [00:08<00:20,  2.96s/it]\u001b[A\n",
      " 40%|████      | 4/10 [00:11<00:17,  2.97s/it]\u001b[A\n",
      " 50%|█████     | 5/10 [00:14<00:14,  2.97s/it]\u001b[A\n",
      " 60%|██████    | 6/10 [00:17<00:11,  2.95s/it]\u001b[A\n",
      " 70%|███████   | 7/10 [00:20<00:09,  3.01s/it]\u001b[A\n",
      " 80%|████████  | 8/10 [00:23<00:05,  2.90s/it]\u001b[A\n",
      " 90%|█████████ | 9/10 [00:26<00:02,  2.78s/it]\u001b[A\n",
      "100%|██████████| 10/10 [00:28<00:00,  2.85s/it]\u001b[A\n"
     ]
    },
    {
     "name": "stdout",
     "output_type": "stream",
     "text": [
      "      Accuracy: 61.00%  Demographic disparity: 0.21\n",
      "|  Simulation : 5 | \n",
      "      seed : 391 -----\n"
     ]
    },
    {
     "name": "stderr",
     "output_type": "stream",
     "text": [
      "\n",
      "  0%|          | 0/10 [00:00<?, ?it/s]\u001b[A\n",
      " 10%|█         | 1/10 [00:02<00:22,  2.52s/it]\u001b[A\n",
      " 20%|██        | 2/10 [00:05<00:20,  2.51s/it]\u001b[A\n",
      " 30%|███       | 3/10 [00:07<00:17,  2.51s/it]\u001b[A\n",
      " 40%|████      | 4/10 [00:10<00:15,  2.50s/it]\u001b[A\n",
      " 50%|█████     | 5/10 [00:12<00:12,  2.51s/it]\u001b[A\n",
      " 60%|██████    | 6/10 [00:15<00:10,  2.50s/it]\u001b[A\n",
      " 70%|███████   | 7/10 [00:17<00:07,  2.50s/it]\u001b[A\n",
      " 80%|████████  | 8/10 [00:19<00:04,  2.50s/it]\u001b[A\n",
      " 90%|█████████ | 9/10 [00:22<00:02,  2.52s/it]\u001b[A\n",
      "100%|██████████| 10/10 [00:25<00:00,  2.54s/it]\u001b[A\n"
     ]
    },
    {
     "name": "stdout",
     "output_type": "stream",
     "text": [
      "      Accuracy: 83.00%  Demographic disparity: 0.38\n",
      "|  Simulation : 6 | \n",
      "      seed : 418 -----\n"
     ]
    },
    {
     "name": "stderr",
     "output_type": "stream",
     "text": [
      "\n",
      "  0%|          | 0/10 [00:00<?, ?it/s]\u001b[A\n",
      " 10%|█         | 1/10 [00:02<00:25,  2.84s/it]\u001b[A\n",
      " 20%|██        | 2/10 [00:05<00:22,  2.77s/it]\u001b[A\n",
      " 30%|███       | 3/10 [00:07<00:18,  2.69s/it]\u001b[A\n",
      " 40%|████      | 4/10 [00:10<00:15,  2.65s/it]\u001b[A\n",
      " 50%|█████     | 5/10 [00:13<00:13,  2.61s/it]\u001b[A\n",
      " 60%|██████    | 6/10 [00:15<00:10,  2.59s/it]\u001b[A\n",
      " 70%|███████   | 7/10 [00:18<00:07,  2.57s/it]\u001b[A\n",
      " 80%|████████  | 8/10 [00:20<00:05,  2.54s/it]\u001b[A\n",
      " 90%|█████████ | 9/10 [00:23<00:02,  2.53s/it]\u001b[A\n",
      "100%|██████████| 10/10 [00:25<00:00,  2.56s/it]\u001b[A\n"
     ]
    },
    {
     "name": "stdout",
     "output_type": "stream",
     "text": [
      "      Accuracy: 66.00%  Demographic disparity: 0.14\n",
      "|  Simulation : 7 | \n",
      "      seed : 445 -----\n"
     ]
    },
    {
     "name": "stderr",
     "output_type": "stream",
     "text": [
      "\n",
      "  0%|          | 0/10 [00:00<?, ?it/s]\u001b[A\n",
      " 10%|█         | 1/10 [00:02<00:22,  2.46s/it]\u001b[A\n",
      " 20%|██        | 2/10 [00:04<00:19,  2.46s/it]\u001b[A\n",
      " 30%|███       | 3/10 [00:07<00:17,  2.57s/it]\u001b[A\n",
      " 40%|████      | 4/10 [00:10<00:15,  2.61s/it]\u001b[A\n",
      " 50%|█████     | 5/10 [00:13<00:12,  2.59s/it]\u001b[A\n",
      " 60%|██████    | 6/10 [00:15<00:10,  2.54s/it]\u001b[A\n",
      " 70%|███████   | 7/10 [00:17<00:07,  2.52s/it]\u001b[A\n",
      " 80%|████████  | 8/10 [00:20<00:04,  2.49s/it]\u001b[A\n",
      " 90%|█████████ | 9/10 [00:22<00:02,  2.47s/it]\u001b[A\n",
      "100%|██████████| 10/10 [00:25<00:00,  2.52s/it]\u001b[A\n"
     ]
    },
    {
     "name": "stdout",
     "output_type": "stream",
     "text": [
      "      Accuracy: 72.00%  Demographic disparity: 0.45\n",
      "|  Simulation : 8 | \n",
      "      seed : 472 -----\n"
     ]
    },
    {
     "name": "stderr",
     "output_type": "stream",
     "text": [
      "\n",
      "  0%|          | 0/10 [00:00<?, ?it/s]\u001b[A\n",
      " 10%|█         | 1/10 [00:02<00:25,  2.86s/it]\u001b[A\n",
      " 20%|██        | 2/10 [00:05<00:22,  2.77s/it]\u001b[A\n",
      " 30%|███       | 3/10 [00:08<00:19,  2.74s/it]\u001b[A\n",
      " 40%|████      | 4/10 [00:10<00:16,  2.71s/it]\u001b[A\n",
      " 50%|█████     | 5/10 [00:13<00:13,  2.68s/it]\u001b[A\n",
      " 60%|██████    | 6/10 [00:16<00:10,  2.68s/it]\u001b[A\n",
      " 70%|███████   | 7/10 [00:18<00:08,  2.76s/it]\u001b[A\n",
      " 80%|████████  | 8/10 [00:22<00:05,  2.84s/it]\u001b[A\n",
      " 90%|█████████ | 9/10 [00:24<00:02,  2.88s/it]\u001b[A\n",
      "100%|██████████| 10/10 [00:27<00:00,  2.78s/it]\u001b[A\n"
     ]
    },
    {
     "name": "stdout",
     "output_type": "stream",
     "text": [
      "      Accuracy: 83.00%  Demographic disparity: 0.52\n",
      "|  Simulation : 9 | \n",
      "      seed : 502 -----\n"
     ]
    },
    {
     "name": "stderr",
     "output_type": "stream",
     "text": [
      "\n",
      "  0%|          | 0/10 [00:00<?, ?it/s]\u001b[A\n",
      " 10%|█         | 1/10 [00:02<00:24,  2.76s/it]\u001b[A\n",
      " 20%|██        | 2/10 [00:05<00:21,  2.73s/it]\u001b[A\n",
      " 30%|███       | 3/10 [00:08<00:19,  2.75s/it]\u001b[A\n",
      " 40%|████      | 4/10 [00:10<00:16,  2.74s/it]\u001b[A\n",
      " 50%|█████     | 5/10 [00:13<00:13,  2.76s/it]\u001b[A\n",
      " 60%|██████    | 6/10 [00:16<00:11,  2.85s/it]\u001b[A\n",
      " 70%|███████   | 7/10 [00:20<00:08,  2.98s/it]\u001b[A\n",
      " 80%|████████  | 8/10 [00:23<00:06,  3.24s/it]\u001b[A\n",
      " 90%|█████████ | 9/10 [00:26<00:03,  3.17s/it]\u001b[A\n",
      "100%|██████████| 10/10 [00:30<00:00,  3.00s/it]\u001b[A\n"
     ]
    },
    {
     "name": "stdout",
     "output_type": "stream",
     "text": [
      "      Accuracy: 41.00%  Demographic disparity: 0.00\n",
      "|  Simulation : 10 | \n",
      "      seed : 534 -----\n"
     ]
    },
    {
     "name": "stderr",
     "output_type": "stream",
     "text": [
      "\n",
      "  0%|          | 0/10 [00:00<?, ?it/s]\u001b[A\n",
      " 10%|█         | 1/10 [00:02<00:26,  2.97s/it]\u001b[A\n",
      " 20%|██        | 2/10 [00:05<00:23,  2.94s/it]\u001b[A\n",
      " 30%|███       | 3/10 [00:09<00:22,  3.22s/it]\u001b[A\n",
      " 40%|████      | 4/10 [00:13<00:20,  3.46s/it]\u001b[A\n",
      " 50%|█████     | 5/10 [00:17<00:17,  3.46s/it]\u001b[A\n",
      " 60%|██████    | 6/10 [00:21<00:14,  3.60s/it]\u001b[A\n",
      " 70%|███████   | 7/10 [00:24<00:10,  3.42s/it]\u001b[A\n",
      " 80%|████████  | 8/10 [00:26<00:06,  3.23s/it]\u001b[A\n",
      " 90%|█████████ | 9/10 [00:29<00:03,  3.12s/it]\u001b[A\n",
      "100%|██████████| 10/10 [00:32<00:00,  3.27s/it]\u001b[A\n"
     ]
    },
    {
     "name": "stdout",
     "output_type": "stream",
     "text": [
      "      Accuracy: 80.00%  Demographic disparity: 0.31\n",
      "|  Simulation : 11 | \n",
      "      seed : 568 -----\n"
     ]
    },
    {
     "name": "stderr",
     "output_type": "stream",
     "text": [
      "\n",
      "  0%|          | 0/10 [00:00<?, ?it/s]\u001b[A\n",
      " 10%|█         | 1/10 [00:02<00:26,  2.93s/it]\u001b[A\n",
      " 20%|██        | 2/10 [00:05<00:23,  2.94s/it]\u001b[A\n",
      " 30%|███       | 3/10 [00:08<00:20,  2.93s/it]\u001b[A\n",
      " 40%|████      | 4/10 [00:11<00:17,  2.93s/it]\u001b[A\n",
      " 50%|█████     | 5/10 [00:14<00:14,  2.98s/it]\u001b[A\n",
      " 60%|██████    | 6/10 [00:17<00:11,  2.97s/it]\u001b[A\n",
      " 70%|███████   | 7/10 [00:20<00:08,  2.96s/it]\u001b[A\n",
      " 80%|████████  | 8/10 [00:23<00:05,  2.96s/it]\u001b[A\n",
      " 90%|█████████ | 9/10 [00:26<00:02,  2.95s/it]\u001b[A\n",
      "100%|██████████| 10/10 [00:29<00:00,  2.95s/it]\u001b[A\n"
     ]
    },
    {
     "name": "stdout",
     "output_type": "stream",
     "text": [
      "      Accuracy: 40.00%  Demographic disparity: 0.00\n",
      "|  Simulation : 12 | \n",
      "      seed : 600 -----\n"
     ]
    },
    {
     "name": "stderr",
     "output_type": "stream",
     "text": [
      "\n",
      "  0%|          | 0/10 [00:00<?, ?it/s]\u001b[A\n",
      " 10%|█         | 1/10 [00:02<00:26,  2.91s/it]\u001b[A\n",
      " 20%|██        | 2/10 [00:05<00:23,  2.93s/it]\u001b[A\n",
      " 30%|███       | 3/10 [00:08<00:20,  2.93s/it]\u001b[A\n",
      " 40%|████      | 4/10 [00:12<00:18,  3.10s/it]\u001b[A\n",
      " 50%|█████     | 5/10 [00:15<00:16,  3.26s/it]\u001b[A\n",
      " 60%|██████    | 6/10 [00:19<00:12,  3.22s/it]\u001b[A\n",
      " 70%|███████   | 7/10 [00:23<00:10,  3.45s/it]\u001b[A\n",
      " 80%|████████  | 8/10 [00:26<00:06,  3.45s/it]\u001b[A\n",
      " 90%|█████████ | 9/10 [00:29<00:03,  3.35s/it]\u001b[A\n",
      "100%|██████████| 10/10 [00:33<00:00,  3.36s/it]\u001b[A\n"
     ]
    },
    {
     "name": "stdout",
     "output_type": "stream",
     "text": [
      "      Accuracy: 84.00%  Demographic disparity: 0.35\n",
      "|  Simulation : 13 | \n",
      "      seed : 635 -----\n"
     ]
    },
    {
     "name": "stderr",
     "output_type": "stream",
     "text": [
      "\n",
      "  0%|          | 0/10 [00:00<?, ?it/s]\u001b[A\n",
      " 10%|█         | 1/10 [00:03<00:31,  3.49s/it]\u001b[A\n",
      " 20%|██        | 2/10 [00:06<00:27,  3.47s/it]\u001b[A\n",
      " 30%|███       | 3/10 [00:10<00:24,  3.55s/it]\u001b[A\n",
      " 40%|████      | 4/10 [00:14<00:21,  3.50s/it]\u001b[A\n",
      " 50%|█████     | 5/10 [00:17<00:17,  3.52s/it]\u001b[A\n",
      " 60%|██████    | 6/10 [00:20<00:13,  3.39s/it]\u001b[A\n",
      " 70%|███████   | 7/10 [00:23<00:09,  3.23s/it]\u001b[A\n",
      " 80%|████████  | 8/10 [00:26<00:06,  3.12s/it]\u001b[A\n",
      " 90%|█████████ | 9/10 [00:29<00:03,  3.06s/it]\u001b[A\n",
      "100%|██████████| 10/10 [00:32<00:00,  3.25s/it]\u001b[A\n"
     ]
    },
    {
     "name": "stdout",
     "output_type": "stream",
     "text": [
      "      Accuracy: 85.00%  Demographic disparity: 0.37\n",
      "|  Simulation : 14 | \n",
      "      seed : 670 -----\n"
     ]
    },
    {
     "name": "stderr",
     "output_type": "stream",
     "text": [
      "\n",
      "  0%|          | 0/10 [00:00<?, ?it/s]\u001b[A\n",
      " 10%|█         | 1/10 [00:02<00:25,  2.87s/it]\u001b[A\n",
      " 20%|██        | 2/10 [00:05<00:22,  2.85s/it]\u001b[A\n",
      " 30%|███       | 3/10 [00:08<00:20,  2.88s/it]\u001b[A\n",
      " 40%|████      | 4/10 [00:11<00:17,  2.86s/it]\u001b[A\n",
      " 50%|█████     | 5/10 [00:14<00:14,  2.88s/it]\u001b[A\n",
      " 60%|██████    | 6/10 [00:17<00:11,  2.89s/it]\u001b[A\n",
      " 70%|███████   | 7/10 [00:20<00:08,  2.87s/it]\u001b[A\n",
      " 80%|████████  | 8/10 [00:22<00:05,  2.86s/it]\u001b[A\n",
      " 90%|█████████ | 9/10 [00:26<00:03,  3.00s/it]\u001b[A\n",
      "100%|██████████| 10/10 [00:29<00:00,  2.92s/it]\u001b[A\n"
     ]
    },
    {
     "name": "stdout",
     "output_type": "stream",
     "text": [
      "      Accuracy: 55.00%  Demographic disparity: 0.17\n",
      "|  Simulation : 15 | \n",
      "      seed : 701 -----\n"
     ]
    },
    {
     "name": "stderr",
     "output_type": "stream",
     "text": [
      "\n",
      "  0%|          | 0/10 [00:00<?, ?it/s]\u001b[A\n",
      " 10%|█         | 1/10 [00:02<00:26,  2.93s/it]\u001b[A\n",
      " 20%|██        | 2/10 [00:05<00:23,  2.90s/it]\u001b[A\n",
      " 30%|███       | 3/10 [00:08<00:20,  2.88s/it]\u001b[A\n",
      " 40%|████      | 4/10 [00:11<00:17,  2.89s/it]\u001b[A\n",
      " 50%|█████     | 5/10 [00:14<00:14,  2.87s/it]\u001b[A\n",
      " 60%|██████    | 6/10 [00:17<00:11,  2.88s/it]\u001b[A\n",
      " 70%|███████   | 7/10 [00:20<00:08,  2.86s/it]\u001b[A\n",
      " 80%|████████  | 8/10 [00:22<00:05,  2.84s/it]\u001b[A\n",
      " 90%|█████████ | 9/10 [00:25<00:02,  2.86s/it]\u001b[A\n",
      "100%|██████████| 10/10 [00:28<00:00,  2.86s/it]\u001b[A\n"
     ]
    },
    {
     "name": "stdout",
     "output_type": "stream",
     "text": [
      "      Accuracy: 27.00%  Demographic disparity: 0.00\n",
      "|  Simulation : 16 | \n",
      "      seed : 731 -----\n"
     ]
    },
    {
     "name": "stderr",
     "output_type": "stream",
     "text": [
      "\n",
      "  0%|          | 0/10 [00:00<?, ?it/s]\u001b[A\n",
      " 10%|█         | 1/10 [00:02<00:26,  2.94s/it]\u001b[A\n",
      " 20%|██        | 2/10 [00:05<00:23,  2.91s/it]\u001b[A\n",
      " 30%|███       | 3/10 [00:08<00:20,  2.94s/it]\u001b[A\n",
      " 40%|████      | 4/10 [00:12<00:19,  3.19s/it]\u001b[A\n",
      " 50%|█████     | 5/10 [00:15<00:15,  3.16s/it]\u001b[A\n",
      " 60%|██████    | 6/10 [00:18<00:12,  3.05s/it]\u001b[A\n",
      " 70%|███████   | 7/10 [00:21<00:08,  2.99s/it]\u001b[A\n",
      " 80%|████████  | 8/10 [00:24<00:05,  2.96s/it]\u001b[A\n",
      " 90%|█████████ | 9/10 [00:26<00:02,  2.91s/it]\u001b[A\n",
      "100%|██████████| 10/10 [00:29<00:00,  2.98s/it]\u001b[A\n"
     ]
    },
    {
     "name": "stdout",
     "output_type": "stream",
     "text": [
      "      Accuracy: 83.00%  Demographic disparity: 0.29\n",
      "|  Simulation : 17 | \n",
      "      seed : 763 -----\n"
     ]
    },
    {
     "name": "stderr",
     "output_type": "stream",
     "text": [
      "\n",
      "  0%|          | 0/10 [00:00<?, ?it/s]\u001b[A\n",
      " 10%|█         | 1/10 [00:02<00:25,  2.85s/it]\u001b[A\n",
      " 20%|██        | 2/10 [00:05<00:22,  2.84s/it]\u001b[A\n",
      " 30%|███       | 3/10 [00:08<00:19,  2.84s/it]\u001b[A\n",
      " 40%|████      | 4/10 [00:11<00:17,  2.85s/it]\u001b[A\n",
      " 50%|█████     | 5/10 [00:14<00:14,  2.84s/it]\u001b[A\n",
      " 60%|██████    | 6/10 [00:17<00:11,  2.85s/it]\u001b[A\n",
      " 70%|███████   | 7/10 [00:19<00:08,  2.86s/it]\u001b[A\n",
      " 80%|████████  | 8/10 [00:22<00:05,  2.85s/it]\u001b[A\n",
      " 90%|█████████ | 9/10 [00:25<00:02,  2.89s/it]\u001b[A\n",
      "100%|██████████| 10/10 [00:29<00:00,  2.91s/it]\u001b[A\n"
     ]
    },
    {
     "name": "stdout",
     "output_type": "stream",
     "text": [
      "      Accuracy: 52.00%  Demographic disparity: 0.07\n",
      "|  Simulation : 18 | \n",
      "      seed : 793 -----\n"
     ]
    },
    {
     "name": "stderr",
     "output_type": "stream",
     "text": [
      "\n",
      "  0%|          | 0/10 [00:00<?, ?it/s]\u001b[A\n",
      " 10%|█         | 1/10 [00:03<00:35,  3.97s/it]\u001b[A\n",
      " 20%|██        | 2/10 [00:07<00:30,  3.84s/it]\u001b[A\n",
      " 30%|███       | 3/10 [00:11<00:27,  3.94s/it]\u001b[A\n",
      " 40%|████      | 4/10 [00:15<00:22,  3.81s/it]\u001b[A\n",
      " 50%|█████     | 5/10 [00:18<00:18,  3.71s/it]\u001b[A\n",
      " 60%|██████    | 6/10 [00:21<00:13,  3.48s/it]\u001b[A\n",
      " 70%|███████   | 7/10 [00:24<00:09,  3.32s/it]\u001b[A\n",
      " 80%|████████  | 8/10 [00:27<00:06,  3.18s/it]\u001b[A\n",
      " 90%|█████████ | 9/10 [00:30<00:03,  3.10s/it]\u001b[A\n",
      "100%|██████████| 10/10 [00:33<00:00,  3.32s/it]\u001b[A\n"
     ]
    },
    {
     "name": "stdout",
     "output_type": "stream",
     "text": [
      "      Accuracy: 80.00%  Demographic disparity: 0.33\n",
      "|  Simulation : 19 | \n",
      "      seed : 829 -----\n"
     ]
    },
    {
     "name": "stderr",
     "output_type": "stream",
     "text": [
      "\n",
      "  0%|          | 0/10 [00:00<?, ?it/s]\u001b[A\n",
      " 10%|█         | 1/10 [00:02<00:26,  2.92s/it]\u001b[A\n",
      " 20%|██        | 2/10 [00:05<00:23,  2.92s/it]\u001b[A\n",
      " 30%|███       | 3/10 [00:08<00:20,  2.89s/it]\u001b[A\n",
      " 40%|████      | 4/10 [00:11<00:17,  2.91s/it]\u001b[A\n",
      " 50%|█████     | 5/10 [00:14<00:14,  2.91s/it]\u001b[A\n",
      " 60%|██████    | 6/10 [00:17<00:11,  2.91s/it]\u001b[A\n",
      " 70%|███████   | 7/10 [00:20<00:08,  2.92s/it]\u001b[A\n",
      " 80%|████████  | 8/10 [00:23<00:05,  2.95s/it]\u001b[A\n",
      " 90%|█████████ | 9/10 [00:26<00:02,  2.97s/it]\u001b[A\n",
      "100%|██████████| 10/10 [00:29<00:00,  2.94s/it]\u001b[A\n"
     ]
    },
    {
     "name": "stdout",
     "output_type": "stream",
     "text": [
      "      Accuracy: 45.00%  Demographic disparity: 0.00\n",
      "|  Simulation : 20 | \n",
      "      seed : 860 -----\n"
     ]
    },
    {
     "name": "stderr",
     "output_type": "stream",
     "text": [
      "\n",
      "  0%|          | 0/10 [00:00<?, ?it/s]\u001b[A\n",
      " 10%|█         | 1/10 [00:02<00:26,  2.95s/it]\u001b[A\n",
      " 20%|██        | 2/10 [00:05<00:23,  2.94s/it]\u001b[A\n",
      " 30%|███       | 3/10 [00:08<00:20,  2.95s/it]\u001b[A\n",
      " 40%|████      | 4/10 [00:12<00:18,  3.03s/it]\u001b[A\n",
      " 50%|█████     | 5/10 [00:15<00:15,  3.03s/it]\u001b[A\n",
      " 60%|██████    | 6/10 [00:18<00:12,  3.08s/it]\u001b[A\n",
      " 70%|███████   | 7/10 [00:21<00:09,  3.20s/it]\u001b[A\n",
      " 80%|████████  | 8/10 [00:25<00:06,  3.29s/it]\u001b[A\n",
      " 90%|█████████ | 9/10 [00:29<00:03,  3.46s/it]\u001b[A\n",
      "100%|██████████| 10/10 [00:32<00:00,  3.26s/it]\u001b[A"
     ]
    },
    {
     "name": "stdout",
     "output_type": "stream",
     "text": [
      "      Accuracy: 44.00%  Demographic disparity: 0.00\n",
      "| Test Accuracy: 0.631(0.190) | Demographic disparity: 0.207(0.187) |\n",
      "| Time elapsed: 640.10 seconds |\n"
     ]
    },
    {
     "name": "stderr",
     "output_type": "stream",
     "text": [
      "\n"
     ]
    },
    {
     "data": {
      "text/plain": [
       "(0.6314999999999998,\n",
       " 0.18984928232679732,\n",
       " 0.20678935983100075,\n",
       " 0.1871741613792626)"
      ]
     },
     "execution_count": 6,
     "metadata": {},
     "output_type": "execute_result"
    }
   ],
   "source": [
    "from sims import *\n",
    "\n",
    "runSim(num_sim = 20, train_samples = 3000, test_samples = 100, option = \"adversarial learning\", \n",
    "       num_rounds = 10, local_epochs = 30, optimizer = 'adam', epsilon = 0.01, learning_rate = 0.01, \n",
    "       alpha = 0.01, metric = \"Demographic disparity\")"
   ]
  },
  {
   "cell_type": "code",
   "execution_count": 21,
   "metadata": {},
   "outputs": [
    {
     "name": "stderr",
     "output_type": "stream",
     "text": [
      "\n",
      "\n",
      "\n",
      "\n",
      "  0%|          | 0/2 [00:00<?, ?it/s]\u001b[A\u001b[A\u001b[A\u001b[A"
     ]
    },
    {
     "name": "stdout",
     "output_type": "stream",
     "text": [
      "\n",
      " | Global Training Round : 1 |\n",
      "\n"
     ]
    },
    {
     "name": "stderr",
     "output_type": "stream",
     "text": [
      "\n",
      "\n",
      "\n",
      "\n",
      " 50%|█████     | 1/2 [00:00<00:00,  2.40it/s]\u001b[A\u001b[A\u001b[A\u001b[A"
     ]
    },
    {
     "name": "stdout",
     "output_type": "stream",
     "text": [
      "Client 1: accuracy loss: 3.72 | fairness loss 590.32 | Demographic disparity = 0.39\n",
      "Client 2: accuracy loss: 3.72 | fairness loss 590.32 | Demographic disparity = 0.39\n",
      "Client 3: accuracy loss: 3.72 | fairness loss 590.32 | Demographic disparity = 0.39\n",
      " \n",
      "Avg Training Stats after 1 global rounds:\n",
      "Training loss: 75.93 | Validation accuracy: 78.43% | Validation Demographic disparity: 0.3856\n",
      "\n",
      " | Global Training Round : 2 |\n",
      "\n"
     ]
    },
    {
     "name": "stderr",
     "output_type": "stream",
     "text": [
      "\n",
      "\n",
      "\n",
      "\n",
      "100%|██████████| 2/2 [00:00<00:00,  2.39it/s]\u001b[A\u001b[A\u001b[A\u001b[A\n",
      "\n",
      "\n",
      "\n",
      "\n",
      "  0%|          | 0/10 [00:00<?, ?it/s]\u001b[A\u001b[A\u001b[A\u001b[A"
     ]
    },
    {
     "name": "stdout",
     "output_type": "stream",
     "text": [
      "Client 1: accuracy loss: 3.04 | fairness loss 791.21 | Demographic disparity = 0.45\n",
      "Client 2: accuracy loss: 3.04 | fairness loss 791.21 | Demographic disparity = 0.45\n",
      "Client 3: accuracy loss: 3.04 | fairness loss 791.21 | Demographic disparity = 0.45\n",
      " \n",
      "Avg Training Stats after 2 global rounds:\n",
      "Training loss: 58.36 | Validation accuracy: 81.37% | Validation Demographic disparity: 0.4451\n",
      " \n",
      " Results after 2 global rounds of training:\n",
      "|---- Avg Train Accuracy: 81.37%\n",
      "|---- Test Accuracy: 91.00%\n",
      "|---- Test Demographic disparity: 0.4362\n",
      "\n",
      " Total Run Time: 0.8466 sec\n",
      "\n",
      " | Global Training Round : 1 |\n",
      "\n"
     ]
    },
    {
     "name": "stderr",
     "output_type": "stream",
     "text": [
      "\n",
      "\n",
      "\n",
      "\n",
      " 10%|█         | 1/10 [00:02<00:25,  2.80s/it]\u001b[A\u001b[A\u001b[A\u001b[A"
     ]
    },
    {
     "name": "stdout",
     "output_type": "stream",
     "text": [
      "Client 1: predictor loss: 1989.75 | adversary loss 0.38 | Demographic disparity = 0.56\n",
      "Client 2: predictor loss: 1756.61 | adversary loss 0.35 | Demographic disparity = 0.40\n",
      "Client 3: predictor loss: 1442.14 | adversary loss 0.42 | Demographic disparity = 0.43\n",
      " \n",
      "Avg Training Stats after 1 global rounds:\n",
      "Training loss: 12823.86 | Validation accuracy: 16.62% | Validation Demographic disparity: 0.3886\n",
      "\n",
      " | Global Training Round : 2 |\n",
      "\n"
     ]
    },
    {
     "name": "stderr",
     "output_type": "stream",
     "text": [
      "\n",
      "\n",
      "\n",
      "\n",
      " 20%|██        | 2/10 [00:05<00:22,  2.76s/it]\u001b[A\u001b[A\u001b[A\u001b[A"
     ]
    },
    {
     "name": "stdout",
     "output_type": "stream",
     "text": [
      "Client 1: predictor loss: 5007.57 | adversary loss 0.29 | Demographic disparity = 0.60\n",
      "Client 2: predictor loss: 4565.41 | adversary loss 0.31 | Demographic disparity = 0.45\n",
      "Client 3: predictor loss: 3548.63 | adversary loss 0.37 | Demographic disparity = 0.45\n",
      " \n",
      "Avg Training Stats after 2 global rounds:\n",
      "Training loss: 24828.34 | Validation accuracy: 16.08% | Validation Demographic disparity: 0.4217\n",
      "\n",
      " | Global Training Round : 3 |\n",
      "\n"
     ]
    },
    {
     "name": "stderr",
     "output_type": "stream",
     "text": [
      "\n",
      "\n",
      "\n",
      "\n",
      " 30%|███       | 3/10 [00:08<00:19,  2.72s/it]\u001b[A\u001b[A\u001b[A\u001b[A"
     ]
    },
    {
     "name": "stdout",
     "output_type": "stream",
     "text": [
      "Client 1: predictor loss: 3924.29 | adversary loss 0.23 | Demographic disparity = 0.62\n",
      "Client 2: predictor loss: 3458.87 | adversary loss 0.28 | Demographic disparity = 0.44\n",
      "Client 3: predictor loss: 2528.83 | adversary loss 0.29 | Demographic disparity = 0.51\n",
      " \n",
      "Avg Training Stats after 3 global rounds:\n",
      "Training loss: 34634.39 | Validation accuracy: 14.95% | Validation Demographic disparity: 0.4279\n",
      "\n",
      " | Global Training Round : 4 |\n",
      "\n"
     ]
    },
    {
     "name": "stderr",
     "output_type": "stream",
     "text": [
      "\n",
      "\n",
      "\n",
      "\n",
      " 40%|████      | 4/10 [00:10<00:15,  2.65s/it]\u001b[A\u001b[A\u001b[A\u001b[A"
     ]
    },
    {
     "name": "stdout",
     "output_type": "stream",
     "text": [
      "Client 1: predictor loss: 1881.56 | adversary loss 0.07 | Demographic disparity = 0.65\n",
      "Client 2: predictor loss: 1381.00 | adversary loss 0.19 | Demographic disparity = 0.45\n",
      "Client 3: predictor loss: 934.51 | adversary loss 0.16 | Demographic disparity = 0.54\n",
      " \n",
      "Avg Training Stats after 4 global rounds:\n",
      "Training loss: 33068.42 | Validation accuracy: 18.52% | Validation Demographic disparity: 0.4492\n",
      "\n",
      " | Global Training Round : 5 |\n",
      "\n"
     ]
    },
    {
     "name": "stderr",
     "output_type": "stream",
     "text": [
      "\n",
      "\n",
      "\n",
      "\n",
      " 50%|█████     | 5/10 [00:13<00:13,  2.67s/it]\u001b[A\u001b[A\u001b[A\u001b[A"
     ]
    },
    {
     "name": "stdout",
     "output_type": "stream",
     "text": [
      "Client 1: predictor loss: 3549.39 | adversary loss 0.19 | Demographic disparity = 0.65\n",
      "Client 2: predictor loss: 2873.70 | adversary loss 0.17 | Demographic disparity = 0.46\n",
      "Client 3: predictor loss: 2055.07 | adversary loss 0.15 | Demographic disparity = 0.51\n",
      " \n",
      "Avg Training Stats after 5 global rounds:\n",
      "Training loss: 33217.69 | Validation accuracy: 14.92% | Validation Demographic disparity: 0.4412\n",
      "\n",
      " | Global Training Round : 6 |\n",
      "\n"
     ]
    },
    {
     "name": "stderr",
     "output_type": "stream",
     "text": [
      "\n",
      "\n",
      "\n",
      "\n",
      " 60%|██████    | 6/10 [00:16<00:10,  2.68s/it]\u001b[A\u001b[A\u001b[A\u001b[A"
     ]
    },
    {
     "name": "stdout",
     "output_type": "stream",
     "text": [
      "Client 1: predictor loss: 8807.90 | adversary loss 0.30 | Demographic disparity = 0.62\n",
      "Client 2: predictor loss: 7760.20 | adversary loss 0.28 | Demographic disparity = 0.46\n",
      "Client 3: predictor loss: 5785.16 | adversary loss 0.29 | Demographic disparity = 0.50\n",
      " \n",
      "Avg Training Stats after 6 global rounds:\n",
      "Training loss: 37156.30 | Validation accuracy: 14.95% | Validation Demographic disparity: 0.4370\n",
      "\n",
      " | Global Training Round : 7 |\n",
      "\n"
     ]
    },
    {
     "name": "stderr",
     "output_type": "stream",
     "text": [
      "\n",
      "\n",
      "\n",
      "\n",
      " 70%|███████   | 7/10 [00:18<00:08,  2.71s/it]\u001b[A\u001b[A\u001b[A\u001b[A"
     ]
    },
    {
     "name": "stdout",
     "output_type": "stream",
     "text": [
      "Client 1: predictor loss: 10550.48 | adversary loss 0.32 | Demographic disparity = 0.62\n",
      "Client 2: predictor loss: 9325.03 | adversary loss 0.31 | Demographic disparity = 0.47\n",
      "Client 3: predictor loss: 7123.59 | adversary loss 0.35 | Demographic disparity = 0.46\n",
      " \n",
      "Avg Training Stats after 7 global rounds:\n",
      "Training loss: 46237.31 | Validation accuracy: 14.63% | Validation Demographic disparity: 0.4337\n",
      "\n",
      " | Global Training Round : 8 |\n",
      "\n"
     ]
    },
    {
     "name": "stderr",
     "output_type": "stream",
     "text": [
      "\n",
      "\n",
      "\n",
      "\n",
      " 80%|████████  | 8/10 [00:21<00:05,  2.72s/it]\u001b[A\u001b[A\u001b[A\u001b[A"
     ]
    },
    {
     "name": "stdout",
     "output_type": "stream",
     "text": [
      "Client 1: predictor loss: 7378.60 | adversary loss 0.24 | Demographic disparity = 0.62\n",
      "Client 2: predictor loss: 6300.21 | adversary loss 0.28 | Demographic disparity = 0.46\n",
      "Client 3: predictor loss: 4558.90 | adversary loss 0.26 | Demographic disparity = 0.53\n",
      " \n",
      "Avg Training Stats after 8 global rounds:\n",
      "Training loss: 56390.74 | Validation accuracy: 15.02% | Validation Demographic disparity: 0.4352\n",
      "\n",
      " | Global Training Round : 9 |\n",
      "\n"
     ]
    },
    {
     "name": "stderr",
     "output_type": "stream",
     "text": [
      "\n",
      "\n",
      "\n",
      "\n",
      " 90%|█████████ | 9/10 [00:24<00:02,  2.75s/it]\u001b[A\u001b[A\u001b[A\u001b[A"
     ]
    },
    {
     "name": "stdout",
     "output_type": "stream",
     "text": [
      "Client 1: predictor loss: 9994.53 | adversary loss 0.55 | Demographic disparity = 0.62\n",
      "Client 2: predictor loss: 8649.27 | adversary loss 0.48 | Demographic disparity = 0.45\n",
      "Client 3: predictor loss: 6439.40 | adversary loss 0.49 | Demographic disparity = 0.50\n",
      " \n",
      "Avg Training Stats after 9 global rounds:\n",
      "Training loss: 59398.97 | Validation accuracy: 14.63% | Validation Demographic disparity: 0.4331\n",
      "\n",
      " | Global Training Round : 10 |\n",
      "\n"
     ]
    },
    {
     "name": "stderr",
     "output_type": "stream",
     "text": [
      "\n",
      "\n",
      "\n",
      "\n",
      "100%|██████████| 10/10 [00:27<00:00,  2.72s/it]\u001b[A\u001b[A\u001b[A\u001b[A"
     ]
    },
    {
     "name": "stdout",
     "output_type": "stream",
     "text": [
      "Client 1: predictor loss: 11683.28 | adversary loss 0.28 | Demographic disparity = 0.62\n",
      "Client 2: predictor loss: 10197.13 | adversary loss 0.25 | Demographic disparity = 0.45\n",
      "Client 3: predictor loss: 7609.94 | adversary loss 0.27 | Demographic disparity = 0.50\n",
      " \n",
      "Avg Training Stats after 10 global rounds:\n",
      "Training loss: 63302.38 | Validation accuracy: 14.63% | Validation Demographic disparity: 0.4331\n",
      " \n",
      " Results after 10 global rounds of training:\n",
      "|---- Avg Train Accuracy: 14.63%\n",
      "|---- Test Accuracy: 11.00%\n",
      "|---- Test Demographic disparity: 0.4818\n",
      "\n",
      " Total Run Time: 27.2061 sec\n"
     ]
    },
    {
     "name": "stderr",
     "output_type": "stream",
     "text": [
      "\n"
     ]
    }
   ],
   "source": [
    "server = Server(logReg(num_features=3, num_classes=2), synthetic_info, train_prn = False, metric = \"Demographic disparity\", seed = 744)\n",
    "server.Unconstrained(num_rounds = 2, local_epochs = 5)\n",
    "server.AdversarialLearning(num_rounds = 10, local_epochs = 30, optimizer = 'adam', epsilon = 0.01, learning_rate = 0.005, alpha = 0.5)"
   ]
  },
  {
   "cell_type": "code",
   "execution_count": null,
   "metadata": {},
   "outputs": [],
   "source": []
  }
 ],
 "metadata": {
  "kernelspec": {
   "display_name": "Python 3",
   "language": "python",
   "name": "python3"
  },
  "language_info": {
   "codemirror_mode": {
    "name": "ipython",
    "version": 3
   },
   "file_extension": ".py",
   "mimetype": "text/x-python",
   "name": "python",
   "nbconvert_exporter": "python",
   "pygments_lexer": "ipython3",
   "version": "3.7.4"
  }
 },
 "nbformat": 4,
 "nbformat_minor": 2
}
