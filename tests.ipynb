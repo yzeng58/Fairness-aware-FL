{
 "cells": [
  {
   "cell_type": "code",
   "execution_count": 1,
   "metadata": {},
   "outputs": [],
   "source": [
    "from sims import *"
   ]
  },
  {
   "cell_type": "code",
   "execution_count": 2,
   "metadata": {},
   "outputs": [
    {
     "name": "stdout",
     "output_type": "stream",
     "text": [
      "|  Simulation : 1 | \n",
      "      seed : 150 -----\n"
     ]
    },
    {
     "name": "stderr",
     "output_type": "stream",
     "text": [
      "100%|██████████| 10/10 [00:50<00:00,  5.07s/it]\n"
     ]
    },
    {
     "name": "stdout",
     "output_type": "stream",
     "text": [
      "      Accuracy: 64.00%  Demographic disparity: 0.08\n",
      "|  Simulation : 2 | \n",
      "      seed : 206 -----\n"
     ]
    },
    {
     "name": "stderr",
     "output_type": "stream",
     "text": [
      "100%|██████████| 10/10 [00:46<00:00,  4.61s/it]\n"
     ]
    },
    {
     "name": "stdout",
     "output_type": "stream",
     "text": [
      "      Accuracy: 80.00%  Demographic disparity: 0.21\n",
      "|  Simulation : 3 | \n",
      "      seed : 255 -----\n"
     ]
    },
    {
     "name": "stderr",
     "output_type": "stream",
     "text": [
      "100%|██████████| 10/10 [00:46<00:00,  4.65s/it]\n"
     ]
    },
    {
     "name": "stdout",
     "output_type": "stream",
     "text": [
      "      Accuracy: 72.00%  Demographic disparity: 0.02\n",
      "|  Simulation : 4 | \n",
      "      seed : 305 -----\n"
     ]
    },
    {
     "name": "stderr",
     "output_type": "stream",
     "text": [
      "100%|██████████| 10/10 [00:46<00:00,  4.63s/it]\n"
     ]
    },
    {
     "name": "stdout",
     "output_type": "stream",
     "text": [
      "      Accuracy: 77.00%  Demographic disparity: 0.33\n",
      "|  Simulation : 5 | \n",
      "      seed : 354 -----\n"
     ]
    },
    {
     "name": "stderr",
     "output_type": "stream",
     "text": [
      "100%|██████████| 10/10 [00:47<00:00,  4.77s/it]\n"
     ]
    },
    {
     "name": "stdout",
     "output_type": "stream",
     "text": [
      "      Accuracy: 64.00%  Demographic disparity: 0.08\n",
      "|  Simulation : 6 | \n",
      "      seed : 405 -----\n"
     ]
    },
    {
     "name": "stderr",
     "output_type": "stream",
     "text": [
      "100%|██████████| 10/10 [00:46<00:00,  4.68s/it]\n"
     ]
    },
    {
     "name": "stdout",
     "output_type": "stream",
     "text": [
      "      Accuracy: 72.00%  Demographic disparity: 0.12\n",
      "|  Simulation : 7 | \n",
      "      seed : 455 -----\n"
     ]
    },
    {
     "name": "stderr",
     "output_type": "stream",
     "text": [
      "100%|██████████| 10/10 [00:33<00:00,  3.35s/it]\n"
     ]
    },
    {
     "name": "stdout",
     "output_type": "stream",
     "text": [
      "      Accuracy: 67.00%  Demographic disparity: 0.21\n",
      "|  Simulation : 8 | \n",
      "      seed : 492 -----\n"
     ]
    },
    {
     "name": "stderr",
     "output_type": "stream",
     "text": [
      "100%|██████████| 10/10 [00:42<00:00,  4.21s/it]\n"
     ]
    },
    {
     "name": "stdout",
     "output_type": "stream",
     "text": [
      "      Accuracy: 76.00%  Demographic disparity: 0.15\n",
      "|  Simulation : 9 | \n",
      "      seed : 536 -----\n"
     ]
    },
    {
     "name": "stderr",
     "output_type": "stream",
     "text": [
      "100%|██████████| 10/10 [00:31<00:00,  3.18s/it]\n"
     ]
    },
    {
     "name": "stdout",
     "output_type": "stream",
     "text": [
      "      Accuracy: 63.00%  Demographic disparity: 0.18\n",
      "|  Simulation : 10 | \n",
      "      seed : 571 -----\n"
     ]
    },
    {
     "name": "stderr",
     "output_type": "stream",
     "text": [
      "100%|██████████| 10/10 [00:32<00:00,  3.24s/it]\n"
     ]
    },
    {
     "name": "stdout",
     "output_type": "stream",
     "text": [
      "      Accuracy: 62.00%  Demographic disparity: 0.04\n",
      "|  Simulation : 11 | \n",
      "      seed : 605 -----\n"
     ]
    },
    {
     "name": "stderr",
     "output_type": "stream",
     "text": [
      "100%|██████████| 10/10 [00:34<00:00,  3.46s/it]\n"
     ]
    },
    {
     "name": "stdout",
     "output_type": "stream",
     "text": [
      "      Accuracy: 60.00%  Demographic disparity: 0.00\n",
      "|  Simulation : 12 | \n",
      "      seed : 642 -----\n"
     ]
    },
    {
     "name": "stderr",
     "output_type": "stream",
     "text": [
      "100%|██████████| 10/10 [00:30<00:00,  3.09s/it]\n"
     ]
    },
    {
     "name": "stdout",
     "output_type": "stream",
     "text": [
      "      Accuracy: 68.00%  Demographic disparity: 0.21\n",
      "|  Simulation : 13 | \n",
      "      seed : 675 -----\n"
     ]
    },
    {
     "name": "stderr",
     "output_type": "stream",
     "text": [
      "100%|██████████| 10/10 [00:32<00:00,  3.20s/it]\n"
     ]
    },
    {
     "name": "stdout",
     "output_type": "stream",
     "text": [
      "      Accuracy: 76.00%  Demographic disparity: 0.19\n",
      "|  Simulation : 14 | \n",
      "      seed : 709 -----\n"
     ]
    },
    {
     "name": "stderr",
     "output_type": "stream",
     "text": [
      "100%|██████████| 10/10 [00:24<00:00,  2.45s/it]\n"
     ]
    },
    {
     "name": "stdout",
     "output_type": "stream",
     "text": [
      "      Accuracy: 81.00%  Demographic disparity: 0.48\n",
      "|  Simulation : 15 | \n",
      "      seed : 736 -----\n"
     ]
    },
    {
     "name": "stderr",
     "output_type": "stream",
     "text": [
      "100%|██████████| 10/10 [00:34<00:00,  3.42s/it]\n"
     ]
    },
    {
     "name": "stdout",
     "output_type": "stream",
     "text": [
      "      Accuracy: 79.00%  Demographic disparity: 0.23\n",
      "|  Simulation : 16 | \n",
      "      seed : 772 -----\n"
     ]
    },
    {
     "name": "stderr",
     "output_type": "stream",
     "text": [
      "100%|██████████| 10/10 [00:36<00:00,  3.70s/it]\n"
     ]
    },
    {
     "name": "stdout",
     "output_type": "stream",
     "text": [
      "      Accuracy: 73.00%  Demographic disparity: 0.21\n",
      "|  Simulation : 17 | \n",
      "      seed : 811 -----\n"
     ]
    },
    {
     "name": "stderr",
     "output_type": "stream",
     "text": [
      "100%|██████████| 10/10 [00:38<00:00,  3.82s/it]\n"
     ]
    },
    {
     "name": "stdout",
     "output_type": "stream",
     "text": [
      "      Accuracy: 65.00%  Demographic disparity: 0.03\n",
      "|  Simulation : 18 | \n",
      "      seed : 851 -----\n"
     ]
    },
    {
     "name": "stderr",
     "output_type": "stream",
     "text": [
      "100%|██████████| 10/10 [00:31<00:00,  3.16s/it]\n"
     ]
    },
    {
     "name": "stdout",
     "output_type": "stream",
     "text": [
      "      Accuracy: 67.00%  Demographic disparity: 0.24\n",
      "|  Simulation : 19 | \n",
      "      seed : 885 -----\n"
     ]
    },
    {
     "name": "stderr",
     "output_type": "stream",
     "text": [
      "100%|██████████| 10/10 [00:29<00:00,  2.91s/it]\n"
     ]
    },
    {
     "name": "stdout",
     "output_type": "stream",
     "text": [
      "      Accuracy: 62.00%  Demographic disparity: 0.08\n",
      "|  Simulation : 20 | \n",
      "      seed : 916 -----\n"
     ]
    },
    {
     "name": "stderr",
     "output_type": "stream",
     "text": [
      "100%|██████████| 10/10 [00:24<00:00,  2.41s/it]"
     ]
    },
    {
     "name": "stdout",
     "output_type": "stream",
     "text": [
      "      Accuracy: 64.00%  Demographic disparity: 0.12\n",
      "| Test Accuracy: 0.696(0.066) | Demographic disparity: 0.161(0.113) |\n",
      "| Time elapsed: 792.24 seconds |\n"
     ]
    },
    {
     "name": "stderr",
     "output_type": "stream",
     "text": [
      "\n"
     ]
    },
    {
     "data": {
      "text/plain": [
       "(0.696, 0.06590902821313632, 0.1605225497554175, 0.11315104332302396)"
      ]
     },
     "execution_count": 2,
     "metadata": {},
     "output_type": "execute_result"
    }
   ],
   "source": [
    "runSim(num_sim = 20, train_samples = 3000, test_samples = 100, learning_rate = 0.0002, num_rounds = 10, \n",
    "          local_epochs = 30, metric = \"Demographic disparity\", option = \"Zafar\", penalty = 500, optimizer = 'adam')"
   ]
  },
  {
   "cell_type": "code",
   "execution_count": 2,
   "metadata": {},
   "outputs": [],
   "source": [
    "synthetic_info = dataGenerate(seed = 7, train_samples = 3000, test_samples = 100)"
   ]
  },
  {
   "cell_type": "code",
   "execution_count": 3,
   "metadata": {},
   "outputs": [
    {
     "name": "stderr",
     "output_type": "stream",
     "text": [
      "\r",
      "  0%|          | 0/1 [00:00<?, ?it/s]"
     ]
    },
    {
     "name": "stdout",
     "output_type": "stream",
     "text": [
      "\n",
      " | Global Training Round : 1 |\n",
      "\n",
      "Client 0: accuracy loss: 19.98 | fairness loss 0.94 | Demographic disparity = 0.56\n"
     ]
    },
    {
     "name": "stderr",
     "output_type": "stream",
     "text": [
      "100%|██████████| 1/1 [00:00<00:00,  4.23it/s]"
     ]
    },
    {
     "name": "stdout",
     "output_type": "stream",
     "text": [
      "Client 1: accuracy loss: 16.05 | fairness loss 1.55 | Demographic disparity = 0.35\n",
      "Client 2: accuracy loss: 11.86 | fairness loss 1.26 | Demographic disparity = 0.33\n",
      " \n",
      "Avg Training Stats after 1 global rounds:\n",
      "Training loss: 243.05 | Validation accuracy: 15.67% | Validation Demographic disparity: 0.3799\n",
      "tensor([ 470.7816, -470.7816])\n",
      "tensor([ 168.0826, -168.0826])\n",
      "tensor([ 80.5182, -80.5182])\n",
      " \n",
      " Results after 1 global rounds of training:\n",
      "|---- Avg Train Accuracy: 15.67%\n",
      "|---- Test Accuracy: 16.00%\n",
      "|---- Test Demographic disparity: 0.4505\n",
      "\n",
      " Total Run Time: 0.3978 sec\n"
     ]
    },
    {
     "name": "stderr",
     "output_type": "stream",
     "text": [
      "\n"
     ]
    }
   ],
   "source": [
    "train(logReg(num_features=3, num_classes=2), synthetic_info,\n",
    "      option = \"threshold adjusting\", optimizer = 'adam', learning_rate = 0.005, metric = \"Demographic disparity\",\n",
    "      num_rounds = 1, local_epochs = 1, alpha = 1, train_prn = False, adaptive_alpha = True, seed = 7)"
   ]
  },
  {
   "cell_type": "code",
   "execution_count": 3,
   "metadata": {},
   "outputs": [
    {
     "name": "stderr",
     "output_type": "stream",
     "text": [
      "\r",
      "  0%|          | 0/10 [00:00<?, ?it/s]"
     ]
    },
    {
     "name": "stdout",
     "output_type": "stream",
     "text": [
      "\n",
      " | Global Training Round : 1 |\n",
      "\n"
     ]
    },
    {
     "name": "stderr",
     "output_type": "stream",
     "text": [
      "\r",
      " 10%|█         | 1/10 [00:02<00:18,  2.10s/it]"
     ]
    },
    {
     "name": "stdout",
     "output_type": "stream",
     "text": [
      "Client 1: accuracy loss: 2.74 | fairness loss 0.86 | Demographic disparity = 0.53\n",
      "Client 2: accuracy loss: 2.54 | fairness loss 1.44 | Demographic disparity = 0.34\n",
      "Client 3: accuracy loss: 2.30 | fairness loss 1.16 | Demographic disparity = 0.32\n",
      " \n",
      "Avg Training Stats after 1 global rounds:\n",
      "Training loss: 37.30 | Training accuracy: 87.55% | Training Demographic disparity: 0.3829\n",
      "\n",
      " | Global Training Round : 2 |\n",
      "\n"
     ]
    },
    {
     "name": "stderr",
     "output_type": "stream",
     "text": [
      "\r",
      " 20%|██        | 2/10 [00:04<00:16,  2.12s/it]"
     ]
    },
    {
     "name": "stdout",
     "output_type": "stream",
     "text": [
      "Client 1: accuracy loss: 2.70 | fairness loss 0.38 | Demographic disparity = 0.32\n",
      "Client 2: accuracy loss: 2.96 | fairness loss 0.65 | Demographic disparity = 0.28\n",
      "Client 3: accuracy loss: 2.59 | fairness loss 0.55 | Demographic disparity = 0.18\n",
      " \n",
      "Avg Training Stats after 2 global rounds:\n",
      "Training loss: 44.05 | Training accuracy: 86.86% | Training Demographic disparity: 0.2455\n",
      "\n",
      " | Global Training Round : 3 |\n",
      "\n"
     ]
    },
    {
     "name": "stderr",
     "output_type": "stream",
     "text": [
      "\r",
      " 30%|███       | 3/10 [00:06<00:15,  2.15s/it]"
     ]
    },
    {
     "name": "stdout",
     "output_type": "stream",
     "text": [
      "Client 1: accuracy loss: 2.87 | fairness loss 0.33 | Demographic disparity = 0.23\n",
      "Client 2: accuracy loss: 3.52 | fairness loss 0.54 | Demographic disparity = 0.18\n",
      "Client 3: accuracy loss: 3.39 | fairness loss 0.51 | Demographic disparity = 0.09\n",
      " \n",
      "Avg Training Stats after 3 global rounds:\n",
      "Training loss: 44.31 | Training accuracy: 82.27% | Training Demographic disparity: 0.1439\n",
      "\n",
      " | Global Training Round : 4 |\n",
      "\n"
     ]
    },
    {
     "name": "stderr",
     "output_type": "stream",
     "text": [
      "\r",
      " 40%|████      | 4/10 [00:09<00:13,  2.26s/it]"
     ]
    },
    {
     "name": "stdout",
     "output_type": "stream",
     "text": [
      "Client 1: accuracy loss: 3.08 | fairness loss 0.33 | Demographic disparity = 0.16\n",
      "Client 2: accuracy loss: 4.18 | fairness loss 0.52 | Demographic disparity = 0.11\n",
      "Client 3: accuracy loss: 4.26 | fairness loss 0.53 | Demographic disparity = 0.03\n",
      " \n",
      "Avg Training Stats after 4 global rounds:\n",
      "Training loss: 43.82 | Training accuracy: 78.75% | Training Demographic disparity: 0.0784\n",
      "\n",
      " | Global Training Round : 5 |\n",
      "\n"
     ]
    },
    {
     "name": "stderr",
     "output_type": "stream",
     "text": [
      "\r",
      " 50%|█████     | 5/10 [00:11<00:11,  2.23s/it]"
     ]
    },
    {
     "name": "stdout",
     "output_type": "stream",
     "text": [
      "Client 1: accuracy loss: 3.29 | fairness loss 0.34 | Demographic disparity = 0.03\n",
      "Client 2: accuracy loss: 4.79 | fairness loss 0.51 | Demographic disparity = 0.05\n",
      "Client 3: accuracy loss: 5.02 | fairness loss 0.55 | Demographic disparity = 0.02\n",
      " \n",
      "Avg Training Stats after 5 global rounds:\n",
      "Training loss: 43.30 | Training accuracy: 74.98% | Training Demographic disparity: 0.0095\n",
      "\n",
      " | Global Training Round : 6 |\n",
      "\n"
     ]
    },
    {
     "name": "stderr",
     "output_type": "stream",
     "text": [
      "\r",
      " 60%|██████    | 6/10 [00:13<00:08,  2.24s/it]"
     ]
    },
    {
     "name": "stdout",
     "output_type": "stream",
     "text": [
      "Client 1: accuracy loss: 3.06 | fairness loss 0.43 | Demographic disparity = 0.13\n",
      "Client 2: accuracy loss: 4.32 | fairness loss 0.65 | Demographic disparity = 0.10\n",
      "Client 3: accuracy loss: 4.57 | fairness loss 0.67 | Demographic disparity = 0.02\n",
      " \n",
      "Avg Training Stats after 6 global rounds:\n",
      "Training loss: 43.16 | Training accuracy: 78.04% | Training Demographic disparity: 0.0653\n",
      "\n",
      " | Global Training Round : 7 |\n",
      "\n"
     ]
    },
    {
     "name": "stderr",
     "output_type": "stream",
     "text": [
      "\r",
      " 70%|███████   | 7/10 [00:15<00:06,  2.27s/it]"
     ]
    },
    {
     "name": "stdout",
     "output_type": "stream",
     "text": [
      "Client 1: accuracy loss: 3.10 | fairness loss 0.42 | Demographic disparity = 0.13\n",
      "Client 2: accuracy loss: 4.40 | fairness loss 0.63 | Demographic disparity = 0.10\n",
      "Client 3: accuracy loss: 4.69 | fairness loss 0.65 | Demographic disparity = 0.02\n",
      " \n",
      "Avg Training Stats after 7 global rounds:\n",
      "Training loss: 43.04 | Training accuracy: 78.04% | Training Demographic disparity: 0.0653\n",
      "\n",
      " | Global Training Round : 8 |\n",
      "\n"
     ]
    },
    {
     "name": "stderr",
     "output_type": "stream",
     "text": [
      "\r",
      " 80%|████████  | 8/10 [00:17<00:04,  2.26s/it]"
     ]
    },
    {
     "name": "stdout",
     "output_type": "stream",
     "text": [
      "Client 1: accuracy loss: 3.51 | fairness loss 0.36 | Demographic disparity = 0.01\n",
      "Client 2: accuracy loss: 5.41 | fairness loss 0.52 | Demographic disparity = 0.02\n",
      "Client 3: accuracy loss: 5.79 | fairness loss 0.59 | Demographic disparity = 0.02\n",
      " \n",
      "Avg Training Stats after 8 global rounds:\n",
      "Training loss: 42.74 | Training accuracy: 74.37% | Training Demographic disparity: 0.0102\n",
      "\n",
      " | Global Training Round : 9 |\n",
      "\n"
     ]
    },
    {
     "name": "stderr",
     "output_type": "stream",
     "text": [
      "\r",
      " 90%|█████████ | 9/10 [00:20<00:02,  2.24s/it]"
     ]
    },
    {
     "name": "stdout",
     "output_type": "stream",
     "text": [
      "Client 1: accuracy loss: 3.21 | fairness loss 0.44 | Demographic disparity = 0.09\n",
      "Client 2: accuracy loss: 4.71 | fairness loss 0.64 | Demographic disparity = 0.07\n",
      "Client 3: accuracy loss: 5.09 | fairness loss 0.68 | Demographic disparity = 0.01\n",
      " \n",
      "Avg Training Stats after 9 global rounds:\n",
      "Training loss: 42.71 | Training accuracy: 76.38% | Training Demographic disparity: 0.0401\n",
      "\n",
      " | Global Training Round : 10 |\n",
      "\n"
     ]
    },
    {
     "name": "stderr",
     "output_type": "stream",
     "text": [
      "100%|██████████| 10/10 [00:22<00:00,  2.27s/it]"
     ]
    },
    {
     "name": "stdout",
     "output_type": "stream",
     "text": [
      "Client 1: accuracy loss: 3.15 | fairness loss 0.45 | Demographic disparity = 0.13\n",
      "Client 2: accuracy loss: 4.60 | fairness loss 0.66 | Demographic disparity = 0.09\n",
      "Client 3: accuracy loss: 4.93 | fairness loss 0.70 | Demographic disparity = 0.01\n",
      " \n",
      "Avg Training Stats after 10 global rounds:\n",
      "Training loss: 42.69 | Training accuracy: 77.32% | Training Demographic disparity: 0.0544\n",
      " \n",
      " Results after 10 global rounds of training:\n",
      "|---- Avg Train Accuracy: 77.32%\n",
      "|---- Test Accuracy: 80.00%\n",
      "|---- Test Demographic disparity: 0.1246\n",
      "\n",
      " Total Run Time: 22.7378 sec\n"
     ]
    },
    {
     "name": "stderr",
     "output_type": "stream",
     "text": [
      "\n"
     ]
    }
   ],
   "source": [
    "train(logReg(num_features=3, num_classes=2), synthetic_info,\n",
    "      option = \"FairBatch\", optimizer = 'adam', learning_rate = 0.005, metric = \"Demographic disparity\",\n",
    "      num_rounds = 10, local_epochs = 30, alpha = 1, train_prn = False, adaptive_alpha = True, seed = 7)"
   ]
  },
  {
   "cell_type": "code",
   "execution_count": 4,
   "metadata": {},
   "outputs": [
    {
     "name": "stderr",
     "output_type": "stream",
     "text": [
      "\r",
      "  0%|          | 0/10 [00:00<?, ?it/s]"
     ]
    },
    {
     "name": "stdout",
     "output_type": "stream",
     "text": [
      "\n",
      " | Global Training Round : 1 |\n",
      "\n"
     ]
    },
    {
     "name": "stderr",
     "output_type": "stream",
     "text": [
      "\r",
      " 10%|█         | 1/10 [00:03<00:28,  3.12s/it]"
     ]
    },
    {
     "name": "stdout",
     "output_type": "stream",
     "text": [
      "Client 0: accuracy loss: 2.67 | fairness loss 0.51 | Demographic disparity = 0.56\n",
      "Client 1: accuracy loss: 2.53 | fairness loss 0.94 | Demographic disparity = 0.36\n",
      "Client 2: accuracy loss: 2.22 | fairness loss 0.78 | Demographic disparity = 0.35\n",
      " \n",
      "Avg Training Stats after 1 global rounds:\n",
      "Training loss: 38.28 | Training accuracy: 87.88% | Training Demographic disparity: 0.4057\n",
      "\n",
      " | Global Training Round : 2 |\n",
      "\n"
     ]
    },
    {
     "name": "stderr",
     "output_type": "stream",
     "text": [
      "\r",
      " 20%|██        | 2/10 [00:05<00:24,  3.05s/it]"
     ]
    },
    {
     "name": "stdout",
     "output_type": "stream",
     "text": [
      "Client 0: accuracy loss: 2.85 | fairness loss 0.36 | Demographic disparity = 0.38\n",
      "Client 1: accuracy loss: 3.00 | fairness loss 0.63 | Demographic disparity = 0.26\n",
      "Client 2: accuracy loss: 2.43 | fairness loss 0.54 | Demographic disparity = 0.25\n",
      " \n",
      "Avg Training Stats after 2 global rounds:\n",
      "Training loss: 45.11 | Training accuracy: 88.36% | Training Demographic disparity: 0.2802\n",
      "\n",
      " | Global Training Round : 3 |\n",
      "\n"
     ]
    },
    {
     "name": "stderr",
     "output_type": "stream",
     "text": [
      "\r",
      " 30%|███       | 3/10 [00:08<00:20,  2.94s/it]"
     ]
    },
    {
     "name": "stdout",
     "output_type": "stream",
     "text": [
      "Client 0: accuracy loss: 2.93 | fairness loss 0.32 | Demographic disparity = 0.29\n",
      "Client 1: accuracy loss: 3.31 | fairness loss 0.58 | Demographic disparity = 0.20\n",
      "Client 2: accuracy loss: 2.94 | fairness loss 0.53 | Demographic disparity = 0.12\n",
      " \n",
      "Avg Training Stats after 3 global rounds:\n",
      "Training loss: 45.50 | Training accuracy: 84.35% | Training Demographic disparity: 0.1786\n",
      "\n",
      " | Global Training Round : 4 |\n",
      "\n"
     ]
    },
    {
     "name": "stderr",
     "output_type": "stream",
     "text": [
      "\r",
      " 40%|████      | 4/10 [00:11<00:17,  2.89s/it]"
     ]
    },
    {
     "name": "stdout",
     "output_type": "stream",
     "text": [
      "Client 0: accuracy loss: 3.07 | fairness loss 0.31 | Demographic disparity = 0.22\n",
      "Client 1: accuracy loss: 3.81 | fairness loss 0.59 | Demographic disparity = 0.12\n",
      "Client 2: accuracy loss: 3.64 | fairness loss 0.55 | Demographic disparity = 0.05\n",
      " \n",
      "Avg Training Stats after 4 global rounds:\n",
      "Training loss: 44.96 | Training accuracy: 80.06% | Training Demographic disparity: 0.1065\n",
      "\n",
      " | Global Training Round : 5 |\n",
      "\n"
     ]
    },
    {
     "name": "stderr",
     "output_type": "stream",
     "text": [
      "\r",
      " 50%|█████     | 5/10 [00:14<00:14,  2.95s/it]"
     ]
    },
    {
     "name": "stdout",
     "output_type": "stream",
     "text": [
      "Client 0: accuracy loss: 3.24 | fairness loss 0.32 | Demographic disparity = 0.06\n",
      "Client 1: accuracy loss: 4.33 | fairness loss 0.61 | Demographic disparity = 0.06\n",
      "Client 2: accuracy loss: 4.33 | fairness loss 0.58 | Demographic disparity = 0.01\n",
      " \n",
      "Avg Training Stats after 5 global rounds:\n",
      "Training loss: 44.35 | Training accuracy: 76.74% | Training Demographic disparity: 0.0410\n",
      "\n",
      " | Global Training Round : 6 |\n",
      "\n"
     ]
    },
    {
     "name": "stderr",
     "output_type": "stream",
     "text": [
      "\r",
      " 60%|██████    | 6/10 [00:17<00:12,  3.09s/it]"
     ]
    },
    {
     "name": "stdout",
     "output_type": "stream",
     "text": [
      "Client 0: accuracy loss: 2.99 | fairness loss 0.39 | Demographic disparity = 0.23\n",
      "Client 1: accuracy loss: 3.79 | fairness loss 0.73 | Demographic disparity = 0.12\n",
      "Client 2: accuracy loss: 3.81 | fairness loss 0.68 | Demographic disparity = 0.04\n",
      " \n",
      "Avg Training Stats after 6 global rounds:\n",
      "Training loss: 44.10 | Training accuracy: 80.02% | Training Demographic disparity: 0.1000\n",
      "\n",
      " | Global Training Round : 7 |\n",
      "\n"
     ]
    },
    {
     "name": "stderr",
     "output_type": "stream",
     "text": [
      "\r",
      " 70%|███████   | 7/10 [00:21<00:09,  3.16s/it]"
     ]
    },
    {
     "name": "stdout",
     "output_type": "stream",
     "text": [
      "Client 0: accuracy loss: 3.08 | fairness loss 0.37 | Demographic disparity = 0.15\n",
      "Client 1: accuracy loss: 4.03 | fairness loss 0.70 | Demographic disparity = 0.11\n",
      "Client 2: accuracy loss: 4.09 | fairness loss 0.66 | Demographic disparity = 0.02\n",
      " \n",
      "Avg Training Stats after 7 global rounds:\n",
      "Training loss: 43.85 | Training accuracy: 78.72% | Training Demographic disparity: 0.0782\n",
      "\n",
      " | Global Training Round : 8 |\n",
      "\n"
     ]
    },
    {
     "name": "stderr",
     "output_type": "stream",
     "text": [
      "\r",
      " 80%|████████  | 8/10 [00:24<00:06,  3.07s/it]"
     ]
    },
    {
     "name": "stdout",
     "output_type": "stream",
     "text": [
      "Client 0: accuracy loss: 3.46 | fairness loss 0.33 | Demographic disparity = 0.02\n",
      "Client 1: accuracy loss: 4.94 | fairness loss 0.63 | Demographic disparity = 0.01\n",
      "Client 2: accuracy loss: 5.11 | fairness loss 0.63 | Demographic disparity = 0.05\n",
      " \n",
      "Avg Training Stats after 8 global rounds:\n",
      "Training loss: 43.49 | Training accuracy: 73.19% | Training Demographic disparity: 0.0137\n",
      "\n",
      " | Global Training Round : 9 |\n",
      "\n"
     ]
    },
    {
     "name": "stderr",
     "output_type": "stream",
     "text": [
      "\r",
      " 90%|█████████ | 9/10 [00:26<00:02,  2.96s/it]"
     ]
    },
    {
     "name": "stdout",
     "output_type": "stream",
     "text": [
      "Client 0: accuracy loss: 3.18 | fairness loss 0.39 | Demographic disparity = 0.15\n",
      "Client 1: accuracy loss: 4.34 | fairness loss 0.74 | Demographic disparity = 0.08\n",
      "Client 2: accuracy loss: 4.48 | fairness loss 0.71 | Demographic disparity = 0.00\n",
      " \n",
      "Avg Training Stats after 9 global rounds:\n",
      "Training loss: 43.37 | Training accuracy: 77.29% | Training Demographic disparity: 0.0585\n",
      "\n",
      " | Global Training Round : 10 |\n",
      "\n"
     ]
    },
    {
     "name": "stderr",
     "output_type": "stream",
     "text": [
      "100%|██████████| 10/10 [00:29<00:00,  2.97s/it]"
     ]
    },
    {
     "name": "stdout",
     "output_type": "stream",
     "text": [
      "Client 0: accuracy loss: 3.23 | fairness loss 0.38 | Demographic disparity = 0.15\n",
      "Client 1: accuracy loss: 4.45 | fairness loss 0.72 | Demographic disparity = 0.06\n",
      "Client 2: accuracy loss: 4.60 | fairness loss 0.69 | Demographic disparity = 0.00\n",
      " \n",
      "Avg Training Stats after 10 global rounds:\n",
      "Training loss: 43.24 | Training accuracy: 76.64% | Training Demographic disparity: 0.0497\n",
      " \n",
      " Results after 11 global rounds of training:\n",
      "|---- Avg Train Accuracy: 76.64%\n",
      "|---- Test Accuracy: 79.00%\n",
      "|---- Test Demographic disparity: 0.1478\n",
      "\n",
      " Total Run Time: 29.7363 sec\n"
     ]
    },
    {
     "name": "stderr",
     "output_type": "stream",
     "text": [
      "\n"
     ]
    }
   ],
   "source": [
    "train(logReg(num_features=3, num_classes=2), synthetic_info,\n",
    "      option = \"FairBatch\", optimizer = 'adam', learning_rate = 0.005, metric = \"Demographic disparity\",\n",
    "      num_rounds = 10, local_epochs = 30, alpha = 1, train_prn = False, adaptive_alpha = True, seed = 7)"
   ]
  },
  {
   "cell_type": "code",
   "execution_count": 5,
   "metadata": {},
   "outputs": [
    {
     "name": "stderr",
     "output_type": "stream",
     "text": [
      "100%|██████████| 10/10 [00:27<00:00,  2.71s/it]\n"
     ]
    },
    {
     "data": {
      "text/plain": [
       "(0.79, 0.1478048780487805)"
      ]
     },
     "execution_count": 5,
     "metadata": {},
     "output_type": "execute_result"
    }
   ],
   "source": [
    "train(logReg(num_features=3, num_classes=2), synthetic_info,\n",
    "      option = \"FairBatch\", optimizer = 'adam', learning_rate = 0.005, metric = \"Demographic disparity\",\n",
    "      num_rounds = 10, local_epochs = 30, alpha = 1, ret = True, adaptive_alpha = True, seed = 7)"
   ]
  },
  {
   "cell_type": "code",
   "execution_count": 6,
   "metadata": {},
   "outputs": [
    {
     "name": "stderr",
     "output_type": "stream",
     "text": [
      "100%|██████████| 10/10 [00:33<00:00,  3.39s/it]\n"
     ]
    },
    {
     "data": {
      "text/plain": [
       "(0.79, 0.1478048780487805)"
      ]
     },
     "execution_count": 6,
     "metadata": {},
     "output_type": "execute_result"
    }
   ],
   "source": [
    "train(logReg(num_features=3, num_classes=2), synthetic_info,\n",
    "      option = \"FairBatch\", optimizer = 'adam', learning_rate = 0.005, metric = \"Demographic disparity\",\n",
    "      num_rounds = 10, local_epochs = 30, alpha = 1, ret = True, adaptive_alpha = True, seed = 7)"
   ]
  },
  {
   "cell_type": "code",
   "execution_count": 7,
   "metadata": {},
   "outputs": [
    {
     "name": "stderr",
     "output_type": "stream",
     "text": [
      "100%|██████████| 10/10 [00:27<00:00,  2.74s/it]\n"
     ]
    },
    {
     "data": {
      "text/plain": [
       "(0.79, 0.1478048780487805)"
      ]
     },
     "execution_count": 7,
     "metadata": {},
     "output_type": "execute_result"
    }
   ],
   "source": [
    "train(logReg(num_features=3, num_classes=2), synthetic_info,\n",
    "      option = \"FairBatch\", optimizer = 'adam', learning_rate = 0.005, metric = \"Demographic disparity\",\n",
    "      num_rounds = 10, local_epochs = 30, alpha = 1, ret = True, adaptive_alpha = True, seed = 7)"
   ]
  },
  {
   "cell_type": "code",
   "execution_count": 8,
   "metadata": {},
   "outputs": [
    {
     "name": "stderr",
     "output_type": "stream",
     "text": [
      "100%|██████████| 10/10 [00:26<00:00,  2.62s/it]\n"
     ]
    },
    {
     "data": {
      "text/plain": [
       "(0.79, 0.1478048780487805)"
      ]
     },
     "execution_count": 8,
     "metadata": {},
     "output_type": "execute_result"
    }
   ],
   "source": [
    "train(logReg(num_features=3, num_classes=2), synthetic_info,\n",
    "      option = \"FairBatch\", optimizer = 'adam', learning_rate = 0.005, metric = \"Demographic disparity\",\n",
    "      num_rounds = 10, local_epochs = 30, alpha = 1, ret = True, adaptive_alpha = True, seed = 7)"
   ]
  },
  {
   "cell_type": "code",
   "execution_count": 4,
   "metadata": {},
   "outputs": [],
   "source": [
    "train_dataset = synthetic_info[0]\n",
    "clients_idx = synthetic_info[2]"
   ]
  },
  {
   "cell_type": "code",
   "execution_count": 12,
   "metadata": {},
   "outputs": [
    {
     "data": {
      "text/plain": [
       "0.6707589285714286"
      ]
     },
     "execution_count": 12,
     "metadata": {},
     "output_type": "execute_result"
    }
   ],
   "source": [
    "np.array(torch.tensor(clients_idx[0][train_dataset.sen[clients_idx[0]] == 1] > 500, dtype = torch.bool)).mean()"
   ]
  },
  {
   "cell_type": "code",
   "execution_count": null,
   "metadata": {},
   "outputs": [],
   "source": [
    "runSim(num_sim = 20, train_samples = 3000, test_samples = 100, learning_rate = 0.002, num_rounds = 10, \n",
    "          local_epochs = 30, metric = \"Demographic disparity\", option = \"Zafar\", penalty = 600, optimizer = 'adam')"
   ]
  }
 ],
 "metadata": {
  "kernelspec": {
   "display_name": "Python 3",
   "language": "python",
   "name": "python3"
  },
  "language_info": {
   "codemirror_mode": {
    "name": "ipython",
    "version": 3
   },
   "file_extension": ".py",
   "mimetype": "text/x-python",
   "name": "python",
   "nbconvert_exporter": "python",
   "pygments_lexer": "ipython3",
   "version": "3.7.4"
  }
 },
 "nbformat": 4,
 "nbformat_minor": 2
}
