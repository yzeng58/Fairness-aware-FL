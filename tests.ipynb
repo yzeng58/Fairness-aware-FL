{
 "cells": [
  {
   "cell_type": "code",
   "execution_count": 1,
   "metadata": {},
   "outputs": [],
   "source": [
    "from Server import *"
   ]
  },
  {
   "cell_type": "code",
   "execution_count": 16,
   "metadata": {
    "scrolled": true
   },
   "outputs": [
    {
     "name": "stderr",
     "output_type": "stream",
     "text": [
      "\n",
      "\n",
      "\n",
      "  0%|          | 0/10 [00:00<?, ?it/s]\u001b[A\u001b[A\u001b[A"
     ]
    },
    {
     "name": "stdout",
     "output_type": "stream",
     "text": [
      "\n",
      " | Global Training Round : 1 |\n",
      "\n"
     ]
    },
    {
     "name": "stderr",
     "output_type": "stream",
     "text": [
      "\n",
      "\n",
      "\n",
      " 10%|█         | 1/10 [00:02<00:20,  2.25s/it]\u001b[A\u001b[A\u001b[A"
     ]
    },
    {
     "name": "stdout",
     "output_type": "stream",
     "text": [
      "Client 1: accuracy loss: 6.31 | fairness loss 45.81 | Demographic disparity = 0.01\n",
      "Client 2: accuracy loss: 6.31 | fairness loss 45.81 | Demographic disparity = 0.01\n",
      "Client 3: accuracy loss: 6.31 | fairness loss 45.81 | Demographic disparity = 0.01\n",
      " \n",
      "Avg Training Stats after 1 global rounds:\n",
      "Training loss: 290.14 | Validation accuracy: 50.00% | Validation Demographic disparity: 0.0085\n",
      "\n",
      " | Global Training Round : 2 |\n",
      "\n"
     ]
    },
    {
     "name": "stderr",
     "output_type": "stream",
     "text": [
      "\n",
      "\n",
      "\n",
      " 20%|██        | 2/10 [00:04<00:18,  2.28s/it]\u001b[A\u001b[A\u001b[A"
     ]
    },
    {
     "name": "stdout",
     "output_type": "stream",
     "text": [
      "Client 1: accuracy loss: 5.42 | fairness loss 9.75 | Demographic disparity = 0.34\n",
      "Client 2: accuracy loss: 5.42 | fairness loss 9.75 | Demographic disparity = 0.34\n",
      "Client 3: accuracy loss: 5.42 | fairness loss 9.75 | Demographic disparity = 0.34\n",
      " \n",
      "Avg Training Stats after 2 global rounds:\n",
      "Training loss: 192.91 | Validation accuracy: 87.25% | Validation Demographic disparity: 0.3418\n",
      "\n",
      " | Global Training Round : 3 |\n",
      "\n"
     ]
    },
    {
     "name": "stderr",
     "output_type": "stream",
     "text": [
      "\n",
      "\n",
      "\n",
      " 30%|███       | 3/10 [00:07<00:16,  2.40s/it]\u001b[A\u001b[A\u001b[A"
     ]
    },
    {
     "name": "stdout",
     "output_type": "stream",
     "text": [
      "Client 1: accuracy loss: 5.63 | fairness loss 5.01 | Demographic disparity = 0.06\n",
      "Client 2: accuracy loss: 5.63 | fairness loss 5.01 | Demographic disparity = 0.06\n",
      "Client 3: accuracy loss: 5.63 | fairness loss 5.01 | Demographic disparity = 0.06\n",
      " \n",
      "Avg Training Stats after 3 global rounds:\n",
      "Training loss: 153.75 | Validation accuracy: 60.78% | Validation Demographic disparity: 0.0562\n",
      "\n",
      " | Global Training Round : 4 |\n",
      "\n"
     ]
    },
    {
     "name": "stderr",
     "output_type": "stream",
     "text": [
      "\n",
      "\n",
      "\n",
      " 40%|████      | 4/10 [00:09<00:14,  2.45s/it]\u001b[A\u001b[A\u001b[A"
     ]
    },
    {
     "name": "stdout",
     "output_type": "stream",
     "text": [
      "Client 1: accuracy loss: 5.74 | fairness loss 3.85 | Demographic disparity = 0.01\n",
      "Client 2: accuracy loss: 5.74 | fairness loss 3.85 | Demographic disparity = 0.01\n",
      "Client 3: accuracy loss: 5.74 | fairness loss 3.85 | Demographic disparity = 0.01\n",
      " \n",
      "Avg Training Stats after 4 global rounds:\n",
      "Training loss: 133.53 | Validation accuracy: 53.92% | Validation Demographic disparity: 0.0098\n",
      "\n",
      " | Global Training Round : 5 |\n",
      "\n"
     ]
    },
    {
     "name": "stderr",
     "output_type": "stream",
     "text": [
      "\n",
      "\n",
      "\n",
      " 50%|█████     | 5/10 [00:12<00:12,  2.56s/it]\u001b[A\u001b[A\u001b[A"
     ]
    },
    {
     "name": "stdout",
     "output_type": "stream",
     "text": [
      "Client 1: accuracy loss: 5.77 | fairness loss 3.63 | Demographic disparity = 0.01\n",
      "Client 2: accuracy loss: 5.77 | fairness loss 3.63 | Demographic disparity = 0.01\n",
      "Client 3: accuracy loss: 5.77 | fairness loss 3.63 | Demographic disparity = 0.01\n",
      " \n",
      "Avg Training Stats after 5 global rounds:\n",
      "Training loss: 121.32 | Validation accuracy: 53.92% | Validation Demographic disparity: 0.0098\n",
      "\n",
      " | Global Training Round : 6 |\n",
      "\n"
     ]
    },
    {
     "name": "stderr",
     "output_type": "stream",
     "text": [
      "\n",
      "\n",
      "\n",
      " 60%|██████    | 6/10 [00:15<00:10,  2.60s/it]\u001b[A\u001b[A\u001b[A"
     ]
    },
    {
     "name": "stdout",
     "output_type": "stream",
     "text": [
      "Client 1: accuracy loss: 5.79 | fairness loss 3.61 | Demographic disparity = 0.01\n",
      "Client 2: accuracy loss: 5.79 | fairness loss 3.61 | Demographic disparity = 0.01\n",
      "Client 3: accuracy loss: 5.79 | fairness loss 3.61 | Demographic disparity = 0.01\n",
      " \n",
      "Avg Training Stats after 6 global rounds:\n",
      "Training loss: 113.19 | Validation accuracy: 53.92% | Validation Demographic disparity: 0.0098\n",
      "\n",
      " | Global Training Round : 7 |\n",
      "\n"
     ]
    },
    {
     "name": "stderr",
     "output_type": "stream",
     "text": [
      "\n",
      "\n",
      "\n",
      " 70%|███████   | 7/10 [00:18<00:08,  2.68s/it]\u001b[A\u001b[A\u001b[A"
     ]
    },
    {
     "name": "stdout",
     "output_type": "stream",
     "text": [
      "Client 1: accuracy loss: 5.79 | fairness loss 3.62 | Demographic disparity = 0.01\n",
      "Client 2: accuracy loss: 5.79 | fairness loss 3.62 | Demographic disparity = 0.01\n",
      "Client 3: accuracy loss: 5.79 | fairness loss 3.62 | Demographic disparity = 0.01\n",
      " \n",
      "Avg Training Stats after 7 global rounds:\n",
      "Training loss: 107.40 | Validation accuracy: 53.92% | Validation Demographic disparity: 0.0098\n",
      "\n",
      " | Global Training Round : 8 |\n",
      "\n"
     ]
    },
    {
     "name": "stderr",
     "output_type": "stream",
     "text": [
      "\n",
      "\n",
      "\n",
      " 80%|████████  | 8/10 [00:21<00:05,  2.74s/it]\u001b[A\u001b[A\u001b[A"
     ]
    },
    {
     "name": "stdout",
     "output_type": "stream",
     "text": [
      "Client 1: accuracy loss: 5.80 | fairness loss 3.62 | Demographic disparity = 0.01\n",
      "Client 2: accuracy loss: 5.80 | fairness loss 3.62 | Demographic disparity = 0.01\n",
      "Client 3: accuracy loss: 5.80 | fairness loss 3.62 | Demographic disparity = 0.01\n",
      " \n",
      "Avg Training Stats after 8 global rounds:\n",
      "Training loss: 103.06 | Validation accuracy: 53.92% | Validation Demographic disparity: 0.0098\n",
      "\n",
      " | Global Training Round : 9 |\n",
      "\n"
     ]
    },
    {
     "name": "stderr",
     "output_type": "stream",
     "text": [
      "\n",
      "\n",
      "\n",
      " 90%|█████████ | 9/10 [00:23<00:02,  2.72s/it]\u001b[A\u001b[A\u001b[A"
     ]
    },
    {
     "name": "stdout",
     "output_type": "stream",
     "text": [
      "Client 1: accuracy loss: 5.80 | fairness loss 3.62 | Demographic disparity = 0.01\n",
      "Client 2: accuracy loss: 5.80 | fairness loss 3.62 | Demographic disparity = 0.01\n",
      "Client 3: accuracy loss: 5.80 | fairness loss 3.62 | Demographic disparity = 0.01\n",
      " \n",
      "Avg Training Stats after 9 global rounds:\n",
      "Training loss: 99.70 | Validation accuracy: 53.92% | Validation Demographic disparity: 0.0098\n",
      "\n",
      " | Global Training Round : 10 |\n",
      "\n"
     ]
    },
    {
     "name": "stderr",
     "output_type": "stream",
     "text": [
      "\n",
      "\n",
      "\n",
      "100%|██████████| 10/10 [00:26<00:00,  2.64s/it]\u001b[A\u001b[A\u001b[A"
     ]
    },
    {
     "name": "stdout",
     "output_type": "stream",
     "text": [
      "Client 1: accuracy loss: 5.80 | fairness loss 3.62 | Demographic disparity = 0.00\n",
      "Client 2: accuracy loss: 5.80 | fairness loss 3.62 | Demographic disparity = 0.00\n",
      "Client 3: accuracy loss: 5.80 | fairness loss 3.62 | Demographic disparity = 0.00\n",
      " \n",
      "Avg Training Stats after 10 global rounds:\n",
      "Training loss: 97.00 | Validation accuracy: 52.94% | Validation Demographic disparity: 0.0000\n",
      " \n",
      " Results after 10 global rounds of training:\n",
      "|---- Avg Train Accuracy: 52.94%\n",
      "|---- Test Accuracy: 60.00%\n",
      "|---- Test Demographic disparity: 0.0000\n",
      "\n",
      " Total Run Time: 26.4084 sec\n"
     ]
    },
    {
     "name": "stderr",
     "output_type": "stream",
     "text": [
      "\n"
     ]
    }
   ],
   "source": [
    "synthetic_info = dataGenerate(seed = 744, test_samples = 100)\n",
    "\n",
    "server = Server(logReg(num_features=3, num_classes=2), synthetic_info, train_prn = False, metric = \"Demographic disparity\", seed = 744)\n",
    "server.Zafar(num_rounds = 10, local_epochs = 30, penalty = 500, optimizer = 'adam', epsilon = None, learning_rate = 0.001)\n"
   ]
  },
  {
   "cell_type": "code",
   "execution_count": null,
   "metadata": {},
   "outputs": [],
   "source": [
    "server = Server(logReg(num_features=3, num_classes=2), synthetic_info, train_prn = False)\n",
    "server.FairBatch(num_rounds = 10, local_epochs = 30)"
   ]
  },
  {
   "cell_type": "code",
   "execution_count": null,
   "metadata": {
    "scrolled": true
   },
   "outputs": [],
   "source": [
    "server = Server(logReg(num_features=3, num_classes=2), synthetic_info, train_prn = False)\n",
    "server.Unconstrained(num_rounds = 2, local_epochs = 5)\n",
    "server.ThresholdAdjust(epsilon = 0.02, learning_rate = 0.6)"
   ]
  },
  {
   "cell_type": "code",
   "execution_count": 13,
   "metadata": {},
   "outputs": [],
   "source": [
    "from FairFedAvg import *"
   ]
  },
  {
   "cell_type": "code",
   "execution_count": null,
   "metadata": {},
   "outputs": [],
   "source": []
  }
 ],
 "metadata": {
  "kernelspec": {
   "display_name": "Python 3",
   "language": "python",
   "name": "python3"
  },
  "language_info": {
   "codemirror_mode": {
    "name": "ipython",
    "version": 3
   },
   "file_extension": ".py",
   "mimetype": "text/x-python",
   "name": "python",
   "nbconvert_exporter": "python",
   "pygments_lexer": "ipython3",
   "version": "3.7.4"
  }
 },
 "nbformat": 4,
 "nbformat_minor": 2
}
