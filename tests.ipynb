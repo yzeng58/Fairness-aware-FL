{
 "cells": [
  {
   "cell_type": "code",
   "execution_count": 1,
   "metadata": {},
   "outputs": [],
   "source": [
    "from Server import *"
   ]
  },
  {
   "cell_type": "code",
   "execution_count": null,
   "metadata": {
    "scrolled": true
   },
   "outputs": [
    {
     "name": "stderr",
     "output_type": "stream",
     "text": [
      "\r",
      "  0%|          | 0/3 [00:00<?, ?it/s]"
     ]
    },
    {
     "name": "stdout",
     "output_type": "stream",
     "text": [
      "\n",
      " | Testing Round : 1 | constraint :  Cov(z, d) < c\n",
      "\n"
     ]
    },
    {
     "name": "stderr",
     "output_type": "stream",
     "text": [
      "\r",
      " 33%|███▎      | 1/3 [00:03<00:06,  3.35s/it]"
     ]
    },
    {
     "name": "stdout",
     "output_type": "stream",
     "text": [
      "Client 1: accuracy loss: 3.54 | fairness loss 76.44 | Demographic disparity = 0.41\n",
      "Client 2: accuracy loss: 2.56 | fairness loss 142.83 | Demographic disparity = 0.25\n",
      "Client 3: accuracy loss: 2.41 | fairness loss 114.04 | Demographic disparity = 0.24\n",
      " \n",
      "Avg Training Stats after 1 Testing rounds:\n",
      "Training loss: -86.92 | Validation accuracy: 82.61% | Validation Demographic disparity: 0.2943\n",
      "\n",
      " | Testing Round : 2 | constraint :  Cov(z, d) < c\n",
      "\n"
     ]
    },
    {
     "name": "stderr",
     "output_type": "stream",
     "text": [
      "\r",
      " 67%|██████▋   | 2/3 [00:06<00:03,  3.35s/it]"
     ]
    },
    {
     "name": "stdout",
     "output_type": "stream",
     "text": [
      "Client 1: accuracy loss: 3.71 | fairness loss 282.62 | Demographic disparity = 0.00\n",
      "Client 2: accuracy loss: 2.64 | fairness loss 532.91 | Demographic disparity = 0.01\n",
      "Client 3: accuracy loss: 2.52 | fairness loss 424.76 | Demographic disparity = 0.01\n",
      " \n",
      "Avg Training Stats after 2 Testing rounds:\n",
      "Training loss: -214.64 | Validation accuracy: 56.10% | Validation Demographic disparity: 0.0010\n",
      "\n",
      " | Testing Round : 3 | constraint :  Cov(z, d) < c\n",
      "\n"
     ]
    },
    {
     "name": "stderr",
     "output_type": "stream",
     "text": [
      "100%|██████████| 3/3 [00:10<00:00,  3.35s/it]\n",
      "  0%|          | 0/3 [00:00<?, ?it/s]"
     ]
    },
    {
     "name": "stdout",
     "output_type": "stream",
     "text": [
      "Client 1: accuracy loss: 3.84 | fairness loss 622.00 | Demographic disparity = 0.10\n",
      "Client 2: accuracy loss: 2.71 | fairness loss 1176.93 | Demographic disparity = 0.10\n",
      "Client 3: accuracy loss: 2.61 | fairness loss 937.55 | Demographic disparity = 0.08\n",
      " \n",
      "Avg Training Stats after 3 Testing rounds:\n",
      "Training loss: -342.63 | Validation accuracy: 46.85% | Validation Demographic disparity: 0.0936\n",
      "\n",
      " | Testing Round : 1 | constraint :  Cov(z, d) > -c\n",
      "\n"
     ]
    },
    {
     "name": "stderr",
     "output_type": "stream",
     "text": [
      "\r",
      " 33%|███▎      | 1/3 [00:04<00:08,  4.23s/it]"
     ]
    },
    {
     "name": "stdout",
     "output_type": "stream",
     "text": [
      "Client 1: accuracy loss: 3.52 | fairness loss 44.17 | Demographic disparity = 0.59\n",
      "Client 2: accuracy loss: 2.96 | fairness loss 87.08 | Demographic disparity = 0.34\n",
      "Client 3: accuracy loss: 2.56 | fairness loss 69.02 | Demographic disparity = 0.34\n",
      " \n",
      "Avg Training Stats after 1 Testing rounds:\n",
      "Training loss: -282.88 | Validation accuracy: 87.43% | Validation Demographic disparity: 0.4018\n",
      "\n",
      " | Testing Round : 2 | constraint :  Cov(z, d) > -c\n",
      "\n"
     ]
    },
    {
     "name": "stderr",
     "output_type": "stream",
     "text": [
      "\r",
      " 67%|██████▋   | 2/3 [00:08<00:04,  4.13s/it]"
     ]
    },
    {
     "name": "stdout",
     "output_type": "stream",
     "text": [
      "Client 1: accuracy loss: 3.96 | fairness loss 202.40 | Demographic disparity = 0.62\n",
      "Client 2: accuracy loss: 3.50 | fairness loss 390.72 | Demographic disparity = 0.35\n",
      "Client 3: accuracy loss: 2.95 | fairness loss 310.39 | Demographic disparity = 0.36\n",
      " \n",
      "Avg Training Stats after 2 Testing rounds:\n",
      "Training loss: -297.49 | Validation accuracy: 86.42% | Validation Demographic disparity: 0.4173\n",
      "\n",
      " | Testing Round : 3 | constraint :  Cov(z, d) > -c\n",
      "\n"
     ]
    },
    {
     "name": "stderr",
     "output_type": "stream",
     "text": [
      "100%|██████████| 3/3 [00:11<00:00,  3.98s/it]\n",
      "  0%|          | 0/10 [00:00<?, ?it/s]"
     ]
    },
    {
     "name": "stdout",
     "output_type": "stream",
     "text": [
      "Client 1: accuracy loss: 4.45 | fairness loss 481.80 | Demographic disparity = 0.62\n",
      "Client 2: accuracy loss: 4.05 | fairness loss 924.43 | Demographic disparity = 0.35\n",
      "Client 3: accuracy loss: 3.37 | fairness loss 734.94 | Demographic disparity = 0.36\n",
      " \n",
      "Avg Training Stats after 3 Testing rounds:\n",
      "Training loss: -349.64 | Validation accuracy: 86.42% | Validation Demographic disparity: 0.4173\n",
      "\n",
      " | Global Round : 1 | constraint :  Cov(z, d) < c\n",
      "\n"
     ]
    },
    {
     "name": "stderr",
     "output_type": "stream",
     "text": [
      "\r",
      " 10%|█         | 1/10 [00:03<00:35,  3.98s/it]"
     ]
    },
    {
     "name": "stdout",
     "output_type": "stream",
     "text": [
      "Client 1: accuracy loss: 3.28 | fairness loss 637.90 | Demographic disparity = 0.06\n",
      "Client 2: accuracy loss: 2.41 | fairness loss 1207.61 | Demographic disparity = 0.07\n",
      "Client 3: accuracy loss: 2.31 | fairness loss 961.92 | Demographic disparity = 0.01\n",
      " \n",
      "Avg Training Stats after 1 global rounds:\n",
      "Training loss: -297.33 | Validation accuracy: 48.90% | Validation Demographic disparity: 0.0243\n",
      "\n",
      " | Global Round : 2 | constraint :  Cov(z, d) < c\n",
      "\n"
     ]
    },
    {
     "name": "stderr",
     "output_type": "stream",
     "text": [
      "\r",
      " 20%|██        | 2/10 [00:07<00:31,  3.99s/it]"
     ]
    },
    {
     "name": "stdout",
     "output_type": "stream",
     "text": [
      "Client 1: accuracy loss: 3.27 | fairness loss 661.60 | Demographic disparity = 0.05\n",
      "Client 2: accuracy loss: 2.43 | fairness loss 1252.89 | Demographic disparity = 0.08\n",
      "Client 3: accuracy loss: 2.30 | fairness loss 997.93 | Demographic disparity = 0.01\n",
      " \n",
      "Avg Training Stats after 2 global rounds:\n",
      "Training loss: -258.19 | Validation accuracy: 49.51% | Validation Demographic disparity: 0.0309\n",
      "\n",
      " | Global Round : 3 | constraint :  Cov(z, d) < c\n",
      "\n"
     ]
    },
    {
     "name": "stderr",
     "output_type": "stream",
     "text": [
      "\r",
      " 30%|███       | 3/10 [00:12<00:28,  4.10s/it]"
     ]
    },
    {
     "name": "stdout",
     "output_type": "stream",
     "text": [
      "Client 1: accuracy loss: 3.27 | fairness loss 685.76 | Demographic disparity = 0.05\n",
      "Client 2: accuracy loss: 2.44 | fairness loss 1299.07 | Demographic disparity = 0.08\n",
      "Client 3: accuracy loss: 2.29 | fairness loss 1034.65 | Demographic disparity = 0.01\n",
      " \n",
      "Avg Training Stats after 3 global rounds:\n",
      "Training loss: -227.78 | Validation accuracy: 49.51% | Validation Demographic disparity: 0.0309\n",
      "\n",
      " | Global Round : 4 | constraint :  Cov(z, d) < c\n",
      "\n"
     ]
    },
    {
     "name": "stderr",
     "output_type": "stream",
     "text": [
      "\r",
      " 40%|████      | 4/10 [00:16<00:24,  4.01s/it]"
     ]
    },
    {
     "name": "stdout",
     "output_type": "stream",
     "text": [
      "Client 1: accuracy loss: 3.27 | fairness loss 710.38 | Demographic disparity = 0.06\n",
      "Client 2: accuracy loss: 2.44 | fairness loss 1346.14 | Demographic disparity = 0.09\n",
      "Client 3: accuracy loss: 2.29 | fairness loss 1072.08 | Demographic disparity = 0.01\n",
      " \n",
      "Avg Training Stats after 4 global rounds:\n",
      "Training loss: -203.50 | Validation accuracy: 48.90% | Validation Demographic disparity: 0.0309\n",
      "\n",
      " | Global Round : 5 | constraint :  Cov(z, d) < c\n",
      "\n"
     ]
    }
   ],
   "source": [
    "seed = 95\n",
    "synthetic_info = dataGenerate(seed = seed, test_samples = 100)\n",
    "server = Server(logReg(num_features=3, num_classes=2, seed = seed), synthetic_info, train_prn = False, metric = \"Demographic disparity\", seed = seed)\n",
    "server.Zafar(test_rounds = 2, test_lr = 0.005, test_penalty = 80, num_rounds = 10, local_epochs = 50, optimizer = 'adam', learning_rate = 0.002, penalty = 2)\n"
   ]
  },
  {
   "cell_type": "code",
   "execution_count": 5,
   "metadata": {
    "scrolled": true
   },
   "outputs": [
    {
     "name": "stderr",
     "output_type": "stream",
     "text": [
      "\r",
      "  0%|          | 0/10 [00:00<?, ?it/s]"
     ]
    },
    {
     "name": "stdout",
     "output_type": "stream",
     "text": [
      "\n",
      " | Global Training Round : 1 |\n",
      "\n"
     ]
    },
    {
     "name": "stderr",
     "output_type": "stream",
     "text": [
      "\r",
      " 10%|█         | 1/10 [00:02<00:22,  2.52s/it]"
     ]
    },
    {
     "name": "stdout",
     "output_type": "stream",
     "text": [
      "Client 1: accuracy loss: 3.86 | fairness loss 180.84 | Demographic disparity = 0.41\n",
      "Client 2: accuracy loss: 2.79 | fairness loss 367.89 | Demographic disparity = 0.30\n",
      "Client 3: accuracy loss: 2.65 | fairness loss 296.39 | Demographic disparity = 0.29\n",
      " \n",
      "Avg Training Stats after 1 global rounds:\n",
      "Training loss: 0.35 | Validation accuracy: 86.42% | Validation Demographic disparity: 0.3241\n",
      "\n",
      " | Global Training Round : 2 |\n",
      "\n"
     ]
    },
    {
     "name": "stderr",
     "output_type": "stream",
     "text": [
      "\r",
      " 20%|██        | 2/10 [00:05<00:20,  2.52s/it]"
     ]
    },
    {
     "name": "stdout",
     "output_type": "stream",
     "text": [
      "Client 1: accuracy loss: 4.27 | fairness loss 94.97 | Demographic disparity = 0.32\n",
      "Client 2: accuracy loss: 3.01 | fairness loss 219.34 | Demographic disparity = 0.25\n",
      "Client 3: accuracy loss: 2.96 | fairness loss 177.22 | Demographic disparity = 0.23\n",
      " \n",
      "Avg Training Stats after 2 global rounds:\n",
      "Training loss: 0.37 | Validation accuracy: 84.04% | Validation Demographic disparity: 0.2577\n",
      "\n",
      " | Global Training Round : 3 |\n",
      "\n"
     ]
    },
    {
     "name": "stderr",
     "output_type": "stream",
     "text": [
      "\r",
      " 30%|███       | 3/10 [00:07<00:17,  2.49s/it]"
     ]
    },
    {
     "name": "stdout",
     "output_type": "stream",
     "text": [
      "Client 1: accuracy loss: 4.68 | fairness loss 56.11 | Demographic disparity = 0.21\n",
      "Client 2: accuracy loss: 3.29 | fairness loss 145.61 | Demographic disparity = 0.21\n",
      "Client 3: accuracy loss: 3.29 | fairness loss 120.37 | Demographic disparity = 0.19\n",
      " \n",
      "Avg Training Stats after 3 global rounds:\n",
      "Training loss: 0.37 | Validation accuracy: 82.74% | Validation Demographic disparity: 0.1984\n",
      "\n",
      " | Global Training Round : 4 |\n",
      "\n"
     ]
    },
    {
     "name": "stderr",
     "output_type": "stream",
     "text": [
      "\r",
      " 40%|████      | 4/10 [00:09<00:14,  2.48s/it]"
     ]
    },
    {
     "name": "stdout",
     "output_type": "stream",
     "text": [
      "Client 1: accuracy loss: 5.06 | fairness loss 38.82 | Demographic disparity = 0.13\n",
      "Client 2: accuracy loss: 3.58 | fairness loss 107.60 | Demographic disparity = 0.20\n",
      "Client 3: accuracy loss: 3.60 | fairness loss 92.64 | Demographic disparity = 0.16\n",
      " \n",
      "Avg Training Stats after 4 global rounds:\n",
      "Training loss: 0.37 | Validation accuracy: 80.87% | Validation Demographic disparity: 0.1608\n",
      "\n",
      " | Global Training Round : 5 |\n",
      "\n"
     ]
    },
    {
     "name": "stderr",
     "output_type": "stream",
     "text": [
      "\r",
      " 50%|█████     | 5/10 [00:12<00:12,  2.43s/it]"
     ]
    },
    {
     "name": "stdout",
     "output_type": "stream",
     "text": [
      "Client 1: accuracy loss: 5.35 | fairness loss 31.83 | Demographic disparity = 0.11\n",
      "Client 2: accuracy loss: 3.80 | fairness loss 88.93 | Demographic disparity = 0.18\n",
      "Client 3: accuracy loss: 3.83 | fairness loss 79.99 | Demographic disparity = 0.09\n",
      " \n",
      "Avg Training Stats after 5 global rounds:\n",
      "Training loss: 0.37 | Validation accuracy: 79.25% | Validation Demographic disparity: 0.1254\n",
      "\n",
      " | Global Training Round : 6 |\n",
      "\n"
     ]
    },
    {
     "name": "stderr",
     "output_type": "stream",
     "text": [
      "\r",
      " 60%|██████    | 6/10 [00:14<00:09,  2.38s/it]"
     ]
    },
    {
     "name": "stdout",
     "output_type": "stream",
     "text": [
      "Client 1: accuracy loss: 5.57 | fairness loss 28.95 | Demographic disparity = 0.03\n",
      "Client 2: accuracy loss: 3.98 | fairness loss 78.69 | Demographic disparity = 0.14\n",
      "Client 3: accuracy loss: 4.01 | fairness loss 73.61 | Demographic disparity = 0.08\n",
      " \n",
      "Avg Training Stats after 6 global rounds:\n",
      "Training loss: 0.37 | Validation accuracy: 76.68% | Validation Demographic disparity: 0.0897\n",
      "\n",
      " | Global Training Round : 7 |\n",
      "\n"
     ]
    },
    {
     "name": "stderr",
     "output_type": "stream",
     "text": [
      "\r",
      " 70%|███████   | 7/10 [00:16<00:07,  2.40s/it]"
     ]
    },
    {
     "name": "stdout",
     "output_type": "stream",
     "text": [
      "Client 1: accuracy loss: 5.73 | fairness loss 27.86 | Demographic disparity = 0.01\n",
      "Client 2: accuracy loss: 4.11 | fairness loss 72.96 | Demographic disparity = 0.12\n",
      "Client 3: accuracy loss: 4.14 | fairness loss 70.36 | Demographic disparity = 0.06\n",
      " \n",
      "Avg Training Stats after 7 global rounds:\n",
      "Training loss: 0.37 | Validation accuracy: 74.94% | Validation Demographic disparity: 0.0609\n",
      "\n",
      " | Global Training Round : 8 |\n",
      "\n"
     ]
    },
    {
     "name": "stderr",
     "output_type": "stream",
     "text": [
      "\r",
      " 80%|████████  | 8/10 [00:19<00:04,  2.39s/it]"
     ]
    },
    {
     "name": "stdout",
     "output_type": "stream",
     "text": [
      "Client 1: accuracy loss: 5.83 | fairness loss 27.54 | Demographic disparity = 0.03\n",
      "Client 2: accuracy loss: 4.20 | fairness loss 69.89 | Demographic disparity = 0.09\n",
      "Client 3: accuracy loss: 4.23 | fairness loss 68.81 | Demographic disparity = 0.04\n",
      " \n",
      "Avg Training Stats after 8 global rounds:\n",
      "Training loss: 0.36 | Validation accuracy: 73.93% | Validation Demographic disparity: 0.0388\n",
      "\n",
      " | Global Training Round : 9 |\n",
      "\n"
     ]
    },
    {
     "name": "stderr",
     "output_type": "stream",
     "text": [
      "\r",
      " 90%|█████████ | 9/10 [00:21<00:02,  2.42s/it]"
     ]
    },
    {
     "name": "stdout",
     "output_type": "stream",
     "text": [
      "Client 1: accuracy loss: 5.90 | fairness loss 27.49 | Demographic disparity = 0.04\n",
      "Client 2: accuracy loss: 4.25 | fairness loss 68.19 | Demographic disparity = 0.09\n",
      "Client 3: accuracy loss: 4.28 | fairness loss 68.04 | Demographic disparity = 0.04\n",
      " \n",
      "Avg Training Stats after 9 global rounds:\n",
      "Training loss: 0.36 | Validation accuracy: 73.64% | Validation Demographic disparity: 0.0355\n",
      "\n",
      " | Global Training Round : 10 |\n",
      "\n"
     ]
    },
    {
     "name": "stderr",
     "output_type": "stream",
     "text": [
      "100%|██████████| 10/10 [00:24<00:00,  2.41s/it]"
     ]
    },
    {
     "name": "stdout",
     "output_type": "stream",
     "text": [
      "Client 1: accuracy loss: 5.95 | fairness loss 27.52 | Demographic disparity = 0.04\n",
      "Client 2: accuracy loss: 4.29 | fairness loss 67.23 | Demographic disparity = 0.09\n",
      "Client 3: accuracy loss: 4.32 | fairness loss 67.65 | Demographic disparity = 0.04\n",
      " \n",
      "Avg Training Stats after 10 global rounds:\n",
      "Training loss: 0.36 | Validation accuracy: 73.64% | Validation Demographic disparity: 0.0355\n",
      " \n",
      " Results after 10 global rounds of training:\n",
      "|---- Avg Train Accuracy: 73.64%\n",
      "|---- Test Accuracy: 68.00%\n",
      "|---- Test Demographic disparity: 0.0367\n",
      "\n",
      " Total Run Time: 24.1051 sec\n"
     ]
    },
    {
     "name": "stderr",
     "output_type": "stream",
     "text": [
      "\n"
     ]
    }
   ],
   "source": [
    "seed = 95\n",
    "synthetic_info = dataGenerate(seed = seed, test_samples = 100)\n",
    "server = Server(logReg(num_features=3, num_classes=2, seed = seed), synthetic_info, train_prn = False, metric = \"Demographic disparity\", seed = seed)\n",
    "server.newBC(num_rounds = 10, local_epochs = 30, optimizer = 'adam', epsilon = None, learning_rate = 0.005, alpha = 2)\n",
    "\n"
   ]
  },
  {
   "cell_type": "code",
   "execution_count": 6,
   "metadata": {
    "scrolled": true
   },
   "outputs": [
    {
     "name": "stderr",
     "output_type": "stream",
     "text": [
      "\r",
      "  0%|          | 0/10 [00:00<?, ?it/s]"
     ]
    },
    {
     "name": "stdout",
     "output_type": "stream",
     "text": [
      "\n",
      " | Global Training Round : 1 |\n",
      "\n"
     ]
    },
    {
     "name": "stderr",
     "output_type": "stream",
     "text": [
      "\r",
      " 10%|█         | 1/10 [00:02<00:21,  2.34s/it]"
     ]
    },
    {
     "name": "stdout",
     "output_type": "stream",
     "text": [
      "Client 1: accuracy loss: 3.47 | fairness loss 280.26 | Demographic disparity = 0.60\n",
      "Client 2: accuracy loss: 3.30 | fairness loss 304.14 | Demographic disparity = 0.44\n",
      "Client 3: accuracy loss: 2.79 | fairness loss 350.46 | Demographic disparity = 0.46\n",
      " \n",
      "Avg Training Stats after 1 global rounds:\n",
      "Training loss: 0.38 | Validation accuracy: 87.29% | Validation Demographic disparity: 0.4539\n",
      "\n",
      " | Global Training Round : 2 |\n",
      "\n"
     ]
    },
    {
     "name": "stderr",
     "output_type": "stream",
     "text": [
      "\r",
      " 20%|██        | 2/10 [00:04<00:19,  2.38s/it]"
     ]
    },
    {
     "name": "stdout",
     "output_type": "stream",
     "text": [
      "Client 1: accuracy loss: 3.40 | fairness loss 203.87 | Demographic disparity = 0.48\n",
      "Client 2: accuracy loss: 3.13 | fairness loss 227.80 | Demographic disparity = 0.37\n",
      "Client 3: accuracy loss: 2.91 | fairness loss 274.95 | Demographic disparity = 0.34\n",
      " \n",
      "Avg Training Stats after 2 global rounds:\n",
      "Training loss: 0.36 | Validation accuracy: 86.36% | Validation Demographic disparity: 0.3498\n",
      "\n",
      " | Global Training Round : 3 |\n",
      "\n"
     ]
    },
    {
     "name": "stderr",
     "output_type": "stream",
     "text": [
      "\r",
      " 30%|███       | 3/10 [00:07<00:17,  2.44s/it]"
     ]
    },
    {
     "name": "stdout",
     "output_type": "stream",
     "text": [
      "Client 1: accuracy loss: 3.79 | fairness loss 124.79 | Demographic disparity = 0.43\n",
      "Client 2: accuracy loss: 3.43 | fairness loss 149.70 | Demographic disparity = 0.32\n",
      "Client 3: accuracy loss: 3.23 | fairness loss 185.14 | Demographic disparity = 0.27\n",
      " \n",
      "Avg Training Stats after 3 global rounds:\n",
      "Training loss: 0.37 | Validation accuracy: 85.26% | Validation Demographic disparity: 0.2985\n",
      "\n",
      " | Global Training Round : 4 |\n",
      "\n"
     ]
    },
    {
     "name": "stderr",
     "output_type": "stream",
     "text": [
      "\r",
      " 40%|████      | 4/10 [00:09<00:14,  2.47s/it]"
     ]
    },
    {
     "name": "stdout",
     "output_type": "stream",
     "text": [
      "Client 1: accuracy loss: 4.21 | fairness loss 84.35 | Demographic disparity = 0.33\n",
      "Client 2: accuracy loss: 3.77 | fairness loss 110.05 | Demographic disparity = 0.25\n",
      "Client 3: accuracy loss: 3.56 | fairness loss 138.66 | Demographic disparity = 0.20\n",
      " \n",
      "Avg Training Stats after 4 global rounds:\n",
      "Training loss: 0.37 | Validation accuracy: 83.05% | Validation Demographic disparity: 0.2324\n",
      "\n",
      " | Global Training Round : 5 |\n",
      "\n"
     ]
    },
    {
     "name": "stderr",
     "output_type": "stream",
     "text": [
      "\r",
      " 50%|█████     | 5/10 [00:12<00:12,  2.47s/it]"
     ]
    },
    {
     "name": "stdout",
     "output_type": "stream",
     "text": [
      "Client 1: accuracy loss: 4.59 | fairness loss 62.95 | Demographic disparity = 0.24\n",
      "Client 2: accuracy loss: 4.10 | fairness loss 89.02 | Demographic disparity = 0.20\n",
      "Client 3: accuracy loss: 3.86 | fairness loss 113.25 | Demographic disparity = 0.17\n",
      " \n",
      "Avg Training Stats after 5 global rounds:\n",
      "Training loss: 0.37 | Validation accuracy: 80.15% | Validation Demographic disparity: 0.1877\n",
      "\n",
      " | Global Training Round : 6 |\n",
      "\n"
     ]
    },
    {
     "name": "stderr",
     "output_type": "stream",
     "text": [
      "\r",
      " 60%|██████    | 6/10 [00:14<00:09,  2.46s/it]"
     ]
    },
    {
     "name": "stdout",
     "output_type": "stream",
     "text": [
      "Client 1: accuracy loss: 4.92 | fairness loss 51.85 | Demographic disparity = 0.20\n",
      "Client 2: accuracy loss: 4.39 | fairness loss 78.12 | Demographic disparity = 0.15\n",
      "Client 3: accuracy loss: 4.11 | fairness loss 99.51 | Demographic disparity = 0.13\n",
      " \n",
      "Avg Training Stats after 6 global rounds:\n",
      "Training loss: 0.36 | Validation accuracy: 77.42% | Validation Demographic disparity: 0.1480\n",
      "\n",
      " | Global Training Round : 7 |\n",
      "\n"
     ]
    },
    {
     "name": "stderr",
     "output_type": "stream",
     "text": [
      "\r",
      " 70%|███████   | 7/10 [00:17<00:07,  2.48s/it]"
     ]
    },
    {
     "name": "stdout",
     "output_type": "stream",
     "text": [
      "Client 1: accuracy loss: 5.18 | fairness loss 45.99 | Demographic disparity = 0.14\n",
      "Client 2: accuracy loss: 4.63 | fairness loss 72.35 | Demographic disparity = 0.13\n",
      "Client 3: accuracy loss: 4.31 | fairness loss 91.82 | Demographic disparity = 0.10\n",
      " \n",
      "Avg Training Stats after 7 global rounds:\n",
      "Training loss: 0.36 | Validation accuracy: 75.60% | Validation Demographic disparity: 0.1166\n",
      "\n",
      " | Global Training Round : 8 |\n",
      "\n"
     ]
    },
    {
     "name": "stderr",
     "output_type": "stream",
     "text": [
      "\r",
      " 80%|████████  | 8/10 [00:19<00:04,  2.46s/it]"
     ]
    },
    {
     "name": "stdout",
     "output_type": "stream",
     "text": [
      "Client 1: accuracy loss: 5.39 | fairness loss 42.82 | Demographic disparity = 0.12\n",
      "Client 2: accuracy loss: 4.82 | fairness loss 69.20 | Demographic disparity = 0.05\n",
      "Client 3: accuracy loss: 4.47 | fairness loss 87.34 | Demographic disparity = 0.10\n",
      " \n",
      "Avg Training Stats after 8 global rounds:\n",
      "Training loss: 0.35 | Validation accuracy: 73.05% | Validation Demographic disparity: 0.0753\n",
      "\n",
      " | Global Training Round : 9 |\n",
      "\n"
     ]
    },
    {
     "name": "stderr",
     "output_type": "stream",
     "text": [
      "\r",
      " 90%|█████████ | 9/10 [00:22<00:02,  2.44s/it]"
     ]
    },
    {
     "name": "stdout",
     "output_type": "stream",
     "text": [
      "Client 1: accuracy loss: 5.53 | fairness loss 41.23 | Demographic disparity = 0.11\n",
      "Client 2: accuracy loss: 4.95 | fairness loss 67.69 | Demographic disparity = 0.03\n",
      "Client 3: accuracy loss: 4.58 | fairness loss 84.99 | Demographic disparity = 0.09\n",
      " \n",
      "Avg Training Stats after 9 global rounds:\n",
      "Training loss: 0.35 | Validation accuracy: 72.30% | Validation Demographic disparity: 0.0604\n",
      "\n",
      " | Global Training Round : 10 |\n",
      "\n"
     ]
    },
    {
     "name": "stderr",
     "output_type": "stream",
     "text": [
      "100%|██████████| 10/10 [00:24<00:00,  2.45s/it]"
     ]
    },
    {
     "name": "stdout",
     "output_type": "stream",
     "text": [
      "Client 1: accuracy loss: 5.64 | fairness loss 40.34 | Demographic disparity = 0.06\n",
      "Client 2: accuracy loss: 5.05 | fairness loss 66.82 | Demographic disparity = 0.03\n",
      "Client 3: accuracy loss: 4.66 | fairness loss 83.54 | Demographic disparity = 0.04\n",
      " \n",
      "Avg Training Stats after 10 global rounds:\n",
      "Training loss: 0.34 | Validation accuracy: 69.85% | Validation Demographic disparity: 0.0307\n",
      " \n",
      " Results after 10 global rounds of training:\n",
      "|---- Avg Train Accuracy: 69.85%\n",
      "|---- Test Accuracy: 80.00%\n",
      "|---- Test Demographic disparity: 0.1337\n",
      "\n",
      " Total Run Time: 24.5471 sec\n"
     ]
    },
    {
     "name": "stderr",
     "output_type": "stream",
     "text": [
      "\n"
     ]
    }
   ],
   "source": [
    "seed = 812\n",
    "synthetic_info = dataGenerate(seed = seed, test_samples = 100)\n",
    "server = Server(logReg(num_features=3, num_classes=2, seed = seed), synthetic_info, train_prn = False, metric = \"Demographic disparity\", seed = seed)\n",
    "server.newBC(num_rounds = 10, local_epochs = 30, optimizer = 'adam', epsilon = None, learning_rate = 0.005, alpha = 2)\n",
    "\n"
   ]
  },
  {
   "cell_type": "code",
   "execution_count": 2,
   "metadata": {
    "scrolled": true
   },
   "outputs": [
    {
     "name": "stderr",
     "output_type": "stream",
     "text": [
      "\r",
      "  0%|          | 0/10 [00:00<?, ?it/s]"
     ]
    },
    {
     "name": "stdout",
     "output_type": "stream",
     "text": [
      "\n",
      " | Global Training Round : 1 |\n",
      "\n",
      "tensor([ 2.3939, -1.4466], dtype=torch.float64)\n"
     ]
    },
    {
     "name": "stderr",
     "output_type": "stream",
     "text": [
      "\r",
      " 10%|█         | 1/10 [00:02<00:21,  2.42s/it]"
     ]
    },
    {
     "name": "stdout",
     "output_type": "stream",
     "text": [
      "Client 1: accuracy loss: 4.43 | fairness loss 125.39 | Demographic disparity = 0.39\n",
      "Client 2: accuracy loss: 3.42 | fairness loss 237.82 | Demographic disparity = 0.26\n",
      "Client 3: accuracy loss: 3.02 | fairness loss 195.94 | Demographic disparity = 0.24\n",
      " \n",
      "Avg Training Stats after 1 global rounds:\n",
      "Training loss: 0.48 | Validation accuracy: 84.31% | Validation Demographic disparity: 0.2846\n",
      "\n",
      " | Global Training Round : 2 |\n",
      "\n",
      "tensor([ 3.3627, -2.0320], dtype=torch.float64)\n"
     ]
    },
    {
     "name": "stderr",
     "output_type": "stream",
     "text": [
      "\r",
      " 20%|██        | 2/10 [00:04<00:19,  2.43s/it]"
     ]
    },
    {
     "name": "stdout",
     "output_type": "stream",
     "text": [
      "Client 1: accuracy loss: 5.42 | fairness loss 45.82 | Demographic disparity = 0.12\n",
      "Client 2: accuracy loss: 4.37 | fairness loss 88.25 | Demographic disparity = 0.18\n",
      "Client 3: accuracy loss: 3.77 | fairness loss 75.22 | Demographic disparity = 0.18\n",
      " \n",
      "Avg Training Stats after 2 global rounds:\n",
      "Training loss: 0.47 | Validation accuracy: 79.14% | Validation Demographic disparity: 0.1656\n",
      "\n",
      " | Global Training Round : 3 |\n",
      "\n",
      "tensor([ 3.7642, -2.2746], dtype=torch.float64)\n"
     ]
    },
    {
     "name": "stderr",
     "output_type": "stream",
     "text": [
      "\r",
      " 30%|███       | 3/10 [00:07<00:16,  2.40s/it]"
     ]
    },
    {
     "name": "stdout",
     "output_type": "stream",
     "text": [
      "Client 1: accuracy loss: 5.83 | fairness loss 23.19 | Demographic disparity = 0.08\n",
      "Client 2: accuracy loss: 4.74 | fairness loss 47.30 | Demographic disparity = 0.12\n",
      "Client 3: accuracy loss: 4.07 | fairness loss 42.05 | Demographic disparity = 0.13\n",
      " \n",
      "Avg Training Stats after 3 global rounds:\n",
      "Training loss: 0.47 | Validation accuracy: 75.75% | Validation Demographic disparity: 0.1044\n",
      "\n",
      " | Global Training Round : 4 |\n",
      "\n",
      "tensor([ 3.9925, -2.4126], dtype=torch.float64)\n"
     ]
    },
    {
     "name": "stderr",
     "output_type": "stream",
     "text": [
      "\r",
      " 40%|████      | 4/10 [00:09<00:14,  2.42s/it]"
     ]
    },
    {
     "name": "stdout",
     "output_type": "stream",
     "text": [
      "Client 1: accuracy loss: 6.05 | fairness loss 15.08 | Demographic disparity = 0.06\n",
      "Client 2: accuracy loss: 4.94 | fairness loss 32.02 | Demographic disparity = 0.11\n",
      "Client 3: accuracy loss: 4.23 | fairness loss 29.87 | Demographic disparity = 0.11\n",
      " \n",
      "Avg Training Stats after 4 global rounds:\n",
      "Training loss: 0.47 | Validation accuracy: 74.90% | Validation Demographic disparity: 0.0808\n",
      "\n",
      " | Global Training Round : 5 |\n",
      "\n",
      "tensor([ 4.1327, -2.4973], dtype=torch.float64)\n"
     ]
    },
    {
     "name": "stderr",
     "output_type": "stream",
     "text": [
      "\r",
      " 50%|█████     | 5/10 [00:12<00:12,  2.41s/it]"
     ]
    },
    {
     "name": "stdout",
     "output_type": "stream",
     "text": [
      "Client 1: accuracy loss: 6.19 | fairness loss 12.07 | Demographic disparity = 0.02\n",
      "Client 2: accuracy loss: 5.06 | fairness loss 25.81 | Demographic disparity = 0.09\n",
      "Client 3: accuracy loss: 4.34 | fairness loss 25.06 | Demographic disparity = 0.08\n",
      " \n",
      "Avg Training Stats after 5 global rounds:\n",
      "Training loss: 0.46 | Validation accuracy: 74.25% | Validation Demographic disparity: 0.0554\n",
      "\n",
      " | Global Training Round : 6 |\n",
      "\n",
      "tensor([ 4.2206, -2.5504], dtype=torch.float64)\n"
     ]
    },
    {
     "name": "stderr",
     "output_type": "stream",
     "text": [
      "\r",
      " 60%|██████    | 6/10 [00:14<00:09,  2.36s/it]"
     ]
    },
    {
     "name": "stdout",
     "output_type": "stream",
     "text": [
      "Client 1: accuracy loss: 6.28 | fairness loss 10.95 | Demographic disparity = 0.01\n",
      "Client 2: accuracy loss: 5.14 | fairness loss 23.12 | Demographic disparity = 0.07\n",
      "Client 3: accuracy loss: 4.40 | fairness loss 23.06 | Demographic disparity = 0.07\n",
      " \n",
      "Avg Training Stats after 6 global rounds:\n",
      "Training loss: 0.46 | Validation accuracy: 72.91% | Validation Demographic disparity: 0.0403\n",
      "\n",
      " | Global Training Round : 7 |\n",
      "\n",
      "tensor([ 4.2763, -2.5841], dtype=torch.float64)\n"
     ]
    },
    {
     "name": "stderr",
     "output_type": "stream",
     "text": [
      "\r",
      " 70%|███████   | 7/10 [00:16<00:07,  2.37s/it]"
     ]
    },
    {
     "name": "stdout",
     "output_type": "stream",
     "text": [
      "Client 1: accuracy loss: 6.33 | fairness loss 10.53 | Demographic disparity = 0.01\n",
      "Client 2: accuracy loss: 5.18 | fairness loss 21.88 | Demographic disparity = 0.06\n",
      "Client 3: accuracy loss: 4.44 | fairness loss 22.18 | Demographic disparity = 0.06\n",
      " \n",
      "Avg Training Stats after 7 global rounds:\n",
      "Training loss: 0.46 | Validation accuracy: 72.18% | Validation Demographic disparity: 0.0318\n",
      "\n",
      " | Global Training Round : 8 |\n",
      "\n",
      "tensor([ 4.3117, -2.6055], dtype=torch.float64)\n"
     ]
    },
    {
     "name": "stderr",
     "output_type": "stream",
     "text": [
      "\r",
      " 80%|████████  | 8/10 [00:19<00:04,  2.39s/it]"
     ]
    },
    {
     "name": "stdout",
     "output_type": "stream",
     "text": [
      "Client 1: accuracy loss: 6.37 | fairness loss 10.38 | Demographic disparity = 0.03\n",
      "Client 2: accuracy loss: 5.22 | fairness loss 21.27 | Demographic disparity = 0.06\n",
      "Client 3: accuracy loss: 4.47 | fairness loss 21.77 | Demographic disparity = 0.06\n",
      " \n",
      "Avg Training Stats after 8 global rounds:\n",
      "Training loss: 0.46 | Validation accuracy: 71.89% | Validation Demographic disparity: 0.0267\n",
      "\n",
      " | Global Training Round : 9 |\n",
      "\n",
      "tensor([ 4.3343, -2.6191], dtype=torch.float64)\n"
     ]
    },
    {
     "name": "stderr",
     "output_type": "stream",
     "text": [
      "\r",
      " 90%|█████████ | 9/10 [00:21<00:02,  2.38s/it]"
     ]
    },
    {
     "name": "stdout",
     "output_type": "stream",
     "text": [
      "Client 1: accuracy loss: 6.39 | fairness loss 10.32 | Demographic disparity = 0.03\n",
      "Client 2: accuracy loss: 5.24 | fairness loss 20.94 | Demographic disparity = 0.06\n",
      "Client 3: accuracy loss: 4.48 | fairness loss 21.56 | Demographic disparity = 0.03\n",
      " \n",
      "Avg Training Stats after 9 global rounds:\n",
      "Training loss: 0.46 | Validation accuracy: 71.09% | Validation Demographic disparity: 0.0182\n",
      "\n",
      " | Global Training Round : 10 |\n",
      "\n",
      "tensor([ 4.3487, -2.6278], dtype=torch.float64)\n"
     ]
    },
    {
     "name": "stderr",
     "output_type": "stream",
     "text": [
      "100%|██████████| 10/10 [00:23<00:00,  2.39s/it]"
     ]
    },
    {
     "name": "stdout",
     "output_type": "stream",
     "text": [
      "Client 1: accuracy loss: 6.40 | fairness loss 10.30 | Demographic disparity = 0.03\n",
      "Client 2: accuracy loss: 5.25 | fairness loss 20.76 | Demographic disparity = 0.06\n",
      "Client 3: accuracy loss: 4.50 | fairness loss 21.45 | Demographic disparity = 0.03\n",
      " \n",
      "Avg Training Stats after 10 global rounds:\n",
      "Training loss: 0.45 | Validation accuracy: 71.09% | Validation Demographic disparity: 0.0182\n",
      " \n",
      " Results after 10 global rounds of training:\n",
      "|---- Avg Train Accuracy: 71.09%\n",
      "|---- Test Accuracy: 65.00%\n",
      "|---- Test Demographic disparity: 0.0389\n",
      "\n",
      " Total Run Time: 23.8630 sec\n"
     ]
    },
    {
     "name": "stderr",
     "output_type": "stream",
     "text": [
      "\n"
     ]
    }
   ],
   "source": [
    "seed = 95\n",
    "synthetic_info = dataGenerate(seed = seed, test_samples = 100)\n",
    "server = Server(logReg(num_features=3, num_classes=2, seed = seed), synthetic_info, train_prn = False, metric = \"Demographic disparity\", seed = seed)\n",
    "server.BiasCorrecting(num_rounds = 10, local_epochs = 30, optimizer = 'adam', epsilon = None, learning_rate = 0.001, alpha = 10)\n",
    "\n",
    "\n"
   ]
  },
  {
   "cell_type": "code",
   "execution_count": 3,
   "metadata": {
    "scrolled": true
   },
   "outputs": [
    {
     "name": "stderr",
     "output_type": "stream",
     "text": [
      "\n",
      "  0%|          | 0/5 [00:00<?, ?it/s]\u001b[A"
     ]
    },
    {
     "name": "stdout",
     "output_type": "stream",
     "text": [
      "[-0.34389380530973446, 0.20780748663101606]\n",
      "[-0.047199758780318735, 0.02806443850445775]\n",
      "[-0.003741087106822749, 0.002221005108247104]\n",
      "[-0.00033091057577405714, 0.00019643393893789551]\n",
      "tensor([2.2041, 0.6209], dtype=torch.float64)\n",
      "\n",
      " | Global Training Round : 1 |\n",
      "\n"
     ]
    },
    {
     "name": "stderr",
     "output_type": "stream",
     "text": [
      "\n",
      " 20%|██        | 1/5 [00:02<00:09,  2.36s/it]\u001b[A"
     ]
    },
    {
     "name": "stdout",
     "output_type": "stream",
     "text": [
      "Client 1: accuracy loss: 3.95 | fairness loss 169.63 | Demographic disparity = 0.39\n",
      "Client 2: accuracy loss: 2.90 | fairness loss 343.13 | Demographic disparity = 0.25\n",
      "Client 3: accuracy loss: 2.93 | fairness loss 276.83 | Demographic disparity = 0.22\n",
      " \n",
      "Avg Training Stats after 1 global rounds:\n",
      "Training loss: 0.25 | Validation accuracy: 84.93% | Validation Demographic disparity: 0.2822\n",
      "\n",
      " | Global Training Round : 2 |\n",
      "\n"
     ]
    },
    {
     "name": "stderr",
     "output_type": "stream",
     "text": [
      "\n",
      " 40%|████      | 2/5 [00:04<00:07,  2.36s/it]\u001b[A"
     ]
    },
    {
     "name": "stdout",
     "output_type": "stream",
     "text": [
      "Client 1: accuracy loss: 3.96 | fairness loss 124.50 | Demographic disparity = 0.38\n",
      "Client 2: accuracy loss: 2.88 | fairness loss 282.90 | Demographic disparity = 0.25\n",
      "Client 3: accuracy loss: 3.01 | fairness loss 225.59 | Demographic disparity = 0.20\n",
      " \n",
      "Avg Training Stats after 2 global rounds:\n",
      "Training loss: 0.25 | Validation accuracy: 84.08% | Validation Demographic disparity: 0.2653\n",
      "\n",
      " | Global Training Round : 3 |\n",
      "\n"
     ]
    },
    {
     "name": "stderr",
     "output_type": "stream",
     "text": [
      "\n",
      " 60%|██████    | 3/5 [00:07<00:04,  2.35s/it]\u001b[A"
     ]
    },
    {
     "name": "stdout",
     "output_type": "stream",
     "text": [
      "Client 1: accuracy loss: 3.97 | fairness loss 107.29 | Demographic disparity = 0.38\n",
      "Client 2: accuracy loss: 2.88 | fairness loss 258.06 | Demographic disparity = 0.25\n",
      "Client 3: accuracy loss: 3.02 | fairness loss 204.62 | Demographic disparity = 0.19\n",
      " \n",
      "Avg Training Stats after 3 global rounds:\n",
      "Training loss: 0.24 | Validation accuracy: 83.68% | Validation Demographic disparity: 0.2601\n",
      "\n",
      " | Global Training Round : 4 |\n",
      "\n"
     ]
    },
    {
     "name": "stderr",
     "output_type": "stream",
     "text": [
      "\n",
      " 80%|████████  | 4/5 [00:09<00:02,  2.35s/it]\u001b[A"
     ]
    },
    {
     "name": "stdout",
     "output_type": "stream",
     "text": [
      "Client 1: accuracy loss: 3.97 | fairness loss 100.80 | Demographic disparity = 0.38\n",
      "Client 2: accuracy loss: 2.88 | fairness loss 248.33 | Demographic disparity = 0.25\n",
      "Client 3: accuracy loss: 3.02 | fairness loss 196.43 | Demographic disparity = 0.19\n",
      " \n",
      "Avg Training Stats after 4 global rounds:\n",
      "Training loss: 0.24 | Validation accuracy: 83.68% | Validation Demographic disparity: 0.2601\n",
      "\n",
      " | Global Training Round : 5 |\n",
      "\n"
     ]
    },
    {
     "name": "stderr",
     "output_type": "stream",
     "text": [
      "\n",
      "100%|██████████| 5/5 [00:11<00:00,  2.37s/it]\u001b[A"
     ]
    },
    {
     "name": "stdout",
     "output_type": "stream",
     "text": [
      "Client 1: accuracy loss: 3.97 | fairness loss 98.38 | Demographic disparity = 0.38\n",
      "Client 2: accuracy loss: 2.88 | fairness loss 244.63 | Demographic disparity = 0.25\n",
      "Client 3: accuracy loss: 3.02 | fairness loss 193.32 | Demographic disparity = 0.19\n",
      " \n",
      "Avg Training Stats after 5 global rounds:\n",
      "Training loss: 0.24 | Validation accuracy: 83.68% | Validation Demographic disparity: 0.2601\n",
      " \n",
      " Results after 5 global rounds of training:\n",
      "|---- Avg Train Accuracy: 83.68%\n",
      "|---- Test Accuracy: 84.00%\n",
      "|---- Test Demographic disparity: 0.2656\n",
      "\n",
      " Total Run Time: 11.8611 sec\n"
     ]
    },
    {
     "name": "stderr",
     "output_type": "stream",
     "text": [
      "\n"
     ]
    }
   ],
   "source": [
    "seed = 95\n",
    "synthetic_info = dataGenerate(seed = seed, test_samples = 100)\n",
    "server = Server(logReg(num_features=3, num_classes=2, seed = seed), synthetic_info, train_prn = False, metric = \"Demographic disparity\", seed = seed)\n",
    "server.preBC(pre_rounds = 4, num_rounds = 5, local_epochs = 30, optimizer = 'adam', learning_rate = 0.01, alpha = 2)\n"
   ]
  },
  {
   "cell_type": "code",
   "execution_count": 10,
   "metadata": {
    "scrolled": true
   },
   "outputs": [
    {
     "name": "stderr",
     "output_type": "stream",
     "text": [
      "\r",
      "  0%|          | 0/3 [00:00<?, ?it/s]"
     ]
    },
    {
     "name": "stdout",
     "output_type": "stream",
     "text": [
      "\n",
      " | Testing Round : 1 | constraint :  Cov(z, d) < c\n",
      "\n"
     ]
    },
    {
     "name": "stderr",
     "output_type": "stream",
     "text": [
      "\r",
      " 33%|███▎      | 1/3 [00:03<00:06,  3.29s/it]"
     ]
    },
    {
     "name": "stdout",
     "output_type": "stream",
     "text": [
      "Client 1: accuracy loss: 3.54 | fairness loss 76.44 | Demographic disparity = 0.41\n",
      "Client 2: accuracy loss: 2.56 | fairness loss 142.83 | Demographic disparity = 0.25\n",
      "Client 3: accuracy loss: 2.41 | fairness loss 114.04 | Demographic disparity = 0.24\n",
      " \n",
      "Avg Training Stats after 1 Testing rounds:\n",
      "Training loss: -86.92 | Validation accuracy: 82.61% | Validation Demographic disparity: 0.2943\n",
      "\n",
      " | Testing Round : 2 | constraint :  Cov(z, d) < c\n",
      "\n"
     ]
    },
    {
     "name": "stderr",
     "output_type": "stream",
     "text": [
      "\r",
      " 67%|██████▋   | 2/3 [00:06<00:03,  3.27s/it]"
     ]
    },
    {
     "name": "stdout",
     "output_type": "stream",
     "text": [
      "Client 1: accuracy loss: 3.71 | fairness loss 282.62 | Demographic disparity = 0.00\n",
      "Client 2: accuracy loss: 2.64 | fairness loss 532.91 | Demographic disparity = 0.01\n",
      "Client 3: accuracy loss: 2.52 | fairness loss 424.76 | Demographic disparity = 0.01\n",
      " \n",
      "Avg Training Stats after 2 Testing rounds:\n",
      "Training loss: -214.64 | Validation accuracy: 56.10% | Validation Demographic disparity: 0.0010\n",
      "\n",
      " | Testing Round : 3 | constraint :  Cov(z, d) < c\n",
      "\n"
     ]
    },
    {
     "name": "stderr",
     "output_type": "stream",
     "text": [
      "100%|██████████| 3/3 [00:09<00:00,  3.30s/it]\n",
      "  0%|          | 0/3 [00:00<?, ?it/s]"
     ]
    },
    {
     "name": "stdout",
     "output_type": "stream",
     "text": [
      "Client 1: accuracy loss: 3.84 | fairness loss 622.00 | Demographic disparity = 0.10\n",
      "Client 2: accuracy loss: 2.71 | fairness loss 1176.93 | Demographic disparity = 0.10\n",
      "Client 3: accuracy loss: 2.61 | fairness loss 937.55 | Demographic disparity = 0.08\n",
      " \n",
      "Avg Training Stats after 3 Testing rounds:\n",
      "Training loss: -342.63 | Validation accuracy: 46.85% | Validation Demographic disparity: 0.0936\n",
      "\n",
      " | Testing Round : 1 | constraint :  Cov(z, d) > -c\n",
      "\n"
     ]
    },
    {
     "name": "stderr",
     "output_type": "stream",
     "text": [
      "\r",
      " 33%|███▎      | 1/3 [00:03<00:07,  3.70s/it]"
     ]
    },
    {
     "name": "stdout",
     "output_type": "stream",
     "text": [
      "Client 1: accuracy loss: 3.52 | fairness loss 44.17 | Demographic disparity = 0.59\n",
      "Client 2: accuracy loss: 2.96 | fairness loss 87.08 | Demographic disparity = 0.34\n",
      "Client 3: accuracy loss: 2.56 | fairness loss 69.02 | Demographic disparity = 0.34\n",
      " \n",
      "Avg Training Stats after 1 Testing rounds:\n",
      "Training loss: -282.88 | Validation accuracy: 87.43% | Validation Demographic disparity: 0.4018\n",
      "\n",
      " | Testing Round : 2 | constraint :  Cov(z, d) > -c\n",
      "\n"
     ]
    },
    {
     "name": "stderr",
     "output_type": "stream",
     "text": [
      "\r",
      " 67%|██████▋   | 2/3 [00:07<00:03,  3.62s/it]"
     ]
    },
    {
     "name": "stdout",
     "output_type": "stream",
     "text": [
      "Client 1: accuracy loss: 3.96 | fairness loss 202.40 | Demographic disparity = 0.62\n",
      "Client 2: accuracy loss: 3.50 | fairness loss 390.72 | Demographic disparity = 0.35\n",
      "Client 3: accuracy loss: 2.95 | fairness loss 310.39 | Demographic disparity = 0.36\n",
      " \n",
      "Avg Training Stats after 2 Testing rounds:\n",
      "Training loss: -297.49 | Validation accuracy: 86.42% | Validation Demographic disparity: 0.4173\n",
      "\n",
      " | Testing Round : 3 | constraint :  Cov(z, d) > -c\n",
      "\n"
     ]
    },
    {
     "name": "stderr",
     "output_type": "stream",
     "text": [
      "100%|██████████| 3/3 [00:10<00:00,  3.55s/it]\n",
      "  0%|          | 0/10 [00:00<?, ?it/s]"
     ]
    },
    {
     "name": "stdout",
     "output_type": "stream",
     "text": [
      "Client 1: accuracy loss: 4.45 | fairness loss 481.80 | Demographic disparity = 0.62\n",
      "Client 2: accuracy loss: 4.05 | fairness loss 924.43 | Demographic disparity = 0.35\n",
      "Client 3: accuracy loss: 3.37 | fairness loss 734.94 | Demographic disparity = 0.36\n",
      " \n",
      "Avg Training Stats after 3 Testing rounds:\n",
      "Training loss: -349.64 | Validation accuracy: 86.42% | Validation Demographic disparity: 0.4173\n",
      "\n",
      " | Global Round : 1 | constraint :  Cov(z, d) < c\n",
      "\n"
     ]
    },
    {
     "name": "stderr",
     "output_type": "stream",
     "text": [
      "\r",
      " 10%|█         | 1/10 [00:03<00:31,  3.50s/it]"
     ]
    },
    {
     "name": "stdout",
     "output_type": "stream",
     "text": [
      "Client 1: accuracy loss: 3.28 | fairness loss 637.90 | Demographic disparity = 0.06\n",
      "Client 2: accuracy loss: 2.41 | fairness loss 1207.61 | Demographic disparity = 0.07\n",
      "Client 3: accuracy loss: 2.31 | fairness loss 961.92 | Demographic disparity = 0.01\n",
      " \n",
      "Avg Training Stats after 1 global rounds:\n",
      "Training loss: -297.33 | Validation accuracy: 48.90% | Validation Demographic disparity: 0.0243\n",
      "\n",
      " | Global Round : 2 | constraint :  Cov(z, d) < c\n",
      "\n"
     ]
    },
    {
     "name": "stderr",
     "output_type": "stream",
     "text": [
      "\r",
      " 20%|██        | 2/10 [00:07<00:28,  3.53s/it]"
     ]
    },
    {
     "name": "stdout",
     "output_type": "stream",
     "text": [
      "Client 1: accuracy loss: 3.27 | fairness loss 661.60 | Demographic disparity = 0.05\n",
      "Client 2: accuracy loss: 2.43 | fairness loss 1252.89 | Demographic disparity = 0.08\n",
      "Client 3: accuracy loss: 2.30 | fairness loss 997.93 | Demographic disparity = 0.01\n",
      " \n",
      "Avg Training Stats after 2 global rounds:\n",
      "Training loss: -258.19 | Validation accuracy: 49.51% | Validation Demographic disparity: 0.0309\n",
      "\n",
      " | Global Round : 3 | constraint :  Cov(z, d) < c\n",
      "\n"
     ]
    },
    {
     "name": "stderr",
     "output_type": "stream",
     "text": [
      "\r",
      " 30%|███       | 3/10 [00:10<00:25,  3.58s/it]"
     ]
    },
    {
     "name": "stdout",
     "output_type": "stream",
     "text": [
      "Client 1: accuracy loss: 3.27 | fairness loss 685.76 | Demographic disparity = 0.05\n",
      "Client 2: accuracy loss: 2.44 | fairness loss 1299.07 | Demographic disparity = 0.08\n",
      "Client 3: accuracy loss: 2.29 | fairness loss 1034.65 | Demographic disparity = 0.01\n",
      " \n",
      "Avg Training Stats after 3 global rounds:\n",
      "Training loss: -227.78 | Validation accuracy: 49.51% | Validation Demographic disparity: 0.0309\n",
      "\n",
      " | Global Round : 4 | constraint :  Cov(z, d) < c\n",
      "\n"
     ]
    },
    {
     "name": "stderr",
     "output_type": "stream",
     "text": [
      "\r",
      " 40%|████      | 4/10 [00:14<00:22,  3.76s/it]"
     ]
    },
    {
     "name": "stdout",
     "output_type": "stream",
     "text": [
      "Client 1: accuracy loss: 3.27 | fairness loss 710.38 | Demographic disparity = 0.06\n",
      "Client 2: accuracy loss: 2.44 | fairness loss 1346.14 | Demographic disparity = 0.09\n",
      "Client 3: accuracy loss: 2.29 | fairness loss 1072.08 | Demographic disparity = 0.01\n",
      " \n",
      "Avg Training Stats after 4 global rounds:\n",
      "Training loss: -203.50 | Validation accuracy: 48.90% | Validation Demographic disparity: 0.0309\n",
      "\n",
      " | Global Round : 5 | constraint :  Cov(z, d) < c\n",
      "\n"
     ]
    },
    {
     "name": "stderr",
     "output_type": "stream",
     "text": [
      "\r",
      " 50%|█████     | 5/10 [00:18<00:18,  3.75s/it]"
     ]
    },
    {
     "name": "stdout",
     "output_type": "stream",
     "text": [
      "Client 1: accuracy loss: 3.26 | fairness loss 735.45 | Demographic disparity = 0.06\n",
      "Client 2: accuracy loss: 2.44 | fairness loss 1394.09 | Demographic disparity = 0.08\n",
      "Client 3: accuracy loss: 2.29 | fairness loss 1110.21 | Demographic disparity = 0.04\n",
      " \n",
      "Avg Training Stats after 5 global rounds:\n",
      "Training loss: -183.66 | Validation accuracy: 47.77% | Validation Demographic disparity: 0.0342\n",
      "\n",
      " | Global Round : 6 | constraint :  Cov(z, d) < c\n",
      "\n"
     ]
    },
    {
     "name": "stderr",
     "output_type": "stream",
     "text": [
      "\r",
      " 60%|██████    | 6/10 [00:22<00:14,  3.71s/it]"
     ]
    },
    {
     "name": "stdout",
     "output_type": "stream",
     "text": [
      "Client 1: accuracy loss: 3.26 | fairness loss 760.97 | Demographic disparity = 0.04\n",
      "Client 2: accuracy loss: 2.44 | fairness loss 1442.91 | Demographic disparity = 0.09\n",
      "Client 3: accuracy loss: 2.29 | fairness loss 1149.02 | Demographic disparity = 0.04\n",
      " \n",
      "Avg Training Stats after 6 global rounds:\n",
      "Training loss: -167.15 | Validation accuracy: 48.67% | Validation Demographic disparity: 0.0442\n",
      "\n",
      " | Global Round : 7 | constraint :  Cov(z, d) < c\n",
      "\n"
     ]
    },
    {
     "name": "stderr",
     "output_type": "stream",
     "text": [
      "\r",
      " 70%|███████   | 7/10 [00:25<00:10,  3.65s/it]"
     ]
    },
    {
     "name": "stdout",
     "output_type": "stream",
     "text": [
      "Client 1: accuracy loss: 3.26 | fairness loss 786.94 | Demographic disparity = 0.05\n",
      "Client 2: accuracy loss: 2.44 | fairness loss 1492.60 | Demographic disparity = 0.09\n",
      "Client 3: accuracy loss: 2.29 | fairness loss 1188.53 | Demographic disparity = 0.04\n",
      " \n",
      "Avg Training Stats after 7 global rounds:\n",
      "Training loss: -153.22 | Validation accuracy: 48.38% | Validation Demographic disparity: 0.0409\n",
      "\n",
      " | Global Round : 8 | constraint :  Cov(z, d) < c\n",
      "\n"
     ]
    },
    {
     "name": "stderr",
     "output_type": "stream",
     "text": [
      "\r",
      " 80%|████████  | 8/10 [00:29<00:07,  3.55s/it]"
     ]
    },
    {
     "name": "stdout",
     "output_type": "stream",
     "text": [
      "Client 1: accuracy loss: 3.26 | fairness loss 813.37 | Demographic disparity = 0.05\n",
      "Client 2: accuracy loss: 2.44 | fairness loss 1543.16 | Demographic disparity = 0.10\n",
      "Client 3: accuracy loss: 2.29 | fairness loss 1228.73 | Demographic disparity = 0.04\n",
      " \n",
      "Avg Training Stats after 8 global rounds:\n",
      "Training loss: -141.30 | Validation accuracy: 48.05% | Validation Demographic disparity: 0.0442\n",
      "\n",
      " | Global Round : 9 | constraint :  Cov(z, d) < c\n",
      "\n"
     ]
    },
    {
     "name": "stderr",
     "output_type": "stream",
     "text": [
      "\r",
      " 90%|█████████ | 9/10 [00:32<00:03,  3.46s/it]"
     ]
    },
    {
     "name": "stdout",
     "output_type": "stream",
     "text": [
      "Client 1: accuracy loss: 3.26 | fairness loss 840.24 | Demographic disparity = 0.04\n",
      "Client 2: accuracy loss: 2.44 | fairness loss 1594.59 | Demographic disparity = 0.09\n",
      "Client 3: accuracy loss: 2.29 | fairness loss 1269.63 | Demographic disparity = 0.05\n",
      " \n",
      "Avg Training Stats after 9 global rounds:\n",
      "Training loss: -131.00 | Validation accuracy: 48.26% | Validation Demographic disparity: 0.0475\n",
      "\n",
      " | Global Round : 10 | constraint :  Cov(z, d) < c\n",
      "\n"
     ]
    },
    {
     "name": "stderr",
     "output_type": "stream",
     "text": [
      "100%|██████████| 10/10 [00:35<00:00,  3.56s/it]"
     ]
    },
    {
     "name": "stdout",
     "output_type": "stream",
     "text": [
      "Client 1: accuracy loss: 3.26 | fairness loss 867.57 | Demographic disparity = 0.04\n",
      "Client 2: accuracy loss: 2.44 | fairness loss 1646.90 | Demographic disparity = 0.09\n",
      "Client 3: accuracy loss: 2.29 | fairness loss 1311.21 | Demographic disparity = 0.05\n",
      " \n",
      "Avg Training Stats after 10 global rounds:\n",
      "Training loss: -122.00 | Validation accuracy: 47.69% | Validation Demographic disparity: 0.0475\n",
      " \n",
      " Results after 10 global rounds of training:\n",
      "|---- Avg Train Accuracy: 47.69%\n",
      "|---- Test Accuracy: 45.00%\n",
      "|---- Test Demographic disparity: 0.0544\n",
      "\n",
      " Total Run Time: 56.2122 sec\n"
     ]
    },
    {
     "name": "stderr",
     "output_type": "stream",
     "text": [
      "\n"
     ]
    }
   ],
   "source": [
    "seed = 95\n",
    "synthetic_info = dataGenerate(seed = seed, test_samples = 100)\n",
    "server = Server(logReg(num_features=3, num_classes=2, seed = seed), synthetic_info, train_prn = False, metric = \"Demographic disparity\", seed = seed)\n",
    "server.Zafar(test_rounds = 3, test_lr = 0.005, test_penalty = 80, num_rounds = 10, local_epochs = 50, optimizer = 'adam', learning_rate = 0.002, penalty = 2)\n"
   ]
  },
  {
   "cell_type": "code",
   "execution_count": 9,
   "metadata": {
    "scrolled": true
   },
   "outputs": [
    {
     "name": "stderr",
     "output_type": "stream",
     "text": [
      "\n",
      "  0%|          | 0/10 [00:00<?, ?it/s]\u001b[A"
     ]
    },
    {
     "name": "stdout",
     "output_type": "stream",
     "text": [
      "\n",
      " | Global Training Round : 1 |\n",
      "\n"
     ]
    },
    {
     "name": "stderr",
     "output_type": "stream",
     "text": [
      "\n",
      " 10%|█         | 1/10 [00:05<00:53,  5.90s/it]\u001b[A"
     ]
    },
    {
     "name": "stdout",
     "output_type": "stream",
     "text": [
      "Client 1: predictor loss: 9.31 | adversary loss 0.38 | Demographic disparity = 0.48\n",
      "Client 2: predictor loss: 9.29 | adversary loss 0.37 | Demographic disparity = 0.43\n",
      "Client 3: predictor loss: 8.28 | adversary loss 0.39 | Demographic disparity = 0.46\n",
      " \n",
      "Avg Training Stats after 1 global rounds:\n",
      "Training loss: 1.56 | Validation accuracy: 13.82% | Validation Demographic disparity: 0.3940\n",
      "\n",
      " | Global Training Round : 2 |\n",
      "\n"
     ]
    },
    {
     "name": "stderr",
     "output_type": "stream",
     "text": [
      "\n",
      " 20%|██        | 2/10 [00:11<00:47,  5.95s/it]\u001b[A"
     ]
    },
    {
     "name": "stdout",
     "output_type": "stream",
     "text": [
      "Client 1: predictor loss: 4.60 | adversary loss 0.61 | Demographic disparity = 0.38\n",
      "Client 2: predictor loss: 4.20 | adversary loss 0.70 | Demographic disparity = 0.31\n",
      "Client 3: predictor loss: 3.83 | adversary loss 0.78 | Demographic disparity = 0.39\n",
      " \n",
      "Avg Training Stats after 2 global rounds:\n",
      "Training loss: 1.07 | Validation accuracy: 79.05% | Validation Demographic disparity: 0.3101\n",
      "\n",
      " | Global Training Round : 3 |\n",
      "\n"
     ]
    },
    {
     "name": "stderr",
     "output_type": "stream",
     "text": [
      "\n",
      " 30%|███       | 3/10 [00:17<00:40,  5.82s/it]\u001b[A"
     ]
    },
    {
     "name": "stdout",
     "output_type": "stream",
     "text": [
      "Client 1: predictor loss: 6.01 | adversary loss 0.59 | Demographic disparity = 0.11\n",
      "Client 2: predictor loss: 5.74 | adversary loss 0.64 | Demographic disparity = 0.16\n",
      "Client 3: predictor loss: 5.10 | adversary loss 0.72 | Demographic disparity = 0.23\n",
      " \n",
      "Avg Training Stats after 3 global rounds:\n",
      "Training loss: 0.89 | Validation accuracy: 67.66% | Validation Demographic disparity: 0.1577\n",
      "\n",
      " | Global Training Round : 4 |\n",
      "\n"
     ]
    },
    {
     "name": "stderr",
     "output_type": "stream",
     "text": [
      "\n",
      " 40%|████      | 4/10 [00:22<00:34,  5.70s/it]\u001b[A"
     ]
    },
    {
     "name": "stdout",
     "output_type": "stream",
     "text": [
      "Client 1: predictor loss: 8.10 | adversary loss 0.69 | Demographic disparity = 0.49\n",
      "Client 2: predictor loss: 7.87 | adversary loss 0.76 | Demographic disparity = 0.45\n",
      "Client 3: predictor loss: 6.86 | adversary loss 0.82 | Demographic disparity = 0.46\n",
      " \n",
      "Avg Training Stats after 4 global rounds:\n",
      "Training loss: 0.85 | Validation accuracy: 17.36% | Validation Demographic disparity: 0.4040\n",
      "\n",
      " | Global Training Round : 5 |\n",
      "\n"
     ]
    },
    {
     "name": "stderr",
     "output_type": "stream",
     "text": [
      "\n",
      " 50%|█████     | 5/10 [00:28<00:28,  5.62s/it]\u001b[A"
     ]
    },
    {
     "name": "stdout",
     "output_type": "stream",
     "text": [
      "Client 1: predictor loss: 5.84 | adversary loss 0.65 | Demographic disparity = 0.26\n",
      "Client 2: predictor loss: 5.54 | adversary loss 0.72 | Demographic disparity = 0.21\n",
      "Client 3: predictor loss: 4.91 | adversary loss 0.79 | Demographic disparity = 0.28\n",
      " \n",
      "Avg Training Stats after 5 global rounds:\n",
      "Training loss: 0.83 | Validation accuracy: 72.09% | Validation Demographic disparity: 0.2175\n",
      "\n",
      " | Global Training Round : 6 |\n",
      "\n"
     ]
    },
    {
     "name": "stderr",
     "output_type": "stream",
     "text": [
      "\n",
      " 60%|██████    | 6/10 [00:33<00:21,  5.50s/it]\u001b[A"
     ]
    },
    {
     "name": "stdout",
     "output_type": "stream",
     "text": [
      "Client 1: predictor loss: 7.46 | adversary loss 0.62 | Demographic disparity = 0.27\n",
      "Client 2: predictor loss: 7.17 | adversary loss 0.70 | Demographic disparity = 0.20\n",
      "Client 3: predictor loss: 6.23 | adversary loss 0.77 | Demographic disparity = 0.37\n",
      " \n",
      "Avg Training Stats after 6 global rounds:\n",
      "Training loss: 0.80 | Validation accuracy: 35.92% | Validation Demographic disparity: 0.2285\n",
      "\n",
      " | Global Training Round : 7 |\n",
      "\n"
     ]
    },
    {
     "name": "stderr",
     "output_type": "stream",
     "text": [
      "\n",
      " 70%|███████   | 7/10 [00:38<00:15,  5.27s/it]\u001b[A"
     ]
    },
    {
     "name": "stdout",
     "output_type": "stream",
     "text": [
      "Client 1: predictor loss: 5.84 | adversary loss 0.62 | Demographic disparity = 0.24\n",
      "Client 2: predictor loss: 5.49 | adversary loss 0.69 | Demographic disparity = 0.22\n",
      "Client 3: predictor loss: 4.84 | adversary loss 0.77 | Demographic disparity = 0.28\n",
      " \n",
      "Avg Training Stats after 7 global rounds:\n",
      "Training loss: 0.77 | Validation accuracy: 72.42% | Validation Demographic disparity: 0.2151\n",
      "\n",
      " | Global Training Round : 8 |\n",
      "\n"
     ]
    },
    {
     "name": "stderr",
     "output_type": "stream",
     "text": [
      "\n",
      " 80%|████████  | 8/10 [00:44<00:10,  5.45s/it]\u001b[A"
     ]
    },
    {
     "name": "stdout",
     "output_type": "stream",
     "text": [
      "Client 1: predictor loss: 7.68 | adversary loss 0.63 | Demographic disparity = 0.47\n",
      "Client 2: predictor loss: 7.34 | adversary loss 0.70 | Demographic disparity = 0.45\n",
      "Client 3: predictor loss: 6.34 | adversary loss 0.77 | Demographic disparity = 0.48\n",
      " \n",
      "Avg Training Stats after 8 global rounds:\n",
      "Training loss: 0.76 | Validation accuracy: 22.64% | Validation Demographic disparity: 0.4007\n",
      "\n",
      " | Global Training Round : 9 |\n",
      "\n"
     ]
    },
    {
     "name": "stderr",
     "output_type": "stream",
     "text": [
      "\n",
      " 90%|█████████ | 9/10 [00:49<00:05,  5.29s/it]\u001b[A"
     ]
    },
    {
     "name": "stdout",
     "output_type": "stream",
     "text": [
      "Client 1: predictor loss: 5.61 | adversary loss 0.62 | Demographic disparity = 0.27\n",
      "Client 2: predictor loss: 5.22 | adversary loss 0.70 | Demographic disparity = 0.28\n",
      "Client 3: predictor loss: 4.58 | adversary loss 0.77 | Demographic disparity = 0.35\n",
      " \n",
      "Avg Training Stats after 9 global rounds:\n",
      "Training loss: 0.75 | Validation accuracy: 77.54% | Validation Demographic disparity: 0.2632\n",
      "\n",
      " | Global Training Round : 10 |\n",
      "\n"
     ]
    },
    {
     "name": "stderr",
     "output_type": "stream",
     "text": [
      "\n",
      "100%|██████████| 10/10 [00:54<00:00,  5.44s/it]\u001b[A"
     ]
    },
    {
     "name": "stdout",
     "output_type": "stream",
     "text": [
      "Client 1: predictor loss: 7.88 | adversary loss 0.63 | Demographic disparity = 0.58\n",
      "Client 2: predictor loss: 7.54 | adversary loss 0.71 | Demographic disparity = 0.49\n",
      "Client 3: predictor loss: 6.49 | adversary loss 0.78 | Demographic disparity = 0.48\n",
      " \n",
      "Avg Training Stats after 10 global rounds:\n",
      "Training loss: 0.74 | Validation accuracy: 18.40% | Validation Demographic disparity: 0.4536\n",
      " \n",
      " Results after 10 global rounds of training:\n",
      "|---- Avg Train Accuracy: 18.40%\n",
      "|---- Test Accuracy: 19.00%\n",
      "|---- Test Demographic disparity: 0.5400\n",
      "\n",
      " Total Run Time: 54.4222 sec\n"
     ]
    },
    {
     "name": "stderr",
     "output_type": "stream",
     "text": [
      "\n"
     ]
    }
   ],
   "source": [
    "seed = 88\n",
    "synthetic_info = dataGenerate(seed = seed, test_samples = 100)\n",
    "server = Server(logReg(num_features=3, num_classes=2, seed = seed), synthetic_info, train_prn = False, metric = \"Demographic disparity\", seed = seed)\n",
    "server.FTrain(num_rounds = 10, local_epochs = 30, init_epochs = 50, lr_g = 0.001, lr_d = 0.01, lambda_d = 1)\n"
   ]
  },
  {
   "cell_type": "code",
   "execution_count": 17,
   "metadata": {
    "scrolled": true
   },
   "outputs": [
    {
     "name": "stderr",
     "output_type": "stream",
     "text": [
      "\n",
      "  0%|          | 0/10 [00:00<?, ?it/s]\u001b[A"
     ]
    },
    {
     "name": "stdout",
     "output_type": "stream",
     "text": [
      "\n",
      " | Global Training Round : 1 |\n",
      "\n"
     ]
    },
    {
     "name": "stderr",
     "output_type": "stream",
     "text": [
      "\n",
      " 10%|█         | 1/10 [00:02<00:23,  2.66s/it]\u001b[A"
     ]
    },
    {
     "name": "stdout",
     "output_type": "stream",
     "text": [
      "Client 1: accuracy loss: 4.92 | fairness loss 125.85 | Demographic disparity = 0.35\n",
      "Client 2: accuracy loss: 3.90 | fairness loss 252.77 | Demographic disparity = 0.28\n",
      "Client 3: accuracy loss: 3.41 | fairness loss 206.46 | Demographic disparity = 0.27\n",
      " \n",
      "Avg Training Stats after 1 global rounds:\n",
      "Training loss: 1017.66 | Validation accuracy: 85.49% | Validation Demographic disparity: 0.2945\n",
      "\n",
      " | Global Training Round : 2 |\n",
      "\n"
     ]
    },
    {
     "name": "stderr",
     "output_type": "stream",
     "text": [
      "\n",
      " 20%|██        | 2/10 [00:05<00:21,  2.74s/it]\u001b[A"
     ]
    },
    {
     "name": "stdout",
     "output_type": "stream",
     "text": [
      "Client 1: accuracy loss: 6.67 | fairness loss 1.49 | Demographic disparity = 0.07\n",
      "Client 2: accuracy loss: 5.81 | fairness loss 3.41 | Demographic disparity = 0.01\n",
      "Client 3: accuracy loss: 4.84 | fairness loss 2.74 | Demographic disparity = 0.04\n",
      " \n",
      "Avg Training Stats after 2 global rounds:\n",
      "Training loss: 555.50 | Validation accuracy: 65.34% | Validation Demographic disparity: 0.0328\n",
      "\n",
      " | Global Training Round : 3 |\n",
      "\n"
     ]
    },
    {
     "name": "stderr",
     "output_type": "stream",
     "text": [
      "\n",
      " 30%|███       | 3/10 [00:08<00:19,  2.76s/it]\u001b[A"
     ]
    },
    {
     "name": "stdout",
     "output_type": "stream",
     "text": [
      "Client 1: accuracy loss: 6.70 | fairness loss 1.41 | Demographic disparity = 0.07\n",
      "Client 2: accuracy loss: 5.85 | fairness loss 2.96 | Demographic disparity = 0.01\n",
      "Client 3: accuracy loss: 4.85 | fairness loss 2.35 | Demographic disparity = 0.06\n",
      " \n",
      "Avg Training Stats after 3 global rounds:\n",
      "Training loss: 395.53 | Validation accuracy: 66.14% | Validation Demographic disparity: 0.0432\n",
      "\n",
      " | Global Training Round : 4 |\n",
      "\n"
     ]
    },
    {
     "name": "stderr",
     "output_type": "stream",
     "text": [
      "\n",
      " 40%|████      | 4/10 [00:11<00:16,  2.72s/it]\u001b[A"
     ]
    },
    {
     "name": "stdout",
     "output_type": "stream",
     "text": [
      "Client 1: accuracy loss: 6.70 | fairness loss 1.41 | Demographic disparity = 0.07\n",
      "Client 2: accuracy loss: 5.85 | fairness loss 2.96 | Demographic disparity = 0.01\n",
      "Client 3: accuracy loss: 4.85 | fairness loss 2.35 | Demographic disparity = 0.06\n",
      " \n",
      "Avg Training Stats after 4 global rounds:\n",
      "Training loss: 315.55 | Validation accuracy: 66.14% | Validation Demographic disparity: 0.0432\n",
      "\n",
      " | Global Training Round : 5 |\n",
      "\n"
     ]
    },
    {
     "name": "stderr",
     "output_type": "stream",
     "text": [
      "\n",
      " 50%|█████     | 5/10 [00:13<00:13,  2.69s/it]\u001b[A"
     ]
    },
    {
     "name": "stdout",
     "output_type": "stream",
     "text": [
      "Client 1: accuracy loss: 6.70 | fairness loss 1.41 | Demographic disparity = 0.07\n",
      "Client 2: accuracy loss: 5.85 | fairness loss 2.96 | Demographic disparity = 0.01\n",
      "Client 3: accuracy loss: 4.85 | fairness loss 2.35 | Demographic disparity = 0.06\n",
      " \n",
      "Avg Training Stats after 5 global rounds:\n",
      "Training loss: 267.57 | Validation accuracy: 66.14% | Validation Demographic disparity: 0.0432\n",
      "\n",
      " | Global Training Round : 6 |\n",
      "\n"
     ]
    },
    {
     "name": "stderr",
     "output_type": "stream",
     "text": [
      "\n",
      " 60%|██████    | 6/10 [00:16<00:10,  2.66s/it]\u001b[A"
     ]
    },
    {
     "name": "stdout",
     "output_type": "stream",
     "text": [
      "Client 1: accuracy loss: 6.70 | fairness loss 1.41 | Demographic disparity = 0.07\n",
      "Client 2: accuracy loss: 5.85 | fairness loss 2.96 | Demographic disparity = 0.01\n",
      "Client 3: accuracy loss: 4.85 | fairness loss 2.35 | Demographic disparity = 0.06\n",
      " \n",
      "Avg Training Stats after 6 global rounds:\n",
      "Training loss: 235.58 | Validation accuracy: 66.14% | Validation Demographic disparity: 0.0432\n",
      "\n",
      " | Global Training Round : 7 |\n",
      "\n"
     ]
    },
    {
     "name": "stderr",
     "output_type": "stream",
     "text": [
      "\n",
      " 70%|███████   | 7/10 [00:18<00:07,  2.59s/it]\u001b[A"
     ]
    },
    {
     "name": "stdout",
     "output_type": "stream",
     "text": [
      "Client 1: accuracy loss: 6.70 | fairness loss 1.41 | Demographic disparity = 0.07\n",
      "Client 2: accuracy loss: 5.85 | fairness loss 2.96 | Demographic disparity = 0.01\n",
      "Client 3: accuracy loss: 4.85 | fairness loss 2.35 | Demographic disparity = 0.06\n",
      " \n",
      "Avg Training Stats after 7 global rounds:\n",
      "Training loss: 212.73 | Validation accuracy: 66.14% | Validation Demographic disparity: 0.0432\n",
      "\n",
      " | Global Training Round : 8 |\n",
      "\n"
     ]
    },
    {
     "name": "stderr",
     "output_type": "stream",
     "text": [
      "\n",
      " 80%|████████  | 8/10 [00:21<00:05,  2.53s/it]\u001b[A"
     ]
    },
    {
     "name": "stdout",
     "output_type": "stream",
     "text": [
      "Client 1: accuracy loss: 6.70 | fairness loss 1.41 | Demographic disparity = 0.07\n",
      "Client 2: accuracy loss: 5.85 | fairness loss 2.96 | Demographic disparity = 0.01\n",
      "Client 3: accuracy loss: 4.85 | fairness loss 2.35 | Demographic disparity = 0.06\n",
      " \n",
      "Avg Training Stats after 8 global rounds:\n",
      "Training loss: 195.60 | Validation accuracy: 66.14% | Validation Demographic disparity: 0.0432\n",
      "\n",
      " | Global Training Round : 9 |\n",
      "\n"
     ]
    },
    {
     "name": "stderr",
     "output_type": "stream",
     "text": [
      "\n",
      " 90%|█████████ | 9/10 [00:23<00:02,  2.60s/it]\u001b[A"
     ]
    },
    {
     "name": "stdout",
     "output_type": "stream",
     "text": [
      "Client 1: accuracy loss: 6.70 | fairness loss 1.41 | Demographic disparity = 0.07\n",
      "Client 2: accuracy loss: 5.85 | fairness loss 2.96 | Demographic disparity = 0.01\n",
      "Client 3: accuracy loss: 4.85 | fairness loss 2.35 | Demographic disparity = 0.06\n",
      " \n",
      "Avg Training Stats after 9 global rounds:\n",
      "Training loss: 182.27 | Validation accuracy: 66.14% | Validation Demographic disparity: 0.0432\n",
      "\n",
      " | Global Training Round : 10 |\n",
      "\n"
     ]
    },
    {
     "name": "stderr",
     "output_type": "stream",
     "text": [
      "\n",
      "100%|██████████| 10/10 [00:26<00:00,  2.62s/it]\u001b[A"
     ]
    },
    {
     "name": "stdout",
     "output_type": "stream",
     "text": [
      "Client 1: accuracy loss: 6.70 | fairness loss 1.41 | Demographic disparity = 0.07\n",
      "Client 2: accuracy loss: 5.85 | fairness loss 2.96 | Demographic disparity = 0.01\n",
      "Client 3: accuracy loss: 4.85 | fairness loss 2.35 | Demographic disparity = 0.06\n",
      " \n",
      "Avg Training Stats after 10 global rounds:\n",
      "Training loss: 171.61 | Validation accuracy: 66.14% | Validation Demographic disparity: 0.0432\n",
      " \n",
      " Results after 10 global rounds of training:\n",
      "|---- Avg Train Accuracy: 66.14%\n",
      "|---- Test Accuracy: 67.00%\n",
      "|---- Test Demographic disparity: 0.0356\n",
      "\n",
      " Total Run Time: 26.1866 sec\n"
     ]
    },
    {
     "name": "stderr",
     "output_type": "stream",
     "text": [
      "\n"
     ]
    }
   ],
   "source": [
    "seed = 95\n",
    "synthetic_info = dataGenerate(seed = seed, test_samples = 100)\n",
    "server = Server(logReg(num_features=3, num_classes=2, seed = seed), synthetic_info, train_prn = False, metric = \"Demographic disparity\", seed = seed)\n",
    "server.LocalZafar(num_rounds = 10, local_epochs = 30, optimizer = 'adam', learning_rate = 0.002, penalty = 1500)\n",
    "\n"
   ]
  },
  {
   "cell_type": "code",
   "execution_count": 5,
   "metadata": {
    "scrolled": true
   },
   "outputs": [
    {
     "name": "stderr",
     "output_type": "stream",
     "text": [
      "\r",
      "  0%|          | 0/3 [00:00<?, ?it/s]"
     ]
    },
    {
     "name": "stdout",
     "output_type": "stream",
     "text": [
      "\n",
      " | Testing Round : 1 | constraint :  Cov(z, d) < c\n",
      "\n"
     ]
    },
    {
     "name": "stderr",
     "output_type": "stream",
     "text": [
      "\r",
      " 33%|███▎      | 1/3 [00:02<00:05,  2.61s/it]"
     ]
    },
    {
     "name": "stdout",
     "output_type": "stream",
     "text": [
      "Client 1: accuracy loss: 3.33 | fairness loss 596.48 | Demographic disparity = 0.52\n",
      "Client 2: accuracy loss: 3.14 | fairness loss 710.20 | Demographic disparity = 0.39\n",
      "Client 3: accuracy loss: 2.86 | fairness loss 698.44 | Demographic disparity = 0.35\n",
      " \n",
      "Avg Training Stats after 1 Testing rounds:\n",
      "Training loss: 25.77 | Validation accuracy: 86.11% | Validation Demographic disparity: 0.3746\n",
      "\n",
      " | Testing Round : 2 | constraint :  Cov(z, d) < c\n",
      "\n"
     ]
    },
    {
     "name": "stderr",
     "output_type": "stream",
     "text": [
      "\r",
      " 67%|██████▋   | 2/3 [00:07<00:03,  3.42s/it]"
     ]
    },
    {
     "name": "stdout",
     "output_type": "stream",
     "text": [
      "Client 1: accuracy loss: 3.30 | fairness loss 5530.61 | Demographic disparity = 0.26\n",
      "Client 2: accuracy loss: 3.09 | fairness loss 6347.69 | Demographic disparity = 0.19\n",
      "Client 3: accuracy loss: 2.88 | fairness loss 6756.99 | Demographic disparity = 0.08\n",
      " \n",
      "Avg Training Stats after 2 Testing rounds:\n",
      "Training loss: -56.92 | Validation accuracy: 68.32% | Validation Demographic disparity: 0.1610\n",
      "\n",
      " | Testing Round : 3 | constraint :  Cov(z, d) < c\n",
      "\n"
     ]
    },
    {
     "name": "stderr",
     "output_type": "stream",
     "text": [
      "100%|██████████| 3/3 [00:14<00:00,  4.75s/it]\n",
      "  0%|          | 0/3 [00:00<?, ?it/s]"
     ]
    },
    {
     "name": "stdout",
     "output_type": "stream",
     "text": [
      "Client 1: accuracy loss: 3.29 | fairness loss 15621.51 | Demographic disparity = 0.00\n",
      "Client 2: accuracy loss: 3.07 | fairness loss 17787.41 | Demographic disparity = 0.01\n",
      "Client 3: accuracy loss: 2.91 | fairness loss 19234.63 | Demographic disparity = 0.11\n",
      " \n",
      "Avg Training Stats after 3 Testing rounds:\n",
      "Training loss: -149.48 | Validation accuracy: 52.53% | Validation Demographic disparity: 0.0410\n",
      "\n",
      " | Testing Round : 1 | constraint :  Cov(z, d) > -c\n",
      "\n"
     ]
    },
    {
     "name": "stderr",
     "output_type": "stream",
     "text": [
      "\r",
      " 33%|███▎      | 1/3 [00:02<00:05,  2.74s/it]"
     ]
    },
    {
     "name": "stdout",
     "output_type": "stream",
     "text": [
      "Client 1: accuracy loss: 3.27 | fairness loss 878.86 | Demographic disparity = 0.62\n",
      "Client 2: accuracy loss: 3.54 | fairness loss 1005.64 | Demographic disparity = 0.44\n",
      "Client 3: accuracy loss: 3.21 | fairness loss 1059.19 | Demographic disparity = 0.46\n",
      " \n",
      "Avg Training Stats after 1 Testing rounds:\n",
      "Training loss: -124.16 | Validation accuracy: 86.70% | Validation Demographic disparity: 0.4555\n",
      "\n",
      " | Testing Round : 2 | constraint :  Cov(z, d) > -c\n",
      "\n"
     ]
    },
    {
     "name": "stderr",
     "output_type": "stream",
     "text": [
      "\r",
      " 67%|██████▋   | 2/3 [00:05<00:02,  2.90s/it]"
     ]
    },
    {
     "name": "stdout",
     "output_type": "stream",
     "text": [
      "Client 1: accuracy loss: 3.61 | fairness loss 5849.47 | Demographic disparity = 0.61\n",
      "Client 2: accuracy loss: 4.02 | fairness loss 6654.54 | Demographic disparity = 0.44\n",
      "Client 3: accuracy loss: 3.79 | fairness loss 7169.71 | Demographic disparity = 0.46\n",
      " \n",
      "Avg Training Stats after 2 Testing rounds:\n",
      "Training loss: -141.91 | Validation accuracy: 86.99% | Validation Demographic disparity: 0.4522\n",
      "\n",
      " | Testing Round : 3 | constraint :  Cov(z, d) > -c\n",
      "\n"
     ]
    },
    {
     "name": "stderr",
     "output_type": "stream",
     "text": [
      "100%|██████████| 3/3 [00:08<00:00,  2.87s/it]\n",
      "  0%|          | 0/4 [00:00<?, ?it/s]"
     ]
    },
    {
     "name": "stdout",
     "output_type": "stream",
     "text": [
      "Client 1: accuracy loss: 3.97 | fairness loss 15659.91 | Demographic disparity = 0.61\n",
      "Client 2: accuracy loss: 4.49 | fairness loss 17761.22 | Demographic disparity = 0.44\n",
      "Client 3: accuracy loss: 4.25 | fairness loss 19297.04 | Demographic disparity = 0.46\n",
      " \n",
      "Avg Training Stats after 3 Testing rounds:\n",
      "Training loss: -186.01 | Validation accuracy: 86.99% | Validation Demographic disparity: 0.4522\n",
      "\n",
      " | Global Round : 1 | constraint :  Cov(z, d) < c\n",
      "\n"
     ]
    },
    {
     "name": "stderr",
     "output_type": "stream",
     "text": [
      "\r",
      " 25%|██▌       | 1/4 [00:02<00:07,  2.62s/it]"
     ]
    },
    {
     "name": "stdout",
     "output_type": "stream",
     "text": [
      "Client 1: accuracy loss: 3.29 | fairness loss 16931.38 | Demographic disparity = 0.03\n",
      "Client 2: accuracy loss: 3.06 | fairness loss 19269.79 | Demographic disparity = 0.03\n",
      "Client 3: accuracy loss: 2.91 | fairness loss 20856.28 | Demographic disparity = 0.09\n",
      " \n",
      "Avg Training Stats after 1 global rounds:\n",
      "Training loss: -222.33 | Validation accuracy: 51.75% | Validation Demographic disparity: 0.0575\n",
      "\n",
      " | Global Round : 2 | constraint :  Cov(z, d) < c\n",
      "\n"
     ]
    },
    {
     "name": "stderr",
     "output_type": "stream",
     "text": [
      "\r",
      " 50%|█████     | 2/4 [00:05<00:05,  2.72s/it]"
     ]
    },
    {
     "name": "stdout",
     "output_type": "stream",
     "text": [
      "Client 1: accuracy loss: 3.29 | fairness loss 18294.97 | Demographic disparity = 0.05\n",
      "Client 2: accuracy loss: 3.06 | fairness loss 20812.58 | Demographic disparity = 0.05\n",
      "Client 3: accuracy loss: 2.91 | fairness loss 22544.78 | Demographic disparity = 0.10\n",
      " \n",
      "Avg Training Stats after 2 global rounds:\n",
      "Training loss: -252.04 | Validation accuracy: 50.32% | Validation Demographic disparity: 0.0691\n",
      "\n",
      " | Global Round : 3 | constraint :  Cov(z, d) < c\n",
      "\n"
     ]
    },
    {
     "name": "stderr",
     "output_type": "stream",
     "text": [
      "\r",
      " 75%|███████▌  | 3/4 [00:07<00:02,  2.63s/it]"
     ]
    },
    {
     "name": "stdout",
     "output_type": "stream",
     "text": [
      "Client 1: accuracy loss: 3.29 | fairness loss 19712.32 | Demographic disparity = 0.05\n",
      "Client 2: accuracy loss: 3.06 | fairness loss 22415.84 | Demographic disparity = 0.04\n",
      "Client 3: accuracy loss: 2.92 | fairness loss 24300.20 | Demographic disparity = 0.10\n",
      " \n",
      "Avg Training Stats after 3 global rounds:\n",
      "Training loss: -277.35 | Validation accuracy: 50.06% | Validation Demographic disparity: 0.0658\n",
      "\n",
      " | Global Round : 4 | constraint :  Cov(z, d) < c\n",
      "\n"
     ]
    },
    {
     "name": "stderr",
     "output_type": "stream",
     "text": [
      "100%|██████████| 4/4 [00:10<00:00,  2.59s/it]"
     ]
    },
    {
     "name": "stdout",
     "output_type": "stream",
     "text": [
      "Client 1: accuracy loss: 3.29 | fairness loss 21183.47 | Demographic disparity = 0.08\n",
      "Client 2: accuracy loss: 3.06 | fairness loss 24079.59 | Demographic disparity = 0.06\n",
      "Client 3: accuracy loss: 2.92 | fairness loss 26122.55 | Demographic disparity = 0.10\n",
      " \n",
      "Avg Training Stats after 4 global rounds:\n",
      "Training loss: -299.58 | Validation accuracy: 49.12% | Validation Demographic disparity: 0.0824\n",
      " \n",
      " Results after 4 global rounds of training:\n",
      "|---- Avg Train Accuracy: 49.12%\n",
      "|---- Test Accuracy: 43.00%\n",
      "|---- Test Demographic disparity: 0.1721\n",
      "\n",
      " Total Run Time: 33.2568 sec\n"
     ]
    },
    {
     "name": "stderr",
     "output_type": "stream",
     "text": [
      "\n"
     ]
    }
   ],
   "source": [
    "seed = 812\n",
    "synthetic_info = dataGenerate(seed = seed, test_samples = 100)\n",
    "server = Server(logReg(num_features=3, num_classes=2, seed = seed), synthetic_info, train_prn = False, metric = \"Demographic disparity\", seed = seed)\n",
    "server.Zafar(test_rounds = 3, test_lr = 0.01, num_rounds = 4, local_epochs = 30, optimizer = 'adam', learning_rate = 0.001, penalty = 50)\n"
   ]
  },
  {
   "cell_type": "code",
   "execution_count": 6,
   "metadata": {
    "scrolled": true
   },
   "outputs": [
    {
     "name": "stderr",
     "output_type": "stream",
     "text": [
      "\n",
      "  0%|          | 0/1 [00:00<?, ?it/s]\u001b[A"
     ]
    },
    {
     "name": "stdout",
     "output_type": "stream",
     "text": [
      "\n",
      " | Global Training Round : 1 |\n",
      "\n"
     ]
    },
    {
     "name": "stderr",
     "output_type": "stream",
     "text": [
      "\n",
      "100%|██████████| 1/1 [00:02<00:00,  2.40s/it]\u001b[A\n",
      "\n",
      "  0%|          | 0/9 [00:00<?, ?it/s]\u001b[A"
     ]
    },
    {
     "name": "stdout",
     "output_type": "stream",
     "text": [
      "Client 1: accuracy loss: 3.34 | fairness loss 1071.04 | Demographic disparity = 0.48\n",
      "Client 2: accuracy loss: 2.28 | fairness loss 992.26 | Demographic disparity = 0.39\n",
      "Client 3: accuracy loss: 2.86 | fairness loss 1189.98 | Demographic disparity = 0.33\n",
      " \n",
      "Avg Training Stats after 1 global rounds:\n",
      "Training loss: 38.60 | Validation accuracy: 86.86% | Validation Demographic disparity: 0.3999\n",
      " \n",
      " Results after 1 global rounds of training:\n",
      "|---- Avg Train Accuracy: 86.86%\n",
      "|---- Test Accuracy: 84.00%\n",
      "|---- Test Demographic disparity: 0.4857\n",
      "\n",
      " Total Run Time: 2.4168 sec\n",
      "\n",
      " | Global Training Round : 1 |\n",
      "\n"
     ]
    },
    {
     "name": "stderr",
     "output_type": "stream",
     "text": [
      "\n",
      " 11%|█         | 1/9 [00:02<00:22,  2.87s/it]\u001b[A"
     ]
    },
    {
     "name": "stdout",
     "output_type": "stream",
     "text": [
      "Client 1: predictor loss: 4.19 | adversary loss 0.40 | Demographic disparity = 0.37\n",
      "Client 2: predictor loss: 2.80 | adversary loss 0.40 | Demographic disparity = 0.39\n",
      "Client 3: predictor loss: 3.29 | adversary loss 0.47 | Demographic disparity = 0.22\n",
      " \n",
      "Avg Training Stats after 1 global rounds:\n",
      "Training loss: 41.28 | Validation accuracy: 82.75% | Validation Demographic disparity: 0.3366\n",
      "\n",
      " | Global Training Round : 2 |\n",
      "\n"
     ]
    },
    {
     "name": "stderr",
     "output_type": "stream",
     "text": [
      "\n",
      " 22%|██▏       | 2/9 [00:05<00:19,  2.84s/it]\u001b[A"
     ]
    },
    {
     "name": "stdout",
     "output_type": "stream",
     "text": [
      "Client 1: predictor loss: 3.97 | adversary loss 0.38 | Demographic disparity = 0.39\n",
      "Client 2: predictor loss: 2.66 | adversary loss 0.40 | Demographic disparity = 0.41\n",
      "Client 3: predictor loss: 3.19 | adversary loss 0.49 | Demographic disparity = 0.25\n",
      " \n",
      "Avg Training Stats after 2 global rounds:\n",
      "Training loss: 43.05 | Validation accuracy: 82.75% | Validation Demographic disparity: 0.3566\n",
      "\n",
      " | Global Training Round : 3 |\n",
      "\n"
     ]
    },
    {
     "name": "stderr",
     "output_type": "stream",
     "text": [
      "\n",
      " 33%|███▎      | 3/9 [00:08<00:17,  2.93s/it]\u001b[A"
     ]
    },
    {
     "name": "stdout",
     "output_type": "stream",
     "text": [
      "Client 1: predictor loss: 4.82 | adversary loss 0.44 | Demographic disparity = 0.44\n",
      "Client 2: predictor loss: 3.08 | adversary loss 0.45 | Demographic disparity = 0.32\n",
      "Client 3: predictor loss: 3.74 | adversary loss 0.56 | Demographic disparity = 0.18\n",
      " \n",
      "Avg Training Stats after 3 global rounds:\n",
      "Training loss: 44.36 | Validation accuracy: 79.13% | Validation Demographic disparity: 0.3018\n",
      "\n",
      " | Global Training Round : 4 |\n",
      "\n"
     ]
    },
    {
     "name": "stderr",
     "output_type": "stream",
     "text": [
      "\n",
      " 44%|████▍     | 4/9 [00:12<00:15,  3.04s/it]\u001b[A"
     ]
    },
    {
     "name": "stdout",
     "output_type": "stream",
     "text": [
      "Client 1: predictor loss: 5.61 | adversary loss 0.48 | Demographic disparity = 0.30\n",
      "Client 2: predictor loss: 3.44 | adversary loss 0.48 | Demographic disparity = 0.26\n",
      "Client 3: predictor loss: 4.28 | adversary loss 0.60 | Demographic disparity = 0.16\n",
      " \n",
      "Avg Training Stats after 4 global rounds:\n",
      "Training loss: 47.19 | Validation accuracy: 76.39% | Validation Demographic disparity: 0.2307\n",
      "\n",
      " | Global Training Round : 5 |\n",
      "\n"
     ]
    },
    {
     "name": "stderr",
     "output_type": "stream",
     "text": [
      "\n",
      " 56%|█████▌    | 5/9 [00:15<00:12,  3.04s/it]\u001b[A"
     ]
    },
    {
     "name": "stdout",
     "output_type": "stream",
     "text": [
      "Client 1: predictor loss: 6.28 | adversary loss 0.50 | Demographic disparity = 0.29\n",
      "Client 2: predictor loss: 3.76 | adversary loss 0.51 | Demographic disparity = 0.25\n",
      "Client 3: predictor loss: 4.73 | adversary loss 0.63 | Demographic disparity = 0.13\n",
      " \n",
      "Avg Training Stats after 5 global rounds:\n",
      "Training loss: 50.52 | Validation accuracy: 74.04% | Validation Demographic disparity: 0.2116\n",
      "\n",
      " | Global Training Round : 6 |\n",
      "\n"
     ]
    },
    {
     "name": "stderr",
     "output_type": "stream",
     "text": [
      "\n",
      " 67%|██████▋   | 6/9 [00:18<00:09,  3.09s/it]\u001b[A"
     ]
    },
    {
     "name": "stdout",
     "output_type": "stream",
     "text": [
      "Client 1: predictor loss: 6.80 | adversary loss 0.51 | Demographic disparity = 0.18\n",
      "Client 2: predictor loss: 4.09 | adversary loss 0.53 | Demographic disparity = 0.24\n",
      "Client 3: predictor loss: 5.06 | adversary loss 0.65 | Demographic disparity = 0.09\n",
      " \n",
      "Avg Training Stats after 6 global rounds:\n",
      "Training loss: 53.71 | Validation accuracy: 71.57% | Validation Demographic disparity: 0.1711\n",
      "\n",
      " | Global Training Round : 7 |\n",
      "\n"
     ]
    },
    {
     "name": "stderr",
     "output_type": "stream",
     "text": [
      "\n",
      " 78%|███████▊  | 7/9 [00:21<00:06,  3.13s/it]\u001b[A"
     ]
    },
    {
     "name": "stdout",
     "output_type": "stream",
     "text": [
      "Client 1: predictor loss: 7.14 | adversary loss 0.52 | Demographic disparity = 0.18\n",
      "Client 2: predictor loss: 4.31 | adversary loss 0.55 | Demographic disparity = 0.22\n",
      "Client 3: predictor loss: 5.29 | adversary loss 0.67 | Demographic disparity = 0.08\n",
      " \n",
      "Avg Training Stats after 7 global rounds:\n",
      "Training loss: 56.64 | Validation accuracy: 70.52% | Validation Demographic disparity: 0.1562\n",
      "\n",
      " | Global Training Round : 8 |\n",
      "\n"
     ]
    },
    {
     "name": "stderr",
     "output_type": "stream",
     "text": [
      "\n",
      " 89%|████████▉ | 8/9 [00:24<00:03,  3.15s/it]\u001b[A"
     ]
    },
    {
     "name": "stdout",
     "output_type": "stream",
     "text": [
      "Client 1: predictor loss: 5.15 | adversary loss 0.47 | Demographic disparity = 0.36\n",
      "Client 2: predictor loss: 3.17 | adversary loss 0.51 | Demographic disparity = 0.32\n",
      "Client 3: predictor loss: 3.98 | adversary loss 0.63 | Demographic disparity = 0.18\n",
      " \n",
      "Avg Training Stats after 8 global rounds:\n",
      "Training loss: 58.50 | Validation accuracy: 78.54% | Validation Demographic disparity: 0.2837\n",
      "\n",
      " | Global Training Round : 9 |\n",
      "\n"
     ]
    },
    {
     "name": "stderr",
     "output_type": "stream",
     "text": [
      "\n",
      "100%|██████████| 9/9 [00:27<00:00,  3.11s/it]\u001b[A"
     ]
    },
    {
     "name": "stdout",
     "output_type": "stream",
     "text": [
      "Client 1: predictor loss: 5.72 | adversary loss 0.49 | Demographic disparity = 0.30\n",
      "Client 2: predictor loss: 3.48 | adversary loss 0.51 | Demographic disparity = 0.26\n",
      "Client 3: predictor loss: 4.34 | adversary loss 0.64 | Demographic disparity = 0.14\n",
      " \n",
      "Avg Training Stats after 9 global rounds:\n",
      "Training loss: 58.41 | Validation accuracy: 76.00% | Validation Demographic disparity: 0.2274\n",
      " \n",
      " Results after 9 global rounds of training:\n",
      "|---- Avg Train Accuracy: 76.00%\n",
      "|---- Test Accuracy: 73.00%\n",
      "|---- Test Demographic disparity: 0.2957\n",
      "\n",
      " Total Run Time: 27.9964 sec\n"
     ]
    },
    {
     "name": "stderr",
     "output_type": "stream",
     "text": [
      "\n"
     ]
    }
   ],
   "source": [
    "seed = 619\n",
    "synthetic_info = dataGenerate(seed = seed, test_samples = 100)\n",
    "server = Server(logReg(num_features=3, num_classes=2, seed = seed), synthetic_info, train_prn = False, metric = \"Demographic disparity\", seed = seed)\n",
    "server.Unconstrained(num_rounds = 1, local_epochs = 30, optimizer = 'adam', learning_rate = 0.01)\n",
    "server.AdversarialLearning(num_rounds = 9, local_epochs = 30, optimizer = 'adam', epsilon = None, learning_rate = 0.005, alpha = 0.5, adaptive_lr = True)"
   ]
  },
  {
   "cell_type": "code",
   "execution_count": 4,
   "metadata": {
    "scrolled": true
   },
   "outputs": [
    {
     "name": "stderr",
     "output_type": "stream",
     "text": [
      "\r",
      "  0%|          | 0/1 [00:00<?, ?it/s]"
     ]
    },
    {
     "name": "stdout",
     "output_type": "stream",
     "text": [
      "\n",
      " | Global Training Round : 1 |\n",
      "\n"
     ]
    },
    {
     "name": "stderr",
     "output_type": "stream",
     "text": [
      "100%|██████████| 1/1 [00:02<00:00,  2.45s/it]\n",
      "  0%|          | 0/9 [00:00<?, ?it/s]"
     ]
    },
    {
     "name": "stdout",
     "output_type": "stream",
     "text": [
      "Client 1: accuracy loss: 2.67 | fairness loss 446.22 | Demographic disparity = 0.47\n",
      "Client 2: accuracy loss: 3.49 | fairness loss 522.31 | Demographic disparity = 0.32\n",
      "Client 3: accuracy loss: 2.43 | fairness loss 531.58 | Demographic disparity = 0.47\n",
      " \n",
      "Avg Training Stats after 1 global rounds:\n",
      "Training loss: 53.65 | Validation accuracy: 86.28% | Validation Demographic disparity: 0.3835\n",
      " \n",
      " Results after 1 global rounds of training:\n",
      "|---- Avg Train Accuracy: 86.28%\n",
      "|---- Test Accuracy: 82.00%\n",
      "|---- Test Demographic disparity: 0.3805\n",
      "\n",
      " Total Run Time: 2.4680 sec\n",
      "\n",
      " | Global Training Round : 1 |\n",
      "\n"
     ]
    },
    {
     "name": "stderr",
     "output_type": "stream",
     "text": [
      "\r",
      " 11%|█         | 1/9 [00:03<00:28,  3.53s/it]"
     ]
    },
    {
     "name": "stdout",
     "output_type": "stream",
     "text": [
      "Client 1: predictor loss: 5.07 | adversary loss 0.46 | Demographic disparity = 0.32\n",
      "Client 2: predictor loss: 5.66 | adversary loss 0.68 | Demographic disparity = 0.09\n",
      "Client 3: predictor loss: 4.58 | adversary loss 0.76 | Demographic disparity = 0.07\n",
      " \n",
      "Avg Training Stats after 1 global rounds:\n",
      "Training loss: 41.48 | Validation accuracy: 69.18% | Validation Demographic disparity: 0.1421\n",
      "\n",
      " | Global Training Round : 2 |\n",
      "\n"
     ]
    },
    {
     "name": "stderr",
     "output_type": "stream",
     "text": [
      "\r",
      " 22%|██▏       | 2/9 [00:07<00:25,  3.64s/it]"
     ]
    },
    {
     "name": "stdout",
     "output_type": "stream",
     "text": [
      "Client 1: predictor loss: 5.88 | adversary loss 0.67 | Demographic disparity = 0.15\n",
      "Client 2: predictor loss: 6.47 | adversary loss 0.69 | Demographic disparity = 0.02\n",
      "Client 3: predictor loss: 5.37 | adversary loss 0.62 | Demographic disparity = 0.05\n",
      " \n",
      "Avg Training Stats after 2 global rounds:\n",
      "Training loss: 53.62 | Validation accuracy: 62.85% | Validation Demographic disparity: 0.0398\n",
      "\n",
      " | Global Training Round : 3 |\n",
      "\n"
     ]
    },
    {
     "name": "stderr",
     "output_type": "stream",
     "text": [
      "\r",
      " 33%|███▎      | 3/9 [00:10<00:21,  3.53s/it]"
     ]
    },
    {
     "name": "stdout",
     "output_type": "stream",
     "text": [
      "Client 1: predictor loss: 6.70 | adversary loss 0.78 | Demographic disparity = 0.06\n",
      "Client 2: predictor loss: 7.23 | adversary loss 0.76 | Demographic disparity = 0.02\n",
      "Client 3: predictor loss: 6.10 | adversary loss 0.69 | Demographic disparity = 0.11\n",
      " \n",
      "Avg Training Stats after 3 global rounds:\n",
      "Training loss: 62.83 | Validation accuracy: 58.57% | Validation Demographic disparity: 0.0020\n",
      "\n",
      " | Global Training Round : 4 |\n",
      "\n"
     ]
    },
    {
     "name": "stderr",
     "output_type": "stream",
     "text": [
      "\r",
      " 44%|████▍     | 4/9 [00:13<00:17,  3.40s/it]"
     ]
    },
    {
     "name": "stdout",
     "output_type": "stream",
     "text": [
      "Client 1: predictor loss: 7.84 | adversary loss 0.76 | Demographic disparity = 0.10\n",
      "Client 2: predictor loss: 8.23 | adversary loss 0.74 | Demographic disparity = 0.05\n",
      "Client 3: predictor loss: 7.05 | adversary loss 0.72 | Demographic disparity = 0.20\n",
      " \n",
      "Avg Training Stats after 4 global rounds:\n",
      "Training loss: 70.98 | Validation accuracy: 52.35% | Validation Demographic disparity: 0.0924\n",
      "\n",
      " | Global Training Round : 5 |\n",
      "\n"
     ]
    },
    {
     "name": "stderr",
     "output_type": "stream",
     "text": [
      "\r",
      " 56%|█████▌    | 5/9 [00:16<00:13,  3.30s/it]"
     ]
    },
    {
     "name": "stdout",
     "output_type": "stream",
     "text": [
      "Client 1: predictor loss: 2.99 | adversary loss 0.58 | Demographic disparity = 0.46\n",
      "Client 2: predictor loss: 3.80 | adversary loss 0.60 | Demographic disparity = 0.26\n",
      "Client 3: predictor loss: 2.62 | adversary loss 0.56 | Demographic disparity = 0.39\n",
      " \n",
      "Avg Training Stats after 5 global rounds:\n",
      "Training loss: 75.47 | Validation accuracy: 84.47% | Validation Demographic disparity: 0.3261\n",
      "\n",
      " | Global Training Round : 6 |\n",
      "\n"
     ]
    },
    {
     "name": "stderr",
     "output_type": "stream",
     "text": [
      "\r",
      " 67%|██████▋   | 6/9 [00:20<00:09,  3.25s/it]"
     ]
    },
    {
     "name": "stdout",
     "output_type": "stream",
     "text": [
      "Client 1: predictor loss: 3.65 | adversary loss 0.56 | Demographic disparity = 0.33\n",
      "Client 2: predictor loss: 4.75 | adversary loss 0.67 | Demographic disparity = 0.18\n",
      "Client 3: predictor loss: 3.31 | adversary loss 0.60 | Demographic disparity = 0.23\n",
      " \n",
      "Avg Training Stats after 6 global rounds:\n",
      "Training loss: 70.26 | Validation accuracy: 78.20% | Validation Demographic disparity: 0.2316\n",
      "\n",
      " | Global Training Round : 7 |\n",
      "\n"
     ]
    },
    {
     "name": "stderr",
     "output_type": "stream",
     "text": [
      "\r",
      " 78%|███████▊  | 7/9 [00:23<00:06,  3.29s/it]"
     ]
    },
    {
     "name": "stdout",
     "output_type": "stream",
     "text": [
      "Client 1: predictor loss: 4.22 | adversary loss 0.61 | Demographic disparity = 0.28\n",
      "Client 2: predictor loss: 5.52 | adversary loss 0.69 | Demographic disparity = 0.12\n",
      "Client 3: predictor loss: 3.95 | adversary loss 0.64 | Demographic disparity = 0.17\n",
      " \n",
      "Avg Training Stats after 7 global rounds:\n",
      "Training loss: 67.84 | Validation accuracy: 74.72% | Validation Demographic disparity: 0.1823\n",
      "\n",
      " | Global Training Round : 8 |\n",
      "\n"
     ]
    },
    {
     "name": "stderr",
     "output_type": "stream",
     "text": [
      "\r",
      " 89%|████████▉ | 8/9 [00:26<00:03,  3.33s/it]"
     ]
    },
    {
     "name": "stdout",
     "output_type": "stream",
     "text": [
      "Client 1: predictor loss: 4.71 | adversary loss 0.63 | Demographic disparity = 0.25\n",
      "Client 2: predictor loss: 6.03 | adversary loss 0.70 | Demographic disparity = 0.10\n",
      "Client 3: predictor loss: 4.49 | adversary loss 0.66 | Demographic disparity = 0.09\n",
      " \n",
      "Avg Training Stats after 8 global rounds:\n",
      "Training loss: 66.86 | Validation accuracy: 70.84% | Validation Demographic disparity: 0.1394\n",
      "\n",
      " | Global Training Round : 9 |\n",
      "\n"
     ]
    },
    {
     "name": "stderr",
     "output_type": "stream",
     "text": [
      "100%|██████████| 9/9 [00:29<00:00,  3.32s/it]"
     ]
    },
    {
     "name": "stdout",
     "output_type": "stream",
     "text": [
      "Client 1: predictor loss: 4.97 | adversary loss 0.64 | Demographic disparity = 0.25\n",
      "Client 2: predictor loss: 6.32 | adversary loss 0.70 | Demographic disparity = 0.09\n",
      "Client 3: predictor loss: 4.78 | adversary loss 0.67 | Demographic disparity = 0.06\n",
      " \n",
      "Avg Training Stats after 9 global rounds:\n",
      "Training loss: 66.63 | Validation accuracy: 70.12% | Validation Demographic disparity: 0.1317\n",
      " \n",
      " Results after 9 global rounds of training:\n",
      "|---- Avg Train Accuracy: 70.12%\n",
      "|---- Test Accuracy: 71.00%\n",
      "|---- Test Demographic disparity: 0.1110\n",
      "\n",
      " Total Run Time: 29.8830 sec\n"
     ]
    },
    {
     "name": "stderr",
     "output_type": "stream",
     "text": [
      "\n"
     ]
    }
   ],
   "source": [
    "seed = 860\n",
    "synthetic_info = dataGenerate(seed = seed, test_samples = 100)\n",
    "server = Server(logReg(num_features=3, num_classes=2, seed = seed), synthetic_info, train_prn = False, metric = \"Demographic disparity\", seed = seed)\n",
    "server.Unconstrained(num_rounds = 1, local_epochs = 30, optimizer = 'adam', learning_rate = 0.01)\n",
    "server.AdversarialLearning(num_rounds = 9, local_epochs = 30, optimizer = 'adam', epsilon = None, learning_rate = 0.005, alpha = 0.5, adaptive_lr = True)"
   ]
  },
  {
   "cell_type": "code",
   "execution_count": 6,
   "metadata": {
    "scrolled": true
   },
   "outputs": [
    {
     "name": "stderr",
     "output_type": "stream",
     "text": [
      "\r",
      "  0%|          | 0/10 [00:00<?, ?it/s]"
     ]
    },
    {
     "name": "stdout",
     "output_type": "stream",
     "text": [
      "\n",
      " | Global Training Round : 1 |\n",
      "\n"
     ]
    },
    {
     "name": "stderr",
     "output_type": "stream",
     "text": [
      "\r",
      " 10%|█         | 1/10 [00:02<00:20,  2.26s/it]"
     ]
    },
    {
     "name": "stdout",
     "output_type": "stream",
     "text": [
      "Client 1: accuracy loss: 3.87 | fairness loss 695.38 | Demographic disparity = 0.54\n",
      "Client 2: accuracy loss: 3.12 | fairness loss 570.50 | Demographic disparity = 0.33\n",
      "Client 3: accuracy loss: 3.83 | fairness loss 461.92 | Demographic disparity = 0.29\n",
      " \n",
      "Avg Training Stats after 1 global rounds:\n",
      "Training loss: 77.96 | Validation accuracy: 81.85% | Validation Demographic disparity: 0.3838\n",
      "\n",
      " | Global Training Round : 2 |\n",
      "\n"
     ]
    },
    {
     "name": "stderr",
     "output_type": "stream",
     "text": [
      "\r",
      " 20%|██        | 2/10 [00:04<00:17,  2.23s/it]"
     ]
    },
    {
     "name": "stdout",
     "output_type": "stream",
     "text": [
      "Client 1: accuracy loss: 2.86 | fairness loss 794.52 | Demographic disparity = 0.64\n",
      "Client 2: accuracy loss: 2.33 | fairness loss 620.35 | Demographic disparity = 0.36\n",
      "Client 3: accuracy loss: 2.78 | fairness loss 546.89 | Demographic disparity = 0.39\n",
      " \n",
      "Avg Training Stats after 2 global rounds:\n",
      "Training loss: 64.63 | Validation accuracy: 89.42% | Validation Demographic disparity: 0.4433\n",
      "\n",
      " | Global Training Round : 3 |\n",
      "\n"
     ]
    },
    {
     "name": "stderr",
     "output_type": "stream",
     "text": [
      "\r",
      " 30%|███       | 3/10 [00:06<00:16,  2.32s/it]"
     ]
    },
    {
     "name": "stdout",
     "output_type": "stream",
     "text": [
      "Client 1: accuracy loss: 2.53 | fairness loss 1006.54 | Demographic disparity = 0.57\n",
      "Client 2: accuracy loss: 2.08 | fairness loss 780.10 | Demographic disparity = 0.36\n",
      "Client 3: accuracy loss: 2.48 | fairness loss 748.09 | Demographic disparity = 0.37\n",
      " \n",
      "Avg Training Stats after 3 global rounds:\n",
      "Training loss: 56.37 | Validation accuracy: 88.44% | Validation Demographic disparity: 0.4267\n",
      "\n",
      " | Global Training Round : 4 |\n",
      "\n"
     ]
    },
    {
     "name": "stderr",
     "output_type": "stream",
     "text": [
      "\r",
      " 40%|████      | 4/10 [00:09<00:15,  2.50s/it]"
     ]
    },
    {
     "name": "stdout",
     "output_type": "stream",
     "text": [
      "Client 1: accuracy loss: 2.50 | fairness loss 1254.40 | Demographic disparity = 0.57\n",
      "Client 2: accuracy loss: 2.02 | fairness loss 975.23 | Demographic disparity = 0.36\n",
      "Client 3: accuracy loss: 2.47 | fairness loss 981.28 | Demographic disparity = 0.35\n",
      " \n",
      "Avg Training Stats after 4 global rounds:\n",
      "Training loss: 51.44 | Validation accuracy: 89.23% | Validation Demographic disparity: 0.4176\n",
      "\n",
      " | Global Training Round : 5 |\n",
      "\n"
     ]
    },
    {
     "name": "stderr",
     "output_type": "stream",
     "text": [
      "\r",
      " 50%|█████     | 5/10 [00:12<00:12,  2.56s/it]"
     ]
    },
    {
     "name": "stdout",
     "output_type": "stream",
     "text": [
      "Client 1: accuracy loss: 2.51 | fairness loss 1343.54 | Demographic disparity = 0.57\n",
      "Client 2: accuracy loss: 2.01 | fairness loss 1045.68 | Demographic disparity = 0.35\n",
      "Client 3: accuracy loss: 2.48 | fairness loss 1062.59 | Demographic disparity = 0.35\n",
      " \n",
      "Avg Training Stats after 5 global rounds:\n",
      "Training loss: 48.40 | Validation accuracy: 88.90% | Validation Demographic disparity: 0.4143\n",
      "\n",
      " | Global Training Round : 6 |\n",
      "\n"
     ]
    },
    {
     "name": "stderr",
     "output_type": "stream",
     "text": [
      "\r",
      " 60%|██████    | 6/10 [00:15<00:10,  2.63s/it]"
     ]
    },
    {
     "name": "stdout",
     "output_type": "stream",
     "text": [
      "Client 1: accuracy loss: 2.52 | fairness loss 1361.09 | Demographic disparity = 0.57\n",
      "Client 2: accuracy loss: 2.00 | fairness loss 1059.49 | Demographic disparity = 0.35\n",
      "Client 3: accuracy loss: 2.47 | fairness loss 1076.50 | Demographic disparity = 0.35\n",
      " \n",
      "Avg Training Stats after 6 global rounds:\n",
      "Training loss: 46.38 | Validation accuracy: 88.90% | Validation Demographic disparity: 0.4143\n",
      "\n",
      " | Global Training Round : 7 |\n",
      "\n"
     ]
    },
    {
     "name": "stderr",
     "output_type": "stream",
     "text": [
      "\r",
      " 70%|███████   | 7/10 [00:17<00:07,  2.58s/it]"
     ]
    },
    {
     "name": "stdout",
     "output_type": "stream",
     "text": [
      "Client 1: accuracy loss: 2.52 | fairness loss 1367.86 | Demographic disparity = 0.57\n",
      "Client 2: accuracy loss: 1.99 | fairness loss 1064.80 | Demographic disparity = 0.35\n",
      "Client 3: accuracy loss: 2.46 | fairness loss 1080.67 | Demographic disparity = 0.34\n",
      " \n",
      "Avg Training Stats after 7 global rounds:\n",
      "Training loss: 44.93 | Validation accuracy: 88.51% | Validation Demographic disparity: 0.4085\n",
      "\n",
      " | Global Training Round : 8 |\n",
      "\n"
     ]
    },
    {
     "name": "stderr",
     "output_type": "stream",
     "text": [
      "\r",
      " 80%|████████  | 8/10 [00:20<00:05,  2.54s/it]"
     ]
    },
    {
     "name": "stdout",
     "output_type": "stream",
     "text": [
      "Client 1: accuracy loss: 2.53 | fairness loss 1372.36 | Demographic disparity = 0.57\n",
      "Client 2: accuracy loss: 1.99 | fairness loss 1068.33 | Demographic disparity = 0.35\n",
      "Client 3: accuracy loss: 2.46 | fairness loss 1083.04 | Demographic disparity = 0.34\n",
      " \n",
      "Avg Training Stats after 8 global rounds:\n",
      "Training loss: 43.85 | Validation accuracy: 88.51% | Validation Demographic disparity: 0.4085\n",
      "\n",
      " | Global Training Round : 9 |\n",
      "\n"
     ]
    },
    {
     "name": "stderr",
     "output_type": "stream",
     "text": [
      "\r",
      " 90%|█████████ | 9/10 [00:23<00:02,  2.85s/it]"
     ]
    },
    {
     "name": "stdout",
     "output_type": "stream",
     "text": [
      "Client 1: accuracy loss: 2.53 | fairness loss 1376.00 | Demographic disparity = 0.57\n",
      "Client 2: accuracy loss: 1.99 | fairness loss 1071.19 | Demographic disparity = 0.34\n",
      "Client 3: accuracy loss: 2.46 | fairness loss 1084.90 | Demographic disparity = 0.34\n",
      " \n",
      "Avg Training Stats after 9 global rounds:\n",
      "Training loss: 43.00 | Validation accuracy: 88.19% | Validation Demographic disparity: 0.4052\n",
      "\n",
      " | Global Training Round : 10 |\n",
      "\n"
     ]
    },
    {
     "name": "stderr",
     "output_type": "stream",
     "text": [
      "100%|██████████| 10/10 [00:26<00:00,  2.65s/it]"
     ]
    },
    {
     "name": "stdout",
     "output_type": "stream",
     "text": [
      "Client 1: accuracy loss: 2.53 | fairness loss 1379.11 | Demographic disparity = 0.57\n",
      "Client 2: accuracy loss: 1.99 | fairness loss 1073.62 | Demographic disparity = 0.34\n",
      "Client 3: accuracy loss: 2.45 | fairness loss 1086.50 | Demographic disparity = 0.34\n",
      " \n",
      "Avg Training Stats after 10 global rounds:\n",
      "Training loss: 42.33 | Validation accuracy: 88.19% | Validation Demographic disparity: 0.4052\n",
      " \n",
      " Results after 10 global rounds of training:\n",
      "|---- Avg Train Accuracy: 88.19%\n",
      "|---- Test Accuracy: 90.00%\n",
      "|---- Test Demographic disparity: 0.4000\n",
      "\n",
      " Total Run Time: 26.4954 sec\n"
     ]
    },
    {
     "name": "stderr",
     "output_type": "stream",
     "text": [
      "\n"
     ]
    }
   ],
   "source": [
    "seed = 210\n",
    "synthetic_info = dataGenerate(seed = seed, test_samples = 100)\n",
    "server = Server(logReg(num_features=3, num_classes=2, seed = seed), synthetic_info, train_prn = False, metric = \"Demographic disparity\", seed = seed)\n",
    "server.Unconstrained(num_rounds = 10, local_epochs = 30, optimizer = 'adam', epsilon = None, learning_rate = 0.001)"
   ]
  },
  {
   "cell_type": "code",
   "execution_count": 5,
   "metadata": {
    "scrolled": true
   },
   "outputs": [
    {
     "name": "stderr",
     "output_type": "stream",
     "text": [
      "\r",
      "  0%|          | 0/10 [00:00<?, ?it/s]"
     ]
    },
    {
     "name": "stdout",
     "output_type": "stream",
     "text": [
      "\n",
      " | Global Training Round : 1 |\n",
      "\n"
     ]
    },
    {
     "name": "stderr",
     "output_type": "stream",
     "text": [
      "\r",
      " 10%|█         | 1/10 [00:03<00:35,  3.96s/it]"
     ]
    },
    {
     "name": "stdout",
     "output_type": "stream",
     "text": [
      "Client 1: accuracy loss: 3.26 | fairness loss 167.64 | Demographic disparity = 0.48\n",
      "Client 2: accuracy loss: 3.62 | fairness loss 248.47 | Demographic disparity = 0.33\n",
      "Client 3: accuracy loss: 2.55 | fairness loss 334.10 | Demographic disparity = 0.39\n",
      " \n",
      "Avg Training Stats after 1 global rounds:\n",
      "Training loss: 0.40 | Validation accuracy: 87.94% | Validation Demographic disparity: 0.3690\n",
      "\n",
      " | Global Training Round : 2 |\n",
      "\n"
     ]
    },
    {
     "name": "stderr",
     "output_type": "stream",
     "text": [
      "\r",
      " 20%|██        | 2/10 [00:07<00:31,  3.90s/it]"
     ]
    },
    {
     "name": "stdout",
     "output_type": "stream",
     "text": [
      "Client 1: accuracy loss: 3.26 | fairness loss 125.20 | Demographic disparity = 0.37\n",
      "Client 2: accuracy loss: 3.56 | fairness loss 193.73 | Demographic disparity = 0.33\n",
      "Client 3: accuracy loss: 2.46 | fairness loss 261.38 | Demographic disparity = 0.33\n",
      " \n",
      "Avg Training Stats after 2 global rounds:\n",
      "Training loss: 0.38 | Validation accuracy: 88.43% | Validation Demographic disparity: 0.3317\n",
      "\n",
      " | Global Training Round : 3 |\n",
      "\n"
     ]
    },
    {
     "name": "stderr",
     "output_type": "stream",
     "text": [
      "\r",
      " 30%|███       | 3/10 [00:11<00:27,  3.99s/it]"
     ]
    },
    {
     "name": "stdout",
     "output_type": "stream",
     "text": [
      "Client 1: accuracy loss: 3.66 | fairness loss 78.69 | Demographic disparity = 0.35\n",
      "Client 2: accuracy loss: 3.76 | fairness loss 126.82 | Demographic disparity = 0.24\n",
      "Client 3: accuracy loss: 2.72 | fairness loss 170.36 | Demographic disparity = 0.31\n",
      " \n",
      "Avg Training Stats after 3 global rounds:\n",
      "Training loss: 0.39 | Validation accuracy: 87.03% | Validation Demographic disparity: 0.2724\n",
      "\n",
      " | Global Training Round : 4 |\n",
      "\n"
     ]
    },
    {
     "name": "stderr",
     "output_type": "stream",
     "text": [
      "\r",
      " 40%|████      | 4/10 [00:15<00:22,  3.73s/it]"
     ]
    },
    {
     "name": "stdout",
     "output_type": "stream",
     "text": [
      "Client 1: accuracy loss: 4.05 | fairness loss 56.74 | Demographic disparity = 0.23\n",
      "Client 2: accuracy loss: 4.01 | fairness loss 94.47 | Demographic disparity = 0.17\n",
      "Client 3: accuracy loss: 2.99 | fairness loss 124.80 | Demographic disparity = 0.24\n",
      " \n",
      "Avg Training Stats after 4 global rounds:\n",
      "Training loss: 0.39 | Validation accuracy: 82.74% | Validation Demographic disparity: 0.2032\n",
      "\n",
      " | Global Training Round : 5 |\n",
      "\n"
     ]
    },
    {
     "name": "stderr",
     "output_type": "stream",
     "text": [
      "\r",
      " 50%|█████     | 5/10 [00:17<00:17,  3.44s/it]"
     ]
    },
    {
     "name": "stdout",
     "output_type": "stream",
     "text": [
      "Client 1: accuracy loss: 4.38 | fairness loss 46.83 | Demographic disparity = 0.19\n",
      "Client 2: accuracy loss: 4.23 | fairness loss 79.16 | Demographic disparity = 0.15\n",
      "Client 3: accuracy loss: 3.23 | fairness loss 102.03 | Demographic disparity = 0.21\n",
      " \n",
      "Avg Training Stats after 5 global rounds:\n",
      "Training loss: 0.39 | Validation accuracy: 81.51% | Validation Demographic disparity: 0.1711\n",
      "\n",
      " | Global Training Round : 6 |\n",
      "\n"
     ]
    },
    {
     "name": "stderr",
     "output_type": "stream",
     "text": [
      "\r",
      " 60%|██████    | 6/10 [00:20<00:13,  3.26s/it]"
     ]
    },
    {
     "name": "stdout",
     "output_type": "stream",
     "text": [
      "Client 1: accuracy loss: 4.64 | fairness loss 42.44 | Demographic disparity = 0.07\n",
      "Client 2: accuracy loss: 4.42 | fairness loss 71.84 | Demographic disparity = 0.09\n",
      "Client 3: accuracy loss: 3.42 | fairness loss 90.31 | Demographic disparity = 0.18\n",
      " \n",
      "Avg Training Stats after 6 global rounds:\n",
      "Training loss: 0.39 | Validation accuracy: 79.85% | Validation Demographic disparity: 0.1103\n",
      "\n",
      " | Global Training Round : 7 |\n",
      "\n"
     ]
    },
    {
     "name": "stderr",
     "output_type": "stream",
     "text": [
      "\r",
      " 70%|███████   | 7/10 [00:23<00:09,  3.16s/it]"
     ]
    },
    {
     "name": "stdout",
     "output_type": "stream",
     "text": [
      "Client 1: accuracy loss: 4.84 | fairness loss 40.53 | Demographic disparity = 0.07\n",
      "Client 2: accuracy loss: 4.56 | fairness loss 68.25 | Demographic disparity = 0.07\n",
      "Client 3: accuracy loss: 3.57 | fairness loss 84.01 | Demographic disparity = 0.16\n",
      " \n",
      "Avg Training Stats after 7 global rounds:\n",
      "Training loss: 0.39 | Validation accuracy: 77.60% | Validation Demographic disparity: 0.0713\n",
      "\n",
      " | Global Training Round : 8 |\n",
      "\n"
     ]
    },
    {
     "name": "stderr",
     "output_type": "stream",
     "text": [
      "\r",
      " 80%|████████  | 8/10 [00:26<00:06,  3.17s/it]"
     ]
    },
    {
     "name": "stdout",
     "output_type": "stream",
     "text": [
      "Client 1: accuracy loss: 4.99 | fairness loss 39.73 | Demographic disparity = 0.07\n",
      "Client 2: accuracy loss: 4.67 | fairness loss 66.42 | Demographic disparity = 0.07\n",
      "Client 3: accuracy loss: 3.67 | fairness loss 80.43 | Demographic disparity = 0.12\n",
      " \n",
      "Avg Training Stats after 8 global rounds:\n",
      "Training loss: 0.38 | Validation accuracy: 76.43% | Validation Demographic disparity: 0.0558\n",
      "\n",
      " | Global Training Round : 9 |\n",
      "\n"
     ]
    },
    {
     "name": "stderr",
     "output_type": "stream",
     "text": [
      "\r",
      " 90%|█████████ | 9/10 [00:29<00:03,  3.06s/it]"
     ]
    },
    {
     "name": "stdout",
     "output_type": "stream",
     "text": [
      "Client 1: accuracy loss: 5.09 | fairness loss 39.41 | Demographic disparity = 0.08\n",
      "Client 2: accuracy loss: 4.75 | fairness loss 65.45 | Demographic disparity = 0.07\n",
      "Client 3: accuracy loss: 3.75 | fairness loss 78.30 | Demographic disparity = 0.12\n",
      " \n",
      "Avg Training Stats after 9 global rounds:\n",
      "Training loss: 0.38 | Validation accuracy: 76.13% | Validation Demographic disparity: 0.0525\n",
      "\n",
      " | Global Training Round : 10 |\n",
      "\n"
     ]
    },
    {
     "name": "stderr",
     "output_type": "stream",
     "text": [
      "100%|██████████| 10/10 [00:32<00:00,  3.22s/it]"
     ]
    },
    {
     "name": "stdout",
     "output_type": "stream",
     "text": [
      "Client 1: accuracy loss: 5.17 | fairness loss 39.30 | Demographic disparity = 0.13\n",
      "Client 2: accuracy loss: 4.81 | fairness loss 64.91 | Demographic disparity = 0.04\n",
      "Client 3: accuracy loss: 3.81 | fairness loss 76.97 | Demographic disparity = 0.12\n",
      " \n",
      "Avg Training Stats after 10 global rounds:\n",
      "Training loss: 0.38 | Validation accuracy: 74.58% | Validation Demographic disparity: 0.0285\n",
      " \n",
      " Results after 10 global rounds of training:\n",
      "|---- Avg Train Accuracy: 74.58%\n",
      "|---- Test Accuracy: 67.00%\n",
      "|---- Test Demographic disparity: 0.0746\n",
      "\n",
      " Total Run Time: 32.2221 sec\n"
     ]
    },
    {
     "name": "stderr",
     "output_type": "stream",
     "text": [
      "\n"
     ]
    }
   ],
   "source": [
    "seed = 355\n",
    "synthetic_info = dataGenerate(seed = seed, test_samples = 100)\n",
    "server = Server(logReg(num_features=3, num_classes=2, seed = seed), synthetic_info, train_prn = False, metric = \"Demographic disparity\", seed = seed)\n",
    "server.BiasCorrecting(num_rounds = 10, local_epochs = 30, optimizer = 'adam', epsilon = None, learning_rate = 0.005, alpha = 5)\n",
    "\n",
    "\n"
   ]
  },
  {
   "cell_type": "code",
   "execution_count": null,
   "metadata": {
    "scrolled": true
   },
   "outputs": [],
   "source": [
    "seed = 355\n",
    "synthetic_info = dataGenerate(seed = seed, test_samples = 100)\n",
    "server = Server(logReg(num_features=3, num_classes=2, seed = seed), synthetic_info, train_prn = False, metric = \"Demographic disparity\", seed = seed)\n",
    "server.BiasCorrecting(num_rounds = 10, local_epochs = 30, optimizer = 'adam', epsilon = 0.03, learning_rate = 0.001, alpha = 10)\n",
    "\n",
    "\n"
   ]
  },
  {
   "cell_type": "code",
   "execution_count": null,
   "metadata": {},
   "outputs": [],
   "source": []
  }
 ],
 "metadata": {
  "kernelspec": {
   "display_name": "Python 3",
   "language": "python",
   "name": "python3"
  }
 },
 "nbformat": 4,
 "nbformat_minor": 2
}
