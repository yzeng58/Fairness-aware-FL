{
 "cells": [
  {
   "cell_type": "code",
   "execution_count": 1,
   "metadata": {},
   "outputs": [],
   "source": [
    "from Server import *"
   ]
  },
  {
   "cell_type": "code",
   "execution_count": 18,
   "metadata": {},
   "outputs": [],
   "source": [
    "synthetic_info = dataGenerate(seed = 815, test_samples = 100)"
   ]
  },
  {
   "cell_type": "code",
   "execution_count": 19,
   "metadata": {
    "scrolled": true
   },
   "outputs": [
    {
     "name": "stderr",
     "output_type": "stream",
     "text": [
      "\n",
      "\n",
      "\n",
      "\n",
      "\n",
      "\n",
      "  0%|          | 0/10 [00:00<?, ?it/s]\u001b[A\u001b[A\u001b[A\u001b[A\u001b[A\u001b[A"
     ]
    },
    {
     "name": "stdout",
     "output_type": "stream",
     "text": [
      "\n",
      " | Global Training Round : 1 |\n",
      "\n"
     ]
    },
    {
     "name": "stderr",
     "output_type": "stream",
     "text": [
      "\r",
      "  0%|          | 0/10 [00:02<?, ?it/s]"
     ]
    },
    {
     "name": "stdout",
     "output_type": "stream",
     "text": [
      "Client 1: accuracy loss: 6.81 | fairness loss 72.25 | Demographic disparity = 0.02\n",
      "Client 2: accuracy loss: 6.81 | fairness loss 72.25 | Demographic disparity = 0.02\n",
      "Client 3: accuracy loss: 6.81 | fairness loss 72.25 | Demographic disparity = 0.02\n",
      " \n",
      "Avg Training Stats after 1 global rounds:\n",
      "Training loss: 415.74 | Validation accuracy: 45.10% | Validation Demographic disparity: 0.0156\n",
      " \n",
      " Results after 10 global rounds of training:\n",
      "|---- Avg Train Accuracy: 45.10%\n",
      "|---- Test Accuracy: 37.00%\n",
      "|---- Test Demographic disparity: 0.0643\n",
      "\n",
      " Total Run Time: 2.2753 sec\n"
     ]
    },
    {
     "name": "stderr",
     "output_type": "stream",
     "text": [
      "\n"
     ]
    }
   ],
   "source": [
    "server = Server(logReg(num_features=3, num_classes=2), synthetic_info, train_prn = False, metric = \"Demographic disparity\", seed = 744)\n",
    "server.Zafar(num_rounds = 10, local_epochs = 30, penalty = 815, optimizer = 'adam', epsilon = 0.02)"
   ]
  },
  {
   "cell_type": "code",
   "execution_count": null,
   "metadata": {
    "scrolled": true
   },
   "outputs": [],
   "source": [
    "server = Server(logReg(num_features=3, num_classes=2), synthetic_info, train_prn = False)\n",
    "server.Unconstrained(num_rounds = 2, local_epochs = 5)\n",
    "server.ThresholdAdjust(epsilon = 0.02, learning_rate = 0.6)"
   ]
  },
  {
   "cell_type": "code",
   "execution_count": 13,
   "metadata": {},
   "outputs": [],
   "source": [
    "from FairFedAvg import *"
   ]
  },
  {
   "cell_type": "code",
   "execution_count": null,
   "metadata": {},
   "outputs": [],
   "source": []
  }
 ],
 "metadata": {
  "kernelspec": {
   "display_name": "Python 3",
   "language": "python",
   "name": "python3"
  },
  "language_info": {
   "codemirror_mode": {
    "name": "ipython",
    "version": 3
   },
   "file_extension": ".py",
   "mimetype": "text/x-python",
   "name": "python",
   "nbconvert_exporter": "python",
   "pygments_lexer": "ipython3",
   "version": "3.7.4"
  }
 },
 "nbformat": 4,
 "nbformat_minor": 2
}
