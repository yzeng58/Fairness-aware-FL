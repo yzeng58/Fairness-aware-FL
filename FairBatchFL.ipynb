{
 "cells": [
  {
   "cell_type": "code",
   "execution_count": 1,
   "metadata": {},
   "outputs": [],
   "source": [
    "# import the training method \n",
    "from Server import *"
   ]
  },
  {
   "cell_type": "code",
   "execution_count": 6,
   "metadata": {},
   "outputs": [
    {
     "name": "stderr",
     "output_type": "stream",
     "text": [
      "\r",
      "  0%|          | 0/10 [00:00<?, ?it/s]"
     ]
    },
    {
     "name": "stdout",
     "output_type": "stream",
     "text": [
      "\n",
      " | Global Training Round : 1 |\n",
      "\n"
     ]
    },
    {
     "name": "stderr",
     "output_type": "stream",
     "text": [
      "\r",
      " 10%|█         | 1/10 [00:02<00:21,  2.34s/it]"
     ]
    },
    {
     "name": "stdout",
     "output_type": "stream",
     "text": [
      "Client 1: accuracy loss: 3.26 | fairness loss 574.66 | Demographic disparity = 0.51\n",
      "Client 2: accuracy loss: 2.84 | fairness loss 605.45 | Demographic disparity = 0.41\n",
      "Client 3: accuracy loss: 2.32 | fairness loss 875.63 | Demographic disparity = 0.42\n",
      " \n",
      "Avg Training Stats after 1 global rounds:\n",
      "Training loss: 44.47 | Training accuracy: 86.25% | Training Demographic disparity: 0.4586\n",
      "\n",
      " | Global Training Round : 2 |\n",
      "\n"
     ]
    },
    {
     "name": "stderr",
     "output_type": "stream",
     "text": [
      "\r",
      " 20%|██        | 2/10 [00:04<00:19,  2.38s/it]"
     ]
    },
    {
     "name": "stdout",
     "output_type": "stream",
     "text": [
      "Client 1: accuracy loss: 4.18 | fairness loss 286.37 | Demographic disparity = 0.42\n",
      "Client 2: accuracy loss: 3.52 | fairness loss 361.26 | Demographic disparity = 0.29\n",
      "Client 3: accuracy loss: 2.46 | fairness loss 528.31 | Demographic disparity = 0.29\n",
      " \n",
      "Avg Training Stats after 2 global rounds:\n",
      "Training loss: 47.28 | Training accuracy: 82.98% | Training Demographic disparity: 0.3391\n",
      "\n",
      " | Global Training Round : 3 |\n",
      "\n"
     ]
    },
    {
     "name": "stderr",
     "output_type": "stream",
     "text": [
      "\r",
      " 30%|███       | 3/10 [00:07<00:16,  2.42s/it]"
     ]
    },
    {
     "name": "stdout",
     "output_type": "stream",
     "text": [
      "Client 1: accuracy loss: 4.44 | fairness loss 232.88 | Demographic disparity = 0.28\n",
      "Client 2: accuracy loss: 3.79 | fairness loss 301.35 | Demographic disparity = 0.16\n",
      "Client 3: accuracy loss: 2.81 | fairness loss 439.25 | Demographic disparity = 0.23\n",
      " \n",
      "Avg Training Stats after 3 global rounds:\n",
      "Training loss: 46.84 | Training accuracy: 81.06% | Training Demographic disparity: 0.2329\n",
      "\n",
      " | Global Training Round : 4 |\n",
      "\n"
     ]
    },
    {
     "name": "stderr",
     "output_type": "stream",
     "text": [
      "\r",
      " 40%|████      | 4/10 [00:09<00:14,  2.48s/it]"
     ]
    },
    {
     "name": "stdout",
     "output_type": "stream",
     "text": [
      "Client 1: accuracy loss: 4.85 | fairness loss 215.42 | Demographic disparity = 0.03\n",
      "Client 2: accuracy loss: 4.42 | fairness loss 283.59 | Demographic disparity = 0.04\n",
      "Client 3: accuracy loss: 3.48 | fairness loss 398.86 | Demographic disparity = 0.15\n",
      " \n",
      "Avg Training Stats after 4 global rounds:\n",
      "Training loss: 45.87 | Training accuracy: 76.00% | Training Demographic disparity: 0.0992\n",
      "\n",
      " | Global Training Round : 5 |\n",
      "\n"
     ]
    },
    {
     "name": "stderr",
     "output_type": "stream",
     "text": [
      "\r",
      " 50%|█████     | 5/10 [00:12<00:12,  2.48s/it]"
     ]
    },
    {
     "name": "stdout",
     "output_type": "stream",
     "text": [
      "Client 1: accuracy loss: 5.27 | fairness loss 215.47 | Demographic disparity = 0.07\n",
      "Client 2: accuracy loss: 5.11 | fairness loss 284.47 | Demographic disparity = 0.05\n",
      "Client 3: accuracy loss: 4.20 | fairness loss 382.36 | Demographic disparity = 0.04\n",
      " \n",
      "Avg Training Stats after 5 global rounds:\n",
      "Training loss: 44.98 | Training accuracy: 70.06% | Training Demographic disparity: 0.0059\n",
      "\n",
      " | Global Training Round : 6 |\n",
      "\n"
     ]
    },
    {
     "name": "stderr",
     "output_type": "stream",
     "text": [
      "\r",
      " 60%|██████    | 6/10 [00:14<00:10,  2.50s/it]"
     ]
    },
    {
     "name": "stdout",
     "output_type": "stream",
     "text": [
      "Client 1: accuracy loss: 4.84 | fairness loss 272.01 | Demographic disparity = 0.03\n",
      "Client 2: accuracy loss: 4.28 | fairness loss 340.78 | Demographic disparity = 0.07\n",
      "Client 3: accuracy loss: 3.41 | fairness loss 484.03 | Demographic disparity = 0.14\n",
      " \n",
      "Avg Training Stats after 6 global rounds:\n",
      "Training loss: 44.66 | Training accuracy: 76.76% | Training Demographic disparity: 0.0969\n",
      "\n",
      " | Global Training Round : 7 |\n",
      "\n"
     ]
    },
    {
     "name": "stderr",
     "output_type": "stream",
     "text": [
      "\r",
      " 70%|███████   | 7/10 [00:17<00:07,  2.51s/it]"
     ]
    },
    {
     "name": "stdout",
     "output_type": "stream",
     "text": [
      "Client 1: accuracy loss: 4.89 | fairness loss 264.55 | Demographic disparity = 0.03\n",
      "Client 2: accuracy loss: 4.37 | fairness loss 334.78 | Demographic disparity = 0.07\n",
      "Client 3: accuracy loss: 3.48 | fairness loss 474.18 | Demographic disparity = 0.12\n",
      " \n",
      "Avg Training Stats after 7 global rounds:\n",
      "Training loss: 44.38 | Training accuracy: 76.36% | Training Demographic disparity: 0.0914\n",
      "\n",
      " | Global Training Round : 8 |\n",
      "\n"
     ]
    },
    {
     "name": "stderr",
     "output_type": "stream",
     "text": [
      "\r",
      " 80%|████████  | 8/10 [00:20<00:05,  2.55s/it]"
     ]
    },
    {
     "name": "stdout",
     "output_type": "stream",
     "text": [
      "Client 1: accuracy loss: 5.52 | fairness loss 219.82 | Demographic disparity = 0.11\n",
      "Client 2: accuracy loss: 5.55 | fairness loss 289.51 | Demographic disparity = 0.07\n",
      "Client 3: accuracy loss: 4.66 | fairness loss 378.01 | Demographic disparity = 0.02\n",
      " \n",
      "Avg Training Stats after 8 global rounds:\n",
      "Training loss: 43.94 | Training accuracy: 69.27% | Training Demographic disparity: 0.0368\n",
      "\n",
      " | Global Training Round : 9 |\n",
      "\n"
     ]
    },
    {
     "name": "stderr",
     "output_type": "stream",
     "text": [
      "\r",
      " 90%|█████████ | 9/10 [00:22<00:02,  2.57s/it]"
     ]
    },
    {
     "name": "stdout",
     "output_type": "stream",
     "text": [
      "Client 1: accuracy loss: 5.06 | fairness loss 267.49 | Demographic disparity = 0.00\n",
      "Client 2: accuracy loss: 4.63 | fairness loss 339.51 | Demographic disparity = 0.04\n",
      "Client 3: accuracy loss: 3.76 | fairness loss 472.79 | Demographic disparity = 0.09\n",
      " \n",
      "Avg Training Stats after 9 global rounds:\n",
      "Training loss: 43.78 | Training accuracy: 74.23% | Training Demographic disparity: 0.0582\n",
      "\n",
      " | Global Training Round : 10 |\n",
      "\n"
     ]
    },
    {
     "name": "stderr",
     "output_type": "stream",
     "text": [
      "100%|██████████| 10/10 [00:25<00:00,  2.53s/it]"
     ]
    },
    {
     "name": "stdout",
     "output_type": "stream",
     "text": [
      "Client 1: accuracy loss: 5.29 | fairness loss 242.61 | Demographic disparity = 0.03\n",
      "Client 2: accuracy loss: 5.05 | fairness loss 314.80 | Demographic disparity = 0.03\n",
      "Client 3: accuracy loss: 4.16 | fairness loss 425.99 | Demographic disparity = 0.05\n",
      " \n",
      "Avg Training Stats after 10 global rounds:\n",
      "Training loss: 43.60 | Training accuracy: 71.08% | Training Demographic disparity: 0.0063\n",
      " \n",
      " Results after 10 global rounds of training:\n",
      "|---- Avg Train Accuracy: 71.08%\n",
      "|---- Test Accuracy: 75.00%\n",
      "|---- Test Demographic disparity: 0.0171\n",
      "\n",
      " Total Run Time: 25.3272 sec\n"
     ]
    },
    {
     "name": "stderr",
     "output_type": "stream",
     "text": [
      "\n"
     ]
    }
   ],
   "source": [
    "seed = 369\n",
    "synthetic_info = dataGenerate(seed = seed, test_samples = 100)\n",
    "server = Server(logReg(num_features=3, num_classes=2, seed = seed), synthetic_info, train_prn = False, metric = \"Demographic disparity\", seed = seed)\n",
    "server.FairBatch(num_rounds = 10, local_epochs = 30, learning_rate = 0.005, optimizer = 'adam', alpha = 1, adaptive_alpha = True)\n"
   ]
  },
  {
   "cell_type": "code",
   "execution_count": 7,
   "metadata": {
    "scrolled": true
   },
   "outputs": [
    {
     "name": "stderr",
     "output_type": "stream",
     "text": [
      "\r",
      "  0%|          | 0/10 [00:00<?, ?it/s]"
     ]
    },
    {
     "name": "stdout",
     "output_type": "stream",
     "text": [
      "\n",
      " | Global Training Round : 1 |\n",
      "\n"
     ]
    },
    {
     "name": "stderr",
     "output_type": "stream",
     "text": [
      "\r",
      " 10%|█         | 1/10 [00:02<00:22,  2.46s/it]"
     ]
    },
    {
     "name": "stdout",
     "output_type": "stream",
     "text": [
      "Client 1: accuracy loss: 3.33 | fairness loss 676.79 | Demographic disparity = 0.50\n",
      "Client 2: accuracy loss: 2.73 | fairness loss 695.27 | Demographic disparity = 0.34\n",
      "Client 3: accuracy loss: 2.31 | fairness loss 1026.25 | Demographic disparity = 0.40\n",
      " \n",
      "Avg Training Stats after 1 global rounds:\n",
      "Training loss: 35.75 | Training accuracy: 86.75% | Training Demographic disparity: 0.4199\n",
      "\n",
      " | Global Training Round : 2 |\n",
      "\n"
     ]
    },
    {
     "name": "stderr",
     "output_type": "stream",
     "text": [
      "\r",
      " 20%|██        | 2/10 [00:05<00:19,  2.48s/it]"
     ]
    },
    {
     "name": "stdout",
     "output_type": "stream",
     "text": [
      "Client 1: accuracy loss: 4.66 | fairness loss 275.52 | Demographic disparity = 0.05\n",
      "Client 2: accuracy loss: 4.22 | fairness loss 346.67 | Demographic disparity = 0.07\n",
      "Client 3: accuracy loss: 3.46 | fairness loss 499.69 | Demographic disparity = 0.12\n",
      " \n",
      "Avg Training Stats after 2 global rounds:\n",
      "Training loss: 40.02 | Training accuracy: 77.23% | Training Demographic disparity: 0.1036\n",
      "\n",
      " | Global Training Round : 3 |\n",
      "\n"
     ]
    },
    {
     "name": "stderr",
     "output_type": "stream",
     "text": [
      "\r",
      " 30%|███       | 3/10 [00:07<00:17,  2.47s/it]"
     ]
    },
    {
     "name": "stdout",
     "output_type": "stream",
     "text": [
      "Client 1: accuracy loss: 5.41 | fairness loss 272.11 | Demographic disparity = 0.05\n",
      "Client 2: accuracy loss: 5.47 | fairness loss 348.63 | Demographic disparity = 0.05\n",
      "Client 3: accuracy loss: 4.76 | fairness loss 467.29 | Demographic disparity = 0.02\n",
      " \n",
      "Avg Training Stats after 3 global rounds:\n",
      "Training loss: 40.32 | Training accuracy: 70.50% | Training Demographic disparity: 0.0125\n",
      "\n",
      " | Global Training Round : 4 |\n",
      "\n"
     ]
    },
    {
     "name": "stderr",
     "output_type": "stream",
     "text": [
      "\r",
      " 40%|████      | 4/10 [00:09<00:14,  2.46s/it]"
     ]
    },
    {
     "name": "stdout",
     "output_type": "stream",
     "text": [
      "Client 1: accuracy loss: 4.60 | fairness loss 338.82 | Demographic disparity = 0.12\n",
      "Client 2: accuracy loss: 4.04 | fairness loss 403.88 | Demographic disparity = 0.12\n",
      "Client 3: accuracy loss: 3.34 | fairness loss 584.91 | Demographic disparity = 0.14\n",
      " \n",
      "Avg Training Stats after 4 global rounds:\n",
      "Training loss: 41.11 | Training accuracy: 78.36% | Training Demographic disparity: 0.1379\n",
      "\n",
      " | Global Training Round : 5 |\n",
      "\n"
     ]
    },
    {
     "name": "stderr",
     "output_type": "stream",
     "text": [
      "\r",
      " 50%|█████     | 5/10 [00:12<00:12,  2.52s/it]"
     ]
    },
    {
     "name": "stdout",
     "output_type": "stream",
     "text": [
      "Client 1: accuracy loss: 4.70 | fairness loss 325.87 | Demographic disparity = 0.13\n",
      "Client 2: accuracy loss: 4.11 | fairness loss 396.79 | Demographic disparity = 0.09\n",
      "Client 3: accuracy loss: 3.37 | fairness loss 576.66 | Demographic disparity = 0.16\n",
      " \n",
      "Avg Training Stats after 5 global rounds:\n",
      "Training loss: 41.48 | Training accuracy: 78.78% | Training Demographic disparity: 0.1412\n",
      "\n",
      " | Global Training Round : 6 |\n",
      "\n"
     ]
    },
    {
     "name": "stderr",
     "output_type": "stream",
     "text": [
      "\r",
      " 60%|██████    | 6/10 [00:15<00:10,  2.52s/it]"
     ]
    },
    {
     "name": "stdout",
     "output_type": "stream",
     "text": [
      "Client 1: accuracy loss: 5.52 | fairness loss 273.64 | Demographic disparity = 0.08\n",
      "Client 2: accuracy loss: 5.65 | fairness loss 351.00 | Demographic disparity = 0.06\n",
      "Client 3: accuracy loss: 4.96 | fairness loss 465.20 | Demographic disparity = 0.02\n",
      " \n",
      "Avg Training Stats after 6 global rounds:\n",
      "Training loss: 41.35 | Training accuracy: 69.89% | Training Demographic disparity: 0.0235\n",
      "\n",
      " | Global Training Round : 7 |\n",
      "\n"
     ]
    },
    {
     "name": "stderr",
     "output_type": "stream",
     "text": [
      "\r",
      " 70%|███████   | 7/10 [00:17<00:07,  2.53s/it]"
     ]
    },
    {
     "name": "stdout",
     "output_type": "stream",
     "text": [
      "Client 1: accuracy loss: 4.57 | fairness loss 367.71 | Demographic disparity = 0.19\n",
      "Client 2: accuracy loss: 3.84 | fairness loss 434.15 | Demographic disparity = 0.13\n",
      "Client 3: accuracy loss: 3.09 | fairness loss 640.75 | Demographic disparity = 0.22\n",
      " \n",
      "Avg Training Stats after 7 global rounds:\n",
      "Training loss: 41.75 | Training accuracy: 79.80% | Training Demographic disparity: 0.1931\n",
      "\n",
      " | Global Training Round : 8 |\n",
      "\n"
     ]
    },
    {
     "name": "stderr",
     "output_type": "stream",
     "text": [
      "\r",
      " 80%|████████  | 8/10 [00:20<00:05,  2.60s/it]"
     ]
    },
    {
     "name": "stdout",
     "output_type": "stream",
     "text": [
      "Client 1: accuracy loss: 4.41 | fairness loss 351.95 | Demographic disparity = 0.20\n",
      "Client 2: accuracy loss: 3.73 | fairness loss 413.58 | Demographic disparity = 0.13\n",
      "Client 3: accuracy loss: 3.01 | fairness loss 609.82 | Demographic disparity = 0.23\n",
      " \n",
      "Avg Training Stats after 8 global rounds:\n",
      "Training loss: 41.99 | Training accuracy: 79.91% | Training Demographic disparity: 0.1998\n",
      "\n",
      " | Global Training Round : 9 |\n",
      "\n"
     ]
    },
    {
     "name": "stderr",
     "output_type": "stream",
     "text": [
      "\r",
      " 90%|█████████ | 9/10 [00:23<00:02,  2.64s/it]"
     ]
    },
    {
     "name": "stdout",
     "output_type": "stream",
     "text": [
      "Client 1: accuracy loss: 5.36 | fairness loss 272.16 | Demographic disparity = 0.05\n",
      "Client 2: accuracy loss: 5.38 | fairness loss 348.65 | Demographic disparity = 0.05\n",
      "Client 3: accuracy loss: 4.67 | fairness loss 469.62 | Demographic disparity = 0.03\n",
      " \n",
      "Avg Training Stats after 9 global rounds:\n",
      "Training loss: 41.88 | Training accuracy: 70.90% | Training Demographic disparity: 0.0069\n",
      "\n",
      " | Global Training Round : 10 |\n",
      "\n"
     ]
    },
    {
     "name": "stderr",
     "output_type": "stream",
     "text": [
      "100%|██████████| 10/10 [00:25<00:00,  2.56s/it]"
     ]
    },
    {
     "name": "stdout",
     "output_type": "stream",
     "text": [
      "Client 1: accuracy loss: 4.24 | fairness loss 462.93 | Demographic disparity = 0.28\n",
      "Client 2: accuracy loss: 3.37 | fairness loss 515.29 | Demographic disparity = 0.14\n",
      "Client 3: accuracy loss: 2.71 | fairness loss 778.20 | Demographic disparity = 0.25\n",
      " \n",
      "Avg Training Stats after 10 global rounds:\n",
      "Training loss: 42.10 | Training accuracy: 80.63% | Training Demographic disparity: 0.2263\n",
      " \n",
      " Results after 10 global rounds of training:\n",
      "|---- Avg Train Accuracy: 80.63%\n",
      "|---- Test Accuracy: 83.00%\n",
      "|---- Test Demographic disparity: 0.2029\n",
      "\n",
      " Total Run Time: 25.5970 sec\n"
     ]
    },
    {
     "name": "stderr",
     "output_type": "stream",
     "text": [
      "\n"
     ]
    }
   ],
   "source": [
    "seed = 369\n",
    "synthetic_info = dataGenerate(seed = seed, test_samples = 100)\n",
    "server = Server(logReg(num_features=3, num_classes=2, seed = seed), synthetic_info, train_prn = False, metric = \"Demographic disparity\", seed = seed)\n",
    "server.FairBatch(num_rounds = 10, local_epochs = 30, learning_rate = 0.005, optimizer = 'sgd', alpha = 1, adaptive_alpha = True)"
   ]
  },
  {
   "cell_type": "code",
   "execution_count": null,
   "metadata": {},
   "outputs": [],
   "source": [
    "synthetic_info = dataGenerate(seed = 341, test_samples = 100)\n",
    "server = Server(logReg(num_features=3, num_classes=2), synthetic_info, train_prn = False, metric = \"Demographic disparity\", seed = 341)\n",
    "server.FairBatch(num_rounds = 10, local_epochs = 30, learning_rate = 0.005, optimizer = 'adam', alpha = 1, adaptive_alpha = True)\n"
   ]
  },
  {
   "cell_type": "code",
   "execution_count": null,
   "metadata": {},
   "outputs": [],
   "source": [
    "synthetic_info = dataGenerate(seed = 341, test_samples = 100)\n",
    "server = Server(logReg(num_features=3, num_classes=2), synthetic_info, train_prn = False, metric = \"Demographic disparity\", seed = 341)\n",
    "server.FairBatch(num_rounds = 10, local_epochs = 30, learning_rate = 0.005, optimizer = 'adam', alpha = 1, adaptive_alpha = True)"
   ]
  },
  {
   "cell_type": "code",
   "execution_count": null,
   "metadata": {},
   "outputs": [],
   "source": []
  }
 ],
 "metadata": {
  "kernelspec": {
   "display_name": "Python 3",
   "language": "python",
   "name": "python3"
  },
  "language_info": {
   "codemirror_mode": {
    "name": "ipython",
    "version": 3
   },
   "file_extension": ".py",
   "mimetype": "text/x-python",
   "name": "python",
   "nbconvert_exporter": "python",
   "pygments_lexer": "ipython3",
   "version": "3.7.4"
  }
 },
 "nbformat": 4,
 "nbformat_minor": 2
}
