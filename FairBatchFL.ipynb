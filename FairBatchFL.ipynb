{
 "cells": [
  {
   "cell_type": "code",
   "execution_count": 1,
   "metadata": {},
   "outputs": [],
   "source": [
    "# import the training method \n",
    "from Server import *"
   ]
  },
  {
   "cell_type": "code",
   "execution_count": 2,
   "metadata": {},
   "outputs": [
    {
     "name": "stderr",
     "output_type": "stream",
     "text": [
      "100%|██████████| 1/1 [00:00<00:00,  6.42it/s]"
     ]
    },
    {
     "name": "stdout",
     "output_type": "stream",
     "text": [
      "\n",
      " | Global Training Round : 1 |\n",
      "\n",
      "Client 1: accuracy loss: 8.69 | fairness loss 287.96 | Demographic disparity = 0.40\n",
      "Client 2: accuracy loss: 7.47 | fairness loss 293.28 | Demographic disparity = 0.26\n",
      "Client 3: accuracy loss: 4.85 | fairness loss 192.63 | Demographic disparity = 0.28\n",
      " \n",
      "Avg Training Stats after 1 global rounds:\n",
      "Training loss: 104.15 | Training accuracy: 63.32% | Training Demographic disparity: 0.2938\n",
      " \n",
      " Results after 1 global rounds of training:\n",
      "|---- Avg Train Accuracy: 63.32%\n",
      "|---- Test Accuracy: 86.00%\n",
      "|---- Test Demographic disparity: 0.4502\n",
      "\n",
      " Total Run Time: 0.1642 sec\n"
     ]
    },
    {
     "name": "stderr",
     "output_type": "stream",
     "text": [
      "\n"
     ]
    }
   ],
   "source": [
    "seed = 923\n",
    "synthetic_info = dataGenerate(seed = seed, test_samples = 100)\n",
    "server = Server(logReg(num_features=3, num_classes=2), synthetic_info, train_prn = False, metric = \"Demographic disparity\", seed = seed)\n",
    "server.FairBatch(num_rounds = 1, local_epochs = 1, learning_rate = 0.005, optimizer = 'adam', alpha = 1, adaptive_alpha = True)\n"
   ]
  },
  {
   "cell_type": "code",
   "execution_count": null,
   "metadata": {},
   "outputs": [],
   "source": [
    "synthetic_info = dataGenerate(seed = 341, test_samples = 100)\n",
    "server = Server(logReg(num_features=3, num_classes=2), synthetic_info, train_prn = False, metric = \"Demographic disparity\", seed = 341)\n",
    "server.FairBatch(num_rounds = 10, local_epochs = 30, learning_rate = 0.005, optimizer = 'adam', alpha = 1, adaptive_alpha = True)\n"
   ]
  },
  {
   "cell_type": "code",
   "execution_count": null,
   "metadata": {},
   "outputs": [],
   "source": [
    "synthetic_info = dataGenerate(seed = 341, test_samples = 100)\n",
    "server = Server(logReg(num_features=3, num_classes=2), synthetic_info, train_prn = False, metric = \"Demographic disparity\", seed = 341)\n",
    "server.FairBatch(num_rounds = 10, local_epochs = 30, learning_rate = 0.005, optimizer = 'adam', alpha = 1, adaptive_alpha = True)"
   ]
  },
  {
   "cell_type": "code",
   "execution_count": null,
   "metadata": {},
   "outputs": [],
   "source": []
  }
 ],
 "metadata": {
  "kernelspec": {
   "display_name": "Python 3",
   "language": "python",
   "name": "python3"
  },
  "language_info": {
   "codemirror_mode": {
    "name": "ipython",
    "version": 3
   },
   "file_extension": ".py",
   "mimetype": "text/x-python",
   "name": "python",
   "nbconvert_exporter": "python",
   "pygments_lexer": "ipython3",
   "version": "3.7.4"
  }
 },
 "nbformat": 4,
 "nbformat_minor": 2
}
