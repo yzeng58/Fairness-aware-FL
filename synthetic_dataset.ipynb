{
 "cells": [
  {
   "cell_type": "code",
   "execution_count": 1,
   "metadata": {},
   "outputs": [],
   "source": [
    "import numpy as np\n",
    "import pandas as pd\n",
    "from torch.utils.data import DataLoader, Dataset\n",
    "import torch"
   ]
  },
  {
   "cell_type": "code",
   "execution_count": null,
   "metadata": {},
   "outputs": [],
   "source": [
    "########################\n",
    "####### setting ########\n",
    "########################\n",
    "RANDOM_SEED = 100\n",
    "NUM_SAMPLES = 3000\n",
    "\n",
    "X_MU_Y0 = (-2,-2)\n",
    "X_SIGMA_Y0 = np.array([[10,1], [1,3]])\n",
    "X_MU_Y1 = (2,2)\n",
    "X_SIGMA_Y1 = np.array([[10,1], [1,3]])\n",
    "\n",
    "def X_PRIME(x):\n",
    "    return (x[0]*np.cos(np.pi/4) - x[1]*np.sin(np.pi/4), \n",
    "            x[0]*np.sin(np.pi/4) + x[1]*np.cos(np.pi/4))\n",
    "def P_Z(x, y):\n",
    "    \"\"\"\n",
    "    Given x and y, the probability of z = 1.\n",
    "    \"\"\"\n",
    "    \n",
    "########################"
   ]
  },
  {
   "cell_type": "code",
   "execution_count": 2,
   "metadata": {},
   "outputs": [
    {
     "data": {
      "text/plain": [
       "3.141592653589793"
      ]
     },
     "execution_count": 2,
     "metadata": {},
     "output_type": "execute_result"
    }
   ],
   "source": [
    "np.pi"
   ]
  },
  {
   "cell_type": "code",
   "execution_count": null,
   "metadata": {},
   "outputs": [],
   "source": []
  }
 ],
 "metadata": {
  "kernelspec": {
   "display_name": "Python 3",
   "language": "python",
   "name": "python3"
  },
  "language_info": {
   "codemirror_mode": {
    "name": "ipython",
    "version": 3
   },
   "file_extension": ".py",
   "mimetype": "text/x-python",
   "name": "python",
   "nbconvert_exporter": "python",
   "pygments_lexer": "ipython3",
   "version": "3.7.4"
  }
 },
 "nbformat": 4,
 "nbformat_minor": 2
}
