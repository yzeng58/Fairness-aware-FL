{
 "cells": [
  {
   "cell_type": "code",
   "execution_count": 1,
   "metadata": {},
   "outputs": [],
   "source": [
    "import numpy as np\n",
    "import pandas as pd\n",
    "from scipy.stats import multivariate_normal\n",
    "from torch.utils.data import DataLoader, Dataset\n",
    "import torch\n",
    "from utils import *"
   ]
  },
  {
   "cell_type": "code",
   "execution_count": 2,
   "metadata": {},
   "outputs": [],
   "source": [
    "########################\n",
    "####### setting ########\n",
    "########################\n",
    "X_DIST = {0:{\"mean\":(-2,-2), \"cov\":np.array([[10,1], [1,3]])}, \n",
    "     1:{\"mean\":(2,2), \"cov\":np.array([[5,1], [1,5]])}}\n",
    "\n",
    "def X_PRIME(x):\n",
    "    return (x[0]*np.cos(np.pi/4) - x[1]*np.sin(np.pi/4), \n",
    "            x[0]*np.sin(np.pi/4) + x[1]*np.cos(np.pi/4))\n",
    "def Z_MEAN(x, y):\n",
    "    \"\"\"\n",
    "    Given x and y, the probability of z = 1.\n",
    "    \"\"\"\n",
    "    x_transform = X_PRIME(x)\n",
    "    return multivariate_normal.pdf(x_transform, mean = X_DIST[1][\"mean\"], cov = X_DIST[1][\"cov\"])/(\n",
    "        multivariate_normal.pdf(x_transform, mean = X_DIST[1][\"mean\"], cov = X_DIST[1][\"cov\"]) + \n",
    "        multivariate_normal.pdf(x_transform, mean = X_DIST[0][\"mean\"], cov = X_DIST[0][\"cov\"])\n",
    "    )\n",
    "########################"
   ]
  },
  {
   "cell_type": "code",
   "execution_count": 9,
   "metadata": {
    "scrolled": true
   },
   "outputs": [],
   "source": [
    "def dataGenerate(seed = 432, num_samples = 3500, train_samples = 3000, \n",
    "                y_mean = 0.6):\n",
    "    np.random.seed(seed)\n",
    "        \n",
    "    ys = np.random.binomial(n = 1, p = y_mean, size = num_samples)\n",
    "\n",
    "    xs, zs = [], []\n",
    "\n",
    "    for y in ys:\n",
    "        x = np.random.multivariate_normal(mean = X_DIST[y][\"mean\"], cov = X_DIST[y][\"cov\"], size = 1)[0]\n",
    "        z = np.random.binomial(n = 1, p = Z_MEAN(x,y), size = 1)[0]\n",
    "        xs.append(x)\n",
    "        zs.append(z)\n",
    "\n",
    "    data = pd.DataFrame(zip(np.array(xs).T[0], np.array(xs).T[1], ys, zs), columns = [\"x1\", \"x2\", \"y\", \"z\"])\n",
    "    train_data = data[:train_samples]\n",
    "    test_data = data[train_samples:]\n",
    "    \n",
    "    z1_idx = train_data[train_data.z == 1].index\n",
    "    z0_idx = train_data[train_data.z == 0].index\n",
    "    \n",
    "    # 3 clients: \n",
    "    #           client 1: %60 z = 1, %10 z = 0\n",
    "    #           client 2: %30 z = 1, %50 z = 0\n",
    "    #           client 3: %10 z = 1, %40 z = 0\n",
    "\n",
    "    client1_idx = np.concatenate((z1_idx[:int(.6*len(z1_idx))], z0_idx[:int(.1*len(z0_idx))]))\n",
    "    client2_idx = np.concatenate((z1_idx[int(.6*len(z1_idx)):int(.9*len(z1_idx))], z0_idx[int(.1*len(z0_idx)):int(.6*len(z0_idx))]))\n",
    "    client3_idx = np.concatenate((z1_idx[int(.9*len(z1_idx)):], z0_idx[int(.6*len(z0_idx)):]))\n",
    "\n",
    "    clients_idx = [client1_idx, client2_idx, client3_idx]\n",
    "    train_dataset = LoadData(train_data, \"y\", \"z\")\n",
    "    test_dataset = LoadData(test_data, \"y\", \"z\")\n",
    "\n",
    "    synthetic_info = [train_dataset, test_dataset, clients_idx]\n",
    "    return synthetic_info"
   ]
  },
  {
   "cell_type": "code",
   "execution_count": null,
   "metadata": {},
   "outputs": [],
   "source": []
  }
 ],
 "metadata": {
  "kernelspec": {
   "display_name": "Python 3",
   "language": "python",
   "name": "python3"
  },
  "language_info": {
   "codemirror_mode": {
    "name": "ipython",
    "version": 3
   },
   "file_extension": ".py",
   "mimetype": "text/x-python",
   "name": "python",
   "nbconvert_exporter": "python",
   "pygments_lexer": "ipython3",
   "version": "3.7.4"
  }
 },
 "nbformat": 4,
 "nbformat_minor": 2
}
