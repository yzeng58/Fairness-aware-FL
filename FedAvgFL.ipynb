{
 "cells": [
  {
   "cell_type": "code",
   "execution_count": 1,
   "metadata": {},
   "outputs": [],
   "source": [
    "from FairFedAvg import *"
   ]
  },
  {
   "cell_type": "code",
   "execution_count": 2,
   "metadata": {},
   "outputs": [
    {
     "name": "stderr",
     "output_type": "stream",
     "text": [
      "\r",
      "  0%|          | 0/5 [00:00<?, ?it/s]"
     ]
    },
    {
     "name": "stdout",
     "output_type": "stream",
     "text": [
      "\n",
      " | Global Training Round : 1 |\n",
      "\n",
      "| Global Round : 1 | Local Epoch : 0 | [0/11188 (0%)]\tBatch Loss: 91.439888\n",
      "| Global Round : 1 | Local Epoch : 0 | [5632/11188 (50%)]\tBatch Loss: 225.157593\n",
      "| Global Round : 1 | Local Epoch : 1 | [0/11188 (0%)]\tBatch Loss: 87.252090\n",
      "| Global Round : 1 | Local Epoch : 1 | [5632/11188 (50%)]\tBatch Loss: 190.411026\n",
      "| Global Round : 1 | Local Epoch : 2 | [0/11188 (0%)]\tBatch Loss: 276.710114\n",
      "| Global Round : 1 | Local Epoch : 2 | [5632/11188 (50%)]\tBatch Loss: 198.351715\n",
      "| Global Round : 1 | Local Epoch : 3 | [0/11188 (0%)]\tBatch Loss: 150.414352\n",
      "| Global Round : 1 | Local Epoch : 3 | [5632/11188 (50%)]\tBatch Loss: 144.661682\n",
      "| Global Round : 1 | Local Epoch : 4 | [0/11188 (0%)]\tBatch Loss: 128.140045\n",
      "| Global Round : 1 | Local Epoch : 4 | [5632/11188 (50%)]\tBatch Loss: 325.525208\n",
      "| Global Round : 1 | Local Epoch : 5 | [0/11188 (0%)]\tBatch Loss: 129.673523\n",
      "| Global Round : 1 | Local Epoch : 5 | [5632/11188 (50%)]\tBatch Loss: 253.023102\n",
      "| Global Round : 1 | Local Epoch : 6 | [0/11188 (0%)]\tBatch Loss: 204.476349\n",
      "| Global Round : 1 | Local Epoch : 6 | [5632/11188 (50%)]\tBatch Loss: 132.019318\n",
      "| Global Round : 1 | Local Epoch : 7 | [0/11188 (0%)]\tBatch Loss: 68.026344\n",
      "| Global Round : 1 | Local Epoch : 7 | [5632/11188 (50%)]\tBatch Loss: 203.138718\n",
      "| Global Round : 1 | Local Epoch : 8 | [0/11188 (0%)]\tBatch Loss: 111.346863\n",
      "| Global Round : 1 | Local Epoch : 8 | [5632/11188 (50%)]\tBatch Loss: 152.030914\n",
      "| Global Round : 1 | Local Epoch : 9 | [0/11188 (0%)]\tBatch Loss: 89.687790\n",
      "| Global Round : 1 | Local Epoch : 9 | [5632/11188 (50%)]\tBatch Loss: 187.110474\n",
      "| Global Round : 1 | Local Epoch : 0 | [0/18116 (0%)]\tBatch Loss: 95.789078\n",
      "| Global Round : 1 | Local Epoch : 0 | [9088/18116 (50%)]\tBatch Loss: 2917.261230\n",
      "| Global Round : 1 | Local Epoch : 1 | [0/18116 (0%)]\tBatch Loss: 746.233093\n",
      "| Global Round : 1 | Local Epoch : 1 | [9088/18116 (50%)]\tBatch Loss: 2459.124512\n",
      "| Global Round : 1 | Local Epoch : 2 | [0/18116 (0%)]\tBatch Loss: 1330.660767\n",
      "| Global Round : 1 | Local Epoch : 2 | [9088/18116 (50%)]\tBatch Loss: 1034.469604\n",
      "| Global Round : 1 | Local Epoch : 3 | [0/18116 (0%)]\tBatch Loss: 620.494751\n",
      "| Global Round : 1 | Local Epoch : 3 | [9088/18116 (50%)]\tBatch Loss: 885.974731\n",
      "| Global Round : 1 | Local Epoch : 4 | [0/18116 (0%)]\tBatch Loss: 1976.582642\n",
      "| Global Round : 1 | Local Epoch : 4 | [9088/18116 (50%)]\tBatch Loss: 852.004272\n",
      "| Global Round : 1 | Local Epoch : 5 | [0/18116 (0%)]\tBatch Loss: 1202.465088\n",
      "| Global Round : 1 | Local Epoch : 5 | [9088/18116 (50%)]\tBatch Loss: 56.880241\n",
      "| Global Round : 1 | Local Epoch : 6 | [0/18116 (0%)]\tBatch Loss: 796.737488\n",
      "| Global Round : 1 | Local Epoch : 6 | [9088/18116 (50%)]\tBatch Loss: 905.843201\n",
      "| Global Round : 1 | Local Epoch : 7 | [0/18116 (0%)]\tBatch Loss: 652.259155\n",
      "| Global Round : 1 | Local Epoch : 7 | [9088/18116 (50%)]\tBatch Loss: 193.048767\n",
      "| Global Round : 1 | Local Epoch : 8 | [0/18116 (0%)]\tBatch Loss: 2885.149902\n",
      "| Global Round : 1 | Local Epoch : 8 | [9088/18116 (50%)]\tBatch Loss: 930.709961\n",
      "| Global Round : 1 | Local Epoch : 9 | [0/18116 (0%)]\tBatch Loss: 1273.965210\n",
      "| Global Round : 1 | Local Epoch : 9 | [9088/18116 (50%)]\tBatch Loss: 383.501587\n"
     ]
    },
    {
     "name": "stderr",
     "output_type": "stream",
     "text": [
      "\r",
      " 20%|██        | 1/5 [00:08<00:35,  8.76s/it]"
     ]
    },
    {
     "name": "stdout",
     "output_type": "stream",
     "text": [
      "Client 0: accuracy loss: 253.64 | fairness loss 469.86 | RD = 0.32 = |205/592-943/1421| \n",
      "Client 1: accuracy loss: 114.81 | fairness loss 605.97 | RD = 0.25 = |125/421-453/823| \n",
      " \n",
      "Avg Training Stats after 1 global rounds:\n",
      "Training loss: 912.19 | Validation accuracy: 70.35% | Validation RD: 0.2963\n",
      "\n",
      " | Global Training Round : 2 |\n",
      "\n",
      "| Global Round : 2 | Local Epoch : 0 | [0/18116 (0%)]\tBatch Loss: 916.084900\n",
      "| Global Round : 2 | Local Epoch : 0 | [9088/18116 (50%)]\tBatch Loss: 1273.538330\n",
      "| Global Round : 2 | Local Epoch : 1 | [0/18116 (0%)]\tBatch Loss: 571.233643\n",
      "| Global Round : 2 | Local Epoch : 1 | [9088/18116 (50%)]\tBatch Loss: 4832.435547\n",
      "| Global Round : 2 | Local Epoch : 2 | [0/18116 (0%)]\tBatch Loss: 641.126831\n",
      "| Global Round : 2 | Local Epoch : 2 | [9088/18116 (50%)]\tBatch Loss: 1643.249756\n",
      "| Global Round : 2 | Local Epoch : 3 | [0/18116 (0%)]\tBatch Loss: 1336.575073\n",
      "| Global Round : 2 | Local Epoch : 3 | [9088/18116 (50%)]\tBatch Loss: 1424.877808\n",
      "| Global Round : 2 | Local Epoch : 4 | [0/18116 (0%)]\tBatch Loss: 1371.187378\n",
      "| Global Round : 2 | Local Epoch : 4 | [9088/18116 (50%)]\tBatch Loss: 165.101135\n",
      "| Global Round : 2 | Local Epoch : 5 | [0/18116 (0%)]\tBatch Loss: 2406.155518\n",
      "| Global Round : 2 | Local Epoch : 5 | [9088/18116 (50%)]\tBatch Loss: 2536.229248\n",
      "| Global Round : 2 | Local Epoch : 6 | [0/18116 (0%)]\tBatch Loss: 576.831848\n",
      "| Global Round : 2 | Local Epoch : 6 | [9088/18116 (50%)]\tBatch Loss: 1956.120117\n",
      "| Global Round : 2 | Local Epoch : 7 | [0/18116 (0%)]\tBatch Loss: 749.502563\n",
      "| Global Round : 2 | Local Epoch : 7 | [9088/18116 (50%)]\tBatch Loss: 1692.205811\n",
      "| Global Round : 2 | Local Epoch : 8 | [0/18116 (0%)]\tBatch Loss: 1180.821167\n",
      "| Global Round : 2 | Local Epoch : 8 | [9088/18116 (50%)]\tBatch Loss: 572.586548\n",
      "| Global Round : 2 | Local Epoch : 9 | [0/18116 (0%)]\tBatch Loss: 683.901672\n",
      "| Global Round : 2 | Local Epoch : 9 | [9088/18116 (50%)]\tBatch Loss: 884.324402\n",
      "| Global Round : 2 | Local Epoch : 0 | [0/11188 (0%)]\tBatch Loss: 777.704712\n",
      "| Global Round : 2 | Local Epoch : 0 | [5632/11188 (50%)]\tBatch Loss: 82.263313\n",
      "| Global Round : 2 | Local Epoch : 1 | [0/11188 (0%)]\tBatch Loss: 114.121445\n",
      "| Global Round : 2 | Local Epoch : 1 | [5632/11188 (50%)]\tBatch Loss: 159.466354\n",
      "| Global Round : 2 | Local Epoch : 2 | [0/11188 (0%)]\tBatch Loss: 65.413177\n",
      "| Global Round : 2 | Local Epoch : 2 | [5632/11188 (50%)]\tBatch Loss: 190.629883\n",
      "| Global Round : 2 | Local Epoch : 3 | [0/11188 (0%)]\tBatch Loss: 75.866043\n",
      "| Global Round : 2 | Local Epoch : 3 | [5632/11188 (50%)]\tBatch Loss: 291.980804\n",
      "| Global Round : 2 | Local Epoch : 4 | [0/11188 (0%)]\tBatch Loss: 105.254997\n",
      "| Global Round : 2 | Local Epoch : 4 | [5632/11188 (50%)]\tBatch Loss: 96.133789\n",
      "| Global Round : 2 | Local Epoch : 5 | [0/11188 (0%)]\tBatch Loss: 135.835175\n",
      "| Global Round : 2 | Local Epoch : 5 | [5632/11188 (50%)]\tBatch Loss: 322.134827\n",
      "| Global Round : 2 | Local Epoch : 6 | [0/11188 (0%)]\tBatch Loss: 82.260391\n",
      "| Global Round : 2 | Local Epoch : 6 | [5632/11188 (50%)]\tBatch Loss: 212.431244\n",
      "| Global Round : 2 | Local Epoch : 7 | [0/11188 (0%)]\tBatch Loss: 171.005768\n",
      "| Global Round : 2 | Local Epoch : 7 | [5632/11188 (50%)]\tBatch Loss: 83.519135\n",
      "| Global Round : 2 | Local Epoch : 8 | [0/11188 (0%)]\tBatch Loss: 132.251984\n",
      "| Global Round : 2 | Local Epoch : 8 | [5632/11188 (50%)]\tBatch Loss: 114.838470\n",
      "| Global Round : 2 | Local Epoch : 9 | [0/11188 (0%)]\tBatch Loss: 108.498703\n",
      "| Global Round : 2 | Local Epoch : 9 | [5632/11188 (50%)]\tBatch Loss: 225.740997\n"
     ]
    },
    {
     "name": "stderr",
     "output_type": "stream",
     "text": [
      "\r",
      " 40%|████      | 2/5 [00:17<00:26,  8.69s/it]"
     ]
    },
    {
     "name": "stdout",
     "output_type": "stream",
     "text": [
      "Client 0: accuracy loss: 192.59 | fairness loss 93.56 | RD = 0.33 = |157/592-844/1421| \n",
      "Client 1: accuracy loss: 87.22 | fairness loss 122.25 | RD = 0.28 = |94/421-411/823| \n",
      " \n",
      "Avg Training Stats after 2 global rounds:\n",
      "Training loss: 839.20 | Validation accuracy: 75.50% | Validation RD: 0.3115\n",
      "\n",
      " | Global Training Round : 3 |\n",
      "\n",
      "| Global Round : 3 | Local Epoch : 0 | [0/11188 (0%)]\tBatch Loss: 202.764053\n",
      "| Global Round : 3 | Local Epoch : 0 | [5632/11188 (50%)]\tBatch Loss: 95.683075\n",
      "| Global Round : 3 | Local Epoch : 1 | [0/11188 (0%)]\tBatch Loss: 270.012329\n",
      "| Global Round : 3 | Local Epoch : 1 | [5632/11188 (50%)]\tBatch Loss: 75.098633\n",
      "| Global Round : 3 | Local Epoch : 2 | [0/11188 (0%)]\tBatch Loss: 238.201355\n",
      "| Global Round : 3 | Local Epoch : 2 | [5632/11188 (50%)]\tBatch Loss: 566.914490\n",
      "| Global Round : 3 | Local Epoch : 3 | [0/11188 (0%)]\tBatch Loss: 63.694622\n",
      "| Global Round : 3 | Local Epoch : 3 | [5632/11188 (50%)]\tBatch Loss: 243.015198\n",
      "| Global Round : 3 | Local Epoch : 4 | [0/11188 (0%)]\tBatch Loss: 98.121437\n",
      "| Global Round : 3 | Local Epoch : 4 | [5632/11188 (50%)]\tBatch Loss: 220.275803\n",
      "| Global Round : 3 | Local Epoch : 5 | [0/11188 (0%)]\tBatch Loss: 78.304512\n",
      "| Global Round : 3 | Local Epoch : 5 | [5632/11188 (50%)]\tBatch Loss: 104.635147\n",
      "| Global Round : 3 | Local Epoch : 6 | [0/11188 (0%)]\tBatch Loss: 185.652069\n",
      "| Global Round : 3 | Local Epoch : 6 | [5632/11188 (50%)]\tBatch Loss: 282.662933\n",
      "| Global Round : 3 | Local Epoch : 7 | [0/11188 (0%)]\tBatch Loss: 127.701324\n",
      "| Global Round : 3 | Local Epoch : 7 | [5632/11188 (50%)]\tBatch Loss: 232.306168\n",
      "| Global Round : 3 | Local Epoch : 8 | [0/11188 (0%)]\tBatch Loss: 83.886299\n",
      "| Global Round : 3 | Local Epoch : 8 | [5632/11188 (50%)]\tBatch Loss: 103.572052\n",
      "| Global Round : 3 | Local Epoch : 9 | [0/11188 (0%)]\tBatch Loss: 97.902092\n",
      "| Global Round : 3 | Local Epoch : 9 | [5632/11188 (50%)]\tBatch Loss: 208.354080\n",
      "| Global Round : 3 | Local Epoch : 0 | [0/18116 (0%)]\tBatch Loss: 230.520599\n",
      "| Global Round : 3 | Local Epoch : 0 | [9088/18116 (50%)]\tBatch Loss: 2356.672363\n",
      "| Global Round : 3 | Local Epoch : 1 | [0/18116 (0%)]\tBatch Loss: 1372.493652\n",
      "| Global Round : 3 | Local Epoch : 1 | [9088/18116 (50%)]\tBatch Loss: 859.681458\n",
      "| Global Round : 3 | Local Epoch : 2 | [0/18116 (0%)]\tBatch Loss: 644.993042\n",
      "| Global Round : 3 | Local Epoch : 2 | [9088/18116 (50%)]\tBatch Loss: 487.729126\n",
      "| Global Round : 3 | Local Epoch : 3 | [0/18116 (0%)]\tBatch Loss: 1480.639404\n",
      "| Global Round : 3 | Local Epoch : 3 | [9088/18116 (50%)]\tBatch Loss: 2752.859131\n",
      "| Global Round : 3 | Local Epoch : 4 | [0/18116 (0%)]\tBatch Loss: 562.774048\n",
      "| Global Round : 3 | Local Epoch : 4 | [9088/18116 (50%)]\tBatch Loss: 1734.477051\n",
      "| Global Round : 3 | Local Epoch : 5 | [0/18116 (0%)]\tBatch Loss: 685.087402\n",
      "| Global Round : 3 | Local Epoch : 5 | [9088/18116 (50%)]\tBatch Loss: 1455.033447\n",
      "| Global Round : 3 | Local Epoch : 6 | [0/18116 (0%)]\tBatch Loss: 506.223572\n",
      "| Global Round : 3 | Local Epoch : 6 | [9088/18116 (50%)]\tBatch Loss: 1996.708496\n",
      "| Global Round : 3 | Local Epoch : 7 | [0/18116 (0%)]\tBatch Loss: 160.076752\n",
      "| Global Round : 3 | Local Epoch : 7 | [9088/18116 (50%)]\tBatch Loss: 571.644775\n",
      "| Global Round : 3 | Local Epoch : 8 | [0/18116 (0%)]\tBatch Loss: 773.821899\n",
      "| Global Round : 3 | Local Epoch : 8 | [9088/18116 (50%)]\tBatch Loss: 2024.527710\n",
      "| Global Round : 3 | Local Epoch : 9 | [0/18116 (0%)]\tBatch Loss: 829.821045\n",
      "| Global Round : 3 | Local Epoch : 9 | [9088/18116 (50%)]\tBatch Loss: 2087.716309\n"
     ]
    },
    {
     "name": "stderr",
     "output_type": "stream",
     "text": [
      "\r",
      " 60%|██████    | 3/5 [00:24<00:16,  8.39s/it]"
     ]
    },
    {
     "name": "stdout",
     "output_type": "stream",
     "text": [
      "Client 0: accuracy loss: 239.93 | fairness loss 167.32 | RD = 0.37 = |169/592-933/1421| \n",
      "Client 1: accuracy loss: 112.05 | fairness loss 228.56 | RD = 0.34 = |107/421-490/823| \n",
      " \n",
      "Avg Training Stats after 3 global rounds:\n",
      "Training loss: 808.03 | Validation accuracy: 71.77% | Validation RD: 0.3617\n",
      "\n",
      " | Global Training Round : 4 |\n",
      "\n",
      "| Global Round : 4 | Local Epoch : 0 | [0/11188 (0%)]\tBatch Loss: 344.238098\n",
      "| Global Round : 4 | Local Epoch : 0 | [5632/11188 (50%)]\tBatch Loss: 72.181961\n",
      "| Global Round : 4 | Local Epoch : 1 | [0/11188 (0%)]\tBatch Loss: 157.518921\n",
      "| Global Round : 4 | Local Epoch : 1 | [5632/11188 (50%)]\tBatch Loss: 241.187622\n",
      "| Global Round : 4 | Local Epoch : 2 | [0/11188 (0%)]\tBatch Loss: 142.309662\n",
      "| Global Round : 4 | Local Epoch : 2 | [5632/11188 (50%)]\tBatch Loss: 215.344559\n",
      "| Global Round : 4 | Local Epoch : 3 | [0/11188 (0%)]\tBatch Loss: 112.394989\n",
      "| Global Round : 4 | Local Epoch : 3 | [5632/11188 (50%)]\tBatch Loss: 113.483704\n",
      "| Global Round : 4 | Local Epoch : 4 | [0/11188 (0%)]\tBatch Loss: 155.411804\n",
      "| Global Round : 4 | Local Epoch : 4 | [5632/11188 (50%)]\tBatch Loss: 142.993668\n",
      "| Global Round : 4 | Local Epoch : 5 | [0/11188 (0%)]\tBatch Loss: 159.737915\n",
      "| Global Round : 4 | Local Epoch : 5 | [5632/11188 (50%)]\tBatch Loss: 126.791992\n",
      "| Global Round : 4 | Local Epoch : 6 | [0/11188 (0%)]\tBatch Loss: 115.080238\n",
      "| Global Round : 4 | Local Epoch : 6 | [5632/11188 (50%)]\tBatch Loss: 117.493111\n",
      "| Global Round : 4 | Local Epoch : 7 | [0/11188 (0%)]\tBatch Loss: 84.309464\n",
      "| Global Round : 4 | Local Epoch : 7 | [5632/11188 (50%)]\tBatch Loss: 205.617050\n",
      "| Global Round : 4 | Local Epoch : 8 | [0/11188 (0%)]\tBatch Loss: 70.148827\n",
      "| Global Round : 4 | Local Epoch : 8 | [5632/11188 (50%)]\tBatch Loss: 307.030640\n",
      "| Global Round : 4 | Local Epoch : 9 | [0/11188 (0%)]\tBatch Loss: 72.782852\n",
      "| Global Round : 4 | Local Epoch : 9 | [5632/11188 (50%)]\tBatch Loss: 182.155991\n",
      "| Global Round : 4 | Local Epoch : 0 | [0/18116 (0%)]\tBatch Loss: 363.346863\n",
      "| Global Round : 4 | Local Epoch : 0 | [9088/18116 (50%)]\tBatch Loss: 2242.725098\n",
      "| Global Round : 4 | Local Epoch : 1 | [0/18116 (0%)]\tBatch Loss: 1411.199463\n",
      "| Global Round : 4 | Local Epoch : 1 | [9088/18116 (50%)]\tBatch Loss: 2502.406982\n",
      "| Global Round : 4 | Local Epoch : 2 | [0/18116 (0%)]\tBatch Loss: 334.063507\n",
      "| Global Round : 4 | Local Epoch : 2 | [9088/18116 (50%)]\tBatch Loss: 227.522964\n",
      "| Global Round : 4 | Local Epoch : 3 | [0/18116 (0%)]\tBatch Loss: 2695.963867\n",
      "| Global Round : 4 | Local Epoch : 3 | [9088/18116 (50%)]\tBatch Loss: 1101.238403\n",
      "| Global Round : 4 | Local Epoch : 4 | [0/18116 (0%)]\tBatch Loss: 510.391907\n",
      "| Global Round : 4 | Local Epoch : 4 | [9088/18116 (50%)]\tBatch Loss: 1351.510254\n",
      "| Global Round : 4 | Local Epoch : 5 | [0/18116 (0%)]\tBatch Loss: 369.091461\n",
      "| Global Round : 4 | Local Epoch : 5 | [9088/18116 (50%)]\tBatch Loss: 1400.122314\n",
      "| Global Round : 4 | Local Epoch : 6 | [0/18116 (0%)]\tBatch Loss: 1135.138306\n",
      "| Global Round : 4 | Local Epoch : 6 | [9088/18116 (50%)]\tBatch Loss: 265.783661\n",
      "| Global Round : 4 | Local Epoch : 7 | [0/18116 (0%)]\tBatch Loss: 526.180725\n",
      "| Global Round : 4 | Local Epoch : 7 | [9088/18116 (50%)]\tBatch Loss: 782.607300\n",
      "| Global Round : 4 | Local Epoch : 8 | [0/18116 (0%)]\tBatch Loss: 510.846802\n",
      "| Global Round : 4 | Local Epoch : 8 | [9088/18116 (50%)]\tBatch Loss: 773.344849\n",
      "| Global Round : 4 | Local Epoch : 9 | [0/18116 (0%)]\tBatch Loss: 186.769531\n",
      "| Global Round : 4 | Local Epoch : 9 | [9088/18116 (50%)]\tBatch Loss: 1279.132446\n"
     ]
    },
    {
     "name": "stderr",
     "output_type": "stream",
     "text": [
      "\r",
      " 80%|████████  | 4/5 [00:32<00:08,  8.23s/it]"
     ]
    },
    {
     "name": "stdout",
     "output_type": "stream",
     "text": [
      "Client 0: accuracy loss: 150.64 | fairness loss 71.80 | RD = 0.29 = |121/592-707/1421| \n",
      "Client 1: accuracy loss: 71.87 | fairness loss 96.03 | RD = 0.26 = |76/421-359/823| \n",
      " \n",
      "Avg Training Stats after 4 global rounds:\n",
      "Training loss: 794.12 | Validation accuracy: 79.33% | Validation RD: 0.2806\n",
      "\n",
      " | Global Training Round : 5 |\n",
      "\n",
      "| Global Round : 5 | Local Epoch : 0 | [0/11188 (0%)]\tBatch Loss: 188.252991\n",
      "| Global Round : 5 | Local Epoch : 0 | [5632/11188 (50%)]\tBatch Loss: 124.202377\n",
      "| Global Round : 5 | Local Epoch : 1 | [0/11188 (0%)]\tBatch Loss: 61.046982\n",
      "| Global Round : 5 | Local Epoch : 1 | [5632/11188 (50%)]\tBatch Loss: 128.589630\n",
      "| Global Round : 5 | Local Epoch : 2 | [0/11188 (0%)]\tBatch Loss: 62.551300\n",
      "| Global Round : 5 | Local Epoch : 2 | [5632/11188 (50%)]\tBatch Loss: 71.884132\n",
      "| Global Round : 5 | Local Epoch : 3 | [0/11188 (0%)]\tBatch Loss: 81.095528\n",
      "| Global Round : 5 | Local Epoch : 3 | [5632/11188 (50%)]\tBatch Loss: 114.976379\n",
      "| Global Round : 5 | Local Epoch : 4 | [0/11188 (0%)]\tBatch Loss: 124.091904\n",
      "| Global Round : 5 | Local Epoch : 4 | [5632/11188 (50%)]\tBatch Loss: 183.847260\n",
      "| Global Round : 5 | Local Epoch : 5 | [0/11188 (0%)]\tBatch Loss: 64.067856\n",
      "| Global Round : 5 | Local Epoch : 5 | [5632/11188 (50%)]\tBatch Loss: 209.475006\n",
      "| Global Round : 5 | Local Epoch : 6 | [0/11188 (0%)]\tBatch Loss: 93.328522\n",
      "| Global Round : 5 | Local Epoch : 6 | [5632/11188 (50%)]\tBatch Loss: 130.205978\n",
      "| Global Round : 5 | Local Epoch : 7 | [0/11188 (0%)]\tBatch Loss: 53.236221\n",
      "| Global Round : 5 | Local Epoch : 7 | [5632/11188 (50%)]\tBatch Loss: 138.508896\n",
      "| Global Round : 5 | Local Epoch : 8 | [0/11188 (0%)]\tBatch Loss: 99.367836\n",
      "| Global Round : 5 | Local Epoch : 8 | [5632/11188 (50%)]\tBatch Loss: 131.708908\n",
      "| Global Round : 5 | Local Epoch : 9 | [0/11188 (0%)]\tBatch Loss: 123.446800\n",
      "| Global Round : 5 | Local Epoch : 9 | [5632/11188 (50%)]\tBatch Loss: 74.698883\n",
      "| Global Round : 5 | Local Epoch : 0 | [0/18116 (0%)]\tBatch Loss: 153.427811\n",
      "| Global Round : 5 | Local Epoch : 0 | [9088/18116 (50%)]\tBatch Loss: 3682.496826\n",
      "| Global Round : 5 | Local Epoch : 1 | [0/18116 (0%)]\tBatch Loss: 1262.638672\n",
      "| Global Round : 5 | Local Epoch : 1 | [9088/18116 (50%)]\tBatch Loss: 306.690552\n",
      "| Global Round : 5 | Local Epoch : 2 | [0/18116 (0%)]\tBatch Loss: 1211.412109\n",
      "| Global Round : 5 | Local Epoch : 2 | [9088/18116 (50%)]\tBatch Loss: 2271.855469\n",
      "| Global Round : 5 | Local Epoch : 3 | [0/18116 (0%)]\tBatch Loss: 1083.756348\n",
      "| Global Round : 5 | Local Epoch : 3 | [9088/18116 (50%)]\tBatch Loss: 5403.893066\n",
      "| Global Round : 5 | Local Epoch : 4 | [0/18116 (0%)]\tBatch Loss: 587.314209\n",
      "| Global Round : 5 | Local Epoch : 4 | [9088/18116 (50%)]\tBatch Loss: 1022.026917\n",
      "| Global Round : 5 | Local Epoch : 5 | [0/18116 (0%)]\tBatch Loss: 1657.042480\n",
      "| Global Round : 5 | Local Epoch : 5 | [9088/18116 (50%)]\tBatch Loss: 2777.740723\n",
      "| Global Round : 5 | Local Epoch : 6 | [0/18116 (0%)]\tBatch Loss: 242.474091\n",
      "| Global Round : 5 | Local Epoch : 6 | [9088/18116 (50%)]\tBatch Loss: 2277.305420\n",
      "| Global Round : 5 | Local Epoch : 7 | [0/18116 (0%)]\tBatch Loss: 507.677948\n",
      "| Global Round : 5 | Local Epoch : 7 | [9088/18116 (50%)]\tBatch Loss: 317.562988\n",
      "| Global Round : 5 | Local Epoch : 8 | [0/18116 (0%)]\tBatch Loss: 448.138458\n",
      "| Global Round : 5 | Local Epoch : 8 | [9088/18116 (50%)]\tBatch Loss: 751.636047\n",
      "| Global Round : 5 | Local Epoch : 9 | [0/18116 (0%)]\tBatch Loss: 835.364990\n",
      "| Global Round : 5 | Local Epoch : 9 | [9088/18116 (50%)]\tBatch Loss: 1018.313904\n"
     ]
    },
    {
     "name": "stderr",
     "output_type": "stream",
     "text": [
      "100%|██████████| 5/5 [00:41<00:00,  8.24s/it]"
     ]
    },
    {
     "name": "stdout",
     "output_type": "stream",
     "text": [
      "Client 0: accuracy loss: 180.34 | fairness loss 43.20 | RD = 0.35 = |131/592-806/1421| \n",
      "Client 1: accuracy loss: 83.49 | fairness loss 55.63 | RD = 0.30 = |80/421-406/823| \n",
      " \n",
      "Avg Training Stats after 5 global rounds:\n",
      "Training loss: 786.01 | Validation accuracy: 77.41% | Validation RD: 0.3318\n"
     ]
    },
    {
     "name": "stderr",
     "output_type": "stream",
     "text": [
      "\n"
     ]
    },
    {
     "name": "stdout",
     "output_type": "stream",
     "text": [
      " \n",
      " Results after 6 global rounds of training:\n",
      "|---- Avg Train Accuracy: 77.41%\n",
      "|---- Test Accuracy: 81.15%\n",
      "|---- Test RD: 0.2839\n",
      "\n",
      " Total Run Time: 41.8821 sec\n"
     ]
    }
   ],
   "source": [
    "train(logReg(num_features=NUM_FEATURES, num_classes=2), \n",
    "      \"Zafar\", penalty = 75, optimizer = 'sgd', learning_rate = 0.01,\n",
    "     num_rounds = 5, local_epochs = 10)"
   ]
  },
  {
   "cell_type": "code",
   "execution_count": 3,
   "metadata": {},
   "outputs": [
    {
     "name": "stderr",
     "output_type": "stream",
     "text": [
      "\r",
      "  0%|          | 0/5 [00:00<?, ?it/s]"
     ]
    },
    {
     "name": "stdout",
     "output_type": "stream",
     "text": [
      "\n",
      " | Global Training Round : 1 |\n",
      "\n",
      "| Global Round : 1 | Local Epoch : 0 | [0/11188 (0%)]\tBatch Loss: 90.878746\n",
      "| Global Round : 1 | Local Epoch : 0 | [5632/11188 (50%)]\tBatch Loss: 46.387531\n",
      "| Global Round : 1 | Local Epoch : 1 | [0/11188 (0%)]\tBatch Loss: 40.159161\n",
      "| Global Round : 1 | Local Epoch : 1 | [5632/11188 (50%)]\tBatch Loss: 47.531467\n",
      "| Global Round : 1 | Local Epoch : 2 | [0/11188 (0%)]\tBatch Loss: 49.567120\n",
      "| Global Round : 1 | Local Epoch : 2 | [5632/11188 (50%)]\tBatch Loss: 58.875660\n",
      "| Global Round : 1 | Local Epoch : 3 | [0/11188 (0%)]\tBatch Loss: 50.780552\n",
      "| Global Round : 1 | Local Epoch : 3 | [5632/11188 (50%)]\tBatch Loss: 52.861435\n",
      "| Global Round : 1 | Local Epoch : 4 | [0/11188 (0%)]\tBatch Loss: 51.044689\n",
      "| Global Round : 1 | Local Epoch : 4 | [5632/11188 (50%)]\tBatch Loss: 52.368099\n",
      "| Global Round : 1 | Local Epoch : 0 | [0/18116 (0%)]\tBatch Loss: 93.284721\n",
      "| Global Round : 1 | Local Epoch : 0 | [9088/18116 (50%)]\tBatch Loss: 45.287022\n",
      "| Global Round : 1 | Local Epoch : 1 | [0/18116 (0%)]\tBatch Loss: 35.475594\n",
      "| Global Round : 1 | Local Epoch : 1 | [9088/18116 (50%)]\tBatch Loss: 44.435799\n",
      "| Global Round : 1 | Local Epoch : 2 | [0/18116 (0%)]\tBatch Loss: 47.523823\n",
      "| Global Round : 1 | Local Epoch : 2 | [9088/18116 (50%)]\tBatch Loss: 43.617367\n",
      "| Global Round : 1 | Local Epoch : 3 | [0/18116 (0%)]\tBatch Loss: 37.159367\n",
      "| Global Round : 1 | Local Epoch : 3 | [9088/18116 (50%)]\tBatch Loss: 44.208282\n",
      "| Global Round : 1 | Local Epoch : 4 | [0/18116 (0%)]\tBatch Loss: 37.855591\n",
      "| Global Round : 1 | Local Epoch : 4 | [9088/18116 (50%)]\tBatch Loss: 39.212612\n"
     ]
    },
    {
     "name": "stderr",
     "output_type": "stream",
     "text": [
      "\r",
      " 20%|██        | 1/5 [00:04<00:17,  4.41s/it]"
     ]
    },
    {
     "name": "stdout",
     "output_type": "stream",
     "text": [
      "Client 0: accuracy loss: 80.69 | fairness loss 0.43 | RD = 0.30 = |101/592-669/1421| \n",
      "Client 1: accuracy loss: 42.37 | fairness loss 0.61 | RD = 0.25 = |56/421-313/823| \n",
      " \n",
      "Avg Training Stats after 1 global rounds:\n",
      "Training loss: 48.40 | Validation accuracy: 80.87% | Validation RD: 0.2826\n",
      "\n",
      " | Global Training Round : 2 |\n",
      "\n",
      "| Global Round : 2 | Local Epoch : 0 | [0/18116 (0%)]\tBatch Loss: 30.665058\n",
      "| Global Round : 2 | Local Epoch : 0 | [9088/18116 (50%)]\tBatch Loss: 26.261848\n",
      "| Global Round : 2 | Local Epoch : 1 | [0/18116 (0%)]\tBatch Loss: 34.759308\n",
      "| Global Round : 2 | Local Epoch : 1 | [9088/18116 (50%)]\tBatch Loss: 33.978031\n",
      "| Global Round : 2 | Local Epoch : 2 | [0/18116 (0%)]\tBatch Loss: 31.810749\n",
      "| Global Round : 2 | Local Epoch : 2 | [9088/18116 (50%)]\tBatch Loss: 37.339088\n",
      "| Global Round : 2 | Local Epoch : 3 | [0/18116 (0%)]\tBatch Loss: 27.173178\n",
      "| Global Round : 2 | Local Epoch : 3 | [9088/18116 (50%)]\tBatch Loss: 50.026299\n",
      "| Global Round : 2 | Local Epoch : 4 | [0/18116 (0%)]\tBatch Loss: 50.139790\n",
      "| Global Round : 2 | Local Epoch : 4 | [9088/18116 (50%)]\tBatch Loss: 34.927334\n",
      "| Global Round : 2 | Local Epoch : 0 | [0/11188 (0%)]\tBatch Loss: 61.348389\n",
      "| Global Round : 2 | Local Epoch : 0 | [5632/11188 (50%)]\tBatch Loss: 56.281158\n",
      "| Global Round : 2 | Local Epoch : 1 | [0/11188 (0%)]\tBatch Loss: 43.069481\n",
      "| Global Round : 2 | Local Epoch : 1 | [5632/11188 (50%)]\tBatch Loss: 57.736008\n",
      "| Global Round : 2 | Local Epoch : 2 | [0/11188 (0%)]\tBatch Loss: 39.710533\n",
      "| Global Round : 2 | Local Epoch : 2 | [5632/11188 (50%)]\tBatch Loss: 52.175327\n",
      "| Global Round : 2 | Local Epoch : 3 | [0/11188 (0%)]\tBatch Loss: 46.539944\n",
      "| Global Round : 2 | Local Epoch : 3 | [5632/11188 (50%)]\tBatch Loss: 41.249878\n",
      "| Global Round : 2 | Local Epoch : 4 | [0/11188 (0%)]\tBatch Loss: 41.149403\n",
      "| Global Round : 2 | Local Epoch : 4 | [5632/11188 (50%)]\tBatch Loss: 49.248199\n"
     ]
    },
    {
     "name": "stderr",
     "output_type": "stream",
     "text": [
      "\r",
      " 40%|████      | 2/5 [00:08<00:13,  4.39s/it]"
     ]
    },
    {
     "name": "stdout",
     "output_type": "stream",
     "text": [
      "Client 0: accuracy loss: 85.90 | fairness loss 0.46 | RD = 0.38 = |99/592-775/1421| \n",
      "Client 1: accuracy loss: 44.58 | fairness loss 0.57 | RD = 0.33 = |58/421-384/823| \n",
      " \n",
      "Avg Training Stats after 2 global rounds:\n",
      "Training loss: 47.04 | Validation accuracy: 79.31% | Validation RD: 0.3615\n",
      "\n",
      " | Global Training Round : 3 |\n",
      "\n",
      "| Global Round : 3 | Local Epoch : 0 | [0/11188 (0%)]\tBatch Loss: 57.099686\n",
      "| Global Round : 3 | Local Epoch : 0 | [5632/11188 (50%)]\tBatch Loss: 44.662716\n",
      "| Global Round : 3 | Local Epoch : 1 | [0/11188 (0%)]\tBatch Loss: 43.518169\n",
      "| Global Round : 3 | Local Epoch : 1 | [5632/11188 (50%)]\tBatch Loss: 48.857349\n",
      "| Global Round : 3 | Local Epoch : 2 | [0/11188 (0%)]\tBatch Loss: 44.330078\n",
      "| Global Round : 3 | Local Epoch : 2 | [5632/11188 (50%)]\tBatch Loss: 49.202946\n",
      "| Global Round : 3 | Local Epoch : 3 | [0/11188 (0%)]\tBatch Loss: 56.129921\n",
      "| Global Round : 3 | Local Epoch : 3 | [5632/11188 (50%)]\tBatch Loss: 40.619923\n",
      "| Global Round : 3 | Local Epoch : 4 | [0/11188 (0%)]\tBatch Loss: 53.599342\n",
      "| Global Round : 3 | Local Epoch : 4 | [5632/11188 (50%)]\tBatch Loss: 47.533566\n",
      "| Global Round : 3 | Local Epoch : 0 | [0/18116 (0%)]\tBatch Loss: 41.198532\n",
      "| Global Round : 3 | Local Epoch : 0 | [9088/18116 (50%)]\tBatch Loss: 40.196072\n",
      "| Global Round : 3 | Local Epoch : 1 | [0/18116 (0%)]\tBatch Loss: 55.931156\n",
      "| Global Round : 3 | Local Epoch : 1 | [9088/18116 (50%)]\tBatch Loss: 34.619244\n",
      "| Global Round : 3 | Local Epoch : 2 | [0/18116 (0%)]\tBatch Loss: 36.012676\n",
      "| Global Round : 3 | Local Epoch : 2 | [9088/18116 (50%)]\tBatch Loss: 44.148216\n",
      "| Global Round : 3 | Local Epoch : 3 | [0/18116 (0%)]\tBatch Loss: 32.265293\n",
      "| Global Round : 3 | Local Epoch : 3 | [9088/18116 (50%)]\tBatch Loss: 28.204506\n",
      "| Global Round : 3 | Local Epoch : 4 | [0/18116 (0%)]\tBatch Loss: 42.067276\n",
      "| Global Round : 3 | Local Epoch : 4 | [9088/18116 (50%)]\tBatch Loss: 44.223366\n"
     ]
    },
    {
     "name": "stderr",
     "output_type": "stream",
     "text": [
      "\r",
      " 60%|██████    | 3/5 [00:13<00:08,  4.42s/it]"
     ]
    },
    {
     "name": "stdout",
     "output_type": "stream",
     "text": [
      "Client 0: accuracy loss: 72.30 | fairness loss 0.59 | RD = 0.27 = |77/592-567/1421| \n",
      "Client 1: accuracy loss: 39.29 | fairness loss 0.72 | RD = 0.26 = |42/421-299/823| \n",
      " \n",
      "Avg Training Stats after 3 global rounds:\n",
      "Training loss: 46.31 | Validation accuracy: 82.83% | Validation RD: 0.2684\n",
      "\n",
      " | Global Training Round : 4 |\n",
      "\n",
      "| Global Round : 4 | Local Epoch : 0 | [0/11188 (0%)]\tBatch Loss: 46.188766\n",
      "| Global Round : 4 | Local Epoch : 0 | [5632/11188 (50%)]\tBatch Loss: 48.308304\n",
      "| Global Round : 4 | Local Epoch : 1 | [0/11188 (0%)]\tBatch Loss: 40.829140\n",
      "| Global Round : 4 | Local Epoch : 1 | [5632/11188 (50%)]\tBatch Loss: 57.226719\n",
      "| Global Round : 4 | Local Epoch : 2 | [0/11188 (0%)]\tBatch Loss: 39.828655\n",
      "| Global Round : 4 | Local Epoch : 2 | [5632/11188 (50%)]\tBatch Loss: 47.903210\n",
      "| Global Round : 4 | Local Epoch : 3 | [0/11188 (0%)]\tBatch Loss: 37.704254\n",
      "| Global Round : 4 | Local Epoch : 3 | [5632/11188 (50%)]\tBatch Loss: 57.139442\n",
      "| Global Round : 4 | Local Epoch : 4 | [0/11188 (0%)]\tBatch Loss: 56.700706\n",
      "| Global Round : 4 | Local Epoch : 4 | [5632/11188 (50%)]\tBatch Loss: 40.300571\n",
      "| Global Round : 4 | Local Epoch : 0 | [0/18116 (0%)]\tBatch Loss: 32.805012\n",
      "| Global Round : 4 | Local Epoch : 0 | [9088/18116 (50%)]\tBatch Loss: 43.439190\n",
      "| Global Round : 4 | Local Epoch : 1 | [0/18116 (0%)]\tBatch Loss: 35.142529\n",
      "| Global Round : 4 | Local Epoch : 1 | [9088/18116 (50%)]\tBatch Loss: 39.737160\n",
      "| Global Round : 4 | Local Epoch : 2 | [0/18116 (0%)]\tBatch Loss: 43.939434\n",
      "| Global Round : 4 | Local Epoch : 2 | [9088/18116 (50%)]\tBatch Loss: 48.262035\n",
      "| Global Round : 4 | Local Epoch : 3 | [0/18116 (0%)]\tBatch Loss: 28.521687\n",
      "| Global Round : 4 | Local Epoch : 3 | [9088/18116 (50%)]\tBatch Loss: 39.592514\n",
      "| Global Round : 4 | Local Epoch : 4 | [0/18116 (0%)]\tBatch Loss: 41.328667\n",
      "| Global Round : 4 | Local Epoch : 4 | [9088/18116 (50%)]\tBatch Loss: 37.355202\n"
     ]
    },
    {
     "name": "stderr",
     "output_type": "stream",
     "text": [
      "\r",
      " 80%|████████  | 4/5 [00:17<00:04,  4.33s/it]"
     ]
    },
    {
     "name": "stdout",
     "output_type": "stream",
     "text": [
      "Client 0: accuracy loss: 73.79 | fairness loss 0.59 | RD = 0.28 = |82/592-594/1421| \n",
      "Client 1: accuracy loss: 39.46 | fairness loss 0.70 | RD = 0.27 = |48/421-315/823| \n",
      " \n",
      "Avg Training Stats after 4 global rounds:\n",
      "Training loss: 45.82 | Validation accuracy: 82.61% | Validation RD: 0.2767\n",
      "\n",
      " | Global Training Round : 5 |\n",
      "\n",
      "| Global Round : 5 | Local Epoch : 0 | [0/11188 (0%)]\tBatch Loss: 49.766724\n",
      "| Global Round : 5 | Local Epoch : 0 | [5632/11188 (50%)]\tBatch Loss: 40.755550\n",
      "| Global Round : 5 | Local Epoch : 1 | [0/11188 (0%)]\tBatch Loss: 47.119442\n",
      "| Global Round : 5 | Local Epoch : 1 | [5632/11188 (50%)]\tBatch Loss: 33.915291\n",
      "| Global Round : 5 | Local Epoch : 2 | [0/11188 (0%)]\tBatch Loss: 58.509113\n",
      "| Global Round : 5 | Local Epoch : 2 | [5632/11188 (50%)]\tBatch Loss: 37.903683\n",
      "| Global Round : 5 | Local Epoch : 3 | [0/11188 (0%)]\tBatch Loss: 53.478104\n",
      "| Global Round : 5 | Local Epoch : 3 | [5632/11188 (50%)]\tBatch Loss: 56.476795\n",
      "| Global Round : 5 | Local Epoch : 4 | [0/11188 (0%)]\tBatch Loss: 54.533440\n",
      "| Global Round : 5 | Local Epoch : 4 | [5632/11188 (50%)]\tBatch Loss: 40.991035\n",
      "| Global Round : 5 | Local Epoch : 0 | [0/18116 (0%)]\tBatch Loss: 36.210026\n",
      "| Global Round : 5 | Local Epoch : 0 | [9088/18116 (50%)]\tBatch Loss: 33.813465\n",
      "| Global Round : 5 | Local Epoch : 1 | [0/18116 (0%)]\tBatch Loss: 32.242607\n",
      "| Global Round : 5 | Local Epoch : 1 | [9088/18116 (50%)]\tBatch Loss: 36.235065\n",
      "| Global Round : 5 | Local Epoch : 2 | [0/18116 (0%)]\tBatch Loss: 36.612244\n",
      "| Global Round : 5 | Local Epoch : 2 | [9088/18116 (50%)]\tBatch Loss: 51.844887\n",
      "| Global Round : 5 | Local Epoch : 3 | [0/18116 (0%)]\tBatch Loss: 31.053272\n",
      "| Global Round : 5 | Local Epoch : 3 | [9088/18116 (50%)]\tBatch Loss: 44.439911\n",
      "| Global Round : 5 | Local Epoch : 4 | [0/18116 (0%)]\tBatch Loss: 40.488514\n",
      "| Global Round : 5 | Local Epoch : 4 | [9088/18116 (50%)]\tBatch Loss: 53.541111\n"
     ]
    },
    {
     "name": "stderr",
     "output_type": "stream",
     "text": [
      "100%|██████████| 5/5 [00:21<00:00,  4.30s/it]"
     ]
    },
    {
     "name": "stdout",
     "output_type": "stream",
     "text": [
      "Client 0: accuracy loss: 69.33 | fairness loss 0.65 | RD = 0.19 = |77/592-455/1421| \n",
      "Client 1: accuracy loss: 38.21 | fairness loss 0.76 | RD = 0.19 = |42/421-240/823| \n",
      " \n",
      "Avg Training Stats after 5 global rounds:\n",
      "Training loss: 45.48 | Validation accuracy: 83.66% | Validation RD: 0.1922\n"
     ]
    },
    {
     "name": "stderr",
     "output_type": "stream",
     "text": [
      "\n"
     ]
    },
    {
     "name": "stdout",
     "output_type": "stream",
     "text": [
      " \n",
      " Results after 6 global rounds of training:\n",
      "|---- Avg Train Accuracy: 83.66%\n",
      "|---- Test Accuracy: 84.58%\n",
      "|---- Test RD: 0.1577\n",
      "\n",
      " Total Run Time: 21.9304 sec\n"
     ]
    }
   ],
   "source": [
    "train(logReg(num_features=NUM_FEATURES, num_classes=2), optimizer = 'sgd', learning_rate = 0.01)"
   ]
  },
  {
   "cell_type": "code",
   "execution_count": 4,
   "metadata": {},
   "outputs": [
    {
     "ename": "IndexError",
     "evalue": "Dimension out of range (expected to be in range of [-1, 0], but got 1)",
     "output_type": "error",
     "traceback": [
      "\u001b[0;31m---------------------------------------------------------------------------\u001b[0m",
      "\u001b[0;31mIndexError\u001b[0m                                Traceback (most recent call last)",
      "\u001b[0;32m<ipython-input-4-90866b5e2fd1>\u001b[0m in \u001b[0;36m<module>\u001b[0;34m\u001b[0m\n\u001b[0;32m----> 1\u001b[0;31m \u001b[0mF\u001b[0m\u001b[0;34m.\u001b[0m\u001b[0mcross_entropy\u001b[0m\u001b[0;34m(\u001b[0m\u001b[0mtorch\u001b[0m\u001b[0;34m.\u001b[0m\u001b[0mones\u001b[0m\u001b[0;34m(\u001b[0m\u001b[0;36m10\u001b[0m\u001b[0;34m)\u001b[0m\u001b[0;34m,\u001b[0m \u001b[0mtorch\u001b[0m\u001b[0;34m.\u001b[0m\u001b[0mones\u001b[0m\u001b[0;34m(\u001b[0m\u001b[0;36m10\u001b[0m\u001b[0;34m)\u001b[0m\u001b[0;34m)\u001b[0m\u001b[0;34m\u001b[0m\u001b[0;34m\u001b[0m\u001b[0m\n\u001b[0m",
      "\u001b[0;32m/opt/anaconda3/lib/python3.7/site-packages/torch/nn/functional.py\u001b[0m in \u001b[0;36mcross_entropy\u001b[0;34m(input, target, weight, size_average, ignore_index, reduce, reduction)\u001b[0m\n\u001b[1;32m   2466\u001b[0m     \u001b[0;32mif\u001b[0m \u001b[0msize_average\u001b[0m \u001b[0;32mis\u001b[0m \u001b[0;32mnot\u001b[0m \u001b[0;32mNone\u001b[0m \u001b[0;32mor\u001b[0m \u001b[0mreduce\u001b[0m \u001b[0;32mis\u001b[0m \u001b[0;32mnot\u001b[0m \u001b[0;32mNone\u001b[0m\u001b[0;34m:\u001b[0m\u001b[0;34m\u001b[0m\u001b[0;34m\u001b[0m\u001b[0m\n\u001b[1;32m   2467\u001b[0m         \u001b[0mreduction\u001b[0m \u001b[0;34m=\u001b[0m \u001b[0m_Reduction\u001b[0m\u001b[0;34m.\u001b[0m\u001b[0mlegacy_get_string\u001b[0m\u001b[0;34m(\u001b[0m\u001b[0msize_average\u001b[0m\u001b[0;34m,\u001b[0m \u001b[0mreduce\u001b[0m\u001b[0;34m)\u001b[0m\u001b[0;34m\u001b[0m\u001b[0;34m\u001b[0m\u001b[0m\n\u001b[0;32m-> 2468\u001b[0;31m     \u001b[0;32mreturn\u001b[0m \u001b[0mnll_loss\u001b[0m\u001b[0;34m(\u001b[0m\u001b[0mlog_softmax\u001b[0m\u001b[0;34m(\u001b[0m\u001b[0minput\u001b[0m\u001b[0;34m,\u001b[0m \u001b[0;36m1\u001b[0m\u001b[0;34m)\u001b[0m\u001b[0;34m,\u001b[0m \u001b[0mtarget\u001b[0m\u001b[0;34m,\u001b[0m \u001b[0mweight\u001b[0m\u001b[0;34m,\u001b[0m \u001b[0;32mNone\u001b[0m\u001b[0;34m,\u001b[0m \u001b[0mignore_index\u001b[0m\u001b[0;34m,\u001b[0m \u001b[0;32mNone\u001b[0m\u001b[0;34m,\u001b[0m \u001b[0mreduction\u001b[0m\u001b[0;34m)\u001b[0m\u001b[0;34m\u001b[0m\u001b[0;34m\u001b[0m\u001b[0m\n\u001b[0m\u001b[1;32m   2469\u001b[0m \u001b[0;34m\u001b[0m\u001b[0m\n\u001b[1;32m   2470\u001b[0m \u001b[0;34m\u001b[0m\u001b[0m\n",
      "\u001b[0;32m/opt/anaconda3/lib/python3.7/site-packages/torch/nn/functional.py\u001b[0m in \u001b[0;36mlog_softmax\u001b[0;34m(input, dim, _stacklevel, dtype)\u001b[0m\n\u001b[1;32m   1603\u001b[0m         \u001b[0mdim\u001b[0m \u001b[0;34m=\u001b[0m \u001b[0m_get_softmax_dim\u001b[0m\u001b[0;34m(\u001b[0m\u001b[0;34m'log_softmax'\u001b[0m\u001b[0;34m,\u001b[0m \u001b[0minput\u001b[0m\u001b[0;34m.\u001b[0m\u001b[0mdim\u001b[0m\u001b[0;34m(\u001b[0m\u001b[0;34m)\u001b[0m\u001b[0;34m,\u001b[0m \u001b[0m_stacklevel\u001b[0m\u001b[0;34m)\u001b[0m\u001b[0;34m\u001b[0m\u001b[0;34m\u001b[0m\u001b[0m\n\u001b[1;32m   1604\u001b[0m     \u001b[0;32mif\u001b[0m \u001b[0mdtype\u001b[0m \u001b[0;32mis\u001b[0m \u001b[0;32mNone\u001b[0m\u001b[0;34m:\u001b[0m\u001b[0;34m\u001b[0m\u001b[0;34m\u001b[0m\u001b[0m\n\u001b[0;32m-> 1605\u001b[0;31m         \u001b[0mret\u001b[0m \u001b[0;34m=\u001b[0m \u001b[0minput\u001b[0m\u001b[0;34m.\u001b[0m\u001b[0mlog_softmax\u001b[0m\u001b[0;34m(\u001b[0m\u001b[0mdim\u001b[0m\u001b[0;34m)\u001b[0m\u001b[0;34m\u001b[0m\u001b[0;34m\u001b[0m\u001b[0m\n\u001b[0m\u001b[1;32m   1606\u001b[0m     \u001b[0;32melse\u001b[0m\u001b[0;34m:\u001b[0m\u001b[0;34m\u001b[0m\u001b[0;34m\u001b[0m\u001b[0m\n\u001b[1;32m   1607\u001b[0m         \u001b[0mret\u001b[0m \u001b[0;34m=\u001b[0m \u001b[0minput\u001b[0m\u001b[0;34m.\u001b[0m\u001b[0mlog_softmax\u001b[0m\u001b[0;34m(\u001b[0m\u001b[0mdim\u001b[0m\u001b[0;34m,\u001b[0m \u001b[0mdtype\u001b[0m\u001b[0;34m=\u001b[0m\u001b[0mdtype\u001b[0m\u001b[0;34m)\u001b[0m\u001b[0;34m\u001b[0m\u001b[0;34m\u001b[0m\u001b[0m\n",
      "\u001b[0;31mIndexError\u001b[0m: Dimension out of range (expected to be in range of [-1, 0], but got 1)"
     ]
    }
   ],
   "source": [
    "F.cross_entropy(torch.ones(10), torch.ones(10))"
   ]
  },
  {
   "cell_type": "code",
   "execution_count": null,
   "metadata": {},
   "outputs": [],
   "source": []
  }
 ],
 "metadata": {
  "kernelspec": {
   "display_name": "Python 3",
   "language": "python",
   "name": "python3"
  },
  "language_info": {
   "codemirror_mode": {
    "name": "ipython",
    "version": 3
   },
   "file_extension": ".py",
   "mimetype": "text/x-python",
   "name": "python",
   "nbconvert_exporter": "python",
   "pygments_lexer": "ipython3",
   "version": "3.7.4"
  }
 },
 "nbformat": 4,
 "nbformat_minor": 2
}
