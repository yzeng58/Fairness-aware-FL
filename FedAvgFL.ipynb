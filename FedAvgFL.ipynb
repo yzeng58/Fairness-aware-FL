{
 "cells": [
  {
   "cell_type": "code",
   "execution_count": 3,
   "metadata": {},
   "outputs": [],
   "source": [
    "# import the training method \n",
    "from Server import *"
   ]
  },
  {
   "cell_type": "code",
   "execution_count": 8,
   "metadata": {
    "scrolled": true
   },
   "outputs": [
    {
     "name": "stderr",
     "output_type": "stream",
     "text": [
      "\n",
      "  0%|          | 0/10 [00:00<?, ?it/s]\u001b[A"
     ]
    },
    {
     "name": "stdout",
     "output_type": "stream",
     "text": [
      "\n",
      " | Global Training Round : 1 |\n",
      "\n"
     ]
    },
    {
     "name": "stderr",
     "output_type": "stream",
     "text": [
      "\n",
      " 10%|█         | 1/10 [00:02<00:21,  2.35s/it]\u001b[A"
     ]
    },
    {
     "name": "stdout",
     "output_type": "stream",
     "text": [
      "Client 1: accuracy loss: 4.03 | fairness loss 281.70 | Demographic disparity = 0.54\n",
      "Client 2: accuracy loss: 4.24 | fairness loss 366.03 | Demographic disparity = 0.22\n",
      "Client 3: accuracy loss: 3.21 | fairness loss 442.67 | Demographic disparity = 0.29\n",
      " \n",
      "Avg Training Stats after 1 global rounds:\n",
      "Training loss: 837.34 | Validation accuracy: 85.48% | Validation Demographic disparity: 0.3254\n",
      "\n",
      " | Global Training Round : 2 |\n",
      "\n"
     ]
    },
    {
     "name": "stderr",
     "output_type": "stream",
     "text": [
      "\n",
      " 20%|██        | 2/10 [00:04<00:19,  2.38s/it]\u001b[A"
     ]
    },
    {
     "name": "stdout",
     "output_type": "stream",
     "text": [
      "Client 1: accuracy loss: 4.58 | fairness loss 46.95 | Demographic disparity = 0.45\n",
      "Client 2: accuracy loss: 4.56 | fairness loss 64.19 | Demographic disparity = 0.28\n",
      "Client 3: accuracy loss: 3.67 | fairness loss 78.13 | Demographic disparity = 0.30\n",
      " \n",
      "Avg Training Stats after 2 global rounds:\n",
      "Training loss: 544.81 | Validation accuracy: 86.50% | Validation Demographic disparity: 0.3318\n",
      "\n",
      " | Global Training Round : 3 |\n",
      "\n"
     ]
    },
    {
     "name": "stderr",
     "output_type": "stream",
     "text": [
      "\n",
      " 30%|███       | 3/10 [00:07<00:16,  2.41s/it]\u001b[A"
     ]
    },
    {
     "name": "stdout",
     "output_type": "stream",
     "text": [
      "Client 1: accuracy loss: 5.83 | fairness loss 5.31 | Demographic disparity = 0.25\n",
      "Client 2: accuracy loss: 5.46 | fairness loss 7.75 | Demographic disparity = 0.23\n",
      "Client 3: accuracy loss: 4.55 | fairness loss 9.57 | Demographic disparity = 0.23\n",
      " \n",
      "Avg Training Stats after 3 global rounds:\n",
      "Training loss: 392.87 | Validation accuracy: 83.85% | Validation Demographic disparity: 0.2491\n",
      "\n",
      " | Global Training Round : 4 |\n",
      "\n"
     ]
    },
    {
     "name": "stderr",
     "output_type": "stream",
     "text": [
      "\n",
      " 40%|████      | 4/10 [00:09<00:14,  2.46s/it]\u001b[A"
     ]
    },
    {
     "name": "stdout",
     "output_type": "stream",
     "text": [
      "Client 1: accuracy loss: 5.88 | fairness loss 3.77 | Demographic disparity = 0.31\n",
      "Client 2: accuracy loss: 5.50 | fairness loss 4.97 | Demographic disparity = 0.29\n",
      "Client 3: accuracy loss: 4.64 | fairness loss 6.27 | Demographic disparity = 0.24\n",
      " \n",
      "Avg Training Stats after 4 global rounds:\n",
      "Training loss: 314.07 | Validation accuracy: 83.82% | Validation Demographic disparity: 0.2936\n",
      "\n",
      " | Global Training Round : 5 |\n",
      "\n"
     ]
    },
    {
     "name": "stderr",
     "output_type": "stream",
     "text": [
      "\n",
      " 50%|█████     | 5/10 [00:12<00:12,  2.55s/it]\u001b[A"
     ]
    },
    {
     "name": "stdout",
     "output_type": "stream",
     "text": [
      "Client 1: accuracy loss: 5.85 | fairness loss 3.58 | Demographic disparity = 0.36\n",
      "Client 2: accuracy loss: 5.49 | fairness loss 4.61 | Demographic disparity = 0.31\n",
      "Client 3: accuracy loss: 4.64 | fairness loss 5.63 | Demographic disparity = 0.28\n",
      " \n",
      "Avg Training Stats after 5 global rounds:\n",
      "Training loss: 266.56 | Validation accuracy: 83.07% | Validation Demographic disparity: 0.3243\n",
      "\n",
      " | Global Training Round : 6 |\n",
      "\n"
     ]
    },
    {
     "name": "stderr",
     "output_type": "stream",
     "text": [
      "\n",
      " 60%|██████    | 6/10 [00:15<00:10,  2.53s/it]\u001b[A"
     ]
    },
    {
     "name": "stdout",
     "output_type": "stream",
     "text": [
      "Client 1: accuracy loss: 5.85 | fairness loss 3.67 | Demographic disparity = 0.44\n",
      "Client 2: accuracy loss: 5.49 | fairness loss 4.63 | Demographic disparity = 0.35\n",
      "Client 3: accuracy loss: 4.64 | fairness loss 5.52 | Demographic disparity = 0.32\n",
      " \n",
      "Avg Training Stats after 6 global rounds:\n",
      "Training loss: 234.83 | Validation accuracy: 83.50% | Validation Demographic disparity: 0.3706\n",
      "\n",
      " | Global Training Round : 7 |\n",
      "\n"
     ]
    },
    {
     "name": "stderr",
     "output_type": "stream",
     "text": [
      "\n",
      " 70%|███████   | 7/10 [00:17<00:07,  2.58s/it]\u001b[A"
     ]
    },
    {
     "name": "stdout",
     "output_type": "stream",
     "text": [
      "Client 1: accuracy loss: 5.85 | fairness loss 3.73 | Demographic disparity = 0.48\n",
      "Client 2: accuracy loss: 5.50 | fairness loss 4.66 | Demographic disparity = 0.35\n",
      "Client 3: accuracy loss: 4.64 | fairness loss 5.52 | Demographic disparity = 0.34\n",
      " \n",
      "Avg Training Stats after 7 global rounds:\n",
      "Training loss: 212.17 | Validation accuracy: 83.79% | Validation Demographic disparity: 0.3846\n",
      "\n",
      " | Global Training Round : 8 |\n",
      "\n"
     ]
    },
    {
     "name": "stderr",
     "output_type": "stream",
     "text": [
      "\n",
      " 80%|████████  | 8/10 [00:20<00:05,  2.57s/it]\u001b[A"
     ]
    },
    {
     "name": "stdout",
     "output_type": "stream",
     "text": [
      "Client 1: accuracy loss: 5.86 | fairness loss 3.75 | Demographic disparity = 0.51\n",
      "Client 2: accuracy loss: 5.50 | fairness loss 4.68 | Demographic disparity = 0.35\n",
      "Client 3: accuracy loss: 4.64 | fairness loss 5.53 | Demographic disparity = 0.34\n",
      " \n",
      "Avg Training Stats after 8 global rounds:\n",
      "Training loss: 195.18 | Validation accuracy: 84.08% | Validation Demographic disparity: 0.3900\n",
      "\n",
      " | Global Training Round : 9 |\n",
      "\n"
     ]
    },
    {
     "name": "stderr",
     "output_type": "stream",
     "text": [
      "\n",
      " 90%|█████████ | 9/10 [00:22<00:02,  2.52s/it]\u001b[A"
     ]
    },
    {
     "name": "stdout",
     "output_type": "stream",
     "text": [
      "Client 1: accuracy loss: 5.86 | fairness loss 3.76 | Demographic disparity = 0.55\n",
      "Client 2: accuracy loss: 5.50 | fairness loss 4.69 | Demographic disparity = 0.35\n",
      "Client 3: accuracy loss: 4.64 | fairness loss 5.53 | Demographic disparity = 0.34\n",
      " \n",
      "Avg Training Stats after 9 global rounds:\n",
      "Training loss: 181.96 | Validation accuracy: 84.37% | Validation Demographic disparity: 0.3954\n",
      "\n",
      " | Global Training Round : 10 |\n",
      "\n"
     ]
    },
    {
     "name": "stderr",
     "output_type": "stream",
     "text": [
      "\n",
      "100%|██████████| 10/10 [00:25<00:00,  2.51s/it]\u001b[A"
     ]
    },
    {
     "name": "stdout",
     "output_type": "stream",
     "text": [
      "Client 1: accuracy loss: 5.86 | fairness loss 3.77 | Demographic disparity = 0.55\n",
      "Client 2: accuracy loss: 5.50 | fairness loss 4.69 | Demographic disparity = 0.35\n",
      "Client 3: accuracy loss: 4.64 | fairness loss 5.53 | Demographic disparity = 0.34\n",
      " \n",
      "Avg Training Stats after 10 global rounds:\n",
      "Training loss: 171.39 | Validation accuracy: 84.37% | Validation Demographic disparity: 0.3954\n",
      " \n",
      " Results after 10 global rounds of training:\n",
      "|---- Avg Train Accuracy: 84.37%\n",
      "|---- Test Accuracy: 82.00%\n",
      "|---- Test Demographic disparity: 0.3457\n",
      "\n",
      " Total Run Time: 25.1117 sec\n"
     ]
    },
    {
     "name": "stderr",
     "output_type": "stream",
     "text": [
      "\n"
     ]
    }
   ],
   "source": [
    "seed = 933\n",
    "synthetic_info = dataGenerate(seed = seed, test_samples = 100)\n",
    "server = Server(logReg(num_features=3, num_classes=2, seed = seed), synthetic_info, train_prn = False, metric = \"Demographic disparity\", seed = seed)\n",
    "server.Zafar(num_rounds = 10, local_epochs = 30, optimizer = 'adam', epsilon = None, learning_rate = 0.001, penalty = 500)\n"
   ]
  },
  {
   "cell_type": "code",
   "execution_count": 6,
   "metadata": {
    "collapsed": true
   },
   "outputs": [
    {
     "name": "stderr",
     "output_type": "stream",
     "text": [
      "\r",
      "  0%|          | 0/5 [00:00<?, ?it/s]"
     ]
    },
    {
     "name": "stdout",
     "output_type": "stream",
     "text": [
      "\n",
      " | Global Training Round : 1 |\n",
      "\n"
     ]
    },
    {
     "name": "stderr",
     "output_type": "stream",
     "text": [
      "\r",
      " 20%|██        | 1/5 [00:00<00:01,  2.41it/s]"
     ]
    },
    {
     "name": "stdout",
     "output_type": "stream",
     "text": [
      "Client 1: accuracy loss: 3.26 | fairness loss 2.52 | Demographic disparity = 0.49\n",
      "Client 2: accuracy loss: 2.62 | fairness loss 2.86 | Demographic disparity = 0.38\n",
      "Client 3: accuracy loss: 1.61 | fairness loss 2.99 | Demographic disparity = 0.41\n",
      " \n",
      "Avg Training Stats after 1 global rounds:\n",
      "Training loss: 50.49 | Validation accuracy: 88.99% | Validation Demographic disparity: 0.4085\n",
      "\n",
      " | Global Training Round : 2 |\n",
      "\n"
     ]
    },
    {
     "name": "stderr",
     "output_type": "stream",
     "text": [
      "\r",
      " 40%|████      | 2/5 [00:00<00:01,  2.42it/s]"
     ]
    },
    {
     "name": "stdout",
     "output_type": "stream",
     "text": [
      "Client 1: accuracy loss: 3.33 | fairness loss 2.77 | Demographic disparity = 0.47\n",
      "Client 2: accuracy loss: 2.56 | fairness loss 3.18 | Demographic disparity = 0.37\n",
      "Client 3: accuracy loss: 1.60 | fairness loss 3.30 | Demographic disparity = 0.39\n",
      " \n",
      "Avg Training Stats after 2 global rounds:\n",
      "Training loss: 41.97 | Validation accuracy: 88.37% | Validation Demographic disparity: 0.3926\n",
      "\n",
      " | Global Training Round : 3 |\n",
      "\n"
     ]
    },
    {
     "name": "stderr",
     "output_type": "stream",
     "text": [
      "\r",
      " 60%|██████    | 3/5 [00:01<00:00,  2.43it/s]"
     ]
    },
    {
     "name": "stdout",
     "output_type": "stream",
     "text": [
      "Client 1: accuracy loss: 3.33 | fairness loss 2.77 | Demographic disparity = 0.47\n",
      "Client 2: accuracy loss: 2.56 | fairness loss 3.18 | Demographic disparity = 0.37\n",
      "Client 3: accuracy loss: 1.60 | fairness loss 3.30 | Demographic disparity = 0.39\n",
      " \n",
      "Avg Training Stats after 3 global rounds:\n",
      "Training loss: 39.13 | Validation accuracy: 88.37% | Validation Demographic disparity: 0.3926\n",
      "\n",
      " | Global Training Round : 4 |\n",
      "\n"
     ]
    },
    {
     "name": "stderr",
     "output_type": "stream",
     "text": [
      "\r",
      " 80%|████████  | 4/5 [00:01<00:00,  2.43it/s]"
     ]
    },
    {
     "name": "stdout",
     "output_type": "stream",
     "text": [
      "Client 1: accuracy loss: 3.28 | fairness loss 2.53 | Demographic disparity = 0.47\n",
      "Client 2: accuracy loss: 2.62 | fairness loss 2.88 | Demographic disparity = 0.37\n",
      "Client 3: accuracy loss: 1.60 | fairness loss 3.00 | Demographic disparity = 0.40\n",
      " \n",
      "Avg Training Stats after 4 global rounds:\n",
      "Training loss: 37.71 | Validation accuracy: 89.35% | Validation Demographic disparity: 0.3967\n",
      "\n",
      " | Global Training Round : 5 |\n",
      "\n"
     ]
    },
    {
     "name": "stderr",
     "output_type": "stream",
     "text": [
      "100%|██████████| 5/5 [00:02<00:00,  2.49it/s]"
     ]
    },
    {
     "name": "stdout",
     "output_type": "stream",
     "text": [
      "Client 1: accuracy loss: 3.29 | fairness loss 2.54 | Demographic disparity = 0.47\n",
      "Client 2: accuracy loss: 2.62 | fairness loss 2.89 | Demographic disparity = 0.37\n",
      "Client 3: accuracy loss: 1.60 | fairness loss 3.01 | Demographic disparity = 0.40\n",
      " \n",
      "Avg Training Stats after 5 global rounds:\n",
      "Training loss: 36.86 | Validation accuracy: 89.35% | Validation Demographic disparity: 0.3967\n",
      " \n",
      " Results after 5 global rounds of training:\n",
      "|---- Avg Train Accuracy: 89.35%\n",
      "|---- Test Accuracy: 86.40%\n",
      "|---- Test Demographic disparity: 0.3798\n",
      "\n",
      " Total Run Time: 2.0299 sec\n"
     ]
    },
    {
     "name": "stderr",
     "output_type": "stream",
     "text": [
      "\n"
     ]
    }
   ],
   "source": [
    "train(logReg(num_features=3, num_classes=2), synthetic_info, metric = \"Demographic disparity\",\n",
    "      optimizer = 'sgd', learning_rate = 0.01, train_prn = False)"
   ]
  },
  {
   "cell_type": "code",
   "execution_count": 7,
   "metadata": {},
   "outputs": [
    {
     "name": "stderr",
     "output_type": "stream",
     "text": [
      "\r",
      "  0%|          | 0/5 [00:00<?, ?it/s]"
     ]
    },
    {
     "name": "stdout",
     "output_type": "stream",
     "text": [
      "\n",
      " | Global Training Round : 1 |\n",
      "\n",
      "| Global Round : 1 | Local Epoch : 0 | [0/11188 (0%)]\tBatch Loss: 88.313019\n",
      "| Global Round : 1 | Local Epoch : 0 | [5632/11188 (50%)]\tBatch Loss: 53.960548\n",
      "| Global Round : 1 | Local Epoch : 1 | [0/11188 (0%)]\tBatch Loss: 43.270252\n",
      "| Global Round : 1 | Local Epoch : 1 | [5632/11188 (50%)]\tBatch Loss: 48.692841\n",
      "| Global Round : 1 | Local Epoch : 2 | [0/11188 (0%)]\tBatch Loss: 50.300877\n",
      "| Global Round : 1 | Local Epoch : 2 | [5632/11188 (50%)]\tBatch Loss: 43.983326\n",
      "| Global Round : 1 | Local Epoch : 3 | [0/11188 (0%)]\tBatch Loss: 45.508751\n",
      "| Global Round : 1 | Local Epoch : 3 | [5632/11188 (50%)]\tBatch Loss: 45.103157\n",
      "| Global Round : 1 | Local Epoch : 4 | [0/11188 (0%)]\tBatch Loss: 43.102932\n",
      "| Global Round : 1 | Local Epoch : 4 | [5632/11188 (50%)]\tBatch Loss: 56.824829\n",
      "| Global Round : 1 | Local Epoch : 0 | [0/18116 (0%)]\tBatch Loss: 88.529495\n",
      "| Global Round : 1 | Local Epoch : 0 | [9088/18116 (50%)]\tBatch Loss: 44.390469\n",
      "| Global Round : 1 | Local Epoch : 1 | [0/18116 (0%)]\tBatch Loss: 37.500973\n",
      "| Global Round : 1 | Local Epoch : 1 | [9088/18116 (50%)]\tBatch Loss: 30.629757\n",
      "| Global Round : 1 | Local Epoch : 2 | [0/18116 (0%)]\tBatch Loss: 39.379936\n",
      "| Global Round : 1 | Local Epoch : 2 | [9088/18116 (50%)]\tBatch Loss: 42.654808\n",
      "| Global Round : 1 | Local Epoch : 3 | [0/18116 (0%)]\tBatch Loss: 50.425545\n",
      "| Global Round : 1 | Local Epoch : 3 | [9088/18116 (50%)]\tBatch Loss: 41.416672\n",
      "| Global Round : 1 | Local Epoch : 4 | [0/18116 (0%)]\tBatch Loss: 42.300751\n",
      "| Global Round : 1 | Local Epoch : 4 | [9088/18116 (50%)]\tBatch Loss: 34.045815\n"
     ]
    },
    {
     "name": "stderr",
     "output_type": "stream",
     "text": [
      "\r",
      " 20%|██        | 1/5 [00:04<00:18,  4.61s/it]"
     ]
    },
    {
     "name": "stdout",
     "output_type": "stream",
     "text": [
      "Client 1: accuracy loss: 137.34 | fairness loss 0.68 | Risk Difference = 0.43\n",
      "Client 2: accuracy loss: 63.48 | fairness loss 0.94 | Risk Difference = 0.33\n",
      " \n",
      "Avg Training Stats after 1 global rounds:\n",
      "Training loss: 48.21 | Validation accuracy: 68.62% | Validation Risk Difference: 0.3973\n",
      "\n",
      " | Global Training Round : 2 |\n",
      "\n",
      "| Global Round : 2 | Local Epoch : 0 | [0/18116 (0%)]\tBatch Loss: 47.761986\n",
      "| Global Round : 2 | Local Epoch : 0 | [9088/18116 (50%)]\tBatch Loss: 44.446388\n",
      "| Global Round : 2 | Local Epoch : 1 | [0/18116 (0%)]\tBatch Loss: 34.198399\n",
      "| Global Round : 2 | Local Epoch : 1 | [9088/18116 (50%)]\tBatch Loss: 27.961727\n",
      "| Global Round : 2 | Local Epoch : 2 | [0/18116 (0%)]\tBatch Loss: 38.647400\n",
      "| Global Round : 2 | Local Epoch : 2 | [9088/18116 (50%)]\tBatch Loss: 43.042290\n",
      "| Global Round : 2 | Local Epoch : 3 | [0/18116 (0%)]\tBatch Loss: 47.690285\n",
      "| Global Round : 2 | Local Epoch : 3 | [9088/18116 (50%)]\tBatch Loss: 40.187729\n",
      "| Global Round : 2 | Local Epoch : 4 | [0/18116 (0%)]\tBatch Loss: 41.117599\n",
      "| Global Round : 2 | Local Epoch : 4 | [9088/18116 (50%)]\tBatch Loss: 33.259830\n",
      "| Global Round : 2 | Local Epoch : 0 | [0/11188 (0%)]\tBatch Loss: 76.525909\n",
      "| Global Round : 2 | Local Epoch : 0 | [5632/11188 (50%)]\tBatch Loss: 53.561165\n",
      "| Global Round : 2 | Local Epoch : 1 | [0/11188 (0%)]\tBatch Loss: 40.820175\n",
      "| Global Round : 2 | Local Epoch : 1 | [5632/11188 (50%)]\tBatch Loss: 43.370453\n",
      "| Global Round : 2 | Local Epoch : 2 | [0/11188 (0%)]\tBatch Loss: 46.616333\n",
      "| Global Round : 2 | Local Epoch : 2 | [5632/11188 (50%)]\tBatch Loss: 43.420956\n",
      "| Global Round : 2 | Local Epoch : 3 | [0/11188 (0%)]\tBatch Loss: 45.396984\n",
      "| Global Round : 2 | Local Epoch : 3 | [5632/11188 (50%)]\tBatch Loss: 43.480412\n",
      "| Global Round : 2 | Local Epoch : 4 | [0/11188 (0%)]\tBatch Loss: 42.658989\n",
      "| Global Round : 2 | Local Epoch : 4 | [5632/11188 (50%)]\tBatch Loss: 56.459068\n"
     ]
    },
    {
     "name": "stderr",
     "output_type": "stream",
     "text": [
      "\r",
      " 40%|████      | 2/5 [00:09<00:13,  4.55s/it]"
     ]
    },
    {
     "name": "stdout",
     "output_type": "stream",
     "text": [
      "Client 1: accuracy loss: 70.05 | fairness loss 0.60 | Risk Difference = 0.20\n",
      "Client 2: accuracy loss: 38.81 | fairness loss 0.63 | Risk Difference = 0.20\n",
      " \n",
      "Avg Training Stats after 2 global rounds:\n",
      "Training loss: 46.87 | Validation accuracy: 83.43% | Validation Risk Difference: 0.2005\n",
      "\n",
      " | Global Training Round : 3 |\n",
      "\n",
      "| Global Round : 3 | Local Epoch : 0 | [0/11188 (0%)]\tBatch Loss: 47.135342\n",
      "| Global Round : 3 | Local Epoch : 0 | [5632/11188 (50%)]\tBatch Loss: 54.865837\n",
      "| Global Round : 3 | Local Epoch : 1 | [0/11188 (0%)]\tBatch Loss: 40.756050\n",
      "| Global Round : 3 | Local Epoch : 1 | [5632/11188 (50%)]\tBatch Loss: 42.541500\n",
      "| Global Round : 3 | Local Epoch : 2 | [0/11188 (0%)]\tBatch Loss: 45.439304\n",
      "| Global Round : 3 | Local Epoch : 2 | [5632/11188 (50%)]\tBatch Loss: 43.442619\n",
      "| Global Round : 3 | Local Epoch : 3 | [0/11188 (0%)]\tBatch Loss: 44.767586\n",
      "| Global Round : 3 | Local Epoch : 3 | [5632/11188 (50%)]\tBatch Loss: 42.950405\n",
      "| Global Round : 3 | Local Epoch : 4 | [0/11188 (0%)]\tBatch Loss: 42.260426\n",
      "| Global Round : 3 | Local Epoch : 4 | [5632/11188 (50%)]\tBatch Loss: 55.301510\n",
      "| Global Round : 3 | Local Epoch : 0 | [0/18116 (0%)]\tBatch Loss: 47.972977\n",
      "| Global Round : 3 | Local Epoch : 0 | [9088/18116 (50%)]\tBatch Loss: 44.011780\n",
      "| Global Round : 3 | Local Epoch : 1 | [0/18116 (0%)]\tBatch Loss: 34.082718\n",
      "| Global Round : 3 | Local Epoch : 1 | [9088/18116 (50%)]\tBatch Loss: 27.875170\n",
      "| Global Round : 3 | Local Epoch : 2 | [0/18116 (0%)]\tBatch Loss: 38.694340\n",
      "| Global Round : 3 | Local Epoch : 2 | [9088/18116 (50%)]\tBatch Loss: 42.421555\n",
      "| Global Round : 3 | Local Epoch : 3 | [0/18116 (0%)]\tBatch Loss: 47.447285\n",
      "| Global Round : 3 | Local Epoch : 3 | [9088/18116 (50%)]\tBatch Loss: 40.560139\n",
      "| Global Round : 3 | Local Epoch : 4 | [0/18116 (0%)]\tBatch Loss: 40.743645\n",
      "| Global Round : 3 | Local Epoch : 4 | [9088/18116 (50%)]\tBatch Loss: 33.115524\n"
     ]
    },
    {
     "name": "stderr",
     "output_type": "stream",
     "text": [
      "\r",
      " 60%|██████    | 3/5 [00:14<00:09,  4.78s/it]"
     ]
    },
    {
     "name": "stdout",
     "output_type": "stream",
     "text": [
      "Client 1: accuracy loss: 73.54 | fairness loss 0.77 | Risk Difference = 0.27\n",
      "Client 2: accuracy loss: 39.54 | fairness loss 0.83 | Risk Difference = 0.26\n",
      " \n",
      "Avg Training Stats after 3 global rounds:\n",
      "Training loss: 46.23 | Validation accuracy: 82.74% | Validation Risk Difference: 0.2682\n",
      "\n",
      " | Global Training Round : 4 |\n",
      "\n",
      "| Global Round : 4 | Local Epoch : 0 | [0/11188 (0%)]\tBatch Loss: 47.080303\n",
      "| Global Round : 4 | Local Epoch : 0 | [5632/11188 (50%)]\tBatch Loss: 54.609688\n",
      "| Global Round : 4 | Local Epoch : 1 | [0/11188 (0%)]\tBatch Loss: 40.674011\n",
      "| Global Round : 4 | Local Epoch : 1 | [5632/11188 (50%)]\tBatch Loss: 41.926373\n",
      "| Global Round : 4 | Local Epoch : 2 | [0/11188 (0%)]\tBatch Loss: 44.670891\n",
      "| Global Round : 4 | Local Epoch : 2 | [5632/11188 (50%)]\tBatch Loss: 43.417019\n",
      "| Global Round : 4 | Local Epoch : 3 | [0/11188 (0%)]\tBatch Loss: 44.711246\n",
      "| Global Round : 4 | Local Epoch : 3 | [5632/11188 (50%)]\tBatch Loss: 42.778320\n",
      "| Global Round : 4 | Local Epoch : 4 | [0/11188 (0%)]\tBatch Loss: 42.313873\n",
      "| Global Round : 4 | Local Epoch : 4 | [5632/11188 (50%)]\tBatch Loss: 55.982632\n",
      "| Global Round : 4 | Local Epoch : 0 | [0/18116 (0%)]\tBatch Loss: 48.207886\n",
      "| Global Round : 4 | Local Epoch : 0 | [9088/18116 (50%)]\tBatch Loss: 43.681747\n",
      "| Global Round : 4 | Local Epoch : 1 | [0/18116 (0%)]\tBatch Loss: 32.859745\n",
      "| Global Round : 4 | Local Epoch : 1 | [9088/18116 (50%)]\tBatch Loss: 27.515926\n",
      "| Global Round : 4 | Local Epoch : 2 | [0/18116 (0%)]\tBatch Loss: 38.272636\n",
      "| Global Round : 4 | Local Epoch : 2 | [9088/18116 (50%)]\tBatch Loss: 42.846779\n",
      "| Global Round : 4 | Local Epoch : 3 | [0/18116 (0%)]\tBatch Loss: 46.526119\n",
      "| Global Round : 4 | Local Epoch : 3 | [9088/18116 (50%)]\tBatch Loss: 39.782524\n",
      "| Global Round : 4 | Local Epoch : 4 | [0/18116 (0%)]\tBatch Loss: 40.255836\n",
      "| Global Round : 4 | Local Epoch : 4 | [9088/18116 (50%)]\tBatch Loss: 32.955357\n"
     ]
    },
    {
     "name": "stderr",
     "output_type": "stream",
     "text": [
      "\r",
      " 80%|████████  | 4/5 [00:18<00:04,  4.69s/it]"
     ]
    },
    {
     "name": "stdout",
     "output_type": "stream",
     "text": [
      "Client 1: accuracy loss: 74.26 | fairness loss 0.80 | Risk Difference = 0.28\n",
      "Client 2: accuracy loss: 39.74 | fairness loss 0.86 | Risk Difference = 0.27\n",
      " \n",
      "Avg Training Stats after 4 global rounds:\n",
      "Training loss: 45.80 | Validation accuracy: 82.54% | Validation Risk Difference: 0.2785\n",
      "\n",
      " | Global Training Round : 5 |\n",
      "\n",
      "| Global Round : 5 | Local Epoch : 0 | [0/11188 (0%)]\tBatch Loss: 47.506542\n",
      "| Global Round : 5 | Local Epoch : 0 | [5632/11188 (50%)]\tBatch Loss: 54.689232\n",
      "| Global Round : 5 | Local Epoch : 1 | [0/11188 (0%)]\tBatch Loss: 40.621513\n",
      "| Global Round : 5 | Local Epoch : 1 | [5632/11188 (50%)]\tBatch Loss: 41.832062\n",
      "| Global Round : 5 | Local Epoch : 2 | [0/11188 (0%)]\tBatch Loss: 44.075031\n",
      "| Global Round : 5 | Local Epoch : 2 | [5632/11188 (50%)]\tBatch Loss: 43.465488\n",
      "| Global Round : 5 | Local Epoch : 3 | [0/11188 (0%)]\tBatch Loss: 44.406147\n",
      "| Global Round : 5 | Local Epoch : 3 | [5632/11188 (50%)]\tBatch Loss: 42.691177\n",
      "| Global Round : 5 | Local Epoch : 4 | [0/11188 (0%)]\tBatch Loss: 42.372341\n",
      "| Global Round : 5 | Local Epoch : 4 | [5632/11188 (50%)]\tBatch Loss: 56.313641\n",
      "| Global Round : 5 | Local Epoch : 0 | [0/18116 (0%)]\tBatch Loss: 48.272972\n",
      "| Global Round : 5 | Local Epoch : 0 | [9088/18116 (50%)]\tBatch Loss: 43.334251\n",
      "| Global Round : 5 | Local Epoch : 1 | [0/18116 (0%)]\tBatch Loss: 32.354572\n",
      "| Global Round : 5 | Local Epoch : 1 | [9088/18116 (50%)]\tBatch Loss: 27.377552\n",
      "| Global Round : 5 | Local Epoch : 2 | [0/18116 (0%)]\tBatch Loss: 38.068100\n",
      "| Global Round : 5 | Local Epoch : 2 | [9088/18116 (50%)]\tBatch Loss: 42.851871\n",
      "| Global Round : 5 | Local Epoch : 3 | [0/18116 (0%)]\tBatch Loss: 46.100384\n",
      "| Global Round : 5 | Local Epoch : 3 | [9088/18116 (50%)]\tBatch Loss: 39.402931\n",
      "| Global Round : 5 | Local Epoch : 4 | [0/18116 (0%)]\tBatch Loss: 39.897785\n",
      "| Global Round : 5 | Local Epoch : 4 | [9088/18116 (50%)]\tBatch Loss: 32.886398\n"
     ]
    },
    {
     "name": "stderr",
     "output_type": "stream",
     "text": [
      "100%|██████████| 5/5 [00:23<00:00,  4.74s/it]"
     ]
    },
    {
     "name": "stdout",
     "output_type": "stream",
     "text": [
      "Client 1: accuracy loss: 74.42 | fairness loss 0.82 | Risk Difference = 0.29\n",
      "Client 2: accuracy loss: 39.73 | fairness loss 0.89 | Risk Difference = 0.28\n",
      " \n",
      "Avg Training Stats after 5 global rounds:\n",
      "Training loss: 45.48 | Validation accuracy: 82.24% | Validation Risk Difference: 0.2850\n"
     ]
    },
    {
     "name": "stderr",
     "output_type": "stream",
     "text": [
      "\n"
     ]
    },
    {
     "name": "stdout",
     "output_type": "stream",
     "text": [
      " \n",
      " Results after 5 global rounds of training:\n",
      "|---- Avg Train Accuracy: 82.24%\n",
      "|---- Test Accuracy: 84.41%\n",
      "|---- Test Risk Difference: 0.2238\n",
      "\n",
      " Total Run Time: 24.1332 sec\n"
     ]
    }
   ],
   "source": [
    "train(logReg(num_features=adult_num_features, num_classes=2), adult_info,\n",
    "      optimizer = 'sgd', learning_rate = 0.01)"
   ]
  },
  {
   "cell_type": "code",
   "execution_count": null,
   "metadata": {},
   "outputs": [],
   "source": []
  }
 ],
 "metadata": {
  "kernelspec": {
   "display_name": "Python 3",
   "language": "python",
   "name": "python3"
  },
  "language_info": {
   "codemirror_mode": {
    "name": "ipython",
    "version": 3
   },
   "file_extension": ".py",
   "mimetype": "text/x-python",
   "name": "python",
   "nbconvert_exporter": "python",
   "pygments_lexer": "ipython3",
   "version": "3.7.4"
  }
 },
 "nbformat": 4,
 "nbformat_minor": 2
}
