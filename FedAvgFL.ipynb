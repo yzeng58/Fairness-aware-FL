{
 "cells": [
  {
   "cell_type": "code",
   "execution_count": 1,
   "metadata": {},
   "outputs": [],
   "source": [
    "# import the training method \n",
    "from FairFedAvg import *\n",
    "\n",
    "# import the adult dataset\n",
    "from load_adult import *\n",
    "\n",
    "# import the synthetic dataset\n",
    "from syntheticDataGenerate import *"
   ]
  },
  {
   "cell_type": "code",
   "execution_count": 5,
   "metadata": {},
   "outputs": [],
   "source": [
    "synthetic_info = dataGenerate(seed = 2)"
   ]
  },
  {
   "cell_type": "code",
   "execution_count": 6,
   "metadata": {},
   "outputs": [
    {
     "name": "stderr",
     "output_type": "stream",
     "text": [
      "\r",
      "  0%|          | 0/5 [00:00<?, ?it/s]"
     ]
    },
    {
     "name": "stdout",
     "output_type": "stream",
     "text": [
      "\n",
      " | Global Training Round : 1 |\n",
      "\n",
      "| Global Round : 1 | Local Epoch : 0 | [0/1081 (0%)]\tBatch Loss: 91.033669\n",
      "| Global Round : 1 | Local Epoch : 1 | [0/1081 (0%)]\tBatch Loss: 36.399277\n",
      "| Global Round : 1 | Local Epoch : 2 | [0/1081 (0%)]\tBatch Loss: 27.851740\n",
      "| Global Round : 1 | Local Epoch : 3 | [0/1081 (0%)]\tBatch Loss: 31.752228\n",
      "| Global Round : 1 | Local Epoch : 4 | [0/1081 (0%)]\tBatch Loss: 30.756041\n",
      "| Global Round : 1 | Local Epoch : 0 | [0/1025 (0%)]\tBatch Loss: 85.273605\n",
      "| Global Round : 1 | Local Epoch : 1 | [0/1025 (0%)]\tBatch Loss: 32.527344\n"
     ]
    },
    {
     "name": "stderr",
     "output_type": "stream",
     "text": [
      "\r",
      " 20%|██        | 1/5 [00:00<00:01,  2.57it/s]"
     ]
    },
    {
     "name": "stdout",
     "output_type": "stream",
     "text": [
      "| Global Round : 1 | Local Epoch : 2 | [0/1025 (0%)]\tBatch Loss: 28.962797\n",
      "| Global Round : 1 | Local Epoch : 3 | [0/1025 (0%)]\tBatch Loss: 33.481750\n",
      "| Global Round : 1 | Local Epoch : 4 | [0/1025 (0%)]\tBatch Loss: 31.753633\n",
      "| Global Round : 1 | Local Epoch : 0 | [0/593 (0%)]\tBatch Loss: 87.315994\n",
      "| Global Round : 1 | Local Epoch : 1 | [0/593 (0%)]\tBatch Loss: 32.757900\n",
      "| Global Round : 1 | Local Epoch : 2 | [0/593 (0%)]\tBatch Loss: 35.415997\n",
      "| Global Round : 1 | Local Epoch : 3 | [0/593 (0%)]\tBatch Loss: 42.651703\n",
      "| Global Round : 1 | Local Epoch : 4 | [0/593 (0%)]\tBatch Loss: 31.020945\n",
      "Client 0: accuracy loss: 3.92 | fairness loss 0.01 | Risk Difference = 0.78\n",
      "Client 1: accuracy loss: 3.47 | fairness loss 0.00 | Risk Difference = nan\n",
      "Client 2: accuracy loss: 1.81 | fairness loss 0.00 | Risk Difference = nan\n",
      " \n",
      "Avg Training Stats after 1 global rounds:\n",
      "Training loss: 35.35 | Validation accuracy: 88.11% | Validation Risk Difference: 0.7793\n",
      "\n",
      " | Global Training Round : 2 |\n",
      "\n",
      "| Global Round : 2 | Local Epoch : 0 | [0/1025 (0%)]\tBatch Loss: 32.707508\n",
      "| Global Round : 2 | Local Epoch : 1 | [0/1025 (0%)]\tBatch Loss: 33.258881\n",
      "| Global Round : 2 | Local Epoch : 2 | [0/1025 (0%)]\tBatch Loss: 46.801640\n",
      "| Global Round : 2 | Local Epoch : 3 | [0/1025 (0%)]\tBatch Loss: 52.018574\n",
      "| Global Round : 2 | Local Epoch : 4 | [0/1025 (0%)]\tBatch Loss: 45.271610\n",
      "| Global Round : 2 | Local Epoch : 0 | [0/1081 (0%)]\tBatch Loss: 25.294121\n",
      "| Global Round : 2 | Local Epoch : 1 | [0/1081 (0%)]\tBatch Loss: 35.760532\n",
      "| Global Round : 2 | Local Epoch : 2 | [0/1081 (0%)]\tBatch Loss: 22.238646\n",
      "| Global Round : 2 | Local Epoch : 3 | [0/1081 (0%)]\tBatch Loss: 36.787277\n",
      "| Global Round : 2 | Local Epoch : 4 | [0/1081 (0%)]\tBatch Loss: 25.123020\n",
      "| Global Round : 2 | Local Epoch : 0 | [0/593 (0%)]\tBatch Loss: 41.688499\n",
      "| Global Round : 2 | Local Epoch : 1 | [0/593 (0%)]\tBatch Loss: 41.674843\n",
      "| Global Round : 2 | Local Epoch : 2 | [0/593 (0%)]\tBatch Loss: 36.013031\n",
      "| Global Round : 2 | Local Epoch : 3 | [0/593 (0%)]\tBatch Loss: 37.063469\n",
      "| Global Round : 2 | Local Epoch : 4 | [0/593 (0%)]\tBatch Loss: 44.584934\n",
      "Client 0: accuracy loss: 3.93 | fairness loss 0.01 | Risk Difference = 0.76\n"
     ]
    },
    {
     "name": "stderr",
     "output_type": "stream",
     "text": [
      "\r",
      " 40%|████      | 2/5 [00:00<00:01,  2.42it/s]"
     ]
    },
    {
     "name": "stdout",
     "output_type": "stream",
     "text": [
      "Client 1: accuracy loss: 3.40 | fairness loss 0.00 | Risk Difference = nan\n",
      "Client 2: accuracy loss: 1.78 | fairness loss 0.00 | Risk Difference = nan\n",
      " \n",
      "Avg Training Stats after 2 global rounds:\n",
      "Training loss: 33.95 | Validation accuracy: 86.76% | Validation Risk Difference: 0.7659\n",
      "\n",
      " | Global Training Round : 3 |\n",
      "\n",
      "| Global Round : 3 | Local Epoch : 0 | [0/1025 (0%)]\tBatch Loss: 33.476276\n",
      "| Global Round : 3 | Local Epoch : 1 | [0/1025 (0%)]\tBatch Loss: 43.656311\n",
      "| Global Round : 3 | Local Epoch : 2 | [0/1025 (0%)]\tBatch Loss: 42.564041\n",
      "| Global Round : 3 | Local Epoch : 3 | [0/1025 (0%)]\tBatch Loss: 37.423088\n",
      "| Global Round : 3 | Local Epoch : 4 | [0/1025 (0%)]\tBatch Loss: 38.258358\n",
      "| Global Round : 3 | Local Epoch : 0 | [0/593 (0%)]\tBatch Loss: 29.316011\n",
      "| Global Round : 3 | Local Epoch : 1 | [0/593 (0%)]\tBatch Loss: 35.667858\n",
      "| Global Round : 3 | Local Epoch : 2 | [0/593 (0%)]\tBatch Loss: 39.843739\n",
      "| Global Round : 3 | Local Epoch : 3 | [0/593 (0%)]\tBatch Loss: 41.170860\n",
      "| Global Round : 3 | Local Epoch : 4 | [0/593 (0%)]\tBatch Loss: 38.240265\n",
      "| Global Round : 3 | Local Epoch : 0 | [0/1081 (0%)]\tBatch Loss: 37.245514\n",
      "| Global Round : 3 | Local Epoch : 1 | [0/1081 (0%)]\tBatch Loss: 29.122015\n",
      "| Global Round : 3 | Local Epoch : 2 | [0/1081 (0%)]\tBatch Loss: 28.956289\n",
      "| Global Round : 3 | Local Epoch : 3 | [0/1081 (0%)]\tBatch Loss: 38.353127\n",
      "| Global Round : 3 | Local Epoch : 4 | [0/1081 (0%)]\tBatch Loss: 28.627556\n"
     ]
    },
    {
     "name": "stderr",
     "output_type": "stream",
     "text": [
      "\r",
      " 60%|██████    | 3/5 [00:01<00:00,  2.37it/s]"
     ]
    },
    {
     "name": "stdout",
     "output_type": "stream",
     "text": [
      "Client 0: accuracy loss: 3.97 | fairness loss 0.02 | Risk Difference = 0.76\n",
      "Client 1: accuracy loss: 3.41 | fairness loss 0.00 | Risk Difference = nan\n",
      "Client 2: accuracy loss: 1.81 | fairness loss 0.00 | Risk Difference = nan\n",
      " \n",
      "Avg Training Stats after 3 global rounds:\n",
      "Training loss: 33.46 | Validation accuracy: 87.63% | Validation Risk Difference: 0.7625\n",
      "\n",
      " | Global Training Round : 4 |\n",
      "\n",
      "| Global Round : 4 | Local Epoch : 0 | [0/1081 (0%)]\tBatch Loss: 35.776028\n",
      "| Global Round : 4 | Local Epoch : 1 | [0/1081 (0%)]\tBatch Loss: 27.709846\n",
      "| Global Round : 4 | Local Epoch : 2 | [0/1081 (0%)]\tBatch Loss: 27.346172\n",
      "| Global Round : 4 | Local Epoch : 3 | [0/1081 (0%)]\tBatch Loss: 25.625753\n",
      "| Global Round : 4 | Local Epoch : 4 | [0/1081 (0%)]\tBatch Loss: 27.978575\n",
      "| Global Round : 4 | Local Epoch : 0 | [0/1025 (0%)]\tBatch Loss: 40.740795\n",
      "| Global Round : 4 | Local Epoch : 1 | [0/1025 (0%)]\tBatch Loss: 42.940983\n"
     ]
    },
    {
     "name": "stderr",
     "output_type": "stream",
     "text": [
      "\r",
      " 80%|████████  | 4/5 [00:01<00:00,  2.45it/s]"
     ]
    },
    {
     "name": "stdout",
     "output_type": "stream",
     "text": [
      "| Global Round : 4 | Local Epoch : 2 | [0/1025 (0%)]\tBatch Loss: 30.958853\n",
      "| Global Round : 4 | Local Epoch : 3 | [0/1025 (0%)]\tBatch Loss: 35.040298\n",
      "| Global Round : 4 | Local Epoch : 4 | [0/1025 (0%)]\tBatch Loss: 28.574234\n",
      "| Global Round : 4 | Local Epoch : 0 | [0/593 (0%)]\tBatch Loss: 24.816540\n",
      "| Global Round : 4 | Local Epoch : 1 | [0/593 (0%)]\tBatch Loss: 35.878788\n",
      "| Global Round : 4 | Local Epoch : 2 | [0/593 (0%)]\tBatch Loss: 38.980694\n",
      "| Global Round : 4 | Local Epoch : 3 | [0/593 (0%)]\tBatch Loss: 40.720699\n",
      "| Global Round : 4 | Local Epoch : 4 | [0/593 (0%)]\tBatch Loss: 20.286171\n",
      "Client 0: accuracy loss: 3.92 | fairness loss 0.01 | Risk Difference = 0.75\n",
      "Client 1: accuracy loss: 3.46 | fairness loss 0.00 | Risk Difference = nan\n",
      "Client 2: accuracy loss: 1.77 | fairness loss 0.00 | Risk Difference = nan\n",
      " \n",
      "Avg Training Stats after 4 global rounds:\n",
      "Training loss: 33.22 | Validation accuracy: 87.02% | Validation Risk Difference: 0.7358\n",
      "\n",
      " | Global Training Round : 5 |\n",
      "\n",
      "| Global Round : 5 | Local Epoch : 0 | [0/1081 (0%)]\tBatch Loss: 30.189716\n",
      "| Global Round : 5 | Local Epoch : 1 | [0/1081 (0%)]\tBatch Loss: 38.012695\n",
      "| Global Round : 5 | Local Epoch : 2 | [0/1081 (0%)]\tBatch Loss: 30.303225\n",
      "| Global Round : 5 | Local Epoch : 3 | [0/1081 (0%)]\tBatch Loss: 26.705591\n",
      "| Global Round : 5 | Local Epoch : 4 | [0/1081 (0%)]\tBatch Loss: 24.449886\n",
      "| Global Round : 5 | Local Epoch : 0 | [0/1025 (0%)]\tBatch Loss: 34.144062\n",
      "| Global Round : 5 | Local Epoch : 1 | [0/1025 (0%)]\tBatch Loss: 37.478771\n",
      "| Global Round : 5 | Local Epoch : 2 | [0/1025 (0%)]\tBatch Loss: 43.245583\n"
     ]
    },
    {
     "name": "stderr",
     "output_type": "stream",
     "text": [
      "100%|██████████| 5/5 [00:02<00:00,  2.39it/s]"
     ]
    },
    {
     "name": "stdout",
     "output_type": "stream",
     "text": [
      "| Global Round : 5 | Local Epoch : 3 | [0/1025 (0%)]\tBatch Loss: 51.679802\n",
      "| Global Round : 5 | Local Epoch : 4 | [0/1025 (0%)]\tBatch Loss: 35.497490\n",
      "| Global Round : 5 | Local Epoch : 0 | [0/593 (0%)]\tBatch Loss: 33.010162\n",
      "| Global Round : 5 | Local Epoch : 1 | [0/593 (0%)]\tBatch Loss: 36.978233\n",
      "| Global Round : 5 | Local Epoch : 2 | [0/593 (0%)]\tBatch Loss: 39.193005\n",
      "| Global Round : 5 | Local Epoch : 3 | [0/593 (0%)]\tBatch Loss: 41.408379\n",
      "| Global Round : 5 | Local Epoch : 4 | [0/593 (0%)]\tBatch Loss: 25.153549\n",
      "Client 0: accuracy loss: 3.81 | fairness loss 0.01 | Risk Difference = 0.76\n",
      "Client 1: accuracy loss: 3.45 | fairness loss 0.00 | Risk Difference = nan\n",
      "Client 2: accuracy loss: 1.78 | fairness loss 0.00 | Risk Difference = nan\n",
      " \n",
      "Avg Training Stats after 5 global rounds:\n",
      "Training loss: 33.09 | Validation accuracy: 87.33% | Validation Risk Difference: 0.7592\n",
      " \n",
      " Results after 6 global rounds of training:\n",
      "|---- Avg Train Accuracy: 87.33%\n",
      "|---- Test Accuracy: 86.40%\n",
      "|---- Test Risk Difference: 0.6237\n",
      "\n",
      " Total Run Time: 2.1175 sec\n"
     ]
    },
    {
     "name": "stderr",
     "output_type": "stream",
     "text": [
      "\n"
     ]
    }
   ],
   "source": [
    "train(logReg(num_features=3, num_classes=2), synthetic_info,\n",
    "      optimizer = 'sgd', learning_rate = 0.01)"
   ]
  },
  {
   "cell_type": "code",
   "execution_count": 3,
   "metadata": {},
   "outputs": [
    {
     "name": "stderr",
     "output_type": "stream",
     "text": [
      "\r",
      "  0%|          | 0/5 [00:00<?, ?it/s]"
     ]
    },
    {
     "name": "stdout",
     "output_type": "stream",
     "text": [
      "\n",
      " | Global Training Round : 1 |\n",
      "\n",
      "| Global Round : 1 | Local Epoch : 0 | [0/11188 (0%)]\tBatch Loss: 90.878746\n",
      "| Global Round : 1 | Local Epoch : 0 | [5632/11188 (50%)]\tBatch Loss: 46.387531\n",
      "| Global Round : 1 | Local Epoch : 1 | [0/11188 (0%)]\tBatch Loss: 40.159161\n",
      "| Global Round : 1 | Local Epoch : 1 | [5632/11188 (50%)]\tBatch Loss: 47.531467\n",
      "| Global Round : 1 | Local Epoch : 2 | [0/11188 (0%)]\tBatch Loss: 49.567120\n",
      "| Global Round : 1 | Local Epoch : 2 | [5632/11188 (50%)]\tBatch Loss: 58.875660\n",
      "| Global Round : 1 | Local Epoch : 3 | [0/11188 (0%)]\tBatch Loss: 50.780552\n",
      "| Global Round : 1 | Local Epoch : 3 | [5632/11188 (50%)]\tBatch Loss: 52.861435\n",
      "| Global Round : 1 | Local Epoch : 4 | [0/11188 (0%)]\tBatch Loss: 51.044689\n",
      "| Global Round : 1 | Local Epoch : 4 | [5632/11188 (50%)]\tBatch Loss: 52.368099\n",
      "| Global Round : 1 | Local Epoch : 0 | [0/18116 (0%)]\tBatch Loss: 93.284721\n",
      "| Global Round : 1 | Local Epoch : 0 | [9088/18116 (50%)]\tBatch Loss: 45.287022\n",
      "| Global Round : 1 | Local Epoch : 1 | [0/18116 (0%)]\tBatch Loss: 35.475594\n",
      "| Global Round : 1 | Local Epoch : 1 | [9088/18116 (50%)]\tBatch Loss: 44.435799\n",
      "| Global Round : 1 | Local Epoch : 2 | [0/18116 (0%)]\tBatch Loss: 47.523823\n",
      "| Global Round : 1 | Local Epoch : 2 | [9088/18116 (50%)]\tBatch Loss: 43.617367\n",
      "| Global Round : 1 | Local Epoch : 3 | [0/18116 (0%)]\tBatch Loss: 37.159367\n",
      "| Global Round : 1 | Local Epoch : 3 | [9088/18116 (50%)]\tBatch Loss: 44.208282\n",
      "| Global Round : 1 | Local Epoch : 4 | [0/18116 (0%)]\tBatch Loss: 37.855591\n",
      "| Global Round : 1 | Local Epoch : 4 | [9088/18116 (50%)]\tBatch Loss: 39.212612\n"
     ]
    },
    {
     "name": "stderr",
     "output_type": "stream",
     "text": [
      "\r",
      " 20%|██        | 1/5 [00:05<00:23,  5.87s/it]"
     ]
    },
    {
     "name": "stdout",
     "output_type": "stream",
     "text": [
      "Client 0: accuracy loss: 80.69 | fairness loss 0.43 | Risk Difference = 0.30\n",
      "Client 1: accuracy loss: 42.37 | fairness loss 0.61 | Risk Difference = 0.25\n",
      " \n",
      "Avg Training Stats after 1 global rounds:\n",
      "Training loss: 48.40 | Validation accuracy: 80.87% | Validation Risk Difference: 0.2826\n",
      "\n",
      " | Global Training Round : 2 |\n",
      "\n",
      "| Global Round : 2 | Local Epoch : 0 | [0/18116 (0%)]\tBatch Loss: 30.665058\n",
      "| Global Round : 2 | Local Epoch : 0 | [9088/18116 (50%)]\tBatch Loss: 26.261848\n",
      "| Global Round : 2 | Local Epoch : 1 | [0/18116 (0%)]\tBatch Loss: 34.759308\n",
      "| Global Round : 2 | Local Epoch : 1 | [9088/18116 (50%)]\tBatch Loss: 33.978031\n",
      "| Global Round : 2 | Local Epoch : 2 | [0/18116 (0%)]\tBatch Loss: 31.810749\n",
      "| Global Round : 2 | Local Epoch : 2 | [9088/18116 (50%)]\tBatch Loss: 37.339088\n",
      "| Global Round : 2 | Local Epoch : 3 | [0/18116 (0%)]\tBatch Loss: 27.173178\n",
      "| Global Round : 2 | Local Epoch : 3 | [9088/18116 (50%)]\tBatch Loss: 50.026299\n",
      "| Global Round : 2 | Local Epoch : 4 | [0/18116 (0%)]\tBatch Loss: 50.139790\n",
      "| Global Round : 2 | Local Epoch : 4 | [9088/18116 (50%)]\tBatch Loss: 34.927334\n",
      "| Global Round : 2 | Local Epoch : 0 | [0/11188 (0%)]\tBatch Loss: 61.348389\n",
      "| Global Round : 2 | Local Epoch : 0 | [5632/11188 (50%)]\tBatch Loss: 56.281158\n",
      "| Global Round : 2 | Local Epoch : 1 | [0/11188 (0%)]\tBatch Loss: 43.069481\n",
      "| Global Round : 2 | Local Epoch : 1 | [5632/11188 (50%)]\tBatch Loss: 57.736008\n",
      "| Global Round : 2 | Local Epoch : 2 | [0/11188 (0%)]\tBatch Loss: 39.710533\n",
      "| Global Round : 2 | Local Epoch : 2 | [5632/11188 (50%)]\tBatch Loss: 52.175327\n",
      "| Global Round : 2 | Local Epoch : 3 | [0/11188 (0%)]\tBatch Loss: 46.539944\n",
      "| Global Round : 2 | Local Epoch : 3 | [5632/11188 (50%)]\tBatch Loss: 41.249878\n",
      "| Global Round : 2 | Local Epoch : 4 | [0/11188 (0%)]\tBatch Loss: 41.149403\n",
      "| Global Round : 2 | Local Epoch : 4 | [5632/11188 (50%)]\tBatch Loss: 49.248199\n"
     ]
    },
    {
     "name": "stderr",
     "output_type": "stream",
     "text": [
      "\r",
      " 40%|████      | 2/5 [00:10<00:16,  5.42s/it]"
     ]
    },
    {
     "name": "stdout",
     "output_type": "stream",
     "text": [
      "Client 0: accuracy loss: 85.90 | fairness loss 0.46 | Risk Difference = 0.38\n",
      "Client 1: accuracy loss: 44.58 | fairness loss 0.57 | Risk Difference = 0.33\n",
      " \n",
      "Avg Training Stats after 2 global rounds:\n",
      "Training loss: 47.04 | Validation accuracy: 79.31% | Validation Risk Difference: 0.3615\n",
      "\n",
      " | Global Training Round : 3 |\n",
      "\n",
      "| Global Round : 3 | Local Epoch : 0 | [0/11188 (0%)]\tBatch Loss: 57.099686\n",
      "| Global Round : 3 | Local Epoch : 0 | [5632/11188 (50%)]\tBatch Loss: 44.662716\n",
      "| Global Round : 3 | Local Epoch : 1 | [0/11188 (0%)]\tBatch Loss: 43.518169\n",
      "| Global Round : 3 | Local Epoch : 1 | [5632/11188 (50%)]\tBatch Loss: 48.857349\n",
      "| Global Round : 3 | Local Epoch : 2 | [0/11188 (0%)]\tBatch Loss: 44.330078\n",
      "| Global Round : 3 | Local Epoch : 2 | [5632/11188 (50%)]\tBatch Loss: 49.202946\n",
      "| Global Round : 3 | Local Epoch : 3 | [0/11188 (0%)]\tBatch Loss: 56.129921\n",
      "| Global Round : 3 | Local Epoch : 3 | [5632/11188 (50%)]\tBatch Loss: 40.619923\n",
      "| Global Round : 3 | Local Epoch : 4 | [0/11188 (0%)]\tBatch Loss: 53.599342\n",
      "| Global Round : 3 | Local Epoch : 4 | [5632/11188 (50%)]\tBatch Loss: 47.533566\n",
      "| Global Round : 3 | Local Epoch : 0 | [0/18116 (0%)]\tBatch Loss: 41.198532\n",
      "| Global Round : 3 | Local Epoch : 0 | [9088/18116 (50%)]\tBatch Loss: 40.196072\n",
      "| Global Round : 3 | Local Epoch : 1 | [0/18116 (0%)]\tBatch Loss: 55.931156\n",
      "| Global Round : 3 | Local Epoch : 1 | [9088/18116 (50%)]\tBatch Loss: 34.619244\n",
      "| Global Round : 3 | Local Epoch : 2 | [0/18116 (0%)]\tBatch Loss: 36.012676\n",
      "| Global Round : 3 | Local Epoch : 2 | [9088/18116 (50%)]\tBatch Loss: 44.148216\n",
      "| Global Round : 3 | Local Epoch : 3 | [0/18116 (0%)]\tBatch Loss: 32.265293\n",
      "| Global Round : 3 | Local Epoch : 3 | [9088/18116 (50%)]\tBatch Loss: 28.204506\n",
      "| Global Round : 3 | Local Epoch : 4 | [0/18116 (0%)]\tBatch Loss: 42.067276\n",
      "| Global Round : 3 | Local Epoch : 4 | [9088/18116 (50%)]\tBatch Loss: 44.223366\n"
     ]
    },
    {
     "name": "stderr",
     "output_type": "stream",
     "text": [
      "\r",
      " 60%|██████    | 3/5 [00:14<00:10,  5.08s/it]"
     ]
    },
    {
     "name": "stdout",
     "output_type": "stream",
     "text": [
      "Client 0: accuracy loss: 72.30 | fairness loss 0.59 | Risk Difference = 0.27\n",
      "Client 1: accuracy loss: 39.29 | fairness loss 0.72 | Risk Difference = 0.26\n",
      " \n",
      "Avg Training Stats after 3 global rounds:\n",
      "Training loss: 46.31 | Validation accuracy: 82.83% | Validation Risk Difference: 0.2684\n",
      "\n",
      " | Global Training Round : 4 |\n",
      "\n",
      "| Global Round : 4 | Local Epoch : 0 | [0/11188 (0%)]\tBatch Loss: 46.188766\n",
      "| Global Round : 4 | Local Epoch : 0 | [5632/11188 (50%)]\tBatch Loss: 48.308304\n",
      "| Global Round : 4 | Local Epoch : 1 | [0/11188 (0%)]\tBatch Loss: 40.829140\n",
      "| Global Round : 4 | Local Epoch : 1 | [5632/11188 (50%)]\tBatch Loss: 57.226719\n",
      "| Global Round : 4 | Local Epoch : 2 | [0/11188 (0%)]\tBatch Loss: 39.828655\n",
      "| Global Round : 4 | Local Epoch : 2 | [5632/11188 (50%)]\tBatch Loss: 47.903210\n",
      "| Global Round : 4 | Local Epoch : 3 | [0/11188 (0%)]\tBatch Loss: 37.704254\n",
      "| Global Round : 4 | Local Epoch : 3 | [5632/11188 (50%)]\tBatch Loss: 57.139442\n",
      "| Global Round : 4 | Local Epoch : 4 | [0/11188 (0%)]\tBatch Loss: 56.700706\n",
      "| Global Round : 4 | Local Epoch : 4 | [5632/11188 (50%)]\tBatch Loss: 40.300571\n",
      "| Global Round : 4 | Local Epoch : 0 | [0/18116 (0%)]\tBatch Loss: 32.805012\n",
      "| Global Round : 4 | Local Epoch : 0 | [9088/18116 (50%)]\tBatch Loss: 43.439190\n",
      "| Global Round : 4 | Local Epoch : 1 | [0/18116 (0%)]\tBatch Loss: 35.142529\n",
      "| Global Round : 4 | Local Epoch : 1 | [9088/18116 (50%)]\tBatch Loss: 39.737160\n",
      "| Global Round : 4 | Local Epoch : 2 | [0/18116 (0%)]\tBatch Loss: 43.939434\n",
      "| Global Round : 4 | Local Epoch : 2 | [9088/18116 (50%)]\tBatch Loss: 48.262035\n",
      "| Global Round : 4 | Local Epoch : 3 | [0/18116 (0%)]\tBatch Loss: 28.521687\n",
      "| Global Round : 4 | Local Epoch : 3 | [9088/18116 (50%)]\tBatch Loss: 39.592514\n",
      "| Global Round : 4 | Local Epoch : 4 | [0/18116 (0%)]\tBatch Loss: 41.328667\n",
      "| Global Round : 4 | Local Epoch : 4 | [9088/18116 (50%)]\tBatch Loss: 37.355202\n"
     ]
    },
    {
     "name": "stderr",
     "output_type": "stream",
     "text": [
      "\r",
      " 80%|████████  | 4/5 [00:18<00:04,  4.85s/it]"
     ]
    },
    {
     "name": "stdout",
     "output_type": "stream",
     "text": [
      "Client 0: accuracy loss: 73.79 | fairness loss 0.59 | Risk Difference = 0.28\n",
      "Client 1: accuracy loss: 39.46 | fairness loss 0.70 | Risk Difference = 0.27\n",
      " \n",
      "Avg Training Stats after 4 global rounds:\n",
      "Training loss: 45.82 | Validation accuracy: 82.61% | Validation Risk Difference: 0.2767\n",
      "\n",
      " | Global Training Round : 5 |\n",
      "\n",
      "| Global Round : 5 | Local Epoch : 0 | [0/11188 (0%)]\tBatch Loss: 49.766724\n",
      "| Global Round : 5 | Local Epoch : 0 | [5632/11188 (50%)]\tBatch Loss: 40.755550\n",
      "| Global Round : 5 | Local Epoch : 1 | [0/11188 (0%)]\tBatch Loss: 47.119442\n",
      "| Global Round : 5 | Local Epoch : 1 | [5632/11188 (50%)]\tBatch Loss: 33.915291\n",
      "| Global Round : 5 | Local Epoch : 2 | [0/11188 (0%)]\tBatch Loss: 58.509113\n",
      "| Global Round : 5 | Local Epoch : 2 | [5632/11188 (50%)]\tBatch Loss: 37.903683\n",
      "| Global Round : 5 | Local Epoch : 3 | [0/11188 (0%)]\tBatch Loss: 53.478104\n",
      "| Global Round : 5 | Local Epoch : 3 | [5632/11188 (50%)]\tBatch Loss: 56.476795\n",
      "| Global Round : 5 | Local Epoch : 4 | [0/11188 (0%)]\tBatch Loss: 54.533440\n",
      "| Global Round : 5 | Local Epoch : 4 | [5632/11188 (50%)]\tBatch Loss: 40.991035\n",
      "| Global Round : 5 | Local Epoch : 0 | [0/18116 (0%)]\tBatch Loss: 36.210026\n",
      "| Global Round : 5 | Local Epoch : 0 | [9088/18116 (50%)]\tBatch Loss: 33.813465\n",
      "| Global Round : 5 | Local Epoch : 1 | [0/18116 (0%)]\tBatch Loss: 32.242607\n",
      "| Global Round : 5 | Local Epoch : 1 | [9088/18116 (50%)]\tBatch Loss: 36.235065\n",
      "| Global Round : 5 | Local Epoch : 2 | [0/18116 (0%)]\tBatch Loss: 36.612244\n",
      "| Global Round : 5 | Local Epoch : 2 | [9088/18116 (50%)]\tBatch Loss: 51.844887\n",
      "| Global Round : 5 | Local Epoch : 3 | [0/18116 (0%)]\tBatch Loss: 31.053272\n",
      "| Global Round : 5 | Local Epoch : 3 | [9088/18116 (50%)]\tBatch Loss: 44.439911\n",
      "| Global Round : 5 | Local Epoch : 4 | [0/18116 (0%)]\tBatch Loss: 40.488514\n",
      "| Global Round : 5 | Local Epoch : 4 | [9088/18116 (50%)]\tBatch Loss: 53.541111\n"
     ]
    },
    {
     "name": "stderr",
     "output_type": "stream",
     "text": [
      "100%|██████████| 5/5 [00:23<00:00,  4.68s/it]"
     ]
    },
    {
     "name": "stdout",
     "output_type": "stream",
     "text": [
      "Client 0: accuracy loss: 69.33 | fairness loss 0.65 | Risk Difference = 0.19\n",
      "Client 1: accuracy loss: 38.21 | fairness loss 0.76 | Risk Difference = 0.19\n",
      " \n",
      "Avg Training Stats after 5 global rounds:\n",
      "Training loss: 45.48 | Validation accuracy: 83.66% | Validation Risk Difference: 0.1922\n"
     ]
    },
    {
     "name": "stderr",
     "output_type": "stream",
     "text": [
      "\n"
     ]
    },
    {
     "name": "stdout",
     "output_type": "stream",
     "text": [
      " \n",
      " Results after 6 global rounds of training:\n",
      "|---- Avg Train Accuracy: 83.66%\n",
      "|---- Test Accuracy: 84.58%\n",
      "|---- Test Risk Difference: 0.1577\n",
      "\n",
      " Total Run Time: 23.8545 sec\n"
     ]
    }
   ],
   "source": [
    "train(logReg(num_features=adult_num_features, num_classes=2), adult_info,\n",
    "      optimizer = 'sgd', learning_rate = 0.01)"
   ]
  },
  {
   "cell_type": "code",
   "execution_count": 2,
   "metadata": {},
   "outputs": [
    {
     "name": "stderr",
     "output_type": "stream",
     "text": [
      "\r",
      "  0%|          | 0/5 [00:00<?, ?it/s]"
     ]
    },
    {
     "name": "stdout",
     "output_type": "stream",
     "text": [
      "\n",
      " | Global Training Round : 1 |\n",
      "\n",
      "| Global Round : 1 | Local Epoch : 0 | [0/11188 (0%)]\tBatch Loss: 91.439888\n",
      "| Global Round : 1 | Local Epoch : 0 | [5632/11188 (50%)]\tBatch Loss: 225.157593\n",
      "| Global Round : 1 | Local Epoch : 1 | [0/11188 (0%)]\tBatch Loss: 87.252090\n",
      "| Global Round : 1 | Local Epoch : 1 | [5632/11188 (50%)]\tBatch Loss: 190.411026\n",
      "| Global Round : 1 | Local Epoch : 2 | [0/11188 (0%)]\tBatch Loss: 276.710114\n",
      "| Global Round : 1 | Local Epoch : 2 | [5632/11188 (50%)]\tBatch Loss: 198.351715\n",
      "| Global Round : 1 | Local Epoch : 3 | [0/11188 (0%)]\tBatch Loss: 150.414352\n",
      "| Global Round : 1 | Local Epoch : 3 | [5632/11188 (50%)]\tBatch Loss: 144.661682\n",
      "| Global Round : 1 | Local Epoch : 4 | [0/11188 (0%)]\tBatch Loss: 128.140045\n",
      "| Global Round : 1 | Local Epoch : 4 | [5632/11188 (50%)]\tBatch Loss: 325.525208\n",
      "| Global Round : 1 | Local Epoch : 5 | [0/11188 (0%)]\tBatch Loss: 129.673523\n",
      "| Global Round : 1 | Local Epoch : 5 | [5632/11188 (50%)]\tBatch Loss: 253.023102\n",
      "| Global Round : 1 | Local Epoch : 6 | [0/11188 (0%)]\tBatch Loss: 204.476349\n",
      "| Global Round : 1 | Local Epoch : 6 | [5632/11188 (50%)]\tBatch Loss: 132.019318\n",
      "| Global Round : 1 | Local Epoch : 7 | [0/11188 (0%)]\tBatch Loss: 68.026344\n",
      "| Global Round : 1 | Local Epoch : 7 | [5632/11188 (50%)]\tBatch Loss: 203.138718\n",
      "| Global Round : 1 | Local Epoch : 8 | [0/11188 (0%)]\tBatch Loss: 111.346863\n",
      "| Global Round : 1 | Local Epoch : 8 | [5632/11188 (50%)]\tBatch Loss: 152.030914\n",
      "| Global Round : 1 | Local Epoch : 9 | [0/11188 (0%)]\tBatch Loss: 89.687790\n",
      "| Global Round : 1 | Local Epoch : 9 | [5632/11188 (50%)]\tBatch Loss: 187.110474\n",
      "| Global Round : 1 | Local Epoch : 0 | [0/18116 (0%)]\tBatch Loss: 95.789078\n",
      "| Global Round : 1 | Local Epoch : 0 | [9088/18116 (50%)]\tBatch Loss: 2917.261230\n",
      "| Global Round : 1 | Local Epoch : 1 | [0/18116 (0%)]\tBatch Loss: 746.233093\n",
      "| Global Round : 1 | Local Epoch : 1 | [9088/18116 (50%)]\tBatch Loss: 2459.124512\n",
      "| Global Round : 1 | Local Epoch : 2 | [0/18116 (0%)]\tBatch Loss: 1330.660767\n",
      "| Global Round : 1 | Local Epoch : 2 | [9088/18116 (50%)]\tBatch Loss: 1034.469604\n",
      "| Global Round : 1 | Local Epoch : 3 | [0/18116 (0%)]\tBatch Loss: 620.494751\n",
      "| Global Round : 1 | Local Epoch : 3 | [9088/18116 (50%)]\tBatch Loss: 885.974731\n",
      "| Global Round : 1 | Local Epoch : 4 | [0/18116 (0%)]\tBatch Loss: 1976.582642\n",
      "| Global Round : 1 | Local Epoch : 4 | [9088/18116 (50%)]\tBatch Loss: 852.004272\n",
      "| Global Round : 1 | Local Epoch : 5 | [0/18116 (0%)]\tBatch Loss: 1202.465088\n",
      "| Global Round : 1 | Local Epoch : 5 | [9088/18116 (50%)]\tBatch Loss: 56.880241\n",
      "| Global Round : 1 | Local Epoch : 6 | [0/18116 (0%)]\tBatch Loss: 796.737488\n",
      "| Global Round : 1 | Local Epoch : 6 | [9088/18116 (50%)]\tBatch Loss: 905.843201\n",
      "| Global Round : 1 | Local Epoch : 7 | [0/18116 (0%)]\tBatch Loss: 652.259155\n",
      "| Global Round : 1 | Local Epoch : 7 | [9088/18116 (50%)]\tBatch Loss: 193.048767\n",
      "| Global Round : 1 | Local Epoch : 8 | [0/18116 (0%)]\tBatch Loss: 2885.149902\n",
      "| Global Round : 1 | Local Epoch : 8 | [9088/18116 (50%)]\tBatch Loss: 930.709961\n",
      "| Global Round : 1 | Local Epoch : 9 | [0/18116 (0%)]\tBatch Loss: 1273.965210\n",
      "| Global Round : 1 | Local Epoch : 9 | [9088/18116 (50%)]\tBatch Loss: 383.501587\n"
     ]
    },
    {
     "name": "stderr",
     "output_type": "stream",
     "text": [
      "\r",
      " 20%|██        | 1/5 [00:09<00:38,  9.57s/it]"
     ]
    },
    {
     "name": "stdout",
     "output_type": "stream",
     "text": [
      "Client 0: accuracy loss: 253.64 | fairness loss 469.86 | Demographic disparity = 0.22\n",
      "Client 1: accuracy loss: 114.81 | fairness loss 605.97 | Demographic disparity = 0.17\n",
      " \n",
      "Avg Training Stats after 1 global rounds:\n",
      "Training loss: 912.19 | Validation accuracy: 70.35% | Validation Demographic disparity: 0.2042\n",
      "\n",
      " | Global Training Round : 2 |\n",
      "\n",
      "| Global Round : 2 | Local Epoch : 0 | [0/18116 (0%)]\tBatch Loss: 916.084900\n",
      "| Global Round : 2 | Local Epoch : 0 | [9088/18116 (50%)]\tBatch Loss: 1273.538330\n",
      "| Global Round : 2 | Local Epoch : 1 | [0/18116 (0%)]\tBatch Loss: 571.233643\n",
      "| Global Round : 2 | Local Epoch : 1 | [9088/18116 (50%)]\tBatch Loss: 4832.435547\n",
      "| Global Round : 2 | Local Epoch : 2 | [0/18116 (0%)]\tBatch Loss: 641.126831\n",
      "| Global Round : 2 | Local Epoch : 2 | [9088/18116 (50%)]\tBatch Loss: 1643.249756\n",
      "| Global Round : 2 | Local Epoch : 3 | [0/18116 (0%)]\tBatch Loss: 1336.575073\n",
      "| Global Round : 2 | Local Epoch : 3 | [9088/18116 (50%)]\tBatch Loss: 1424.877808\n",
      "| Global Round : 2 | Local Epoch : 4 | [0/18116 (0%)]\tBatch Loss: 1371.187378\n",
      "| Global Round : 2 | Local Epoch : 4 | [9088/18116 (50%)]\tBatch Loss: 165.101135\n",
      "| Global Round : 2 | Local Epoch : 5 | [0/18116 (0%)]\tBatch Loss: 2406.155518\n",
      "| Global Round : 2 | Local Epoch : 5 | [9088/18116 (50%)]\tBatch Loss: 2536.229248\n",
      "| Global Round : 2 | Local Epoch : 6 | [0/18116 (0%)]\tBatch Loss: 576.831848\n",
      "| Global Round : 2 | Local Epoch : 6 | [9088/18116 (50%)]\tBatch Loss: 1956.120117\n",
      "| Global Round : 2 | Local Epoch : 7 | [0/18116 (0%)]\tBatch Loss: 749.502563\n",
      "| Global Round : 2 | Local Epoch : 7 | [9088/18116 (50%)]\tBatch Loss: 1692.205811\n",
      "| Global Round : 2 | Local Epoch : 8 | [0/18116 (0%)]\tBatch Loss: 1180.821167\n",
      "| Global Round : 2 | Local Epoch : 8 | [9088/18116 (50%)]\tBatch Loss: 572.586548\n",
      "| Global Round : 2 | Local Epoch : 9 | [0/18116 (0%)]\tBatch Loss: 683.901672\n",
      "| Global Round : 2 | Local Epoch : 9 | [9088/18116 (50%)]\tBatch Loss: 884.324402\n",
      "| Global Round : 2 | Local Epoch : 0 | [0/11188 (0%)]\tBatch Loss: 777.704712\n",
      "| Global Round : 2 | Local Epoch : 0 | [5632/11188 (50%)]\tBatch Loss: 82.263313\n",
      "| Global Round : 2 | Local Epoch : 1 | [0/11188 (0%)]\tBatch Loss: 114.121445\n",
      "| Global Round : 2 | Local Epoch : 1 | [5632/11188 (50%)]\tBatch Loss: 159.466354\n",
      "| Global Round : 2 | Local Epoch : 2 | [0/11188 (0%)]\tBatch Loss: 65.413177\n",
      "| Global Round : 2 | Local Epoch : 2 | [5632/11188 (50%)]\tBatch Loss: 190.629883\n",
      "| Global Round : 2 | Local Epoch : 3 | [0/11188 (0%)]\tBatch Loss: 75.866043\n",
      "| Global Round : 2 | Local Epoch : 3 | [5632/11188 (50%)]\tBatch Loss: 291.980804\n",
      "| Global Round : 2 | Local Epoch : 4 | [0/11188 (0%)]\tBatch Loss: 105.254997\n",
      "| Global Round : 2 | Local Epoch : 4 | [5632/11188 (50%)]\tBatch Loss: 96.133789\n",
      "| Global Round : 2 | Local Epoch : 5 | [0/11188 (0%)]\tBatch Loss: 135.835175\n",
      "| Global Round : 2 | Local Epoch : 5 | [5632/11188 (50%)]\tBatch Loss: 322.134827\n",
      "| Global Round : 2 | Local Epoch : 6 | [0/11188 (0%)]\tBatch Loss: 82.260391\n",
      "| Global Round : 2 | Local Epoch : 6 | [5632/11188 (50%)]\tBatch Loss: 212.431244\n",
      "| Global Round : 2 | Local Epoch : 7 | [0/11188 (0%)]\tBatch Loss: 171.005768\n",
      "| Global Round : 2 | Local Epoch : 7 | [5632/11188 (50%)]\tBatch Loss: 83.519135\n",
      "| Global Round : 2 | Local Epoch : 8 | [0/11188 (0%)]\tBatch Loss: 132.251984\n",
      "| Global Round : 2 | Local Epoch : 8 | [5632/11188 (50%)]\tBatch Loss: 114.838470\n",
      "| Global Round : 2 | Local Epoch : 9 | [0/11188 (0%)]\tBatch Loss: 108.498703\n",
      "| Global Round : 2 | Local Epoch : 9 | [5632/11188 (50%)]\tBatch Loss: 225.740997\n"
     ]
    },
    {
     "name": "stderr",
     "output_type": "stream",
     "text": [
      "\r",
      " 40%|████      | 2/5 [00:18<00:28,  9.44s/it]"
     ]
    },
    {
     "name": "stdout",
     "output_type": "stream",
     "text": [
      "Client 0: accuracy loss: 192.59 | fairness loss 93.56 | Demographic disparity = 0.23\n",
      "Client 1: accuracy loss: 87.22 | fairness loss 122.25 | Demographic disparity = 0.18\n",
      " \n",
      "Avg Training Stats after 2 global rounds:\n",
      "Training loss: 839.20 | Validation accuracy: 75.50% | Validation Demographic disparity: 0.2146\n",
      "\n",
      " | Global Training Round : 3 |\n",
      "\n",
      "| Global Round : 3 | Local Epoch : 0 | [0/11188 (0%)]\tBatch Loss: 202.764053\n",
      "| Global Round : 3 | Local Epoch : 0 | [5632/11188 (50%)]\tBatch Loss: 95.683075\n",
      "| Global Round : 3 | Local Epoch : 1 | [0/11188 (0%)]\tBatch Loss: 270.012329\n",
      "| Global Round : 3 | Local Epoch : 1 | [5632/11188 (50%)]\tBatch Loss: 75.098633\n",
      "| Global Round : 3 | Local Epoch : 2 | [0/11188 (0%)]\tBatch Loss: 238.201355\n",
      "| Global Round : 3 | Local Epoch : 2 | [5632/11188 (50%)]\tBatch Loss: 566.914490\n",
      "| Global Round : 3 | Local Epoch : 3 | [0/11188 (0%)]\tBatch Loss: 63.694622\n",
      "| Global Round : 3 | Local Epoch : 3 | [5632/11188 (50%)]\tBatch Loss: 243.015198\n",
      "| Global Round : 3 | Local Epoch : 4 | [0/11188 (0%)]\tBatch Loss: 98.121437\n",
      "| Global Round : 3 | Local Epoch : 4 | [5632/11188 (50%)]\tBatch Loss: 220.275803\n",
      "| Global Round : 3 | Local Epoch : 5 | [0/11188 (0%)]\tBatch Loss: 78.304512\n",
      "| Global Round : 3 | Local Epoch : 5 | [5632/11188 (50%)]\tBatch Loss: 104.635147\n",
      "| Global Round : 3 | Local Epoch : 6 | [0/11188 (0%)]\tBatch Loss: 185.652069\n",
      "| Global Round : 3 | Local Epoch : 6 | [5632/11188 (50%)]\tBatch Loss: 282.662933\n",
      "| Global Round : 3 | Local Epoch : 7 | [0/11188 (0%)]\tBatch Loss: 127.701324\n",
      "| Global Round : 3 | Local Epoch : 7 | [5632/11188 (50%)]\tBatch Loss: 232.306168\n",
      "| Global Round : 3 | Local Epoch : 8 | [0/11188 (0%)]\tBatch Loss: 83.886299\n",
      "| Global Round : 3 | Local Epoch : 8 | [5632/11188 (50%)]\tBatch Loss: 103.572052\n",
      "| Global Round : 3 | Local Epoch : 9 | [0/11188 (0%)]\tBatch Loss: 97.902092\n",
      "| Global Round : 3 | Local Epoch : 9 | [5632/11188 (50%)]\tBatch Loss: 208.354080\n",
      "| Global Round : 3 | Local Epoch : 0 | [0/18116 (0%)]\tBatch Loss: 230.520599\n",
      "| Global Round : 3 | Local Epoch : 0 | [9088/18116 (50%)]\tBatch Loss: 2356.672363\n",
      "| Global Round : 3 | Local Epoch : 1 | [0/18116 (0%)]\tBatch Loss: 1372.493652\n",
      "| Global Round : 3 | Local Epoch : 1 | [9088/18116 (50%)]\tBatch Loss: 859.681458\n",
      "| Global Round : 3 | Local Epoch : 2 | [0/18116 (0%)]\tBatch Loss: 644.993042\n",
      "| Global Round : 3 | Local Epoch : 2 | [9088/18116 (50%)]\tBatch Loss: 487.729126\n",
      "| Global Round : 3 | Local Epoch : 3 | [0/18116 (0%)]\tBatch Loss: 1480.639404\n",
      "| Global Round : 3 | Local Epoch : 3 | [9088/18116 (50%)]\tBatch Loss: 2752.859131\n",
      "| Global Round : 3 | Local Epoch : 4 | [0/18116 (0%)]\tBatch Loss: 562.774048\n",
      "| Global Round : 3 | Local Epoch : 4 | [9088/18116 (50%)]\tBatch Loss: 1734.477051\n",
      "| Global Round : 3 | Local Epoch : 5 | [0/18116 (0%)]\tBatch Loss: 685.087402\n",
      "| Global Round : 3 | Local Epoch : 5 | [9088/18116 (50%)]\tBatch Loss: 1455.033447\n",
      "| Global Round : 3 | Local Epoch : 6 | [0/18116 (0%)]\tBatch Loss: 506.223572\n",
      "| Global Round : 3 | Local Epoch : 6 | [9088/18116 (50%)]\tBatch Loss: 1996.708496\n",
      "| Global Round : 3 | Local Epoch : 7 | [0/18116 (0%)]\tBatch Loss: 160.076752\n",
      "| Global Round : 3 | Local Epoch : 7 | [9088/18116 (50%)]\tBatch Loss: 571.644775\n",
      "| Global Round : 3 | Local Epoch : 8 | [0/18116 (0%)]\tBatch Loss: 773.821899\n",
      "| Global Round : 3 | Local Epoch : 8 | [9088/18116 (50%)]\tBatch Loss: 2024.527710\n",
      "| Global Round : 3 | Local Epoch : 9 | [0/18116 (0%)]\tBatch Loss: 829.821045\n",
      "| Global Round : 3 | Local Epoch : 9 | [9088/18116 (50%)]\tBatch Loss: 2087.716309\n"
     ]
    },
    {
     "name": "stderr",
     "output_type": "stream",
     "text": [
      "\r",
      " 60%|██████    | 3/5 [00:28<00:18,  9.42s/it]"
     ]
    },
    {
     "name": "stdout",
     "output_type": "stream",
     "text": [
      "Client 0: accuracy loss: 239.93 | fairness loss 167.32 | Demographic disparity = 0.26\n",
      "Client 1: accuracy loss: 112.05 | fairness loss 228.56 | Demographic disparity = 0.23\n",
      " \n",
      "Avg Training Stats after 3 global rounds:\n",
      "Training loss: 808.03 | Validation accuracy: 71.77% | Validation Demographic disparity: 0.2492\n",
      "\n",
      " | Global Training Round : 4 |\n",
      "\n",
      "| Global Round : 4 | Local Epoch : 0 | [0/11188 (0%)]\tBatch Loss: 344.238098\n",
      "| Global Round : 4 | Local Epoch : 0 | [5632/11188 (50%)]\tBatch Loss: 72.181961\n",
      "| Global Round : 4 | Local Epoch : 1 | [0/11188 (0%)]\tBatch Loss: 157.518921\n",
      "| Global Round : 4 | Local Epoch : 1 | [5632/11188 (50%)]\tBatch Loss: 241.187622\n",
      "| Global Round : 4 | Local Epoch : 2 | [0/11188 (0%)]\tBatch Loss: 142.309662\n",
      "| Global Round : 4 | Local Epoch : 2 | [5632/11188 (50%)]\tBatch Loss: 215.344559\n",
      "| Global Round : 4 | Local Epoch : 3 | [0/11188 (0%)]\tBatch Loss: 112.394989\n",
      "| Global Round : 4 | Local Epoch : 3 | [5632/11188 (50%)]\tBatch Loss: 113.483704\n",
      "| Global Round : 4 | Local Epoch : 4 | [0/11188 (0%)]\tBatch Loss: 155.411804\n",
      "| Global Round : 4 | Local Epoch : 4 | [5632/11188 (50%)]\tBatch Loss: 142.993668\n",
      "| Global Round : 4 | Local Epoch : 5 | [0/11188 (0%)]\tBatch Loss: 159.737915\n",
      "| Global Round : 4 | Local Epoch : 5 | [5632/11188 (50%)]\tBatch Loss: 126.791992\n",
      "| Global Round : 4 | Local Epoch : 6 | [0/11188 (0%)]\tBatch Loss: 115.080238\n",
      "| Global Round : 4 | Local Epoch : 6 | [5632/11188 (50%)]\tBatch Loss: 117.493111\n",
      "| Global Round : 4 | Local Epoch : 7 | [0/11188 (0%)]\tBatch Loss: 84.309464\n",
      "| Global Round : 4 | Local Epoch : 7 | [5632/11188 (50%)]\tBatch Loss: 205.617050\n",
      "| Global Round : 4 | Local Epoch : 8 | [0/11188 (0%)]\tBatch Loss: 70.148827\n",
      "| Global Round : 4 | Local Epoch : 8 | [5632/11188 (50%)]\tBatch Loss: 307.030640\n",
      "| Global Round : 4 | Local Epoch : 9 | [0/11188 (0%)]\tBatch Loss: 72.782852\n",
      "| Global Round : 4 | Local Epoch : 9 | [5632/11188 (50%)]\tBatch Loss: 182.155991\n",
      "| Global Round : 4 | Local Epoch : 0 | [0/18116 (0%)]\tBatch Loss: 363.346863\n",
      "| Global Round : 4 | Local Epoch : 0 | [9088/18116 (50%)]\tBatch Loss: 2242.725098\n",
      "| Global Round : 4 | Local Epoch : 1 | [0/18116 (0%)]\tBatch Loss: 1411.199463\n",
      "| Global Round : 4 | Local Epoch : 1 | [9088/18116 (50%)]\tBatch Loss: 2502.406982\n",
      "| Global Round : 4 | Local Epoch : 2 | [0/18116 (0%)]\tBatch Loss: 334.063507\n",
      "| Global Round : 4 | Local Epoch : 2 | [9088/18116 (50%)]\tBatch Loss: 227.522964\n",
      "| Global Round : 4 | Local Epoch : 3 | [0/18116 (0%)]\tBatch Loss: 2695.963867\n",
      "| Global Round : 4 | Local Epoch : 3 | [9088/18116 (50%)]\tBatch Loss: 1101.238403\n",
      "| Global Round : 4 | Local Epoch : 4 | [0/18116 (0%)]\tBatch Loss: 510.391907\n",
      "| Global Round : 4 | Local Epoch : 4 | [9088/18116 (50%)]\tBatch Loss: 1351.510254\n",
      "| Global Round : 4 | Local Epoch : 5 | [0/18116 (0%)]\tBatch Loss: 369.091461\n",
      "| Global Round : 4 | Local Epoch : 5 | [9088/18116 (50%)]\tBatch Loss: 1400.122314\n",
      "| Global Round : 4 | Local Epoch : 6 | [0/18116 (0%)]\tBatch Loss: 1135.138306\n",
      "| Global Round : 4 | Local Epoch : 6 | [9088/18116 (50%)]\tBatch Loss: 265.783661\n",
      "| Global Round : 4 | Local Epoch : 7 | [0/18116 (0%)]\tBatch Loss: 526.180725\n",
      "| Global Round : 4 | Local Epoch : 7 | [9088/18116 (50%)]\tBatch Loss: 782.607300\n",
      "| Global Round : 4 | Local Epoch : 8 | [0/18116 (0%)]\tBatch Loss: 510.846802\n",
      "| Global Round : 4 | Local Epoch : 8 | [9088/18116 (50%)]\tBatch Loss: 773.344849\n",
      "| Global Round : 4 | Local Epoch : 9 | [0/18116 (0%)]\tBatch Loss: 186.769531\n",
      "| Global Round : 4 | Local Epoch : 9 | [9088/18116 (50%)]\tBatch Loss: 1279.132446\n"
     ]
    },
    {
     "name": "stderr",
     "output_type": "stream",
     "text": [
      "\r",
      " 80%|████████  | 4/5 [00:36<00:09,  9.20s/it]"
     ]
    },
    {
     "name": "stdout",
     "output_type": "stream",
     "text": [
      "Client 0: accuracy loss: 150.64 | fairness loss 71.80 | Demographic disparity = 0.21\n",
      "Client 1: accuracy loss: 71.87 | fairness loss 96.03 | Demographic disparity = 0.17\n",
      " \n",
      "Avg Training Stats after 4 global rounds:\n",
      "Training loss: 794.12 | Validation accuracy: 79.33% | Validation Demographic disparity: 0.1933\n",
      "\n",
      " | Global Training Round : 5 |\n",
      "\n",
      "| Global Round : 5 | Local Epoch : 0 | [0/11188 (0%)]\tBatch Loss: 188.252991\n",
      "| Global Round : 5 | Local Epoch : 0 | [5632/11188 (50%)]\tBatch Loss: 124.202377\n",
      "| Global Round : 5 | Local Epoch : 1 | [0/11188 (0%)]\tBatch Loss: 61.046982\n",
      "| Global Round : 5 | Local Epoch : 1 | [5632/11188 (50%)]\tBatch Loss: 128.589630\n",
      "| Global Round : 5 | Local Epoch : 2 | [0/11188 (0%)]\tBatch Loss: 62.551300\n",
      "| Global Round : 5 | Local Epoch : 2 | [5632/11188 (50%)]\tBatch Loss: 71.884132\n",
      "| Global Round : 5 | Local Epoch : 3 | [0/11188 (0%)]\tBatch Loss: 81.095528\n",
      "| Global Round : 5 | Local Epoch : 3 | [5632/11188 (50%)]\tBatch Loss: 114.976379\n",
      "| Global Round : 5 | Local Epoch : 4 | [0/11188 (0%)]\tBatch Loss: 124.091904\n",
      "| Global Round : 5 | Local Epoch : 4 | [5632/11188 (50%)]\tBatch Loss: 183.847260\n",
      "| Global Round : 5 | Local Epoch : 5 | [0/11188 (0%)]\tBatch Loss: 64.067856\n",
      "| Global Round : 5 | Local Epoch : 5 | [5632/11188 (50%)]\tBatch Loss: 209.475006\n",
      "| Global Round : 5 | Local Epoch : 6 | [0/11188 (0%)]\tBatch Loss: 93.328522\n",
      "| Global Round : 5 | Local Epoch : 6 | [5632/11188 (50%)]\tBatch Loss: 130.205978\n",
      "| Global Round : 5 | Local Epoch : 7 | [0/11188 (0%)]\tBatch Loss: 53.236221\n",
      "| Global Round : 5 | Local Epoch : 7 | [5632/11188 (50%)]\tBatch Loss: 138.508896\n",
      "| Global Round : 5 | Local Epoch : 8 | [0/11188 (0%)]\tBatch Loss: 99.367836\n",
      "| Global Round : 5 | Local Epoch : 8 | [5632/11188 (50%)]\tBatch Loss: 131.708908\n",
      "| Global Round : 5 | Local Epoch : 9 | [0/11188 (0%)]\tBatch Loss: 123.446800\n",
      "| Global Round : 5 | Local Epoch : 9 | [5632/11188 (50%)]\tBatch Loss: 74.698883\n",
      "| Global Round : 5 | Local Epoch : 0 | [0/18116 (0%)]\tBatch Loss: 153.427811\n",
      "| Global Round : 5 | Local Epoch : 0 | [9088/18116 (50%)]\tBatch Loss: 3682.496826\n",
      "| Global Round : 5 | Local Epoch : 1 | [0/18116 (0%)]\tBatch Loss: 1262.638672\n",
      "| Global Round : 5 | Local Epoch : 1 | [9088/18116 (50%)]\tBatch Loss: 306.690552\n",
      "| Global Round : 5 | Local Epoch : 2 | [0/18116 (0%)]\tBatch Loss: 1211.412109\n",
      "| Global Round : 5 | Local Epoch : 2 | [9088/18116 (50%)]\tBatch Loss: 2271.855469\n",
      "| Global Round : 5 | Local Epoch : 3 | [0/18116 (0%)]\tBatch Loss: 1083.756348\n",
      "| Global Round : 5 | Local Epoch : 3 | [9088/18116 (50%)]\tBatch Loss: 5403.893066\n",
      "| Global Round : 5 | Local Epoch : 4 | [0/18116 (0%)]\tBatch Loss: 587.314209\n",
      "| Global Round : 5 | Local Epoch : 4 | [9088/18116 (50%)]\tBatch Loss: 1022.026917\n",
      "| Global Round : 5 | Local Epoch : 5 | [0/18116 (0%)]\tBatch Loss: 1657.042480\n",
      "| Global Round : 5 | Local Epoch : 5 | [9088/18116 (50%)]\tBatch Loss: 2777.740723\n",
      "| Global Round : 5 | Local Epoch : 6 | [0/18116 (0%)]\tBatch Loss: 242.474091\n",
      "| Global Round : 5 | Local Epoch : 6 | [9088/18116 (50%)]\tBatch Loss: 2277.305420\n",
      "| Global Round : 5 | Local Epoch : 7 | [0/18116 (0%)]\tBatch Loss: 507.677948\n",
      "| Global Round : 5 | Local Epoch : 7 | [9088/18116 (50%)]\tBatch Loss: 317.562988\n",
      "| Global Round : 5 | Local Epoch : 8 | [0/18116 (0%)]\tBatch Loss: 448.138458\n",
      "| Global Round : 5 | Local Epoch : 8 | [9088/18116 (50%)]\tBatch Loss: 751.636047\n",
      "| Global Round : 5 | Local Epoch : 9 | [0/18116 (0%)]\tBatch Loss: 835.364990\n",
      "| Global Round : 5 | Local Epoch : 9 | [9088/18116 (50%)]\tBatch Loss: 1018.313904\n"
     ]
    },
    {
     "name": "stderr",
     "output_type": "stream",
     "text": [
      "100%|██████████| 5/5 [00:44<00:00,  8.98s/it]"
     ]
    },
    {
     "name": "stdout",
     "output_type": "stream",
     "text": [
      "Client 0: accuracy loss: 180.34 | fairness loss 43.20 | Demographic disparity = 0.24\n",
      "Client 1: accuracy loss: 83.49 | fairness loss 55.63 | Demographic disparity = 0.20\n",
      " \n",
      "Avg Training Stats after 5 global rounds:\n",
      "Training loss: 786.01 | Validation accuracy: 77.41% | Validation Demographic disparity: 0.2286\n"
     ]
    },
    {
     "name": "stderr",
     "output_type": "stream",
     "text": [
      "\n"
     ]
    },
    {
     "name": "stdout",
     "output_type": "stream",
     "text": [
      " \n",
      " Results after 6 global rounds of training:\n",
      "|---- Avg Train Accuracy: 77.41%\n",
      "|---- Test Accuracy: 81.15%\n",
      "|---- Test Demographic disparity: 0.1894\n",
      "\n",
      " Total Run Time: 45.3268 sec\n"
     ]
    }
   ],
   "source": [
    "train(logReg(num_features=adult_num_features, num_classes=2), adult_info,\n",
    "      \"Zafar\", penalty = 75, optimizer = 'sgd', learning_rate = 0.01, metric = \"Demographic disparity\",\n",
    "     num_rounds = 5, local_epochs = 10, mean_sensitive = adult_mean_sensitive)"
   ]
  },
  {
   "cell_type": "code",
   "execution_count": 2,
   "metadata": {},
   "outputs": [
    {
     "name": "stderr",
     "output_type": "stream",
     "text": [
      "/Users/cengyuchen/Google Drive/办公/research/toyexperiment/Fair-FedAvg/FairFedAvg.py:245: UserWarning: Warning message: metric wrong is not supported! Use the default metric risk difference\n",
      "  warnings.warn(\"Warning message: metric \" + metric + \" is not supported! Use the default metric risk difference\")\n",
      "\r",
      "  0%|          | 0/5 [00:00<?, ?it/s]"
     ]
    },
    {
     "name": "stdout",
     "output_type": "stream",
     "text": [
      "\n",
      " | Global Training Round : 1 |\n",
      "\n",
      "| Global Round : 1 | Local Epoch : 0 | [0/11188 (0%)]\tBatch Loss: 91.439888\n",
      "| Global Round : 1 | Local Epoch : 0 | [5632/11188 (50%)]\tBatch Loss: 225.157593\n",
      "| Global Round : 1 | Local Epoch : 1 | [0/11188 (0%)]\tBatch Loss: 87.252090\n",
      "| Global Round : 1 | Local Epoch : 1 | [5632/11188 (50%)]\tBatch Loss: 190.411026\n",
      "| Global Round : 1 | Local Epoch : 2 | [0/11188 (0%)]\tBatch Loss: 276.710114\n",
      "| Global Round : 1 | Local Epoch : 2 | [5632/11188 (50%)]\tBatch Loss: 198.351715\n",
      "| Global Round : 1 | Local Epoch : 3 | [0/11188 (0%)]\tBatch Loss: 150.414352\n",
      "| Global Round : 1 | Local Epoch : 3 | [5632/11188 (50%)]\tBatch Loss: 144.661682\n",
      "| Global Round : 1 | Local Epoch : 4 | [0/11188 (0%)]\tBatch Loss: 128.140045\n",
      "| Global Round : 1 | Local Epoch : 4 | [5632/11188 (50%)]\tBatch Loss: 325.525208\n",
      "| Global Round : 1 | Local Epoch : 5 | [0/11188 (0%)]\tBatch Loss: 129.673523\n",
      "| Global Round : 1 | Local Epoch : 5 | [5632/11188 (50%)]\tBatch Loss: 253.023102\n",
      "| Global Round : 1 | Local Epoch : 6 | [0/11188 (0%)]\tBatch Loss: 204.476349\n",
      "| Global Round : 1 | Local Epoch : 6 | [5632/11188 (50%)]\tBatch Loss: 132.019318\n",
      "| Global Round : 1 | Local Epoch : 7 | [0/11188 (0%)]\tBatch Loss: 68.026344\n",
      "| Global Round : 1 | Local Epoch : 7 | [5632/11188 (50%)]\tBatch Loss: 203.138718\n",
      "| Global Round : 1 | Local Epoch : 8 | [0/11188 (0%)]\tBatch Loss: 111.346863\n",
      "| Global Round : 1 | Local Epoch : 8 | [5632/11188 (50%)]\tBatch Loss: 152.030914\n",
      "| Global Round : 1 | Local Epoch : 9 | [0/11188 (0%)]\tBatch Loss: 89.687790\n",
      "| Global Round : 1 | Local Epoch : 9 | [5632/11188 (50%)]\tBatch Loss: 187.110474\n",
      "| Global Round : 1 | Local Epoch : 0 | [0/18116 (0%)]\tBatch Loss: 95.789078\n",
      "| Global Round : 1 | Local Epoch : 0 | [9088/18116 (50%)]\tBatch Loss: 2917.261230\n",
      "| Global Round : 1 | Local Epoch : 1 | [0/18116 (0%)]\tBatch Loss: 746.233093\n",
      "| Global Round : 1 | Local Epoch : 1 | [9088/18116 (50%)]\tBatch Loss: 2459.124512\n",
      "| Global Round : 1 | Local Epoch : 2 | [0/18116 (0%)]\tBatch Loss: 1330.660767\n",
      "| Global Round : 1 | Local Epoch : 2 | [9088/18116 (50%)]\tBatch Loss: 1034.469604\n",
      "| Global Round : 1 | Local Epoch : 3 | [0/18116 (0%)]\tBatch Loss: 620.494751\n",
      "| Global Round : 1 | Local Epoch : 3 | [9088/18116 (50%)]\tBatch Loss: 885.974731\n",
      "| Global Round : 1 | Local Epoch : 4 | [0/18116 (0%)]\tBatch Loss: 1976.582642\n",
      "| Global Round : 1 | Local Epoch : 4 | [9088/18116 (50%)]\tBatch Loss: 852.004272\n",
      "| Global Round : 1 | Local Epoch : 5 | [0/18116 (0%)]\tBatch Loss: 1202.465088\n",
      "| Global Round : 1 | Local Epoch : 5 | [9088/18116 (50%)]\tBatch Loss: 56.880241\n",
      "| Global Round : 1 | Local Epoch : 6 | [0/18116 (0%)]\tBatch Loss: 796.737488\n",
      "| Global Round : 1 | Local Epoch : 6 | [9088/18116 (50%)]\tBatch Loss: 905.843201\n",
      "| Global Round : 1 | Local Epoch : 7 | [0/18116 (0%)]\tBatch Loss: 652.259155\n",
      "| Global Round : 1 | Local Epoch : 7 | [9088/18116 (50%)]\tBatch Loss: 193.048767\n",
      "| Global Round : 1 | Local Epoch : 8 | [0/18116 (0%)]\tBatch Loss: 2885.149902\n",
      "| Global Round : 1 | Local Epoch : 8 | [9088/18116 (50%)]\tBatch Loss: 930.709961\n",
      "| Global Round : 1 | Local Epoch : 9 | [0/18116 (0%)]\tBatch Loss: 1273.965210\n",
      "| Global Round : 1 | Local Epoch : 9 | [9088/18116 (50%)]\tBatch Loss: 383.501587\n"
     ]
    },
    {
     "name": "stderr",
     "output_type": "stream",
     "text": [
      "\r",
      " 20%|██        | 1/5 [00:15<01:02, 15.68s/it]"
     ]
    },
    {
     "name": "stdout",
     "output_type": "stream",
     "text": [
      "Client 0: accuracy loss: 253.64 | fairness loss 469.86 | wrong = 0.32\n",
      "Client 1: accuracy loss: 114.81 | fairness loss 605.97 | wrong = 0.25\n",
      " \n",
      "Avg Training Stats after 1 global rounds:\n",
      "Training loss: 912.19 | Validation accuracy: 70.35% | Validation wrong: 0.2963\n",
      "\n",
      " | Global Training Round : 2 |\n",
      "\n",
      "| Global Round : 2 | Local Epoch : 0 | [0/18116 (0%)]\tBatch Loss: 916.084900\n",
      "| Global Round : 2 | Local Epoch : 0 | [9088/18116 (50%)]\tBatch Loss: 1273.538330\n",
      "| Global Round : 2 | Local Epoch : 1 | [0/18116 (0%)]\tBatch Loss: 571.233643\n",
      "| Global Round : 2 | Local Epoch : 1 | [9088/18116 (50%)]\tBatch Loss: 4832.435547\n",
      "| Global Round : 2 | Local Epoch : 2 | [0/18116 (0%)]\tBatch Loss: 641.126831\n",
      "| Global Round : 2 | Local Epoch : 2 | [9088/18116 (50%)]\tBatch Loss: 1643.249756\n",
      "| Global Round : 2 | Local Epoch : 3 | [0/18116 (0%)]\tBatch Loss: 1336.575073\n",
      "| Global Round : 2 | Local Epoch : 3 | [9088/18116 (50%)]\tBatch Loss: 1424.877808\n",
      "| Global Round : 2 | Local Epoch : 4 | [0/18116 (0%)]\tBatch Loss: 1371.187378\n",
      "| Global Round : 2 | Local Epoch : 4 | [9088/18116 (50%)]\tBatch Loss: 165.101135\n",
      "| Global Round : 2 | Local Epoch : 5 | [0/18116 (0%)]\tBatch Loss: 2406.155518\n",
      "| Global Round : 2 | Local Epoch : 5 | [9088/18116 (50%)]\tBatch Loss: 2536.229248\n",
      "| Global Round : 2 | Local Epoch : 6 | [0/18116 (0%)]\tBatch Loss: 576.831848\n",
      "| Global Round : 2 | Local Epoch : 6 | [9088/18116 (50%)]\tBatch Loss: 1956.120117\n",
      "| Global Round : 2 | Local Epoch : 7 | [0/18116 (0%)]\tBatch Loss: 749.502563\n",
      "| Global Round : 2 | Local Epoch : 7 | [9088/18116 (50%)]\tBatch Loss: 1692.205811\n",
      "| Global Round : 2 | Local Epoch : 8 | [0/18116 (0%)]\tBatch Loss: 1180.821167\n",
      "| Global Round : 2 | Local Epoch : 8 | [9088/18116 (50%)]\tBatch Loss: 572.586548\n",
      "| Global Round : 2 | Local Epoch : 9 | [0/18116 (0%)]\tBatch Loss: 683.901672\n",
      "| Global Round : 2 | Local Epoch : 9 | [9088/18116 (50%)]\tBatch Loss: 884.324402\n",
      "| Global Round : 2 | Local Epoch : 0 | [0/11188 (0%)]\tBatch Loss: 777.704712\n",
      "| Global Round : 2 | Local Epoch : 0 | [5632/11188 (50%)]\tBatch Loss: 82.263313\n",
      "| Global Round : 2 | Local Epoch : 1 | [0/11188 (0%)]\tBatch Loss: 114.121445\n",
      "| Global Round : 2 | Local Epoch : 1 | [5632/11188 (50%)]\tBatch Loss: 159.466354\n",
      "| Global Round : 2 | Local Epoch : 2 | [0/11188 (0%)]\tBatch Loss: 65.413177\n",
      "| Global Round : 2 | Local Epoch : 2 | [5632/11188 (50%)]\tBatch Loss: 190.629883\n",
      "| Global Round : 2 | Local Epoch : 3 | [0/11188 (0%)]\tBatch Loss: 75.866043\n",
      "| Global Round : 2 | Local Epoch : 3 | [5632/11188 (50%)]\tBatch Loss: 291.980804\n",
      "| Global Round : 2 | Local Epoch : 4 | [0/11188 (0%)]\tBatch Loss: 105.254997\n",
      "| Global Round : 2 | Local Epoch : 4 | [5632/11188 (50%)]\tBatch Loss: 96.133789\n",
      "| Global Round : 2 | Local Epoch : 5 | [0/11188 (0%)]\tBatch Loss: 135.835175\n",
      "| Global Round : 2 | Local Epoch : 5 | [5632/11188 (50%)]\tBatch Loss: 322.134827\n",
      "| Global Round : 2 | Local Epoch : 6 | [0/11188 (0%)]\tBatch Loss: 82.260391\n",
      "| Global Round : 2 | Local Epoch : 6 | [5632/11188 (50%)]\tBatch Loss: 212.431244\n",
      "| Global Round : 2 | Local Epoch : 7 | [0/11188 (0%)]\tBatch Loss: 171.005768\n",
      "| Global Round : 2 | Local Epoch : 7 | [5632/11188 (50%)]\tBatch Loss: 83.519135\n",
      "| Global Round : 2 | Local Epoch : 8 | [0/11188 (0%)]\tBatch Loss: 132.251984\n",
      "| Global Round : 2 | Local Epoch : 8 | [5632/11188 (50%)]\tBatch Loss: 114.838470\n",
      "| Global Round : 2 | Local Epoch : 9 | [0/11188 (0%)]\tBatch Loss: 108.498703\n",
      "| Global Round : 2 | Local Epoch : 9 | [5632/11188 (50%)]\tBatch Loss: 225.740997\n"
     ]
    },
    {
     "name": "stderr",
     "output_type": "stream",
     "text": [
      "\r",
      " 40%|████      | 2/5 [00:33<00:49, 16.47s/it]"
     ]
    },
    {
     "name": "stdout",
     "output_type": "stream",
     "text": [
      "Client 0: accuracy loss: 192.59 | fairness loss 93.56 | wrong = 0.33\n",
      "Client 1: accuracy loss: 87.22 | fairness loss 122.25 | wrong = 0.28\n",
      " \n",
      "Avg Training Stats after 2 global rounds:\n",
      "Training loss: 839.20 | Validation accuracy: 75.50% | Validation wrong: 0.3115\n",
      "\n",
      " | Global Training Round : 3 |\n",
      "\n",
      "| Global Round : 3 | Local Epoch : 0 | [0/11188 (0%)]\tBatch Loss: 202.764053\n",
      "| Global Round : 3 | Local Epoch : 0 | [5632/11188 (50%)]\tBatch Loss: 95.683075\n",
      "| Global Round : 3 | Local Epoch : 1 | [0/11188 (0%)]\tBatch Loss: 270.012329\n",
      "| Global Round : 3 | Local Epoch : 1 | [5632/11188 (50%)]\tBatch Loss: 75.098633\n",
      "| Global Round : 3 | Local Epoch : 2 | [0/11188 (0%)]\tBatch Loss: 238.201355\n",
      "| Global Round : 3 | Local Epoch : 2 | [5632/11188 (50%)]\tBatch Loss: 566.914490\n",
      "| Global Round : 3 | Local Epoch : 3 | [0/11188 (0%)]\tBatch Loss: 63.694622\n",
      "| Global Round : 3 | Local Epoch : 3 | [5632/11188 (50%)]\tBatch Loss: 243.015198\n",
      "| Global Round : 3 | Local Epoch : 4 | [0/11188 (0%)]\tBatch Loss: 98.121437\n",
      "| Global Round : 3 | Local Epoch : 4 | [5632/11188 (50%)]\tBatch Loss: 220.275803\n",
      "| Global Round : 3 | Local Epoch : 5 | [0/11188 (0%)]\tBatch Loss: 78.304512\n",
      "| Global Round : 3 | Local Epoch : 5 | [5632/11188 (50%)]\tBatch Loss: 104.635147\n",
      "| Global Round : 3 | Local Epoch : 6 | [0/11188 (0%)]\tBatch Loss: 185.652069\n",
      "| Global Round : 3 | Local Epoch : 6 | [5632/11188 (50%)]\tBatch Loss: 282.662933\n",
      "| Global Round : 3 | Local Epoch : 7 | [0/11188 (0%)]\tBatch Loss: 127.701324\n",
      "| Global Round : 3 | Local Epoch : 7 | [5632/11188 (50%)]\tBatch Loss: 232.306168\n",
      "| Global Round : 3 | Local Epoch : 8 | [0/11188 (0%)]\tBatch Loss: 83.886299\n",
      "| Global Round : 3 | Local Epoch : 8 | [5632/11188 (50%)]\tBatch Loss: 103.572052\n",
      "| Global Round : 3 | Local Epoch : 9 | [0/11188 (0%)]\tBatch Loss: 97.902092\n",
      "| Global Round : 3 | Local Epoch : 9 | [5632/11188 (50%)]\tBatch Loss: 208.354080\n",
      "| Global Round : 3 | Local Epoch : 0 | [0/18116 (0%)]\tBatch Loss: 230.520599\n",
      "| Global Round : 3 | Local Epoch : 0 | [9088/18116 (50%)]\tBatch Loss: 2356.672363\n",
      "| Global Round : 3 | Local Epoch : 1 | [0/18116 (0%)]\tBatch Loss: 1372.493652\n",
      "| Global Round : 3 | Local Epoch : 1 | [9088/18116 (50%)]\tBatch Loss: 859.681458\n",
      "| Global Round : 3 | Local Epoch : 2 | [0/18116 (0%)]\tBatch Loss: 644.993042\n",
      "| Global Round : 3 | Local Epoch : 2 | [9088/18116 (50%)]\tBatch Loss: 487.729126\n",
      "| Global Round : 3 | Local Epoch : 3 | [0/18116 (0%)]\tBatch Loss: 1480.639404\n",
      "| Global Round : 3 | Local Epoch : 3 | [9088/18116 (50%)]\tBatch Loss: 2752.859131\n",
      "| Global Round : 3 | Local Epoch : 4 | [0/18116 (0%)]\tBatch Loss: 562.774048\n",
      "| Global Round : 3 | Local Epoch : 4 | [9088/18116 (50%)]\tBatch Loss: 1734.477051\n",
      "| Global Round : 3 | Local Epoch : 5 | [0/18116 (0%)]\tBatch Loss: 685.087402\n",
      "| Global Round : 3 | Local Epoch : 5 | [9088/18116 (50%)]\tBatch Loss: 1455.033447\n",
      "| Global Round : 3 | Local Epoch : 6 | [0/18116 (0%)]\tBatch Loss: 506.223572\n",
      "| Global Round : 3 | Local Epoch : 6 | [9088/18116 (50%)]\tBatch Loss: 1996.708496\n",
      "| Global Round : 3 | Local Epoch : 7 | [0/18116 (0%)]\tBatch Loss: 160.076752\n",
      "| Global Round : 3 | Local Epoch : 7 | [9088/18116 (50%)]\tBatch Loss: 571.644775\n",
      "| Global Round : 3 | Local Epoch : 8 | [0/18116 (0%)]\tBatch Loss: 773.821899\n",
      "| Global Round : 3 | Local Epoch : 8 | [9088/18116 (50%)]\tBatch Loss: 2024.527710\n",
      "| Global Round : 3 | Local Epoch : 9 | [0/18116 (0%)]\tBatch Loss: 829.821045\n",
      "| Global Round : 3 | Local Epoch : 9 | [9088/18116 (50%)]\tBatch Loss: 2087.716309\n"
     ]
    },
    {
     "name": "stderr",
     "output_type": "stream",
     "text": [
      "\r",
      " 60%|██████    | 3/5 [00:51<00:33, 16.76s/it]"
     ]
    },
    {
     "name": "stdout",
     "output_type": "stream",
     "text": [
      "Client 0: accuracy loss: 239.93 | fairness loss 167.32 | wrong = 0.37\n",
      "Client 1: accuracy loss: 112.05 | fairness loss 228.56 | wrong = 0.34\n",
      " \n",
      "Avg Training Stats after 3 global rounds:\n",
      "Training loss: 808.03 | Validation accuracy: 71.77% | Validation wrong: 0.3617\n",
      "\n",
      " | Global Training Round : 4 |\n",
      "\n",
      "| Global Round : 4 | Local Epoch : 0 | [0/11188 (0%)]\tBatch Loss: 344.238098\n",
      "| Global Round : 4 | Local Epoch : 0 | [5632/11188 (50%)]\tBatch Loss: 72.181961\n",
      "| Global Round : 4 | Local Epoch : 1 | [0/11188 (0%)]\tBatch Loss: 157.518921\n",
      "| Global Round : 4 | Local Epoch : 1 | [5632/11188 (50%)]\tBatch Loss: 241.187622\n",
      "| Global Round : 4 | Local Epoch : 2 | [0/11188 (0%)]\tBatch Loss: 142.309662\n",
      "| Global Round : 4 | Local Epoch : 2 | [5632/11188 (50%)]\tBatch Loss: 215.344559\n",
      "| Global Round : 4 | Local Epoch : 3 | [0/11188 (0%)]\tBatch Loss: 112.394989\n",
      "| Global Round : 4 | Local Epoch : 3 | [5632/11188 (50%)]\tBatch Loss: 113.483704\n",
      "| Global Round : 4 | Local Epoch : 4 | [0/11188 (0%)]\tBatch Loss: 155.411804\n",
      "| Global Round : 4 | Local Epoch : 4 | [5632/11188 (50%)]\tBatch Loss: 142.993668\n",
      "| Global Round : 4 | Local Epoch : 5 | [0/11188 (0%)]\tBatch Loss: 159.737915\n",
      "| Global Round : 4 | Local Epoch : 5 | [5632/11188 (50%)]\tBatch Loss: 126.791992\n",
      "| Global Round : 4 | Local Epoch : 6 | [0/11188 (0%)]\tBatch Loss: 115.080238\n",
      "| Global Round : 4 | Local Epoch : 6 | [5632/11188 (50%)]\tBatch Loss: 117.493111\n",
      "| Global Round : 4 | Local Epoch : 7 | [0/11188 (0%)]\tBatch Loss: 84.309464\n",
      "| Global Round : 4 | Local Epoch : 7 | [5632/11188 (50%)]\tBatch Loss: 205.617050\n",
      "| Global Round : 4 | Local Epoch : 8 | [0/11188 (0%)]\tBatch Loss: 70.148827\n",
      "| Global Round : 4 | Local Epoch : 8 | [5632/11188 (50%)]\tBatch Loss: 307.030640\n",
      "| Global Round : 4 | Local Epoch : 9 | [0/11188 (0%)]\tBatch Loss: 72.782852\n",
      "| Global Round : 4 | Local Epoch : 9 | [5632/11188 (50%)]\tBatch Loss: 182.155991\n",
      "| Global Round : 4 | Local Epoch : 0 | [0/18116 (0%)]\tBatch Loss: 363.346863\n",
      "| Global Round : 4 | Local Epoch : 0 | [9088/18116 (50%)]\tBatch Loss: 2242.725098\n",
      "| Global Round : 4 | Local Epoch : 1 | [0/18116 (0%)]\tBatch Loss: 1411.199463\n",
      "| Global Round : 4 | Local Epoch : 1 | [9088/18116 (50%)]\tBatch Loss: 2502.406982\n",
      "| Global Round : 4 | Local Epoch : 2 | [0/18116 (0%)]\tBatch Loss: 334.063507\n",
      "| Global Round : 4 | Local Epoch : 2 | [9088/18116 (50%)]\tBatch Loss: 227.522964\n",
      "| Global Round : 4 | Local Epoch : 3 | [0/18116 (0%)]\tBatch Loss: 2695.963867\n",
      "| Global Round : 4 | Local Epoch : 3 | [9088/18116 (50%)]\tBatch Loss: 1101.238403\n",
      "| Global Round : 4 | Local Epoch : 4 | [0/18116 (0%)]\tBatch Loss: 510.391907\n",
      "| Global Round : 4 | Local Epoch : 4 | [9088/18116 (50%)]\tBatch Loss: 1351.510254\n",
      "| Global Round : 4 | Local Epoch : 5 | [0/18116 (0%)]\tBatch Loss: 369.091461\n",
      "| Global Round : 4 | Local Epoch : 5 | [9088/18116 (50%)]\tBatch Loss: 1400.122314\n",
      "| Global Round : 4 | Local Epoch : 6 | [0/18116 (0%)]\tBatch Loss: 1135.138306\n",
      "| Global Round : 4 | Local Epoch : 6 | [9088/18116 (50%)]\tBatch Loss: 265.783661\n",
      "| Global Round : 4 | Local Epoch : 7 | [0/18116 (0%)]\tBatch Loss: 526.180725\n",
      "| Global Round : 4 | Local Epoch : 7 | [9088/18116 (50%)]\tBatch Loss: 782.607300\n",
      "| Global Round : 4 | Local Epoch : 8 | [0/18116 (0%)]\tBatch Loss: 510.846802\n",
      "| Global Round : 4 | Local Epoch : 8 | [9088/18116 (50%)]\tBatch Loss: 773.344849\n",
      "| Global Round : 4 | Local Epoch : 9 | [0/18116 (0%)]\tBatch Loss: 186.769531\n",
      "| Global Round : 4 | Local Epoch : 9 | [9088/18116 (50%)]\tBatch Loss: 1279.132446\n"
     ]
    },
    {
     "name": "stderr",
     "output_type": "stream",
     "text": [
      "\r",
      " 80%|████████  | 4/5 [01:03<00:15, 15.31s/it]"
     ]
    },
    {
     "name": "stdout",
     "output_type": "stream",
     "text": [
      "Client 0: accuracy loss: 150.64 | fairness loss 71.80 | wrong = 0.29\n",
      "Client 1: accuracy loss: 71.87 | fairness loss 96.03 | wrong = 0.26\n",
      " \n",
      "Avg Training Stats after 4 global rounds:\n",
      "Training loss: 794.12 | Validation accuracy: 79.33% | Validation wrong: 0.2806\n",
      "\n",
      " | Global Training Round : 5 |\n",
      "\n",
      "| Global Round : 5 | Local Epoch : 0 | [0/11188 (0%)]\tBatch Loss: 188.252991\n",
      "| Global Round : 5 | Local Epoch : 0 | [5632/11188 (50%)]\tBatch Loss: 124.202377\n",
      "| Global Round : 5 | Local Epoch : 1 | [0/11188 (0%)]\tBatch Loss: 61.046982\n",
      "| Global Round : 5 | Local Epoch : 1 | [5632/11188 (50%)]\tBatch Loss: 128.589630\n",
      "| Global Round : 5 | Local Epoch : 2 | [0/11188 (0%)]\tBatch Loss: 62.551300\n",
      "| Global Round : 5 | Local Epoch : 2 | [5632/11188 (50%)]\tBatch Loss: 71.884132\n",
      "| Global Round : 5 | Local Epoch : 3 | [0/11188 (0%)]\tBatch Loss: 81.095528\n",
      "| Global Round : 5 | Local Epoch : 3 | [5632/11188 (50%)]\tBatch Loss: 114.976379\n",
      "| Global Round : 5 | Local Epoch : 4 | [0/11188 (0%)]\tBatch Loss: 124.091904\n",
      "| Global Round : 5 | Local Epoch : 4 | [5632/11188 (50%)]\tBatch Loss: 183.847260\n",
      "| Global Round : 5 | Local Epoch : 5 | [0/11188 (0%)]\tBatch Loss: 64.067856\n",
      "| Global Round : 5 | Local Epoch : 5 | [5632/11188 (50%)]\tBatch Loss: 209.475006\n",
      "| Global Round : 5 | Local Epoch : 6 | [0/11188 (0%)]\tBatch Loss: 93.328522\n",
      "| Global Round : 5 | Local Epoch : 6 | [5632/11188 (50%)]\tBatch Loss: 130.205978\n",
      "| Global Round : 5 | Local Epoch : 7 | [0/11188 (0%)]\tBatch Loss: 53.236221\n",
      "| Global Round : 5 | Local Epoch : 7 | [5632/11188 (50%)]\tBatch Loss: 138.508896\n",
      "| Global Round : 5 | Local Epoch : 8 | [0/11188 (0%)]\tBatch Loss: 99.367836\n",
      "| Global Round : 5 | Local Epoch : 8 | [5632/11188 (50%)]\tBatch Loss: 131.708908\n",
      "| Global Round : 5 | Local Epoch : 9 | [0/11188 (0%)]\tBatch Loss: 123.446800\n",
      "| Global Round : 5 | Local Epoch : 9 | [5632/11188 (50%)]\tBatch Loss: 74.698883\n",
      "| Global Round : 5 | Local Epoch : 0 | [0/18116 (0%)]\tBatch Loss: 153.427811\n",
      "| Global Round : 5 | Local Epoch : 0 | [9088/18116 (50%)]\tBatch Loss: 3682.496826\n",
      "| Global Round : 5 | Local Epoch : 1 | [0/18116 (0%)]\tBatch Loss: 1262.638672\n",
      "| Global Round : 5 | Local Epoch : 1 | [9088/18116 (50%)]\tBatch Loss: 306.690552\n",
      "| Global Round : 5 | Local Epoch : 2 | [0/18116 (0%)]\tBatch Loss: 1211.412109\n",
      "| Global Round : 5 | Local Epoch : 2 | [9088/18116 (50%)]\tBatch Loss: 2271.855469\n",
      "| Global Round : 5 | Local Epoch : 3 | [0/18116 (0%)]\tBatch Loss: 1083.756348\n",
      "| Global Round : 5 | Local Epoch : 3 | [9088/18116 (50%)]\tBatch Loss: 5403.893066\n",
      "| Global Round : 5 | Local Epoch : 4 | [0/18116 (0%)]\tBatch Loss: 587.314209\n",
      "| Global Round : 5 | Local Epoch : 4 | [9088/18116 (50%)]\tBatch Loss: 1022.026917\n",
      "| Global Round : 5 | Local Epoch : 5 | [0/18116 (0%)]\tBatch Loss: 1657.042480\n",
      "| Global Round : 5 | Local Epoch : 5 | [9088/18116 (50%)]\tBatch Loss: 2777.740723\n",
      "| Global Round : 5 | Local Epoch : 6 | [0/18116 (0%)]\tBatch Loss: 242.474091\n",
      "| Global Round : 5 | Local Epoch : 6 | [9088/18116 (50%)]\tBatch Loss: 2277.305420\n",
      "| Global Round : 5 | Local Epoch : 7 | [0/18116 (0%)]\tBatch Loss: 507.677948\n",
      "| Global Round : 5 | Local Epoch : 7 | [9088/18116 (50%)]\tBatch Loss: 317.562988\n",
      "| Global Round : 5 | Local Epoch : 8 | [0/18116 (0%)]\tBatch Loss: 448.138458\n",
      "| Global Round : 5 | Local Epoch : 8 | [9088/18116 (50%)]\tBatch Loss: 751.636047\n",
      "| Global Round : 5 | Local Epoch : 9 | [0/18116 (0%)]\tBatch Loss: 835.364990\n",
      "| Global Round : 5 | Local Epoch : 9 | [9088/18116 (50%)]\tBatch Loss: 1018.313904\n"
     ]
    },
    {
     "name": "stderr",
     "output_type": "stream",
     "text": [
      "100%|██████████| 5/5 [01:14<00:00, 14.89s/it]"
     ]
    },
    {
     "name": "stdout",
     "output_type": "stream",
     "text": [
      "Client 0: accuracy loss: 180.34 | fairness loss 43.20 | wrong = 0.35\n",
      "Client 1: accuracy loss: 83.49 | fairness loss 55.63 | wrong = 0.30\n",
      " \n",
      "Avg Training Stats after 5 global rounds:\n",
      "Training loss: 786.01 | Validation accuracy: 77.41% | Validation wrong: 0.3318\n"
     ]
    },
    {
     "name": "stderr",
     "output_type": "stream",
     "text": [
      "\n"
     ]
    },
    {
     "name": "stdout",
     "output_type": "stream",
     "text": [
      " \n",
      " Results after 6 global rounds of training:\n",
      "|---- Avg Train Accuracy: 77.41%\n",
      "|---- Test Accuracy: 81.15%\n",
      "|---- Test wrong: 0.2839\n",
      "\n",
      " Total Run Time: 74.9792 sec\n"
     ]
    }
   ],
   "source": [
    "train(logReg(num_features=adult_num_features, num_classes=2), adult_info,\n",
    "      \"Zafar\", penalty = 75, optimizer = 'sgd', learning_rate = 0.01, metric = \"wrong\",\n",
    "     num_rounds = 5, local_epochs = 10, mean_sensitive = adult_mean_sensitive)"
   ]
  },
  {
   "cell_type": "code",
   "execution_count": null,
   "metadata": {},
   "outputs": [],
   "source": []
  }
 ],
 "metadata": {
  "kernelspec": {
   "display_name": "Python 3",
   "language": "python",
   "name": "python3"
  },
  "language_info": {
   "codemirror_mode": {
    "name": "ipython",
    "version": 3
   },
   "file_extension": ".py",
   "mimetype": "text/x-python",
   "name": "python",
   "nbconvert_exporter": "python",
   "pygments_lexer": "ipython3",
   "version": "3.7.4"
  }
 },
 "nbformat": 4,
 "nbformat_minor": 2
}
