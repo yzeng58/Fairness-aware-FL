{
 "cells": [
  {
   "cell_type": "code",
   "execution_count": 1,
   "metadata": {},
   "outputs": [],
   "source": [
    "from Server import *\n",
    "seed = 123\n",
    "%matplotlib inline\n",
    "from functools import partial"
   ]
  },
  {
   "cell_type": "code",
   "execution_count": 2,
   "metadata": {},
   "outputs": [],
   "source": [
    "data_info = ufldataset(test_samples = 300, train_samples = 3000)"
   ]
  },
  {
   "cell_type": "code",
   "execution_count": 42,
   "metadata": {
    "scrolled": true
   },
   "outputs": [
    {
     "name": "stderr",
     "output_type": "stream",
     "text": [
      "\n",
      "\n",
      "  0%|          | 0/3 [00:00<?, ?it/s]\u001b[A\u001b[A"
     ]
    },
    {
     "name": "stdout",
     "output_type": "stream",
     "text": [
      "\n",
      " | Testing Round : 1 | constraint :  Cov(z, d) < c\n",
      "\n"
     ]
    },
    {
     "name": "stderr",
     "output_type": "stream",
     "text": [
      "\n",
      "\n",
      " 33%|███▎      | 1/3 [00:02<00:04,  2.24s/it]\u001b[A\u001b[A"
     ]
    },
    {
     "name": "stdout",
     "output_type": "stream",
     "text": [
      "Client 1: accuracy loss: 4.64 | fairness loss 3208.18 | Demographic disparity = 0.19\n",
      "Client 2: accuracy loss: 7.83 | fairness loss 319.78 | Demographic disparity = 0.16\n",
      " \n",
      "Avg Training Stats after 1 Testing rounds:\n",
      "Training loss: 28.06 | Validation accuracy: 77.67% | Validation Demographic disparity: 0.0138\n",
      "\n",
      " | Testing Round : 2 | constraint :  Cov(z, d) < c\n",
      "\n"
     ]
    },
    {
     "name": "stderr",
     "output_type": "stream",
     "text": [
      "\n",
      "\n",
      " 67%|██████▋   | 2/3 [00:04<00:02,  2.28s/it]\u001b[A\u001b[A"
     ]
    },
    {
     "name": "stdout",
     "output_type": "stream",
     "text": [
      "Client 1: accuracy loss: 4.76 | fairness loss 16872.38 | Demographic disparity = 0.21\n",
      "Client 2: accuracy loss: 8.05 | fairness loss 1517.64 | Demographic disparity = 0.14\n",
      " \n",
      "Avg Training Stats after 2 Testing rounds:\n",
      "Training loss: -2.36 | Validation accuracy: 76.67% | Validation Demographic disparity: 0.0321\n",
      "\n",
      " | Testing Round : 3 | constraint :  Cov(z, d) < c\n",
      "\n"
     ]
    },
    {
     "name": "stderr",
     "output_type": "stream",
     "text": [
      "\n",
      "\n",
      "100%|██████████| 3/3 [00:06<00:00,  2.30s/it]\u001b[A\u001b[A\n",
      "\n",
      "\n",
      "  0%|          | 0/3 [00:00<?, ?it/s]\u001b[A\u001b[A"
     ]
    },
    {
     "name": "stdout",
     "output_type": "stream",
     "text": [
      "Client 1: accuracy loss: 4.90 | fairness loss 43837.70 | Demographic disparity = 0.21\n",
      "Client 2: accuracy loss: 8.26 | fairness loss 3931.64 | Demographic disparity = 0.12\n",
      " \n",
      "Avg Training Stats after 3 Testing rounds:\n",
      "Training loss: -25.14 | Validation accuracy: 77.00% | Validation Demographic disparity: 0.0430\n",
      "\n",
      " | Testing Round : 1 | constraint :  Cov(z, d) > -c\n",
      "\n"
     ]
    },
    {
     "name": "stderr",
     "output_type": "stream",
     "text": [
      "\n",
      "\n",
      " 33%|███▎      | 1/3 [00:02<00:04,  2.31s/it]\u001b[A\u001b[A"
     ]
    },
    {
     "name": "stdout",
     "output_type": "stream",
     "text": [
      "Client 1: accuracy loss: 6.55 | fairness loss 2327.57 | Demographic disparity = 0.02\n",
      "Client 2: accuracy loss: 8.54 | fairness loss 191.36 | Demographic disparity = 0.53\n",
      " \n",
      "Avg Training Stats after 1 Testing rounds:\n",
      "Training loss: -12.42 | Validation accuracy: 76.00% | Validation Demographic disparity: 0.2514\n",
      "\n",
      " | Testing Round : 2 | constraint :  Cov(z, d) > -c\n",
      "\n"
     ]
    },
    {
     "name": "stderr",
     "output_type": "stream",
     "text": [
      "\n",
      "\n",
      " 67%|██████▋   | 2/3 [00:04<00:02,  2.34s/it]\u001b[A\u001b[A"
     ]
    },
    {
     "name": "stdout",
     "output_type": "stream",
     "text": [
      "Client 1: accuracy loss: 6.30 | fairness loss 16712.54 | Demographic disparity = 0.04\n",
      "Client 2: accuracy loss: 8.25 | fairness loss 1167.53 | Demographic disparity = 0.53\n",
      " \n",
      "Avg Training Stats after 2 Testing rounds:\n",
      "Training loss: -17.34 | Validation accuracy: 77.33% | Validation Demographic disparity: 0.2438\n",
      "\n",
      " | Testing Round : 3 | constraint :  Cov(z, d) > -c\n",
      "\n"
     ]
    },
    {
     "name": "stderr",
     "output_type": "stream",
     "text": [
      "\n",
      "\n",
      "100%|██████████| 3/3 [00:07<00:00,  2.35s/it]\u001b[A\u001b[A\n",
      "\n",
      "\n",
      "  0%|          | 0/14 [00:00<?, ?it/s]\u001b[A\u001b[A"
     ]
    },
    {
     "name": "stdout",
     "output_type": "stream",
     "text": [
      "Client 1: accuracy loss: 6.18 | fairness loss 45012.23 | Demographic disparity = 0.03\n",
      "Client 2: accuracy loss: 8.16 | fairness loss 3349.25 | Demographic disparity = 0.51\n",
      " \n",
      "Avg Training Stats after 3 Testing rounds:\n",
      "Training loss: -27.48 | Validation accuracy: 74.67% | Validation Demographic disparity: 0.2698\n",
      "\n",
      " | Global Round : 1 | constraint :  Cov(z, d) < c\n",
      "\n"
     ]
    },
    {
     "name": "stderr",
     "output_type": "stream",
     "text": [
      "\n",
      "\n",
      "  7%|▋         | 1/14 [00:02<00:31,  2.39s/it]\u001b[A\u001b[A"
     ]
    },
    {
     "name": "stdout",
     "output_type": "stream",
     "text": [
      "Client 1: accuracy loss: 5.06 | fairness loss 85211.98 | Demographic disparity = 0.21\n",
      "Client 2: accuracy loss: 8.52 | fairness loss 7677.51 | Demographic disparity = 0.11\n",
      " \n",
      "Avg Training Stats after 1 global rounds:\n",
      "Training loss: -261.22 | Validation accuracy: 77.33% | Validation Demographic disparity: 0.0467\n",
      "\n",
      " | Global Round : 2 | constraint :  Cov(z, d) < c\n",
      "\n"
     ]
    },
    {
     "name": "stderr",
     "output_type": "stream",
     "text": [
      "\n",
      "\n",
      " 14%|█▍        | 2/14 [00:04<00:28,  2.39s/it]\u001b[A\u001b[A"
     ]
    },
    {
     "name": "stdout",
     "output_type": "stream",
     "text": [
      "Client 1: accuracy loss: 5.23 | fairness loss 140804.40 | Demographic disparity = 0.21\n",
      "Client 2: accuracy loss: 8.77 | fairness loss 12724.58 | Demographic disparity = 0.11\n",
      " \n",
      "Avg Training Stats after 2 global rounds:\n",
      "Training loss: -486.58 | Validation accuracy: 77.33% | Validation Demographic disparity: 0.0467\n",
      "\n",
      " | Global Round : 3 | constraint :  Cov(z, d) < c\n",
      "\n"
     ]
    },
    {
     "name": "stderr",
     "output_type": "stream",
     "text": [
      "\n",
      "\n",
      " 21%|██▏       | 3/14 [00:07<00:25,  2.34s/it]\u001b[A\u001b[A"
     ]
    },
    {
     "name": "stdout",
     "output_type": "stream",
     "text": [
      "Client 1: accuracy loss: 5.40 | fairness loss 210727.59 | Demographic disparity = 0.21\n",
      "Client 2: accuracy loss: 9.03 | fairness loss 19080.41 | Demographic disparity = 0.10\n",
      " \n",
      "Avg Training Stats after 3 global rounds:\n",
      "Training loss: -706.38 | Validation accuracy: 78.00% | Validation Demographic disparity: 0.0537\n",
      "\n",
      " | Global Round : 4 | constraint :  Cov(z, d) < c\n",
      "\n"
     ]
    },
    {
     "name": "stderr",
     "output_type": "stream",
     "text": [
      "\n",
      "\n",
      " 29%|██▊       | 4/14 [00:09<00:23,  2.33s/it]\u001b[A\u001b[A"
     ]
    },
    {
     "name": "stdout",
     "output_type": "stream",
     "text": [
      "Client 1: accuracy loss: 5.58 | fairness loss 295064.79 | Demographic disparity = 0.22\n",
      "Client 2: accuracy loss: 9.28 | fairness loss 26750.61 | Demographic disparity = 0.10\n",
      " \n",
      "Avg Training Stats after 4 global rounds:\n",
      "Training loss: -922.32 | Validation accuracy: 78.33% | Validation Demographic disparity: 0.0573\n",
      "\n",
      " | Global Round : 5 | constraint :  Cov(z, d) < c\n",
      "\n"
     ]
    },
    {
     "name": "stderr",
     "output_type": "stream",
     "text": [
      "\n",
      "\n",
      " 36%|███▌      | 5/14 [00:11<00:20,  2.31s/it]\u001b[A\u001b[A"
     ]
    },
    {
     "name": "stdout",
     "output_type": "stream",
     "text": [
      "Client 1: accuracy loss: 5.75 | fairness loss 393882.31 | Demographic disparity = 0.22\n",
      "Client 2: accuracy loss: 9.53 | fairness loss 35739.70 | Demographic disparity = 0.10\n",
      " \n",
      "Avg Training Stats after 5 global rounds:\n",
      "Training loss: -1135.49 | Validation accuracy: 78.33% | Validation Demographic disparity: 0.0573\n",
      "\n",
      " | Global Round : 6 | constraint :  Cov(z, d) < c\n",
      "\n"
     ]
    },
    {
     "name": "stderr",
     "output_type": "stream",
     "text": [
      "\n",
      "\n",
      " 43%|████▎     | 6/14 [00:14<00:18,  2.35s/it]\u001b[A\u001b[A"
     ]
    },
    {
     "name": "stdout",
     "output_type": "stream",
     "text": [
      "Client 1: accuracy loss: 5.93 | fairness loss 507236.84 | Demographic disparity = 0.22\n",
      "Client 2: accuracy loss: 9.78 | fairness loss 46051.72 | Demographic disparity = 0.10\n",
      " \n",
      "Avg Training Stats after 6 global rounds:\n",
      "Training loss: -1346.59 | Validation accuracy: 78.33% | Validation Demographic disparity: 0.0573\n",
      "\n",
      " | Global Round : 7 | constraint :  Cov(z, d) < c\n",
      "\n"
     ]
    },
    {
     "name": "stderr",
     "output_type": "stream",
     "text": [
      "\n",
      "\n",
      " 50%|█████     | 7/14 [00:16<00:16,  2.30s/it]\u001b[A\u001b[A"
     ]
    },
    {
     "name": "stdout",
     "output_type": "stream",
     "text": [
      "Client 1: accuracy loss: 6.11 | fairness loss 635178.81 | Demographic disparity = 0.22\n",
      "Client 2: accuracy loss: 10.03 | fairness loss 57690.35 | Demographic disparity = 0.10\n",
      " \n",
      "Avg Training Stats after 7 global rounds:\n",
      "Training loss: -1556.13 | Validation accuracy: 78.33% | Validation Demographic disparity: 0.0573\n",
      "\n",
      " | Global Round : 8 | constraint :  Cov(z, d) < c\n",
      "\n"
     ]
    },
    {
     "name": "stderr",
     "output_type": "stream",
     "text": [
      "\n",
      "\n",
      " 57%|█████▋    | 8/14 [00:18<00:13,  2.23s/it]\u001b[A\u001b[A"
     ]
    },
    {
     "name": "stdout",
     "output_type": "stream",
     "text": [
      "Client 1: accuracy loss: 6.29 | fairness loss 777753.34 | Demographic disparity = 0.22\n",
      "Client 2: accuracy loss: 10.28 | fairness loss 70658.87 | Demographic disparity = 0.10\n",
      " \n",
      "Avg Training Stats after 8 global rounds:\n",
      "Training loss: -1764.45 | Validation accuracy: 78.33% | Validation Demographic disparity: 0.0573\n",
      "\n",
      " | Global Round : 9 | constraint :  Cov(z, d) < c\n",
      "\n"
     ]
    },
    {
     "name": "stderr",
     "output_type": "stream",
     "text": [
      "\n",
      "\n",
      " 64%|██████▍   | 9/14 [00:20<00:10,  2.18s/it]\u001b[A\u001b[A"
     ]
    },
    {
     "name": "stdout",
     "output_type": "stream",
     "text": [
      "Client 1: accuracy loss: 6.47 | fairness loss 935001.36 | Demographic disparity = 0.19\n",
      "Client 2: accuracy loss: 10.53 | fairness loss 84960.35 | Demographic disparity = 0.10\n",
      " \n",
      "Avg Training Stats after 9 global rounds:\n",
      "Training loss: -1971.83 | Validation accuracy: 77.00% | Validation Demographic disparity: 0.0440\n",
      "\n",
      " | Global Round : 10 | constraint :  Cov(z, d) < c\n",
      "\n"
     ]
    },
    {
     "name": "stderr",
     "output_type": "stream",
     "text": [
      "\n",
      "\n",
      " 71%|███████▏  | 10/14 [00:22<00:08,  2.20s/it]\u001b[A\u001b[A"
     ]
    },
    {
     "name": "stdout",
     "output_type": "stream",
     "text": [
      "Client 1: accuracy loss: 6.66 | fairness loss 1106962.94 | Demographic disparity = 0.18\n",
      "Client 2: accuracy loss: 10.78 | fairness loss 100597.75 | Demographic disparity = 0.10\n",
      " \n",
      "Avg Training Stats after 10 global rounds:\n",
      "Training loss: -2178.45 | Validation accuracy: 76.33% | Validation Demographic disparity: 0.0373\n",
      "\n",
      " | Global Round : 11 | constraint :  Cov(z, d) < c\n",
      "\n"
     ]
    },
    {
     "name": "stderr",
     "output_type": "stream",
     "text": [
      "\n",
      "\n",
      " 79%|███████▊  | 11/14 [00:24<00:06,  2.21s/it]\u001b[A\u001b[A"
     ]
    },
    {
     "name": "stdout",
     "output_type": "stream",
     "text": [
      "Client 1: accuracy loss: 6.84 | fairness loss 1293673.87 | Demographic disparity = 0.16\n",
      "Client 2: accuracy loss: 11.04 | fairness loss 117573.89 | Demographic disparity = 0.10\n",
      " \n",
      "Avg Training Stats after 11 global rounds:\n",
      "Training loss: -2384.47 | Validation accuracy: 75.33% | Validation Demographic disparity: 0.0273\n",
      "\n",
      " | Global Round : 12 | constraint :  Cov(z, d) < c\n",
      "\n"
     ]
    },
    {
     "name": "stderr",
     "output_type": "stream",
     "text": [
      "\n",
      "\n",
      " 86%|████████▌ | 12/14 [00:27<00:04,  2.23s/it]\u001b[A\u001b[A"
     ]
    },
    {
     "name": "stdout",
     "output_type": "stream",
     "text": [
      "Client 1: accuracy loss: 7.02 | fairness loss 1495170.39 | Demographic disparity = 0.15\n",
      "Client 2: accuracy loss: 11.29 | fairness loss 135891.55 | Demographic disparity = 0.10\n",
      " \n",
      "Avg Training Stats after 12 global rounds:\n",
      "Training loss: -2589.99 | Validation accuracy: 74.67% | Validation Demographic disparity: 0.0207\n",
      "\n",
      " | Global Round : 13 | constraint :  Cov(z, d) < c\n",
      "\n"
     ]
    },
    {
     "name": "stderr",
     "output_type": "stream",
     "text": [
      "\n",
      "\n",
      " 93%|█████████▎| 13/14 [00:29<00:02,  2.27s/it]\u001b[A\u001b[A"
     ]
    },
    {
     "name": "stdout",
     "output_type": "stream",
     "text": [
      "Client 1: accuracy loss: 7.21 | fairness loss 1711488.28 | Demographic disparity = 0.12\n",
      "Client 2: accuracy loss: 11.54 | fairness loss 155553.71 | Demographic disparity = 0.10\n",
      " \n",
      "Avg Training Stats after 13 global rounds:\n",
      "Training loss: -2795.12 | Validation accuracy: 73.67% | Validation Demographic disparity: 0.0110\n",
      "\n",
      " | Global Round : 14 | constraint :  Cov(z, d) < c\n",
      "\n"
     ]
    },
    {
     "name": "stderr",
     "output_type": "stream",
     "text": [
      "\n",
      "\n",
      "100%|██████████| 14/14 [00:31<00:00,  2.27s/it]\u001b[A\u001b[A"
     ]
    },
    {
     "name": "stdout",
     "output_type": "stream",
     "text": [
      "Client 1: accuracy loss: 7.39 | fairness loss 1942661.09 | Demographic disparity = 0.12\n",
      "Client 2: accuracy loss: 11.80 | fairness loss 176562.88 | Demographic disparity = 0.10\n",
      " \n",
      "Avg Training Stats after 14 global rounds:\n",
      "Training loss: -2999.92 | Validation accuracy: 73.00% | Validation Demographic disparity: 0.0113\n",
      " \n",
      " Results after 14 global rounds of training:\n",
      "|---- Avg Train Accuracy: 73.00%\n",
      "|---- Test Accuracy: 71.67%\n",
      "|---- Test Demographic disparity: 0.0669\n",
      "\n",
      " Total Run Time: 45.7961 sec\n"
     ]
    },
    {
     "name": "stderr",
     "output_type": "stream",
     "text": [
      "\n"
     ]
    }
   ],
   "source": [
    "server = Server(logReg(num_features=2, num_classes=2, seed = seed), data_info, train_prn = False, metric = \"Demographic disparity\", seed = seed)\n",
    "server.Zafar(num_rounds = 14, local_epochs = 30, learning_rate = 0.005, penalty = 1000)"
   ]
  },
  {
   "cell_type": "code",
   "execution_count": 43,
   "metadata": {},
   "outputs": [
    {
     "name": "stderr",
     "output_type": "stream",
     "text": [
      "\n",
      "\n",
      "  0%|          | 0/3 [00:00<?, ?it/s]\u001b[A\u001b[A"
     ]
    },
    {
     "name": "stdout",
     "output_type": "stream",
     "text": [
      "\n",
      " | Testing Round : 1 | constraint :  Cov(z, d) < c\n",
      "\n"
     ]
    },
    {
     "name": "stderr",
     "output_type": "stream",
     "text": [
      "\n",
      "\n",
      " 33%|███▎      | 1/3 [00:02<00:04,  2.18s/it]\u001b[A\u001b[A"
     ]
    },
    {
     "name": "stdout",
     "output_type": "stream",
     "text": [
      "Client 1: accuracy loss: 4.64 | fairness loss 6416.37 | Demographic disparity = 0.19\n",
      "Client 2: accuracy loss: 7.83 | fairness loss 639.56 | Demographic disparity = 0.16\n",
      " \n",
      "Avg Training Stats after 1 Testing rounds:\n",
      "Training loss: 28.06 | Validation accuracy: 77.67% | Validation Demographic disparity: 0.0138\n",
      "\n",
      " | Testing Round : 2 | constraint :  Cov(z, d) < c\n",
      "\n"
     ]
    },
    {
     "name": "stderr",
     "output_type": "stream",
     "text": [
      "\n",
      "\n",
      " 67%|██████▋   | 2/3 [00:04<00:02,  2.16s/it]\u001b[A\u001b[A"
     ]
    },
    {
     "name": "stdout",
     "output_type": "stream",
     "text": [
      "Client 1: accuracy loss: 4.76 | fairness loss 33744.76 | Demographic disparity = 0.21\n",
      "Client 2: accuracy loss: 8.05 | fairness loss 3035.27 | Demographic disparity = 0.14\n",
      " \n",
      "Avg Training Stats after 2 Testing rounds:\n",
      "Training loss: -2.36 | Validation accuracy: 76.67% | Validation Demographic disparity: 0.0321\n",
      "\n",
      " | Testing Round : 3 | constraint :  Cov(z, d) < c\n",
      "\n"
     ]
    },
    {
     "name": "stderr",
     "output_type": "stream",
     "text": [
      "\n",
      "\n",
      "100%|██████████| 3/3 [00:06<00:00,  2.16s/it]\u001b[A\u001b[A\n",
      "\n",
      "\n",
      "  0%|          | 0/3 [00:00<?, ?it/s]\u001b[A\u001b[A"
     ]
    },
    {
     "name": "stdout",
     "output_type": "stream",
     "text": [
      "Client 1: accuracy loss: 4.90 | fairness loss 87675.39 | Demographic disparity = 0.21\n",
      "Client 2: accuracy loss: 8.26 | fairness loss 7863.28 | Demographic disparity = 0.12\n",
      " \n",
      "Avg Training Stats after 3 Testing rounds:\n",
      "Training loss: -25.14 | Validation accuracy: 77.00% | Validation Demographic disparity: 0.0430\n",
      "\n",
      " | Testing Round : 1 | constraint :  Cov(z, d) > -c\n",
      "\n"
     ]
    },
    {
     "name": "stderr",
     "output_type": "stream",
     "text": [
      "\n",
      "\n",
      " 33%|███▎      | 1/3 [00:02<00:04,  2.09s/it]\u001b[A\u001b[A"
     ]
    },
    {
     "name": "stdout",
     "output_type": "stream",
     "text": [
      "Client 1: accuracy loss: 6.55 | fairness loss 4655.14 | Demographic disparity = 0.02\n",
      "Client 2: accuracy loss: 8.54 | fairness loss 382.71 | Demographic disparity = 0.53\n",
      " \n",
      "Avg Training Stats after 1 Testing rounds:\n",
      "Training loss: -12.42 | Validation accuracy: 76.00% | Validation Demographic disparity: 0.2514\n",
      "\n",
      " | Testing Round : 2 | constraint :  Cov(z, d) > -c\n",
      "\n"
     ]
    },
    {
     "name": "stderr",
     "output_type": "stream",
     "text": [
      "\n",
      "\n",
      " 67%|██████▋   | 2/3 [00:04<00:02,  2.08s/it]\u001b[A\u001b[A"
     ]
    },
    {
     "name": "stdout",
     "output_type": "stream",
     "text": [
      "Client 1: accuracy loss: 6.30 | fairness loss 33425.08 | Demographic disparity = 0.04\n",
      "Client 2: accuracy loss: 8.25 | fairness loss 2335.05 | Demographic disparity = 0.53\n",
      " \n",
      "Avg Training Stats after 2 Testing rounds:\n",
      "Training loss: -17.34 | Validation accuracy: 77.33% | Validation Demographic disparity: 0.2438\n",
      "\n",
      " | Testing Round : 3 | constraint :  Cov(z, d) > -c\n",
      "\n"
     ]
    },
    {
     "name": "stderr",
     "output_type": "stream",
     "text": [
      "\n",
      "\n",
      "100%|██████████| 3/3 [00:06<00:00,  2.08s/it]\u001b[A\u001b[A\n",
      "\n",
      "\n",
      "  0%|          | 0/14 [00:00<?, ?it/s]\u001b[A\u001b[A"
     ]
    },
    {
     "name": "stdout",
     "output_type": "stream",
     "text": [
      "Client 1: accuracy loss: 6.18 | fairness loss 90024.45 | Demographic disparity = 0.03\n",
      "Client 2: accuracy loss: 8.16 | fairness loss 6698.49 | Demographic disparity = 0.51\n",
      " \n",
      "Avg Training Stats after 3 Testing rounds:\n",
      "Training loss: -27.48 | Validation accuracy: 74.67% | Validation Demographic disparity: 0.2698\n",
      "\n",
      " | Global Round : 1 | constraint :  Cov(z, d) < c\n",
      "\n"
     ]
    },
    {
     "name": "stderr",
     "output_type": "stream",
     "text": [
      "\n",
      "\n",
      "  7%|▋         | 1/14 [00:02<00:31,  2.39s/it]\u001b[A\u001b[A"
     ]
    },
    {
     "name": "stdout",
     "output_type": "stream",
     "text": [
      "Client 1: accuracy loss: 5.06 | fairness loss 170469.91 | Demographic disparity = 0.21\n",
      "Client 2: accuracy loss: 8.52 | fairness loss 15361.36 | Demographic disparity = 0.11\n",
      " \n",
      "Avg Training Stats after 1 global rounds:\n",
      "Training loss: -507.96 | Validation accuracy: 77.33% | Validation Demographic disparity: 0.0467\n",
      "\n",
      " | Global Round : 2 | constraint :  Cov(z, d) < c\n",
      "\n"
     ]
    },
    {
     "name": "stderr",
     "output_type": "stream",
     "text": [
      "\n",
      "\n",
      " 14%|█▍        | 2/14 [00:04<00:28,  2.34s/it]\u001b[A\u001b[A"
     ]
    },
    {
     "name": "stdout",
     "output_type": "stream",
     "text": [
      "Client 1: accuracy loss: 5.23 | fairness loss 281724.86 | Demographic disparity = 0.21\n",
      "Client 2: accuracy loss: 8.78 | fairness loss 25465.50 | Demographic disparity = 0.11\n",
      " \n",
      "Avg Training Stats after 2 global rounds:\n",
      "Training loss: -968.68 | Validation accuracy: 77.33% | Validation Demographic disparity: 0.0467\n",
      "\n",
      " | Global Round : 3 | constraint :  Cov(z, d) < c\n",
      "\n"
     ]
    },
    {
     "name": "stderr",
     "output_type": "stream",
     "text": [
      "\n",
      "\n",
      " 21%|██▏       | 3/14 [00:06<00:25,  2.34s/it]\u001b[A\u001b[A"
     ]
    },
    {
     "name": "stdout",
     "output_type": "stream",
     "text": [
      "Client 1: accuracy loss: 5.40 | fairness loss 421665.49 | Demographic disparity = 0.21\n",
      "Client 2: accuracy loss: 9.03 | fairness loss 38190.87 | Demographic disparity = 0.10\n",
      " \n",
      "Avg Training Stats after 3 global rounds:\n",
      "Training loss: -1416.29 | Validation accuracy: 78.00% | Validation Demographic disparity: 0.0537\n",
      "\n",
      " | Global Round : 4 | constraint :  Cov(z, d) < c\n",
      "\n"
     ]
    },
    {
     "name": "stderr",
     "output_type": "stream",
     "text": [
      "\n",
      "\n",
      " 29%|██▊       | 4/14 [00:09<00:23,  2.31s/it]\u001b[A\u001b[A"
     ]
    },
    {
     "name": "stdout",
     "output_type": "stream",
     "text": [
      "Client 1: accuracy loss: 5.58 | fairness loss 590457.92 | Demographic disparity = 0.22\n",
      "Client 2: accuracy loss: 9.29 | fairness loss 53548.82 | Demographic disparity = 0.10\n",
      " \n",
      "Avg Training Stats after 4 global rounds:\n",
      "Training loss: -1854.77 | Validation accuracy: 78.33% | Validation Demographic disparity: 0.0573\n",
      "\n",
      " | Global Round : 5 | constraint :  Cov(z, d) < c\n",
      "\n"
     ]
    },
    {
     "name": "stderr",
     "output_type": "stream",
     "text": [
      "\n",
      "\n",
      " 36%|███▌      | 5/14 [00:11<00:20,  2.28s/it]\u001b[A\u001b[A"
     ]
    },
    {
     "name": "stdout",
     "output_type": "stream",
     "text": [
      "Client 1: accuracy loss: 5.76 | fairness loss 788236.80 | Demographic disparity = 0.22\n",
      "Client 2: accuracy loss: 9.54 | fairness loss 71548.74 | Demographic disparity = 0.10\n",
      " \n",
      "Avg Training Stats after 5 global rounds:\n",
      "Training loss: -2286.67 | Validation accuracy: 78.33% | Validation Demographic disparity: 0.0573\n",
      "\n",
      " | Global Round : 6 | constraint :  Cov(z, d) < c\n",
      "\n"
     ]
    },
    {
     "name": "stderr",
     "output_type": "stream",
     "text": [
      "\n",
      "\n",
      " 43%|████▎     | 6/14 [00:13<00:18,  2.29s/it]\u001b[A\u001b[A"
     ]
    },
    {
     "name": "stdout",
     "output_type": "stream",
     "text": [
      "Client 1: accuracy loss: 5.94 | fairness loss 1015115.36 | Demographic disparity = 0.22\n",
      "Client 2: accuracy loss: 9.79 | fairness loss 92198.79 | Demographic disparity = 0.10\n",
      " \n",
      "Avg Training Stats after 6 global rounds:\n",
      "Training loss: -2713.68 | Validation accuracy: 78.33% | Validation Demographic disparity: 0.0573\n",
      "\n",
      " | Global Round : 7 | constraint :  Cov(z, d) < c\n",
      "\n"
     ]
    },
    {
     "name": "stderr",
     "output_type": "stream",
     "text": [
      "\n",
      "\n",
      " 50%|█████     | 7/14 [00:16<00:16,  2.33s/it]\u001b[A\u001b[A"
     ]
    },
    {
     "name": "stdout",
     "output_type": "stream",
     "text": [
      "Client 1: accuracy loss: 6.12 | fairness loss 1271192.99 | Demographic disparity = 0.22\n",
      "Client 2: accuracy loss: 10.04 | fairness loss 115506.12 | Demographic disparity = 0.10\n",
      " \n",
      "Avg Training Stats after 7 global rounds:\n",
      "Training loss: -3136.97 | Validation accuracy: 78.33% | Validation Demographic disparity: 0.0573\n",
      "\n",
      " | Global Round : 8 | constraint :  Cov(z, d) < c\n",
      "\n"
     ]
    },
    {
     "name": "stderr",
     "output_type": "stream",
     "text": [
      "\n",
      "\n",
      " 57%|█████▋    | 8/14 [00:18<00:14,  2.39s/it]\u001b[A\u001b[A"
     ]
    },
    {
     "name": "stdout",
     "output_type": "stream",
     "text": [
      "Client 1: accuracy loss: 6.30 | fairness loss 1556562.10 | Demographic disparity = 0.22\n",
      "Client 2: accuracy loss: 10.30 | fairness loss 141477.64 | Demographic disparity = 0.10\n",
      " \n",
      "Avg Training Stats after 8 global rounds:\n",
      "Training loss: -3557.37 | Validation accuracy: 78.33% | Validation Demographic disparity: 0.0573\n",
      "\n",
      " | Global Round : 9 | constraint :  Cov(z, d) < c\n",
      "\n"
     ]
    },
    {
     "name": "stderr",
     "output_type": "stream",
     "text": [
      "\n",
      "\n",
      " 64%|██████▍   | 9/14 [00:21<00:11,  2.39s/it]\u001b[A\u001b[A"
     ]
    },
    {
     "name": "stdout",
     "output_type": "stream",
     "text": [
      "Client 1: accuracy loss: 6.48 | fairness loss 1871302.49 | Demographic disparity = 0.19\n",
      "Client 2: accuracy loss: 10.55 | fairness loss 170119.20 | Demographic disparity = 0.10\n",
      " \n",
      "Avg Training Stats after 9 global rounds:\n",
      "Training loss: -3975.50 | Validation accuracy: 77.00% | Validation Demographic disparity: 0.0440\n",
      "\n",
      " | Global Round : 10 | constraint :  Cov(z, d) < c\n",
      "\n"
     ]
    },
    {
     "name": "stderr",
     "output_type": "stream",
     "text": [
      "\n",
      "\n",
      " 71%|███████▏  | 10/14 [00:23<00:09,  2.37s/it]\u001b[A\u001b[A"
     ]
    },
    {
     "name": "stdout",
     "output_type": "stream",
     "text": [
      "Client 1: accuracy loss: 6.66 | fairness loss 2215495.18 | Demographic disparity = 0.18\n",
      "Client 2: accuracy loss: 10.80 | fairness loss 201437.15 | Demographic disparity = 0.10\n",
      " \n",
      "Avg Training Stats after 10 global rounds:\n",
      "Training loss: -4391.81 | Validation accuracy: 76.33% | Validation Demographic disparity: 0.0373\n",
      "\n",
      " | Global Round : 11 | constraint :  Cov(z, d) < c\n",
      "\n"
     ]
    },
    {
     "name": "stderr",
     "output_type": "stream",
     "text": [
      "\n",
      "\n",
      " 79%|███████▊  | 11/14 [00:25<00:07,  2.36s/it]\u001b[A\u001b[A"
     ]
    },
    {
     "name": "stdout",
     "output_type": "stream",
     "text": [
      "Client 1: accuracy loss: 6.85 | fairness loss 2589212.68 | Demographic disparity = 0.16\n",
      "Client 2: accuracy loss: 11.06 | fairness loss 235437.00 | Demographic disparity = 0.10\n",
      " \n",
      "Avg Training Stats after 11 global rounds:\n",
      "Training loss: -4806.67 | Validation accuracy: 75.33% | Validation Demographic disparity: 0.0273\n",
      "\n",
      " | Global Round : 12 | constraint :  Cov(z, d) < c\n",
      "\n"
     ]
    },
    {
     "name": "stderr",
     "output_type": "stream",
     "text": [
      "\n",
      "\n",
      " 86%|████████▌ | 12/14 [00:27<00:04,  2.33s/it]\u001b[A\u001b[A"
     ]
    },
    {
     "name": "stdout",
     "output_type": "stream",
     "text": [
      "Client 1: accuracy loss: 7.03 | fairness loss 2992529.76 | Demographic disparity = 0.15\n",
      "Client 2: accuracy loss: 11.31 | fairness loss 272124.82 | Demographic disparity = 0.10\n",
      " \n",
      "Avg Training Stats after 12 global rounds:\n",
      "Training loss: -5220.33 | Validation accuracy: 74.67% | Validation Demographic disparity: 0.0207\n",
      "\n",
      " | Global Round : 13 | constraint :  Cov(z, d) < c\n",
      "\n"
     ]
    },
    {
     "name": "stderr",
     "output_type": "stream",
     "text": [
      "\n",
      "\n",
      " 93%|█████████▎| 13/14 [00:30<00:02,  2.30s/it]\u001b[A\u001b[A"
     ]
    },
    {
     "name": "stdout",
     "output_type": "stream",
     "text": [
      "Client 1: accuracy loss: 7.22 | fairness loss 3425513.11 | Demographic disparity = 0.12\n",
      "Client 2: accuracy loss: 11.57 | fairness loss 311505.75 | Demographic disparity = 0.10\n",
      " \n",
      "Avg Training Stats after 13 global rounds:\n",
      "Training loss: -5633.03 | Validation accuracy: 73.67% | Validation Demographic disparity: 0.0110\n",
      "\n",
      " | Global Round : 14 | constraint :  Cov(z, d) < c\n",
      "\n"
     ]
    },
    {
     "name": "stderr",
     "output_type": "stream",
     "text": [
      "\n",
      "\n",
      "100%|██████████| 14/14 [00:32<00:00,  2.32s/it]\u001b[A\u001b[A"
     ]
    },
    {
     "name": "stdout",
     "output_type": "stream",
     "text": [
      "Client 1: accuracy loss: 7.40 | fairness loss 3888229.25 | Demographic disparity = 0.12\n",
      "Client 2: accuracy loss: 11.82 | fairness loss 353584.94 | Demographic disparity = 0.10\n",
      " \n",
      "Avg Training Stats after 14 global rounds:\n",
      "Training loss: -6044.92 | Validation accuracy: 73.00% | Validation Demographic disparity: 0.0113\n",
      " \n",
      " Results after 14 global rounds of training:\n",
      "|---- Avg Train Accuracy: 73.00%\n",
      "|---- Test Accuracy: 72.00%\n",
      "|---- Test Demographic disparity: 0.0708\n",
      "\n",
      " Total Run Time: 45.2011 sec\n"
     ]
    },
    {
     "name": "stderr",
     "output_type": "stream",
     "text": [
      "\n"
     ]
    }
   ],
   "source": [
    "server = Server(logReg(num_features=2, num_classes=2, seed = seed), data_info, train_prn = False, metric = \"Demographic disparity\", seed = seed)\n",
    "server.Zafar(num_rounds = 14, local_epochs = 30, learning_rate = 0.005, penalty = 2000)"
   ]
  },
  {
   "cell_type": "code",
   "execution_count": 44,
   "metadata": {
    "scrolled": true
   },
   "outputs": [
    {
     "name": "stderr",
     "output_type": "stream",
     "text": [
      "\n",
      "\n",
      "  0%|          | 0/3 [00:00<?, ?it/s]\u001b[A\u001b[A"
     ]
    },
    {
     "name": "stdout",
     "output_type": "stream",
     "text": [
      "\n",
      " | Testing Round : 1 | constraint :  Cov(z, d) < c\n",
      "\n"
     ]
    },
    {
     "name": "stderr",
     "output_type": "stream",
     "text": [
      "\n",
      "\n",
      " 33%|███▎      | 1/3 [00:02<00:04,  2.29s/it]\u001b[A\u001b[A"
     ]
    },
    {
     "name": "stdout",
     "output_type": "stream",
     "text": [
      "Client 1: accuracy loss: 4.64 | fairness loss 6416.37 | Demographic disparity = 0.19\n",
      "Client 2: accuracy loss: 7.83 | fairness loss 639.56 | Demographic disparity = 0.16\n",
      " \n",
      "Avg Training Stats after 1 Testing rounds:\n",
      "Training loss: 28.06 | Validation accuracy: 77.67% | Validation Demographic disparity: 0.0138\n",
      "\n",
      " | Testing Round : 2 | constraint :  Cov(z, d) < c\n",
      "\n"
     ]
    },
    {
     "name": "stderr",
     "output_type": "stream",
     "text": [
      "\n",
      "\n",
      " 67%|██████▋   | 2/3 [00:04<00:02,  2.23s/it]\u001b[A\u001b[A"
     ]
    },
    {
     "name": "stdout",
     "output_type": "stream",
     "text": [
      "Client 1: accuracy loss: 4.76 | fairness loss 33744.76 | Demographic disparity = 0.21\n",
      "Client 2: accuracy loss: 8.05 | fairness loss 3035.27 | Demographic disparity = 0.14\n",
      " \n",
      "Avg Training Stats after 2 Testing rounds:\n",
      "Training loss: -2.36 | Validation accuracy: 76.67% | Validation Demographic disparity: 0.0321\n",
      "\n",
      " | Testing Round : 3 | constraint :  Cov(z, d) < c\n",
      "\n"
     ]
    },
    {
     "name": "stderr",
     "output_type": "stream",
     "text": [
      "\n",
      "\n",
      "100%|██████████| 3/3 [00:06<00:00,  2.15s/it]\u001b[A\u001b[A\n",
      "\n",
      "\n",
      "  0%|          | 0/3 [00:00<?, ?it/s]\u001b[A\u001b[A"
     ]
    },
    {
     "name": "stdout",
     "output_type": "stream",
     "text": [
      "Client 1: accuracy loss: 4.90 | fairness loss 87675.39 | Demographic disparity = 0.21\n",
      "Client 2: accuracy loss: 8.26 | fairness loss 7863.28 | Demographic disparity = 0.12\n",
      " \n",
      "Avg Training Stats after 3 Testing rounds:\n",
      "Training loss: -25.14 | Validation accuracy: 77.00% | Validation Demographic disparity: 0.0430\n",
      "\n",
      " | Testing Round : 1 | constraint :  Cov(z, d) > -c\n",
      "\n"
     ]
    },
    {
     "name": "stderr",
     "output_type": "stream",
     "text": [
      "\n",
      "\n",
      " 33%|███▎      | 1/3 [00:02<00:04,  2.13s/it]\u001b[A\u001b[A"
     ]
    },
    {
     "name": "stdout",
     "output_type": "stream",
     "text": [
      "Client 1: accuracy loss: 6.55 | fairness loss 4655.14 | Demographic disparity = 0.02\n",
      "Client 2: accuracy loss: 8.54 | fairness loss 382.71 | Demographic disparity = 0.53\n",
      " \n",
      "Avg Training Stats after 1 Testing rounds:\n",
      "Training loss: -12.42 | Validation accuracy: 76.00% | Validation Demographic disparity: 0.2514\n",
      "\n",
      " | Testing Round : 2 | constraint :  Cov(z, d) > -c\n",
      "\n"
     ]
    },
    {
     "name": "stderr",
     "output_type": "stream",
     "text": [
      "\n",
      "\n",
      " 67%|██████▋   | 2/3 [00:04<00:02,  2.17s/it]\u001b[A\u001b[A"
     ]
    },
    {
     "name": "stdout",
     "output_type": "stream",
     "text": [
      "Client 1: accuracy loss: 6.30 | fairness loss 33425.08 | Demographic disparity = 0.04\n",
      "Client 2: accuracy loss: 8.25 | fairness loss 2335.05 | Demographic disparity = 0.53\n",
      " \n",
      "Avg Training Stats after 2 Testing rounds:\n",
      "Training loss: -17.34 | Validation accuracy: 77.33% | Validation Demographic disparity: 0.2438\n",
      "\n",
      " | Testing Round : 3 | constraint :  Cov(z, d) > -c\n",
      "\n"
     ]
    },
    {
     "name": "stderr",
     "output_type": "stream",
     "text": [
      "\n",
      "\n",
      "100%|██████████| 3/3 [00:06<00:00,  2.20s/it]\u001b[A\u001b[A\n",
      "\n",
      "\n",
      "  0%|          | 0/14 [00:00<?, ?it/s]\u001b[A\u001b[A"
     ]
    },
    {
     "name": "stdout",
     "output_type": "stream",
     "text": [
      "Client 1: accuracy loss: 6.18 | fairness loss 90024.45 | Demographic disparity = 0.03\n",
      "Client 2: accuracy loss: 8.16 | fairness loss 6698.49 | Demographic disparity = 0.51\n",
      " \n",
      "Avg Training Stats after 3 Testing rounds:\n",
      "Training loss: -27.48 | Validation accuracy: 74.67% | Validation Demographic disparity: 0.2698\n",
      "\n",
      " | Global Round : 1 | constraint :  Cov(z, d) < c\n",
      "\n"
     ]
    },
    {
     "name": "stderr",
     "output_type": "stream",
     "text": [
      "\n",
      "\n",
      "  7%|▋         | 1/14 [00:02<00:31,  2.45s/it]\u001b[A\u001b[A"
     ]
    },
    {
     "name": "stdout",
     "output_type": "stream",
     "text": [
      "Client 1: accuracy loss: 5.21 | fairness loss 282370.94 | Demographic disparity = 0.21\n",
      "Client 2: accuracy loss: 8.71 | fairness loss 25531.90 | Demographic disparity = 0.11\n",
      " \n",
      "Avg Training Stats after 1 global rounds:\n",
      "Training loss: -678.65 | Validation accuracy: 77.33% | Validation Demographic disparity: 0.0467\n",
      "\n",
      " | Global Round : 2 | constraint :  Cov(z, d) < c\n",
      "\n"
     ]
    },
    {
     "name": "stderr",
     "output_type": "stream",
     "text": [
      "\n",
      "\n",
      " 14%|█▍        | 2/14 [00:04<00:29,  2.43s/it]\u001b[A\u001b[A"
     ]
    },
    {
     "name": "stdout",
     "output_type": "stream",
     "text": [
      "Client 1: accuracy loss: 5.53 | fairness loss 591481.00 | Demographic disparity = 0.22\n",
      "Client 2: accuracy loss: 9.18 | fairness loss 53642.66 | Demographic disparity = 0.10\n",
      " \n",
      "Avg Training Stats after 2 global rounds:\n",
      "Training loss: -1367.57 | Validation accuracy: 78.33% | Validation Demographic disparity: 0.0573\n",
      "\n",
      " | Global Round : 3 | constraint :  Cov(z, d) < c\n",
      "\n"
     ]
    },
    {
     "name": "stderr",
     "output_type": "stream",
     "text": [
      "\n",
      "\n",
      " 21%|██▏       | 3/14 [00:07<00:26,  2.45s/it]\u001b[A\u001b[A"
     ]
    },
    {
     "name": "stdout",
     "output_type": "stream",
     "text": [
      "Client 1: accuracy loss: 5.87 | fairness loss 1015864.32 | Demographic disparity = 0.22\n",
      "Client 2: accuracy loss: 9.66 | fairness loss 92245.11 | Demographic disparity = 0.10\n",
      " \n",
      "Avg Training Stats after 3 global rounds:\n",
      "Training loss: -2081.77 | Validation accuracy: 78.33% | Validation Demographic disparity: 0.0573\n",
      "\n",
      " | Global Round : 4 | constraint :  Cov(z, d) < c\n",
      "\n"
     ]
    },
    {
     "name": "stderr",
     "output_type": "stream",
     "text": [
      "\n",
      "\n",
      " 29%|██▊       | 4/14 [00:09<00:24,  2.42s/it]\u001b[A\u001b[A"
     ]
    },
    {
     "name": "stdout",
     "output_type": "stream",
     "text": [
      "Client 1: accuracy loss: 6.22 | fairness loss 1556097.74 | Demographic disparity = 0.22\n",
      "Client 2: accuracy loss: 10.15 | fairness loss 141376.31 | Demographic disparity = 0.10\n",
      " \n",
      "Avg Training Stats after 4 global rounds:\n",
      "Training loss: -2813.80 | Validation accuracy: 78.33% | Validation Demographic disparity: 0.0573\n",
      "\n",
      " | Global Round : 5 | constraint :  Cov(z, d) < c\n",
      "\n"
     ]
    },
    {
     "name": "stderr",
     "output_type": "stream",
     "text": [
      "\n",
      "\n",
      " 36%|███▌      | 5/14 [00:12<00:21,  2.39s/it]\u001b[A\u001b[A"
     ]
    },
    {
     "name": "stdout",
     "output_type": "stream",
     "text": [
      "Client 1: accuracy loss: 6.57 | fairness loss 2212623.78 | Demographic disparity = 0.18\n",
      "Client 2: accuracy loss: 10.64 | fairness loss 201066.58 | Demographic disparity = 0.10\n",
      " \n",
      "Avg Training Stats after 5 global rounds:\n",
      "Training loss: -3558.87 | Validation accuracy: 76.33% | Validation Demographic disparity: 0.0373\n",
      "\n",
      " | Global Round : 6 | constraint :  Cov(z, d) < c\n",
      "\n"
     ]
    },
    {
     "name": "stderr",
     "output_type": "stream",
     "text": [
      "\n",
      "\n",
      " 43%|████▎     | 6/14 [00:14<00:19,  2.41s/it]\u001b[A\u001b[A"
     ]
    },
    {
     "name": "stdout",
     "output_type": "stream",
     "text": [
      "Client 1: accuracy loss: 6.93 | fairness loss 2985807.73 | Demographic disparity = 0.15\n",
      "Client 2: accuracy loss: 11.14 | fairness loss 271342.36 | Demographic disparity = 0.10\n",
      " \n",
      "Avg Training Stats after 6 global rounds:\n",
      "Training loss: -4313.83 | Validation accuracy: 74.67% | Validation Demographic disparity: 0.0207\n",
      "\n",
      " | Global Round : 7 | constraint :  Cov(z, d) < c\n",
      "\n"
     ]
    },
    {
     "name": "stderr",
     "output_type": "stream",
     "text": [
      "\n",
      "\n",
      " 50%|█████     | 7/14 [00:16<00:16,  2.40s/it]\u001b[A\u001b[A"
     ]
    },
    {
     "name": "stdout",
     "output_type": "stream",
     "text": [
      "Client 1: accuracy loss: 7.29 | fairness loss 3875975.24 | Demographic disparity = 0.12\n",
      "Client 2: accuracy loss: 11.64 | fairness loss 352228.17 | Demographic disparity = 0.10\n",
      " \n",
      "Avg Training Stats after 7 global rounds:\n",
      "Training loss: -5076.48 | Validation accuracy: 73.00% | Validation Demographic disparity: 0.0113\n",
      "\n",
      " | Global Round : 8 | constraint :  Cov(z, d) < c\n",
      "\n"
     ]
    },
    {
     "name": "stderr",
     "output_type": "stream",
     "text": [
      "\n",
      "\n",
      " 57%|█████▋    | 8/14 [00:19<00:14,  2.39s/it]\u001b[A\u001b[A"
     ]
    },
    {
     "name": "stdout",
     "output_type": "stream",
     "text": [
      "Client 1: accuracy loss: 7.65 | fairness loss 4883421.60 | Demographic disparity = 0.07\n",
      "Client 2: accuracy loss: 12.14 | fairness loss 443746.30 | Demographic disparity = 0.10\n",
      " \n",
      "Avg Training Stats after 8 global rounds:\n",
      "Training loss: -5845.23 | Validation accuracy: 70.67% | Validation Demographic disparity: 0.0120\n",
      "\n",
      " | Global Round : 9 | constraint :  Cov(z, d) < c\n",
      "\n"
     ]
    },
    {
     "name": "stderr",
     "output_type": "stream",
     "text": [
      "\n",
      "\n",
      " 64%|██████▍   | 9/14 [00:21<00:11,  2.35s/it]\u001b[A\u001b[A"
     ]
    },
    {
     "name": "stdout",
     "output_type": "stream",
     "text": [
      "Client 1: accuracy loss: 8.02 | fairness loss 6008419.78 | Demographic disparity = 0.03\n",
      "Client 2: accuracy loss: 12.65 | fairness loss 545917.43 | Demographic disparity = 0.10\n",
      " \n",
      "Avg Training Stats after 9 global rounds:\n",
      "Training loss: -6618.95 | Validation accuracy: 68.67% | Validation Demographic disparity: 0.0320\n",
      "\n",
      " | Global Round : 10 | constraint :  Cov(z, d) < c\n",
      "\n"
     ]
    },
    {
     "name": "stderr",
     "output_type": "stream",
     "text": [
      "\n",
      "\n",
      " 71%|███████▏  | 10/14 [00:23<00:09,  2.34s/it]\u001b[A\u001b[A"
     ]
    },
    {
     "name": "stdout",
     "output_type": "stream",
     "text": [
      "Client 1: accuracy loss: 8.38 | fairness loss 7251227.62 | Demographic disparity = 0.01\n",
      "Client 2: accuracy loss: 13.16 | fairness loss 658761.88 | Demographic disparity = 0.09\n",
      " \n",
      "Avg Training Stats after 10 global rounds:\n",
      "Training loss: -7396.76 | Validation accuracy: 66.33% | Validation Demographic disparity: 0.0480\n",
      "\n",
      " | Global Round : 11 | constraint :  Cov(z, d) < c\n",
      "\n"
     ]
    },
    {
     "name": "stderr",
     "output_type": "stream",
     "text": [
      "\n",
      "\n",
      " 79%|███████▊  | 11/14 [00:26<00:07,  2.34s/it]\u001b[A\u001b[A"
     ]
    },
    {
     "name": "stdout",
     "output_type": "stream",
     "text": [
      "Client 1: accuracy loss: 8.76 | fairness loss 8612095.15 | Demographic disparity = 0.02\n",
      "Client 2: accuracy loss: 13.67 | fairness loss 782298.97 | Demographic disparity = 0.09\n",
      " \n",
      "Avg Training Stats after 11 global rounds:\n",
      "Training loss: -8178.01 | Validation accuracy: 65.33% | Validation Demographic disparity: 0.0580\n",
      "\n",
      " | Global Round : 12 | constraint :  Cov(z, d) < c\n",
      "\n"
     ]
    },
    {
     "name": "stderr",
     "output_type": "stream",
     "text": [
      "\n",
      "\n",
      " 86%|████████▌ | 12/14 [00:28<00:04,  2.35s/it]\u001b[A\u001b[A"
     ]
    },
    {
     "name": "stdout",
     "output_type": "stream",
     "text": [
      "Client 1: accuracy loss: 9.13 | fairness loss 10091288.82 | Demographic disparity = 0.03\n",
      "Client 2: accuracy loss: 14.19 | fairness loss 916551.50 | Demographic disparity = 0.09\n",
      " \n",
      "Avg Training Stats after 12 global rounds:\n",
      "Training loss: -8962.19 | Validation accuracy: 63.67% | Validation Demographic disparity: 0.0607\n",
      "\n",
      " | Global Round : 13 | constraint :  Cov(z, d) < c\n",
      "\n"
     ]
    },
    {
     "name": "stderr",
     "output_type": "stream",
     "text": [
      "\n",
      "\n",
      " 93%|█████████▎| 13/14 [00:30<00:02,  2.34s/it]\u001b[A\u001b[A"
     ]
    },
    {
     "name": "stdout",
     "output_type": "stream",
     "text": [
      "Client 1: accuracy loss: 9.50 | fairness loss 11689047.55 | Demographic disparity = 0.02\n",
      "Client 2: accuracy loss: 14.71 | fairness loss 1061539.25 | Demographic disparity = 0.09\n",
      " \n",
      "Avg Training Stats after 13 global rounds:\n",
      "Training loss: -9748.88 | Validation accuracy: 62.00% | Validation Demographic disparity: 0.0564\n",
      "\n",
      " | Global Round : 14 | constraint :  Cov(z, d) < c\n",
      "\n"
     ]
    },
    {
     "name": "stderr",
     "output_type": "stream",
     "text": [
      "\n",
      "\n",
      "100%|██████████| 14/14 [00:33<00:00,  2.37s/it]\u001b[A\u001b[A"
     ]
    },
    {
     "name": "stdout",
     "output_type": "stream",
     "text": [
      "Client 1: accuracy loss: 9.88 | fairness loss 13405603.90 | Demographic disparity = 0.03\n",
      "Client 2: accuracy loss: 15.24 | fairness loss 1217279.27 | Demographic disparity = 0.09\n",
      " \n",
      "Avg Training Stats after 14 global rounds:\n",
      "Training loss: -10537.76 | Validation accuracy: 61.67% | Validation Demographic disparity: 0.0594\n",
      " \n",
      " Results after 14 global rounds of training:\n",
      "|---- Avg Train Accuracy: 61.67%\n",
      "|---- Test Accuracy: 65.67%\n",
      "|---- Test Demographic disparity: 0.0009\n",
      "\n",
      " Total Run Time: 46.2547 sec\n"
     ]
    },
    {
     "name": "stderr",
     "output_type": "stream",
     "text": [
      "\n"
     ]
    }
   ],
   "source": [
    "server = Server(logReg(num_features=2, num_classes=2, seed = seed), data_info, train_prn = False, metric = \"Demographic disparity\", seed = seed)\n",
    "server.Zafar(num_rounds = 14, local_epochs = 30, learning_rate = 0.01, penalty = 2000)"
   ]
  },
  {
   "cell_type": "code",
   "execution_count": 41,
   "metadata": {
    "scrolled": true
   },
   "outputs": [
    {
     "name": "stderr",
     "output_type": "stream",
     "text": [
      "\n",
      "\n",
      "  0%|          | 0/14 [00:00<?, ?it/s]\u001b[A\u001b[A"
     ]
    },
    {
     "name": "stdout",
     "output_type": "stream",
     "text": [
      "\n",
      " | Global Training Round : 1 |\n",
      "\n"
     ]
    },
    {
     "name": "stderr",
     "output_type": "stream",
     "text": [
      "\n",
      "\n",
      "  7%|▋         | 1/14 [00:02<00:28,  2.18s/it]\u001b[A\u001b[A"
     ]
    },
    {
     "name": "stdout",
     "output_type": "stream",
     "text": [
      "Client 1: predictor loss: 4.85 | adversary loss 0.54 | Demographic disparity = 0.16\n",
      "Client 2: predictor loss: 7.74 | adversary loss 0.94 | Demographic disparity = 0.22\n",
      " \n",
      "Avg Training Stats after 1 global rounds:\n",
      "Training loss: 0.55 | Validation accuracy: 78.67% | Validation Demographic disparity: 0.0265\n",
      "\n",
      " | Global Training Round : 2 |\n",
      "\n"
     ]
    },
    {
     "name": "stderr",
     "output_type": "stream",
     "text": [
      "\n",
      "\n",
      " 14%|█▍        | 2/14 [00:04<00:25,  2.16s/it]\u001b[A\u001b[A"
     ]
    },
    {
     "name": "stdout",
     "output_type": "stream",
     "text": [
      "Client 1: predictor loss: 4.81 | adversary loss 0.63 | Demographic disparity = 0.13\n",
      "Client 2: predictor loss: 7.79 | adversary loss 0.99 | Demographic disparity = 0.37\n",
      " \n",
      "Avg Training Stats after 2 global rounds:\n",
      "Training loss: 0.51 | Validation accuracy: 77.33% | Validation Demographic disparity: 0.1213\n",
      "\n",
      " | Global Training Round : 3 |\n",
      "\n"
     ]
    },
    {
     "name": "stderr",
     "output_type": "stream",
     "text": [
      "\n",
      "\n",
      " 21%|██▏       | 3/14 [00:06<00:24,  2.19s/it]\u001b[A\u001b[A"
     ]
    },
    {
     "name": "stdout",
     "output_type": "stream",
     "text": [
      "Client 1: predictor loss: 5.91 | adversary loss 0.66 | Demographic disparity = 0.02\n",
      "Client 2: predictor loss: 8.76 | adversary loss 0.91 | Demographic disparity = 0.53\n",
      " \n",
      "Avg Training Stats after 3 global rounds:\n",
      "Training loss: 0.50 | Validation accuracy: 74.67% | Validation Demographic disparity: 0.2521\n",
      "\n",
      " | Global Training Round : 4 |\n",
      "\n"
     ]
    },
    {
     "name": "stderr",
     "output_type": "stream",
     "text": [
      "\n",
      "\n",
      " 29%|██▊       | 4/14 [00:08<00:22,  2.21s/it]\u001b[A\u001b[A"
     ]
    },
    {
     "name": "stdout",
     "output_type": "stream",
     "text": [
      "Client 1: predictor loss: 4.93 | adversary loss 0.65 | Demographic disparity = 0.08\n",
      "Client 2: predictor loss: 7.94 | adversary loss 0.85 | Demographic disparity = 0.42\n",
      " \n",
      "Avg Training Stats after 4 global rounds:\n",
      "Training loss: 0.50 | Validation accuracy: 78.67% | Validation Demographic disparity: 0.1709\n",
      "\n",
      " | Global Training Round : 5 |\n",
      "\n"
     ]
    },
    {
     "name": "stderr",
     "output_type": "stream",
     "text": [
      "\n",
      "\n",
      " 36%|███▌      | 5/14 [00:11<00:19,  2.21s/it]\u001b[A\u001b[A"
     ]
    },
    {
     "name": "stdout",
     "output_type": "stream",
     "text": [
      "Client 1: predictor loss: 6.52 | adversary loss 0.69 | Demographic disparity = 0.03\n",
      "Client 2: predictor loss: 8.84 | adversary loss 0.79 | Demographic disparity = 0.53\n",
      " \n",
      "Avg Training Stats after 5 global rounds:\n",
      "Training loss: 0.51 | Validation accuracy: 74.33% | Validation Demographic disparity: 0.2761\n",
      "\n",
      " | Global Training Round : 6 |\n",
      "\n"
     ]
    },
    {
     "name": "stderr",
     "output_type": "stream",
     "text": [
      "\n",
      "\n",
      " 43%|████▎     | 6/14 [00:13<00:18,  2.26s/it]\u001b[A\u001b[A"
     ]
    },
    {
     "name": "stdout",
     "output_type": "stream",
     "text": [
      "Client 1: predictor loss: 4.84 | adversary loss 0.65 | Demographic disparity = 0.09\n",
      "Client 2: predictor loss: 7.99 | adversary loss 0.82 | Demographic disparity = 0.37\n",
      " \n",
      "Avg Training Stats after 6 global rounds:\n",
      "Training loss: 0.51 | Validation accuracy: 77.67% | Validation Demographic disparity: 0.1380\n",
      "\n",
      " | Global Training Round : 7 |\n",
      "\n"
     ]
    },
    {
     "name": "stderr",
     "output_type": "stream",
     "text": [
      "\n",
      "\n",
      " 50%|█████     | 7/14 [00:16<00:16,  2.40s/it]\u001b[A\u001b[A"
     ]
    },
    {
     "name": "stdout",
     "output_type": "stream",
     "text": [
      "Client 1: predictor loss: 6.43 | adversary loss 0.70 | Demographic disparity = 0.02\n",
      "Client 2: predictor loss: 8.98 | adversary loss 0.79 | Demographic disparity = 0.53\n",
      " \n",
      "Avg Training Stats after 7 global rounds:\n",
      "Training loss: 0.51 | Validation accuracy: 74.67% | Validation Demographic disparity: 0.2728\n",
      "\n",
      " | Global Training Round : 8 |\n",
      "\n"
     ]
    },
    {
     "name": "stderr",
     "output_type": "stream",
     "text": [
      "\n",
      "\n",
      " 57%|█████▋    | 8/14 [00:18<00:14,  2.35s/it]\u001b[A\u001b[A"
     ]
    },
    {
     "name": "stdout",
     "output_type": "stream",
     "text": [
      "Client 1: predictor loss: 4.73 | adversary loss 0.66 | Demographic disparity = 0.11\n",
      "Client 2: predictor loss: 8.09 | adversary loss 0.84 | Demographic disparity = 0.33\n",
      " \n",
      "Avg Training Stats after 8 global rounds:\n",
      "Training loss: 0.51 | Validation accuracy: 78.00% | Validation Demographic disparity: 0.1124\n",
      "\n",
      " | Global Training Round : 9 |\n",
      "\n"
     ]
    },
    {
     "name": "stderr",
     "output_type": "stream",
     "text": [
      "\n",
      "\n",
      " 64%|██████▍   | 9/14 [00:20<00:11,  2.38s/it]\u001b[A\u001b[A"
     ]
    },
    {
     "name": "stdout",
     "output_type": "stream",
     "text": [
      "Client 1: predictor loss: 6.59 | adversary loss 0.71 | Demographic disparity = 0.03\n",
      "Client 2: predictor loss: 9.16 | adversary loss 0.80 | Demographic disparity = 0.53\n",
      " \n",
      "Avg Training Stats after 9 global rounds:\n",
      "Training loss: 0.51 | Validation accuracy: 74.33% | Validation Demographic disparity: 0.2761\n",
      "\n",
      " | Global Training Round : 10 |\n",
      "\n"
     ]
    },
    {
     "name": "stderr",
     "output_type": "stream",
     "text": [
      "\n",
      "\n",
      " 71%|███████▏  | 10/14 [00:23<00:09,  2.38s/it]\u001b[A\u001b[A"
     ]
    },
    {
     "name": "stdout",
     "output_type": "stream",
     "text": [
      "Client 1: predictor loss: 4.69 | adversary loss 0.66 | Demographic disparity = 0.11\n",
      "Client 2: predictor loss: 8.18 | adversary loss 0.82 | Demographic disparity = 0.26\n",
      " \n",
      "Avg Training Stats after 10 global rounds:\n",
      "Training loss: 0.51 | Validation accuracy: 79.33% | Validation Demographic disparity: 0.0751\n",
      "\n",
      " | Global Training Round : 11 |\n",
      "\n"
     ]
    },
    {
     "name": "stderr",
     "output_type": "stream",
     "text": [
      "\n",
      "\n",
      " 79%|███████▊  | 11/14 [00:25<00:07,  2.36s/it]\u001b[A\u001b[A"
     ]
    },
    {
     "name": "stdout",
     "output_type": "stream",
     "text": [
      "Client 1: predictor loss: 6.48 | adversary loss 0.72 | Demographic disparity = 0.01\n",
      "Client 2: predictor loss: 9.36 | adversary loss 0.81 | Demographic disparity = 0.53\n",
      " \n",
      "Avg Training Stats after 11 global rounds:\n",
      "Training loss: 0.51 | Validation accuracy: 74.67% | Validation Demographic disparity: 0.2661\n",
      "\n",
      " | Global Training Round : 12 |\n",
      "\n"
     ]
    },
    {
     "name": "stderr",
     "output_type": "stream",
     "text": [
      "\n",
      "\n",
      " 86%|████████▌ | 12/14 [00:27<00:04,  2.39s/it]\u001b[A\u001b[A"
     ]
    },
    {
     "name": "stdout",
     "output_type": "stream",
     "text": [
      "Client 1: predictor loss: 4.65 | adversary loss 0.66 | Demographic disparity = 0.12\n",
      "Client 2: predictor loss: 8.24 | adversary loss 0.83 | Demographic disparity = 0.26\n",
      " \n",
      "Avg Training Stats after 12 global rounds:\n",
      "Training loss: 0.51 | Validation accuracy: 79.33% | Validation Demographic disparity: 0.0685\n",
      "\n",
      " | Global Training Round : 13 |\n",
      "\n"
     ]
    },
    {
     "name": "stderr",
     "output_type": "stream",
     "text": [
      "\n",
      "\n",
      " 93%|█████████▎| 13/14 [00:30<00:02,  2.40s/it]\u001b[A\u001b[A"
     ]
    },
    {
     "name": "stdout",
     "output_type": "stream",
     "text": [
      "Client 1: predictor loss: 6.48 | adversary loss 0.72 | Demographic disparity = 0.01\n",
      "Client 2: predictor loss: 9.39 | adversary loss 0.82 | Demographic disparity = 0.53\n",
      " \n",
      "Avg Training Stats after 13 global rounds:\n",
      "Training loss: 0.51 | Validation accuracy: 75.00% | Validation Demographic disparity: 0.2694\n",
      "\n",
      " | Global Training Round : 14 |\n",
      "\n"
     ]
    },
    {
     "name": "stderr",
     "output_type": "stream",
     "text": [
      "\n",
      "\n",
      "100%|██████████| 14/14 [00:32<00:00,  2.34s/it]\u001b[A\u001b[A"
     ]
    },
    {
     "name": "stdout",
     "output_type": "stream",
     "text": [
      "Client 1: predictor loss: 4.68 | adversary loss 0.66 | Demographic disparity = 0.11\n",
      "Client 2: predictor loss: 8.39 | adversary loss 0.81 | Demographic disparity = 0.21\n",
      " \n",
      "Avg Training Stats after 14 global rounds:\n",
      "Training loss: 0.51 | Validation accuracy: 79.00% | Validation Demographic disparity: 0.0495\n",
      " \n",
      " Results after 14 global rounds of training:\n",
      "|---- Avg Train Accuracy: 79.00%\n",
      "|---- Test Accuracy: 77.33%\n",
      "|---- Test Demographic disparity: 0.0298\n",
      "\n",
      " Total Run Time: 32.7436 sec\n"
     ]
    },
    {
     "name": "stderr",
     "output_type": "stream",
     "text": [
      "\n"
     ]
    }
   ],
   "source": [
    "server = Server(logReg(num_features=2, num_classes=2, seed = seed), data_info, train_prn = False, metric = \"Demographic disparity\", seed = seed)\n",
    "server.FTrain(num_rounds = 14, local_epochs = 30, init_epochs = 50, lr_g = 0.003, lr_d = 0.006, lambda_d = 0.81, ratio_gd = 1)"
   ]
  },
  {
   "cell_type": "code",
   "execution_count": 12,
   "metadata": {
    "scrolled": true
   },
   "outputs": [
    {
     "name": "stderr",
     "output_type": "stream",
     "text": [
      "\n",
      "\n",
      "  0%|          | 0/10 [00:00<?, ?it/s]\u001b[A\u001b[A"
     ]
    },
    {
     "name": "stdout",
     "output_type": "stream",
     "text": [
      "\n",
      " | Global Training Round : 1 |\n",
      "\n"
     ]
    },
    {
     "name": "stderr",
     "output_type": "stream",
     "text": [
      "\n",
      "\n",
      " 10%|█         | 1/10 [00:02<00:23,  2.64s/it]\u001b[A\u001b[A"
     ]
    },
    {
     "name": "stdout",
     "output_type": "stream",
     "text": [
      "Client 1: accuracy loss: 5.93 | fairness loss 112.14 | Demographic disparity = 0.16\n",
      "Client 2: accuracy loss: 8.25 | fairness loss 22.00 | Demographic disparity = 0.21\n",
      " \n",
      "Avg Training Stats after 1 global rounds:\n",
      "Training loss: 0.51 | Training accuracy: 78.67% | Training Demographic disparity: 0.0262\n",
      "\n",
      " | Global Training Round : 2 |\n",
      "\n"
     ]
    },
    {
     "name": "stderr",
     "output_type": "stream",
     "text": [
      "\n",
      "\n",
      " 20%|██        | 2/10 [00:05<00:20,  2.58s/it]\u001b[A\u001b[A"
     ]
    },
    {
     "name": "stdout",
     "output_type": "stream",
     "text": [
      "Client 1: accuracy loss: 5.83 | fairness loss 96.90 | Demographic disparity = 0.16\n",
      "Client 2: accuracy loss: 8.16 | fairness loss 19.24 | Demographic disparity = 0.21\n",
      " \n",
      "Avg Training Stats after 2 global rounds:\n",
      "Training loss: 0.48 | Training accuracy: 78.33% | Training Demographic disparity: 0.0225\n",
      "\n",
      " | Global Training Round : 3 |\n",
      "\n"
     ]
    },
    {
     "name": "stderr",
     "output_type": "stream",
     "text": [
      "\n",
      "\n",
      " 30%|███       | 3/10 [00:07<00:18,  2.59s/it]\u001b[A\u001b[A"
     ]
    },
    {
     "name": "stdout",
     "output_type": "stream",
     "text": [
      "Client 1: accuracy loss: 5.87 | fairness loss 88.19 | Demographic disparity = 0.17\n",
      "Client 2: accuracy loss: 8.21 | fairness loss 16.47 | Demographic disparity = 0.19\n",
      " \n",
      "Avg Training Stats after 3 global rounds:\n",
      "Training loss: 0.48 | Training accuracy: 78.67% | Training Demographic disparity: 0.0115\n",
      "\n",
      " | Global Training Round : 4 |\n",
      "\n"
     ]
    },
    {
     "name": "stderr",
     "output_type": "stream",
     "text": [
      "\n",
      "\n",
      " 40%|████      | 4/10 [00:10<00:15,  2.58s/it]\u001b[A\u001b[A"
     ]
    },
    {
     "name": "stdout",
     "output_type": "stream",
     "text": [
      "Client 1: accuracy loss: 5.97 | fairness loss 79.46 | Demographic disparity = 0.17\n",
      "Client 2: accuracy loss: 8.30 | fairness loss 14.00 | Demographic disparity = 0.19\n",
      " \n",
      "Avg Training Stats after 4 global rounds:\n",
      "Training loss: 0.47 | Training accuracy: 78.67% | Training Demographic disparity: 0.0115\n",
      "\n",
      " | Global Training Round : 5 |\n",
      "\n"
     ]
    },
    {
     "name": "stderr",
     "output_type": "stream",
     "text": [
      "\n",
      "\n",
      " 50%|█████     | 5/10 [00:12<00:12,  2.55s/it]\u001b[A\u001b[A"
     ]
    },
    {
     "name": "stdout",
     "output_type": "stream",
     "text": [
      "Client 1: accuracy loss: 6.10 | fairness loss 70.09 | Demographic disparity = 0.17\n",
      "Client 2: accuracy loss: 8.42 | fairness loss 11.70 | Demographic disparity = 0.19\n",
      " \n",
      "Avg Training Stats after 5 global rounds:\n",
      "Training loss: 0.47 | Training accuracy: 78.67% | Training Demographic disparity: 0.0115\n",
      "\n",
      " | Global Training Round : 6 |\n",
      "\n"
     ]
    },
    {
     "name": "stderr",
     "output_type": "stream",
     "text": [
      "\n",
      "\n",
      " 60%|██████    | 6/10 [00:15<00:10,  2.52s/it]\u001b[A\u001b[A"
     ]
    },
    {
     "name": "stdout",
     "output_type": "stream",
     "text": [
      "Client 1: accuracy loss: 6.26 | fairness loss 60.84 | Demographic disparity = 0.18\n",
      "Client 2: accuracy loss: 8.55 | fairness loss 9.63 | Demographic disparity = 0.19\n",
      " \n",
      "Avg Training Stats after 6 global rounds:\n",
      "Training loss: 0.47 | Training accuracy: 78.33% | Training Demographic disparity: 0.0082\n",
      "\n",
      " | Global Training Round : 7 |\n",
      "\n"
     ]
    },
    {
     "name": "stderr",
     "output_type": "stream",
     "text": [
      "\n",
      "\n",
      " 70%|███████   | 7/10 [00:17<00:07,  2.51s/it]\u001b[A\u001b[A"
     ]
    },
    {
     "name": "stdout",
     "output_type": "stream",
     "text": [
      "Client 1: accuracy loss: 6.43 | fairness loss 52.32 | Demographic disparity = 0.18\n",
      "Client 2: accuracy loss: 8.69 | fairness loss 7.86 | Demographic disparity = 0.19\n",
      " \n",
      "Avg Training Stats after 7 global rounds:\n",
      "Training loss: 0.47 | Training accuracy: 78.33% | Training Demographic disparity: 0.0082\n",
      "\n",
      " | Global Training Round : 8 |\n",
      "\n"
     ]
    },
    {
     "name": "stderr",
     "output_type": "stream",
     "text": [
      "\n",
      "\n",
      " 80%|████████  | 8/10 [00:20<00:04,  2.49s/it]\u001b[A\u001b[A"
     ]
    },
    {
     "name": "stdout",
     "output_type": "stream",
     "text": [
      "Client 1: accuracy loss: 6.60 | fairness loss 44.85 | Demographic disparity = 0.17\n",
      "Client 2: accuracy loss: 8.83 | fairness loss 6.42 | Demographic disparity = 0.20\n",
      " \n",
      "Avg Training Stats after 8 global rounds:\n",
      "Training loss: 0.48 | Training accuracy: 78.33% | Training Demographic disparity: 0.0155\n",
      "\n",
      " | Global Training Round : 9 |\n",
      "\n"
     ]
    },
    {
     "name": "stderr",
     "output_type": "stream",
     "text": [
      "\n",
      "\n",
      " 90%|█████████ | 9/10 [00:22<00:02,  2.50s/it]\u001b[A\u001b[A"
     ]
    },
    {
     "name": "stdout",
     "output_type": "stream",
     "text": [
      "Client 1: accuracy loss: 6.77 | fairness loss 38.49 | Demographic disparity = 0.16\n",
      "Client 2: accuracy loss: 8.95 | fairness loss 5.26 | Demographic disparity = 0.21\n",
      " \n",
      "Avg Training Stats after 9 global rounds:\n",
      "Training loss: 0.48 | Training accuracy: 78.33% | Training Demographic disparity: 0.0228\n",
      "\n",
      " | Global Training Round : 10 |\n",
      "\n"
     ]
    },
    {
     "name": "stderr",
     "output_type": "stream",
     "text": [
      "\n",
      "\n",
      "100%|██████████| 10/10 [00:25<00:00,  2.53s/it]\u001b[A\u001b[A"
     ]
    },
    {
     "name": "stdout",
     "output_type": "stream",
     "text": [
      "Client 1: accuracy loss: 6.94 | fairness loss 33.16 | Demographic disparity = 0.17\n",
      "Client 2: accuracy loss: 9.07 | fairness loss 4.35 | Demographic disparity = 0.21\n",
      " \n",
      "Avg Training Stats after 10 global rounds:\n",
      "Training loss: 0.48 | Training accuracy: 78.67% | Training Demographic disparity: 0.0195\n",
      " \n",
      " Results after 10 global rounds of training:\n",
      "|---- Avg Train Accuracy: 78.67%\n",
      "|---- Test Accuracy: 76.67%\n",
      "|---- Test Demographic disparity: 0.0371\n",
      "\n",
      " Total Run Time: 25.2955 sec\n"
     ]
    },
    {
     "name": "stderr",
     "output_type": "stream",
     "text": [
      "\n"
     ]
    }
   ],
   "source": [
    "server = Server(logReg(num_features=2, num_classes=2, seed = seed), data_info, train_prn = False, metric = \"Demographic disparity\", seed = seed)\n",
    "server.FBVariant1(num_rounds = 10, local_epochs = 30, optimizer = 'adam', learning_rate = 0.005, alpha = 0.02)\n"
   ]
  },
  {
   "cell_type": "code",
   "execution_count": 2,
   "metadata": {},
   "outputs": [],
   "source": [
    "synthetic_info = dataGenerate(seed = 745, test_samples = 300, train_samples = 600, client_split = ((.7,.1),(.2,.3),(.1,.6)))"
   ]
  },
  {
   "cell_type": "code",
   "execution_count": 3,
   "metadata": {},
   "outputs": [
    {
     "name": "stderr",
     "output_type": "stream",
     "text": [
      "  0%|          | 0/20 [00:00<?, ?it/s]\n"
     ]
    },
    {
     "name": "stdout",
     "output_type": "stream",
     "text": [
      "\n",
      " | Global Training Round : 1 |\n",
      "\n"
     ]
    },
    {
     "ename": "TypeError",
     "evalue": "'int' object is not subscriptable",
     "output_type": "error",
     "traceback": [
      "\u001b[0;31m---------------------------------------------------------------------------\u001b[0m",
      "\u001b[0;31mTypeError\u001b[0m                                 Traceback (most recent call last)",
      "\u001b[0;32m<ipython-input-3-fca6850b95a5>\u001b[0m in \u001b[0;36m<module>\u001b[0;34m\u001b[0m\n\u001b[1;32m      1\u001b[0m \u001b[0mserver\u001b[0m \u001b[0;34m=\u001b[0m \u001b[0mServer\u001b[0m\u001b[0;34m(\u001b[0m\u001b[0mlogReg\u001b[0m\u001b[0;34m(\u001b[0m\u001b[0mnum_features\u001b[0m\u001b[0;34m=\u001b[0m\u001b[0;36m3\u001b[0m\u001b[0;34m,\u001b[0m \u001b[0mnum_classes\u001b[0m\u001b[0;34m=\u001b[0m\u001b[0;36m2\u001b[0m\u001b[0;34m,\u001b[0m \u001b[0mseed\u001b[0m \u001b[0;34m=\u001b[0m \u001b[0mseed\u001b[0m\u001b[0;34m)\u001b[0m\u001b[0;34m,\u001b[0m \u001b[0msynthetic_info\u001b[0m\u001b[0;34m,\u001b[0m \u001b[0mtrain_prn\u001b[0m \u001b[0;34m=\u001b[0m \u001b[0;32mFalse\u001b[0m\u001b[0;34m,\u001b[0m \u001b[0mmetric\u001b[0m \u001b[0;34m=\u001b[0m \u001b[0;34m\"Demographic disparity\"\u001b[0m\u001b[0;34m,\u001b[0m \u001b[0mseed\u001b[0m \u001b[0;34m=\u001b[0m \u001b[0mseed\u001b[0m\u001b[0;34m)\u001b[0m\u001b[0;34m\u001b[0m\u001b[0;34m\u001b[0m\u001b[0m\n\u001b[0;32m----> 2\u001b[0;31m \u001b[0mserver\u001b[0m\u001b[0;34m.\u001b[0m\u001b[0mLocalZafar\u001b[0m\u001b[0;34m(\u001b[0m\u001b[0mnum_rounds\u001b[0m \u001b[0;34m=\u001b[0m \u001b[0;36m20\u001b[0m\u001b[0;34m,\u001b[0m \u001b[0mlocal_epochs\u001b[0m \u001b[0;34m=\u001b[0m \u001b[0;36m30\u001b[0m\u001b[0;34m,\u001b[0m \u001b[0moptimizer\u001b[0m \u001b[0;34m=\u001b[0m \u001b[0;34m'adam'\u001b[0m\u001b[0;34m,\u001b[0m \u001b[0mlearning_rate\u001b[0m \u001b[0;34m=\u001b[0m \u001b[0;36m0.0002\u001b[0m\u001b[0;34m,\u001b[0m \u001b[0mpenalty\u001b[0m \u001b[0;34m=\u001b[0m \u001b[0;36m2000\u001b[0m\u001b[0;34m)\u001b[0m\u001b[0;34m\u001b[0m\u001b[0;34m\u001b[0m\u001b[0m\n\u001b[0m\u001b[1;32m      3\u001b[0m \u001b[0;34m\u001b[0m\u001b[0m\n",
      "\u001b[0;32m~/Google Drive/办公/research/code/Fair-FedAvg/DP/Server.py\u001b[0m in \u001b[0;36mLocalZafar\u001b[0;34m(self, num_rounds, local_epochs, learning_rate, penalty, optimizer, epsilon, trace)\u001b[0m\n\u001b[1;32m    288\u001b[0m             \u001b[0;32mfor\u001b[0m \u001b[0midx\u001b[0m \u001b[0;32min\u001b[0m \u001b[0mrange\u001b[0m\u001b[0;34m(\u001b[0m\u001b[0mself\u001b[0m\u001b[0;34m.\u001b[0m\u001b[0mnum_clients\u001b[0m\u001b[0;34m)\u001b[0m\u001b[0;34m:\u001b[0m\u001b[0;34m\u001b[0m\u001b[0;34m\u001b[0m\u001b[0m\n\u001b[1;32m    289\u001b[0m                 local_model = Client(dataset=self.train_dataset, idxs=self.clients_idx[idx], \n\u001b[0;32m--> 290\u001b[0;31m                             batch_size = self.batch_size, option = \"local zafar\", seed = self.seed, prn = self.train_prn, penalty = penalty[idx], Z = self.Z)\n\u001b[0m\u001b[1;32m    291\u001b[0m \u001b[0;34m\u001b[0m\u001b[0m\n\u001b[1;32m    292\u001b[0m                 w, loss = local_model.standard_update(\n",
      "\u001b[0;31mTypeError\u001b[0m: 'int' object is not subscriptable"
     ]
    }
   ],
   "source": [
    "server = Server(logReg(num_features=3, num_classes=2, seed = seed), synthetic_info, train_prn = False, metric = \"Demographic disparity\", seed = seed)\n",
    "server.LocalZafar(num_rounds = 20, local_epochs = 30, optimizer = 'adam', learning_rate = 0.0002, penalty = 2000)\n",
    "\n"
   ]
  }
 ],
 "metadata": {
  "kernelspec": {
   "display_name": "Python 3",
   "language": "python",
   "name": "python3"
  },
  "language_info": {
   "codemirror_mode": {
    "name": "ipython",
    "version": 3
   },
   "file_extension": ".py",
   "mimetype": "text/x-python",
   "name": "python",
   "nbconvert_exporter": "python",
   "pygments_lexer": "ipython3",
   "version": "3.7.4"
  }
 },
 "nbformat": 4,
 "nbformat_minor": 2
}
