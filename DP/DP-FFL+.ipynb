{
 "cells": [
  {
   "cell_type": "code",
   "execution_count": 3,
   "metadata": {},
   "outputs": [],
   "source": [
    "from Server import *\n",
    "seed = 123"
   ]
  },
  {
   "cell_type": "code",
   "execution_count": 2,
   "metadata": {},
   "outputs": [],
   "source": [
    "synthetic_info = dataGenerate(seed = 745, test_samples = 300, train_samples = 3000, client_split = ((.7,.1),(.2,.3),(.1,.6)))"
   ]
  },
  {
   "cell_type": "code",
   "execution_count": 4,
   "metadata": {
    "scrolled": true
   },
   "outputs": [
    {
     "name": "stderr",
     "output_type": "stream",
     "text": [
      "\r",
      "  0%|          | 0/10 [00:00<?, ?it/s]"
     ]
    },
    {
     "name": "stdout",
     "output_type": "stream",
     "text": [
      "\n",
      " | Global Training Round : 1 |\n",
      "\n"
     ]
    },
    {
     "name": "stderr",
     "output_type": "stream",
     "text": [
      "\r",
      " 10%|█         | 1/10 [00:02<00:21,  2.35s/it]"
     ]
    },
    {
     "name": "stdout",
     "output_type": "stream",
     "text": [
      "Client 1: accuracy loss: 4.41 | fairness loss 118.98 | Demographic disparity = 0.83\n",
      "Client 2: accuracy loss: 2.76 | fairness loss 158.26 | Demographic disparity = 0.36\n",
      "Client 3: accuracy loss: 3.64 | fairness loss 159.67 | Demographic disparity = 0.60\n",
      " \n",
      "Avg Training Stats after 1 global rounds:\n",
      "Training loss: 0.43 | Training accuracy: 85.72% | Training Demographic disparity: 0.4794\n",
      "\n",
      " | Global Training Round : 2 |\n",
      "\n"
     ]
    },
    {
     "name": "stderr",
     "output_type": "stream",
     "text": [
      "\r",
      " 20%|██        | 2/10 [00:04<00:18,  2.31s/it]"
     ]
    },
    {
     "name": "stdout",
     "output_type": "stream",
     "text": [
      "Client 1: accuracy loss: 4.35 | fairness loss 77.73 | Demographic disparity = 0.56\n",
      "Client 2: accuracy loss: 2.99 | fairness loss 117.20 | Demographic disparity = 0.29\n",
      "Client 3: accuracy loss: 3.48 | fairness loss 109.78 | Demographic disparity = 0.51\n",
      " \n",
      "Avg Training Stats after 2 global rounds:\n",
      "Training loss: 0.42 | Training accuracy: 87.46% | Training Demographic disparity: 0.3751\n",
      "\n",
      " | Global Training Round : 3 |\n",
      "\n"
     ]
    },
    {
     "name": "stderr",
     "output_type": "stream",
     "text": [
      "\r",
      " 30%|███       | 3/10 [00:06<00:16,  2.31s/it]"
     ]
    },
    {
     "name": "stdout",
     "output_type": "stream",
     "text": [
      "Client 1: accuracy loss: 4.68 | fairness loss 49.87 | Demographic disparity = 0.52\n",
      "Client 2: accuracy loss: 3.35 | fairness loss 81.97 | Demographic disparity = 0.27\n",
      "Client 3: accuracy loss: 3.70 | fairness loss 72.73 | Demographic disparity = 0.48\n",
      " \n",
      "Avg Training Stats after 3 global rounds:\n",
      "Training loss: 0.42 | Training accuracy: 87.36% | Training Demographic disparity: 0.3367\n",
      "\n",
      " | Global Training Round : 4 |\n",
      "\n"
     ]
    },
    {
     "name": "stderr",
     "output_type": "stream",
     "text": [
      "\r",
      " 40%|████      | 4/10 [00:09<00:13,  2.30s/it]"
     ]
    },
    {
     "name": "stdout",
     "output_type": "stream",
     "text": [
      "Client 1: accuracy loss: 5.04 | fairness loss 32.15 | Demographic disparity = 0.50\n",
      "Client 2: accuracy loss: 3.70 | fairness loss 57.76 | Demographic disparity = 0.24\n",
      "Client 3: accuracy loss: 3.96 | fairness loss 49.03 | Demographic disparity = 0.38\n",
      " \n",
      "Avg Training Stats after 4 global rounds:\n",
      "Training loss: 0.42 | Training accuracy: 86.32% | Training Demographic disparity: 0.3059\n",
      "\n",
      " | Global Training Round : 5 |\n",
      "\n"
     ]
    },
    {
     "name": "stderr",
     "output_type": "stream",
     "text": [
      "\r",
      " 50%|█████     | 5/10 [00:11<00:11,  2.38s/it]"
     ]
    },
    {
     "name": "stdout",
     "output_type": "stream",
     "text": [
      "Client 1: accuracy loss: 5.41 | fairness loss 20.71 | Demographic disparity = 0.48\n",
      "Client 2: accuracy loss: 4.02 | fairness loss 41.46 | Demographic disparity = 0.23\n",
      "Client 3: accuracy loss: 4.23 | fairness loss 33.80 | Demographic disparity = 0.35\n",
      " \n",
      "Avg Training Stats after 5 global rounds:\n",
      "Training loss: 0.43 | Training accuracy: 85.74% | Training Demographic disparity: 0.2763\n",
      "\n",
      " | Global Training Round : 6 |\n",
      "\n"
     ]
    },
    {
     "name": "stderr",
     "output_type": "stream",
     "text": [
      "\r",
      " 60%|██████    | 6/10 [00:14<00:09,  2.39s/it]"
     ]
    },
    {
     "name": "stdout",
     "output_type": "stream",
     "text": [
      "Client 1: accuracy loss: 5.78 | fairness loss 13.09 | Demographic disparity = 0.44\n",
      "Client 2: accuracy loss: 4.34 | fairness loss 30.19 | Demographic disparity = 0.20\n",
      "Client 3: accuracy loss: 4.49 | fairness loss 23.63 | Demographic disparity = 0.30\n",
      " \n",
      "Avg Training Stats after 6 global rounds:\n",
      "Training loss: 0.43 | Training accuracy: 84.10% | Training Demographic disparity: 0.2422\n",
      "\n",
      " | Global Training Round : 7 |\n",
      "\n"
     ]
    },
    {
     "name": "stderr",
     "output_type": "stream",
     "text": [
      "\r",
      " 70%|███████   | 7/10 [00:16<00:07,  2.38s/it]"
     ]
    },
    {
     "name": "stdout",
     "output_type": "stream",
     "text": [
      "Client 1: accuracy loss: 6.15 | fairness loss 7.98 | Demographic disparity = 0.30\n",
      "Client 2: accuracy loss: 4.65 | fairness loss 22.34 | Demographic disparity = 0.16\n",
      "Client 3: accuracy loss: 4.76 | fairness loss 16.74 | Demographic disparity = 0.30\n",
      " \n",
      "Avg Training Stats after 7 global rounds:\n",
      "Training loss: 0.44 | Training accuracy: 82.25% | Training Demographic disparity: 0.2036\n",
      "\n",
      " | Global Training Round : 8 |\n",
      "\n"
     ]
    },
    {
     "name": "stderr",
     "output_type": "stream",
     "text": [
      "\r",
      " 80%|████████  | 8/10 [00:18<00:04,  2.37s/it]"
     ]
    },
    {
     "name": "stdout",
     "output_type": "stream",
     "text": [
      "Client 1: accuracy loss: 6.52 | fairness loss 4.65 | Demographic disparity = 0.20\n",
      "Client 2: accuracy loss: 4.95 | fairness loss 16.94 | Demographic disparity = 0.10\n",
      "Client 3: accuracy loss: 5.02 | fairness loss 12.13 | Demographic disparity = 0.23\n",
      " \n",
      "Avg Training Stats after 8 global rounds:\n",
      "Training loss: 0.44 | Training accuracy: 79.69% | Training Demographic disparity: 0.1533\n",
      "\n",
      " | Global Training Round : 9 |\n",
      "\n"
     ]
    },
    {
     "name": "stderr",
     "output_type": "stream",
     "text": [
      "\r",
      " 90%|█████████ | 9/10 [00:21<00:02,  2.60s/it]"
     ]
    },
    {
     "name": "stdout",
     "output_type": "stream",
     "text": [
      "Client 1: accuracy loss: 6.88 | fairness loss 2.62 | Demographic disparity = 0.16\n",
      "Client 2: accuracy loss: 5.24 | fairness loss 13.36 | Demographic disparity = 0.07\n",
      "Client 3: accuracy loss: 5.27 | fairness loss 9.17 | Demographic disparity = 0.19\n",
      " \n",
      "Avg Training Stats after 9 global rounds:\n",
      "Training loss: 0.45 | Training accuracy: 76.11% | Training Demographic disparity: 0.1040\n",
      "\n",
      " | Global Training Round : 10 |\n",
      "\n"
     ]
    },
    {
     "name": "stderr",
     "output_type": "stream",
     "text": [
      "100%|██████████| 10/10 [00:26<00:00,  2.65s/it]"
     ]
    },
    {
     "name": "stdout",
     "output_type": "stream",
     "text": [
      "Client 1: accuracy loss: 7.23 | fairness loss 1.57 | Demographic disparity = 0.12\n",
      "Client 2: accuracy loss: 5.52 | fairness loss 11.13 | Demographic disparity = 0.05\n",
      "Client 3: accuracy loss: 5.51 | fairness loss 7.44 | Demographic disparity = 0.02\n",
      " \n",
      "Avg Training Stats after 10 global rounds:\n",
      "Training loss: 0.45 | Training accuracy: 70.90% | Training Demographic disparity: 0.0360\n",
      " \n",
      " Results after 10 global rounds of training:\n",
      "|---- Avg Train Accuracy: 70.90%\n",
      "|---- Test Accuracy: 72.67%\n",
      "|---- Test Demographic disparity: 0.0340\n",
      "\n",
      " Total Run Time: 26.5521 sec\n"
     ]
    },
    {
     "name": "stderr",
     "output_type": "stream",
     "text": [
      "\n"
     ]
    }
   ],
   "source": [
    "server = Server(logReg(num_features=3, num_classes=2, seed = seed), synthetic_info, train_prn = False, metric = \"Demographic disparity\", seed = seed)\n",
    "server.FBVariant1(num_rounds = 10, local_epochs = 30, optimizer = 'adam', learning_rate = 0.004, alpha = 0.23)\n"
   ]
  },
  {
   "cell_type": "code",
   "execution_count": null,
   "metadata": {},
   "outputs": [],
   "source": []
  }
 ],
 "metadata": {
  "kernelspec": {
   "display_name": "Python 3",
   "language": "python",
   "name": "python3"
  },
  "language_info": {
   "codemirror_mode": {
    "name": "ipython",
    "version": 3
   },
   "file_extension": ".py",
   "mimetype": "text/x-python",
   "name": "python",
   "nbconvert_exporter": "python",
   "pygments_lexer": "ipython3",
   "version": "3.7.4"
  }
 },
 "nbformat": 4,
 "nbformat_minor": 2
}
