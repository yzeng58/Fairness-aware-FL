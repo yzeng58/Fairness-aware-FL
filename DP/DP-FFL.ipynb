{
 "cells": [
  {
   "cell_type": "code",
   "execution_count": 1,
   "metadata": {},
   "outputs": [],
   "source": [
    "from Server import *\n",
    "seed = 123"
   ]
  },
  {
   "cell_type": "code",
   "execution_count": 2,
   "metadata": {},
   "outputs": [],
   "source": [
    "data_info = ufldataset(test_samples = 300, train_samples = 3000)"
   ]
  },
  {
   "cell_type": "code",
   "execution_count": 3,
   "metadata": {
    "scrolled": true
   },
   "outputs": [
    {
     "name": "stderr",
     "output_type": "stream",
     "text": [
      "\r",
      "  0%|          | 0/10 [00:00<?, ?it/s]"
     ]
    },
    {
     "name": "stdout",
     "output_type": "stream",
     "text": [
      "\n",
      " | Global Training Round : 1 |\n",
      "\n"
     ]
    },
    {
     "name": "stderr",
     "output_type": "stream",
     "text": [
      "\r",
      " 10%|█         | 1/10 [00:02<00:22,  2.55s/it]"
     ]
    },
    {
     "name": "stdout",
     "output_type": "stream",
     "text": [
      "Client 1: accuracy loss: 10.54 | fairness loss 12.06 | Demographic disparity = 0.09\n",
      "Client 2: accuracy loss: 8.77 | fairness loss 1.45 | Demographic disparity = 0.00\n",
      " \n",
      "Avg Training Stats after 1 global rounds:\n",
      "Training loss: 85.62 | Validation accuracy: 56.33% | Validation Demographic disparity: 0.0463\n",
      "\n",
      " | Global Training Round : 2 |\n",
      "\n"
     ]
    },
    {
     "name": "stderr",
     "output_type": "stream",
     "text": [
      "\r",
      " 20%|██        | 2/10 [00:04<00:19,  2.46s/it]"
     ]
    },
    {
     "name": "stdout",
     "output_type": "stream",
     "text": [
      "Client 1: accuracy loss: 11.52 | fairness loss 4.72 | Demographic disparity = 0.00\n",
      "Client 2: accuracy loss: 8.77 | fairness loss 1.29 | Demographic disparity = 0.00\n",
      " \n",
      "Avg Training Stats after 2 global rounds:\n",
      "Training loss: 81.45 | Validation accuracy: 51.00% | Validation Demographic disparity: 0.0000\n",
      "\n",
      " | Global Training Round : 3 |\n",
      "\n"
     ]
    },
    {
     "name": "stderr",
     "output_type": "stream",
     "text": [
      "\r",
      " 30%|███       | 3/10 [00:07<00:16,  2.41s/it]"
     ]
    },
    {
     "name": "stdout",
     "output_type": "stream",
     "text": [
      "Client 1: accuracy loss: 11.52 | fairness loss 4.71 | Demographic disparity = 0.00\n",
      "Client 2: accuracy loss: 8.77 | fairness loss 1.28 | Demographic disparity = 0.00\n",
      " \n",
      "Avg Training Stats after 3 global rounds:\n",
      "Training loss: 80.10 | Validation accuracy: 51.00% | Validation Demographic disparity: 0.0000\n",
      "\n",
      " | Global Training Round : 4 |\n",
      "\n"
     ]
    },
    {
     "name": "stderr",
     "output_type": "stream",
     "text": [
      "\r",
      " 40%|████      | 4/10 [00:09<00:13,  2.33s/it]"
     ]
    },
    {
     "name": "stdout",
     "output_type": "stream",
     "text": [
      "Client 1: accuracy loss: 11.52 | fairness loss 4.71 | Demographic disparity = 0.00\n",
      "Client 2: accuracy loss: 8.77 | fairness loss 1.28 | Demographic disparity = 0.00\n",
      " \n",
      "Avg Training Stats after 4 global rounds:\n",
      "Training loss: 79.43 | Validation accuracy: 51.00% | Validation Demographic disparity: 0.0000\n",
      "\n",
      " | Global Training Round : 5 |\n",
      "\n"
     ]
    },
    {
     "name": "stderr",
     "output_type": "stream",
     "text": [
      "\r",
      " 50%|█████     | 5/10 [00:11<00:11,  2.27s/it]"
     ]
    },
    {
     "name": "stdout",
     "output_type": "stream",
     "text": [
      "Client 1: accuracy loss: 11.52 | fairness loss 4.71 | Demographic disparity = 0.00\n",
      "Client 2: accuracy loss: 8.77 | fairness loss 1.28 | Demographic disparity = 0.00\n",
      " \n",
      "Avg Training Stats after 5 global rounds:\n",
      "Training loss: 79.03 | Validation accuracy: 51.00% | Validation Demographic disparity: 0.0000\n",
      "\n",
      " | Global Training Round : 6 |\n",
      "\n"
     ]
    },
    {
     "name": "stderr",
     "output_type": "stream",
     "text": [
      "\r",
      " 60%|██████    | 6/10 [00:13<00:08,  2.23s/it]"
     ]
    },
    {
     "name": "stdout",
     "output_type": "stream",
     "text": [
      "Client 1: accuracy loss: 11.52 | fairness loss 4.71 | Demographic disparity = 0.00\n",
      "Client 2: accuracy loss: 8.77 | fairness loss 1.28 | Demographic disparity = 0.00\n",
      " \n",
      "Avg Training Stats after 6 global rounds:\n",
      "Training loss: 78.76 | Validation accuracy: 51.00% | Validation Demographic disparity: 0.0000\n",
      "\n",
      " | Global Training Round : 7 |\n",
      "\n"
     ]
    },
    {
     "name": "stderr",
     "output_type": "stream",
     "text": [
      "\r",
      " 70%|███████   | 7/10 [00:15<00:06,  2.19s/it]"
     ]
    },
    {
     "name": "stdout",
     "output_type": "stream",
     "text": [
      "Client 1: accuracy loss: 11.52 | fairness loss 4.71 | Demographic disparity = 0.00\n",
      "Client 2: accuracy loss: 8.77 | fairness loss 1.28 | Demographic disparity = 0.00\n",
      " \n",
      "Avg Training Stats after 7 global rounds:\n",
      "Training loss: 78.57 | Validation accuracy: 51.00% | Validation Demographic disparity: 0.0000\n",
      "\n",
      " | Global Training Round : 8 |\n",
      "\n"
     ]
    },
    {
     "name": "stderr",
     "output_type": "stream",
     "text": [
      "\r",
      " 80%|████████  | 8/10 [00:17<00:04,  2.17s/it]"
     ]
    },
    {
     "name": "stdout",
     "output_type": "stream",
     "text": [
      "Client 1: accuracy loss: 11.52 | fairness loss 4.71 | Demographic disparity = 0.00\n",
      "Client 2: accuracy loss: 8.77 | fairness loss 1.28 | Demographic disparity = 0.00\n",
      " \n",
      "Avg Training Stats after 8 global rounds:\n",
      "Training loss: 78.42 | Validation accuracy: 51.00% | Validation Demographic disparity: 0.0000\n",
      "\n",
      " | Global Training Round : 9 |\n",
      "\n"
     ]
    },
    {
     "name": "stderr",
     "output_type": "stream",
     "text": [
      "\r",
      " 90%|█████████ | 9/10 [00:20<00:02,  2.24s/it]"
     ]
    },
    {
     "name": "stdout",
     "output_type": "stream",
     "text": [
      "Client 1: accuracy loss: 11.52 | fairness loss 4.71 | Demographic disparity = 0.00\n",
      "Client 2: accuracy loss: 8.77 | fairness loss 1.28 | Demographic disparity = 0.00\n",
      " \n",
      "Avg Training Stats after 9 global rounds:\n",
      "Training loss: 78.31 | Validation accuracy: 51.00% | Validation Demographic disparity: 0.0000\n",
      "\n",
      " | Global Training Round : 10 |\n",
      "\n"
     ]
    },
    {
     "name": "stderr",
     "output_type": "stream",
     "text": [
      "100%|██████████| 10/10 [00:22<00:00,  2.25s/it]"
     ]
    },
    {
     "name": "stdout",
     "output_type": "stream",
     "text": [
      "Client 1: accuracy loss: 11.52 | fairness loss 4.71 | Demographic disparity = 0.00\n",
      "Client 2: accuracy loss: 8.77 | fairness loss 1.28 | Demographic disparity = 0.00\n",
      " \n",
      "Avg Training Stats after 10 global rounds:\n",
      "Training loss: 78.22 | Validation accuracy: 51.00% | Validation Demographic disparity: 0.0000\n",
      " \n",
      " Results after 10 global rounds of training:\n",
      "|---- Avg Train Accuracy: 51.00%\n",
      "|---- Test Accuracy: 58.67%\n",
      "|---- Test Demographic disparity: 0.0039\n",
      "\n",
      " Total Run Time: 22.4828 sec\n"
     ]
    },
    {
     "name": "stderr",
     "output_type": "stream",
     "text": [
      "\n"
     ]
    }
   ],
   "source": [
    "server = Server(logReg(num_features=2, num_classes=2, seed = seed), data_info, train_prn = False, metric = \"Demographic disparity\", seed = seed)\n",
    "server.LocalZafar(num_rounds = 10, local_epochs = 30, optimizer = 'adam', learning_rate = 0.01, penalty = (1000, 1000))\n"
   ]
  },
  {
   "cell_type": "code",
   "execution_count": 23,
   "metadata": {
    "scrolled": true
   },
   "outputs": [
    {
     "name": "stderr",
     "output_type": "stream",
     "text": [
      "\r",
      "  0%|          | 0/5 [00:00<?, ?it/s]"
     ]
    },
    {
     "name": "stdout",
     "output_type": "stream",
     "text": [
      "\n",
      " | Global Training Round : 1 |\n",
      "\n"
     ]
    },
    {
     "name": "stderr",
     "output_type": "stream",
     "text": [
      "\r",
      " 20%|██        | 1/5 [00:02<00:09,  2.33s/it]"
     ]
    },
    {
     "name": "stdout",
     "output_type": "stream",
     "text": [
      "Client 1: accuracy loss: 4.65 | fairness loss 474.25 | Demographic disparity = 0.16\n",
      "Client 2: accuracy loss: 7.58 | fairness loss 114.62 | Demographic disparity = 0.25\n",
      " \n",
      "Avg Training Stats after 1 global rounds:\n",
      "Training loss: 61.18 | Validation accuracy: 78.67% | Validation Demographic disparity: 0.0481\n",
      "\n",
      " | Global Training Round : 2 |\n",
      "\n"
     ]
    },
    {
     "name": "stderr",
     "output_type": "stream",
     "text": [
      "\r",
      " 40%|████      | 2/5 [00:04<00:07,  2.33s/it]"
     ]
    },
    {
     "name": "stdout",
     "output_type": "stream",
     "text": [
      "Client 1: accuracy loss: 41.59 | fairness loss 363.49 | Demographic disparity = 0.02\n",
      "Client 2: accuracy loss: 27.26 | fairness loss 407.35 | Demographic disparity = 0.53\n",
      " \n",
      "Avg Training Stats after 2 global rounds:\n",
      "Training loss: 202.73 | Validation accuracy: 26.00% | Validation Demographic disparity: 0.2528\n",
      "\n",
      " | Global Training Round : 3 |\n",
      "\n"
     ]
    },
    {
     "name": "stderr",
     "output_type": "stream",
     "text": [
      "\r",
      " 60%|██████    | 3/5 [00:07<00:04,  2.39s/it]"
     ]
    },
    {
     "name": "stdout",
     "output_type": "stream",
     "text": [
      "Client 1: accuracy loss: 14.58 | fairness loss 94.76 | Demographic disparity = 0.10\n",
      "Client 2: accuracy loss: 11.29 | fairness loss 29.82 | Demographic disparity = 0.00\n",
      " \n",
      "Avg Training Stats after 3 global rounds:\n",
      "Training loss: 178.26 | Validation accuracy: 56.00% | Validation Demographic disparity: 0.0500\n",
      "\n",
      " | Global Training Round : 4 |\n",
      "\n"
     ]
    },
    {
     "name": "stderr",
     "output_type": "stream",
     "text": [
      "\r",
      " 80%|████████  | 4/5 [00:09<00:02,  2.44s/it]"
     ]
    },
    {
     "name": "stdout",
     "output_type": "stream",
     "text": [
      "Client 1: accuracy loss: 8.32 | fairness loss 155.02 | Demographic disparity = 0.22\n",
      "Client 2: accuracy loss: 8.88 | fairness loss 42.99 | Demographic disparity = 0.00\n",
      " \n",
      "Avg Training Stats after 4 global rounds:\n",
      "Training loss: 155.19 | Validation accuracy: 70.33% | Validation Demographic disparity: 0.1094\n",
      "\n",
      " | Global Training Round : 5 |\n",
      "\n"
     ]
    },
    {
     "name": "stderr",
     "output_type": "stream",
     "text": [
      "100%|██████████| 5/5 [00:12<00:00,  2.43s/it]"
     ]
    },
    {
     "name": "stdout",
     "output_type": "stream",
     "text": [
      "Client 1: accuracy loss: 11.91 | fairness loss 38.58 | Demographic disparity = 0.04\n",
      "Client 2: accuracy loss: 9.38 | fairness loss 62.56 | Demographic disparity = 0.00\n",
      " \n",
      "Avg Training Stats after 5 global rounds:\n",
      "Training loss: 145.44 | Validation accuracy: 53.00% | Validation Demographic disparity: 0.0200\n",
      " \n",
      " Results after 5 global rounds of training:\n",
      "|---- Avg Train Accuracy: 53.00%\n",
      "|---- Test Accuracy: 59.67%\n",
      "|---- Test Demographic disparity: 0.0154\n",
      "\n",
      " Total Run Time: 12.1815 sec\n"
     ]
    },
    {
     "name": "stderr",
     "output_type": "stream",
     "text": [
      "\n"
     ]
    }
   ],
   "source": [
    "server = Server(logReg(num_features=2, num_classes=2, seed = seed), data_info, train_prn = False, metric = \"Demographic disparity\", seed = seed)\n",
    "server.LocalFT(num_rounds = 5, local_epochs = 30, init_epochs = 50, lr_g = 0.005, lr_d = 0.01, lambda_d = (0.99, 0.97), ratio_gd = 1)\n"
   ]
  },
  {
   "cell_type": "code",
   "execution_count": 5,
   "metadata": {},
   "outputs": [
    {
     "name": "stderr",
     "output_type": "stream",
     "text": [
      "\r",
      "  0%|          | 0/9 [00:00<?, ?it/s]"
     ]
    },
    {
     "name": "stdout",
     "output_type": "stream",
     "text": [
      "\n",
      " | Global Training Round : 1 |\n",
      "\n"
     ]
    },
    {
     "name": "stderr",
     "output_type": "stream",
     "text": [
      "\r",
      " 11%|█         | 1/9 [00:02<00:20,  2.52s/it]"
     ]
    },
    {
     "name": "stdout",
     "output_type": "stream",
     "text": [
      "Client 1: accuracy loss: 4.77 | fairness loss 406.41 | Demographic disparity = 0.16\n",
      "Client 2: accuracy loss: 7.62 | fairness loss 86.85 | Demographic disparity = 0.24\n",
      " \n",
      "Avg Training Stats after 1 global rounds:\n",
      "Training loss: 61.94 | Validation accuracy: 79.00% | Validation Demographic disparity: 0.0445\n",
      "\n",
      " | Global Training Round : 2 |\n",
      "\n"
     ]
    },
    {
     "name": "stderr",
     "output_type": "stream",
     "text": [
      "\r",
      " 22%|██▏       | 2/9 [00:04<00:17,  2.48s/it]"
     ]
    },
    {
     "name": "stdout",
     "output_type": "stream",
     "text": [
      "Client 1: accuracy loss: 21.07 | fairness loss 129.02 | Demographic disparity = 0.04\n",
      "Client 2: accuracy loss: 14.59 | fairness loss 103.18 | Demographic disparity = 0.53\n",
      " \n",
      "Avg Training Stats after 2 global rounds:\n",
      "Training loss: 120.12 | Validation accuracy: 29.33% | Validation Demographic disparity: 0.2833\n",
      "\n",
      " | Global Training Round : 3 |\n",
      "\n"
     ]
    },
    {
     "name": "stderr",
     "output_type": "stream",
     "text": [
      "\r",
      " 33%|███▎      | 3/9 [00:07<00:14,  2.44s/it]"
     ]
    },
    {
     "name": "stdout",
     "output_type": "stream",
     "text": [
      "Client 1: accuracy loss: 6.59 | fairness loss 101.59 | Demographic disparity = 0.21\n",
      "Client 2: accuracy loss: 7.84 | fairness loss 26.28 | Demographic disparity = 0.02\n",
      " \n",
      "Avg Training Stats after 3 global rounds:\n",
      "Training loss: 104.12 | Validation accuracy: 77.33% | Validation Demographic disparity: 0.0939\n",
      "\n",
      " | Global Training Round : 4 |\n",
      "\n"
     ]
    },
    {
     "name": "stderr",
     "output_type": "stream",
     "text": [
      "\r",
      " 44%|████▍     | 4/9 [00:09<00:12,  2.44s/it]"
     ]
    },
    {
     "name": "stdout",
     "output_type": "stream",
     "text": [
      "Client 1: accuracy loss: 13.69 | fairness loss 34.58 | Demographic disparity = 0.11\n",
      "Client 2: accuracy loss: 12.57 | fairness loss 32.79 | Demographic disparity = 0.53\n",
      " \n",
      "Avg Training Stats after 4 global rounds:\n",
      "Training loss: 110.92 | Validation accuracy: 29.67% | Validation Demographic disparity: 0.3200\n",
      "\n",
      " | Global Training Round : 5 |\n",
      "\n"
     ]
    },
    {
     "name": "stderr",
     "output_type": "stream",
     "text": [
      "\r",
      " 56%|█████▌    | 5/9 [00:12<00:09,  2.45s/it]"
     ]
    },
    {
     "name": "stdout",
     "output_type": "stream",
     "text": [
      "Client 1: accuracy loss: 8.77 | fairness loss 37.50 | Demographic disparity = 0.37\n",
      "Client 2: accuracy loss: 9.17 | fairness loss 3.46 | Demographic disparity = 0.00\n",
      " \n",
      "Avg Training Stats after 5 global rounds:\n",
      "Training loss: 106.68 | Validation accuracy: 71.00% | Validation Demographic disparity: 0.1854\n",
      "\n",
      " | Global Training Round : 6 |\n",
      "\n"
     ]
    },
    {
     "name": "stderr",
     "output_type": "stream",
     "text": [
      "\r",
      " 67%|██████▋   | 6/9 [00:14<00:07,  2.42s/it]"
     ]
    },
    {
     "name": "stdout",
     "output_type": "stream",
     "text": [
      "Client 1: accuracy loss: 5.99 | fairness loss 139.61 | Demographic disparity = 0.17\n",
      "Client 2: accuracy loss: 7.74 | fairness loss 29.19 | Demographic disparity = 0.07\n",
      " \n",
      "Avg Training Stats after 6 global rounds:\n",
      "Training loss: 100.34 | Validation accuracy: 78.67% | Validation Demographic disparity: 0.0493\n",
      "\n",
      " | Global Training Round : 7 |\n",
      "\n"
     ]
    },
    {
     "name": "stderr",
     "output_type": "stream",
     "text": [
      "\r",
      " 78%|███████▊  | 7/9 [00:16<00:04,  2.33s/it]"
     ]
    },
    {
     "name": "stdout",
     "output_type": "stream",
     "text": [
      "Client 1: accuracy loss: 8.03 | fairness loss 97.83 | Demographic disparity = 0.39\n",
      "Client 2: accuracy loss: 9.23 | fairness loss 7.15 | Demographic disparity = 0.00\n",
      " \n",
      "Avg Training Stats after 7 global rounds:\n",
      "Training loss: 98.33 | Validation accuracy: 72.00% | Validation Demographic disparity: 0.1937\n",
      "\n",
      " | Global Training Round : 8 |\n",
      "\n"
     ]
    },
    {
     "name": "stderr",
     "output_type": "stream",
     "text": [
      "\r",
      " 89%|████████▉ | 8/9 [00:19<00:02,  2.37s/it]"
     ]
    },
    {
     "name": "stdout",
     "output_type": "stream",
     "text": [
      "Client 1: accuracy loss: 7.95 | fairness loss 56.85 | Demographic disparity = 0.40\n",
      "Client 2: accuracy loss: 9.21 | fairness loss 10.15 | Demographic disparity = 0.00\n",
      " \n",
      "Avg Training Stats after 8 global rounds:\n",
      "Training loss: 96.77 | Validation accuracy: 71.33% | Validation Demographic disparity: 0.2010\n",
      "\n",
      " | Global Training Round : 9 |\n",
      "\n"
     ]
    },
    {
     "name": "stderr",
     "output_type": "stream",
     "text": [
      "100%|██████████| 9/9 [00:21<00:00,  2.42s/it]"
     ]
    },
    {
     "name": "stdout",
     "output_type": "stream",
     "text": [
      "Client 1: accuracy loss: 5.80 | fairness loss 172.91 | Demographic disparity = 0.19\n",
      "Client 2: accuracy loss: 7.80 | fairness loss 27.31 | Demographic disparity = 0.07\n",
      " \n",
      "Avg Training Stats after 9 global rounds:\n",
      "Training loss: 93.57 | Validation accuracy: 78.67% | Validation Demographic disparity: 0.0560\n",
      " \n",
      " Results after 9 global rounds of training:\n",
      "|---- Avg Train Accuracy: 78.67%\n",
      "|---- Test Accuracy: 78.00%\n",
      "|---- Test Demographic disparity: 0.0852\n",
      "\n",
      " Total Run Time: 21.7535 sec\n"
     ]
    },
    {
     "name": "stderr",
     "output_type": "stream",
     "text": [
      "\n"
     ]
    }
   ],
   "source": [
    "server = Server(logReg(num_features=2, num_classes=2, seed = seed), data_info, train_prn = False, metric = \"Demographic disparity\", seed = seed)\n",
    "server.LocalFT(num_rounds = 9, local_epochs = 30, init_epochs = 50, lr_g = 0.003, lr_d = 0.01, lambda_d = (0.99, 0.95), ratio_gd = 1)\n"
   ]
  },
  {
   "cell_type": "code",
   "execution_count": 2,
   "metadata": {},
   "outputs": [],
   "source": [
    "synthetic_info = dataGenerate(seed = 745, test_samples = 300, train_samples = 600, client_split = ((.7,.1),(.2,.3),(.1,.6)))"
   ]
  },
  {
   "cell_type": "code",
   "execution_count": 22,
   "metadata": {
    "scrolled": true
   },
   "outputs": [
    {
     "name": "stderr",
     "output_type": "stream",
     "text": [
      "\r",
      "  0%|          | 0/10 [00:00<?, ?it/s]"
     ]
    },
    {
     "name": "stdout",
     "output_type": "stream",
     "text": [
      "\n",
      " | Global Training Round : 1 |\n",
      "\n"
     ]
    },
    {
     "name": "stderr",
     "output_type": "stream",
     "text": [
      "\r",
      " 10%|█         | 1/10 [00:00<00:04,  1.86it/s]"
     ]
    },
    {
     "name": "stdout",
     "output_type": "stream",
     "text": [
      "Client 1: accuracy loss: 7.82 | fairness loss 7.78 | Demographic disparity = 0.26\n",
      "Client 2: accuracy loss: 7.35 | fairness loss 120.83 | Demographic disparity = 0.13\n",
      "Client 3: accuracy loss: 9.89 | fairness loss 44.58 | Demographic disparity = 0.15\n",
      " \n",
      "Avg Training Stats after 1 global rounds:\n",
      "Training loss: 281.42 | Validation accuracy: 32.94% | Validation Demographic disparity: 0.1292\n",
      "\n",
      " | Global Training Round : 2 |\n",
      "\n"
     ]
    },
    {
     "name": "stderr",
     "output_type": "stream",
     "text": [
      "\r",
      " 20%|██        | 2/10 [00:01<00:04,  1.76it/s]"
     ]
    },
    {
     "name": "stdout",
     "output_type": "stream",
     "text": [
      "Client 1: accuracy loss: 5.75 | fairness loss 2.75 | Demographic disparity = 0.00\n",
      "Client 2: accuracy loss: 5.62 | fairness loss 33.05 | Demographic disparity = 0.33\n",
      "Client 3: accuracy loss: 7.06 | fairness loss 9.13 | Demographic disparity = 0.00\n",
      " \n",
      "Avg Training Stats after 2 global rounds:\n",
      "Training loss: 198.42 | Validation accuracy: 52.11% | Validation Demographic disparity: 0.4658\n",
      "\n",
      " | Global Training Round : 3 |\n",
      "\n"
     ]
    },
    {
     "name": "stderr",
     "output_type": "stream",
     "text": [
      "\r",
      " 30%|███       | 3/10 [00:02<00:04,  1.48it/s]"
     ]
    },
    {
     "name": "stdout",
     "output_type": "stream",
     "text": [
      "Client 1: accuracy loss: 5.33 | fairness loss 2.87 | Demographic disparity = 0.96\n",
      "Client 2: accuracy loss: 5.13 | fairness loss 5.31 | Demographic disparity = 0.20\n",
      "Client 3: accuracy loss: 6.08 | fairness loss 3.28 | Demographic disparity = 0.00\n",
      " \n",
      "Avg Training Stats after 3 global rounds:\n",
      "Training loss: 154.77 | Validation accuracy: 53.35% | Validation Demographic disparity: 0.4754\n",
      "\n",
      " | Global Training Round : 4 |\n",
      "\n"
     ]
    },
    {
     "name": "stderr",
     "output_type": "stream",
     "text": [
      "\r",
      " 40%|████      | 4/10 [00:02<00:03,  1.52it/s]"
     ]
    },
    {
     "name": "stdout",
     "output_type": "stream",
     "text": [
      "Client 1: accuracy loss: 5.28 | fairness loss 2.93 | Demographic disparity = 0.96\n",
      "Client 2: accuracy loss: 5.18 | fairness loss 0.79 | Demographic disparity = 0.00\n",
      "Client 3: accuracy loss: 6.01 | fairness loss 3.07 | Demographic disparity = 0.00\n",
      " \n",
      "Avg Training Stats after 4 global rounds:\n",
      "Training loss: 131.20 | Validation accuracy: 55.57% | Validation Demographic disparity: 0.4262\n",
      "\n",
      " | Global Training Round : 5 |\n",
      "\n"
     ]
    },
    {
     "name": "stderr",
     "output_type": "stream",
     "text": [
      "\r",
      " 50%|█████     | 5/10 [00:03<00:03,  1.55it/s]"
     ]
    },
    {
     "name": "stdout",
     "output_type": "stream",
     "text": [
      "Client 1: accuracy loss: 5.21 | fairness loss 3.08 | Demographic disparity = 0.00\n",
      "Client 2: accuracy loss: 5.17 | fairness loss 0.25 | Demographic disparity = 0.00\n",
      "Client 3: accuracy loss: 5.97 | fairness loss 3.29 | Demographic disparity = 0.00\n",
      " \n",
      "Avg Training Stats after 5 global rounds:\n",
      "Training loss: 116.76 | Validation accuracy: 54.33% | Validation Demographic disparity: 0.3838\n",
      "\n",
      " | Global Training Round : 6 |\n",
      "\n"
     ]
    },
    {
     "name": "stderr",
     "output_type": "stream",
     "text": [
      "\r",
      " 60%|██████    | 6/10 [00:03<00:02,  1.63it/s]"
     ]
    },
    {
     "name": "stdout",
     "output_type": "stream",
     "text": [
      "Client 1: accuracy loss: 5.17 | fairness loss 3.31 | Demographic disparity = 0.00\n",
      "Client 2: accuracy loss: 5.15 | fairness loss 0.22 | Demographic disparity = 0.00\n",
      "Client 3: accuracy loss: 5.94 | fairness loss 3.51 | Demographic disparity = 0.00\n",
      " \n",
      "Avg Training Stats after 6 global rounds:\n",
      "Training loss: 107.06 | Validation accuracy: 54.33% | Validation Demographic disparity: 0.3838\n",
      "\n",
      " | Global Training Round : 7 |\n",
      "\n"
     ]
    },
    {
     "name": "stderr",
     "output_type": "stream",
     "text": [
      "\r",
      " 70%|███████   | 7/10 [00:04<00:01,  1.67it/s]"
     ]
    },
    {
     "name": "stdout",
     "output_type": "stream",
     "text": [
      "Client 1: accuracy loss: 5.15 | fairness loss 3.40 | Demographic disparity = 0.00\n",
      "Client 2: accuracy loss: 5.15 | fairness loss 0.21 | Demographic disparity = 0.07\n",
      "Client 3: accuracy loss: 5.94 | fairness loss 3.60 | Demographic disparity = 0.00\n",
      " \n",
      "Avg Training Stats after 7 global rounds:\n",
      "Training loss: 100.11 | Validation accuracy: 56.56% | Validation Demographic disparity: 0.4002\n",
      "\n",
      " | Global Training Round : 8 |\n",
      "\n"
     ]
    },
    {
     "name": "stderr",
     "output_type": "stream",
     "text": [
      "\r",
      " 80%|████████  | 8/10 [00:04<00:01,  1.74it/s]"
     ]
    },
    {
     "name": "stdout",
     "output_type": "stream",
     "text": [
      "Client 1: accuracy loss: 5.14 | fairness loss 3.43 | Demographic disparity = 0.00\n",
      "Client 2: accuracy loss: 5.15 | fairness loss 0.21 | Demographic disparity = 0.07\n",
      "Client 3: accuracy loss: 5.93 | fairness loss 3.63 | Demographic disparity = 0.00\n",
      " \n",
      "Avg Training Stats after 8 global rounds:\n",
      "Training loss: 94.89 | Validation accuracy: 56.56% | Validation Demographic disparity: 0.4002\n",
      "\n",
      " | Global Training Round : 9 |\n",
      "\n"
     ]
    },
    {
     "name": "stderr",
     "output_type": "stream",
     "text": [
      "\r",
      " 90%|█████████ | 9/10 [00:05<00:00,  1.80it/s]"
     ]
    },
    {
     "name": "stdout",
     "output_type": "stream",
     "text": [
      "Client 1: accuracy loss: 5.14 | fairness loss 3.44 | Demographic disparity = 0.00\n",
      "Client 2: accuracy loss: 5.15 | fairness loss 0.21 | Demographic disparity = 0.07\n",
      "Client 3: accuracy loss: 5.93 | fairness loss 3.65 | Demographic disparity = 0.00\n",
      " \n",
      "Avg Training Stats after 9 global rounds:\n",
      "Training loss: 90.83 | Validation accuracy: 56.56% | Validation Demographic disparity: 0.4002\n",
      "\n",
      " | Global Training Round : 10 |\n",
      "\n"
     ]
    },
    {
     "name": "stderr",
     "output_type": "stream",
     "text": [
      "100%|██████████| 10/10 [00:06<00:00,  1.66it/s]"
     ]
    },
    {
     "name": "stdout",
     "output_type": "stream",
     "text": [
      "Client 1: accuracy loss: 5.14 | fairness loss 3.45 | Demographic disparity = 0.00\n",
      "Client 2: accuracy loss: 5.15 | fairness loss 0.21 | Demographic disparity = 0.07\n",
      "Client 3: accuracy loss: 5.93 | fairness loss 3.65 | Demographic disparity = 0.00\n",
      " \n",
      "Avg Training Stats after 10 global rounds:\n",
      "Training loss: 87.58 | Validation accuracy: 56.56% | Validation Demographic disparity: 0.4002\n",
      " \n",
      " Results after 10 global rounds of training:\n",
      "|---- Avg Train Accuracy: 56.56%\n",
      "|---- Test Accuracy: 42.33%\n",
      "|---- Test Demographic disparity: 0.0033\n",
      "\n",
      " Total Run Time: 6.0554 sec\n"
     ]
    },
    {
     "name": "stderr",
     "output_type": "stream",
     "text": [
      "\n"
     ]
    }
   ],
   "source": [
    "server = Server(logReg(num_features=3, num_classes=2, seed = seed), synthetic_info, train_prn = False, metric = \"Demographic disparity\", seed = seed)\n",
    "server.LocalZafar(num_rounds = 10, local_epochs = 30, optimizer = 'adam', learning_rate = 0.004, penalty = (1400,1500,600))\n",
    "\n",
    "\n"
   ]
  },
  {
   "cell_type": "code",
   "execution_count": 19,
   "metadata": {
    "scrolled": true
   },
   "outputs": [
    {
     "name": "stderr",
     "output_type": "stream",
     "text": [
      "\r",
      "  0%|          | 0/10 [00:00<?, ?it/s]"
     ]
    },
    {
     "name": "stdout",
     "output_type": "stream",
     "text": [
      "\n",
      " | Global Training Round : 1 |\n",
      "\n"
     ]
    },
    {
     "name": "stderr",
     "output_type": "stream",
     "text": [
      "\r",
      " 10%|█         | 1/10 [00:00<00:05,  1.72it/s]"
     ]
    },
    {
     "name": "stdout",
     "output_type": "stream",
     "text": [
      "Client 1: accuracy loss: 5.71 | fairness loss 148.00 | Demographic disparity = 0.93\n",
      "Client 2: accuracy loss: 4.44 | fairness loss 311.29 | Demographic disparity = 0.80\n",
      "Client 3: accuracy loss: 6.49 | fairness loss 414.32 | Demographic disparity = 0.57\n",
      " \n",
      "Avg Training Stats after 1 global rounds:\n",
      "Training loss: 13.00 | Validation accuracy: 72.93% | Validation Demographic disparity: 0.6885\n",
      "\n",
      " | Global Training Round : 2 |\n",
      "\n"
     ]
    },
    {
     "name": "stderr",
     "output_type": "stream",
     "text": [
      "\r",
      " 20%|██        | 2/10 [00:01<00:04,  1.79it/s]"
     ]
    },
    {
     "name": "stdout",
     "output_type": "stream",
     "text": [
      "Client 1: accuracy loss: 4.52 | fairness loss 182.39 | Demographic disparity = 0.96\n",
      "Client 2: accuracy loss: 2.96 | fairness loss 305.25 | Demographic disparity = 0.80\n",
      "Client 3: accuracy loss: 4.55 | fairness loss 497.26 | Demographic disparity = 0.63\n",
      " \n",
      "Avg Training Stats after 2 global rounds:\n",
      "Training loss: 11.26 | Validation accuracy: 77.67% | Validation Demographic disparity: 0.6789\n",
      "\n",
      " | Global Training Round : 3 |\n",
      "\n"
     ]
    },
    {
     "name": "stderr",
     "output_type": "stream",
     "text": [
      "\r",
      " 30%|███       | 3/10 [00:01<00:03,  1.81it/s]"
     ]
    },
    {
     "name": "stdout",
     "output_type": "stream",
     "text": [
      "Client 1: accuracy loss: 4.73 | fairness loss 91.55 | Demographic disparity = 0.96\n",
      "Client 2: accuracy loss: 3.64 | fairness loss 157.89 | Demographic disparity = 0.80\n",
      "Client 3: accuracy loss: 4.74 | fairness loss 265.42 | Demographic disparity = 0.63\n",
      " \n",
      "Avg Training Stats after 3 global rounds:\n",
      "Training loss: 10.95 | Validation accuracy: 77.67% | Validation Demographic disparity: 0.6789\n",
      "\n",
      " | Global Training Round : 4 |\n",
      "\n"
     ]
    },
    {
     "name": "stderr",
     "output_type": "stream",
     "text": [
      "\r",
      " 40%|████      | 4/10 [00:02<00:03,  1.83it/s]"
     ]
    },
    {
     "name": "stdout",
     "output_type": "stream",
     "text": [
      "Client 1: accuracy loss: 5.42 | fairness loss 48.31 | Demographic disparity = 0.96\n",
      "Client 2: accuracy loss: 4.58 | fairness loss 78.85 | Demographic disparity = 0.53\n",
      "Client 3: accuracy loss: 5.79 | fairness loss 161.50 | Demographic disparity = 0.63\n",
      " \n",
      "Avg Training Stats after 4 global rounds:\n",
      "Training loss: 11.30 | Validation accuracy: 75.45% | Validation Demographic disparity: 0.6365\n",
      "\n",
      " | Global Training Round : 5 |\n",
      "\n"
     ]
    },
    {
     "name": "stderr",
     "output_type": "stream",
     "text": [
      "\r",
      " 50%|█████     | 5/10 [00:02<00:02,  1.70it/s]"
     ]
    },
    {
     "name": "stdout",
     "output_type": "stream",
     "text": [
      "Client 1: accuracy loss: 6.02 | fairness loss 52.57 | Demographic disparity = 0.07\n",
      "Client 2: accuracy loss: 5.27 | fairness loss 69.50 | Demographic disparity = 0.27\n",
      "Client 3: accuracy loss: 7.11 | fairness loss 187.66 | Demographic disparity = 0.21\n",
      " \n",
      "Avg Training Stats after 5 global rounds:\n",
      "Training loss: 11.89 | Validation accuracy: 51.98% | Validation Demographic disparity: 0.1794\n",
      "\n",
      " | Global Training Round : 6 |\n",
      "\n"
     ]
    },
    {
     "name": "stderr",
     "output_type": "stream",
     "text": [
      "\r",
      " 60%|██████    | 6/10 [00:03<00:02,  1.76it/s]"
     ]
    },
    {
     "name": "stdout",
     "output_type": "stream",
     "text": [
      "Client 1: accuracy loss: 5.62 | fairness loss 80.72 | Demographic disparity = 0.00\n",
      "Client 2: accuracy loss: 4.97 | fairness loss 100.80 | Demographic disparity = 0.27\n",
      "Client 3: accuracy loss: 6.67 | fairness loss 265.47 | Demographic disparity = 0.05\n",
      " \n",
      "Avg Training Stats after 6 global rounds:\n",
      "Training loss: 12.14 | Validation accuracy: 59.71% | Validation Demographic disparity: 0.0849\n",
      "\n",
      " | Global Training Round : 7 |\n",
      "\n"
     ]
    },
    {
     "name": "stderr",
     "output_type": "stream",
     "text": [
      "\r",
      " 70%|███████   | 7/10 [00:03<00:01,  1.82it/s]"
     ]
    },
    {
     "name": "stdout",
     "output_type": "stream",
     "text": [
      "Client 1: accuracy loss: 5.30 | fairness loss 97.03 | Demographic disparity = 0.00\n",
      "Client 2: accuracy loss: 4.72 | fairness loss 118.91 | Demographic disparity = 0.00\n",
      "Client 3: accuracy loss: 6.30 | fairness loss 311.81 | Demographic disparity = 0.00\n",
      " \n",
      "Avg Training Stats after 7 global rounds:\n",
      "Training loss: 12.21 | Validation accuracy: 59.25% | Validation Demographic disparity: 0.0000\n",
      "\n",
      " | Global Training Round : 8 |\n",
      "\n"
     ]
    },
    {
     "name": "stderr",
     "output_type": "stream",
     "text": [
      "\r",
      " 80%|████████  | 8/10 [00:04<00:01,  1.85it/s]"
     ]
    },
    {
     "name": "stdout",
     "output_type": "stream",
     "text": [
      "Client 1: accuracy loss: 5.05 | fairness loss 109.53 | Demographic disparity = 0.00\n",
      "Client 2: accuracy loss: 4.51 | fairness loss 132.57 | Demographic disparity = 0.00\n",
      "Client 3: accuracy loss: 5.96 | fairness loss 348.63 | Demographic disparity = 0.05\n",
      " \n",
      "Avg Training Stats after 8 global rounds:\n",
      "Training loss: 12.19 | Validation accuracy: 61.00% | Validation Demographic disparity: 0.0424\n",
      "\n",
      " | Global Training Round : 9 |\n",
      "\n"
     ]
    },
    {
     "name": "stderr",
     "output_type": "stream",
     "text": [
      "\r",
      " 90%|█████████ | 9/10 [00:04<00:00,  1.89it/s]"
     ]
    },
    {
     "name": "stdout",
     "output_type": "stream",
     "text": [
      "Client 1: accuracy loss: 4.86 | fairness loss 120.14 | Demographic disparity = 0.00\n",
      "Client 2: accuracy loss: 4.35 | fairness loss 143.91 | Demographic disparity = 0.00\n",
      "Client 3: accuracy loss: 5.69 | fairness loss 380.92 | Demographic disparity = 0.05\n",
      " \n",
      "Avg Training Stats after 9 global rounds:\n",
      "Training loss: 12.12 | Validation accuracy: 61.00% | Validation Demographic disparity: 0.0424\n",
      "\n",
      " | Global Training Round : 10 |\n",
      "\n"
     ]
    },
    {
     "name": "stderr",
     "output_type": "stream",
     "text": [
      "100%|██████████| 10/10 [00:05<00:00,  1.82it/s]"
     ]
    },
    {
     "name": "stdout",
     "output_type": "stream",
     "text": [
      "Client 1: accuracy loss: 4.71 | fairness loss 129.69 | Demographic disparity = 0.00\n",
      "Client 2: accuracy loss: 4.21 | fairness loss 153.80 | Demographic disparity = 0.00\n",
      "Client 3: accuracy loss: 5.47 | fairness loss 410.68 | Demographic disparity = 0.11\n",
      " \n",
      "Avg Training Stats after 10 global rounds:\n",
      "Training loss: 12.02 | Validation accuracy: 62.76% | Validation Demographic disparity: 0.0849\n",
      " \n",
      " Results after 10 global rounds of training:\n",
      "|---- Avg Train Accuracy: 62.76%\n",
      "|---- Test Accuracy: 62.33%\n",
      "|---- Test Demographic disparity: 0.0443\n",
      "\n",
      " Total Run Time: 5.5211 sec\n"
     ]
    },
    {
     "name": "stderr",
     "output_type": "stream",
     "text": [
      "\n"
     ]
    }
   ],
   "source": [
    "server = Server(logReg(num_features=3, num_classes=2, seed = seed), synthetic_info, train_prn = False, metric = \"Demographic disparity\", seed = seed)\n",
    "server.LocalFT(num_rounds = 10, local_epochs = 30, init_epochs = 50, lr_g = 0.004, lr_d = 0.01, lambda_d = (0.9, 0.85, 0.87))\n"
   ]
  },
  {
   "cell_type": "code",
   "execution_count": 6,
   "metadata": {
    "scrolled": true
   },
   "outputs": [
    {
     "name": "stderr",
     "output_type": "stream",
     "text": [
      "\r",
      "  0%|          | 0/10 [00:00<?, ?it/s]"
     ]
    },
    {
     "name": "stdout",
     "output_type": "stream",
     "text": [
      "\n",
      " | Global Training Round : 1 |\n",
      "\n"
     ]
    },
    {
     "name": "stderr",
     "output_type": "stream",
     "text": [
      "\r",
      " 10%|█         | 1/10 [00:01<00:11,  1.24s/it]"
     ]
    },
    {
     "name": "stdout",
     "output_type": "stream",
     "text": [
      "Client 1: accuracy loss: 4.71 | fairness loss 43.03 | Demographic disparity = 0.89\n",
      "Client 2: accuracy loss: 5.97 | fairness loss 222.31 | Demographic disparity = 0.40\n",
      "Client 3: accuracy loss: 4.34 | fairness loss 343.38 | Demographic disparity = 0.63\n",
      " \n",
      "Avg Training Stats after 1 global rounds:\n",
      "Training loss: 0.09 | Validation accuracy: 73.48% | Validation Demographic disparity: 0.5709\n",
      "\n",
      " | Global Training Round : 2 |\n",
      "\n"
     ]
    },
    {
     "name": "stderr",
     "output_type": "stream",
     "text": [
      "\r",
      " 20%|██        | 2/10 [00:02<00:09,  1.23s/it]"
     ]
    },
    {
     "name": "stdout",
     "output_type": "stream",
     "text": [
      "Client 1: accuracy loss: 5.98 | fairness loss 23.90 | Demographic disparity = 0.41\n",
      "Client 2: accuracy loss: 3.53 | fairness loss 224.33 | Demographic disparity = 0.80\n",
      "Client 3: accuracy loss: 3.83 | fairness loss 119.43 | Demographic disparity = 0.42\n",
      " \n",
      "Avg Training Stats after 2 global rounds:\n",
      "Training loss: 0.07 | Validation accuracy: 79.95% | Validation Demographic disparity: 0.2633\n",
      "\n",
      " | Global Training Round : 3 |\n",
      "\n"
     ]
    },
    {
     "name": "stderr",
     "output_type": "stream",
     "text": [
      "\r",
      " 30%|███       | 3/10 [00:03<00:08,  1.22s/it]"
     ]
    },
    {
     "name": "stdout",
     "output_type": "stream",
     "text": [
      "Client 1: accuracy loss: 6.09 | fairness loss 24.26 | Demographic disparity = 0.48\n",
      "Client 2: accuracy loss: 2.47 | fairness loss 172.33 | Demographic disparity = 0.67\n",
      "Client 3: accuracy loss: 3.54 | fairness loss 114.12 | Demographic disparity = 0.42\n",
      " \n",
      "Avg Training Stats after 3 global rounds:\n",
      "Training loss: 0.06 | Validation accuracy: 86.86% | Validation Demographic disparity: 0.2633\n",
      "\n",
      " | Global Training Round : 4 |\n",
      "\n"
     ]
    },
    {
     "name": "stderr",
     "output_type": "stream",
     "text": [
      "\r",
      " 40%|████      | 4/10 [00:04<00:07,  1.22s/it]"
     ]
    },
    {
     "name": "stdout",
     "output_type": "stream",
     "text": [
      "Client 1: accuracy loss: 6.29 | fairness loss 24.41 | Demographic disparity = 0.48\n",
      "Client 2: accuracy loss: 2.09 | fairness loss 152.34 | Demographic disparity = 0.60\n",
      "Client 3: accuracy loss: 3.95 | fairness loss 76.53 | Demographic disparity = 0.42\n",
      " \n",
      "Avg Training Stats after 4 global rounds:\n",
      "Training loss: 0.05 | Validation accuracy: 89.08% | Validation Demographic disparity: 0.2469\n",
      "\n",
      " | Global Training Round : 5 |\n",
      "\n"
     ]
    },
    {
     "name": "stderr",
     "output_type": "stream",
     "text": [
      "\r",
      " 50%|█████     | 5/10 [00:06<00:06,  1.21s/it]"
     ]
    },
    {
     "name": "stdout",
     "output_type": "stream",
     "text": [
      "Client 1: accuracy loss: 6.52 | fairness loss 21.85 | Demographic disparity = 0.48\n",
      "Client 2: accuracy loss: 2.00 | fairness loss 131.14 | Demographic disparity = 0.60\n",
      "Client 3: accuracy loss: 4.24 | fairness loss 57.69 | Demographic disparity = 0.32\n",
      " \n",
      "Avg Training Stats after 5 global rounds:\n",
      "Training loss: 0.05 | Validation accuracy: 85.58% | Validation Demographic disparity: 0.1620\n",
      "\n",
      " | Global Training Round : 6 |\n",
      "\n"
     ]
    },
    {
     "name": "stderr",
     "output_type": "stream",
     "text": [
      "\r",
      " 60%|██████    | 6/10 [00:07<00:04,  1.19s/it]"
     ]
    },
    {
     "name": "stdout",
     "output_type": "stream",
     "text": [
      "Client 1: accuracy loss: 6.71 | fairness loss 18.79 | Demographic disparity = 0.48\n",
      "Client 2: accuracy loss: 2.01 | fairness loss 112.35 | Demographic disparity = 0.60\n",
      "Client 3: accuracy loss: 4.47 | fairness loss 46.94 | Demographic disparity = 0.26\n",
      " \n",
      "Avg Training Stats after 6 global rounds:\n",
      "Training loss: 0.05 | Validation accuracy: 83.82% | Validation Demographic disparity: 0.1196\n",
      "\n",
      " | Global Training Round : 7 |\n",
      "\n"
     ]
    },
    {
     "name": "stderr",
     "output_type": "stream",
     "text": [
      "\r",
      " 70%|███████   | 7/10 [00:08<00:03,  1.21s/it]"
     ]
    },
    {
     "name": "stdout",
     "output_type": "stream",
     "text": [
      "Client 1: accuracy loss: 6.87 | fairness loss 16.03 | Demographic disparity = 0.48\n",
      "Client 2: accuracy loss: 2.06 | fairness loss 96.97 | Demographic disparity = 0.60\n",
      "Client 3: accuracy loss: 4.68 | fairness loss 40.38 | Demographic disparity = 0.26\n",
      " \n",
      "Avg Training Stats after 7 global rounds:\n",
      "Training loss: 0.04 | Validation accuracy: 83.82% | Validation Demographic disparity: 0.1196\n",
      "\n",
      " | Global Training Round : 8 |\n",
      "\n"
     ]
    },
    {
     "name": "stderr",
     "output_type": "stream",
     "text": [
      "\r",
      " 80%|████████  | 8/10 [00:09<00:02,  1.21s/it]"
     ]
    },
    {
     "name": "stdout",
     "output_type": "stream",
     "text": [
      "Client 1: accuracy loss: 7.00 | fairness loss 13.77 | Demographic disparity = 0.48\n",
      "Client 2: accuracy loss: 2.13 | fairness loss 84.33 | Demographic disparity = 0.60\n",
      "Client 3: accuracy loss: 4.86 | fairness loss 36.46 | Demographic disparity = 0.26\n",
      " \n",
      "Avg Training Stats after 8 global rounds:\n",
      "Training loss: 0.04 | Validation accuracy: 83.82% | Validation Demographic disparity: 0.1196\n",
      "\n",
      " | Global Training Round : 9 |\n",
      "\n"
     ]
    },
    {
     "name": "stderr",
     "output_type": "stream",
     "text": [
      "\r",
      " 90%|█████████ | 9/10 [00:10<00:01,  1.22s/it]"
     ]
    },
    {
     "name": "stdout",
     "output_type": "stream",
     "text": [
      "Client 1: accuracy loss: 7.11 | fairness loss 11.99 | Demographic disparity = 0.44\n",
      "Client 2: accuracy loss: 2.20 | fairness loss 73.89 | Demographic disparity = 0.60\n",
      "Client 3: accuracy loss: 5.02 | fairness loss 34.24 | Demographic disparity = 0.21\n",
      " \n",
      "Avg Training Stats after 9 global rounds:\n",
      "Training loss: 0.04 | Validation accuracy: 80.83% | Validation Demographic disparity: 0.0608\n",
      "\n",
      " | Global Training Round : 10 |\n",
      "\n"
     ]
    },
    {
     "name": "stderr",
     "output_type": "stream",
     "text": [
      "100%|██████████| 10/10 [00:12<00:00,  1.21s/it]"
     ]
    },
    {
     "name": "stdout",
     "output_type": "stream",
     "text": [
      "Client 1: accuracy loss: 7.21 | fairness loss 10.60 | Demographic disparity = 0.41\n",
      "Client 2: accuracy loss: 2.27 | fairness loss 65.15 | Demographic disparity = 0.60\n",
      "Client 3: accuracy loss: 5.17 | fairness loss 33.08 | Demographic disparity = 0.21\n",
      " \n",
      "Avg Training Stats after 10 global rounds:\n",
      "Training loss: 0.04 | Validation accuracy: 79.60% | Validation Demographic disparity: 0.0444\n",
      " \n",
      " Results after 10 global rounds of training:\n",
      "|---- Avg Train Accuracy: 79.60%\n",
      "|---- Test Accuracy: 81.33%\n",
      "|---- Test Demographic disparity: 0.2090\n",
      "\n",
      " Total Run Time: 12.1400 sec\n"
     ]
    },
    {
     "name": "stderr",
     "output_type": "stream",
     "text": [
      "\n"
     ]
    }
   ],
   "source": [
    "server = Server(logReg(num_features=3, num_classes=2, seed = seed), synthetic_info, train_prn = False, metric = \"Demographic disparity\", seed = seed)\n",
    "server.LocalFB(num_rounds = 10, local_epochs = 30, optimizer = 'adam', learning_rate = (0.008, 0.002, 0.008), alpha = (0.5,0.01,0.15))\n"
   ]
  },
  {
   "cell_type": "code",
   "execution_count": null,
   "metadata": {},
   "outputs": [],
   "source": []
  }
 ],
 "metadata": {
  "kernelspec": {
   "display_name": "Python 3",
   "language": "python",
   "name": "python3"
  },
  "language_info": {
   "codemirror_mode": {
    "name": "ipython",
    "version": 3
   },
   "file_extension": ".py",
   "mimetype": "text/x-python",
   "name": "python",
   "nbconvert_exporter": "python",
   "pygments_lexer": "ipython3",
   "version": "3.7.4"
  }
 },
 "nbformat": 4,
 "nbformat_minor": 2
}
