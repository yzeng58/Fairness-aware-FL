{
 "cells": [
  {
   "cell_type": "code",
   "execution_count": 1,
   "metadata": {},
   "outputs": [],
   "source": [
    "from Server import *\n",
    "seed = 123"
   ]
  },
  {
   "cell_type": "code",
   "execution_count": 2,
   "metadata": {},
   "outputs": [],
   "source": [
    "data_info = nsfData(q = (0.99,0.01), test_samples = 300, train_samples = 3000)"
   ]
  },
  {
   "cell_type": "code",
   "execution_count": 3,
   "metadata": {},
   "outputs": [],
   "source": [
    "train_dataset, test_dataset, clients_idx = data_info"
   ]
  },
  {
   "cell_type": "code",
   "execution_count": 4,
   "metadata": {
    "scrolled": true
   },
   "outputs": [
    {
     "name": "stderr",
     "output_type": "stream",
     "text": [
      "\r",
      "  0%|          | 0/1 [00:00<?, ?it/s]"
     ]
    },
    {
     "name": "stdout",
     "output_type": "stream",
     "text": [
      "\n",
      " | Global Training Round : 1 |\n",
      "\n"
     ]
    },
    {
     "name": "stderr",
     "output_type": "stream",
     "text": [
      "100%|██████████| 1/1 [00:02<00:00,  2.27s/it]"
     ]
    },
    {
     "name": "stdout",
     "output_type": "stream",
     "text": [
      "Client 1: accuracy loss: 0.02 | fairness loss 0.00 | Demographic disparity = 0.43\n",
      "Client 2: accuracy loss: 0.23 | fairness loss 0.00 | Demographic disparity = 0.53\n",
      " \n",
      "Avg Training Stats after 1 global rounds:\n",
      "Training loss: 3.90 | Validation accuracy: 100.00% | Validation Demographic disparity: 0.2024\n",
      " \n",
      " Results after 1 global rounds of training:\n",
      "|---- Avg Train Accuracy: 100.00%\n",
      "|---- Test Accuracy: 100.00%\n",
      "|---- Test Demographic disparity: 0.1926\n",
      "\n",
      " Total Run Time: 2.2808 sec\n"
     ]
    },
    {
     "name": "stderr",
     "output_type": "stream",
     "text": [
      "\n"
     ]
    }
   ],
   "source": [
    "server = Server(logReg(num_features=2, num_classes=2, seed = seed), data_info, train_prn = False, metric = \"Demographic disparity\", seed = seed)\n",
    "server.LocalZafar(num_rounds = 1, local_epochs = 30, optimizer = 'adam', learning_rate = 0.1, penalty = 0)"
   ]
  },
  {
   "cell_type": "code",
   "execution_count": 6,
   "metadata": {
    "scrolled": true
   },
   "outputs": [
    {
     "name": "stderr",
     "output_type": "stream",
     "text": [
      "\r",
      "  0%|          | 0/20 [00:00<?, ?it/s]"
     ]
    },
    {
     "name": "stdout",
     "output_type": "stream",
     "text": [
      "\n",
      " | Global Training Round : 1 |\n",
      "\n"
     ]
    },
    {
     "name": "stderr",
     "output_type": "stream",
     "text": [
      "\r",
      "  5%|▌         | 1/20 [00:02<00:41,  2.16s/it]"
     ]
    },
    {
     "name": "stdout",
     "output_type": "stream",
     "text": [
      "Client 1: accuracy loss: 3.04 | fairness loss 0.36 | Demographic disparity = 0.00\n",
      "Client 2: accuracy loss: 10.55 | fairness loss 0.00 | Demographic disparity = 1.00\n",
      " \n",
      "Avg Training Stats after 1 global rounds:\n",
      "Training loss: 58.87 | Validation accuracy: 73.00% | Validation Demographic disparity: 0.0000\n",
      "\n",
      " | Global Training Round : 2 |\n",
      "\n"
     ]
    },
    {
     "name": "stderr",
     "output_type": "stream",
     "text": [
      "\r",
      " 10%|█         | 2/20 [00:04<00:38,  2.14s/it]"
     ]
    },
    {
     "name": "stdout",
     "output_type": "stream",
     "text": [
      "Client 1: accuracy loss: 2.04 | fairness loss 0.87 | Demographic disparity = 0.00\n",
      "Client 2: accuracy loss: 7.91 | fairness loss 0.00 | Demographic disparity = 1.00\n",
      " \n",
      "Avg Training Stats after 2 global rounds:\n",
      "Training loss: 52.60 | Validation accuracy: 73.00% | Validation Demographic disparity: 0.0000\n",
      "\n",
      " | Global Training Round : 3 |\n",
      "\n"
     ]
    },
    {
     "name": "stderr",
     "output_type": "stream",
     "text": [
      "\r",
      " 15%|█▌        | 3/20 [00:06<00:35,  2.12s/it]"
     ]
    },
    {
     "name": "stdout",
     "output_type": "stream",
     "text": [
      "Client 1: accuracy loss: 1.32 | fairness loss 1.74 | Demographic disparity = 0.07\n",
      "Client 2: accuracy loss: 6.24 | fairness loss 0.00 | Demographic disparity = 1.00\n",
      " \n",
      "Avg Training Stats after 3 global rounds:\n",
      "Training loss: 46.06 | Validation accuracy: 76.33% | Validation Demographic disparity: 0.0342\n",
      "\n",
      " | Global Training Round : 4 |\n",
      "\n"
     ]
    },
    {
     "name": "stderr",
     "output_type": "stream",
     "text": [
      "\r",
      " 20%|██        | 4/20 [00:08<00:33,  2.10s/it]"
     ]
    },
    {
     "name": "stdout",
     "output_type": "stream",
     "text": [
      "Client 1: accuracy loss: 0.86 | fairness loss 2.82 | Demographic disparity = 0.07\n",
      "Client 2: accuracy loss: 5.21 | fairness loss 0.00 | Demographic disparity = 1.00\n",
      " \n",
      "Avg Training Stats after 4 global rounds:\n",
      "Training loss: 40.94 | Validation accuracy: 76.33% | Validation Demographic disparity: 0.0342\n",
      "\n",
      " | Global Training Round : 5 |\n",
      "\n"
     ]
    },
    {
     "name": "stderr",
     "output_type": "stream",
     "text": [
      "\r",
      " 25%|██▌       | 5/20 [00:10<00:31,  2.10s/it]"
     ]
    },
    {
     "name": "stdout",
     "output_type": "stream",
     "text": [
      "Client 1: accuracy loss: 0.62 | fairness loss 3.80 | Demographic disparity = 0.43\n",
      "Client 2: accuracy loss: 4.69 | fairness loss 0.00 | Demographic disparity = 0.53\n",
      " \n",
      "Avg Training Stats after 5 global rounds:\n",
      "Training loss: 37.16 | Validation accuracy: 100.00% | Validation Demographic disparity: 0.2024\n",
      "\n",
      " | Global Training Round : 6 |\n",
      "\n"
     ]
    },
    {
     "name": "stderr",
     "output_type": "stream",
     "text": [
      "\r",
      " 30%|███       | 6/20 [00:12<00:29,  2.11s/it]"
     ]
    },
    {
     "name": "stdout",
     "output_type": "stream",
     "text": [
      "Client 1: accuracy loss: 0.52 | fairness loss 4.35 | Demographic disparity = 0.43\n",
      "Client 2: accuracy loss: 4.64 | fairness loss 0.00 | Demographic disparity = 0.53\n",
      " \n",
      "Avg Training Stats after 6 global rounds:\n",
      "Training loss: 34.42 | Validation accuracy: 100.00% | Validation Demographic disparity: 0.2024\n",
      "\n",
      " | Global Training Round : 7 |\n",
      "\n"
     ]
    },
    {
     "name": "stderr",
     "output_type": "stream",
     "text": [
      "\r",
      " 35%|███▌      | 7/20 [00:14<00:27,  2.09s/it]"
     ]
    },
    {
     "name": "stdout",
     "output_type": "stream",
     "text": [
      "Client 1: accuracy loss: 0.48 | fairness loss 4.61 | Demographic disparity = 0.43\n",
      "Client 2: accuracy loss: 4.81 | fairness loss 0.00 | Demographic disparity = 0.53\n",
      " \n",
      "Avg Training Stats after 7 global rounds:\n",
      "Training loss: 32.51 | Validation accuracy: 100.00% | Validation Demographic disparity: 0.2024\n",
      "\n",
      " | Global Training Round : 8 |\n",
      "\n"
     ]
    },
    {
     "name": "stderr",
     "output_type": "stream",
     "text": [
      "\r",
      " 40%|████      | 8/20 [00:17<00:26,  2.19s/it]"
     ]
    },
    {
     "name": "stdout",
     "output_type": "stream",
     "text": [
      "Client 1: accuracy loss: 0.46 | fairness loss 4.74 | Demographic disparity = 0.07\n",
      "Client 2: accuracy loss: 5.00 | fairness loss 0.00 | Demographic disparity = 1.00\n",
      " \n",
      "Avg Training Stats after 8 global rounds:\n",
      "Training loss: 31.18 | Validation accuracy: 76.33% | Validation Demographic disparity: 0.0342\n",
      "\n",
      " | Global Training Round : 9 |\n",
      "\n"
     ]
    },
    {
     "name": "stderr",
     "output_type": "stream",
     "text": [
      "\r",
      " 45%|████▌     | 9/20 [00:19<00:23,  2.18s/it]"
     ]
    },
    {
     "name": "stdout",
     "output_type": "stream",
     "text": [
      "Client 1: accuracy loss: 0.45 | fairness loss 4.81 | Demographic disparity = 0.07\n",
      "Client 2: accuracy loss: 5.15 | fairness loss 0.00 | Demographic disparity = 1.00\n",
      " \n",
      "Avg Training Stats after 9 global rounds:\n",
      "Training loss: 30.23 | Validation accuracy: 76.33% | Validation Demographic disparity: 0.0342\n",
      "\n",
      " | Global Training Round : 10 |\n",
      "\n"
     ]
    },
    {
     "name": "stderr",
     "output_type": "stream",
     "text": [
      "\r",
      " 50%|█████     | 10/20 [00:21<00:21,  2.15s/it]"
     ]
    },
    {
     "name": "stdout",
     "output_type": "stream",
     "text": [
      "Client 1: accuracy loss: 0.45 | fairness loss 4.85 | Demographic disparity = 0.07\n",
      "Client 2: accuracy loss: 5.27 | fairness loss 0.00 | Demographic disparity = 1.00\n",
      " \n",
      "Avg Training Stats after 10 global rounds:\n",
      "Training loss: 29.54 | Validation accuracy: 76.33% | Validation Demographic disparity: 0.0342\n",
      "\n",
      " | Global Training Round : 11 |\n",
      "\n"
     ]
    },
    {
     "name": "stderr",
     "output_type": "stream",
     "text": [
      "\r",
      " 55%|█████▌    | 11/20 [00:23<00:19,  2.13s/it]"
     ]
    },
    {
     "name": "stdout",
     "output_type": "stream",
     "text": [
      "Client 1: accuracy loss: 0.45 | fairness loss 4.88 | Demographic disparity = 0.07\n",
      "Client 2: accuracy loss: 5.34 | fairness loss 0.00 | Demographic disparity = 1.00\n",
      " \n",
      "Avg Training Stats after 11 global rounds:\n",
      "Training loss: 29.01 | Validation accuracy: 76.33% | Validation Demographic disparity: 0.0342\n",
      "\n",
      " | Global Training Round : 12 |\n",
      "\n"
     ]
    },
    {
     "name": "stderr",
     "output_type": "stream",
     "text": [
      "\r",
      " 60%|██████    | 12/20 [00:25<00:16,  2.11s/it]"
     ]
    },
    {
     "name": "stdout",
     "output_type": "stream",
     "text": [
      "Client 1: accuracy loss: 0.44 | fairness loss 4.90 | Demographic disparity = 0.07\n",
      "Client 2: accuracy loss: 5.39 | fairness loss 0.00 | Demographic disparity = 1.00\n",
      " \n",
      "Avg Training Stats after 12 global rounds:\n",
      "Training loss: 28.59 | Validation accuracy: 76.33% | Validation Demographic disparity: 0.0342\n",
      "\n",
      " | Global Training Round : 13 |\n",
      "\n"
     ]
    },
    {
     "name": "stderr",
     "output_type": "stream",
     "text": [
      "\r",
      " 65%|██████▌   | 13/20 [00:27<00:14,  2.11s/it]"
     ]
    },
    {
     "name": "stdout",
     "output_type": "stream",
     "text": [
      "Client 1: accuracy loss: 0.44 | fairness loss 4.91 | Demographic disparity = 0.07\n",
      "Client 2: accuracy loss: 5.43 | fairness loss 0.00 | Demographic disparity = 1.00\n",
      " \n",
      "Avg Training Stats after 13 global rounds:\n",
      "Training loss: 28.26 | Validation accuracy: 76.33% | Validation Demographic disparity: 0.0342\n",
      "\n",
      " | Global Training Round : 14 |\n",
      "\n"
     ]
    },
    {
     "name": "stderr",
     "output_type": "stream",
     "text": [
      "\r",
      " 70%|███████   | 14/20 [00:29<00:12,  2.10s/it]"
     ]
    },
    {
     "name": "stdout",
     "output_type": "stream",
     "text": [
      "Client 1: accuracy loss: 0.44 | fairness loss 4.91 | Demographic disparity = 0.07\n",
      "Client 2: accuracy loss: 5.45 | fairness loss 0.00 | Demographic disparity = 1.00\n",
      " \n",
      "Avg Training Stats after 14 global rounds:\n",
      "Training loss: 27.98 | Validation accuracy: 76.33% | Validation Demographic disparity: 0.0342\n",
      "\n",
      " | Global Training Round : 15 |\n",
      "\n"
     ]
    },
    {
     "name": "stderr",
     "output_type": "stream",
     "text": [
      "\r",
      " 75%|███████▌  | 15/20 [00:31<00:10,  2.09s/it]"
     ]
    },
    {
     "name": "stdout",
     "output_type": "stream",
     "text": [
      "Client 1: accuracy loss: 0.44 | fairness loss 4.92 | Demographic disparity = 0.07\n",
      "Client 2: accuracy loss: 5.46 | fairness loss 0.00 | Demographic disparity = 1.00\n",
      " \n",
      "Avg Training Stats after 15 global rounds:\n",
      "Training loss: 27.74 | Validation accuracy: 76.33% | Validation Demographic disparity: 0.0342\n",
      "\n",
      " | Global Training Round : 16 |\n",
      "\n"
     ]
    },
    {
     "name": "stderr",
     "output_type": "stream",
     "text": [
      "\r",
      " 80%|████████  | 16/20 [00:33<00:08,  2.12s/it]"
     ]
    },
    {
     "name": "stdout",
     "output_type": "stream",
     "text": [
      "Client 1: accuracy loss: 0.44 | fairness loss 4.92 | Demographic disparity = 0.07\n",
      "Client 2: accuracy loss: 5.47 | fairness loss 0.00 | Demographic disparity = 1.00\n",
      " \n",
      "Avg Training Stats after 16 global rounds:\n",
      "Training loss: 27.54 | Validation accuracy: 76.33% | Validation Demographic disparity: 0.0342\n",
      "\n",
      " | Global Training Round : 17 |\n",
      "\n"
     ]
    },
    {
     "name": "stderr",
     "output_type": "stream",
     "text": [
      "\r",
      " 85%|████████▌ | 17/20 [00:36<00:06,  2.14s/it]"
     ]
    },
    {
     "name": "stdout",
     "output_type": "stream",
     "text": [
      "Client 1: accuracy loss: 0.44 | fairness loss 4.92 | Demographic disparity = 0.07\n",
      "Client 2: accuracy loss: 5.48 | fairness loss 0.00 | Demographic disparity = 1.00\n",
      " \n",
      "Avg Training Stats after 17 global rounds:\n",
      "Training loss: 27.36 | Validation accuracy: 76.33% | Validation Demographic disparity: 0.0342\n",
      "\n",
      " | Global Training Round : 18 |\n",
      "\n"
     ]
    },
    {
     "name": "stderr",
     "output_type": "stream",
     "text": [
      "\r",
      " 90%|█████████ | 18/20 [00:38<00:04,  2.15s/it]"
     ]
    },
    {
     "name": "stdout",
     "output_type": "stream",
     "text": [
      "Client 1: accuracy loss: 0.44 | fairness loss 4.93 | Demographic disparity = 0.07\n",
      "Client 2: accuracy loss: 5.48 | fairness loss 0.00 | Demographic disparity = 1.00\n",
      " \n",
      "Avg Training Stats after 18 global rounds:\n",
      "Training loss: 27.21 | Validation accuracy: 76.33% | Validation Demographic disparity: 0.0342\n",
      "\n",
      " | Global Training Round : 19 |\n",
      "\n"
     ]
    },
    {
     "name": "stderr",
     "output_type": "stream",
     "text": [
      "\r",
      " 95%|█████████▌| 19/20 [00:42<00:02,  2.66s/it]"
     ]
    },
    {
     "name": "stdout",
     "output_type": "stream",
     "text": [
      "Client 1: accuracy loss: 0.44 | fairness loss 4.93 | Demographic disparity = 0.07\n",
      "Client 2: accuracy loss: 5.49 | fairness loss 0.00 | Demographic disparity = 1.00\n",
      " \n",
      "Avg Training Stats after 19 global rounds:\n",
      "Training loss: 27.07 | Validation accuracy: 76.33% | Validation Demographic disparity: 0.0342\n",
      "\n",
      " | Global Training Round : 20 |\n",
      "\n"
     ]
    },
    {
     "name": "stderr",
     "output_type": "stream",
     "text": [
      "100%|██████████| 20/20 [00:45<00:00,  2.28s/it]"
     ]
    },
    {
     "name": "stdout",
     "output_type": "stream",
     "text": [
      "Client 1: accuracy loss: 0.44 | fairness loss 4.93 | Demographic disparity = 0.07\n",
      "Client 2: accuracy loss: 5.49 | fairness loss 0.00 | Demographic disparity = 1.00\n",
      " \n",
      "Avg Training Stats after 20 global rounds:\n",
      "Training loss: 26.94 | Validation accuracy: 76.33% | Validation Demographic disparity: 0.0342\n",
      " \n",
      " Results after 20 global rounds of training:\n",
      "|---- Avg Train Accuracy: 76.33%\n",
      "|---- Test Accuracy: 75.33%\n",
      "|---- Test Demographic disparity: 0.0540\n",
      "\n",
      " Total Run Time: 45.6825 sec\n"
     ]
    },
    {
     "name": "stderr",
     "output_type": "stream",
     "text": [
      "\n"
     ]
    }
   ],
   "source": [
    "server = Server(logReg(num_features=2, num_classes=2, seed = seed), data_info, train_prn = False, metric = \"Demographic disparity\", seed = seed)\n",
    "server.LocalZafar(num_rounds = 10, local_epochs = 30, optimizer = 'adam', learning_rate = 0.002, penalty = 100)"
   ]
  },
  {
   "cell_type": "code",
   "execution_count": 7,
   "metadata": {
    "scrolled": true
   },
   "outputs": [
    {
     "name": "stderr",
     "output_type": "stream",
     "text": [
      "\r",
      "  0%|          | 0/10 [00:00<?, ?it/s]"
     ]
    },
    {
     "name": "stdout",
     "output_type": "stream",
     "text": [
      "\n",
      " | Global Training Round : 1 |\n",
      "\n"
     ]
    },
    {
     "name": "stderr",
     "output_type": "stream",
     "text": [
      "\r",
      " 10%|█         | 1/10 [00:02<00:19,  2.21s/it]"
     ]
    },
    {
     "name": "stdout",
     "output_type": "stream",
     "text": [
      "Client 1: accuracy loss: 3.03 | fairness loss 0.23 | Demographic disparity = 0.00\n",
      "Client 2: accuracy loss: 10.44 | fairness loss 0.00 | Demographic disparity = 1.00\n",
      " \n",
      "Avg Training Stats after 1 global rounds:\n",
      "Training loss: 58.77 | Validation accuracy: 73.00% | Validation Demographic disparity: 0.0000\n",
      "\n",
      " | Global Training Round : 2 |\n",
      "\n"
     ]
    },
    {
     "name": "stderr",
     "output_type": "stream",
     "text": [
      "\r",
      " 20%|██        | 2/10 [00:04<00:17,  2.20s/it]"
     ]
    },
    {
     "name": "stdout",
     "output_type": "stream",
     "text": [
      "Client 1: accuracy loss: 2.02 | fairness loss 0.56 | Demographic disparity = 0.00\n",
      "Client 2: accuracy loss: 7.62 | fairness loss 0.00 | Demographic disparity = 1.00\n",
      " \n",
      "Avg Training Stats after 2 global rounds:\n",
      "Training loss: 52.28 | Validation accuracy: 73.00% | Validation Demographic disparity: 0.0000\n",
      "\n",
      " | Global Training Round : 3 |\n",
      "\n"
     ]
    },
    {
     "name": "stderr",
     "output_type": "stream",
     "text": [
      "\r",
      " 30%|███       | 3/10 [00:06<00:15,  2.22s/it]"
     ]
    },
    {
     "name": "stdout",
     "output_type": "stream",
     "text": [
      "Client 1: accuracy loss: 1.29 | fairness loss 1.12 | Demographic disparity = 0.07\n",
      "Client 2: accuracy loss: 5.78 | fairness loss 0.00 | Demographic disparity = 1.00\n",
      " \n",
      "Avg Training Stats after 3 global rounds:\n",
      "Training loss: 45.36 | Validation accuracy: 76.33% | Validation Demographic disparity: 0.0342\n",
      "\n",
      " | Global Training Round : 4 |\n",
      "\n"
     ]
    },
    {
     "name": "stderr",
     "output_type": "stream",
     "text": [
      "\r",
      " 40%|████      | 4/10 [00:08<00:13,  2.21s/it]"
     ]
    },
    {
     "name": "stdout",
     "output_type": "stream",
     "text": [
      "Client 1: accuracy loss: 0.81 | fairness loss 1.84 | Demographic disparity = 0.43\n",
      "Client 2: accuracy loss: 4.63 | fairness loss 0.00 | Demographic disparity = 0.53\n",
      " \n",
      "Avg Training Stats after 4 global rounds:\n",
      "Training loss: 39.78 | Validation accuracy: 100.00% | Validation Demographic disparity: 0.2024\n",
      "\n",
      " | Global Training Round : 5 |\n",
      "\n"
     ]
    },
    {
     "name": "stderr",
     "output_type": "stream",
     "text": [
      "\r",
      " 50%|█████     | 5/10 [00:11<00:11,  2.27s/it]"
     ]
    },
    {
     "name": "stdout",
     "output_type": "stream",
     "text": [
      "Client 1: accuracy loss: 0.53 | fairness loss 2.63 | Demographic disparity = 0.43\n",
      "Client 2: accuracy loss: 3.93 | fairness loss 0.00 | Demographic disparity = 0.53\n",
      " \n",
      "Avg Training Stats after 5 global rounds:\n",
      "Training loss: 35.54 | Validation accuracy: 100.00% | Validation Demographic disparity: 0.2024\n",
      "\n",
      " | Global Training Round : 6 |\n",
      "\n"
     ]
    },
    {
     "name": "stderr",
     "output_type": "stream",
     "text": [
      "\r",
      " 60%|██████    | 6/10 [00:13<00:09,  2.29s/it]"
     ]
    },
    {
     "name": "stdout",
     "output_type": "stream",
     "text": [
      "Client 1: accuracy loss: 0.40 | fairness loss 3.23 | Demographic disparity = 0.43\n",
      "Client 2: accuracy loss: 3.66 | fairness loss 0.00 | Demographic disparity = 0.53\n",
      " \n",
      "Avg Training Stats after 6 global rounds:\n",
      "Training loss: 32.35 | Validation accuracy: 100.00% | Validation Demographic disparity: 0.2024\n",
      "\n",
      " | Global Training Round : 7 |\n",
      "\n"
     ]
    },
    {
     "name": "stderr",
     "output_type": "stream",
     "text": [
      "\r",
      " 70%|███████   | 7/10 [00:15<00:06,  2.29s/it]"
     ]
    },
    {
     "name": "stdout",
     "output_type": "stream",
     "text": [
      "Client 1: accuracy loss: 0.35 | fairness loss 3.52 | Demographic disparity = 0.43\n",
      "Client 2: accuracy loss: 3.71 | fairness loss 0.00 | Demographic disparity = 0.53\n",
      " \n",
      "Avg Training Stats after 7 global rounds:\n",
      "Training loss: 30.00 | Validation accuracy: 100.00% | Validation Demographic disparity: 0.2024\n",
      "\n",
      " | Global Training Round : 8 |\n",
      "\n"
     ]
    },
    {
     "name": "stderr",
     "output_type": "stream",
     "text": [
      "\r",
      " 80%|████████  | 8/10 [00:18<00:04,  2.35s/it]"
     ]
    },
    {
     "name": "stdout",
     "output_type": "stream",
     "text": [
      "Client 1: accuracy loss: 0.33 | fairness loss 3.66 | Demographic disparity = 0.43\n",
      "Client 2: accuracy loss: 3.88 | fairness loss 0.00 | Demographic disparity = 0.53\n",
      " \n",
      "Avg Training Stats after 8 global rounds:\n",
      "Training loss: 28.29 | Validation accuracy: 100.00% | Validation Demographic disparity: 0.2024\n",
      "\n",
      " | Global Training Round : 9 |\n",
      "\n"
     ]
    },
    {
     "name": "stderr",
     "output_type": "stream",
     "text": [
      "\r",
      " 90%|█████████ | 9/10 [00:20<00:02,  2.35s/it]"
     ]
    },
    {
     "name": "stdout",
     "output_type": "stream",
     "text": [
      "Client 1: accuracy loss: 0.32 | fairness loss 3.73 | Demographic disparity = 0.43\n",
      "Client 2: accuracy loss: 4.05 | fairness loss 0.00 | Demographic disparity = 0.53\n",
      " \n",
      "Avg Training Stats after 9 global rounds:\n",
      "Training loss: 27.04 | Validation accuracy: 100.00% | Validation Demographic disparity: 0.2024\n",
      "\n",
      " | Global Training Round : 10 |\n",
      "\n"
     ]
    },
    {
     "name": "stderr",
     "output_type": "stream",
     "text": [
      "100%|██████████| 10/10 [00:23<00:00,  2.32s/it]"
     ]
    },
    {
     "name": "stdout",
     "output_type": "stream",
     "text": [
      "Client 1: accuracy loss: 0.32 | fairness loss 3.77 | Demographic disparity = 0.43\n",
      "Client 2: accuracy loss: 4.18 | fairness loss 0.00 | Demographic disparity = 0.53\n",
      " \n",
      "Avg Training Stats after 10 global rounds:\n",
      "Training loss: 26.10 | Validation accuracy: 100.00% | Validation Demographic disparity: 0.2024\n",
      " \n",
      " Results after 10 global rounds of training:\n",
      "|---- Avg Train Accuracy: 100.00%\n",
      "|---- Test Accuracy: 100.00%\n",
      "|---- Test Demographic disparity: 0.1926\n",
      "\n",
      " Total Run Time: 23.2197 sec\n"
     ]
    },
    {
     "name": "stderr",
     "output_type": "stream",
     "text": [
      "\n"
     ]
    }
   ],
   "source": [
    "server = Server(logReg(num_features=2, num_classes=2, seed = seed), data_info, train_prn = False, metric = \"Demographic disparity\", seed = seed)\n",
    "server.LocalZafar(num_rounds = 10, local_epochs = 30, optimizer = 'adam', learning_rate = 0.002, penalty = 60)"
   ]
  },
  {
   "cell_type": "code",
   "execution_count": 8,
   "metadata": {},
   "outputs": [
    {
     "name": "stderr",
     "output_type": "stream",
     "text": [
      "\r",
      "  0%|          | 0/10 [00:00<?, ?it/s]"
     ]
    },
    {
     "name": "stdout",
     "output_type": "stream",
     "text": [
      "\n",
      " | Global Training Round : 1 |\n",
      "\n"
     ]
    },
    {
     "name": "stderr",
     "output_type": "stream",
     "text": [
      "\r",
      " 10%|█         | 1/10 [00:02<00:20,  2.29s/it]"
     ]
    },
    {
     "name": "stdout",
     "output_type": "stream",
     "text": [
      "Client 1: accuracy loss: 3.04 | fairness loss 0.30 | Demographic disparity = 0.00\n",
      "Client 2: accuracy loss: 10.50 | fairness loss 0.00 | Demographic disparity = 1.00\n",
      " \n",
      "Avg Training Stats after 1 global rounds:\n",
      "Training loss: 58.83 | Validation accuracy: 73.00% | Validation Demographic disparity: 0.0000\n",
      "\n",
      " | Global Training Round : 2 |\n",
      "\n"
     ]
    },
    {
     "name": "stderr",
     "output_type": "stream",
     "text": [
      "\r",
      " 20%|██        | 2/10 [00:04<00:18,  2.30s/it]"
     ]
    },
    {
     "name": "stdout",
     "output_type": "stream",
     "text": [
      "Client 1: accuracy loss: 2.03 | fairness loss 0.72 | Demographic disparity = 0.00\n",
      "Client 2: accuracy loss: 7.77 | fairness loss 0.00 | Demographic disparity = 1.00\n",
      " \n",
      "Avg Training Stats after 2 global rounds:\n",
      "Training loss: 52.44 | Validation accuracy: 73.00% | Validation Demographic disparity: 0.0000\n",
      "\n",
      " | Global Training Round : 3 |\n",
      "\n"
     ]
    },
    {
     "name": "stderr",
     "output_type": "stream",
     "text": [
      "\r",
      " 30%|███       | 3/10 [00:07<00:16,  2.41s/it]"
     ]
    },
    {
     "name": "stdout",
     "output_type": "stream",
     "text": [
      "Client 1: accuracy loss: 1.30 | fairness loss 1.43 | Demographic disparity = 0.07\n",
      "Client 2: accuracy loss: 6.02 | fairness loss 0.00 | Demographic disparity = 1.00\n",
      " \n",
      "Avg Training Stats after 3 global rounds:\n",
      "Training loss: 45.72 | Validation accuracy: 76.33% | Validation Demographic disparity: 0.0342\n",
      "\n",
      " | Global Training Round : 4 |\n",
      "\n"
     ]
    },
    {
     "name": "stderr",
     "output_type": "stream",
     "text": [
      "\r",
      " 40%|████      | 4/10 [00:09<00:14,  2.39s/it]"
     ]
    },
    {
     "name": "stdout",
     "output_type": "stream",
     "text": [
      "Client 1: accuracy loss: 0.83 | fairness loss 2.35 | Demographic disparity = 0.43\n",
      "Client 2: accuracy loss: 4.94 | fairness loss 0.00 | Demographic disparity = 0.53\n",
      " \n",
      "Avg Training Stats after 4 global rounds:\n",
      "Training loss: 40.38 | Validation accuracy: 100.00% | Validation Demographic disparity: 0.2024\n",
      "\n",
      " | Global Training Round : 5 |\n",
      "\n"
     ]
    },
    {
     "name": "stderr",
     "output_type": "stream",
     "text": [
      "\r",
      " 50%|█████     | 5/10 [00:12<00:12,  2.41s/it]"
     ]
    },
    {
     "name": "stdout",
     "output_type": "stream",
     "text": [
      "Client 1: accuracy loss: 0.57 | fairness loss 3.26 | Demographic disparity = 0.43\n",
      "Client 2: accuracy loss: 4.33 | fairness loss 0.00 | Demographic disparity = 0.53\n",
      " \n",
      "Avg Training Stats after 5 global rounds:\n",
      "Training loss: 36.38 | Validation accuracy: 100.00% | Validation Demographic disparity: 0.2024\n",
      "\n",
      " | Global Training Round : 6 |\n",
      "\n"
     ]
    },
    {
     "name": "stderr",
     "output_type": "stream",
     "text": [
      "\r",
      " 60%|██████    | 6/10 [00:14<00:09,  2.34s/it]"
     ]
    },
    {
     "name": "stdout",
     "output_type": "stream",
     "text": [
      "Client 1: accuracy loss: 0.46 | fairness loss 3.84 | Demographic disparity = 0.43\n",
      "Client 2: accuracy loss: 4.19 | fairness loss 0.00 | Demographic disparity = 0.53\n",
      " \n",
      "Avg Training Stats after 6 global rounds:\n",
      "Training loss: 33.43 | Validation accuracy: 100.00% | Validation Demographic disparity: 0.2024\n",
      "\n",
      " | Global Training Round : 7 |\n",
      "\n"
     ]
    },
    {
     "name": "stderr",
     "output_type": "stream",
     "text": [
      "\r",
      " 70%|███████   | 7/10 [00:16<00:06,  2.26s/it]"
     ]
    },
    {
     "name": "stdout",
     "output_type": "stream",
     "text": [
      "Client 1: accuracy loss: 0.42 | fairness loss 4.12 | Demographic disparity = 0.43\n",
      "Client 2: accuracy loss: 4.32 | fairness loss 0.00 | Demographic disparity = 0.53\n",
      " \n",
      "Avg Training Stats after 7 global rounds:\n",
      "Training loss: 31.32 | Validation accuracy: 100.00% | Validation Demographic disparity: 0.2024\n",
      "\n",
      " | Global Training Round : 8 |\n",
      "\n"
     ]
    },
    {
     "name": "stderr",
     "output_type": "stream",
     "text": [
      "\r",
      " 80%|████████  | 8/10 [00:18<00:04,  2.20s/it]"
     ]
    },
    {
     "name": "stdout",
     "output_type": "stream",
     "text": [
      "Client 1: accuracy loss: 0.40 | fairness loss 4.25 | Demographic disparity = 0.43\n",
      "Client 2: accuracy loss: 4.50 | fairness loss 0.00 | Demographic disparity = 0.53\n",
      " \n",
      "Avg Training Stats after 8 global rounds:\n",
      "Training loss: 29.82 | Validation accuracy: 100.00% | Validation Demographic disparity: 0.2024\n",
      "\n",
      " | Global Training Round : 9 |\n",
      "\n"
     ]
    },
    {
     "name": "stderr",
     "output_type": "stream",
     "text": [
      "\r",
      " 90%|█████████ | 9/10 [00:20<00:02,  2.16s/it]"
     ]
    },
    {
     "name": "stdout",
     "output_type": "stream",
     "text": [
      "Client 1: accuracy loss: 0.39 | fairness loss 4.32 | Demographic disparity = 0.43\n",
      "Client 2: accuracy loss: 4.67 | fairness loss 0.00 | Demographic disparity = 0.53\n",
      " \n",
      "Avg Training Stats after 9 global rounds:\n",
      "Training loss: 28.74 | Validation accuracy: 100.00% | Validation Demographic disparity: 0.2024\n",
      "\n",
      " | Global Training Round : 10 |\n",
      "\n"
     ]
    },
    {
     "name": "stderr",
     "output_type": "stream",
     "text": [
      "100%|██████████| 10/10 [00:22<00:00,  2.25s/it]"
     ]
    },
    {
     "name": "stdout",
     "output_type": "stream",
     "text": [
      "Client 1: accuracy loss: 0.39 | fairness loss 4.36 | Demographic disparity = 0.43\n",
      "Client 2: accuracy loss: 4.79 | fairness loss 0.00 | Demographic disparity = 0.53\n",
      " \n",
      "Avg Training Stats after 10 global rounds:\n",
      "Training loss: 27.94 | Validation accuracy: 100.00% | Validation Demographic disparity: 0.2024\n",
      " \n",
      " Results after 10 global rounds of training:\n",
      "|---- Avg Train Accuracy: 100.00%\n",
      "|---- Test Accuracy: 100.00%\n",
      "|---- Test Demographic disparity: 0.1926\n",
      "\n",
      " Total Run Time: 22.5641 sec\n"
     ]
    },
    {
     "name": "stderr",
     "output_type": "stream",
     "text": [
      "\n"
     ]
    }
   ],
   "source": [
    "server = Server(logReg(num_features=2, num_classes=2, seed = seed), data_info, train_prn = False, metric = \"Demographic disparity\", seed = seed)\n",
    "server.LocalZafar(num_rounds = 10, local_epochs = 30, optimizer = 'adam', learning_rate = 0.002, penalty = 80)"
   ]
  },
  {
   "cell_type": "code",
   "execution_count": 2,
   "metadata": {},
   "outputs": [],
   "source": [
    "synthetic_info = dataGenerate(seed = 745, test_samples = 300, train_samples = 3000)"
   ]
  },
  {
   "cell_type": "code",
   "execution_count": 18,
   "metadata": {
    "scrolled": true
   },
   "outputs": [
    {
     "name": "stderr",
     "output_type": "stream",
     "text": [
      "\n",
      "  0%|          | 0/10 [00:00<?, ?it/s]\u001b[A"
     ]
    },
    {
     "name": "stdout",
     "output_type": "stream",
     "text": [
      "\n",
      " | Global Training Round : 1 |\n",
      "\n"
     ]
    },
    {
     "name": "stderr",
     "output_type": "stream",
     "text": [
      "\n",
      " 10%|█         | 1/10 [00:02<00:21,  2.43s/it]\u001b[A"
     ]
    },
    {
     "name": "stdout",
     "output_type": "stream",
     "text": [
      "Client 1: accuracy loss: 7.26 | fairness loss 44.52 | Demographic disparity = 0.15\n",
      "Client 2: accuracy loss: 7.19 | fairness loss 69.66 | Demographic disparity = 0.03\n",
      "Client 3: accuracy loss: 6.84 | fairness loss 76.25 | Demographic disparity = 0.18\n",
      " \n",
      "Avg Training Stats after 1 global rounds:\n",
      "Training loss: 496.70 | Validation accuracy: 47.81% | Validation Demographic disparity: 0.0995\n",
      "\n",
      " | Global Training Round : 2 |\n",
      "\n"
     ]
    },
    {
     "name": "stderr",
     "output_type": "stream",
     "text": [
      "\n",
      " 20%|██        | 2/10 [00:04<00:19,  2.38s/it]\u001b[A"
     ]
    },
    {
     "name": "stdout",
     "output_type": "stream",
     "text": [
      "Client 1: accuracy loss: 6.65 | fairness loss 1.35 | Demographic disparity = 0.00\n",
      "Client 2: accuracy loss: 6.17 | fairness loss 1.78 | Demographic disparity = 0.04\n",
      "Client 3: accuracy loss: 6.26 | fairness loss 1.72 | Demographic disparity = 0.03\n",
      " \n",
      "Avg Training Stats after 2 global rounds:\n",
      "Training loss: 296.11 | Validation accuracy: 63.15% | Validation Demographic disparity: 0.0327\n",
      "\n",
      " | Global Training Round : 3 |\n",
      "\n"
     ]
    },
    {
     "name": "stderr",
     "output_type": "stream",
     "text": [
      "\n",
      " 30%|███       | 3/10 [00:07<00:17,  2.44s/it]\u001b[A"
     ]
    },
    {
     "name": "stdout",
     "output_type": "stream",
     "text": [
      "Client 1: accuracy loss: 6.61 | fairness loss 1.01 | Demographic disparity = 0.00\n",
      "Client 2: accuracy loss: 6.16 | fairness loss 1.67 | Demographic disparity = 0.03\n",
      "Client 3: accuracy loss: 6.25 | fairness loss 1.39 | Demographic disparity = 0.02\n",
      " \n",
      "Avg Training Stats after 3 global rounds:\n",
      "Training loss: 224.30 | Validation accuracy: 62.44% | Validation Demographic disparity: 0.0218\n",
      "\n",
      " | Global Training Round : 4 |\n",
      "\n"
     ]
    },
    {
     "name": "stderr",
     "output_type": "stream",
     "text": [
      "\n",
      " 40%|████      | 4/10 [00:09<00:14,  2.43s/it]\u001b[A"
     ]
    },
    {
     "name": "stdout",
     "output_type": "stream",
     "text": [
      "Client 1: accuracy loss: 6.61 | fairness loss 1.01 | Demographic disparity = 0.00\n",
      "Client 2: accuracy loss: 6.16 | fairness loss 1.67 | Demographic disparity = 0.03\n",
      "Client 3: accuracy loss: 6.25 | fairness loss 1.39 | Demographic disparity = 0.02\n",
      " \n",
      "Avg Training Stats after 4 global rounds:\n",
      "Training loss: 188.35 | Validation accuracy: 62.44% | Validation Demographic disparity: 0.0218\n",
      "\n",
      " | Global Training Round : 5 |\n",
      "\n"
     ]
    },
    {
     "name": "stderr",
     "output_type": "stream",
     "text": [
      "\n",
      " 50%|█████     | 5/10 [00:11<00:11,  2.38s/it]\u001b[A"
     ]
    },
    {
     "name": "stdout",
     "output_type": "stream",
     "text": [
      "Client 1: accuracy loss: 6.61 | fairness loss 1.01 | Demographic disparity = 0.00\n",
      "Client 2: accuracy loss: 6.16 | fairness loss 1.67 | Demographic disparity = 0.03\n",
      "Client 3: accuracy loss: 6.25 | fairness loss 1.39 | Demographic disparity = 0.02\n",
      " \n",
      "Avg Training Stats after 5 global rounds:\n",
      "Training loss: 166.77 | Validation accuracy: 62.44% | Validation Demographic disparity: 0.0218\n",
      "\n",
      " | Global Training Round : 6 |\n",
      "\n"
     ]
    },
    {
     "name": "stderr",
     "output_type": "stream",
     "text": [
      "\n",
      " 60%|██████    | 6/10 [00:14<00:09,  2.47s/it]\u001b[A"
     ]
    },
    {
     "name": "stdout",
     "output_type": "stream",
     "text": [
      "Client 1: accuracy loss: 6.61 | fairness loss 1.01 | Demographic disparity = 0.00\n",
      "Client 2: accuracy loss: 6.16 | fairness loss 1.67 | Demographic disparity = 0.03\n",
      "Client 3: accuracy loss: 6.25 | fairness loss 1.39 | Demographic disparity = 0.02\n",
      " \n",
      "Avg Training Stats after 6 global rounds:\n",
      "Training loss: 152.39 | Validation accuracy: 62.44% | Validation Demographic disparity: 0.0218\n",
      "\n",
      " | Global Training Round : 7 |\n",
      "\n"
     ]
    },
    {
     "name": "stderr",
     "output_type": "stream",
     "text": [
      "\n",
      " 70%|███████   | 7/10 [00:17<00:07,  2.49s/it]\u001b[A"
     ]
    },
    {
     "name": "stdout",
     "output_type": "stream",
     "text": [
      "Client 1: accuracy loss: 6.61 | fairness loss 1.01 | Demographic disparity = 0.00\n",
      "Client 2: accuracy loss: 6.16 | fairness loss 1.67 | Demographic disparity = 0.03\n",
      "Client 3: accuracy loss: 6.25 | fairness loss 1.39 | Demographic disparity = 0.02\n",
      " \n",
      "Avg Training Stats after 7 global rounds:\n",
      "Training loss: 142.12 | Validation accuracy: 62.44% | Validation Demographic disparity: 0.0218\n",
      "\n",
      " | Global Training Round : 8 |\n",
      "\n"
     ]
    },
    {
     "name": "stderr",
     "output_type": "stream",
     "text": [
      "\n",
      " 80%|████████  | 8/10 [00:19<00:04,  2.45s/it]\u001b[A"
     ]
    },
    {
     "name": "stdout",
     "output_type": "stream",
     "text": [
      "Client 1: accuracy loss: 6.61 | fairness loss 1.01 | Demographic disparity = 0.00\n",
      "Client 2: accuracy loss: 6.16 | fairness loss 1.67 | Demographic disparity = 0.03\n",
      "Client 3: accuracy loss: 6.25 | fairness loss 1.39 | Demographic disparity = 0.02\n",
      " \n",
      "Avg Training Stats after 8 global rounds:\n",
      "Training loss: 134.41 | Validation accuracy: 62.44% | Validation Demographic disparity: 0.0218\n",
      "\n",
      " | Global Training Round : 9 |\n",
      "\n"
     ]
    },
    {
     "name": "stderr",
     "output_type": "stream",
     "text": [
      "\n",
      " 90%|█████████ | 9/10 [00:21<00:02,  2.42s/it]\u001b[A"
     ]
    },
    {
     "name": "stdout",
     "output_type": "stream",
     "text": [
      "Client 1: accuracy loss: 6.61 | fairness loss 1.01 | Demographic disparity = 0.00\n",
      "Client 2: accuracy loss: 6.16 | fairness loss 1.67 | Demographic disparity = 0.03\n",
      "Client 3: accuracy loss: 6.25 | fairness loss 1.39 | Demographic disparity = 0.02\n",
      " \n",
      "Avg Training Stats after 9 global rounds:\n",
      "Training loss: 128.42 | Validation accuracy: 62.44% | Validation Demographic disparity: 0.0218\n",
      "\n",
      " | Global Training Round : 10 |\n",
      "\n"
     ]
    },
    {
     "name": "stderr",
     "output_type": "stream",
     "text": [
      "\n",
      "100%|██████████| 10/10 [00:24<00:00,  2.43s/it]\u001b[A"
     ]
    },
    {
     "name": "stdout",
     "output_type": "stream",
     "text": [
      "Client 1: accuracy loss: 6.61 | fairness loss 1.01 | Demographic disparity = 0.00\n",
      "Client 2: accuracy loss: 6.16 | fairness loss 1.67 | Demographic disparity = 0.03\n",
      "Client 3: accuracy loss: 6.25 | fairness loss 1.39 | Demographic disparity = 0.02\n",
      " \n",
      "Avg Training Stats after 10 global rounds:\n",
      "Training loss: 123.62 | Validation accuracy: 62.44% | Validation Demographic disparity: 0.0218\n",
      " \n",
      " Results after 10 global rounds of training:\n",
      "|---- Avg Train Accuracy: 62.44%\n",
      "|---- Test Accuracy: 62.67%\n",
      "|---- Test Demographic disparity: 0.0207\n",
      "\n",
      " Total Run Time: 24.2987 sec\n"
     ]
    },
    {
     "name": "stderr",
     "output_type": "stream",
     "text": [
      "\n"
     ]
    }
   ],
   "source": [
    "server = Server(logReg(num_features=3, num_classes=2, seed = seed), synthetic_info, train_prn = False, metric = \"Demographic disparity\", seed = seed)\n",
    "server.LocalZafar(num_rounds = 10, local_epochs = 30, optimizer = 'adam', learning_rate = 0.002, penalty = 2500)"
   ]
  },
  {
   "cell_type": "code",
   "execution_count": 16,
   "metadata": {
    "scrolled": true
   },
   "outputs": [
    {
     "name": "stderr",
     "output_type": "stream",
     "text": [
      "\r",
      "  0%|          | 0/10 [00:00<?, ?it/s]"
     ]
    },
    {
     "name": "stdout",
     "output_type": "stream",
     "text": [
      "\n",
      " | Global Training Round : 1 |\n",
      "\n"
     ]
    },
    {
     "name": "stderr",
     "output_type": "stream",
     "text": [
      "\r",
      " 10%|█         | 1/10 [00:02<00:18,  2.09s/it]"
     ]
    },
    {
     "name": "stdout",
     "output_type": "stream",
     "text": [
      "Client 1: accuracy loss: 3.29 | fairness loss 360.66 | Demographic disparity = 0.69\n",
      "Client 2: accuracy loss: 2.64 | fairness loss 555.87 | Demographic disparity = 0.42\n",
      "Client 3: accuracy loss: 3.17 | fairness loss 467.91 | Demographic disparity = 0.47\n",
      " \n",
      "Avg Training Stats after 1 global rounds:\n",
      "Training loss: 31.23 | Validation accuracy: 85.65% | Validation Demographic disparity: 0.4942\n",
      "\n",
      " | Global Training Round : 2 |\n",
      "\n"
     ]
    },
    {
     "name": "stderr",
     "output_type": "stream",
     "text": [
      "\r",
      " 20%|██        | 2/10 [00:04<00:16,  2.05s/it]"
     ]
    },
    {
     "name": "stdout",
     "output_type": "stream",
     "text": [
      "Client 1: accuracy loss: 3.57 | fairness loss 342.51 | Demographic disparity = 0.52\n",
      "Client 2: accuracy loss: 2.19 | fairness loss 652.65 | Demographic disparity = 0.35\n",
      "Client 3: accuracy loss: 3.10 | fairness loss 561.81 | Demographic disparity = 0.36\n",
      " \n",
      "Avg Training Stats after 2 global rounds:\n",
      "Training loss: 30.82 | Validation accuracy: 86.95% | Validation Demographic disparity: 0.3887\n",
      "\n",
      " | Global Training Round : 3 |\n",
      "\n"
     ]
    },
    {
     "name": "stderr",
     "output_type": "stream",
     "text": [
      "\r",
      " 30%|███       | 3/10 [00:05<00:14,  2.00s/it]"
     ]
    },
    {
     "name": "stdout",
     "output_type": "stream",
     "text": [
      "Client 1: accuracy loss: 7.32 | fairness loss 83.57 | Demographic disparity = 0.22\n",
      "Client 2: accuracy loss: 6.59 | fairness loss 124.53 | Demographic disparity = 0.05\n",
      "Client 3: accuracy loss: 7.01 | fairness loss 123.50 | Demographic disparity = 0.16\n",
      " \n",
      "Avg Training Stats after 3 global rounds:\n",
      "Training loss: 44.55 | Validation accuracy: 60.14% | Validation Demographic disparity: 0.1281\n",
      "\n",
      " | Global Training Round : 4 |\n",
      "\n"
     ]
    },
    {
     "name": "stderr",
     "output_type": "stream",
     "text": [
      "\r",
      " 40%|████      | 4/10 [00:08<00:12,  2.07s/it]"
     ]
    },
    {
     "name": "stdout",
     "output_type": "stream",
     "text": [
      "Client 1: accuracy loss: 4.69 | fairness loss 74.48 | Demographic disparity = 0.15\n",
      "Client 2: accuracy loss: 3.78 | fairness loss 162.07 | Demographic disparity = 0.18\n",
      "Client 3: accuracy loss: 4.54 | fairness loss 153.18 | Demographic disparity = 0.08\n",
      " \n",
      "Avg Training Stats after 4 global rounds:\n",
      "Training loss: 44.58 | Validation accuracy: 77.13% | Validation Demographic disparity: 0.1384\n",
      "\n",
      " | Global Training Round : 5 |\n",
      "\n"
     ]
    },
    {
     "name": "stderr",
     "output_type": "stream",
     "text": [
      "\r",
      " 50%|█████     | 5/10 [00:11<00:11,  2.32s/it]"
     ]
    },
    {
     "name": "stdout",
     "output_type": "stream",
     "text": [
      "Client 1: accuracy loss: 4.98 | fairness loss 57.71 | Demographic disparity = 0.03\n",
      "Client 2: accuracy loss: 4.38 | fairness loss 110.12 | Demographic disparity = 0.11\n",
      "Client 3: accuracy loss: 5.03 | fairness loss 108.03 | Demographic disparity = 0.02\n",
      " \n",
      "Avg Training Stats after 5 global rounds:\n",
      "Training loss: 45.55 | Validation accuracy: 72.66% | Validation Demographic disparity: 0.0479\n",
      "\n",
      " | Global Training Round : 6 |\n",
      "\n"
     ]
    },
    {
     "name": "stderr",
     "output_type": "stream",
     "text": [
      "\r",
      " 60%|██████    | 6/10 [00:13<00:09,  2.25s/it]"
     ]
    },
    {
     "name": "stdout",
     "output_type": "stream",
     "text": [
      "Client 1: accuracy loss: 4.47 | fairness loss 80.62 | Demographic disparity = 0.21\n",
      "Client 2: accuracy loss: 3.71 | fairness loss 185.01 | Demographic disparity = 0.21\n",
      "Client 3: accuracy loss: 4.45 | fairness loss 169.92 | Demographic disparity = 0.08\n",
      " \n",
      "Avg Training Stats after 6 global rounds:\n",
      "Training loss: 45.18 | Validation accuracy: 78.70% | Validation Demographic disparity: 0.1638\n",
      "\n",
      " | Global Training Round : 7 |\n",
      "\n"
     ]
    },
    {
     "name": "stderr",
     "output_type": "stream",
     "text": [
      "\r",
      " 70%|███████   | 7/10 [00:15<00:06,  2.23s/it]"
     ]
    },
    {
     "name": "stdout",
     "output_type": "stream",
     "text": [
      "Client 1: accuracy loss: 4.81 | fairness loss 69.92 | Demographic disparity = 0.12\n",
      "Client 2: accuracy loss: 4.22 | fairness loss 129.23 | Demographic disparity = 0.15\n",
      "Client 3: accuracy loss: 4.90 | fairness loss 124.04 | Demographic disparity = 0.02\n",
      " \n",
      "Avg Training Stats after 7 global rounds:\n",
      "Training loss: 45.55 | Validation accuracy: 74.59% | Validation Demographic disparity: 0.0939\n",
      "\n",
      " | Global Training Round : 8 |\n",
      "\n"
     ]
    },
    {
     "name": "stderr",
     "output_type": "stream",
     "text": [
      "\r",
      " 80%|████████  | 8/10 [00:17<00:04,  2.22s/it]"
     ]
    },
    {
     "name": "stdout",
     "output_type": "stream",
     "text": [
      "Client 1: accuracy loss: 4.66 | fairness loss 92.55 | Demographic disparity = 0.17\n",
      "Client 2: accuracy loss: 3.95 | fairness loss 219.09 | Demographic disparity = 0.18\n",
      "Client 3: accuracy loss: 4.68 | fairness loss 200.04 | Demographic disparity = 0.05\n",
      " \n",
      "Avg Training Stats after 8 global rounds:\n",
      "Training loss: 45.56 | Validation accuracy: 76.93% | Validation Demographic disparity: 0.1299\n",
      "\n",
      " | Global Training Round : 9 |\n",
      "\n"
     ]
    },
    {
     "name": "stderr",
     "output_type": "stream",
     "text": [
      "\r",
      " 90%|█████████ | 9/10 [00:19<00:02,  2.14s/it]"
     ]
    },
    {
     "name": "stdout",
     "output_type": "stream",
     "text": [
      "Client 1: accuracy loss: 4.56 | fairness loss 103.86 | Demographic disparity = 0.17\n",
      "Client 2: accuracy loss: 3.92 | fairness loss 174.37 | Demographic disparity = 0.19\n",
      "Client 3: accuracy loss: 4.65 | fairness loss 161.45 | Demographic disparity = 0.05\n",
      " \n",
      "Avg Training Stats after 9 global rounds:\n",
      "Training loss: 45.50 | Validation accuracy: 77.26% | Validation Demographic disparity: 0.1332\n",
      "\n",
      " | Global Training Round : 10 |\n",
      "\n"
     ]
    },
    {
     "name": "stderr",
     "output_type": "stream",
     "text": [
      "100%|██████████| 10/10 [00:22<00:00,  2.21s/it]"
     ]
    },
    {
     "name": "stdout",
     "output_type": "stream",
     "text": [
      "Client 1: accuracy loss: 5.17 | fairness loss 132.24 | Demographic disparity = 0.04\n",
      "Client 2: accuracy loss: 4.56 | fairness loss 294.74 | Demographic disparity = 0.12\n",
      "Client 3: accuracy loss: 5.27 | fairness loss 266.43 | Demographic disparity = 0.03\n",
      " \n",
      "Avg Training Stats after 10 global rounds:\n",
      "Training loss: 46.10 | Validation accuracy: 73.54% | Validation Demographic disparity: 0.0422\n",
      " \n",
      " Results after 10 global rounds of training:\n",
      "|---- Avg Train Accuracy: 73.54%\n",
      "|---- Test Accuracy: 72.67%\n",
      "|---- Test Demographic disparity: 0.0060\n",
      "\n",
      " Total Run Time: 22.1442 sec\n"
     ]
    },
    {
     "name": "stderr",
     "output_type": "stream",
     "text": [
      "\n"
     ]
    }
   ],
   "source": [
    "server = Server(logReg(num_features=3, num_classes=2, seed = seed), synthetic_info, train_prn = False, metric = \"Demographic disparity\", seed = seed)\n",
    "server.LocalFT(num_rounds = 10, local_epochs = 30, init_epochs = 50, lr_g = 0.004, lr_d = 0.01, lambda_d = (0.9, 0.8, 0.8))\n"
   ]
  },
  {
   "cell_type": "code",
   "execution_count": null,
   "metadata": {},
   "outputs": [],
   "source": []
  }
 ],
 "metadata": {
  "kernelspec": {
   "display_name": "Python 3",
   "language": "python",
   "name": "python3"
  },
  "language_info": {
   "codemirror_mode": {
    "name": "ipython",
    "version": 3
   },
   "file_extension": ".py",
   "mimetype": "text/x-python",
   "name": "python",
   "nbconvert_exporter": "python",
   "pygments_lexer": "ipython3",
   "version": "3.7.4"
  }
 },
 "nbformat": 4,
 "nbformat_minor": 2
}
