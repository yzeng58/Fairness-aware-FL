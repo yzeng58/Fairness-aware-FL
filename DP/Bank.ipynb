{
 "cells": [
  {
   "cell_type": "code",
   "execution_count": 1,
   "metadata": {},
   "outputs": [],
   "source": [
    "from Server import *\n",
    "from load_bank import *\n",
    "seed  = 123"
   ]
  },
  {
   "cell_type": "code",
   "execution_count": 3,
   "metadata": {
    "scrolled": true
   },
   "outputs": [
    {
     "name": "stderr",
     "output_type": "stream",
     "text": [
      "\r",
      "  0%|          | 0/5 [00:00<?, ?it/s]"
     ]
    },
    {
     "name": "stdout",
     "output_type": "stream",
     "text": [
      "\n",
      " | Global Training Round : 1 |\n",
      "\n"
     ]
    },
    {
     "name": "stderr",
     "output_type": "stream",
     "text": [
      "\r",
      " 20%|██        | 1/5 [00:18<01:13, 18.35s/it]"
     ]
    },
    {
     "name": "stdout",
     "output_type": "stream",
     "text": [
      "Client 1: accuracy loss: 46.47 | fairness loss 541.86 | Demographic disparity = 0.02\n",
      "Client 2: accuracy loss: 15.96 | fairness loss 445.61 | Demographic disparity = 0.01\n",
      "Client 3: accuracy loss: 37.32 | fairness loss 537.71 | Demographic disparity = 0.02\n",
      " \n",
      "Avg Training Stats after 1 global rounds:\n",
      "Training loss: 37.83 | Validation accuracy: 90.26% | Validation Demographic disparity: 0.0149\n",
      "\n",
      " | Global Training Round : 2 |\n",
      "\n"
     ]
    },
    {
     "name": "stderr",
     "output_type": "stream",
     "text": [
      "\r",
      " 40%|████      | 2/5 [00:36<00:54, 18.22s/it]"
     ]
    },
    {
     "name": "stdout",
     "output_type": "stream",
     "text": [
      "Client 1: accuracy loss: 43.79 | fairness loss 740.75 | Demographic disparity = 0.02\n",
      "Client 2: accuracy loss: 14.33 | fairness loss 630.32 | Demographic disparity = 0.01\n",
      "Client 3: accuracy loss: 34.94 | fairness loss 733.19 | Demographic disparity = 0.03\n",
      " \n",
      "Avg Training Stats after 2 global rounds:\n",
      "Training loss: 35.74 | Validation accuracy: 90.64% | Validation Demographic disparity: 0.0172\n",
      "\n",
      " | Global Training Round : 3 |\n",
      "\n"
     ]
    },
    {
     "name": "stderr",
     "output_type": "stream",
     "text": [
      "\r",
      " 60%|██████    | 3/5 [00:54<00:36, 18.17s/it]"
     ]
    },
    {
     "name": "stdout",
     "output_type": "stream",
     "text": [
      "Client 1: accuracy loss: 42.78 | fairness loss 953.95 | Demographic disparity = 0.03\n",
      "Client 2: accuracy loss: 13.48 | fairness loss 836.88 | Demographic disparity = 0.02\n",
      "Client 3: accuracy loss: 34.04 | fairness loss 946.46 | Demographic disparity = 0.04\n",
      " \n",
      "Avg Training Stats after 3 global rounds:\n",
      "Training loss: 34.50 | Validation accuracy: 90.75% | Validation Demographic disparity: 0.0250\n",
      "\n",
      " | Global Training Round : 4 |\n",
      "\n"
     ]
    },
    {
     "name": "stderr",
     "output_type": "stream",
     "text": [
      "\r",
      " 80%|████████  | 4/5 [01:12<00:18, 18.08s/it]"
     ]
    },
    {
     "name": "stdout",
     "output_type": "stream",
     "text": [
      "Client 1: accuracy loss: 42.54 | fairness loss 1133.10 | Demographic disparity = 0.04\n",
      "Client 2: accuracy loss: 13.07 | fairness loss 1011.04 | Demographic disparity = 0.04\n",
      "Client 3: accuracy loss: 33.80 | fairness loss 1125.93 | Demographic disparity = 0.04\n",
      " \n",
      "Avg Training Stats after 4 global rounds:\n",
      "Training loss: 33.71 | Validation accuracy: 91.07% | Validation Demographic disparity: 0.0263\n",
      "\n",
      " | Global Training Round : 5 |\n",
      "\n"
     ]
    },
    {
     "name": "stderr",
     "output_type": "stream",
     "text": [
      "100%|██████████| 5/5 [01:30<00:00, 18.01s/it]"
     ]
    },
    {
     "name": "stdout",
     "output_type": "stream",
     "text": [
      "Client 1: accuracy loss: 42.55 | fairness loss 1260.21 | Demographic disparity = 0.03\n",
      "Client 2: accuracy loss: 12.88 | fairness loss 1134.72 | Demographic disparity = 0.03\n",
      "Client 3: accuracy loss: 33.78 | fairness loss 1252.81 | Demographic disparity = 0.04\n",
      " \n",
      "Avg Training Stats after 5 global rounds:\n",
      "Training loss: 33.18 | Validation accuracy: 91.17% | Validation Demographic disparity: 0.0252\n",
      " \n",
      " Results after 5 global rounds of training:\n",
      "|---- Avg Train Accuracy: 91.17%\n",
      "|---- Test Accuracy: 89.83%\n",
      "|---- Test Demographic disparity: 0.0292\n",
      "\n",
      " Total Run Time: 90.1417 sec\n"
     ]
    },
    {
     "name": "stderr",
     "output_type": "stream",
     "text": [
      "\n"
     ]
    }
   ],
   "source": [
    "server = Server(logReg(num_features=bank_num_features, num_classes=2, seed = seed), bank_info, train_prn = False, seed = seed, Z = bank_z)\n",
    "server.Unconstrained(num_rounds = 5, local_epochs = 20, optimizer = 'adam', learning_rate = 0.002)\n"
   ]
  },
  {
   "cell_type": "code",
   "execution_count": 11,
   "metadata": {
    "scrolled": true
   },
   "outputs": [
    {
     "name": "stderr",
     "output_type": "stream",
     "text": [
      "\n",
      "  0%|          | 0/5 [00:00<?, ?it/s]\u001b[A"
     ]
    },
    {
     "name": "stdout",
     "output_type": "stream",
     "text": [
      "\n",
      " | Global Training Round : 1 |\n",
      "\n"
     ]
    },
    {
     "name": "stderr",
     "output_type": "stream",
     "text": [
      "\n",
      " 20%|██        | 1/5 [00:20<01:22, 20.63s/it]\u001b[A"
     ]
    },
    {
     "name": "stdout",
     "output_type": "stream",
     "text": [
      "Client 1: accuracy loss: 81.39 | fairness loss 1.38 | Demographic disparity = 0.00\n",
      "Client 2: accuracy loss: 34.24 | fairness loss 2.98 | Demographic disparity = 0.00\n",
      " \n",
      "Avg Training Stats after 1 global rounds:\n",
      "Training loss: 44.61 | Validation accuracy: 90.23% | Validation Demographic disparity: 0.0000\n",
      "\n",
      " | Global Training Round : 2 |\n",
      "\n"
     ]
    },
    {
     "name": "stderr",
     "output_type": "stream",
     "text": [
      "\n",
      " 40%|████      | 2/5 [00:41<01:01, 20.63s/it]\u001b[A"
     ]
    },
    {
     "name": "stdout",
     "output_type": "stream",
     "text": [
      "Client 1: accuracy loss: 81.34 | fairness loss 1.40 | Demographic disparity = 0.00\n",
      "Client 2: accuracy loss: 34.21 | fairness loss 3.00 | Demographic disparity = 0.00\n",
      " \n",
      "Avg Training Stats after 2 global rounds:\n",
      "Training loss: 44.04 | Validation accuracy: 90.23% | Validation Demographic disparity: 0.0000\n",
      "\n",
      " | Global Training Round : 3 |\n",
      "\n"
     ]
    },
    {
     "name": "stderr",
     "output_type": "stream",
     "text": [
      "\n",
      " 60%|██████    | 3/5 [01:02<00:41, 20.72s/it]\u001b[A"
     ]
    },
    {
     "name": "stdout",
     "output_type": "stream",
     "text": [
      "Client 1: accuracy loss: 81.34 | fairness loss 1.40 | Demographic disparity = 0.00\n",
      "Client 2: accuracy loss: 34.21 | fairness loss 3.00 | Demographic disparity = 0.00\n",
      " \n",
      "Avg Training Stats after 3 global rounds:\n",
      "Training loss: 43.85 | Validation accuracy: 90.23% | Validation Demographic disparity: 0.0000\n",
      "\n",
      " | Global Training Round : 4 |\n",
      "\n"
     ]
    },
    {
     "name": "stderr",
     "output_type": "stream",
     "text": [
      "\n",
      " 80%|████████  | 4/5 [01:22<00:20, 20.72s/it]\u001b[A"
     ]
    },
    {
     "name": "stdout",
     "output_type": "stream",
     "text": [
      "Client 1: accuracy loss: 81.34 | fairness loss 1.40 | Demographic disparity = 0.00\n",
      "Client 2: accuracy loss: 34.21 | fairness loss 3.00 | Demographic disparity = 0.00\n",
      " \n",
      "Avg Training Stats after 4 global rounds:\n",
      "Training loss: 43.75 | Validation accuracy: 90.23% | Validation Demographic disparity: 0.0000\n",
      "\n",
      " | Global Training Round : 5 |\n",
      "\n"
     ]
    },
    {
     "name": "stderr",
     "output_type": "stream",
     "text": [
      "\n",
      "100%|██████████| 5/5 [01:45<00:00, 21.03s/it]\u001b[A"
     ]
    },
    {
     "name": "stdout",
     "output_type": "stream",
     "text": [
      "Client 1: accuracy loss: 81.34 | fairness loss 1.40 | Demographic disparity = 0.00\n",
      "Client 2: accuracy loss: 34.21 | fairness loss 3.00 | Demographic disparity = 0.00\n",
      " \n",
      "Avg Training Stats after 5 global rounds:\n",
      "Training loss: 43.69 | Validation accuracy: 90.23% | Validation Demographic disparity: 0.0000\n",
      " \n",
      " Results after 5 global rounds of training:\n",
      "|---- Avg Train Accuracy: 90.23%\n",
      "|---- Test Accuracy: 87.66%\n",
      "|---- Test Demographic disparity: 0.0000\n",
      "\n",
      " Total Run Time: 105.2860 sec\n"
     ]
    },
    {
     "name": "stderr",
     "output_type": "stream",
     "text": [
      "\n"
     ]
    }
   ],
   "source": [
    "server = Server(logReg(num_features=bank_num_features, num_classes=2, seed = seed), bank_info, train_prn = False, seed = seed, Z = bank_z)\n",
    "server.LocalZafar(num_rounds = 5, local_epochs = 20, optimizer = 'adam', learning_rate = 0.001, penalty = 50)"
   ]
  },
  {
   "cell_type": "code",
   "execution_count": 14,
   "metadata": {
    "scrolled": true
   },
   "outputs": [
    {
     "name": "stderr",
     "output_type": "stream",
     "text": [
      "\n",
      "\n",
      "  0%|          | 0/2 [00:00<?, ?it/s]\u001b[A\u001b[A"
     ]
    },
    {
     "name": "stdout",
     "output_type": "stream",
     "text": [
      "\n",
      " | Testing Round : 1 | constraint :  Cov(z, d) < c\n",
      "\n"
     ]
    },
    {
     "name": "stderr",
     "output_type": "stream",
     "text": [
      "\n",
      "\n",
      " 50%|█████     | 1/2 [00:18<00:18, 18.14s/it]\u001b[A\u001b[A"
     ]
    },
    {
     "name": "stdout",
     "output_type": "stream",
     "text": [
      "Client 1: accuracy loss: 191.58 | fairness loss 5917649.95 | Demographic disparity = 0.34\n",
      "Client 2: accuracy loss: 78.41 | fairness loss 6263826.68 | Demographic disparity = 0.32\n",
      " \n",
      "Avg Training Stats after 1 Testing rounds:\n",
      "Training loss: -11514.82 | Validation accuracy: 79.77% | Validation Demographic disparity: 0.3323\n",
      "\n",
      " | Testing Round : 2 | constraint :  Cov(z, d) < c\n",
      "\n"
     ]
    },
    {
     "name": "stderr",
     "output_type": "stream",
     "text": [
      "\n",
      "\n",
      "100%|██████████| 2/2 [00:36<00:00, 18.13s/it]\u001b[A\u001b[A\n",
      "\n",
      "\n",
      "  0%|          | 0/2 [00:00<?, ?it/s]\u001b[A\u001b[A"
     ]
    },
    {
     "name": "stdout",
     "output_type": "stream",
     "text": [
      "Client 1: accuracy loss: 353.58 | fairness loss 23905265.64 | Demographic disparity = 0.22\n",
      "Client 2: accuracy loss: 144.17 | fairness loss 25288846.36 | Demographic disparity = 0.21\n",
      " \n",
      "Avg Training Stats after 2 Testing rounds:\n",
      "Training loss: -27775.87 | Validation accuracy: 81.52% | Validation Demographic disparity: 0.2202\n",
      "\n",
      " | Testing Round : 1 | constraint :  Cov(z, d) > -c\n",
      "\n"
     ]
    },
    {
     "name": "stderr",
     "output_type": "stream",
     "text": [
      "\n",
      "\n",
      " 50%|█████     | 1/2 [00:18<00:18, 18.09s/it]\u001b[A\u001b[A"
     ]
    },
    {
     "name": "stdout",
     "output_type": "stream",
     "text": [
      "Client 1: accuracy loss: 190.81 | fairness loss 6104199.23 | Demographic disparity = 0.08\n",
      "Client 2: accuracy loss: 85.84 | fairness loss 6403377.39 | Demographic disparity = 0.10\n",
      " \n",
      "Avg Training Stats after 1 Testing rounds:\n",
      "Training loss: -22405.56 | Validation accuracy: 86.93% | Validation Demographic disparity: 0.0850\n",
      "\n",
      " | Testing Round : 2 | constraint :  Cov(z, d) > -c\n",
      "\n"
     ]
    },
    {
     "name": "stderr",
     "output_type": "stream",
     "text": [
      "\n",
      "\n",
      "100%|██████████| 2/2 [00:36<00:00, 18.04s/it]\u001b[A\u001b[A\n",
      "\n",
      "\n",
      "  0%|          | 0/6 [00:00<?, ?it/s]\u001b[A\u001b[A"
     ]
    },
    {
     "name": "stdout",
     "output_type": "stream",
     "text": [
      "Client 1: accuracy loss: 381.36 | fairness loss 24407956.36 | Demographic disparity = 0.02\n",
      "Client 2: accuracy loss: 168.82 | fairness loss 25609049.18 | Demographic disparity = 0.02\n",
      " \n",
      "Avg Training Stats after 2 Testing rounds:\n",
      "Training loss: -27846.33 | Validation accuracy: 89.69% | Validation Demographic disparity: 0.0163\n",
      "\n",
      " | Global Round : 1 | constraint :  Cov(z, d) > -c\n",
      "\n"
     ]
    },
    {
     "name": "stderr",
     "output_type": "stream",
     "text": [
      "\n",
      "\n",
      " 17%|█▋        | 1/6 [00:18<01:30, 18.12s/it]\u001b[A\u001b[A"
     ]
    },
    {
     "name": "stdout",
     "output_type": "stream",
     "text": [
      "Client 1: accuracy loss: 421.48 | fairness loss 29508770.18 | Demographic disparity = 0.02\n",
      "Client 2: accuracy loss: 185.92 | fairness loss 30962740.36 | Demographic disparity = 0.01\n",
      " \n",
      "Avg Training Stats after 1 global rounds:\n",
      "Training loss: -33044.90 | Validation accuracy: 89.94% | Validation Demographic disparity: 0.0137\n",
      "\n",
      " | Global Round : 2 | constraint :  Cov(z, d) > -c\n",
      "\n"
     ]
    },
    {
     "name": "stderr",
     "output_type": "stream",
     "text": [
      "\n",
      "\n",
      " 33%|███▎      | 2/6 [00:37<01:13, 18.43s/it]\u001b[A\u001b[A"
     ]
    },
    {
     "name": "stdout",
     "output_type": "stream",
     "text": [
      "Client 1: accuracy loss: 463.74 | fairness loss 35094859.82 | Demographic disparity = 0.02\n",
      "Client 2: accuracy loss: 204.24 | fairness loss 36825795.00 | Demographic disparity = 0.02\n",
      " \n",
      "Avg Training Stats after 2 global rounds:\n",
      "Training loss: -37376.10 | Validation accuracy: 89.94% | Validation Demographic disparity: 0.0183\n",
      "\n",
      " | Global Round : 3 | constraint :  Cov(z, d) > -c\n",
      "\n"
     ]
    },
    {
     "name": "stderr",
     "output_type": "stream",
     "text": [
      "\n",
      "\n",
      " 50%|█████     | 3/6 [00:55<00:55, 18.52s/it]\u001b[A\u001b[A"
     ]
    },
    {
     "name": "stdout",
     "output_type": "stream",
     "text": [
      "Client 1: accuracy loss: 506.53 | fairness loss 41162869.82 | Demographic disparity = 0.02\n",
      "Client 2: accuracy loss: 222.80 | fairness loss 43194751.09 | Demographic disparity = 0.01\n",
      " \n",
      "Avg Training Stats after 3 global rounds:\n",
      "Training loss: -41211.62 | Validation accuracy: 90.10% | Validation Demographic disparity: 0.0179\n",
      "\n",
      " | Global Round : 4 | constraint :  Cov(z, d) > -c\n",
      "\n"
     ]
    },
    {
     "name": "stderr",
     "output_type": "stream",
     "text": [
      "\n",
      "\n",
      " 67%|██████▋   | 4/6 [01:14<00:36, 18.42s/it]\u001b[A\u001b[A"
     ]
    },
    {
     "name": "stdout",
     "output_type": "stream",
     "text": [
      "Client 1: accuracy loss: 549.75 | fairness loss 47712708.73 | Demographic disparity = 0.02\n",
      "Client 2: accuracy loss: 241.56 | fairness loss 50069520.00 | Demographic disparity = 0.01\n",
      " \n",
      "Avg Training Stats after 4 global rounds:\n",
      "Training loss: -44737.30 | Validation accuracy: 90.26% | Validation Demographic disparity: 0.0133\n",
      "\n",
      " | Global Round : 5 | constraint :  Cov(z, d) > -c\n",
      "\n"
     ]
    },
    {
     "name": "stderr",
     "output_type": "stream",
     "text": [
      "\n",
      "\n",
      " 83%|████████▎ | 5/6 [01:32<00:18, 18.52s/it]\u001b[A\u001b[A"
     ]
    },
    {
     "name": "stdout",
     "output_type": "stream",
     "text": [
      "Client 1: accuracy loss: 593.33 | fairness loss 54744286.18 | Demographic disparity = 0.02\n",
      "Client 2: accuracy loss: 260.50 | fairness loss 57450002.00 | Demographic disparity = 0.01\n",
      " \n",
      "Avg Training Stats after 5 global rounds:\n",
      "Training loss: -48056.42 | Validation accuracy: 90.23% | Validation Demographic disparity: 0.0133\n",
      "\n",
      " | Global Round : 6 | constraint :  Cov(z, d) > -c\n",
      "\n"
     ]
    },
    {
     "name": "stderr",
     "output_type": "stream",
     "text": [
      "\n",
      "\n",
      "100%|██████████| 6/6 [01:51<00:00, 18.52s/it]\u001b[A\u001b[A"
     ]
    },
    {
     "name": "stdout",
     "output_type": "stream",
     "text": [
      "Client 1: accuracy loss: 637.23 | fairness loss 62257560.73 | Demographic disparity = 0.01\n",
      "Client 2: accuracy loss: 279.59 | fairness loss 65336165.09 | Demographic disparity = 0.01\n",
      " \n",
      "Avg Training Stats after 6 global rounds:\n",
      "Training loss: -51230.94 | Validation accuracy: 90.15% | Validation Demographic disparity: 0.0101\n",
      " \n",
      " Results after 6 global rounds of training:\n",
      "|---- Avg Train Accuracy: 90.15%\n",
      "|---- Test Accuracy: 87.66%\n",
      "|---- Test Demographic disparity: 0.0053\n",
      "\n",
      " Total Run Time: 183.5863 sec\n"
     ]
    },
    {
     "name": "stderr",
     "output_type": "stream",
     "text": [
      "\n"
     ]
    }
   ],
   "source": [
    "server = Server(logReg(num_features=bank_num_features, num_classes=2, seed = seed), bank_info, train_prn = False, seed = seed, Z = bank_z)\n",
    "server.Zafar(test_rounds = 2, test_lr = 0.005, test_penalty = 500, num_rounds = 6, local_epochs = 20, optimizer = 'adam', learning_rate = 0.001, penalty = 400)\n",
    "\n",
    "\n"
   ]
  },
  {
   "cell_type": "code",
   "execution_count": 7,
   "metadata": {
    "scrolled": true
   },
   "outputs": [
    {
     "name": "stderr",
     "output_type": "stream",
     "text": [
      "\r",
      "  0%|          | 0/10 [00:00<?, ?it/s]"
     ]
    },
    {
     "name": "stdout",
     "output_type": "stream",
     "text": [
      "\n",
      " | Global Training Round : 1 |\n",
      "\n"
     ]
    },
    {
     "name": "stderr",
     "output_type": "stream",
     "text": [
      "\r",
      " 10%|█         | 1/10 [00:25<03:52, 25.78s/it]"
     ]
    },
    {
     "name": "stdout",
     "output_type": "stream",
     "text": [
      "Client 1: accuracy loss: 57.82 | fairness loss 158.68 | Demographic disparity = 0.02\n",
      "Client 2: accuracy loss: 20.37 | fairness loss 130.13 | Demographic disparity = 0.01\n",
      "Client 3: accuracy loss: 46.74 | fairness loss 157.97 | Demographic disparity = 0.02\n",
      " \n",
      "Avg Training Stats after 1 global rounds:\n",
      "Training loss: 0.30 | Validation accuracy: 90.31% | Validation Demographic disparity: 0.0145\n",
      "\n",
      " | Global Training Round : 2 |\n",
      "\n"
     ]
    },
    {
     "name": "stderr",
     "output_type": "stream",
     "text": [
      "\r",
      " 20%|██        | 2/10 [00:52<03:27, 25.97s/it]"
     ]
    },
    {
     "name": "stdout",
     "output_type": "stream",
     "text": [
      "Client 1: accuracy loss: 57.79 | fairness loss 150.90 | Demographic disparity = 0.02\n",
      "Client 2: accuracy loss: 20.34 | fairness loss 121.75 | Demographic disparity = 0.01\n",
      "Client 3: accuracy loss: 46.69 | fairness loss 151.05 | Demographic disparity = 0.02\n",
      " \n",
      "Avg Training Stats after 2 global rounds:\n",
      "Training loss: 0.29 | Validation accuracy: 90.33% | Validation Demographic disparity: 0.0147\n",
      "\n",
      " | Global Training Round : 3 |\n",
      "\n"
     ]
    },
    {
     "name": "stderr",
     "output_type": "stream",
     "text": [
      "\r",
      " 30%|███       | 3/10 [01:15<02:56, 25.17s/it]"
     ]
    },
    {
     "name": "stdout",
     "output_type": "stream",
     "text": [
      "Client 1: accuracy loss: 58.43 | fairness loss 138.31 | Demographic disparity = 0.02\n",
      "Client 2: accuracy loss: 20.64 | fairness loss 110.66 | Demographic disparity = 0.01\n",
      "Client 3: accuracy loss: 47.24 | fairness loss 138.89 | Demographic disparity = 0.02\n",
      " \n",
      "Avg Training Stats after 3 global rounds:\n",
      "Training loss: 0.29 | Validation accuracy: 90.33% | Validation Demographic disparity: 0.0138\n",
      "\n",
      " | Global Training Round : 4 |\n",
      "\n"
     ]
    },
    {
     "name": "stderr",
     "output_type": "stream",
     "text": [
      "\r",
      " 40%|████      | 4/10 [01:36<02:23, 23.92s/it]"
     ]
    },
    {
     "name": "stdout",
     "output_type": "stream",
     "text": [
      "Client 1: accuracy loss: 59.12 | fairness loss 126.74 | Demographic disparity = 0.02\n",
      "Client 2: accuracy loss: 20.98 | fairness loss 100.86 | Demographic disparity = 0.01\n",
      "Client 3: accuracy loss: 47.84 | fairness loss 127.50 | Demographic disparity = 0.02\n",
      " \n",
      "Avg Training Stats after 4 global rounds:\n",
      "Training loss: 0.29 | Validation accuracy: 90.35% | Validation Demographic disparity: 0.0130\n",
      "\n",
      " | Global Training Round : 5 |\n",
      "\n"
     ]
    },
    {
     "name": "stderr",
     "output_type": "stream",
     "text": [
      "\r",
      " 50%|█████     | 5/10 [01:59<01:58, 23.66s/it]"
     ]
    },
    {
     "name": "stdout",
     "output_type": "stream",
     "text": [
      "Client 1: accuracy loss: 59.73 | fairness loss 116.64 | Demographic disparity = 0.01\n",
      "Client 2: accuracy loss: 21.30 | fairness loss 92.58 | Demographic disparity = 0.01\n",
      "Client 3: accuracy loss: 48.38 | fairness loss 117.55 | Demographic disparity = 0.02\n",
      " \n",
      "Avg Training Stats after 5 global rounds:\n",
      "Training loss: 0.29 | Validation accuracy: 90.38% | Validation Demographic disparity: 0.0112\n",
      "\n",
      " | Global Training Round : 6 |\n",
      "\n"
     ]
    },
    {
     "name": "stderr",
     "output_type": "stream",
     "text": [
      "\r",
      " 60%|██████    | 6/10 [02:28<01:40, 25.24s/it]"
     ]
    },
    {
     "name": "stdout",
     "output_type": "stream",
     "text": [
      "Client 1: accuracy loss: 60.27 | fairness loss 107.75 | Demographic disparity = 0.01\n",
      "Client 2: accuracy loss: 21.57 | fairness loss 85.46 | Demographic disparity = 0.01\n",
      "Client 3: accuracy loss: 48.84 | fairness loss 108.79 | Demographic disparity = 0.02\n",
      " \n",
      "Avg Training Stats after 6 global rounds:\n",
      "Training loss: 0.29 | Validation accuracy: 90.32% | Validation Demographic disparity: 0.0129\n",
      "\n",
      " | Global Training Round : 7 |\n",
      "\n"
     ]
    },
    {
     "name": "stderr",
     "output_type": "stream",
     "text": [
      "\r",
      " 70%|███████   | 7/10 [02:52<01:14, 24.74s/it]"
     ]
    },
    {
     "name": "stdout",
     "output_type": "stream",
     "text": [
      "Client 1: accuracy loss: 60.73 | fairness loss 99.79 | Demographic disparity = 0.01\n",
      "Client 2: accuracy loss: 21.81 | fairness loss 79.18 | Demographic disparity = 0.01\n",
      "Client 3: accuracy loss: 49.24 | fairness loss 100.96 | Demographic disparity = 0.01\n",
      " \n",
      "Avg Training Stats after 7 global rounds:\n",
      "Training loss: 0.29 | Validation accuracy: 90.18% | Validation Demographic disparity: 0.0095\n",
      "\n",
      " | Global Training Round : 8 |\n",
      "\n"
     ]
    },
    {
     "name": "stderr",
     "output_type": "stream",
     "text": [
      "\r",
      " 80%|████████  | 8/10 [03:17<00:50, 25.10s/it]"
     ]
    },
    {
     "name": "stdout",
     "output_type": "stream",
     "text": [
      "Client 1: accuracy loss: 61.14 | fairness loss 92.55 | Demographic disparity = 0.01\n",
      "Client 2: accuracy loss: 22.02 | fairness loss 73.53 | Demographic disparity = 0.01\n",
      "Client 3: accuracy loss: 49.59 | fairness loss 93.87 | Demographic disparity = 0.01\n",
      " \n",
      "Avg Training Stats after 8 global rounds:\n",
      "Training loss: 0.29 | Validation accuracy: 90.22% | Validation Demographic disparity: 0.0082\n",
      "\n",
      " | Global Training Round : 9 |\n",
      "\n"
     ]
    },
    {
     "name": "stderr",
     "output_type": "stream",
     "text": [
      "\r",
      " 90%|█████████ | 9/10 [03:41<00:24, 24.67s/it]"
     ]
    },
    {
     "name": "stdout",
     "output_type": "stream",
     "text": [
      "Client 1: accuracy loss: 61.51 | fairness loss 85.94 | Demographic disparity = 0.01\n",
      "Client 2: accuracy loss: 22.21 | fairness loss 68.37 | Demographic disparity = 0.01\n",
      "Client 3: accuracy loss: 49.90 | fairness loss 87.39 | Demographic disparity = 0.01\n",
      " \n",
      "Avg Training Stats after 9 global rounds:\n",
      "Training loss: 0.29 | Validation accuracy: 90.09% | Validation Demographic disparity: 0.0084\n",
      "\n",
      " | Global Training Round : 10 |\n",
      "\n"
     ]
    },
    {
     "name": "stderr",
     "output_type": "stream",
     "text": [
      "100%|██████████| 10/10 [04:03<00:00, 24.32s/it]"
     ]
    },
    {
     "name": "stdout",
     "output_type": "stream",
     "text": [
      "Client 1: accuracy loss: 61.84 | fairness loss 79.86 | Demographic disparity = 0.01\n",
      "Client 2: accuracy loss: 22.38 | fairness loss 63.64 | Demographic disparity = 0.01\n",
      "Client 3: accuracy loss: 50.18 | fairness loss 81.44 | Demographic disparity = 0.01\n",
      " \n",
      "Avg Training Stats after 10 global rounds:\n",
      "Training loss: 0.30 | Validation accuracy: 89.96% | Validation Demographic disparity: 0.0074\n",
      " \n",
      " Results after 10 global rounds of training:\n",
      "|---- Avg Train Accuracy: 89.96%\n",
      "|---- Test Accuracy: 88.74%\n",
      "|---- Test Demographic disparity: 0.0207\n",
      "\n",
      " Total Run Time: 243.3273 sec\n"
     ]
    },
    {
     "name": "stderr",
     "output_type": "stream",
     "text": [
      "\n"
     ]
    }
   ],
   "source": [
    "server = Server(logReg(num_features=bank_num_features, num_classes=2, seed = seed), bank_info, train_prn = False, seed = seed, Z = bank_z)\n",
    "server.BiasCorrecting(num_rounds = 10, local_epochs = 20, optimizer = 'adam', learning_rate = 0.002, alpha = 0.2)"
   ]
  },
  {
   "cell_type": "code",
   "execution_count": 13,
   "metadata": {
    "scrolled": true
   },
   "outputs": [
    {
     "name": "stderr",
     "output_type": "stream",
     "text": [
      "\r",
      "  0%|          | 0/2 [00:00<?, ?it/s]"
     ]
    },
    {
     "name": "stdout",
     "output_type": "stream",
     "text": [
      "\n",
      " | Global Training Round : 1 |\n",
      "\n"
     ]
    },
    {
     "name": "stderr",
     "output_type": "stream",
     "text": [
      "\r",
      " 50%|█████     | 1/2 [00:30<00:30, 30.86s/it]"
     ]
    },
    {
     "name": "stdout",
     "output_type": "stream",
     "text": [
      "Client 1: accuracy loss: 42.83 | fairness loss 885.21 | Demographic disparity = 0.00\n",
      "Client 2: accuracy loss: 13.73 | fairness loss 770.86 | Demographic disparity = 0.00\n",
      "Client 3: accuracy loss: 34.12 | fairness loss 880.48 | Demographic disparity = 0.00\n",
      " \n",
      "Avg Training Stats after 1 global rounds:\n",
      "Training loss: 34.79 | Validation accuracy: 90.70% | Validation Demographic disparity: 0.0016\n",
      "\n",
      " | Global Training Round : 2 |\n",
      "\n"
     ]
    },
    {
     "name": "stderr",
     "output_type": "stream",
     "text": [
      "100%|██████████| 2/2 [01:04<00:00, 32.26s/it]"
     ]
    },
    {
     "name": "stdout",
     "output_type": "stream",
     "text": [
      "Client 1: accuracy loss: 42.41 | fairness loss 1305.42 | Demographic disparity = 0.00\n",
      "Client 2: accuracy loss: 12.83 | fairness loss 1180.82 | Demographic disparity = 0.00\n",
      "Client 3: accuracy loss: 33.65 | fairness loss 1299.55 | Demographic disparity = 0.00\n",
      " \n",
      "Avg Training Stats after 2 global rounds:\n",
      "Training loss: 33.04 | Validation accuracy: 91.08% | Validation Demographic disparity: 0.0017\n"
     ]
    },
    {
     "name": "stderr",
     "output_type": "stream",
     "text": [
      "\n",
      "  0%|          | 0/3 [00:00<?, ?it/s]"
     ]
    },
    {
     "name": "stdout",
     "output_type": "stream",
     "text": [
      " \n",
      " Results after 2 global rounds of training:\n",
      "|---- Avg Train Accuracy: 91.08%\n",
      "|---- Test Accuracy: 89.83%\n",
      "|---- Test Demographic disparity: 0.0192\n",
      "\n",
      " Total Run Time: 64.6772 sec\n"
     ]
    },
    {
     "name": "stderr",
     "output_type": "stream",
     "text": [
      "\r",
      " 33%|███▎      | 1/3 [00:11<00:23, 11.89s/it]"
     ]
    },
    {
     "name": "stdout",
     "output_type": "stream",
     "text": [
      " \n",
      "Avg Training Stats after 1 threshold adjusting global rounds:\n",
      "Training loss: 72.99 | Validation accuracy: 90.46% | Validation Demographic disparity: 0.0023\n"
     ]
    },
    {
     "name": "stderr",
     "output_type": "stream",
     "text": [
      "\r",
      " 67%|██████▋   | 2/3 [00:23<00:11, 11.94s/it]"
     ]
    },
    {
     "name": "stdout",
     "output_type": "stream",
     "text": [
      " \n",
      "Avg Training Stats after 2 threshold adjusting global rounds:\n",
      "Training loss: 73.10 | Validation accuracy: 90.55% | Validation Demographic disparity: 0.0011\n",
      " \n",
      "Avg Training Stats after 3 threshold adjusting global rounds:\n",
      "Training loss: 73.26 | Validation accuracy: 90.42% | Validation Demographic disparity: 0.0001\n",
      " \n",
      " Results after 3 global rounds of training:\n",
      "|---- Test Accuracy: 88.89%\n",
      "|---- Test Demographic disparity: 0.0192\n",
      "\n",
      " Total Run Time: 35.5377 sec\n"
     ]
    }
   ],
   "source": [
    "server = Server(logReg(num_features=bank_num_features, num_classes=2, seed = seed), bank_info, train_prn = False, seed = seed)\n",
    "server.Unconstrained(num_rounds = 2, local_epochs = 30, optimizer = 'adam', learning_rate = 0.004)\n",
    "server.ThresholdAdjust(num_rounds = 3, local_epochs = 20, epsilon = 0.0001, learning_rate = 0.0001)"
   ]
  },
  {
   "cell_type": "code",
   "execution_count": 5,
   "metadata": {
    "scrolled": true
   },
   "outputs": [
    {
     "name": "stderr",
     "output_type": "stream",
     "text": [
      "\n",
      "\n",
      "  0%|          | 0/10 [00:00<?, ?it/s]\u001b[A\u001b[A"
     ]
    },
    {
     "name": "stdout",
     "output_type": "stream",
     "text": [
      "\n",
      " | Global Training Round : 1 |\n",
      "\n"
     ]
    },
    {
     "name": "stderr",
     "output_type": "stream",
     "text": [
      "\n",
      "\n",
      " 10%|█         | 1/10 [00:50<07:37, 50.80s/it]\u001b[A\u001b[A"
     ]
    },
    {
     "name": "stdout",
     "output_type": "stream",
     "text": [
      "Client 1: predictor loss: 42.55 | adversary loss 1.52 | Demographic disparity = 0.03\n",
      "Client 2: predictor loss: 13.43 | adversary loss 1.54 | Demographic disparity = 0.02\n",
      "Client 3: predictor loss: 33.86 | adversary loss 1.53 | Demographic disparity = 0.03\n",
      " \n",
      "Avg Training Stats after 1 global rounds:\n",
      "Training loss: 0.27 | Validation accuracy: 90.59% | Validation Demographic disparity: 0.0214\n",
      "\n",
      " | Global Training Round : 2 |\n",
      "\n"
     ]
    },
    {
     "name": "stderr",
     "output_type": "stream",
     "text": [
      "\n",
      "\n",
      " 20%|██        | 2/10 [01:23<06:03, 45.48s/it]\u001b[A\u001b[A"
     ]
    },
    {
     "name": "stdout",
     "output_type": "stream",
     "text": [
      "Client 1: predictor loss: 48.08 | adversary loss 1.51 | Demographic disparity = 0.01\n",
      "Client 2: predictor loss: 15.88 | adversary loss 1.53 | Demographic disparity = 0.02\n",
      "Client 3: predictor loss: 36.84 | adversary loss 1.52 | Demographic disparity = 0.04\n",
      " \n",
      "Avg Training Stats after 2 global rounds:\n",
      "Training loss: 0.29 | Validation accuracy: 90.67% | Validation Demographic disparity: 0.0217\n",
      "\n",
      " | Global Training Round : 3 |\n",
      "\n"
     ]
    },
    {
     "name": "stderr",
     "output_type": "stream",
     "text": [
      "\n",
      "\n",
      " 30%|███       | 3/10 [02:07<05:13, 44.81s/it]\u001b[A\u001b[A"
     ]
    },
    {
     "name": "stdout",
     "output_type": "stream",
     "text": [
      "Client 1: predictor loss: 49.28 | adversary loss 1.60 | Demographic disparity = 0.02\n",
      "Client 2: predictor loss: 15.83 | adversary loss 1.61 | Demographic disparity = 0.03\n",
      "Client 3: predictor loss: 36.43 | adversary loss 1.61 | Demographic disparity = 0.03\n",
      " \n",
      "Avg Training Stats after 3 global rounds:\n",
      "Training loss: 0.29 | Validation accuracy: 90.85% | Validation Demographic disparity: 0.0201\n",
      "\n",
      " | Global Training Round : 4 |\n",
      "\n"
     ]
    },
    {
     "name": "stderr",
     "output_type": "stream",
     "text": [
      "\n",
      "\n",
      " 40%|████      | 4/10 [02:57<04:39, 46.55s/it]\u001b[A\u001b[A"
     ]
    },
    {
     "name": "stdout",
     "output_type": "stream",
     "text": [
      "Client 1: predictor loss: 46.88 | adversary loss 1.59 | Demographic disparity = 0.03\n",
      "Client 2: predictor loss: 13.78 | adversary loss 1.60 | Demographic disparity = 0.03\n",
      "Client 3: predictor loss: 34.94 | adversary loss 1.61 | Demographic disparity = 0.04\n",
      " \n",
      "Avg Training Stats after 4 global rounds:\n",
      "Training loss: 0.29 | Validation accuracy: 90.85% | Validation Demographic disparity: 0.0269\n",
      "\n",
      " | Global Training Round : 5 |\n",
      "\n"
     ]
    },
    {
     "name": "stderr",
     "output_type": "stream",
     "text": [
      "\n",
      "\n",
      " 50%|█████     | 5/10 [03:44<03:53, 46.67s/it]\u001b[A\u001b[A"
     ]
    },
    {
     "name": "stdout",
     "output_type": "stream",
     "text": [
      "Client 1: predictor loss: 47.78 | adversary loss 1.59 | Demographic disparity = 0.05\n",
      "Client 2: predictor loss: 13.95 | adversary loss 1.60 | Demographic disparity = 0.03\n",
      "Client 3: predictor loss: 35.47 | adversary loss 1.61 | Demographic disparity = 0.05\n",
      " \n",
      "Avg Training Stats after 5 global rounds:\n",
      "Training loss: 0.29 | Validation accuracy: 90.89% | Validation Demographic disparity: 0.0371\n",
      "\n",
      " | Global Training Round : 6 |\n",
      "\n"
     ]
    },
    {
     "name": "stderr",
     "output_type": "stream",
     "text": [
      "\n",
      "\n",
      " 60%|██████    | 6/10 [04:15<02:47, 41.96s/it]\u001b[A\u001b[A"
     ]
    },
    {
     "name": "stdout",
     "output_type": "stream",
     "text": [
      "Client 1: predictor loss: 45.75 | adversary loss 1.59 | Demographic disparity = 0.03\n",
      "Client 2: predictor loss: 13.08 | adversary loss 1.61 | Demographic disparity = 0.03\n",
      "Client 3: predictor loss: 35.00 | adversary loss 1.61 | Demographic disparity = 0.03\n",
      " \n",
      "Avg Training Stats after 6 global rounds:\n",
      "Training loss: 0.28 | Validation accuracy: 90.92% | Validation Demographic disparity: 0.0228\n",
      "\n",
      " | Global Training Round : 7 |\n",
      "\n"
     ]
    },
    {
     "name": "stderr",
     "output_type": "stream",
     "text": [
      "\n",
      "\n",
      " 70%|███████   | 7/10 [04:42<01:52, 37.38s/it]\u001b[A\u001b[A"
     ]
    },
    {
     "name": "stdout",
     "output_type": "stream",
     "text": [
      "Client 1: predictor loss: 45.41 | adversary loss 1.59 | Demographic disparity = 0.02\n",
      "Client 2: predictor loss: 13.18 | adversary loss 1.61 | Demographic disparity = 0.03\n",
      "Client 3: predictor loss: 34.78 | adversary loss 1.61 | Demographic disparity = 0.04\n",
      " \n",
      "Avg Training Stats after 7 global rounds:\n",
      "Training loss: 0.28 | Validation accuracy: 90.89% | Validation Demographic disparity: 0.0214\n",
      "\n",
      " | Global Training Round : 8 |\n",
      "\n"
     ]
    },
    {
     "name": "stderr",
     "output_type": "stream",
     "text": [
      "\n",
      "\n",
      " 80%|████████  | 8/10 [05:08<01:07, 33.99s/it]\u001b[A\u001b[A"
     ]
    },
    {
     "name": "stdout",
     "output_type": "stream",
     "text": [
      "Client 1: predictor loss: 45.40 | adversary loss 1.59 | Demographic disparity = 0.02\n",
      "Client 2: predictor loss: 13.21 | adversary loss 1.61 | Demographic disparity = 0.03\n",
      "Client 3: predictor loss: 34.77 | adversary loss 1.61 | Demographic disparity = 0.03\n",
      " \n",
      "Avg Training Stats after 8 global rounds:\n",
      "Training loss: 0.28 | Validation accuracy: 90.93% | Validation Demographic disparity: 0.0178\n",
      "\n",
      " | Global Training Round : 9 |\n",
      "\n"
     ]
    },
    {
     "name": "stderr",
     "output_type": "stream",
     "text": [
      "\n",
      "\n",
      " 90%|█████████ | 9/10 [05:37<00:32, 32.67s/it]\u001b[A\u001b[A"
     ]
    },
    {
     "name": "stdout",
     "output_type": "stream",
     "text": [
      "Client 1: predictor loss: 45.07 | adversary loss 1.59 | Demographic disparity = 0.01\n",
      "Client 2: predictor loss: 13.16 | adversary loss 1.60 | Demographic disparity = 0.03\n",
      "Client 3: predictor loss: 34.73 | adversary loss 1.61 | Demographic disparity = 0.04\n",
      " \n",
      "Avg Training Stats after 9 global rounds:\n",
      "Training loss: 0.27 | Validation accuracy: 90.89% | Validation Demographic disparity: 0.0215\n",
      "\n",
      " | Global Training Round : 10 |\n",
      "\n"
     ]
    },
    {
     "name": "stderr",
     "output_type": "stream",
     "text": [
      "\n",
      "\n",
      "100%|██████████| 10/10 [06:04<00:00, 36.46s/it]\u001b[A\u001b[A"
     ]
    },
    {
     "name": "stdout",
     "output_type": "stream",
     "text": [
      "Client 1: predictor loss: 45.17 | adversary loss 1.59 | Demographic disparity = 0.02\n",
      "Client 2: predictor loss: 13.19 | adversary loss 1.61 | Demographic disparity = 0.03\n",
      "Client 3: predictor loss: 34.65 | adversary loss 1.61 | Demographic disparity = 0.03\n",
      " \n",
      "Avg Training Stats after 10 global rounds:\n",
      "Training loss: 0.27 | Validation accuracy: 91.00% | Validation Demographic disparity: 0.0182\n",
      " \n",
      " Results after 10 global rounds of training:\n",
      "|---- Avg Train Accuracy: 91.00%\n",
      "|---- Test Accuracy: 89.81%\n",
      "|---- Test Demographic disparity: 0.0186\n",
      "\n",
      " Total Run Time: 364.6749 sec\n"
     ]
    },
    {
     "name": "stderr",
     "output_type": "stream",
     "text": [
      "\n"
     ]
    }
   ],
   "source": [
    "server = Server(logReg(num_features=bank_num_features, num_classes=2, seed = seed), bank_info, train_prn = False, metric = \"Demographic disparity\", seed = seed, Z = bank_z)\n",
    "server.FTrain(num_rounds = 10, local_epochs = 30, init_epochs = 50, lr_g = 0.005, lr_d = 0.01, lambda_d = 0.9)"
   ]
  },
  {
   "cell_type": "code",
   "execution_count": null,
   "metadata": {},
   "outputs": [],
   "source": []
  }
 ],
 "metadata": {
  "kernelspec": {
   "display_name": "Python 3",
   "language": "python",
   "name": "python3"
  },
  "language_info": {
   "codemirror_mode": {
    "name": "ipython",
    "version": 3
   },
   "file_extension": ".py",
   "mimetype": "text/x-python",
   "name": "python",
   "nbconvert_exporter": "python",
   "pygments_lexer": "ipython3",
   "version": "3.7.4"
  }
 },
 "nbformat": 4,
 "nbformat_minor": 2
}
