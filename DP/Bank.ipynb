{
 "cells": [
  {
   "cell_type": "code",
   "execution_count": 1,
   "metadata": {},
   "outputs": [],
   "source": [
    "from Server import *\n",
    "from load_bank import *\n",
    "seed  = 123"
   ]
  },
  {
   "cell_type": "code",
   "execution_count": 2,
   "metadata": {
    "scrolled": true
   },
   "outputs": [
    {
     "name": "stderr",
     "output_type": "stream",
     "text": [
      "\r",
      "  0%|          | 0/5 [00:00<?, ?it/s]"
     ]
    },
    {
     "name": "stdout",
     "output_type": "stream",
     "text": [
      "\n",
      " | Global Training Round : 1 |\n",
      "\n"
     ]
    },
    {
     "name": "stderr",
     "output_type": "stream",
     "text": [
      "\r",
      " 20%|██        | 1/5 [00:20<01:21, 20.48s/it]"
     ]
    },
    {
     "name": "stdout",
     "output_type": "stream",
     "text": [
      "Client 1: accuracy loss: 40.24 | fairness loss 578.90 | Demographic disparity = 0.01\n",
      "Client 2: accuracy loss: 13.72 | fairness loss 553.10 | Demographic disparity = 0.02\n",
      "Client 3: accuracy loss: 36.39 | fairness loss 568.70 | Demographic disparity = 0.03\n",
      " \n",
      "Avg Training Stats after 1 global rounds:\n",
      "Training loss: 38.25 | Validation accuracy: 90.43% | Validation Demographic disparity: 0.0191\n",
      "\n",
      " | Global Training Round : 2 |\n",
      "\n"
     ]
    },
    {
     "name": "stderr",
     "output_type": "stream",
     "text": [
      "\r",
      " 40%|████      | 2/5 [00:38<00:59, 19.80s/it]"
     ]
    },
    {
     "name": "stdout",
     "output_type": "stream",
     "text": [
      "Client 1: accuracy loss: 37.69 | fairness loss 742.91 | Demographic disparity = 0.02\n",
      "Client 2: accuracy loss: 12.77 | fairness loss 706.73 | Demographic disparity = 0.02\n",
      "Client 3: accuracy loss: 34.05 | fairness loss 713.26 | Demographic disparity = 0.03\n",
      " \n",
      "Avg Training Stats after 2 global rounds:\n",
      "Training loss: 36.16 | Validation accuracy: 90.55% | Validation Demographic disparity: 0.0201\n",
      "\n",
      " | Global Training Round : 3 |\n",
      "\n"
     ]
    },
    {
     "name": "stderr",
     "output_type": "stream",
     "text": [
      "\r",
      " 60%|██████    | 3/5 [01:02<00:42, 21.06s/it]"
     ]
    },
    {
     "name": "stdout",
     "output_type": "stream",
     "text": [
      "Client 1: accuracy loss: 36.53 | fairness loss 926.26 | Demographic disparity = 0.02\n",
      "Client 2: accuracy loss: 12.28 | fairness loss 871.56 | Demographic disparity = 0.02\n",
      "Client 3: accuracy loss: 32.87 | fairness loss 876.86 | Demographic disparity = 0.03\n",
      " \n",
      "Avg Training Stats after 3 global rounds:\n",
      "Training loss: 34.90 | Validation accuracy: 90.45% | Validation Demographic disparity: 0.0226\n",
      "\n",
      " | Global Training Round : 4 |\n",
      "\n"
     ]
    },
    {
     "name": "stderr",
     "output_type": "stream",
     "text": [
      "\r",
      " 80%|████████  | 4/5 [01:25<00:21, 21.56s/it]"
     ]
    },
    {
     "name": "stdout",
     "output_type": "stream",
     "text": [
      "Client 1: accuracy loss: 36.12 | fairness loss 1096.03 | Demographic disparity = 0.02\n",
      "Client 2: accuracy loss: 12.07 | fairness loss 1022.35 | Demographic disparity = 0.02\n",
      "Client 3: accuracy loss: 32.36 | fairness loss 1030.61 | Demographic disparity = 0.03\n",
      " \n",
      "Avg Training Stats after 4 global rounds:\n",
      "Training loss: 34.08 | Validation accuracy: 90.74% | Validation Demographic disparity: 0.0215\n",
      "\n",
      " | Global Training Round : 5 |\n",
      "\n"
     ]
    },
    {
     "name": "stderr",
     "output_type": "stream",
     "text": [
      "100%|██████████| 5/5 [01:50<00:00, 22.09s/it]"
     ]
    },
    {
     "name": "stdout",
     "output_type": "stream",
     "text": [
      "Client 1: accuracy loss: 36.01 | fairness loss 1227.12 | Demographic disparity = 0.02\n",
      "Client 2: accuracy loss: 11.99 | fairness loss 1140.02 | Demographic disparity = 0.02\n",
      "Client 3: accuracy loss: 32.15 | fairness loss 1149.90 | Demographic disparity = 0.03\n",
      " \n",
      "Avg Training Stats after 5 global rounds:\n",
      "Training loss: 33.52 | Validation accuracy: 90.75% | Validation Demographic disparity: 0.0233\n"
     ]
    },
    {
     "name": "stderr",
     "output_type": "stream",
     "text": [
      "\n"
     ]
    },
    {
     "name": "stdout",
     "output_type": "stream",
     "text": [
      " \n",
      " Results after 5 global rounds of training:\n",
      "|---- Avg Train Accuracy: 90.75%\n",
      "|---- Test Accuracy: 89.95%\n",
      "|---- Test Demographic disparity: 0.0224\n",
      "\n",
      " Total Run Time: 110.8213 sec\n"
     ]
    }
   ],
   "source": [
    "server = Server(logReg(num_features=bank_num_features, num_classes=2, seed = seed), bank_info, train_prn = False, seed = seed, Z = bank_z)\n",
    "server.Unconstrained(num_rounds = 5, local_epochs = 20, optimizer = 'adam', learning_rate = 0.002)\n"
   ]
  },
  {
   "cell_type": "code",
   "execution_count": 3,
   "metadata": {
    "scrolled": true
   },
   "outputs": [
    {
     "name": "stderr",
     "output_type": "stream",
     "text": [
      " 20%|██        | 1/5 [00:14<00:57, 14.28s/it]"
     ]
    },
    {
     "name": "stdout",
     "output_type": "stream",
     "text": [
      " \n",
      "Avg Training Stats after 1 threshold adjusting global rounds:\n",
      "Training loss: 551.73 | Validation accuracy: 90.41% | Validation Demographic disparity: 0.0188\n"
     ]
    },
    {
     "name": "stderr",
     "output_type": "stream",
     "text": [
      "\r",
      " 40%|████      | 2/5 [00:28<00:42, 14.32s/it]"
     ]
    },
    {
     "name": "stdout",
     "output_type": "stream",
     "text": [
      " \n",
      "Avg Training Stats after 2 threshold adjusting global rounds:\n",
      "Training loss: 556.91 | Validation accuracy: 90.39% | Validation Demographic disparity: 0.0154\n"
     ]
    },
    {
     "name": "stderr",
     "output_type": "stream",
     "text": [
      "\r",
      " 60%|██████    | 3/5 [00:46<00:30, 15.25s/it]"
     ]
    },
    {
     "name": "stdout",
     "output_type": "stream",
     "text": [
      " \n",
      "Avg Training Stats after 3 threshold adjusting global rounds:\n",
      "Training loss: 561.20 | Validation accuracy: 90.43% | Validation Demographic disparity: 0.0122\n",
      " \n",
      "Avg Training Stats after 4 threshold adjusting global rounds:\n",
      "Training loss: 575.41 | Validation accuracy: 90.39% | Validation Demographic disparity: 0.0093\n",
      " \n",
      " Results after 5 global rounds of training:\n",
      "|---- Test Accuracy: 89.68%\n",
      "|---- Test Demographic disparity: 0.0080\n",
      "\n",
      " Total Run Time: 66.1511 sec\n"
     ]
    }
   ],
   "source": [
    "server.ThresholdAdjust(num_rounds = 5, local_epochs = 30, epsilon = 0.01, learning_rate = 0.0008)"
   ]
  },
  {
   "cell_type": "code",
   "execution_count": 6,
   "metadata": {
    "scrolled": true
   },
   "outputs": [
    {
     "name": "stderr",
     "output_type": "stream",
     "text": [
      "\n",
      "  0%|          | 0/10 [00:00<?, ?it/s]\u001b[A"
     ]
    },
    {
     "name": "stdout",
     "output_type": "stream",
     "text": [
      "\n",
      " | Global Training Round : 1 |\n",
      "\n"
     ]
    },
    {
     "name": "stderr",
     "output_type": "stream",
     "text": [
      "\n",
      " 10%|█         | 1/10 [00:22<03:20, 22.23s/it]\u001b[A"
     ]
    },
    {
     "name": "stdout",
     "output_type": "stream",
     "text": [
      "Client 1: accuracy loss: 52.74 | fairness loss 137.80 | Demographic disparity = 0.01\n",
      "Client 2: accuracy loss: 18.37 | fairness loss 133.09 | Demographic disparity = 0.01\n",
      "Client 3: accuracy loss: 44.93 | fairness loss 136.16 | Demographic disparity = 0.02\n",
      " \n",
      "Avg Training Stats after 1 global rounds:\n",
      "Training loss: 0.32 | Validation accuracy: 90.21% | Validation Demographic disparity: 0.0121\n",
      "\n",
      " | Global Training Round : 2 |\n",
      "\n"
     ]
    },
    {
     "name": "stderr",
     "output_type": "stream",
     "text": [
      "\n",
      " 20%|██        | 2/10 [00:46<03:03, 22.90s/it]\u001b[A"
     ]
    },
    {
     "name": "stdout",
     "output_type": "stream",
     "text": [
      "Client 1: accuracy loss: 52.47 | fairness loss 137.33 | Demographic disparity = 0.01\n",
      "Client 2: accuracy loss: 18.28 | fairness loss 131.65 | Demographic disparity = 0.01\n",
      "Client 3: accuracy loss: 44.76 | fairness loss 134.53 | Demographic disparity = 0.02\n",
      " \n",
      "Avg Training Stats after 2 global rounds:\n",
      "Training loss: 0.31 | Validation accuracy: 90.19% | Validation Demographic disparity: 0.0120\n",
      "\n",
      " | Global Training Round : 3 |\n",
      "\n"
     ]
    },
    {
     "name": "stderr",
     "output_type": "stream",
     "text": [
      "\n",
      " 30%|███       | 3/10 [01:11<02:43, 23.37s/it]\u001b[A"
     ]
    },
    {
     "name": "stdout",
     "output_type": "stream",
     "text": [
      "Client 1: accuracy loss: 52.95 | fairness loss 120.53 | Demographic disparity = 0.01\n",
      "Client 2: accuracy loss: 18.55 | fairness loss 115.99 | Demographic disparity = 0.00\n",
      "Client 3: accuracy loss: 45.17 | fairness loss 117.45 | Demographic disparity = 0.02\n",
      " \n",
      "Avg Training Stats after 3 global rounds:\n",
      "Training loss: 0.30 | Validation accuracy: 90.18% | Validation Demographic disparity: 0.0129\n",
      "\n",
      " | Global Training Round : 4 |\n",
      "\n"
     ]
    },
    {
     "name": "stderr",
     "output_type": "stream",
     "text": [
      "\n",
      " 40%|████      | 4/10 [01:31<02:14, 22.48s/it]\u001b[A"
     ]
    },
    {
     "name": "stdout",
     "output_type": "stream",
     "text": [
      "Client 1: accuracy loss: 53.56 | fairness loss 103.87 | Demographic disparity = 0.02\n",
      "Client 2: accuracy loss: 18.85 | fairness loss 100.75 | Demographic disparity = 0.01\n",
      "Client 3: accuracy loss: 45.66 | fairness loss 100.81 | Demographic disparity = 0.02\n",
      " \n",
      "Avg Training Stats after 4 global rounds:\n",
      "Training loss: 0.30 | Validation accuracy: 89.84% | Validation Demographic disparity: 0.0138\n",
      "\n",
      " | Global Training Round : 5 |\n",
      "\n"
     ]
    },
    {
     "name": "stderr",
     "output_type": "stream",
     "text": [
      "\n",
      " 50%|█████     | 5/10 [01:48<01:44, 20.96s/it]\u001b[A"
     ]
    },
    {
     "name": "stdout",
     "output_type": "stream",
     "text": [
      "Client 1: accuracy loss: 54.16 | fairness loss 89.15 | Demographic disparity = 0.02\n",
      "Client 2: accuracy loss: 19.15 | fairness loss 87.25 | Demographic disparity = 0.00\n",
      "Client 3: accuracy loss: 46.15 | fairness loss 86.19 | Demographic disparity = 0.02\n",
      " \n",
      "Avg Training Stats after 5 global rounds:\n",
      "Training loss: 0.30 | Validation accuracy: 89.84% | Validation Demographic disparity: 0.0130\n",
      "\n",
      " | Global Training Round : 6 |\n",
      "\n"
     ]
    },
    {
     "name": "stderr",
     "output_type": "stream",
     "text": [
      "\n",
      " 60%|██████    | 6/10 [02:06<01:19, 19.80s/it]\u001b[A"
     ]
    },
    {
     "name": "stdout",
     "output_type": "stream",
     "text": [
      "Client 1: accuracy loss: 54.74 | fairness loss 76.57 | Demographic disparity = 0.02\n",
      "Client 2: accuracy loss: 19.44 | fairness loss 75.63 | Demographic disparity = 0.00\n",
      "Client 3: accuracy loss: 46.61 | fairness loss 73.76 | Demographic disparity = 0.02\n",
      " \n",
      "Avg Training Stats after 6 global rounds:\n",
      "Training loss: 0.31 | Validation accuracy: 89.72% | Validation Demographic disparity: 0.0135\n",
      "\n",
      " | Global Training Round : 7 |\n",
      "\n"
     ]
    },
    {
     "name": "stderr",
     "output_type": "stream",
     "text": [
      "\n",
      " 70%|███████   | 7/10 [02:24<00:58, 19.39s/it]\u001b[A"
     ]
    },
    {
     "name": "stdout",
     "output_type": "stream",
     "text": [
      "Client 1: accuracy loss: 55.28 | fairness loss 65.98 | Demographic disparity = 0.01\n",
      "Client 2: accuracy loss: 19.71 | fairness loss 65.75 | Demographic disparity = 0.00\n",
      "Client 3: accuracy loss: 47.04 | fairness loss 63.33 | Demographic disparity = 0.01\n",
      " \n",
      "Avg Training Stats after 7 global rounds:\n",
      "Training loss: 0.31 | Validation accuracy: 89.54% | Validation Demographic disparity: 0.0105\n",
      "\n",
      " | Global Training Round : 8 |\n",
      "\n"
     ]
    },
    {
     "name": "stderr",
     "output_type": "stream",
     "text": [
      "\n",
      " 80%|████████  | 8/10 [02:41<00:37, 18.75s/it]\u001b[A"
     ]
    },
    {
     "name": "stdout",
     "output_type": "stream",
     "text": [
      "Client 1: accuracy loss: 55.80 | fairness loss 57.14 | Demographic disparity = 0.00\n",
      "Client 2: accuracy loss: 19.96 | fairness loss 57.45 | Demographic disparity = 0.00\n",
      "Client 3: accuracy loss: 47.45 | fairness loss 54.65 | Demographic disparity = 0.00\n",
      " \n",
      "Avg Training Stats after 8 global rounds:\n",
      "Training loss: 0.31 | Validation accuracy: 89.43% | Validation Demographic disparity: 0.0025\n",
      "\n",
      " | Global Training Round : 9 |\n",
      "\n"
     ]
    },
    {
     "name": "stderr",
     "output_type": "stream",
     "text": [
      "\n",
      " 90%|█████████ | 9/10 [02:59<00:18, 18.34s/it]\u001b[A"
     ]
    },
    {
     "name": "stdout",
     "output_type": "stream",
     "text": [
      "Client 1: accuracy loss: 56.29 | fairness loss 49.80 | Demographic disparity = 0.00\n",
      "Client 2: accuracy loss: 20.21 | fairness loss 50.48 | Demographic disparity = 0.00\n",
      "Client 3: accuracy loss: 47.83 | fairness loss 47.47 | Demographic disparity = 0.00\n",
      " \n",
      "Avg Training Stats after 9 global rounds:\n",
      "Training loss: 0.31 | Validation accuracy: 89.41% | Validation Demographic disparity: 0.0000\n",
      "\n",
      " | Global Training Round : 10 |\n",
      "\n"
     ]
    },
    {
     "name": "stderr",
     "output_type": "stream",
     "text": [
      "\n",
      "100%|██████████| 10/10 [03:16<00:00, 19.64s/it]\u001b[A"
     ]
    },
    {
     "name": "stdout",
     "output_type": "stream",
     "text": [
      "Client 1: accuracy loss: 56.76 | fairness loss 43.70 | Demographic disparity = 0.00\n",
      "Client 2: accuracy loss: 20.44 | fairness loss 44.67 | Demographic disparity = 0.00\n",
      "Client 3: accuracy loss: 48.20 | fairness loss 41.53 | Demographic disparity = 0.00\n",
      " \n",
      "Avg Training Stats after 10 global rounds:\n",
      "Training loss: 0.31 | Validation accuracy: 89.41% | Validation Demographic disparity: 0.0000\n"
     ]
    },
    {
     "name": "stderr",
     "output_type": "stream",
     "text": [
      "\n"
     ]
    },
    {
     "name": "stdout",
     "output_type": "stream",
     "text": [
      " \n",
      " Results after 10 global rounds of training:\n",
      "|---- Avg Train Accuracy: 89.41%\n",
      "|---- Test Accuracy: 88.22%\n",
      "|---- Test Demographic disparity: 0.0000\n",
      "\n",
      " Total Run Time: 196.5940 sec\n"
     ]
    }
   ],
   "source": [
    "server = Server(logReg(num_features=bank_num_features, num_classes=2, seed = seed), bank_info, train_prn = False, seed = seed, Z = bank_z)\n",
    "server.BiasCorrecting(num_rounds = 10, local_epochs = 20, optimizer = 'adam', learning_rate = 0.002, alpha = 0.05)"
   ]
  },
  {
   "cell_type": "code",
   "execution_count": 7,
   "metadata": {
    "scrolled": true
   },
   "outputs": [
    {
     "name": "stderr",
     "output_type": "stream",
     "text": [
      "\n",
      "  0%|          | 0/5 [00:00<?, ?it/s]\u001b[A"
     ]
    },
    {
     "name": "stdout",
     "output_type": "stream",
     "text": [
      "\n",
      " | Global Training Round : 1 |\n",
      "\n"
     ]
    },
    {
     "name": "stderr",
     "output_type": "stream",
     "text": [
      "\n",
      " 20%|██        | 1/5 [00:22<01:31, 22.94s/it]\u001b[A"
     ]
    },
    {
     "name": "stdout",
     "output_type": "stream",
     "text": [
      "Client 1: accuracy loss: 48.60 | fairness loss 1.18 | Demographic disparity = 0.00\n",
      "Client 2: accuracy loss: 16.17 | fairness loss 0.76 | Demographic disparity = 0.00\n",
      "Client 3: accuracy loss: 42.73 | fairness loss 1.11 | Demographic disparity = 0.00\n",
      " \n",
      "Avg Training Stats after 1 global rounds:\n",
      "Training loss: 45.27 | Validation accuracy: 89.41% | Validation Demographic disparity: 0.0000\n",
      "\n",
      " | Global Training Round : 2 |\n",
      "\n"
     ]
    },
    {
     "name": "stderr",
     "output_type": "stream",
     "text": [
      "\n",
      " 40%|████      | 2/5 [00:42<01:05, 21.99s/it]\u001b[A"
     ]
    },
    {
     "name": "stdout",
     "output_type": "stream",
     "text": [
      "Client 1: accuracy loss: 48.12 | fairness loss 1.55 | Demographic disparity = 0.00\n",
      "Client 2: accuracy loss: 16.02 | fairness loss 1.02 | Demographic disparity = 0.00\n",
      "Client 3: accuracy loss: 42.25 | fairness loss 1.45 | Demographic disparity = 0.00\n",
      " \n",
      "Avg Training Stats after 2 global rounds:\n",
      "Training loss: 44.29 | Validation accuracy: 89.41% | Validation Demographic disparity: 0.0000\n",
      "\n",
      " | Global Training Round : 3 |\n",
      "\n"
     ]
    },
    {
     "name": "stderr",
     "output_type": "stream",
     "text": [
      "\n",
      " 60%|██████    | 3/5 [01:03<00:43, 21.74s/it]\u001b[A"
     ]
    },
    {
     "name": "stdout",
     "output_type": "stream",
     "text": [
      "Client 1: accuracy loss: 48.03 | fairness loss 1.63 | Demographic disparity = 0.00\n",
      "Client 2: accuracy loss: 15.99 | fairness loss 1.08 | Demographic disparity = 0.00\n",
      "Client 3: accuracy loss: 42.16 | fairness loss 1.52 | Demographic disparity = 0.00\n",
      " \n",
      "Avg Training Stats after 3 global rounds:\n",
      "Training loss: 43.96 | Validation accuracy: 89.41% | Validation Demographic disparity: 0.0000\n",
      "\n",
      " | Global Training Round : 4 |\n",
      "\n"
     ]
    },
    {
     "name": "stderr",
     "output_type": "stream",
     "text": [
      "\n",
      " 80%|████████  | 4/5 [01:22<00:20, 20.89s/it]\u001b[A"
     ]
    },
    {
     "name": "stdout",
     "output_type": "stream",
     "text": [
      "Client 1: accuracy loss: 48.02 | fairness loss 1.65 | Demographic disparity = 0.00\n",
      "Client 2: accuracy loss: 15.98 | fairness loss 1.09 | Demographic disparity = 0.00\n",
      "Client 3: accuracy loss: 42.15 | fairness loss 1.54 | Demographic disparity = 0.00\n",
      " \n",
      "Avg Training Stats after 4 global rounds:\n",
      "Training loss: 43.79 | Validation accuracy: 89.41% | Validation Demographic disparity: 0.0000\n",
      "\n",
      " | Global Training Round : 5 |\n",
      "\n"
     ]
    },
    {
     "name": "stderr",
     "output_type": "stream",
     "text": [
      "\n",
      "100%|██████████| 5/5 [01:40<00:00, 20.06s/it]\u001b[A"
     ]
    },
    {
     "name": "stdout",
     "output_type": "stream",
     "text": [
      "Client 1: accuracy loss: 48.01 | fairness loss 1.66 | Demographic disparity = 0.00\n",
      "Client 2: accuracy loss: 15.98 | fairness loss 1.10 | Demographic disparity = 0.00\n",
      "Client 3: accuracy loss: 42.14 | fairness loss 1.54 | Demographic disparity = 0.00\n",
      " \n",
      "Avg Training Stats after 5 global rounds:\n",
      "Training loss: 43.69 | Validation accuracy: 89.41% | Validation Demographic disparity: 0.0000\n"
     ]
    },
    {
     "name": "stderr",
     "output_type": "stream",
     "text": [
      "\n"
     ]
    },
    {
     "name": "stdout",
     "output_type": "stream",
     "text": [
      " \n",
      " Results after 5 global rounds of training:\n",
      "|---- Avg Train Accuracy: 89.41%\n",
      "|---- Test Accuracy: 88.22%\n",
      "|---- Test Demographic disparity: 0.0000\n",
      "\n",
      " Total Run Time: 100.5850 sec\n"
     ]
    }
   ],
   "source": [
    "server = Server(logReg(num_features=bank_num_features, num_classes=2, seed = seed), bank_info, train_prn = False, seed = seed, Z = bank_z)\n",
    "server.LocalZafar(num_rounds = 5, local_epochs = 20, optimizer = 'adam', learning_rate = 0.001, penalty = 50)"
   ]
  },
  {
   "cell_type": "code",
   "execution_count": 10,
   "metadata": {
    "scrolled": true
   },
   "outputs": [
    {
     "name": "stderr",
     "output_type": "stream",
     "text": [
      "\n",
      "  0%|          | 0/3 [00:00<?, ?it/s]\u001b[A"
     ]
    },
    {
     "name": "stdout",
     "output_type": "stream",
     "text": [
      "\n",
      " | Testing Round : 1 | constraint :  Cov(z, d) < c\n",
      "\n"
     ]
    },
    {
     "name": "stderr",
     "output_type": "stream",
     "text": [
      "\n",
      " 33%|███▎      | 1/3 [00:20<00:41, 20.67s/it]\u001b[A"
     ]
    },
    {
     "name": "stdout",
     "output_type": "stream",
     "text": [
      "Client 1: accuracy loss: 94.12 | fairness loss 3539064.02 | Demographic disparity = 0.22\n",
      "Client 2: accuracy loss: 25.61 | fairness loss 3361874.53 | Demographic disparity = 0.11\n",
      "Client 3: accuracy loss: 92.76 | fairness loss 3521869.27 | Demographic disparity = 0.23\n",
      " \n",
      "Avg Training Stats after 1 Testing rounds:\n",
      "Training loss: -13575.63 | Validation accuracy: 86.42% | Validation Demographic disparity: 0.2010\n",
      "\n",
      " | Testing Round : 2 | constraint :  Cov(z, d) < c\n",
      "\n"
     ]
    },
    {
     "name": "stderr",
     "output_type": "stream",
     "text": [
      "\n",
      " 67%|██████▋   | 2/3 [00:40<00:20, 20.44s/it]\u001b[A"
     ]
    },
    {
     "name": "stdout",
     "output_type": "stream",
     "text": [
      "Client 1: accuracy loss: 151.66 | fairness loss 14414200.29 | Demographic disparity = 0.17\n",
      "Client 2: accuracy loss: 39.38 | fairness loss 13699830.45 | Demographic disparity = 0.09\n",
      "Client 3: accuracy loss: 151.36 | fairness loss 14346151.82 | Demographic disparity = 0.14\n",
      " \n",
      "Avg Training Stats after 2 Testing rounds:\n",
      "Training loss: -26133.88 | Validation accuracy: 87.60% | Validation Demographic disparity: 0.1464\n",
      "\n",
      " | Testing Round : 3 | constraint :  Cov(z, d) < c\n",
      "\n"
     ]
    },
    {
     "name": "stderr",
     "output_type": "stream",
     "text": [
      "\n",
      "100%|██████████| 3/3 [01:00<00:00, 20.12s/it]\u001b[A\n",
      "\n",
      "  0%|          | 0/3 [00:00<?, ?it/s]\u001b[A"
     ]
    },
    {
     "name": "stdout",
     "output_type": "stream",
     "text": [
      "Client 1: accuracy loss: 214.59 | fairness loss 32594189.71 | Demographic disparity = 0.12\n",
      "Client 2: accuracy loss: 54.92 | fairness loss 30984129.27 | Demographic disparity = 0.08\n",
      "Client 3: accuracy loss: 215.13 | fairness loss 32443089.45 | Demographic disparity = 0.11\n",
      " \n",
      "Avg Training Stats after 3 Testing rounds:\n",
      "Training loss: -38695.72 | Validation accuracy: 88.27% | Validation Demographic disparity: 0.1075\n",
      "\n",
      " | Testing Round : 1 | constraint :  Cov(z, d) > -c\n",
      "\n"
     ]
    },
    {
     "name": "stderr",
     "output_type": "stream",
     "text": [
      "\n",
      " 33%|███▎      | 1/3 [00:19<00:38, 19.14s/it]\u001b[A"
     ]
    },
    {
     "name": "stdout",
     "output_type": "stream",
     "text": [
      "Client 1: accuracy loss: 100.51 | fairness loss 3671011.75 | Demographic disparity = 0.14\n",
      "Client 2: accuracy loss: 35.37 | fairness loss 3500170.57 | Demographic disparity = 0.14\n",
      "Client 3: accuracy loss: 88.04 | fairness loss 3655093.20 | Demographic disparity = 0.16\n",
      " \n",
      "Avg Training Stats after 1 Testing rounds:\n",
      "Training loss: -32452.46 | Validation accuracy: 87.23% | Validation Demographic disparity: 0.1487\n",
      "\n",
      " | Testing Round : 2 | constraint :  Cov(z, d) > -c\n",
      "\n"
     ]
    },
    {
     "name": "stderr",
     "output_type": "stream",
     "text": [
      "\n",
      " 67%|██████▋   | 2/3 [00:44<00:20, 20.99s/it]\u001b[A"
     ]
    },
    {
     "name": "stdout",
     "output_type": "stream",
     "text": [
      "Client 1: accuracy loss: 171.97 | fairness loss 14751089.85 | Demographic disparity = 0.01\n",
      "Client 2: accuracy loss: 59.85 | fairness loss 14051273.86 | Demographic disparity = 0.00\n",
      "Client 3: accuracy loss: 151.55 | fairness loss 14682142.36 | Demographic disparity = 0.00\n",
      " \n",
      "Avg Training Stats after 2 Testing rounds:\n",
      "Training loss: -33727.23 | Validation accuracy: 89.60% | Validation Demographic disparity: 0.0055\n",
      "\n",
      " | Testing Round : 3 | constraint :  Cov(z, d) > -c\n",
      "\n"
     ]
    },
    {
     "name": "stderr",
     "output_type": "stream",
     "text": [
      "\n",
      "100%|██████████| 3/3 [01:11<00:00, 23.77s/it]\u001b[A\n",
      "\n",
      "  0%|          | 0/4 [00:00<?, ?it/s]\u001b[A"
     ]
    },
    {
     "name": "stdout",
     "output_type": "stream",
     "text": [
      "Client 1: accuracy loss: 253.75 | fairness loss 33160002.86 | Demographic disparity = 0.01\n",
      "Client 2: accuracy loss: 88.15 | fairness loss 31573354.36 | Demographic disparity = 0.01\n",
      "Client 3: accuracy loss: 225.06 | fairness loss 33000038.00 | Demographic disparity = 0.00\n",
      " \n",
      "Avg Training Stats after 3 Testing rounds:\n",
      "Training loss: -38762.18 | Validation accuracy: 89.45% | Validation Demographic disparity: 0.0055\n",
      "\n",
      " | Global Round : 1 | constraint :  Cov(z, d) > -c\n",
      "\n"
     ]
    },
    {
     "name": "stderr",
     "output_type": "stream",
     "text": [
      "\n",
      " 25%|██▌       | 1/4 [00:19<00:58, 19.47s/it]\u001b[A"
     ]
    },
    {
     "name": "stdout",
     "output_type": "stream",
     "text": [
      "Client 1: accuracy loss: 269.59 | fairness loss 37715494.76 | Demographic disparity = 0.01\n",
      "Client 2: accuracy loss: 93.69 | fairness loss 35908166.18 | Demographic disparity = 0.01\n",
      "Client 3: accuracy loss: 240.30 | fairness loss 37532766.73 | Demographic disparity = 0.00\n",
      " \n",
      "Avg Training Stats after 1 global rounds:\n",
      "Training loss: -42141.08 | Validation accuracy: 89.45% | Validation Demographic disparity: 0.0055\n",
      "\n",
      " | Global Round : 2 | constraint :  Cov(z, d) > -c\n",
      "\n"
     ]
    },
    {
     "name": "stderr",
     "output_type": "stream",
     "text": [
      "\n",
      " 50%|█████     | 2/4 [00:46<00:43, 21.61s/it]\u001b[A"
     ]
    },
    {
     "name": "stdout",
     "output_type": "stream",
     "text": [
      "Client 1: accuracy loss: 285.54 | fairness loss 42572941.42 | Demographic disparity = 0.01\n",
      "Client 2: accuracy loss: 99.23 | fairness loss 40530491.64 | Demographic disparity = 0.01\n",
      "Client 3: accuracy loss: 254.63 | fairness loss 42366284.73 | Demographic disparity = 0.00\n",
      " \n",
      "Avg Training Stats after 2 global rounds:\n",
      "Training loss: -45176.96 | Validation accuracy: 89.45% | Validation Demographic disparity: 0.0055\n",
      "\n",
      " | Global Round : 3 | constraint :  Cov(z, d) > -c\n",
      "\n"
     ]
    },
    {
     "name": "stderr",
     "output_type": "stream",
     "text": [
      "\n",
      " 75%|███████▌  | 3/4 [01:10<00:22, 22.41s/it]\u001b[A"
     ]
    },
    {
     "name": "stdout",
     "output_type": "stream",
     "text": [
      "Client 1: accuracy loss: 301.65 | fairness loss 47723782.12 | Demographic disparity = 0.01\n",
      "Client 2: accuracy loss: 104.81 | fairness loss 45431809.27 | Demographic disparity = 0.01\n",
      "Client 3: accuracy loss: 269.05 | fairness loss 47491682.55 | Demographic disparity = 0.00\n",
      " \n",
      "Avg Training Stats after 3 global rounds:\n",
      "Training loss: -47984.16 | Validation accuracy: 89.47% | Validation Demographic disparity: 0.0054\n",
      "\n",
      " | Global Round : 4 | constraint :  Cov(z, d) > -c\n",
      "\n"
     ]
    },
    {
     "name": "stderr",
     "output_type": "stream",
     "text": [
      "\n",
      "100%|██████████| 4/4 [01:34<00:00, 23.64s/it]\u001b[A"
     ]
    },
    {
     "name": "stdout",
     "output_type": "stream",
     "text": [
      "Client 1: accuracy loss: 317.88 | fairness loss 53167748.45 | Demographic disparity = 0.01\n",
      "Client 2: accuracy loss: 110.44 | fairness loss 50611900.55 | Demographic disparity = 0.01\n",
      "Client 3: accuracy loss: 283.59 | fairness loss 52908662.91 | Demographic disparity = 0.00\n",
      " \n",
      "Avg Training Stats after 4 global rounds:\n",
      "Training loss: -50631.28 | Validation accuracy: 89.45% | Validation Demographic disparity: 0.0056\n"
     ]
    },
    {
     "name": "stderr",
     "output_type": "stream",
     "text": [
      "\n"
     ]
    },
    {
     "name": "stdout",
     "output_type": "stream",
     "text": [
      " \n",
      " Results after 4 global rounds of training:\n",
      "|---- Avg Train Accuracy: 89.45%\n",
      "|---- Test Accuracy: 88.13%\n",
      "|---- Test Demographic disparity: 0.0048\n",
      "\n",
      " Total Run Time: 226.4847 sec\n"
     ]
    }
   ],
   "source": [
    "server = Server(logReg(num_features=bank_num_features, num_classes=2, seed = seed), bank_info, train_prn = False, seed = seed, Z = bank_z)\n",
    "server.Zafar(test_rounds = 3, test_lr = 0.01, test_penalty = 500, num_rounds = 4, local_epochs = 20, optimizer = 'adam', learning_rate = 0.002, penalty = 400)\n"
   ]
  },
  {
   "cell_type": "code",
   "execution_count": 11,
   "metadata": {
    "scrolled": true
   },
   "outputs": [
    {
     "name": "stderr",
     "output_type": "stream",
     "text": [
      "\n",
      "  0%|          | 0/10 [00:00<?, ?it/s]\u001b[A"
     ]
    },
    {
     "name": "stdout",
     "output_type": "stream",
     "text": [
      "\n",
      " | Global Training Round : 1 |\n",
      "\n"
     ]
    },
    {
     "name": "stderr",
     "output_type": "stream",
     "text": [
      "\n",
      " 10%|█         | 1/10 [00:25<03:49, 25.49s/it]\u001b[A"
     ]
    },
    {
     "name": "stdout",
     "output_type": "stream",
     "text": [
      "Client 1: predictor loss: 36.19 | adversary loss 1.53 | Demographic disparity = 0.02\n",
      "Client 2: predictor loss: 12.20 | adversary loss 1.55 | Demographic disparity = 0.02\n",
      "Client 3: predictor loss: 32.79 | adversary loss 1.50 | Demographic disparity = 0.03\n",
      " \n",
      "Avg Training Stats after 1 global rounds:\n",
      "Training loss: 0.27 | Validation accuracy: 90.55% | Validation Demographic disparity: 0.0227\n",
      "\n",
      " | Global Training Round : 2 |\n",
      "\n"
     ]
    },
    {
     "name": "stderr",
     "output_type": "stream",
     "text": [
      "\n",
      " 20%|██        | 2/10 [00:53<03:29, 26.18s/it]\u001b[A"
     ]
    },
    {
     "name": "stdout",
     "output_type": "stream",
     "text": [
      "Client 1: predictor loss: 36.70 | adversary loss 1.55 | Demographic disparity = 0.02\n",
      "Client 2: predictor loss: 14.02 | adversary loss 1.53 | Demographic disparity = 0.02\n",
      "Client 3: predictor loss: 35.23 | adversary loss 1.53 | Demographic disparity = 0.02\n",
      " \n",
      "Avg Training Stats after 2 global rounds:\n",
      "Training loss: 0.28 | Validation accuracy: 90.77% | Validation Demographic disparity: 0.0172\n",
      "\n",
      " | Global Training Round : 3 |\n",
      "\n"
     ]
    },
    {
     "name": "stderr",
     "output_type": "stream",
     "text": [
      "\n",
      " 30%|███       | 3/10 [01:20<03:05, 26.54s/it]\u001b[A"
     ]
    },
    {
     "name": "stdout",
     "output_type": "stream",
     "text": [
      "Client 1: predictor loss: 37.96 | adversary loss 1.60 | Demographic disparity = 0.02\n",
      "Client 2: predictor loss: 14.32 | adversary loss 1.59 | Demographic disparity = 0.03\n",
      "Client 3: predictor loss: 34.88 | adversary loss 1.58 | Demographic disparity = 0.03\n",
      " \n",
      "Avg Training Stats after 3 global rounds:\n",
      "Training loss: 0.29 | Validation accuracy: 90.87% | Validation Demographic disparity: 0.0234\n",
      "\n",
      " | Global Training Round : 4 |\n",
      "\n"
     ]
    },
    {
     "name": "stderr",
     "output_type": "stream",
     "text": [
      "\n",
      " 40%|████      | 4/10 [01:44<02:35, 25.86s/it]\u001b[A"
     ]
    },
    {
     "name": "stdout",
     "output_type": "stream",
     "text": [
      "Client 1: predictor loss: 36.90 | adversary loss 1.60 | Demographic disparity = 0.03\n",
      "Client 2: predictor loss: 13.68 | adversary loss 1.60 | Demographic disparity = 0.02\n",
      "Client 3: predictor loss: 34.78 | adversary loss 1.58 | Demographic disparity = 0.02\n",
      " \n",
      "Avg Training Stats after 4 global rounds:\n",
      "Training loss: 0.29 | Validation accuracy: 90.91% | Validation Demographic disparity: 0.0209\n",
      "\n",
      " | Global Training Round : 5 |\n",
      "\n"
     ]
    },
    {
     "name": "stderr",
     "output_type": "stream",
     "text": [
      "\n",
      " 50%|█████     | 5/10 [02:09<02:07, 25.40s/it]\u001b[A"
     ]
    },
    {
     "name": "stdout",
     "output_type": "stream",
     "text": [
      "Client 1: predictor loss: 36.81 | adversary loss 1.60 | Demographic disparity = 0.01\n",
      "Client 2: predictor loss: 12.75 | adversary loss 1.59 | Demographic disparity = 0.03\n",
      "Client 3: predictor loss: 33.60 | adversary loss 1.58 | Demographic disparity = 0.02\n",
      " \n",
      "Avg Training Stats after 5 global rounds:\n",
      "Training loss: 0.28 | Validation accuracy: 90.81% | Validation Demographic disparity: 0.0132\n",
      "\n",
      " | Global Training Round : 6 |\n",
      "\n"
     ]
    },
    {
     "name": "stderr",
     "output_type": "stream",
     "text": [
      "\n",
      " 60%|██████    | 6/10 [02:37<01:44, 26.19s/it]\u001b[A"
     ]
    },
    {
     "name": "stdout",
     "output_type": "stream",
     "text": [
      "Client 1: predictor loss: 36.57 | adversary loss 1.60 | Demographic disparity = 0.01\n",
      "Client 2: predictor loss: 12.64 | adversary loss 1.59 | Demographic disparity = 0.03\n",
      "Client 3: predictor loss: 33.48 | adversary loss 1.58 | Demographic disparity = 0.02\n",
      " \n",
      "Avg Training Stats after 6 global rounds:\n",
      "Training loss: 0.28 | Validation accuracy: 90.75% | Validation Demographic disparity: 0.0151\n",
      "\n",
      " | Global Training Round : 7 |\n",
      "\n"
     ]
    },
    {
     "name": "stderr",
     "output_type": "stream",
     "text": [
      "\n",
      " 70%|███████   | 7/10 [03:08<01:23, 27.79s/it]\u001b[A"
     ]
    },
    {
     "name": "stdout",
     "output_type": "stream",
     "text": [
      "Client 1: predictor loss: 36.60 | adversary loss 1.60 | Demographic disparity = 0.02\n",
      "Client 2: predictor loss: 12.96 | adversary loss 1.59 | Demographic disparity = 0.03\n",
      "Client 3: predictor loss: 33.62 | adversary loss 1.58 | Demographic disparity = 0.02\n",
      " \n",
      "Avg Training Stats after 7 global rounds:\n",
      "Training loss: 0.28 | Validation accuracy: 90.90% | Validation Demographic disparity: 0.0140\n",
      "\n",
      " | Global Training Round : 8 |\n",
      "\n"
     ]
    },
    {
     "name": "stderr",
     "output_type": "stream",
     "text": [
      "\n",
      " 80%|████████  | 8/10 [03:36<00:55, 27.69s/it]\u001b[A"
     ]
    },
    {
     "name": "stdout",
     "output_type": "stream",
     "text": [
      "Client 1: predictor loss: 36.21 | adversary loss 1.60 | Demographic disparity = 0.02\n",
      "Client 2: predictor loss: 12.55 | adversary loss 1.59 | Demographic disparity = 0.02\n",
      "Client 3: predictor loss: 33.51 | adversary loss 1.58 | Demographic disparity = 0.02\n",
      " \n",
      "Avg Training Stats after 8 global rounds:\n",
      "Training loss: 0.27 | Validation accuracy: 90.89% | Validation Demographic disparity: 0.0154\n",
      "\n",
      " | Global Training Round : 9 |\n",
      "\n"
     ]
    },
    {
     "name": "stderr",
     "output_type": "stream",
     "text": [
      "\n",
      " 90%|█████████ | 9/10 [04:05<00:28, 28.21s/it]\u001b[A"
     ]
    },
    {
     "name": "stdout",
     "output_type": "stream",
     "text": [
      "Client 1: predictor loss: 36.36 | adversary loss 1.60 | Demographic disparity = 0.02\n",
      "Client 2: predictor loss: 12.50 | adversary loss 1.59 | Demographic disparity = 0.02\n",
      "Client 3: predictor loss: 33.43 | adversary loss 1.58 | Demographic disparity = 0.02\n",
      " \n",
      "Avg Training Stats after 9 global rounds:\n",
      "Training loss: 0.27 | Validation accuracy: 90.87% | Validation Demographic disparity: 0.0142\n",
      "\n",
      " | Global Training Round : 10 |\n",
      "\n"
     ]
    },
    {
     "name": "stderr",
     "output_type": "stream",
     "text": [
      "\n",
      "100%|██████████| 10/10 [04:38<00:00, 27.85s/it]\u001b[A"
     ]
    },
    {
     "name": "stdout",
     "output_type": "stream",
     "text": [
      "Client 1: predictor loss: 36.44 | adversary loss 1.60 | Demographic disparity = 0.01\n",
      "Client 2: predictor loss: 12.56 | adversary loss 1.59 | Demographic disparity = 0.02\n",
      "Client 3: predictor loss: 33.45 | adversary loss 1.58 | Demographic disparity = 0.02\n",
      " \n",
      "Avg Training Stats after 10 global rounds:\n",
      "Training loss: 0.27 | Validation accuracy: 90.87% | Validation Demographic disparity: 0.0148\n"
     ]
    },
    {
     "name": "stderr",
     "output_type": "stream",
     "text": [
      "\n"
     ]
    },
    {
     "name": "stdout",
     "output_type": "stream",
     "text": [
      " \n",
      " Results after 10 global rounds of training:\n",
      "|---- Avg Train Accuracy: 90.87%\n",
      "|---- Test Accuracy: 89.94%\n",
      "|---- Test Demographic disparity: 0.0113\n",
      "\n",
      " Total Run Time: 278.8640 sec\n"
     ]
    }
   ],
   "source": [
    "server = Server(logReg(num_features=bank_num_features, num_classes=2, seed = seed), bank_info, train_prn = False, metric = \"Demographic disparity\", seed = seed, Z = bank_z)\n",
    "server.FTrain(num_rounds = 10, local_epochs = 30, init_epochs = 50, lr_g = 0.005, lr_d = 0.01, lambda_d = 0.9)"
   ]
  },
  {
   "cell_type": "code",
   "execution_count": 12,
   "metadata": {
    "scrolled": true
   },
   "outputs": [
    {
     "name": "stderr",
     "output_type": "stream",
     "text": [
      "\n",
      "  0%|          | 0/10 [00:00<?, ?it/s]\u001b[A"
     ]
    },
    {
     "name": "stdout",
     "output_type": "stream",
     "text": [
      "\n",
      " | Global Training Round : 1 |\n",
      "\n"
     ]
    },
    {
     "name": "stderr",
     "output_type": "stream",
     "text": [
      "\n",
      " 10%|█         | 1/10 [00:33<04:59, 33.33s/it]\u001b[A"
     ]
    },
    {
     "name": "stdout",
     "output_type": "stream",
     "text": [
      "Client 1: predictor loss: 35.97 | adversary loss 1.53 | Demographic disparity = 0.02\n",
      "Client 2: predictor loss: 12.08 | adversary loss 1.55 | Demographic disparity = 0.02\n",
      "Client 3: predictor loss: 32.52 | adversary loss 1.50 | Demographic disparity = 0.03\n",
      " \n",
      "Avg Training Stats after 1 global rounds:\n",
      "Training loss: 0.27 | Validation accuracy: 90.52% | Validation Demographic disparity: 0.0217\n",
      "\n",
      " | Global Training Round : 2 |\n",
      "\n"
     ]
    },
    {
     "name": "stderr",
     "output_type": "stream",
     "text": [
      "\n",
      " 20%|██        | 2/10 [01:04<04:22, 32.77s/it]\u001b[A"
     ]
    },
    {
     "name": "stdout",
     "output_type": "stream",
     "text": [
      "Client 1: predictor loss: 38.29 | adversary loss 1.53 | Demographic disparity = 0.02\n",
      "Client 2: predictor loss: 15.30 | adversary loss 1.52 | Demographic disparity = 0.02\n",
      "Client 3: predictor loss: 37.48 | adversary loss 1.52 | Demographic disparity = 0.02\n",
      " \n",
      "Avg Training Stats after 2 global rounds:\n",
      "Training loss: 0.28 | Validation accuracy: 90.78% | Validation Demographic disparity: 0.0191\n",
      "\n",
      " | Global Training Round : 3 |\n",
      "\n"
     ]
    },
    {
     "name": "stderr",
     "output_type": "stream",
     "text": [
      "\n",
      " 30%|███       | 3/10 [01:38<03:51, 33.10s/it]\u001b[A"
     ]
    },
    {
     "name": "stdout",
     "output_type": "stream",
     "text": [
      "Client 1: predictor loss: 37.18 | adversary loss 1.60 | Demographic disparity = 0.02\n",
      "Client 2: predictor loss: 14.55 | adversary loss 1.60 | Demographic disparity = 0.02\n",
      "Client 3: predictor loss: 35.57 | adversary loss 1.59 | Demographic disparity = 0.02\n",
      " \n",
      "Avg Training Stats after 3 global rounds:\n",
      "Training loss: 0.29 | Validation accuracy: 91.13% | Validation Demographic disparity: 0.0156\n",
      "\n",
      " | Global Training Round : 4 |\n",
      "\n"
     ]
    },
    {
     "name": "stderr",
     "output_type": "stream",
     "text": [
      "\n",
      " 40%|████      | 4/10 [02:10<03:17, 32.85s/it]\u001b[A"
     ]
    },
    {
     "name": "stdout",
     "output_type": "stream",
     "text": [
      "Client 1: predictor loss: 37.52 | adversary loss 1.60 | Demographic disparity = 0.02\n",
      "Client 2: predictor loss: 13.94 | adversary loss 1.60 | Demographic disparity = 0.03\n",
      "Client 3: predictor loss: 34.85 | adversary loss 1.58 | Demographic disparity = 0.02\n",
      " \n",
      "Avg Training Stats after 4 global rounds:\n",
      "Training loss: 0.29 | Validation accuracy: 90.79% | Validation Demographic disparity: 0.0192\n",
      "\n",
      " | Global Training Round : 5 |\n",
      "\n"
     ]
    },
    {
     "name": "stderr",
     "output_type": "stream",
     "text": [
      "\n",
      " 50%|█████     | 5/10 [02:40<02:39, 31.93s/it]\u001b[A"
     ]
    },
    {
     "name": "stdout",
     "output_type": "stream",
     "text": [
      "Client 1: predictor loss: 36.88 | adversary loss 1.60 | Demographic disparity = 0.02\n",
      "Client 2: predictor loss: 12.78 | adversary loss 1.59 | Demographic disparity = 0.03\n",
      "Client 3: predictor loss: 33.64 | adversary loss 1.58 | Demographic disparity = 0.02\n",
      " \n",
      "Avg Training Stats after 5 global rounds:\n",
      "Training loss: 0.29 | Validation accuracy: 90.72% | Validation Demographic disparity: 0.0132\n",
      "\n",
      " | Global Training Round : 6 |\n",
      "\n"
     ]
    },
    {
     "name": "stderr",
     "output_type": "stream",
     "text": [
      "\n",
      " 60%|██████    | 6/10 [03:07<02:01, 30.28s/it]\u001b[A"
     ]
    },
    {
     "name": "stdout",
     "output_type": "stream",
     "text": [
      "Client 1: predictor loss: 37.54 | adversary loss 1.60 | Demographic disparity = 0.02\n",
      "Client 2: predictor loss: 13.91 | adversary loss 1.59 | Demographic disparity = 0.04\n",
      "Client 3: predictor loss: 34.62 | adversary loss 1.58 | Demographic disparity = 0.03\n",
      " \n",
      "Avg Training Stats after 6 global rounds:\n",
      "Training loss: 0.28 | Validation accuracy: 90.88% | Validation Demographic disparity: 0.0298\n",
      "\n",
      " | Global Training Round : 7 |\n",
      "\n"
     ]
    },
    {
     "name": "stderr",
     "output_type": "stream",
     "text": [
      "\n",
      " 70%|███████   | 7/10 [03:37<01:30, 30.27s/it]\u001b[A"
     ]
    },
    {
     "name": "stdout",
     "output_type": "stream",
     "text": [
      "Client 1: predictor loss: 37.32 | adversary loss 1.60 | Demographic disparity = 0.01\n",
      "Client 2: predictor loss: 13.05 | adversary loss 1.59 | Demographic disparity = 0.04\n",
      "Client 3: predictor loss: 33.95 | adversary loss 1.58 | Demographic disparity = 0.02\n",
      " \n",
      "Avg Training Stats after 7 global rounds:\n",
      "Training loss: 0.28 | Validation accuracy: 90.85% | Validation Demographic disparity: 0.0171\n",
      "\n",
      " | Global Training Round : 8 |\n",
      "\n"
     ]
    },
    {
     "name": "stderr",
     "output_type": "stream",
     "text": [
      "\n",
      " 80%|████████  | 8/10 [04:02<00:57, 28.77s/it]\u001b[A"
     ]
    },
    {
     "name": "stdout",
     "output_type": "stream",
     "text": [
      "Client 1: predictor loss: 36.41 | adversary loss 1.60 | Demographic disparity = 0.01\n",
      "Client 2: predictor loss: 12.70 | adversary loss 1.59 | Demographic disparity = 0.03\n",
      "Client 3: predictor loss: 33.51 | adversary loss 1.58 | Demographic disparity = 0.02\n",
      " \n",
      "Avg Training Stats after 8 global rounds:\n",
      "Training loss: 0.28 | Validation accuracy: 90.74% | Validation Demographic disparity: 0.0138\n",
      "\n",
      " | Global Training Round : 9 |\n",
      "\n"
     ]
    },
    {
     "name": "stderr",
     "output_type": "stream",
     "text": [
      "\n",
      " 90%|█████████ | 9/10 [04:30<00:28, 28.63s/it]\u001b[A"
     ]
    },
    {
     "name": "stdout",
     "output_type": "stream",
     "text": [
      "Client 1: predictor loss: 36.58 | adversary loss 1.60 | Demographic disparity = 0.01\n",
      "Client 2: predictor loss: 12.74 | adversary loss 1.59 | Demographic disparity = 0.03\n",
      "Client 3: predictor loss: 33.47 | adversary loss 1.58 | Demographic disparity = 0.02\n",
      " \n",
      "Avg Training Stats after 9 global rounds:\n",
      "Training loss: 0.28 | Validation accuracy: 90.76% | Validation Demographic disparity: 0.0142\n",
      "\n",
      " | Global Training Round : 10 |\n",
      "\n"
     ]
    },
    {
     "name": "stderr",
     "output_type": "stream",
     "text": [
      "\n",
      "100%|██████████| 10/10 [04:54<00:00, 29.49s/it]\u001b[A"
     ]
    },
    {
     "name": "stdout",
     "output_type": "stream",
     "text": [
      "Client 1: predictor loss: 36.13 | adversary loss 1.60 | Demographic disparity = 0.02\n",
      "Client 2: predictor loss: 12.51 | adversary loss 1.59 | Demographic disparity = 0.02\n",
      "Client 3: predictor loss: 33.46 | adversary loss 1.58 | Demographic disparity = 0.02\n",
      " \n",
      "Avg Training Stats after 10 global rounds:\n",
      "Training loss: 0.27 | Validation accuracy: 90.80% | Validation Demographic disparity: 0.0163\n"
     ]
    },
    {
     "name": "stderr",
     "output_type": "stream",
     "text": [
      "\n"
     ]
    },
    {
     "name": "stdout",
     "output_type": "stream",
     "text": [
      " \n",
      " Results after 10 global rounds of training:\n",
      "|---- Avg Train Accuracy: 90.80%\n",
      "|---- Test Accuracy: 89.97%\n",
      "|---- Test Demographic disparity: 0.0125\n",
      "\n",
      " Total Run Time: 295.1567 sec\n"
     ]
    }
   ],
   "source": [
    "server = Server(logReg(num_features=bank_num_features, num_classes=2, seed = seed), bank_info, train_prn = False, metric = \"Demographic disparity\", seed = seed, Z = bank_z)\n",
    "server.FTrain(num_rounds = 10, local_epochs = 30, init_epochs = 50, lr_g = 0.006, lr_d = 0.01, lambda_d = 0.9)"
   ]
  },
  {
   "cell_type": "code",
   "execution_count": 16,
   "metadata": {
    "scrolled": true
   },
   "outputs": [
    {
     "name": "stderr",
     "output_type": "stream",
     "text": [
      "\n",
      "  0%|          | 0/10 [00:00<?, ?it/s]\u001b[A"
     ]
    },
    {
     "name": "stdout",
     "output_type": "stream",
     "text": [
      "\n",
      " | Global Training Round : 1 |\n",
      "\n"
     ]
    },
    {
     "name": "stderr",
     "output_type": "stream",
     "text": [
      "\n",
      " 10%|█         | 1/10 [00:32<04:51, 32.39s/it]\u001b[A"
     ]
    },
    {
     "name": "stdout",
     "output_type": "stream",
     "text": [
      "Client 1: predictor loss: 36.19 | adversary loss 1.54 | Demographic disparity = 0.02\n",
      "Client 2: predictor loss: 12.20 | adversary loss 1.56 | Demographic disparity = 0.02\n",
      "Client 3: predictor loss: 32.79 | adversary loss 1.51 | Demographic disparity = 0.03\n",
      " \n",
      "Avg Training Stats after 1 global rounds:\n",
      "Training loss: 0.27 | Validation accuracy: 90.55% | Validation Demographic disparity: 0.0227\n",
      "\n",
      " | Global Training Round : 2 |\n",
      "\n"
     ]
    },
    {
     "name": "stderr",
     "output_type": "stream",
     "text": [
      "\n",
      " 20%|██        | 2/10 [01:04<04:19, 32.44s/it]\u001b[A"
     ]
    },
    {
     "name": "stdout",
     "output_type": "stream",
     "text": [
      "Client 1: predictor loss: 35.69 | adversary loss 1.63 | Demographic disparity = 0.02\n",
      "Client 2: predictor loss: 12.20 | adversary loss 1.63 | Demographic disparity = 0.02\n",
      "Client 3: predictor loss: 32.93 | adversary loss 1.59 | Demographic disparity = 0.02\n",
      " \n",
      "Avg Training Stats after 2 global rounds:\n",
      "Training loss: 0.27 | Validation accuracy: 90.67% | Validation Demographic disparity: 0.0171\n",
      "\n",
      " | Global Training Round : 3 |\n",
      "\n"
     ]
    },
    {
     "name": "stderr",
     "output_type": "stream",
     "text": [
      "\n",
      " 30%|███       | 3/10 [01:34<03:41, 31.59s/it]\u001b[A"
     ]
    },
    {
     "name": "stdout",
     "output_type": "stream",
     "text": [
      "Client 1: predictor loss: 36.62 | adversary loss 1.60 | Demographic disparity = 0.02\n",
      "Client 2: predictor loss: 13.08 | adversary loss 1.59 | Demographic disparity = 0.02\n",
      "Client 3: predictor loss: 34.03 | adversary loss 1.58 | Demographic disparity = 0.02\n",
      " \n",
      "Avg Training Stats after 3 global rounds:\n",
      "Training loss: 0.27 | Validation accuracy: 90.96% | Validation Demographic disparity: 0.0165\n",
      "\n",
      " | Global Training Round : 4 |\n",
      "\n"
     ]
    },
    {
     "name": "stderr",
     "output_type": "stream",
     "text": [
      "\n",
      " 40%|████      | 4/10 [02:09<03:15, 32.61s/it]\u001b[A"
     ]
    },
    {
     "name": "stdout",
     "output_type": "stream",
     "text": [
      "Client 1: predictor loss: 42.98 | adversary loss 1.60 | Demographic disparity = 0.05\n",
      "Client 2: predictor loss: 17.56 | adversary loss 1.59 | Demographic disparity = 0.03\n",
      "Client 3: predictor loss: 40.29 | adversary loss 1.57 | Demographic disparity = 0.06\n",
      " \n",
      "Avg Training Stats after 4 global rounds:\n",
      "Training loss: 0.27 | Validation accuracy: 90.47% | Validation Demographic disparity: 0.0549\n",
      "\n",
      " | Global Training Round : 5 |\n",
      "\n"
     ]
    },
    {
     "name": "stderr",
     "output_type": "stream",
     "text": [
      "\n",
      " 50%|█████     | 5/10 [02:36<02:33, 30.77s/it]\u001b[A"
     ]
    },
    {
     "name": "stdout",
     "output_type": "stream",
     "text": [
      "Client 1: predictor loss: 36.83 | adversary loss 1.60 | Demographic disparity = 0.02\n",
      "Client 2: predictor loss: 13.53 | adversary loss 1.59 | Demographic disparity = 0.03\n",
      "Client 3: predictor loss: 33.92 | adversary loss 1.58 | Demographic disparity = 0.03\n",
      " \n",
      "Avg Training Stats after 5 global rounds:\n",
      "Training loss: 0.27 | Validation accuracy: 91.05% | Validation Demographic disparity: 0.0184\n",
      "\n",
      " | Global Training Round : 6 |\n",
      "\n"
     ]
    },
    {
     "name": "stderr",
     "output_type": "stream",
     "text": [
      "\n",
      " 60%|██████    | 6/10 [03:11<02:09, 32.30s/it]\u001b[A"
     ]
    },
    {
     "name": "stdout",
     "output_type": "stream",
     "text": [
      "Client 1: predictor loss: 36.19 | adversary loss 1.60 | Demographic disparity = 0.01\n",
      "Client 2: predictor loss: 12.50 | adversary loss 1.59 | Demographic disparity = 0.02\n",
      "Client 3: predictor loss: 33.07 | adversary loss 1.59 | Demographic disparity = 0.02\n",
      " \n",
      "Avg Training Stats after 6 global rounds:\n",
      "Training loss: 0.27 | Validation accuracy: 91.05% | Validation Demographic disparity: 0.0160\n",
      "\n",
      " | Global Training Round : 7 |\n",
      "\n"
     ]
    },
    {
     "name": "stderr",
     "output_type": "stream",
     "text": [
      "\n",
      " 70%|███████   | 7/10 [03:40<01:33, 31.23s/it]\u001b[A"
     ]
    },
    {
     "name": "stdout",
     "output_type": "stream",
     "text": [
      "Client 1: predictor loss: 36.12 | adversary loss 1.60 | Demographic disparity = 0.02\n",
      "Client 2: predictor loss: 12.44 | adversary loss 1.59 | Demographic disparity = 0.02\n",
      "Client 3: predictor loss: 33.12 | adversary loss 1.58 | Demographic disparity = 0.02\n",
      " \n",
      "Avg Training Stats after 7 global rounds:\n",
      "Training loss: 0.26 | Validation accuracy: 90.73% | Validation Demographic disparity: 0.0141\n",
      "\n",
      " | Global Training Round : 8 |\n",
      "\n"
     ]
    },
    {
     "name": "stderr",
     "output_type": "stream",
     "text": [
      "\n",
      " 80%|████████  | 8/10 [04:09<01:01, 30.51s/it]\u001b[A"
     ]
    },
    {
     "name": "stdout",
     "output_type": "stream",
     "text": [
      "Client 1: predictor loss: 36.13 | adversary loss 1.60 | Demographic disparity = 0.01\n",
      "Client 2: predictor loss: 12.53 | adversary loss 1.59 | Demographic disparity = 0.02\n",
      "Client 3: predictor loss: 33.11 | adversary loss 1.58 | Demographic disparity = 0.02\n",
      " \n",
      "Avg Training Stats after 8 global rounds:\n",
      "Training loss: 0.26 | Validation accuracy: 90.72% | Validation Demographic disparity: 0.0150\n",
      "\n",
      " | Global Training Round : 9 |\n",
      "\n"
     ]
    },
    {
     "name": "stderr",
     "output_type": "stream",
     "text": [
      "\n",
      " 90%|█████████ | 9/10 [04:42<00:31, 31.25s/it]\u001b[A"
     ]
    },
    {
     "name": "stdout",
     "output_type": "stream",
     "text": [
      "Client 1: predictor loss: 38.30 | adversary loss 1.59 | Demographic disparity = 0.04\n",
      "Client 2: predictor loss: 14.62 | adversary loss 1.59 | Demographic disparity = 0.04\n",
      "Client 3: predictor loss: 35.41 | adversary loss 1.56 | Demographic disparity = 0.05\n",
      " \n",
      "Avg Training Stats after 9 global rounds:\n",
      "Training loss: 0.26 | Validation accuracy: 90.73% | Validation Demographic disparity: 0.0443\n",
      "\n",
      " | Global Training Round : 10 |\n",
      "\n"
     ]
    },
    {
     "name": "stderr",
     "output_type": "stream",
     "text": [
      "\n",
      "100%|██████████| 10/10 [05:15<00:00, 31.52s/it]\u001b[A"
     ]
    },
    {
     "name": "stdout",
     "output_type": "stream",
     "text": [
      "Client 1: predictor loss: 36.09 | adversary loss 1.60 | Demographic disparity = 0.01\n",
      "Client 2: predictor loss: 12.46 | adversary loss 1.59 | Demographic disparity = 0.02\n",
      "Client 3: predictor loss: 33.04 | adversary loss 1.58 | Demographic disparity = 0.02\n",
      " \n",
      "Avg Training Stats after 10 global rounds:\n",
      "Training loss: 0.26 | Validation accuracy: 90.83% | Validation Demographic disparity: 0.0155\n"
     ]
    },
    {
     "name": "stderr",
     "output_type": "stream",
     "text": [
      "\n"
     ]
    },
    {
     "name": "stdout",
     "output_type": "stream",
     "text": [
      " \n",
      " Results after 10 global rounds of training:\n",
      "|---- Avg Train Accuracy: 90.83%\n",
      "|---- Test Accuracy: 90.05%\n",
      "|---- Test Demographic disparity: 0.0143\n",
      "\n",
      " Total Run Time: 315.6299 sec\n"
     ]
    }
   ],
   "source": [
    "server = Server(logReg(num_features=bank_num_features, num_classes=2, seed = seed), bank_info, train_prn = False, metric = \"Demographic disparity\", seed = seed, Z = bank_z)\n",
    "server.FTrain(num_rounds = 10, local_epochs = 30, init_epochs = 50, lr_g = 0.005, lr_d = 0.008, lambda_d = 0.8)"
   ]
  },
  {
   "cell_type": "code",
   "execution_count": 17,
   "metadata": {
    "scrolled": true
   },
   "outputs": [
    {
     "name": "stderr",
     "output_type": "stream",
     "text": [
      "\n",
      "  0%|          | 0/10 [00:00<?, ?it/s]\u001b[A"
     ]
    },
    {
     "name": "stdout",
     "output_type": "stream",
     "text": [
      "\n",
      " | Global Training Round : 1 |\n",
      "\n"
     ]
    },
    {
     "name": "stderr",
     "output_type": "stream",
     "text": [
      "\n",
      " 10%|█         | 1/10 [00:30<04:34, 30.53s/it]\u001b[A"
     ]
    },
    {
     "name": "stdout",
     "output_type": "stream",
     "text": [
      "Client 1: predictor loss: 36.19 | adversary loss 1.51 | Demographic disparity = 0.02\n",
      "Client 2: predictor loss: 12.20 | adversary loss 1.54 | Demographic disparity = 0.02\n",
      "Client 3: predictor loss: 32.79 | adversary loss 1.47 | Demographic disparity = 0.03\n",
      " \n",
      "Avg Training Stats after 1 global rounds:\n",
      "Training loss: 0.27 | Validation accuracy: 90.55% | Validation Demographic disparity: 0.0227\n",
      "\n",
      " | Global Training Round : 2 |\n",
      "\n"
     ]
    },
    {
     "name": "stderr",
     "output_type": "stream",
     "text": [
      "\n",
      " 20%|██        | 2/10 [01:04<04:12, 31.50s/it]\u001b[A"
     ]
    },
    {
     "name": "stdout",
     "output_type": "stream",
     "text": [
      "Client 1: predictor loss: 36.71 | adversary loss 1.52 | Demographic disparity = 0.04\n",
      "Client 2: predictor loss: 13.50 | adversary loss 1.51 | Demographic disparity = 0.02\n",
      "Client 3: predictor loss: 34.92 | adversary loss 1.51 | Demographic disparity = 0.03\n",
      " \n",
      "Avg Training Stats after 2 global rounds:\n",
      "Training loss: 0.27 | Validation accuracy: 90.90% | Validation Demographic disparity: 0.0286\n",
      "\n",
      " | Global Training Round : 3 |\n",
      "\n"
     ]
    },
    {
     "name": "stderr",
     "output_type": "stream",
     "text": [
      "\n",
      " 30%|███       | 3/10 [01:40<03:49, 32.84s/it]\u001b[A"
     ]
    },
    {
     "name": "stdout",
     "output_type": "stream",
     "text": [
      "Client 1: predictor loss: 36.03 | adversary loss 1.60 | Demographic disparity = 0.01\n",
      "Client 2: predictor loss: 12.47 | adversary loss 1.60 | Demographic disparity = 0.02\n",
      "Client 3: predictor loss: 33.18 | adversary loss 1.58 | Demographic disparity = 0.02\n",
      " \n",
      "Avg Training Stats after 3 global rounds:\n",
      "Training loss: 0.27 | Validation accuracy: 90.60% | Validation Demographic disparity: 0.0119\n",
      "\n",
      " | Global Training Round : 4 |\n",
      "\n"
     ]
    },
    {
     "name": "stderr",
     "output_type": "stream",
     "text": [
      "\n",
      " 40%|████      | 4/10 [02:26<03:41, 36.87s/it]\u001b[A"
     ]
    },
    {
     "name": "stdout",
     "output_type": "stream",
     "text": [
      "Client 1: predictor loss: 36.25 | adversary loss 1.60 | Demographic disparity = 0.02\n",
      "Client 2: predictor loss: 12.83 | adversary loss 1.60 | Demographic disparity = 0.03\n",
      "Client 3: predictor loss: 33.39 | adversary loss 1.58 | Demographic disparity = 0.02\n",
      " \n",
      "Avg Training Stats after 4 global rounds:\n",
      "Training loss: 0.27 | Validation accuracy: 90.84% | Validation Demographic disparity: 0.0177\n",
      "\n",
      " | Global Training Round : 5 |\n",
      "\n"
     ]
    },
    {
     "name": "stderr",
     "output_type": "stream",
     "text": [
      "\n",
      " 50%|█████     | 5/10 [02:54<02:50, 34.19s/it]\u001b[A"
     ]
    },
    {
     "name": "stdout",
     "output_type": "stream",
     "text": [
      "Client 1: predictor loss: 36.30 | adversary loss 1.60 | Demographic disparity = 0.01\n",
      "Client 2: predictor loss: 12.54 | adversary loss 1.59 | Demographic disparity = 0.03\n",
      "Client 3: predictor loss: 33.06 | adversary loss 1.58 | Demographic disparity = 0.03\n",
      " \n",
      "Avg Training Stats after 5 global rounds:\n",
      "Training loss: 0.26 | Validation accuracy: 90.91% | Validation Demographic disparity: 0.0168\n",
      "\n",
      " | Global Training Round : 6 |\n",
      "\n"
     ]
    },
    {
     "name": "stderr",
     "output_type": "stream",
     "text": [
      "\n",
      " 60%|██████    | 6/10 [03:32<02:21, 35.47s/it]\u001b[A"
     ]
    },
    {
     "name": "stdout",
     "output_type": "stream",
     "text": [
      "Client 1: predictor loss: 36.28 | adversary loss 1.60 | Demographic disparity = 0.02\n",
      "Client 2: predictor loss: 12.47 | adversary loss 1.59 | Demographic disparity = 0.02\n",
      "Client 3: predictor loss: 33.06 | adversary loss 1.58 | Demographic disparity = 0.02\n",
      " \n",
      "Avg Training Stats after 6 global rounds:\n",
      "Training loss: 0.26 | Validation accuracy: 90.94% | Validation Demographic disparity: 0.0147\n",
      "\n",
      " | Global Training Round : 7 |\n",
      "\n"
     ]
    },
    {
     "name": "stderr",
     "output_type": "stream",
     "text": [
      "\n",
      " 70%|███████   | 7/10 [04:18<01:55, 38.60s/it]\u001b[A"
     ]
    },
    {
     "name": "stdout",
     "output_type": "stream",
     "text": [
      "Client 1: predictor loss: 36.34 | adversary loss 1.60 | Demographic disparity = 0.01\n",
      "Client 2: predictor loss: 12.54 | adversary loss 1.59 | Demographic disparity = 0.03\n",
      "Client 3: predictor loss: 33.07 | adversary loss 1.58 | Demographic disparity = 0.03\n",
      " \n",
      "Avg Training Stats after 7 global rounds:\n",
      "Training loss: 0.26 | Validation accuracy: 90.81% | Validation Demographic disparity: 0.0176\n",
      "\n",
      " | Global Training Round : 8 |\n",
      "\n"
     ]
    },
    {
     "name": "stderr",
     "output_type": "stream",
     "text": [
      "\n",
      " 80%|████████  | 8/10 [04:55<01:16, 38.14s/it]\u001b[A"
     ]
    },
    {
     "name": "stdout",
     "output_type": "stream",
     "text": [
      "Client 1: predictor loss: 36.22 | adversary loss 1.60 | Demographic disparity = 0.01\n",
      "Client 2: predictor loss: 12.50 | adversary loss 1.59 | Demographic disparity = 0.02\n",
      "Client 3: predictor loss: 33.07 | adversary loss 1.58 | Demographic disparity = 0.02\n",
      " \n",
      "Avg Training Stats after 8 global rounds:\n",
      "Training loss: 0.26 | Validation accuracy: 90.79% | Validation Demographic disparity: 0.0175\n",
      "\n",
      " | Global Training Round : 9 |\n",
      "\n"
     ]
    },
    {
     "name": "stderr",
     "output_type": "stream",
     "text": [
      "\n",
      " 90%|█████████ | 9/10 [05:24<00:35, 35.20s/it]\u001b[A"
     ]
    },
    {
     "name": "stdout",
     "output_type": "stream",
     "text": [
      "Client 1: predictor loss: 36.16 | adversary loss 1.60 | Demographic disparity = 0.01\n",
      "Client 2: predictor loss: 12.47 | adversary loss 1.59 | Demographic disparity = 0.02\n",
      "Client 3: predictor loss: 33.05 | adversary loss 1.58 | Demographic disparity = 0.02\n",
      " \n",
      "Avg Training Stats after 9 global rounds:\n",
      "Training loss: 0.26 | Validation accuracy: 90.65% | Validation Demographic disparity: 0.0158\n",
      "\n",
      " | Global Training Round : 10 |\n",
      "\n"
     ]
    },
    {
     "name": "stderr",
     "output_type": "stream",
     "text": [
      "\n",
      "100%|██████████| 10/10 [06:00<00:00, 36.04s/it]\u001b[A"
     ]
    },
    {
     "name": "stdout",
     "output_type": "stream",
     "text": [
      "Client 1: predictor loss: 36.12 | adversary loss 1.60 | Demographic disparity = 0.01\n",
      "Client 2: predictor loss: 12.47 | adversary loss 1.59 | Demographic disparity = 0.02\n",
      "Client 3: predictor loss: 33.03 | adversary loss 1.58 | Demographic disparity = 0.02\n",
      " \n",
      "Avg Training Stats after 10 global rounds:\n",
      "Training loss: 0.26 | Validation accuracy: 90.65% | Validation Demographic disparity: 0.0158\n"
     ]
    },
    {
     "name": "stderr",
     "output_type": "stream",
     "text": [
      "\n"
     ]
    },
    {
     "name": "stdout",
     "output_type": "stream",
     "text": [
      " \n",
      " Results after 10 global rounds of training:\n",
      "|---- Avg Train Accuracy: 90.65%\n",
      "|---- Test Accuracy: 90.07%\n",
      "|---- Test Demographic disparity: 0.0130\n",
      "\n",
      " Total Run Time: 360.6380 sec\n"
     ]
    }
   ],
   "source": [
    "server = Server(logReg(num_features=bank_num_features, num_classes=2, seed = seed), bank_info, train_prn = False, metric = \"Demographic disparity\", seed = seed, Z = bank_z)\n",
    "server.FTrain(num_rounds = 10, local_epochs = 30, init_epochs = 50, lr_g = 0.005, lr_d = 0.02, lambda_d = 0.8)"
   ]
  },
  {
   "cell_type": "code",
   "execution_count": null,
   "metadata": {},
   "outputs": [],
   "source": []
  }
 ],
 "metadata": {
  "kernelspec": {
   "display_name": "Python 3",
   "language": "python",
   "name": "python3"
  },
  "language_info": {
   "codemirror_mode": {
    "name": "ipython",
    "version": 3
   },
   "file_extension": ".py",
   "mimetype": "text/x-python",
   "name": "python",
   "nbconvert_exporter": "python",
   "pygments_lexer": "ipython3",
   "version": "3.7.4"
  }
 },
 "nbformat": 4,
 "nbformat_minor": 2
}
