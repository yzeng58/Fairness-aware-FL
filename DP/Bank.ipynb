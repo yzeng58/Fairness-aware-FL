{
 "cells": [
  {
   "cell_type": "code",
   "execution_count": 1,
   "metadata": {},
   "outputs": [],
   "source": [
    "from Server import *\n",
    "from load_bank import *\n",
    "seed  = 123"
   ]
  },
  {
   "cell_type": "markdown",
   "metadata": {},
   "source": [
    "# Bank experiments"
   ]
  },
  {
   "cell_type": "code",
   "execution_count": 3,
   "metadata": {
    "scrolled": true
   },
   "outputs": [
    {
     "name": "stderr",
     "output_type": "stream",
     "text": [
      "\r",
      "  0%|          | 0/5 [00:00<?, ?it/s]"
     ]
    },
    {
     "name": "stdout",
     "output_type": "stream",
     "text": [
      "| seed: 0 |\n"
     ]
    },
    {
     "name": "stderr",
     "output_type": "stream",
     "text": [
      "100%|██████████| 5/5 [02:46<00:00, 33.22s/it]\n",
      "  0%|          | 0/5 [00:00<?, ?it/s]"
     ]
    },
    {
     "name": "stdout",
     "output_type": "stream",
     "text": [
      "|------ Acc.: 0.899 | dp Dis.: 0.011 |\n",
      "| seed: 1 |\n"
     ]
    },
    {
     "name": "stderr",
     "output_type": "stream",
     "text": [
      "100%|██████████| 5/5 [02:49<00:00, 33.80s/it]\n",
      "  0%|          | 0/5 [00:00<?, ?it/s]"
     ]
    },
    {
     "name": "stdout",
     "output_type": "stream",
     "text": [
      "|------ Acc.: 0.899 | dp Dis.: 0.013 |\n",
      "| seed: 2 |\n"
     ]
    },
    {
     "name": "stderr",
     "output_type": "stream",
     "text": [
      "100%|██████████| 5/5 [02:23<00:00, 28.74s/it]\n",
      "  0%|          | 0/5 [00:00<?, ?it/s]"
     ]
    },
    {
     "name": "stdout",
     "output_type": "stream",
     "text": [
      "|------ Acc.: 0.899 | dp Dis.: 0.010 |\n",
      "| seed: 3 |\n"
     ]
    },
    {
     "name": "stderr",
     "output_type": "stream",
     "text": [
      "100%|██████████| 5/5 [02:21<00:00, 28.34s/it]\n",
      "  0%|          | 0/5 [00:00<?, ?it/s]"
     ]
    },
    {
     "name": "stdout",
     "output_type": "stream",
     "text": [
      "|------ Acc.: 0.898 | dp Dis.: 0.013 |\n",
      "| seed: 4 |\n"
     ]
    },
    {
     "name": "stderr",
     "output_type": "stream",
     "text": [
      "100%|██████████| 5/5 [01:56<00:00, 23.36s/it]\n",
      "  0%|          | 0/5 [00:00<?, ?it/s]"
     ]
    },
    {
     "name": "stdout",
     "output_type": "stream",
     "text": [
      "|------ Acc.: 0.898 | dp Dis.: 0.012 |\n",
      "| seed: 5 |\n"
     ]
    },
    {
     "name": "stderr",
     "output_type": "stream",
     "text": [
      "100%|██████████| 5/5 [01:38<00:00, 19.61s/it]\n",
      "  0%|          | 0/5 [00:00<?, ?it/s]"
     ]
    },
    {
     "name": "stdout",
     "output_type": "stream",
     "text": [
      "|------ Acc.: 0.899 | dp Dis.: 0.012 |\n",
      "| seed: 6 |\n"
     ]
    },
    {
     "name": "stderr",
     "output_type": "stream",
     "text": [
      "100%|██████████| 5/5 [01:38<00:00, 19.76s/it]\n",
      "  0%|          | 0/5 [00:00<?, ?it/s]"
     ]
    },
    {
     "name": "stdout",
     "output_type": "stream",
     "text": [
      "|------ Acc.: 0.899 | dp Dis.: 0.012 |\n",
      "| seed: 7 |\n"
     ]
    },
    {
     "name": "stderr",
     "output_type": "stream",
     "text": [
      "100%|██████████| 5/5 [01:38<00:00, 19.77s/it]\n",
      "  0%|          | 0/5 [00:00<?, ?it/s]"
     ]
    },
    {
     "name": "stdout",
     "output_type": "stream",
     "text": [
      "|------ Acc.: 0.899 | dp Dis.: 0.010 |\n",
      "| seed: 8 |\n"
     ]
    },
    {
     "name": "stderr",
     "output_type": "stream",
     "text": [
      "100%|██████████| 5/5 [01:37<00:00, 19.55s/it]\n",
      "  0%|          | 0/5 [00:00<?, ?it/s]"
     ]
    },
    {
     "name": "stdout",
     "output_type": "stream",
     "text": [
      "|------ Acc.: 0.899 | dp Dis.: 0.010 |\n",
      "| seed: 9 |\n"
     ]
    },
    {
     "name": "stderr",
     "output_type": "stream",
     "text": [
      "100%|██████████| 5/5 [01:39<00:00, 19.81s/it]\n"
     ]
    },
    {
     "name": "stdout",
     "output_type": "stream",
     "text": [
      "|------ Acc.: 0.898 | dp Dis.: 0.012 |\n",
      "| Acc.: 0.899(0.000) | dp Dis.: 0.012(0.001) |\n"
     ]
    }
   ],
   "source": [
    "acc, dp = np.zeros(10), np.zeros(10)\n",
    "for seed in range(10):\n",
    "    print(\"| seed: %d |\" % seed)\n",
    "    server = Server(logReg(num_features=bank_num_features, num_classes=2, seed = seed), bank_info, train_prn = False, seed = seed, ret = True)\n",
    "    acc[seed], dp[seed] = server.Unconstrained(num_rounds = 5, local_epochs = 20, optimizer = 'adam', learning_rate = 0.002)\n",
    "    print(\"|------ Acc.: %.3f | dp Dis.: %.3f |\" % (acc[seed], dp[seed]))\n",
    "print(\"| Acc.: %.3f(%.3f) | dp Dis.: %.3f(%.3f) |\" % (acc.mean(), acc.std(), dp.mean(), dp.std()))"
   ]
  },
  {
   "cell_type": "code",
   "execution_count": 4,
   "metadata": {
    "scrolled": true
   },
   "outputs": [
    {
     "name": "stderr",
     "output_type": "stream",
     "text": [
      "\r",
      "  0%|          | 0/5 [00:00<?, ?it/s]"
     ]
    },
    {
     "name": "stdout",
     "output_type": "stream",
     "text": [
      "| seed: 0 |\n"
     ]
    },
    {
     "name": "stderr",
     "output_type": "stream",
     "text": [
      "100%|██████████| 5/5 [04:49<00:00, 57.96s/it]\n",
      "  0%|          | 0/5 [00:00<?, ?it/s]\n",
      "  0%|          | 0/5 [00:00<?, ?it/s]\u001b[A"
     ]
    },
    {
     "name": "stdout",
     "output_type": "stream",
     "text": [
      "|------ Acc.: 0.892 | dp Dis.: 0.003 |\n",
      "| seed: 1 |\n"
     ]
    },
    {
     "name": "stderr",
     "output_type": "stream",
     "text": [
      "\n",
      " 20%|██        | 1/5 [00:28<01:52, 28.21s/it]\u001b[A\n",
      " 40%|████      | 2/5 [01:01<01:29, 29.77s/it]\u001b[A\n",
      " 60%|██████    | 3/5 [01:47<01:08, 34.46s/it]\u001b[A\n",
      " 80%|████████  | 4/5 [02:36<00:39, 39.10s/it]\u001b[A\n",
      "100%|██████████| 5/5 [03:32<00:00, 42.57s/it]\u001b[A\n",
      "\n",
      "  0%|          | 0/5 [00:00<?, ?it/s]\u001b[A\n",
      "\n",
      "  0%|          | 0/5 [00:00<?, ?it/s]\u001b[A\u001b[A"
     ]
    },
    {
     "name": "stdout",
     "output_type": "stream",
     "text": [
      "|------ Acc.: 0.893 | dp Dis.: 0.000 |\n",
      "| seed: 2 |\n"
     ]
    },
    {
     "name": "stderr",
     "output_type": "stream",
     "text": [
      "\n",
      "\n",
      " 20%|██        | 1/5 [00:56<03:44, 56.12s/it]\u001b[A\u001b[A\n",
      "\n",
      " 40%|████      | 2/5 [02:00<02:55, 58.64s/it]\u001b[A\u001b[A\n",
      "\n",
      " 60%|██████    | 3/5 [02:48<01:50, 55.45s/it]\u001b[A\u001b[A\n",
      "\n",
      " 80%|████████  | 4/5 [03:25<00:49, 49.97s/it]\u001b[A\u001b[A\n",
      "\n",
      "100%|██████████| 5/5 [04:03<00:00, 48.71s/it]\u001b[A\u001b[A\n",
      "\n",
      "\n",
      "  0%|          | 0/5 [00:00<?, ?it/s]\u001b[A\u001b[A\n",
      "\n",
      "\n",
      "  0%|          | 0/5 [00:00<?, ?it/s]\u001b[A\u001b[A\u001b[A"
     ]
    },
    {
     "name": "stdout",
     "output_type": "stream",
     "text": [
      "|------ Acc.: 0.892 | dp Dis.: 0.003 |\n",
      "| seed: 3 |\n"
     ]
    },
    {
     "name": "stderr",
     "output_type": "stream",
     "text": [
      "\n",
      "\n",
      "\n",
      " 20%|██        | 1/5 [00:34<02:19, 34.96s/it]\u001b[A\u001b[A\u001b[A\n",
      "\n",
      "\n",
      " 40%|████      | 2/5 [01:39<02:11, 43.76s/it]\u001b[A\u001b[A\u001b[A\n",
      "\n",
      "\n",
      " 60%|██████    | 3/5 [02:47<01:42, 51.01s/it]\u001b[A\u001b[A\u001b[A\n",
      "\n",
      "\n",
      " 80%|████████  | 4/5 [03:47<00:53, 53.67s/it]\u001b[A\u001b[A\u001b[A\n",
      "\n",
      "\n",
      "100%|██████████| 5/5 [04:35<00:00, 55.09s/it]\u001b[A\u001b[A\u001b[A\n",
      "\n",
      "\n",
      "\n",
      "  0%|          | 0/5 [00:00<?, ?it/s]\u001b[A\u001b[A\u001b[A\n",
      "\n",
      "\n",
      "\n",
      "  0%|          | 0/5 [00:00<?, ?it/s]\u001b[A\u001b[A\u001b[A\u001b[A"
     ]
    },
    {
     "name": "stdout",
     "output_type": "stream",
     "text": [
      "|------ Acc.: 0.892 | dp Dis.: 0.001 |\n",
      "| seed: 4 |\n"
     ]
    },
    {
     "name": "stderr",
     "output_type": "stream",
     "text": [
      "\n",
      "\n",
      "\n",
      "\n",
      " 20%|██        | 1/5 [01:43<06:54, 103.72s/it]\u001b[A\u001b[A\u001b[A\u001b[A\n",
      "\n",
      "\n",
      "\n",
      " 40%|████      | 2/5 [03:23<05:07, 102.45s/it]\u001b[A\u001b[A\u001b[A\u001b[A\n",
      "\n",
      "\n",
      "\n",
      " 60%|██████    | 3/5 [05:07<03:26, 103.14s/it]\u001b[A\u001b[A\u001b[A\u001b[A\n",
      "\n",
      "\n",
      "\n",
      " 80%|████████  | 4/5 [07:26<01:53, 113.65s/it]\u001b[A\u001b[A\u001b[A\u001b[A\n",
      "\n",
      "\n",
      "\n",
      "100%|██████████| 5/5 [09:12<00:00, 110.49s/it]\u001b[A\u001b[A\u001b[A\u001b[A\n",
      "\n",
      "\n",
      "\n",
      "\n",
      "  0%|          | 0/5 [00:00<?, ?it/s]\u001b[A\u001b[A\u001b[A\u001b[A\n",
      "\n",
      "\n",
      "\n",
      "\n",
      "  0%|          | 0/5 [00:00<?, ?it/s]\u001b[A\u001b[A\u001b[A\u001b[A\u001b[A"
     ]
    },
    {
     "name": "stdout",
     "output_type": "stream",
     "text": [
      "|------ Acc.: 0.892 | dp Dis.: 0.002 |\n",
      "| seed: 5 |\n"
     ]
    },
    {
     "name": "stderr",
     "output_type": "stream",
     "text": [
      "\n",
      "\n",
      "\n",
      "\n",
      "\n",
      " 20%|██        | 1/5 [01:47<07:09, 107.32s/it]\u001b[A\u001b[A\u001b[A\u001b[A\u001b[A\n",
      "\n",
      "\n",
      "\n",
      "\n",
      " 40%|████      | 2/5 [03:09<04:59, 99.84s/it] \u001b[A\u001b[A\u001b[A\u001b[A\u001b[A\n",
      "\n",
      "\n",
      "\n",
      "\n",
      " 60%|██████    | 3/5 [04:22<03:03, 91.69s/it]\u001b[A\u001b[A\u001b[A\u001b[A\u001b[A\n",
      "\n",
      "\n",
      "\n",
      "\n",
      " 80%|████████  | 4/5 [05:49<01:30, 90.23s/it]\u001b[A\u001b[A\u001b[A\u001b[A\u001b[A\n",
      "\n",
      "\n",
      "\n",
      "\n",
      "100%|██████████| 5/5 [06:57<00:00, 83.53s/it]\u001b[A\u001b[A\u001b[A\u001b[A\u001b[A\n",
      "\n",
      "\n",
      "\n",
      "\n",
      "\n",
      "  0%|          | 0/5 [00:00<?, ?it/s]\u001b[A\u001b[A\u001b[A\u001b[A\u001b[A\n",
      "\n",
      "\n",
      "\n",
      "\n",
      "\n",
      "  0%|          | 0/5 [00:00<?, ?it/s]\u001b[A\u001b[A\u001b[A\u001b[A\u001b[A\u001b[A"
     ]
    },
    {
     "name": "stdout",
     "output_type": "stream",
     "text": [
      "|------ Acc.: 0.892 | dp Dis.: 0.000 |\n",
      "| seed: 6 |\n"
     ]
    },
    {
     "name": "stderr",
     "output_type": "stream",
     "text": [
      "\n",
      "\n",
      "\n",
      "\n",
      "\n",
      "\n",
      " 20%|██        | 1/5 [01:06<04:26, 66.75s/it]\u001b[A\u001b[A\u001b[A\u001b[A\u001b[A\u001b[A\n",
      "\n",
      "\n",
      "\n",
      "\n",
      "\n",
      " 40%|████      | 2/5 [02:21<03:27, 69.12s/it]\u001b[A\u001b[A\u001b[A\u001b[A\u001b[A\u001b[A\n",
      "\n",
      "\n",
      "\n",
      "\n",
      "\n",
      " 60%|██████    | 3/5 [03:34<02:20, 70.22s/it]\u001b[A\u001b[A\u001b[A\u001b[A\u001b[A\u001b[A\n",
      "\n",
      "\n",
      "\n",
      "\n",
      "\n",
      " 80%|████████  | 4/5 [04:41<01:09, 69.27s/it]\u001b[A\u001b[A\u001b[A\u001b[A\u001b[A\u001b[A\n",
      "\n",
      "\n",
      "\n",
      "\n",
      "\n",
      "100%|██████████| 5/5 [06:01<00:00, 72.30s/it]\u001b[A\u001b[A\u001b[A\u001b[A\u001b[A\u001b[A\n",
      "\n",
      "\n",
      "\n",
      "\n",
      "\n",
      "\n",
      "  0%|          | 0/5 [00:00<?, ?it/s]\u001b[A\u001b[A\u001b[A\u001b[A\u001b[A\u001b[A\n",
      "\n",
      "\n",
      "\n",
      "\n",
      "\n",
      "\n",
      "  0%|          | 0/5 [00:00<?, ?it/s]\u001b[A\u001b[A\u001b[A\u001b[A\u001b[A\u001b[A\u001b[A"
     ]
    },
    {
     "name": "stdout",
     "output_type": "stream",
     "text": [
      "|------ Acc.: 0.892 | dp Dis.: 0.000 |\n",
      "| seed: 7 |\n"
     ]
    },
    {
     "name": "stderr",
     "output_type": "stream",
     "text": [
      "\n",
      "\n",
      "\n",
      "\n",
      "\n",
      "\n",
      "\n",
      " 20%|██        | 1/5 [01:07<04:28, 67.09s/it]\u001b[A\u001b[A\u001b[A\u001b[A\u001b[A\u001b[A\u001b[A\n",
      "\n",
      "\n",
      "\n",
      "\n",
      "\n",
      "\n",
      " 40%|████      | 2/5 [02:32<03:37, 72.65s/it]\u001b[A\u001b[A\u001b[A\u001b[A\u001b[A\u001b[A\u001b[A\n",
      "\n",
      "\n",
      "\n",
      "\n",
      "\n",
      "\n",
      " 60%|██████    | 3/5 [03:42<02:23, 71.76s/it]\u001b[A\u001b[A\u001b[A\u001b[A\u001b[A\u001b[A\u001b[A\n",
      "\n",
      "\n",
      "\n",
      "\n",
      "\n",
      "\n",
      " 80%|████████  | 4/5 [04:49<01:10, 70.35s/it]\u001b[A\u001b[A\u001b[A\u001b[A\u001b[A\u001b[A\u001b[A\n",
      "\n",
      "\n",
      "\n",
      "\n",
      "\n",
      "\n",
      "100%|██████████| 5/5 [06:01<00:00, 72.27s/it]\u001b[A\u001b[A\u001b[A\u001b[A\u001b[A\u001b[A\u001b[A\n",
      "\n",
      "\n",
      "\n",
      "\n",
      "\n",
      "\n",
      "\n",
      "  0%|          | 0/5 [00:00<?, ?it/s]\u001b[A\u001b[A\u001b[A\u001b[A\u001b[A\u001b[A\u001b[A\n",
      "\n",
      "\n",
      "\n",
      "\n",
      "\n",
      "\n",
      "\n",
      "  0%|          | 0/5 [00:00<?, ?it/s]\u001b[A\u001b[A\u001b[A\u001b[A\u001b[A\u001b[A\u001b[A"
     ]
    },
    {
     "name": "stdout",
     "output_type": "stream",
     "text": [
      "|------ Acc.: 0.894 | dp Dis.: 0.010 |\n",
      "| seed: 8 |\n"
     ]
    },
    {
     "name": "stderr",
     "output_type": "stream",
     "text": [
      "\n",
      "\n",
      "\n",
      "\n",
      "\n",
      "\n",
      "\n",
      " 20%|██        | 1/5 [01:17<05:10, 77.67s/it]\u001b[A\u001b[A\u001b[A\u001b[A\u001b[A\u001b[A\u001b[A\n",
      "\n",
      "\n",
      "\n",
      "\n",
      "\n",
      "\n",
      " 40%|████      | 2/5 [02:34<03:52, 77.35s/it]\u001b[A\u001b[A\u001b[A\u001b[A\u001b[A\u001b[A\u001b[A\n",
      "\n",
      "\n",
      "\n",
      "\n",
      "\n",
      "\n",
      " 60%|██████    | 3/5 [03:50<02:34, 77.14s/it]\u001b[A\u001b[A\u001b[A\u001b[A\u001b[A\u001b[A\u001b[A\n",
      "\n",
      "\n",
      "\n",
      "\n",
      "\n",
      "\n",
      " 80%|████████  | 4/5 [05:25<01:22, 82.34s/it]\u001b[A\u001b[A\u001b[A\u001b[A\u001b[A\u001b[A\u001b[A\n",
      "\n",
      "\n",
      "\n",
      "\n",
      "\n",
      "\n",
      "100%|██████████| 5/5 [06:37<00:00, 79.48s/it]\u001b[A\u001b[A\u001b[A\u001b[A\u001b[A\u001b[A\u001b[A\n",
      "\n",
      "\n",
      "\n",
      "\n",
      "\n",
      "\n",
      "\n",
      "  0%|          | 0/5 [00:00<?, ?it/s]\u001b[A\u001b[A\u001b[A\u001b[A\u001b[A\u001b[A\u001b[A\n",
      "\n",
      "\n",
      "\n",
      "\n",
      "\n",
      "\n",
      "\n",
      "  0%|          | 0/5 [00:00<?, ?it/s]\u001b[A\u001b[A\u001b[A\u001b[A\u001b[A\u001b[A\u001b[A"
     ]
    },
    {
     "name": "stdout",
     "output_type": "stream",
     "text": [
      "|------ Acc.: 0.893 | dp Dis.: 0.010 |\n",
      "| seed: 9 |\n"
     ]
    },
    {
     "name": "stderr",
     "output_type": "stream",
     "text": [
      "\n",
      "\n",
      "\n",
      "\n",
      "\n",
      "\n",
      "\n",
      " 20%|██        | 1/5 [01:21<05:27, 81.95s/it]\u001b[A\u001b[A\u001b[A\u001b[A\u001b[A\u001b[A\u001b[A\n",
      "\n",
      "\n",
      "\n",
      "\n",
      "\n",
      "\n",
      " 40%|████      | 2/5 [02:30<03:54, 78.01s/it]\u001b[A\u001b[A\u001b[A\u001b[A\u001b[A\u001b[A\u001b[A\n",
      "\n",
      "\n",
      "\n",
      "\n",
      "\n",
      "\n",
      " 60%|██████    | 3/5 [03:46<02:34, 77.20s/it]\u001b[A\u001b[A\u001b[A\u001b[A\u001b[A\u001b[A\u001b[A\n",
      "\n",
      "\n",
      "\n",
      "\n",
      "\n",
      "\n",
      " 80%|████████  | 4/5 [05:41<01:28, 88.61s/it]\u001b[A\u001b[A\u001b[A\u001b[A\u001b[A\u001b[A\u001b[A\n",
      "\n",
      "\n",
      "\n",
      "\n",
      "\n",
      "\n",
      "100%|██████████| 5/5 [08:06<00:00, 97.30s/it] \u001b[A\u001b[A\u001b[A\u001b[A\u001b[A\u001b[A\u001b[A\n",
      "\n",
      "\n",
      "\n",
      "\n",
      "\n",
      "\n",
      "\n",
      "  0%|          | 0/5 [00:00<?, ?it/s]\u001b[A\u001b[A\u001b[A\u001b[A\u001b[A\u001b[A\u001b[A"
     ]
    },
    {
     "name": "stdout",
     "output_type": "stream",
     "text": [
      "|------ Acc.: 0.892 | dp Dis.: 0.001 |\n",
      "| Acc.: 0.892(0.001) | dp Dis.: 0.003(0.004) |\n"
     ]
    }
   ],
   "source": [
    "acc, dp = np.zeros(10), np.zeros(10)\n",
    "for seed in range(10):\n",
    "    print(\"| seed: %d |\" % seed)\n",
    "    server = Server(logReg(num_features=bank_num_features, num_classes=2, seed = seed), bank_info, train_prn = False, seed = seed, ret = True)\n",
    "    server.Unconstrained(num_rounds = 5, local_epochs = 20, optimizer = 'adam', learning_rate = 0.002)\n",
    "    acc[seed], dp[seed] = server.ThresholdAdjust(num_rounds = 5, local_epochs = 30, epsilon = 0.01, learning_rate = 0.0008)\n",
    "    print(\"|------ Acc.: %.3f | dp Dis.: %.3f |\" % (acc[seed], dp[seed]))\n",
    "print(\"| Acc.: %.3f(%.3f) | dp Dis.: %.3f(%.3f) |\" % (acc.mean(), acc.std(), dp.mean(), dp.std()))"
   ]
  },
  {
   "cell_type": "code",
   "execution_count": 4,
   "metadata": {
    "scrolled": true
   },
   "outputs": [
    {
     "name": "stderr",
     "output_type": "stream",
     "text": [
      "\r",
      "  0%|          | 0/10 [00:00<?, ?it/s]"
     ]
    },
    {
     "name": "stdout",
     "output_type": "stream",
     "text": [
      "| seed: 0 |\n"
     ]
    },
    {
     "name": "stderr",
     "output_type": "stream",
     "text": [
      "100%|██████████| 10/10 [13:16<00:00, 79.69s/it]\n",
      "  0%|          | 0/10 [00:00<?, ?it/s]"
     ]
    },
    {
     "name": "stdout",
     "output_type": "stream",
     "text": [
      "|------ Acc.: 0.889 | dp Dis.: 0.018 |\n",
      "| seed: 1 |\n"
     ]
    },
    {
     "name": "stderr",
     "output_type": "stream",
     "text": [
      "100%|██████████| 10/10 [13:08<00:00, 78.84s/it]\n",
      "  0%|          | 0/10 [00:00<?, ?it/s]"
     ]
    },
    {
     "name": "stdout",
     "output_type": "stream",
     "text": [
      "|------ Acc.: 0.886 | dp Dis.: 0.010 |\n",
      "| seed: 2 |\n"
     ]
    },
    {
     "name": "stderr",
     "output_type": "stream",
     "text": [
      "100%|██████████| 10/10 [09:46<00:00, 58.66s/it]\n",
      "  0%|          | 0/10 [00:00<?, ?it/s]"
     ]
    },
    {
     "name": "stdout",
     "output_type": "stream",
     "text": [
      "|------ Acc.: 0.890 | dp Dis.: 0.018 |\n",
      "| seed: 3 |\n"
     ]
    },
    {
     "name": "stderr",
     "output_type": "stream",
     "text": [
      "100%|██████████| 10/10 [09:04<00:00, 54.45s/it]\n",
      "  0%|          | 0/10 [00:00<?, ?it/s]"
     ]
    },
    {
     "name": "stdout",
     "output_type": "stream",
     "text": [
      "|------ Acc.: 0.891 | dp Dis.: 0.013 |\n",
      "| seed: 4 |\n"
     ]
    },
    {
     "name": "stderr",
     "output_type": "stream",
     "text": [
      "100%|██████████| 10/10 [07:02<00:00, 42.22s/it]\n",
      "  0%|          | 0/10 [00:00<?, ?it/s]"
     ]
    },
    {
     "name": "stdout",
     "output_type": "stream",
     "text": [
      "|------ Acc.: 0.891 | dp Dis.: 0.013 |\n",
      "| seed: 5 |\n"
     ]
    },
    {
     "name": "stderr",
     "output_type": "stream",
     "text": [
      "100%|██████████| 10/10 [07:11<00:00, 43.18s/it]\n",
      "  0%|          | 0/10 [00:00<?, ?it/s]"
     ]
    },
    {
     "name": "stdout",
     "output_type": "stream",
     "text": [
      "|------ Acc.: 0.888 | dp Dis.: 0.018 |\n",
      "| seed: 6 |\n"
     ]
    },
    {
     "name": "stderr",
     "output_type": "stream",
     "text": [
      "100%|██████████| 10/10 [06:18<00:00, 37.81s/it]\n",
      "  0%|          | 0/10 [00:00<?, ?it/s]"
     ]
    },
    {
     "name": "stdout",
     "output_type": "stream",
     "text": [
      "|------ Acc.: 0.888 | dp Dis.: 0.018 |\n",
      "| seed: 7 |\n"
     ]
    },
    {
     "name": "stderr",
     "output_type": "stream",
     "text": [
      "100%|██████████| 10/10 [04:55<00:00, 29.53s/it]\n",
      "  0%|          | 0/10 [00:00<?, ?it/s]"
     ]
    },
    {
     "name": "stdout",
     "output_type": "stream",
     "text": [
      "|------ Acc.: 0.890 | dp Dis.: 0.018 |\n",
      "| seed: 8 |\n"
     ]
    },
    {
     "name": "stderr",
     "output_type": "stream",
     "text": [
      "100%|██████████| 10/10 [03:25<00:00, 20.56s/it]\n",
      "  0%|          | 0/10 [00:00<?, ?it/s]"
     ]
    },
    {
     "name": "stdout",
     "output_type": "stream",
     "text": [
      "|------ Acc.: 0.890 | dp Dis.: 0.017 |\n",
      "| seed: 9 |\n"
     ]
    },
    {
     "name": "stderr",
     "output_type": "stream",
     "text": [
      "100%|██████████| 10/10 [03:25<00:00, 20.58s/it]\n"
     ]
    },
    {
     "name": "stdout",
     "output_type": "stream",
     "text": [
      "|------ Acc.: 0.891 | dp Dis.: 0.013 |\n",
      "| Acc.: 0.889(0.002) | dp Dis.: 0.016(0.003) |\n"
     ]
    }
   ],
   "source": [
    "acc, dp = np.zeros(10), np.zeros(10)\n",
    "for seed in range(10):\n",
    "    print(\"| seed: %d |\" % seed)\n",
    "    server = Server(logReg(num_features=bank_num_features, num_classes=2, seed = seed), bank_info, train_prn = False, seed = seed, ret = True, Z = bank_z)\n",
    "    acc[seed], dp[seed] = server.BiasCorrecting(num_rounds = 10, local_epochs = 20, optimizer = 'adam', learning_rate = 0.002, alpha = 0.05)\n",
    "    print(\"|------ Acc.: %.3f | dp Dis.: %.3f |\" % (acc[seed], dp[seed]))\n",
    "print(\"| Acc.: %.3f(%.3f) | dp Dis.: %.3f(%.3f) |\" % (acc.mean(), acc.std(), dp.mean(), dp.std()))"
   ]
  },
  {
   "cell_type": "code",
   "execution_count": 5,
   "metadata": {
    "scrolled": true
   },
   "outputs": [
    {
     "name": "stderr",
     "output_type": "stream",
     "text": [
      "\r",
      "  0%|          | 0/5 [00:00<?, ?it/s]"
     ]
    },
    {
     "name": "stdout",
     "output_type": "stream",
     "text": [
      "| seed: 0 |\n"
     ]
    },
    {
     "name": "stderr",
     "output_type": "stream",
     "text": [
      "100%|██████████| 5/5 [06:02<00:00, 72.53s/it]\n",
      "  0%|          | 0/5 [00:00<?, ?it/s]"
     ]
    },
    {
     "name": "stdout",
     "output_type": "stream",
     "text": [
      "|------ Acc.: 0.882 | dp Dis.: 0.000 |\n",
      "| seed: 1 |\n"
     ]
    },
    {
     "name": "stderr",
     "output_type": "stream",
     "text": [
      "100%|██████████| 5/5 [10:05<00:00, 121.12s/it]\n",
      "  0%|          | 0/5 [00:00<?, ?it/s]"
     ]
    },
    {
     "name": "stdout",
     "output_type": "stream",
     "text": [
      "|------ Acc.: 0.882 | dp Dis.: 0.000 |\n",
      "| seed: 2 |\n"
     ]
    },
    {
     "name": "stderr",
     "output_type": "stream",
     "text": [
      "100%|██████████| 5/5 [09:20<00:00, 112.18s/it]\n",
      "  0%|          | 0/5 [00:00<?, ?it/s]"
     ]
    },
    {
     "name": "stdout",
     "output_type": "stream",
     "text": [
      "|------ Acc.: 0.882 | dp Dis.: 0.000 |\n",
      "| seed: 3 |\n"
     ]
    },
    {
     "name": "stderr",
     "output_type": "stream",
     "text": [
      "100%|██████████| 5/5 [08:48<00:00, 105.69s/it]\n",
      "  0%|          | 0/5 [00:00<?, ?it/s]"
     ]
    },
    {
     "name": "stdout",
     "output_type": "stream",
     "text": [
      "|------ Acc.: 0.882 | dp Dis.: 0.000 |\n",
      "| seed: 4 |\n"
     ]
    },
    {
     "name": "stderr",
     "output_type": "stream",
     "text": [
      "100%|██████████| 5/5 [08:12<00:00, 98.47s/it] \n",
      "  0%|          | 0/5 [00:00<?, ?it/s]"
     ]
    },
    {
     "name": "stdout",
     "output_type": "stream",
     "text": [
      "|------ Acc.: 0.882 | dp Dis.: 0.000 |\n",
      "| seed: 5 |\n"
     ]
    },
    {
     "name": "stderr",
     "output_type": "stream",
     "text": [
      "100%|██████████| 5/5 [08:15<00:00, 99.04s/it] \n",
      "  0%|          | 0/5 [00:00<?, ?it/s]"
     ]
    },
    {
     "name": "stdout",
     "output_type": "stream",
     "text": [
      "|------ Acc.: 0.882 | dp Dis.: 0.000 |\n",
      "| seed: 6 |\n"
     ]
    },
    {
     "name": "stderr",
     "output_type": "stream",
     "text": [
      "100%|██████████| 5/5 [08:25<00:00, 101.06s/it]\n",
      "  0%|          | 0/5 [00:00<?, ?it/s]"
     ]
    },
    {
     "name": "stdout",
     "output_type": "stream",
     "text": [
      "|------ Acc.: 0.882 | dp Dis.: 0.000 |\n",
      "| seed: 7 |\n"
     ]
    },
    {
     "name": "stderr",
     "output_type": "stream",
     "text": [
      "100%|██████████| 5/5 [08:21<00:00, 100.29s/it]\n",
      "  0%|          | 0/5 [00:00<?, ?it/s]"
     ]
    },
    {
     "name": "stdout",
     "output_type": "stream",
     "text": [
      "|------ Acc.: 0.882 | dp Dis.: 0.000 |\n",
      "| seed: 8 |\n"
     ]
    },
    {
     "name": "stderr",
     "output_type": "stream",
     "text": [
      "100%|██████████| 5/5 [08:39<00:00, 103.99s/it]\n",
      "  0%|          | 0/5 [00:00<?, ?it/s]"
     ]
    },
    {
     "name": "stdout",
     "output_type": "stream",
     "text": [
      "|------ Acc.: 0.882 | dp Dis.: 0.000 |\n",
      "| seed: 9 |\n"
     ]
    },
    {
     "name": "stderr",
     "output_type": "stream",
     "text": [
      "100%|██████████| 5/5 [08:07<00:00, 97.58s/it] \n"
     ]
    },
    {
     "name": "stdout",
     "output_type": "stream",
     "text": [
      "|------ Acc.: 0.882 | dp Dis.: 0.000 |\n",
      "| Acc.: 0.882(0.000) | dp Dis.: 0.000(0.000) |\n"
     ]
    }
   ],
   "source": [
    "acc, dp = np.zeros(10), np.zeros(10)\n",
    "for seed in range(10):\n",
    "    print(\"| seed: %d |\" % seed)\n",
    "    server = Server(logReg(num_features=bank_num_features, num_classes=2, seed = seed), bank_info, train_prn = False, seed = seed, ret = True, Z = bank_z)\n",
    "    acc[seed], dp[seed] = server.LocalZafar(num_rounds = 5, local_epochs = 20, optimizer = 'adam', learning_rate = 0.001, penalty = 50)\n",
    "    print(\"|------ Acc.: %.3f | dp Dis.: %.3f |\" % (acc[seed], dp[seed]))\n",
    "print(\"| Acc.: %.3f(%.3f) | dp Dis.: %.3f(%.3f) |\" % (acc.mean(), acc.std(), dp.mean(), dp.std()))"
   ]
  },
  {
   "cell_type": "code",
   "execution_count": 6,
   "metadata": {
    "scrolled": true
   },
   "outputs": [
    {
     "name": "stdout",
     "output_type": "stream",
     "text": [
      "| seed: 0 |\n"
     ]
    },
    {
     "name": "stderr",
     "output_type": "stream",
     "text": [
      "100%|██████████| 3/3 [03:14<00:00, 64.96s/it]\n",
      "100%|██████████| 3/3 [03:02<00:00, 60.87s/it]\n",
      "100%|██████████| 4/4 [03:50<00:00, 57.54s/it]\n",
      "  0%|          | 0/3 [00:00<?, ?it/s]"
     ]
    },
    {
     "name": "stdout",
     "output_type": "stream",
     "text": [
      "|------ Acc.: 0.882 | dp Dis.: 0.006 |\n",
      "| seed: 1 |\n"
     ]
    },
    {
     "name": "stderr",
     "output_type": "stream",
     "text": [
      "100%|██████████| 3/3 [02:47<00:00, 55.86s/it]\n",
      "100%|██████████| 3/3 [02:55<00:00, 58.36s/it]\n",
      "100%|██████████| 4/4 [03:26<00:00, 51.50s/it]\n",
      "  0%|          | 0/3 [00:00<?, ?it/s]"
     ]
    },
    {
     "name": "stdout",
     "output_type": "stream",
     "text": [
      "|------ Acc.: 0.881 | dp Dis.: 0.004 |\n",
      "| seed: 2 |\n"
     ]
    },
    {
     "name": "stderr",
     "output_type": "stream",
     "text": [
      "100%|██████████| 3/3 [02:45<00:00, 55.05s/it]\n",
      "100%|██████████| 3/3 [02:52<00:00, 57.58s/it]\n",
      "100%|██████████| 4/4 [03:31<00:00, 52.89s/it]\n",
      "  0%|          | 0/3 [00:00<?, ?it/s]"
     ]
    },
    {
     "name": "stdout",
     "output_type": "stream",
     "text": [
      "|------ Acc.: 0.882 | dp Dis.: 0.006 |\n",
      "| seed: 3 |\n"
     ]
    },
    {
     "name": "stderr",
     "output_type": "stream",
     "text": [
      "100%|██████████| 3/3 [02:45<00:00, 55.02s/it]\n",
      "100%|██████████| 3/3 [02:45<00:00, 55.20s/it]\n",
      "100%|██████████| 4/4 [03:42<00:00, 55.72s/it]\n",
      "  0%|          | 0/3 [00:00<?, ?it/s]"
     ]
    },
    {
     "name": "stdout",
     "output_type": "stream",
     "text": [
      "|------ Acc.: 0.882 | dp Dis.: 0.007 |\n",
      "| seed: 4 |\n"
     ]
    },
    {
     "name": "stderr",
     "output_type": "stream",
     "text": [
      "100%|██████████| 3/3 [02:41<00:00, 53.79s/it]\n",
      "100%|██████████| 3/3 [02:40<00:00, 53.49s/it]\n",
      "100%|██████████| 4/4 [03:07<00:00, 46.89s/it]\n",
      "  0%|          | 0/3 [00:00<?, ?it/s]"
     ]
    },
    {
     "name": "stdout",
     "output_type": "stream",
     "text": [
      "|------ Acc.: 0.882 | dp Dis.: 0.006 |\n",
      "| seed: 5 |\n"
     ]
    },
    {
     "name": "stderr",
     "output_type": "stream",
     "text": [
      "100%|██████████| 3/3 [01:59<00:00, 39.86s/it]\n",
      "100%|██████████| 3/3 [01:51<00:00, 37.20s/it]\n",
      "100%|██████████| 4/4 [02:41<00:00, 40.30s/it]\n",
      "  0%|          | 0/3 [00:00<?, ?it/s]"
     ]
    },
    {
     "name": "stdout",
     "output_type": "stream",
     "text": [
      "|------ Acc.: 0.881 | dp Dis.: 0.005 |\n",
      "| seed: 6 |\n"
     ]
    },
    {
     "name": "stderr",
     "output_type": "stream",
     "text": [
      "100%|██████████| 3/3 [01:57<00:00, 39.11s/it]\n",
      "100%|██████████| 3/3 [02:01<00:00, 40.43s/it]\n",
      "100%|██████████| 4/4 [02:32<00:00, 38.08s/it]\n",
      "  0%|          | 0/3 [00:00<?, ?it/s]"
     ]
    },
    {
     "name": "stdout",
     "output_type": "stream",
     "text": [
      "|------ Acc.: 0.881 | dp Dis.: 0.005 |\n",
      "| seed: 7 |\n"
     ]
    },
    {
     "name": "stderr",
     "output_type": "stream",
     "text": [
      "100%|██████████| 3/3 [02:01<00:00, 40.38s/it]\n",
      "100%|██████████| 3/3 [01:58<00:00, 39.36s/it]\n",
      "100%|██████████| 4/4 [02:07<00:00, 31.76s/it]\n",
      "  0%|          | 0/3 [00:00<?, ?it/s]"
     ]
    },
    {
     "name": "stdout",
     "output_type": "stream",
     "text": [
      "|------ Acc.: 0.882 | dp Dis.: 0.006 |\n",
      "| seed: 8 |\n"
     ]
    },
    {
     "name": "stderr",
     "output_type": "stream",
     "text": [
      "100%|██████████| 3/3 [01:38<00:00, 32.80s/it]\n",
      "100%|██████████| 3/3 [01:28<00:00, 29.52s/it]\n",
      "100%|██████████| 4/4 [01:58<00:00, 29.69s/it]\n",
      "  0%|          | 0/3 [00:00<?, ?it/s]"
     ]
    },
    {
     "name": "stdout",
     "output_type": "stream",
     "text": [
      "|------ Acc.: 0.882 | dp Dis.: 0.006 |\n",
      "| seed: 9 |\n"
     ]
    },
    {
     "name": "stderr",
     "output_type": "stream",
     "text": [
      "100%|██████████| 3/3 [01:24<00:00, 28.02s/it]\n",
      "100%|██████████| 3/3 [00:58<00:00, 19.46s/it]\n",
      "100%|██████████| 4/4 [01:22<00:00, 20.68s/it]\n"
     ]
    },
    {
     "name": "stdout",
     "output_type": "stream",
     "text": [
      "|------ Acc.: 0.882 | dp Dis.: 0.006 |\n",
      "| Acc.: 0.882(0.000) | dp Dis.: 0.006(0.001) |\n"
     ]
    }
   ],
   "source": [
    "acc, dp = np.zeros(10), np.zeros(10)\n",
    "for seed in range(10):\n",
    "    print(\"| seed: %d |\" % seed)\n",
    "    server = Server(logReg(num_features=bank_num_features, num_classes=2, seed = seed), bank_info, train_prn = False, seed = seed, ret = True, Z = bank_z)\n",
    "    acc[seed], dp[seed] = server.Zafar(test_rounds = 3, test_lr = 0.01, test_penalty = 500, num_rounds = 4, local_epochs = 20, optimizer = 'adam', learning_rate = 0.002, penalty = 400)\n",
    "    print(\"|------ Acc.: %.3f | dp Dis.: %.3f |\" % (acc[seed], dp[seed]))\n",
    "print(\"| Acc.: %.3f(%.3f) | dp Dis.: %.3f(%.3f) |\" % (acc.mean(), acc.std(), dp.mean(), dp.std()))"
   ]
  },
  {
   "cell_type": "code",
   "execution_count": 7,
   "metadata": {
    "scrolled": true
   },
   "outputs": [
    {
     "name": "stderr",
     "output_type": "stream",
     "text": [
      "\r",
      "  0%|          | 0/10 [00:00<?, ?it/s]"
     ]
    },
    {
     "name": "stdout",
     "output_type": "stream",
     "text": [
      "| seed: 0 |\n"
     ]
    },
    {
     "name": "stderr",
     "output_type": "stream",
     "text": [
      "100%|██████████| 10/10 [04:56<00:00, 29.68s/it]\n",
      "  0%|          | 0/10 [00:00<?, ?it/s]"
     ]
    },
    {
     "name": "stdout",
     "output_type": "stream",
     "text": [
      "|------ Acc.: 0.899 | dp Dis.: 0.015 |\n",
      "| seed: 1 |\n"
     ]
    },
    {
     "name": "stderr",
     "output_type": "stream",
     "text": [
      "100%|██████████| 10/10 [04:54<00:00, 29.43s/it]\n",
      "  0%|          | 0/10 [00:00<?, ?it/s]"
     ]
    },
    {
     "name": "stdout",
     "output_type": "stream",
     "text": [
      "|------ Acc.: 0.899 | dp Dis.: 0.015 |\n",
      "| seed: 2 |\n"
     ]
    },
    {
     "name": "stderr",
     "output_type": "stream",
     "text": [
      "100%|██████████| 10/10 [04:58<00:00, 29.81s/it]\n",
      "  0%|          | 0/10 [00:00<?, ?it/s]"
     ]
    },
    {
     "name": "stdout",
     "output_type": "stream",
     "text": [
      "|------ Acc.: 0.898 | dp Dis.: 0.012 |\n",
      "| seed: 3 |\n"
     ]
    },
    {
     "name": "stderr",
     "output_type": "stream",
     "text": [
      "100%|██████████| 10/10 [04:54<00:00, 29.47s/it]\n",
      "  0%|          | 0/10 [00:00<?, ?it/s]"
     ]
    },
    {
     "name": "stdout",
     "output_type": "stream",
     "text": [
      "|------ Acc.: 0.899 | dp Dis.: 0.011 |\n",
      "| seed: 4 |\n"
     ]
    },
    {
     "name": "stderr",
     "output_type": "stream",
     "text": [
      "100%|██████████| 10/10 [04:51<00:00, 29.13s/it]\n",
      "  0%|          | 0/10 [00:00<?, ?it/s]"
     ]
    },
    {
     "name": "stdout",
     "output_type": "stream",
     "text": [
      "|------ Acc.: 0.896 | dp Dis.: 0.064 |\n",
      "| seed: 5 |\n"
     ]
    },
    {
     "name": "stderr",
     "output_type": "stream",
     "text": [
      "100%|██████████| 10/10 [04:57<00:00, 29.74s/it]\n",
      "  0%|          | 0/10 [00:00<?, ?it/s]"
     ]
    },
    {
     "name": "stdout",
     "output_type": "stream",
     "text": [
      "|------ Acc.: 0.900 | dp Dis.: 0.011 |\n",
      "| seed: 6 |\n"
     ]
    },
    {
     "name": "stderr",
     "output_type": "stream",
     "text": [
      "100%|██████████| 10/10 [05:00<00:00, 30.10s/it]\n",
      "  0%|          | 0/10 [00:00<?, ?it/s]"
     ]
    },
    {
     "name": "stdout",
     "output_type": "stream",
     "text": [
      "|------ Acc.: 0.898 | dp Dis.: 0.012 |\n",
      "| seed: 7 |\n"
     ]
    },
    {
     "name": "stderr",
     "output_type": "stream",
     "text": [
      "100%|██████████| 10/10 [04:49<00:00, 28.91s/it]\n",
      "  0%|          | 0/10 [00:00<?, ?it/s]"
     ]
    },
    {
     "name": "stdout",
     "output_type": "stream",
     "text": [
      "|------ Acc.: 0.899 | dp Dis.: 0.016 |\n",
      "| seed: 8 |\n"
     ]
    },
    {
     "name": "stderr",
     "output_type": "stream",
     "text": [
      "100%|██████████| 10/10 [04:48<00:00, 28.84s/it]\n",
      "  0%|          | 0/10 [00:00<?, ?it/s]"
     ]
    },
    {
     "name": "stdout",
     "output_type": "stream",
     "text": [
      "|------ Acc.: 0.898 | dp Dis.: 0.012 |\n",
      "| seed: 9 |\n"
     ]
    },
    {
     "name": "stderr",
     "output_type": "stream",
     "text": [
      "100%|██████████| 10/10 [04:50<00:00, 29.07s/it]\n"
     ]
    },
    {
     "name": "stdout",
     "output_type": "stream",
     "text": [
      "|------ Acc.: 0.898 | dp Dis.: 0.016 |\n",
      "| Acc.: 0.898(0.001) | dp Dis.: 0.018(0.015) |\n"
     ]
    }
   ],
   "source": [
    "acc, dp = np.zeros(10), np.zeros(10)\n",
    "for seed in range(10):\n",
    "    print(\"| seed: %d |\" % seed)\n",
    "    server = Server(logReg(num_features=bank_num_features, num_classes=2, seed = seed), bank_info, train_prn = False, seed = seed, ret = True, Z = bank_z)\n",
    "    acc[seed], dp[seed] = server.FTrain(num_rounds = 10, local_epochs = 30, init_epochs = 50, lr_g = 0.005, lr_d = 0.01, lambda_d = 0.9)\n",
    "    print(\"|------ Acc.: %.3f | dp Dis.: %.3f |\" % (acc[seed], dp[seed]))\n",
    "print(\"| Acc.: %.3f(%.3f) | dp Dis.: %.3f(%.3f) |\" % (acc.mean(), acc.std(), dp.mean(), dp.std()))"
   ]
  },
  {
   "cell_type": "markdown",
   "metadata": {},
   "source": [
    "# Others"
   ]
  },
  {
   "cell_type": "code",
   "execution_count": 2,
   "metadata": {
    "scrolled": true
   },
   "outputs": [
    {
     "name": "stderr",
     "output_type": "stream",
     "text": [
      "\r",
      "  0%|          | 0/5 [00:00<?, ?it/s]"
     ]
    },
    {
     "name": "stdout",
     "output_type": "stream",
     "text": [
      "\n",
      " | Global Training Round : 1 |\n",
      "\n"
     ]
    },
    {
     "name": "stderr",
     "output_type": "stream",
     "text": [
      "\r",
      " 20%|██        | 1/5 [00:20<01:21, 20.48s/it]"
     ]
    },
    {
     "name": "stdout",
     "output_type": "stream",
     "text": [
      "Client 1: accuracy loss: 40.24 | fairness loss 578.90 | Demographic disparity = 0.01\n",
      "Client 2: accuracy loss: 13.72 | fairness loss 553.10 | Demographic disparity = 0.02\n",
      "Client 3: accuracy loss: 36.39 | fairness loss 568.70 | Demographic disparity = 0.03\n",
      " \n",
      "Avg Training Stats after 1 global rounds:\n",
      "Training loss: 38.25 | Validation accuracy: 90.43% | Validation Demographic disparity: 0.0191\n",
      "\n",
      " | Global Training Round : 2 |\n",
      "\n"
     ]
    },
    {
     "name": "stderr",
     "output_type": "stream",
     "text": [
      "\r",
      " 40%|████      | 2/5 [00:38<00:59, 19.80s/it]"
     ]
    },
    {
     "name": "stdout",
     "output_type": "stream",
     "text": [
      "Client 1: accuracy loss: 37.69 | fairness loss 742.91 | Demographic disparity = 0.02\n",
      "Client 2: accuracy loss: 12.77 | fairness loss 706.73 | Demographic disparity = 0.02\n",
      "Client 3: accuracy loss: 34.05 | fairness loss 713.26 | Demographic disparity = 0.03\n",
      " \n",
      "Avg Training Stats after 2 global rounds:\n",
      "Training loss: 36.16 | Validation accuracy: 90.55% | Validation Demographic disparity: 0.0201\n",
      "\n",
      " | Global Training Round : 3 |\n",
      "\n"
     ]
    },
    {
     "name": "stderr",
     "output_type": "stream",
     "text": [
      "\r",
      " 60%|██████    | 3/5 [01:02<00:42, 21.06s/it]"
     ]
    },
    {
     "name": "stdout",
     "output_type": "stream",
     "text": [
      "Client 1: accuracy loss: 36.53 | fairness loss 926.26 | Demographic disparity = 0.02\n",
      "Client 2: accuracy loss: 12.28 | fairness loss 871.56 | Demographic disparity = 0.02\n",
      "Client 3: accuracy loss: 32.87 | fairness loss 876.86 | Demographic disparity = 0.03\n",
      " \n",
      "Avg Training Stats after 3 global rounds:\n",
      "Training loss: 34.90 | Validation accuracy: 90.45% | Validation Demographic disparity: 0.0226\n",
      "\n",
      " | Global Training Round : 4 |\n",
      "\n"
     ]
    },
    {
     "name": "stderr",
     "output_type": "stream",
     "text": [
      "\r",
      " 80%|████████  | 4/5 [01:25<00:21, 21.56s/it]"
     ]
    },
    {
     "name": "stdout",
     "output_type": "stream",
     "text": [
      "Client 1: accuracy loss: 36.12 | fairness loss 1096.03 | Demographic disparity = 0.02\n",
      "Client 2: accuracy loss: 12.07 | fairness loss 1022.35 | Demographic disparity = 0.02\n",
      "Client 3: accuracy loss: 32.36 | fairness loss 1030.61 | Demographic disparity = 0.03\n",
      " \n",
      "Avg Training Stats after 4 global rounds:\n",
      "Training loss: 34.08 | Validation accuracy: 90.74% | Validation Demographic disparity: 0.0215\n",
      "\n",
      " | Global Training Round : 5 |\n",
      "\n"
     ]
    },
    {
     "name": "stderr",
     "output_type": "stream",
     "text": [
      "100%|██████████| 5/5 [01:50<00:00, 22.09s/it]"
     ]
    },
    {
     "name": "stdout",
     "output_type": "stream",
     "text": [
      "Client 1: accuracy loss: 36.01 | fairness loss 1227.12 | Demographic disparity = 0.02\n",
      "Client 2: accuracy loss: 11.99 | fairness loss 1140.02 | Demographic disparity = 0.02\n",
      "Client 3: accuracy loss: 32.15 | fairness loss 1149.90 | Demographic disparity = 0.03\n",
      " \n",
      "Avg Training Stats after 5 global rounds:\n",
      "Training loss: 33.52 | Validation accuracy: 90.75% | Validation Demographic disparity: 0.0233\n"
     ]
    },
    {
     "name": "stderr",
     "output_type": "stream",
     "text": [
      "\n"
     ]
    },
    {
     "name": "stdout",
     "output_type": "stream",
     "text": [
      " \n",
      " Results after 5 global rounds of training:\n",
      "|---- Avg Train Accuracy: 90.75%\n",
      "|---- Test Accuracy: 89.95%\n",
      "|---- Test Demographic disparity: 0.0224\n",
      "\n",
      " Total Run Time: 110.8213 sec\n"
     ]
    }
   ],
   "source": [
    "server = Server(logReg(num_features=bank_num_features, num_classes=2, seed = seed), bank_info, train_prn = False, seed = seed, Z = bank_z)\n",
    "server.Unconstrained(num_rounds = 5, local_epochs = 20, optimizer = 'adam', learning_rate = 0.002)\n"
   ]
  },
  {
   "cell_type": "code",
   "execution_count": 3,
   "metadata": {
    "scrolled": true
   },
   "outputs": [
    {
     "name": "stderr",
     "output_type": "stream",
     "text": [
      " 20%|██        | 1/5 [00:14<00:57, 14.28s/it]"
     ]
    },
    {
     "name": "stdout",
     "output_type": "stream",
     "text": [
      " \n",
      "Avg Training Stats after 1 threshold adjusting global rounds:\n",
      "Training loss: 551.73 | Validation accuracy: 90.41% | Validation Demographic disparity: 0.0188\n"
     ]
    },
    {
     "name": "stderr",
     "output_type": "stream",
     "text": [
      "\r",
      " 40%|████      | 2/5 [00:28<00:42, 14.32s/it]"
     ]
    },
    {
     "name": "stdout",
     "output_type": "stream",
     "text": [
      " \n",
      "Avg Training Stats after 2 threshold adjusting global rounds:\n",
      "Training loss: 556.91 | Validation accuracy: 90.39% | Validation Demographic disparity: 0.0154\n"
     ]
    },
    {
     "name": "stderr",
     "output_type": "stream",
     "text": [
      "\r",
      " 60%|██████    | 3/5 [00:46<00:30, 15.25s/it]"
     ]
    },
    {
     "name": "stdout",
     "output_type": "stream",
     "text": [
      " \n",
      "Avg Training Stats after 3 threshold adjusting global rounds:\n",
      "Training loss: 561.20 | Validation accuracy: 90.43% | Validation Demographic disparity: 0.0122\n",
      " \n",
      "Avg Training Stats after 4 threshold adjusting global rounds:\n",
      "Training loss: 575.41 | Validation accuracy: 90.39% | Validation Demographic disparity: 0.0093\n",
      " \n",
      " Results after 5 global rounds of training:\n",
      "|---- Test Accuracy: 89.68%\n",
      "|---- Test Demographic disparity: 0.0080\n",
      "\n",
      " Total Run Time: 66.1511 sec\n"
     ]
    }
   ],
   "source": [
    "server.ThresholdAdjust(num_rounds = 5, local_epochs = 30, epsilon = 0.01, learning_rate = 0.0008)"
   ]
  },
  {
   "cell_type": "code",
   "execution_count": 8,
   "metadata": {
    "scrolled": true
   },
   "outputs": [
    {
     "name": "stderr",
     "output_type": "stream",
     "text": [
      "\r",
      "  0%|          | 0/10 [00:00<?, ?it/s]"
     ]
    },
    {
     "name": "stdout",
     "output_type": "stream",
     "text": [
      "\n",
      " | Global Training Round : 1 |\n",
      "\n"
     ]
    },
    {
     "name": "stderr",
     "output_type": "stream",
     "text": [
      "\r",
      " 10%|█         | 1/10 [00:27<04:07, 27.47s/it]"
     ]
    },
    {
     "name": "stdout",
     "output_type": "stream",
     "text": [
      "Client 1: accuracy loss: 50.85 | fairness loss 214.12 | Demographic disparity = 0.01\n",
      "Client 2: accuracy loss: 17.78 | fairness loss 196.84 | Demographic disparity = 0.02\n",
      "Client 3: accuracy loss: 43.26 | fairness loss 210.84 | Demographic disparity = 0.03\n",
      " \n",
      "Avg Training Stats after 1 global rounds:\n",
      "Training loss: 0.30 | Validation accuracy: 90.39% | Validation Demographic disparity: 0.0181\n",
      "\n",
      " | Global Training Round : 2 |\n",
      "\n"
     ]
    },
    {
     "name": "stderr",
     "output_type": "stream",
     "text": [
      "\r",
      " 20%|██        | 2/10 [00:53<03:36, 27.02s/it]"
     ]
    },
    {
     "name": "stdout",
     "output_type": "stream",
     "text": [
      "Client 1: accuracy loss: 50.59 | fairness loss 172.88 | Demographic disparity = 0.02\n",
      "Client 2: accuracy loss: 17.70 | fairness loss 157.04 | Demographic disparity = 0.02\n",
      "Client 3: accuracy loss: 43.07 | fairness loss 167.98 | Demographic disparity = 0.03\n",
      " \n",
      "Avg Training Stats after 2 global rounds:\n",
      "Training loss: 0.29 | Validation accuracy: 90.39% | Validation Demographic disparity: 0.0206\n",
      "\n",
      " | Global Training Round : 3 |\n",
      "\n"
     ]
    },
    {
     "name": "stderr",
     "output_type": "stream",
     "text": [
      "\r",
      " 30%|███       | 3/10 [01:19<03:08, 26.88s/it]"
     ]
    },
    {
     "name": "stdout",
     "output_type": "stream",
     "text": [
      "Client 1: accuracy loss: 51.04 | fairness loss 150.94 | Demographic disparity = 0.01\n",
      "Client 2: accuracy loss: 17.89 | fairness loss 137.11 | Demographic disparity = 0.02\n",
      "Client 3: accuracy loss: 43.46 | fairness loss 146.08 | Demographic disparity = 0.03\n",
      " \n",
      "Avg Training Stats after 3 global rounds:\n",
      "Training loss: 0.29 | Validation accuracy: 90.34% | Validation Demographic disparity: 0.0171\n",
      "\n",
      " | Global Training Round : 4 |\n",
      "\n"
     ]
    },
    {
     "name": "stderr",
     "output_type": "stream",
     "text": [
      "\r",
      " 40%|████      | 4/10 [01:47<02:41, 26.97s/it]"
     ]
    },
    {
     "name": "stdout",
     "output_type": "stream",
     "text": [
      "Client 1: accuracy loss: 51.59 | fairness loss 137.05 | Demographic disparity = 0.01\n",
      "Client 2: accuracy loss: 18.14 | fairness loss 125.12 | Demographic disparity = 0.02\n",
      "Client 3: accuracy loss: 43.95 | fairness loss 132.61 | Demographic disparity = 0.03\n",
      " \n",
      "Avg Training Stats after 4 global rounds:\n",
      "Training loss: 0.29 | Validation accuracy: 90.36% | Validation Demographic disparity: 0.0167\n",
      "\n",
      " | Global Training Round : 5 |\n",
      "\n"
     ]
    },
    {
     "name": "stderr",
     "output_type": "stream",
     "text": [
      "\r",
      " 50%|█████     | 5/10 [02:17<02:19, 27.87s/it]"
     ]
    },
    {
     "name": "stdout",
     "output_type": "stream",
     "text": [
      "Client 1: accuracy loss: 52.12 | fairness loss 126.54 | Demographic disparity = 0.01\n",
      "Client 2: accuracy loss: 18.37 | fairness loss 116.28 | Demographic disparity = 0.01\n",
      "Client 3: accuracy loss: 44.41 | fairness loss 122.49 | Demographic disparity = 0.03\n",
      " \n",
      "Avg Training Stats after 5 global rounds:\n",
      "Training loss: 0.29 | Validation accuracy: 90.28% | Validation Demographic disparity: 0.0153\n",
      "\n",
      " | Global Training Round : 6 |\n",
      "\n"
     ]
    },
    {
     "name": "stderr",
     "output_type": "stream",
     "text": [
      "\r",
      " 60%|██████    | 6/10 [02:53<02:01, 30.37s/it]"
     ]
    },
    {
     "name": "stdout",
     "output_type": "stream",
     "text": [
      "Client 1: accuracy loss: 52.58 | fairness loss 117.68 | Demographic disparity = 0.01\n",
      "Client 2: accuracy loss: 18.59 | fairness loss 108.84 | Demographic disparity = 0.01\n",
      "Client 3: accuracy loss: 44.81 | fairness loss 113.92 | Demographic disparity = 0.02\n",
      " \n",
      "Avg Training Stats after 6 global rounds:\n",
      "Training loss: 0.29 | Validation accuracy: 90.26% | Validation Demographic disparity: 0.0126\n",
      "\n",
      " | Global Training Round : 7 |\n",
      "\n"
     ]
    },
    {
     "name": "stderr",
     "output_type": "stream",
     "text": [
      "\r",
      " 70%|███████   | 7/10 [03:20<01:28, 29.34s/it]"
     ]
    },
    {
     "name": "stdout",
     "output_type": "stream",
     "text": [
      "Client 1: accuracy loss: 52.99 | fairness loss 109.77 | Demographic disparity = 0.01\n",
      "Client 2: accuracy loss: 18.78 | fairness loss 102.17 | Demographic disparity = 0.01\n",
      "Client 3: accuracy loss: 45.16 | fairness loss 106.22 | Demographic disparity = 0.03\n",
      " \n",
      "Avg Training Stats after 7 global rounds:\n",
      "Training loss: 0.29 | Validation accuracy: 90.14% | Validation Demographic disparity: 0.0132\n",
      "\n",
      " | Global Training Round : 8 |\n",
      "\n"
     ]
    },
    {
     "name": "stderr",
     "output_type": "stream",
     "text": [
      "\r",
      " 80%|████████  | 8/10 [03:44<00:55, 27.70s/it]"
     ]
    },
    {
     "name": "stdout",
     "output_type": "stream",
     "text": [
      "Client 1: accuracy loss: 53.35 | fairness loss 102.52 | Demographic disparity = 0.01\n",
      "Client 2: accuracy loss: 18.95 | fairness loss 96.00 | Demographic disparity = 0.01\n",
      "Client 3: accuracy loss: 45.47 | fairness loss 99.11 | Demographic disparity = 0.02\n",
      " \n",
      "Avg Training Stats after 8 global rounds:\n",
      "Training loss: 0.29 | Validation accuracy: 89.91% | Validation Demographic disparity: 0.0129\n",
      "\n",
      " | Global Training Round : 9 |\n",
      "\n"
     ]
    },
    {
     "name": "stderr",
     "output_type": "stream",
     "text": [
      "\r",
      " 90%|█████████ | 9/10 [04:09<00:26, 27.00s/it]"
     ]
    },
    {
     "name": "stdout",
     "output_type": "stream",
     "text": [
      "Client 1: accuracy loss: 53.68 | fairness loss 95.80 | Demographic disparity = 0.02\n",
      "Client 2: accuracy loss: 19.10 | fairness loss 90.23 | Demographic disparity = 0.01\n",
      "Client 3: accuracy loss: 45.74 | fairness loss 92.50 | Demographic disparity = 0.02\n",
      " \n",
      "Avg Training Stats after 9 global rounds:\n",
      "Training loss: 0.30 | Validation accuracy: 89.87% | Validation Demographic disparity: 0.0135\n",
      "\n",
      " | Global Training Round : 10 |\n",
      "\n"
     ]
    },
    {
     "name": "stderr",
     "output_type": "stream",
     "text": [
      "100%|██████████| 10/10 [04:41<00:00, 28.11s/it]"
     ]
    },
    {
     "name": "stdout",
     "output_type": "stream",
     "text": [
      "Client 1: accuracy loss: 53.98 | fairness loss 89.55 | Demographic disparity = 0.01\n",
      "Client 2: accuracy loss: 19.25 | fairness loss 84.82 | Demographic disparity = 0.01\n",
      "Client 3: accuracy loss: 45.99 | fairness loss 86.33 | Demographic disparity = 0.02\n",
      " \n",
      "Avg Training Stats after 10 global rounds:\n",
      "Training loss: 0.30 | Validation accuracy: 89.84% | Validation Demographic disparity: 0.0121\n"
     ]
    },
    {
     "name": "stderr",
     "output_type": "stream",
     "text": [
      "\n"
     ]
    },
    {
     "name": "stdout",
     "output_type": "stream",
     "text": [
      " \n",
      " Results after 10 global rounds of training:\n",
      "|---- Avg Train Accuracy: 89.84%\n",
      "|---- Test Accuracy: 88.94%\n",
      "|---- Test Demographic disparity: 0.0178\n",
      "\n",
      " Total Run Time: 281.4845 sec\n"
     ]
    }
   ],
   "source": [
    "seed = 0\n",
    "server = Server(logReg(num_features=bank_num_features, num_classes=2, seed = seed), bank_info, train_prn = False, seed = seed, Z = bank_z)\n",
    "server.BiasCorrecting(num_rounds = 10, local_epochs = 20, optimizer = 'adam', learning_rate = 0.002, alpha = 0.05)"
   ]
  },
  {
   "cell_type": "code",
   "execution_count": 7,
   "metadata": {
    "scrolled": true
   },
   "outputs": [
    {
     "name": "stderr",
     "output_type": "stream",
     "text": [
      "\n",
      "  0%|          | 0/5 [00:00<?, ?it/s]\u001b[A"
     ]
    },
    {
     "name": "stdout",
     "output_type": "stream",
     "text": [
      "\n",
      " | Global Training Round : 1 |\n",
      "\n"
     ]
    },
    {
     "name": "stderr",
     "output_type": "stream",
     "text": [
      "\n",
      " 20%|██        | 1/5 [00:22<01:31, 22.94s/it]\u001b[A"
     ]
    },
    {
     "name": "stdout",
     "output_type": "stream",
     "text": [
      "Client 1: accuracy loss: 48.60 | fairness loss 1.18 | Demographic disparity = 0.00\n",
      "Client 2: accuracy loss: 16.17 | fairness loss 0.76 | Demographic disparity = 0.00\n",
      "Client 3: accuracy loss: 42.73 | fairness loss 1.11 | Demographic disparity = 0.00\n",
      " \n",
      "Avg Training Stats after 1 global rounds:\n",
      "Training loss: 45.27 | Validation accuracy: 89.41% | Validation Demographic disparity: 0.0000\n",
      "\n",
      " | Global Training Round : 2 |\n",
      "\n"
     ]
    },
    {
     "name": "stderr",
     "output_type": "stream",
     "text": [
      "\n",
      " 40%|████      | 2/5 [00:42<01:05, 21.99s/it]\u001b[A"
     ]
    },
    {
     "name": "stdout",
     "output_type": "stream",
     "text": [
      "Client 1: accuracy loss: 48.12 | fairness loss 1.55 | Demographic disparity = 0.00\n",
      "Client 2: accuracy loss: 16.02 | fairness loss 1.02 | Demographic disparity = 0.00\n",
      "Client 3: accuracy loss: 42.25 | fairness loss 1.45 | Demographic disparity = 0.00\n",
      " \n",
      "Avg Training Stats after 2 global rounds:\n",
      "Training loss: 44.29 | Validation accuracy: 89.41% | Validation Demographic disparity: 0.0000\n",
      "\n",
      " | Global Training Round : 3 |\n",
      "\n"
     ]
    },
    {
     "name": "stderr",
     "output_type": "stream",
     "text": [
      "\n",
      " 60%|██████    | 3/5 [01:03<00:43, 21.74s/it]\u001b[A"
     ]
    },
    {
     "name": "stdout",
     "output_type": "stream",
     "text": [
      "Client 1: accuracy loss: 48.03 | fairness loss 1.63 | Demographic disparity = 0.00\n",
      "Client 2: accuracy loss: 15.99 | fairness loss 1.08 | Demographic disparity = 0.00\n",
      "Client 3: accuracy loss: 42.16 | fairness loss 1.52 | Demographic disparity = 0.00\n",
      " \n",
      "Avg Training Stats after 3 global rounds:\n",
      "Training loss: 43.96 | Validation accuracy: 89.41% | Validation Demographic disparity: 0.0000\n",
      "\n",
      " | Global Training Round : 4 |\n",
      "\n"
     ]
    },
    {
     "name": "stderr",
     "output_type": "stream",
     "text": [
      "\n",
      " 80%|████████  | 4/5 [01:22<00:20, 20.89s/it]\u001b[A"
     ]
    },
    {
     "name": "stdout",
     "output_type": "stream",
     "text": [
      "Client 1: accuracy loss: 48.02 | fairness loss 1.65 | Demographic disparity = 0.00\n",
      "Client 2: accuracy loss: 15.98 | fairness loss 1.09 | Demographic disparity = 0.00\n",
      "Client 3: accuracy loss: 42.15 | fairness loss 1.54 | Demographic disparity = 0.00\n",
      " \n",
      "Avg Training Stats after 4 global rounds:\n",
      "Training loss: 43.79 | Validation accuracy: 89.41% | Validation Demographic disparity: 0.0000\n",
      "\n",
      " | Global Training Round : 5 |\n",
      "\n"
     ]
    },
    {
     "name": "stderr",
     "output_type": "stream",
     "text": [
      "\n",
      "100%|██████████| 5/5 [01:40<00:00, 20.06s/it]\u001b[A"
     ]
    },
    {
     "name": "stdout",
     "output_type": "stream",
     "text": [
      "Client 1: accuracy loss: 48.01 | fairness loss 1.66 | Demographic disparity = 0.00\n",
      "Client 2: accuracy loss: 15.98 | fairness loss 1.10 | Demographic disparity = 0.00\n",
      "Client 3: accuracy loss: 42.14 | fairness loss 1.54 | Demographic disparity = 0.00\n",
      " \n",
      "Avg Training Stats after 5 global rounds:\n",
      "Training loss: 43.69 | Validation accuracy: 89.41% | Validation Demographic disparity: 0.0000\n"
     ]
    },
    {
     "name": "stderr",
     "output_type": "stream",
     "text": [
      "\n"
     ]
    },
    {
     "name": "stdout",
     "output_type": "stream",
     "text": [
      " \n",
      " Results after 5 global rounds of training:\n",
      "|---- Avg Train Accuracy: 89.41%\n",
      "|---- Test Accuracy: 88.22%\n",
      "|---- Test Demographic disparity: 0.0000\n",
      "\n",
      " Total Run Time: 100.5850 sec\n"
     ]
    }
   ],
   "source": [
    "server = Server(logReg(num_features=bank_num_features, num_classes=2, seed = seed), bank_info, train_prn = False, seed = seed, Z = bank_z)\n",
    "server.LocalZafar(num_rounds = 5, local_epochs = 20, optimizer = 'adam', learning_rate = 0.001, penalty = 50)"
   ]
  },
  {
   "cell_type": "code",
   "execution_count": 10,
   "metadata": {
    "scrolled": true
   },
   "outputs": [
    {
     "name": "stderr",
     "output_type": "stream",
     "text": [
      "\n",
      "  0%|          | 0/3 [00:00<?, ?it/s]\u001b[A"
     ]
    },
    {
     "name": "stdout",
     "output_type": "stream",
     "text": [
      "\n",
      " | Testing Round : 1 | constraint :  Cov(z, d) < c\n",
      "\n"
     ]
    },
    {
     "name": "stderr",
     "output_type": "stream",
     "text": [
      "\n",
      " 33%|███▎      | 1/3 [00:20<00:41, 20.67s/it]\u001b[A"
     ]
    },
    {
     "name": "stdout",
     "output_type": "stream",
     "text": [
      "Client 1: accuracy loss: 94.12 | fairness loss 3539064.02 | Demographic disparity = 0.22\n",
      "Client 2: accuracy loss: 25.61 | fairness loss 3361874.53 | Demographic disparity = 0.11\n",
      "Client 3: accuracy loss: 92.76 | fairness loss 3521869.27 | Demographic disparity = 0.23\n",
      " \n",
      "Avg Training Stats after 1 Testing rounds:\n",
      "Training loss: -13575.63 | Validation accuracy: 86.42% | Validation Demographic disparity: 0.2010\n",
      "\n",
      " | Testing Round : 2 | constraint :  Cov(z, d) < c\n",
      "\n"
     ]
    },
    {
     "name": "stderr",
     "output_type": "stream",
     "text": [
      "\n",
      " 67%|██████▋   | 2/3 [00:40<00:20, 20.44s/it]\u001b[A"
     ]
    },
    {
     "name": "stdout",
     "output_type": "stream",
     "text": [
      "Client 1: accuracy loss: 151.66 | fairness loss 14414200.29 | Demographic disparity = 0.17\n",
      "Client 2: accuracy loss: 39.38 | fairness loss 13699830.45 | Demographic disparity = 0.09\n",
      "Client 3: accuracy loss: 151.36 | fairness loss 14346151.82 | Demographic disparity = 0.14\n",
      " \n",
      "Avg Training Stats after 2 Testing rounds:\n",
      "Training loss: -26133.88 | Validation accuracy: 87.60% | Validation Demographic disparity: 0.1464\n",
      "\n",
      " | Testing Round : 3 | constraint :  Cov(z, d) < c\n",
      "\n"
     ]
    },
    {
     "name": "stderr",
     "output_type": "stream",
     "text": [
      "\n",
      "100%|██████████| 3/3 [01:00<00:00, 20.12s/it]\u001b[A\n",
      "\n",
      "  0%|          | 0/3 [00:00<?, ?it/s]\u001b[A"
     ]
    },
    {
     "name": "stdout",
     "output_type": "stream",
     "text": [
      "Client 1: accuracy loss: 214.59 | fairness loss 32594189.71 | Demographic disparity = 0.12\n",
      "Client 2: accuracy loss: 54.92 | fairness loss 30984129.27 | Demographic disparity = 0.08\n",
      "Client 3: accuracy loss: 215.13 | fairness loss 32443089.45 | Demographic disparity = 0.11\n",
      " \n",
      "Avg Training Stats after 3 Testing rounds:\n",
      "Training loss: -38695.72 | Validation accuracy: 88.27% | Validation Demographic disparity: 0.1075\n",
      "\n",
      " | Testing Round : 1 | constraint :  Cov(z, d) > -c\n",
      "\n"
     ]
    },
    {
     "name": "stderr",
     "output_type": "stream",
     "text": [
      "\n",
      " 33%|███▎      | 1/3 [00:19<00:38, 19.14s/it]\u001b[A"
     ]
    },
    {
     "name": "stdout",
     "output_type": "stream",
     "text": [
      "Client 1: accuracy loss: 100.51 | fairness loss 3671011.75 | Demographic disparity = 0.14\n",
      "Client 2: accuracy loss: 35.37 | fairness loss 3500170.57 | Demographic disparity = 0.14\n",
      "Client 3: accuracy loss: 88.04 | fairness loss 3655093.20 | Demographic disparity = 0.16\n",
      " \n",
      "Avg Training Stats after 1 Testing rounds:\n",
      "Training loss: -32452.46 | Validation accuracy: 87.23% | Validation Demographic disparity: 0.1487\n",
      "\n",
      " | Testing Round : 2 | constraint :  Cov(z, d) > -c\n",
      "\n"
     ]
    },
    {
     "name": "stderr",
     "output_type": "stream",
     "text": [
      "\n",
      " 67%|██████▋   | 2/3 [00:44<00:20, 20.99s/it]\u001b[A"
     ]
    },
    {
     "name": "stdout",
     "output_type": "stream",
     "text": [
      "Client 1: accuracy loss: 171.97 | fairness loss 14751089.85 | Demographic disparity = 0.01\n",
      "Client 2: accuracy loss: 59.85 | fairness loss 14051273.86 | Demographic disparity = 0.00\n",
      "Client 3: accuracy loss: 151.55 | fairness loss 14682142.36 | Demographic disparity = 0.00\n",
      " \n",
      "Avg Training Stats after 2 Testing rounds:\n",
      "Training loss: -33727.23 | Validation accuracy: 89.60% | Validation Demographic disparity: 0.0055\n",
      "\n",
      " | Testing Round : 3 | constraint :  Cov(z, d) > -c\n",
      "\n"
     ]
    },
    {
     "name": "stderr",
     "output_type": "stream",
     "text": [
      "\n",
      "100%|██████████| 3/3 [01:11<00:00, 23.77s/it]\u001b[A\n",
      "\n",
      "  0%|          | 0/4 [00:00<?, ?it/s]\u001b[A"
     ]
    },
    {
     "name": "stdout",
     "output_type": "stream",
     "text": [
      "Client 1: accuracy loss: 253.75 | fairness loss 33160002.86 | Demographic disparity = 0.01\n",
      "Client 2: accuracy loss: 88.15 | fairness loss 31573354.36 | Demographic disparity = 0.01\n",
      "Client 3: accuracy loss: 225.06 | fairness loss 33000038.00 | Demographic disparity = 0.00\n",
      " \n",
      "Avg Training Stats after 3 Testing rounds:\n",
      "Training loss: -38762.18 | Validation accuracy: 89.45% | Validation Demographic disparity: 0.0055\n",
      "\n",
      " | Global Round : 1 | constraint :  Cov(z, d) > -c\n",
      "\n"
     ]
    },
    {
     "name": "stderr",
     "output_type": "stream",
     "text": [
      "\n",
      " 25%|██▌       | 1/4 [00:19<00:58, 19.47s/it]\u001b[A"
     ]
    },
    {
     "name": "stdout",
     "output_type": "stream",
     "text": [
      "Client 1: accuracy loss: 269.59 | fairness loss 37715494.76 | Demographic disparity = 0.01\n",
      "Client 2: accuracy loss: 93.69 | fairness loss 35908166.18 | Demographic disparity = 0.01\n",
      "Client 3: accuracy loss: 240.30 | fairness loss 37532766.73 | Demographic disparity = 0.00\n",
      " \n",
      "Avg Training Stats after 1 global rounds:\n",
      "Training loss: -42141.08 | Validation accuracy: 89.45% | Validation Demographic disparity: 0.0055\n",
      "\n",
      " | Global Round : 2 | constraint :  Cov(z, d) > -c\n",
      "\n"
     ]
    },
    {
     "name": "stderr",
     "output_type": "stream",
     "text": [
      "\n",
      " 50%|█████     | 2/4 [00:46<00:43, 21.61s/it]\u001b[A"
     ]
    },
    {
     "name": "stdout",
     "output_type": "stream",
     "text": [
      "Client 1: accuracy loss: 285.54 | fairness loss 42572941.42 | Demographic disparity = 0.01\n",
      "Client 2: accuracy loss: 99.23 | fairness loss 40530491.64 | Demographic disparity = 0.01\n",
      "Client 3: accuracy loss: 254.63 | fairness loss 42366284.73 | Demographic disparity = 0.00\n",
      " \n",
      "Avg Training Stats after 2 global rounds:\n",
      "Training loss: -45176.96 | Validation accuracy: 89.45% | Validation Demographic disparity: 0.0055\n",
      "\n",
      " | Global Round : 3 | constraint :  Cov(z, d) > -c\n",
      "\n"
     ]
    },
    {
     "name": "stderr",
     "output_type": "stream",
     "text": [
      "\n",
      " 75%|███████▌  | 3/4 [01:10<00:22, 22.41s/it]\u001b[A"
     ]
    },
    {
     "name": "stdout",
     "output_type": "stream",
     "text": [
      "Client 1: accuracy loss: 301.65 | fairness loss 47723782.12 | Demographic disparity = 0.01\n",
      "Client 2: accuracy loss: 104.81 | fairness loss 45431809.27 | Demographic disparity = 0.01\n",
      "Client 3: accuracy loss: 269.05 | fairness loss 47491682.55 | Demographic disparity = 0.00\n",
      " \n",
      "Avg Training Stats after 3 global rounds:\n",
      "Training loss: -47984.16 | Validation accuracy: 89.47% | Validation Demographic disparity: 0.0054\n",
      "\n",
      " | Global Round : 4 | constraint :  Cov(z, d) > -c\n",
      "\n"
     ]
    },
    {
     "name": "stderr",
     "output_type": "stream",
     "text": [
      "\n",
      "100%|██████████| 4/4 [01:34<00:00, 23.64s/it]\u001b[A"
     ]
    },
    {
     "name": "stdout",
     "output_type": "stream",
     "text": [
      "Client 1: accuracy loss: 317.88 | fairness loss 53167748.45 | Demographic disparity = 0.01\n",
      "Client 2: accuracy loss: 110.44 | fairness loss 50611900.55 | Demographic disparity = 0.01\n",
      "Client 3: accuracy loss: 283.59 | fairness loss 52908662.91 | Demographic disparity = 0.00\n",
      " \n",
      "Avg Training Stats after 4 global rounds:\n",
      "Training loss: -50631.28 | Validation accuracy: 89.45% | Validation Demographic disparity: 0.0056\n"
     ]
    },
    {
     "name": "stderr",
     "output_type": "stream",
     "text": [
      "\n"
     ]
    },
    {
     "name": "stdout",
     "output_type": "stream",
     "text": [
      " \n",
      " Results after 4 global rounds of training:\n",
      "|---- Avg Train Accuracy: 89.45%\n",
      "|---- Test Accuracy: 88.13%\n",
      "|---- Test Demographic disparity: 0.0048\n",
      "\n",
      " Total Run Time: 226.4847 sec\n"
     ]
    }
   ],
   "source": [
    "server = Server(logReg(num_features=bank_num_features, num_classes=2, seed = seed), bank_info, train_prn = False, seed = seed, Z = bank_z)\n",
    "server.Zafar(test_rounds = 3, test_lr = 0.01, test_penalty = 500, num_rounds = 4, local_epochs = 20, optimizer = 'adam', learning_rate = 0.002, penalty = 400)\n"
   ]
  },
  {
   "cell_type": "code",
   "execution_count": 11,
   "metadata": {
    "scrolled": true
   },
   "outputs": [
    {
     "name": "stderr",
     "output_type": "stream",
     "text": [
      "\n",
      "  0%|          | 0/10 [00:00<?, ?it/s]\u001b[A"
     ]
    },
    {
     "name": "stdout",
     "output_type": "stream",
     "text": [
      "\n",
      " | Global Training Round : 1 |\n",
      "\n"
     ]
    },
    {
     "name": "stderr",
     "output_type": "stream",
     "text": [
      "\n",
      " 10%|█         | 1/10 [00:25<03:49, 25.49s/it]\u001b[A"
     ]
    },
    {
     "name": "stdout",
     "output_type": "stream",
     "text": [
      "Client 1: predictor loss: 36.19 | adversary loss 1.53 | Demographic disparity = 0.02\n",
      "Client 2: predictor loss: 12.20 | adversary loss 1.55 | Demographic disparity = 0.02\n",
      "Client 3: predictor loss: 32.79 | adversary loss 1.50 | Demographic disparity = 0.03\n",
      " \n",
      "Avg Training Stats after 1 global rounds:\n",
      "Training loss: 0.27 | Validation accuracy: 90.55% | Validation Demographic disparity: 0.0227\n",
      "\n",
      " | Global Training Round : 2 |\n",
      "\n"
     ]
    },
    {
     "name": "stderr",
     "output_type": "stream",
     "text": [
      "\n",
      " 20%|██        | 2/10 [00:53<03:29, 26.18s/it]\u001b[A"
     ]
    },
    {
     "name": "stdout",
     "output_type": "stream",
     "text": [
      "Client 1: predictor loss: 36.70 | adversary loss 1.55 | Demographic disparity = 0.02\n",
      "Client 2: predictor loss: 14.02 | adversary loss 1.53 | Demographic disparity = 0.02\n",
      "Client 3: predictor loss: 35.23 | adversary loss 1.53 | Demographic disparity = 0.02\n",
      " \n",
      "Avg Training Stats after 2 global rounds:\n",
      "Training loss: 0.28 | Validation accuracy: 90.77% | Validation Demographic disparity: 0.0172\n",
      "\n",
      " | Global Training Round : 3 |\n",
      "\n"
     ]
    },
    {
     "name": "stderr",
     "output_type": "stream",
     "text": [
      "\n",
      " 30%|███       | 3/10 [01:20<03:05, 26.54s/it]\u001b[A"
     ]
    },
    {
     "name": "stdout",
     "output_type": "stream",
     "text": [
      "Client 1: predictor loss: 37.96 | adversary loss 1.60 | Demographic disparity = 0.02\n",
      "Client 2: predictor loss: 14.32 | adversary loss 1.59 | Demographic disparity = 0.03\n",
      "Client 3: predictor loss: 34.88 | adversary loss 1.58 | Demographic disparity = 0.03\n",
      " \n",
      "Avg Training Stats after 3 global rounds:\n",
      "Training loss: 0.29 | Validation accuracy: 90.87% | Validation Demographic disparity: 0.0234\n",
      "\n",
      " | Global Training Round : 4 |\n",
      "\n"
     ]
    },
    {
     "name": "stderr",
     "output_type": "stream",
     "text": [
      "\n",
      " 40%|████      | 4/10 [01:44<02:35, 25.86s/it]\u001b[A"
     ]
    },
    {
     "name": "stdout",
     "output_type": "stream",
     "text": [
      "Client 1: predictor loss: 36.90 | adversary loss 1.60 | Demographic disparity = 0.03\n",
      "Client 2: predictor loss: 13.68 | adversary loss 1.60 | Demographic disparity = 0.02\n",
      "Client 3: predictor loss: 34.78 | adversary loss 1.58 | Demographic disparity = 0.02\n",
      " \n",
      "Avg Training Stats after 4 global rounds:\n",
      "Training loss: 0.29 | Validation accuracy: 90.91% | Validation Demographic disparity: 0.0209\n",
      "\n",
      " | Global Training Round : 5 |\n",
      "\n"
     ]
    },
    {
     "name": "stderr",
     "output_type": "stream",
     "text": [
      "\n",
      " 50%|█████     | 5/10 [02:09<02:07, 25.40s/it]\u001b[A"
     ]
    },
    {
     "name": "stdout",
     "output_type": "stream",
     "text": [
      "Client 1: predictor loss: 36.81 | adversary loss 1.60 | Demographic disparity = 0.01\n",
      "Client 2: predictor loss: 12.75 | adversary loss 1.59 | Demographic disparity = 0.03\n",
      "Client 3: predictor loss: 33.60 | adversary loss 1.58 | Demographic disparity = 0.02\n",
      " \n",
      "Avg Training Stats after 5 global rounds:\n",
      "Training loss: 0.28 | Validation accuracy: 90.81% | Validation Demographic disparity: 0.0132\n",
      "\n",
      " | Global Training Round : 6 |\n",
      "\n"
     ]
    },
    {
     "name": "stderr",
     "output_type": "stream",
     "text": [
      "\n",
      " 60%|██████    | 6/10 [02:37<01:44, 26.19s/it]\u001b[A"
     ]
    },
    {
     "name": "stdout",
     "output_type": "stream",
     "text": [
      "Client 1: predictor loss: 36.57 | adversary loss 1.60 | Demographic disparity = 0.01\n",
      "Client 2: predictor loss: 12.64 | adversary loss 1.59 | Demographic disparity = 0.03\n",
      "Client 3: predictor loss: 33.48 | adversary loss 1.58 | Demographic disparity = 0.02\n",
      " \n",
      "Avg Training Stats after 6 global rounds:\n",
      "Training loss: 0.28 | Validation accuracy: 90.75% | Validation Demographic disparity: 0.0151\n",
      "\n",
      " | Global Training Round : 7 |\n",
      "\n"
     ]
    },
    {
     "name": "stderr",
     "output_type": "stream",
     "text": [
      "\n",
      " 70%|███████   | 7/10 [03:08<01:23, 27.79s/it]\u001b[A"
     ]
    },
    {
     "name": "stdout",
     "output_type": "stream",
     "text": [
      "Client 1: predictor loss: 36.60 | adversary loss 1.60 | Demographic disparity = 0.02\n",
      "Client 2: predictor loss: 12.96 | adversary loss 1.59 | Demographic disparity = 0.03\n",
      "Client 3: predictor loss: 33.62 | adversary loss 1.58 | Demographic disparity = 0.02\n",
      " \n",
      "Avg Training Stats after 7 global rounds:\n",
      "Training loss: 0.28 | Validation accuracy: 90.90% | Validation Demographic disparity: 0.0140\n",
      "\n",
      " | Global Training Round : 8 |\n",
      "\n"
     ]
    },
    {
     "name": "stderr",
     "output_type": "stream",
     "text": [
      "\n",
      " 80%|████████  | 8/10 [03:36<00:55, 27.69s/it]\u001b[A"
     ]
    },
    {
     "name": "stdout",
     "output_type": "stream",
     "text": [
      "Client 1: predictor loss: 36.21 | adversary loss 1.60 | Demographic disparity = 0.02\n",
      "Client 2: predictor loss: 12.55 | adversary loss 1.59 | Demographic disparity = 0.02\n",
      "Client 3: predictor loss: 33.51 | adversary loss 1.58 | Demographic disparity = 0.02\n",
      " \n",
      "Avg Training Stats after 8 global rounds:\n",
      "Training loss: 0.27 | Validation accuracy: 90.89% | Validation Demographic disparity: 0.0154\n",
      "\n",
      " | Global Training Round : 9 |\n",
      "\n"
     ]
    },
    {
     "name": "stderr",
     "output_type": "stream",
     "text": [
      "\n",
      " 90%|█████████ | 9/10 [04:05<00:28, 28.21s/it]\u001b[A"
     ]
    },
    {
     "name": "stdout",
     "output_type": "stream",
     "text": [
      "Client 1: predictor loss: 36.36 | adversary loss 1.60 | Demographic disparity = 0.02\n",
      "Client 2: predictor loss: 12.50 | adversary loss 1.59 | Demographic disparity = 0.02\n",
      "Client 3: predictor loss: 33.43 | adversary loss 1.58 | Demographic disparity = 0.02\n",
      " \n",
      "Avg Training Stats after 9 global rounds:\n",
      "Training loss: 0.27 | Validation accuracy: 90.87% | Validation Demographic disparity: 0.0142\n",
      "\n",
      " | Global Training Round : 10 |\n",
      "\n"
     ]
    },
    {
     "name": "stderr",
     "output_type": "stream",
     "text": [
      "\n",
      "100%|██████████| 10/10 [04:38<00:00, 27.85s/it]\u001b[A"
     ]
    },
    {
     "name": "stdout",
     "output_type": "stream",
     "text": [
      "Client 1: predictor loss: 36.44 | adversary loss 1.60 | Demographic disparity = 0.01\n",
      "Client 2: predictor loss: 12.56 | adversary loss 1.59 | Demographic disparity = 0.02\n",
      "Client 3: predictor loss: 33.45 | adversary loss 1.58 | Demographic disparity = 0.02\n",
      " \n",
      "Avg Training Stats after 10 global rounds:\n",
      "Training loss: 0.27 | Validation accuracy: 90.87% | Validation Demographic disparity: 0.0148\n"
     ]
    },
    {
     "name": "stderr",
     "output_type": "stream",
     "text": [
      "\n"
     ]
    },
    {
     "name": "stdout",
     "output_type": "stream",
     "text": [
      " \n",
      " Results after 10 global rounds of training:\n",
      "|---- Avg Train Accuracy: 90.87%\n",
      "|---- Test Accuracy: 89.94%\n",
      "|---- Test Demographic disparity: 0.0113\n",
      "\n",
      " Total Run Time: 278.8640 sec\n"
     ]
    }
   ],
   "source": [
    "server = Server(logReg(num_features=bank_num_features, num_classes=2, seed = seed), bank_info, train_prn = False, metric = \"Demographic disparity\", seed = seed, Z = bank_z)\n",
    "server.FTrain(num_rounds = 10, local_epochs = 30, init_epochs = 50, lr_g = 0.005, lr_d = 0.01, lambda_d = 0.9)"
   ]
  },
  {
   "cell_type": "code",
   "execution_count": 12,
   "metadata": {
    "scrolled": true
   },
   "outputs": [
    {
     "name": "stderr",
     "output_type": "stream",
     "text": [
      "\n",
      "  0%|          | 0/10 [00:00<?, ?it/s]\u001b[A"
     ]
    },
    {
     "name": "stdout",
     "output_type": "stream",
     "text": [
      "\n",
      " | Global Training Round : 1 |\n",
      "\n"
     ]
    },
    {
     "name": "stderr",
     "output_type": "stream",
     "text": [
      "\n",
      " 10%|█         | 1/10 [00:33<04:59, 33.33s/it]\u001b[A"
     ]
    },
    {
     "name": "stdout",
     "output_type": "stream",
     "text": [
      "Client 1: predictor loss: 35.97 | adversary loss 1.53 | Demographic disparity = 0.02\n",
      "Client 2: predictor loss: 12.08 | adversary loss 1.55 | Demographic disparity = 0.02\n",
      "Client 3: predictor loss: 32.52 | adversary loss 1.50 | Demographic disparity = 0.03\n",
      " \n",
      "Avg Training Stats after 1 global rounds:\n",
      "Training loss: 0.27 | Validation accuracy: 90.52% | Validation Demographic disparity: 0.0217\n",
      "\n",
      " | Global Training Round : 2 |\n",
      "\n"
     ]
    },
    {
     "name": "stderr",
     "output_type": "stream",
     "text": [
      "\n",
      " 20%|██        | 2/10 [01:04<04:22, 32.77s/it]\u001b[A"
     ]
    },
    {
     "name": "stdout",
     "output_type": "stream",
     "text": [
      "Client 1: predictor loss: 38.29 | adversary loss 1.53 | Demographic disparity = 0.02\n",
      "Client 2: predictor loss: 15.30 | adversary loss 1.52 | Demographic disparity = 0.02\n",
      "Client 3: predictor loss: 37.48 | adversary loss 1.52 | Demographic disparity = 0.02\n",
      " \n",
      "Avg Training Stats after 2 global rounds:\n",
      "Training loss: 0.28 | Validation accuracy: 90.78% | Validation Demographic disparity: 0.0191\n",
      "\n",
      " | Global Training Round : 3 |\n",
      "\n"
     ]
    },
    {
     "name": "stderr",
     "output_type": "stream",
     "text": [
      "\n",
      " 30%|███       | 3/10 [01:38<03:51, 33.10s/it]\u001b[A"
     ]
    },
    {
     "name": "stdout",
     "output_type": "stream",
     "text": [
      "Client 1: predictor loss: 37.18 | adversary loss 1.60 | Demographic disparity = 0.02\n",
      "Client 2: predictor loss: 14.55 | adversary loss 1.60 | Demographic disparity = 0.02\n",
      "Client 3: predictor loss: 35.57 | adversary loss 1.59 | Demographic disparity = 0.02\n",
      " \n",
      "Avg Training Stats after 3 global rounds:\n",
      "Training loss: 0.29 | Validation accuracy: 91.13% | Validation Demographic disparity: 0.0156\n",
      "\n",
      " | Global Training Round : 4 |\n",
      "\n"
     ]
    },
    {
     "name": "stderr",
     "output_type": "stream",
     "text": [
      "\n",
      " 40%|████      | 4/10 [02:10<03:17, 32.85s/it]\u001b[A"
     ]
    },
    {
     "name": "stdout",
     "output_type": "stream",
     "text": [
      "Client 1: predictor loss: 37.52 | adversary loss 1.60 | Demographic disparity = 0.02\n",
      "Client 2: predictor loss: 13.94 | adversary loss 1.60 | Demographic disparity = 0.03\n",
      "Client 3: predictor loss: 34.85 | adversary loss 1.58 | Demographic disparity = 0.02\n",
      " \n",
      "Avg Training Stats after 4 global rounds:\n",
      "Training loss: 0.29 | Validation accuracy: 90.79% | Validation Demographic disparity: 0.0192\n",
      "\n",
      " | Global Training Round : 5 |\n",
      "\n"
     ]
    },
    {
     "name": "stderr",
     "output_type": "stream",
     "text": [
      "\n",
      " 50%|█████     | 5/10 [02:40<02:39, 31.93s/it]\u001b[A"
     ]
    },
    {
     "name": "stdout",
     "output_type": "stream",
     "text": [
      "Client 1: predictor loss: 36.88 | adversary loss 1.60 | Demographic disparity = 0.02\n",
      "Client 2: predictor loss: 12.78 | adversary loss 1.59 | Demographic disparity = 0.03\n",
      "Client 3: predictor loss: 33.64 | adversary loss 1.58 | Demographic disparity = 0.02\n",
      " \n",
      "Avg Training Stats after 5 global rounds:\n",
      "Training loss: 0.29 | Validation accuracy: 90.72% | Validation Demographic disparity: 0.0132\n",
      "\n",
      " | Global Training Round : 6 |\n",
      "\n"
     ]
    },
    {
     "name": "stderr",
     "output_type": "stream",
     "text": [
      "\n",
      " 60%|██████    | 6/10 [03:07<02:01, 30.28s/it]\u001b[A"
     ]
    },
    {
     "name": "stdout",
     "output_type": "stream",
     "text": [
      "Client 1: predictor loss: 37.54 | adversary loss 1.60 | Demographic disparity = 0.02\n",
      "Client 2: predictor loss: 13.91 | adversary loss 1.59 | Demographic disparity = 0.04\n",
      "Client 3: predictor loss: 34.62 | adversary loss 1.58 | Demographic disparity = 0.03\n",
      " \n",
      "Avg Training Stats after 6 global rounds:\n",
      "Training loss: 0.28 | Validation accuracy: 90.88% | Validation Demographic disparity: 0.0298\n",
      "\n",
      " | Global Training Round : 7 |\n",
      "\n"
     ]
    },
    {
     "name": "stderr",
     "output_type": "stream",
     "text": [
      "\n",
      " 70%|███████   | 7/10 [03:37<01:30, 30.27s/it]\u001b[A"
     ]
    },
    {
     "name": "stdout",
     "output_type": "stream",
     "text": [
      "Client 1: predictor loss: 37.32 | adversary loss 1.60 | Demographic disparity = 0.01\n",
      "Client 2: predictor loss: 13.05 | adversary loss 1.59 | Demographic disparity = 0.04\n",
      "Client 3: predictor loss: 33.95 | adversary loss 1.58 | Demographic disparity = 0.02\n",
      " \n",
      "Avg Training Stats after 7 global rounds:\n",
      "Training loss: 0.28 | Validation accuracy: 90.85% | Validation Demographic disparity: 0.0171\n",
      "\n",
      " | Global Training Round : 8 |\n",
      "\n"
     ]
    },
    {
     "name": "stderr",
     "output_type": "stream",
     "text": [
      "\n",
      " 80%|████████  | 8/10 [04:02<00:57, 28.77s/it]\u001b[A"
     ]
    },
    {
     "name": "stdout",
     "output_type": "stream",
     "text": [
      "Client 1: predictor loss: 36.41 | adversary loss 1.60 | Demographic disparity = 0.01\n",
      "Client 2: predictor loss: 12.70 | adversary loss 1.59 | Demographic disparity = 0.03\n",
      "Client 3: predictor loss: 33.51 | adversary loss 1.58 | Demographic disparity = 0.02\n",
      " \n",
      "Avg Training Stats after 8 global rounds:\n",
      "Training loss: 0.28 | Validation accuracy: 90.74% | Validation Demographic disparity: 0.0138\n",
      "\n",
      " | Global Training Round : 9 |\n",
      "\n"
     ]
    },
    {
     "name": "stderr",
     "output_type": "stream",
     "text": [
      "\n",
      " 90%|█████████ | 9/10 [04:30<00:28, 28.63s/it]\u001b[A"
     ]
    },
    {
     "name": "stdout",
     "output_type": "stream",
     "text": [
      "Client 1: predictor loss: 36.58 | adversary loss 1.60 | Demographic disparity = 0.01\n",
      "Client 2: predictor loss: 12.74 | adversary loss 1.59 | Demographic disparity = 0.03\n",
      "Client 3: predictor loss: 33.47 | adversary loss 1.58 | Demographic disparity = 0.02\n",
      " \n",
      "Avg Training Stats after 9 global rounds:\n",
      "Training loss: 0.28 | Validation accuracy: 90.76% | Validation Demographic disparity: 0.0142\n",
      "\n",
      " | Global Training Round : 10 |\n",
      "\n"
     ]
    },
    {
     "name": "stderr",
     "output_type": "stream",
     "text": [
      "\n",
      "100%|██████████| 10/10 [04:54<00:00, 29.49s/it]\u001b[A"
     ]
    },
    {
     "name": "stdout",
     "output_type": "stream",
     "text": [
      "Client 1: predictor loss: 36.13 | adversary loss 1.60 | Demographic disparity = 0.02\n",
      "Client 2: predictor loss: 12.51 | adversary loss 1.59 | Demographic disparity = 0.02\n",
      "Client 3: predictor loss: 33.46 | adversary loss 1.58 | Demographic disparity = 0.02\n",
      " \n",
      "Avg Training Stats after 10 global rounds:\n",
      "Training loss: 0.27 | Validation accuracy: 90.80% | Validation Demographic disparity: 0.0163\n"
     ]
    },
    {
     "name": "stderr",
     "output_type": "stream",
     "text": [
      "\n"
     ]
    },
    {
     "name": "stdout",
     "output_type": "stream",
     "text": [
      " \n",
      " Results after 10 global rounds of training:\n",
      "|---- Avg Train Accuracy: 90.80%\n",
      "|---- Test Accuracy: 89.97%\n",
      "|---- Test Demographic disparity: 0.0125\n",
      "\n",
      " Total Run Time: 295.1567 sec\n"
     ]
    }
   ],
   "source": [
    "server = Server(logReg(num_features=bank_num_features, num_classes=2, seed = seed), bank_info, train_prn = False, metric = \"Demographic disparity\", seed = seed, Z = bank_z)\n",
    "server.FTrain(num_rounds = 10, local_epochs = 30, init_epochs = 50, lr_g = 0.006, lr_d = 0.01, lambda_d = 0.9)"
   ]
  },
  {
   "cell_type": "code",
   "execution_count": 16,
   "metadata": {
    "scrolled": true
   },
   "outputs": [
    {
     "name": "stderr",
     "output_type": "stream",
     "text": [
      "\n",
      "  0%|          | 0/10 [00:00<?, ?it/s]\u001b[A"
     ]
    },
    {
     "name": "stdout",
     "output_type": "stream",
     "text": [
      "\n",
      " | Global Training Round : 1 |\n",
      "\n"
     ]
    },
    {
     "name": "stderr",
     "output_type": "stream",
     "text": [
      "\n",
      " 10%|█         | 1/10 [00:32<04:51, 32.39s/it]\u001b[A"
     ]
    },
    {
     "name": "stdout",
     "output_type": "stream",
     "text": [
      "Client 1: predictor loss: 36.19 | adversary loss 1.54 | Demographic disparity = 0.02\n",
      "Client 2: predictor loss: 12.20 | adversary loss 1.56 | Demographic disparity = 0.02\n",
      "Client 3: predictor loss: 32.79 | adversary loss 1.51 | Demographic disparity = 0.03\n",
      " \n",
      "Avg Training Stats after 1 global rounds:\n",
      "Training loss: 0.27 | Validation accuracy: 90.55% | Validation Demographic disparity: 0.0227\n",
      "\n",
      " | Global Training Round : 2 |\n",
      "\n"
     ]
    },
    {
     "name": "stderr",
     "output_type": "stream",
     "text": [
      "\n",
      " 20%|██        | 2/10 [01:04<04:19, 32.44s/it]\u001b[A"
     ]
    },
    {
     "name": "stdout",
     "output_type": "stream",
     "text": [
      "Client 1: predictor loss: 35.69 | adversary loss 1.63 | Demographic disparity = 0.02\n",
      "Client 2: predictor loss: 12.20 | adversary loss 1.63 | Demographic disparity = 0.02\n",
      "Client 3: predictor loss: 32.93 | adversary loss 1.59 | Demographic disparity = 0.02\n",
      " \n",
      "Avg Training Stats after 2 global rounds:\n",
      "Training loss: 0.27 | Validation accuracy: 90.67% | Validation Demographic disparity: 0.0171\n",
      "\n",
      " | Global Training Round : 3 |\n",
      "\n"
     ]
    },
    {
     "name": "stderr",
     "output_type": "stream",
     "text": [
      "\n",
      " 30%|███       | 3/10 [01:34<03:41, 31.59s/it]\u001b[A"
     ]
    },
    {
     "name": "stdout",
     "output_type": "stream",
     "text": [
      "Client 1: predictor loss: 36.62 | adversary loss 1.60 | Demographic disparity = 0.02\n",
      "Client 2: predictor loss: 13.08 | adversary loss 1.59 | Demographic disparity = 0.02\n",
      "Client 3: predictor loss: 34.03 | adversary loss 1.58 | Demographic disparity = 0.02\n",
      " \n",
      "Avg Training Stats after 3 global rounds:\n",
      "Training loss: 0.27 | Validation accuracy: 90.96% | Validation Demographic disparity: 0.0165\n",
      "\n",
      " | Global Training Round : 4 |\n",
      "\n"
     ]
    },
    {
     "name": "stderr",
     "output_type": "stream",
     "text": [
      "\n",
      " 40%|████      | 4/10 [02:09<03:15, 32.61s/it]\u001b[A"
     ]
    },
    {
     "name": "stdout",
     "output_type": "stream",
     "text": [
      "Client 1: predictor loss: 42.98 | adversary loss 1.60 | Demographic disparity = 0.05\n",
      "Client 2: predictor loss: 17.56 | adversary loss 1.59 | Demographic disparity = 0.03\n",
      "Client 3: predictor loss: 40.29 | adversary loss 1.57 | Demographic disparity = 0.06\n",
      " \n",
      "Avg Training Stats after 4 global rounds:\n",
      "Training loss: 0.27 | Validation accuracy: 90.47% | Validation Demographic disparity: 0.0549\n",
      "\n",
      " | Global Training Round : 5 |\n",
      "\n"
     ]
    },
    {
     "name": "stderr",
     "output_type": "stream",
     "text": [
      "\n",
      " 50%|█████     | 5/10 [02:36<02:33, 30.77s/it]\u001b[A"
     ]
    },
    {
     "name": "stdout",
     "output_type": "stream",
     "text": [
      "Client 1: predictor loss: 36.83 | adversary loss 1.60 | Demographic disparity = 0.02\n",
      "Client 2: predictor loss: 13.53 | adversary loss 1.59 | Demographic disparity = 0.03\n",
      "Client 3: predictor loss: 33.92 | adversary loss 1.58 | Demographic disparity = 0.03\n",
      " \n",
      "Avg Training Stats after 5 global rounds:\n",
      "Training loss: 0.27 | Validation accuracy: 91.05% | Validation Demographic disparity: 0.0184\n",
      "\n",
      " | Global Training Round : 6 |\n",
      "\n"
     ]
    },
    {
     "name": "stderr",
     "output_type": "stream",
     "text": [
      "\n",
      " 60%|██████    | 6/10 [03:11<02:09, 32.30s/it]\u001b[A"
     ]
    },
    {
     "name": "stdout",
     "output_type": "stream",
     "text": [
      "Client 1: predictor loss: 36.19 | adversary loss 1.60 | Demographic disparity = 0.01\n",
      "Client 2: predictor loss: 12.50 | adversary loss 1.59 | Demographic disparity = 0.02\n",
      "Client 3: predictor loss: 33.07 | adversary loss 1.59 | Demographic disparity = 0.02\n",
      " \n",
      "Avg Training Stats after 6 global rounds:\n",
      "Training loss: 0.27 | Validation accuracy: 91.05% | Validation Demographic disparity: 0.0160\n",
      "\n",
      " | Global Training Round : 7 |\n",
      "\n"
     ]
    },
    {
     "name": "stderr",
     "output_type": "stream",
     "text": [
      "\n",
      " 70%|███████   | 7/10 [03:40<01:33, 31.23s/it]\u001b[A"
     ]
    },
    {
     "name": "stdout",
     "output_type": "stream",
     "text": [
      "Client 1: predictor loss: 36.12 | adversary loss 1.60 | Demographic disparity = 0.02\n",
      "Client 2: predictor loss: 12.44 | adversary loss 1.59 | Demographic disparity = 0.02\n",
      "Client 3: predictor loss: 33.12 | adversary loss 1.58 | Demographic disparity = 0.02\n",
      " \n",
      "Avg Training Stats after 7 global rounds:\n",
      "Training loss: 0.26 | Validation accuracy: 90.73% | Validation Demographic disparity: 0.0141\n",
      "\n",
      " | Global Training Round : 8 |\n",
      "\n"
     ]
    },
    {
     "name": "stderr",
     "output_type": "stream",
     "text": [
      "\n",
      " 80%|████████  | 8/10 [04:09<01:01, 30.51s/it]\u001b[A"
     ]
    },
    {
     "name": "stdout",
     "output_type": "stream",
     "text": [
      "Client 1: predictor loss: 36.13 | adversary loss 1.60 | Demographic disparity = 0.01\n",
      "Client 2: predictor loss: 12.53 | adversary loss 1.59 | Demographic disparity = 0.02\n",
      "Client 3: predictor loss: 33.11 | adversary loss 1.58 | Demographic disparity = 0.02\n",
      " \n",
      "Avg Training Stats after 8 global rounds:\n",
      "Training loss: 0.26 | Validation accuracy: 90.72% | Validation Demographic disparity: 0.0150\n",
      "\n",
      " | Global Training Round : 9 |\n",
      "\n"
     ]
    },
    {
     "name": "stderr",
     "output_type": "stream",
     "text": [
      "\n",
      " 90%|█████████ | 9/10 [04:42<00:31, 31.25s/it]\u001b[A"
     ]
    },
    {
     "name": "stdout",
     "output_type": "stream",
     "text": [
      "Client 1: predictor loss: 38.30 | adversary loss 1.59 | Demographic disparity = 0.04\n",
      "Client 2: predictor loss: 14.62 | adversary loss 1.59 | Demographic disparity = 0.04\n",
      "Client 3: predictor loss: 35.41 | adversary loss 1.56 | Demographic disparity = 0.05\n",
      " \n",
      "Avg Training Stats after 9 global rounds:\n",
      "Training loss: 0.26 | Validation accuracy: 90.73% | Validation Demographic disparity: 0.0443\n",
      "\n",
      " | Global Training Round : 10 |\n",
      "\n"
     ]
    },
    {
     "name": "stderr",
     "output_type": "stream",
     "text": [
      "\n",
      "100%|██████████| 10/10 [05:15<00:00, 31.52s/it]\u001b[A"
     ]
    },
    {
     "name": "stdout",
     "output_type": "stream",
     "text": [
      "Client 1: predictor loss: 36.09 | adversary loss 1.60 | Demographic disparity = 0.01\n",
      "Client 2: predictor loss: 12.46 | adversary loss 1.59 | Demographic disparity = 0.02\n",
      "Client 3: predictor loss: 33.04 | adversary loss 1.58 | Demographic disparity = 0.02\n",
      " \n",
      "Avg Training Stats after 10 global rounds:\n",
      "Training loss: 0.26 | Validation accuracy: 90.83% | Validation Demographic disparity: 0.0155\n"
     ]
    },
    {
     "name": "stderr",
     "output_type": "stream",
     "text": [
      "\n"
     ]
    },
    {
     "name": "stdout",
     "output_type": "stream",
     "text": [
      " \n",
      " Results after 10 global rounds of training:\n",
      "|---- Avg Train Accuracy: 90.83%\n",
      "|---- Test Accuracy: 90.05%\n",
      "|---- Test Demographic disparity: 0.0143\n",
      "\n",
      " Total Run Time: 315.6299 sec\n"
     ]
    }
   ],
   "source": [
    "server = Server(logReg(num_features=bank_num_features, num_classes=2, seed = seed), bank_info, train_prn = False, metric = \"Demographic disparity\", seed = seed, Z = bank_z)\n",
    "server.FTrain(num_rounds = 10, local_epochs = 30, init_epochs = 50, lr_g = 0.005, lr_d = 0.008, lambda_d = 0.8)"
   ]
  },
  {
   "cell_type": "code",
   "execution_count": 17,
   "metadata": {
    "scrolled": true
   },
   "outputs": [
    {
     "name": "stderr",
     "output_type": "stream",
     "text": [
      "\n",
      "  0%|          | 0/10 [00:00<?, ?it/s]\u001b[A"
     ]
    },
    {
     "name": "stdout",
     "output_type": "stream",
     "text": [
      "\n",
      " | Global Training Round : 1 |\n",
      "\n"
     ]
    },
    {
     "name": "stderr",
     "output_type": "stream",
     "text": [
      "\n",
      " 10%|█         | 1/10 [00:30<04:34, 30.53s/it]\u001b[A"
     ]
    },
    {
     "name": "stdout",
     "output_type": "stream",
     "text": [
      "Client 1: predictor loss: 36.19 | adversary loss 1.51 | Demographic disparity = 0.02\n",
      "Client 2: predictor loss: 12.20 | adversary loss 1.54 | Demographic disparity = 0.02\n",
      "Client 3: predictor loss: 32.79 | adversary loss 1.47 | Demographic disparity = 0.03\n",
      " \n",
      "Avg Training Stats after 1 global rounds:\n",
      "Training loss: 0.27 | Validation accuracy: 90.55% | Validation Demographic disparity: 0.0227\n",
      "\n",
      " | Global Training Round : 2 |\n",
      "\n"
     ]
    },
    {
     "name": "stderr",
     "output_type": "stream",
     "text": [
      "\n",
      " 20%|██        | 2/10 [01:04<04:12, 31.50s/it]\u001b[A"
     ]
    },
    {
     "name": "stdout",
     "output_type": "stream",
     "text": [
      "Client 1: predictor loss: 36.71 | adversary loss 1.52 | Demographic disparity = 0.04\n",
      "Client 2: predictor loss: 13.50 | adversary loss 1.51 | Demographic disparity = 0.02\n",
      "Client 3: predictor loss: 34.92 | adversary loss 1.51 | Demographic disparity = 0.03\n",
      " \n",
      "Avg Training Stats after 2 global rounds:\n",
      "Training loss: 0.27 | Validation accuracy: 90.90% | Validation Demographic disparity: 0.0286\n",
      "\n",
      " | Global Training Round : 3 |\n",
      "\n"
     ]
    },
    {
     "name": "stderr",
     "output_type": "stream",
     "text": [
      "\n",
      " 30%|███       | 3/10 [01:40<03:49, 32.84s/it]\u001b[A"
     ]
    },
    {
     "name": "stdout",
     "output_type": "stream",
     "text": [
      "Client 1: predictor loss: 36.03 | adversary loss 1.60 | Demographic disparity = 0.01\n",
      "Client 2: predictor loss: 12.47 | adversary loss 1.60 | Demographic disparity = 0.02\n",
      "Client 3: predictor loss: 33.18 | adversary loss 1.58 | Demographic disparity = 0.02\n",
      " \n",
      "Avg Training Stats after 3 global rounds:\n",
      "Training loss: 0.27 | Validation accuracy: 90.60% | Validation Demographic disparity: 0.0119\n",
      "\n",
      " | Global Training Round : 4 |\n",
      "\n"
     ]
    },
    {
     "name": "stderr",
     "output_type": "stream",
     "text": [
      "\n",
      " 40%|████      | 4/10 [02:26<03:41, 36.87s/it]\u001b[A"
     ]
    },
    {
     "name": "stdout",
     "output_type": "stream",
     "text": [
      "Client 1: predictor loss: 36.25 | adversary loss 1.60 | Demographic disparity = 0.02\n",
      "Client 2: predictor loss: 12.83 | adversary loss 1.60 | Demographic disparity = 0.03\n",
      "Client 3: predictor loss: 33.39 | adversary loss 1.58 | Demographic disparity = 0.02\n",
      " \n",
      "Avg Training Stats after 4 global rounds:\n",
      "Training loss: 0.27 | Validation accuracy: 90.84% | Validation Demographic disparity: 0.0177\n",
      "\n",
      " | Global Training Round : 5 |\n",
      "\n"
     ]
    },
    {
     "name": "stderr",
     "output_type": "stream",
     "text": [
      "\n",
      " 50%|█████     | 5/10 [02:54<02:50, 34.19s/it]\u001b[A"
     ]
    },
    {
     "name": "stdout",
     "output_type": "stream",
     "text": [
      "Client 1: predictor loss: 36.30 | adversary loss 1.60 | Demographic disparity = 0.01\n",
      "Client 2: predictor loss: 12.54 | adversary loss 1.59 | Demographic disparity = 0.03\n",
      "Client 3: predictor loss: 33.06 | adversary loss 1.58 | Demographic disparity = 0.03\n",
      " \n",
      "Avg Training Stats after 5 global rounds:\n",
      "Training loss: 0.26 | Validation accuracy: 90.91% | Validation Demographic disparity: 0.0168\n",
      "\n",
      " | Global Training Round : 6 |\n",
      "\n"
     ]
    },
    {
     "name": "stderr",
     "output_type": "stream",
     "text": [
      "\n",
      " 60%|██████    | 6/10 [03:32<02:21, 35.47s/it]\u001b[A"
     ]
    },
    {
     "name": "stdout",
     "output_type": "stream",
     "text": [
      "Client 1: predictor loss: 36.28 | adversary loss 1.60 | Demographic disparity = 0.02\n",
      "Client 2: predictor loss: 12.47 | adversary loss 1.59 | Demographic disparity = 0.02\n",
      "Client 3: predictor loss: 33.06 | adversary loss 1.58 | Demographic disparity = 0.02\n",
      " \n",
      "Avg Training Stats after 6 global rounds:\n",
      "Training loss: 0.26 | Validation accuracy: 90.94% | Validation Demographic disparity: 0.0147\n",
      "\n",
      " | Global Training Round : 7 |\n",
      "\n"
     ]
    },
    {
     "name": "stderr",
     "output_type": "stream",
     "text": [
      "\n",
      " 70%|███████   | 7/10 [04:18<01:55, 38.60s/it]\u001b[A"
     ]
    },
    {
     "name": "stdout",
     "output_type": "stream",
     "text": [
      "Client 1: predictor loss: 36.34 | adversary loss 1.60 | Demographic disparity = 0.01\n",
      "Client 2: predictor loss: 12.54 | adversary loss 1.59 | Demographic disparity = 0.03\n",
      "Client 3: predictor loss: 33.07 | adversary loss 1.58 | Demographic disparity = 0.03\n",
      " \n",
      "Avg Training Stats after 7 global rounds:\n",
      "Training loss: 0.26 | Validation accuracy: 90.81% | Validation Demographic disparity: 0.0176\n",
      "\n",
      " | Global Training Round : 8 |\n",
      "\n"
     ]
    },
    {
     "name": "stderr",
     "output_type": "stream",
     "text": [
      "\n",
      " 80%|████████  | 8/10 [04:55<01:16, 38.14s/it]\u001b[A"
     ]
    },
    {
     "name": "stdout",
     "output_type": "stream",
     "text": [
      "Client 1: predictor loss: 36.22 | adversary loss 1.60 | Demographic disparity = 0.01\n",
      "Client 2: predictor loss: 12.50 | adversary loss 1.59 | Demographic disparity = 0.02\n",
      "Client 3: predictor loss: 33.07 | adversary loss 1.58 | Demographic disparity = 0.02\n",
      " \n",
      "Avg Training Stats after 8 global rounds:\n",
      "Training loss: 0.26 | Validation accuracy: 90.79% | Validation Demographic disparity: 0.0175\n",
      "\n",
      " | Global Training Round : 9 |\n",
      "\n"
     ]
    },
    {
     "name": "stderr",
     "output_type": "stream",
     "text": [
      "\n",
      " 90%|█████████ | 9/10 [05:24<00:35, 35.20s/it]\u001b[A"
     ]
    },
    {
     "name": "stdout",
     "output_type": "stream",
     "text": [
      "Client 1: predictor loss: 36.16 | adversary loss 1.60 | Demographic disparity = 0.01\n",
      "Client 2: predictor loss: 12.47 | adversary loss 1.59 | Demographic disparity = 0.02\n",
      "Client 3: predictor loss: 33.05 | adversary loss 1.58 | Demographic disparity = 0.02\n",
      " \n",
      "Avg Training Stats after 9 global rounds:\n",
      "Training loss: 0.26 | Validation accuracy: 90.65% | Validation Demographic disparity: 0.0158\n",
      "\n",
      " | Global Training Round : 10 |\n",
      "\n"
     ]
    },
    {
     "name": "stderr",
     "output_type": "stream",
     "text": [
      "\n",
      "100%|██████████| 10/10 [06:00<00:00, 36.04s/it]\u001b[A"
     ]
    },
    {
     "name": "stdout",
     "output_type": "stream",
     "text": [
      "Client 1: predictor loss: 36.12 | adversary loss 1.60 | Demographic disparity = 0.01\n",
      "Client 2: predictor loss: 12.47 | adversary loss 1.59 | Demographic disparity = 0.02\n",
      "Client 3: predictor loss: 33.03 | adversary loss 1.58 | Demographic disparity = 0.02\n",
      " \n",
      "Avg Training Stats after 10 global rounds:\n",
      "Training loss: 0.26 | Validation accuracy: 90.65% | Validation Demographic disparity: 0.0158\n"
     ]
    },
    {
     "name": "stderr",
     "output_type": "stream",
     "text": [
      "\n"
     ]
    },
    {
     "name": "stdout",
     "output_type": "stream",
     "text": [
      " \n",
      " Results after 10 global rounds of training:\n",
      "|---- Avg Train Accuracy: 90.65%\n",
      "|---- Test Accuracy: 90.07%\n",
      "|---- Test Demographic disparity: 0.0130\n",
      "\n",
      " Total Run Time: 360.6380 sec\n"
     ]
    }
   ],
   "source": [
    "server = Server(logReg(num_features=bank_num_features, num_classes=2, seed = seed), bank_info, train_prn = False, metric = \"Demographic disparity\", seed = seed, Z = bank_z)\n",
    "server.FTrain(num_rounds = 10, local_epochs = 30, init_epochs = 50, lr_g = 0.005, lr_d = 0.02, lambda_d = 0.8)"
   ]
  },
  {
   "cell_type": "code",
   "execution_count": null,
   "metadata": {},
   "outputs": [],
   "source": []
  }
 ],
 "metadata": {
  "kernelspec": {
   "display_name": "Python 3",
   "language": "python",
   "name": "python3"
  },
  "language_info": {
   "codemirror_mode": {
    "name": "ipython",
    "version": 3
   },
   "file_extension": ".py",
   "mimetype": "text/x-python",
   "name": "python",
   "nbconvert_exporter": "python",
   "pygments_lexer": "ipython3",
   "version": "3.7.4"
  }
 },
 "nbformat": 4,
 "nbformat_minor": 2
}
