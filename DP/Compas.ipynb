{
 "cells": [
  {
   "cell_type": "code",
   "execution_count": 1,
   "metadata": {},
   "outputs": [],
   "source": [
    "from Server import *\n",
    "from load_compas import *\n",
    "seed  = 123"
   ]
  },
  {
   "cell_type": "code",
   "execution_count": 2,
   "metadata": {
    "scrolled": true
   },
   "outputs": [
    {
     "name": "stderr",
     "output_type": "stream",
     "text": [
      "\r",
      "  0%|          | 0/10 [00:00<?, ?it/s]"
     ]
    },
    {
     "name": "stdout",
     "output_type": "stream",
     "text": [
      "\n",
      " | Global Training Round : 1 |\n",
      "\n"
     ]
    },
    {
     "name": "stderr",
     "output_type": "stream",
     "text": [
      "\r",
      " 10%|█         | 1/10 [00:05<00:49,  5.50s/it]"
     ]
    },
    {
     "name": "stdout",
     "output_type": "stream",
     "text": [
      "Client 1: accuracy loss: 26.43 | fairness loss 92.97 | Demographic disparity = 0.15\n",
      "Client 2: accuracy loss: 10.65 | fairness loss 33.94 | Demographic disparity = 0.17\n",
      " \n",
      "Avg Training Stats after 1 global rounds:\n",
      "Training loss: 79.88 | Validation accuracy: 59.13% | Validation Demographic disparity: 0.1568\n",
      "\n",
      " | Global Training Round : 2 |\n",
      "\n"
     ]
    },
    {
     "name": "stderr",
     "output_type": "stream",
     "text": [
      "\r",
      " 20%|██        | 2/10 [00:10<00:43,  5.47s/it]"
     ]
    },
    {
     "name": "stdout",
     "output_type": "stream",
     "text": [
      "Client 1: accuracy loss: 26.36 | fairness loss 179.83 | Demographic disparity = 0.16\n",
      "Client 2: accuracy loss: 10.71 | fairness loss 58.50 | Demographic disparity = 0.16\n",
      " \n",
      "Avg Training Stats after 2 global rounds:\n",
      "Training loss: 77.83 | Validation accuracy: 59.79% | Validation Demographic disparity: 0.1598\n",
      "\n",
      " | Global Training Round : 3 |\n",
      "\n"
     ]
    },
    {
     "name": "stderr",
     "output_type": "stream",
     "text": [
      "\r",
      " 30%|███       | 3/10 [00:16<00:39,  5.59s/it]"
     ]
    },
    {
     "name": "stdout",
     "output_type": "stream",
     "text": [
      "Client 1: accuracy loss: 26.61 | fairness loss 252.94 | Demographic disparity = 0.15\n",
      "Client 2: accuracy loss: 10.84 | fairness loss 82.17 | Demographic disparity = 0.14\n",
      " \n",
      "Avg Training Stats after 3 global rounds:\n",
      "Training loss: 76.87 | Validation accuracy: 61.79% | Validation Demographic disparity: 0.1444\n",
      "\n",
      " | Global Training Round : 4 |\n",
      "\n"
     ]
    },
    {
     "name": "stderr",
     "output_type": "stream",
     "text": [
      "\r",
      " 40%|████      | 4/10 [00:22<00:34,  5.69s/it]"
     ]
    },
    {
     "name": "stdout",
     "output_type": "stream",
     "text": [
      "Client 1: accuracy loss: 26.86 | fairness loss 323.82 | Demographic disparity = 0.15\n",
      "Client 2: accuracy loss: 11.00 | fairness loss 109.28 | Demographic disparity = 0.15\n",
      " \n",
      "Avg Training Stats after 4 global rounds:\n",
      "Training loss: 76.39 | Validation accuracy: 62.60% | Validation Demographic disparity: 0.1336\n",
      "\n",
      " | Global Training Round : 5 |\n",
      "\n"
     ]
    },
    {
     "name": "stderr",
     "output_type": "stream",
     "text": [
      "\r",
      " 50%|█████     | 5/10 [00:28<00:28,  5.70s/it]"
     ]
    },
    {
     "name": "stdout",
     "output_type": "stream",
     "text": [
      "Client 1: accuracy loss: 27.06 | fairness loss 387.61 | Demographic disparity = 0.14\n",
      "Client 2: accuracy loss: 11.15 | fairness loss 136.94 | Demographic disparity = 0.18\n",
      " \n",
      "Avg Training Stats after 5 global rounds:\n",
      "Training loss: 76.17 | Validation accuracy: 62.29% | Validation Demographic disparity: 0.1413\n",
      "\n",
      " | Global Training Round : 6 |\n",
      "\n"
     ]
    },
    {
     "name": "stderr",
     "output_type": "stream",
     "text": [
      "\r",
      " 60%|██████    | 6/10 [00:34<00:23,  5.94s/it]"
     ]
    },
    {
     "name": "stdout",
     "output_type": "stream",
     "text": [
      "Client 1: accuracy loss: 27.17 | fairness loss 432.62 | Demographic disparity = 0.14\n",
      "Client 2: accuracy loss: 11.27 | fairness loss 159.03 | Demographic disparity = 0.18\n",
      " \n",
      "Avg Training Stats after 6 global rounds:\n",
      "Training loss: 76.08 | Validation accuracy: 62.49% | Validation Demographic disparity: 0.1413\n",
      "\n",
      " | Global Training Round : 7 |\n",
      "\n"
     ]
    },
    {
     "name": "stderr",
     "output_type": "stream",
     "text": [
      "\r",
      " 70%|███████   | 7/10 [00:40<00:17,  5.98s/it]"
     ]
    },
    {
     "name": "stdout",
     "output_type": "stream",
     "text": [
      "Client 1: accuracy loss: 27.21 | fairness loss 460.40 | Demographic disparity = 0.14\n",
      "Client 2: accuracy loss: 11.34 | fairness loss 174.92 | Demographic disparity = 0.19\n",
      " \n",
      "Avg Training Stats after 7 global rounds:\n",
      "Training loss: 76.08 | Validation accuracy: 61.90% | Validation Demographic disparity: 0.1505\n",
      "\n",
      " | Global Training Round : 8 |\n",
      "\n"
     ]
    },
    {
     "name": "stderr",
     "output_type": "stream",
     "text": [
      "\r",
      " 80%|████████  | 8/10 [00:47<00:12,  6.18s/it]"
     ]
    },
    {
     "name": "stdout",
     "output_type": "stream",
     "text": [
      "Client 1: accuracy loss: 27.22 | fairness loss 476.65 | Demographic disparity = 0.14\n",
      "Client 2: accuracy loss: 11.39 | fairness loss 185.79 | Demographic disparity = 0.20\n",
      " \n",
      "Avg Training Stats after 8 global rounds:\n",
      "Training loss: 76.12 | Validation accuracy: 62.49% | Validation Demographic disparity: 0.1567\n",
      "\n",
      " | Global Training Round : 9 |\n",
      "\n"
     ]
    },
    {
     "name": "stderr",
     "output_type": "stream",
     "text": [
      "\r",
      " 90%|█████████ | 9/10 [00:54<00:06,  6.27s/it]"
     ]
    },
    {
     "name": "stdout",
     "output_type": "stream",
     "text": [
      "Client 1: accuracy loss: 27.23 | fairness loss 485.97 | Demographic disparity = 0.14\n",
      "Client 2: accuracy loss: 11.41 | fairness loss 192.20 | Demographic disparity = 0.22\n",
      " \n",
      "Avg Training Stats after 9 global rounds:\n",
      "Training loss: 76.18 | Validation accuracy: 63.19% | Validation Demographic disparity: 0.1644\n",
      "\n",
      " | Global Training Round : 10 |\n",
      "\n"
     ]
    },
    {
     "name": "stderr",
     "output_type": "stream",
     "text": [
      "100%|██████████| 10/10 [01:00<00:00,  6.04s/it]"
     ]
    },
    {
     "name": "stdout",
     "output_type": "stream",
     "text": [
      "Client 1: accuracy loss: 27.23 | fairness loss 491.22 | Demographic disparity = 0.14\n",
      "Client 2: accuracy loss: 11.43 | fairness loss 195.48 | Demographic disparity = 0.22\n",
      " \n",
      "Avg Training Stats after 10 global rounds:\n",
      "Training loss: 76.25 | Validation accuracy: 63.19% | Validation Demographic disparity: 0.1644\n",
      " \n",
      " Results after 10 global rounds of training:\n",
      "|---- Avg Train Accuracy: 63.19%\n",
      "|---- Test Accuracy: 64.54%\n",
      "|---- Test Demographic disparity: 0.1536\n",
      "\n",
      " Total Run Time: 60.4126 sec\n"
     ]
    },
    {
     "name": "stderr",
     "output_type": "stream",
     "text": [
      "\n"
     ]
    }
   ],
   "source": [
    "server = Server(logReg(num_features=compas_num_features, num_classes=2, seed = seed), compas_info, train_prn = False, seed = seed, Z = compas_z)\n",
    "server.Unconstrained(num_rounds = 10, local_epochs = 30, optimizer = 'adam', learning_rate = 0.002)\n"
   ]
  },
  {
   "cell_type": "code",
   "execution_count": 21,
   "metadata": {
    "scrolled": true
   },
   "outputs": [
    {
     "name": "stderr",
     "output_type": "stream",
     "text": [
      "\n",
      "\n",
      "\n",
      "\n",
      "\n",
      "\n",
      "  0%|          | 0/10 [00:00<?, ?it/s]\u001b[A\u001b[A\u001b[A\u001b[A\u001b[A\u001b[A"
     ]
    },
    {
     "name": "stdout",
     "output_type": "stream",
     "text": [
      "\n",
      " | Global Training Round : 1 |\n",
      "\n"
     ]
    },
    {
     "name": "stderr",
     "output_type": "stream",
     "text": [
      "\n",
      "\n",
      "\n",
      "\n",
      "\n",
      "\n",
      " 10%|█         | 1/10 [00:04<00:36,  4.06s/it]\u001b[A\u001b[A\u001b[A\u001b[A\u001b[A\u001b[A"
     ]
    },
    {
     "name": "stdout",
     "output_type": "stream",
     "text": [
      "Client 1: accuracy loss: 28.93 | fairness loss 4.34 | Demographic disparity = 0.11\n",
      "Client 2: accuracy loss: 10.53 | fairness loss 1.68 | Demographic disparity = 0.15\n",
      " \n",
      "Avg Training Stats after 1 global rounds:\n",
      "Training loss: 0.64 | Validation accuracy: 57.90% | Validation Demographic disparity: 0.0998\n",
      "\n",
      " | Global Training Round : 2 |\n",
      "\n"
     ]
    },
    {
     "name": "stderr",
     "output_type": "stream",
     "text": [
      "\n",
      "\n",
      "\n",
      "\n",
      "\n",
      "\n",
      " 20%|██        | 2/10 [00:08<00:32,  4.09s/it]\u001b[A\u001b[A\u001b[A\u001b[A\u001b[A\u001b[A"
     ]
    },
    {
     "name": "stdout",
     "output_type": "stream",
     "text": [
      "Client 1: accuracy loss: 29.04 | fairness loss 3.38 | Demographic disparity = 0.12\n",
      "Client 2: accuracy loss: 10.54 | fairness loss 1.31 | Demographic disparity = 0.12\n",
      " \n",
      "Avg Training Stats after 2 global rounds:\n",
      "Training loss: 0.64 | Validation accuracy: 56.71% | Validation Demographic disparity: 0.0827\n",
      "\n",
      " | Global Training Round : 3 |\n",
      "\n"
     ]
    },
    {
     "name": "stderr",
     "output_type": "stream",
     "text": [
      "\n",
      "\n",
      "\n",
      "\n",
      "\n",
      "\n",
      " 30%|███       | 3/10 [00:12<00:29,  4.15s/it]\u001b[A\u001b[A\u001b[A\u001b[A\u001b[A\u001b[A"
     ]
    },
    {
     "name": "stdout",
     "output_type": "stream",
     "text": [
      "Client 1: accuracy loss: 29.18 | fairness loss 2.59 | Demographic disparity = 0.10\n",
      "Client 2: accuracy loss: 10.56 | fairness loss 1.06 | Demographic disparity = 0.09\n",
      " \n",
      "Avg Training Stats after 3 global rounds:\n",
      "Training loss: 0.65 | Validation accuracy: 57.30% | Validation Demographic disparity: 0.0845\n",
      "\n",
      " | Global Training Round : 4 |\n",
      "\n"
     ]
    },
    {
     "name": "stderr",
     "output_type": "stream",
     "text": [
      "\n",
      "\n",
      "\n",
      "\n",
      "\n",
      "\n",
      " 40%|████      | 4/10 [00:17<00:25,  4.26s/it]\u001b[A\u001b[A\u001b[A\u001b[A\u001b[A\u001b[A"
     ]
    },
    {
     "name": "stdout",
     "output_type": "stream",
     "text": [
      "Client 1: accuracy loss: 29.29 | fairness loss 2.09 | Demographic disparity = 0.11\n",
      "Client 2: accuracy loss: 10.56 | fairness loss 0.92 | Demographic disparity = 0.08\n",
      " \n",
      "Avg Training Stats after 4 global rounds:\n",
      "Training loss: 0.65 | Validation accuracy: 57.79% | Validation Demographic disparity: 0.1045\n",
      "\n",
      " | Global Training Round : 5 |\n",
      "\n"
     ]
    },
    {
     "name": "stderr",
     "output_type": "stream",
     "text": [
      "\n",
      "\n",
      "\n",
      "\n",
      "\n",
      "\n",
      " 50%|█████     | 5/10 [00:21<00:21,  4.27s/it]\u001b[A\u001b[A\u001b[A\u001b[A\u001b[A\u001b[A"
     ]
    },
    {
     "name": "stdout",
     "output_type": "stream",
     "text": [
      "Client 1: accuracy loss: 29.37 | fairness loss 1.74 | Demographic disparity = 0.10\n",
      "Client 2: accuracy loss: 10.57 | fairness loss 0.82 | Demographic disparity = 0.12\n",
      " \n",
      "Avg Training Stats after 5 global rounds:\n",
      "Training loss: 0.65 | Validation accuracy: 57.59% | Validation Demographic disparity: 0.1030\n",
      "\n",
      " | Global Training Round : 6 |\n",
      "\n"
     ]
    },
    {
     "name": "stderr",
     "output_type": "stream",
     "text": [
      "\n",
      "\n",
      "\n",
      "\n",
      "\n",
      "\n",
      " 60%|██████    | 6/10 [00:25<00:17,  4.28s/it]\u001b[A\u001b[A\u001b[A\u001b[A\u001b[A\u001b[A"
     ]
    },
    {
     "name": "stdout",
     "output_type": "stream",
     "text": [
      "Client 1: accuracy loss: 29.44 | fairness loss 1.48 | Demographic disparity = 0.09\n",
      "Client 2: accuracy loss: 10.58 | fairness loss 0.74 | Demographic disparity = 0.11\n",
      " \n",
      "Avg Training Stats after 6 global rounds:\n",
      "Training loss: 0.65 | Validation accuracy: 56.96% | Validation Demographic disparity: 0.0984\n",
      "\n",
      " | Global Training Round : 7 |\n",
      "\n"
     ]
    },
    {
     "name": "stderr",
     "output_type": "stream",
     "text": [
      "\n",
      "\n",
      "\n",
      "\n",
      "\n",
      "\n",
      " 70%|███████   | 7/10 [00:30<00:12,  4.31s/it]\u001b[A\u001b[A\u001b[A\u001b[A\u001b[A\u001b[A"
     ]
    },
    {
     "name": "stdout",
     "output_type": "stream",
     "text": [
      "Client 1: accuracy loss: 29.50 | fairness loss 1.27 | Demographic disparity = 0.10\n",
      "Client 2: accuracy loss: 10.58 | fairness loss 0.68 | Demographic disparity = 0.10\n",
      " \n",
      "Avg Training Stats after 7 global rounds:\n",
      "Training loss: 0.65 | Validation accuracy: 56.37% | Validation Demographic disparity: 0.0969\n",
      "\n",
      " | Global Training Round : 8 |\n",
      "\n"
     ]
    },
    {
     "name": "stderr",
     "output_type": "stream",
     "text": [
      "\n",
      "\n",
      "\n",
      "\n",
      "\n",
      "\n",
      " 80%|████████  | 8/10 [00:34<00:08,  4.29s/it]\u001b[A\u001b[A\u001b[A\u001b[A\u001b[A\u001b[A"
     ]
    },
    {
     "name": "stdout",
     "output_type": "stream",
     "text": [
      "Client 1: accuracy loss: 29.55 | fairness loss 1.11 | Demographic disparity = 0.08\n",
      "Client 2: accuracy loss: 10.59 | fairness loss 0.62 | Demographic disparity = 0.10\n",
      " \n",
      "Avg Training Stats after 8 global rounds:\n",
      "Training loss: 0.66 | Validation accuracy: 55.95% | Validation Demographic disparity: 0.0877\n",
      "\n",
      " | Global Training Round : 9 |\n",
      "\n"
     ]
    },
    {
     "name": "stderr",
     "output_type": "stream",
     "text": [
      "\n",
      "\n",
      "\n",
      "\n",
      "\n",
      "\n",
      " 90%|█████████ | 9/10 [00:38<00:04,  4.32s/it]\u001b[A\u001b[A\u001b[A\u001b[A\u001b[A\u001b[A"
     ]
    },
    {
     "name": "stdout",
     "output_type": "stream",
     "text": [
      "Client 1: accuracy loss: 29.59 | fairness loss 0.97 | Demographic disparity = 0.08\n",
      "Client 2: accuracy loss: 10.59 | fairness loss 0.57 | Demographic disparity = 0.08\n",
      " \n",
      "Avg Training Stats after 9 global rounds:\n",
      "Training loss: 0.66 | Validation accuracy: 55.06% | Validation Demographic disparity: 0.0815\n",
      "\n",
      " | Global Training Round : 10 |\n",
      "\n"
     ]
    },
    {
     "name": "stderr",
     "output_type": "stream",
     "text": [
      "\n",
      "\n",
      "\n",
      "\n",
      "\n",
      "\n",
      "100%|██████████| 10/10 [00:42<00:00,  4.29s/it]\u001b[A\u001b[A\u001b[A\u001b[A\u001b[A\u001b[A"
     ]
    },
    {
     "name": "stdout",
     "output_type": "stream",
     "text": [
      "Client 1: accuracy loss: 29.63 | fairness loss 0.86 | Demographic disparity = 0.07\n",
      "Client 2: accuracy loss: 10.59 | fairness loss 0.53 | Demographic disparity = 0.06\n",
      " \n",
      "Avg Training Stats after 10 global rounds:\n",
      "Training loss: 0.66 | Validation accuracy: 54.24% | Validation Demographic disparity: 0.0662\n",
      " \n",
      " Results after 10 global rounds of training:\n",
      "|---- Avg Train Accuracy: 54.24%\n",
      "|---- Test Accuracy: 55.96%\n",
      "|---- Test Demographic disparity: 0.0370\n",
      "\n",
      " Total Run Time: 42.8957 sec\n"
     ]
    },
    {
     "name": "stderr",
     "output_type": "stream",
     "text": [
      "\n"
     ]
    }
   ],
   "source": [
    "server = Server(logReg(num_features=compas_num_features, num_classes=2, seed = seed), compas_info, train_prn = False, seed = seed, Z = compas_z)\n",
    "server.BiasCorrecting(num_rounds = 10, local_epochs = 20, optimizer = 'adam', learning_rate = 0.002, alpha = 0.5)\n"
   ]
  },
  {
   "cell_type": "code",
   "execution_count": 24,
   "metadata": {
    "scrolled": true
   },
   "outputs": [
    {
     "name": "stderr",
     "output_type": "stream",
     "text": [
      "\n",
      "\n",
      "\n",
      "\n",
      "\n",
      "\n",
      "\n",
      "  0%|          | 0/3 [00:00<?, ?it/s]\u001b[A\u001b[A\u001b[A\u001b[A\u001b[A\u001b[A\u001b[A"
     ]
    },
    {
     "name": "stdout",
     "output_type": "stream",
     "text": [
      "\n",
      " | Testing Round : 1 | constraint :  Cov(z, d) < c\n",
      "\n"
     ]
    },
    {
     "name": "stderr",
     "output_type": "stream",
     "text": [
      "\n",
      "\n",
      "\n",
      "\n",
      "\n",
      "\n",
      "\n",
      " 33%|███▎      | 1/3 [00:05<00:11,  5.71s/it]\u001b[A\u001b[A\u001b[A\u001b[A\u001b[A\u001b[A\u001b[A"
     ]
    },
    {
     "name": "stdout",
     "output_type": "stream",
     "text": [
      "Client 1: accuracy loss: 41.73 | fairness loss 10407294.55 | Demographic disparity = 0.12\n",
      "Client 2: accuracy loss: 65.27 | fairness loss 9149619.78 | Demographic disparity = 0.36\n",
      " \n",
      "Avg Training Stats after 1 Testing rounds:\n",
      "Training loss: -15809.46 | Validation accuracy: 50.20% | Validation Demographic disparity: 0.1749\n",
      "\n",
      " | Testing Round : 2 | constraint :  Cov(z, d) < c\n",
      "\n"
     ]
    },
    {
     "name": "stderr",
     "output_type": "stream",
     "text": [
      "\n",
      "\n",
      "\n",
      "\n",
      "\n",
      "\n",
      "\n",
      " 67%|██████▋   | 2/3 [00:11<00:05,  5.76s/it]\u001b[A\u001b[A\u001b[A\u001b[A\u001b[A\u001b[A\u001b[A"
     ]
    },
    {
     "name": "stdout",
     "output_type": "stream",
     "text": [
      "Client 1: accuracy loss: 64.34 | fairness loss 41841644.09 | Demographic disparity = 0.04\n",
      "Client 2: accuracy loss: 135.61 | fairness loss 36755544.40 | Demographic disparity = 0.33\n",
      " \n",
      "Avg Training Stats after 2 Testing rounds:\n",
      "Training loss: -37755.64 | Validation accuracy: 49.23% | Validation Demographic disparity: 0.0864\n",
      "\n",
      " | Testing Round : 3 | constraint :  Cov(z, d) < c\n",
      "\n"
     ]
    },
    {
     "name": "stderr",
     "output_type": "stream",
     "text": [
      "\n",
      "\n",
      "\n",
      "\n",
      "\n",
      "\n",
      "\n",
      "100%|██████████| 3/3 [00:17<00:00,  5.90s/it]\u001b[A\u001b[A\u001b[A\u001b[A\u001b[A\u001b[A\u001b[A\n",
      "\n",
      "\n",
      "\n",
      "\n",
      "\n",
      "\n",
      "\n",
      "  0%|          | 0/3 [00:00<?, ?it/s]\u001b[A\u001b[A\u001b[A\u001b[A\u001b[A\u001b[A\u001b[A"
     ]
    },
    {
     "name": "stdout",
     "output_type": "stream",
     "text": [
      "Client 1: accuracy loss: 94.64 | fairness loss 94250155.45 | Demographic disparity = 0.04\n",
      "Client 2: accuracy loss: 202.76 | fairness loss 82776920.07 | Demographic disparity = 0.28\n",
      " \n",
      "Avg Training Stats after 3 Testing rounds:\n",
      "Training loss: -59720.23 | Validation accuracy: 48.54% | Validation Demographic disparity: 0.0777\n",
      "\n",
      " | Testing Round : 1 | constraint :  Cov(z, d) > -c\n",
      "\n"
     ]
    },
    {
     "name": "stderr",
     "output_type": "stream",
     "text": [
      "\n",
      "\n",
      "\n",
      "\n",
      "\n",
      "\n",
      "\n",
      " 33%|███▎      | 1/3 [00:06<00:12,  6.10s/it]\u001b[A\u001b[A\u001b[A\u001b[A\u001b[A\u001b[A\u001b[A"
     ]
    },
    {
     "name": "stdout",
     "output_type": "stream",
     "text": [
      "Client 1: accuracy loss: 49.96 | fairness loss 10352531.27 | Demographic disparity = 0.17\n",
      "Client 2: accuracy loss: 46.67 | fairness loss 9157896.21 | Demographic disparity = 0.04\n",
      " \n",
      "Avg Training Stats after 1 Testing rounds:\n",
      "Training loss: -48750.16 | Validation accuracy: 49.90% | Validation Demographic disparity: 0.1338\n",
      "\n",
      " | Testing Round : 2 | constraint :  Cov(z, d) > -c\n",
      "\n"
     ]
    },
    {
     "name": "stderr",
     "output_type": "stream",
     "text": [
      "\n",
      "\n",
      "\n",
      "\n",
      "\n",
      "\n",
      "\n",
      " 67%|██████▋   | 2/3 [00:11<00:05,  5.95s/it]\u001b[A\u001b[A\u001b[A\u001b[A\u001b[A\u001b[A\u001b[A"
     ]
    },
    {
     "name": "stdout",
     "output_type": "stream",
     "text": [
      "Client 1: accuracy loss: 73.01 | fairness loss 41616959.55 | Demographic disparity = 0.06\n",
      "Client 2: accuracy loss: 89.35 | fairness loss 36799433.53 | Demographic disparity = 0.02\n",
      " \n",
      "Avg Training Stats after 2 Testing rounds:\n",
      "Training loss: -50956.81 | Validation accuracy: 49.15% | Validation Demographic disparity: 0.0492\n",
      "\n",
      " | Testing Round : 3 | constraint :  Cov(z, d) > -c\n",
      "\n"
     ]
    },
    {
     "name": "stderr",
     "output_type": "stream",
     "text": [
      "\n",
      "\n",
      "\n",
      "\n",
      "\n",
      "\n",
      "\n",
      "100%|██████████| 3/3 [00:17<00:00,  5.71s/it]\u001b[A\u001b[A\u001b[A\u001b[A\u001b[A\u001b[A\u001b[A\n",
      "\n",
      "\n",
      "\n",
      "\n",
      "\n",
      "\n",
      "\n",
      "  0%|          | 0/10 [00:00<?, ?it/s]\u001b[A\u001b[A\u001b[A\u001b[A\u001b[A\u001b[A\u001b[A"
     ]
    },
    {
     "name": "stdout",
     "output_type": "stream",
     "text": [
      "Client 1: accuracy loss: 100.38 | fairness loss 93777778.36 | Demographic disparity = 0.03\n",
      "Client 2: accuracy loss: 133.06 | fairness loss 82900809.52 | Demographic disparity = 0.02\n",
      " \n",
      "Avg Training Stats after 3 Testing rounds:\n",
      "Training loss: -59757.71 | Validation accuracy: 48.11% | Validation Demographic disparity: 0.0246\n",
      "\n",
      " | Global Round : 1 | constraint :  Cov(z, d) > -c\n",
      "\n"
     ]
    },
    {
     "name": "stderr",
     "output_type": "stream",
     "text": [
      "\n",
      "\n",
      "\n",
      "\n",
      "\n",
      "\n",
      "\n",
      " 10%|█         | 1/10 [00:05<00:48,  5.40s/it]\u001b[A\u001b[A\u001b[A\u001b[A\u001b[A\u001b[A\u001b[A"
     ]
    },
    {
     "name": "stdout",
     "output_type": "stream",
     "text": [
      "Client 1: accuracy loss: 101.01 | fairness loss 99952078.18 | Demographic disparity = 0.03\n",
      "Client 2: accuracy loss: 136.25 | fairness loss 88459944.25 | Demographic disparity = 0.02\n",
      " \n",
      "Avg Training Stats after 1 global rounds:\n",
      "Training loss: -58809.84 | Validation accuracy: 48.11% | Validation Demographic disparity: 0.0246\n",
      "\n",
      " | Global Round : 2 | constraint :  Cov(z, d) > -c\n",
      "\n"
     ]
    },
    {
     "name": "stderr",
     "output_type": "stream",
     "text": [
      "\n",
      "\n",
      "\n",
      "\n",
      "\n",
      "\n",
      "\n",
      " 20%|██        | 2/10 [00:10<00:43,  5.39s/it]\u001b[A\u001b[A\u001b[A\u001b[A\u001b[A\u001b[A\u001b[A"
     ]
    },
    {
     "name": "stdout",
     "output_type": "stream",
     "text": [
      "Client 1: accuracy loss: 103.78 | fairness loss 106332895.64 | Demographic disparity = 0.03\n",
      "Client 2: accuracy loss: 140.99 | fairness loss 94201254.75 | Demographic disparity = 0.02\n",
      " \n",
      "Avg Training Stats after 2 global rounds:\n",
      "Training loss: -58317.39 | Validation accuracy: 48.01% | Validation Demographic disparity: 0.0262\n",
      "\n",
      " | Global Round : 3 | constraint :  Cov(z, d) > -c\n",
      "\n"
     ]
    },
    {
     "name": "stderr",
     "output_type": "stream",
     "text": [
      "\n",
      "\n",
      "\n",
      "\n",
      "\n",
      "\n",
      "\n",
      " 30%|███       | 3/10 [00:16<00:37,  5.40s/it]\u001b[A\u001b[A\u001b[A\u001b[A\u001b[A\u001b[A\u001b[A"
     ]
    },
    {
     "name": "stdout",
     "output_type": "stream",
     "text": [
      "Client 1: accuracy loss: 106.85 | fairness loss 112913169.82 | Demographic disparity = 0.03\n",
      "Client 2: accuracy loss: 145.51 | fairness loss 100124408.09 | Demographic disparity = 0.02\n",
      " \n",
      "Avg Training Stats after 3 global rounds:\n",
      "Training loss: -58128.05 | Validation accuracy: 48.11% | Validation Demographic disparity: 0.0277\n",
      "\n",
      " | Global Round : 4 | constraint :  Cov(z, d) > -c\n",
      "\n"
     ]
    },
    {
     "name": "stderr",
     "output_type": "stream",
     "text": [
      "\n",
      "\n",
      "\n",
      "\n",
      "\n",
      "\n",
      "\n",
      " 40%|████      | 4/10 [00:21<00:32,  5.40s/it]\u001b[A\u001b[A\u001b[A\u001b[A\u001b[A\u001b[A\u001b[A"
     ]
    },
    {
     "name": "stdout",
     "output_type": "stream",
     "text": [
      "Client 1: accuracy loss: 110.04 | fairness loss 119692329.82 | Demographic disparity = 0.03\n",
      "Client 2: accuracy loss: 149.79 | fairness loss 106229265.16 | Demographic disparity = 0.02\n",
      " \n",
      "Avg Training Stats after 4 global rounds:\n",
      "Training loss: -58150.92 | Validation accuracy: 48.11% | Validation Demographic disparity: 0.0277\n",
      "\n",
      " | Global Round : 5 | constraint :  Cov(z, d) > -c\n",
      "\n"
     ]
    },
    {
     "name": "stderr",
     "output_type": "stream",
     "text": [
      "\n",
      "\n",
      "\n",
      "\n",
      "\n",
      "\n",
      "\n",
      " 50%|█████     | 5/10 [00:27<00:27,  5.40s/it]\u001b[A\u001b[A\u001b[A\u001b[A\u001b[A\u001b[A\u001b[A"
     ]
    },
    {
     "name": "stdout",
     "output_type": "stream",
     "text": [
      "Client 1: accuracy loss: 113.29 | fairness loss 126670396.36 | Demographic disparity = 0.03\n",
      "Client 2: accuracy loss: 153.90 | fairness loss 112516122.70 | Demographic disparity = 0.02\n",
      " \n",
      "Avg Training Stats after 5 global rounds:\n",
      "Training loss: -58328.19 | Validation accuracy: 48.11% | Validation Demographic disparity: 0.0277\n",
      "\n",
      " | Global Round : 6 | constraint :  Cov(z, d) > -c\n",
      "\n"
     ]
    },
    {
     "name": "stderr",
     "output_type": "stream",
     "text": [
      "\n",
      "\n",
      "\n",
      "\n",
      "\n",
      "\n",
      "\n",
      " 60%|██████    | 6/10 [00:32<00:21,  5.44s/it]\u001b[A\u001b[A\u001b[A\u001b[A\u001b[A\u001b[A\u001b[A"
     ]
    },
    {
     "name": "stdout",
     "output_type": "stream",
     "text": [
      "Client 1: accuracy loss: 116.57 | fairness loss 133847313.09 | Demographic disparity = 0.03\n",
      "Client 2: accuracy loss: 157.87 | fairness loss 118985061.16 | Demographic disparity = 0.02\n",
      " \n",
      "Avg Training Stats after 6 global rounds:\n",
      "Training loss: -58621.29 | Validation accuracy: 48.01% | Validation Demographic disparity: 0.0262\n",
      "\n",
      " | Global Round : 7 | constraint :  Cov(z, d) > -c\n",
      "\n"
     ]
    },
    {
     "name": "stderr",
     "output_type": "stream",
     "text": [
      "\n",
      "\n",
      "\n",
      "\n",
      "\n",
      "\n",
      "\n",
      " 70%|███████   | 7/10 [00:38<00:16,  5.45s/it]\u001b[A\u001b[A\u001b[A\u001b[A\u001b[A\u001b[A\u001b[A"
     ]
    },
    {
     "name": "stdout",
     "output_type": "stream",
     "text": [
      "Client 1: accuracy loss: 119.87 | fairness loss 141222837.82 | Demographic disparity = 0.03\n",
      "Client 2: accuracy loss: 161.75 | fairness loss 125635918.11 | Demographic disparity = 0.02\n",
      " \n",
      "Avg Training Stats after 7 global rounds:\n",
      "Training loss: -59003.54 | Validation accuracy: 48.01% | Validation Demographic disparity: 0.0262\n",
      "\n",
      " | Global Round : 8 | constraint :  Cov(z, d) > -c\n",
      "\n"
     ]
    },
    {
     "name": "stderr",
     "output_type": "stream",
     "text": [
      "\n",
      "\n",
      "\n",
      "\n",
      "\n",
      "\n",
      "\n",
      " 80%|████████  | 8/10 [00:43<00:10,  5.43s/it]\u001b[A\u001b[A\u001b[A\u001b[A\u001b[A\u001b[A\u001b[A"
     ]
    },
    {
     "name": "stdout",
     "output_type": "stream",
     "text": [
      "Client 1: accuracy loss: 123.19 | fairness loss 148797063.27 | Demographic disparity = 0.03\n",
      "Client 2: accuracy loss: 165.54 | fairness loss 132468819.64 | Demographic disparity = 0.02\n",
      " \n",
      "Avg Training Stats after 8 global rounds:\n",
      "Training loss: -59455.85 | Validation accuracy: 48.11% | Validation Demographic disparity: 0.0246\n",
      "\n",
      " | Global Round : 9 | constraint :  Cov(z, d) > -c\n",
      "\n"
     ]
    },
    {
     "name": "stderr",
     "output_type": "stream",
     "text": [
      "\n",
      "\n",
      "\n",
      "\n",
      "\n",
      "\n",
      "\n",
      " 90%|█████████ | 9/10 [00:48<00:05,  5.45s/it]\u001b[A\u001b[A\u001b[A\u001b[A\u001b[A\u001b[A\u001b[A"
     ]
    },
    {
     "name": "stdout",
     "output_type": "stream",
     "text": [
      "Client 1: accuracy loss: 126.52 | fairness loss 156570080.00 | Demographic disparity = 0.03\n",
      "Client 2: accuracy loss: 169.28 | fairness loss 139483887.23 | Demographic disparity = 0.02\n",
      " \n",
      "Avg Training Stats after 9 global rounds:\n",
      "Training loss: -59964.23 | Validation accuracy: 48.11% | Validation Demographic disparity: 0.0246\n",
      "\n",
      " | Global Round : 10 | constraint :  Cov(z, d) > -c\n",
      "\n"
     ]
    },
    {
     "name": "stderr",
     "output_type": "stream",
     "text": [
      "\n",
      "\n",
      "\n",
      "\n",
      "\n",
      "\n",
      "\n",
      "100%|██████████| 10/10 [00:54<00:00,  5.47s/it]\u001b[A\u001b[A\u001b[A\u001b[A\u001b[A\u001b[A\u001b[A"
     ]
    },
    {
     "name": "stdout",
     "output_type": "stream",
     "text": [
      "Client 1: accuracy loss: 129.85 | fairness loss 164541962.91 | Demographic disparity = 0.03\n",
      "Client 2: accuracy loss: 172.97 | fairness loss 146681143.45 | Demographic disparity = 0.02\n",
      " \n",
      "Avg Training Stats after 10 global rounds:\n",
      "Training loss: -60518.20 | Validation accuracy: 48.11% | Validation Demographic disparity: 0.0246\n",
      " \n",
      " Results after 10 global rounds of training:\n",
      "|---- Avg Train Accuracy: 48.11%\n",
      "|---- Test Accuracy: 48.06%\n",
      "|---- Test Demographic disparity: 0.0208\n",
      "\n",
      " Total Run Time: 89.5918 sec\n"
     ]
    },
    {
     "name": "stderr",
     "output_type": "stream",
     "text": [
      "\n"
     ]
    }
   ],
   "source": [
    "server = Server(logReg(num_features=compas_num_features, num_classes=2, seed = seed), compas_info, train_prn = False, seed = seed, Z = compas_z)\n",
    "server.Zafar(test_rounds = 3, test_lr = 0.1, test_penalty = 500, num_rounds = 10, local_epochs = 30, optimizer = 'adam', learning_rate = 0.01, penalty = 200)"
   ]
  },
  {
   "cell_type": "code",
   "execution_count": 16,
   "metadata": {
    "scrolled": true
   },
   "outputs": [
    {
     "name": "stderr",
     "output_type": "stream",
     "text": [
      "\n",
      "\n",
      "\n",
      "  0%|          | 0/5 [00:00<?, ?it/s]\u001b[A\u001b[A\u001b[A"
     ]
    },
    {
     "name": "stdout",
     "output_type": "stream",
     "text": [
      "\n",
      " | Global Training Round : 1 |\n",
      "\n"
     ]
    },
    {
     "name": "stderr",
     "output_type": "stream",
     "text": [
      "\n",
      "\n",
      "\n",
      " 20%|██        | 1/5 [00:06<00:24,  6.17s/it]\u001b[A\u001b[A\u001b[A"
     ]
    },
    {
     "name": "stdout",
     "output_type": "stream",
     "text": [
      "Client 1: accuracy loss: 28.01 | fairness loss 1.75 | Demographic disparity = 0.07\n",
      "Client 2: accuracy loss: 10.75 | fairness loss 0.69 | Demographic disparity = 0.11\n",
      " \n",
      "Avg Training Stats after 1 global rounds:\n",
      "Training loss: 84.03 | Validation accuracy: 55.67% | Validation Demographic disparity: 0.0538\n",
      "\n",
      " | Global Training Round : 2 |\n",
      "\n"
     ]
    },
    {
     "name": "stderr",
     "output_type": "stream",
     "text": [
      "\n",
      "\n",
      "\n",
      " 40%|████      | 2/5 [00:12<00:18,  6.20s/it]\u001b[A\u001b[A\u001b[A"
     ]
    },
    {
     "name": "stdout",
     "output_type": "stream",
     "text": [
      "Client 1: accuracy loss: 27.78 | fairness loss 2.42 | Demographic disparity = 0.08\n",
      "Client 2: accuracy loss: 10.76 | fairness loss 0.93 | Demographic disparity = 0.09\n",
      " \n",
      "Avg Training Stats after 2 global rounds:\n",
      "Training loss: 83.45 | Validation accuracy: 54.47% | Validation Demographic disparity: 0.0661\n",
      "\n",
      " | Global Training Round : 3 |\n",
      "\n"
     ]
    },
    {
     "name": "stderr",
     "output_type": "stream",
     "text": [
      "\n",
      "\n",
      "\n",
      " 60%|██████    | 3/5 [00:18<00:12,  6.15s/it]\u001b[A\u001b[A\u001b[A"
     ]
    },
    {
     "name": "stdout",
     "output_type": "stream",
     "text": [
      "Client 1: accuracy loss: 27.74 | fairness loss 2.62 | Demographic disparity = 0.08\n",
      "Client 2: accuracy loss: 10.77 | fairness loss 1.04 | Demographic disparity = 0.09\n",
      " \n",
      "Avg Training Stats after 3 global rounds:\n",
      "Training loss: 83.26 | Validation accuracy: 55.37% | Validation Demographic disparity: 0.0707\n",
      "\n",
      " | Global Training Round : 4 |\n",
      "\n"
     ]
    },
    {
     "name": "stderr",
     "output_type": "stream",
     "text": [
      "\n",
      "\n",
      "\n",
      " 80%|████████  | 4/5 [00:24<00:06,  6.14s/it]\u001b[A\u001b[A\u001b[A"
     ]
    },
    {
     "name": "stdout",
     "output_type": "stream",
     "text": [
      "Client 1: accuracy loss: 27.72 | fairness loss 2.79 | Demographic disparity = 0.08\n",
      "Client 2: accuracy loss: 10.80 | fairness loss 1.17 | Demographic disparity = 0.09\n",
      " \n",
      "Avg Training Stats after 4 global rounds:\n",
      "Training loss: 83.22 | Validation accuracy: 55.07% | Validation Demographic disparity: 0.0673\n",
      "\n",
      " | Global Training Round : 5 |\n",
      "\n"
     ]
    },
    {
     "name": "stderr",
     "output_type": "stream",
     "text": [
      "\n",
      "\n",
      "\n",
      "100%|██████████| 5/5 [00:30<00:00,  6.12s/it]\u001b[A\u001b[A\u001b[A"
     ]
    },
    {
     "name": "stdout",
     "output_type": "stream",
     "text": [
      "Client 1: accuracy loss: 27.71 | fairness loss 2.95 | Demographic disparity = 0.08\n",
      "Client 2: accuracy loss: 10.82 | fairness loss 1.33 | Demographic disparity = 0.09\n",
      " \n",
      "Avg Training Stats after 5 global rounds:\n",
      "Training loss: 83.26 | Validation accuracy: 55.18% | Validation Demographic disparity: 0.0700\n",
      " \n",
      " Results after 5 global rounds of training:\n",
      "|---- Avg Train Accuracy: 55.18%\n",
      "|---- Test Accuracy: 56.93%\n",
      "|---- Test Demographic disparity: 0.0420\n",
      "\n",
      " Total Run Time: 30.6131 sec\n"
     ]
    },
    {
     "name": "stderr",
     "output_type": "stream",
     "text": [
      "\n"
     ]
    }
   ],
   "source": [
    "server = Server(logReg(num_features=compas_num_features, num_classes=2, seed = seed), compas_info, train_prn = False, seed = seed, Z = compas_z)\n",
    "server.LocalZafar(num_rounds = 5, local_epochs = 30, optimizer = 'adam', learning_rate = 0.001, penalty = 100)"
   ]
  },
  {
   "cell_type": "code",
   "execution_count": null,
   "metadata": {},
   "outputs": [],
   "source": []
  }
 ],
 "metadata": {
  "kernelspec": {
   "display_name": "Python 3",
   "language": "python",
   "name": "python3"
  },
  "language_info": {
   "codemirror_mode": {
    "name": "ipython",
    "version": 3
   },
   "file_extension": ".py",
   "mimetype": "text/x-python",
   "name": "python",
   "nbconvert_exporter": "python",
   "pygments_lexer": "ipython3",
   "version": "3.7.4"
  }
 },
 "nbformat": 4,
 "nbformat_minor": 2
}
