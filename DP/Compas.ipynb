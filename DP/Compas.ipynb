{
 "cells": [
  {
   "cell_type": "code",
   "execution_count": 1,
   "metadata": {},
   "outputs": [],
   "source": [
    "from Server import *\n",
    "from load_compas import *\n",
    "seed  = 123"
   ]
  },
  {
   "cell_type": "code",
   "execution_count": 7,
   "metadata": {
    "scrolled": true
   },
   "outputs": [
    {
     "name": "stderr",
     "output_type": "stream",
     "text": [
      "\n",
      "\n",
      "  0%|          | 0/10 [00:00<?, ?it/s]\u001b[A\u001b[A"
     ]
    },
    {
     "name": "stdout",
     "output_type": "stream",
     "text": [
      "\n",
      " | Global Training Round : 1 |\n",
      "\n"
     ]
    },
    {
     "name": "stderr",
     "output_type": "stream",
     "text": [
      "\n",
      "\n",
      " 10%|█         | 1/10 [00:05<00:47,  5.25s/it]\u001b[A\u001b[A"
     ]
    },
    {
     "name": "stdout",
     "output_type": "stream",
     "text": [
      "Client 1: accuracy loss: 26.64 | fairness loss 66.47 | Demographic disparity = 0.12\n",
      "Client 2: accuracy loss: 10.64 | fairness loss 25.57 | Demographic disparity = 0.15\n",
      " \n",
      "Avg Training Stats after 1 global rounds:\n",
      "Training loss: 81.24 | Validation accuracy: 58.00% | Validation Demographic disparity: 0.0983\n",
      "\n",
      " | Global Training Round : 2 |\n",
      "\n"
     ]
    },
    {
     "name": "stderr",
     "output_type": "stream",
     "text": [
      "\n",
      "\n",
      " 20%|██        | 2/10 [00:10<00:41,  5.23s/it]\u001b[A\u001b[A"
     ]
    },
    {
     "name": "stdout",
     "output_type": "stream",
     "text": [
      "Client 1: accuracy loss: 26.26 | fairness loss 127.84 | Demographic disparity = 0.15\n",
      "Client 2: accuracy loss: 10.63 | fairness loss 43.54 | Demographic disparity = 0.15\n",
      " \n",
      "Avg Training Stats after 2 global rounds:\n",
      "Training loss: 79.25 | Validation accuracy: 58.39% | Validation Demographic disparity: 0.1490\n",
      "\n",
      " | Global Training Round : 3 |\n",
      "\n"
     ]
    },
    {
     "name": "stderr",
     "output_type": "stream",
     "text": [
      "\n",
      "\n",
      " 30%|███       | 3/10 [00:15<00:35,  5.04s/it]\u001b[A\u001b[A"
     ]
    },
    {
     "name": "stdout",
     "output_type": "stream",
     "text": [
      "Client 1: accuracy loss: 26.35 | fairness loss 185.01 | Demographic disparity = 0.15\n",
      "Client 2: accuracy loss: 10.70 | fairness loss 59.99 | Demographic disparity = 0.16\n",
      " \n",
      "Avg Training Stats after 3 global rounds:\n",
      "Training loss: 78.14 | Validation accuracy: 60.20% | Validation Demographic disparity: 0.1352\n",
      "\n",
      " | Global Training Round : 4 |\n",
      "\n"
     ]
    },
    {
     "name": "stderr",
     "output_type": "stream",
     "text": [
      "\n",
      "\n",
      " 40%|████      | 4/10 [00:19<00:29,  4.92s/it]\u001b[A\u001b[A"
     ]
    },
    {
     "name": "stdout",
     "output_type": "stream",
     "text": [
      "Client 1: accuracy loss: 26.53 | fairness loss 235.46 | Demographic disparity = 0.15\n",
      "Client 2: accuracy loss: 10.78 | fairness loss 76.26 | Demographic disparity = 0.13\n",
      " \n",
      "Avg Training Stats after 4 global rounds:\n",
      "Training loss: 77.49 | Validation accuracy: 62.31% | Validation Demographic disparity: 0.1284\n",
      "\n",
      " | Global Training Round : 5 |\n",
      "\n"
     ]
    },
    {
     "name": "stderr",
     "output_type": "stream",
     "text": [
      "\n",
      "\n",
      " 50%|█████     | 5/10 [00:24<00:24,  4.85s/it]\u001b[A\u001b[A"
     ]
    },
    {
     "name": "stdout",
     "output_type": "stream",
     "text": [
      "Client 1: accuracy loss: 26.71 | fairness loss 284.50 | Demographic disparity = 0.15\n",
      "Client 2: accuracy loss: 10.88 | fairness loss 94.04 | Demographic disparity = 0.16\n",
      " \n",
      "Avg Training Stats after 5 global rounds:\n",
      "Training loss: 77.09 | Validation accuracy: 62.51% | Validation Demographic disparity: 0.1213\n",
      "\n",
      " | Global Training Round : 6 |\n",
      "\n"
     ]
    },
    {
     "name": "stderr",
     "output_type": "stream",
     "text": [
      "\n",
      "\n",
      " 60%|██████    | 6/10 [00:28<00:18,  4.73s/it]\u001b[A\u001b[A"
     ]
    },
    {
     "name": "stdout",
     "output_type": "stream",
     "text": [
      "Client 1: accuracy loss: 26.88 | fairness loss 332.20 | Demographic disparity = 0.14\n",
      "Client 2: accuracy loss: 10.99 | fairness loss 112.99 | Demographic disparity = 0.16\n",
      " \n",
      "Avg Training Stats after 6 global rounds:\n",
      "Training loss: 76.85 | Validation accuracy: 62.40% | Validation Demographic disparity: 0.1228\n",
      "\n",
      " | Global Training Round : 7 |\n",
      "\n"
     ]
    },
    {
     "name": "stderr",
     "output_type": "stream",
     "text": [
      "\n",
      "\n",
      " 70%|███████   | 7/10 [00:33<00:14,  4.74s/it]\u001b[A\u001b[A"
     ]
    },
    {
     "name": "stdout",
     "output_type": "stream",
     "text": [
      "Client 1: accuracy loss: 27.01 | fairness loss 374.18 | Demographic disparity = 0.14\n",
      "Client 2: accuracy loss: 11.09 | fairness loss 131.12 | Demographic disparity = 0.17\n",
      " \n",
      "Avg Training Stats after 7 global rounds:\n",
      "Training loss: 76.70 | Validation accuracy: 62.30% | Validation Demographic disparity: 0.1413\n",
      "\n",
      " | Global Training Round : 8 |\n",
      "\n"
     ]
    },
    {
     "name": "stderr",
     "output_type": "stream",
     "text": [
      "\n",
      "\n",
      " 80%|████████  | 8/10 [00:38<00:09,  4.74s/it]\u001b[A\u001b[A"
     ]
    },
    {
     "name": "stdout",
     "output_type": "stream",
     "text": [
      "Client 1: accuracy loss: 27.10 | fairness loss 407.03 | Demographic disparity = 0.14\n",
      "Client 2: accuracy loss: 11.17 | fairness loss 146.44 | Demographic disparity = 0.18\n",
      " \n",
      "Avg Training Stats after 8 global rounds:\n",
      "Training loss: 76.62 | Validation accuracy: 62.49% | Validation Demographic disparity: 0.1274\n",
      "\n",
      " | Global Training Round : 9 |\n",
      "\n"
     ]
    },
    {
     "name": "stderr",
     "output_type": "stream",
     "text": [
      "\n",
      "\n",
      " 90%|█████████ | 9/10 [00:42<00:04,  4.69s/it]\u001b[A\u001b[A"
     ]
    },
    {
     "name": "stdout",
     "output_type": "stream",
     "text": [
      "Client 1: accuracy loss: 27.15 | fairness loss 431.39 | Demographic disparity = 0.13\n",
      "Client 2: accuracy loss: 11.23 | fairness loss 158.86 | Demographic disparity = 0.19\n",
      " \n",
      "Avg Training Stats after 9 global rounds:\n",
      "Training loss: 76.59 | Validation accuracy: 62.70% | Validation Demographic disparity: 0.1336\n",
      "\n",
      " | Global Training Round : 10 |\n",
      "\n"
     ]
    },
    {
     "name": "stderr",
     "output_type": "stream",
     "text": [
      "\n",
      "\n",
      "100%|██████████| 10/10 [00:47<00:00,  4.77s/it]\u001b[A\u001b[A"
     ]
    },
    {
     "name": "stdout",
     "output_type": "stream",
     "text": [
      "Client 1: accuracy loss: 27.17 | fairness loss 449.05 | Demographic disparity = 0.14\n",
      "Client 2: accuracy loss: 11.27 | fairness loss 169.15 | Demographic disparity = 0.21\n",
      " \n",
      "Avg Training Stats after 10 global rounds:\n",
      "Training loss: 76.59 | Validation accuracy: 62.89% | Validation Demographic disparity: 0.1397\n",
      " \n",
      " Results after 10 global rounds of training:\n",
      "|---- Avg Train Accuracy: 62.89%\n",
      "|---- Test Accuracy: 64.82%\n",
      "|---- Test Demographic disparity: 0.1536\n",
      "\n",
      " Total Run Time: 47.7594 sec\n"
     ]
    },
    {
     "name": "stderr",
     "output_type": "stream",
     "text": [
      "\n"
     ]
    }
   ],
   "source": [
    "server = Server(logReg(num_features=compas_num_features, num_classes=2, seed = seed), compas_info, train_prn = False, seed = seed, Z = compas_z)\n",
    "server.Unconstrained(num_rounds = 10, local_epochs = 20, optimizer = 'adam', learning_rate = 0.002)\n"
   ]
  },
  {
   "cell_type": "code",
   "execution_count": 14,
   "metadata": {
    "scrolled": true
   },
   "outputs": [
    {
     "name": "stderr",
     "output_type": "stream",
     "text": [
      "\n",
      "\n",
      "  0%|          | 0/10 [00:00<?, ?it/s]\u001b[A\u001b[A"
     ]
    },
    {
     "name": "stdout",
     "output_type": "stream",
     "text": [
      "\n",
      " | Global Training Round : 1 |\n",
      "\n"
     ]
    },
    {
     "name": "stderr",
     "output_type": "stream",
     "text": [
      "\n",
      "\n",
      " 10%|█         | 1/10 [00:04<00:44,  4.98s/it]\u001b[A\u001b[A"
     ]
    },
    {
     "name": "stdout",
     "output_type": "stream",
     "text": [
      "Client 1: accuracy loss: 28.93 | fairness loss 4.35 | Demographic disparity = 0.11\n",
      "Client 2: accuracy loss: 10.53 | fairness loss 1.69 | Demographic disparity = 0.15\n",
      " \n",
      "Avg Training Stats after 1 global rounds:\n",
      "Training loss: 0.64 | Validation accuracy: 57.90% | Validation Demographic disparity: 0.0998\n",
      "\n",
      " | Global Training Round : 2 |\n",
      "\n"
     ]
    },
    {
     "name": "stderr",
     "output_type": "stream",
     "text": [
      "\n",
      "\n",
      " 20%|██        | 2/10 [00:10<00:40,  5.04s/it]\u001b[A\u001b[A"
     ]
    },
    {
     "name": "stdout",
     "output_type": "stream",
     "text": [
      "Client 1: accuracy loss: 29.04 | fairness loss 3.39 | Demographic disparity = 0.12\n",
      "Client 2: accuracy loss: 10.54 | fairness loss 1.32 | Demographic disparity = 0.12\n",
      " \n",
      "Avg Training Stats after 2 global rounds:\n",
      "Training loss: 0.64 | Validation accuracy: 56.71% | Validation Demographic disparity: 0.0827\n",
      "\n",
      " | Global Training Round : 3 |\n",
      "\n"
     ]
    },
    {
     "name": "stderr",
     "output_type": "stream",
     "text": [
      "\n",
      "\n",
      " 30%|███       | 3/10 [00:15<00:36,  5.18s/it]\u001b[A\u001b[A"
     ]
    },
    {
     "name": "stdout",
     "output_type": "stream",
     "text": [
      "Client 1: accuracy loss: 29.18 | fairness loss 2.60 | Demographic disparity = 0.10\n",
      "Client 2: accuracy loss: 10.55 | fairness loss 1.07 | Demographic disparity = 0.09\n",
      " \n",
      "Avg Training Stats after 3 global rounds:\n",
      "Training loss: 0.65 | Validation accuracy: 57.20% | Validation Demographic disparity: 0.0999\n",
      "\n",
      " | Global Training Round : 4 |\n",
      "\n"
     ]
    },
    {
     "name": "stderr",
     "output_type": "stream",
     "text": [
      "\n",
      "\n",
      " 40%|████      | 4/10 [00:20<00:30,  5.14s/it]\u001b[A\u001b[A"
     ]
    },
    {
     "name": "stdout",
     "output_type": "stream",
     "text": [
      "Client 1: accuracy loss: 29.29 | fairness loss 2.10 | Demographic disparity = 0.11\n",
      "Client 2: accuracy loss: 10.56 | fairness loss 0.93 | Demographic disparity = 0.14\n",
      " \n",
      "Avg Training Stats after 4 global rounds:\n",
      "Training loss: 0.65 | Validation accuracy: 57.99% | Validation Demographic disparity: 0.1045\n",
      "\n",
      " | Global Training Round : 5 |\n",
      "\n"
     ]
    },
    {
     "name": "stderr",
     "output_type": "stream",
     "text": [
      "\n",
      "\n",
      " 50%|█████     | 5/10 [00:25<00:24,  4.95s/it]\u001b[A\u001b[A"
     ]
    },
    {
     "name": "stdout",
     "output_type": "stream",
     "text": [
      "Client 1: accuracy loss: 29.37 | fairness loss 1.75 | Demographic disparity = 0.09\n",
      "Client 2: accuracy loss: 10.57 | fairness loss 0.83 | Demographic disparity = 0.12\n",
      " \n",
      "Avg Training Stats after 5 global rounds:\n",
      "Training loss: 0.65 | Validation accuracy: 57.38% | Validation Demographic disparity: 0.0999\n",
      "\n",
      " | Global Training Round : 6 |\n",
      "\n"
     ]
    },
    {
     "name": "stderr",
     "output_type": "stream",
     "text": [
      "\n",
      "\n",
      " 60%|██████    | 6/10 [00:30<00:19,  4.95s/it]\u001b[A\u001b[A"
     ]
    },
    {
     "name": "stdout",
     "output_type": "stream",
     "text": [
      "Client 1: accuracy loss: 29.44 | fairness loss 1.49 | Demographic disparity = 0.09\n",
      "Client 2: accuracy loss: 10.58 | fairness loss 0.75 | Demographic disparity = 0.11\n",
      " \n",
      "Avg Training Stats after 6 global rounds:\n",
      "Training loss: 0.65 | Validation accuracy: 56.96% | Validation Demographic disparity: 0.0984\n",
      "\n",
      " | Global Training Round : 7 |\n",
      "\n"
     ]
    },
    {
     "name": "stderr",
     "output_type": "stream",
     "text": [
      "\n",
      "\n",
      " 70%|███████   | 7/10 [00:35<00:14,  4.98s/it]\u001b[A\u001b[A"
     ]
    },
    {
     "name": "stdout",
     "output_type": "stream",
     "text": [
      "Client 1: accuracy loss: 29.50 | fairness loss 1.29 | Demographic disparity = 0.10\n",
      "Client 2: accuracy loss: 10.58 | fairness loss 0.69 | Demographic disparity = 0.10\n",
      " \n",
      "Avg Training Stats after 7 global rounds:\n",
      "Training loss: 0.65 | Validation accuracy: 56.26% | Validation Demographic disparity: 0.0984\n",
      "\n",
      " | Global Training Round : 8 |\n",
      "\n"
     ]
    },
    {
     "name": "stderr",
     "output_type": "stream",
     "text": [
      "\n",
      "\n",
      " 80%|████████  | 8/10 [00:39<00:09,  4.83s/it]\u001b[A\u001b[A"
     ]
    },
    {
     "name": "stdout",
     "output_type": "stream",
     "text": [
      "Client 1: accuracy loss: 29.55 | fairness loss 1.12 | Demographic disparity = 0.08\n",
      "Client 2: accuracy loss: 10.59 | fairness loss 0.63 | Demographic disparity = 0.10\n",
      " \n",
      "Avg Training Stats after 8 global rounds:\n",
      "Training loss: 0.66 | Validation accuracy: 55.95% | Validation Demographic disparity: 0.0877\n",
      "\n",
      " | Global Training Round : 9 |\n",
      "\n"
     ]
    },
    {
     "name": "stderr",
     "output_type": "stream",
     "text": [
      "\n",
      "\n",
      " 90%|█████████ | 9/10 [00:44<00:04,  4.80s/it]\u001b[A\u001b[A"
     ]
    },
    {
     "name": "stdout",
     "output_type": "stream",
     "text": [
      "Client 1: accuracy loss: 29.59 | fairness loss 0.99 | Demographic disparity = 0.09\n",
      "Client 2: accuracy loss: 10.59 | fairness loss 0.59 | Demographic disparity = 0.08\n",
      " \n",
      "Avg Training Stats after 9 global rounds:\n",
      "Training loss: 0.66 | Validation accuracy: 54.85% | Validation Demographic disparity: 0.0846\n",
      "\n",
      " | Global Training Round : 10 |\n",
      "\n"
     ]
    },
    {
     "name": "stderr",
     "output_type": "stream",
     "text": [
      "\n",
      "\n",
      "100%|██████████| 10/10 [00:48<00:00,  4.88s/it]\u001b[A\u001b[A"
     ]
    },
    {
     "name": "stdout",
     "output_type": "stream",
     "text": [
      "Client 1: accuracy loss: 29.63 | fairness loss 0.88 | Demographic disparity = 0.07\n",
      "Client 2: accuracy loss: 10.59 | fairness loss 0.55 | Demographic disparity = 0.05\n",
      " \n",
      "Avg Training Stats after 10 global rounds:\n",
      "Training loss: 0.66 | Validation accuracy: 54.54% | Validation Demographic disparity: 0.0646\n",
      " \n",
      " Results after 10 global rounds of training:\n",
      "|---- Avg Train Accuracy: 54.54%\n",
      "|---- Test Accuracy: 55.96%\n",
      "|---- Test Demographic disparity: 0.0370\n",
      "\n",
      " Total Run Time: 48.8840 sec\n"
     ]
    },
    {
     "name": "stderr",
     "output_type": "stream",
     "text": [
      "\n"
     ]
    }
   ],
   "source": [
    "server = Server(logReg(num_features=compas_num_features, num_classes=2, seed = seed), compas_info, train_prn = False, seed = seed, Z = compas_z)\n",
    "server.BiasCorrecting(num_rounds = 10, local_epochs = 20, optimizer = 'adam', learning_rate = 0.002, alpha = 0.2)\n"
   ]
  },
  {
   "cell_type": "code",
   "execution_count": 11,
   "metadata": {
    "scrolled": true
   },
   "outputs": [
    {
     "name": "stderr",
     "output_type": "stream",
     "text": [
      "\n",
      "\n",
      "  0%|          | 0/2 [00:00<?, ?it/s]\u001b[A\u001b[A"
     ]
    },
    {
     "name": "stdout",
     "output_type": "stream",
     "text": [
      "\n",
      " | Testing Round : 1 | constraint :  Cov(z, d) < c\n",
      "\n"
     ]
    },
    {
     "name": "stderr",
     "output_type": "stream",
     "text": [
      "\n",
      "\n",
      " 50%|█████     | 1/2 [00:03<00:03,  3.90s/it]\u001b[A\u001b[A"
     ]
    },
    {
     "name": "stdout",
     "output_type": "stream",
     "text": [
      "Client 1: accuracy loss: 30.53 | fairness loss 1058409.74 | Demographic disparity = 0.39\n",
      "Client 2: accuracy loss: 18.16 | fairness loss 963626.66 | Demographic disparity = 0.59\n",
      " \n",
      "Avg Training Stats after 1 Testing rounds:\n",
      "Training loss: -1980.25 | Validation accuracy: 53.55% | Validation Demographic disparity: 0.4395\n",
      "\n",
      " | Testing Round : 2 | constraint :  Cov(z, d) < c\n",
      "\n"
     ]
    },
    {
     "name": "stderr",
     "output_type": "stream",
     "text": [
      "\n",
      "\n",
      "100%|██████████| 2/2 [00:07<00:00,  3.94s/it]\u001b[A\u001b[A\n",
      "\n",
      "\n",
      "  0%|          | 0/2 [00:00<?, ?it/s]\u001b[A\u001b[A"
     ]
    },
    {
     "name": "stdout",
     "output_type": "stream",
     "text": [
      "Client 1: accuracy loss: 36.36 | fairness loss 4294276.41 | Demographic disparity = 0.27\n",
      "Client 2: accuracy loss: 30.80 | fairness loss 3906324.86 | Demographic disparity = 0.52\n",
      " \n",
      "Avg Training Stats after 2 Testing rounds:\n",
      "Training loss: -4868.21 | Validation accuracy: 52.91% | Validation Demographic disparity: 0.3359\n",
      "\n",
      " | Testing Round : 1 | constraint :  Cov(z, d) > -c\n",
      "\n"
     ]
    },
    {
     "name": "stderr",
     "output_type": "stream",
     "text": [
      "\n",
      "\n",
      " 50%|█████     | 1/2 [00:03<00:03,  3.71s/it]\u001b[A\u001b[A"
     ]
    },
    {
     "name": "stdout",
     "output_type": "stream",
     "text": [
      "Client 1: accuracy loss: 35.14 | fairness loss 1053457.79 | Demographic disparity = 0.45\n",
      "Client 2: accuracy loss: 15.97 | fairness loss 965740.59 | Demographic disparity = 0.18\n",
      " \n",
      "Avg Training Stats after 1 Testing rounds:\n",
      "Training loss: -3908.97 | Validation accuracy: 55.67% | Validation Demographic disparity: 0.4351\n",
      "\n",
      " | Testing Round : 2 | constraint :  Cov(z, d) > -c\n",
      "\n"
     ]
    },
    {
     "name": "stderr",
     "output_type": "stream",
     "text": [
      "\n",
      "\n",
      "100%|██████████| 2/2 [00:07<00:00,  3.97s/it]\u001b[A\u001b[A\n",
      "\n",
      "\n",
      "  0%|          | 0/6 [00:00<?, ?it/s]\u001b[A\u001b[A"
     ]
    },
    {
     "name": "stdout",
     "output_type": "stream",
     "text": [
      "Client 1: accuracy loss: 42.23 | fairness loss 4268282.45 | Demographic disparity = 0.16\n",
      "Client 2: accuracy loss: 26.38 | fairness loss 3907407.26 | Demographic disparity = 0.04\n",
      " \n",
      "Avg Training Stats after 2 Testing rounds:\n",
      "Training loss: -4875.55 | Validation accuracy: 51.63% | Validation Demographic disparity: 0.1323\n",
      "\n",
      " | Global Round : 1 | constraint :  Cov(z, d) > -c\n",
      "\n"
     ]
    },
    {
     "name": "stderr",
     "output_type": "stream",
     "text": [
      "\n",
      "\n",
      " 17%|█▋        | 1/6 [00:04<00:21,  4.25s/it]\u001b[A\u001b[A"
     ]
    },
    {
     "name": "stdout",
     "output_type": "stream",
     "text": [
      "Client 1: accuracy loss: 43.70 | fairness loss 4986823.41 | Demographic disparity = 0.15\n",
      "Client 2: accuracy loss: 27.86 | fairness loss 4562968.90 | Demographic disparity = 0.03\n",
      " \n",
      "Avg Training Stats after 1 global rounds:\n",
      "Training loss: -6264.41 | Validation accuracy: 50.10% | Validation Demographic disparity: 0.1154\n",
      "\n",
      " | Global Round : 2 | constraint :  Cov(z, d) > -c\n",
      "\n"
     ]
    },
    {
     "name": "stderr",
     "output_type": "stream",
     "text": [
      "\n",
      "\n",
      " 33%|███▎      | 2/6 [00:08<00:16,  4.16s/it]\u001b[A\u001b[A"
     ]
    },
    {
     "name": "stdout",
     "output_type": "stream",
     "text": [
      "Client 1: accuracy loss: 45.58 | fairness loss 5761799.28 | Demographic disparity = 0.12\n",
      "Client 2: accuracy loss: 29.73 | fairness loss 5269494.03 | Demographic disparity = 0.02\n",
      " \n",
      "Avg Training Stats after 2 global rounds:\n",
      "Training loss: -7345.43 | Validation accuracy: 49.18% | Validation Demographic disparity: 0.0985\n",
      "\n",
      " | Global Round : 3 | constraint :  Cov(z, d) > -c\n",
      "\n"
     ]
    },
    {
     "name": "stderr",
     "output_type": "stream",
     "text": [
      "\n",
      "\n",
      " 50%|█████     | 3/6 [00:12<00:12,  4.11s/it]\u001b[A\u001b[A"
     ]
    },
    {
     "name": "stdout",
     "output_type": "stream",
     "text": [
      "Client 1: accuracy loss: 47.48 | fairness loss 6593045.77 | Demographic disparity = 0.10\n",
      "Client 2: accuracy loss: 31.62 | fairness loss 6027240.13 | Demographic disparity = 0.02\n",
      " \n",
      "Avg Training Stats after 3 global rounds:\n",
      "Training loss: -8250.48 | Validation accuracy: 48.44% | Validation Demographic disparity: 0.0815\n",
      "\n",
      " | Global Round : 4 | constraint :  Cov(z, d) > -c\n",
      "\n"
     ]
    },
    {
     "name": "stderr",
     "output_type": "stream",
     "text": [
      "\n",
      "\n",
      " 67%|██████▋   | 4/6 [00:17<00:08,  4.48s/it]\u001b[A\u001b[A"
     ]
    },
    {
     "name": "stdout",
     "output_type": "stream",
     "text": [
      "Client 1: accuracy loss: 49.38 | fairness loss 7480617.77 | Demographic disparity = 0.10\n",
      "Client 2: accuracy loss: 33.52 | fairness loss 6836298.21 | Demographic disparity = 0.02\n",
      " \n",
      "Avg Training Stats after 4 global rounds:\n",
      "Training loss: -9045.57 | Validation accuracy: 48.54% | Validation Demographic disparity: 0.0769\n",
      "\n",
      " | Global Round : 5 | constraint :  Cov(z, d) > -c\n",
      "\n"
     ]
    },
    {
     "name": "stderr",
     "output_type": "stream",
     "text": [
      "\n",
      "\n",
      " 83%|████████▎ | 5/6 [00:22<00:04,  4.52s/it]\u001b[A\u001b[A"
     ]
    },
    {
     "name": "stdout",
     "output_type": "stream",
     "text": [
      "Client 1: accuracy loss: 51.29 | fairness loss 8424512.77 | Demographic disparity = 0.09\n",
      "Client 2: accuracy loss: 35.43 | fairness loss 7696686.70 | Demographic disparity = 0.02\n",
      " \n",
      "Avg Training Stats after 5 global rounds:\n",
      "Training loss: -9767.36 | Validation accuracy: 48.44% | Validation Demographic disparity: 0.0692\n",
      "\n",
      " | Global Round : 6 | constraint :  Cov(z, d) > -c\n",
      "\n"
     ]
    },
    {
     "name": "stderr",
     "output_type": "stream",
     "text": [
      "\n",
      "\n",
      "100%|██████████| 6/6 [00:26<00:00,  4.46s/it]\u001b[A\u001b[A"
     ]
    },
    {
     "name": "stdout",
     "output_type": "stream",
     "text": [
      "Client 1: accuracy loss: 53.20 | fairness loss 9424731.93 | Demographic disparity = 0.09\n",
      "Client 2: accuracy loss: 37.34 | fairness loss 8608421.63 | Demographic disparity = 0.02\n",
      " \n",
      "Avg Training Stats after 6 global rounds:\n",
      "Training loss: -10437.85 | Validation accuracy: 48.44% | Validation Demographic disparity: 0.0692\n",
      " \n",
      " Results after 6 global rounds of training:\n",
      "|---- Avg Train Accuracy: 48.44%\n",
      "|---- Test Accuracy: 48.48%\n",
      "|---- Test Demographic disparity: 0.0831\n",
      "\n",
      " Total Run Time: 42.6070 sec\n"
     ]
    },
    {
     "name": "stderr",
     "output_type": "stream",
     "text": [
      "\n"
     ]
    }
   ],
   "source": [
    "server = Server(logReg(num_features=compas_num_features, num_classes=2, seed = seed), compas_info, train_prn = False, seed = seed, Z = compas_z)\n",
    "server.Zafar(test_rounds = 2, test_lr = 0.05, test_penalty = 200, num_rounds = 6, local_epochs = 20, optimizer = 'adam', learning_rate = 0.008, penalty = 200)"
   ]
  },
  {
   "cell_type": "code",
   "execution_count": 12,
   "metadata": {
    "scrolled": true
   },
   "outputs": [
    {
     "name": "stderr",
     "output_type": "stream",
     "text": [
      "\n",
      "\n",
      "  0%|          | 0/10 [00:00<?, ?it/s]\u001b[A\u001b[A"
     ]
    },
    {
     "name": "stdout",
     "output_type": "stream",
     "text": [
      "\n",
      " | Global Training Round : 1 |\n",
      "\n"
     ]
    },
    {
     "name": "stderr",
     "output_type": "stream",
     "text": [
      "\n",
      "\n",
      " 10%|█         | 1/10 [00:04<00:44,  4.97s/it]\u001b[A\u001b[A"
     ]
    },
    {
     "name": "stdout",
     "output_type": "stream",
     "text": [
      "Client 1: accuracy loss: 27.89 | fairness loss 2.03 | Demographic disparity = 0.08\n",
      "Client 2: accuracy loss: 10.74 | fairness loss 0.77 | Demographic disparity = 0.09\n",
      " \n",
      "Avg Training Stats after 1 global rounds:\n",
      "Training loss: 83.68 | Validation accuracy: 54.67% | Validation Demographic disparity: 0.0605\n",
      "\n",
      " | Global Training Round : 2 |\n",
      "\n"
     ]
    },
    {
     "name": "stderr",
     "output_type": "stream",
     "text": [
      "\n",
      "\n",
      " 20%|██        | 2/10 [00:09<00:39,  4.98s/it]\u001b[A\u001b[A"
     ]
    },
    {
     "name": "stdout",
     "output_type": "stream",
     "text": [
      "Client 1: accuracy loss: 27.73 | fairness loss 2.55 | Demographic disparity = 0.08\n",
      "Client 2: accuracy loss: 10.76 | fairness loss 0.97 | Demographic disparity = 0.08\n",
      " \n",
      "Avg Training Stats after 2 global rounds:\n",
      "Training loss: 83.17 | Validation accuracy: 54.98% | Validation Demographic disparity: 0.0627\n",
      "\n",
      " | Global Training Round : 3 |\n",
      "\n"
     ]
    },
    {
     "name": "stderr",
     "output_type": "stream",
     "text": [
      "\n",
      "\n",
      " 30%|███       | 3/10 [00:15<00:35,  5.01s/it]\u001b[A\u001b[A"
     ]
    },
    {
     "name": "stdout",
     "output_type": "stream",
     "text": [
      "Client 1: accuracy loss: 27.70 | fairness loss 2.78 | Demographic disparity = 0.08\n",
      "Client 2: accuracy loss: 10.78 | fairness loss 1.12 | Demographic disparity = 0.08\n",
      " \n",
      "Avg Training Stats after 3 global rounds:\n",
      "Training loss: 83.06 | Validation accuracy: 55.68% | Validation Demographic disparity: 0.0685\n",
      "\n",
      " | Global Training Round : 4 |\n",
      "\n"
     ]
    },
    {
     "name": "stderr",
     "output_type": "stream",
     "text": [
      "\n",
      "\n",
      " 40%|████      | 4/10 [00:20<00:30,  5.04s/it]\u001b[A\u001b[A"
     ]
    },
    {
     "name": "stdout",
     "output_type": "stream",
     "text": [
      "Client 1: accuracy loss: 27.69 | fairness loss 2.98 | Demographic disparity = 0.08\n",
      "Client 2: accuracy loss: 10.80 | fairness loss 1.30 | Demographic disparity = 0.08\n",
      " \n",
      "Avg Training Stats after 4 global rounds:\n",
      "Training loss: 83.08 | Validation accuracy: 55.68% | Validation Demographic disparity: 0.0685\n",
      "\n",
      " | Global Training Round : 5 |\n",
      "\n"
     ]
    },
    {
     "name": "stderr",
     "output_type": "stream",
     "text": [
      "\n",
      "\n",
      " 50%|█████     | 5/10 [00:25<00:25,  5.14s/it]\u001b[A\u001b[A"
     ]
    },
    {
     "name": "stdout",
     "output_type": "stream",
     "text": [
      "Client 1: accuracy loss: 27.68 | fairness loss 3.16 | Demographic disparity = 0.08\n",
      "Client 2: accuracy loss: 10.83 | fairness loss 1.53 | Demographic disparity = 0.08\n",
      " \n",
      "Avg Training Stats after 5 global rounds:\n",
      "Training loss: 83.18 | Validation accuracy: 55.58% | Validation Demographic disparity: 0.0670\n",
      "\n",
      " | Global Training Round : 6 |\n",
      "\n"
     ]
    },
    {
     "name": "stderr",
     "output_type": "stream",
     "text": [
      "\n",
      "\n",
      " 60%|██████    | 6/10 [00:30<00:20,  5.09s/it]\u001b[A\u001b[A"
     ]
    },
    {
     "name": "stdout",
     "output_type": "stream",
     "text": [
      "Client 1: accuracy loss: 27.67 | fairness loss 3.30 | Demographic disparity = 0.08\n",
      "Client 2: accuracy loss: 10.85 | fairness loss 1.75 | Demographic disparity = 0.08\n",
      " \n",
      "Avg Training Stats after 6 global rounds:\n",
      "Training loss: 83.33 | Validation accuracy: 55.58% | Validation Demographic disparity: 0.0676\n",
      "\n",
      " | Global Training Round : 7 |\n",
      "\n"
     ]
    },
    {
     "name": "stderr",
     "output_type": "stream",
     "text": [
      "\n",
      "\n",
      " 70%|███████   | 7/10 [00:35<00:15,  5.04s/it]\u001b[A\u001b[A"
     ]
    },
    {
     "name": "stdout",
     "output_type": "stream",
     "text": [
      "Client 1: accuracy loss: 27.67 | fairness loss 3.41 | Demographic disparity = 0.08\n",
      "Client 2: accuracy loss: 10.86 | fairness loss 1.94 | Demographic disparity = 0.07\n",
      " \n",
      "Avg Training Stats after 7 global rounds:\n",
      "Training loss: 83.49 | Validation accuracy: 55.88% | Validation Demographic disparity: 0.0676\n",
      "\n",
      " | Global Training Round : 8 |\n",
      "\n"
     ]
    },
    {
     "name": "stderr",
     "output_type": "stream",
     "text": [
      "\n",
      "\n",
      " 80%|████████  | 8/10 [00:40<00:10,  5.12s/it]\u001b[A\u001b[A"
     ]
    },
    {
     "name": "stdout",
     "output_type": "stream",
     "text": [
      "Client 1: accuracy loss: 27.67 | fairness loss 3.48 | Demographic disparity = 0.08\n",
      "Client 2: accuracy loss: 10.87 | fairness loss 2.06 | Demographic disparity = 0.07\n",
      " \n",
      "Avg Training Stats after 8 global rounds:\n",
      "Training loss: 83.65 | Validation accuracy: 55.88% | Validation Demographic disparity: 0.0676\n",
      "\n",
      " | Global Training Round : 9 |\n",
      "\n"
     ]
    },
    {
     "name": "stderr",
     "output_type": "stream",
     "text": [
      "\n",
      "\n",
      " 90%|█████████ | 9/10 [00:45<00:04,  4.89s/it]\u001b[A\u001b[A"
     ]
    },
    {
     "name": "stdout",
     "output_type": "stream",
     "text": [
      "Client 1: accuracy loss: 27.67 | fairness loss 3.50 | Demographic disparity = 0.08\n",
      "Client 2: accuracy loss: 10.88 | fairness loss 2.14 | Demographic disparity = 0.07\n",
      " \n",
      "Avg Training Stats after 9 global rounds:\n",
      "Training loss: 83.79 | Validation accuracy: 55.88% | Validation Demographic disparity: 0.0676\n",
      "\n",
      " | Global Training Round : 10 |\n",
      "\n"
     ]
    },
    {
     "name": "stderr",
     "output_type": "stream",
     "text": [
      "\n",
      "\n",
      "100%|██████████| 10/10 [00:49<00:00,  4.99s/it]\u001b[A\u001b[A"
     ]
    },
    {
     "name": "stdout",
     "output_type": "stream",
     "text": [
      "Client 1: accuracy loss: 27.67 | fairness loss 3.52 | Demographic disparity = 0.08\n",
      "Client 2: accuracy loss: 10.88 | fairness loss 2.16 | Demographic disparity = 0.07\n",
      " \n",
      "Avg Training Stats after 10 global rounds:\n",
      "Training loss: 83.91 | Validation accuracy: 56.17% | Validation Demographic disparity: 0.0692\n",
      " \n",
      " Results after 10 global rounds of training:\n",
      "|---- Avg Train Accuracy: 56.17%\n",
      "|---- Test Accuracy: 57.48%\n",
      "|---- Test Demographic disparity: 0.0622\n",
      "\n",
      " Total Run Time: 49.9020 sec\n"
     ]
    },
    {
     "name": "stderr",
     "output_type": "stream",
     "text": [
      "\n"
     ]
    }
   ],
   "source": [
    "server = Server(logReg(num_features=compas_num_features, num_classes=2, seed = seed), compas_info, train_prn = False, seed = seed, Z = compas_z)\n",
    "server.LocalZafar(num_rounds = 10, local_epochs = 20, optimizer = 'adam', learning_rate = 0.002, penalty = 100)"
   ]
  },
  {
   "cell_type": "code",
   "execution_count": 4,
   "metadata": {
    "scrolled": true
   },
   "outputs": [
    {
     "name": "stderr",
     "output_type": "stream",
     "text": [
      "\r",
      "  0%|          | 0/10 [00:00<?, ?it/s]"
     ]
    },
    {
     "name": "stdout",
     "output_type": "stream",
     "text": [
      "\n",
      " | Global Training Round : 1 |\n",
      "\n"
     ]
    },
    {
     "name": "stderr",
     "output_type": "stream",
     "text": [
      "\r",
      " 10%|█         | 1/10 [00:05<00:52,  5.79s/it]"
     ]
    },
    {
     "name": "stdout",
     "output_type": "stream",
     "text": [
      "Client 1: predictor loss: 26.37 | adversary loss 1.11 | Demographic disparity = 0.16\n",
      "Client 2: predictor loss: 10.83 | adversary loss 1.16 | Demographic disparity = 0.14\n",
      " \n",
      "Avg Training Stats after 1 global rounds:\n",
      "Training loss: 0.60 | Validation accuracy: 59.70% | Validation Demographic disparity: 0.1522\n",
      "\n",
      " | Global Training Round : 2 |\n",
      "\n"
     ]
    },
    {
     "name": "stderr",
     "output_type": "stream",
     "text": [
      "\r",
      " 20%|██        | 2/10 [00:11<00:45,  5.75s/it]"
     ]
    },
    {
     "name": "stdout",
     "output_type": "stream",
     "text": [
      "Client 1: predictor loss: 45.88 | adversary loss 1.10 | Demographic disparity = 0.05\n",
      "Client 2: predictor loss: 13.24 | adversary loss 1.13 | Demographic disparity = 0.05\n",
      " \n",
      "Avg Training Stats after 2 global rounds:\n",
      "Training loss: 0.60 | Validation accuracy: 49.59% | Validation Demographic disparity: 0.0431\n",
      "\n",
      " | Global Training Round : 3 |\n",
      "\n"
     ]
    },
    {
     "name": "stderr",
     "output_type": "stream",
     "text": [
      "\r",
      " 30%|███       | 3/10 [00:18<00:43,  6.15s/it]"
     ]
    },
    {
     "name": "stdout",
     "output_type": "stream",
     "text": [
      "Client 1: predictor loss: 57.42 | adversary loss 1.16 | Demographic disparity = 0.04\n",
      "Client 2: predictor loss: 14.64 | adversary loss 1.15 | Demographic disparity = 0.15\n",
      " \n",
      "Avg Training Stats after 3 global rounds:\n",
      "Training loss: 0.73 | Validation accuracy: 46.84% | Validation Demographic disparity: 0.0693\n",
      "\n",
      " | Global Training Round : 4 |\n",
      "\n"
     ]
    },
    {
     "name": "stderr",
     "output_type": "stream",
     "text": [
      "\r",
      " 40%|████      | 4/10 [00:23<00:35,  5.88s/it]"
     ]
    },
    {
     "name": "stdout",
     "output_type": "stream",
     "text": [
      "Client 1: predictor loss: 41.07 | adversary loss 1.16 | Demographic disparity = 0.11\n",
      "Client 2: predictor loss: 14.21 | adversary loss 1.14 | Demographic disparity = 0.21\n",
      " \n",
      "Avg Training Stats after 4 global rounds:\n",
      "Training loss: 0.77 | Validation accuracy: 49.70% | Validation Demographic disparity: 0.1128\n",
      "\n",
      " | Global Training Round : 5 |\n",
      "\n"
     ]
    },
    {
     "name": "stderr",
     "output_type": "stream",
     "text": [
      "\r",
      " 50%|█████     | 5/10 [00:29<00:28,  5.69s/it]"
     ]
    },
    {
     "name": "stdout",
     "output_type": "stream",
     "text": [
      "Client 1: predictor loss: 41.20 | adversary loss 1.17 | Demographic disparity = 0.04\n",
      "Client 2: predictor loss: 15.64 | adversary loss 1.15 | Demographic disparity = 0.33\n",
      " \n",
      "Avg Training Stats after 5 global rounds:\n",
      "Training loss: 0.77 | Validation accuracy: 49.20% | Validation Demographic disparity: 0.1162\n",
      "\n",
      " | Global Training Round : 6 |\n",
      "\n"
     ]
    },
    {
     "name": "stderr",
     "output_type": "stream",
     "text": [
      "\r",
      " 60%|██████    | 6/10 [00:34<00:22,  5.63s/it]"
     ]
    },
    {
     "name": "stdout",
     "output_type": "stream",
     "text": [
      "Client 1: predictor loss: 45.06 | adversary loss 1.17 | Demographic disparity = 0.05\n",
      "Client 2: predictor loss: 17.09 | adversary loss 1.15 | Demographic disparity = 0.23\n",
      " \n",
      "Avg Training Stats after 6 global rounds:\n",
      "Training loss: 0.79 | Validation accuracy: 46.19% | Validation Demographic disparity: 0.0530\n",
      "\n",
      " | Global Training Round : 7 |\n",
      "\n"
     ]
    },
    {
     "name": "stderr",
     "output_type": "stream",
     "text": [
      "\r",
      " 70%|███████   | 7/10 [00:40<00:17,  5.73s/it]"
     ]
    },
    {
     "name": "stdout",
     "output_type": "stream",
     "text": [
      "Client 1: predictor loss: 49.79 | adversary loss 1.17 | Demographic disparity = 0.06\n",
      "Client 2: predictor loss: 19.56 | adversary loss 1.15 | Demographic disparity = 0.18\n",
      " \n",
      "Avg Training Stats after 7 global rounds:\n",
      "Training loss: 0.81 | Validation accuracy: 46.39% | Validation Demographic disparity: 0.0513\n",
      "\n",
      " | Global Training Round : 8 |\n",
      "\n"
     ]
    },
    {
     "name": "stderr",
     "output_type": "stream",
     "text": [
      "\r",
      " 80%|████████  | 8/10 [00:46<00:11,  5.75s/it]"
     ]
    },
    {
     "name": "stdout",
     "output_type": "stream",
     "text": [
      "Client 1: predictor loss: 56.58 | adversary loss 1.17 | Demographic disparity = 0.05\n",
      "Client 2: predictor loss: 22.73 | adversary loss 1.15 | Demographic disparity = 0.11\n",
      " \n",
      "Avg Training Stats after 8 global rounds:\n",
      "Training loss: 0.85 | Validation accuracy: 46.52% | Validation Demographic disparity: 0.0498\n",
      "\n",
      " | Global Training Round : 9 |\n",
      "\n"
     ]
    },
    {
     "name": "stderr",
     "output_type": "stream",
     "text": [
      "\r",
      " 90%|█████████ | 9/10 [00:51<00:05,  5.73s/it]"
     ]
    },
    {
     "name": "stdout",
     "output_type": "stream",
     "text": [
      "Client 1: predictor loss: 65.02 | adversary loss 1.17 | Demographic disparity = 0.05\n",
      "Client 2: predictor loss: 26.71 | adversary loss 1.15 | Demographic disparity = 0.13\n",
      " \n",
      "Avg Training Stats after 9 global rounds:\n",
      "Training loss: 0.89 | Validation accuracy: 46.93% | Validation Demographic disparity: 0.0358\n",
      "\n",
      " | Global Training Round : 10 |\n",
      "\n"
     ]
    },
    {
     "name": "stderr",
     "output_type": "stream",
     "text": [
      "100%|██████████| 10/10 [00:57<00:00,  5.76s/it]"
     ]
    },
    {
     "name": "stdout",
     "output_type": "stream",
     "text": [
      "Client 1: predictor loss: 73.39 | adversary loss 1.17 | Demographic disparity = 0.08\n",
      "Client 2: predictor loss: 30.48 | adversary loss 1.15 | Demographic disparity = 0.05\n",
      " \n",
      "Avg Training Stats after 10 global rounds:\n",
      "Training loss: 0.95 | Validation accuracy: 47.35% | Validation Demographic disparity: 0.0635\n",
      " \n",
      " Results after 10 global rounds of training:\n",
      "|---- Avg Train Accuracy: 47.35%\n",
      "|---- Test Accuracy: 49.86%\n",
      "|---- Test Demographic disparity: 0.0408\n",
      "\n",
      " Total Run Time: 57.6825 sec\n"
     ]
    },
    {
     "name": "stderr",
     "output_type": "stream",
     "text": [
      "\n"
     ]
    }
   ],
   "source": [
    "server = Server(logReg(num_features=compas_num_features, num_classes=2, seed = seed), compas_info, train_prn = False, metric = \"Demographic disparity\", seed = seed, Z = compas_z)\n",
    "server.FTrain(num_rounds = 10, local_epochs = 30, init_epochs = 50, lr_g = 0.005, lr_d = 0.01, lambda_d = 1)"
   ]
  },
  {
   "cell_type": "code",
   "execution_count": 10,
   "metadata": {
    "scrolled": true
   },
   "outputs": [
    {
     "name": "stderr",
     "output_type": "stream",
     "text": [
      "\n",
      "  0%|          | 0/2 [00:00<?, ?it/s]\u001b[A"
     ]
    },
    {
     "name": "stdout",
     "output_type": "stream",
     "text": [
      "\n",
      " | Global Training Round : 1 |\n",
      "\n"
     ]
    },
    {
     "name": "stderr",
     "output_type": "stream",
     "text": [
      "\n",
      " 50%|█████     | 1/2 [00:04<00:04,  4.92s/it]\u001b[A"
     ]
    },
    {
     "name": "stdout",
     "output_type": "stream",
     "text": [
      "Client 1: accuracy loss: 26.30 | fairness loss 114.51 | Demographic disparity = 0.12\n",
      "Client 2: accuracy loss: 10.54 | fairness loss 39.49 | Demographic disparity = 0.03\n",
      " \n",
      "Avg Training Stats after 1 global rounds:\n",
      "Training loss: 78.90 | Validation accuracy: 59.40% | Validation Demographic disparity: 0.0808\n",
      "\n",
      " | Global Training Round : 2 |\n",
      "\n"
     ]
    },
    {
     "name": "stderr",
     "output_type": "stream",
     "text": [
      "\n",
      "100%|██████████| 2/2 [00:09<00:00,  4.65s/it]\u001b[A\n",
      "\n",
      "  0%|          | 0/8 [00:00<?, ?it/s]\u001b[A"
     ]
    },
    {
     "name": "stdout",
     "output_type": "stream",
     "text": [
      "Client 1: accuracy loss: 26.44 | fairness loss 213.50 | Demographic disparity = 0.13\n",
      "Client 2: accuracy loss: 10.66 | fairness loss 68.80 | Demographic disparity = 0.08\n",
      " \n",
      "Avg Training Stats after 2 global rounds:\n",
      "Training loss: 76.93 | Validation accuracy: 61.90% | Validation Demographic disparity: 0.0762\n",
      " \n",
      " Results after 2 global rounds of training:\n",
      "|---- Avg Train Accuracy: 61.90%\n",
      "|---- Test Accuracy: 63.99%\n",
      "|---- Test Demographic disparity: 0.1038\n",
      "\n",
      " Total Run Time: 9.3248 sec\n"
     ]
    },
    {
     "name": "stderr",
     "output_type": "stream",
     "text": [
      "\n",
      " 12%|█▎        | 1/8 [00:04<00:29,  4.24s/it]\u001b[A"
     ]
    },
    {
     "name": "stdout",
     "output_type": "stream",
     "text": [
      " \n",
      "Avg Training Stats after 1 threshold adjusting global rounds:\n",
      "Training loss: 83.79 | Validation accuracy: 61.19% | Validation Demographic disparity: 0.0750\n"
     ]
    },
    {
     "name": "stderr",
     "output_type": "stream",
     "text": [
      "\n",
      " 25%|██▌       | 2/8 [00:08<00:24,  4.12s/it]\u001b[A"
     ]
    },
    {
     "name": "stdout",
     "output_type": "stream",
     "text": [
      " \n",
      "Avg Training Stats after 2 threshold adjusting global rounds:\n",
      "Training loss: 83.99 | Validation accuracy: 60.45% | Validation Demographic disparity: 0.0618\n"
     ]
    },
    {
     "name": "stderr",
     "output_type": "stream",
     "text": [
      "\n",
      " 38%|███▊      | 3/8 [00:11<00:20,  4.04s/it]\u001b[A"
     ]
    },
    {
     "name": "stdout",
     "output_type": "stream",
     "text": [
      " \n",
      "Avg Training Stats after 3 threshold adjusting global rounds:\n",
      "Training loss: 84.25 | Validation accuracy: 61.02% | Validation Demographic disparity: 0.0485\n"
     ]
    },
    {
     "name": "stderr",
     "output_type": "stream",
     "text": [
      "\n",
      " 50%|█████     | 4/8 [00:15<00:15,  3.98s/it]\u001b[A"
     ]
    },
    {
     "name": "stdout",
     "output_type": "stream",
     "text": [
      " \n",
      "Avg Training Stats after 4 threshold adjusting global rounds:\n",
      "Training loss: 84.57 | Validation accuracy: 61.02% | Validation Demographic disparity: 0.0371\n"
     ]
    },
    {
     "name": "stderr",
     "output_type": "stream",
     "text": [
      "\n",
      " 62%|██████▎   | 5/8 [00:19<00:11,  3.91s/it]\u001b[A"
     ]
    },
    {
     "name": "stdout",
     "output_type": "stream",
     "text": [
      " \n",
      "Avg Training Stats after 5 threshold adjusting global rounds:\n",
      "Training loss: 84.94 | Validation accuracy: 60.76% | Validation Demographic disparity: 0.0296\n"
     ]
    },
    {
     "name": "stderr",
     "output_type": "stream",
     "text": [
      "\n",
      " 75%|███████▌  | 6/8 [00:23<00:07,  3.90s/it]\u001b[A"
     ]
    },
    {
     "name": "stdout",
     "output_type": "stream",
     "text": [
      " \n",
      "Avg Training Stats after 6 threshold adjusting global rounds:\n",
      "Training loss: 85.37 | Validation accuracy: 60.15% | Validation Demographic disparity: 0.0182\n"
     ]
    },
    {
     "name": "stderr",
     "output_type": "stream",
     "text": [
      "\n",
      " 88%|████████▊ | 7/8 [00:27<00:03,  3.96s/it]\u001b[A"
     ]
    },
    {
     "name": "stdout",
     "output_type": "stream",
     "text": [
      " \n",
      "Avg Training Stats after 7 threshold adjusting global rounds:\n",
      "Training loss: 85.85 | Validation accuracy: 60.23% | Validation Demographic disparity: 0.0068\n"
     ]
    },
    {
     "name": "stderr",
     "output_type": "stream",
     "text": [
      "\n",
      "100%|██████████| 8/8 [00:31<00:00,  3.98s/it]\u001b[A"
     ]
    },
    {
     "name": "stdout",
     "output_type": "stream",
     "text": [
      " \n",
      "Avg Training Stats after 8 threshold adjusting global rounds:\n",
      "Training loss: 86.39 | Validation accuracy: 59.36% | Validation Demographic disparity: 0.0045\n",
      " \n",
      " Results after 8 global rounds of training:\n",
      "|---- Test Accuracy: 60.64%\n",
      "|---- Test Demographic disparity: 0.0044\n",
      "\n",
      " Total Run Time: 31.8557 sec\n"
     ]
    },
    {
     "name": "stderr",
     "output_type": "stream",
     "text": [
      "\n"
     ]
    }
   ],
   "source": [
    "server = Server(logReg(num_features=compas_num_features, num_classes=2, seed = seed), compas_info, train_prn = False, seed = seed)\n",
    "server.Unconstrained(num_rounds = 2, local_epochs = 20, optimizer = 'adam', learning_rate = 0.004)\n",
    "server.ThresholdAdjust(num_rounds = 8, local_epochs = 20, epsilon = 0.0001, learning_rate = 0.0004)"
   ]
  },
  {
   "cell_type": "code",
   "execution_count": null,
   "metadata": {},
   "outputs": [],
   "source": []
  }
 ],
 "metadata": {
  "kernelspec": {
   "display_name": "Python 3",
   "language": "python",
   "name": "python3"
  },
  "language_info": {
   "codemirror_mode": {
    "name": "ipython",
    "version": 3
   },
   "file_extension": ".py",
   "mimetype": "text/x-python",
   "name": "python",
   "nbconvert_exporter": "python",
   "pygments_lexer": "ipython3",
   "version": "3.7.4"
  }
 },
 "nbformat": 4,
 "nbformat_minor": 2
}
