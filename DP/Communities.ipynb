{
 "cells": [
  {
   "cell_type": "code",
   "execution_count": 1,
   "metadata": {},
   "outputs": [],
   "source": [
    "from Server import *\n",
    "from load_communities import *\n",
    "seed  = 123"
   ]
  },
  {
   "cell_type": "code",
   "execution_count": 4,
   "metadata": {
    "scrolled": true
   },
   "outputs": [
    {
     "name": "stderr",
     "output_type": "stream",
     "text": [
      "\r",
      "  0%|          | 0/5 [00:00<?, ?it/s]"
     ]
    },
    {
     "name": "stdout",
     "output_type": "stream",
     "text": [
      "\n",
      " | Global Training Round : 1 |\n",
      "\n"
     ]
    },
    {
     "name": "stderr",
     "output_type": "stream",
     "text": [
      "\r",
      " 20%|██        | 1/5 [00:01<00:06,  1.53s/it]"
     ]
    },
    {
     "name": "stdout",
     "output_type": "stream",
     "text": [
      "Client 1: accuracy loss: 1.80 | fairness loss 1.29 | Demographic disparity = 0.00\n",
      "Client 2: accuracy loss: 1.99 | fairness loss 2.28 | Demographic disparity = 0.00\n",
      " \n",
      "Avg Training Stats after 1 global rounds:\n",
      "Training loss: 30.23 | Validation accuracy: 94.54% | Validation Demographic disparity: 0.0000\n",
      "\n",
      " | Global Training Round : 2 |\n",
      "\n"
     ]
    },
    {
     "name": "stderr",
     "output_type": "stream",
     "text": [
      "\r",
      " 40%|████      | 2/5 [00:02<00:04,  1.48s/it]"
     ]
    },
    {
     "name": "stdout",
     "output_type": "stream",
     "text": [
      "Client 1: accuracy loss: 1.76 | fairness loss 0.81 | Demographic disparity = 0.00\n",
      "Client 2: accuracy loss: 1.93 | fairness loss 2.72 | Demographic disparity = 0.00\n",
      " \n",
      "Avg Training Stats after 2 global rounds:\n",
      "Training loss: 27.83 | Validation accuracy: 94.54% | Validation Demographic disparity: 0.0000\n",
      "\n",
      " | Global Training Round : 3 |\n",
      "\n"
     ]
    },
    {
     "name": "stderr",
     "output_type": "stream",
     "text": [
      "\r",
      " 60%|██████    | 3/5 [00:04<00:02,  1.47s/it]"
     ]
    },
    {
     "name": "stdout",
     "output_type": "stream",
     "text": [
      "Client 1: accuracy loss: 1.75 | fairness loss 0.80 | Demographic disparity = 0.00\n",
      "Client 2: accuracy loss: 1.90 | fairness loss 2.99 | Demographic disparity = 0.00\n",
      " \n",
      "Avg Training Stats after 3 global rounds:\n",
      "Training loss: 26.93 | Validation accuracy: 94.54% | Validation Demographic disparity: 0.0000\n",
      "\n",
      " | Global Training Round : 4 |\n",
      "\n"
     ]
    },
    {
     "name": "stderr",
     "output_type": "stream",
     "text": [
      "\r",
      " 80%|████████  | 4/5 [00:05<00:01,  1.47s/it]"
     ]
    },
    {
     "name": "stdout",
     "output_type": "stream",
     "text": [
      "Client 1: accuracy loss: 1.74 | fairness loss 0.83 | Demographic disparity = 0.00\n",
      "Client 2: accuracy loss: 1.88 | fairness loss 3.17 | Demographic disparity = 0.00\n",
      " \n",
      "Avg Training Stats after 4 global rounds:\n",
      "Training loss: 26.45 | Validation accuracy: 94.54% | Validation Demographic disparity: 0.0000\n",
      "\n",
      " | Global Training Round : 5 |\n",
      "\n"
     ]
    },
    {
     "name": "stderr",
     "output_type": "stream",
     "text": [
      "100%|██████████| 5/5 [00:07<00:00,  1.46s/it]"
     ]
    },
    {
     "name": "stdout",
     "output_type": "stream",
     "text": [
      "Client 1: accuracy loss: 1.73 | fairness loss 0.85 | Demographic disparity = 0.00\n",
      "Client 2: accuracy loss: 1.86 | fairness loss 3.31 | Demographic disparity = 0.00\n",
      " \n",
      "Avg Training Stats after 5 global rounds:\n",
      "Training loss: 26.16 | Validation accuracy: 94.54% | Validation Demographic disparity: 0.0000\n",
      " \n",
      " Results after 5 global rounds of training:\n",
      "|---- Avg Train Accuracy: 94.54%\n",
      "|---- Test Accuracy: 94.50%\n",
      "|---- Test Demographic disparity: 0.0000\n",
      "\n",
      " Total Run Time: 7.3211 sec\n"
     ]
    },
    {
     "name": "stderr",
     "output_type": "stream",
     "text": [
      "\n"
     ]
    }
   ],
   "source": [
    "server = Server(logReg(num_features=communities_num_features, num_classes=2, seed = seed), communities_info, train_prn = False, seed = seed, Z = communities_z)\n",
    "server.LocalZafar(num_rounds = 5, local_epochs = 30, optimizer = 'adam', learning_rate = 0.001, penalty = 10)"
   ]
  },
  {
   "cell_type": "code",
   "execution_count": 6,
   "metadata": {
    "scrolled": true
   },
   "outputs": [
    {
     "name": "stderr",
     "output_type": "stream",
     "text": [
      "  0%|          | 0/10 [00:00<?, ?it/s]/Users/cengyuchen/Google Drive/办公/research/code/Fair-FedAvg/DP/Client.py:657: RuntimeWarning: divide by zero encountered in double_scalars\n",
      "  v[group_idx[(y,z)]] = np.exp(lbd[(y,z)]) * sum([m_yz[(y,z)] for z in range(self.Z)]) / m_yz[(y,z)]\n"
     ]
    },
    {
     "name": "stdout",
     "output_type": "stream",
     "text": [
      "\n",
      " | Global Training Round : 1 |\n",
      "\n"
     ]
    },
    {
     "name": "stderr",
     "output_type": "stream",
     "text": [
      "\r",
      " 10%|█         | 1/10 [00:01<00:17,  1.94s/it]"
     ]
    },
    {
     "name": "stdout",
     "output_type": "stream",
     "text": [
      "Client 1: accuracy loss: 1.70 | fairness loss 1112.61 | Demographic disparity = 0.00\n",
      "Client 2: accuracy loss: 1.73 | fairness loss 635.38 | Demographic disparity = 0.00\n",
      " \n",
      "Avg Training Stats after 1 global rounds:\n",
      "Training loss: 0.13 | Training accuracy: 94.54% | Training Demographic disparity: 0.0000\n",
      "\n",
      " | Global Training Round : 2 |\n",
      "\n"
     ]
    },
    {
     "name": "stderr",
     "output_type": "stream",
     "text": [
      "\r",
      " 20%|██        | 2/10 [00:03<00:15,  1.95s/it]"
     ]
    },
    {
     "name": "stdout",
     "output_type": "stream",
     "text": [
      "Client 1: accuracy loss: 1.66 | fairness loss 1316.89 | Demographic disparity = 0.00\n",
      "Client 2: accuracy loss: 1.51 | fairness loss 976.31 | Demographic disparity = 0.23\n",
      " \n",
      "Avg Training Stats after 2 global rounds:\n",
      "Training loss: 0.12 | Training accuracy: 95.39% | Training Demographic disparity: 0.0399\n",
      "\n",
      " | Global Training Round : 3 |\n",
      "\n"
     ]
    },
    {
     "name": "stderr",
     "output_type": "stream",
     "text": [
      "\r",
      " 30%|███       | 3/10 [00:05<00:13,  1.93s/it]"
     ]
    },
    {
     "name": "stdout",
     "output_type": "stream",
     "text": [
      "Client 1: accuracy loss: 1.65 | fairness loss 1491.80 | Demographic disparity = 0.00\n",
      "Client 2: accuracy loss: 1.48 | fairness loss 1163.90 | Demographic disparity = 0.23\n",
      " \n",
      "Avg Training Stats after 3 global rounds:\n",
      "Training loss: 0.11 | Training accuracy: 95.39% | Training Demographic disparity: 0.0399\n",
      "\n",
      " | Global Training Round : 4 |\n",
      "\n"
     ]
    },
    {
     "name": "stderr",
     "output_type": "stream",
     "text": [
      "\r",
      " 40%|████      | 4/10 [00:07<00:11,  1.90s/it]"
     ]
    },
    {
     "name": "stdout",
     "output_type": "stream",
     "text": [
      "Client 1: accuracy loss: 1.65 | fairness loss 1593.07 | Demographic disparity = 0.00\n",
      "Client 2: accuracy loss: 1.47 | fairness loss 1282.04 | Demographic disparity = 0.23\n",
      " \n",
      "Avg Training Stats after 4 global rounds:\n",
      "Training loss: 0.11 | Training accuracy: 95.39% | Training Demographic disparity: 0.0399\n",
      "\n",
      " | Global Training Round : 5 |\n",
      "\n"
     ]
    },
    {
     "name": "stderr",
     "output_type": "stream",
     "text": [
      "\r",
      " 50%|█████     | 5/10 [00:09<00:09,  1.90s/it]"
     ]
    },
    {
     "name": "stdout",
     "output_type": "stream",
     "text": [
      "Client 1: accuracy loss: 1.65 | fairness loss 1649.51 | Demographic disparity = 0.00\n",
      "Client 2: accuracy loss: 1.48 | fairness loss 1354.76 | Demographic disparity = 0.23\n",
      " \n",
      "Avg Training Stats after 5 global rounds:\n",
      "Training loss: 0.11 | Training accuracy: 95.39% | Training Demographic disparity: 0.0399\n",
      "\n",
      " | Global Training Round : 6 |\n",
      "\n"
     ]
    },
    {
     "name": "stderr",
     "output_type": "stream",
     "text": [
      "\r",
      " 60%|██████    | 6/10 [00:11<00:07,  1.96s/it]"
     ]
    },
    {
     "name": "stdout",
     "output_type": "stream",
     "text": [
      "Client 1: accuracy loss: 1.64 | fairness loss 1681.95 | Demographic disparity = 0.00\n",
      "Client 2: accuracy loss: 1.48 | fairness loss 1398.87 | Demographic disparity = 0.23\n",
      " \n",
      "Avg Training Stats after 6 global rounds:\n",
      "Training loss: 0.11 | Training accuracy: 95.39% | Training Demographic disparity: 0.0399\n",
      "\n",
      " | Global Training Round : 7 |\n",
      "\n"
     ]
    },
    {
     "name": "stderr",
     "output_type": "stream",
     "text": [
      "\r",
      " 70%|███████   | 7/10 [00:13<00:05,  1.99s/it]"
     ]
    },
    {
     "name": "stdout",
     "output_type": "stream",
     "text": [
      "Client 1: accuracy loss: 1.64 | fairness loss 1701.59 | Demographic disparity = 0.00\n",
      "Client 2: accuracy loss: 1.48 | fairness loss 1425.43 | Demographic disparity = 0.23\n",
      " \n",
      "Avg Training Stats after 7 global rounds:\n",
      "Training loss: 0.10 | Training accuracy: 95.39% | Training Demographic disparity: 0.0399\n",
      "\n",
      " | Global Training Round : 8 |\n",
      "\n"
     ]
    },
    {
     "name": "stderr",
     "output_type": "stream",
     "text": [
      "\r",
      " 80%|████████  | 8/10 [00:15<00:03,  1.98s/it]"
     ]
    },
    {
     "name": "stdout",
     "output_type": "stream",
     "text": [
      "Client 1: accuracy loss: 1.64 | fairness loss 1714.22 | Demographic disparity = 0.00\n",
      "Client 2: accuracy loss: 1.48 | fairness loss 1441.20 | Demographic disparity = 0.23\n",
      " \n",
      "Avg Training Stats after 8 global rounds:\n",
      "Training loss: 0.10 | Training accuracy: 95.39% | Training Demographic disparity: 0.0399\n",
      "\n",
      " | Global Training Round : 9 |\n",
      "\n"
     ]
    },
    {
     "name": "stderr",
     "output_type": "stream",
     "text": [
      "\r",
      " 90%|█████████ | 9/10 [00:17<00:01,  1.95s/it]"
     ]
    },
    {
     "name": "stdout",
     "output_type": "stream",
     "text": [
      "Client 1: accuracy loss: 1.64 | fairness loss 1722.87 | Demographic disparity = 0.00\n",
      "Client 2: accuracy loss: 1.48 | fairness loss 1450.28 | Demographic disparity = 0.23\n",
      " \n",
      "Avg Training Stats after 9 global rounds:\n",
      "Training loss: 0.10 | Training accuracy: 95.39% | Training Demographic disparity: 0.0399\n",
      "\n",
      " | Global Training Round : 10 |\n",
      "\n"
     ]
    },
    {
     "name": "stderr",
     "output_type": "stream",
     "text": [
      "100%|██████████| 10/10 [00:19<00:00,  1.93s/it]"
     ]
    },
    {
     "name": "stdout",
     "output_type": "stream",
     "text": [
      "Client 1: accuracy loss: 1.64 | fairness loss 1729.18 | Demographic disparity = 0.00\n",
      "Client 2: accuracy loss: 1.48 | fairness loss 1455.17 | Demographic disparity = 0.23\n",
      " \n",
      "Avg Training Stats after 10 global rounds:\n",
      "Training loss: 0.10 | Training accuracy: 95.39% | Training Demographic disparity: 0.0399\n",
      " \n",
      " Results after 10 global rounds of training:\n",
      "|---- Avg Train Accuracy: 95.39%\n",
      "|---- Test Accuracy: 94.50%\n",
      "|---- Test Demographic disparity: 0.0000\n",
      "\n",
      " Total Run Time: 19.3157 sec\n"
     ]
    },
    {
     "name": "stderr",
     "output_type": "stream",
     "text": [
      "\n"
     ]
    }
   ],
   "source": [
    "server = Server(logReg(num_features=communities_num_features, num_classes=2, seed = seed), communities_info, train_prn = False, seed = seed, Z = communities_z)\n",
    "server.FBVariant4(num_rounds = 10, local_epochs = 20, optimizer = 'adam', learning_rate = 0.0025, alpha = 0.1)"
   ]
  },
  {
   "cell_type": "code",
   "execution_count": 2,
   "metadata": {
    "scrolled": true
   },
   "outputs": [
    {
     "name": "stderr",
     "output_type": "stream",
     "text": [
      "\r",
      "  0%|          | 0/5 [00:00<?, ?it/s]"
     ]
    },
    {
     "name": "stdout",
     "output_type": "stream",
     "text": [
      "\n",
      " | Global Training Round : 1 |\n",
      "\n"
     ]
    },
    {
     "name": "stderr",
     "output_type": "stream",
     "text": [
      "\r",
      " 20%|██        | 1/5 [00:01<00:04,  1.05s/it]"
     ]
    },
    {
     "name": "stdout",
     "output_type": "stream",
     "text": [
      "Client 1: accuracy loss: 2.18 | fairness loss 2081.55 | Demographic disparity = 0.00\n",
      "Client 2: accuracy loss: 2.61 | fairness loss 2282.51 | Demographic disparity = 0.00\n",
      " \n",
      "Avg Training Stats after 1 global rounds:\n",
      "Training loss: 25.58 | Validation accuracy: 91.30% | Validation Demographic disparity: 0.0000\n",
      "\n",
      " | Global Training Round : 2 |\n",
      "\n"
     ]
    },
    {
     "name": "stderr",
     "output_type": "stream",
     "text": [
      "\r",
      " 40%|████      | 2/5 [00:01<00:03,  1.01s/it]"
     ]
    },
    {
     "name": "stdout",
     "output_type": "stream",
     "text": [
      "Client 1: accuracy loss: 1.50 | fairness loss 5504.58 | Demographic disparity = 0.07\n",
      "Client 2: accuracy loss: 2.47 | fairness loss 5327.95 | Demographic disparity = 0.00\n",
      " \n",
      "Avg Training Stats after 2 global rounds:\n",
      "Training loss: 22.21 | Validation accuracy: 92.14% | Validation Demographic disparity: 0.0514\n",
      "\n",
      " | Global Training Round : 3 |\n",
      "\n"
     ]
    },
    {
     "name": "stderr",
     "output_type": "stream",
     "text": [
      "\r",
      " 60%|██████    | 3/5 [00:02<00:01,  1.01it/s]"
     ]
    },
    {
     "name": "stdout",
     "output_type": "stream",
     "text": [
      "Client 1: accuracy loss: 1.31 | fairness loss 7582.51 | Demographic disparity = 0.07\n",
      "Client 2: accuracy loss: 2.49 | fairness loss 6851.85 | Demographic disparity = 0.00\n",
      " \n",
      "Avg Training Stats after 3 global rounds:\n",
      "Training loss: 20.19 | Validation accuracy: 92.14% | Validation Demographic disparity: 0.0514\n",
      "\n",
      " | Global Training Round : 4 |\n",
      "\n"
     ]
    },
    {
     "name": "stderr",
     "output_type": "stream",
     "text": [
      "\r",
      " 80%|████████  | 4/5 [00:03<00:00,  1.04it/s]"
     ]
    },
    {
     "name": "stdout",
     "output_type": "stream",
     "text": [
      "Client 1: accuracy loss: 1.23 | fairness loss 8834.37 | Demographic disparity = 0.07\n",
      "Client 2: accuracy loss: 2.53 | fairness loss 7800.42 | Demographic disparity = 0.00\n",
      " \n",
      "Avg Training Stats after 4 global rounds:\n",
      "Training loss: 18.94 | Validation accuracy: 92.56% | Validation Demographic disparity: 0.0458\n",
      "\n",
      " | Global Training Round : 5 |\n",
      "\n"
     ]
    },
    {
     "name": "stderr",
     "output_type": "stream",
     "text": [
      "100%|██████████| 5/5 [00:05<00:00,  1.08s/it]"
     ]
    },
    {
     "name": "stdout",
     "output_type": "stream",
     "text": [
      "Client 1: accuracy loss: 1.19 | fairness loss 9631.89 | Demographic disparity = 0.07\n",
      "Client 2: accuracy loss: 2.56 | fairness loss 8450.01 | Demographic disparity = 0.00\n",
      " \n",
      "Avg Training Stats after 5 global rounds:\n",
      "Training loss: 18.09 | Validation accuracy: 92.56% | Validation Demographic disparity: 0.0458\n",
      " \n",
      " Results after 5 global rounds of training:\n",
      "|---- Avg Train Accuracy: 92.56%\n",
      "|---- Test Accuracy: 94.50%\n",
      "|---- Test Demographic disparity: 0.0783\n",
      "\n",
      " Total Run Time: 5.4284 sec\n"
     ]
    },
    {
     "name": "stderr",
     "output_type": "stream",
     "text": [
      "\n"
     ]
    }
   ],
   "source": [
    "server = Server(logReg(num_features=communities_num_features, num_classes=2, seed = seed), communities_info, train_prn = False, seed = seed, Z = communities_z)\n",
    "server.Unconstrained(num_rounds = 5, local_epochs = 20, optimizer = 'adam', learning_rate = 0.001)\n"
   ]
  },
  {
   "cell_type": "code",
   "execution_count": 7,
   "metadata": {},
   "outputs": [
    {
     "data": {
      "text/html": [
       "<div>\n",
       "<style scoped>\n",
       "    .dataframe tbody tr th:only-of-type {\n",
       "        vertical-align: middle;\n",
       "    }\n",
       "\n",
       "    .dataframe tbody tr th {\n",
       "        vertical-align: top;\n",
       "    }\n",
       "\n",
       "    .dataframe thead th {\n",
       "        text-align: right;\n",
       "    }\n",
       "</style>\n",
       "<table border=\"1\" class=\"dataframe\">\n",
       "  <thead>\n",
       "    <tr style=\"text-align: right;\">\n",
       "      <th></th>\n",
       "      <th>PctRecentImmig</th>\n",
       "      <th>MalePctNevMarr</th>\n",
       "      <th>PctKids2Par</th>\n",
       "      <th>NumIlleg</th>\n",
       "      <th>NumImmig</th>\n",
       "      <th>AsianPerCap</th>\n",
       "      <th>PersPerRentOccHous</th>\n",
       "      <th>PctFam2Par</th>\n",
       "      <th>PctIlleg</th>\n",
       "      <th>HousVacant</th>\n",
       "      <th>...</th>\n",
       "      <th>pctWFarmSelf</th>\n",
       "      <th>PctRecImmig10</th>\n",
       "      <th>PctImmigRec5</th>\n",
       "      <th>Unnamed: 0</th>\n",
       "      <th>householdsize</th>\n",
       "      <th>PctPersOwnOccup</th>\n",
       "      <th>PctHousOccup</th>\n",
       "      <th>PctOccupMgmtProf</th>\n",
       "      <th>PctYoungKids2Par</th>\n",
       "      <th>z</th>\n",
       "    </tr>\n",
       "  </thead>\n",
       "  <tbody>\n",
       "    <tr>\n",
       "      <td>0</td>\n",
       "      <td>0.37</td>\n",
       "      <td>0.29</td>\n",
       "      <td>0.74</td>\n",
       "      <td>0.01</td>\n",
       "      <td>0.03</td>\n",
       "      <td>0.22</td>\n",
       "      <td>0.81</td>\n",
       "      <td>0.73</td>\n",
       "      <td>0.14</td>\n",
       "      <td>0.02</td>\n",
       "      <td>...</td>\n",
       "      <td>0.18</td>\n",
       "      <td>0.49</td>\n",
       "      <td>0.32</td>\n",
       "      <td>0.118414</td>\n",
       "      <td>0.80</td>\n",
       "      <td>0.09</td>\n",
       "      <td>0.85</td>\n",
       "      <td>0.28</td>\n",
       "      <td>0.83</td>\n",
       "      <td>7</td>\n",
       "    </tr>\n",
       "    <tr>\n",
       "      <td>1</td>\n",
       "      <td>0.81</td>\n",
       "      <td>0.48</td>\n",
       "      <td>0.73</td>\n",
       "      <td>0.03</td>\n",
       "      <td>0.20</td>\n",
       "      <td>0.46</td>\n",
       "      <td>0.35</td>\n",
       "      <td>0.72</td>\n",
       "      <td>0.11</td>\n",
       "      <td>0.12</td>\n",
       "      <td>...</td>\n",
       "      <td>0.22</td>\n",
       "      <td>0.70</td>\n",
       "      <td>0.56</td>\n",
       "      <td>0.103362</td>\n",
       "      <td>0.37</td>\n",
       "      <td>0.49</td>\n",
       "      <td>0.85</td>\n",
       "      <td>0.63</td>\n",
       "      <td>0.86</td>\n",
       "      <td>3</td>\n",
       "    </tr>\n",
       "    <tr>\n",
       "      <td>2</td>\n",
       "      <td>0.02</td>\n",
       "      <td>0.26</td>\n",
       "      <td>0.89</td>\n",
       "      <td>0.00</td>\n",
       "      <td>0.00</td>\n",
       "      <td>0.03</td>\n",
       "      <td>0.77</td>\n",
       "      <td>0.87</td>\n",
       "      <td>0.04</td>\n",
       "      <td>0.00</td>\n",
       "      <td>...</td>\n",
       "      <td>1.00</td>\n",
       "      <td>0.03</td>\n",
       "      <td>0.45</td>\n",
       "      <td>0.108881</td>\n",
       "      <td>0.86</td>\n",
       "      <td>0.72</td>\n",
       "      <td>0.90</td>\n",
       "      <td>0.21</td>\n",
       "      <td>0.82</td>\n",
       "      <td>8</td>\n",
       "    </tr>\n",
       "    <tr>\n",
       "      <td>3</td>\n",
       "      <td>0.15</td>\n",
       "      <td>1.00</td>\n",
       "      <td>0.41</td>\n",
       "      <td>0.02</td>\n",
       "      <td>0.00</td>\n",
       "      <td>0.19</td>\n",
       "      <td>0.32</td>\n",
       "      <td>0.45</td>\n",
       "      <td>0.70</td>\n",
       "      <td>0.04</td>\n",
       "      <td>...</td>\n",
       "      <td>0.61</td>\n",
       "      <td>0.13</td>\n",
       "      <td>0.80</td>\n",
       "      <td>0.894631</td>\n",
       "      <td>0.56</td>\n",
       "      <td>0.40</td>\n",
       "      <td>0.61</td>\n",
       "      <td>0.56</td>\n",
       "      <td>0.59</td>\n",
       "      <td>6</td>\n",
       "    </tr>\n",
       "    <tr>\n",
       "      <td>4</td>\n",
       "      <td>0.12</td>\n",
       "      <td>0.39</td>\n",
       "      <td>0.58</td>\n",
       "      <td>0.19</td>\n",
       "      <td>0.08</td>\n",
       "      <td>0.22</td>\n",
       "      <td>0.30</td>\n",
       "      <td>0.56</td>\n",
       "      <td>0.30</td>\n",
       "      <td>0.63</td>\n",
       "      <td>...</td>\n",
       "      <td>0.37</td>\n",
       "      <td>0.13</td>\n",
       "      <td>0.48</td>\n",
       "      <td>0.279478</td>\n",
       "      <td>0.34</td>\n",
       "      <td>0.53</td>\n",
       "      <td>0.64</td>\n",
       "      <td>0.43</td>\n",
       "      <td>0.61</td>\n",
       "      <td>7</td>\n",
       "    </tr>\n",
       "    <tr>\n",
       "      <td>...</td>\n",
       "      <td>...</td>\n",
       "      <td>...</td>\n",
       "      <td>...</td>\n",
       "      <td>...</td>\n",
       "      <td>...</td>\n",
       "      <td>...</td>\n",
       "      <td>...</td>\n",
       "      <td>...</td>\n",
       "      <td>...</td>\n",
       "      <td>...</td>\n",
       "      <td>...</td>\n",
       "      <td>...</td>\n",
       "      <td>...</td>\n",
       "      <td>...</td>\n",
       "      <td>...</td>\n",
       "      <td>...</td>\n",
       "      <td>...</td>\n",
       "      <td>...</td>\n",
       "      <td>...</td>\n",
       "      <td>...</td>\n",
       "      <td>...</td>\n",
       "    </tr>\n",
       "    <tr>\n",
       "      <td>1989</td>\n",
       "      <td>1.00</td>\n",
       "      <td>0.49</td>\n",
       "      <td>0.46</td>\n",
       "      <td>0.03</td>\n",
       "      <td>0.06</td>\n",
       "      <td>0.17</td>\n",
       "      <td>1.00</td>\n",
       "      <td>0.54</td>\n",
       "      <td>0.43</td>\n",
       "      <td>0.01</td>\n",
       "      <td>...</td>\n",
       "      <td>0.41</td>\n",
       "      <td>1.00</td>\n",
       "      <td>0.42</td>\n",
       "      <td>0.012042</td>\n",
       "      <td>0.96</td>\n",
       "      <td>0.39</td>\n",
       "      <td>0.87</td>\n",
       "      <td>0.16</td>\n",
       "      <td>0.42</td>\n",
       "      <td>3</td>\n",
       "    </tr>\n",
       "    <tr>\n",
       "      <td>1990</td>\n",
       "      <td>0.02</td>\n",
       "      <td>0.27</td>\n",
       "      <td>0.46</td>\n",
       "      <td>0.03</td>\n",
       "      <td>0.00</td>\n",
       "      <td>0.15</td>\n",
       "      <td>0.40</td>\n",
       "      <td>0.45</td>\n",
       "      <td>0.35</td>\n",
       "      <td>0.14</td>\n",
       "      <td>...</td>\n",
       "      <td>0.33</td>\n",
       "      <td>0.02</td>\n",
       "      <td>0.42</td>\n",
       "      <td>0.443051</td>\n",
       "      <td>0.36</td>\n",
       "      <td>0.55</td>\n",
       "      <td>0.37</td>\n",
       "      <td>0.32</td>\n",
       "      <td>0.46</td>\n",
       "      <td>4</td>\n",
       "    </tr>\n",
       "    <tr>\n",
       "      <td>1991</td>\n",
       "      <td>0.12</td>\n",
       "      <td>0.28</td>\n",
       "      <td>0.27</td>\n",
       "      <td>0.02</td>\n",
       "      <td>0.00</td>\n",
       "      <td>0.41</td>\n",
       "      <td>0.46</td>\n",
       "      <td>0.28</td>\n",
       "      <td>0.44</td>\n",
       "      <td>0.05</td>\n",
       "      <td>...</td>\n",
       "      <td>0.35</td>\n",
       "      <td>0.08</td>\n",
       "      <td>0.42</td>\n",
       "      <td>0.890617</td>\n",
       "      <td>0.28</td>\n",
       "      <td>0.40</td>\n",
       "      <td>0.43</td>\n",
       "      <td>0.30</td>\n",
       "      <td>0.16</td>\n",
       "      <td>4</td>\n",
       "    </tr>\n",
       "    <tr>\n",
       "      <td>1992</td>\n",
       "      <td>1.00</td>\n",
       "      <td>0.68</td>\n",
       "      <td>0.47</td>\n",
       "      <td>0.07</td>\n",
       "      <td>0.13</td>\n",
       "      <td>0.19</td>\n",
       "      <td>1.00</td>\n",
       "      <td>0.51</td>\n",
       "      <td>1.00</td>\n",
       "      <td>0.02</td>\n",
       "      <td>...</td>\n",
       "      <td>0.11</td>\n",
       "      <td>1.00</td>\n",
       "      <td>0.47</td>\n",
       "      <td>0.335173</td>\n",
       "      <td>1.00</td>\n",
       "      <td>0.07</td>\n",
       "      <td>0.86</td>\n",
       "      <td>0.03</td>\n",
       "      <td>0.44</td>\n",
       "      <td>3</td>\n",
       "    </tr>\n",
       "    <tr>\n",
       "      <td>1993</td>\n",
       "      <td>0.22</td>\n",
       "      <td>0.35</td>\n",
       "      <td>0.63</td>\n",
       "      <td>0.04</td>\n",
       "      <td>0.09</td>\n",
       "      <td>0.38</td>\n",
       "      <td>0.58</td>\n",
       "      <td>0.63</td>\n",
       "      <td>0.15</td>\n",
       "      <td>0.29</td>\n",
       "      <td>...</td>\n",
       "      <td>0.26</td>\n",
       "      <td>0.31</td>\n",
       "      <td>0.36</td>\n",
       "      <td>0.350226</td>\n",
       "      <td>0.54</td>\n",
       "      <td>0.39</td>\n",
       "      <td>0.52</td>\n",
       "      <td>0.24</td>\n",
       "      <td>0.71</td>\n",
       "      <td>3</td>\n",
       "    </tr>\n",
       "  </tbody>\n",
       "</table>\n",
       "<p>1994 rows × 100 columns</p>\n",
       "</div>"
      ],
      "text/plain": [
       "      PctRecentImmig  MalePctNevMarr  PctKids2Par  NumIlleg  NumImmig  \\\n",
       "0               0.37            0.29         0.74      0.01      0.03   \n",
       "1               0.81            0.48         0.73      0.03      0.20   \n",
       "2               0.02            0.26         0.89      0.00      0.00   \n",
       "3               0.15            1.00         0.41      0.02      0.00   \n",
       "4               0.12            0.39         0.58      0.19      0.08   \n",
       "...              ...             ...          ...       ...       ...   \n",
       "1989            1.00            0.49         0.46      0.03      0.06   \n",
       "1990            0.02            0.27         0.46      0.03      0.00   \n",
       "1991            0.12            0.28         0.27      0.02      0.00   \n",
       "1992            1.00            0.68         0.47      0.07      0.13   \n",
       "1993            0.22            0.35         0.63      0.04      0.09   \n",
       "\n",
       "      AsianPerCap  PersPerRentOccHous  PctFam2Par  PctIlleg  HousVacant  ...  \\\n",
       "0            0.22                0.81        0.73      0.14        0.02  ...   \n",
       "1            0.46                0.35        0.72      0.11        0.12  ...   \n",
       "2            0.03                0.77        0.87      0.04        0.00  ...   \n",
       "3            0.19                0.32        0.45      0.70        0.04  ...   \n",
       "4            0.22                0.30        0.56      0.30        0.63  ...   \n",
       "...           ...                 ...         ...       ...         ...  ...   \n",
       "1989         0.17                1.00        0.54      0.43        0.01  ...   \n",
       "1990         0.15                0.40        0.45      0.35        0.14  ...   \n",
       "1991         0.41                0.46        0.28      0.44        0.05  ...   \n",
       "1992         0.19                1.00        0.51      1.00        0.02  ...   \n",
       "1993         0.38                0.58        0.63      0.15        0.29  ...   \n",
       "\n",
       "      pctWFarmSelf  PctRecImmig10  PctImmigRec5  Unnamed: 0  householdsize  \\\n",
       "0             0.18           0.49          0.32    0.118414           0.80   \n",
       "1             0.22           0.70          0.56    0.103362           0.37   \n",
       "2             1.00           0.03          0.45    0.108881           0.86   \n",
       "3             0.61           0.13          0.80    0.894631           0.56   \n",
       "4             0.37           0.13          0.48    0.279478           0.34   \n",
       "...            ...            ...           ...         ...            ...   \n",
       "1989          0.41           1.00          0.42    0.012042           0.96   \n",
       "1990          0.33           0.02          0.42    0.443051           0.36   \n",
       "1991          0.35           0.08          0.42    0.890617           0.28   \n",
       "1992          0.11           1.00          0.47    0.335173           1.00   \n",
       "1993          0.26           0.31          0.36    0.350226           0.54   \n",
       "\n",
       "      PctPersOwnOccup  PctHousOccup  PctOccupMgmtProf  PctYoungKids2Par  z  \n",
       "0                0.09          0.85              0.28              0.83  7  \n",
       "1                0.49          0.85              0.63              0.86  3  \n",
       "2                0.72          0.90              0.21              0.82  8  \n",
       "3                0.40          0.61              0.56              0.59  6  \n",
       "4                0.53          0.64              0.43              0.61  7  \n",
       "...               ...           ...               ...               ... ..  \n",
       "1989             0.39          0.87              0.16              0.42  3  \n",
       "1990             0.55          0.37              0.32              0.46  4  \n",
       "1991             0.40          0.43              0.30              0.16  4  \n",
       "1992             0.07          0.86              0.03              0.44  3  \n",
       "1993             0.39          0.52              0.24              0.71  3  \n",
       "\n",
       "[1994 rows x 100 columns]"
      ]
     },
     "execution_count": 7,
     "metadata": {},
     "output_type": "execute_result"
    }
   ],
   "source": [
    "communities"
   ]
  },
  {
   "cell_type": "code",
   "execution_count": null,
   "metadata": {},
   "outputs": [],
   "source": []
  }
 ],
 "metadata": {
  "kernelspec": {
   "display_name": "Python 3",
   "language": "python",
   "name": "python3"
  },
  "language_info": {
   "codemirror_mode": {
    "name": "ipython",
    "version": 3
   },
   "file_extension": ".py",
   "mimetype": "text/x-python",
   "name": "python",
   "nbconvert_exporter": "python",
   "pygments_lexer": "ipython3",
   "version": "3.7.4"
  }
 },
 "nbformat": 4,
 "nbformat_minor": 2
}
