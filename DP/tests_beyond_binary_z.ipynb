{
 "cells": [
  {
   "cell_type": "code",
   "execution_count": 1,
   "metadata": {},
   "outputs": [],
   "source": [
    "from Server import *\n",
    "seed = 123"
   ]
  },
  {
   "cell_type": "code",
   "execution_count": 2,
   "metadata": {},
   "outputs": [],
   "source": [
    "synthetic_info = dataGenerate(seed = 745, test_samples = 600, train_samples = 3000, \n",
    "                              Z = 3, client_split = ((.5, .1, .2), (.3, .3, .3), (.1, .3, .3), (.1, .3, .2)))"
   ]
  },
  {
   "cell_type": "markdown",
   "metadata": {},
   "source": [
    "# Simulations"
   ]
  },
  {
   "cell_type": "code",
   "execution_count": 3,
   "metadata": {
    "scrolled": true
   },
   "outputs": [
    {
     "name": "stderr",
     "output_type": "stream",
     "text": [
      "\r",
      "  0%|          | 0/10 [00:00<?, ?it/s]"
     ]
    },
    {
     "name": "stdout",
     "output_type": "stream",
     "text": [
      "| seed: 0 |\n"
     ]
    },
    {
     "name": "stderr",
     "output_type": "stream",
     "text": [
      "100%|██████████| 10/10 [00:31<00:00,  3.12s/it]\n",
      "100%|██████████| 10/10 [00:21<00:00,  2.14s/it]\n",
      "  0%|          | 0/10 [00:00<?, ?it/s]"
     ]
    },
    {
     "name": "stdout",
     "output_type": "stream",
     "text": [
      "|------ Acc.: 0.877 | dp Dis.: 0.431 |\n",
      "|Post-processing ------ Acc.: 0.683 | dp Dis.: 0.044 |\n",
      "| seed: 1 |\n"
     ]
    },
    {
     "name": "stderr",
     "output_type": "stream",
     "text": [
      "100%|██████████| 10/10 [00:23<00:00,  2.40s/it]\n",
      "100%|██████████| 10/10 [00:25<00:00,  2.51s/it]\n",
      "  0%|          | 0/10 [00:00<?, ?it/s]"
     ]
    },
    {
     "name": "stdout",
     "output_type": "stream",
     "text": [
      "|------ Acc.: 0.875 | dp Dis.: 0.440 |\n",
      "|Post-processing ------ Acc.: 0.688 | dp Dis.: 0.048 |\n",
      "| seed: 2 |\n"
     ]
    },
    {
     "name": "stderr",
     "output_type": "stream",
     "text": [
      "100%|██████████| 10/10 [00:23<00:00,  2.33s/it]\n",
      "100%|██████████| 10/10 [00:31<00:00,  3.20s/it]\n",
      "  0%|          | 0/10 [00:00<?, ?it/s]"
     ]
    },
    {
     "name": "stdout",
     "output_type": "stream",
     "text": [
      "|------ Acc.: 0.883 | dp Dis.: 0.407 |\n",
      "|Post-processing ------ Acc.: 0.690 | dp Dis.: 0.043 |\n",
      "| seed: 3 |\n"
     ]
    },
    {
     "name": "stderr",
     "output_type": "stream",
     "text": [
      "100%|██████████| 10/10 [00:29<00:00,  2.90s/it]\n",
      "100%|██████████| 10/10 [00:23<00:00,  2.34s/it]\n",
      "  0%|          | 0/10 [00:00<?, ?it/s]"
     ]
    },
    {
     "name": "stdout",
     "output_type": "stream",
     "text": [
      "|------ Acc.: 0.883 | dp Dis.: 0.422 |\n",
      "|Post-processing ------ Acc.: 0.690 | dp Dis.: 0.046 |\n",
      "| seed: 4 |\n"
     ]
    },
    {
     "name": "stderr",
     "output_type": "stream",
     "text": [
      "100%|██████████| 10/10 [00:34<00:00,  3.48s/it]\n",
      "100%|██████████| 10/10 [00:42<00:00,  4.25s/it]\n",
      "  0%|          | 0/10 [00:00<?, ?it/s]"
     ]
    },
    {
     "name": "stdout",
     "output_type": "stream",
     "text": [
      "|------ Acc.: 0.867 | dp Dis.: 0.468 |\n",
      "|Post-processing ------ Acc.: 0.667 | dp Dis.: 0.031 |\n",
      "| seed: 5 |\n"
     ]
    },
    {
     "name": "stderr",
     "output_type": "stream",
     "text": [
      "100%|██████████| 10/10 [00:46<00:00,  4.70s/it]\n",
      "100%|██████████| 10/10 [00:38<00:00,  3.85s/it]\n",
      "  0%|          | 0/10 [00:00<?, ?it/s]"
     ]
    },
    {
     "name": "stdout",
     "output_type": "stream",
     "text": [
      "|------ Acc.: 0.868 | dp Dis.: 0.451 |\n",
      "|Post-processing ------ Acc.: 0.685 | dp Dis.: 0.046 |\n",
      "| seed: 6 |\n"
     ]
    },
    {
     "name": "stderr",
     "output_type": "stream",
     "text": [
      "100%|██████████| 10/10 [00:36<00:00,  3.67s/it]\n",
      "100%|██████████| 10/10 [00:30<00:00,  3.04s/it]\n",
      "  0%|          | 0/10 [00:00<?, ?it/s]"
     ]
    },
    {
     "name": "stdout",
     "output_type": "stream",
     "text": [
      "|------ Acc.: 0.867 | dp Dis.: 0.455 |\n",
      "|Post-processing ------ Acc.: 0.683 | dp Dis.: 0.044 |\n",
      "| seed: 7 |\n"
     ]
    },
    {
     "name": "stderr",
     "output_type": "stream",
     "text": [
      "100%|██████████| 10/10 [00:47<00:00,  4.72s/it]\n",
      "100%|██████████| 10/10 [00:59<00:00,  5.97s/it]\n",
      "  0%|          | 0/10 [00:00<?, ?it/s]"
     ]
    },
    {
     "name": "stdout",
     "output_type": "stream",
     "text": [
      "|------ Acc.: 0.880 | dp Dis.: 0.423 |\n",
      "|Post-processing ------ Acc.: 0.685 | dp Dis.: 0.046 |\n",
      "| seed: 8 |\n"
     ]
    },
    {
     "name": "stderr",
     "output_type": "stream",
     "text": [
      "100%|██████████| 10/10 [00:54<00:00,  5.41s/it]\n",
      "100%|██████████| 10/10 [01:01<00:00,  6.15s/it]\n",
      "  0%|          | 0/10 [00:00<?, ?it/s]"
     ]
    },
    {
     "name": "stdout",
     "output_type": "stream",
     "text": [
      "|------ Acc.: 0.883 | dp Dis.: 0.400 |\n",
      "|Post-processing ------ Acc.: 0.690 | dp Dis.: 0.036 |\n",
      "| seed: 9 |\n"
     ]
    },
    {
     "name": "stderr",
     "output_type": "stream",
     "text": [
      "100%|██████████| 10/10 [00:36<00:00,  3.62s/it]\n",
      "100%|██████████| 10/10 [00:34<00:00,  3.46s/it]"
     ]
    },
    {
     "name": "stdout",
     "output_type": "stream",
     "text": [
      "|------ Acc.: 0.880 | dp Dis.: 0.427 |\n",
      "|Post-processing ------ Acc.: 0.693 | dp Dis.: 0.049 |\n",
      "| Acc.: 0.876(0.007) | dp Dis.: 0.432(0.020) |\n",
      "| Post-processing Acc.: 0.685(0.007) | dp Dis.: 0.043(0.005) |\n"
     ]
    },
    {
     "name": "stderr",
     "output_type": "stream",
     "text": [
      "\n"
     ]
    }
   ],
   "source": [
    "acc, dp = np.zeros(10), np.zeros(10)\n",
    "acc_p, dp_p = np.zeros(10), np.zeros(10)\n",
    "for seed in range(10):\n",
    "    print(\"| seed: %d |\" % seed)\n",
    "    server = Server(logReg(num_features=3, num_classes=2, seed = seed), synthetic_info, train_prn = False, seed = seed, ret = True, Z = 3)\n",
    "    acc[seed], dp[seed] = server.Unconstrained(num_rounds = 10, local_epochs = 30, optimizer = 'adam', learning_rate = 0.0005)\n",
    "    acc_p[seed], dp_p[seed] = server.ThresholdAdjust(num_rounds = 10, local_epochs = 30, epsilon = 0.02, learning_rate = 0.01)\n",
    "    print(\"|------ Acc.: %.3f | dp Dis.: %.3f |\" % (acc[seed], dp[seed]))\n",
    "    print(\"|Post-processing ------ Acc.: %.3f | dp Dis.: %.3f |\" % (acc_p[seed], dp_p[seed]))\n",
    "print(\"| Acc.: %.3f(%.3f) | dp Dis.: %.3f(%.3f) |\" % (acc.mean(), acc.std(), dp.mean(), dp.std()))\n",
    "print(\"| Post-processing Acc.: %.3f(%.3f) | dp Dis.: %.3f(%.3f) |\" % (acc_p.mean(), acc_p.std(), dp_p.mean(), dp_p.std()))"
   ]
  },
  {
   "cell_type": "code",
   "execution_count": 4,
   "metadata": {
    "scrolled": true
   },
   "outputs": [
    {
     "name": "stderr",
     "output_type": "stream",
     "text": [
      "\r",
      "  0%|          | 0/10 [00:00<?, ?it/s]"
     ]
    },
    {
     "name": "stdout",
     "output_type": "stream",
     "text": [
      "| seed: 0 |\n"
     ]
    },
    {
     "name": "stderr",
     "output_type": "stream",
     "text": [
      "100%|██████████| 10/10 [01:11<00:00,  7.11s/it]\n",
      "  0%|          | 0/10 [00:00<?, ?it/s]"
     ]
    },
    {
     "name": "stdout",
     "output_type": "stream",
     "text": [
      "|------ Acc.: 0.712 | dp Dis.: 0.051 |\n",
      "| seed: 1 |\n"
     ]
    },
    {
     "name": "stderr",
     "output_type": "stream",
     "text": [
      "100%|██████████| 10/10 [01:22<00:00,  8.24s/it]\n",
      "  0%|          | 0/10 [00:00<?, ?it/s]"
     ]
    },
    {
     "name": "stdout",
     "output_type": "stream",
     "text": [
      "|------ Acc.: 0.717 | dp Dis.: 0.042 |\n",
      "| seed: 2 |\n"
     ]
    },
    {
     "name": "stderr",
     "output_type": "stream",
     "text": [
      "100%|██████████| 10/10 [01:16<00:00,  7.65s/it]\n",
      "  0%|          | 0/10 [00:00<?, ?it/s]"
     ]
    },
    {
     "name": "stdout",
     "output_type": "stream",
     "text": [
      "|------ Acc.: 0.715 | dp Dis.: 0.041 |\n",
      "| seed: 3 |\n"
     ]
    },
    {
     "name": "stderr",
     "output_type": "stream",
     "text": [
      "100%|██████████| 10/10 [01:14<00:00,  7.46s/it]\n",
      "  0%|          | 0/10 [00:00<?, ?it/s]"
     ]
    },
    {
     "name": "stdout",
     "output_type": "stream",
     "text": [
      "|------ Acc.: 0.712 | dp Dis.: 0.046 |\n",
      "| seed: 4 |\n"
     ]
    },
    {
     "name": "stderr",
     "output_type": "stream",
     "text": [
      "100%|██████████| 10/10 [01:15<00:00,  7.58s/it]\n",
      "  0%|          | 0/10 [00:00<?, ?it/s]"
     ]
    },
    {
     "name": "stdout",
     "output_type": "stream",
     "text": [
      "|------ Acc.: 0.713 | dp Dis.: 0.041 |\n",
      "| seed: 5 |\n"
     ]
    },
    {
     "name": "stderr",
     "output_type": "stream",
     "text": [
      "100%|██████████| 10/10 [01:15<00:00,  7.56s/it]\n",
      "  0%|          | 0/10 [00:00<?, ?it/s]"
     ]
    },
    {
     "name": "stdout",
     "output_type": "stream",
     "text": [
      "|------ Acc.: 0.710 | dp Dis.: 0.034 |\n",
      "| seed: 6 |\n"
     ]
    },
    {
     "name": "stderr",
     "output_type": "stream",
     "text": [
      "100%|██████████| 10/10 [01:19<00:00,  7.91s/it]\n",
      "  0%|          | 0/10 [00:00<?, ?it/s]"
     ]
    },
    {
     "name": "stdout",
     "output_type": "stream",
     "text": [
      "|------ Acc.: 0.712 | dp Dis.: 0.040 |\n",
      "| seed: 7 |\n"
     ]
    },
    {
     "name": "stderr",
     "output_type": "stream",
     "text": [
      "100%|██████████| 10/10 [01:14<00:00,  7.40s/it]\n",
      "  0%|          | 0/10 [00:00<?, ?it/s]"
     ]
    },
    {
     "name": "stdout",
     "output_type": "stream",
     "text": [
      "|------ Acc.: 0.713 | dp Dis.: 0.042 |\n",
      "| seed: 8 |\n"
     ]
    },
    {
     "name": "stderr",
     "output_type": "stream",
     "text": [
      "100%|██████████| 10/10 [01:13<00:00,  7.36s/it]\n",
      "  0%|          | 0/10 [00:00<?, ?it/s]"
     ]
    },
    {
     "name": "stdout",
     "output_type": "stream",
     "text": [
      "|------ Acc.: 0.715 | dp Dis.: 0.047 |\n",
      "| seed: 9 |\n"
     ]
    },
    {
     "name": "stderr",
     "output_type": "stream",
     "text": [
      "100%|██████████| 10/10 [01:15<00:00,  7.57s/it]"
     ]
    },
    {
     "name": "stdout",
     "output_type": "stream",
     "text": [
      "|------ Acc.: 0.708 | dp Dis.: 0.037 |\n",
      "| Acc.: 0.713(0.002) | dp Dis.: 0.042(0.005) |\n"
     ]
    },
    {
     "name": "stderr",
     "output_type": "stream",
     "text": [
      "\n"
     ]
    }
   ],
   "source": [
    "acc, dp = np.zeros(10), np.zeros(10)\n",
    "for seed in range(10):\n",
    "    print(\"| seed: %d |\" % seed)\n",
    "    server = Server(logReg(num_features=3, num_classes=2, seed = seed), synthetic_info, train_prn = False, seed = seed, ret = True, Z = 3)\n",
    "    acc[seed], dp[seed] = server.FBVariant2(num_rounds = 10, local_epochs = 30, optimizer = 'adam', learning_rate = 0.005, alpha = 0.25)\n",
    "    print(\"|------ Acc.: %.3f | dp Dis.: %.3f |\" % (acc[seed], dp[seed]))\n",
    "print(\"| Acc.: %.3f(%.3f) | dp Dis.: %.3f(%.3f) |\" % (acc.mean(), acc.std(), dp.mean(), dp.std()))"
   ]
  },
  {
   "cell_type": "code",
   "execution_count": 5,
   "metadata": {
    "scrolled": true
   },
   "outputs": [
    {
     "name": "stderr",
     "output_type": "stream",
     "text": [
      "\r",
      "  0%|          | 0/10 [00:00<?, ?it/s]"
     ]
    },
    {
     "name": "stdout",
     "output_type": "stream",
     "text": [
      "| seed: 0 |\n"
     ]
    },
    {
     "name": "stderr",
     "output_type": "stream",
     "text": [
      "100%|██████████| 10/10 [01:28<00:00,  8.85s/it]\n",
      "  0%|          | 0/10 [00:00<?, ?it/s]"
     ]
    },
    {
     "name": "stdout",
     "output_type": "stream",
     "text": [
      "|------ Acc.: 0.763 | dp Dis.: 0.028 |\n",
      "| seed: 1 |\n"
     ]
    },
    {
     "name": "stderr",
     "output_type": "stream",
     "text": [
      "100%|██████████| 10/10 [01:06<00:00,  6.63s/it]\n",
      "  0%|          | 0/10 [00:00<?, ?it/s]"
     ]
    },
    {
     "name": "stdout",
     "output_type": "stream",
     "text": [
      "|------ Acc.: 0.747 | dp Dis.: 0.024 |\n",
      "| seed: 2 |\n"
     ]
    },
    {
     "name": "stderr",
     "output_type": "stream",
     "text": [
      "100%|██████████| 10/10 [01:33<00:00,  9.31s/it]\n",
      "  0%|          | 0/10 [00:00<?, ?it/s]"
     ]
    },
    {
     "name": "stdout",
     "output_type": "stream",
     "text": [
      "|------ Acc.: 0.763 | dp Dis.: 0.039 |\n",
      "| seed: 3 |\n"
     ]
    },
    {
     "name": "stderr",
     "output_type": "stream",
     "text": [
      "100%|██████████| 10/10 [01:14<00:00,  7.40s/it]\n",
      "  0%|          | 0/10 [00:00<?, ?it/s]"
     ]
    },
    {
     "name": "stdout",
     "output_type": "stream",
     "text": [
      "|------ Acc.: 0.758 | dp Dis.: 0.024 |\n",
      "| seed: 4 |\n"
     ]
    },
    {
     "name": "stderr",
     "output_type": "stream",
     "text": [
      "100%|██████████| 10/10 [01:25<00:00,  8.57s/it]\n",
      "  0%|          | 0/10 [00:00<?, ?it/s]"
     ]
    },
    {
     "name": "stdout",
     "output_type": "stream",
     "text": [
      "|------ Acc.: 0.760 | dp Dis.: 0.024 |\n",
      "| seed: 5 |\n"
     ]
    },
    {
     "name": "stderr",
     "output_type": "stream",
     "text": [
      "100%|██████████| 10/10 [01:21<00:00,  8.15s/it]\n",
      "  0%|          | 0/10 [00:00<?, ?it/s]"
     ]
    },
    {
     "name": "stdout",
     "output_type": "stream",
     "text": [
      "|------ Acc.: 0.762 | dp Dis.: 0.035 |\n",
      "| seed: 6 |\n"
     ]
    },
    {
     "name": "stderr",
     "output_type": "stream",
     "text": [
      "100%|██████████| 10/10 [01:54<00:00, 11.46s/it]\n",
      "  0%|          | 0/10 [00:00<?, ?it/s]"
     ]
    },
    {
     "name": "stdout",
     "output_type": "stream",
     "text": [
      "|------ Acc.: 0.767 | dp Dis.: 0.053 |\n",
      "| seed: 7 |\n"
     ]
    },
    {
     "name": "stderr",
     "output_type": "stream",
     "text": [
      "100%|██████████| 10/10 [01:22<00:00,  8.27s/it]\n",
      "  0%|          | 0/10 [00:00<?, ?it/s]"
     ]
    },
    {
     "name": "stdout",
     "output_type": "stream",
     "text": [
      "|------ Acc.: 0.757 | dp Dis.: 0.023 |\n",
      "| seed: 8 |\n"
     ]
    },
    {
     "name": "stderr",
     "output_type": "stream",
     "text": [
      "100%|██████████| 10/10 [01:18<00:00,  7.84s/it]\n",
      "  0%|          | 0/10 [00:00<?, ?it/s]"
     ]
    },
    {
     "name": "stdout",
     "output_type": "stream",
     "text": [
      "|------ Acc.: 0.757 | dp Dis.: 0.024 |\n",
      "| seed: 9 |\n"
     ]
    },
    {
     "name": "stderr",
     "output_type": "stream",
     "text": [
      "100%|██████████| 10/10 [01:22<00:00,  8.30s/it]"
     ]
    },
    {
     "name": "stdout",
     "output_type": "stream",
     "text": [
      "|------ Acc.: 0.775 | dp Dis.: 0.066 |\n",
      "| Acc.: 0.761(0.007) | dp Dis.: 0.034(0.014) |\n"
     ]
    },
    {
     "name": "stderr",
     "output_type": "stream",
     "text": [
      "\n"
     ]
    }
   ],
   "source": [
    "acc, dp = np.zeros(10), np.zeros(10)\n",
    "for seed in range(10):\n",
    "    print(\"| seed: %d |\" % seed)\n",
    "    server = Server(logReg(num_features=3, num_classes=2, seed = seed), synthetic_info, train_prn = False, seed = seed, ret = True, Z = 3)\n",
    "    acc[seed], dp[seed] = server.BiasCorrecting(num_rounds = 10, local_epochs = 30, optimizer = 'adam', epsilon = None, learning_rate = 0.02, alpha = 10)\n",
    "    print(\"|------ Acc.: %.3f | dp Dis.: %.3f |\" % (acc[seed], dp[seed]))\n",
    "print(\"| Acc.: %.3f(%.3f) | dp Dis.: %.3f(%.3f) |\" % (acc.mean(), acc.std(), dp.mean(), dp.std()))"
   ]
  },
  {
   "cell_type": "code",
   "execution_count": 6,
   "metadata": {
    "scrolled": true
   },
   "outputs": [
    {
     "name": "stderr",
     "output_type": "stream",
     "text": [
      "\r",
      "  0%|          | 0/3 [00:00<?, ?it/s]"
     ]
    },
    {
     "name": "stdout",
     "output_type": "stream",
     "text": [
      "| seed: 0 |\n"
     ]
    },
    {
     "name": "stderr",
     "output_type": "stream",
     "text": [
      "100%|██████████| 3/3 [00:20<00:00,  6.96s/it]\n",
      "100%|██████████| 3/3 [00:16<00:00,  5.56s/it]\n",
      "100%|██████████| 10/10 [01:09<00:00,  7.00s/it]\n",
      "  0%|          | 0/3 [00:00<?, ?it/s]"
     ]
    },
    {
     "name": "stdout",
     "output_type": "stream",
     "text": [
      "|------ Acc.: 0.463 | dp Dis.: 0.060 |\n",
      "| seed: 1 |\n"
     ]
    },
    {
     "name": "stderr",
     "output_type": "stream",
     "text": [
      "100%|██████████| 3/3 [00:14<00:00,  4.96s/it]\n",
      "100%|██████████| 3/3 [00:12<00:00,  4.33s/it]\n",
      "100%|██████████| 10/10 [00:44<00:00,  4.42s/it]\n",
      "  0%|          | 0/3 [00:00<?, ?it/s]"
     ]
    },
    {
     "name": "stdout",
     "output_type": "stream",
     "text": [
      "|------ Acc.: 0.463 | dp Dis.: 0.038 |\n",
      "| seed: 2 |\n"
     ]
    },
    {
     "name": "stderr",
     "output_type": "stream",
     "text": [
      "100%|██████████| 3/3 [00:19<00:00,  6.63s/it]\n",
      "100%|██████████| 3/3 [00:31<00:00, 10.40s/it]\n",
      "100%|██████████| 10/10 [00:51<00:00,  5.12s/it]\n",
      "  0%|          | 0/3 [00:00<?, ?it/s]"
     ]
    },
    {
     "name": "stdout",
     "output_type": "stream",
     "text": [
      "|------ Acc.: 0.462 | dp Dis.: 0.046 |\n",
      "| seed: 3 |\n"
     ]
    },
    {
     "name": "stderr",
     "output_type": "stream",
     "text": [
      "100%|██████████| 3/3 [00:17<00:00,  5.90s/it]\n",
      "100%|██████████| 3/3 [00:17<00:00,  5.76s/it]\n",
      "100%|██████████| 10/10 [00:46<00:00,  4.68s/it]\n",
      "  0%|          | 0/3 [00:00<?, ?it/s]"
     ]
    },
    {
     "name": "stdout",
     "output_type": "stream",
     "text": [
      "|------ Acc.: 0.453 | dp Dis.: 0.040 |\n",
      "| seed: 4 |\n"
     ]
    },
    {
     "name": "stderr",
     "output_type": "stream",
     "text": [
      "100%|██████████| 3/3 [00:13<00:00,  4.50s/it]\n",
      "100%|██████████| 3/3 [00:13<00:00,  4.43s/it]\n",
      "100%|██████████| 10/10 [00:53<00:00,  5.39s/it]\n",
      "  0%|          | 0/3 [00:00<?, ?it/s]"
     ]
    },
    {
     "name": "stdout",
     "output_type": "stream",
     "text": [
      "|------ Acc.: 0.463 | dp Dis.: 0.026 |\n",
      "| seed: 5 |\n"
     ]
    },
    {
     "name": "stderr",
     "output_type": "stream",
     "text": [
      "100%|██████████| 3/3 [00:13<00:00,  4.59s/it]\n",
      "100%|██████████| 3/3 [00:13<00:00,  4.36s/it]\n",
      "100%|██████████| 10/10 [00:43<00:00,  4.35s/it]\n",
      "  0%|          | 0/3 [00:00<?, ?it/s]"
     ]
    },
    {
     "name": "stdout",
     "output_type": "stream",
     "text": [
      "|------ Acc.: 0.460 | dp Dis.: 0.016 |\n",
      "| seed: 6 |\n"
     ]
    },
    {
     "name": "stderr",
     "output_type": "stream",
     "text": [
      "100%|██████████| 3/3 [00:17<00:00,  5.86s/it]\n",
      "100%|██████████| 3/3 [00:13<00:00,  4.54s/it]\n",
      "100%|██████████| 10/10 [00:44<00:00,  4.47s/it]\n",
      "  0%|          | 0/3 [00:00<?, ?it/s]"
     ]
    },
    {
     "name": "stdout",
     "output_type": "stream",
     "text": [
      "|------ Acc.: 0.463 | dp Dis.: 0.022 |\n",
      "| seed: 7 |\n"
     ]
    },
    {
     "name": "stderr",
     "output_type": "stream",
     "text": [
      "100%|██████████| 3/3 [00:13<00:00,  4.39s/it]\n",
      "100%|██████████| 3/3 [00:13<00:00,  4.47s/it]\n",
      "100%|██████████| 10/10 [00:47<00:00,  4.79s/it]\n",
      "  0%|          | 0/3 [00:00<?, ?it/s]"
     ]
    },
    {
     "name": "stdout",
     "output_type": "stream",
     "text": [
      "|------ Acc.: 0.465 | dp Dis.: 0.047 |\n",
      "| seed: 8 |\n"
     ]
    },
    {
     "name": "stderr",
     "output_type": "stream",
     "text": [
      "100%|██████████| 3/3 [00:13<00:00,  4.50s/it]\n",
      "100%|██████████| 3/3 [00:13<00:00,  4.42s/it]\n",
      "100%|██████████| 10/10 [00:44<00:00,  4.45s/it]\n",
      "  0%|          | 0/3 [00:00<?, ?it/s]"
     ]
    },
    {
     "name": "stdout",
     "output_type": "stream",
     "text": [
      "|------ Acc.: 0.463 | dp Dis.: 0.058 |\n",
      "| seed: 9 |\n"
     ]
    },
    {
     "name": "stderr",
     "output_type": "stream",
     "text": [
      "100%|██████████| 3/3 [00:13<00:00,  4.37s/it]\n",
      "100%|██████████| 3/3 [00:12<00:00,  4.30s/it]\n",
      "100%|██████████| 10/10 [00:48<00:00,  4.85s/it]"
     ]
    },
    {
     "name": "stdout",
     "output_type": "stream",
     "text": [
      "|------ Acc.: 0.455 | dp Dis.: 0.021 |\n",
      "| Acc.: 0.461(0.004) | dp Dis.: 0.037(0.015) |\n"
     ]
    },
    {
     "name": "stderr",
     "output_type": "stream",
     "text": [
      "\n"
     ]
    }
   ],
   "source": [
    "acc, dp = np.zeros(10), np.zeros(10)\n",
    "for seed in range(10):\n",
    "    print(\"| seed: %d |\" % seed)\n",
    "    server = Server(logReg(num_features=3, num_classes=2, seed = seed), synthetic_info, train_prn = False, seed = seed, ret = True, Z = 3)\n",
    "    acc[seed], dp[seed] = server.Zafar(test_rounds = 3, test_lr = 0.1, test_penalty = 1, num_rounds = 10, local_epochs = 30, optimizer = 'adam', learning_rate = 0.1, penalty = 1)\n",
    "    print(\"|------ Acc.: %.3f | dp Dis.: %.3f |\" % (acc[seed], dp[seed]))\n",
    "print(\"| Acc.: %.3f(%.3f) | dp Dis.: %.3f(%.3f) |\" % (acc.mean(), acc.std(), dp.mean(), dp.std()))"
   ]
  },
  {
   "cell_type": "code",
   "execution_count": 7,
   "metadata": {
    "scrolled": true
   },
   "outputs": [
    {
     "name": "stderr",
     "output_type": "stream",
     "text": [
      "\r",
      "  0%|          | 0/10 [00:00<?, ?it/s]"
     ]
    },
    {
     "name": "stdout",
     "output_type": "stream",
     "text": [
      "| seed: 0 |\n"
     ]
    },
    {
     "name": "stderr",
     "output_type": "stream",
     "text": [
      "100%|██████████| 10/10 [00:46<00:00,  4.65s/it]\n",
      "  0%|          | 0/10 [00:00<?, ?it/s]"
     ]
    },
    {
     "name": "stdout",
     "output_type": "stream",
     "text": [
      "|------ Acc.: 0.608 | dp Dis.: 0.003 |\n",
      "| seed: 1 |\n"
     ]
    },
    {
     "name": "stderr",
     "output_type": "stream",
     "text": [
      "100%|██████████| 10/10 [00:51<00:00,  5.12s/it]\n",
      "  0%|          | 0/10 [00:00<?, ?it/s]"
     ]
    },
    {
     "name": "stdout",
     "output_type": "stream",
     "text": [
      "|------ Acc.: 0.625 | dp Dis.: 0.035 |\n",
      "| seed: 2 |\n"
     ]
    },
    {
     "name": "stderr",
     "output_type": "stream",
     "text": [
      "100%|██████████| 10/10 [00:46<00:00,  4.70s/it]\n",
      "  0%|          | 0/10 [00:00<?, ?it/s]"
     ]
    },
    {
     "name": "stdout",
     "output_type": "stream",
     "text": [
      "|------ Acc.: 0.633 | dp Dis.: 0.023 |\n",
      "| seed: 3 |\n"
     ]
    },
    {
     "name": "stderr",
     "output_type": "stream",
     "text": [
      "100%|██████████| 10/10 [00:46<00:00,  4.68s/it]\n",
      "  0%|          | 0/10 [00:00<?, ?it/s]"
     ]
    },
    {
     "name": "stdout",
     "output_type": "stream",
     "text": [
      "|------ Acc.: 0.630 | dp Dis.: 0.020 |\n",
      "| seed: 4 |\n"
     ]
    },
    {
     "name": "stderr",
     "output_type": "stream",
     "text": [
      "100%|██████████| 10/10 [00:51<00:00,  5.13s/it]\n",
      "  0%|          | 0/10 [00:00<?, ?it/s]"
     ]
    },
    {
     "name": "stdout",
     "output_type": "stream",
     "text": [
      "|------ Acc.: 0.698 | dp Dis.: 0.197 |\n",
      "| seed: 5 |\n"
     ]
    },
    {
     "name": "stderr",
     "output_type": "stream",
     "text": [
      "100%|██████████| 10/10 [00:33<00:00,  3.37s/it]\n",
      "  0%|          | 0/10 [00:00<?, ?it/s]"
     ]
    },
    {
     "name": "stdout",
     "output_type": "stream",
     "text": [
      "|------ Acc.: 0.630 | dp Dis.: 0.036 |\n",
      "| seed: 6 |\n"
     ]
    },
    {
     "name": "stderr",
     "output_type": "stream",
     "text": [
      "100%|██████████| 10/10 [00:31<00:00,  3.11s/it]\n",
      "  0%|          | 0/10 [00:00<?, ?it/s]"
     ]
    },
    {
     "name": "stdout",
     "output_type": "stream",
     "text": [
      "|------ Acc.: 0.680 | dp Dis.: 0.109 |\n",
      "| seed: 7 |\n"
     ]
    },
    {
     "name": "stderr",
     "output_type": "stream",
     "text": [
      "100%|██████████| 10/10 [00:35<00:00,  3.57s/it]\n",
      "  0%|          | 0/10 [00:00<?, ?it/s]"
     ]
    },
    {
     "name": "stdout",
     "output_type": "stream",
     "text": [
      "|------ Acc.: 0.612 | dp Dis.: 0.004 |\n",
      "| seed: 8 |\n"
     ]
    },
    {
     "name": "stderr",
     "output_type": "stream",
     "text": [
      "100%|██████████| 10/10 [00:35<00:00,  3.58s/it]\n",
      "  0%|          | 0/10 [00:00<?, ?it/s]"
     ]
    },
    {
     "name": "stdout",
     "output_type": "stream",
     "text": [
      "|------ Acc.: 0.632 | dp Dis.: 0.022 |\n",
      "| seed: 9 |\n"
     ]
    },
    {
     "name": "stderr",
     "output_type": "stream",
     "text": [
      "100%|██████████| 10/10 [00:31<00:00,  3.12s/it]"
     ]
    },
    {
     "name": "stdout",
     "output_type": "stream",
     "text": [
      "|------ Acc.: 0.653 | dp Dis.: 0.039 |\n",
      "| Acc.: 0.640(0.027) | dp Dis.: 0.049(0.057) |\n"
     ]
    },
    {
     "name": "stderr",
     "output_type": "stream",
     "text": [
      "\n"
     ]
    }
   ],
   "source": [
    "acc, dp = np.zeros(10), np.zeros(10)\n",
    "for seed in range(10):\n",
    "    print(\"| seed: %d |\" % seed)\n",
    "    server = Server(logReg(num_features=3, num_classes=2, seed = seed), synthetic_info, train_prn = False, seed = seed, ret = True, Z = 3)\n",
    "    acc[seed], dp[seed] = server.LocalZafar(num_rounds = 10, local_epochs = 30, optimizer = 'adam', learning_rate = 0.0005, penalty = 200)\n",
    "    print(\"|------ Acc.: %.3f | dp Dis.: %.3f |\" % (acc[seed], dp[seed]))\n",
    "print(\"| Acc.: %.3f(%.3f) | dp Dis.: %.3f(%.3f) |\" % (acc.mean(), acc.std(), dp.mean(), dp.std()))"
   ]
  },
  {
   "cell_type": "code",
   "execution_count": 8,
   "metadata": {
    "scrolled": true
   },
   "outputs": [
    {
     "name": "stderr",
     "output_type": "stream",
     "text": [
      "\r",
      "  0%|          | 0/10 [00:00<?, ?it/s]"
     ]
    },
    {
     "name": "stdout",
     "output_type": "stream",
     "text": [
      "| seed: 0 |\n"
     ]
    },
    {
     "name": "stderr",
     "output_type": "stream",
     "text": [
      "100%|██████████| 10/10 [00:28<00:00,  2.86s/it]\n",
      "  0%|          | 0/10 [00:00<?, ?it/s]"
     ]
    },
    {
     "name": "stdout",
     "output_type": "stream",
     "text": [
      "|------ Acc.: 0.732 | dp Dis.: 0.030 |\n",
      "| seed: 1 |\n"
     ]
    },
    {
     "name": "stderr",
     "output_type": "stream",
     "text": [
      "100%|██████████| 10/10 [00:28<00:00,  2.84s/it]\n",
      "  0%|          | 0/10 [00:00<?, ?it/s]"
     ]
    },
    {
     "name": "stdout",
     "output_type": "stream",
     "text": [
      "|------ Acc.: 0.715 | dp Dis.: 0.057 |\n",
      "| seed: 2 |\n"
     ]
    },
    {
     "name": "stderr",
     "output_type": "stream",
     "text": [
      "100%|██████████| 10/10 [00:30<00:00,  3.02s/it]\n",
      "  0%|          | 0/10 [00:00<?, ?it/s]"
     ]
    },
    {
     "name": "stdout",
     "output_type": "stream",
     "text": [
      "|------ Acc.: 0.715 | dp Dis.: 0.065 |\n",
      "| seed: 3 |\n"
     ]
    },
    {
     "name": "stderr",
     "output_type": "stream",
     "text": [
      "100%|██████████| 10/10 [00:28<00:00,  2.89s/it]\n",
      "  0%|          | 0/10 [00:00<?, ?it/s]"
     ]
    },
    {
     "name": "stdout",
     "output_type": "stream",
     "text": [
      "|------ Acc.: 0.742 | dp Dis.: 0.032 |\n",
      "| seed: 4 |\n"
     ]
    },
    {
     "name": "stderr",
     "output_type": "stream",
     "text": [
      "100%|██████████| 10/10 [00:28<00:00,  2.84s/it]\n",
      "  0%|          | 0/10 [00:00<?, ?it/s]"
     ]
    },
    {
     "name": "stdout",
     "output_type": "stream",
     "text": [
      "|------ Acc.: 0.763 | dp Dis.: 0.093 |\n",
      "| seed: 5 |\n"
     ]
    },
    {
     "name": "stderr",
     "output_type": "stream",
     "text": [
      "100%|██████████| 10/10 [00:28<00:00,  2.84s/it]\n",
      "  0%|          | 0/10 [00:00<?, ?it/s]"
     ]
    },
    {
     "name": "stdout",
     "output_type": "stream",
     "text": [
      "|------ Acc.: 0.778 | dp Dis.: 0.121 |\n",
      "| seed: 6 |\n"
     ]
    },
    {
     "name": "stderr",
     "output_type": "stream",
     "text": [
      "100%|██████████| 10/10 [00:28<00:00,  2.82s/it]\n",
      "  0%|          | 0/10 [00:00<?, ?it/s]"
     ]
    },
    {
     "name": "stdout",
     "output_type": "stream",
     "text": [
      "|------ Acc.: 0.760 | dp Dis.: 0.089 |\n",
      "| seed: 7 |\n"
     ]
    },
    {
     "name": "stderr",
     "output_type": "stream",
     "text": [
      "100%|██████████| 10/10 [00:28<00:00,  2.88s/it]\n",
      "  0%|          | 0/10 [00:00<?, ?it/s]"
     ]
    },
    {
     "name": "stdout",
     "output_type": "stream",
     "text": [
      "|------ Acc.: 0.742 | dp Dis.: 0.023 |\n",
      "| seed: 8 |\n"
     ]
    },
    {
     "name": "stderr",
     "output_type": "stream",
     "text": [
      "100%|██████████| 10/10 [00:24<00:00,  2.47s/it]\n",
      "  0%|          | 0/10 [00:00<?, ?it/s]"
     ]
    },
    {
     "name": "stdout",
     "output_type": "stream",
     "text": [
      "|------ Acc.: 0.723 | dp Dis.: 0.050 |\n",
      "| seed: 9 |\n"
     ]
    },
    {
     "name": "stderr",
     "output_type": "stream",
     "text": [
      "100%|██████████| 10/10 [00:21<00:00,  2.11s/it]"
     ]
    },
    {
     "name": "stdout",
     "output_type": "stream",
     "text": [
      "|------ Acc.: 0.738 | dp Dis.: 0.034 |\n",
      "| Acc.: 0.741(0.020) | dp Dis.: 0.059(0.031) |\n"
     ]
    },
    {
     "name": "stderr",
     "output_type": "stream",
     "text": [
      "\n"
     ]
    }
   ],
   "source": [
    "acc, dp = np.zeros(10), np.zeros(10)\n",
    "for seed in range(10):\n",
    "    print(\"| seed: %d |\" % seed)\n",
    "    server = Server(logReg(num_features=3, num_classes=2, seed = seed), synthetic_info, train_prn = False, seed = seed, ret = True, Z = 3)\n",
    "    acc[seed], dp[seed] = server.FTrain(num_rounds = 10, local_epochs = 30, init_epochs = 50, lr_g = 0.003, lr_d = 0.01, lambda_d = 0.8)\n",
    "    print(\"|------ Acc.: %.3f | dp Dis.: %.3f |\" % (acc[seed], dp[seed]))\n",
    "print(\"| Acc.: %.3f(%.3f) | dp Dis.: %.3f(%.3f) |\" % (acc.mean(), acc.std(), dp.mean(), dp.std()))"
   ]
  },
  {
   "cell_type": "markdown",
   "metadata": {},
   "source": [
    "# Others"
   ]
  },
  {
   "cell_type": "code",
   "execution_count": 32,
   "metadata": {
    "scrolled": true
   },
   "outputs": [
    {
     "name": "stderr",
     "output_type": "stream",
     "text": [
      "\n",
      "\n",
      "\n",
      "\n",
      "\n",
      "\n",
      "\n",
      "  0%|          | 0/10 [00:00<?, ?it/s]\u001b[A\u001b[A\u001b[A\u001b[A\u001b[A\u001b[A\u001b[A"
     ]
    },
    {
     "name": "stdout",
     "output_type": "stream",
     "text": [
      "\n",
      " | Global Training Round : 1 |\n",
      "\n"
     ]
    },
    {
     "name": "stderr",
     "output_type": "stream",
     "text": [
      "\n",
      "\n",
      "\n",
      "\n",
      "\n",
      "\n",
      "\n",
      " 10%|█         | 1/10 [00:02<00:19,  2.19s/it]\u001b[A\u001b[A\u001b[A\u001b[A\u001b[A\u001b[A\u001b[A"
     ]
    },
    {
     "name": "stdout",
     "output_type": "stream",
     "text": [
      "Client 1: accuracy loss: 8.92 | fairness loss 762.23 | Demographic disparity = 0.09\n",
      "Client 2: accuracy loss: 8.56 | fairness loss 632.78 | Demographic disparity = 0.13\n",
      "Client 3: accuracy loss: 8.39 | fairness loss 603.02 | Demographic disparity = 0.10\n",
      "Client 4: accuracy loss: 7.75 | fairness loss 528.51 | Demographic disparity = 0.06\n",
      " \n",
      "Avg Training Stats after 1 global rounds:\n",
      "Training loss: 109.01 | Validation accuracy: 58.42% | Validation Demographic disparity: 0.0454\n",
      "\n",
      " | Global Training Round : 2 |\n",
      "\n"
     ]
    },
    {
     "name": "stderr",
     "output_type": "stream",
     "text": [
      "\n",
      "\n",
      "\n",
      "\n",
      "\n",
      "\n",
      "\n",
      " 20%|██        | 2/10 [00:04<00:17,  2.16s/it]\u001b[A\u001b[A\u001b[A\u001b[A\u001b[A\u001b[A\u001b[A"
     ]
    },
    {
     "name": "stdout",
     "output_type": "stream",
     "text": [
      "Client 1: accuracy loss: 6.50 | fairness loss 861.90 | Demographic disparity = 0.07\n",
      "Client 2: accuracy loss: 6.77 | fairness loss 718.27 | Demographic disparity = 0.04\n",
      "Client 3: accuracy loss: 6.84 | fairness loss 776.69 | Demographic disparity = 0.16\n",
      "Client 4: accuracy loss: 6.23 | fairness loss 634.72 | Demographic disparity = 0.22\n",
      " \n",
      "Avg Training Stats after 2 global rounds:\n",
      "Training loss: 94.60 | Validation accuracy: 66.32% | Validation Demographic disparity: 0.0919\n",
      "\n",
      " | Global Training Round : 3 |\n",
      "\n"
     ]
    },
    {
     "name": "stderr",
     "output_type": "stream",
     "text": [
      "\n",
      "\n",
      "\n",
      "\n",
      "\n",
      "\n",
      "\n",
      " 30%|███       | 3/10 [00:06<00:15,  2.26s/it]\u001b[A\u001b[A\u001b[A\u001b[A\u001b[A\u001b[A\u001b[A"
     ]
    },
    {
     "name": "stdout",
     "output_type": "stream",
     "text": [
      "Client 1: accuracy loss: 4.84 | fairness loss 929.41 | Demographic disparity = 0.29\n",
      "Client 2: accuracy loss: 5.35 | fairness loss 746.02 | Demographic disparity = 0.10\n",
      "Client 3: accuracy loss: 5.57 | fairness loss 745.17 | Demographic disparity = 0.21\n",
      "Client 4: accuracy loss: 5.16 | fairness loss 659.17 | Demographic disparity = 0.33\n",
      " \n",
      "Avg Training Stats after 3 global rounds:\n",
      "Training loss: 83.96 | Validation accuracy: 73.28% | Validation Demographic disparity: 0.1857\n",
      "\n",
      " | Global Training Round : 4 |\n",
      "\n"
     ]
    },
    {
     "name": "stderr",
     "output_type": "stream",
     "text": [
      "\n",
      "\n",
      "\n",
      "\n",
      "\n",
      "\n",
      "\n",
      " 40%|████      | 4/10 [00:09<00:13,  2.25s/it]\u001b[A\u001b[A\u001b[A\u001b[A\u001b[A\u001b[A\u001b[A"
     ]
    },
    {
     "name": "stdout",
     "output_type": "stream",
     "text": [
      "Client 1: accuracy loss: 3.68 | fairness loss 1025.77 | Demographic disparity = 0.44\n",
      "Client 2: accuracy loss: 4.28 | fairness loss 791.62 | Demographic disparity = 0.27\n",
      "Client 3: accuracy loss: 4.62 | fairness loss 681.27 | Demographic disparity = 0.27\n",
      "Client 4: accuracy loss: 4.36 | fairness loss 684.31 | Demographic disparity = 0.47\n",
      " \n",
      "Avg Training Stats after 4 global rounds:\n",
      "Training loss: 75.48 | Validation accuracy: 79.64% | Validation Demographic disparity: 0.3003\n",
      "\n",
      " | Global Training Round : 5 |\n",
      "\n"
     ]
    },
    {
     "name": "stderr",
     "output_type": "stream",
     "text": [
      "\n",
      "\n",
      "\n",
      "\n",
      "\n",
      "\n",
      "\n",
      " 50%|█████     | 5/10 [00:11<00:10,  2.18s/it]\u001b[A\u001b[A\u001b[A\u001b[A\u001b[A\u001b[A\u001b[A"
     ]
    },
    {
     "name": "stdout",
     "output_type": "stream",
     "text": [
      "Client 1: accuracy loss: 2.98 | fairness loss 1220.38 | Demographic disparity = 0.52\n",
      "Client 2: accuracy loss: 3.63 | fairness loss 917.56 | Demographic disparity = 0.40\n",
      "Client 3: accuracy loss: 4.08 | fairness loss 682.94 | Demographic disparity = 0.34\n",
      "Client 4: accuracy loss: 3.85 | fairness loss 773.51 | Demographic disparity = 0.48\n",
      " \n",
      "Avg Training Stats after 5 global rounds:\n",
      "Training loss: 68.69 | Validation accuracy: 83.60% | Validation Demographic disparity: 0.3815\n",
      "\n",
      " | Global Training Round : 6 |\n",
      "\n"
     ]
    },
    {
     "name": "stderr",
     "output_type": "stream",
     "text": [
      "\n",
      "\n",
      "\n",
      "\n",
      "\n",
      "\n",
      "\n",
      " 60%|██████    | 6/10 [00:13<00:08,  2.16s/it]\u001b[A\u001b[A\u001b[A\u001b[A\u001b[A\u001b[A\u001b[A"
     ]
    },
    {
     "name": "stdout",
     "output_type": "stream",
     "text": [
      "Client 1: accuracy loss: 2.63 | fairness loss 1511.29 | Demographic disparity = 0.56\n",
      "Client 2: accuracy loss: 3.32 | fairness loss 1123.19 | Demographic disparity = 0.42\n",
      "Client 3: accuracy loss: 3.83 | fairness loss 755.56 | Demographic disparity = 0.39\n",
      "Client 4: accuracy loss: 3.56 | fairness loss 928.49 | Demographic disparity = 0.52\n",
      " \n",
      "Avg Training Stats after 6 global rounds:\n",
      "Training loss: 63.33 | Validation accuracy: 85.40% | Validation Demographic disparity: 0.3949\n",
      "\n",
      " | Global Training Round : 7 |\n",
      "\n"
     ]
    },
    {
     "name": "stderr",
     "output_type": "stream",
     "text": [
      "\n",
      "\n",
      "\n",
      "\n",
      "\n",
      "\n",
      "\n",
      " 70%|███████   | 7/10 [00:15<00:06,  2.24s/it]\u001b[A\u001b[A\u001b[A\u001b[A\u001b[A\u001b[A\u001b[A"
     ]
    },
    {
     "name": "stdout",
     "output_type": "stream",
     "text": [
      "Client 1: accuracy loss: 2.48 | fairness loss 1853.32 | Demographic disparity = 0.61\n",
      "Client 2: accuracy loss: 3.21 | fairness loss 1372.78 | Demographic disparity = 0.47\n",
      "Client 3: accuracy loss: 3.73 | fairness loss 869.91 | Demographic disparity = 0.34\n",
      "Client 4: accuracy loss: 3.41 | fairness loss 1119.90 | Demographic disparity = 0.50\n",
      " \n",
      "Avg Training Stats after 7 global rounds:\n",
      "Training loss: 59.15 | Validation accuracy: 86.49% | Validation Demographic disparity: 0.4287\n",
      "\n",
      " | Global Training Round : 8 |\n",
      "\n"
     ]
    },
    {
     "name": "stderr",
     "output_type": "stream",
     "text": [
      "\n",
      "\n",
      "\n",
      "\n",
      "\n",
      "\n",
      "\n",
      " 80%|████████  | 8/10 [00:17<00:04,  2.26s/it]\u001b[A\u001b[A\u001b[A\u001b[A\u001b[A\u001b[A\u001b[A"
     ]
    },
    {
     "name": "stdout",
     "output_type": "stream",
     "text": [
      "Client 1: accuracy loss: 2.45 | fairness loss 2156.59 | Demographic disparity = 0.61\n",
      "Client 2: accuracy loss: 3.19 | fairness loss 1596.91 | Demographic disparity = 0.47\n",
      "Client 3: accuracy loss: 3.72 | fairness loss 980.66 | Demographic disparity = 0.34\n",
      "Client 4: accuracy loss: 3.33 | fairness loss 1292.55 | Demographic disparity = 0.48\n",
      " \n",
      "Avg Training Stats after 8 global rounds:\n",
      "Training loss: 55.87 | Validation accuracy: 86.92% | Validation Demographic disparity: 0.4219\n",
      "\n",
      " | Global Training Round : 9 |\n",
      "\n"
     ]
    },
    {
     "name": "stderr",
     "output_type": "stream",
     "text": [
      "\n",
      "\n",
      "\n",
      "\n",
      "\n",
      "\n",
      "\n",
      " 90%|█████████ | 9/10 [00:20<00:02,  2.23s/it]\u001b[A\u001b[A\u001b[A\u001b[A\u001b[A\u001b[A\u001b[A"
     ]
    },
    {
     "name": "stdout",
     "output_type": "stream",
     "text": [
      "Client 1: accuracy loss: 2.45 | fairness loss 2333.59 | Demographic disparity = 0.61\n",
      "Client 2: accuracy loss: 3.21 | fairness loss 1728.50 | Demographic disparity = 0.47\n",
      "Client 3: accuracy loss: 3.73 | fairness loss 1047.56 | Demographic disparity = 0.34\n",
      "Client 4: accuracy loss: 3.30 | fairness loss 1394.02 | Demographic disparity = 0.48\n",
      " \n",
      "Avg Training Stats after 9 global rounds:\n",
      "Training loss: 53.28 | Validation accuracy: 86.92% | Validation Demographic disparity: 0.4219\n",
      "\n",
      " | Global Training Round : 10 |\n",
      "\n"
     ]
    },
    {
     "name": "stderr",
     "output_type": "stream",
     "text": [
      "\n",
      "\n",
      "\n",
      "\n",
      "\n",
      "\n",
      "\n",
      "100%|██████████| 10/10 [00:22<00:00,  2.23s/it]\u001b[A\u001b[A\u001b[A\u001b[A\u001b[A\u001b[A\u001b[A"
     ]
    },
    {
     "name": "stdout",
     "output_type": "stream",
     "text": [
      "Client 1: accuracy loss: 2.45 | fairness loss 2412.31 | Demographic disparity = 0.57\n",
      "Client 2: accuracy loss: 3.22 | fairness loss 1787.17 | Demographic disparity = 0.48\n",
      "Client 3: accuracy loss: 3.73 | fairness loss 1077.73 | Demographic disparity = 0.34\n",
      "Client 4: accuracy loss: 3.29 | fairness loss 1439.27 | Demographic disparity = 0.47\n",
      " \n",
      "Avg Training Stats after 10 global rounds:\n",
      "Training loss: 51.20 | Validation accuracy: 85.93% | Validation Demographic disparity: 0.4217\n",
      " \n",
      " Results after 10 global rounds of training:\n",
      "|---- Avg Train Accuracy: 85.93%\n",
      "|---- Test Accuracy: 88.00%\n",
      "|---- Test Demographic disparity: 0.4323\n",
      "\n",
      " Total Run Time: 22.3457 sec\n"
     ]
    },
    {
     "name": "stderr",
     "output_type": "stream",
     "text": [
      "\n"
     ]
    }
   ],
   "source": [
    "server = Server(logReg(num_features=3, num_classes=2, seed = seed), synthetic_info, train_prn = False, seed = seed, Z = 3)\n",
    "server.Unconstrained(num_rounds = 10, local_epochs = 30, optimizer = 'adam', learning_rate = 0.0005)"
   ]
  },
  {
   "cell_type": "code",
   "execution_count": 34,
   "metadata": {
    "scrolled": true
   },
   "outputs": [
    {
     "name": "stderr",
     "output_type": "stream",
     "text": [
      "\n",
      "\n",
      "\n",
      "\n",
      "\n",
      "\n",
      "\n",
      "  0%|          | 0/10 [00:00<?, ?it/s]\u001b[A\u001b[A\u001b[A\u001b[A\u001b[A\u001b[A\u001b[A\n",
      "\n",
      "\n",
      "\n",
      "\n",
      "\n",
      "\n",
      " 10%|█         | 1/10 [00:01<00:17,  1.89s/it]\u001b[A\u001b[A\u001b[A\u001b[A\u001b[A\u001b[A\u001b[A"
     ]
    },
    {
     "name": "stdout",
     "output_type": "stream",
     "text": [
      " \n",
      "Avg Training Stats after 1 threshold adjusting global rounds:\n",
      "Training loss: 66.64 | Validation accuracy: 87.59% | Validation Demographic disparity: 0.3697\n"
     ]
    },
    {
     "name": "stderr",
     "output_type": "stream",
     "text": [
      "\n",
      "\n",
      "\n",
      "\n",
      "\n",
      "\n",
      "\n",
      " 20%|██        | 2/10 [00:04<00:15,  1.98s/it]\u001b[A\u001b[A\u001b[A\u001b[A\u001b[A\u001b[A\u001b[A"
     ]
    },
    {
     "name": "stdout",
     "output_type": "stream",
     "text": [
      " \n",
      "Avg Training Stats after 2 threshold adjusting global rounds:\n",
      "Training loss: 73.13 | Validation accuracy: 85.45% | Validation Demographic disparity: 0.3040\n"
     ]
    },
    {
     "name": "stderr",
     "output_type": "stream",
     "text": [
      "\n",
      "\n",
      "\n",
      "\n",
      "\n",
      "\n",
      "\n",
      " 30%|███       | 3/10 [00:06<00:13,  1.99s/it]\u001b[A\u001b[A\u001b[A\u001b[A\u001b[A\u001b[A\u001b[A"
     ]
    },
    {
     "name": "stdout",
     "output_type": "stream",
     "text": [
      " \n",
      "Avg Training Stats after 3 threshold adjusting global rounds:\n",
      "Training loss: 84.50 | Validation accuracy: 82.06% | Validation Demographic disparity: 0.2295\n"
     ]
    },
    {
     "name": "stderr",
     "output_type": "stream",
     "text": [
      "\n",
      "\n",
      "\n",
      "\n",
      "\n",
      "\n",
      "\n",
      " 40%|████      | 4/10 [00:08<00:12,  2.02s/it]\u001b[A\u001b[A\u001b[A\u001b[A\u001b[A\u001b[A\u001b[A"
     ]
    },
    {
     "name": "stdout",
     "output_type": "stream",
     "text": [
      " \n",
      "Avg Training Stats after 4 threshold adjusting global rounds:\n",
      "Training loss: 100.97 | Validation accuracy: 78.35% | Validation Demographic disparity: 0.1916\n"
     ]
    },
    {
     "name": "stderr",
     "output_type": "stream",
     "text": [
      "\n",
      "\n",
      "\n",
      "\n",
      "\n",
      "\n",
      "\n",
      " 50%|█████     | 5/10 [00:10<00:10,  2.01s/it]\u001b[A\u001b[A\u001b[A\u001b[A\u001b[A\u001b[A\u001b[A"
     ]
    },
    {
     "name": "stdout",
     "output_type": "stream",
     "text": [
      " \n",
      "Avg Training Stats after 5 threshold adjusting global rounds:\n",
      "Training loss: 102.28 | Validation accuracy: 77.74% | Validation Demographic disparity: 0.1752\n"
     ]
    },
    {
     "name": "stderr",
     "output_type": "stream",
     "text": [
      "\n",
      "\n",
      "\n",
      "\n",
      "\n",
      "\n",
      "\n",
      " 60%|██████    | 6/10 [00:12<00:08,  2.02s/it]\u001b[A\u001b[A\u001b[A\u001b[A\u001b[A\u001b[A\u001b[A"
     ]
    },
    {
     "name": "stdout",
     "output_type": "stream",
     "text": [
      " \n",
      "Avg Training Stats after 6 threshold adjusting global rounds:\n",
      "Training loss: 123.69 | Validation accuracy: 73.74% | Validation Demographic disparity: 0.1366\n"
     ]
    },
    {
     "name": "stderr",
     "output_type": "stream",
     "text": [
      "\n",
      "\n",
      "\n",
      "\n",
      "\n",
      "\n",
      "\n",
      " 70%|███████   | 7/10 [00:14<00:06,  2.03s/it]\u001b[A\u001b[A\u001b[A\u001b[A\u001b[A\u001b[A\u001b[A"
     ]
    },
    {
     "name": "stdout",
     "output_type": "stream",
     "text": [
      " \n",
      "Avg Training Stats after 7 threshold adjusting global rounds:\n",
      "Training loss: 128.00 | Validation accuracy: 72.58% | Validation Demographic disparity: 0.1139\n"
     ]
    },
    {
     "name": "stderr",
     "output_type": "stream",
     "text": [
      "\n",
      "\n",
      "\n",
      "\n",
      "\n",
      "\n",
      "\n",
      " 80%|████████  | 8/10 [00:16<00:04,  2.08s/it]\u001b[A\u001b[A\u001b[A\u001b[A\u001b[A\u001b[A\u001b[A"
     ]
    },
    {
     "name": "stdout",
     "output_type": "stream",
     "text": [
      " \n",
      "Avg Training Stats after 8 threshold adjusting global rounds:\n",
      "Training loss: 135.14 | Validation accuracy: 71.35% | Validation Demographic disparity: 0.0954\n"
     ]
    },
    {
     "name": "stderr",
     "output_type": "stream",
     "text": [
      "\n",
      "\n",
      "\n",
      "\n",
      "\n",
      "\n",
      "\n",
      " 90%|█████████ | 9/10 [00:18<00:02,  2.07s/it]\u001b[A\u001b[A\u001b[A\u001b[A\u001b[A\u001b[A\u001b[A"
     ]
    },
    {
     "name": "stdout",
     "output_type": "stream",
     "text": [
      " \n",
      "Avg Training Stats after 9 threshold adjusting global rounds:\n",
      "Training loss: 160.98 | Validation accuracy: 68.49% | Validation Demographic disparity: 0.0711\n"
     ]
    },
    {
     "name": "stderr",
     "output_type": "stream",
     "text": [
      "\n",
      "\n",
      "\n",
      "\n",
      "\n",
      "\n",
      "\n",
      "100%|██████████| 10/10 [00:20<00:00,  2.05s/it]\u001b[A\u001b[A\u001b[A\u001b[A\u001b[A\u001b[A\u001b[A"
     ]
    },
    {
     "name": "stdout",
     "output_type": "stream",
     "text": [
      " \n",
      "Avg Training Stats after 10 threshold adjusting global rounds:\n",
      "Training loss: 170.70 | Validation accuracy: 66.89% | Validation Demographic disparity: 0.0523\n",
      " \n",
      " Results after 10 global rounds of training:\n",
      "|---- Test Accuracy: 69.00%\n",
      "|---- Test Demographic disparity: 0.0463\n",
      "\n",
      " Total Run Time: 20.5552 sec\n"
     ]
    },
    {
     "name": "stderr",
     "output_type": "stream",
     "text": [
      "\n"
     ]
    }
   ],
   "source": [
    "server.ThresholdAdjust(num_rounds = 10, local_epochs = 30, epsilon = 0.02, learning_rate = 0.01)"
   ]
  },
  {
   "cell_type": "code",
   "execution_count": 4,
   "metadata": {
    "scrolled": true
   },
   "outputs": [
    {
     "name": "stderr",
     "output_type": "stream",
     "text": [
      "\r",
      "  0%|          | 0/10 [00:00<?, ?it/s]"
     ]
    },
    {
     "name": "stdout",
     "output_type": "stream",
     "text": [
      "\n",
      " | Global Training Round : 1 |\n",
      "\n"
     ]
    },
    {
     "name": "stderr",
     "output_type": "stream",
     "text": [
      "\r",
      " 10%|█         | 1/10 [00:03<00:27,  3.02s/it]"
     ]
    },
    {
     "name": "stdout",
     "output_type": "stream",
     "text": [
      "Client 1: accuracy loss: 33.17 | fairness loss 1376.51 | Demographic disparity = 0.57\n",
      "Client 2: accuracy loss: 37.96 | fairness loss 1128.87 | Demographic disparity = 0.41\n",
      "Client 3: accuracy loss: 41.41 | fairness loss 685.39 | Demographic disparity = 0.42\n",
      "Client 4: accuracy loss: 34.12 | fairness loss 1201.58 | Demographic disparity = 0.37\n",
      " \n",
      "Avg Training Stats after 1 global rounds:\n",
      "Training loss: 0.02 | Training accuracy: 87.26% | Training Demographic disparity: 0.4290\n",
      "\n",
      " | Global Training Round : 2 |\n",
      "\n"
     ]
    },
    {
     "name": "stderr",
     "output_type": "stream",
     "text": [
      "\r",
      " 20%|██        | 2/10 [00:06<00:24,  3.06s/it]"
     ]
    },
    {
     "name": "stdout",
     "output_type": "stream",
     "text": [
      "Client 1: accuracy loss: 44.65 | fairness loss 444.72 | Demographic disparity = 0.21\n",
      "Client 2: accuracy loss: 50.59 | fairness loss 434.88 | Demographic disparity = 0.16\n",
      "Client 3: accuracy loss: 64.05 | fairness loss 260.55 | Demographic disparity = 0.13\n",
      "Client 4: accuracy loss: 46.49 | fairness loss 482.48 | Demographic disparity = 0.13\n",
      " \n",
      "Avg Training Stats after 2 global rounds:\n",
      "Training loss: 0.01 | Training accuracy: 76.84% | Training Demographic disparity: 0.1311\n",
      "\n",
      " | Global Training Round : 3 |\n",
      "\n"
     ]
    },
    {
     "name": "stderr",
     "output_type": "stream",
     "text": [
      "\r",
      " 30%|███       | 3/10 [00:09<00:21,  3.06s/it]"
     ]
    },
    {
     "name": "stdout",
     "output_type": "stream",
     "text": [
      "Client 1: accuracy loss: 64.71 | fairness loss 293.59 | Demographic disparity = 0.11\n",
      "Client 2: accuracy loss: 72.33 | fairness loss 300.41 | Demographic disparity = 0.11\n",
      "Client 3: accuracy loss: 95.09 | fairness loss 222.56 | Demographic disparity = 0.12\n",
      "Client 4: accuracy loss: 65.84 | fairness loss 266.78 | Demographic disparity = 0.09\n",
      " \n",
      "Avg Training Stats after 3 global rounds:\n",
      "Training loss: 0.01 | Training accuracy: 65.87% | Training Demographic disparity: 0.1021\n",
      "\n",
      " | Global Training Round : 4 |\n",
      "\n"
     ]
    },
    {
     "name": "stderr",
     "output_type": "stream",
     "text": [
      "\r",
      " 40%|████      | 4/10 [00:12<00:18,  3.05s/it]"
     ]
    },
    {
     "name": "stdout",
     "output_type": "stream",
     "text": [
      "Client 1: accuracy loss: 62.11 | fairness loss 359.17 | Demographic disparity = 0.06\n",
      "Client 2: accuracy loss: 66.88 | fairness loss 386.98 | Demographic disparity = 0.09\n",
      "Client 3: accuracy loss: 88.39 | fairness loss 287.52 | Demographic disparity = 0.13\n",
      "Client 4: accuracy loss: 60.37 | fairness loss 331.99 | Demographic disparity = 0.10\n",
      " \n",
      "Avg Training Stats after 4 global rounds:\n",
      "Training loss: 0.01 | Training accuracy: 67.80% | Training Demographic disparity: 0.0892\n",
      "\n",
      " | Global Training Round : 5 |\n",
      "\n"
     ]
    },
    {
     "name": "stderr",
     "output_type": "stream",
     "text": [
      "\r",
      " 50%|█████     | 5/10 [00:15<00:15,  3.07s/it]"
     ]
    },
    {
     "name": "stdout",
     "output_type": "stream",
     "text": [
      "Client 1: accuracy loss: 57.86 | fairness loss 376.73 | Demographic disparity = 0.13\n",
      "Client 2: accuracy loss: 61.65 | fairness loss 414.06 | Demographic disparity = 0.08\n",
      "Client 3: accuracy loss: 81.13 | fairness loss 296.69 | Demographic disparity = 0.09\n",
      "Client 4: accuracy loss: 55.62 | fairness loss 367.52 | Demographic disparity = 0.04\n",
      " \n",
      "Avg Training Stats after 5 global rounds:\n",
      "Training loss: 0.01 | Training accuracy: 70.29% | Training Demographic disparity: 0.0482\n",
      "\n",
      " | Global Training Round : 6 |\n",
      "\n"
     ]
    },
    {
     "name": "stderr",
     "output_type": "stream",
     "text": [
      "\r",
      " 60%|██████    | 6/10 [00:18<00:12,  3.07s/it]"
     ]
    },
    {
     "name": "stdout",
     "output_type": "stream",
     "text": [
      "Client 1: accuracy loss: 57.30 | fairness loss 360.95 | Demographic disparity = 0.13\n",
      "Client 2: accuracy loss: 60.94 | fairness loss 398.79 | Demographic disparity = 0.07\n",
      "Client 3: accuracy loss: 79.95 | fairness loss 285.66 | Demographic disparity = 0.07\n",
      "Client 4: accuracy loss: 54.94 | fairness loss 352.27 | Demographic disparity = 0.03\n",
      " \n",
      "Avg Training Stats after 6 global rounds:\n",
      "Training loss: 0.01 | Training accuracy: 70.66% | Training Demographic disparity: 0.0407\n",
      "\n",
      " | Global Training Round : 7 |\n",
      "\n"
     ]
    },
    {
     "name": "stderr",
     "output_type": "stream",
     "text": [
      "\r",
      " 70%|███████   | 7/10 [00:21<00:09,  3.09s/it]"
     ]
    },
    {
     "name": "stdout",
     "output_type": "stream",
     "text": [
      "Client 1: accuracy loss: 57.30 | fairness loss 347.54 | Demographic disparity = 0.13\n",
      "Client 2: accuracy loss: 60.84 | fairness loss 385.11 | Demographic disparity = 0.07\n",
      "Client 3: accuracy loss: 79.59 | fairness loss 276.83 | Demographic disparity = 0.08\n",
      "Client 4: accuracy loss: 54.81 | fairness loss 337.38 | Demographic disparity = 0.03\n",
      " \n",
      "Avg Training Stats after 7 global rounds:\n",
      "Training loss: 0.01 | Training accuracy: 70.64% | Training Demographic disparity: 0.0405\n",
      "\n",
      " | Global Training Round : 8 |\n",
      "\n"
     ]
    },
    {
     "name": "stderr",
     "output_type": "stream",
     "text": [
      "\r",
      " 80%|████████  | 8/10 [00:24<00:06,  3.07s/it]"
     ]
    },
    {
     "name": "stdout",
     "output_type": "stream",
     "text": [
      "Client 1: accuracy loss: 57.37 | fairness loss 338.48 | Demographic disparity = 0.13\n",
      "Client 2: accuracy loss: 60.81 | fairness loss 375.66 | Demographic disparity = 0.07\n",
      "Client 3: accuracy loss: 79.36 | fairness loss 270.79 | Demographic disparity = 0.08\n",
      "Client 4: accuracy loss: 54.74 | fairness loss 326.88 | Demographic disparity = 0.03\n",
      " \n",
      "Avg Training Stats after 8 global rounds:\n",
      "Training loss: 0.01 | Training accuracy: 70.64% | Training Demographic disparity: 0.0407\n",
      "\n",
      " | Global Training Round : 9 |\n",
      "\n"
     ]
    },
    {
     "name": "stderr",
     "output_type": "stream",
     "text": [
      "\r",
      " 90%|█████████ | 9/10 [00:27<00:03,  3.09s/it]"
     ]
    },
    {
     "name": "stdout",
     "output_type": "stream",
     "text": [
      "Client 1: accuracy loss: 57.44 | fairness loss 332.24 | Demographic disparity = 0.13\n",
      "Client 2: accuracy loss: 60.78 | fairness loss 368.97 | Demographic disparity = 0.07\n",
      "Client 3: accuracy loss: 79.13 | fairness loss 266.40 | Demographic disparity = 0.08\n",
      "Client 4: accuracy loss: 54.67 | fairness loss 319.50 | Demographic disparity = 0.03\n",
      " \n",
      "Avg Training Stats after 9 global rounds:\n",
      "Training loss: 0.01 | Training accuracy: 70.74% | Training Demographic disparity: 0.0381\n",
      "\n",
      " | Global Training Round : 10 |\n",
      "\n"
     ]
    },
    {
     "name": "stderr",
     "output_type": "stream",
     "text": [
      "100%|██████████| 10/10 [00:30<00:00,  3.09s/it]"
     ]
    },
    {
     "name": "stdout",
     "output_type": "stream",
     "text": [
      "Client 1: accuracy loss: 57.50 | fairness loss 327.56 | Demographic disparity = 0.13\n",
      "Client 2: accuracy loss: 60.74 | fairness loss 363.82 | Demographic disparity = 0.07\n",
      "Client 3: accuracy loss: 78.89 | fairness loss 262.91 | Demographic disparity = 0.08\n",
      "Client 4: accuracy loss: 54.59 | fairness loss 313.93 | Demographic disparity = 0.03\n",
      " \n",
      "Avg Training Stats after 10 global rounds:\n",
      "Training loss: 0.01 | Training accuracy: 70.71% | Training Demographic disparity: 0.0397\n",
      " \n",
      " Results after 10 global rounds of training:\n",
      "|---- Avg Train Accuracy: 70.71%\n",
      "|---- Test Accuracy: 71.17%\n",
      "|---- Test Demographic disparity: 0.0505\n",
      "\n",
      " Total Run Time: 30.9148 sec\n"
     ]
    },
    {
     "name": "stderr",
     "output_type": "stream",
     "text": [
      "\n"
     ]
    }
   ],
   "source": [
    "server = Server(logReg(num_features=3, num_classes=2, seed = seed), synthetic_info, train_prn = False, seed = seed, Z = 3)\n",
    "server.FBVariant2(num_rounds = 10, local_epochs = 30, optimizer = 'adam', learning_rate = 0.005, alpha = 0.2)"
   ]
  },
  {
   "cell_type": "code",
   "execution_count": 18,
   "metadata": {
    "scrolled": true
   },
   "outputs": [
    {
     "name": "stderr",
     "output_type": "stream",
     "text": [
      "\n",
      "\n",
      "\n",
      "  0%|          | 0/10 [00:00<?, ?it/s]\u001b[A\u001b[A\u001b[A"
     ]
    },
    {
     "name": "stdout",
     "output_type": "stream",
     "text": [
      "\n",
      " | Global Training Round : 1 |\n",
      "\n"
     ]
    },
    {
     "name": "stderr",
     "output_type": "stream",
     "text": [
      "\n",
      "\n",
      "\n",
      " 10%|█         | 1/10 [00:02<00:23,  2.58s/it]\u001b[A\u001b[A\u001b[A"
     ]
    },
    {
     "name": "stdout",
     "output_type": "stream",
     "text": [
      "Client 1: accuracy loss: 2.44 | fairness loss 1864.95 | Demographic disparity = 0.66\n",
      "Client 2: accuracy loss: 3.35 | fairness loss 1344.83 | Demographic disparity = 0.52\n",
      "Client 3: accuracy loss: 3.83 | fairness loss 820.58 | Demographic disparity = 0.43\n",
      "Client 4: accuracy loss: 3.54 | fairness loss 1102.12 | Demographic disparity = 0.59\n",
      " \n",
      "Avg Training Stats after 1 global rounds:\n",
      "Training loss: 0.29 | Validation accuracy: 85.03% | Validation Demographic disparity: 0.4798\n",
      "\n",
      " | Global Training Round : 2 |\n",
      "\n"
     ]
    },
    {
     "name": "stderr",
     "output_type": "stream",
     "text": [
      "\n",
      "\n",
      "\n",
      " 20%|██        | 2/10 [00:04<00:19,  2.49s/it]\u001b[A\u001b[A\u001b[A"
     ]
    },
    {
     "name": "stdout",
     "output_type": "stream",
     "text": [
      "Client 1: accuracy loss: 3.39 | fairness loss 549.09 | Demographic disparity = 0.40\n",
      "Client 2: accuracy loss: 3.74 | fairness loss 426.93 | Demographic disparity = 0.29\n",
      "Client 3: accuracy loss: 4.06 | fairness loss 287.06 | Demographic disparity = 0.16\n",
      "Client 4: accuracy loss: 3.91 | fairness loss 331.35 | Demographic disparity = 0.34\n",
      " \n",
      "Avg Training Stats after 2 global rounds:\n",
      "Training loss: 0.35 | Validation accuracy: 81.83% | Validation Demographic disparity: 0.2461\n",
      "\n",
      " | Global Training Round : 3 |\n",
      "\n"
     ]
    },
    {
     "name": "stderr",
     "output_type": "stream",
     "text": [
      "\n",
      "\n",
      "\n",
      " 30%|███       | 3/10 [00:07<00:17,  2.44s/it]\u001b[A\u001b[A\u001b[A"
     ]
    },
    {
     "name": "stdout",
     "output_type": "stream",
     "text": [
      "Client 1: accuracy loss: 4.55 | fairness loss 312.01 | Demographic disparity = 0.22\n",
      "Client 2: accuracy loss: 4.45 | fairness loss 244.31 | Demographic disparity = 0.09\n",
      "Client 3: accuracy loss: 4.82 | fairness loss 240.93 | Demographic disparity = 0.09\n",
      "Client 4: accuracy loss: 4.70 | fairness loss 186.92 | Demographic disparity = 0.21\n",
      " \n",
      "Avg Training Stats after 3 global rounds:\n",
      "Training loss: 0.35 | Validation accuracy: 76.16% | Validation Demographic disparity: 0.0569\n",
      "\n",
      " | Global Training Round : 4 |\n",
      "\n"
     ]
    },
    {
     "name": "stderr",
     "output_type": "stream",
     "text": [
      "\n",
      "\n",
      "\n",
      " 40%|████      | 4/10 [00:09<00:14,  2.42s/it]\u001b[A\u001b[A\u001b[A"
     ]
    },
    {
     "name": "stdout",
     "output_type": "stream",
     "text": [
      "Client 1: accuracy loss: 5.05 | fairness loss 269.32 | Demographic disparity = 0.16\n",
      "Client 2: accuracy loss: 4.72 | fairness loss 206.89 | Demographic disparity = 0.07\n",
      "Client 3: accuracy loss: 5.12 | fairness loss 247.38 | Demographic disparity = 0.09\n",
      "Client 4: accuracy loss: 5.00 | fairness loss 159.86 | Demographic disparity = 0.11\n",
      " \n",
      "Avg Training Stats after 4 global rounds:\n",
      "Training loss: 0.35 | Validation accuracy: 72.89% | Validation Demographic disparity: 0.0075\n",
      "\n",
      " | Global Training Round : 5 |\n",
      "\n"
     ]
    },
    {
     "name": "stderr",
     "output_type": "stream",
     "text": [
      "\n",
      "\n",
      "\n",
      " 50%|█████     | 5/10 [00:11<00:11,  2.38s/it]\u001b[A\u001b[A\u001b[A"
     ]
    },
    {
     "name": "stdout",
     "output_type": "stream",
     "text": [
      "Client 1: accuracy loss: 5.18 | fairness loss 248.60 | Demographic disparity = 0.13\n",
      "Client 2: accuracy loss: 4.76 | fairness loss 189.90 | Demographic disparity = 0.07\n",
      "Client 3: accuracy loss: 5.18 | fairness loss 241.29 | Demographic disparity = 0.09\n",
      "Client 4: accuracy loss: 5.05 | fairness loss 147.25 | Demographic disparity = 0.10\n",
      " \n",
      "Avg Training Stats after 5 global rounds:\n",
      "Training loss: 0.35 | Validation accuracy: 71.89% | Validation Demographic disparity: 0.0234\n",
      "\n",
      " | Global Training Round : 6 |\n",
      "\n"
     ]
    },
    {
     "name": "stderr",
     "output_type": "stream",
     "text": [
      "\n",
      "\n",
      "\n",
      " 60%|██████    | 6/10 [00:14<00:09,  2.36s/it]\u001b[A\u001b[A\u001b[A"
     ]
    },
    {
     "name": "stdout",
     "output_type": "stream",
     "text": [
      "Client 1: accuracy loss: 5.19 | fairness loss 231.10 | Demographic disparity = 0.13\n",
      "Client 2: accuracy loss: 4.73 | fairness loss 176.96 | Demographic disparity = 0.10\n",
      "Client 3: accuracy loss: 5.15 | fairness loss 226.92 | Demographic disparity = 0.09\n",
      "Client 4: accuracy loss: 5.02 | fairness loss 137.07 | Demographic disparity = 0.10\n",
      " \n",
      "Avg Training Stats after 6 global rounds:\n",
      "Training loss: 0.35 | Validation accuracy: 71.61% | Validation Demographic disparity: 0.0308\n",
      "\n",
      " | Global Training Round : 7 |\n",
      "\n"
     ]
    },
    {
     "name": "stderr",
     "output_type": "stream",
     "text": [
      "\n",
      "\n",
      "\n",
      " 70%|███████   | 7/10 [00:16<00:07,  2.34s/it]\u001b[A\u001b[A\u001b[A"
     ]
    },
    {
     "name": "stdout",
     "output_type": "stream",
     "text": [
      "Client 1: accuracy loss: 5.15 | fairness loss 214.79 | Demographic disparity = 0.13\n",
      "Client 2: accuracy loss: 4.68 | fairness loss 165.26 | Demographic disparity = 0.11\n",
      "Client 3: accuracy loss: 5.10 | fairness loss 209.75 | Demographic disparity = 0.08\n",
      "Client 4: accuracy loss: 4.97 | fairness loss 127.67 | Demographic disparity = 0.10\n",
      " \n",
      "Avg Training Stats after 7 global rounds:\n",
      "Training loss: 0.35 | Validation accuracy: 72.54% | Validation Demographic disparity: 0.0209\n",
      "\n",
      " | Global Training Round : 8 |\n",
      "\n"
     ]
    },
    {
     "name": "stderr",
     "output_type": "stream",
     "text": [
      "\n",
      "\n",
      "\n",
      " 80%|████████  | 8/10 [00:18<00:04,  2.35s/it]\u001b[A\u001b[A\u001b[A"
     ]
    },
    {
     "name": "stdout",
     "output_type": "stream",
     "text": [
      "Client 1: accuracy loss: 5.12 | fairness loss 199.47 | Demographic disparity = 0.13\n",
      "Client 2: accuracy loss: 4.64 | fairness loss 154.23 | Demographic disparity = 0.12\n",
      "Client 3: accuracy loss: 5.05 | fairness loss 192.45 | Demographic disparity = 0.08\n",
      "Client 4: accuracy loss: 4.93 | fairness loss 118.82 | Demographic disparity = 0.07\n",
      " \n",
      "Avg Training Stats after 8 global rounds:\n",
      "Training loss: 0.35 | Validation accuracy: 72.32% | Validation Demographic disparity: 0.0188\n",
      "\n",
      " | Global Training Round : 9 |\n",
      "\n"
     ]
    },
    {
     "name": "stderr",
     "output_type": "stream",
     "text": [
      "\n",
      "\n",
      "\n",
      " 90%|█████████ | 9/10 [00:21<00:02,  2.36s/it]\u001b[A\u001b[A\u001b[A"
     ]
    },
    {
     "name": "stdout",
     "output_type": "stream",
     "text": [
      "Client 1: accuracy loss: 5.10 | fairness loss 185.13 | Demographic disparity = 0.17\n",
      "Client 2: accuracy loss: 4.60 | fairness loss 143.76 | Demographic disparity = 0.13\n",
      "Client 3: accuracy loss: 5.01 | fairness loss 176.13 | Demographic disparity = 0.03\n",
      "Client 4: accuracy loss: 4.89 | fairness loss 110.49 | Demographic disparity = 0.07\n",
      " \n",
      "Avg Training Stats after 9 global rounds:\n",
      "Training loss: 0.35 | Validation accuracy: 73.63% | Validation Demographic disparity: 0.0320\n",
      "\n",
      " | Global Training Round : 10 |\n",
      "\n"
     ]
    },
    {
     "name": "stderr",
     "output_type": "stream",
     "text": [
      "\n",
      "\n",
      "\n",
      "100%|██████████| 10/10 [00:23<00:00,  2.37s/it]\u001b[A\u001b[A\u001b[A"
     ]
    },
    {
     "name": "stdout",
     "output_type": "stream",
     "text": [
      "Client 1: accuracy loss: 5.08 | fairness loss 171.81 | Demographic disparity = 0.17\n",
      "Client 2: accuracy loss: 4.58 | fairness loss 133.90 | Demographic disparity = 0.13\n",
      "Client 3: accuracy loss: 4.99 | fairness loss 161.07 | Demographic disparity = 0.02\n",
      "Client 4: accuracy loss: 4.87 | fairness loss 102.71 | Demographic disparity = 0.07\n",
      " \n",
      "Avg Training Stats after 10 global rounds:\n",
      "Training loss: 0.35 | Validation accuracy: 74.00% | Validation Demographic disparity: 0.0379\n",
      " \n",
      " Results after 10 global rounds of training:\n",
      "|---- Avg Train Accuracy: 74.00%\n",
      "|---- Test Accuracy: 75.17%\n",
      "|---- Test Demographic disparity: 0.0188\n",
      "\n",
      " Total Run Time: 23.7157 sec\n"
     ]
    },
    {
     "name": "stderr",
     "output_type": "stream",
     "text": [
      "\n"
     ]
    }
   ],
   "source": [
    "server = Server(logReg(num_features=3, num_classes=2, seed = seed), synthetic_info, train_prn = False, seed = seed, Z = 3)\n",
    "server.BiasCorrecting(num_rounds = 10, local_epochs = 30, optimizer = 'adam', epsilon = None, learning_rate = 0.02, alpha = 10)\n",
    "\n"
   ]
  },
  {
   "cell_type": "code",
   "execution_count": 19,
   "metadata": {},
   "outputs": [
    {
     "name": "stderr",
     "output_type": "stream",
     "text": [
      "\n",
      "\n",
      "\n",
      "  0%|          | 0/3 [00:00<?, ?it/s]\u001b[A\u001b[A\u001b[A"
     ]
    },
    {
     "name": "stdout",
     "output_type": "stream",
     "text": [
      "\n",
      " | Testing Round : 1 | constraint :  Cov(z, d) < c\n",
      "\n"
     ]
    },
    {
     "name": "stderr",
     "output_type": "stream",
     "text": [
      "\n",
      "\n",
      "\n",
      " 33%|███▎      | 1/3 [00:02<00:04,  2.47s/it]\u001b[A\u001b[A\u001b[A"
     ]
    },
    {
     "name": "stdout",
     "output_type": "stream",
     "text": [
      "Client 1: accuracy loss: 2.44 | fairness loss 34.84 | Demographic disparity = 0.61\n",
      "Client 2: accuracy loss: 3.28 | fairness loss 25.31 | Demographic disparity = 0.48\n",
      "Client 3: accuracy loss: 3.76 | fairness loss 19.21 | Demographic disparity = 0.34\n",
      "Client 4: accuracy loss: 3.30 | fairness loss 21.91 | Demographic disparity = 0.47\n",
      " \n",
      "Avg Training Stats after 1 Testing rounds:\n",
      "Training loss: 33.13 | Validation accuracy: 86.22% | Validation Demographic disparity: 0.4285\n",
      "\n",
      " | Testing Round : 2 | constraint :  Cov(z, d) < c\n",
      "\n"
     ]
    },
    {
     "name": "stderr",
     "output_type": "stream",
     "text": [
      "\n",
      "\n",
      "\n",
      " 67%|██████▋   | 2/3 [00:04<00:02,  2.33s/it]\u001b[A\u001b[A\u001b[A"
     ]
    },
    {
     "name": "stdout",
     "output_type": "stream",
     "text": [
      "Client 1: accuracy loss: 2.42 | fairness loss 284.93 | Demographic disparity = 0.61\n",
      "Client 2: accuracy loss: 3.28 | fairness loss 207.16 | Demographic disparity = 0.47\n",
      "Client 3: accuracy loss: 3.83 | fairness loss 149.05 | Demographic disparity = 0.34\n",
      "Client 4: accuracy loss: 3.34 | fairness loss 176.90 | Demographic disparity = 0.48\n",
      " \n",
      "Avg Training Stats after 2 Testing rounds:\n",
      "Training loss: 30.47 | Validation accuracy: 86.92% | Validation Demographic disparity: 0.4219\n",
      "\n",
      " | Testing Round : 3 | constraint :  Cov(z, d) < c\n",
      "\n"
     ]
    },
    {
     "name": "stderr",
     "output_type": "stream",
     "text": [
      "\n",
      "\n",
      "\n",
      "100%|██████████| 3/3 [00:06<00:00,  2.15s/it]\u001b[A\u001b[A\u001b[A\n",
      "\n",
      "\n",
      "\n",
      "  0%|          | 0/3 [00:00<?, ?it/s]\u001b[A\u001b[A\u001b[A"
     ]
    },
    {
     "name": "stdout",
     "output_type": "stream",
     "text": [
      "Client 1: accuracy loss: 2.42 | fairness loss 786.00 | Demographic disparity = 0.61\n",
      "Client 2: accuracy loss: 3.28 | fairness loss 571.76 | Demographic disparity = 0.47\n",
      "Client 3: accuracy loss: 3.82 | fairness loss 405.14 | Demographic disparity = 0.34\n",
      "Client 4: accuracy loss: 3.34 | fairness loss 486.22 | Demographic disparity = 0.48\n",
      " \n",
      "Avg Training Stats after 3 Testing rounds:\n",
      "Training loss: 28.09 | Validation accuracy: 86.92% | Validation Demographic disparity: 0.4219\n",
      "\n",
      " | Testing Round : 1 | constraint :  Cov(z, d) > -c\n",
      "\n"
     ]
    },
    {
     "name": "stderr",
     "output_type": "stream",
     "text": [
      "\n",
      "\n",
      "\n",
      " 33%|███▎      | 1/3 [00:01<00:03,  1.99s/it]\u001b[A\u001b[A\u001b[A"
     ]
    },
    {
     "name": "stdout",
     "output_type": "stream",
     "text": [
      "Client 1: accuracy loss: 2.44 | fairness loss 19.00 | Demographic disparity = 0.57\n",
      "Client 2: accuracy loss: 3.26 | fairness loss 14.05 | Demographic disparity = 0.46\n",
      "Client 3: accuracy loss: 3.72 | fairness loss 13.04 | Demographic disparity = 0.34\n",
      "Client 4: accuracy loss: 3.29 | fairness loss 12.73 | Demographic disparity = 0.47\n",
      " \n",
      "Avg Training Stats after 1 Testing rounds:\n",
      "Training loss: 29.90 | Validation accuracy: 85.65% | Validation Demographic disparity: 0.4149\n",
      "\n",
      " | Testing Round : 2 | constraint :  Cov(z, d) > -c\n",
      "\n"
     ]
    },
    {
     "name": "stderr",
     "output_type": "stream",
     "text": [
      "\n",
      "\n",
      "\n",
      " 67%|██████▋   | 2/3 [00:03<00:01,  2.00s/it]\u001b[A\u001b[A\u001b[A"
     ]
    },
    {
     "name": "stdout",
     "output_type": "stream",
     "text": [
      "Client 1: accuracy loss: 2.42 | fairness loss 224.35 | Demographic disparity = 0.56\n",
      "Client 2: accuracy loss: 3.25 | fairness loss 163.43 | Demographic disparity = 0.45\n",
      "Client 3: accuracy loss: 3.77 | fairness loss 124.46 | Demographic disparity = 0.34\n",
      "Client 4: accuracy loss: 3.32 | fairness loss 141.56 | Demographic disparity = 0.48\n",
      " \n",
      "Avg Training Stats after 2 Testing rounds:\n",
      "Training loss: 29.94 | Validation accuracy: 84.94% | Validation Demographic disparity: 0.3988\n",
      "\n",
      " | Testing Round : 3 | constraint :  Cov(z, d) > -c\n",
      "\n"
     ]
    },
    {
     "name": "stderr",
     "output_type": "stream",
     "text": [
      "\n",
      "\n",
      "\n",
      "100%|██████████| 3/3 [00:06<00:00,  2.11s/it]\u001b[A\u001b[A\u001b[A\n",
      "\n",
      "\n",
      "\n",
      "  0%|          | 0/10 [00:00<?, ?it/s]\u001b[A\u001b[A\u001b[A"
     ]
    },
    {
     "name": "stdout",
     "output_type": "stream",
     "text": [
      "Client 1: accuracy loss: 2.42 | fairness loss 671.52 | Demographic disparity = 0.39\n",
      "Client 2: accuracy loss: 3.25 | fairness loss 488.83 | Demographic disparity = 0.24\n",
      "Client 3: accuracy loss: 3.77 | fairness loss 357.32 | Demographic disparity = 0.22\n",
      "Client 4: accuracy loss: 3.32 | fairness loss 419.00 | Demographic disparity = 0.24\n",
      " \n",
      "Avg Training Stats after 3 Testing rounds:\n",
      "Training loss: 29.24 | Validation accuracy: 68.57% | Validation Demographic disparity: 0.2272\n",
      "\n",
      " | Global Round : 1 | constraint :  Cov(z, d) > -c\n",
      "\n"
     ]
    },
    {
     "name": "stderr",
     "output_type": "stream",
     "text": [
      "\n",
      "\n",
      "\n",
      " 10%|█         | 1/10 [00:02<00:20,  2.24s/it]\u001b[A\u001b[A\u001b[A"
     ]
    },
    {
     "name": "stdout",
     "output_type": "stream",
     "text": [
      "Client 1: accuracy loss: 2.42 | fairness loss 1361.28 | Demographic disparity = 0.21\n",
      "Client 2: accuracy loss: 3.25 | fairness loss 990.85 | Demographic disparity = 0.20\n",
      "Client 3: accuracy loss: 3.77 | fairness loss 712.20 | Demographic disparity = 0.10\n",
      "Client 4: accuracy loss: 3.32 | fairness loss 845.57 | Demographic disparity = 0.03\n",
      " \n",
      "Avg Training Stats after 1 global rounds:\n",
      "Training loss: 28.10 | Validation accuracy: 59.03% | Validation Demographic disparity: 0.1385\n",
      "\n",
      " | Global Round : 2 | constraint :  Cov(z, d) > -c\n",
      "\n"
     ]
    },
    {
     "name": "stderr",
     "output_type": "stream",
     "text": [
      "\n",
      "\n",
      "\n",
      " 20%|██        | 2/10 [00:04<00:17,  2.24s/it]\u001b[A\u001b[A\u001b[A"
     ]
    },
    {
     "name": "stdout",
     "output_type": "stream",
     "text": [
      "Client 1: accuracy loss: 2.42 | fairness loss 2293.71 | Demographic disparity = 0.11\n",
      "Client 2: accuracy loss: 3.25 | fairness loss 1669.55 | Demographic disparity = 0.14\n",
      "Client 3: accuracy loss: 3.77 | fairness loss 1189.15 | Demographic disparity = 0.04\n",
      "Client 4: accuracy loss: 3.32 | fairness loss 1421.35 | Demographic disparity = 0.03\n",
      " \n",
      "Avg Training Stats after 2 global rounds:\n",
      "Training loss: 26.70 | Validation accuracy: 53.78% | Validation Demographic disparity: 0.0758\n",
      "\n",
      " | Global Round : 3 | constraint :  Cov(z, d) > -c\n",
      "\n"
     ]
    },
    {
     "name": "stderr",
     "output_type": "stream",
     "text": [
      "\n",
      "\n",
      "\n",
      " 30%|███       | 3/10 [00:06<00:15,  2.21s/it]\u001b[A\u001b[A\u001b[A"
     ]
    },
    {
     "name": "stdout",
     "output_type": "stream",
     "text": [
      "Client 1: accuracy loss: 2.42 | fairness loss 3468.95 | Demographic disparity = 0.10\n",
      "Client 2: accuracy loss: 3.25 | fairness loss 2525.01 | Demographic disparity = 0.10\n",
      "Client 3: accuracy loss: 3.77 | fairness loss 1788.22 | Demographic disparity = 0.06\n",
      "Client 4: accuracy loss: 3.32 | fairness loss 2146.39 | Demographic disparity = 0.12\n",
      " \n",
      "Avg Training Stats after 3 global rounds:\n",
      "Training loss: 25.12 | Validation accuracy: 51.59% | Validation Demographic disparity: 0.0461\n",
      "\n",
      " | Global Round : 4 | constraint :  Cov(z, d) > -c\n",
      "\n"
     ]
    },
    {
     "name": "stderr",
     "output_type": "stream",
     "text": [
      "\n",
      "\n",
      "\n",
      " 40%|████      | 4/10 [00:08<00:13,  2.18s/it]\u001b[A\u001b[A\u001b[A"
     ]
    },
    {
     "name": "stdout",
     "output_type": "stream",
     "text": [
      "Client 1: accuracy loss: 2.42 | fairness loss 4887.08 | Demographic disparity = 0.13\n",
      "Client 2: accuracy loss: 3.25 | fairness loss 3557.32 | Demographic disparity = 0.08\n",
      "Client 3: accuracy loss: 3.77 | fairness loss 2509.49 | Demographic disparity = 0.07\n",
      "Client 4: accuracy loss: 3.32 | fairness loss 3020.78 | Demographic disparity = 0.12\n",
      " \n",
      "Avg Training Stats after 4 global rounds:\n",
      "Training loss: 23.42 | Validation accuracy: 50.09% | Validation Demographic disparity: 0.0373\n",
      "\n",
      " | Global Round : 5 | constraint :  Cov(z, d) > -c\n",
      "\n"
     ]
    },
    {
     "name": "stderr",
     "output_type": "stream",
     "text": [
      "\n",
      "\n",
      "\n",
      " 50%|█████     | 5/10 [00:11<00:11,  2.21s/it]\u001b[A\u001b[A\u001b[A"
     ]
    },
    {
     "name": "stdout",
     "output_type": "stream",
     "text": [
      "Client 1: accuracy loss: 2.42 | fairness loss 6548.23 | Demographic disparity = 0.16\n",
      "Client 2: accuracy loss: 3.25 | fairness loss 4766.55 | Demographic disparity = 0.08\n",
      "Client 3: accuracy loss: 3.77 | fairness loss 3353.00 | Demographic disparity = 0.07\n",
      "Client 4: accuracy loss: 3.32 | fairness loss 4044.57 | Demographic disparity = 0.19\n",
      " \n",
      "Avg Training Stats after 5 global rounds:\n",
      "Training loss: 21.63 | Validation accuracy: 50.70% | Validation Demographic disparity: 0.0458\n",
      "\n",
      " | Global Round : 6 | constraint :  Cov(z, d) > -c\n",
      "\n"
     ]
    },
    {
     "name": "stderr",
     "output_type": "stream",
     "text": [
      "\n",
      "\n",
      "\n",
      " 60%|██████    | 6/10 [00:13<00:08,  2.21s/it]\u001b[A\u001b[A\u001b[A"
     ]
    },
    {
     "name": "stdout",
     "output_type": "stream",
     "text": [
      "Client 1: accuracy loss: 2.42 | fairness loss 8452.49 | Demographic disparity = 0.17\n",
      "Client 2: accuracy loss: 3.25 | fairness loss 6152.79 | Demographic disparity = 0.07\n",
      "Client 3: accuracy loss: 3.77 | fairness loss 4318.82 | Demographic disparity = 0.07\n",
      "Client 4: accuracy loss: 3.32 | fairness loss 5217.84 | Demographic disparity = 0.17\n",
      " \n",
      "Avg Training Stats after 6 global rounds:\n",
      "Training loss: 19.77 | Validation accuracy: 49.70% | Validation Demographic disparity: 0.0443\n",
      "\n",
      " | Global Round : 7 | constraint :  Cov(z, d) > -c\n",
      "\n"
     ]
    },
    {
     "name": "stderr",
     "output_type": "stream",
     "text": [
      "\n",
      "\n",
      "\n",
      " 70%|███████   | 7/10 [00:15<00:06,  2.19s/it]\u001b[A\u001b[A\u001b[A"
     ]
    },
    {
     "name": "stdout",
     "output_type": "stream",
     "text": [
      "Client 1: accuracy loss: 2.42 | fairness loss 10599.99 | Demographic disparity = 0.17\n",
      "Client 2: accuracy loss: 3.25 | fairness loss 7716.12 | Demographic disparity = 0.07\n",
      "Client 3: accuracy loss: 3.77 | fairness loss 5407.01 | Demographic disparity = 0.07\n",
      "Client 4: accuracy loss: 3.32 | fairness loss 6540.66 | Demographic disparity = 0.17\n",
      " \n",
      "Avg Training Stats after 7 global rounds:\n",
      "Training loss: 17.85 | Validation accuracy: 49.70% | Validation Demographic disparity: 0.0443\n",
      "\n",
      " | Global Round : 8 | constraint :  Cov(z, d) > -c\n",
      "\n"
     ]
    },
    {
     "name": "stderr",
     "output_type": "stream",
     "text": [
      "\n",
      "\n",
      "\n",
      " 80%|████████  | 8/10 [00:18<00:04,  2.34s/it]\u001b[A\u001b[A\u001b[A"
     ]
    },
    {
     "name": "stdout",
     "output_type": "stream",
     "text": [
      "Client 1: accuracy loss: 2.42 | fairness loss 12990.84 | Demographic disparity = 0.20\n",
      "Client 2: accuracy loss: 3.25 | fairness loss 9456.62 | Demographic disparity = 0.07\n",
      "Client 3: accuracy loss: 3.77 | fairness loss 6617.63 | Demographic disparity = 0.07\n",
      "Client 4: accuracy loss: 3.32 | fairness loss 8013.10 | Demographic disparity = 0.16\n",
      " \n",
      "Avg Training Stats after 8 global rounds:\n",
      "Training loss: 15.90 | Validation accuracy: 48.70% | Validation Demographic disparity: 0.0428\n",
      "\n",
      " | Global Round : 9 | constraint :  Cov(z, d) > -c\n",
      "\n"
     ]
    },
    {
     "name": "stderr",
     "output_type": "stream",
     "text": [
      "\n",
      "\n",
      "\n",
      " 90%|█████████ | 9/10 [00:20<00:02,  2.35s/it]\u001b[A\u001b[A\u001b[A"
     ]
    },
    {
     "name": "stdout",
     "output_type": "stream",
     "text": [
      "Client 1: accuracy loss: 2.42 | fairness loss 15625.14 | Demographic disparity = 0.20\n",
      "Client 2: accuracy loss: 3.25 | fairness loss 11374.37 | Demographic disparity = 0.06\n",
      "Client 3: accuracy loss: 3.77 | fairness loss 7950.73 | Demographic disparity = 0.05\n",
      "Client 4: accuracy loss: 3.32 | fairness loss 9635.22 | Demographic disparity = 0.16\n",
      " \n",
      "Avg Training Stats after 9 global rounds:\n",
      "Training loss: 13.91 | Validation accuracy: 48.33% | Validation Demographic disparity: 0.0414\n",
      "\n",
      " | Global Round : 10 | constraint :  Cov(z, d) > -c\n",
      "\n"
     ]
    },
    {
     "name": "stderr",
     "output_type": "stream",
     "text": [
      "\n",
      "\n",
      "\n",
      "100%|██████████| 10/10 [00:22<00:00,  2.27s/it]\u001b[A\u001b[A\u001b[A"
     ]
    },
    {
     "name": "stdout",
     "output_type": "stream",
     "text": [
      "Client 1: accuracy loss: 2.42 | fairness loss 18503.00 | Demographic disparity = 0.20\n",
      "Client 2: accuracy loss: 3.25 | fairness loss 13469.46 | Demographic disparity = 0.06\n",
      "Client 3: accuracy loss: 3.77 | fairness loss 9406.38 | Demographic disparity = 0.05\n",
      "Client 4: accuracy loss: 3.32 | fairness loss 11407.10 | Demographic disparity = 0.16\n",
      " \n",
      "Avg Training Stats after 10 global rounds:\n",
      "Training loss: 11.90 | Validation accuracy: 48.33% | Validation Demographic disparity: 0.0414\n",
      " \n",
      " Results after 10 global rounds of training:\n",
      "|---- Avg Train Accuracy: 48.33%\n",
      "|---- Test Accuracy: 45.50%\n",
      "|---- Test Demographic disparity: 0.0253\n",
      "\n",
      " Total Run Time: 35.5487 sec\n"
     ]
    },
    {
     "name": "stderr",
     "output_type": "stream",
     "text": [
      "\n"
     ]
    }
   ],
   "source": [
    "server = Server(logReg(num_features=3, num_classes=2, seed = seed), synthetic_info, train_prn = False, seed = seed, Z = 3)\n",
    "server.Zafar(test_rounds = 3, test_lr = 0.1, test_penalty = 1, num_rounds = 10, local_epochs = 30, optimizer = 'adam', learning_rate = 0.1, penalty = 1)"
   ]
  },
  {
   "cell_type": "code",
   "execution_count": 31,
   "metadata": {
    "scrolled": true
   },
   "outputs": [
    {
     "name": "stderr",
     "output_type": "stream",
     "text": [
      "\n",
      "\n",
      "\n",
      "\n",
      "\n",
      "\n",
      "\n",
      "  0%|          | 0/10 [00:00<?, ?it/s]\u001b[A\u001b[A\u001b[A\u001b[A\u001b[A\u001b[A\u001b[A"
     ]
    },
    {
     "name": "stdout",
     "output_type": "stream",
     "text": [
      "\n",
      " | Global Training Round : 1 |\n",
      "\n"
     ]
    },
    {
     "name": "stderr",
     "output_type": "stream",
     "text": [
      "\n",
      "\n",
      "\n",
      "\n",
      "\n",
      "\n",
      "\n",
      " 10%|█         | 1/10 [00:02<00:23,  2.60s/it]\u001b[A\u001b[A\u001b[A\u001b[A\u001b[A\u001b[A\u001b[A"
     ]
    },
    {
     "name": "stdout",
     "output_type": "stream",
     "text": [
      "Client 1: accuracy loss: 10.44 | fairness loss 216.55 | Demographic disparity = 0.26\n",
      "Client 2: accuracy loss: 9.56 | fairness loss 177.77 | Demographic disparity = 0.25\n",
      "Client 3: accuracy loss: 9.24 | fairness loss 144.92 | Demographic disparity = 0.14\n",
      "Client 4: accuracy loss: 8.93 | fairness loss 139.59 | Demographic disparity = 0.21\n",
      " \n",
      "Avg Training Stats after 1 global rounds:\n",
      "Training loss: 351.97 | Validation accuracy: 48.87% | Validation Demographic disparity: 0.1874\n",
      "\n",
      " | Global Training Round : 2 |\n",
      "\n"
     ]
    },
    {
     "name": "stderr",
     "output_type": "stream",
     "text": [
      "\n",
      "\n",
      "\n",
      "\n",
      "\n",
      "\n",
      "\n",
      " 20%|██        | 2/10 [00:05<00:20,  2.62s/it]\u001b[A\u001b[A\u001b[A\u001b[A\u001b[A\u001b[A\u001b[A"
     ]
    },
    {
     "name": "stdout",
     "output_type": "stream",
     "text": [
      "Client 1: accuracy loss: 8.66 | fairness loss 123.88 | Demographic disparity = 0.19\n",
      "Client 2: accuracy loss: 8.09 | fairness loss 104.00 | Demographic disparity = 0.22\n",
      "Client 3: accuracy loss: 7.92 | fairness loss 90.88 | Demographic disparity = 0.12\n",
      "Client 4: accuracy loss: 7.78 | fairness loss 81.97 | Demographic disparity = 0.14\n",
      " \n",
      "Avg Training Stats after 2 global rounds:\n",
      "Training loss: 296.08 | Validation accuracy: 53.17% | Validation Demographic disparity: 0.1441\n",
      "\n",
      " | Global Training Round : 3 |\n",
      "\n"
     ]
    },
    {
     "name": "stderr",
     "output_type": "stream",
     "text": [
      "\n",
      "\n",
      "\n",
      "\n",
      "\n",
      "\n",
      "\n",
      " 30%|███       | 3/10 [00:07<00:17,  2.54s/it]\u001b[A\u001b[A\u001b[A\u001b[A\u001b[A\u001b[A\u001b[A"
     ]
    },
    {
     "name": "stdout",
     "output_type": "stream",
     "text": [
      "Client 1: accuracy loss: 7.36 | fairness loss 63.75 | Demographic disparity = 0.24\n",
      "Client 2: accuracy loss: 7.01 | fairness loss 54.70 | Demographic disparity = 0.19\n",
      "Client 3: accuracy loss: 6.98 | fairness loss 50.80 | Demographic disparity = 0.11\n",
      "Client 4: accuracy loss: 6.98 | fairness loss 43.31 | Demographic disparity = 0.09\n",
      " \n",
      "Avg Training Stats after 3 global rounds:\n",
      "Training loss: 252.55 | Validation accuracy: 56.64% | Validation Demographic disparity: 0.1226\n",
      "\n",
      " | Global Training Round : 4 |\n",
      "\n"
     ]
    },
    {
     "name": "stderr",
     "output_type": "stream",
     "text": [
      "\n",
      "\n",
      "\n",
      "\n",
      "\n",
      "\n",
      "\n",
      " 40%|████      | 4/10 [00:10<00:15,  2.54s/it]\u001b[A\u001b[A\u001b[A\u001b[A\u001b[A\u001b[A\u001b[A"
     ]
    },
    {
     "name": "stdout",
     "output_type": "stream",
     "text": [
      "Client 1: accuracy loss: 6.51 | fairness loss 26.10 | Demographic disparity = 0.15\n",
      "Client 2: accuracy loss: 6.35 | fairness loss 22.97 | Demographic disparity = 0.15\n",
      "Client 3: accuracy loss: 6.43 | fairness loss 23.16 | Demographic disparity = 0.11\n",
      "Client 4: accuracy loss: 6.49 | fairness loss 18.42 | Demographic disparity = 0.12\n",
      " \n",
      "Avg Training Stats after 4 global rounds:\n",
      "Training loss: 218.52 | Validation accuracy: 62.01% | Validation Demographic disparity: 0.0573\n",
      "\n",
      " | Global Training Round : 5 |\n",
      "\n"
     ]
    },
    {
     "name": "stderr",
     "output_type": "stream",
     "text": [
      "\n",
      "\n",
      "\n",
      "\n",
      "\n",
      "\n",
      "\n",
      " 50%|█████     | 5/10 [00:12<00:12,  2.52s/it]\u001b[A\u001b[A\u001b[A\u001b[A\u001b[A\u001b[A\u001b[A"
     ]
    },
    {
     "name": "stdout",
     "output_type": "stream",
     "text": [
      "Client 1: accuracy loss: 5.90 | fairness loss 7.57 | Demographic disparity = 0.13\n",
      "Client 2: accuracy loss: 5.92 | fairness loss 6.74 | Demographic disparity = 0.05\n",
      "Client 3: accuracy loss: 6.08 | fairness loss 7.65 | Demographic disparity = 0.12\n",
      "Client 4: accuracy loss: 6.17 | fairness loss 5.57 | Demographic disparity = 0.02\n",
      " \n",
      "Avg Training Stats after 5 global rounds:\n",
      "Training loss: 192.09 | Validation accuracy: 63.81% | Validation Demographic disparity: 0.0585\n",
      "\n",
      " | Global Training Round : 6 |\n",
      "\n"
     ]
    },
    {
     "name": "stderr",
     "output_type": "stream",
     "text": [
      "\n",
      "\n",
      "\n",
      "\n",
      "\n",
      "\n",
      "\n",
      " 60%|██████    | 6/10 [00:14<00:09,  2.46s/it]\u001b[A\u001b[A\u001b[A\u001b[A\u001b[A\u001b[A\u001b[A"
     ]
    },
    {
     "name": "stdout",
     "output_type": "stream",
     "text": [
      "Client 1: accuracy loss: 5.49 | fairness loss 4.11 | Demographic disparity = 0.10\n",
      "Client 2: accuracy loss: 5.68 | fairness loss 3.23 | Demographic disparity = 0.08\n",
      "Client 3: accuracy loss: 5.89 | fairness loss 2.82 | Demographic disparity = 0.09\n",
      "Client 4: accuracy loss: 6.00 | fairness loss 2.63 | Demographic disparity = 0.05\n",
      " \n",
      "Avg Training Stats after 6 global rounds:\n",
      "Training loss: 172.19 | Validation accuracy: 63.55% | Validation Demographic disparity: 0.0684\n",
      "\n",
      " | Global Training Round : 7 |\n",
      "\n"
     ]
    },
    {
     "name": "stderr",
     "output_type": "stream",
     "text": [
      "\n",
      "\n",
      "\n",
      "\n",
      "\n",
      "\n",
      "\n",
      " 70%|███████   | 7/10 [00:17<00:07,  2.42s/it]\u001b[A\u001b[A\u001b[A\u001b[A\u001b[A\u001b[A\u001b[A"
     ]
    },
    {
     "name": "stdout",
     "output_type": "stream",
     "text": [
      "Client 1: accuracy loss: 5.35 | fairness loss 4.55 | Demographic disparity = 0.07\n",
      "Client 2: accuracy loss: 5.63 | fairness loss 3.53 | Demographic disparity = 0.07\n",
      "Client 3: accuracy loss: 5.84 | fairness loss 2.40 | Demographic disparity = 0.07\n",
      "Client 4: accuracy loss: 5.97 | fairness loss 2.75 | Demographic disparity = 0.05\n",
      " \n",
      "Avg Training Stats after 7 global rounds:\n",
      "Training loss: 157.55 | Validation accuracy: 62.34% | Validation Demographic disparity: 0.0513\n",
      "\n",
      " | Global Training Round : 8 |\n",
      "\n"
     ]
    },
    {
     "name": "stderr",
     "output_type": "stream",
     "text": [
      "\n",
      "\n",
      "\n",
      "\n",
      "\n",
      "\n",
      "\n",
      " 80%|████████  | 8/10 [00:19<00:04,  2.40s/it]\u001b[A\u001b[A\u001b[A\u001b[A\u001b[A\u001b[A\u001b[A"
     ]
    },
    {
     "name": "stdout",
     "output_type": "stream",
     "text": [
      "Client 1: accuracy loss: 5.33 | fairness loss 4.52 | Demographic disparity = 0.04\n",
      "Client 2: accuracy loss: 5.65 | fairness loss 3.52 | Demographic disparity = 0.07\n",
      "Client 3: accuracy loss: 5.84 | fairness loss 2.33 | Demographic disparity = 0.04\n",
      "Client 4: accuracy loss: 5.99 | fairness loss 2.73 | Demographic disparity = 0.05\n",
      " \n",
      "Avg Training Stats after 8 global rounds:\n",
      "Training loss: 146.54 | Validation accuracy: 61.39% | Validation Demographic disparity: 0.0410\n",
      "\n",
      " | Global Training Round : 9 |\n",
      "\n"
     ]
    },
    {
     "name": "stderr",
     "output_type": "stream",
     "text": [
      "\n",
      "\n",
      "\n",
      "\n",
      "\n",
      "\n",
      "\n",
      " 90%|█████████ | 9/10 [00:21<00:02,  2.38s/it]\u001b[A\u001b[A\u001b[A\u001b[A\u001b[A\u001b[A\u001b[A"
     ]
    },
    {
     "name": "stdout",
     "output_type": "stream",
     "text": [
      "Client 1: accuracy loss: 5.32 | fairness loss 4.51 | Demographic disparity = 0.04\n",
      "Client 2: accuracy loss: 5.66 | fairness loss 3.51 | Demographic disparity = 0.07\n",
      "Client 3: accuracy loss: 5.85 | fairness loss 2.30 | Demographic disparity = 0.04\n",
      "Client 4: accuracy loss: 6.00 | fairness loss 2.72 | Demographic disparity = 0.05\n",
      " \n",
      "Avg Training Stats after 9 global rounds:\n",
      "Training loss: 137.97 | Validation accuracy: 61.39% | Validation Demographic disparity: 0.0410\n",
      "\n",
      " | Global Training Round : 10 |\n",
      "\n"
     ]
    },
    {
     "name": "stderr",
     "output_type": "stream",
     "text": [
      "\n",
      "\n",
      "\n",
      "\n",
      "\n",
      "\n",
      "\n",
      "100%|██████████| 10/10 [00:24<00:00,  2.43s/it]\u001b[A\u001b[A\u001b[A\u001b[A\u001b[A\u001b[A\u001b[A"
     ]
    },
    {
     "name": "stdout",
     "output_type": "stream",
     "text": [
      "Client 1: accuracy loss: 5.32 | fairness loss 4.50 | Demographic disparity = 0.04\n",
      "Client 2: accuracy loss: 5.67 | fairness loss 3.50 | Demographic disparity = 0.07\n",
      "Client 3: accuracy loss: 5.86 | fairness loss 2.27 | Demographic disparity = 0.04\n",
      "Client 4: accuracy loss: 6.01 | fairness loss 2.71 | Demographic disparity = 0.05\n",
      " \n",
      "Avg Training Stats after 10 global rounds:\n",
      "Training loss: 131.12 | Validation accuracy: 61.39% | Validation Demographic disparity: 0.0410\n",
      " \n",
      " Results after 10 global rounds of training:\n",
      "|---- Avg Train Accuracy: 61.39%\n",
      "|---- Test Accuracy: 64.50%\n",
      "|---- Test Demographic disparity: 0.0350\n",
      "\n",
      " Total Run Time: 24.3804 sec\n"
     ]
    },
    {
     "name": "stderr",
     "output_type": "stream",
     "text": [
      "\n"
     ]
    }
   ],
   "source": [
    "server = Server(logReg(num_features=3, num_classes=2, seed = seed), synthetic_info, train_prn = False, seed = seed, Z = 3)\n",
    "server.LocalZafar(num_rounds = 10, local_epochs = 30, optimizer = 'adam', learning_rate = 0.0005, penalty = 200)\n"
   ]
  },
  {
   "cell_type": "code",
   "execution_count": 35,
   "metadata": {},
   "outputs": [
    {
     "name": "stderr",
     "output_type": "stream",
     "text": [
      "\n",
      "\n",
      "\n",
      "\n",
      "\n",
      "\n",
      "\n",
      "  0%|          | 0/10 [00:00<?, ?it/s]\u001b[A\u001b[A\u001b[A\u001b[A\u001b[A\u001b[A\u001b[A"
     ]
    },
    {
     "name": "stdout",
     "output_type": "stream",
     "text": [
      "\n",
      " | Global Training Round : 1 |\n",
      "\n"
     ]
    },
    {
     "name": "stderr",
     "output_type": "stream",
     "text": [
      "\n",
      "\n",
      "\n",
      "\n",
      "\n",
      "\n",
      "\n",
      " 10%|█         | 1/10 [00:02<00:23,  2.56s/it]\u001b[A\u001b[A\u001b[A\u001b[A\u001b[A\u001b[A\u001b[A"
     ]
    },
    {
     "name": "stdout",
     "output_type": "stream",
     "text": [
      "Client 1: predictor loss: 3.31 | adversary loss 0.62 | Demographic disparity = 0.45\n",
      "Client 2: predictor loss: 3.95 | adversary loss 0.83 | Demographic disparity = 0.33\n",
      "Client 3: predictor loss: 4.36 | adversary loss 1.00 | Demographic disparity = 0.27\n",
      "Client 4: predictor loss: 4.12 | adversary loss 1.01 | Demographic disparity = 0.48\n",
      " \n",
      "Avg Training Stats after 1 global rounds:\n",
      "Training loss: 0.61 | Validation accuracy: 81.19% | Validation Demographic disparity: 0.3172\n",
      "\n",
      " | Global Training Round : 2 |\n",
      "\n"
     ]
    },
    {
     "name": "stderr",
     "output_type": "stream",
     "text": [
      "\n",
      "\n",
      "\n",
      "\n",
      "\n",
      "\n",
      "\n",
      " 20%|██        | 2/10 [00:05<00:20,  2.57s/it]\u001b[A\u001b[A\u001b[A\u001b[A\u001b[A\u001b[A\u001b[A"
     ]
    },
    {
     "name": "stdout",
     "output_type": "stream",
     "text": [
      "Client 1: predictor loss: 2.47 | adversary loss 0.62 | Demographic disparity = 0.61\n",
      "Client 2: predictor loss: 3.19 | adversary loss 0.80 | Demographic disparity = 0.45\n",
      "Client 3: predictor loss: 3.70 | adversary loss 1.04 | Demographic disparity = 0.34\n",
      "Client 4: predictor loss: 3.32 | adversary loss 1.04 | Demographic disparity = 0.48\n",
      " \n",
      "Avg Training Stats after 2 global rounds:\n",
      "Training loss: 0.46 | Validation accuracy: 86.65% | Validation Demographic disparity: 0.4151\n",
      "\n",
      " | Global Training Round : 3 |\n",
      "\n"
     ]
    },
    {
     "name": "stderr",
     "output_type": "stream",
     "text": [
      "\n",
      "\n",
      "\n",
      "\n",
      "\n",
      "\n",
      "\n",
      " 30%|███       | 3/10 [00:07<00:17,  2.53s/it]\u001b[A\u001b[A\u001b[A\u001b[A\u001b[A\u001b[A\u001b[A"
     ]
    },
    {
     "name": "stdout",
     "output_type": "stream",
     "text": [
      "Client 1: predictor loss: 2.50 | adversary loss 0.66 | Demographic disparity = 0.54\n",
      "Client 2: predictor loss: 3.28 | adversary loss 0.83 | Demographic disparity = 0.44\n",
      "Client 3: predictor loss: 3.71 | adversary loss 1.06 | Demographic disparity = 0.32\n",
      "Client 4: predictor loss: 3.26 | adversary loss 1.05 | Demographic disparity = 0.45\n",
      " \n",
      "Avg Training Stats after 3 global rounds:\n",
      "Training loss: 0.41 | Validation accuracy: 85.72% | Validation Demographic disparity: 0.3978\n",
      "\n",
      " | Global Training Round : 4 |\n",
      "\n"
     ]
    },
    {
     "name": "stderr",
     "output_type": "stream",
     "text": [
      "\n",
      "\n",
      "\n",
      "\n",
      "\n",
      "\n",
      "\n",
      " 40%|████      | 4/10 [00:09<00:14,  2.47s/it]\u001b[A\u001b[A\u001b[A\u001b[A\u001b[A\u001b[A\u001b[A"
     ]
    },
    {
     "name": "stdout",
     "output_type": "stream",
     "text": [
      "Client 1: predictor loss: 2.73 | adversary loss 0.72 | Demographic disparity = 0.46\n",
      "Client 2: predictor loss: 3.61 | adversary loss 0.88 | Demographic disparity = 0.39\n",
      "Client 3: predictor loss: 3.77 | adversary loss 1.08 | Demographic disparity = 0.29\n",
      "Client 4: predictor loss: 3.47 | adversary loss 1.07 | Demographic disparity = 0.40\n",
      " \n",
      "Avg Training Stats after 4 global rounds:\n",
      "Training loss: 0.39 | Validation accuracy: 84.43% | Validation Demographic disparity: 0.3467\n",
      "\n",
      " | Global Training Round : 5 |\n",
      "\n"
     ]
    },
    {
     "name": "stderr",
     "output_type": "stream",
     "text": [
      "\n",
      "\n",
      "\n",
      "\n",
      "\n",
      "\n",
      "\n",
      " 50%|█████     | 5/10 [00:12<00:11,  2.39s/it]\u001b[A\u001b[A\u001b[A\u001b[A\u001b[A\u001b[A\u001b[A"
     ]
    },
    {
     "name": "stdout",
     "output_type": "stream",
     "text": [
      "Client 1: predictor loss: 3.53 | adversary loss 0.83 | Demographic disparity = 0.30\n",
      "Client 2: predictor loss: 4.66 | adversary loss 0.99 | Demographic disparity = 0.20\n",
      "Client 3: predictor loss: 4.60 | adversary loss 1.14 | Demographic disparity = 0.10\n",
      "Client 4: predictor loss: 4.65 | adversary loss 1.13 | Demographic disparity = 0.24\n",
      " \n",
      "Avg Training Stats after 5 global rounds:\n",
      "Training loss: 0.38 | Validation accuracy: 76.23% | Validation Demographic disparity: 0.1595\n",
      "\n",
      " | Global Training Round : 6 |\n",
      "\n"
     ]
    },
    {
     "name": "stderr",
     "output_type": "stream",
     "text": [
      "\n",
      "\n",
      "\n",
      "\n",
      "\n",
      "\n",
      "\n",
      " 60%|██████    | 6/10 [00:14<00:09,  2.34s/it]\u001b[A\u001b[A\u001b[A\u001b[A\u001b[A\u001b[A\u001b[A"
     ]
    },
    {
     "name": "stdout",
     "output_type": "stream",
     "text": [
      "Client 1: predictor loss: 6.44 | adversary loss 1.05 | Demographic disparity = 0.05\n",
      "Client 2: predictor loss: 7.34 | adversary loss 1.16 | Demographic disparity = 0.10\n",
      "Client 3: predictor loss: 7.56 | adversary loss 1.21 | Demographic disparity = 0.24\n",
      "Client 4: predictor loss: 8.01 | adversary loss 1.21 | Demographic disparity = 0.00\n",
      " \n",
      "Avg Training Stats after 6 global rounds:\n",
      "Training loss: 0.41 | Validation accuracy: 58.45% | Validation Demographic disparity: 0.0712\n",
      "\n",
      " | Global Training Round : 7 |\n",
      "\n"
     ]
    },
    {
     "name": "stderr",
     "output_type": "stream",
     "text": [
      "\n",
      "\n",
      "\n",
      "\n",
      "\n",
      "\n",
      "\n",
      " 70%|███████   | 7/10 [00:16<00:07,  2.35s/it]\u001b[A\u001b[A\u001b[A\u001b[A\u001b[A\u001b[A\u001b[A"
     ]
    },
    {
     "name": "stdout",
     "output_type": "stream",
     "text": [
      "Client 1: predictor loss: 4.51 | adversary loss 0.96 | Demographic disparity = 0.10\n",
      "Client 2: predictor loss: 5.04 | adversary loss 1.09 | Demographic disparity = 0.02\n",
      "Client 3: predictor loss: 5.19 | adversary loss 1.15 | Demographic disparity = 0.09\n",
      "Client 4: predictor loss: 5.29 | adversary loss 1.17 | Demographic disparity = 0.17\n",
      " \n",
      "Avg Training Stats after 7 global rounds:\n",
      "Training loss: 0.43 | Validation accuracy: 69.81% | Validation Demographic disparity: 0.0586\n",
      "\n",
      " | Global Training Round : 8 |\n",
      "\n"
     ]
    },
    {
     "name": "stderr",
     "output_type": "stream",
     "text": [
      "\n",
      "\n",
      "\n",
      "\n",
      "\n",
      "\n",
      "\n",
      " 80%|████████  | 8/10 [00:18<00:04,  2.30s/it]\u001b[A\u001b[A\u001b[A\u001b[A\u001b[A\u001b[A\u001b[A"
     ]
    },
    {
     "name": "stdout",
     "output_type": "stream",
     "text": [
      "Client 1: predictor loss: 5.11 | adversary loss 0.97 | Demographic disparity = 0.12\n",
      "Client 2: predictor loss: 5.42 | adversary loss 1.12 | Demographic disparity = 0.04\n",
      "Client 3: predictor loss: 5.58 | adversary loss 1.18 | Demographic disparity = 0.12\n",
      "Client 4: predictor loss: 5.68 | adversary loss 1.20 | Demographic disparity = 0.18\n",
      " \n",
      "Avg Training Stats after 8 global rounds:\n",
      "Training loss: 0.44 | Validation accuracy: 69.21% | Validation Demographic disparity: 0.0718\n",
      "\n",
      " | Global Training Round : 9 |\n",
      "\n"
     ]
    },
    {
     "name": "stderr",
     "output_type": "stream",
     "text": [
      "\n",
      "\n",
      "\n",
      "\n",
      "\n",
      "\n",
      "\n",
      " 90%|█████████ | 9/10 [00:21<00:02,  2.26s/it]\u001b[A\u001b[A\u001b[A\u001b[A\u001b[A\u001b[A\u001b[A"
     ]
    },
    {
     "name": "stdout",
     "output_type": "stream",
     "text": [
      "Client 1: predictor loss: 4.51 | adversary loss 0.95 | Demographic disparity = 0.17\n",
      "Client 2: predictor loss: 4.76 | adversary loss 1.10 | Demographic disparity = 0.00\n",
      "Client 3: predictor loss: 4.98 | adversary loss 1.17 | Demographic disparity = 0.06\n",
      "Client 4: predictor loss: 4.96 | adversary loss 1.18 | Demographic disparity = 0.22\n",
      " \n",
      "Avg Training Stats after 9 global rounds:\n",
      "Training loss: 0.45 | Validation accuracy: 74.46% | Validation Demographic disparity: 0.0566\n",
      "\n",
      " | Global Training Round : 10 |\n",
      "\n"
     ]
    },
    {
     "name": "stderr",
     "output_type": "stream",
     "text": [
      "\n",
      "\n",
      "\n",
      "\n",
      "\n",
      "\n",
      "\n",
      "100%|██████████| 10/10 [00:23<00:00,  2.31s/it]\u001b[A\u001b[A\u001b[A\u001b[A\u001b[A\u001b[A\u001b[A"
     ]
    },
    {
     "name": "stdout",
     "output_type": "stream",
     "text": [
      "Client 1: predictor loss: 4.77 | adversary loss 0.96 | Demographic disparity = 0.12\n",
      "Client 2: predictor loss: 4.94 | adversary loss 1.11 | Demographic disparity = 0.05\n",
      "Client 3: predictor loss: 5.15 | adversary loss 1.17 | Demographic disparity = 0.12\n",
      "Client 4: predictor loss: 5.12 | adversary loss 1.20 | Demographic disparity = 0.21\n",
      " \n",
      "Avg Training Stats after 10 global rounds:\n",
      "Training loss: 0.46 | Validation accuracy: 72.06% | Validation Demographic disparity: 0.0336\n",
      " \n",
      " Results after 10 global rounds of training:\n",
      "|---- Avg Train Accuracy: 72.06%\n",
      "|---- Test Accuracy: 73.83%\n",
      "|---- Test Demographic disparity: 0.0376\n",
      "\n",
      " Total Run Time: 23.1600 sec\n"
     ]
    },
    {
     "name": "stderr",
     "output_type": "stream",
     "text": [
      "\n"
     ]
    }
   ],
   "source": [
    "server = Server(logReg(num_features=3, num_classes=2, seed = seed), synthetic_info, train_prn = False, seed = seed, Z = 3)\n",
    "server.FTrain(num_rounds = 10, local_epochs = 30, init_epochs = 50, lr_g = 0.003, lr_d = 0.01, lambda_d = 0.8)"
   ]
  },
  {
   "cell_type": "code",
   "execution_count": null,
   "metadata": {},
   "outputs": [],
   "source": []
  }
 ],
 "metadata": {
  "kernelspec": {
   "display_name": "Python 3",
   "language": "python",
   "name": "python3"
  },
  "language_info": {
   "codemirror_mode": {
    "name": "ipython",
    "version": 3
   },
   "file_extension": ".py",
   "mimetype": "text/x-python",
   "name": "python",
   "nbconvert_exporter": "python",
   "pygments_lexer": "ipython3",
   "version": "3.7.4"
  }
 },
 "nbformat": 4,
 "nbformat_minor": 2
}
