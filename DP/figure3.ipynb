{
 "cells": [
  {
   "cell_type": "code",
   "execution_count": 2,
   "metadata": {},
   "outputs": [],
   "source": [
    "import numpy as np\n",
    "import matplotlib.pyplot as plt\n",
    "import pandas as pd\n",
    "from scipy.stats import entropy\n",
    "import itertools, copy\n",
    "from collections import defaultdict\n",
    "import matplotlib as mpl\n",
    "%matplotlib inline"
   ]
  },
  {
   "cell_type": "code",
   "execution_count": 3,
   "metadata": {},
   "outputs": [],
   "source": [
    "def h(d):\n",
    "    if isinstance(d, (int, float)):\n",
    "        return entropy([d,1-d], base=2)\n",
    "    else:\n",
    "        return entropy(d, base=2)"
   ]
  },
  {
   "cell_type": "code",
   "execution_count": 4,
   "metadata": {},
   "outputs": [],
   "source": [
    "def heterogeneity(theta,q=(0.9,0.1)):\n",
    "    hz = h([1/2-(q[0]+q[1])/4, \n",
    "            1/2-(q[0]+q[1])/4, \n",
    "            ((1/2-theta[0])*q[0]+(1/2-theta[1])*q[1])/2, \n",
    "            ((1/2+theta[0])*q[0]+(1/2+theta[1])*q[1])/2])\n",
    "    hzi = (h([(1-q[0])/2, (1-q[0])/2, (1/2-theta[0])*q[0], (1/2+theta[0])*q[0]])/2 + \n",
    "           h([(1-q[1])/2, (1-q[1])/2, (1/2-theta[1])*q[1], (1/2+theta[1])*q[1]])/2)\n",
    "    return hz - hzi\n"
   ]
  },
  {
   "cell_type": "code",
   "execution_count": 5,
   "metadata": {},
   "outputs": [],
   "source": [
    "def accuracy(p,theta,q=(0.9,0.1)):\n",
    "    return sum([(\n",
    "        (1-q[i])*((1-p[(0,0,i)])/2 + p[(0,1,i)]/2) + \n",
    "        q[i]*((1/2-theta[i])*(1-p[(1,0,i)])+(1/2+theta[i])*p[(1,1,i)])\n",
    "    )/2 for i in [0,1]])"
   ]
  },
  {
   "cell_type": "code",
   "execution_count": 6,
   "metadata": {},
   "outputs": [],
   "source": [
    "def local_constraint(p,theta,i,q=(0.9,0.1)):\n",
    "    hyi = h((1-q[i])*(p[(0,0,i)]/2 + p[(0,1,i)]/2) + q[i]*((1/2-theta[i])*p[(1,0,i)] + (1/2+theta[i])*p[(1,1,i)]))\n",
    "    hyai = (1-q[i])*h(p[(0,0,i)]/2 + p[(0,1,i)]/2) + q[i]*h((1/2-theta[i])*p[(1,0,i)] + (1/2+theta[i])*p[(1,1,i)])\n",
    "    return hyi-hyai"
   ]
  },
  {
   "cell_type": "code",
   "execution_count": 7,
   "metadata": {},
   "outputs": [],
   "source": [
    "def mutual_information(p,theta,q=(0.9,0.1)):\n",
    "    pya0 = sum([(p[(0,0,i)]/2+p[0,1,i]/2)*(1-q[i])/(2-q[0]-q[1]) for i in [0,1]])\n",
    "    pya1 = sum([((1/2-theta[i])*p[(1,0,i)]+(1/2+theta[i])*p[(1,1,i)])*q[i]/(q[0]+q[1]) for i in [0,1]])\n",
    "    hyhat = h(pya0*(1-(q[0]+q[1])/2) + pya1*(q[0]+q[1])/2)\n",
    "    hyhata = (1-(q[0]+q[1])/2)*h(pya0) + (q[0]+q[1])/2*h(pya1)\n",
    "    return hyhat - hyhata"
   ]
  },
  {
   "cell_type": "code",
   "execution_count": null,
   "metadata": {},
   "outputs": [],
   "source": []
  }
 ],
 "metadata": {
  "kernelspec": {
   "display_name": "Python 3",
   "language": "python",
   "name": "python3"
  },
  "language_info": {
   "codemirror_mode": {
    "name": "ipython",
    "version": 3
   },
   "file_extension": ".py",
   "mimetype": "text/x-python",
   "name": "python",
   "nbconvert_exporter": "python",
   "pygments_lexer": "ipython3",
   "version": "3.7.4"
  }
 },
 "nbformat": 4,
 "nbformat_minor": 2
}
