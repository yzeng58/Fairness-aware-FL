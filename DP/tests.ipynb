{
 "cells": [
  {
   "cell_type": "code",
   "execution_count": 1,
   "metadata": {},
   "outputs": [],
   "source": [
    "from Server import *"
   ]
  },
  {
   "cell_type": "code",
   "execution_count": 2,
   "metadata": {},
   "outputs": [],
   "source": [
    "synthetic_info = dataGenerate(seed = 745, test_samples = 300, train_samples = 3000)"
   ]
  },
  {
   "cell_type": "code",
   "execution_count": 12,
   "metadata": {
    "scrolled": true
   },
   "outputs": [
    {
     "name": "stderr",
     "output_type": "stream",
     "text": [
      "\n",
      "\n",
      "\n",
      "\n",
      "\n",
      "  0%|          | 0/6 [00:00<?, ?it/s]\u001b[A\u001b[A\u001b[A\u001b[A\u001b[A"
     ]
    },
    {
     "name": "stdout",
     "output_type": "stream",
     "text": [
      "\n",
      " | Global Training Round : 1 |\n",
      "\n"
     ]
    },
    {
     "name": "stderr",
     "output_type": "stream",
     "text": [
      "\n",
      "\n",
      "\n",
      "\n",
      "\n",
      " 17%|█▋        | 1/6 [00:08<00:42,  8.50s/it]\u001b[A\u001b[A\u001b[A\u001b[A\u001b[A"
     ]
    },
    {
     "name": "stdout",
     "output_type": "stream",
     "text": [
      "Client 1: accuracy loss: 3.21 | fairness loss 469.15 | Demographic disparity = 0.65\n",
      "Client 2: accuracy loss: 2.50 | fairness loss 624.94 | Demographic disparity = 0.42\n",
      "Client 3: accuracy loss: 3.09 | fairness loss 524.76 | Demographic disparity = 0.44\n",
      " \n",
      "Avg Training Stats after 1 global rounds:\n",
      "Training loss: 0.01 | Validation accuracy: 86.14% | Validation Demographic disparity: 0.4800\n",
      "\n",
      " | Global Training Round : 2 |\n",
      "\n"
     ]
    },
    {
     "name": "stderr",
     "output_type": "stream",
     "text": [
      "\n",
      "\n",
      "\n",
      "\n",
      "\n",
      " 33%|███▎      | 2/6 [00:16<00:33,  8.49s/it]\u001b[A\u001b[A\u001b[A\u001b[A\u001b[A"
     ]
    },
    {
     "name": "stdout",
     "output_type": "stream",
     "text": [
      "Client 1: accuracy loss: 3.30 | fairness loss 285.10 | Demographic disparity = 0.55\n",
      "Client 2: accuracy loss: 2.54 | fairness loss 428.70 | Demographic disparity = 0.38\n",
      "Client 3: accuracy loss: 3.15 | fairness loss 353.46 | Demographic disparity = 0.41\n",
      " \n",
      "Avg Training Stats after 2 global rounds:\n",
      "Training loss: 0.01 | Validation accuracy: 85.82% | Validation Demographic disparity: 0.4416\n",
      "\n",
      " | Global Training Round : 3 |\n",
      "\n"
     ]
    },
    {
     "name": "stderr",
     "output_type": "stream",
     "text": [
      "\n",
      "\n",
      "\n",
      "\n",
      "\n",
      " 50%|█████     | 3/6 [00:27<00:26,  9.00s/it]\u001b[A\u001b[A\u001b[A\u001b[A\u001b[A"
     ]
    },
    {
     "name": "stdout",
     "output_type": "stream",
     "text": [
      "Client 1: accuracy loss: 3.53 | fairness loss 183.84 | Demographic disparity = 0.48\n",
      "Client 2: accuracy loss: 2.71 | fairness loss 315.60 | Demographic disparity = 0.33\n",
      "Client 3: accuracy loss: 3.36 | fairness loss 255.37 | Demographic disparity = 0.36\n",
      " \n",
      "Avg Training Stats after 3 global rounds:\n",
      "Training loss: 0.01 | Validation accuracy: 85.20% | Validation Demographic disparity: 0.3759\n",
      "\n",
      " | Global Training Round : 4 |\n",
      "\n"
     ]
    },
    {
     "name": "stderr",
     "output_type": "stream",
     "text": [
      "\n",
      "\n",
      "\n",
      "\n",
      "\n",
      " 67%|██████▋   | 4/6 [00:36<00:18,  9.03s/it]\u001b[A\u001b[A\u001b[A\u001b[A\u001b[A"
     ]
    },
    {
     "name": "stdout",
     "output_type": "stream",
     "text": [
      "Client 1: accuracy loss: 3.96 | fairness loss 110.56 | Demographic disparity = 0.42\n",
      "Client 2: accuracy loss: 3.10 | fairness loss 224.64 | Demographic disparity = 0.28\n",
      "Client 3: accuracy loss: 3.80 | fairness loss 180.23 | Demographic disparity = 0.21\n",
      " \n",
      "Avg Training Stats after 4 global rounds:\n",
      "Training loss: 0.01 | Validation accuracy: 84.67% | Validation Demographic disparity: 0.2827\n",
      "\n",
      " | Global Training Round : 5 |\n",
      "\n"
     ]
    },
    {
     "name": "stderr",
     "output_type": "stream",
     "text": [
      "\n",
      "\n",
      "\n",
      "\n",
      "\n",
      " 83%|████████▎ | 5/6 [00:44<00:08,  8.88s/it]\u001b[A\u001b[A\u001b[A\u001b[A\u001b[A"
     ]
    },
    {
     "name": "stdout",
     "output_type": "stream",
     "text": [
      "Client 1: accuracy loss: 4.97 | fairness loss 45.17 | Demographic disparity = 0.08\n",
      "Client 2: accuracy loss: 4.20 | fairness loss 120.72 | Demographic disparity = 0.19\n",
      "Client 3: accuracy loss: 4.96 | fairness loss 103.75 | Demographic disparity = 0.05\n",
      " \n",
      "Avg Training Stats after 5 global rounds:\n",
      "Training loss: 0.01 | Validation accuracy: 77.26% | Validation Demographic disparity: 0.1175\n",
      "\n",
      " | Global Training Round : 6 |\n",
      "\n"
     ]
    },
    {
     "name": "stderr",
     "output_type": "stream",
     "text": [
      "\n",
      "\n",
      "\n",
      "\n",
      "\n",
      "100%|██████████| 6/6 [00:53<00:00,  8.86s/it]\u001b[A\u001b[A\u001b[A\u001b[A\u001b[A"
     ]
    },
    {
     "name": "stdout",
     "output_type": "stream",
     "text": [
      "Client 1: accuracy loss: 10.43 | fairness loss 105.39 | Demographic disparity = 0.58\n",
      "Client 2: accuracy loss: 9.82 | fairness loss 102.29 | Demographic disparity = 0.37\n",
      "Client 3: accuracy loss: 10.33 | fairness loss 125.23 | Demographic disparity = 0.46\n",
      " \n",
      "Avg Training Stats after 6 global rounds:\n",
      "Training loss: 0.01 | Validation accuracy: 34.79% | Validation Demographic disparity: 0.4518\n",
      " \n",
      " Results after 6 global rounds of training:\n",
      "|---- Avg Train Accuracy: 34.79%\n",
      "|---- Test Accuracy: 38.67%\n",
      "|---- Test Demographic disparity: 0.4267\n",
      "\n",
      " Total Run Time: 53.1983 sec\n"
     ]
    },
    {
     "name": "stderr",
     "output_type": "stream",
     "text": [
      "\n"
     ]
    }
   ],
   "source": [
    "seed = 367\n",
    "server = Server(logReg(num_features=3, num_classes=2, seed = seed), synthetic_info, train_prn = False, metric = \"Demographic disparity\", seed = seed)\n",
    "server.LocalFB(num_rounds = 6, local_epochs = 50, optimizer = 'adam', learning_rate = 0.005, alpha = 0.03)\n"
   ]
  },
  {
   "cell_type": "code",
   "execution_count": 3,
   "metadata": {
    "scrolled": true
   },
   "outputs": [
    {
     "name": "stderr",
     "output_type": "stream",
     "text": [
      "\r",
      "  0%|          | 0/10 [00:00<?, ?it/s]"
     ]
    },
    {
     "name": "stdout",
     "output_type": "stream",
     "text": [
      "\n",
      " | Global Training Round : 1 |\n",
      "\n"
     ]
    },
    {
     "name": "stderr",
     "output_type": "stream",
     "text": [
      "\r",
      " 10%|█         | 1/10 [00:03<00:27,  3.10s/it]"
     ]
    },
    {
     "name": "stdout",
     "output_type": "stream",
     "text": [
      "Client 1: accuracy loss: 3.29 | fairness loss 349.83 | Demographic disparity = 0.53\n",
      "Client 2: accuracy loss: 2.65 | fairness loss 464.15 | Demographic disparity = 0.40\n",
      "Client 3: accuracy loss: 3.24 | fairness loss 389.27 | Demographic disparity = 0.43\n",
      " \n",
      "Avg Training Stats after 1 global rounds:\n",
      "Training loss: 0.29 | Training accuracy: 86.83% | Training Demographic disparity: 0.4473\n",
      "\n",
      " | Global Training Round : 2 |\n",
      "\n"
     ]
    },
    {
     "name": "stderr",
     "output_type": "stream",
     "text": [
      "\r",
      " 20%|██        | 2/10 [00:05<00:23,  2.96s/it]"
     ]
    },
    {
     "name": "stdout",
     "output_type": "stream",
     "text": [
      "Client 1: accuracy loss: 3.76 | fairness loss 153.47 | Demographic disparity = 0.49\n",
      "Client 2: accuracy loss: 3.02 | fairness loss 229.97 | Demographic disparity = 0.32\n",
      "Client 3: accuracy loss: 3.66 | fairness loss 192.54 | Demographic disparity = 0.37\n",
      " \n",
      "Avg Training Stats after 2 global rounds:\n",
      "Training loss: 0.34 | Training accuracy: 84.81% | Training Demographic disparity: 0.3750\n",
      "\n",
      " | Global Training Round : 3 |\n",
      "\n"
     ]
    },
    {
     "name": "stderr",
     "output_type": "stream",
     "text": [
      "\r",
      " 30%|███       | 3/10 [00:08<00:19,  2.78s/it]"
     ]
    },
    {
     "name": "stdout",
     "output_type": "stream",
     "text": [
      "Client 1: accuracy loss: 4.16 | fairness loss 82.61 | Demographic disparity = 0.45\n",
      "Client 2: accuracy loss: 3.35 | fairness loss 141.21 | Demographic disparity = 0.28\n",
      "Client 3: accuracy loss: 4.01 | fairness loss 118.66 | Demographic disparity = 0.29\n",
      " \n",
      "Avg Training Stats after 3 global rounds:\n",
      "Training loss: 0.36 | Training accuracy: 85.36% | Training Demographic disparity: 0.3178\n",
      "\n",
      " | Global Training Round : 4 |\n",
      "\n"
     ]
    },
    {
     "name": "stderr",
     "output_type": "stream",
     "text": [
      "\r",
      " 40%|████      | 4/10 [00:10<00:16,  2.70s/it]"
     ]
    },
    {
     "name": "stdout",
     "output_type": "stream",
     "text": [
      "Client 1: accuracy loss: 4.50 | fairness loss 49.13 | Demographic disparity = 0.28\n",
      "Client 2: accuracy loss: 3.64 | fairness loss 94.76 | Demographic disparity = 0.26\n",
      "Client 3: accuracy loss: 4.31 | fairness loss 80.56 | Demographic disparity = 0.23\n",
      " \n",
      "Avg Training Stats after 4 global rounds:\n",
      "Training loss: 0.38 | Training accuracy: 83.83% | Training Demographic disparity: 0.2531\n",
      "\n",
      " | Global Training Round : 5 |\n",
      "\n"
     ]
    },
    {
     "name": "stderr",
     "output_type": "stream",
     "text": [
      "\r",
      " 50%|█████     | 5/10 [00:13<00:13,  2.65s/it]"
     ]
    },
    {
     "name": "stdout",
     "output_type": "stream",
     "text": [
      "Client 1: accuracy loss: 4.81 | fairness loss 31.39 | Demographic disparity = 0.19\n",
      "Client 2: accuracy loss: 3.92 | fairness loss 66.86 | Demographic disparity = 0.22\n",
      "Client 3: accuracy loss: 4.58 | fairness loss 57.93 | Demographic disparity = 0.23\n",
      " \n",
      "Avg Training Stats after 5 global rounds:\n",
      "Training loss: 0.39 | Training accuracy: 82.66% | Training Demographic disparity: 0.2201\n",
      "\n",
      " | Global Training Round : 6 |\n",
      "\n"
     ]
    },
    {
     "name": "stderr",
     "output_type": "stream",
     "text": [
      "\r",
      " 60%|██████    | 6/10 [00:15<00:10,  2.59s/it]"
     ]
    },
    {
     "name": "stdout",
     "output_type": "stream",
     "text": [
      "Client 1: accuracy loss: 5.11 | fairness loss 21.25 | Demographic disparity = 0.16\n",
      "Client 2: accuracy loss: 4.19 | fairness loss 48.57 | Demographic disparity = 0.19\n",
      "Client 3: accuracy loss: 4.84 | fairness loss 43.20 | Demographic disparity = 0.18\n",
      " \n",
      "Avg Training Stats after 6 global rounds:\n",
      "Training loss: 0.39 | Training accuracy: 82.16% | Training Demographic disparity: 0.1839\n",
      "\n",
      " | Global Training Round : 7 |\n",
      "\n"
     ]
    },
    {
     "name": "stderr",
     "output_type": "stream",
     "text": [
      "\r",
      " 70%|███████   | 7/10 [00:17<00:07,  2.54s/it]"
     ]
    },
    {
     "name": "stdout",
     "output_type": "stream",
     "text": [
      "Client 1: accuracy loss: 5.41 | fairness loss 15.20 | Demographic disparity = 0.15\n",
      "Client 2: accuracy loss: 4.46 | fairness loss 35.97 | Demographic disparity = 0.20\n",
      "Client 3: accuracy loss: 5.09 | fairness loss 33.06 | Demographic disparity = 0.11\n",
      " \n",
      "Avg Training Stats after 7 global rounds:\n",
      "Training loss: 0.40 | Training accuracy: 79.91% | Training Demographic disparity: 0.1554\n",
      "\n",
      " | Global Training Round : 8 |\n",
      "\n"
     ]
    },
    {
     "name": "stderr",
     "output_type": "stream",
     "text": [
      "\r",
      " 80%|████████  | 8/10 [00:20<00:04,  2.48s/it]"
     ]
    },
    {
     "name": "stdout",
     "output_type": "stream",
     "text": [
      "Client 1: accuracy loss: 5.70 | fairness loss 11.63 | Demographic disparity = 0.09\n",
      "Client 2: accuracy loss: 4.74 | fairness loss 27.11 | Demographic disparity = 0.16\n",
      "Client 3: accuracy loss: 5.34 | fairness loss 25.90 | Demographic disparity = 0.03\n",
      " \n",
      "Avg Training Stats after 8 global rounds:\n",
      "Training loss: 0.41 | Training accuracy: 76.19% | Training Demographic disparity: 0.0973\n",
      "\n",
      " | Global Training Round : 9 |\n",
      "\n"
     ]
    },
    {
     "name": "stderr",
     "output_type": "stream",
     "text": [
      "\r",
      " 90%|█████████ | 9/10 [00:22<00:02,  2.42s/it]"
     ]
    },
    {
     "name": "stdout",
     "output_type": "stream",
     "text": [
      "Client 1: accuracy loss: 6.00 | fairness loss 9.71 | Demographic disparity = 0.00\n",
      "Client 2: accuracy loss: 5.02 | fairness loss 20.93 | Demographic disparity = 0.12\n",
      "Client 3: accuracy loss: 5.59 | fairness loss 20.87 | Demographic disparity = 0.01\n",
      " \n",
      "Avg Training Stats after 9 global rounds:\n",
      "Training loss: 0.41 | Training accuracy: 72.08% | Training Demographic disparity: 0.0502\n",
      "\n",
      " | Global Training Round : 10 |\n",
      "\n"
     ]
    },
    {
     "name": "stderr",
     "output_type": "stream",
     "text": [
      "100%|██████████| 10/10 [00:25<00:00,  2.52s/it]"
     ]
    },
    {
     "name": "stdout",
     "output_type": "stream",
     "text": [
      "Client 1: accuracy loss: 6.29 | fairness loss 8.96 | Demographic disparity = 0.09\n",
      "Client 2: accuracy loss: 5.30 | fairness loss 16.77 | Demographic disparity = 0.06\n",
      "Client 3: accuracy loss: 5.84 | fairness loss 17.43 | Demographic disparity = 0.01\n",
      " \n",
      "Avg Training Stats after 10 global rounds:\n",
      "Training loss: 0.42 | Training accuracy: 67.39% | Training Demographic disparity: 0.0018\n",
      " \n",
      " Results after 10 global rounds of training:\n",
      "|---- Avg Train Accuracy: 67.39%\n",
      "|---- Test Accuracy: 71.33%\n",
      "|---- Test Demographic disparity: 0.0008\n",
      "\n",
      " Total Run Time: 25.2032 sec\n"
     ]
    },
    {
     "name": "stderr",
     "output_type": "stream",
     "text": [
      "\n"
     ]
    }
   ],
   "source": [
    "seed = 367\n",
    "server = Server(logReg(num_features=3, num_classes=2, seed = seed), synthetic_info, train_prn = False, metric = \"Demographic disparity\", seed = seed)\n",
    "server.FBVariant1(num_rounds = 10, local_epochs = 30, optimizer = 'adam', learning_rate = 0.004, alpha = 0.23)\n"
   ]
  },
  {
   "cell_type": "code",
   "execution_count": 13,
   "metadata": {
    "scrolled": true
   },
   "outputs": [
    {
     "name": "stderr",
     "output_type": "stream",
     "text": [
      "\n",
      "\n",
      "\n",
      "\n",
      "  0%|          | 0/10 [00:00<?, ?it/s]\u001b[A\u001b[A\u001b[A\u001b[A"
     ]
    },
    {
     "name": "stdout",
     "output_type": "stream",
     "text": [
      "\n",
      " | Global Training Round : 1 |\n",
      "\n"
     ]
    },
    {
     "name": "stderr",
     "output_type": "stream",
     "text": [
      "\n",
      "\n",
      "\n",
      "\n",
      " 10%|█         | 1/10 [00:02<00:23,  2.58s/it]\u001b[A\u001b[A\u001b[A\u001b[A"
     ]
    },
    {
     "name": "stdout",
     "output_type": "stream",
     "text": [
      "Client 1: accuracy loss: 3.29 | fairness loss 349.83 | Demographic disparity = 0.53\n",
      "Client 2: accuracy loss: 2.65 | fairness loss 464.15 | Demographic disparity = 0.40\n",
      "Client 3: accuracy loss: 3.24 | fairness loss 389.27 | Demographic disparity = 0.43\n",
      " \n",
      "Avg Training Stats after 1 global rounds:\n",
      "Training loss: 0.29 | Training accuracy: 86.83% | Training Demographic disparity: 0.4473\n",
      "\n",
      " | Global Training Round : 2 |\n",
      "\n"
     ]
    },
    {
     "name": "stderr",
     "output_type": "stream",
     "text": [
      "\n",
      "\n",
      "\n",
      "\n",
      " 20%|██        | 2/10 [00:05<00:21,  2.69s/it]\u001b[A\u001b[A\u001b[A\u001b[A"
     ]
    },
    {
     "name": "stdout",
     "output_type": "stream",
     "text": [
      "Client 1: accuracy loss: 3.76 | fairness loss 153.47 | Demographic disparity = 0.49\n",
      "Client 2: accuracy loss: 3.02 | fairness loss 229.97 | Demographic disparity = 0.32\n",
      "Client 3: accuracy loss: 3.66 | fairness loss 192.54 | Demographic disparity = 0.37\n",
      " \n",
      "Avg Training Stats after 2 global rounds:\n",
      "Training loss: 0.34 | Training accuracy: 84.81% | Training Demographic disparity: 0.3750\n",
      "\n",
      " | Global Training Round : 3 |\n",
      "\n"
     ]
    },
    {
     "name": "stderr",
     "output_type": "stream",
     "text": [
      "\n",
      "\n",
      "\n",
      "\n",
      " 30%|███       | 3/10 [00:08<00:19,  2.78s/it]\u001b[A\u001b[A\u001b[A\u001b[A"
     ]
    },
    {
     "name": "stdout",
     "output_type": "stream",
     "text": [
      "Client 1: accuracy loss: 4.16 | fairness loss 82.61 | Demographic disparity = 0.45\n",
      "Client 2: accuracy loss: 3.35 | fairness loss 141.21 | Demographic disparity = 0.28\n",
      "Client 3: accuracy loss: 4.01 | fairness loss 118.66 | Demographic disparity = 0.29\n",
      " \n",
      "Avg Training Stats after 3 global rounds:\n",
      "Training loss: 0.36 | Training accuracy: 85.36% | Training Demographic disparity: 0.3178\n",
      "\n",
      " | Global Training Round : 4 |\n",
      "\n"
     ]
    },
    {
     "name": "stderr",
     "output_type": "stream",
     "text": [
      "\n",
      "\n",
      "\n",
      "\n",
      " 40%|████      | 4/10 [00:12<00:18,  3.07s/it]\u001b[A\u001b[A\u001b[A\u001b[A"
     ]
    },
    {
     "name": "stdout",
     "output_type": "stream",
     "text": [
      "Client 1: accuracy loss: 4.50 | fairness loss 49.13 | Demographic disparity = 0.28\n",
      "Client 2: accuracy loss: 3.64 | fairness loss 94.76 | Demographic disparity = 0.26\n",
      "Client 3: accuracy loss: 4.31 | fairness loss 80.56 | Demographic disparity = 0.23\n",
      " \n",
      "Avg Training Stats after 4 global rounds:\n",
      "Training loss: 0.38 | Training accuracy: 83.83% | Training Demographic disparity: 0.2531\n",
      "\n",
      " | Global Training Round : 5 |\n",
      "\n"
     ]
    },
    {
     "name": "stderr",
     "output_type": "stream",
     "text": [
      "\n",
      "\n",
      "\n",
      "\n",
      " 50%|█████     | 5/10 [00:16<00:17,  3.45s/it]\u001b[A\u001b[A\u001b[A\u001b[A"
     ]
    },
    {
     "name": "stdout",
     "output_type": "stream",
     "text": [
      "Client 1: accuracy loss: 4.81 | fairness loss 31.39 | Demographic disparity = 0.19\n",
      "Client 2: accuracy loss: 3.92 | fairness loss 66.86 | Demographic disparity = 0.22\n",
      "Client 3: accuracy loss: 4.58 | fairness loss 57.93 | Demographic disparity = 0.23\n",
      " \n",
      "Avg Training Stats after 5 global rounds:\n",
      "Training loss: 0.39 | Training accuracy: 82.66% | Training Demographic disparity: 0.2201\n",
      "\n",
      " | Global Training Round : 6 |\n",
      "\n"
     ]
    },
    {
     "name": "stderr",
     "output_type": "stream",
     "text": [
      "\n",
      "\n",
      "\n",
      "\n",
      " 60%|██████    | 6/10 [00:26<00:21,  5.27s/it]\u001b[A\u001b[A\u001b[A\u001b[A"
     ]
    },
    {
     "name": "stdout",
     "output_type": "stream",
     "text": [
      "Client 1: accuracy loss: 5.11 | fairness loss 21.25 | Demographic disparity = 0.16\n",
      "Client 2: accuracy loss: 4.19 | fairness loss 48.57 | Demographic disparity = 0.19\n",
      "Client 3: accuracy loss: 4.84 | fairness loss 43.20 | Demographic disparity = 0.18\n",
      " \n",
      "Avg Training Stats after 6 global rounds:\n",
      "Training loss: 0.39 | Training accuracy: 82.16% | Training Demographic disparity: 0.1839\n",
      "\n",
      " | Global Training Round : 7 |\n",
      "\n"
     ]
    },
    {
     "name": "stderr",
     "output_type": "stream",
     "text": [
      "\n",
      "\n",
      "\n",
      "\n",
      " 70%|███████   | 7/10 [00:32<00:17,  5.74s/it]\u001b[A\u001b[A\u001b[A\u001b[A"
     ]
    },
    {
     "name": "stdout",
     "output_type": "stream",
     "text": [
      "Client 1: accuracy loss: 5.41 | fairness loss 15.20 | Demographic disparity = 0.15\n",
      "Client 2: accuracy loss: 4.46 | fairness loss 35.97 | Demographic disparity = 0.20\n",
      "Client 3: accuracy loss: 5.09 | fairness loss 33.06 | Demographic disparity = 0.11\n",
      " \n",
      "Avg Training Stats after 7 global rounds:\n",
      "Training loss: 0.40 | Training accuracy: 79.91% | Training Demographic disparity: 0.1554\n",
      "\n",
      " | Global Training Round : 8 |\n",
      "\n"
     ]
    },
    {
     "name": "stderr",
     "output_type": "stream",
     "text": [
      "\n",
      "\n",
      "\n",
      "\n",
      " 80%|████████  | 8/10 [00:36<00:10,  5.13s/it]\u001b[A\u001b[A\u001b[A\u001b[A"
     ]
    },
    {
     "name": "stdout",
     "output_type": "stream",
     "text": [
      "Client 1: accuracy loss: 5.70 | fairness loss 11.63 | Demographic disparity = 0.09\n",
      "Client 2: accuracy loss: 4.74 | fairness loss 27.11 | Demographic disparity = 0.16\n",
      "Client 3: accuracy loss: 5.34 | fairness loss 25.90 | Demographic disparity = 0.03\n",
      " \n",
      "Avg Training Stats after 8 global rounds:\n",
      "Training loss: 0.41 | Training accuracy: 76.19% | Training Demographic disparity: 0.0973\n",
      "\n",
      " | Global Training Round : 9 |\n",
      "\n"
     ]
    },
    {
     "name": "stderr",
     "output_type": "stream",
     "text": [
      "\n",
      "\n",
      "\n",
      "\n",
      " 90%|█████████ | 9/10 [00:39<00:04,  4.55s/it]\u001b[A\u001b[A\u001b[A\u001b[A"
     ]
    },
    {
     "name": "stdout",
     "output_type": "stream",
     "text": [
      "Client 1: accuracy loss: 6.00 | fairness loss 9.71 | Demographic disparity = 0.00\n",
      "Client 2: accuracy loss: 5.02 | fairness loss 20.93 | Demographic disparity = 0.12\n",
      "Client 3: accuracy loss: 5.59 | fairness loss 20.87 | Demographic disparity = 0.01\n",
      " \n",
      "Avg Training Stats after 9 global rounds:\n",
      "Training loss: 0.41 | Training accuracy: 72.08% | Training Demographic disparity: 0.0502\n",
      "\n",
      " | Global Training Round : 10 |\n",
      "\n"
     ]
    },
    {
     "name": "stderr",
     "output_type": "stream",
     "text": [
      "\n",
      "\n",
      "\n",
      "\n",
      "100%|██████████| 10/10 [00:42<00:00,  4.28s/it]\u001b[A\u001b[A\u001b[A\u001b[A"
     ]
    },
    {
     "name": "stdout",
     "output_type": "stream",
     "text": [
      "Client 1: accuracy loss: 6.29 | fairness loss 8.96 | Demographic disparity = 0.09\n",
      "Client 2: accuracy loss: 5.30 | fairness loss 16.77 | Demographic disparity = 0.06\n",
      "Client 3: accuracy loss: 5.84 | fairness loss 17.43 | Demographic disparity = 0.01\n",
      " \n",
      "Avg Training Stats after 10 global rounds:\n",
      "Training loss: 0.42 | Training accuracy: 67.39% | Training Demographic disparity: 0.0018\n",
      " \n",
      " Results after 10 global rounds of training:\n",
      "|---- Avg Train Accuracy: 67.39%\n",
      "|---- Test Accuracy: 71.33%\n",
      "|---- Test Demographic disparity: 0.0008\n",
      "\n",
      " Total Run Time: 42.8504 sec\n"
     ]
    },
    {
     "name": "stderr",
     "output_type": "stream",
     "text": [
      "\n"
     ]
    }
   ],
   "source": [
    "seed = 367\n",
    "server = Server(logReg(num_features=3, num_classes=2, seed = seed), synthetic_info, train_prn = False, metric = \"Demographic disparity\", seed = seed)\n",
    "server.FBVariant1(num_rounds = 10, local_epochs = 30, optimizer = 'adam', learning_rate = 0.004, alpha = 0.23)\n"
   ]
  },
  {
   "cell_type": "code",
   "execution_count": null,
   "metadata": {},
   "outputs": [],
   "source": [
    "seed = 752\n",
    "synthetic_info = dataGenerate(seed = seed, test_samples = 100, train_samples = 1000)\n",
    "server = Server(logReg(num_features=3, num_classes=2, seed = seed), synthetic_info, train_prn = False, metric = \"Demographic disparity\", seed = seed)\n",
    "server.FBVariant1(num_rounds = 10, local_epochs = 30, optimizer = 'adam', learning_rate = 0.008, alpha = 0.2)\n"
   ]
  },
  {
   "cell_type": "code",
   "execution_count": 3,
   "metadata": {
    "scrolled": true
   },
   "outputs": [
    {
     "name": "stderr",
     "output_type": "stream",
     "text": [
      "\r",
      "  0%|          | 0/10 [00:00<?, ?it/s]"
     ]
    },
    {
     "name": "stdout",
     "output_type": "stream",
     "text": [
      "\n",
      " | Global Training Round : 1 |\n",
      "\n"
     ]
    },
    {
     "name": "stderr",
     "output_type": "stream",
     "text": [
      "\r",
      " 10%|█         | 1/10 [00:02<00:19,  2.17s/it]"
     ]
    },
    {
     "name": "stdout",
     "output_type": "stream",
     "text": [
      "Client 1: accuracy loss: 4.48 | fairness loss 185.47 | Demographic disparity = 0.48\n",
      "Client 2: accuracy loss: 3.67 | fairness loss 262.99 | Demographic disparity = 0.41\n",
      "Client 3: accuracy loss: 4.06 | fairness loss 321.96 | Demographic disparity = 0.32\n",
      "tensor(0.9961, grad_fn=<DivBackward0>)\n",
      "tensor(-0.0883, grad_fn=<DivBackward0>)\n",
      "{(0, 0): 0.3385725042564597, (0, 1): 0.21427597696778433, (1, 0): 0.6614274957435403, (1, 1): 0.7857240230322157}\n",
      " \n",
      "Avg Training Stats after 1 global rounds:\n",
      "Training loss: 0.50 | Training accuracy: 83.46% | Training Demographic disparity: 0.4056\n",
      "\n",
      " | Global Training Round : 2 |\n",
      "\n"
     ]
    },
    {
     "name": "stderr",
     "output_type": "stream",
     "text": [
      "\r",
      " 20%|██        | 2/10 [00:04<00:17,  2.22s/it]"
     ]
    },
    {
     "name": "stdout",
     "output_type": "stream",
     "text": [
      "Client 1: accuracy loss: 3.82 | fairness loss 137.86 | Demographic disparity = 0.41\n",
      "Client 2: accuracy loss: 3.39 | fairness loss 188.69 | Demographic disparity = 0.34\n",
      "Client 3: accuracy loss: 3.65 | fairness loss 215.65 | Demographic disparity = 0.25\n",
      "tensor(1.0000, grad_fn=<DivBackward0>)\n",
      "tensor(0.0053, grad_fn=<DivBackward0>)\n",
      "{(0, 0): 0.05573371264764926, (0, 1): 0.21277934729472803, (1, 0): 0.9442662873523507, (1, 1): 0.787220652705272}\n",
      " \n",
      "Avg Training Stats after 2 global rounds:\n",
      "Training loss: 0.43 | Training accuracy: 83.19% | Training Demographic disparity: 0.3321\n",
      "\n",
      " | Global Training Round : 3 |\n",
      "\n"
     ]
    },
    {
     "name": "stderr",
     "output_type": "stream",
     "text": [
      "\r",
      " 30%|███       | 3/10 [00:07<00:16,  2.37s/it]"
     ]
    },
    {
     "name": "stdout",
     "output_type": "stream",
     "text": [
      "Client 1: accuracy loss: 4.35 | fairness loss 72.61 | Demographic disparity = 0.22\n",
      "Client 2: accuracy loss: 4.03 | fairness loss 98.03 | Demographic disparity = 0.24\n",
      "Client 3: accuracy loss: 4.53 | fairness loss 108.04 | Demographic disparity = 0.18\n",
      "tensor(0.9984, grad_fn=<DivBackward0>)\n",
      "tensor(-0.0563, grad_fn=<DivBackward0>)\n",
      "{(0, 0): 0, (0, 1): 0.2257830244244735, (1, 0): 1, (1, 1): 0.7742169755755265}\n",
      " \n",
      "Avg Training Stats after 3 global rounds:\n",
      "Training loss: 0.39 | Training accuracy: 76.91% | Training Demographic disparity: 0.2200\n",
      "\n",
      " | Global Training Round : 4 |\n",
      "\n"
     ]
    },
    {
     "name": "stderr",
     "output_type": "stream",
     "text": [
      "\r",
      " 40%|████      | 4/10 [00:09<00:14,  2.34s/it]"
     ]
    },
    {
     "name": "stdout",
     "output_type": "stream",
     "text": [
      "Client 1: accuracy loss: 4.63 | fairness loss 48.06 | Demographic disparity = 0.14\n",
      "Client 2: accuracy loss: 4.46 | fairness loss 64.54 | Demographic disparity = 0.13\n",
      "Client 3: accuracy loss: 5.09 | fairness loss 70.28 | Demographic disparity = 0.11\n",
      "tensor(0.9944, grad_fn=<DivBackward0>)\n",
      "tensor(-0.1055, grad_fn=<DivBackward0>)\n",
      "{(0, 0): 0, (0, 1): 0.24687497548178838, (1, 0): 1, (1, 1): 0.7531250245182116}\n",
      " \n",
      "Avg Training Stats after 4 global rounds:\n",
      "Training loss: 0.36 | Training accuracy: 72.09% | Training Demographic disparity: 0.1264\n",
      "\n",
      " | Global Training Round : 5 |\n",
      "\n"
     ]
    },
    {
     "name": "stderr",
     "output_type": "stream",
     "text": [
      "\r",
      " 50%|█████     | 5/10 [00:12<00:12,  2.41s/it]"
     ]
    },
    {
     "name": "stdout",
     "output_type": "stream",
     "text": [
      "Client 1: accuracy loss: 4.62 | fairness loss 41.35 | Demographic disparity = 0.09\n",
      "Client 2: accuracy loss: 4.56 | fairness loss 55.41 | Demographic disparity = 0.10\n",
      "Client 3: accuracy loss: 5.21 | fairness loss 61.56 | Demographic disparity = 0.05\n",
      "tensor(0.9944, grad_fn=<DivBackward0>)\n",
      "tensor(-0.1059, grad_fn=<DivBackward0>)\n",
      "{(0, 0): 0, (0, 1): 0.2658124607743423, (1, 0): 1, (1, 1): 0.7341875392256577}\n",
      " \n",
      "Avg Training Stats after 5 global rounds:\n",
      "Training loss: 0.34 | Training accuracy: 70.28% | Training Demographic disparity: 0.0799\n",
      "\n",
      " | Global Training Round : 6 |\n",
      "\n"
     ]
    },
    {
     "name": "stderr",
     "output_type": "stream",
     "text": [
      "\r",
      " 60%|██████    | 6/10 [00:14<00:09,  2.44s/it]"
     ]
    },
    {
     "name": "stdout",
     "output_type": "stream",
     "text": [
      "Client 1: accuracy loss: 4.60 | fairness loss 38.30 | Demographic disparity = 0.04\n",
      "Client 2: accuracy loss: 4.62 | fairness loss 51.17 | Demographic disparity = 0.10\n",
      "Client 3: accuracy loss: 5.26 | fairness loss 58.39 | Demographic disparity = 0.03\n",
      "tensor(0.9944, grad_fn=<DivBackward0>)\n",
      "tensor(-0.1053, grad_fn=<DivBackward0>)\n",
      "{(0, 0): 0, (0, 1): 0.28300229317859815, (1, 0): 1, (1, 1): 0.7169977068214018}\n",
      " \n",
      "Avg Training Stats after 6 global rounds:\n",
      "Training loss: 0.33 | Training accuracy: 70.28% | Training Demographic disparity: 0.0619\n",
      "\n",
      " | Global Training Round : 7 |\n",
      "\n"
     ]
    },
    {
     "name": "stderr",
     "output_type": "stream",
     "text": [
      "\r",
      " 70%|███████   | 7/10 [00:17<00:07,  2.44s/it]"
     ]
    },
    {
     "name": "stdout",
     "output_type": "stream",
     "text": [
      "Client 1: accuracy loss: 4.57 | fairness loss 36.85 | Demographic disparity = 0.04\n",
      "Client 2: accuracy loss: 4.66 | fairness loss 49.05 | Demographic disparity = 0.09\n",
      "Client 3: accuracy loss: 5.28 | fairness loss 57.33 | Demographic disparity = 0.00\n",
      "tensor(0.9944, grad_fn=<DivBackward0>)\n",
      "tensor(-0.1056, grad_fn=<DivBackward0>)\n",
      "{(0, 0): 0, (0, 1): 0.29896923757509397, (1, 0): 1, (1, 1): 0.701030762424906}\n",
      " \n",
      "Avg Training Stats after 7 global rounds:\n",
      "Training loss: 0.32 | Training accuracy: 70.73% | Training Demographic disparity: 0.0496\n",
      "\n",
      " | Global Training Round : 8 |\n",
      "\n"
     ]
    },
    {
     "name": "stderr",
     "output_type": "stream",
     "text": [
      "\r",
      " 80%|████████  | 8/10 [00:19<00:04,  2.45s/it]"
     ]
    },
    {
     "name": "stdout",
     "output_type": "stream",
     "text": [
      "Client 1: accuracy loss: 4.55 | fairness loss 36.11 | Demographic disparity = 0.04\n",
      "Client 2: accuracy loss: 4.69 | fairness loss 47.90 | Demographic disparity = 0.07\n",
      "Client 3: accuracy loss: 5.29 | fairness loss 57.12 | Demographic disparity = 0.01\n",
      "tensor(0.9943, grad_fn=<DivBackward0>)\n",
      "tensor(-0.1069, grad_fn=<DivBackward0>)\n",
      "{(0, 0): 0, (0, 1): 0.314084588059942, (1, 0): 1, (1, 1): 0.685915411940058}\n",
      " \n",
      "Avg Training Stats after 8 global rounds:\n",
      "Training loss: 0.31 | Training accuracy: 71.11% | Training Demographic disparity: 0.0420\n",
      "\n",
      " | Global Training Round : 9 |\n",
      "\n"
     ]
    },
    {
     "name": "stderr",
     "output_type": "stream",
     "text": [
      "\r",
      " 90%|█████████ | 9/10 [00:21<00:02,  2.47s/it]"
     ]
    },
    {
     "name": "stdout",
     "output_type": "stream",
     "text": [
      "Client 1: accuracy loss: 4.53 | fairness loss 35.71 | Demographic disparity = 0.04\n",
      "Client 2: accuracy loss: 4.71 | fairness loss 47.20 | Demographic disparity = 0.08\n",
      "Client 3: accuracy loss: 5.30 | fairness loss 57.23 | Demographic disparity = 0.00\n",
      "tensor(0.9941, grad_fn=<DivBackward0>)\n",
      "tensor(-0.1089, grad_fn=<DivBackward0>)\n",
      "{(0, 0): 0, (0, 1): 0.3286032057122986, (1, 0): 1, (1, 1): 0.6713967942877014}\n",
      " \n",
      "Avg Training Stats after 9 global rounds:\n",
      "Training loss: 0.30 | Training accuracy: 71.83% | Training Demographic disparity: 0.0534\n",
      "\n",
      " | Global Training Round : 10 |\n",
      "\n"
     ]
    },
    {
     "name": "stderr",
     "output_type": "stream",
     "text": [
      "100%|██████████| 10/10 [00:24<00:00,  2.44s/it]"
     ]
    },
    {
     "name": "stdout",
     "output_type": "stream",
     "text": [
      "Client 1: accuracy loss: 4.52 | fairness loss 35.45 | Demographic disparity = 0.03\n",
      "Client 2: accuracy loss: 4.73 | fairness loss 46.71 | Demographic disparity = 0.08\n",
      "Client 3: accuracy loss: 5.30 | fairness loss 57.43 | Demographic disparity = 0.01\n",
      "tensor(0.9938, grad_fn=<DivBackward0>)\n",
      "tensor(-0.1115, grad_fn=<DivBackward0>)\n",
      "{(0, 0): 0, (0, 1): 0.3427037005068462, (1, 0): 1, (1, 1): 0.6572962994931538}\n",
      " \n",
      "Avg Training Stats after 10 global rounds:\n",
      "Training loss: 0.30 | Training accuracy: 72.19% | Training Demographic disparity: 0.0549\n",
      " \n",
      " Results after 10 global rounds of training:\n",
      "|---- Avg Train Accuracy: 72.19%\n",
      "|---- Test Accuracy: 72.00%\n",
      "|---- Test Demographic disparity: 0.0618\n",
      "\n",
      " Total Run Time: 24.3804 sec\n"
     ]
    },
    {
     "name": "stderr",
     "output_type": "stream",
     "text": [
      "\n"
     ]
    }
   ],
   "source": [
    "seed = 439\n",
    "synthetic_info = dataGenerate(seed = seed, test_samples = 100)\n",
    "server = Server(logReg(num_features=3, num_classes=2, seed = seed), synthetic_info, train_prn = False, metric = \"Demographic disparity\", seed = seed)\n",
    "server.FBVariant3(num_rounds = 10, local_epochs = 30, optimizer = 'adam', learning_rate = 0.002, alpha = 0.4)\n",
    "\n"
   ]
  },
  {
   "cell_type": "code",
   "execution_count": 4,
   "metadata": {
    "scrolled": true
   },
   "outputs": [
    {
     "name": "stderr",
     "output_type": "stream",
     "text": [
      "\r",
      "  0%|          | 0/10 [00:00<?, ?it/s]"
     ]
    },
    {
     "name": "stdout",
     "output_type": "stream",
     "text": [
      "\n",
      " | Global Training Round : 1 |\n",
      "\n"
     ]
    },
    {
     "name": "stderr",
     "output_type": "stream",
     "text": [
      "\r",
      " 10%|█         | 1/10 [00:02<00:21,  2.40s/it]"
     ]
    },
    {
     "name": "stdout",
     "output_type": "stream",
     "text": [
      "Client 1: accuracy loss: 3.54 | fairness loss 235.32 | Demographic disparity = 0.49\n",
      "Client 2: accuracy loss: 3.26 | fairness loss 294.05 | Demographic disparity = 0.27\n",
      "Client 3: accuracy loss: 3.16 | fairness loss 262.95 | Demographic disparity = 0.42\n",
      " \n",
      "Avg Training Stats after 1 global rounds:\n",
      "Training loss: 0.63 | Training accuracy: 86.89% | Training Demographic disparity: 0.3744\n",
      "\n",
      " | Global Training Round : 2 |\n",
      "\n"
     ]
    },
    {
     "name": "stderr",
     "output_type": "stream",
     "text": [
      "\r",
      " 20%|██        | 2/10 [00:04<00:19,  2.40s/it]"
     ]
    },
    {
     "name": "stdout",
     "output_type": "stream",
     "text": [
      "Client 1: accuracy loss: 3.68 | fairness loss 147.09 | Demographic disparity = 0.42\n",
      "Client 2: accuracy loss: 3.37 | fairness loss 176.12 | Demographic disparity = 0.26\n",
      "Client 3: accuracy loss: 3.54 | fairness loss 165.05 | Demographic disparity = 0.37\n",
      " \n",
      "Avg Training Stats after 2 global rounds:\n",
      "Training loss: 0.51 | Training accuracy: 87.36% | Training Demographic disparity: 0.3357\n",
      "\n",
      " | Global Training Round : 3 |\n",
      "\n"
     ]
    },
    {
     "name": "stderr",
     "output_type": "stream",
     "text": [
      "\r",
      " 30%|███       | 3/10 [00:07<00:17,  2.47s/it]"
     ]
    },
    {
     "name": "stdout",
     "output_type": "stream",
     "text": [
      "Client 1: accuracy loss: 3.97 | fairness loss 95.52 | Demographic disparity = 0.40\n",
      "Client 2: accuracy loss: 3.71 | fairness loss 127.59 | Demographic disparity = 0.24\n",
      "Client 3: accuracy loss: 3.99 | fairness loss 110.61 | Demographic disparity = 0.33\n",
      " \n",
      "Avg Training Stats after 3 global rounds:\n",
      "Training loss: 0.47 | Training accuracy: 86.31% | Training Demographic disparity: 0.3037\n",
      "\n",
      " | Global Training Round : 4 |\n",
      "\n"
     ]
    },
    {
     "name": "stderr",
     "output_type": "stream",
     "text": [
      "\r",
      " 40%|████      | 4/10 [00:09<00:14,  2.48s/it]"
     ]
    },
    {
     "name": "stdout",
     "output_type": "stream",
     "text": [
      "Client 1: accuracy loss: 4.21 | fairness loss 70.99 | Demographic disparity = 0.37\n",
      "Client 2: accuracy loss: 3.98 | fairness loss 104.73 | Demographic disparity = 0.19\n",
      "Client 3: accuracy loss: 4.34 | fairness loss 84.40 | Demographic disparity = 0.23\n",
      " \n",
      "Avg Training Stats after 4 global rounds:\n",
      "Training loss: 0.45 | Training accuracy: 82.40% | Training Demographic disparity: 0.2398\n",
      "\n",
      " | Global Training Round : 5 |\n",
      "\n"
     ]
    },
    {
     "name": "stderr",
     "output_type": "stream",
     "text": [
      "\r",
      " 50%|█████     | 5/10 [00:12<00:12,  2.48s/it]"
     ]
    },
    {
     "name": "stdout",
     "output_type": "stream",
     "text": [
      "Client 1: accuracy loss: 4.42 | fairness loss 57.00 | Demographic disparity = 0.26\n",
      "Client 2: accuracy loss: 4.22 | fairness loss 91.52 | Demographic disparity = 0.14\n",
      "Client 3: accuracy loss: 4.62 | fairness loss 69.14 | Demographic disparity = 0.20\n",
      " \n",
      "Avg Training Stats after 5 global rounds:\n",
      "Training loss: 0.44 | Training accuracy: 79.65% | Training Demographic disparity: 0.1859\n",
      "\n",
      " | Global Training Round : 6 |\n",
      "\n"
     ]
    },
    {
     "name": "stderr",
     "output_type": "stream",
     "text": [
      "\r",
      " 60%|██████    | 6/10 [00:14<00:10,  2.50s/it]"
     ]
    },
    {
     "name": "stdout",
     "output_type": "stream",
     "text": [
      "Client 1: accuracy loss: 4.60 | fairness loss 47.97 | Demographic disparity = 0.16\n",
      "Client 2: accuracy loss: 4.43 | fairness loss 82.64 | Demographic disparity = 0.11\n",
      "Client 3: accuracy loss: 4.87 | fairness loss 58.99 | Demographic disparity = 0.15\n",
      " \n",
      "Avg Training Stats after 6 global rounds:\n",
      "Training loss: 0.43 | Training accuracy: 76.20% | Training Demographic disparity: 0.1370\n",
      "\n",
      " | Global Training Round : 7 |\n",
      "\n"
     ]
    },
    {
     "name": "stderr",
     "output_type": "stream",
     "text": [
      "\r",
      " 70%|███████   | 7/10 [00:17<00:07,  2.49s/it]"
     ]
    },
    {
     "name": "stdout",
     "output_type": "stream",
     "text": [
      "Client 1: accuracy loss: 4.78 | fairness loss 41.64 | Demographic disparity = 0.05\n",
      "Client 2: accuracy loss: 4.62 | fairness loss 76.07 | Demographic disparity = 0.08\n",
      "Client 3: accuracy loss: 5.09 | fairness loss 51.64 | Demographic disparity = 0.14\n",
      " \n",
      "Avg Training Stats after 7 global rounds:\n",
      "Training loss: 0.42 | Training accuracy: 75.55% | Training Demographic disparity: 0.1051\n",
      "\n",
      " | Global Training Round : 8 |\n",
      "\n"
     ]
    },
    {
     "name": "stderr",
     "output_type": "stream",
     "text": [
      "\r",
      " 80%|████████  | 8/10 [00:20<00:05,  2.55s/it]"
     ]
    },
    {
     "name": "stdout",
     "output_type": "stream",
     "text": [
      "Client 1: accuracy loss: 4.94 | fairness loss 36.98 | Demographic disparity = 0.01\n",
      "Client 2: accuracy loss: 4.80 | fairness loss 70.89 | Demographic disparity = 0.05\n",
      "Client 3: accuracy loss: 5.30 | fairness loss 46.02 | Demographic disparity = 0.14\n",
      " \n",
      "Avg Training Stats after 8 global rounds:\n",
      "Training loss: 0.41 | Training accuracy: 73.98% | Training Demographic disparity: 0.0815\n",
      "\n",
      " | Global Training Round : 9 |\n",
      "\n"
     ]
    },
    {
     "name": "stderr",
     "output_type": "stream",
     "text": [
      "\r",
      " 90%|█████████ | 9/10 [00:22<00:02,  2.55s/it]"
     ]
    },
    {
     "name": "stdout",
     "output_type": "stream",
     "text": [
      "Client 1: accuracy loss: 5.11 | fairness loss 33.49 | Demographic disparity = 0.02\n",
      "Client 2: accuracy loss: 4.98 | fairness loss 66.66 | Demographic disparity = 0.01\n",
      "Client 3: accuracy loss: 5.51 | fairness loss 41.60 | Demographic disparity = 0.13\n",
      " \n",
      "Avg Training Stats after 9 global rounds:\n",
      "Training loss: 0.41 | Training accuracy: 72.28% | Training Demographic disparity: 0.0512\n",
      "\n",
      " | Global Training Round : 10 |\n",
      "\n"
     ]
    },
    {
     "name": "stderr",
     "output_type": "stream",
     "text": [
      "100%|██████████| 10/10 [00:25<00:00,  2.51s/it]"
     ]
    },
    {
     "name": "stdout",
     "output_type": "stream",
     "text": [
      "Client 1: accuracy loss: 5.26 | fairness loss 30.87 | Demographic disparity = 0.05\n",
      "Client 2: accuracy loss: 5.16 | fairness loss 63.13 | Demographic disparity = 0.00\n",
      "Client 3: accuracy loss: 5.71 | fairness loss 38.07 | Demographic disparity = 0.12\n",
      " \n",
      "Avg Training Stats after 10 global rounds:\n",
      "Training loss: 0.40 | Training accuracy: 71.26% | Training Demographic disparity: 0.0328\n",
      " \n",
      " Results after 10 global rounds of training:\n",
      "|---- Avg Train Accuracy: 71.26%\n",
      "|---- Test Accuracy: 70.33%\n",
      "|---- Test Demographic disparity: 0.0041\n",
      "\n",
      " Total Run Time: 25.1603 sec\n"
     ]
    },
    {
     "name": "stderr",
     "output_type": "stream",
     "text": [
      "\n"
     ]
    }
   ],
   "source": [
    "seed = 752\n",
    "synthetic_info = dataGenerate(seed = seed, test_samples = 300)\n",
    "server = Server(logReg(num_features=3, num_classes=2, seed = seed), synthetic_info, train_prn = False, metric = \"Demographic disparity\", seed = seed)\n",
    "server.FBVariant1(num_rounds = 10, local_epochs = 30, optimizer = 'adam', learning_rate = 0.004, alpha = 0.2)\n"
   ]
  },
  {
   "cell_type": "code",
   "execution_count": 10,
   "metadata": {
    "scrolled": true
   },
   "outputs": [
    {
     "name": "stderr",
     "output_type": "stream",
     "text": [
      "\r",
      "  0%|          | 0/2 [00:00<?, ?it/s]"
     ]
    },
    {
     "name": "stdout",
     "output_type": "stream",
     "text": [
      "\n",
      " | Global Training Round : 1 |\n",
      "\n"
     ]
    },
    {
     "name": "stderr",
     "output_type": "stream",
     "text": [
      "\r",
      " 50%|█████     | 1/2 [00:18<00:18, 18.49s/it]"
     ]
    },
    {
     "name": "stdout",
     "output_type": "stream",
     "text": [
      "Client 1: accuracy loss: 3.23 | fairness loss 571.67 | Demographic disparity = 0.61\n",
      "Client 2: accuracy loss: 2.22 | fairness loss 893.92 | Demographic disparity = 0.40\n",
      "Client 3: accuracy loss: 2.95 | fairness loss 765.73 | Demographic disparity = 0.43\n",
      " \n",
      "Avg Training Stats after 1 global rounds:\n",
      "Training loss: 42.36 | Validation accuracy: 84.84% | Validation Demographic disparity: 0.4600\n",
      "\n",
      " | Global Training Round : 2 |\n",
      "\n"
     ]
    },
    {
     "name": "stderr",
     "output_type": "stream",
     "text": [
      "100%|██████████| 2/2 [00:31<00:00, 15.68s/it]\n",
      "  0%|          | 0/8 [00:00<?, ?it/s]"
     ]
    },
    {
     "name": "stdout",
     "output_type": "stream",
     "text": [
      "Client 1: accuracy loss: 3.27 | fairness loss 583.74 | Demographic disparity = 0.57\n",
      "Client 2: accuracy loss: 2.25 | fairness loss 930.61 | Demographic disparity = 0.38\n",
      "Client 3: accuracy loss: 2.97 | fairness loss 787.18 | Demographic disparity = 0.41\n",
      " \n",
      "Avg Training Stats after 2 global rounds:\n",
      "Training loss: 38.57 | Validation accuracy: 85.52% | Validation Demographic disparity: 0.4404\n",
      " \n",
      " Results after 2 global rounds of training:\n",
      "|---- Avg Train Accuracy: 85.52%\n",
      "|---- Test Accuracy: 90.67%\n",
      "|---- Test Demographic disparity: 0.3672\n",
      "\n",
      " Total Run Time: 31.4225 sec\n"
     ]
    },
    {
     "name": "stderr",
     "output_type": "stream",
     "text": [
      "\r",
      " 12%|█▎        | 1/8 [00:17<01:59, 17.08s/it]"
     ]
    },
    {
     "name": "stdout",
     "output_type": "stream",
     "text": [
      " \n",
      "Avg Training Stats after 1 threshold adjusting global rounds:\n",
      "Training loss: 14.86 | Validation accuracy: 85.25% | Validation Demographic disparity: 0.3849\n"
     ]
    },
    {
     "name": "stderr",
     "output_type": "stream",
     "text": [
      "\r",
      " 25%|██▌       | 2/8 [00:31<01:37, 16.19s/it]"
     ]
    },
    {
     "name": "stdout",
     "output_type": "stream",
     "text": [
      " \n",
      "Avg Training Stats after 2 threshold adjusting global rounds:\n",
      "Training loss: 16.97 | Validation accuracy: 81.51% | Validation Demographic disparity: 0.3221\n"
     ]
    },
    {
     "name": "stderr",
     "output_type": "stream",
     "text": [
      "\r",
      " 38%|███▊      | 3/8 [00:43<01:14, 14.90s/it]"
     ]
    },
    {
     "name": "stdout",
     "output_type": "stream",
     "text": [
      " \n",
      "Avg Training Stats after 3 threshold adjusting global rounds:\n",
      "Training loss: 20.34 | Validation accuracy: 78.80% | Validation Demographic disparity: 0.2787\n"
     ]
    },
    {
     "name": "stderr",
     "output_type": "stream",
     "text": [
      "\r",
      " 50%|█████     | 4/8 [01:00<01:02, 15.59s/it]"
     ]
    },
    {
     "name": "stdout",
     "output_type": "stream",
     "text": [
      " \n",
      "Avg Training Stats after 4 threshold adjusting global rounds:\n",
      "Training loss: 25.03 | Validation accuracy: 69.35% | Validation Demographic disparity: 0.1579\n"
     ]
    },
    {
     "name": "stderr",
     "output_type": "stream",
     "text": [
      "\r",
      " 62%|██████▎   | 5/8 [01:29<00:59, 19.68s/it]"
     ]
    },
    {
     "name": "stdout",
     "output_type": "stream",
     "text": [
      " \n",
      "Avg Training Stats after 5 threshold adjusting global rounds:\n",
      "Training loss: 31.04 | Validation accuracy: 65.96% | Validation Demographic disparity: 0.1048\n"
     ]
    },
    {
     "name": "stderr",
     "output_type": "stream",
     "text": [
      "\r",
      " 75%|███████▌  | 6/8 [02:02<00:47, 23.61s/it]"
     ]
    },
    {
     "name": "stdout",
     "output_type": "stream",
     "text": [
      " \n",
      "Avg Training Stats after 6 threshold adjusting global rounds:\n",
      "Training loss: 38.27 | Validation accuracy: 60.90% | Validation Demographic disparity: 0.0468\n",
      " \n",
      "Avg Training Stats after 7 threshold adjusting global rounds:\n",
      "Training loss: 46.54 | Validation accuracy: 55.85% | Validation Demographic disparity: 0.0063\n",
      " \n",
      " Results after 8 global rounds of training:\n",
      "|---- Test Accuracy: 70.67%\n",
      "|---- Test Demographic disparity: 0.0166\n",
      "\n",
      " Total Run Time: 145.9820 sec\n"
     ]
    }
   ],
   "source": [
    "seed = 745\n",
    "synthetic_info = dataGenerate(seed = seed, test_samples = 300)\n"
   ]
  },
  {
   "cell_type": "code",
   "execution_count": 17,
   "metadata": {
    "scrolled": true
   },
   "outputs": [
    {
     "name": "stderr",
     "output_type": "stream",
     "text": [
      "\r",
      "  0%|          | 0/10 [00:00<?, ?it/s]"
     ]
    },
    {
     "name": "stdout",
     "output_type": "stream",
     "text": [
      "\n",
      " | Global Training Round : 1 |\n",
      "\n"
     ]
    },
    {
     "name": "stderr",
     "output_type": "stream",
     "text": [
      "\r",
      " 10%|█         | 1/10 [00:02<00:21,  2.39s/it]"
     ]
    },
    {
     "name": "stdout",
     "output_type": "stream",
     "text": [
      "Client 1: predictor loss: 3.53 | adversary loss 0.20 | Demographic disparity = 0.56\n",
      "Client 2: predictor loss: 2.18 | adversary loss 0.30 | Demographic disparity = 0.39\n",
      "Client 3: predictor loss: 3.04 | adversary loss 0.31 | Demographic disparity = 0.38\n",
      " \n",
      "Avg Training Stats after 1 global rounds:\n",
      "Training loss: 0.45 | Validation accuracy: 87.12% | Validation Demographic disparity: 0.4256\n",
      "\n",
      " | Global Training Round : 2 |\n",
      "\n"
     ]
    },
    {
     "name": "stderr",
     "output_type": "stream",
     "text": [
      "\r",
      " 20%|██        | 2/10 [00:04<00:18,  2.30s/it]"
     ]
    },
    {
     "name": "stdout",
     "output_type": "stream",
     "text": [
      "Client 1: predictor loss: 3.27 | adversary loss 0.17 | Demographic disparity = 0.57\n",
      "Client 2: predictor loss: 2.18 | adversary loss 0.28 | Demographic disparity = 0.40\n",
      "Client 3: predictor loss: 2.95 | adversary loss 0.30 | Demographic disparity = 0.40\n",
      " \n",
      "Avg Training Stats after 2 global rounds:\n",
      "Training loss: 0.37 | Validation accuracy: 85.13% | Validation Demographic disparity: 0.4458\n",
      "\n",
      " | Global Training Round : 3 |\n",
      "\n"
     ]
    },
    {
     "name": "stderr",
     "output_type": "stream",
     "text": [
      "\r",
      " 30%|███       | 3/10 [00:06<00:15,  2.27s/it]"
     ]
    },
    {
     "name": "stdout",
     "output_type": "stream",
     "text": [
      "Client 1: predictor loss: 3.62 | adversary loss 0.33 | Demographic disparity = 0.47\n",
      "Client 2: predictor loss: 2.24 | adversary loss 0.40 | Demographic disparity = 0.35\n",
      "Client 3: predictor loss: 3.16 | adversary loss 0.43 | Demographic disparity = 0.35\n",
      " \n",
      "Avg Training Stats after 3 global rounds:\n",
      "Training loss: 0.34 | Validation accuracy: 86.56% | Validation Demographic disparity: 0.3745\n",
      "\n",
      " | Global Training Round : 4 |\n",
      "\n"
     ]
    },
    {
     "name": "stderr",
     "output_type": "stream",
     "text": [
      "\r",
      " 40%|████      | 4/10 [00:08<00:13,  2.28s/it]"
     ]
    },
    {
     "name": "stdout",
     "output_type": "stream",
     "text": [
      "Client 1: predictor loss: 7.89 | adversary loss 0.91 | Demographic disparity = 0.22\n",
      "Client 2: predictor loss: 6.27 | adversary loss 0.91 | Demographic disparity = 0.04\n",
      "Client 3: predictor loss: 7.03 | adversary loss 0.92 | Demographic disparity = 0.13\n",
      " \n",
      "Avg Training Stats after 4 global rounds:\n",
      "Training loss: 0.36 | Validation accuracy: 59.23% | Validation Demographic disparity: 0.1101\n",
      "\n",
      " | Global Training Round : 5 |\n",
      "\n"
     ]
    },
    {
     "name": "stderr",
     "output_type": "stream",
     "text": [
      "\r",
      " 50%|█████     | 5/10 [00:11<00:11,  2.25s/it]"
     ]
    },
    {
     "name": "stdout",
     "output_type": "stream",
     "text": [
      "Client 1: predictor loss: 6.00 | adversary loss 0.77 | Demographic disparity = 0.00\n",
      "Client 2: predictor loss: 4.29 | adversary loss 0.81 | Demographic disparity = 0.13\n",
      "Client 3: predictor loss: 5.25 | adversary loss 0.78 | Demographic disparity = 0.06\n",
      " \n",
      "Avg Training Stats after 5 global rounds:\n",
      "Training loss: 0.43 | Validation accuracy: 72.80% | Validation Demographic disparity: 0.0741\n",
      "\n",
      " | Global Training Round : 6 |\n",
      "\n"
     ]
    },
    {
     "name": "stderr",
     "output_type": "stream",
     "text": [
      "\r",
      " 60%|██████    | 6/10 [00:13<00:09,  2.28s/it]"
     ]
    },
    {
     "name": "stdout",
     "output_type": "stream",
     "text": [
      "Client 1: predictor loss: 7.17 | adversary loss 0.75 | Demographic disparity = 0.15\n",
      "Client 2: predictor loss: 5.31 | adversary loss 0.74 | Demographic disparity = 0.03\n",
      "Client 3: predictor loss: 6.25 | adversary loss 0.76 | Demographic disparity = 0.03\n",
      " \n",
      "Avg Training Stats after 6 global rounds:\n",
      "Training loss: 0.44 | Validation accuracy: 65.07% | Validation Demographic disparity: 0.0215\n",
      "\n",
      " | Global Training Round : 7 |\n",
      "\n"
     ]
    },
    {
     "name": "stderr",
     "output_type": "stream",
     "text": [
      "\r",
      " 70%|███████   | 7/10 [00:15<00:06,  2.30s/it]"
     ]
    },
    {
     "name": "stdout",
     "output_type": "stream",
     "text": [
      "Client 1: predictor loss: 5.98 | adversary loss 0.73 | Demographic disparity = 0.03\n",
      "Client 2: predictor loss: 4.17 | adversary loss 0.77 | Demographic disparity = 0.17\n",
      "Client 3: predictor loss: 5.17 | adversary loss 0.75 | Demographic disparity = 0.06\n",
      " \n",
      "Avg Training Stats after 7 global rounds:\n",
      "Training loss: 0.46 | Validation accuracy: 73.82% | Validation Demographic disparity: 0.0989\n",
      "\n",
      " | Global Training Round : 8 |\n",
      "\n"
     ]
    },
    {
     "name": "stderr",
     "output_type": "stream",
     "text": [
      "\r",
      " 80%|████████  | 8/10 [00:18<00:04,  2.26s/it]"
     ]
    },
    {
     "name": "stdout",
     "output_type": "stream",
     "text": [
      "Client 1: predictor loss: 7.10 | adversary loss 0.73 | Demographic disparity = 0.17\n",
      "Client 2: predictor loss: 5.29 | adversary loss 0.73 | Demographic disparity = 0.03\n",
      "Client 3: predictor loss: 6.22 | adversary loss 0.75 | Demographic disparity = 0.04\n",
      " \n",
      "Avg Training Stats after 8 global rounds:\n",
      "Training loss: 0.47 | Validation accuracy: 64.88% | Validation Demographic disparity: 0.0293\n",
      "\n",
      " | Global Training Round : 9 |\n",
      "\n"
     ]
    },
    {
     "name": "stderr",
     "output_type": "stream",
     "text": [
      "\r",
      " 90%|█████████ | 9/10 [00:20<00:02,  2.18s/it]"
     ]
    },
    {
     "name": "stdout",
     "output_type": "stream",
     "text": [
      "Client 1: predictor loss: 6.13 | adversary loss 0.71 | Demographic disparity = 0.01\n",
      "Client 2: predictor loss: 4.38 | adversary loss 0.75 | Demographic disparity = 0.13\n",
      "Client 3: predictor loss: 5.36 | adversary loss 0.73 | Demographic disparity = 0.02\n",
      " \n",
      "Avg Training Stats after 9 global rounds:\n",
      "Training loss: 0.48 | Validation accuracy: 71.04% | Validation Demographic disparity: 0.0617\n",
      "\n",
      " | Global Training Round : 10 |\n",
      "\n"
     ]
    },
    {
     "name": "stderr",
     "output_type": "stream",
     "text": [
      "100%|██████████| 10/10 [00:22<00:00,  2.21s/it]"
     ]
    },
    {
     "name": "stdout",
     "output_type": "stream",
     "text": [
      "Client 1: predictor loss: 6.96 | adversary loss 0.72 | Demographic disparity = 0.17\n",
      "Client 2: predictor loss: 5.24 | adversary loss 0.72 | Demographic disparity = 0.05\n",
      "Client 3: predictor loss: 6.15 | adversary loss 0.74 | Demographic disparity = 0.05\n",
      " \n",
      "Avg Training Stats after 10 global rounds:\n",
      "Training loss: 0.49 | Validation accuracy: 65.53% | Validation Demographic disparity: 0.0227\n",
      " \n",
      " Results after 10 global rounds of training:\n",
      "|---- Avg Train Accuracy: 65.53%\n",
      "|---- Test Accuracy: 68.00%\n",
      "|---- Test Demographic disparity: 0.0371\n",
      "\n",
      " Total Run Time: 22.1169 sec\n"
     ]
    },
    {
     "name": "stderr",
     "output_type": "stream",
     "text": [
      "\n"
     ]
    }
   ],
   "source": [
    "seed = 745\n",
    "synthetic_info = dataGenerate(seed = seed, test_samples = 300)\n",
    "server = Server(logReg(num_features=3, num_classes=2, seed = seed), synthetic_info, train_prn = False, metric = \"Demographic disparity\", seed = seed)\n",
    "server.FTrain(num_rounds = 10, local_epochs = 30, init_epochs = 50, lr_g = 0.003, lr_d = 0.01, lambda_d = 0.8)\n"
   ]
  },
  {
   "cell_type": "code",
   "execution_count": 2,
   "metadata": {
    "scrolled": true
   },
   "outputs": [
    {
     "name": "stderr",
     "output_type": "stream",
     "text": [
      "\r",
      "  0%|          | 0/1 [00:00<?, ?it/s]"
     ]
    },
    {
     "name": "stdout",
     "output_type": "stream",
     "text": [
      "\n",
      " | Global Training Round : 1 |\n",
      "\n"
     ]
    },
    {
     "name": "stderr",
     "output_type": "stream",
     "text": [
      "100%|██████████| 1/1 [00:02<00:00,  2.73s/it]\n",
      "  0%|          | 0/9 [00:00<?, ?it/s]"
     ]
    },
    {
     "name": "stdout",
     "output_type": "stream",
     "text": [
      "Client 1: accuracy loss: 3.34 | fairness loss 1071.04 | Demographic disparity = 0.48\n",
      "Client 2: accuracy loss: 2.28 | fairness loss 992.26 | Demographic disparity = 0.39\n",
      "Client 3: accuracy loss: 3.49 | fairness loss 1122.48 | Demographic disparity = 0.33\n",
      " \n",
      "Avg Training Stats after 1 global rounds:\n",
      "Training loss: 38.60 | Validation accuracy: 86.86% | Validation Demographic disparity: 0.3999\n",
      " \n",
      " Results after 1 global rounds of training:\n",
      "|---- Avg Train Accuracy: 86.86%\n",
      "|---- Test Accuracy: 84.00%\n",
      "|---- Test Demographic disparity: 0.3743\n",
      "\n",
      " Total Run Time: 2.7418 sec\n",
      "\n",
      " | Global Training Round : 1 |\n",
      "\n"
     ]
    },
    {
     "name": "stderr",
     "output_type": "stream",
     "text": [
      "\r",
      " 11%|█         | 1/9 [00:03<00:24,  3.08s/it]"
     ]
    },
    {
     "name": "stdout",
     "output_type": "stream",
     "text": [
      "Client 1: predictor loss: 3.80 | adversary loss 0.34 | Demographic disparity = 0.43\n",
      "Client 2: predictor loss: 2.54 | adversary loss 0.39 | Demographic disparity = 0.39\n",
      "Client 3: predictor loss: 3.71 | adversary loss 0.45 | Demographic disparity = 0.28\n",
      " \n",
      "Avg Training Stats after 1 global rounds:\n",
      "Training loss: 40.13 | Validation accuracy: 84.70% | Validation Demographic disparity: 0.3748\n",
      "\n",
      " | Global Training Round : 2 |\n",
      "\n"
     ]
    },
    {
     "name": "stderr",
     "output_type": "stream",
     "text": [
      "\r",
      " 22%|██▏       | 2/9 [00:06<00:21,  3.07s/it]"
     ]
    },
    {
     "name": "stdout",
     "output_type": "stream",
     "text": [
      "Client 1: predictor loss: 4.08 | adversary loss 0.37 | Demographic disparity = 0.41\n",
      "Client 2: predictor loss: 2.65 | adversary loss 0.41 | Demographic disparity = 0.40\n",
      "Client 3: predictor loss: 3.90 | adversary loss 0.49 | Demographic disparity = 0.26\n",
      " \n",
      "Avg Training Stats after 2 global rounds:\n",
      "Training loss: 40.86 | Validation accuracy: 83.76% | Validation Demographic disparity: 0.3581\n",
      "\n",
      " | Global Training Round : 3 |\n",
      "\n"
     ]
    },
    {
     "name": "stderr",
     "output_type": "stream",
     "text": [
      "\r",
      " 33%|███▎      | 3/9 [00:08<00:17,  2.96s/it]"
     ]
    },
    {
     "name": "stdout",
     "output_type": "stream",
     "text": [
      "Client 1: predictor loss: 4.48 | adversary loss 0.40 | Demographic disparity = 0.36\n",
      "Client 2: predictor loss: 2.83 | adversary loss 0.44 | Demographic disparity = 0.38\n",
      "Client 3: predictor loss: 4.19 | adversary loss 0.53 | Demographic disparity = 0.20\n",
      " \n",
      "Avg Training Stats after 3 global rounds:\n",
      "Training loss: 42.03 | Validation accuracy: 82.88% | Validation Demographic disparity: 0.3233\n",
      "\n",
      " | Global Training Round : 4 |\n",
      "\n"
     ]
    },
    {
     "name": "stderr",
     "output_type": "stream",
     "text": [
      "\r",
      " 44%|████▍     | 4/9 [00:11<00:14,  2.82s/it]"
     ]
    },
    {
     "name": "stdout",
     "output_type": "stream",
     "text": [
      "Client 1: predictor loss: 4.90 | adversary loss 0.43 | Demographic disparity = 0.33\n",
      "Client 2: predictor loss: 3.00 | adversary loss 0.46 | Demographic disparity = 0.36\n",
      "Client 3: predictor loss: 4.50 | adversary loss 0.57 | Demographic disparity = 0.20\n",
      " \n",
      "Avg Training Stats after 4 global rounds:\n",
      "Training loss: 43.50 | Validation accuracy: 82.00% | Validation Demographic disparity: 0.3067\n",
      "\n",
      " | Global Training Round : 5 |\n",
      "\n"
     ]
    },
    {
     "name": "stderr",
     "output_type": "stream",
     "text": [
      "\r",
      " 56%|█████▌    | 5/9 [00:13<00:10,  2.69s/it]"
     ]
    },
    {
     "name": "stdout",
     "output_type": "stream",
     "text": [
      "Client 1: predictor loss: 5.37 | adversary loss 0.45 | Demographic disparity = 0.34\n",
      "Client 2: predictor loss: 3.20 | adversary loss 0.48 | Demographic disparity = 0.30\n",
      "Client 3: predictor loss: 4.86 | adversary loss 0.60 | Demographic disparity = 0.18\n",
      " \n",
      "Avg Training Stats after 5 global rounds:\n",
      "Training loss: 45.18 | Validation accuracy: 77.54% | Validation Demographic disparity: 0.2644\n",
      "\n",
      " | Global Training Round : 6 |\n",
      "\n"
     ]
    },
    {
     "name": "stderr",
     "output_type": "stream",
     "text": [
      "\r",
      " 67%|██████▋   | 6/9 [00:16<00:07,  2.62s/it]"
     ]
    },
    {
     "name": "stdout",
     "output_type": "stream",
     "text": [
      "Client 1: predictor loss: 5.79 | adversary loss 0.47 | Demographic disparity = 0.35\n",
      "Client 2: predictor loss: 3.34 | adversary loss 0.49 | Demographic disparity = 0.28\n",
      "Client 3: predictor loss: 5.20 | adversary loss 0.62 | Demographic disparity = 0.15\n",
      " \n",
      "Avg Training Stats after 6 global rounds:\n",
      "Training loss: 46.98 | Validation accuracy: 75.81% | Validation Demographic disparity: 0.2454\n",
      "\n",
      " | Global Training Round : 7 |\n",
      "\n"
     ]
    },
    {
     "name": "stderr",
     "output_type": "stream",
     "text": [
      "\r",
      " 78%|███████▊  | 7/9 [00:18<00:05,  2.55s/it]"
     ]
    },
    {
     "name": "stdout",
     "output_type": "stream",
     "text": [
      "Client 1: predictor loss: 6.13 | adversary loss 0.48 | Demographic disparity = 0.29\n",
      "Client 2: predictor loss: 3.47 | adversary loss 0.50 | Demographic disparity = 0.28\n",
      "Client 3: predictor loss: 5.48 | adversary loss 0.63 | Demographic disparity = 0.15\n",
      " \n",
      "Avg Training Stats after 7 global rounds:\n",
      "Training loss: 48.76 | Validation accuracy: 75.81% | Validation Demographic disparity: 0.2338\n",
      "\n",
      " | Global Training Round : 8 |\n",
      "\n"
     ]
    },
    {
     "name": "stderr",
     "output_type": "stream",
     "text": [
      "\r",
      " 89%|████████▉ | 8/9 [00:20<00:02,  2.49s/it]"
     ]
    },
    {
     "name": "stdout",
     "output_type": "stream",
     "text": [
      "Client 1: predictor loss: 6.45 | adversary loss 0.48 | Demographic disparity = 0.29\n",
      "Client 2: predictor loss: 3.60 | adversary loss 0.51 | Demographic disparity = 0.25\n",
      "Client 3: predictor loss: 5.73 | adversary loss 0.64 | Demographic disparity = 0.11\n",
      " \n",
      "Avg Training Stats after 8 global rounds:\n",
      "Training loss: 50.49 | Validation accuracy: 74.76% | Validation Demographic disparity: 0.2099\n",
      "\n",
      " | Global Training Round : 9 |\n",
      "\n"
     ]
    },
    {
     "name": "stderr",
     "output_type": "stream",
     "text": [
      "100%|██████████| 9/9 [00:23<00:00,  2.59s/it]"
     ]
    },
    {
     "name": "stdout",
     "output_type": "stream",
     "text": [
      "Client 1: predictor loss: 6.67 | adversary loss 0.49 | Demographic disparity = 0.26\n",
      "Client 2: predictor loss: 3.69 | adversary loss 0.52 | Demographic disparity = 0.25\n",
      "Client 3: predictor loss: 5.91 | adversary loss 0.65 | Demographic disparity = 0.11\n",
      " \n",
      "Avg Training Stats after 9 global rounds:\n",
      "Training loss: 52.10 | Validation accuracy: 73.88% | Validation Demographic disparity: 0.1999\n",
      " \n",
      " Results after 9 global rounds of training:\n",
      "|---- Avg Train Accuracy: 73.88%\n",
      "|---- Test Accuracy: 73.00%\n",
      "|---- Test Demographic disparity: 0.3743\n",
      "\n",
      " Total Run Time: 23.3208 sec\n"
     ]
    },
    {
     "name": "stderr",
     "output_type": "stream",
     "text": [
      "\n"
     ]
    }
   ],
   "source": [
    "seed = 619\n",
    "synthetic_info = dataGenerate(seed = seed, test_samples = 100)\n",
    "server = Server(logReg(num_features=3, num_classes=2, seed = seed), synthetic_info, train_prn = False, metric = \"Demographic disparity\", seed = seed)\n",
    "server.Unconstrained(num_rounds = 1, local_epochs = 30, optimizer = 'adam', learning_rate = 0.01)\n",
    "server.AdversarialLearning(num_rounds = 9, local_epochs = 30, optimizer = 'adam', epsilon = None, learning_rate = 0.005, alpha = 0.5, adaptive_lr = True)"
   ]
  },
  {
   "cell_type": "code",
   "execution_count": 5,
   "metadata": {
    "scrolled": true
   },
   "outputs": [
    {
     "name": "stderr",
     "output_type": "stream",
     "text": [
      "\r",
      "  0%|          | 0/10 [00:00<?, ?it/s]"
     ]
    },
    {
     "name": "stdout",
     "output_type": "stream",
     "text": [
      "\n",
      " | Global Training Round : 1 |\n",
      "\n"
     ]
    },
    {
     "name": "stderr",
     "output_type": "stream",
     "text": [
      "\r",
      " 10%|█         | 1/10 [00:04<00:41,  4.61s/it]"
     ]
    },
    {
     "name": "stdout",
     "output_type": "stream",
     "text": [
      "Client 1: accuracy loss: 5.05 | fairness loss 92.56 | Demographic disparity = 0.40\n",
      "Client 2: accuracy loss: 4.42 | fairness loss 94.57 | Demographic disparity = 0.22\n",
      "Client 3: accuracy loss: 4.52 | fairness loss 140.95 | Demographic disparity = 0.27\n",
      " \n",
      "Avg Training Stats after 1 global rounds:\n",
      "Training loss: 0.68 | Validation accuracy: 81.05% | Validation Demographic disparity: 0.2710\n",
      "\n",
      " | Global Training Round : 2 |\n",
      "\n"
     ]
    },
    {
     "name": "stderr",
     "output_type": "stream",
     "text": [
      "\r",
      " 20%|██        | 2/10 [00:08<00:35,  4.42s/it]"
     ]
    },
    {
     "name": "stdout",
     "output_type": "stream",
     "text": [
      "Client 1: accuracy loss: 3.87 | fairness loss 99.28 | Demographic disparity = 0.53\n",
      "Client 2: accuracy loss: 3.86 | fairness loss 92.19 | Demographic disparity = 0.31\n",
      "Client 3: accuracy loss: 3.80 | fairness loss 120.63 | Demographic disparity = 0.32\n",
      " \n",
      "Avg Training Stats after 2 global rounds:\n",
      "Training loss: 0.54 | Validation accuracy: 88.10% | Validation Demographic disparity: 0.3658\n",
      "\n",
      " | Global Training Round : 3 |\n",
      "\n"
     ]
    },
    {
     "name": "stderr",
     "output_type": "stream",
     "text": [
      "\r",
      " 30%|███       | 3/10 [00:13<00:31,  4.49s/it]"
     ]
    },
    {
     "name": "stdout",
     "output_type": "stream",
     "text": [
      "Client 1: accuracy loss: 3.89 | fairness loss 80.25 | Demographic disparity = 0.56\n",
      "Client 2: accuracy loss: 3.96 | fairness loss 71.06 | Demographic disparity = 0.33\n",
      "Client 3: accuracy loss: 3.87 | fairness loss 89.10 | Demographic disparity = 0.40\n",
      " \n",
      "Avg Training Stats after 3 global rounds:\n",
      "Training loss: 0.50 | Validation accuracy: 88.29% | Validation Demographic disparity: 0.4113\n",
      "\n",
      " | Global Training Round : 4 |\n",
      "\n"
     ]
    },
    {
     "name": "stderr",
     "output_type": "stream",
     "text": [
      "\r",
      " 40%|████      | 4/10 [00:19<00:29,  4.93s/it]"
     ]
    },
    {
     "name": "stdout",
     "output_type": "stream",
     "text": [
      "Client 1: accuracy loss: 4.54 | fairness loss 37.83 | Demographic disparity = 0.53\n",
      "Client 2: accuracy loss: 4.46 | fairness loss 35.13 | Demographic disparity = 0.33\n",
      "Client 3: accuracy loss: 4.41 | fairness loss 44.48 | Demographic disparity = 0.37\n",
      " \n",
      "Avg Training Stats after 4 global rounds:\n",
      "Training loss: 0.51 | Validation accuracy: 88.65% | Validation Demographic disparity: 0.3861\n",
      "\n",
      " | Global Training Round : 5 |\n",
      "\n"
     ]
    },
    {
     "name": "stderr",
     "output_type": "stream",
     "text": [
      "\r",
      " 50%|█████     | 5/10 [00:23<00:23,  4.63s/it]"
     ]
    },
    {
     "name": "stdout",
     "output_type": "stream",
     "text": [
      "Client 1: accuracy loss: 5.23 | fairness loss 16.24 | Demographic disparity = 0.42\n",
      "Client 2: accuracy loss: 4.97 | fairness loss 16.36 | Demographic disparity = 0.26\n",
      "Client 3: accuracy loss: 4.98 | fairness loss 21.37 | Demographic disparity = 0.28\n",
      " \n",
      "Avg Training Stats after 5 global rounds:\n",
      "Training loss: 0.51 | Validation accuracy: 85.01% | Validation Demographic disparity: 0.3045\n",
      "\n",
      " | Global Training Round : 6 |\n",
      "\n"
     ]
    },
    {
     "name": "stderr",
     "output_type": "stream",
     "text": [
      "\r",
      " 60%|██████    | 6/10 [00:25<00:16,  4.09s/it]"
     ]
    },
    {
     "name": "stdout",
     "output_type": "stream",
     "text": [
      "Client 1: accuracy loss: 5.79 | fairness loss 7.33 | Demographic disparity = 0.19\n",
      "Client 2: accuracy loss: 5.39 | fairness loss 8.07 | Demographic disparity = 0.22\n",
      "Client 3: accuracy loss: 5.44 | fairness loss 11.07 | Demographic disparity = 0.22\n",
      " \n",
      "Avg Training Stats after 6 global rounds:\n",
      "Training loss: 0.52 | Validation accuracy: 81.04% | Validation Demographic disparity: 0.2221\n",
      "\n",
      " | Global Training Round : 7 |\n",
      "\n"
     ]
    },
    {
     "name": "stderr",
     "output_type": "stream",
     "text": [
      "\r",
      " 70%|███████   | 7/10 [00:28<00:10,  3.66s/it]"
     ]
    },
    {
     "name": "stdout",
     "output_type": "stream",
     "text": [
      "Client 1: accuracy loss: 6.20 | fairness loss 3.74 | Demographic disparity = 0.00\n",
      "Client 2: accuracy loss: 5.69 | fairness loss 4.41 | Demographic disparity = 0.17\n",
      "Client 3: accuracy loss: 5.77 | fairness loss 6.41 | Demographic disparity = 0.14\n",
      " \n",
      "Avg Training Stats after 7 global rounds:\n",
      "Training loss: 0.53 | Validation accuracy: 75.03% | Validation Demographic disparity: 0.1310\n",
      "\n",
      " | Global Training Round : 8 |\n",
      "\n"
     ]
    },
    {
     "name": "stderr",
     "output_type": "stream",
     "text": [
      "\r",
      " 80%|████████  | 8/10 [00:31<00:07,  3.51s/it]"
     ]
    },
    {
     "name": "stdout",
     "output_type": "stream",
     "text": [
      "Client 1: accuracy loss: 6.49 | fairness loss 2.26 | Demographic disparity = 0.14\n",
      "Client 2: accuracy loss: 5.91 | fairness loss 2.71 | Demographic disparity = 0.14\n",
      "Client 3: accuracy loss: 6.00 | fairness loss 4.16 | Demographic disparity = 0.12\n",
      " \n",
      "Avg Training Stats after 8 global rounds:\n",
      "Training loss: 0.54 | Validation accuracy: 71.22% | Validation Demographic disparity: 0.0788\n",
      "\n",
      " | Global Training Round : 9 |\n",
      "\n"
     ]
    },
    {
     "name": "stderr",
     "output_type": "stream",
     "text": [
      "\r",
      " 90%|█████████ | 9/10 [00:35<00:03,  3.45s/it]"
     ]
    },
    {
     "name": "stdout",
     "output_type": "stream",
     "text": [
      "Client 1: accuracy loss: 6.69 | fairness loss 1.59 | Demographic disparity = 0.16\n",
      "Client 2: accuracy loss: 6.06 | fairness loss 1.86 | Demographic disparity = 0.08\n",
      "Client 3: accuracy loss: 6.16 | fairness loss 2.97 | Demographic disparity = 0.09\n",
      " \n",
      "Avg Training Stats after 9 global rounds:\n",
      "Training loss: 0.54 | Validation accuracy: 68.56% | Validation Demographic disparity: 0.0374\n",
      "\n",
      " | Global Training Round : 10 |\n",
      "\n"
     ]
    },
    {
     "name": "stderr",
     "output_type": "stream",
     "text": [
      "100%|██████████| 10/10 [00:38<00:00,  3.83s/it]"
     ]
    },
    {
     "name": "stdout",
     "output_type": "stream",
     "text": [
      "Client 1: accuracy loss: 6.82 | fairness loss 1.24 | Demographic disparity = 0.19\n",
      "Client 2: accuracy loss: 6.16 | fairness loss 1.38 | Demographic disparity = 0.03\n",
      "Client 3: accuracy loss: 6.27 | fairness loss 2.27 | Demographic disparity = 0.05\n",
      " \n",
      "Avg Training Stats after 10 global rounds:\n",
      "Training loss: 0.55 | Validation accuracy: 64.89% | Validation Demographic disparity: 0.0073\n",
      " \n",
      " Results after 10 global rounds of training:\n",
      "|---- Avg Train Accuracy: 64.89%\n",
      "|---- Test Accuracy: 61.00%\n",
      "|---- Test Demographic disparity: 0.0030\n",
      "\n",
      " Total Run Time: 38.3627 sec\n"
     ]
    },
    {
     "name": "stderr",
     "output_type": "stream",
     "text": [
      "\n"
     ]
    }
   ],
   "source": [
    "seed = 745\n",
    "synthetic_info = dataGenerate(seed = seed, test_samples = 100)\n",
    "server = Server(logReg(num_features=3, num_classes=2, seed = seed), synthetic_info, train_prn = False, metric = \"Demographic disparity\", seed = seed)\n",
    "server.BiasCorrecting(num_rounds = 10, local_epochs = 30, optimizer = 'adam', epsilon = None, learning_rate = 0.001, alpha = 10)\n",
    "\n",
    "\n"
   ]
  },
  {
   "cell_type": "code",
   "execution_count": 7,
   "metadata": {
    "scrolled": true
   },
   "outputs": [
    {
     "name": "stderr",
     "output_type": "stream",
     "text": [
      "\n",
      "  0%|          | 0/10 [00:00<?, ?it/s]\u001b[A"
     ]
    },
    {
     "name": "stdout",
     "output_type": "stream",
     "text": [
      "\n",
      " | Global Training Round : 1 |\n",
      "\n"
     ]
    },
    {
     "name": "stderr",
     "output_type": "stream",
     "text": [
      "\n",
      " 10%|█         | 1/10 [00:02<00:19,  2.20s/it]\u001b[A"
     ]
    },
    {
     "name": "stdout",
     "output_type": "stream",
     "text": [
      "Client 1: accuracy loss: 6.45 | fairness loss 25.69 | Demographic disparity = 0.04\n",
      "Client 2: accuracy loss: 5.08 | fairness loss 38.06 | Demographic disparity = 0.12\n",
      "Client 3: accuracy loss: 5.72 | fairness loss 37.59 | Demographic disparity = 0.07\n",
      " \n",
      "Avg Training Stats after 1 global rounds:\n",
      "Training loss: 1.64 | Validation accuracy: 67.68% | Validation Demographic disparity: 0.0875\n",
      "\n",
      " | Global Training Round : 2 |\n",
      "\n"
     ]
    },
    {
     "name": "stderr",
     "output_type": "stream",
     "text": [
      "\n",
      " 20%|██        | 2/10 [00:04<00:17,  2.20s/it]\u001b[A"
     ]
    },
    {
     "name": "stdout",
     "output_type": "stream",
     "text": [
      "Client 1: accuracy loss: 4.04 | fairness loss 66.18 | Demographic disparity = 0.56\n",
      "Client 2: accuracy loss: 3.22 | fairness loss 113.07 | Demographic disparity = 0.40\n",
      "Client 3: accuracy loss: 3.83 | fairness loss 97.89 | Demographic disparity = 0.40\n",
      " \n",
      "Avg Training Stats after 2 global rounds:\n",
      "Training loss: 0.99 | Validation accuracy: 86.37% | Validation Demographic disparity: 0.4392\n",
      "\n",
      " | Global Training Round : 3 |\n",
      "\n"
     ]
    },
    {
     "name": "stderr",
     "output_type": "stream",
     "text": [
      "\n",
      " 30%|███       | 3/10 [00:06<00:15,  2.24s/it]\u001b[A"
     ]
    },
    {
     "name": "stdout",
     "output_type": "stream",
     "text": [
      "Client 1: accuracy loss: 3.72 | fairness loss 102.02 | Demographic disparity = 0.64\n",
      "Client 2: accuracy loss: 3.03 | fairness loss 159.62 | Demographic disparity = 0.42\n",
      "Client 3: accuracy loss: 3.58 | fairness loss 134.08 | Demographic disparity = 0.44\n",
      " \n",
      "Avg Training Stats after 3 global rounds:\n",
      "Training loss: 0.74 | Validation accuracy: 86.18% | Validation Demographic disparity: 0.4821\n",
      "\n",
      " | Global Training Round : 4 |\n",
      "\n"
     ]
    },
    {
     "name": "stderr",
     "output_type": "stream",
     "text": [
      "\n",
      " 40%|████      | 4/10 [00:08<00:13,  2.21s/it]\u001b[A"
     ]
    },
    {
     "name": "stdout",
     "output_type": "stream",
     "text": [
      "Client 1: accuracy loss: 3.79 | fairness loss 92.90 | Demographic disparity = 0.64\n",
      "Client 2: accuracy loss: 3.13 | fairness loss 144.57 | Demographic disparity = 0.42\n",
      "Client 3: accuracy loss: 3.66 | fairness loss 120.50 | Demographic disparity = 0.44\n",
      " \n",
      "Avg Training Stats after 4 global rounds:\n",
      "Training loss: 0.64 | Validation accuracy: 85.85% | Validation Demographic disparity: 0.4767\n",
      "\n",
      " | Global Training Round : 5 |\n",
      "\n"
     ]
    },
    {
     "name": "stderr",
     "output_type": "stream",
     "text": [
      "\n",
      " 50%|█████     | 5/10 [00:11<00:10,  2.19s/it]\u001b[A"
     ]
    },
    {
     "name": "stdout",
     "output_type": "stream",
     "text": [
      "Client 1: accuracy loss: 4.42 | fairness loss 41.58 | Demographic disparity = 0.55\n",
      "Client 2: accuracy loss: 3.59 | fairness loss 73.02 | Demographic disparity = 0.41\n",
      "Client 3: accuracy loss: 4.17 | fairness loss 61.77 | Demographic disparity = 0.39\n",
      " \n",
      "Avg Training Stats after 5 global rounds:\n",
      "Training loss: 0.60 | Validation accuracy: 86.73% | Validation Demographic disparity: 0.4380\n",
      "\n",
      " | Global Training Round : 6 |\n",
      "\n"
     ]
    },
    {
     "name": "stderr",
     "output_type": "stream",
     "text": [
      "\n",
      " 60%|██████    | 6/10 [00:13<00:08,  2.18s/it]\u001b[A"
     ]
    },
    {
     "name": "stdout",
     "output_type": "stream",
     "text": [
      "Client 1: accuracy loss: 5.13 | fairness loss 18.67 | Demographic disparity = 0.42\n",
      "Client 2: accuracy loss: 4.15 | fairness loss 37.21 | Demographic disparity = 0.34\n",
      "Client 3: accuracy loss: 4.74 | fairness loss 32.44 | Demographic disparity = 0.34\n",
      " \n",
      "Avg Training Stats after 6 global rounds:\n",
      "Training loss: 0.59 | Validation accuracy: 85.52% | Validation Demographic disparity: 0.3521\n",
      "\n",
      " | Global Training Round : 7 |\n",
      "\n"
     ]
    },
    {
     "name": "stderr",
     "output_type": "stream",
     "text": [
      "\n",
      " 70%|███████   | 7/10 [00:15<00:06,  2.17s/it]\u001b[A"
     ]
    },
    {
     "name": "stdout",
     "output_type": "stream",
     "text": [
      "Client 1: accuracy loss: 5.72 | fairness loss 9.74 | Demographic disparity = 0.25\n",
      "Client 2: accuracy loss: 4.64 | fairness loss 21.07 | Demographic disparity = 0.30\n",
      "Client 3: accuracy loss: 5.21 | fairness loss 19.09 | Demographic disparity = 0.24\n",
      " \n",
      "Avg Training Stats after 7 global rounds:\n",
      "Training loss: 0.58 | Validation accuracy: 82.82% | Validation Demographic disparity: 0.2729\n",
      "\n",
      " | Global Training Round : 8 |\n",
      "\n"
     ]
    },
    {
     "name": "stderr",
     "output_type": "stream",
     "text": [
      "\n",
      " 80%|████████  | 8/10 [00:17<00:04,  2.16s/it]\u001b[A"
     ]
    },
    {
     "name": "stdout",
     "output_type": "stream",
     "text": [
      "Client 1: accuracy loss: 6.15 | fairness loss 6.03 | Demographic disparity = 0.18\n",
      "Client 2: accuracy loss: 5.01 | fairness loss 13.26 | Demographic disparity = 0.25\n",
      "Client 3: accuracy loss: 5.56 | fairness loss 12.50 | Demographic disparity = 0.19\n",
      " \n",
      "Avg Training Stats after 8 global rounds:\n",
      "Training loss: 0.58 | Validation accuracy: 77.28% | Validation Demographic disparity: 0.2101\n",
      "\n",
      " | Global Training Round : 9 |\n",
      "\n"
     ]
    },
    {
     "name": "stderr",
     "output_type": "stream",
     "text": [
      "\n",
      " 90%|█████████ | 9/10 [00:19<00:02,  2.15s/it]\u001b[A"
     ]
    },
    {
     "name": "stdout",
     "output_type": "stream",
     "text": [
      "Client 1: accuracy loss: 6.46 | fairness loss 4.30 | Demographic disparity = 0.12\n",
      "Client 2: accuracy loss: 5.29 | fairness loss 9.12 | Demographic disparity = 0.21\n",
      "Client 3: accuracy loss: 5.81 | fairness loss 8.90 | Demographic disparity = 0.12\n",
      " \n",
      "Avg Training Stats after 9 global rounds:\n",
      "Training loss: 0.57 | Validation accuracy: 73.95% | Validation Demographic disparity: 0.1638\n",
      "\n",
      " | Global Training Round : 10 |\n",
      "\n"
     ]
    },
    {
     "name": "stderr",
     "output_type": "stream",
     "text": [
      "\n",
      "100%|██████████| 10/10 [00:21<00:00,  2.18s/it]\u001b[A"
     ]
    },
    {
     "name": "stdout",
     "output_type": "stream",
     "text": [
      "Client 1: accuracy loss: 6.67 | fairness loss 3.38 | Demographic disparity = 0.05\n",
      "Client 2: accuracy loss: 5.50 | fairness loss 6.71 | Demographic disparity = 0.15\n",
      "Client 3: accuracy loss: 5.98 | fairness loss 6.74 | Demographic disparity = 0.11\n",
      " \n",
      "Avg Training Stats after 10 global rounds:\n",
      "Training loss: 0.57 | Validation accuracy: 70.76% | Validation Demographic disparity: 0.1263\n",
      " \n",
      " Results after 10 global rounds of training:\n",
      "|---- Avg Train Accuracy: 70.76%\n",
      "|---- Test Accuracy: 74.00%\n",
      "|---- Test Demographic disparity: 0.1415\n",
      "\n",
      " Total Run Time: 21.7802 sec\n"
     ]
    },
    {
     "name": "stderr",
     "output_type": "stream",
     "text": [
      "\n"
     ]
    }
   ],
   "source": [
    "seed = 412\n",
    "synthetic_info = dataGenerate(seed = 745, test_samples = 300)\n",
    "server = Server(logReg(num_features=3, num_classes=2, seed = seed), synthetic_info, train_prn = False, metric = \"Demographic disparity\", seed = seed)\n",
    "server.BiasCorrecting(num_rounds = 10, local_epochs = 30, optimizer = 'adam', epsilon = None, learning_rate = 0.002, alpha = 10)\n",
    "\n",
    "\n"
   ]
  },
  {
   "cell_type": "code",
   "execution_count": 9,
   "metadata": {},
   "outputs": [
    {
     "name": "stderr",
     "output_type": "stream",
     "text": [
      "\r",
      "  0%|          | 0/10 [00:00<?, ?it/s]"
     ]
    },
    {
     "name": "stdout",
     "output_type": "stream",
     "text": [
      "\n",
      " | Global Training Round : 1 |\n",
      "\n"
     ]
    },
    {
     "name": "stderr",
     "output_type": "stream",
     "text": [
      "\r",
      " 10%|█         | 1/10 [00:03<00:30,  3.34s/it]"
     ]
    },
    {
     "name": "stdout",
     "output_type": "stream",
     "text": [
      "Client 1: accuracy loss: 3.49 | fairness loss 176.48 | Demographic disparity = 0.55\n",
      "Client 2: accuracy loss: 3.55 | fairness loss 166.60 | Demographic disparity = 0.31\n",
      "Client 3: accuracy loss: 3.54 | fairness loss 224.50 | Demographic disparity = 0.32\n",
      " \n",
      "Avg Training Stats after 1 global rounds:\n",
      "Training loss: 0.51 | Validation accuracy: 87.81% | Validation Demographic disparity: 0.3646\n",
      "\n",
      " | Global Training Round : 2 |\n",
      "\n"
     ]
    },
    {
     "name": "stderr",
     "output_type": "stream",
     "text": [
      "\r",
      " 20%|██        | 2/10 [00:06<00:27,  3.42s/it]"
     ]
    },
    {
     "name": "stdout",
     "output_type": "stream",
     "text": [
      "Client 1: accuracy loss: 3.03 | fairness loss 203.10 | Demographic disparity = 0.57\n",
      "Client 2: accuracy loss: 3.34 | fairness loss 176.84 | Demographic disparity = 0.32\n",
      "Client 3: accuracy loss: 3.25 | fairness loss 220.97 | Demographic disparity = 0.41\n",
      " \n",
      "Avg Training Stats after 2 global rounds:\n",
      "Training loss: 0.43 | Validation accuracy: 88.62% | Validation Demographic disparity: 0.4105\n",
      "\n",
      " | Global Training Round : 3 |\n",
      "\n"
     ]
    },
    {
     "name": "stderr",
     "output_type": "stream",
     "text": [
      "\r",
      " 30%|███       | 3/10 [00:09<00:23,  3.29s/it]"
     ]
    },
    {
     "name": "stdout",
     "output_type": "stream",
     "text": [
      "Client 1: accuracy loss: 3.70 | fairness loss 88.42 | Demographic disparity = 0.51\n",
      "Client 2: accuracy loss: 3.85 | fairness loss 82.65 | Demographic disparity = 0.31\n",
      "Client 3: accuracy loss: 3.83 | fairness loss 105.16 | Demographic disparity = 0.35\n",
      " \n",
      "Avg Training Stats after 3 global rounds:\n",
      "Training loss: 0.43 | Validation accuracy: 85.95% | Validation Demographic disparity: 0.3691\n",
      "\n",
      " | Global Training Round : 4 |\n",
      "\n"
     ]
    },
    {
     "name": "stderr",
     "output_type": "stream",
     "text": [
      "\r",
      " 40%|████      | 4/10 [00:13<00:19,  3.27s/it]"
     ]
    },
    {
     "name": "stdout",
     "output_type": "stream",
     "text": [
      "Client 1: accuracy loss: 4.46 | fairness loss 39.54 | Demographic disparity = 0.37\n",
      "Client 2: accuracy loss: 4.41 | fairness loss 40.37 | Demographic disparity = 0.26\n",
      "Client 3: accuracy loss: 4.46 | fairness loss 53.14 | Demographic disparity = 0.26\n",
      " \n",
      "Avg Training Stats after 4 global rounds:\n",
      "Training loss: 0.45 | Validation accuracy: 84.62% | Validation Demographic disparity: 0.2929\n",
      "\n",
      " | Global Training Round : 5 |\n",
      "\n"
     ]
    },
    {
     "name": "stderr",
     "output_type": "stream",
     "text": [
      "\r",
      " 50%|█████     | 5/10 [00:16<00:16,  3.20s/it]"
     ]
    },
    {
     "name": "stdout",
     "output_type": "stream",
     "text": [
      "Client 1: accuracy loss: 5.09 | fairness loss 20.07 | Demographic disparity = 0.16\n",
      "Client 2: accuracy loss: 4.87 | fairness loss 22.24 | Demographic disparity = 0.21\n",
      "Client 3: accuracy loss: 4.97 | fairness loss 30.54 | Demographic disparity = 0.20\n",
      " \n",
      "Avg Training Stats after 5 global rounds:\n",
      "Training loss: 0.46 | Validation accuracy: 80.04% | Validation Demographic disparity: 0.2018\n",
      "\n",
      " | Global Training Round : 6 |\n",
      "\n"
     ]
    },
    {
     "name": "stderr",
     "output_type": "stream",
     "text": [
      "\r",
      " 60%|██████    | 6/10 [00:18<00:12,  3.04s/it]"
     ]
    },
    {
     "name": "stdout",
     "output_type": "stream",
     "text": [
      "Client 1: accuracy loss: 5.57 | fairness loss 11.65 | Demographic disparity = 0.01\n",
      "Client 2: accuracy loss: 5.22 | fairness loss 13.70 | Demographic disparity = 0.15\n",
      "Client 3: accuracy loss: 5.35 | fairness loss 19.67 | Demographic disparity = 0.16\n",
      " \n",
      "Avg Training Stats after 6 global rounds:\n",
      "Training loss: 0.47 | Validation accuracy: 75.46% | Validation Demographic disparity: 0.1302\n",
      "\n",
      " | Global Training Round : 7 |\n",
      "\n"
     ]
    },
    {
     "name": "stderr",
     "output_type": "stream",
     "text": [
      "\r",
      " 70%|███████   | 7/10 [00:21<00:08,  2.92s/it]"
     ]
    },
    {
     "name": "stdout",
     "output_type": "stream",
     "text": [
      "Client 1: accuracy loss: 5.93 | fairness loss 7.65 | Demographic disparity = 0.12\n",
      "Client 2: accuracy loss: 5.48 | fairness loss 9.26 | Demographic disparity = 0.13\n",
      "Client 3: accuracy loss: 5.62 | fairness loss 13.85 | Demographic disparity = 0.14\n",
      " \n",
      "Avg Training Stats after 7 global rounds:\n",
      "Training loss: 0.47 | Validation accuracy: 72.27% | Validation Demographic disparity: 0.0867\n",
      "\n",
      " | Global Training Round : 8 |\n",
      "\n"
     ]
    },
    {
     "name": "stderr",
     "output_type": "stream",
     "text": [
      "\r",
      " 80%|████████  | 8/10 [00:24<00:05,  2.86s/it]"
     ]
    },
    {
     "name": "stdout",
     "output_type": "stream",
     "text": [
      "Client 1: accuracy loss: 6.20 | fairness loss 5.56 | Demographic disparity = 0.14\n",
      "Client 2: accuracy loss: 5.68 | fairness loss 6.73 | Demographic disparity = 0.12\n",
      "Client 3: accuracy loss: 5.83 | fairness loss 10.41 | Demographic disparity = 0.10\n",
      " \n",
      "Avg Training Stats after 8 global rounds:\n",
      "Training loss: 0.48 | Validation accuracy: 70.51% | Validation Demographic disparity: 0.0573\n",
      "\n",
      " | Global Training Round : 9 |\n",
      "\n"
     ]
    },
    {
     "name": "stderr",
     "output_type": "stream",
     "text": [
      "\r",
      " 90%|█████████ | 9/10 [00:27<00:03,  3.03s/it]"
     ]
    },
    {
     "name": "stdout",
     "output_type": "stream",
     "text": [
      "Client 1: accuracy loss: 6.40 | fairness loss 4.35 | Demographic disparity = 0.16\n",
      "Client 2: accuracy loss: 5.82 | fairness loss 5.16 | Demographic disparity = 0.07\n",
      "Client 3: accuracy loss: 5.97 | fairness loss 8.19 | Demographic disparity = 0.09\n",
      " \n",
      "Avg Training Stats after 9 global rounds:\n",
      "Training loss: 0.49 | Validation accuracy: 68.24% | Validation Demographic disparity: 0.0279\n",
      "\n",
      " | Global Training Round : 10 |\n",
      "\n"
     ]
    },
    {
     "name": "stderr",
     "output_type": "stream",
     "text": [
      "100%|██████████| 10/10 [00:30<00:00,  3.07s/it]"
     ]
    },
    {
     "name": "stdout",
     "output_type": "stream",
     "text": [
      "Client 1: accuracy loss: 6.54 | fairness loss 3.57 | Demographic disparity = 0.16\n",
      "Client 2: accuracy loss: 5.93 | fairness loss 4.12 | Demographic disparity = 0.06\n",
      "Client 3: accuracy loss: 6.08 | fairness loss 6.66 | Demographic disparity = 0.06\n",
      " \n",
      "Avg Training Stats after 10 global rounds:\n",
      "Training loss: 0.49 | Validation accuracy: 67.13% | Validation Demographic disparity: 0.0180\n",
      " \n",
      " Results after 10 global rounds of training:\n",
      "|---- Avg Train Accuracy: 67.13%\n",
      "|---- Test Accuracy: 65.00%\n",
      "|---- Test Demographic disparity: 0.0217\n",
      "\n",
      " Total Run Time: 30.7253 sec\n"
     ]
    },
    {
     "name": "stderr",
     "output_type": "stream",
     "text": [
      "\n"
     ]
    }
   ],
   "source": [
    "seed = 745\n",
    "synthetic_info = dataGenerate(seed = seed, test_samples = 100)\n",
    "server = Server(logReg(num_features=3, num_classes=2, seed = seed), synthetic_info, train_prn = False, metric = \"Demographic disparity\", seed = seed)\n",
    "server.BiasCorrecting(num_rounds = 10, local_epochs = 30, optimizer = 'adam', epsilon = None, learning_rate = 0.002, alpha = 8)\n"
   ]
  },
  {
   "cell_type": "code",
   "execution_count": 3,
   "metadata": {
    "scrolled": true
   },
   "outputs": [
    {
     "name": "stderr",
     "output_type": "stream",
     "text": [
      "\r",
      "  0%|          | 0/10 [00:00<?, ?it/s]"
     ]
    },
    {
     "name": "stdout",
     "output_type": "stream",
     "text": [
      "\n",
      " | Global Training Round : 1 |\n",
      "\n"
     ]
    },
    {
     "name": "stderr",
     "output_type": "stream",
     "text": [
      "\r",
      " 10%|█         | 1/10 [00:02<00:26,  2.89s/it]"
     ]
    },
    {
     "name": "stdout",
     "output_type": "stream",
     "text": [
      "Client 1: accuracy loss: 2.70 | fairness loss 1273.92 | Demographic disparity = 0.51\n",
      "Client 2: accuracy loss: 3.08 | fairness loss 1009.07 | Demographic disparity = 0.34\n",
      "Client 3: accuracy loss: 3.22 | fairness loss 1230.27 | Demographic disparity = 0.41\n",
      " \n",
      "Avg Training Stats after 1 global rounds:\n",
      "Training loss: 39.02 | Training accuracy: 86.89% | Training Demographic disparity: 0.3711\n",
      "\n",
      " | Global Training Round : 2 |\n",
      "\n"
     ]
    },
    {
     "name": "stderr",
     "output_type": "stream",
     "text": [
      "\r",
      " 20%|██        | 2/10 [00:05<00:23,  2.94s/it]"
     ]
    },
    {
     "name": "stdout",
     "output_type": "stream",
     "text": [
      "Client 1: accuracy loss: 3.04 | fairness loss 847.59 | Demographic disparity = 0.37\n",
      "Client 2: accuracy loss: 3.42 | fairness loss 683.73 | Demographic disparity = 0.20\n",
      "Client 3: accuracy loss: 3.89 | fairness loss 849.44 | Demographic disparity = 0.22\n",
      " \n",
      "Avg Training Stats after 2 global rounds:\n",
      "Training loss: 43.53 | Training accuracy: 84.00% | Training Demographic disparity: 0.2339\n",
      "\n",
      " | Global Training Round : 3 |\n",
      "\n"
     ]
    },
    {
     "name": "stderr",
     "output_type": "stream",
     "text": [
      "\r",
      " 30%|███       | 3/10 [00:09<00:21,  3.12s/it]"
     ]
    },
    {
     "name": "stdout",
     "output_type": "stream",
     "text": [
      "Client 1: accuracy loss: 3.68 | fairness loss 765.83 | Demographic disparity = 0.25\n",
      "Client 2: accuracy loss: 4.17 | fairness loss 627.38 | Demographic disparity = 0.07\n",
      "Client 3: accuracy loss: 4.86 | fairness loss 784.36 | Demographic disparity = 0.17\n",
      " \n",
      "Avg Training Stats after 3 global rounds:\n",
      "Training loss: 44.41 | Training accuracy: 80.40% | Training Demographic disparity: 0.1342\n",
      "\n",
      " | Global Training Round : 4 |\n",
      "\n"
     ]
    },
    {
     "name": "stderr",
     "output_type": "stream",
     "text": [
      "\r",
      " 40%|████      | 4/10 [00:13<00:19,  3.31s/it]"
     ]
    },
    {
     "name": "stdout",
     "output_type": "stream",
     "text": [
      "Client 1: accuracy loss: 4.38 | fairness loss 753.75 | Demographic disparity = 0.16\n",
      "Client 2: accuracy loss: 4.94 | fairness loss 629.77 | Demographic disparity = 0.02\n",
      "Client 3: accuracy loss: 5.80 | fairness loss 787.22 | Demographic disparity = 0.01\n",
      " \n",
      "Avg Training Stats after 4 global rounds:\n",
      "Training loss: 43.61 | Training accuracy: 72.32% | Training Demographic disparity: 0.0434\n",
      "\n",
      " | Global Training Round : 5 |\n",
      "\n"
     ]
    },
    {
     "name": "stderr",
     "output_type": "stream",
     "text": [
      "\r",
      " 50%|█████     | 5/10 [00:16<00:17,  3.43s/it]"
     ]
    },
    {
     "name": "stdout",
     "output_type": "stream",
     "text": [
      "Client 1: accuracy loss: 4.91 | fairness loss 769.87 | Demographic disparity = 0.02\n",
      "Client 2: accuracy loss: 5.56 | fairness loss 656.27 | Demographic disparity = 0.03\n",
      "Client 3: accuracy loss: 6.57 | fairness loss 818.97 | Demographic disparity = 0.10\n",
      " \n",
      "Avg Training Stats after 5 global rounds:\n",
      "Training loss: 42.71 | Training accuracy: 65.98% | Training Demographic disparity: 0.0463\n",
      "\n",
      " | Global Training Round : 6 |\n",
      "\n"
     ]
    },
    {
     "name": "stderr",
     "output_type": "stream",
     "text": [
      "\r",
      " 60%|██████    | 6/10 [00:20<00:14,  3.55s/it]"
     ]
    },
    {
     "name": "stdout",
     "output_type": "stream",
     "text": [
      "Client 1: accuracy loss: 5.18 | fairness loss 793.01 | Demographic disparity = 0.03\n",
      "Client 2: accuracy loss: 5.89 | fairness loss 683.70 | Demographic disparity = 0.03\n",
      "Client 3: accuracy loss: 6.98 | fairness loss 851.79 | Demographic disparity = 0.11\n",
      " \n",
      "Avg Training Stats after 6 global rounds:\n",
      "Training loss: 41.43 | Training accuracy: 66.66% | Training Demographic disparity: 0.0541\n",
      "\n",
      " | Global Training Round : 7 |\n",
      "\n"
     ]
    },
    {
     "name": "stderr",
     "output_type": "stream",
     "text": [
      "\r",
      " 70%|███████   | 7/10 [00:24<00:10,  3.58s/it]"
     ]
    },
    {
     "name": "stdout",
     "output_type": "stream",
     "text": [
      "Client 1: accuracy loss: 5.38 | fairness loss 801.19 | Demographic disparity = 0.05\n",
      "Client 2: accuracy loss: 6.12 | fairness loss 695.47 | Demographic disparity = 0.03\n",
      "Client 3: accuracy loss: 7.27 | fairness loss 865.06 | Demographic disparity = 0.11\n",
      " \n",
      "Avg Training Stats after 7 global rounds:\n",
      "Training loss: 40.60 | Training accuracy: 66.66% | Training Demographic disparity: 0.0607\n",
      "\n",
      " | Global Training Round : 8 |\n",
      "\n"
     ]
    },
    {
     "name": "stderr",
     "output_type": "stream",
     "text": [
      "\r",
      " 80%|████████  | 8/10 [00:29<00:08,  4.11s/it]"
     ]
    },
    {
     "name": "stdout",
     "output_type": "stream",
     "text": [
      "Client 1: accuracy loss: 5.47 | fairness loss 809.73 | Demographic disparity = 0.08\n",
      "Client 2: accuracy loss: 6.27 | fairness loss 706.73 | Demographic disparity = 0.03\n",
      "Client 3: accuracy loss: 7.50 | fairness loss 878.67 | Demographic disparity = 0.12\n",
      " \n",
      "Avg Training Stats after 8 global rounds:\n",
      "Training loss: 39.74 | Training accuracy: 65.98% | Training Demographic disparity: 0.0696\n",
      "\n",
      " | Global Training Round : 9 |\n",
      "\n"
     ]
    },
    {
     "name": "stderr",
     "output_type": "stream",
     "text": [
      "\r",
      " 90%|█████████ | 9/10 [00:33<00:03,  3.91s/it]"
     ]
    },
    {
     "name": "stdout",
     "output_type": "stream",
     "text": [
      "Client 1: accuracy loss: 5.57 | fairness loss 813.93 | Demographic disparity = 0.08\n",
      "Client 2: accuracy loss: 6.37 | fairness loss 712.25 | Demographic disparity = 0.03\n",
      "Client 3: accuracy loss: 7.60 | fairness loss 884.62 | Demographic disparity = 0.12\n",
      " \n",
      "Avg Training Stats after 9 global rounds:\n",
      "Training loss: 39.18 | Training accuracy: 65.98% | Training Demographic disparity: 0.0696\n",
      "\n",
      " | Global Training Round : 10 |\n",
      "\n"
     ]
    },
    {
     "name": "stderr",
     "output_type": "stream",
     "text": [
      "100%|██████████| 10/10 [00:35<00:00,  3.59s/it]"
     ]
    },
    {
     "name": "stdout",
     "output_type": "stream",
     "text": [
      "Client 1: accuracy loss: 5.57 | fairness loss 816.67 | Demographic disparity = 0.08\n",
      "Client 2: accuracy loss: 6.39 | fairness loss 715.08 | Demographic disparity = 0.03\n",
      "Client 3: accuracy loss: 7.63 | fairness loss 888.10 | Demographic disparity = 0.12\n",
      " \n",
      "Avg Training Stats after 10 global rounds:\n",
      "Training loss: 38.73 | Training accuracy: 65.98% | Training Demographic disparity: 0.0696\n",
      " \n",
      " Results after 10 global rounds of training:\n",
      "|---- Avg Train Accuracy: 65.98%\n",
      "|---- Test Accuracy: 71.00%\n",
      "|---- Test Demographic disparity: 0.0116\n",
      "\n",
      " Total Run Time: 35.9264 sec\n"
     ]
    },
    {
     "name": "stderr",
     "output_type": "stream",
     "text": [
      "\n"
     ]
    }
   ],
   "source": [
    "seed = 28\n",
    "synthetic_info = dataGenerate(seed = seed, test_samples = 100)\n",
    "server = Server(logReg(num_features=3, num_classes=2, seed = seed), synthetic_info, train_prn = False, metric = \"Demographic disparity\", seed = seed)\n",
    "server.FBVariant2(num_rounds = 10, local_epochs = 30, optimizer = 'adam', learning_rate = 0.004, alpha = 0.3, alpha_decay = 0.6)\n"
   ]
  },
  {
   "cell_type": "code",
   "execution_count": 3,
   "metadata": {
    "scrolled": true
   },
   "outputs": [
    {
     "name": "stderr",
     "output_type": "stream",
     "text": [
      "  1%|          | 1/100 [00:00<00:16,  5.98it/s]"
     ]
    },
    {
     "name": "stdout",
     "output_type": "stream",
     "text": [
      "\n",
      " | Testing Round : 1 | constraint :  Cov(z, d) < c\n",
      "\n",
      "Client 1: accuracy loss: 3.32 | fairness loss 65529.29 | Demographic disparity = 0.52\n",
      "Client 2: accuracy loss: 2.18 | fairness loss 97637.02 | Demographic disparity = 0.39\n",
      "Client 3: accuracy loss: 2.97 | fairness loss 81819.39 | Demographic disparity = 0.39\n",
      " \n",
      "Avg Training Stats after 1 Testing rounds:\n",
      "Training loss: 4384.75 | Validation accuracy: 86.73% | Validation Demographic disparity: 0.4250\n",
      "\n",
      " | Testing Round : 2 | constraint :  Cov(z, d) < c\n",
      "\n"
     ]
    },
    {
     "name": "stderr",
     "output_type": "stream",
     "text": [
      "  3%|▎         | 3/100 [00:00<00:14,  6.54it/s]"
     ]
    },
    {
     "name": "stdout",
     "output_type": "stream",
     "text": [
      "Client 1: accuracy loss: 3.32 | fairness loss 68049.47 | Demographic disparity = 0.52\n",
      "Client 2: accuracy loss: 2.18 | fairness loss 100283.60 | Demographic disparity = 0.39\n",
      "Client 3: accuracy loss: 2.98 | fairness loss 83934.13 | Demographic disparity = 0.39\n",
      " \n",
      "Avg Training Stats after 2 Testing rounds:\n",
      "Training loss: 3692.59 | Validation accuracy: 86.73% | Validation Demographic disparity: 0.4250\n",
      "\n",
      " | Testing Round : 3 | constraint :  Cov(z, d) < c\n",
      "\n",
      "Client 1: accuracy loss: 3.32 | fairness loss 70852.19 | Demographic disparity = 0.52\n",
      "Client 2: accuracy loss: 2.19 | fairness loss 103343.08 | Demographic disparity = 0.40\n",
      "Client 3: accuracy loss: 2.98 | fairness loss 86388.28 | Demographic disparity = 0.39\n",
      " \n",
      "Avg Training Stats after 3 Testing rounds:\n",
      "Training loss: 3000.18 | Validation accuracy: 86.40% | Validation Demographic disparity: 0.4304\n",
      "\n",
      " | Testing Round : 4 | constraint :  Cov(z, d) < c\n",
      "\n"
     ]
    },
    {
     "name": "stderr",
     "output_type": "stream",
     "text": [
      "  5%|▌         | 5/100 [00:00<00:12,  7.38it/s]"
     ]
    },
    {
     "name": "stdout",
     "output_type": "stream",
     "text": [
      "Client 1: accuracy loss: 3.32 | fairness loss 73936.72 | Demographic disparity = 0.52\n",
      "Client 2: accuracy loss: 2.19 | fairness loss 106813.83 | Demographic disparity = 0.40\n",
      "Client 3: accuracy loss: 2.98 | fairness loss 89180.21 | Demographic disparity = 0.39\n",
      " \n",
      "Avg Training Stats after 4 Testing rounds:\n",
      "Training loss: 2307.53 | Validation accuracy: 86.40% | Validation Demographic disparity: 0.4304\n",
      "\n",
      " | Testing Round : 5 | constraint :  Cov(z, d) < c\n",
      "\n",
      "Client 1: accuracy loss: 3.33 | fairness loss 77301.63 | Demographic disparity = 0.51\n",
      "Client 2: accuracy loss: 2.20 | fairness loss 110692.78 | Demographic disparity = 0.40\n",
      "Client 3: accuracy loss: 2.99 | fairness loss 92307.15 | Demographic disparity = 0.39\n",
      " \n",
      "Avg Training Stats after 5 Testing rounds:\n",
      "Training loss: 1614.62 | Validation accuracy: 86.69% | Validation Demographic disparity: 0.4271\n",
      "\n",
      " | Testing Round : 6 | constraint :  Cov(z, d) < c\n",
      "\n"
     ]
    },
    {
     "name": "stderr",
     "output_type": "stream",
     "text": [
      "  7%|▋         | 7/100 [00:00<00:11,  7.97it/s]"
     ]
    },
    {
     "name": "stdout",
     "output_type": "stream",
     "text": [
      "Client 1: accuracy loss: 3.33 | fairness loss 80945.02 | Demographic disparity = 0.51\n",
      "Client 2: accuracy loss: 2.20 | fairness loss 114976.19 | Demographic disparity = 0.39\n",
      "Client 3: accuracy loss: 2.99 | fairness loss 95765.75 | Demographic disparity = 0.39\n",
      " \n",
      "Avg Training Stats after 6 Testing rounds:\n",
      "Training loss: 921.48 | Validation accuracy: 86.37% | Validation Demographic disparity: 0.4238\n",
      "\n",
      " | Testing Round : 7 | constraint :  Cov(z, d) < c\n",
      "\n",
      "Client 1: accuracy loss: 3.33 | fairness loss 84864.87 | Demographic disparity = 0.51\n",
      "Client 2: accuracy loss: 2.21 | fairness loss 119660.00 | Demographic disparity = 0.39\n",
      "Client 3: accuracy loss: 2.99 | fairness loss 99552.48 | Demographic disparity = 0.39\n",
      " \n",
      "Avg Training Stats after 7 Testing rounds:\n",
      "Training loss: 228.08 | Validation accuracy: 86.37% | Validation Demographic disparity: 0.4238\n",
      "\n",
      " | Testing Round : 8 | constraint :  Cov(z, d) < c\n",
      "\n"
     ]
    },
    {
     "name": "stderr",
     "output_type": "stream",
     "text": [
      "  9%|▉         | 9/100 [00:01<00:10,  8.47it/s]"
     ]
    },
    {
     "name": "stdout",
     "output_type": "stream",
     "text": [
      "Client 1: accuracy loss: 3.34 | fairness loss 89059.21 | Demographic disparity = 0.51\n",
      "Client 2: accuracy loss: 2.21 | fairness loss 124740.32 | Demographic disparity = 0.39\n",
      "Client 3: accuracy loss: 3.00 | fairness loss 103663.94 | Demographic disparity = 0.39\n",
      " \n",
      "Avg Training Stats after 8 Testing rounds:\n",
      "Training loss: -465.56 | Validation accuracy: 86.37% | Validation Demographic disparity: 0.4238\n",
      "\n",
      " | Testing Round : 9 | constraint :  Cov(z, d) < c\n",
      "\n",
      "Client 1: accuracy loss: 3.34 | fairness loss 93526.21 | Demographic disparity = 0.51\n",
      "Client 2: accuracy loss: 2.22 | fairness loss 130213.51 | Demographic disparity = 0.39\n",
      "Client 3: accuracy loss: 3.00 | fairness loss 108097.00 | Demographic disparity = 0.39\n",
      " \n",
      "Avg Training Stats after 9 Testing rounds:\n",
      "Training loss: -1159.46 | Validation accuracy: 86.37% | Validation Demographic disparity: 0.4238\n",
      "\n",
      " | Testing Round : 10 | constraint :  Cov(z, d) < c\n",
      "\n"
     ]
    },
    {
     "name": "stderr",
     "output_type": "stream",
     "text": [
      " 11%|█         | 11/100 [00:01<00:12,  7.20it/s]"
     ]
    },
    {
     "name": "stdout",
     "output_type": "stream",
     "text": [
      "Client 1: accuracy loss: 3.34 | fairness loss 98264.28 | Demographic disparity = 0.51\n",
      "Client 2: accuracy loss: 2.22 | fairness loss 136076.42 | Demographic disparity = 0.39\n",
      "Client 3: accuracy loss: 3.00 | fairness loss 112848.91 | Demographic disparity = 0.39\n",
      " \n",
      "Avg Training Stats after 10 Testing rounds:\n",
      "Training loss: -1853.60 | Validation accuracy: 86.37% | Validation Demographic disparity: 0.4238\n",
      "\n",
      " | Testing Round : 11 | constraint :  Cov(z, d) < c\n",
      "\n",
      "Client 1: accuracy loss: 3.35 | fairness loss 103272.03 | Demographic disparity = 0.51\n",
      "Client 2: accuracy loss: 2.23 | fairness loss 142326.26 | Demographic disparity = 0.39\n",
      "Client 3: accuracy loss: 3.01 | fairness loss 117917.26 | Demographic disparity = 0.39\n",
      " \n",
      "Avg Training Stats after 11 Testing rounds:\n",
      "Training loss: -2547.98 | Validation accuracy: 86.37% | Validation Demographic disparity: 0.4238\n",
      "\n",
      " | Testing Round : 12 | constraint :  Cov(z, d) < c\n",
      "\n"
     ]
    },
    {
     "name": "stderr",
     "output_type": "stream",
     "text": [
      " 13%|█▎        | 13/100 [00:01<00:12,  7.18it/s]"
     ]
    },
    {
     "name": "stdout",
     "output_type": "stream",
     "text": [
      "Client 1: accuracy loss: 3.35 | fairness loss 108548.37 | Demographic disparity = 0.51\n",
      "Client 2: accuracy loss: 2.23 | fairness loss 148960.72 | Demographic disparity = 0.39\n",
      "Client 3: accuracy loss: 3.01 | fairness loss 123300.08 | Demographic disparity = 0.39\n",
      " \n",
      "Avg Training Stats after 12 Testing rounds:\n",
      "Training loss: -3242.62 | Validation accuracy: 86.37% | Validation Demographic disparity: 0.4238\n",
      "\n",
      " | Testing Round : 13 | constraint :  Cov(z, d) < c\n",
      "\n",
      "Client 1: accuracy loss: 3.35 | fairness loss 114092.34 | Demographic disparity = 0.51\n",
      "Client 2: accuracy loss: 2.24 | fairness loss 155977.86 | Demographic disparity = 0.39\n",
      "Client 3: accuracy loss: 3.01 | fairness loss 128995.66 | Demographic disparity = 0.39\n",
      " \n",
      "Avg Training Stats after 13 Testing rounds:\n",
      "Training loss: -3937.51 | Validation accuracy: 86.37% | Validation Demographic disparity: 0.4238\n",
      "\n",
      " | Testing Round : 14 | constraint :  Cov(z, d) < c\n",
      "\n"
     ]
    },
    {
     "name": "stderr",
     "output_type": "stream",
     "text": [
      " 15%|█▌        | 15/100 [00:02<00:11,  7.36it/s]"
     ]
    },
    {
     "name": "stdout",
     "output_type": "stream",
     "text": [
      "Client 1: accuracy loss: 3.36 | fairness loss 119903.23 | Demographic disparity = 0.51\n",
      "Client 2: accuracy loss: 2.24 | fairness loss 163376.12 | Demographic disparity = 0.39\n",
      "Client 3: accuracy loss: 3.02 | fairness loss 135002.66 | Demographic disparity = 0.39\n",
      " \n",
      "Avg Training Stats after 14 Testing rounds:\n",
      "Training loss: -4632.64 | Validation accuracy: 86.37% | Validation Demographic disparity: 0.4238\n",
      "\n",
      " | Testing Round : 15 | constraint :  Cov(z, d) < c\n",
      "\n",
      "Client 1: accuracy loss: 3.36 | fairness loss 125980.98 | Demographic disparity = 0.51\n",
      "Client 2: accuracy loss: 2.25 | fairness loss 171154.85 | Demographic disparity = 0.39\n",
      "Client 3: accuracy loss: 3.02 | fairness loss 141320.47 | Demographic disparity = 0.39\n",
      " \n",
      "Avg Training Stats after 15 Testing rounds:\n",
      "Training loss: -5328.02 | Validation accuracy: 86.37% | Validation Demographic disparity: 0.4238\n",
      "\n",
      " | Testing Round : 16 | constraint :  Cov(z, d) < c\n",
      "\n"
     ]
    },
    {
     "name": "stderr",
     "output_type": "stream",
     "text": [
      " 17%|█▋        | 17/100 [00:02<00:10,  7.60it/s]"
     ]
    },
    {
     "name": "stdout",
     "output_type": "stream",
     "text": [
      "Client 1: accuracy loss: 3.36 | fairness loss 132324.71 | Demographic disparity = 0.51\n",
      "Client 2: accuracy loss: 2.25 | fairness loss 179312.49 | Demographic disparity = 0.39\n",
      "Client 3: accuracy loss: 3.02 | fairness loss 147947.76 | Demographic disparity = 0.39\n",
      " \n",
      "Avg Training Stats after 16 Testing rounds:\n",
      "Training loss: -6023.65 | Validation accuracy: 86.37% | Validation Demographic disparity: 0.4238\n",
      "\n",
      " | Testing Round : 17 | constraint :  Cov(z, d) < c\n",
      "\n",
      "Client 1: accuracy loss: 3.36 | fairness loss 138934.13 | Demographic disparity = 0.51\n",
      "Client 2: accuracy loss: 2.25 | fairness loss 187848.22 | Demographic disparity = 0.39\n",
      "Client 3: accuracy loss: 3.03 | fairness loss 154883.84 | Demographic disparity = 0.39\n",
      " \n",
      "Avg Training Stats after 17 Testing rounds:\n",
      "Training loss: -6719.53 | Validation accuracy: 86.37% | Validation Demographic disparity: 0.4238\n",
      "\n",
      " | Testing Round : 18 | constraint :  Cov(z, d) < c\n",
      "\n"
     ]
    },
    {
     "name": "stderr",
     "output_type": "stream",
     "text": [
      " 19%|█▉        | 19/100 [00:02<00:10,  7.91it/s]"
     ]
    },
    {
     "name": "stdout",
     "output_type": "stream",
     "text": [
      "Client 1: accuracy loss: 3.37 | fairness loss 145809.02 | Demographic disparity = 0.51\n",
      "Client 2: accuracy loss: 2.26 | fairness loss 196761.46 | Demographic disparity = 0.39\n",
      "Client 3: accuracy loss: 3.03 | fairness loss 162128.17 | Demographic disparity = 0.39\n",
      " \n",
      "Avg Training Stats after 18 Testing rounds:\n",
      "Training loss: -7415.66 | Validation accuracy: 86.37% | Validation Demographic disparity: 0.4238\n",
      "\n",
      " | Testing Round : 19 | constraint :  Cov(z, d) < c\n",
      "\n",
      "Client 1: accuracy loss: 3.37 | fairness loss 152949.40 | Demographic disparity = 0.51\n",
      "Client 2: accuracy loss: 2.26 | fairness loss 206051.96 | Demographic disparity = 0.39\n",
      "Client 3: accuracy loss: 3.03 | fairness loss 169680.52 | Demographic disparity = 0.39\n",
      " \n",
      "Avg Training Stats after 19 Testing rounds:\n",
      "Training loss: -8112.04 | Validation accuracy: 86.37% | Validation Demographic disparity: 0.4238\n",
      "\n",
      " | Testing Round : 20 | constraint :  Cov(z, d) < c\n",
      "\n"
     ]
    },
    {
     "name": "stderr",
     "output_type": "stream",
     "text": [
      " 21%|██        | 21/100 [00:02<00:09,  8.17it/s]"
     ]
    },
    {
     "name": "stdout",
     "output_type": "stream",
     "text": [
      "Client 1: accuracy loss: 3.37 | fairness loss 160355.20 | Demographic disparity = 0.51\n",
      "Client 2: accuracy loss: 2.27 | fairness loss 215719.36 | Demographic disparity = 0.39\n",
      "Client 3: accuracy loss: 3.04 | fairness loss 177540.58 | Demographic disparity = 0.39\n",
      " \n",
      "Avg Training Stats after 20 Testing rounds:\n",
      "Training loss: -8808.67 | Validation accuracy: 86.37% | Validation Demographic disparity: 0.4238\n",
      "\n",
      " | Testing Round : 21 | constraint :  Cov(z, d) < c\n",
      "\n",
      "Client 1: accuracy loss: 3.38 | fairness loss 168026.50 | Demographic disparity = 0.50\n",
      "Client 2: accuracy loss: 2.27 | fairness loss 225763.59 | Demographic disparity = 0.39\n",
      "Client 3: accuracy loss: 3.04 | fairness loss 185708.26 | Demographic disparity = 0.39\n",
      " \n",
      "Avg Training Stats after 21 Testing rounds:\n",
      "Training loss: -9505.55 | Validation accuracy: 86.07% | Validation Demographic disparity: 0.4204\n",
      "\n",
      " | Testing Round : 22 | constraint :  Cov(z, d) < c\n",
      "\n"
     ]
    },
    {
     "name": "stderr",
     "output_type": "stream",
     "text": [
      " 23%|██▎       | 23/100 [00:02<00:09,  8.30it/s]"
     ]
    },
    {
     "name": "stdout",
     "output_type": "stream",
     "text": [
      "Client 1: accuracy loss: 3.38 | fairness loss 175963.48 | Demographic disparity = 0.50\n",
      "Client 2: accuracy loss: 2.27 | fairness loss 236184.73 | Demographic disparity = 0.39\n",
      "Client 3: accuracy loss: 3.04 | fairness loss 194183.57 | Demographic disparity = 0.39\n",
      " \n",
      "Avg Training Stats after 22 Testing rounds:\n",
      "Training loss: -10202.68 | Validation accuracy: 86.07% | Validation Demographic disparity: 0.4204\n",
      "\n",
      " | Testing Round : 23 | constraint :  Cov(z, d) < c\n",
      "\n",
      "Client 1: accuracy loss: 3.38 | fairness loss 184166.30 | Demographic disparity = 0.50\n",
      "Client 2: accuracy loss: 2.28 | fairness loss 246982.81 | Demographic disparity = 0.39\n",
      "Client 3: accuracy loss: 3.05 | fairness loss 202966.59 | Demographic disparity = 0.39\n",
      " \n",
      "Avg Training Stats after 23 Testing rounds:\n",
      "Training loss: -10900.05 | Validation accuracy: 86.07% | Validation Demographic disparity: 0.4204\n",
      "\n",
      " | Testing Round : 24 | constraint :  Cov(z, d) < c\n",
      "\n"
     ]
    },
    {
     "name": "stderr",
     "output_type": "stream",
     "text": [
      " 25%|██▌       | 25/100 [00:03<00:08,  8.35it/s]"
     ]
    },
    {
     "name": "stdout",
     "output_type": "stream",
     "text": [
      "Client 1: accuracy loss: 3.39 | fairness loss 192635.20 | Demographic disparity = 0.50\n",
      "Client 2: accuracy loss: 2.28 | fairness loss 258158.00 | Demographic disparity = 0.39\n",
      "Client 3: accuracy loss: 3.05 | fairness loss 212057.39 | Demographic disparity = 0.39\n",
      " \n",
      "Avg Training Stats after 24 Testing rounds:\n",
      "Training loss: -11597.68 | Validation accuracy: 86.07% | Validation Demographic disparity: 0.4204\n",
      "\n",
      " | Testing Round : 25 | constraint :  Cov(z, d) < c\n",
      "\n",
      "Client 1: accuracy loss: 3.39 | fairness loss 201370.43 | Demographic disparity = 0.50\n",
      "Client 2: accuracy loss: 2.28 | fairness loss 269710.62 | Demographic disparity = 0.38\n",
      "Client 3: accuracy loss: 3.05 | fairness loss 221456.22 | Demographic disparity = 0.39\n",
      " \n",
      "Avg Training Stats after 25 Testing rounds:\n",
      "Training loss: -12295.56 | Validation accuracy: 85.75% | Validation Demographic disparity: 0.4150\n",
      "\n",
      " | Testing Round : 26 | constraint :  Cov(z, d) < c\n",
      "\n"
     ]
    },
    {
     "name": "stderr",
     "output_type": "stream",
     "text": [
      " 27%|██▋       | 27/100 [00:03<00:08,  8.36it/s]"
     ]
    },
    {
     "name": "stdout",
     "output_type": "stream",
     "text": [
      "Client 1: accuracy loss: 3.39 | fairness loss 210372.35 | Demographic disparity = 0.50\n",
      "Client 2: accuracy loss: 2.29 | fairness loss 281640.91 | Demographic disparity = 0.38\n",
      "Client 3: accuracy loss: 3.05 | fairness loss 231163.30 | Demographic disparity = 0.39\n",
      " \n",
      "Avg Training Stats after 26 Testing rounds:\n",
      "Training loss: -12993.68 | Validation accuracy: 85.75% | Validation Demographic disparity: 0.4150\n",
      "\n",
      " | Testing Round : 27 | constraint :  Cov(z, d) < c\n",
      "\n",
      "Client 1: accuracy loss: 3.39 | fairness loss 219641.24 | Demographic disparity = 0.50\n",
      "Client 2: accuracy loss: 2.29 | fairness loss 293949.30 | Demographic disparity = 0.38\n",
      "Client 3: accuracy loss: 3.06 | fairness loss 241178.94 | Demographic disparity = 0.39\n",
      " \n",
      "Avg Training Stats after 27 Testing rounds:\n",
      "Training loss: -13692.06 | Validation accuracy: 85.75% | Validation Demographic disparity: 0.4150\n",
      "\n",
      " | Testing Round : 28 | constraint :  Cov(z, d) < c\n",
      "\n"
     ]
    },
    {
     "name": "stderr",
     "output_type": "stream",
     "text": [
      " 29%|██▉       | 29/100 [00:03<00:08,  8.44it/s]"
     ]
    },
    {
     "name": "stdout",
     "output_type": "stream",
     "text": [
      "Client 1: accuracy loss: 3.40 | fairness loss 229177.51 | Demographic disparity = 0.50\n",
      "Client 2: accuracy loss: 2.29 | fairness loss 306636.22 | Demographic disparity = 0.38\n",
      "Client 3: accuracy loss: 3.06 | fairness loss 251503.49 | Demographic disparity = 0.39\n",
      " \n",
      "Avg Training Stats after 28 Testing rounds:\n",
      "Training loss: -14390.69 | Validation accuracy: 85.75% | Validation Demographic disparity: 0.4150\n",
      "\n",
      " | Testing Round : 29 | constraint :  Cov(z, d) < c\n",
      "\n",
      "Client 1: accuracy loss: 3.40 | fairness loss 238981.45 | Demographic disparity = 0.50\n",
      "Client 2: accuracy loss: 2.30 | fairness loss 319702.01 | Demographic disparity = 0.38\n",
      "Client 3: accuracy loss: 3.06 | fairness loss 262137.25 | Demographic disparity = 0.39\n",
      " \n",
      "Avg Training Stats after 29 Testing rounds:\n",
      "Training loss: -15089.57 | Validation accuracy: 85.75% | Validation Demographic disparity: 0.4150\n",
      "\n",
      " | Testing Round : 30 | constraint :  Cov(z, d) < c\n",
      "\n"
     ]
    },
    {
     "name": "stderr",
     "output_type": "stream",
     "text": [
      " 31%|███       | 31/100 [00:03<00:08,  8.29it/s]"
     ]
    },
    {
     "name": "stdout",
     "output_type": "stream",
     "text": [
      "Client 1: accuracy loss: 3.40 | fairness loss 249053.52 | Demographic disparity = 0.50\n",
      "Client 2: accuracy loss: 2.30 | fairness loss 333147.25 | Demographic disparity = 0.38\n",
      "Client 3: accuracy loss: 3.07 | fairness loss 273080.62 | Demographic disparity = 0.39\n",
      " \n",
      "Avg Training Stats after 30 Testing rounds:\n",
      "Training loss: -15788.69 | Validation accuracy: 85.75% | Validation Demographic disparity: 0.4150\n",
      "\n",
      " | Testing Round : 31 | constraint :  Cov(z, d) < c\n",
      "\n",
      "Client 1: accuracy loss: 3.41 | fairness loss 259394.06 | Demographic disparity = 0.50\n",
      "Client 2: accuracy loss: 2.30 | fairness loss 346972.39 | Demographic disparity = 0.38\n",
      "Client 3: accuracy loss: 3.07 | fairness loss 284334.04 | Demographic disparity = 0.39\n",
      " \n",
      "Avg Training Stats after 31 Testing rounds:\n",
      "Training loss: -16488.07 | Validation accuracy: 85.75% | Validation Demographic disparity: 0.4150\n",
      "\n",
      " | Testing Round : 32 | constraint :  Cov(z, d) < c\n",
      "\n"
     ]
    },
    {
     "name": "stderr",
     "output_type": "stream",
     "text": [
      " 33%|███▎      | 33/100 [00:04<00:08,  8.25it/s]"
     ]
    },
    {
     "name": "stdout",
     "output_type": "stream",
     "text": [
      "Client 1: accuracy loss: 3.41 | fairness loss 270003.62 | Demographic disparity = 0.50\n",
      "Client 2: accuracy loss: 2.31 | fairness loss 361178.02 | Demographic disparity = 0.38\n",
      "Client 3: accuracy loss: 3.07 | fairness loss 295897.98 | Demographic disparity = 0.39\n",
      " \n",
      "Avg Training Stats after 32 Testing rounds:\n",
      "Training loss: -17187.70 | Validation accuracy: 85.75% | Validation Demographic disparity: 0.4150\n",
      "\n",
      " | Testing Round : 33 | constraint :  Cov(z, d) < c\n",
      "\n",
      "Client 1: accuracy loss: 3.41 | fairness loss 280882.57 | Demographic disparity = 0.50\n",
      "Client 2: accuracy loss: 2.31 | fairness loss 375764.71 | Demographic disparity = 0.38\n",
      "Client 3: accuracy loss: 3.07 | fairness loss 307772.84 | Demographic disparity = 0.39\n",
      " \n",
      "Avg Training Stats after 33 Testing rounds:\n",
      "Training loss: -17887.58 | Validation accuracy: 85.75% | Validation Demographic disparity: 0.4150\n",
      "\n",
      " | Testing Round : 34 | constraint :  Cov(z, d) < c\n",
      "\n"
     ]
    },
    {
     "name": "stderr",
     "output_type": "stream",
     "text": [
      " 35%|███▌      | 35/100 [00:04<00:07,  8.42it/s]"
     ]
    },
    {
     "name": "stdout",
     "output_type": "stream",
     "text": [
      "Client 1: accuracy loss: 3.41 | fairness loss 292031.34 | Demographic disparity = 0.50\n",
      "Client 2: accuracy loss: 2.31 | fairness loss 390733.01 | Demographic disparity = 0.38\n",
      "Client 3: accuracy loss: 3.08 | fairness loss 319959.11 | Demographic disparity = 0.39\n",
      " \n",
      "Avg Training Stats after 34 Testing rounds:\n",
      "Training loss: -18587.71 | Validation accuracy: 85.75% | Validation Demographic disparity: 0.4150\n",
      "\n",
      " | Testing Round : 35 | constraint :  Cov(z, d) < c\n",
      "\n",
      "Client 1: accuracy loss: 3.42 | fairness loss 303450.43 | Demographic disparity = 0.50\n",
      "Client 2: accuracy loss: 2.32 | fairness loss 406083.52 | Demographic disparity = 0.38\n",
      "Client 3: accuracy loss: 3.08 | fairness loss 332457.32 | Demographic disparity = 0.39\n",
      " \n",
      "Avg Training Stats after 35 Testing rounds:\n",
      "Training loss: -19288.09 | Validation accuracy: 85.75% | Validation Demographic disparity: 0.4150\n",
      "\n",
      " | Testing Round : 36 | constraint :  Cov(z, d) < c\n",
      "\n"
     ]
    },
    {
     "name": "stderr",
     "output_type": "stream",
     "text": [
      " 37%|███▋      | 37/100 [00:04<00:07,  8.77it/s]"
     ]
    },
    {
     "name": "stdout",
     "output_type": "stream",
     "text": [
      "Client 1: accuracy loss: 3.42 | fairness loss 315140.24 | Demographic disparity = 0.50\n",
      "Client 2: accuracy loss: 2.32 | fairness loss 421816.91 | Demographic disparity = 0.38\n",
      "Client 3: accuracy loss: 3.08 | fairness loss 345267.92 | Demographic disparity = 0.39\n",
      " \n",
      "Avg Training Stats after 36 Testing rounds:\n",
      "Training loss: -19988.72 | Validation accuracy: 85.75% | Validation Demographic disparity: 0.4150\n",
      "\n",
      " | Testing Round : 37 | constraint :  Cov(z, d) < c\n",
      "\n",
      "Client 1: accuracy loss: 3.42 | fairness loss 327101.34 | Demographic disparity = 0.50\n",
      "Client 2: accuracy loss: 2.32 | fairness loss 437933.74 | Demographic disparity = 0.38\n",
      "Client 3: accuracy loss: 3.09 | fairness loss 358391.48 | Demographic disparity = 0.39\n",
      " \n",
      "Avg Training Stats after 37 Testing rounds:\n",
      "Training loss: -20689.61 | Validation accuracy: 85.75% | Validation Demographic disparity: 0.4150\n",
      "\n",
      " | Testing Round : 38 | constraint :  Cov(z, d) < c\n",
      "\n"
     ]
    },
    {
     "name": "stderr",
     "output_type": "stream",
     "text": [
      " 39%|███▉      | 39/100 [00:04<00:06,  8.85it/s]"
     ]
    },
    {
     "name": "stdout",
     "output_type": "stream",
     "text": [
      "Client 1: accuracy loss: 3.42 | fairness loss 339334.11 | Demographic disparity = 0.50\n",
      "Client 2: accuracy loss: 2.32 | fairness loss 454434.71 | Demographic disparity = 0.38\n",
      "Client 3: accuracy loss: 3.09 | fairness loss 371828.48 | Demographic disparity = 0.39\n",
      " \n",
      "Avg Training Stats after 38 Testing rounds:\n",
      "Training loss: -21390.74 | Validation accuracy: 85.75% | Validation Demographic disparity: 0.4150\n",
      "\n",
      " | Testing Round : 39 | constraint :  Cov(z, d) < c\n",
      "\n",
      "Client 1: accuracy loss: 3.43 | fairness loss 351839.13 | Demographic disparity = 0.50\n",
      "Client 2: accuracy loss: 2.33 | fairness loss 471320.49 | Demographic disparity = 0.38\n",
      "Client 3: accuracy loss: 3.09 | fairness loss 385579.52 | Demographic disparity = 0.39\n",
      " \n",
      "Avg Training Stats after 39 Testing rounds:\n",
      "Training loss: -22092.13 | Validation accuracy: 85.75% | Validation Demographic disparity: 0.4150\n",
      "\n",
      " | Testing Round : 40 | constraint :  Cov(z, d) < c\n",
      "\n"
     ]
    },
    {
     "name": "stderr",
     "output_type": "stream",
     "text": [
      " 41%|████      | 41/100 [00:05<00:06,  8.99it/s]"
     ]
    },
    {
     "name": "stdout",
     "output_type": "stream",
     "text": [
      "Client 1: accuracy loss: 3.43 | fairness loss 364616.81 | Demographic disparity = 0.50\n",
      "Client 2: accuracy loss: 2.33 | fairness loss 488591.64 | Demographic disparity = 0.38\n",
      "Client 3: accuracy loss: 3.09 | fairness loss 399645.01 | Demographic disparity = 0.39\n",
      " \n",
      "Avg Training Stats after 40 Testing rounds:\n",
      "Training loss: -22793.77 | Validation accuracy: 85.75% | Validation Demographic disparity: 0.4150\n",
      "\n",
      " | Testing Round : 41 | constraint :  Cov(z, d) < c\n",
      "\n",
      "Client 1: accuracy loss: 3.43 | fairness loss 377667.68 | Demographic disparity = 0.50\n",
      "Client 2: accuracy loss: 2.33 | fairness loss 506248.94 | Demographic disparity = 0.38\n",
      "Client 3: accuracy loss: 3.10 | fairness loss 414025.64 | Demographic disparity = 0.39\n",
      " \n",
      "Avg Training Stats after 41 Testing rounds:\n",
      "Training loss: -23495.66 | Validation accuracy: 85.75% | Validation Demographic disparity: 0.4150\n",
      "\n",
      " | Testing Round : 42 | constraint :  Cov(z, d) < c\n",
      "\n"
     ]
    },
    {
     "name": "stderr",
     "output_type": "stream",
     "text": [
      " 43%|████▎     | 43/100 [00:05<00:06,  9.05it/s]"
     ]
    },
    {
     "name": "stdout",
     "output_type": "stream",
     "text": [
      "Client 1: accuracy loss: 3.44 | fairness loss 390992.27 | Demographic disparity = 0.50\n",
      "Client 2: accuracy loss: 2.33 | fairness loss 524293.06 | Demographic disparity = 0.37\n",
      "Client 3: accuracy loss: 3.10 | fairness loss 428721.91 | Demographic disparity = 0.39\n",
      " \n",
      "Avg Training Stats after 42 Testing rounds:\n",
      "Training loss: -24197.80 | Validation accuracy: 86.07% | Validation Demographic disparity: 0.4095\n",
      "\n",
      " | Testing Round : 43 | constraint :  Cov(z, d) < c\n",
      "\n",
      "Client 1: accuracy loss: 3.44 | fairness loss 404590.98 | Demographic disparity = 0.46\n",
      "Client 2: accuracy loss: 2.34 | fairness loss 542724.60 | Demographic disparity = 0.37\n",
      "Client 3: accuracy loss: 3.10 | fairness loss 443734.35 | Demographic disparity = 0.39\n",
      " \n",
      "Avg Training Stats after 43 Testing rounds:\n",
      "Training loss: -24900.19 | Validation accuracy: 85.78% | Validation Demographic disparity: 0.4041\n",
      "\n",
      " | Testing Round : 44 | constraint :  Cov(z, d) < c\n",
      "\n"
     ]
    },
    {
     "name": "stderr",
     "output_type": "stream",
     "text": [
      " 45%|████▌     | 45/100 [00:05<00:06,  8.92it/s]"
     ]
    },
    {
     "name": "stdout",
     "output_type": "stream",
     "text": [
      "Client 1: accuracy loss: 3.44 | fairness loss 418464.38 | Demographic disparity = 0.46\n",
      "Client 2: accuracy loss: 2.34 | fairness loss 561544.25 | Demographic disparity = 0.37\n",
      "Client 3: accuracy loss: 3.10 | fairness loss 459063.55 | Demographic disparity = 0.39\n",
      " \n",
      "Avg Training Stats after 44 Testing rounds:\n",
      "Training loss: -25602.83 | Validation accuracy: 85.78% | Validation Demographic disparity: 0.4041\n",
      "\n",
      " | Testing Round : 45 | constraint :  Cov(z, d) < c\n",
      "\n",
      "Client 1: accuracy loss: 3.44 | fairness loss 432613.03 | Demographic disparity = 0.46\n",
      "Client 2: accuracy loss: 2.34 | fairness loss 580752.82 | Demographic disparity = 0.36\n",
      "Client 3: accuracy loss: 3.11 | fairness loss 474710.13 | Demographic disparity = 0.39\n",
      " \n",
      "Avg Training Stats after 45 Testing rounds:\n",
      "Training loss: -26305.73 | Validation accuracy: 86.11% | Validation Demographic disparity: 0.4008\n",
      "\n",
      " | Testing Round : 46 | constraint :  Cov(z, d) < c\n",
      "\n"
     ]
    },
    {
     "name": "stderr",
     "output_type": "stream",
     "text": [
      " 47%|████▋     | 47/100 [00:05<00:05,  8.97it/s]"
     ]
    },
    {
     "name": "stdout",
     "output_type": "stream",
     "text": [
      "Client 1: accuracy loss: 3.45 | fairness loss 447037.28 | Demographic disparity = 0.46\n",
      "Client 2: accuracy loss: 2.35 | fairness loss 600350.88 | Demographic disparity = 0.36\n",
      "Client 3: accuracy loss: 3.11 | fairness loss 490674.48 | Demographic disparity = 0.39\n",
      " \n",
      "Avg Training Stats after 46 Testing rounds:\n",
      "Training loss: -27008.88 | Validation accuracy: 86.11% | Validation Demographic disparity: 0.4008\n",
      "\n",
      " | Testing Round : 47 | constraint :  Cov(z, d) < c\n",
      "\n",
      "Client 1: accuracy loss: 3.45 | fairness loss 461737.79 | Demographic disparity = 0.46\n",
      "Client 2: accuracy loss: 2.35 | fairness loss 620339.24 | Demographic disparity = 0.36\n",
      "Client 3: accuracy loss: 3.11 | fairness loss 506957.42 | Demographic disparity = 0.39\n",
      " \n",
      "Avg Training Stats after 47 Testing rounds:\n",
      "Training loss: -27712.28 | Validation accuracy: 86.11% | Validation Demographic disparity: 0.4008\n",
      "\n",
      " | Testing Round : 48 | constraint :  Cov(z, d) < c\n",
      "\n"
     ]
    },
    {
     "name": "stderr",
     "output_type": "stream",
     "text": [
      " 49%|████▉     | 49/100 [00:05<00:06,  8.46it/s]"
     ]
    },
    {
     "name": "stdout",
     "output_type": "stream",
     "text": [
      "Client 1: accuracy loss: 3.45 | fairness loss 476715.04 | Demographic disparity = 0.46\n",
      "Client 2: accuracy loss: 2.35 | fairness loss 640718.63 | Demographic disparity = 0.36\n",
      "Client 3: accuracy loss: 3.11 | fairness loss 523559.40 | Demographic disparity = 0.39\n",
      " \n",
      "Avg Training Stats after 48 Testing rounds:\n",
      "Training loss: -28415.93 | Validation accuracy: 86.11% | Validation Demographic disparity: 0.4008\n",
      "\n",
      " | Testing Round : 49 | constraint :  Cov(z, d) < c\n",
      "\n",
      "Client 1: accuracy loss: 3.45 | fairness loss 491969.43 | Demographic disparity = 0.46\n",
      "Client 2: accuracy loss: 2.35 | fairness loss 661489.56 | Demographic disparity = 0.36\n",
      "Client 3: accuracy loss: 3.12 | fairness loss 540481.02 | Demographic disparity = 0.39\n",
      " \n",
      "Avg Training Stats after 49 Testing rounds:\n",
      "Training loss: -29119.84 | Validation accuracy: 86.11% | Validation Demographic disparity: 0.4008\n",
      "\n",
      " | Testing Round : 50 | constraint :  Cov(z, d) < c\n",
      "\n"
     ]
    },
    {
     "name": "stderr",
     "output_type": "stream",
     "text": [
      " 51%|█████     | 51/100 [00:06<00:06,  8.03it/s]"
     ]
    },
    {
     "name": "stdout",
     "output_type": "stream",
     "text": [
      "Client 1: accuracy loss: 3.46 | fairness loss 507501.57 | Demographic disparity = 0.46\n",
      "Client 2: accuracy loss: 2.36 | fairness loss 682652.90 | Demographic disparity = 0.36\n",
      "Client 3: accuracy loss: 3.12 | fairness loss 557722.75 | Demographic disparity = 0.39\n",
      " \n",
      "Avg Training Stats after 50 Testing rounds:\n",
      "Training loss: -29823.99 | Validation accuracy: 86.11% | Validation Demographic disparity: 0.4008\n",
      "\n",
      " | Testing Round : 51 | constraint :  Cov(z, d) < c\n",
      "\n",
      "Client 1: accuracy loss: 3.46 | fairness loss 523311.94 | Demographic disparity = 0.46\n",
      "Client 2: accuracy loss: 2.36 | fairness loss 704209.29 | Demographic disparity = 0.36\n",
      "Client 3: accuracy loss: 3.12 | fairness loss 575285.37 | Demographic disparity = 0.39\n",
      " \n",
      "Avg Training Stats after 51 Testing rounds:\n",
      "Training loss: -30528.40 | Validation accuracy: 86.11% | Validation Demographic disparity: 0.4008\n",
      "\n",
      " | Testing Round : 52 | constraint :  Cov(z, d) < c\n",
      "\n"
     ]
    },
    {
     "name": "stderr",
     "output_type": "stream",
     "text": [
      " 53%|█████▎    | 53/100 [00:06<00:05,  8.18it/s]"
     ]
    },
    {
     "name": "stdout",
     "output_type": "stream",
     "text": [
      "Client 1: accuracy loss: 3.46 | fairness loss 539401.06 | Demographic disparity = 0.46\n",
      "Client 2: accuracy loss: 2.36 | fairness loss 726159.49 | Demographic disparity = 0.36\n",
      "Client 3: accuracy loss: 3.12 | fairness loss 593169.32 | Demographic disparity = 0.39\n",
      " \n",
      "Avg Training Stats after 52 Testing rounds:\n",
      "Training loss: -31233.07 | Validation accuracy: 86.11% | Validation Demographic disparity: 0.4008\n",
      "\n",
      " | Testing Round : 53 | constraint :  Cov(z, d) < c\n",
      "\n",
      "Client 1: accuracy loss: 3.47 | fairness loss 555769.44 | Demographic disparity = 0.46\n",
      "Client 2: accuracy loss: 2.36 | fairness loss 748504.12 | Demographic disparity = 0.36\n",
      "Client 3: accuracy loss: 3.13 | fairness loss 611375.21 | Demographic disparity = 0.39\n",
      " \n",
      "Avg Training Stats after 53 Testing rounds:\n",
      "Training loss: -31937.98 | Validation accuracy: 86.11% | Validation Demographic disparity: 0.4008\n",
      "\n",
      " | Testing Round : 54 | constraint :  Cov(z, d) < c\n",
      "\n"
     ]
    },
    {
     "name": "stderr",
     "output_type": "stream",
     "text": [
      " 55%|█████▌    | 55/100 [00:06<00:05,  8.10it/s]"
     ]
    },
    {
     "name": "stdout",
     "output_type": "stream",
     "text": [
      "Client 1: accuracy loss: 3.47 | fairness loss 572417.66 | Demographic disparity = 0.46\n",
      "Client 2: accuracy loss: 2.37 | fairness loss 771244.09 | Demographic disparity = 0.36\n",
      "Client 3: accuracy loss: 3.13 | fairness loss 629903.70 | Demographic disparity = 0.39\n",
      " \n",
      "Avg Training Stats after 54 Testing rounds:\n",
      "Training loss: -32643.15 | Validation accuracy: 86.11% | Validation Demographic disparity: 0.4008\n",
      "\n",
      " | Testing Round : 55 | constraint :  Cov(z, d) < c\n",
      "\n",
      "Client 1: accuracy loss: 3.47 | fairness loss 589346.09 | Demographic disparity = 0.46\n",
      "Client 2: accuracy loss: 2.37 | fairness loss 794379.97 | Demographic disparity = 0.36\n",
      "Client 3: accuracy loss: 3.13 | fairness loss 648755.31 | Demographic disparity = 0.39\n",
      " \n",
      "Avg Training Stats after 55 Testing rounds:\n",
      "Training loss: -33348.57 | Validation accuracy: 86.11% | Validation Demographic disparity: 0.4008\n",
      "\n",
      " | Testing Round : 56 | constraint :  Cov(z, d) < c\n",
      "\n"
     ]
    },
    {
     "name": "stderr",
     "output_type": "stream",
     "text": [
      " 57%|█████▋    | 57/100 [00:06<00:05,  8.20it/s]"
     ]
    },
    {
     "name": "stdout",
     "output_type": "stream",
     "text": [
      "Client 1: accuracy loss: 3.47 | fairness loss 606555.36 | Demographic disparity = 0.46\n",
      "Client 2: accuracy loss: 2.37 | fairness loss 817912.54 | Demographic disparity = 0.36\n",
      "Client 3: accuracy loss: 3.13 | fairness loss 667930.62 | Demographic disparity = 0.39\n",
      " \n",
      "Avg Training Stats after 56 Testing rounds:\n",
      "Training loss: -34054.25 | Validation accuracy: 86.11% | Validation Demographic disparity: 0.4008\n",
      "\n",
      " | Testing Round : 57 | constraint :  Cov(z, d) < c\n",
      "\n",
      "Client 1: accuracy loss: 3.48 | fairness loss 624046.01 | Demographic disparity = 0.46\n",
      "Client 2: accuracy loss: 2.37 | fairness loss 841842.51 | Demographic disparity = 0.36\n",
      "Client 3: accuracy loss: 3.14 | fairness loss 687430.34 | Demographic disparity = 0.39\n",
      " \n",
      "Avg Training Stats after 57 Testing rounds:\n",
      "Training loss: -34760.17 | Validation accuracy: 86.11% | Validation Demographic disparity: 0.4008\n",
      "\n",
      " | Testing Round : 58 | constraint :  Cov(z, d) < c\n",
      "\n"
     ]
    },
    {
     "name": "stderr",
     "output_type": "stream",
     "text": [
      " 59%|█████▉    | 59/100 [00:07<00:04,  8.39it/s]"
     ]
    },
    {
     "name": "stdout",
     "output_type": "stream",
     "text": [
      "Client 1: accuracy loss: 3.48 | fairness loss 641818.40 | Demographic disparity = 0.46\n",
      "Client 2: accuracy loss: 2.37 | fairness loss 866170.51 | Demographic disparity = 0.36\n",
      "Client 3: accuracy loss: 3.14 | fairness loss 707254.89 | Demographic disparity = 0.39\n",
      " \n",
      "Avg Training Stats after 58 Testing rounds:\n",
      "Training loss: -35466.35 | Validation accuracy: 86.11% | Validation Demographic disparity: 0.4008\n",
      "\n",
      " | Testing Round : 59 | constraint :  Cov(z, d) < c\n",
      "\n",
      "Client 1: accuracy loss: 3.48 | fairness loss 659873.12 | Demographic disparity = 0.46\n",
      "Client 2: accuracy loss: 2.38 | fairness loss 890897.33 | Demographic disparity = 0.36\n",
      "Client 3: accuracy loss: 3.14 | fairness loss 727404.89 | Demographic disparity = 0.39\n",
      " \n",
      "Avg Training Stats after 59 Testing rounds:\n",
      "Training loss: -36172.79 | Validation accuracy: 86.11% | Validation Demographic disparity: 0.4008\n",
      "\n",
      " | Testing Round : 60 | constraint :  Cov(z, d) < c\n",
      "\n"
     ]
    },
    {
     "name": "stderr",
     "output_type": "stream",
     "text": [
      " 61%|██████    | 61/100 [00:07<00:04,  8.31it/s]"
     ]
    },
    {
     "name": "stdout",
     "output_type": "stream",
     "text": [
      "Client 1: accuracy loss: 3.48 | fairness loss 678210.69 | Demographic disparity = 0.46\n",
      "Client 2: accuracy loss: 2.38 | fairness loss 916023.63 | Demographic disparity = 0.36\n",
      "Client 3: accuracy loss: 3.14 | fairness loss 747880.97 | Demographic disparity = 0.39\n",
      " \n",
      "Avg Training Stats after 60 Testing rounds:\n",
      "Training loss: -36879.48 | Validation accuracy: 86.11% | Validation Demographic disparity: 0.4008\n",
      "\n",
      " | Testing Round : 61 | constraint :  Cov(z, d) < c\n",
      "\n",
      "Client 1: accuracy loss: 3.49 | fairness loss 696831.63 | Demographic disparity = 0.46\n",
      "Client 2: accuracy loss: 2.38 | fairness loss 941550.18 | Demographic disparity = 0.36\n",
      "Client 3: accuracy loss: 3.15 | fairness loss 768683.66 | Demographic disparity = 0.39\n",
      " \n",
      "Avg Training Stats after 61 Testing rounds:\n",
      "Training loss: -37586.42 | Validation accuracy: 86.11% | Validation Demographic disparity: 0.4008\n",
      "\n",
      " | Testing Round : 62 | constraint :  Cov(z, d) < c\n",
      "\n"
     ]
    },
    {
     "name": "stderr",
     "output_type": "stream",
     "text": [
      " 63%|██████▎   | 63/100 [00:07<00:04,  8.11it/s]"
     ]
    },
    {
     "name": "stdout",
     "output_type": "stream",
     "text": [
      "Client 1: accuracy loss: 3.49 | fairness loss 715736.41 | Demographic disparity = 0.46\n",
      "Client 2: accuracy loss: 2.38 | fairness loss 967477.64 | Demographic disparity = 0.36\n",
      "Client 3: accuracy loss: 3.15 | fairness loss 789813.65 | Demographic disparity = 0.39\n",
      " \n",
      "Avg Training Stats after 62 Testing rounds:\n",
      "Training loss: -38293.61 | Validation accuracy: 86.11% | Validation Demographic disparity: 0.4008\n",
      "\n",
      " | Testing Round : 63 | constraint :  Cov(z, d) < c\n",
      "\n",
      "Client 1: accuracy loss: 3.49 | fairness loss 734925.69 | Demographic disparity = 0.46\n",
      "Client 2: accuracy loss: 2.39 | fairness loss 993806.87 | Demographic disparity = 0.36\n",
      "Client 3: accuracy loss: 3.15 | fairness loss 811271.52 | Demographic disparity = 0.39\n",
      " \n",
      "Avg Training Stats after 63 Testing rounds:\n",
      "Training loss: -39001.06 | Validation accuracy: 86.11% | Validation Demographic disparity: 0.4008\n",
      "\n",
      " | Testing Round : 64 | constraint :  Cov(z, d) < c\n",
      "\n"
     ]
    },
    {
     "name": "stderr",
     "output_type": "stream",
     "text": [
      " 65%|██████▌   | 65/100 [00:07<00:04,  8.57it/s]"
     ]
    },
    {
     "name": "stdout",
     "output_type": "stream",
     "text": [
      "Client 1: accuracy loss: 3.49 | fairness loss 754399.81 | Demographic disparity = 0.46\n",
      "Client 2: accuracy loss: 2.39 | fairness loss 1020538.52 | Demographic disparity = 0.36\n",
      "Client 3: accuracy loss: 3.15 | fairness loss 833057.78 | Demographic disparity = 0.39\n",
      " \n",
      "Avg Training Stats after 64 Testing rounds:\n",
      "Training loss: -39708.76 | Validation accuracy: 86.11% | Validation Demographic disparity: 0.4008\n",
      "\n",
      " | Testing Round : 65 | constraint :  Cov(z, d) < c\n",
      "\n",
      "Client 1: accuracy loss: 3.50 | fairness loss 774159.29 | Demographic disparity = 0.46\n",
      "Client 2: accuracy loss: 2.39 | fairness loss 1047673.25 | Demographic disparity = 0.36\n",
      "Client 3: accuracy loss: 3.16 | fairness loss 855173.07 | Demographic disparity = 0.39\n",
      " \n",
      "Avg Training Stats after 65 Testing rounds:\n",
      "Training loss: -40416.72 | Validation accuracy: 86.11% | Validation Demographic disparity: 0.4008\n",
      "\n",
      " | Testing Round : 66 | constraint :  Cov(z, d) < c\n",
      "\n"
     ]
    },
    {
     "name": "stderr",
     "output_type": "stream",
     "text": [
      " 67%|██████▋   | 67/100 [00:08<00:03,  8.90it/s]"
     ]
    },
    {
     "name": "stdout",
     "output_type": "stream",
     "text": [
      "Client 1: accuracy loss: 3.50 | fairness loss 794204.78 | Demographic disparity = 0.46\n",
      "Client 2: accuracy loss: 2.39 | fairness loss 1075211.93 | Demographic disparity = 0.36\n",
      "Client 3: accuracy loss: 3.16 | fairness loss 877618.00 | Demographic disparity = 0.39\n",
      " \n",
      "Avg Training Stats after 66 Testing rounds:\n",
      "Training loss: -41124.93 | Validation accuracy: 86.11% | Validation Demographic disparity: 0.4008\n",
      "\n",
      " | Testing Round : 67 | constraint :  Cov(z, d) < c\n",
      "\n",
      "Client 1: accuracy loss: 3.50 | fairness loss 814536.70 | Demographic disparity = 0.46\n",
      "Client 2: accuracy loss: 2.39 | fairness loss 1103155.16 | Demographic disparity = 0.36\n",
      "Client 3: accuracy loss: 3.16 | fairness loss 900393.20 | Demographic disparity = 0.39\n",
      " \n",
      "Avg Training Stats after 67 Testing rounds:\n",
      "Training loss: -41833.40 | Validation accuracy: 86.11% | Validation Demographic disparity: 0.4008\n",
      "\n",
      " | Testing Round : 68 | constraint :  Cov(z, d) < c\n",
      "\n"
     ]
    },
    {
     "name": "stderr",
     "output_type": "stream",
     "text": [
      " 69%|██████▉   | 69/100 [00:08<00:03,  8.32it/s]"
     ]
    },
    {
     "name": "stdout",
     "output_type": "stream",
     "text": [
      "Client 1: accuracy loss: 3.50 | fairness loss 835155.70 | Demographic disparity = 0.46\n",
      "Client 2: accuracy loss: 2.40 | fairness loss 1131503.78 | Demographic disparity = 0.36\n",
      "Client 3: accuracy loss: 3.16 | fairness loss 923499.21 | Demographic disparity = 0.39\n",
      " \n",
      "Avg Training Stats after 68 Testing rounds:\n",
      "Training loss: -42542.12 | Validation accuracy: 86.11% | Validation Demographic disparity: 0.4008\n",
      "\n",
      " | Testing Round : 69 | constraint :  Cov(z, d) < c\n",
      "\n",
      "Client 1: accuracy loss: 3.51 | fairness loss 856061.99 | Demographic disparity = 0.46\n",
      "Client 2: accuracy loss: 2.40 | fairness loss 1160258.34 | Demographic disparity = 0.36\n",
      "Client 3: accuracy loss: 3.16 | fairness loss 946936.60 | Demographic disparity = 0.39\n",
      " \n",
      "Avg Training Stats after 69 Testing rounds:\n",
      "Training loss: -43251.09 | Validation accuracy: 86.11% | Validation Demographic disparity: 0.4008\n",
      "\n",
      " | Testing Round : 70 | constraint :  Cov(z, d) < c\n",
      "\n"
     ]
    },
    {
     "name": "stderr",
     "output_type": "stream",
     "text": [
      " 71%|███████   | 71/100 [00:08<00:03,  8.33it/s]"
     ]
    },
    {
     "name": "stdout",
     "output_type": "stream",
     "text": [
      "Client 1: accuracy loss: 3.51 | fairness loss 877256.42 | Demographic disparity = 0.46\n",
      "Client 2: accuracy loss: 2.40 | fairness loss 1189419.69 | Demographic disparity = 0.36\n",
      "Client 3: accuracy loss: 3.17 | fairness loss 970705.99 | Demographic disparity = 0.39\n",
      " \n",
      "Avg Training Stats after 70 Testing rounds:\n",
      "Training loss: -43960.32 | Validation accuracy: 86.11% | Validation Demographic disparity: 0.4008\n",
      "\n",
      " | Testing Round : 71 | constraint :  Cov(z, d) < c\n",
      "\n",
      "Client 1: accuracy loss: 3.51 | fairness loss 898739.31 | Demographic disparity = 0.46\n",
      "Client 2: accuracy loss: 2.40 | fairness loss 1218988.63 | Demographic disparity = 0.36\n",
      "Client 3: accuracy loss: 3.17 | fairness loss 994808.00 | Demographic disparity = 0.39\n",
      " \n",
      "Avg Training Stats after 71 Testing rounds:\n",
      "Training loss: -44669.80 | Validation accuracy: 86.11% | Validation Demographic disparity: 0.4008\n",
      "\n",
      " | Testing Round : 72 | constraint :  Cov(z, d) < c\n",
      "\n"
     ]
    },
    {
     "name": "stderr",
     "output_type": "stream",
     "text": [
      " 73%|███████▎  | 73/100 [00:08<00:03,  8.25it/s]"
     ]
    },
    {
     "name": "stdout",
     "output_type": "stream",
     "text": [
      "Client 1: accuracy loss: 3.51 | fairness loss 920511.30 | Demographic disparity = 0.45\n",
      "Client 2: accuracy loss: 2.41 | fairness loss 1248965.73 | Demographic disparity = 0.36\n",
      "Client 3: accuracy loss: 3.17 | fairness loss 1019243.23 | Demographic disparity = 0.39\n",
      " \n",
      "Avg Training Stats after 72 Testing rounds:\n",
      "Training loss: -45379.54 | Validation accuracy: 86.40% | Validation Demographic disparity: 0.3974\n",
      "\n",
      " | Testing Round : 73 | constraint :  Cov(z, d) < c\n",
      "\n",
      "Client 1: accuracy loss: 3.52 | fairness loss 942572.72 | Demographic disparity = 0.45\n",
      "Client 2: accuracy loss: 2.41 | fairness loss 1279351.66 | Demographic disparity = 0.36\n",
      "Client 3: accuracy loss: 3.17 | fairness loss 1044012.17 | Demographic disparity = 0.39\n",
      " \n",
      "Avg Training Stats after 73 Testing rounds:\n",
      "Training loss: -46089.53 | Validation accuracy: 86.40% | Validation Demographic disparity: 0.3974\n",
      "\n",
      " | Testing Round : 74 | constraint :  Cov(z, d) < c\n",
      "\n"
     ]
    },
    {
     "name": "stderr",
     "output_type": "stream",
     "text": [
      " 75%|███████▌  | 75/100 [00:09<00:02,  8.77it/s]"
     ]
    },
    {
     "name": "stdout",
     "output_type": "stream",
     "text": [
      "Client 1: accuracy loss: 3.52 | fairness loss 964924.23 | Demographic disparity = 0.45\n",
      "Client 2: accuracy loss: 2.41 | fairness loss 1310147.27 | Demographic disparity = 0.35\n",
      "Client 3: accuracy loss: 3.18 | fairness loss 1069115.41 | Demographic disparity = 0.39\n",
      " \n",
      "Avg Training Stats after 74 Testing rounds:\n",
      "Training loss: -46799.78 | Validation accuracy: 86.73% | Validation Demographic disparity: 0.3920\n",
      "\n",
      " | Testing Round : 75 | constraint :  Cov(z, d) < c\n",
      "\n",
      "Client 1: accuracy loss: 3.52 | fairness loss 987566.24 | Demographic disparity = 0.45\n",
      "Client 2: accuracy loss: 2.41 | fairness loss 1341353.15 | Demographic disparity = 0.35\n",
      "Client 3: accuracy loss: 3.18 | fairness loss 1094553.70 | Demographic disparity = 0.39\n",
      " \n",
      "Avg Training Stats after 75 Testing rounds:\n",
      "Training loss: -47510.28 | Validation accuracy: 86.73% | Validation Demographic disparity: 0.3920\n",
      "\n",
      " | Testing Round : 76 | constraint :  Cov(z, d) < c\n",
      "\n"
     ]
    },
    {
     "name": "stderr",
     "output_type": "stream",
     "text": [
      " 77%|███████▋  | 77/100 [00:09<00:02,  9.00it/s]"
     ]
    },
    {
     "name": "stdout",
     "output_type": "stream",
     "text": [
      "Client 1: accuracy loss: 3.52 | fairness loss 1010499.22 | Demographic disparity = 0.45\n",
      "Client 2: accuracy loss: 2.41 | fairness loss 1372970.05 | Demographic disparity = 0.35\n",
      "Client 3: accuracy loss: 3.18 | fairness loss 1120327.35 | Demographic disparity = 0.39\n",
      " \n",
      "Avg Training Stats after 76 Testing rounds:\n",
      "Training loss: -48221.04 | Validation accuracy: 86.73% | Validation Demographic disparity: 0.3920\n",
      "\n",
      " | Testing Round : 77 | constraint :  Cov(z, d) < c\n",
      "\n",
      "Client 1: accuracy loss: 3.53 | fairness loss 1033723.93 | Demographic disparity = 0.45\n",
      "Client 2: accuracy loss: 2.42 | fairness loss 1404999.00 | Demographic disparity = 0.35\n",
      "Client 3: accuracy loss: 3.18 | fairness loss 1146437.20 | Demographic disparity = 0.39\n",
      " \n",
      "Avg Training Stats after 77 Testing rounds:\n",
      "Training loss: -48932.05 | Validation accuracy: 86.73% | Validation Demographic disparity: 0.3920\n",
      "\n",
      " | Testing Round : 78 | constraint :  Cov(z, d) < c\n",
      "\n"
     ]
    },
    {
     "name": "stderr",
     "output_type": "stream",
     "text": [
      " 79%|███████▉  | 79/100 [00:09<00:02,  8.93it/s]"
     ]
    },
    {
     "name": "stdout",
     "output_type": "stream",
     "text": [
      "Client 1: accuracy loss: 3.53 | fairness loss 1057240.65 | Demographic disparity = 0.45\n",
      "Client 2: accuracy loss: 2.42 | fairness loss 1437440.39 | Demographic disparity = 0.35\n",
      "Client 3: accuracy loss: 3.18 | fairness loss 1172883.92 | Demographic disparity = 0.39\n",
      " \n",
      "Avg Training Stats after 78 Testing rounds:\n",
      "Training loss: -49643.32 | Validation accuracy: 86.73% | Validation Demographic disparity: 0.3920\n",
      "\n",
      " | Testing Round : 79 | constraint :  Cov(z, d) < c\n",
      "\n",
      "Client 1: accuracy loss: 3.53 | fairness loss 1081050.08 | Demographic disparity = 0.45\n",
      "Client 2: accuracy loss: 2.42 | fairness loss 1470295.03 | Demographic disparity = 0.35\n",
      "Client 3: accuracy loss: 3.19 | fairness loss 1199667.83 | Demographic disparity = 0.39\n",
      " \n",
      "Avg Training Stats after 79 Testing rounds:\n",
      "Training loss: -50354.84 | Validation accuracy: 86.73% | Validation Demographic disparity: 0.3920\n",
      "\n",
      " | Testing Round : 80 | constraint :  Cov(z, d) < c\n",
      "\n"
     ]
    },
    {
     "name": "stderr",
     "output_type": "stream",
     "text": [
      " 81%|████████  | 81/100 [00:09<00:02,  8.89it/s]"
     ]
    },
    {
     "name": "stdout",
     "output_type": "stream",
     "text": [
      "Client 1: accuracy loss: 3.53 | fairness loss 1105152.50 | Demographic disparity = 0.45\n",
      "Client 2: accuracy loss: 2.42 | fairness loss 1503563.56 | Demographic disparity = 0.35\n",
      "Client 3: accuracy loss: 3.19 | fairness loss 1226789.69 | Demographic disparity = 0.39\n",
      " \n",
      "Avg Training Stats after 80 Testing rounds:\n",
      "Training loss: -51066.62 | Validation accuracy: 86.73% | Validation Demographic disparity: 0.3920\n",
      "\n",
      " | Testing Round : 81 | constraint :  Cov(z, d) < c\n",
      "\n",
      "Client 1: accuracy loss: 3.54 | fairness loss 1129548.63 | Demographic disparity = 0.45\n",
      "Client 2: accuracy loss: 2.42 | fairness loss 1537246.98 | Demographic disparity = 0.35\n",
      "Client 3: accuracy loss: 3.19 | fairness loss 1254250.17 | Demographic disparity = 0.39\n",
      " \n",
      "Avg Training Stats after 81 Testing rounds:\n",
      "Training loss: -51778.65 | Validation accuracy: 86.73% | Validation Demographic disparity: 0.3920\n",
      "\n",
      " | Testing Round : 82 | constraint :  Cov(z, d) < c\n",
      "\n"
     ]
    },
    {
     "name": "stderr",
     "output_type": "stream",
     "text": [
      " 83%|████████▎ | 83/100 [00:10<00:01,  8.99it/s]"
     ]
    },
    {
     "name": "stdout",
     "output_type": "stream",
     "text": [
      "Client 1: accuracy loss: 3.54 | fairness loss 1154238.79 | Demographic disparity = 0.45\n",
      "Client 2: accuracy loss: 2.43 | fairness loss 1571345.69 | Demographic disparity = 0.35\n",
      "Client 3: accuracy loss: 3.19 | fairness loss 1282049.53 | Demographic disparity = 0.39\n",
      " \n",
      "Avg Training Stats after 82 Testing rounds:\n",
      "Training loss: -52490.95 | Validation accuracy: 86.73% | Validation Demographic disparity: 0.3920\n",
      "\n",
      " | Testing Round : 83 | constraint :  Cov(z, d) < c\n",
      "\n",
      "Client 1: accuracy loss: 3.54 | fairness loss 1179223.78 | Demographic disparity = 0.45\n",
      "Client 2: accuracy loss: 2.43 | fairness loss 1605860.75 | Demographic disparity = 0.35\n",
      "Client 3: accuracy loss: 3.20 | fairness loss 1310188.76 | Demographic disparity = 0.39\n",
      " \n",
      "Avg Training Stats after 83 Testing rounds:\n",
      "Training loss: -53203.49 | Validation accuracy: 86.73% | Validation Demographic disparity: 0.3920\n",
      "\n",
      " | Testing Round : 84 | constraint :  Cov(z, d) < c\n",
      "\n"
     ]
    },
    {
     "name": "stderr",
     "output_type": "stream",
     "text": [
      " 85%|████████▌ | 85/100 [00:10<00:01,  9.01it/s]"
     ]
    },
    {
     "name": "stdout",
     "output_type": "stream",
     "text": [
      "Client 1: accuracy loss: 3.54 | fairness loss 1204503.78 | Demographic disparity = 0.45\n",
      "Client 2: accuracy loss: 2.43 | fairness loss 1640792.49 | Demographic disparity = 0.35\n",
      "Client 3: accuracy loss: 3.20 | fairness loss 1338668.19 | Demographic disparity = 0.39\n",
      " \n",
      "Avg Training Stats after 84 Testing rounds:\n",
      "Training loss: -53916.29 | Validation accuracy: 86.73% | Validation Demographic disparity: 0.3920\n",
      "\n",
      " | Testing Round : 85 | constraint :  Cov(z, d) < c\n",
      "\n",
      "Client 1: accuracy loss: 3.55 | fairness loss 1230079.47 | Demographic disparity = 0.45\n",
      "Client 2: accuracy loss: 2.43 | fairness loss 1676141.60 | Demographic disparity = 0.35\n",
      "Client 3: accuracy loss: 3.20 | fairness loss 1367488.36 | Demographic disparity = 0.38\n",
      " \n",
      "Avg Training Stats after 85 Testing rounds:\n",
      "Training loss: -54629.35 | Validation accuracy: 87.12% | Validation Demographic disparity: 0.3887\n",
      "\n",
      " | Testing Round : 86 | constraint :  Cov(z, d) < c\n",
      "\n"
     ]
    },
    {
     "name": "stderr",
     "output_type": "stream",
     "text": [
      " 87%|████████▋ | 87/100 [00:10<00:01,  9.15it/s]"
     ]
    },
    {
     "name": "stdout",
     "output_type": "stream",
     "text": [
      "Client 1: accuracy loss: 3.55 | fairness loss 1255951.31 | Demographic disparity = 0.45\n",
      "Client 2: accuracy loss: 2.43 | fairness loss 1711909.26 | Demographic disparity = 0.35\n",
      "Client 3: accuracy loss: 3.20 | fairness loss 1396650.12 | Demographic disparity = 0.38\n",
      " \n",
      "Avg Training Stats after 86 Testing rounds:\n",
      "Training loss: -55342.67 | Validation accuracy: 87.12% | Validation Demographic disparity: 0.3887\n",
      "\n",
      " | Testing Round : 87 | constraint :  Cov(z, d) < c\n",
      "\n",
      "Client 1: accuracy loss: 3.55 | fairness loss 1282119.88 | Demographic disparity = 0.45\n",
      "Client 2: accuracy loss: 2.44 | fairness loss 1748095.83 | Demographic disparity = 0.35\n",
      "Client 3: accuracy loss: 3.20 | fairness loss 1426153.78 | Demographic disparity = 0.38\n",
      " \n",
      "Avg Training Stats after 87 Testing rounds:\n",
      "Training loss: -56056.24 | Validation accuracy: 87.12% | Validation Demographic disparity: 0.3887\n",
      "\n",
      " | Testing Round : 88 | constraint :  Cov(z, d) < c\n",
      "\n"
     ]
    },
    {
     "name": "stderr",
     "output_type": "stream",
     "text": [
      " 89%|████████▉ | 89/100 [00:10<00:01,  9.21it/s]"
     ]
    },
    {
     "name": "stdout",
     "output_type": "stream",
     "text": [
      "Client 1: accuracy loss: 3.55 | fairness loss 1308585.78 | Demographic disparity = 0.45\n",
      "Client 2: accuracy loss: 2.44 | fairness loss 1784702.48 | Demographic disparity = 0.35\n",
      "Client 3: accuracy loss: 3.21 | fairness loss 1456000.38 | Demographic disparity = 0.38\n",
      " \n",
      "Avg Training Stats after 88 Testing rounds:\n",
      "Training loss: -56770.06 | Validation accuracy: 87.12% | Validation Demographic disparity: 0.3887\n",
      "\n",
      " | Testing Round : 89 | constraint :  Cov(z, d) < c\n",
      "\n",
      "Client 1: accuracy loss: 3.56 | fairness loss 1335349.38 | Demographic disparity = 0.45\n",
      "Client 2: accuracy loss: 2.44 | fairness loss 1821729.47 | Demographic disparity = 0.35\n",
      "Client 3: accuracy loss: 3.21 | fairness loss 1486190.00 | Demographic disparity = 0.38\n",
      " \n",
      "Avg Training Stats after 89 Testing rounds:\n",
      "Training loss: -57484.15 | Validation accuracy: 87.12% | Validation Demographic disparity: 0.3887\n",
      "\n",
      " | Testing Round : 90 | constraint :  Cov(z, d) < c\n",
      "\n"
     ]
    },
    {
     "name": "stderr",
     "output_type": "stream",
     "text": [
      " 91%|█████████ | 91/100 [00:10<00:00,  9.23it/s]"
     ]
    },
    {
     "name": "stdout",
     "output_type": "stream",
     "text": [
      "Client 1: accuracy loss: 3.56 | fairness loss 1362411.01 | Demographic disparity = 0.45\n",
      "Client 2: accuracy loss: 2.44 | fairness loss 1859177.56 | Demographic disparity = 0.35\n",
      "Client 3: accuracy loss: 3.21 | fairness loss 1516723.50 | Demographic disparity = 0.38\n",
      " \n",
      "Avg Training Stats after 90 Testing rounds:\n",
      "Training loss: -58198.49 | Validation accuracy: 87.12% | Validation Demographic disparity: 0.3887\n",
      "\n",
      " | Testing Round : 91 | constraint :  Cov(z, d) < c\n",
      "\n",
      "Client 1: accuracy loss: 3.56 | fairness loss 1389771.57 | Demographic disparity = 0.45\n",
      "Client 2: accuracy loss: 2.44 | fairness loss 1897047.60 | Demographic disparity = 0.34\n",
      "Client 3: accuracy loss: 3.21 | fairness loss 1547601.40 | Demographic disparity = 0.38\n",
      " \n",
      "Avg Training Stats after 91 Testing rounds:\n",
      "Training loss: -58913.08 | Validation accuracy: 86.79% | Validation Demographic disparity: 0.3854\n",
      "\n",
      " | Testing Round : 92 | constraint :  Cov(z, d) < c\n",
      "\n"
     ]
    },
    {
     "name": "stderr",
     "output_type": "stream",
     "text": [
      " 93%|█████████▎| 93/100 [00:11<00:00,  9.18it/s]"
     ]
    },
    {
     "name": "stdout",
     "output_type": "stream",
     "text": [
      "Client 1: accuracy loss: 3.56 | fairness loss 1417431.34 | Demographic disparity = 0.45\n",
      "Client 2: accuracy loss: 2.44 | fairness loss 1935340.45 | Demographic disparity = 0.34\n",
      "Client 3: accuracy loss: 3.21 | fairness loss 1578824.33 | Demographic disparity = 0.38\n",
      " \n",
      "Avg Training Stats after 92 Testing rounds:\n",
      "Training loss: -59627.94 | Validation accuracy: 86.79% | Validation Demographic disparity: 0.3854\n",
      "\n",
      " | Testing Round : 93 | constraint :  Cov(z, d) < c\n",
      "\n",
      "Client 1: accuracy loss: 3.57 | fairness loss 1445390.96 | Demographic disparity = 0.45\n",
      "Client 2: accuracy loss: 2.45 | fairness loss 1974056.67 | Demographic disparity = 0.34\n",
      "Client 3: accuracy loss: 3.22 | fairness loss 1610392.96 | Demographic disparity = 0.38\n",
      " \n",
      "Avg Training Stats after 93 Testing rounds:\n",
      "Training loss: -60343.05 | Validation accuracy: 86.79% | Validation Demographic disparity: 0.3854\n",
      "\n",
      " | Testing Round : 94 | constraint :  Cov(z, d) < c\n",
      "\n"
     ]
    },
    {
     "name": "stderr",
     "output_type": "stream",
     "text": [
      " 95%|█████████▌| 95/100 [00:11<00:00,  8.65it/s]"
     ]
    },
    {
     "name": "stdout",
     "output_type": "stream",
     "text": [
      "Client 1: accuracy loss: 3.57 | fairness loss 1473650.89 | Demographic disparity = 0.45\n",
      "Client 2: accuracy loss: 2.45 | fairness loss 2013197.15 | Demographic disparity = 0.34\n",
      "Client 3: accuracy loss: 3.22 | fairness loss 1642307.90 | Demographic disparity = 0.38\n",
      " \n",
      "Avg Training Stats after 94 Testing rounds:\n",
      "Training loss: -61058.41 | Validation accuracy: 86.79% | Validation Demographic disparity: 0.3854\n",
      "\n",
      " | Testing Round : 95 | constraint :  Cov(z, d) < c\n",
      "\n",
      "Client 1: accuracy loss: 3.57 | fairness loss 1502211.76 | Demographic disparity = 0.45\n",
      "Client 2: accuracy loss: 2.45 | fairness loss 2052762.30 | Demographic disparity = 0.34\n",
      "Client 3: accuracy loss: 3.22 | fairness loss 1674569.59 | Demographic disparity = 0.38\n",
      " \n",
      "Avg Training Stats after 95 Testing rounds:\n",
      "Training loss: -61774.04 | Validation accuracy: 86.79% | Validation Demographic disparity: 0.3854\n",
      "\n",
      " | Testing Round : 96 | constraint :  Cov(z, d) < c\n",
      "\n"
     ]
    },
    {
     "name": "stderr",
     "output_type": "stream",
     "text": [
      " 97%|█████████▋| 97/100 [00:11<00:00,  8.70it/s]"
     ]
    },
    {
     "name": "stdout",
     "output_type": "stream",
     "text": [
      "Client 1: accuracy loss: 3.57 | fairness loss 1531073.64 | Demographic disparity = 0.45\n",
      "Client 2: accuracy loss: 2.45 | fairness loss 2092752.73 | Demographic disparity = 0.34\n",
      "Client 3: accuracy loss: 3.22 | fairness loss 1707178.38 | Demographic disparity = 0.38\n",
      " \n",
      "Avg Training Stats after 96 Testing rounds:\n",
      "Training loss: -62489.92 | Validation accuracy: 86.79% | Validation Demographic disparity: 0.3854\n",
      "\n",
      " | Testing Round : 97 | constraint :  Cov(z, d) < c\n",
      "\n",
      "Client 1: accuracy loss: 3.57 | fairness loss 1560237.41 | Demographic disparity = 0.45\n",
      "Client 2: accuracy loss: 2.45 | fairness loss 2133169.68 | Demographic disparity = 0.33\n",
      "Client 3: accuracy loss: 3.22 | fairness loss 1740135.31 | Demographic disparity = 0.38\n",
      " \n",
      "Avg Training Stats after 97 Testing rounds:\n",
      "Training loss: -63206.06 | Validation accuracy: 86.47% | Validation Demographic disparity: 0.3820\n",
      "\n",
      " | Testing Round : 98 | constraint :  Cov(z, d) < c\n",
      "\n"
     ]
    },
    {
     "name": "stderr",
     "output_type": "stream",
     "text": [
      " 99%|█████████▉| 99/100 [00:11<00:00,  8.77it/s]"
     ]
    },
    {
     "name": "stdout",
     "output_type": "stream",
     "text": [
      "Client 1: accuracy loss: 3.58 | fairness loss 1589703.54 | Demographic disparity = 0.45\n",
      "Client 2: accuracy loss: 2.46 | fairness loss 2174013.66 | Demographic disparity = 0.33\n",
      "Client 3: accuracy loss: 3.23 | fairness loss 1773440.76 | Demographic disparity = 0.38\n",
      " \n",
      "Avg Training Stats after 98 Testing rounds:\n",
      "Training loss: -63922.46 | Validation accuracy: 86.47% | Validation Demographic disparity: 0.3820\n",
      "\n",
      " | Testing Round : 99 | constraint :  Cov(z, d) < c\n",
      "\n",
      "Client 1: accuracy loss: 3.58 | fairness loss 1619472.70 | Demographic disparity = 0.44\n",
      "Client 2: accuracy loss: 2.46 | fairness loss 2215285.30 | Demographic disparity = 0.33\n",
      "Client 3: accuracy loss: 3.23 | fairness loss 1807095.49 | Demographic disparity = 0.37\n",
      " \n",
      "Avg Training Stats after 99 Testing rounds:\n",
      "Training loss: -64639.11 | Validation accuracy: 86.57% | Validation Demographic disparity: 0.3754\n",
      "\n",
      " | Testing Round : 100 | constraint :  Cov(z, d) < c\n",
      "\n"
     ]
    },
    {
     "name": "stderr",
     "output_type": "stream",
     "text": [
      "100%|██████████| 100/100 [00:11<00:00,  8.39it/s]\n",
      "  1%|          | 1/100 [00:00<00:10,  9.31it/s]"
     ]
    },
    {
     "name": "stdout",
     "output_type": "stream",
     "text": [
      "Client 1: accuracy loss: 3.58 | fairness loss 1649544.90 | Demographic disparity = 0.44\n",
      "Client 2: accuracy loss: 2.46 | fairness loss 2256985.22 | Demographic disparity = 0.33\n",
      "Client 3: accuracy loss: 3.23 | fairness loss 1841099.79 | Demographic disparity = 0.37\n",
      " \n",
      "Avg Training Stats after 100 Testing rounds:\n",
      "Training loss: -65356.02 | Validation accuracy: 86.57% | Validation Demographic disparity: 0.3754\n",
      "\n",
      " | Testing Round : 1 | constraint :  Cov(z, d) > -c\n",
      "\n",
      "Client 1: accuracy loss: 3.30 | fairness loss 66175.08 | Demographic disparity = 0.53\n",
      "Client 2: accuracy loss: 2.16 | fairness loss 99940.40 | Demographic disparity = 0.40\n",
      "Client 3: accuracy loss: 2.96 | fairness loss 83720.08 | Demographic disparity = 0.40\n",
      " \n",
      "Avg Training Stats after 1 Testing rounds:\n",
      "Training loss: -64764.16 | Validation accuracy: 85.72% | Validation Demographic disparity: 0.4371\n",
      "\n",
      " | Testing Round : 2 | constraint :  Cov(z, d) > -c\n",
      "\n"
     ]
    },
    {
     "name": "stderr",
     "output_type": "stream",
     "text": [
      "  3%|▎         | 3/100 [00:00<00:10,  9.35it/s]"
     ]
    },
    {
     "name": "stdout",
     "output_type": "stream",
     "text": [
      "Client 1: accuracy loss: 3.29 | fairness loss 68889.46 | Demographic disparity = 0.53\n",
      "Client 2: accuracy loss: 2.16 | fairness loss 104213.78 | Demographic disparity = 0.39\n",
      "Client 3: accuracy loss: 2.95 | fairness loss 87168.28 | Demographic disparity = 0.40\n",
      " \n",
      "Avg Training Stats after 2 Testing rounds:\n",
      "Training loss: -64197.52 | Validation accuracy: 85.10% | Validation Demographic disparity: 0.4371\n",
      "\n",
      " | Testing Round : 3 | constraint :  Cov(z, d) > -c\n",
      "\n",
      "Client 1: accuracy loss: 3.28 | fairness loss 71302.52 | Demographic disparity = 0.53\n",
      "Client 2: accuracy loss: 2.17 | fairness loss 107978.61 | Demographic disparity = 0.39\n",
      "Client 3: accuracy loss: 2.95 | fairness loss 90193.97 | Demographic disparity = 0.40\n",
      " \n",
      "Avg Training Stats after 3 Testing rounds:\n",
      "Training loss: -63655.39 | Validation accuracy: 85.10% | Validation Demographic disparity: 0.4371\n",
      "\n",
      " | Testing Round : 4 | constraint :  Cov(z, d) > -c\n",
      "\n"
     ]
    },
    {
     "name": "stderr",
     "output_type": "stream",
     "text": [
      "  5%|▌         | 5/100 [00:00<00:10,  9.22it/s]"
     ]
    },
    {
     "name": "stdout",
     "output_type": "stream",
     "text": [
      "Client 1: accuracy loss: 3.28 | fairness loss 73524.60 | Demographic disparity = 0.53\n",
      "Client 2: accuracy loss: 2.18 | fairness loss 111489.38 | Demographic disparity = 0.39\n",
      "Client 3: accuracy loss: 2.95 | fairness loss 93014.79 | Demographic disparity = 0.40\n",
      " \n",
      "Avg Training Stats after 4 Testing rounds:\n",
      "Training loss: -63137.07 | Validation accuracy: 85.10% | Validation Demographic disparity: 0.4371\n",
      "\n",
      " | Testing Round : 5 | constraint :  Cov(z, d) > -c\n",
      "\n",
      "Client 1: accuracy loss: 3.28 | fairness loss 75489.02 | Demographic disparity = 0.53\n",
      "Client 2: accuracy loss: 2.19 | fairness loss 114674.06 | Demographic disparity = 0.39\n",
      "Client 3: accuracy loss: 2.96 | fairness loss 95575.38 | Demographic disparity = 0.40\n",
      " \n",
      "Avg Training Stats after 5 Testing rounds:\n",
      "Training loss: -62641.87 | Validation accuracy: 85.10% | Validation Demographic disparity: 0.4371\n",
      "\n",
      " | Testing Round : 6 | constraint :  Cov(z, d) > -c\n",
      "\n"
     ]
    },
    {
     "name": "stderr",
     "output_type": "stream",
     "text": [
      "  7%|▋         | 7/100 [00:00<00:10,  8.52it/s]"
     ]
    },
    {
     "name": "stdout",
     "output_type": "stream",
     "text": [
      "Client 1: accuracy loss: 3.29 | fairness loss 76753.68 | Demographic disparity = 0.53\n",
      "Client 2: accuracy loss: 2.20 | fairness loss 116987.78 | Demographic disparity = 0.38\n",
      "Client 3: accuracy loss: 2.97 | fairness loss 97445.99 | Demographic disparity = 0.40\n",
      " \n",
      "Avg Training Stats after 6 Testing rounds:\n",
      "Training loss: -62169.15 | Validation accuracy: 85.42% | Validation Demographic disparity: 0.4316\n",
      "\n",
      " | Testing Round : 7 | constraint :  Cov(z, d) > -c\n",
      "\n",
      "Client 1: accuracy loss: 3.30 | fairness loss 77755.78 | Demographic disparity = 0.53\n",
      "Client 2: accuracy loss: 2.21 | fairness loss 118982.38 | Demographic disparity = 0.38\n",
      "Client 3: accuracy loss: 2.98 | fairness loss 99064.24 | Demographic disparity = 0.40\n",
      " \n",
      "Avg Training Stats after 7 Testing rounds:\n",
      "Training loss: -61718.29 | Validation accuracy: 85.42% | Validation Demographic disparity: 0.4316\n",
      "\n",
      " | Testing Round : 8 | constraint :  Cov(z, d) > -c\n",
      "\n"
     ]
    },
    {
     "name": "stderr",
     "output_type": "stream",
     "text": [
      "  9%|▉         | 9/100 [00:01<00:10,  8.40it/s]"
     ]
    },
    {
     "name": "stdout",
     "output_type": "stream",
     "text": [
      "Client 1: accuracy loss: 3.30 | fairness loss 78594.08 | Demographic disparity = 0.57\n",
      "Client 2: accuracy loss: 2.21 | fairness loss 120784.42 | Demographic disparity = 0.38\n",
      "Client 3: accuracy loss: 2.98 | fairness loss 100531.04 | Demographic disparity = 0.40\n",
      " \n",
      "Avg Training Stats after 8 Testing rounds:\n",
      "Training loss: -61288.69 | Validation accuracy: 85.13% | Validation Demographic disparity: 0.4371\n",
      "\n",
      " | Testing Round : 9 | constraint :  Cov(z, d) > -c\n",
      "\n",
      "Client 1: accuracy loss: 3.31 | fairness loss 79280.53 | Demographic disparity = 0.57\n",
      "Client 2: accuracy loss: 2.22 | fairness loss 122411.04 | Demographic disparity = 0.38\n",
      "Client 3: accuracy loss: 2.99 | fairness loss 101860.60 | Demographic disparity = 0.41\n",
      " \n",
      "Avg Training Stats after 9 Testing rounds:\n",
      "Training loss: -60879.77 | Validation accuracy: 85.52% | Validation Demographic disparity: 0.4404\n",
      "\n",
      " | Testing Round : 10 | constraint :  Cov(z, d) > -c\n",
      "\n"
     ]
    },
    {
     "name": "stderr",
     "output_type": "stream",
     "text": [
      " 11%|█         | 11/100 [00:01<00:10,  8.18it/s]"
     ]
    },
    {
     "name": "stdout",
     "output_type": "stream",
     "text": [
      "Client 1: accuracy loss: 3.32 | fairness loss 79428.72 | Demographic disparity = 0.57\n",
      "Client 2: accuracy loss: 2.23 | fairness loss 123380.64 | Demographic disparity = 0.38\n",
      "Client 3: accuracy loss: 3.00 | fairness loss 102672.39 | Demographic disparity = 0.41\n",
      " \n",
      "Avg Training Stats after 10 Testing rounds:\n",
      "Training loss: -60490.97 | Validation accuracy: 85.52% | Validation Demographic disparity: 0.4404\n",
      "\n",
      " | Testing Round : 11 | constraint :  Cov(z, d) > -c\n",
      "\n",
      "Client 1: accuracy loss: 3.33 | fairness loss 79461.54 | Demographic disparity = 0.57\n",
      "Client 2: accuracy loss: 2.23 | fairness loss 124221.39 | Demographic disparity = 0.38\n",
      "Client 3: accuracy loss: 3.01 | fairness loss 103384.91 | Demographic disparity = 0.41\n",
      " \n",
      "Avg Training Stats after 11 Testing rounds:\n",
      "Training loss: -60121.76 | Validation accuracy: 85.52% | Validation Demographic disparity: 0.4404\n",
      "\n",
      " | Testing Round : 12 | constraint :  Cov(z, d) > -c\n",
      "\n"
     ]
    },
    {
     "name": "stderr",
     "output_type": "stream",
     "text": [
      " 13%|█▎        | 13/100 [00:01<00:11,  7.71it/s]"
     ]
    },
    {
     "name": "stdout",
     "output_type": "stream",
     "text": [
      "Client 1: accuracy loss: 3.34 | fairness loss 79452.16 | Demographic disparity = 0.57\n",
      "Client 2: accuracy loss: 2.23 | fairness loss 125025.18 | Demographic disparity = 0.38\n",
      "Client 3: accuracy loss: 3.01 | fairness loss 104071.26 | Demographic disparity = 0.41\n",
      " \n",
      "Avg Training Stats after 12 Testing rounds:\n",
      "Training loss: -59771.61 | Validation accuracy: 85.52% | Validation Demographic disparity: 0.4404\n",
      "\n",
      " | Testing Round : 13 | constraint :  Cov(z, d) > -c\n",
      "\n",
      "Client 1: accuracy loss: 3.34 | fairness loss 79475.42 | Demographic disparity = 0.57\n",
      "Client 2: accuracy loss: 2.24 | fairness loss 125886.09 | Demographic disparity = 0.38\n",
      "Client 3: accuracy loss: 3.02 | fairness loss 104806.21 | Demographic disparity = 0.41\n",
      " \n",
      "Avg Training Stats after 13 Testing rounds:\n",
      "Training loss: -59440.03 | Validation accuracy: 85.52% | Validation Demographic disparity: 0.4404\n",
      "\n",
      " | Testing Round : 14 | constraint :  Cov(z, d) > -c\n",
      "\n"
     ]
    },
    {
     "name": "stderr",
     "output_type": "stream",
     "text": [
      " 15%|█▌        | 15/100 [00:01<00:11,  7.58it/s]"
     ]
    },
    {
     "name": "stdout",
     "output_type": "stream",
     "text": [
      "Client 1: accuracy loss: 3.35 | fairness loss 79577.16 | Demographic disparity = 0.57\n",
      "Client 2: accuracy loss: 2.24 | fairness loss 126862.19 | Demographic disparity = 0.38\n",
      "Client 3: accuracy loss: 3.02 | fairness loss 105636.01 | Demographic disparity = 0.41\n",
      " \n",
      "Avg Training Stats after 14 Testing rounds:\n",
      "Training loss: -59126.54 | Validation accuracy: 85.52% | Validation Demographic disparity: 0.4404\n",
      "\n",
      " | Testing Round : 15 | constraint :  Cov(z, d) > -c\n",
      "\n",
      "Client 1: accuracy loss: 3.36 | fairness loss 79784.18 | Demographic disparity = 0.57\n",
      "Client 2: accuracy loss: 2.24 | fairness loss 127987.75 | Demographic disparity = 0.38\n",
      "Client 3: accuracy loss: 3.03 | fairness loss 106587.99 | Demographic disparity = 0.43\n",
      " \n",
      "Avg Training Stats after 15 Testing rounds:\n",
      "Training loss: -58830.66 | Validation accuracy: 85.13% | Validation Demographic disparity: 0.4458\n",
      "\n",
      " | Testing Round : 16 | constraint :  Cov(z, d) > -c\n",
      "\n"
     ]
    },
    {
     "name": "stderr",
     "output_type": "stream",
     "text": [
      " 17%|█▋        | 17/100 [00:02<00:10,  7.75it/s]"
     ]
    },
    {
     "name": "stdout",
     "output_type": "stream",
     "text": [
      "Client 1: accuracy loss: 3.37 | fairness loss 80113.49 | Demographic disparity = 0.57\n",
      "Client 2: accuracy loss: 2.24 | fairness loss 129284.87 | Demographic disparity = 0.38\n",
      "Client 3: accuracy loss: 3.03 | fairness loss 107679.86 | Demographic disparity = 0.43\n",
      " \n",
      "Avg Training Stats after 16 Testing rounds:\n",
      "Training loss: -58551.96 | Validation accuracy: 85.13% | Validation Demographic disparity: 0.4458\n",
      "\n",
      " | Testing Round : 17 | constraint :  Cov(z, d) > -c\n",
      "\n",
      "Client 1: accuracy loss: 3.37 | fairness loss 80577.11 | Demographic disparity = 0.57\n",
      "Client 2: accuracy loss: 2.25 | fairness loss 130769.29 | Demographic disparity = 0.38\n",
      "Client 3: accuracy loss: 3.04 | fairness loss 108924.26 | Demographic disparity = 0.43\n",
      " \n",
      "Avg Training Stats after 17 Testing rounds:\n",
      "Training loss: -58289.99 | Validation accuracy: 85.13% | Validation Demographic disparity: 0.4458\n",
      "\n",
      " | Testing Round : 18 | constraint :  Cov(z, d) > -c\n",
      "\n"
     ]
    },
    {
     "name": "stderr",
     "output_type": "stream",
     "text": [
      " 19%|█▉        | 19/100 [00:02<00:10,  8.01it/s]"
     ]
    },
    {
     "name": "stdout",
     "output_type": "stream",
     "text": [
      "Client 1: accuracy loss: 3.38 | fairness loss 81184.05 | Demographic disparity = 0.61\n",
      "Client 2: accuracy loss: 2.25 | fairness loss 132453.03 | Demographic disparity = 0.38\n",
      "Client 3: accuracy loss: 3.05 | fairness loss 110330.85 | Demographic disparity = 0.43\n",
      " \n",
      "Avg Training Stats after 18 Testing rounds:\n",
      "Training loss: -58044.35 | Validation accuracy: 84.84% | Validation Demographic disparity: 0.4513\n",
      "\n",
      " | Testing Round : 19 | constraint :  Cov(z, d) > -c\n",
      "\n",
      "Client 1: accuracy loss: 3.39 | fairness loss 81941.53 | Demographic disparity = 0.61\n",
      "Client 2: accuracy loss: 2.25 | fairness loss 134345.72 | Demographic disparity = 0.38\n",
      "Client 3: accuracy loss: 3.05 | fairness loss 111907.44 | Demographic disparity = 0.43\n",
      " \n",
      "Avg Training Stats after 19 Testing rounds:\n",
      "Training loss: -57814.61 | Validation accuracy: 84.84% | Validation Demographic disparity: 0.4513\n",
      "\n",
      " | Testing Round : 20 | constraint :  Cov(z, d) > -c\n",
      "\n"
     ]
    },
    {
     "name": "stderr",
     "output_type": "stream",
     "text": [
      " 21%|██        | 21/100 [00:02<00:09,  8.48it/s]"
     ]
    },
    {
     "name": "stdout",
     "output_type": "stream",
     "text": [
      "Client 1: accuracy loss: 3.40 | fairness loss 82855.50 | Demographic disparity = 0.61\n",
      "Client 2: accuracy loss: 2.25 | fairness loss 136455.48 | Demographic disparity = 0.38\n",
      "Client 3: accuracy loss: 3.06 | fairness loss 113660.55 | Demographic disparity = 0.43\n",
      " \n",
      "Avg Training Stats after 20 Testing rounds:\n",
      "Training loss: -57600.40 | Validation accuracy: 84.84% | Validation Demographic disparity: 0.4513\n",
      "\n",
      " | Testing Round : 21 | constraint :  Cov(z, d) > -c\n",
      "\n",
      "Client 1: accuracy loss: 3.40 | fairness loss 83931.05 | Demographic disparity = 0.61\n",
      "Client 2: accuracy loss: 2.26 | fairness loss 138789.15 | Demographic disparity = 0.38\n",
      "Client 3: accuracy loss: 3.06 | fairness loss 115595.77 | Demographic disparity = 0.43\n",
      " \n",
      "Avg Training Stats after 21 Testing rounds:\n",
      "Training loss: -57401.33 | Validation accuracy: 84.84% | Validation Demographic disparity: 0.4513\n",
      "\n",
      " | Testing Round : 22 | constraint :  Cov(z, d) > -c\n",
      "\n"
     ]
    },
    {
     "name": "stderr",
     "output_type": "stream",
     "text": [
      " 23%|██▎       | 23/100 [00:02<00:08,  8.72it/s]"
     ]
    },
    {
     "name": "stdout",
     "output_type": "stream",
     "text": [
      "Client 1: accuracy loss: 3.41 | fairness loss 85172.60 | Demographic disparity = 0.61\n",
      "Client 2: accuracy loss: 2.26 | fairness loss 141352.87 | Demographic disparity = 0.38\n",
      "Client 3: accuracy loss: 3.07 | fairness loss 117718.02 | Demographic disparity = 0.43\n",
      " \n",
      "Avg Training Stats after 22 Testing rounds:\n",
      "Training loss: -57217.03 | Validation accuracy: 84.84% | Validation Demographic disparity: 0.4513\n",
      "\n",
      " | Testing Round : 23 | constraint :  Cov(z, d) > -c\n",
      "\n",
      "Client 1: accuracy loss: 3.42 | fairness loss 86584.04 | Demographic disparity = 0.61\n",
      "Client 2: accuracy loss: 2.26 | fairness loss 144151.96 | Demographic disparity = 0.39\n",
      "Client 3: accuracy loss: 3.08 | fairness loss 120031.68 | Demographic disparity = 0.43\n",
      " \n",
      "Avg Training Stats after 23 Testing rounds:\n",
      "Training loss: -57047.16 | Validation accuracy: 84.51% | Validation Demographic disparity: 0.4567\n",
      "\n",
      " | Testing Round : 24 | constraint :  Cov(z, d) > -c\n",
      "\n"
     ]
    },
    {
     "name": "stderr",
     "output_type": "stream",
     "text": [
      " 25%|██▌       | 25/100 [00:03<00:09,  7.89it/s]"
     ]
    },
    {
     "name": "stdout",
     "output_type": "stream",
     "text": [
      "Client 1: accuracy loss: 3.43 | fairness loss 88168.86 | Demographic disparity = 0.61\n",
      "Client 2: accuracy loss: 2.26 | fairness loss 147191.22 | Demographic disparity = 0.39\n",
      "Client 3: accuracy loss: 3.08 | fairness loss 122540.63 | Demographic disparity = 0.43\n",
      " \n",
      "Avg Training Stats after 24 Testing rounds:\n",
      "Training loss: -56891.37 | Validation accuracy: 84.51% | Validation Demographic disparity: 0.4567\n",
      "\n",
      " | Testing Round : 25 | constraint :  Cov(z, d) > -c\n",
      "\n",
      "Client 1: accuracy loss: 3.43 | fairness loss 89930.19 | Demographic disparity = 0.61\n",
      "Client 2: accuracy loss: 2.27 | fairness loss 150475.04 | Demographic disparity = 0.39\n",
      "Client 3: accuracy loss: 3.09 | fairness loss 125248.45 | Demographic disparity = 0.43\n",
      " \n",
      "Avg Training Stats after 25 Testing rounds:\n",
      "Training loss: -56749.33 | Validation accuracy: 84.51% | Validation Demographic disparity: 0.4567\n",
      "\n",
      " | Testing Round : 26 | constraint :  Cov(z, d) > -c\n",
      "\n"
     ]
    },
    {
     "name": "stderr",
     "output_type": "stream",
     "text": [
      " 27%|██▋       | 27/100 [00:03<00:08,  8.16it/s]"
     ]
    },
    {
     "name": "stdout",
     "output_type": "stream",
     "text": [
      "Client 1: accuracy loss: 3.44 | fairness loss 91870.92 | Demographic disparity = 0.61\n",
      "Client 2: accuracy loss: 2.27 | fairness loss 154007.42 | Demographic disparity = 0.39\n",
      "Client 3: accuracy loss: 3.09 | fairness loss 128158.37 | Demographic disparity = 0.43\n",
      " \n",
      "Avg Training Stats after 26 Testing rounds:\n",
      "Training loss: -56620.71 | Validation accuracy: 84.51% | Validation Demographic disparity: 0.4567\n",
      "\n",
      " | Testing Round : 27 | constraint :  Cov(z, d) > -c\n",
      "\n",
      "Client 1: accuracy loss: 3.45 | fairness loss 93993.62 | Demographic disparity = 0.61\n",
      "Client 2: accuracy loss: 2.27 | fairness loss 157791.96 | Demographic disparity = 0.39\n",
      "Client 3: accuracy loss: 3.10 | fairness loss 131273.35 | Demographic disparity = 0.43\n",
      " \n",
      "Avg Training Stats after 27 Testing rounds:\n",
      "Training loss: -56505.21 | Validation accuracy: 84.51% | Validation Demographic disparity: 0.4567\n",
      "\n",
      " | Testing Round : 28 | constraint :  Cov(z, d) > -c\n",
      "\n"
     ]
    },
    {
     "name": "stderr",
     "output_type": "stream",
     "text": [
      " 29%|██▉       | 29/100 [00:03<00:08,  8.49it/s]"
     ]
    },
    {
     "name": "stdout",
     "output_type": "stream",
     "text": [
      "Client 1: accuracy loss: 3.46 | fairness loss 96300.75 | Demographic disparity = 0.61\n",
      "Client 2: accuracy loss: 2.27 | fairness loss 161832.07 | Demographic disparity = 0.39\n",
      "Client 3: accuracy loss: 3.11 | fairness loss 134596.17 | Demographic disparity = 0.43\n",
      " \n",
      "Avg Training Stats after 28 Testing rounds:\n",
      "Training loss: -56402.52 | Validation accuracy: 84.51% | Validation Demographic disparity: 0.4567\n",
      "\n",
      " | Testing Round : 29 | constraint :  Cov(z, d) > -c\n",
      "\n",
      "Client 1: accuracy loss: 3.46 | fairness loss 98794.52 | Demographic disparity = 0.61\n",
      "Client 2: accuracy loss: 2.28 | fairness loss 166130.86 | Demographic disparity = 0.39\n",
      "Client 3: accuracy loss: 3.11 | fairness loss 138129.36 | Demographic disparity = 0.43\n",
      " \n",
      "Avg Training Stats after 29 Testing rounds:\n",
      "Training loss: -56312.35 | Validation accuracy: 84.51% | Validation Demographic disparity: 0.4567\n",
      "\n",
      " | Testing Round : 30 | constraint :  Cov(z, d) > -c\n",
      "\n"
     ]
    },
    {
     "name": "stderr",
     "output_type": "stream",
     "text": [
      " 31%|███       | 31/100 [00:03<00:08,  8.28it/s]"
     ]
    },
    {
     "name": "stdout",
     "output_type": "stream",
     "text": [
      "Client 1: accuracy loss: 3.47 | fairness loss 101477.01 | Demographic disparity = 0.61\n",
      "Client 2: accuracy loss: 2.28 | fairness loss 170691.25 | Demographic disparity = 0.39\n",
      "Client 3: accuracy loss: 3.12 | fairness loss 141875.29 | Demographic disparity = 0.43\n",
      " \n",
      "Avg Training Stats after 30 Testing rounds:\n",
      "Training loss: -56234.42 | Validation accuracy: 84.51% | Validation Demographic disparity: 0.4567\n",
      "\n",
      " | Testing Round : 31 | constraint :  Cov(z, d) > -c\n",
      "\n",
      "Client 1: accuracy loss: 3.48 | fairness loss 104350.16 | Demographic disparity = 0.61\n",
      "Client 2: accuracy loss: 2.28 | fairness loss 175515.99 | Demographic disparity = 0.39\n",
      "Client 3: accuracy loss: 3.12 | fairness loss 145836.22 | Demographic disparity = 0.43\n",
      " \n",
      "Avg Training Stats after 31 Testing rounds:\n",
      "Training loss: -56168.46 | Validation accuracy: 84.51% | Validation Demographic disparity: 0.4567\n",
      "\n",
      " | Testing Round : 32 | constraint :  Cov(z, d) > -c\n",
      "\n"
     ]
    },
    {
     "name": "stderr",
     "output_type": "stream",
     "text": [
      " 33%|███▎      | 33/100 [00:03<00:07,  8.58it/s]"
     ]
    },
    {
     "name": "stdout",
     "output_type": "stream",
     "text": [
      "Client 1: accuracy loss: 3.49 | fairness loss 107415.80 | Demographic disparity = 0.61\n",
      "Client 2: accuracy loss: 2.28 | fairness loss 180607.61 | Demographic disparity = 0.39\n",
      "Client 3: accuracy loss: 3.13 | fairness loss 150014.21 | Demographic disparity = 0.43\n",
      " \n",
      "Avg Training Stats after 32 Testing rounds:\n",
      "Training loss: -56114.19 | Validation accuracy: 84.51% | Validation Demographic disparity: 0.4567\n",
      "\n",
      " | Testing Round : 33 | constraint :  Cov(z, d) > -c\n",
      "\n",
      "Client 1: accuracy loss: 3.50 | fairness loss 110675.63 | Demographic disparity = 0.61\n",
      "Client 2: accuracy loss: 2.29 | fairness loss 185968.54 | Demographic disparity = 0.39\n",
      "Client 3: accuracy loss: 3.14 | fairness loss 154411.26 | Demographic disparity = 0.43\n",
      " \n",
      "Avg Training Stats after 33 Testing rounds:\n",
      "Training loss: -56071.36 | Validation accuracy: 84.51% | Validation Demographic disparity: 0.4567\n",
      "\n",
      " | Testing Round : 34 | constraint :  Cov(z, d) > -c\n",
      "\n"
     ]
    },
    {
     "name": "stderr",
     "output_type": "stream",
     "text": [
      " 35%|███▌      | 35/100 [00:04<00:07,  8.88it/s]"
     ]
    },
    {
     "name": "stdout",
     "output_type": "stream",
     "text": [
      "Client 1: accuracy loss: 3.50 | fairness loss 114131.27 | Demographic disparity = 0.61\n",
      "Client 2: accuracy loss: 2.29 | fairness loss 191601.06 | Demographic disparity = 0.39\n",
      "Client 3: accuracy loss: 3.14 | fairness loss 159029.20 | Demographic disparity = 0.43\n",
      " \n",
      "Avg Training Stats after 34 Testing rounds:\n",
      "Training loss: -56039.72 | Validation accuracy: 84.51% | Validation Demographic disparity: 0.4567\n",
      "\n",
      " | Testing Round : 35 | constraint :  Cov(z, d) > -c\n",
      "\n",
      "Client 1: accuracy loss: 3.51 | fairness loss 117784.25 | Demographic disparity = 0.61\n",
      "Client 2: accuracy loss: 2.29 | fairness loss 197507.32 | Demographic disparity = 0.39\n",
      "Client 3: accuracy loss: 3.15 | fairness loss 163869.85 | Demographic disparity = 0.43\n",
      " \n",
      "Avg Training Stats after 35 Testing rounds:\n",
      "Training loss: -56019.03 | Validation accuracy: 84.51% | Validation Demographic disparity: 0.4567\n",
      "\n",
      " | Testing Round : 36 | constraint :  Cov(z, d) > -c\n",
      "\n"
     ]
    },
    {
     "name": "stderr",
     "output_type": "stream",
     "text": [
      " 37%|███▋      | 37/100 [00:04<00:07,  8.67it/s]"
     ]
    },
    {
     "name": "stdout",
     "output_type": "stream",
     "text": [
      "Client 1: accuracy loss: 3.52 | fairness loss 121636.01 | Demographic disparity = 0.61\n",
      "Client 2: accuracy loss: 2.29 | fairness loss 203689.35 | Demographic disparity = 0.39\n",
      "Client 3: accuracy loss: 3.16 | fairness loss 168934.80 | Demographic disparity = 0.43\n",
      " \n",
      "Avg Training Stats after 36 Testing rounds:\n",
      "Training loss: -56009.04 | Validation accuracy: 84.51% | Validation Demographic disparity: 0.4567\n",
      "\n",
      " | Testing Round : 37 | constraint :  Cov(z, d) > -c\n",
      "\n",
      "Client 1: accuracy loss: 3.53 | fairness loss 125687.95 | Demographic disparity = 0.61\n",
      "Client 2: accuracy loss: 2.30 | fairness loss 210149.16 | Demographic disparity = 0.39\n",
      "Client 3: accuracy loss: 3.16 | fairness loss 174225.72 | Demographic disparity = 0.43\n",
      " \n",
      "Avg Training Stats after 37 Testing rounds:\n",
      "Training loss: -56009.54 | Validation accuracy: 84.51% | Validation Demographic disparity: 0.4567\n",
      "\n",
      " | Testing Round : 38 | constraint :  Cov(z, d) > -c\n",
      "\n"
     ]
    },
    {
     "name": "stderr",
     "output_type": "stream",
     "text": [
      " 39%|███▉      | 39/100 [00:04<00:06,  8.79it/s]"
     ]
    },
    {
     "name": "stdout",
     "output_type": "stream",
     "text": [
      "Client 1: accuracy loss: 3.53 | fairness loss 129941.37 | Demographic disparity = 0.61\n",
      "Client 2: accuracy loss: 2.30 | fairness loss 216888.55 | Demographic disparity = 0.39\n",
      "Client 3: accuracy loss: 3.17 | fairness loss 179744.08 | Demographic disparity = 0.43\n",
      " \n",
      "Avg Training Stats after 38 Testing rounds:\n",
      "Training loss: -56020.30 | Validation accuracy: 84.51% | Validation Demographic disparity: 0.4567\n",
      "\n",
      " | Testing Round : 39 | constraint :  Cov(z, d) > -c\n",
      "\n",
      "Client 1: accuracy loss: 3.54 | fairness loss 134397.51 | Demographic disparity = 0.61\n",
      "Client 2: accuracy loss: 2.30 | fairness loss 223909.31 | Demographic disparity = 0.39\n",
      "Client 3: accuracy loss: 3.18 | fairness loss 185491.36 | Demographic disparity = 0.43\n",
      " \n",
      "Avg Training Stats after 39 Testing rounds:\n",
      "Training loss: -56041.10 | Validation accuracy: 84.51% | Validation Demographic disparity: 0.4567\n",
      "\n",
      " | Testing Round : 40 | constraint :  Cov(z, d) > -c\n",
      "\n"
     ]
    },
    {
     "name": "stderr",
     "output_type": "stream",
     "text": [
      " 41%|████      | 41/100 [00:04<00:07,  8.27it/s]"
     ]
    },
    {
     "name": "stdout",
     "output_type": "stream",
     "text": [
      "Client 1: accuracy loss: 3.55 | fairness loss 139057.61 | Demographic disparity = 0.61\n",
      "Client 2: accuracy loss: 2.31 | fairness loss 231213.16 | Demographic disparity = 0.39\n",
      "Client 3: accuracy loss: 3.18 | fairness loss 191468.96 | Demographic disparity = 0.43\n",
      " \n",
      "Avg Training Stats after 40 Testing rounds:\n",
      "Training loss: -56071.73 | Validation accuracy: 84.51% | Validation Demographic disparity: 0.4567\n",
      "\n",
      " | Testing Round : 41 | constraint :  Cov(z, d) > -c\n",
      "\n",
      "Client 1: accuracy loss: 3.56 | fairness loss 143922.78 | Demographic disparity = 0.61\n",
      "Client 2: accuracy loss: 2.31 | fairness loss 238801.69 | Demographic disparity = 0.39\n",
      "Client 3: accuracy loss: 3.19 | fairness loss 197678.18 | Demographic disparity = 0.43\n",
      " \n",
      "Avg Training Stats after 41 Testing rounds:\n",
      "Training loss: -56112.00 | Validation accuracy: 84.51% | Validation Demographic disparity: 0.4567\n",
      "\n",
      " | Testing Round : 42 | constraint :  Cov(z, d) > -c\n",
      "\n"
     ]
    },
    {
     "name": "stderr",
     "output_type": "stream",
     "text": [
      " 43%|████▎     | 43/100 [00:05<00:07,  8.06it/s]"
     ]
    },
    {
     "name": "stdout",
     "output_type": "stream",
     "text": [
      "Client 1: accuracy loss: 3.57 | fairness loss 148994.13 | Demographic disparity = 0.61\n",
      "Client 2: accuracy loss: 2.31 | fairness loss 246676.47 | Demographic disparity = 0.39\n",
      "Client 3: accuracy loss: 3.19 | fairness loss 204120.28 | Demographic disparity = 0.43\n",
      " \n",
      "Avg Training Stats after 42 Testing rounds:\n",
      "Training loss: -56161.69 | Validation accuracy: 84.51% | Validation Demographic disparity: 0.4567\n",
      "\n",
      " | Testing Round : 43 | constraint :  Cov(z, d) > -c\n",
      "\n",
      "Client 1: accuracy loss: 3.57 | fairness loss 154272.73 | Demographic disparity = 0.61\n",
      "Client 2: accuracy loss: 2.32 | fairness loss 254839.01 | Demographic disparity = 0.39\n",
      "Client 3: accuracy loss: 3.20 | fairness loss 210796.54 | Demographic disparity = 0.43\n",
      " \n",
      "Avg Training Stats after 43 Testing rounds:\n",
      "Training loss: -56220.62 | Validation accuracy: 84.51% | Validation Demographic disparity: 0.4567\n",
      "\n",
      " | Testing Round : 44 | constraint :  Cov(z, d) > -c\n",
      "\n"
     ]
    },
    {
     "name": "stderr",
     "output_type": "stream",
     "text": [
      " 45%|████▌     | 45/100 [00:05<00:06,  8.26it/s]"
     ]
    },
    {
     "name": "stdout",
     "output_type": "stream",
     "text": [
      "Client 1: accuracy loss: 3.58 | fairness loss 159759.63 | Demographic disparity = 0.61\n",
      "Client 2: accuracy loss: 2.32 | fairness loss 263290.80 | Demographic disparity = 0.39\n",
      "Client 3: accuracy loss: 3.21 | fairness loss 217708.13 | Demographic disparity = 0.43\n",
      " \n",
      "Avg Training Stats after 44 Testing rounds:\n",
      "Training loss: -56288.61 | Validation accuracy: 84.51% | Validation Demographic disparity: 0.4567\n",
      "\n",
      " | Testing Round : 45 | constraint :  Cov(z, d) > -c\n",
      "\n",
      "Client 1: accuracy loss: 3.59 | fairness loss 165455.77 | Demographic disparity = 0.61\n",
      "Client 2: accuracy loss: 2.32 | fairness loss 272033.20 | Demographic disparity = 0.39\n",
      "Client 3: accuracy loss: 3.21 | fairness loss 224856.22 | Demographic disparity = 0.43\n",
      " \n",
      "Avg Training Stats after 45 Testing rounds:\n",
      "Training loss: -56365.46 | Validation accuracy: 84.51% | Validation Demographic disparity: 0.4567\n",
      "\n",
      " | Testing Round : 46 | constraint :  Cov(z, d) > -c\n",
      "\n"
     ]
    },
    {
     "name": "stderr",
     "output_type": "stream",
     "text": [
      " 47%|████▋     | 47/100 [00:05<00:06,  8.67it/s]"
     ]
    },
    {
     "name": "stdout",
     "output_type": "stream",
     "text": [
      "Client 1: accuracy loss: 3.60 | fairness loss 171362.14 | Demographic disparity = 0.61\n",
      "Client 2: accuracy loss: 2.32 | fairness loss 281067.55 | Demographic disparity = 0.39\n",
      "Client 3: accuracy loss: 3.22 | fairness loss 232241.86 | Demographic disparity = 0.43\n",
      " \n",
      "Avg Training Stats after 46 Testing rounds:\n",
      "Training loss: -56451.00 | Validation accuracy: 84.51% | Validation Demographic disparity: 0.4567\n",
      "\n",
      " | Testing Round : 47 | constraint :  Cov(z, d) > -c\n",
      "\n",
      "Client 1: accuracy loss: 3.61 | fairness loss 177479.66 | Demographic disparity = 0.61\n",
      "Client 2: accuracy loss: 2.33 | fairness loss 290395.22 | Demographic disparity = 0.39\n",
      "Client 3: accuracy loss: 3.23 | fairness loss 239866.19 | Demographic disparity = 0.43\n",
      " \n",
      "Avg Training Stats after 47 Testing rounds:\n",
      "Training loss: -56545.07 | Validation accuracy: 84.51% | Validation Demographic disparity: 0.4567\n",
      "\n",
      " | Testing Round : 48 | constraint :  Cov(z, d) > -c\n",
      "\n"
     ]
    },
    {
     "name": "stderr",
     "output_type": "stream",
     "text": [
      " 49%|████▉     | 49/100 [00:05<00:05,  8.58it/s]"
     ]
    },
    {
     "name": "stdout",
     "output_type": "stream",
     "text": [
      "Client 1: accuracy loss: 3.61 | fairness loss 183809.25 | Demographic disparity = 0.61\n",
      "Client 2: accuracy loss: 2.33 | fairness loss 300017.47 | Demographic disparity = 0.39\n",
      "Client 3: accuracy loss: 3.23 | fairness loss 247730.23 | Demographic disparity = 0.43\n",
      " \n",
      "Avg Training Stats after 48 Testing rounds:\n",
      "Training loss: -56647.49 | Validation accuracy: 84.51% | Validation Demographic disparity: 0.4567\n",
      "\n",
      " | Testing Round : 49 | constraint :  Cov(z, d) > -c\n",
      "\n",
      "Client 1: accuracy loss: 3.62 | fairness loss 190351.73 | Demographic disparity = 0.61\n",
      "Client 2: accuracy loss: 2.33 | fairness loss 309935.47 | Demographic disparity = 0.39\n",
      "Client 3: accuracy loss: 3.24 | fairness loss 255834.97 | Demographic disparity = 0.43\n",
      " \n",
      "Avg Training Stats after 49 Testing rounds:\n",
      "Training loss: -56758.10 | Validation accuracy: 84.51% | Validation Demographic disparity: 0.4567\n",
      "\n",
      " | Testing Round : 50 | constraint :  Cov(z, d) > -c\n",
      "\n"
     ]
    },
    {
     "name": "stderr",
     "output_type": "stream",
     "text": [
      " 51%|█████     | 51/100 [00:06<00:05,  8.44it/s]"
     ]
    },
    {
     "name": "stdout",
     "output_type": "stream",
     "text": [
      "Client 1: accuracy loss: 3.63 | fairness loss 197107.96 | Demographic disparity = 0.61\n",
      "Client 2: accuracy loss: 2.34 | fairness loss 320150.46 | Demographic disparity = 0.39\n",
      "Client 3: accuracy loss: 3.25 | fairness loss 264181.39 | Demographic disparity = 0.43\n",
      " \n",
      "Avg Training Stats after 50 Testing rounds:\n",
      "Training loss: -56876.74 | Validation accuracy: 84.51% | Validation Demographic disparity: 0.4567\n",
      "\n",
      " | Testing Round : 51 | constraint :  Cov(z, d) > -c\n",
      "\n",
      "Client 1: accuracy loss: 3.64 | fairness loss 204078.80 | Demographic disparity = 0.61\n",
      "Client 2: accuracy loss: 2.34 | fairness loss 330663.59 | Demographic disparity = 0.39\n",
      "Client 3: accuracy loss: 3.25 | fairness loss 272770.41 | Demographic disparity = 0.43\n",
      " \n",
      "Avg Training Stats after 51 Testing rounds:\n",
      "Training loss: -57003.25 | Validation accuracy: 84.51% | Validation Demographic disparity: 0.4567\n",
      "\n",
      " | Testing Round : 52 | constraint :  Cov(z, d) > -c\n",
      "\n"
     ]
    },
    {
     "name": "stderr",
     "output_type": "stream",
     "text": [
      " 53%|█████▎    | 53/100 [00:06<00:05,  8.45it/s]"
     ]
    },
    {
     "name": "stdout",
     "output_type": "stream",
     "text": [
      "Client 1: accuracy loss: 3.65 | fairness loss 211264.98 | Demographic disparity = 0.61\n",
      "Client 2: accuracy loss: 2.34 | fairness loss 341475.98 | Demographic disparity = 0.39\n",
      "Client 3: accuracy loss: 3.26 | fairness loss 281603.02 | Demographic disparity = 0.43\n",
      " \n",
      "Avg Training Stats after 52 Testing rounds:\n",
      "Training loss: -57137.50 | Validation accuracy: 84.51% | Validation Demographic disparity: 0.4567\n",
      "\n",
      " | Testing Round : 53 | constraint :  Cov(z, d) > -c\n",
      "\n",
      "Client 1: accuracy loss: 3.65 | fairness loss 218667.30 | Demographic disparity = 0.61\n",
      "Client 2: accuracy loss: 2.35 | fairness loss 352588.68 | Demographic disparity = 0.39\n",
      "Client 3: accuracy loss: 3.27 | fairness loss 290680.01 | Demographic disparity = 0.43\n",
      " \n",
      "Avg Training Stats after 53 Testing rounds:\n",
      "Training loss: -57279.32 | Validation accuracy: 84.51% | Validation Demographic disparity: 0.4567\n",
      "\n",
      " | Testing Round : 54 | constraint :  Cov(z, d) > -c\n",
      "\n"
     ]
    },
    {
     "name": "stderr",
     "output_type": "stream",
     "text": [
      " 55%|█████▌    | 55/100 [00:06<00:05,  8.33it/s]"
     ]
    },
    {
     "name": "stdout",
     "output_type": "stream",
     "text": [
      "Client 1: accuracy loss: 3.66 | fairness loss 226286.58 | Demographic disparity = 0.61\n",
      "Client 2: accuracy loss: 2.35 | fairness loss 364002.88 | Demographic disparity = 0.39\n",
      "Client 3: accuracy loss: 3.27 | fairness loss 300002.38 | Demographic disparity = 0.43\n",
      " \n",
      "Avg Training Stats after 54 Testing rounds:\n",
      "Training loss: -57428.58 | Validation accuracy: 84.51% | Validation Demographic disparity: 0.4567\n",
      "\n",
      " | Testing Round : 55 | constraint :  Cov(z, d) > -c\n",
      "\n",
      "Client 1: accuracy loss: 3.67 | fairness loss 234123.46 | Demographic disparity = 0.61\n",
      "Client 2: accuracy loss: 2.35 | fairness loss 375719.49 | Demographic disparity = 0.39\n",
      "Client 3: accuracy loss: 3.28 | fairness loss 309570.84 | Demographic disparity = 0.43\n",
      " \n",
      "Avg Training Stats after 55 Testing rounds:\n",
      "Training loss: -57585.13 | Validation accuracy: 84.51% | Validation Demographic disparity: 0.4567\n",
      "\n",
      " | Testing Round : 56 | constraint :  Cov(z, d) > -c\n",
      "\n"
     ]
    },
    {
     "name": "stderr",
     "output_type": "stream",
     "text": [
      " 57%|█████▋    | 57/100 [00:06<00:05,  7.67it/s]"
     ]
    },
    {
     "name": "stdout",
     "output_type": "stream",
     "text": [
      "Client 1: accuracy loss: 3.68 | fairness loss 242178.74 | Demographic disparity = 0.61\n",
      "Client 2: accuracy loss: 2.36 | fairness loss 387739.63 | Demographic disparity = 0.39\n",
      "Client 3: accuracy loss: 3.29 | fairness loss 319386.34 | Demographic disparity = 0.43\n",
      " \n",
      "Avg Training Stats after 56 Testing rounds:\n",
      "Training loss: -57748.85 | Validation accuracy: 84.51% | Validation Demographic disparity: 0.4567\n",
      "\n",
      " | Testing Round : 57 | constraint :  Cov(z, d) > -c\n",
      "\n",
      "Client 1: accuracy loss: 3.69 | fairness loss 250453.14 | Demographic disparity = 0.61\n",
      "Client 2: accuracy loss: 2.36 | fairness loss 400064.26 | Demographic disparity = 0.39\n",
      "Client 3: accuracy loss: 3.30 | fairness loss 329449.63 | Demographic disparity = 0.43\n",
      " \n",
      "Avg Training Stats after 57 Testing rounds:\n",
      "Training loss: -57919.60 | Validation accuracy: 84.51% | Validation Demographic disparity: 0.4567\n",
      "\n",
      " | Testing Round : 58 | constraint :  Cov(z, d) > -c\n",
      "\n"
     ]
    },
    {
     "name": "stderr",
     "output_type": "stream",
     "text": [
      "\r",
      " 58%|█████▊    | 58/100 [00:07<00:06,  6.43it/s]"
     ]
    },
    {
     "name": "stdout",
     "output_type": "stream",
     "text": [
      "Client 1: accuracy loss: 3.70 | fairness loss 258947.38 | Demographic disparity = 0.61\n",
      "Client 2: accuracy loss: 2.36 | fairness loss 412694.49 | Demographic disparity = 0.39\n",
      "Client 3: accuracy loss: 3.30 | fairness loss 339761.56 | Demographic disparity = 0.43\n",
      " \n",
      "Avg Training Stats after 58 Testing rounds:\n",
      "Training loss: -58097.25 | Validation accuracy: 84.51% | Validation Demographic disparity: 0.4567\n",
      "\n",
      " | Testing Round : 59 | constraint :  Cov(z, d) > -c\n",
      "\n",
      "Client 1: accuracy loss: 3.70 | fairness loss 267662.26 | Demographic disparity = 0.61\n"
     ]
    },
    {
     "name": "stderr",
     "output_type": "stream",
     "text": [
      " 60%|██████    | 60/100 [00:07<00:06,  5.98it/s]"
     ]
    },
    {
     "name": "stdout",
     "output_type": "stream",
     "text": [
      "Client 2: accuracy loss: 2.37 | fairness loss 425631.35 | Demographic disparity = 0.39\n",
      "Client 3: accuracy loss: 3.31 | fairness loss 350322.91 | Demographic disparity = 0.43\n",
      " \n",
      "Avg Training Stats after 59 Testing rounds:\n",
      "Training loss: -58281.68 | Validation accuracy: 84.51% | Validation Demographic disparity: 0.4567\n",
      "\n",
      " | Testing Round : 60 | constraint :  Cov(z, d) > -c\n",
      "\n",
      "Client 1: accuracy loss: 3.71 | fairness loss 276598.84 | Demographic disparity = 0.61\n",
      "Client 2: accuracy loss: 2.37 | fairness loss 438876.31 | Demographic disparity = 0.39\n",
      "Client 3: accuracy loss: 3.32 | fairness loss 361134.73 | Demographic disparity = 0.43\n",
      " \n",
      "Avg Training Stats after 60 Testing rounds:\n",
      "Training loss: -58472.76 | Validation accuracy: 84.51% | Validation Demographic disparity: 0.4567\n",
      "\n",
      " | Testing Round : 61 | constraint :  Cov(z, d) > -c\n",
      "\n"
     ]
    },
    {
     "name": "stderr",
     "output_type": "stream",
     "text": [
      "\r",
      " 61%|██████    | 61/100 [00:07<00:06,  5.98it/s]"
     ]
    },
    {
     "name": "stdout",
     "output_type": "stream",
     "text": [
      "Client 1: accuracy loss: 3.72 | fairness loss 285763.29 | Demographic disparity = 0.61\n",
      "Client 2: accuracy loss: 2.37 | fairness loss 452435.05 | Demographic disparity = 0.39\n",
      "Client 3: accuracy loss: 3.32 | fairness loss 372195.01 | Demographic disparity = 0.43\n",
      " \n",
      "Avg Training Stats after 61 Testing rounds:\n",
      "Training loss: -58670.38 | Validation accuracy: 84.51% | Validation Demographic disparity: 0.4567\n",
      "\n",
      " | Testing Round : 62 | constraint :  Cov(z, d) > -c\n",
      "\n",
      "Client 1: accuracy loss: 3.72 | fairness loss 295161.81 | Demographic disparity = 0.61\n",
      "Client 2: accuracy loss: 2.38 | fairness loss 466324.07 | Demographic disparity = 0.39\n"
     ]
    },
    {
     "name": "stderr",
     "output_type": "stream",
     "text": [
      "\r",
      " 62%|██████▏   | 62/100 [00:07<00:06,  5.89it/s]"
     ]
    },
    {
     "name": "stdout",
     "output_type": "stream",
     "text": [
      "Client 3: accuracy loss: 3.33 | fairness loss 383524.04 | Demographic disparity = 0.43\n",
      " \n",
      "Avg Training Stats after 62 Testing rounds:\n",
      "Training loss: -58874.41 | Validation accuracy: 84.51% | Validation Demographic disparity: 0.4567\n",
      "\n",
      " | Testing Round : 63 | constraint :  Cov(z, d) > -c\n",
      "\n",
      "Client 1: accuracy loss: 3.73 | fairness loss 304795.78 | Demographic disparity = 0.61\n",
      "Client 2: accuracy loss: 2.38 | fairness loss 480545.53 | Demographic disparity = 0.39\n"
     ]
    },
    {
     "name": "stderr",
     "output_type": "stream",
     "text": [
      "\r",
      " 63%|██████▎   | 63/100 [00:08<00:06,  5.36it/s]"
     ]
    },
    {
     "name": "stdout",
     "output_type": "stream",
     "text": [
      "Client 3: accuracy loss: 3.33 | fairness loss 395123.62 | Demographic disparity = 0.43\n",
      " \n",
      "Avg Training Stats after 63 Testing rounds:\n",
      "Training loss: -59084.75 | Validation accuracy: 84.51% | Validation Demographic disparity: 0.4567\n",
      "\n",
      " | Testing Round : 64 | constraint :  Cov(z, d) > -c\n",
      "\n"
     ]
    },
    {
     "name": "stderr",
     "output_type": "stream",
     "text": [
      "\r",
      " 64%|██████▍   | 64/100 [00:08<00:08,  4.05it/s]"
     ]
    },
    {
     "name": "stdout",
     "output_type": "stream",
     "text": [
      "Client 1: accuracy loss: 3.74 | fairness loss 314666.64 | Demographic disparity = 0.61\n",
      "Client 2: accuracy loss: 2.39 | fairness loss 495101.89 | Demographic disparity = 0.39\n",
      "Client 3: accuracy loss: 3.34 | fairness loss 406995.68 | Demographic disparity = 0.43\n",
      " \n",
      "Avg Training Stats after 64 Testing rounds:\n",
      "Training loss: -59301.29 | Validation accuracy: 84.51% | Validation Demographic disparity: 0.4567\n",
      "\n",
      " | Testing Round : 65 | constraint :  Cov(z, d) > -c\n",
      "\n"
     ]
    },
    {
     "name": "stderr",
     "output_type": "stream",
     "text": [
      " 66%|██████▌   | 66/100 [00:08<00:06,  5.19it/s]"
     ]
    },
    {
     "name": "stdout",
     "output_type": "stream",
     "text": [
      "Client 1: accuracy loss: 3.74 | fairness loss 324775.90 | Demographic disparity = 0.61\n",
      "Client 2: accuracy loss: 2.39 | fairness loss 509995.50 | Demographic disparity = 0.39\n",
      "Client 3: accuracy loss: 3.34 | fairness loss 419142.22 | Demographic disparity = 0.43\n",
      " \n",
      "Avg Training Stats after 65 Testing rounds:\n",
      "Training loss: -59523.91 | Validation accuracy: 84.51% | Validation Demographic disparity: 0.4567\n",
      "\n",
      " | Testing Round : 66 | constraint :  Cov(z, d) > -c\n",
      "\n",
      "Client 1: accuracy loss: 3.75 | fairness loss 335124.97 | Demographic disparity = 0.61\n",
      "Client 2: accuracy loss: 2.39 | fairness loss 525228.64 | Demographic disparity = 0.39\n",
      "Client 3: accuracy loss: 3.35 | fairness loss 431565.02 | Demographic disparity = 0.43\n",
      " \n",
      "Avg Training Stats after 66 Testing rounds:\n",
      "Training loss: -59752.52 | Validation accuracy: 84.51% | Validation Demographic disparity: 0.4567\n",
      "\n",
      " | Testing Round : 67 | constraint :  Cov(z, d) > -c\n",
      "\n"
     ]
    },
    {
     "name": "stderr",
     "output_type": "stream",
     "text": [
      " 68%|██████▊   | 68/100 [00:09<00:05,  5.81it/s]"
     ]
    },
    {
     "name": "stdout",
     "output_type": "stream",
     "text": [
      "Client 1: accuracy loss: 3.75 | fairness loss 345715.12 | Demographic disparity = 0.61\n",
      "Client 2: accuracy loss: 2.40 | fairness loss 540803.38 | Demographic disparity = 0.39\n",
      "Client 3: accuracy loss: 3.36 | fairness loss 444265.92 | Demographic disparity = 0.43\n",
      " \n",
      "Avg Training Stats after 67 Testing rounds:\n",
      "Training loss: -59987.00 | Validation accuracy: 84.51% | Validation Demographic disparity: 0.4567\n",
      "\n",
      " | Testing Round : 68 | constraint :  Cov(z, d) > -c\n",
      "\n",
      "Client 1: accuracy loss: 3.76 | fairness loss 356547.47 | Demographic disparity = 0.61\n",
      "Client 2: accuracy loss: 2.40 | fairness loss 556721.50 | Demographic disparity = 0.39\n",
      "Client 3: accuracy loss: 3.36 | fairness loss 457246.43 | Demographic disparity = 0.43\n",
      " \n",
      "Avg Training Stats after 68 Testing rounds:\n",
      "Training loss: -60227.26 | Validation accuracy: 84.51% | Validation Demographic disparity: 0.4567\n",
      "\n",
      " | Testing Round : 69 | constraint :  Cov(z, d) > -c\n",
      "\n"
     ]
    },
    {
     "name": "stderr",
     "output_type": "stream",
     "text": [
      " 70%|███████   | 70/100 [00:09<00:04,  6.70it/s]"
     ]
    },
    {
     "name": "stdout",
     "output_type": "stream",
     "text": [
      "Client 1: accuracy loss: 3.76 | fairness loss 367623.15 | Demographic disparity = 0.61\n",
      "Client 2: accuracy loss: 2.41 | fairness loss 572984.82 | Demographic disparity = 0.39\n",
      "Client 3: accuracy loss: 3.37 | fairness loss 470507.95 | Demographic disparity = 0.43\n",
      " \n",
      "Avg Training Stats after 69 Testing rounds:\n",
      "Training loss: -60473.20 | Validation accuracy: 84.51% | Validation Demographic disparity: 0.4567\n",
      "\n",
      " | Testing Round : 70 | constraint :  Cov(z, d) > -c\n",
      "\n",
      "Client 1: accuracy loss: 3.77 | fairness loss 378943.16 | Demographic disparity = 0.61\n",
      "Client 2: accuracy loss: 2.41 | fairness loss 589594.80 | Demographic disparity = 0.39\n",
      "Client 3: accuracy loss: 3.37 | fairness loss 484051.82 | Demographic disparity = 0.43\n",
      " \n",
      "Avg Training Stats after 70 Testing rounds:\n",
      "Training loss: -60724.73 | Validation accuracy: 84.51% | Validation Demographic disparity: 0.4567\n",
      "\n",
      " | Testing Round : 71 | constraint :  Cov(z, d) > -c\n",
      "\n"
     ]
    },
    {
     "name": "stderr",
     "output_type": "stream",
     "text": [
      " 72%|███████▏  | 72/100 [00:09<00:03,  7.08it/s]"
     ]
    },
    {
     "name": "stdout",
     "output_type": "stream",
     "text": [
      "Client 1: accuracy loss: 3.77 | fairness loss 390508.43 | Demographic disparity = 0.61\n",
      "Client 2: accuracy loss: 2.41 | fairness loss 606552.95 | Demographic disparity = 0.39\n",
      "Client 3: accuracy loss: 3.38 | fairness loss 497879.27 | Demographic disparity = 0.43\n",
      " \n",
      "Avg Training Stats after 71 Testing rounds:\n",
      "Training loss: -60981.75 | Validation accuracy: 84.51% | Validation Demographic disparity: 0.4567\n",
      "\n",
      " | Testing Round : 72 | constraint :  Cov(z, d) > -c\n",
      "\n",
      "Client 1: accuracy loss: 3.78 | fairness loss 402319.81 | Demographic disparity = 0.61\n",
      "Client 2: accuracy loss: 2.42 | fairness loss 623860.56 | Demographic disparity = 0.39\n",
      "Client 3: accuracy loss: 3.38 | fairness loss 511991.35 | Demographic disparity = 0.43\n",
      " \n",
      "Avg Training Stats after 72 Testing rounds:\n",
      "Training loss: -61244.17 | Validation accuracy: 84.51% | Validation Demographic disparity: 0.4567\n",
      "\n",
      " | Testing Round : 73 | constraint :  Cov(z, d) > -c\n",
      "\n"
     ]
    },
    {
     "name": "stderr",
     "output_type": "stream",
     "text": [
      " 74%|███████▍  | 74/100 [00:09<00:03,  7.48it/s]"
     ]
    },
    {
     "name": "stdout",
     "output_type": "stream",
     "text": [
      "Client 1: accuracy loss: 3.79 | fairness loss 414378.11 | Demographic disparity = 0.61\n",
      "Client 2: accuracy loss: 2.42 | fairness loss 641518.71 | Demographic disparity = 0.39\n",
      "Client 3: accuracy loss: 3.39 | fairness loss 526389.02 | Demographic disparity = 0.43\n",
      " \n",
      "Avg Training Stats after 73 Testing rounds:\n",
      "Training loss: -61511.89 | Validation accuracy: 84.51% | Validation Demographic disparity: 0.4567\n",
      "\n",
      " | Testing Round : 74 | constraint :  Cov(z, d) > -c\n",
      "\n",
      "Client 1: accuracy loss: 3.79 | fairness loss 426684.06 | Demographic disparity = 0.61\n",
      "Client 2: accuracy loss: 2.43 | fairness loss 659528.70 | Demographic disparity = 0.39\n",
      "Client 3: accuracy loss: 3.39 | fairness loss 541073.29 | Demographic disparity = 0.43\n",
      " \n",
      "Avg Training Stats after 74 Testing rounds:\n",
      "Training loss: -61784.85 | Validation accuracy: 84.51% | Validation Demographic disparity: 0.4567\n",
      "\n",
      " | Testing Round : 75 | constraint :  Cov(z, d) > -c\n",
      "\n"
     ]
    },
    {
     "name": "stderr",
     "output_type": "stream",
     "text": [
      " 76%|███████▌  | 76/100 [00:10<00:02,  8.23it/s]"
     ]
    },
    {
     "name": "stdout",
     "output_type": "stream",
     "text": [
      "Client 1: accuracy loss: 3.80 | fairness loss 439238.49 | Demographic disparity = 0.61\n",
      "Client 2: accuracy loss: 2.43 | fairness loss 677891.67 | Demographic disparity = 0.39\n",
      "Client 3: accuracy loss: 3.40 | fairness loss 556045.16 | Demographic disparity = 0.43\n",
      " \n",
      "Avg Training Stats after 75 Testing rounds:\n",
      "Training loss: -62062.94 | Validation accuracy: 84.51% | Validation Demographic disparity: 0.4567\n",
      "\n",
      " | Testing Round : 76 | constraint :  Cov(z, d) > -c\n",
      "\n",
      "Client 1: accuracy loss: 3.80 | fairness loss 452042.18 | Demographic disparity = 0.61\n",
      "Client 2: accuracy loss: 2.43 | fairness loss 696608.57 | Demographic disparity = 0.39\n",
      "Client 3: accuracy loss: 3.40 | fairness loss 571305.42 | Demographic disparity = 0.43\n",
      " \n",
      "Avg Training Stats after 76 Testing rounds:\n",
      "Training loss: -62346.08 | Validation accuracy: 84.51% | Validation Demographic disparity: 0.4567\n",
      "\n",
      " | Testing Round : 77 | constraint :  Cov(z, d) > -c\n",
      "\n"
     ]
    },
    {
     "name": "stderr",
     "output_type": "stream",
     "text": [
      " 78%|███████▊  | 78/100 [00:10<00:02,  8.56it/s]"
     ]
    },
    {
     "name": "stdout",
     "output_type": "stream",
     "text": [
      "Client 1: accuracy loss: 3.81 | fairness loss 465095.81 | Demographic disparity = 0.61\n",
      "Client 2: accuracy loss: 2.44 | fairness loss 715680.56 | Demographic disparity = 0.39\n",
      "Client 3: accuracy loss: 3.41 | fairness loss 586854.99 | Demographic disparity = 0.43\n",
      " \n",
      "Avg Training Stats after 77 Testing rounds:\n",
      "Training loss: -62634.20 | Validation accuracy: 84.51% | Validation Demographic disparity: 0.4567\n",
      "\n",
      " | Testing Round : 78 | constraint :  Cov(z, d) > -c\n",
      "\n",
      "Client 1: accuracy loss: 3.81 | fairness loss 478399.99 | Demographic disparity = 0.61\n",
      "Client 2: accuracy loss: 2.44 | fairness loss 735108.58 | Demographic disparity = 0.40\n",
      "Client 3: accuracy loss: 3.41 | fairness loss 602694.68 | Demographic disparity = 0.43\n",
      " \n",
      "Avg Training Stats after 78 Testing rounds:\n",
      "Training loss: -62927.22 | Validation accuracy: 84.84% | Validation Demographic disparity: 0.4600\n",
      "\n",
      " | Testing Round : 79 | constraint :  Cov(z, d) > -c\n",
      "\n"
     ]
    },
    {
     "name": "stderr",
     "output_type": "stream",
     "text": [
      " 80%|████████  | 80/100 [00:10<00:02,  8.40it/s]"
     ]
    },
    {
     "name": "stdout",
     "output_type": "stream",
     "text": [
      "Client 1: accuracy loss: 3.82 | fairness loss 491955.50 | Demographic disparity = 0.61\n",
      "Client 2: accuracy loss: 2.45 | fairness loss 754893.68 | Demographic disparity = 0.40\n",
      "Client 3: accuracy loss: 3.42 | fairness loss 618825.35 | Demographic disparity = 0.43\n",
      " \n",
      "Avg Training Stats after 79 Testing rounds:\n",
      "Training loss: -63225.05 | Validation accuracy: 84.84% | Validation Demographic disparity: 0.4600\n",
      "\n",
      " | Testing Round : 80 | constraint :  Cov(z, d) > -c\n",
      "\n",
      "Client 1: accuracy loss: 3.82 | fairness loss 505763.07 | Demographic disparity = 0.61\n",
      "Client 2: accuracy loss: 2.45 | fairness loss 775036.79 | Demographic disparity = 0.40\n",
      "Client 3: accuracy loss: 3.43 | fairness loss 635247.75 | Demographic disparity = 0.43\n",
      " \n",
      "Avg Training Stats after 80 Testing rounds:\n",
      "Training loss: -63527.62 | Validation accuracy: 84.84% | Validation Demographic disparity: 0.4600\n",
      "\n",
      " | Testing Round : 81 | constraint :  Cov(z, d) > -c\n",
      "\n"
     ]
    },
    {
     "name": "stderr",
     "output_type": "stream",
     "text": [
      " 82%|████████▏ | 82/100 [00:10<00:02,  7.68it/s]"
     ]
    },
    {
     "name": "stdout",
     "output_type": "stream",
     "text": [
      "Client 1: accuracy loss: 3.83 | fairness loss 519823.23 | Demographic disparity = 0.61\n",
      "Client 2: accuracy loss: 2.45 | fairness loss 795538.81 | Demographic disparity = 0.40\n",
      "Client 3: accuracy loss: 3.43 | fairness loss 651962.65 | Demographic disparity = 0.43\n",
      " \n",
      "Avg Training Stats after 81 Testing rounds:\n",
      "Training loss: -63834.86 | Validation accuracy: 84.84% | Validation Demographic disparity: 0.4600\n",
      "\n",
      " | Testing Round : 82 | constraint :  Cov(z, d) > -c\n",
      "\n",
      "Client 1: accuracy loss: 3.83 | fairness loss 534136.65 | Demographic disparity = 0.61\n",
      "Client 2: accuracy loss: 2.46 | fairness loss 816400.62 | Demographic disparity = 0.40\n",
      "Client 3: accuracy loss: 3.44 | fairness loss 668970.79 | Demographic disparity = 0.43\n",
      " \n",
      "Avg Training Stats after 82 Testing rounds:\n",
      "Training loss: -64146.69 | Validation accuracy: 84.84% | Validation Demographic disparity: 0.4600\n",
      "\n",
      " | Testing Round : 83 | constraint :  Cov(z, d) > -c\n",
      "\n"
     ]
    },
    {
     "name": "stderr",
     "output_type": "stream",
     "text": [
      " 84%|████████▍ | 84/100 [00:10<00:01,  8.37it/s]"
     ]
    },
    {
     "name": "stdout",
     "output_type": "stream",
     "text": [
      "Client 1: accuracy loss: 3.84 | fairness loss 548703.98 | Demographic disparity = 0.61\n",
      "Client 2: accuracy loss: 2.46 | fairness loss 837623.28 | Demographic disparity = 0.40\n",
      "Client 3: accuracy loss: 3.44 | fairness loss 686272.88 | Demographic disparity = 0.43\n",
      " \n",
      "Avg Training Stats after 83 Testing rounds:\n",
      "Training loss: -64463.05 | Validation accuracy: 84.84% | Validation Demographic disparity: 0.4600\n",
      "\n",
      " | Testing Round : 84 | constraint :  Cov(z, d) > -c\n",
      "\n",
      "Client 1: accuracy loss: 3.84 | fairness loss 563525.81 | Demographic disparity = 0.61\n",
      "Client 2: accuracy loss: 2.47 | fairness loss 859207.51 | Demographic disparity = 0.40\n",
      "Client 3: accuracy loss: 3.45 | fairness loss 703869.73 | Demographic disparity = 0.43\n",
      " \n",
      "Avg Training Stats after 84 Testing rounds:\n",
      "Training loss: -64783.85 | Validation accuracy: 84.84% | Validation Demographic disparity: 0.4600\n",
      "\n",
      " | Testing Round : 85 | constraint :  Cov(z, d) > -c\n",
      "\n"
     ]
    },
    {
     "name": "stderr",
     "output_type": "stream",
     "text": [
      " 86%|████████▌ | 86/100 [00:11<00:01,  8.71it/s]"
     ]
    },
    {
     "name": "stdout",
     "output_type": "stream",
     "text": [
      "Client 1: accuracy loss: 3.85 | fairness loss 578602.88 | Demographic disparity = 0.61\n",
      "Client 2: accuracy loss: 2.47 | fairness loss 881154.33 | Demographic disparity = 0.40\n",
      "Client 3: accuracy loss: 3.45 | fairness loss 721762.06 | Demographic disparity = 0.43\n",
      " \n",
      "Avg Training Stats after 85 Testing rounds:\n",
      "Training loss: -65109.05 | Validation accuracy: 84.84% | Validation Demographic disparity: 0.4600\n",
      "\n",
      " | Testing Round : 86 | constraint :  Cov(z, d) > -c\n",
      "\n",
      "Client 1: accuracy loss: 3.85 | fairness loss 593935.71 | Demographic disparity = 0.61\n",
      "Client 2: accuracy loss: 2.47 | fairness loss 903464.46 | Demographic disparity = 0.40\n",
      "Client 3: accuracy loss: 3.46 | fairness loss 739950.47 | Demographic disparity = 0.43\n",
      " \n",
      "Avg Training Stats after 86 Testing rounds:\n",
      "Training loss: -65438.56 | Validation accuracy: 84.84% | Validation Demographic disparity: 0.4600\n",
      "\n",
      " | Testing Round : 87 | constraint :  Cov(z, d) > -c\n",
      "\n"
     ]
    },
    {
     "name": "stderr",
     "output_type": "stream",
     "text": [
      " 88%|████████▊ | 88/100 [00:11<00:01,  8.30it/s]"
     ]
    },
    {
     "name": "stdout",
     "output_type": "stream",
     "text": [
      "Client 1: accuracy loss: 3.86 | fairness loss 609524.80 | Demographic disparity = 0.62\n",
      "Client 2: accuracy loss: 2.48 | fairness loss 926138.82 | Demographic disparity = 0.40\n",
      "Client 3: accuracy loss: 3.46 | fairness loss 758435.83 | Demographic disparity = 0.43\n",
      " \n",
      "Avg Training Stats after 87 Testing rounds:\n",
      "Training loss: -65772.33 | Validation accuracy: 85.13% | Validation Demographic disparity: 0.4634\n",
      "\n",
      " | Testing Round : 88 | constraint :  Cov(z, d) > -c\n",
      "\n",
      "Client 1: accuracy loss: 3.86 | fairness loss 625370.94 | Demographic disparity = 0.62\n",
      "Client 2: accuracy loss: 2.48 | fairness loss 949178.22 | Demographic disparity = 0.40\n",
      "Client 3: accuracy loss: 3.47 | fairness loss 777218.53 | Demographic disparity = 0.43\n",
      " \n",
      "Avg Training Stats after 88 Testing rounds:\n",
      "Training loss: -66110.29 | Validation accuracy: 85.13% | Validation Demographic disparity: 0.4634\n",
      "\n",
      " | Testing Round : 89 | constraint :  Cov(z, d) > -c\n",
      "\n"
     ]
    },
    {
     "name": "stderr",
     "output_type": "stream",
     "text": [
      " 90%|█████████ | 90/100 [00:11<00:01,  8.42it/s]"
     ]
    },
    {
     "name": "stdout",
     "output_type": "stream",
     "text": [
      "Client 1: accuracy loss: 3.87 | fairness loss 641474.71 | Demographic disparity = 0.62\n",
      "Client 2: accuracy loss: 2.48 | fairness loss 972583.67 | Demographic disparity = 0.40\n",
      "Client 3: accuracy loss: 3.47 | fairness loss 796299.74 | Demographic disparity = 0.43\n",
      " \n",
      "Avg Training Stats after 89 Testing rounds:\n",
      "Training loss: -66452.37 | Validation accuracy: 85.13% | Validation Demographic disparity: 0.4634\n",
      "\n",
      " | Testing Round : 90 | constraint :  Cov(z, d) > -c\n",
      "\n",
      "Client 1: accuracy loss: 3.87 | fairness loss 657836.54 | Demographic disparity = 0.62\n",
      "Client 2: accuracy loss: 2.49 | fairness loss 996355.72 | Demographic disparity = 0.40\n",
      "Client 3: accuracy loss: 3.48 | fairness loss 815679.59 | Demographic disparity = 0.43\n",
      " \n",
      "Avg Training Stats after 90 Testing rounds:\n",
      "Training loss: -66798.52 | Validation accuracy: 85.13% | Validation Demographic disparity: 0.4634\n",
      "\n",
      " | Testing Round : 91 | constraint :  Cov(z, d) > -c\n",
      "\n"
     ]
    },
    {
     "name": "stderr",
     "output_type": "stream",
     "text": [
      " 92%|█████████▏| 92/100 [00:11<00:00,  8.62it/s]"
     ]
    },
    {
     "name": "stdout",
     "output_type": "stream",
     "text": [
      "Client 1: accuracy loss: 3.88 | fairness loss 674457.12 | Demographic disparity = 0.62\n",
      "Client 2: accuracy loss: 2.49 | fairness loss 1020495.45 | Demographic disparity = 0.40\n",
      "Client 3: accuracy loss: 3.48 | fairness loss 835359.22 | Demographic disparity = 0.43\n",
      " \n",
      "Avg Training Stats after 91 Testing rounds:\n",
      "Training loss: -67148.68 | Validation accuracy: 85.13% | Validation Demographic disparity: 0.4634\n",
      "\n",
      " | Testing Round : 92 | constraint :  Cov(z, d) > -c\n",
      "\n",
      "Client 1: accuracy loss: 3.89 | fairness loss 691336.99 | Demographic disparity = 0.62\n",
      "Client 2: accuracy loss: 2.50 | fairness loss 1045003.44 | Demographic disparity = 0.40\n",
      "Client 3: accuracy loss: 3.49 | fairness loss 855338.94 | Demographic disparity = 0.43\n",
      " \n",
      "Avg Training Stats after 92 Testing rounds:\n",
      "Training loss: -67502.79 | Validation accuracy: 85.13% | Validation Demographic disparity: 0.4634\n",
      "\n",
      " | Testing Round : 93 | constraint :  Cov(z, d) > -c\n",
      "\n"
     ]
    },
    {
     "name": "stderr",
     "output_type": "stream",
     "text": [
      " 94%|█████████▍| 94/100 [00:12<00:00,  8.67it/s]"
     ]
    },
    {
     "name": "stdout",
     "output_type": "stream",
     "text": [
      "Client 1: accuracy loss: 3.89 | fairness loss 708476.83 | Demographic disparity = 0.62\n",
      "Client 2: accuracy loss: 2.50 | fairness loss 1069880.75 | Demographic disparity = 0.40\n",
      "Client 3: accuracy loss: 3.49 | fairness loss 875619.69 | Demographic disparity = 0.43\n",
      " \n",
      "Avg Training Stats after 93 Testing rounds:\n",
      "Training loss: -67860.78 | Validation accuracy: 85.13% | Validation Demographic disparity: 0.4634\n",
      "\n",
      " | Testing Round : 94 | constraint :  Cov(z, d) > -c\n",
      "\n",
      "Client 1: accuracy loss: 3.90 | fairness loss 725877.04 | Demographic disparity = 0.62\n",
      "Client 2: accuracy loss: 2.50 | fairness loss 1095127.93 | Demographic disparity = 0.40\n",
      "Client 3: accuracy loss: 3.50 | fairness loss 896201.87 | Demographic disparity = 0.43\n",
      " \n",
      "Avg Training Stats after 94 Testing rounds:\n",
      "Training loss: -68222.62 | Validation accuracy: 85.13% | Validation Demographic disparity: 0.4634\n",
      "\n",
      " | Testing Round : 95 | constraint :  Cov(z, d) > -c\n",
      "\n"
     ]
    },
    {
     "name": "stderr",
     "output_type": "stream",
     "text": [
      " 96%|█████████▌| 96/100 [00:12<00:00,  8.69it/s]"
     ]
    },
    {
     "name": "stdout",
     "output_type": "stream",
     "text": [
      "Client 1: accuracy loss: 3.90 | fairness loss 743538.27 | Demographic disparity = 0.62\n",
      "Client 2: accuracy loss: 2.51 | fairness loss 1120745.94 | Demographic disparity = 0.40\n",
      "Client 3: accuracy loss: 3.50 | fairness loss 917086.31 | Demographic disparity = 0.43\n",
      " \n",
      "Avg Training Stats after 95 Testing rounds:\n",
      "Training loss: -68588.23 | Validation accuracy: 85.13% | Validation Demographic disparity: 0.4634\n",
      "\n",
      " | Testing Round : 96 | constraint :  Cov(z, d) > -c\n",
      "\n",
      "Client 1: accuracy loss: 3.91 | fairness loss 761461.10 | Demographic disparity = 0.62\n",
      "Client 2: accuracy loss: 2.51 | fairness loss 1146735.47 | Demographic disparity = 0.40\n",
      "Client 3: accuracy loss: 3.51 | fairness loss 938273.57 | Demographic disparity = 0.43\n",
      " \n",
      "Avg Training Stats after 96 Testing rounds:\n",
      "Training loss: -68957.57 | Validation accuracy: 85.13% | Validation Demographic disparity: 0.4634\n",
      "\n",
      " | Testing Round : 97 | constraint :  Cov(z, d) > -c\n",
      "\n"
     ]
    },
    {
     "name": "stderr",
     "output_type": "stream",
     "text": [
      " 98%|█████████▊| 98/100 [00:12<00:00,  8.92it/s]"
     ]
    },
    {
     "name": "stdout",
     "output_type": "stream",
     "text": [
      "Client 1: accuracy loss: 3.91 | fairness loss 779646.09 | Demographic disparity = 0.62\n",
      "Client 2: accuracy loss: 2.51 | fairness loss 1173097.45 | Demographic disparity = 0.40\n",
      "Client 3: accuracy loss: 3.51 | fairness loss 959764.51 | Demographic disparity = 0.43\n",
      " \n",
      "Avg Training Stats after 97 Testing rounds:\n",
      "Training loss: -69330.58 | Validation accuracy: 85.13% | Validation Demographic disparity: 0.4634\n",
      "\n",
      " | Testing Round : 98 | constraint :  Cov(z, d) > -c\n",
      "\n",
      "Client 1: accuracy loss: 3.92 | fairness loss 798093.68 | Demographic disparity = 0.62\n",
      "Client 2: accuracy loss: 2.52 | fairness loss 1199832.47 | Demographic disparity = 0.40\n",
      "Client 3: accuracy loss: 3.52 | fairness loss 981559.28 | Demographic disparity = 0.43\n",
      " \n",
      "Avg Training Stats after 98 Testing rounds:\n",
      "Training loss: -69707.21 | Validation accuracy: 85.13% | Validation Demographic disparity: 0.4634\n",
      "\n",
      " | Testing Round : 99 | constraint :  Cov(z, d) > -c\n",
      "\n"
     ]
    },
    {
     "name": "stderr",
     "output_type": "stream",
     "text": [
      "100%|██████████| 100/100 [00:12<00:00,  7.80it/s]\n",
      "  0%|          | 0/500 [00:00<?, ?it/s]"
     ]
    },
    {
     "name": "stdout",
     "output_type": "stream",
     "text": [
      "Client 1: accuracy loss: 3.92 | fairness loss 816804.48 | Demographic disparity = 0.62\n",
      "Client 2: accuracy loss: 2.52 | fairness loss 1226941.22 | Demographic disparity = 0.40\n",
      "Client 3: accuracy loss: 3.52 | fairness loss 1003658.72 | Demographic disparity = 0.43\n",
      " \n",
      "Avg Training Stats after 99 Testing rounds:\n",
      "Training loss: -70087.41 | Validation accuracy: 85.13% | Validation Demographic disparity: 0.4634\n",
      "\n",
      " | Testing Round : 100 | constraint :  Cov(z, d) > -c\n",
      "\n",
      "Client 1: accuracy loss: 3.93 | fairness loss 835779.15 | Demographic disparity = 0.62\n",
      "Client 2: accuracy loss: 2.53 | fairness loss 1254424.83 | Demographic disparity = 0.40\n",
      "Client 3: accuracy loss: 3.53 | fairness loss 1026063.88 | Demographic disparity = 0.43\n",
      " \n",
      "Avg Training Stats after 100 Testing rounds:\n",
      "Training loss: -70471.14 | Validation accuracy: 85.13% | Validation Demographic disparity: 0.4634\n",
      "\n",
      " | Global Round : 1 | constraint :  Cov(z, d) < c\n",
      "\n"
     ]
    },
    {
     "name": "stderr",
     "output_type": "stream",
     "text": [
      "  0%|          | 2/500 [00:00<00:56,  8.85it/s]"
     ]
    },
    {
     "name": "stdout",
     "output_type": "stream",
     "text": [
      "Client 1: accuracy loss: 3.58 | fairness loss 1665587.05 | Demographic disparity = 0.44\n",
      "Client 2: accuracy loss: 2.46 | fairness loss 2279216.89 | Demographic disparity = 0.33\n",
      "Client 3: accuracy loss: 3.23 | fairness loss 1859229.14 | Demographic disparity = 0.37\n",
      " \n",
      "Avg Training Stats after 1 global rounds:\n",
      "Training loss: -70804.49 | Validation accuracy: 86.57% | Validation Demographic disparity: 0.3754\n",
      "\n",
      " | Global Round : 2 | constraint :  Cov(z, d) < c\n",
      "\n",
      "Client 1: accuracy loss: 3.58 | fairness loss 1681717.51 | Demographic disparity = 0.44\n",
      "Client 2: accuracy loss: 2.46 | fairness loss 2301572.91 | Demographic disparity = 0.33\n",
      "Client 3: accuracy loss: 3.23 | fairness loss 1877459.97 | Demographic disparity = 0.37\n",
      " \n",
      "Avg Training Stats after 2 global rounds:\n",
      "Training loss: -71138.33 | Validation accuracy: 86.57% | Validation Demographic disparity: 0.3754\n",
      "\n",
      " | Global Round : 3 | constraint :  Cov(z, d) < c\n",
      "\n"
     ]
    },
    {
     "name": "stderr",
     "output_type": "stream",
     "text": [
      "  1%|          | 4/500 [00:00<00:55,  9.01it/s]"
     ]
    },
    {
     "name": "stdout",
     "output_type": "stream",
     "text": [
      "Client 1: accuracy loss: 3.58 | fairness loss 1697936.67 | Demographic disparity = 0.43\n",
      "Client 2: accuracy loss: 2.46 | fairness loss 2324053.53 | Demographic disparity = 0.33\n",
      "Client 3: accuracy loss: 3.23 | fairness loss 1895792.59 | Demographic disparity = 0.37\n",
      " \n",
      "Avg Training Stats after 3 global rounds:\n",
      "Training loss: -71472.67 | Validation accuracy: 86.27% | Validation Demographic disparity: 0.3721\n",
      "\n",
      " | Global Round : 4 | constraint :  Cov(z, d) < c\n",
      "\n",
      "Client 1: accuracy loss: 3.59 | fairness loss 1714244.65 | Demographic disparity = 0.43\n",
      "Client 2: accuracy loss: 2.46 | fairness loss 2346659.49 | Demographic disparity = 0.33\n",
      "Client 3: accuracy loss: 3.23 | fairness loss 1914227.17 | Demographic disparity = 0.37\n",
      " \n",
      "Avg Training Stats after 4 global rounds:\n",
      "Training loss: -71807.50 | Validation accuracy: 86.27% | Validation Demographic disparity: 0.3721\n",
      "\n",
      " | Global Round : 5 | constraint :  Cov(z, d) < c\n",
      "\n"
     ]
    },
    {
     "name": "stderr",
     "output_type": "stream",
     "text": [
      "  1%|          | 6/500 [00:00<00:54,  9.10it/s]"
     ]
    },
    {
     "name": "stdout",
     "output_type": "stream",
     "text": [
      "Client 1: accuracy loss: 3.59 | fairness loss 1730641.82 | Demographic disparity = 0.43\n",
      "Client 2: accuracy loss: 2.46 | fairness loss 2369390.53 | Demographic disparity = 0.33\n",
      "Client 3: accuracy loss: 3.23 | fairness loss 1932764.20 | Demographic disparity = 0.37\n",
      " \n",
      "Avg Training Stats after 5 global rounds:\n",
      "Training loss: -72142.80 | Validation accuracy: 86.27% | Validation Demographic disparity: 0.3721\n",
      "\n",
      " | Global Round : 6 | constraint :  Cov(z, d) < c\n",
      "\n",
      "Client 1: accuracy loss: 3.59 | fairness loss 1747128.01 | Demographic disparity = 0.43\n",
      "Client 2: accuracy loss: 2.46 | fairness loss 2392247.01 | Demographic disparity = 0.33\n",
      "Client 3: accuracy loss: 3.24 | fairness loss 1951403.61 | Demographic disparity = 0.37\n",
      " \n",
      "Avg Training Stats after 6 global rounds:\n",
      "Training loss: -72478.59 | Validation accuracy: 86.27% | Validation Demographic disparity: 0.3721\n",
      "\n",
      " | Global Round : 7 | constraint :  Cov(z, d) < c\n",
      "\n"
     ]
    },
    {
     "name": "stderr",
     "output_type": "stream",
     "text": [
      "  2%|▏         | 8/500 [00:00<00:53,  9.14it/s]"
     ]
    },
    {
     "name": "stdout",
     "output_type": "stream",
     "text": [
      "Client 1: accuracy loss: 3.59 | fairness loss 1763703.31 | Demographic disparity = 0.43\n",
      "Client 2: accuracy loss: 2.46 | fairness loss 2415229.23 | Demographic disparity = 0.33\n",
      "Client 3: accuracy loss: 3.24 | fairness loss 1970145.39 | Demographic disparity = 0.37\n",
      " \n",
      "Avg Training Stats after 7 global rounds:\n",
      "Training loss: -72814.84 | Validation accuracy: 86.27% | Validation Demographic disparity: 0.3721\n",
      "\n",
      " | Global Round : 8 | constraint :  Cov(z, d) < c\n",
      "\n",
      "Client 1: accuracy loss: 3.59 | fairness loss 1780367.97 | Demographic disparity = 0.43\n",
      "Client 2: accuracy loss: 2.46 | fairness loss 2438337.14 | Demographic disparity = 0.31\n",
      "Client 3: accuracy loss: 3.24 | fairness loss 1988989.83 | Demographic disparity = 0.37\n",
      " \n",
      "Avg Training Stats after 8 global rounds:\n",
      "Training loss: -73151.56 | Validation accuracy: 85.95% | Validation Demographic disparity: 0.3687\n",
      "\n",
      " | Global Round : 9 | constraint :  Cov(z, d) < c\n",
      "\n"
     ]
    },
    {
     "name": "stderr",
     "output_type": "stream",
     "text": [
      "  2%|▏         | 10/500 [00:01<00:54,  9.07it/s]"
     ]
    },
    {
     "name": "stdout",
     "output_type": "stream",
     "text": [
      "Client 1: accuracy loss: 3.59 | fairness loss 1797122.31 | Demographic disparity = 0.43\n",
      "Client 2: accuracy loss: 2.46 | fairness loss 2461571.19 | Demographic disparity = 0.31\n",
      "Client 3: accuracy loss: 3.24 | fairness loss 2007937.35 | Demographic disparity = 0.37\n",
      " \n",
      "Avg Training Stats after 9 global rounds:\n",
      "Training loss: -73488.75 | Validation accuracy: 85.95% | Validation Demographic disparity: 0.3687\n",
      "\n",
      " | Global Round : 10 | constraint :  Cov(z, d) < c\n",
      "\n",
      "Client 1: accuracy loss: 3.59 | fairness loss 1813966.28 | Demographic disparity = 0.43\n",
      "Client 2: accuracy loss: 2.47 | fairness loss 2484931.42 | Demographic disparity = 0.31\n",
      "Client 3: accuracy loss: 3.24 | fairness loss 2026987.75 | Demographic disparity = 0.37\n",
      " \n",
      "Avg Training Stats after 10 global rounds:\n",
      "Training loss: -73826.39 | Validation accuracy: 85.95% | Validation Demographic disparity: 0.3687\n",
      "\n",
      " | Global Round : 11 | constraint :  Cov(z, d) < c\n",
      "\n"
     ]
    },
    {
     "name": "stderr",
     "output_type": "stream",
     "text": [
      "  2%|▏         | 12/500 [00:01<00:53,  9.14it/s]"
     ]
    },
    {
     "name": "stdout",
     "output_type": "stream",
     "text": [
      "Client 1: accuracy loss: 3.59 | fairness loss 1830900.20 | Demographic disparity = 0.43\n",
      "Client 2: accuracy loss: 2.47 | fairness loss 2508418.05 | Demographic disparity = 0.31\n",
      "Client 3: accuracy loss: 3.24 | fairness loss 2046141.51 | Demographic disparity = 0.37\n",
      " \n",
      "Avg Training Stats after 11 global rounds:\n",
      "Training loss: -74164.48 | Validation accuracy: 85.95% | Validation Demographic disparity: 0.3687\n",
      "\n",
      " | Global Round : 12 | constraint :  Cov(z, d) < c\n",
      "\n",
      "Client 1: accuracy loss: 3.59 | fairness loss 1847924.05 | Demographic disparity = 0.42\n",
      "Client 2: accuracy loss: 2.47 | fairness loss 2532031.57 | Demographic disparity = 0.31\n",
      "Client 3: accuracy loss: 3.24 | fairness loss 2065398.47 | Demographic disparity = 0.37\n",
      " \n",
      "Avg Training Stats after 12 global rounds:\n",
      "Training loss: -74503.02 | Validation accuracy: 85.36% | Validation Demographic disparity: 0.3621\n",
      "\n",
      " | Global Round : 13 | constraint :  Cov(z, d) < c\n",
      "\n"
     ]
    },
    {
     "name": "stderr",
     "output_type": "stream",
     "text": [
      "  3%|▎         | 14/500 [00:01<00:54,  8.94it/s]"
     ]
    },
    {
     "name": "stdout",
     "output_type": "stream",
     "text": [
      "Client 1: accuracy loss: 3.59 | fairness loss 1865037.89 | Demographic disparity = 0.41\n",
      "Client 2: accuracy loss: 2.47 | fairness loss 2555771.68 | Demographic disparity = 0.31\n",
      "Client 3: accuracy loss: 3.24 | fairness loss 2084758.90 | Demographic disparity = 0.37\n",
      " \n",
      "Avg Training Stats after 13 global rounds:\n",
      "Training loss: -74842.01 | Validation accuracy: 85.07% | Validation Demographic disparity: 0.3588\n",
      "\n",
      " | Global Round : 14 | constraint :  Cov(z, d) < c\n",
      "\n",
      "Client 1: accuracy loss: 3.60 | fairness loss 1882242.13 | Demographic disparity = 0.41\n",
      "Client 2: accuracy loss: 2.47 | fairness loss 2579639.02 | Demographic disparity = 0.31\n",
      "Client 3: accuracy loss: 3.24 | fairness loss 2104223.24 | Demographic disparity = 0.36\n",
      " \n",
      "Avg Training Stats after 14 global rounds:\n",
      "Training loss: -75181.44 | Validation accuracy: 84.68% | Validation Demographic disparity: 0.3555\n",
      "\n",
      " | Global Round : 15 | constraint :  Cov(z, d) < c\n",
      "\n"
     ]
    },
    {
     "name": "stderr",
     "output_type": "stream",
     "text": [
      "  3%|▎         | 16/500 [00:01<00:53,  9.02it/s]"
     ]
    },
    {
     "name": "stdout",
     "output_type": "stream",
     "text": [
      "Client 1: accuracy loss: 3.60 | fairness loss 1899536.45 | Demographic disparity = 0.41\n",
      "Client 2: accuracy loss: 2.47 | fairness loss 2603633.18 | Demographic disparity = 0.31\n",
      "Client 3: accuracy loss: 3.24 | fairness loss 2123791.08 | Demographic disparity = 0.36\n",
      " \n",
      "Avg Training Stats after 15 global rounds:\n",
      "Training loss: -75521.30 | Validation accuracy: 84.68% | Validation Demographic disparity: 0.3555\n",
      "\n",
      " | Global Round : 16 | constraint :  Cov(z, d) < c\n",
      "\n",
      "Client 1: accuracy loss: 3.60 | fairness loss 1916921.54 | Demographic disparity = 0.39\n",
      "Client 2: accuracy loss: 2.47 | fairness loss 2627755.07 | Demographic disparity = 0.31\n",
      "Client 3: accuracy loss: 3.24 | fairness loss 2143462.94 | Demographic disparity = 0.36\n",
      " \n",
      "Avg Training Stats after 16 global rounds:\n",
      "Training loss: -75861.59 | Validation accuracy: 84.09% | Validation Demographic disparity: 0.3488\n",
      "\n",
      " | Global Round : 17 | constraint :  Cov(z, d) < c\n",
      "\n"
     ]
    },
    {
     "name": "stderr",
     "output_type": "stream",
     "text": [
      "  4%|▎         | 18/500 [00:01<00:52,  9.15it/s]"
     ]
    },
    {
     "name": "stdout",
     "output_type": "stream",
     "text": [
      "Client 1: accuracy loss: 3.60 | fairness loss 1934397.24 | Demographic disparity = 0.39\n",
      "Client 2: accuracy loss: 2.47 | fairness loss 2652004.53 | Demographic disparity = 0.31\n",
      "Client 3: accuracy loss: 3.24 | fairness loss 2163239.14 | Demographic disparity = 0.36\n",
      " \n",
      "Avg Training Stats after 17 global rounds:\n",
      "Training loss: -76202.31 | Validation accuracy: 84.09% | Validation Demographic disparity: 0.3488\n",
      "\n",
      " | Global Round : 18 | constraint :  Cov(z, d) < c\n",
      "\n",
      "Client 1: accuracy loss: 3.60 | fairness loss 1951963.54 | Demographic disparity = 0.39\n",
      "Client 2: accuracy loss: 2.47 | fairness loss 2676381.53 | Demographic disparity = 0.31\n",
      "Client 3: accuracy loss: 3.24 | fairness loss 2183119.41 | Demographic disparity = 0.36\n",
      " \n",
      "Avg Training Stats after 18 global rounds:\n",
      "Training loss: -76543.46 | Validation accuracy: 84.09% | Validation Demographic disparity: 0.3488\n",
      "\n",
      " | Global Round : 19 | constraint :  Cov(z, d) < c\n",
      "\n"
     ]
    },
    {
     "name": "stderr",
     "output_type": "stream",
     "text": [
      "  4%|▍         | 20/500 [00:02<00:52,  9.21it/s]"
     ]
    },
    {
     "name": "stdout",
     "output_type": "stream",
     "text": [
      "Client 1: accuracy loss: 3.60 | fairness loss 1969621.22 | Demographic disparity = 0.39\n",
      "Client 2: accuracy loss: 2.47 | fairness loss 2700886.98 | Demographic disparity = 0.31\n",
      "Client 3: accuracy loss: 3.25 | fairness loss 2203104.67 | Demographic disparity = 0.36\n",
      " \n",
      "Avg Training Stats after 19 global rounds:\n",
      "Training loss: -76885.02 | Validation accuracy: 84.09% | Validation Demographic disparity: 0.3488\n",
      "\n",
      " | Global Round : 20 | constraint :  Cov(z, d) < c\n",
      "\n",
      "Client 1: accuracy loss: 3.60 | fairness loss 1987369.66 | Demographic disparity = 0.39\n",
      "Client 2: accuracy loss: 2.47 | fairness loss 2725520.28 | Demographic disparity = 0.31\n",
      "Client 3: accuracy loss: 3.25 | fairness loss 2223194.04 | Demographic disparity = 0.36\n",
      " \n",
      "Avg Training Stats after 20 global rounds:\n",
      "Training loss: -77227.00 | Validation accuracy: 84.09% | Validation Demographic disparity: 0.3488\n",
      "\n",
      " | Global Round : 21 | constraint :  Cov(z, d) < c\n",
      "\n"
     ]
    },
    {
     "name": "stderr",
     "output_type": "stream",
     "text": [
      "  4%|▍         | 22/500 [00:02<00:51,  9.28it/s]"
     ]
    },
    {
     "name": "stdout",
     "output_type": "stream",
     "text": [
      "Client 1: accuracy loss: 3.60 | fairness loss 2005209.30 | Demographic disparity = 0.39\n",
      "Client 2: accuracy loss: 2.47 | fairness loss 2750282.17 | Demographic disparity = 0.30\n",
      "Client 3: accuracy loss: 3.25 | fairness loss 2243388.35 | Demographic disparity = 0.36\n",
      " \n",
      "Avg Training Stats after 21 global rounds:\n",
      "Training loss: -77569.40 | Validation accuracy: 83.77% | Validation Demographic disparity: 0.3455\n",
      "\n",
      " | Global Round : 22 | constraint :  Cov(z, d) < c\n",
      "\n",
      "Client 1: accuracy loss: 3.60 | fairness loss 2023140.42 | Demographic disparity = 0.39\n",
      "Client 2: accuracy loss: 2.47 | fairness loss 2775172.67 | Demographic disparity = 0.30\n",
      "Client 3: accuracy loss: 3.25 | fairness loss 2263687.76 | Demographic disparity = 0.36\n",
      " \n",
      "Avg Training Stats after 22 global rounds:\n",
      "Training loss: -77912.20 | Validation accuracy: 83.77% | Validation Demographic disparity: 0.3455\n",
      "\n",
      " | Global Round : 23 | constraint :  Cov(z, d) < c\n",
      "\n"
     ]
    },
    {
     "name": "stderr",
     "output_type": "stream",
     "text": [
      "  5%|▍         | 24/500 [00:02<00:53,  8.89it/s]"
     ]
    },
    {
     "name": "stdout",
     "output_type": "stream",
     "text": [
      "Client 1: accuracy loss: 3.60 | fairness loss 2041163.21 | Demographic disparity = 0.39\n",
      "Client 2: accuracy loss: 2.47 | fairness loss 2800192.09 | Demographic disparity = 0.30\n",
      "Client 3: accuracy loss: 3.25 | fairness loss 2284092.17 | Demographic disparity = 0.36\n",
      " \n",
      "Avg Training Stats after 23 global rounds:\n",
      "Training loss: -78255.40 | Validation accuracy: 83.77% | Validation Demographic disparity: 0.3455\n",
      "\n",
      " | Global Round : 24 | constraint :  Cov(z, d) < c\n",
      "\n",
      "Client 1: accuracy loss: 3.61 | fairness loss 2059277.15 | Demographic disparity = 0.39\n",
      "Client 2: accuracy loss: 2.47 | fairness loss 2825339.90 | Demographic disparity = 0.30\n",
      "Client 3: accuracy loss: 3.25 | fairness loss 2304601.71 | Demographic disparity = 0.36\n",
      " \n",
      "Avg Training Stats after 24 global rounds:\n",
      "Training loss: -78599.01 | Validation accuracy: 83.77% | Validation Demographic disparity: 0.3455\n",
      "\n",
      " | Global Round : 25 | constraint :  Cov(z, d) < c\n",
      "\n"
     ]
    },
    {
     "name": "stderr",
     "output_type": "stream",
     "text": [
      "  5%|▌         | 26/500 [00:02<00:52,  9.11it/s]"
     ]
    },
    {
     "name": "stdout",
     "output_type": "stream",
     "text": [
      "Client 1: accuracy loss: 3.61 | fairness loss 2077483.25 | Demographic disparity = 0.39\n",
      "Client 2: accuracy loss: 2.47 | fairness loss 2850617.65 | Demographic disparity = 0.30\n",
      "Client 3: accuracy loss: 3.25 | fairness loss 2325216.92 | Demographic disparity = 0.36\n",
      " \n",
      "Avg Training Stats after 25 global rounds:\n",
      "Training loss: -78943.01 | Validation accuracy: 83.77% | Validation Demographic disparity: 0.3455\n",
      "\n",
      " | Global Round : 26 | constraint :  Cov(z, d) < c\n",
      "\n",
      "Client 1: accuracy loss: 3.61 | fairness loss 2095781.34 | Demographic disparity = 0.39\n",
      "Client 2: accuracy loss: 2.47 | fairness loss 2876024.57 | Demographic disparity = 0.30\n",
      "Client 3: accuracy loss: 3.25 | fairness loss 2345937.86 | Demographic disparity = 0.36\n",
      " \n",
      "Avg Training Stats after 26 global rounds:\n",
      "Training loss: -79287.41 | Validation accuracy: 83.77% | Validation Demographic disparity: 0.3455\n",
      "\n",
      " | Global Round : 27 | constraint :  Cov(z, d) < c\n",
      "\n"
     ]
    },
    {
     "name": "stderr",
     "output_type": "stream",
     "text": [
      "  6%|▌         | 28/500 [00:03<00:51,  9.23it/s]"
     ]
    },
    {
     "name": "stdout",
     "output_type": "stream",
     "text": [
      "Client 1: accuracy loss: 3.61 | fairness loss 2114171.35 | Demographic disparity = 0.39\n",
      "Client 2: accuracy loss: 2.48 | fairness loss 2901561.11 | Demographic disparity = 0.30\n",
      "Client 3: accuracy loss: 3.25 | fairness loss 2366764.37 | Demographic disparity = 0.36\n",
      " \n",
      "Avg Training Stats after 27 global rounds:\n",
      "Training loss: -79632.20 | Validation accuracy: 83.77% | Validation Demographic disparity: 0.3455\n",
      "\n",
      " | Global Round : 28 | constraint :  Cov(z, d) < c\n",
      "\n",
      "Client 1: accuracy loss: 3.61 | fairness loss 2132653.91 | Demographic disparity = 0.39\n",
      "Client 2: accuracy loss: 2.48 | fairness loss 2927227.60 | Demographic disparity = 0.30\n",
      "Client 3: accuracy loss: 3.25 | fairness loss 2387697.06 | Demographic disparity = 0.36\n",
      " \n",
      "Avg Training Stats after 28 global rounds:\n",
      "Training loss: -79977.37 | Validation accuracy: 83.77% | Validation Demographic disparity: 0.3455\n",
      "\n",
      " | Global Round : 29 | constraint :  Cov(z, d) < c\n",
      "\n"
     ]
    },
    {
     "name": "stderr",
     "output_type": "stream",
     "text": [
      "  6%|▌         | 30/500 [00:03<00:51,  9.17it/s]"
     ]
    },
    {
     "name": "stdout",
     "output_type": "stream",
     "text": [
      "Client 1: accuracy loss: 3.61 | fairness loss 2151228.61 | Demographic disparity = 0.39\n",
      "Client 2: accuracy loss: 2.48 | fairness loss 2953024.03 | Demographic disparity = 0.30\n",
      "Client 3: accuracy loss: 3.25 | fairness loss 2408735.85 | Demographic disparity = 0.36\n",
      " \n",
      "Avg Training Stats after 29 global rounds:\n",
      "Training loss: -80322.93 | Validation accuracy: 83.77% | Validation Demographic disparity: 0.3455\n",
      "\n",
      " | Global Round : 30 | constraint :  Cov(z, d) < c\n",
      "\n",
      "Client 1: accuracy loss: 3.61 | fairness loss 2169895.64 | Demographic disparity = 0.38\n",
      "Client 2: accuracy loss: 2.48 | fairness loss 2978950.25 | Demographic disparity = 0.30\n",
      "Client 3: accuracy loss: 3.25 | fairness loss 2429880.58 | Demographic disparity = 0.36\n",
      " \n",
      "Avg Training Stats after 30 global rounds:\n",
      "Training loss: -80668.88 | Validation accuracy: 83.47% | Validation Demographic disparity: 0.3422\n",
      "\n",
      " | Global Round : 31 | constraint :  Cov(z, d) < c\n",
      "\n"
     ]
    },
    {
     "name": "stderr",
     "output_type": "stream",
     "text": [
      "  6%|▋         | 32/500 [00:03<00:50,  9.20it/s]"
     ]
    },
    {
     "name": "stdout",
     "output_type": "stream",
     "text": [
      "Client 1: accuracy loss: 3.61 | fairness loss 2188655.47 | Demographic disparity = 0.38\n",
      "Client 2: accuracy loss: 2.48 | fairness loss 3005007.39 | Demographic disparity = 0.30\n",
      "Client 3: accuracy loss: 3.25 | fairness loss 2451132.08 | Demographic disparity = 0.36\n",
      " \n",
      "Avg Training Stats after 31 global rounds:\n",
      "Training loss: -81015.19 | Validation accuracy: 83.47% | Validation Demographic disparity: 0.3422\n",
      "\n",
      " | Global Round : 32 | constraint :  Cov(z, d) < c\n",
      "\n",
      "Client 1: accuracy loss: 3.61 | fairness loss 2207508.11 | Demographic disparity = 0.37\n",
      "Client 2: accuracy loss: 2.48 | fairness loss 3031194.95 | Demographic disparity = 0.30\n",
      "Client 3: accuracy loss: 3.26 | fairness loss 2472490.05 | Demographic disparity = 0.36\n",
      " \n",
      "Avg Training Stats after 32 global rounds:\n",
      "Training loss: -81361.89 | Validation accuracy: 83.18% | Validation Demographic disparity: 0.3388\n",
      "\n",
      " | Global Round : 33 | constraint :  Cov(z, d) < c\n",
      "\n"
     ]
    },
    {
     "name": "stderr",
     "output_type": "stream",
     "text": [
      "  7%|▋         | 34/500 [00:03<00:50,  9.28it/s]"
     ]
    },
    {
     "name": "stdout",
     "output_type": "stream",
     "text": [
      "Client 1: accuracy loss: 3.61 | fairness loss 2226453.49 | Demographic disparity = 0.36\n",
      "Client 2: accuracy loss: 2.48 | fairness loss 3057513.27 | Demographic disparity = 0.30\n",
      "Client 3: accuracy loss: 3.26 | fairness loss 2493954.61 | Demographic disparity = 0.36\n",
      " \n",
      "Avg Training Stats after 33 global rounds:\n",
      "Training loss: -81708.95 | Validation accuracy: 82.89% | Validation Demographic disparity: 0.3355\n",
      "\n",
      " | Global Round : 34 | constraint :  Cov(z, d) < c\n",
      "\n",
      "Client 1: accuracy loss: 3.61 | fairness loss 2245491.97 | Demographic disparity = 0.36\n",
      "Client 2: accuracy loss: 2.48 | fairness loss 3083962.55 | Demographic disparity = 0.28\n",
      "Client 3: accuracy loss: 3.26 | fairness loss 2515526.23 | Demographic disparity = 0.36\n",
      " \n",
      "Avg Training Stats after 34 global rounds:\n",
      "Training loss: -82056.39 | Validation accuracy: 82.24% | Validation Demographic disparity: 0.3289\n",
      "\n",
      " | Global Round : 35 | constraint :  Cov(z, d) < c\n",
      "\n"
     ]
    },
    {
     "name": "stderr",
     "output_type": "stream",
     "text": [
      "  7%|▋         | 36/500 [00:03<00:50,  9.20it/s]"
     ]
    },
    {
     "name": "stdout",
     "output_type": "stream",
     "text": [
      "Client 1: accuracy loss: 3.62 | fairness loss 2264623.72 | Demographic disparity = 0.36\n",
      "Client 2: accuracy loss: 2.48 | fairness loss 3110543.19 | Demographic disparity = 0.28\n",
      "Client 3: accuracy loss: 3.26 | fairness loss 2537204.82 | Demographic disparity = 0.36\n",
      " \n",
      "Avg Training Stats after 35 global rounds:\n",
      "Training loss: -82404.19 | Validation accuracy: 82.24% | Validation Demographic disparity: 0.3289\n",
      "\n",
      " | Global Round : 36 | constraint :  Cov(z, d) < c\n",
      "\n",
      "Client 1: accuracy loss: 3.62 | fairness loss 2283848.71 | Demographic disparity = 0.36\n",
      "Client 2: accuracy loss: 2.48 | fairness loss 3137254.97 | Demographic disparity = 0.28\n",
      "Client 3: accuracy loss: 3.26 | fairness loss 2558990.85 | Demographic disparity = 0.36\n",
      " \n",
      "Avg Training Stats after 36 global rounds:\n",
      "Training loss: -82752.35 | Validation accuracy: 82.24% | Validation Demographic disparity: 0.3289\n",
      "\n",
      " | Global Round : 37 | constraint :  Cov(z, d) < c\n",
      "\n"
     ]
    },
    {
     "name": "stderr",
     "output_type": "stream",
     "text": [
      "  8%|▊         | 38/500 [00:04<00:52,  8.80it/s]"
     ]
    },
    {
     "name": "stdout",
     "output_type": "stream",
     "text": [
      "Client 1: accuracy loss: 3.62 | fairness loss 2303167.01 | Demographic disparity = 0.36\n",
      "Client 2: accuracy loss: 2.48 | fairness loss 3164098.22 | Demographic disparity = 0.28\n",
      "Client 3: accuracy loss: 3.26 | fairness loss 2580883.92 | Demographic disparity = 0.36\n",
      " \n",
      "Avg Training Stats after 37 global rounds:\n",
      "Training loss: -83100.88 | Validation accuracy: 82.24% | Validation Demographic disparity: 0.3289\n",
      "\n",
      " | Global Round : 38 | constraint :  Cov(z, d) < c\n",
      "\n",
      "Client 1: accuracy loss: 3.62 | fairness loss 2322579.20 | Demographic disparity = 0.35\n",
      "Client 2: accuracy loss: 2.48 | fairness loss 3191073.35 | Demographic disparity = 0.28\n",
      "Client 3: accuracy loss: 3.26 | fairness loss 2602884.86 | Demographic disparity = 0.36\n",
      " \n",
      "Avg Training Stats after 38 global rounds:\n",
      "Training loss: -83449.76 | Validation accuracy: 81.94% | Validation Demographic disparity: 0.3256\n",
      "\n",
      " | Global Round : 39 | constraint :  Cov(z, d) < c\n",
      "\n"
     ]
    },
    {
     "name": "stderr",
     "output_type": "stream",
     "text": [
      "  8%|▊         | 40/500 [00:04<00:51,  8.97it/s]"
     ]
    },
    {
     "name": "stdout",
     "output_type": "stream",
     "text": [
      "Client 1: accuracy loss: 3.62 | fairness loss 2342085.36 | Demographic disparity = 0.35\n",
      "Client 2: accuracy loss: 2.48 | fairness loss 3218180.93 | Demographic disparity = 0.28\n",
      "Client 3: accuracy loss: 3.26 | fairness loss 2624993.44 | Demographic disparity = 0.36\n",
      " \n",
      "Avg Training Stats after 39 global rounds:\n",
      "Training loss: -83798.99 | Validation accuracy: 81.94% | Validation Demographic disparity: 0.3256\n",
      "\n",
      " | Global Round : 40 | constraint :  Cov(z, d) < c\n",
      "\n",
      "Client 1: accuracy loss: 3.62 | fairness loss 2361685.24 | Demographic disparity = 0.35\n",
      "Client 2: accuracy loss: 2.48 | fairness loss 3245420.40 | Demographic disparity = 0.28\n",
      "Client 3: accuracy loss: 3.26 | fairness loss 2647210.17 | Demographic disparity = 0.36\n",
      " \n",
      "Avg Training Stats after 40 global rounds:\n",
      "Training loss: -84148.58 | Validation accuracy: 81.94% | Validation Demographic disparity: 0.3256\n",
      "\n",
      " | Global Round : 41 | constraint :  Cov(z, d) < c\n",
      "\n"
     ]
    },
    {
     "name": "stderr",
     "output_type": "stream",
     "text": [
      "  8%|▊         | 42/500 [00:04<00:51,  8.96it/s]"
     ]
    },
    {
     "name": "stdout",
     "output_type": "stream",
     "text": [
      "Client 1: accuracy loss: 3.62 | fairness loss 2381379.37 | Demographic disparity = 0.35\n",
      "Client 2: accuracy loss: 2.48 | fairness loss 3272792.65 | Demographic disparity = 0.28\n",
      "Client 3: accuracy loss: 3.26 | fairness loss 2669534.89 | Demographic disparity = 0.36\n",
      " \n",
      "Avg Training Stats after 41 global rounds:\n",
      "Training loss: -84498.52 | Validation accuracy: 81.65% | Validation Demographic disparity: 0.3222\n",
      "\n",
      " | Global Round : 42 | constraint :  Cov(z, d) < c\n",
      "\n",
      "Client 1: accuracy loss: 3.62 | fairness loss 2401167.54 | Demographic disparity = 0.35\n",
      "Client 2: accuracy loss: 2.48 | fairness loss 3300297.09 | Demographic disparity = 0.28\n",
      "Client 3: accuracy loss: 3.26 | fairness loss 2691967.61 | Demographic disparity = 0.36\n",
      " \n",
      "Avg Training Stats after 42 global rounds:\n",
      "Training loss: -84848.80 | Validation accuracy: 81.65% | Validation Demographic disparity: 0.3222\n",
      "\n",
      " | Global Round : 43 | constraint :  Cov(z, d) < c\n",
      "\n"
     ]
    },
    {
     "name": "stderr",
     "output_type": "stream",
     "text": [
      "  9%|▉         | 44/500 [00:04<00:49,  9.19it/s]"
     ]
    },
    {
     "name": "stdout",
     "output_type": "stream",
     "text": [
      "Client 1: accuracy loss: 3.62 | fairness loss 2421050.01 | Demographic disparity = 0.35\n",
      "Client 2: accuracy loss: 2.48 | fairness loss 3327934.36 | Demographic disparity = 0.28\n",
      "Client 3: accuracy loss: 3.26 | fairness loss 2714508.96 | Demographic disparity = 0.36\n",
      " \n",
      "Avg Training Stats after 43 global rounds:\n",
      "Training loss: -85199.43 | Validation accuracy: 81.65% | Validation Demographic disparity: 0.3222\n",
      "\n",
      " | Global Round : 44 | constraint :  Cov(z, d) < c\n",
      "\n",
      "Client 1: accuracy loss: 3.62 | fairness loss 2441027.19 | Demographic disparity = 0.35\n",
      "Client 2: accuracy loss: 2.48 | fairness loss 3355704.74 | Demographic disparity = 0.28\n",
      "Client 3: accuracy loss: 3.26 | fairness loss 2737158.71 | Demographic disparity = 0.36\n",
      " \n",
      "Avg Training Stats after 44 global rounds:\n",
      "Training loss: -85550.40 | Validation accuracy: 81.65% | Validation Demographic disparity: 0.3222\n",
      "\n",
      " | Global Round : 45 | constraint :  Cov(z, d) < c\n",
      "\n"
     ]
    },
    {
     "name": "stderr",
     "output_type": "stream",
     "text": [
      "  9%|▉         | 46/500 [00:05<00:49,  9.16it/s]"
     ]
    },
    {
     "name": "stdout",
     "output_type": "stream",
     "text": [
      "Client 1: accuracy loss: 3.63 | fairness loss 2461099.06 | Demographic disparity = 0.35\n",
      "Client 2: accuracy loss: 2.49 | fairness loss 3383608.98 | Demographic disparity = 0.28\n",
      "Client 3: accuracy loss: 3.26 | fairness loss 2759917.74 | Demographic disparity = 0.36\n",
      " \n",
      "Avg Training Stats after 45 global rounds:\n",
      "Training loss: -85901.71 | Validation accuracy: 81.65% | Validation Demographic disparity: 0.3222\n",
      "\n",
      " | Global Round : 46 | constraint :  Cov(z, d) < c\n",
      "\n",
      "Client 1: accuracy loss: 3.63 | fairness loss 2481265.83 | Demographic disparity = 0.35\n",
      "Client 2: accuracy loss: 2.49 | fairness loss 3411646.19 | Demographic disparity = 0.28\n",
      "Client 3: accuracy loss: 3.27 | fairness loss 2782785.46 | Demographic disparity = 0.34\n",
      " \n",
      "Avg Training Stats after 46 global rounds:\n",
      "Training loss: -86253.36 | Validation accuracy: 81.26% | Validation Demographic disparity: 0.3189\n",
      "\n",
      " | Global Round : 47 | constraint :  Cov(z, d) < c\n",
      "\n"
     ]
    },
    {
     "name": "stderr",
     "output_type": "stream",
     "text": [
      " 10%|▉         | 48/500 [00:05<00:48,  9.28it/s]"
     ]
    },
    {
     "name": "stdout",
     "output_type": "stream",
     "text": [
      "Client 1: accuracy loss: 3.63 | fairness loss 2501527.38 | Demographic disparity = 0.35\n",
      "Client 2: accuracy loss: 2.49 | fairness loss 3439816.97 | Demographic disparity = 0.28\n",
      "Client 3: accuracy loss: 3.27 | fairness loss 2805762.08 | Demographic disparity = 0.34\n",
      " \n",
      "Avg Training Stats after 47 global rounds:\n",
      "Training loss: -86605.34 | Validation accuracy: 81.26% | Validation Demographic disparity: 0.3189\n",
      "\n",
      " | Global Round : 48 | constraint :  Cov(z, d) < c\n",
      "\n",
      "Client 1: accuracy loss: 3.63 | fairness loss 2521884.01 | Demographic disparity = 0.35\n",
      "Client 2: accuracy loss: 2.49 | fairness loss 3468121.70 | Demographic disparity = 0.28\n",
      "Client 3: accuracy loss: 3.27 | fairness loss 2828847.92 | Demographic disparity = 0.34\n",
      " \n",
      "Avg Training Stats after 48 global rounds:\n",
      "Training loss: -86957.65 | Validation accuracy: 81.26% | Validation Demographic disparity: 0.3189\n",
      "\n",
      " | Global Round : 49 | constraint :  Cov(z, d) < c\n",
      "\n"
     ]
    },
    {
     "name": "stderr",
     "output_type": "stream",
     "text": [
      " 10%|█         | 50/500 [00:05<00:48,  9.20it/s]"
     ]
    },
    {
     "name": "stdout",
     "output_type": "stream",
     "text": [
      "Client 1: accuracy loss: 3.63 | fairness loss 2542336.20 | Demographic disparity = 0.33\n",
      "Client 2: accuracy loss: 2.49 | fairness loss 3496560.55 | Demographic disparity = 0.28\n",
      "Client 3: accuracy loss: 3.27 | fairness loss 2852043.49 | Demographic disparity = 0.34\n",
      " \n",
      "Avg Training Stats after 49 global rounds:\n",
      "Training loss: -87310.29 | Validation accuracy: 80.67% | Validation Demographic disparity: 0.3123\n",
      "\n",
      " | Global Round : 50 | constraint :  Cov(z, d) < c\n",
      "\n",
      "Client 1: accuracy loss: 3.63 | fairness loss 2562883.54 | Demographic disparity = 0.33\n",
      "Client 2: accuracy loss: 2.49 | fairness loss 3525133.89 | Demographic disparity = 0.28\n",
      "Client 3: accuracy loss: 3.27 | fairness loss 2875348.60 | Demographic disparity = 0.34\n",
      " \n",
      "Avg Training Stats after 50 global rounds:\n",
      "Training loss: -87663.26 | Validation accuracy: 80.67% | Validation Demographic disparity: 0.3123\n",
      "\n",
      " | Global Round : 51 | constraint :  Cov(z, d) < c\n",
      "\n"
     ]
    },
    {
     "name": "stderr",
     "output_type": "stream",
     "text": [
      " 10%|█         | 52/500 [00:05<00:48,  9.28it/s]"
     ]
    },
    {
     "name": "stdout",
     "output_type": "stream",
     "text": [
      "Client 1: accuracy loss: 3.63 | fairness loss 2583526.58 | Demographic disparity = 0.33\n",
      "Client 2: accuracy loss: 2.49 | fairness loss 3553841.61 | Demographic disparity = 0.28\n",
      "Client 3: accuracy loss: 3.27 | fairness loss 2898763.57 | Demographic disparity = 0.34\n",
      " \n",
      "Avg Training Stats after 51 global rounds:\n",
      "Training loss: -88016.56 | Validation accuracy: 80.67% | Validation Demographic disparity: 0.3123\n",
      "\n",
      " | Global Round : 52 | constraint :  Cov(z, d) < c\n",
      "\n",
      "Client 1: accuracy loss: 3.63 | fairness loss 2604265.03 | Demographic disparity = 0.33\n",
      "Client 2: accuracy loss: 2.49 | fairness loss 3582683.88 | Demographic disparity = 0.28\n",
      "Client 3: accuracy loss: 3.27 | fairness loss 2922288.21 | Demographic disparity = 0.34\n",
      " \n",
      "Avg Training Stats after 52 global rounds:\n",
      "Training loss: -88370.18 | Validation accuracy: 80.67% | Validation Demographic disparity: 0.3123\n",
      "\n",
      " | Global Round : 53 | constraint :  Cov(z, d) < c\n",
      "\n"
     ]
    },
    {
     "name": "stderr",
     "output_type": "stream",
     "text": [
      " 11%|█         | 54/500 [00:05<00:47,  9.32it/s]"
     ]
    },
    {
     "name": "stdout",
     "output_type": "stream",
     "text": [
      "Client 1: accuracy loss: 3.63 | fairness loss 2625099.61 | Demographic disparity = 0.32\n",
      "Client 2: accuracy loss: 2.49 | fairness loss 3611661.35 | Demographic disparity = 0.28\n",
      "Client 3: accuracy loss: 3.27 | fairness loss 2945923.25 | Demographic disparity = 0.34\n",
      " \n",
      "Avg Training Stats after 53 global rounds:\n",
      "Training loss: -88724.11 | Validation accuracy: 80.38% | Validation Demographic disparity: 0.3089\n",
      "\n",
      " | Global Round : 54 | constraint :  Cov(z, d) < c\n",
      "\n",
      "Client 1: accuracy loss: 3.63 | fairness loss 2646030.24 | Demographic disparity = 0.32\n",
      "Client 2: accuracy loss: 2.49 | fairness loss 3640773.89 | Demographic disparity = 0.28\n",
      "Client 3: accuracy loss: 3.27 | fairness loss 2969668.57 | Demographic disparity = 0.34\n",
      " \n",
      "Avg Training Stats after 54 global rounds:\n",
      "Training loss: -89078.37 | Validation accuracy: 80.38% | Validation Demographic disparity: 0.3089\n",
      "\n",
      " | Global Round : 55 | constraint :  Cov(z, d) < c\n",
      "\n"
     ]
    },
    {
     "name": "stderr",
     "output_type": "stream",
     "text": [
      " 11%|█         | 56/500 [00:06<00:48,  9.22it/s]"
     ]
    },
    {
     "name": "stdout",
     "output_type": "stream",
     "text": [
      "Client 1: accuracy loss: 3.64 | fairness loss 2667056.34 | Demographic disparity = 0.32\n",
      "Client 2: accuracy loss: 2.49 | fairness loss 3670021.07 | Demographic disparity = 0.28\n",
      "Client 3: accuracy loss: 3.27 | fairness loss 2993523.88 | Demographic disparity = 0.34\n",
      " \n",
      "Avg Training Stats after 55 global rounds:\n",
      "Training loss: -89432.95 | Validation accuracy: 80.38% | Validation Demographic disparity: 0.3089\n",
      "\n",
      " | Global Round : 56 | constraint :  Cov(z, d) < c\n",
      "\n",
      "Client 1: accuracy loss: 3.64 | fairness loss 2688179.16 | Demographic disparity = 0.32\n",
      "Client 2: accuracy loss: 2.49 | fairness loss 3699404.47 | Demographic disparity = 0.27\n",
      "Client 3: accuracy loss: 3.27 | fairness loss 3017490.07 | Demographic disparity = 0.34\n",
      " \n",
      "Avg Training Stats after 56 global rounds:\n",
      "Training loss: -89787.84 | Validation accuracy: 80.06% | Validation Demographic disparity: 0.3056\n",
      "\n",
      " | Global Round : 57 | constraint :  Cov(z, d) < c\n",
      "\n"
     ]
    },
    {
     "name": "stderr",
     "output_type": "stream",
     "text": [
      " 12%|█▏        | 58/500 [00:06<00:47,  9.30it/s]"
     ]
    },
    {
     "name": "stdout",
     "output_type": "stream",
     "text": [
      "Client 1: accuracy loss: 3.64 | fairness loss 2709398.30 | Demographic disparity = 0.32\n",
      "Client 2: accuracy loss: 2.49 | fairness loss 3728922.94 | Demographic disparity = 0.27\n",
      "Client 3: accuracy loss: 3.27 | fairness loss 3041566.69 | Demographic disparity = 0.34\n",
      " \n",
      "Avg Training Stats after 57 global rounds:\n",
      "Training loss: -90143.04 | Validation accuracy: 80.06% | Validation Demographic disparity: 0.3056\n",
      "\n",
      " | Global Round : 58 | constraint :  Cov(z, d) < c\n",
      "\n",
      "Client 1: accuracy loss: 3.64 | fairness loss 2730713.87 | Demographic disparity = 0.32\n",
      "Client 2: accuracy loss: 2.49 | fairness loss 3758577.49 | Demographic disparity = 0.27\n",
      "Client 3: accuracy loss: 3.27 | fairness loss 3065754.40 | Demographic disparity = 0.34\n",
      " \n",
      "Avg Training Stats after 58 global rounds:\n",
      "Training loss: -90498.55 | Validation accuracy: 80.06% | Validation Demographic disparity: 0.3056\n",
      "\n",
      " | Global Round : 59 | constraint :  Cov(z, d) < c\n",
      "\n"
     ]
    },
    {
     "name": "stderr",
     "output_type": "stream",
     "text": [
      " 12%|█▏        | 60/500 [00:06<00:48,  9.10it/s]"
     ]
    },
    {
     "name": "stdout",
     "output_type": "stream",
     "text": [
      "Client 1: accuracy loss: 3.64 | fairness loss 2752125.87 | Demographic disparity = 0.32\n",
      "Client 2: accuracy loss: 2.49 | fairness loss 3788367.93 | Demographic disparity = 0.27\n",
      "Client 3: accuracy loss: 3.27 | fairness loss 3090053.08 | Demographic disparity = 0.34\n",
      " \n",
      "Avg Training Stats after 59 global rounds:\n",
      "Training loss: -90854.37 | Validation accuracy: 80.06% | Validation Demographic disparity: 0.3056\n",
      "\n",
      " | Global Round : 60 | constraint :  Cov(z, d) < c\n",
      "\n",
      "Client 1: accuracy loss: 3.64 | fairness loss 2773634.82 | Demographic disparity = 0.32\n",
      "Client 2: accuracy loss: 2.49 | fairness loss 3818294.83 | Demographic disparity = 0.27\n",
      "Client 3: accuracy loss: 3.28 | fairness loss 3114462.94 | Demographic disparity = 0.34\n",
      " \n",
      "Avg Training Stats after 60 global rounds:\n",
      "Training loss: -91210.50 | Validation accuracy: 80.06% | Validation Demographic disparity: 0.3056\n",
      "\n",
      " | Global Round : 61 | constraint :  Cov(z, d) < c\n",
      "\n"
     ]
    },
    {
     "name": "stderr",
     "output_type": "stream",
     "text": [
      " 12%|█▏        | 62/500 [00:06<00:48,  9.12it/s]"
     ]
    },
    {
     "name": "stdout",
     "output_type": "stream",
     "text": [
      "Client 1: accuracy loss: 3.64 | fairness loss 2795241.17 | Demographic disparity = 0.32\n",
      "Client 2: accuracy loss: 2.49 | fairness loss 3848358.73 | Demographic disparity = 0.27\n",
      "Client 3: accuracy loss: 3.28 | fairness loss 3138984.75 | Demographic disparity = 0.34\n",
      " \n",
      "Avg Training Stats after 61 global rounds:\n",
      "Training loss: -91566.93 | Validation accuracy: 80.06% | Validation Demographic disparity: 0.3056\n",
      "\n",
      " | Global Round : 62 | constraint :  Cov(z, d) < c\n",
      "\n",
      "Client 1: accuracy loss: 3.64 | fairness loss 2816944.42 | Demographic disparity = 0.32\n",
      "Client 2: accuracy loss: 2.49 | fairness loss 3878558.99 | Demographic disparity = 0.27\n",
      "Client 3: accuracy loss: 3.28 | fairness loss 3163617.78 | Demographic disparity = 0.34\n",
      " \n",
      "Avg Training Stats after 62 global rounds:\n",
      "Training loss: -91923.67 | Validation accuracy: 80.06% | Validation Demographic disparity: 0.3056\n",
      "\n",
      " | Global Round : 63 | constraint :  Cov(z, d) < c\n",
      "\n"
     ]
    },
    {
     "name": "stderr",
     "output_type": "stream",
     "text": [
      " 13%|█▎        | 64/500 [00:07<00:47,  9.11it/s]"
     ]
    },
    {
     "name": "stdout",
     "output_type": "stream",
     "text": [
      "Client 1: accuracy loss: 3.64 | fairness loss 2838745.32 | Demographic disparity = 0.32\n",
      "Client 2: accuracy loss: 2.49 | fairness loss 3908896.47 | Demographic disparity = 0.27\n",
      "Client 3: accuracy loss: 3.28 | fairness loss 3188362.96 | Demographic disparity = 0.34\n",
      " \n",
      "Avg Training Stats after 63 global rounds:\n",
      "Training loss: -92280.71 | Validation accuracy: 80.06% | Validation Demographic disparity: 0.3056\n",
      "\n",
      " | Global Round : 64 | constraint :  Cov(z, d) < c\n",
      "\n",
      "Client 1: accuracy loss: 3.64 | fairness loss 2860643.28 | Demographic disparity = 0.32\n",
      "Client 2: accuracy loss: 2.50 | fairness loss 3939371.09 | Demographic disparity = 0.27\n",
      "Client 3: accuracy loss: 3.28 | fairness loss 3213219.86 | Demographic disparity = 0.34\n",
      " \n",
      "Avg Training Stats after 64 global rounds:\n",
      "Training loss: -92638.04 | Validation accuracy: 80.06% | Validation Demographic disparity: 0.3056\n",
      "\n",
      " | Global Round : 65 | constraint :  Cov(z, d) < c\n",
      "\n"
     ]
    },
    {
     "name": "stderr",
     "output_type": "stream",
     "text": [
      " 13%|█▎        | 66/500 [00:07<00:47,  9.13it/s]"
     ]
    },
    {
     "name": "stdout",
     "output_type": "stream",
     "text": [
      "Client 1: accuracy loss: 3.64 | fairness loss 2882638.75 | Demographic disparity = 0.32\n",
      "Client 2: accuracy loss: 2.50 | fairness loss 3969982.69 | Demographic disparity = 0.27\n",
      "Client 3: accuracy loss: 3.28 | fairness loss 3238188.76 | Demographic disparity = 0.34\n",
      " \n",
      "Avg Training Stats after 65 global rounds:\n",
      "Training loss: -92995.68 | Validation accuracy: 80.06% | Validation Demographic disparity: 0.3056\n",
      "\n",
      " | Global Round : 66 | constraint :  Cov(z, d) < c\n",
      "\n",
      "Client 1: accuracy loss: 3.65 | fairness loss 2904732.19 | Demographic disparity = 0.31\n",
      "Client 2: accuracy loss: 2.50 | fairness loss 4000732.23 | Demographic disparity = 0.27\n",
      "Client 3: accuracy loss: 3.28 | fairness loss 3263270.08 | Demographic disparity = 0.34\n",
      " \n",
      "Avg Training Stats after 66 global rounds:\n",
      "Training loss: -93353.61 | Validation accuracy: 80.35% | Validation Demographic disparity: 0.3023\n",
      "\n",
      " | Global Round : 67 | constraint :  Cov(z, d) < c\n",
      "\n"
     ]
    },
    {
     "name": "stderr",
     "output_type": "stream",
     "text": [
      " 14%|█▎        | 68/500 [00:07<00:46,  9.23it/s]"
     ]
    },
    {
     "name": "stdout",
     "output_type": "stream",
     "text": [
      "Client 1: accuracy loss: 3.65 | fairness loss 2926923.85 | Demographic disparity = 0.29\n",
      "Client 2: accuracy loss: 2.50 | fairness loss 4031620.18 | Demographic disparity = 0.27\n",
      "Client 3: accuracy loss: 3.28 | fairness loss 3288464.42 | Demographic disparity = 0.34\n",
      " \n",
      "Avg Training Stats after 67 global rounds:\n",
      "Training loss: -93711.83 | Validation accuracy: 79.76% | Validation Demographic disparity: 0.2957\n",
      "\n",
      " | Global Round : 68 | constraint :  Cov(z, d) < c\n",
      "\n",
      "Client 1: accuracy loss: 3.65 | fairness loss 2949213.28 | Demographic disparity = 0.29\n",
      "Client 2: accuracy loss: 2.50 | fairness loss 4062645.51 | Demographic disparity = 0.27\n",
      "Client 3: accuracy loss: 3.28 | fairness loss 3313770.97 | Demographic disparity = 0.34\n",
      " \n",
      "Avg Training Stats after 68 global rounds:\n",
      "Training loss: -94070.35 | Validation accuracy: 79.76% | Validation Demographic disparity: 0.2957\n",
      "\n",
      " | Global Round : 69 | constraint :  Cov(z, d) < c\n",
      "\n"
     ]
    },
    {
     "name": "stderr",
     "output_type": "stream",
     "text": [
      " 14%|█▍        | 70/500 [00:07<00:46,  9.19it/s]"
     ]
    },
    {
     "name": "stdout",
     "output_type": "stream",
     "text": [
      "Client 1: accuracy loss: 3.65 | fairness loss 2971600.86 | Demographic disparity = 0.29\n",
      "Client 2: accuracy loss: 2.50 | fairness loss 4093809.17 | Demographic disparity = 0.27\n",
      "Client 3: accuracy loss: 3.28 | fairness loss 3339190.36 | Demographic disparity = 0.34\n",
      " \n",
      "Avg Training Stats after 69 global rounds:\n",
      "Training loss: -94429.15 | Validation accuracy: 79.76% | Validation Demographic disparity: 0.2957\n",
      "\n",
      " | Global Round : 70 | constraint :  Cov(z, d) < c\n",
      "\n",
      "Client 1: accuracy loss: 3.65 | fairness loss 2994086.74 | Demographic disparity = 0.29\n",
      "Client 2: accuracy loss: 2.50 | fairness loss 4125111.05 | Demographic disparity = 0.24\n",
      "Client 3: accuracy loss: 3.28 | fairness loss 3364722.74 | Demographic disparity = 0.33\n",
      " \n",
      "Avg Training Stats after 70 global rounds:\n",
      "Training loss: -94788.25 | Validation accuracy: 78.72% | Validation Demographic disparity: 0.2857\n",
      "\n",
      " | Global Round : 71 | constraint :  Cov(z, d) < c\n",
      "\n"
     ]
    },
    {
     "name": "stderr",
     "output_type": "stream",
     "text": [
      " 14%|█▍        | 72/500 [00:07<00:48,  8.79it/s]"
     ]
    },
    {
     "name": "stdout",
     "output_type": "stream",
     "text": [
      "Client 1: accuracy loss: 3.65 | fairness loss 3016671.43 | Demographic disparity = 0.29\n",
      "Client 2: accuracy loss: 2.50 | fairness loss 4156551.93 | Demographic disparity = 0.24\n",
      "Client 3: accuracy loss: 3.28 | fairness loss 3390368.42 | Demographic disparity = 0.33\n",
      " \n",
      "Avg Training Stats after 71 global rounds:\n",
      "Training loss: -95147.63 | Validation accuracy: 78.72% | Validation Demographic disparity: 0.2857\n",
      "\n",
      " | Global Round : 72 | constraint :  Cov(z, d) < c\n",
      "\n",
      "Client 1: accuracy loss: 3.65 | fairness loss 3039354.36 | Demographic disparity = 0.29\n",
      "Client 2: accuracy loss: 2.50 | fairness loss 4188131.68 | Demographic disparity = 0.24\n",
      "Client 3: accuracy loss: 3.28 | fairness loss 3416127.44 | Demographic disparity = 0.32\n",
      " \n",
      "Avg Training Stats after 72 global rounds:\n",
      "Training loss: -95507.30 | Validation accuracy: 78.32% | Validation Demographic disparity: 0.2824\n",
      "\n",
      " | Global Round : 73 | constraint :  Cov(z, d) < c\n",
      "\n"
     ]
    },
    {
     "name": "stderr",
     "output_type": "stream",
     "text": [
      " 15%|█▍        | 74/500 [00:08<00:48,  8.72it/s]"
     ]
    },
    {
     "name": "stdout",
     "output_type": "stream",
     "text": [
      "Client 1: accuracy loss: 3.65 | fairness loss 3062136.59 | Demographic disparity = 0.29\n",
      "Client 2: accuracy loss: 2.50 | fairness loss 4219850.73 | Demographic disparity = 0.24\n",
      "Client 3: accuracy loss: 3.28 | fairness loss 3442000.12 | Demographic disparity = 0.32\n",
      " \n",
      "Avg Training Stats after 73 global rounds:\n",
      "Training loss: -95867.25 | Validation accuracy: 78.32% | Validation Demographic disparity: 0.2824\n",
      "\n",
      " | Global Round : 74 | constraint :  Cov(z, d) < c\n",
      "\n",
      "Client 1: accuracy loss: 3.65 | fairness loss 3085017.04 | Demographic disparity = 0.29\n",
      "Client 2: accuracy loss: 2.50 | fairness loss 4251708.32 | Demographic disparity = 0.24\n",
      "Client 3: accuracy loss: 3.29 | fairness loss 3467986.07 | Demographic disparity = 0.31\n",
      " \n",
      "Avg Training Stats after 74 global rounds:\n",
      "Training loss: -96227.49 | Validation accuracy: 77.93% | Validation Demographic disparity: 0.2790\n",
      "\n",
      " | Global Round : 75 | constraint :  Cov(z, d) < c\n",
      "\n"
     ]
    },
    {
     "name": "stderr",
     "output_type": "stream",
     "text": [
      " 15%|█▌        | 76/500 [00:08<00:47,  8.89it/s]"
     ]
    },
    {
     "name": "stdout",
     "output_type": "stream",
     "text": [
      "Client 1: accuracy loss: 3.65 | fairness loss 3107997.05 | Demographic disparity = 0.29\n",
      "Client 2: accuracy loss: 2.50 | fairness loss 4283705.86 | Demographic disparity = 0.24\n",
      "Client 3: accuracy loss: 3.29 | fairness loss 3494086.08 | Demographic disparity = 0.30\n",
      " \n",
      "Avg Training Stats after 75 global rounds:\n",
      "Training loss: -96588.01 | Validation accuracy: 77.54% | Validation Demographic disparity: 0.2757\n",
      "\n",
      " | Global Round : 76 | constraint :  Cov(z, d) < c\n",
      "\n",
      "Client 1: accuracy loss: 3.65 | fairness loss 3131076.05 | Demographic disparity = 0.29\n",
      "Client 2: accuracy loss: 2.50 | fairness loss 4315842.68 | Demographic disparity = 0.24\n",
      "Client 3: accuracy loss: 3.29 | fairness loss 3520299.71 | Demographic disparity = 0.30\n",
      " \n",
      "Avg Training Stats after 76 global rounds:\n",
      "Training loss: -96948.80 | Validation accuracy: 77.54% | Validation Demographic disparity: 0.2757\n",
      "\n",
      " | Global Round : 77 | constraint :  Cov(z, d) < c\n",
      "\n"
     ]
    },
    {
     "name": "stderr",
     "output_type": "stream",
     "text": [
      " 16%|█▌        | 78/500 [00:08<00:46,  9.02it/s]"
     ]
    },
    {
     "name": "stdout",
     "output_type": "stream",
     "text": [
      "Client 1: accuracy loss: 3.66 | fairness loss 3154255.31 | Demographic disparity = 0.29\n",
      "Client 2: accuracy loss: 2.50 | fairness loss 4348120.73 | Demographic disparity = 0.24\n",
      "Client 3: accuracy loss: 3.29 | fairness loss 3546628.69 | Demographic disparity = 0.30\n",
      " \n",
      "Avg Training Stats after 77 global rounds:\n",
      "Training loss: -97309.88 | Validation accuracy: 77.54% | Validation Demographic disparity: 0.2757\n",
      "\n",
      " | Global Round : 78 | constraint :  Cov(z, d) < c\n",
      "\n",
      "Client 1: accuracy loss: 3.66 | fairness loss 3177533.53 | Demographic disparity = 0.28\n",
      "Client 2: accuracy loss: 2.50 | fairness loss 4380538.11 | Demographic disparity = 0.24\n",
      "Client 3: accuracy loss: 3.29 | fairness loss 3573071.65 | Demographic disparity = 0.30\n",
      " \n",
      "Avg Training Stats after 78 global rounds:\n",
      "Training loss: -97671.23 | Validation accuracy: 77.25% | Validation Demographic disparity: 0.2724\n",
      "\n",
      " | Global Round : 79 | constraint :  Cov(z, d) < c\n",
      "\n"
     ]
    },
    {
     "name": "stderr",
     "output_type": "stream",
     "text": [
      " 16%|█▌        | 80/500 [00:08<00:46,  8.94it/s]"
     ]
    },
    {
     "name": "stdout",
     "output_type": "stream",
     "text": [
      "Client 1: accuracy loss: 3.66 | fairness loss 3200911.01 | Demographic disparity = 0.28\n",
      "Client 2: accuracy loss: 2.50 | fairness loss 4413095.23 | Demographic disparity = 0.24\n",
      "Client 3: accuracy loss: 3.29 | fairness loss 3599628.29 | Demographic disparity = 0.30\n",
      " \n",
      "Avg Training Stats after 79 global rounds:\n",
      "Training loss: -98032.86 | Validation accuracy: 77.25% | Validation Demographic disparity: 0.2724\n",
      "\n",
      " | Global Round : 80 | constraint :  Cov(z, d) < c\n",
      "\n",
      "Client 1: accuracy loss: 3.66 | fairness loss 3224388.23 | Demographic disparity = 0.28\n",
      "Client 2: accuracy loss: 2.50 | fairness loss 4445792.66 | Demographic disparity = 0.24\n",
      "Client 3: accuracy loss: 3.29 | fairness loss 3626299.54 | Demographic disparity = 0.30\n",
      " \n",
      "Avg Training Stats after 80 global rounds:\n",
      "Training loss: -98394.76 | Validation accuracy: 77.25% | Validation Demographic disparity: 0.2724\n",
      "\n",
      " | Global Round : 81 | constraint :  Cov(z, d) < c\n",
      "\n"
     ]
    },
    {
     "name": "stderr",
     "output_type": "stream",
     "text": [
      " 16%|█▋        | 82/500 [00:09<00:47,  8.77it/s]"
     ]
    },
    {
     "name": "stdout",
     "output_type": "stream",
     "text": [
      "Client 1: accuracy loss: 3.66 | fairness loss 3247965.68 | Demographic disparity = 0.28\n",
      "Client 2: accuracy loss: 2.50 | fairness loss 4478631.45 | Demographic disparity = 0.24\n",
      "Client 3: accuracy loss: 3.29 | fairness loss 3653086.19 | Demographic disparity = 0.30\n",
      " \n",
      "Avg Training Stats after 81 global rounds:\n",
      "Training loss: -98756.93 | Validation accuracy: 77.25% | Validation Demographic disparity: 0.2724\n",
      "\n",
      " | Global Round : 82 | constraint :  Cov(z, d) < c\n",
      "\n",
      "Client 1: accuracy loss: 3.66 | fairness loss 3271642.99 | Demographic disparity = 0.28\n",
      "Client 2: accuracy loss: 2.50 | fairness loss 4511610.39 | Demographic disparity = 0.24\n",
      "Client 3: accuracy loss: 3.29 | fairness loss 3679987.32 | Demographic disparity = 0.30\n",
      " \n",
      "Avg Training Stats after 82 global rounds:\n",
      "Training loss: -99119.38 | Validation accuracy: 76.96% | Validation Demographic disparity: 0.2691\n",
      "\n",
      " | Global Round : 83 | constraint :  Cov(z, d) < c\n",
      "\n"
     ]
    },
    {
     "name": "stderr",
     "output_type": "stream",
     "text": [
      " 17%|█▋        | 84/500 [00:09<00:48,  8.66it/s]"
     ]
    },
    {
     "name": "stdout",
     "output_type": "stream",
     "text": [
      "Client 1: accuracy loss: 3.66 | fairness loss 3295420.82 | Demographic disparity = 0.28\n",
      "Client 2: accuracy loss: 2.51 | fairness loss 4544731.50 | Demographic disparity = 0.24\n",
      "Client 3: accuracy loss: 3.29 | fairness loss 3707004.49 | Demographic disparity = 0.30\n",
      " \n",
      "Avg Training Stats after 83 global rounds:\n",
      "Training loss: -99482.09 | Validation accuracy: 76.96% | Validation Demographic disparity: 0.2691\n",
      "\n",
      " | Global Round : 84 | constraint :  Cov(z, d) < c\n",
      "\n",
      "Client 1: accuracy loss: 3.66 | fairness loss 3319298.73 | Demographic disparity = 0.28\n",
      "Client 2: accuracy loss: 2.51 | fairness loss 4577992.93 | Demographic disparity = 0.24\n",
      "Client 3: accuracy loss: 3.29 | fairness loss 3734136.12 | Demographic disparity = 0.30\n",
      " \n",
      "Avg Training Stats after 84 global rounds:\n",
      "Training loss: -99845.07 | Validation accuracy: 76.96% | Validation Demographic disparity: 0.2691\n",
      "\n",
      " | Global Round : 85 | constraint :  Cov(z, d) < c\n",
      "\n"
     ]
    },
    {
     "name": "stderr",
     "output_type": "stream",
     "text": [
      " 17%|█▋        | 86/500 [00:09<00:47,  8.76it/s]"
     ]
    },
    {
     "name": "stdout",
     "output_type": "stream",
     "text": [
      "Client 1: accuracy loss: 3.66 | fairness loss 3343277.55 | Demographic disparity = 0.28\n",
      "Client 2: accuracy loss: 2.51 | fairness loss 4611396.80 | Demographic disparity = 0.24\n",
      "Client 3: accuracy loss: 3.29 | fairness loss 3761384.10 | Demographic disparity = 0.30\n",
      " \n",
      "Avg Training Stats after 85 global rounds:\n",
      "Training loss: -100208.32 | Validation accuracy: 76.96% | Validation Demographic disparity: 0.2691\n",
      "\n",
      " | Global Round : 86 | constraint :  Cov(z, d) < c\n",
      "\n",
      "Client 1: accuracy loss: 3.66 | fairness loss 3367356.99 | Demographic disparity = 0.28\n",
      "Client 2: accuracy loss: 2.51 | fairness loss 4644942.07 | Demographic disparity = 0.23\n",
      "Client 3: accuracy loss: 3.29 | fairness loss 3788747.68 | Demographic disparity = 0.28\n",
      " \n",
      "Avg Training Stats after 86 global rounds:\n",
      "Training loss: -100571.84 | Validation accuracy: 76.24% | Validation Demographic disparity: 0.2624\n",
      "\n",
      " | Global Round : 87 | constraint :  Cov(z, d) < c\n",
      "\n"
     ]
    },
    {
     "name": "stderr",
     "output_type": "stream",
     "text": [
      " 18%|█▊        | 88/500 [00:09<00:46,  8.94it/s]"
     ]
    },
    {
     "name": "stdout",
     "output_type": "stream",
     "text": [
      "Client 1: accuracy loss: 3.67 | fairness loss 3391537.80 | Demographic disparity = 0.28\n",
      "Client 2: accuracy loss: 2.51 | fairness loss 4678629.75 | Demographic disparity = 0.23\n",
      "Client 3: accuracy loss: 3.29 | fairness loss 3816227.06 | Demographic disparity = 0.28\n",
      " \n",
      "Avg Training Stats after 87 global rounds:\n",
      "Training loss: -100935.62 | Validation accuracy: 76.24% | Validation Demographic disparity: 0.2624\n",
      "\n",
      " | Global Round : 88 | constraint :  Cov(z, d) < c\n",
      "\n",
      "Client 1: accuracy loss: 3.67 | fairness loss 3415818.94 | Demographic disparity = 0.28\n",
      "Client 2: accuracy loss: 2.51 | fairness loss 4712459.34 | Demographic disparity = 0.23\n",
      "Client 3: accuracy loss: 3.29 | fairness loss 3843822.28 | Demographic disparity = 0.28\n",
      " \n",
      "Avg Training Stats after 88 global rounds:\n",
      "Training loss: -101299.66 | Validation accuracy: 76.24% | Validation Demographic disparity: 0.2624\n",
      "\n",
      " | Global Round : 89 | constraint :  Cov(z, d) < c\n",
      "\n"
     ]
    },
    {
     "name": "stderr",
     "output_type": "stream",
     "text": [
      " 18%|█▊        | 90/500 [00:09<00:47,  8.71it/s]"
     ]
    },
    {
     "name": "stdout",
     "output_type": "stream",
     "text": [
      "Client 1: accuracy loss: 3.67 | fairness loss 3440201.72 | Demographic disparity = 0.28\n",
      "Client 2: accuracy loss: 2.51 | fairness loss 4746431.50 | Demographic disparity = 0.23\n",
      "Client 3: accuracy loss: 3.30 | fairness loss 3871534.35 | Demographic disparity = 0.28\n",
      " \n",
      "Avg Training Stats after 89 global rounds:\n",
      "Training loss: -101663.97 | Validation accuracy: 76.24% | Validation Demographic disparity: 0.2624\n",
      "\n",
      " | Global Round : 90 | constraint :  Cov(z, d) < c\n",
      "\n",
      "Client 1: accuracy loss: 3.67 | fairness loss 3464685.72 | Demographic disparity = 0.28\n",
      "Client 2: accuracy loss: 2.51 | fairness loss 4780545.95 | Demographic disparity = 0.23\n",
      "Client 3: accuracy loss: 3.30 | fairness loss 3899362.42 | Demographic disparity = 0.28\n",
      " \n",
      "Avg Training Stats after 90 global rounds:\n",
      "Training loss: -102028.53 | Validation accuracy: 76.24% | Validation Demographic disparity: 0.2624\n",
      "\n",
      " | Global Round : 91 | constraint :  Cov(z, d) < c\n",
      "\n"
     ]
    },
    {
     "name": "stderr",
     "output_type": "stream",
     "text": [
      " 18%|█▊        | 92/500 [00:10<00:49,  8.17it/s]"
     ]
    },
    {
     "name": "stdout",
     "output_type": "stream",
     "text": [
      "Client 1: accuracy loss: 3.67 | fairness loss 3489270.80 | Demographic disparity = 0.28\n",
      "Client 2: accuracy loss: 2.51 | fairness loss 4814803.77 | Demographic disparity = 0.22\n",
      "Client 3: accuracy loss: 3.30 | fairness loss 3927306.90 | Demographic disparity = 0.28\n",
      " \n",
      "Avg Training Stats after 91 global rounds:\n",
      "Training loss: -102393.36 | Validation accuracy: 75.91% | Validation Demographic disparity: 0.2591\n",
      "\n",
      " | Global Round : 92 | constraint :  Cov(z, d) < c\n",
      "\n",
      "Client 1: accuracy loss: 3.67 | fairness loss 3513958.81 | Demographic disparity = 0.28\n",
      "Client 2: accuracy loss: 2.51 | fairness loss 4849205.09 | Demographic disparity = 0.22\n",
      "Client 3: accuracy loss: 3.30 | fairness loss 3955369.29 | Demographic disparity = 0.28\n",
      " \n",
      "Avg Training Stats after 92 global rounds:\n",
      "Training loss: -102758.44 | Validation accuracy: 75.91% | Validation Demographic disparity: 0.2591\n",
      "\n",
      " | Global Round : 93 | constraint :  Cov(z, d) < c\n",
      "\n"
     ]
    },
    {
     "name": "stderr",
     "output_type": "stream",
     "text": [
      " 19%|█▉        | 94/500 [00:10<00:47,  8.54it/s]"
     ]
    },
    {
     "name": "stdout",
     "output_type": "stream",
     "text": [
      "Client 1: accuracy loss: 3.67 | fairness loss 3538747.94 | Demographic disparity = 0.28\n",
      "Client 2: accuracy loss: 2.51 | fairness loss 4883749.45 | Demographic disparity = 0.22\n",
      "Client 3: accuracy loss: 3.30 | fairness loss 3983548.21 | Demographic disparity = 0.28\n",
      " \n",
      "Avg Training Stats after 93 global rounds:\n",
      "Training loss: -103123.78 | Validation accuracy: 75.91% | Validation Demographic disparity: 0.2591\n",
      "\n",
      " | Global Round : 94 | constraint :  Cov(z, d) < c\n",
      "\n",
      "Client 1: accuracy loss: 3.67 | fairness loss 3563638.99 | Demographic disparity = 0.28\n",
      "Client 2: accuracy loss: 2.51 | fairness loss 4918437.27 | Demographic disparity = 0.21\n",
      "Client 3: accuracy loss: 3.30 | fairness loss 4011844.04 | Demographic disparity = 0.28\n",
      " \n",
      "Avg Training Stats after 94 global rounds:\n",
      "Training loss: -103489.38 | Validation accuracy: 75.58% | Validation Demographic disparity: 0.2558\n",
      "\n",
      " | Global Round : 95 | constraint :  Cov(z, d) < c\n",
      "\n"
     ]
    },
    {
     "name": "stderr",
     "output_type": "stream",
     "text": [
      " 19%|█▉        | 96/500 [00:10<00:51,  7.82it/s]"
     ]
    },
    {
     "name": "stdout",
     "output_type": "stream",
     "text": [
      "Client 1: accuracy loss: 3.67 | fairness loss 3588631.95 | Demographic disparity = 0.28\n",
      "Client 2: accuracy loss: 2.51 | fairness loss 4953268.82 | Demographic disparity = 0.19\n",
      "Client 3: accuracy loss: 3.30 | fairness loss 4040257.15 | Demographic disparity = 0.28\n",
      " \n",
      "Avg Training Stats after 95 global rounds:\n",
      "Training loss: -103855.23 | Validation accuracy: 75.26% | Validation Demographic disparity: 0.2525\n",
      "\n",
      " | Global Round : 96 | constraint :  Cov(z, d) < c\n",
      "\n",
      "Client 1: accuracy loss: 3.67 | fairness loss 3613727.44 | Demographic disparity = 0.28\n",
      "Client 2: accuracy loss: 2.51 | fairness loss 4988244.30 | Demographic disparity = 0.19\n",
      "Client 3: accuracy loss: 3.30 | fairness loss 4068788.03 | Demographic disparity = 0.28\n",
      " \n",
      "Avg Training Stats after 96 global rounds:\n",
      "Training loss: -104221.34 | Validation accuracy: 75.26% | Validation Demographic disparity: 0.2525\n",
      "\n",
      " | Global Round : 97 | constraint :  Cov(z, d) < c\n",
      "\n"
     ]
    },
    {
     "name": "stderr",
     "output_type": "stream",
     "text": [
      " 20%|█▉        | 98/500 [00:10<00:47,  8.42it/s]"
     ]
    },
    {
     "name": "stdout",
     "output_type": "stream",
     "text": [
      "Client 1: accuracy loss: 3.67 | fairness loss 3638925.14 | Demographic disparity = 0.27\n",
      "Client 2: accuracy loss: 2.51 | fairness loss 5023363.80 | Demographic disparity = 0.18\n",
      "Client 3: accuracy loss: 3.30 | fairness loss 4097436.40 | Demographic disparity = 0.28\n",
      " \n",
      "Avg Training Stats after 97 global rounds:\n",
      "Training loss: -104587.70 | Validation accuracy: 74.64% | Validation Demographic disparity: 0.2458\n",
      "\n",
      " | Global Round : 98 | constraint :  Cov(z, d) < c\n",
      "\n",
      "Client 1: accuracy loss: 3.68 | fairness loss 3664225.80 | Demographic disparity = 0.27\n",
      "Client 2: accuracy loss: 2.51 | fairness loss 5058627.73 | Demographic disparity = 0.18\n",
      "Client 3: accuracy loss: 3.30 | fairness loss 4126202.64 | Demographic disparity = 0.28\n",
      " \n",
      "Avg Training Stats after 98 global rounds:\n",
      "Training loss: -104954.31 | Validation accuracy: 74.64% | Validation Demographic disparity: 0.2458\n",
      "\n",
      " | Global Round : 99 | constraint :  Cov(z, d) < c\n",
      "\n"
     ]
    },
    {
     "name": "stderr",
     "output_type": "stream",
     "text": [
      " 20%|██        | 100/500 [00:11<00:46,  8.58it/s]"
     ]
    },
    {
     "name": "stdout",
     "output_type": "stream",
     "text": [
      "Client 1: accuracy loss: 3.68 | fairness loss 3689629.12 | Demographic disparity = 0.27\n",
      "Client 2: accuracy loss: 2.51 | fairness loss 5094036.98 | Demographic disparity = 0.17\n",
      "Client 3: accuracy loss: 3.30 | fairness loss 4155086.97 | Demographic disparity = 0.27\n",
      " \n",
      "Avg Training Stats after 99 global rounds:\n",
      "Training loss: -105321.17 | Validation accuracy: 73.92% | Validation Demographic disparity: 0.2392\n",
      "\n",
      " | Global Round : 100 | constraint :  Cov(z, d) < c\n",
      "\n",
      "Client 1: accuracy loss: 3.68 | fairness loss 3715135.36 | Demographic disparity = 0.26\n",
      "Client 2: accuracy loss: 2.51 | fairness loss 5129590.80 | Demographic disparity = 0.17\n",
      "Client 3: accuracy loss: 3.30 | fairness loss 4184089.99 | Demographic disparity = 0.27\n",
      " \n",
      "Avg Training Stats after 100 global rounds:\n",
      "Training loss: -105688.28 | Validation accuracy: 73.63% | Validation Demographic disparity: 0.2359\n",
      "\n",
      " | Global Round : 101 | constraint :  Cov(z, d) < c\n",
      "\n"
     ]
    },
    {
     "name": "stderr",
     "output_type": "stream",
     "text": [
      " 20%|██        | 102/500 [00:11<00:45,  8.83it/s]"
     ]
    },
    {
     "name": "stdout",
     "output_type": "stream",
     "text": [
      "Client 1: accuracy loss: 3.68 | fairness loss 3740744.67 | Demographic disparity = 0.26\n",
      "Client 2: accuracy loss: 2.51 | fairness loss 5165289.52 | Demographic disparity = 0.17\n",
      "Client 3: accuracy loss: 3.30 | fairness loss 4213211.22 | Demographic disparity = 0.27\n",
      " \n",
      "Avg Training Stats after 101 global rounds:\n",
      "Training loss: -106055.64 | Validation accuracy: 73.63% | Validation Demographic disparity: 0.2359\n",
      "\n",
      " | Global Round : 102 | constraint :  Cov(z, d) < c\n",
      "\n",
      "Client 1: accuracy loss: 3.68 | fairness loss 3766457.34 | Demographic disparity = 0.26\n",
      "Client 2: accuracy loss: 2.51 | fairness loss 5201133.57 | Demographic disparity = 0.17\n",
      "Client 3: accuracy loss: 3.30 | fairness loss 4242450.83 | Demographic disparity = 0.26\n",
      " \n",
      "Avg Training Stats after 102 global rounds:\n",
      "Training loss: -106423.24 | Validation accuracy: 73.23% | Validation Demographic disparity: 0.2325\n",
      "\n",
      " | Global Round : 103 | constraint :  Cov(z, d) < c\n",
      "\n"
     ]
    },
    {
     "name": "stderr",
     "output_type": "stream",
     "text": [
      " 21%|██        | 104/500 [00:11<00:45,  8.80it/s]"
     ]
    },
    {
     "name": "stdout",
     "output_type": "stream",
     "text": [
      "Client 1: accuracy loss: 3.68 | fairness loss 3792272.57 | Demographic disparity = 0.26\n",
      "Client 2: accuracy loss: 2.52 | fairness loss 5237122.77 | Demographic disparity = 0.16\n",
      "Client 3: accuracy loss: 3.31 | fairness loss 4271808.89 | Demographic disparity = 0.26\n",
      " \n",
      "Avg Training Stats after 103 global rounds:\n",
      "Training loss: -106791.10 | Validation accuracy: 72.91% | Validation Demographic disparity: 0.2292\n",
      "\n",
      " | Global Round : 104 | constraint :  Cov(z, d) < c\n",
      "\n",
      "Client 1: accuracy loss: 3.68 | fairness loss 3818191.98 | Demographic disparity = 0.26\n",
      "Client 2: accuracy loss: 2.52 | fairness loss 5273258.39 | Demographic disparity = 0.16\n",
      "Client 3: accuracy loss: 3.31 | fairness loss 4301286.46 | Demographic disparity = 0.26\n",
      " \n",
      "Avg Training Stats after 104 global rounds:\n",
      "Training loss: -107159.19 | Validation accuracy: 72.91% | Validation Demographic disparity: 0.2292\n",
      "\n",
      " | Global Round : 105 | constraint :  Cov(z, d) < c\n",
      "\n"
     ]
    },
    {
     "name": "stderr",
     "output_type": "stream",
     "text": [
      " 21%|██        | 106/500 [00:11<00:44,  8.91it/s]"
     ]
    },
    {
     "name": "stdout",
     "output_type": "stream",
     "text": [
      "Client 1: accuracy loss: 3.68 | fairness loss 3844214.48 | Demographic disparity = 0.26\n",
      "Client 2: accuracy loss: 2.52 | fairness loss 5309538.82 | Demographic disparity = 0.16\n",
      "Client 3: accuracy loss: 3.31 | fairness loss 4330882.61 | Demographic disparity = 0.25\n",
      " \n",
      "Avg Training Stats after 105 global rounds:\n",
      "Training loss: -107527.54 | Validation accuracy: 72.51% | Validation Demographic disparity: 0.2259\n",
      "\n",
      " | Global Round : 106 | constraint :  Cov(z, d) < c\n",
      "\n",
      "Client 1: accuracy loss: 3.68 | fairness loss 3870341.34 | Demographic disparity = 0.26\n",
      "Client 2: accuracy loss: 2.52 | fairness loss 5345966.55 | Demographic disparity = 0.16\n",
      "Client 3: accuracy loss: 3.31 | fairness loss 4360598.58 | Demographic disparity = 0.25\n",
      " \n",
      "Avg Training Stats after 106 global rounds:\n",
      "Training loss: -107896.12 | Validation accuracy: 72.51% | Validation Demographic disparity: 0.2259\n",
      "\n",
      " | Global Round : 107 | constraint :  Cov(z, d) < c\n",
      "\n"
     ]
    },
    {
     "name": "stderr",
     "output_type": "stream",
     "text": [
      " 22%|██▏       | 108/500 [00:12<00:43,  8.97it/s]"
     ]
    },
    {
     "name": "stdout",
     "output_type": "stream",
     "text": [
      "Client 1: accuracy loss: 3.68 | fairness loss 3896571.70 | Demographic disparity = 0.26\n",
      "Client 2: accuracy loss: 2.52 | fairness loss 5382539.70 | Demographic disparity = 0.16\n",
      "Client 3: accuracy loss: 3.31 | fairness loss 4390433.61 | Demographic disparity = 0.25\n",
      " \n",
      "Avg Training Stats after 107 global rounds:\n",
      "Training loss: -108264.95 | Validation accuracy: 72.51% | Validation Demographic disparity: 0.2259\n",
      "\n",
      " | Global Round : 108 | constraint :  Cov(z, d) < c\n",
      "\n",
      "Client 1: accuracy loss: 3.68 | fairness loss 3922906.32 | Demographic disparity = 0.26\n",
      "Client 2: accuracy loss: 2.52 | fairness loss 5419259.80 | Demographic disparity = 0.16\n",
      "Client 3: accuracy loss: 3.31 | fairness loss 4420388.32 | Demographic disparity = 0.25\n",
      " \n",
      "Avg Training Stats after 108 global rounds:\n",
      "Training loss: -108634.02 | Validation accuracy: 72.51% | Validation Demographic disparity: 0.2259\n",
      "\n",
      " | Global Round : 109 | constraint :  Cov(z, d) < c\n",
      "\n"
     ]
    },
    {
     "name": "stderr",
     "output_type": "stream",
     "text": [
      " 22%|██▏       | 110/500 [00:12<00:43,  9.02it/s]"
     ]
    },
    {
     "name": "stdout",
     "output_type": "stream",
     "text": [
      "Client 1: accuracy loss: 3.69 | fairness loss 3949345.10 | Demographic disparity = 0.25\n",
      "Client 2: accuracy loss: 2.52 | fairness loss 5456126.27 | Demographic disparity = 0.16\n",
      "Client 3: accuracy loss: 3.31 | fairness loss 4450462.68 | Demographic disparity = 0.25\n",
      " \n",
      "Avg Training Stats after 109 global rounds:\n",
      "Training loss: -109003.33 | Validation accuracy: 72.22% | Validation Demographic disparity: 0.2226\n",
      "\n",
      " | Global Round : 110 | constraint :  Cov(z, d) < c\n",
      "\n",
      "Client 1: accuracy loss: 3.69 | fairness loss 3975888.64 | Demographic disparity = 0.25\n",
      "Client 2: accuracy loss: 2.52 | fairness loss 5493140.07 | Demographic disparity = 0.16\n",
      "Client 3: accuracy loss: 3.31 | fairness loss 4480656.99 | Demographic disparity = 0.25\n",
      " \n",
      "Avg Training Stats after 110 global rounds:\n",
      "Training loss: -109372.88 | Validation accuracy: 72.22% | Validation Demographic disparity: 0.2226\n",
      "\n",
      " | Global Round : 111 | constraint :  Cov(z, d) < c\n",
      "\n"
     ]
    },
    {
     "name": "stderr",
     "output_type": "stream",
     "text": [
      " 22%|██▏       | 112/500 [00:12<00:42,  9.13it/s]"
     ]
    },
    {
     "name": "stdout",
     "output_type": "stream",
     "text": [
      "Client 1: accuracy loss: 3.69 | fairness loss 4002536.19 | Demographic disparity = 0.25\n",
      "Client 2: accuracy loss: 2.52 | fairness loss 5530301.02 | Demographic disparity = 0.16\n",
      "Client 3: accuracy loss: 3.31 | fairness loss 4510971.81 | Demographic disparity = 0.25\n",
      " \n",
      "Avg Training Stats after 111 global rounds:\n",
      "Training loss: -109742.67 | Validation accuracy: 72.22% | Validation Demographic disparity: 0.2226\n",
      "\n",
      " | Global Round : 112 | constraint :  Cov(z, d) < c\n",
      "\n",
      "Client 1: accuracy loss: 3.69 | fairness loss 4029288.51 | Demographic disparity = 0.25\n",
      "Client 2: accuracy loss: 2.52 | fairness loss 5567609.45 | Demographic disparity = 0.16\n",
      "Client 3: accuracy loss: 3.31 | fairness loss 4541406.32 | Demographic disparity = 0.25\n",
      " \n",
      "Avg Training Stats after 112 global rounds:\n",
      "Training loss: -110112.69 | Validation accuracy: 72.22% | Validation Demographic disparity: 0.2226\n",
      "\n",
      " | Global Round : 113 | constraint :  Cov(z, d) < c\n",
      "\n"
     ]
    },
    {
     "name": "stderr",
     "output_type": "stream",
     "text": [
      " 23%|██▎       | 114/500 [00:12<00:42,  9.09it/s]"
     ]
    },
    {
     "name": "stdout",
     "output_type": "stream",
     "text": [
      "Client 1: accuracy loss: 3.69 | fairness loss 4056145.84 | Demographic disparity = 0.24\n",
      "Client 2: accuracy loss: 2.52 | fairness loss 5605065.14 | Demographic disparity = 0.16\n",
      "Client 3: accuracy loss: 3.31 | fairness loss 4571961.61 | Demographic disparity = 0.25\n",
      " \n",
      "Avg Training Stats after 113 global rounds:\n",
      "Training loss: -110482.96 | Validation accuracy: 71.93% | Validation Demographic disparity: 0.2192\n",
      "\n",
      " | Global Round : 114 | constraint :  Cov(z, d) < c\n",
      "\n",
      "Client 1: accuracy loss: 3.69 | fairness loss 4083109.06 | Demographic disparity = 0.25\n",
      "Client 2: accuracy loss: 2.52 | fairness loss 5642669.59 | Demographic disparity = 0.16\n",
      "Client 3: accuracy loss: 3.31 | fairness loss 4602638.51 | Demographic disparity = 0.25\n",
      " \n",
      "Avg Training Stats after 114 global rounds:\n",
      "Training loss: -110853.46 | Validation accuracy: 72.22% | Validation Demographic disparity: 0.2226\n",
      "\n",
      " | Global Round : 115 | constraint :  Cov(z, d) < c\n",
      "\n"
     ]
    },
    {
     "name": "stderr",
     "output_type": "stream",
     "text": [
      " 23%|██▎       | 116/500 [00:12<00:41,  9.17it/s]"
     ]
    },
    {
     "name": "stdout",
     "output_type": "stream",
     "text": [
      "Client 1: accuracy loss: 3.69 | fairness loss 4110177.60 | Demographic disparity = 0.25\n",
      "Client 2: accuracy loss: 2.52 | fairness loss 5680422.75 | Demographic disparity = 0.16\n",
      "Client 3: accuracy loss: 3.31 | fairness loss 4633436.31 | Demographic disparity = 0.24\n",
      " \n",
      "Avg Training Stats after 115 global rounds:\n",
      "Training loss: -111224.19 | Validation accuracy: 71.83% | Validation Demographic disparity: 0.2192\n",
      "\n",
      " | Global Round : 116 | constraint :  Cov(z, d) < c\n",
      "\n",
      "Client 1: accuracy loss: 3.69 | fairness loss 4137350.72 | Demographic disparity = 0.25\n",
      "Client 2: accuracy loss: 2.52 | fairness loss 5718323.43 | Demographic disparity = 0.16\n",
      "Client 3: accuracy loss: 3.31 | fairness loss 4664354.82 | Demographic disparity = 0.21\n",
      " \n",
      "Avg Training Stats after 116 global rounds:\n",
      "Training loss: -111595.16 | Validation accuracy: 71.05% | Validation Demographic disparity: 0.2126\n",
      "\n",
      " | Global Round : 117 | constraint :  Cov(z, d) < c\n",
      "\n"
     ]
    },
    {
     "name": "stderr",
     "output_type": "stream",
     "text": [
      " 24%|██▎       | 118/500 [00:13<00:41,  9.20it/s]"
     ]
    },
    {
     "name": "stdout",
     "output_type": "stream",
     "text": [
      "Client 1: accuracy loss: 3.69 | fairness loss 4164629.16 | Demographic disparity = 0.25\n",
      "Client 2: accuracy loss: 2.52 | fairness loss 5756371.86 | Demographic disparity = 0.16\n",
      "Client 3: accuracy loss: 3.31 | fairness loss 4695393.83 | Demographic disparity = 0.20\n",
      " \n",
      "Avg Training Stats after 117 global rounds:\n",
      "Training loss: -111966.36 | Validation accuracy: 70.65% | Validation Demographic disparity: 0.2093\n",
      "\n",
      " | Global Round : 118 | constraint :  Cov(z, d) < c\n",
      "\n",
      "Client 1: accuracy loss: 3.69 | fairness loss 4192013.62 | Demographic disparity = 0.25\n",
      "Client 2: accuracy loss: 2.52 | fairness loss 5794569.32 | Demographic disparity = 0.16\n",
      "Client 3: accuracy loss: 3.32 | fairness loss 4726554.69 | Demographic disparity = 0.20\n",
      " \n",
      "Avg Training Stats after 118 global rounds:\n",
      "Training loss: -112337.80 | Validation accuracy: 70.65% | Validation Demographic disparity: 0.2093\n",
      "\n",
      " | Global Round : 119 | constraint :  Cov(z, d) < c\n",
      "\n"
     ]
    },
    {
     "name": "stderr",
     "output_type": "stream",
     "text": [
      " 24%|██▍       | 120/500 [00:13<00:41,  9.13it/s]"
     ]
    },
    {
     "name": "stdout",
     "output_type": "stream",
     "text": [
      "Client 1: accuracy loss: 3.69 | fairness loss 4219503.24 | Demographic disparity = 0.25\n",
      "Client 2: accuracy loss: 2.52 | fairness loss 5832915.80 | Demographic disparity = 0.16\n",
      "Client 3: accuracy loss: 3.32 | fairness loss 4757836.86 | Demographic disparity = 0.19\n",
      " \n",
      "Avg Training Stats after 119 global rounds:\n",
      "Training loss: -112709.47 | Validation accuracy: 70.26% | Validation Demographic disparity: 0.2060\n",
      "\n",
      " | Global Round : 120 | constraint :  Cov(z, d) < c\n",
      "\n",
      "Client 1: accuracy loss: 3.70 | fairness loss 4247099.73 | Demographic disparity = 0.25\n",
      "Client 2: accuracy loss: 2.52 | fairness loss 5871412.23 | Demographic disparity = 0.16\n",
      "Client 3: accuracy loss: 3.32 | fairness loss 4789241.15 | Demographic disparity = 0.19\n",
      " \n",
      "Avg Training Stats after 120 global rounds:\n",
      "Training loss: -113081.37 | Validation accuracy: 70.26% | Validation Demographic disparity: 0.2060\n",
      "\n",
      " | Global Round : 121 | constraint :  Cov(z, d) < c\n",
      "\n"
     ]
    },
    {
     "name": "stderr",
     "output_type": "stream",
     "text": [
      " 24%|██▍       | 122/500 [00:13<00:41,  9.13it/s]"
     ]
    },
    {
     "name": "stdout",
     "output_type": "stream",
     "text": [
      "Client 1: accuracy loss: 3.70 | fairness loss 4274801.98 | Demographic disparity = 0.25\n",
      "Client 2: accuracy loss: 2.52 | fairness loss 5910057.55 | Demographic disparity = 0.16\n",
      "Client 3: accuracy loss: 3.32 | fairness loss 4820767.89 | Demographic disparity = 0.18\n",
      " \n",
      "Avg Training Stats after 121 global rounds:\n",
      "Training loss: -113453.50 | Validation accuracy: 69.87% | Validation Demographic disparity: 0.2026\n",
      "\n",
      " | Global Round : 122 | constraint :  Cov(z, d) < c\n",
      "\n",
      "Client 1: accuracy loss: 3.70 | fairness loss 4302611.14 | Demographic disparity = 0.25\n",
      "Client 2: accuracy loss: 2.52 | fairness loss 5948853.25 | Demographic disparity = 0.16\n",
      "Client 3: accuracy loss: 3.32 | fairness loss 4852416.54 | Demographic disparity = 0.18\n",
      " \n",
      "Avg Training Stats after 122 global rounds:\n",
      "Training loss: -113825.85 | Validation accuracy: 69.87% | Validation Demographic disparity: 0.2026\n",
      "\n",
      " | Global Round : 123 | constraint :  Cov(z, d) < c\n",
      "\n"
     ]
    },
    {
     "name": "stderr",
     "output_type": "stream",
     "text": [
      " 25%|██▍       | 124/500 [00:13<00:40,  9.20it/s]"
     ]
    },
    {
     "name": "stdout",
     "output_type": "stream",
     "text": [
      "Client 1: accuracy loss: 3.70 | fairness loss 4330526.73 | Demographic disparity = 0.25\n",
      "Client 2: accuracy loss: 2.52 | fairness loss 5987798.48 | Demographic disparity = 0.16\n",
      "Client 3: accuracy loss: 3.32 | fairness loss 4884187.56 | Demographic disparity = 0.18\n",
      " \n",
      "Avg Training Stats after 123 global rounds:\n",
      "Training loss: -114198.44 | Validation accuracy: 69.87% | Validation Demographic disparity: 0.2026\n",
      "\n",
      " | Global Round : 124 | constraint :  Cov(z, d) < c\n",
      "\n",
      "Client 1: accuracy loss: 3.70 | fairness loss 4358548.35 | Demographic disparity = 0.24\n",
      "Client 2: accuracy loss: 2.53 | fairness loss 6026893.48 | Demographic disparity = 0.16\n",
      "Client 3: accuracy loss: 3.32 | fairness loss 4916080.97 | Demographic disparity = 0.18\n",
      " \n",
      "Avg Training Stats after 124 global rounds:\n",
      "Training loss: -114571.26 | Validation accuracy: 69.58% | Validation Demographic disparity: 0.1993\n",
      "\n",
      " | Global Round : 125 | constraint :  Cov(z, d) < c\n",
      "\n"
     ]
    },
    {
     "name": "stderr",
     "output_type": "stream",
     "text": [
      " 25%|██▌       | 126/500 [00:14<00:40,  9.18it/s]"
     ]
    },
    {
     "name": "stdout",
     "output_type": "stream",
     "text": [
      "Client 1: accuracy loss: 3.70 | fairness loss 4386676.43 | Demographic disparity = 0.23\n",
      "Client 2: accuracy loss: 2.53 | fairness loss 6066138.73 | Demographic disparity = 0.16\n",
      "Client 3: accuracy loss: 3.32 | fairness loss 4948096.79 | Demographic disparity = 0.18\n",
      " \n",
      "Avg Training Stats after 125 global rounds:\n",
      "Training loss: -114944.30 | Validation accuracy: 69.28% | Validation Demographic disparity: 0.1960\n",
      "\n",
      " | Global Round : 126 | constraint :  Cov(z, d) < c\n",
      "\n",
      "Client 1: accuracy loss: 3.70 | fairness loss 4414911.99 | Demographic disparity = 0.23\n",
      "Client 2: accuracy loss: 2.53 | fairness loss 6105534.02 | Demographic disparity = 0.16\n",
      "Client 3: accuracy loss: 3.32 | fairness loss 4980235.50 | Demographic disparity = 0.18\n",
      " \n",
      "Avg Training Stats after 126 global rounds:\n",
      "Training loss: -115317.57 | Validation accuracy: 69.28% | Validation Demographic disparity: 0.1960\n",
      "\n",
      " | Global Round : 127 | constraint :  Cov(z, d) < c\n",
      "\n"
     ]
    },
    {
     "name": "stderr",
     "output_type": "stream",
     "text": [
      " 26%|██▌       | 128/500 [00:14<00:40,  9.17it/s]"
     ]
    },
    {
     "name": "stdout",
     "output_type": "stream",
     "text": [
      "Client 1: accuracy loss: 3.70 | fairness loss 4443254.24 | Demographic disparity = 0.22\n",
      "Client 2: accuracy loss: 2.53 | fairness loss 6145080.30 | Demographic disparity = 0.16\n",
      "Client 3: accuracy loss: 3.32 | fairness loss 5012497.10 | Demographic disparity = 0.18\n",
      " \n",
      "Avg Training Stats after 127 global rounds:\n",
      "Training loss: -115691.06 | Validation accuracy: 68.99% | Validation Demographic disparity: 0.1927\n",
      "\n",
      " | Global Round : 128 | constraint :  Cov(z, d) < c\n",
      "\n",
      "Client 1: accuracy loss: 3.70 | fairness loss 4471703.69 | Demographic disparity = 0.21\n",
      "Client 2: accuracy loss: 2.53 | fairness loss 6184777.68 | Demographic disparity = 0.16\n",
      "Client 3: accuracy loss: 3.32 | fairness loss 5044881.78 | Demographic disparity = 0.18\n",
      " \n",
      "Avg Training Stats after 128 global rounds:\n",
      "Training loss: -116064.78 | Validation accuracy: 69.28% | Validation Demographic disparity: 0.1893\n",
      "\n",
      " | Global Round : 129 | constraint :  Cov(z, d) < c\n",
      "\n"
     ]
    },
    {
     "name": "stderr",
     "output_type": "stream",
     "text": [
      " 26%|██▌       | 130/500 [00:14<00:40,  9.19it/s]"
     ]
    },
    {
     "name": "stdout",
     "output_type": "stream",
     "text": [
      "Client 1: accuracy loss: 3.70 | fairness loss 4500260.63 | Demographic disparity = 0.21\n",
      "Client 2: accuracy loss: 2.53 | fairness loss 6224626.09 | Demographic disparity = 0.16\n",
      "Client 3: accuracy loss: 3.32 | fairness loss 5077390.17 | Demographic disparity = 0.18\n",
      " \n",
      "Avg Training Stats after 129 global rounds:\n",
      "Training loss: -116438.73 | Validation accuracy: 69.28% | Validation Demographic disparity: 0.1893\n",
      "\n",
      " | Global Round : 130 | constraint :  Cov(z, d) < c\n",
      "\n",
      "Client 1: accuracy loss: 3.70 | fairness loss 4528925.52 | Demographic disparity = 0.21\n",
      "Client 2: accuracy loss: 2.53 | fairness loss 6264626.59 | Demographic disparity = 0.16\n",
      "Client 3: accuracy loss: 3.32 | fairness loss 5110022.83 | Demographic disparity = 0.18\n",
      " \n",
      "Avg Training Stats after 130 global rounds:\n",
      "Training loss: -116812.89 | Validation accuracy: 69.28% | Validation Demographic disparity: 0.1893\n",
      "\n",
      " | Global Round : 131 | constraint :  Cov(z, d) < c\n",
      "\n"
     ]
    },
    {
     "name": "stderr",
     "output_type": "stream",
     "text": [
      " 26%|██▋       | 132/500 [00:14<00:39,  9.28it/s]"
     ]
    },
    {
     "name": "stdout",
     "output_type": "stream",
     "text": [
      "Client 1: accuracy loss: 3.71 | fairness loss 4557698.66 | Demographic disparity = 0.21\n",
      "Client 2: accuracy loss: 2.53 | fairness loss 6304779.32 | Demographic disparity = 0.15\n",
      "Client 3: accuracy loss: 3.32 | fairness loss 5142779.38 | Demographic disparity = 0.17\n",
      " \n",
      "Avg Training Stats after 131 global rounds:\n",
      "Training loss: -117187.29 | Validation accuracy: 69.22% | Validation Demographic disparity: 0.1827\n",
      "\n",
      " | Global Round : 132 | constraint :  Cov(z, d) < c\n",
      "\n",
      "Client 1: accuracy loss: 3.71 | fairness loss 4586579.24 | Demographic disparity = 0.21\n",
      "Client 2: accuracy loss: 2.53 | fairness loss 6345083.75 | Demographic disparity = 0.15\n",
      "Client 3: accuracy loss: 3.32 | fairness loss 5175659.78 | Demographic disparity = 0.17\n",
      " \n",
      "Avg Training Stats after 132 global rounds:\n",
      "Training loss: -117561.90 | Validation accuracy: 69.22% | Validation Demographic disparity: 0.1827\n",
      "\n",
      " | Global Round : 133 | constraint :  Cov(z, d) < c\n",
      "\n"
     ]
    },
    {
     "name": "stderr",
     "output_type": "stream",
     "text": [
      " 27%|██▋       | 134/500 [00:14<00:39,  9.25it/s]"
     ]
    },
    {
     "name": "stdout",
     "output_type": "stream",
     "text": [
      "Client 1: accuracy loss: 3.71 | fairness loss 4615567.91 | Demographic disparity = 0.21\n",
      "Client 2: accuracy loss: 2.53 | fairness loss 6385540.27 | Demographic disparity = 0.14\n",
      "Client 3: accuracy loss: 3.33 | fairness loss 5208664.36 | Demographic disparity = 0.17\n",
      " \n",
      "Avg Training Stats after 133 global rounds:\n",
      "Training loss: -117936.73 | Validation accuracy: 68.60% | Validation Demographic disparity: 0.1761\n",
      "\n",
      " | Global Round : 134 | constraint :  Cov(z, d) < c\n",
      "\n",
      "Client 1: accuracy loss: 3.71 | fairness loss 4644664.60 | Demographic disparity = 0.20\n",
      "Client 2: accuracy loss: 2.53 | fairness loss 6426148.45 | Demographic disparity = 0.14\n",
      "Client 3: accuracy loss: 3.33 | fairness loss 5241792.39 | Demographic disparity = 0.17\n",
      " \n",
      "Avg Training Stats after 134 global rounds:\n",
      "Training loss: -118311.79 | Validation accuracy: 68.31% | Validation Demographic disparity: 0.1727\n",
      "\n",
      " | Global Round : 135 | constraint :  Cov(z, d) < c\n",
      "\n"
     ]
    },
    {
     "name": "stderr",
     "output_type": "stream",
     "text": [
      " 27%|██▋       | 136/500 [00:15<00:39,  9.14it/s]"
     ]
    },
    {
     "name": "stdout",
     "output_type": "stream",
     "text": [
      "Client 1: accuracy loss: 3.71 | fairness loss 4673869.91 | Demographic disparity = 0.20\n",
      "Client 2: accuracy loss: 2.53 | fairness loss 6466909.20 | Demographic disparity = 0.12\n",
      "Client 3: accuracy loss: 3.33 | fairness loss 5275046.08 | Demographic disparity = 0.17\n",
      " \n",
      "Avg Training Stats after 135 global rounds:\n",
      "Training loss: -118687.06 | Validation accuracy: 67.98% | Validation Demographic disparity: 0.1694\n",
      "\n",
      " | Global Round : 136 | constraint :  Cov(z, d) < c\n",
      "\n",
      "Client 1: accuracy loss: 3.71 | fairness loss 4703183.26 | Demographic disparity = 0.19\n",
      "Client 2: accuracy loss: 2.53 | fairness loss 6507822.89 | Demographic disparity = 0.12\n",
      "Client 3: accuracy loss: 3.33 | fairness loss 5308423.53 | Demographic disparity = 0.17\n",
      " \n",
      "Avg Training Stats after 136 global rounds:\n",
      "Training loss: -119062.56 | Validation accuracy: 67.69% | Validation Demographic disparity: 0.1661\n",
      "\n",
      " | Global Round : 137 | constraint :  Cov(z, d) < c\n",
      "\n"
     ]
    },
    {
     "name": "stderr",
     "output_type": "stream",
     "text": [
      " 28%|██▊       | 138/500 [00:15<00:39,  9.26it/s]"
     ]
    },
    {
     "name": "stdout",
     "output_type": "stream",
     "text": [
      "Client 1: accuracy loss: 3.71 | fairness loss 4732605.72 | Demographic disparity = 0.19\n",
      "Client 2: accuracy loss: 2.53 | fairness loss 6548889.48 | Demographic disparity = 0.12\n",
      "Client 3: accuracy loss: 3.33 | fairness loss 5341925.92 | Demographic disparity = 0.17\n",
      " \n",
      "Avg Training Stats after 137 global rounds:\n",
      "Training loss: -119438.27 | Validation accuracy: 67.69% | Validation Demographic disparity: 0.1661\n",
      "\n",
      " | Global Round : 138 | constraint :  Cov(z, d) < c\n",
      "\n",
      "Client 1: accuracy loss: 3.71 | fairness loss 4762137.06 | Demographic disparity = 0.19\n",
      "Client 2: accuracy loss: 2.53 | fairness loss 6590109.86 | Demographic disparity = 0.12\n",
      "Client 3: accuracy loss: 3.33 | fairness loss 5375554.31 | Demographic disparity = 0.16\n",
      " \n",
      "Avg Training Stats after 138 global rounds:\n",
      "Training loss: -119814.21 | Validation accuracy: 67.30% | Validation Demographic disparity: 0.1628\n",
      "\n",
      " | Global Round : 139 | constraint :  Cov(z, d) < c\n",
      "\n"
     ]
    },
    {
     "name": "stderr",
     "output_type": "stream",
     "text": [
      " 28%|██▊       | 140/500 [00:15<00:39,  9.10it/s]"
     ]
    },
    {
     "name": "stdout",
     "output_type": "stream",
     "text": [
      "Client 1: accuracy loss: 3.71 | fairness loss 4791777.52 | Demographic disparity = 0.19\n",
      "Client 2: accuracy loss: 2.53 | fairness loss 6631483.41 | Demographic disparity = 0.12\n",
      "Client 3: accuracy loss: 3.33 | fairness loss 5409307.75 | Demographic disparity = 0.16\n",
      " \n",
      "Avg Training Stats after 139 global rounds:\n",
      "Training loss: -120190.36 | Validation accuracy: 67.30% | Validation Demographic disparity: 0.1628\n",
      "\n",
      " | Global Round : 140 | constraint :  Cov(z, d) < c\n",
      "\n",
      "Client 1: accuracy loss: 3.71 | fairness loss 4821526.59 | Demographic disparity = 0.19\n",
      "Client 2: accuracy loss: 2.53 | fairness loss 6673010.36 | Demographic disparity = 0.14\n",
      "Client 3: accuracy loss: 3.33 | fairness loss 5443185.64 | Demographic disparity = 0.16\n",
      " \n",
      "Avg Training Stats after 140 global rounds:\n",
      "Training loss: -120566.72 | Validation accuracy: 66.97% | Validation Demographic disparity: 0.1661\n",
      "\n",
      " | Global Round : 141 | constraint :  Cov(z, d) < c\n",
      "\n"
     ]
    },
    {
     "name": "stderr",
     "output_type": "stream",
     "text": [
      " 28%|██▊       | 142/500 [00:15<00:38,  9.23it/s]"
     ]
    },
    {
     "name": "stdout",
     "output_type": "stream",
     "text": [
      "Client 1: accuracy loss: 3.71 | fairness loss 4851384.38 | Demographic disparity = 0.19\n",
      "Client 2: accuracy loss: 2.53 | fairness loss 6714690.05 | Demographic disparity = 0.14\n",
      "Client 3: accuracy loss: 3.33 | fairness loss 5477189.44 | Demographic disparity = 0.16\n",
      " \n",
      "Avg Training Stats after 141 global rounds:\n",
      "Training loss: -120943.31 | Validation accuracy: 66.97% | Validation Demographic disparity: 0.1661\n",
      "\n",
      " | Global Round : 142 | constraint :  Cov(z, d) < c\n",
      "\n",
      "Client 1: accuracy loss: 3.72 | fairness loss 4881352.68 | Demographic disparity = 0.19\n",
      "Client 2: accuracy loss: 2.53 | fairness loss 6756525.61 | Demographic disparity = 0.14\n",
      "Client 3: accuracy loss: 3.33 | fairness loss 5511319.22 | Demographic disparity = 0.16\n",
      " \n",
      "Avg Training Stats after 142 global rounds:\n",
      "Training loss: -121320.11 | Validation accuracy: 66.97% | Validation Demographic disparity: 0.1661\n",
      "\n",
      " | Global Round : 143 | constraint :  Cov(z, d) < c\n",
      "\n"
     ]
    },
    {
     "name": "stderr",
     "output_type": "stream",
     "text": [
      " 29%|██▉       | 144/500 [00:15<00:38,  9.23it/s]"
     ]
    },
    {
     "name": "stdout",
     "output_type": "stream",
     "text": [
      "Client 1: accuracy loss: 3.72 | fairness loss 4911430.41 | Demographic disparity = 0.19\n",
      "Client 2: accuracy loss: 2.53 | fairness loss 6798515.02 | Demographic disparity = 0.14\n",
      "Client 3: accuracy loss: 3.33 | fairness loss 5545575.33 | Demographic disparity = 0.16\n",
      " \n",
      "Avg Training Stats after 143 global rounds:\n",
      "Training loss: -121697.12 | Validation accuracy: 66.97% | Validation Demographic disparity: 0.1661\n",
      "\n",
      " | Global Round : 144 | constraint :  Cov(z, d) < c\n",
      "\n",
      "Client 1: accuracy loss: 3.72 | fairness loss 4941617.95 | Demographic disparity = 0.20\n",
      "Client 2: accuracy loss: 2.53 | fairness loss 6840658.98 | Demographic disparity = 0.14\n",
      "Client 3: accuracy loss: 3.33 | fairness loss 5579957.31 | Demographic disparity = 0.16\n",
      " \n",
      "Avg Training Stats after 144 global rounds:\n",
      "Training loss: -122074.35 | Validation accuracy: 67.26% | Validation Demographic disparity: 0.1694\n",
      "\n",
      " | Global Round : 145 | constraint :  Cov(z, d) < c\n",
      "\n"
     ]
    },
    {
     "name": "stderr",
     "output_type": "stream",
     "text": [
      " 29%|██▉       | 146/500 [00:16<00:40,  8.77it/s]"
     ]
    },
    {
     "name": "stdout",
     "output_type": "stream",
     "text": [
      "Client 1: accuracy loss: 3.72 | fairness loss 4971915.60 | Demographic disparity = 0.19\n",
      "Client 2: accuracy loss: 2.54 | fairness loss 6882957.91 | Demographic disparity = 0.14\n",
      "Client 3: accuracy loss: 3.33 | fairness loss 5614466.06 | Demographic disparity = 0.16\n",
      " \n",
      "Avg Training Stats after 145 global rounds:\n",
      "Training loss: -122451.80 | Validation accuracy: 66.97% | Validation Demographic disparity: 0.1661\n",
      "\n",
      " | Global Round : 146 | constraint :  Cov(z, d) < c\n",
      "\n",
      "Client 1: accuracy loss: 3.72 | fairness loss 5002323.25 | Demographic disparity = 0.17\n",
      "Client 2: accuracy loss: 2.54 | fairness loss 6925411.91 | Demographic disparity = 0.14\n",
      "Client 3: accuracy loss: 3.33 | fairness loss 5649101.22 | Demographic disparity = 0.16\n",
      " \n",
      "Avg Training Stats after 146 global rounds:\n",
      "Training loss: -122829.45 | Validation accuracy: 66.38% | Validation Demographic disparity: 0.1594\n",
      "\n",
      " | Global Round : 147 | constraint :  Cov(z, d) < c\n",
      "\n"
     ]
    },
    {
     "name": "stderr",
     "output_type": "stream",
     "text": [
      " 30%|██▉       | 148/500 [00:16<00:39,  9.01it/s]"
     ]
    },
    {
     "name": "stdout",
     "output_type": "stream",
     "text": [
      "Client 1: accuracy loss: 3.72 | fairness loss 5032841.12 | Demographic disparity = 0.17\n",
      "Client 2: accuracy loss: 2.54 | fairness loss 6968021.43 | Demographic disparity = 0.12\n",
      "Client 3: accuracy loss: 3.33 | fairness loss 5683863.19 | Demographic disparity = 0.14\n",
      " \n",
      "Avg Training Stats after 147 global rounds:\n",
      "Training loss: -123207.32 | Validation accuracy: 66.32% | Validation Demographic disparity: 0.1528\n",
      "\n",
      " | Global Round : 148 | constraint :  Cov(z, d) < c\n",
      "\n",
      "Client 1: accuracy loss: 3.72 | fairness loss 5063469.39 | Demographic disparity = 0.17\n",
      "Client 2: accuracy loss: 2.54 | fairness loss 7010785.59 | Demographic disparity = 0.12\n",
      "Client 3: accuracy loss: 3.34 | fairness loss 5718751.56 | Demographic disparity = 0.14\n",
      " \n",
      "Avg Training Stats after 148 global rounds:\n",
      "Training loss: -123585.41 | Validation accuracy: 66.32% | Validation Demographic disparity: 0.1528\n",
      "\n",
      " | Global Round : 149 | constraint :  Cov(z, d) < c\n",
      "\n"
     ]
    },
    {
     "name": "stderr",
     "output_type": "stream",
     "text": [
      " 30%|███       | 150/500 [00:16<00:40,  8.67it/s]"
     ]
    },
    {
     "name": "stdout",
     "output_type": "stream",
     "text": [
      "Client 1: accuracy loss: 3.72 | fairness loss 5094208.68 | Demographic disparity = 0.16\n",
      "Client 2: accuracy loss: 2.54 | fairness loss 7053706.05 | Demographic disparity = 0.12\n",
      "Client 3: accuracy loss: 3.34 | fairness loss 5753767.06 | Demographic disparity = 0.14\n",
      " \n",
      "Avg Training Stats after 149 global rounds:\n",
      "Training loss: -123963.70 | Validation accuracy: 66.03% | Validation Demographic disparity: 0.1495\n",
      "\n",
      " | Global Round : 150 | constraint :  Cov(z, d) < c\n",
      "\n",
      "Client 1: accuracy loss: 3.72 | fairness loss 5125057.95 | Demographic disparity = 0.16\n",
      "Client 2: accuracy loss: 2.54 | fairness loss 7096782.25 | Demographic disparity = 0.12\n",
      "Client 3: accuracy loss: 3.34 | fairness loss 5788910.28 | Demographic disparity = 0.13\n",
      " \n",
      "Avg Training Stats after 150 global rounds:\n",
      "Training loss: -124342.21 | Validation accuracy: 65.63% | Validation Demographic disparity: 0.1440\n",
      "\n",
      " | Global Round : 151 | constraint :  Cov(z, d) < c\n",
      "\n"
     ]
    },
    {
     "name": "stderr",
     "output_type": "stream",
     "text": [
      " 30%|███       | 152/500 [00:16<00:39,  8.90it/s]"
     ]
    },
    {
     "name": "stdout",
     "output_type": "stream",
     "text": [
      "Client 1: accuracy loss: 3.72 | fairness loss 5156019.38 | Demographic disparity = 0.16\n",
      "Client 2: accuracy loss: 2.54 | fairness loss 7140015.48 | Demographic disparity = 0.12\n",
      "Client 3: accuracy loss: 3.34 | fairness loss 5824181.86 | Demographic disparity = 0.13\n",
      " \n",
      "Avg Training Stats after 151 global rounds:\n",
      "Training loss: -124720.92 | Validation accuracy: 65.63% | Validation Demographic disparity: 0.1440\n",
      "\n",
      " | Global Round : 152 | constraint :  Cov(z, d) < c\n",
      "\n",
      "Client 1: accuracy loss: 3.72 | fairness loss 5187090.94 | Demographic disparity = 0.16\n",
      "Client 2: accuracy loss: 2.54 | fairness loss 7183404.32 | Demographic disparity = 0.12\n",
      "Client 3: accuracy loss: 3.34 | fairness loss 5859579.61 | Demographic disparity = 0.13\n",
      " \n",
      "Avg Training Stats after 152 global rounds:\n",
      "Training loss: -125099.85 | Validation accuracy: 65.63% | Validation Demographic disparity: 0.1440\n",
      "\n",
      " | Global Round : 153 | constraint :  Cov(z, d) < c\n",
      "\n"
     ]
    },
    {
     "name": "stderr",
     "output_type": "stream",
     "text": [
      " 31%|███       | 154/500 [00:17<00:43,  8.03it/s]"
     ]
    },
    {
     "name": "stdout",
     "output_type": "stream",
     "text": [
      "Client 1: accuracy loss: 3.73 | fairness loss 5218274.06 | Demographic disparity = 0.16\n",
      "Client 2: accuracy loss: 2.54 | fairness loss 7226949.16 | Demographic disparity = 0.11\n",
      "Client 3: accuracy loss: 3.34 | fairness loss 5895105.53 | Demographic disparity = 0.13\n",
      " \n",
      "Avg Training Stats after 153 global rounds:\n",
      "Training loss: -125478.99 | Validation accuracy: 65.31% | Validation Demographic disparity: 0.1407\n",
      "\n",
      " | Global Round : 154 | constraint :  Cov(z, d) < c\n",
      "\n",
      "Client 1: accuracy loss: 3.73 | fairness loss 5249568.86 | Demographic disparity = 0.16\n",
      "Client 2: accuracy loss: 2.54 | fairness loss 7270652.32 | Demographic disparity = 0.11\n",
      "Client 3: accuracy loss: 3.34 | fairness loss 5930760.31 | Demographic disparity = 0.13\n",
      " \n",
      "Avg Training Stats after 154 global rounds:\n",
      "Training loss: -125858.33 | Validation accuracy: 65.31% | Validation Demographic disparity: 0.1407\n",
      "\n",
      " | Global Round : 155 | constraint :  Cov(z, d) < c\n",
      "\n"
     ]
    },
    {
     "name": "stderr",
     "output_type": "stream",
     "text": [
      " 31%|███       | 156/500 [00:17<00:40,  8.60it/s]"
     ]
    },
    {
     "name": "stdout",
     "output_type": "stream",
     "text": [
      "Client 1: accuracy loss: 3.73 | fairness loss 5280975.02 | Demographic disparity = 0.16\n",
      "Client 2: accuracy loss: 2.54 | fairness loss 7314512.73 | Demographic disparity = 0.11\n",
      "Client 3: accuracy loss: 3.34 | fairness loss 5966543.06 | Demographic disparity = 0.13\n",
      " \n",
      "Avg Training Stats after 155 global rounds:\n",
      "Training loss: -126237.89 | Validation accuracy: 65.31% | Validation Demographic disparity: 0.1407\n",
      "\n",
      " | Global Round : 156 | constraint :  Cov(z, d) < c\n",
      "\n",
      "Client 1: accuracy loss: 3.73 | fairness loss 5312493.06 | Demographic disparity = 0.16\n",
      "Client 2: accuracy loss: 2.54 | fairness loss 7358529.20 | Demographic disparity = 0.11\n",
      "Client 3: accuracy loss: 3.34 | fairness loss 6002453.58 | Demographic disparity = 0.13\n",
      " \n",
      "Avg Training Stats after 156 global rounds:\n",
      "Training loss: -126617.65 | Validation accuracy: 65.31% | Validation Demographic disparity: 0.1407\n",
      "\n",
      " | Global Round : 157 | constraint :  Cov(z, d) < c\n",
      "\n"
     ]
    },
    {
     "name": "stderr",
     "output_type": "stream",
     "text": [
      " 32%|███▏      | 158/500 [00:17<00:38,  8.91it/s]"
     ]
    },
    {
     "name": "stdout",
     "output_type": "stream",
     "text": [
      "Client 1: accuracy loss: 3.73 | fairness loss 5344123.73 | Demographic disparity = 0.16\n",
      "Client 2: accuracy loss: 2.54 | fairness loss 7402704.68 | Demographic disparity = 0.11\n",
      "Client 3: accuracy loss: 3.34 | fairness loss 6038493.92 | Demographic disparity = 0.13\n",
      " \n",
      "Avg Training Stats after 157 global rounds:\n",
      "Training loss: -126997.62 | Validation accuracy: 65.31% | Validation Demographic disparity: 0.1407\n",
      "\n",
      " | Global Round : 158 | constraint :  Cov(z, d) < c\n",
      "\n",
      "Client 1: accuracy loss: 3.73 | fairness loss 5375865.80 | Demographic disparity = 0.16\n",
      "Client 2: accuracy loss: 2.54 | fairness loss 7447037.70 | Demographic disparity = 0.11\n",
      "Client 3: accuracy loss: 3.34 | fairness loss 6074662.56 | Demographic disparity = 0.13\n",
      " \n",
      "Avg Training Stats after 158 global rounds:\n",
      "Training loss: -127377.80 | Validation accuracy: 65.31% | Validation Demographic disparity: 0.1407\n",
      "\n",
      " | Global Round : 159 | constraint :  Cov(z, d) < c\n",
      "\n"
     ]
    },
    {
     "name": "stderr",
     "output_type": "stream",
     "text": [
      " 32%|███▏      | 160/500 [00:17<00:37,  9.06it/s]"
     ]
    },
    {
     "name": "stdout",
     "output_type": "stream",
     "text": [
      "Client 1: accuracy loss: 3.73 | fairness loss 5407719.75 | Demographic disparity = 0.15\n",
      "Client 2: accuracy loss: 2.54 | fairness loss 7491527.77 | Demographic disparity = 0.11\n",
      "Client 3: accuracy loss: 3.34 | fairness loss 6110959.89 | Demographic disparity = 0.13\n",
      " \n",
      "Avg Training Stats after 159 global rounds:\n",
      "Training loss: -127758.18 | Validation accuracy: 65.02% | Validation Demographic disparity: 0.1374\n",
      "\n",
      " | Global Round : 160 | constraint :  Cov(z, d) < c\n",
      "\n",
      "Client 1: accuracy loss: 3.73 | fairness loss 5439686.92 | Demographic disparity = 0.14\n",
      "Client 2: accuracy loss: 2.54 | fairness loss 7536176.73 | Demographic disparity = 0.11\n",
      "Client 3: accuracy loss: 3.34 | fairness loss 6147386.72 | Demographic disparity = 0.13\n",
      " \n",
      "Avg Training Stats after 160 global rounds:\n",
      "Training loss: -128138.77 | Validation accuracy: 64.72% | Validation Demographic disparity: 0.1341\n",
      "\n",
      " | Global Round : 161 | constraint :  Cov(z, d) < c\n",
      "\n"
     ]
    },
    {
     "name": "stderr",
     "output_type": "stream",
     "text": [
      " 32%|███▏      | 162/500 [00:18<00:37,  9.02it/s]"
     ]
    },
    {
     "name": "stdout",
     "output_type": "stream",
     "text": [
      "Client 1: accuracy loss: 3.73 | fairness loss 5471766.43 | Demographic disparity = 0.14\n",
      "Client 2: accuracy loss: 2.54 | fairness loss 7580984.68 | Demographic disparity = 0.10\n",
      "Client 3: accuracy loss: 3.34 | fairness loss 6183943.31 | Demographic disparity = 0.13\n",
      " \n",
      "Avg Training Stats after 161 global rounds:\n",
      "Training loss: -128519.57 | Validation accuracy: 64.40% | Validation Demographic disparity: 0.1307\n",
      "\n",
      " | Global Round : 162 | constraint :  Cov(z, d) < c\n",
      "\n",
      "Client 1: accuracy loss: 3.73 | fairness loss 5503958.86 | Demographic disparity = 0.14\n",
      "Client 2: accuracy loss: 2.54 | fairness loss 7625951.11 | Demographic disparity = 0.10\n",
      "Client 3: accuracy loss: 3.34 | fairness loss 6220629.19 | Demographic disparity = 0.13\n",
      " \n",
      "Avg Training Stats after 162 global rounds:\n",
      "Training loss: -128900.57 | Validation accuracy: 64.40% | Validation Demographic disparity: 0.1307\n",
      "\n",
      " | Global Round : 163 | constraint :  Cov(z, d) < c\n",
      "\n"
     ]
    },
    {
     "name": "stderr",
     "output_type": "stream",
     "text": [
      " 33%|███▎      | 164/500 [00:18<00:36,  9.10it/s]"
     ]
    },
    {
     "name": "stdout",
     "output_type": "stream",
     "text": [
      "Client 1: accuracy loss: 3.73 | fairness loss 5536264.23 | Demographic disparity = 0.14\n",
      "Client 2: accuracy loss: 2.54 | fairness loss 7671076.55 | Demographic disparity = 0.10\n",
      "Client 3: accuracy loss: 3.34 | fairness loss 6257445.47 | Demographic disparity = 0.13\n",
      " \n",
      "Avg Training Stats after 163 global rounds:\n",
      "Training loss: -129281.78 | Validation accuracy: 64.40% | Validation Demographic disparity: 0.1307\n",
      "\n",
      " | Global Round : 164 | constraint :  Cov(z, d) < c\n",
      "\n",
      "Client 1: accuracy loss: 3.74 | fairness loss 5568682.24 | Demographic disparity = 0.14\n",
      "Client 2: accuracy loss: 2.54 | fairness loss 7716360.86 | Demographic disparity = 0.10\n",
      "Client 3: accuracy loss: 3.35 | fairness loss 6294390.61 | Demographic disparity = 0.13\n",
      " \n",
      "Avg Training Stats after 164 global rounds:\n",
      "Training loss: -129663.19 | Validation accuracy: 64.40% | Validation Demographic disparity: 0.1307\n",
      "\n",
      " | Global Round : 165 | constraint :  Cov(z, d) < c\n",
      "\n"
     ]
    },
    {
     "name": "stderr",
     "output_type": "stream",
     "text": [
      " 33%|███▎      | 166/500 [00:18<00:37,  9.01it/s]"
     ]
    },
    {
     "name": "stdout",
     "output_type": "stream",
     "text": [
      "Client 1: accuracy loss: 3.74 | fairness loss 5601214.19 | Demographic disparity = 0.14\n",
      "Client 2: accuracy loss: 2.54 | fairness loss 7761805.50 | Demographic disparity = 0.09\n",
      "Client 3: accuracy loss: 3.35 | fairness loss 6331466.22 | Demographic disparity = 0.13\n",
      " \n",
      "Avg Training Stats after 165 global rounds:\n",
      "Training loss: -130044.80 | Validation accuracy: 64.07% | Validation Demographic disparity: 0.1253\n",
      "\n",
      " | Global Round : 166 | constraint :  Cov(z, d) < c\n",
      "\n",
      "Client 1: accuracy loss: 3.74 | fairness loss 5633859.26 | Demographic disparity = 0.14\n",
      "Client 2: accuracy loss: 2.54 | fairness loss 7807409.00 | Demographic disparity = 0.09\n",
      "Client 3: accuracy loss: 3.35 | fairness loss 6368672.81 | Demographic disparity = 0.13\n",
      " \n",
      "Avg Training Stats after 166 global rounds:\n",
      "Training loss: -130426.62 | Validation accuracy: 64.07% | Validation Demographic disparity: 0.1253\n",
      "\n",
      " | Global Round : 167 | constraint :  Cov(z, d) < c\n",
      "\n"
     ]
    },
    {
     "name": "stderr",
     "output_type": "stream",
     "text": [
      " 34%|███▎      | 168/500 [00:18<00:36,  9.13it/s]"
     ]
    },
    {
     "name": "stdout",
     "output_type": "stream",
     "text": [
      "Client 1: accuracy loss: 3.74 | fairness loss 5666618.55 | Demographic disparity = 0.14\n",
      "Client 2: accuracy loss: 2.54 | fairness loss 7853173.95 | Demographic disparity = 0.09\n",
      "Client 3: accuracy loss: 3.35 | fairness loss 6406010.28 | Demographic disparity = 0.13\n",
      " \n",
      "Avg Training Stats after 167 global rounds:\n",
      "Training loss: -130808.64 | Validation accuracy: 64.07% | Validation Demographic disparity: 0.1253\n",
      "\n",
      " | Global Round : 168 | constraint :  Cov(z, d) < c\n",
      "\n",
      "Client 1: accuracy loss: 3.74 | fairness loss 5699490.75 | Demographic disparity = 0.14\n",
      "Client 2: accuracy loss: 2.55 | fairness loss 7899097.30 | Demographic disparity = 0.09\n",
      "Client 3: accuracy loss: 3.35 | fairness loss 6443477.89 | Demographic disparity = 0.13\n",
      " \n",
      "Avg Training Stats after 168 global rounds:\n",
      "Training loss: -131190.86 | Validation accuracy: 63.78% | Validation Demographic disparity: 0.1220\n",
      "\n",
      " | Global Round : 169 | constraint :  Cov(z, d) < c\n",
      "\n"
     ]
    },
    {
     "name": "stderr",
     "output_type": "stream",
     "text": [
      " 34%|███▍      | 170/500 [00:18<00:36,  9.15it/s]"
     ]
    },
    {
     "name": "stdout",
     "output_type": "stream",
     "text": [
      "Client 1: accuracy loss: 3.74 | fairness loss 5732476.82 | Demographic disparity = 0.14\n",
      "Client 2: accuracy loss: 2.55 | fairness loss 7945181.25 | Demographic disparity = 0.09\n",
      "Client 3: accuracy loss: 3.35 | fairness loss 6481075.81 | Demographic disparity = 0.13\n",
      " \n",
      "Avg Training Stats after 169 global rounds:\n",
      "Training loss: -131573.29 | Validation accuracy: 63.78% | Validation Demographic disparity: 0.1220\n",
      "\n",
      " | Global Round : 170 | constraint :  Cov(z, d) < c\n",
      "\n",
      "Client 1: accuracy loss: 3.74 | fairness loss 5765577.30 | Demographic disparity = 0.14\n",
      "Client 2: accuracy loss: 2.55 | fairness loss 7991426.18 | Demographic disparity = 0.08\n",
      "Client 3: accuracy loss: 3.35 | fairness loss 6518805.50 | Demographic disparity = 0.13\n",
      " \n",
      "Avg Training Stats after 170 global rounds:\n",
      "Training loss: -131955.92 | Validation accuracy: 64.10% | Validation Demographic disparity: 0.1186\n",
      "\n",
      " | Global Round : 171 | constraint :  Cov(z, d) < c\n",
      "\n"
     ]
    },
    {
     "name": "stderr",
     "output_type": "stream",
     "text": [
      " 34%|███▍      | 172/500 [00:19<00:35,  9.15it/s]"
     ]
    },
    {
     "name": "stdout",
     "output_type": "stream",
     "text": [
      "Client 1: accuracy loss: 3.74 | fairness loss 5798792.61 | Demographic disparity = 0.14\n",
      "Client 2: accuracy loss: 2.55 | fairness loss 8037832.55 | Demographic disparity = 0.08\n",
      "Client 3: accuracy loss: 3.35 | fairness loss 6556666.56 | Demographic disparity = 0.13\n",
      " \n",
      "Avg Training Stats after 171 global rounds:\n",
      "Training loss: -132338.75 | Validation accuracy: 64.10% | Validation Demographic disparity: 0.1186\n",
      "\n",
      " | Global Round : 172 | constraint :  Cov(z, d) < c\n",
      "\n",
      "Client 1: accuracy loss: 3.74 | fairness loss 5832122.44 | Demographic disparity = 0.14\n",
      "Client 2: accuracy loss: 2.55 | fairness loss 8084400.18 | Demographic disparity = 0.08\n",
      "Client 3: accuracy loss: 3.35 | fairness loss 6594659.67 | Demographic disparity = 0.13\n",
      " \n",
      "Avg Training Stats after 172 global rounds:\n",
      "Training loss: -132721.78 | Validation accuracy: 64.10% | Validation Demographic disparity: 0.1186\n",
      "\n",
      " | Global Round : 173 | constraint :  Cov(z, d) < c\n",
      "\n"
     ]
    },
    {
     "name": "stderr",
     "output_type": "stream",
     "text": [
      " 35%|███▍      | 174/500 [00:19<00:35,  9.24it/s]"
     ]
    },
    {
     "name": "stdout",
     "output_type": "stream",
     "text": [
      "Client 1: accuracy loss: 3.74 | fairness loss 5865566.33 | Demographic disparity = 0.13\n",
      "Client 2: accuracy loss: 2.55 | fairness loss 8131128.80 | Demographic disparity = 0.08\n",
      "Client 3: accuracy loss: 3.35 | fairness loss 6632784.00 | Demographic disparity = 0.13\n",
      " \n",
      "Avg Training Stats after 173 global rounds:\n",
      "Training loss: -133105.01 | Validation accuracy: 63.81% | Validation Demographic disparity: 0.1153\n",
      "\n",
      " | Global Round : 174 | constraint :  Cov(z, d) < c\n",
      "\n",
      "Client 1: accuracy loss: 3.74 | fairness loss 5899125.07 | Demographic disparity = 0.13\n",
      "Client 2: accuracy loss: 2.55 | fairness loss 8178019.09 | Demographic disparity = 0.08\n",
      "Client 3: accuracy loss: 3.35 | fairness loss 6671040.31 | Demographic disparity = 0.13\n",
      " \n",
      "Avg Training Stats after 174 global rounds:\n",
      "Training loss: -133488.44 | Validation accuracy: 63.81% | Validation Demographic disparity: 0.1153\n",
      "\n",
      " | Global Round : 175 | constraint :  Cov(z, d) < c\n",
      "\n"
     ]
    },
    {
     "name": "stderr",
     "output_type": "stream",
     "text": [
      " 35%|███▌      | 176/500 [00:19<00:35,  9.09it/s]"
     ]
    },
    {
     "name": "stdout",
     "output_type": "stream",
     "text": [
      "Client 1: accuracy loss: 3.75 | fairness loss 5932798.49 | Demographic disparity = 0.13\n",
      "Client 2: accuracy loss: 2.55 | fairness loss 8225070.45 | Demographic disparity = 0.08\n",
      "Client 3: accuracy loss: 3.35 | fairness loss 6709428.58 | Demographic disparity = 0.13\n",
      " \n",
      "Avg Training Stats after 175 global rounds:\n",
      "Training loss: -133872.07 | Validation accuracy: 63.81% | Validation Demographic disparity: 0.1153\n",
      "\n",
      " | Global Round : 176 | constraint :  Cov(z, d) < c\n",
      "\n",
      "Client 1: accuracy loss: 3.75 | fairness loss 5966587.60 | Demographic disparity = 0.13\n",
      "Client 2: accuracy loss: 2.55 | fairness loss 8272284.52 | Demographic disparity = 0.08\n",
      "Client 3: accuracy loss: 3.35 | fairness loss 6747949.08 | Demographic disparity = 0.13\n",
      " \n",
      "Avg Training Stats after 176 global rounds:\n",
      "Training loss: -134255.90 | Validation accuracy: 63.81% | Validation Demographic disparity: 0.1153\n",
      "\n",
      " | Global Round : 177 | constraint :  Cov(z, d) < c\n",
      "\n"
     ]
    },
    {
     "name": "stderr",
     "output_type": "stream",
     "text": [
      " 36%|███▌      | 178/500 [00:19<00:35,  9.15it/s]"
     ]
    },
    {
     "name": "stdout",
     "output_type": "stream",
     "text": [
      "Client 1: accuracy loss: 3.75 | fairness loss 6000490.50 | Demographic disparity = 0.13\n",
      "Client 2: accuracy loss: 2.55 | fairness loss 8319659.91 | Demographic disparity = 0.05\n",
      "Client 3: accuracy loss: 3.35 | fairness loss 6786601.31 | Demographic disparity = 0.13\n",
      " \n",
      "Avg Training Stats after 177 global rounds:\n",
      "Training loss: -134639.93 | Validation accuracy: 63.16% | Validation Demographic disparity: 0.1087\n",
      "\n",
      " | Global Round : 178 | constraint :  Cov(z, d) < c\n",
      "\n",
      "Client 1: accuracy loss: 3.75 | fairness loss 6034510.59 | Demographic disparity = 0.13\n",
      "Client 2: accuracy loss: 2.55 | fairness loss 8367198.86 | Demographic disparity = 0.05\n",
      "Client 3: accuracy loss: 3.35 | fairness loss 6825387.69 | Demographic disparity = 0.13\n",
      " \n",
      "Avg Training Stats after 178 global rounds:\n",
      "Training loss: -135024.16 | Validation accuracy: 63.16% | Validation Demographic disparity: 0.1087\n",
      "\n",
      " | Global Round : 179 | constraint :  Cov(z, d) < c\n",
      "\n"
     ]
    },
    {
     "name": "stderr",
     "output_type": "stream",
     "text": [
      " 36%|███▌      | 180/500 [00:20<00:37,  8.44it/s]"
     ]
    },
    {
     "name": "stdout",
     "output_type": "stream",
     "text": [
      "Client 1: accuracy loss: 3.75 | fairness loss 6068645.65 | Demographic disparity = 0.12\n",
      "Client 2: accuracy loss: 2.55 | fairness loss 8414900.59 | Demographic disparity = 0.05\n",
      "Client 3: accuracy loss: 3.36 | fairness loss 6864306.00 | Demographic disparity = 0.13\n",
      " \n",
      "Avg Training Stats after 179 global rounds:\n",
      "Training loss: -135408.58 | Validation accuracy: 62.87% | Validation Demographic disparity: 0.1054\n",
      "\n",
      " | Global Round : 180 | constraint :  Cov(z, d) < c\n",
      "\n",
      "Client 1: accuracy loss: 3.75 | fairness loss 6102896.69 | Demographic disparity = 0.12\n",
      "Client 2: accuracy loss: 2.55 | fairness loss 8462765.73 | Demographic disparity = 0.05\n",
      "Client 3: accuracy loss: 3.36 | fairness loss 6903357.53 | Demographic disparity = 0.13\n",
      " \n",
      "Avg Training Stats after 180 global rounds:\n",
      "Training loss: -135793.20 | Validation accuracy: 62.87% | Validation Demographic disparity: 0.1054\n",
      "\n",
      " | Global Round : 181 | constraint :  Cov(z, d) < c\n",
      "\n"
     ]
    },
    {
     "name": "stderr",
     "output_type": "stream",
     "text": [
      " 36%|███▋      | 182/500 [00:20<00:36,  8.77it/s]"
     ]
    },
    {
     "name": "stdout",
     "output_type": "stream",
     "text": [
      "Client 1: accuracy loss: 3.75 | fairness loss 6137263.15 | Demographic disparity = 0.12\n",
      "Client 2: accuracy loss: 2.55 | fairness loss 8510792.32 | Demographic disparity = 0.05\n",
      "Client 3: accuracy loss: 3.36 | fairness loss 6942541.89 | Demographic disparity = 0.12\n",
      " \n",
      "Avg Training Stats after 181 global rounds:\n",
      "Training loss: -136178.03 | Validation accuracy: 62.47% | Validation Demographic disparity: 0.1020\n",
      "\n",
      " | Global Round : 182 | constraint :  Cov(z, d) < c\n",
      "\n",
      "Client 1: accuracy loss: 3.75 | fairness loss 6171746.08 | Demographic disparity = 0.11\n",
      "Client 2: accuracy loss: 2.55 | fairness loss 8558984.05 | Demographic disparity = 0.05\n",
      "Client 3: accuracy loss: 3.36 | fairness loss 6981860.72 | Demographic disparity = 0.12\n",
      " \n",
      "Avg Training Stats after 182 global rounds:\n",
      "Training loss: -136563.04 | Validation accuracy: 62.18% | Validation Demographic disparity: 0.0987\n",
      "\n",
      " | Global Round : 183 | constraint :  Cov(z, d) < c\n",
      "\n"
     ]
    },
    {
     "name": "stderr",
     "output_type": "stream",
     "text": [
      " 37%|███▋      | 184/500 [00:20<00:34,  9.04it/s]"
     ]
    },
    {
     "name": "stdout",
     "output_type": "stream",
     "text": [
      "Client 1: accuracy loss: 3.75 | fairness loss 6206344.95 | Demographic disparity = 0.11\n",
      "Client 2: accuracy loss: 2.55 | fairness loss 8607338.05 | Demographic disparity = 0.05\n",
      "Client 3: accuracy loss: 3.36 | fairness loss 7021312.08 | Demographic disparity = 0.12\n",
      " \n",
      "Avg Training Stats after 183 global rounds:\n",
      "Training loss: -136948.26 | Validation accuracy: 62.18% | Validation Demographic disparity: 0.0987\n",
      "\n",
      " | Global Round : 184 | constraint :  Cov(z, d) < c\n",
      "\n",
      "Client 1: accuracy loss: 3.75 | fairness loss 6241061.06 | Demographic disparity = 0.11\n",
      "Client 2: accuracy loss: 2.55 | fairness loss 8655857.36 | Demographic disparity = 0.05\n",
      "Client 3: accuracy loss: 3.36 | fairness loss 7060898.25 | Demographic disparity = 0.12\n",
      " \n",
      "Avg Training Stats after 184 global rounds:\n",
      "Training loss: -137333.67 | Validation accuracy: 62.18% | Validation Demographic disparity: 0.0987\n",
      "\n",
      " | Global Round : 185 | constraint :  Cov(z, d) < c\n",
      "\n"
     ]
    },
    {
     "name": "stderr",
     "output_type": "stream",
     "text": [
      " 37%|███▋      | 186/500 [00:20<00:34,  9.15it/s]"
     ]
    },
    {
     "name": "stdout",
     "output_type": "stream",
     "text": [
      "Client 1: accuracy loss: 3.75 | fairness loss 6275892.80 | Demographic disparity = 0.10\n",
      "Client 2: accuracy loss: 2.55 | fairness loss 8704539.77 | Demographic disparity = 0.05\n",
      "Client 3: accuracy loss: 3.36 | fairness loss 7100617.89 | Demographic disparity = 0.12\n",
      " \n",
      "Avg Training Stats after 185 global rounds:\n",
      "Training loss: -137719.28 | Validation accuracy: 61.89% | Validation Demographic disparity: 0.0954\n",
      "\n",
      " | Global Round : 186 | constraint :  Cov(z, d) < c\n",
      "\n",
      "Client 1: accuracy loss: 3.75 | fairness loss 6310842.33 | Demographic disparity = 0.10\n",
      "Client 2: accuracy loss: 2.55 | fairness loss 8753387.36 | Demographic disparity = 0.05\n",
      "Client 3: accuracy loss: 3.36 | fairness loss 7140472.08 | Demographic disparity = 0.12\n",
      " \n",
      "Avg Training Stats after 186 global rounds:\n",
      "Training loss: -138105.08 | Validation accuracy: 61.89% | Validation Demographic disparity: 0.0954\n",
      "\n",
      " | Global Round : 187 | constraint :  Cov(z, d) < c\n",
      "\n"
     ]
    },
    {
     "name": "stderr",
     "output_type": "stream",
     "text": [
      " 38%|███▊      | 188/500 [00:20<00:33,  9.21it/s]"
     ]
    },
    {
     "name": "stdout",
     "output_type": "stream",
     "text": [
      "Client 1: accuracy loss: 3.76 | fairness loss 6345908.39 | Demographic disparity = 0.10\n",
      "Client 2: accuracy loss: 2.55 | fairness loss 8802399.64 | Demographic disparity = 0.05\n",
      "Client 3: accuracy loss: 3.36 | fairness loss 7180460.08 | Demographic disparity = 0.12\n",
      " \n",
      "Avg Training Stats after 187 global rounds:\n",
      "Training loss: -138491.08 | Validation accuracy: 61.89% | Validation Demographic disparity: 0.0954\n",
      "\n",
      " | Global Round : 188 | constraint :  Cov(z, d) < c\n",
      "\n",
      "Client 1: accuracy loss: 3.76 | fairness loss 6381090.90 | Demographic disparity = 0.09\n",
      "Client 2: accuracy loss: 2.55 | fairness loss 8851576.95 | Demographic disparity = 0.05\n",
      "Client 3: accuracy loss: 3.36 | fairness loss 7220582.97 | Demographic disparity = 0.12\n",
      " \n",
      "Avg Training Stats after 188 global rounds:\n",
      "Training loss: -138877.27 | Validation accuracy: 61.60% | Validation Demographic disparity: 0.0921\n",
      "\n",
      " | Global Round : 189 | constraint :  Cov(z, d) < c\n",
      "\n"
     ]
    },
    {
     "name": "stderr",
     "output_type": "stream",
     "text": [
      " 38%|███▊      | 190/500 [00:21<00:34,  9.06it/s]"
     ]
    },
    {
     "name": "stdout",
     "output_type": "stream",
     "text": [
      "Client 1: accuracy loss: 3.76 | fairness loss 6416391.36 | Demographic disparity = 0.09\n",
      "Client 2: accuracy loss: 2.55 | fairness loss 8900918.27 | Demographic disparity = 0.05\n",
      "Client 3: accuracy loss: 3.36 | fairness loss 7260840.36 | Demographic disparity = 0.12\n",
      " \n",
      "Avg Training Stats after 189 global rounds:\n",
      "Training loss: -139263.66 | Validation accuracy: 61.60% | Validation Demographic disparity: 0.0921\n",
      "\n",
      " | Global Round : 190 | constraint :  Cov(z, d) < c\n",
      "\n",
      "Client 1: accuracy loss: 3.76 | fairness loss 6451809.48 | Demographic disparity = 0.09\n",
      "Client 2: accuracy loss: 2.55 | fairness loss 8950425.95 | Demographic disparity = 0.04\n",
      "Client 3: accuracy loss: 3.36 | fairness loss 7301233.72 | Demographic disparity = 0.13\n",
      " \n",
      "Avg Training Stats after 190 global rounds:\n",
      "Training loss: -139650.24 | Validation accuracy: 61.66% | Validation Demographic disparity: 0.0921\n",
      "\n",
      " | Global Round : 191 | constraint :  Cov(z, d) < c\n",
      "\n"
     ]
    },
    {
     "name": "stderr",
     "output_type": "stream",
     "text": [
      " 38%|███▊      | 192/500 [00:21<00:33,  9.14it/s]"
     ]
    },
    {
     "name": "stdout",
     "output_type": "stream",
     "text": [
      "Client 1: accuracy loss: 3.76 | fairness loss 6487344.67 | Demographic disparity = 0.09\n",
      "Client 2: accuracy loss: 2.56 | fairness loss 9000099.23 | Demographic disparity = 0.04\n",
      "Client 3: accuracy loss: 3.36 | fairness loss 7341761.47 | Demographic disparity = 0.13\n",
      " \n",
      "Avg Training Stats after 191 global rounds:\n",
      "Training loss: -140037.02 | Validation accuracy: 61.66% | Validation Demographic disparity: 0.0921\n",
      "\n",
      " | Global Round : 192 | constraint :  Cov(z, d) < c\n",
      "\n",
      "Client 1: accuracy loss: 3.76 | fairness loss 6522998.41 | Demographic disparity = 0.09\n",
      "Client 2: accuracy loss: 2.56 | fairness loss 9049938.95 | Demographic disparity = 0.04\n",
      "Client 3: accuracy loss: 3.36 | fairness loss 7382425.81 | Demographic disparity = 0.13\n",
      " \n",
      "Avg Training Stats after 192 global rounds:\n",
      "Training loss: -140423.99 | Validation accuracy: 61.66% | Validation Demographic disparity: 0.0921\n",
      "\n",
      " | Global Round : 193 | constraint :  Cov(z, d) < c\n",
      "\n"
     ]
    },
    {
     "name": "stderr",
     "output_type": "stream",
     "text": [
      " 39%|███▉      | 194/500 [00:21<00:33,  9.17it/s]"
     ]
    },
    {
     "name": "stdout",
     "output_type": "stream",
     "text": [
      "Client 1: accuracy loss: 3.76 | fairness loss 6558769.84 | Demographic disparity = 0.09\n",
      "Client 2: accuracy loss: 2.56 | fairness loss 9099943.73 | Demographic disparity = 0.04\n",
      "Client 3: accuracy loss: 3.36 | fairness loss 7423224.11 | Demographic disparity = 0.13\n",
      " \n",
      "Avg Training Stats after 193 global rounds:\n",
      "Training loss: -140811.15 | Validation accuracy: 61.66% | Validation Demographic disparity: 0.0921\n",
      "\n",
      " | Global Round : 194 | constraint :  Cov(z, d) < c\n",
      "\n",
      "Client 1: accuracy loss: 3.76 | fairness loss 6594659.25 | Demographic disparity = 0.09\n",
      "Client 2: accuracy loss: 2.56 | fairness loss 9150115.09 | Demographic disparity = 0.04\n",
      "Client 3: accuracy loss: 3.36 | fairness loss 7464159.00 | Demographic disparity = 0.13\n",
      " \n",
      "Avg Training Stats after 194 global rounds:\n",
      "Training loss: -141198.51 | Validation accuracy: 61.66% | Validation Demographic disparity: 0.0921\n",
      "\n",
      " | Global Round : 195 | constraint :  Cov(z, d) < c\n",
      "\n"
     ]
    },
    {
     "name": "stderr",
     "output_type": "stream",
     "text": [
      " 39%|███▉      | 196/500 [00:21<00:33,  9.15it/s]"
     ]
    },
    {
     "name": "stdout",
     "output_type": "stream",
     "text": [
      "Client 1: accuracy loss: 3.76 | fairness loss 6630666.85 | Demographic disparity = 0.09\n",
      "Client 2: accuracy loss: 2.56 | fairness loss 9200453.32 | Demographic disparity = 0.04\n",
      "Client 3: accuracy loss: 3.37 | fairness loss 7505229.69 | Demographic disparity = 0.12\n",
      " \n",
      "Avg Training Stats after 195 global rounds:\n",
      "Training loss: -141586.06 | Validation accuracy: 61.27% | Validation Demographic disparity: 0.0887\n",
      "\n",
      " | Global Round : 196 | constraint :  Cov(z, d) < c\n",
      "\n",
      "Client 1: accuracy loss: 3.76 | fairness loss 6666793.11 | Demographic disparity = 0.09\n",
      "Client 2: accuracy loss: 2.56 | fairness loss 9250957.59 | Demographic disparity = 0.04\n",
      "Client 3: accuracy loss: 3.37 | fairness loss 7546436.03 | Demographic disparity = 0.10\n",
      " \n",
      "Avg Training Stats after 196 global rounds:\n",
      "Training loss: -141973.80 | Validation accuracy: 60.88% | Validation Demographic disparity: 0.0854\n",
      "\n",
      " | Global Round : 197 | constraint :  Cov(z, d) < c\n",
      "\n"
     ]
    },
    {
     "name": "stderr",
     "output_type": "stream",
     "text": [
      " 40%|███▉      | 198/500 [00:22<00:32,  9.20it/s]"
     ]
    },
    {
     "name": "stdout",
     "output_type": "stream",
     "text": [
      "Client 1: accuracy loss: 3.76 | fairness loss 6703037.23 | Demographic disparity = 0.09\n",
      "Client 2: accuracy loss: 2.56 | fairness loss 9301628.73 | Demographic disparity = 0.04\n",
      "Client 3: accuracy loss: 3.37 | fairness loss 7587779.08 | Demographic disparity = 0.10\n",
      " \n",
      "Avg Training Stats after 197 global rounds:\n",
      "Training loss: -142361.73 | Validation accuracy: 60.88% | Validation Demographic disparity: 0.0854\n",
      "\n",
      " | Global Round : 198 | constraint :  Cov(z, d) < c\n",
      "\n",
      "Client 1: accuracy loss: 3.77 | fairness loss 6739401.01 | Demographic disparity = 0.08\n",
      "Client 2: accuracy loss: 2.56 | fairness loss 9352467.59 | Demographic disparity = 0.04\n",
      "Client 3: accuracy loss: 3.37 | fairness loss 7629258.53 | Demographic disparity = 0.10\n",
      " \n",
      "Avg Training Stats after 198 global rounds:\n",
      "Training loss: -142749.86 | Validation accuracy: 60.58% | Validation Demographic disparity: 0.0821\n",
      "\n",
      " | Global Round : 199 | constraint :  Cov(z, d) < c\n",
      "\n"
     ]
    },
    {
     "name": "stderr",
     "output_type": "stream",
     "text": [
      " 40%|████      | 200/500 [00:22<00:32,  9.15it/s]"
     ]
    },
    {
     "name": "stdout",
     "output_type": "stream",
     "text": [
      "Client 1: accuracy loss: 3.77 | fairness loss 6775883.57 | Demographic disparity = 0.08\n",
      "Client 2: accuracy loss: 2.56 | fairness loss 9403474.00 | Demographic disparity = 0.04\n",
      "Client 3: accuracy loss: 3.37 | fairness loss 7670875.08 | Demographic disparity = 0.10\n",
      " \n",
      "Avg Training Stats after 199 global rounds:\n",
      "Training loss: -143138.17 | Validation accuracy: 60.58% | Validation Demographic disparity: 0.0821\n",
      "\n",
      " | Global Round : 200 | constraint :  Cov(z, d) < c\n",
      "\n",
      "Client 1: accuracy loss: 3.77 | fairness loss 6812485.52 | Demographic disparity = 0.08\n",
      "Client 2: accuracy loss: 2.56 | fairness loss 9454649.05 | Demographic disparity = 0.03\n",
      "Client 3: accuracy loss: 3.37 | fairness loss 7712628.67 | Demographic disparity = 0.10\n",
      " \n",
      "Avg Training Stats after 200 global rounds:\n",
      "Training loss: -143526.68 | Validation accuracy: 60.26% | Validation Demographic disparity: 0.0788\n",
      "\n",
      " | Global Round : 201 | constraint :  Cov(z, d) < c\n",
      "\n"
     ]
    },
    {
     "name": "stderr",
     "output_type": "stream",
     "text": [
      " 40%|████      | 202/500 [00:22<00:32,  9.15it/s]"
     ]
    },
    {
     "name": "stdout",
     "output_type": "stream",
     "text": [
      "Client 1: accuracy loss: 3.77 | fairness loss 6849207.02 | Demographic disparity = 0.08\n",
      "Client 2: accuracy loss: 2.56 | fairness loss 9505991.45 | Demographic disparity = 0.03\n",
      "Client 3: accuracy loss: 3.37 | fairness loss 7754519.53 | Demographic disparity = 0.10\n",
      " \n",
      "Avg Training Stats after 201 global rounds:\n",
      "Training loss: -143915.38 | Validation accuracy: 60.26% | Validation Demographic disparity: 0.0788\n",
      "\n",
      " | Global Round : 202 | constraint :  Cov(z, d) < c\n",
      "\n",
      "Client 1: accuracy loss: 3.77 | fairness loss 6886048.07 | Demographic disparity = 0.08\n",
      "Client 2: accuracy loss: 2.56 | fairness loss 9557502.14 | Demographic disparity = 0.03\n",
      "Client 3: accuracy loss: 3.37 | fairness loss 7796547.47 | Demographic disparity = 0.10\n",
      " \n",
      "Avg Training Stats after 202 global rounds:\n",
      "Training loss: -144304.27 | Validation accuracy: 60.26% | Validation Demographic disparity: 0.0788\n",
      "\n",
      " | Global Round : 203 | constraint :  Cov(z, d) < c\n",
      "\n"
     ]
    },
    {
     "name": "stderr",
     "output_type": "stream",
     "text": [
      " 41%|████      | 204/500 [00:22<00:32,  9.12it/s]"
     ]
    },
    {
     "name": "stdout",
     "output_type": "stream",
     "text": [
      "Client 1: accuracy loss: 3.77 | fairness loss 6923008.60 | Demographic disparity = 0.08\n",
      "Client 2: accuracy loss: 2.56 | fairness loss 9609181.68 | Demographic disparity = 0.03\n",
      "Client 3: accuracy loss: 3.37 | fairness loss 7838713.19 | Demographic disparity = 0.10\n",
      " \n",
      "Avg Training Stats after 203 global rounds:\n",
      "Training loss: -144693.35 | Validation accuracy: 60.26% | Validation Demographic disparity: 0.0788\n",
      "\n",
      " | Global Round : 204 | constraint :  Cov(z, d) < c\n",
      "\n",
      "Client 1: accuracy loss: 3.77 | fairness loss 6960088.24 | Demographic disparity = 0.07\n",
      "Client 2: accuracy loss: 2.56 | fairness loss 9661029.32 | Demographic disparity = 0.03\n",
      "Client 3: accuracy loss: 3.37 | fairness loss 7881016.31 | Demographic disparity = 0.10\n",
      " \n",
      "Avg Training Stats after 204 global rounds:\n",
      "Training loss: -145082.62 | Validation accuracy: 59.97% | Validation Demographic disparity: 0.0755\n",
      "\n",
      " | Global Round : 205 | constraint :  Cov(z, d) < c\n",
      "\n"
     ]
    },
    {
     "name": "stderr",
     "output_type": "stream",
     "text": [
      " 41%|████      | 206/500 [00:22<00:32,  9.12it/s]"
     ]
    },
    {
     "name": "stdout",
     "output_type": "stream",
     "text": [
      "Client 1: accuracy loss: 3.77 | fairness loss 6997288.80 | Demographic disparity = 0.07\n",
      "Client 2: accuracy loss: 2.56 | fairness loss 9713046.59 | Demographic disparity = 0.03\n",
      "Client 3: accuracy loss: 3.37 | fairness loss 7923457.83 | Demographic disparity = 0.09\n",
      " \n",
      "Avg Training Stats after 205 global rounds:\n",
      "Training loss: -145472.08 | Validation accuracy: 59.57% | Validation Demographic disparity: 0.0721\n",
      "\n",
      " | Global Round : 206 | constraint :  Cov(z, d) < c\n",
      "\n",
      "Client 1: accuracy loss: 3.77 | fairness loss 7034608.85 | Demographic disparity = 0.07\n",
      "Client 2: accuracy loss: 2.56 | fairness loss 9765232.73 | Demographic disparity = 0.03\n",
      "Client 3: accuracy loss: 3.37 | fairness loss 7966036.61 | Demographic disparity = 0.08\n",
      " \n",
      "Avg Training Stats after 206 global rounds:\n",
      "Training loss: -145861.73 | Validation accuracy: 59.18% | Validation Demographic disparity: 0.0688\n",
      "\n",
      " | Global Round : 207 | constraint :  Cov(z, d) < c\n",
      "\n"
     ]
    },
    {
     "name": "stderr",
     "output_type": "stream",
     "text": [
      " 42%|████▏     | 208/500 [00:23<00:32,  9.11it/s]"
     ]
    },
    {
     "name": "stdout",
     "output_type": "stream",
     "text": [
      "Client 1: accuracy loss: 3.77 | fairness loss 7072049.84 | Demographic disparity = 0.07\n",
      "Client 2: accuracy loss: 2.56 | fairness loss 9817587.59 | Demographic disparity = 0.03\n",
      "Client 3: accuracy loss: 3.37 | fairness loss 8008754.53 | Demographic disparity = 0.08\n",
      " \n",
      "Avg Training Stats after 207 global rounds:\n",
      "Training loss: -146251.57 | Validation accuracy: 59.18% | Validation Demographic disparity: 0.0688\n",
      "\n",
      " | Global Round : 208 | constraint :  Cov(z, d) < c\n",
      "\n",
      "Client 1: accuracy loss: 3.77 | fairness loss 7109611.08 | Demographic disparity = 0.07\n",
      "Client 2: accuracy loss: 2.56 | fairness loss 9870112.50 | Demographic disparity = 0.03\n",
      "Client 3: accuracy loss: 3.37 | fairness loss 8051610.53 | Demographic disparity = 0.08\n",
      " \n",
      "Avg Training Stats after 208 global rounds:\n",
      "Training loss: -146641.60 | Validation accuracy: 59.18% | Validation Demographic disparity: 0.0688\n",
      "\n",
      " | Global Round : 209 | constraint :  Cov(z, d) < c\n",
      "\n"
     ]
    },
    {
     "name": "stderr",
     "output_type": "stream",
     "text": [
      " 42%|████▏     | 210/500 [00:23<00:31,  9.14it/s]"
     ]
    },
    {
     "name": "stdout",
     "output_type": "stream",
     "text": [
      "Client 1: accuracy loss: 3.78 | fairness loss 7147293.66 | Demographic disparity = 0.07\n",
      "Client 2: accuracy loss: 2.56 | fairness loss 9922808.95 | Demographic disparity = 0.03\n",
      "Client 3: accuracy loss: 3.37 | fairness loss 8094606.69 | Demographic disparity = 0.09\n",
      " \n",
      "Avg Training Stats after 209 global rounds:\n",
      "Training loss: -147031.81 | Validation accuracy: 59.57% | Validation Demographic disparity: 0.0721\n",
      "\n",
      " | Global Round : 210 | constraint :  Cov(z, d) < c\n",
      "\n",
      "Client 1: accuracy loss: 3.78 | fairness loss 7185097.45 | Demographic disparity = 0.07\n",
      "Client 2: accuracy loss: 2.56 | fairness loss 9975674.91 | Demographic disparity = 0.03\n",
      "Client 3: accuracy loss: 3.37 | fairness loss 8137740.42 | Demographic disparity = 0.09\n",
      " \n",
      "Avg Training Stats after 210 global rounds:\n",
      "Training loss: -147422.22 | Validation accuracy: 59.28% | Validation Demographic disparity: 0.0688\n",
      "\n",
      " | Global Round : 211 | constraint :  Cov(z, d) < c\n",
      "\n"
     ]
    },
    {
     "name": "stderr",
     "output_type": "stream",
     "text": [
      " 42%|████▏     | 212/500 [00:23<00:31,  9.09it/s]"
     ]
    },
    {
     "name": "stdout",
     "output_type": "stream",
     "text": [
      "Client 1: accuracy loss: 3.78 | fairness loss 7223020.80 | Demographic disparity = 0.07\n",
      "Client 2: accuracy loss: 2.56 | fairness loss 10028710.77 | Demographic disparity = 0.03\n",
      "Client 3: accuracy loss: 3.38 | fairness loss 8181013.33 | Demographic disparity = 0.09\n",
      " \n",
      "Avg Training Stats after 211 global rounds:\n",
      "Training loss: -147812.81 | Validation accuracy: 59.28% | Validation Demographic disparity: 0.0688\n",
      "\n",
      " | Global Round : 212 | constraint :  Cov(z, d) < c\n",
      "\n",
      "Client 1: accuracy loss: 3.78 | fairness loss 7261066.73 | Demographic disparity = 0.07\n",
      "Client 2: accuracy loss: 2.56 | fairness loss 10081918.05 | Demographic disparity = 0.03\n",
      "Client 3: accuracy loss: 3.38 | fairness loss 8224425.97 | Demographic disparity = 0.09\n",
      " \n",
      "Avg Training Stats after 212 global rounds:\n",
      "Training loss: -148203.59 | Validation accuracy: 59.28% | Validation Demographic disparity: 0.0688\n",
      "\n",
      " | Global Round : 213 | constraint :  Cov(z, d) < c\n",
      "\n"
     ]
    },
    {
     "name": "stderr",
     "output_type": "stream",
     "text": [
      " 43%|████▎     | 214/500 [00:23<00:31,  9.22it/s]"
     ]
    },
    {
     "name": "stdout",
     "output_type": "stream",
     "text": [
      "Client 1: accuracy loss: 3.78 | fairness loss 7299233.78 | Demographic disparity = 0.07\n",
      "Client 2: accuracy loss: 2.56 | fairness loss 10135295.86 | Demographic disparity = 0.03\n",
      "Client 3: accuracy loss: 3.38 | fairness loss 8267978.33 | Demographic disparity = 0.09\n",
      " \n",
      "Avg Training Stats after 213 global rounds:\n",
      "Training loss: -148594.56 | Validation accuracy: 59.28% | Validation Demographic disparity: 0.0688\n",
      "\n",
      " | Global Round : 214 | constraint :  Cov(z, d) < c\n",
      "\n",
      "Client 1: accuracy loss: 3.78 | fairness loss 7337522.88 | Demographic disparity = 0.06\n",
      "Client 2: accuracy loss: 2.57 | fairness loss 10188845.82 | Demographic disparity = 0.03\n",
      "Client 3: accuracy loss: 3.38 | fairness loss 8311671.58 | Demographic disparity = 0.09\n",
      " \n",
      "Avg Training Stats after 214 global rounds:\n",
      "Training loss: -148985.72 | Validation accuracy: 58.99% | Validation Demographic disparity: 0.0655\n",
      "\n",
      " | Global Round : 215 | constraint :  Cov(z, d) < c\n",
      "\n"
     ]
    },
    {
     "name": "stderr",
     "output_type": "stream",
     "text": [
      " 43%|████▎     | 216/500 [00:24<00:31,  9.10it/s]"
     ]
    },
    {
     "name": "stdout",
     "output_type": "stream",
     "text": [
      "Client 1: accuracy loss: 3.78 | fairness loss 7375933.49 | Demographic disparity = 0.06\n",
      "Client 2: accuracy loss: 2.57 | fairness loss 10242567.36 | Demographic disparity = 0.03\n",
      "Client 3: accuracy loss: 3.38 | fairness loss 8355503.31 | Demographic disparity = 0.09\n",
      " \n",
      "Avg Training Stats after 215 global rounds:\n",
      "Training loss: -149377.06 | Validation accuracy: 58.99% | Validation Demographic disparity: 0.0655\n",
      "\n",
      " | Global Round : 216 | constraint :  Cov(z, d) < c\n",
      "\n",
      "Client 1: accuracy loss: 3.78 | fairness loss 7414466.49 | Demographic disparity = 0.06\n",
      "Client 2: accuracy loss: 2.57 | fairness loss 10296459.77 | Demographic disparity = 0.03\n",
      "Client 3: accuracy loss: 3.38 | fairness loss 8399476.36 | Demographic disparity = 0.09\n",
      " \n",
      "Avg Training Stats after 216 global rounds:\n",
      "Training loss: -149768.60 | Validation accuracy: 58.99% | Validation Demographic disparity: 0.0655\n",
      "\n",
      " | Global Round : 217 | constraint :  Cov(z, d) < c\n",
      "\n"
     ]
    },
    {
     "name": "stderr",
     "output_type": "stream",
     "text": [
      " 44%|████▎     | 218/500 [00:24<00:30,  9.15it/s]"
     ]
    },
    {
     "name": "stdout",
     "output_type": "stream",
     "text": [
      "Client 1: accuracy loss: 3.78 | fairness loss 7453121.30 | Demographic disparity = 0.06\n",
      "Client 2: accuracy loss: 2.57 | fairness loss 10350524.50 | Demographic disparity = 0.03\n",
      "Client 3: accuracy loss: 3.38 | fairness loss 8443589.11 | Demographic disparity = 0.09\n",
      " \n",
      "Avg Training Stats after 217 global rounds:\n",
      "Training loss: -150160.31 | Validation accuracy: 58.99% | Validation Demographic disparity: 0.0655\n",
      "\n",
      " | Global Round : 218 | constraint :  Cov(z, d) < c\n",
      "\n",
      "Client 1: accuracy loss: 3.78 | fairness loss 7491897.93 | Demographic disparity = 0.06\n",
      "Client 2: accuracy loss: 2.57 | fairness loss 10404761.36 | Demographic disparity = 0.03\n",
      "Client 3: accuracy loss: 3.38 | fairness loss 8487842.14 | Demographic disparity = 0.09\n",
      " \n",
      "Avg Training Stats after 218 global rounds:\n",
      "Training loss: -150552.22 | Validation accuracy: 58.99% | Validation Demographic disparity: 0.0655\n",
      "\n",
      " | Global Round : 219 | constraint :  Cov(z, d) < c\n",
      "\n"
     ]
    },
    {
     "name": "stderr",
     "output_type": "stream",
     "text": [
      " 44%|████▍     | 220/500 [00:24<00:30,  9.21it/s]"
     ]
    },
    {
     "name": "stdout",
     "output_type": "stream",
     "text": [
      "Client 1: accuracy loss: 3.78 | fairness loss 7530797.83 | Demographic disparity = 0.06\n",
      "Client 2: accuracy loss: 2.57 | fairness loss 10459171.36 | Demographic disparity = 0.03\n",
      "Client 3: accuracy loss: 3.38 | fairness loss 8532236.56 | Demographic disparity = 0.09\n",
      " \n",
      "Avg Training Stats after 219 global rounds:\n",
      "Training loss: -150944.31 | Validation accuracy: 58.99% | Validation Demographic disparity: 0.0655\n",
      "\n",
      " | Global Round : 220 | constraint :  Cov(z, d) < c\n",
      "\n",
      "Client 1: accuracy loss: 3.78 | fairness loss 7569819.91 | Demographic disparity = 0.06\n",
      "Client 2: accuracy loss: 2.57 | fairness loss 10513753.09 | Demographic disparity = 0.03\n",
      "Client 3: accuracy loss: 3.38 | fairness loss 8576771.78 | Demographic disparity = 0.09\n",
      " \n",
      "Avg Training Stats after 220 global rounds:\n",
      "Training loss: -151336.59 | Validation accuracy: 58.99% | Validation Demographic disparity: 0.0655\n",
      "\n",
      " | Global Round : 221 | constraint :  Cov(z, d) < c\n",
      "\n"
     ]
    },
    {
     "name": "stderr",
     "output_type": "stream",
     "text": [
      " 44%|████▍     | 222/500 [00:24<00:31,  8.82it/s]"
     ]
    },
    {
     "name": "stdout",
     "output_type": "stream",
     "text": [
      "Client 1: accuracy loss: 3.79 | fairness loss 7608963.93 | Demographic disparity = 0.06\n",
      "Client 2: accuracy loss: 2.57 | fairness loss 10568506.64 | Demographic disparity = 0.03\n",
      "Client 3: accuracy loss: 3.38 | fairness loss 8621446.97 | Demographic disparity = 0.09\n",
      " \n",
      "Avg Training Stats after 221 global rounds:\n",
      "Training loss: -151729.05 | Validation accuracy: 58.99% | Validation Demographic disparity: 0.0655\n",
      "\n",
      " | Global Round : 222 | constraint :  Cov(z, d) < c\n",
      "\n",
      "Client 1: accuracy loss: 3.79 | fairness loss 7648232.51 | Demographic disparity = 0.06\n",
      "Client 2: accuracy loss: 2.57 | fairness loss 10623435.05 | Demographic disparity = 0.03\n",
      "Client 3: accuracy loss: 3.38 | fairness loss 8666265.33 | Demographic disparity = 0.09\n",
      " \n",
      "Avg Training Stats after 222 global rounds:\n",
      "Training loss: -152121.70 | Validation accuracy: 58.99% | Validation Demographic disparity: 0.0655\n",
      "\n",
      " | Global Round : 223 | constraint :  Cov(z, d) < c\n",
      "\n"
     ]
    },
    {
     "name": "stderr",
     "output_type": "stream",
     "text": [
      " 45%|████▍     | 224/500 [00:24<00:30,  8.93it/s]"
     ]
    },
    {
     "name": "stdout",
     "output_type": "stream",
     "text": [
      "Client 1: accuracy loss: 3.79 | fairness loss 7687623.49 | Demographic disparity = 0.06\n",
      "Client 2: accuracy loss: 2.57 | fairness loss 10678536.14 | Demographic disparity = 0.03\n",
      "Client 3: accuracy loss: 3.38 | fairness loss 8711223.86 | Demographic disparity = 0.09\n",
      " \n",
      "Avg Training Stats after 223 global rounds:\n",
      "Training loss: -152514.53 | Validation accuracy: 58.99% | Validation Demographic disparity: 0.0655\n",
      "\n",
      " | Global Round : 224 | constraint :  Cov(z, d) < c\n",
      "\n",
      "Client 1: accuracy loss: 3.79 | fairness loss 7727137.91 | Demographic disparity = 0.06\n",
      "Client 2: accuracy loss: 2.57 | fairness loss 10733811.64 | Demographic disparity = 0.03\n",
      "Client 3: accuracy loss: 3.38 | fairness loss 8756324.86 | Demographic disparity = 0.09\n",
      " \n",
      "Avg Training Stats after 224 global rounds:\n",
      "Training loss: -152907.55 | Validation accuracy: 58.99% | Validation Demographic disparity: 0.0655\n",
      "\n",
      " | Global Round : 225 | constraint :  Cov(z, d) < c\n",
      "\n"
     ]
    },
    {
     "name": "stderr",
     "output_type": "stream",
     "text": [
      " 45%|████▌     | 226/500 [00:25<00:30,  8.89it/s]"
     ]
    },
    {
     "name": "stdout",
     "output_type": "stream",
     "text": [
      "Client 1: accuracy loss: 3.79 | fairness loss 7766777.15 | Demographic disparity = 0.06\n",
      "Client 2: accuracy loss: 2.57 | fairness loss 10789261.64 | Demographic disparity = 0.03\n",
      "Client 3: accuracy loss: 3.38 | fairness loss 8801568.50 | Demographic disparity = 0.09\n",
      " \n",
      "Avg Training Stats after 225 global rounds:\n",
      "Training loss: -153300.75 | Validation accuracy: 58.99% | Validation Demographic disparity: 0.0655\n",
      "\n",
      " | Global Round : 226 | constraint :  Cov(z, d) < c\n",
      "\n",
      "Client 1: accuracy loss: 3.79 | fairness loss 7806539.35 | Demographic disparity = 0.05\n",
      "Client 2: accuracy loss: 2.57 | fairness loss 10844886.27 | Demographic disparity = 0.02\n",
      "Client 3: accuracy loss: 3.38 | fairness loss 8846955.03 | Demographic disparity = 0.09\n",
      " \n",
      "Avg Training Stats after 226 global rounds:\n",
      "Training loss: -153694.14 | Validation accuracy: 58.95% | Validation Demographic disparity: 0.0588\n",
      "\n",
      " | Global Round : 227 | constraint :  Cov(z, d) < c\n",
      "\n"
     ]
    },
    {
     "name": "stderr",
     "output_type": "stream",
     "text": [
      " 46%|████▌     | 228/500 [00:25<00:30,  9.00it/s]"
     ]
    },
    {
     "name": "stdout",
     "output_type": "stream",
     "text": [
      "Client 1: accuracy loss: 3.79 | fairness loss 7846425.31 | Demographic disparity = 0.05\n",
      "Client 2: accuracy loss: 2.57 | fairness loss 10900684.41 | Demographic disparity = 0.02\n",
      "Client 3: accuracy loss: 3.39 | fairness loss 8892482.31 | Demographic disparity = 0.09\n",
      " \n",
      "Avg Training Stats after 227 global rounds:\n",
      "Training loss: -154087.71 | Validation accuracy: 58.95% | Validation Demographic disparity: 0.0588\n",
      "\n",
      " | Global Round : 228 | constraint :  Cov(z, d) < c\n",
      "\n",
      "Client 1: accuracy loss: 3.79 | fairness loss 7886435.42 | Demographic disparity = 0.04\n",
      "Client 2: accuracy loss: 2.57 | fairness loss 10956657.36 | Demographic disparity = 0.02\n",
      "Client 3: accuracy loss: 3.39 | fairness loss 8938152.94 | Demographic disparity = 0.09\n",
      " \n",
      "Avg Training Stats after 228 global rounds:\n",
      "Training loss: -154481.47 | Validation accuracy: 58.66% | Validation Demographic disparity: 0.0555\n",
      "\n",
      " | Global Round : 229 | constraint :  Cov(z, d) < c\n",
      "\n"
     ]
    },
    {
     "name": "stderr",
     "output_type": "stream",
     "text": [
      " 46%|████▌     | 230/500 [00:25<00:29,  9.08it/s]"
     ]
    },
    {
     "name": "stdout",
     "output_type": "stream",
     "text": [
      "Client 1: accuracy loss: 3.79 | fairness loss 7926570.53 | Demographic disparity = 0.03\n",
      "Client 2: accuracy loss: 2.57 | fairness loss 11012805.41 | Demographic disparity = 0.03\n",
      "Client 3: accuracy loss: 3.39 | fairness loss 8983966.56 | Demographic disparity = 0.09\n",
      " \n",
      "Avg Training Stats after 229 global rounds:\n",
      "Training loss: -154875.41 | Validation accuracy: 58.70% | Validation Demographic disparity: 0.0555\n",
      "\n",
      " | Global Round : 230 | constraint :  Cov(z, d) < c\n",
      "\n",
      "Client 1: accuracy loss: 3.79 | fairness loss 7966828.42 | Demographic disparity = 0.03\n",
      "Client 2: accuracy loss: 2.57 | fairness loss 11069128.59 | Demographic disparity = 0.03\n",
      "Client 3: accuracy loss: 3.39 | fairness loss 9029923.06 | Demographic disparity = 0.08\n",
      " \n",
      "Avg Training Stats after 230 global rounds:\n",
      "Training loss: -155269.54 | Validation accuracy: 58.30% | Validation Demographic disparity: 0.0522\n",
      "\n",
      " | Global Round : 231 | constraint :  Cov(z, d) < c\n",
      "\n"
     ]
    },
    {
     "name": "stderr",
     "output_type": "stream",
     "text": [
      " 46%|████▋     | 232/500 [00:25<00:29,  9.02it/s]"
     ]
    },
    {
     "name": "stdout",
     "output_type": "stream",
     "text": [
      "Client 1: accuracy loss: 3.79 | fairness loss 8007212.55 | Demographic disparity = 0.03\n",
      "Client 2: accuracy loss: 2.57 | fairness loss 11125626.86 | Demographic disparity = 0.03\n",
      "Client 3: accuracy loss: 3.39 | fairness loss 9076022.72 | Demographic disparity = 0.08\n",
      " \n",
      "Avg Training Stats after 231 global rounds:\n",
      "Training loss: -155663.85 | Validation accuracy: 58.30% | Validation Demographic disparity: 0.0522\n",
      "\n",
      " | Global Round : 232 | constraint :  Cov(z, d) < c\n",
      "\n",
      "Client 1: accuracy loss: 3.80 | fairness loss 8047720.44 | Demographic disparity = 0.03\n",
      "Client 2: accuracy loss: 2.57 | fairness loss 11182301.09 | Demographic disparity = 0.03\n",
      "Client 3: accuracy loss: 3.39 | fairness loss 9122265.81 | Demographic disparity = 0.08\n",
      " \n",
      "Avg Training Stats after 232 global rounds:\n",
      "Training loss: -156058.34 | Validation accuracy: 58.30% | Validation Demographic disparity: 0.0522\n",
      "\n",
      " | Global Round : 233 | constraint :  Cov(z, d) < c\n",
      "\n"
     ]
    },
    {
     "name": "stderr",
     "output_type": "stream",
     "text": [
      " 47%|████▋     | 234/500 [00:26<00:29,  9.04it/s]"
     ]
    },
    {
     "name": "stdout",
     "output_type": "stream",
     "text": [
      "Client 1: accuracy loss: 3.80 | fairness loss 8088353.33 | Demographic disparity = 0.03\n",
      "Client 2: accuracy loss: 2.57 | fairness loss 11239151.05 | Demographic disparity = 0.03\n",
      "Client 3: accuracy loss: 3.39 | fairness loss 9168651.53 | Demographic disparity = 0.08\n",
      " \n",
      "Avg Training Stats after 233 global rounds:\n",
      "Training loss: -156453.02 | Validation accuracy: 58.30% | Validation Demographic disparity: 0.0522\n",
      "\n",
      " | Global Round : 234 | constraint :  Cov(z, d) < c\n",
      "\n",
      "Client 1: accuracy loss: 3.80 | fairness loss 8129111.68 | Demographic disparity = 0.03\n",
      "Client 2: accuracy loss: 2.57 | fairness loss 11296177.23 | Demographic disparity = 0.03\n",
      "Client 3: accuracy loss: 3.39 | fairness loss 9215182.58 | Demographic disparity = 0.08\n",
      " \n",
      "Avg Training Stats after 234 global rounds:\n",
      "Training loss: -156847.88 | Validation accuracy: 58.30% | Validation Demographic disparity: 0.0522\n",
      "\n",
      " | Global Round : 235 | constraint :  Cov(z, d) < c\n",
      "\n"
     ]
    },
    {
     "name": "stderr",
     "output_type": "stream",
     "text": [
      " 47%|████▋     | 236/500 [00:26<00:29,  9.02it/s]"
     ]
    },
    {
     "name": "stdout",
     "output_type": "stream",
     "text": [
      "Client 1: accuracy loss: 3.80 | fairness loss 8169995.72 | Demographic disparity = 0.04\n",
      "Client 2: accuracy loss: 2.57 | fairness loss 11353379.86 | Demographic disparity = 0.03\n",
      "Client 3: accuracy loss: 3.39 | fairness loss 9261857.42 | Demographic disparity = 0.08\n",
      " \n",
      "Avg Training Stats after 235 global rounds:\n",
      "Training loss: -157242.92 | Validation accuracy: 58.60% | Validation Demographic disparity: 0.0555\n",
      "\n",
      " | Global Round : 236 | constraint :  Cov(z, d) < c\n",
      "\n",
      "Client 1: accuracy loss: 3.80 | fairness loss 8211005.17 | Demographic disparity = 0.05\n",
      "Client 2: accuracy loss: 2.57 | fairness loss 11410759.55 | Demographic disparity = 0.03\n",
      "Client 3: accuracy loss: 3.39 | fairness loss 9308675.78 | Demographic disparity = 0.08\n",
      " \n",
      "Avg Training Stats after 236 global rounds:\n",
      "Training loss: -157638.14 | Validation accuracy: 58.89% | Validation Demographic disparity: 0.0588\n",
      "\n",
      " | Global Round : 237 | constraint :  Cov(z, d) < c\n",
      "\n"
     ]
    },
    {
     "name": "stderr",
     "output_type": "stream",
     "text": [
      " 48%|████▊     | 238/500 [00:26<00:28,  9.11it/s]"
     ]
    },
    {
     "name": "stdout",
     "output_type": "stream",
     "text": [
      "Client 1: accuracy loss: 3.80 | fairness loss 8252138.78 | Demographic disparity = 0.04\n",
      "Client 2: accuracy loss: 2.57 | fairness loss 11468315.05 | Demographic disparity = 0.03\n",
      "Client 3: accuracy loss: 3.39 | fairness loss 9355638.61 | Demographic disparity = 0.08\n",
      " \n",
      "Avg Training Stats after 237 global rounds:\n",
      "Training loss: -158033.55 | Validation accuracy: 58.60% | Validation Demographic disparity: 0.0555\n",
      "\n",
      " | Global Round : 238 | constraint :  Cov(z, d) < c\n",
      "\n",
      "Client 1: accuracy loss: 3.80 | fairness loss 8293399.30 | Demographic disparity = 0.04\n",
      "Client 2: accuracy loss: 2.58 | fairness loss 11526049.59 | Demographic disparity = 0.02\n",
      "Client 3: accuracy loss: 3.39 | fairness loss 9402746.36 | Demographic disparity = 0.08\n",
      " \n",
      "Avg Training Stats after 238 global rounds:\n",
      "Training loss: -158429.14 | Validation accuracy: 58.27% | Validation Demographic disparity: 0.0501\n",
      "\n",
      " | Global Round : 239 | constraint :  Cov(z, d) < c\n",
      "\n"
     ]
    },
    {
     "name": "stderr",
     "output_type": "stream",
     "text": [
      " 48%|████▊     | 240/500 [00:26<00:29,  8.80it/s]"
     ]
    },
    {
     "name": "stdout",
     "output_type": "stream",
     "text": [
      "Client 1: accuracy loss: 3.80 | fairness loss 8334787.25 | Demographic disparity = 0.04\n",
      "Client 2: accuracy loss: 2.58 | fairness loss 11583960.32 | Demographic disparity = 0.02\n",
      "Client 3: accuracy loss: 3.39 | fairness loss 9449999.78 | Demographic disparity = 0.08\n",
      " \n",
      "Avg Training Stats after 239 global rounds:\n",
      "Training loss: -158824.91 | Validation accuracy: 58.27% | Validation Demographic disparity: 0.0501\n",
      "\n",
      " | Global Round : 240 | constraint :  Cov(z, d) < c\n",
      "\n",
      "Client 1: accuracy loss: 3.80 | fairness loss 8376300.81 | Demographic disparity = 0.04\n",
      "Client 2: accuracy loss: 2.58 | fairness loss 11642051.14 | Demographic disparity = 0.02\n",
      "Client 3: accuracy loss: 3.39 | fairness loss 9497398.67 | Demographic disparity = 0.07\n",
      " \n",
      "Avg Training Stats after 240 global rounds:\n",
      "Training loss: -159220.87 | Validation accuracy: 58.66% | Validation Demographic disparity: 0.0467\n",
      "\n",
      " | Global Round : 241 | constraint :  Cov(z, d) < c\n",
      "\n"
     ]
    },
    {
     "name": "stderr",
     "output_type": "stream",
     "text": [
      " 48%|████▊     | 242/500 [00:26<00:28,  9.03it/s]"
     ]
    },
    {
     "name": "stdout",
     "output_type": "stream",
     "text": [
      "Client 1: accuracy loss: 3.80 | fairness loss 8417939.81 | Demographic disparity = 0.04\n",
      "Client 2: accuracy loss: 2.58 | fairness loss 11700317.50 | Demographic disparity = 0.02\n",
      "Client 3: accuracy loss: 3.39 | fairness loss 9544941.89 | Demographic disparity = 0.07\n",
      " \n",
      "Avg Training Stats after 241 global rounds:\n",
      "Training loss: -159617.00 | Validation accuracy: 58.66% | Validation Demographic disparity: 0.0467\n",
      "\n",
      " | Global Round : 242 | constraint :  Cov(z, d) < c\n",
      "\n",
      "Client 1: accuracy loss: 3.80 | fairness loss 8459706.35 | Demographic disparity = 0.03\n",
      "Client 2: accuracy loss: 2.58 | fairness loss 11758764.00 | Demographic disparity = 0.02\n",
      "Client 3: accuracy loss: 3.39 | fairness loss 9592631.00 | Demographic disparity = 0.07\n",
      " \n",
      "Avg Training Stats after 242 global rounds:\n",
      "Training loss: -160013.32 | Validation accuracy: 58.37% | Validation Demographic disparity: 0.0434\n",
      "\n",
      " | Global Round : 243 | constraint :  Cov(z, d) < c\n",
      "\n"
     ]
    },
    {
     "name": "stderr",
     "output_type": "stream",
     "text": [
      " 49%|████▉     | 244/500 [00:27<00:27,  9.14it/s]"
     ]
    },
    {
     "name": "stdout",
     "output_type": "stream",
     "text": [
      "Client 1: accuracy loss: 3.81 | fairness loss 8501598.94 | Demographic disparity = 0.03\n",
      "Client 2: accuracy loss: 2.58 | fairness loss 11817387.23 | Demographic disparity = 0.02\n",
      "Client 3: accuracy loss: 3.39 | fairness loss 9640465.64 | Demographic disparity = 0.07\n",
      " \n",
      "Avg Training Stats after 243 global rounds:\n",
      "Training loss: -160409.82 | Validation accuracy: 58.37% | Validation Demographic disparity: 0.0434\n",
      "\n",
      " | Global Round : 244 | constraint :  Cov(z, d) < c\n",
      "\n",
      "Client 1: accuracy loss: 3.81 | fairness loss 8543619.17 | Demographic disparity = 0.03\n",
      "Client 2: accuracy loss: 2.58 | fairness loss 11876189.59 | Demographic disparity = 0.02\n",
      "Client 3: accuracy loss: 3.40 | fairness loss 9688445.89 | Demographic disparity = 0.07\n",
      " \n",
      "Avg Training Stats after 244 global rounds:\n",
      "Training loss: -160806.50 | Validation accuracy: 58.37% | Validation Demographic disparity: 0.0434\n",
      "\n",
      " | Global Round : 245 | constraint :  Cov(z, d) < c\n",
      "\n"
     ]
    },
    {
     "name": "stderr",
     "output_type": "stream",
     "text": [
      " 49%|████▉     | 246/500 [00:27<00:27,  9.14it/s]"
     ]
    },
    {
     "name": "stdout",
     "output_type": "stream",
     "text": [
      "Client 1: accuracy loss: 3.81 | fairness loss 8585766.75 | Demographic disparity = 0.02\n",
      "Client 2: accuracy loss: 2.58 | fairness loss 11935172.09 | Demographic disparity = 0.02\n",
      "Client 3: accuracy loss: 3.40 | fairness loss 9736573.19 | Demographic disparity = 0.07\n",
      " \n",
      "Avg Training Stats after 245 global rounds:\n",
      "Training loss: -161203.36 | Validation accuracy: 58.08% | Validation Demographic disparity: 0.0401\n",
      "\n",
      " | Global Round : 246 | constraint :  Cov(z, d) < c\n",
      "\n",
      "Client 1: accuracy loss: 3.81 | fairness loss 8628041.77 | Demographic disparity = 0.02\n",
      "Client 2: accuracy loss: 2.58 | fairness loss 11994333.45 | Demographic disparity = 0.02\n",
      "Client 3: accuracy loss: 3.40 | fairness loss 9784846.75 | Demographic disparity = 0.06\n",
      " \n",
      "Avg Training Stats after 246 global rounds:\n",
      "Training loss: -161600.41 | Validation accuracy: 57.68% | Validation Demographic disparity: 0.0368\n",
      "\n",
      " | Global Round : 247 | constraint :  Cov(z, d) < c\n",
      "\n"
     ]
    },
    {
     "name": "stderr",
     "output_type": "stream",
     "text": [
      " 50%|████▉     | 248/500 [00:27<00:27,  9.19it/s]"
     ]
    },
    {
     "name": "stdout",
     "output_type": "stream",
     "text": [
      "Client 1: accuracy loss: 3.81 | fairness loss 8670443.30 | Demographic disparity = 0.02\n",
      "Client 2: accuracy loss: 2.58 | fairness loss 12053674.36 | Demographic disparity = 0.02\n",
      "Client 3: accuracy loss: 3.40 | fairness loss 9833266.64 | Demographic disparity = 0.06\n",
      " \n",
      "Avg Training Stats after 247 global rounds:\n",
      "Training loss: -161997.63 | Validation accuracy: 57.68% | Validation Demographic disparity: 0.0368\n",
      "\n",
      " | Global Round : 248 | constraint :  Cov(z, d) < c\n",
      "\n",
      "Client 1: accuracy loss: 3.81 | fairness loss 8712974.50 | Demographic disparity = 0.02\n",
      "Client 2: accuracy loss: 2.58 | fairness loss 12113195.86 | Demographic disparity = 0.02\n",
      "Client 3: accuracy loss: 3.40 | fairness loss 9881833.03 | Demographic disparity = 0.06\n",
      " \n",
      "Avg Training Stats after 248 global rounds:\n",
      "Training loss: -162395.03 | Validation accuracy: 57.68% | Validation Demographic disparity: 0.0368\n",
      "\n",
      " | Global Round : 249 | constraint :  Cov(z, d) < c\n",
      "\n"
     ]
    },
    {
     "name": "stderr",
     "output_type": "stream",
     "text": [
      " 50%|█████     | 250/500 [00:27<00:27,  9.21it/s]"
     ]
    },
    {
     "name": "stdout",
     "output_type": "stream",
     "text": [
      "Client 1: accuracy loss: 3.81 | fairness loss 8755632.35 | Demographic disparity = 0.01\n",
      "Client 2: accuracy loss: 2.58 | fairness loss 12172896.50 | Demographic disparity = 0.02\n",
      "Client 3: accuracy loss: 3.40 | fairness loss 9930546.94 | Demographic disparity = 0.06\n",
      " \n",
      "Avg Training Stats after 249 global rounds:\n",
      "Training loss: -162792.62 | Validation accuracy: 57.39% | Validation Demographic disparity: 0.0335\n",
      "\n",
      " | Global Round : 250 | constraint :  Cov(z, d) < c\n",
      "\n",
      "Client 1: accuracy loss: 3.81 | fairness loss 8798418.07 | Demographic disparity = 0.01\n",
      "Client 2: accuracy loss: 2.58 | fairness loss 12232777.86 | Demographic disparity = 0.02\n",
      "Client 3: accuracy loss: 3.40 | fairness loss 9979408.31 | Demographic disparity = 0.06\n",
      " \n",
      "Avg Training Stats after 250 global rounds:\n",
      "Training loss: -163190.38 | Validation accuracy: 57.39% | Validation Demographic disparity: 0.0335\n",
      "\n",
      " | Global Round : 251 | constraint :  Cov(z, d) < c\n",
      "\n"
     ]
    },
    {
     "name": "stderr",
     "output_type": "stream",
     "text": [
      " 50%|█████     | 252/500 [00:27<00:27,  9.05it/s]"
     ]
    },
    {
     "name": "stdout",
     "output_type": "stream",
     "text": [
      "Client 1: accuracy loss: 3.81 | fairness loss 8841332.52 | Demographic disparity = 0.01\n",
      "Client 2: accuracy loss: 2.58 | fairness loss 12292839.41 | Demographic disparity = 0.02\n",
      "Client 3: accuracy loss: 3.40 | fairness loss 10028416.42 | Demographic disparity = 0.06\n",
      " \n",
      "Avg Training Stats after 251 global rounds:\n",
      "Training loss: -163588.33 | Validation accuracy: 57.39% | Validation Demographic disparity: 0.0335\n",
      "\n",
      " | Global Round : 252 | constraint :  Cov(z, d) < c\n",
      "\n",
      "Client 1: accuracy loss: 3.81 | fairness loss 8884375.56 | Demographic disparity = 0.01\n",
      "Client 2: accuracy loss: 2.58 | fairness loss 12353082.23 | Demographic disparity = 0.01\n",
      "Client 3: accuracy loss: 3.40 | fairness loss 10077572.39 | Demographic disparity = 0.06\n",
      " \n",
      "Avg Training Stats after 252 global rounds:\n",
      "Training loss: -163986.46 | Validation accuracy: 57.07% | Validation Demographic disparity: 0.0301\n",
      "\n",
      " | Global Round : 253 | constraint :  Cov(z, d) < c\n",
      "\n"
     ]
    },
    {
     "name": "stderr",
     "output_type": "stream",
     "text": [
      " 51%|█████     | 254/500 [00:28<00:26,  9.14it/s]"
     ]
    },
    {
     "name": "stdout",
     "output_type": "stream",
     "text": [
      "Client 1: accuracy loss: 3.81 | fairness loss 8927546.68 | Demographic disparity = 0.01\n",
      "Client 2: accuracy loss: 2.58 | fairness loss 12413505.41 | Demographic disparity = 0.01\n",
      "Client 3: accuracy loss: 3.40 | fairness loss 10126875.33 | Demographic disparity = 0.06\n",
      " \n",
      "Avg Training Stats after 253 global rounds:\n",
      "Training loss: -164384.76 | Validation accuracy: 57.07% | Validation Demographic disparity: 0.0301\n",
      "\n",
      " | Global Round : 254 | constraint :  Cov(z, d) < c\n",
      "\n",
      "Client 1: accuracy loss: 3.81 | fairness loss 8970846.64 | Demographic disparity = 0.01\n",
      "Client 2: accuracy loss: 2.58 | fairness loss 12474110.64 | Demographic disparity = 0.01\n",
      "Client 3: accuracy loss: 3.40 | fairness loss 10176328.14 | Demographic disparity = 0.06\n",
      " \n",
      "Avg Training Stats after 254 global rounds:\n",
      "Training loss: -164783.25 | Validation accuracy: 57.07% | Validation Demographic disparity: 0.0301\n",
      "\n",
      " | Global Round : 255 | constraint :  Cov(z, d) < c\n",
      "\n"
     ]
    },
    {
     "name": "stderr",
     "output_type": "stream",
     "text": [
      " 51%|█████     | 256/500 [00:28<00:26,  9.06it/s]"
     ]
    },
    {
     "name": "stdout",
     "output_type": "stream",
     "text": [
      "Client 1: accuracy loss: 3.82 | fairness loss 9014275.34 | Demographic disparity = 0.00\n",
      "Client 2: accuracy loss: 2.58 | fairness loss 12534897.27 | Demographic disparity = 0.01\n",
      "Client 3: accuracy loss: 3.40 | fairness loss 10225927.83 | Demographic disparity = 0.07\n",
      " \n",
      "Avg Training Stats after 255 global rounds:\n",
      "Training loss: -165181.91 | Validation accuracy: 56.38% | Validation Demographic disparity: 0.0301\n",
      "\n",
      " | Global Round : 256 | constraint :  Cov(z, d) < c\n",
      "\n",
      "Client 1: accuracy loss: 3.82 | fairness loss 9057834.43 | Demographic disparity = 0.01\n",
      "Client 2: accuracy loss: 2.58 | fairness loss 12595866.45 | Demographic disparity = 0.01\n",
      "Client 3: accuracy loss: 3.40 | fairness loss 10275676.83 | Demographic disparity = 0.07\n",
      " \n",
      "Avg Training Stats after 256 global rounds:\n",
      "Training loss: -165580.76 | Validation accuracy: 56.09% | Validation Demographic disparity: 0.0268\n",
      "\n",
      " | Global Round : 257 | constraint :  Cov(z, d) < c\n",
      "\n"
     ]
    },
    {
     "name": "stderr",
     "output_type": "stream",
     "text": [
      " 52%|█████▏    | 258/500 [00:28<00:26,  9.18it/s]"
     ]
    },
    {
     "name": "stdout",
     "output_type": "stream",
     "text": [
      "Client 1: accuracy loss: 3.82 | fairness loss 9101522.17 | Demographic disparity = 0.01\n",
      "Client 2: accuracy loss: 2.58 | fairness loss 12657017.00 | Demographic disparity = 0.01\n",
      "Client 3: accuracy loss: 3.40 | fairness loss 10325574.06 | Demographic disparity = 0.07\n",
      " \n",
      "Avg Training Stats after 257 global rounds:\n",
      "Training loss: -165979.78 | Validation accuracy: 56.09% | Validation Demographic disparity: 0.0268\n",
      "\n",
      " | Global Round : 258 | constraint :  Cov(z, d) < c\n",
      "\n",
      "Client 1: accuracy loss: 3.82 | fairness loss 9145339.78 | Demographic disparity = 0.01\n",
      "Client 2: accuracy loss: 2.58 | fairness loss 12718350.59 | Demographic disparity = 0.01\n",
      "Client 3: accuracy loss: 3.40 | fairness loss 10375620.94 | Demographic disparity = 0.07\n",
      " \n",
      "Avg Training Stats after 258 global rounds:\n",
      "Training loss: -166378.98 | Validation accuracy: 56.09% | Validation Demographic disparity: 0.0268\n",
      "\n",
      " | Global Round : 259 | constraint :  Cov(z, d) < c\n",
      "\n"
     ]
    },
    {
     "name": "stderr",
     "output_type": "stream",
     "text": [
      " 52%|█████▏    | 260/500 [00:28<00:25,  9.23it/s]"
     ]
    },
    {
     "name": "stdout",
     "output_type": "stream",
     "text": [
      "Client 1: accuracy loss: 3.82 | fairness loss 9189286.01 | Demographic disparity = 0.01\n",
      "Client 2: accuracy loss: 2.58 | fairness loss 12779866.82 | Demographic disparity = 0.01\n",
      "Client 3: accuracy loss: 3.40 | fairness loss 10425815.72 | Demographic disparity = 0.07\n",
      " \n",
      "Avg Training Stats after 259 global rounds:\n",
      "Training loss: -166778.36 | Validation accuracy: 56.09% | Validation Demographic disparity: 0.0268\n",
      "\n",
      " | Global Round : 260 | constraint :  Cov(z, d) < c\n",
      "\n",
      "Client 1: accuracy loss: 3.82 | fairness loss 9233363.11 | Demographic disparity = 0.01\n",
      "Client 2: accuracy loss: 2.58 | fairness loss 12841565.50 | Demographic disparity = 0.00\n",
      "Client 3: accuracy loss: 3.41 | fairness loss 10476160.28 | Demographic disparity = 0.07\n",
      " \n",
      "Avg Training Stats after 260 global rounds:\n",
      "Training loss: -167177.92 | Validation accuracy: 55.76% | Validation Demographic disparity: 0.0235\n",
      "\n",
      " | Global Round : 261 | constraint :  Cov(z, d) < c\n",
      "\n"
     ]
    },
    {
     "name": "stderr",
     "output_type": "stream",
     "text": [
      " 52%|█████▏    | 262/500 [00:29<00:26,  9.08it/s]"
     ]
    },
    {
     "name": "stdout",
     "output_type": "stream",
     "text": [
      "Client 1: accuracy loss: 3.82 | fairness loss 9277570.50 | Demographic disparity = 0.01\n",
      "Client 2: accuracy loss: 2.58 | fairness loss 12903448.09 | Demographic disparity = 0.02\n",
      "Client 3: accuracy loss: 3.41 | fairness loss 10526655.11 | Demographic disparity = 0.07\n",
      " \n",
      "Avg Training Stats after 261 global rounds:\n",
      "Training loss: -167577.66 | Validation accuracy: 55.44% | Validation Demographic disparity: 0.0202\n",
      "\n",
      " | Global Round : 262 | constraint :  Cov(z, d) < c\n",
      "\n",
      "Client 1: accuracy loss: 3.82 | fairness loss 9321907.84 | Demographic disparity = 0.01\n",
      "Client 2: accuracy loss: 2.58 | fairness loss 12965512.77 | Demographic disparity = 0.00\n",
      "Client 3: accuracy loss: 3.41 | fairness loss 10577298.94 | Demographic disparity = 0.07\n",
      " \n",
      "Avg Training Stats after 262 global rounds:\n",
      "Training loss: -167977.58 | Validation accuracy: 55.76% | Validation Demographic disparity: 0.0235\n",
      "\n",
      " | Global Round : 263 | constraint :  Cov(z, d) < c\n",
      "\n"
     ]
    },
    {
     "name": "stderr",
     "output_type": "stream",
     "text": [
      " 53%|█████▎    | 264/500 [00:29<00:26,  9.00it/s]"
     ]
    },
    {
     "name": "stdout",
     "output_type": "stream",
     "text": [
      "Client 1: accuracy loss: 3.82 | fairness loss 9366374.44 | Demographic disparity = 0.01\n",
      "Client 2: accuracy loss: 2.59 | fairness loss 13027761.82 | Demographic disparity = 0.02\n",
      "Client 3: accuracy loss: 3.41 | fairness loss 10628092.78 | Demographic disparity = 0.06\n",
      " \n",
      "Avg Training Stats after 263 global rounds:\n",
      "Training loss: -168377.68 | Validation accuracy: 55.04% | Validation Demographic disparity: 0.0168\n",
      "\n",
      " | Global Round : 264 | constraint :  Cov(z, d) < c\n",
      "\n",
      "Client 1: accuracy loss: 3.82 | fairness loss 9410973.25 | Demographic disparity = 0.01\n",
      "Client 2: accuracy loss: 2.59 | fairness loss 13090194.32 | Demographic disparity = 0.02\n",
      "Client 3: accuracy loss: 3.41 | fairness loss 10679036.67 | Demographic disparity = 0.06\n",
      " \n",
      "Avg Training Stats after 264 global rounds:\n",
      "Training loss: -168777.95 | Validation accuracy: 55.04% | Validation Demographic disparity: 0.0168\n",
      "\n",
      " | Global Round : 265 | constraint :  Cov(z, d) < c\n",
      "\n"
     ]
    },
    {
     "name": "stderr",
     "output_type": "stream",
     "text": [
      " 53%|█████▎    | 266/500 [00:29<00:25,  9.01it/s]"
     ]
    },
    {
     "name": "stdout",
     "output_type": "stream",
     "text": [
      "Client 1: accuracy loss: 3.82 | fairness loss 9455703.00 | Demographic disparity = 0.01\n",
      "Client 2: accuracy loss: 2.59 | fairness loss 13152812.64 | Demographic disparity = 0.02\n",
      "Client 3: accuracy loss: 3.41 | fairness loss 10730131.94 | Demographic disparity = 0.06\n",
      " \n",
      "Avg Training Stats after 265 global rounds:\n",
      "Training loss: -169178.41 | Validation accuracy: 55.04% | Validation Demographic disparity: 0.0168\n",
      "\n",
      " | Global Round : 266 | constraint :  Cov(z, d) < c\n",
      "\n",
      "Client 1: accuracy loss: 3.83 | fairness loss 9500563.18 | Demographic disparity = 0.01\n",
      "Client 2: accuracy loss: 2.59 | fairness loss 13215613.91 | Demographic disparity = 0.02\n",
      "Client 3: accuracy loss: 3.41 | fairness loss 10781375.94 | Demographic disparity = 0.06\n",
      " \n",
      "Avg Training Stats after 266 global rounds:\n",
      "Training loss: -169579.04 | Validation accuracy: 54.75% | Validation Demographic disparity: 0.0135\n",
      "\n",
      " | Global Round : 267 | constraint :  Cov(z, d) < c\n",
      "\n"
     ]
    },
    {
     "name": "stderr",
     "output_type": "stream",
     "text": [
      " 54%|█████▎    | 268/500 [00:29<00:25,  9.15it/s]"
     ]
    },
    {
     "name": "stdout",
     "output_type": "stream",
     "text": [
      "Client 1: accuracy loss: 3.83 | fairness loss 9545554.76 | Demographic disparity = 0.01\n",
      "Client 2: accuracy loss: 2.59 | fairness loss 13278600.45 | Demographic disparity = 0.02\n",
      "Client 3: accuracy loss: 3.41 | fairness loss 10832772.72 | Demographic disparity = 0.06\n",
      " \n",
      "Avg Training Stats after 267 global rounds:\n",
      "Training loss: -169979.85 | Validation accuracy: 54.75% | Validation Demographic disparity: 0.0135\n",
      "\n",
      " | Global Round : 268 | constraint :  Cov(z, d) < c\n",
      "\n",
      "Client 1: accuracy loss: 3.83 | fairness loss 9590677.69 | Demographic disparity = 0.01\n",
      "Client 2: accuracy loss: 2.59 | fairness loss 13341772.18 | Demographic disparity = 0.02\n",
      "Client 3: accuracy loss: 3.41 | fairness loss 10884319.56 | Demographic disparity = 0.05\n",
      " \n",
      "Avg Training Stats after 268 global rounds:\n",
      "Training loss: -170380.83 | Validation accuracy: 55.14% | Validation Demographic disparity: 0.0102\n",
      "\n",
      " | Global Round : 269 | constraint :  Cov(z, d) < c\n",
      "\n"
     ]
    },
    {
     "name": "stderr",
     "output_type": "stream",
     "text": [
      " 54%|█████▍    | 270/500 [00:29<00:24,  9.21it/s]"
     ]
    },
    {
     "name": "stdout",
     "output_type": "stream",
     "text": [
      "Client 1: accuracy loss: 3.83 | fairness loss 9635932.27 | Demographic disparity = 0.01\n",
      "Client 2: accuracy loss: 2.59 | fairness loss 13405129.18 | Demographic disparity = 0.03\n",
      "Client 3: accuracy loss: 3.41 | fairness loss 10936018.22 | Demographic disparity = 0.05\n",
      " \n",
      "Avg Training Stats after 269 global rounds:\n",
      "Training loss: -170782.00 | Validation accuracy: 54.82% | Validation Demographic disparity: 0.0069\n",
      "\n",
      " | Global Round : 270 | constraint :  Cov(z, d) < c\n",
      "\n",
      "Client 1: accuracy loss: 3.83 | fairness loss 9681319.33 | Demographic disparity = 0.01\n",
      "Client 2: accuracy loss: 2.59 | fairness loss 13468671.55 | Demographic disparity = 0.03\n",
      "Client 3: accuracy loss: 3.41 | fairness loss 10987868.06 | Demographic disparity = 0.05\n",
      " \n",
      "Avg Training Stats after 270 global rounds:\n",
      "Training loss: -171183.34 | Validation accuracy: 54.82% | Validation Demographic disparity: 0.0069\n",
      "\n",
      " | Global Round : 271 | constraint :  Cov(z, d) < c\n",
      "\n"
     ]
    },
    {
     "name": "stderr",
     "output_type": "stream",
     "text": [
      " 54%|█████▍    | 272/500 [00:30<00:24,  9.17it/s]"
     ]
    },
    {
     "name": "stdout",
     "output_type": "stream",
     "text": [
      "Client 1: accuracy loss: 3.83 | fairness loss 9726838.48 | Demographic disparity = 0.01\n",
      "Client 2: accuracy loss: 2.59 | fairness loss 13532401.45 | Demographic disparity = 0.03\n",
      "Client 3: accuracy loss: 3.41 | fairness loss 11039870.28 | Demographic disparity = 0.05\n",
      " \n",
      "Avg Training Stats after 271 global rounds:\n",
      "Training loss: -171584.86 | Validation accuracy: 54.82% | Validation Demographic disparity: 0.0069\n",
      "\n",
      " | Global Round : 272 | constraint :  Cov(z, d) < c\n",
      "\n",
      "Client 1: accuracy loss: 3.83 | fairness loss 9772489.64 | Demographic disparity = 0.01\n",
      "Client 2: accuracy loss: 2.59 | fairness loss 13596316.73 | Demographic disparity = 0.03\n",
      "Client 3: accuracy loss: 3.41 | fairness loss 11092024.50 | Demographic disparity = 0.03\n",
      " \n",
      "Avg Training Stats after 272 global rounds:\n",
      "Training loss: -171986.56 | Validation accuracy: 54.42% | Validation Demographic disparity: 0.0036\n",
      "\n",
      " | Global Round : 273 | constraint :  Cov(z, d) < c\n",
      "\n"
     ]
    },
    {
     "name": "stderr",
     "output_type": "stream",
     "text": [
      " 55%|█████▍    | 274/500 [00:30<00:24,  9.28it/s]"
     ]
    },
    {
     "name": "stdout",
     "output_type": "stream",
     "text": [
      "Client 1: accuracy loss: 3.83 | fairness loss 9818272.99 | Demographic disparity = 0.01\n",
      "Client 2: accuracy loss: 2.59 | fairness loss 13660417.27 | Demographic disparity = 0.03\n",
      "Client 3: accuracy loss: 3.41 | fairness loss 11144329.89 | Demographic disparity = 0.03\n",
      " \n",
      "Avg Training Stats after 273 global rounds:\n",
      "Training loss: -172388.43 | Validation accuracy: 54.42% | Validation Demographic disparity: 0.0036\n",
      "\n",
      " | Global Round : 274 | constraint :  Cov(z, d) < c\n",
      "\n",
      "Client 1: accuracy loss: 3.83 | fairness loss 9864187.77 | Demographic disparity = 0.01\n",
      "Client 2: accuracy loss: 2.59 | fairness loss 13724704.36 | Demographic disparity = 0.03\n",
      "Client 3: accuracy loss: 3.41 | fairness loss 11196787.83 | Demographic disparity = 0.03\n",
      " \n",
      "Avg Training Stats after 274 global rounds:\n",
      "Training loss: -172790.48 | Validation accuracy: 54.42% | Validation Demographic disparity: 0.0036\n",
      "\n",
      " | Global Round : 275 | constraint :  Cov(z, d) < c\n",
      "\n"
     ]
    },
    {
     "name": "stderr",
     "output_type": "stream",
     "text": [
      " 55%|█████▌    | 276/500 [00:30<00:24,  9.30it/s]"
     ]
    },
    {
     "name": "stdout",
     "output_type": "stream",
     "text": [
      "Client 1: accuracy loss: 3.83 | fairness loss 9910235.53 | Demographic disparity = 0.01\n",
      "Client 2: accuracy loss: 2.59 | fairness loss 13789178.59 | Demographic disparity = 0.03\n",
      "Client 3: accuracy loss: 3.41 | fairness loss 11249398.22 | Demographic disparity = 0.03\n",
      " \n",
      "Avg Training Stats after 275 global rounds:\n",
      "Training loss: -173192.71 | Validation accuracy: 54.42% | Validation Demographic disparity: 0.0036\n",
      "\n",
      " | Global Round : 276 | constraint :  Cov(z, d) < c\n",
      "\n",
      "Client 1: accuracy loss: 3.83 | fairness loss 9956416.76 | Demographic disparity = 0.01\n",
      "Client 2: accuracy loss: 2.59 | fairness loss 13853840.82 | Demographic disparity = 0.03\n",
      "Client 3: accuracy loss: 3.42 | fairness loss 11302161.17 | Demographic disparity = 0.03\n",
      " \n",
      "Avg Training Stats after 276 global rounds:\n",
      "Training loss: -173595.11 | Validation accuracy: 54.42% | Validation Demographic disparity: 0.0036\n",
      "\n",
      " | Global Round : 277 | constraint :  Cov(z, d) < c\n",
      "\n"
     ]
    },
    {
     "name": "stderr",
     "output_type": "stream",
     "text": [
      " 56%|█████▌    | 278/500 [00:30<00:24,  9.24it/s]"
     ]
    },
    {
     "name": "stdout",
     "output_type": "stream",
     "text": [
      "Client 1: accuracy loss: 3.83 | fairness loss 10002731.75 | Demographic disparity = 0.01\n",
      "Client 2: accuracy loss: 2.59 | fairness loss 13918688.95 | Demographic disparity = 0.02\n",
      "Client 3: accuracy loss: 3.42 | fairness loss 11355077.39 | Demographic disparity = 0.03\n",
      " \n",
      "Avg Training Stats after 277 global rounds:\n",
      "Training loss: -173997.70 | Validation accuracy: 54.75% | Validation Demographic disparity: 0.0069\n",
      "\n",
      " | Global Round : 278 | constraint :  Cov(z, d) < c\n",
      "\n",
      "Client 1: accuracy loss: 3.84 | fairness loss 10049179.25 | Demographic disparity = 0.01\n",
      "Client 2: accuracy loss: 2.59 | fairness loss 13983725.68 | Demographic disparity = 0.02\n",
      "Client 3: accuracy loss: 3.42 | fairness loss 11408146.67 | Demographic disparity = 0.02\n",
      " \n",
      "Avg Training Stats after 278 global rounds:\n",
      "Training loss: -174400.45 | Validation accuracy: 54.36% | Validation Demographic disparity: 0.0036\n",
      "\n",
      " | Global Round : 279 | constraint :  Cov(z, d) < c\n",
      "\n"
     ]
    },
    {
     "name": "stderr",
     "output_type": "stream",
     "text": [
      " 56%|█████▌    | 280/500 [00:31<00:23,  9.24it/s]"
     ]
    },
    {
     "name": "stdout",
     "output_type": "stream",
     "text": [
      "Client 1: accuracy loss: 3.84 | fairness loss 10095759.23 | Demographic disparity = 0.01\n",
      "Client 2: accuracy loss: 2.59 | fairness loss 14048948.68 | Demographic disparity = 0.02\n",
      "Client 3: accuracy loss: 3.42 | fairness loss 11461367.83 | Demographic disparity = 0.03\n",
      " \n",
      "Avg Training Stats after 279 global rounds:\n",
      "Training loss: -174803.39 | Validation accuracy: 54.75% | Validation Demographic disparity: 0.0069\n",
      "\n",
      " | Global Round : 280 | constraint :  Cov(z, d) < c\n",
      "\n",
      "Client 1: accuracy loss: 3.84 | fairness loss 10142472.69 | Demographic disparity = 0.01\n",
      "Client 2: accuracy loss: 2.59 | fairness loss 14114359.23 | Demographic disparity = 0.02\n",
      "Client 3: accuracy loss: 3.42 | fairness loss 11514743.67 | Demographic disparity = 0.03\n",
      " \n",
      "Avg Training Stats after 280 global rounds:\n",
      "Training loss: -175206.50 | Validation accuracy: 54.75% | Validation Demographic disparity: 0.0069\n",
      "\n",
      " | Global Round : 281 | constraint :  Cov(z, d) < c\n",
      "\n"
     ]
    },
    {
     "name": "stderr",
     "output_type": "stream",
     "text": [
      " 56%|█████▋    | 282/500 [00:31<00:24,  9.07it/s]"
     ]
    },
    {
     "name": "stdout",
     "output_type": "stream",
     "text": [
      "Client 1: accuracy loss: 3.84 | fairness loss 10189320.56 | Demographic disparity = 0.01\n",
      "Client 2: accuracy loss: 2.59 | fairness loss 14179960.09 | Demographic disparity = 0.02\n",
      "Client 3: accuracy loss: 3.42 | fairness loss 11568273.22 | Demographic disparity = 0.02\n",
      " \n",
      "Avg Training Stats after 281 global rounds:\n",
      "Training loss: -175609.79 | Validation accuracy: 54.36% | Validation Demographic disparity: 0.0036\n",
      "\n",
      " | Global Round : 282 | constraint :  Cov(z, d) < c\n",
      "\n",
      "Client 1: accuracy loss: 3.84 | fairness loss 10236303.76 | Demographic disparity = 0.01\n",
      "Client 2: accuracy loss: 2.59 | fairness loss 14245750.59 | Demographic disparity = 0.02\n",
      "Client 3: accuracy loss: 3.42 | fairness loss 11621957.67 | Demographic disparity = 0.03\n",
      " \n",
      "Avg Training Stats after 282 global rounds:\n",
      "Training loss: -176013.25 | Validation accuracy: 54.75% | Validation Demographic disparity: 0.0069\n",
      "\n",
      " | Global Round : 283 | constraint :  Cov(z, d) < c\n",
      "\n"
     ]
    },
    {
     "name": "stderr",
     "output_type": "stream",
     "text": [
      " 57%|█████▋    | 284/500 [00:31<00:23,  9.15it/s]"
     ]
    },
    {
     "name": "stdout",
     "output_type": "stream",
     "text": [
      "Client 1: accuracy loss: 3.84 | fairness loss 10283421.99 | Demographic disparity = 0.01\n",
      "Client 2: accuracy loss: 2.59 | fairness loss 14311731.73 | Demographic disparity = 0.03\n",
      "Client 3: accuracy loss: 3.42 | fairness loss 11675798.39 | Demographic disparity = 0.02\n",
      " \n",
      "Avg Training Stats after 283 global rounds:\n",
      "Training loss: -176416.89 | Validation accuracy: 54.03% | Validation Demographic disparity: 0.0002\n",
      "\n",
      " | Global Round : 284 | constraint :  Cov(z, d) < c\n",
      "\n",
      "Client 1: accuracy loss: 3.84 | fairness loss 10330672.40 | Demographic disparity = 0.01\n",
      "Client 2: accuracy loss: 2.59 | fairness loss 14377898.82 | Demographic disparity = 0.03\n",
      "Client 3: accuracy loss: 3.42 | fairness loss 11729790.83 | Demographic disparity = 0.01\n",
      " \n",
      "Avg Training Stats after 284 global rounds:\n",
      "Training loss: -176820.71 | Validation accuracy: 53.64% | Validation Demographic disparity: 0.0031\n",
      "\n",
      " | Global Round : 285 | constraint :  Cov(z, d) < c\n",
      "\n"
     ]
    },
    {
     "name": "stderr",
     "output_type": "stream",
     "text": [
      " 57%|█████▋    | 286/500 [00:31<00:23,  9.18it/s]"
     ]
    },
    {
     "name": "stdout",
     "output_type": "stream",
     "text": [
      "Client 1: accuracy loss: 3.84 | fairness loss 10378058.56 | Demographic disparity = 0.02\n",
      "Client 2: accuracy loss: 2.59 | fairness loss 14444256.82 | Demographic disparity = 0.04\n",
      "Client 3: accuracy loss: 3.42 | fairness loss 11783938.67 | Demographic disparity = 0.01\n",
      " \n",
      "Avg Training Stats after 285 global rounds:\n",
      "Training loss: -177224.70 | Validation accuracy: 53.02% | Validation Demographic disparity: 0.0119\n",
      "\n",
      " | Global Round : 286 | constraint :  Cov(z, d) < c\n",
      "\n",
      "Client 1: accuracy loss: 3.84 | fairness loss 10425578.89 | Demographic disparity = 0.01\n",
      "Client 2: accuracy loss: 2.59 | fairness loss 14510803.64 | Demographic disparity = 0.04\n",
      "Client 3: accuracy loss: 3.42 | fairness loss 11838241.67 | Demographic disparity = 0.01\n",
      " \n",
      "Avg Training Stats after 286 global rounds:\n",
      "Training loss: -177628.87 | Validation accuracy: 53.31% | Validation Demographic disparity: 0.0085\n",
      "\n",
      " | Global Round : 287 | constraint :  Cov(z, d) < c\n",
      "\n"
     ]
    },
    {
     "name": "stderr",
     "output_type": "stream",
     "text": [
      " 58%|█████▊    | 288/500 [00:31<00:22,  9.24it/s]"
     ]
    },
    {
     "name": "stdout",
     "output_type": "stream",
     "text": [
      "Client 1: accuracy loss: 3.84 | fairness loss 10473236.07 | Demographic disparity = 0.01\n",
      "Client 2: accuracy loss: 2.59 | fairness loss 14577543.45 | Demographic disparity = 0.04\n",
      "Client 3: accuracy loss: 3.42 | fairness loss 11892700.89 | Demographic disparity = 0.01\n",
      " \n",
      "Avg Training Stats after 287 global rounds:\n",
      "Training loss: -178033.21 | Validation accuracy: 53.31% | Validation Demographic disparity: 0.0085\n",
      "\n",
      " | Global Round : 288 | constraint :  Cov(z, d) < c\n",
      "\n",
      "Client 1: accuracy loss: 3.84 | fairness loss 10521025.98 | Demographic disparity = 0.02\n",
      "Client 2: accuracy loss: 2.59 | fairness loss 14644471.05 | Demographic disparity = 0.04\n",
      "Client 3: accuracy loss: 3.42 | fairness loss 11947314.06 | Demographic disparity = 0.01\n",
      " \n",
      "Avg Training Stats after 288 global rounds:\n",
      "Training loss: -178437.73 | Validation accuracy: 53.02% | Validation Demographic disparity: 0.0119\n",
      "\n",
      " | Global Round : 289 | constraint :  Cov(z, d) < c\n",
      "\n"
     ]
    },
    {
     "name": "stderr",
     "output_type": "stream",
     "text": [
      " 58%|█████▊    | 290/500 [00:32<00:22,  9.24it/s]"
     ]
    },
    {
     "name": "stdout",
     "output_type": "stream",
     "text": [
      "Client 1: accuracy loss: 3.85 | fairness loss 10568951.66 | Demographic disparity = 0.01\n",
      "Client 2: accuracy loss: 2.60 | fairness loss 14711587.95 | Demographic disparity = 0.04\n",
      "Client 3: accuracy loss: 3.42 | fairness loss 12002081.94 | Demographic disparity = 0.00\n",
      " \n",
      "Avg Training Stats after 289 global rounds:\n",
      "Training loss: -178842.43 | Validation accuracy: 52.92% | Validation Demographic disparity: 0.0119\n",
      "\n",
      " | Global Round : 290 | constraint :  Cov(z, d) < c\n",
      "\n",
      "Client 1: accuracy loss: 3.85 | fairness loss 10617013.52 | Demographic disparity = 0.01\n",
      "Client 2: accuracy loss: 2.60 | fairness loss 14778897.00 | Demographic disparity = 0.04\n",
      "Client 3: accuracy loss: 3.42 | fairness loss 12057006.83 | Demographic disparity = 0.01\n",
      " \n",
      "Avg Training Stats after 290 global rounds:\n",
      "Training loss: -179247.30 | Validation accuracy: 53.31% | Validation Demographic disparity: 0.0085\n",
      "\n",
      " | Global Round : 291 | constraint :  Cov(z, d) < c\n",
      "\n"
     ]
    },
    {
     "name": "stderr",
     "output_type": "stream",
     "text": [
      " 58%|█████▊    | 292/500 [00:32<00:22,  9.20it/s]"
     ]
    },
    {
     "name": "stdout",
     "output_type": "stream",
     "text": [
      "Client 1: accuracy loss: 3.85 | fairness loss 10665210.82 | Demographic disparity = 0.02\n",
      "Client 2: accuracy loss: 2.60 | fairness loss 14846397.95 | Demographic disparity = 0.04\n",
      "Client 3: accuracy loss: 3.42 | fairness loss 12112087.72 | Demographic disparity = 0.01\n",
      " \n",
      "Avg Training Stats after 291 global rounds:\n",
      "Training loss: -179652.34 | Validation accuracy: 53.02% | Validation Demographic disparity: 0.0119\n",
      "\n",
      " | Global Round : 292 | constraint :  Cov(z, d) < c\n",
      "\n",
      "Client 1: accuracy loss: 3.85 | fairness loss 10713544.75 | Demographic disparity = 0.01\n",
      "Client 2: accuracy loss: 2.60 | fairness loss 14914091.59 | Demographic disparity = 0.04\n",
      "Client 3: accuracy loss: 3.42 | fairness loss 12167325.78 | Demographic disparity = 0.01\n",
      " \n",
      "Avg Training Stats after 292 global rounds:\n",
      "Training loss: -180057.56 | Validation accuracy: 53.31% | Validation Demographic disparity: 0.0085\n",
      "\n",
      " | Global Round : 293 | constraint :  Cov(z, d) < c\n",
      "\n"
     ]
    },
    {
     "name": "stderr",
     "output_type": "stream",
     "text": [
      " 59%|█████▉    | 294/500 [00:32<00:22,  9.17it/s]"
     ]
    },
    {
     "name": "stdout",
     "output_type": "stream",
     "text": [
      "Client 1: accuracy loss: 3.85 | fairness loss 10762014.68 | Demographic disparity = 0.02\n",
      "Client 2: accuracy loss: 2.60 | fairness loss 14981975.41 | Demographic disparity = 0.04\n",
      "Client 3: accuracy loss: 3.43 | fairness loss 12222718.72 | Demographic disparity = 0.00\n",
      " \n",
      "Avg Training Stats after 293 global rounds:\n",
      "Training loss: -180462.96 | Validation accuracy: 53.41% | Validation Demographic disparity: 0.0173\n",
      "\n",
      " | Global Round : 294 | constraint :  Cov(z, d) < c\n",
      "\n",
      "Client 1: accuracy loss: 3.85 | fairness loss 10810620.93 | Demographic disparity = 0.03\n",
      "Client 2: accuracy loss: 2.60 | fairness loss 15050051.64 | Demographic disparity = 0.04\n",
      "Client 3: accuracy loss: 3.43 | fairness loss 12278270.78 | Demographic disparity = 0.00\n",
      " \n",
      "Avg Training Stats after 294 global rounds:\n",
      "Training loss: -180868.53 | Validation accuracy: 53.12% | Validation Demographic disparity: 0.0206\n",
      "\n",
      " | Global Round : 295 | constraint :  Cov(z, d) < c\n",
      "\n"
     ]
    },
    {
     "name": "stderr",
     "output_type": "stream",
     "text": [
      " 59%|█████▉    | 296/500 [00:32<00:22,  9.21it/s]"
     ]
    },
    {
     "name": "stdout",
     "output_type": "stream",
     "text": [
      "Client 1: accuracy loss: 3.85 | fairness loss 10859364.68 | Demographic disparity = 0.02\n",
      "Client 2: accuracy loss: 2.60 | fairness loss 15118320.68 | Demographic disparity = 0.04\n",
      "Client 3: accuracy loss: 3.43 | fairness loss 12333978.56 | Demographic disparity = 0.00\n",
      " \n",
      "Avg Training Stats after 295 global rounds:\n",
      "Training loss: -181274.28 | Validation accuracy: 53.41% | Validation Demographic disparity: 0.0173\n",
      "\n",
      " | Global Round : 296 | constraint :  Cov(z, d) < c\n",
      "\n",
      "Client 1: accuracy loss: 3.85 | fairness loss 10908245.39 | Demographic disparity = 0.03\n",
      "Client 2: accuracy loss: 2.60 | fairness loss 15186782.73 | Demographic disparity = 0.05\n",
      "Client 3: accuracy loss: 3.43 | fairness loss 12389844.89 | Demographic disparity = 0.00\n",
      " \n",
      "Avg Training Stats after 296 global rounds:\n",
      "Training loss: -181680.20 | Validation accuracy: 52.79% | Validation Demographic disparity: 0.0240\n",
      "\n",
      " | Global Round : 297 | constraint :  Cov(z, d) < c\n",
      "\n"
     ]
    },
    {
     "name": "stderr",
     "output_type": "stream",
     "text": [
      " 60%|█████▉    | 298/500 [00:33<00:21,  9.19it/s]"
     ]
    },
    {
     "name": "stdout",
     "output_type": "stream",
     "text": [
      "Client 1: accuracy loss: 3.85 | fairness loss 10957262.50 | Demographic disparity = 0.02\n",
      "Client 2: accuracy loss: 2.60 | fairness loss 15255436.77 | Demographic disparity = 0.05\n",
      "Client 3: accuracy loss: 3.43 | fairness loss 12445867.28 | Demographic disparity = 0.00\n",
      " \n",
      "Avg Training Stats after 297 global rounds:\n",
      "Training loss: -182086.29 | Validation accuracy: 53.09% | Validation Demographic disparity: 0.0206\n",
      "\n",
      " | Global Round : 298 | constraint :  Cov(z, d) < c\n",
      "\n",
      "Client 1: accuracy loss: 3.85 | fairness loss 11006416.41 | Demographic disparity = 0.03\n",
      "Client 2: accuracy loss: 2.60 | fairness loss 15324283.91 | Demographic disparity = 0.06\n",
      "Client 3: accuracy loss: 3.43 | fairness loss 12502047.11 | Demographic disparity = 0.00\n",
      " \n",
      "Avg Training Stats after 298 global rounds:\n",
      "Training loss: -182492.56 | Validation accuracy: 52.47% | Validation Demographic disparity: 0.0273\n",
      "\n",
      " | Global Round : 299 | constraint :  Cov(z, d) < c\n",
      "\n"
     ]
    },
    {
     "name": "stderr",
     "output_type": "stream",
     "text": [
      " 60%|██████    | 300/500 [00:33<00:21,  9.22it/s]"
     ]
    },
    {
     "name": "stdout",
     "output_type": "stream",
     "text": [
      "Client 1: accuracy loss: 3.85 | fairness loss 11055706.39 | Demographic disparity = 0.02\n",
      "Client 2: accuracy loss: 2.60 | fairness loss 15393322.77 | Demographic disparity = 0.06\n",
      "Client 3: accuracy loss: 3.43 | fairness loss 12558383.56 | Demographic disparity = 0.00\n",
      " \n",
      "Avg Training Stats after 299 global rounds:\n",
      "Training loss: -182899.01 | Validation accuracy: 52.76% | Validation Demographic disparity: 0.0240\n",
      "\n",
      " | Global Round : 300 | constraint :  Cov(z, d) < c\n",
      "\n",
      "Client 1: accuracy loss: 3.85 | fairness loss 11105135.30 | Demographic disparity = 0.04\n",
      "Client 2: accuracy loss: 2.60 | fairness loss 15462557.00 | Demographic disparity = 0.06\n",
      "Client 3: accuracy loss: 3.43 | fairness loss 12614879.61 | Demographic disparity = 0.00\n",
      " \n",
      "Avg Training Stats after 300 global rounds:\n",
      "Training loss: -183305.63 | Validation accuracy: 52.17% | Validation Demographic disparity: 0.0306\n",
      "\n",
      " | Global Round : 301 | constraint :  Cov(z, d) < c\n",
      "\n"
     ]
    },
    {
     "name": "stderr",
     "output_type": "stream",
     "text": [
      " 60%|██████    | 302/500 [00:33<00:21,  9.15it/s]"
     ]
    },
    {
     "name": "stdout",
     "output_type": "stream",
     "text": [
      "Client 1: accuracy loss: 3.86 | fairness loss 11154702.55 | Demographic disparity = 0.03\n",
      "Client 2: accuracy loss: 2.60 | fairness loss 15531985.95 | Demographic disparity = 0.06\n",
      "Client 3: accuracy loss: 3.43 | fairness loss 12671534.44 | Demographic disparity = 0.00\n",
      " \n",
      "Avg Training Stats after 301 global rounds:\n",
      "Training loss: -183712.42 | Validation accuracy: 52.47% | Validation Demographic disparity: 0.0273\n",
      "\n",
      " | Global Round : 302 | constraint :  Cov(z, d) < c\n",
      "\n",
      "Client 1: accuracy loss: 3.86 | fairness loss 11204407.05 | Demographic disparity = 0.04\n",
      "Client 2: accuracy loss: 2.60 | fairness loss 15601607.91 | Demographic disparity = 0.05\n",
      "Client 3: accuracy loss: 3.43 | fairness loss 12728348.17 | Demographic disparity = 0.00\n",
      " \n",
      "Avg Training Stats after 302 global rounds:\n",
      "Training loss: -184119.39 | Validation accuracy: 52.50% | Validation Demographic disparity: 0.0273\n",
      "\n",
      " | Global Round : 303 | constraint :  Cov(z, d) < c\n",
      "\n"
     ]
    },
    {
     "name": "stderr",
     "output_type": "stream",
     "text": [
      " 61%|██████    | 304/500 [00:33<00:21,  9.23it/s]"
     ]
    },
    {
     "name": "stdout",
     "output_type": "stream",
     "text": [
      "Client 1: accuracy loss: 3.86 | fairness loss 11254248.43 | Demographic disparity = 0.03\n",
      "Client 2: accuracy loss: 2.60 | fairness loss 15671424.18 | Demographic disparity = 0.05\n",
      "Client 3: accuracy loss: 3.43 | fairness loss 12785318.44 | Demographic disparity = 0.00\n",
      " \n",
      "Avg Training Stats after 303 global rounds:\n",
      "Training loss: -184526.54 | Validation accuracy: 52.79% | Validation Demographic disparity: 0.0240\n",
      "\n",
      " | Global Round : 304 | constraint :  Cov(z, d) < c\n",
      "\n",
      "Client 1: accuracy loss: 3.86 | fairness loss 11304229.09 | Demographic disparity = 0.05\n",
      "Client 2: accuracy loss: 2.60 | fairness loss 15741434.86 | Demographic disparity = 0.05\n",
      "Client 3: accuracy loss: 3.43 | fairness loss 12842448.67 | Demographic disparity = 0.00\n",
      " \n",
      "Avg Training Stats after 304 global rounds:\n",
      "Training loss: -184933.85 | Validation accuracy: 52.21% | Validation Demographic disparity: 0.0306\n",
      "\n",
      " | Global Round : 305 | constraint :  Cov(z, d) < c\n",
      "\n"
     ]
    },
    {
     "name": "stderr",
     "output_type": "stream",
     "text": [
      " 61%|██████    | 306/500 [00:33<00:20,  9.26it/s]"
     ]
    },
    {
     "name": "stdout",
     "output_type": "stream",
     "text": [
      "Client 1: accuracy loss: 3.86 | fairness loss 11354347.84 | Demographic disparity = 0.04\n",
      "Client 2: accuracy loss: 2.60 | fairness loss 15811640.95 | Demographic disparity = 0.05\n",
      "Client 3: accuracy loss: 3.43 | fairness loss 12899738.06 | Demographic disparity = 0.00\n",
      " \n",
      "Avg Training Stats after 305 global rounds:\n",
      "Training loss: -185341.34 | Validation accuracy: 52.50% | Validation Demographic disparity: 0.0273\n",
      "\n",
      " | Global Round : 306 | constraint :  Cov(z, d) < c\n",
      "\n",
      "Client 1: accuracy loss: 3.86 | fairness loss 11404604.86 | Demographic disparity = 0.04\n",
      "Client 2: accuracy loss: 2.60 | fairness loss 15882040.95 | Demographic disparity = 0.05\n",
      "Client 3: accuracy loss: 3.43 | fairness loss 12957186.67 | Demographic disparity = 0.00\n",
      " \n",
      "Avg Training Stats after 306 global rounds:\n",
      "Training loss: -185749.01 | Validation accuracy: 52.50% | Validation Demographic disparity: 0.0273\n",
      "\n",
      " | Global Round : 307 | constraint :  Cov(z, d) < c\n",
      "\n"
     ]
    },
    {
     "name": "stderr",
     "output_type": "stream",
     "text": [
      " 62%|██████▏   | 308/500 [00:34<00:20,  9.15it/s]"
     ]
    },
    {
     "name": "stdout",
     "output_type": "stream",
     "text": [
      "Client 1: accuracy loss: 3.86 | fairness loss 11455003.80 | Demographic disparity = 0.04\n",
      "Client 2: accuracy loss: 2.60 | fairness loss 15952639.05 | Demographic disparity = 0.05\n",
      "Client 3: accuracy loss: 3.43 | fairness loss 13014795.56 | Demographic disparity = 0.00\n",
      " \n",
      "Avg Training Stats after 307 global rounds:\n",
      "Training loss: -186156.85 | Validation accuracy: 52.50% | Validation Demographic disparity: 0.0273\n",
      "\n",
      " | Global Round : 308 | constraint :  Cov(z, d) < c\n",
      "\n",
      "Client 1: accuracy loss: 3.86 | fairness loss 11505538.98 | Demographic disparity = 0.03\n",
      "Client 2: accuracy loss: 2.60 | fairness loss 16023431.95 | Demographic disparity = 0.04\n",
      "Client 3: accuracy loss: 3.43 | fairness loss 13072564.39 | Demographic disparity = 0.00\n",
      " \n",
      "Avg Training Stats after 308 global rounds:\n",
      "Training loss: -186564.86 | Validation accuracy: 53.12% | Validation Demographic disparity: 0.0206\n",
      "\n",
      " | Global Round : 309 | constraint :  Cov(z, d) < c\n",
      "\n"
     ]
    },
    {
     "name": "stderr",
     "output_type": "stream",
     "text": [
      " 62%|██████▏   | 310/500 [00:34<00:21,  8.76it/s]"
     ]
    },
    {
     "name": "stdout",
     "output_type": "stream",
     "text": [
      "Client 1: accuracy loss: 3.86 | fairness loss 11556215.48 | Demographic disparity = 0.04\n",
      "Client 2: accuracy loss: 2.60 | fairness loss 16094422.86 | Demographic disparity = 0.04\n",
      "Client 3: accuracy loss: 3.43 | fairness loss 13130493.89 | Demographic disparity = 0.00\n",
      " \n",
      "Avg Training Stats after 309 global rounds:\n",
      "Training loss: -186973.05 | Validation accuracy: 52.83% | Validation Demographic disparity: 0.0240\n",
      "\n",
      " | Global Round : 310 | constraint :  Cov(z, d) < c\n",
      "\n",
      "Client 1: accuracy loss: 3.86 | fairness loss 11607030.41 | Demographic disparity = 0.04\n",
      "Client 2: accuracy loss: 2.60 | fairness loss 16165608.50 | Demographic disparity = 0.05\n",
      "Client 3: accuracy loss: 3.44 | fairness loss 13188584.06 | Demographic disparity = 0.00\n",
      " \n",
      "Avg Training Stats after 310 global rounds:\n",
      "Training loss: -187381.41 | Validation accuracy: 52.50% | Validation Demographic disparity: 0.0273\n",
      "\n",
      " | Global Round : 311 | constraint :  Cov(z, d) < c\n",
      "\n"
     ]
    },
    {
     "name": "stderr",
     "output_type": "stream",
     "text": [
      " 62%|██████▏   | 312/500 [00:34<00:21,  8.93it/s]"
     ]
    },
    {
     "name": "stdout",
     "output_type": "stream",
     "text": [
      "Client 1: accuracy loss: 3.86 | fairness loss 11657984.75 | Demographic disparity = 0.04\n",
      "Client 2: accuracy loss: 2.60 | fairness loss 16236992.36 | Demographic disparity = 0.05\n",
      "Client 3: accuracy loss: 3.44 | fairness loss 13246833.89 | Demographic disparity = 0.00\n",
      " \n",
      "Avg Training Stats after 311 global rounds:\n",
      "Training loss: -187789.95 | Validation accuracy: 52.50% | Validation Demographic disparity: 0.0273\n",
      "\n",
      " | Global Round : 312 | constraint :  Cov(z, d) < c\n",
      "\n",
      "Client 1: accuracy loss: 3.87 | fairness loss 11709079.73 | Demographic disparity = 0.05\n",
      "Client 2: accuracy loss: 2.60 | fairness loss 16308571.41 | Demographic disparity = 0.05\n",
      "Client 3: accuracy loss: 3.44 | fairness loss 13305244.56 | Demographic disparity = 0.02\n",
      " \n",
      "Avg Training Stats after 312 global rounds:\n",
      "Training loss: -188198.65 | Validation accuracy: 51.82% | Validation Demographic disparity: 0.0339\n",
      "\n",
      " | Global Round : 313 | constraint :  Cov(z, d) < c\n",
      "\n"
     ]
    },
    {
     "name": "stderr",
     "output_type": "stream",
     "text": [
      " 63%|██████▎   | 314/500 [00:34<00:20,  9.05it/s]"
     ]
    },
    {
     "name": "stdout",
     "output_type": "stream",
     "text": [
      "Client 1: accuracy loss: 3.87 | fairness loss 11760313.16 | Demographic disparity = 0.05\n",
      "Client 2: accuracy loss: 2.60 | fairness loss 16380347.32 | Demographic disparity = 0.05\n",
      "Client 3: accuracy loss: 3.44 | fairness loss 13363814.89 | Demographic disparity = 0.02\n",
      " \n",
      "Avg Training Stats after 313 global rounds:\n",
      "Training loss: -188607.54 | Validation accuracy: 51.82% | Validation Demographic disparity: 0.0339\n",
      "\n",
      " | Global Round : 314 | constraint :  Cov(z, d) < c\n",
      "\n",
      "Client 1: accuracy loss: 3.87 | fairness loss 11811687.43 | Demographic disparity = 0.05\n",
      "Client 2: accuracy loss: 2.60 | fairness loss 16452320.36 | Demographic disparity = 0.07\n",
      "Client 3: accuracy loss: 3.44 | fairness loss 13422547.56 | Demographic disparity = 0.03\n",
      " \n",
      "Avg Training Stats after 314 global rounds:\n",
      "Training loss: -189016.59 | Validation accuracy: 50.77% | Validation Demographic disparity: 0.0439\n",
      "\n",
      " | Global Round : 315 | constraint :  Cov(z, d) < c\n",
      "\n"
     ]
    },
    {
     "name": "stderr",
     "output_type": "stream",
     "text": [
      " 63%|██████▎   | 316/500 [00:35<00:20,  9.16it/s]"
     ]
    },
    {
     "name": "stdout",
     "output_type": "stream",
     "text": [
      "Client 1: accuracy loss: 3.87 | fairness loss 11863201.23 | Demographic disparity = 0.05\n",
      "Client 2: accuracy loss: 2.61 | fairness loss 16524489.95 | Demographic disparity = 0.07\n",
      "Client 3: accuracy loss: 3.44 | fairness loss 13481440.06 | Demographic disparity = 0.03\n",
      " \n",
      "Avg Training Stats after 315 global rounds:\n",
      "Training loss: -189425.82 | Validation accuracy: 50.77% | Validation Demographic disparity: 0.0439\n",
      "\n",
      " | Global Round : 316 | constraint :  Cov(z, d) < c\n",
      "\n",
      "Client 1: accuracy loss: 3.87 | fairness loss 11914856.89 | Demographic disparity = 0.04\n",
      "Client 2: accuracy loss: 2.61 | fairness loss 16596858.73 | Demographic disparity = 0.07\n",
      "Client 3: accuracy loss: 3.44 | fairness loss 13540494.39 | Demographic disparity = 0.03\n",
      " \n",
      "Avg Training Stats after 316 global rounds:\n",
      "Training loss: -189835.22 | Validation accuracy: 51.06% | Validation Demographic disparity: 0.0406\n",
      "\n",
      " | Global Round : 317 | constraint :  Cov(z, d) < c\n",
      "\n"
     ]
    },
    {
     "name": "stderr",
     "output_type": "stream",
     "text": [
      " 64%|██████▎   | 318/500 [00:35<00:19,  9.14it/s]"
     ]
    },
    {
     "name": "stdout",
     "output_type": "stream",
     "text": [
      "Client 1: accuracy loss: 3.87 | fairness loss 11966653.59 | Demographic disparity = 0.04\n",
      "Client 2: accuracy loss: 2.61 | fairness loss 16669426.91 | Demographic disparity = 0.07\n",
      "Client 3: accuracy loss: 3.44 | fairness loss 13599712.78 | Demographic disparity = 0.03\n",
      " \n",
      "Avg Training Stats after 317 global rounds:\n",
      "Training loss: -190244.80 | Validation accuracy: 51.06% | Validation Demographic disparity: 0.0406\n",
      "\n",
      " | Global Round : 318 | constraint :  Cov(z, d) < c\n",
      "\n",
      "Client 1: accuracy loss: 3.87 | fairness loss 12018590.93 | Demographic disparity = 0.04\n",
      "Client 2: accuracy loss: 2.61 | fairness loss 16742193.73 | Demographic disparity = 0.07\n",
      "Client 3: accuracy loss: 3.44 | fairness loss 13659092.17 | Demographic disparity = 0.03\n",
      " \n",
      "Avg Training Stats after 318 global rounds:\n",
      "Training loss: -190654.55 | Validation accuracy: 51.06% | Validation Demographic disparity: 0.0406\n",
      "\n",
      " | Global Round : 319 | constraint :  Cov(z, d) < c\n",
      "\n"
     ]
    },
    {
     "name": "stderr",
     "output_type": "stream",
     "text": [
      " 64%|██████▍   | 320/500 [00:35<00:19,  9.06it/s]"
     ]
    },
    {
     "name": "stdout",
     "output_type": "stream",
     "text": [
      "Client 1: accuracy loss: 3.87 | fairness loss 12070670.68 | Demographic disparity = 0.05\n",
      "Client 2: accuracy loss: 2.61 | fairness loss 16815160.09 | Demographic disparity = 0.07\n",
      "Client 3: accuracy loss: 3.44 | fairness loss 13718634.94 | Demographic disparity = 0.03\n",
      " \n",
      "Avg Training Stats after 319 global rounds:\n",
      "Training loss: -191064.47 | Validation accuracy: 50.77% | Validation Demographic disparity: 0.0439\n",
      "\n",
      " | Global Round : 320 | constraint :  Cov(z, d) < c\n",
      "\n",
      "Client 1: accuracy loss: 3.87 | fairness loss 12122891.00 | Demographic disparity = 0.04\n",
      "Client 2: accuracy loss: 2.61 | fairness loss 16888325.18 | Demographic disparity = 0.07\n",
      "Client 3: accuracy loss: 3.44 | fairness loss 13778340.50 | Demographic disparity = 0.03\n",
      " \n",
      "Avg Training Stats after 320 global rounds:\n",
      "Training loss: -191474.57 | Validation accuracy: 51.06% | Validation Demographic disparity: 0.0406\n",
      "\n",
      " | Global Round : 321 | constraint :  Cov(z, d) < c\n",
      "\n"
     ]
    },
    {
     "name": "stderr",
     "output_type": "stream",
     "text": [
      " 64%|██████▍   | 322/500 [00:35<00:19,  9.18it/s]"
     ]
    },
    {
     "name": "stdout",
     "output_type": "stream",
     "text": [
      "Client 1: accuracy loss: 3.87 | fairness loss 12175255.11 | Demographic disparity = 0.05\n",
      "Client 2: accuracy loss: 2.61 | fairness loss 16961690.64 | Demographic disparity = 0.07\n",
      "Client 3: accuracy loss: 3.44 | fairness loss 13838208.61 | Demographic disparity = 0.03\n",
      " \n",
      "Avg Training Stats after 321 global rounds:\n",
      "Training loss: -191884.83 | Validation accuracy: 50.77% | Validation Demographic disparity: 0.0439\n",
      "\n",
      " | Global Round : 322 | constraint :  Cov(z, d) < c\n",
      "\n",
      "Client 1: accuracy loss: 3.87 | fairness loss 12227758.70 | Demographic disparity = 0.06\n",
      "Client 2: accuracy loss: 2.61 | fairness loss 17035254.91 | Demographic disparity = 0.07\n",
      "Client 3: accuracy loss: 3.44 | fairness loss 13898239.67 | Demographic disparity = 0.03\n",
      " \n",
      "Avg Training Stats after 322 global rounds:\n",
      "Training loss: -192295.28 | Validation accuracy: 50.48% | Validation Demographic disparity: 0.0472\n",
      "\n",
      " | Global Round : 323 | constraint :  Cov(z, d) < c\n",
      "\n"
     ]
    },
    {
     "name": "stderr",
     "output_type": "stream",
     "text": [
      " 65%|██████▍   | 324/500 [00:35<00:20,  8.57it/s]"
     ]
    },
    {
     "name": "stdout",
     "output_type": "stream",
     "text": [
      "Client 1: accuracy loss: 3.87 | fairness loss 12280405.18 | Demographic disparity = 0.06\n",
      "Client 2: accuracy loss: 2.61 | fairness loss 17109018.36 | Demographic disparity = 0.07\n",
      "Client 3: accuracy loss: 3.44 | fairness loss 13958433.22 | Demographic disparity = 0.03\n",
      " \n",
      "Avg Training Stats after 323 global rounds:\n",
      "Training loss: -192705.89 | Validation accuracy: 50.48% | Validation Demographic disparity: 0.0472\n",
      "\n",
      " | Global Round : 324 | constraint :  Cov(z, d) < c\n",
      "\n",
      "Client 1: accuracy loss: 3.88 | fairness loss 12333194.82 | Demographic disparity = 0.06\n",
      "Client 2: accuracy loss: 2.61 | fairness loss 17182983.27 | Demographic disparity = 0.07\n",
      "Client 3: accuracy loss: 3.44 | fairness loss 14018791.61 | Demographic disparity = 0.03\n",
      " \n",
      "Avg Training Stats after 324 global rounds:\n",
      "Training loss: -193116.68 | Validation accuracy: 50.48% | Validation Demographic disparity: 0.0472\n",
      "\n",
      " | Global Round : 325 | constraint :  Cov(z, d) < c\n",
      "\n"
     ]
    },
    {
     "name": "stderr",
     "output_type": "stream",
     "text": [
      "\r",
      " 65%|██████▌   | 325/500 [00:36<00:25,  6.81it/s]"
     ]
    },
    {
     "name": "stdout",
     "output_type": "stream",
     "text": [
      "Client 1: accuracy loss: 3.88 | fairness loss 12386124.20 | Demographic disparity = 0.06\n",
      "Client 2: accuracy loss: 2.61 | fairness loss 17257148.73 | Demographic disparity = 0.07\n",
      "Client 3: accuracy loss: 3.44 | fairness loss 14079311.72 | Demographic disparity = 0.03\n",
      " \n",
      "Avg Training Stats after 325 global rounds:\n",
      "Training loss: -193527.64 | Validation accuracy: 50.48% | Validation Demographic disparity: 0.0472\n",
      "\n",
      " | Global Round : 326 | constraint :  Cov(z, d) < c\n",
      "\n"
     ]
    },
    {
     "name": "stderr",
     "output_type": "stream",
     "text": [
      "\r",
      " 65%|██████▌   | 326/500 [00:36<00:34,  5.00it/s]"
     ]
    },
    {
     "name": "stdout",
     "output_type": "stream",
     "text": [
      "Client 1: accuracy loss: 3.88 | fairness loss 12439196.25 | Demographic disparity = 0.06\n",
      "Client 2: accuracy loss: 2.61 | fairness loss 17331512.64 | Demographic disparity = 0.09\n",
      "Client 3: accuracy loss: 3.45 | fairness loss 14139996.67 | Demographic disparity = 0.03\n",
      " \n",
      "Avg Training Stats after 326 global rounds:\n",
      "Training loss: -193938.77 | Validation accuracy: 50.15% | Validation Demographic disparity: 0.0505\n",
      "\n",
      " | Global Round : 327 | constraint :  Cov(z, d) < c\n",
      "\n"
     ]
    },
    {
     "name": "stderr",
     "output_type": "stream",
     "text": [
      "\r",
      " 65%|██████▌   | 327/500 [00:36<00:35,  4.87it/s]"
     ]
    },
    {
     "name": "stdout",
     "output_type": "stream",
     "text": [
      "Client 1: accuracy loss: 3.88 | fairness loss 12492412.95 | Demographic disparity = 0.06\n",
      "Client 2: accuracy loss: 2.61 | fairness loss 17406078.00 | Demographic disparity = 0.10\n",
      "Client 3: accuracy loss: 3.45 | fairness loss 14200844.94 | Demographic disparity = 0.03\n",
      " \n",
      "Avg Training Stats after 327 global rounds:\n",
      "Training loss: -194350.08 | Validation accuracy: 49.82% | Validation Demographic disparity: 0.0539\n",
      "\n",
      " | Global Round : 328 | constraint :  Cov(z, d) < c\n",
      "\n"
     ]
    },
    {
     "name": "stderr",
     "output_type": "stream",
     "text": [
      "\r",
      " 66%|██████▌   | 328/500 [00:36<00:38,  4.48it/s]"
     ]
    },
    {
     "name": "stdout",
     "output_type": "stream",
     "text": [
      "Client 1: accuracy loss: 3.88 | fairness loss 12545771.91 | Demographic disparity = 0.07\n",
      "Client 2: accuracy loss: 2.61 | fairness loss 17480846.00 | Demographic disparity = 0.10\n",
      "Client 3: accuracy loss: 3.45 | fairness loss 14261857.94 | Demographic disparity = 0.03\n",
      " \n",
      "Avg Training Stats after 328 global rounds:\n",
      "Training loss: -194761.56 | Validation accuracy: 49.53% | Validation Demographic disparity: 0.0572\n",
      "\n",
      " | Global Round : 329 | constraint :  Cov(z, d) < c\n",
      "\n",
      "Client 1: accuracy loss: 3.88 | fairness loss 12599273.45 | Demographic disparity = 0.07\n"
     ]
    },
    {
     "name": "stderr",
     "output_type": "stream",
     "text": [
      " 66%|██████▌   | 330/500 [00:37<00:34,  4.95it/s]"
     ]
    },
    {
     "name": "stdout",
     "output_type": "stream",
     "text": [
      "Client 2: accuracy loss: 2.61 | fairness loss 17555815.00 | Demographic disparity = 0.10\n",
      "Client 3: accuracy loss: 3.45 | fairness loss 14323036.11 | Demographic disparity = 0.03\n",
      " \n",
      "Avg Training Stats after 329 global rounds:\n",
      "Training loss: -195173.21 | Validation accuracy: 49.53% | Validation Demographic disparity: 0.0572\n",
      "\n",
      " | Global Round : 330 | constraint :  Cov(z, d) < c\n",
      "\n",
      "Client 1: accuracy loss: 3.88 | fairness loss 12652918.64 | Demographic disparity = 0.07\n",
      "Client 2: accuracy loss: 2.61 | fairness loss 17630986.55 | Demographic disparity = 0.10\n",
      "Client 3: accuracy loss: 3.45 | fairness loss 14384378.56 | Demographic disparity = 0.04\n",
      " \n",
      "Avg Training Stats after 330 global rounds:\n",
      "Training loss: -195585.03 | Validation accuracy: 49.14% | Validation Demographic disparity: 0.0605\n",
      "\n",
      " | Global Round : 331 | constraint :  Cov(z, d) < c\n",
      "\n"
     ]
    },
    {
     "name": "stderr",
     "output_type": "stream",
     "text": [
      "\r",
      " 66%|██████▌   | 331/500 [00:37<00:33,  4.98it/s]"
     ]
    },
    {
     "name": "stdout",
     "output_type": "stream",
     "text": [
      "Client 1: accuracy loss: 3.88 | fairness loss 12706708.39 | Demographic disparity = 0.07\n",
      "Client 2: accuracy loss: 2.61 | fairness loss 17706360.64 | Demographic disparity = 0.09\n",
      "Client 3: accuracy loss: 3.45 | fairness loss 14445887.33 | Demographic disparity = 0.04\n",
      " \n",
      "Avg Training Stats after 331 global rounds:\n",
      "Training loss: -195997.03 | Validation accuracy: 49.47% | Validation Demographic disparity: 0.0572\n",
      "\n",
      " | Global Round : 332 | constraint :  Cov(z, d) < c\n",
      "\n",
      "Client 1: accuracy loss: 3.88 | fairness loss 12760641.98 | Demographic disparity = 0.06\n"
     ]
    },
    {
     "name": "stderr",
     "output_type": "stream",
     "text": [
      "\r",
      " 66%|██████▋   | 332/500 [00:37<00:34,  4.87it/s]"
     ]
    },
    {
     "name": "stdout",
     "output_type": "stream",
     "text": [
      "Client 2: accuracy loss: 2.61 | fairness loss 17781936.27 | Demographic disparity = 0.09\n",
      "Client 3: accuracy loss: 3.45 | fairness loss 14507560.39 | Demographic disparity = 0.04\n",
      " \n",
      "Avg Training Stats after 332 global rounds:\n",
      "Training loss: -196409.20 | Validation accuracy: 49.76% | Validation Demographic disparity: 0.0539\n",
      "\n",
      " | Global Round : 333 | constraint :  Cov(z, d) < c\n",
      "\n"
     ]
    },
    {
     "name": "stderr",
     "output_type": "stream",
     "text": [
      "\r",
      " 67%|██████▋   | 333/500 [00:37<00:36,  4.57it/s]"
     ]
    },
    {
     "name": "stdout",
     "output_type": "stream",
     "text": [
      "Client 1: accuracy loss: 3.88 | fairness loss 12814718.07 | Demographic disparity = 0.06\n",
      "Client 2: accuracy loss: 2.61 | fairness loss 17857714.73 | Demographic disparity = 0.10\n",
      "Client 3: accuracy loss: 3.45 | fairness loss 14569398.44 | Demographic disparity = 0.04\n",
      " \n",
      "Avg Training Stats after 333 global rounds:\n",
      "Training loss: -196821.54 | Validation accuracy: 50.09% | Validation Demographic disparity: 0.0593\n",
      "\n",
      " | Global Round : 334 | constraint :  Cov(z, d) < c\n",
      "\n",
      "Client 1: accuracy loss: 3.88 | fairness loss 12868939.02 | Demographic disparity = 0.06\n",
      "Client 2: accuracy loss: 2.61 | fairness loss 17933695.45 | Demographic disparity = 0.10\n"
     ]
    },
    {
     "name": "stderr",
     "output_type": "stream",
     "text": [
      "\r",
      " 67%|██████▋   | 334/500 [00:38<00:34,  4.85it/s]"
     ]
    },
    {
     "name": "stdout",
     "output_type": "stream",
     "text": [
      "Client 3: accuracy loss: 3.45 | fairness loss 14631402.44 | Demographic disparity = 0.04\n",
      " \n",
      "Avg Training Stats after 334 global rounds:\n",
      "Training loss: -197234.05 | Validation accuracy: 50.09% | Validation Demographic disparity: 0.0593\n",
      "\n",
      " | Global Round : 335 | constraint :  Cov(z, d) < c\n",
      "\n",
      "Client 1: accuracy loss: 3.89 | fairness loss 12923305.68 | Demographic disparity = 0.06\n",
      "Client 2: accuracy loss: 2.61 | fairness loss 18009882.73 | Demographic disparity = 0.11\n"
     ]
    },
    {
     "name": "stderr",
     "output_type": "stream",
     "text": [
      "\r",
      " 67%|██████▋   | 335/500 [00:38<00:34,  4.80it/s]"
     ]
    },
    {
     "name": "stdout",
     "output_type": "stream",
     "text": [
      "Client 3: accuracy loss: 3.45 | fairness loss 14693573.89 | Demographic disparity = 0.04\n",
      " \n",
      "Avg Training Stats after 335 global rounds:\n",
      "Training loss: -197646.74 | Validation accuracy: 49.76% | Validation Demographic disparity: 0.0626\n",
      "\n",
      " | Global Round : 336 | constraint :  Cov(z, d) < c\n",
      "\n",
      "Client 1: accuracy loss: 3.89 | fairness loss 12977815.27 | Demographic disparity = 0.06\n"
     ]
    },
    {
     "name": "stderr",
     "output_type": "stream",
     "text": [
      "\r",
      " 67%|██████▋   | 336/500 [00:38<00:35,  4.62it/s]"
     ]
    },
    {
     "name": "stdout",
     "output_type": "stream",
     "text": [
      "Client 2: accuracy loss: 2.61 | fairness loss 18086270.73 | Demographic disparity = 0.11\n",
      "Client 3: accuracy loss: 3.45 | fairness loss 14755911.11 | Demographic disparity = 0.04\n",
      " \n",
      "Avg Training Stats after 336 global rounds:\n",
      "Training loss: -198059.60 | Validation accuracy: 49.76% | Validation Demographic disparity: 0.0626\n",
      "\n",
      " | Global Round : 337 | constraint :  Cov(z, d) < c\n",
      "\n",
      "Client 1: accuracy loss: 3.89 | fairness loss 13032471.50 | Demographic disparity = 0.06\n",
      "Client 2: accuracy loss: 2.61 | fairness loss 18162864.91 | Demographic disparity = 0.11\n"
     ]
    },
    {
     "name": "stderr",
     "output_type": "stream",
     "text": [
      "\r",
      " 67%|██████▋   | 337/500 [00:38<00:34,  4.74it/s]"
     ]
    },
    {
     "name": "stdout",
     "output_type": "stream",
     "text": [
      "Client 3: accuracy loss: 3.45 | fairness loss 14818413.83 | Demographic disparity = 0.04\n",
      " \n",
      "Avg Training Stats after 337 global rounds:\n",
      "Training loss: -198472.63 | Validation accuracy: 49.76% | Validation Demographic disparity: 0.0626\n",
      "\n",
      " | Global Round : 338 | constraint :  Cov(z, d) < c\n",
      "\n",
      "Client 1: accuracy loss: 3.89 | fairness loss 13087270.32 | Demographic disparity = 0.07\n",
      "Client 2: accuracy loss: 2.61 | fairness loss 18239660.73 | Demographic disparity = 0.11\n"
     ]
    },
    {
     "name": "stderr",
     "output_type": "stream",
     "text": [
      "\r",
      " 68%|██████▊   | 338/500 [00:39<00:34,  4.68it/s]"
     ]
    },
    {
     "name": "stdout",
     "output_type": "stream",
     "text": [
      "Client 3: accuracy loss: 3.45 | fairness loss 14881084.00 | Demographic disparity = 0.04\n",
      " \n",
      "Avg Training Stats after 338 global rounds:\n",
      "Training loss: -198885.83 | Validation accuracy: 49.47% | Validation Demographic disparity: 0.0659\n",
      "\n",
      " | Global Round : 339 | constraint :  Cov(z, d) < c\n",
      "\n",
      "Client 1: accuracy loss: 3.89 | fairness loss 13142217.36 | Demographic disparity = 0.07\n"
     ]
    },
    {
     "name": "stderr",
     "output_type": "stream",
     "text": [
      "\r",
      " 68%|██████▊   | 339/500 [00:39<00:36,  4.41it/s]"
     ]
    },
    {
     "name": "stdout",
     "output_type": "stream",
     "text": [
      "Client 2: accuracy loss: 2.61 | fairness loss 18316664.00 | Demographic disparity = 0.11\n",
      "Client 3: accuracy loss: 3.45 | fairness loss 14943922.06 | Demographic disparity = 0.04\n",
      " \n",
      "Avg Training Stats after 339 global rounds:\n",
      "Training loss: -199299.20 | Validation accuracy: 49.47% | Validation Demographic disparity: 0.0659\n",
      "\n",
      " | Global Round : 340 | constraint :  Cov(z, d) < c\n",
      "\n"
     ]
    },
    {
     "name": "stderr",
     "output_type": "stream",
     "text": [
      "\r",
      " 68%|██████▊   | 340/500 [00:39<00:36,  4.33it/s]"
     ]
    },
    {
     "name": "stdout",
     "output_type": "stream",
     "text": [
      "Client 1: accuracy loss: 3.89 | fairness loss 13197308.30 | Demographic disparity = 0.07\n",
      "Client 2: accuracy loss: 2.61 | fairness loss 18393871.00 | Demographic disparity = 0.11\n",
      "Client 3: accuracy loss: 3.45 | fairness loss 15006926.94 | Demographic disparity = 0.04\n",
      " \n",
      "Avg Training Stats after 340 global rounds:\n",
      "Training loss: -199712.75 | Validation accuracy: 49.47% | Validation Demographic disparity: 0.0659\n",
      "\n",
      " | Global Round : 341 | constraint :  Cov(z, d) < c\n",
      "\n"
     ]
    },
    {
     "name": "stderr",
     "output_type": "stream",
     "text": [
      "\r",
      " 68%|██████▊   | 341/500 [00:39<00:36,  4.35it/s]"
     ]
    },
    {
     "name": "stdout",
     "output_type": "stream",
     "text": [
      "Client 1: accuracy loss: 3.89 | fairness loss 13252545.59 | Demographic disparity = 0.07\n",
      "Client 2: accuracy loss: 2.61 | fairness loss 18471282.82 | Demographic disparity = 0.11\n",
      "Client 3: accuracy loss: 3.45 | fairness loss 15070098.61 | Demographic disparity = 0.04\n",
      " \n",
      "Avg Training Stats after 341 global rounds:\n",
      "Training loss: -200126.47 | Validation accuracy: 49.47% | Validation Demographic disparity: 0.0659\n",
      "\n",
      " | Global Round : 342 | constraint :  Cov(z, d) < c\n",
      "\n",
      "Client 1: accuracy loss: 3.89 | fairness loss 13307925.91 | Demographic disparity = 0.07\n",
      "Client 2: accuracy loss: 2.62 | fairness loss 18548897.82 | Demographic disparity = 0.11\n"
     ]
    },
    {
     "name": "stderr",
     "output_type": "stream",
     "text": [
      " 69%|██████▊   | 343/500 [00:40<00:32,  4.77it/s]"
     ]
    },
    {
     "name": "stdout",
     "output_type": "stream",
     "text": [
      "Client 3: accuracy loss: 3.45 | fairness loss 15133436.11 | Demographic disparity = 0.04\n",
      " \n",
      "Avg Training Stats after 342 global rounds:\n",
      "Training loss: -200540.36 | Validation accuracy: 49.47% | Validation Demographic disparity: 0.0659\n",
      "\n",
      " | Global Round : 343 | constraint :  Cov(z, d) < c\n",
      "\n",
      "Client 1: accuracy loss: 3.89 | fairness loss 13363455.82 | Demographic disparity = 0.06\n",
      "Client 2: accuracy loss: 2.62 | fairness loss 18626722.09 | Demographic disparity = 0.11\n",
      "Client 3: accuracy loss: 3.46 | fairness loss 15196945.72 | Demographic disparity = 0.04\n",
      " \n",
      "Avg Training Stats after 343 global rounds:\n",
      "Training loss: -200954.43 | Validation accuracy: 49.76% | Validation Demographic disparity: 0.0626\n",
      "\n",
      " | Global Round : 344 | constraint :  Cov(z, d) < c\n",
      "\n"
     ]
    },
    {
     "name": "stderr",
     "output_type": "stream",
     "text": [
      "\r",
      " 69%|██████▉   | 344/500 [00:40<00:32,  4.87it/s]"
     ]
    },
    {
     "name": "stdout",
     "output_type": "stream",
     "text": [
      "Client 1: accuracy loss: 3.89 | fairness loss 13419131.16 | Demographic disparity = 0.06\n",
      "Client 2: accuracy loss: 2.62 | fairness loss 18704751.18 | Demographic disparity = 0.11\n",
      "Client 3: accuracy loss: 3.46 | fairness loss 15260620.72 | Demographic disparity = 0.04\n",
      " \n",
      "Avg Training Stats after 344 global rounds:\n",
      "Training loss: -201368.66 | Validation accuracy: 49.76% | Validation Demographic disparity: 0.0626\n",
      "\n",
      " | Global Round : 345 | constraint :  Cov(z, d) < c\n",
      "\n",
      "Client 1: accuracy loss: 3.89 | fairness loss 13474954.16 | Demographic disparity = 0.06\n",
      "Client 2: accuracy loss: 2.62 | fairness loss 18782988.18 | Demographic disparity = 0.11\n"
     ]
    },
    {
     "name": "stderr",
     "output_type": "stream",
     "text": [
      " 69%|██████▉   | 346/500 [00:40<00:29,  5.29it/s]"
     ]
    },
    {
     "name": "stdout",
     "output_type": "stream",
     "text": [
      "Client 3: accuracy loss: 3.46 | fairness loss 15324466.39 | Demographic disparity = 0.05\n",
      " \n",
      "Avg Training Stats after 345 global rounds:\n",
      "Training loss: -201783.07 | Validation accuracy: 49.37% | Validation Demographic disparity: 0.0659\n",
      "\n",
      " | Global Round : 346 | constraint :  Cov(z, d) < c\n",
      "\n",
      "Client 1: accuracy loss: 3.89 | fairness loss 13530923.14 | Demographic disparity = 0.06\n",
      "Client 2: accuracy loss: 2.62 | fairness loss 18861429.18 | Demographic disparity = 0.12\n",
      "Client 3: accuracy loss: 3.46 | fairness loss 15388478.33 | Demographic disparity = 0.05\n",
      " \n",
      "Avg Training Stats after 346 global rounds:\n",
      "Training loss: -202197.65 | Validation accuracy: 49.04% | Validation Demographic disparity: 0.0693\n",
      "\n",
      " | Global Round : 347 | constraint :  Cov(z, d) < c\n",
      "\n"
     ]
    },
    {
     "name": "stderr",
     "output_type": "stream",
     "text": [
      "\r",
      " 69%|██████▉   | 347/500 [00:40<00:27,  5.52it/s]"
     ]
    },
    {
     "name": "stdout",
     "output_type": "stream",
     "text": [
      "Client 1: accuracy loss: 3.90 | fairness loss 13587038.32 | Demographic disparity = 0.06\n",
      "Client 2: accuracy loss: 2.62 | fairness loss 18940079.36 | Demographic disparity = 0.12\n",
      "Client 3: accuracy loss: 3.46 | fairness loss 15452661.11 | Demographic disparity = 0.05\n",
      " \n",
      "Avg Training Stats after 347 global rounds:\n",
      "Training loss: -202612.40 | Validation accuracy: 49.04% | Validation Demographic disparity: 0.0693\n",
      "\n",
      " | Global Round : 348 | constraint :  Cov(z, d) < c\n",
      "\n"
     ]
    },
    {
     "name": "stderr",
     "output_type": "stream",
     "text": [
      "\r",
      " 70%|██████▉   | 348/500 [00:41<00:31,  4.87it/s]"
     ]
    },
    {
     "name": "stdout",
     "output_type": "stream",
     "text": [
      "Client 1: accuracy loss: 3.90 | fairness loss 13643299.52 | Demographic disparity = 0.06\n",
      "Client 2: accuracy loss: 2.62 | fairness loss 19018933.18 | Demographic disparity = 0.12\n",
      "Client 3: accuracy loss: 3.46 | fairness loss 15517010.00 | Demographic disparity = 0.04\n",
      " \n",
      "Avg Training Stats after 348 global rounds:\n",
      "Training loss: -203027.32 | Validation accuracy: 49.43% | Validation Demographic disparity: 0.0659\n",
      "\n",
      " | Global Round : 349 | constraint :  Cov(z, d) < c\n",
      "\n"
     ]
    },
    {
     "name": "stderr",
     "output_type": "stream",
     "text": [
      " 70%|███████   | 350/500 [00:41<00:28,  5.31it/s]"
     ]
    },
    {
     "name": "stdout",
     "output_type": "stream",
     "text": [
      "Client 1: accuracy loss: 3.90 | fairness loss 13699708.95 | Demographic disparity = 0.06\n",
      "Client 2: accuracy loss: 2.62 | fairness loss 19097998.27 | Demographic disparity = 0.12\n",
      "Client 3: accuracy loss: 3.46 | fairness loss 15581530.83 | Demographic disparity = 0.04\n",
      " \n",
      "Avg Training Stats after 349 global rounds:\n",
      "Training loss: -203442.42 | Validation accuracy: 49.43% | Validation Demographic disparity: 0.0659\n",
      "\n",
      " | Global Round : 350 | constraint :  Cov(z, d) < c\n",
      "\n",
      "Client 1: accuracy loss: 3.90 | fairness loss 13756267.16 | Demographic disparity = 0.06\n",
      "Client 2: accuracy loss: 2.62 | fairness loss 19177269.82 | Demographic disparity = 0.12\n",
      "Client 3: accuracy loss: 3.46 | fairness loss 15646221.83 | Demographic disparity = 0.04\n",
      " \n",
      "Avg Training Stats after 350 global rounds:\n",
      "Training loss: -203857.68 | Validation accuracy: 49.43% | Validation Demographic disparity: 0.0659\n",
      "\n",
      " | Global Round : 351 | constraint :  Cov(z, d) < c\n",
      "\n"
     ]
    },
    {
     "name": "stderr",
     "output_type": "stream",
     "text": [
      " 70%|███████   | 352/500 [00:41<00:25,  5.80it/s]"
     ]
    },
    {
     "name": "stdout",
     "output_type": "stream",
     "text": [
      "Client 1: accuracy loss: 3.90 | fairness loss 13812973.20 | Demographic disparity = 0.06\n",
      "Client 2: accuracy loss: 2.62 | fairness loss 19256749.82 | Demographic disparity = 0.12\n",
      "Client 3: accuracy loss: 3.46 | fairness loss 15711082.44 | Demographic disparity = 0.04\n",
      " \n",
      "Avg Training Stats after 351 global rounds:\n",
      "Training loss: -204273.12 | Validation accuracy: 49.43% | Validation Demographic disparity: 0.0659\n",
      "\n",
      " | Global Round : 352 | constraint :  Cov(z, d) < c\n",
      "\n",
      "Client 1: accuracy loss: 3.90 | fairness loss 13869826.48 | Demographic disparity = 0.07\n",
      "Client 2: accuracy loss: 2.62 | fairness loss 19336437.18 | Demographic disparity = 0.12\n",
      "Client 3: accuracy loss: 3.46 | fairness loss 15776111.28 | Demographic disparity = 0.04\n",
      " \n",
      "Avg Training Stats after 352 global rounds:\n",
      "Training loss: -204688.73 | Validation accuracy: 49.14% | Validation Demographic disparity: 0.0693\n",
      "\n",
      " | Global Round : 353 | constraint :  Cov(z, d) < c\n",
      "\n"
     ]
    },
    {
     "name": "stderr",
     "output_type": "stream",
     "text": [
      " 71%|███████   | 354/500 [00:42<00:22,  6.60it/s]"
     ]
    },
    {
     "name": "stdout",
     "output_type": "stream",
     "text": [
      "Client 1: accuracy loss: 3.90 | fairness loss 13926826.50 | Demographic disparity = 0.07\n",
      "Client 2: accuracy loss: 2.62 | fairness loss 19416333.00 | Demographic disparity = 0.12\n",
      "Client 3: accuracy loss: 3.46 | fairness loss 15841311.94 | Demographic disparity = 0.04\n",
      " \n",
      "Avg Training Stats after 353 global rounds:\n",
      "Training loss: -205104.51 | Validation accuracy: 49.14% | Validation Demographic disparity: 0.0693\n",
      "\n",
      " | Global Round : 354 | constraint :  Cov(z, d) < c\n",
      "\n",
      "Client 1: accuracy loss: 3.90 | fairness loss 13983973.95 | Demographic disparity = 0.07\n",
      "Client 2: accuracy loss: 2.62 | fairness loss 19496436.36 | Demographic disparity = 0.12\n",
      "Client 3: accuracy loss: 3.46 | fairness loss 15906679.83 | Demographic disparity = 0.04\n",
      " \n",
      "Avg Training Stats after 354 global rounds:\n",
      "Training loss: -205520.47 | Validation accuracy: 49.14% | Validation Demographic disparity: 0.0693\n",
      "\n",
      " | Global Round : 355 | constraint :  Cov(z, d) < c\n",
      "\n"
     ]
    },
    {
     "name": "stderr",
     "output_type": "stream",
     "text": [
      " 71%|███████   | 356/500 [00:42<00:19,  7.39it/s]"
     ]
    },
    {
     "name": "stdout",
     "output_type": "stream",
     "text": [
      "Client 1: accuracy loss: 3.90 | fairness loss 14041273.98 | Demographic disparity = 0.07\n",
      "Client 2: accuracy loss: 2.62 | fairness loss 19576752.45 | Demographic disparity = 0.12\n",
      "Client 3: accuracy loss: 3.46 | fairness loss 15972222.78 | Demographic disparity = 0.04\n",
      " \n",
      "Avg Training Stats after 355 global rounds:\n",
      "Training loss: -205936.59 | Validation accuracy: 49.14% | Validation Demographic disparity: 0.0693\n",
      "\n",
      " | Global Round : 356 | constraint :  Cov(z, d) < c\n",
      "\n",
      "Client 1: accuracy loss: 3.90 | fairness loss 14098720.82 | Demographic disparity = 0.07\n",
      "Client 2: accuracy loss: 2.62 | fairness loss 19657276.73 | Demographic disparity = 0.12\n",
      "Client 3: accuracy loss: 3.46 | fairness loss 16037935.67 | Demographic disparity = 0.04\n",
      " \n",
      "Avg Training Stats after 356 global rounds:\n",
      "Training loss: -206352.89 | Validation accuracy: 49.14% | Validation Demographic disparity: 0.0693\n",
      "\n",
      " | Global Round : 357 | constraint :  Cov(z, d) < c\n",
      "\n"
     ]
    },
    {
     "name": "stderr",
     "output_type": "stream",
     "text": [
      " 72%|███████▏  | 358/500 [00:42<00:18,  7.82it/s]"
     ]
    },
    {
     "name": "stdout",
     "output_type": "stream",
     "text": [
      "Client 1: accuracy loss: 3.90 | fairness loss 14156316.70 | Demographic disparity = 0.07\n",
      "Client 2: accuracy loss: 2.62 | fairness loss 19738011.27 | Demographic disparity = 0.12\n",
      "Client 3: accuracy loss: 3.46 | fairness loss 16103818.78 | Demographic disparity = 0.04\n",
      " \n",
      "Avg Training Stats after 357 global rounds:\n",
      "Training loss: -206769.35 | Validation accuracy: 49.14% | Validation Demographic disparity: 0.0693\n",
      "\n",
      " | Global Round : 358 | constraint :  Cov(z, d) < c\n",
      "\n",
      "Client 1: accuracy loss: 3.91 | fairness loss 14214062.11 | Demographic disparity = 0.08\n",
      "Client 2: accuracy loss: 2.62 | fairness loss 19818954.91 | Demographic disparity = 0.12\n",
      "Client 3: accuracy loss: 3.46 | fairness loss 16169875.28 | Demographic disparity = 0.04\n",
      " \n",
      "Avg Training Stats after 358 global rounds:\n",
      "Training loss: -207185.99 | Validation accuracy: 48.85% | Validation Demographic disparity: 0.0726\n",
      "\n",
      " | Global Round : 359 | constraint :  Cov(z, d) < c\n",
      "\n"
     ]
    },
    {
     "name": "stderr",
     "output_type": "stream",
     "text": [
      " 72%|███████▏  | 360/500 [00:42<00:17,  8.16it/s]"
     ]
    },
    {
     "name": "stdout",
     "output_type": "stream",
     "text": [
      "Client 1: accuracy loss: 3.91 | fairness loss 14271955.48 | Demographic disparity = 0.08\n",
      "Client 2: accuracy loss: 2.62 | fairness loss 19900108.09 | Demographic disparity = 0.12\n",
      "Client 3: accuracy loss: 3.46 | fairness loss 16236100.33 | Demographic disparity = 0.04\n",
      " \n",
      "Avg Training Stats after 359 global rounds:\n",
      "Training loss: -207602.80 | Validation accuracy: 48.56% | Validation Demographic disparity: 0.0759\n",
      "\n",
      " | Global Round : 360 | constraint :  Cov(z, d) < c\n",
      "\n",
      "Client 1: accuracy loss: 3.91 | fairness loss 14329999.59 | Demographic disparity = 0.09\n",
      "Client 2: accuracy loss: 2.62 | fairness loss 19981473.00 | Demographic disparity = 0.12\n",
      "Client 3: accuracy loss: 3.47 | fairness loss 16302499.56 | Demographic disparity = 0.05\n",
      " \n",
      "Avg Training Stats after 360 global rounds:\n",
      "Training loss: -208019.79 | Validation accuracy: 48.65% | Validation Demographic disparity: 0.0826\n",
      "\n",
      " | Global Round : 361 | constraint :  Cov(z, d) < c\n",
      "\n"
     ]
    },
    {
     "name": "stderr",
     "output_type": "stream",
     "text": [
      " 72%|███████▏  | 362/500 [00:43<00:17,  7.88it/s]"
     ]
    },
    {
     "name": "stdout",
     "output_type": "stream",
     "text": [
      "Client 1: accuracy loss: 3.91 | fairness loss 14388194.66 | Demographic disparity = 0.10\n",
      "Client 2: accuracy loss: 2.62 | fairness loss 20063050.27 | Demographic disparity = 0.12\n",
      "Client 3: accuracy loss: 3.47 | fairness loss 16369072.33 | Demographic disparity = 0.05\n",
      " \n",
      "Avg Training Stats after 361 global rounds:\n",
      "Training loss: -208436.94 | Validation accuracy: 47.58% | Validation Demographic disparity: 0.0859\n",
      "\n",
      " | Global Round : 362 | constraint :  Cov(z, d) < c\n",
      "\n",
      "Client 1: accuracy loss: 3.91 | fairness loss 14446539.14 | Demographic disparity = 0.10\n",
      "Client 2: accuracy loss: 2.62 | fairness loss 20144837.36 | Demographic disparity = 0.12\n",
      "Client 3: accuracy loss: 3.47 | fairness loss 16435816.33 | Demographic disparity = 0.05\n",
      " \n",
      "Avg Training Stats after 362 global rounds:\n",
      "Training loss: -208854.26 | Validation accuracy: 47.58% | Validation Demographic disparity: 0.0859\n",
      "\n",
      " | Global Round : 363 | constraint :  Cov(z, d) < c\n",
      "\n"
     ]
    },
    {
     "name": "stderr",
     "output_type": "stream",
     "text": [
      " 73%|███████▎  | 364/500 [00:43<00:16,  8.16it/s]"
     ]
    },
    {
     "name": "stdout",
     "output_type": "stream",
     "text": [
      "Client 1: accuracy loss: 3.91 | fairness loss 14505032.82 | Demographic disparity = 0.10\n",
      "Client 2: accuracy loss: 2.62 | fairness loss 20226836.00 | Demographic disparity = 0.12\n",
      "Client 3: accuracy loss: 3.47 | fairness loss 16502731.94 | Demographic disparity = 0.05\n",
      " \n",
      "Avg Training Stats after 363 global rounds:\n",
      "Training loss: -209271.76 | Validation accuracy: 47.58% | Validation Demographic disparity: 0.0859\n",
      "\n",
      " | Global Round : 364 | constraint :  Cov(z, d) < c\n",
      "\n",
      "Client 1: accuracy loss: 3.91 | fairness loss 14563676.86 | Demographic disparity = 0.10\n",
      "Client 2: accuracy loss: 2.62 | fairness loss 20309046.36 | Demographic disparity = 0.12\n",
      "Client 3: accuracy loss: 3.47 | fairness loss 16569820.83 | Demographic disparity = 0.05\n",
      " \n",
      "Avg Training Stats after 364 global rounds:\n",
      "Training loss: -209689.43 | Validation accuracy: 47.58% | Validation Demographic disparity: 0.0859\n",
      "\n",
      " | Global Round : 365 | constraint :  Cov(z, d) < c\n",
      "\n"
     ]
    },
    {
     "name": "stderr",
     "output_type": "stream",
     "text": [
      " 73%|███████▎  | 366/500 [00:43<00:16,  8.33it/s]"
     ]
    },
    {
     "name": "stdout",
     "output_type": "stream",
     "text": [
      "Client 1: accuracy loss: 3.91 | fairness loss 14622471.27 | Demographic disparity = 0.11\n",
      "Client 2: accuracy loss: 2.62 | fairness loss 20391467.18 | Demographic disparity = 0.12\n",
      "Client 3: accuracy loss: 3.47 | fairness loss 16637082.06 | Demographic disparity = 0.05\n",
      " \n",
      "Avg Training Stats after 365 global rounds:\n",
      "Training loss: -210107.27 | Validation accuracy: 47.29% | Validation Demographic disparity: 0.0892\n",
      "\n",
      " | Global Round : 366 | constraint :  Cov(z, d) < c\n",
      "\n",
      "Client 1: accuracy loss: 3.91 | fairness loss 14681417.11 | Demographic disparity = 0.10\n",
      "Client 2: accuracy loss: 2.62 | fairness loss 20474101.18 | Demographic disparity = 0.12\n",
      "Client 3: accuracy loss: 3.47 | fairness loss 16704517.94 | Demographic disparity = 0.05\n",
      " \n",
      "Avg Training Stats after 366 global rounds:\n",
      "Training loss: -210525.28 | Validation accuracy: 47.58% | Validation Demographic disparity: 0.0859\n",
      "\n",
      " | Global Round : 367 | constraint :  Cov(z, d) < c\n",
      "\n"
     ]
    },
    {
     "name": "stderr",
     "output_type": "stream",
     "text": [
      " 74%|███████▎  | 368/500 [00:43<00:15,  8.54it/s]"
     ]
    },
    {
     "name": "stdout",
     "output_type": "stream",
     "text": [
      "Client 1: accuracy loss: 3.91 | fairness loss 14740514.14 | Demographic disparity = 0.10\n",
      "Client 2: accuracy loss: 2.62 | fairness loss 20556949.64 | Demographic disparity = 0.12\n",
      "Client 3: accuracy loss: 3.47 | fairness loss 16772127.89 | Demographic disparity = 0.05\n",
      " \n",
      "Avg Training Stats after 367 global rounds:\n",
      "Training loss: -210943.46 | Validation accuracy: 47.58% | Validation Demographic disparity: 0.0859\n",
      "\n",
      " | Global Round : 368 | constraint :  Cov(z, d) < c\n",
      "\n",
      "Client 1: accuracy loss: 3.91 | fairness loss 14799762.73 | Demographic disparity = 0.10\n",
      "Client 2: accuracy loss: 2.62 | fairness loss 20640011.00 | Demographic disparity = 0.12\n",
      "Client 3: accuracy loss: 3.47 | fairness loss 16839911.44 | Demographic disparity = 0.05\n",
      " \n",
      "Avg Training Stats after 368 global rounds:\n",
      "Training loss: -211361.81 | Validation accuracy: 47.58% | Validation Demographic disparity: 0.0859\n",
      "\n",
      " | Global Round : 369 | constraint :  Cov(z, d) < c\n",
      "\n"
     ]
    },
    {
     "name": "stderr",
     "output_type": "stream",
     "text": [
      " 74%|███████▍  | 370/500 [00:43<00:14,  8.75it/s]"
     ]
    },
    {
     "name": "stdout",
     "output_type": "stream",
     "text": [
      "Client 1: accuracy loss: 3.91 | fairness loss 14859162.20 | Demographic disparity = 0.10\n",
      "Client 2: accuracy loss: 2.63 | fairness loss 20723284.18 | Demographic disparity = 0.12\n",
      "Client 3: accuracy loss: 3.47 | fairness loss 16907867.61 | Demographic disparity = 0.05\n",
      " \n",
      "Avg Training Stats after 369 global rounds:\n",
      "Training loss: -211780.34 | Validation accuracy: 47.58% | Validation Demographic disparity: 0.0859\n",
      "\n",
      " | Global Round : 370 | constraint :  Cov(z, d) < c\n",
      "\n",
      "Client 1: accuracy loss: 3.92 | fairness loss 14918714.84 | Demographic disparity = 0.11\n",
      "Client 2: accuracy loss: 2.63 | fairness loss 20806773.18 | Demographic disparity = 0.12\n",
      "Client 3: accuracy loss: 3.47 | fairness loss 16976001.06 | Demographic disparity = 0.05\n",
      " \n",
      "Avg Training Stats after 370 global rounds:\n",
      "Training loss: -212199.03 | Validation accuracy: 47.87% | Validation Demographic disparity: 0.0892\n",
      "\n",
      " | Global Round : 371 | constraint :  Cov(z, d) < c\n",
      "\n"
     ]
    },
    {
     "name": "stderr",
     "output_type": "stream",
     "text": [
      " 74%|███████▍  | 372/500 [00:44<00:14,  8.64it/s]"
     ]
    },
    {
     "name": "stdout",
     "output_type": "stream",
     "text": [
      "Client 1: accuracy loss: 3.92 | fairness loss 14978418.32 | Demographic disparity = 0.11\n",
      "Client 2: accuracy loss: 2.63 | fairness loss 20890475.91 | Demographic disparity = 0.12\n",
      "Client 3: accuracy loss: 3.47 | fairness loss 17044307.00 | Demographic disparity = 0.05\n",
      " \n",
      "Avg Training Stats after 371 global rounds:\n",
      "Training loss: -212617.90 | Validation accuracy: 47.29% | Validation Demographic disparity: 0.0892\n",
      "\n",
      " | Global Round : 372 | constraint :  Cov(z, d) < c\n",
      "\n",
      "Client 1: accuracy loss: 3.92 | fairness loss 15038276.20 | Demographic disparity = 0.11\n",
      "Client 2: accuracy loss: 2.63 | fairness loss 20974393.18 | Demographic disparity = 0.12\n",
      "Client 3: accuracy loss: 3.47 | fairness loss 17112791.00 | Demographic disparity = 0.05\n",
      " \n",
      "Avg Training Stats after 372 global rounds:\n",
      "Training loss: -213036.94 | Validation accuracy: 47.29% | Validation Demographic disparity: 0.0892\n",
      "\n",
      " | Global Round : 373 | constraint :  Cov(z, d) < c\n",
      "\n"
     ]
    },
    {
     "name": "stderr",
     "output_type": "stream",
     "text": [
      " 75%|███████▍  | 374/500 [00:44<00:14,  8.92it/s]"
     ]
    },
    {
     "name": "stdout",
     "output_type": "stream",
     "text": [
      "Client 1: accuracy loss: 3.92 | fairness loss 15098285.48 | Demographic disparity = 0.11\n",
      "Client 2: accuracy loss: 2.63 | fairness loss 21058525.27 | Demographic disparity = 0.12\n",
      "Client 3: accuracy loss: 3.47 | fairness loss 17181449.56 | Demographic disparity = 0.05\n",
      " \n",
      "Avg Training Stats after 373 global rounds:\n",
      "Training loss: -213456.14 | Validation accuracy: 47.29% | Validation Demographic disparity: 0.0892\n",
      "\n",
      " | Global Round : 374 | constraint :  Cov(z, d) < c\n",
      "\n",
      "Client 1: accuracy loss: 3.92 | fairness loss 15158445.73 | Demographic disparity = 0.10\n",
      "Client 2: accuracy loss: 2.63 | fairness loss 21142869.36 | Demographic disparity = 0.12\n",
      "Client 3: accuracy loss: 3.47 | fairness loss 17250280.78 | Demographic disparity = 0.05\n",
      " \n",
      "Avg Training Stats after 374 global rounds:\n",
      "Training loss: -213875.52 | Validation accuracy: 47.58% | Validation Demographic disparity: 0.0859\n",
      "\n",
      " | Global Round : 375 | constraint :  Cov(z, d) < c\n",
      "\n"
     ]
    },
    {
     "name": "stderr",
     "output_type": "stream",
     "text": [
      " 75%|███████▌  | 376/500 [00:44<00:13,  8.95it/s]"
     ]
    },
    {
     "name": "stdout",
     "output_type": "stream",
     "text": [
      "Client 1: accuracy loss: 3.92 | fairness loss 15218759.75 | Demographic disparity = 0.10\n",
      "Client 2: accuracy loss: 2.63 | fairness loss 21227431.64 | Demographic disparity = 0.12\n",
      "Client 3: accuracy loss: 3.47 | fairness loss 17319289.33 | Demographic disparity = 0.05\n",
      " \n",
      "Avg Training Stats after 375 global rounds:\n",
      "Training loss: -214295.08 | Validation accuracy: 47.58% | Validation Demographic disparity: 0.0859\n",
      "\n",
      " | Global Round : 376 | constraint :  Cov(z, d) < c\n",
      "\n",
      "Client 1: accuracy loss: 3.92 | fairness loss 15279224.66 | Demographic disparity = 0.11\n",
      "Client 2: accuracy loss: 2.63 | fairness loss 21312205.36 | Demographic disparity = 0.12\n",
      "Client 3: accuracy loss: 3.47 | fairness loss 17388472.22 | Demographic disparity = 0.06\n",
      " \n",
      "Avg Training Stats after 376 global rounds:\n",
      "Training loss: -214714.80 | Validation accuracy: 48.26% | Validation Demographic disparity: 0.0925\n",
      "\n",
      " | Global Round : 377 | constraint :  Cov(z, d) < c\n",
      "\n"
     ]
    },
    {
     "name": "stderr",
     "output_type": "stream",
     "text": [
      " 76%|███████▌  | 378/500 [00:44<00:13,  9.10it/s]"
     ]
    },
    {
     "name": "stdout",
     "output_type": "stream",
     "text": [
      "Client 1: accuracy loss: 3.92 | fairness loss 15339844.68 | Demographic disparity = 0.11\n",
      "Client 2: accuracy loss: 2.63 | fairness loss 21397197.00 | Demographic disparity = 0.12\n",
      "Client 3: accuracy loss: 3.48 | fairness loss 17457831.00 | Demographic disparity = 0.06\n",
      " \n",
      "Avg Training Stats after 377 global rounds:\n",
      "Training loss: -215134.69 | Validation accuracy: 48.26% | Validation Demographic disparity: 0.0925\n",
      "\n",
      " | Global Round : 378 | constraint :  Cov(z, d) < c\n",
      "\n",
      "Client 1: accuracy loss: 3.92 | fairness loss 15400617.25 | Demographic disparity = 0.10\n",
      "Client 2: accuracy loss: 2.63 | fairness loss 21482404.45 | Demographic disparity = 0.13\n",
      "Client 3: accuracy loss: 3.48 | fairness loss 17527367.83 | Demographic disparity = 0.06\n",
      " \n",
      "Avg Training Stats after 378 global rounds:\n",
      "Training loss: -215554.76 | Validation accuracy: 47.64% | Validation Demographic disparity: 0.0925\n",
      "\n",
      " | Global Round : 379 | constraint :  Cov(z, d) < c\n",
      "\n"
     ]
    },
    {
     "name": "stderr",
     "output_type": "stream",
     "text": [
      " 76%|███████▌  | 380/500 [00:45<00:13,  9.13it/s]"
     ]
    },
    {
     "name": "stdout",
     "output_type": "stream",
     "text": [
      "Client 1: accuracy loss: 3.92 | fairness loss 15461544.09 | Demographic disparity = 0.10\n",
      "Client 2: accuracy loss: 2.63 | fairness loss 21567827.36 | Demographic disparity = 0.13\n",
      "Client 3: accuracy loss: 3.48 | fairness loss 17597079.72 | Demographic disparity = 0.06\n",
      " \n",
      "Avg Training Stats after 379 global rounds:\n",
      "Training loss: -215974.99 | Validation accuracy: 47.64% | Validation Demographic disparity: 0.0925\n",
      "\n",
      " | Global Round : 380 | constraint :  Cov(z, d) < c\n",
      "\n",
      "Client 1: accuracy loss: 3.92 | fairness loss 15522625.11 | Demographic disparity = 0.11\n",
      "Client 2: accuracy loss: 2.63 | fairness loss 21653467.91 | Demographic disparity = 0.12\n",
      "Client 3: accuracy loss: 3.48 | fairness loss 17666967.89 | Demographic disparity = 0.06\n",
      " \n",
      "Avg Training Stats after 380 global rounds:\n",
      "Training loss: -216395.40 | Validation accuracy: 47.68% | Validation Demographic disparity: 0.0925\n",
      "\n",
      " | Global Round : 381 | constraint :  Cov(z, d) < c\n",
      "\n"
     ]
    },
    {
     "name": "stderr",
     "output_type": "stream",
     "text": [
      " 76%|███████▋  | 382/500 [00:45<00:12,  9.10it/s]"
     ]
    },
    {
     "name": "stdout",
     "output_type": "stream",
     "text": [
      "Client 1: accuracy loss: 3.93 | fairness loss 15583859.41 | Demographic disparity = 0.10\n",
      "Client 2: accuracy loss: 2.63 | fairness loss 21739325.55 | Demographic disparity = 0.12\n",
      "Client 3: accuracy loss: 3.48 | fairness loss 17737035.50 | Demographic disparity = 0.06\n",
      " \n",
      "Avg Training Stats after 381 global rounds:\n",
      "Training loss: -216815.97 | Validation accuracy: 47.97% | Validation Demographic disparity: 0.0892\n",
      "\n",
      " | Global Round : 382 | constraint :  Cov(z, d) < c\n",
      "\n",
      "Client 1: accuracy loss: 3.93 | fairness loss 15645247.25 | Demographic disparity = 0.10\n",
      "Client 2: accuracy loss: 2.63 | fairness loss 21825399.00 | Demographic disparity = 0.12\n",
      "Client 3: accuracy loss: 3.48 | fairness loss 17807277.56 | Demographic disparity = 0.05\n",
      " \n",
      "Avg Training Stats after 382 global rounds:\n",
      "Training loss: -217236.72 | Validation accuracy: 48.36% | Validation Demographic disparity: 0.0859\n",
      "\n",
      " | Global Round : 383 | constraint :  Cov(z, d) < c\n",
      "\n"
     ]
    },
    {
     "name": "stderr",
     "output_type": "stream",
     "text": [
      " 77%|███████▋  | 384/500 [00:45<00:12,  9.06it/s]"
     ]
    },
    {
     "name": "stdout",
     "output_type": "stream",
     "text": [
      "Client 1: accuracy loss: 3.93 | fairness loss 15706788.66 | Demographic disparity = 0.11\n",
      "Client 2: accuracy loss: 2.63 | fairness loss 21911688.64 | Demographic disparity = 0.12\n",
      "Client 3: accuracy loss: 3.48 | fairness loss 17877697.78 | Demographic disparity = 0.05\n",
      " \n",
      "Avg Training Stats after 383 global rounds:\n",
      "Training loss: -217657.64 | Validation accuracy: 48.65% | Validation Demographic disparity: 0.0892\n",
      "\n",
      " | Global Round : 384 | constraint :  Cov(z, d) < c\n",
      "\n",
      "Client 1: accuracy loss: 3.93 | fairness loss 15768486.80 | Demographic disparity = 0.11\n",
      "Client 2: accuracy loss: 2.63 | fairness loss 21998198.91 | Demographic disparity = 0.12\n",
      "Client 3: accuracy loss: 3.48 | fairness loss 17948295.67 | Demographic disparity = 0.05\n",
      " \n",
      "Avg Training Stats after 384 global rounds:\n",
      "Training loss: -218078.73 | Validation accuracy: 48.65% | Validation Demographic disparity: 0.0892\n",
      "\n",
      " | Global Round : 385 | constraint :  Cov(z, d) < c\n",
      "\n"
     ]
    },
    {
     "name": "stderr",
     "output_type": "stream",
     "text": [
      " 77%|███████▋  | 386/500 [00:45<00:12,  9.19it/s]"
     ]
    },
    {
     "name": "stdout",
     "output_type": "stream",
     "text": [
      "Client 1: accuracy loss: 3.93 | fairness loss 15830338.57 | Demographic disparity = 0.11\n",
      "Client 2: accuracy loss: 2.63 | fairness loss 22084925.09 | Demographic disparity = 0.12\n",
      "Client 3: accuracy loss: 3.48 | fairness loss 18019072.11 | Demographic disparity = 0.05\n",
      " \n",
      "Avg Training Stats after 385 global rounds:\n",
      "Training loss: -218499.99 | Validation accuracy: 48.65% | Validation Demographic disparity: 0.0892\n",
      "\n",
      " | Global Round : 386 | constraint :  Cov(z, d) < c\n",
      "\n",
      "Client 1: accuracy loss: 3.93 | fairness loss 15892345.50 | Demographic disparity = 0.11\n",
      "Client 2: accuracy loss: 2.63 | fairness loss 22171868.00 | Demographic disparity = 0.12\n",
      "Client 3: accuracy loss: 3.48 | fairness loss 18090025.11 | Demographic disparity = 0.05\n",
      " \n",
      "Avg Training Stats after 386 global rounds:\n",
      "Training loss: -218921.43 | Validation accuracy: 48.65% | Validation Demographic disparity: 0.0892\n",
      "\n",
      " | Global Round : 387 | constraint :  Cov(z, d) < c\n",
      "\n"
     ]
    },
    {
     "name": "stderr",
     "output_type": "stream",
     "text": [
      " 78%|███████▊  | 388/500 [00:45<00:12,  9.17it/s]"
     ]
    },
    {
     "name": "stdout",
     "output_type": "stream",
     "text": [
      "Client 1: accuracy loss: 3.93 | fairness loss 15954508.27 | Demographic disparity = 0.10\n",
      "Client 2: accuracy loss: 2.63 | fairness loss 22259032.73 | Demographic disparity = 0.12\n",
      "Client 3: accuracy loss: 3.48 | fairness loss 18161160.17 | Demographic disparity = 0.05\n",
      " \n",
      "Avg Training Stats after 387 global rounds:\n",
      "Training loss: -219343.03 | Validation accuracy: 48.36% | Validation Demographic disparity: 0.0859\n",
      "\n",
      " | Global Round : 388 | constraint :  Cov(z, d) < c\n",
      "\n",
      "Client 1: accuracy loss: 3.93 | fairness loss 16016828.09 | Demographic disparity = 0.10\n",
      "Client 2: accuracy loss: 2.63 | fairness loss 22346418.36 | Demographic disparity = 0.12\n",
      "Client 3: accuracy loss: 3.48 | fairness loss 18232472.28 | Demographic disparity = 0.05\n",
      " \n",
      "Avg Training Stats after 388 global rounds:\n",
      "Training loss: -219764.80 | Validation accuracy: 48.36% | Validation Demographic disparity: 0.0859\n",
      "\n",
      " | Global Round : 389 | constraint :  Cov(z, d) < c\n",
      "\n"
     ]
    },
    {
     "name": "stderr",
     "output_type": "stream",
     "text": [
      " 78%|███████▊  | 390/500 [00:46<00:12,  9.13it/s]"
     ]
    },
    {
     "name": "stdout",
     "output_type": "stream",
     "text": [
      "Client 1: accuracy loss: 3.93 | fairness loss 16079299.52 | Demographic disparity = 0.11\n",
      "Client 2: accuracy loss: 2.63 | fairness loss 22434018.91 | Demographic disparity = 0.12\n",
      "Client 3: accuracy loss: 3.48 | fairness loss 18303962.44 | Demographic disparity = 0.05\n",
      " \n",
      "Avg Training Stats after 389 global rounds:\n",
      "Training loss: -220186.75 | Validation accuracy: 48.07% | Validation Demographic disparity: 0.0892\n",
      "\n",
      " | Global Round : 390 | constraint :  Cov(z, d) < c\n",
      "\n",
      "Client 1: accuracy loss: 3.93 | fairness loss 16141929.36 | Demographic disparity = 0.10\n",
      "Client 2: accuracy loss: 2.63 | fairness loss 22521841.27 | Demographic disparity = 0.12\n",
      "Client 3: accuracy loss: 3.48 | fairness loss 18375631.89 | Demographic disparity = 0.05\n",
      " \n",
      "Avg Training Stats after 390 global rounds:\n",
      "Training loss: -220608.87 | Validation accuracy: 48.36% | Validation Demographic disparity: 0.0859\n",
      "\n",
      " | Global Round : 391 | constraint :  Cov(z, d) < c\n",
      "\n"
     ]
    },
    {
     "name": "stderr",
     "output_type": "stream",
     "text": [
      " 78%|███████▊  | 392/500 [00:46<00:11,  9.07it/s]"
     ]
    },
    {
     "name": "stdout",
     "output_type": "stream",
     "text": [
      "Client 1: accuracy loss: 3.93 | fairness loss 16204715.48 | Demographic disparity = 0.12\n",
      "Client 2: accuracy loss: 2.63 | fairness loss 22609882.36 | Demographic disparity = 0.12\n",
      "Client 3: accuracy loss: 3.48 | fairness loss 18447481.61 | Demographic disparity = 0.05\n",
      " \n",
      "Avg Training Stats after 391 global rounds:\n",
      "Training loss: -221031.15 | Validation accuracy: 48.36% | Validation Demographic disparity: 0.0925\n",
      "\n",
      " | Global Round : 392 | constraint :  Cov(z, d) < c\n",
      "\n",
      "Client 1: accuracy loss: 3.93 | fairness loss 16267657.48 | Demographic disparity = 0.13\n",
      "Client 2: accuracy loss: 2.63 | fairness loss 22698142.27 | Demographic disparity = 0.12\n",
      "Client 3: accuracy loss: 3.48 | fairness loss 18519510.22 | Demographic disparity = 0.05\n",
      " \n",
      "Avg Training Stats after 392 global rounds:\n",
      "Training loss: -221453.61 | Validation accuracy: 48.07% | Validation Demographic disparity: 0.0959\n",
      "\n",
      " | Global Round : 393 | constraint :  Cov(z, d) < c\n",
      "\n"
     ]
    },
    {
     "name": "stderr",
     "output_type": "stream",
     "text": [
      " 79%|███████▉  | 394/500 [00:46<00:11,  9.00it/s]"
     ]
    },
    {
     "name": "stdout",
     "output_type": "stream",
     "text": [
      "Client 1: accuracy loss: 3.94 | fairness loss 16330754.57 | Demographic disparity = 0.12\n",
      "Client 2: accuracy loss: 2.63 | fairness loss 22786625.64 | Demographic disparity = 0.12\n",
      "Client 3: accuracy loss: 3.48 | fairness loss 18591719.28 | Demographic disparity = 0.05\n",
      " \n",
      "Avg Training Stats after 393 global rounds:\n",
      "Training loss: -221876.24 | Validation accuracy: 48.36% | Validation Demographic disparity: 0.0925\n",
      "\n",
      " | Global Round : 394 | constraint :  Cov(z, d) < c\n",
      "\n",
      "Client 1: accuracy loss: 3.94 | fairness loss 16394009.36 | Demographic disparity = 0.12\n",
      "Client 2: accuracy loss: 2.63 | fairness loss 22875326.18 | Demographic disparity = 0.12\n",
      "Client 3: accuracy loss: 3.49 | fairness loss 18664107.28 | Demographic disparity = 0.06\n",
      " \n",
      "Avg Training Stats after 394 global rounds:\n",
      "Training loss: -222299.04 | Validation accuracy: 47.97% | Validation Demographic disparity: 0.0959\n",
      "\n",
      " | Global Round : 395 | constraint :  Cov(z, d) < c\n",
      "\n"
     ]
    },
    {
     "name": "stderr",
     "output_type": "stream",
     "text": [
      " 79%|███████▉  | 396/500 [00:46<00:11,  9.13it/s]"
     ]
    },
    {
     "name": "stdout",
     "output_type": "stream",
     "text": [
      "Client 1: accuracy loss: 3.94 | fairness loss 16457420.64 | Demographic disparity = 0.13\n",
      "Client 2: accuracy loss: 2.63 | fairness loss 22964249.09 | Demographic disparity = 0.12\n",
      "Client 3: accuracy loss: 3.49 | fairness loss 18736676.50 | Demographic disparity = 0.06\n",
      " \n",
      "Avg Training Stats after 395 global rounds:\n",
      "Training loss: -222722.01 | Validation accuracy: 47.68% | Validation Demographic disparity: 0.0992\n",
      "\n",
      " | Global Round : 396 | constraint :  Cov(z, d) < c\n",
      "\n",
      "Client 1: accuracy loss: 3.94 | fairness loss 16520990.80 | Demographic disparity = 0.13\n",
      "Client 2: accuracy loss: 2.64 | fairness loss 23053395.00 | Demographic disparity = 0.12\n",
      "Client 3: accuracy loss: 3.49 | fairness loss 18809427.33 | Demographic disparity = 0.08\n",
      " \n",
      "Avg Training Stats after 396 global rounds:\n",
      "Training loss: -223145.15 | Validation accuracy: 47.29% | Validation Demographic disparity: 0.1025\n",
      "\n",
      " | Global Round : 397 | constraint :  Cov(z, d) < c\n",
      "\n"
     ]
    },
    {
     "name": "stderr",
     "output_type": "stream",
     "text": [
      " 80%|███████▉  | 398/500 [00:47<00:11,  9.10it/s]"
     ]
    },
    {
     "name": "stdout",
     "output_type": "stream",
     "text": [
      "Client 1: accuracy loss: 3.94 | fairness loss 16584719.55 | Demographic disparity = 0.12\n",
      "Client 2: accuracy loss: 2.64 | fairness loss 23142763.91 | Demographic disparity = 0.12\n",
      "Client 3: accuracy loss: 3.49 | fairness loss 18882361.50 | Demographic disparity = 0.05\n",
      " \n",
      "Avg Training Stats after 397 global rounds:\n",
      "Training loss: -223568.46 | Validation accuracy: 47.58% | Validation Demographic disparity: 0.0925\n",
      "\n",
      " | Global Round : 398 | constraint :  Cov(z, d) < c\n",
      "\n",
      "Client 1: accuracy loss: 3.94 | fairness loss 16648603.98 | Demographic disparity = 0.12\n",
      "Client 2: accuracy loss: 2.64 | fairness loss 23232354.27 | Demographic disparity = 0.12\n",
      "Client 3: accuracy loss: 3.49 | fairness loss 18955474.56 | Demographic disparity = 0.05\n",
      " \n",
      "Avg Training Stats after 398 global rounds:\n",
      "Training loss: -223991.95 | Validation accuracy: 47.58% | Validation Demographic disparity: 0.0925\n",
      "\n",
      " | Global Round : 399 | constraint :  Cov(z, d) < c\n",
      "\n"
     ]
    },
    {
     "name": "stderr",
     "output_type": "stream",
     "text": [
      " 80%|████████  | 400/500 [00:47<00:12,  7.73it/s]"
     ]
    },
    {
     "name": "stdout",
     "output_type": "stream",
     "text": [
      "Client 1: accuracy loss: 3.94 | fairness loss 16712648.32 | Demographic disparity = 0.12\n",
      "Client 2: accuracy loss: 2.64 | fairness loss 23322166.91 | Demographic disparity = 0.12\n",
      "Client 3: accuracy loss: 3.49 | fairness loss 19028771.17 | Demographic disparity = 0.05\n",
      " \n",
      "Avg Training Stats after 399 global rounds:\n",
      "Training loss: -224415.60 | Validation accuracy: 46.99% | Validation Demographic disparity: 0.0925\n",
      "\n",
      " | Global Round : 400 | constraint :  Cov(z, d) < c\n",
      "\n",
      "Client 1: accuracy loss: 3.94 | fairness loss 16776848.75 | Demographic disparity = 0.12\n",
      "Client 2: accuracy loss: 2.64 | fairness loss 23412202.45 | Demographic disparity = 0.13\n",
      "Client 3: accuracy loss: 3.49 | fairness loss 19102247.78 | Demographic disparity = 0.05\n",
      " \n",
      "Avg Training Stats after 400 global rounds:\n",
      "Training loss: -224839.42 | Validation accuracy: 47.32% | Validation Demographic disparity: 0.0959\n",
      "\n",
      " | Global Round : 401 | constraint :  Cov(z, d) < c\n",
      "\n"
     ]
    },
    {
     "name": "stderr",
     "output_type": "stream",
     "text": [
      " 80%|████████  | 402/500 [00:47<00:12,  8.01it/s]"
     ]
    },
    {
     "name": "stdout",
     "output_type": "stream",
     "text": [
      "Client 1: accuracy loss: 3.94 | fairness loss 16841207.43 | Demographic disparity = 0.11\n",
      "Client 2: accuracy loss: 2.64 | fairness loss 23502459.09 | Demographic disparity = 0.12\n",
      "Client 3: accuracy loss: 3.49 | fairness loss 19175905.22 | Demographic disparity = 0.05\n",
      " \n",
      "Avg Training Stats after 401 global rounds:\n",
      "Training loss: -225263.42 | Validation accuracy: 47.29% | Validation Demographic disparity: 0.0892\n",
      "\n",
      " | Global Round : 402 | constraint :  Cov(z, d) < c\n",
      "\n",
      "Client 1: accuracy loss: 3.94 | fairness loss 16905727.25 | Demographic disparity = 0.11\n",
      "Client 2: accuracy loss: 2.64 | fairness loss 23592941.55 | Demographic disparity = 0.13\n",
      "Client 3: accuracy loss: 3.49 | fairness loss 19249747.67 | Demographic disparity = 0.05\n",
      " \n",
      "Avg Training Stats after 402 global rounds:\n",
      "Training loss: -225687.59 | Validation accuracy: 47.61% | Validation Demographic disparity: 0.0925\n",
      "\n",
      " | Global Round : 403 | constraint :  Cov(z, d) < c\n",
      "\n"
     ]
    },
    {
     "name": "stderr",
     "output_type": "stream",
     "text": [
      " 81%|████████  | 404/500 [00:47<00:11,  8.45it/s]"
     ]
    },
    {
     "name": "stdout",
     "output_type": "stream",
     "text": [
      "Client 1: accuracy loss: 3.94 | fairness loss 16970403.36 | Demographic disparity = 0.13\n",
      "Client 2: accuracy loss: 2.64 | fairness loss 23683647.27 | Demographic disparity = 0.12\n",
      "Client 3: accuracy loss: 3.49 | fairness loss 19323772.56 | Demographic disparity = 0.05\n",
      " \n",
      "Avg Training Stats after 403 global rounds:\n",
      "Training loss: -226111.92 | Validation accuracy: 47.29% | Validation Demographic disparity: 0.0959\n",
      "\n",
      " | Global Round : 404 | constraint :  Cov(z, d) < c\n",
      "\n",
      "Client 1: accuracy loss: 3.95 | fairness loss 17035238.66 | Demographic disparity = 0.13\n",
      "Client 2: accuracy loss: 2.64 | fairness loss 23774574.64 | Demographic disparity = 0.13\n",
      "Client 3: accuracy loss: 3.49 | fairness loss 19397977.50 | Demographic disparity = 0.05\n",
      " \n",
      "Avg Training Stats after 404 global rounds:\n",
      "Training loss: -226536.43 | Validation accuracy: 47.61% | Validation Demographic disparity: 0.0992\n",
      "\n",
      " | Global Round : 405 | constraint :  Cov(z, d) < c\n",
      "\n"
     ]
    },
    {
     "name": "stderr",
     "output_type": "stream",
     "text": [
      "\r",
      " 81%|████████  | 405/500 [00:47<00:11,  8.55it/s]"
     ]
    },
    {
     "name": "stdout",
     "output_type": "stream",
     "text": [
      "Client 1: accuracy loss: 3.95 | fairness loss 17100234.86 | Demographic disparity = 0.13\n",
      "Client 2: accuracy loss: 2.64 | fairness loss 23865727.91 | Demographic disparity = 0.12\n",
      "Client 3: accuracy loss: 3.49 | fairness loss 19472367.50 | Demographic disparity = 0.05\n",
      " \n",
      "Avg Training Stats after 405 global rounds:\n",
      "Training loss: -226961.11 | Validation accuracy: 47.29% | Validation Demographic disparity: 0.0959\n",
      "\n",
      " | Global Round : 406 | constraint :  Cov(z, d) < c\n",
      "\n",
      "Client 1: accuracy loss: 3.95 | fairness loss 17165390.68 | Demographic disparity = 0.12\n"
     ]
    },
    {
     "name": "stderr",
     "output_type": "stream",
     "text": [
      " 81%|████████▏ | 407/500 [00:48<00:13,  7.04it/s]"
     ]
    },
    {
     "name": "stdout",
     "output_type": "stream",
     "text": [
      "Client 2: accuracy loss: 2.64 | fairness loss 23957106.18 | Demographic disparity = 0.13\n",
      "Client 3: accuracy loss: 3.49 | fairness loss 19546940.39 | Demographic disparity = 0.05\n",
      " \n",
      "Avg Training Stats after 406 global rounds:\n",
      "Training loss: -227385.96 | Validation accuracy: 47.91% | Validation Demographic disparity: 0.0959\n",
      "\n",
      " | Global Round : 407 | constraint :  Cov(z, d) < c\n",
      "\n",
      "Client 1: accuracy loss: 3.95 | fairness loss 17230704.41 | Demographic disparity = 0.12\n",
      "Client 2: accuracy loss: 2.64 | fairness loss 24048708.45 | Demographic disparity = 0.12\n",
      "Client 3: accuracy loss: 3.49 | fairness loss 19621697.33 | Demographic disparity = 0.05\n",
      " \n",
      "Avg Training Stats after 407 global rounds:\n",
      "Training loss: -227810.98 | Validation accuracy: 47.58% | Validation Demographic disparity: 0.0925\n",
      "\n",
      " | Global Round : 408 | constraint :  Cov(z, d) < c\n",
      "\n"
     ]
    },
    {
     "name": "stderr",
     "output_type": "stream",
     "text": [
      " 82%|████████▏ | 409/500 [00:48<00:11,  7.91it/s]"
     ]
    },
    {
     "name": "stdout",
     "output_type": "stream",
     "text": [
      "Client 1: accuracy loss: 3.95 | fairness loss 17296180.23 | Demographic disparity = 0.14\n",
      "Client 2: accuracy loss: 2.64 | fairness loss 24140536.55 | Demographic disparity = 0.13\n",
      "Client 3: accuracy loss: 3.49 | fairness loss 19696638.11 | Demographic disparity = 0.06\n",
      " \n",
      "Avg Training Stats after 408 global rounds:\n",
      "Training loss: -228236.17 | Validation accuracy: 46.93% | Validation Demographic disparity: 0.1058\n",
      "\n",
      " | Global Round : 409 | constraint :  Cov(z, d) < c\n",
      "\n",
      "Client 1: accuracy loss: 3.95 | fairness loss 17361813.91 | Demographic disparity = 0.14\n",
      "Client 2: accuracy loss: 2.64 | fairness loss 24232587.73 | Demographic disparity = 0.12\n",
      "Client 3: accuracy loss: 3.49 | fairness loss 19771759.33 | Demographic disparity = 0.06\n",
      " \n",
      "Avg Training Stats after 409 global rounds:\n",
      "Training loss: -228661.53 | Validation accuracy: 46.60% | Validation Demographic disparity: 0.1025\n",
      "\n",
      " | Global Round : 410 | constraint :  Cov(z, d) < c\n",
      "\n"
     ]
    },
    {
     "name": "stderr",
     "output_type": "stream",
     "text": [
      " 82%|████████▏ | 411/500 [00:48<00:10,  8.46it/s]"
     ]
    },
    {
     "name": "stdout",
     "output_type": "stream",
     "text": [
      "Client 1: accuracy loss: 3.95 | fairness loss 17427606.05 | Demographic disparity = 0.14\n",
      "Client 2: accuracy loss: 2.64 | fairness loss 24324864.27 | Demographic disparity = 0.13\n",
      "Client 3: accuracy loss: 3.49 | fairness loss 19847067.11 | Demographic disparity = 0.08\n",
      " \n",
      "Avg Training Stats after 410 global rounds:\n",
      "Training loss: -229087.07 | Validation accuracy: 47.32% | Validation Demographic disparity: 0.1091\n",
      "\n",
      " | Global Round : 411 | constraint :  Cov(z, d) < c\n",
      "\n",
      "Client 1: accuracy loss: 3.95 | fairness loss 17493563.34 | Demographic disparity = 0.14\n",
      "Client 2: accuracy loss: 2.64 | fairness loss 24417370.18 | Demographic disparity = 0.13\n",
      "Client 3: accuracy loss: 3.50 | fairness loss 19922561.11 | Demographic disparity = 0.08\n",
      " \n",
      "Avg Training Stats after 411 global rounds:\n",
      "Training loss: -229512.77 | Validation accuracy: 46.67% | Validation Demographic disparity: 0.1091\n",
      "\n",
      " | Global Round : 412 | constraint :  Cov(z, d) < c\n",
      "\n"
     ]
    },
    {
     "name": "stderr",
     "output_type": "stream",
     "text": [
      " 83%|████████▎ | 413/500 [00:48<00:11,  7.55it/s]"
     ]
    },
    {
     "name": "stdout",
     "output_type": "stream",
     "text": [
      "Client 1: accuracy loss: 3.95 | fairness loss 17559679.45 | Demographic disparity = 0.13\n",
      "Client 2: accuracy loss: 2.64 | fairness loss 24510103.55 | Demographic disparity = 0.14\n",
      "Client 3: accuracy loss: 3.50 | fairness loss 19998240.50 | Demographic disparity = 0.08\n",
      " \n",
      "Avg Training Stats after 412 global rounds:\n",
      "Training loss: -229938.64 | Validation accuracy: 47.29% | Validation Demographic disparity: 0.1091\n",
      "\n",
      " | Global Round : 413 | constraint :  Cov(z, d) < c\n",
      "\n",
      "Client 1: accuracy loss: 3.95 | fairness loss 17625956.75 | Demographic disparity = 0.14\n",
      "Client 2: accuracy loss: 2.64 | fairness loss 24603062.27 | Demographic disparity = 0.14\n",
      "Client 3: accuracy loss: 3.50 | fairness loss 20074105.11 | Demographic disparity = 0.08\n",
      " \n",
      "Avg Training Stats after 413 global rounds:\n",
      "Training loss: -230364.69 | Validation accuracy: 46.99% | Validation Demographic disparity: 0.1125\n",
      "\n",
      " | Global Round : 414 | constraint :  Cov(z, d) < c\n",
      "\n"
     ]
    },
    {
     "name": "stderr",
     "output_type": "stream",
     "text": [
      " 83%|████████▎ | 415/500 [00:49<00:10,  8.12it/s]"
     ]
    },
    {
     "name": "stdout",
     "output_type": "stream",
     "text": [
      "Client 1: accuracy loss: 3.95 | fairness loss 17692394.70 | Demographic disparity = 0.14\n",
      "Client 2: accuracy loss: 2.64 | fairness loss 24696245.00 | Demographic disparity = 0.13\n",
      "Client 3: accuracy loss: 3.50 | fairness loss 20150153.94 | Demographic disparity = 0.08\n",
      " \n",
      "Avg Training Stats after 414 global rounds:\n",
      "Training loss: -230790.91 | Validation accuracy: 46.67% | Validation Demographic disparity: 0.1091\n",
      "\n",
      " | Global Round : 415 | constraint :  Cov(z, d) < c\n",
      "\n",
      "Client 1: accuracy loss: 3.95 | fairness loss 17758995.57 | Demographic disparity = 0.14\n",
      "Client 2: accuracy loss: 2.64 | fairness loss 24789659.18 | Demographic disparity = 0.14\n",
      "Client 3: accuracy loss: 3.50 | fairness loss 20226387.67 | Demographic disparity = 0.06\n",
      " \n",
      "Avg Training Stats after 415 global rounds:\n",
      "Training loss: -231217.29 | Validation accuracy: 47.39% | Validation Demographic disparity: 0.1091\n",
      "\n",
      " | Global Round : 416 | constraint :  Cov(z, d) < c\n",
      "\n"
     ]
    },
    {
     "name": "stderr",
     "output_type": "stream",
     "text": [
      " 83%|████████▎ | 417/500 [00:49<00:09,  8.63it/s]"
     ]
    },
    {
     "name": "stdout",
     "output_type": "stream",
     "text": [
      "Client 1: accuracy loss: 3.96 | fairness loss 17825757.98 | Demographic disparity = 0.14\n",
      "Client 2: accuracy loss: 2.64 | fairness loss 24883299.91 | Demographic disparity = 0.13\n",
      "Client 3: accuracy loss: 3.50 | fairness loss 20302806.50 | Demographic disparity = 0.06\n",
      " \n",
      "Avg Training Stats after 416 global rounds:\n",
      "Training loss: -231643.85 | Validation accuracy: 47.06% | Validation Demographic disparity: 0.1058\n",
      "\n",
      " | Global Round : 417 | constraint :  Cov(z, d) < c\n",
      "\n",
      "Client 1: accuracy loss: 3.96 | fairness loss 17892680.93 | Demographic disparity = 0.13\n",
      "Client 2: accuracy loss: 2.64 | fairness loss 24977166.27 | Demographic disparity = 0.14\n",
      "Client 3: accuracy loss: 3.50 | fairness loss 20379413.78 | Demographic disparity = 0.06\n",
      " \n",
      "Avg Training Stats after 417 global rounds:\n",
      "Training loss: -232070.58 | Validation accuracy: 47.09% | Validation Demographic disparity: 0.1058\n",
      "\n",
      " | Global Round : 418 | constraint :  Cov(z, d) < c\n",
      "\n"
     ]
    },
    {
     "name": "stderr",
     "output_type": "stream",
     "text": [
      " 84%|████████▍ | 419/500 [00:49<00:09,  8.78it/s]"
     ]
    },
    {
     "name": "stdout",
     "output_type": "stream",
     "text": [
      "Client 1: accuracy loss: 3.96 | fairness loss 17959767.98 | Demographic disparity = 0.12\n",
      "Client 2: accuracy loss: 2.64 | fairness loss 25071264.73 | Demographic disparity = 0.14\n",
      "Client 3: accuracy loss: 3.50 | fairness loss 20456206.61 | Demographic disparity = 0.06\n",
      " \n",
      "Avg Training Stats after 418 global rounds:\n",
      "Training loss: -232497.48 | Validation accuracy: 47.39% | Validation Demographic disparity: 0.1025\n",
      "\n",
      " | Global Round : 419 | constraint :  Cov(z, d) < c\n",
      "\n",
      "Client 1: accuracy loss: 3.96 | fairness loss 18027015.70 | Demographic disparity = 0.13\n",
      "Client 2: accuracy loss: 2.64 | fairness loss 25165588.82 | Demographic disparity = 0.13\n",
      "Client 3: accuracy loss: 3.50 | fairness loss 20533185.28 | Demographic disparity = 0.06\n",
      " \n",
      "Avg Training Stats after 419 global rounds:\n",
      "Training loss: -232924.55 | Validation accuracy: 46.77% | Validation Demographic disparity: 0.1025\n",
      "\n",
      " | Global Round : 420 | constraint :  Cov(z, d) < c\n",
      "\n"
     ]
    },
    {
     "name": "stderr",
     "output_type": "stream",
     "text": [
      " 84%|████████▍ | 421/500 [00:49<00:08,  9.04it/s]"
     ]
    },
    {
     "name": "stdout",
     "output_type": "stream",
     "text": [
      "Client 1: accuracy loss: 3.96 | fairness loss 18094425.41 | Demographic disparity = 0.13\n",
      "Client 2: accuracy loss: 2.64 | fairness loss 25260142.64 | Demographic disparity = 0.14\n",
      "Client 3: accuracy loss: 3.50 | fairness loss 20610351.17 | Demographic disparity = 0.06\n",
      " \n",
      "Avg Training Stats after 420 global rounds:\n",
      "Training loss: -233351.79 | Validation accuracy: 47.09% | Validation Demographic disparity: 0.1058\n",
      "\n",
      " | Global Round : 421 | constraint :  Cov(z, d) < c\n",
      "\n",
      "Client 1: accuracy loss: 3.96 | fairness loss 18161998.70 | Demographic disparity = 0.14\n",
      "Client 2: accuracy loss: 2.64 | fairness loss 25354924.73 | Demographic disparity = 0.14\n",
      "Client 3: accuracy loss: 3.50 | fairness loss 20687704.44 | Demographic disparity = 0.08\n",
      " \n",
      "Avg Training Stats after 421 global rounds:\n",
      "Training loss: -233779.20 | Validation accuracy: 46.99% | Validation Demographic disparity: 0.1125\n",
      "\n",
      " | Global Round : 422 | constraint :  Cov(z, d) < c\n",
      "\n"
     ]
    },
    {
     "name": "stderr",
     "output_type": "stream",
     "text": [
      " 85%|████████▍ | 423/500 [00:50<00:08,  9.14it/s]"
     ]
    },
    {
     "name": "stdout",
     "output_type": "stream",
     "text": [
      "Client 1: accuracy loss: 3.96 | fairness loss 18229735.82 | Demographic disparity = 0.14\n",
      "Client 2: accuracy loss: 2.64 | fairness loss 25449939.00 | Demographic disparity = 0.13\n",
      "Client 3: accuracy loss: 3.50 | fairness loss 20765244.33 | Demographic disparity = 0.08\n",
      " \n",
      "Avg Training Stats after 422 global rounds:\n",
      "Training loss: -234206.78 | Validation accuracy: 46.67% | Validation Demographic disparity: 0.1091\n",
      "\n",
      " | Global Round : 423 | constraint :  Cov(z, d) < c\n",
      "\n",
      "Client 1: accuracy loss: 3.96 | fairness loss 18297635.59 | Demographic disparity = 0.14\n",
      "Client 2: accuracy loss: 2.64 | fairness loss 25545182.82 | Demographic disparity = 0.14\n",
      "Client 3: accuracy loss: 3.50 | fairness loss 20842973.56 | Demographic disparity = 0.08\n",
      " \n",
      "Avg Training Stats after 423 global rounds:\n",
      "Training loss: -234634.54 | Validation accuracy: 46.99% | Validation Demographic disparity: 0.1125\n",
      "\n",
      " | Global Round : 424 | constraint :  Cov(z, d) < c\n",
      "\n"
     ]
    },
    {
     "name": "stderr",
     "output_type": "stream",
     "text": [
      " 85%|████████▌ | 425/500 [00:50<00:08,  9.11it/s]"
     ]
    },
    {
     "name": "stdout",
     "output_type": "stream",
     "text": [
      "Client 1: accuracy loss: 3.96 | fairness loss 18365698.50 | Demographic disparity = 0.14\n",
      "Client 2: accuracy loss: 2.65 | fairness loss 25640654.64 | Demographic disparity = 0.14\n",
      "Client 3: accuracy loss: 3.50 | fairness loss 20920889.22 | Demographic disparity = 0.06\n",
      " \n",
      "Avg Training Stats after 424 global rounds:\n",
      "Training loss: -235062.46 | Validation accuracy: 47.39% | Validation Demographic disparity: 0.1091\n",
      "\n",
      " | Global Round : 425 | constraint :  Cov(z, d) < c\n",
      "\n",
      "Client 1: accuracy loss: 3.96 | fairness loss 18433924.02 | Demographic disparity = 0.14\n",
      "Client 2: accuracy loss: 2.65 | fairness loss 25736356.55 | Demographic disparity = 0.13\n",
      "Client 3: accuracy loss: 3.50 | fairness loss 20998990.78 | Demographic disparity = 0.08\n",
      " \n",
      "Avg Training Stats after 425 global rounds:\n",
      "Training loss: -235490.56 | Validation accuracy: 46.67% | Validation Demographic disparity: 0.1091\n",
      "\n",
      " | Global Round : 426 | constraint :  Cov(z, d) < c\n",
      "\n"
     ]
    },
    {
     "name": "stderr",
     "output_type": "stream",
     "text": [
      " 85%|████████▌ | 427/500 [00:50<00:08,  9.06it/s]"
     ]
    },
    {
     "name": "stdout",
     "output_type": "stream",
     "text": [
      "Client 1: accuracy loss: 3.96 | fairness loss 18502313.93 | Demographic disparity = 0.13\n",
      "Client 2: accuracy loss: 2.65 | fairness loss 25832288.82 | Demographic disparity = 0.13\n",
      "Client 3: accuracy loss: 3.50 | fairness loss 21077284.67 | Demographic disparity = 0.08\n",
      " \n",
      "Avg Training Stats after 426 global rounds:\n",
      "Training loss: -235918.82 | Validation accuracy: 46.96% | Validation Demographic disparity: 0.1037\n",
      "\n",
      " | Global Round : 427 | constraint :  Cov(z, d) < c\n",
      "\n",
      "Client 1: accuracy loss: 3.97 | fairness loss 18570868.70 | Demographic disparity = 0.14\n",
      "Client 2: accuracy loss: 2.65 | fairness loss 25928452.27 | Demographic disparity = 0.13\n",
      "Client 3: accuracy loss: 3.50 | fairness loss 21155765.22 | Demographic disparity = 0.08\n",
      " \n",
      "Avg Training Stats after 427 global rounds:\n",
      "Training loss: -236347.26 | Validation accuracy: 46.67% | Validation Demographic disparity: 0.1070\n",
      "\n",
      " | Global Round : 428 | constraint :  Cov(z, d) < c\n",
      "\n"
     ]
    },
    {
     "name": "stderr",
     "output_type": "stream",
     "text": [
      " 86%|████████▌ | 429/500 [00:50<00:07,  9.15it/s]"
     ]
    },
    {
     "name": "stdout",
     "output_type": "stream",
     "text": [
      "Client 1: accuracy loss: 3.97 | fairness loss 18639585.89 | Demographic disparity = 0.13\n",
      "Client 2: accuracy loss: 2.65 | fairness loss 26024848.91 | Demographic disparity = 0.13\n",
      "Client 3: accuracy loss: 3.51 | fairness loss 21234435.44 | Demographic disparity = 0.08\n",
      " \n",
      "Avg Training Stats after 428 global rounds:\n",
      "Training loss: -236775.87 | Validation accuracy: 46.96% | Validation Demographic disparity: 0.1037\n",
      "\n",
      " | Global Round : 429 | constraint :  Cov(z, d) < c\n",
      "\n",
      "Client 1: accuracy loss: 3.97 | fairness loss 18708471.25 | Demographic disparity = 0.13\n",
      "Client 2: accuracy loss: 2.65 | fairness loss 26121478.91 | Demographic disparity = 0.13\n",
      "Client 3: accuracy loss: 3.51 | fairness loss 21313296.56 | Demographic disparity = 0.08\n",
      " \n",
      "Avg Training Stats after 429 global rounds:\n",
      "Training loss: -237204.65 | Validation accuracy: 46.96% | Validation Demographic disparity: 0.1037\n",
      "\n",
      " | Global Round : 430 | constraint :  Cov(z, d) < c\n",
      "\n"
     ]
    },
    {
     "name": "stderr",
     "output_type": "stream",
     "text": [
      " 86%|████████▌ | 431/500 [00:50<00:07,  9.11it/s]"
     ]
    },
    {
     "name": "stdout",
     "output_type": "stream",
     "text": [
      "Client 1: accuracy loss: 3.97 | fairness loss 18777519.68 | Demographic disparity = 0.14\n",
      "Client 2: accuracy loss: 2.65 | fairness loss 26218338.64 | Demographic disparity = 0.13\n",
      "Client 3: accuracy loss: 3.51 | fairness loss 21392344.78 | Demographic disparity = 0.08\n",
      " \n",
      "Avg Training Stats after 430 global rounds:\n",
      "Training loss: -237633.60 | Validation accuracy: 46.67% | Validation Demographic disparity: 0.1070\n",
      "\n",
      " | Global Round : 431 | constraint :  Cov(z, d) < c\n",
      "\n",
      "Client 1: accuracy loss: 3.97 | fairness loss 18846736.45 | Demographic disparity = 0.14\n",
      "Client 2: accuracy loss: 2.65 | fairness loss 26315436.73 | Demographic disparity = 0.13\n",
      "Client 3: accuracy loss: 3.51 | fairness loss 21471586.67 | Demographic disparity = 0.08\n",
      " \n",
      "Avg Training Stats after 431 global rounds:\n",
      "Training loss: -238062.72 | Validation accuracy: 46.67% | Validation Demographic disparity: 0.1070\n",
      "\n",
      " | Global Round : 432 | constraint :  Cov(z, d) < c\n",
      "\n"
     ]
    },
    {
     "name": "stderr",
     "output_type": "stream",
     "text": [
      " 87%|████████▋ | 433/500 [00:51<00:07,  9.12it/s]"
     ]
    },
    {
     "name": "stdout",
     "output_type": "stream",
     "text": [
      "Client 1: accuracy loss: 3.97 | fairness loss 18916113.20 | Demographic disparity = 0.14\n",
      "Client 2: accuracy loss: 2.65 | fairness loss 26412759.18 | Demographic disparity = 0.13\n",
      "Client 3: accuracy loss: 3.51 | fairness loss 21551013.44 | Demographic disparity = 0.08\n",
      " \n",
      "Avg Training Stats after 432 global rounds:\n",
      "Training loss: -238492.01 | Validation accuracy: 46.01% | Validation Demographic disparity: 0.1091\n",
      "\n",
      " | Global Round : 433 | constraint :  Cov(z, d) < c\n",
      "\n",
      "Client 1: accuracy loss: 3.97 | fairness loss 18985657.64 | Demographic disparity = 0.14\n",
      "Client 2: accuracy loss: 2.65 | fairness loss 26510317.73 | Demographic disparity = 0.14\n",
      "Client 3: accuracy loss: 3.51 | fairness loss 21630630.22 | Demographic disparity = 0.08\n",
      " \n",
      "Avg Training Stats after 433 global rounds:\n",
      "Training loss: -238921.47 | Validation accuracy: 46.34% | Validation Demographic disparity: 0.1125\n",
      "\n",
      " | Global Round : 434 | constraint :  Cov(z, d) < c\n",
      "\n"
     ]
    },
    {
     "name": "stderr",
     "output_type": "stream",
     "text": [
      " 87%|████████▋ | 435/500 [00:51<00:08,  7.88it/s]"
     ]
    },
    {
     "name": "stdout",
     "output_type": "stream",
     "text": [
      "Client 1: accuracy loss: 3.97 | fairness loss 19055366.95 | Demographic disparity = 0.14\n",
      "Client 2: accuracy loss: 2.65 | fairness loss 26608110.00 | Demographic disparity = 0.14\n",
      "Client 3: accuracy loss: 3.51 | fairness loss 21710440.56 | Demographic disparity = 0.08\n",
      " \n",
      "Avg Training Stats after 434 global rounds:\n",
      "Training loss: -239351.10 | Validation accuracy: 46.34% | Validation Demographic disparity: 0.1125\n",
      "\n",
      " | Global Round : 435 | constraint :  Cov(z, d) < c\n",
      "\n",
      "Client 1: accuracy loss: 3.97 | fairness loss 19125243.14 | Demographic disparity = 0.13\n",
      "Client 2: accuracy loss: 2.65 | fairness loss 26706134.55 | Demographic disparity = 0.14\n",
      "Client 3: accuracy loss: 3.51 | fairness loss 21790440.22 | Demographic disparity = 0.08\n",
      " \n",
      "Avg Training Stats after 435 global rounds:\n",
      "Training loss: -239780.91 | Validation accuracy: 46.63% | Validation Demographic disparity: 0.1091\n",
      "\n",
      " | Global Round : 436 | constraint :  Cov(z, d) < c\n",
      "\n"
     ]
    },
    {
     "name": "stderr",
     "output_type": "stream",
     "text": [
      " 87%|████████▋ | 437/500 [00:51<00:07,  7.88it/s]"
     ]
    },
    {
     "name": "stdout",
     "output_type": "stream",
     "text": [
      "Client 1: accuracy loss: 3.97 | fairness loss 19195285.86 | Demographic disparity = 0.14\n",
      "Client 2: accuracy loss: 2.65 | fairness loss 26804395.64 | Demographic disparity = 0.13\n",
      "Client 3: accuracy loss: 3.51 | fairness loss 21870633.89 | Demographic disparity = 0.08\n",
      " \n",
      "Avg Training Stats after 436 global rounds:\n",
      "Training loss: -240210.88 | Validation accuracy: 46.01% | Validation Demographic disparity: 0.1091\n",
      "\n",
      " | Global Round : 437 | constraint :  Cov(z, d) < c\n",
      "\n",
      "Client 1: accuracy loss: 3.97 | fairness loss 19265496.05 | Demographic disparity = 0.14\n",
      "Client 2: accuracy loss: 2.65 | fairness loss 26902890.27 | Demographic disparity = 0.14\n",
      "Client 3: accuracy loss: 3.51 | fairness loss 21951016.89 | Demographic disparity = 0.08\n",
      " \n",
      "Avg Training Stats after 437 global rounds:\n",
      "Training loss: -240641.03 | Validation accuracy: 46.34% | Validation Demographic disparity: 0.1125\n",
      "\n",
      " | Global Round : 438 | constraint :  Cov(z, d) < c\n",
      "\n"
     ]
    },
    {
     "name": "stderr",
     "output_type": "stream",
     "text": [
      " 88%|████████▊ | 439/500 [00:51<00:07,  8.33it/s]"
     ]
    },
    {
     "name": "stdout",
     "output_type": "stream",
     "text": [
      "Client 1: accuracy loss: 3.98 | fairness loss 19335871.91 | Demographic disparity = 0.14\n",
      "Client 2: accuracy loss: 2.65 | fairness loss 27001620.73 | Demographic disparity = 0.14\n",
      "Client 3: accuracy loss: 3.51 | fairness loss 22031591.67 | Demographic disparity = 0.08\n",
      " \n",
      "Avg Training Stats after 438 global rounds:\n",
      "Training loss: -241071.35 | Validation accuracy: 46.34% | Validation Demographic disparity: 0.1125\n",
      "\n",
      " | Global Round : 439 | constraint :  Cov(z, d) < c\n",
      "\n",
      "Client 1: accuracy loss: 3.98 | fairness loss 19406414.91 | Demographic disparity = 0.14\n",
      "Client 2: accuracy loss: 2.65 | fairness loss 27100586.09 | Demographic disparity = 0.14\n",
      "Client 3: accuracy loss: 3.51 | fairness loss 22112358.89 | Demographic disparity = 0.09\n",
      " \n",
      "Avg Training Stats after 439 global rounds:\n",
      "Training loss: -241501.83 | Validation accuracy: 45.95% | Validation Demographic disparity: 0.1158\n",
      "\n",
      " | Global Round : 440 | constraint :  Cov(z, d) < c\n",
      "\n"
     ]
    },
    {
     "name": "stderr",
     "output_type": "stream",
     "text": [
      " 88%|████████▊ | 441/500 [00:52<00:06,  8.77it/s]"
     ]
    },
    {
     "name": "stdout",
     "output_type": "stream",
     "text": [
      "Client 1: accuracy loss: 3.98 | fairness loss 19477124.75 | Demographic disparity = 0.14\n",
      "Client 2: accuracy loss: 2.65 | fairness loss 27199785.27 | Demographic disparity = 0.14\n",
      "Client 3: accuracy loss: 3.51 | fairness loss 22193318.11 | Demographic disparity = 0.09\n",
      " \n",
      "Avg Training Stats after 440 global rounds:\n",
      "Training loss: -241932.49 | Validation accuracy: 45.95% | Validation Demographic disparity: 0.1158\n",
      "\n",
      " | Global Round : 441 | constraint :  Cov(z, d) < c\n",
      "\n",
      "Client 1: accuracy loss: 3.98 | fairness loss 19548000.95 | Demographic disparity = 0.15\n",
      "Client 2: accuracy loss: 2.65 | fairness loss 27299218.45 | Demographic disparity = 0.14\n",
      "Client 3: accuracy loss: 3.51 | fairness loss 22274467.56 | Demographic disparity = 0.09\n",
      " \n",
      "Avg Training Stats after 441 global rounds:\n",
      "Training loss: -242363.32 | Validation accuracy: 46.24% | Validation Demographic disparity: 0.1191\n",
      "\n",
      " | Global Round : 442 | constraint :  Cov(z, d) < c\n",
      "\n"
     ]
    },
    {
     "name": "stderr",
     "output_type": "stream",
     "text": [
      " 89%|████████▊ | 443/500 [00:52<00:06,  9.05it/s]"
     ]
    },
    {
     "name": "stdout",
     "output_type": "stream",
     "text": [
      "Client 1: accuracy loss: 3.98 | fairness loss 19619045.82 | Demographic disparity = 0.15\n",
      "Client 2: accuracy loss: 2.65 | fairness loss 27398890.27 | Demographic disparity = 0.14\n",
      "Client 3: accuracy loss: 3.51 | fairness loss 22355810.44 | Demographic disparity = 0.09\n",
      " \n",
      "Avg Training Stats after 442 global rounds:\n",
      "Training loss: -242794.33 | Validation accuracy: 45.66% | Validation Demographic disparity: 0.1191\n",
      "\n",
      " | Global Round : 443 | constraint :  Cov(z, d) < c\n",
      "\n",
      "Client 1: accuracy loss: 3.98 | fairness loss 19690257.89 | Demographic disparity = 0.14\n",
      "Client 2: accuracy loss: 2.65 | fairness loss 27498795.64 | Demographic disparity = 0.14\n",
      "Client 3: accuracy loss: 3.51 | fairness loss 22437346.56 | Demographic disparity = 0.09\n",
      " \n",
      "Avg Training Stats after 443 global rounds:\n",
      "Training loss: -243225.50 | Validation accuracy: 45.95% | Validation Demographic disparity: 0.1158\n",
      "\n",
      " | Global Round : 444 | constraint :  Cov(z, d) < c\n",
      "\n"
     ]
    },
    {
     "name": "stderr",
     "output_type": "stream",
     "text": [
      " 89%|████████▉ | 445/500 [00:52<00:06,  9.01it/s]"
     ]
    },
    {
     "name": "stdout",
     "output_type": "stream",
     "text": [
      "Client 1: accuracy loss: 3.98 | fairness loss 19761637.16 | Demographic disparity = 0.15\n",
      "Client 2: accuracy loss: 2.65 | fairness loss 27598939.45 | Demographic disparity = 0.14\n",
      "Client 3: accuracy loss: 3.51 | fairness loss 22519075.11 | Demographic disparity = 0.09\n",
      " \n",
      "Avg Training Stats after 444 global rounds:\n",
      "Training loss: -243656.84 | Validation accuracy: 45.95% | Validation Demographic disparity: 0.1224\n",
      "\n",
      " | Global Round : 445 | constraint :  Cov(z, d) < c\n",
      "\n",
      "Client 1: accuracy loss: 3.98 | fairness loss 19833184.16 | Demographic disparity = 0.15\n",
      "Client 2: accuracy loss: 2.65 | fairness loss 27699316.91 | Demographic disparity = 0.14\n",
      "Client 3: accuracy loss: 3.52 | fairness loss 22600995.89 | Demographic disparity = 0.09\n",
      " \n",
      "Avg Training Stats after 445 global rounds:\n",
      "Training loss: -244088.36 | Validation accuracy: 45.66% | Validation Demographic disparity: 0.1191\n",
      "\n",
      " | Global Round : 446 | constraint :  Cov(z, d) < c\n",
      "\n"
     ]
    },
    {
     "name": "stderr",
     "output_type": "stream",
     "text": [
      " 89%|████████▉ | 447/500 [00:52<00:05,  9.17it/s]"
     ]
    },
    {
     "name": "stdout",
     "output_type": "stream",
     "text": [
      "Client 1: accuracy loss: 3.98 | fairness loss 19904900.20 | Demographic disparity = 0.14\n",
      "Client 2: accuracy loss: 2.65 | fairness loss 27799933.82 | Demographic disparity = 0.14\n",
      "Client 3: accuracy loss: 3.52 | fairness loss 22683111.67 | Demographic disparity = 0.09\n",
      " \n",
      "Avg Training Stats after 446 global rounds:\n",
      "Training loss: -244520.04 | Validation accuracy: 45.95% | Validation Demographic disparity: 0.1158\n",
      "\n",
      " | Global Round : 447 | constraint :  Cov(z, d) < c\n",
      "\n",
      "Client 1: accuracy loss: 3.98 | fairness loss 19976784.23 | Demographic disparity = 0.15\n",
      "Client 2: accuracy loss: 2.65 | fairness loss 27900786.36 | Demographic disparity = 0.14\n",
      "Client 3: accuracy loss: 3.52 | fairness loss 22765418.00 | Demographic disparity = 0.09\n",
      " \n",
      "Avg Training Stats after 447 global rounds:\n",
      "Training loss: -244951.90 | Validation accuracy: 45.95% | Validation Demographic disparity: 0.1224\n",
      "\n",
      " | Global Round : 448 | constraint :  Cov(z, d) < c\n",
      "\n"
     ]
    },
    {
     "name": "stderr",
     "output_type": "stream",
     "text": [
      " 90%|████████▉ | 449/500 [00:53<00:05,  9.16it/s]"
     ]
    },
    {
     "name": "stdout",
     "output_type": "stream",
     "text": [
      "Client 1: accuracy loss: 3.98 | fairness loss 20048838.11 | Demographic disparity = 0.14\n",
      "Client 2: accuracy loss: 2.65 | fairness loss 28001877.91 | Demographic disparity = 0.14\n",
      "Client 3: accuracy loss: 3.52 | fairness loss 22847922.00 | Demographic disparity = 0.09\n",
      " \n",
      "Avg Training Stats after 448 global rounds:\n",
      "Training loss: -245383.92 | Validation accuracy: 45.95% | Validation Demographic disparity: 0.1158\n",
      "\n",
      " | Global Round : 449 | constraint :  Cov(z, d) < c\n",
      "\n",
      "Client 1: accuracy loss: 3.98 | fairness loss 20121062.34 | Demographic disparity = 0.15\n",
      "Client 2: accuracy loss: 2.65 | fairness loss 28103209.45 | Demographic disparity = 0.14\n",
      "Client 3: accuracy loss: 3.52 | fairness loss 22930621.89 | Demographic disparity = 0.09\n",
      " \n",
      "Avg Training Stats after 449 global rounds:\n",
      "Training loss: -245816.12 | Validation accuracy: 45.95% | Validation Demographic disparity: 0.1224\n",
      "\n",
      " | Global Round : 450 | constraint :  Cov(z, d) < c\n",
      "\n"
     ]
    },
    {
     "name": "stderr",
     "output_type": "stream",
     "text": [
      " 90%|█████████ | 451/500 [00:53<00:05,  9.18it/s]"
     ]
    },
    {
     "name": "stdout",
     "output_type": "stream",
     "text": [
      "Client 1: accuracy loss: 3.99 | fairness loss 20193454.20 | Demographic disparity = 0.15\n",
      "Client 2: accuracy loss: 2.65 | fairness loss 28204778.09 | Demographic disparity = 0.14\n",
      "Client 3: accuracy loss: 3.52 | fairness loss 23013514.44 | Demographic disparity = 0.09\n",
      " \n",
      "Avg Training Stats after 450 global rounds:\n",
      "Training loss: -246248.49 | Validation accuracy: 45.66% | Validation Demographic disparity: 0.1191\n",
      "\n",
      " | Global Round : 451 | constraint :  Cov(z, d) < c\n",
      "\n",
      "Client 1: accuracy loss: 3.99 | fairness loss 20266017.73 | Demographic disparity = 0.15\n",
      "Client 2: accuracy loss: 2.65 | fairness loss 28306589.73 | Demographic disparity = 0.14\n",
      "Client 3: accuracy loss: 3.52 | fairness loss 23096604.33 | Demographic disparity = 0.09\n",
      " \n",
      "Avg Training Stats after 451 global rounds:\n",
      "Training loss: -246681.03 | Validation accuracy: 45.95% | Validation Demographic disparity: 0.1224\n",
      "\n",
      " | Global Round : 452 | constraint :  Cov(z, d) < c\n",
      "\n"
     ]
    },
    {
     "name": "stderr",
     "output_type": "stream",
     "text": [
      " 91%|█████████ | 453/500 [00:53<00:05,  9.18it/s]"
     ]
    },
    {
     "name": "stdout",
     "output_type": "stream",
     "text": [
      "Client 1: accuracy loss: 3.99 | fairness loss 20338750.89 | Demographic disparity = 0.15\n",
      "Client 2: accuracy loss: 2.66 | fairness loss 28408639.36 | Demographic disparity = 0.14\n",
      "Client 3: accuracy loss: 3.52 | fairness loss 23179890.33 | Demographic disparity = 0.09\n",
      " \n",
      "Avg Training Stats after 452 global rounds:\n",
      "Training loss: -247113.75 | Validation accuracy: 45.66% | Validation Demographic disparity: 0.1191\n",
      "\n",
      " | Global Round : 453 | constraint :  Cov(z, d) < c\n",
      "\n",
      "Client 1: accuracy loss: 3.99 | fairness loss 20411655.61 | Demographic disparity = 0.15\n",
      "Client 2: accuracy loss: 2.66 | fairness loss 28510926.45 | Demographic disparity = 0.14\n",
      "Client 3: accuracy loss: 3.52 | fairness loss 23263370.56 | Demographic disparity = 0.08\n",
      " \n",
      "Avg Training Stats after 453 global rounds:\n",
      "Training loss: -247546.63 | Validation accuracy: 46.34% | Validation Demographic disparity: 0.1191\n",
      "\n",
      " | Global Round : 454 | constraint :  Cov(z, d) < c\n",
      "\n"
     ]
    },
    {
     "name": "stderr",
     "output_type": "stream",
     "text": [
      " 91%|█████████ | 455/500 [00:53<00:04,  9.18it/s]"
     ]
    },
    {
     "name": "stdout",
     "output_type": "stream",
     "text": [
      "Client 1: accuracy loss: 3.99 | fairness loss 20484727.68 | Demographic disparity = 0.15\n",
      "Client 2: accuracy loss: 2.66 | fairness loss 28613455.00 | Demographic disparity = 0.14\n",
      "Client 3: accuracy loss: 3.52 | fairness loss 23347045.22 | Demographic disparity = 0.08\n",
      " \n",
      "Avg Training Stats after 454 global rounds:\n",
      "Training loss: -247979.68 | Validation accuracy: 46.05% | Validation Demographic disparity: 0.1158\n",
      "\n",
      " | Global Round : 455 | constraint :  Cov(z, d) < c\n",
      "\n",
      "Client 1: accuracy loss: 3.99 | fairness loss 20557970.20 | Demographic disparity = 0.15\n",
      "Client 2: accuracy loss: 2.66 | fairness loss 28716221.09 | Demographic disparity = 0.14\n",
      "Client 3: accuracy loss: 3.52 | fairness loss 23430916.33 | Demographic disparity = 0.08\n",
      " \n",
      "Avg Training Stats after 455 global rounds:\n",
      "Training loss: -248412.91 | Validation accuracy: 46.05% | Validation Demographic disparity: 0.1158\n",
      "\n",
      " | Global Round : 456 | constraint :  Cov(z, d) < c\n",
      "\n"
     ]
    },
    {
     "name": "stderr",
     "output_type": "stream",
     "text": [
      " 91%|█████████▏| 457/500 [00:53<00:04,  9.21it/s]"
     ]
    },
    {
     "name": "stdout",
     "output_type": "stream",
     "text": [
      "Client 1: accuracy loss: 3.99 | fairness loss 20631383.07 | Demographic disparity = 0.14\n",
      "Client 2: accuracy loss: 2.66 | fairness loss 28819230.55 | Demographic disparity = 0.14\n",
      "Client 3: accuracy loss: 3.52 | fairness loss 23514983.44 | Demographic disparity = 0.08\n",
      " \n",
      "Avg Training Stats after 456 global rounds:\n",
      "Training loss: -248846.31 | Validation accuracy: 45.76% | Validation Demographic disparity: 0.1125\n",
      "\n",
      " | Global Round : 457 | constraint :  Cov(z, d) < c\n",
      "\n",
      "Client 1: accuracy loss: 3.99 | fairness loss 20704967.86 | Demographic disparity = 0.15\n",
      "Client 2: accuracy loss: 2.66 | fairness loss 28922476.09 | Demographic disparity = 0.14\n",
      "Client 3: accuracy loss: 3.52 | fairness loss 23599246.44 | Demographic disparity = 0.08\n",
      " \n",
      "Avg Training Stats after 457 global rounds:\n",
      "Training loss: -249279.88 | Validation accuracy: 46.05% | Validation Demographic disparity: 0.1158\n",
      "\n",
      " | Global Round : 458 | constraint :  Cov(z, d) < c\n",
      "\n"
     ]
    },
    {
     "name": "stderr",
     "output_type": "stream",
     "text": [
      " 92%|█████████▏| 459/500 [00:54<00:04,  8.90it/s]"
     ]
    },
    {
     "name": "stdout",
     "output_type": "stream",
     "text": [
      "Client 1: accuracy loss: 3.99 | fairness loss 20778726.27 | Demographic disparity = 0.15\n",
      "Client 2: accuracy loss: 2.66 | fairness loss 29025968.00 | Demographic disparity = 0.14\n",
      "Client 3: accuracy loss: 3.52 | fairness loss 23683708.44 | Demographic disparity = 0.08\n",
      " \n",
      "Avg Training Stats after 458 global rounds:\n",
      "Training loss: -249713.61 | Validation accuracy: 46.05% | Validation Demographic disparity: 0.1158\n",
      "\n",
      " | Global Round : 459 | constraint :  Cov(z, d) < c\n",
      "\n",
      "Client 1: accuracy loss: 3.99 | fairness loss 20852655.98 | Demographic disparity = 0.15\n",
      "Client 2: accuracy loss: 2.66 | fairness loss 29129702.00 | Demographic disparity = 0.14\n",
      "Client 3: accuracy loss: 3.52 | fairness loss 23768368.78 | Demographic disparity = 0.08\n",
      " \n",
      "Avg Training Stats after 459 global rounds:\n",
      "Training loss: -250147.53 | Validation accuracy: 46.34% | Validation Demographic disparity: 0.1191\n",
      "\n",
      " | Global Round : 460 | constraint :  Cov(z, d) < c\n",
      "\n"
     ]
    },
    {
     "name": "stderr",
     "output_type": "stream",
     "text": [
      " 92%|█████████▏| 461/500 [00:54<00:04,  8.92it/s]"
     ]
    },
    {
     "name": "stdout",
     "output_type": "stream",
     "text": [
      "Client 1: accuracy loss: 3.99 | fairness loss 20926755.50 | Demographic disparity = 0.15\n",
      "Client 2: accuracy loss: 2.66 | fairness loss 29233673.55 | Demographic disparity = 0.14\n",
      "Client 3: accuracy loss: 3.52 | fairness loss 23853222.22 | Demographic disparity = 0.09\n",
      " \n",
      "Avg Training Stats after 460 global rounds:\n",
      "Training loss: -250581.61 | Validation accuracy: 46.44% | Validation Demographic disparity: 0.1191\n",
      "\n",
      " | Global Round : 461 | constraint :  Cov(z, d) < c\n",
      "\n",
      "Client 1: accuracy loss: 4.00 | fairness loss 21001027.73 | Demographic disparity = 0.15\n",
      "Client 2: accuracy loss: 2.66 | fairness loss 29337887.45 | Demographic disparity = 0.14\n",
      "Client 3: accuracy loss: 3.52 | fairness loss 23938276.78 | Demographic disparity = 0.09\n",
      " \n",
      "Avg Training Stats after 461 global rounds:\n",
      "Training loss: -251015.86 | Validation accuracy: 46.73% | Validation Demographic disparity: 0.1224\n",
      "\n",
      " | Global Round : 462 | constraint :  Cov(z, d) < c\n",
      "\n"
     ]
    },
    {
     "name": "stderr",
     "output_type": "stream",
     "text": [
      " 93%|█████████▎| 463/500 [00:54<00:04,  9.06it/s]"
     ]
    },
    {
     "name": "stdout",
     "output_type": "stream",
     "text": [
      "Client 1: accuracy loss: 4.00 | fairness loss 21075470.18 | Demographic disparity = 0.15\n",
      "Client 2: accuracy loss: 2.66 | fairness loss 29442345.55 | Demographic disparity = 0.14\n",
      "Client 3: accuracy loss: 3.53 | fairness loss 24023528.00 | Demographic disparity = 0.09\n",
      " \n",
      "Avg Training Stats after 462 global rounds:\n",
      "Training loss: -251450.29 | Validation accuracy: 46.44% | Validation Demographic disparity: 0.1191\n",
      "\n",
      " | Global Round : 463 | constraint :  Cov(z, d) < c\n",
      "\n",
      "Client 1: accuracy loss: 4.00 | fairness loss 21150084.45 | Demographic disparity = 0.15\n",
      "Client 2: accuracy loss: 2.66 | fairness loss 29547043.00 | Demographic disparity = 0.14\n",
      "Client 3: accuracy loss: 3.53 | fairness loss 24108975.33 | Demographic disparity = 0.09\n",
      " \n",
      "Avg Training Stats after 463 global rounds:\n",
      "Training loss: -251884.88 | Validation accuracy: 46.73% | Validation Demographic disparity: 0.1224\n",
      "\n",
      " | Global Round : 464 | constraint :  Cov(z, d) < c\n",
      "\n"
     ]
    },
    {
     "name": "stderr",
     "output_type": "stream",
     "text": [
      " 93%|█████████▎| 465/500 [00:54<00:03,  9.13it/s]"
     ]
    },
    {
     "name": "stdout",
     "output_type": "stream",
     "text": [
      "Client 1: accuracy loss: 4.00 | fairness loss 21224873.95 | Demographic disparity = 0.15\n",
      "Client 2: accuracy loss: 2.66 | fairness loss 29651988.18 | Demographic disparity = 0.14\n",
      "Client 3: accuracy loss: 3.53 | fairness loss 24194624.33 | Demographic disparity = 0.09\n",
      " \n",
      "Avg Training Stats after 464 global rounds:\n",
      "Training loss: -252319.65 | Validation accuracy: 46.73% | Validation Demographic disparity: 0.1224\n",
      "\n",
      " | Global Round : 465 | constraint :  Cov(z, d) < c\n",
      "\n",
      "Client 1: accuracy loss: 4.00 | fairness loss 21299836.05 | Demographic disparity = 0.15\n",
      "Client 2: accuracy loss: 2.66 | fairness loss 29757176.64 | Demographic disparity = 0.14\n",
      "Client 3: accuracy loss: 3.53 | fairness loss 24280471.78 | Demographic disparity = 0.09\n",
      " \n",
      "Avg Training Stats after 465 global rounds:\n",
      "Training loss: -252754.59 | Validation accuracy: 46.73% | Validation Demographic disparity: 0.1224\n",
      "\n",
      " | Global Round : 466 | constraint :  Cov(z, d) < c\n",
      "\n"
     ]
    },
    {
     "name": "stderr",
     "output_type": "stream",
     "text": [
      " 93%|█████████▎| 467/500 [00:55<00:03,  9.14it/s]"
     ]
    },
    {
     "name": "stdout",
     "output_type": "stream",
     "text": [
      "Client 1: accuracy loss: 4.00 | fairness loss 21374971.00 | Demographic disparity = 0.16\n",
      "Client 2: accuracy loss: 2.66 | fairness loss 29862606.73 | Demographic disparity = 0.14\n",
      "Client 3: accuracy loss: 3.53 | fairness loss 24366516.56 | Demographic disparity = 0.09\n",
      " \n",
      "Avg Training Stats after 466 global rounds:\n",
      "Training loss: -253189.70 | Validation accuracy: 46.44% | Validation Demographic disparity: 0.1258\n",
      "\n",
      " | Global Round : 467 | constraint :  Cov(z, d) < c\n",
      "\n",
      "Client 1: accuracy loss: 4.00 | fairness loss 21450278.73 | Demographic disparity = 0.15\n",
      "Client 2: accuracy loss: 2.66 | fairness loss 29968282.64 | Demographic disparity = 0.14\n",
      "Client 3: accuracy loss: 3.53 | fairness loss 24452762.33 | Demographic disparity = 0.09\n",
      " \n",
      "Avg Training Stats after 467 global rounds:\n",
      "Training loss: -253624.98 | Validation accuracy: 46.15% | Validation Demographic disparity: 0.1224\n",
      "\n",
      " | Global Round : 468 | constraint :  Cov(z, d) < c\n",
      "\n"
     ]
    },
    {
     "name": "stderr",
     "output_type": "stream",
     "text": [
      " 94%|█████████▍| 469/500 [00:55<00:03,  9.21it/s]"
     ]
    },
    {
     "name": "stdout",
     "output_type": "stream",
     "text": [
      "Client 1: accuracy loss: 4.00 | fairness loss 21525759.27 | Demographic disparity = 0.16\n",
      "Client 2: accuracy loss: 2.66 | fairness loss 30074200.91 | Demographic disparity = 0.14\n",
      "Client 3: accuracy loss: 3.53 | fairness loss 24539206.33 | Demographic disparity = 0.09\n",
      " \n",
      "Avg Training Stats after 468 global rounds:\n",
      "Training loss: -254060.43 | Validation accuracy: 46.44% | Validation Demographic disparity: 0.1258\n",
      "\n",
      " | Global Round : 469 | constraint :  Cov(z, d) < c\n",
      "\n",
      "Client 1: accuracy loss: 4.00 | fairness loss 21601418.18 | Demographic disparity = 0.16\n",
      "Client 2: accuracy loss: 2.66 | fairness loss 30180367.27 | Demographic disparity = 0.14\n",
      "Client 3: accuracy loss: 3.53 | fairness loss 24625852.22 | Demographic disparity = 0.09\n",
      " \n",
      "Avg Training Stats after 469 global rounds:\n",
      "Training loss: -254496.06 | Validation accuracy: 46.44% | Validation Demographic disparity: 0.1258\n",
      "\n",
      " | Global Round : 470 | constraint :  Cov(z, d) < c\n",
      "\n"
     ]
    },
    {
     "name": "stderr",
     "output_type": "stream",
     "text": [
      " 94%|█████████▍| 471/500 [00:55<00:03,  9.14it/s]"
     ]
    },
    {
     "name": "stdout",
     "output_type": "stream",
     "text": [
      "Client 1: accuracy loss: 4.00 | fairness loss 21677248.64 | Demographic disparity = 0.15\n",
      "Client 2: accuracy loss: 2.66 | fairness loss 30286778.36 | Demographic disparity = 0.14\n",
      "Client 3: accuracy loss: 3.53 | fairness loss 24712698.44 | Demographic disparity = 0.09\n",
      " \n",
      "Avg Training Stats after 470 global rounds:\n",
      "Training loss: -254931.86 | Validation accuracy: 46.15% | Validation Demographic disparity: 0.1224\n",
      "\n",
      " | Global Round : 471 | constraint :  Cov(z, d) < c\n",
      "\n",
      "Client 1: accuracy loss: 4.00 | fairness loss 21753254.14 | Demographic disparity = 0.16\n",
      "Client 2: accuracy loss: 2.66 | fairness loss 30393434.09 | Demographic disparity = 0.14\n",
      "Client 3: accuracy loss: 3.53 | fairness loss 24799743.33 | Demographic disparity = 0.09\n",
      " \n",
      "Avg Training Stats after 471 global rounds:\n",
      "Training loss: -255367.82 | Validation accuracy: 46.44% | Validation Demographic disparity: 0.1258\n",
      "\n",
      " | Global Round : 472 | constraint :  Cov(z, d) < c\n",
      "\n"
     ]
    },
    {
     "name": "stderr",
     "output_type": "stream",
     "text": [
      " 95%|█████████▍| 473/500 [00:55<00:02,  9.12it/s]"
     ]
    },
    {
     "name": "stdout",
     "output_type": "stream",
     "text": [
      "Client 1: accuracy loss: 4.01 | fairness loss 21829431.77 | Demographic disparity = 0.16\n",
      "Client 2: accuracy loss: 2.66 | fairness loss 30500334.36 | Demographic disparity = 0.14\n",
      "Client 3: accuracy loss: 3.53 | fairness loss 24886988.67 | Demographic disparity = 0.09\n",
      " \n",
      "Avg Training Stats after 472 global rounds:\n",
      "Training loss: -255803.96 | Validation accuracy: 46.44% | Validation Demographic disparity: 0.1258\n",
      "\n",
      " | Global Round : 473 | constraint :  Cov(z, d) < c\n",
      "\n",
      "Client 1: accuracy loss: 4.01 | fairness loss 21905784.73 | Demographic disparity = 0.17\n",
      "Client 2: accuracy loss: 2.66 | fairness loss 30607482.64 | Demographic disparity = 0.14\n",
      "Client 3: accuracy loss: 3.53 | fairness loss 24974434.22 | Demographic disparity = 0.09\n",
      " \n",
      "Avg Training Stats after 473 global rounds:\n",
      "Training loss: -256240.27 | Validation accuracy: 46.15% | Validation Demographic disparity: 0.1291\n",
      "\n",
      " | Global Round : 474 | constraint :  Cov(z, d) < c\n",
      "\n"
     ]
    },
    {
     "name": "stderr",
     "output_type": "stream",
     "text": [
      " 95%|█████████▌| 475/500 [00:55<00:02,  8.99it/s]"
     ]
    },
    {
     "name": "stdout",
     "output_type": "stream",
     "text": [
      "Client 1: accuracy loss: 4.01 | fairness loss 21982311.41 | Demographic disparity = 0.17\n",
      "Client 2: accuracy loss: 2.66 | fairness loss 30714874.00 | Demographic disparity = 0.14\n",
      "Client 3: accuracy loss: 3.53 | fairness loss 25062081.56 | Demographic disparity = 0.09\n",
      " \n",
      "Avg Training Stats after 474 global rounds:\n",
      "Training loss: -256676.76 | Validation accuracy: 46.15% | Validation Demographic disparity: 0.1291\n",
      "\n",
      " | Global Round : 475 | constraint :  Cov(z, d) < c\n",
      "\n",
      "Client 1: accuracy loss: 4.01 | fairness loss 22059015.41 | Demographic disparity = 0.17\n",
      "Client 2: accuracy loss: 2.66 | fairness loss 30822513.64 | Demographic disparity = 0.14\n",
      "Client 3: accuracy loss: 3.53 | fairness loss 25149930.11 | Demographic disparity = 0.09\n",
      " \n",
      "Avg Training Stats after 475 global rounds:\n",
      "Training loss: -257113.41 | Validation accuracy: 46.15% | Validation Demographic disparity: 0.1291\n",
      "\n",
      " | Global Round : 476 | constraint :  Cov(z, d) < c\n",
      "\n"
     ]
    },
    {
     "name": "stderr",
     "output_type": "stream",
     "text": [
      " 95%|█████████▌| 477/500 [00:56<00:02,  9.01it/s]"
     ]
    },
    {
     "name": "stdout",
     "output_type": "stream",
     "text": [
      "Client 1: accuracy loss: 4.01 | fairness loss 22135895.41 | Demographic disparity = 0.17\n",
      "Client 2: accuracy loss: 2.66 | fairness loss 30930399.18 | Demographic disparity = 0.14\n",
      "Client 3: accuracy loss: 3.53 | fairness loss 25237981.22 | Demographic disparity = 0.10\n",
      " \n",
      "Avg Training Stats after 476 global rounds:\n",
      "Training loss: -257550.24 | Validation accuracy: 45.76% | Validation Demographic disparity: 0.1324\n",
      "\n",
      " | Global Round : 477 | constraint :  Cov(z, d) < c\n",
      "\n",
      "Client 1: accuracy loss: 4.01 | fairness loss 22212948.77 | Demographic disparity = 0.17\n",
      "Client 2: accuracy loss: 2.66 | fairness loss 31038532.55 | Demographic disparity = 0.14\n",
      "Client 3: accuracy loss: 3.53 | fairness loss 25326234.00 | Demographic disparity = 0.10\n",
      " \n",
      "Avg Training Stats after 477 global rounds:\n",
      "Training loss: -257987.23 | Validation accuracy: 45.76% | Validation Demographic disparity: 0.1324\n",
      "\n",
      " | Global Round : 478 | constraint :  Cov(z, d) < c\n",
      "\n"
     ]
    },
    {
     "name": "stderr",
     "output_type": "stream",
     "text": [
      " 96%|█████████▌| 479/500 [00:56<00:02,  8.97it/s]"
     ]
    },
    {
     "name": "stdout",
     "output_type": "stream",
     "text": [
      "Client 1: accuracy loss: 4.01 | fairness loss 22290178.41 | Demographic disparity = 0.18\n",
      "Client 2: accuracy loss: 2.66 | fairness loss 31146913.55 | Demographic disparity = 0.14\n",
      "Client 3: accuracy loss: 3.53 | fairness loss 25414687.33 | Demographic disparity = 0.10\n",
      " \n",
      "Avg Training Stats after 478 global rounds:\n",
      "Training loss: -258424.40 | Validation accuracy: 45.46% | Validation Demographic disparity: 0.1357\n",
      "\n",
      " | Global Round : 479 | constraint :  Cov(z, d) < c\n",
      "\n",
      "Client 1: accuracy loss: 4.01 | fairness loss 22367587.86 | Demographic disparity = 0.17\n",
      "Client 2: accuracy loss: 2.66 | fairness loss 31255543.91 | Demographic disparity = 0.14\n",
      "Client 3: accuracy loss: 3.54 | fairness loss 25503345.78 | Demographic disparity = 0.09\n",
      " \n",
      "Avg Training Stats after 479 global rounds:\n",
      "Training loss: -258861.74 | Validation accuracy: 44.78% | Validation Demographic disparity: 0.1291\n",
      "\n",
      " | Global Round : 480 | constraint :  Cov(z, d) < c\n",
      "\n"
     ]
    },
    {
     "name": "stderr",
     "output_type": "stream",
     "text": [
      " 96%|█████████▌| 481/500 [00:56<00:02,  8.72it/s]"
     ]
    },
    {
     "name": "stdout",
     "output_type": "stream",
     "text": [
      "Client 1: accuracy loss: 4.01 | fairness loss 22445170.73 | Demographic disparity = 0.18\n",
      "Client 2: accuracy loss: 2.66 | fairness loss 31364424.00 | Demographic disparity = 0.14\n",
      "Client 3: accuracy loss: 3.54 | fairness loss 25592205.44 | Demographic disparity = 0.09\n",
      " \n",
      "Avg Training Stats after 480 global rounds:\n",
      "Training loss: -259299.26 | Validation accuracy: 45.07% | Validation Demographic disparity: 0.1324\n",
      "\n",
      " | Global Round : 481 | constraint :  Cov(z, d) < c\n",
      "\n",
      "Client 1: accuracy loss: 4.01 | fairness loss 22522930.50 | Demographic disparity = 0.18\n",
      "Client 2: accuracy loss: 2.67 | fairness loss 31473553.27 | Demographic disparity = 0.14\n",
      "Client 3: accuracy loss: 3.54 | fairness loss 25681269.44 | Demographic disparity = 0.09\n",
      " \n",
      "Avg Training Stats after 481 global rounds:\n",
      "Training loss: -259736.94 | Validation accuracy: 45.07% | Validation Demographic disparity: 0.1324\n",
      "\n",
      " | Global Round : 482 | constraint :  Cov(z, d) < c\n",
      "\n"
     ]
    },
    {
     "name": "stderr",
     "output_type": "stream",
     "text": [
      " 97%|█████████▋| 483/500 [00:56<00:01,  8.76it/s]"
     ]
    },
    {
     "name": "stdout",
     "output_type": "stream",
     "text": [
      "Client 1: accuracy loss: 4.01 | fairness loss 22600868.77 | Demographic disparity = 0.18\n",
      "Client 2: accuracy loss: 2.67 | fairness loss 31582929.27 | Demographic disparity = 0.14\n",
      "Client 3: accuracy loss: 3.54 | fairness loss 25770537.11 | Demographic disparity = 0.09\n",
      " \n",
      "Avg Training Stats after 482 global rounds:\n",
      "Training loss: -260174.80 | Validation accuracy: 45.07% | Validation Demographic disparity: 0.1324\n",
      "\n",
      " | Global Round : 483 | constraint :  Cov(z, d) < c\n",
      "\n",
      "Client 1: accuracy loss: 4.02 | fairness loss 22678983.23 | Demographic disparity = 0.18\n",
      "Client 2: accuracy loss: 2.67 | fairness loss 31692556.45 | Demographic disparity = 0.14\n",
      "Client 3: accuracy loss: 3.54 | fairness loss 25860010.33 | Demographic disparity = 0.09\n",
      " \n",
      "Avg Training Stats after 483 global rounds:\n",
      "Training loss: -260612.83 | Validation accuracy: 45.07% | Validation Demographic disparity: 0.1324\n",
      "\n",
      " | Global Round : 484 | constraint :  Cov(z, d) < c\n",
      "\n"
     ]
    },
    {
     "name": "stderr",
     "output_type": "stream",
     "text": [
      " 97%|█████████▋| 485/500 [00:57<00:01,  8.74it/s]"
     ]
    },
    {
     "name": "stdout",
     "output_type": "stream",
     "text": [
      "Client 1: accuracy loss: 4.02 | fairness loss 22757274.73 | Demographic disparity = 0.19\n",
      "Client 2: accuracy loss: 2.67 | fairness loss 31802432.91 | Demographic disparity = 0.14\n",
      "Client 3: accuracy loss: 3.54 | fairness loss 25949682.44 | Demographic disparity = 0.09\n",
      " \n",
      "Avg Training Stats after 484 global rounds:\n",
      "Training loss: -261051.03 | Validation accuracy: 44.78% | Validation Demographic disparity: 0.1357\n",
      "\n",
      " | Global Round : 485 | constraint :  Cov(z, d) < c\n",
      "\n",
      "Client 1: accuracy loss: 4.02 | fairness loss 22835743.05 | Demographic disparity = 0.19\n",
      "Client 2: accuracy loss: 2.67 | fairness loss 31912561.09 | Demographic disparity = 0.14\n",
      "Client 3: accuracy loss: 3.54 | fairness loss 26039563.44 | Demographic disparity = 0.09\n",
      " \n",
      "Avg Training Stats after 485 global rounds:\n",
      "Training loss: -261489.40 | Validation accuracy: 44.78% | Validation Demographic disparity: 0.1357\n",
      "\n",
      " | Global Round : 486 | constraint :  Cov(z, d) < c\n",
      "\n"
     ]
    },
    {
     "name": "stderr",
     "output_type": "stream",
     "text": [
      " 97%|█████████▋| 487/500 [00:57<00:01,  8.50it/s]"
     ]
    },
    {
     "name": "stdout",
     "output_type": "stream",
     "text": [
      "Client 1: accuracy loss: 4.02 | fairness loss 22914390.45 | Demographic disparity = 0.19\n",
      "Client 2: accuracy loss: 2.67 | fairness loss 32022933.73 | Demographic disparity = 0.14\n",
      "Client 3: accuracy loss: 3.54 | fairness loss 26129644.33 | Demographic disparity = 0.09\n",
      " \n",
      "Avg Training Stats after 486 global rounds:\n",
      "Training loss: -261927.94 | Validation accuracy: 44.78% | Validation Demographic disparity: 0.1357\n",
      "\n",
      " | Global Round : 487 | constraint :  Cov(z, d) < c\n",
      "\n",
      "Client 1: accuracy loss: 4.02 | fairness loss 22993215.00 | Demographic disparity = 0.19\n",
      "Client 2: accuracy loss: 2.67 | fairness loss 32133562.55 | Demographic disparity = 0.14\n",
      "Client 3: accuracy loss: 3.54 | fairness loss 26219933.78 | Demographic disparity = 0.09\n",
      " \n",
      "Avg Training Stats after 487 global rounds:\n",
      "Training loss: -262366.66 | Validation accuracy: 44.78% | Validation Demographic disparity: 0.1357\n",
      "\n",
      " | Global Round : 488 | constraint :  Cov(z, d) < c\n",
      "\n"
     ]
    },
    {
     "name": "stderr",
     "output_type": "stream",
     "text": [
      " 98%|█████████▊| 489/500 [00:57<00:01,  8.60it/s]"
     ]
    },
    {
     "name": "stdout",
     "output_type": "stream",
     "text": [
      "Client 1: accuracy loss: 4.02 | fairness loss 23072218.00 | Demographic disparity = 0.19\n",
      "Client 2: accuracy loss: 2.67 | fairness loss 32244440.82 | Demographic disparity = 0.14\n",
      "Client 3: accuracy loss: 3.54 | fairness loss 26310426.44 | Demographic disparity = 0.09\n",
      " \n",
      "Avg Training Stats after 488 global rounds:\n",
      "Training loss: -262805.55 | Validation accuracy: 44.78% | Validation Demographic disparity: 0.1357\n",
      "\n",
      " | Global Round : 489 | constraint :  Cov(z, d) < c\n",
      "\n",
      "Client 1: accuracy loss: 4.02 | fairness loss 23151402.09 | Demographic disparity = 0.19\n",
      "Client 2: accuracy loss: 2.67 | fairness loss 32355574.00 | Demographic disparity = 0.14\n",
      "Client 3: accuracy loss: 3.54 | fairness loss 26401127.44 | Demographic disparity = 0.10\n",
      " \n",
      "Avg Training Stats after 489 global rounds:\n",
      "Training loss: -263244.61 | Validation accuracy: 44.39% | Validation Demographic disparity: 0.1390\n",
      "\n",
      " | Global Round : 490 | constraint :  Cov(z, d) < c\n",
      "\n"
     ]
    },
    {
     "name": "stderr",
     "output_type": "stream",
     "text": [
      " 98%|█████████▊| 491/500 [00:57<00:01,  8.80it/s]"
     ]
    },
    {
     "name": "stdout",
     "output_type": "stream",
     "text": [
      "Client 1: accuracy loss: 4.02 | fairness loss 23230760.77 | Demographic disparity = 0.19\n",
      "Client 2: accuracy loss: 2.67 | fairness loss 32466953.45 | Demographic disparity = 0.14\n",
      "Client 3: accuracy loss: 3.54 | fairness loss 26492029.44 | Demographic disparity = 0.10\n",
      " \n",
      "Avg Training Stats after 490 global rounds:\n",
      "Training loss: -263683.84 | Validation accuracy: 44.39% | Validation Demographic disparity: 0.1390\n",
      "\n",
      " | Global Round : 491 | constraint :  Cov(z, d) < c\n",
      "\n",
      "Client 1: accuracy loss: 4.02 | fairness loss 23310301.55 | Demographic disparity = 0.19\n",
      "Client 2: accuracy loss: 2.67 | fairness loss 32578589.55 | Demographic disparity = 0.14\n",
      "Client 3: accuracy loss: 3.54 | fairness loss 26583141.00 | Demographic disparity = 0.10\n",
      " \n",
      "Avg Training Stats after 491 global rounds:\n",
      "Training loss: -264123.24 | Validation accuracy: 44.39% | Validation Demographic disparity: 0.1390\n",
      "\n",
      " | Global Round : 492 | constraint :  Cov(z, d) < c\n",
      "\n"
     ]
    },
    {
     "name": "stderr",
     "output_type": "stream",
     "text": [
      " 99%|█████████▊| 493/500 [00:57<00:00,  8.90it/s]"
     ]
    },
    {
     "name": "stdout",
     "output_type": "stream",
     "text": [
      "Client 1: accuracy loss: 4.02 | fairness loss 23390022.59 | Demographic disparity = 0.19\n",
      "Client 2: accuracy loss: 2.67 | fairness loss 32690475.36 | Demographic disparity = 0.14\n",
      "Client 3: accuracy loss: 3.54 | fairness loss 26674456.44 | Demographic disparity = 0.10\n",
      " \n",
      "Avg Training Stats after 492 global rounds:\n",
      "Training loss: -264562.82 | Validation accuracy: 44.39% | Validation Demographic disparity: 0.1390\n",
      "\n",
      " | Global Round : 493 | constraint :  Cov(z, d) < c\n",
      "\n",
      "Client 1: accuracy loss: 4.02 | fairness loss 23469921.68 | Demographic disparity = 0.19\n",
      "Client 2: accuracy loss: 2.67 | fairness loss 32802615.82 | Demographic disparity = 0.14\n",
      "Client 3: accuracy loss: 3.54 | fairness loss 26765979.67 | Demographic disparity = 0.10\n",
      " \n",
      "Avg Training Stats after 493 global rounds:\n",
      "Training loss: -265002.56 | Validation accuracy: 44.39% | Validation Demographic disparity: 0.1390\n",
      "\n",
      " | Global Round : 494 | constraint :  Cov(z, d) < c\n",
      "\n"
     ]
    },
    {
     "name": "stderr",
     "output_type": "stream",
     "text": [
      " 99%|█████████▉| 495/500 [00:58<00:00,  9.02it/s]"
     ]
    },
    {
     "name": "stdout",
     "output_type": "stream",
     "text": [
      "Client 1: accuracy loss: 4.02 | fairness loss 23550003.09 | Demographic disparity = 0.19\n",
      "Client 2: accuracy loss: 2.67 | fairness loss 32915012.27 | Demographic disparity = 0.14\n",
      "Client 3: accuracy loss: 3.54 | fairness loss 26857713.33 | Demographic disparity = 0.10\n",
      " \n",
      "Avg Training Stats after 494 global rounds:\n",
      "Training loss: -265442.48 | Validation accuracy: 44.39% | Validation Demographic disparity: 0.1390\n",
      "\n",
      " | Global Round : 495 | constraint :  Cov(z, d) < c\n",
      "\n",
      "Client 1: accuracy loss: 4.03 | fairness loss 23630265.50 | Demographic disparity = 0.19\n",
      "Client 2: accuracy loss: 2.67 | fairness loss 33027662.55 | Demographic disparity = 0.14\n",
      "Client 3: accuracy loss: 3.55 | fairness loss 26949652.44 | Demographic disparity = 0.10\n",
      " \n",
      "Avg Training Stats after 495 global rounds:\n",
      "Training loss: -265882.58 | Validation accuracy: 44.39% | Validation Demographic disparity: 0.1390\n",
      "\n",
      " | Global Round : 496 | constraint :  Cov(z, d) < c\n",
      "\n"
     ]
    },
    {
     "name": "stderr",
     "output_type": "stream",
     "text": [
      " 99%|█████████▉| 497/500 [00:58<00:00,  9.13it/s]"
     ]
    },
    {
     "name": "stdout",
     "output_type": "stream",
     "text": [
      "Client 1: accuracy loss: 4.03 | fairness loss 23710705.86 | Demographic disparity = 0.19\n",
      "Client 2: accuracy loss: 2.67 | fairness loss 33140566.82 | Demographic disparity = 0.14\n",
      "Client 3: accuracy loss: 3.55 | fairness loss 27041796.89 | Demographic disparity = 0.10\n",
      " \n",
      "Avg Training Stats after 496 global rounds:\n",
      "Training loss: -266322.84 | Validation accuracy: 44.39% | Validation Demographic disparity: 0.1390\n",
      "\n",
      " | Global Round : 497 | constraint :  Cov(z, d) < c\n",
      "\n",
      "Client 1: accuracy loss: 4.03 | fairness loss 23791325.23 | Demographic disparity = 0.19\n",
      "Client 2: accuracy loss: 2.67 | fairness loss 33253719.18 | Demographic disparity = 0.14\n",
      "Client 3: accuracy loss: 3.55 | fairness loss 27134148.00 | Demographic disparity = 0.10\n",
      " \n",
      "Avg Training Stats after 497 global rounds:\n",
      "Training loss: -266763.28 | Validation accuracy: 44.39% | Validation Demographic disparity: 0.1390\n",
      "\n",
      " | Global Round : 498 | constraint :  Cov(z, d) < c\n",
      "\n"
     ]
    },
    {
     "name": "stderr",
     "output_type": "stream",
     "text": [
      "100%|█████████▉| 499/500 [00:58<00:00,  8.05it/s]"
     ]
    },
    {
     "name": "stdout",
     "output_type": "stream",
     "text": [
      "Client 1: accuracy loss: 4.03 | fairness loss 23872128.68 | Demographic disparity = 0.19\n",
      "Client 2: accuracy loss: 2.67 | fairness loss 33367131.82 | Demographic disparity = 0.14\n",
      "Client 3: accuracy loss: 3.55 | fairness loss 27226708.56 | Demographic disparity = 0.11\n",
      " \n",
      "Avg Training Stats after 498 global rounds:\n",
      "Training loss: -267203.89 | Validation accuracy: 44.78% | Validation Demographic disparity: 0.1424\n",
      "\n",
      " | Global Round : 499 | constraint :  Cov(z, d) < c\n",
      "\n",
      "Client 1: accuracy loss: 4.03 | fairness loss 23953110.82 | Demographic disparity = 0.19\n",
      "Client 2: accuracy loss: 2.67 | fairness loss 33480797.64 | Demographic disparity = 0.14\n",
      "Client 3: accuracy loss: 3.55 | fairness loss 27319477.56 | Demographic disparity = 0.11\n",
      " \n",
      "Avg Training Stats after 499 global rounds:\n",
      "Training loss: -267644.67 | Validation accuracy: 44.78% | Validation Demographic disparity: 0.1424\n",
      "\n",
      " | Global Round : 500 | constraint :  Cov(z, d) < c\n",
      "\n"
     ]
    },
    {
     "name": "stderr",
     "output_type": "stream",
     "text": [
      "100%|██████████| 500/500 [00:58<00:00,  8.50it/s]"
     ]
    },
    {
     "name": "stdout",
     "output_type": "stream",
     "text": [
      "Client 1: accuracy loss: 4.03 | fairness loss 24034274.59 | Demographic disparity = 0.19\n",
      "Client 2: accuracy loss: 2.67 | fairness loss 33594716.36 | Demographic disparity = 0.14\n",
      "Client 3: accuracy loss: 3.55 | fairness loss 27412453.44 | Demographic disparity = 0.11\n",
      " \n",
      "Avg Training Stats after 500 global rounds:\n",
      "Training loss: -268085.62 | Validation accuracy: 44.78% | Validation Demographic disparity: 0.1424\n",
      " \n",
      " Results after 500 global rounds of training:\n",
      "|---- Avg Train Accuracy: 44.78%\n",
      "|---- Test Accuracy: 51.33%\n",
      "|---- Test Demographic disparity: 0.1054\n",
      "\n",
      " Total Run Time: 83.6061 sec\n"
     ]
    },
    {
     "name": "stderr",
     "output_type": "stream",
     "text": [
      "\n"
     ]
    }
   ],
   "source": [
    "seed = 95\n",
    "server = Server(logReg(num_features=3, num_classes=2, seed = seed), synthetic_info, train_prn = False, metric = \"Demographic disparity\", seed = seed)\n",
    "server.Zafar(test_rounds = 100, test_lr = 0.002, test_penalty = 50000, num_rounds = 500, local_epochs = 1, optimizer = 'adam', learning_rate = 0.001, penalty = 50000)\n"
   ]
  },
  {
   "cell_type": "code",
   "execution_count": 7,
   "metadata": {
    "scrolled": true
   },
   "outputs": [
    {
     "name": "stderr",
     "output_type": "stream",
     "text": [
      "\n",
      "  0%|          | 0/20 [00:00<?, ?it/s]\u001b[A"
     ]
    },
    {
     "name": "stdout",
     "output_type": "stream",
     "text": [
      "\n",
      " | Global Training Round : 1 |\n",
      "\n"
     ]
    },
    {
     "name": "stderr",
     "output_type": "stream",
     "text": [
      "\n",
      "  5%|▌         | 1/20 [00:02<00:51,  2.70s/it]\u001b[A"
     ]
    },
    {
     "name": "stdout",
     "output_type": "stream",
     "text": [
      "Client 1: accuracy loss: 3.41 | fairness loss 2067.98 | Demographic disparity = 0.51\n",
      "Client 2: accuracy loss: 2.24 | fairness loss 3085.07 | Demographic disparity = 0.38\n",
      "Client 3: accuracy loss: 3.05 | fairness loss 2598.96 | Demographic disparity = 0.39\n",
      " \n",
      "Avg Training Stats after 1 global rounds:\n",
      "Training loss: 3273.50 | Validation accuracy: 86.69% | Validation Demographic disparity: 0.4162\n",
      "\n",
      " | Global Training Round : 2 |\n",
      "\n"
     ]
    },
    {
     "name": "stderr",
     "output_type": "stream",
     "text": [
      "\n",
      " 10%|█         | 2/20 [00:05<00:50,  2.78s/it]\u001b[A"
     ]
    },
    {
     "name": "stdout",
     "output_type": "stream",
     "text": [
      "Client 1: accuracy loss: 3.51 | fairness loss 1653.04 | Demographic disparity = 0.49\n",
      "Client 2: accuracy loss: 2.36 | fairness loss 2458.94 | Demographic disparity = 0.38\n",
      "Client 3: accuracy loss: 3.16 | fairness loss 2076.59 | Demographic disparity = 0.39\n",
      " \n",
      "Avg Training Stats after 2 global rounds:\n",
      "Training loss: 2959.79 | Validation accuracy: 86.69% | Validation Demographic disparity: 0.4095\n",
      "\n",
      " | Global Training Round : 3 |\n",
      "\n"
     ]
    },
    {
     "name": "stderr",
     "output_type": "stream",
     "text": [
      "\n",
      " 15%|█▌        | 3/20 [00:08<00:45,  2.67s/it]\u001b[A"
     ]
    },
    {
     "name": "stdout",
     "output_type": "stream",
     "text": [
      "Client 1: accuracy loss: 3.61 | fairness loss 1278.74 | Demographic disparity = 0.45\n",
      "Client 2: accuracy loss: 2.51 | fairness loss 1910.20 | Demographic disparity = 0.36\n",
      "Client 3: accuracy loss: 3.29 | fairness loss 1615.41 | Demographic disparity = 0.38\n",
      " \n",
      "Avg Training Stats after 3 global rounds:\n",
      "Training loss: 2671.19 | Validation accuracy: 86.79% | Validation Demographic disparity: 0.3920\n",
      "\n",
      " | Global Training Round : 4 |\n",
      "\n"
     ]
    },
    {
     "name": "stderr",
     "output_type": "stream",
     "text": [
      "\n",
      " 20%|██        | 4/20 [00:10<00:40,  2.56s/it]\u001b[A"
     ]
    },
    {
     "name": "stdout",
     "output_type": "stream",
     "text": [
      "Client 1: accuracy loss: 3.74 | fairness loss 952.65 | Demographic disparity = 0.45\n",
      "Client 2: accuracy loss: 2.71 | fairness loss 1432.95 | Demographic disparity = 0.35\n",
      "Client 3: accuracy loss: 3.45 | fairness loss 1213.55 | Demographic disparity = 0.36\n",
      " \n",
      "Avg Training Stats after 4 global rounds:\n",
      "Training loss: 2405.81 | Validation accuracy: 86.07% | Validation Demographic disparity: 0.3811\n",
      "\n",
      " | Global Training Round : 5 |\n",
      "\n"
     ]
    },
    {
     "name": "stderr",
     "output_type": "stream",
     "text": [
      "\n",
      " 25%|██▌       | 5/20 [00:12<00:36,  2.43s/it]\u001b[A"
     ]
    },
    {
     "name": "stdout",
     "output_type": "stream",
     "text": [
      "Client 1: accuracy loss: 3.92 | fairness loss 675.90 | Demographic disparity = 0.45\n",
      "Client 2: accuracy loss: 2.96 | fairness loss 1026.46 | Demographic disparity = 0.34\n",
      "Client 3: accuracy loss: 3.66 | fairness loss 870.88 | Demographic disparity = 0.36\n",
      " \n",
      "Avg Training Stats after 5 global rounds:\n",
      "Training loss: 2163.34 | Validation accuracy: 85.75% | Validation Demographic disparity: 0.3778\n",
      "\n",
      " | Global Training Round : 6 |\n",
      "\n"
     ]
    },
    {
     "name": "stderr",
     "output_type": "stream",
     "text": [
      "\n",
      " 30%|███       | 6/20 [00:14<00:33,  2.39s/it]\u001b[A"
     ]
    },
    {
     "name": "stdout",
     "output_type": "stream",
     "text": [
      "Client 1: accuracy loss: 4.17 | fairness loss 448.41 | Demographic disparity = 0.45\n",
      "Client 2: accuracy loss: 3.28 | fairness loss 690.21 | Demographic disparity = 0.33\n",
      "Client 3: accuracy loss: 3.94 | fairness loss 587.10 | Demographic disparity = 0.36\n",
      " \n",
      "Avg Training Stats after 6 global rounds:\n",
      "Training loss: 1943.65 | Validation accuracy: 86.07% | Validation Demographic disparity: 0.3723\n",
      "\n",
      " | Global Training Round : 7 |\n",
      "\n"
     ]
    },
    {
     "name": "stderr",
     "output_type": "stream",
     "text": [
      "\n",
      " 35%|███▌      | 7/20 [00:17<00:31,  2.43s/it]\u001b[A"
     ]
    },
    {
     "name": "stdout",
     "output_type": "stream",
     "text": [
      "Client 1: accuracy loss: 4.50 | fairness loss 269.70 | Demographic disparity = 0.45\n",
      "Client 2: accuracy loss: 3.69 | fairness loss 423.57 | Demographic disparity = 0.30\n",
      "Client 3: accuracy loss: 4.28 | fairness loss 361.74 | Demographic disparity = 0.35\n",
      " \n",
      "Avg Training Stats after 7 global rounds:\n",
      "Training loss: 1746.66 | Validation accuracy: 86.14% | Validation Demographic disparity: 0.3505\n",
      "\n",
      " | Global Training Round : 8 |\n",
      "\n"
     ]
    },
    {
     "name": "stderr",
     "output_type": "stream",
     "text": [
      "\n",
      " 40%|████      | 8/20 [00:19<00:28,  2.34s/it]\u001b[A"
     ]
    },
    {
     "name": "stdout",
     "output_type": "stream",
     "text": [
      "Client 1: accuracy loss: 4.92 | fairness loss 138.95 | Demographic disparity = 0.45\n",
      "Client 2: accuracy loss: 4.20 | fairness loss 225.60 | Demographic disparity = 0.30\n",
      "Client 3: accuracy loss: 4.71 | fairness loss 194.04 | Demographic disparity = 0.32\n",
      " \n",
      "Avg Training Stats after 8 global rounds:\n",
      "Training loss: 1572.25 | Validation accuracy: 86.01% | Validation Demographic disparity: 0.3375\n",
      "\n",
      " | Global Training Round : 9 |\n",
      "\n"
     ]
    },
    {
     "name": "stderr",
     "output_type": "stream",
     "text": [
      "\n",
      " 45%|████▌     | 9/20 [00:21<00:25,  2.31s/it]\u001b[A"
     ]
    },
    {
     "name": "stdout",
     "output_type": "stream",
     "text": [
      "Client 1: accuracy loss: 5.45 | fairness loss 54.72 | Demographic disparity = 0.34\n",
      "Client 2: accuracy loss: 4.83 | fairness loss 94.54 | Demographic disparity = 0.28\n",
      "Client 3: accuracy loss: 5.23 | fairness loss 82.59 | Demographic disparity = 0.25\n",
      " \n",
      "Avg Training Stats after 9 global rounds:\n",
      "Training loss: 1420.23 | Validation accuracy: 83.01% | Validation Demographic disparity: 0.2821\n",
      "\n",
      " | Global Training Round : 10 |\n",
      "\n"
     ]
    },
    {
     "name": "stderr",
     "output_type": "stream",
     "text": [
      "\n",
      " 50%|█████     | 10/20 [00:23<00:23,  2.30s/it]\u001b[A"
     ]
    },
    {
     "name": "stdout",
     "output_type": "stream",
     "text": [
      "Client 1: accuracy loss: 6.05 | fairness loss 13.61 | Demographic disparity = 0.24\n",
      "Client 2: accuracy loss: 5.52 | fairness loss 26.31 | Demographic disparity = 0.23\n",
      "Client 3: accuracy loss: 5.78 | fairness loss 23.99 | Demographic disparity = 0.07\n",
      " \n",
      "Avg Training Stats after 10 global rounds:\n",
      "Training loss: 1290.20 | Validation accuracy: 75.07% | Validation Demographic disparity: 0.1776\n",
      "\n",
      " | Global Training Round : 11 |\n",
      "\n"
     ]
    },
    {
     "name": "stderr",
     "output_type": "stream",
     "text": [
      "\n",
      " 55%|█████▌    | 11/20 [00:26<00:21,  2.36s/it]\u001b[A"
     ]
    },
    {
     "name": "stdout",
     "output_type": "stream",
     "text": [
      "Client 1: accuracy loss: 6.44 | fairness loss 3.57 | Demographic disparity = 0.06\n",
      "Client 2: accuracy loss: 5.99 | fairness loss 6.96 | Demographic disparity = 0.02\n",
      "Client 3: accuracy loss: 6.15 | fairness loss 6.55 | Demographic disparity = 0.01\n",
      " \n",
      "Avg Training Stats after 11 global rounds:\n",
      "Training loss: 1181.04 | Validation accuracy: 65.28% | Validation Demographic disparity: 0.0080\n",
      "\n",
      " | Global Training Round : 12 |\n",
      "\n"
     ]
    },
    {
     "name": "stderr",
     "output_type": "stream",
     "text": [
      "\n",
      " 60%|██████    | 12/20 [00:29<00:19,  2.46s/it]\u001b[A"
     ]
    },
    {
     "name": "stdout",
     "output_type": "stream",
     "text": [
      "Client 1: accuracy loss: 6.50 | fairness loss 1.58 | Demographic disparity = 0.00\n",
      "Client 2: accuracy loss: 6.11 | fairness loss 3.29 | Demographic disparity = 0.03\n",
      "Client 3: accuracy loss: 6.22 | fairness loss 2.82 | Demographic disparity = 0.02\n",
      " \n",
      "Avg Training Stats after 12 global rounds:\n",
      "Training loss: 1089.58 | Validation accuracy: 62.44% | Validation Demographic disparity: 0.0239\n",
      "\n",
      " | Global Training Round : 13 |\n",
      "\n"
     ]
    },
    {
     "name": "stderr",
     "output_type": "stream",
     "text": [
      "\n",
      " 65%|██████▌   | 13/20 [00:31<00:17,  2.50s/it]\u001b[A"
     ]
    },
    {
     "name": "stdout",
     "output_type": "stream",
     "text": [
      "Client 1: accuracy loss: 6.50 | fairness loss 1.29 | Demographic disparity = 0.00\n",
      "Client 2: accuracy loss: 6.13 | fairness loss 2.65 | Demographic disparity = 0.03\n",
      "Client 3: accuracy loss: 6.22 | fairness loss 2.17 | Demographic disparity = 0.03\n",
      " \n",
      "Avg Training Stats after 13 global rounds:\n",
      "Training loss: 1012.09 | Validation accuracy: 62.83% | Validation Demographic disparity: 0.0272\n",
      "\n",
      " | Global Training Round : 14 |\n",
      "\n"
     ]
    },
    {
     "name": "stderr",
     "output_type": "stream",
     "text": [
      "\n",
      " 70%|███████   | 14/20 [00:35<00:17,  2.90s/it]\u001b[A"
     ]
    },
    {
     "name": "stdout",
     "output_type": "stream",
     "text": [
      "Client 1: accuracy loss: 6.48 | fairness loss 1.16 | Demographic disparity = 0.00\n",
      "Client 2: accuracy loss: 6.13 | fairness loss 2.32 | Demographic disparity = 0.03\n",
      "Client 3: accuracy loss: 6.21 | fairness loss 1.86 | Demographic disparity = 0.03\n",
      " \n",
      "Avg Training Stats after 14 global rounds:\n",
      "Training loss: 945.63 | Validation accuracy: 62.83% | Validation Demographic disparity: 0.0272\n",
      "\n",
      " | Global Training Round : 15 |\n",
      "\n"
     ]
    },
    {
     "name": "stderr",
     "output_type": "stream",
     "text": [
      "\n",
      " 75%|███████▌  | 15/20 [00:39<00:16,  3.21s/it]\u001b[A"
     ]
    },
    {
     "name": "stdout",
     "output_type": "stream",
     "text": [
      "Client 1: accuracy loss: 6.46 | fairness loss 1.12 | Demographic disparity = 0.00\n",
      "Client 2: accuracy loss: 6.13 | fairness loss 2.13 | Demographic disparity = 0.03\n",
      "Client 3: accuracy loss: 6.20 | fairness loss 1.69 | Demographic disparity = 0.02\n",
      " \n",
      "Avg Training Stats after 15 global rounds:\n",
      "Training loss: 888.02 | Validation accuracy: 62.44% | Validation Demographic disparity: 0.0218\n",
      "\n",
      " | Global Training Round : 16 |\n",
      "\n"
     ]
    },
    {
     "name": "stderr",
     "output_type": "stream",
     "text": [
      "\n",
      " 80%|████████  | 16/20 [00:41<00:11,  2.92s/it]\u001b[A"
     ]
    },
    {
     "name": "stdout",
     "output_type": "stream",
     "text": [
      "Client 1: accuracy loss: 6.46 | fairness loss 1.12 | Demographic disparity = 0.00\n",
      "Client 2: accuracy loss: 6.12 | fairness loss 2.04 | Demographic disparity = 0.03\n",
      "Client 3: accuracy loss: 6.20 | fairness loss 1.64 | Demographic disparity = 0.02\n",
      " \n",
      "Avg Training Stats after 16 global rounds:\n",
      "Training loss: 837.60 | Validation accuracy: 62.44% | Validation Demographic disparity: 0.0218\n",
      "\n",
      " | Global Training Round : 17 |\n",
      "\n"
     ]
    },
    {
     "name": "stderr",
     "output_type": "stream",
     "text": [
      "\n",
      " 85%|████████▌ | 17/20 [00:43<00:07,  2.67s/it]\u001b[A"
     ]
    },
    {
     "name": "stdout",
     "output_type": "stream",
     "text": [
      "Client 1: accuracy loss: 6.47 | fairness loss 1.14 | Demographic disparity = 0.00\n",
      "Client 2: accuracy loss: 6.12 | fairness loss 2.01 | Demographic disparity = 0.03\n",
      "Client 3: accuracy loss: 6.19 | fairness loss 1.63 | Demographic disparity = 0.02\n",
      " \n",
      "Avg Training Stats after 17 global rounds:\n",
      "Training loss: 793.10 | Validation accuracy: 62.44% | Validation Demographic disparity: 0.0218\n",
      "\n",
      " | Global Training Round : 18 |\n",
      "\n"
     ]
    },
    {
     "name": "stderr",
     "output_type": "stream",
     "text": [
      "\n",
      " 90%|█████████ | 18/20 [00:46<00:05,  2.66s/it]\u001b[A"
     ]
    },
    {
     "name": "stdout",
     "output_type": "stream",
     "text": [
      "Client 1: accuracy loss: 6.48 | fairness loss 1.15 | Demographic disparity = 0.00\n",
      "Client 2: accuracy loss: 6.12 | fairness loss 2.00 | Demographic disparity = 0.03\n",
      "Client 3: accuracy loss: 6.20 | fairness loss 1.63 | Demographic disparity = 0.02\n",
      " \n",
      "Avg Training Stats after 18 global rounds:\n",
      "Training loss: 753.55 | Validation accuracy: 62.44% | Validation Demographic disparity: 0.0218\n",
      "\n",
      " | Global Training Round : 19 |\n",
      "\n"
     ]
    },
    {
     "name": "stderr",
     "output_type": "stream",
     "text": [
      "\n",
      " 95%|█████████▌| 19/20 [00:49<00:02,  2.66s/it]\u001b[A"
     ]
    },
    {
     "name": "stdout",
     "output_type": "stream",
     "text": [
      "Client 1: accuracy loss: 6.49 | fairness loss 1.15 | Demographic disparity = 0.00\n",
      "Client 2: accuracy loss: 6.12 | fairness loss 2.00 | Demographic disparity = 0.03\n",
      "Client 3: accuracy loss: 6.20 | fairness loss 1.63 | Demographic disparity = 0.02\n",
      " \n",
      "Avg Training Stats after 19 global rounds:\n",
      "Training loss: 718.17 | Validation accuracy: 62.44% | Validation Demographic disparity: 0.0218\n",
      "\n",
      " | Global Training Round : 20 |\n",
      "\n"
     ]
    },
    {
     "name": "stderr",
     "output_type": "stream",
     "text": [
      "\n",
      "100%|██████████| 20/20 [00:51<00:00,  2.56s/it]\u001b[A"
     ]
    },
    {
     "name": "stdout",
     "output_type": "stream",
     "text": [
      "Client 1: accuracy loss: 6.49 | fairness loss 1.16 | Demographic disparity = 0.00\n",
      "Client 2: accuracy loss: 6.12 | fairness loss 1.99 | Demographic disparity = 0.03\n",
      "Client 3: accuracy loss: 6.20 | fairness loss 1.63 | Demographic disparity = 0.02\n",
      " \n",
      "Avg Training Stats after 20 global rounds:\n",
      "Training loss: 686.32 | Validation accuracy: 62.44% | Validation Demographic disparity: 0.0218\n",
      " \n",
      " Results after 20 global rounds of training:\n",
      "|---- Avg Train Accuracy: 62.44%\n",
      "|---- Test Accuracy: 69.33%\n",
      "|---- Test Demographic disparity: 0.0330\n",
      "\n",
      " Total Run Time: 51.3106 sec\n"
     ]
    },
    {
     "name": "stderr",
     "output_type": "stream",
     "text": [
      "\n"
     ]
    }
   ],
   "source": [
    "seed = 95\n",
    "server = Server(logReg(num_features=3, num_classes=2, seed = seed), synthetic_info, train_prn = False, metric = \"Demographic disparity\", seed = seed)\n",
    "server.LocalZafar(num_rounds = 20, local_epochs = 30, optimizer = 'adam', learning_rate = 0.0002, penalty = 2000)\n",
    "\n"
   ]
  },
  {
   "cell_type": "code",
   "execution_count": 5,
   "metadata": {
    "scrolled": true
   },
   "outputs": [
    {
     "name": "stderr",
     "output_type": "stream",
     "text": [
      "\r",
      "  0%|          | 0/3 [00:00<?, ?it/s]"
     ]
    },
    {
     "name": "stdout",
     "output_type": "stream",
     "text": [
      "\n",
      " | Testing Round : 1 | constraint :  Cov(z, d) < c\n",
      "\n"
     ]
    },
    {
     "name": "stderr",
     "output_type": "stream",
     "text": [
      "\r",
      " 33%|███▎      | 1/3 [00:02<00:05,  2.61s/it]"
     ]
    },
    {
     "name": "stdout",
     "output_type": "stream",
     "text": [
      "Client 1: accuracy loss: 3.33 | fairness loss 596.48 | Demographic disparity = 0.52\n",
      "Client 2: accuracy loss: 3.14 | fairness loss 710.20 | Demographic disparity = 0.39\n",
      "Client 3: accuracy loss: 2.86 | fairness loss 698.44 | Demographic disparity = 0.35\n",
      " \n",
      "Avg Training Stats after 1 Testing rounds:\n",
      "Training loss: 25.77 | Validation accuracy: 86.11% | Validation Demographic disparity: 0.3746\n",
      "\n",
      " | Testing Round : 2 | constraint :  Cov(z, d) < c\n",
      "\n"
     ]
    },
    {
     "name": "stderr",
     "output_type": "stream",
     "text": [
      "\r",
      " 67%|██████▋   | 2/3 [00:07<00:03,  3.42s/it]"
     ]
    },
    {
     "name": "stdout",
     "output_type": "stream",
     "text": [
      "Client 1: accuracy loss: 3.30 | fairness loss 5530.61 | Demographic disparity = 0.26\n",
      "Client 2: accuracy loss: 3.09 | fairness loss 6347.69 | Demographic disparity = 0.19\n",
      "Client 3: accuracy loss: 2.88 | fairness loss 6756.99 | Demographic disparity = 0.08\n",
      " \n",
      "Avg Training Stats after 2 Testing rounds:\n",
      "Training loss: -56.92 | Validation accuracy: 68.32% | Validation Demographic disparity: 0.1610\n",
      "\n",
      " | Testing Round : 3 | constraint :  Cov(z, d) < c\n",
      "\n"
     ]
    },
    {
     "name": "stderr",
     "output_type": "stream",
     "text": [
      "100%|██████████| 3/3 [00:14<00:00,  4.75s/it]\n",
      "  0%|          | 0/3 [00:00<?, ?it/s]"
     ]
    },
    {
     "name": "stdout",
     "output_type": "stream",
     "text": [
      "Client 1: accuracy loss: 3.29 | fairness loss 15621.51 | Demographic disparity = 0.00\n",
      "Client 2: accuracy loss: 3.07 | fairness loss 17787.41 | Demographic disparity = 0.01\n",
      "Client 3: accuracy loss: 2.91 | fairness loss 19234.63 | Demographic disparity = 0.11\n",
      " \n",
      "Avg Training Stats after 3 Testing rounds:\n",
      "Training loss: -149.48 | Validation accuracy: 52.53% | Validation Demographic disparity: 0.0410\n",
      "\n",
      " | Testing Round : 1 | constraint :  Cov(z, d) > -c\n",
      "\n"
     ]
    },
    {
     "name": "stderr",
     "output_type": "stream",
     "text": [
      "\r",
      " 33%|███▎      | 1/3 [00:02<00:05,  2.74s/it]"
     ]
    },
    {
     "name": "stdout",
     "output_type": "stream",
     "text": [
      "Client 1: accuracy loss: 3.27 | fairness loss 878.86 | Demographic disparity = 0.62\n",
      "Client 2: accuracy loss: 3.54 | fairness loss 1005.64 | Demographic disparity = 0.44\n",
      "Client 3: accuracy loss: 3.21 | fairness loss 1059.19 | Demographic disparity = 0.46\n",
      " \n",
      "Avg Training Stats after 1 Testing rounds:\n",
      "Training loss: -124.16 | Validation accuracy: 86.70% | Validation Demographic disparity: 0.4555\n",
      "\n",
      " | Testing Round : 2 | constraint :  Cov(z, d) > -c\n",
      "\n"
     ]
    },
    {
     "name": "stderr",
     "output_type": "stream",
     "text": [
      "\r",
      " 67%|██████▋   | 2/3 [00:05<00:02,  2.90s/it]"
     ]
    },
    {
     "name": "stdout",
     "output_type": "stream",
     "text": [
      "Client 1: accuracy loss: 3.61 | fairness loss 5849.47 | Demographic disparity = 0.61\n",
      "Client 2: accuracy loss: 4.02 | fairness loss 6654.54 | Demographic disparity = 0.44\n",
      "Client 3: accuracy loss: 3.79 | fairness loss 7169.71 | Demographic disparity = 0.46\n",
      " \n",
      "Avg Training Stats after 2 Testing rounds:\n",
      "Training loss: -141.91 | Validation accuracy: 86.99% | Validation Demographic disparity: 0.4522\n",
      "\n",
      " | Testing Round : 3 | constraint :  Cov(z, d) > -c\n",
      "\n"
     ]
    },
    {
     "name": "stderr",
     "output_type": "stream",
     "text": [
      "100%|██████████| 3/3 [00:08<00:00,  2.87s/it]\n",
      "  0%|          | 0/4 [00:00<?, ?it/s]"
     ]
    },
    {
     "name": "stdout",
     "output_type": "stream",
     "text": [
      "Client 1: accuracy loss: 3.97 | fairness loss 15659.91 | Demographic disparity = 0.61\n",
      "Client 2: accuracy loss: 4.49 | fairness loss 17761.22 | Demographic disparity = 0.44\n",
      "Client 3: accuracy loss: 4.25 | fairness loss 19297.04 | Demographic disparity = 0.46\n",
      " \n",
      "Avg Training Stats after 3 Testing rounds:\n",
      "Training loss: -186.01 | Validation accuracy: 86.99% | Validation Demographic disparity: 0.4522\n",
      "\n",
      " | Global Round : 1 | constraint :  Cov(z, d) < c\n",
      "\n"
     ]
    },
    {
     "name": "stderr",
     "output_type": "stream",
     "text": [
      "\r",
      " 25%|██▌       | 1/4 [00:02<00:07,  2.62s/it]"
     ]
    },
    {
     "name": "stdout",
     "output_type": "stream",
     "text": [
      "Client 1: accuracy loss: 3.29 | fairness loss 16931.38 | Demographic disparity = 0.03\n",
      "Client 2: accuracy loss: 3.06 | fairness loss 19269.79 | Demographic disparity = 0.03\n",
      "Client 3: accuracy loss: 2.91 | fairness loss 20856.28 | Demographic disparity = 0.09\n",
      " \n",
      "Avg Training Stats after 1 global rounds:\n",
      "Training loss: -222.33 | Validation accuracy: 51.75% | Validation Demographic disparity: 0.0575\n",
      "\n",
      " | Global Round : 2 | constraint :  Cov(z, d) < c\n",
      "\n"
     ]
    },
    {
     "name": "stderr",
     "output_type": "stream",
     "text": [
      "\r",
      " 50%|█████     | 2/4 [00:05<00:05,  2.72s/it]"
     ]
    },
    {
     "name": "stdout",
     "output_type": "stream",
     "text": [
      "Client 1: accuracy loss: 3.29 | fairness loss 18294.97 | Demographic disparity = 0.05\n",
      "Client 2: accuracy loss: 3.06 | fairness loss 20812.58 | Demographic disparity = 0.05\n",
      "Client 3: accuracy loss: 2.91 | fairness loss 22544.78 | Demographic disparity = 0.10\n",
      " \n",
      "Avg Training Stats after 2 global rounds:\n",
      "Training loss: -252.04 | Validation accuracy: 50.32% | Validation Demographic disparity: 0.0691\n",
      "\n",
      " | Global Round : 3 | constraint :  Cov(z, d) < c\n",
      "\n"
     ]
    },
    {
     "name": "stderr",
     "output_type": "stream",
     "text": [
      "\r",
      " 75%|███████▌  | 3/4 [00:07<00:02,  2.63s/it]"
     ]
    },
    {
     "name": "stdout",
     "output_type": "stream",
     "text": [
      "Client 1: accuracy loss: 3.29 | fairness loss 19712.32 | Demographic disparity = 0.05\n",
      "Client 2: accuracy loss: 3.06 | fairness loss 22415.84 | Demographic disparity = 0.04\n",
      "Client 3: accuracy loss: 2.92 | fairness loss 24300.20 | Demographic disparity = 0.10\n",
      " \n",
      "Avg Training Stats after 3 global rounds:\n",
      "Training loss: -277.35 | Validation accuracy: 50.06% | Validation Demographic disparity: 0.0658\n",
      "\n",
      " | Global Round : 4 | constraint :  Cov(z, d) < c\n",
      "\n"
     ]
    },
    {
     "name": "stderr",
     "output_type": "stream",
     "text": [
      "100%|██████████| 4/4 [00:10<00:00,  2.59s/it]"
     ]
    },
    {
     "name": "stdout",
     "output_type": "stream",
     "text": [
      "Client 1: accuracy loss: 3.29 | fairness loss 21183.47 | Demographic disparity = 0.08\n",
      "Client 2: accuracy loss: 3.06 | fairness loss 24079.59 | Demographic disparity = 0.06\n",
      "Client 3: accuracy loss: 2.92 | fairness loss 26122.55 | Demographic disparity = 0.10\n",
      " \n",
      "Avg Training Stats after 4 global rounds:\n",
      "Training loss: -299.58 | Validation accuracy: 49.12% | Validation Demographic disparity: 0.0824\n",
      " \n",
      " Results after 4 global rounds of training:\n",
      "|---- Avg Train Accuracy: 49.12%\n",
      "|---- Test Accuracy: 43.00%\n",
      "|---- Test Demographic disparity: 0.1721\n",
      "\n",
      " Total Run Time: 33.2568 sec\n"
     ]
    },
    {
     "name": "stderr",
     "output_type": "stream",
     "text": [
      "\n"
     ]
    }
   ],
   "source": [
    "seed = 812\n",
    "synthetic_info = dataGenerate(seed = seed, test_samples = 100)\n",
    "server = Server(logReg(num_features=3, num_classes=2, seed = seed), synthetic_info, train_prn = False, metric = \"Demographic disparity\", seed = seed)\n",
    "server.Zafar(test_rounds = 3, test_lr = 0.01, test_penalty = 100, num_rounds = 4, local_epochs = 30, optimizer = 'adam', learning_rate = 0.001, penalty = 50)\n"
   ]
  },
  {
   "cell_type": "code",
   "execution_count": 13,
   "metadata": {
    "scrolled": true
   },
   "outputs": [
    {
     "name": "stderr",
     "output_type": "stream",
     "text": [
      "\n",
      "\n",
      "  0%|          | 0/10 [00:00<?, ?it/s]\u001b[A\u001b[A"
     ]
    },
    {
     "name": "stdout",
     "output_type": "stream",
     "text": [
      "\n",
      " | Global Training Round : 1 |\n",
      "\n"
     ]
    },
    {
     "name": "stderr",
     "output_type": "stream",
     "text": [
      "\n",
      "\n",
      " 10%|█         | 1/10 [00:13<02:02, 13.56s/it]\u001b[A\u001b[A"
     ]
    },
    {
     "name": "stdout",
     "output_type": "stream",
     "text": [
      "Client 1: accuracy loss: 14.76 | fairness loss 108.46 | Demographic disparity = 0.62\n",
      "Client 2: accuracy loss: 14.74 | fairness loss 180.01 | Demographic disparity = 0.38\n",
      "Client 3: accuracy loss: 13.00 | fairness loss 142.04 | Demographic disparity = 0.41\n",
      " \n",
      "Avg Training Stats after 1 global rounds:\n",
      "Training loss: 218.12 | Validation accuracy: 15.16% | Validation Demographic disparity: 0.4444\n",
      "\n",
      " | Global Training Round : 2 |\n",
      "\n"
     ]
    },
    {
     "name": "stderr",
     "output_type": "stream",
     "text": [
      "\n",
      "\n",
      " 20%|██        | 2/10 [00:25<01:43, 12.94s/it]\u001b[A\u001b[A"
     ]
    },
    {
     "name": "stdout",
     "output_type": "stream",
     "text": [
      "Client 1: accuracy loss: 9.16 | fairness loss 26.49 | Demographic disparity = 0.36\n",
      "Client 2: accuracy loss: 9.22 | fairness loss 52.10 | Demographic disparity = 0.30\n",
      "Client 3: accuracy loss: 8.52 | fairness loss 40.18 | Demographic disparity = 0.26\n",
      " \n",
      "Avg Training Stats after 2 global rounds:\n",
      "Training loss: 181.32 | Validation accuracy: 20.14% | Validation Demographic disparity: 0.2852\n",
      "\n",
      " | Global Training Round : 3 |\n",
      "\n"
     ]
    },
    {
     "name": "stderr",
     "output_type": "stream",
     "text": [
      "\n",
      "\n",
      " 30%|███       | 3/10 [00:44<01:44, 14.95s/it]\u001b[A\u001b[A"
     ]
    },
    {
     "name": "stdout",
     "output_type": "stream",
     "text": [
      "Client 1: accuracy loss: 5.74 | fairness loss 22.51 | Demographic disparity = 0.82\n",
      "Client 2: accuracy loss: 5.61 | fairness loss 35.82 | Demographic disparity = 0.49\n",
      "Client 3: accuracy loss: 5.63 | fairness loss 29.33 | Demographic disparity = 0.50\n",
      " \n",
      "Avg Training Stats after 3 global rounds:\n",
      "Training loss: 151.09 | Validation accuracy: 78.66% | Validation Demographic disparity: 0.5668\n",
      "\n",
      " | Global Training Round : 4 |\n",
      "\n",
      "Client 1: accuracy loss: 4.18 | fairness loss 82.29 | Demographic disparity = 0.78\n"
     ]
    },
    {
     "name": "stderr",
     "output_type": "stream",
     "text": [
      "\n",
      "\n",
      " 40%|████      | 4/10 [01:05<01:40, 16.77s/it]\u001b[A\u001b[A"
     ]
    },
    {
     "name": "stdout",
     "output_type": "stream",
     "text": [
      "Client 2: accuracy loss: 3.86 | fairness loss 111.87 | Demographic disparity = 0.48\n",
      "Client 3: accuracy loss: 4.17 | fairness loss 93.72 | Demographic disparity = 0.49\n",
      " \n",
      "Avg Training Stats after 4 global rounds:\n",
      "Training loss: 128.39 | Validation accuracy: 83.98% | Validation Demographic disparity: 0.5525\n",
      "\n",
      " | Global Training Round : 5 |\n",
      "\n",
      "Client 1: accuracy loss: 3.58 | fairness loss 188.78 | Demographic disparity = 0.74\n"
     ]
    },
    {
     "name": "stderr",
     "output_type": "stream",
     "text": [
      "\n",
      "\n",
      " 50%|█████     | 5/10 [01:25<01:28, 17.68s/it]\u001b[A\u001b[A"
     ]
    },
    {
     "name": "stdout",
     "output_type": "stream",
     "text": [
      "Client 2: accuracy loss: 3.11 | fairness loss 259.28 | Demographic disparity = 0.44\n",
      "Client 3: accuracy loss: 3.53 | fairness loss 215.94 | Demographic disparity = 0.48\n",
      " \n",
      "Avg Training Stats after 5 global rounds:\n",
      "Training loss: 111.99 | Validation accuracy: 84.61% | Validation Demographic disparity: 0.5262\n",
      "\n",
      " | Global Training Round : 6 |\n",
      "\n"
     ]
    },
    {
     "name": "stderr",
     "output_type": "stream",
     "text": [
      "\n",
      "\n",
      " 60%|██████    | 6/10 [01:45<01:13, 18.42s/it]\u001b[A\u001b[A"
     ]
    },
    {
     "name": "stdout",
     "output_type": "stream",
     "text": [
      "Client 1: accuracy loss: 3.35 | fairness loss 288.24 | Demographic disparity = 0.71\n",
      "Client 2: accuracy loss: 2.76 | fairness loss 412.85 | Demographic disparity = 0.42\n",
      "Client 3: accuracy loss: 3.25 | fairness loss 342.29 | Demographic disparity = 0.47\n",
      " \n",
      "Avg Training Stats after 6 global rounds:\n",
      "Training loss: 100.08 | Validation accuracy: 85.62% | Validation Demographic disparity: 0.5096\n",
      "\n",
      " | Global Training Round : 7 |\n",
      "\n"
     ]
    },
    {
     "name": "stderr",
     "output_type": "stream",
     "text": [
      "\n",
      "\n",
      " 70%|███████   | 7/10 [01:57<00:49, 16.41s/it]\u001b[A\u001b[A"
     ]
    },
    {
     "name": "stdout",
     "output_type": "stream",
     "text": [
      "Client 1: accuracy loss: 3.24 | fairness loss 348.43 | Demographic disparity = 0.69\n",
      "Client 2: accuracy loss: 2.51 | fairness loss 526.46 | Demographic disparity = 0.42\n",
      "Client 3: accuracy loss: 3.09 | fairness loss 437.26 | Demographic disparity = 0.46\n",
      " \n",
      "Avg Training Stats after 7 global rounds:\n",
      "Training loss: 91.15 | Validation accuracy: 85.72% | Validation Demographic disparity: 0.4963\n",
      "\n",
      " | Global Training Round : 8 |\n",
      "\n"
     ]
    },
    {
     "name": "stderr",
     "output_type": "stream",
     "text": [
      "\n",
      "\n",
      " 80%|████████  | 8/10 [02:07<00:29, 14.62s/it]\u001b[A\u001b[A"
     ]
    },
    {
     "name": "stdout",
     "output_type": "stream",
     "text": [
      "Client 1: accuracy loss: 3.21 | fairness loss 405.24 | Demographic disparity = 0.64\n",
      "Client 2: accuracy loss: 2.35 | fairness loss 637.36 | Demographic disparity = 0.41\n",
      "Client 3: accuracy loss: 3.00 | fairness loss 530.86 | Demographic disparity = 0.44\n",
      " \n",
      "Avg Training Stats after 8 global rounds:\n",
      "Training loss: 84.26 | Validation accuracy: 85.85% | Validation Demographic disparity: 0.4788\n",
      "\n",
      " | Global Training Round : 9 |\n",
      "\n",
      "Client 1: accuracy loss: 3.22 | fairness loss 451.36 | Demographic disparity = 0.62\n",
      "Client 2: accuracy loss: 2.27 | fairness loss 727.04 | Demographic disparity = 0.41\n"
     ]
    },
    {
     "name": "stderr",
     "output_type": "stream",
     "text": [
      "\n",
      "\n",
      " 90%|█████████ | 9/10 [02:23<00:15, 15.07s/it]\u001b[A\u001b[A"
     ]
    },
    {
     "name": "stdout",
     "output_type": "stream",
     "text": [
      "Client 3: accuracy loss: 2.97 | fairness loss 606.49 | Demographic disparity = 0.43\n",
      " \n",
      "Avg Training Stats after 9 global rounds:\n",
      "Training loss: 78.82 | Validation accuracy: 85.46% | Validation Demographic disparity: 0.4688\n",
      "\n",
      " | Global Training Round : 10 |\n",
      "\n"
     ]
    },
    {
     "name": "stderr",
     "output_type": "stream",
     "text": [
      "\n",
      "\n",
      "100%|██████████| 10/10 [02:46<00:00, 16.64s/it]\u001b[A\u001b[A"
     ]
    },
    {
     "name": "stdout",
     "output_type": "stream",
     "text": [
      "Client 1: accuracy loss: 3.23 | fairness loss 476.98 | Demographic disparity = 0.61\n",
      "Client 2: accuracy loss: 2.23 | fairness loss 777.21 | Demographic disparity = 0.41\n",
      "Client 3: accuracy loss: 2.96 | fairness loss 648.31 | Demographic disparity = 0.43\n",
      " \n",
      "Avg Training Stats after 10 global rounds:\n",
      "Training loss: 74.45 | Validation accuracy: 85.17% | Validation Demographic disparity: 0.4655\n",
      " \n",
      " Results after 10 global rounds of training:\n",
      "|---- Avg Train Accuracy: 85.17%\n",
      "|---- Test Accuracy: 86.67%\n",
      "|---- Test Demographic disparity: 0.4285\n",
      "\n",
      " Total Run Time: 166.4472 sec\n"
     ]
    },
    {
     "name": "stderr",
     "output_type": "stream",
     "text": [
      "\n"
     ]
    }
   ],
   "source": [
    "seed = 860\n",
    "synthetic_info = dataGenerate(seed = 745, test_samples = 300)\n",
    "server = Server(logReg(num_features=3, num_classes=2, seed = seed), synthetic_info, train_prn = False, metric = \"Demographic disparity\", seed = seed)\n",
    "server.Unconstrained(num_rounds = 10, local_epochs = 30, optimizer = 'adam', learning_rate = 0.0004)"
   ]
  },
  {
   "cell_type": "code",
   "execution_count": 4,
   "metadata": {
    "scrolled": true
   },
   "outputs": [
    {
     "name": "stderr",
     "output_type": "stream",
     "text": [
      "\r",
      "  0%|          | 0/1 [00:00<?, ?it/s]"
     ]
    },
    {
     "name": "stdout",
     "output_type": "stream",
     "text": [
      "\n",
      " | Global Training Round : 1 |\n",
      "\n"
     ]
    },
    {
     "name": "stderr",
     "output_type": "stream",
     "text": [
      "100%|██████████| 1/1 [00:02<00:00,  2.45s/it]\n",
      "  0%|          | 0/9 [00:00<?, ?it/s]"
     ]
    },
    {
     "name": "stdout",
     "output_type": "stream",
     "text": [
      "Client 1: accuracy loss: 2.67 | fairness loss 446.22 | Demographic disparity = 0.47\n",
      "Client 2: accuracy loss: 3.49 | fairness loss 522.31 | Demographic disparity = 0.32\n",
      "Client 3: accuracy loss: 2.43 | fairness loss 531.58 | Demographic disparity = 0.47\n",
      " \n",
      "Avg Training Stats after 1 global rounds:\n",
      "Training loss: 53.65 | Validation accuracy: 86.28% | Validation Demographic disparity: 0.3835\n",
      " \n",
      " Results after 1 global rounds of training:\n",
      "|---- Avg Train Accuracy: 86.28%\n",
      "|---- Test Accuracy: 82.00%\n",
      "|---- Test Demographic disparity: 0.3805\n",
      "\n",
      " Total Run Time: 2.4680 sec\n",
      "\n",
      " | Global Training Round : 1 |\n",
      "\n"
     ]
    },
    {
     "name": "stderr",
     "output_type": "stream",
     "text": [
      "\r",
      " 11%|█         | 1/9 [00:03<00:28,  3.53s/it]"
     ]
    },
    {
     "name": "stdout",
     "output_type": "stream",
     "text": [
      "Client 1: predictor loss: 5.07 | adversary loss 0.46 | Demographic disparity = 0.32\n",
      "Client 2: predictor loss: 5.66 | adversary loss 0.68 | Demographic disparity = 0.09\n",
      "Client 3: predictor loss: 4.58 | adversary loss 0.76 | Demographic disparity = 0.07\n",
      " \n",
      "Avg Training Stats after 1 global rounds:\n",
      "Training loss: 41.48 | Validation accuracy: 69.18% | Validation Demographic disparity: 0.1421\n",
      "\n",
      " | Global Training Round : 2 |\n",
      "\n"
     ]
    },
    {
     "name": "stderr",
     "output_type": "stream",
     "text": [
      "\r",
      " 22%|██▏       | 2/9 [00:07<00:25,  3.64s/it]"
     ]
    },
    {
     "name": "stdout",
     "output_type": "stream",
     "text": [
      "Client 1: predictor loss: 5.88 | adversary loss 0.67 | Demographic disparity = 0.15\n",
      "Client 2: predictor loss: 6.47 | adversary loss 0.69 | Demographic disparity = 0.02\n",
      "Client 3: predictor loss: 5.37 | adversary loss 0.62 | Demographic disparity = 0.05\n",
      " \n",
      "Avg Training Stats after 2 global rounds:\n",
      "Training loss: 53.62 | Validation accuracy: 62.85% | Validation Demographic disparity: 0.0398\n",
      "\n",
      " | Global Training Round : 3 |\n",
      "\n"
     ]
    },
    {
     "name": "stderr",
     "output_type": "stream",
     "text": [
      "\r",
      " 33%|███▎      | 3/9 [00:10<00:21,  3.53s/it]"
     ]
    },
    {
     "name": "stdout",
     "output_type": "stream",
     "text": [
      "Client 1: predictor loss: 6.70 | adversary loss 0.78 | Demographic disparity = 0.06\n",
      "Client 2: predictor loss: 7.23 | adversary loss 0.76 | Demographic disparity = 0.02\n",
      "Client 3: predictor loss: 6.10 | adversary loss 0.69 | Demographic disparity = 0.11\n",
      " \n",
      "Avg Training Stats after 3 global rounds:\n",
      "Training loss: 62.83 | Validation accuracy: 58.57% | Validation Demographic disparity: 0.0020\n",
      "\n",
      " | Global Training Round : 4 |\n",
      "\n"
     ]
    },
    {
     "name": "stderr",
     "output_type": "stream",
     "text": [
      "\r",
      " 44%|████▍     | 4/9 [00:13<00:17,  3.40s/it]"
     ]
    },
    {
     "name": "stdout",
     "output_type": "stream",
     "text": [
      "Client 1: predictor loss: 7.84 | adversary loss 0.76 | Demographic disparity = 0.10\n",
      "Client 2: predictor loss: 8.23 | adversary loss 0.74 | Demographic disparity = 0.05\n",
      "Client 3: predictor loss: 7.05 | adversary loss 0.72 | Demographic disparity = 0.20\n",
      " \n",
      "Avg Training Stats after 4 global rounds:\n",
      "Training loss: 70.98 | Validation accuracy: 52.35% | Validation Demographic disparity: 0.0924\n",
      "\n",
      " | Global Training Round : 5 |\n",
      "\n"
     ]
    },
    {
     "name": "stderr",
     "output_type": "stream",
     "text": [
      "\r",
      " 56%|█████▌    | 5/9 [00:16<00:13,  3.30s/it]"
     ]
    },
    {
     "name": "stdout",
     "output_type": "stream",
     "text": [
      "Client 1: predictor loss: 2.99 | adversary loss 0.58 | Demographic disparity = 0.46\n",
      "Client 2: predictor loss: 3.80 | adversary loss 0.60 | Demographic disparity = 0.26\n",
      "Client 3: predictor loss: 2.62 | adversary loss 0.56 | Demographic disparity = 0.39\n",
      " \n",
      "Avg Training Stats after 5 global rounds:\n",
      "Training loss: 75.47 | Validation accuracy: 84.47% | Validation Demographic disparity: 0.3261\n",
      "\n",
      " | Global Training Round : 6 |\n",
      "\n"
     ]
    },
    {
     "name": "stderr",
     "output_type": "stream",
     "text": [
      "\r",
      " 67%|██████▋   | 6/9 [00:20<00:09,  3.25s/it]"
     ]
    },
    {
     "name": "stdout",
     "output_type": "stream",
     "text": [
      "Client 1: predictor loss: 3.65 | adversary loss 0.56 | Demographic disparity = 0.33\n",
      "Client 2: predictor loss: 4.75 | adversary loss 0.67 | Demographic disparity = 0.18\n",
      "Client 3: predictor loss: 3.31 | adversary loss 0.60 | Demographic disparity = 0.23\n",
      " \n",
      "Avg Training Stats after 6 global rounds:\n",
      "Training loss: 70.26 | Validation accuracy: 78.20% | Validation Demographic disparity: 0.2316\n",
      "\n",
      " | Global Training Round : 7 |\n",
      "\n"
     ]
    },
    {
     "name": "stderr",
     "output_type": "stream",
     "text": [
      "\r",
      " 78%|███████▊  | 7/9 [00:23<00:06,  3.29s/it]"
     ]
    },
    {
     "name": "stdout",
     "output_type": "stream",
     "text": [
      "Client 1: predictor loss: 4.22 | adversary loss 0.61 | Demographic disparity = 0.28\n",
      "Client 2: predictor loss: 5.52 | adversary loss 0.69 | Demographic disparity = 0.12\n",
      "Client 3: predictor loss: 3.95 | adversary loss 0.64 | Demographic disparity = 0.17\n",
      " \n",
      "Avg Training Stats after 7 global rounds:\n",
      "Training loss: 67.84 | Validation accuracy: 74.72% | Validation Demographic disparity: 0.1823\n",
      "\n",
      " | Global Training Round : 8 |\n",
      "\n"
     ]
    },
    {
     "name": "stderr",
     "output_type": "stream",
     "text": [
      "\r",
      " 89%|████████▉ | 8/9 [00:26<00:03,  3.33s/it]"
     ]
    },
    {
     "name": "stdout",
     "output_type": "stream",
     "text": [
      "Client 1: predictor loss: 4.71 | adversary loss 0.63 | Demographic disparity = 0.25\n",
      "Client 2: predictor loss: 6.03 | adversary loss 0.70 | Demographic disparity = 0.10\n",
      "Client 3: predictor loss: 4.49 | adversary loss 0.66 | Demographic disparity = 0.09\n",
      " \n",
      "Avg Training Stats after 8 global rounds:\n",
      "Training loss: 66.86 | Validation accuracy: 70.84% | Validation Demographic disparity: 0.1394\n",
      "\n",
      " | Global Training Round : 9 |\n",
      "\n"
     ]
    },
    {
     "name": "stderr",
     "output_type": "stream",
     "text": [
      "100%|██████████| 9/9 [00:29<00:00,  3.32s/it]"
     ]
    },
    {
     "name": "stdout",
     "output_type": "stream",
     "text": [
      "Client 1: predictor loss: 4.97 | adversary loss 0.64 | Demographic disparity = 0.25\n",
      "Client 2: predictor loss: 6.32 | adversary loss 0.70 | Demographic disparity = 0.09\n",
      "Client 3: predictor loss: 4.78 | adversary loss 0.67 | Demographic disparity = 0.06\n",
      " \n",
      "Avg Training Stats after 9 global rounds:\n",
      "Training loss: 66.63 | Validation accuracy: 70.12% | Validation Demographic disparity: 0.1317\n",
      " \n",
      " Results after 9 global rounds of training:\n",
      "|---- Avg Train Accuracy: 70.12%\n",
      "|---- Test Accuracy: 71.00%\n",
      "|---- Test Demographic disparity: 0.1110\n",
      "\n",
      " Total Run Time: 29.8830 sec\n"
     ]
    },
    {
     "name": "stderr",
     "output_type": "stream",
     "text": [
      "\n"
     ]
    }
   ],
   "source": [
    "seed = 860\n",
    "synthetic_info = dataGenerate(seed = seed, test_samples = 100)\n",
    "server = Server(logReg(num_features=3, num_classes=2, seed = seed), synthetic_info, train_prn = False, metric = \"Demographic disparity\", seed = seed)\n",
    "server.Unconstrained(num_rounds = 1, local_epochs = 30, optimizer = 'adam', learning_rate = 0.01)\n",
    "server.AdversarialLearning(num_rounds = 9, local_epochs = 30, optimizer = 'adam', epsilon = None, learning_rate = 0.005, alpha = 0.5, adaptive_lr = True)"
   ]
  },
  {
   "cell_type": "code",
   "execution_count": 5,
   "metadata": {
    "scrolled": true
   },
   "outputs": [
    {
     "name": "stderr",
     "output_type": "stream",
     "text": [
      "\r",
      "  0%|          | 0/10 [00:00<?, ?it/s]"
     ]
    },
    {
     "name": "stdout",
     "output_type": "stream",
     "text": [
      "\n",
      " | Global Training Round : 1 |\n",
      "\n"
     ]
    },
    {
     "name": "stderr",
     "output_type": "stream",
     "text": [
      "\r",
      " 10%|█         | 1/10 [00:03<00:35,  3.96s/it]"
     ]
    },
    {
     "name": "stdout",
     "output_type": "stream",
     "text": [
      "Client 1: accuracy loss: 3.26 | fairness loss 167.64 | Demographic disparity = 0.48\n",
      "Client 2: accuracy loss: 3.62 | fairness loss 248.47 | Demographic disparity = 0.33\n",
      "Client 3: accuracy loss: 2.55 | fairness loss 334.10 | Demographic disparity = 0.39\n",
      " \n",
      "Avg Training Stats after 1 global rounds:\n",
      "Training loss: 0.40 | Validation accuracy: 87.94% | Validation Demographic disparity: 0.3690\n",
      "\n",
      " | Global Training Round : 2 |\n",
      "\n"
     ]
    },
    {
     "name": "stderr",
     "output_type": "stream",
     "text": [
      "\r",
      " 20%|██        | 2/10 [00:07<00:31,  3.90s/it]"
     ]
    },
    {
     "name": "stdout",
     "output_type": "stream",
     "text": [
      "Client 1: accuracy loss: 3.26 | fairness loss 125.20 | Demographic disparity = 0.37\n",
      "Client 2: accuracy loss: 3.56 | fairness loss 193.73 | Demographic disparity = 0.33\n",
      "Client 3: accuracy loss: 2.46 | fairness loss 261.38 | Demographic disparity = 0.33\n",
      " \n",
      "Avg Training Stats after 2 global rounds:\n",
      "Training loss: 0.38 | Validation accuracy: 88.43% | Validation Demographic disparity: 0.3317\n",
      "\n",
      " | Global Training Round : 3 |\n",
      "\n"
     ]
    },
    {
     "name": "stderr",
     "output_type": "stream",
     "text": [
      "\r",
      " 30%|███       | 3/10 [00:11<00:27,  3.99s/it]"
     ]
    },
    {
     "name": "stdout",
     "output_type": "stream",
     "text": [
      "Client 1: accuracy loss: 3.66 | fairness loss 78.69 | Demographic disparity = 0.35\n",
      "Client 2: accuracy loss: 3.76 | fairness loss 126.82 | Demographic disparity = 0.24\n",
      "Client 3: accuracy loss: 2.72 | fairness loss 170.36 | Demographic disparity = 0.31\n",
      " \n",
      "Avg Training Stats after 3 global rounds:\n",
      "Training loss: 0.39 | Validation accuracy: 87.03% | Validation Demographic disparity: 0.2724\n",
      "\n",
      " | Global Training Round : 4 |\n",
      "\n"
     ]
    },
    {
     "name": "stderr",
     "output_type": "stream",
     "text": [
      "\r",
      " 40%|████      | 4/10 [00:15<00:22,  3.73s/it]"
     ]
    },
    {
     "name": "stdout",
     "output_type": "stream",
     "text": [
      "Client 1: accuracy loss: 4.05 | fairness loss 56.74 | Demographic disparity = 0.23\n",
      "Client 2: accuracy loss: 4.01 | fairness loss 94.47 | Demographic disparity = 0.17\n",
      "Client 3: accuracy loss: 2.99 | fairness loss 124.80 | Demographic disparity = 0.24\n",
      " \n",
      "Avg Training Stats after 4 global rounds:\n",
      "Training loss: 0.39 | Validation accuracy: 82.74% | Validation Demographic disparity: 0.2032\n",
      "\n",
      " | Global Training Round : 5 |\n",
      "\n"
     ]
    },
    {
     "name": "stderr",
     "output_type": "stream",
     "text": [
      "\r",
      " 50%|█████     | 5/10 [00:17<00:17,  3.44s/it]"
     ]
    },
    {
     "name": "stdout",
     "output_type": "stream",
     "text": [
      "Client 1: accuracy loss: 4.38 | fairness loss 46.83 | Demographic disparity = 0.19\n",
      "Client 2: accuracy loss: 4.23 | fairness loss 79.16 | Demographic disparity = 0.15\n",
      "Client 3: accuracy loss: 3.23 | fairness loss 102.03 | Demographic disparity = 0.21\n",
      " \n",
      "Avg Training Stats after 5 global rounds:\n",
      "Training loss: 0.39 | Validation accuracy: 81.51% | Validation Demographic disparity: 0.1711\n",
      "\n",
      " | Global Training Round : 6 |\n",
      "\n"
     ]
    },
    {
     "name": "stderr",
     "output_type": "stream",
     "text": [
      "\r",
      " 60%|██████    | 6/10 [00:20<00:13,  3.26s/it]"
     ]
    },
    {
     "name": "stdout",
     "output_type": "stream",
     "text": [
      "Client 1: accuracy loss: 4.64 | fairness loss 42.44 | Demographic disparity = 0.07\n",
      "Client 2: accuracy loss: 4.42 | fairness loss 71.84 | Demographic disparity = 0.09\n",
      "Client 3: accuracy loss: 3.42 | fairness loss 90.31 | Demographic disparity = 0.18\n",
      " \n",
      "Avg Training Stats after 6 global rounds:\n",
      "Training loss: 0.39 | Validation accuracy: 79.85% | Validation Demographic disparity: 0.1103\n",
      "\n",
      " | Global Training Round : 7 |\n",
      "\n"
     ]
    },
    {
     "name": "stderr",
     "output_type": "stream",
     "text": [
      "\r",
      " 70%|███████   | 7/10 [00:23<00:09,  3.16s/it]"
     ]
    },
    {
     "name": "stdout",
     "output_type": "stream",
     "text": [
      "Client 1: accuracy loss: 4.84 | fairness loss 40.53 | Demographic disparity = 0.07\n",
      "Client 2: accuracy loss: 4.56 | fairness loss 68.25 | Demographic disparity = 0.07\n",
      "Client 3: accuracy loss: 3.57 | fairness loss 84.01 | Demographic disparity = 0.16\n",
      " \n",
      "Avg Training Stats after 7 global rounds:\n",
      "Training loss: 0.39 | Validation accuracy: 77.60% | Validation Demographic disparity: 0.0713\n",
      "\n",
      " | Global Training Round : 8 |\n",
      "\n"
     ]
    },
    {
     "name": "stderr",
     "output_type": "stream",
     "text": [
      "\r",
      " 80%|████████  | 8/10 [00:26<00:06,  3.17s/it]"
     ]
    },
    {
     "name": "stdout",
     "output_type": "stream",
     "text": [
      "Client 1: accuracy loss: 4.99 | fairness loss 39.73 | Demographic disparity = 0.07\n",
      "Client 2: accuracy loss: 4.67 | fairness loss 66.42 | Demographic disparity = 0.07\n",
      "Client 3: accuracy loss: 3.67 | fairness loss 80.43 | Demographic disparity = 0.12\n",
      " \n",
      "Avg Training Stats after 8 global rounds:\n",
      "Training loss: 0.38 | Validation accuracy: 76.43% | Validation Demographic disparity: 0.0558\n",
      "\n",
      " | Global Training Round : 9 |\n",
      "\n"
     ]
    },
    {
     "name": "stderr",
     "output_type": "stream",
     "text": [
      "\r",
      " 90%|█████████ | 9/10 [00:29<00:03,  3.06s/it]"
     ]
    },
    {
     "name": "stdout",
     "output_type": "stream",
     "text": [
      "Client 1: accuracy loss: 5.09 | fairness loss 39.41 | Demographic disparity = 0.08\n",
      "Client 2: accuracy loss: 4.75 | fairness loss 65.45 | Demographic disparity = 0.07\n",
      "Client 3: accuracy loss: 3.75 | fairness loss 78.30 | Demographic disparity = 0.12\n",
      " \n",
      "Avg Training Stats after 9 global rounds:\n",
      "Training loss: 0.38 | Validation accuracy: 76.13% | Validation Demographic disparity: 0.0525\n",
      "\n",
      " | Global Training Round : 10 |\n",
      "\n"
     ]
    },
    {
     "name": "stderr",
     "output_type": "stream",
     "text": [
      "100%|██████████| 10/10 [00:32<00:00,  3.22s/it]"
     ]
    },
    {
     "name": "stdout",
     "output_type": "stream",
     "text": [
      "Client 1: accuracy loss: 5.17 | fairness loss 39.30 | Demographic disparity = 0.13\n",
      "Client 2: accuracy loss: 4.81 | fairness loss 64.91 | Demographic disparity = 0.04\n",
      "Client 3: accuracy loss: 3.81 | fairness loss 76.97 | Demographic disparity = 0.12\n",
      " \n",
      "Avg Training Stats after 10 global rounds:\n",
      "Training loss: 0.38 | Validation accuracy: 74.58% | Validation Demographic disparity: 0.0285\n",
      " \n",
      " Results after 10 global rounds of training:\n",
      "|---- Avg Train Accuracy: 74.58%\n",
      "|---- Test Accuracy: 67.00%\n",
      "|---- Test Demographic disparity: 0.0746\n",
      "\n",
      " Total Run Time: 32.2221 sec\n"
     ]
    },
    {
     "name": "stderr",
     "output_type": "stream",
     "text": [
      "\n"
     ]
    }
   ],
   "source": [
    "seed = 355\n",
    "synthetic_info = dataGenerate(seed = seed, test_samples = 100)\n",
    "server = Server(logReg(num_features=3, num_classes=2, seed = seed), synthetic_info, train_prn = False, metric = \"Demographic disparity\", seed = seed)\n",
    "server.BiasCorrecting(num_rounds = 10, local_epochs = 30, optimizer = 'adam', epsilon = None, learning_rate = 0.005, alpha = 5)\n",
    "\n",
    "\n"
   ]
  },
  {
   "cell_type": "code",
   "execution_count": null,
   "metadata": {},
   "outputs": [],
   "source": []
  }
 ],
 "metadata": {
  "kernelspec": {
   "display_name": "Python 3",
   "language": "python",
   "name": "python3"
  },
  "language_info": {
   "codemirror_mode": {
    "name": "ipython",
    "version": 3
   },
   "file_extension": ".py",
   "mimetype": "text/x-python",
   "name": "python",
   "nbconvert_exporter": "python",
   "pygments_lexer": "ipython3",
   "version": "3.7.4"
  }
 },
 "nbformat": 4,
 "nbformat_minor": 2
}
