{
 "cells": [
  {
   "cell_type": "code",
   "execution_count": 1,
   "metadata": {},
   "outputs": [],
   "source": [
    "from Server import *"
   ]
  },
  {
   "cell_type": "code",
   "execution_count": 13,
   "metadata": {},
   "outputs": [],
   "source": [
    "synthetic_info = dataGenerate(seed = 745, test_samples = 300, train_samples = 3000)"
   ]
  },
  {
   "cell_type": "code",
   "execution_count": null,
   "metadata": {},
   "outputs": [],
   "source": [
    "server = Server(logReg(num_features=3, num_classes=2, seed = seed), synthetic_info, train_prn = False, metric = \"Demographic disparity\", seed = seed)\n",
    "server.Unconstrained(num_rounds = 10, local_epochs = 30, optimizer = 'adam', learning_rate = 0.0004)"
   ]
  },
  {
   "cell_type": "code",
   "execution_count": 9,
   "metadata": {
    "scrolled": true
   },
   "outputs": [
    {
     "name": "stderr",
     "output_type": "stream",
     "text": [
      "\r",
      "  0%|          | 0/10 [00:00<?, ?it/s]"
     ]
    },
    {
     "name": "stdout",
     "output_type": "stream",
     "text": [
      "\n",
      " | Global Training Round : 1 |\n",
      "\n"
     ]
    },
    {
     "name": "stderr",
     "output_type": "stream",
     "text": [
      "\r",
      " 10%|█         | 1/10 [00:08<01:14,  8.26s/it]"
     ]
    },
    {
     "name": "stdout",
     "output_type": "stream",
     "text": [
      "Client 1: accuracy loss: 3.35 | fairness loss 214.96 | Demographic disparity = 0.53\n",
      "Client 2: accuracy loss: 2.66 | fairness loss 328.18 | Demographic disparity = 0.41\n",
      "Client 3: accuracy loss: 3.25 | fairness loss 282.09 | Demographic disparity = 0.43\n",
      " \n",
      "Avg Training Stats after 1 global rounds:\n",
      "Training loss: 0.37 | Training accuracy: 87.16% | Training Demographic disparity: 0.4527\n",
      "\n",
      " | Global Training Round : 2 |\n",
      "\n",
      "Client 1: accuracy loss: 3.79 | fairness loss 117.13 | Demographic disparity = 0.47\n",
      "Client 2: accuracy loss: 3.03 | fairness loss 218.37 | Demographic disparity = 0.29\n"
     ]
    },
    {
     "name": "stderr",
     "output_type": "stream",
     "text": [
      "\r",
      " 20%|██        | 2/10 [00:20<01:15,  9.39s/it]"
     ]
    },
    {
     "name": "stdout",
     "output_type": "stream",
     "text": [
      "Client 3: accuracy loss: 3.68 | fairness loss 179.83 | Demographic disparity = 0.28\n",
      " \n",
      "Avg Training Stats after 2 global rounds:\n",
      "Training loss: 0.37 | Training accuracy: 84.31% | Training Demographic disparity: 0.3278\n",
      "\n",
      " | Global Training Round : 3 |\n",
      "\n",
      "Client 1: accuracy loss: 4.21 | fairness loss 81.68 | Demographic disparity = 0.41\n",
      "Client 2: accuracy loss: 3.38 | fairness loss 178.27 | Demographic disparity = 0.25\n"
     ]
    },
    {
     "name": "stderr",
     "output_type": "stream",
     "text": [
      "\r",
      " 30%|███       | 3/10 [00:35<01:17, 11.08s/it]"
     ]
    },
    {
     "name": "stdout",
     "output_type": "stream",
     "text": [
      "Client 3: accuracy loss: 4.09 | fairness loss 144.85 | Demographic disparity = 0.18\n",
      " \n",
      "Avg Training Stats after 3 global rounds:\n",
      "Training loss: 0.37 | Training accuracy: 82.91% | Training Demographic disparity: 0.2488\n",
      "\n",
      " | Global Training Round : 4 |\n",
      "\n"
     ]
    },
    {
     "name": "stderr",
     "output_type": "stream",
     "text": [
      "\r",
      " 40%|████      | 4/10 [00:52<01:17, 12.85s/it]"
     ]
    },
    {
     "name": "stdout",
     "output_type": "stream",
     "text": [
      "Client 1: accuracy loss: 4.55 | fairness loss 63.97 | Demographic disparity = 0.36\n",
      "Client 2: accuracy loss: 3.68 | fairness loss 156.07 | Demographic disparity = 0.23\n",
      "Client 3: accuracy loss: 4.42 | fairness loss 127.64 | Demographic disparity = 0.16\n",
      " \n",
      "Avg Training Stats after 4 global rounds:\n",
      "Training loss: 0.36 | Training accuracy: 83.07% | Training Demographic disparity: 0.2147\n",
      "\n",
      " | Global Training Round : 5 |\n",
      "\n"
     ]
    },
    {
     "name": "stderr",
     "output_type": "stream",
     "text": [
      "\r",
      " 50%|█████     | 5/10 [01:00<00:56, 11.38s/it]"
     ]
    },
    {
     "name": "stdout",
     "output_type": "stream",
     "text": [
      "Client 1: accuracy loss: 4.85 | fairness loss 53.12 | Demographic disparity = 0.30\n",
      "Client 2: accuracy loss: 3.95 | fairness loss 140.10 | Demographic disparity = 0.19\n",
      "Client 3: accuracy loss: 4.72 | fairness loss 116.58 | Demographic disparity = 0.12\n",
      " \n",
      "Avg Training Stats after 5 global rounds:\n",
      "Training loss: 0.36 | Training accuracy: 80.00% | Training Demographic disparity: 0.1696\n",
      "\n",
      " | Global Training Round : 6 |\n",
      "\n"
     ]
    },
    {
     "name": "stderr",
     "output_type": "stream",
     "text": [
      "\r",
      " 60%|██████    | 6/10 [01:08<00:42, 10.59s/it]"
     ]
    },
    {
     "name": "stdout",
     "output_type": "stream",
     "text": [
      "Client 1: accuracy loss: 5.13 | fairness loss 45.89 | Demographic disparity = 0.04\n",
      "Client 2: accuracy loss: 4.20 | fairness loss 127.48 | Demographic disparity = 0.18\n",
      "Client 3: accuracy loss: 5.01 | fairness loss 108.65 | Demographic disparity = 0.04\n",
      " \n",
      "Avg Training Stats after 6 global rounds:\n",
      "Training loss: 0.35 | Training accuracy: 76.26% | Training Demographic disparity: 0.0952\n",
      "\n",
      " | Global Training Round : 7 |\n",
      "\n"
     ]
    },
    {
     "name": "stderr",
     "output_type": "stream",
     "text": [
      "\r",
      " 70%|███████   | 7/10 [01:16<00:29,  9.69s/it]"
     ]
    },
    {
     "name": "stdout",
     "output_type": "stream",
     "text": [
      "Client 1: accuracy loss: 5.40 | fairness loss 40.95 | Demographic disparity = 0.00\n",
      "Client 2: accuracy loss: 4.46 | fairness loss 117.08 | Demographic disparity = 0.15\n",
      "Client 3: accuracy loss: 5.28 | fairness loss 102.71 | Demographic disparity = 0.04\n",
      " \n",
      "Avg Training Stats after 7 global rounds:\n",
      "Training loss: 0.34 | Training accuracy: 72.93% | Training Demographic disparity: 0.0426\n",
      "\n",
      " | Global Training Round : 8 |\n",
      "\n"
     ]
    },
    {
     "name": "stderr",
     "output_type": "stream",
     "text": [
      "\r",
      " 80%|████████  | 8/10 [01:22<00:17,  8.65s/it]"
     ]
    },
    {
     "name": "stdout",
     "output_type": "stream",
     "text": [
      "Client 1: accuracy loss: 5.66 | fairness loss 37.68 | Demographic disparity = 0.00\n",
      "Client 2: accuracy loss: 4.72 | fairness loss 108.32 | Demographic disparity = 0.10\n",
      "Client 3: accuracy loss: 5.56 | fairness loss 98.24 | Demographic disparity = 0.07\n",
      " \n",
      "Avg Training Stats after 8 global rounds:\n",
      "Training loss: 0.34 | Training accuracy: 70.51% | Training Demographic disparity: 0.0044\n",
      "\n",
      " | Global Training Round : 9 |\n",
      "\n",
      "Client 1: accuracy loss: 5.93 | fairness loss 35.78 | Demographic disparity = 0.03\n",
      "Client 2: accuracy loss: 4.99 | fairness loss 100.83 | Demographic disparity = 0.05\n"
     ]
    },
    {
     "name": "stderr",
     "output_type": "stream",
     "text": [
      "\r",
      " 90%|█████████ | 9/10 [01:30<00:08,  8.49s/it]"
     ]
    },
    {
     "name": "stdout",
     "output_type": "stream",
     "text": [
      "Client 3: accuracy loss: 5.85 | fairness loss 94.94 | Demographic disparity = 0.12\n",
      " \n",
      "Avg Training Stats after 9 global rounds:\n",
      "Training loss: 0.33 | Training accuracy: 67.12% | Training Demographic disparity: 0.0418\n",
      "\n",
      " | Global Training Round : 10 |\n",
      "\n"
     ]
    },
    {
     "name": "stderr",
     "output_type": "stream",
     "text": [
      "100%|██████████| 10/10 [01:38<00:00,  9.85s/it]"
     ]
    },
    {
     "name": "stdout",
     "output_type": "stream",
     "text": [
      "Client 1: accuracy loss: 6.21 | fairness loss 35.12 | Demographic disparity = 0.09\n",
      "Client 2: accuracy loss: 5.29 | fairness loss 94.45 | Demographic disparity = 0.02\n",
      "Client 3: accuracy loss: 6.15 | fairness loss 92.68 | Demographic disparity = 0.13\n",
      " \n",
      "Avg Training Stats after 10 global rounds:\n",
      "Training loss: 0.32 | Training accuracy: 65.52% | Training Demographic disparity: 0.0693\n",
      " \n",
      " Results after 10 global rounds of training:\n",
      "|---- Avg Train Accuracy: 65.52%\n",
      "|---- Test Accuracy: 67.67%\n",
      "|---- Test Demographic disparity: 0.0721\n",
      "\n",
      " Total Run Time: 98.5286 sec\n"
     ]
    },
    {
     "name": "stderr",
     "output_type": "stream",
     "text": [
      "\n"
     ]
    }
   ],
   "source": [
    "seed = 745\n",
    "synthetic_info = dataGenerate(seed = seed, test_samples = 300, train_samples = 3000)\n",
    "server = Server(logReg(num_features=3, num_classes=2, seed = seed), synthetic_info, train_prn = False, metric = \"Demographic disparity\", seed = seed)\n",
    "server.FBVariant1(num_rounds = 10, local_epochs = 30, optimizer = 'adam', learning_rate = 0.006, alpha = 0.22)\n"
   ]
  },
  {
   "cell_type": "code",
   "execution_count": 2,
   "metadata": {
    "scrolled": true
   },
   "outputs": [
    {
     "name": "stderr",
     "output_type": "stream",
     "text": [
      "\r",
      "  0%|          | 0/10 [00:00<?, ?it/s]"
     ]
    },
    {
     "name": "stdout",
     "output_type": "stream",
     "text": [
      "\n",
      " | Global Training Round : 1 |\n",
      "\n"
     ]
    },
    {
     "name": "stderr",
     "output_type": "stream",
     "text": [
      "\r",
      " 10%|█         | 1/10 [00:01<00:12,  1.34s/it]"
     ]
    },
    {
     "name": "stdout",
     "output_type": "stream",
     "text": [
      "Client 1: accuracy loss: 2.94 | fairness loss 232.83 | Demographic disparity = 0.46\n",
      "Client 2: accuracy loss: 2.89 | fairness loss 378.69 | Demographic disparity = 0.47\n",
      "Client 3: accuracy loss: 2.98 | fairness loss 394.39 | Demographic disparity = 0.45\n",
      " \n",
      "Avg Training Stats after 1 global rounds:\n",
      "Training loss: 0.36 | Training accuracy: 86.06% | Training Demographic disparity: 0.5083\n",
      "\n",
      " | Global Training Round : 2 |\n",
      "\n"
     ]
    },
    {
     "name": "stderr",
     "output_type": "stream",
     "text": [
      "\r",
      " 20%|██        | 2/10 [00:02<00:10,  1.33s/it]"
     ]
    },
    {
     "name": "stdout",
     "output_type": "stream",
     "text": [
      "Client 1: accuracy loss: 2.99 | fairness loss 222.59 | Demographic disparity = 0.44\n",
      "Client 2: accuracy loss: 2.96 | fairness loss 358.55 | Demographic disparity = 0.40\n",
      "Client 3: accuracy loss: 3.23 | fairness loss 396.62 | Demographic disparity = 0.45\n",
      " \n",
      "Avg Training Stats after 2 global rounds:\n",
      "Training loss: 0.35 | Training accuracy: 86.92% | Training Demographic disparity: 0.4611\n",
      "\n",
      " | Global Training Round : 3 |\n",
      "\n"
     ]
    },
    {
     "name": "stderr",
     "output_type": "stream",
     "text": [
      "\r",
      " 30%|███       | 3/10 [00:04<00:09,  1.42s/it]"
     ]
    },
    {
     "name": "stdout",
     "output_type": "stream",
     "text": [
      "Client 1: accuracy loss: 3.19 | fairness loss 175.93 | Demographic disparity = 0.41\n",
      "Client 2: accuracy loss: 3.16 | fairness loss 283.59 | Demographic disparity = 0.40\n",
      "Client 3: accuracy loss: 3.56 | fairness loss 329.67 | Demographic disparity = 0.45\n",
      " \n",
      "Avg Training Stats after 3 global rounds:\n",
      "Training loss: 0.35 | Training accuracy: 86.06% | Training Demographic disparity: 0.4512\n",
      "\n",
      " | Global Training Round : 4 |\n",
      "\n"
     ]
    },
    {
     "name": "stderr",
     "output_type": "stream",
     "text": [
      "\r",
      " 40%|████      | 4/10 [00:05<00:08,  1.50s/it]"
     ]
    },
    {
     "name": "stdout",
     "output_type": "stream",
     "text": [
      "Client 1: accuracy loss: 3.38 | fairness loss 147.98 | Demographic disparity = 0.38\n",
      "Client 2: accuracy loss: 3.35 | fairness loss 238.80 | Demographic disparity = 0.34\n",
      "Client 3: accuracy loss: 3.83 | fairness loss 288.96 | Demographic disparity = 0.42\n",
      " \n",
      "Avg Training Stats after 4 global rounds:\n",
      "Training loss: 0.35 | Training accuracy: 84.02% | Training Demographic disparity: 0.3941\n",
      "\n",
      " | Global Training Round : 5 |\n",
      "\n"
     ]
    },
    {
     "name": "stderr",
     "output_type": "stream",
     "text": [
      "\r",
      " 50%|█████     | 5/10 [00:07<00:07,  1.53s/it]"
     ]
    },
    {
     "name": "stdout",
     "output_type": "stream",
     "text": [
      "Client 1: accuracy loss: 3.54 | fairness loss 127.92 | Demographic disparity = 0.38\n",
      "Client 2: accuracy loss: 3.50 | fairness loss 207.70 | Demographic disparity = 0.34\n",
      "Client 3: accuracy loss: 4.05 | fairness loss 259.73 | Demographic disparity = 0.31\n",
      " \n",
      "Avg Training Stats after 5 global rounds:\n",
      "Training loss: 0.34 | Training accuracy: 80.45% | Training Demographic disparity: 0.3380\n",
      "\n",
      " | Global Training Round : 6 |\n",
      "\n"
     ]
    },
    {
     "name": "stderr",
     "output_type": "stream",
     "text": [
      "\r",
      " 60%|██████    | 6/10 [00:09<00:06,  1.51s/it]"
     ]
    },
    {
     "name": "stdout",
     "output_type": "stream",
     "text": [
      "Client 1: accuracy loss: 3.68 | fairness loss 112.18 | Demographic disparity = 0.38\n",
      "Client 2: accuracy loss: 3.65 | fairness loss 183.93 | Demographic disparity = 0.28\n",
      "Client 3: accuracy loss: 4.25 | fairness loss 236.57 | Demographic disparity = 0.26\n",
      " \n",
      "Avg Training Stats after 6 global rounds:\n",
      "Training loss: 0.34 | Training accuracy: 77.29% | Training Demographic disparity: 0.2996\n",
      "\n",
      " | Global Training Round : 7 |\n",
      "\n"
     ]
    },
    {
     "name": "stderr",
     "output_type": "stream",
     "text": [
      "\r",
      " 70%|███████   | 7/10 [00:10<00:04,  1.59s/it]"
     ]
    },
    {
     "name": "stdout",
     "output_type": "stream",
     "text": [
      "Client 1: accuracy loss: 3.80 | fairness loss 98.80 | Demographic disparity = 0.38\n",
      "Client 2: accuracy loss: 3.79 | fairness loss 164.20 | Demographic disparity = 0.25\n",
      "Client 3: accuracy loss: 4.43 | fairness loss 216.66 | Demographic disparity = 0.23\n",
      " \n",
      "Avg Training Stats after 7 global rounds:\n",
      "Training loss: 0.34 | Training accuracy: 77.50% | Training Demographic disparity: 0.2622\n",
      "\n",
      " | Global Training Round : 8 |\n",
      "\n"
     ]
    },
    {
     "name": "stderr",
     "output_type": "stream",
     "text": [
      "\r",
      " 80%|████████  | 8/10 [00:12<00:03,  1.64s/it]"
     ]
    },
    {
     "name": "stdout",
     "output_type": "stream",
     "text": [
      "Client 1: accuracy loss: 3.92 | fairness loss 87.24 | Demographic disparity = 0.38\n",
      "Client 2: accuracy loss: 3.92 | fairness loss 147.34 | Demographic disparity = 0.25\n",
      "Client 3: accuracy loss: 4.61 | fairness loss 199.15 | Demographic disparity = 0.18\n",
      " \n",
      "Avg Training Stats after 8 global rounds:\n",
      "Training loss: 0.33 | Training accuracy: 76.31% | Training Demographic disparity: 0.2523\n",
      "\n",
      " | Global Training Round : 9 |\n",
      "\n"
     ]
    },
    {
     "name": "stderr",
     "output_type": "stream",
     "text": [
      "\r",
      " 90%|█████████ | 9/10 [00:14<00:01,  1.64s/it]"
     ]
    },
    {
     "name": "stdout",
     "output_type": "stream",
     "text": [
      "Client 1: accuracy loss: 4.03 | fairness loss 77.03 | Demographic disparity = 0.33\n",
      "Client 2: accuracy loss: 4.05 | fairness loss 132.55 | Demographic disparity = 0.25\n",
      "Client 3: accuracy loss: 4.78 | fairness loss 183.42 | Demographic disparity = 0.14\n",
      " \n",
      "Avg Training Stats after 9 global rounds:\n",
      "Training loss: 0.33 | Training accuracy: 75.12% | Training Demographic disparity: 0.2139\n",
      "\n",
      " | Global Training Round : 10 |\n",
      "\n"
     ]
    },
    {
     "name": "stderr",
     "output_type": "stream",
     "text": [
      "100%|██████████| 10/10 [00:15<00:00,  1.58s/it]"
     ]
    },
    {
     "name": "stdout",
     "output_type": "stream",
     "text": [
      "Client 1: accuracy loss: 4.15 | fairness loss 67.91 | Demographic disparity = 0.26\n",
      "Client 2: accuracy loss: 4.19 | fairness loss 119.36 | Demographic disparity = 0.21\n",
      "Client 3: accuracy loss: 4.96 | fairness loss 169.06 | Demographic disparity = 0.14\n",
      " \n",
      "Avg Training Stats after 10 global rounds:\n",
      "Training loss: 0.33 | Training accuracy: 71.58% | Training Demographic disparity: 0.1655\n",
      " \n",
      " Results after 10 global rounds of training:\n",
      "|---- Avg Train Accuracy: 71.58%\n",
      "|---- Test Accuracy: 78.00%\n",
      "|---- Test Demographic disparity: 0.0810\n",
      "\n",
      " Total Run Time: 15.8147 sec\n"
     ]
    },
    {
     "name": "stderr",
     "output_type": "stream",
     "text": [
      "\n"
     ]
    }
   ],
   "source": [
    "seed = 82\n",
    "synthetic_info = dataGenerate(seed = seed, test_samples = 100, train_samples = 1000)\n",
    "server = Server(logReg(num_features=3, num_classes=2, seed = seed), synthetic_info, train_prn = False, metric = \"Demographic disparity\", seed = seed)\n",
    "server.FBVariant1(num_rounds = 10, local_epochs = 30, optimizer = 'adam', learning_rate = 0.008, alpha = 0.2)\n"
   ]
  },
  {
   "cell_type": "code",
   "execution_count": null,
   "metadata": {},
   "outputs": [],
   "source": [
    "seed = 752\n",
    "synthetic_info = dataGenerate(seed = seed, test_samples = 100, train_samples = 1000)\n",
    "server = Server(logReg(num_features=3, num_classes=2, seed = seed), synthetic_info, train_prn = False, metric = \"Demographic disparity\", seed = seed)\n",
    "server.FBVariant1(num_rounds = 10, local_epochs = 30, optimizer = 'adam', learning_rate = 0.008, alpha = 0.2)\n"
   ]
  },
  {
   "cell_type": "code",
   "execution_count": 3,
   "metadata": {
    "scrolled": true
   },
   "outputs": [
    {
     "name": "stderr",
     "output_type": "stream",
     "text": [
      "\r",
      "  0%|          | 0/10 [00:00<?, ?it/s]"
     ]
    },
    {
     "name": "stdout",
     "output_type": "stream",
     "text": [
      "\n",
      " | Global Training Round : 1 |\n",
      "\n"
     ]
    },
    {
     "name": "stderr",
     "output_type": "stream",
     "text": [
      "\r",
      " 10%|█         | 1/10 [00:02<00:19,  2.17s/it]"
     ]
    },
    {
     "name": "stdout",
     "output_type": "stream",
     "text": [
      "Client 1: accuracy loss: 4.48 | fairness loss 185.47 | Demographic disparity = 0.48\n",
      "Client 2: accuracy loss: 3.67 | fairness loss 262.99 | Demographic disparity = 0.41\n",
      "Client 3: accuracy loss: 4.06 | fairness loss 321.96 | Demographic disparity = 0.32\n",
      "tensor(0.9961, grad_fn=<DivBackward0>)\n",
      "tensor(-0.0883, grad_fn=<DivBackward0>)\n",
      "{(0, 0): 0.3385725042564597, (0, 1): 0.21427597696778433, (1, 0): 0.6614274957435403, (1, 1): 0.7857240230322157}\n",
      " \n",
      "Avg Training Stats after 1 global rounds:\n",
      "Training loss: 0.50 | Training accuracy: 83.46% | Training Demographic disparity: 0.4056\n",
      "\n",
      " | Global Training Round : 2 |\n",
      "\n"
     ]
    },
    {
     "name": "stderr",
     "output_type": "stream",
     "text": [
      "\r",
      " 20%|██        | 2/10 [00:04<00:17,  2.22s/it]"
     ]
    },
    {
     "name": "stdout",
     "output_type": "stream",
     "text": [
      "Client 1: accuracy loss: 3.82 | fairness loss 137.86 | Demographic disparity = 0.41\n",
      "Client 2: accuracy loss: 3.39 | fairness loss 188.69 | Demographic disparity = 0.34\n",
      "Client 3: accuracy loss: 3.65 | fairness loss 215.65 | Demographic disparity = 0.25\n",
      "tensor(1.0000, grad_fn=<DivBackward0>)\n",
      "tensor(0.0053, grad_fn=<DivBackward0>)\n",
      "{(0, 0): 0.05573371264764926, (0, 1): 0.21277934729472803, (1, 0): 0.9442662873523507, (1, 1): 0.787220652705272}\n",
      " \n",
      "Avg Training Stats after 2 global rounds:\n",
      "Training loss: 0.43 | Training accuracy: 83.19% | Training Demographic disparity: 0.3321\n",
      "\n",
      " | Global Training Round : 3 |\n",
      "\n"
     ]
    },
    {
     "name": "stderr",
     "output_type": "stream",
     "text": [
      "\r",
      " 30%|███       | 3/10 [00:07<00:16,  2.37s/it]"
     ]
    },
    {
     "name": "stdout",
     "output_type": "stream",
     "text": [
      "Client 1: accuracy loss: 4.35 | fairness loss 72.61 | Demographic disparity = 0.22\n",
      "Client 2: accuracy loss: 4.03 | fairness loss 98.03 | Demographic disparity = 0.24\n",
      "Client 3: accuracy loss: 4.53 | fairness loss 108.04 | Demographic disparity = 0.18\n",
      "tensor(0.9984, grad_fn=<DivBackward0>)\n",
      "tensor(-0.0563, grad_fn=<DivBackward0>)\n",
      "{(0, 0): 0, (0, 1): 0.2257830244244735, (1, 0): 1, (1, 1): 0.7742169755755265}\n",
      " \n",
      "Avg Training Stats after 3 global rounds:\n",
      "Training loss: 0.39 | Training accuracy: 76.91% | Training Demographic disparity: 0.2200\n",
      "\n",
      " | Global Training Round : 4 |\n",
      "\n"
     ]
    },
    {
     "name": "stderr",
     "output_type": "stream",
     "text": [
      "\r",
      " 40%|████      | 4/10 [00:09<00:14,  2.34s/it]"
     ]
    },
    {
     "name": "stdout",
     "output_type": "stream",
     "text": [
      "Client 1: accuracy loss: 4.63 | fairness loss 48.06 | Demographic disparity = 0.14\n",
      "Client 2: accuracy loss: 4.46 | fairness loss 64.54 | Demographic disparity = 0.13\n",
      "Client 3: accuracy loss: 5.09 | fairness loss 70.28 | Demographic disparity = 0.11\n",
      "tensor(0.9944, grad_fn=<DivBackward0>)\n",
      "tensor(-0.1055, grad_fn=<DivBackward0>)\n",
      "{(0, 0): 0, (0, 1): 0.24687497548178838, (1, 0): 1, (1, 1): 0.7531250245182116}\n",
      " \n",
      "Avg Training Stats after 4 global rounds:\n",
      "Training loss: 0.36 | Training accuracy: 72.09% | Training Demographic disparity: 0.1264\n",
      "\n",
      " | Global Training Round : 5 |\n",
      "\n"
     ]
    },
    {
     "name": "stderr",
     "output_type": "stream",
     "text": [
      "\r",
      " 50%|█████     | 5/10 [00:12<00:12,  2.41s/it]"
     ]
    },
    {
     "name": "stdout",
     "output_type": "stream",
     "text": [
      "Client 1: accuracy loss: 4.62 | fairness loss 41.35 | Demographic disparity = 0.09\n",
      "Client 2: accuracy loss: 4.56 | fairness loss 55.41 | Demographic disparity = 0.10\n",
      "Client 3: accuracy loss: 5.21 | fairness loss 61.56 | Demographic disparity = 0.05\n",
      "tensor(0.9944, grad_fn=<DivBackward0>)\n",
      "tensor(-0.1059, grad_fn=<DivBackward0>)\n",
      "{(0, 0): 0, (0, 1): 0.2658124607743423, (1, 0): 1, (1, 1): 0.7341875392256577}\n",
      " \n",
      "Avg Training Stats after 5 global rounds:\n",
      "Training loss: 0.34 | Training accuracy: 70.28% | Training Demographic disparity: 0.0799\n",
      "\n",
      " | Global Training Round : 6 |\n",
      "\n"
     ]
    },
    {
     "name": "stderr",
     "output_type": "stream",
     "text": [
      "\r",
      " 60%|██████    | 6/10 [00:14<00:09,  2.44s/it]"
     ]
    },
    {
     "name": "stdout",
     "output_type": "stream",
     "text": [
      "Client 1: accuracy loss: 4.60 | fairness loss 38.30 | Demographic disparity = 0.04\n",
      "Client 2: accuracy loss: 4.62 | fairness loss 51.17 | Demographic disparity = 0.10\n",
      "Client 3: accuracy loss: 5.26 | fairness loss 58.39 | Demographic disparity = 0.03\n",
      "tensor(0.9944, grad_fn=<DivBackward0>)\n",
      "tensor(-0.1053, grad_fn=<DivBackward0>)\n",
      "{(0, 0): 0, (0, 1): 0.28300229317859815, (1, 0): 1, (1, 1): 0.7169977068214018}\n",
      " \n",
      "Avg Training Stats after 6 global rounds:\n",
      "Training loss: 0.33 | Training accuracy: 70.28% | Training Demographic disparity: 0.0619\n",
      "\n",
      " | Global Training Round : 7 |\n",
      "\n"
     ]
    },
    {
     "name": "stderr",
     "output_type": "stream",
     "text": [
      "\r",
      " 70%|███████   | 7/10 [00:17<00:07,  2.44s/it]"
     ]
    },
    {
     "name": "stdout",
     "output_type": "stream",
     "text": [
      "Client 1: accuracy loss: 4.57 | fairness loss 36.85 | Demographic disparity = 0.04\n",
      "Client 2: accuracy loss: 4.66 | fairness loss 49.05 | Demographic disparity = 0.09\n",
      "Client 3: accuracy loss: 5.28 | fairness loss 57.33 | Demographic disparity = 0.00\n",
      "tensor(0.9944, grad_fn=<DivBackward0>)\n",
      "tensor(-0.1056, grad_fn=<DivBackward0>)\n",
      "{(0, 0): 0, (0, 1): 0.29896923757509397, (1, 0): 1, (1, 1): 0.701030762424906}\n",
      " \n",
      "Avg Training Stats after 7 global rounds:\n",
      "Training loss: 0.32 | Training accuracy: 70.73% | Training Demographic disparity: 0.0496\n",
      "\n",
      " | Global Training Round : 8 |\n",
      "\n"
     ]
    },
    {
     "name": "stderr",
     "output_type": "stream",
     "text": [
      "\r",
      " 80%|████████  | 8/10 [00:19<00:04,  2.45s/it]"
     ]
    },
    {
     "name": "stdout",
     "output_type": "stream",
     "text": [
      "Client 1: accuracy loss: 4.55 | fairness loss 36.11 | Demographic disparity = 0.04\n",
      "Client 2: accuracy loss: 4.69 | fairness loss 47.90 | Demographic disparity = 0.07\n",
      "Client 3: accuracy loss: 5.29 | fairness loss 57.12 | Demographic disparity = 0.01\n",
      "tensor(0.9943, grad_fn=<DivBackward0>)\n",
      "tensor(-0.1069, grad_fn=<DivBackward0>)\n",
      "{(0, 0): 0, (0, 1): 0.314084588059942, (1, 0): 1, (1, 1): 0.685915411940058}\n",
      " \n",
      "Avg Training Stats after 8 global rounds:\n",
      "Training loss: 0.31 | Training accuracy: 71.11% | Training Demographic disparity: 0.0420\n",
      "\n",
      " | Global Training Round : 9 |\n",
      "\n"
     ]
    },
    {
     "name": "stderr",
     "output_type": "stream",
     "text": [
      "\r",
      " 90%|█████████ | 9/10 [00:21<00:02,  2.47s/it]"
     ]
    },
    {
     "name": "stdout",
     "output_type": "stream",
     "text": [
      "Client 1: accuracy loss: 4.53 | fairness loss 35.71 | Demographic disparity = 0.04\n",
      "Client 2: accuracy loss: 4.71 | fairness loss 47.20 | Demographic disparity = 0.08\n",
      "Client 3: accuracy loss: 5.30 | fairness loss 57.23 | Demographic disparity = 0.00\n",
      "tensor(0.9941, grad_fn=<DivBackward0>)\n",
      "tensor(-0.1089, grad_fn=<DivBackward0>)\n",
      "{(0, 0): 0, (0, 1): 0.3286032057122986, (1, 0): 1, (1, 1): 0.6713967942877014}\n",
      " \n",
      "Avg Training Stats after 9 global rounds:\n",
      "Training loss: 0.30 | Training accuracy: 71.83% | Training Demographic disparity: 0.0534\n",
      "\n",
      " | Global Training Round : 10 |\n",
      "\n"
     ]
    },
    {
     "name": "stderr",
     "output_type": "stream",
     "text": [
      "100%|██████████| 10/10 [00:24<00:00,  2.44s/it]"
     ]
    },
    {
     "name": "stdout",
     "output_type": "stream",
     "text": [
      "Client 1: accuracy loss: 4.52 | fairness loss 35.45 | Demographic disparity = 0.03\n",
      "Client 2: accuracy loss: 4.73 | fairness loss 46.71 | Demographic disparity = 0.08\n",
      "Client 3: accuracy loss: 5.30 | fairness loss 57.43 | Demographic disparity = 0.01\n",
      "tensor(0.9938, grad_fn=<DivBackward0>)\n",
      "tensor(-0.1115, grad_fn=<DivBackward0>)\n",
      "{(0, 0): 0, (0, 1): 0.3427037005068462, (1, 0): 1, (1, 1): 0.6572962994931538}\n",
      " \n",
      "Avg Training Stats after 10 global rounds:\n",
      "Training loss: 0.30 | Training accuracy: 72.19% | Training Demographic disparity: 0.0549\n",
      " \n",
      " Results after 10 global rounds of training:\n",
      "|---- Avg Train Accuracy: 72.19%\n",
      "|---- Test Accuracy: 72.00%\n",
      "|---- Test Demographic disparity: 0.0618\n",
      "\n",
      " Total Run Time: 24.3804 sec\n"
     ]
    },
    {
     "name": "stderr",
     "output_type": "stream",
     "text": [
      "\n"
     ]
    }
   ],
   "source": [
    "seed = 439\n",
    "synthetic_info = dataGenerate(seed = seed, test_samples = 100)\n",
    "server = Server(logReg(num_features=3, num_classes=2, seed = seed), synthetic_info, train_prn = False, metric = \"Demographic disparity\", seed = seed)\n",
    "server.FBVariant3(num_rounds = 10, local_epochs = 30, optimizer = 'adam', learning_rate = 0.002, alpha = 0.4)\n",
    "\n"
   ]
  },
  {
   "cell_type": "code",
   "execution_count": 4,
   "metadata": {
    "scrolled": true
   },
   "outputs": [
    {
     "name": "stderr",
     "output_type": "stream",
     "text": [
      "\r",
      "  0%|          | 0/10 [00:00<?, ?it/s]"
     ]
    },
    {
     "name": "stdout",
     "output_type": "stream",
     "text": [
      "\n",
      " | Global Training Round : 1 |\n",
      "\n"
     ]
    },
    {
     "name": "stderr",
     "output_type": "stream",
     "text": [
      "\r",
      " 10%|█         | 1/10 [00:02<00:21,  2.40s/it]"
     ]
    },
    {
     "name": "stdout",
     "output_type": "stream",
     "text": [
      "Client 1: accuracy loss: 3.54 | fairness loss 235.32 | Demographic disparity = 0.49\n",
      "Client 2: accuracy loss: 3.26 | fairness loss 294.05 | Demographic disparity = 0.27\n",
      "Client 3: accuracy loss: 3.16 | fairness loss 262.95 | Demographic disparity = 0.42\n",
      " \n",
      "Avg Training Stats after 1 global rounds:\n",
      "Training loss: 0.63 | Training accuracy: 86.89% | Training Demographic disparity: 0.3744\n",
      "\n",
      " | Global Training Round : 2 |\n",
      "\n"
     ]
    },
    {
     "name": "stderr",
     "output_type": "stream",
     "text": [
      "\r",
      " 20%|██        | 2/10 [00:04<00:19,  2.40s/it]"
     ]
    },
    {
     "name": "stdout",
     "output_type": "stream",
     "text": [
      "Client 1: accuracy loss: 3.68 | fairness loss 147.09 | Demographic disparity = 0.42\n",
      "Client 2: accuracy loss: 3.37 | fairness loss 176.12 | Demographic disparity = 0.26\n",
      "Client 3: accuracy loss: 3.54 | fairness loss 165.05 | Demographic disparity = 0.37\n",
      " \n",
      "Avg Training Stats after 2 global rounds:\n",
      "Training loss: 0.51 | Training accuracy: 87.36% | Training Demographic disparity: 0.3357\n",
      "\n",
      " | Global Training Round : 3 |\n",
      "\n"
     ]
    },
    {
     "name": "stderr",
     "output_type": "stream",
     "text": [
      "\r",
      " 30%|███       | 3/10 [00:07<00:17,  2.47s/it]"
     ]
    },
    {
     "name": "stdout",
     "output_type": "stream",
     "text": [
      "Client 1: accuracy loss: 3.97 | fairness loss 95.52 | Demographic disparity = 0.40\n",
      "Client 2: accuracy loss: 3.71 | fairness loss 127.59 | Demographic disparity = 0.24\n",
      "Client 3: accuracy loss: 3.99 | fairness loss 110.61 | Demographic disparity = 0.33\n",
      " \n",
      "Avg Training Stats after 3 global rounds:\n",
      "Training loss: 0.47 | Training accuracy: 86.31% | Training Demographic disparity: 0.3037\n",
      "\n",
      " | Global Training Round : 4 |\n",
      "\n"
     ]
    },
    {
     "name": "stderr",
     "output_type": "stream",
     "text": [
      "\r",
      " 40%|████      | 4/10 [00:09<00:14,  2.48s/it]"
     ]
    },
    {
     "name": "stdout",
     "output_type": "stream",
     "text": [
      "Client 1: accuracy loss: 4.21 | fairness loss 70.99 | Demographic disparity = 0.37\n",
      "Client 2: accuracy loss: 3.98 | fairness loss 104.73 | Demographic disparity = 0.19\n",
      "Client 3: accuracy loss: 4.34 | fairness loss 84.40 | Demographic disparity = 0.23\n",
      " \n",
      "Avg Training Stats after 4 global rounds:\n",
      "Training loss: 0.45 | Training accuracy: 82.40% | Training Demographic disparity: 0.2398\n",
      "\n",
      " | Global Training Round : 5 |\n",
      "\n"
     ]
    },
    {
     "name": "stderr",
     "output_type": "stream",
     "text": [
      "\r",
      " 50%|█████     | 5/10 [00:12<00:12,  2.48s/it]"
     ]
    },
    {
     "name": "stdout",
     "output_type": "stream",
     "text": [
      "Client 1: accuracy loss: 4.42 | fairness loss 57.00 | Demographic disparity = 0.26\n",
      "Client 2: accuracy loss: 4.22 | fairness loss 91.52 | Demographic disparity = 0.14\n",
      "Client 3: accuracy loss: 4.62 | fairness loss 69.14 | Demographic disparity = 0.20\n",
      " \n",
      "Avg Training Stats after 5 global rounds:\n",
      "Training loss: 0.44 | Training accuracy: 79.65% | Training Demographic disparity: 0.1859\n",
      "\n",
      " | Global Training Round : 6 |\n",
      "\n"
     ]
    },
    {
     "name": "stderr",
     "output_type": "stream",
     "text": [
      "\r",
      " 60%|██████    | 6/10 [00:14<00:10,  2.50s/it]"
     ]
    },
    {
     "name": "stdout",
     "output_type": "stream",
     "text": [
      "Client 1: accuracy loss: 4.60 | fairness loss 47.97 | Demographic disparity = 0.16\n",
      "Client 2: accuracy loss: 4.43 | fairness loss 82.64 | Demographic disparity = 0.11\n",
      "Client 3: accuracy loss: 4.87 | fairness loss 58.99 | Demographic disparity = 0.15\n",
      " \n",
      "Avg Training Stats after 6 global rounds:\n",
      "Training loss: 0.43 | Training accuracy: 76.20% | Training Demographic disparity: 0.1370\n",
      "\n",
      " | Global Training Round : 7 |\n",
      "\n"
     ]
    },
    {
     "name": "stderr",
     "output_type": "stream",
     "text": [
      "\r",
      " 70%|███████   | 7/10 [00:17<00:07,  2.49s/it]"
     ]
    },
    {
     "name": "stdout",
     "output_type": "stream",
     "text": [
      "Client 1: accuracy loss: 4.78 | fairness loss 41.64 | Demographic disparity = 0.05\n",
      "Client 2: accuracy loss: 4.62 | fairness loss 76.07 | Demographic disparity = 0.08\n",
      "Client 3: accuracy loss: 5.09 | fairness loss 51.64 | Demographic disparity = 0.14\n",
      " \n",
      "Avg Training Stats after 7 global rounds:\n",
      "Training loss: 0.42 | Training accuracy: 75.55% | Training Demographic disparity: 0.1051\n",
      "\n",
      " | Global Training Round : 8 |\n",
      "\n"
     ]
    },
    {
     "name": "stderr",
     "output_type": "stream",
     "text": [
      "\r",
      " 80%|████████  | 8/10 [00:20<00:05,  2.55s/it]"
     ]
    },
    {
     "name": "stdout",
     "output_type": "stream",
     "text": [
      "Client 1: accuracy loss: 4.94 | fairness loss 36.98 | Demographic disparity = 0.01\n",
      "Client 2: accuracy loss: 4.80 | fairness loss 70.89 | Demographic disparity = 0.05\n",
      "Client 3: accuracy loss: 5.30 | fairness loss 46.02 | Demographic disparity = 0.14\n",
      " \n",
      "Avg Training Stats after 8 global rounds:\n",
      "Training loss: 0.41 | Training accuracy: 73.98% | Training Demographic disparity: 0.0815\n",
      "\n",
      " | Global Training Round : 9 |\n",
      "\n"
     ]
    },
    {
     "name": "stderr",
     "output_type": "stream",
     "text": [
      "\r",
      " 90%|█████████ | 9/10 [00:22<00:02,  2.55s/it]"
     ]
    },
    {
     "name": "stdout",
     "output_type": "stream",
     "text": [
      "Client 1: accuracy loss: 5.11 | fairness loss 33.49 | Demographic disparity = 0.02\n",
      "Client 2: accuracy loss: 4.98 | fairness loss 66.66 | Demographic disparity = 0.01\n",
      "Client 3: accuracy loss: 5.51 | fairness loss 41.60 | Demographic disparity = 0.13\n",
      " \n",
      "Avg Training Stats after 9 global rounds:\n",
      "Training loss: 0.41 | Training accuracy: 72.28% | Training Demographic disparity: 0.0512\n",
      "\n",
      " | Global Training Round : 10 |\n",
      "\n"
     ]
    },
    {
     "name": "stderr",
     "output_type": "stream",
     "text": [
      "100%|██████████| 10/10 [00:25<00:00,  2.51s/it]"
     ]
    },
    {
     "name": "stdout",
     "output_type": "stream",
     "text": [
      "Client 1: accuracy loss: 5.26 | fairness loss 30.87 | Demographic disparity = 0.05\n",
      "Client 2: accuracy loss: 5.16 | fairness loss 63.13 | Demographic disparity = 0.00\n",
      "Client 3: accuracy loss: 5.71 | fairness loss 38.07 | Demographic disparity = 0.12\n",
      " \n",
      "Avg Training Stats after 10 global rounds:\n",
      "Training loss: 0.40 | Training accuracy: 71.26% | Training Demographic disparity: 0.0328\n",
      " \n",
      " Results after 10 global rounds of training:\n",
      "|---- Avg Train Accuracy: 71.26%\n",
      "|---- Test Accuracy: 70.33%\n",
      "|---- Test Demographic disparity: 0.0041\n",
      "\n",
      " Total Run Time: 25.1603 sec\n"
     ]
    },
    {
     "name": "stderr",
     "output_type": "stream",
     "text": [
      "\n"
     ]
    }
   ],
   "source": [
    "seed = 752\n",
    "synthetic_info = dataGenerate(seed = seed, test_samples = 300)\n",
    "server = Server(logReg(num_features=3, num_classes=2, seed = seed), synthetic_info, train_prn = False, metric = \"Demographic disparity\", seed = seed)\n",
    "server.FBVariant1(num_rounds = 10, local_epochs = 30, optimizer = 'adam', learning_rate = 0.004, alpha = 0.2)\n"
   ]
  },
  {
   "cell_type": "code",
   "execution_count": 10,
   "metadata": {
    "scrolled": true
   },
   "outputs": [
    {
     "name": "stderr",
     "output_type": "stream",
     "text": [
      "\r",
      "  0%|          | 0/2 [00:00<?, ?it/s]"
     ]
    },
    {
     "name": "stdout",
     "output_type": "stream",
     "text": [
      "\n",
      " | Global Training Round : 1 |\n",
      "\n"
     ]
    },
    {
     "name": "stderr",
     "output_type": "stream",
     "text": [
      "\r",
      " 50%|█████     | 1/2 [00:18<00:18, 18.49s/it]"
     ]
    },
    {
     "name": "stdout",
     "output_type": "stream",
     "text": [
      "Client 1: accuracy loss: 3.23 | fairness loss 571.67 | Demographic disparity = 0.61\n",
      "Client 2: accuracy loss: 2.22 | fairness loss 893.92 | Demographic disparity = 0.40\n",
      "Client 3: accuracy loss: 2.95 | fairness loss 765.73 | Demographic disparity = 0.43\n",
      " \n",
      "Avg Training Stats after 1 global rounds:\n",
      "Training loss: 42.36 | Validation accuracy: 84.84% | Validation Demographic disparity: 0.4600\n",
      "\n",
      " | Global Training Round : 2 |\n",
      "\n"
     ]
    },
    {
     "name": "stderr",
     "output_type": "stream",
     "text": [
      "100%|██████████| 2/2 [00:31<00:00, 15.68s/it]\n",
      "  0%|          | 0/8 [00:00<?, ?it/s]"
     ]
    },
    {
     "name": "stdout",
     "output_type": "stream",
     "text": [
      "Client 1: accuracy loss: 3.27 | fairness loss 583.74 | Demographic disparity = 0.57\n",
      "Client 2: accuracy loss: 2.25 | fairness loss 930.61 | Demographic disparity = 0.38\n",
      "Client 3: accuracy loss: 2.97 | fairness loss 787.18 | Demographic disparity = 0.41\n",
      " \n",
      "Avg Training Stats after 2 global rounds:\n",
      "Training loss: 38.57 | Validation accuracy: 85.52% | Validation Demographic disparity: 0.4404\n",
      " \n",
      " Results after 2 global rounds of training:\n",
      "|---- Avg Train Accuracy: 85.52%\n",
      "|---- Test Accuracy: 90.67%\n",
      "|---- Test Demographic disparity: 0.3672\n",
      "\n",
      " Total Run Time: 31.4225 sec\n"
     ]
    },
    {
     "name": "stderr",
     "output_type": "stream",
     "text": [
      "\r",
      " 12%|█▎        | 1/8 [00:17<01:59, 17.08s/it]"
     ]
    },
    {
     "name": "stdout",
     "output_type": "stream",
     "text": [
      " \n",
      "Avg Training Stats after 1 threshold adjusting global rounds:\n",
      "Training loss: 14.86 | Validation accuracy: 85.25% | Validation Demographic disparity: 0.3849\n"
     ]
    },
    {
     "name": "stderr",
     "output_type": "stream",
     "text": [
      "\r",
      " 25%|██▌       | 2/8 [00:31<01:37, 16.19s/it]"
     ]
    },
    {
     "name": "stdout",
     "output_type": "stream",
     "text": [
      " \n",
      "Avg Training Stats after 2 threshold adjusting global rounds:\n",
      "Training loss: 16.97 | Validation accuracy: 81.51% | Validation Demographic disparity: 0.3221\n"
     ]
    },
    {
     "name": "stderr",
     "output_type": "stream",
     "text": [
      "\r",
      " 38%|███▊      | 3/8 [00:43<01:14, 14.90s/it]"
     ]
    },
    {
     "name": "stdout",
     "output_type": "stream",
     "text": [
      " \n",
      "Avg Training Stats after 3 threshold adjusting global rounds:\n",
      "Training loss: 20.34 | Validation accuracy: 78.80% | Validation Demographic disparity: 0.2787\n"
     ]
    },
    {
     "name": "stderr",
     "output_type": "stream",
     "text": [
      "\r",
      " 50%|█████     | 4/8 [01:00<01:02, 15.59s/it]"
     ]
    },
    {
     "name": "stdout",
     "output_type": "stream",
     "text": [
      " \n",
      "Avg Training Stats after 4 threshold adjusting global rounds:\n",
      "Training loss: 25.03 | Validation accuracy: 69.35% | Validation Demographic disparity: 0.1579\n"
     ]
    },
    {
     "name": "stderr",
     "output_type": "stream",
     "text": [
      "\r",
      " 62%|██████▎   | 5/8 [01:29<00:59, 19.68s/it]"
     ]
    },
    {
     "name": "stdout",
     "output_type": "stream",
     "text": [
      " \n",
      "Avg Training Stats after 5 threshold adjusting global rounds:\n",
      "Training loss: 31.04 | Validation accuracy: 65.96% | Validation Demographic disparity: 0.1048\n"
     ]
    },
    {
     "name": "stderr",
     "output_type": "stream",
     "text": [
      "\r",
      " 75%|███████▌  | 6/8 [02:02<00:47, 23.61s/it]"
     ]
    },
    {
     "name": "stdout",
     "output_type": "stream",
     "text": [
      " \n",
      "Avg Training Stats after 6 threshold adjusting global rounds:\n",
      "Training loss: 38.27 | Validation accuracy: 60.90% | Validation Demographic disparity: 0.0468\n",
      " \n",
      "Avg Training Stats after 7 threshold adjusting global rounds:\n",
      "Training loss: 46.54 | Validation accuracy: 55.85% | Validation Demographic disparity: 0.0063\n",
      " \n",
      " Results after 8 global rounds of training:\n",
      "|---- Test Accuracy: 70.67%\n",
      "|---- Test Demographic disparity: 0.0166\n",
      "\n",
      " Total Run Time: 145.9820 sec\n"
     ]
    }
   ],
   "source": [
    "seed = 745\n",
    "synthetic_info = dataGenerate(seed = seed, test_samples = 300)\n",
    "server = Server(logReg(num_features=3, num_classes=2, seed = seed), synthetic_info, train_prn = False, seed = seed)\n",
    "server.Unconstrained(num_rounds = 2, local_epochs = 30, optimizer = 'adam', learning_rate = 0.008)\n",
    "server.ThresholdAdjust(num_rounds = 8, local_epochs = 30, epsilon = 0.02, learning_rate = 0.005)\n"
   ]
  },
  {
   "cell_type": "code",
   "execution_count": 7,
   "metadata": {
    "scrolled": true
   },
   "outputs": [
    {
     "name": "stderr",
     "output_type": "stream",
     "text": [
      "\r",
      "  0%|          | 0/2 [00:00<?, ?it/s]"
     ]
    },
    {
     "name": "stdout",
     "output_type": "stream",
     "text": [
      "\n",
      " | Global Training Round : 1 |\n",
      "\n"
     ]
    },
    {
     "name": "stderr",
     "output_type": "stream",
     "text": [
      "\r",
      " 50%|█████     | 1/2 [00:20<00:20, 20.84s/it]"
     ]
    },
    {
     "name": "stdout",
     "output_type": "stream",
     "text": [
      "Client 1: accuracy loss: 27.75 | fairness loss 959.83 | Demographic disparity = 0.55\n",
      "Client 2: accuracy loss: 26.36 | fairness loss 940.01 | Demographic disparity = 0.32\n",
      "Client 3: accuracy loss: 21.75 | fairness loss 895.98 | Demographic disparity = 0.39\n",
      " \n",
      "Avg Training Stats after 1 global rounds:\n",
      "Training loss: 38.87 | Validation accuracy: 87.91% | Validation Demographic disparity: 0.3814\n",
      "\n",
      " | Global Training Round : 2 |\n",
      "\n"
     ]
    },
    {
     "name": "stderr",
     "output_type": "stream",
     "text": [
      "100%|██████████| 2/2 [00:41<00:00, 20.61s/it]\n",
      "  0%|          | 0/10 [00:00<?, ?it/s]"
     ]
    },
    {
     "name": "stdout",
     "output_type": "stream",
     "text": [
      "Client 1: accuracy loss: 27.78 | fairness loss 938.43 | Demographic disparity = 0.55\n",
      "Client 2: accuracy loss: 26.35 | fairness loss 920.47 | Demographic disparity = 0.32\n",
      "Client 3: accuracy loss: 21.81 | fairness loss 877.14 | Demographic disparity = 0.39\n",
      " \n",
      "Avg Training Stats after 2 global rounds:\n",
      "Training loss: 37.81 | Validation accuracy: 87.95% | Validation Demographic disparity: 0.3812\n",
      " \n",
      " Results after 2 global rounds of training:\n",
      "|---- Avg Train Accuracy: 87.95%\n",
      "|---- Test Accuracy: 86.00%\n",
      "|---- Test Demographic disparity: 0.3815\n",
      "\n",
      " Total Run Time: 41.2299 sec\n",
      "\n",
      " | Global Training Round : 1 |\n",
      "\n",
      "Client 1: accuracy loss: 128.61 | fairness loss 621.58 | Demographic disparity = 0.07\n"
     ]
    },
    {
     "name": "stderr",
     "output_type": "stream",
     "text": [
      "\r",
      " 10%|█         | 1/10 [00:00<00:01,  4.53it/s]"
     ]
    },
    {
     "name": "stdout",
     "output_type": "stream",
     "text": [
      "Client 2: accuracy loss: 76.90 | fairness loss 821.23 | Demographic disparity = 0.08\n",
      "Client 3: accuracy loss: 53.42 | fairness loss 705.63 | Demographic disparity = 0.07\n",
      " \n",
      "Avg Training Stats after 1 global rounds:\n",
      "Validation accuracy: 51.13% | Validation Demographic disparity: 0.0757\n",
      "\n",
      " | Global Training Round : 2 |\n",
      "\n",
      "Client 1: accuracy loss: 127.56 | fairness loss 620.05 | Demographic disparity = 0.07\n",
      "Client 2: accuracy loss: 76.29 | fairness loss 818.03 | Demographic disparity = 0.07\n"
     ]
    },
    {
     "name": "stderr",
     "output_type": "stream",
     "text": [
      " 30%|███       | 3/10 [00:00<00:01,  5.28it/s]"
     ]
    },
    {
     "name": "stdout",
     "output_type": "stream",
     "text": [
      "Client 3: accuracy loss: 53.02 | fairness loss 702.54 | Demographic disparity = 0.07\n",
      " \n",
      "Avg Training Stats after 2 global rounds:\n",
      "Validation accuracy: 51.34% | Validation Demographic disparity: 0.0734\n",
      "\n",
      " | Global Training Round : 3 |\n",
      "\n",
      "Client 1: accuracy loss: 126.91 | fairness loss 619.12 | Demographic disparity = 0.07\n",
      "Client 2: accuracy loss: 75.91 | fairness loss 816.06 | Demographic disparity = 0.07\n",
      "Client 3: accuracy loss: 52.78 | fairness loss 700.64 | Demographic disparity = 0.07\n",
      " \n",
      "Avg Training Stats after 3 global rounds:\n",
      "Validation accuracy: 51.38% | Validation Demographic disparity: 0.0730\n",
      "\n",
      " | Global Training Round : 4 |\n",
      "\n"
     ]
    },
    {
     "name": "stderr",
     "output_type": "stream",
     "text": [
      "\r",
      " 40%|████      | 4/10 [00:00<00:01,  5.37it/s]"
     ]
    },
    {
     "name": "stdout",
     "output_type": "stream",
     "text": [
      "Client 1: accuracy loss: 126.44 | fairness loss 618.46 | Demographic disparity = 0.06\n",
      "Client 2: accuracy loss: 75.65 | fairness loss 814.67 | Demographic disparity = 0.07\n",
      "Client 3: accuracy loss: 52.61 | fairness loss 699.30 | Demographic disparity = 0.07\n",
      " \n",
      "Avg Training Stats after 4 global rounds:\n",
      "Validation accuracy: 51.54% | Validation Demographic disparity: 0.0714\n",
      "\n",
      " | Global Training Round : 5 |\n",
      "\n",
      "Client 1: accuracy loss: 126.10 | fairness loss 617.97 | Demographic disparity = 0.06\n"
     ]
    },
    {
     "name": "stderr",
     "output_type": "stream",
     "text": [
      "\r",
      " 50%|█████     | 5/10 [00:00<00:00,  5.55it/s]"
     ]
    },
    {
     "name": "stdout",
     "output_type": "stream",
     "text": [
      "Client 2: accuracy loss: 75.45 | fairness loss 813.63 | Demographic disparity = 0.07\n",
      "Client 3: accuracy loss: 52.48 | fairness loss 698.30 | Demographic disparity = 0.07\n",
      " \n",
      "Avg Training Stats after 5 global rounds:\n",
      "Validation accuracy: 51.54% | Validation Demographic disparity: 0.0714\n",
      "\n",
      " | Global Training Round : 6 |\n",
      "\n",
      "Client 1: accuracy loss: 125.82 | fairness loss 617.58 | Demographic disparity = 0.06\n",
      "Client 2: accuracy loss: 75.29 | fairness loss 812.81 | Demographic disparity = 0.07\n"
     ]
    },
    {
     "name": "stderr",
     "output_type": "stream",
     "text": [
      " 70%|███████   | 7/10 [00:01<00:00,  5.44it/s]"
     ]
    },
    {
     "name": "stdout",
     "output_type": "stream",
     "text": [
      "Client 3: accuracy loss: 52.37 | fairness loss 697.51 | Demographic disparity = 0.07\n",
      " \n",
      "Avg Training Stats after 6 global rounds:\n",
      "Validation accuracy: 51.57% | Validation Demographic disparity: 0.0710\n",
      "\n",
      " | Global Training Round : 7 |\n",
      "\n",
      "Client 1: accuracy loss: 125.60 | fairness loss 617.27 | Demographic disparity = 0.06\n",
      "Client 2: accuracy loss: 75.16 | fairness loss 812.14 | Demographic disparity = 0.07\n",
      "Client 3: accuracy loss: 52.29 | fairness loss 696.87 | Demographic disparity = 0.07\n",
      " \n",
      "Avg Training Stats after 7 global rounds:\n",
      "Validation accuracy: 51.66% | Validation Demographic disparity: 0.0700\n",
      "\n",
      " | Global Training Round : 8 |\n",
      "\n"
     ]
    },
    {
     "name": "stderr",
     "output_type": "stream",
     "text": [
      "\r",
      " 80%|████████  | 8/10 [00:01<00:00,  5.50it/s]"
     ]
    },
    {
     "name": "stdout",
     "output_type": "stream",
     "text": [
      "Client 1: accuracy loss: 125.42 | fairness loss 617.02 | Demographic disparity = 0.06\n",
      "Client 2: accuracy loss: 75.06 | fairness loss 811.60 | Demographic disparity = 0.07\n",
      "Client 3: accuracy loss: 52.22 | fairness loss 696.34 | Demographic disparity = 0.07\n",
      " \n",
      "Avg Training Stats after 8 global rounds:\n",
      "Validation accuracy: 51.66% | Validation Demographic disparity: 0.0700\n",
      "\n",
      " | Global Training Round : 9 |\n",
      "\n",
      "Client 1: accuracy loss: 125.27 | fairness loss 616.80 | Demographic disparity = 0.06\n"
     ]
    },
    {
     "name": "stderr",
     "output_type": "stream",
     "text": [
      "100%|██████████| 10/10 [00:01<00:00,  5.70it/s]"
     ]
    },
    {
     "name": "stdout",
     "output_type": "stream",
     "text": [
      "Client 2: accuracy loss: 74.97 | fairness loss 811.13 | Demographic disparity = 0.07\n",
      "Client 3: accuracy loss: 52.17 | fairness loss 695.89 | Demographic disparity = 0.07\n",
      " \n",
      "Avg Training Stats after 9 global rounds:\n",
      "Validation accuracy: 51.66% | Validation Demographic disparity: 0.0700\n",
      "\n",
      " | Global Training Round : 10 |\n",
      "\n",
      "Client 1: accuracy loss: 125.13 | fairness loss 616.62 | Demographic disparity = 0.06\n",
      "Client 2: accuracy loss: 74.89 | fairness loss 810.74 | Demographic disparity = 0.07\n",
      "Client 3: accuracy loss: 52.12 | fairness loss 695.51 | Demographic disparity = 0.07\n",
      " \n",
      "Avg Training Stats after 10 global rounds:\n",
      "Validation accuracy: 51.66% | Validation Demographic disparity: 0.0700\n"
     ]
    },
    {
     "name": "stderr",
     "output_type": "stream",
     "text": [
      "\r",
      "100%|██████████| 10/10 [00:01<00:00,  5.64it/s]"
     ]
    },
    {
     "name": "stdout",
     "output_type": "stream",
     "text": [
      " \n",
      " Results after 10 global rounds of training:\n",
      "|---- Avg Train Accuracy: 51.66%\n",
      "|---- Test Accuracy: 48.67%\n",
      "|---- Test Demographic disparity: 0.0675\n",
      "\n",
      " Total Run Time: 1.7930 sec\n"
     ]
    },
    {
     "name": "stderr",
     "output_type": "stream",
     "text": [
      "\n"
     ]
    }
   ],
   "source": [
    "seed = 752\n",
    "synthetic_info = dataGenerate(seed = seed, test_samples = 300)\n",
    "server = Server(logReg(num_features=3, num_classes=2, seed = seed), synthetic_info, train_prn = False, metric = \"Demographic disparity\", seed = seed)\n",
    "server.Unconstrained(num_rounds = 2, local_epochs = 30, optimizer = 'adam', learning_rate = 0.008)\n",
    "server.postBC(num_rounds = 10, alpha = 11, adaptive_alpha = True)\n"
   ]
  },
  {
   "cell_type": "code",
   "execution_count": 6,
   "metadata": {
    "scrolled": true
   },
   "outputs": [
    {
     "name": "stderr",
     "output_type": "stream",
     "text": [
      "\r",
      "  0%|          | 0/10 [00:00<?, ?it/s]"
     ]
    },
    {
     "name": "stdout",
     "output_type": "stream",
     "text": [
      "\n",
      " | Global Training Round : 1 |\n",
      "\n"
     ]
    },
    {
     "name": "stderr",
     "output_type": "stream",
     "text": [
      "\r",
      " 10%|█         | 1/10 [00:04<00:37,  4.13s/it]"
     ]
    },
    {
     "name": "stdout",
     "output_type": "stream",
     "text": [
      "Client 1: predictor loss: 3.03 | adversary loss 0.36 | Demographic disparity = 0.51\n",
      "Client 2: predictor loss: 2.30 | adversary loss 0.46 | Demographic disparity = 0.36\n",
      "Client 3: predictor loss: 3.10 | adversary loss 0.36 | Demographic disparity = 0.40\n",
      " \n",
      "Avg Training Stats after 1 global rounds:\n",
      "Training loss: 0.55 | Validation accuracy: 87.02% | Validation Demographic disparity: 0.3916\n",
      "\n",
      " | Global Training Round : 2 |\n",
      "\n"
     ]
    },
    {
     "name": "stderr",
     "output_type": "stream",
     "text": [
      "\r",
      " 20%|██        | 2/10 [00:07<00:31,  3.99s/it]"
     ]
    },
    {
     "name": "stdout",
     "output_type": "stream",
     "text": [
      "Client 1: predictor loss: 2.95 | adversary loss 0.53 | Demographic disparity = 0.57\n",
      "Client 2: predictor loss: 2.13 | adversary loss 0.73 | Demographic disparity = 0.36\n",
      "Client 3: predictor loss: 3.03 | adversary loss 0.56 | Demographic disparity = 0.40\n",
      " \n",
      "Avg Training Stats after 2 global rounds:\n",
      "Training loss: 0.42 | Validation accuracy: 88.33% | Validation Demographic disparity: 0.4001\n",
      "\n",
      " | Global Training Round : 3 |\n",
      "\n"
     ]
    },
    {
     "name": "stderr",
     "output_type": "stream",
     "text": [
      "\r",
      " 30%|███       | 3/10 [00:11<00:27,  3.87s/it]"
     ]
    },
    {
     "name": "stdout",
     "output_type": "stream",
     "text": [
      "Client 1: predictor loss: 7.26 | adversary loss 0.72 | Demographic disparity = 0.13\n",
      "Client 2: predictor loss: 7.68 | adversary loss 0.78 | Demographic disparity = 0.07\n",
      "Client 3: predictor loss: 7.43 | adversary loss 0.76 | Demographic disparity = 0.04\n",
      " \n",
      "Avg Training Stats after 3 global rounds:\n",
      "Training loss: 0.41 | Validation accuracy: 57.66% | Validation Demographic disparity: 0.0722\n",
      "\n",
      " | Global Training Round : 4 |\n",
      "\n"
     ]
    },
    {
     "name": "stderr",
     "output_type": "stream",
     "text": [
      "\r",
      " 40%|████      | 4/10 [00:14<00:22,  3.67s/it]"
     ]
    },
    {
     "name": "stdout",
     "output_type": "stream",
     "text": [
      "Client 1: predictor loss: 4.25 | adversary loss 0.60 | Demographic disparity = 0.27\n",
      "Client 2: predictor loss: 3.74 | adversary loss 0.66 | Demographic disparity = 0.21\n",
      "Client 3: predictor loss: 4.09 | adversary loss 0.67 | Demographic disparity = 0.29\n",
      " \n",
      "Avg Training Stats after 4 global rounds:\n",
      "Training loss: 0.46 | Validation accuracy: 81.83% | Validation Demographic disparity: 0.2358\n",
      "\n",
      " | Global Training Round : 5 |\n",
      "\n"
     ]
    },
    {
     "name": "stderr",
     "output_type": "stream",
     "text": [
      "\r",
      " 50%|█████     | 5/10 [00:17<00:16,  3.34s/it]"
     ]
    },
    {
     "name": "stdout",
     "output_type": "stream",
     "text": [
      "Client 1: predictor loss: 5.78 | adversary loss 0.68 | Demographic disparity = 0.06\n",
      "Client 2: predictor loss: 5.28 | adversary loss 0.69 | Demographic disparity = 0.00\n",
      "Client 3: predictor loss: 5.46 | adversary loss 0.69 | Demographic disparity = 0.10\n",
      " \n",
      "Avg Training Stats after 5 global rounds:\n",
      "Training loss: 0.48 | Validation accuracy: 68.55% | Validation Demographic disparity: 0.0287\n",
      "\n",
      " | Global Training Round : 6 |\n",
      "\n"
     ]
    },
    {
     "name": "stderr",
     "output_type": "stream",
     "text": [
      "\r",
      " 60%|██████    | 6/10 [00:19<00:12,  3.16s/it]"
     ]
    },
    {
     "name": "stdout",
     "output_type": "stream",
     "text": [
      "Client 1: predictor loss: 4.45 | adversary loss 0.54 | Demographic disparity = 0.24\n",
      "Client 2: predictor loss: 3.69 | adversary loss 0.63 | Demographic disparity = 0.19\n",
      "Client 3: predictor loss: 4.14 | adversary loss 0.65 | Demographic disparity = 0.27\n",
      " \n",
      "Avg Training Stats after 6 global rounds:\n",
      "Training loss: 0.49 | Validation accuracy: 84.02% | Validation Demographic disparity: 0.2140\n",
      "\n",
      " | Global Training Round : 7 |\n",
      "\n"
     ]
    },
    {
     "name": "stderr",
     "output_type": "stream",
     "text": [
      "\r",
      " 70%|███████   | 7/10 [00:22<00:08,  2.99s/it]"
     ]
    },
    {
     "name": "stdout",
     "output_type": "stream",
     "text": [
      "Client 1: predictor loss: 5.81 | adversary loss 0.68 | Demographic disparity = 0.01\n",
      "Client 2: predictor loss: 5.09 | adversary loss 0.70 | Demographic disparity = 0.00\n",
      "Client 3: predictor loss: 5.39 | adversary loss 0.70 | Demographic disparity = 0.02\n",
      " \n",
      "Avg Training Stats after 7 global rounds:\n",
      "Training loss: 0.50 | Validation accuracy: 69.92% | Validation Demographic disparity: 0.0082\n",
      "\n",
      " | Global Training Round : 8 |\n",
      "\n"
     ]
    },
    {
     "name": "stderr",
     "output_type": "stream",
     "text": [
      "\r",
      " 80%|████████  | 8/10 [00:25<00:05,  2.89s/it]"
     ]
    },
    {
     "name": "stdout",
     "output_type": "stream",
     "text": [
      "Client 1: predictor loss: 4.11 | adversary loss 0.54 | Demographic disparity = 0.21\n",
      "Client 2: predictor loss: 3.35 | adversary loss 0.63 | Demographic disparity = 0.18\n",
      "Client 3: predictor loss: 3.92 | adversary loss 0.66 | Demographic disparity = 0.28\n",
      " \n",
      "Avg Training Stats after 8 global rounds:\n",
      "Training loss: 0.50 | Validation accuracy: 86.40% | Validation Demographic disparity: 0.2210\n",
      "\n",
      " | Global Training Round : 9 |\n",
      "\n"
     ]
    },
    {
     "name": "stderr",
     "output_type": "stream",
     "text": [
      "\r",
      " 90%|█████████ | 9/10 [00:27<00:02,  2.84s/it]"
     ]
    },
    {
     "name": "stdout",
     "output_type": "stream",
     "text": [
      "Client 1: predictor loss: 4.97 | adversary loss 0.65 | Demographic disparity = 0.08\n",
      "Client 2: predictor loss: 4.22 | adversary loss 0.69 | Demographic disparity = 0.12\n",
      "Client 3: predictor loss: 4.70 | adversary loss 0.70 | Demographic disparity = 0.14\n",
      " \n",
      "Avg Training Stats after 9 global rounds:\n",
      "Training loss: 0.51 | Validation accuracy: 80.57% | Validation Demographic disparity: 0.1108\n",
      "\n",
      " | Global Training Round : 10 |\n",
      "\n"
     ]
    },
    {
     "name": "stderr",
     "output_type": "stream",
     "text": [
      "100%|██████████| 10/10 [00:30<00:00,  3.05s/it]"
     ]
    },
    {
     "name": "stdout",
     "output_type": "stream",
     "text": [
      "Client 1: predictor loss: 4.19 | adversary loss 0.58 | Demographic disparity = 0.20\n",
      "Client 2: predictor loss: 3.48 | adversary loss 0.66 | Demographic disparity = 0.16\n",
      "Client 3: predictor loss: 4.09 | adversary loss 0.68 | Demographic disparity = 0.24\n",
      " \n",
      "Avg Training Stats after 10 global rounds:\n",
      "Training loss: 0.51 | Validation accuracy: 85.56% | Validation Demographic disparity: 0.1886\n",
      " \n",
      " Results after 10 global rounds of training:\n",
      "|---- Avg Train Accuracy: 85.56%\n",
      "|---- Test Accuracy: 79.00%\n",
      "|---- Test Demographic disparity: 0.0389\n",
      "\n",
      " Total Run Time: 30.4721 sec\n"
     ]
    },
    {
     "name": "stderr",
     "output_type": "stream",
     "text": [
      "\n"
     ]
    }
   ],
   "source": [
    "seed = 752\n",
    "synthetic_info = dataGenerate(seed = seed, test_samples = 100)\n",
    "server = Server(logReg(num_features=3, num_classes=2, seed = seed), synthetic_info, train_prn = False, metric = \"Demographic disparity\", seed = seed)\n",
    "server.FTrain(num_rounds = 10, local_epochs = 30, init_epochs = 50, lr_g = 0.005, lr_d = 0.01, lambda_d = 0.8)\n"
   ]
  },
  {
   "cell_type": "code",
   "execution_count": 2,
   "metadata": {
    "scrolled": true
   },
   "outputs": [
    {
     "name": "stderr",
     "output_type": "stream",
     "text": [
      "\r",
      "  0%|          | 0/10 [00:00<?, ?it/s]"
     ]
    },
    {
     "name": "stdout",
     "output_type": "stream",
     "text": [
      "\n",
      " | Global Training Round : 1 |\n",
      "\n"
     ]
    },
    {
     "name": "stderr",
     "output_type": "stream",
     "text": [
      "\r",
      " 10%|█         | 1/10 [00:03<00:31,  3.45s/it]"
     ]
    },
    {
     "name": "stdout",
     "output_type": "stream",
     "text": [
      "Client 1: accuracy loss: 4.53 | fairness loss 116.89 | Demographic disparity = 0.29\n",
      "Client 2: accuracy loss: 3.34 | fairness loss 229.22 | Demographic disparity = 0.25\n",
      "Client 3: accuracy loss: 4.09 | fairness loss 188.53 | Demographic disparity = 0.16\n",
      " \n",
      "Avg Training Stats after 1 global rounds:\n",
      "Training loss: 0.39 | Validation accuracy: 81.97% | Validation Demographic disparity: 0.2204\n",
      "\n",
      " | Global Training Round : 2 |\n",
      "\n"
     ]
    },
    {
     "name": "stderr",
     "output_type": "stream",
     "text": [
      "\r",
      " 20%|██        | 2/10 [00:08<00:31,  3.96s/it]"
     ]
    },
    {
     "name": "stdout",
     "output_type": "stream",
     "text": [
      "Client 1: accuracy loss: 4.99 | fairness loss 59.57 | Demographic disparity = 0.18\n",
      "Client 2: accuracy loss: 3.66 | fairness loss 135.54 | Demographic disparity = 0.15\n",
      "Client 3: accuracy loss: 4.71 | fairness loss 112.89 | Demographic disparity = 0.12\n",
      " \n",
      "Avg Training Stats after 2 global rounds:\n",
      "Training loss: 0.34 | Validation accuracy: 79.41% | Validation Demographic disparity: 0.1319\n",
      "\n",
      " | Global Training Round : 3 |\n",
      "\n"
     ]
    },
    {
     "name": "stderr",
     "output_type": "stream",
     "text": [
      "\r",
      " 30%|███       | 3/10 [00:10<00:24,  3.45s/it]"
     ]
    },
    {
     "name": "stdout",
     "output_type": "stream",
     "text": [
      "Client 1: accuracy loss: 5.23 | fairness loss 41.45 | Demographic disparity = 0.01\n",
      "Client 2: accuracy loss: 3.83 | fairness loss 105.94 | Demographic disparity = 0.14\n",
      "Client 3: accuracy loss: 5.05 | fairness loss 89.95 | Demographic disparity = 0.04\n",
      " \n",
      "Avg Training Stats after 3 global rounds:\n",
      "Training loss: 0.31 | Validation accuracy: 75.53% | Validation Demographic disparity: 0.0712\n",
      "\n",
      " | Global Training Round : 4 |\n",
      "\n"
     ]
    },
    {
     "name": "stderr",
     "output_type": "stream",
     "text": [
      "\r",
      " 40%|████      | 4/10 [00:13<00:18,  3.09s/it]"
     ]
    },
    {
     "name": "stdout",
     "output_type": "stream",
     "text": [
      "Client 1: accuracy loss: 5.36 | fairness loss 35.38 | Demographic disparity = 0.06\n",
      "Client 2: accuracy loss: 3.94 | fairness loss 95.27 | Demographic disparity = 0.13\n",
      "Client 3: accuracy loss: 5.25 | fairness loss 82.25 | Demographic disparity = 0.04\n",
      " \n",
      "Avg Training Stats after 4 global rounds:\n",
      "Training loss: 0.28 | Validation accuracy: 74.63% | Validation Demographic disparity: 0.0575\n",
      "\n",
      " | Global Training Round : 5 |\n",
      "\n"
     ]
    },
    {
     "name": "stderr",
     "output_type": "stream",
     "text": [
      "\r",
      " 50%|█████     | 5/10 [00:15<00:14,  2.87s/it]"
     ]
    },
    {
     "name": "stdout",
     "output_type": "stream",
     "text": [
      "Client 1: accuracy loss: 5.44 | fairness loss 33.17 | Demographic disparity = 0.06\n",
      "Client 2: accuracy loss: 4.01 | fairness loss 90.58 | Demographic disparity = 0.11\n",
      "Client 3: accuracy loss: 5.38 | fairness loss 79.09 | Demographic disparity = 0.02\n",
      " \n",
      "Avg Training Stats after 5 global rounds:\n",
      "Training loss: 0.26 | Validation accuracy: 73.18% | Validation Demographic disparity: 0.0387\n",
      "\n",
      " | Global Training Round : 6 |\n",
      "\n"
     ]
    },
    {
     "name": "stderr",
     "output_type": "stream",
     "text": [
      "\r",
      " 60%|██████    | 6/10 [00:18<00:11,  2.78s/it]"
     ]
    },
    {
     "name": "stdout",
     "output_type": "stream",
     "text": [
      "Client 1: accuracy loss: 5.48 | fairness loss 32.18 | Demographic disparity = 0.06\n",
      "Client 2: accuracy loss: 4.06 | fairness loss 87.87 | Demographic disparity = 0.10\n",
      "Client 3: accuracy loss: 5.46 | fairness loss 77.28 | Demographic disparity = 0.02\n",
      " \n",
      "Avg Training Stats after 6 global rounds:\n",
      "Training loss: 0.25 | Validation accuracy: 73.50% | Validation Demographic disparity: 0.0336\n",
      "\n",
      " | Global Training Round : 7 |\n",
      "\n"
     ]
    },
    {
     "name": "stderr",
     "output_type": "stream",
     "text": [
      "\r",
      " 70%|███████   | 7/10 [00:20<00:07,  2.64s/it]"
     ]
    },
    {
     "name": "stdout",
     "output_type": "stream",
     "text": [
      "Client 1: accuracy loss: 5.50 | fairness loss 31.55 | Demographic disparity = 0.06\n",
      "Client 2: accuracy loss: 4.10 | fairness loss 85.84 | Demographic disparity = 0.11\n",
      "Client 3: accuracy loss: 5.51 | fairness loss 75.83 | Demographic disparity = 0.02\n",
      " \n",
      "Avg Training Stats after 7 global rounds:\n",
      "Training loss: 0.24 | Validation accuracy: 73.83% | Validation Demographic disparity: 0.0369\n",
      "\n",
      " | Global Training Round : 8 |\n",
      "\n"
     ]
    },
    {
     "name": "stderr",
     "output_type": "stream",
     "text": [
      "\r",
      " 80%|████████  | 8/10 [00:22<00:05,  2.52s/it]"
     ]
    },
    {
     "name": "stdout",
     "output_type": "stream",
     "text": [
      "Client 1: accuracy loss: 5.51 | fairness loss 31.01 | Demographic disparity = 0.06\n",
      "Client 2: accuracy loss: 4.13 | fairness loss 84.07 | Demographic disparity = 0.11\n",
      "Client 3: accuracy loss: 5.55 | fairness loss 74.47 | Demographic disparity = 0.02\n",
      " \n",
      "Avg Training Stats after 8 global rounds:\n",
      "Training loss: 0.23 | Validation accuracy: 73.83% | Validation Demographic disparity: 0.0369\n",
      "\n",
      " | Global Training Round : 9 |\n",
      "\n"
     ]
    },
    {
     "name": "stderr",
     "output_type": "stream",
     "text": [
      "\r",
      " 90%|█████████ | 9/10 [00:24<00:02,  2.43s/it]"
     ]
    },
    {
     "name": "stdout",
     "output_type": "stream",
     "text": [
      "Client 1: accuracy loss: 5.52 | fairness loss 30.50 | Demographic disparity = 0.06\n",
      "Client 2: accuracy loss: 4.16 | fairness loss 82.43 | Demographic disparity = 0.11\n",
      "Client 3: accuracy loss: 5.58 | fairness loss 73.15 | Demographic disparity = 0.01\n",
      " \n",
      "Avg Training Stats after 9 global rounds:\n",
      "Training loss: 0.23 | Validation accuracy: 73.43% | Validation Demographic disparity: 0.0317\n",
      "\n",
      " | Global Training Round : 10 |\n",
      "\n"
     ]
    },
    {
     "name": "stderr",
     "output_type": "stream",
     "text": [
      "100%|██████████| 10/10 [00:27<00:00,  2.70s/it]"
     ]
    },
    {
     "name": "stdout",
     "output_type": "stream",
     "text": [
      "Client 1: accuracy loss: 5.52 | fairness loss 30.00 | Demographic disparity = 0.06\n",
      "Client 2: accuracy loss: 4.18 | fairness loss 80.87 | Demographic disparity = 0.11\n",
      "Client 3: accuracy loss: 5.60 | fairness loss 71.86 | Demographic disparity = 0.01\n",
      " \n",
      "Avg Training Stats after 10 global rounds:\n",
      "Training loss: 0.22 | Validation accuracy: 73.43% | Validation Demographic disparity: 0.0317\n",
      " \n",
      " Results after 10 global rounds of training:\n",
      "|---- Avg Train Accuracy: 73.43%\n",
      "|---- Test Accuracy: 72.00%\n",
      "|---- Test Demographic disparity: 0.3444\n",
      "\n",
      " Total Run Time: 27.0356 sec\n"
     ]
    },
    {
     "name": "stderr",
     "output_type": "stream",
     "text": [
      "\n"
     ]
    }
   ],
   "source": [
    "seed = 95\n",
    "synthetic_info = dataGenerate(seed = seed, test_samples = 100)\n",
    "server = Server(logReg(num_features=3, num_classes=2, seed = seed), synthetic_info, train_prn = False, metric = \"Demographic disparity\", seed = seed)\n",
    "server.BCVariant3(num_rounds = 10, local_epochs = 30, optimizer = 'adam', epsilon = None, learning_rate = 0.005, alpha = 10)\n",
    "\n"
   ]
  },
  {
   "cell_type": "code",
   "execution_count": 2,
   "metadata": {
    "scrolled": true
   },
   "outputs": [
    {
     "name": "stderr",
     "output_type": "stream",
     "text": [
      "\r",
      "  0%|          | 0/5 [00:00<?, ?it/s]"
     ]
    },
    {
     "name": "stdout",
     "output_type": "stream",
     "text": [
      "\n",
      " | Global Training Round : 1 |\n",
      "\n"
     ]
    },
    {
     "name": "stderr",
     "output_type": "stream",
     "text": [
      "\r",
      " 20%|██        | 1/5 [00:02<00:09,  2.34s/it]"
     ]
    },
    {
     "name": "stdout",
     "output_type": "stream",
     "text": [
      "Client 1: accuracy loss: 3.95 | fairness loss 169.63 | Demographic disparity = 0.39\n",
      "Client 2: accuracy loss: 2.90 | fairness loss 343.13 | Demographic disparity = 0.25\n",
      "Client 3: accuracy loss: 3.58 | fairness loss 274.03 | Demographic disparity = 0.22\n",
      " \n",
      "Avg Training Stats after 1 global rounds:\n",
      "Training loss: 0.25 | Validation accuracy: 84.93% | Validation Demographic disparity: 0.2822\n",
      "\n",
      " | Global Training Round : 2 |\n",
      "\n"
     ]
    },
    {
     "name": "stderr",
     "output_type": "stream",
     "text": [
      "\r",
      " 40%|████      | 2/5 [00:04<00:07,  2.38s/it]"
     ]
    },
    {
     "name": "stdout",
     "output_type": "stream",
     "text": [
      "Client 1: accuracy loss: 3.96 | fairness loss 124.50 | Demographic disparity = 0.38\n",
      "Client 2: accuracy loss: 2.88 | fairness loss 282.90 | Demographic disparity = 0.25\n",
      "Client 3: accuracy loss: 3.67 | fairness loss 221.24 | Demographic disparity = 0.20\n",
      " \n",
      "Avg Training Stats after 2 global rounds:\n",
      "Training loss: 0.25 | Validation accuracy: 84.08% | Validation Demographic disparity: 0.2653\n",
      "\n",
      " | Global Training Round : 3 |\n",
      "\n"
     ]
    },
    {
     "name": "stderr",
     "output_type": "stream",
     "text": [
      "\r",
      " 60%|██████    | 3/5 [00:07<00:04,  2.40s/it]"
     ]
    },
    {
     "name": "stdout",
     "output_type": "stream",
     "text": [
      "Client 1: accuracy loss: 3.97 | fairness loss 107.29 | Demographic disparity = 0.38\n",
      "Client 2: accuracy loss: 2.88 | fairness loss 258.06 | Demographic disparity = 0.25\n",
      "Client 3: accuracy loss: 3.69 | fairness loss 199.70 | Demographic disparity = 0.19\n",
      " \n",
      "Avg Training Stats after 3 global rounds:\n",
      "Training loss: 0.24 | Validation accuracy: 83.68% | Validation Demographic disparity: 0.2601\n",
      "\n",
      " | Global Training Round : 4 |\n",
      "\n"
     ]
    },
    {
     "name": "stderr",
     "output_type": "stream",
     "text": [
      "\r",
      " 80%|████████  | 4/5 [00:10<00:02,  2.70s/it]"
     ]
    },
    {
     "name": "stdout",
     "output_type": "stream",
     "text": [
      "Client 1: accuracy loss: 3.97 | fairness loss 100.80 | Demographic disparity = 0.38\n",
      "Client 2: accuracy loss: 2.88 | fairness loss 248.33 | Demographic disparity = 0.25\n",
      "Client 3: accuracy loss: 3.70 | fairness loss 191.31 | Demographic disparity = 0.19\n",
      " \n",
      "Avg Training Stats after 4 global rounds:\n",
      "Training loss: 0.24 | Validation accuracy: 83.68% | Validation Demographic disparity: 0.2601\n",
      "\n",
      " | Global Training Round : 5 |\n",
      "\n"
     ]
    },
    {
     "name": "stderr",
     "output_type": "stream",
     "text": [
      "100%|██████████| 5/5 [00:13<00:00,  2.78s/it]"
     ]
    },
    {
     "name": "stdout",
     "output_type": "stream",
     "text": [
      "Client 1: accuracy loss: 3.97 | fairness loss 98.38 | Demographic disparity = 0.38\n",
      "Client 2: accuracy loss: 2.88 | fairness loss 244.63 | Demographic disparity = 0.25\n",
      "Client 3: accuracy loss: 3.70 | fairness loss 188.12 | Demographic disparity = 0.19\n",
      " \n",
      "Avg Training Stats after 5 global rounds:\n",
      "Training loss: 0.24 | Validation accuracy: 83.68% | Validation Demographic disparity: 0.2601\n",
      " \n",
      " Results after 5 global rounds of training:\n",
      "|---- Avg Train Accuracy: 83.68%\n",
      "|---- Test Accuracy: 84.00%\n",
      "|---- Test Demographic disparity: 0.3444\n",
      "\n",
      " Total Run Time: 13.9059 sec\n"
     ]
    },
    {
     "name": "stderr",
     "output_type": "stream",
     "text": [
      "\n"
     ]
    }
   ],
   "source": [
    "seed = 95\n",
    "synthetic_info = dataGenerate(seed = seed, test_samples = 100)\n",
    "server = Server(logReg(num_features=3, num_classes=2, seed = seed), synthetic_info, train_prn = False, metric = \"Demographic disparity\", seed = seed)\n",
    "server.preBC(pre_rounds = 4, num_rounds = 5, local_epochs = 30, optimizer = 'adam', learning_rate = 0.01, alpha = 2)\n"
   ]
  },
  {
   "cell_type": "code",
   "execution_count": 2,
   "metadata": {
    "scrolled": true
   },
   "outputs": [
    {
     "name": "stderr",
     "output_type": "stream",
     "text": [
      "\r",
      "  0%|          | 0/2 [00:00<?, ?it/s]"
     ]
    },
    {
     "name": "stdout",
     "output_type": "stream",
     "text": [
      "\n",
      " | Testing Round : 1 | constraint :  Cov(z, d) < c\n",
      "\n"
     ]
    },
    {
     "name": "stderr",
     "output_type": "stream",
     "text": [
      "\r",
      " 50%|█████     | 1/2 [00:03<00:03,  3.59s/it]"
     ]
    },
    {
     "name": "stdout",
     "output_type": "stream",
     "text": [
      "Client 1: accuracy loss: 3.54 | fairness loss 191.11 | Demographic disparity = 0.41\n",
      "Client 2: accuracy loss: 2.56 | fairness loss 357.07 | Demographic disparity = 0.25\n",
      "Client 3: accuracy loss: 2.95 | fairness loss 282.51 | Demographic disparity = 0.24\n",
      " \n",
      "Avg Training Stats after 1 Testing rounds:\n",
      "Training loss: -86.92 | Validation accuracy: 82.61% | Validation Demographic disparity: 0.2943\n",
      "\n",
      " | Testing Round : 2 | constraint :  Cov(z, d) < c\n",
      "\n"
     ]
    },
    {
     "name": "stderr",
     "output_type": "stream",
     "text": [
      "100%|██████████| 2/2 [00:06<00:00,  3.49s/it]\n",
      "  0%|          | 0/2 [00:00<?, ?it/s]"
     ]
    },
    {
     "name": "stdout",
     "output_type": "stream",
     "text": [
      "Client 1: accuracy loss: 3.71 | fairness loss 706.54 | Demographic disparity = 0.00\n",
      "Client 2: accuracy loss: 2.64 | fairness loss 1332.28 | Demographic disparity = 0.01\n",
      "Client 3: accuracy loss: 3.08 | fairness loss 1050.28 | Demographic disparity = 0.01\n",
      " \n",
      "Avg Training Stats after 2 Testing rounds:\n",
      "Training loss: -214.64 | Validation accuracy: 56.10% | Validation Demographic disparity: 0.0010\n",
      "\n",
      " | Testing Round : 1 | constraint :  Cov(z, d) > -c\n",
      "\n"
     ]
    },
    {
     "name": "stderr",
     "output_type": "stream",
     "text": [
      "\r",
      " 50%|█████     | 1/2 [00:03<00:03,  3.71s/it]"
     ]
    },
    {
     "name": "stdout",
     "output_type": "stream",
     "text": [
      "Client 1: accuracy loss: 3.52 | fairness loss 110.43 | Demographic disparity = 0.59\n",
      "Client 2: accuracy loss: 2.96 | fairness loss 217.70 | Demographic disparity = 0.34\n",
      "Client 3: accuracy loss: 3.13 | fairness loss 169.46 | Demographic disparity = 0.34\n",
      " \n",
      "Avg Training Stats after 1 Testing rounds:\n",
      "Training loss: -177.63 | Validation accuracy: 87.43% | Validation Demographic disparity: 0.4018\n",
      "\n",
      " | Testing Round : 2 | constraint :  Cov(z, d) > -c\n",
      "\n"
     ]
    },
    {
     "name": "stderr",
     "output_type": "stream",
     "text": [
      "100%|██████████| 2/2 [00:07<00:00,  3.79s/it]\n",
      "  0%|          | 0/10 [00:00<?, ?it/s]"
     ]
    },
    {
     "name": "stdout",
     "output_type": "stream",
     "text": [
      "Client 1: accuracy loss: 3.96 | fairness loss 506.00 | Demographic disparity = 0.62\n",
      "Client 2: accuracy loss: 3.50 | fairness loss 976.81 | Demographic disparity = 0.35\n",
      "Client 3: accuracy loss: 3.61 | fairness loss 764.50 | Demographic disparity = 0.36\n",
      " \n",
      "Avg Training Stats after 2 Testing rounds:\n",
      "Training loss: -222.21 | Validation accuracy: 86.42% | Validation Demographic disparity: 0.4173\n",
      "\n",
      " | Global Round : 1 | constraint :  Cov(z, d) < c\n",
      "\n"
     ]
    },
    {
     "name": "stderr",
     "output_type": "stream",
     "text": [
      "\r",
      " 10%|█         | 1/10 [00:03<00:35,  3.92s/it]"
     ]
    },
    {
     "name": "stdout",
     "output_type": "stream",
     "text": [
      "Client 1: accuracy loss: 3.29 | fairness loss 778.45 | Demographic disparity = 0.13\n",
      "Client 2: accuracy loss: 2.42 | fairness loss 1470.14 | Demographic disparity = 0.03\n",
      "Client 3: accuracy loss: 2.82 | fairness loss 1158.38 | Demographic disparity = 0.02\n",
      " \n",
      "Avg Training Stats after 1 global rounds:\n",
      "Training loss: -177.02 | Validation accuracy: 55.77% | Validation Demographic disparity: 0.0434\n",
      "\n",
      " | Global Round : 2 | constraint :  Cov(z, d) < c\n",
      "\n"
     ]
    },
    {
     "name": "stderr",
     "output_type": "stream",
     "text": [
      "\r",
      " 20%|██        | 2/10 [00:07<00:30,  3.83s/it]"
     ]
    },
    {
     "name": "stdout",
     "output_type": "stream",
     "text": [
      "Client 1: accuracy loss: 3.29 | fairness loss 877.49 | Demographic disparity = 0.13\n",
      "Client 2: accuracy loss: 2.43 | fairness loss 1659.08 | Demographic disparity = 0.01\n",
      "Client 3: accuracy loss: 2.81 | fairness loss 1306.84 | Demographic disparity = 0.02\n",
      " \n",
      "Avg Training Stats after 2 global rounds:\n",
      "Training loss: -147.24 | Validation accuracy: 54.83% | Validation Demographic disparity: 0.0334\n",
      "\n",
      " | Global Round : 3 | constraint :  Cov(z, d) < c\n",
      "\n"
     ]
    },
    {
     "name": "stderr",
     "output_type": "stream",
     "text": [
      "\r",
      " 30%|███       | 3/10 [00:11<00:26,  3.83s/it]"
     ]
    },
    {
     "name": "stdout",
     "output_type": "stream",
     "text": [
      "Client 1: accuracy loss: 3.29 | fairness loss 982.39 | Demographic disparity = 0.11\n",
      "Client 2: accuracy loss: 2.43 | fairness loss 1859.34 | Demographic disparity = 0.00\n",
      "Client 3: accuracy loss: 2.81 | fairness loss 1464.16 | Demographic disparity = 0.02\n",
      " \n",
      "Avg Training Stats after 3 global rounds:\n",
      "Training loss: -126.28 | Validation accuracy: 53.93% | Validation Demographic disparity: 0.0235\n",
      "\n",
      " | Global Round : 4 | constraint :  Cov(z, d) < c\n",
      "\n"
     ]
    },
    {
     "name": "stderr",
     "output_type": "stream",
     "text": [
      "\r",
      " 40%|████      | 4/10 [00:14<00:22,  3.77s/it]"
     ]
    },
    {
     "name": "stdout",
     "output_type": "stream",
     "text": [
      "Client 1: accuracy loss: 3.29 | fairness loss 1093.51 | Demographic disparity = 0.10\n",
      "Client 2: accuracy loss: 2.43 | fairness loss 2071.53 | Demographic disparity = 0.01\n",
      "Client 3: accuracy loss: 2.81 | fairness loss 1630.86 | Demographic disparity = 0.00\n",
      " \n",
      "Avg Training Stats after 4 global rounds:\n",
      "Training loss: -110.82 | Validation accuracy: 52.92% | Validation Demographic disparity: 0.0136\n",
      "\n",
      " | Global Round : 5 | constraint :  Cov(z, d) < c\n",
      "\n"
     ]
    },
    {
     "name": "stderr",
     "output_type": "stream",
     "text": [
      "\r",
      " 50%|█████     | 5/10 [00:18<00:18,  3.74s/it]"
     ]
    },
    {
     "name": "stdout",
     "output_type": "stream",
     "text": [
      "Client 1: accuracy loss: 3.29 | fairness loss 1210.66 | Demographic disparity = 0.10\n",
      "Client 2: accuracy loss: 2.43 | fairness loss 2295.37 | Demographic disparity = 0.04\n",
      "Client 3: accuracy loss: 2.81 | fairness loss 1806.68 | Demographic disparity = 0.00\n",
      " \n",
      "Avg Training Stats after 5 global rounds:\n",
      "Training loss: -99.04 | Validation accuracy: 51.94% | Validation Demographic disparity: 0.0036\n",
      "\n",
      " | Global Round : 6 | constraint :  Cov(z, d) < c\n",
      "\n"
     ]
    },
    {
     "name": "stderr",
     "output_type": "stream",
     "text": [
      "\r",
      " 60%|██████    | 6/10 [00:22<00:14,  3.71s/it]"
     ]
    },
    {
     "name": "stdout",
     "output_type": "stream",
     "text": [
      "Client 1: accuracy loss: 3.28 | fairness loss 1333.87 | Demographic disparity = 0.07\n",
      "Client 2: accuracy loss: 2.43 | fairness loss 2530.88 | Demographic disparity = 0.04\n",
      "Client 3: accuracy loss: 2.81 | fairness loss 1991.65 | Demographic disparity = 0.00\n",
      " \n",
      "Avg Training Stats after 6 global rounds:\n",
      "Training loss: -89.82 | Validation accuracy: 50.28% | Validation Demographic disparity: 0.0044\n",
      "\n",
      " | Global Round : 7 | constraint :  Cov(z, d) < c\n",
      "\n"
     ]
    },
    {
     "name": "stderr",
     "output_type": "stream",
     "text": [
      "\r",
      " 70%|███████   | 7/10 [00:25<00:10,  3.64s/it]"
     ]
    },
    {
     "name": "stdout",
     "output_type": "stream",
     "text": [
      "Client 1: accuracy loss: 3.28 | fairness loss 1463.14 | Demographic disparity = 0.06\n",
      "Client 2: accuracy loss: 2.43 | fairness loss 2778.06 | Demographic disparity = 0.06\n",
      "Client 3: accuracy loss: 2.81 | fairness loss 2185.77 | Demographic disparity = 0.00\n",
      " \n",
      "Avg Training Stats after 7 global rounds:\n",
      "Training loss: -82.48 | Validation accuracy: 49.63% | Validation Demographic disparity: 0.0177\n",
      "\n",
      " | Global Round : 8 | constraint :  Cov(z, d) < c\n",
      "\n"
     ]
    },
    {
     "name": "stderr",
     "output_type": "stream",
     "text": [
      "\r",
      " 80%|████████  | 8/10 [00:29<00:07,  3.62s/it]"
     ]
    },
    {
     "name": "stdout",
     "output_type": "stream",
     "text": [
      "Client 1: accuracy loss: 3.28 | fairness loss 1598.48 | Demographic disparity = 0.06\n",
      "Client 2: accuracy loss: 2.43 | fairness loss 3036.94 | Demographic disparity = 0.08\n",
      "Client 3: accuracy loss: 2.81 | fairness loss 2389.06 | Demographic disparity = 0.01\n",
      " \n",
      "Avg Training Stats after 8 global rounds:\n",
      "Training loss: -76.54 | Validation accuracy: 49.23% | Validation Demographic disparity: 0.0276\n",
      "\n",
      " | Global Round : 9 | constraint :  Cov(z, d) < c\n",
      "\n"
     ]
    },
    {
     "name": "stderr",
     "output_type": "stream",
     "text": [
      "\r",
      " 90%|█████████ | 9/10 [00:32<00:03,  3.62s/it]"
     ]
    },
    {
     "name": "stdout",
     "output_type": "stream",
     "text": [
      "Client 1: accuracy loss: 3.28 | fairness loss 1739.90 | Demographic disparity = 0.05\n",
      "Client 2: accuracy loss: 2.43 | fairness loss 3307.54 | Demographic disparity = 0.09\n",
      "Client 3: accuracy loss: 2.81 | fairness loss 2601.54 | Demographic disparity = 0.01\n",
      " \n",
      "Avg Training Stats after 9 global rounds:\n",
      "Training loss: -71.67 | Validation accuracy: 49.18% | Validation Demographic disparity: 0.0342\n",
      "\n",
      " | Global Round : 10 | constraint :  Cov(z, d) < c\n",
      "\n"
     ]
    },
    {
     "name": "stderr",
     "output_type": "stream",
     "text": [
      "100%|██████████| 10/10 [00:36<00:00,  3.65s/it]"
     ]
    },
    {
     "name": "stdout",
     "output_type": "stream",
     "text": [
      "Client 1: accuracy loss: 3.28 | fairness loss 1887.40 | Demographic disparity = 0.06\n",
      "Client 2: accuracy loss: 2.43 | fairness loss 3589.86 | Demographic disparity = 0.08\n",
      "Client 3: accuracy loss: 2.81 | fairness loss 2823.20 | Demographic disparity = 0.04\n",
      " \n",
      "Avg Training Stats after 10 global rounds:\n",
      "Training loss: -67.66 | Validation accuracy: 47.77% | Validation Demographic disparity: 0.0342\n",
      " \n",
      " Results after 10 global rounds of training:\n",
      "|---- Avg Train Accuracy: 47.77%\n",
      "|---- Test Accuracy: 46.00%\n",
      "|---- Test Demographic disparity: 0.3444\n",
      "\n",
      " Total Run Time: 51.1220 sec\n"
     ]
    },
    {
     "name": "stderr",
     "output_type": "stream",
     "text": [
      "\n"
     ]
    }
   ],
   "source": [
    "seed = 95\n",
    "synthetic_info = dataGenerate(seed = seed, test_samples = 100)\n",
    "server = Server(logReg(num_features=3, num_classes=2, seed = seed), synthetic_info, train_prn = False, metric = \"Demographic disparity\", seed = seed)\n",
    "server.Zafar(test_rounds = 2, test_lr = 0.005, test_penalty = 80, num_rounds = 10, local_epochs = 50, optimizer = 'adam', learning_rate = 0.002, penalty = 5)\n"
   ]
  },
  {
   "cell_type": "code",
   "execution_count": 2,
   "metadata": {
    "scrolled": true
   },
   "outputs": [
    {
     "name": "stderr",
     "output_type": "stream",
     "text": [
      "\r",
      "  0%|          | 0/1 [00:00<?, ?it/s]"
     ]
    },
    {
     "name": "stdout",
     "output_type": "stream",
     "text": [
      "\n",
      " | Global Training Round : 1 |\n",
      "\n"
     ]
    },
    {
     "name": "stderr",
     "output_type": "stream",
     "text": [
      "100%|██████████| 1/1 [00:02<00:00,  2.73s/it]\n",
      "  0%|          | 0/9 [00:00<?, ?it/s]"
     ]
    },
    {
     "name": "stdout",
     "output_type": "stream",
     "text": [
      "Client 1: accuracy loss: 3.34 | fairness loss 1071.04 | Demographic disparity = 0.48\n",
      "Client 2: accuracy loss: 2.28 | fairness loss 992.26 | Demographic disparity = 0.39\n",
      "Client 3: accuracy loss: 3.49 | fairness loss 1122.48 | Demographic disparity = 0.33\n",
      " \n",
      "Avg Training Stats after 1 global rounds:\n",
      "Training loss: 38.60 | Validation accuracy: 86.86% | Validation Demographic disparity: 0.3999\n",
      " \n",
      " Results after 1 global rounds of training:\n",
      "|---- Avg Train Accuracy: 86.86%\n",
      "|---- Test Accuracy: 84.00%\n",
      "|---- Test Demographic disparity: 0.3743\n",
      "\n",
      " Total Run Time: 2.7418 sec\n",
      "\n",
      " | Global Training Round : 1 |\n",
      "\n"
     ]
    },
    {
     "name": "stderr",
     "output_type": "stream",
     "text": [
      "\r",
      " 11%|█         | 1/9 [00:03<00:24,  3.08s/it]"
     ]
    },
    {
     "name": "stdout",
     "output_type": "stream",
     "text": [
      "Client 1: predictor loss: 3.80 | adversary loss 0.34 | Demographic disparity = 0.43\n",
      "Client 2: predictor loss: 2.54 | adversary loss 0.39 | Demographic disparity = 0.39\n",
      "Client 3: predictor loss: 3.71 | adversary loss 0.45 | Demographic disparity = 0.28\n",
      " \n",
      "Avg Training Stats after 1 global rounds:\n",
      "Training loss: 40.13 | Validation accuracy: 84.70% | Validation Demographic disparity: 0.3748\n",
      "\n",
      " | Global Training Round : 2 |\n",
      "\n"
     ]
    },
    {
     "name": "stderr",
     "output_type": "stream",
     "text": [
      "\r",
      " 22%|██▏       | 2/9 [00:06<00:21,  3.07s/it]"
     ]
    },
    {
     "name": "stdout",
     "output_type": "stream",
     "text": [
      "Client 1: predictor loss: 4.08 | adversary loss 0.37 | Demographic disparity = 0.41\n",
      "Client 2: predictor loss: 2.65 | adversary loss 0.41 | Demographic disparity = 0.40\n",
      "Client 3: predictor loss: 3.90 | adversary loss 0.49 | Demographic disparity = 0.26\n",
      " \n",
      "Avg Training Stats after 2 global rounds:\n",
      "Training loss: 40.86 | Validation accuracy: 83.76% | Validation Demographic disparity: 0.3581\n",
      "\n",
      " | Global Training Round : 3 |\n",
      "\n"
     ]
    },
    {
     "name": "stderr",
     "output_type": "stream",
     "text": [
      "\r",
      " 33%|███▎      | 3/9 [00:08<00:17,  2.96s/it]"
     ]
    },
    {
     "name": "stdout",
     "output_type": "stream",
     "text": [
      "Client 1: predictor loss: 4.48 | adversary loss 0.40 | Demographic disparity = 0.36\n",
      "Client 2: predictor loss: 2.83 | adversary loss 0.44 | Demographic disparity = 0.38\n",
      "Client 3: predictor loss: 4.19 | adversary loss 0.53 | Demographic disparity = 0.20\n",
      " \n",
      "Avg Training Stats after 3 global rounds:\n",
      "Training loss: 42.03 | Validation accuracy: 82.88% | Validation Demographic disparity: 0.3233\n",
      "\n",
      " | Global Training Round : 4 |\n",
      "\n"
     ]
    },
    {
     "name": "stderr",
     "output_type": "stream",
     "text": [
      "\r",
      " 44%|████▍     | 4/9 [00:11<00:14,  2.82s/it]"
     ]
    },
    {
     "name": "stdout",
     "output_type": "stream",
     "text": [
      "Client 1: predictor loss: 4.90 | adversary loss 0.43 | Demographic disparity = 0.33\n",
      "Client 2: predictor loss: 3.00 | adversary loss 0.46 | Demographic disparity = 0.36\n",
      "Client 3: predictor loss: 4.50 | adversary loss 0.57 | Demographic disparity = 0.20\n",
      " \n",
      "Avg Training Stats after 4 global rounds:\n",
      "Training loss: 43.50 | Validation accuracy: 82.00% | Validation Demographic disparity: 0.3067\n",
      "\n",
      " | Global Training Round : 5 |\n",
      "\n"
     ]
    },
    {
     "name": "stderr",
     "output_type": "stream",
     "text": [
      "\r",
      " 56%|█████▌    | 5/9 [00:13<00:10,  2.69s/it]"
     ]
    },
    {
     "name": "stdout",
     "output_type": "stream",
     "text": [
      "Client 1: predictor loss: 5.37 | adversary loss 0.45 | Demographic disparity = 0.34\n",
      "Client 2: predictor loss: 3.20 | adversary loss 0.48 | Demographic disparity = 0.30\n",
      "Client 3: predictor loss: 4.86 | adversary loss 0.60 | Demographic disparity = 0.18\n",
      " \n",
      "Avg Training Stats after 5 global rounds:\n",
      "Training loss: 45.18 | Validation accuracy: 77.54% | Validation Demographic disparity: 0.2644\n",
      "\n",
      " | Global Training Round : 6 |\n",
      "\n"
     ]
    },
    {
     "name": "stderr",
     "output_type": "stream",
     "text": [
      "\r",
      " 67%|██████▋   | 6/9 [00:16<00:07,  2.62s/it]"
     ]
    },
    {
     "name": "stdout",
     "output_type": "stream",
     "text": [
      "Client 1: predictor loss: 5.79 | adversary loss 0.47 | Demographic disparity = 0.35\n",
      "Client 2: predictor loss: 3.34 | adversary loss 0.49 | Demographic disparity = 0.28\n",
      "Client 3: predictor loss: 5.20 | adversary loss 0.62 | Demographic disparity = 0.15\n",
      " \n",
      "Avg Training Stats after 6 global rounds:\n",
      "Training loss: 46.98 | Validation accuracy: 75.81% | Validation Demographic disparity: 0.2454\n",
      "\n",
      " | Global Training Round : 7 |\n",
      "\n"
     ]
    },
    {
     "name": "stderr",
     "output_type": "stream",
     "text": [
      "\r",
      " 78%|███████▊  | 7/9 [00:18<00:05,  2.55s/it]"
     ]
    },
    {
     "name": "stdout",
     "output_type": "stream",
     "text": [
      "Client 1: predictor loss: 6.13 | adversary loss 0.48 | Demographic disparity = 0.29\n",
      "Client 2: predictor loss: 3.47 | adversary loss 0.50 | Demographic disparity = 0.28\n",
      "Client 3: predictor loss: 5.48 | adversary loss 0.63 | Demographic disparity = 0.15\n",
      " \n",
      "Avg Training Stats after 7 global rounds:\n",
      "Training loss: 48.76 | Validation accuracy: 75.81% | Validation Demographic disparity: 0.2338\n",
      "\n",
      " | Global Training Round : 8 |\n",
      "\n"
     ]
    },
    {
     "name": "stderr",
     "output_type": "stream",
     "text": [
      "\r",
      " 89%|████████▉ | 8/9 [00:20<00:02,  2.49s/it]"
     ]
    },
    {
     "name": "stdout",
     "output_type": "stream",
     "text": [
      "Client 1: predictor loss: 6.45 | adversary loss 0.48 | Demographic disparity = 0.29\n",
      "Client 2: predictor loss: 3.60 | adversary loss 0.51 | Demographic disparity = 0.25\n",
      "Client 3: predictor loss: 5.73 | adversary loss 0.64 | Demographic disparity = 0.11\n",
      " \n",
      "Avg Training Stats after 8 global rounds:\n",
      "Training loss: 50.49 | Validation accuracy: 74.76% | Validation Demographic disparity: 0.2099\n",
      "\n",
      " | Global Training Round : 9 |\n",
      "\n"
     ]
    },
    {
     "name": "stderr",
     "output_type": "stream",
     "text": [
      "100%|██████████| 9/9 [00:23<00:00,  2.59s/it]"
     ]
    },
    {
     "name": "stdout",
     "output_type": "stream",
     "text": [
      "Client 1: predictor loss: 6.67 | adversary loss 0.49 | Demographic disparity = 0.26\n",
      "Client 2: predictor loss: 3.69 | adversary loss 0.52 | Demographic disparity = 0.25\n",
      "Client 3: predictor loss: 5.91 | adversary loss 0.65 | Demographic disparity = 0.11\n",
      " \n",
      "Avg Training Stats after 9 global rounds:\n",
      "Training loss: 52.10 | Validation accuracy: 73.88% | Validation Demographic disparity: 0.1999\n",
      " \n",
      " Results after 9 global rounds of training:\n",
      "|---- Avg Train Accuracy: 73.88%\n",
      "|---- Test Accuracy: 73.00%\n",
      "|---- Test Demographic disparity: 0.3743\n",
      "\n",
      " Total Run Time: 23.3208 sec\n"
     ]
    },
    {
     "name": "stderr",
     "output_type": "stream",
     "text": [
      "\n"
     ]
    }
   ],
   "source": [
    "seed = 619\n",
    "synthetic_info = dataGenerate(seed = seed, test_samples = 100)\n",
    "server = Server(logReg(num_features=3, num_classes=2, seed = seed), synthetic_info, train_prn = False, metric = \"Demographic disparity\", seed = seed)\n",
    "server.Unconstrained(num_rounds = 1, local_epochs = 30, optimizer = 'adam', learning_rate = 0.01)\n",
    "server.AdversarialLearning(num_rounds = 9, local_epochs = 30, optimizer = 'adam', epsilon = None, learning_rate = 0.005, alpha = 0.5, adaptive_lr = True)"
   ]
  },
  {
   "cell_type": "code",
   "execution_count": 3,
   "metadata": {
    "scrolled": true
   },
   "outputs": [
    {
     "name": "stderr",
     "output_type": "stream",
     "text": [
      "\r",
      "  0%|          | 0/10 [00:00<?, ?it/s]"
     ]
    },
    {
     "name": "stdout",
     "output_type": "stream",
     "text": [
      "\n",
      " | Global Training Round : 1 |\n",
      "\n"
     ]
    },
    {
     "name": "stderr",
     "output_type": "stream",
     "text": [
      "\r",
      " 10%|█         | 1/10 [00:02<00:21,  2.41s/it]"
     ]
    },
    {
     "name": "stdout",
     "output_type": "stream",
     "text": [
      "Client 1: accuracy loss: 4.43 | fairness loss 125.39 | Demographic disparity = 0.39\n",
      "Client 2: accuracy loss: 3.42 | fairness loss 237.82 | Demographic disparity = 0.26\n",
      "Client 3: accuracy loss: 3.69 | fairness loss 195.36 | Demographic disparity = 0.24\n",
      " \n",
      "Avg Training Stats after 1 global rounds:\n",
      "Training loss: 0.48 | Validation accuracy: 84.31% | Validation Demographic disparity: 0.2846\n",
      "\n",
      " | Global Training Round : 2 |\n",
      "\n"
     ]
    },
    {
     "name": "stderr",
     "output_type": "stream",
     "text": [
      "\r",
      " 20%|██        | 2/10 [00:04<00:19,  2.46s/it]"
     ]
    },
    {
     "name": "stdout",
     "output_type": "stream",
     "text": [
      "Client 1: accuracy loss: 5.42 | fairness loss 45.82 | Demographic disparity = 0.12\n",
      "Client 2: accuracy loss: 4.37 | fairness loss 88.25 | Demographic disparity = 0.18\n",
      "Client 3: accuracy loss: 4.61 | fairness loss 75.74 | Demographic disparity = 0.18\n",
      " \n",
      "Avg Training Stats after 2 global rounds:\n",
      "Training loss: 0.47 | Validation accuracy: 79.14% | Validation Demographic disparity: 0.1656\n",
      "\n",
      " | Global Training Round : 3 |\n",
      "\n"
     ]
    },
    {
     "name": "stderr",
     "output_type": "stream",
     "text": [
      "\r",
      " 30%|███       | 3/10 [00:07<00:17,  2.50s/it]"
     ]
    },
    {
     "name": "stdout",
     "output_type": "stream",
     "text": [
      "Client 1: accuracy loss: 5.83 | fairness loss 23.19 | Demographic disparity = 0.08\n",
      "Client 2: accuracy loss: 4.74 | fairness loss 47.30 | Demographic disparity = 0.12\n",
      "Client 3: accuracy loss: 4.97 | fairness loss 42.44 | Demographic disparity = 0.13\n",
      " \n",
      "Avg Training Stats after 3 global rounds:\n",
      "Training loss: 0.47 | Validation accuracy: 75.75% | Validation Demographic disparity: 0.1044\n",
      "\n",
      " | Global Training Round : 4 |\n",
      "\n"
     ]
    },
    {
     "name": "stderr",
     "output_type": "stream",
     "text": [
      "\r",
      " 40%|████      | 4/10 [00:09<00:14,  2.44s/it]"
     ]
    },
    {
     "name": "stdout",
     "output_type": "stream",
     "text": [
      "Client 1: accuracy loss: 6.05 | fairness loss 15.08 | Demographic disparity = 0.06\n",
      "Client 2: accuracy loss: 4.94 | fairness loss 32.02 | Demographic disparity = 0.11\n",
      "Client 3: accuracy loss: 5.18 | fairness loss 30.19 | Demographic disparity = 0.11\n",
      " \n",
      "Avg Training Stats after 4 global rounds:\n",
      "Training loss: 0.47 | Validation accuracy: 74.90% | Validation Demographic disparity: 0.0808\n",
      "\n",
      " | Global Training Round : 5 |\n",
      "\n"
     ]
    },
    {
     "name": "stderr",
     "output_type": "stream",
     "text": [
      "\r",
      " 50%|█████     | 5/10 [00:12<00:12,  2.42s/it]"
     ]
    },
    {
     "name": "stdout",
     "output_type": "stream",
     "text": [
      "Client 1: accuracy loss: 6.19 | fairness loss 12.07 | Demographic disparity = 0.02\n",
      "Client 2: accuracy loss: 5.06 | fairness loss 25.81 | Demographic disparity = 0.09\n",
      "Client 3: accuracy loss: 5.30 | fairness loss 25.36 | Demographic disparity = 0.08\n",
      " \n",
      "Avg Training Stats after 5 global rounds:\n",
      "Training loss: 0.46 | Validation accuracy: 74.25% | Validation Demographic disparity: 0.0554\n",
      "\n",
      " | Global Training Round : 6 |\n",
      "\n"
     ]
    },
    {
     "name": "stderr",
     "output_type": "stream",
     "text": [
      "\r",
      " 60%|██████    | 6/10 [00:14<00:09,  2.41s/it]"
     ]
    },
    {
     "name": "stdout",
     "output_type": "stream",
     "text": [
      "Client 1: accuracy loss: 6.28 | fairness loss 10.95 | Demographic disparity = 0.01\n",
      "Client 2: accuracy loss: 5.14 | fairness loss 23.12 | Demographic disparity = 0.07\n",
      "Client 3: accuracy loss: 5.38 | fairness loss 23.37 | Demographic disparity = 0.07\n",
      " \n",
      "Avg Training Stats after 6 global rounds:\n",
      "Training loss: 0.46 | Validation accuracy: 72.91% | Validation Demographic disparity: 0.0403\n",
      "\n",
      " | Global Training Round : 7 |\n",
      "\n"
     ]
    },
    {
     "name": "stderr",
     "output_type": "stream",
     "text": [
      "\r",
      " 70%|███████   | 7/10 [00:17<00:07,  2.42s/it]"
     ]
    },
    {
     "name": "stdout",
     "output_type": "stream",
     "text": [
      "Client 1: accuracy loss: 6.33 | fairness loss 10.53 | Demographic disparity = 0.01\n",
      "Client 2: accuracy loss: 5.18 | fairness loss 21.88 | Demographic disparity = 0.06\n",
      "Client 3: accuracy loss: 5.43 | fairness loss 22.50 | Demographic disparity = 0.06\n",
      " \n",
      "Avg Training Stats after 7 global rounds:\n",
      "Training loss: 0.46 | Validation accuracy: 72.18% | Validation Demographic disparity: 0.0318\n",
      "\n",
      " | Global Training Round : 8 |\n",
      "\n"
     ]
    },
    {
     "name": "stderr",
     "output_type": "stream",
     "text": [
      "\r",
      " 80%|████████  | 8/10 [00:19<00:04,  2.42s/it]"
     ]
    },
    {
     "name": "stdout",
     "output_type": "stream",
     "text": [
      "Client 1: accuracy loss: 6.37 | fairness loss 10.38 | Demographic disparity = 0.03\n",
      "Client 2: accuracy loss: 5.22 | fairness loss 21.27 | Demographic disparity = 0.06\n",
      "Client 3: accuracy loss: 5.46 | fairness loss 22.09 | Demographic disparity = 0.06\n",
      " \n",
      "Avg Training Stats after 8 global rounds:\n",
      "Training loss: 0.46 | Validation accuracy: 71.89% | Validation Demographic disparity: 0.0267\n",
      "\n",
      " | Global Training Round : 9 |\n",
      "\n"
     ]
    },
    {
     "name": "stderr",
     "output_type": "stream",
     "text": [
      "\r",
      " 90%|█████████ | 9/10 [00:21<00:02,  2.43s/it]"
     ]
    },
    {
     "name": "stdout",
     "output_type": "stream",
     "text": [
      "Client 1: accuracy loss: 6.39 | fairness loss 10.32 | Demographic disparity = 0.03\n",
      "Client 2: accuracy loss: 5.24 | fairness loss 20.94 | Demographic disparity = 0.06\n",
      "Client 3: accuracy loss: 5.48 | fairness loss 21.89 | Demographic disparity = 0.03\n",
      " \n",
      "Avg Training Stats after 9 global rounds:\n",
      "Training loss: 0.46 | Validation accuracy: 71.09% | Validation Demographic disparity: 0.0182\n",
      "\n",
      " | Global Training Round : 10 |\n",
      "\n"
     ]
    },
    {
     "name": "stderr",
     "output_type": "stream",
     "text": [
      "100%|██████████| 10/10 [00:24<00:00,  2.43s/it]"
     ]
    },
    {
     "name": "stdout",
     "output_type": "stream",
     "text": [
      "Client 1: accuracy loss: 6.40 | fairness loss 10.30 | Demographic disparity = 0.03\n",
      "Client 2: accuracy loss: 5.25 | fairness loss 20.76 | Demographic disparity = 0.06\n",
      "Client 3: accuracy loss: 5.49 | fairness loss 21.78 | Demographic disparity = 0.03\n",
      " \n",
      "Avg Training Stats after 10 global rounds:\n",
      "Training loss: 0.45 | Validation accuracy: 71.09% | Validation Demographic disparity: 0.0182\n",
      " \n",
      " Results after 10 global rounds of training:\n",
      "|---- Avg Train Accuracy: 71.09%\n",
      "|---- Test Accuracy: 65.00%\n",
      "|---- Test Demographic disparity: 0.3444\n",
      "\n",
      " Total Run Time: 24.3184 sec\n"
     ]
    },
    {
     "name": "stderr",
     "output_type": "stream",
     "text": [
      "\n"
     ]
    }
   ],
   "source": [
    "seed = 95\n",
    "synthetic_info = dataGenerate(seed = seed, test_samples = 100)\n",
    "server = Server(logReg(num_features=3, num_classes=2, seed = seed), synthetic_info, train_prn = False, metric = \"Demographic disparity\", seed = seed)\n",
    "server.BiasCorrecting(num_rounds = 10, local_epochs = 30, optimizer = 'adam', epsilon = None, learning_rate = 0.001, alpha = 10)\n",
    "\n",
    "\n"
   ]
  },
  {
   "cell_type": "code",
   "execution_count": 5,
   "metadata": {
    "scrolled": true
   },
   "outputs": [
    {
     "name": "stderr",
     "output_type": "stream",
     "text": [
      "\r",
      "  0%|          | 0/10 [00:00<?, ?it/s]"
     ]
    },
    {
     "name": "stdout",
     "output_type": "stream",
     "text": [
      "\n",
      " | Global Training Round : 1 |\n",
      "\n"
     ]
    },
    {
     "name": "stderr",
     "output_type": "stream",
     "text": [
      "\r",
      " 10%|█         | 1/10 [00:02<00:23,  2.64s/it]"
     ]
    },
    {
     "name": "stdout",
     "output_type": "stream",
     "text": [
      "Client 1: accuracy loss: 3.26 | fairness loss 580.81 | Demographic disparity = 0.51\n",
      "Client 2: accuracy loss: 2.94 | fairness loss 808.28 | Demographic disparity = 0.36\n",
      "Client 3: accuracy loss: 2.90 | fairness loss 955.41 | Demographic disparity = 0.28\n",
      " \n",
      "Avg Training Stats after 1 global rounds:\n",
      "Training loss: 50.49 | Training accuracy: 85.66% | Training Demographic disparity: 0.3826\n",
      "\n",
      " | Global Training Round : 2 |\n",
      "\n"
     ]
    },
    {
     "name": "stderr",
     "output_type": "stream",
     "text": [
      "\r",
      " 20%|██        | 2/10 [00:05<00:20,  2.58s/it]"
     ]
    },
    {
     "name": "stdout",
     "output_type": "stream",
     "text": [
      "Client 1: accuracy loss: 3.06 | fairness loss 508.32 | Demographic disparity = 0.35\n",
      "Client 2: accuracy loss: 3.84 | fairness loss 696.88 | Demographic disparity = 0.28\n",
      "Client 3: accuracy loss: 3.20 | fairness loss 832.48 | Demographic disparity = 0.23\n",
      " \n",
      "Avg Training Stats after 2 global rounds:\n",
      "Training loss: 47.93 | Training accuracy: 83.48% | Training Demographic disparity: 0.2713\n",
      "\n",
      " | Global Training Round : 3 |\n",
      "\n"
     ]
    },
    {
     "name": "stderr",
     "output_type": "stream",
     "text": [
      "\r",
      " 30%|███       | 3/10 [00:07<00:18,  2.61s/it]"
     ]
    },
    {
     "name": "stdout",
     "output_type": "stream",
     "text": [
      "Client 1: accuracy loss: 3.41 | fairness loss 465.00 | Demographic disparity = 0.15\n",
      "Client 2: accuracy loss: 4.29 | fairness loss 633.81 | Demographic disparity = 0.19\n",
      "Client 3: accuracy loss: 4.09 | fairness loss 815.81 | Demographic disparity = 0.12\n",
      " \n",
      "Avg Training Stats after 3 global rounds:\n",
      "Training loss: 45.29 | Training accuracy: 80.98% | Training Demographic disparity: 0.1517\n",
      "\n",
      " | Global Training Round : 4 |\n",
      "\n"
     ]
    },
    {
     "name": "stderr",
     "output_type": "stream",
     "text": [
      "\r",
      " 40%|████      | 4/10 [00:10<00:15,  2.56s/it]"
     ]
    },
    {
     "name": "stdout",
     "output_type": "stream",
     "text": [
      "Client 1: accuracy loss: 3.89 | fairness loss 466.85 | Demographic disparity = 0.02\n",
      "Client 2: accuracy loss: 5.07 | fairness loss 621.82 | Demographic disparity = 0.11\n",
      "Client 3: accuracy loss: 5.26 | fairness loss 841.72 | Demographic disparity = 0.06\n",
      " \n",
      "Avg Training Stats after 4 global rounds:\n",
      "Training loss: 43.23 | Training accuracy: 77.81% | Training Demographic disparity: 0.0686\n",
      "\n",
      " | Global Training Round : 5 |\n",
      "\n"
     ]
    },
    {
     "name": "stderr",
     "output_type": "stream",
     "text": [
      "\r",
      " 50%|█████     | 5/10 [00:12<00:12,  2.49s/it]"
     ]
    },
    {
     "name": "stdout",
     "output_type": "stream",
     "text": [
      "Client 1: accuracy loss: 3.84 | fairness loss 511.00 | Demographic disparity = 0.03\n",
      "Client 2: accuracy loss: 5.04 | fairness loss 683.22 | Demographic disparity = 0.14\n",
      "Client 3: accuracy loss: 5.27 | fairness loss 922.38 | Demographic disparity = 0.06\n",
      " \n",
      "Avg Training Stats after 5 global rounds:\n",
      "Training loss: 42.58 | Training accuracy: 78.45% | Training Demographic disparity: 0.0866\n",
      "\n",
      " | Global Training Round : 6 |\n",
      "\n"
     ]
    },
    {
     "name": "stderr",
     "output_type": "stream",
     "text": [
      "\r",
      " 60%|██████    | 6/10 [00:14<00:09,  2.45s/it]"
     ]
    },
    {
     "name": "stdout",
     "output_type": "stream",
     "text": [
      "Client 1: accuracy loss: 3.86 | fairness loss 526.37 | Demographic disparity = 0.03\n",
      "Client 2: accuracy loss: 5.09 | fairness loss 703.68 | Demographic disparity = 0.12\n",
      "Client 3: accuracy loss: 5.39 | fairness loss 951.42 | Demographic disparity = 0.08\n",
      " \n",
      "Avg Training Stats after 6 global rounds:\n",
      "Training loss: 42.29 | Training accuracy: 77.74% | Training Demographic disparity: 0.0842\n",
      "\n",
      " | Global Training Round : 7 |\n",
      "\n"
     ]
    },
    {
     "name": "stderr",
     "output_type": "stream",
     "text": [
      "\r",
      " 70%|███████   | 7/10 [00:17<00:07,  2.42s/it]"
     ]
    },
    {
     "name": "stdout",
     "output_type": "stream",
     "text": [
      "Client 1: accuracy loss: 3.87 | fairness loss 507.54 | Demographic disparity = 0.03\n",
      "Client 2: accuracy loss: 5.07 | fairness loss 680.39 | Demographic disparity = 0.12\n",
      "Client 3: accuracy loss: 5.41 | fairness loss 919.58 | Demographic disparity = 0.08\n",
      " \n",
      "Avg Training Stats after 7 global rounds:\n",
      "Training loss: 42.40 | Training accuracy: 77.74% | Training Demographic disparity: 0.0842\n",
      "\n",
      " | Global Training Round : 8 |\n",
      "\n"
     ]
    },
    {
     "name": "stderr",
     "output_type": "stream",
     "text": [
      "\r",
      " 80%|████████  | 8/10 [00:19<00:05,  2.50s/it]"
     ]
    },
    {
     "name": "stdout",
     "output_type": "stream",
     "text": [
      "Client 1: accuracy loss: 3.87 | fairness loss 507.73 | Demographic disparity = 0.03\n",
      "Client 2: accuracy loss: 5.08 | fairness loss 680.62 | Demographic disparity = 0.12\n",
      "Client 3: accuracy loss: 5.41 | fairness loss 919.95 | Demographic disparity = 0.08\n",
      " \n",
      "Avg Training Stats after 8 global rounds:\n",
      "Training loss: 42.48 | Training accuracy: 77.74% | Training Demographic disparity: 0.0842\n",
      "\n",
      " | Global Training Round : 9 |\n",
      "\n"
     ]
    },
    {
     "name": "stderr",
     "output_type": "stream",
     "text": [
      "\r",
      " 90%|█████████ | 9/10 [00:22<00:02,  2.54s/it]"
     ]
    },
    {
     "name": "stdout",
     "output_type": "stream",
     "text": [
      "Client 1: accuracy loss: 3.87 | fairness loss 507.93 | Demographic disparity = 0.03\n",
      "Client 2: accuracy loss: 5.08 | fairness loss 680.85 | Demographic disparity = 0.12\n",
      "Client 3: accuracy loss: 5.42 | fairness loss 920.31 | Demographic disparity = 0.08\n",
      " \n",
      "Avg Training Stats after 9 global rounds:\n",
      "Training loss: 42.55 | Training accuracy: 77.74% | Training Demographic disparity: 0.0842\n",
      "\n",
      " | Global Training Round : 10 |\n",
      "\n"
     ]
    },
    {
     "name": "stderr",
     "output_type": "stream",
     "text": [
      "100%|██████████| 10/10 [00:25<00:00,  2.52s/it]"
     ]
    },
    {
     "name": "stdout",
     "output_type": "stream",
     "text": [
      "Client 1: accuracy loss: 3.87 | fairness loss 508.12 | Demographic disparity = 0.03\n",
      "Client 2: accuracy loss: 5.08 | fairness loss 681.08 | Demographic disparity = 0.12\n",
      "Client 3: accuracy loss: 5.42 | fairness loss 920.67 | Demographic disparity = 0.08\n",
      " \n",
      "Avg Training Stats after 10 global rounds:\n",
      "Training loss: 42.60 | Training accuracy: 77.74% | Training Demographic disparity: 0.0842\n",
      " \n",
      " Results after 10 global rounds of training:\n",
      "|---- Avg Train Accuracy: 77.74%\n",
      "|---- Test Accuracy: 76.00%\n",
      "|---- Test Demographic disparity: 0.0533\n",
      "\n",
      " Total Run Time: 25.2275 sec\n"
     ]
    },
    {
     "name": "stderr",
     "output_type": "stream",
     "text": [
      "\n"
     ]
    }
   ],
   "source": [
    "seed = 439\n",
    "synthetic_info = dataGenerate(seed = seed, test_samples = 100)\n",
    "server = Server(logReg(num_features=3, num_classes=2, seed = seed), synthetic_info, train_prn = False, metric = \"Demographic disparity\", seed = seed)\n",
    "server.FairBatch(num_rounds = 10, local_epochs = 30, optimizer = 'adam', learning_rate = 0.004, alpha = 1, adaptive_alpha = True)\n",
    "\n"
   ]
  },
  {
   "cell_type": "code",
   "execution_count": 3,
   "metadata": {
    "scrolled": true
   },
   "outputs": [
    {
     "name": "stderr",
     "output_type": "stream",
     "text": [
      "\r",
      "  0%|          | 0/10 [00:00<?, ?it/s]"
     ]
    },
    {
     "name": "stdout",
     "output_type": "stream",
     "text": [
      "\n",
      " | Global Training Round : 1 |\n",
      "\n"
     ]
    },
    {
     "name": "stderr",
     "output_type": "stream",
     "text": [
      "\r",
      " 10%|█         | 1/10 [00:02<00:26,  2.89s/it]"
     ]
    },
    {
     "name": "stdout",
     "output_type": "stream",
     "text": [
      "Client 1: accuracy loss: 2.70 | fairness loss 1273.92 | Demographic disparity = 0.51\n",
      "Client 2: accuracy loss: 3.08 | fairness loss 1009.07 | Demographic disparity = 0.34\n",
      "Client 3: accuracy loss: 3.22 | fairness loss 1230.27 | Demographic disparity = 0.41\n",
      " \n",
      "Avg Training Stats after 1 global rounds:\n",
      "Training loss: 39.02 | Training accuracy: 86.89% | Training Demographic disparity: 0.3711\n",
      "\n",
      " | Global Training Round : 2 |\n",
      "\n"
     ]
    },
    {
     "name": "stderr",
     "output_type": "stream",
     "text": [
      "\r",
      " 20%|██        | 2/10 [00:05<00:23,  2.94s/it]"
     ]
    },
    {
     "name": "stdout",
     "output_type": "stream",
     "text": [
      "Client 1: accuracy loss: 3.04 | fairness loss 847.59 | Demographic disparity = 0.37\n",
      "Client 2: accuracy loss: 3.42 | fairness loss 683.73 | Demographic disparity = 0.20\n",
      "Client 3: accuracy loss: 3.89 | fairness loss 849.44 | Demographic disparity = 0.22\n",
      " \n",
      "Avg Training Stats after 2 global rounds:\n",
      "Training loss: 43.53 | Training accuracy: 84.00% | Training Demographic disparity: 0.2339\n",
      "\n",
      " | Global Training Round : 3 |\n",
      "\n"
     ]
    },
    {
     "name": "stderr",
     "output_type": "stream",
     "text": [
      "\r",
      " 30%|███       | 3/10 [00:09<00:21,  3.12s/it]"
     ]
    },
    {
     "name": "stdout",
     "output_type": "stream",
     "text": [
      "Client 1: accuracy loss: 3.68 | fairness loss 765.83 | Demographic disparity = 0.25\n",
      "Client 2: accuracy loss: 4.17 | fairness loss 627.38 | Demographic disparity = 0.07\n",
      "Client 3: accuracy loss: 4.86 | fairness loss 784.36 | Demographic disparity = 0.17\n",
      " \n",
      "Avg Training Stats after 3 global rounds:\n",
      "Training loss: 44.41 | Training accuracy: 80.40% | Training Demographic disparity: 0.1342\n",
      "\n",
      " | Global Training Round : 4 |\n",
      "\n"
     ]
    },
    {
     "name": "stderr",
     "output_type": "stream",
     "text": [
      "\r",
      " 40%|████      | 4/10 [00:13<00:19,  3.31s/it]"
     ]
    },
    {
     "name": "stdout",
     "output_type": "stream",
     "text": [
      "Client 1: accuracy loss: 4.38 | fairness loss 753.75 | Demographic disparity = 0.16\n",
      "Client 2: accuracy loss: 4.94 | fairness loss 629.77 | Demographic disparity = 0.02\n",
      "Client 3: accuracy loss: 5.80 | fairness loss 787.22 | Demographic disparity = 0.01\n",
      " \n",
      "Avg Training Stats after 4 global rounds:\n",
      "Training loss: 43.61 | Training accuracy: 72.32% | Training Demographic disparity: 0.0434\n",
      "\n",
      " | Global Training Round : 5 |\n",
      "\n"
     ]
    },
    {
     "name": "stderr",
     "output_type": "stream",
     "text": [
      "\r",
      " 50%|█████     | 5/10 [00:16<00:17,  3.43s/it]"
     ]
    },
    {
     "name": "stdout",
     "output_type": "stream",
     "text": [
      "Client 1: accuracy loss: 4.91 | fairness loss 769.87 | Demographic disparity = 0.02\n",
      "Client 2: accuracy loss: 5.56 | fairness loss 656.27 | Demographic disparity = 0.03\n",
      "Client 3: accuracy loss: 6.57 | fairness loss 818.97 | Demographic disparity = 0.10\n",
      " \n",
      "Avg Training Stats after 5 global rounds:\n",
      "Training loss: 42.71 | Training accuracy: 65.98% | Training Demographic disparity: 0.0463\n",
      "\n",
      " | Global Training Round : 6 |\n",
      "\n"
     ]
    },
    {
     "name": "stderr",
     "output_type": "stream",
     "text": [
      "\r",
      " 60%|██████    | 6/10 [00:20<00:14,  3.55s/it]"
     ]
    },
    {
     "name": "stdout",
     "output_type": "stream",
     "text": [
      "Client 1: accuracy loss: 5.18 | fairness loss 793.01 | Demographic disparity = 0.03\n",
      "Client 2: accuracy loss: 5.89 | fairness loss 683.70 | Demographic disparity = 0.03\n",
      "Client 3: accuracy loss: 6.98 | fairness loss 851.79 | Demographic disparity = 0.11\n",
      " \n",
      "Avg Training Stats after 6 global rounds:\n",
      "Training loss: 41.43 | Training accuracy: 66.66% | Training Demographic disparity: 0.0541\n",
      "\n",
      " | Global Training Round : 7 |\n",
      "\n"
     ]
    },
    {
     "name": "stderr",
     "output_type": "stream",
     "text": [
      "\r",
      " 70%|███████   | 7/10 [00:24<00:10,  3.58s/it]"
     ]
    },
    {
     "name": "stdout",
     "output_type": "stream",
     "text": [
      "Client 1: accuracy loss: 5.38 | fairness loss 801.19 | Demographic disparity = 0.05\n",
      "Client 2: accuracy loss: 6.12 | fairness loss 695.47 | Demographic disparity = 0.03\n",
      "Client 3: accuracy loss: 7.27 | fairness loss 865.06 | Demographic disparity = 0.11\n",
      " \n",
      "Avg Training Stats after 7 global rounds:\n",
      "Training loss: 40.60 | Training accuracy: 66.66% | Training Demographic disparity: 0.0607\n",
      "\n",
      " | Global Training Round : 8 |\n",
      "\n"
     ]
    },
    {
     "name": "stderr",
     "output_type": "stream",
     "text": [
      "\r",
      " 80%|████████  | 8/10 [00:29<00:08,  4.11s/it]"
     ]
    },
    {
     "name": "stdout",
     "output_type": "stream",
     "text": [
      "Client 1: accuracy loss: 5.47 | fairness loss 809.73 | Demographic disparity = 0.08\n",
      "Client 2: accuracy loss: 6.27 | fairness loss 706.73 | Demographic disparity = 0.03\n",
      "Client 3: accuracy loss: 7.50 | fairness loss 878.67 | Demographic disparity = 0.12\n",
      " \n",
      "Avg Training Stats after 8 global rounds:\n",
      "Training loss: 39.74 | Training accuracy: 65.98% | Training Demographic disparity: 0.0696\n",
      "\n",
      " | Global Training Round : 9 |\n",
      "\n"
     ]
    },
    {
     "name": "stderr",
     "output_type": "stream",
     "text": [
      "\r",
      " 90%|█████████ | 9/10 [00:33<00:03,  3.91s/it]"
     ]
    },
    {
     "name": "stdout",
     "output_type": "stream",
     "text": [
      "Client 1: accuracy loss: 5.57 | fairness loss 813.93 | Demographic disparity = 0.08\n",
      "Client 2: accuracy loss: 6.37 | fairness loss 712.25 | Demographic disparity = 0.03\n",
      "Client 3: accuracy loss: 7.60 | fairness loss 884.62 | Demographic disparity = 0.12\n",
      " \n",
      "Avg Training Stats after 9 global rounds:\n",
      "Training loss: 39.18 | Training accuracy: 65.98% | Training Demographic disparity: 0.0696\n",
      "\n",
      " | Global Training Round : 10 |\n",
      "\n"
     ]
    },
    {
     "name": "stderr",
     "output_type": "stream",
     "text": [
      "100%|██████████| 10/10 [00:35<00:00,  3.59s/it]"
     ]
    },
    {
     "name": "stdout",
     "output_type": "stream",
     "text": [
      "Client 1: accuracy loss: 5.57 | fairness loss 816.67 | Demographic disparity = 0.08\n",
      "Client 2: accuracy loss: 6.39 | fairness loss 715.08 | Demographic disparity = 0.03\n",
      "Client 3: accuracy loss: 7.63 | fairness loss 888.10 | Demographic disparity = 0.12\n",
      " \n",
      "Avg Training Stats after 10 global rounds:\n",
      "Training loss: 38.73 | Training accuracy: 65.98% | Training Demographic disparity: 0.0696\n",
      " \n",
      " Results after 10 global rounds of training:\n",
      "|---- Avg Train Accuracy: 65.98%\n",
      "|---- Test Accuracy: 71.00%\n",
      "|---- Test Demographic disparity: 0.0116\n",
      "\n",
      " Total Run Time: 35.9264 sec\n"
     ]
    },
    {
     "name": "stderr",
     "output_type": "stream",
     "text": [
      "\n"
     ]
    }
   ],
   "source": [
    "seed = 28\n",
    "synthetic_info = dataGenerate(seed = seed, test_samples = 100)\n",
    "server = Server(logReg(num_features=3, num_classes=2, seed = seed), synthetic_info, train_prn = False, metric = \"Demographic disparity\", seed = seed)\n",
    "server.FBVariant2(num_rounds = 10, local_epochs = 30, optimizer = 'adam', learning_rate = 0.004, alpha = 0.3, alpha_decay = 0.6)\n"
   ]
  },
  {
   "cell_type": "code",
   "execution_count": 4,
   "metadata": {
    "scrolled": true
   },
   "outputs": [
    {
     "name": "stderr",
     "output_type": "stream",
     "text": [
      "\r",
      "  0%|          | 0/10 [00:00<?, ?it/s]"
     ]
    },
    {
     "name": "stdout",
     "output_type": "stream",
     "text": [
      "\n",
      " | Global Training Round : 1 |\n",
      "\n"
     ]
    },
    {
     "name": "stderr",
     "output_type": "stream",
     "text": [
      "\r",
      " 10%|█         | 1/10 [00:03<00:29,  3.26s/it]"
     ]
    },
    {
     "name": "stdout",
     "output_type": "stream",
     "text": [
      "Client 1: accuracy loss: 3.55 | fairness loss 238.11 | Demographic disparity = 0.52\n",
      "Client 2: accuracy loss: 2.69 | fairness loss 472.46 | Demographic disparity = 0.32\n",
      "Client 3: accuracy loss: 2.95 | fairness loss 373.04 | Demographic disparity = 0.32\n",
      " \n",
      "Avg Training Stats after 1 global rounds:\n",
      "Training loss: 0.30 | Validation accuracy: 86.66% | Validation Demographic disparity: 0.3646\n",
      "\n",
      " | Global Training Round : 1 |\n",
      "\n"
     ]
    },
    {
     "name": "stderr",
     "output_type": "stream",
     "text": [
      "\r",
      " 20%|██        | 2/10 [00:06<00:25,  3.23s/it]"
     ]
    },
    {
     "name": "stdout",
     "output_type": "stream",
     "text": [
      "Client 1: accuracy loss: 8.65 | fairness loss 60.84 | Demographic disparity = 0.56\n",
      "Client 2: accuracy loss: 7.44 | fairness loss 77.51 | Demographic disparity = 0.23\n",
      "Client 3: accuracy loss: 7.69 | fairness loss 77.95 | Demographic disparity = 0.27\n",
      " \n",
      "Avg Training Stats after 1 global rounds:\n",
      "Training loss: 0.35 | Validation accuracy: 43.34% | Validation Demographic disparity: 0.3335\n",
      "\n",
      " | Global Training Round : 1 |\n",
      "\n"
     ]
    },
    {
     "name": "stderr",
     "output_type": "stream",
     "text": [
      "\r",
      " 30%|███       | 3/10 [00:09<00:22,  3.25s/it]"
     ]
    },
    {
     "name": "stdout",
     "output_type": "stream",
     "text": [
      "Client 1: accuracy loss: 5.99 | fairness loss 35.12 | Demographic disparity = 0.03\n",
      "Client 2: accuracy loss: 4.17 | fairness loss 82.36 | Demographic disparity = 0.14\n",
      "Client 3: accuracy loss: 4.93 | fairness loss 72.31 | Demographic disparity = 0.09\n",
      " \n",
      "Avg Training Stats after 1 global rounds:\n",
      "Training loss: 0.36 | Validation accuracy: 75.71% | Validation Demographic disparity: 0.0879\n",
      "\n",
      " | Global Training Round : 1 |\n",
      "\n"
     ]
    },
    {
     "name": "stderr",
     "output_type": "stream",
     "text": [
      "\r",
      " 40%|████      | 4/10 [00:12<00:18,  3.10s/it]"
     ]
    },
    {
     "name": "stdout",
     "output_type": "stream",
     "text": [
      "Client 1: accuracy loss: 8.01 | fairness loss 34.64 | Demographic disparity = 0.39\n",
      "Client 2: accuracy loss: 5.98 | fairness loss 41.84 | Demographic disparity = 0.14\n",
      "Client 3: accuracy loss: 6.75 | fairness loss 47.23 | Demographic disparity = 0.16\n",
      " \n",
      "Avg Training Stats after 1 global rounds:\n",
      "Training loss: 0.34 | Validation accuracy: 53.80% | Validation Demographic disparity: 0.2322\n",
      "\n",
      " | Global Training Round : 1 |\n",
      "\n"
     ]
    },
    {
     "name": "stderr",
     "output_type": "stream",
     "text": [
      "\r",
      " 50%|█████     | 5/10 [00:15<00:14,  2.99s/it]"
     ]
    },
    {
     "name": "stdout",
     "output_type": "stream",
     "text": [
      "Client 1: accuracy loss: 7.14 | fairness loss 29.98 | Demographic disparity = 0.16\n",
      "Client 2: accuracy loss: 4.96 | fairness loss 54.28 | Demographic disparity = 0.02\n",
      "Client 3: accuracy loss: 5.90 | fairness loss 55.31 | Demographic disparity = 0.04\n",
      " \n",
      "Avg Training Stats after 1 global rounds:\n",
      "Training loss: 0.33 | Validation accuracy: 66.10% | Validation Demographic disparity: 0.0539\n",
      "\n",
      " | Global Training Round : 1 |\n",
      "\n"
     ]
    },
    {
     "name": "stderr",
     "output_type": "stream",
     "text": [
      "\r",
      " 60%|██████    | 6/10 [00:19<00:13,  3.29s/it]"
     ]
    },
    {
     "name": "stdout",
     "output_type": "stream",
     "text": [
      "Client 1: accuracy loss: 6.69 | fairness loss 30.36 | Demographic disparity = 0.10\n",
      "Client 2: accuracy loss: 4.51 | fairness loss 67.78 | Demographic disparity = 0.08\n",
      "Client 3: accuracy loss: 5.51 | fairness loss 64.64 | Demographic disparity = 0.04\n",
      " \n",
      "Avg Training Stats after 1 global rounds:\n",
      "Training loss: 0.33 | Validation accuracy: 70.67% | Validation Demographic disparity: 0.0088\n",
      "\n",
      " | Global Training Round : 1 |\n",
      "\n"
     ]
    },
    {
     "name": "stderr",
     "output_type": "stream",
     "text": [
      "\r",
      " 70%|███████   | 7/10 [00:22<00:09,  3.30s/it]"
     ]
    },
    {
     "name": "stdout",
     "output_type": "stream",
     "text": [
      "Client 1: accuracy loss: 6.45 | fairness loss 30.91 | Demographic disparity = 0.02\n",
      "Client 2: accuracy loss: 4.31 | fairness loss 75.40 | Demographic disparity = 0.09\n",
      "Client 3: accuracy loss: 5.32 | fairness loss 69.66 | Demographic disparity = 0.04\n",
      " \n",
      "Avg Training Stats after 1 global rounds:\n",
      "Training loss: 0.33 | Validation accuracy: 72.14% | Validation Demographic disparity: 0.0290\n",
      "\n",
      " | Global Training Round : 1 |\n",
      "\n"
     ]
    },
    {
     "name": "stderr",
     "output_type": "stream",
     "text": [
      "\r",
      " 80%|████████  | 8/10 [00:25<00:06,  3.32s/it]"
     ]
    },
    {
     "name": "stdout",
     "output_type": "stream",
     "text": [
      "Client 1: accuracy loss: 6.33 | fairness loss 31.13 | Demographic disparity = 0.01\n",
      "Client 2: accuracy loss: 4.21 | fairness loss 78.97 | Demographic disparity = 0.11\n",
      "Client 3: accuracy loss: 5.21 | fairness loss 71.84 | Demographic disparity = 0.05\n",
      " \n",
      "Avg Training Stats after 1 global rounds:\n",
      "Training loss: 0.33 | Validation accuracy: 73.48% | Validation Demographic disparity: 0.0460\n",
      "\n",
      " | Global Training Round : 1 |\n",
      "\n"
     ]
    },
    {
     "name": "stderr",
     "output_type": "stream",
     "text": [
      "\r",
      " 90%|█████████ | 9/10 [00:29<00:03,  3.34s/it]"
     ]
    },
    {
     "name": "stdout",
     "output_type": "stream",
     "text": [
      "Client 1: accuracy loss: 6.38 | fairness loss 30.44 | Demographic disparity = 0.01\n",
      "Client 2: accuracy loss: 4.26 | fairness loss 76.01 | Demographic disparity = 0.11\n",
      "Client 3: accuracy loss: 5.26 | fairness loss 69.65 | Demographic disparity = 0.04\n",
      " \n",
      "Avg Training Stats after 1 global rounds:\n",
      "Training loss: 0.33 | Validation accuracy: 73.07% | Validation Demographic disparity: 0.0408\n",
      "\n",
      " | Global Training Round : 1 |\n",
      "\n"
     ]
    },
    {
     "name": "stderr",
     "output_type": "stream",
     "text": [
      "100%|██████████| 10/10 [00:32<00:00,  3.28s/it]"
     ]
    },
    {
     "name": "stdout",
     "output_type": "stream",
     "text": [
      "Client 1: accuracy loss: 6.35 | fairness loss 30.55 | Demographic disparity = 0.01\n",
      "Client 2: accuracy loss: 4.24 | fairness loss 76.98 | Demographic disparity = 0.11\n",
      "Client 3: accuracy loss: 5.23 | fairness loss 70.27 | Demographic disparity = 0.05\n",
      " \n",
      "Avg Training Stats after 1 global rounds:\n",
      "Training loss: 0.33 | Validation accuracy: 73.48% | Validation Demographic disparity: 0.0460\n",
      " \n",
      " Results after 1 global rounds of training:\n",
      "|---- Avg Train Accuracy: 73.48%\n",
      "|---- Test Accuracy: 68.00%\n",
      "|---- Test Demographic disparity: 0.0178\n",
      "\n",
      " Total Run Time: 32.8470 sec\n"
     ]
    },
    {
     "name": "stderr",
     "output_type": "stream",
     "text": [
      "\n"
     ]
    }
   ],
   "source": [
    "seed = 95\n",
    "synthetic_info = dataGenerate(seed = seed, test_samples = 100)\n",
    "server = Server(logReg(num_features=3, num_classes=2, seed = seed), synthetic_info, train_prn = False, metric = \"Demographic disparity\", seed = seed)\n",
    "server.BCVariant2(num_rounds = 1, local_epochs = 30, bs_iter = 10, optimizer = 'adam', epsilon = None, learning_rate = 0.005)\n",
    "\n"
   ]
  },
  {
   "cell_type": "code",
   "execution_count": 5,
   "metadata": {
    "scrolled": true
   },
   "outputs": [
    {
     "name": "stderr",
     "output_type": "stream",
     "text": [
      "\r",
      "  0%|          | 0/10 [00:00<?, ?it/s]"
     ]
    },
    {
     "name": "stdout",
     "output_type": "stream",
     "text": [
      "\n",
      " | Global Training Round : 1 |\n",
      "\n"
     ]
    },
    {
     "name": "stderr",
     "output_type": "stream",
     "text": [
      "\r",
      " 10%|█         | 1/10 [00:07<01:08,  7.66s/it]"
     ]
    },
    {
     "name": "stdout",
     "output_type": "stream",
     "text": [
      "Client 1: accuracy loss: 3.86 | fairness loss 180.84 | Demographic disparity = 0.41\n",
      "Client 2: accuracy loss: 2.79 | fairness loss 367.89 | Demographic disparity = 0.30\n",
      "Client 3: accuracy loss: 3.23 | fairness loss 293.08 | Demographic disparity = 0.29\n",
      " \n",
      "Avg Training Stats after 1 global rounds:\n",
      "Training loss: 0.35 | Validation accuracy: 86.42% | Validation Demographic disparity: 0.3241\n",
      "\n",
      " | Global Training Round : 2 |\n",
      "\n"
     ]
    },
    {
     "name": "stderr",
     "output_type": "stream",
     "text": [
      "\r",
      " 20%|██        | 2/10 [00:11<00:51,  6.45s/it]"
     ]
    },
    {
     "name": "stdout",
     "output_type": "stream",
     "text": [
      "Client 1: accuracy loss: 4.27 | fairness loss 94.97 | Demographic disparity = 0.32\n",
      "Client 2: accuracy loss: 3.01 | fairness loss 219.34 | Demographic disparity = 0.25\n",
      "Client 3: accuracy loss: 3.62 | fairness loss 173.69 | Demographic disparity = 0.23\n",
      " \n",
      "Avg Training Stats after 2 global rounds:\n",
      "Training loss: 0.37 | Validation accuracy: 84.04% | Validation Demographic disparity: 0.2577\n",
      "\n",
      " | Global Training Round : 3 |\n",
      "\n"
     ]
    },
    {
     "name": "stderr",
     "output_type": "stream",
     "text": [
      "\r",
      " 30%|███       | 3/10 [00:15<00:39,  5.66s/it]"
     ]
    },
    {
     "name": "stdout",
     "output_type": "stream",
     "text": [
      "Client 1: accuracy loss: 4.68 | fairness loss 56.11 | Demographic disparity = 0.21\n",
      "Client 2: accuracy loss: 3.29 | fairness loss 145.61 | Demographic disparity = 0.21\n",
      "Client 3: accuracy loss: 4.03 | fairness loss 116.61 | Demographic disparity = 0.19\n",
      " \n",
      "Avg Training Stats after 3 global rounds:\n",
      "Training loss: 0.37 | Validation accuracy: 82.74% | Validation Demographic disparity: 0.1984\n",
      "\n",
      " | Global Training Round : 4 |\n",
      "\n"
     ]
    },
    {
     "name": "stderr",
     "output_type": "stream",
     "text": [
      "\r",
      " 40%|████      | 4/10 [00:18<00:29,  4.93s/it]"
     ]
    },
    {
     "name": "stdout",
     "output_type": "stream",
     "text": [
      "Client 1: accuracy loss: 5.06 | fairness loss 38.82 | Demographic disparity = 0.13\n",
      "Client 2: accuracy loss: 3.58 | fairness loss 107.60 | Demographic disparity = 0.20\n",
      "Client 3: accuracy loss: 4.40 | fairness loss 88.56 | Demographic disparity = 0.16\n",
      " \n",
      "Avg Training Stats after 4 global rounds:\n",
      "Training loss: 0.37 | Validation accuracy: 80.87% | Validation Demographic disparity: 0.1608\n",
      "\n",
      " | Global Training Round : 5 |\n",
      "\n"
     ]
    },
    {
     "name": "stderr",
     "output_type": "stream",
     "text": [
      "\r",
      " 50%|█████     | 5/10 [00:21<00:21,  4.37s/it]"
     ]
    },
    {
     "name": "stdout",
     "output_type": "stream",
     "text": [
      "Client 1: accuracy loss: 5.35 | fairness loss 31.83 | Demographic disparity = 0.11\n",
      "Client 2: accuracy loss: 3.80 | fairness loss 88.93 | Demographic disparity = 0.18\n",
      "Client 3: accuracy loss: 4.69 | fairness loss 75.55 | Demographic disparity = 0.09\n",
      " \n",
      "Avg Training Stats after 5 global rounds:\n",
      "Training loss: 0.37 | Validation accuracy: 79.25% | Validation Demographic disparity: 0.1254\n",
      "\n",
      " | Global Training Round : 6 |\n",
      "\n"
     ]
    },
    {
     "name": "stderr",
     "output_type": "stream",
     "text": [
      "\r",
      " 60%|██████    | 6/10 [00:24<00:15,  3.97s/it]"
     ]
    },
    {
     "name": "stdout",
     "output_type": "stream",
     "text": [
      "Client 1: accuracy loss: 5.57 | fairness loss 28.95 | Demographic disparity = 0.03\n",
      "Client 2: accuracy loss: 3.98 | fairness loss 78.69 | Demographic disparity = 0.14\n",
      "Client 3: accuracy loss: 4.91 | fairness loss 68.87 | Demographic disparity = 0.08\n",
      " \n",
      "Avg Training Stats after 6 global rounds:\n",
      "Training loss: 0.37 | Validation accuracy: 76.68% | Validation Demographic disparity: 0.0897\n",
      "\n",
      " | Global Training Round : 7 |\n",
      "\n"
     ]
    },
    {
     "name": "stderr",
     "output_type": "stream",
     "text": [
      "\r",
      " 70%|███████   | 7/10 [00:27<00:11,  3.74s/it]"
     ]
    },
    {
     "name": "stdout",
     "output_type": "stream",
     "text": [
      "Client 1: accuracy loss: 5.73 | fairness loss 27.86 | Demographic disparity = 0.01\n",
      "Client 2: accuracy loss: 4.11 | fairness loss 72.96 | Demographic disparity = 0.12\n",
      "Client 3: accuracy loss: 5.06 | fairness loss 65.37 | Demographic disparity = 0.06\n",
      " \n",
      "Avg Training Stats after 7 global rounds:\n",
      "Training loss: 0.37 | Validation accuracy: 74.94% | Validation Demographic disparity: 0.0609\n",
      "\n",
      " | Global Training Round : 8 |\n",
      "\n"
     ]
    },
    {
     "name": "stderr",
     "output_type": "stream",
     "text": [
      "\r",
      " 80%|████████  | 8/10 [00:30<00:07,  3.57s/it]"
     ]
    },
    {
     "name": "stdout",
     "output_type": "stream",
     "text": [
      "Client 1: accuracy loss: 5.83 | fairness loss 27.54 | Demographic disparity = 0.03\n",
      "Client 2: accuracy loss: 4.20 | fairness loss 69.89 | Demographic disparity = 0.09\n",
      "Client 3: accuracy loss: 5.17 | fairness loss 63.65 | Demographic disparity = 0.04\n",
      " \n",
      "Avg Training Stats after 8 global rounds:\n",
      "Training loss: 0.36 | Validation accuracy: 73.93% | Validation Demographic disparity: 0.0388\n",
      "\n",
      " | Global Training Round : 9 |\n",
      "\n"
     ]
    },
    {
     "name": "stderr",
     "output_type": "stream",
     "text": [
      "\r",
      " 90%|█████████ | 9/10 [00:34<00:03,  3.48s/it]"
     ]
    },
    {
     "name": "stdout",
     "output_type": "stream",
     "text": [
      "Client 1: accuracy loss: 5.90 | fairness loss 27.49 | Demographic disparity = 0.04\n",
      "Client 2: accuracy loss: 4.25 | fairness loss 68.19 | Demographic disparity = 0.09\n",
      "Client 3: accuracy loss: 5.24 | fairness loss 62.76 | Demographic disparity = 0.04\n",
      " \n",
      "Avg Training Stats after 9 global rounds:\n",
      "Training loss: 0.36 | Validation accuracy: 73.64% | Validation Demographic disparity: 0.0355\n",
      "\n",
      " | Global Training Round : 10 |\n",
      "\n"
     ]
    },
    {
     "name": "stderr",
     "output_type": "stream",
     "text": [
      "100%|██████████| 10/10 [00:37<00:00,  3.75s/it]"
     ]
    },
    {
     "name": "stdout",
     "output_type": "stream",
     "text": [
      "Client 1: accuracy loss: 5.95 | fairness loss 27.52 | Demographic disparity = 0.04\n",
      "Client 2: accuracy loss: 4.29 | fairness loss 67.23 | Demographic disparity = 0.09\n",
      "Client 3: accuracy loss: 5.28 | fairness loss 62.29 | Demographic disparity = 0.04\n",
      " \n",
      "Avg Training Stats after 10 global rounds:\n",
      "Training loss: 0.36 | Validation accuracy: 73.64% | Validation Demographic disparity: 0.0355\n",
      " \n",
      " Results after 10 global rounds of training:\n",
      "|---- Avg Train Accuracy: 73.64%\n",
      "|---- Test Accuracy: 68.00%\n",
      "|---- Test Demographic disparity: 0.0367\n",
      "\n",
      " Total Run Time: 37.4897 sec\n"
     ]
    },
    {
     "name": "stderr",
     "output_type": "stream",
     "text": [
      "\n"
     ]
    }
   ],
   "source": [
    "seed = 95\n",
    "synthetic_info = dataGenerate(seed = seed, test_samples = 100)\n",
    "server = Server(logReg(num_features=3, num_classes=2, seed = seed), synthetic_info, train_prn = False, metric = \"Demographic disparity\", seed = seed)\n",
    "server.BCVariant1(num_rounds = 10, local_epochs = 30, optimizer = 'adam', epsilon = None, learning_rate = 0.005, alpha = 2)\n",
    "\n"
   ]
  },
  {
   "cell_type": "code",
   "execution_count": 10,
   "metadata": {
    "scrolled": true
   },
   "outputs": [
    {
     "name": "stderr",
     "output_type": "stream",
     "text": [
      "\r",
      "  0%|          | 0/3 [00:00<?, ?it/s]"
     ]
    },
    {
     "name": "stdout",
     "output_type": "stream",
     "text": [
      "\n",
      " | Testing Round : 1 | constraint :  Cov(z, d) < c\n",
      "\n"
     ]
    },
    {
     "name": "stderr",
     "output_type": "stream",
     "text": [
      "\r",
      " 33%|███▎      | 1/3 [00:03<00:06,  3.29s/it]"
     ]
    },
    {
     "name": "stdout",
     "output_type": "stream",
     "text": [
      "Client 1: accuracy loss: 3.54 | fairness loss 76.44 | Demographic disparity = 0.41\n",
      "Client 2: accuracy loss: 2.56 | fairness loss 142.83 | Demographic disparity = 0.25\n",
      "Client 3: accuracy loss: 2.41 | fairness loss 114.04 | Demographic disparity = 0.24\n",
      " \n",
      "Avg Training Stats after 1 Testing rounds:\n",
      "Training loss: -86.92 | Validation accuracy: 82.61% | Validation Demographic disparity: 0.2943\n",
      "\n",
      " | Testing Round : 2 | constraint :  Cov(z, d) < c\n",
      "\n"
     ]
    },
    {
     "name": "stderr",
     "output_type": "stream",
     "text": [
      "\r",
      " 67%|██████▋   | 2/3 [00:06<00:03,  3.27s/it]"
     ]
    },
    {
     "name": "stdout",
     "output_type": "stream",
     "text": [
      "Client 1: accuracy loss: 3.71 | fairness loss 282.62 | Demographic disparity = 0.00\n",
      "Client 2: accuracy loss: 2.64 | fairness loss 532.91 | Demographic disparity = 0.01\n",
      "Client 3: accuracy loss: 2.52 | fairness loss 424.76 | Demographic disparity = 0.01\n",
      " \n",
      "Avg Training Stats after 2 Testing rounds:\n",
      "Training loss: -214.64 | Validation accuracy: 56.10% | Validation Demographic disparity: 0.0010\n",
      "\n",
      " | Testing Round : 3 | constraint :  Cov(z, d) < c\n",
      "\n"
     ]
    },
    {
     "name": "stderr",
     "output_type": "stream",
     "text": [
      "100%|██████████| 3/3 [00:09<00:00,  3.30s/it]\n",
      "  0%|          | 0/3 [00:00<?, ?it/s]"
     ]
    },
    {
     "name": "stdout",
     "output_type": "stream",
     "text": [
      "Client 1: accuracy loss: 3.84 | fairness loss 622.00 | Demographic disparity = 0.10\n",
      "Client 2: accuracy loss: 2.71 | fairness loss 1176.93 | Demographic disparity = 0.10\n",
      "Client 3: accuracy loss: 2.61 | fairness loss 937.55 | Demographic disparity = 0.08\n",
      " \n",
      "Avg Training Stats after 3 Testing rounds:\n",
      "Training loss: -342.63 | Validation accuracy: 46.85% | Validation Demographic disparity: 0.0936\n",
      "\n",
      " | Testing Round : 1 | constraint :  Cov(z, d) > -c\n",
      "\n"
     ]
    },
    {
     "name": "stderr",
     "output_type": "stream",
     "text": [
      "\r",
      " 33%|███▎      | 1/3 [00:03<00:07,  3.70s/it]"
     ]
    },
    {
     "name": "stdout",
     "output_type": "stream",
     "text": [
      "Client 1: accuracy loss: 3.52 | fairness loss 44.17 | Demographic disparity = 0.59\n",
      "Client 2: accuracy loss: 2.96 | fairness loss 87.08 | Demographic disparity = 0.34\n",
      "Client 3: accuracy loss: 2.56 | fairness loss 69.02 | Demographic disparity = 0.34\n",
      " \n",
      "Avg Training Stats after 1 Testing rounds:\n",
      "Training loss: -282.88 | Validation accuracy: 87.43% | Validation Demographic disparity: 0.4018\n",
      "\n",
      " | Testing Round : 2 | constraint :  Cov(z, d) > -c\n",
      "\n"
     ]
    },
    {
     "name": "stderr",
     "output_type": "stream",
     "text": [
      "\r",
      " 67%|██████▋   | 2/3 [00:07<00:03,  3.62s/it]"
     ]
    },
    {
     "name": "stdout",
     "output_type": "stream",
     "text": [
      "Client 1: accuracy loss: 3.96 | fairness loss 202.40 | Demographic disparity = 0.62\n",
      "Client 2: accuracy loss: 3.50 | fairness loss 390.72 | Demographic disparity = 0.35\n",
      "Client 3: accuracy loss: 2.95 | fairness loss 310.39 | Demographic disparity = 0.36\n",
      " \n",
      "Avg Training Stats after 2 Testing rounds:\n",
      "Training loss: -297.49 | Validation accuracy: 86.42% | Validation Demographic disparity: 0.4173\n",
      "\n",
      " | Testing Round : 3 | constraint :  Cov(z, d) > -c\n",
      "\n"
     ]
    },
    {
     "name": "stderr",
     "output_type": "stream",
     "text": [
      "100%|██████████| 3/3 [00:10<00:00,  3.55s/it]\n",
      "  0%|          | 0/10 [00:00<?, ?it/s]"
     ]
    },
    {
     "name": "stdout",
     "output_type": "stream",
     "text": [
      "Client 1: accuracy loss: 4.45 | fairness loss 481.80 | Demographic disparity = 0.62\n",
      "Client 2: accuracy loss: 4.05 | fairness loss 924.43 | Demographic disparity = 0.35\n",
      "Client 3: accuracy loss: 3.37 | fairness loss 734.94 | Demographic disparity = 0.36\n",
      " \n",
      "Avg Training Stats after 3 Testing rounds:\n",
      "Training loss: -349.64 | Validation accuracy: 86.42% | Validation Demographic disparity: 0.4173\n",
      "\n",
      " | Global Round : 1 | constraint :  Cov(z, d) < c\n",
      "\n"
     ]
    },
    {
     "name": "stderr",
     "output_type": "stream",
     "text": [
      "\r",
      " 10%|█         | 1/10 [00:03<00:31,  3.50s/it]"
     ]
    },
    {
     "name": "stdout",
     "output_type": "stream",
     "text": [
      "Client 1: accuracy loss: 3.28 | fairness loss 637.90 | Demographic disparity = 0.06\n",
      "Client 2: accuracy loss: 2.41 | fairness loss 1207.61 | Demographic disparity = 0.07\n",
      "Client 3: accuracy loss: 2.31 | fairness loss 961.92 | Demographic disparity = 0.01\n",
      " \n",
      "Avg Training Stats after 1 global rounds:\n",
      "Training loss: -297.33 | Validation accuracy: 48.90% | Validation Demographic disparity: 0.0243\n",
      "\n",
      " | Global Round : 2 | constraint :  Cov(z, d) < c\n",
      "\n"
     ]
    },
    {
     "name": "stderr",
     "output_type": "stream",
     "text": [
      "\r",
      " 20%|██        | 2/10 [00:07<00:28,  3.53s/it]"
     ]
    },
    {
     "name": "stdout",
     "output_type": "stream",
     "text": [
      "Client 1: accuracy loss: 3.27 | fairness loss 661.60 | Demographic disparity = 0.05\n",
      "Client 2: accuracy loss: 2.43 | fairness loss 1252.89 | Demographic disparity = 0.08\n",
      "Client 3: accuracy loss: 2.30 | fairness loss 997.93 | Demographic disparity = 0.01\n",
      " \n",
      "Avg Training Stats after 2 global rounds:\n",
      "Training loss: -258.19 | Validation accuracy: 49.51% | Validation Demographic disparity: 0.0309\n",
      "\n",
      " | Global Round : 3 | constraint :  Cov(z, d) < c\n",
      "\n"
     ]
    },
    {
     "name": "stderr",
     "output_type": "stream",
     "text": [
      "\r",
      " 30%|███       | 3/10 [00:10<00:25,  3.58s/it]"
     ]
    },
    {
     "name": "stdout",
     "output_type": "stream",
     "text": [
      "Client 1: accuracy loss: 3.27 | fairness loss 685.76 | Demographic disparity = 0.05\n",
      "Client 2: accuracy loss: 2.44 | fairness loss 1299.07 | Demographic disparity = 0.08\n",
      "Client 3: accuracy loss: 2.29 | fairness loss 1034.65 | Demographic disparity = 0.01\n",
      " \n",
      "Avg Training Stats after 3 global rounds:\n",
      "Training loss: -227.78 | Validation accuracy: 49.51% | Validation Demographic disparity: 0.0309\n",
      "\n",
      " | Global Round : 4 | constraint :  Cov(z, d) < c\n",
      "\n"
     ]
    },
    {
     "name": "stderr",
     "output_type": "stream",
     "text": [
      "\r",
      " 40%|████      | 4/10 [00:14<00:22,  3.76s/it]"
     ]
    },
    {
     "name": "stdout",
     "output_type": "stream",
     "text": [
      "Client 1: accuracy loss: 3.27 | fairness loss 710.38 | Demographic disparity = 0.06\n",
      "Client 2: accuracy loss: 2.44 | fairness loss 1346.14 | Demographic disparity = 0.09\n",
      "Client 3: accuracy loss: 2.29 | fairness loss 1072.08 | Demographic disparity = 0.01\n",
      " \n",
      "Avg Training Stats after 4 global rounds:\n",
      "Training loss: -203.50 | Validation accuracy: 48.90% | Validation Demographic disparity: 0.0309\n",
      "\n",
      " | Global Round : 5 | constraint :  Cov(z, d) < c\n",
      "\n"
     ]
    },
    {
     "name": "stderr",
     "output_type": "stream",
     "text": [
      "\r",
      " 50%|█████     | 5/10 [00:18<00:18,  3.75s/it]"
     ]
    },
    {
     "name": "stdout",
     "output_type": "stream",
     "text": [
      "Client 1: accuracy loss: 3.26 | fairness loss 735.45 | Demographic disparity = 0.06\n",
      "Client 2: accuracy loss: 2.44 | fairness loss 1394.09 | Demographic disparity = 0.08\n",
      "Client 3: accuracy loss: 2.29 | fairness loss 1110.21 | Demographic disparity = 0.04\n",
      " \n",
      "Avg Training Stats after 5 global rounds:\n",
      "Training loss: -183.66 | Validation accuracy: 47.77% | Validation Demographic disparity: 0.0342\n",
      "\n",
      " | Global Round : 6 | constraint :  Cov(z, d) < c\n",
      "\n"
     ]
    },
    {
     "name": "stderr",
     "output_type": "stream",
     "text": [
      "\r",
      " 60%|██████    | 6/10 [00:22<00:14,  3.71s/it]"
     ]
    },
    {
     "name": "stdout",
     "output_type": "stream",
     "text": [
      "Client 1: accuracy loss: 3.26 | fairness loss 760.97 | Demographic disparity = 0.04\n",
      "Client 2: accuracy loss: 2.44 | fairness loss 1442.91 | Demographic disparity = 0.09\n",
      "Client 3: accuracy loss: 2.29 | fairness loss 1149.02 | Demographic disparity = 0.04\n",
      " \n",
      "Avg Training Stats after 6 global rounds:\n",
      "Training loss: -167.15 | Validation accuracy: 48.67% | Validation Demographic disparity: 0.0442\n",
      "\n",
      " | Global Round : 7 | constraint :  Cov(z, d) < c\n",
      "\n"
     ]
    },
    {
     "name": "stderr",
     "output_type": "stream",
     "text": [
      "\r",
      " 70%|███████   | 7/10 [00:25<00:10,  3.65s/it]"
     ]
    },
    {
     "name": "stdout",
     "output_type": "stream",
     "text": [
      "Client 1: accuracy loss: 3.26 | fairness loss 786.94 | Demographic disparity = 0.05\n",
      "Client 2: accuracy loss: 2.44 | fairness loss 1492.60 | Demographic disparity = 0.09\n",
      "Client 3: accuracy loss: 2.29 | fairness loss 1188.53 | Demographic disparity = 0.04\n",
      " \n",
      "Avg Training Stats after 7 global rounds:\n",
      "Training loss: -153.22 | Validation accuracy: 48.38% | Validation Demographic disparity: 0.0409\n",
      "\n",
      " | Global Round : 8 | constraint :  Cov(z, d) < c\n",
      "\n"
     ]
    },
    {
     "name": "stderr",
     "output_type": "stream",
     "text": [
      "\r",
      " 80%|████████  | 8/10 [00:29<00:07,  3.55s/it]"
     ]
    },
    {
     "name": "stdout",
     "output_type": "stream",
     "text": [
      "Client 1: accuracy loss: 3.26 | fairness loss 813.37 | Demographic disparity = 0.05\n",
      "Client 2: accuracy loss: 2.44 | fairness loss 1543.16 | Demographic disparity = 0.10\n",
      "Client 3: accuracy loss: 2.29 | fairness loss 1228.73 | Demographic disparity = 0.04\n",
      " \n",
      "Avg Training Stats after 8 global rounds:\n",
      "Training loss: -141.30 | Validation accuracy: 48.05% | Validation Demographic disparity: 0.0442\n",
      "\n",
      " | Global Round : 9 | constraint :  Cov(z, d) < c\n",
      "\n"
     ]
    },
    {
     "name": "stderr",
     "output_type": "stream",
     "text": [
      "\r",
      " 90%|█████████ | 9/10 [00:32<00:03,  3.46s/it]"
     ]
    },
    {
     "name": "stdout",
     "output_type": "stream",
     "text": [
      "Client 1: accuracy loss: 3.26 | fairness loss 840.24 | Demographic disparity = 0.04\n",
      "Client 2: accuracy loss: 2.44 | fairness loss 1594.59 | Demographic disparity = 0.09\n",
      "Client 3: accuracy loss: 2.29 | fairness loss 1269.63 | Demographic disparity = 0.05\n",
      " \n",
      "Avg Training Stats after 9 global rounds:\n",
      "Training loss: -131.00 | Validation accuracy: 48.26% | Validation Demographic disparity: 0.0475\n",
      "\n",
      " | Global Round : 10 | constraint :  Cov(z, d) < c\n",
      "\n"
     ]
    },
    {
     "name": "stderr",
     "output_type": "stream",
     "text": [
      "100%|██████████| 10/10 [00:35<00:00,  3.56s/it]"
     ]
    },
    {
     "name": "stdout",
     "output_type": "stream",
     "text": [
      "Client 1: accuracy loss: 3.26 | fairness loss 867.57 | Demographic disparity = 0.04\n",
      "Client 2: accuracy loss: 2.44 | fairness loss 1646.90 | Demographic disparity = 0.09\n",
      "Client 3: accuracy loss: 2.29 | fairness loss 1311.21 | Demographic disparity = 0.05\n",
      " \n",
      "Avg Training Stats after 10 global rounds:\n",
      "Training loss: -122.00 | Validation accuracy: 47.69% | Validation Demographic disparity: 0.0475\n",
      " \n",
      " Results after 10 global rounds of training:\n",
      "|---- Avg Train Accuracy: 47.69%\n",
      "|---- Test Accuracy: 45.00%\n",
      "|---- Test Demographic disparity: 0.0544\n",
      "\n",
      " Total Run Time: 56.2122 sec\n"
     ]
    },
    {
     "name": "stderr",
     "output_type": "stream",
     "text": [
      "\n"
     ]
    }
   ],
   "source": [
    "seed = 95\n",
    "synthetic_info = dataGenerate(seed = seed, test_samples = 100)\n",
    "server = Server(logReg(num_features=3, num_classes=2, seed = seed), synthetic_info, train_prn = False, metric = \"Demographic disparity\", seed = seed)\n",
    "server.Zafar(test_rounds = 3, test_lr = 0.005, test_penalty = 80, num_rounds = 10, local_epochs = 50, optimizer = 'adam', learning_rate = 0.002, penalty = 2)\n"
   ]
  },
  {
   "cell_type": "code",
   "execution_count": 25,
   "metadata": {
    "scrolled": true
   },
   "outputs": [
    {
     "name": "stderr",
     "output_type": "stream",
     "text": [
      "\n",
      "\n",
      "\n",
      "\n",
      "\n",
      "\n",
      "  0%|          | 0/10 [00:00<?, ?it/s]\u001b[A\u001b[A\u001b[A\u001b[A\u001b[A\u001b[A"
     ]
    },
    {
     "name": "stdout",
     "output_type": "stream",
     "text": [
      "\n",
      " | Global Training Round : 1 |\n",
      "\n"
     ]
    },
    {
     "name": "stderr",
     "output_type": "stream",
     "text": [
      "\n",
      "\n",
      "\n",
      "\n",
      "\n",
      "\n",
      " 10%|█         | 1/10 [00:14<02:11, 14.61s/it]\u001b[A\u001b[A\u001b[A\u001b[A\u001b[A\u001b[A"
     ]
    },
    {
     "name": "stdout",
     "output_type": "stream",
     "text": [
      "Client 1: accuracy loss: 3.55 | fairness loss 1118.58 | Demographic disparity = 0.49\n",
      "Client 2: accuracy loss: 2.42 | fairness loss 1665.38 | Demographic disparity = 0.36\n",
      "Client 3: accuracy loss: 3.21 | fairness loss 1407.84 | Demographic disparity = 0.38\n",
      " \n",
      "Avg Training Stats after 1 global rounds:\n",
      "Training loss: 2118.28 | Validation accuracy: 87.09% | Validation Demographic disparity: 0.3974\n",
      "\n",
      " | Global Training Round : 2 |\n",
      "\n"
     ]
    },
    {
     "name": "stderr",
     "output_type": "stream",
     "text": [
      "\n",
      "\n",
      "\n",
      "\n",
      "\n",
      "\n",
      " 20%|██        | 2/10 [00:31<02:01, 15.23s/it]\u001b[A\u001b[A\u001b[A\u001b[A\u001b[A\u001b[A"
     ]
    },
    {
     "name": "stdout",
     "output_type": "stream",
     "text": [
      "Client 1: accuracy loss: 3.88 | fairness loss 542.57 | Demographic disparity = 0.45\n",
      "Client 2: accuracy loss: 2.90 | fairness loss 822.97 | Demographic disparity = 0.34\n",
      "Client 3: accuracy loss: 3.61 | fairness loss 698.12 | Demographic disparity = 0.36\n",
      " \n",
      "Avg Training Stats after 2 global rounds:\n",
      "Training loss: 1646.19 | Validation accuracy: 85.75% | Validation Demographic disparity: 0.3778\n",
      "\n",
      " | Global Training Round : 3 |\n",
      "\n"
     ]
    },
    {
     "name": "stderr",
     "output_type": "stream",
     "text": [
      "\n",
      "\n",
      "\n",
      "\n",
      "\n",
      "\n",
      " 30%|███       | 3/10 [00:45<01:43, 14.78s/it]\u001b[A\u001b[A\u001b[A\u001b[A\u001b[A\u001b[A"
     ]
    },
    {
     "name": "stdout",
     "output_type": "stream",
     "text": [
      "Client 1: accuracy loss: 4.55 | fairness loss 184.95 | Demographic disparity = 0.45\n",
      "Client 2: accuracy loss: 3.74 | fairness loss 292.03 | Demographic disparity = 0.30\n",
      "Client 3: accuracy loss: 4.33 | fairness loss 249.60 | Demographic disparity = 0.35\n",
      " \n",
      "Avg Training Stats after 3 global rounds:\n",
      "Training loss: 1276.00 | Validation accuracy: 86.14% | Validation Demographic disparity: 0.3505\n",
      "\n",
      " | Global Training Round : 4 |\n",
      "\n"
     ]
    },
    {
     "name": "stderr",
     "output_type": "stream",
     "text": [
      "\n",
      "\n",
      "\n",
      "\n",
      "\n",
      "\n",
      " 40%|████      | 4/10 [00:57<01:25, 14.21s/it]\u001b[A\u001b[A\u001b[A\u001b[A\u001b[A\u001b[A"
     ]
    },
    {
     "name": "stdout",
     "output_type": "stream",
     "text": [
      "Client 1: accuracy loss: 5.64 | fairness loss 26.75 | Demographic disparity = 0.34\n",
      "Client 2: accuracy loss: 5.03 | fairness loss 47.95 | Demographic disparity = 0.28\n",
      "Client 3: accuracy loss: 5.39 | fairness loss 42.15 | Demographic disparity = 0.22\n",
      " \n",
      "Avg Training Stats after 4 global rounds:\n",
      "Training loss: 1004.56 | Validation accuracy: 82.22% | Validation Demographic disparity: 0.2712\n",
      "\n",
      " | Global Training Round : 5 |\n",
      "\n"
     ]
    },
    {
     "name": "stderr",
     "output_type": "stream",
     "text": [
      "\n",
      "\n",
      "\n",
      "\n",
      "\n",
      "\n",
      " 50%|█████     | 5/10 [01:11<01:10, 14.03s/it]\u001b[A\u001b[A\u001b[A\u001b[A\u001b[A\u001b[A"
     ]
    },
    {
     "name": "stdout",
     "output_type": "stream",
     "text": [
      "Client 1: accuracy loss: 6.40 | fairness loss 2.19 | Demographic disparity = 0.03\n",
      "Client 2: accuracy loss: 5.96 | fairness loss 4.49 | Demographic disparity = 0.04\n",
      "Client 3: accuracy loss: 6.11 | fairness loss 3.99 | Demographic disparity = 0.05\n",
      " \n",
      "Avg Training Stats after 5 global rounds:\n",
      "Training loss: 821.23 | Validation accuracy: 65.54% | Validation Demographic disparity: 0.0421\n",
      "\n",
      " | Global Training Round : 6 |\n",
      "\n"
     ]
    },
    {
     "name": "stderr",
     "output_type": "stream",
     "text": [
      "\n",
      "\n",
      "\n",
      "\n",
      "\n",
      "\n",
      " 60%|██████    | 6/10 [01:29<01:00, 15.25s/it]\u001b[A\u001b[A\u001b[A\u001b[A\u001b[A\u001b[A"
     ]
    },
    {
     "name": "stdout",
     "output_type": "stream",
     "text": [
      "Client 1: accuracy loss: 6.43 | fairness loss 1.39 | Demographic disparity = 0.00\n",
      "Client 2: accuracy loss: 6.03 | fairness loss 2.65 | Demographic disparity = 0.06\n",
      "Client 3: accuracy loss: 6.14 | fairness loss 2.13 | Demographic disparity = 0.06\n",
      " \n",
      "Avg Training Stats after 6 global rounds:\n",
      "Training loss: 697.82 | Validation accuracy: 64.59% | Validation Demographic disparity: 0.0545\n",
      "\n",
      " | Global Training Round : 7 |\n",
      "\n"
     ]
    },
    {
     "name": "stderr",
     "output_type": "stream",
     "text": [
      "\n",
      "\n",
      "\n",
      "\n",
      "\n",
      "\n",
      " 70%|███████   | 7/10 [01:41<00:42, 14.25s/it]\u001b[A\u001b[A\u001b[A\u001b[A\u001b[A\u001b[A"
     ]
    },
    {
     "name": "stdout",
     "output_type": "stream",
     "text": [
      "Client 1: accuracy loss: 6.42 | fairness loss 1.40 | Demographic disparity = 0.00\n",
      "Client 2: accuracy loss: 6.03 | fairness loss 2.47 | Demographic disparity = 0.06\n",
      "Client 3: accuracy loss: 6.13 | fairness loss 2.01 | Demographic disparity = 0.06\n",
      " \n",
      "Avg Training Stats after 7 global rounds:\n",
      "Training loss: 609.60 | Validation accuracy: 64.59% | Validation Demographic disparity: 0.0545\n",
      "\n",
      " | Global Training Round : 8 |\n",
      "\n"
     ]
    },
    {
     "name": "stderr",
     "output_type": "stream",
     "text": [
      "\n",
      "\n",
      "\n",
      "\n",
      "\n",
      "\n",
      " 80%|████████  | 8/10 [01:51<00:25, 12.97s/it]\u001b[A\u001b[A\u001b[A\u001b[A\u001b[A\u001b[A"
     ]
    },
    {
     "name": "stdout",
     "output_type": "stream",
     "text": [
      "Client 1: accuracy loss: 6.44 | fairness loss 1.43 | Demographic disparity = 0.00\n",
      "Client 2: accuracy loss: 6.02 | fairness loss 2.45 | Demographic disparity = 0.07\n",
      "Client 3: accuracy loss: 6.13 | fairness loss 2.01 | Demographic disparity = 0.06\n",
      " \n",
      "Avg Training Stats after 8 global rounds:\n",
      "Training loss: 543.43 | Validation accuracy: 64.92% | Validation Demographic disparity: 0.0599\n",
      "\n",
      " | Global Training Round : 9 |\n",
      "\n"
     ]
    },
    {
     "name": "stderr",
     "output_type": "stream",
     "text": [
      "\n",
      "\n",
      "\n",
      "\n",
      "\n",
      "\n",
      " 90%|█████████ | 9/10 [02:00<00:11, 11.85s/it]\u001b[A\u001b[A\u001b[A\u001b[A\u001b[A\u001b[A"
     ]
    },
    {
     "name": "stdout",
     "output_type": "stream",
     "text": [
      "Client 1: accuracy loss: 6.45 | fairness loss 1.44 | Demographic disparity = 0.08\n",
      "Client 2: accuracy loss: 6.02 | fairness loss 2.44 | Demographic disparity = 0.07\n",
      "Client 3: accuracy loss: 6.13 | fairness loss 2.01 | Demographic disparity = 0.06\n",
      " \n",
      "Avg Training Stats after 9 global rounds:\n",
      "Training loss: 491.98 | Validation accuracy: 65.50% | Validation Demographic disparity: 0.0708\n",
      "\n",
      " | Global Training Round : 10 |\n",
      "\n"
     ]
    },
    {
     "name": "stderr",
     "output_type": "stream",
     "text": [
      "\n",
      "\n",
      "\n",
      "\n",
      "\n",
      "\n",
      "100%|██████████| 10/10 [02:11<00:00, 13.18s/it]\u001b[A\u001b[A\u001b[A\u001b[A\u001b[A\u001b[A"
     ]
    },
    {
     "name": "stdout",
     "output_type": "stream",
     "text": [
      "Client 1: accuracy loss: 6.46 | fairness loss 1.44 | Demographic disparity = 0.12\n",
      "Client 2: accuracy loss: 6.02 | fairness loss 2.44 | Demographic disparity = 0.08\n",
      "Client 3: accuracy loss: 6.13 | fairness loss 2.01 | Demographic disparity = 0.06\n",
      " \n",
      "Avg Training Stats after 10 global rounds:\n",
      "Training loss: 450.81 | Validation accuracy: 66.12% | Validation Demographic disparity: 0.0817\n",
      " \n",
      " Results after 10 global rounds of training:\n",
      "|---- Avg Train Accuracy: 66.12%\n",
      "|---- Test Accuracy: 69.67%\n",
      "|---- Test Demographic disparity: 0.0741\n",
      "\n",
      " Total Run Time: 131.8428 sec\n"
     ]
    },
    {
     "name": "stderr",
     "output_type": "stream",
     "text": [
      "\n"
     ]
    }
   ],
   "source": [
    "seed = 95\n",
    "synthetic_info = dataGenerate(seed = 745, test_samples = 300)\n",
    "server = Server(logReg(num_features=3, num_classes=2, seed = seed), synthetic_info, train_prn = False, metric = \"Demographic disparity\", seed = seed)\n",
    "server.LocalZafar(num_rounds = 10, local_epochs = 30, optimizer = 'adam', learning_rate = 0.0005, penalty = 1500)\n",
    "\n"
   ]
  },
  {
   "cell_type": "code",
   "execution_count": 5,
   "metadata": {
    "scrolled": true
   },
   "outputs": [
    {
     "name": "stderr",
     "output_type": "stream",
     "text": [
      "\r",
      "  0%|          | 0/3 [00:00<?, ?it/s]"
     ]
    },
    {
     "name": "stdout",
     "output_type": "stream",
     "text": [
      "\n",
      " | Testing Round : 1 | constraint :  Cov(z, d) < c\n",
      "\n"
     ]
    },
    {
     "name": "stderr",
     "output_type": "stream",
     "text": [
      "\r",
      " 33%|███▎      | 1/3 [00:02<00:05,  2.61s/it]"
     ]
    },
    {
     "name": "stdout",
     "output_type": "stream",
     "text": [
      "Client 1: accuracy loss: 3.33 | fairness loss 596.48 | Demographic disparity = 0.52\n",
      "Client 2: accuracy loss: 3.14 | fairness loss 710.20 | Demographic disparity = 0.39\n",
      "Client 3: accuracy loss: 2.86 | fairness loss 698.44 | Demographic disparity = 0.35\n",
      " \n",
      "Avg Training Stats after 1 Testing rounds:\n",
      "Training loss: 25.77 | Validation accuracy: 86.11% | Validation Demographic disparity: 0.3746\n",
      "\n",
      " | Testing Round : 2 | constraint :  Cov(z, d) < c\n",
      "\n"
     ]
    },
    {
     "name": "stderr",
     "output_type": "stream",
     "text": [
      "\r",
      " 67%|██████▋   | 2/3 [00:07<00:03,  3.42s/it]"
     ]
    },
    {
     "name": "stdout",
     "output_type": "stream",
     "text": [
      "Client 1: accuracy loss: 3.30 | fairness loss 5530.61 | Demographic disparity = 0.26\n",
      "Client 2: accuracy loss: 3.09 | fairness loss 6347.69 | Demographic disparity = 0.19\n",
      "Client 3: accuracy loss: 2.88 | fairness loss 6756.99 | Demographic disparity = 0.08\n",
      " \n",
      "Avg Training Stats after 2 Testing rounds:\n",
      "Training loss: -56.92 | Validation accuracy: 68.32% | Validation Demographic disparity: 0.1610\n",
      "\n",
      " | Testing Round : 3 | constraint :  Cov(z, d) < c\n",
      "\n"
     ]
    },
    {
     "name": "stderr",
     "output_type": "stream",
     "text": [
      "100%|██████████| 3/3 [00:14<00:00,  4.75s/it]\n",
      "  0%|          | 0/3 [00:00<?, ?it/s]"
     ]
    },
    {
     "name": "stdout",
     "output_type": "stream",
     "text": [
      "Client 1: accuracy loss: 3.29 | fairness loss 15621.51 | Demographic disparity = 0.00\n",
      "Client 2: accuracy loss: 3.07 | fairness loss 17787.41 | Demographic disparity = 0.01\n",
      "Client 3: accuracy loss: 2.91 | fairness loss 19234.63 | Demographic disparity = 0.11\n",
      " \n",
      "Avg Training Stats after 3 Testing rounds:\n",
      "Training loss: -149.48 | Validation accuracy: 52.53% | Validation Demographic disparity: 0.0410\n",
      "\n",
      " | Testing Round : 1 | constraint :  Cov(z, d) > -c\n",
      "\n"
     ]
    },
    {
     "name": "stderr",
     "output_type": "stream",
     "text": [
      "\r",
      " 33%|███▎      | 1/3 [00:02<00:05,  2.74s/it]"
     ]
    },
    {
     "name": "stdout",
     "output_type": "stream",
     "text": [
      "Client 1: accuracy loss: 3.27 | fairness loss 878.86 | Demographic disparity = 0.62\n",
      "Client 2: accuracy loss: 3.54 | fairness loss 1005.64 | Demographic disparity = 0.44\n",
      "Client 3: accuracy loss: 3.21 | fairness loss 1059.19 | Demographic disparity = 0.46\n",
      " \n",
      "Avg Training Stats after 1 Testing rounds:\n",
      "Training loss: -124.16 | Validation accuracy: 86.70% | Validation Demographic disparity: 0.4555\n",
      "\n",
      " | Testing Round : 2 | constraint :  Cov(z, d) > -c\n",
      "\n"
     ]
    },
    {
     "name": "stderr",
     "output_type": "stream",
     "text": [
      "\r",
      " 67%|██████▋   | 2/3 [00:05<00:02,  2.90s/it]"
     ]
    },
    {
     "name": "stdout",
     "output_type": "stream",
     "text": [
      "Client 1: accuracy loss: 3.61 | fairness loss 5849.47 | Demographic disparity = 0.61\n",
      "Client 2: accuracy loss: 4.02 | fairness loss 6654.54 | Demographic disparity = 0.44\n",
      "Client 3: accuracy loss: 3.79 | fairness loss 7169.71 | Demographic disparity = 0.46\n",
      " \n",
      "Avg Training Stats after 2 Testing rounds:\n",
      "Training loss: -141.91 | Validation accuracy: 86.99% | Validation Demographic disparity: 0.4522\n",
      "\n",
      " | Testing Round : 3 | constraint :  Cov(z, d) > -c\n",
      "\n"
     ]
    },
    {
     "name": "stderr",
     "output_type": "stream",
     "text": [
      "100%|██████████| 3/3 [00:08<00:00,  2.87s/it]\n",
      "  0%|          | 0/4 [00:00<?, ?it/s]"
     ]
    },
    {
     "name": "stdout",
     "output_type": "stream",
     "text": [
      "Client 1: accuracy loss: 3.97 | fairness loss 15659.91 | Demographic disparity = 0.61\n",
      "Client 2: accuracy loss: 4.49 | fairness loss 17761.22 | Demographic disparity = 0.44\n",
      "Client 3: accuracy loss: 4.25 | fairness loss 19297.04 | Demographic disparity = 0.46\n",
      " \n",
      "Avg Training Stats after 3 Testing rounds:\n",
      "Training loss: -186.01 | Validation accuracy: 86.99% | Validation Demographic disparity: 0.4522\n",
      "\n",
      " | Global Round : 1 | constraint :  Cov(z, d) < c\n",
      "\n"
     ]
    },
    {
     "name": "stderr",
     "output_type": "stream",
     "text": [
      "\r",
      " 25%|██▌       | 1/4 [00:02<00:07,  2.62s/it]"
     ]
    },
    {
     "name": "stdout",
     "output_type": "stream",
     "text": [
      "Client 1: accuracy loss: 3.29 | fairness loss 16931.38 | Demographic disparity = 0.03\n",
      "Client 2: accuracy loss: 3.06 | fairness loss 19269.79 | Demographic disparity = 0.03\n",
      "Client 3: accuracy loss: 2.91 | fairness loss 20856.28 | Demographic disparity = 0.09\n",
      " \n",
      "Avg Training Stats after 1 global rounds:\n",
      "Training loss: -222.33 | Validation accuracy: 51.75% | Validation Demographic disparity: 0.0575\n",
      "\n",
      " | Global Round : 2 | constraint :  Cov(z, d) < c\n",
      "\n"
     ]
    },
    {
     "name": "stderr",
     "output_type": "stream",
     "text": [
      "\r",
      " 50%|█████     | 2/4 [00:05<00:05,  2.72s/it]"
     ]
    },
    {
     "name": "stdout",
     "output_type": "stream",
     "text": [
      "Client 1: accuracy loss: 3.29 | fairness loss 18294.97 | Demographic disparity = 0.05\n",
      "Client 2: accuracy loss: 3.06 | fairness loss 20812.58 | Demographic disparity = 0.05\n",
      "Client 3: accuracy loss: 2.91 | fairness loss 22544.78 | Demographic disparity = 0.10\n",
      " \n",
      "Avg Training Stats after 2 global rounds:\n",
      "Training loss: -252.04 | Validation accuracy: 50.32% | Validation Demographic disparity: 0.0691\n",
      "\n",
      " | Global Round : 3 | constraint :  Cov(z, d) < c\n",
      "\n"
     ]
    },
    {
     "name": "stderr",
     "output_type": "stream",
     "text": [
      "\r",
      " 75%|███████▌  | 3/4 [00:07<00:02,  2.63s/it]"
     ]
    },
    {
     "name": "stdout",
     "output_type": "stream",
     "text": [
      "Client 1: accuracy loss: 3.29 | fairness loss 19712.32 | Demographic disparity = 0.05\n",
      "Client 2: accuracy loss: 3.06 | fairness loss 22415.84 | Demographic disparity = 0.04\n",
      "Client 3: accuracy loss: 2.92 | fairness loss 24300.20 | Demographic disparity = 0.10\n",
      " \n",
      "Avg Training Stats after 3 global rounds:\n",
      "Training loss: -277.35 | Validation accuracy: 50.06% | Validation Demographic disparity: 0.0658\n",
      "\n",
      " | Global Round : 4 | constraint :  Cov(z, d) < c\n",
      "\n"
     ]
    },
    {
     "name": "stderr",
     "output_type": "stream",
     "text": [
      "100%|██████████| 4/4 [00:10<00:00,  2.59s/it]"
     ]
    },
    {
     "name": "stdout",
     "output_type": "stream",
     "text": [
      "Client 1: accuracy loss: 3.29 | fairness loss 21183.47 | Demographic disparity = 0.08\n",
      "Client 2: accuracy loss: 3.06 | fairness loss 24079.59 | Demographic disparity = 0.06\n",
      "Client 3: accuracy loss: 2.92 | fairness loss 26122.55 | Demographic disparity = 0.10\n",
      " \n",
      "Avg Training Stats after 4 global rounds:\n",
      "Training loss: -299.58 | Validation accuracy: 49.12% | Validation Demographic disparity: 0.0824\n",
      " \n",
      " Results after 4 global rounds of training:\n",
      "|---- Avg Train Accuracy: 49.12%\n",
      "|---- Test Accuracy: 43.00%\n",
      "|---- Test Demographic disparity: 0.1721\n",
      "\n",
      " Total Run Time: 33.2568 sec\n"
     ]
    },
    {
     "name": "stderr",
     "output_type": "stream",
     "text": [
      "\n"
     ]
    }
   ],
   "source": [
    "seed = 812\n",
    "synthetic_info = dataGenerate(seed = seed, test_samples = 100)\n",
    "server = Server(logReg(num_features=3, num_classes=2, seed = seed), synthetic_info, train_prn = False, metric = \"Demographic disparity\", seed = seed)\n",
    "server.Zafar(test_rounds = 3, test_lr = 0.01, test_penalty = 100, num_rounds = 4, local_epochs = 30, optimizer = 'adam', learning_rate = 0.001, penalty = 50)\n"
   ]
  },
  {
   "cell_type": "code",
   "execution_count": 13,
   "metadata": {
    "scrolled": true
   },
   "outputs": [
    {
     "name": "stderr",
     "output_type": "stream",
     "text": [
      "\n",
      "\n",
      "  0%|          | 0/10 [00:00<?, ?it/s]\u001b[A\u001b[A"
     ]
    },
    {
     "name": "stdout",
     "output_type": "stream",
     "text": [
      "\n",
      " | Global Training Round : 1 |\n",
      "\n"
     ]
    },
    {
     "name": "stderr",
     "output_type": "stream",
     "text": [
      "\n",
      "\n",
      " 10%|█         | 1/10 [00:13<02:02, 13.56s/it]\u001b[A\u001b[A"
     ]
    },
    {
     "name": "stdout",
     "output_type": "stream",
     "text": [
      "Client 1: accuracy loss: 14.76 | fairness loss 108.46 | Demographic disparity = 0.62\n",
      "Client 2: accuracy loss: 14.74 | fairness loss 180.01 | Demographic disparity = 0.38\n",
      "Client 3: accuracy loss: 13.00 | fairness loss 142.04 | Demographic disparity = 0.41\n",
      " \n",
      "Avg Training Stats after 1 global rounds:\n",
      "Training loss: 218.12 | Validation accuracy: 15.16% | Validation Demographic disparity: 0.4444\n",
      "\n",
      " | Global Training Round : 2 |\n",
      "\n"
     ]
    },
    {
     "name": "stderr",
     "output_type": "stream",
     "text": [
      "\n",
      "\n",
      " 20%|██        | 2/10 [00:25<01:43, 12.94s/it]\u001b[A\u001b[A"
     ]
    },
    {
     "name": "stdout",
     "output_type": "stream",
     "text": [
      "Client 1: accuracy loss: 9.16 | fairness loss 26.49 | Demographic disparity = 0.36\n",
      "Client 2: accuracy loss: 9.22 | fairness loss 52.10 | Demographic disparity = 0.30\n",
      "Client 3: accuracy loss: 8.52 | fairness loss 40.18 | Demographic disparity = 0.26\n",
      " \n",
      "Avg Training Stats after 2 global rounds:\n",
      "Training loss: 181.32 | Validation accuracy: 20.14% | Validation Demographic disparity: 0.2852\n",
      "\n",
      " | Global Training Round : 3 |\n",
      "\n"
     ]
    },
    {
     "name": "stderr",
     "output_type": "stream",
     "text": [
      "\n",
      "\n",
      " 30%|███       | 3/10 [00:44<01:44, 14.95s/it]\u001b[A\u001b[A"
     ]
    },
    {
     "name": "stdout",
     "output_type": "stream",
     "text": [
      "Client 1: accuracy loss: 5.74 | fairness loss 22.51 | Demographic disparity = 0.82\n",
      "Client 2: accuracy loss: 5.61 | fairness loss 35.82 | Demographic disparity = 0.49\n",
      "Client 3: accuracy loss: 5.63 | fairness loss 29.33 | Demographic disparity = 0.50\n",
      " \n",
      "Avg Training Stats after 3 global rounds:\n",
      "Training loss: 151.09 | Validation accuracy: 78.66% | Validation Demographic disparity: 0.5668\n",
      "\n",
      " | Global Training Round : 4 |\n",
      "\n",
      "Client 1: accuracy loss: 4.18 | fairness loss 82.29 | Demographic disparity = 0.78\n"
     ]
    },
    {
     "name": "stderr",
     "output_type": "stream",
     "text": [
      "\n",
      "\n",
      " 40%|████      | 4/10 [01:05<01:40, 16.77s/it]\u001b[A\u001b[A"
     ]
    },
    {
     "name": "stdout",
     "output_type": "stream",
     "text": [
      "Client 2: accuracy loss: 3.86 | fairness loss 111.87 | Demographic disparity = 0.48\n",
      "Client 3: accuracy loss: 4.17 | fairness loss 93.72 | Demographic disparity = 0.49\n",
      " \n",
      "Avg Training Stats after 4 global rounds:\n",
      "Training loss: 128.39 | Validation accuracy: 83.98% | Validation Demographic disparity: 0.5525\n",
      "\n",
      " | Global Training Round : 5 |\n",
      "\n",
      "Client 1: accuracy loss: 3.58 | fairness loss 188.78 | Demographic disparity = 0.74\n"
     ]
    },
    {
     "name": "stderr",
     "output_type": "stream",
     "text": [
      "\n",
      "\n",
      " 50%|█████     | 5/10 [01:25<01:28, 17.68s/it]\u001b[A\u001b[A"
     ]
    },
    {
     "name": "stdout",
     "output_type": "stream",
     "text": [
      "Client 2: accuracy loss: 3.11 | fairness loss 259.28 | Demographic disparity = 0.44\n",
      "Client 3: accuracy loss: 3.53 | fairness loss 215.94 | Demographic disparity = 0.48\n",
      " \n",
      "Avg Training Stats after 5 global rounds:\n",
      "Training loss: 111.99 | Validation accuracy: 84.61% | Validation Demographic disparity: 0.5262\n",
      "\n",
      " | Global Training Round : 6 |\n",
      "\n"
     ]
    },
    {
     "name": "stderr",
     "output_type": "stream",
     "text": [
      "\n",
      "\n",
      " 60%|██████    | 6/10 [01:45<01:13, 18.42s/it]\u001b[A\u001b[A"
     ]
    },
    {
     "name": "stdout",
     "output_type": "stream",
     "text": [
      "Client 1: accuracy loss: 3.35 | fairness loss 288.24 | Demographic disparity = 0.71\n",
      "Client 2: accuracy loss: 2.76 | fairness loss 412.85 | Demographic disparity = 0.42\n",
      "Client 3: accuracy loss: 3.25 | fairness loss 342.29 | Demographic disparity = 0.47\n",
      " \n",
      "Avg Training Stats after 6 global rounds:\n",
      "Training loss: 100.08 | Validation accuracy: 85.62% | Validation Demographic disparity: 0.5096\n",
      "\n",
      " | Global Training Round : 7 |\n",
      "\n"
     ]
    },
    {
     "name": "stderr",
     "output_type": "stream",
     "text": [
      "\n",
      "\n",
      " 70%|███████   | 7/10 [01:57<00:49, 16.41s/it]\u001b[A\u001b[A"
     ]
    },
    {
     "name": "stdout",
     "output_type": "stream",
     "text": [
      "Client 1: accuracy loss: 3.24 | fairness loss 348.43 | Demographic disparity = 0.69\n",
      "Client 2: accuracy loss: 2.51 | fairness loss 526.46 | Demographic disparity = 0.42\n",
      "Client 3: accuracy loss: 3.09 | fairness loss 437.26 | Demographic disparity = 0.46\n",
      " \n",
      "Avg Training Stats after 7 global rounds:\n",
      "Training loss: 91.15 | Validation accuracy: 85.72% | Validation Demographic disparity: 0.4963\n",
      "\n",
      " | Global Training Round : 8 |\n",
      "\n"
     ]
    },
    {
     "name": "stderr",
     "output_type": "stream",
     "text": [
      "\n",
      "\n",
      " 80%|████████  | 8/10 [02:07<00:29, 14.62s/it]\u001b[A\u001b[A"
     ]
    },
    {
     "name": "stdout",
     "output_type": "stream",
     "text": [
      "Client 1: accuracy loss: 3.21 | fairness loss 405.24 | Demographic disparity = 0.64\n",
      "Client 2: accuracy loss: 2.35 | fairness loss 637.36 | Demographic disparity = 0.41\n",
      "Client 3: accuracy loss: 3.00 | fairness loss 530.86 | Demographic disparity = 0.44\n",
      " \n",
      "Avg Training Stats after 8 global rounds:\n",
      "Training loss: 84.26 | Validation accuracy: 85.85% | Validation Demographic disparity: 0.4788\n",
      "\n",
      " | Global Training Round : 9 |\n",
      "\n",
      "Client 1: accuracy loss: 3.22 | fairness loss 451.36 | Demographic disparity = 0.62\n",
      "Client 2: accuracy loss: 2.27 | fairness loss 727.04 | Demographic disparity = 0.41\n"
     ]
    },
    {
     "name": "stderr",
     "output_type": "stream",
     "text": [
      "\n",
      "\n",
      " 90%|█████████ | 9/10 [02:23<00:15, 15.07s/it]\u001b[A\u001b[A"
     ]
    },
    {
     "name": "stdout",
     "output_type": "stream",
     "text": [
      "Client 3: accuracy loss: 2.97 | fairness loss 606.49 | Demographic disparity = 0.43\n",
      " \n",
      "Avg Training Stats after 9 global rounds:\n",
      "Training loss: 78.82 | Validation accuracy: 85.46% | Validation Demographic disparity: 0.4688\n",
      "\n",
      " | Global Training Round : 10 |\n",
      "\n"
     ]
    },
    {
     "name": "stderr",
     "output_type": "stream",
     "text": [
      "\n",
      "\n",
      "100%|██████████| 10/10 [02:46<00:00, 16.64s/it]\u001b[A\u001b[A"
     ]
    },
    {
     "name": "stdout",
     "output_type": "stream",
     "text": [
      "Client 1: accuracy loss: 3.23 | fairness loss 476.98 | Demographic disparity = 0.61\n",
      "Client 2: accuracy loss: 2.23 | fairness loss 777.21 | Demographic disparity = 0.41\n",
      "Client 3: accuracy loss: 2.96 | fairness loss 648.31 | Demographic disparity = 0.43\n",
      " \n",
      "Avg Training Stats after 10 global rounds:\n",
      "Training loss: 74.45 | Validation accuracy: 85.17% | Validation Demographic disparity: 0.4655\n",
      " \n",
      " Results after 10 global rounds of training:\n",
      "|---- Avg Train Accuracy: 85.17%\n",
      "|---- Test Accuracy: 86.67%\n",
      "|---- Test Demographic disparity: 0.4285\n",
      "\n",
      " Total Run Time: 166.4472 sec\n"
     ]
    },
    {
     "name": "stderr",
     "output_type": "stream",
     "text": [
      "\n"
     ]
    }
   ],
   "source": [
    "seed = 860\n",
    "synthetic_info = dataGenerate(seed = 745, test_samples = 300)\n",
    "server = Server(logReg(num_features=3, num_classes=2, seed = seed), synthetic_info, train_prn = False, metric = \"Demographic disparity\", seed = seed)\n",
    "server.Unconstrained(num_rounds = 10, local_epochs = 30, optimizer = 'adam', learning_rate = 0.0004)"
   ]
  },
  {
   "cell_type": "code",
   "execution_count": 4,
   "metadata": {
    "scrolled": true
   },
   "outputs": [
    {
     "name": "stderr",
     "output_type": "stream",
     "text": [
      "\r",
      "  0%|          | 0/1 [00:00<?, ?it/s]"
     ]
    },
    {
     "name": "stdout",
     "output_type": "stream",
     "text": [
      "\n",
      " | Global Training Round : 1 |\n",
      "\n"
     ]
    },
    {
     "name": "stderr",
     "output_type": "stream",
     "text": [
      "100%|██████████| 1/1 [00:02<00:00,  2.45s/it]\n",
      "  0%|          | 0/9 [00:00<?, ?it/s]"
     ]
    },
    {
     "name": "stdout",
     "output_type": "stream",
     "text": [
      "Client 1: accuracy loss: 2.67 | fairness loss 446.22 | Demographic disparity = 0.47\n",
      "Client 2: accuracy loss: 3.49 | fairness loss 522.31 | Demographic disparity = 0.32\n",
      "Client 3: accuracy loss: 2.43 | fairness loss 531.58 | Demographic disparity = 0.47\n",
      " \n",
      "Avg Training Stats after 1 global rounds:\n",
      "Training loss: 53.65 | Validation accuracy: 86.28% | Validation Demographic disparity: 0.3835\n",
      " \n",
      " Results after 1 global rounds of training:\n",
      "|---- Avg Train Accuracy: 86.28%\n",
      "|---- Test Accuracy: 82.00%\n",
      "|---- Test Demographic disparity: 0.3805\n",
      "\n",
      " Total Run Time: 2.4680 sec\n",
      "\n",
      " | Global Training Round : 1 |\n",
      "\n"
     ]
    },
    {
     "name": "stderr",
     "output_type": "stream",
     "text": [
      "\r",
      " 11%|█         | 1/9 [00:03<00:28,  3.53s/it]"
     ]
    },
    {
     "name": "stdout",
     "output_type": "stream",
     "text": [
      "Client 1: predictor loss: 5.07 | adversary loss 0.46 | Demographic disparity = 0.32\n",
      "Client 2: predictor loss: 5.66 | adversary loss 0.68 | Demographic disparity = 0.09\n",
      "Client 3: predictor loss: 4.58 | adversary loss 0.76 | Demographic disparity = 0.07\n",
      " \n",
      "Avg Training Stats after 1 global rounds:\n",
      "Training loss: 41.48 | Validation accuracy: 69.18% | Validation Demographic disparity: 0.1421\n",
      "\n",
      " | Global Training Round : 2 |\n",
      "\n"
     ]
    },
    {
     "name": "stderr",
     "output_type": "stream",
     "text": [
      "\r",
      " 22%|██▏       | 2/9 [00:07<00:25,  3.64s/it]"
     ]
    },
    {
     "name": "stdout",
     "output_type": "stream",
     "text": [
      "Client 1: predictor loss: 5.88 | adversary loss 0.67 | Demographic disparity = 0.15\n",
      "Client 2: predictor loss: 6.47 | adversary loss 0.69 | Demographic disparity = 0.02\n",
      "Client 3: predictor loss: 5.37 | adversary loss 0.62 | Demographic disparity = 0.05\n",
      " \n",
      "Avg Training Stats after 2 global rounds:\n",
      "Training loss: 53.62 | Validation accuracy: 62.85% | Validation Demographic disparity: 0.0398\n",
      "\n",
      " | Global Training Round : 3 |\n",
      "\n"
     ]
    },
    {
     "name": "stderr",
     "output_type": "stream",
     "text": [
      "\r",
      " 33%|███▎      | 3/9 [00:10<00:21,  3.53s/it]"
     ]
    },
    {
     "name": "stdout",
     "output_type": "stream",
     "text": [
      "Client 1: predictor loss: 6.70 | adversary loss 0.78 | Demographic disparity = 0.06\n",
      "Client 2: predictor loss: 7.23 | adversary loss 0.76 | Demographic disparity = 0.02\n",
      "Client 3: predictor loss: 6.10 | adversary loss 0.69 | Demographic disparity = 0.11\n",
      " \n",
      "Avg Training Stats after 3 global rounds:\n",
      "Training loss: 62.83 | Validation accuracy: 58.57% | Validation Demographic disparity: 0.0020\n",
      "\n",
      " | Global Training Round : 4 |\n",
      "\n"
     ]
    },
    {
     "name": "stderr",
     "output_type": "stream",
     "text": [
      "\r",
      " 44%|████▍     | 4/9 [00:13<00:17,  3.40s/it]"
     ]
    },
    {
     "name": "stdout",
     "output_type": "stream",
     "text": [
      "Client 1: predictor loss: 7.84 | adversary loss 0.76 | Demographic disparity = 0.10\n",
      "Client 2: predictor loss: 8.23 | adversary loss 0.74 | Demographic disparity = 0.05\n",
      "Client 3: predictor loss: 7.05 | adversary loss 0.72 | Demographic disparity = 0.20\n",
      " \n",
      "Avg Training Stats after 4 global rounds:\n",
      "Training loss: 70.98 | Validation accuracy: 52.35% | Validation Demographic disparity: 0.0924\n",
      "\n",
      " | Global Training Round : 5 |\n",
      "\n"
     ]
    },
    {
     "name": "stderr",
     "output_type": "stream",
     "text": [
      "\r",
      " 56%|█████▌    | 5/9 [00:16<00:13,  3.30s/it]"
     ]
    },
    {
     "name": "stdout",
     "output_type": "stream",
     "text": [
      "Client 1: predictor loss: 2.99 | adversary loss 0.58 | Demographic disparity = 0.46\n",
      "Client 2: predictor loss: 3.80 | adversary loss 0.60 | Demographic disparity = 0.26\n",
      "Client 3: predictor loss: 2.62 | adversary loss 0.56 | Demographic disparity = 0.39\n",
      " \n",
      "Avg Training Stats after 5 global rounds:\n",
      "Training loss: 75.47 | Validation accuracy: 84.47% | Validation Demographic disparity: 0.3261\n",
      "\n",
      " | Global Training Round : 6 |\n",
      "\n"
     ]
    },
    {
     "name": "stderr",
     "output_type": "stream",
     "text": [
      "\r",
      " 67%|██████▋   | 6/9 [00:20<00:09,  3.25s/it]"
     ]
    },
    {
     "name": "stdout",
     "output_type": "stream",
     "text": [
      "Client 1: predictor loss: 3.65 | adversary loss 0.56 | Demographic disparity = 0.33\n",
      "Client 2: predictor loss: 4.75 | adversary loss 0.67 | Demographic disparity = 0.18\n",
      "Client 3: predictor loss: 3.31 | adversary loss 0.60 | Demographic disparity = 0.23\n",
      " \n",
      "Avg Training Stats after 6 global rounds:\n",
      "Training loss: 70.26 | Validation accuracy: 78.20% | Validation Demographic disparity: 0.2316\n",
      "\n",
      " | Global Training Round : 7 |\n",
      "\n"
     ]
    },
    {
     "name": "stderr",
     "output_type": "stream",
     "text": [
      "\r",
      " 78%|███████▊  | 7/9 [00:23<00:06,  3.29s/it]"
     ]
    },
    {
     "name": "stdout",
     "output_type": "stream",
     "text": [
      "Client 1: predictor loss: 4.22 | adversary loss 0.61 | Demographic disparity = 0.28\n",
      "Client 2: predictor loss: 5.52 | adversary loss 0.69 | Demographic disparity = 0.12\n",
      "Client 3: predictor loss: 3.95 | adversary loss 0.64 | Demographic disparity = 0.17\n",
      " \n",
      "Avg Training Stats after 7 global rounds:\n",
      "Training loss: 67.84 | Validation accuracy: 74.72% | Validation Demographic disparity: 0.1823\n",
      "\n",
      " | Global Training Round : 8 |\n",
      "\n"
     ]
    },
    {
     "name": "stderr",
     "output_type": "stream",
     "text": [
      "\r",
      " 89%|████████▉ | 8/9 [00:26<00:03,  3.33s/it]"
     ]
    },
    {
     "name": "stdout",
     "output_type": "stream",
     "text": [
      "Client 1: predictor loss: 4.71 | adversary loss 0.63 | Demographic disparity = 0.25\n",
      "Client 2: predictor loss: 6.03 | adversary loss 0.70 | Demographic disparity = 0.10\n",
      "Client 3: predictor loss: 4.49 | adversary loss 0.66 | Demographic disparity = 0.09\n",
      " \n",
      "Avg Training Stats after 8 global rounds:\n",
      "Training loss: 66.86 | Validation accuracy: 70.84% | Validation Demographic disparity: 0.1394\n",
      "\n",
      " | Global Training Round : 9 |\n",
      "\n"
     ]
    },
    {
     "name": "stderr",
     "output_type": "stream",
     "text": [
      "100%|██████████| 9/9 [00:29<00:00,  3.32s/it]"
     ]
    },
    {
     "name": "stdout",
     "output_type": "stream",
     "text": [
      "Client 1: predictor loss: 4.97 | adversary loss 0.64 | Demographic disparity = 0.25\n",
      "Client 2: predictor loss: 6.32 | adversary loss 0.70 | Demographic disparity = 0.09\n",
      "Client 3: predictor loss: 4.78 | adversary loss 0.67 | Demographic disparity = 0.06\n",
      " \n",
      "Avg Training Stats after 9 global rounds:\n",
      "Training loss: 66.63 | Validation accuracy: 70.12% | Validation Demographic disparity: 0.1317\n",
      " \n",
      " Results after 9 global rounds of training:\n",
      "|---- Avg Train Accuracy: 70.12%\n",
      "|---- Test Accuracy: 71.00%\n",
      "|---- Test Demographic disparity: 0.1110\n",
      "\n",
      " Total Run Time: 29.8830 sec\n"
     ]
    },
    {
     "name": "stderr",
     "output_type": "stream",
     "text": [
      "\n"
     ]
    }
   ],
   "source": [
    "seed = 860\n",
    "synthetic_info = dataGenerate(seed = seed, test_samples = 100)\n",
    "server = Server(logReg(num_features=3, num_classes=2, seed = seed), synthetic_info, train_prn = False, metric = \"Demographic disparity\", seed = seed)\n",
    "server.Unconstrained(num_rounds = 1, local_epochs = 30, optimizer = 'adam', learning_rate = 0.01)\n",
    "server.AdversarialLearning(num_rounds = 9, local_epochs = 30, optimizer = 'adam', epsilon = None, learning_rate = 0.005, alpha = 0.5, adaptive_lr = True)"
   ]
  },
  {
   "cell_type": "code",
   "execution_count": 5,
   "metadata": {
    "scrolled": true
   },
   "outputs": [
    {
     "name": "stderr",
     "output_type": "stream",
     "text": [
      "\r",
      "  0%|          | 0/10 [00:00<?, ?it/s]"
     ]
    },
    {
     "name": "stdout",
     "output_type": "stream",
     "text": [
      "\n",
      " | Global Training Round : 1 |\n",
      "\n"
     ]
    },
    {
     "name": "stderr",
     "output_type": "stream",
     "text": [
      "\r",
      " 10%|█         | 1/10 [00:03<00:35,  3.96s/it]"
     ]
    },
    {
     "name": "stdout",
     "output_type": "stream",
     "text": [
      "Client 1: accuracy loss: 3.26 | fairness loss 167.64 | Demographic disparity = 0.48\n",
      "Client 2: accuracy loss: 3.62 | fairness loss 248.47 | Demographic disparity = 0.33\n",
      "Client 3: accuracy loss: 2.55 | fairness loss 334.10 | Demographic disparity = 0.39\n",
      " \n",
      "Avg Training Stats after 1 global rounds:\n",
      "Training loss: 0.40 | Validation accuracy: 87.94% | Validation Demographic disparity: 0.3690\n",
      "\n",
      " | Global Training Round : 2 |\n",
      "\n"
     ]
    },
    {
     "name": "stderr",
     "output_type": "stream",
     "text": [
      "\r",
      " 20%|██        | 2/10 [00:07<00:31,  3.90s/it]"
     ]
    },
    {
     "name": "stdout",
     "output_type": "stream",
     "text": [
      "Client 1: accuracy loss: 3.26 | fairness loss 125.20 | Demographic disparity = 0.37\n",
      "Client 2: accuracy loss: 3.56 | fairness loss 193.73 | Demographic disparity = 0.33\n",
      "Client 3: accuracy loss: 2.46 | fairness loss 261.38 | Demographic disparity = 0.33\n",
      " \n",
      "Avg Training Stats after 2 global rounds:\n",
      "Training loss: 0.38 | Validation accuracy: 88.43% | Validation Demographic disparity: 0.3317\n",
      "\n",
      " | Global Training Round : 3 |\n",
      "\n"
     ]
    },
    {
     "name": "stderr",
     "output_type": "stream",
     "text": [
      "\r",
      " 30%|███       | 3/10 [00:11<00:27,  3.99s/it]"
     ]
    },
    {
     "name": "stdout",
     "output_type": "stream",
     "text": [
      "Client 1: accuracy loss: 3.66 | fairness loss 78.69 | Demographic disparity = 0.35\n",
      "Client 2: accuracy loss: 3.76 | fairness loss 126.82 | Demographic disparity = 0.24\n",
      "Client 3: accuracy loss: 2.72 | fairness loss 170.36 | Demographic disparity = 0.31\n",
      " \n",
      "Avg Training Stats after 3 global rounds:\n",
      "Training loss: 0.39 | Validation accuracy: 87.03% | Validation Demographic disparity: 0.2724\n",
      "\n",
      " | Global Training Round : 4 |\n",
      "\n"
     ]
    },
    {
     "name": "stderr",
     "output_type": "stream",
     "text": [
      "\r",
      " 40%|████      | 4/10 [00:15<00:22,  3.73s/it]"
     ]
    },
    {
     "name": "stdout",
     "output_type": "stream",
     "text": [
      "Client 1: accuracy loss: 4.05 | fairness loss 56.74 | Demographic disparity = 0.23\n",
      "Client 2: accuracy loss: 4.01 | fairness loss 94.47 | Demographic disparity = 0.17\n",
      "Client 3: accuracy loss: 2.99 | fairness loss 124.80 | Demographic disparity = 0.24\n",
      " \n",
      "Avg Training Stats after 4 global rounds:\n",
      "Training loss: 0.39 | Validation accuracy: 82.74% | Validation Demographic disparity: 0.2032\n",
      "\n",
      " | Global Training Round : 5 |\n",
      "\n"
     ]
    },
    {
     "name": "stderr",
     "output_type": "stream",
     "text": [
      "\r",
      " 50%|█████     | 5/10 [00:17<00:17,  3.44s/it]"
     ]
    },
    {
     "name": "stdout",
     "output_type": "stream",
     "text": [
      "Client 1: accuracy loss: 4.38 | fairness loss 46.83 | Demographic disparity = 0.19\n",
      "Client 2: accuracy loss: 4.23 | fairness loss 79.16 | Demographic disparity = 0.15\n",
      "Client 3: accuracy loss: 3.23 | fairness loss 102.03 | Demographic disparity = 0.21\n",
      " \n",
      "Avg Training Stats after 5 global rounds:\n",
      "Training loss: 0.39 | Validation accuracy: 81.51% | Validation Demographic disparity: 0.1711\n",
      "\n",
      " | Global Training Round : 6 |\n",
      "\n"
     ]
    },
    {
     "name": "stderr",
     "output_type": "stream",
     "text": [
      "\r",
      " 60%|██████    | 6/10 [00:20<00:13,  3.26s/it]"
     ]
    },
    {
     "name": "stdout",
     "output_type": "stream",
     "text": [
      "Client 1: accuracy loss: 4.64 | fairness loss 42.44 | Demographic disparity = 0.07\n",
      "Client 2: accuracy loss: 4.42 | fairness loss 71.84 | Demographic disparity = 0.09\n",
      "Client 3: accuracy loss: 3.42 | fairness loss 90.31 | Demographic disparity = 0.18\n",
      " \n",
      "Avg Training Stats after 6 global rounds:\n",
      "Training loss: 0.39 | Validation accuracy: 79.85% | Validation Demographic disparity: 0.1103\n",
      "\n",
      " | Global Training Round : 7 |\n",
      "\n"
     ]
    },
    {
     "name": "stderr",
     "output_type": "stream",
     "text": [
      "\r",
      " 70%|███████   | 7/10 [00:23<00:09,  3.16s/it]"
     ]
    },
    {
     "name": "stdout",
     "output_type": "stream",
     "text": [
      "Client 1: accuracy loss: 4.84 | fairness loss 40.53 | Demographic disparity = 0.07\n",
      "Client 2: accuracy loss: 4.56 | fairness loss 68.25 | Demographic disparity = 0.07\n",
      "Client 3: accuracy loss: 3.57 | fairness loss 84.01 | Demographic disparity = 0.16\n",
      " \n",
      "Avg Training Stats after 7 global rounds:\n",
      "Training loss: 0.39 | Validation accuracy: 77.60% | Validation Demographic disparity: 0.0713\n",
      "\n",
      " | Global Training Round : 8 |\n",
      "\n"
     ]
    },
    {
     "name": "stderr",
     "output_type": "stream",
     "text": [
      "\r",
      " 80%|████████  | 8/10 [00:26<00:06,  3.17s/it]"
     ]
    },
    {
     "name": "stdout",
     "output_type": "stream",
     "text": [
      "Client 1: accuracy loss: 4.99 | fairness loss 39.73 | Demographic disparity = 0.07\n",
      "Client 2: accuracy loss: 4.67 | fairness loss 66.42 | Demographic disparity = 0.07\n",
      "Client 3: accuracy loss: 3.67 | fairness loss 80.43 | Demographic disparity = 0.12\n",
      " \n",
      "Avg Training Stats after 8 global rounds:\n",
      "Training loss: 0.38 | Validation accuracy: 76.43% | Validation Demographic disparity: 0.0558\n",
      "\n",
      " | Global Training Round : 9 |\n",
      "\n"
     ]
    },
    {
     "name": "stderr",
     "output_type": "stream",
     "text": [
      "\r",
      " 90%|█████████ | 9/10 [00:29<00:03,  3.06s/it]"
     ]
    },
    {
     "name": "stdout",
     "output_type": "stream",
     "text": [
      "Client 1: accuracy loss: 5.09 | fairness loss 39.41 | Demographic disparity = 0.08\n",
      "Client 2: accuracy loss: 4.75 | fairness loss 65.45 | Demographic disparity = 0.07\n",
      "Client 3: accuracy loss: 3.75 | fairness loss 78.30 | Demographic disparity = 0.12\n",
      " \n",
      "Avg Training Stats after 9 global rounds:\n",
      "Training loss: 0.38 | Validation accuracy: 76.13% | Validation Demographic disparity: 0.0525\n",
      "\n",
      " | Global Training Round : 10 |\n",
      "\n"
     ]
    },
    {
     "name": "stderr",
     "output_type": "stream",
     "text": [
      "100%|██████████| 10/10 [00:32<00:00,  3.22s/it]"
     ]
    },
    {
     "name": "stdout",
     "output_type": "stream",
     "text": [
      "Client 1: accuracy loss: 5.17 | fairness loss 39.30 | Demographic disparity = 0.13\n",
      "Client 2: accuracy loss: 4.81 | fairness loss 64.91 | Demographic disparity = 0.04\n",
      "Client 3: accuracy loss: 3.81 | fairness loss 76.97 | Demographic disparity = 0.12\n",
      " \n",
      "Avg Training Stats after 10 global rounds:\n",
      "Training loss: 0.38 | Validation accuracy: 74.58% | Validation Demographic disparity: 0.0285\n",
      " \n",
      " Results after 10 global rounds of training:\n",
      "|---- Avg Train Accuracy: 74.58%\n",
      "|---- Test Accuracy: 67.00%\n",
      "|---- Test Demographic disparity: 0.0746\n",
      "\n",
      " Total Run Time: 32.2221 sec\n"
     ]
    },
    {
     "name": "stderr",
     "output_type": "stream",
     "text": [
      "\n"
     ]
    }
   ],
   "source": [
    "seed = 355\n",
    "synthetic_info = dataGenerate(seed = seed, test_samples = 100)\n",
    "server = Server(logReg(num_features=3, num_classes=2, seed = seed), synthetic_info, train_prn = False, metric = \"Demographic disparity\", seed = seed)\n",
    "server.BiasCorrecting(num_rounds = 10, local_epochs = 30, optimizer = 'adam', epsilon = None, learning_rate = 0.005, alpha = 5)\n",
    "\n",
    "\n"
   ]
  },
  {
   "cell_type": "code",
   "execution_count": null,
   "metadata": {},
   "outputs": [],
   "source": []
  }
 ],
 "metadata": {
  "kernelspec": {
   "display_name": "Python 3",
   "language": "python",
   "name": "python3"
  },
  "language_info": {
   "codemirror_mode": {
    "name": "ipython",
    "version": 3
   },
   "file_extension": ".py",
   "mimetype": "text/x-python",
   "name": "python",
   "nbconvert_exporter": "python",
   "pygments_lexer": "ipython3",
   "version": "3.7.4"
  }
 },
 "nbformat": 4,
 "nbformat_minor": 2
}
