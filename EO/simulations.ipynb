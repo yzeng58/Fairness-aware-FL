{
 "cells": [
  {
   "cell_type": "code",
   "execution_count": 1,
   "metadata": {},
   "outputs": [],
   "source": [
    "from sims import *"
   ]
  },
  {
   "cell_type": "code",
   "execution_count": 5,
   "metadata": {
    "scrolled": true
   },
   "outputs": [
    {
     "name": "stdout",
     "output_type": "stream",
     "text": [
      "|  Simulation : 1 | \n",
      "      seed : 269 -----\n"
     ]
    },
    {
     "name": "stderr",
     "output_type": "stream",
     "text": [
      "100%|██████████| 10/10 [00:21<00:00,  2.19s/it]\n"
     ]
    },
    {
     "name": "stdout",
     "output_type": "stream",
     "text": [
      "      Accuracy: 80.00%  Equal Opportunity Disparity: 0.05\n",
      "|  Simulation : 2 | \n",
      "      seed : 293 -----\n"
     ]
    },
    {
     "name": "stderr",
     "output_type": "stream",
     "text": [
      "100%|██████████| 10/10 [00:22<00:00,  2.27s/it]\n"
     ]
    },
    {
     "name": "stdout",
     "output_type": "stream",
     "text": [
      "      Accuracy: 85.00%  Equal Opportunity Disparity: 0.10\n",
      "|  Simulation : 3 | \n",
      "      seed : 317 -----\n"
     ]
    },
    {
     "name": "stderr",
     "output_type": "stream",
     "text": [
      "100%|██████████| 10/10 [00:23<00:00,  2.31s/it]\n"
     ]
    },
    {
     "name": "stdout",
     "output_type": "stream",
     "text": [
      "      Accuracy: 83.00%  Equal Opportunity Disparity: 0.05\n",
      "|  Simulation : 4 | \n",
      "      seed : 341 -----\n"
     ]
    },
    {
     "name": "stderr",
     "output_type": "stream",
     "text": [
      "100%|██████████| 10/10 [00:27<00:00,  2.73s/it]\n"
     ]
    },
    {
     "name": "stdout",
     "output_type": "stream",
     "text": [
      "      Accuracy: 86.00%  Equal Opportunity Disparity: 0.01\n",
      "|  Simulation : 5 | \n",
      "      seed : 370 -----\n"
     ]
    },
    {
     "name": "stderr",
     "output_type": "stream",
     "text": [
      "100%|██████████| 10/10 [00:26<00:00,  2.66s/it]\n"
     ]
    },
    {
     "name": "stdout",
     "output_type": "stream",
     "text": [
      "      Accuracy: 85.00%  Equal Opportunity Disparity: 0.02\n",
      "|  Simulation : 6 | \n",
      "      seed : 399 -----\n"
     ]
    },
    {
     "name": "stderr",
     "output_type": "stream",
     "text": [
      "100%|██████████| 10/10 [00:24<00:00,  2.46s/it]\n"
     ]
    },
    {
     "name": "stdout",
     "output_type": "stream",
     "text": [
      "      Accuracy: 84.00%  Equal Opportunity Disparity: 0.15\n",
      "|  Simulation : 7 | \n",
      "      seed : 425 -----\n"
     ]
    },
    {
     "name": "stderr",
     "output_type": "stream",
     "text": [
      "100%|██████████| 10/10 [00:32<00:00,  3.29s/it]\n"
     ]
    },
    {
     "name": "stdout",
     "output_type": "stream",
     "text": [
      "      Accuracy: 84.00%  Equal Opportunity Disparity: 0.06\n",
      "|  Simulation : 8 | \n",
      "      seed : 460 -----\n"
     ]
    },
    {
     "name": "stderr",
     "output_type": "stream",
     "text": [
      "100%|██████████| 10/10 [00:26<00:00,  2.69s/it]\n"
     ]
    },
    {
     "name": "stdout",
     "output_type": "stream",
     "text": [
      "      Accuracy: 85.00%  Equal Opportunity Disparity: 0.03\n",
      "|  Simulation : 9 | \n",
      "      seed : 489 -----\n"
     ]
    },
    {
     "name": "stderr",
     "output_type": "stream",
     "text": [
      "100%|██████████| 10/10 [00:28<00:00,  2.82s/it]\n"
     ]
    },
    {
     "name": "stdout",
     "output_type": "stream",
     "text": [
      "      Accuracy: 80.00%  Equal Opportunity Disparity: 0.12\n",
      "|  Simulation : 10 | \n",
      "      seed : 519 -----\n"
     ]
    },
    {
     "name": "stderr",
     "output_type": "stream",
     "text": [
      "100%|██████████| 10/10 [00:28<00:00,  2.82s/it]\n"
     ]
    },
    {
     "name": "stdout",
     "output_type": "stream",
     "text": [
      "      Accuracy: 79.00%  Equal Opportunity Disparity: 0.00\n",
      "|  Simulation : 11 | \n",
      "      seed : 548 -----\n"
     ]
    },
    {
     "name": "stderr",
     "output_type": "stream",
     "text": [
      "100%|██████████| 10/10 [00:28<00:00,  2.82s/it]\n"
     ]
    },
    {
     "name": "stdout",
     "output_type": "stream",
     "text": [
      "      Accuracy: 78.00%  Equal Opportunity Disparity: 0.19\n",
      "|  Simulation : 12 | \n",
      "      seed : 578 -----\n"
     ]
    },
    {
     "name": "stderr",
     "output_type": "stream",
     "text": [
      "100%|██████████| 10/10 [00:28<00:00,  2.85s/it]\n"
     ]
    },
    {
     "name": "stdout",
     "output_type": "stream",
     "text": [
      "      Accuracy: 94.00%  Equal Opportunity Disparity: 0.07\n",
      "|  Simulation : 13 | \n",
      "      seed : 609 -----\n"
     ]
    },
    {
     "name": "stderr",
     "output_type": "stream",
     "text": [
      "100%|██████████| 10/10 [00:29<00:00,  2.98s/it]\n"
     ]
    },
    {
     "name": "stdout",
     "output_type": "stream",
     "text": [
      "      Accuracy: 87.00%  Equal Opportunity Disparity: 0.05\n",
      "|  Simulation : 14 | \n",
      "      seed : 641 -----\n"
     ]
    },
    {
     "name": "stderr",
     "output_type": "stream",
     "text": [
      "100%|██████████| 10/10 [00:30<00:00,  3.06s/it]\n"
     ]
    },
    {
     "name": "stdout",
     "output_type": "stream",
     "text": [
      "      Accuracy: 82.00%  Equal Opportunity Disparity: 0.27\n",
      "|  Simulation : 15 | \n",
      "      seed : 673 -----\n"
     ]
    },
    {
     "name": "stderr",
     "output_type": "stream",
     "text": [
      "100%|██████████| 10/10 [00:30<00:00,  3.02s/it]\n"
     ]
    },
    {
     "name": "stdout",
     "output_type": "stream",
     "text": [
      "      Accuracy: 86.00%  Equal Opportunity Disparity: 0.12\n",
      "|  Simulation : 16 | \n",
      "      seed : 706 -----\n"
     ]
    },
    {
     "name": "stderr",
     "output_type": "stream",
     "text": [
      "100%|██████████| 10/10 [00:41<00:00,  4.15s/it]\n"
     ]
    },
    {
     "name": "stdout",
     "output_type": "stream",
     "text": [
      "      Accuracy: 85.00%  Equal Opportunity Disparity: 0.00\n",
      "|  Simulation : 17 | \n",
      "      seed : 749 -----\n"
     ]
    },
    {
     "name": "stderr",
     "output_type": "stream",
     "text": [
      "100%|██████████| 10/10 [00:42<00:00,  4.22s/it]\n"
     ]
    },
    {
     "name": "stdout",
     "output_type": "stream",
     "text": [
      "      Accuracy: 81.00%  Equal Opportunity Disparity: 0.01\n",
      "|  Simulation : 18 | \n",
      "      seed : 795 -----\n"
     ]
    },
    {
     "name": "stderr",
     "output_type": "stream",
     "text": [
      "100%|██████████| 10/10 [00:37<00:00,  3.77s/it]\n"
     ]
    },
    {
     "name": "stdout",
     "output_type": "stream",
     "text": [
      "      Accuracy: 78.00%  Equal Opportunity Disparity: 0.00\n",
      "|  Simulation : 19 | \n",
      "      seed : 835 -----\n"
     ]
    },
    {
     "name": "stderr",
     "output_type": "stream",
     "text": [
      "100%|██████████| 10/10 [00:33<00:00,  3.32s/it]\n"
     ]
    },
    {
     "name": "stdout",
     "output_type": "stream",
     "text": [
      "      Accuracy: 82.00%  Equal Opportunity Disparity: 0.11\n",
      "|  Simulation : 20 | \n",
      "      seed : 871 -----\n"
     ]
    },
    {
     "name": "stderr",
     "output_type": "stream",
     "text": [
      "100%|██████████| 10/10 [00:33<00:00,  3.36s/it]\n"
     ]
    },
    {
     "name": "stdout",
     "output_type": "stream",
     "text": [
      "      Accuracy: 83.00%  Equal Opportunity Disparity: 0.07\n",
      "|  Simulation : 21 | \n",
      "      seed : 906 -----\n"
     ]
    },
    {
     "name": "stderr",
     "output_type": "stream",
     "text": [
      "100%|██████████| 10/10 [00:38<00:00,  3.83s/it]\n"
     ]
    },
    {
     "name": "stdout",
     "output_type": "stream",
     "text": [
      "      Accuracy: 86.00%  Equal Opportunity Disparity: 0.00\n",
      "|  Simulation : 22 | \n",
      "      seed : 947 -----\n"
     ]
    },
    {
     "name": "stderr",
     "output_type": "stream",
     "text": [
      "100%|██████████| 10/10 [00:34<00:00,  3.48s/it]\n"
     ]
    },
    {
     "name": "stdout",
     "output_type": "stream",
     "text": [
      "      Accuracy: 86.00%  Equal Opportunity Disparity: 0.01\n",
      "|  Simulation : 23 | \n",
      "      seed : 984 -----\n"
     ]
    },
    {
     "name": "stderr",
     "output_type": "stream",
     "text": [
      "100%|██████████| 10/10 [00:32<00:00,  3.27s/it]\n"
     ]
    },
    {
     "name": "stdout",
     "output_type": "stream",
     "text": [
      "      Accuracy: 87.00%  Equal Opportunity Disparity: 0.08\n",
      "|  Simulation : 24 | \n",
      "      seed : 20 -----\n"
     ]
    },
    {
     "name": "stderr",
     "output_type": "stream",
     "text": [
      "100%|██████████| 10/10 [00:36<00:00,  3.68s/it]\n"
     ]
    },
    {
     "name": "stdout",
     "output_type": "stream",
     "text": [
      "      Accuracy: 86.00%  Equal Opportunity Disparity: 0.01\n",
      "|  Simulation : 25 | \n",
      "      seed : 59 -----\n"
     ]
    },
    {
     "name": "stderr",
     "output_type": "stream",
     "text": [
      "100%|██████████| 10/10 [00:34<00:00,  3.49s/it]\n"
     ]
    },
    {
     "name": "stdout",
     "output_type": "stream",
     "text": [
      "      Accuracy: 71.00%  Equal Opportunity Disparity: 0.03\n",
      "|  Simulation : 26 | \n",
      "      seed : 96 -----\n"
     ]
    },
    {
     "name": "stderr",
     "output_type": "stream",
     "text": [
      "100%|██████████| 10/10 [00:30<00:00,  3.02s/it]\n"
     ]
    },
    {
     "name": "stdout",
     "output_type": "stream",
     "text": [
      "      Accuracy: 79.00%  Equal Opportunity Disparity: 0.21\n",
      "|  Simulation : 27 | \n",
      "      seed : 128 -----\n"
     ]
    },
    {
     "name": "stderr",
     "output_type": "stream",
     "text": [
      "100%|██████████| 10/10 [00:34<00:00,  3.50s/it]\n"
     ]
    },
    {
     "name": "stdout",
     "output_type": "stream",
     "text": [
      "      Accuracy: 80.00%  Equal Opportunity Disparity: 0.04\n",
      "|  Simulation : 28 | \n",
      "      seed : 165 -----\n"
     ]
    },
    {
     "name": "stderr",
     "output_type": "stream",
     "text": [
      "100%|██████████| 10/10 [00:35<00:00,  3.55s/it]\n"
     ]
    },
    {
     "name": "stdout",
     "output_type": "stream",
     "text": [
      "      Accuracy: 83.00%  Equal Opportunity Disparity: 0.00\n",
      "|  Simulation : 29 | \n",
      "      seed : 203 -----\n"
     ]
    },
    {
     "name": "stderr",
     "output_type": "stream",
     "text": [
      "100%|██████████| 10/10 [00:31<00:00,  3.11s/it]\n"
     ]
    },
    {
     "name": "stdout",
     "output_type": "stream",
     "text": [
      "      Accuracy: 83.00%  Equal Opportunity Disparity: 0.17\n",
      "|  Simulation : 30 | \n",
      "      seed : 237 -----\n"
     ]
    },
    {
     "name": "stderr",
     "output_type": "stream",
     "text": [
      "100%|██████████| 10/10 [00:32<00:00,  3.24s/it]\n"
     ]
    },
    {
     "name": "stdout",
     "output_type": "stream",
     "text": [
      "      Accuracy: 81.00%  Equal Opportunity Disparity: 0.09\n",
      "|  Simulation : 31 | \n",
      "      seed : 271 -----\n"
     ]
    },
    {
     "name": "stderr",
     "output_type": "stream",
     "text": [
      "100%|██████████| 10/10 [00:33<00:00,  3.36s/it]\n"
     ]
    },
    {
     "name": "stdout",
     "output_type": "stream",
     "text": [
      "      Accuracy: 83.00%  Equal Opportunity Disparity: 0.09\n",
      "|  Simulation : 32 | \n",
      "      seed : 306 -----\n"
     ]
    },
    {
     "name": "stderr",
     "output_type": "stream",
     "text": [
      "100%|██████████| 10/10 [00:32<00:00,  3.20s/it]\n"
     ]
    },
    {
     "name": "stdout",
     "output_type": "stream",
     "text": [
      "      Accuracy: 88.00%  Equal Opportunity Disparity: 0.05\n",
      "|  Simulation : 33 | \n",
      "      seed : 341 -----\n"
     ]
    },
    {
     "name": "stderr",
     "output_type": "stream",
     "text": [
      "100%|██████████| 10/10 [00:31<00:00,  3.12s/it]\n"
     ]
    },
    {
     "name": "stdout",
     "output_type": "stream",
     "text": [
      "      Accuracy: 86.00%  Equal Opportunity Disparity: 0.01\n",
      "|  Simulation : 34 | \n",
      "      seed : 374 -----\n"
     ]
    },
    {
     "name": "stderr",
     "output_type": "stream",
     "text": [
      "100%|██████████| 10/10 [00:36<00:00,  3.70s/it]\n"
     ]
    },
    {
     "name": "stdout",
     "output_type": "stream",
     "text": [
      "      Accuracy: 77.00%  Equal Opportunity Disparity: 0.19\n",
      "|  Simulation : 35 | \n",
      "      seed : 413 -----\n"
     ]
    },
    {
     "name": "stderr",
     "output_type": "stream",
     "text": [
      "100%|██████████| 10/10 [00:30<00:00,  3.07s/it]\n"
     ]
    },
    {
     "name": "stdout",
     "output_type": "stream",
     "text": [
      "      Accuracy: 91.00%  Equal Opportunity Disparity: 0.13\n",
      "|  Simulation : 36 | \n",
      "      seed : 446 -----\n"
     ]
    },
    {
     "name": "stderr",
     "output_type": "stream",
     "text": [
      "100%|██████████| 10/10 [00:27<00:00,  2.79s/it]\n"
     ]
    },
    {
     "name": "stdout",
     "output_type": "stream",
     "text": [
      "      Accuracy: 79.00%  Equal Opportunity Disparity: 0.06\n",
      "|  Simulation : 37 | \n",
      "      seed : 476 -----\n"
     ]
    },
    {
     "name": "stderr",
     "output_type": "stream",
     "text": [
      "100%|██████████| 10/10 [00:32<00:00,  3.23s/it]\n"
     ]
    },
    {
     "name": "stdout",
     "output_type": "stream",
     "text": [
      "      Accuracy: 83.00%  Equal Opportunity Disparity: 0.10\n",
      "|  Simulation : 38 | \n",
      "      seed : 510 -----\n"
     ]
    },
    {
     "name": "stderr",
     "output_type": "stream",
     "text": [
      "100%|██████████| 10/10 [00:34<00:00,  3.49s/it]\n"
     ]
    },
    {
     "name": "stdout",
     "output_type": "stream",
     "text": [
      "      Accuracy: 83.00%  Equal Opportunity Disparity: 0.06\n",
      "|  Simulation : 39 | \n",
      "      seed : 547 -----\n"
     ]
    },
    {
     "name": "stderr",
     "output_type": "stream",
     "text": [
      "100%|██████████| 10/10 [00:33<00:00,  3.35s/it]\n"
     ]
    },
    {
     "name": "stdout",
     "output_type": "stream",
     "text": [
      "      Accuracy: 85.00%  Equal Opportunity Disparity: 0.11\n",
      "|  Simulation : 40 | \n",
      "      seed : 582 -----\n"
     ]
    },
    {
     "name": "stderr",
     "output_type": "stream",
     "text": [
      "100%|██████████| 10/10 [00:31<00:00,  3.18s/it]\n"
     ]
    },
    {
     "name": "stdout",
     "output_type": "stream",
     "text": [
      "      Accuracy: 84.00%  Equal Opportunity Disparity: 0.10\n",
      "|  Simulation : 41 | \n",
      "      seed : 616 -----\n"
     ]
    },
    {
     "name": "stderr",
     "output_type": "stream",
     "text": [
      "100%|██████████| 10/10 [00:28<00:00,  2.84s/it]\n"
     ]
    },
    {
     "name": "stdout",
     "output_type": "stream",
     "text": [
      "      Accuracy: 86.00%  Equal Opportunity Disparity: 0.05\n",
      "|  Simulation : 42 | \n",
      "      seed : 646 -----\n"
     ]
    },
    {
     "name": "stderr",
     "output_type": "stream",
     "text": [
      "100%|██████████| 10/10 [00:30<00:00,  3.04s/it]\n"
     ]
    },
    {
     "name": "stdout",
     "output_type": "stream",
     "text": [
      "      Accuracy: 83.00%  Equal Opportunity Disparity: 0.06\n",
      "|  Simulation : 43 | \n",
      "      seed : 679 -----\n"
     ]
    },
    {
     "name": "stderr",
     "output_type": "stream",
     "text": [
      "100%|██████████| 10/10 [00:27<00:00,  2.76s/it]\n"
     ]
    },
    {
     "name": "stdout",
     "output_type": "stream",
     "text": [
      "      Accuracy: 84.00%  Equal Opportunity Disparity: 0.01\n",
      "|  Simulation : 44 | \n",
      "      seed : 708 -----\n"
     ]
    },
    {
     "name": "stderr",
     "output_type": "stream",
     "text": [
      "100%|██████████| 10/10 [00:28<00:00,  2.82s/it]\n"
     ]
    },
    {
     "name": "stdout",
     "output_type": "stream",
     "text": [
      "      Accuracy: 85.00%  Equal Opportunity Disparity: 0.12\n",
      "|  Simulation : 45 | \n",
      "      seed : 738 -----\n"
     ]
    },
    {
     "name": "stderr",
     "output_type": "stream",
     "text": [
      "100%|██████████| 10/10 [00:30<00:00,  3.02s/it]\n"
     ]
    },
    {
     "name": "stdout",
     "output_type": "stream",
     "text": [
      "      Accuracy: 83.00%  Equal Opportunity Disparity: 0.08\n",
      "|  Simulation : 46 | \n",
      "      seed : 771 -----\n"
     ]
    },
    {
     "name": "stderr",
     "output_type": "stream",
     "text": [
      "100%|██████████| 10/10 [00:29<00:00,  2.91s/it]\n"
     ]
    },
    {
     "name": "stdout",
     "output_type": "stream",
     "text": [
      "      Accuracy: 87.00%  Equal Opportunity Disparity: 0.11\n",
      "|  Simulation : 47 | \n",
      "      seed : 801 -----\n"
     ]
    },
    {
     "name": "stderr",
     "output_type": "stream",
     "text": [
      "100%|██████████| 10/10 [00:35<00:00,  3.56s/it]\n"
     ]
    },
    {
     "name": "stdout",
     "output_type": "stream",
     "text": [
      "      Accuracy: 79.00%  Equal Opportunity Disparity: 0.20\n",
      "|  Simulation : 48 | \n",
      "      seed : 839 -----\n"
     ]
    },
    {
     "name": "stderr",
     "output_type": "stream",
     "text": [
      "100%|██████████| 10/10 [00:40<00:00,  4.04s/it]\n"
     ]
    },
    {
     "name": "stdout",
     "output_type": "stream",
     "text": [
      "      Accuracy: 83.00%  Equal Opportunity Disparity: 0.18\n",
      "|  Simulation : 49 | \n",
      "      seed : 881 -----\n"
     ]
    },
    {
     "name": "stderr",
     "output_type": "stream",
     "text": [
      "100%|██████████| 10/10 [00:36<00:00,  3.66s/it]\n"
     ]
    },
    {
     "name": "stdout",
     "output_type": "stream",
     "text": [
      "      Accuracy: 85.00%  Equal Opportunity Disparity: 0.08\n",
      "|  Simulation : 50 | \n",
      "      seed : 920 -----\n"
     ]
    },
    {
     "name": "stderr",
     "output_type": "stream",
     "text": [
      "100%|██████████| 10/10 [00:31<00:00,  3.19s/it]\n"
     ]
    },
    {
     "name": "stdout",
     "output_type": "stream",
     "text": [
      "      Accuracy: 87.00%  Equal Opportunity Disparity: 0.05\n",
      "|  Simulation : 51 | \n",
      "      seed : 957 -----\n"
     ]
    },
    {
     "name": "stderr",
     "output_type": "stream",
     "text": [
      "100%|██████████| 10/10 [00:42<00:00,  4.21s/it]\n"
     ]
    },
    {
     "name": "stdout",
     "output_type": "stream",
     "text": [
      "      Accuracy: 82.00%  Equal Opportunity Disparity: 0.03\n",
      "|  Simulation : 52 | \n",
      "      seed : 1 -----\n"
     ]
    },
    {
     "name": "stderr",
     "output_type": "stream",
     "text": [
      "100%|██████████| 10/10 [00:39<00:00,  3.97s/it]\n"
     ]
    },
    {
     "name": "stdout",
     "output_type": "stream",
     "text": [
      "      Accuracy: 86.00%  Equal Opportunity Disparity: 0.04\n",
      "|  Simulation : 53 | \n",
      "      seed : 43 -----\n"
     ]
    },
    {
     "name": "stderr",
     "output_type": "stream",
     "text": [
      "100%|██████████| 10/10 [00:38<00:00,  3.85s/it]\n"
     ]
    },
    {
     "name": "stdout",
     "output_type": "stream",
     "text": [
      "      Accuracy: 89.00%  Equal Opportunity Disparity: 0.02\n",
      "|  Simulation : 54 | \n",
      "      seed : 84 -----\n"
     ]
    },
    {
     "name": "stderr",
     "output_type": "stream",
     "text": [
      "100%|██████████| 10/10 [00:31<00:00,  3.18s/it]\n"
     ]
    },
    {
     "name": "stdout",
     "output_type": "stream",
     "text": [
      "      Accuracy: 81.00%  Equal Opportunity Disparity: 0.17\n",
      "|  Simulation : 55 | \n",
      "      seed : 118 -----\n"
     ]
    },
    {
     "name": "stderr",
     "output_type": "stream",
     "text": [
      "100%|██████████| 10/10 [00:33<00:00,  3.38s/it]\n"
     ]
    },
    {
     "name": "stdout",
     "output_type": "stream",
     "text": [
      "      Accuracy: 83.00%  Equal Opportunity Disparity: 0.04\n",
      "|  Simulation : 56 | \n",
      "      seed : 153 -----\n"
     ]
    },
    {
     "name": "stderr",
     "output_type": "stream",
     "text": [
      "100%|██████████| 10/10 [00:31<00:00,  3.15s/it]\n"
     ]
    },
    {
     "name": "stdout",
     "output_type": "stream",
     "text": [
      "      Accuracy: 82.00%  Equal Opportunity Disparity: 0.05\n",
      "|  Simulation : 57 | \n",
      "      seed : 187 -----\n"
     ]
    },
    {
     "name": "stderr",
     "output_type": "stream",
     "text": [
      "100%|██████████| 10/10 [00:38<00:00,  3.84s/it]\n"
     ]
    },
    {
     "name": "stdout",
     "output_type": "stream",
     "text": [
      "      Accuracy: 88.00%  Equal Opportunity Disparity: 0.12\n",
      "|  Simulation : 58 | \n",
      "      seed : 228 -----\n"
     ]
    },
    {
     "name": "stderr",
     "output_type": "stream",
     "text": [
      "100%|██████████| 10/10 [00:35<00:00,  3.50s/it]\n"
     ]
    },
    {
     "name": "stdout",
     "output_type": "stream",
     "text": [
      "      Accuracy: 85.00%  Equal Opportunity Disparity: 0.06\n",
      "|  Simulation : 59 | \n",
      "      seed : 266 -----\n"
     ]
    },
    {
     "name": "stderr",
     "output_type": "stream",
     "text": [
      "100%|██████████| 10/10 [00:33<00:00,  3.32s/it]\n"
     ]
    },
    {
     "name": "stdout",
     "output_type": "stream",
     "text": [
      "      Accuracy: 89.00%  Equal Opportunity Disparity: 0.19\n",
      "|  Simulation : 60 | \n",
      "      seed : 301 -----\n"
     ]
    },
    {
     "name": "stderr",
     "output_type": "stream",
     "text": [
      "100%|██████████| 10/10 [00:33<00:00,  3.39s/it]\n"
     ]
    },
    {
     "name": "stdout",
     "output_type": "stream",
     "text": [
      "      Accuracy: 82.00%  Equal Opportunity Disparity: 0.07\n",
      "|  Simulation : 61 | \n",
      "      seed : 338 -----\n"
     ]
    },
    {
     "name": "stderr",
     "output_type": "stream",
     "text": [
      "100%|██████████| 10/10 [00:31<00:00,  3.11s/it]\n"
     ]
    },
    {
     "name": "stdout",
     "output_type": "stream",
     "text": [
      "      Accuracy: 88.00%  Equal Opportunity Disparity: 0.06\n",
      "|  Simulation : 62 | \n",
      "      seed : 371 -----\n"
     ]
    },
    {
     "name": "stderr",
     "output_type": "stream",
     "text": [
      "100%|██████████| 10/10 [00:30<00:00,  3.07s/it]\n"
     ]
    },
    {
     "name": "stdout",
     "output_type": "stream",
     "text": [
      "      Accuracy: 81.00%  Equal Opportunity Disparity: 0.17\n",
      "|  Simulation : 63 | \n",
      "      seed : 405 -----\n"
     ]
    },
    {
     "name": "stderr",
     "output_type": "stream",
     "text": [
      "100%|██████████| 10/10 [00:30<00:00,  3.02s/it]\n"
     ]
    },
    {
     "name": "stdout",
     "output_type": "stream",
     "text": [
      "      Accuracy: 79.00%  Equal Opportunity Disparity: 0.05\n",
      "|  Simulation : 64 | \n",
      "      seed : 437 -----\n"
     ]
    },
    {
     "name": "stderr",
     "output_type": "stream",
     "text": [
      "100%|██████████| 10/10 [00:32<00:00,  3.27s/it]\n"
     ]
    },
    {
     "name": "stdout",
     "output_type": "stream",
     "text": [
      "      Accuracy: 78.00%  Equal Opportunity Disparity: 0.19\n",
      "|  Simulation : 65 | \n",
      "      seed : 472 -----\n"
     ]
    },
    {
     "name": "stderr",
     "output_type": "stream",
     "text": [
      "100%|██████████| 10/10 [00:33<00:00,  3.40s/it]\n"
     ]
    },
    {
     "name": "stdout",
     "output_type": "stream",
     "text": [
      "      Accuracy: 84.00%  Equal Opportunity Disparity: 0.15\n",
      "|  Simulation : 66 | \n",
      "      seed : 508 -----\n"
     ]
    },
    {
     "name": "stderr",
     "output_type": "stream",
     "text": [
      "100%|██████████| 10/10 [00:29<00:00,  2.94s/it]\n"
     ]
    },
    {
     "name": "stdout",
     "output_type": "stream",
     "text": [
      "      Accuracy: 86.00%  Equal Opportunity Disparity: 0.03\n",
      "|  Simulation : 67 | \n",
      "      seed : 539 -----\n"
     ]
    },
    {
     "name": "stderr",
     "output_type": "stream",
     "text": [
      "100%|██████████| 10/10 [00:29<00:00,  2.92s/it]\n"
     ]
    },
    {
     "name": "stdout",
     "output_type": "stream",
     "text": [
      "      Accuracy: 82.00%  Equal Opportunity Disparity: 0.17\n",
      "|  Simulation : 68 | \n",
      "      seed : 570 -----\n"
     ]
    },
    {
     "name": "stderr",
     "output_type": "stream",
     "text": [
      "100%|██████████| 10/10 [00:33<00:00,  3.40s/it]\n"
     ]
    },
    {
     "name": "stdout",
     "output_type": "stream",
     "text": [
      "      Accuracy: 84.00%  Equal Opportunity Disparity: 0.07\n",
      "|  Simulation : 69 | \n",
      "      seed : 606 -----\n"
     ]
    },
    {
     "name": "stderr",
     "output_type": "stream",
     "text": [
      "100%|██████████| 10/10 [00:37<00:00,  3.78s/it]\n"
     ]
    },
    {
     "name": "stdout",
     "output_type": "stream",
     "text": [
      "      Accuracy: 88.00%  Equal Opportunity Disparity: 0.08\n",
      "|  Simulation : 70 | \n",
      "      seed : 646 -----\n"
     ]
    },
    {
     "name": "stderr",
     "output_type": "stream",
     "text": [
      "100%|██████████| 10/10 [00:29<00:00,  2.97s/it]\n"
     ]
    },
    {
     "name": "stdout",
     "output_type": "stream",
     "text": [
      "      Accuracy: 83.00%  Equal Opportunity Disparity: 0.06\n",
      "|  Simulation : 71 | \n",
      "      seed : 678 -----\n"
     ]
    },
    {
     "name": "stderr",
     "output_type": "stream",
     "text": [
      "100%|██████████| 10/10 [00:33<00:00,  3.38s/it]\n"
     ]
    },
    {
     "name": "stdout",
     "output_type": "stream",
     "text": [
      "      Accuracy: 69.00%  Equal Opportunity Disparity: 0.24\n",
      "|  Simulation : 72 | \n",
      "      seed : 714 -----\n"
     ]
    },
    {
     "name": "stderr",
     "output_type": "stream",
     "text": [
      "100%|██████████| 10/10 [00:31<00:00,  3.13s/it]\n"
     ]
    },
    {
     "name": "stdout",
     "output_type": "stream",
     "text": [
      "      Accuracy: 81.00%  Equal Opportunity Disparity: 0.22\n",
      "|  Simulation : 73 | \n",
      "      seed : 747 -----\n"
     ]
    },
    {
     "name": "stderr",
     "output_type": "stream",
     "text": [
      "100%|██████████| 10/10 [00:34<00:00,  3.41s/it]\n"
     ]
    },
    {
     "name": "stdout",
     "output_type": "stream",
     "text": [
      "      Accuracy: 85.00%  Equal Opportunity Disparity: 0.11\n",
      "|  Simulation : 74 | \n",
      "      seed : 783 -----\n"
     ]
    },
    {
     "name": "stderr",
     "output_type": "stream",
     "text": [
      "100%|██████████| 10/10 [00:27<00:00,  2.77s/it]\n"
     ]
    },
    {
     "name": "stdout",
     "output_type": "stream",
     "text": [
      "      Accuracy: 86.00%  Equal Opportunity Disparity: 0.16\n",
      "|  Simulation : 75 | \n",
      "      seed : 813 -----\n"
     ]
    },
    {
     "name": "stderr",
     "output_type": "stream",
     "text": [
      "100%|██████████| 10/10 [00:30<00:00,  3.05s/it]\n"
     ]
    },
    {
     "name": "stdout",
     "output_type": "stream",
     "text": [
      "      Accuracy: 78.00%  Equal Opportunity Disparity: 0.16\n",
      "|  Simulation : 76 | \n",
      "      seed : 845 -----\n"
     ]
    },
    {
     "name": "stderr",
     "output_type": "stream",
     "text": [
      "100%|██████████| 10/10 [00:30<00:00,  3.09s/it]\n"
     ]
    },
    {
     "name": "stdout",
     "output_type": "stream",
     "text": [
      "      Accuracy: 85.00%  Equal Opportunity Disparity: 0.07\n",
      "|  Simulation : 77 | \n",
      "      seed : 878 -----\n"
     ]
    },
    {
     "name": "stderr",
     "output_type": "stream",
     "text": [
      "100%|██████████| 10/10 [00:30<00:00,  3.07s/it]\n"
     ]
    },
    {
     "name": "stdout",
     "output_type": "stream",
     "text": [
      "      Accuracy: 77.00%  Equal Opportunity Disparity: 0.09\n",
      "|  Simulation : 78 | \n",
      "      seed : 911 -----\n"
     ]
    },
    {
     "name": "stderr",
     "output_type": "stream",
     "text": [
      "100%|██████████| 10/10 [00:32<00:00,  3.24s/it]\n"
     ]
    },
    {
     "name": "stdout",
     "output_type": "stream",
     "text": [
      "      Accuracy: 83.00%  Equal Opportunity Disparity: 0.11\n",
      "|  Simulation : 79 | \n",
      "      seed : 945 -----\n"
     ]
    },
    {
     "name": "stderr",
     "output_type": "stream",
     "text": [
      "100%|██████████| 10/10 [00:31<00:00,  3.15s/it]\n"
     ]
    },
    {
     "name": "stdout",
     "output_type": "stream",
     "text": [
      "      Accuracy: 83.00%  Equal Opportunity Disparity: 0.00\n",
      "|  Simulation : 80 | \n",
      "      seed : 978 -----\n"
     ]
    },
    {
     "name": "stderr",
     "output_type": "stream",
     "text": [
      "100%|██████████| 10/10 [00:33<00:00,  3.38s/it]\n"
     ]
    },
    {
     "name": "stdout",
     "output_type": "stream",
     "text": [
      "      Accuracy: 82.00%  Equal Opportunity Disparity: 0.11\n",
      "|  Simulation : 81 | \n",
      "      seed : 14 -----\n"
     ]
    },
    {
     "name": "stderr",
     "output_type": "stream",
     "text": [
      "100%|██████████| 10/10 [00:27<00:00,  2.79s/it]\n"
     ]
    },
    {
     "name": "stdout",
     "output_type": "stream",
     "text": [
      "      Accuracy: 89.00%  Equal Opportunity Disparity: 0.06\n",
      "|  Simulation : 82 | \n",
      "      seed : 44 -----\n"
     ]
    },
    {
     "name": "stderr",
     "output_type": "stream",
     "text": [
      "100%|██████████| 10/10 [00:29<00:00,  2.95s/it]\n"
     ]
    },
    {
     "name": "stdout",
     "output_type": "stream",
     "text": [
      "      Accuracy: 80.00%  Equal Opportunity Disparity: 0.05\n",
      "|  Simulation : 83 | \n",
      "      seed : 76 -----\n"
     ]
    },
    {
     "name": "stderr",
     "output_type": "stream",
     "text": [
      "100%|██████████| 10/10 [00:30<00:00,  3.05s/it]\n"
     ]
    },
    {
     "name": "stdout",
     "output_type": "stream",
     "text": [
      "      Accuracy: 84.00%  Equal Opportunity Disparity: 0.16\n",
      "|  Simulation : 84 | \n",
      "      seed : 108 -----\n"
     ]
    },
    {
     "name": "stderr",
     "output_type": "stream",
     "text": [
      "100%|██████████| 10/10 [00:30<00:00,  3.10s/it]\n"
     ]
    },
    {
     "name": "stdout",
     "output_type": "stream",
     "text": [
      "      Accuracy: 81.00%  Equal Opportunity Disparity: 0.07\n",
      "|  Simulation : 85 | \n",
      "      seed : 141 -----\n"
     ]
    },
    {
     "name": "stderr",
     "output_type": "stream",
     "text": [
      "100%|██████████| 10/10 [00:27<00:00,  2.80s/it]\n"
     ]
    },
    {
     "name": "stdout",
     "output_type": "stream",
     "text": [
      "      Accuracy: 82.00%  Equal Opportunity Disparity: 0.04\n",
      "|  Simulation : 86 | \n",
      "      seed : 171 -----\n"
     ]
    },
    {
     "name": "stderr",
     "output_type": "stream",
     "text": [
      "100%|██████████| 10/10 [00:29<00:00,  3.00s/it]\n"
     ]
    },
    {
     "name": "stdout",
     "output_type": "stream",
     "text": [
      "      Accuracy: 74.00%  Equal Opportunity Disparity: 0.23\n",
      "|  Simulation : 87 | \n",
      "      seed : 203 -----\n"
     ]
    },
    {
     "name": "stderr",
     "output_type": "stream",
     "text": [
      "100%|██████████| 10/10 [00:33<00:00,  3.39s/it]\n"
     ]
    },
    {
     "name": "stdout",
     "output_type": "stream",
     "text": [
      "      Accuracy: 83.00%  Equal Opportunity Disparity: 0.17\n",
      "|  Simulation : 88 | \n",
      "      seed : 239 -----\n"
     ]
    },
    {
     "name": "stderr",
     "output_type": "stream",
     "text": [
      "100%|██████████| 10/10 [00:33<00:00,  3.35s/it]\n"
     ]
    },
    {
     "name": "stdout",
     "output_type": "stream",
     "text": [
      "      Accuracy: 82.00%  Equal Opportunity Disparity: 0.03\n",
      "|  Simulation : 89 | \n",
      "      seed : 275 -----\n"
     ]
    },
    {
     "name": "stderr",
     "output_type": "stream",
     "text": [
      "100%|██████████| 10/10 [00:37<00:00,  3.70s/it]\n"
     ]
    },
    {
     "name": "stdout",
     "output_type": "stream",
     "text": [
      "      Accuracy: 76.00%  Equal Opportunity Disparity: 0.05\n",
      "|  Simulation : 90 | \n",
      "      seed : 314 -----\n"
     ]
    },
    {
     "name": "stderr",
     "output_type": "stream",
     "text": [
      "100%|██████████| 10/10 [00:33<00:00,  3.37s/it]\n"
     ]
    },
    {
     "name": "stdout",
     "output_type": "stream",
     "text": [
      "      Accuracy: 90.00%  Equal Opportunity Disparity: 0.19\n",
      "|  Simulation : 91 | \n",
      "      seed : 351 -----\n"
     ]
    },
    {
     "name": "stderr",
     "output_type": "stream",
     "text": [
      "100%|██████████| 10/10 [00:36<00:00,  3.64s/it]\n"
     ]
    },
    {
     "name": "stdout",
     "output_type": "stream",
     "text": [
      "      Accuracy: 72.00%  Equal Opportunity Disparity: 0.11\n",
      "|  Simulation : 92 | \n",
      "      seed : 389 -----\n"
     ]
    },
    {
     "name": "stderr",
     "output_type": "stream",
     "text": [
      "100%|██████████| 10/10 [00:36<00:00,  3.65s/it]\n"
     ]
    },
    {
     "name": "stdout",
     "output_type": "stream",
     "text": [
      "      Accuracy: 88.00%  Equal Opportunity Disparity: 0.13\n",
      "|  Simulation : 93 | \n",
      "      seed : 428 -----\n"
     ]
    },
    {
     "name": "stderr",
     "output_type": "stream",
     "text": [
      "100%|██████████| 10/10 [00:35<00:00,  3.60s/it]\n"
     ]
    },
    {
     "name": "stdout",
     "output_type": "stream",
     "text": [
      "      Accuracy: 88.00%  Equal Opportunity Disparity: 0.03\n",
      "|  Simulation : 94 | \n",
      "      seed : 467 -----\n"
     ]
    },
    {
     "name": "stderr",
     "output_type": "stream",
     "text": [
      "100%|██████████| 10/10 [00:32<00:00,  3.28s/it]\n"
     ]
    },
    {
     "name": "stdout",
     "output_type": "stream",
     "text": [
      "      Accuracy: 83.00%  Equal Opportunity Disparity: 0.10\n",
      "|  Simulation : 95 | \n",
      "      seed : 502 -----\n"
     ]
    },
    {
     "name": "stderr",
     "output_type": "stream",
     "text": [
      "100%|██████████| 10/10 [00:37<00:00,  3.76s/it]\n"
     ]
    },
    {
     "name": "stdout",
     "output_type": "stream",
     "text": [
      "      Accuracy: 79.00%  Equal Opportunity Disparity: 0.19\n",
      "|  Simulation : 96 | \n",
      "      seed : 542 -----\n"
     ]
    },
    {
     "name": "stderr",
     "output_type": "stream",
     "text": [
      "100%|██████████| 10/10 [00:31<00:00,  3.11s/it]\n"
     ]
    },
    {
     "name": "stdout",
     "output_type": "stream",
     "text": [
      "      Accuracy: 84.00%  Equal Opportunity Disparity: 0.08\n",
      "|  Simulation : 97 | \n",
      "      seed : 575 -----\n"
     ]
    },
    {
     "name": "stderr",
     "output_type": "stream",
     "text": [
      "100%|██████████| 10/10 [00:34<00:00,  3.41s/it]\n"
     ]
    },
    {
     "name": "stdout",
     "output_type": "stream",
     "text": [
      "      Accuracy: 85.00%  Equal Opportunity Disparity: 0.06\n",
      "|  Simulation : 98 | \n",
      "      seed : 611 -----\n"
     ]
    },
    {
     "name": "stderr",
     "output_type": "stream",
     "text": [
      "100%|██████████| 10/10 [00:36<00:00,  3.61s/it]\n"
     ]
    },
    {
     "name": "stdout",
     "output_type": "stream",
     "text": [
      "      Accuracy: 80.00%  Equal Opportunity Disparity: 0.10\n",
      "|  Simulation : 99 | \n",
      "      seed : 649 -----\n"
     ]
    },
    {
     "name": "stderr",
     "output_type": "stream",
     "text": [
      "100%|██████████| 10/10 [00:35<00:00,  3.57s/it]\n"
     ]
    },
    {
     "name": "stdout",
     "output_type": "stream",
     "text": [
      "      Accuracy: 86.00%  Equal Opportunity Disparity: 0.14\n",
      "|  Simulation : 100 | \n",
      "      seed : 688 -----\n"
     ]
    },
    {
     "name": "stderr",
     "output_type": "stream",
     "text": [
      "100%|██████████| 10/10 [00:38<00:00,  3.90s/it]"
     ]
    },
    {
     "name": "stdout",
     "output_type": "stream",
     "text": [
      "      Accuracy: 87.00%  Equal Opportunity Disparity: 0.16\n",
      "| Test Accuracy: 0.831(0.041) | Equal Opportunity Disparity: 0.092(0.064) |\n",
      "| Time elapsed: 3460.19 seconds |\n"
     ]
    },
    {
     "name": "stderr",
     "output_type": "stream",
     "text": [
      "\n"
     ]
    },
    {
     "data": {
      "text/plain": [
       "(0.8312, 0.04072542203587336, 0.09203199090591614, 0.0636008013415748)"
      ]
     },
     "execution_count": 5,
     "metadata": {},
     "output_type": "execute_result"
    }
   ],
   "source": [
    "# FairBatch 100\n",
    "runSim(num_sim = 100, train_samples = 3000, test_samples = 100, learning_rate = 0.01, num_rounds = 10, \n",
    "          local_epochs = 30, alpha = 0.2, optimizer = 'adam', option = \"FairBatch\")"
   ]
  },
  {
   "cell_type": "code",
   "execution_count": 6,
   "metadata": {
    "scrolled": true
   },
   "outputs": [
    {
     "name": "stdout",
     "output_type": "stream",
     "text": [
      "|  Simulation : 1 | \n",
      "      seed : 730 -----\n"
     ]
    },
    {
     "name": "stderr",
     "output_type": "stream",
     "text": [
      "100%|██████████| 10/10 [00:29<00:00,  2.99s/it]\n"
     ]
    },
    {
     "name": "stdout",
     "output_type": "stream",
     "text": [
      "      Accuracy: 86.00%  Equal Opportunity Disparity: 0.36\n",
      "|  Simulation : 2 | \n",
      "      seed : 763 -----\n"
     ]
    },
    {
     "name": "stderr",
     "output_type": "stream",
     "text": [
      "100%|██████████| 10/10 [00:33<00:00,  3.35s/it]\n"
     ]
    },
    {
     "name": "stdout",
     "output_type": "stream",
     "text": [
      "      Accuracy: 86.00%  Equal Opportunity Disparity: 0.44\n",
      "|  Simulation : 3 | \n",
      "      seed : 798 -----\n"
     ]
    },
    {
     "name": "stderr",
     "output_type": "stream",
     "text": [
      "100%|██████████| 10/10 [00:32<00:00,  3.25s/it]\n"
     ]
    },
    {
     "name": "stdout",
     "output_type": "stream",
     "text": [
      "      Accuracy: 89.00%  Equal Opportunity Disparity: 0.16\n",
      "|  Simulation : 4 | \n",
      "      seed : 833 -----\n"
     ]
    },
    {
     "name": "stderr",
     "output_type": "stream",
     "text": [
      "100%|██████████| 10/10 [00:36<00:00,  3.61s/it]\n"
     ]
    },
    {
     "name": "stdout",
     "output_type": "stream",
     "text": [
      "      Accuracy: 93.00%  Equal Opportunity Disparity: 0.09\n",
      "|  Simulation : 5 | \n",
      "      seed : 872 -----\n"
     ]
    },
    {
     "name": "stderr",
     "output_type": "stream",
     "text": [
      "100%|██████████| 10/10 [00:30<00:00,  3.03s/it]\n"
     ]
    },
    {
     "name": "stdout",
     "output_type": "stream",
     "text": [
      "      Accuracy: 91.00%  Equal Opportunity Disparity: 0.22\n",
      "|  Simulation : 6 | \n",
      "      seed : 904 -----\n"
     ]
    },
    {
     "name": "stderr",
     "output_type": "stream",
     "text": [
      "100%|██████████| 10/10 [00:32<00:00,  3.21s/it]\n"
     ]
    },
    {
     "name": "stdout",
     "output_type": "stream",
     "text": [
      "      Accuracy: 86.00%  Equal Opportunity Disparity: 0.16\n",
      "|  Simulation : 7 | \n",
      "      seed : 938 -----\n"
     ]
    },
    {
     "name": "stderr",
     "output_type": "stream",
     "text": [
      "100%|██████████| 10/10 [00:27<00:00,  2.72s/it]\n"
     ]
    },
    {
     "name": "stdout",
     "output_type": "stream",
     "text": [
      "      Accuracy: 87.00%  Equal Opportunity Disparity: 0.11\n",
      "|  Simulation : 8 | \n",
      "      seed : 967 -----\n"
     ]
    },
    {
     "name": "stderr",
     "output_type": "stream",
     "text": [
      "100%|██████████| 10/10 [00:26<00:00,  2.61s/it]\n"
     ]
    },
    {
     "name": "stdout",
     "output_type": "stream",
     "text": [
      "      Accuracy: 86.00%  Equal Opportunity Disparity: 0.15\n",
      "|  Simulation : 9 | \n",
      "      seed : 996 -----\n"
     ]
    },
    {
     "name": "stderr",
     "output_type": "stream",
     "text": [
      "100%|██████████| 10/10 [00:28<00:00,  2.90s/it]\n"
     ]
    },
    {
     "name": "stdout",
     "output_type": "stream",
     "text": [
      "      Accuracy: 88.00%  Equal Opportunity Disparity: 0.16\n",
      "|  Simulation : 10 | \n",
      "      seed : 27 -----\n"
     ]
    },
    {
     "name": "stderr",
     "output_type": "stream",
     "text": [
      "100%|██████████| 10/10 [00:25<00:00,  2.54s/it]\n"
     ]
    },
    {
     "name": "stdout",
     "output_type": "stream",
     "text": [
      "      Accuracy: 88.00%  Equal Opportunity Disparity: 0.41\n",
      "|  Simulation : 11 | \n",
      "      seed : 54 -----\n"
     ]
    },
    {
     "name": "stderr",
     "output_type": "stream",
     "text": [
      "100%|██████████| 10/10 [00:26<00:00,  2.61s/it]\n"
     ]
    },
    {
     "name": "stdout",
     "output_type": "stream",
     "text": [
      "      Accuracy: 90.00%  Equal Opportunity Disparity: 0.45\n",
      "|  Simulation : 12 | \n",
      "      seed : 82 -----\n"
     ]
    },
    {
     "name": "stderr",
     "output_type": "stream",
     "text": [
      "100%|██████████| 10/10 [00:26<00:00,  2.62s/it]\n"
     ]
    },
    {
     "name": "stdout",
     "output_type": "stream",
     "text": [
      "      Accuracy: 89.00%  Equal Opportunity Disparity: 0.13\n",
      "|  Simulation : 13 | \n",
      "      seed : 110 -----\n"
     ]
    },
    {
     "name": "stderr",
     "output_type": "stream",
     "text": [
      "100%|██████████| 10/10 [00:23<00:00,  2.33s/it]\n"
     ]
    },
    {
     "name": "stdout",
     "output_type": "stream",
     "text": [
      "      Accuracy: 93.00%  Equal Opportunity Disparity: 0.27\n",
      "|  Simulation : 14 | \n",
      "      seed : 135 -----\n"
     ]
    },
    {
     "name": "stderr",
     "output_type": "stream",
     "text": [
      "100%|██████████| 10/10 [00:24<00:00,  2.45s/it]\n"
     ]
    },
    {
     "name": "stdout",
     "output_type": "stream",
     "text": [
      "      Accuracy: 92.00%  Equal Opportunity Disparity: 0.13\n",
      "|  Simulation : 15 | \n",
      "      seed : 161 -----\n"
     ]
    },
    {
     "name": "stderr",
     "output_type": "stream",
     "text": [
      "100%|██████████| 10/10 [00:27<00:00,  2.75s/it]\n"
     ]
    },
    {
     "name": "stdout",
     "output_type": "stream",
     "text": [
      "      Accuracy: 92.00%  Equal Opportunity Disparity: 0.11\n",
      "|  Simulation : 16 | \n",
      "      seed : 191 -----\n"
     ]
    },
    {
     "name": "stderr",
     "output_type": "stream",
     "text": [
      "100%|██████████| 10/10 [00:26<00:00,  2.69s/it]\n"
     ]
    },
    {
     "name": "stdout",
     "output_type": "stream",
     "text": [
      "      Accuracy: 86.00%  Equal Opportunity Disparity: 0.18\n",
      "|  Simulation : 17 | \n",
      "      seed : 220 -----\n"
     ]
    },
    {
     "name": "stderr",
     "output_type": "stream",
     "text": [
      "100%|██████████| 10/10 [00:35<00:00,  3.56s/it]\n"
     ]
    },
    {
     "name": "stdout",
     "output_type": "stream",
     "text": [
      "      Accuracy: 88.00%  Equal Opportunity Disparity: 0.30\n",
      "|  Simulation : 18 | \n",
      "      seed : 257 -----\n"
     ]
    },
    {
     "name": "stderr",
     "output_type": "stream",
     "text": [
      "100%|██████████| 10/10 [00:37<00:00,  3.73s/it]\n"
     ]
    },
    {
     "name": "stdout",
     "output_type": "stream",
     "text": [
      "      Accuracy: 86.00%  Equal Opportunity Disparity: 0.21\n",
      "|  Simulation : 19 | \n",
      "      seed : 296 -----\n"
     ]
    },
    {
     "name": "stderr",
     "output_type": "stream",
     "text": [
      "100%|██████████| 10/10 [00:32<00:00,  3.26s/it]\n"
     ]
    },
    {
     "name": "stdout",
     "output_type": "stream",
     "text": [
      "      Accuracy: 92.00%  Equal Opportunity Disparity: 0.06\n",
      "|  Simulation : 20 | \n",
      "      seed : 331 -----\n"
     ]
    },
    {
     "name": "stderr",
     "output_type": "stream",
     "text": [
      "100%|██████████| 10/10 [00:36<00:00,  3.63s/it]\n"
     ]
    },
    {
     "name": "stdout",
     "output_type": "stream",
     "text": [
      "      Accuracy: 90.00%  Equal Opportunity Disparity: 0.37\n",
      "|  Simulation : 21 | \n",
      "      seed : 369 -----\n"
     ]
    },
    {
     "name": "stderr",
     "output_type": "stream",
     "text": [
      "100%|██████████| 10/10 [00:39<00:00,  4.00s/it]\n"
     ]
    },
    {
     "name": "stdout",
     "output_type": "stream",
     "text": [
      "      Accuracy: 88.00%  Equal Opportunity Disparity: 0.33\n",
      "|  Simulation : 22 | \n",
      "      seed : 412 -----\n"
     ]
    },
    {
     "name": "stderr",
     "output_type": "stream",
     "text": [
      "100%|██████████| 10/10 [00:31<00:00,  3.16s/it]\n"
     ]
    },
    {
     "name": "stdout",
     "output_type": "stream",
     "text": [
      "      Accuracy: 90.00%  Equal Opportunity Disparity: 0.62\n",
      "|  Simulation : 23 | \n",
      "      seed : 446 -----\n"
     ]
    },
    {
     "name": "stderr",
     "output_type": "stream",
     "text": [
      "100%|██████████| 10/10 [00:22<00:00,  2.29s/it]\n"
     ]
    },
    {
     "name": "stdout",
     "output_type": "stream",
     "text": [
      "      Accuracy: 87.00%  Equal Opportunity Disparity: 0.23\n",
      "|  Simulation : 24 | \n",
      "      seed : 470 -----\n"
     ]
    },
    {
     "name": "stderr",
     "output_type": "stream",
     "text": [
      "100%|██████████| 10/10 [00:21<00:00,  2.18s/it]\n"
     ]
    },
    {
     "name": "stdout",
     "output_type": "stream",
     "text": [
      "      Accuracy: 91.00%  Equal Opportunity Disparity: 0.18\n",
      "|  Simulation : 25 | \n",
      "      seed : 494 -----\n"
     ]
    },
    {
     "name": "stderr",
     "output_type": "stream",
     "text": [
      "100%|██████████| 10/10 [00:23<00:00,  2.38s/it]\n"
     ]
    },
    {
     "name": "stdout",
     "output_type": "stream",
     "text": [
      "      Accuracy: 93.00%  Equal Opportunity Disparity: 0.22\n",
      "|  Simulation : 26 | \n",
      "      seed : 519 -----\n"
     ]
    },
    {
     "name": "stderr",
     "output_type": "stream",
     "text": [
      "100%|██████████| 10/10 [00:28<00:00,  2.81s/it]\n"
     ]
    },
    {
     "name": "stdout",
     "output_type": "stream",
     "text": [
      "      Accuracy: 85.00%  Equal Opportunity Disparity: 0.33\n",
      "|  Simulation : 27 | \n",
      "      seed : 549 -----\n"
     ]
    },
    {
     "name": "stderr",
     "output_type": "stream",
     "text": [
      "100%|██████████| 10/10 [00:21<00:00,  2.15s/it]\n"
     ]
    },
    {
     "name": "stdout",
     "output_type": "stream",
     "text": [
      "      Accuracy: 93.00%  Equal Opportunity Disparity: 0.28\n",
      "|  Simulation : 28 | \n",
      "      seed : 572 -----\n"
     ]
    },
    {
     "name": "stderr",
     "output_type": "stream",
     "text": [
      "100%|██████████| 10/10 [00:22<00:00,  2.26s/it]\n"
     ]
    },
    {
     "name": "stdout",
     "output_type": "stream",
     "text": [
      "      Accuracy: 88.00%  Equal Opportunity Disparity: 0.01\n",
      "|  Simulation : 29 | \n",
      "      seed : 596 -----\n"
     ]
    },
    {
     "name": "stderr",
     "output_type": "stream",
     "text": [
      "100%|██████████| 10/10 [00:26<00:00,  2.69s/it]\n"
     ]
    },
    {
     "name": "stdout",
     "output_type": "stream",
     "text": [
      "      Accuracy: 88.00%  Equal Opportunity Disparity: 0.28\n",
      "|  Simulation : 30 | \n",
      "      seed : 625 -----\n"
     ]
    },
    {
     "name": "stderr",
     "output_type": "stream",
     "text": [
      "100%|██████████| 10/10 [00:24<00:00,  2.49s/it]\n"
     ]
    },
    {
     "name": "stdout",
     "output_type": "stream",
     "text": [
      "      Accuracy: 92.00%  Equal Opportunity Disparity: 0.17\n",
      "|  Simulation : 31 | \n",
      "      seed : 651 -----\n"
     ]
    },
    {
     "name": "stderr",
     "output_type": "stream",
     "text": [
      "100%|██████████| 10/10 [00:30<00:00,  3.02s/it]\n"
     ]
    },
    {
     "name": "stdout",
     "output_type": "stream",
     "text": [
      "      Accuracy: 88.00%  Equal Opportunity Disparity: 0.18\n",
      "|  Simulation : 32 | \n",
      "      seed : 683 -----\n"
     ]
    },
    {
     "name": "stderr",
     "output_type": "stream",
     "text": [
      "100%|██████████| 10/10 [00:27<00:00,  2.79s/it]\n"
     ]
    },
    {
     "name": "stdout",
     "output_type": "stream",
     "text": [
      "      Accuracy: 90.00%  Equal Opportunity Disparity: 0.26\n",
      "|  Simulation : 33 | \n",
      "      seed : 713 -----\n"
     ]
    },
    {
     "name": "stderr",
     "output_type": "stream",
     "text": [
      "100%|██████████| 10/10 [00:24<00:00,  2.48s/it]\n"
     ]
    },
    {
     "name": "stdout",
     "output_type": "stream",
     "text": [
      "      Accuracy: 80.00%  Equal Opportunity Disparity: 0.35\n",
      "|  Simulation : 34 | \n",
      "      seed : 740 -----\n"
     ]
    },
    {
     "name": "stderr",
     "output_type": "stream",
     "text": [
      "100%|██████████| 10/10 [00:35<00:00,  3.57s/it]\n"
     ]
    },
    {
     "name": "stdout",
     "output_type": "stream",
     "text": [
      "      Accuracy: 90.00%  Equal Opportunity Disparity: 0.06\n",
      "|  Simulation : 35 | \n",
      "      seed : 778 -----\n"
     ]
    },
    {
     "name": "stderr",
     "output_type": "stream",
     "text": [
      "100%|██████████| 10/10 [00:31<00:00,  3.14s/it]\n"
     ]
    },
    {
     "name": "stdout",
     "output_type": "stream",
     "text": [
      "      Accuracy: 83.00%  Equal Opportunity Disparity: 0.23\n",
      "|  Simulation : 36 | \n",
      "      seed : 812 -----\n"
     ]
    },
    {
     "name": "stderr",
     "output_type": "stream",
     "text": [
      "100%|██████████| 10/10 [00:28<00:00,  2.88s/it]\n"
     ]
    },
    {
     "name": "stdout",
     "output_type": "stream",
     "text": [
      "      Accuracy: 88.00%  Equal Opportunity Disparity: 0.23\n",
      "|  Simulation : 37 | \n",
      "      seed : 843 -----\n"
     ]
    },
    {
     "name": "stderr",
     "output_type": "stream",
     "text": [
      "100%|██████████| 10/10 [00:24<00:00,  2.40s/it]\n"
     ]
    },
    {
     "name": "stdout",
     "output_type": "stream",
     "text": [
      "      Accuracy: 82.00%  Equal Opportunity Disparity: 0.12\n",
      "|  Simulation : 38 | \n",
      "      seed : 869 -----\n"
     ]
    },
    {
     "name": "stderr",
     "output_type": "stream",
     "text": [
      "100%|██████████| 10/10 [00:27<00:00,  2.78s/it]\n"
     ]
    },
    {
     "name": "stdout",
     "output_type": "stream",
     "text": [
      "      Accuracy: 90.00%  Equal Opportunity Disparity: 0.34\n",
      "|  Simulation : 39 | \n",
      "      seed : 899 -----\n"
     ]
    },
    {
     "name": "stderr",
     "output_type": "stream",
     "text": [
      "100%|██████████| 10/10 [00:22<00:00,  2.24s/it]\n"
     ]
    },
    {
     "name": "stdout",
     "output_type": "stream",
     "text": [
      "      Accuracy: 82.00%  Equal Opportunity Disparity: 0.29\n",
      "|  Simulation : 40 | \n",
      "      seed : 923 -----\n"
     ]
    },
    {
     "name": "stderr",
     "output_type": "stream",
     "text": [
      "100%|██████████| 10/10 [00:22<00:00,  2.30s/it]\n"
     ]
    },
    {
     "name": "stdout",
     "output_type": "stream",
     "text": [
      "      Accuracy: 91.00%  Equal Opportunity Disparity: 0.33\n",
      "|  Simulation : 41 | \n",
      "      seed : 948 -----\n"
     ]
    },
    {
     "name": "stderr",
     "output_type": "stream",
     "text": [
      "100%|██████████| 10/10 [00:23<00:00,  2.32s/it]\n"
     ]
    },
    {
     "name": "stdout",
     "output_type": "stream",
     "text": [
      "      Accuracy: 90.00%  Equal Opportunity Disparity: 0.04\n",
      "|  Simulation : 42 | \n",
      "      seed : 972 -----\n"
     ]
    },
    {
     "name": "stderr",
     "output_type": "stream",
     "text": [
      "100%|██████████| 10/10 [00:21<00:00,  2.14s/it]\n"
     ]
    },
    {
     "name": "stdout",
     "output_type": "stream",
     "text": [
      "      Accuracy: 88.00%  Equal Opportunity Disparity: 0.29\n",
      "|  Simulation : 43 | \n",
      "      seed : 995 -----\n"
     ]
    },
    {
     "name": "stderr",
     "output_type": "stream",
     "text": [
      "100%|██████████| 10/10 [00:24<00:00,  2.46s/it]\n"
     ]
    },
    {
     "name": "stdout",
     "output_type": "stream",
     "text": [
      "      Accuracy: 90.00%  Equal Opportunity Disparity: 0.08\n",
      "|  Simulation : 44 | \n",
      "      seed : 22 -----\n"
     ]
    },
    {
     "name": "stderr",
     "output_type": "stream",
     "text": [
      "100%|██████████| 10/10 [00:21<00:00,  2.17s/it]\n"
     ]
    },
    {
     "name": "stdout",
     "output_type": "stream",
     "text": [
      "      Accuracy: 93.00%  Equal Opportunity Disparity: 0.27\n",
      "|  Simulation : 45 | \n",
      "      seed : 45 -----\n"
     ]
    },
    {
     "name": "stderr",
     "output_type": "stream",
     "text": [
      "100%|██████████| 10/10 [00:21<00:00,  2.11s/it]\n"
     ]
    },
    {
     "name": "stdout",
     "output_type": "stream",
     "text": [
      "      Accuracy: 92.00%  Equal Opportunity Disparity: 0.21\n",
      "|  Simulation : 46 | \n",
      "      seed : 68 -----\n"
     ]
    },
    {
     "name": "stderr",
     "output_type": "stream",
     "text": [
      "100%|██████████| 10/10 [00:21<00:00,  2.14s/it]\n"
     ]
    },
    {
     "name": "stdout",
     "output_type": "stream",
     "text": [
      "      Accuracy: 91.00%  Equal Opportunity Disparity: 0.10\n",
      "|  Simulation : 47 | \n",
      "      seed : 91 -----\n"
     ]
    },
    {
     "name": "stderr",
     "output_type": "stream",
     "text": [
      "100%|██████████| 10/10 [00:23<00:00,  2.32s/it]\n"
     ]
    },
    {
     "name": "stdout",
     "output_type": "stream",
     "text": [
      "      Accuracy: 85.00%  Equal Opportunity Disparity: 0.10\n",
      "|  Simulation : 48 | \n",
      "      seed : 115 -----\n"
     ]
    },
    {
     "name": "stderr",
     "output_type": "stream",
     "text": [
      "100%|██████████| 10/10 [00:23<00:00,  2.40s/it]\n"
     ]
    },
    {
     "name": "stdout",
     "output_type": "stream",
     "text": [
      "      Accuracy: 91.00%  Equal Opportunity Disparity: 0.10\n",
      "|  Simulation : 49 | \n",
      "      seed : 141 -----\n"
     ]
    },
    {
     "name": "stderr",
     "output_type": "stream",
     "text": [
      "100%|██████████| 10/10 [00:23<00:00,  2.35s/it]\n"
     ]
    },
    {
     "name": "stdout",
     "output_type": "stream",
     "text": [
      "      Accuracy: 83.00%  Equal Opportunity Disparity: 0.28\n",
      "|  Simulation : 50 | \n",
      "      seed : 166 -----\n"
     ]
    },
    {
     "name": "stderr",
     "output_type": "stream",
     "text": [
      "100%|██████████| 10/10 [00:22<00:00,  2.27s/it]\n"
     ]
    },
    {
     "name": "stdout",
     "output_type": "stream",
     "text": [
      "      Accuracy: 91.00%  Equal Opportunity Disparity: 0.26\n",
      "|  Simulation : 51 | \n",
      "      seed : 191 -----\n"
     ]
    },
    {
     "name": "stderr",
     "output_type": "stream",
     "text": [
      "100%|██████████| 10/10 [00:30<00:00,  3.03s/it]\n"
     ]
    },
    {
     "name": "stdout",
     "output_type": "stream",
     "text": [
      "      Accuracy: 86.00%  Equal Opportunity Disparity: 0.18\n",
      "|  Simulation : 52 | \n",
      "      seed : 223 -----\n"
     ]
    },
    {
     "name": "stderr",
     "output_type": "stream",
     "text": [
      "100%|██████████| 10/10 [00:28<00:00,  2.86s/it]\n"
     ]
    },
    {
     "name": "stdout",
     "output_type": "stream",
     "text": [
      "      Accuracy: 86.00%  Equal Opportunity Disparity: 0.09\n",
      "|  Simulation : 53 | \n",
      "      seed : 253 -----\n"
     ]
    },
    {
     "name": "stderr",
     "output_type": "stream",
     "text": [
      "100%|██████████| 10/10 [00:23<00:00,  2.37s/it]\n"
     ]
    },
    {
     "name": "stdout",
     "output_type": "stream",
     "text": [
      "      Accuracy: 79.00%  Equal Opportunity Disparity: 0.33\n",
      "|  Simulation : 54 | \n",
      "      seed : 279 -----\n"
     ]
    },
    {
     "name": "stderr",
     "output_type": "stream",
     "text": [
      "100%|██████████| 10/10 [00:23<00:00,  2.31s/it]\n"
     ]
    },
    {
     "name": "stdout",
     "output_type": "stream",
     "text": [
      "      Accuracy: 86.00%  Equal Opportunity Disparity: 0.27\n",
      "|  Simulation : 55 | \n",
      "      seed : 304 -----\n"
     ]
    },
    {
     "name": "stderr",
     "output_type": "stream",
     "text": [
      "100%|██████████| 10/10 [00:23<00:00,  2.32s/it]\n"
     ]
    },
    {
     "name": "stdout",
     "output_type": "stream",
     "text": [
      "      Accuracy: 90.00%  Equal Opportunity Disparity: 0.40\n",
      "|  Simulation : 56 | \n",
      "      seed : 328 -----\n"
     ]
    },
    {
     "name": "stderr",
     "output_type": "stream",
     "text": [
      "100%|██████████| 10/10 [00:22<00:00,  2.29s/it]\n"
     ]
    },
    {
     "name": "stdout",
     "output_type": "stream",
     "text": [
      "      Accuracy: 84.00%  Equal Opportunity Disparity: 0.38\n",
      "|  Simulation : 57 | \n",
      "      seed : 353 -----\n"
     ]
    },
    {
     "name": "stderr",
     "output_type": "stream",
     "text": [
      "100%|██████████| 10/10 [00:24<00:00,  2.41s/it]\n"
     ]
    },
    {
     "name": "stdout",
     "output_type": "stream",
     "text": [
      "      Accuracy: 87.00%  Equal Opportunity Disparity: 0.25\n",
      "|  Simulation : 58 | \n",
      "      seed : 379 -----\n"
     ]
    },
    {
     "name": "stderr",
     "output_type": "stream",
     "text": [
      "100%|██████████| 10/10 [00:23<00:00,  2.33s/it]\n"
     ]
    },
    {
     "name": "stdout",
     "output_type": "stream",
     "text": [
      "      Accuracy: 86.00%  Equal Opportunity Disparity: 0.22\n",
      "|  Simulation : 59 | \n",
      "      seed : 404 -----\n"
     ]
    },
    {
     "name": "stderr",
     "output_type": "stream",
     "text": [
      "100%|██████████| 10/10 [00:26<00:00,  2.61s/it]\n"
     ]
    },
    {
     "name": "stdout",
     "output_type": "stream",
     "text": [
      "      Accuracy: 92.00%  Equal Opportunity Disparity: 0.44\n",
      "|  Simulation : 60 | \n",
      "      seed : 432 -----\n"
     ]
    },
    {
     "name": "stderr",
     "output_type": "stream",
     "text": [
      "100%|██████████| 10/10 [00:23<00:00,  2.36s/it]\n"
     ]
    },
    {
     "name": "stdout",
     "output_type": "stream",
     "text": [
      "      Accuracy: 86.00%  Equal Opportunity Disparity: 0.27\n",
      "|  Simulation : 61 | \n",
      "      seed : 457 -----\n"
     ]
    },
    {
     "name": "stderr",
     "output_type": "stream",
     "text": [
      "100%|██████████| 10/10 [00:24<00:00,  2.41s/it]\n"
     ]
    },
    {
     "name": "stdout",
     "output_type": "stream",
     "text": [
      "      Accuracy: 84.00%  Equal Opportunity Disparity: 0.08\n",
      "|  Simulation : 62 | \n",
      "      seed : 483 -----\n"
     ]
    },
    {
     "name": "stderr",
     "output_type": "stream",
     "text": [
      "100%|██████████| 10/10 [00:36<00:00,  3.64s/it]\n"
     ]
    },
    {
     "name": "stdout",
     "output_type": "stream",
     "text": [
      "      Accuracy: 92.00%  Equal Opportunity Disparity: 0.50\n",
      "|  Simulation : 63 | \n",
      "      seed : 521 -----\n"
     ]
    },
    {
     "name": "stderr",
     "output_type": "stream",
     "text": [
      "100%|██████████| 10/10 [00:32<00:00,  3.20s/it]\n"
     ]
    },
    {
     "name": "stdout",
     "output_type": "stream",
     "text": [
      "      Accuracy: 93.00%  Equal Opportunity Disparity: 0.03\n",
      "|  Simulation : 64 | \n",
      "      seed : 557 -----\n"
     ]
    },
    {
     "name": "stderr",
     "output_type": "stream",
     "text": [
      "100%|██████████| 10/10 [00:30<00:00,  3.04s/it]\n"
     ]
    },
    {
     "name": "stdout",
     "output_type": "stream",
     "text": [
      "      Accuracy: 87.00%  Equal Opportunity Disparity: 0.11\n",
      "|  Simulation : 65 | \n",
      "      seed : 589 -----\n"
     ]
    },
    {
     "name": "stderr",
     "output_type": "stream",
     "text": [
      "100%|██████████| 10/10 [00:40<00:00,  4.06s/it]\n"
     ]
    },
    {
     "name": "stdout",
     "output_type": "stream",
     "text": [
      "      Accuracy: 88.00%  Equal Opportunity Disparity: 0.26\n",
      "|  Simulation : 66 | \n",
      "      seed : 632 -----\n"
     ]
    },
    {
     "name": "stderr",
     "output_type": "stream",
     "text": [
      "100%|██████████| 10/10 [00:32<00:00,  3.25s/it]\n"
     ]
    },
    {
     "name": "stdout",
     "output_type": "stream",
     "text": [
      "      Accuracy: 93.00%  Equal Opportunity Disparity: 0.09\n",
      "|  Simulation : 67 | \n",
      "      seed : 666 -----\n"
     ]
    },
    {
     "name": "stderr",
     "output_type": "stream",
     "text": [
      "100%|██████████| 10/10 [00:29<00:00,  2.93s/it]\n"
     ]
    },
    {
     "name": "stdout",
     "output_type": "stream",
     "text": [
      "      Accuracy: 83.00%  Equal Opportunity Disparity: 0.37\n",
      "|  Simulation : 68 | \n",
      "      seed : 698 -----\n"
     ]
    },
    {
     "name": "stderr",
     "output_type": "stream",
     "text": [
      "100%|██████████| 10/10 [00:24<00:00,  2.46s/it]\n"
     ]
    },
    {
     "name": "stdout",
     "output_type": "stream",
     "text": [
      "      Accuracy: 86.00%  Equal Opportunity Disparity: 0.30\n",
      "|  Simulation : 69 | \n",
      "      seed : 724 -----\n"
     ]
    },
    {
     "name": "stderr",
     "output_type": "stream",
     "text": [
      "100%|██████████| 10/10 [00:26<00:00,  2.63s/it]\n"
     ]
    },
    {
     "name": "stdout",
     "output_type": "stream",
     "text": [
      "      Accuracy: 91.00%  Equal Opportunity Disparity: 0.27\n",
      "|  Simulation : 70 | \n",
      "      seed : 753 -----\n"
     ]
    },
    {
     "name": "stderr",
     "output_type": "stream",
     "text": [
      "100%|██████████| 10/10 [00:23<00:00,  2.39s/it]\n"
     ]
    },
    {
     "name": "stdout",
     "output_type": "stream",
     "text": [
      "      Accuracy: 88.00%  Equal Opportunity Disparity: 0.18\n",
      "|  Simulation : 71 | \n",
      "      seed : 779 -----\n"
     ]
    },
    {
     "name": "stderr",
     "output_type": "stream",
     "text": [
      "100%|██████████| 10/10 [00:22<00:00,  2.28s/it]\n"
     ]
    },
    {
     "name": "stdout",
     "output_type": "stream",
     "text": [
      "      Accuracy: 95.00%  Equal Opportunity Disparity: 0.02\n",
      "|  Simulation : 72 | \n",
      "      seed : 804 -----\n"
     ]
    },
    {
     "name": "stderr",
     "output_type": "stream",
     "text": [
      "100%|██████████| 10/10 [00:24<00:00,  2.49s/it]\n"
     ]
    },
    {
     "name": "stdout",
     "output_type": "stream",
     "text": [
      "      Accuracy: 87.00%  Equal Opportunity Disparity: 0.19\n",
      "|  Simulation : 73 | \n",
      "      seed : 830 -----\n"
     ]
    },
    {
     "name": "stderr",
     "output_type": "stream",
     "text": [
      "100%|██████████| 10/10 [00:23<00:00,  2.37s/it]\n"
     ]
    },
    {
     "name": "stdout",
     "output_type": "stream",
     "text": [
      "      Accuracy: 87.00%  Equal Opportunity Disparity: 0.33\n",
      "|  Simulation : 74 | \n",
      "      seed : 856 -----\n"
     ]
    },
    {
     "name": "stderr",
     "output_type": "stream",
     "text": [
      "100%|██████████| 10/10 [00:21<00:00,  2.11s/it]\n"
     ]
    },
    {
     "name": "stdout",
     "output_type": "stream",
     "text": [
      "      Accuracy: 87.00%  Equal Opportunity Disparity: 0.25\n",
      "|  Simulation : 75 | \n",
      "      seed : 879 -----\n"
     ]
    },
    {
     "name": "stderr",
     "output_type": "stream",
     "text": [
      "100%|██████████| 10/10 [00:23<00:00,  2.38s/it]\n"
     ]
    },
    {
     "name": "stdout",
     "output_type": "stream",
     "text": [
      "      Accuracy: 90.00%  Equal Opportunity Disparity: 0.24\n",
      "|  Simulation : 76 | \n",
      "      seed : 904 -----\n"
     ]
    },
    {
     "name": "stderr",
     "output_type": "stream",
     "text": [
      "100%|██████████| 10/10 [00:23<00:00,  2.38s/it]\n"
     ]
    },
    {
     "name": "stdout",
     "output_type": "stream",
     "text": [
      "      Accuracy: 86.00%  Equal Opportunity Disparity: 0.16\n",
      "|  Simulation : 77 | \n",
      "      seed : 929 -----\n"
     ]
    },
    {
     "name": "stderr",
     "output_type": "stream",
     "text": [
      "100%|██████████| 10/10 [00:25<00:00,  2.56s/it]\n"
     ]
    },
    {
     "name": "stdout",
     "output_type": "stream",
     "text": [
      "      Accuracy: 87.00%  Equal Opportunity Disparity: 0.20\n",
      "|  Simulation : 78 | \n",
      "      seed : 957 -----\n"
     ]
    },
    {
     "name": "stderr",
     "output_type": "stream",
     "text": [
      "100%|██████████| 10/10 [00:30<00:00,  3.03s/it]\n"
     ]
    },
    {
     "name": "stdout",
     "output_type": "stream",
     "text": [
      "      Accuracy: 92.00%  Equal Opportunity Disparity: 0.21\n",
      "|  Simulation : 79 | \n",
      "      seed : 989 -----\n"
     ]
    },
    {
     "name": "stderr",
     "output_type": "stream",
     "text": [
      "100%|██████████| 10/10 [00:29<00:00,  2.95s/it]\n"
     ]
    },
    {
     "name": "stdout",
     "output_type": "stream",
     "text": [
      "      Accuracy: 93.00%  Equal Opportunity Disparity: 0.10\n",
      "|  Simulation : 80 | \n",
      "      seed : 21 -----\n"
     ]
    },
    {
     "name": "stderr",
     "output_type": "stream",
     "text": [
      "100%|██████████| 10/10 [00:26<00:00,  2.70s/it]\n"
     ]
    },
    {
     "name": "stdout",
     "output_type": "stream",
     "text": [
      "      Accuracy: 85.00%  Equal Opportunity Disparity: 0.32\n",
      "|  Simulation : 81 | \n",
      "      seed : 50 -----\n"
     ]
    },
    {
     "name": "stderr",
     "output_type": "stream",
     "text": [
      "100%|██████████| 10/10 [00:32<00:00,  3.21s/it]\n"
     ]
    },
    {
     "name": "stdout",
     "output_type": "stream",
     "text": [
      "      Accuracy: 85.00%  Equal Opportunity Disparity: 0.31\n",
      "|  Simulation : 82 | \n",
      "      seed : 84 -----\n"
     ]
    },
    {
     "name": "stderr",
     "output_type": "stream",
     "text": [
      "100%|██████████| 10/10 [00:32<00:00,  3.30s/it]\n"
     ]
    },
    {
     "name": "stdout",
     "output_type": "stream",
     "text": [
      "      Accuracy: 85.00%  Equal Opportunity Disparity: 0.12\n",
      "|  Simulation : 83 | \n",
      "      seed : 127 -----\n"
     ]
    },
    {
     "name": "stderr",
     "output_type": "stream",
     "text": [
      "100%|██████████| 10/10 [00:33<00:00,  3.38s/it]\n"
     ]
    },
    {
     "name": "stdout",
     "output_type": "stream",
     "text": [
      "      Accuracy: 87.00%  Equal Opportunity Disparity: 0.39\n",
      "|  Simulation : 84 | \n",
      "      seed : 163 -----\n"
     ]
    },
    {
     "name": "stderr",
     "output_type": "stream",
     "text": [
      "100%|██████████| 10/10 [00:25<00:00,  2.53s/it]\n"
     ]
    },
    {
     "name": "stdout",
     "output_type": "stream",
     "text": [
      "      Accuracy: 84.00%  Equal Opportunity Disparity: 0.47\n",
      "|  Simulation : 85 | \n",
      "      seed : 191 -----\n"
     ]
    },
    {
     "name": "stderr",
     "output_type": "stream",
     "text": [
      "100%|██████████| 10/10 [00:29<00:00,  2.92s/it]\n"
     ]
    },
    {
     "name": "stdout",
     "output_type": "stream",
     "text": [
      "      Accuracy: 86.00%  Equal Opportunity Disparity: 0.18\n",
      "|  Simulation : 86 | \n",
      "      seed : 221 -----\n"
     ]
    },
    {
     "name": "stderr",
     "output_type": "stream",
     "text": [
      "100%|██████████| 10/10 [00:28<00:00,  2.83s/it]\n"
     ]
    },
    {
     "name": "stdout",
     "output_type": "stream",
     "text": [
      "      Accuracy: 86.00%  Equal Opportunity Disparity: 0.32\n",
      "|  Simulation : 87 | \n",
      "      seed : 252 -----\n"
     ]
    },
    {
     "name": "stderr",
     "output_type": "stream",
     "text": [
      "100%|██████████| 10/10 [00:25<00:00,  2.52s/it]\n"
     ]
    },
    {
     "name": "stdout",
     "output_type": "stream",
     "text": [
      "      Accuracy: 91.00%  Equal Opportunity Disparity: 0.49\n",
      "|  Simulation : 88 | \n",
      "      seed : 278 -----\n"
     ]
    },
    {
     "name": "stderr",
     "output_type": "stream",
     "text": [
      "100%|██████████| 10/10 [00:25<00:00,  2.53s/it]\n"
     ]
    },
    {
     "name": "stdout",
     "output_type": "stream",
     "text": [
      "      Accuracy: 87.00%  Equal Opportunity Disparity: 0.28\n",
      "|  Simulation : 89 | \n",
      "      seed : 306 -----\n"
     ]
    },
    {
     "name": "stderr",
     "output_type": "stream",
     "text": [
      "100%|██████████| 10/10 [00:30<00:00,  3.01s/it]\n"
     ]
    },
    {
     "name": "stdout",
     "output_type": "stream",
     "text": [
      "      Accuracy: 89.00%  Equal Opportunity Disparity: 0.22\n",
      "|  Simulation : 90 | \n",
      "      seed : 337 -----\n"
     ]
    },
    {
     "name": "stderr",
     "output_type": "stream",
     "text": [
      "100%|██████████| 10/10 [00:24<00:00,  2.49s/it]\n"
     ]
    },
    {
     "name": "stdout",
     "output_type": "stream",
     "text": [
      "      Accuracy: 93.00%  Equal Opportunity Disparity: 0.27\n",
      "|  Simulation : 91 | \n",
      "      seed : 364 -----\n"
     ]
    },
    {
     "name": "stderr",
     "output_type": "stream",
     "text": [
      "100%|██████████| 10/10 [00:35<00:00,  3.52s/it]\n"
     ]
    },
    {
     "name": "stdout",
     "output_type": "stream",
     "text": [
      "      Accuracy: 91.00%  Equal Opportunity Disparity: 0.11\n",
      "|  Simulation : 92 | \n",
      "      seed : 401 -----\n"
     ]
    },
    {
     "name": "stderr",
     "output_type": "stream",
     "text": [
      "100%|██████████| 10/10 [00:31<00:00,  3.13s/it]\n"
     ]
    },
    {
     "name": "stdout",
     "output_type": "stream",
     "text": [
      "      Accuracy: 83.00%  Equal Opportunity Disparity: 0.23\n",
      "|  Simulation : 93 | \n",
      "      seed : 435 -----\n"
     ]
    },
    {
     "name": "stderr",
     "output_type": "stream",
     "text": [
      "100%|██████████| 10/10 [00:33<00:00,  3.36s/it]\n"
     ]
    },
    {
     "name": "stdout",
     "output_type": "stream",
     "text": [
      "      Accuracy: 89.00%  Equal Opportunity Disparity: 0.41\n",
      "|  Simulation : 94 | \n",
      "      seed : 471 -----\n"
     ]
    },
    {
     "name": "stderr",
     "output_type": "stream",
     "text": [
      "100%|██████████| 10/10 [00:35<00:00,  3.51s/it]\n"
     ]
    },
    {
     "name": "stdout",
     "output_type": "stream",
     "text": [
      "      Accuracy: 87.00%  Equal Opportunity Disparity: 0.24\n",
      "|  Simulation : 95 | \n",
      "      seed : 508 -----\n"
     ]
    },
    {
     "name": "stderr",
     "output_type": "stream",
     "text": [
      "100%|██████████| 10/10 [00:36<00:00,  3.63s/it]\n"
     ]
    },
    {
     "name": "stdout",
     "output_type": "stream",
     "text": [
      "      Accuracy: 91.00%  Equal Opportunity Disparity: 0.14\n",
      "|  Simulation : 96 | \n",
      "      seed : 547 -----\n"
     ]
    },
    {
     "name": "stderr",
     "output_type": "stream",
     "text": [
      "100%|██████████| 10/10 [00:34<00:00,  3.41s/it]\n"
     ]
    },
    {
     "name": "stdout",
     "output_type": "stream",
     "text": [
      "      Accuracy: 87.00%  Equal Opportunity Disparity: 0.31\n",
      "|  Simulation : 97 | \n",
      "      seed : 583 -----\n"
     ]
    },
    {
     "name": "stderr",
     "output_type": "stream",
     "text": [
      "100%|██████████| 10/10 [00:32<00:00,  3.29s/it]\n"
     ]
    },
    {
     "name": "stdout",
     "output_type": "stream",
     "text": [
      "      Accuracy: 88.00%  Equal Opportunity Disparity: 0.40\n",
      "|  Simulation : 98 | \n",
      "      seed : 618 -----\n"
     ]
    },
    {
     "name": "stderr",
     "output_type": "stream",
     "text": [
      "100%|██████████| 10/10 [00:26<00:00,  2.63s/it]\n"
     ]
    },
    {
     "name": "stdout",
     "output_type": "stream",
     "text": [
      "      Accuracy: 87.00%  Equal Opportunity Disparity: 0.47\n",
      "|  Simulation : 99 | \n",
      "      seed : 646 -----\n"
     ]
    },
    {
     "name": "stderr",
     "output_type": "stream",
     "text": [
      "100%|██████████| 10/10 [00:27<00:00,  2.73s/it]\n"
     ]
    },
    {
     "name": "stdout",
     "output_type": "stream",
     "text": [
      "      Accuracy: 87.00%  Equal Opportunity Disparity: 0.36\n",
      "|  Simulation : 100 | \n",
      "      seed : 675 -----\n"
     ]
    },
    {
     "name": "stderr",
     "output_type": "stream",
     "text": [
      "100%|██████████| 10/10 [00:32<00:00,  3.29s/it]"
     ]
    },
    {
     "name": "stdout",
     "output_type": "stream",
     "text": [
      "      Accuracy: 89.00%  Equal Opportunity Disparity: 0.29\n",
      "| Test Accuracy: 0.882(0.032) | Equal Opportunity Disparity: 0.243(0.121) |\n",
      "| Time elapsed: 2980.43 seconds |\n"
     ]
    },
    {
     "name": "stderr",
     "output_type": "stream",
     "text": [
      "\n"
     ]
    },
    {
     "data": {
      "text/plain": [
       "(0.8819000000000001,\n",
       " 0.03189655153774466,\n",
       " 0.2429549936876367,\n",
       " 0.12114464120047151)"
      ]
     },
     "execution_count": 6,
     "metadata": {},
     "output_type": "execute_result"
    }
   ],
   "source": [
    "# Unconstrained 100\n",
    "runSim(num_sim = 100, train_samples = 3000, test_samples = 100, learning_rate = 0.001, num_rounds = 10, \n",
    "          local_epochs = 30, optimizer = 'adam', option = \"unconstrained\")"
   ]
  },
  {
   "cell_type": "code",
   "execution_count": 2,
   "metadata": {
    "scrolled": true
   },
   "outputs": [
    {
     "name": "stdout",
     "output_type": "stream",
     "text": [
      "|  Simulation : 1 | \n",
      "      seed : 801 -----\n"
     ]
    },
    {
     "name": "stderr",
     "output_type": "stream",
     "text": [
      "100%|██████████| 10/10 [00:34<00:00,  3.43s/it]\n"
     ]
    },
    {
     "name": "stdout",
     "output_type": "stream",
     "text": [
      "      Accuracy: 85.00%  Equal Opportunity Disparity: 0.32\n",
      "|  Simulation : 2 | \n",
      "      seed : 838 -----\n"
     ]
    },
    {
     "name": "stderr",
     "output_type": "stream",
     "text": [
      "100%|██████████| 10/10 [00:33<00:00,  3.32s/it]\n"
     ]
    },
    {
     "name": "stdout",
     "output_type": "stream",
     "text": [
      "      Accuracy: 81.00%  Equal Opportunity Disparity: 0.30\n",
      "|  Simulation : 3 | \n",
      "      seed : 873 -----\n"
     ]
    },
    {
     "name": "stderr",
     "output_type": "stream",
     "text": [
      "100%|██████████| 10/10 [00:33<00:00,  3.36s/it]\n"
     ]
    },
    {
     "name": "stdout",
     "output_type": "stream",
     "text": [
      "      Accuracy: 84.00%  Equal Opportunity Disparity: 0.06\n",
      "|  Simulation : 4 | \n",
      "      seed : 908 -----\n"
     ]
    },
    {
     "name": "stderr",
     "output_type": "stream",
     "text": [
      "100%|██████████| 10/10 [00:33<00:00,  3.30s/it]\n"
     ]
    },
    {
     "name": "stdout",
     "output_type": "stream",
     "text": [
      "      Accuracy: 85.00%  Equal Opportunity Disparity: 0.18\n",
      "|  Simulation : 5 | \n",
      "      seed : 943 -----\n"
     ]
    },
    {
     "name": "stderr",
     "output_type": "stream",
     "text": [
      "100%|██████████| 10/10 [00:31<00:00,  3.15s/it]\n"
     ]
    },
    {
     "name": "stdout",
     "output_type": "stream",
     "text": [
      "      Accuracy: 84.00%  Equal Opportunity Disparity: 0.13\n",
      "|  Simulation : 6 | \n",
      "      seed : 977 -----\n"
     ]
    },
    {
     "name": "stderr",
     "output_type": "stream",
     "text": [
      "100%|██████████| 10/10 [00:31<00:00,  3.12s/it]\n"
     ]
    },
    {
     "name": "stdout",
     "output_type": "stream",
     "text": [
      "      Accuracy: 88.00%  Equal Opportunity Disparity: 0.07\n",
      "|  Simulation : 7 | \n",
      "      seed : 10 -----\n"
     ]
    },
    {
     "name": "stderr",
     "output_type": "stream",
     "text": [
      "100%|██████████| 10/10 [00:30<00:00,  3.04s/it]\n"
     ]
    },
    {
     "name": "stdout",
     "output_type": "stream",
     "text": [
      "      Accuracy: 87.00%  Equal Opportunity Disparity: 0.04\n",
      "|  Simulation : 8 | \n",
      "      seed : 42 -----\n"
     ]
    },
    {
     "name": "stderr",
     "output_type": "stream",
     "text": [
      "100%|██████████| 10/10 [00:30<00:00,  3.03s/it]\n"
     ]
    },
    {
     "name": "stdout",
     "output_type": "stream",
     "text": [
      "      Accuracy: 91.00%  Equal Opportunity Disparity: 0.02\n",
      "|  Simulation : 9 | \n",
      "      seed : 74 -----\n"
     ]
    },
    {
     "name": "stderr",
     "output_type": "stream",
     "text": [
      "100%|██████████| 10/10 [00:27<00:00,  2.79s/it]\n"
     ]
    },
    {
     "name": "stdout",
     "output_type": "stream",
     "text": [
      "      Accuracy: 85.00%  Equal Opportunity Disparity: 0.02\n",
      "|  Simulation : 10 | \n",
      "      seed : 103 -----\n"
     ]
    },
    {
     "name": "stderr",
     "output_type": "stream",
     "text": [
      "100%|██████████| 10/10 [00:30<00:00,  3.04s/it]\n"
     ]
    },
    {
     "name": "stdout",
     "output_type": "stream",
     "text": [
      "      Accuracy: 86.00%  Equal Opportunity Disparity: 0.18\n",
      "|  Simulation : 11 | \n",
      "      seed : 135 -----\n"
     ]
    },
    {
     "name": "stderr",
     "output_type": "stream",
     "text": [
      "100%|██████████| 10/10 [00:40<00:00,  4.02s/it]\n"
     ]
    },
    {
     "name": "stdout",
     "output_type": "stream",
     "text": [
      "      Accuracy: 87.00%  Equal Opportunity Disparity: 0.03\n",
      "|  Simulation : 12 | \n",
      "      seed : 178 -----\n"
     ]
    },
    {
     "name": "stderr",
     "output_type": "stream",
     "text": [
      "100%|██████████| 10/10 [00:33<00:00,  3.32s/it]\n"
     ]
    },
    {
     "name": "stdout",
     "output_type": "stream",
     "text": [
      "      Accuracy: 86.00%  Equal Opportunity Disparity: 0.07\n",
      "|  Simulation : 13 | \n",
      "      seed : 214 -----\n"
     ]
    },
    {
     "name": "stderr",
     "output_type": "stream",
     "text": [
      "100%|██████████| 10/10 [00:34<00:00,  3.45s/it]\n"
     ]
    },
    {
     "name": "stdout",
     "output_type": "stream",
     "text": [
      "      Accuracy: 82.00%  Equal Opportunity Disparity: 0.02\n",
      "|  Simulation : 14 | \n",
      "      seed : 250 -----\n"
     ]
    },
    {
     "name": "stderr",
     "output_type": "stream",
     "text": [
      "100%|██████████| 10/10 [00:28<00:00,  2.89s/it]\n"
     ]
    },
    {
     "name": "stdout",
     "output_type": "stream",
     "text": [
      "      Accuracy: 89.00%  Equal Opportunity Disparity: 0.00\n",
      "|  Simulation : 15 | \n",
      "      seed : 281 -----\n"
     ]
    },
    {
     "name": "stderr",
     "output_type": "stream",
     "text": [
      "100%|██████████| 10/10 [00:32<00:00,  3.28s/it]\n"
     ]
    },
    {
     "name": "stdout",
     "output_type": "stream",
     "text": [
      "      Accuracy: 87.00%  Equal Opportunity Disparity: 0.07\n",
      "|  Simulation : 16 | \n",
      "      seed : 315 -----\n"
     ]
    },
    {
     "name": "stderr",
     "output_type": "stream",
     "text": [
      "100%|██████████| 10/10 [00:29<00:00,  2.91s/it]\n"
     ]
    },
    {
     "name": "stdout",
     "output_type": "stream",
     "text": [
      "      Accuracy: 81.00%  Equal Opportunity Disparity: 0.21\n",
      "|  Simulation : 17 | \n",
      "      seed : 346 -----\n"
     ]
    },
    {
     "name": "stderr",
     "output_type": "stream",
     "text": [
      "100%|██████████| 10/10 [00:28<00:00,  2.86s/it]\n"
     ]
    },
    {
     "name": "stdout",
     "output_type": "stream",
     "text": [
      "      Accuracy: 85.00%  Equal Opportunity Disparity: 0.07\n",
      "|  Simulation : 18 | \n",
      "      seed : 376 -----\n"
     ]
    },
    {
     "name": "stderr",
     "output_type": "stream",
     "text": [
      "100%|██████████| 10/10 [00:30<00:00,  3.01s/it]\n"
     ]
    },
    {
     "name": "stdout",
     "output_type": "stream",
     "text": [
      "      Accuracy: 81.00%  Equal Opportunity Disparity: 0.01\n",
      "|  Simulation : 19 | \n",
      "      seed : 408 -----\n"
     ]
    },
    {
     "name": "stderr",
     "output_type": "stream",
     "text": [
      "100%|██████████| 10/10 [00:29<00:00,  2.94s/it]\n"
     ]
    },
    {
     "name": "stdout",
     "output_type": "stream",
     "text": [
      "      Accuracy: 90.00%  Equal Opportunity Disparity: 0.04\n",
      "|  Simulation : 20 | \n",
      "      seed : 441 -----\n"
     ]
    },
    {
     "name": "stderr",
     "output_type": "stream",
     "text": [
      "100%|██████████| 10/10 [00:28<00:00,  2.89s/it]\n"
     ]
    },
    {
     "name": "stdout",
     "output_type": "stream",
     "text": [
      "      Accuracy: 81.00%  Equal Opportunity Disparity: 0.01\n",
      "|  Simulation : 21 | \n",
      "      seed : 472 -----\n"
     ]
    },
    {
     "name": "stderr",
     "output_type": "stream",
     "text": [
      "100%|██████████| 10/10 [00:29<00:00,  2.93s/it]\n"
     ]
    },
    {
     "name": "stdout",
     "output_type": "stream",
     "text": [
      "      Accuracy: 84.00%  Equal Opportunity Disparity: 0.13\n",
      "|  Simulation : 22 | \n",
      "      seed : 503 -----\n"
     ]
    },
    {
     "name": "stderr",
     "output_type": "stream",
     "text": [
      "100%|██████████| 10/10 [00:29<00:00,  2.97s/it]\n"
     ]
    },
    {
     "name": "stdout",
     "output_type": "stream",
     "text": [
      "      Accuracy: 90.00%  Equal Opportunity Disparity: 0.05\n",
      "|  Simulation : 23 | \n",
      "      seed : 534 -----\n"
     ]
    },
    {
     "name": "stderr",
     "output_type": "stream",
     "text": [
      "100%|██████████| 10/10 [00:32<00:00,  3.27s/it]\n"
     ]
    },
    {
     "name": "stdout",
     "output_type": "stream",
     "text": [
      "      Accuracy: 88.00%  Equal Opportunity Disparity: 0.06\n",
      "|  Simulation : 24 | \n",
      "      seed : 568 -----\n"
     ]
    },
    {
     "name": "stderr",
     "output_type": "stream",
     "text": [
      "100%|██████████| 10/10 [00:29<00:00,  2.93s/it]\n"
     ]
    },
    {
     "name": "stdout",
     "output_type": "stream",
     "text": [
      "      Accuracy: 85.00%  Equal Opportunity Disparity: 0.25\n",
      "|  Simulation : 25 | \n",
      "      seed : 599 -----\n"
     ]
    },
    {
     "name": "stderr",
     "output_type": "stream",
     "text": [
      "100%|██████████| 10/10 [00:28<00:00,  2.90s/it]\n"
     ]
    },
    {
     "name": "stdout",
     "output_type": "stream",
     "text": [
      "      Accuracy: 77.00%  Equal Opportunity Disparity: 0.10\n",
      "|  Simulation : 26 | \n",
      "      seed : 630 -----\n"
     ]
    },
    {
     "name": "stderr",
     "output_type": "stream",
     "text": [
      "100%|██████████| 10/10 [00:29<00:00,  2.94s/it]\n"
     ]
    },
    {
     "name": "stdout",
     "output_type": "stream",
     "text": [
      "      Accuracy: 86.00%  Equal Opportunity Disparity: 0.00\n",
      "|  Simulation : 27 | \n",
      "      seed : 661 -----\n"
     ]
    },
    {
     "name": "stderr",
     "output_type": "stream",
     "text": [
      "100%|██████████| 10/10 [00:32<00:00,  3.26s/it]\n"
     ]
    },
    {
     "name": "stdout",
     "output_type": "stream",
     "text": [
      "      Accuracy: 75.00%  Equal Opportunity Disparity: 0.07\n",
      "|  Simulation : 28 | \n",
      "      seed : 696 -----\n"
     ]
    },
    {
     "name": "stderr",
     "output_type": "stream",
     "text": [
      "100%|██████████| 10/10 [00:28<00:00,  2.85s/it]\n"
     ]
    },
    {
     "name": "stdout",
     "output_type": "stream",
     "text": [
      "      Accuracy: 83.00%  Equal Opportunity Disparity: 0.02\n",
      "|  Simulation : 29 | \n",
      "      seed : 726 -----\n"
     ]
    },
    {
     "name": "stderr",
     "output_type": "stream",
     "text": [
      "100%|██████████| 10/10 [00:28<00:00,  2.85s/it]\n"
     ]
    },
    {
     "name": "stdout",
     "output_type": "stream",
     "text": [
      "      Accuracy: 92.00%  Equal Opportunity Disparity: 0.13\n",
      "|  Simulation : 30 | \n",
      "      seed : 756 -----\n"
     ]
    },
    {
     "name": "stderr",
     "output_type": "stream",
     "text": [
      "100%|██████████| 10/10 [00:35<00:00,  3.57s/it]\n"
     ]
    },
    {
     "name": "stdout",
     "output_type": "stream",
     "text": [
      "      Accuracy: 82.00%  Equal Opportunity Disparity: 0.02\n",
      "|  Simulation : 31 | \n",
      "      seed : 793 -----\n"
     ]
    },
    {
     "name": "stderr",
     "output_type": "stream",
     "text": [
      "100%|██████████| 10/10 [00:28<00:00,  2.87s/it]\n"
     ]
    },
    {
     "name": "stdout",
     "output_type": "stream",
     "text": [
      "      Accuracy: 87.00%  Equal Opportunity Disparity: 0.05\n",
      "|  Simulation : 32 | \n",
      "      seed : 824 -----\n"
     ]
    },
    {
     "name": "stderr",
     "output_type": "stream",
     "text": [
      "100%|██████████| 10/10 [00:28<00:00,  2.89s/it]\n"
     ]
    },
    {
     "name": "stdout",
     "output_type": "stream",
     "text": [
      "      Accuracy: 90.00%  Equal Opportunity Disparity: 0.03\n",
      "|  Simulation : 33 | \n",
      "      seed : 854 -----\n"
     ]
    },
    {
     "name": "stderr",
     "output_type": "stream",
     "text": [
      "100%|██████████| 10/10 [00:29<00:00,  2.94s/it]\n"
     ]
    },
    {
     "name": "stdout",
     "output_type": "stream",
     "text": [
      "      Accuracy: 79.00%  Equal Opportunity Disparity: 0.08\n",
      "|  Simulation : 34 | \n",
      "      seed : 885 -----\n"
     ]
    },
    {
     "name": "stderr",
     "output_type": "stream",
     "text": [
      "100%|██████████| 10/10 [00:30<00:00,  3.02s/it]\n"
     ]
    },
    {
     "name": "stdout",
     "output_type": "stream",
     "text": [
      "      Accuracy: 89.00%  Equal Opportunity Disparity: 0.01\n",
      "|  Simulation : 35 | \n",
      "      seed : 923 -----\n"
     ]
    },
    {
     "name": "stderr",
     "output_type": "stream",
     "text": [
      "100%|██████████| 10/10 [00:28<00:00,  2.86s/it]\n"
     ]
    },
    {
     "name": "stdout",
     "output_type": "stream",
     "text": [
      "      Accuracy: 87.00%  Equal Opportunity Disparity: 0.11\n",
      "|  Simulation : 36 | \n",
      "      seed : 953 -----\n"
     ]
    },
    {
     "name": "stderr",
     "output_type": "stream",
     "text": [
      "100%|██████████| 10/10 [00:28<00:00,  2.87s/it]\n"
     ]
    },
    {
     "name": "stdout",
     "output_type": "stream",
     "text": [
      "      Accuracy: 84.00%  Equal Opportunity Disparity: 0.07\n",
      "|  Simulation : 37 | \n",
      "      seed : 983 -----\n"
     ]
    },
    {
     "name": "stderr",
     "output_type": "stream",
     "text": [
      "100%|██████████| 10/10 [00:32<00:00,  3.22s/it]\n"
     ]
    },
    {
     "name": "stdout",
     "output_type": "stream",
     "text": [
      "      Accuracy: 88.00%  Equal Opportunity Disparity: 0.01\n",
      "|  Simulation : 38 | \n",
      "      seed : 17 -----\n"
     ]
    },
    {
     "name": "stderr",
     "output_type": "stream",
     "text": [
      "100%|██████████| 10/10 [00:33<00:00,  3.34s/it]\n"
     ]
    },
    {
     "name": "stdout",
     "output_type": "stream",
     "text": [
      "      Accuracy: 85.00%  Equal Opportunity Disparity: 0.08\n",
      "|  Simulation : 39 | \n",
      "      seed : 54 -----\n"
     ]
    },
    {
     "name": "stderr",
     "output_type": "stream",
     "text": [
      "100%|██████████| 10/10 [00:29<00:00,  2.96s/it]\n"
     ]
    },
    {
     "name": "stdout",
     "output_type": "stream",
     "text": [
      "      Accuracy: 83.00%  Equal Opportunity Disparity: 0.06\n",
      "|  Simulation : 40 | \n",
      "      seed : 85 -----\n"
     ]
    },
    {
     "name": "stderr",
     "output_type": "stream",
     "text": [
      "100%|██████████| 10/10 [00:29<00:00,  2.91s/it]\n"
     ]
    },
    {
     "name": "stdout",
     "output_type": "stream",
     "text": [
      "      Accuracy: 89.00%  Equal Opportunity Disparity: 0.08\n",
      "|  Simulation : 41 | \n",
      "      seed : 116 -----\n"
     ]
    },
    {
     "name": "stderr",
     "output_type": "stream",
     "text": [
      "100%|██████████| 10/10 [00:33<00:00,  3.33s/it]\n"
     ]
    },
    {
     "name": "stdout",
     "output_type": "stream",
     "text": [
      "      Accuracy: 87.00%  Equal Opportunity Disparity: 0.02\n",
      "|  Simulation : 42 | \n",
      "      seed : 151 -----\n"
     ]
    },
    {
     "name": "stderr",
     "output_type": "stream",
     "text": [
      "100%|██████████| 10/10 [00:29<00:00,  2.93s/it]\n"
     ]
    },
    {
     "name": "stdout",
     "output_type": "stream",
     "text": [
      "      Accuracy: 81.00%  Equal Opportunity Disparity: 0.04\n",
      "|  Simulation : 43 | \n",
      "      seed : 182 -----\n"
     ]
    },
    {
     "name": "stderr",
     "output_type": "stream",
     "text": [
      "100%|██████████| 10/10 [00:34<00:00,  3.41s/it]\n"
     ]
    },
    {
     "name": "stdout",
     "output_type": "stream",
     "text": [
      "      Accuracy: 77.00%  Equal Opportunity Disparity: 0.23\n",
      "|  Simulation : 44 | \n",
      "      seed : 218 -----\n"
     ]
    },
    {
     "name": "stderr",
     "output_type": "stream",
     "text": [
      "100%|██████████| 10/10 [00:31<00:00,  3.15s/it]\n"
     ]
    },
    {
     "name": "stdout",
     "output_type": "stream",
     "text": [
      "      Accuracy: 75.00%  Equal Opportunity Disparity: 0.15\n",
      "|  Simulation : 45 | \n",
      "      seed : 252 -----\n"
     ]
    },
    {
     "name": "stderr",
     "output_type": "stream",
     "text": [
      "100%|██████████| 10/10 [00:42<00:00,  4.27s/it]\n"
     ]
    },
    {
     "name": "stdout",
     "output_type": "stream",
     "text": [
      "      Accuracy: 89.00%  Equal Opportunity Disparity: 0.02\n",
      "|  Simulation : 46 | \n",
      "      seed : 297 -----\n"
     ]
    },
    {
     "name": "stderr",
     "output_type": "stream",
     "text": [
      "100%|██████████| 10/10 [00:29<00:00,  2.94s/it]\n"
     ]
    },
    {
     "name": "stdout",
     "output_type": "stream",
     "text": [
      "      Accuracy: 86.00%  Equal Opportunity Disparity: 0.05\n",
      "|  Simulation : 47 | \n",
      "      seed : 328 -----\n"
     ]
    },
    {
     "name": "stderr",
     "output_type": "stream",
     "text": [
      "100%|██████████| 10/10 [00:29<00:00,  2.91s/it]\n"
     ]
    },
    {
     "name": "stdout",
     "output_type": "stream",
     "text": [
      "      Accuracy: 81.00%  Equal Opportunity Disparity: 0.05\n",
      "|  Simulation : 48 | \n",
      "      seed : 359 -----\n"
     ]
    },
    {
     "name": "stderr",
     "output_type": "stream",
     "text": [
      "100%|██████████| 10/10 [00:30<00:00,  3.05s/it]\n"
     ]
    },
    {
     "name": "stdout",
     "output_type": "stream",
     "text": [
      "      Accuracy: 87.00%  Equal Opportunity Disparity: 0.02\n",
      "|  Simulation : 49 | \n",
      "      seed : 391 -----\n"
     ]
    },
    {
     "name": "stderr",
     "output_type": "stream",
     "text": [
      "100%|██████████| 10/10 [00:28<00:00,  2.89s/it]\n"
     ]
    },
    {
     "name": "stdout",
     "output_type": "stream",
     "text": [
      "      Accuracy: 87.00%  Equal Opportunity Disparity: 0.12\n",
      "|  Simulation : 50 | \n",
      "      seed : 422 -----\n"
     ]
    },
    {
     "name": "stderr",
     "output_type": "stream",
     "text": [
      "100%|██████████| 10/10 [00:29<00:00,  2.94s/it]\n"
     ]
    },
    {
     "name": "stdout",
     "output_type": "stream",
     "text": [
      "      Accuracy: 83.00%  Equal Opportunity Disparity: 0.07\n",
      "|  Simulation : 51 | \n",
      "      seed : 453 -----\n"
     ]
    },
    {
     "name": "stderr",
     "output_type": "stream",
     "text": [
      "100%|██████████| 10/10 [00:28<00:00,  2.86s/it]\n"
     ]
    },
    {
     "name": "stdout",
     "output_type": "stream",
     "text": [
      "      Accuracy: 79.00%  Equal Opportunity Disparity: 0.04\n",
      "|  Simulation : 52 | \n",
      "      seed : 483 -----\n"
     ]
    },
    {
     "name": "stderr",
     "output_type": "stream",
     "text": [
      "100%|██████████| 10/10 [00:30<00:00,  3.06s/it]\n"
     ]
    },
    {
     "name": "stdout",
     "output_type": "stream",
     "text": [
      "      Accuracy: 82.00%  Equal Opportunity Disparity: 0.48\n",
      "|  Simulation : 53 | \n",
      "      seed : 515 -----\n"
     ]
    },
    {
     "name": "stderr",
     "output_type": "stream",
     "text": [
      "100%|██████████| 10/10 [00:28<00:00,  2.85s/it]\n"
     ]
    },
    {
     "name": "stdout",
     "output_type": "stream",
     "text": [
      "      Accuracy: 80.00%  Equal Opportunity Disparity: 0.01\n",
      "|  Simulation : 54 | \n",
      "      seed : 545 -----\n"
     ]
    },
    {
     "name": "stderr",
     "output_type": "stream",
     "text": [
      "100%|██████████| 10/10 [00:28<00:00,  2.90s/it]\n"
     ]
    },
    {
     "name": "stdout",
     "output_type": "stream",
     "text": [
      "      Accuracy: 84.00%  Equal Opportunity Disparity: 0.03\n",
      "|  Simulation : 55 | \n",
      "      seed : 576 -----\n"
     ]
    },
    {
     "name": "stderr",
     "output_type": "stream",
     "text": [
      "100%|██████████| 10/10 [00:28<00:00,  2.89s/it]\n"
     ]
    },
    {
     "name": "stdout",
     "output_type": "stream",
     "text": [
      "      Accuracy: 77.00%  Equal Opportunity Disparity: 0.08\n",
      "|  Simulation : 56 | \n",
      "      seed : 607 -----\n"
     ]
    },
    {
     "name": "stderr",
     "output_type": "stream",
     "text": [
      "100%|██████████| 10/10 [00:35<00:00,  3.55s/it]\n"
     ]
    },
    {
     "name": "stdout",
     "output_type": "stream",
     "text": [
      "      Accuracy: 87.00%  Equal Opportunity Disparity: 0.03\n",
      "|  Simulation : 57 | \n",
      "      seed : 644 -----\n"
     ]
    },
    {
     "name": "stderr",
     "output_type": "stream",
     "text": [
      "100%|██████████| 10/10 [00:29<00:00,  2.91s/it]\n"
     ]
    },
    {
     "name": "stdout",
     "output_type": "stream",
     "text": [
      "      Accuracy: 81.00%  Equal Opportunity Disparity: 0.04\n",
      "|  Simulation : 58 | \n",
      "      seed : 675 -----\n"
     ]
    },
    {
     "name": "stderr",
     "output_type": "stream",
     "text": [
      "100%|██████████| 10/10 [00:28<00:00,  2.89s/it]\n"
     ]
    },
    {
     "name": "stdout",
     "output_type": "stream",
     "text": [
      "      Accuracy: 89.00%  Equal Opportunity Disparity: 0.17\n",
      "|  Simulation : 59 | \n",
      "      seed : 705 -----\n"
     ]
    },
    {
     "name": "stderr",
     "output_type": "stream",
     "text": [
      "100%|██████████| 10/10 [00:28<00:00,  2.84s/it]\n"
     ]
    },
    {
     "name": "stdout",
     "output_type": "stream",
     "text": [
      "      Accuracy: 88.00%  Equal Opportunity Disparity: 0.04\n",
      "|  Simulation : 60 | \n",
      "      seed : 735 -----\n"
     ]
    },
    {
     "name": "stderr",
     "output_type": "stream",
     "text": [
      "100%|██████████| 10/10 [00:34<00:00,  3.49s/it]\n"
     ]
    },
    {
     "name": "stdout",
     "output_type": "stream",
     "text": [
      "      Accuracy: 81.00%  Equal Opportunity Disparity: 0.01\n",
      "|  Simulation : 61 | \n",
      "      seed : 772 -----\n"
     ]
    },
    {
     "name": "stderr",
     "output_type": "stream",
     "text": [
      "100%|██████████| 10/10 [00:49<00:00,  4.91s/it]\n"
     ]
    },
    {
     "name": "stdout",
     "output_type": "stream",
     "text": [
      "      Accuracy: 82.00%  Equal Opportunity Disparity: 0.00\n",
      "|  Simulation : 62 | \n",
      "      seed : 823 -----\n"
     ]
    },
    {
     "name": "stderr",
     "output_type": "stream",
     "text": [
      "100%|██████████| 10/10 [00:27<00:00,  2.80s/it]\n"
     ]
    },
    {
     "name": "stdout",
     "output_type": "stream",
     "text": [
      "      Accuracy: 85.00%  Equal Opportunity Disparity: 0.13\n",
      "|  Simulation : 63 | \n",
      "      seed : 853 -----\n"
     ]
    },
    {
     "name": "stderr",
     "output_type": "stream",
     "text": [
      "100%|██████████| 10/10 [00:24<00:00,  2.41s/it]\n"
     ]
    },
    {
     "name": "stdout",
     "output_type": "stream",
     "text": [
      "      Accuracy: 86.00%  Equal Opportunity Disparity: 0.10\n",
      "|  Simulation : 64 | \n",
      "      seed : 879 -----\n"
     ]
    },
    {
     "name": "stderr",
     "output_type": "stream",
     "text": [
      "100%|██████████| 10/10 [00:26<00:00,  2.65s/it]\n"
     ]
    },
    {
     "name": "stdout",
     "output_type": "stream",
     "text": [
      "      Accuracy: 88.00%  Equal Opportunity Disparity: 0.01\n",
      "|  Simulation : 65 | \n",
      "      seed : 907 -----\n"
     ]
    },
    {
     "name": "stderr",
     "output_type": "stream",
     "text": [
      "100%|██████████| 10/10 [00:25<00:00,  2.60s/it]\n"
     ]
    },
    {
     "name": "stdout",
     "output_type": "stream",
     "text": [
      "      Accuracy: 89.00%  Equal Opportunity Disparity: 0.04\n",
      "|  Simulation : 66 | \n",
      "      seed : 934 -----\n"
     ]
    },
    {
     "name": "stderr",
     "output_type": "stream",
     "text": [
      "100%|██████████| 10/10 [00:24<00:00,  2.49s/it]\n"
     ]
    },
    {
     "name": "stdout",
     "output_type": "stream",
     "text": [
      "      Accuracy: 86.00%  Equal Opportunity Disparity: 0.08\n",
      "|  Simulation : 67 | \n",
      "      seed : 961 -----\n"
     ]
    },
    {
     "name": "stderr",
     "output_type": "stream",
     "text": [
      "100%|██████████| 10/10 [00:29<00:00,  2.97s/it]\n"
     ]
    },
    {
     "name": "stdout",
     "output_type": "stream",
     "text": [
      "      Accuracy: 91.00%  Equal Opportunity Disparity: 0.07\n",
      "|  Simulation : 68 | \n",
      "      seed : 992 -----\n"
     ]
    },
    {
     "name": "stderr",
     "output_type": "stream",
     "text": [
      "100%|██████████| 10/10 [00:26<00:00,  2.69s/it]\n"
     ]
    },
    {
     "name": "stdout",
     "output_type": "stream",
     "text": [
      "      Accuracy: 85.00%  Equal Opportunity Disparity: 0.08\n",
      "|  Simulation : 69 | \n",
      "      seed : 20 -----\n"
     ]
    },
    {
     "name": "stderr",
     "output_type": "stream",
     "text": [
      "100%|██████████| 10/10 [00:26<00:00,  2.69s/it]\n"
     ]
    },
    {
     "name": "stdout",
     "output_type": "stream",
     "text": [
      "      Accuracy: 82.00%  Equal Opportunity Disparity: 0.03\n",
      "|  Simulation : 70 | \n",
      "      seed : 49 -----\n"
     ]
    },
    {
     "name": "stderr",
     "output_type": "stream",
     "text": [
      "100%|██████████| 10/10 [00:26<00:00,  2.61s/it]\n"
     ]
    },
    {
     "name": "stdout",
     "output_type": "stream",
     "text": [
      "      Accuracy: 91.00%  Equal Opportunity Disparity: 0.02\n",
      "|  Simulation : 71 | \n",
      "      seed : 76 -----\n"
     ]
    },
    {
     "name": "stderr",
     "output_type": "stream",
     "text": [
      "100%|██████████| 10/10 [00:26<00:00,  2.66s/it]\n"
     ]
    },
    {
     "name": "stdout",
     "output_type": "stream",
     "text": [
      "      Accuracy: 85.00%  Equal Opportunity Disparity: 0.13\n",
      "|  Simulation : 72 | \n",
      "      seed : 104 -----\n"
     ]
    },
    {
     "name": "stderr",
     "output_type": "stream",
     "text": [
      "100%|██████████| 10/10 [00:25<00:00,  2.60s/it]\n"
     ]
    },
    {
     "name": "stdout",
     "output_type": "stream",
     "text": [
      "      Accuracy: 84.00%  Equal Opportunity Disparity: 0.07\n",
      "|  Simulation : 73 | \n",
      "      seed : 132 -----\n"
     ]
    },
    {
     "name": "stderr",
     "output_type": "stream",
     "text": [
      "100%|██████████| 10/10 [00:36<00:00,  3.62s/it]\n"
     ]
    },
    {
     "name": "stdout",
     "output_type": "stream",
     "text": [
      "      Accuracy: 83.00%  Equal Opportunity Disparity: 0.04\n",
      "|  Simulation : 74 | \n",
      "      seed : 170 -----\n"
     ]
    },
    {
     "name": "stderr",
     "output_type": "stream",
     "text": [
      "100%|██████████| 10/10 [00:29<00:00,  2.91s/it]\n"
     ]
    },
    {
     "name": "stdout",
     "output_type": "stream",
     "text": [
      "      Accuracy: 82.00%  Equal Opportunity Disparity: 0.09\n",
      "|  Simulation : 75 | \n",
      "      seed : 201 -----\n"
     ]
    },
    {
     "name": "stderr",
     "output_type": "stream",
     "text": [
      "100%|██████████| 10/10 [00:30<00:00,  3.05s/it]\n"
     ]
    },
    {
     "name": "stdout",
     "output_type": "stream",
     "text": [
      "      Accuracy: 82.00%  Equal Opportunity Disparity: 0.05\n",
      "|  Simulation : 76 | \n",
      "      seed : 233 -----\n"
     ]
    },
    {
     "name": "stderr",
     "output_type": "stream",
     "text": [
      "100%|██████████| 10/10 [00:28<00:00,  2.90s/it]\n"
     ]
    },
    {
     "name": "stdout",
     "output_type": "stream",
     "text": [
      "      Accuracy: 86.00%  Equal Opportunity Disparity: 0.07\n",
      "|  Simulation : 77 | \n",
      "      seed : 263 -----\n"
     ]
    },
    {
     "name": "stderr",
     "output_type": "stream",
     "text": [
      "100%|██████████| 10/10 [00:30<00:00,  3.03s/it]\n"
     ]
    },
    {
     "name": "stdout",
     "output_type": "stream",
     "text": [
      "      Accuracy: 84.00%  Equal Opportunity Disparity: 0.09\n",
      "|  Simulation : 78 | \n",
      "      seed : 295 -----\n"
     ]
    },
    {
     "name": "stderr",
     "output_type": "stream",
     "text": [
      "100%|██████████| 10/10 [00:24<00:00,  2.42s/it]\n"
     ]
    },
    {
     "name": "stdout",
     "output_type": "stream",
     "text": [
      "      Accuracy: 92.00%  Equal Opportunity Disparity: 0.05\n",
      "|  Simulation : 79 | \n",
      "      seed : 321 -----\n"
     ]
    },
    {
     "name": "stderr",
     "output_type": "stream",
     "text": [
      "100%|██████████| 10/10 [00:26<00:00,  2.65s/it]\n"
     ]
    },
    {
     "name": "stdout",
     "output_type": "stream",
     "text": [
      "      Accuracy: 84.00%  Equal Opportunity Disparity: 0.05\n",
      "|  Simulation : 80 | \n",
      "      seed : 349 -----\n"
     ]
    },
    {
     "name": "stderr",
     "output_type": "stream",
     "text": [
      "100%|██████████| 10/10 [00:31<00:00,  3.12s/it]\n"
     ]
    },
    {
     "name": "stdout",
     "output_type": "stream",
     "text": [
      "      Accuracy: 84.00%  Equal Opportunity Disparity: 0.06\n",
      "|  Simulation : 81 | \n",
      "      seed : 382 -----\n"
     ]
    },
    {
     "name": "stderr",
     "output_type": "stream",
     "text": [
      "100%|██████████| 10/10 [00:29<00:00,  3.00s/it]\n"
     ]
    },
    {
     "name": "stdout",
     "output_type": "stream",
     "text": [
      "      Accuracy: 86.00%  Equal Opportunity Disparity: 0.05\n",
      "|  Simulation : 82 | \n",
      "      seed : 413 -----\n"
     ]
    },
    {
     "name": "stderr",
     "output_type": "stream",
     "text": [
      "100%|██████████| 10/10 [00:39<00:00,  3.91s/it]\n"
     ]
    },
    {
     "name": "stdout",
     "output_type": "stream",
     "text": [
      "      Accuracy: 91.00%  Equal Opportunity Disparity: 0.06\n",
      "|  Simulation : 83 | \n",
      "      seed : 455 -----\n"
     ]
    },
    {
     "name": "stderr",
     "output_type": "stream",
     "text": [
      "100%|██████████| 10/10 [00:34<00:00,  3.40s/it]\n"
     ]
    },
    {
     "name": "stdout",
     "output_type": "stream",
     "text": [
      "      Accuracy: 83.00%  Equal Opportunity Disparity: 0.06\n",
      "|  Simulation : 84 | \n",
      "      seed : 490 -----\n"
     ]
    },
    {
     "name": "stderr",
     "output_type": "stream",
     "text": [
      "100%|██████████| 10/10 [00:25<00:00,  2.51s/it]\n"
     ]
    },
    {
     "name": "stdout",
     "output_type": "stream",
     "text": [
      "      Accuracy: 82.00%  Equal Opportunity Disparity: 0.04\n",
      "|  Simulation : 85 | \n",
      "      seed : 517 -----\n"
     ]
    },
    {
     "name": "stderr",
     "output_type": "stream",
     "text": [
      "100%|██████████| 10/10 [00:24<00:00,  2.47s/it]\n"
     ]
    },
    {
     "name": "stdout",
     "output_type": "stream",
     "text": [
      "      Accuracy: 85.00%  Equal Opportunity Disparity: 0.04\n",
      "|  Simulation : 86 | \n",
      "      seed : 543 -----\n"
     ]
    },
    {
     "name": "stderr",
     "output_type": "stream",
     "text": [
      "100%|██████████| 10/10 [00:26<00:00,  2.60s/it]\n"
     ]
    },
    {
     "name": "stdout",
     "output_type": "stream",
     "text": [
      "      Accuracy: 82.00%  Equal Opportunity Disparity: 0.05\n",
      "|  Simulation : 87 | \n",
      "      seed : 571 -----\n"
     ]
    },
    {
     "name": "stderr",
     "output_type": "stream",
     "text": [
      "100%|██████████| 10/10 [00:37<00:00,  3.70s/it]\n"
     ]
    },
    {
     "name": "stdout",
     "output_type": "stream",
     "text": [
      "      Accuracy: 87.00%  Equal Opportunity Disparity: 0.03\n",
      "|  Simulation : 88 | \n",
      "      seed : 609 -----\n"
     ]
    },
    {
     "name": "stderr",
     "output_type": "stream",
     "text": [
      "100%|██████████| 10/10 [00:29<00:00,  2.91s/it]\n"
     ]
    },
    {
     "name": "stdout",
     "output_type": "stream",
     "text": [
      "      Accuracy: 88.00%  Equal Opportunity Disparity: 0.05\n",
      "|  Simulation : 89 | \n",
      "      seed : 640 -----\n"
     ]
    },
    {
     "name": "stderr",
     "output_type": "stream",
     "text": [
      "100%|██████████| 10/10 [00:31<00:00,  3.17s/it]\n"
     ]
    },
    {
     "name": "stdout",
     "output_type": "stream",
     "text": [
      "      Accuracy: 90.00%  Equal Opportunity Disparity: 0.10\n",
      "|  Simulation : 90 | \n",
      "      seed : 674 -----\n"
     ]
    },
    {
     "name": "stderr",
     "output_type": "stream",
     "text": [
      "100%|██████████| 10/10 [00:37<00:00,  3.71s/it]\n"
     ]
    },
    {
     "name": "stdout",
     "output_type": "stream",
     "text": [
      "      Accuracy: 85.00%  Equal Opportunity Disparity: 0.09\n",
      "|  Simulation : 91 | \n",
      "      seed : 712 -----\n"
     ]
    },
    {
     "name": "stderr",
     "output_type": "stream",
     "text": [
      "100%|██████████| 10/10 [00:29<00:00,  2.94s/it]\n"
     ]
    },
    {
     "name": "stdout",
     "output_type": "stream",
     "text": [
      "      Accuracy: 84.00%  Equal Opportunity Disparity: 0.00\n",
      "|  Simulation : 92 | \n",
      "      seed : 744 -----\n"
     ]
    },
    {
     "name": "stderr",
     "output_type": "stream",
     "text": [
      "100%|██████████| 10/10 [00:32<00:00,  3.24s/it]\n"
     ]
    },
    {
     "name": "stdout",
     "output_type": "stream",
     "text": [
      "      Accuracy: 91.00%  Equal Opportunity Disparity: 0.04\n",
      "|  Simulation : 93 | \n",
      "      seed : 778 -----\n"
     ]
    },
    {
     "name": "stderr",
     "output_type": "stream",
     "text": [
      "100%|██████████| 10/10 [00:31<00:00,  3.15s/it]\n"
     ]
    },
    {
     "name": "stdout",
     "output_type": "stream",
     "text": [
      "      Accuracy: 83.00%  Equal Opportunity Disparity: 0.10\n",
      "|  Simulation : 94 | \n",
      "      seed : 811 -----\n"
     ]
    },
    {
     "name": "stderr",
     "output_type": "stream",
     "text": [
      "100%|██████████| 10/10 [00:37<00:00,  3.72s/it]\n"
     ]
    },
    {
     "name": "stdout",
     "output_type": "stream",
     "text": [
      "      Accuracy: 84.00%  Equal Opportunity Disparity: 0.29\n",
      "|  Simulation : 95 | \n",
      "      seed : 850 -----\n"
     ]
    },
    {
     "name": "stderr",
     "output_type": "stream",
     "text": [
      "100%|██████████| 10/10 [00:35<00:00,  3.59s/it]\n"
     ]
    },
    {
     "name": "stdout",
     "output_type": "stream",
     "text": [
      "      Accuracy: 82.00%  Equal Opportunity Disparity: 0.00\n",
      "|  Simulation : 96 | \n",
      "      seed : 888 -----\n"
     ]
    },
    {
     "name": "stderr",
     "output_type": "stream",
     "text": [
      "100%|██████████| 10/10 [00:29<00:00,  2.97s/it]\n"
     ]
    },
    {
     "name": "stdout",
     "output_type": "stream",
     "text": [
      "      Accuracy: 81.00%  Equal Opportunity Disparity: 0.11\n",
      "|  Simulation : 97 | \n",
      "      seed : 919 -----\n"
     ]
    },
    {
     "name": "stderr",
     "output_type": "stream",
     "text": [
      "100%|██████████| 10/10 [00:35<00:00,  3.59s/it]\n"
     ]
    },
    {
     "name": "stdout",
     "output_type": "stream",
     "text": [
      "      Accuracy: 82.00%  Equal Opportunity Disparity: 0.04\n",
      "|  Simulation : 98 | \n",
      "      seed : 957 -----\n"
     ]
    },
    {
     "name": "stderr",
     "output_type": "stream",
     "text": [
      "100%|██████████| 10/10 [00:30<00:00,  3.04s/it]\n"
     ]
    },
    {
     "name": "stdout",
     "output_type": "stream",
     "text": [
      "      Accuracy: 86.00%  Equal Opportunity Disparity: 0.02\n",
      "|  Simulation : 99 | \n",
      "      seed : 989 -----\n"
     ]
    },
    {
     "name": "stderr",
     "output_type": "stream",
     "text": [
      "100%|██████████| 10/10 [00:28<00:00,  2.87s/it]\n"
     ]
    },
    {
     "name": "stdout",
     "output_type": "stream",
     "text": [
      "      Accuracy: 88.00%  Equal Opportunity Disparity: 0.06\n",
      "|  Simulation : 100 | \n",
      "      seed : 19 -----\n"
     ]
    },
    {
     "name": "stderr",
     "output_type": "stream",
     "text": [
      "100%|██████████| 10/10 [00:32<00:00,  3.21s/it]"
     ]
    },
    {
     "name": "stdout",
     "output_type": "stream",
     "text": [
      "      Accuracy: 86.00%  Equal Opportunity Disparity: 0.02\n",
      "| Test Accuracy: 0.849(0.037) | Equal Opportunity Disparity: 0.074(0.076) |\n",
      "| Time elapsed: 3251.69 seconds |\n"
     ]
    },
    {
     "name": "stderr",
     "output_type": "stream",
     "text": [
      "\n"
     ]
    },
    {
     "data": {
      "text/plain": [
       "(0.8485999999999998,\n",
       " 0.03677009654597061,\n",
       " 0.07439526296626466,\n",
       " 0.0759895925620591)"
      ]
     },
     "execution_count": 2,
     "metadata": {},
     "output_type": "execute_result"
    }
   ],
   "source": [
    "# BiasCorrecting 100\n",
    "runSim(num_sim = 100, train_samples = 3000, test_samples = 100, learning_rate = 0.008, num_rounds = 10, \n",
    "          local_epochs = 30, optimizer = 'adam', option = \"bias correcting\", alpha = 2)"
   ]
  },
  {
   "cell_type": "code",
   "execution_count": 2,
   "metadata": {
    "scrolled": true
   },
   "outputs": [
    {
     "name": "stdout",
     "output_type": "stream",
     "text": [
      "|  Simulation : 1 | \n",
      "      seed : 41 -----\n"
     ]
    },
    {
     "name": "stderr",
     "output_type": "stream",
     "text": [
      "100%|██████████| 3/3 [00:06<00:00,  2.32s/it]\n",
      "100%|██████████| 3/3 [00:06<00:00,  2.06s/it]\n",
      "100%|██████████| 4/4 [00:08<00:00,  2.04s/it]\n"
     ]
    },
    {
     "name": "stdout",
     "output_type": "stream",
     "text": [
      "      Accuracy: 89.00%  Equal Opportunity Disparity: 0.24\n",
      "|  Simulation : 2 | \n",
      "      seed : 64 -----\n"
     ]
    },
    {
     "name": "stderr",
     "output_type": "stream",
     "text": [
      "100%|██████████| 3/3 [00:07<00:00,  2.39s/it]\n",
      "100%|██████████| 3/3 [00:07<00:00,  2.64s/it]\n",
      "100%|██████████| 4/4 [00:13<00:00,  3.49s/it]\n"
     ]
    },
    {
     "name": "stdout",
     "output_type": "stream",
     "text": [
      "      Accuracy: 85.00%  Equal Opportunity Disparity: 0.37\n",
      "|  Simulation : 3 | \n",
      "      seed : 95 -----\n"
     ]
    },
    {
     "name": "stderr",
     "output_type": "stream",
     "text": [
      "100%|██████████| 3/3 [00:08<00:00,  2.74s/it]\n",
      "100%|██████████| 3/3 [00:07<00:00,  2.44s/it]\n",
      "100%|██████████| 4/4 [00:09<00:00,  2.28s/it]\n"
     ]
    },
    {
     "name": "stdout",
     "output_type": "stream",
     "text": [
      "      Accuracy: 79.00%  Equal Opportunity Disparity: 0.02\n",
      "|  Simulation : 4 | \n",
      "      seed : 121 -----\n"
     ]
    },
    {
     "name": "stderr",
     "output_type": "stream",
     "text": [
      "100%|██████████| 3/3 [00:07<00:00,  2.35s/it]\n",
      "100%|██████████| 3/3 [00:07<00:00,  2.45s/it]\n",
      "100%|██████████| 4/4 [00:09<00:00,  2.49s/it]\n"
     ]
    },
    {
     "name": "stdout",
     "output_type": "stream",
     "text": [
      "      Accuracy: 78.00%  Equal Opportunity Disparity: 0.21\n",
      "|  Simulation : 5 | \n",
      "      seed : 147 -----\n"
     ]
    },
    {
     "name": "stderr",
     "output_type": "stream",
     "text": [
      "100%|██████████| 3/3 [00:09<00:00,  3.12s/it]\n",
      "100%|██████████| 3/3 [00:08<00:00,  2.84s/it]\n",
      "100%|██████████| 4/4 [00:09<00:00,  2.48s/it]\n"
     ]
    },
    {
     "name": "stdout",
     "output_type": "stream",
     "text": [
      "      Accuracy: 87.00%  Equal Opportunity Disparity: 0.05\n",
      "|  Simulation : 6 | \n",
      "      seed : 177 -----\n"
     ]
    },
    {
     "name": "stderr",
     "output_type": "stream",
     "text": [
      "100%|██████████| 3/3 [00:07<00:00,  2.47s/it]\n",
      "100%|██████████| 3/3 [00:08<00:00,  2.68s/it]\n",
      "100%|██████████| 4/4 [00:09<00:00,  2.45s/it]\n"
     ]
    },
    {
     "name": "stdout",
     "output_type": "stream",
     "text": [
      "      Accuracy: 85.00%  Equal Opportunity Disparity: 0.17\n",
      "|  Simulation : 7 | \n",
      "      seed : 204 -----\n"
     ]
    },
    {
     "name": "stderr",
     "output_type": "stream",
     "text": [
      "100%|██████████| 3/3 [00:09<00:00,  3.33s/it]\n",
      "100%|██████████| 3/3 [00:07<00:00,  2.58s/it]\n",
      "100%|██████████| 4/4 [00:10<00:00,  2.51s/it]\n"
     ]
    },
    {
     "name": "stdout",
     "output_type": "stream",
     "text": [
      "      Accuracy: 91.00%  Equal Opportunity Disparity: 0.17\n",
      "|  Simulation : 8 | \n",
      "      seed : 233 -----\n"
     ]
    },
    {
     "name": "stderr",
     "output_type": "stream",
     "text": [
      "100%|██████████| 3/3 [00:07<00:00,  2.45s/it]\n",
      "100%|██████████| 3/3 [00:07<00:00,  2.40s/it]\n",
      "100%|██████████| 4/4 [00:09<00:00,  2.27s/it]\n"
     ]
    },
    {
     "name": "stdout",
     "output_type": "stream",
     "text": [
      "      Accuracy: 80.00%  Equal Opportunity Disparity: 0.07\n",
      "|  Simulation : 9 | \n",
      "      seed : 259 -----\n"
     ]
    },
    {
     "name": "stderr",
     "output_type": "stream",
     "text": [
      "100%|██████████| 3/3 [00:06<00:00,  2.26s/it]\n",
      "100%|██████████| 3/3 [00:07<00:00,  2.39s/it]\n",
      "100%|██████████| 4/4 [00:09<00:00,  2.45s/it]\n"
     ]
    },
    {
     "name": "stdout",
     "output_type": "stream",
     "text": [
      "      Accuracy: 83.00%  Equal Opportunity Disparity: 0.15\n",
      "|  Simulation : 10 | \n",
      "      seed : 284 -----\n"
     ]
    },
    {
     "name": "stderr",
     "output_type": "stream",
     "text": [
      "100%|██████████| 3/3 [00:07<00:00,  2.53s/it]\n",
      "100%|██████████| 3/3 [00:07<00:00,  2.61s/it]\n",
      "100%|██████████| 4/4 [00:08<00:00,  2.24s/it]\n"
     ]
    },
    {
     "name": "stdout",
     "output_type": "stream",
     "text": [
      "      Accuracy: 84.00%  Equal Opportunity Disparity: 0.18\n",
      "|  Simulation : 11 | \n",
      "      seed : 310 -----\n"
     ]
    },
    {
     "name": "stderr",
     "output_type": "stream",
     "text": [
      "100%|██████████| 3/3 [00:07<00:00,  2.60s/it]\n",
      "100%|██████████| 3/3 [00:08<00:00,  2.82s/it]\n",
      "100%|██████████| 4/4 [00:15<00:00,  3.79s/it]\n"
     ]
    },
    {
     "name": "stdout",
     "output_type": "stream",
     "text": [
      "      Accuracy: 91.00%  Equal Opportunity Disparity: 0.02\n",
      "|  Simulation : 12 | \n",
      "      seed : 343 -----\n"
     ]
    },
    {
     "name": "stderr",
     "output_type": "stream",
     "text": [
      "100%|██████████| 3/3 [00:08<00:00,  2.95s/it]\n",
      "100%|██████████| 3/3 [00:07<00:00,  2.51s/it]\n",
      "100%|██████████| 4/4 [00:09<00:00,  2.48s/it]\n"
     ]
    },
    {
     "name": "stdout",
     "output_type": "stream",
     "text": [
      "      Accuracy: 87.00%  Equal Opportunity Disparity: 0.35\n",
      "|  Simulation : 13 | \n",
      "      seed : 373 -----\n"
     ]
    },
    {
     "name": "stderr",
     "output_type": "stream",
     "text": [
      "100%|██████████| 3/3 [00:06<00:00,  2.32s/it]\n",
      "100%|██████████| 3/3 [00:06<00:00,  2.32s/it]\n",
      "100%|██████████| 4/4 [00:11<00:00,  2.87s/it]\n"
     ]
    },
    {
     "name": "stdout",
     "output_type": "stream",
     "text": [
      "      Accuracy: 67.00%  Equal Opportunity Disparity: 0.16\n",
      "|  Simulation : 14 | \n",
      "      seed : 400 -----\n"
     ]
    },
    {
     "name": "stderr",
     "output_type": "stream",
     "text": [
      "100%|██████████| 3/3 [00:07<00:00,  2.50s/it]\n",
      "100%|██████████| 3/3 [00:07<00:00,  2.39s/it]\n",
      "100%|██████████| 4/4 [00:09<00:00,  2.46s/it]\n"
     ]
    },
    {
     "name": "stdout",
     "output_type": "stream",
     "text": [
      "      Accuracy: 84.00%  Equal Opportunity Disparity: 0.17\n",
      "|  Simulation : 15 | \n",
      "      seed : 426 -----\n"
     ]
    },
    {
     "name": "stderr",
     "output_type": "stream",
     "text": [
      "100%|██████████| 3/3 [00:06<00:00,  2.22s/it]\n",
      "100%|██████████| 3/3 [00:07<00:00,  2.53s/it]\n",
      "100%|██████████| 4/4 [00:10<00:00,  2.63s/it]\n"
     ]
    },
    {
     "name": "stdout",
     "output_type": "stream",
     "text": [
      "      Accuracy: 90.00%  Equal Opportunity Disparity: 0.01\n",
      "|  Simulation : 16 | \n",
      "      seed : 453 -----\n"
     ]
    },
    {
     "name": "stderr",
     "output_type": "stream",
     "text": [
      "100%|██████████| 3/3 [00:07<00:00,  2.49s/it]\n",
      "100%|██████████| 3/3 [00:13<00:00,  4.61s/it]\n",
      "100%|██████████| 4/4 [00:11<00:00,  2.78s/it]\n"
     ]
    },
    {
     "name": "stdout",
     "output_type": "stream",
     "text": [
      "      Accuracy: 85.00%  Equal Opportunity Disparity: 0.34\n",
      "|  Simulation : 17 | \n",
      "      seed : 487 -----\n"
     ]
    },
    {
     "name": "stderr",
     "output_type": "stream",
     "text": [
      "100%|██████████| 3/3 [00:07<00:00,  2.43s/it]\n",
      "100%|██████████| 3/3 [00:06<00:00,  2.27s/it]\n",
      "100%|██████████| 4/4 [00:08<00:00,  2.03s/it]\n"
     ]
    },
    {
     "name": "stdout",
     "output_type": "stream",
     "text": [
      "      Accuracy: 80.00%  Equal Opportunity Disparity: 0.06\n",
      "|  Simulation : 18 | \n",
      "      seed : 511 -----\n"
     ]
    },
    {
     "name": "stderr",
     "output_type": "stream",
     "text": [
      "100%|██████████| 3/3 [00:06<00:00,  2.10s/it]\n",
      "100%|██████████| 3/3 [00:06<00:00,  2.24s/it]\n",
      "100%|██████████| 4/4 [00:08<00:00,  2.01s/it]\n"
     ]
    },
    {
     "name": "stdout",
     "output_type": "stream",
     "text": [
      "      Accuracy: 82.00%  Equal Opportunity Disparity: 0.02\n",
      "|  Simulation : 19 | \n",
      "      seed : 534 -----\n"
     ]
    },
    {
     "name": "stderr",
     "output_type": "stream",
     "text": [
      "100%|██████████| 3/3 [00:06<00:00,  2.07s/it]\n",
      "100%|██████████| 3/3 [00:06<00:00,  2.05s/it]\n",
      "100%|██████████| 4/4 [00:08<00:00,  2.01s/it]\n"
     ]
    },
    {
     "name": "stdout",
     "output_type": "stream",
     "text": [
      "      Accuracy: 88.00%  Equal Opportunity Disparity: 0.28\n",
      "|  Simulation : 20 | \n",
      "      seed : 556 -----\n"
     ]
    },
    {
     "name": "stderr",
     "output_type": "stream",
     "text": [
      "100%|██████████| 3/3 [00:06<00:00,  2.33s/it]\n",
      "100%|██████████| 3/3 [00:10<00:00,  3.34s/it]\n",
      "100%|██████████| 4/4 [00:10<00:00,  2.59s/it]\n"
     ]
    },
    {
     "name": "stdout",
     "output_type": "stream",
     "text": [
      "      Accuracy: 87.00%  Equal Opportunity Disparity: 0.24\n",
      "|  Simulation : 21 | \n",
      "      seed : 584 -----\n"
     ]
    },
    {
     "name": "stderr",
     "output_type": "stream",
     "text": [
      "100%|██████████| 3/3 [00:10<00:00,  3.35s/it]\n",
      "100%|██████████| 3/3 [00:09<00:00,  3.00s/it]\n",
      "100%|██████████| 4/4 [00:11<00:00,  2.86s/it]\n"
     ]
    },
    {
     "name": "stdout",
     "output_type": "stream",
     "text": [
      "      Accuracy: 75.00%  Equal Opportunity Disparity: 0.04\n",
      "|  Simulation : 22 | \n",
      "      seed : 617 -----\n"
     ]
    },
    {
     "name": "stderr",
     "output_type": "stream",
     "text": [
      "100%|██████████| 3/3 [00:07<00:00,  2.66s/it]\n",
      "100%|██████████| 3/3 [00:08<00:00,  2.86s/it]\n",
      "100%|██████████| 4/4 [00:09<00:00,  2.48s/it]\n"
     ]
    },
    {
     "name": "stdout",
     "output_type": "stream",
     "text": [
      "      Accuracy: 89.00%  Equal Opportunity Disparity: 0.13\n",
      "|  Simulation : 23 | \n",
      "      seed : 646 -----\n"
     ]
    },
    {
     "name": "stderr",
     "output_type": "stream",
     "text": [
      "100%|██████████| 3/3 [00:06<00:00,  2.32s/it]\n",
      "100%|██████████| 3/3 [00:07<00:00,  2.51s/it]\n",
      "100%|██████████| 4/4 [00:11<00:00,  2.78s/it]\n"
     ]
    },
    {
     "name": "stdout",
     "output_type": "stream",
     "text": [
      "      Accuracy: 89.00%  Equal Opportunity Disparity: 0.36\n",
      "|  Simulation : 24 | \n",
      "      seed : 673 -----\n"
     ]
    },
    {
     "name": "stderr",
     "output_type": "stream",
     "text": [
      "100%|██████████| 3/3 [00:07<00:00,  2.36s/it]\n",
      "100%|██████████| 3/3 [00:08<00:00,  2.92s/it]\n",
      "100%|██████████| 4/4 [00:08<00:00,  2.10s/it]\n"
     ]
    },
    {
     "name": "stdout",
     "output_type": "stream",
     "text": [
      "      Accuracy: 82.00%  Equal Opportunity Disparity: 0.38\n",
      "|  Simulation : 25 | \n",
      "      seed : 699 -----\n"
     ]
    },
    {
     "name": "stderr",
     "output_type": "stream",
     "text": [
      "100%|██████████| 3/3 [00:06<00:00,  2.01s/it]\n",
      "100%|██████████| 3/3 [00:05<00:00,  1.98s/it]\n",
      "100%|██████████| 4/4 [00:07<00:00,  1.98s/it]\n"
     ]
    },
    {
     "name": "stdout",
     "output_type": "stream",
     "text": [
      "      Accuracy: 69.00%  Equal Opportunity Disparity: 0.08\n",
      "|  Simulation : 26 | \n",
      "      seed : 720 -----\n"
     ]
    },
    {
     "name": "stderr",
     "output_type": "stream",
     "text": [
      "100%|██████████| 3/3 [00:06<00:00,  2.02s/it]\n",
      "100%|██████████| 3/3 [00:06<00:00,  2.02s/it]\n",
      "100%|██████████| 4/4 [00:08<00:00,  2.03s/it]\n"
     ]
    },
    {
     "name": "stdout",
     "output_type": "stream",
     "text": [
      "      Accuracy: 81.00%  Equal Opportunity Disparity: 0.16\n",
      "|  Simulation : 27 | \n",
      "      seed : 742 -----\n"
     ]
    },
    {
     "name": "stderr",
     "output_type": "stream",
     "text": [
      "100%|██████████| 3/3 [00:06<00:00,  2.01s/it]\n",
      "100%|██████████| 3/3 [00:06<00:00,  2.00s/it]\n",
      "100%|██████████| 4/4 [00:08<00:00,  2.01s/it]\n"
     ]
    },
    {
     "name": "stdout",
     "output_type": "stream",
     "text": [
      "      Accuracy: 89.00%  Equal Opportunity Disparity: 0.22\n",
      "|  Simulation : 28 | \n",
      "      seed : 764 -----\n"
     ]
    },
    {
     "name": "stderr",
     "output_type": "stream",
     "text": [
      "100%|██████████| 3/3 [00:06<00:00,  2.02s/it]\n",
      "100%|██████████| 3/3 [00:05<00:00,  2.00s/it]\n",
      "100%|██████████| 4/4 [00:08<00:00,  2.04s/it]\n"
     ]
    },
    {
     "name": "stdout",
     "output_type": "stream",
     "text": [
      "      Accuracy: 89.00%  Equal Opportunity Disparity: 0.30\n",
      "|  Simulation : 29 | \n",
      "      seed : 785 -----\n"
     ]
    },
    {
     "name": "stderr",
     "output_type": "stream",
     "text": [
      "100%|██████████| 3/3 [00:06<00:00,  2.29s/it]\n",
      "100%|██████████| 3/3 [00:06<00:00,  2.30s/it]\n",
      "100%|██████████| 4/4 [00:08<00:00,  2.16s/it]\n"
     ]
    },
    {
     "name": "stdout",
     "output_type": "stream",
     "text": [
      "      Accuracy: 89.00%  Equal Opportunity Disparity: 0.09\n",
      "|  Simulation : 30 | \n",
      "      seed : 809 -----\n"
     ]
    },
    {
     "name": "stderr",
     "output_type": "stream",
     "text": [
      "100%|██████████| 3/3 [00:06<00:00,  2.13s/it]\n",
      "100%|██████████| 3/3 [00:07<00:00,  2.47s/it]\n",
      "100%|██████████| 4/4 [00:10<00:00,  2.56s/it]\n"
     ]
    },
    {
     "name": "stdout",
     "output_type": "stream",
     "text": [
      "      Accuracy: 83.00%  Equal Opportunity Disparity: 0.06\n",
      "|  Simulation : 31 | \n",
      "      seed : 835 -----\n"
     ]
    },
    {
     "name": "stderr",
     "output_type": "stream",
     "text": [
      "100%|██████████| 3/3 [00:09<00:00,  3.00s/it]\n",
      "100%|██████████| 3/3 [00:06<00:00,  2.32s/it]\n",
      "100%|██████████| 4/4 [00:10<00:00,  2.67s/it]\n"
     ]
    },
    {
     "name": "stdout",
     "output_type": "stream",
     "text": [
      "      Accuracy: 86.00%  Equal Opportunity Disparity: 0.19\n",
      "|  Simulation : 32 | \n",
      "      seed : 863 -----\n"
     ]
    },
    {
     "name": "stderr",
     "output_type": "stream",
     "text": [
      "100%|██████████| 3/3 [00:07<00:00,  2.62s/it]\n",
      "100%|██████████| 3/3 [00:10<00:00,  3.43s/it]\n",
      "100%|██████████| 4/4 [00:10<00:00,  2.74s/it]\n"
     ]
    },
    {
     "name": "stdout",
     "output_type": "stream",
     "text": [
      "      Accuracy: 86.00%  Equal Opportunity Disparity: 0.07\n",
      "|  Simulation : 33 | \n",
      "      seed : 894 -----\n"
     ]
    },
    {
     "name": "stderr",
     "output_type": "stream",
     "text": [
      "100%|██████████| 3/3 [00:09<00:00,  3.09s/it]\n",
      "100%|██████████| 3/3 [00:09<00:00,  3.12s/it]\n",
      "100%|██████████| 4/4 [00:11<00:00,  2.83s/it]\n"
     ]
    },
    {
     "name": "stdout",
     "output_type": "stream",
     "text": [
      "      Accuracy: 86.00%  Equal Opportunity Disparity: 0.30\n",
      "|  Simulation : 34 | \n",
      "      seed : 926 -----\n"
     ]
    },
    {
     "name": "stderr",
     "output_type": "stream",
     "text": [
      "100%|██████████| 3/3 [00:08<00:00,  2.80s/it]\n",
      "100%|██████████| 3/3 [00:08<00:00,  2.99s/it]\n",
      "100%|██████████| 4/4 [00:13<00:00,  3.34s/it]\n"
     ]
    },
    {
     "name": "stdout",
     "output_type": "stream",
     "text": [
      "      Accuracy: 68.00%  Equal Opportunity Disparity: 0.19\n",
      "|  Simulation : 35 | \n",
      "      seed : 961 -----\n"
     ]
    },
    {
     "name": "stderr",
     "output_type": "stream",
     "text": [
      "100%|██████████| 3/3 [00:08<00:00,  2.73s/it]\n",
      "100%|██████████| 3/3 [00:08<00:00,  2.74s/it]\n",
      "100%|██████████| 4/4 [00:09<00:00,  2.40s/it]\n"
     ]
    },
    {
     "name": "stdout",
     "output_type": "stream",
     "text": [
      "      Accuracy: 93.00%  Equal Opportunity Disparity: 0.13\n",
      "|  Simulation : 36 | \n",
      "      seed : 989 -----\n"
     ]
    },
    {
     "name": "stderr",
     "output_type": "stream",
     "text": [
      "100%|██████████| 3/3 [00:07<00:00,  2.35s/it]\n",
      "100%|██████████| 3/3 [00:06<00:00,  2.30s/it]\n",
      "100%|██████████| 4/4 [00:10<00:00,  2.57s/it]\n"
     ]
    },
    {
     "name": "stdout",
     "output_type": "stream",
     "text": [
      "      Accuracy: 91.00%  Equal Opportunity Disparity: 0.07\n",
      "|  Simulation : 37 | \n",
      "      seed : 15 -----\n"
     ]
    },
    {
     "name": "stderr",
     "output_type": "stream",
     "text": [
      "100%|██████████| 3/3 [00:09<00:00,  3.24s/it]\n",
      "100%|██████████| 3/3 [00:08<00:00,  2.86s/it]\n",
      "100%|██████████| 4/4 [00:10<00:00,  2.75s/it]\n"
     ]
    },
    {
     "name": "stdout",
     "output_type": "stream",
     "text": [
      "      Accuracy: 84.00%  Equal Opportunity Disparity: 0.07\n",
      "|  Simulation : 38 | \n",
      "      seed : 46 -----\n"
     ]
    },
    {
     "name": "stderr",
     "output_type": "stream",
     "text": [
      "100%|██████████| 3/3 [00:08<00:00,  2.82s/it]\n",
      "100%|██████████| 3/3 [00:08<00:00,  2.98s/it]\n",
      "100%|██████████| 4/4 [00:11<00:00,  2.86s/it]\n"
     ]
    },
    {
     "name": "stdout",
     "output_type": "stream",
     "text": [
      "      Accuracy: 83.00%  Equal Opportunity Disparity: 0.03\n",
      "|  Simulation : 39 | \n",
      "      seed : 79 -----\n"
     ]
    },
    {
     "name": "stderr",
     "output_type": "stream",
     "text": [
      "100%|██████████| 3/3 [00:08<00:00,  2.73s/it]\n",
      "100%|██████████| 3/3 [00:06<00:00,  2.25s/it]\n",
      "100%|██████████| 4/4 [00:08<00:00,  2.22s/it]\n"
     ]
    },
    {
     "name": "stdout",
     "output_type": "stream",
     "text": [
      "      Accuracy: 87.00%  Equal Opportunity Disparity: 0.27\n",
      "|  Simulation : 40 | \n",
      "      seed : 106 -----\n"
     ]
    },
    {
     "name": "stderr",
     "output_type": "stream",
     "text": [
      "100%|██████████| 3/3 [00:06<00:00,  2.14s/it]\n",
      "100%|██████████| 3/3 [00:06<00:00,  2.15s/it]\n",
      "100%|██████████| 4/4 [00:09<00:00,  2.26s/it]\n"
     ]
    },
    {
     "name": "stdout",
     "output_type": "stream",
     "text": [
      "      Accuracy: 88.00%  Equal Opportunity Disparity: 0.36\n",
      "|  Simulation : 41 | \n",
      "      seed : 129 -----\n"
     ]
    },
    {
     "name": "stderr",
     "output_type": "stream",
     "text": [
      "100%|██████████| 3/3 [00:07<00:00,  2.37s/it]\n",
      "100%|██████████| 3/3 [00:06<00:00,  2.11s/it]\n",
      "100%|██████████| 4/4 [00:08<00:00,  2.07s/it]\n"
     ]
    },
    {
     "name": "stdout",
     "output_type": "stream",
     "text": [
      "      Accuracy: 91.00%  Equal Opportunity Disparity: 0.07\n",
      "|  Simulation : 42 | \n",
      "      seed : 153 -----\n"
     ]
    },
    {
     "name": "stderr",
     "output_type": "stream",
     "text": [
      "100%|██████████| 3/3 [00:06<00:00,  2.08s/it]\n",
      "100%|██████████| 3/3 [00:06<00:00,  2.29s/it]\n",
      "100%|██████████| 4/4 [00:10<00:00,  2.73s/it]\n"
     ]
    },
    {
     "name": "stdout",
     "output_type": "stream",
     "text": [
      "      Accuracy: 85.00%  Equal Opportunity Disparity: 0.28\n",
      "|  Simulation : 43 | \n",
      "      seed : 178 -----\n"
     ]
    },
    {
     "name": "stderr",
     "output_type": "stream",
     "text": [
      "100%|██████████| 3/3 [00:06<00:00,  2.08s/it]\n",
      "100%|██████████| 3/3 [00:06<00:00,  2.04s/it]\n",
      "100%|██████████| 4/4 [00:08<00:00,  2.03s/it]\n"
     ]
    },
    {
     "name": "stdout",
     "output_type": "stream",
     "text": [
      "      Accuracy: 84.00%  Equal Opportunity Disparity: 0.25\n",
      "|  Simulation : 44 | \n",
      "      seed : 200 -----\n"
     ]
    },
    {
     "name": "stderr",
     "output_type": "stream",
     "text": [
      "100%|██████████| 3/3 [00:06<00:00,  2.05s/it]\n",
      "100%|██████████| 3/3 [00:06<00:00,  2.04s/it]\n",
      "100%|██████████| 4/4 [00:08<00:00,  2.06s/it]\n"
     ]
    },
    {
     "name": "stdout",
     "output_type": "stream",
     "text": [
      "      Accuracy: 86.00%  Equal Opportunity Disparity: 0.03\n",
      "|  Simulation : 45 | \n",
      "      seed : 222 -----\n"
     ]
    },
    {
     "name": "stderr",
     "output_type": "stream",
     "text": [
      "100%|██████████| 3/3 [00:06<00:00,  2.06s/it]\n",
      "100%|██████████| 3/3 [00:06<00:00,  2.06s/it]\n",
      "100%|██████████| 4/4 [00:08<00:00,  2.05s/it]\n"
     ]
    },
    {
     "name": "stdout",
     "output_type": "stream",
     "text": [
      "      Accuracy: 68.00%  Equal Opportunity Disparity: 0.12\n",
      "|  Simulation : 46 | \n",
      "      seed : 244 -----\n"
     ]
    },
    {
     "name": "stderr",
     "output_type": "stream",
     "text": [
      "100%|██████████| 3/3 [00:06<00:00,  2.06s/it]\n",
      "100%|██████████| 3/3 [00:06<00:00,  2.03s/it]\n",
      "100%|██████████| 4/4 [00:08<00:00,  2.04s/it]\n"
     ]
    },
    {
     "name": "stdout",
     "output_type": "stream",
     "text": [
      "      Accuracy: 92.00%  Equal Opportunity Disparity: 0.27\n",
      "|  Simulation : 47 | \n",
      "      seed : 266 -----\n"
     ]
    },
    {
     "name": "stderr",
     "output_type": "stream",
     "text": [
      "100%|██████████| 3/3 [00:06<00:00,  2.07s/it]\n",
      "100%|██████████| 3/3 [00:06<00:00,  2.06s/it]\n",
      "100%|██████████| 4/4 [00:08<00:00,  2.03s/it]\n"
     ]
    },
    {
     "name": "stdout",
     "output_type": "stream",
     "text": [
      "      Accuracy: 75.00%  Equal Opportunity Disparity: 0.07\n",
      "|  Simulation : 48 | \n",
      "      seed : 288 -----\n"
     ]
    },
    {
     "name": "stderr",
     "output_type": "stream",
     "text": [
      "100%|██████████| 3/3 [00:06<00:00,  2.07s/it]\n",
      "100%|██████████| 3/3 [00:06<00:00,  2.02s/it]\n",
      "100%|██████████| 4/4 [00:08<00:00,  2.05s/it]\n"
     ]
    },
    {
     "name": "stdout",
     "output_type": "stream",
     "text": [
      "      Accuracy: 80.00%  Equal Opportunity Disparity: 0.23\n",
      "|  Simulation : 49 | \n",
      "      seed : 310 -----\n"
     ]
    },
    {
     "name": "stderr",
     "output_type": "stream",
     "text": [
      "100%|██████████| 3/3 [00:06<00:00,  2.06s/it]\n",
      "100%|██████████| 3/3 [00:06<00:00,  2.03s/it]\n",
      "100%|██████████| 4/4 [00:08<00:00,  2.03s/it]\n"
     ]
    },
    {
     "name": "stdout",
     "output_type": "stream",
     "text": [
      "      Accuracy: 91.00%  Equal Opportunity Disparity: 0.02\n",
      "|  Simulation : 50 | \n",
      "      seed : 332 -----\n"
     ]
    },
    {
     "name": "stderr",
     "output_type": "stream",
     "text": [
      "100%|██████████| 3/3 [00:06<00:00,  2.06s/it]\n",
      "100%|██████████| 3/3 [00:06<00:00,  2.01s/it]\n",
      "100%|██████████| 4/4 [00:08<00:00,  2.02s/it]\n"
     ]
    },
    {
     "name": "stdout",
     "output_type": "stream",
     "text": [
      "      Accuracy: 81.00%  Equal Opportunity Disparity: 0.46\n",
      "|  Simulation : 51 | \n",
      "      seed : 354 -----\n"
     ]
    },
    {
     "name": "stderr",
     "output_type": "stream",
     "text": [
      "100%|██████████| 3/3 [00:06<00:00,  2.04s/it]\n",
      "100%|██████████| 3/3 [00:06<00:00,  2.09s/it]\n",
      "100%|██████████| 4/4 [00:08<00:00,  2.06s/it]\n"
     ]
    },
    {
     "name": "stdout",
     "output_type": "stream",
     "text": [
      "      Accuracy: 89.00%  Equal Opportunity Disparity: 0.17\n",
      "|  Simulation : 52 | \n",
      "      seed : 376 -----\n"
     ]
    },
    {
     "name": "stderr",
     "output_type": "stream",
     "text": [
      "100%|██████████| 3/3 [00:06<00:00,  2.01s/it]\n",
      "100%|██████████| 3/3 [00:06<00:00,  2.01s/it]\n",
      "100%|██████████| 4/4 [00:08<00:00,  2.02s/it]\n"
     ]
    },
    {
     "name": "stdout",
     "output_type": "stream",
     "text": [
      "      Accuracy: 86.00%  Equal Opportunity Disparity: 0.09\n",
      "|  Simulation : 53 | \n",
      "      seed : 397 -----\n"
     ]
    },
    {
     "name": "stderr",
     "output_type": "stream",
     "text": [
      "100%|██████████| 3/3 [00:06<00:00,  2.02s/it]\n",
      "100%|██████████| 3/3 [00:06<00:00,  2.01s/it]\n",
      "100%|██████████| 4/4 [00:08<00:00,  2.01s/it]\n"
     ]
    },
    {
     "name": "stdout",
     "output_type": "stream",
     "text": [
      "      Accuracy: 89.00%  Equal Opportunity Disparity: 0.21\n",
      "|  Simulation : 54 | \n",
      "      seed : 419 -----\n"
     ]
    },
    {
     "name": "stderr",
     "output_type": "stream",
     "text": [
      "100%|██████████| 3/3 [00:06<00:00,  2.07s/it]\n",
      "100%|██████████| 3/3 [00:06<00:00,  2.10s/it]\n",
      "100%|██████████| 4/4 [00:08<00:00,  2.04s/it]\n"
     ]
    },
    {
     "name": "stdout",
     "output_type": "stream",
     "text": [
      "      Accuracy: 85.00%  Equal Opportunity Disparity: 0.27\n",
      "|  Simulation : 55 | \n",
      "      seed : 441 -----\n"
     ]
    },
    {
     "name": "stderr",
     "output_type": "stream",
     "text": [
      "100%|██████████| 3/3 [00:06<00:00,  2.15s/it]\n",
      "100%|██████████| 3/3 [00:06<00:00,  2.08s/it]\n",
      "100%|██████████| 4/4 [00:08<00:00,  2.05s/it]\n"
     ]
    },
    {
     "name": "stdout",
     "output_type": "stream",
     "text": [
      "      Accuracy: 82.00%  Equal Opportunity Disparity: 0.09\n",
      "|  Simulation : 56 | \n",
      "      seed : 463 -----\n"
     ]
    },
    {
     "name": "stderr",
     "output_type": "stream",
     "text": [
      "100%|██████████| 3/3 [00:06<00:00,  2.02s/it]\n",
      "100%|██████████| 3/3 [00:06<00:00,  2.01s/it]\n",
      "100%|██████████| 4/4 [00:08<00:00,  2.03s/it]\n"
     ]
    },
    {
     "name": "stdout",
     "output_type": "stream",
     "text": [
      "      Accuracy: 83.00%  Equal Opportunity Disparity: 0.48\n",
      "|  Simulation : 57 | \n",
      "      seed : 485 -----\n"
     ]
    },
    {
     "name": "stderr",
     "output_type": "stream",
     "text": [
      "100%|██████████| 3/3 [00:06<00:00,  2.03s/it]\n",
      "100%|██████████| 3/3 [00:06<00:00,  2.05s/it]\n",
      "100%|██████████| 4/4 [00:08<00:00,  2.02s/it]\n"
     ]
    },
    {
     "name": "stdout",
     "output_type": "stream",
     "text": [
      "      Accuracy: 86.00%  Equal Opportunity Disparity: 0.19\n",
      "|  Simulation : 58 | \n",
      "      seed : 507 -----\n"
     ]
    },
    {
     "name": "stderr",
     "output_type": "stream",
     "text": [
      "100%|██████████| 3/3 [00:06<00:00,  2.04s/it]\n",
      "100%|██████████| 3/3 [00:06<00:00,  2.05s/it]\n",
      "100%|██████████| 4/4 [00:08<00:00,  2.04s/it]\n"
     ]
    },
    {
     "name": "stdout",
     "output_type": "stream",
     "text": [
      "      Accuracy: 85.00%  Equal Opportunity Disparity: 0.25\n",
      "|  Simulation : 59 | \n",
      "      seed : 529 -----\n"
     ]
    },
    {
     "name": "stderr",
     "output_type": "stream",
     "text": [
      "100%|██████████| 3/3 [00:06<00:00,  2.02s/it]\n",
      "100%|██████████| 3/3 [00:06<00:00,  2.02s/it]\n",
      "100%|██████████| 4/4 [00:08<00:00,  2.08s/it]\n"
     ]
    },
    {
     "name": "stdout",
     "output_type": "stream",
     "text": [
      "      Accuracy: 70.00%  Equal Opportunity Disparity: 0.10\n",
      "|  Simulation : 60 | \n",
      "      seed : 550 -----\n"
     ]
    },
    {
     "name": "stderr",
     "output_type": "stream",
     "text": [
      "100%|██████████| 3/3 [00:06<00:00,  2.07s/it]\n",
      "100%|██████████| 3/3 [00:06<00:00,  2.08s/it]\n",
      "100%|██████████| 4/4 [00:08<00:00,  2.08s/it]\n"
     ]
    },
    {
     "name": "stdout",
     "output_type": "stream",
     "text": [
      "      Accuracy: 92.00%  Equal Opportunity Disparity: 0.02\n",
      "|  Simulation : 61 | \n",
      "      seed : 573 -----\n"
     ]
    },
    {
     "name": "stderr",
     "output_type": "stream",
     "text": [
      "100%|██████████| 3/3 [00:06<00:00,  2.06s/it]\n",
      "100%|██████████| 3/3 [00:06<00:00,  2.04s/it]\n",
      "100%|██████████| 4/4 [00:08<00:00,  2.05s/it]\n"
     ]
    },
    {
     "name": "stdout",
     "output_type": "stream",
     "text": [
      "      Accuracy: 89.00%  Equal Opportunity Disparity: 0.13\n",
      "|  Simulation : 62 | \n",
      "      seed : 595 -----\n"
     ]
    },
    {
     "name": "stderr",
     "output_type": "stream",
     "text": [
      "100%|██████████| 3/3 [00:06<00:00,  2.15s/it]\n",
      "100%|██████████| 3/3 [00:06<00:00,  2.05s/it]\n",
      "100%|██████████| 4/4 [00:08<00:00,  2.04s/it]\n"
     ]
    },
    {
     "name": "stdout",
     "output_type": "stream",
     "text": [
      "      Accuracy: 81.00%  Equal Opportunity Disparity: 0.12\n",
      "|  Simulation : 63 | \n",
      "      seed : 617 -----\n"
     ]
    },
    {
     "name": "stderr",
     "output_type": "stream",
     "text": [
      "100%|██████████| 3/3 [00:06<00:00,  2.04s/it]\n",
      "100%|██████████| 3/3 [00:06<00:00,  2.04s/it]\n",
      "100%|██████████| 4/4 [00:08<00:00,  2.04s/it]\n"
     ]
    },
    {
     "name": "stdout",
     "output_type": "stream",
     "text": [
      "      Accuracy: 89.00%  Equal Opportunity Disparity: 0.13\n",
      "|  Simulation : 64 | \n",
      "      seed : 639 -----\n"
     ]
    },
    {
     "name": "stderr",
     "output_type": "stream",
     "text": [
      "100%|██████████| 3/3 [00:06<00:00,  2.05s/it]\n",
      "100%|██████████| 3/3 [00:06<00:00,  2.05s/it]\n",
      "100%|██████████| 4/4 [00:08<00:00,  2.04s/it]\n"
     ]
    },
    {
     "name": "stdout",
     "output_type": "stream",
     "text": [
      "      Accuracy: 91.00%  Equal Opportunity Disparity: 0.31\n",
      "|  Simulation : 65 | \n",
      "      seed : 661 -----\n"
     ]
    },
    {
     "name": "stderr",
     "output_type": "stream",
     "text": [
      "100%|██████████| 3/3 [00:07<00:00,  2.64s/it]\n",
      "100%|██████████| 3/3 [00:06<00:00,  2.10s/it]\n",
      "100%|██████████| 4/4 [00:08<00:00,  2.10s/it]\n"
     ]
    },
    {
     "name": "stdout",
     "output_type": "stream",
     "text": [
      "      Accuracy: 79.00%  Equal Opportunity Disparity: 0.13\n",
      "|  Simulation : 66 | \n",
      "      seed : 685 -----\n"
     ]
    },
    {
     "name": "stderr",
     "output_type": "stream",
     "text": [
      "100%|██████████| 3/3 [00:06<00:00,  2.05s/it]\n",
      "100%|██████████| 3/3 [00:06<00:00,  2.04s/it]\n",
      "100%|██████████| 4/4 [00:08<00:00,  2.04s/it]\n"
     ]
    },
    {
     "name": "stdout",
     "output_type": "stream",
     "text": [
      "      Accuracy: 88.00%  Equal Opportunity Disparity: 0.34\n",
      "|  Simulation : 67 | \n",
      "      seed : 706 -----\n"
     ]
    },
    {
     "name": "stderr",
     "output_type": "stream",
     "text": [
      "100%|██████████| 3/3 [00:06<00:00,  2.04s/it]\n",
      "100%|██████████| 3/3 [00:06<00:00,  2.04s/it]\n",
      "100%|██████████| 4/4 [00:08<00:00,  2.05s/it]\n"
     ]
    },
    {
     "name": "stdout",
     "output_type": "stream",
     "text": [
      "      Accuracy: 83.00%  Equal Opportunity Disparity: 0.14\n",
      "|  Simulation : 68 | \n",
      "      seed : 728 -----\n"
     ]
    },
    {
     "name": "stderr",
     "output_type": "stream",
     "text": [
      "100%|██████████| 3/3 [00:06<00:00,  2.05s/it]\n",
      "100%|██████████| 3/3 [00:06<00:00,  2.04s/it]\n",
      "100%|██████████| 4/4 [00:08<00:00,  2.05s/it]\n"
     ]
    },
    {
     "name": "stdout",
     "output_type": "stream",
     "text": [
      "      Accuracy: 87.00%  Equal Opportunity Disparity: 0.43\n",
      "|  Simulation : 69 | \n",
      "      seed : 750 -----\n"
     ]
    },
    {
     "name": "stderr",
     "output_type": "stream",
     "text": [
      "100%|██████████| 3/3 [00:06<00:00,  2.03s/it]\n",
      "100%|██████████| 3/3 [00:06<00:00,  2.03s/it]\n",
      "100%|██████████| 4/4 [00:08<00:00,  2.02s/it]\n"
     ]
    },
    {
     "name": "stdout",
     "output_type": "stream",
     "text": [
      "      Accuracy: 89.00%  Equal Opportunity Disparity: 0.13\n",
      "|  Simulation : 70 | \n",
      "      seed : 772 -----\n"
     ]
    },
    {
     "name": "stderr",
     "output_type": "stream",
     "text": [
      "100%|██████████| 3/3 [00:06<00:00,  2.02s/it]\n",
      "100%|██████████| 3/3 [00:06<00:00,  2.29s/it]\n",
      "100%|██████████| 4/4 [00:09<00:00,  2.38s/it]\n"
     ]
    },
    {
     "name": "stdout",
     "output_type": "stream",
     "text": [
      "      Accuracy: 85.00%  Equal Opportunity Disparity: 0.18\n",
      "|  Simulation : 71 | \n",
      "      seed : 796 -----\n"
     ]
    },
    {
     "name": "stderr",
     "output_type": "stream",
     "text": [
      "100%|██████████| 3/3 [00:06<00:00,  2.07s/it]\n",
      "100%|██████████| 3/3 [00:06<00:00,  2.05s/it]\n",
      "100%|██████████| 4/4 [00:08<00:00,  2.05s/it]\n"
     ]
    },
    {
     "name": "stdout",
     "output_type": "stream",
     "text": [
      "      Accuracy: 85.00%  Equal Opportunity Disparity: 0.32\n",
      "|  Simulation : 72 | \n",
      "      seed : 818 -----\n"
     ]
    },
    {
     "name": "stderr",
     "output_type": "stream",
     "text": [
      "100%|██████████| 3/3 [00:06<00:00,  2.04s/it]\n",
      "100%|██████████| 3/3 [00:06<00:00,  2.02s/it]\n",
      "100%|██████████| 4/4 [00:08<00:00,  2.02s/it]\n"
     ]
    },
    {
     "name": "stdout",
     "output_type": "stream",
     "text": [
      "      Accuracy: 81.00%  Equal Opportunity Disparity: 0.16\n",
      "|  Simulation : 73 | \n",
      "      seed : 840 -----\n"
     ]
    },
    {
     "name": "stderr",
     "output_type": "stream",
     "text": [
      "100%|██████████| 3/3 [00:06<00:00,  2.03s/it]\n",
      "100%|██████████| 3/3 [00:06<00:00,  2.02s/it]\n",
      "100%|██████████| 4/4 [00:08<00:00,  2.02s/it]\n"
     ]
    },
    {
     "name": "stdout",
     "output_type": "stream",
     "text": [
      "      Accuracy: 96.00%  Equal Opportunity Disparity: 0.15\n",
      "|  Simulation : 74 | \n",
      "      seed : 861 -----\n"
     ]
    },
    {
     "name": "stderr",
     "output_type": "stream",
     "text": [
      "100%|██████████| 3/3 [00:06<00:00,  2.02s/it]\n",
      "100%|██████████| 3/3 [00:06<00:00,  2.03s/it]\n",
      "100%|██████████| 4/4 [00:08<00:00,  2.02s/it]\n"
     ]
    },
    {
     "name": "stdout",
     "output_type": "stream",
     "text": [
      "      Accuracy: 90.00%  Equal Opportunity Disparity: 0.19\n",
      "|  Simulation : 75 | \n",
      "      seed : 883 -----\n"
     ]
    },
    {
     "name": "stderr",
     "output_type": "stream",
     "text": [
      "100%|██████████| 3/3 [00:06<00:00,  2.02s/it]\n",
      "100%|██████████| 3/3 [00:06<00:00,  2.02s/it]\n",
      "100%|██████████| 4/4 [00:08<00:00,  2.03s/it]\n"
     ]
    },
    {
     "name": "stdout",
     "output_type": "stream",
     "text": [
      "      Accuracy: 93.00%  Equal Opportunity Disparity: 0.12\n",
      "|  Simulation : 76 | \n",
      "      seed : 905 -----\n"
     ]
    },
    {
     "name": "stderr",
     "output_type": "stream",
     "text": [
      "100%|██████████| 3/3 [00:06<00:00,  2.31s/it]\n",
      "100%|██████████| 3/3 [00:06<00:00,  2.15s/it]\n",
      "100%|██████████| 4/4 [00:08<00:00,  2.05s/it]\n"
     ]
    },
    {
     "name": "stdout",
     "output_type": "stream",
     "text": [
      "      Accuracy: 83.00%  Equal Opportunity Disparity: 0.15\n",
      "|  Simulation : 77 | \n",
      "      seed : 929 -----\n"
     ]
    },
    {
     "name": "stderr",
     "output_type": "stream",
     "text": [
      "100%|██████████| 3/3 [00:06<00:00,  2.06s/it]\n",
      "100%|██████████| 3/3 [00:06<00:00,  2.04s/it]\n",
      "100%|██████████| 4/4 [00:08<00:00,  2.05s/it]\n"
     ]
    },
    {
     "name": "stdout",
     "output_type": "stream",
     "text": [
      "      Accuracy: 77.00%  Equal Opportunity Disparity: 0.05\n",
      "|  Simulation : 78 | \n",
      "      seed : 951 -----\n"
     ]
    },
    {
     "name": "stderr",
     "output_type": "stream",
     "text": [
      "100%|██████████| 3/3 [00:06<00:00,  2.02s/it]\n",
      "100%|██████████| 3/3 [00:06<00:00,  2.06s/it]\n",
      "100%|██████████| 4/4 [00:08<00:00,  2.03s/it]\n"
     ]
    },
    {
     "name": "stdout",
     "output_type": "stream",
     "text": [
      "      Accuracy: 88.00%  Equal Opportunity Disparity: 0.28\n",
      "|  Simulation : 79 | \n",
      "      seed : 973 -----\n"
     ]
    },
    {
     "name": "stderr",
     "output_type": "stream",
     "text": [
      "100%|██████████| 3/3 [00:06<00:00,  2.05s/it]\n",
      "100%|██████████| 3/3 [00:06<00:00,  2.04s/it]\n",
      "100%|██████████| 4/4 [00:08<00:00,  2.05s/it]\n"
     ]
    },
    {
     "name": "stdout",
     "output_type": "stream",
     "text": [
      "      Accuracy: 93.00%  Equal Opportunity Disparity: 0.04\n",
      "|  Simulation : 80 | \n",
      "      seed : 995 -----\n"
     ]
    },
    {
     "name": "stderr",
     "output_type": "stream",
     "text": [
      "100%|██████████| 3/3 [00:06<00:00,  2.05s/it]\n",
      "100%|██████████| 3/3 [00:06<00:00,  2.04s/it]\n",
      "100%|██████████| 4/4 [00:08<00:00,  2.04s/it]\n"
     ]
    },
    {
     "name": "stdout",
     "output_type": "stream",
     "text": [
      "      Accuracy: 85.00%  Equal Opportunity Disparity: 0.01\n",
      "|  Simulation : 81 | \n",
      "      seed : 16 -----\n"
     ]
    },
    {
     "name": "stderr",
     "output_type": "stream",
     "text": [
      "100%|██████████| 3/3 [00:06<00:00,  2.02s/it]\n",
      "100%|██████████| 3/3 [00:06<00:00,  2.12s/it]\n",
      "100%|██████████| 4/4 [00:08<00:00,  2.08s/it]\n"
     ]
    },
    {
     "name": "stdout",
     "output_type": "stream",
     "text": [
      "      Accuracy: 80.00%  Equal Opportunity Disparity: 0.21\n",
      "|  Simulation : 82 | \n",
      "      seed : 39 -----\n"
     ]
    },
    {
     "name": "stderr",
     "output_type": "stream",
     "text": [
      "100%|██████████| 3/3 [00:06<00:00,  2.05s/it]\n",
      "100%|██████████| 3/3 [00:06<00:00,  2.04s/it]\n",
      "100%|██████████| 4/4 [00:08<00:00,  2.05s/it]\n"
     ]
    },
    {
     "name": "stdout",
     "output_type": "stream",
     "text": [
      "      Accuracy: 74.00%  Equal Opportunity Disparity: 0.07\n",
      "|  Simulation : 83 | \n",
      "      seed : 61 -----\n"
     ]
    },
    {
     "name": "stderr",
     "output_type": "stream",
     "text": [
      "100%|██████████| 3/3 [00:06<00:00,  2.06s/it]\n",
      "100%|██████████| 3/3 [00:06<00:00,  2.04s/it]\n",
      "100%|██████████| 4/4 [00:08<00:00,  2.04s/it]\n"
     ]
    },
    {
     "name": "stdout",
     "output_type": "stream",
     "text": [
      "      Accuracy: 84.00%  Equal Opportunity Disparity: 0.36\n",
      "|  Simulation : 84 | \n",
      "      seed : 83 -----\n"
     ]
    },
    {
     "name": "stderr",
     "output_type": "stream",
     "text": [
      "100%|██████████| 3/3 [00:06<00:00,  2.09s/it]\n",
      "100%|██████████| 3/3 [00:06<00:00,  2.17s/it]\n",
      "100%|██████████| 4/4 [00:08<00:00,  2.09s/it]\n"
     ]
    },
    {
     "name": "stdout",
     "output_type": "stream",
     "text": [
      "      Accuracy: 77.00%  Equal Opportunity Disparity: 0.02\n",
      "|  Simulation : 85 | \n",
      "      seed : 105 -----\n"
     ]
    },
    {
     "name": "stderr",
     "output_type": "stream",
     "text": [
      "100%|██████████| 3/3 [00:06<00:00,  2.07s/it]\n",
      "100%|██████████| 3/3 [00:06<00:00,  2.05s/it]\n",
      "100%|██████████| 4/4 [00:08<00:00,  2.07s/it]\n"
     ]
    },
    {
     "name": "stdout",
     "output_type": "stream",
     "text": [
      "      Accuracy: 83.00%  Equal Opportunity Disparity: 0.07\n",
      "|  Simulation : 86 | \n",
      "      seed : 127 -----\n"
     ]
    },
    {
     "name": "stderr",
     "output_type": "stream",
     "text": [
      "100%|██████████| 3/3 [00:06<00:00,  2.05s/it]\n",
      "100%|██████████| 3/3 [00:06<00:00,  2.04s/it]\n",
      "100%|██████████| 4/4 [00:10<00:00,  2.58s/it]\n"
     ]
    },
    {
     "name": "stdout",
     "output_type": "stream",
     "text": [
      "      Accuracy: 87.00%  Equal Opportunity Disparity: 0.39\n",
      "|  Simulation : 87 | \n",
      "      seed : 151 -----\n"
     ]
    },
    {
     "name": "stderr",
     "output_type": "stream",
     "text": [
      "100%|██████████| 3/3 [00:06<00:00,  2.15s/it]\n",
      "100%|██████████| 3/3 [00:06<00:00,  2.03s/it]\n",
      "100%|██████████| 4/4 [00:08<00:00,  2.05s/it]\n"
     ]
    },
    {
     "name": "stdout",
     "output_type": "stream",
     "text": [
      "      Accuracy: 87.00%  Equal Opportunity Disparity: 0.25\n",
      "|  Simulation : 88 | \n",
      "      seed : 173 -----\n"
     ]
    },
    {
     "name": "stderr",
     "output_type": "stream",
     "text": [
      "100%|██████████| 3/3 [00:06<00:00,  2.04s/it]\n",
      "100%|██████████| 3/3 [00:06<00:00,  2.05s/it]\n",
      "100%|██████████| 4/4 [00:08<00:00,  2.04s/it]\n"
     ]
    },
    {
     "name": "stdout",
     "output_type": "stream",
     "text": [
      "      Accuracy: 82.00%  Equal Opportunity Disparity: 0.20\n",
      "|  Simulation : 89 | \n",
      "      seed : 195 -----\n"
     ]
    },
    {
     "name": "stderr",
     "output_type": "stream",
     "text": [
      "100%|██████████| 3/3 [00:06<00:00,  2.03s/it]\n",
      "100%|██████████| 3/3 [00:06<00:00,  2.04s/it]\n",
      "100%|██████████| 4/4 [00:08<00:00,  2.03s/it]\n"
     ]
    },
    {
     "name": "stdout",
     "output_type": "stream",
     "text": [
      "      Accuracy: 81.00%  Equal Opportunity Disparity: 0.22\n",
      "|  Simulation : 90 | \n",
      "      seed : 217 -----\n"
     ]
    },
    {
     "name": "stderr",
     "output_type": "stream",
     "text": [
      "100%|██████████| 3/3 [00:06<00:00,  2.05s/it]\n",
      "100%|██████████| 3/3 [00:06<00:00,  2.05s/it]\n",
      "100%|██████████| 4/4 [00:08<00:00,  2.05s/it]\n"
     ]
    },
    {
     "name": "stdout",
     "output_type": "stream",
     "text": [
      "      Accuracy: 84.00%  Equal Opportunity Disparity: 0.01\n",
      "|  Simulation : 91 | \n",
      "      seed : 239 -----\n"
     ]
    },
    {
     "name": "stderr",
     "output_type": "stream",
     "text": [
      "100%|██████████| 3/3 [00:06<00:00,  2.05s/it]\n",
      "100%|██████████| 3/3 [00:06<00:00,  2.05s/it]\n",
      "100%|██████████| 4/4 [00:08<00:00,  2.05s/it]\n"
     ]
    },
    {
     "name": "stdout",
     "output_type": "stream",
     "text": [
      "      Accuracy: 89.00%  Equal Opportunity Disparity: 0.11\n",
      "|  Simulation : 92 | \n",
      "      seed : 261 -----\n"
     ]
    },
    {
     "name": "stderr",
     "output_type": "stream",
     "text": [
      "100%|██████████| 3/3 [00:08<00:00,  2.70s/it]\n",
      "100%|██████████| 3/3 [00:06<00:00,  2.11s/it]\n",
      "100%|██████████| 4/4 [00:08<00:00,  2.09s/it]\n"
     ]
    },
    {
     "name": "stdout",
     "output_type": "stream",
     "text": [
      "      Accuracy: 84.00%  Equal Opportunity Disparity: 0.29\n",
      "|  Simulation : 93 | \n",
      "      seed : 285 -----\n"
     ]
    },
    {
     "name": "stderr",
     "output_type": "stream",
     "text": [
      "100%|██████████| 3/3 [00:06<00:00,  2.05s/it]\n",
      "100%|██████████| 3/3 [00:06<00:00,  2.04s/it]\n",
      "100%|██████████| 4/4 [00:08<00:00,  2.05s/it]\n"
     ]
    },
    {
     "name": "stdout",
     "output_type": "stream",
     "text": [
      "      Accuracy: 93.00%  Equal Opportunity Disparity: 0.02\n",
      "|  Simulation : 94 | \n",
      "      seed : 307 -----\n"
     ]
    },
    {
     "name": "stderr",
     "output_type": "stream",
     "text": [
      "100%|██████████| 3/3 [00:06<00:00,  2.05s/it]\n",
      "100%|██████████| 3/3 [00:06<00:00,  2.04s/it]\n",
      "100%|██████████| 4/4 [00:08<00:00,  2.05s/it]\n"
     ]
    },
    {
     "name": "stdout",
     "output_type": "stream",
     "text": [
      "      Accuracy: 85.00%  Equal Opportunity Disparity: 0.21\n",
      "|  Simulation : 95 | \n",
      "      seed : 329 -----\n"
     ]
    },
    {
     "name": "stderr",
     "output_type": "stream",
     "text": [
      "100%|██████████| 3/3 [00:06<00:00,  2.03s/it]\n",
      "100%|██████████| 3/3 [00:06<00:00,  2.03s/it]\n",
      "100%|██████████| 4/4 [00:08<00:00,  2.04s/it]\n"
     ]
    },
    {
     "name": "stdout",
     "output_type": "stream",
     "text": [
      "      Accuracy: 87.00%  Equal Opportunity Disparity: 0.32\n",
      "|  Simulation : 96 | \n",
      "      seed : 351 -----\n"
     ]
    },
    {
     "name": "stderr",
     "output_type": "stream",
     "text": [
      "100%|██████████| 3/3 [00:06<00:00,  2.06s/it]\n",
      "100%|██████████| 3/3 [00:06<00:00,  2.05s/it]\n",
      "100%|██████████| 4/4 [00:08<00:00,  2.07s/it]\n"
     ]
    },
    {
     "name": "stdout",
     "output_type": "stream",
     "text": [
      "      Accuracy: 89.00%  Equal Opportunity Disparity: 0.10\n",
      "|  Simulation : 97 | \n",
      "      seed : 373 -----\n"
     ]
    },
    {
     "name": "stderr",
     "output_type": "stream",
     "text": [
      "100%|██████████| 3/3 [00:06<00:00,  2.05s/it]\n",
      "100%|██████████| 3/3 [00:07<00:00,  2.52s/it]\n",
      "100%|██████████| 4/4 [00:09<00:00,  2.25s/it]\n"
     ]
    },
    {
     "name": "stdout",
     "output_type": "stream",
     "text": [
      "      Accuracy: 67.00%  Equal Opportunity Disparity: 0.16\n",
      "|  Simulation : 98 | \n",
      "      seed : 397 -----\n"
     ]
    },
    {
     "name": "stderr",
     "output_type": "stream",
     "text": [
      "100%|██████████| 3/3 [00:06<00:00,  2.04s/it]\n",
      "100%|██████████| 3/3 [00:06<00:00,  2.02s/it]\n",
      "100%|██████████| 4/4 [00:08<00:00,  2.06s/it]\n"
     ]
    },
    {
     "name": "stdout",
     "output_type": "stream",
     "text": [
      "      Accuracy: 89.00%  Equal Opportunity Disparity: 0.21\n",
      "|  Simulation : 99 | \n",
      "      seed : 419 -----\n"
     ]
    },
    {
     "name": "stderr",
     "output_type": "stream",
     "text": [
      "100%|██████████| 3/3 [00:06<00:00,  2.05s/it]\n",
      "100%|██████████| 3/3 [00:06<00:00,  2.06s/it]\n",
      "100%|██████████| 4/4 [00:08<00:00,  2.06s/it]\n"
     ]
    },
    {
     "name": "stdout",
     "output_type": "stream",
     "text": [
      "      Accuracy: 85.00%  Equal Opportunity Disparity: 0.27\n",
      "|  Simulation : 100 | \n",
      "      seed : 441 -----\n"
     ]
    },
    {
     "name": "stderr",
     "output_type": "stream",
     "text": [
      "100%|██████████| 3/3 [00:06<00:00,  2.07s/it]\n",
      "100%|██████████| 3/3 [00:06<00:00,  2.05s/it]\n",
      "100%|██████████| 4/4 [00:08<00:00,  2.04s/it]"
     ]
    },
    {
     "name": "stdout",
     "output_type": "stream",
     "text": [
      "      Accuracy: 82.00%  Equal Opportunity Disparity: 0.09\n",
      "| Test Accuracy: 0.845(0.060) | Equal Opportunity Disparity: 0.175(0.115) |\n",
      "| Time elapsed: 2422.48 seconds |\n"
     ]
    },
    {
     "name": "stderr",
     "output_type": "stream",
     "text": [
      "\n"
     ]
    },
    {
     "data": {
      "text/plain": [
       "(0.845, 0.05959026766175832, 0.17499553715767696, 0.11480252401718215)"
      ]
     },
     "execution_count": 2,
     "metadata": {},
     "output_type": "execute_result"
    }
   ],
   "source": [
    "# Fairness Constraint 100\n",
    "runSim(num_sim = 100, train_samples = 3000, test_samples = 100, learning_rate = 0.002, num_rounds = 4, \n",
    "          local_epochs = 30, optimizer = 'adam',\n",
    "          test_rounds = 3, test_lr = 0.01, option = 'fairness constraint', penalty = 10, test_penalty = 10)"
   ]
  },
  {
   "cell_type": "code",
   "execution_count": null,
   "metadata": {
    "scrolled": true
   },
   "outputs": [
    {
     "name": "stdout",
     "output_type": "stream",
     "text": [
      "|  Simulation : 1 | \n",
      "      seed : 313 -----\n"
     ]
    },
    {
     "name": "stderr",
     "output_type": "stream",
     "text": [
      "100%|██████████| 3/3 [00:06<00:00,  2.26s/it]\n",
      "100%|██████████| 3/3 [00:06<00:00,  2.02s/it]\n",
      "100%|██████████| 4/4 [00:10<00:00,  2.53s/it]\n"
     ]
    },
    {
     "name": "stdout",
     "output_type": "stream",
     "text": [
      "      Accuracy: 81.00%  Equal Opportunity Disparity: 0.39\n",
      "|  Simulation : 2 | \n",
      "      seed : 338 -----\n"
     ]
    },
    {
     "name": "stderr",
     "output_type": "stream",
     "text": [
      "100%|██████████| 3/3 [00:07<00:00,  2.45s/it]\n",
      "100%|██████████| 3/3 [00:08<00:00,  2.73s/it]\n",
      "100%|██████████| 4/4 [00:10<00:00,  2.65s/it]\n"
     ]
    },
    {
     "name": "stdout",
     "output_type": "stream",
     "text": [
      "      Accuracy: 77.00%  Equal Opportunity Disparity: 0.18\n",
      "|  Simulation : 3 | \n",
      "      seed : 366 -----\n"
     ]
    },
    {
     "name": "stderr",
     "output_type": "stream",
     "text": [
      "100%|██████████| 3/3 [00:08<00:00,  2.97s/it]\n",
      "100%|██████████| 3/3 [00:07<00:00,  2.62s/it]\n",
      "100%|██████████| 4/4 [00:08<00:00,  2.18s/it]\n"
     ]
    },
    {
     "name": "stdout",
     "output_type": "stream",
     "text": [
      "      Accuracy: 77.00%  Equal Opportunity Disparity: 0.14\n",
      "|  Simulation : 4 | \n",
      "      seed : 393 -----\n"
     ]
    },
    {
     "name": "stderr",
     "output_type": "stream",
     "text": [
      "100%|██████████| 3/3 [00:06<00:00,  2.19s/it]\n",
      "100%|██████████| 3/3 [00:06<00:00,  2.20s/it]\n",
      "100%|██████████| 4/4 [00:09<00:00,  2.33s/it]\n"
     ]
    },
    {
     "name": "stdout",
     "output_type": "stream",
     "text": [
      "      Accuracy: 78.00%  Equal Opportunity Disparity: 0.09\n",
      "|  Simulation : 5 | \n",
      "      seed : 417 -----\n"
     ]
    },
    {
     "name": "stderr",
     "output_type": "stream",
     "text": [
      "100%|██████████| 3/3 [00:11<00:00,  3.92s/it]\n",
      "100%|██████████| 3/3 [00:07<00:00,  2.65s/it]\n",
      "100%|██████████| 4/4 [00:09<00:00,  2.49s/it]\n"
     ]
    },
    {
     "name": "stdout",
     "output_type": "stream",
     "text": [
      "      Accuracy: 73.00%  Equal Opportunity Disparity: 0.01\n",
      "|  Simulation : 6 | \n",
      "      seed : 448 -----\n"
     ]
    },
    {
     "name": "stderr",
     "output_type": "stream",
     "text": [
      "100%|██████████| 3/3 [00:07<00:00,  2.48s/it]\n",
      "100%|██████████| 3/3 [00:06<00:00,  2.26s/it]\n",
      "100%|██████████| 4/4 [00:09<00:00,  2.46s/it]\n"
     ]
    },
    {
     "name": "stdout",
     "output_type": "stream",
     "text": [
      "      Accuracy: 72.00%  Equal Opportunity Disparity: 0.00\n",
      "|  Simulation : 7 | \n",
      "      seed : 474 -----\n"
     ]
    },
    {
     "name": "stderr",
     "output_type": "stream",
     "text": [
      "100%|██████████| 3/3 [00:07<00:00,  2.52s/it]\n",
      "100%|██████████| 3/3 [00:06<00:00,  2.31s/it]\n",
      "100%|██████████| 4/4 [00:09<00:00,  2.26s/it]\n"
     ]
    },
    {
     "name": "stdout",
     "output_type": "stream",
     "text": [
      "      Accuracy: 75.00%  Equal Opportunity Disparity: 0.00\n",
      "|  Simulation : 8 | \n",
      "      seed : 500 -----\n"
     ]
    },
    {
     "name": "stderr",
     "output_type": "stream",
     "text": [
      "100%|██████████| 3/3 [00:06<00:00,  2.10s/it]\n",
      "100%|██████████| 3/3 [00:06<00:00,  2.12s/it]\n",
      "100%|██████████| 4/4 [00:08<00:00,  2.09s/it]\n"
     ]
    },
    {
     "name": "stdout",
     "output_type": "stream",
     "text": [
      "      Accuracy: 69.00%  Equal Opportunity Disparity: 0.26\n",
      "|  Simulation : 9 | \n",
      "      seed : 522 -----\n"
     ]
    },
    {
     "name": "stderr",
     "output_type": "stream",
     "text": [
      "100%|██████████| 3/3 [00:06<00:00,  2.21s/it]\n",
      "100%|██████████| 3/3 [00:06<00:00,  2.05s/it]\n",
      "100%|██████████| 4/4 [00:10<00:00,  2.57s/it]\n"
     ]
    },
    {
     "name": "stdout",
     "output_type": "stream",
     "text": [
      "      Accuracy: 68.00%  Equal Opportunity Disparity: 0.16\n",
      "|  Simulation : 10 | \n",
      "      seed : 547 -----\n"
     ]
    },
    {
     "name": "stderr",
     "output_type": "stream",
     "text": [
      "100%|██████████| 3/3 [00:06<00:00,  2.18s/it]\n",
      "100%|██████████| 3/3 [00:06<00:00,  2.03s/it]\n",
      "100%|██████████| 4/4 [00:08<00:00,  2.05s/it]\n"
     ]
    },
    {
     "name": "stdout",
     "output_type": "stream",
     "text": [
      "      Accuracy: 71.00%  Equal Opportunity Disparity: 0.05\n",
      "|  Simulation : 11 | \n",
      "      seed : 569 -----\n"
     ]
    },
    {
     "name": "stderr",
     "output_type": "stream",
     "text": [
      "100%|██████████| 3/3 [00:06<00:00,  2.15s/it]\n",
      "100%|██████████| 3/3 [00:06<00:00,  2.04s/it]\n",
      "100%|██████████| 4/4 [00:08<00:00,  2.05s/it]\n"
     ]
    },
    {
     "name": "stdout",
     "output_type": "stream",
     "text": [
      "      Accuracy: 55.00%  Equal Opportunity Disparity: 0.12\n",
      "|  Simulation : 12 | \n",
      "      seed : 591 -----\n"
     ]
    },
    {
     "name": "stderr",
     "output_type": "stream",
     "text": [
      "100%|██████████| 3/3 [00:06<00:00,  2.03s/it]\n",
      "100%|██████████| 3/3 [00:06<00:00,  2.04s/it]\n",
      "100%|██████████| 4/4 [00:08<00:00,  2.17s/it]\n"
     ]
    },
    {
     "name": "stdout",
     "output_type": "stream",
     "text": [
      "      Accuracy: 63.00%  Equal Opportunity Disparity: 0.10\n",
      "|  Simulation : 13 | \n",
      "      seed : 614 -----\n"
     ]
    },
    {
     "name": "stderr",
     "output_type": "stream",
     "text": [
      "100%|██████████| 3/3 [00:06<00:00,  2.11s/it]\n",
      "100%|██████████| 3/3 [00:06<00:00,  2.09s/it]\n",
      "100%|██████████| 4/4 [00:08<00:00,  2.21s/it]\n"
     ]
    },
    {
     "name": "stdout",
     "output_type": "stream",
     "text": [
      "      Accuracy: 78.00%  Equal Opportunity Disparity: 0.14\n",
      "|  Simulation : 14 | \n",
      "      seed : 637 -----\n"
     ]
    },
    {
     "name": "stderr",
     "output_type": "stream",
     "text": [
      "100%|██████████| 3/3 [00:07<00:00,  2.57s/it]\n",
      "100%|██████████| 3/3 [00:07<00:00,  2.52s/it]\n",
      "100%|██████████| 4/4 [00:14<00:00,  3.53s/it]\n"
     ]
    },
    {
     "name": "stdout",
     "output_type": "stream",
     "text": [
      "      Accuracy: 88.00%  Equal Opportunity Disparity: 0.27\n",
      "|  Simulation : 15 | \n",
      "      seed : 668 -----\n"
     ]
    },
    {
     "name": "stderr",
     "output_type": "stream",
     "text": [
      "100%|██████████| 3/3 [00:07<00:00,  2.48s/it]\n",
      "100%|██████████| 3/3 [00:06<00:00,  2.30s/it]\n",
      "100%|██████████| 4/4 [00:09<00:00,  2.42s/it]\n"
     ]
    },
    {
     "name": "stdout",
     "output_type": "stream",
     "text": [
      "      Accuracy: 60.00%  Equal Opportunity Disparity: 0.12\n",
      "|  Simulation : 16 | \n",
      "      seed : 695 -----\n"
     ]
    },
    {
     "name": "stderr",
     "output_type": "stream",
     "text": [
      "100%|██████████| 3/3 [00:06<00:00,  2.32s/it]\n",
      "100%|██████████| 3/3 [00:07<00:00,  2.67s/it]\n",
      "100%|██████████| 4/4 [00:12<00:00,  3.07s/it]\n"
     ]
    },
    {
     "name": "stdout",
     "output_type": "stream",
     "text": [
      "      Accuracy: 85.00%  Equal Opportunity Disparity: 0.19\n",
      "|  Simulation : 17 | \n",
      "      seed : 724 -----\n"
     ]
    },
    {
     "name": "stderr",
     "output_type": "stream",
     "text": [
      "100%|██████████| 3/3 [00:06<00:00,  2.18s/it]\n",
      "100%|██████████| 3/3 [00:08<00:00,  2.73s/it]\n",
      "100%|██████████| 4/4 [00:09<00:00,  2.44s/it]\n"
     ]
    },
    {
     "name": "stdout",
     "output_type": "stream",
     "text": [
      "      Accuracy: 84.00%  Equal Opportunity Disparity: 0.17\n",
      "|  Simulation : 18 | \n",
      "      seed : 750 -----\n"
     ]
    },
    {
     "name": "stderr",
     "output_type": "stream",
     "text": [
      "100%|██████████| 3/3 [00:08<00:00,  2.76s/it]\n",
      "100%|██████████| 3/3 [00:06<00:00,  2.15s/it]\n",
      "100%|██████████| 4/4 [00:08<00:00,  2.11s/it]\n"
     ]
    },
    {
     "name": "stdout",
     "output_type": "stream",
     "text": [
      "      Accuracy: 81.00%  Equal Opportunity Disparity: 0.00\n",
      "|  Simulation : 19 | \n",
      "      seed : 775 -----\n"
     ]
    },
    {
     "name": "stderr",
     "output_type": "stream",
     "text": [
      "100%|██████████| 3/3 [00:10<00:00,  3.45s/it]\n",
      "100%|██████████| 3/3 [00:08<00:00,  2.78s/it]\n",
      "100%|██████████| 4/4 [00:11<00:00,  3.00s/it]\n"
     ]
    },
    {
     "name": "stdout",
     "output_type": "stream",
     "text": [
      "      Accuracy: 79.00%  Equal Opportunity Disparity: 0.16\n",
      "|  Simulation : 20 | \n",
      "      seed : 807 -----\n"
     ]
    },
    {
     "name": "stderr",
     "output_type": "stream",
     "text": [
      "100%|██████████| 3/3 [00:07<00:00,  2.60s/it]\n",
      "100%|██████████| 3/3 [00:07<00:00,  2.36s/it]\n",
      "100%|██████████| 4/4 [00:10<00:00,  2.58s/it]\n"
     ]
    },
    {
     "name": "stdout",
     "output_type": "stream",
     "text": [
      "      Accuracy: 82.00%  Equal Opportunity Disparity: 0.11\n",
      "|  Simulation : 21 | \n",
      "      seed : 835 -----\n"
     ]
    },
    {
     "name": "stderr",
     "output_type": "stream",
     "text": [
      "100%|██████████| 3/3 [00:06<00:00,  2.11s/it]\n",
      "100%|██████████| 3/3 [00:06<00:00,  2.05s/it]\n",
      "100%|██████████| 4/4 [00:08<00:00,  2.12s/it]\n"
     ]
    },
    {
     "name": "stdout",
     "output_type": "stream",
     "text": [
      "      Accuracy: 73.00%  Equal Opportunity Disparity: 0.07\n",
      "|  Simulation : 22 | \n",
      "      seed : 858 -----\n"
     ]
    },
    {
     "name": "stderr",
     "output_type": "stream",
     "text": [
      "100%|██████████| 3/3 [00:07<00:00,  2.47s/it]\n",
      "100%|██████████| 3/3 [00:07<00:00,  2.55s/it]\n",
      "100%|██████████| 4/4 [00:11<00:00,  2.93s/it]\n"
     ]
    },
    {
     "name": "stdout",
     "output_type": "stream",
     "text": [
      "      Accuracy: 82.00%  Equal Opportunity Disparity: 0.12\n",
      "|  Simulation : 23 | \n",
      "      seed : 886 -----\n"
     ]
    },
    {
     "name": "stderr",
     "output_type": "stream",
     "text": [
      "100%|██████████| 3/3 [00:09<00:00,  3.01s/it]\n",
      "100%|██████████| 3/3 [00:11<00:00,  3.81s/it]\n",
      "100%|██████████| 4/4 [00:08<00:00,  2.24s/it]\n"
     ]
    },
    {
     "name": "stdout",
     "output_type": "stream",
     "text": [
      "      Accuracy: 74.00%  Equal Opportunity Disparity: 0.03\n",
      "|  Simulation : 24 | \n",
      "      seed : 918 -----\n"
     ]
    },
    {
     "name": "stderr",
     "output_type": "stream",
     "text": [
      "100%|██████████| 3/3 [00:07<00:00,  2.61s/it]\n",
      "100%|██████████| 3/3 [00:07<00:00,  2.51s/it]\n",
      "100%|██████████| 4/4 [00:08<00:00,  2.21s/it]\n"
     ]
    },
    {
     "name": "stdout",
     "output_type": "stream",
     "text": [
      "      Accuracy: 78.00%  Equal Opportunity Disparity: 0.03\n",
      "|  Simulation : 25 | \n",
      "      seed : 943 -----\n"
     ]
    },
    {
     "name": "stderr",
     "output_type": "stream",
     "text": [
      "100%|██████████| 3/3 [00:06<00:00,  2.09s/it]\n",
      "100%|██████████| 3/3 [00:06<00:00,  2.07s/it]\n",
      "100%|██████████| 4/4 [00:08<00:00,  2.11s/it]\n"
     ]
    },
    {
     "name": "stdout",
     "output_type": "stream",
     "text": [
      "      Accuracy: 57.00%  Equal Opportunity Disparity: 0.24\n",
      "|  Simulation : 26 | \n",
      "      seed : 966 -----\n"
     ]
    },
    {
     "name": "stderr",
     "output_type": "stream",
     "text": [
      "100%|██████████| 3/3 [00:06<00:00,  2.07s/it]\n",
      "100%|██████████| 3/3 [00:06<00:00,  2.03s/it]\n",
      "100%|██████████| 4/4 [00:08<00:00,  2.10s/it]\n"
     ]
    },
    {
     "name": "stdout",
     "output_type": "stream",
     "text": [
      "      Accuracy: 76.00%  Equal Opportunity Disparity: 0.32\n",
      "|  Simulation : 27 | \n",
      "      seed : 988 -----\n"
     ]
    },
    {
     "name": "stderr",
     "output_type": "stream",
     "text": [
      "100%|██████████| 3/3 [00:06<00:00,  2.17s/it]\n",
      "100%|██████████| 3/3 [00:06<00:00,  2.06s/it]\n",
      "100%|██████████| 4/4 [00:08<00:00,  2.06s/it]\n"
     ]
    },
    {
     "name": "stdout",
     "output_type": "stream",
     "text": [
      "      Accuracy: 66.00%  Equal Opportunity Disparity: 0.33\n",
      "|  Simulation : 28 | \n",
      "      seed : 10 -----\n"
     ]
    },
    {
     "name": "stderr",
     "output_type": "stream",
     "text": [
      "100%|██████████| 3/3 [00:06<00:00,  2.08s/it]\n",
      "100%|██████████| 3/3 [00:07<00:00,  2.56s/it]\n",
      "100%|██████████| 4/4 [00:09<00:00,  2.26s/it]\n"
     ]
    },
    {
     "name": "stdout",
     "output_type": "stream",
     "text": [
      "      Accuracy: 71.00%  Equal Opportunity Disparity: 0.21\n",
      "|  Simulation : 29 | \n",
      "      seed : 35 -----\n"
     ]
    },
    {
     "name": "stderr",
     "output_type": "stream",
     "text": [
      "100%|██████████| 3/3 [00:06<00:00,  2.06s/it]\n",
      "100%|██████████| 3/3 [00:06<00:00,  2.05s/it]\n",
      "100%|██████████| 4/4 [00:08<00:00,  2.07s/it]\n"
     ]
    },
    {
     "name": "stdout",
     "output_type": "stream",
     "text": [
      "      Accuracy: 75.00%  Equal Opportunity Disparity: 0.03\n",
      "|  Simulation : 30 | \n",
      "      seed : 57 -----\n"
     ]
    },
    {
     "name": "stderr",
     "output_type": "stream",
     "text": [
      "100%|██████████| 3/3 [00:06<00:00,  2.05s/it]\n",
      "100%|██████████| 3/3 [00:06<00:00,  2.04s/it]\n",
      "100%|██████████| 4/4 [00:08<00:00,  2.09s/it]\n"
     ]
    },
    {
     "name": "stdout",
     "output_type": "stream",
     "text": [
      "      Accuracy: 74.00%  Equal Opportunity Disparity: 0.06\n",
      "|  Simulation : 31 | \n",
      "      seed : 79 -----\n"
     ]
    },
    {
     "name": "stderr",
     "output_type": "stream",
     "text": [
      "100%|██████████| 3/3 [00:06<00:00,  2.09s/it]\n",
      "100%|██████████| 3/3 [00:06<00:00,  2.03s/it]\n",
      "100%|██████████| 4/4 [00:08<00:00,  2.06s/it]\n"
     ]
    },
    {
     "name": "stdout",
     "output_type": "stream",
     "text": [
      "      Accuracy: 80.00%  Equal Opportunity Disparity: 0.14\n",
      "|  Simulation : 32 | \n",
      "      seed : 101 -----\n"
     ]
    },
    {
     "name": "stderr",
     "output_type": "stream",
     "text": [
      "100%|██████████| 3/3 [00:06<00:00,  2.08s/it]\n",
      "100%|██████████| 3/3 [00:06<00:00,  2.07s/it]\n",
      "100%|██████████| 4/4 [00:08<00:00,  2.05s/it]\n"
     ]
    },
    {
     "name": "stdout",
     "output_type": "stream",
     "text": [
      "      Accuracy: 81.00%  Equal Opportunity Disparity: 0.39\n",
      "|  Simulation : 33 | \n",
      "      seed : 123 -----\n"
     ]
    },
    {
     "name": "stderr",
     "output_type": "stream",
     "text": [
      "100%|██████████| 3/3 [00:06<00:00,  2.04s/it]\n",
      "100%|██████████| 3/3 [00:06<00:00,  2.03s/it]\n",
      "100%|██████████| 4/4 [00:09<00:00,  2.46s/it]\n"
     ]
    },
    {
     "name": "stdout",
     "output_type": "stream",
     "text": [
      "      Accuracy: 77.00%  Equal Opportunity Disparity: 0.00\n",
      "|  Simulation : 34 | \n",
      "      seed : 147 -----\n"
     ]
    },
    {
     "name": "stderr",
     "output_type": "stream",
     "text": [
      "100%|██████████| 3/3 [00:08<00:00,  2.97s/it]\n",
      "100%|██████████| 3/3 [00:07<00:00,  2.36s/it]\n",
      "100%|██████████| 4/4 [00:08<00:00,  2.22s/it]\n"
     ]
    },
    {
     "name": "stdout",
     "output_type": "stream",
     "text": [
      "      Accuracy: 74.00%  Equal Opportunity Disparity: 0.29\n",
      "|  Simulation : 35 | \n",
      "      seed : 173 -----\n"
     ]
    },
    {
     "name": "stderr",
     "output_type": "stream",
     "text": [
      "100%|██████████| 3/3 [00:06<00:00,  2.11s/it]\n",
      "100%|██████████| 3/3 [00:06<00:00,  2.08s/it]\n",
      "100%|██████████| 4/4 [00:08<00:00,  2.07s/it]\n"
     ]
    },
    {
     "name": "stdout",
     "output_type": "stream",
     "text": [
      "      Accuracy: 71.00%  Equal Opportunity Disparity: 0.01\n",
      "|  Simulation : 36 | \n",
      "      seed : 196 -----\n"
     ]
    },
    {
     "name": "stderr",
     "output_type": "stream",
     "text": [
      "100%|██████████| 3/3 [00:07<00:00,  2.42s/it]\n",
      "100%|██████████| 3/3 [00:06<00:00,  2.32s/it]\n",
      "100%|██████████| 4/4 [00:08<00:00,  2.21s/it]\n"
     ]
    },
    {
     "name": "stdout",
     "output_type": "stream",
     "text": [
      "      Accuracy: 83.00%  Equal Opportunity Disparity: 0.04\n",
      "|  Simulation : 37 | \n",
      "      seed : 220 -----\n"
     ]
    },
    {
     "name": "stderr",
     "output_type": "stream",
     "text": [
      "100%|██████████| 3/3 [00:06<00:00,  2.09s/it]\n",
      "100%|██████████| 3/3 [00:06<00:00,  2.06s/it]\n",
      "100%|██████████| 4/4 [00:08<00:00,  2.04s/it]\n"
     ]
    },
    {
     "name": "stdout",
     "output_type": "stream",
     "text": [
      "      Accuracy: 79.00%  Equal Opportunity Disparity: 0.09\n",
      "|  Simulation : 38 | \n",
      "      seed : 242 -----\n"
     ]
    },
    {
     "name": "stderr",
     "output_type": "stream",
     "text": [
      "100%|██████████| 3/3 [00:06<00:00,  2.13s/it]\n",
      "100%|██████████| 3/3 [00:06<00:00,  2.05s/it]\n",
      "100%|██████████| 4/4 [00:09<00:00,  2.44s/it]\n"
     ]
    },
    {
     "name": "stdout",
     "output_type": "stream",
     "text": [
      "      Accuracy: 64.00%  Equal Opportunity Disparity: 0.09\n",
      "|  Simulation : 39 | \n",
      "      seed : 266 -----\n"
     ]
    },
    {
     "name": "stderr",
     "output_type": "stream",
     "text": [
      "100%|██████████| 3/3 [00:06<00:00,  2.16s/it]\n",
      "100%|██████████| 3/3 [00:08<00:00,  2.72s/it]\n",
      "100%|██████████| 4/4 [00:10<00:00,  2.68s/it]\n"
     ]
    },
    {
     "name": "stdout",
     "output_type": "stream",
     "text": [
      "      Accuracy: 60.00%  Equal Opportunity Disparity: 0.30\n",
      "|  Simulation : 40 | \n",
      "      seed : 293 -----\n"
     ]
    },
    {
     "name": "stderr",
     "output_type": "stream",
     "text": [
      "100%|██████████| 3/3 [00:07<00:00,  2.60s/it]\n",
      "100%|██████████| 3/3 [00:08<00:00,  2.76s/it]\n",
      "100%|██████████| 4/4 [00:10<00:00,  2.71s/it]\n"
     ]
    },
    {
     "name": "stdout",
     "output_type": "stream",
     "text": [
      "      Accuracy: 82.00%  Equal Opportunity Disparity: 0.06\n",
      "|  Simulation : 41 | \n",
      "      seed : 322 -----\n"
     ]
    },
    {
     "name": "stderr",
     "output_type": "stream",
     "text": [
      "100%|██████████| 3/3 [00:07<00:00,  2.33s/it]\n",
      "100%|██████████| 3/3 [00:07<00:00,  2.49s/it]\n",
      "100%|██████████| 4/4 [00:10<00:00,  2.50s/it]\n"
     ]
    },
    {
     "name": "stdout",
     "output_type": "stream",
     "text": [
      "      Accuracy: 73.00%  Equal Opportunity Disparity: 0.34\n",
      "|  Simulation : 42 | \n",
      "      seed : 348 -----\n"
     ]
    },
    {
     "name": "stderr",
     "output_type": "stream",
     "text": [
      "100%|██████████| 3/3 [00:07<00:00,  2.56s/it]\n",
      "100%|██████████| 3/3 [00:06<00:00,  2.26s/it]\n",
      "100%|██████████| 4/4 [00:09<00:00,  2.37s/it]\n"
     ]
    },
    {
     "name": "stdout",
     "output_type": "stream",
     "text": [
      "      Accuracy: 76.00%  Equal Opportunity Disparity: 0.19\n",
      "|  Simulation : 43 | \n",
      "      seed : 374 -----\n"
     ]
    },
    {
     "name": "stderr",
     "output_type": "stream",
     "text": [
      "100%|██████████| 3/3 [00:13<00:00,  4.49s/it]\n",
      "100%|██████████| 3/3 [00:08<00:00,  2.91s/it]\n",
      "100%|██████████| 4/4 [00:10<00:00,  2.64s/it]\n"
     ]
    },
    {
     "name": "stdout",
     "output_type": "stream",
     "text": [
      "      Accuracy: 77.00%  Equal Opportunity Disparity: 0.19\n",
      "|  Simulation : 44 | \n",
      "      seed : 409 -----\n"
     ]
    },
    {
     "name": "stderr",
     "output_type": "stream",
     "text": [
      "100%|██████████| 3/3 [00:10<00:00,  3.61s/it]\n",
      "100%|██████████| 3/3 [00:09<00:00,  3.08s/it]\n",
      "100%|██████████| 4/4 [00:10<00:00,  2.54s/it]\n"
     ]
    },
    {
     "name": "stdout",
     "output_type": "stream",
     "text": [
      "      Accuracy: 57.00%  Equal Opportunity Disparity: 0.08\n",
      "|  Simulation : 45 | \n",
      "      seed : 442 -----\n"
     ]
    },
    {
     "name": "stderr",
     "output_type": "stream",
     "text": [
      "100%|██████████| 3/3 [00:06<00:00,  2.20s/it]\n",
      "100%|██████████| 3/3 [00:07<00:00,  2.54s/it]\n",
      "100%|██████████| 4/4 [00:09<00:00,  2.48s/it]\n"
     ]
    },
    {
     "name": "stdout",
     "output_type": "stream",
     "text": [
      "      Accuracy: 89.00%  Equal Opportunity Disparity: 0.25\n",
      "|  Simulation : 46 | \n",
      "      seed : 468 -----\n"
     ]
    },
    {
     "name": "stderr",
     "output_type": "stream",
     "text": [
      "100%|██████████| 3/3 [00:07<00:00,  2.49s/it]\n",
      "100%|██████████| 3/3 [00:07<00:00,  2.60s/it]\n",
      "100%|██████████| 4/4 [00:09<00:00,  2.27s/it]\n"
     ]
    },
    {
     "name": "stdout",
     "output_type": "stream",
     "text": [
      "      Accuracy: 69.00%  Equal Opportunity Disparity: 0.47\n",
      "|  Simulation : 47 | \n",
      "      seed : 493 -----\n"
     ]
    },
    {
     "name": "stderr",
     "output_type": "stream",
     "text": [
      "100%|██████████| 3/3 [00:06<00:00,  2.33s/it]\n",
      "100%|██████████| 3/3 [00:10<00:00,  3.36s/it]\n",
      "100%|██████████| 4/4 [00:14<00:00,  3.50s/it]\n"
     ]
    },
    {
     "name": "stdout",
     "output_type": "stream",
     "text": [
      "      Accuracy: 81.00%  Equal Opportunity Disparity: 0.10\n",
      "|  Simulation : 48 | \n",
      "      seed : 526 -----\n"
     ]
    },
    {
     "name": "stderr",
     "output_type": "stream",
     "text": [
      "100%|██████████| 3/3 [00:08<00:00,  2.71s/it]\n",
      "100%|██████████| 3/3 [00:08<00:00,  2.85s/it]\n",
      "100%|██████████| 4/4 [00:11<00:00,  2.79s/it]\n"
     ]
    },
    {
     "name": "stdout",
     "output_type": "stream",
     "text": [
      "      Accuracy: 68.00%  Equal Opportunity Disparity: 0.39\n",
      "|  Simulation : 49 | \n",
      "      seed : 556 -----\n"
     ]
    },
    {
     "name": "stderr",
     "output_type": "stream",
     "text": [
      "100%|██████████| 3/3 [00:07<00:00,  2.53s/it]\n",
      "100%|██████████| 3/3 [00:07<00:00,  2.35s/it]\n",
      "100%|██████████| 4/4 [00:10<00:00,  2.68s/it]\n"
     ]
    },
    {
     "name": "stdout",
     "output_type": "stream",
     "text": [
      "      Accuracy: 79.00%  Equal Opportunity Disparity: 0.11\n",
      "|  Simulation : 50 | \n",
      "      seed : 583 -----\n"
     ]
    },
    {
     "name": "stderr",
     "output_type": "stream",
     "text": [
      "100%|██████████| 3/3 [00:10<00:00,  3.60s/it]\n",
      "100%|██████████| 3/3 [00:10<00:00,  3.41s/it]\n",
      "100%|██████████| 4/4 [00:09<00:00,  2.30s/it]\n"
     ]
    },
    {
     "name": "stdout",
     "output_type": "stream",
     "text": [
      "      Accuracy: 81.00%  Equal Opportunity Disparity: 0.06\n",
      "|  Simulation : 51 | \n",
      "      seed : 616 -----\n"
     ]
    },
    {
     "name": "stderr",
     "output_type": "stream",
     "text": [
      "100%|██████████| 3/3 [00:07<00:00,  2.55s/it]\n",
      "100%|██████████| 3/3 [00:07<00:00,  2.44s/it]\n",
      "100%|██████████| 4/4 [00:11<00:00,  2.95s/it]\n"
     ]
    },
    {
     "name": "stdout",
     "output_type": "stream",
     "text": [
      "      Accuracy: 70.00%  Equal Opportunity Disparity: 0.01\n",
      "|  Simulation : 52 | \n",
      "      seed : 644 -----\n"
     ]
    },
    {
     "name": "stderr",
     "output_type": "stream",
     "text": [
      "100%|██████████| 3/3 [00:09<00:00,  3.18s/it]\n",
      "100%|██████████| 3/3 [00:10<00:00,  3.43s/it]\n",
      "100%|██████████| 4/4 [00:10<00:00,  2.74s/it]\n"
     ]
    },
    {
     "name": "stdout",
     "output_type": "stream",
     "text": [
      "      Accuracy: 65.00%  Equal Opportunity Disparity: 0.06\n",
      "|  Simulation : 53 | \n",
      "      seed : 679 -----\n"
     ]
    },
    {
     "name": "stderr",
     "output_type": "stream",
     "text": [
      "100%|██████████| 3/3 [00:07<00:00,  2.50s/it]\n",
      "100%|██████████| 3/3 [00:08<00:00,  2.91s/it]\n",
      "100%|██████████| 4/4 [00:10<00:00,  2.74s/it]\n"
     ]
    },
    {
     "name": "stdout",
     "output_type": "stream",
     "text": [
      "      Accuracy: 67.00%  Equal Opportunity Disparity: 0.24\n",
      "|  Simulation : 54 | \n",
      "      seed : 707 -----\n"
     ]
    },
    {
     "name": "stderr",
     "output_type": "stream",
     "text": [
      "100%|██████████| 3/3 [00:07<00:00,  2.54s/it]\n",
      "100%|██████████| 3/3 [00:07<00:00,  2.50s/it]\n",
      "100%|██████████| 4/4 [00:10<00:00,  2.57s/it]\n"
     ]
    },
    {
     "name": "stdout",
     "output_type": "stream",
     "text": [
      "      Accuracy: 72.00%  Equal Opportunity Disparity: 0.18\n",
      "|  Simulation : 55 | \n",
      "      seed : 735 -----\n"
     ]
    },
    {
     "name": "stderr",
     "output_type": "stream",
     "text": [
      "100%|██████████| 3/3 [00:08<00:00,  2.80s/it]\n",
      "100%|██████████| 3/3 [00:07<00:00,  2.66s/it]\n",
      "100%|██████████| 4/4 [00:16<00:00,  4.00s/it]\n"
     ]
    },
    {
     "name": "stdout",
     "output_type": "stream",
     "text": [
      "      Accuracy: 74.00%  Equal Opportunity Disparity: 0.09\n",
      "|  Simulation : 56 | \n",
      "      seed : 769 -----\n"
     ]
    },
    {
     "name": "stderr",
     "output_type": "stream",
     "text": [
      "100%|██████████| 3/3 [00:07<00:00,  2.40s/it]\n",
      "100%|██████████| 3/3 [00:07<00:00,  2.46s/it]\n",
      "100%|██████████| 4/4 [00:10<00:00,  2.69s/it]\n"
     ]
    },
    {
     "name": "stdout",
     "output_type": "stream",
     "text": [
      "      Accuracy: 79.00%  Equal Opportunity Disparity: 0.06\n",
      "|  Simulation : 57 | \n",
      "      seed : 796 -----\n"
     ]
    },
    {
     "name": "stderr",
     "output_type": "stream",
     "text": [
      "100%|██████████| 3/3 [00:06<00:00,  2.33s/it]\n",
      "100%|██████████| 3/3 [00:08<00:00,  2.81s/it]\n",
      "100%|██████████| 4/4 [00:10<00:00,  2.53s/it]\n"
     ]
    },
    {
     "name": "stdout",
     "output_type": "stream",
     "text": [
      "      Accuracy: 73.00%  Equal Opportunity Disparity: 0.12\n",
      "|  Simulation : 58 | \n",
      "      seed : 823 -----\n"
     ]
    },
    {
     "name": "stderr",
     "output_type": "stream",
     "text": [
      "100%|██████████| 3/3 [00:08<00:00,  2.82s/it]\n",
      "100%|██████████| 3/3 [00:07<00:00,  2.55s/it]\n",
      "100%|██████████| 4/4 [00:11<00:00,  2.91s/it]\n"
     ]
    },
    {
     "name": "stdout",
     "output_type": "stream",
     "text": [
      "      Accuracy: 67.00%  Equal Opportunity Disparity: 0.20\n",
      "|  Simulation : 59 | \n",
      "      seed : 853 -----\n"
     ]
    },
    {
     "name": "stderr",
     "output_type": "stream",
     "text": [
      " 67%|██████▋   | 2/3 [00:05<00:02,  2.58s/it]"
     ]
    }
   ],
   "source": [
    "# Fairness Constraint 100\n",
    "runSim(num_sim = 100, train_samples = 3000, test_samples = 100, learning_rate = 0.002, num_rounds = 4, \n",
    "          local_epochs = 30, optimizer = 'adam',\n",
    "          test_rounds = 3, test_lr = 0.005, option = 'fairness constraint', penalty = 10, test_penalty = 80)"
   ]
  },
  {
   "cell_type": "code",
   "execution_count": null,
   "metadata": {},
   "outputs": [],
   "source": []
  }
 ],
 "metadata": {
  "kernelspec": {
   "display_name": "Python 3",
   "language": "python",
   "name": "python3"
  },
  "language_info": {
   "codemirror_mode": {
    "name": "ipython",
    "version": 3
   },
   "file_extension": ".py",
   "mimetype": "text/x-python",
   "name": "python",
   "nbconvert_exporter": "python",
   "pygments_lexer": "ipython3",
   "version": "3.7.4"
  }
 },
 "nbformat": 4,
 "nbformat_minor": 2
}
