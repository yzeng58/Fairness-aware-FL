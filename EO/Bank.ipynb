{
 "cells": [
  {
   "cell_type": "code",
   "execution_count": 1,
   "metadata": {},
   "outputs": [],
   "source": [
    "from Server import *\n",
    "from load_bank import *\n",
    "seed  = 123"
   ]
  },
  {
   "cell_type": "code",
   "execution_count": 2,
   "metadata": {
    "scrolled": true
   },
   "outputs": [
    {
     "name": "stderr",
     "output_type": "stream",
     "text": [
      "\r",
      "  0%|          | 0/5 [00:00<?, ?it/s]"
     ]
    },
    {
     "name": "stdout",
     "output_type": "stream",
     "text": [
      "\n",
      " | Global Training Round : 1 |\n",
      "\n"
     ]
    },
    {
     "name": "stderr",
     "output_type": "stream",
     "text": [
      "\r",
      " 20%|██        | 1/5 [00:23<01:33, 23.44s/it]"
     ]
    },
    {
     "name": "stdout",
     "output_type": "stream",
     "text": [
      "Client 1: accuracy loss: 40.24 | fairness loss 578.90 | Equal Opportunity Disparity = 0.12\n",
      "Client 2: accuracy loss: 13.72 | fairness loss 553.10 | Equal Opportunity Disparity = 0.16\n",
      "Client 3: accuracy loss: 36.39 | fairness loss 568.70 | Equal Opportunity Disparity = 0.08\n",
      " \n",
      "Avg Training Stats after 1 global rounds:\n",
      "Training loss: 38.25 | Validation accuracy: 90.43% | Validation Equal Opportunity Disparity: 0.1041\n",
      "\n",
      " | Global Training Round : 2 |\n",
      "\n"
     ]
    },
    {
     "name": "stderr",
     "output_type": "stream",
     "text": [
      "\r",
      " 40%|████      | 2/5 [00:46<01:10, 23.46s/it]"
     ]
    },
    {
     "name": "stdout",
     "output_type": "stream",
     "text": [
      "Client 1: accuracy loss: 37.69 | fairness loss 742.91 | Equal Opportunity Disparity = 0.11\n",
      "Client 2: accuracy loss: 12.77 | fairness loss 706.73 | Equal Opportunity Disparity = 0.19\n",
      "Client 3: accuracy loss: 34.05 | fairness loss 713.26 | Equal Opportunity Disparity = 0.09\n",
      " \n",
      "Avg Training Stats after 2 global rounds:\n",
      "Training loss: 36.16 | Validation accuracy: 90.55% | Validation Equal Opportunity Disparity: 0.0975\n",
      "\n",
      " | Global Training Round : 3 |\n",
      "\n"
     ]
    },
    {
     "name": "stderr",
     "output_type": "stream",
     "text": [
      "\r",
      " 60%|██████    | 3/5 [01:10<00:46, 23.43s/it]"
     ]
    },
    {
     "name": "stdout",
     "output_type": "stream",
     "text": [
      "Client 1: accuracy loss: 36.53 | fairness loss 926.26 | Equal Opportunity Disparity = 0.09\n",
      "Client 2: accuracy loss: 12.28 | fairness loss 871.56 | Equal Opportunity Disparity = 0.14\n",
      "Client 3: accuracy loss: 32.87 | fairness loss 876.86 | Equal Opportunity Disparity = 0.12\n",
      " \n",
      "Avg Training Stats after 3 global rounds:\n",
      "Training loss: 34.90 | Validation accuracy: 90.45% | Validation Equal Opportunity Disparity: 0.0896\n",
      "\n",
      " | Global Training Round : 4 |\n",
      "\n"
     ]
    },
    {
     "name": "stderr",
     "output_type": "stream",
     "text": [
      "\r",
      " 80%|████████  | 4/5 [01:29<00:22, 22.26s/it]"
     ]
    },
    {
     "name": "stdout",
     "output_type": "stream",
     "text": [
      "Client 1: accuracy loss: 36.12 | fairness loss 1096.03 | Equal Opportunity Disparity = 0.11\n",
      "Client 2: accuracy loss: 12.07 | fairness loss 1022.35 | Equal Opportunity Disparity = 0.21\n",
      "Client 3: accuracy loss: 32.36 | fairness loss 1030.61 | Equal Opportunity Disparity = 0.09\n",
      " \n",
      "Avg Training Stats after 4 global rounds:\n",
      "Training loss: 34.08 | Validation accuracy: 90.74% | Validation Equal Opportunity Disparity: 0.0899\n",
      "\n",
      " | Global Training Round : 5 |\n",
      "\n",
      "Client 1: accuracy loss: 36.01 | fairness loss 1227.12 | Equal Opportunity Disparity = 0.11\n",
      "Client 2: accuracy loss: 11.99 | fairness loss 1140.02 | Equal Opportunity Disparity = 0.21\n"
     ]
    },
    {
     "name": "stderr",
     "output_type": "stream",
     "text": [
      "100%|██████████| 5/5 [01:52<00:00, 22.48s/it]"
     ]
    },
    {
     "name": "stdout",
     "output_type": "stream",
     "text": [
      "Client 3: accuracy loss: 32.15 | fairness loss 1149.90 | Equal Opportunity Disparity = 0.10\n",
      " \n",
      "Avg Training Stats after 5 global rounds:\n",
      "Training loss: 33.52 | Validation accuracy: 90.75% | Validation Equal Opportunity Disparity: 0.0888\n"
     ]
    },
    {
     "name": "stderr",
     "output_type": "stream",
     "text": [
      "\n"
     ]
    },
    {
     "name": "stdout",
     "output_type": "stream",
     "text": [
      " \n",
      " Results after 5 global rounds of training:\n",
      "|---- Avg Train Accuracy: 90.75%\n",
      "|---- Test Accuracy: 89.95%\n",
      "|---- Test Equal Opportunity Disparity: 0.0258\n",
      "\n",
      " Total Run Time: 112.9352 sec\n"
     ]
    }
   ],
   "source": [
    "server = Server(logReg(num_features=bank_num_features, num_classes=2, seed = seed), bank_info, train_prn = False, seed = seed, Z = bank_z)\n",
    "server.Unconstrained(num_rounds = 5, local_epochs = 20, optimizer = 'adam', learning_rate = 0.002)"
   ]
  },
  {
   "cell_type": "code",
   "execution_count": 3,
   "metadata": {
    "scrolled": true
   },
   "outputs": [
    {
     "name": "stderr",
     "output_type": "stream",
     "text": [
      "\r",
      "  0%|          | 0/5 [00:00<?, ?it/s]"
     ]
    },
    {
     "name": "stdout",
     "output_type": "stream",
     "text": [
      "\n",
      " | Global Training Round : 1 |\n",
      "\n"
     ]
    },
    {
     "name": "stderr",
     "output_type": "stream",
     "text": [
      "\r",
      " 20%|██        | 1/5 [00:21<01:26, 21.53s/it]"
     ]
    },
    {
     "name": "stdout",
     "output_type": "stream",
     "text": [
      "Client 1: accuracy loss: 48.54 | fairness loss 1.98 | Equal Opportunity Disparity = 0.00\n",
      "Client 2: accuracy loss: 16.01 | fairness loss 2.52 | Equal Opportunity Disparity = 0.00\n",
      "Client 3: accuracy loss: 42.64 | fairness loss 1.81 | Equal Opportunity Disparity = 0.00\n",
      " \n",
      "Avg Training Stats after 1 global rounds:\n",
      "Training loss: 44.51 | Validation accuracy: 89.41% | Validation Equal Opportunity Disparity: 0.0000\n",
      "\n",
      " | Global Training Round : 2 |\n",
      "\n"
     ]
    },
    {
     "name": "stderr",
     "output_type": "stream",
     "text": [
      "\r",
      " 40%|████      | 2/5 [00:43<01:05, 21.70s/it]"
     ]
    },
    {
     "name": "stdout",
     "output_type": "stream",
     "text": [
      "Client 1: accuracy loss: 48.39 | fairness loss 2.22 | Equal Opportunity Disparity = 0.00\n",
      "Client 2: accuracy loss: 15.95 | fairness loss 2.95 | Equal Opportunity Disparity = 0.00\n",
      "Client 3: accuracy loss: 42.50 | fairness loss 1.98 | Equal Opportunity Disparity = 0.00\n",
      " \n",
      "Avg Training Stats after 2 global rounds:\n",
      "Training loss: 43.98 | Validation accuracy: 89.41% | Validation Equal Opportunity Disparity: 0.0000\n",
      "\n",
      " | Global Training Round : 3 |\n",
      "\n"
     ]
    },
    {
     "name": "stderr",
     "output_type": "stream",
     "text": [
      "\r",
      " 60%|██████    | 3/5 [01:11<00:47, 23.58s/it]"
     ]
    },
    {
     "name": "stdout",
     "output_type": "stream",
     "text": [
      "Client 1: accuracy loss: 48.38 | fairness loss 2.25 | Equal Opportunity Disparity = 0.00\n",
      "Client 2: accuracy loss: 15.95 | fairness loss 3.01 | Equal Opportunity Disparity = 0.00\n",
      "Client 3: accuracy loss: 42.49 | fairness loss 2.00 | Equal Opportunity Disparity = 0.00\n",
      " \n",
      "Avg Training Stats after 3 global rounds:\n",
      "Training loss: 43.80 | Validation accuracy: 89.41% | Validation Equal Opportunity Disparity: 0.0000\n",
      "\n",
      " | Global Training Round : 4 |\n",
      "\n"
     ]
    },
    {
     "name": "stderr",
     "output_type": "stream",
     "text": [
      "\r",
      " 80%|████████  | 4/5 [01:37<00:24, 24.30s/it]"
     ]
    },
    {
     "name": "stdout",
     "output_type": "stream",
     "text": [
      "Client 1: accuracy loss: 48.38 | fairness loss 2.25 | Equal Opportunity Disparity = 0.00\n",
      "Client 2: accuracy loss: 15.95 | fairness loss 3.02 | Equal Opportunity Disparity = 0.00\n",
      "Client 3: accuracy loss: 42.49 | fairness loss 2.00 | Equal Opportunity Disparity = 0.00\n",
      " \n",
      "Avg Training Stats after 4 global rounds:\n",
      "Training loss: 43.71 | Validation accuracy: 89.41% | Validation Equal Opportunity Disparity: 0.0000\n",
      "\n",
      " | Global Training Round : 5 |\n",
      "\n"
     ]
    },
    {
     "name": "stderr",
     "output_type": "stream",
     "text": [
      "100%|██████████| 5/5 [02:01<00:00, 24.32s/it]"
     ]
    },
    {
     "name": "stdout",
     "output_type": "stream",
     "text": [
      "Client 1: accuracy loss: 48.38 | fairness loss 2.25 | Equal Opportunity Disparity = 0.00\n",
      "Client 2: accuracy loss: 15.95 | fairness loss 3.02 | Equal Opportunity Disparity = 0.00\n",
      "Client 3: accuracy loss: 42.49 | fairness loss 2.01 | Equal Opportunity Disparity = 0.00\n",
      " \n",
      "Avg Training Stats after 5 global rounds:\n",
      "Training loss: 43.65 | Validation accuracy: 89.41% | Validation Equal Opportunity Disparity: 0.0000\n"
     ]
    },
    {
     "name": "stderr",
     "output_type": "stream",
     "text": [
      "\n"
     ]
    },
    {
     "name": "stdout",
     "output_type": "stream",
     "text": [
      " \n",
      " Results after 5 global rounds of training:\n",
      "|---- Avg Train Accuracy: 89.41%\n",
      "|---- Test Accuracy: 88.22%\n",
      "|---- Test Equal Opportunity Disparity: 0.0000\n",
      "\n",
      " Total Run Time: 121.9706 sec\n"
     ]
    }
   ],
   "source": [
    "server = Server(logReg(num_features=bank_num_features, num_classes=2, seed = seed), bank_info, train_prn = False, seed = seed, Z = bank_z)\n",
    "server.LocalFC(num_rounds = 5, local_epochs = 20, optimizer = 'adam', learning_rate = 0.002, penalty = 50)"
   ]
  },
  {
   "cell_type": "code",
   "execution_count": 8,
   "metadata": {
    "scrolled": true
   },
   "outputs": [
    {
     "name": "stderr",
     "output_type": "stream",
     "text": [
      "\r",
      "  0%|          | 0/2 [00:00<?, ?it/s]"
     ]
    },
    {
     "name": "stdout",
     "output_type": "stream",
     "text": [
      "\n",
      " | Global Training Round : 1 |\n",
      "\n"
     ]
    },
    {
     "name": "stderr",
     "output_type": "stream",
     "text": [
      "\r",
      " 50%|█████     | 1/2 [00:32<00:32, 32.26s/it]"
     ]
    },
    {
     "name": "stdout",
     "output_type": "stream",
     "text": [
      "Client 1: accuracy loss: 44.20 | fairness loss 712.04 | Equal Opportunity Disparity = 0.00\n",
      "Client 2: accuracy loss: 14.54 | fairness loss 603.81 | Equal Opportunity Disparity = 0.03\n",
      "Client 3: accuracy loss: 35.29 | fairness loss 706.23 | Equal Opportunity Disparity = 0.05\n",
      " \n",
      "Avg Training Stats after 1 global rounds:\n",
      "Training loss: 35.93 | Validation accuracy: 90.65% | Validation Equal Opportunity Disparity: 0.0194\n",
      "\n",
      " | Global Training Round : 2 |\n",
      "\n"
     ]
    },
    {
     "name": "stderr",
     "output_type": "stream",
     "text": [
      "100%|██████████| 2/2 [00:59<00:00, 29.93s/it]"
     ]
    },
    {
     "name": "stdout",
     "output_type": "stream",
     "text": [
      "Client 1: accuracy loss: 42.77 | fairness loss 1094.55 | Equal Opportunity Disparity = 0.02\n",
      "Client 2: accuracy loss: 13.18 | fairness loss 974.64 | Equal Opportunity Disparity = 0.06\n",
      "Client 3: accuracy loss: 34.00 | fairness loss 1087.59 | Equal Opportunity Disparity = 0.01\n",
      " \n",
      "Avg Training Stats after 2 global rounds:\n",
      "Training loss: 33.91 | Validation accuracy: 91.03% | Validation Equal Opportunity Disparity: 0.0043\n"
     ]
    },
    {
     "name": "stderr",
     "output_type": "stream",
     "text": [
      "\n",
      "  0%|          | 0/3 [00:00<?, ?it/s]"
     ]
    },
    {
     "name": "stdout",
     "output_type": "stream",
     "text": [
      " \n",
      " Results after 2 global rounds of training:\n",
      "|---- Avg Train Accuracy: 91.03%\n",
      "|---- Test Accuracy: 89.87%\n",
      "|---- Test Equal Opportunity Disparity: 0.0439\n",
      "\n",
      " Total Run Time: 59.9820 sec\n"
     ]
    },
    {
     "name": "stderr",
     "output_type": "stream",
     "text": [
      "\r",
      " 33%|███▎      | 1/3 [00:12<00:25, 12.81s/it]"
     ]
    },
    {
     "name": "stdout",
     "output_type": "stream",
     "text": [
      " \n",
      "Avg Training Stats after 1 threshold adjusting global rounds:\n",
      "Training loss: 74.06 | Validation accuracy: 90.29% | Validation Equal Opportunity Disparity: 0.0043\n"
     ]
    },
    {
     "name": "stderr",
     "output_type": "stream",
     "text": [
      "\r",
      " 67%|██████▋   | 2/3 [00:23<00:12, 12.23s/it]"
     ]
    },
    {
     "name": "stdout",
     "output_type": "stream",
     "text": [
      " \n",
      "Avg Training Stats after 2 threshold adjusting global rounds:\n",
      "Training loss: 74.06 | Validation accuracy: 90.29% | Validation Equal Opportunity Disparity: 0.0043\n"
     ]
    },
    {
     "name": "stderr",
     "output_type": "stream",
     "text": [
      "100%|██████████| 3/3 [00:34<00:00, 11.62s/it]"
     ]
    },
    {
     "name": "stdout",
     "output_type": "stream",
     "text": [
      " \n",
      "Avg Training Stats after 3 threshold adjusting global rounds:\n",
      "Training loss: 74.06 | Validation accuracy: 90.34% | Validation Equal Opportunity Disparity: 0.0022\n",
      " \n",
      " Results after 3 global rounds of training:\n",
      "|---- Test Accuracy: 89.05%\n",
      "|---- Test Equal Opportunity Disparity: 0.0439\n",
      "\n",
      " Total Run Time: 35.0730 sec\n"
     ]
    },
    {
     "name": "stderr",
     "output_type": "stream",
     "text": [
      "\n"
     ]
    }
   ],
   "source": [
    "server = Server(logReg(num_features=bank_num_features, num_classes=2, seed = seed), bank_info, train_prn = False, seed = seed)\n",
    "server.Unconstrained(num_rounds = 2, local_epochs = 20, optimizer = 'adam', learning_rate = 0.004)\n",
    "server.ThresholdAdjust(num_rounds = 3, local_epochs = 20, epsilon = 0.0001, learning_rate = 0.00001)"
   ]
  },
  {
   "cell_type": "code",
   "execution_count": 3,
   "metadata": {
    "scrolled": true
   },
   "outputs": [
    {
     "name": "stderr",
     "output_type": "stream",
     "text": [
      "\r",
      "  0%|          | 0/2 [00:00<?, ?it/s]"
     ]
    },
    {
     "name": "stdout",
     "output_type": "stream",
     "text": [
      "\n",
      " | Testing Round : 1 | constraint :  Cov(z, d | y = 1) < c\n",
      "\n"
     ]
    },
    {
     "name": "stderr",
     "output_type": "stream",
     "text": [
      "\r",
      " 50%|█████     | 1/2 [00:24<00:24, 24.73s/it]"
     ]
    },
    {
     "name": "stdout",
     "output_type": "stream",
     "text": [
      "Client 1: accuracy loss: 61.33 | fairness loss 109987.42 | Equal Opportunity Disparity = 0.37\n",
      "Client 2: accuracy loss: 19.75 | fairness loss 83288.39 | Equal Opportunity Disparity = 0.46\n",
      "Client 3: accuracy loss: 50.38 | fairness loss 101226.57 | Equal Opportunity Disparity = 0.50\n",
      " \n",
      "Avg Training Stats after 1 Testing rounds:\n",
      "Training loss: -1491.83 | Validation accuracy: 89.37% | Validation Equal Opportunity Disparity: 0.4271\n",
      "\n",
      " | Testing Round : 2 | constraint :  Cov(z, d | y = 1) < c\n",
      "\n"
     ]
    },
    {
     "name": "stderr",
     "output_type": "stream",
     "text": [
      "100%|██████████| 2/2 [01:07<00:00, 33.64s/it]\n",
      "  0%|          | 0/2 [00:00<?, ?it/s]"
     ]
    },
    {
     "name": "stdout",
     "output_type": "stream",
     "text": [
      "Client 1: accuracy loss: 68.19 | fairness loss 459614.05 | Equal Opportunity Disparity = 0.46\n",
      "Client 2: accuracy loss: 21.23 | fairness loss 348007.36 | Equal Opportunity Disparity = 0.59\n",
      "Client 3: accuracy loss: 56.63 | fairness loss 422848.86 | Equal Opportunity Disparity = 0.56\n",
      " \n",
      "Avg Training Stats after 2 Testing rounds:\n",
      "Training loss: -2902.51 | Validation accuracy: 88.45% | Validation Equal Opportunity Disparity: 0.5132\n",
      "\n",
      " | Testing Round : 1 | constraint :  Cov(z, d | y = 1) > -c\n",
      "\n"
     ]
    },
    {
     "name": "stderr",
     "output_type": "stream",
     "text": [
      "\r",
      " 50%|█████     | 1/2 [00:46<00:46, 46.36s/it]"
     ]
    },
    {
     "name": "stdout",
     "output_type": "stream",
     "text": [
      "Client 1: accuracy loss: 63.30 | fairness loss 113612.21 | Equal Opportunity Disparity = 0.49\n",
      "Client 2: accuracy loss: 20.54 | fairness loss 86704.91 | Equal Opportunity Disparity = 0.27\n",
      "Client 3: accuracy loss: 48.63 | fairness loss 104748.91 | Equal Opportunity Disparity = 0.39\n",
      " \n",
      "Avg Training Stats after 1 Testing rounds:\n",
      "Training loss: -2446.67 | Validation accuracy: 89.17% | Validation Equal Opportunity Disparity: 0.4258\n",
      "\n",
      " | Testing Round : 2 | constraint :  Cov(z, d | y = 1) > -c\n",
      "\n",
      "Client 1: accuracy loss: 70.16 | fairness loss 466538.54 | Equal Opportunity Disparity = 0.19\n",
      "Client 2: accuracy loss: 21.28 | fairness loss 355504.01 | Equal Opportunity Disparity = 0.25\n"
     ]
    },
    {
     "name": "stderr",
     "output_type": "stream",
     "text": [
      "100%|██████████| 2/2 [01:32<00:00, 46.31s/it]\n",
      "  0%|          | 0/6 [00:00<?, ?it/s]"
     ]
    },
    {
     "name": "stdout",
     "output_type": "stream",
     "text": [
      "Client 3: accuracy loss: 52.87 | fairness loss 429848.83 | Equal Opportunity Disparity = 0.23\n",
      " \n",
      "Avg Training Stats after 2 Testing rounds:\n",
      "Training loss: -2923.58 | Validation accuracy: 89.31% | Validation Equal Opportunity Disparity: 0.1987\n",
      "\n",
      " | Global Round : 1 | constraint :  Cov(z, d | y = 1) > -c\n",
      "\n"
     ]
    },
    {
     "name": "stderr",
     "output_type": "stream",
     "text": [
      "\r",
      " 17%|█▋        | 1/6 [00:41<03:29, 41.93s/it]"
     ]
    },
    {
     "name": "stdout",
     "output_type": "stream",
     "text": [
      "Client 1: accuracy loss: 75.72 | fairness loss 1043736.01 | Equal Opportunity Disparity = 0.21\n",
      "Client 2: accuracy loss: 21.90 | fairness loss 796396.09 | Equal Opportunity Disparity = 0.17\n",
      "Client 3: accuracy loss: 56.66 | fairness loss 961921.49 | Equal Opportunity Disparity = 0.17\n",
      " \n",
      "Avg Training Stats after 1 global rounds:\n",
      "Training loss: -3047.67 | Validation accuracy: 89.79% | Validation Equal Opportunity Disparity: 0.1719\n",
      "\n",
      " | Global Round : 2 | constraint :  Cov(z, d | y = 1) > -c\n",
      "\n"
     ]
    },
    {
     "name": "stderr",
     "output_type": "stream",
     "text": [
      "\r",
      " 33%|███▎      | 2/6 [01:14<02:35, 38.99s/it]"
     ]
    },
    {
     "name": "stdout",
     "output_type": "stream",
     "text": [
      "Client 1: accuracy loss: 83.03 | fairness loss 1850241.01 | Equal Opportunity Disparity = 0.12\n",
      "Client 2: accuracy loss: 23.37 | fairness loss 1412779.25 | Equal Opportunity Disparity = 0.16\n",
      "Client 3: accuracy loss: 61.90 | fairness loss 1705480.78 | Equal Opportunity Disparity = 0.17\n",
      " \n",
      "Avg Training Stats after 2 global rounds:\n",
      "Training loss: -3360.10 | Validation accuracy: 89.78% | Validation Equal Opportunity Disparity: 0.1329\n",
      "\n",
      " | Global Round : 3 | constraint :  Cov(z, d | y = 1) > -c\n",
      "\n"
     ]
    },
    {
     "name": "stderr",
     "output_type": "stream",
     "text": [
      "\r",
      " 50%|█████     | 3/6 [01:42<01:47, 35.70s/it]"
     ]
    },
    {
     "name": "stdout",
     "output_type": "stream",
     "text": [
      "Client 1: accuracy loss: 91.09 | fairness loss 2885785.18 | Equal Opportunity Disparity = 0.09\n",
      "Client 2: accuracy loss: 25.23 | fairness loss 2204413.94 | Equal Opportunity Disparity = 0.09\n",
      "Client 3: accuracy loss: 67.73 | fairness loss 2660255.82 | Equal Opportunity Disparity = 0.17\n",
      " \n",
      "Avg Training Stats after 3 global rounds:\n",
      "Training loss: -3780.08 | Validation accuracy: 89.82% | Validation Equal Opportunity Disparity: 0.1168\n",
      "\n",
      " | Global Round : 4 | constraint :  Cov(z, d | y = 1) > -c\n",
      "\n"
     ]
    },
    {
     "name": "stderr",
     "output_type": "stream",
     "text": [
      "\r",
      " 67%|██████▋   | 4/6 [02:12<01:08, 34.17s/it]"
     ]
    },
    {
     "name": "stdout",
     "output_type": "stream",
     "text": [
      "Client 1: accuracy loss: 99.62 | fairness loss 4150001.50 | Equal Opportunity Disparity = 0.10\n",
      "Client 2: accuracy loss: 27.31 | fairness loss 3171032.60 | Equal Opportunity Disparity = 0.06\n",
      "Client 3: accuracy loss: 73.94 | fairness loss 3825914.43 | Equal Opportunity Disparity = 0.09\n",
      " \n",
      "Avg Training Stats after 4 global rounds:\n",
      "Training loss: -4267.23 | Validation accuracy: 89.79% | Validation Equal Opportunity Disparity: 0.0758\n",
      "\n",
      " | Global Round : 5 | constraint :  Cov(z, d | y = 1) > -c\n",
      "\n"
     ]
    },
    {
     "name": "stderr",
     "output_type": "stream",
     "text": [
      "\r",
      " 83%|████████▎ | 5/6 [02:44<00:33, 33.49s/it]"
     ]
    },
    {
     "name": "stdout",
     "output_type": "stream",
     "text": [
      "Client 1: accuracy loss: 108.51 | fairness loss 5642533.68 | Equal Opportunity Disparity = 0.07\n",
      "Client 2: accuracy loss: 29.55 | fairness loss 4312382.80 | Equal Opportunity Disparity = 0.08\n",
      "Client 3: accuracy loss: 80.42 | fairness loss 5202134.41 | Equal Opportunity Disparity = 0.05\n",
      " \n",
      "Avg Training Stats after 5 global rounds:\n",
      "Training loss: -4799.09 | Validation accuracy: 89.68% | Validation Equal Opportunity Disparity: 0.0562\n",
      "\n",
      " | Global Round : 6 | constraint :  Cov(z, d | y = 1) > -c\n",
      "\n"
     ]
    },
    {
     "name": "stderr",
     "output_type": "stream",
     "text": [
      "100%|██████████| 6/6 [03:08<00:00, 31.40s/it]"
     ]
    },
    {
     "name": "stdout",
     "output_type": "stream",
     "text": [
      "Client 1: accuracy loss: 117.71 | fairness loss 7363034.32 | Equal Opportunity Disparity = 0.07\n",
      "Client 2: accuracy loss: 31.90 | fairness loss 5628220.61 | Equal Opportunity Disparity = 0.08\n",
      "Client 3: accuracy loss: 87.13 | fairness loss 6788601.99 | Equal Opportunity Disparity = 0.05\n",
      " \n",
      "Avg Training Stats after 6 global rounds:\n",
      "Training loss: -5362.19 | Validation accuracy: 89.66% | Validation Equal Opportunity Disparity: 0.0584\n"
     ]
    },
    {
     "name": "stderr",
     "output_type": "stream",
     "text": [
      "\n"
     ]
    },
    {
     "name": "stdout",
     "output_type": "stream",
     "text": [
      " \n",
      " Results after 6 global rounds of training:\n",
      "|---- Avg Train Accuracy: 89.66%\n",
      "|---- Test Accuracy: 88.15%\n",
      "|---- Test Equal Opportunity Disparity: 0.0707\n",
      "\n",
      " Total Run Time: 348.5672 sec\n"
     ]
    }
   ],
   "source": [
    "server = Server(logReg(num_features=bank_num_features, num_classes=2, seed = seed), bank_info, train_prn = False, seed = seed, Z = bank_z)\n",
    "server.FairConstraints(test_rounds = 2, test_lr = 0.005, test_penalty = 100, num_rounds = 6, local_epochs = 20, optimizer = 'adam', learning_rate = 0.005, penalty = 50)\n"
   ]
  },
  {
   "cell_type": "code",
   "execution_count": 20,
   "metadata": {},
   "outputs": [
    {
     "name": "stderr",
     "output_type": "stream",
     "text": [
      "\r",
      "  0%|          | 0/10 [00:00<?, ?it/s]"
     ]
    },
    {
     "name": "stdout",
     "output_type": "stream",
     "text": [
      "\n",
      " | Global Training Round : 1 |\n",
      "\n"
     ]
    },
    {
     "name": "stderr",
     "output_type": "stream",
     "text": [
      "\r",
      " 10%|█         | 1/10 [00:27<04:05, 27.26s/it]"
     ]
    },
    {
     "name": "stdout",
     "output_type": "stream",
     "text": [
      "Client 1: accuracy loss: 57.82 | fairness loss 158.63 | Equal Opportunity Disparity = 0.10\n",
      "Client 2: accuracy loss: 20.37 | fairness loss 130.07 | Equal Opportunity Disparity = 0.12\n",
      "Client 3: accuracy loss: 46.74 | fairness loss 157.90 | Equal Opportunity Disparity = 0.12\n",
      " \n",
      "Avg Training Stats after 1 global rounds:\n",
      "Training loss: 0.30 | Validation accuracy: 90.31% | Validation Equal Opportunity Disparity: 0.0915\n",
      "\n",
      " | Global Training Round : 2 |\n",
      "\n"
     ]
    },
    {
     "name": "stderr",
     "output_type": "stream",
     "text": [
      "\r",
      " 20%|██        | 2/10 [00:52<03:34, 26.77s/it]"
     ]
    },
    {
     "name": "stdout",
     "output_type": "stream",
     "text": [
      "Client 1: accuracy loss: 56.19 | fairness loss 175.10 | Equal Opportunity Disparity = 0.09\n",
      "Client 2: accuracy loss: 19.58 | fairness loss 144.44 | Equal Opportunity Disparity = 0.07\n",
      "Client 3: accuracy loss: 45.30 | fairness loss 175.72 | Equal Opportunity Disparity = 0.15\n",
      " \n",
      "Avg Training Stats after 2 global rounds:\n",
      "Training loss: 0.29 | Validation accuracy: 90.52% | Validation Equal Opportunity Disparity: 0.0737\n",
      "\n",
      " | Global Training Round : 3 |\n",
      "\n"
     ]
    },
    {
     "name": "stderr",
     "output_type": "stream",
     "text": [
      "\r",
      " 30%|███       | 3/10 [01:18<03:05, 26.51s/it]"
     ]
    },
    {
     "name": "stdout",
     "output_type": "stream",
     "text": [
      "Client 1: accuracy loss: 55.54 | fairness loss 185.11 | Equal Opportunity Disparity = 0.08\n",
      "Client 2: accuracy loss: 19.25 | fairness loss 154.20 | Equal Opportunity Disparity = 0.15\n",
      "Client 3: accuracy loss: 44.73 | fairness loss 186.70 | Equal Opportunity Disparity = 0.11\n",
      " \n",
      "Avg Training Stats after 3 global rounds:\n",
      "Training loss: 0.28 | Validation accuracy: 90.57% | Validation Equal Opportunity Disparity: 0.0737\n",
      "\n",
      " | Global Training Round : 4 |\n",
      "\n"
     ]
    },
    {
     "name": "stderr",
     "output_type": "stream",
     "text": [
      "\r",
      " 40%|████      | 4/10 [01:42<02:33, 25.65s/it]"
     ]
    },
    {
     "name": "stdout",
     "output_type": "stream",
     "text": [
      "Client 1: accuracy loss: 55.27 | fairness loss 190.19 | Equal Opportunity Disparity = 0.07\n",
      "Client 2: accuracy loss: 19.11 | fairness loss 159.20 | Equal Opportunity Disparity = 0.18\n",
      "Client 3: accuracy loss: 44.49 | fairness loss 192.24 | Equal Opportunity Disparity = 0.11\n",
      " \n",
      "Avg Training Stats after 4 global rounds:\n",
      "Training loss: 0.28 | Validation accuracy: 90.67% | Validation Equal Opportunity Disparity: 0.0670\n",
      "\n",
      " | Global Training Round : 5 |\n",
      "\n"
     ]
    },
    {
     "name": "stderr",
     "output_type": "stream",
     "text": [
      "\r",
      " 50%|█████     | 5/10 [02:05<02:04, 24.97s/it]"
     ]
    },
    {
     "name": "stdout",
     "output_type": "stream",
     "text": [
      "Client 1: accuracy loss: 55.16 | fairness loss 192.47 | Equal Opportunity Disparity = 0.07\n",
      "Client 2: accuracy loss: 19.05 | fairness loss 161.43 | Equal Opportunity Disparity = 0.18\n",
      "Client 3: accuracy loss: 44.40 | fairness loss 194.71 | Equal Opportunity Disparity = 0.11\n",
      " \n",
      "Avg Training Stats after 5 global rounds:\n",
      "Training loss: 0.28 | Validation accuracy: 90.64% | Validation Equal Opportunity Disparity: 0.0670\n",
      "\n",
      " | Global Training Round : 6 |\n",
      "\n"
     ]
    },
    {
     "name": "stderr",
     "output_type": "stream",
     "text": [
      "\r",
      " 60%|██████    | 6/10 [02:28<01:37, 24.43s/it]"
     ]
    },
    {
     "name": "stdout",
     "output_type": "stream",
     "text": [
      "Client 1: accuracy loss: 55.12 | fairness loss 193.39 | Equal Opportunity Disparity = 0.07\n",
      "Client 2: accuracy loss: 19.03 | fairness loss 162.34 | Equal Opportunity Disparity = 0.18\n",
      "Client 3: accuracy loss: 44.36 | fairness loss 195.71 | Equal Opportunity Disparity = 0.11\n",
      " \n",
      "Avg Training Stats after 6 global rounds:\n",
      "Training loss: 0.27 | Validation accuracy: 90.64% | Validation Equal Opportunity Disparity: 0.0670\n",
      "\n",
      " | Global Training Round : 7 |\n",
      "\n"
     ]
    },
    {
     "name": "stderr",
     "output_type": "stream",
     "text": [
      "\r",
      " 70%|███████   | 7/10 [02:51<01:11, 23.94s/it]"
     ]
    },
    {
     "name": "stdout",
     "output_type": "stream",
     "text": [
      "Client 1: accuracy loss: 55.10 | fairness loss 193.72 | Equal Opportunity Disparity = 0.07\n",
      "Client 2: accuracy loss: 19.02 | fairness loss 162.67 | Equal Opportunity Disparity = 0.18\n",
      "Client 3: accuracy loss: 44.34 | fairness loss 196.05 | Equal Opportunity Disparity = 0.11\n",
      " \n",
      "Avg Training Stats after 7 global rounds:\n",
      "Training loss: 0.27 | Validation accuracy: 90.64% | Validation Equal Opportunity Disparity: 0.0670\n",
      "\n",
      " | Global Training Round : 8 |\n",
      "\n"
     ]
    },
    {
     "name": "stderr",
     "output_type": "stream",
     "text": [
      "\r",
      " 80%|████████  | 8/10 [03:14<00:47, 23.61s/it]"
     ]
    },
    {
     "name": "stdout",
     "output_type": "stream",
     "text": [
      "Client 1: accuracy loss: 55.10 | fairness loss 193.78 | Equal Opportunity Disparity = 0.07\n",
      "Client 2: accuracy loss: 19.02 | fairness loss 162.73 | Equal Opportunity Disparity = 0.18\n",
      "Client 3: accuracy loss: 44.34 | fairness loss 196.12 | Equal Opportunity Disparity = 0.11\n",
      " \n",
      "Avg Training Stats after 8 global rounds:\n",
      "Training loss: 0.27 | Validation accuracy: 90.64% | Validation Equal Opportunity Disparity: 0.0670\n",
      "\n",
      " | Global Training Round : 9 |\n",
      "\n"
     ]
    },
    {
     "name": "stderr",
     "output_type": "stream",
     "text": [
      "\r",
      " 90%|█████████ | 9/10 [03:37<00:23, 23.41s/it]"
     ]
    },
    {
     "name": "stdout",
     "output_type": "stream",
     "text": [
      "Client 1: accuracy loss: 55.10 | fairness loss 193.74 | Equal Opportunity Disparity = 0.07\n",
      "Client 2: accuracy loss: 19.02 | fairness loss 162.69 | Equal Opportunity Disparity = 0.18\n",
      "Client 3: accuracy loss: 44.34 | fairness loss 196.06 | Equal Opportunity Disparity = 0.11\n",
      " \n",
      "Avg Training Stats after 9 global rounds:\n",
      "Training loss: 0.27 | Validation accuracy: 90.64% | Validation Equal Opportunity Disparity: 0.0670\n",
      "\n",
      " | Global Training Round : 10 |\n",
      "\n"
     ]
    },
    {
     "name": "stderr",
     "output_type": "stream",
     "text": [
      "100%|██████████| 10/10 [04:00<00:00, 24.04s/it]"
     ]
    },
    {
     "name": "stdout",
     "output_type": "stream",
     "text": [
      "Client 1: accuracy loss: 55.10 | fairness loss 193.64 | Equal Opportunity Disparity = 0.07\n",
      "Client 2: accuracy loss: 19.02 | fairness loss 162.60 | Equal Opportunity Disparity = 0.18\n",
      "Client 3: accuracy loss: 44.34 | fairness loss 195.95 | Equal Opportunity Disparity = 0.11\n",
      " \n",
      "Avg Training Stats after 10 global rounds:\n",
      "Training loss: 0.27 | Validation accuracy: 90.64% | Validation Equal Opportunity Disparity: 0.0670\n",
      " \n",
      " Results after 10 global rounds of training:\n",
      "|---- Avg Train Accuracy: 90.64%\n",
      "|---- Test Accuracy: 89.47%\n",
      "|---- Test Equal Opportunity Disparity: 0.0566\n",
      "\n",
      " Total Run Time: 240.6321 sec\n"
     ]
    },
    {
     "name": "stderr",
     "output_type": "stream",
     "text": [
      "\n"
     ]
    }
   ],
   "source": [
    "server = Server(logReg(num_features=bank_num_features, num_classes=2, seed = seed), bank_info, train_prn = False, seed = seed, Z = bank_z)\n",
    "server.BiasCorrecting(num_rounds = 10, local_epochs = 20, optimizer = 'adam', learning_rate = 0.002, alpha = 0.2)"
   ]
  },
  {
   "cell_type": "code",
   "execution_count": 23,
   "metadata": {
    "scrolled": true
   },
   "outputs": [
    {
     "name": "stderr",
     "output_type": "stream",
     "text": [
      "\r",
      "  0%|          | 0/10 [00:00<?, ?it/s]"
     ]
    },
    {
     "name": "stdout",
     "output_type": "stream",
     "text": [
      "\n",
      " | Global Training Round : 1 |\n",
      "\n"
     ]
    },
    {
     "name": "stderr",
     "output_type": "stream",
     "text": [
      "\r",
      " 10%|█         | 1/10 [00:25<03:46, 25.22s/it]"
     ]
    },
    {
     "name": "stdout",
     "output_type": "stream",
     "text": [
      "Client 1: accuracy loss: 54.01 | fairness loss 217.81 | Equal Opportunity Disparity = 0.05\n",
      "Client 2: accuracy loss: 18.58 | fairness loss 188.61 | Equal Opportunity Disparity = 0.18\n",
      "Client 3: accuracy loss: 43.45 | fairness loss 219.64 | Equal Opportunity Disparity = 0.11\n",
      " \n",
      "Avg Training Stats after 1 global rounds:\n",
      "Training loss: 0.28 | Validation accuracy: 90.70% | Validation Equal Opportunity Disparity: 0.0647\n",
      "\n",
      " | Global Training Round : 2 |\n",
      "\n"
     ]
    },
    {
     "name": "stderr",
     "output_type": "stream",
     "text": [
      "\r",
      " 20%|██        | 2/10 [00:50<03:22, 25.30s/it]"
     ]
    },
    {
     "name": "stdout",
     "output_type": "stream",
     "text": [
      "Client 1: accuracy loss: 52.63 | fairness loss 249.76 | Equal Opportunity Disparity = 0.10\n",
      "Client 2: accuracy loss: 17.82 | fairness loss 217.77 | Equal Opportunity Disparity = 0.18\n",
      "Client 3: accuracy loss: 42.21 | fairness loss 252.34 | Equal Opportunity Disparity = 0.08\n",
      " \n",
      "Avg Training Stats after 2 global rounds:\n",
      "Training loss: 0.27 | Validation accuracy: 90.73% | Validation Equal Opportunity Disparity: 0.0491\n",
      "\n",
      " | Global Training Round : 3 |\n",
      "\n"
     ]
    },
    {
     "name": "stderr",
     "output_type": "stream",
     "text": [
      "\r",
      " 30%|███       | 3/10 [01:16<02:57, 25.30s/it]"
     ]
    },
    {
     "name": "stdout",
     "output_type": "stream",
     "text": [
      "Client 1: accuracy loss: 52.45 | fairness loss 256.32 | Equal Opportunity Disparity = 0.09\n",
      "Client 2: accuracy loss: 17.70 | fairness loss 223.73 | Equal Opportunity Disparity = 0.19\n",
      "Client 3: accuracy loss: 42.02 | fairness loss 258.93 | Equal Opportunity Disparity = 0.05\n",
      " \n",
      "Avg Training Stats after 3 global rounds:\n",
      "Training loss: 0.27 | Validation accuracy: 90.71% | Validation Equal Opportunity Disparity: 0.0379\n",
      "\n",
      " | Global Training Round : 4 |\n",
      "\n"
     ]
    },
    {
     "name": "stderr",
     "output_type": "stream",
     "text": [
      "\r",
      " 40%|████      | 4/10 [01:38<02:27, 24.57s/it]"
     ]
    },
    {
     "name": "stdout",
     "output_type": "stream",
     "text": [
      "Client 1: accuracy loss: 52.47 | fairness loss 255.70 | Equal Opportunity Disparity = 0.11\n",
      "Client 2: accuracy loss: 17.69 | fairness loss 223.33 | Equal Opportunity Disparity = 0.19\n",
      "Client 3: accuracy loss: 42.03 | fairness loss 258.15 | Equal Opportunity Disparity = 0.05\n",
      " \n",
      "Avg Training Stats after 4 global rounds:\n",
      "Training loss: 0.26 | Validation accuracy: 90.73% | Validation Equal Opportunity Disparity: 0.0402\n",
      "\n",
      " | Global Training Round : 5 |\n",
      "\n"
     ]
    },
    {
     "name": "stderr",
     "output_type": "stream",
     "text": [
      "\r",
      " 50%|█████     | 5/10 [02:01<02:00, 24.03s/it]"
     ]
    },
    {
     "name": "stdout",
     "output_type": "stream",
     "text": [
      "Client 1: accuracy loss: 52.52 | fairness loss 253.96 | Equal Opportunity Disparity = 0.07\n",
      "Client 2: accuracy loss: 17.71 | fairness loss 221.94 | Equal Opportunity Disparity = 0.21\n",
      "Client 3: accuracy loss: 42.06 | fairness loss 256.25 | Equal Opportunity Disparity = 0.05\n",
      " \n",
      "Avg Training Stats after 5 global rounds:\n",
      "Training loss: 0.26 | Validation accuracy: 90.69% | Validation Equal Opportunity Disparity: 0.0379\n",
      "\n",
      " | Global Training Round : 6 |\n",
      "\n"
     ]
    },
    {
     "name": "stderr",
     "output_type": "stream",
     "text": [
      "\r",
      " 60%|██████    | 6/10 [02:25<01:36, 24.12s/it]"
     ]
    },
    {
     "name": "stdout",
     "output_type": "stream",
     "text": [
      "Client 1: accuracy loss: 52.58 | fairness loss 252.29 | Equal Opportunity Disparity = 0.09\n",
      "Client 2: accuracy loss: 17.73 | fairness loss 220.58 | Equal Opportunity Disparity = 0.21\n",
      "Client 3: accuracy loss: 42.10 | fairness loss 254.41 | Equal Opportunity Disparity = 0.05\n",
      " \n",
      "Avg Training Stats after 6 global rounds:\n",
      "Training loss: 0.26 | Validation accuracy: 90.71% | Validation Equal Opportunity Disparity: 0.0402\n",
      "\n",
      " | Global Training Round : 7 |\n",
      "\n"
     ]
    },
    {
     "name": "stderr",
     "output_type": "stream",
     "text": [
      "\r",
      " 70%|███████   | 7/10 [02:52<01:14, 24.71s/it]"
     ]
    },
    {
     "name": "stdout",
     "output_type": "stream",
     "text": [
      "Client 1: accuracy loss: 52.63 | fairness loss 250.84 | Equal Opportunity Disparity = 0.07\n",
      "Client 2: accuracy loss: 17.75 | fairness loss 219.39 | Equal Opportunity Disparity = 0.22\n",
      "Client 3: accuracy loss: 42.13 | fairness loss 252.83 | Equal Opportunity Disparity = 0.05\n",
      " \n",
      "Avg Training Stats after 7 global rounds:\n",
      "Training loss: 0.26 | Validation accuracy: 90.76% | Validation Equal Opportunity Disparity: 0.0402\n",
      "\n",
      " | Global Training Round : 8 |\n",
      "\n"
     ]
    },
    {
     "name": "stderr",
     "output_type": "stream",
     "text": [
      "\r",
      " 80%|████████  | 8/10 [03:17<00:49, 24.79s/it]"
     ]
    },
    {
     "name": "stdout",
     "output_type": "stream",
     "text": [
      "Client 1: accuracy loss: 52.67 | fairness loss 249.62 | Equal Opportunity Disparity = 0.07\n",
      "Client 2: accuracy loss: 17.77 | fairness loss 218.38 | Equal Opportunity Disparity = 0.22\n",
      "Client 3: accuracy loss: 42.16 | fairness loss 251.47 | Equal Opportunity Disparity = 0.05\n",
      " \n",
      "Avg Training Stats after 8 global rounds:\n",
      "Training loss: 0.26 | Validation accuracy: 90.78% | Validation Equal Opportunity Disparity: 0.0402\n",
      "\n",
      " | Global Training Round : 9 |\n",
      "\n"
     ]
    },
    {
     "name": "stderr",
     "output_type": "stream",
     "text": [
      "\r",
      " 90%|█████████ | 9/10 [03:42<00:24, 24.88s/it]"
     ]
    },
    {
     "name": "stdout",
     "output_type": "stream",
     "text": [
      "Client 1: accuracy loss: 52.71 | fairness loss 248.58 | Equal Opportunity Disparity = 0.07\n",
      "Client 2: accuracy loss: 17.78 | fairness loss 217.50 | Equal Opportunity Disparity = 0.22\n",
      "Client 3: accuracy loss: 42.19 | fairness loss 250.31 | Equal Opportunity Disparity = 0.05\n",
      " \n",
      "Avg Training Stats after 9 global rounds:\n",
      "Training loss: 0.26 | Validation accuracy: 90.78% | Validation Equal Opportunity Disparity: 0.0402\n",
      "\n",
      " | Global Training Round : 10 |\n",
      "\n"
     ]
    },
    {
     "name": "stderr",
     "output_type": "stream",
     "text": [
      "100%|██████████| 10/10 [04:09<00:00, 24.92s/it]"
     ]
    },
    {
     "name": "stdout",
     "output_type": "stream",
     "text": [
      "Client 1: accuracy loss: 52.74 | fairness loss 247.70 | Equal Opportunity Disparity = 0.07\n",
      "Client 2: accuracy loss: 17.79 | fairness loss 216.75 | Equal Opportunity Disparity = 0.22\n",
      "Client 3: accuracy loss: 42.21 | fairness loss 249.32 | Equal Opportunity Disparity = 0.06\n",
      " \n",
      "Avg Training Stats after 10 global rounds:\n",
      "Training loss: 0.26 | Validation accuracy: 90.80% | Validation Equal Opportunity Disparity: 0.0424\n",
      " \n",
      " Results after 10 global rounds of training:\n",
      "|---- Avg Train Accuracy: 90.80%\n",
      "|---- Test Accuracy: 89.87%\n",
      "|---- Test Equal Opportunity Disparity: 0.0877\n",
      "\n",
      " Total Run Time: 249.4179 sec\n"
     ]
    },
    {
     "name": "stderr",
     "output_type": "stream",
     "text": [
      "\n"
     ]
    }
   ],
   "source": [
    "server = Server(logReg(num_features=bank_num_features, num_classes=2, seed = seed), bank_info, train_prn = False, seed = seed, Z = bank_z)\n",
    "server.BiasCorrecting(num_rounds = 10, local_epochs = 20, optimizer = 'adam', learning_rate = 0.005, alpha = 10)"
   ]
  },
  {
   "cell_type": "code",
   "execution_count": 2,
   "metadata": {
    "scrolled": true
   },
   "outputs": [
    {
     "name": "stderr",
     "output_type": "stream",
     "text": [
      "\r",
      "  0%|          | 0/10 [00:00<?, ?it/s]"
     ]
    },
    {
     "name": "stdout",
     "output_type": "stream",
     "text": [
      "\n",
      " | Global Training Round : 1 |\n",
      "\n"
     ]
    },
    {
     "name": "stderr",
     "output_type": "stream",
     "text": [
      "\r",
      " 10%|█         | 1/10 [00:33<05:03, 33.68s/it]"
     ]
    },
    {
     "name": "stdout",
     "output_type": "stream",
     "text": [
      "Client 1: predictor loss: 42.55 | adversary loss 1.52 | Equal Opportunity Disparity = 0.09\n",
      "Client 2: predictor loss: 13.43 | adversary loss 1.55 | Equal Opportunity Disparity = 0.18\n",
      "Client 3: predictor loss: 33.86 | adversary loss 1.54 | Equal Opportunity Disparity = 0.11\n",
      " \n",
      "Avg Training Stats after 1 global rounds:\n",
      "Training loss: 0.27 | Validation accuracy: 90.59% | Validation Equal Opportunity Disparity: 0.0647\n",
      "\n",
      " | Global Training Round : 2 |\n",
      "\n"
     ]
    },
    {
     "name": "stderr",
     "output_type": "stream",
     "text": [
      "\r",
      " 20%|██        | 2/10 [01:04<04:22, 32.79s/it]"
     ]
    },
    {
     "name": "stdout",
     "output_type": "stream",
     "text": [
      "Client 1: predictor loss: 43.20 | adversary loss 1.58 | Equal Opportunity Disparity = 0.12\n",
      "Client 2: predictor loss: 13.20 | adversary loss 1.61 | Equal Opportunity Disparity = 0.21\n",
      "Client 3: predictor loss: 34.08 | adversary loss 1.64 | Equal Opportunity Disparity = 0.08\n",
      " \n",
      "Avg Training Stats after 2 global rounds:\n",
      "Training loss: 0.26 | Validation accuracy: 90.61% | Validation Equal Opportunity Disparity: 0.0781\n",
      "\n",
      " | Global Training Round : 3 |\n",
      "\n"
     ]
    },
    {
     "name": "stderr",
     "output_type": "stream",
     "text": [
      "\r",
      " 30%|███       | 3/10 [01:34<03:43, 31.96s/it]"
     ]
    },
    {
     "name": "stdout",
     "output_type": "stream",
     "text": [
      "Client 1: predictor loss: 43.47 | adversary loss 3.87 | Equal Opportunity Disparity = 0.11\n",
      "Client 2: predictor loss: 13.07 | adversary loss 3.67 | Equal Opportunity Disparity = 0.16\n",
      "Client 3: predictor loss: 33.96 | adversary loss 3.95 | Equal Opportunity Disparity = 0.12\n",
      " \n",
      "Avg Training Stats after 3 global rounds:\n",
      "Training loss: 0.26 | Validation accuracy: 90.43% | Validation Equal Opportunity Disparity: 0.1004\n",
      "\n",
      " | Global Training Round : 4 |\n",
      "\n"
     ]
    },
    {
     "name": "stderr",
     "output_type": "stream",
     "text": [
      "\r",
      " 40%|████      | 4/10 [02:14<03:25, 34.30s/it]"
     ]
    },
    {
     "name": "stdout",
     "output_type": "stream",
     "text": [
      "Client 1: predictor loss: 43.19 | adversary loss 87.52 | Equal Opportunity Disparity = 0.00\n",
      "Client 2: predictor loss: 13.18 | adversary loss 85.79 | Equal Opportunity Disparity = 0.00\n",
      "Client 3: predictor loss: 33.72 | adversary loss 88.24 | Equal Opportunity Disparity = 0.00\n",
      " \n",
      "Avg Training Stats after 4 global rounds:\n",
      "Training loss: 0.26 | Validation accuracy: 89.35% | Validation Equal Opportunity Disparity: 0.0000\n",
      "\n",
      " | Global Training Round : 5 |\n",
      "\n"
     ]
    },
    {
     "name": "stderr",
     "output_type": "stream",
     "text": [
      "\r",
      " 50%|█████     | 5/10 [02:43<02:44, 32.93s/it]"
     ]
    },
    {
     "name": "stdout",
     "output_type": "stream",
     "text": [
      "Client 1: predictor loss: 43.78 | adversary loss 108.38 | Equal Opportunity Disparity = 0.00\n",
      "Client 2: predictor loss: 13.68 | adversary loss 113.18 | Equal Opportunity Disparity = 0.00\n",
      "Client 3: predictor loss: 34.32 | adversary loss 111.15 | Equal Opportunity Disparity = 0.00\n",
      " \n",
      "Avg Training Stats after 5 global rounds:\n",
      "Training loss: 0.26 | Validation accuracy: 89.35% | Validation Equal Opportunity Disparity: 0.0000\n",
      "\n",
      " | Global Training Round : 6 |\n",
      "\n"
     ]
    },
    {
     "name": "stderr",
     "output_type": "stream",
     "text": [
      "\r",
      " 60%|██████    | 6/10 [03:12<02:06, 31.64s/it]"
     ]
    },
    {
     "name": "stdout",
     "output_type": "stream",
     "text": [
      "Client 1: predictor loss: 54.08 | adversary loss 220.65 | Equal Opportunity Disparity = 0.00\n",
      "Client 2: predictor loss: 17.68 | adversary loss 225.69 | Equal Opportunity Disparity = 0.00\n",
      "Client 3: predictor loss: 42.37 | adversary loss 239.37 | Equal Opportunity Disparity = 0.00\n",
      " \n",
      "Avg Training Stats after 6 global rounds:\n",
      "Training loss: 0.26 | Validation accuracy: 89.35% | Validation Equal Opportunity Disparity: 0.0000\n",
      "\n",
      " | Global Training Round : 7 |\n",
      "\n"
     ]
    },
    {
     "name": "stderr",
     "output_type": "stream",
     "text": [
      "\r",
      " 70%|███████   | 7/10 [03:48<01:38, 32.90s/it]"
     ]
    },
    {
     "name": "stdout",
     "output_type": "stream",
     "text": [
      "Client 1: predictor loss: 61.10 | adversary loss 393.89 | Equal Opportunity Disparity = 0.00\n",
      "Client 2: predictor loss: 20.16 | adversary loss 381.63 | Equal Opportunity Disparity = 0.00\n",
      "Client 3: predictor loss: 47.87 | adversary loss 404.98 | Equal Opportunity Disparity = 0.00\n",
      " \n",
      "Avg Training Stats after 7 global rounds:\n",
      "Training loss: 0.27 | Validation accuracy: 89.35% | Validation Equal Opportunity Disparity: 0.0000\n",
      "\n",
      " | Global Training Round : 8 |\n",
      "\n"
     ]
    },
    {
     "name": "stderr",
     "output_type": "stream",
     "text": [
      "\r",
      " 80%|████████  | 8/10 [04:23<01:07, 33.57s/it]"
     ]
    },
    {
     "name": "stdout",
     "output_type": "stream",
     "text": [
      "Client 1: predictor loss: 78.43 | adversary loss 971.65 | Equal Opportunity Disparity = 0.00\n",
      "Client 2: predictor loss: 25.80 | adversary loss 955.90 | Equal Opportunity Disparity = 0.00\n",
      "Client 3: predictor loss: 61.57 | adversary loss 1055.51 | Equal Opportunity Disparity = 0.00\n",
      " \n",
      "Avg Training Stats after 8 global rounds:\n",
      "Training loss: 0.29 | Validation accuracy: 89.35% | Validation Equal Opportunity Disparity: 0.0000\n",
      "\n",
      " | Global Training Round : 9 |\n",
      "\n"
     ]
    },
    {
     "name": "stderr",
     "output_type": "stream",
     "text": [
      "\r",
      " 90%|█████████ | 9/10 [04:59<00:34, 34.22s/it]"
     ]
    },
    {
     "name": "stdout",
     "output_type": "stream",
     "text": [
      "Client 1: predictor loss: 94.31 | adversary loss 1127.15 | Equal Opportunity Disparity = 0.00\n",
      "Client 2: predictor loss: 31.05 | adversary loss 1103.30 | Equal Opportunity Disparity = 0.00\n",
      "Client 3: predictor loss: 74.28 | adversary loss 1246.22 | Equal Opportunity Disparity = 0.00\n",
      " \n",
      "Avg Training Stats after 9 global rounds:\n",
      "Training loss: 0.31 | Validation accuracy: 89.35% | Validation Equal Opportunity Disparity: 0.0000\n",
      "\n",
      " | Global Training Round : 10 |\n",
      "\n"
     ]
    },
    {
     "name": "stderr",
     "output_type": "stream",
     "text": [
      "100%|██████████| 10/10 [05:51<00:00, 35.11s/it]"
     ]
    },
    {
     "name": "stdout",
     "output_type": "stream",
     "text": [
      "Client 1: predictor loss: 110.88 | adversary loss 1877.19 | Equal Opportunity Disparity = 0.00\n",
      "Client 2: predictor loss: 36.66 | adversary loss 1916.33 | Equal Opportunity Disparity = 0.00\n",
      "Client 3: predictor loss: 87.86 | adversary loss 2019.28 | Equal Opportunity Disparity = 0.00\n",
      " \n",
      "Avg Training Stats after 10 global rounds:\n",
      "Training loss: 0.34 | Validation accuracy: 89.35% | Validation Equal Opportunity Disparity: 0.0000\n"
     ]
    },
    {
     "name": "stderr",
     "output_type": "stream",
     "text": [
      "\n"
     ]
    },
    {
     "name": "stdout",
     "output_type": "stream",
     "text": [
      " \n",
      " Results after 10 global rounds of training:\n",
      "|---- Avg Train Accuracy: 89.35%\n",
      "|---- Test Accuracy: 87.95%\n",
      "|---- Test Equal Opportunity Disparity: 0.0000\n",
      "\n",
      " Total Run Time: 352.0377 sec\n"
     ]
    }
   ],
   "source": [
    "server = Server(logReg(num_features=bank_num_features, num_classes=2, seed = seed), bank_info, train_prn = False, seed = seed, Z = bank_z)\n",
    "server.FTrain(num_rounds = 10, local_epochs = 30, init_epochs = 50, lr_g = 0.005, lr_d = 0.01, lambda_d = 0.9)"
   ]
  },
  {
   "cell_type": "code",
   "execution_count": 5,
   "metadata": {},
   "outputs": [
    {
     "name": "stderr",
     "output_type": "stream",
     "text": [
      "\r",
      "  0%|          | 0/2 [00:00<?, ?it/s]"
     ]
    },
    {
     "name": "stdout",
     "output_type": "stream",
     "text": [
      "\n",
      " | Testing Round : 1 | constraint :  Cov(z, d | y = 1) < c\n",
      "\n"
     ]
    },
    {
     "name": "stderr",
     "output_type": "stream",
     "text": [
      "\r",
      " 50%|█████     | 1/2 [00:23<00:23, 23.61s/it]"
     ]
    },
    {
     "name": "stdout",
     "output_type": "stream",
     "text": [
      "Client 1: accuracy loss: 61.33 | fairness loss 109987.42 | Equal Opportunity Disparity = 0.37\n",
      "Client 2: accuracy loss: 19.75 | fairness loss 83288.39 | Equal Opportunity Disparity = 0.46\n",
      "Client 3: accuracy loss: 50.38 | fairness loss 101226.57 | Equal Opportunity Disparity = 0.50\n",
      " \n",
      "Avg Training Stats after 1 Testing rounds:\n",
      "Training loss: -1491.83 | Validation accuracy: 89.37% | Validation Equal Opportunity Disparity: 0.4271\n",
      "\n",
      " | Testing Round : 2 | constraint :  Cov(z, d | y = 1) < c\n",
      "\n"
     ]
    },
    {
     "name": "stderr",
     "output_type": "stream",
     "text": [
      "100%|██████████| 2/2 [00:51<00:00, 25.67s/it]\n",
      "  0%|          | 0/2 [00:00<?, ?it/s]"
     ]
    },
    {
     "name": "stdout",
     "output_type": "stream",
     "text": [
      "Client 1: accuracy loss: 68.19 | fairness loss 459614.05 | Equal Opportunity Disparity = 0.46\n",
      "Client 2: accuracy loss: 21.23 | fairness loss 348007.36 | Equal Opportunity Disparity = 0.59\n",
      "Client 3: accuracy loss: 56.63 | fairness loss 422848.86 | Equal Opportunity Disparity = 0.56\n",
      " \n",
      "Avg Training Stats after 2 Testing rounds:\n",
      "Training loss: -2902.51 | Validation accuracy: 88.45% | Validation Equal Opportunity Disparity: 0.5132\n",
      "\n",
      " | Testing Round : 1 | constraint :  Cov(z, d | y = 1) > -c\n",
      "\n"
     ]
    },
    {
     "name": "stderr",
     "output_type": "stream",
     "text": [
      "\r",
      " 50%|█████     | 1/2 [00:24<00:24, 24.54s/it]"
     ]
    },
    {
     "name": "stdout",
     "output_type": "stream",
     "text": [
      "Client 1: accuracy loss: 63.30 | fairness loss 113612.21 | Equal Opportunity Disparity = 0.49\n",
      "Client 2: accuracy loss: 20.54 | fairness loss 86704.91 | Equal Opportunity Disparity = 0.27\n",
      "Client 3: accuracy loss: 48.63 | fairness loss 104748.91 | Equal Opportunity Disparity = 0.39\n",
      " \n",
      "Avg Training Stats after 1 Testing rounds:\n",
      "Training loss: -2446.67 | Validation accuracy: 89.17% | Validation Equal Opportunity Disparity: 0.4258\n",
      "\n",
      " | Testing Round : 2 | constraint :  Cov(z, d | y = 1) > -c\n",
      "\n"
     ]
    },
    {
     "name": "stderr",
     "output_type": "stream",
     "text": [
      "100%|██████████| 2/2 [00:47<00:00, 23.82s/it]\n",
      "  0%|          | 0/10 [00:00<?, ?it/s]"
     ]
    },
    {
     "name": "stdout",
     "output_type": "stream",
     "text": [
      "Client 1: accuracy loss: 70.16 | fairness loss 466538.54 | Equal Opportunity Disparity = 0.19\n",
      "Client 2: accuracy loss: 21.28 | fairness loss 355504.01 | Equal Opportunity Disparity = 0.25\n",
      "Client 3: accuracy loss: 52.87 | fairness loss 429848.83 | Equal Opportunity Disparity = 0.23\n",
      " \n",
      "Avg Training Stats after 2 Testing rounds:\n",
      "Training loss: -2923.58 | Validation accuracy: 89.31% | Validation Equal Opportunity Disparity: 0.1987\n",
      "\n",
      " | Global Round : 1 | constraint :  Cov(z, d | y = 1) > -c\n",
      "\n"
     ]
    },
    {
     "name": "stderr",
     "output_type": "stream",
     "text": [
      "\r",
      " 10%|█         | 1/10 [00:21<03:09, 21.07s/it]"
     ]
    },
    {
     "name": "stdout",
     "output_type": "stream",
     "text": [
      "Client 1: accuracy loss: 70.64 | fairness loss 563973.07 | Equal Opportunity Disparity = 0.19\n",
      "Client 2: accuracy loss: 21.25 | fairness loss 429855.10 | Equal Opportunity Disparity = 0.27\n",
      "Client 3: accuracy loss: 53.10 | fairness loss 519655.20 | Equal Opportunity Disparity = 0.23\n",
      " \n",
      "Avg Training Stats after 1 global rounds:\n",
      "Training loss: -2925.36 | Validation accuracy: 89.38% | Validation Equal Opportunity Disparity: 0.2063\n",
      "\n",
      " | Global Round : 2 | constraint :  Cov(z, d | y = 1) > -c\n",
      "\n"
     ]
    },
    {
     "name": "stderr",
     "output_type": "stream",
     "text": [
      "\r",
      " 20%|██        | 2/10 [00:42<02:49, 21.24s/it]"
     ]
    },
    {
     "name": "stdout",
     "output_type": "stream",
     "text": [
      "Client 1: accuracy loss: 71.48 | fairness loss 670587.68 | Equal Opportunity Disparity = 0.17\n",
      "Client 2: accuracy loss: 21.27 | fairness loss 511266.74 | Equal Opportunity Disparity = 0.28\n",
      "Client 3: accuracy loss: 53.64 | fairness loss 617925.89 | Equal Opportunity Disparity = 0.23\n",
      " \n",
      "Avg Training Stats after 2 global rounds:\n",
      "Training loss: -2972.59 | Validation accuracy: 89.62% | Validation Equal Opportunity Disparity: 0.1942\n",
      "\n",
      " | Global Round : 3 | constraint :  Cov(z, d | y = 1) > -c\n",
      "\n"
     ]
    },
    {
     "name": "stderr",
     "output_type": "stream",
     "text": [
      "\r",
      " 30%|███       | 3/10 [01:06<02:34, 22.03s/it]"
     ]
    },
    {
     "name": "stdout",
     "output_type": "stream",
     "text": [
      "Client 1: accuracy loss: 72.50 | fairness loss 786400.11 | Equal Opportunity Disparity = 0.22\n",
      "Client 2: accuracy loss: 21.37 | fairness loss 599727.67 | Equal Opportunity Disparity = 0.27\n",
      "Client 3: accuracy loss: 54.34 | fairness loss 724679.39 | Equal Opportunity Disparity = 0.25\n",
      " \n",
      "Avg Training Stats after 3 global rounds:\n",
      "Training loss: -3045.80 | Validation accuracy: 89.65% | Validation Equal Opportunity Disparity: 0.2299\n",
      "\n",
      " | Global Round : 4 | constraint :  Cov(z, d | y = 1) > -c\n",
      "\n"
     ]
    },
    {
     "name": "stderr",
     "output_type": "stream",
     "text": [
      "\r",
      " 40%|████      | 4/10 [01:31<02:17, 22.94s/it]"
     ]
    },
    {
     "name": "stdout",
     "output_type": "stream",
     "text": [
      "Client 1: accuracy loss: 73.64 | fairness loss 911423.17 | Equal Opportunity Disparity = 0.21\n",
      "Client 2: accuracy loss: 21.52 | fairness loss 695239.47 | Equal Opportunity Disparity = 0.17\n",
      "Client 3: accuracy loss: 55.14 | fairness loss 839926.63 | Equal Opportunity Disparity = 0.19\n",
      " \n",
      "Avg Training Stats after 4 global rounds:\n",
      "Training loss: -3135.24 | Validation accuracy: 89.81% | Validation Equal Opportunity Disparity: 0.1987\n",
      "\n",
      " | Global Round : 5 | constraint :  Cov(z, d | y = 1) > -c\n",
      "\n"
     ]
    },
    {
     "name": "stderr",
     "output_type": "stream",
     "text": [
      "\r",
      " 50%|█████     | 5/10 [01:56<01:57, 23.46s/it]"
     ]
    },
    {
     "name": "stdout",
     "output_type": "stream",
     "text": [
      "Client 1: accuracy loss: 74.89 | fairness loss 1045661.04 | Equal Opportunity Disparity = 0.19\n",
      "Client 2: accuracy loss: 21.72 | fairness loss 797803.15 | Equal Opportunity Disparity = 0.17\n",
      "Client 3: accuracy loss: 56.02 | fairness loss 963671.18 | Equal Opportunity Disparity = 0.16\n",
      " \n",
      "Avg Training Stats after 5 global rounds:\n",
      "Training loss: -3235.50 | Validation accuracy: 89.75% | Validation Equal Opportunity Disparity: 0.1629\n",
      "\n",
      " | Global Round : 6 | constraint :  Cov(z, d | y = 1) > -c\n",
      "\n"
     ]
    },
    {
     "name": "stderr",
     "output_type": "stream",
     "text": [
      "\r",
      " 60%|██████    | 6/10 [02:16<01:30, 22.62s/it]"
     ]
    },
    {
     "name": "stdout",
     "output_type": "stream",
     "text": [
      "Client 1: accuracy loss: 76.21 | fairness loss 1189110.31 | Equal Opportunity Disparity = 0.13\n",
      "Client 2: accuracy loss: 21.95 | fairness loss 907415.10 | Equal Opportunity Disparity = 0.14\n",
      "Client 3: accuracy loss: 56.96 | fairness loss 1095909.61 | Equal Opportunity Disparity = 0.16\n",
      " \n",
      "Avg Training Stats after 6 global rounds:\n",
      "Training loss: -3343.33 | Validation accuracy: 89.75% | Validation Equal Opportunity Disparity: 0.1217\n",
      "\n",
      " | Global Round : 7 | constraint :  Cov(z, d | y = 1) > -c\n",
      "\n"
     ]
    },
    {
     "name": "stderr",
     "output_type": "stream",
     "text": [
      "\r",
      " 70%|███████   | 7/10 [02:37<01:05, 21.93s/it]"
     ]
    },
    {
     "name": "stdout",
     "output_type": "stream",
     "text": [
      "Client 1: accuracy loss: 77.60 | fairness loss 1341768.90 | Equal Opportunity Disparity = 0.17\n",
      "Client 2: accuracy loss: 22.22 | fairness loss 1024073.21 | Equal Opportunity Disparity = 0.12\n",
      "Client 3: accuracy loss: 57.95 | fairness loss 1236639.75 | Equal Opportunity Disparity = 0.17\n",
      " \n",
      "Avg Training Stats after 7 global rounds:\n",
      "Training loss: -3456.67 | Validation accuracy: 89.65% | Validation Equal Opportunity Disparity: 0.1373\n",
      "\n",
      " | Global Round : 8 | constraint :  Cov(z, d | y = 1) > -c\n",
      "\n"
     ]
    },
    {
     "name": "stderr",
     "output_type": "stream",
     "text": [
      "\r",
      " 80%|████████  | 8/10 [03:02<00:45, 22.78s/it]"
     ]
    },
    {
     "name": "stdout",
     "output_type": "stream",
     "text": [
      "Client 1: accuracy loss: 79.04 | fairness loss 1503633.14 | Equal Opportunity Disparity = 0.15\n",
      "Client 2: accuracy loss: 22.51 | fairness loss 1147774.78 | Equal Opportunity Disparity = 0.16\n",
      "Client 3: accuracy loss: 58.98 | fairness loss 1385857.84 | Equal Opportunity Disparity = 0.17\n",
      " \n",
      "Avg Training Stats after 8 global rounds:\n",
      "Training loss: -3574.13 | Validation accuracy: 89.67% | Validation Equal Opportunity Disparity: 0.1307\n",
      "\n",
      " | Global Round : 9 | constraint :  Cov(z, d | y = 1) > -c\n",
      "\n"
     ]
    },
    {
     "name": "stderr",
     "output_type": "stream",
     "text": [
      "\r",
      " 90%|█████████ | 9/10 [03:27<00:23, 23.54s/it]"
     ]
    },
    {
     "name": "stdout",
     "output_type": "stream",
     "text": [
      "Client 1: accuracy loss: 80.52 | fairness loss 1674702.47 | Equal Opportunity Disparity = 0.11\n",
      "Client 2: accuracy loss: 22.82 | fairness loss 1278519.06 | Equal Opportunity Disparity = 0.12\n",
      "Client 3: accuracy loss: 60.05 | fairness loss 1543563.63 | Equal Opportunity Disparity = 0.17\n",
      " \n",
      "Avg Training Stats after 9 global rounds:\n",
      "Training loss: -3694.77 | Validation accuracy: 89.67% | Validation Equal Opportunity Disparity: 0.1085\n",
      "\n",
      " | Global Round : 10 | constraint :  Cov(z, d | y = 1) > -c\n",
      "\n"
     ]
    },
    {
     "name": "stderr",
     "output_type": "stream",
     "text": [
      "100%|██████████| 10/10 [03:53<00:00, 23.37s/it]"
     ]
    },
    {
     "name": "stdout",
     "output_type": "stream",
     "text": [
      "Client 1: accuracy loss: 82.04 | fairness loss 1854972.57 | Equal Opportunity Disparity = 0.12\n",
      "Client 2: accuracy loss: 23.15 | fairness loss 1416302.63 | Equal Opportunity Disparity = 0.16\n",
      "Client 3: accuracy loss: 61.14 | fairness loss 1709753.13 | Equal Opportunity Disparity = 0.18\n",
      " \n",
      "Avg Training Stats after 10 global rounds:\n",
      "Training loss: -3817.91 | Validation accuracy: 89.76% | Validation Equal Opportunity Disparity: 0.1240\n",
      " \n",
      " Results after 10 global rounds of training:\n",
      "|---- Avg Train Accuracy: 89.76%\n",
      "|---- Test Accuracy: 88.08%\n",
      "|---- Test Equal Opportunity Disparity: 0.1406\n",
      "\n",
      " Total Run Time: 333.0018 sec\n"
     ]
    },
    {
     "name": "stderr",
     "output_type": "stream",
     "text": [
      "\n"
     ]
    }
   ],
   "source": [
    "server = Server(logReg(num_features=bank_num_features, num_classes=2, seed = seed), bank_info, train_prn = False, seed = seed, Z = bank_z)\n",
    "server.FairConstraints(test_rounds = 2, test_lr = 0.005, test_penalty = 100, num_rounds = 10, local_epochs = 20, optimizer = 'adam', learning_rate = 0.001, penalty = 50)\n"
   ]
  },
  {
   "cell_type": "code",
   "execution_count": null,
   "metadata": {},
   "outputs": [],
   "source": []
  }
 ],
 "metadata": {
  "kernelspec": {
   "display_name": "Python 3",
   "language": "python",
   "name": "python3"
  },
  "language_info": {
   "codemirror_mode": {
    "name": "ipython",
    "version": 3
   },
   "file_extension": ".py",
   "mimetype": "text/x-python",
   "name": "python",
   "nbconvert_exporter": "python",
   "pygments_lexer": "ipython3",
   "version": "3.7.4"
  }
 },
 "nbformat": 4,
 "nbformat_minor": 2
}
