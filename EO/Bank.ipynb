{
 "cells": [
  {
   "cell_type": "code",
   "execution_count": 2,
   "metadata": {},
   "outputs": [],
   "source": [
    "from Server import *\n",
    "from load_bank import *\n",
    "seed  = 123"
   ]
  },
  {
   "cell_type": "markdown",
   "metadata": {},
   "source": [
    "# Bank experiments"
   ]
  },
  {
   "cell_type": "code",
   "execution_count": 17,
   "metadata": {
    "scrolled": true
   },
   "outputs": [
    {
     "name": "stderr",
     "output_type": "stream",
     "text": [
      "\r",
      "  0%|          | 0/10 [00:00<?, ?it/s]"
     ]
    },
    {
     "name": "stdout",
     "output_type": "stream",
     "text": [
      "| seed: 0 |\n"
     ]
    },
    {
     "name": "stderr",
     "output_type": "stream",
     "text": [
      "100%|██████████| 10/10 [05:42<00:00, 34.22s/it]\n",
      "100%|██████████| 10/10 [03:47<00:00, 22.74s/it]\n",
      "  0%|          | 0/10 [00:00<?, ?it/s]"
     ]
    },
    {
     "name": "stdout",
     "output_type": "stream",
     "text": [
      "|------ Acc.: 0.899 | EO Dis.: 0.038 |\n",
      "|Post-processing: ------ Acc.: 0.898 | EO Dis.: 0.005 |\n",
      "| seed: 1 |\n"
     ]
    },
    {
     "name": "stderr",
     "output_type": "stream",
     "text": [
      "100%|██████████| 10/10 [05:58<00:00, 35.86s/it]\n",
      "100%|██████████| 10/10 [03:23<00:00, 20.32s/it]\n",
      "  0%|          | 0/10 [00:00<?, ?it/s]"
     ]
    },
    {
     "name": "stdout",
     "output_type": "stream",
     "text": [
      "|------ Acc.: 0.899 | EO Dis.: 0.033 |\n",
      "|Post-processing: ------ Acc.: 0.898 | EO Dis.: 0.014 |\n",
      "| seed: 2 |\n"
     ]
    },
    {
     "name": "stderr",
     "output_type": "stream",
     "text": [
      "100%|██████████| 10/10 [05:55<00:00, 35.54s/it]\n",
      "100%|██████████| 10/10 [02:46<00:00, 16.62s/it]\n",
      "  0%|          | 0/10 [00:00<?, ?it/s]"
     ]
    },
    {
     "name": "stdout",
     "output_type": "stream",
     "text": [
      "|------ Acc.: 0.899 | EO Dis.: 0.036 |\n",
      "|Post-processing: ------ Acc.: 0.897 | EO Dis.: 0.008 |\n",
      "| seed: 3 |\n"
     ]
    },
    {
     "name": "stderr",
     "output_type": "stream",
     "text": [
      "100%|██████████| 10/10 [06:22<00:00, 38.23s/it]\n",
      "100%|██████████| 10/10 [03:15<00:00, 19.51s/it]\n",
      "  0%|          | 0/10 [00:00<?, ?it/s]"
     ]
    },
    {
     "name": "stdout",
     "output_type": "stream",
     "text": [
      "|------ Acc.: 0.899 | EO Dis.: 0.045 |\n",
      "|Post-processing: ------ Acc.: 0.897 | EO Dis.: 0.009 |\n",
      "| seed: 4 |\n"
     ]
    },
    {
     "name": "stderr",
     "output_type": "stream",
     "text": [
      "100%|██████████| 10/10 [05:51<00:00, 35.14s/it]\n",
      "100%|██████████| 10/10 [03:50<00:00, 23.07s/it]\n",
      "  0%|          | 0/10 [00:00<?, ?it/s]"
     ]
    },
    {
     "name": "stdout",
     "output_type": "stream",
     "text": [
      "|------ Acc.: 0.899 | EO Dis.: 0.038 |\n",
      "|Post-processing: ------ Acc.: 0.898 | EO Dis.: 0.010 |\n",
      "| seed: 5 |\n"
     ]
    },
    {
     "name": "stderr",
     "output_type": "stream",
     "text": [
      "100%|██████████| 10/10 [04:31<00:00, 27.13s/it]\n",
      "100%|██████████| 10/10 [02:34<00:00, 15.44s/it]\n",
      "  0%|          | 0/10 [00:00<?, ?it/s]"
     ]
    },
    {
     "name": "stdout",
     "output_type": "stream",
     "text": [
      "|------ Acc.: 0.899 | EO Dis.: 0.028 |\n",
      "|Post-processing: ------ Acc.: 0.898 | EO Dis.: 0.014 |\n",
      "| seed: 6 |\n"
     ]
    },
    {
     "name": "stderr",
     "output_type": "stream",
     "text": [
      "100%|██████████| 10/10 [04:33<00:00, 27.32s/it]\n",
      "100%|██████████| 10/10 [02:23<00:00, 14.30s/it]\n",
      "  0%|          | 0/10 [00:00<?, ?it/s]"
     ]
    },
    {
     "name": "stdout",
     "output_type": "stream",
     "text": [
      "|------ Acc.: 0.899 | EO Dis.: 0.032 |\n",
      "|Post-processing: ------ Acc.: 0.898 | EO Dis.: 0.015 |\n",
      "| seed: 7 |\n"
     ]
    },
    {
     "name": "stderr",
     "output_type": "stream",
     "text": [
      "100%|██████████| 10/10 [05:08<00:00, 30.89s/it]\n",
      "100%|██████████| 10/10 [02:45<00:00, 16.50s/it]\n",
      "  0%|          | 0/10 [00:00<?, ?it/s]"
     ]
    },
    {
     "name": "stdout",
     "output_type": "stream",
     "text": [
      "|------ Acc.: 0.899 | EO Dis.: 0.031 |\n",
      "|Post-processing: ------ Acc.: 0.898 | EO Dis.: 0.012 |\n",
      "| seed: 8 |\n"
     ]
    },
    {
     "name": "stderr",
     "output_type": "stream",
     "text": [
      "100%|██████████| 10/10 [05:52<00:00, 35.27s/it]\n",
      "100%|██████████| 10/10 [02:23<00:00, 14.35s/it]\n",
      "  0%|          | 0/10 [00:00<?, ?it/s]"
     ]
    },
    {
     "name": "stdout",
     "output_type": "stream",
     "text": [
      "|------ Acc.: 0.899 | EO Dis.: 0.032 |\n",
      "|Post-processing: ------ Acc.: 0.898 | EO Dis.: 0.013 |\n",
      "| seed: 9 |\n"
     ]
    },
    {
     "name": "stderr",
     "output_type": "stream",
     "text": [
      "100%|██████████| 10/10 [04:17<00:00, 25.71s/it]\n",
      "100%|██████████| 10/10 [02:16<00:00, 13.64s/it]\n"
     ]
    },
    {
     "name": "stdout",
     "output_type": "stream",
     "text": [
      "|------ Acc.: 0.899 | EO Dis.: 0.042 |\n",
      "|Post-processing: ------ Acc.: 0.898 | EO Dis.: 0.006 |\n",
      "| Acc.: 0.899(0.000) | EO Dis.: 0.036(0.005) |\n",
      "|Post-processing: Acc.: 0.898(0.000) | EO Dis.: 0.011(0.003) |\n"
     ]
    }
   ],
   "source": [
    "acc, eo, acc_p, eo_p = np.zeros(10), np.zeros(10), np.zeros(10), np.zeros(10)\n",
    "for seed in range(10):\n",
    "    print(\"| seed: %d |\" % seed)\n",
    "    server = Server(logReg(num_features=bank_num_features, num_classes=2, seed = seed), bank_info, train_prn = False, seed = seed, ret = True, Z = bank_z)\n",
    "    acc[seed], eo[seed] = server.Unconstrained(num_rounds = 10, local_epochs = 30, optimizer = 'adam', learning_rate = 0.001)\n",
    "    acc_p[seed], eo_p[seed] = server.ThresholdAdjust(num_rounds = 10, local_epochs = 30, epsilon = 0.0001, learning_rate = 0.0002)\n",
    "    print(\"|------ Acc.: %.3f | EO Dis.: %.3f |\" % (acc[seed], eo[seed]))\n",
    "    print(\"|Post-processing: ------ Acc.: %.3f | EO Dis.: %.3f |\" % (acc_p[seed], eo_p[seed]))\n",
    "print(\"| Acc.: %.3f(%.3f) | EO Dis.: %.3f(%.3f) |\" % (acc.mean(), acc.std(), eo.mean(), eo.std()))\n",
    "print(\"|Post-processing: Acc.: %.3f(%.3f) | EO Dis.: %.3f(%.3f) |\" % (acc_p.mean(), acc_p.std(), eo_p.mean(), eo_p.std()))"
   ]
  },
  {
   "cell_type": "code",
   "execution_count": 6,
   "metadata": {
    "scrolled": true
   },
   "outputs": [
    {
     "name": "stderr",
     "output_type": "stream",
     "text": [
      "\r",
      "  0%|          | 0/10 [00:00<?, ?it/s]"
     ]
    },
    {
     "name": "stdout",
     "output_type": "stream",
     "text": [
      "| seed: 0 |\n"
     ]
    },
    {
     "name": "stderr",
     "output_type": "stream",
     "text": [
      "100%|██████████| 10/10 [13:05<00:00, 78.59s/it]\n"
     ]
    },
    {
     "name": "stdout",
     "output_type": "stream",
     "text": [
      "|------ Acc.: 0.894 | dp Dis.: 0.013 |\n",
      "| seed: 1 |\n"
     ]
    },
    {
     "name": "stderr",
     "output_type": "stream",
     "text": [
      "100%|██████████| 10/10 [19:33<00:00, 117.36s/it]\n"
     ]
    },
    {
     "name": "stdout",
     "output_type": "stream",
     "text": [
      "|------ Acc.: 0.893 | dp Dis.: 0.013 |\n",
      "| seed: 2 |\n"
     ]
    },
    {
     "name": "stderr",
     "output_type": "stream",
     "text": [
      "100%|██████████| 10/10 [16:26<00:00, 98.67s/it]\n",
      "  0%|          | 0/10 [00:00<?, ?it/s]"
     ]
    },
    {
     "name": "stdout",
     "output_type": "stream",
     "text": [
      "|------ Acc.: 0.895 | dp Dis.: 0.014 |\n",
      "| seed: 3 |\n"
     ]
    },
    {
     "name": "stderr",
     "output_type": "stream",
     "text": [
      "100%|██████████| 10/10 [16:27<00:00, 98.75s/it] \n"
     ]
    },
    {
     "name": "stdout",
     "output_type": "stream",
     "text": [
      "|------ Acc.: 0.896 | dp Dis.: 0.032 |\n",
      "| seed: 4 |\n"
     ]
    },
    {
     "name": "stderr",
     "output_type": "stream",
     "text": [
      "100%|██████████| 10/10 [16:38<00:00, 99.82s/it] \n"
     ]
    },
    {
     "name": "stdout",
     "output_type": "stream",
     "text": [
      "|------ Acc.: 0.898 | dp Dis.: 0.019 |\n",
      "| seed: 5 |\n"
     ]
    },
    {
     "name": "stderr",
     "output_type": "stream",
     "text": [
      "100%|██████████| 10/10 [12:37<00:00, 75.78s/it]\n",
      "  0%|          | 0/10 [00:00<?, ?it/s]"
     ]
    },
    {
     "name": "stdout",
     "output_type": "stream",
     "text": [
      "|------ Acc.: 0.894 | dp Dis.: 0.013 |\n",
      "| seed: 6 |\n"
     ]
    },
    {
     "name": "stderr",
     "output_type": "stream",
     "text": [
      "100%|██████████| 10/10 [10:33<00:00, 63.31s/it]\n",
      "  0%|          | 0/10 [00:00<?, ?it/s]"
     ]
    },
    {
     "name": "stdout",
     "output_type": "stream",
     "text": [
      "|------ Acc.: 0.893 | dp Dis.: 0.012 |\n",
      "| seed: 7 |\n"
     ]
    },
    {
     "name": "stderr",
     "output_type": "stream",
     "text": [
      "100%|██████████| 10/10 [10:14<00:00, 61.42s/it]\n",
      "  0%|          | 0/10 [00:00<?, ?it/s]"
     ]
    },
    {
     "name": "stdout",
     "output_type": "stream",
     "text": [
      "|------ Acc.: 0.894 | dp Dis.: 0.026 |\n",
      "| seed: 8 |\n"
     ]
    },
    {
     "name": "stderr",
     "output_type": "stream",
     "text": [
      "100%|██████████| 10/10 [10:25<00:00, 62.59s/it]\n",
      "  0%|          | 0/10 [00:00<?, ?it/s]"
     ]
    },
    {
     "name": "stdout",
     "output_type": "stream",
     "text": [
      "|------ Acc.: 0.894 | dp Dis.: 0.017 |\n",
      "| seed: 9 |\n"
     ]
    },
    {
     "name": "stderr",
     "output_type": "stream",
     "text": [
      "100%|██████████| 10/10 [09:09<00:00, 54.99s/it]\n"
     ]
    },
    {
     "name": "stdout",
     "output_type": "stream",
     "text": [
      "|------ Acc.: 0.899 | dp Dis.: 0.018 |\n",
      "| Acc.: 0.895(0.002) | dp Dis.: 0.018(0.006) |\n"
     ]
    }
   ],
   "source": [
    "acc, EO = np.zeros(10), np.zeros(10)\n",
    "for seed in range(10):\n",
    "    print(\"| seed: %d |\" % seed)\n",
    "    server = Server(logReg(num_features=bank_num_features, num_classes=2, seed = seed), bank_info, train_prn = False, seed = seed, ret = True, Z = bank_z)\n",
    "    acc[seed], EO[seed] = server.BiasCorrecting(num_rounds = 10, local_epochs = 20, optimizer = 'adam', learning_rate = 0.002, alpha = 20)\n",
    "    print(\"|------ Acc.: %.3f | EO Dis.: %.3f |\" % (acc[seed], EO[seed]))\n",
    "print(\"| Acc.: %.3f(%.3f) | EO Dis.: %.3f(%.3f) |\" % (acc.mean(), acc.std(), EO.mean(), EO.std()))"
   ]
  },
  {
   "cell_type": "code",
   "execution_count": 7,
   "metadata": {
    "scrolled": true
   },
   "outputs": [
    {
     "name": "stderr",
     "output_type": "stream",
     "text": [
      "\r",
      "  0%|          | 0/5 [00:00<?, ?it/s]"
     ]
    },
    {
     "name": "stdout",
     "output_type": "stream",
     "text": [
      "| seed: 0 |\n"
     ]
    },
    {
     "name": "stderr",
     "output_type": "stream",
     "text": [
      "100%|██████████| 5/5 [03:28<00:00, 41.71s/it]\n",
      "  0%|          | 0/5 [00:00<?, ?it/s]"
     ]
    },
    {
     "name": "stdout",
     "output_type": "stream",
     "text": [
      "|------ Acc.: 0.882 | dp Dis.: 0.000 |\n",
      "| seed: 1 |\n"
     ]
    },
    {
     "name": "stderr",
     "output_type": "stream",
     "text": [
      "100%|██████████| 5/5 [03:39<00:00, 43.85s/it]\n",
      "  0%|          | 0/5 [00:00<?, ?it/s]"
     ]
    },
    {
     "name": "stdout",
     "output_type": "stream",
     "text": [
      "|------ Acc.: 0.882 | dp Dis.: 0.000 |\n",
      "| seed: 2 |\n"
     ]
    },
    {
     "name": "stderr",
     "output_type": "stream",
     "text": [
      "100%|██████████| 5/5 [03:30<00:00, 42.20s/it]\n",
      "  0%|          | 0/5 [00:00<?, ?it/s]"
     ]
    },
    {
     "name": "stdout",
     "output_type": "stream",
     "text": [
      "|------ Acc.: 0.882 | dp Dis.: 0.000 |\n",
      "| seed: 3 |\n"
     ]
    },
    {
     "name": "stderr",
     "output_type": "stream",
     "text": [
      "100%|██████████| 5/5 [03:38<00:00, 43.70s/it]\n",
      "  0%|          | 0/5 [00:00<?, ?it/s]"
     ]
    },
    {
     "name": "stdout",
     "output_type": "stream",
     "text": [
      "|------ Acc.: 0.882 | dp Dis.: 0.000 |\n",
      "| seed: 4 |\n"
     ]
    },
    {
     "name": "stderr",
     "output_type": "stream",
     "text": [
      "100%|██████████| 5/5 [03:01<00:00, 36.21s/it]\n",
      "  0%|          | 0/5 [00:00<?, ?it/s]"
     ]
    },
    {
     "name": "stdout",
     "output_type": "stream",
     "text": [
      "|------ Acc.: 0.882 | dp Dis.: 0.000 |\n",
      "| seed: 5 |\n"
     ]
    },
    {
     "name": "stderr",
     "output_type": "stream",
     "text": [
      "100%|██████████| 5/5 [02:44<00:00, 32.87s/it]\n",
      "  0%|          | 0/5 [00:00<?, ?it/s]"
     ]
    },
    {
     "name": "stdout",
     "output_type": "stream",
     "text": [
      "|------ Acc.: 0.882 | dp Dis.: 0.000 |\n",
      "| seed: 6 |\n"
     ]
    },
    {
     "name": "stderr",
     "output_type": "stream",
     "text": [
      "100%|██████████| 5/5 [02:36<00:00, 31.34s/it]\n",
      "  0%|          | 0/5 [00:00<?, ?it/s]"
     ]
    },
    {
     "name": "stdout",
     "output_type": "stream",
     "text": [
      "|------ Acc.: 0.882 | dp Dis.: 0.000 |\n",
      "| seed: 7 |\n"
     ]
    },
    {
     "name": "stderr",
     "output_type": "stream",
     "text": [
      "100%|██████████| 5/5 [01:56<00:00, 23.27s/it]\n",
      "  0%|          | 0/5 [00:00<?, ?it/s]"
     ]
    },
    {
     "name": "stdout",
     "output_type": "stream",
     "text": [
      "|------ Acc.: 0.882 | dp Dis.: 0.000 |\n",
      "| seed: 8 |\n"
     ]
    },
    {
     "name": "stderr",
     "output_type": "stream",
     "text": [
      "100%|██████████| 5/5 [01:51<00:00, 22.40s/it]\n",
      "  0%|          | 0/5 [00:00<?, ?it/s]"
     ]
    },
    {
     "name": "stdout",
     "output_type": "stream",
     "text": [
      "|------ Acc.: 0.882 | dp Dis.: 0.000 |\n",
      "| seed: 9 |\n"
     ]
    },
    {
     "name": "stderr",
     "output_type": "stream",
     "text": [
      "100%|██████████| 5/5 [01:46<00:00, 21.30s/it]\n"
     ]
    },
    {
     "name": "stdout",
     "output_type": "stream",
     "text": [
      "|------ Acc.: 0.882 | dp Dis.: 0.000 |\n",
      "| Acc.: 0.882(0.000) | dp Dis.: 0.000(0.000) |\n"
     ]
    }
   ],
   "source": [
    "acc, EO = np.zeros(10), np.zeros(10)\n",
    "for seed in range(10):\n",
    "    print(\"| seed: %d |\" % seed)\n",
    "    server = Server(logReg(num_features=bank_num_features, num_classes=2, seed = seed), bank_info, train_prn = False, seed = seed, ret = True, Z = bank_z)\n",
    "    acc[seed], EO[seed] = server.LocalFC(num_rounds = 5, local_epochs = 20, optimizer = 'adam', learning_rate = 0.002, penalty = 50)\n",
    "    print(\"|------ Acc.: %.3f | EO Dis.: %.3f |\" % (acc[seed], EO[seed]))\n",
    "print(\"| Acc.: %.3f(%.3f) | EO Dis.: %.3f(%.3f) |\" % (acc.mean(), acc.std(), EO.mean(), EO.std()))"
   ]
  },
  {
   "cell_type": "code",
   "execution_count": 8,
   "metadata": {
    "scrolled": true
   },
   "outputs": [
    {
     "name": "stderr",
     "output_type": "stream",
     "text": [
      "\r",
      "  0%|          | 0/3 [00:00<?, ?it/s]"
     ]
    },
    {
     "name": "stdout",
     "output_type": "stream",
     "text": [
      "| seed: 0 |\n"
     ]
    },
    {
     "name": "stderr",
     "output_type": "stream",
     "text": [
      "100%|██████████| 3/3 [00:58<00:00, 19.38s/it]\n",
      "100%|██████████| 3/3 [01:04<00:00, 21.56s/it]\n",
      "100%|██████████| 10/10 [03:20<00:00, 20.02s/it]\n",
      "  0%|          | 0/3 [00:00<?, ?it/s]"
     ]
    },
    {
     "name": "stdout",
     "output_type": "stream",
     "text": [
      "|------ Acc.: 0.883 | dp Dis.: 0.014 |\n",
      "| seed: 1 |\n"
     ]
    },
    {
     "name": "stderr",
     "output_type": "stream",
     "text": [
      "100%|██████████| 3/3 [00:58<00:00, 19.50s/it]\n",
      "100%|██████████| 3/3 [00:58<00:00, 19.44s/it]\n",
      "100%|██████████| 10/10 [03:21<00:00, 20.19s/it]\n",
      "  0%|          | 0/3 [00:00<?, ?it/s]"
     ]
    },
    {
     "name": "stdout",
     "output_type": "stream",
     "text": [
      "|------ Acc.: 0.883 | dp Dis.: 0.007 |\n",
      "| seed: 2 |\n"
     ]
    },
    {
     "name": "stderr",
     "output_type": "stream",
     "text": [
      "100%|██████████| 3/3 [01:00<00:00, 20.13s/it]\n",
      "100%|██████████| 3/3 [00:59<00:00, 19.93s/it]\n",
      "100%|██████████| 10/10 [03:20<00:00, 20.01s/it]\n",
      "  0%|          | 0/3 [00:00<?, ?it/s]"
     ]
    },
    {
     "name": "stdout",
     "output_type": "stream",
     "text": [
      "|------ Acc.: 0.883 | dp Dis.: 0.009 |\n",
      "| seed: 3 |\n"
     ]
    },
    {
     "name": "stderr",
     "output_type": "stream",
     "text": [
      "100%|██████████| 3/3 [00:58<00:00, 19.38s/it]\n",
      "100%|██████████| 3/3 [01:02<00:00, 20.96s/it]\n",
      "100%|██████████| 10/10 [03:13<00:00, 19.39s/it]\n",
      "  0%|          | 0/3 [00:00<?, ?it/s]"
     ]
    },
    {
     "name": "stdout",
     "output_type": "stream",
     "text": [
      "|------ Acc.: 0.883 | dp Dis.: 0.005 |\n",
      "| seed: 4 |\n"
     ]
    },
    {
     "name": "stderr",
     "output_type": "stream",
     "text": [
      "100%|██████████| 3/3 [00:58<00:00, 19.51s/it]\n",
      "100%|██████████| 3/3 [01:03<00:00, 21.05s/it]\n",
      "100%|██████████| 10/10 [03:18<00:00, 19.81s/it]\n",
      "  0%|          | 0/3 [00:00<?, ?it/s]"
     ]
    },
    {
     "name": "stdout",
     "output_type": "stream",
     "text": [
      "|------ Acc.: 0.883 | dp Dis.: 0.007 |\n",
      "| seed: 5 |\n"
     ]
    },
    {
     "name": "stderr",
     "output_type": "stream",
     "text": [
      "100%|██████████| 3/3 [00:58<00:00, 19.44s/it]\n",
      "100%|██████████| 3/3 [00:58<00:00, 19.50s/it]\n",
      "100%|██████████| 10/10 [03:27<00:00, 20.72s/it]\n",
      "  0%|          | 0/3 [00:00<?, ?it/s]"
     ]
    },
    {
     "name": "stdout",
     "output_type": "stream",
     "text": [
      "|------ Acc.: 0.883 | dp Dis.: 0.025 |\n",
      "| seed: 6 |\n"
     ]
    },
    {
     "name": "stderr",
     "output_type": "stream",
     "text": [
      "100%|██████████| 3/3 [00:57<00:00, 19.28s/it]\n",
      "100%|██████████| 3/3 [00:59<00:00, 19.88s/it]\n",
      "100%|██████████| 10/10 [03:14<00:00, 19.48s/it]\n",
      "  0%|          | 0/3 [00:00<?, ?it/s]"
     ]
    },
    {
     "name": "stdout",
     "output_type": "stream",
     "text": [
      "|------ Acc.: 0.883 | dp Dis.: 0.013 |\n",
      "| seed: 7 |\n"
     ]
    },
    {
     "name": "stderr",
     "output_type": "stream",
     "text": [
      "100%|██████████| 3/3 [00:57<00:00, 19.28s/it]\n",
      "100%|██████████| 3/3 [01:00<00:00, 20.04s/it]\n",
      "100%|██████████| 10/10 [03:13<00:00, 19.32s/it]\n",
      "  0%|          | 0/3 [00:00<?, ?it/s]"
     ]
    },
    {
     "name": "stdout",
     "output_type": "stream",
     "text": [
      "|------ Acc.: 0.883 | dp Dis.: 0.014 |\n",
      "| seed: 8 |\n"
     ]
    },
    {
     "name": "stderr",
     "output_type": "stream",
     "text": [
      "100%|██████████| 3/3 [01:00<00:00, 20.04s/it]\n",
      "100%|██████████| 3/3 [00:59<00:00, 19.87s/it]\n",
      "100%|██████████| 10/10 [03:04<00:00, 18.40s/it]\n",
      "  0%|          | 0/3 [00:00<?, ?it/s]"
     ]
    },
    {
     "name": "stdout",
     "output_type": "stream",
     "text": [
      "|------ Acc.: 0.883 | dp Dis.: 0.014 |\n",
      "| seed: 9 |\n"
     ]
    },
    {
     "name": "stderr",
     "output_type": "stream",
     "text": [
      "100%|██████████| 3/3 [00:49<00:00, 16.58s/it]\n",
      "100%|██████████| 3/3 [00:48<00:00, 16.30s/it]\n",
      "100%|██████████| 10/10 [02:43<00:00, 16.32s/it]\n"
     ]
    },
    {
     "name": "stdout",
     "output_type": "stream",
     "text": [
      "|------ Acc.: 0.883 | dp Dis.: 0.008 |\n",
      "| Acc.: 0.883(0.000) | dp Dis.: 0.012(0.005) |\n"
     ]
    }
   ],
   "source": [
    "acc, EO = np.zeros(10), np.zeros(10)\n",
    "for seed in range(10):\n",
    "    print(\"| seed: %d |\" % seed)\n",
    "    server = Server(logReg(num_features=bank_num_features, num_classes=2, seed = seed), bank_info, train_prn = False, seed = seed, ret = True, Z = bank_z)\n",
    "    acc[seed], EO[seed] = server.FairConstraints(test_rounds = 3, test_lr = 0.015, test_penalty = 2000, num_rounds = 10, local_epochs = 20, optimizer = 'adam', learning_rate = 0.003, penalty = 2000)\n",
    "    print(\"|------ Acc.: %.3f | EO Dis.: %.3f |\" % (acc[seed], EO[seed]))\n",
    "print(\"| Acc.: %.3f(%.3f) | EO Dis.: %.3f(%.3f) |\" % (acc.mean(), acc.std(), EO.mean(), EO.std()))"
   ]
  },
  {
   "cell_type": "code",
   "execution_count": 9,
   "metadata": {
    "scrolled": true
   },
   "outputs": [
    {
     "name": "stderr",
     "output_type": "stream",
     "text": [
      "\r",
      "  0%|          | 0/10 [00:00<?, ?it/s]"
     ]
    },
    {
     "name": "stdout",
     "output_type": "stream",
     "text": [
      "| seed: 0 |\n"
     ]
    },
    {
     "name": "stderr",
     "output_type": "stream",
     "text": [
      "100%|██████████| 10/10 [03:57<00:00, 23.76s/it]\n",
      "  0%|          | 0/10 [00:00<?, ?it/s]"
     ]
    },
    {
     "name": "stdout",
     "output_type": "stream",
     "text": [
      "|------ Acc.: 0.882 | dp Dis.: 0.000 |\n",
      "| seed: 1 |\n"
     ]
    },
    {
     "name": "stderr",
     "output_type": "stream",
     "text": [
      "100%|██████████| 10/10 [03:57<00:00, 23.77s/it]\n",
      "  0%|          | 0/10 [00:00<?, ?it/s]"
     ]
    },
    {
     "name": "stdout",
     "output_type": "stream",
     "text": [
      "|------ Acc.: 0.890 | dp Dis.: 0.079 |\n",
      "| seed: 2 |\n"
     ]
    },
    {
     "name": "stderr",
     "output_type": "stream",
     "text": [
      "100%|██████████| 10/10 [03:57<00:00, 23.71s/it]\n",
      "  0%|          | 0/10 [00:00<?, ?it/s]"
     ]
    },
    {
     "name": "stdout",
     "output_type": "stream",
     "text": [
      "|------ Acc.: 0.882 | dp Dis.: 0.000 |\n",
      "| seed: 3 |\n"
     ]
    },
    {
     "name": "stderr",
     "output_type": "stream",
     "text": [
      "100%|██████████| 10/10 [03:56<00:00, 23.66s/it]\n",
      "  0%|          | 0/10 [00:00<?, ?it/s]"
     ]
    },
    {
     "name": "stdout",
     "output_type": "stream",
     "text": [
      "|------ Acc.: 0.882 | dp Dis.: 0.000 |\n",
      "| seed: 4 |\n"
     ]
    },
    {
     "name": "stderr",
     "output_type": "stream",
     "text": [
      "100%|██████████| 10/10 [03:56<00:00, 23.65s/it]\n",
      "  0%|          | 0/10 [00:00<?, ?it/s]"
     ]
    },
    {
     "name": "stdout",
     "output_type": "stream",
     "text": [
      "|------ Acc.: 0.882 | dp Dis.: 0.000 |\n",
      "| seed: 5 |\n"
     ]
    },
    {
     "name": "stderr",
     "output_type": "stream",
     "text": [
      "100%|██████████| 10/10 [03:59<00:00, 23.92s/it]\n",
      "  0%|          | 0/10 [00:00<?, ?it/s]"
     ]
    },
    {
     "name": "stdout",
     "output_type": "stream",
     "text": [
      "|------ Acc.: 0.882 | dp Dis.: 0.000 |\n",
      "| seed: 6 |\n"
     ]
    },
    {
     "name": "stderr",
     "output_type": "stream",
     "text": [
      "100%|██████████| 10/10 [03:57<00:00, 23.74s/it]\n",
      "  0%|          | 0/10 [00:00<?, ?it/s]"
     ]
    },
    {
     "name": "stdout",
     "output_type": "stream",
     "text": [
      "|------ Acc.: 0.882 | dp Dis.: 0.000 |\n",
      "| seed: 7 |\n"
     ]
    },
    {
     "name": "stderr",
     "output_type": "stream",
     "text": [
      "100%|██████████| 10/10 [03:58<00:00, 23.80s/it]\n",
      "  0%|          | 0/10 [00:00<?, ?it/s]"
     ]
    },
    {
     "name": "stdout",
     "output_type": "stream",
     "text": [
      "|------ Acc.: 0.882 | dp Dis.: 0.000 |\n",
      "| seed: 8 |\n"
     ]
    },
    {
     "name": "stderr",
     "output_type": "stream",
     "text": [
      "100%|██████████| 10/10 [03:56<00:00, 23.65s/it]\n",
      "  0%|          | 0/10 [00:00<?, ?it/s]"
     ]
    },
    {
     "name": "stdout",
     "output_type": "stream",
     "text": [
      "|------ Acc.: 0.882 | dp Dis.: 0.000 |\n",
      "| seed: 9 |\n"
     ]
    },
    {
     "name": "stderr",
     "output_type": "stream",
     "text": [
      "100%|██████████| 10/10 [03:56<00:00, 23.67s/it]\n"
     ]
    },
    {
     "name": "stdout",
     "output_type": "stream",
     "text": [
      "|------ Acc.: 0.882 | dp Dis.: 0.000 |\n",
      "| Acc.: 0.883(0.002) | dp Dis.: 0.008(0.024) |\n"
     ]
    }
   ],
   "source": [
    "acc, EO = np.zeros(10), np.zeros(10)\n",
    "for seed in range(10):\n",
    "    print(\"| seed: %d |\" % seed)\n",
    "    server = Server(logReg(num_features=bank_num_features, num_classes=2, seed = seed), bank_info, train_prn = False, seed = seed, ret = True, Z = bank_z)\n",
    "    acc[seed], EO[seed] = server.FTrain(num_rounds = 10, local_epochs = 30, init_epochs = 50, lr_g = 0.005, lr_d = 0.01, lambda_d = 0.9)\n",
    "    print(\"|------ Acc.: %.3f | EO Dis.: %.3f |\" % (acc[seed], EO[seed]))\n",
    "print(\"| Acc.: %.3f(%.3f) | EO Dis.: %.3f(%.3f) |\" % (acc.mean(), acc.std(), EO.mean(), EO.std()))"
   ]
  },
  {
   "cell_type": "code",
   "execution_count": 38,
   "metadata": {
    "scrolled": true
   },
   "outputs": [
    {
     "name": "stderr",
     "output_type": "stream",
     "text": [
      "\n",
      "\n",
      "\n",
      "  0%|          | 0/10 [00:00<?, ?it/s]\u001b[A\u001b[A\u001b[A"
     ]
    },
    {
     "name": "stdout",
     "output_type": "stream",
     "text": [
      "| seed: 0 |\n"
     ]
    },
    {
     "name": "stderr",
     "output_type": "stream",
     "text": [
      "\n",
      "\n",
      "\n",
      " 10%|█         | 1/10 [00:31<04:45, 31.73s/it]\u001b[A\u001b[A\u001b[A\n",
      "\n",
      "\n",
      " 20%|██        | 2/10 [01:02<04:12, 31.58s/it]\u001b[A\u001b[A\u001b[A\n",
      "\n",
      "\n",
      " 30%|███       | 3/10 [01:36<03:46, 32.29s/it]\u001b[A\u001b[A\u001b[A\n",
      "\n",
      "\n",
      " 40%|████      | 4/10 [02:11<03:17, 32.92s/it]\u001b[A\u001b[A\u001b[A\n",
      "\n",
      "\n",
      " 50%|█████     | 5/10 [02:42<02:41, 32.30s/it]\u001b[A\u001b[A\u001b[A\n",
      "\n",
      "\n",
      " 60%|██████    | 6/10 [03:11<02:06, 31.55s/it]\u001b[A\u001b[A\u001b[A\n",
      "\n",
      "\n",
      " 70%|███████   | 7/10 [03:41<01:33, 31.05s/it]\u001b[A\u001b[A\u001b[A\n",
      "\n",
      "\n",
      " 80%|████████  | 8/10 [04:11<01:01, 30.66s/it]\u001b[A\u001b[A\u001b[A\n",
      "\n",
      "\n",
      " 90%|█████████ | 9/10 [04:41<00:30, 30.44s/it]\u001b[A\u001b[A\u001b[A\n",
      "\n",
      "\n",
      "100%|██████████| 10/10 [05:11<00:00, 31.11s/it]\u001b[A\u001b[A\u001b[A\n",
      "\n",
      "\n",
      "\n",
      "  0%|          | 0/10 [00:00<?, ?it/s]\u001b[A\u001b[A\u001b[A"
     ]
    },
    {
     "name": "stdout",
     "output_type": "stream",
     "text": [
      "|------ Acc.: 0.896 | EO Dis.: 0.019 |\n",
      "| seed: 1 |\n"
     ]
    },
    {
     "name": "stderr",
     "output_type": "stream",
     "text": [
      "\n",
      "\n",
      "\n",
      " 10%|█         | 1/10 [00:29<04:22, 29.13s/it]\u001b[A\u001b[A\u001b[A\n",
      "\n",
      "\n",
      " 20%|██        | 2/10 [00:58<03:54, 29.32s/it]\u001b[A\u001b[A\u001b[A\n",
      "\n",
      "\n",
      " 30%|███       | 3/10 [01:28<03:25, 29.37s/it]\u001b[A\u001b[A\u001b[A\n",
      "\n",
      "\n",
      " 40%|████      | 4/10 [01:58<02:56, 29.45s/it]\u001b[A\u001b[A\u001b[A\n",
      "\n",
      "\n",
      " 50%|█████     | 5/10 [02:27<02:27, 29.57s/it]\u001b[A\u001b[A\u001b[A\n",
      "\n",
      "\n",
      " 60%|██████    | 6/10 [02:58<01:59, 29.89s/it]\u001b[A\u001b[A\u001b[A\n",
      "\n",
      "\n",
      " 70%|███████   | 7/10 [03:28<01:29, 29.85s/it]\u001b[A\u001b[A\u001b[A\n",
      "\n",
      "\n",
      " 80%|████████  | 8/10 [03:58<00:59, 29.86s/it]\u001b[A\u001b[A\u001b[A\n",
      "\n",
      "\n",
      " 90%|█████████ | 9/10 [04:27<00:29, 29.84s/it]\u001b[A\u001b[A\u001b[A\n",
      "\n",
      "\n",
      "100%|██████████| 10/10 [05:00<00:00, 30.00s/it]\u001b[A\u001b[A\u001b[A\n",
      "\n",
      "\n",
      "\n",
      "  0%|          | 0/10 [00:00<?, ?it/s]\u001b[A\u001b[A\u001b[A"
     ]
    },
    {
     "name": "stdout",
     "output_type": "stream",
     "text": [
      "|------ Acc.: 0.896 | EO Dis.: 0.017 |\n",
      "| seed: 2 |\n"
     ]
    },
    {
     "name": "stderr",
     "output_type": "stream",
     "text": [
      "\n",
      "\n",
      "\n",
      " 10%|█         | 1/10 [00:36<05:25, 36.11s/it]\u001b[A\u001b[A\u001b[A\n",
      "\n",
      "\n",
      " 20%|██        | 2/10 [01:12<04:49, 36.17s/it]\u001b[A\u001b[A\u001b[A\n",
      "\n",
      "\n",
      " 30%|███       | 3/10 [01:42<03:59, 34.23s/it]\u001b[A\u001b[A\u001b[A\n",
      "\n",
      "\n",
      " 40%|████      | 4/10 [02:11<03:17, 32.90s/it]\u001b[A\u001b[A\u001b[A\n",
      "\n",
      "\n",
      " 50%|█████     | 5/10 [02:41<02:39, 31.98s/it]\u001b[A\u001b[A\u001b[A\n",
      "\n",
      "\n",
      " 60%|██████    | 6/10 [03:11<02:05, 31.31s/it]\u001b[A\u001b[A\u001b[A\n",
      "\n",
      "\n",
      " 70%|███████   | 7/10 [03:41<01:33, 31.04s/it]\u001b[A\u001b[A\u001b[A\n",
      "\n",
      "\n",
      " 80%|████████  | 8/10 [04:11<01:01, 30.72s/it]\u001b[A\u001b[A\u001b[A\n",
      "\n",
      "\n",
      " 90%|█████████ | 9/10 [04:43<00:30, 30.95s/it]\u001b[A\u001b[A\u001b[A\n",
      "\n",
      "\n",
      "100%|██████████| 10/10 [05:13<00:00, 31.33s/it]\u001b[A\u001b[A\u001b[A\n",
      "\n",
      "\n",
      "\n",
      "  0%|          | 0/10 [00:00<?, ?it/s]\u001b[A\u001b[A\u001b[A"
     ]
    },
    {
     "name": "stdout",
     "output_type": "stream",
     "text": [
      "|------ Acc.: 0.898 | EO Dis.: 0.075 |\n",
      "| seed: 3 |\n"
     ]
    },
    {
     "name": "stderr",
     "output_type": "stream",
     "text": [
      "\n",
      "\n",
      "\n",
      " 10%|█         | 1/10 [00:29<04:22, 29.16s/it]\u001b[A\u001b[A\u001b[A\n",
      "\n",
      "\n",
      " 20%|██        | 2/10 [00:59<03:55, 29.44s/it]\u001b[A\u001b[A\u001b[A\n",
      "\n",
      "\n",
      " 30%|███       | 3/10 [01:28<03:26, 29.50s/it]\u001b[A\u001b[A\u001b[A\n",
      "\n",
      "\n",
      " 40%|████      | 4/10 [01:58<02:56, 29.48s/it]\u001b[A\u001b[A\u001b[A\n",
      "\n",
      "\n",
      " 50%|█████     | 5/10 [02:27<02:27, 29.51s/it]\u001b[A\u001b[A\u001b[A\n",
      "\n",
      "\n",
      " 60%|██████    | 6/10 [02:57<01:58, 29.54s/it]\u001b[A\u001b[A\u001b[A\n",
      "\n",
      "\n",
      " 70%|███████   | 7/10 [03:27<01:28, 29.55s/it]\u001b[A\u001b[A\u001b[A\n",
      "\n",
      "\n",
      " 80%|████████  | 8/10 [03:56<00:59, 29.58s/it]\u001b[A\u001b[A\u001b[A\n",
      "\n",
      "\n",
      " 90%|█████████ | 9/10 [04:29<00:30, 30.47s/it]\u001b[A\u001b[A\u001b[A\n",
      "\n",
      "\n",
      "100%|██████████| 10/10 [05:00<00:00, 30.02s/it]\u001b[A\u001b[A\u001b[A\n",
      "\n",
      "\n",
      "\n",
      "  0%|          | 0/10 [00:00<?, ?it/s]\u001b[A\u001b[A\u001b[A"
     ]
    },
    {
     "name": "stdout",
     "output_type": "stream",
     "text": [
      "|------ Acc.: 0.898 | EO Dis.: 0.055 |\n",
      "| seed: 4 |\n"
     ]
    },
    {
     "name": "stderr",
     "output_type": "stream",
     "text": [
      "\n",
      "\n",
      "\n",
      " 10%|█         | 1/10 [00:29<04:29, 29.92s/it]\u001b[A\u001b[A\u001b[A\n",
      "\n",
      "\n",
      " 20%|██        | 2/10 [00:59<03:58, 29.87s/it]\u001b[A\u001b[A\u001b[A\n",
      "\n",
      "\n",
      " 30%|███       | 3/10 [01:29<03:28, 29.76s/it]\u001b[A\u001b[A\u001b[A\n",
      "\n",
      "\n",
      " 40%|████      | 4/10 [01:58<02:58, 29.73s/it]\u001b[A\u001b[A\u001b[A\n",
      "\n",
      "\n",
      " 50%|█████     | 5/10 [02:33<02:35, 31.08s/it]\u001b[A\u001b[A\u001b[A\n",
      "\n",
      "\n",
      " 60%|██████    | 6/10 [03:04<02:04, 31.04s/it]\u001b[A\u001b[A\u001b[A\n",
      "\n",
      "\n",
      " 70%|███████   | 7/10 [03:35<01:33, 31.07s/it]\u001b[A\u001b[A\u001b[A\n",
      "\n",
      "\n",
      " 80%|████████  | 8/10 [04:04<01:01, 30.62s/it]\u001b[A\u001b[A\u001b[A\n",
      "\n",
      "\n",
      " 90%|█████████ | 9/10 [04:34<00:30, 30.34s/it]\u001b[A\u001b[A\u001b[A\n",
      "\n",
      "\n",
      "100%|██████████| 10/10 [05:04<00:00, 30.43s/it]\u001b[A\u001b[A\u001b[A\n",
      "\n",
      "\n",
      "\n",
      "  0%|          | 0/10 [00:00<?, ?it/s]\u001b[A\u001b[A\u001b[A"
     ]
    },
    {
     "name": "stdout",
     "output_type": "stream",
     "text": [
      "|------ Acc.: 0.899 | EO Dis.: 0.030 |\n",
      "| seed: 5 |\n"
     ]
    },
    {
     "name": "stderr",
     "output_type": "stream",
     "text": [
      "\n",
      "\n",
      "\n",
      " 10%|█         | 1/10 [00:33<05:03, 33.77s/it]\u001b[A\u001b[A\u001b[A\n",
      "\n",
      "\n",
      " 20%|██        | 2/10 [01:03<04:20, 32.57s/it]\u001b[A\u001b[A\u001b[A\n",
      "\n",
      "\n",
      " 30%|███       | 3/10 [01:33<03:42, 31.79s/it]\u001b[A\u001b[A\u001b[A\n",
      "\n",
      "\n",
      " 40%|████      | 4/10 [02:02<03:06, 31.10s/it]\u001b[A\u001b[A\u001b[A\n",
      "\n",
      "\n",
      " 50%|█████     | 5/10 [02:34<02:36, 31.23s/it]\u001b[A\u001b[A\u001b[A\n",
      "\n",
      "\n",
      " 60%|██████    | 6/10 [03:07<02:06, 31.71s/it]\u001b[A\u001b[A\u001b[A\n",
      "\n",
      "\n",
      " 70%|███████   | 7/10 [03:38<01:34, 31.49s/it]\u001b[A\u001b[A\u001b[A\n",
      "\n",
      "\n",
      " 80%|████████  | 8/10 [04:07<01:01, 30.93s/it]\u001b[A\u001b[A\u001b[A\n",
      "\n",
      "\n",
      " 90%|█████████ | 9/10 [04:37<00:30, 30.52s/it]\u001b[A\u001b[A\u001b[A\n",
      "\n",
      "\n",
      "100%|██████████| 10/10 [05:07<00:00, 30.71s/it]\u001b[A\u001b[A\u001b[A\n",
      "\n",
      "\n",
      "\n",
      "  0%|          | 0/10 [00:00<?, ?it/s]\u001b[A\u001b[A\u001b[A"
     ]
    },
    {
     "name": "stdout",
     "output_type": "stream",
     "text": [
      "|------ Acc.: 0.898 | EO Dis.: 0.023 |\n",
      "| seed: 6 |\n"
     ]
    },
    {
     "name": "stderr",
     "output_type": "stream",
     "text": [
      "\n",
      "\n",
      "\n",
      " 10%|█         | 1/10 [00:29<04:24, 29.44s/it]\u001b[A\u001b[A\u001b[A\n",
      "\n",
      "\n",
      " 20%|██        | 2/10 [00:59<03:56, 29.51s/it]\u001b[A\u001b[A\u001b[A\n",
      "\n",
      "\n",
      " 30%|███       | 3/10 [01:29<03:27, 29.70s/it]\u001b[A\u001b[A\u001b[A\n",
      "\n",
      "\n",
      " 40%|████      | 4/10 [01:58<02:58, 29.67s/it]\u001b[A\u001b[A\u001b[A\n",
      "\n",
      "\n",
      " 50%|█████     | 5/10 [02:28<02:28, 29.64s/it]\u001b[A\u001b[A\u001b[A\n",
      "\n",
      "\n",
      " 60%|██████    | 6/10 [02:57<01:58, 29.57s/it]\u001b[A\u001b[A\u001b[A\n",
      "\n",
      "\n",
      " 70%|███████   | 7/10 [03:27<01:28, 29.63s/it]\u001b[A\u001b[A\u001b[A\n",
      "\n",
      "\n",
      " 80%|████████  | 8/10 [03:57<00:59, 29.63s/it]\u001b[A\u001b[A\u001b[A\n",
      "\n",
      "\n",
      " 90%|█████████ | 9/10 [04:26<00:29, 29.64s/it]\u001b[A\u001b[A\u001b[A\n",
      "\n",
      "\n",
      "100%|██████████| 10/10 [04:56<00:00, 29.66s/it]\u001b[A\u001b[A\u001b[A\n",
      "\n",
      "\n",
      "\n",
      "  0%|          | 0/10 [00:00<?, ?it/s]\u001b[A\u001b[A\u001b[A"
     ]
    },
    {
     "name": "stdout",
     "output_type": "stream",
     "text": [
      "|------ Acc.: 0.897 | EO Dis.: 0.026 |\n",
      "| seed: 7 |\n"
     ]
    },
    {
     "name": "stderr",
     "output_type": "stream",
     "text": [
      "\n",
      "\n",
      "\n",
      " 10%|█         | 1/10 [00:33<05:01, 33.47s/it]\u001b[A\u001b[A\u001b[A\n",
      "\n",
      "\n",
      " 20%|██        | 2/10 [01:03<04:20, 32.50s/it]\u001b[A\u001b[A\u001b[A\n",
      "\n",
      "\n",
      " 30%|███       | 3/10 [01:34<03:43, 31.93s/it]\u001b[A\u001b[A\u001b[A\n",
      "\n",
      "\n",
      " 40%|████      | 4/10 [02:05<03:09, 31.64s/it]\u001b[A\u001b[A\u001b[A\n",
      "\n",
      "\n",
      " 50%|█████     | 5/10 [02:34<02:35, 31.02s/it]\u001b[A\u001b[A\u001b[A\n",
      "\n",
      "\n",
      " 60%|██████    | 6/10 [03:04<02:02, 30.69s/it]\u001b[A\u001b[A\u001b[A\n",
      "\n",
      "\n",
      " 70%|███████   | 7/10 [03:38<01:34, 31.46s/it]\u001b[A\u001b[A\u001b[A\n",
      "\n",
      "\n",
      " 80%|████████  | 8/10 [04:12<01:04, 32.40s/it]\u001b[A\u001b[A\u001b[A\n",
      "\n",
      "\n",
      " 90%|█████████ | 9/10 [04:44<00:32, 32.37s/it]\u001b[A\u001b[A\u001b[A\n",
      "\n",
      "\n",
      "100%|██████████| 10/10 [05:15<00:00, 31.53s/it]\u001b[A\u001b[A\u001b[A\n",
      "\n",
      "\n",
      "\n",
      "  0%|          | 0/10 [00:00<?, ?it/s]\u001b[A\u001b[A\u001b[A"
     ]
    },
    {
     "name": "stdout",
     "output_type": "stream",
     "text": [
      "|------ Acc.: 0.893 | EO Dis.: 0.047 |\n",
      "| seed: 8 |\n"
     ]
    },
    {
     "name": "stderr",
     "output_type": "stream",
     "text": [
      "\n",
      "\n",
      "\n",
      " 10%|█         | 1/10 [00:30<04:38, 30.99s/it]\u001b[A\u001b[A\u001b[A\n",
      "\n",
      "\n",
      " 20%|██        | 2/10 [01:00<04:04, 30.60s/it]\u001b[A\u001b[A\u001b[A\n",
      "\n",
      "\n",
      " 30%|███       | 3/10 [01:30<03:33, 30.48s/it]\u001b[A\u001b[A\u001b[A\n",
      "\n",
      "\n",
      " 40%|████      | 4/10 [02:06<03:12, 32.17s/it]\u001b[A\u001b[A\u001b[A\n",
      "\n",
      "\n",
      " 50%|█████     | 5/10 [02:41<02:44, 32.87s/it]\u001b[A\u001b[A\u001b[A\n",
      "\n",
      "\n",
      " 60%|██████    | 6/10 [03:18<02:16, 34.21s/it]\u001b[A\u001b[A\u001b[A\n",
      "\n",
      "\n",
      " 70%|███████   | 7/10 [03:52<01:41, 33.96s/it]\u001b[A\u001b[A\u001b[A\n",
      "\n",
      "\n",
      " 80%|████████  | 8/10 [04:22<01:05, 32.99s/it]\u001b[A\u001b[A\u001b[A\n",
      "\n",
      "\n",
      " 90%|█████████ | 9/10 [04:53<00:32, 32.14s/it]\u001b[A\u001b[A\u001b[A\n",
      "\n",
      "\n",
      "100%|██████████| 10/10 [05:24<00:00, 32.40s/it]\u001b[A\u001b[A\u001b[A\n",
      "\n",
      "\n",
      "\n",
      "  0%|          | 0/10 [00:00<?, ?it/s]\u001b[A\u001b[A\u001b[A"
     ]
    },
    {
     "name": "stdout",
     "output_type": "stream",
     "text": [
      "|------ Acc.: 0.898 | EO Dis.: 0.057 |\n",
      "| seed: 9 |\n"
     ]
    },
    {
     "name": "stderr",
     "output_type": "stream",
     "text": [
      "\n",
      "\n",
      "\n",
      " 10%|█         | 1/10 [00:30<04:38, 30.94s/it]\u001b[A\u001b[A\u001b[A\n",
      "\n",
      "\n",
      " 20%|██        | 2/10 [01:02<04:08, 31.06s/it]\u001b[A\u001b[A\u001b[A\n",
      "\n",
      "\n",
      " 30%|███       | 3/10 [01:32<03:36, 30.86s/it]\u001b[A\u001b[A\u001b[A\n",
      "\n",
      "\n",
      " 40%|████      | 4/10 [02:25<03:43, 37.33s/it]\u001b[A\u001b[A\u001b[A\n",
      "\n",
      "\n",
      " 50%|█████     | 5/10 [02:57<02:59, 35.92s/it]\u001b[A\u001b[A\u001b[A\n",
      "\n",
      "\n",
      " 60%|██████    | 6/10 [03:28<02:17, 34.49s/it]\u001b[A\u001b[A\u001b[A\n",
      "\n",
      "\n",
      " 70%|███████   | 7/10 [38:49<33:01, 660.40s/it]\u001b[A\u001b[A\u001b[A\n",
      "\n",
      "\n",
      " 80%|████████  | 8/10 [1:39:24<51:45, 1552.75s/it]\u001b[A\u001b[A\u001b[A\n",
      "\n",
      "\n",
      " 90%|█████████ | 9/10 [2:50:34<39:27, 2367.73s/it]\u001b[A\u001b[A\u001b[A\n",
      "\n",
      "\n",
      "100%|██████████| 10/10 [4:06:25<00:00, 1478.53s/it]\u001b[A\u001b[A\u001b[A\n"
     ]
    },
    {
     "name": "stdout",
     "output_type": "stream",
     "text": [
      "|------ Acc.: 0.896 | EO Dis.: 0.047 |\n",
      "| Acc.: 0.897(0.002) | EO Dis.: 0.039(0.018) |\n"
     ]
    }
   ],
   "source": [
    "acc, EO = np.zeros(10), np.zeros(10)\n",
    "for seed in range(10):\n",
    "    print(\"| seed: %d |\" % seed)\n",
    "    server = Server(logReg(num_features=bank_num_features, num_classes=2, seed = seed), bank_info, train_prn = False, seed = seed, ret = True, Z = bank_z)\n",
    "    acc[seed], EO[seed] = server.FBVariant(num_rounds = 10, local_epochs = 30, optimizer = 'adam', learning_rate = 0.05, alpha = 0.01)\n",
    "    print(\"|------ Acc.: %.3f | EO Dis.: %.3f |\" % (acc[seed], EO[seed]))\n",
    "print(\"| Acc.: %.3f(%.3f) | EO Dis.: %.3f(%.3f) |\" % (acc.mean(), acc.std(), EO.mean(), EO.std()))"
   ]
  },
  {
   "cell_type": "markdown",
   "metadata": {},
   "source": [
    "# Other"
   ]
  },
  {
   "cell_type": "code",
   "execution_count": 27,
   "metadata": {},
   "outputs": [
    {
     "name": "stderr",
     "output_type": "stream",
     "text": [
      "\n",
      "  0%|          | 0/10 [00:00<?, ?it/s]\u001b[A"
     ]
    },
    {
     "name": "stdout",
     "output_type": "stream",
     "text": [
      "\n",
      " | Global Training Round : 1 |\n",
      "\n"
     ]
    },
    {
     "name": "stderr",
     "output_type": "stream",
     "text": [
      "\n",
      " 10%|█         | 1/10 [00:25<03:50, 25.64s/it]\u001b[A"
     ]
    },
    {
     "name": "stdout",
     "output_type": "stream",
     "text": [
      "Client 1: accuracy loss: 36.00 | fairness loss 1399.70 | Equal Opportunity Disparity = 0.11\n",
      "Client 2: accuracy loss: 12.18 | fairness loss 1269.85 | Equal Opportunity Disparity = 0.19\n",
      "Client 3: accuracy loss: 32.02 | fairness loss 1321.74 | Equal Opportunity Disparity = 0.10\n",
      " \n",
      "Avg Training Stats after 1 global rounds:\n",
      "Training loss: 33.44 | Validation accuracy: 90.74% | Validation Equal Opportunity Disparity: 0.1057\n",
      "\n",
      " | Global Training Round : 2 |\n",
      "\n"
     ]
    },
    {
     "name": "stderr",
     "output_type": "stream",
     "text": [
      "\n",
      " 20%|██        | 2/10 [00:51<03:26, 25.78s/it]\u001b[A"
     ]
    },
    {
     "name": "stdout",
     "output_type": "stream",
     "text": [
      "Client 1: accuracy loss: 36.08 | fairness loss 1572.95 | Equal Opportunity Disparity = 0.09\n",
      "Client 2: accuracy loss: 12.14 | fairness loss 1435.73 | Equal Opportunity Disparity = 0.19\n",
      "Client 3: accuracy loss: 31.89 | fairness loss 1477.44 | Equal Opportunity Disparity = 0.09\n",
      " \n",
      "Avg Training Stats after 2 global rounds:\n",
      "Training loss: 32.36 | Validation accuracy: 90.67% | Validation Equal Opportunity Disparity: 0.0952\n",
      "\n",
      " | Global Training Round : 3 |\n",
      "\n"
     ]
    },
    {
     "name": "stderr",
     "output_type": "stream",
     "text": [
      "\n",
      " 30%|███       | 3/10 [01:18<03:01, 25.96s/it]\u001b[A"
     ]
    },
    {
     "name": "stdout",
     "output_type": "stream",
     "text": [
      "Client 1: accuracy loss: 36.09 | fairness loss 1583.95 | Equal Opportunity Disparity = 0.09\n",
      "Client 2: accuracy loss: 12.14 | fairness loss 1447.09 | Equal Opportunity Disparity = 0.21\n",
      "Client 3: accuracy loss: 31.88 | fairness loss 1486.91 | Equal Opportunity Disparity = 0.09\n",
      " \n",
      "Avg Training Stats after 3 global rounds:\n",
      "Training loss: 31.99 | Validation accuracy: 90.67% | Validation Equal Opportunity Disparity: 0.0903\n",
      "\n",
      " | Global Training Round : 4 |\n",
      "\n"
     ]
    },
    {
     "name": "stderr",
     "output_type": "stream",
     "text": [
      "\n",
      " 40%|████      | 4/10 [01:44<02:37, 26.21s/it]\u001b[A"
     ]
    },
    {
     "name": "stdout",
     "output_type": "stream",
     "text": [
      "Client 1: accuracy loss: 36.09 | fairness loss 1584.41 | Equal Opportunity Disparity = 0.09\n",
      "Client 2: accuracy loss: 12.14 | fairness loss 1447.51 | Equal Opportunity Disparity = 0.21\n",
      "Client 3: accuracy loss: 31.88 | fairness loss 1487.18 | Equal Opportunity Disparity = 0.09\n",
      " \n",
      "Avg Training Stats after 4 global rounds:\n",
      "Training loss: 31.81 | Validation accuracy: 90.67% | Validation Equal Opportunity Disparity: 0.0903\n",
      "\n",
      " | Global Training Round : 5 |\n",
      "\n"
     ]
    },
    {
     "name": "stderr",
     "output_type": "stream",
     "text": [
      "\n",
      " 50%|█████     | 5/10 [02:09<02:09, 25.86s/it]\u001b[A"
     ]
    },
    {
     "name": "stdout",
     "output_type": "stream",
     "text": [
      "Client 1: accuracy loss: 36.09 | fairness loss 1584.16 | Equal Opportunity Disparity = 0.09\n",
      "Client 2: accuracy loss: 12.14 | fairness loss 1447.24 | Equal Opportunity Disparity = 0.21\n",
      "Client 3: accuracy loss: 31.88 | fairness loss 1486.88 | Equal Opportunity Disparity = 0.09\n",
      " \n",
      "Avg Training Stats after 5 global rounds:\n",
      "Training loss: 31.70 | Validation accuracy: 90.67% | Validation Equal Opportunity Disparity: 0.0903\n",
      "\n",
      " | Global Training Round : 6 |\n",
      "\n"
     ]
    },
    {
     "name": "stderr",
     "output_type": "stream",
     "text": [
      "\n",
      " 60%|██████    | 6/10 [02:34<01:41, 25.44s/it]\u001b[A"
     ]
    },
    {
     "name": "stdout",
     "output_type": "stream",
     "text": [
      "Client 1: accuracy loss: 36.09 | fairness loss 1583.84 | Equal Opportunity Disparity = 0.09\n",
      "Client 2: accuracy loss: 12.14 | fairness loss 1446.93 | Equal Opportunity Disparity = 0.21\n",
      "Client 3: accuracy loss: 31.88 | fairness loss 1486.53 | Equal Opportunity Disparity = 0.09\n",
      " \n",
      "Avg Training Stats after 6 global rounds:\n",
      "Training loss: 31.62 | Validation accuracy: 90.67% | Validation Equal Opportunity Disparity: 0.0903\n",
      "\n",
      " | Global Training Round : 7 |\n",
      "\n"
     ]
    },
    {
     "name": "stderr",
     "output_type": "stream",
     "text": [
      "\n",
      " 70%|███████   | 7/10 [03:00<01:16, 25.58s/it]\u001b[A"
     ]
    },
    {
     "name": "stdout",
     "output_type": "stream",
     "text": [
      "Client 1: accuracy loss: 36.09 | fairness loss 1583.51 | Equal Opportunity Disparity = 0.09\n",
      "Client 2: accuracy loss: 12.14 | fairness loss 1446.62 | Equal Opportunity Disparity = 0.21\n",
      "Client 3: accuracy loss: 31.88 | fairness loss 1486.18 | Equal Opportunity Disparity = 0.09\n",
      " \n",
      "Avg Training Stats after 7 global rounds:\n",
      "Training loss: 31.57 | Validation accuracy: 90.67% | Validation Equal Opportunity Disparity: 0.0903\n",
      "\n",
      " | Global Training Round : 8 |\n",
      "\n"
     ]
    },
    {
     "name": "stderr",
     "output_type": "stream",
     "text": [
      "\n",
      " 80%|████████  | 8/10 [03:26<00:51, 25.72s/it]\u001b[A"
     ]
    },
    {
     "name": "stdout",
     "output_type": "stream",
     "text": [
      "Client 1: accuracy loss: 36.09 | fairness loss 1583.17 | Equal Opportunity Disparity = 0.09\n",
      "Client 2: accuracy loss: 12.14 | fairness loss 1446.31 | Equal Opportunity Disparity = 0.21\n",
      "Client 3: accuracy loss: 31.88 | fairness loss 1485.84 | Equal Opportunity Disparity = 0.09\n",
      " \n",
      "Avg Training Stats after 8 global rounds:\n",
      "Training loss: 31.53 | Validation accuracy: 90.67% | Validation Equal Opportunity Disparity: 0.0903\n",
      "\n",
      " | Global Training Round : 9 |\n",
      "\n"
     ]
    },
    {
     "name": "stderr",
     "output_type": "stream",
     "text": [
      "\n",
      " 90%|█████████ | 9/10 [03:50<00:25, 25.25s/it]\u001b[A"
     ]
    },
    {
     "name": "stdout",
     "output_type": "stream",
     "text": [
      "Client 1: accuracy loss: 36.09 | fairness loss 1582.84 | Equal Opportunity Disparity = 0.09\n",
      "Client 2: accuracy loss: 12.14 | fairness loss 1446.00 | Equal Opportunity Disparity = 0.21\n",
      "Client 3: accuracy loss: 31.88 | fairness loss 1485.49 | Equal Opportunity Disparity = 0.09\n",
      " \n",
      "Avg Training Stats after 9 global rounds:\n",
      "Training loss: 31.50 | Validation accuracy: 90.67% | Validation Equal Opportunity Disparity: 0.0903\n",
      "\n",
      " | Global Training Round : 10 |\n",
      "\n"
     ]
    },
    {
     "name": "stderr",
     "output_type": "stream",
     "text": [
      "\n",
      "100%|██████████| 10/10 [04:14<00:00, 25.48s/it]\u001b[A"
     ]
    },
    {
     "name": "stdout",
     "output_type": "stream",
     "text": [
      "Client 1: accuracy loss: 36.09 | fairness loss 1582.51 | Equal Opportunity Disparity = 0.09\n",
      "Client 2: accuracy loss: 12.14 | fairness loss 1445.69 | Equal Opportunity Disparity = 0.21\n",
      "Client 3: accuracy loss: 31.88 | fairness loss 1485.14 | Equal Opportunity Disparity = 0.09\n",
      " \n",
      "Avg Training Stats after 10 global rounds:\n",
      "Training loss: 31.48 | Validation accuracy: 90.67% | Validation Equal Opportunity Disparity: 0.0903\n"
     ]
    },
    {
     "name": "stderr",
     "output_type": "stream",
     "text": [
      "\n"
     ]
    },
    {
     "name": "stdout",
     "output_type": "stream",
     "text": [
      " \n",
      " Results after 10 global rounds of training:\n",
      "|---- Avg Train Accuracy: 90.67%\n",
      "|---- Test Accuracy: 89.95%\n",
      "|---- Test Equal Opportunity Disparity: 0.0340\n",
      "\n",
      " Total Run Time: 255.0309 sec\n"
     ]
    }
   ],
   "source": [
    "seed = 0\n",
    "server = Server(logReg(num_features=bank_num_features, num_classes=2, seed = seed), bank_info, train_prn = False, seed = seed, Z = bank_z)\n",
    "server.Unconstrained(num_rounds = 10, local_epochs = 30, optimizer = 'adam', learning_rate = 0.01)"
   ]
  },
  {
   "cell_type": "code",
   "execution_count": 26,
   "metadata": {
    "scrolled": true
   },
   "outputs": [
    {
     "name": "stderr",
     "output_type": "stream",
     "text": [
      "\n",
      "  0%|          | 0/10 [00:00<?, ?it/s]\u001b[A"
     ]
    },
    {
     "name": "stdout",
     "output_type": "stream",
     "text": [
      "\n",
      " | Global Training Round : 1 |\n",
      "\n"
     ]
    },
    {
     "name": "stderr",
     "output_type": "stream",
     "text": [
      "\n",
      " 10%|█         | 1/10 [00:24<03:36, 24.11s/it]\u001b[A"
     ]
    },
    {
     "name": "stdout",
     "output_type": "stream",
     "text": [
      "Client 1: accuracy loss: 36.31 | fairness loss 1144.73 | Equal Opportunity Disparity = 0.12\n",
      "Client 2: accuracy loss: 12.31 | fairness loss 1043.14 | Equal Opportunity Disparity = 0.14\n",
      "Client 3: accuracy loss: 32.52 | fairness loss 1090.20 | Equal Opportunity Disparity = 0.13\n",
      " \n",
      "Avg Training Stats after 1 global rounds:\n",
      "Training loss: 34.84 | Validation accuracy: 90.40% | Validation Equal Opportunity Disparity: 0.1079\n",
      "\n",
      " | Global Training Round : 2 |\n",
      "\n"
     ]
    },
    {
     "name": "stderr",
     "output_type": "stream",
     "text": [
      "\n",
      " 20%|██        | 2/10 [00:49<03:16, 24.59s/it]\u001b[A"
     ]
    },
    {
     "name": "stdout",
     "output_type": "stream",
     "text": [
      "Client 1: accuracy loss: 36.09 | fairness loss 1457.71 | Equal Opportunity Disparity = 0.11\n",
      "Client 2: accuracy loss: 12.12 | fairness loss 1326.00 | Equal Opportunity Disparity = 0.19\n",
      "Client 3: accuracy loss: 31.93 | fairness loss 1374.08 | Equal Opportunity Disparity = 0.07\n",
      " \n",
      "Avg Training Stats after 2 global rounds:\n",
      "Training loss: 33.08 | Validation accuracy: 90.71% | Validation Equal Opportunity Disparity: 0.0983\n",
      "\n",
      " | Global Training Round : 3 |\n",
      "\n"
     ]
    },
    {
     "name": "stderr",
     "output_type": "stream",
     "text": [
      "\n",
      " 30%|███       | 3/10 [01:17<02:57, 25.37s/it]\u001b[A"
     ]
    },
    {
     "name": "stdout",
     "output_type": "stream",
     "text": [
      "Client 1: accuracy loss: 36.12 | fairness loss 1522.36 | Equal Opportunity Disparity = 0.09\n",
      "Client 2: accuracy loss: 12.11 | fairness loss 1387.86 | Equal Opportunity Disparity = 0.19\n",
      "Client 3: accuracy loss: 31.89 | fairness loss 1432.15 | Equal Opportunity Disparity = 0.08\n",
      " \n",
      "Avg Training Stats after 3 global rounds:\n",
      "Training loss: 32.43 | Validation accuracy: 90.64% | Validation Equal Opportunity Disparity: 0.0858\n",
      "\n",
      " | Global Training Round : 4 |\n",
      "\n"
     ]
    },
    {
     "name": "stderr",
     "output_type": "stream",
     "text": [
      "\n",
      " 40%|████      | 4/10 [01:44<02:35, 25.86s/it]\u001b[A"
     ]
    },
    {
     "name": "stdout",
     "output_type": "stream",
     "text": [
      "Client 1: accuracy loss: 36.13 | fairness loss 1534.12 | Equal Opportunity Disparity = 0.09\n",
      "Client 2: accuracy loss: 12.11 | fairness loss 1399.56 | Equal Opportunity Disparity = 0.21\n",
      "Client 3: accuracy loss: 31.88 | fairness loss 1442.44 | Equal Opportunity Disparity = 0.08\n",
      " \n",
      "Avg Training Stats after 4 global rounds:\n",
      "Training loss: 32.11 | Validation accuracy: 90.67% | Validation Equal Opportunity Disparity: 0.0833\n",
      "\n",
      " | Global Training Round : 5 |\n",
      "\n"
     ]
    },
    {
     "name": "stderr",
     "output_type": "stream",
     "text": [
      "\n",
      " 50%|█████     | 5/10 [02:09<02:08, 25.73s/it]\u001b[A"
     ]
    },
    {
     "name": "stdout",
     "output_type": "stream",
     "text": [
      "Client 1: accuracy loss: 36.14 | fairness loss 1536.24 | Equal Opportunity Disparity = 0.09\n",
      "Client 2: accuracy loss: 12.10 | fairness loss 1401.61 | Equal Opportunity Disparity = 0.21\n",
      "Client 3: accuracy loss: 31.88 | fairness loss 1444.19 | Equal Opportunity Disparity = 0.08\n",
      " \n",
      "Avg Training Stats after 5 global rounds:\n",
      "Training loss: 31.91 | Validation accuracy: 90.67% | Validation Equal Opportunity Disparity: 0.0833\n",
      "\n",
      " | Global Training Round : 6 |\n",
      "\n"
     ]
    },
    {
     "name": "stderr",
     "output_type": "stream",
     "text": [
      "\n",
      " 60%|██████    | 6/10 [02:38<01:47, 26.83s/it]\u001b[A"
     ]
    },
    {
     "name": "stdout",
     "output_type": "stream",
     "text": [
      "Client 1: accuracy loss: 36.14 | fairness loss 1536.56 | Equal Opportunity Disparity = 0.09\n",
      "Client 2: accuracy loss: 12.10 | fairness loss 1401.85 | Equal Opportunity Disparity = 0.21\n",
      "Client 3: accuracy loss: 31.88 | fairness loss 1444.39 | Equal Opportunity Disparity = 0.08\n",
      " \n",
      "Avg Training Stats after 6 global rounds:\n",
      "Training loss: 31.78 | Validation accuracy: 90.67% | Validation Equal Opportunity Disparity: 0.0833\n",
      "\n",
      " | Global Training Round : 7 |\n",
      "\n"
     ]
    },
    {
     "name": "stderr",
     "output_type": "stream",
     "text": [
      "\n",
      " 70%|███████   | 7/10 [03:05<01:20, 26.91s/it]\u001b[A"
     ]
    },
    {
     "name": "stdout",
     "output_type": "stream",
     "text": [
      "Client 1: accuracy loss: 36.14 | fairness loss 1536.51 | Equal Opportunity Disparity = 0.09\n",
      "Client 2: accuracy loss: 12.10 | fairness loss 1401.76 | Equal Opportunity Disparity = 0.21\n",
      "Client 3: accuracy loss: 31.88 | fairness loss 1444.29 | Equal Opportunity Disparity = 0.08\n",
      " \n",
      "Avg Training Stats after 7 global rounds:\n",
      "Training loss: 31.69 | Validation accuracy: 90.67% | Validation Equal Opportunity Disparity: 0.0833\n",
      "\n",
      " | Global Training Round : 8 |\n",
      "\n"
     ]
    },
    {
     "name": "stderr",
     "output_type": "stream",
     "text": [
      "\n",
      " 80%|████████  | 8/10 [03:32<00:53, 26.93s/it]\u001b[A"
     ]
    },
    {
     "name": "stdout",
     "output_type": "stream",
     "text": [
      "Client 1: accuracy loss: 36.14 | fairness loss 1536.39 | Equal Opportunity Disparity = 0.09\n",
      "Client 2: accuracy loss: 12.10 | fairness loss 1401.62 | Equal Opportunity Disparity = 0.21\n",
      "Client 3: accuracy loss: 31.88 | fairness loss 1444.14 | Equal Opportunity Disparity = 0.08\n",
      " \n",
      "Avg Training Stats after 8 global rounds:\n",
      "Training loss: 31.61 | Validation accuracy: 90.67% | Validation Equal Opportunity Disparity: 0.0833\n",
      "\n",
      " | Global Training Round : 9 |\n",
      "\n"
     ]
    },
    {
     "name": "stderr",
     "output_type": "stream",
     "text": [
      "\n",
      " 90%|█████████ | 9/10 [04:00<00:27, 27.08s/it]\u001b[A"
     ]
    },
    {
     "name": "stdout",
     "output_type": "stream",
     "text": [
      "Client 1: accuracy loss: 36.14 | fairness loss 1536.24 | Equal Opportunity Disparity = 0.09\n",
      "Client 2: accuracy loss: 12.10 | fairness loss 1401.47 | Equal Opportunity Disparity = 0.21\n",
      "Client 3: accuracy loss: 31.88 | fairness loss 1443.98 | Equal Opportunity Disparity = 0.08\n",
      " \n",
      "Avg Training Stats after 9 global rounds:\n",
      "Training loss: 31.56 | Validation accuracy: 90.67% | Validation Equal Opportunity Disparity: 0.0833\n",
      "\n",
      " | Global Training Round : 10 |\n",
      "\n"
     ]
    },
    {
     "name": "stderr",
     "output_type": "stream",
     "text": [
      "\n",
      "100%|██████████| 10/10 [04:27<00:00, 26.73s/it]\u001b[A"
     ]
    },
    {
     "name": "stdout",
     "output_type": "stream",
     "text": [
      "Client 1: accuracy loss: 36.14 | fairness loss 1536.08 | Equal Opportunity Disparity = 0.09\n",
      "Client 2: accuracy loss: 12.10 | fairness loss 1401.31 | Equal Opportunity Disparity = 0.21\n",
      "Client 3: accuracy loss: 31.88 | fairness loss 1443.81 | Equal Opportunity Disparity = 0.08\n",
      " \n",
      "Avg Training Stats after 10 global rounds:\n",
      "Training loss: 31.52 | Validation accuracy: 90.67% | Validation Equal Opportunity Disparity: 0.0833\n"
     ]
    },
    {
     "name": "stderr",
     "output_type": "stream",
     "text": [
      "\n"
     ]
    },
    {
     "name": "stdout",
     "output_type": "stream",
     "text": [
      " \n",
      " Results after 10 global rounds of training:\n",
      "|---- Avg Train Accuracy: 90.67%\n",
      "|---- Test Accuracy: 89.91%\n",
      "|---- Test Equal Opportunity Disparity: 0.0380\n",
      "\n",
      " Total Run Time: 267.5158 sec\n"
     ]
    }
   ],
   "source": [
    "seed = 0\n",
    "server = Server(logReg(num_features=bank_num_features, num_classes=2, seed = seed), bank_info, train_prn = False, seed = seed, Z = bank_z)\n",
    "server.Unconstrained(num_rounds = 10, local_epochs = 30, optimizer = 'adam', learning_rate = 0.001)"
   ]
  },
  {
   "cell_type": "code",
   "execution_count": 16,
   "metadata": {
    "scrolled": true
   },
   "outputs": [
    {
     "name": "stderr",
     "output_type": "stream",
     "text": [
      " 10%|█         | 1/10 [00:14<02:07, 14.18s/it]"
     ]
    },
    {
     "name": "stdout",
     "output_type": "stream",
     "text": [
      " \n",
      "Avg Training Stats after 1 threshold adjusting global rounds:\n",
      "Training loss: 572.73 | Train accuracy: 90.08% | Train Equal Opportunity Disparity: 0.0337\n"
     ]
    },
    {
     "name": "stderr",
     "output_type": "stream",
     "text": [
      "\r",
      " 20%|██        | 2/10 [00:29<01:56, 14.62s/it]"
     ]
    },
    {
     "name": "stdout",
     "output_type": "stream",
     "text": [
      " \n",
      "Avg Training Stats after 2 threshold adjusting global rounds:\n",
      "Training loss: 574.01 | Train accuracy: 90.09% | Train Equal Opportunity Disparity: 0.0295\n"
     ]
    },
    {
     "name": "stderr",
     "output_type": "stream",
     "text": [
      "\r",
      " 30%|███       | 3/10 [00:50<01:54, 16.33s/it]"
     ]
    },
    {
     "name": "stdout",
     "output_type": "stream",
     "text": [
      " \n",
      "Avg Training Stats after 3 threshold adjusting global rounds:\n",
      "Training loss: 574.45 | Train accuracy: 90.08% | Train Equal Opportunity Disparity: 0.0243\n"
     ]
    },
    {
     "name": "stderr",
     "output_type": "stream",
     "text": [
      "\r",
      " 40%|████      | 4/10 [01:05<01:36, 16.17s/it]"
     ]
    },
    {
     "name": "stdout",
     "output_type": "stream",
     "text": [
      " \n",
      "Avg Training Stats after 4 threshold adjusting global rounds:\n",
      "Training loss: 575.58 | Train accuracy: 90.08% | Train Equal Opportunity Disparity: 0.0222\n"
     ]
    },
    {
     "name": "stderr",
     "output_type": "stream",
     "text": [
      "\r",
      " 50%|█████     | 5/10 [01:25<01:25, 17.19s/it]"
     ]
    },
    {
     "name": "stdout",
     "output_type": "stream",
     "text": [
      " \n",
      "Avg Training Stats after 5 threshold adjusting global rounds:\n",
      "Training loss: 576.99 | Train accuracy: 90.09% | Train Equal Opportunity Disparity: 0.0169\n"
     ]
    },
    {
     "name": "stderr",
     "output_type": "stream",
     "text": [
      "\r",
      " 60%|██████    | 6/10 [01:41<01:06, 16.74s/it]"
     ]
    },
    {
     "name": "stdout",
     "output_type": "stream",
     "text": [
      " \n",
      "Avg Training Stats after 6 threshold adjusting global rounds:\n",
      "Training loss: 578.59 | Train accuracy: 90.11% | Train Equal Opportunity Disparity: 0.0153\n"
     ]
    },
    {
     "name": "stderr",
     "output_type": "stream",
     "text": [
      "\r",
      " 70%|███████   | 7/10 [01:58<00:50, 16.99s/it]"
     ]
    },
    {
     "name": "stdout",
     "output_type": "stream",
     "text": [
      " \n",
      "Avg Training Stats after 7 threshold adjusting global rounds:\n",
      "Training loss: 580.47 | Train accuracy: 90.13% | Train Equal Opportunity Disparity: 0.0094\n"
     ]
    },
    {
     "name": "stderr",
     "output_type": "stream",
     "text": [
      "\r",
      " 80%|████████  | 8/10 [02:21<00:37, 18.62s/it]"
     ]
    },
    {
     "name": "stdout",
     "output_type": "stream",
     "text": [
      " \n",
      "Avg Training Stats after 8 threshold adjusting global rounds:\n",
      "Training loss: 581.65 | Train accuracy: 90.12% | Train Equal Opportunity Disparity: 0.0093\n"
     ]
    },
    {
     "name": "stderr",
     "output_type": "stream",
     "text": [
      "\r",
      " 90%|█████████ | 9/10 [02:39<00:18, 18.54s/it]"
     ]
    },
    {
     "name": "stdout",
     "output_type": "stream",
     "text": [
      " \n",
      "Avg Training Stats after 9 threshold adjusting global rounds:\n",
      "Training loss: 584.09 | Train accuracy: 90.15% | Train Equal Opportunity Disparity: 0.0077\n"
     ]
    },
    {
     "name": "stderr",
     "output_type": "stream",
     "text": [
      "100%|██████████| 10/10 [02:54<00:00, 17.40s/it]"
     ]
    },
    {
     "name": "stdout",
     "output_type": "stream",
     "text": [
      " \n",
      "Avg Training Stats after 10 threshold adjusting global rounds:\n",
      "Training loss: 586.05 | Train accuracy: 90.12% | Train Equal Opportunity Disparity: 0.0079\n"
     ]
    },
    {
     "name": "stderr",
     "output_type": "stream",
     "text": [
      "\n"
     ]
    },
    {
     "name": "stdout",
     "output_type": "stream",
     "text": [
      " \n",
      " Results after 10 global rounds of training:\n",
      "|---- Test Accuracy: 89.56%\n",
      "|---- Test Equal Opportunity Disparity: 0.0217\n",
      "\n",
      " Total Run Time: 174.6609 sec\n"
     ]
    }
   ],
   "source": [
    "server.ThresholdAdjust(num_rounds = 10, local_epochs = 30, epsilon = 0.0001, learning_rate = 0.0002)"
   ]
  },
  {
   "cell_type": "code",
   "execution_count": 40,
   "metadata": {
    "scrolled": true
   },
   "outputs": [
    {
     "name": "stderr",
     "output_type": "stream",
     "text": [
      "\n",
      "\n",
      "\n",
      "  0%|          | 0/10 [00:00<?, ?it/s]\u001b[A\u001b[A\u001b[A"
     ]
    },
    {
     "name": "stdout",
     "output_type": "stream",
     "text": [
      "\n",
      " | Global Training Round : 1 |\n",
      "\n",
      "Client 1: accuracy loss: 35.36 | fairness loss 747.59 | Equal Opportunity Disparity = 0.03\n",
      "Client 2: accuracy loss: 29.72 | fairness loss 675.44 | Equal Opportunity Disparity = 0.10\n"
     ]
    },
    {
     "name": "stderr",
     "output_type": "stream",
     "text": [
      "\n",
      "\n",
      "\n",
      " 10%|█         | 1/10 [00:33<05:05, 33.99s/it]\u001b[A\u001b[A\u001b[A"
     ]
    },
    {
     "name": "stdout",
     "output_type": "stream",
     "text": [
      "Client 3: accuracy loss: 34.45 | fairness loss 758.94 | Equal Opportunity Disparity = 0.04\n",
      " \n",
      "Avg Training Stats after 1 global rounds:\n",
      "Training loss: 0.26 | Training accuracy: 90.32% | Training Equal Opportunity Disparity: 0.0358\n",
      "\n",
      " | Global Training Round : 2 |\n",
      "\n",
      "Client 1: accuracy loss: 35.06 | fairness loss 728.11 | Equal Opportunity Disparity = 0.02\n",
      "Client 2: accuracy loss: 29.31 | fairness loss 660.62 | Equal Opportunity Disparity = 0.09\n"
     ]
    },
    {
     "name": "stderr",
     "output_type": "stream",
     "text": [
      "\n",
      "\n",
      "\n",
      " 20%|██        | 2/10 [01:09<04:36, 34.55s/it]\u001b[A\u001b[A\u001b[A"
     ]
    },
    {
     "name": "stdout",
     "output_type": "stream",
     "text": [
      "Client 3: accuracy loss: 34.13 | fairness loss 737.96 | Equal Opportunity Disparity = 0.03\n",
      " \n",
      "Avg Training Stats after 2 global rounds:\n",
      "Training loss: 0.25 | Training accuracy: 90.28% | Training Equal Opportunity Disparity: 0.0218\n",
      "\n",
      " | Global Training Round : 3 |\n",
      "\n",
      "Client 1: accuracy loss: 34.78 | fairness loss 726.10 | Equal Opportunity Disparity = 0.02\n",
      "Client 2: accuracy loss: 29.03 | fairness loss 660.81 | Equal Opportunity Disparity = 0.08\n"
     ]
    },
    {
     "name": "stderr",
     "output_type": "stream",
     "text": [
      "\n",
      "\n",
      "\n",
      " 30%|███       | 3/10 [01:43<03:59, 34.28s/it]\u001b[A\u001b[A\u001b[A"
     ]
    },
    {
     "name": "stdout",
     "output_type": "stream",
     "text": [
      "Client 3: accuracy loss: 33.86 | fairness loss 735.11 | Equal Opportunity Disparity = 0.04\n",
      " \n",
      "Avg Training Stats after 3 global rounds:\n",
      "Training loss: 0.25 | Training accuracy: 90.27% | Training Equal Opportunity Disparity: 0.0276\n",
      "\n",
      " | Global Training Round : 4 |\n",
      "\n",
      "Client 1: accuracy loss: 34.50 | fairness loss 727.71 | Equal Opportunity Disparity = 0.01\n",
      "Client 2: accuracy loss: 28.73 | fairness loss 662.59 | Equal Opportunity Disparity = 0.09\n"
     ]
    },
    {
     "name": "stderr",
     "output_type": "stream",
     "text": [
      "\n",
      "\n",
      "\n",
      " 40%|████      | 4/10 [02:18<03:26, 34.42s/it]\u001b[A\u001b[A\u001b[A"
     ]
    },
    {
     "name": "stdout",
     "output_type": "stream",
     "text": [
      "Client 3: accuracy loss: 33.55 | fairness loss 736.26 | Equal Opportunity Disparity = 0.03\n",
      " \n",
      "Avg Training Stats after 4 global rounds:\n",
      "Training loss: 0.25 | Training accuracy: 90.30% | Training Equal Opportunity Disparity: 0.0235\n",
      "\n",
      " | Global Training Round : 5 |\n",
      "\n",
      "Client 1: accuracy loss: 34.39 | fairness loss 728.18 | Equal Opportunity Disparity = 0.02\n",
      "Client 2: accuracy loss: 28.63 | fairness loss 663.49 | Equal Opportunity Disparity = 0.08\n"
     ]
    },
    {
     "name": "stderr",
     "output_type": "stream",
     "text": [
      "\n",
      "\n",
      "\n",
      " 50%|█████     | 5/10 [02:58<03:01, 36.26s/it]\u001b[A\u001b[A\u001b[A"
     ]
    },
    {
     "name": "stdout",
     "output_type": "stream",
     "text": [
      "Client 3: accuracy loss: 33.44 | fairness loss 736.49 | Equal Opportunity Disparity = 0.04\n",
      " \n",
      "Avg Training Stats after 5 global rounds:\n",
      "Training loss: 0.25 | Training accuracy: 90.28% | Training Equal Opportunity Disparity: 0.0291\n",
      "\n",
      " | Global Training Round : 6 |\n",
      "\n",
      "Client 1: accuracy loss: 34.34 | fairness loss 728.49 | Equal Opportunity Disparity = 0.02\n",
      "Client 2: accuracy loss: 28.58 | fairness loss 663.98 | Equal Opportunity Disparity = 0.08\n"
     ]
    },
    {
     "name": "stderr",
     "output_type": "stream",
     "text": [
      "\n",
      "\n",
      "\n",
      " 60%|██████    | 6/10 [03:33<02:23, 35.84s/it]\u001b[A\u001b[A\u001b[A"
     ]
    },
    {
     "name": "stdout",
     "output_type": "stream",
     "text": [
      "Client 3: accuracy loss: 33.39 | fairness loss 736.62 | Equal Opportunity Disparity = 0.04\n",
      " \n",
      "Avg Training Stats after 6 global rounds:\n",
      "Training loss: 0.25 | Training accuracy: 90.27% | Training Equal Opportunity Disparity: 0.0305\n",
      "\n",
      " | Global Training Round : 7 |\n",
      "\n",
      "Client 1: accuracy loss: 34.31 | fairness loss 728.60 | Equal Opportunity Disparity = 0.02\n",
      "Client 2: accuracy loss: 28.55 | fairness loss 664.37 | Equal Opportunity Disparity = 0.08\n"
     ]
    },
    {
     "name": "stderr",
     "output_type": "stream",
     "text": [
      "\n",
      "\n",
      "\n",
      " 70%|███████   | 7/10 [04:05<01:44, 34.68s/it]\u001b[A\u001b[A\u001b[A"
     ]
    },
    {
     "name": "stdout",
     "output_type": "stream",
     "text": [
      "Client 3: accuracy loss: 33.36 | fairness loss 736.59 | Equal Opportunity Disparity = 0.04\n",
      " \n",
      "Avg Training Stats after 7 global rounds:\n",
      "Training loss: 0.25 | Training accuracy: 90.25% | Training Equal Opportunity Disparity: 0.0312\n",
      "\n",
      " | Global Training Round : 8 |\n",
      "\n",
      "Client 1: accuracy loss: 34.29 | fairness loss 728.69 | Equal Opportunity Disparity = 0.02\n",
      "Client 2: accuracy loss: 28.53 | fairness loss 664.75 | Equal Opportunity Disparity = 0.09\n"
     ]
    },
    {
     "name": "stderr",
     "output_type": "stream",
     "text": [
      "\n",
      "\n",
      "\n",
      " 80%|████████  | 8/10 [04:56<01:18, 39.41s/it]\u001b[A\u001b[A\u001b[A"
     ]
    },
    {
     "name": "stdout",
     "output_type": "stream",
     "text": [
      "Client 3: accuracy loss: 33.33 | fairness loss 736.58 | Equal Opportunity Disparity = 0.04\n",
      " \n",
      "Avg Training Stats after 8 global rounds:\n",
      "Training loss: 0.25 | Training accuracy: 90.25% | Training Equal Opportunity Disparity: 0.0330\n",
      "\n",
      " | Global Training Round : 9 |\n",
      "\n",
      "Client 1: accuracy loss: 34.28 | fairness loss 728.79 | Equal Opportunity Disparity = 0.02\n",
      "Client 2: accuracy loss: 28.52 | fairness loss 665.18 | Equal Opportunity Disparity = 0.09\n"
     ]
    },
    {
     "name": "stderr",
     "output_type": "stream",
     "text": [
      "\n",
      "\n",
      "\n",
      " 90%|█████████ | 9/10 [05:35<00:39, 39.38s/it]\u001b[A\u001b[A\u001b[A"
     ]
    },
    {
     "name": "stdout",
     "output_type": "stream",
     "text": [
      "Client 3: accuracy loss: 33.32 | fairness loss 736.61 | Equal Opportunity Disparity = 0.04\n",
      " \n",
      "Avg Training Stats after 9 global rounds:\n",
      "Training loss: 0.25 | Training accuracy: 90.23% | Training Equal Opportunity Disparity: 0.0326\n",
      "\n",
      " | Global Training Round : 10 |\n",
      "\n",
      "Client 1: accuracy loss: 34.28 | fairness loss 728.91 | Equal Opportunity Disparity = 0.02\n",
      "Client 2: accuracy loss: 28.51 | fairness loss 665.65 | Equal Opportunity Disparity = 0.09\n"
     ]
    },
    {
     "name": "stderr",
     "output_type": "stream",
     "text": [
      "\n",
      "\n",
      "\n",
      "100%|██████████| 10/10 [06:11<00:00, 37.14s/it]\u001b[A\u001b[A\u001b[A"
     ]
    },
    {
     "name": "stdout",
     "output_type": "stream",
     "text": [
      "Client 3: accuracy loss: 33.31 | fairness loss 736.68 | Equal Opportunity Disparity = 0.04\n",
      " \n",
      "Avg Training Stats after 10 global rounds:\n",
      "Training loss: 0.25 | Training accuracy: 90.24% | Training Equal Opportunity Disparity: 0.0329\n"
     ]
    },
    {
     "name": "stderr",
     "output_type": "stream",
     "text": [
      "\n"
     ]
    },
    {
     "name": "stdout",
     "output_type": "stream",
     "text": [
      " \n",
      " Results after 10 global rounds of training:\n",
      "|---- Avg Train Accuracy: 90.24%\n",
      "|---- Test Accuracy: 89.78%\n",
      "|---- Test Equal Opportunity Disparity: 0.0459\n",
      "\n",
      " Total Run Time: 371.6812 sec\n"
     ]
    }
   ],
   "source": [
    "seed = 9\n",
    "server = Server(logReg(num_features=bank_num_features, num_classes=2, seed = seed), bank_info, train_prn = False, seed = seed, Z = bank_z)\n",
    "server.FBVariant(num_rounds = 10, local_epochs = 30, optimizer = 'adam', learning_rate = 0.05, alpha = 0.02)"
   ]
  },
  {
   "cell_type": "code",
   "execution_count": 42,
   "metadata": {
    "scrolled": true
   },
   "outputs": [
    {
     "name": "stderr",
     "output_type": "stream",
     "text": [
      "\n",
      "\n",
      "\n",
      "  0%|          | 0/2 [00:00<?, ?it/s]\u001b[A\u001b[A\u001b[A"
     ]
    },
    {
     "name": "stdout",
     "output_type": "stream",
     "text": [
      "\n",
      " | Global Training Round : 1 |\n",
      "\n",
      "Client 1: accuracy loss: 35.36 | fairness loss 747.59 | Equal Opportunity Disparity = 0.03\n",
      "Client 2: accuracy loss: 29.72 | fairness loss 675.44 | Equal Opportunity Disparity = 0.10\n"
     ]
    },
    {
     "name": "stderr",
     "output_type": "stream",
     "text": [
      "\n",
      "\n",
      "\n",
      " 50%|█████     | 1/2 [00:38<00:38, 38.57s/it]\u001b[A\u001b[A\u001b[A"
     ]
    },
    {
     "name": "stdout",
     "output_type": "stream",
     "text": [
      "Client 3: accuracy loss: 34.45 | fairness loss 758.94 | Equal Opportunity Disparity = 0.04\n",
      " \n",
      "Avg Training Stats after 1 global rounds:\n",
      "Training loss: 0.26 | Training accuracy: 90.32% | Training Equal Opportunity Disparity: 0.0358\n",
      "\n",
      " | Global Training Round : 2 |\n",
      "\n",
      "Client 1: accuracy loss: 35.02 | fairness loss 735.91 | Equal Opportunity Disparity = 0.01\n",
      "Client 2: accuracy loss: 29.28 | fairness loss 666.42 | Equal Opportunity Disparity = 0.09\n"
     ]
    },
    {
     "name": "stderr",
     "output_type": "stream",
     "text": [
      "\n",
      "\n",
      "\n",
      "100%|██████████| 2/2 [01:12<00:00, 36.04s/it]\u001b[A\u001b[A\u001b[A"
     ]
    },
    {
     "name": "stdout",
     "output_type": "stream",
     "text": [
      "Client 3: accuracy loss: 34.08 | fairness loss 746.13 | Equal Opportunity Disparity = 0.04\n",
      " \n",
      "Avg Training Stats after 2 global rounds:\n",
      "Training loss: 0.25 | Training accuracy: 90.28% | Training Equal Opportunity Disparity: 0.0189\n"
     ]
    },
    {
     "name": "stderr",
     "output_type": "stream",
     "text": [
      "\n"
     ]
    },
    {
     "name": "stdout",
     "output_type": "stream",
     "text": [
      " \n",
      " Results after 2 global rounds of training:\n",
      "|---- Avg Train Accuracy: 90.28%\n",
      "|---- Test Accuracy: 89.78%\n",
      "|---- Test Equal Opportunity Disparity: 0.0337\n",
      "\n",
      " Total Run Time: 72.3853 sec\n"
     ]
    }
   ],
   "source": [
    "seed = 9\n",
    "server = Server(logReg(num_features=bank_num_features, num_classes=2, seed = seed), bank_info, train_prn = False, seed = seed, Z = bank_z)\n",
    "server.FBVariant(num_rounds = 2, local_epochs = 30, optimizer = 'adam', learning_rate = 0.05, alpha = 0.005)"
   ]
  },
  {
   "cell_type": "code",
   "execution_count": 18,
   "metadata": {},
   "outputs": [
    {
     "name": "stderr",
     "output_type": "stream",
     "text": [
      "\r",
      "  0%|          | 0/20 [00:00<?, ?it/s]"
     ]
    },
    {
     "name": "stdout",
     "output_type": "stream",
     "text": [
      "\n",
      " | Global Training Round : 1 |\n",
      "\n",
      "Client 1: accuracy loss: 34.55 | fairness loss 710.10 | Equal Opportunity Disparity = 0.04\n",
      "Client 2: accuracy loss: 28.93 | fairness loss 646.48 | Equal Opportunity Disparity = 0.07\n"
     ]
    },
    {
     "name": "stderr",
     "output_type": "stream",
     "text": [
      "\r",
      "  5%|▌         | 1/20 [00:33<10:33, 33.37s/it]"
     ]
    },
    {
     "name": "stdout",
     "output_type": "stream",
     "text": [
      "Client 3: accuracy loss: 33.58 | fairness loss 717.63 | Equal Opportunity Disparity = 0.05\n",
      " \n",
      "Avg Training Stats after 1 global rounds:\n",
      "Training loss: 0.27 | Training accuracy: 90.08% | Training Equal Opportunity Disparity: 0.0475\n",
      "\n",
      " | Global Training Round : 2 |\n",
      "\n",
      "Client 1: accuracy loss: 34.25 | fairness loss 762.71 | Equal Opportunity Disparity = 0.03\n",
      "Client 2: accuracy loss: 28.55 | fairness loss 696.27 | Equal Opportunity Disparity = 0.10\n"
     ]
    },
    {
     "name": "stderr",
     "output_type": "stream",
     "text": [
      "\r",
      " 10%|█         | 2/20 [01:08<10:08, 33.79s/it]"
     ]
    },
    {
     "name": "stdout",
     "output_type": "stream",
     "text": [
      "Client 3: accuracy loss: 33.23 | fairness loss 771.74 | Equal Opportunity Disparity = 0.05\n",
      " \n",
      "Avg Training Stats after 2 global rounds:\n",
      "Training loss: 0.26 | Training accuracy: 90.14% | Training Equal Opportunity Disparity: 0.0423\n",
      "\n",
      " | Global Training Round : 3 |\n",
      "\n",
      "Client 1: accuracy loss: 34.25 | fairness loss 755.48 | Equal Opportunity Disparity = 0.03\n",
      "Client 2: accuracy loss: 28.54 | fairness loss 689.30 | Equal Opportunity Disparity = 0.10\n"
     ]
    },
    {
     "name": "stderr",
     "output_type": "stream",
     "text": [
      "\r",
      " 15%|█▌        | 3/20 [01:45<09:50, 34.76s/it]"
     ]
    },
    {
     "name": "stdout",
     "output_type": "stream",
     "text": [
      "Client 3: accuracy loss: 33.23 | fairness loss 764.14 | Equal Opportunity Disparity = 0.05\n",
      " \n",
      "Avg Training Stats after 3 global rounds:\n",
      "Training loss: 0.26 | Training accuracy: 90.13% | Training Equal Opportunity Disparity: 0.0404\n",
      "\n",
      " | Global Training Round : 4 |\n",
      "\n",
      "Client 1: accuracy loss: 34.28 | fairness loss 744.16 | Equal Opportunity Disparity = 0.03\n",
      "Client 2: accuracy loss: 28.58 | fairness loss 678.84 | Equal Opportunity Disparity = 0.10\n"
     ]
    },
    {
     "name": "stderr",
     "output_type": "stream",
     "text": [
      "\r",
      " 20%|██        | 4/20 [02:17<09:02, 33.93s/it]"
     ]
    },
    {
     "name": "stdout",
     "output_type": "stream",
     "text": [
      "Client 3: accuracy loss: 33.26 | fairness loss 752.38 | Equal Opportunity Disparity = 0.05\n",
      " \n",
      "Avg Training Stats after 4 global rounds:\n",
      "Training loss: 0.25 | Training accuracy: 90.12% | Training Equal Opportunity Disparity: 0.0401\n",
      "\n",
      " | Global Training Round : 5 |\n",
      "\n",
      "Client 1: accuracy loss: 34.31 | fairness loss 733.89 | Equal Opportunity Disparity = 0.03\n",
      "Client 2: accuracy loss: 28.62 | fairness loss 669.43 | Equal Opportunity Disparity = 0.10\n"
     ]
    },
    {
     "name": "stderr",
     "output_type": "stream",
     "text": [
      "\r",
      " 25%|██▌       | 5/20 [02:50<08:27, 33.83s/it]"
     ]
    },
    {
     "name": "stdout",
     "output_type": "stream",
     "text": [
      "Client 3: accuracy loss: 33.31 | fairness loss 741.71 | Equal Opportunity Disparity = 0.05\n",
      " \n",
      "Avg Training Stats after 5 global rounds:\n",
      "Training loss: 0.25 | Training accuracy: 90.13% | Training Equal Opportunity Disparity: 0.0394\n",
      "\n",
      " | Global Training Round : 6 |\n",
      "\n",
      "Client 1: accuracy loss: 34.35 | fairness loss 724.85 | Equal Opportunity Disparity = 0.03\n",
      "Client 2: accuracy loss: 28.66 | fairness loss 661.20 | Equal Opportunity Disparity = 0.09\n"
     ]
    },
    {
     "name": "stderr",
     "output_type": "stream",
     "text": [
      "\r",
      " 30%|███       | 6/20 [03:33<08:29, 36.38s/it]"
     ]
    },
    {
     "name": "stdout",
     "output_type": "stream",
     "text": [
      "Client 3: accuracy loss: 33.35 | fairness loss 732.32 | Equal Opportunity Disparity = 0.05\n",
      " \n",
      "Avg Training Stats after 6 global rounds:\n",
      "Training loss: 0.25 | Training accuracy: 90.12% | Training Equal Opportunity Disparity: 0.0396\n",
      "\n",
      " | Global Training Round : 7 |\n",
      "\n",
      "Client 1: accuracy loss: 34.38 | fairness loss 716.79 | Equal Opportunity Disparity = 0.03\n",
      "Client 2: accuracy loss: 28.70 | fairness loss 653.90 | Equal Opportunity Disparity = 0.09\n"
     ]
    },
    {
     "name": "stderr",
     "output_type": "stream",
     "text": [
      "\r",
      " 35%|███▌      | 7/20 [04:07<07:44, 35.71s/it]"
     ]
    },
    {
     "name": "stdout",
     "output_type": "stream",
     "text": [
      "Client 3: accuracy loss: 33.39 | fairness loss 723.96 | Equal Opportunity Disparity = 0.05\n",
      " \n",
      "Avg Training Stats after 7 global rounds:\n",
      "Training loss: 0.25 | Training accuracy: 90.11% | Training Equal Opportunity Disparity: 0.0374\n",
      "\n",
      " | Global Training Round : 8 |\n",
      "\n",
      "Client 1: accuracy loss: 34.42 | fairness loss 709.51 | Equal Opportunity Disparity = 0.03\n",
      "Client 2: accuracy loss: 28.73 | fairness loss 647.31 | Equal Opportunity Disparity = 0.09\n"
     ]
    },
    {
     "name": "stderr",
     "output_type": "stream",
     "text": [
      "\r",
      " 40%|████      | 8/20 [04:40<07:00, 35.05s/it]"
     ]
    },
    {
     "name": "stdout",
     "output_type": "stream",
     "text": [
      "Client 3: accuracy loss: 33.43 | fairness loss 716.40 | Equal Opportunity Disparity = 0.05\n",
      " \n",
      "Avg Training Stats after 8 global rounds:\n",
      "Training loss: 0.25 | Training accuracy: 90.10% | Training Equal Opportunity Disparity: 0.0360\n",
      "\n",
      " | Global Training Round : 9 |\n",
      "\n",
      "Client 1: accuracy loss: 34.45 | fairness loss 702.84 | Equal Opportunity Disparity = 0.03\n",
      "Client 2: accuracy loss: 28.77 | fairness loss 641.28 | Equal Opportunity Disparity = 0.09\n"
     ]
    },
    {
     "name": "stderr",
     "output_type": "stream",
     "text": [
      "\r",
      " 45%|████▌     | 9/20 [05:11<06:10, 33.72s/it]"
     ]
    },
    {
     "name": "stdout",
     "output_type": "stream",
     "text": [
      "Client 3: accuracy loss: 33.47 | fairness loss 709.47 | Equal Opportunity Disparity = 0.05\n",
      " \n",
      "Avg Training Stats after 9 global rounds:\n",
      "Training loss: 0.25 | Training accuracy: 90.10% | Training Equal Opportunity Disparity: 0.0368\n",
      "\n",
      " | Global Training Round : 10 |\n",
      "\n",
      "Client 1: accuracy loss: 34.48 | fairness loss 696.65 | Equal Opportunity Disparity = 0.03\n",
      "Client 2: accuracy loss: 28.80 | fairness loss 635.71 | Equal Opportunity Disparity = 0.11\n"
     ]
    },
    {
     "name": "stderr",
     "output_type": "stream",
     "text": [
      "\r",
      " 50%|█████     | 10/20 [05:41<05:26, 32.65s/it]"
     ]
    },
    {
     "name": "stdout",
     "output_type": "stream",
     "text": [
      "Client 3: accuracy loss: 33.50 | fairness loss 703.06 | Equal Opportunity Disparity = 0.05\n",
      " \n",
      "Avg Training Stats after 10 global rounds:\n",
      "Training loss: 0.25 | Training accuracy: 90.11% | Training Equal Opportunity Disparity: 0.0366\n",
      "\n",
      " | Global Training Round : 11 |\n",
      "\n",
      "Client 1: accuracy loss: 34.51 | fairness loss 690.88 | Equal Opportunity Disparity = 0.03\n",
      "Client 2: accuracy loss: 28.83 | fairness loss 630.51 | Equal Opportunity Disparity = 0.11\n"
     ]
    },
    {
     "name": "stderr",
     "output_type": "stream",
     "text": [
      "\r",
      " 55%|█████▌    | 11/20 [06:12<04:49, 32.21s/it]"
     ]
    },
    {
     "name": "stdout",
     "output_type": "stream",
     "text": [
      "Client 3: accuracy loss: 33.54 | fairness loss 697.07 | Equal Opportunity Disparity = 0.05\n",
      " \n",
      "Avg Training Stats after 11 global rounds:\n",
      "Training loss: 0.25 | Training accuracy: 90.09% | Training Equal Opportunity Disparity: 0.0352\n",
      "\n",
      " | Global Training Round : 12 |\n",
      "\n",
      "Client 1: accuracy loss: 34.53 | fairness loss 685.45 | Equal Opportunity Disparity = 0.03\n",
      "Client 2: accuracy loss: 28.86 | fairness loss 625.62 | Equal Opportunity Disparity = 0.11\n"
     ]
    },
    {
     "name": "stderr",
     "output_type": "stream",
     "text": [
      "\r",
      " 60%|██████    | 12/20 [06:48<04:25, 33.21s/it]"
     ]
    },
    {
     "name": "stdout",
     "output_type": "stream",
     "text": [
      "Client 3: accuracy loss: 33.57 | fairness loss 691.44 | Equal Opportunity Disparity = 0.04\n",
      " \n",
      "Avg Training Stats after 12 global rounds:\n",
      "Training loss: 0.25 | Training accuracy: 90.09% | Training Equal Opportunity Disparity: 0.0341\n",
      "\n",
      " | Global Training Round : 13 |\n",
      "\n",
      "Client 1: accuracy loss: 34.56 | fairness loss 680.32 | Equal Opportunity Disparity = 0.03\n",
      "Client 2: accuracy loss: 28.89 | fairness loss 621.00 | Equal Opportunity Disparity = 0.11\n"
     ]
    },
    {
     "name": "stderr",
     "output_type": "stream",
     "text": [
      "\r",
      " 65%|██████▌   | 13/20 [07:21<03:52, 33.28s/it]"
     ]
    },
    {
     "name": "stdout",
     "output_type": "stream",
     "text": [
      "Client 3: accuracy loss: 33.60 | fairness loss 686.12 | Equal Opportunity Disparity = 0.05\n",
      " \n",
      "Avg Training Stats after 13 global rounds:\n",
      "Training loss: 0.25 | Training accuracy: 90.08% | Training Equal Opportunity Disparity: 0.0346\n",
      "\n",
      " | Global Training Round : 14 |\n",
      "\n",
      "Client 1: accuracy loss: 34.58 | fairness loss 675.45 | Equal Opportunity Disparity = 0.02\n",
      "Client 2: accuracy loss: 28.92 | fairness loss 616.61 | Equal Opportunity Disparity = 0.11\n"
     ]
    },
    {
     "name": "stderr",
     "output_type": "stream",
     "text": [
      "\r",
      " 70%|███████   | 14/20 [08:01<03:31, 35.31s/it]"
     ]
    },
    {
     "name": "stdout",
     "output_type": "stream",
     "text": [
      "Client 3: accuracy loss: 33.63 | fairness loss 681.07 | Equal Opportunity Disparity = 0.04\n",
      " \n",
      "Avg Training Stats after 14 global rounds:\n",
      "Training loss: 0.25 | Training accuracy: 90.09% | Training Equal Opportunity Disparity: 0.0332\n",
      "\n",
      " | Global Training Round : 15 |\n",
      "\n",
      "Client 1: accuracy loss: 34.61 | fairness loss 670.81 | Equal Opportunity Disparity = 0.02\n",
      "Client 2: accuracy loss: 28.95 | fairness loss 612.43 | Equal Opportunity Disparity = 0.11\n"
     ]
    },
    {
     "name": "stderr",
     "output_type": "stream",
     "text": [
      "\r",
      " 75%|███████▌  | 15/20 [08:38<02:58, 35.79s/it]"
     ]
    },
    {
     "name": "stdout",
     "output_type": "stream",
     "text": [
      "Client 3: accuracy loss: 33.66 | fairness loss 676.25 | Equal Opportunity Disparity = 0.04\n",
      " \n",
      "Avg Training Stats after 15 global rounds:\n",
      "Training loss: 0.25 | Training accuracy: 90.09% | Training Equal Opportunity Disparity: 0.0327\n",
      "\n",
      " | Global Training Round : 16 |\n",
      "\n",
      "Client 1: accuracy loss: 34.63 | fairness loss 666.37 | Equal Opportunity Disparity = 0.02\n",
      "Client 2: accuracy loss: 28.97 | fairness loss 608.43 | Equal Opportunity Disparity = 0.11\n"
     ]
    },
    {
     "name": "stderr",
     "output_type": "stream",
     "text": [
      "\r",
      " 80%|████████  | 16/20 [09:15<02:24, 36.05s/it]"
     ]
    },
    {
     "name": "stdout",
     "output_type": "stream",
     "text": [
      "Client 3: accuracy loss: 33.69 | fairness loss 671.65 | Equal Opportunity Disparity = 0.04\n",
      " \n",
      "Avg Training Stats after 16 global rounds:\n",
      "Training loss: 0.25 | Training accuracy: 90.09% | Training Equal Opportunity Disparity: 0.0329\n",
      "\n",
      " | Global Training Round : 17 |\n",
      "\n",
      "Client 1: accuracy loss: 34.66 | fairness loss 662.11 | Equal Opportunity Disparity = 0.03\n",
      "Client 2: accuracy loss: 29.00 | fairness loss 604.59 | Equal Opportunity Disparity = 0.10\n"
     ]
    },
    {
     "name": "stderr",
     "output_type": "stream",
     "text": [
      "\r",
      " 85%|████████▌ | 17/20 [09:47<01:45, 35.03s/it]"
     ]
    },
    {
     "name": "stdout",
     "output_type": "stream",
     "text": [
      "Client 3: accuracy loss: 33.71 | fairness loss 667.23 | Equal Opportunity Disparity = 0.04\n",
      " \n",
      "Avg Training Stats after 17 global rounds:\n",
      "Training loss: 0.25 | Training accuracy: 90.08% | Training Equal Opportunity Disparity: 0.0332\n",
      "\n",
      " | Global Training Round : 18 |\n",
      "\n",
      "Client 1: accuracy loss: 34.68 | fairness loss 658.02 | Equal Opportunity Disparity = 0.02\n",
      "Client 2: accuracy loss: 29.02 | fairness loss 600.91 | Equal Opportunity Disparity = 0.09\n"
     ]
    },
    {
     "name": "stderr",
     "output_type": "stream",
     "text": [
      "\r",
      " 90%|█████████ | 18/20 [10:25<01:11, 35.74s/it]"
     ]
    },
    {
     "name": "stdout",
     "output_type": "stream",
     "text": [
      "Client 3: accuracy loss: 33.74 | fairness loss 662.99 | Equal Opportunity Disparity = 0.04\n",
      " \n",
      "Avg Training Stats after 18 global rounds:\n",
      "Training loss: 0.25 | Training accuracy: 90.06% | Training Equal Opportunity Disparity: 0.0329\n",
      "\n",
      " | Global Training Round : 19 |\n",
      "\n",
      "Client 1: accuracy loss: 34.70 | fairness loss 654.08 | Equal Opportunity Disparity = 0.02\n",
      "Client 2: accuracy loss: 29.05 | fairness loss 597.36 | Equal Opportunity Disparity = 0.10\n"
     ]
    },
    {
     "name": "stderr",
     "output_type": "stream",
     "text": [
      "\r",
      " 95%|█████████▌| 19/20 [10:59<00:35, 35.36s/it]"
     ]
    },
    {
     "name": "stdout",
     "output_type": "stream",
     "text": [
      "Client 3: accuracy loss: 33.77 | fairness loss 658.91 | Equal Opportunity Disparity = 0.04\n",
      " \n",
      "Avg Training Stats after 19 global rounds:\n",
      "Training loss: 0.25 | Training accuracy: 90.06% | Training Equal Opportunity Disparity: 0.0331\n",
      "\n",
      " | Global Training Round : 20 |\n",
      "\n",
      "Client 1: accuracy loss: 34.72 | fairness loss 650.28 | Equal Opportunity Disparity = 0.02\n",
      "Client 2: accuracy loss: 29.07 | fairness loss 593.93 | Equal Opportunity Disparity = 0.10\n"
     ]
    },
    {
     "name": "stderr",
     "output_type": "stream",
     "text": [
      "100%|██████████| 20/20 [11:33<00:00, 34.67s/it]"
     ]
    },
    {
     "name": "stdout",
     "output_type": "stream",
     "text": [
      "Client 3: accuracy loss: 33.79 | fairness loss 654.98 | Equal Opportunity Disparity = 0.04\n",
      " \n",
      "Avg Training Stats after 20 global rounds:\n",
      "Training loss: 0.25 | Training accuracy: 90.05% | Training Equal Opportunity Disparity: 0.0325\n"
     ]
    },
    {
     "name": "stderr",
     "output_type": "stream",
     "text": [
      "\n"
     ]
    },
    {
     "name": "stdout",
     "output_type": "stream",
     "text": [
      " \n",
      " Results after 20 global rounds of training:\n",
      "|---- Avg Train Accuracy: 90.05%\n",
      "|---- Test Accuracy: 89.69%\n",
      "|---- Test Equal Opportunity Disparity: 0.0377\n",
      "\n",
      " Total Run Time: 693.8050 sec\n"
     ]
    }
   ],
   "source": [
    "server = Server(logReg(num_features=bank_num_features, num_classes=2, seed = seed), bank_info, train_prn = False, seed = seed, Z = bank_z)\n",
    "server.FBVariant(num_rounds = 20, local_epochs = 30, optimizer = 'adam', learning_rate = 0.005, alpha = 0.01)"
   ]
  },
  {
   "cell_type": "code",
   "execution_count": 29,
   "metadata": {
    "scrolled": true
   },
   "outputs": [
    {
     "name": "stderr",
     "output_type": "stream",
     "text": [
      "\n",
      "  0%|          | 0/10 [00:00<?, ?it/s]\u001b[A"
     ]
    },
    {
     "name": "stdout",
     "output_type": "stream",
     "text": [
      "\n",
      " | Global Training Round : 1 |\n",
      "\n",
      "Client 1: accuracy loss: 35.65 | fairness loss 752.82 | Equal Opportunity Disparity = 0.02\n",
      "Client 2: accuracy loss: 29.29 | fairness loss 696.40 | Equal Opportunity Disparity = 0.07\n"
     ]
    },
    {
     "name": "stderr",
     "output_type": "stream",
     "text": [
      "\n",
      " 10%|█         | 1/10 [00:32<04:49, 32.20s/it]\u001b[A"
     ]
    },
    {
     "name": "stdout",
     "output_type": "stream",
     "text": [
      "Client 3: accuracy loss: 34.93 | fairness loss 761.89 | Equal Opportunity Disparity = 0.03\n",
      " \n",
      "Avg Training Stats after 1 global rounds:\n",
      "Training loss: 0.33 | Training accuracy: 90.10% | Training Equal Opportunity Disparity: 0.0242\n",
      "\n",
      " | Global Training Round : 2 |\n",
      "\n",
      "Client 1: accuracy loss: 37.89 | fairness loss 721.05 | Equal Opportunity Disparity = 0.04\n",
      "Client 2: accuracy loss: 31.34 | fairness loss 681.54 | Equal Opportunity Disparity = 0.07\n"
     ]
    },
    {
     "name": "stderr",
     "output_type": "stream",
     "text": [
      "\n",
      " 20%|██        | 2/10 [01:03<04:14, 31.87s/it]\u001b[A"
     ]
    },
    {
     "name": "stdout",
     "output_type": "stream",
     "text": [
      "Client 3: accuracy loss: 37.23 | fairness loss 734.98 | Equal Opportunity Disparity = 0.05\n",
      " \n",
      "Avg Training Stats after 2 global rounds:\n",
      "Training loss: 0.32 | Training accuracy: 90.15% | Training Equal Opportunity Disparity: 0.0356\n",
      "\n",
      " | Global Training Round : 3 |\n",
      "\n",
      "Client 1: accuracy loss: 39.21 | fairness loss 674.19 | Equal Opportunity Disparity = 0.04\n",
      "Client 2: accuracy loss: 32.47 | fairness loss 648.25 | Equal Opportunity Disparity = 0.07\n"
     ]
    },
    {
     "name": "stderr",
     "output_type": "stream",
     "text": [
      "\n",
      " 30%|███       | 3/10 [01:34<03:41, 31.64s/it]\u001b[A"
     ]
    },
    {
     "name": "stdout",
     "output_type": "stream",
     "text": [
      "Client 3: accuracy loss: 38.50 | fairness loss 688.93 | Equal Opportunity Disparity = 0.04\n",
      " \n",
      "Avg Training Stats after 3 global rounds:\n",
      "Training loss: 0.31 | Training accuracy: 90.20% | Training Equal Opportunity Disparity: 0.0311\n",
      "\n",
      " | Global Training Round : 4 |\n",
      "\n",
      "Client 1: accuracy loss: 39.70 | fairness loss 658.26 | Equal Opportunity Disparity = 0.05\n",
      "Client 2: accuracy loss: 32.93 | fairness loss 633.00 | Equal Opportunity Disparity = 0.09\n"
     ]
    },
    {
     "name": "stderr",
     "output_type": "stream",
     "text": [
      "\n",
      " 40%|████      | 4/10 [02:05<03:09, 31.51s/it]\u001b[A"
     ]
    },
    {
     "name": "stdout",
     "output_type": "stream",
     "text": [
      "Client 3: accuracy loss: 39.01 | fairness loss 671.56 | Equal Opportunity Disparity = 0.04\n",
      " \n",
      "Avg Training Stats after 4 global rounds:\n",
      "Training loss: 0.30 | Training accuracy: 90.18% | Training Equal Opportunity Disparity: 0.0408\n",
      "\n",
      " | Global Training Round : 5 |\n",
      "\n",
      "Client 1: accuracy loss: 40.43 | fairness loss 656.75 | Equal Opportunity Disparity = 0.05\n",
      "Client 2: accuracy loss: 33.49 | fairness loss 634.01 | Equal Opportunity Disparity = 0.08\n"
     ]
    },
    {
     "name": "stderr",
     "output_type": "stream",
     "text": [
      "\n",
      " 50%|█████     | 5/10 [02:39<02:40, 32.13s/it]\u001b[A"
     ]
    },
    {
     "name": "stdout",
     "output_type": "stream",
     "text": [
      "Client 3: accuracy loss: 39.75 | fairness loss 670.07 | Equal Opportunity Disparity = 0.05\n",
      " \n",
      "Avg Training Stats after 5 global rounds:\n",
      "Training loss: 0.30 | Training accuracy: 90.15% | Training Equal Opportunity Disparity: 0.0435\n",
      "\n",
      " | Global Training Round : 6 |\n",
      "\n",
      "Client 1: accuracy loss: 39.85 | fairness loss 647.58 | Equal Opportunity Disparity = 0.04\n",
      "Client 2: accuracy loss: 33.00 | fairness loss 626.99 | Equal Opportunity Disparity = 0.08\n"
     ]
    },
    {
     "name": "stderr",
     "output_type": "stream",
     "text": [
      "\n",
      " 60%|██████    | 6/10 [03:12<02:10, 32.52s/it]\u001b[A"
     ]
    },
    {
     "name": "stdout",
     "output_type": "stream",
     "text": [
      "Client 3: accuracy loss: 39.17 | fairness loss 661.08 | Equal Opportunity Disparity = 0.05\n",
      " \n",
      "Avg Training Stats after 6 global rounds:\n",
      "Training loss: 0.29 | Training accuracy: 90.14% | Training Equal Opportunity Disparity: 0.0399\n",
      "\n",
      " | Global Training Round : 7 |\n",
      "\n",
      "Client 1: accuracy loss: 39.03 | fairness loss 639.16 | Equal Opportunity Disparity = 0.04\n",
      "Client 2: accuracy loss: 32.36 | fairness loss 619.62 | Equal Opportunity Disparity = 0.09\n"
     ]
    },
    {
     "name": "stderr",
     "output_type": "stream",
     "text": [
      "\n",
      " 70%|███████   | 7/10 [03:44<01:36, 32.27s/it]\u001b[A"
     ]
    },
    {
     "name": "stdout",
     "output_type": "stream",
     "text": [
      "Client 3: accuracy loss: 38.34 | fairness loss 652.84 | Equal Opportunity Disparity = 0.04\n",
      " \n",
      "Avg Training Stats after 7 global rounds:\n",
      "Training loss: 0.29 | Training accuracy: 90.17% | Training Equal Opportunity Disparity: 0.0372\n",
      "\n",
      " | Global Training Round : 8 |\n",
      "\n",
      "Client 1: accuracy loss: 38.62 | fairness loss 633.65 | Equal Opportunity Disparity = 0.04\n",
      "Client 2: accuracy loss: 32.05 | fairness loss 614.61 | Equal Opportunity Disparity = 0.09\n"
     ]
    },
    {
     "name": "stderr",
     "output_type": "stream",
     "text": [
      "\n",
      " 80%|████████  | 8/10 [04:17<01:04, 32.48s/it]\u001b[A"
     ]
    },
    {
     "name": "stdout",
     "output_type": "stream",
     "text": [
      "Client 3: accuracy loss: 37.92 | fairness loss 647.59 | Equal Opportunity Disparity = 0.06\n",
      " \n",
      "Avg Training Stats after 8 global rounds:\n",
      "Training loss: 0.29 | Training accuracy: 90.21% | Training Equal Opportunity Disparity: 0.0375\n",
      "\n",
      " | Global Training Round : 9 |\n",
      "\n",
      "Client 1: accuracy loss: 38.61 | fairness loss 630.24 | Equal Opportunity Disparity = 0.04\n",
      "Client 2: accuracy loss: 32.06 | fairness loss 611.46 | Equal Opportunity Disparity = 0.10\n"
     ]
    },
    {
     "name": "stderr",
     "output_type": "stream",
     "text": [
      "\n",
      " 90%|█████████ | 9/10 [04:48<00:32, 32.23s/it]\u001b[A"
     ]
    },
    {
     "name": "stdout",
     "output_type": "stream",
     "text": [
      "Client 3: accuracy loss: 37.90 | fairness loss 644.59 | Equal Opportunity Disparity = 0.05\n",
      " \n",
      "Avg Training Stats after 9 global rounds:\n",
      "Training loss: 0.29 | Training accuracy: 90.19% | Training Equal Opportunity Disparity: 0.0393\n",
      "\n",
      " | Global Training Round : 10 |\n",
      "\n",
      "Client 1: accuracy loss: 38.79 | fairness loss 627.56 | Equal Opportunity Disparity = 0.04\n",
      "Client 2: accuracy loss: 32.22 | fairness loss 608.93 | Equal Opportunity Disparity = 0.10\n"
     ]
    },
    {
     "name": "stderr",
     "output_type": "stream",
     "text": [
      "\n",
      "100%|██████████| 10/10 [05:20<00:00, 32.05s/it]\u001b[A"
     ]
    },
    {
     "name": "stdout",
     "output_type": "stream",
     "text": [
      "Client 3: accuracy loss: 38.08 | fairness loss 642.46 | Equal Opportunity Disparity = 0.05\n",
      " \n",
      "Avg Training Stats after 10 global rounds:\n",
      "Training loss: 0.29 | Training accuracy: 90.19% | Training Equal Opportunity Disparity: 0.0408\n"
     ]
    },
    {
     "name": "stderr",
     "output_type": "stream",
     "text": [
      "\n"
     ]
    },
    {
     "name": "stdout",
     "output_type": "stream",
     "text": [
      " \n",
      " Results after 10 global rounds of training:\n",
      "|---- Avg Train Accuracy: 90.19%\n",
      "|---- Test Accuracy: 89.55%\n",
      "|---- Test Equal Opportunity Disparity: 0.0188\n",
      "\n",
      " Total Run Time: 320.8082 sec\n"
     ]
    }
   ],
   "source": [
    "server = Server(logReg(num_features=bank_num_features, num_classes=2, seed = seed), bank_info, train_prn = False, seed = seed, Z = bank_z)\n",
    "server.FBVariant(num_rounds = 10, local_epochs = 30, optimizer = 'adam', learning_rate = 0.5, alpha = 0.001)"
   ]
  },
  {
   "cell_type": "code",
   "execution_count": 34,
   "metadata": {
    "scrolled": true
   },
   "outputs": [
    {
     "name": "stderr",
     "output_type": "stream",
     "text": [
      "\n",
      "\n",
      "  0%|          | 0/10 [00:00<?, ?it/s]\u001b[A\u001b[A"
     ]
    },
    {
     "name": "stdout",
     "output_type": "stream",
     "text": [
      "\n",
      " | Global Training Round : 1 |\n",
      "\n",
      "Client 1: accuracy loss: 35.65 | fairness loss 752.82 | Equal Opportunity Disparity = 0.02\n",
      "Client 2: accuracy loss: 29.29 | fairness loss 696.40 | Equal Opportunity Disparity = 0.07\n"
     ]
    },
    {
     "name": "stderr",
     "output_type": "stream",
     "text": [
      "\n",
      "\n",
      " 10%|█         | 1/10 [00:30<04:35, 30.57s/it]\u001b[A\u001b[A"
     ]
    },
    {
     "name": "stdout",
     "output_type": "stream",
     "text": [
      "Client 3: accuracy loss: 34.93 | fairness loss 761.89 | Equal Opportunity Disparity = 0.03\n",
      " \n",
      "Avg Training Stats after 1 global rounds:\n",
      "Training loss: 0.33 | Training accuracy: 90.10% | Training Equal Opportunity Disparity: 0.0242\n",
      "\n",
      " | Global Training Round : 2 |\n",
      "\n",
      "Client 1: accuracy loss: 37.84 | fairness loss 718.00 | Equal Opportunity Disparity = 0.04\n",
      "Client 2: accuracy loss: 31.29 | fairness loss 679.21 | Equal Opportunity Disparity = 0.07\n"
     ]
    },
    {
     "name": "stderr",
     "output_type": "stream",
     "text": [
      "\n",
      "\n",
      " 20%|██        | 2/10 [01:00<04:03, 30.42s/it]\u001b[A\u001b[A"
     ]
    },
    {
     "name": "stdout",
     "output_type": "stream",
     "text": [
      "Client 3: accuracy loss: 37.17 | fairness loss 732.05 | Equal Opportunity Disparity = 0.05\n",
      " \n",
      "Avg Training Stats after 2 global rounds:\n",
      "Training loss: 0.32 | Training accuracy: 90.14% | Training Equal Opportunity Disparity: 0.0365\n",
      "\n",
      " | Global Training Round : 3 |\n",
      "\n",
      "Client 1: accuracy loss: 39.23 | fairness loss 668.15 | Equal Opportunity Disparity = 0.04\n",
      "Client 2: accuracy loss: 32.47 | fairness loss 643.41 | Equal Opportunity Disparity = 0.07\n"
     ]
    },
    {
     "name": "stderr",
     "output_type": "stream",
     "text": [
      "\n",
      "\n",
      " 30%|███       | 3/10 [01:32<03:35, 30.79s/it]\u001b[A\u001b[A"
     ]
    },
    {
     "name": "stdout",
     "output_type": "stream",
     "text": [
      "Client 3: accuracy loss: 38.52 | fairness loss 683.11 | Equal Opportunity Disparity = 0.04\n",
      " \n",
      "Avg Training Stats after 3 global rounds:\n",
      "Training loss: 0.31 | Training accuracy: 90.20% | Training Equal Opportunity Disparity: 0.0313\n",
      "\n",
      " | Global Training Round : 4 |\n",
      "\n",
      "Client 1: accuracy loss: 39.71 | fairness loss 651.69 | Equal Opportunity Disparity = 0.04\n",
      "Client 2: accuracy loss: 32.92 | fairness loss 627.89 | Equal Opportunity Disparity = 0.09\n"
     ]
    },
    {
     "name": "stderr",
     "output_type": "stream",
     "text": [
      "\n",
      "\n",
      " 40%|████      | 4/10 [02:05<03:09, 31.60s/it]\u001b[A\u001b[A"
     ]
    },
    {
     "name": "stdout",
     "output_type": "stream",
     "text": [
      "Client 3: accuracy loss: 39.02 | fairness loss 665.29 | Equal Opportunity Disparity = 0.04\n",
      " \n",
      "Avg Training Stats after 4 global rounds:\n",
      "Training loss: 0.30 | Training accuracy: 90.17% | Training Equal Opportunity Disparity: 0.0389\n",
      "\n",
      " | Global Training Round : 5 |\n",
      "\n",
      "Client 1: accuracy loss: 40.47 | fairness loss 649.54 | Equal Opportunity Disparity = 0.05\n",
      "Client 2: accuracy loss: 33.49 | fairness loss 628.42 | Equal Opportunity Disparity = 0.08\n"
     ]
    },
    {
     "name": "stderr",
     "output_type": "stream",
     "text": [
      "\n",
      "\n",
      " 50%|█████     | 5/10 [02:36<02:36, 31.32s/it]\u001b[A\u001b[A"
     ]
    },
    {
     "name": "stdout",
     "output_type": "stream",
     "text": [
      "Client 3: accuracy loss: 39.79 | fairness loss 663.20 | Equal Opportunity Disparity = 0.04\n",
      " \n",
      "Avg Training Stats after 5 global rounds:\n",
      "Training loss: 0.30 | Training accuracy: 90.14% | Training Equal Opportunity Disparity: 0.0413\n",
      "\n",
      " | Global Training Round : 6 |\n",
      "\n",
      "Client 1: accuracy loss: 39.99 | fairness loss 640.66 | Equal Opportunity Disparity = 0.04\n",
      "Client 2: accuracy loss: 33.07 | fairness loss 622.01 | Equal Opportunity Disparity = 0.09\n"
     ]
    },
    {
     "name": "stderr",
     "output_type": "stream",
     "text": [
      "\n",
      "\n",
      " 60%|██████    | 6/10 [03:06<02:04, 31.03s/it]\u001b[A\u001b[A"
     ]
    },
    {
     "name": "stdout",
     "output_type": "stream",
     "text": [
      "Client 3: accuracy loss: 39.30 | fairness loss 654.58 | Equal Opportunity Disparity = 0.04\n",
      " \n",
      "Avg Training Stats after 6 global rounds:\n",
      "Training loss: 0.29 | Training accuracy: 90.15% | Training Equal Opportunity Disparity: 0.0378\n",
      "\n",
      " | Global Training Round : 7 |\n",
      "\n",
      "Client 1: accuracy loss: 39.26 | fairness loss 632.69 | Equal Opportunity Disparity = 0.04\n",
      "Client 2: accuracy loss: 32.49 | fairness loss 615.35 | Equal Opportunity Disparity = 0.09\n"
     ]
    },
    {
     "name": "stderr",
     "output_type": "stream",
     "text": [
      "\n",
      "\n",
      " 70%|███████   | 7/10 [03:37<01:32, 30.95s/it]\u001b[A\u001b[A"
     ]
    },
    {
     "name": "stdout",
     "output_type": "stream",
     "text": [
      "Client 3: accuracy loss: 38.56 | fairness loss 646.83 | Equal Opportunity Disparity = 0.04\n",
      " \n",
      "Avg Training Stats after 7 global rounds:\n",
      "Training loss: 0.29 | Training accuracy: 90.17% | Training Equal Opportunity Disparity: 0.0331\n",
      "\n",
      " | Global Training Round : 8 |\n",
      "\n",
      "Client 1: accuracy loss: 38.89 | fairness loss 627.50 | Equal Opportunity Disparity = 0.04\n",
      "Client 2: accuracy loss: 32.21 | fairness loss 610.76 | Equal Opportunity Disparity = 0.09\n"
     ]
    },
    {
     "name": "stderr",
     "output_type": "stream",
     "text": [
      "\n",
      "\n",
      " 80%|████████  | 8/10 [04:09<01:02, 31.36s/it]\u001b[A\u001b[A"
     ]
    },
    {
     "name": "stdout",
     "output_type": "stream",
     "text": [
      "Client 3: accuracy loss: 38.19 | fairness loss 641.92 | Equal Opportunity Disparity = 0.05\n",
      " \n",
      "Avg Training Stats after 8 global rounds:\n",
      "Training loss: 0.29 | Training accuracy: 90.20% | Training Equal Opportunity Disparity: 0.0338\n",
      "\n",
      " | Global Training Round : 9 |\n",
      "\n",
      "Client 1: accuracy loss: 38.90 | fairness loss 624.07 | Equal Opportunity Disparity = 0.04\n",
      "Client 2: accuracy loss: 32.24 | fairness loss 607.63 | Equal Opportunity Disparity = 0.09\n"
     ]
    },
    {
     "name": "stderr",
     "output_type": "stream",
     "text": [
      "\n",
      "\n",
      " 90%|█████████ | 9/10 [04:39<00:30, 30.89s/it]\u001b[A\u001b[A"
     ]
    },
    {
     "name": "stdout",
     "output_type": "stream",
     "text": [
      "Client 3: accuracy loss: 38.19 | fairness loss 638.93 | Equal Opportunity Disparity = 0.05\n",
      " \n",
      "Avg Training Stats after 9 global rounds:\n",
      "Training loss: 0.29 | Training accuracy: 90.18% | Training Equal Opportunity Disparity: 0.0369\n",
      "\n",
      " | Global Training Round : 10 |\n",
      "\n",
      "Client 1: accuracy loss: 39.09 | fairness loss 621.05 | Equal Opportunity Disparity = 0.04\n",
      "Client 2: accuracy loss: 32.40 | fairness loss 604.82 | Equal Opportunity Disparity = 0.09\n"
     ]
    },
    {
     "name": "stderr",
     "output_type": "stream",
     "text": [
      "\n",
      "\n",
      "100%|██████████| 10/10 [05:12<00:00, 31.29s/it]\u001b[A\u001b[A"
     ]
    },
    {
     "name": "stdout",
     "output_type": "stream",
     "text": [
      "Client 3: accuracy loss: 38.38 | fairness loss 636.49 | Equal Opportunity Disparity = 0.05\n",
      " \n",
      "Avg Training Stats after 10 global rounds:\n",
      "Training loss: 0.29 | Training accuracy: 90.18% | Training Equal Opportunity Disparity: 0.0393\n"
     ]
    },
    {
     "name": "stderr",
     "output_type": "stream",
     "text": [
      "\n"
     ]
    },
    {
     "name": "stdout",
     "output_type": "stream",
     "text": [
      " \n",
      " Results after 10 global rounds of training:\n",
      "|---- Avg Train Accuracy: 90.18%\n",
      "|---- Test Accuracy: 89.52%\n",
      "|---- Test Equal Opportunity Disparity: 0.0143\n",
      "\n",
      " Total Run Time: 313.2067 sec\n"
     ]
    }
   ],
   "source": [
    "server = Server(logReg(num_features=bank_num_features, num_classes=2, seed = seed), bank_info, train_prn = False, seed = seed, Z = bank_z)\n",
    "server.FBVariant(num_rounds = 10, local_epochs = 30, optimizer = 'adam', learning_rate = 0.5, alpha = 0.005)"
   ]
  },
  {
   "cell_type": "code",
   "execution_count": 31,
   "metadata": {},
   "outputs": [
    {
     "name": "stderr",
     "output_type": "stream",
     "text": [
      "\n",
      "  0%|          | 0/10 [00:00<?, ?it/s]\u001b[A"
     ]
    },
    {
     "name": "stdout",
     "output_type": "stream",
     "text": [
      "\n",
      " | Global Training Round : 1 |\n",
      "\n",
      "Client 1: accuracy loss: 35.65 | fairness loss 752.82 | Equal Opportunity Disparity = 0.02\n",
      "Client 2: accuracy loss: 29.29 | fairness loss 696.40 | Equal Opportunity Disparity = 0.07\n"
     ]
    },
    {
     "name": "stderr",
     "output_type": "stream",
     "text": [
      "\n",
      " 10%|█         | 1/10 [00:29<04:28, 29.81s/it]\u001b[A"
     ]
    },
    {
     "name": "stdout",
     "output_type": "stream",
     "text": [
      "Client 3: accuracy loss: 34.93 | fairness loss 761.89 | Equal Opportunity Disparity = 0.03\n",
      " \n",
      "Avg Training Stats after 1 global rounds:\n",
      "Training loss: 0.33 | Training accuracy: 90.10% | Training Equal Opportunity Disparity: 0.0242\n",
      "\n",
      " | Global Training Round : 2 |\n",
      "\n",
      "Client 1: accuracy loss: 37.78 | fairness loss 714.25 | Equal Opportunity Disparity = 0.04\n",
      "Client 2: accuracy loss: 31.23 | fairness loss 676.40 | Equal Opportunity Disparity = 0.07\n"
     ]
    },
    {
     "name": "stderr",
     "output_type": "stream",
     "text": [
      "\n",
      " 20%|██        | 2/10 [01:00<03:59, 29.94s/it]\u001b[A"
     ]
    },
    {
     "name": "stdout",
     "output_type": "stream",
     "text": [
      "Client 3: accuracy loss: 37.11 | fairness loss 728.47 | Equal Opportunity Disparity = 0.05\n",
      " \n",
      "Avg Training Stats after 2 global rounds:\n",
      "Training loss: 0.32 | Training accuracy: 90.14% | Training Equal Opportunity Disparity: 0.0381\n",
      "\n",
      " | Global Training Round : 3 |\n",
      "\n",
      "Client 1: accuracy loss: 39.27 | fairness loss 660.62 | Equal Opportunity Disparity = 0.04\n",
      "Client 2: accuracy loss: 32.46 | fairness loss 637.49 | Equal Opportunity Disparity = 0.07\n"
     ]
    },
    {
     "name": "stderr",
     "output_type": "stream",
     "text": [
      "\n",
      " 30%|███       | 3/10 [01:33<03:36, 30.89s/it]\u001b[A"
     ]
    },
    {
     "name": "stdout",
     "output_type": "stream",
     "text": [
      "Client 3: accuracy loss: 38.55 | fairness loss 675.89 | Equal Opportunity Disparity = 0.04\n",
      " \n",
      "Avg Training Stats after 3 global rounds:\n",
      "Training loss: 0.31 | Training accuracy: 90.21% | Training Equal Opportunity Disparity: 0.0321\n",
      "\n",
      " | Global Training Round : 4 |\n",
      "\n",
      "Client 1: accuracy loss: 39.73 | fairness loss 643.89 | Equal Opportunity Disparity = 0.04\n",
      "Client 2: accuracy loss: 32.90 | fairness loss 621.97 | Equal Opportunity Disparity = 0.09\n"
     ]
    },
    {
     "name": "stderr",
     "output_type": "stream",
     "text": [
      "\n",
      " 40%|████      | 4/10 [02:03<03:04, 30.73s/it]\u001b[A"
     ]
    },
    {
     "name": "stdout",
     "output_type": "stream",
     "text": [
      "Client 3: accuracy loss: 39.04 | fairness loss 657.89 | Equal Opportunity Disparity = 0.04\n",
      " \n",
      "Avg Training Stats after 4 global rounds:\n",
      "Training loss: 0.30 | Training accuracy: 90.20% | Training Equal Opportunity Disparity: 0.0364\n",
      "\n",
      " | Global Training Round : 5 |\n",
      "\n",
      "Client 1: accuracy loss: 40.51 | fairness loss 641.38 | Equal Opportunity Disparity = 0.05\n",
      "Client 2: accuracy loss: 33.48 | fairness loss 622.18 | Equal Opportunity Disparity = 0.08\n"
     ]
    },
    {
     "name": "stderr",
     "output_type": "stream",
     "text": [
      "\n",
      " 50%|█████     | 5/10 [02:39<02:40, 32.16s/it]\u001b[A"
     ]
    },
    {
     "name": "stdout",
     "output_type": "stream",
     "text": [
      "Client 3: accuracy loss: 39.82 | fairness loss 655.45 | Equal Opportunity Disparity = 0.04\n",
      " \n",
      "Avg Training Stats after 5 global rounds:\n",
      "Training loss: 0.30 | Training accuracy: 90.16% | Training Equal Opportunity Disparity: 0.0391\n",
      "\n",
      " | Global Training Round : 6 |\n",
      "\n",
      "Client 1: accuracy loss: 40.12 | fairness loss 633.30 | Equal Opportunity Disparity = 0.04\n",
      "Client 2: accuracy loss: 33.13 | fairness loss 616.76 | Equal Opportunity Disparity = 0.09\n"
     ]
    },
    {
     "name": "stderr",
     "output_type": "stream",
     "text": [
      "\n",
      " 60%|██████    | 6/10 [03:10<02:08, 32.06s/it]\u001b[A"
     ]
    },
    {
     "name": "stdout",
     "output_type": "stream",
     "text": [
      "Client 3: accuracy loss: 39.43 | fairness loss 647.67 | Equal Opportunity Disparity = 0.04\n",
      " \n",
      "Avg Training Stats after 6 global rounds:\n",
      "Training loss: 0.29 | Training accuracy: 90.15% | Training Equal Opportunity Disparity: 0.0343\n",
      "\n",
      " | Global Training Round : 7 |\n",
      "\n",
      "Client 1: accuracy loss: 39.47 | fairness loss 626.14 | Equal Opportunity Disparity = 0.03\n",
      "Client 2: accuracy loss: 32.61 | fairness loss 611.02 | Equal Opportunity Disparity = 0.09\n"
     ]
    },
    {
     "name": "stderr",
     "output_type": "stream",
     "text": [
      "\n",
      " 70%|███████   | 7/10 [03:41<01:34, 31.60s/it]\u001b[A"
     ]
    },
    {
     "name": "stdout",
     "output_type": "stream",
     "text": [
      "Client 3: accuracy loss: 38.77 | fairness loss 640.75 | Equal Opportunity Disparity = 0.04\n",
      " \n",
      "Avg Training Stats after 7 global rounds:\n",
      "Training loss: 0.29 | Training accuracy: 90.17% | Training Equal Opportunity Disparity: 0.0303\n",
      "\n",
      " | Global Training Round : 8 |\n",
      "\n",
      "Client 1: accuracy loss: 39.16 | fairness loss 621.39 | Equal Opportunity Disparity = 0.04\n",
      "Client 2: accuracy loss: 32.38 | fairness loss 606.86 | Equal Opportunity Disparity = 0.10\n"
     ]
    },
    {
     "name": "stderr",
     "output_type": "stream",
     "text": [
      "\n",
      " 80%|████████  | 8/10 [04:11<01:02, 31.05s/it]\u001b[A"
     ]
    },
    {
     "name": "stdout",
     "output_type": "stream",
     "text": [
      "Client 3: accuracy loss: 38.45 | fairness loss 636.29 | Equal Opportunity Disparity = 0.04\n",
      " \n",
      "Avg Training Stats after 8 global rounds:\n",
      "Training loss: 0.29 | Training accuracy: 90.18% | Training Equal Opportunity Disparity: 0.0315\n",
      "\n",
      " | Global Training Round : 9 |\n",
      "\n",
      "Client 1: accuracy loss: 39.20 | fairness loss 617.95 | Equal Opportunity Disparity = 0.04\n",
      "Client 2: accuracy loss: 32.44 | fairness loss 603.69 | Equal Opportunity Disparity = 0.10\n"
     ]
    },
    {
     "name": "stderr",
     "output_type": "stream",
     "text": [
      "\n",
      " 90%|█████████ | 9/10 [04:41<00:30, 30.72s/it]\u001b[A"
     ]
    },
    {
     "name": "stdout",
     "output_type": "stream",
     "text": [
      "Client 3: accuracy loss: 38.49 | fairness loss 633.31 | Equal Opportunity Disparity = 0.05\n",
      " \n",
      "Avg Training Stats after 9 global rounds:\n",
      "Training loss: 0.29 | Training accuracy: 90.20% | Training Equal Opportunity Disparity: 0.0337\n",
      "\n",
      " | Global Training Round : 10 |\n",
      "\n",
      "Client 1: accuracy loss: 39.40 | fairness loss 614.54 | Equal Opportunity Disparity = 0.04\n",
      "Client 2: accuracy loss: 32.61 | fairness loss 600.49 | Equal Opportunity Disparity = 0.10\n"
     ]
    },
    {
     "name": "stderr",
     "output_type": "stream",
     "text": [
      "\n",
      "100%|██████████| 10/10 [05:10<00:00, 31.10s/it]\u001b[A"
     ]
    },
    {
     "name": "stdout",
     "output_type": "stream",
     "text": [
      "Client 3: accuracy loss: 38.69 | fairness loss 630.53 | Equal Opportunity Disparity = 0.05\n",
      " \n",
      "Avg Training Stats after 10 global rounds:\n",
      "Training loss: 0.29 | Training accuracy: 90.19% | Training Equal Opportunity Disparity: 0.0381\n"
     ]
    },
    {
     "name": "stderr",
     "output_type": "stream",
     "text": [
      "\n"
     ]
    },
    {
     "name": "stdout",
     "output_type": "stream",
     "text": [
      " \n",
      " Results after 10 global rounds of training:\n",
      "|---- Avg Train Accuracy: 90.19%\n",
      "|---- Test Accuracy: 89.56%\n",
      "|---- Test Equal Opportunity Disparity: 0.0180\n",
      "\n",
      " Total Run Time: 311.2189 sec\n"
     ]
    }
   ],
   "source": [
    "server = Server(logReg(num_features=bank_num_features, num_classes=2, seed = seed), bank_info, train_prn = False, seed = seed, Z = bank_z)\n",
    "server.FBVariant(num_rounds = 10, local_epochs = 30, optimizer = 'adam', learning_rate = 0.5, alpha = 0.01)"
   ]
  },
  {
   "cell_type": "code",
   "execution_count": 35,
   "metadata": {
    "scrolled": true
   },
   "outputs": [
    {
     "name": "stderr",
     "output_type": "stream",
     "text": [
      "\n",
      "\n",
      "  0%|          | 0/10 [00:00<?, ?it/s]\u001b[A\u001b[A"
     ]
    },
    {
     "name": "stdout",
     "output_type": "stream",
     "text": [
      "\n",
      " | Global Training Round : 1 |\n",
      "\n",
      "Client 1: accuracy loss: 35.65 | fairness loss 752.82 | Equal Opportunity Disparity = 0.02\n",
      "Client 2: accuracy loss: 29.29 | fairness loss 696.40 | Equal Opportunity Disparity = 0.07\n"
     ]
    },
    {
     "name": "stderr",
     "output_type": "stream",
     "text": [
      "\n",
      "\n",
      " 10%|█         | 1/10 [00:30<04:35, 30.65s/it]\u001b[A\u001b[A"
     ]
    },
    {
     "name": "stdout",
     "output_type": "stream",
     "text": [
      "Client 3: accuracy loss: 34.93 | fairness loss 761.89 | Equal Opportunity Disparity = 0.03\n",
      " \n",
      "Avg Training Stats after 1 global rounds:\n",
      "Training loss: 0.33 | Training accuracy: 90.10% | Training Equal Opportunity Disparity: 0.0242\n",
      "\n",
      " | Global Training Round : 2 |\n",
      "\n",
      "Client 1: accuracy loss: 37.67 | fairness loss 706.99 | Equal Opportunity Disparity = 0.04\n",
      "Client 2: accuracy loss: 31.13 | fairness loss 671.04 | Equal Opportunity Disparity = 0.07\n"
     ]
    },
    {
     "name": "stderr",
     "output_type": "stream",
     "text": [
      "\n",
      "\n",
      " 20%|██        | 2/10 [01:02<04:06, 30.87s/it]\u001b[A\u001b[A"
     ]
    },
    {
     "name": "stdout",
     "output_type": "stream",
     "text": [
      "Client 3: accuracy loss: 37.00 | fairness loss 721.55 | Equal Opportunity Disparity = 0.05\n",
      " \n",
      "Avg Training Stats after 2 global rounds:\n",
      "Training loss: 0.32 | Training accuracy: 90.13% | Training Equal Opportunity Disparity: 0.0391\n",
      "\n",
      " | Global Training Round : 3 |\n",
      "\n",
      "Client 1: accuracy loss: 39.35 | fairness loss 646.12 | Equal Opportunity Disparity = 0.03\n",
      "Client 2: accuracy loss: 32.46 | fairness loss 626.59 | Equal Opportunity Disparity = 0.07\n"
     ]
    },
    {
     "name": "stderr",
     "output_type": "stream",
     "text": [
      "\n",
      "\n",
      " 30%|███       | 3/10 [01:36<03:43, 31.95s/it]\u001b[A\u001b[A"
     ]
    },
    {
     "name": "stdout",
     "output_type": "stream",
     "text": [
      "Client 3: accuracy loss: 38.63 | fairness loss 662.20 | Equal Opportunity Disparity = 0.03\n",
      " \n",
      "Avg Training Stats after 3 global rounds:\n",
      "Training loss: 0.31 | Training accuracy: 90.21% | Training Equal Opportunity Disparity: 0.0289\n",
      "\n",
      " | Global Training Round : 4 |\n",
      "\n",
      "Client 1: accuracy loss: 39.79 | fairness loss 630.26 | Equal Opportunity Disparity = 0.04\n",
      "Client 2: accuracy loss: 32.88 | fairness loss 611.85 | Equal Opportunity Disparity = 0.09\n"
     ]
    },
    {
     "name": "stderr",
     "output_type": "stream",
     "text": [
      "\n",
      "\n",
      " 40%|████      | 4/10 [02:09<03:13, 32.23s/it]\u001b[A\u001b[A"
     ]
    },
    {
     "name": "stdout",
     "output_type": "stream",
     "text": [
      "Client 3: accuracy loss: 39.09 | fairness loss 644.97 | Equal Opportunity Disparity = 0.04\n",
      " \n",
      "Avg Training Stats after 4 global rounds:\n",
      "Training loss: 0.30 | Training accuracy: 90.20% | Training Equal Opportunity Disparity: 0.0338\n",
      "\n",
      " | Global Training Round : 5 |\n",
      "\n",
      "Client 1: accuracy loss: 40.55 | fairness loss 627.90 | Equal Opportunity Disparity = 0.05\n",
      "Client 2: accuracy loss: 33.46 | fairness loss 611.99 | Equal Opportunity Disparity = 0.09\n"
     ]
    },
    {
     "name": "stderr",
     "output_type": "stream",
     "text": [
      "\n",
      "\n",
      " 50%|█████     | 5/10 [02:43<02:44, 32.85s/it]\u001b[A\u001b[A"
     ]
    },
    {
     "name": "stdout",
     "output_type": "stream",
     "text": [
      "Client 3: accuracy loss: 39.87 | fairness loss 642.62 | Equal Opportunity Disparity = 0.04\n",
      " \n",
      "Avg Training Stats after 5 global rounds:\n",
      "Training loss: 0.30 | Training accuracy: 90.15% | Training Equal Opportunity Disparity: 0.0378\n",
      "\n",
      " | Global Training Round : 6 |\n",
      "\n",
      "Client 1: accuracy loss: 40.27 | fairness loss 621.65 | Equal Opportunity Disparity = 0.04\n",
      "Client 2: accuracy loss: 33.19 | fairness loss 608.48 | Equal Opportunity Disparity = 0.09\n"
     ]
    },
    {
     "name": "stderr",
     "output_type": "stream",
     "text": [
      "\n",
      "\n",
      " 60%|██████    | 6/10 [03:16<02:11, 32.89s/it]\u001b[A\u001b[A"
     ]
    },
    {
     "name": "stdout",
     "output_type": "stream",
     "text": [
      "Client 3: accuracy loss: 39.58 | fairness loss 636.73 | Equal Opportunity Disparity = 0.04\n",
      " \n",
      "Avg Training Stats after 6 global rounds:\n",
      "Training loss: 0.29 | Training accuracy: 90.15% | Training Equal Opportunity Disparity: 0.0313\n",
      "\n",
      " | Global Training Round : 7 |\n",
      "\n",
      "Client 1: accuracy loss: 39.77 | fairness loss 615.90 | Equal Opportunity Disparity = 0.04\n",
      "Client 2: accuracy loss: 32.80 | fairness loss 604.11 | Equal Opportunity Disparity = 0.08\n"
     ]
    },
    {
     "name": "stderr",
     "output_type": "stream",
     "text": [
      "\n",
      "\n",
      " 70%|███████   | 7/10 [03:50<01:39, 33.14s/it]\u001b[A\u001b[A"
     ]
    },
    {
     "name": "stdout",
     "output_type": "stream",
     "text": [
      "Client 3: accuracy loss: 39.07 | fairness loss 631.23 | Equal Opportunity Disparity = 0.04\n",
      " \n",
      "Avg Training Stats after 7 global rounds:\n",
      "Training loss: 0.29 | Training accuracy: 90.18% | Training Equal Opportunity Disparity: 0.0311\n",
      "\n",
      " | Global Training Round : 8 |\n",
      "\n",
      "Client 1: accuracy loss: 39.59 | fairness loss 611.75 | Equal Opportunity Disparity = 0.04\n",
      "Client 2: accuracy loss: 32.68 | fairness loss 600.43 | Equal Opportunity Disparity = 0.09\n"
     ]
    },
    {
     "name": "stderr",
     "output_type": "stream",
     "text": [
      "\n",
      "\n",
      " 80%|████████  | 8/10 [04:25<01:07, 33.60s/it]\u001b[A\u001b[A"
     ]
    },
    {
     "name": "stdout",
     "output_type": "stream",
     "text": [
      "Client 3: accuracy loss: 38.90 | fairness loss 627.40 | Equal Opportunity Disparity = 0.04\n",
      " \n",
      "Avg Training Stats after 8 global rounds:\n",
      "Training loss: 0.29 | Training accuracy: 90.19% | Training Equal Opportunity Disparity: 0.0342\n",
      "\n",
      " | Global Training Round : 9 |\n",
      "\n",
      "Client 1: accuracy loss: 39.73 | fairness loss 608.02 | Equal Opportunity Disparity = 0.04\n",
      "Client 2: accuracy loss: 32.82 | fairness loss 597.00 | Equal Opportunity Disparity = 0.09\n"
     ]
    },
    {
     "name": "stderr",
     "output_type": "stream",
     "text": [
      "\n",
      "\n",
      " 90%|█████████ | 9/10 [04:57<00:33, 33.20s/it]\u001b[A\u001b[A"
     ]
    },
    {
     "name": "stdout",
     "output_type": "stream",
     "text": [
      "Client 3: accuracy loss: 39.04 | fairness loss 624.27 | Equal Opportunity Disparity = 0.04\n",
      " \n",
      "Avg Training Stats after 9 global rounds:\n",
      "Training loss: 0.29 | Training accuracy: 90.17% | Training Equal Opportunity Disparity: 0.0346\n",
      "\n",
      " | Global Training Round : 10 |\n",
      "\n",
      "Client 1: accuracy loss: 39.93 | fairness loss 603.62 | Equal Opportunity Disparity = 0.04\n",
      "Client 2: accuracy loss: 32.98 | fairness loss 592.89 | Equal Opportunity Disparity = 0.08\n"
     ]
    },
    {
     "name": "stderr",
     "output_type": "stream",
     "text": [
      "\n",
      "\n",
      "100%|██████████| 10/10 [05:28<00:00, 32.85s/it]\u001b[A\u001b[A"
     ]
    },
    {
     "name": "stdout",
     "output_type": "stream",
     "text": [
      "Client 3: accuracy loss: 39.23 | fairness loss 620.65 | Equal Opportunity Disparity = 0.04\n",
      " \n",
      "Avg Training Stats after 10 global rounds:\n",
      "Training loss: 0.29 | Training accuracy: 90.20% | Training Equal Opportunity Disparity: 0.0391\n"
     ]
    },
    {
     "name": "stderr",
     "output_type": "stream",
     "text": [
      "\n"
     ]
    },
    {
     "name": "stdout",
     "output_type": "stream",
     "text": [
      " \n",
      " Results after 10 global rounds of training:\n",
      "|---- Avg Train Accuracy: 90.20%\n",
      "|---- Test Accuracy: 89.49%\n",
      "|---- Test Equal Opportunity Disparity: 0.0201\n",
      "\n",
      " Total Run Time: 328.7596 sec\n"
     ]
    }
   ],
   "source": [
    "server = Server(logReg(num_features=bank_num_features, num_classes=2, seed = seed), bank_info, train_prn = False, seed = seed, Z = bank_z)\n",
    "server.FBVariant(num_rounds = 10, local_epochs = 30, optimizer = 'adam', learning_rate = 0.5, alpha = 0.02)"
   ]
  },
  {
   "cell_type": "code",
   "execution_count": 37,
   "metadata": {
    "scrolled": true
   },
   "outputs": [
    {
     "name": "stderr",
     "output_type": "stream",
     "text": [
      "\n",
      "\n",
      "\n",
      "  0%|          | 0/10 [00:00<?, ?it/s]\u001b[A\u001b[A\u001b[A"
     ]
    },
    {
     "name": "stdout",
     "output_type": "stream",
     "text": [
      "\n",
      " | Global Training Round : 1 |\n",
      "\n"
     ]
    },
    {
     "name": "stderr",
     "output_type": "stream",
     "text": [
      "  0%|          | 0/10 [00:03<?, ?it/s]\n"
     ]
    },
    {
     "ename": "KeyboardInterrupt",
     "evalue": "",
     "output_type": "error",
     "traceback": [
      "\u001b[0;31m---------------------------------------------------------------------------\u001b[0m",
      "\u001b[0;31mKeyboardInterrupt\u001b[0m                         Traceback (most recent call last)",
      "\u001b[0;32m<ipython-input-37-57cef2e072ba>\u001b[0m in \u001b[0;36m<module>\u001b[0;34m\u001b[0m\n\u001b[1;32m      1\u001b[0m \u001b[0mserver\u001b[0m \u001b[0;34m=\u001b[0m \u001b[0mServer\u001b[0m\u001b[0;34m(\u001b[0m\u001b[0mlogReg\u001b[0m\u001b[0;34m(\u001b[0m\u001b[0mnum_features\u001b[0m\u001b[0;34m=\u001b[0m\u001b[0mbank_num_features\u001b[0m\u001b[0;34m,\u001b[0m \u001b[0mnum_classes\u001b[0m\u001b[0;34m=\u001b[0m\u001b[0;36m2\u001b[0m\u001b[0;34m,\u001b[0m \u001b[0mseed\u001b[0m \u001b[0;34m=\u001b[0m \u001b[0mseed\u001b[0m\u001b[0;34m)\u001b[0m\u001b[0;34m,\u001b[0m \u001b[0mbank_info\u001b[0m\u001b[0;34m,\u001b[0m \u001b[0mtrain_prn\u001b[0m \u001b[0;34m=\u001b[0m \u001b[0;32mFalse\u001b[0m\u001b[0;34m,\u001b[0m \u001b[0mseed\u001b[0m \u001b[0;34m=\u001b[0m \u001b[0mseed\u001b[0m\u001b[0;34m,\u001b[0m \u001b[0mZ\u001b[0m \u001b[0;34m=\u001b[0m \u001b[0mbank_z\u001b[0m\u001b[0;34m)\u001b[0m\u001b[0;34m\u001b[0m\u001b[0;34m\u001b[0m\u001b[0m\n\u001b[0;32m----> 2\u001b[0;31m \u001b[0mserver\u001b[0m\u001b[0;34m.\u001b[0m\u001b[0mFBVariant\u001b[0m\u001b[0;34m(\u001b[0m\u001b[0mnum_rounds\u001b[0m \u001b[0;34m=\u001b[0m \u001b[0;36m10\u001b[0m\u001b[0;34m,\u001b[0m \u001b[0mlocal_epochs\u001b[0m \u001b[0;34m=\u001b[0m \u001b[0;36m30\u001b[0m\u001b[0;34m,\u001b[0m \u001b[0moptimizer\u001b[0m \u001b[0;34m=\u001b[0m \u001b[0;34m'adam'\u001b[0m\u001b[0;34m,\u001b[0m \u001b[0mlearning_rate\u001b[0m \u001b[0;34m=\u001b[0m \u001b[0;36m0.5\u001b[0m\u001b[0;34m,\u001b[0m \u001b[0malpha\u001b[0m \u001b[0;34m=\u001b[0m \u001b[0;36m0.005\u001b[0m\u001b[0;34m)\u001b[0m\u001b[0;34m\u001b[0m\u001b[0;34m\u001b[0m\u001b[0m\n\u001b[0m",
      "\u001b[0;32m~/Google Drive/办公/research/code/Fair-FedAvg/EO/Server.py\u001b[0m in \u001b[0;36mFBVariant\u001b[0;34m(self, num_rounds, local_epochs, learning_rate, optimizer, alpha)\u001b[0m\n\u001b[1;32m    417\u001b[0m                                 \u001b[0mmodel\u001b[0m\u001b[0;34m=\u001b[0m\u001b[0mcopy\u001b[0m\u001b[0;34m.\u001b[0m\u001b[0mdeepcopy\u001b[0m\u001b[0;34m(\u001b[0m\u001b[0mself\u001b[0m\u001b[0;34m.\u001b[0m\u001b[0mmodel\u001b[0m\u001b[0;34m)\u001b[0m\u001b[0;34m,\u001b[0m \u001b[0mglobal_round\u001b[0m\u001b[0;34m=\u001b[0m\u001b[0mround_\u001b[0m\u001b[0;34m,\u001b[0m\u001b[0;34m\u001b[0m\u001b[0;34m\u001b[0m\u001b[0m\n\u001b[1;32m    418\u001b[0m                                     \u001b[0mlearning_rate\u001b[0m \u001b[0;34m=\u001b[0m \u001b[0mlearning_rate\u001b[0m \u001b[0;34m/\u001b[0m \u001b[0mnp\u001b[0m\u001b[0;34m.\u001b[0m\u001b[0msqrt\u001b[0m\u001b[0;34m(\u001b[0m\u001b[0mround_\u001b[0m \u001b[0;34m+\u001b[0m \u001b[0;36m1\u001b[0m\u001b[0;34m)\u001b[0m\u001b[0;34m,\u001b[0m \u001b[0mlocal_epochs\u001b[0m \u001b[0;34m=\u001b[0m \u001b[0mlocal_epochs\u001b[0m\u001b[0;34m,\u001b[0m\u001b[0;34m\u001b[0m\u001b[0;34m\u001b[0m\u001b[0m\n\u001b[0;32m--> 419\u001b[0;31m                                     optimizer = optimizer, lbd = lbd, m_1z = m_1z, m = len(self.train_dataset))\n\u001b[0m\u001b[1;32m    420\u001b[0m                 \u001b[0mnc\u001b[0m\u001b[0;34m.\u001b[0m\u001b[0mappend\u001b[0m\u001b[0;34m(\u001b[0m\u001b[0mnc_\u001b[0m\u001b[0;34m)\u001b[0m\u001b[0;34m\u001b[0m\u001b[0;34m\u001b[0m\u001b[0m\n\u001b[1;32m    421\u001b[0m                 \u001b[0mlocal_weights\u001b[0m\u001b[0;34m.\u001b[0m\u001b[0mappend\u001b[0m\u001b[0;34m(\u001b[0m\u001b[0mcopy\u001b[0m\u001b[0;34m.\u001b[0m\u001b[0mdeepcopy\u001b[0m\u001b[0;34m(\u001b[0m\u001b[0mw\u001b[0m\u001b[0;34m)\u001b[0m\u001b[0;34m)\u001b[0m\u001b[0;34m\u001b[0m\u001b[0;34m\u001b[0m\u001b[0m\n",
      "\u001b[0;32m~/Google Drive/办公/research/code/Fair-FedAvg/EO/Client.py\u001b[0m in \u001b[0;36mfb2_update\u001b[0;34m(self, model, global_round, learning_rate, local_epochs, optimizer, lbd, m_1z, m)\u001b[0m\n\u001b[1;32m    533\u001b[0m                 \u001b[0moptimizer\u001b[0m\u001b[0;34m.\u001b[0m\u001b[0mzero_grad\u001b[0m\u001b[0;34m(\u001b[0m\u001b[0;34m)\u001b[0m\u001b[0;34m\u001b[0m\u001b[0;34m\u001b[0m\u001b[0m\n\u001b[1;32m    534\u001b[0m                 \u001b[0;32mif\u001b[0m \u001b[0;32mnot\u001b[0m \u001b[0mnp\u001b[0m\u001b[0;34m.\u001b[0m\u001b[0misnan\u001b[0m\u001b[0;34m(\u001b[0m\u001b[0mloss\u001b[0m\u001b[0;34m.\u001b[0m\u001b[0mitem\u001b[0m\u001b[0;34m(\u001b[0m\u001b[0;34m)\u001b[0m\u001b[0;34m)\u001b[0m\u001b[0;34m:\u001b[0m \u001b[0mloss\u001b[0m\u001b[0;34m.\u001b[0m\u001b[0mbackward\u001b[0m\u001b[0;34m(\u001b[0m\u001b[0;34m)\u001b[0m\u001b[0;34m\u001b[0m\u001b[0;34m\u001b[0m\u001b[0m\n\u001b[0;32m--> 535\u001b[0;31m                 \u001b[0moptimizer\u001b[0m\u001b[0;34m.\u001b[0m\u001b[0mstep\u001b[0m\u001b[0;34m(\u001b[0m\u001b[0;34m)\u001b[0m\u001b[0;34m\u001b[0m\u001b[0;34m\u001b[0m\u001b[0m\n\u001b[0m\u001b[1;32m    536\u001b[0m \u001b[0;34m\u001b[0m\u001b[0m\n\u001b[1;32m    537\u001b[0m                 \u001b[0;32mif\u001b[0m \u001b[0mself\u001b[0m\u001b[0;34m.\u001b[0m\u001b[0mprn\u001b[0m \u001b[0;32mand\u001b[0m \u001b[0;34m(\u001b[0m\u001b[0;36m100.\u001b[0m \u001b[0;34m*\u001b[0m \u001b[0mbatch_idx\u001b[0m \u001b[0;34m/\u001b[0m \u001b[0mlen\u001b[0m\u001b[0;34m(\u001b[0m\u001b[0mself\u001b[0m\u001b[0;34m.\u001b[0m\u001b[0mtrainloader\u001b[0m\u001b[0;34m)\u001b[0m\u001b[0;34m)\u001b[0m \u001b[0;34m%\u001b[0m \u001b[0;36m50\u001b[0m \u001b[0;34m==\u001b[0m \u001b[0;36m0\u001b[0m\u001b[0;34m:\u001b[0m\u001b[0;34m\u001b[0m\u001b[0;34m\u001b[0m\u001b[0m\n",
      "\u001b[0;32m/opt/anaconda3/lib/python3.7/site-packages/torch/autograd/grad_mode.py\u001b[0m in \u001b[0;36mdecorate_context\u001b[0;34m(*args, **kwargs)\u001b[0m\n\u001b[1;32m     24\u001b[0m         \u001b[0;32mdef\u001b[0m \u001b[0mdecorate_context\u001b[0m\u001b[0;34m(\u001b[0m\u001b[0;34m*\u001b[0m\u001b[0margs\u001b[0m\u001b[0;34m,\u001b[0m \u001b[0;34m**\u001b[0m\u001b[0mkwargs\u001b[0m\u001b[0;34m)\u001b[0m\u001b[0;34m:\u001b[0m\u001b[0;34m\u001b[0m\u001b[0;34m\u001b[0m\u001b[0m\n\u001b[1;32m     25\u001b[0m             \u001b[0;32mwith\u001b[0m \u001b[0mself\u001b[0m\u001b[0;34m.\u001b[0m\u001b[0m__class__\u001b[0m\u001b[0;34m(\u001b[0m\u001b[0;34m)\u001b[0m\u001b[0;34m:\u001b[0m\u001b[0;34m\u001b[0m\u001b[0;34m\u001b[0m\u001b[0m\n\u001b[0;32m---> 26\u001b[0;31m                 \u001b[0;32mreturn\u001b[0m \u001b[0mfunc\u001b[0m\u001b[0;34m(\u001b[0m\u001b[0;34m*\u001b[0m\u001b[0margs\u001b[0m\u001b[0;34m,\u001b[0m \u001b[0;34m**\u001b[0m\u001b[0mkwargs\u001b[0m\u001b[0;34m)\u001b[0m\u001b[0;34m\u001b[0m\u001b[0;34m\u001b[0m\u001b[0m\n\u001b[0m\u001b[1;32m     27\u001b[0m         \u001b[0;32mreturn\u001b[0m \u001b[0mcast\u001b[0m\u001b[0;34m(\u001b[0m\u001b[0mF\u001b[0m\u001b[0;34m,\u001b[0m \u001b[0mdecorate_context\u001b[0m\u001b[0;34m)\u001b[0m\u001b[0;34m\u001b[0m\u001b[0;34m\u001b[0m\u001b[0m\n\u001b[1;32m     28\u001b[0m \u001b[0;34m\u001b[0m\u001b[0m\n",
      "\u001b[0;32m/opt/anaconda3/lib/python3.7/site-packages/torch/optim/adam.py\u001b[0m in \u001b[0;36mstep\u001b[0;34m(self, closure)\u001b[0m\n\u001b[1;32m    117\u001b[0m                    \u001b[0mgroup\u001b[0m\u001b[0;34m[\u001b[0m\u001b[0;34m'lr'\u001b[0m\u001b[0;34m]\u001b[0m\u001b[0;34m,\u001b[0m\u001b[0;34m\u001b[0m\u001b[0;34m\u001b[0m\u001b[0m\n\u001b[1;32m    118\u001b[0m                    \u001b[0mgroup\u001b[0m\u001b[0;34m[\u001b[0m\u001b[0;34m'weight_decay'\u001b[0m\u001b[0;34m]\u001b[0m\u001b[0;34m,\u001b[0m\u001b[0;34m\u001b[0m\u001b[0;34m\u001b[0m\u001b[0m\n\u001b[0;32m--> 119\u001b[0;31m                    \u001b[0mgroup\u001b[0m\u001b[0;34m[\u001b[0m\u001b[0;34m'eps'\u001b[0m\u001b[0;34m]\u001b[0m\u001b[0;34m\u001b[0m\u001b[0;34m\u001b[0m\u001b[0m\n\u001b[0m\u001b[1;32m    120\u001b[0m                    )\n\u001b[1;32m    121\u001b[0m         \u001b[0;32mreturn\u001b[0m \u001b[0mloss\u001b[0m\u001b[0;34m\u001b[0m\u001b[0;34m\u001b[0m\u001b[0m\n",
      "\u001b[0;32m/opt/anaconda3/lib/python3.7/site-packages/torch/optim/functional.py\u001b[0m in \u001b[0;36madam\u001b[0;34m(params, grads, exp_avgs, exp_avg_sqs, max_exp_avg_sqs, state_steps, amsgrad, beta1, beta2, lr, weight_decay, eps)\u001b[0m\n\u001b[1;32m     92\u001b[0m             \u001b[0mdenom\u001b[0m \u001b[0;34m=\u001b[0m \u001b[0;34m(\u001b[0m\u001b[0mmax_exp_avg_sq\u001b[0m\u001b[0;34m.\u001b[0m\u001b[0msqrt\u001b[0m\u001b[0;34m(\u001b[0m\u001b[0;34m)\u001b[0m \u001b[0;34m/\u001b[0m \u001b[0mmath\u001b[0m\u001b[0;34m.\u001b[0m\u001b[0msqrt\u001b[0m\u001b[0;34m(\u001b[0m\u001b[0mbias_correction2\u001b[0m\u001b[0;34m)\u001b[0m\u001b[0;34m)\u001b[0m\u001b[0;34m.\u001b[0m\u001b[0madd_\u001b[0m\u001b[0;34m(\u001b[0m\u001b[0meps\u001b[0m\u001b[0;34m)\u001b[0m\u001b[0;34m\u001b[0m\u001b[0;34m\u001b[0m\u001b[0m\n\u001b[1;32m     93\u001b[0m         \u001b[0;32melse\u001b[0m\u001b[0;34m:\u001b[0m\u001b[0;34m\u001b[0m\u001b[0;34m\u001b[0m\u001b[0m\n\u001b[0;32m---> 94\u001b[0;31m             \u001b[0mdenom\u001b[0m \u001b[0;34m=\u001b[0m \u001b[0;34m(\u001b[0m\u001b[0mexp_avg_sq\u001b[0m\u001b[0;34m.\u001b[0m\u001b[0msqrt\u001b[0m\u001b[0;34m(\u001b[0m\u001b[0;34m)\u001b[0m \u001b[0;34m/\u001b[0m \u001b[0mmath\u001b[0m\u001b[0;34m.\u001b[0m\u001b[0msqrt\u001b[0m\u001b[0;34m(\u001b[0m\u001b[0mbias_correction2\u001b[0m\u001b[0;34m)\u001b[0m\u001b[0;34m)\u001b[0m\u001b[0;34m.\u001b[0m\u001b[0madd_\u001b[0m\u001b[0;34m(\u001b[0m\u001b[0meps\u001b[0m\u001b[0;34m)\u001b[0m\u001b[0;34m\u001b[0m\u001b[0;34m\u001b[0m\u001b[0m\n\u001b[0m\u001b[1;32m     95\u001b[0m \u001b[0;34m\u001b[0m\u001b[0m\n\u001b[1;32m     96\u001b[0m         \u001b[0mstep_size\u001b[0m \u001b[0;34m=\u001b[0m \u001b[0mlr\u001b[0m \u001b[0;34m/\u001b[0m \u001b[0mbias_correction1\u001b[0m\u001b[0;34m\u001b[0m\u001b[0;34m\u001b[0m\u001b[0m\n",
      "\u001b[0;31mKeyboardInterrupt\u001b[0m: "
     ]
    }
   ],
   "source": [
    "server = Server(logReg(num_features=bank_num_features, num_classes=2, seed = seed), bank_info, train_prn = False, seed = seed, Z = bank_z)\n",
    "server.FBVariant(num_rounds = 10, local_epochs = 30, optimizer = 'adam', learning_rate = 0.5, alpha = 0.005)"
   ]
  },
  {
   "cell_type": "code",
   "execution_count": 10,
   "metadata": {
    "scrolled": true
   },
   "outputs": [
    {
     "name": "stderr",
     "output_type": "stream",
     "text": [
      "\r",
      "  0%|          | 0/10 [00:00<?, ?it/s]"
     ]
    },
    {
     "name": "stdout",
     "output_type": "stream",
     "text": [
      "\n",
      " | Global Training Round : 1 |\n",
      "\n"
     ]
    },
    {
     "name": "stderr",
     "output_type": "stream",
     "text": [
      "\r",
      " 10%|█         | 1/10 [00:25<03:53, 25.99s/it]"
     ]
    },
    {
     "name": "stdout",
     "output_type": "stream",
     "text": [
      "Client 1: accuracy loss: 51.12 | fairness loss 168.84 | Equal Opportunity Disparity = 0.06\n",
      "Client 2: accuracy loss: 17.71 | fairness loss 166.62 | Equal Opportunity Disparity = 0.16\n",
      "Client 3: accuracy loss: 43.71 | fairness loss 164.72 | Equal Opportunity Disparity = 0.08\n",
      " \n",
      "Avg Training Stats after 1 global rounds:\n",
      "Training loss: 0.30 | Validation accuracy: 90.34% | Validation Equal Opportunity Disparity: 0.0689\n",
      "\n",
      " | Global Training Round : 2 |\n",
      "\n"
     ]
    },
    {
     "name": "stderr",
     "output_type": "stream",
     "text": [
      "\r",
      " 20%|██        | 2/10 [00:50<03:25, 25.68s/it]"
     ]
    },
    {
     "name": "stdout",
     "output_type": "stream",
     "text": [
      "Client 1: accuracy loss: 50.02 | fairness loss 164.29 | Equal Opportunity Disparity = 0.11\n",
      "Client 2: accuracy loss: 17.40 | fairness loss 153.60 | Equal Opportunity Disparity = 0.14\n",
      "Client 3: accuracy loss: 42.78 | fairness loss 157.49 | Equal Opportunity Disparity = 0.09\n",
      " \n",
      "Avg Training Stats after 2 global rounds:\n",
      "Training loss: 0.29 | Validation accuracy: 90.37% | Validation Equal Opportunity Disparity: 0.1086\n",
      "\n",
      " | Global Training Round : 3 |\n",
      "\n"
     ]
    },
    {
     "name": "stderr",
     "output_type": "stream",
     "text": [
      "\r",
      " 30%|███       | 3/10 [01:18<03:04, 26.32s/it]"
     ]
    },
    {
     "name": "stdout",
     "output_type": "stream",
     "text": [
      "Client 1: accuracy loss: 49.67 | fairness loss 166.07 | Equal Opportunity Disparity = 0.10\n",
      "Client 2: accuracy loss: 17.31 | fairness loss 154.44 | Equal Opportunity Disparity = 0.14\n",
      "Client 3: accuracy loss: 42.55 | fairness loss 157.10 | Equal Opportunity Disparity = 0.12\n",
      " \n",
      "Avg Training Stats after 3 global rounds:\n",
      "Training loss: 0.29 | Validation accuracy: 90.54% | Validation Equal Opportunity Disparity: 0.0862\n",
      "\n",
      " | Global Training Round : 4 |\n",
      "\n"
     ]
    },
    {
     "name": "stderr",
     "output_type": "stream",
     "text": [
      "\r",
      " 40%|████      | 4/10 [01:41<02:30, 25.13s/it]"
     ]
    },
    {
     "name": "stdout",
     "output_type": "stream",
     "text": [
      "Client 1: accuracy loss: 49.55 | fairness loss 166.48 | Equal Opportunity Disparity = 0.08\n",
      "Client 2: accuracy loss: 17.29 | fairness loss 153.67 | Equal Opportunity Disparity = 0.14\n",
      "Client 3: accuracy loss: 42.48 | fairness loss 156.63 | Equal Opportunity Disparity = 0.12\n",
      " \n",
      "Avg Training Stats after 4 global rounds:\n",
      "Training loss: 0.29 | Validation accuracy: 90.52% | Validation Equal Opportunity Disparity: 0.0768\n",
      "\n",
      " | Global Training Round : 5 |\n",
      "\n"
     ]
    },
    {
     "name": "stderr",
     "output_type": "stream",
     "text": [
      "\r",
      " 50%|█████     | 5/10 [02:01<01:59, 23.84s/it]"
     ]
    },
    {
     "name": "stdout",
     "output_type": "stream",
     "text": [
      "Client 1: accuracy loss: 49.53 | fairness loss 166.16 | Equal Opportunity Disparity = 0.06\n",
      "Client 2: accuracy loss: 17.30 | fairness loss 152.88 | Equal Opportunity Disparity = 0.14\n",
      "Client 3: accuracy loss: 42.49 | fairness loss 155.83 | Equal Opportunity Disparity = 0.12\n",
      " \n",
      "Avg Training Stats after 5 global rounds:\n",
      "Training loss: 0.29 | Validation accuracy: 90.50% | Validation Equal Opportunity Disparity: 0.0649\n",
      "\n",
      " | Global Training Round : 6 |\n",
      "\n"
     ]
    },
    {
     "name": "stderr",
     "output_type": "stream",
     "text": [
      "\r",
      " 60%|██████    | 6/10 [02:24<01:34, 23.55s/it]"
     ]
    },
    {
     "name": "stdout",
     "output_type": "stream",
     "text": [
      "Client 1: accuracy loss: 49.54 | fairness loss 165.52 | Equal Opportunity Disparity = 0.06\n",
      "Client 2: accuracy loss: 17.32 | fairness loss 152.06 | Equal Opportunity Disparity = 0.14\n",
      "Client 3: accuracy loss: 42.51 | fairness loss 154.91 | Equal Opportunity Disparity = 0.12\n",
      " \n",
      "Avg Training Stats after 6 global rounds:\n",
      "Training loss: 0.29 | Validation accuracy: 90.43% | Validation Equal Opportunity Disparity: 0.0554\n",
      "\n",
      " | Global Training Round : 7 |\n",
      "\n"
     ]
    },
    {
     "name": "stderr",
     "output_type": "stream",
     "text": [
      "\r",
      " 70%|███████   | 7/10 [02:48<01:10, 23.57s/it]"
     ]
    },
    {
     "name": "stdout",
     "output_type": "stream",
     "text": [
      "Client 1: accuracy loss: 49.54 | fairness loss 164.84 | Equal Opportunity Disparity = 0.06\n",
      "Client 2: accuracy loss: 17.33 | fairness loss 151.34 | Equal Opportunity Disparity = 0.14\n",
      "Client 3: accuracy loss: 42.54 | fairness loss 154.05 | Equal Opportunity Disparity = 0.12\n",
      " \n",
      "Avg Training Stats after 7 global rounds:\n",
      "Training loss: 0.29 | Validation accuracy: 90.43% | Validation Equal Opportunity Disparity: 0.0554\n",
      "\n",
      " | Global Training Round : 8 |\n",
      "\n"
     ]
    },
    {
     "name": "stderr",
     "output_type": "stream",
     "text": [
      "\r",
      " 80%|████████  | 8/10 [03:13<00:48, 24.06s/it]"
     ]
    },
    {
     "name": "stdout",
     "output_type": "stream",
     "text": [
      "Client 1: accuracy loss: 49.55 | fairness loss 164.24 | Equal Opportunity Disparity = 0.06\n",
      "Client 2: accuracy loss: 17.34 | fairness loss 150.77 | Equal Opportunity Disparity = 0.14\n",
      "Client 3: accuracy loss: 42.56 | fairness loss 153.35 | Equal Opportunity Disparity = 0.12\n",
      " \n",
      "Avg Training Stats after 8 global rounds:\n",
      "Training loss: 0.29 | Validation accuracy: 90.43% | Validation Equal Opportunity Disparity: 0.0554\n",
      "\n",
      " | Global Training Round : 9 |\n",
      "\n"
     ]
    },
    {
     "name": "stderr",
     "output_type": "stream",
     "text": [
      "\r",
      " 90%|█████████ | 9/10 [03:38<00:24, 24.44s/it]"
     ]
    },
    {
     "name": "stdout",
     "output_type": "stream",
     "text": [
      "Client 1: accuracy loss: 49.54 | fairness loss 163.77 | Equal Opportunity Disparity = 0.06\n",
      "Client 2: accuracy loss: 17.35 | fairness loss 150.34 | Equal Opportunity Disparity = 0.14\n",
      "Client 3: accuracy loss: 42.56 | fairness loss 152.79 | Equal Opportunity Disparity = 0.12\n",
      " \n",
      "Avg Training Stats after 9 global rounds:\n",
      "Training loss: 0.29 | Validation accuracy: 90.43% | Validation Equal Opportunity Disparity: 0.0554\n",
      "\n",
      " | Global Training Round : 10 |\n",
      "\n"
     ]
    },
    {
     "name": "stderr",
     "output_type": "stream",
     "text": [
      "100%|██████████| 10/10 [04:01<00:00, 24.15s/it]"
     ]
    },
    {
     "name": "stdout",
     "output_type": "stream",
     "text": [
      "Client 1: accuracy loss: 49.53 | fairness loss 163.40 | Equal Opportunity Disparity = 0.06\n",
      "Client 2: accuracy loss: 17.35 | fairness loss 150.02 | Equal Opportunity Disparity = 0.14\n",
      "Client 3: accuracy loss: 42.56 | fairness loss 152.37 | Equal Opportunity Disparity = 0.11\n",
      " \n",
      "Avg Training Stats after 10 global rounds:\n",
      "Training loss: 0.28 | Validation accuracy: 90.40% | Validation Equal Opportunity Disparity: 0.0460\n"
     ]
    },
    {
     "name": "stderr",
     "output_type": "stream",
     "text": [
      "\n"
     ]
    },
    {
     "name": "stdout",
     "output_type": "stream",
     "text": [
      " \n",
      " Results after 10 global rounds of training:\n",
      "|---- Avg Train Accuracy: 90.40%\n",
      "|---- Test Accuracy: 89.35%\n",
      "|---- Test Equal Opportunity Disparity: 0.0101\n",
      "\n",
      " Total Run Time: 241.8225 sec\n"
     ]
    }
   ],
   "source": [
    "server = Server(logReg(num_features=bank_num_features, num_classes=2, seed = seed), bank_info, train_prn = False, seed = seed, Z = bank_z)\n",
    "server.BiasCorrecting(num_rounds = 10, local_epochs = 20, optimizer = 'adam', learning_rate = 0.002, alpha = 20)"
   ]
  },
  {
   "cell_type": "code",
   "execution_count": 14,
   "metadata": {
    "scrolled": true
   },
   "outputs": [
    {
     "name": "stderr",
     "output_type": "stream",
     "text": [
      "\r",
      "  0%|          | 0/5 [00:00<?, ?it/s]"
     ]
    },
    {
     "name": "stdout",
     "output_type": "stream",
     "text": [
      "\n",
      " | Global Training Round : 1 |\n",
      "\n"
     ]
    },
    {
     "name": "stderr",
     "output_type": "stream",
     "text": [
      "\r",
      " 20%|██        | 1/5 [00:18<01:15, 18.77s/it]"
     ]
    },
    {
     "name": "stdout",
     "output_type": "stream",
     "text": [
      "Client 1: accuracy loss: 48.54 | fairness loss 1.98 | Equal Opportunity Disparity = 0.00\n",
      "Client 2: accuracy loss: 16.01 | fairness loss 2.52 | Equal Opportunity Disparity = 0.00\n",
      "Client 3: accuracy loss: 42.64 | fairness loss 1.81 | Equal Opportunity Disparity = 0.00\n",
      " \n",
      "Avg Training Stats after 1 global rounds:\n",
      "Training loss: 44.51 | Validation accuracy: 89.41% | Validation Equal Opportunity Disparity: 0.0000\n",
      "\n",
      " | Global Training Round : 2 |\n",
      "\n"
     ]
    },
    {
     "name": "stderr",
     "output_type": "stream",
     "text": [
      "\r",
      " 40%|████      | 2/5 [00:37<00:56, 18.79s/it]"
     ]
    },
    {
     "name": "stdout",
     "output_type": "stream",
     "text": [
      "Client 1: accuracy loss: 48.39 | fairness loss 2.22 | Equal Opportunity Disparity = 0.00\n",
      "Client 2: accuracy loss: 15.95 | fairness loss 2.95 | Equal Opportunity Disparity = 0.00\n",
      "Client 3: accuracy loss: 42.50 | fairness loss 1.98 | Equal Opportunity Disparity = 0.00\n",
      " \n",
      "Avg Training Stats after 2 global rounds:\n",
      "Training loss: 43.98 | Validation accuracy: 89.41% | Validation Equal Opportunity Disparity: 0.0000\n",
      "\n",
      " | Global Training Round : 3 |\n",
      "\n"
     ]
    },
    {
     "name": "stderr",
     "output_type": "stream",
     "text": [
      "\r",
      " 60%|██████    | 3/5 [00:55<00:37, 18.62s/it]"
     ]
    },
    {
     "name": "stdout",
     "output_type": "stream",
     "text": [
      "Client 1: accuracy loss: 48.38 | fairness loss 2.25 | Equal Opportunity Disparity = 0.00\n",
      "Client 2: accuracy loss: 15.95 | fairness loss 3.01 | Equal Opportunity Disparity = 0.00\n",
      "Client 3: accuracy loss: 42.49 | fairness loss 2.00 | Equal Opportunity Disparity = 0.00\n",
      " \n",
      "Avg Training Stats after 3 global rounds:\n",
      "Training loss: 43.80 | Validation accuracy: 89.41% | Validation Equal Opportunity Disparity: 0.0000\n",
      "\n",
      " | Global Training Round : 4 |\n",
      "\n"
     ]
    },
    {
     "name": "stderr",
     "output_type": "stream",
     "text": [
      "\r",
      " 80%|████████  | 4/5 [01:14<00:18, 18.55s/it]"
     ]
    },
    {
     "name": "stdout",
     "output_type": "stream",
     "text": [
      "Client 1: accuracy loss: 48.38 | fairness loss 2.25 | Equal Opportunity Disparity = 0.00\n",
      "Client 2: accuracy loss: 15.95 | fairness loss 3.02 | Equal Opportunity Disparity = 0.00\n",
      "Client 3: accuracy loss: 42.49 | fairness loss 2.00 | Equal Opportunity Disparity = 0.00\n",
      " \n",
      "Avg Training Stats after 4 global rounds:\n",
      "Training loss: 43.71 | Validation accuracy: 89.41% | Validation Equal Opportunity Disparity: 0.0000\n",
      "\n",
      " | Global Training Round : 5 |\n",
      "\n"
     ]
    },
    {
     "name": "stderr",
     "output_type": "stream",
     "text": [
      "100%|██████████| 5/5 [01:32<00:00, 18.54s/it]"
     ]
    },
    {
     "name": "stdout",
     "output_type": "stream",
     "text": [
      "Client 1: accuracy loss: 48.38 | fairness loss 2.25 | Equal Opportunity Disparity = 0.00\n",
      "Client 2: accuracy loss: 15.95 | fairness loss 3.02 | Equal Opportunity Disparity = 0.00\n",
      "Client 3: accuracy loss: 42.49 | fairness loss 2.01 | Equal Opportunity Disparity = 0.00\n",
      " \n",
      "Avg Training Stats after 5 global rounds:\n",
      "Training loss: 43.65 | Validation accuracy: 89.41% | Validation Equal Opportunity Disparity: 0.0000\n"
     ]
    },
    {
     "name": "stderr",
     "output_type": "stream",
     "text": [
      "\n"
     ]
    },
    {
     "name": "stdout",
     "output_type": "stream",
     "text": [
      " \n",
      " Results after 5 global rounds of training:\n",
      "|---- Avg Train Accuracy: 89.41%\n",
      "|---- Test Accuracy: 88.22%\n",
      "|---- Test Equal Opportunity Disparity: 0.0000\n",
      "\n",
      " Total Run Time: 92.9719 sec\n"
     ]
    }
   ],
   "source": [
    "server = Server(logReg(num_features=bank_num_features, num_classes=2, seed = seed), bank_info, train_prn = False, seed = seed, Z = bank_z)\n",
    "server.LocalFC(num_rounds = 5, local_epochs = 20, optimizer = 'adam', learning_rate = 0.002, penalty = 50)"
   ]
  },
  {
   "cell_type": "code",
   "execution_count": 15,
   "metadata": {
    "scrolled": true
   },
   "outputs": [
    {
     "name": "stderr",
     "output_type": "stream",
     "text": [
      "\r",
      "  0%|          | 0/10 [00:00<?, ?it/s]"
     ]
    },
    {
     "name": "stdout",
     "output_type": "stream",
     "text": [
      "\n",
      " | Global Training Round : 1 |\n",
      "\n"
     ]
    },
    {
     "name": "stderr",
     "output_type": "stream",
     "text": [
      "\r",
      " 10%|█         | 1/10 [00:26<03:56, 26.25s/it]"
     ]
    },
    {
     "name": "stdout",
     "output_type": "stream",
     "text": [
      "Client 1: predictor loss: 36.19 | adversary loss 1.54 | Equal Opportunity Disparity = 0.10\n",
      "Client 2: predictor loss: 12.20 | adversary loss 1.54 | Equal Opportunity Disparity = 0.14\n",
      "Client 3: predictor loss: 32.79 | adversary loss 1.49 | Equal Opportunity Disparity = 0.12\n",
      " \n",
      "Avg Training Stats after 1 global rounds:\n",
      "Training loss: 0.27 | Validation accuracy: 90.55% | Validation Equal Opportunity Disparity: 0.0915\n",
      "\n",
      " | Global Training Round : 2 |\n",
      "\n"
     ]
    },
    {
     "name": "stderr",
     "output_type": "stream",
     "text": [
      "\r",
      " 20%|██        | 2/10 [00:51<03:27, 25.97s/it]"
     ]
    },
    {
     "name": "stdout",
     "output_type": "stream",
     "text": [
      "Client 1: predictor loss: 38.70 | adversary loss 1.53 | Equal Opportunity Disparity = 0.06\n",
      "Client 2: predictor loss: 13.46 | adversary loss 1.51 | Equal Opportunity Disparity = 0.06\n",
      "Client 3: predictor loss: 36.68 | adversary loss 1.52 | Equal Opportunity Disparity = 0.07\n",
      " \n",
      "Avg Training Stats after 2 global rounds:\n",
      "Training loss: 0.26 | Validation accuracy: 89.98% | Validation Equal Opportunity Disparity: 0.0542\n",
      "\n",
      " | Global Training Round : 3 |\n",
      "\n"
     ]
    },
    {
     "name": "stderr",
     "output_type": "stream",
     "text": [
      "\r",
      " 30%|███       | 3/10 [01:16<02:59, 25.65s/it]"
     ]
    },
    {
     "name": "stdout",
     "output_type": "stream",
     "text": [
      "Client 1: predictor loss: 50.42 | adversary loss 1.61 | Equal Opportunity Disparity = 0.08\n",
      "Client 2: predictor loss: 22.16 | adversary loss 1.60 | Equal Opportunity Disparity = 0.21\n",
      "Client 3: predictor loss: 51.27 | adversary loss 1.56 | Equal Opportunity Disparity = 0.09\n",
      " \n",
      "Avg Training Stats after 3 global rounds:\n",
      "Training loss: 0.31 | Validation accuracy: 90.27% | Validation Equal Opportunity Disparity: 0.0565\n",
      "\n",
      " | Global Training Round : 4 |\n",
      "\n"
     ]
    },
    {
     "name": "stderr",
     "output_type": "stream",
     "text": [
      "\r",
      " 40%|████      | 4/10 [01:45<02:39, 26.60s/it]"
     ]
    },
    {
     "name": "stdout",
     "output_type": "stream",
     "text": [
      "Client 1: predictor loss: 53.30 | adversary loss 5.09 | Equal Opportunity Disparity = 0.00\n",
      "Client 2: predictor loss: 20.16 | adversary loss 5.11 | Equal Opportunity Disparity = 0.00\n",
      "Client 3: predictor loss: 54.88 | adversary loss 5.50 | Equal Opportunity Disparity = 0.00\n",
      " \n",
      "Avg Training Stats after 4 global rounds:\n",
      "Training loss: 0.31 | Validation accuracy: 89.39% | Validation Equal Opportunity Disparity: 0.0000\n",
      "\n",
      " | Global Training Round : 5 |\n",
      "\n"
     ]
    },
    {
     "name": "stderr",
     "output_type": "stream",
     "text": [
      "\r",
      " 50%|█████     | 5/10 [02:11<02:12, 26.59s/it]"
     ]
    },
    {
     "name": "stdout",
     "output_type": "stream",
     "text": [
      "Client 1: predictor loss: 40.01 | adversary loss 43.52 | Equal Opportunity Disparity = 0.00\n",
      "Client 2: predictor loss: 16.17 | adversary loss 42.80 | Equal Opportunity Disparity = 0.00\n",
      "Client 3: predictor loss: 40.80 | adversary loss 44.78 | Equal Opportunity Disparity = 0.00\n",
      " \n",
      "Avg Training Stats after 5 global rounds:\n",
      "Training loss: 0.34 | Validation accuracy: 89.41% | Validation Equal Opportunity Disparity: 0.0000\n",
      "\n",
      " | Global Training Round : 6 |\n",
      "\n"
     ]
    },
    {
     "name": "stderr",
     "output_type": "stream",
     "text": [
      "\r",
      " 60%|██████    | 6/10 [02:36<01:44, 26.00s/it]"
     ]
    },
    {
     "name": "stdout",
     "output_type": "stream",
     "text": [
      "Client 1: predictor loss: 40.54 | adversary loss 81.13 | Equal Opportunity Disparity = 0.00\n",
      "Client 2: predictor loss: 16.46 | adversary loss 84.06 | Equal Opportunity Disparity = 0.00\n",
      "Client 3: predictor loss: 41.53 | adversary loss 80.97 | Equal Opportunity Disparity = 0.00\n",
      " \n",
      "Avg Training Stats after 6 global rounds:\n",
      "Training loss: 0.33 | Validation accuracy: 89.41% | Validation Equal Opportunity Disparity: 0.0000\n",
      "\n",
      " | Global Training Round : 7 |\n",
      "\n"
     ]
    },
    {
     "name": "stderr",
     "output_type": "stream",
     "text": [
      "\r",
      " 70%|███████   | 7/10 [03:01<01:17, 25.75s/it]"
     ]
    },
    {
     "name": "stdout",
     "output_type": "stream",
     "text": [
      "Client 1: predictor loss: 44.76 | adversary loss 145.53 | Equal Opportunity Disparity = 0.00\n",
      "Client 2: predictor loss: 18.54 | adversary loss 138.21 | Equal Opportunity Disparity = 0.00\n",
      "Client 3: predictor loss: 46.31 | adversary loss 144.68 | Equal Opportunity Disparity = 0.00\n",
      " \n",
      "Avg Training Stats after 7 global rounds:\n",
      "Training loss: 0.33 | Validation accuracy: 89.41% | Validation Equal Opportunity Disparity: 0.0000\n",
      "\n",
      " | Global Training Round : 8 |\n",
      "\n"
     ]
    },
    {
     "name": "stderr",
     "output_type": "stream",
     "text": [
      "\r",
      " 80%|████████  | 8/10 [03:26<00:51, 25.54s/it]"
     ]
    },
    {
     "name": "stdout",
     "output_type": "stream",
     "text": [
      "Client 1: predictor loss: 55.22 | adversary loss 268.88 | Equal Opportunity Disparity = 0.00\n",
      "Client 2: predictor loss: 22.63 | adversary loss 263.17 | Equal Opportunity Disparity = 0.00\n",
      "Client 3: predictor loss: 57.19 | adversary loss 265.21 | Equal Opportunity Disparity = 0.00\n",
      " \n",
      "Avg Training Stats after 8 global rounds:\n",
      "Training loss: 0.33 | Validation accuracy: 89.41% | Validation Equal Opportunity Disparity: 0.0000\n",
      "\n",
      " | Global Training Round : 9 |\n",
      "\n"
     ]
    },
    {
     "name": "stderr",
     "output_type": "stream",
     "text": [
      "\r",
      " 90%|█████████ | 9/10 [03:51<00:25, 25.22s/it]"
     ]
    },
    {
     "name": "stdout",
     "output_type": "stream",
     "text": [
      "Client 1: predictor loss: 60.72 | adversary loss 281.75 | Equal Opportunity Disparity = 0.00\n",
      "Client 2: predictor loss: 24.77 | adversary loss 280.22 | Equal Opportunity Disparity = 0.00\n",
      "Client 3: predictor loss: 62.74 | adversary loss 285.20 | Equal Opportunity Disparity = 0.00\n",
      " \n",
      "Avg Training Stats after 9 global rounds:\n",
      "Training loss: 0.34 | Validation accuracy: 89.41% | Validation Equal Opportunity Disparity: 0.0000\n",
      "\n",
      " | Global Training Round : 10 |\n",
      "\n"
     ]
    },
    {
     "name": "stderr",
     "output_type": "stream",
     "text": [
      "100%|██████████| 10/10 [04:15<00:00, 25.57s/it]"
     ]
    },
    {
     "name": "stdout",
     "output_type": "stream",
     "text": [
      "Client 1: predictor loss: 70.38 | adversary loss 341.04 | Equal Opportunity Disparity = 0.00\n",
      "Client 2: predictor loss: 28.16 | adversary loss 348.34 | Equal Opportunity Disparity = 0.00\n",
      "Client 3: predictor loss: 71.98 | adversary loss 351.63 | Equal Opportunity Disparity = 0.00\n",
      " \n",
      "Avg Training Stats after 10 global rounds:\n",
      "Training loss: 0.36 | Validation accuracy: 89.41% | Validation Equal Opportunity Disparity: 0.0000\n"
     ]
    },
    {
     "name": "stderr",
     "output_type": "stream",
     "text": [
      "\n"
     ]
    },
    {
     "name": "stdout",
     "output_type": "stream",
     "text": [
      " \n",
      " Results after 10 global rounds of training:\n",
      "|---- Avg Train Accuracy: 89.41%\n",
      "|---- Test Accuracy: 88.22%\n",
      "|---- Test Equal Opportunity Disparity: 0.0000\n",
      "\n",
      " Total Run Time: 256.0131 sec\n"
     ]
    }
   ],
   "source": [
    "server = Server(logReg(num_features=bank_num_features, num_classes=2, seed = seed), bank_info, train_prn = False, seed = seed, Z = bank_z)\n",
    "server.FTrain(num_rounds = 10, local_epochs = 30, init_epochs = 50, lr_g = 0.005, lr_d = 0.01, lambda_d = 0.9)"
   ]
  },
  {
   "cell_type": "code",
   "execution_count": 28,
   "metadata": {
    "scrolled": true
   },
   "outputs": [
    {
     "name": "stderr",
     "output_type": "stream",
     "text": [
      "\n",
      "  0%|          | 0/3 [00:00<?, ?it/s]\u001b[A"
     ]
    },
    {
     "name": "stdout",
     "output_type": "stream",
     "text": [
      "\n",
      " | Testing Round : 1 | constraint :  Cov(z, d | y = 1) < c\n",
      "\n"
     ]
    },
    {
     "name": "stderr",
     "output_type": "stream",
     "text": [
      "\n",
      " 33%|███▎      | 1/3 [00:16<00:33, 16.69s/it]\u001b[A"
     ]
    },
    {
     "name": "stdout",
     "output_type": "stream",
     "text": [
      "Client 1: accuracy loss: 60.15 | fairness loss 30404421.57 | Equal Opportunity Disparity = 0.47\n",
      "Client 2: accuracy loss: 17.72 | fairness loss 29249198.73 | Equal Opportunity Disparity = 0.24\n",
      "Client 3: accuracy loss: 58.28 | fairness loss 30186785.27 | Equal Opportunity Disparity = 0.37\n",
      " \n",
      "Avg Training Stats after 1 Testing rounds:\n",
      "Training loss: -85598.27 | Validation accuracy: 87.73% | Validation Equal Opportunity Disparity: 0.3966\n",
      "\n",
      " | Testing Round : 2 | constraint :  Cov(z, d | y = 1) < c\n",
      "\n"
     ]
    },
    {
     "name": "stderr",
     "output_type": "stream",
     "text": [
      "\n",
      " 67%|██████▋   | 2/3 [00:33<00:16, 16.67s/it]\u001b[A"
     ]
    },
    {
     "name": "stdout",
     "output_type": "stream",
     "text": [
      "Client 1: accuracy loss: 79.68 | fairness loss 123274661.31 | Equal Opportunity Disparity = 0.46\n",
      "Client 2: accuracy loss: 22.39 | fairness loss 118717158.91 | Equal Opportunity Disparity = 0.29\n",
      "Client 3: accuracy loss: 77.20 | fairness loss 122396956.36 | Equal Opportunity Disparity = 0.37\n",
      " \n",
      "Avg Training Stats after 2 Testing rounds:\n",
      "Training loss: -163486.23 | Validation accuracy: 88.07% | Validation Equal Opportunity Disparity: 0.3973\n",
      "\n",
      " | Testing Round : 3 | constraint :  Cov(z, d | y = 1) < c\n",
      "\n"
     ]
    },
    {
     "name": "stderr",
     "output_type": "stream",
     "text": [
      "\n",
      "100%|██████████| 3/3 [00:49<00:00, 16.65s/it]\u001b[A\n",
      "\n",
      "  0%|          | 0/3 [00:00<?, ?it/s]\u001b[A"
     ]
    },
    {
     "name": "stdout",
     "output_type": "stream",
     "text": [
      "Client 1: accuracy loss: 102.33 | fairness loss 278540962.58 | Equal Opportunity Disparity = 0.21\n",
      "Client 2: accuracy loss: 28.07 | fairness loss 268369797.82 | Equal Opportunity Disparity = 0.12\n",
      "Client 3: accuracy loss: 98.93 | fairness loss 276569656.73 | Equal Opportunity Disparity = 0.16\n",
      " \n",
      "Avg Training Stats after 3 Testing rounds:\n",
      "Training loss: -241377.29 | Validation accuracy: 88.82% | Validation Equal Opportunity Disparity: 0.1700\n",
      "\n",
      " | Testing Round : 1 | constraint :  Cov(z, d | y = 1) > -c\n",
      "\n"
     ]
    },
    {
     "name": "stderr",
     "output_type": "stream",
     "text": [
      "\n",
      " 33%|███▎      | 1/3 [00:16<00:33, 16.88s/it]\u001b[A"
     ]
    },
    {
     "name": "stdout",
     "output_type": "stream",
     "text": [
      "Client 1: accuracy loss: 71.29 | fairness loss 30577046.96 | Equal Opportunity Disparity = 0.25\n",
      "Client 2: accuracy loss: 25.39 | fairness loss 29538825.91 | Equal Opportunity Disparity = 0.13\n",
      "Client 3: accuracy loss: 61.26 | fairness loss 30345276.91 | Equal Opportunity Disparity = 0.25\n",
      " \n",
      "Avg Training Stats after 1 Testing rounds:\n",
      "Training loss: -202562.01 | Validation accuracy: 89.61% | Validation Equal Opportunity Disparity: 0.2211\n",
      "\n",
      " | Testing Round : 2 | constraint :  Cov(z, d | y = 1) > -c\n",
      "\n"
     ]
    },
    {
     "name": "stderr",
     "output_type": "stream",
     "text": [
      "\n",
      " 67%|██████▋   | 2/3 [00:33<00:16, 16.81s/it]\u001b[A"
     ]
    },
    {
     "name": "stdout",
     "output_type": "stream",
     "text": [
      "Client 1: accuracy loss: 102.25 | fairness loss 123085583.65 | Equal Opportunity Disparity = 0.09\n",
      "Client 2: accuracy loss: 36.90 | fairness loss 118806114.55 | Equal Opportunity Disparity = 0.15\n",
      "Client 3: accuracy loss: 88.28 | fairness loss 122128030.55 | Equal Opportunity Disparity = 0.06\n",
      " \n",
      "Avg Training Stats after 2 Testing rounds:\n",
      "Training loss: -210420.66 | Validation accuracy: 89.51% | Validation Equal Opportunity Disparity: 0.0417\n",
      "\n",
      " | Testing Round : 3 | constraint :  Cov(z, d | y = 1) > -c\n",
      "\n"
     ]
    },
    {
     "name": "stderr",
     "output_type": "stream",
     "text": [
      "\n",
      "100%|██████████| 3/3 [00:50<00:00, 16.69s/it]\u001b[A\n",
      "\n",
      "  0%|          | 0/10 [00:00<?, ?it/s]\u001b[A"
     ]
    },
    {
     "name": "stdout",
     "output_type": "stream",
     "text": [
      "Client 1: accuracy loss: 143.05 | fairness loss 276957384.18 | Equal Opportunity Disparity = 0.05\n",
      "Client 2: accuracy loss: 51.81 | fairness loss 267218306.91 | Equal Opportunity Disparity = 0.00\n",
      "Client 3: accuracy loss: 124.23 | fairness loss 274773805.09 | Equal Opportunity Disparity = 0.06\n",
      " \n",
      "Avg Training Stats after 3 Testing rounds:\n",
      "Training loss: -241618.72 | Validation accuracy: 89.42% | Validation Equal Opportunity Disparity: 0.0248\n",
      "\n",
      " | Global Round : 1 | constraint :  Cov(z, d | y = 1) > -c\n",
      "\n"
     ]
    },
    {
     "name": "stderr",
     "output_type": "stream",
     "text": [
      "\n",
      " 10%|█         | 1/10 [00:16<02:29, 16.62s/it]\u001b[A"
     ]
    },
    {
     "name": "stdout",
     "output_type": "stream",
     "text": [
      "Client 1: accuracy loss: 151.69 | fairness loss 315038808.70 | Equal Opportunity Disparity = 0.02\n",
      "Client 2: accuracy loss: 55.24 | fairness loss 303931067.64 | Equal Opportunity Disparity = 0.00\n",
      "Client 3: accuracy loss: 132.90 | fairness loss 312553858.91 | Equal Opportunity Disparity = 0.03\n",
      " \n",
      "Avg Training Stats after 1 global rounds:\n",
      "Training loss: -276336.03 | Validation accuracy: 89.37% | Validation Equal Opportunity Disparity: 0.0157\n",
      "\n",
      " | Global Round : 2 | constraint :  Cov(z, d | y = 1) > -c\n",
      "\n"
     ]
    },
    {
     "name": "stderr",
     "output_type": "stream",
     "text": [
      "\n",
      " 20%|██        | 2/10 [00:33<02:12, 16.60s/it]\u001b[A"
     ]
    },
    {
     "name": "stdout",
     "output_type": "stream",
     "text": [
      "Client 1: accuracy loss: 160.20 | fairness loss 355668666.00 | Equal Opportunity Disparity = 0.02\n",
      "Client 2: accuracy loss: 58.38 | fairness loss 343110693.82 | Equal Opportunity Disparity = 0.00\n",
      "Client 3: accuracy loss: 140.47 | fairness loss 352860768.00 | Equal Opportunity Disparity = 0.03\n",
      " \n",
      "Avg Training Stats after 2 global rounds:\n",
      "Training loss: -306270.64 | Validation accuracy: 89.37% | Validation Equal Opportunity Disparity: 0.0157\n",
      "\n",
      " | Global Round : 3 | constraint :  Cov(z, d | y = 1) > -c\n",
      "\n"
     ]
    },
    {
     "name": "stderr",
     "output_type": "stream",
     "text": [
      "\n",
      " 30%|███       | 3/10 [00:49<01:56, 16.58s/it]\u001b[A"
     ]
    },
    {
     "name": "stdout",
     "output_type": "stream",
     "text": [
      "Client 1: accuracy loss: 168.88 | fairness loss 398752026.52 | Equal Opportunity Disparity = 0.02\n",
      "Client 2: accuracy loss: 61.57 | fairness loss 384656219.64 | Equal Opportunity Disparity = 0.00\n",
      "Client 3: accuracy loss: 148.20 | fairness loss 395600250.18 | Equal Opportunity Disparity = 0.03\n",
      " \n",
      "Avg Training Stats after 3 global rounds:\n",
      "Training loss: -333016.92 | Validation accuracy: 89.38% | Validation Equal Opportunity Disparity: 0.0182\n",
      "\n",
      " | Global Round : 4 | constraint :  Cov(z, d | y = 1) > -c\n",
      "\n"
     ]
    },
    {
     "name": "stderr",
     "output_type": "stream",
     "text": [
      "\n",
      " 40%|████      | 4/10 [01:06<01:39, 16.58s/it]\u001b[A"
     ]
    },
    {
     "name": "stdout",
     "output_type": "stream",
     "text": [
      "Client 1: accuracy loss: 177.71 | fairness loss 444288359.52 | Equal Opportunity Disparity = 0.02\n",
      "Client 2: accuracy loss: 64.80 | fairness loss 428566308.36 | Equal Opportunity Disparity = 0.00\n",
      "Client 3: accuracy loss: 156.06 | fairness loss 440772439.27 | Equal Opportunity Disparity = 0.03\n",
      " \n",
      "Avg Training Stats after 4 global rounds:\n",
      "Training loss: -357531.53 | Validation accuracy: 89.38% | Validation Equal Opportunity Disparity: 0.0182\n",
      "\n",
      " | Global Round : 5 | constraint :  Cov(z, d | y = 1) > -c\n",
      "\n"
     ]
    },
    {
     "name": "stderr",
     "output_type": "stream",
     "text": [
      "\n",
      " 50%|█████     | 5/10 [01:22<01:23, 16.61s/it]\u001b[A"
     ]
    },
    {
     "name": "stdout",
     "output_type": "stream",
     "text": [
      "Client 1: accuracy loss: 186.67 | fairness loss 492276810.80 | Equal Opportunity Disparity = 0.02\n",
      "Client 2: accuracy loss: 68.07 | fairness loss 474839885.09 | Equal Opportunity Disparity = 0.00\n",
      "Client 3: accuracy loss: 164.04 | fairness loss 488376753.45 | Equal Opportunity Disparity = 0.03\n",
      " \n",
      "Avg Training Stats after 5 global rounds:\n",
      "Training loss: -380423.23 | Validation accuracy: 89.38% | Validation Equal Opportunity Disparity: 0.0182\n",
      "\n",
      " | Global Round : 6 | constraint :  Cov(z, d | y = 1) > -c\n",
      "\n"
     ]
    },
    {
     "name": "stderr",
     "output_type": "stream",
     "text": [
      "\n",
      " 60%|██████    | 6/10 [01:39<01:06, 16.65s/it]\u001b[A"
     ]
    },
    {
     "name": "stdout",
     "output_type": "stream",
     "text": [
      "Client 1: accuracy loss: 195.74 | fairness loss 542717492.77 | Equal Opportunity Disparity = 0.03\n",
      "Client 2: accuracy loss: 71.39 | fairness loss 523476989.09 | Equal Opportunity Disparity = 0.00\n",
      "Client 3: accuracy loss: 172.13 | fairness loss 538413271.27 | Equal Opportunity Disparity = 0.00\n",
      " \n",
      "Avg Training Stats after 6 global rounds:\n",
      "Training loss: -402097.85 | Validation accuracy: 89.35% | Validation Equal Opportunity Disparity: 0.0135\n",
      "\n",
      " | Global Round : 7 | constraint :  Cov(z, d | y = 1) > -c\n",
      "\n"
     ]
    },
    {
     "name": "stderr",
     "output_type": "stream",
     "text": [
      "\n",
      " 70%|███████   | 7/10 [01:56<00:49, 16.62s/it]\u001b[A"
     ]
    },
    {
     "name": "stdout",
     "output_type": "stream",
     "text": [
      "Client 1: accuracy loss: 204.93 | fairness loss 595609673.68 | Equal Opportunity Disparity = 0.03\n",
      "Client 2: accuracy loss: 74.73 | fairness loss 574476887.27 | Equal Opportunity Disparity = 0.00\n",
      "Client 3: accuracy loss: 180.32 | fairness loss 590881341.09 | Equal Opportunity Disparity = 0.00\n",
      " \n",
      "Avg Training Stats after 7 global rounds:\n",
      "Training loss: -422836.35 | Validation accuracy: 89.35% | Validation Equal Opportunity Disparity: 0.0135\n",
      "\n",
      " | Global Round : 8 | constraint :  Cov(z, d | y = 1) > -c\n",
      "\n"
     ]
    },
    {
     "name": "stderr",
     "output_type": "stream",
     "text": [
      "\n",
      " 80%|████████  | 8/10 [02:12<00:33, 16.60s/it]\u001b[A"
     ]
    },
    {
     "name": "stdout",
     "output_type": "stream",
     "text": [
      "Client 1: accuracy loss: 214.22 | fairness loss 650953205.95 | Equal Opportunity Disparity = 0.03\n",
      "Client 2: accuracy loss: 78.11 | fairness loss 627839613.09 | Equal Opportunity Disparity = 0.00\n",
      "Client 3: accuracy loss: 188.59 | fairness loss 645780846.55 | Equal Opportunity Disparity = 0.00\n",
      " \n",
      "Avg Training Stats after 8 global rounds:\n",
      "Training loss: -442839.45 | Validation accuracy: 89.35% | Validation Equal Opportunity Disparity: 0.0135\n",
      "\n",
      " | Global Round : 9 | constraint :  Cov(z, d | y = 1) > -c\n",
      "\n"
     ]
    },
    {
     "name": "stderr",
     "output_type": "stream",
     "text": [
      "\n",
      " 90%|█████████ | 9/10 [02:29<00:16, 16.58s/it]\u001b[A"
     ]
    },
    {
     "name": "stdout",
     "output_type": "stream",
     "text": [
      "Client 1: accuracy loss: 223.60 | fairness loss 708747674.64 | Equal Opportunity Disparity = 0.03\n",
      "Client 2: accuracy loss: 81.52 | fairness loss 683564613.82 | Equal Opportunity Disparity = 0.00\n",
      "Client 3: accuracy loss: 196.95 | fairness loss 703111336.73 | Equal Opportunity Disparity = 0.00\n",
      " \n",
      "Avg Training Stats after 9 global rounds:\n",
      "Training loss: -462254.31 | Validation accuracy: 89.35% | Validation Equal Opportunity Disparity: 0.0135\n",
      "\n",
      " | Global Round : 10 | constraint :  Cov(z, d | y = 1) > -c\n",
      "\n"
     ]
    },
    {
     "name": "stderr",
     "output_type": "stream",
     "text": [
      "\n",
      "100%|██████████| 10/10 [02:45<00:00, 16.59s/it]\u001b[A"
     ]
    },
    {
     "name": "stdout",
     "output_type": "stream",
     "text": [
      "Client 1: accuracy loss: 233.07 | fairness loss 768991627.59 | Equal Opportunity Disparity = 0.03\n",
      "Client 2: accuracy loss: 84.96 | fairness loss 741650760.73 | Equal Opportunity Disparity = 0.00\n",
      "Client 3: accuracy loss: 205.40 | fairness loss 762871633.45 | Equal Opportunity Disparity = 0.00\n",
      " \n",
      "Avg Training Stats after 10 global rounds:\n",
      "Training loss: -481191.31 | Validation accuracy: 89.35% | Validation Equal Opportunity Disparity: 0.0135\n"
     ]
    },
    {
     "name": "stderr",
     "output_type": "stream",
     "text": [
      "\n"
     ]
    },
    {
     "name": "stdout",
     "output_type": "stream",
     "text": [
      " \n",
      " Results after 10 global rounds of training:\n",
      "|---- Avg Train Accuracy: 89.35%\n",
      "|---- Test Accuracy: 88.29%\n",
      "|---- Test Equal Opportunity Disparity: 0.0129\n",
      "\n",
      " Total Run Time: 266.1740 sec\n"
     ]
    }
   ],
   "source": [
    "server = Server(logReg(num_features=bank_num_features, num_classes=2, seed = seed), bank_info, train_prn = False, seed = seed, Z = bank_z)\n",
    "server.FairConstraints(test_rounds = 3, test_lr = 0.015, test_penalty = 2000, num_rounds = 10, local_epochs = 20, optimizer = 'adam', learning_rate = 0.003, penalty = 2000)\n"
   ]
  },
  {
   "cell_type": "code",
   "execution_count": null,
   "metadata": {},
   "outputs": [],
   "source": []
  }
 ],
 "metadata": {
  "kernelspec": {
   "display_name": "Python 3",
   "language": "python",
   "name": "python3"
  },
  "language_info": {
   "codemirror_mode": {
    "name": "ipython",
    "version": 3
   },
   "file_extension": ".py",
   "mimetype": "text/x-python",
   "name": "python",
   "nbconvert_exporter": "python",
   "pygments_lexer": "ipython3",
   "version": "3.7.4"
  }
 },
 "nbformat": 4,
 "nbformat_minor": 2
}
