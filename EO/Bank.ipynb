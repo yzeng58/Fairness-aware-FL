{
 "cells": [
  {
   "cell_type": "code",
   "execution_count": 2,
   "metadata": {},
   "outputs": [],
   "source": [
    "from Server import *\n",
    "from load_bank import *\n",
    "seed  = 123"
   ]
  },
  {
   "cell_type": "markdown",
   "metadata": {},
   "source": [
    "# Bank experiments"
   ]
  },
  {
   "cell_type": "code",
   "execution_count": 4,
   "metadata": {
    "scrolled": true
   },
   "outputs": [
    {
     "name": "stderr",
     "output_type": "stream",
     "text": [
      "\r",
      "  0%|          | 0/5 [00:00<?, ?it/s]"
     ]
    },
    {
     "name": "stdout",
     "output_type": "stream",
     "text": [
      "| seed: 0 |\n"
     ]
    },
    {
     "name": "stderr",
     "output_type": "stream",
     "text": [
      "100%|██████████| 5/5 [02:37<00:00, 31.59s/it]\n",
      "100%|██████████| 10/10 [04:50<00:00, 29.03s/it]\n",
      "  0%|          | 0/5 [00:00<?, ?it/s]"
     ]
    },
    {
     "name": "stdout",
     "output_type": "stream",
     "text": [
      "|------ Acc.: 0.899 | EO Dis.: 0.036 |\n",
      "|Post-processing: ------ Acc.: 0.898 | EO Dis.: 0.019 |\n",
      "| seed: 1 |\n"
     ]
    },
    {
     "name": "stderr",
     "output_type": "stream",
     "text": [
      "100%|██████████| 5/5 [04:05<00:00, 49.03s/it]\n",
      "100%|██████████| 10/10 [04:36<00:00, 27.65s/it]\n",
      "  0%|          | 0/5 [00:00<?, ?it/s]"
     ]
    },
    {
     "name": "stdout",
     "output_type": "stream",
     "text": [
      "|------ Acc.: 0.899 | EO Dis.: 0.035 |\n",
      "|Post-processing: ------ Acc.: 0.899 | EO Dis.: 0.032 |\n",
      "| seed: 2 |\n"
     ]
    },
    {
     "name": "stderr",
     "output_type": "stream",
     "text": [
      "100%|██████████| 5/5 [04:13<00:00, 50.73s/it]\n",
      "100%|██████████| 10/10 [04:47<00:00, 28.79s/it]\n",
      "  0%|          | 0/5 [00:00<?, ?it/s]"
     ]
    },
    {
     "name": "stdout",
     "output_type": "stream",
     "text": [
      "|------ Acc.: 0.899 | EO Dis.: 0.032 |\n",
      "|Post-processing: ------ Acc.: 0.897 | EO Dis.: 0.023 |\n",
      "| seed: 3 |\n"
     ]
    },
    {
     "name": "stderr",
     "output_type": "stream",
     "text": [
      "100%|██████████| 5/5 [04:25<00:00, 53.06s/it]\n",
      "100%|██████████| 10/10 [04:21<00:00, 26.13s/it]\n",
      "  0%|          | 0/5 [00:00<?, ?it/s]"
     ]
    },
    {
     "name": "stdout",
     "output_type": "stream",
     "text": [
      "|------ Acc.: 0.898 | EO Dis.: 0.050 |\n",
      "|Post-processing: ------ Acc.: 0.899 | EO Dis.: 0.038 |\n",
      "| seed: 4 |\n"
     ]
    },
    {
     "name": "stderr",
     "output_type": "stream",
     "text": [
      "100%|██████████| 5/5 [03:38<00:00, 43.78s/it]\n",
      "100%|██████████| 10/10 [03:44<00:00, 22.48s/it]\n",
      "  0%|          | 0/5 [00:00<?, ?it/s]"
     ]
    },
    {
     "name": "stdout",
     "output_type": "stream",
     "text": [
      "|------ Acc.: 0.898 | EO Dis.: 0.042 |\n",
      "|Post-processing: ------ Acc.: 0.899 | EO Dis.: 0.014 |\n",
      "| seed: 5 |\n"
     ]
    },
    {
     "name": "stderr",
     "output_type": "stream",
     "text": [
      "100%|██████████| 5/5 [03:13<00:00, 38.63s/it]\n",
      "100%|██████████| 10/10 [02:41<00:00, 16.10s/it]\n",
      "  0%|          | 0/5 [00:00<?, ?it/s]"
     ]
    },
    {
     "name": "stdout",
     "output_type": "stream",
     "text": [
      "|------ Acc.: 0.899 | EO Dis.: 0.030 |\n",
      "|Post-processing: ------ Acc.: 0.899 | EO Dis.: 0.028 |\n",
      "| seed: 6 |\n"
     ]
    },
    {
     "name": "stderr",
     "output_type": "stream",
     "text": [
      "100%|██████████| 5/5 [02:33<00:00, 30.70s/it]\n",
      "100%|██████████| 10/10 [02:41<00:00, 16.18s/it]\n",
      "  0%|          | 0/5 [00:00<?, ?it/s]"
     ]
    },
    {
     "name": "stdout",
     "output_type": "stream",
     "text": [
      "|------ Acc.: 0.899 | EO Dis.: 0.026 |\n",
      "|Post-processing: ------ Acc.: 0.898 | EO Dis.: 0.012 |\n",
      "| seed: 7 |\n"
     ]
    },
    {
     "name": "stderr",
     "output_type": "stream",
     "text": [
      "100%|██████████| 5/5 [01:50<00:00, 22.08s/it]\n",
      "100%|██████████| 10/10 [01:54<00:00, 11.41s/it]\n",
      "  0%|          | 0/5 [00:00<?, ?it/s]"
     ]
    },
    {
     "name": "stdout",
     "output_type": "stream",
     "text": [
      "|------ Acc.: 0.899 | EO Dis.: 0.025 |\n",
      "|Post-processing: ------ Acc.: 0.898 | EO Dis.: 0.035 |\n",
      "| seed: 8 |\n"
     ]
    },
    {
     "name": "stderr",
     "output_type": "stream",
     "text": [
      "100%|██████████| 5/5 [01:41<00:00, 20.36s/it]\n",
      "100%|██████████| 10/10 [01:51<00:00, 11.12s/it]\n",
      "  0%|          | 0/5 [00:00<?, ?it/s]"
     ]
    },
    {
     "name": "stdout",
     "output_type": "stream",
     "text": [
      "|------ Acc.: 0.899 | EO Dis.: 0.028 |\n",
      "|Post-processing: ------ Acc.: 0.898 | EO Dis.: 0.032 |\n",
      "| seed: 9 |\n"
     ]
    },
    {
     "name": "stderr",
     "output_type": "stream",
     "text": [
      "100%|██████████| 5/5 [01:37<00:00, 19.43s/it]\n",
      "100%|██████████| 10/10 [01:50<00:00, 11.00s/it]\n"
     ]
    },
    {
     "name": "stdout",
     "output_type": "stream",
     "text": [
      "|------ Acc.: 0.898 | EO Dis.: 0.046 |\n",
      "|Post-processing: ------ Acc.: 0.899 | EO Dis.: 0.014 |\n",
      "| Acc.: 0.899(0.000) | EO Dis.: 0.035(0.008) |\n",
      "|Post-processing: Acc.: 0.899(0.001) | EO Dis.: 0.025(0.009) |\n"
     ]
    }
   ],
   "source": [
    "acc, eo, acc_p, eo_p = np.zeros(10), np.zeros(10), np.zeros(10), np.zeros(10)\n",
    "for seed in range(10):\n",
    "    print(\"| seed: %d |\" % seed)\n",
    "    server = Server(logReg(num_features=bank_num_features, num_classes=2, seed = seed), bank_info, train_prn = False, seed = seed, ret = True, Z = bank_z)\n",
    "    acc[seed], eo[seed] = server.Unconstrained(num_rounds = 5, local_epochs = 20, optimizer = 'adam', learning_rate = 0.002)\n",
    "    acc_p[seed], eo_p[seed] = server.ThresholdAdjust(num_rounds = 10, local_epochs = 20, epsilon = 0.0001, learning_rate = 0.00011)\n",
    "    print(\"|------ Acc.: %.3f | EO Dis.: %.3f |\" % (acc[seed], eo[seed]))\n",
    "    print(\"|Post-processing: ------ Acc.: %.3f | EO Dis.: %.3f |\" % (acc_p[seed], eo_p[seed]))\n",
    "print(\"| Acc.: %.3f(%.3f) | EO Dis.: %.3f(%.3f) |\" % (acc.mean(), acc.std(), eo.mean(), eo.std()))\n",
    "print(\"|Post-processing: Acc.: %.3f(%.3f) | EO Dis.: %.3f(%.3f) |\" % (acc_p.mean(), acc_p.std(), eo_p.mean(), eo_p.std()))"
   ]
  },
  {
   "cell_type": "code",
   "execution_count": 6,
   "metadata": {
    "scrolled": true
   },
   "outputs": [
    {
     "name": "stderr",
     "output_type": "stream",
     "text": [
      "\r",
      "  0%|          | 0/10 [00:00<?, ?it/s]"
     ]
    },
    {
     "name": "stdout",
     "output_type": "stream",
     "text": [
      "| seed: 0 |\n"
     ]
    },
    {
     "name": "stderr",
     "output_type": "stream",
     "text": [
      "100%|██████████| 10/10 [13:05<00:00, 78.59s/it]\n"
     ]
    },
    {
     "name": "stdout",
     "output_type": "stream",
     "text": [
      "|------ Acc.: 0.894 | dp Dis.: 0.013 |\n",
      "| seed: 1 |\n"
     ]
    },
    {
     "name": "stderr",
     "output_type": "stream",
     "text": [
      "100%|██████████| 10/10 [19:33<00:00, 117.36s/it]\n"
     ]
    },
    {
     "name": "stdout",
     "output_type": "stream",
     "text": [
      "|------ Acc.: 0.893 | dp Dis.: 0.013 |\n",
      "| seed: 2 |\n"
     ]
    },
    {
     "name": "stderr",
     "output_type": "stream",
     "text": [
      "100%|██████████| 10/10 [16:26<00:00, 98.67s/it]\n",
      "  0%|          | 0/10 [00:00<?, ?it/s]"
     ]
    },
    {
     "name": "stdout",
     "output_type": "stream",
     "text": [
      "|------ Acc.: 0.895 | dp Dis.: 0.014 |\n",
      "| seed: 3 |\n"
     ]
    },
    {
     "name": "stderr",
     "output_type": "stream",
     "text": [
      "100%|██████████| 10/10 [16:27<00:00, 98.75s/it] \n"
     ]
    },
    {
     "name": "stdout",
     "output_type": "stream",
     "text": [
      "|------ Acc.: 0.896 | dp Dis.: 0.032 |\n",
      "| seed: 4 |\n"
     ]
    },
    {
     "name": "stderr",
     "output_type": "stream",
     "text": [
      "100%|██████████| 10/10 [16:38<00:00, 99.82s/it] \n"
     ]
    },
    {
     "name": "stdout",
     "output_type": "stream",
     "text": [
      "|------ Acc.: 0.898 | dp Dis.: 0.019 |\n",
      "| seed: 5 |\n"
     ]
    },
    {
     "name": "stderr",
     "output_type": "stream",
     "text": [
      "100%|██████████| 10/10 [12:37<00:00, 75.78s/it]\n",
      "  0%|          | 0/10 [00:00<?, ?it/s]"
     ]
    },
    {
     "name": "stdout",
     "output_type": "stream",
     "text": [
      "|------ Acc.: 0.894 | dp Dis.: 0.013 |\n",
      "| seed: 6 |\n"
     ]
    },
    {
     "name": "stderr",
     "output_type": "stream",
     "text": [
      "100%|██████████| 10/10 [10:33<00:00, 63.31s/it]\n",
      "  0%|          | 0/10 [00:00<?, ?it/s]"
     ]
    },
    {
     "name": "stdout",
     "output_type": "stream",
     "text": [
      "|------ Acc.: 0.893 | dp Dis.: 0.012 |\n",
      "| seed: 7 |\n"
     ]
    },
    {
     "name": "stderr",
     "output_type": "stream",
     "text": [
      "100%|██████████| 10/10 [10:14<00:00, 61.42s/it]\n",
      "  0%|          | 0/10 [00:00<?, ?it/s]"
     ]
    },
    {
     "name": "stdout",
     "output_type": "stream",
     "text": [
      "|------ Acc.: 0.894 | dp Dis.: 0.026 |\n",
      "| seed: 8 |\n"
     ]
    },
    {
     "name": "stderr",
     "output_type": "stream",
     "text": [
      "100%|██████████| 10/10 [10:25<00:00, 62.59s/it]\n",
      "  0%|          | 0/10 [00:00<?, ?it/s]"
     ]
    },
    {
     "name": "stdout",
     "output_type": "stream",
     "text": [
      "|------ Acc.: 0.894 | dp Dis.: 0.017 |\n",
      "| seed: 9 |\n"
     ]
    },
    {
     "name": "stderr",
     "output_type": "stream",
     "text": [
      "100%|██████████| 10/10 [09:09<00:00, 54.99s/it]\n"
     ]
    },
    {
     "name": "stdout",
     "output_type": "stream",
     "text": [
      "|------ Acc.: 0.899 | dp Dis.: 0.018 |\n",
      "| Acc.: 0.895(0.002) | dp Dis.: 0.018(0.006) |\n"
     ]
    }
   ],
   "source": [
    "acc, EO = np.zeros(10), np.zeros(10)\n",
    "for seed in range(10):\n",
    "    print(\"| seed: %d |\" % seed)\n",
    "    server = Server(logReg(num_features=bank_num_features, num_classes=2, seed = seed), bank_info, train_prn = False, seed = seed, ret = True, Z = bank_z)\n",
    "    acc[seed], EO[seed] = server.BiasCorrecting(num_rounds = 10, local_epochs = 20, optimizer = 'adam', learning_rate = 0.002, alpha = 20)\n",
    "    print(\"|------ Acc.: %.3f | EO Dis.: %.3f |\" % (acc[seed], EO[seed]))\n",
    "print(\"| Acc.: %.3f(%.3f) | EO Dis.: %.3f(%.3f) |\" % (acc.mean(), acc.std(), EO.mean(), EO.std()))"
   ]
  },
  {
   "cell_type": "code",
   "execution_count": 7,
   "metadata": {
    "scrolled": true
   },
   "outputs": [
    {
     "name": "stderr",
     "output_type": "stream",
     "text": [
      "\r",
      "  0%|          | 0/5 [00:00<?, ?it/s]"
     ]
    },
    {
     "name": "stdout",
     "output_type": "stream",
     "text": [
      "| seed: 0 |\n"
     ]
    },
    {
     "name": "stderr",
     "output_type": "stream",
     "text": [
      "100%|██████████| 5/5 [03:28<00:00, 41.71s/it]\n",
      "  0%|          | 0/5 [00:00<?, ?it/s]"
     ]
    },
    {
     "name": "stdout",
     "output_type": "stream",
     "text": [
      "|------ Acc.: 0.882 | dp Dis.: 0.000 |\n",
      "| seed: 1 |\n"
     ]
    },
    {
     "name": "stderr",
     "output_type": "stream",
     "text": [
      "100%|██████████| 5/5 [03:39<00:00, 43.85s/it]\n",
      "  0%|          | 0/5 [00:00<?, ?it/s]"
     ]
    },
    {
     "name": "stdout",
     "output_type": "stream",
     "text": [
      "|------ Acc.: 0.882 | dp Dis.: 0.000 |\n",
      "| seed: 2 |\n"
     ]
    },
    {
     "name": "stderr",
     "output_type": "stream",
     "text": [
      "100%|██████████| 5/5 [03:30<00:00, 42.20s/it]\n",
      "  0%|          | 0/5 [00:00<?, ?it/s]"
     ]
    },
    {
     "name": "stdout",
     "output_type": "stream",
     "text": [
      "|------ Acc.: 0.882 | dp Dis.: 0.000 |\n",
      "| seed: 3 |\n"
     ]
    },
    {
     "name": "stderr",
     "output_type": "stream",
     "text": [
      "100%|██████████| 5/5 [03:38<00:00, 43.70s/it]\n",
      "  0%|          | 0/5 [00:00<?, ?it/s]"
     ]
    },
    {
     "name": "stdout",
     "output_type": "stream",
     "text": [
      "|------ Acc.: 0.882 | dp Dis.: 0.000 |\n",
      "| seed: 4 |\n"
     ]
    },
    {
     "name": "stderr",
     "output_type": "stream",
     "text": [
      "100%|██████████| 5/5 [03:01<00:00, 36.21s/it]\n",
      "  0%|          | 0/5 [00:00<?, ?it/s]"
     ]
    },
    {
     "name": "stdout",
     "output_type": "stream",
     "text": [
      "|------ Acc.: 0.882 | dp Dis.: 0.000 |\n",
      "| seed: 5 |\n"
     ]
    },
    {
     "name": "stderr",
     "output_type": "stream",
     "text": [
      "100%|██████████| 5/5 [02:44<00:00, 32.87s/it]\n",
      "  0%|          | 0/5 [00:00<?, ?it/s]"
     ]
    },
    {
     "name": "stdout",
     "output_type": "stream",
     "text": [
      "|------ Acc.: 0.882 | dp Dis.: 0.000 |\n",
      "| seed: 6 |\n"
     ]
    },
    {
     "name": "stderr",
     "output_type": "stream",
     "text": [
      "100%|██████████| 5/5 [02:36<00:00, 31.34s/it]\n",
      "  0%|          | 0/5 [00:00<?, ?it/s]"
     ]
    },
    {
     "name": "stdout",
     "output_type": "stream",
     "text": [
      "|------ Acc.: 0.882 | dp Dis.: 0.000 |\n",
      "| seed: 7 |\n"
     ]
    },
    {
     "name": "stderr",
     "output_type": "stream",
     "text": [
      "100%|██████████| 5/5 [01:56<00:00, 23.27s/it]\n",
      "  0%|          | 0/5 [00:00<?, ?it/s]"
     ]
    },
    {
     "name": "stdout",
     "output_type": "stream",
     "text": [
      "|------ Acc.: 0.882 | dp Dis.: 0.000 |\n",
      "| seed: 8 |\n"
     ]
    },
    {
     "name": "stderr",
     "output_type": "stream",
     "text": [
      "100%|██████████| 5/5 [01:51<00:00, 22.40s/it]\n",
      "  0%|          | 0/5 [00:00<?, ?it/s]"
     ]
    },
    {
     "name": "stdout",
     "output_type": "stream",
     "text": [
      "|------ Acc.: 0.882 | dp Dis.: 0.000 |\n",
      "| seed: 9 |\n"
     ]
    },
    {
     "name": "stderr",
     "output_type": "stream",
     "text": [
      "100%|██████████| 5/5 [01:46<00:00, 21.30s/it]\n"
     ]
    },
    {
     "name": "stdout",
     "output_type": "stream",
     "text": [
      "|------ Acc.: 0.882 | dp Dis.: 0.000 |\n",
      "| Acc.: 0.882(0.000) | dp Dis.: 0.000(0.000) |\n"
     ]
    }
   ],
   "source": [
    "acc, EO = np.zeros(10), np.zeros(10)\n",
    "for seed in range(10):\n",
    "    print(\"| seed: %d |\" % seed)\n",
    "    server = Server(logReg(num_features=bank_num_features, num_classes=2, seed = seed), bank_info, train_prn = False, seed = seed, ret = True, Z = bank_z)\n",
    "    acc[seed], EO[seed] = server.LocalFC(num_rounds = 5, local_epochs = 20, optimizer = 'adam', learning_rate = 0.002, penalty = 50)\n",
    "    print(\"|------ Acc.: %.3f | EO Dis.: %.3f |\" % (acc[seed], EO[seed]))\n",
    "print(\"| Acc.: %.3f(%.3f) | EO Dis.: %.3f(%.3f) |\" % (acc.mean(), acc.std(), EO.mean(), EO.std()))"
   ]
  },
  {
   "cell_type": "code",
   "execution_count": 8,
   "metadata": {
    "scrolled": true
   },
   "outputs": [
    {
     "name": "stderr",
     "output_type": "stream",
     "text": [
      "\r",
      "  0%|          | 0/3 [00:00<?, ?it/s]"
     ]
    },
    {
     "name": "stdout",
     "output_type": "stream",
     "text": [
      "| seed: 0 |\n"
     ]
    },
    {
     "name": "stderr",
     "output_type": "stream",
     "text": [
      "100%|██████████| 3/3 [00:58<00:00, 19.38s/it]\n",
      "100%|██████████| 3/3 [01:04<00:00, 21.56s/it]\n",
      "100%|██████████| 10/10 [03:20<00:00, 20.02s/it]\n",
      "  0%|          | 0/3 [00:00<?, ?it/s]"
     ]
    },
    {
     "name": "stdout",
     "output_type": "stream",
     "text": [
      "|------ Acc.: 0.883 | dp Dis.: 0.014 |\n",
      "| seed: 1 |\n"
     ]
    },
    {
     "name": "stderr",
     "output_type": "stream",
     "text": [
      "100%|██████████| 3/3 [00:58<00:00, 19.50s/it]\n",
      "100%|██████████| 3/3 [00:58<00:00, 19.44s/it]\n",
      "100%|██████████| 10/10 [03:21<00:00, 20.19s/it]\n",
      "  0%|          | 0/3 [00:00<?, ?it/s]"
     ]
    },
    {
     "name": "stdout",
     "output_type": "stream",
     "text": [
      "|------ Acc.: 0.883 | dp Dis.: 0.007 |\n",
      "| seed: 2 |\n"
     ]
    },
    {
     "name": "stderr",
     "output_type": "stream",
     "text": [
      "100%|██████████| 3/3 [01:00<00:00, 20.13s/it]\n",
      "100%|██████████| 3/3 [00:59<00:00, 19.93s/it]\n",
      "100%|██████████| 10/10 [03:20<00:00, 20.01s/it]\n",
      "  0%|          | 0/3 [00:00<?, ?it/s]"
     ]
    },
    {
     "name": "stdout",
     "output_type": "stream",
     "text": [
      "|------ Acc.: 0.883 | dp Dis.: 0.009 |\n",
      "| seed: 3 |\n"
     ]
    },
    {
     "name": "stderr",
     "output_type": "stream",
     "text": [
      "100%|██████████| 3/3 [00:58<00:00, 19.38s/it]\n",
      "100%|██████████| 3/3 [01:02<00:00, 20.96s/it]\n",
      "100%|██████████| 10/10 [03:13<00:00, 19.39s/it]\n",
      "  0%|          | 0/3 [00:00<?, ?it/s]"
     ]
    },
    {
     "name": "stdout",
     "output_type": "stream",
     "text": [
      "|------ Acc.: 0.883 | dp Dis.: 0.005 |\n",
      "| seed: 4 |\n"
     ]
    },
    {
     "name": "stderr",
     "output_type": "stream",
     "text": [
      "100%|██████████| 3/3 [00:58<00:00, 19.51s/it]\n",
      "100%|██████████| 3/3 [01:03<00:00, 21.05s/it]\n",
      "100%|██████████| 10/10 [03:18<00:00, 19.81s/it]\n",
      "  0%|          | 0/3 [00:00<?, ?it/s]"
     ]
    },
    {
     "name": "stdout",
     "output_type": "stream",
     "text": [
      "|------ Acc.: 0.883 | dp Dis.: 0.007 |\n",
      "| seed: 5 |\n"
     ]
    },
    {
     "name": "stderr",
     "output_type": "stream",
     "text": [
      "100%|██████████| 3/3 [00:58<00:00, 19.44s/it]\n",
      "100%|██████████| 3/3 [00:58<00:00, 19.50s/it]\n",
      "100%|██████████| 10/10 [03:27<00:00, 20.72s/it]\n",
      "  0%|          | 0/3 [00:00<?, ?it/s]"
     ]
    },
    {
     "name": "stdout",
     "output_type": "stream",
     "text": [
      "|------ Acc.: 0.883 | dp Dis.: 0.025 |\n",
      "| seed: 6 |\n"
     ]
    },
    {
     "name": "stderr",
     "output_type": "stream",
     "text": [
      "100%|██████████| 3/3 [00:57<00:00, 19.28s/it]\n",
      "100%|██████████| 3/3 [00:59<00:00, 19.88s/it]\n",
      "100%|██████████| 10/10 [03:14<00:00, 19.48s/it]\n",
      "  0%|          | 0/3 [00:00<?, ?it/s]"
     ]
    },
    {
     "name": "stdout",
     "output_type": "stream",
     "text": [
      "|------ Acc.: 0.883 | dp Dis.: 0.013 |\n",
      "| seed: 7 |\n"
     ]
    },
    {
     "name": "stderr",
     "output_type": "stream",
     "text": [
      "100%|██████████| 3/3 [00:57<00:00, 19.28s/it]\n",
      "100%|██████████| 3/3 [01:00<00:00, 20.04s/it]\n",
      "100%|██████████| 10/10 [03:13<00:00, 19.32s/it]\n",
      "  0%|          | 0/3 [00:00<?, ?it/s]"
     ]
    },
    {
     "name": "stdout",
     "output_type": "stream",
     "text": [
      "|------ Acc.: 0.883 | dp Dis.: 0.014 |\n",
      "| seed: 8 |\n"
     ]
    },
    {
     "name": "stderr",
     "output_type": "stream",
     "text": [
      "100%|██████████| 3/3 [01:00<00:00, 20.04s/it]\n",
      "100%|██████████| 3/3 [00:59<00:00, 19.87s/it]\n",
      "100%|██████████| 10/10 [03:04<00:00, 18.40s/it]\n",
      "  0%|          | 0/3 [00:00<?, ?it/s]"
     ]
    },
    {
     "name": "stdout",
     "output_type": "stream",
     "text": [
      "|------ Acc.: 0.883 | dp Dis.: 0.014 |\n",
      "| seed: 9 |\n"
     ]
    },
    {
     "name": "stderr",
     "output_type": "stream",
     "text": [
      "100%|██████████| 3/3 [00:49<00:00, 16.58s/it]\n",
      "100%|██████████| 3/3 [00:48<00:00, 16.30s/it]\n",
      "100%|██████████| 10/10 [02:43<00:00, 16.32s/it]\n"
     ]
    },
    {
     "name": "stdout",
     "output_type": "stream",
     "text": [
      "|------ Acc.: 0.883 | dp Dis.: 0.008 |\n",
      "| Acc.: 0.883(0.000) | dp Dis.: 0.012(0.005) |\n"
     ]
    }
   ],
   "source": [
    "acc, EO = np.zeros(10), np.zeros(10)\n",
    "for seed in range(10):\n",
    "    print(\"| seed: %d |\" % seed)\n",
    "    server = Server(logReg(num_features=bank_num_features, num_classes=2, seed = seed), bank_info, train_prn = False, seed = seed, ret = True, Z = bank_z)\n",
    "    acc[seed], EO[seed] = server.FairConstraints(test_rounds = 3, test_lr = 0.015, test_penalty = 2000, num_rounds = 10, local_epochs = 20, optimizer = 'adam', learning_rate = 0.003, penalty = 2000)\n",
    "    print(\"|------ Acc.: %.3f | EO Dis.: %.3f |\" % (acc[seed], EO[seed]))\n",
    "print(\"| Acc.: %.3f(%.3f) | EO Dis.: %.3f(%.3f) |\" % (acc.mean(), acc.std(), EO.mean(), EO.std()))"
   ]
  },
  {
   "cell_type": "code",
   "execution_count": 9,
   "metadata": {
    "scrolled": true
   },
   "outputs": [
    {
     "name": "stderr",
     "output_type": "stream",
     "text": [
      "\r",
      "  0%|          | 0/10 [00:00<?, ?it/s]"
     ]
    },
    {
     "name": "stdout",
     "output_type": "stream",
     "text": [
      "| seed: 0 |\n"
     ]
    },
    {
     "name": "stderr",
     "output_type": "stream",
     "text": [
      "100%|██████████| 10/10 [03:57<00:00, 23.76s/it]\n",
      "  0%|          | 0/10 [00:00<?, ?it/s]"
     ]
    },
    {
     "name": "stdout",
     "output_type": "stream",
     "text": [
      "|------ Acc.: 0.882 | dp Dis.: 0.000 |\n",
      "| seed: 1 |\n"
     ]
    },
    {
     "name": "stderr",
     "output_type": "stream",
     "text": [
      "100%|██████████| 10/10 [03:57<00:00, 23.77s/it]\n",
      "  0%|          | 0/10 [00:00<?, ?it/s]"
     ]
    },
    {
     "name": "stdout",
     "output_type": "stream",
     "text": [
      "|------ Acc.: 0.890 | dp Dis.: 0.079 |\n",
      "| seed: 2 |\n"
     ]
    },
    {
     "name": "stderr",
     "output_type": "stream",
     "text": [
      "100%|██████████| 10/10 [03:57<00:00, 23.71s/it]\n",
      "  0%|          | 0/10 [00:00<?, ?it/s]"
     ]
    },
    {
     "name": "stdout",
     "output_type": "stream",
     "text": [
      "|------ Acc.: 0.882 | dp Dis.: 0.000 |\n",
      "| seed: 3 |\n"
     ]
    },
    {
     "name": "stderr",
     "output_type": "stream",
     "text": [
      "100%|██████████| 10/10 [03:56<00:00, 23.66s/it]\n",
      "  0%|          | 0/10 [00:00<?, ?it/s]"
     ]
    },
    {
     "name": "stdout",
     "output_type": "stream",
     "text": [
      "|------ Acc.: 0.882 | dp Dis.: 0.000 |\n",
      "| seed: 4 |\n"
     ]
    },
    {
     "name": "stderr",
     "output_type": "stream",
     "text": [
      "100%|██████████| 10/10 [03:56<00:00, 23.65s/it]\n",
      "  0%|          | 0/10 [00:00<?, ?it/s]"
     ]
    },
    {
     "name": "stdout",
     "output_type": "stream",
     "text": [
      "|------ Acc.: 0.882 | dp Dis.: 0.000 |\n",
      "| seed: 5 |\n"
     ]
    },
    {
     "name": "stderr",
     "output_type": "stream",
     "text": [
      "100%|██████████| 10/10 [03:59<00:00, 23.92s/it]\n",
      "  0%|          | 0/10 [00:00<?, ?it/s]"
     ]
    },
    {
     "name": "stdout",
     "output_type": "stream",
     "text": [
      "|------ Acc.: 0.882 | dp Dis.: 0.000 |\n",
      "| seed: 6 |\n"
     ]
    },
    {
     "name": "stderr",
     "output_type": "stream",
     "text": [
      "100%|██████████| 10/10 [03:57<00:00, 23.74s/it]\n",
      "  0%|          | 0/10 [00:00<?, ?it/s]"
     ]
    },
    {
     "name": "stdout",
     "output_type": "stream",
     "text": [
      "|------ Acc.: 0.882 | dp Dis.: 0.000 |\n",
      "| seed: 7 |\n"
     ]
    },
    {
     "name": "stderr",
     "output_type": "stream",
     "text": [
      "100%|██████████| 10/10 [03:58<00:00, 23.80s/it]\n",
      "  0%|          | 0/10 [00:00<?, ?it/s]"
     ]
    },
    {
     "name": "stdout",
     "output_type": "stream",
     "text": [
      "|------ Acc.: 0.882 | dp Dis.: 0.000 |\n",
      "| seed: 8 |\n"
     ]
    },
    {
     "name": "stderr",
     "output_type": "stream",
     "text": [
      "100%|██████████| 10/10 [03:56<00:00, 23.65s/it]\n",
      "  0%|          | 0/10 [00:00<?, ?it/s]"
     ]
    },
    {
     "name": "stdout",
     "output_type": "stream",
     "text": [
      "|------ Acc.: 0.882 | dp Dis.: 0.000 |\n",
      "| seed: 9 |\n"
     ]
    },
    {
     "name": "stderr",
     "output_type": "stream",
     "text": [
      "100%|██████████| 10/10 [03:56<00:00, 23.67s/it]\n"
     ]
    },
    {
     "name": "stdout",
     "output_type": "stream",
     "text": [
      "|------ Acc.: 0.882 | dp Dis.: 0.000 |\n",
      "| Acc.: 0.883(0.002) | dp Dis.: 0.008(0.024) |\n"
     ]
    }
   ],
   "source": [
    "acc, EO = np.zeros(10), np.zeros(10)\n",
    "for seed in range(10):\n",
    "    print(\"| seed: %d |\" % seed)\n",
    "    server = Server(logReg(num_features=bank_num_features, num_classes=2, seed = seed), bank_info, train_prn = False, seed = seed, ret = True, Z = bank_z)\n",
    "    acc[seed], EO[seed] = server.FTrain(num_rounds = 10, local_epochs = 30, init_epochs = 50, lr_g = 0.005, lr_d = 0.01, lambda_d = 0.9)\n",
    "    print(\"|------ Acc.: %.3f | EO Dis.: %.3f |\" % (acc[seed], EO[seed]))\n",
    "print(\"| Acc.: %.3f(%.3f) | EO Dis.: %.3f(%.3f) |\" % (acc.mean(), acc.std(), EO.mean(), EO.std()))"
   ]
  },
  {
   "cell_type": "markdown",
   "metadata": {},
   "source": [
    "# Other"
   ]
  },
  {
   "cell_type": "code",
   "execution_count": null,
   "metadata": {
    "scrolled": true
   },
   "outputs": [
    {
     "name": "stderr",
     "output_type": "stream",
     "text": [
      "\r",
      "  0%|          | 0/10 [00:00<?, ?it/s]"
     ]
    },
    {
     "name": "stdout",
     "output_type": "stream",
     "text": [
      "\n",
      " | Global Training Round : 1 |\n",
      "\n"
     ]
    },
    {
     "name": "stderr",
     "output_type": "stream",
     "text": [
      "\r",
      " 10%|█         | 1/10 [00:37<05:37, 37.50s/it]"
     ]
    },
    {
     "name": "stdout",
     "output_type": "stream",
     "text": [
      "Client 1: accuracy loss: 44.14 | fairness loss 365.63 | Equal Opportunity Disparity = 0.09\n",
      "Client 2: accuracy loss: 15.16 | fairness loss 349.43 | Equal Opportunity Disparity = 0.00\n",
      "Client 3: accuracy loss: 39.83 | fairness loss 350.43 | Equal Opportunity Disparity = 0.08\n",
      " \n",
      "Avg Training Stats after 1 global rounds:\n",
      "Training loss: 42.19 | Validation accuracy: 89.86% | Validation Equal Opportunity Disparity: 0.0614\n",
      "\n",
      " | Global Training Round : 2 |\n",
      "\n"
     ]
    },
    {
     "name": "stderr",
     "output_type": "stream",
     "text": [
      "\r",
      " 20%|██        | 2/10 [01:40<06:01, 45.19s/it]"
     ]
    },
    {
     "name": "stdout",
     "output_type": "stream",
     "text": [
      "Client 1: accuracy loss: 42.42 | fairness loss 521.44 | Equal Opportunity Disparity = 0.09\n",
      "Client 2: accuracy loss: 14.62 | fairness loss 486.58 | Equal Opportunity Disparity = 0.17\n",
      "Client 3: accuracy loss: 38.50 | fairness loss 507.40 | Equal Opportunity Disparity = 0.07\n",
      " \n",
      "Avg Training Stats after 2 global rounds:\n",
      "Training loss: 40.07 | Validation accuracy: 90.27% | Validation Equal Opportunity Disparity: 0.0883\n",
      "\n",
      " | Global Training Round : 3 |\n",
      "\n"
     ]
    }
   ],
   "source": [
    "server = Server(logReg(num_features=bank_num_features, num_classes=2, seed = seed), bank_info, train_prn = False, seed = seed, Z = bank_z)\n",
    "server.Unconstrained(num_rounds = 10, local_epochs = 30, optimizer = 'adam', learning_rate = 0.0002)"
   ]
  },
  {
   "cell_type": "code",
   "execution_count": 8,
   "metadata": {
    "scrolled": true
   },
   "outputs": [
    {
     "name": "stderr",
     "output_type": "stream",
     "text": [
      " 10%|█         | 1/10 [00:09<01:25,  9.51s/it]"
     ]
    },
    {
     "name": "stdout",
     "output_type": "stream",
     "text": [
      " \n",
      "Avg Training Stats after 1 threshold adjusting global rounds:\n",
      "Training loss: 671.15 | Train accuracy: 90.28% | Train Equal Opportunity Disparity: 0.0329\n"
     ]
    },
    {
     "name": "stderr",
     "output_type": "stream",
     "text": [
      "\r",
      " 20%|██        | 2/10 [00:17<01:13,  9.20s/it]"
     ]
    },
    {
     "name": "stdout",
     "output_type": "stream",
     "text": [
      " \n",
      "Avg Training Stats after 2 threshold adjusting global rounds:\n",
      "Training loss: 672.67 | Train accuracy: 90.29% | Train Equal Opportunity Disparity: 0.0308\n"
     ]
    },
    {
     "name": "stderr",
     "output_type": "stream",
     "text": [
      "\r",
      " 30%|███       | 3/10 [00:27<01:05,  9.34s/it]"
     ]
    },
    {
     "name": "stdout",
     "output_type": "stream",
     "text": [
      " \n",
      "Avg Training Stats after 3 threshold adjusting global rounds:\n",
      "Training loss: 674.94 | Train accuracy: 90.31% | Train Equal Opportunity Disparity: 0.0284\n"
     ]
    },
    {
     "name": "stderr",
     "output_type": "stream",
     "text": [
      "\r",
      " 40%|████      | 4/10 [00:38<00:58,  9.67s/it]"
     ]
    },
    {
     "name": "stdout",
     "output_type": "stream",
     "text": [
      " \n",
      "Avg Training Stats after 4 threshold adjusting global rounds:\n",
      "Training loss: 677.44 | Train accuracy: 90.31% | Train Equal Opportunity Disparity: 0.0247\n"
     ]
    },
    {
     "name": "stderr",
     "output_type": "stream",
     "text": [
      "\r",
      " 50%|█████     | 5/10 [00:49<00:50, 10.16s/it]"
     ]
    },
    {
     "name": "stdout",
     "output_type": "stream",
     "text": [
      " \n",
      "Avg Training Stats after 5 threshold adjusting global rounds:\n",
      "Training loss: 679.28 | Train accuracy: 90.30% | Train Equal Opportunity Disparity: 0.0240\n"
     ]
    },
    {
     "name": "stderr",
     "output_type": "stream",
     "text": [
      "\r",
      " 60%|██████    | 6/10 [00:59<00:40, 10.14s/it]"
     ]
    },
    {
     "name": "stdout",
     "output_type": "stream",
     "text": [
      " \n",
      "Avg Training Stats after 6 threshold adjusting global rounds:\n",
      "Training loss: 681.24 | Train accuracy: 90.32% | Train Equal Opportunity Disparity: 0.0219\n"
     ]
    },
    {
     "name": "stderr",
     "output_type": "stream",
     "text": [
      "\r",
      " 70%|███████   | 7/10 [01:09<00:30, 10.20s/it]"
     ]
    },
    {
     "name": "stdout",
     "output_type": "stream",
     "text": [
      " \n",
      "Avg Training Stats after 7 threshold adjusting global rounds:\n",
      "Training loss: 683.96 | Train accuracy: 90.32% | Train Equal Opportunity Disparity: 0.0169\n"
     ]
    },
    {
     "name": "stderr",
     "output_type": "stream",
     "text": [
      "\r",
      " 80%|████████  | 8/10 [01:19<00:19,  9.98s/it]"
     ]
    },
    {
     "name": "stdout",
     "output_type": "stream",
     "text": [
      " \n",
      "Avg Training Stats after 8 threshold adjusting global rounds:\n",
      "Training loss: 685.58 | Train accuracy: 90.31% | Train Equal Opportunity Disparity: 0.0161\n"
     ]
    },
    {
     "name": "stderr",
     "output_type": "stream",
     "text": [
      "\r",
      " 90%|█████████ | 9/10 [01:29<00:10, 10.03s/it]"
     ]
    },
    {
     "name": "stdout",
     "output_type": "stream",
     "text": [
      " \n",
      "Avg Training Stats after 9 threshold adjusting global rounds:\n",
      "Training loss: 688.00 | Train accuracy: 90.32% | Train Equal Opportunity Disparity: 0.0127\n"
     ]
    },
    {
     "name": "stderr",
     "output_type": "stream",
     "text": [
      "100%|██████████| 10/10 [01:38<00:00,  9.82s/it]"
     ]
    },
    {
     "name": "stdout",
     "output_type": "stream",
     "text": [
      " \n",
      "Avg Training Stats after 10 threshold adjusting global rounds:\n",
      "Training loss: 689.71 | Train accuracy: 90.31% | Train Equal Opportunity Disparity: 0.0118\n"
     ]
    },
    {
     "name": "stderr",
     "output_type": "stream",
     "text": [
      "\n"
     ]
    },
    {
     "name": "stdout",
     "output_type": "stream",
     "text": [
      " \n",
      " Results after 10 global rounds of training:\n",
      "|---- Test Accuracy: 89.74%\n",
      "|---- Test Equal Opportunity Disparity: 0.0286\n",
      "\n",
      " Total Run Time: 98.8066 sec\n"
     ]
    }
   ],
   "source": [
    "server.ThresholdAdjust(num_rounds = 10, local_epochs = 20, epsilon = 0.0001, learning_rate = 0.0001)"
   ]
  },
  {
   "cell_type": "code",
   "execution_count": 3,
   "metadata": {
    "scrolled": true
   },
   "outputs": [
    {
     "name": "stderr",
     "output_type": "stream",
     "text": [
      "\r",
      "  0%|          | 0/3 [00:00<?, ?it/s]"
     ]
    },
    {
     "name": "stdout",
     "output_type": "stream",
     "text": [
      "\n",
      " | Global Training Round : 1 |\n",
      "\n",
      "Client 1: accuracy loss: 43.35 | fairness loss 227.98 | Equal Opportunity Disparity = 0.04\n",
      "Client 2: accuracy loss: 37.90 | fairness loss 212.21 | Equal Opportunity Disparity = 0.06\n"
     ]
    },
    {
     "name": "stderr",
     "output_type": "stream",
     "text": [
      "\r",
      " 33%|███▎      | 1/3 [00:30<01:01, 30.62s/it]"
     ]
    },
    {
     "name": "stdout",
     "output_type": "stream",
     "text": [
      "Client 3: accuracy loss: 42.72 | fairness loss 227.93 | Equal Opportunity Disparity = 0.06\n",
      " \n",
      "Avg Training Stats after 1 global rounds:\n",
      "Training loss: 0.29 | Training accuracy: 89.74% | Training Equal Opportunity Disparity: 0.0451\n",
      "\n",
      " | Global Training Round : 2 |\n",
      "\n",
      "Client 1: accuracy loss: 42.49 | fairness loss 239.31 | Equal Opportunity Disparity = 0.04\n",
      "Client 2: accuracy loss: 37.00 | fairness loss 219.13 | Equal Opportunity Disparity = 0.06\n"
     ]
    },
    {
     "name": "stderr",
     "output_type": "stream",
     "text": [
      "\r",
      " 67%|██████▋   | 2/3 [01:05<00:31, 31.83s/it]"
     ]
    },
    {
     "name": "stdout",
     "output_type": "stream",
     "text": [
      "Client 3: accuracy loss: 41.82 | fairness loss 240.25 | Equal Opportunity Disparity = 0.05\n",
      " \n",
      "Avg Training Stats after 2 global rounds:\n",
      "Training loss: 0.28 | Training accuracy: 89.88% | Training Equal Opportunity Disparity: 0.0422\n",
      "\n",
      " | Global Training Round : 3 |\n",
      "\n",
      "Client 1: accuracy loss: 42.42 | fairness loss 236.86 | Equal Opportunity Disparity = 0.04\n",
      "Client 2: accuracy loss: 36.92 | fairness loss 215.95 | Equal Opportunity Disparity = 0.06\n"
     ]
    },
    {
     "name": "stderr",
     "output_type": "stream",
     "text": [
      "100%|██████████| 3/3 [01:36<00:00, 32.20s/it]"
     ]
    },
    {
     "name": "stdout",
     "output_type": "stream",
     "text": [
      "Client 3: accuracy loss: 41.74 | fairness loss 237.88 | Equal Opportunity Disparity = 0.05\n",
      " \n",
      "Avg Training Stats after 3 global rounds:\n",
      "Training loss: 0.28 | Training accuracy: 89.88% | Training Equal Opportunity Disparity: 0.0413\n"
     ]
    },
    {
     "name": "stderr",
     "output_type": "stream",
     "text": [
      "\n"
     ]
    },
    {
     "name": "stdout",
     "output_type": "stream",
     "text": [
      " \n",
      " Results after 3 global rounds of training:\n",
      "|---- Avg Train Accuracy: 89.88%\n",
      "|---- Test Accuracy: 89.43%\n",
      "|---- Test Equal Opportunity Disparity: 0.0302\n",
      "\n",
      " Total Run Time: 96.8459 sec\n"
     ]
    }
   ],
   "source": [
    "server = Server(logReg(num_features=bank_num_features, num_classes=2, seed = seed), bank_info, train_prn = False, seed = seed, Z = bank_z)\n",
    "server.FBVariant(num_rounds = 3, local_epochs = 30, optimizer = 'adam', learning_rate = 0.002, alpha = 0.0002)"
   ]
  },
  {
   "cell_type": "code",
   "execution_count": 10,
   "metadata": {
    "scrolled": true
   },
   "outputs": [
    {
     "name": "stderr",
     "output_type": "stream",
     "text": [
      "\r",
      "  0%|          | 0/10 [00:00<?, ?it/s]"
     ]
    },
    {
     "name": "stdout",
     "output_type": "stream",
     "text": [
      "\n",
      " | Global Training Round : 1 |\n",
      "\n"
     ]
    },
    {
     "name": "stderr",
     "output_type": "stream",
     "text": [
      "\r",
      " 10%|█         | 1/10 [00:25<03:53, 25.99s/it]"
     ]
    },
    {
     "name": "stdout",
     "output_type": "stream",
     "text": [
      "Client 1: accuracy loss: 51.12 | fairness loss 168.84 | Equal Opportunity Disparity = 0.06\n",
      "Client 2: accuracy loss: 17.71 | fairness loss 166.62 | Equal Opportunity Disparity = 0.16\n",
      "Client 3: accuracy loss: 43.71 | fairness loss 164.72 | Equal Opportunity Disparity = 0.08\n",
      " \n",
      "Avg Training Stats after 1 global rounds:\n",
      "Training loss: 0.30 | Validation accuracy: 90.34% | Validation Equal Opportunity Disparity: 0.0689\n",
      "\n",
      " | Global Training Round : 2 |\n",
      "\n"
     ]
    },
    {
     "name": "stderr",
     "output_type": "stream",
     "text": [
      "\r",
      " 20%|██        | 2/10 [00:50<03:25, 25.68s/it]"
     ]
    },
    {
     "name": "stdout",
     "output_type": "stream",
     "text": [
      "Client 1: accuracy loss: 50.02 | fairness loss 164.29 | Equal Opportunity Disparity = 0.11\n",
      "Client 2: accuracy loss: 17.40 | fairness loss 153.60 | Equal Opportunity Disparity = 0.14\n",
      "Client 3: accuracy loss: 42.78 | fairness loss 157.49 | Equal Opportunity Disparity = 0.09\n",
      " \n",
      "Avg Training Stats after 2 global rounds:\n",
      "Training loss: 0.29 | Validation accuracy: 90.37% | Validation Equal Opportunity Disparity: 0.1086\n",
      "\n",
      " | Global Training Round : 3 |\n",
      "\n"
     ]
    },
    {
     "name": "stderr",
     "output_type": "stream",
     "text": [
      "\r",
      " 30%|███       | 3/10 [01:18<03:04, 26.32s/it]"
     ]
    },
    {
     "name": "stdout",
     "output_type": "stream",
     "text": [
      "Client 1: accuracy loss: 49.67 | fairness loss 166.07 | Equal Opportunity Disparity = 0.10\n",
      "Client 2: accuracy loss: 17.31 | fairness loss 154.44 | Equal Opportunity Disparity = 0.14\n",
      "Client 3: accuracy loss: 42.55 | fairness loss 157.10 | Equal Opportunity Disparity = 0.12\n",
      " \n",
      "Avg Training Stats after 3 global rounds:\n",
      "Training loss: 0.29 | Validation accuracy: 90.54% | Validation Equal Opportunity Disparity: 0.0862\n",
      "\n",
      " | Global Training Round : 4 |\n",
      "\n"
     ]
    },
    {
     "name": "stderr",
     "output_type": "stream",
     "text": [
      "\r",
      " 40%|████      | 4/10 [01:41<02:30, 25.13s/it]"
     ]
    },
    {
     "name": "stdout",
     "output_type": "stream",
     "text": [
      "Client 1: accuracy loss: 49.55 | fairness loss 166.48 | Equal Opportunity Disparity = 0.08\n",
      "Client 2: accuracy loss: 17.29 | fairness loss 153.67 | Equal Opportunity Disparity = 0.14\n",
      "Client 3: accuracy loss: 42.48 | fairness loss 156.63 | Equal Opportunity Disparity = 0.12\n",
      " \n",
      "Avg Training Stats after 4 global rounds:\n",
      "Training loss: 0.29 | Validation accuracy: 90.52% | Validation Equal Opportunity Disparity: 0.0768\n",
      "\n",
      " | Global Training Round : 5 |\n",
      "\n"
     ]
    },
    {
     "name": "stderr",
     "output_type": "stream",
     "text": [
      "\r",
      " 50%|█████     | 5/10 [02:01<01:59, 23.84s/it]"
     ]
    },
    {
     "name": "stdout",
     "output_type": "stream",
     "text": [
      "Client 1: accuracy loss: 49.53 | fairness loss 166.16 | Equal Opportunity Disparity = 0.06\n",
      "Client 2: accuracy loss: 17.30 | fairness loss 152.88 | Equal Opportunity Disparity = 0.14\n",
      "Client 3: accuracy loss: 42.49 | fairness loss 155.83 | Equal Opportunity Disparity = 0.12\n",
      " \n",
      "Avg Training Stats after 5 global rounds:\n",
      "Training loss: 0.29 | Validation accuracy: 90.50% | Validation Equal Opportunity Disparity: 0.0649\n",
      "\n",
      " | Global Training Round : 6 |\n",
      "\n"
     ]
    },
    {
     "name": "stderr",
     "output_type": "stream",
     "text": [
      "\r",
      " 60%|██████    | 6/10 [02:24<01:34, 23.55s/it]"
     ]
    },
    {
     "name": "stdout",
     "output_type": "stream",
     "text": [
      "Client 1: accuracy loss: 49.54 | fairness loss 165.52 | Equal Opportunity Disparity = 0.06\n",
      "Client 2: accuracy loss: 17.32 | fairness loss 152.06 | Equal Opportunity Disparity = 0.14\n",
      "Client 3: accuracy loss: 42.51 | fairness loss 154.91 | Equal Opportunity Disparity = 0.12\n",
      " \n",
      "Avg Training Stats after 6 global rounds:\n",
      "Training loss: 0.29 | Validation accuracy: 90.43% | Validation Equal Opportunity Disparity: 0.0554\n",
      "\n",
      " | Global Training Round : 7 |\n",
      "\n"
     ]
    },
    {
     "name": "stderr",
     "output_type": "stream",
     "text": [
      "\r",
      " 70%|███████   | 7/10 [02:48<01:10, 23.57s/it]"
     ]
    },
    {
     "name": "stdout",
     "output_type": "stream",
     "text": [
      "Client 1: accuracy loss: 49.54 | fairness loss 164.84 | Equal Opportunity Disparity = 0.06\n",
      "Client 2: accuracy loss: 17.33 | fairness loss 151.34 | Equal Opportunity Disparity = 0.14\n",
      "Client 3: accuracy loss: 42.54 | fairness loss 154.05 | Equal Opportunity Disparity = 0.12\n",
      " \n",
      "Avg Training Stats after 7 global rounds:\n",
      "Training loss: 0.29 | Validation accuracy: 90.43% | Validation Equal Opportunity Disparity: 0.0554\n",
      "\n",
      " | Global Training Round : 8 |\n",
      "\n"
     ]
    },
    {
     "name": "stderr",
     "output_type": "stream",
     "text": [
      "\r",
      " 80%|████████  | 8/10 [03:13<00:48, 24.06s/it]"
     ]
    },
    {
     "name": "stdout",
     "output_type": "stream",
     "text": [
      "Client 1: accuracy loss: 49.55 | fairness loss 164.24 | Equal Opportunity Disparity = 0.06\n",
      "Client 2: accuracy loss: 17.34 | fairness loss 150.77 | Equal Opportunity Disparity = 0.14\n",
      "Client 3: accuracy loss: 42.56 | fairness loss 153.35 | Equal Opportunity Disparity = 0.12\n",
      " \n",
      "Avg Training Stats after 8 global rounds:\n",
      "Training loss: 0.29 | Validation accuracy: 90.43% | Validation Equal Opportunity Disparity: 0.0554\n",
      "\n",
      " | Global Training Round : 9 |\n",
      "\n"
     ]
    },
    {
     "name": "stderr",
     "output_type": "stream",
     "text": [
      "\r",
      " 90%|█████████ | 9/10 [03:38<00:24, 24.44s/it]"
     ]
    },
    {
     "name": "stdout",
     "output_type": "stream",
     "text": [
      "Client 1: accuracy loss: 49.54 | fairness loss 163.77 | Equal Opportunity Disparity = 0.06\n",
      "Client 2: accuracy loss: 17.35 | fairness loss 150.34 | Equal Opportunity Disparity = 0.14\n",
      "Client 3: accuracy loss: 42.56 | fairness loss 152.79 | Equal Opportunity Disparity = 0.12\n",
      " \n",
      "Avg Training Stats after 9 global rounds:\n",
      "Training loss: 0.29 | Validation accuracy: 90.43% | Validation Equal Opportunity Disparity: 0.0554\n",
      "\n",
      " | Global Training Round : 10 |\n",
      "\n"
     ]
    },
    {
     "name": "stderr",
     "output_type": "stream",
     "text": [
      "100%|██████████| 10/10 [04:01<00:00, 24.15s/it]"
     ]
    },
    {
     "name": "stdout",
     "output_type": "stream",
     "text": [
      "Client 1: accuracy loss: 49.53 | fairness loss 163.40 | Equal Opportunity Disparity = 0.06\n",
      "Client 2: accuracy loss: 17.35 | fairness loss 150.02 | Equal Opportunity Disparity = 0.14\n",
      "Client 3: accuracy loss: 42.56 | fairness loss 152.37 | Equal Opportunity Disparity = 0.11\n",
      " \n",
      "Avg Training Stats after 10 global rounds:\n",
      "Training loss: 0.28 | Validation accuracy: 90.40% | Validation Equal Opportunity Disparity: 0.0460\n"
     ]
    },
    {
     "name": "stderr",
     "output_type": "stream",
     "text": [
      "\n"
     ]
    },
    {
     "name": "stdout",
     "output_type": "stream",
     "text": [
      " \n",
      " Results after 10 global rounds of training:\n",
      "|---- Avg Train Accuracy: 90.40%\n",
      "|---- Test Accuracy: 89.35%\n",
      "|---- Test Equal Opportunity Disparity: 0.0101\n",
      "\n",
      " Total Run Time: 241.8225 sec\n"
     ]
    }
   ],
   "source": [
    "server = Server(logReg(num_features=bank_num_features, num_classes=2, seed = seed), bank_info, train_prn = False, seed = seed, Z = bank_z)\n",
    "server.BiasCorrecting(num_rounds = 10, local_epochs = 20, optimizer = 'adam', learning_rate = 0.002, alpha = 20)"
   ]
  },
  {
   "cell_type": "code",
   "execution_count": 14,
   "metadata": {
    "scrolled": true
   },
   "outputs": [
    {
     "name": "stderr",
     "output_type": "stream",
     "text": [
      "\r",
      "  0%|          | 0/5 [00:00<?, ?it/s]"
     ]
    },
    {
     "name": "stdout",
     "output_type": "stream",
     "text": [
      "\n",
      " | Global Training Round : 1 |\n",
      "\n"
     ]
    },
    {
     "name": "stderr",
     "output_type": "stream",
     "text": [
      "\r",
      " 20%|██        | 1/5 [00:18<01:15, 18.77s/it]"
     ]
    },
    {
     "name": "stdout",
     "output_type": "stream",
     "text": [
      "Client 1: accuracy loss: 48.54 | fairness loss 1.98 | Equal Opportunity Disparity = 0.00\n",
      "Client 2: accuracy loss: 16.01 | fairness loss 2.52 | Equal Opportunity Disparity = 0.00\n",
      "Client 3: accuracy loss: 42.64 | fairness loss 1.81 | Equal Opportunity Disparity = 0.00\n",
      " \n",
      "Avg Training Stats after 1 global rounds:\n",
      "Training loss: 44.51 | Validation accuracy: 89.41% | Validation Equal Opportunity Disparity: 0.0000\n",
      "\n",
      " | Global Training Round : 2 |\n",
      "\n"
     ]
    },
    {
     "name": "stderr",
     "output_type": "stream",
     "text": [
      "\r",
      " 40%|████      | 2/5 [00:37<00:56, 18.79s/it]"
     ]
    },
    {
     "name": "stdout",
     "output_type": "stream",
     "text": [
      "Client 1: accuracy loss: 48.39 | fairness loss 2.22 | Equal Opportunity Disparity = 0.00\n",
      "Client 2: accuracy loss: 15.95 | fairness loss 2.95 | Equal Opportunity Disparity = 0.00\n",
      "Client 3: accuracy loss: 42.50 | fairness loss 1.98 | Equal Opportunity Disparity = 0.00\n",
      " \n",
      "Avg Training Stats after 2 global rounds:\n",
      "Training loss: 43.98 | Validation accuracy: 89.41% | Validation Equal Opportunity Disparity: 0.0000\n",
      "\n",
      " | Global Training Round : 3 |\n",
      "\n"
     ]
    },
    {
     "name": "stderr",
     "output_type": "stream",
     "text": [
      "\r",
      " 60%|██████    | 3/5 [00:55<00:37, 18.62s/it]"
     ]
    },
    {
     "name": "stdout",
     "output_type": "stream",
     "text": [
      "Client 1: accuracy loss: 48.38 | fairness loss 2.25 | Equal Opportunity Disparity = 0.00\n",
      "Client 2: accuracy loss: 15.95 | fairness loss 3.01 | Equal Opportunity Disparity = 0.00\n",
      "Client 3: accuracy loss: 42.49 | fairness loss 2.00 | Equal Opportunity Disparity = 0.00\n",
      " \n",
      "Avg Training Stats after 3 global rounds:\n",
      "Training loss: 43.80 | Validation accuracy: 89.41% | Validation Equal Opportunity Disparity: 0.0000\n",
      "\n",
      " | Global Training Round : 4 |\n",
      "\n"
     ]
    },
    {
     "name": "stderr",
     "output_type": "stream",
     "text": [
      "\r",
      " 80%|████████  | 4/5 [01:14<00:18, 18.55s/it]"
     ]
    },
    {
     "name": "stdout",
     "output_type": "stream",
     "text": [
      "Client 1: accuracy loss: 48.38 | fairness loss 2.25 | Equal Opportunity Disparity = 0.00\n",
      "Client 2: accuracy loss: 15.95 | fairness loss 3.02 | Equal Opportunity Disparity = 0.00\n",
      "Client 3: accuracy loss: 42.49 | fairness loss 2.00 | Equal Opportunity Disparity = 0.00\n",
      " \n",
      "Avg Training Stats after 4 global rounds:\n",
      "Training loss: 43.71 | Validation accuracy: 89.41% | Validation Equal Opportunity Disparity: 0.0000\n",
      "\n",
      " | Global Training Round : 5 |\n",
      "\n"
     ]
    },
    {
     "name": "stderr",
     "output_type": "stream",
     "text": [
      "100%|██████████| 5/5 [01:32<00:00, 18.54s/it]"
     ]
    },
    {
     "name": "stdout",
     "output_type": "stream",
     "text": [
      "Client 1: accuracy loss: 48.38 | fairness loss 2.25 | Equal Opportunity Disparity = 0.00\n",
      "Client 2: accuracy loss: 15.95 | fairness loss 3.02 | Equal Opportunity Disparity = 0.00\n",
      "Client 3: accuracy loss: 42.49 | fairness loss 2.01 | Equal Opportunity Disparity = 0.00\n",
      " \n",
      "Avg Training Stats after 5 global rounds:\n",
      "Training loss: 43.65 | Validation accuracy: 89.41% | Validation Equal Opportunity Disparity: 0.0000\n"
     ]
    },
    {
     "name": "stderr",
     "output_type": "stream",
     "text": [
      "\n"
     ]
    },
    {
     "name": "stdout",
     "output_type": "stream",
     "text": [
      " \n",
      " Results after 5 global rounds of training:\n",
      "|---- Avg Train Accuracy: 89.41%\n",
      "|---- Test Accuracy: 88.22%\n",
      "|---- Test Equal Opportunity Disparity: 0.0000\n",
      "\n",
      " Total Run Time: 92.9719 sec\n"
     ]
    }
   ],
   "source": [
    "server = Server(logReg(num_features=bank_num_features, num_classes=2, seed = seed), bank_info, train_prn = False, seed = seed, Z = bank_z)\n",
    "server.LocalFC(num_rounds = 5, local_epochs = 20, optimizer = 'adam', learning_rate = 0.002, penalty = 50)"
   ]
  },
  {
   "cell_type": "code",
   "execution_count": 15,
   "metadata": {
    "scrolled": true
   },
   "outputs": [
    {
     "name": "stderr",
     "output_type": "stream",
     "text": [
      "\r",
      "  0%|          | 0/10 [00:00<?, ?it/s]"
     ]
    },
    {
     "name": "stdout",
     "output_type": "stream",
     "text": [
      "\n",
      " | Global Training Round : 1 |\n",
      "\n"
     ]
    },
    {
     "name": "stderr",
     "output_type": "stream",
     "text": [
      "\r",
      " 10%|█         | 1/10 [00:26<03:56, 26.25s/it]"
     ]
    },
    {
     "name": "stdout",
     "output_type": "stream",
     "text": [
      "Client 1: predictor loss: 36.19 | adversary loss 1.54 | Equal Opportunity Disparity = 0.10\n",
      "Client 2: predictor loss: 12.20 | adversary loss 1.54 | Equal Opportunity Disparity = 0.14\n",
      "Client 3: predictor loss: 32.79 | adversary loss 1.49 | Equal Opportunity Disparity = 0.12\n",
      " \n",
      "Avg Training Stats after 1 global rounds:\n",
      "Training loss: 0.27 | Validation accuracy: 90.55% | Validation Equal Opportunity Disparity: 0.0915\n",
      "\n",
      " | Global Training Round : 2 |\n",
      "\n"
     ]
    },
    {
     "name": "stderr",
     "output_type": "stream",
     "text": [
      "\r",
      " 20%|██        | 2/10 [00:51<03:27, 25.97s/it]"
     ]
    },
    {
     "name": "stdout",
     "output_type": "stream",
     "text": [
      "Client 1: predictor loss: 38.70 | adversary loss 1.53 | Equal Opportunity Disparity = 0.06\n",
      "Client 2: predictor loss: 13.46 | adversary loss 1.51 | Equal Opportunity Disparity = 0.06\n",
      "Client 3: predictor loss: 36.68 | adversary loss 1.52 | Equal Opportunity Disparity = 0.07\n",
      " \n",
      "Avg Training Stats after 2 global rounds:\n",
      "Training loss: 0.26 | Validation accuracy: 89.98% | Validation Equal Opportunity Disparity: 0.0542\n",
      "\n",
      " | Global Training Round : 3 |\n",
      "\n"
     ]
    },
    {
     "name": "stderr",
     "output_type": "stream",
     "text": [
      "\r",
      " 30%|███       | 3/10 [01:16<02:59, 25.65s/it]"
     ]
    },
    {
     "name": "stdout",
     "output_type": "stream",
     "text": [
      "Client 1: predictor loss: 50.42 | adversary loss 1.61 | Equal Opportunity Disparity = 0.08\n",
      "Client 2: predictor loss: 22.16 | adversary loss 1.60 | Equal Opportunity Disparity = 0.21\n",
      "Client 3: predictor loss: 51.27 | adversary loss 1.56 | Equal Opportunity Disparity = 0.09\n",
      " \n",
      "Avg Training Stats after 3 global rounds:\n",
      "Training loss: 0.31 | Validation accuracy: 90.27% | Validation Equal Opportunity Disparity: 0.0565\n",
      "\n",
      " | Global Training Round : 4 |\n",
      "\n"
     ]
    },
    {
     "name": "stderr",
     "output_type": "stream",
     "text": [
      "\r",
      " 40%|████      | 4/10 [01:45<02:39, 26.60s/it]"
     ]
    },
    {
     "name": "stdout",
     "output_type": "stream",
     "text": [
      "Client 1: predictor loss: 53.30 | adversary loss 5.09 | Equal Opportunity Disparity = 0.00\n",
      "Client 2: predictor loss: 20.16 | adversary loss 5.11 | Equal Opportunity Disparity = 0.00\n",
      "Client 3: predictor loss: 54.88 | adversary loss 5.50 | Equal Opportunity Disparity = 0.00\n",
      " \n",
      "Avg Training Stats after 4 global rounds:\n",
      "Training loss: 0.31 | Validation accuracy: 89.39% | Validation Equal Opportunity Disparity: 0.0000\n",
      "\n",
      " | Global Training Round : 5 |\n",
      "\n"
     ]
    },
    {
     "name": "stderr",
     "output_type": "stream",
     "text": [
      "\r",
      " 50%|█████     | 5/10 [02:11<02:12, 26.59s/it]"
     ]
    },
    {
     "name": "stdout",
     "output_type": "stream",
     "text": [
      "Client 1: predictor loss: 40.01 | adversary loss 43.52 | Equal Opportunity Disparity = 0.00\n",
      "Client 2: predictor loss: 16.17 | adversary loss 42.80 | Equal Opportunity Disparity = 0.00\n",
      "Client 3: predictor loss: 40.80 | adversary loss 44.78 | Equal Opportunity Disparity = 0.00\n",
      " \n",
      "Avg Training Stats after 5 global rounds:\n",
      "Training loss: 0.34 | Validation accuracy: 89.41% | Validation Equal Opportunity Disparity: 0.0000\n",
      "\n",
      " | Global Training Round : 6 |\n",
      "\n"
     ]
    },
    {
     "name": "stderr",
     "output_type": "stream",
     "text": [
      "\r",
      " 60%|██████    | 6/10 [02:36<01:44, 26.00s/it]"
     ]
    },
    {
     "name": "stdout",
     "output_type": "stream",
     "text": [
      "Client 1: predictor loss: 40.54 | adversary loss 81.13 | Equal Opportunity Disparity = 0.00\n",
      "Client 2: predictor loss: 16.46 | adversary loss 84.06 | Equal Opportunity Disparity = 0.00\n",
      "Client 3: predictor loss: 41.53 | adversary loss 80.97 | Equal Opportunity Disparity = 0.00\n",
      " \n",
      "Avg Training Stats after 6 global rounds:\n",
      "Training loss: 0.33 | Validation accuracy: 89.41% | Validation Equal Opportunity Disparity: 0.0000\n",
      "\n",
      " | Global Training Round : 7 |\n",
      "\n"
     ]
    },
    {
     "name": "stderr",
     "output_type": "stream",
     "text": [
      "\r",
      " 70%|███████   | 7/10 [03:01<01:17, 25.75s/it]"
     ]
    },
    {
     "name": "stdout",
     "output_type": "stream",
     "text": [
      "Client 1: predictor loss: 44.76 | adversary loss 145.53 | Equal Opportunity Disparity = 0.00\n",
      "Client 2: predictor loss: 18.54 | adversary loss 138.21 | Equal Opportunity Disparity = 0.00\n",
      "Client 3: predictor loss: 46.31 | adversary loss 144.68 | Equal Opportunity Disparity = 0.00\n",
      " \n",
      "Avg Training Stats after 7 global rounds:\n",
      "Training loss: 0.33 | Validation accuracy: 89.41% | Validation Equal Opportunity Disparity: 0.0000\n",
      "\n",
      " | Global Training Round : 8 |\n",
      "\n"
     ]
    },
    {
     "name": "stderr",
     "output_type": "stream",
     "text": [
      "\r",
      " 80%|████████  | 8/10 [03:26<00:51, 25.54s/it]"
     ]
    },
    {
     "name": "stdout",
     "output_type": "stream",
     "text": [
      "Client 1: predictor loss: 55.22 | adversary loss 268.88 | Equal Opportunity Disparity = 0.00\n",
      "Client 2: predictor loss: 22.63 | adversary loss 263.17 | Equal Opportunity Disparity = 0.00\n",
      "Client 3: predictor loss: 57.19 | adversary loss 265.21 | Equal Opportunity Disparity = 0.00\n",
      " \n",
      "Avg Training Stats after 8 global rounds:\n",
      "Training loss: 0.33 | Validation accuracy: 89.41% | Validation Equal Opportunity Disparity: 0.0000\n",
      "\n",
      " | Global Training Round : 9 |\n",
      "\n"
     ]
    },
    {
     "name": "stderr",
     "output_type": "stream",
     "text": [
      "\r",
      " 90%|█████████ | 9/10 [03:51<00:25, 25.22s/it]"
     ]
    },
    {
     "name": "stdout",
     "output_type": "stream",
     "text": [
      "Client 1: predictor loss: 60.72 | adversary loss 281.75 | Equal Opportunity Disparity = 0.00\n",
      "Client 2: predictor loss: 24.77 | adversary loss 280.22 | Equal Opportunity Disparity = 0.00\n",
      "Client 3: predictor loss: 62.74 | adversary loss 285.20 | Equal Opportunity Disparity = 0.00\n",
      " \n",
      "Avg Training Stats after 9 global rounds:\n",
      "Training loss: 0.34 | Validation accuracy: 89.41% | Validation Equal Opportunity Disparity: 0.0000\n",
      "\n",
      " | Global Training Round : 10 |\n",
      "\n"
     ]
    },
    {
     "name": "stderr",
     "output_type": "stream",
     "text": [
      "100%|██████████| 10/10 [04:15<00:00, 25.57s/it]"
     ]
    },
    {
     "name": "stdout",
     "output_type": "stream",
     "text": [
      "Client 1: predictor loss: 70.38 | adversary loss 341.04 | Equal Opportunity Disparity = 0.00\n",
      "Client 2: predictor loss: 28.16 | adversary loss 348.34 | Equal Opportunity Disparity = 0.00\n",
      "Client 3: predictor loss: 71.98 | adversary loss 351.63 | Equal Opportunity Disparity = 0.00\n",
      " \n",
      "Avg Training Stats after 10 global rounds:\n",
      "Training loss: 0.36 | Validation accuracy: 89.41% | Validation Equal Opportunity Disparity: 0.0000\n"
     ]
    },
    {
     "name": "stderr",
     "output_type": "stream",
     "text": [
      "\n"
     ]
    },
    {
     "name": "stdout",
     "output_type": "stream",
     "text": [
      " \n",
      " Results after 10 global rounds of training:\n",
      "|---- Avg Train Accuracy: 89.41%\n",
      "|---- Test Accuracy: 88.22%\n",
      "|---- Test Equal Opportunity Disparity: 0.0000\n",
      "\n",
      " Total Run Time: 256.0131 sec\n"
     ]
    }
   ],
   "source": [
    "server = Server(logReg(num_features=bank_num_features, num_classes=2, seed = seed), bank_info, train_prn = False, seed = seed, Z = bank_z)\n",
    "server.FTrain(num_rounds = 10, local_epochs = 30, init_epochs = 50, lr_g = 0.005, lr_d = 0.01, lambda_d = 0.9)"
   ]
  },
  {
   "cell_type": "code",
   "execution_count": 28,
   "metadata": {
    "scrolled": true
   },
   "outputs": [
    {
     "name": "stderr",
     "output_type": "stream",
     "text": [
      "\n",
      "  0%|          | 0/3 [00:00<?, ?it/s]\u001b[A"
     ]
    },
    {
     "name": "stdout",
     "output_type": "stream",
     "text": [
      "\n",
      " | Testing Round : 1 | constraint :  Cov(z, d | y = 1) < c\n",
      "\n"
     ]
    },
    {
     "name": "stderr",
     "output_type": "stream",
     "text": [
      "\n",
      " 33%|███▎      | 1/3 [00:16<00:33, 16.69s/it]\u001b[A"
     ]
    },
    {
     "name": "stdout",
     "output_type": "stream",
     "text": [
      "Client 1: accuracy loss: 60.15 | fairness loss 30404421.57 | Equal Opportunity Disparity = 0.47\n",
      "Client 2: accuracy loss: 17.72 | fairness loss 29249198.73 | Equal Opportunity Disparity = 0.24\n",
      "Client 3: accuracy loss: 58.28 | fairness loss 30186785.27 | Equal Opportunity Disparity = 0.37\n",
      " \n",
      "Avg Training Stats after 1 Testing rounds:\n",
      "Training loss: -85598.27 | Validation accuracy: 87.73% | Validation Equal Opportunity Disparity: 0.3966\n",
      "\n",
      " | Testing Round : 2 | constraint :  Cov(z, d | y = 1) < c\n",
      "\n"
     ]
    },
    {
     "name": "stderr",
     "output_type": "stream",
     "text": [
      "\n",
      " 67%|██████▋   | 2/3 [00:33<00:16, 16.67s/it]\u001b[A"
     ]
    },
    {
     "name": "stdout",
     "output_type": "stream",
     "text": [
      "Client 1: accuracy loss: 79.68 | fairness loss 123274661.31 | Equal Opportunity Disparity = 0.46\n",
      "Client 2: accuracy loss: 22.39 | fairness loss 118717158.91 | Equal Opportunity Disparity = 0.29\n",
      "Client 3: accuracy loss: 77.20 | fairness loss 122396956.36 | Equal Opportunity Disparity = 0.37\n",
      " \n",
      "Avg Training Stats after 2 Testing rounds:\n",
      "Training loss: -163486.23 | Validation accuracy: 88.07% | Validation Equal Opportunity Disparity: 0.3973\n",
      "\n",
      " | Testing Round : 3 | constraint :  Cov(z, d | y = 1) < c\n",
      "\n"
     ]
    },
    {
     "name": "stderr",
     "output_type": "stream",
     "text": [
      "\n",
      "100%|██████████| 3/3 [00:49<00:00, 16.65s/it]\u001b[A\n",
      "\n",
      "  0%|          | 0/3 [00:00<?, ?it/s]\u001b[A"
     ]
    },
    {
     "name": "stdout",
     "output_type": "stream",
     "text": [
      "Client 1: accuracy loss: 102.33 | fairness loss 278540962.58 | Equal Opportunity Disparity = 0.21\n",
      "Client 2: accuracy loss: 28.07 | fairness loss 268369797.82 | Equal Opportunity Disparity = 0.12\n",
      "Client 3: accuracy loss: 98.93 | fairness loss 276569656.73 | Equal Opportunity Disparity = 0.16\n",
      " \n",
      "Avg Training Stats after 3 Testing rounds:\n",
      "Training loss: -241377.29 | Validation accuracy: 88.82% | Validation Equal Opportunity Disparity: 0.1700\n",
      "\n",
      " | Testing Round : 1 | constraint :  Cov(z, d | y = 1) > -c\n",
      "\n"
     ]
    },
    {
     "name": "stderr",
     "output_type": "stream",
     "text": [
      "\n",
      " 33%|███▎      | 1/3 [00:16<00:33, 16.88s/it]\u001b[A"
     ]
    },
    {
     "name": "stdout",
     "output_type": "stream",
     "text": [
      "Client 1: accuracy loss: 71.29 | fairness loss 30577046.96 | Equal Opportunity Disparity = 0.25\n",
      "Client 2: accuracy loss: 25.39 | fairness loss 29538825.91 | Equal Opportunity Disparity = 0.13\n",
      "Client 3: accuracy loss: 61.26 | fairness loss 30345276.91 | Equal Opportunity Disparity = 0.25\n",
      " \n",
      "Avg Training Stats after 1 Testing rounds:\n",
      "Training loss: -202562.01 | Validation accuracy: 89.61% | Validation Equal Opportunity Disparity: 0.2211\n",
      "\n",
      " | Testing Round : 2 | constraint :  Cov(z, d | y = 1) > -c\n",
      "\n"
     ]
    },
    {
     "name": "stderr",
     "output_type": "stream",
     "text": [
      "\n",
      " 67%|██████▋   | 2/3 [00:33<00:16, 16.81s/it]\u001b[A"
     ]
    },
    {
     "name": "stdout",
     "output_type": "stream",
     "text": [
      "Client 1: accuracy loss: 102.25 | fairness loss 123085583.65 | Equal Opportunity Disparity = 0.09\n",
      "Client 2: accuracy loss: 36.90 | fairness loss 118806114.55 | Equal Opportunity Disparity = 0.15\n",
      "Client 3: accuracy loss: 88.28 | fairness loss 122128030.55 | Equal Opportunity Disparity = 0.06\n",
      " \n",
      "Avg Training Stats after 2 Testing rounds:\n",
      "Training loss: -210420.66 | Validation accuracy: 89.51% | Validation Equal Opportunity Disparity: 0.0417\n",
      "\n",
      " | Testing Round : 3 | constraint :  Cov(z, d | y = 1) > -c\n",
      "\n"
     ]
    },
    {
     "name": "stderr",
     "output_type": "stream",
     "text": [
      "\n",
      "100%|██████████| 3/3 [00:50<00:00, 16.69s/it]\u001b[A\n",
      "\n",
      "  0%|          | 0/10 [00:00<?, ?it/s]\u001b[A"
     ]
    },
    {
     "name": "stdout",
     "output_type": "stream",
     "text": [
      "Client 1: accuracy loss: 143.05 | fairness loss 276957384.18 | Equal Opportunity Disparity = 0.05\n",
      "Client 2: accuracy loss: 51.81 | fairness loss 267218306.91 | Equal Opportunity Disparity = 0.00\n",
      "Client 3: accuracy loss: 124.23 | fairness loss 274773805.09 | Equal Opportunity Disparity = 0.06\n",
      " \n",
      "Avg Training Stats after 3 Testing rounds:\n",
      "Training loss: -241618.72 | Validation accuracy: 89.42% | Validation Equal Opportunity Disparity: 0.0248\n",
      "\n",
      " | Global Round : 1 | constraint :  Cov(z, d | y = 1) > -c\n",
      "\n"
     ]
    },
    {
     "name": "stderr",
     "output_type": "stream",
     "text": [
      "\n",
      " 10%|█         | 1/10 [00:16<02:29, 16.62s/it]\u001b[A"
     ]
    },
    {
     "name": "stdout",
     "output_type": "stream",
     "text": [
      "Client 1: accuracy loss: 151.69 | fairness loss 315038808.70 | Equal Opportunity Disparity = 0.02\n",
      "Client 2: accuracy loss: 55.24 | fairness loss 303931067.64 | Equal Opportunity Disparity = 0.00\n",
      "Client 3: accuracy loss: 132.90 | fairness loss 312553858.91 | Equal Opportunity Disparity = 0.03\n",
      " \n",
      "Avg Training Stats after 1 global rounds:\n",
      "Training loss: -276336.03 | Validation accuracy: 89.37% | Validation Equal Opportunity Disparity: 0.0157\n",
      "\n",
      " | Global Round : 2 | constraint :  Cov(z, d | y = 1) > -c\n",
      "\n"
     ]
    },
    {
     "name": "stderr",
     "output_type": "stream",
     "text": [
      "\n",
      " 20%|██        | 2/10 [00:33<02:12, 16.60s/it]\u001b[A"
     ]
    },
    {
     "name": "stdout",
     "output_type": "stream",
     "text": [
      "Client 1: accuracy loss: 160.20 | fairness loss 355668666.00 | Equal Opportunity Disparity = 0.02\n",
      "Client 2: accuracy loss: 58.38 | fairness loss 343110693.82 | Equal Opportunity Disparity = 0.00\n",
      "Client 3: accuracy loss: 140.47 | fairness loss 352860768.00 | Equal Opportunity Disparity = 0.03\n",
      " \n",
      "Avg Training Stats after 2 global rounds:\n",
      "Training loss: -306270.64 | Validation accuracy: 89.37% | Validation Equal Opportunity Disparity: 0.0157\n",
      "\n",
      " | Global Round : 3 | constraint :  Cov(z, d | y = 1) > -c\n",
      "\n"
     ]
    },
    {
     "name": "stderr",
     "output_type": "stream",
     "text": [
      "\n",
      " 30%|███       | 3/10 [00:49<01:56, 16.58s/it]\u001b[A"
     ]
    },
    {
     "name": "stdout",
     "output_type": "stream",
     "text": [
      "Client 1: accuracy loss: 168.88 | fairness loss 398752026.52 | Equal Opportunity Disparity = 0.02\n",
      "Client 2: accuracy loss: 61.57 | fairness loss 384656219.64 | Equal Opportunity Disparity = 0.00\n",
      "Client 3: accuracy loss: 148.20 | fairness loss 395600250.18 | Equal Opportunity Disparity = 0.03\n",
      " \n",
      "Avg Training Stats after 3 global rounds:\n",
      "Training loss: -333016.92 | Validation accuracy: 89.38% | Validation Equal Opportunity Disparity: 0.0182\n",
      "\n",
      " | Global Round : 4 | constraint :  Cov(z, d | y = 1) > -c\n",
      "\n"
     ]
    },
    {
     "name": "stderr",
     "output_type": "stream",
     "text": [
      "\n",
      " 40%|████      | 4/10 [01:06<01:39, 16.58s/it]\u001b[A"
     ]
    },
    {
     "name": "stdout",
     "output_type": "stream",
     "text": [
      "Client 1: accuracy loss: 177.71 | fairness loss 444288359.52 | Equal Opportunity Disparity = 0.02\n",
      "Client 2: accuracy loss: 64.80 | fairness loss 428566308.36 | Equal Opportunity Disparity = 0.00\n",
      "Client 3: accuracy loss: 156.06 | fairness loss 440772439.27 | Equal Opportunity Disparity = 0.03\n",
      " \n",
      "Avg Training Stats after 4 global rounds:\n",
      "Training loss: -357531.53 | Validation accuracy: 89.38% | Validation Equal Opportunity Disparity: 0.0182\n",
      "\n",
      " | Global Round : 5 | constraint :  Cov(z, d | y = 1) > -c\n",
      "\n"
     ]
    },
    {
     "name": "stderr",
     "output_type": "stream",
     "text": [
      "\n",
      " 50%|█████     | 5/10 [01:22<01:23, 16.61s/it]\u001b[A"
     ]
    },
    {
     "name": "stdout",
     "output_type": "stream",
     "text": [
      "Client 1: accuracy loss: 186.67 | fairness loss 492276810.80 | Equal Opportunity Disparity = 0.02\n",
      "Client 2: accuracy loss: 68.07 | fairness loss 474839885.09 | Equal Opportunity Disparity = 0.00\n",
      "Client 3: accuracy loss: 164.04 | fairness loss 488376753.45 | Equal Opportunity Disparity = 0.03\n",
      " \n",
      "Avg Training Stats after 5 global rounds:\n",
      "Training loss: -380423.23 | Validation accuracy: 89.38% | Validation Equal Opportunity Disparity: 0.0182\n",
      "\n",
      " | Global Round : 6 | constraint :  Cov(z, d | y = 1) > -c\n",
      "\n"
     ]
    },
    {
     "name": "stderr",
     "output_type": "stream",
     "text": [
      "\n",
      " 60%|██████    | 6/10 [01:39<01:06, 16.65s/it]\u001b[A"
     ]
    },
    {
     "name": "stdout",
     "output_type": "stream",
     "text": [
      "Client 1: accuracy loss: 195.74 | fairness loss 542717492.77 | Equal Opportunity Disparity = 0.03\n",
      "Client 2: accuracy loss: 71.39 | fairness loss 523476989.09 | Equal Opportunity Disparity = 0.00\n",
      "Client 3: accuracy loss: 172.13 | fairness loss 538413271.27 | Equal Opportunity Disparity = 0.00\n",
      " \n",
      "Avg Training Stats after 6 global rounds:\n",
      "Training loss: -402097.85 | Validation accuracy: 89.35% | Validation Equal Opportunity Disparity: 0.0135\n",
      "\n",
      " | Global Round : 7 | constraint :  Cov(z, d | y = 1) > -c\n",
      "\n"
     ]
    },
    {
     "name": "stderr",
     "output_type": "stream",
     "text": [
      "\n",
      " 70%|███████   | 7/10 [01:56<00:49, 16.62s/it]\u001b[A"
     ]
    },
    {
     "name": "stdout",
     "output_type": "stream",
     "text": [
      "Client 1: accuracy loss: 204.93 | fairness loss 595609673.68 | Equal Opportunity Disparity = 0.03\n",
      "Client 2: accuracy loss: 74.73 | fairness loss 574476887.27 | Equal Opportunity Disparity = 0.00\n",
      "Client 3: accuracy loss: 180.32 | fairness loss 590881341.09 | Equal Opportunity Disparity = 0.00\n",
      " \n",
      "Avg Training Stats after 7 global rounds:\n",
      "Training loss: -422836.35 | Validation accuracy: 89.35% | Validation Equal Opportunity Disparity: 0.0135\n",
      "\n",
      " | Global Round : 8 | constraint :  Cov(z, d | y = 1) > -c\n",
      "\n"
     ]
    },
    {
     "name": "stderr",
     "output_type": "stream",
     "text": [
      "\n",
      " 80%|████████  | 8/10 [02:12<00:33, 16.60s/it]\u001b[A"
     ]
    },
    {
     "name": "stdout",
     "output_type": "stream",
     "text": [
      "Client 1: accuracy loss: 214.22 | fairness loss 650953205.95 | Equal Opportunity Disparity = 0.03\n",
      "Client 2: accuracy loss: 78.11 | fairness loss 627839613.09 | Equal Opportunity Disparity = 0.00\n",
      "Client 3: accuracy loss: 188.59 | fairness loss 645780846.55 | Equal Opportunity Disparity = 0.00\n",
      " \n",
      "Avg Training Stats after 8 global rounds:\n",
      "Training loss: -442839.45 | Validation accuracy: 89.35% | Validation Equal Opportunity Disparity: 0.0135\n",
      "\n",
      " | Global Round : 9 | constraint :  Cov(z, d | y = 1) > -c\n",
      "\n"
     ]
    },
    {
     "name": "stderr",
     "output_type": "stream",
     "text": [
      "\n",
      " 90%|█████████ | 9/10 [02:29<00:16, 16.58s/it]\u001b[A"
     ]
    },
    {
     "name": "stdout",
     "output_type": "stream",
     "text": [
      "Client 1: accuracy loss: 223.60 | fairness loss 708747674.64 | Equal Opportunity Disparity = 0.03\n",
      "Client 2: accuracy loss: 81.52 | fairness loss 683564613.82 | Equal Opportunity Disparity = 0.00\n",
      "Client 3: accuracy loss: 196.95 | fairness loss 703111336.73 | Equal Opportunity Disparity = 0.00\n",
      " \n",
      "Avg Training Stats after 9 global rounds:\n",
      "Training loss: -462254.31 | Validation accuracy: 89.35% | Validation Equal Opportunity Disparity: 0.0135\n",
      "\n",
      " | Global Round : 10 | constraint :  Cov(z, d | y = 1) > -c\n",
      "\n"
     ]
    },
    {
     "name": "stderr",
     "output_type": "stream",
     "text": [
      "\n",
      "100%|██████████| 10/10 [02:45<00:00, 16.59s/it]\u001b[A"
     ]
    },
    {
     "name": "stdout",
     "output_type": "stream",
     "text": [
      "Client 1: accuracy loss: 233.07 | fairness loss 768991627.59 | Equal Opportunity Disparity = 0.03\n",
      "Client 2: accuracy loss: 84.96 | fairness loss 741650760.73 | Equal Opportunity Disparity = 0.00\n",
      "Client 3: accuracy loss: 205.40 | fairness loss 762871633.45 | Equal Opportunity Disparity = 0.00\n",
      " \n",
      "Avg Training Stats after 10 global rounds:\n",
      "Training loss: -481191.31 | Validation accuracy: 89.35% | Validation Equal Opportunity Disparity: 0.0135\n"
     ]
    },
    {
     "name": "stderr",
     "output_type": "stream",
     "text": [
      "\n"
     ]
    },
    {
     "name": "stdout",
     "output_type": "stream",
     "text": [
      " \n",
      " Results after 10 global rounds of training:\n",
      "|---- Avg Train Accuracy: 89.35%\n",
      "|---- Test Accuracy: 88.29%\n",
      "|---- Test Equal Opportunity Disparity: 0.0129\n",
      "\n",
      " Total Run Time: 266.1740 sec\n"
     ]
    }
   ],
   "source": [
    "server = Server(logReg(num_features=bank_num_features, num_classes=2, seed = seed), bank_info, train_prn = False, seed = seed, Z = bank_z)\n",
    "server.FairConstraints(test_rounds = 3, test_lr = 0.015, test_penalty = 2000, num_rounds = 10, local_epochs = 20, optimizer = 'adam', learning_rate = 0.003, penalty = 2000)\n"
   ]
  },
  {
   "cell_type": "code",
   "execution_count": null,
   "metadata": {},
   "outputs": [],
   "source": []
  }
 ],
 "metadata": {
  "kernelspec": {
   "display_name": "Python 3",
   "language": "python",
   "name": "python3"
  },
  "language_info": {
   "codemirror_mode": {
    "name": "ipython",
    "version": 3
   },
   "file_extension": ".py",
   "mimetype": "text/x-python",
   "name": "python",
   "nbconvert_exporter": "python",
   "pygments_lexer": "ipython3",
   "version": "3.7.4"
  }
 },
 "nbformat": 4,
 "nbformat_minor": 2
}
