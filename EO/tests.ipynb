{
 "cells": [
  {
   "cell_type": "code",
   "execution_count": 1,
   "metadata": {},
   "outputs": [],
   "source": [
    "from Server import *"
   ]
  },
  {
   "cell_type": "code",
   "execution_count": 4,
   "metadata": {
    "scrolled": true
   },
   "outputs": [
    {
     "name": "stderr",
     "output_type": "stream",
     "text": [
      "\n",
      "  0%|          | 0/4 [00:00<?, ?it/s]\u001b[A"
     ]
    },
    {
     "name": "stdout",
     "output_type": "stream",
     "text": [
      "\n",
      " | Testing Round : 1 | constraint :  Cov(z, d | y = 1) < c\n",
      "\n"
     ]
    },
    {
     "name": "stderr",
     "output_type": "stream",
     "text": [
      "\n",
      " 25%|██▌       | 1/4 [00:03<00:11,  3.78s/it]\u001b[A"
     ]
    },
    {
     "name": "stdout",
     "output_type": "stream",
     "text": [
      "Client 1: accuracy loss: 3.52 | fairness loss 540.99 | Equal Opportunity Disparity = 0.54\n",
      "Client 2: accuracy loss: 2.46 | fairness loss 1000.22 | Equal Opportunity Disparity = 0.21\n",
      "Client 3: accuracy loss: 2.97 | fairness loss 794.28 | Equal Opportunity Disparity = 0.18\n",
      " \n",
      "Avg Training Stats after 1 Testing rounds:\n",
      "Training loss: -60.56 | Validation accuracy: 62.96% | Validation Equal Opportunity Disparity: 0.2636\n",
      "\n",
      " | Testing Round : 2 | constraint :  Cov(z, d | y = 1) < c\n",
      "\n"
     ]
    },
    {
     "name": "stderr",
     "output_type": "stream",
     "text": [
      "\n",
      " 50%|█████     | 2/4 [00:07<00:07,  3.83s/it]\u001b[A"
     ]
    },
    {
     "name": "stdout",
     "output_type": "stream",
     "text": [
      "Client 1: accuracy loss: 3.64 | fairness loss 2059.59 | Equal Opportunity Disparity = 0.82\n",
      "Client 2: accuracy loss: 2.43 | fairness loss 3825.52 | Equal Opportunity Disparity = 0.51\n",
      "Client 3: accuracy loss: 3.09 | fairness loss 3031.68 | Equal Opportunity Disparity = 0.37\n",
      " \n",
      "Avg Training Stats after 2 Testing rounds:\n",
      "Training loss: -158.39 | Validation accuracy: 45.88% | Validation Equal Opportunity Disparity: 0.5230\n",
      "\n",
      " | Testing Round : 3 | constraint :  Cov(z, d | y = 1) < c\n",
      "\n"
     ]
    },
    {
     "name": "stderr",
     "output_type": "stream",
     "text": [
      "\n",
      " 75%|███████▌  | 3/4 [00:11<00:03,  3.83s/it]\u001b[A"
     ]
    },
    {
     "name": "stdout",
     "output_type": "stream",
     "text": [
      "Client 1: accuracy loss: 3.72 | fairness loss 4562.70 | Equal Opportunity Disparity = 0.91\n",
      "Client 2: accuracy loss: 2.41 | fairness loss 8488.01 | Equal Opportunity Disparity = 0.50\n",
      "Client 3: accuracy loss: 3.18 | fairness loss 6721.86 | Equal Opportunity Disparity = 0.21\n",
      " \n",
      "Avg Training Stats after 3 Testing rounds:\n",
      "Training loss: -256.28 | Validation accuracy: 42.92% | Validation Equal Opportunity Disparity: 0.4820\n",
      "\n",
      " | Testing Round : 4 | constraint :  Cov(z, d | y = 1) < c\n",
      "\n"
     ]
    },
    {
     "name": "stderr",
     "output_type": "stream",
     "text": [
      "\n",
      "100%|██████████| 4/4 [00:15<00:00,  3.80s/it]\u001b[A\n",
      "\n",
      "  0%|          | 0/4 [00:00<?, ?it/s]\u001b[A"
     ]
    },
    {
     "name": "stdout",
     "output_type": "stream",
     "text": [
      "Client 1: accuracy loss: 3.79 | fairness loss 8051.07 | Equal Opportunity Disparity = 0.94\n",
      "Client 2: accuracy loss: 2.40 | fairness loss 14988.92 | Equal Opportunity Disparity = 0.39\n",
      "Client 3: accuracy loss: 3.26 | fairness loss 11865.83 | Equal Opportunity Disparity = 0.25\n",
      " \n",
      "Avg Training Stats after 4 Testing rounds:\n",
      "Training loss: -354.21 | Validation accuracy: 40.74% | Validation Equal Opportunity Disparity: 0.4329\n",
      "\n",
      " | Testing Round : 1 | constraint :  Cov(z, d | y = 1) > -c\n",
      "\n"
     ]
    },
    {
     "name": "stderr",
     "output_type": "stream",
     "text": [
      "\n",
      " 25%|██▌       | 1/4 [00:03<00:11,  3.74s/it]\u001b[A"
     ]
    },
    {
     "name": "stdout",
     "output_type": "stream",
     "text": [
      "Client 1: accuracy loss: 3.48 | fairness loss 413.65 | Equal Opportunity Disparity = 0.43\n",
      "Client 2: accuracy loss: 2.97 | fairness loss 789.50 | Equal Opportunity Disparity = 0.26\n",
      "Client 3: accuracy loss: 3.05 | fairness loss 620.07 | Equal Opportunity Disparity = 0.27\n",
      " \n",
      "Avg Training Stats after 1 Testing rounds:\n",
      "Training loss: -295.98 | Validation accuracy: 86.70% | Validation Equal Opportunity Disparity: 0.2953\n",
      "\n",
      " | Testing Round : 2 | constraint :  Cov(z, d | y = 1) > -c\n",
      "\n"
     ]
    },
    {
     "name": "stderr",
     "output_type": "stream",
     "text": [
      "\n",
      " 50%|█████     | 2/4 [00:07<00:07,  3.75s/it]\u001b[A"
     ]
    },
    {
     "name": "stdout",
     "output_type": "stream",
     "text": [
      "Client 1: accuracy loss: 3.77 | fairness loss 1821.71 | Equal Opportunity Disparity = 0.66\n",
      "Client 2: accuracy loss: 3.35 | fairness loss 3445.60 | Equal Opportunity Disparity = 0.33\n",
      "Client 3: accuracy loss: 3.30 | fairness loss 2713.25 | Equal Opportunity Disparity = 0.27\n",
      " \n",
      "Avg Training Stats after 2 Testing rounds:\n",
      "Training loss: -290.08 | Validation accuracy: 85.76% | Validation Equal Opportunity Disparity: 0.3653\n",
      "\n",
      " | Testing Round : 3 | constraint :  Cov(z, d | y = 1) > -c\n",
      "\n"
     ]
    },
    {
     "name": "stderr",
     "output_type": "stream",
     "text": [
      "\n",
      " 75%|███████▌  | 3/4 [00:11<00:03,  3.75s/it]\u001b[A"
     ]
    },
    {
     "name": "stdout",
     "output_type": "stream",
     "text": [
      "Client 1: accuracy loss: 4.00 | fairness loss 4241.54 | Equal Opportunity Disparity = 0.65\n",
      "Client 2: accuracy loss: 3.64 | fairness loss 8002.07 | Equal Opportunity Disparity = 0.27\n",
      "Client 3: accuracy loss: 3.49 | fairness loss 6305.69 | Equal Opportunity Disparity = 0.18\n",
      " \n",
      "Avg Training Stats after 3 Testing rounds:\n",
      "Training loss: -314.26 | Validation accuracy: 82.56% | Validation Equal Opportunity Disparity: 0.3182\n",
      "\n",
      " | Testing Round : 4 | constraint :  Cov(z, d | y = 1) > -c\n",
      "\n"
     ]
    },
    {
     "name": "stderr",
     "output_type": "stream",
     "text": [
      "\n",
      "100%|██████████| 4/4 [00:14<00:00,  3.75s/it]\u001b[A\n",
      "\n",
      "  0%|          | 0/10 [00:00<?, ?it/s]\u001b[A"
     ]
    },
    {
     "name": "stdout",
     "output_type": "stream",
     "text": [
      "Client 1: accuracy loss: 4.20 | fairness loss 7672.77 | Equal Opportunity Disparity = 0.55\n",
      "Client 2: accuracy loss: 3.87 | fairness loss 14458.68 | Equal Opportunity Disparity = 0.13\n",
      "Client 3: accuracy loss: 3.64 | fairness loss 11396.91 | Equal Opportunity Disparity = 0.05\n",
      " \n",
      "Avg Training Stats after 4 Testing rounds:\n",
      "Training loss: -357.22 | Validation accuracy: 74.98% | Validation Equal Opportunity Disparity: 0.1978\n",
      "\n",
      " | Global Round : 1 | constraint :  Cov(z, d | y = 1) > -c\n",
      "\n"
     ]
    },
    {
     "name": "stderr",
     "output_type": "stream",
     "text": [
      "\n",
      " 10%|█         | 1/10 [00:03<00:33,  3.69s/it]\u001b[A"
     ]
    },
    {
     "name": "stdout",
     "output_type": "stream",
     "text": [
      "Client 1: accuracy loss: 3.24 | fairness loss 7722.60 | Equal Opportunity Disparity = 0.22\n",
      "Client 2: accuracy loss: 2.73 | fairness loss 14548.70 | Equal Opportunity Disparity = 0.13\n",
      "Client 3: accuracy loss: 2.68 | fairness loss 11469.33 | Equal Opportunity Disparity = 0.03\n",
      " \n",
      "Avg Training Stats after 1 global rounds:\n",
      "Training loss: -318.64 | Validation accuracy: 73.55% | Validation Equal Opportunity Disparity: 0.1325\n",
      "\n",
      " | Global Round : 2 | constraint :  Cov(z, d | y = 1) > -c\n",
      "\n"
     ]
    },
    {
     "name": "stderr",
     "output_type": "stream",
     "text": [
      "\n",
      " 20%|██        | 2/10 [00:07<00:29,  3.73s/it]\u001b[A"
     ]
    },
    {
     "name": "stdout",
     "output_type": "stream",
     "text": [
      "Client 1: accuracy loss: 3.22 | fairness loss 7867.52 | Equal Opportunity Disparity = 0.21\n",
      "Client 2: accuracy loss: 2.60 | fairness loss 14818.97 | Equal Opportunity Disparity = 0.11\n",
      "Client 3: accuracy loss: 2.71 | fairness loss 11683.39 | Equal Opportunity Disparity = 0.03\n",
      " \n",
      "Avg Training Stats after 2 global rounds:\n",
      "Training loss: -288.19 | Validation accuracy: 72.54% | Validation Equal Opportunity Disparity: 0.1221\n",
      "\n",
      " | Global Round : 3 | constraint :  Cov(z, d | y = 1) > -c\n",
      "\n"
     ]
    },
    {
     "name": "stderr",
     "output_type": "stream",
     "text": [
      "\n",
      " 30%|███       | 3/10 [00:11<00:26,  3.73s/it]\u001b[A"
     ]
    },
    {
     "name": "stdout",
     "output_type": "stream",
     "text": [
      "Client 1: accuracy loss: 3.22 | fairness loss 8017.79 | Equal Opportunity Disparity = 0.20\n",
      "Client 2: accuracy loss: 2.54 | fairness loss 15097.84 | Equal Opportunity Disparity = 0.04\n",
      "Client 3: accuracy loss: 2.74 | fairness loss 11904.31 | Equal Opportunity Disparity = 0.03\n",
      " \n",
      "Avg Training Stats after 3 global rounds:\n",
      "Training loss: -263.34 | Validation accuracy: 72.58% | Validation Equal Opportunity Disparity: 0.0702\n",
      "\n",
      " | Global Round : 4 | constraint :  Cov(z, d | y = 1) > -c\n",
      "\n"
     ]
    },
    {
     "name": "stderr",
     "output_type": "stream",
     "text": [
      "\n",
      " 40%|████      | 4/10 [00:15<00:22,  3.77s/it]\u001b[A"
     ]
    },
    {
     "name": "stdout",
     "output_type": "stream",
     "text": [
      "Client 1: accuracy loss: 3.23 | fairness loss 8170.03 | Equal Opportunity Disparity = 0.19\n",
      "Client 2: accuracy loss: 2.51 | fairness loss 15379.95 | Equal Opportunity Disparity = 0.05\n",
      "Client 3: accuracy loss: 2.75 | fairness loss 12127.83 | Equal Opportunity Disparity = 0.03\n",
      " \n",
      "Avg Training Stats after 4 global rounds:\n",
      "Training loss: -242.68 | Validation accuracy: 72.22% | Validation Equal Opportunity Disparity: 0.0130\n",
      "\n",
      " | Global Round : 5 | constraint :  Cov(z, d | y = 1) > -c\n",
      "\n"
     ]
    },
    {
     "name": "stderr",
     "output_type": "stream",
     "text": [
      "\n",
      " 50%|█████     | 5/10 [00:18<00:18,  3.77s/it]\u001b[A"
     ]
    },
    {
     "name": "stdout",
     "output_type": "stream",
     "text": [
      "Client 1: accuracy loss: 3.23 | fairness loss 8323.83 | Equal Opportunity Disparity = 0.19\n",
      "Client 2: accuracy loss: 2.50 | fairness loss 15664.79 | Equal Opportunity Disparity = 0.09\n",
      "Client 3: accuracy loss: 2.76 | fairness loss 12353.53 | Equal Opportunity Disparity = 0.01\n",
      " \n",
      "Avg Training Stats after 5 global rounds:\n",
      "Training loss: -225.23 | Validation accuracy: 72.15% | Validation Equal Opportunity Disparity: 0.0156\n",
      "\n",
      " | Global Round : 6 | constraint :  Cov(z, d | y = 1) > -c\n",
      "\n"
     ]
    },
    {
     "name": "stderr",
     "output_type": "stream",
     "text": [
      "\n",
      " 60%|██████    | 6/10 [00:22<00:15,  3.79s/it]\u001b[A"
     ]
    },
    {
     "name": "stdout",
     "output_type": "stream",
     "text": [
      "Client 1: accuracy loss: 3.23 | fairness loss 8479.11 | Equal Opportunity Disparity = 0.16\n",
      "Client 2: accuracy loss: 2.49 | fairness loss 15952.32 | Equal Opportunity Disparity = 0.13\n",
      "Client 3: accuracy loss: 2.77 | fairness loss 12581.37 | Equal Opportunity Disparity = 0.01\n",
      " \n",
      "Avg Training Stats after 6 global rounds:\n",
      "Training loss: -210.31 | Validation accuracy: 70.92% | Validation Equal Opportunity Disparity: 0.0417\n",
      "\n",
      " | Global Round : 7 | constraint :  Cov(z, d | y = 1) > -c\n",
      "\n"
     ]
    },
    {
     "name": "stderr",
     "output_type": "stream",
     "text": [
      "\n",
      " 70%|███████   | 7/10 [00:26<00:11,  3.77s/it]\u001b[A"
     ]
    },
    {
     "name": "stdout",
     "output_type": "stream",
     "text": [
      "Client 1: accuracy loss: 3.24 | fairness loss 8635.89 | Equal Opportunity Disparity = 0.15\n",
      "Client 2: accuracy loss: 2.49 | fairness loss 16242.53 | Equal Opportunity Disparity = 0.13\n",
      "Client 3: accuracy loss: 2.77 | fairness loss 12811.36 | Equal Opportunity Disparity = 0.01\n",
      " \n",
      "Avg Training Stats after 7 global rounds:\n",
      "Training loss: -197.41 | Validation accuracy: 70.64% | Validation Equal Opportunity Disparity: 0.0470\n",
      "\n",
      " | Global Round : 8 | constraint :  Cov(z, d | y = 1) > -c\n",
      "\n"
     ]
    },
    {
     "name": "stderr",
     "output_type": "stream",
     "text": [
      "\n",
      " 80%|████████  | 8/10 [00:30<00:07,  3.75s/it]\u001b[A"
     ]
    },
    {
     "name": "stdout",
     "output_type": "stream",
     "text": [
      "Client 1: accuracy loss: 3.24 | fairness loss 8794.18 | Equal Opportunity Disparity = 0.15\n",
      "Client 2: accuracy loss: 2.49 | fairness loss 16535.50 | Equal Opportunity Disparity = 0.13\n",
      "Client 3: accuracy loss: 2.77 | fairness loss 13043.53 | Equal Opportunity Disparity = 0.01\n",
      " \n",
      "Avg Training Stats after 8 global rounds:\n",
      "Training loss: -186.16 | Validation accuracy: 70.64% | Validation Equal Opportunity Disparity: 0.0470\n",
      "\n",
      " | Global Round : 9 | constraint :  Cov(z, d | y = 1) > -c\n",
      "\n"
     ]
    },
    {
     "name": "stderr",
     "output_type": "stream",
     "text": [
      "\n",
      " 90%|█████████ | 9/10 [00:33<00:03,  3.77s/it]\u001b[A"
     ]
    },
    {
     "name": "stdout",
     "output_type": "stream",
     "text": [
      "Client 1: accuracy loss: 3.24 | fairness loss 8953.98 | Equal Opportunity Disparity = 0.15\n",
      "Client 2: accuracy loss: 2.49 | fairness loss 16831.22 | Equal Opportunity Disparity = 0.13\n",
      "Client 3: accuracy loss: 2.77 | fairness loss 13277.91 | Equal Opportunity Disparity = 0.01\n",
      " \n",
      "Avg Training Stats after 9 global rounds:\n",
      "Training loss: -176.25 | Validation accuracy: 70.24% | Validation Equal Opportunity Disparity: 0.0522\n",
      "\n",
      " | Global Round : 10 | constraint :  Cov(z, d | y = 1) > -c\n",
      "\n"
     ]
    },
    {
     "name": "stderr",
     "output_type": "stream",
     "text": [
      "\n",
      "100%|██████████| 10/10 [00:37<00:00,  3.76s/it]\u001b[A"
     ]
    },
    {
     "name": "stdout",
     "output_type": "stream",
     "text": [
      "Client 1: accuracy loss: 3.24 | fairness loss 9115.31 | Equal Opportunity Disparity = 0.15\n",
      "Client 2: accuracy loss: 2.49 | fairness loss 17129.72 | Equal Opportunity Disparity = 0.13\n",
      "Client 3: accuracy loss: 2.77 | fairness loss 13514.49 | Equal Opportunity Disparity = 0.01\n",
      " \n",
      "Avg Training Stats after 10 global rounds:\n",
      "Training loss: -167.48 | Validation accuracy: 70.24% | Validation Equal Opportunity Disparity: 0.0522\n",
      " \n",
      " Results after 10 global rounds of training:\n",
      "|---- Avg Train Accuracy: 70.24%\n",
      "|---- Test Accuracy: 72.00%\n",
      "|---- Test Equal Opportunity Disparity: 0.1119\n",
      "\n",
      " Total Run Time: 67.8352 sec\n"
     ]
    },
    {
     "name": "stderr",
     "output_type": "stream",
     "text": [
      "\n"
     ]
    }
   ],
   "source": [
    "seed = 95\n",
    "synthetic_info = dataGenerate(seed = seed, test_samples = 100)\n",
    "server = Server(logReg(num_features=3, num_classes=2, seed = seed), synthetic_info, train_prn = False, seed = seed)\n",
    "server.FairConstraints(test_rounds = 4, test_lr = 0.01, test_penalty = 80, num_rounds = 5, local_epochs = 50, optimizer = 'adam', learning_rate = 0.002, penalty = 5)\n"
   ]
  },
  {
   "cell_type": "code",
   "execution_count": 7,
   "metadata": {
    "scrolled": true
   },
   "outputs": [
    {
     "name": "stderr",
     "output_type": "stream",
     "text": [
      "\r",
      "  0%|          | 0/5 [00:00<?, ?it/s]"
     ]
    },
    {
     "name": "stdout",
     "output_type": "stream",
     "text": [
      "\n",
      " | Global Training Round : 1 |\n",
      "\n"
     ]
    },
    {
     "name": "stderr",
     "output_type": "stream",
     "text": [
      "\r",
      " 20%|██        | 1/5 [00:02<00:11,  2.97s/it]"
     ]
    },
    {
     "name": "stdout",
     "output_type": "stream",
     "text": [
      "Client 1: accuracy loss: 3.17 | fairness loss 144.13 | Equal Opportunity Disparity = 0.31\n",
      "Client 2: accuracy loss: 2.54 | fairness loss 333.62 | Equal Opportunity Disparity = 0.05\n",
      "Client 3: accuracy loss: 3.38 | fairness loss 249.96 | Equal Opportunity Disparity = 0.23\n",
      " \n",
      "Avg Training Stats after 1 global rounds:\n",
      "Training loss: 0.34 | Training accuracy: 88.25% | Training Equal Opportunity Disparity: 0.1997\n",
      "\n",
      " | Global Training Round : 2 |\n",
      "\n"
     ]
    },
    {
     "name": "stderr",
     "output_type": "stream",
     "text": [
      "\r",
      " 40%|████      | 2/5 [00:05<00:08,  2.96s/it]"
     ]
    },
    {
     "name": "stdout",
     "output_type": "stream",
     "text": [
      "Client 1: accuracy loss: 3.62 | fairness loss 76.77 | Equal Opportunity Disparity = 0.12\n",
      "Client 2: accuracy loss: 3.15 | fairness loss 214.30 | Equal Opportunity Disparity = 0.03\n",
      "Client 3: accuracy loss: 3.96 | fairness loss 138.76 | Equal Opportunity Disparity = 0.13\n",
      " \n",
      "Avg Training Stats after 2 global rounds:\n",
      "Training loss: 0.38 | Training accuracy: 85.70% | Training Equal Opportunity Disparity: 0.1000\n",
      "\n",
      " | Global Training Round : 3 |\n",
      "\n"
     ]
    },
    {
     "name": "stderr",
     "output_type": "stream",
     "text": [
      "\r",
      " 60%|██████    | 3/5 [00:09<00:06,  3.20s/it]"
     ]
    },
    {
     "name": "stdout",
     "output_type": "stream",
     "text": [
      "Client 1: accuracy loss: 4.79 | fairness loss 44.39 | Equal Opportunity Disparity = 0.03\n",
      "Client 2: accuracy loss: 4.01 | fairness loss 136.27 | Equal Opportunity Disparity = 0.05\n",
      "Client 3: accuracy loss: 4.85 | fairness loss 75.85 | Equal Opportunity Disparity = 0.06\n",
      " \n",
      "Avg Training Stats after 3 global rounds:\n",
      "Training loss: 0.33 | Training accuracy: 79.61% | Training Equal Opportunity Disparity: 0.0764\n",
      "\n",
      " | Global Training Round : 4 |\n",
      "\n"
     ]
    },
    {
     "name": "stderr",
     "output_type": "stream",
     "text": [
      "\r",
      " 80%|████████  | 4/5 [00:13<00:03,  3.30s/it]"
     ]
    },
    {
     "name": "stdout",
     "output_type": "stream",
     "text": [
      "Client 1: accuracy loss: 5.03 | fairness loss 55.18 | Equal Opportunity Disparity = 0.06\n",
      "Client 2: accuracy loss: 3.98 | fairness loss 172.82 | Equal Opportunity Disparity = 0.05\n",
      "Client 3: accuracy loss: 4.79 | fairness loss 97.41 | Equal Opportunity Disparity = 0.05\n",
      " \n",
      "Avg Training Stats after 4 global rounds:\n",
      "Training loss: 0.31 | Training accuracy: 79.22% | Training Equal Opportunity Disparity: 0.0678\n",
      "\n",
      " | Global Training Round : 5 |\n",
      "\n"
     ]
    },
    {
     "name": "stderr",
     "output_type": "stream",
     "text": [
      "100%|██████████| 5/5 [00:16<00:00,  3.22s/it]"
     ]
    },
    {
     "name": "stdout",
     "output_type": "stream",
     "text": [
      "Client 1: accuracy loss: 4.62 | fairness loss 74.57 | Equal Opportunity Disparity = 0.01\n",
      "Client 2: accuracy loss: 3.66 | fairness loss 236.26 | Equal Opportunity Disparity = 0.05\n",
      "Client 3: accuracy loss: 4.46 | fairness loss 138.65 | Equal Opportunity Disparity = 0.03\n",
      " \n",
      "Avg Training Stats after 5 global rounds:\n",
      "Training loss: 0.32 | Training accuracy: 80.43% | Training Equal Opportunity Disparity: 0.0337\n",
      " \n",
      " Results after 5 global rounds of training:\n",
      "|---- Avg Train Accuracy: 80.43%\n",
      "|---- Test Accuracy: 72.00%\n",
      "|---- Test Equal Opportunity Disparity: 0.0292\n",
      "\n",
      " Total Run Time: 16.1065 sec\n"
     ]
    },
    {
     "name": "stderr",
     "output_type": "stream",
     "text": [
      "\n"
     ]
    }
   ],
   "source": [
    "seed = 699\n",
    "synthetic_info = dataGenerate(seed = seed, test_samples = 100)\n",
    "server = Server(logReg(num_features=3, num_classes=2, seed = seed), synthetic_info, train_prn = False, seed = seed)\n",
    "server.FairBatch(num_rounds = 5, local_epochs = 30, optimizer = 'adam', learning_rate = 0.005, alpha = 0.5)\n"
   ]
  },
  {
   "cell_type": "code",
   "execution_count": 4,
   "metadata": {
    "scrolled": true
   },
   "outputs": [
    {
     "name": "stderr",
     "output_type": "stream",
     "text": [
      "\r",
      "  0%|          | 0/10 [00:00<?, ?it/s]"
     ]
    },
    {
     "name": "stdout",
     "output_type": "stream",
     "text": [
      "\n",
      " | Global Training Round : 1 |\n",
      "\n"
     ]
    },
    {
     "name": "stderr",
     "output_type": "stream",
     "text": [
      "\r",
      " 10%|█         | 1/10 [00:03<00:30,  3.41s/it]"
     ]
    },
    {
     "name": "stdout",
     "output_type": "stream",
     "text": [
      "Client 1: accuracy loss: 3.49 | fairness loss 188.02 | Equal Opportunity Disparity = 0.25\n",
      "Client 2: accuracy loss: 2.86 | fairness loss 210.42 | Equal Opportunity Disparity = 0.09\n",
      "Client 3: accuracy loss: 2.63 | fairness loss 234.84 | Equal Opportunity Disparity = 0.21\n",
      " \n",
      "Avg Training Stats after 1 global rounds:\n",
      "Training loss: 0.34 | Validation accuracy: 90.22% | Validation Equal Opportunity Disparity: 0.1693\n",
      "\n",
      " | Global Training Round : 2 |\n",
      "\n"
     ]
    },
    {
     "name": "stderr",
     "output_type": "stream",
     "text": [
      "\r",
      " 20%|██        | 2/10 [00:06<00:27,  3.38s/it]"
     ]
    },
    {
     "name": "stdout",
     "output_type": "stream",
     "text": [
      "Client 1: accuracy loss: 3.53 | fairness loss 173.63 | Equal Opportunity Disparity = 0.25\n",
      "Client 2: accuracy loss: 2.91 | fairness loss 198.30 | Equal Opportunity Disparity = 0.09\n",
      "Client 3: accuracy loss: 2.69 | fairness loss 219.48 | Equal Opportunity Disparity = 0.21\n",
      " \n",
      "Avg Training Stats after 2 global rounds:\n",
      "Training loss: 0.34 | Validation accuracy: 89.89% | Validation Equal Opportunity Disparity: 0.1693\n",
      "\n",
      " | Global Training Round : 3 |\n",
      "\n"
     ]
    },
    {
     "name": "stderr",
     "output_type": "stream",
     "text": [
      "\r",
      " 30%|███       | 3/10 [00:10<00:23,  3.39s/it]"
     ]
    },
    {
     "name": "stdout",
     "output_type": "stream",
     "text": [
      "Client 1: accuracy loss: 3.59 | fairness loss 160.46 | Equal Opportunity Disparity = 0.12\n",
      "Client 2: accuracy loss: 2.98 | fairness loss 185.90 | Equal Opportunity Disparity = 0.09\n",
      "Client 3: accuracy loss: 2.76 | fairness loss 204.21 | Equal Opportunity Disparity = 0.13\n",
      " \n",
      "Avg Training Stats after 3 global rounds:\n",
      "Training loss: 0.34 | Validation accuracy: 90.87% | Validation Equal Opportunity Disparity: 0.1161\n",
      "\n",
      " | Global Training Round : 4 |\n",
      "\n"
     ]
    },
    {
     "name": "stderr",
     "output_type": "stream",
     "text": [
      "\r",
      " 40%|████      | 4/10 [00:13<00:19,  3.32s/it]"
     ]
    },
    {
     "name": "stdout",
     "output_type": "stream",
     "text": [
      "Client 1: accuracy loss: 3.65 | fairness loss 149.41 | Equal Opportunity Disparity = 0.12\n",
      "Client 2: accuracy loss: 3.06 | fairness loss 175.30 | Equal Opportunity Disparity = 0.09\n",
      "Client 3: accuracy loss: 2.83 | fairness loss 191.06 | Equal Opportunity Disparity = 0.13\n",
      " \n",
      "Avg Training Stats after 4 global rounds:\n",
      "Training loss: 0.34 | Validation accuracy: 89.67% | Validation Equal Opportunity Disparity: 0.1161\n",
      "\n",
      " | Global Training Round : 5 |\n",
      "\n"
     ]
    },
    {
     "name": "stderr",
     "output_type": "stream",
     "text": [
      "\r",
      " 50%|█████     | 5/10 [00:16<00:17,  3.43s/it]"
     ]
    },
    {
     "name": "stdout",
     "output_type": "stream",
     "text": [
      "Client 1: accuracy loss: 3.71 | fairness loss 140.07 | Equal Opportunity Disparity = 0.12\n",
      "Client 2: accuracy loss: 3.13 | fairness loss 166.23 | Equal Opportunity Disparity = 0.09\n",
      "Client 3: accuracy loss: 2.90 | fairness loss 179.76 | Equal Opportunity Disparity = 0.13\n",
      " \n",
      "Avg Training Stats after 5 global rounds:\n",
      "Training loss: 0.34 | Validation accuracy: 89.09% | Validation Equal Opportunity Disparity: 0.1161\n",
      "\n",
      " | Global Training Round : 6 |\n",
      "\n"
     ]
    },
    {
     "name": "stderr",
     "output_type": "stream",
     "text": [
      "\r",
      " 60%|██████    | 6/10 [00:21<00:14,  3.62s/it]"
     ]
    },
    {
     "name": "stdout",
     "output_type": "stream",
     "text": [
      "Client 1: accuracy loss: 3.77 | fairness loss 132.15 | Equal Opportunity Disparity = 0.12\n",
      "Client 2: accuracy loss: 3.21 | fairness loss 158.46 | Equal Opportunity Disparity = 0.09\n",
      "Client 3: accuracy loss: 2.97 | fairness loss 170.07 | Equal Opportunity Disparity = 0.06\n",
      " \n",
      "Avg Training Stats after 6 global rounds:\n",
      "Training loss: 0.34 | Validation accuracy: 89.16% | Validation Equal Opportunity Disparity: 0.0895\n",
      "\n",
      " | Global Training Round : 7 |\n",
      "\n"
     ]
    },
    {
     "name": "stderr",
     "output_type": "stream",
     "text": [
      "\r",
      " 70%|███████   | 7/10 [00:24<00:10,  3.64s/it]"
     ]
    },
    {
     "name": "stdout",
     "output_type": "stream",
     "text": [
      "Client 1: accuracy loss: 3.82 | fairness loss 125.41 | Equal Opportunity Disparity = 0.12\n",
      "Client 2: accuracy loss: 3.28 | fairness loss 151.79 | Equal Opportunity Disparity = 0.09\n",
      "Client 3: accuracy loss: 3.04 | fairness loss 161.76 | Equal Opportunity Disparity = 0.06\n",
      " \n",
      "Avg Training Stats after 7 global rounds:\n",
      "Training loss: 0.34 | Validation accuracy: 89.16% | Validation Equal Opportunity Disparity: 0.0895\n",
      "\n",
      " | Global Training Round : 8 |\n",
      "\n"
     ]
    },
    {
     "name": "stderr",
     "output_type": "stream",
     "text": [
      "\r",
      " 80%|████████  | 8/10 [00:28<00:07,  3.67s/it]"
     ]
    },
    {
     "name": "stdout",
     "output_type": "stream",
     "text": [
      "Client 1: accuracy loss: 3.87 | fairness loss 119.67 | Equal Opportunity Disparity = 0.12\n",
      "Client 2: accuracy loss: 3.34 | fairness loss 146.05 | Equal Opportunity Disparity = 0.09\n",
      "Client 3: accuracy loss: 3.10 | fairness loss 154.62 | Equal Opportunity Disparity = 0.06\n",
      " \n",
      "Avg Training Stats after 8 global rounds:\n",
      "Training loss: 0.34 | Validation accuracy: 88.51% | Validation Equal Opportunity Disparity: 0.0895\n",
      "\n",
      " | Global Training Round : 9 |\n",
      "\n"
     ]
    },
    {
     "name": "stderr",
     "output_type": "stream",
     "text": [
      "\r",
      " 90%|█████████ | 9/10 [00:31<00:03,  3.62s/it]"
     ]
    },
    {
     "name": "stdout",
     "output_type": "stream",
     "text": [
      "Client 1: accuracy loss: 3.92 | fairness loss 114.76 | Equal Opportunity Disparity = 0.12\n",
      "Client 2: accuracy loss: 3.40 | fairness loss 141.07 | Equal Opportunity Disparity = 0.09\n",
      "Client 3: accuracy loss: 3.16 | fairness loss 148.46 | Equal Opportunity Disparity = 0.06\n",
      " \n",
      "Avg Training Stats after 9 global rounds:\n",
      "Training loss: 0.34 | Validation accuracy: 87.93% | Validation Equal Opportunity Disparity: 0.0895\n",
      "\n",
      " | Global Training Round : 10 |\n",
      "\n"
     ]
    },
    {
     "name": "stderr",
     "output_type": "stream",
     "text": [
      "100%|██████████| 10/10 [00:35<00:00,  3.52s/it]"
     ]
    },
    {
     "name": "stdout",
     "output_type": "stream",
     "text": [
      "Client 1: accuracy loss: 3.96 | fairness loss 110.55 | Equal Opportunity Disparity = 0.10\n",
      "Client 2: accuracy loss: 3.46 | fairness loss 136.79 | Equal Opportunity Disparity = 0.09\n",
      "Client 3: accuracy loss: 3.22 | fairness loss 143.16 | Equal Opportunity Disparity = 0.06\n",
      " \n",
      "Avg Training Stats after 10 global rounds:\n",
      "Training loss: 0.34 | Validation accuracy: 87.64% | Validation Equal Opportunity Disparity: 0.0838\n",
      " \n",
      " Results after 10 global rounds of training:\n",
      "|---- Avg Train Accuracy: 87.64%\n",
      "|---- Test Accuracy: 85.00%\n",
      "|---- Test Equal Opportunity Disparity: 0.3180\n",
      "\n",
      " Total Run Time: 35.1614 sec\n"
     ]
    },
    {
     "name": "stderr",
     "output_type": "stream",
     "text": [
      "\n"
     ]
    }
   ],
   "source": [
    "seed = 801\n",
    "synthetic_info = dataGenerate(seed = seed, test_samples = 100)\n",
    "server = Server(logReg(num_features=3, num_classes=2, seed = seed), synthetic_info, train_prn = False, seed = seed)\n",
    "server.BiasCorrecting(num_rounds = 10, local_epochs = 30, optimizer = 'adam', learning_rate = 0.008, alpha = 2)\n"
   ]
  },
  {
   "cell_type": "code",
   "execution_count": 3,
   "metadata": {
    "scrolled": true
   },
   "outputs": [
    {
     "name": "stderr",
     "output_type": "stream",
     "text": [
      "\r",
      "  0%|          | 0/10 [00:00<?, ?it/s]"
     ]
    },
    {
     "name": "stdout",
     "output_type": "stream",
     "text": [
      "\n",
      " | Global Training Round : 1 |\n",
      "\n"
     ]
    },
    {
     "name": "stderr",
     "output_type": "stream",
     "text": [
      "\r",
      " 10%|█         | 1/10 [00:01<00:17,  2.00s/it]"
     ]
    },
    {
     "name": "stdout",
     "output_type": "stream",
     "text": [
      "Client 1: accuracy loss: 3.71 | fairness loss 315.57 | Equal Opportunity Disparity = 0.56\n",
      "Client 2: accuracy loss: 3.91 | fairness loss 261.89 | Equal Opportunity Disparity = 0.51\n",
      "Client 3: accuracy loss: 3.79 | fairness loss 357.00 | Equal Opportunity Disparity = 0.58\n",
      " \n",
      "Avg Training Stats after 1 global rounds:\n",
      "Training loss: 55.04 | Validation accuracy: 80.27% | Validation Equal Opportunity Disparity: 0.5858\n",
      "\n",
      " | Global Training Round : 2 |\n",
      "\n"
     ]
    },
    {
     "name": "stderr",
     "output_type": "stream",
     "text": [
      "\r",
      " 20%|██        | 2/10 [00:04<00:16,  2.01s/it]"
     ]
    },
    {
     "name": "stdout",
     "output_type": "stream",
     "text": [
      "Client 1: accuracy loss: 3.18 | fairness loss 378.74 | Equal Opportunity Disparity = 0.31\n",
      "Client 2: accuracy loss: 3.43 | fairness loss 355.27 | Equal Opportunity Disparity = 0.37\n",
      "Client 3: accuracy loss: 3.40 | fairness loss 487.86 | Equal Opportunity Disparity = 0.42\n",
      " \n",
      "Avg Training Stats after 2 global rounds:\n",
      "Training loss: 47.94 | Validation accuracy: 84.40% | Validation Equal Opportunity Disparity: 0.4057\n",
      "\n",
      " | Global Training Round : 3 |\n",
      "\n"
     ]
    },
    {
     "name": "stderr",
     "output_type": "stream",
     "text": [
      "\r",
      " 30%|███       | 3/10 [00:06<00:14,  2.02s/it]"
     ]
    },
    {
     "name": "stdout",
     "output_type": "stream",
     "text": [
      "Client 1: accuracy loss: 3.06 | fairness loss 496.84 | Equal Opportunity Disparity = 0.30\n",
      "Client 2: accuracy loss: 3.34 | fairness loss 494.62 | Equal Opportunity Disparity = 0.28\n",
      "Client 3: accuracy loss: 3.40 | fairness loss 684.17 | Equal Opportunity Disparity = 0.31\n",
      " \n",
      "Avg Training Stats after 3 global rounds:\n",
      "Training loss: 44.10 | Validation accuracy: 86.38% | Validation Equal Opportunity Disparity: 0.3157\n",
      "\n",
      " | Global Training Round : 4 |\n",
      "\n"
     ]
    },
    {
     "name": "stderr",
     "output_type": "stream",
     "text": [
      "\r",
      " 40%|████      | 4/10 [00:08<00:12,  2.08s/it]"
     ]
    },
    {
     "name": "stdout",
     "output_type": "stream",
     "text": [
      "Client 1: accuracy loss: 3.03 | fairness loss 540.77 | Equal Opportunity Disparity = 0.30\n",
      "Client 2: accuracy loss: 3.32 | fairness loss 544.32 | Equal Opportunity Disparity = 0.28\n",
      "Client 3: accuracy loss: 3.41 | fairness loss 756.35 | Equal Opportunity Disparity = 0.26\n",
      " \n",
      "Avg Training Stats after 4 global rounds:\n",
      "Training loss: 41.97 | Validation accuracy: 86.77% | Validation Equal Opportunity Disparity: 0.2956\n",
      "\n",
      " | Global Training Round : 5 |\n",
      "\n"
     ]
    },
    {
     "name": "stderr",
     "output_type": "stream",
     "text": [
      "\r",
      " 50%|█████     | 5/10 [00:10<00:10,  2.09s/it]"
     ]
    },
    {
     "name": "stdout",
     "output_type": "stream",
     "text": [
      "Client 1: accuracy loss: 3.01 | fairness loss 549.73 | Equal Opportunity Disparity = 0.19\n",
      "Client 2: accuracy loss: 3.30 | fairness loss 553.43 | Equal Opportunity Disparity = 0.28\n",
      "Client 3: accuracy loss: 3.41 | fairness loss 771.76 | Equal Opportunity Disparity = 0.26\n",
      " \n",
      "Avg Training Stats after 5 global rounds:\n",
      "Training loss: 40.65 | Validation accuracy: 87.35% | Validation Equal Opportunity Disparity: 0.2756\n",
      "\n",
      " | Global Training Round : 6 |\n",
      "\n"
     ]
    },
    {
     "name": "stderr",
     "output_type": "stream",
     "text": [
      "\r",
      " 60%|██████    | 6/10 [00:12<00:08,  2.11s/it]"
     ]
    },
    {
     "name": "stdout",
     "output_type": "stream",
     "text": [
      "Client 1: accuracy loss: 2.99 | fairness loss 553.56 | Equal Opportunity Disparity = 0.19\n",
      "Client 2: accuracy loss: 3.29 | fairness loss 556.84 | Equal Opportunity Disparity = 0.28\n",
      "Client 3: accuracy loss: 3.43 | fairness loss 778.76 | Equal Opportunity Disparity = 0.26\n",
      " \n",
      "Avg Training Stats after 6 global rounds:\n",
      "Training loss: 39.76 | Validation accuracy: 86.96% | Validation Equal Opportunity Disparity: 0.2756\n",
      "\n",
      " | Global Training Round : 7 |\n",
      "\n"
     ]
    },
    {
     "name": "stderr",
     "output_type": "stream",
     "text": [
      "\r",
      " 70%|███████   | 7/10 [00:15<00:06,  2.24s/it]"
     ]
    },
    {
     "name": "stdout",
     "output_type": "stream",
     "text": [
      "Client 1: accuracy loss: 2.98 | fairness loss 556.32 | Equal Opportunity Disparity = 0.19\n",
      "Client 2: accuracy loss: 3.28 | fairness loss 559.19 | Equal Opportunity Disparity = 0.28\n",
      "Client 3: accuracy loss: 3.44 | fairness loss 783.82 | Equal Opportunity Disparity = 0.21\n",
      " \n",
      "Avg Training Stats after 7 global rounds:\n",
      "Training loss: 39.11 | Validation accuracy: 87.35% | Validation Equal Opportunity Disparity: 0.2556\n",
      "\n",
      " | Global Training Round : 8 |\n",
      "\n"
     ]
    },
    {
     "name": "stderr",
     "output_type": "stream",
     "text": [
      "\r",
      " 80%|████████  | 8/10 [00:17<00:04,  2.31s/it]"
     ]
    },
    {
     "name": "stdout",
     "output_type": "stream",
     "text": [
      "Client 1: accuracy loss: 2.97 | fairness loss 558.62 | Equal Opportunity Disparity = 0.18\n",
      "Client 2: accuracy loss: 3.27 | fairness loss 561.17 | Equal Opportunity Disparity = 0.28\n",
      "Client 3: accuracy loss: 3.45 | fairness loss 787.99 | Equal Opportunity Disparity = 0.21\n",
      " \n",
      "Avg Training Stats after 8 global rounds:\n",
      "Training loss: 38.63 | Validation accuracy: 87.06% | Validation Equal Opportunity Disparity: 0.2506\n",
      "\n",
      " | Global Training Round : 9 |\n",
      "\n"
     ]
    },
    {
     "name": "stderr",
     "output_type": "stream",
     "text": [
      "\r",
      " 90%|█████████ | 9/10 [00:21<00:02,  2.67s/it]"
     ]
    },
    {
     "name": "stdout",
     "output_type": "stream",
     "text": [
      "Client 1: accuracy loss: 2.96 | fairness loss 560.57 | Equal Opportunity Disparity = 0.18\n",
      "Client 2: accuracy loss: 3.27 | fairness loss 562.88 | Equal Opportunity Disparity = 0.28\n",
      "Client 3: accuracy loss: 3.46 | fairness loss 791.46 | Equal Opportunity Disparity = 0.21\n",
      " \n",
      "Avg Training Stats after 9 global rounds:\n",
      "Training loss: 38.25 | Validation accuracy: 87.06% | Validation Equal Opportunity Disparity: 0.2506\n",
      "\n",
      " | Global Training Round : 10 |\n",
      "\n"
     ]
    },
    {
     "name": "stderr",
     "output_type": "stream",
     "text": [
      "100%|██████████| 10/10 [00:23<00:00,  2.35s/it]"
     ]
    },
    {
     "name": "stdout",
     "output_type": "stream",
     "text": [
      "Client 1: accuracy loss: 2.96 | fairness loss 562.21 | Equal Opportunity Disparity = 0.18\n",
      "Client 2: accuracy loss: 3.27 | fairness loss 564.33 | Equal Opportunity Disparity = 0.28\n",
      "Client 3: accuracy loss: 3.46 | fairness loss 794.35 | Equal Opportunity Disparity = 0.19\n",
      " \n",
      "Avg Training Stats after 10 global rounds:\n",
      "Training loss: 37.94 | Validation accuracy: 86.99% | Validation Equal Opportunity Disparity: 0.2456\n",
      " \n",
      " Results after 10 global rounds of training:\n",
      "|---- Avg Train Accuracy: 86.99%\n",
      "|---- Test Accuracy: 88.00%\n",
      "|---- Test Equal Opportunity Disparity: 0.2308\n",
      "\n",
      " Total Run Time: 23.5387 sec\n"
     ]
    },
    {
     "name": "stderr",
     "output_type": "stream",
     "text": [
      "\n"
     ]
    }
   ],
   "source": [
    "seed = 460\n",
    "synthetic_info = dataGenerate(seed = seed, test_samples = 100)\n",
    "server = Server(logReg(num_features=3, num_classes=2, seed = seed), synthetic_info, train_prn = False, seed = seed)\n",
    "server.Unconstrained(num_rounds = 10, local_epochs = 30, optimizer = 'adam', learning_rate = 0.001)\n",
    "\n"
   ]
  },
  {
   "cell_type": "code",
   "execution_count": 5,
   "metadata": {},
   "outputs": [
    {
     "data": {
      "text/plain": [
       "1.5"
      ]
     },
     "execution_count": 5,
     "metadata": {},
     "output_type": "execute_result"
    }
   ],
   "source": [
    "torch.tensor([1.,2.]).mean().item()"
   ]
  },
  {
   "cell_type": "code",
   "execution_count": null,
   "metadata": {},
   "outputs": [],
   "source": []
  }
 ],
 "metadata": {
  "kernelspec": {
   "display_name": "Python 3",
   "language": "python",
   "name": "python3"
  },
  "language_info": {
   "codemirror_mode": {
    "name": "ipython",
    "version": 3
   },
   "file_extension": ".py",
   "mimetype": "text/x-python",
   "name": "python",
   "nbconvert_exporter": "python",
   "pygments_lexer": "ipython3",
   "version": "3.7.4"
  }
 },
 "nbformat": 4,
 "nbformat_minor": 2
}
