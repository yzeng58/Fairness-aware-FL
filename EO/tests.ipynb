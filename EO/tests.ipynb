{
 "cells": [
  {
   "cell_type": "code",
   "execution_count": 1,
   "metadata": {},
   "outputs": [],
   "source": [
    "from Server import *"
   ]
  },
  {
   "cell_type": "code",
   "execution_count": 2,
   "metadata": {
    "scrolled": true
   },
   "outputs": [
    {
     "name": "stderr",
     "output_type": "stream",
     "text": [
      "\r",
      "  0%|          | 0/10 [00:00<?, ?it/s]"
     ]
    },
    {
     "name": "stdout",
     "output_type": "stream",
     "text": [
      "\n",
      " | Global Training Round : 1 |\n",
      "\n"
     ]
    },
    {
     "name": "stderr",
     "output_type": "stream",
     "text": [
      "\r",
      " 10%|█         | 1/10 [00:03<00:32,  3.58s/it]"
     ]
    },
    {
     "name": "stdout",
     "output_type": "stream",
     "text": [
      "Client 1: accuracy loss: 3.55 | fairness loss 347.20 | Equal Opportunity Disparity = 0.44\n",
      "Client 2: accuracy loss: 2.37 | fairness loss 325.67 | Equal Opportunity Disparity = 0.12\n",
      "Client 3: accuracy loss: 2.85 | fairness loss 325.06 | Equal Opportunity Disparity = 0.16\n",
      " \n",
      "Avg Training Stats after 1 global rounds:\n",
      "Training loss: 0.29 | Validation accuracy: 88.18% | Validation Equal Opportunity Disparity: 0.1817\n",
      "\n",
      " | Global Training Round : 2 |\n",
      "\n"
     ]
    },
    {
     "name": "stderr",
     "output_type": "stream",
     "text": [
      "\r",
      " 20%|██        | 2/10 [00:07<00:28,  3.56s/it]"
     ]
    },
    {
     "name": "stdout",
     "output_type": "stream",
     "text": [
      "Client 1: accuracy loss: 3.57 | fairness loss 304.56 | Equal Opportunity Disparity = 0.44\n",
      "Client 2: accuracy loss: 2.40 | fairness loss 281.48 | Equal Opportunity Disparity = 0.08\n",
      "Client 3: accuracy loss: 2.91 | fairness loss 287.92 | Equal Opportunity Disparity = 0.16\n",
      " \n",
      "Avg Training Stats after 2 global rounds:\n",
      "Training loss: 0.30 | Validation accuracy: 88.11% | Validation Equal Opportunity Disparity: 0.1626\n",
      "\n",
      " | Global Training Round : 3 |\n",
      "\n"
     ]
    },
    {
     "name": "stderr",
     "output_type": "stream",
     "text": [
      "\r",
      " 30%|███       | 3/10 [00:10<00:25,  3.58s/it]"
     ]
    },
    {
     "name": "stdout",
     "output_type": "stream",
     "text": [
      "Client 1: accuracy loss: 3.59 | fairness loss 275.07 | Equal Opportunity Disparity = 0.44\n",
      "Client 2: accuracy loss: 2.43 | fairness loss 253.19 | Equal Opportunity Disparity = 0.08\n",
      "Client 3: accuracy loss: 2.99 | fairness loss 262.17 | Equal Opportunity Disparity = 0.16\n",
      " \n",
      "Avg Training Stats after 3 global rounds:\n",
      "Training loss: 0.30 | Validation accuracy: 87.72% | Validation Equal Opportunity Disparity: 0.1626\n",
      "\n",
      " | Global Training Round : 4 |\n",
      "\n"
     ]
    },
    {
     "name": "stderr",
     "output_type": "stream",
     "text": [
      "\r",
      " 40%|████      | 4/10 [00:14<00:21,  3.59s/it]"
     ]
    },
    {
     "name": "stdout",
     "output_type": "stream",
     "text": [
      "Client 1: accuracy loss: 3.62 | fairness loss 253.16 | Equal Opportunity Disparity = 0.44\n",
      "Client 2: accuracy loss: 2.48 | fairness loss 233.47 | Equal Opportunity Disparity = 0.08\n",
      "Client 3: accuracy loss: 3.09 | fairness loss 242.91 | Equal Opportunity Disparity = 0.16\n",
      " \n",
      "Avg Training Stats after 4 global rounds:\n",
      "Training loss: 0.30 | Validation accuracy: 87.10% | Validation Equal Opportunity Disparity: 0.1626\n",
      "\n",
      " | Global Training Round : 5 |\n",
      "\n"
     ]
    },
    {
     "name": "stderr",
     "output_type": "stream",
     "text": [
      "\r",
      " 50%|█████     | 5/10 [00:18<00:18,  3.65s/it]"
     ]
    },
    {
     "name": "stdout",
     "output_type": "stream",
     "text": [
      "Client 1: accuracy loss: 3.65 | fairness loss 235.85 | Equal Opportunity Disparity = 0.44\n",
      "Client 2: accuracy loss: 2.53 | fairness loss 218.58 | Equal Opportunity Disparity = 0.02\n",
      "Client 3: accuracy loss: 3.18 | fairness loss 227.59 | Equal Opportunity Disparity = 0.16\n",
      " \n",
      "Avg Training Stats after 5 global rounds:\n",
      "Training loss: 0.31 | Validation accuracy: 86.32% | Validation Equal Opportunity Disparity: 0.1376\n",
      "\n",
      " | Global Training Round : 6 |\n",
      "\n"
     ]
    },
    {
     "name": "stderr",
     "output_type": "stream",
     "text": [
      "\r",
      " 60%|██████    | 6/10 [00:21<00:14,  3.57s/it]"
     ]
    },
    {
     "name": "stdout",
     "output_type": "stream",
     "text": [
      "Client 1: accuracy loss: 3.68 | fairness loss 221.65 | Equal Opportunity Disparity = 0.44\n",
      "Client 2: accuracy loss: 2.59 | fairness loss 206.70 | Equal Opportunity Disparity = 0.01\n",
      "Client 3: accuracy loss: 3.28 | fairness loss 214.97 | Equal Opportunity Disparity = 0.16\n",
      " \n",
      "Avg Training Stats after 6 global rounds:\n",
      "Training loss: 0.31 | Validation accuracy: 85.99% | Validation Equal Opportunity Disparity: 0.1185\n",
      "\n",
      " | Global Training Round : 7 |\n",
      "\n"
     ]
    },
    {
     "name": "stderr",
     "output_type": "stream",
     "text": [
      "\r",
      " 70%|███████   | 7/10 [00:24<00:10,  3.50s/it]"
     ]
    },
    {
     "name": "stdout",
     "output_type": "stream",
     "text": [
      "Client 1: accuracy loss: 3.72 | fairness loss 209.77 | Equal Opportunity Disparity = 0.31\n",
      "Client 2: accuracy loss: 2.65 | fairness loss 196.92 | Equal Opportunity Disparity = 0.01\n",
      "Client 3: accuracy loss: 3.38 | fairness loss 204.36 | Equal Opportunity Disparity = 0.16\n",
      " \n",
      "Avg Training Stats after 7 global rounds:\n",
      "Training loss: 0.31 | Validation accuracy: 86.29% | Validation Equal Opportunity Disparity: 0.0994\n",
      "\n",
      " | Global Training Round : 8 |\n",
      "\n"
     ]
    },
    {
     "name": "stderr",
     "output_type": "stream",
     "text": [
      "\r",
      " 80%|████████  | 8/10 [00:28<00:07,  3.55s/it]"
     ]
    },
    {
     "name": "stdout",
     "output_type": "stream",
     "text": [
      "Client 1: accuracy loss: 3.75 | fairness loss 199.71 | Equal Opportunity Disparity = 0.31\n",
      "Client 2: accuracy loss: 2.71 | fairness loss 188.72 | Equal Opportunity Disparity = 0.01\n",
      "Client 3: accuracy loss: 3.47 | fairness loss 195.35 | Equal Opportunity Disparity = 0.08\n",
      " \n",
      "Avg Training Stats after 8 global rounds:\n",
      "Training loss: 0.32 | Validation accuracy: 86.45% | Validation Equal Opportunity Disparity: 0.0612\n",
      "\n",
      " | Global Training Round : 9 |\n",
      "\n"
     ]
    },
    {
     "name": "stderr",
     "output_type": "stream",
     "text": [
      "\r",
      " 90%|█████████ | 9/10 [00:32<00:03,  3.57s/it]"
     ]
    },
    {
     "name": "stdout",
     "output_type": "stream",
     "text": [
      "Client 1: accuracy loss: 3.78 | fairness loss 191.12 | Equal Opportunity Disparity = 0.31\n",
      "Client 2: accuracy loss: 2.76 | fairness loss 181.77 | Equal Opportunity Disparity = 0.01\n",
      "Client 3: accuracy loss: 3.55 | fairness loss 187.64 | Equal Opportunity Disparity = 0.04\n",
      " \n",
      "Avg Training Stats after 9 global rounds:\n",
      "Training loss: 0.32 | Validation accuracy: 86.52% | Validation Equal Opportunity Disparity: 0.0422\n",
      "\n",
      " | Global Training Round : 10 |\n",
      "\n"
     ]
    },
    {
     "name": "stderr",
     "output_type": "stream",
     "text": [
      "100%|██████████| 10/10 [00:35<00:00,  3.60s/it]"
     ]
    },
    {
     "name": "stdout",
     "output_type": "stream",
     "text": [
      "Client 1: accuracy loss: 3.82 | fairness loss 183.75 | Equal Opportunity Disparity = 0.31\n",
      "Client 2: accuracy loss: 2.81 | fairness loss 175.82 | Equal Opportunity Disparity = 0.01\n",
      "Client 3: accuracy loss: 3.63 | fairness loss 181.01 | Equal Opportunity Disparity = 0.04\n",
      " \n",
      "Avg Training Stats after 10 global rounds:\n",
      "Training loss: 0.32 | Validation accuracy: 86.23% | Validation Equal Opportunity Disparity: 0.0422\n",
      " \n",
      " Results after 10 global rounds of training:\n",
      "|---- Avg Train Accuracy: 86.23%\n",
      "|---- Test Accuracy: 85.00%\n",
      "|---- Test Equal Opportunity Disparity: 0.3571\n",
      "\n",
      " Total Run Time: 35.9733 sec\n"
     ]
    },
    {
     "name": "stderr",
     "output_type": "stream",
     "text": [
      "\n"
     ]
    }
   ],
   "source": [
    "seed = 641\n",
    "synthetic_info = dataGenerate(seed = seed, test_samples = 100)\n",
    "server = Server(logReg(num_features=3, num_classes=2, seed = seed), synthetic_info, train_prn = False, seed = seed)\n",
    "server.BiasCorrecting(num_rounds = 10, local_epochs = 30, optimizer = 'adam', learning_rate = 0.008, alpha = 2)\n"
   ]
  },
  {
   "cell_type": "code",
   "execution_count": null,
   "metadata": {},
   "outputs": [],
   "source": []
  },
  {
   "cell_type": "code",
   "execution_count": 4,
   "metadata": {
    "scrolled": true
   },
   "outputs": [
    {
     "name": "stderr",
     "output_type": "stream",
     "text": [
      "\r",
      "  0%|          | 0/10 [00:00<?, ?it/s]"
     ]
    },
    {
     "name": "stdout",
     "output_type": "stream",
     "text": [
      "\n",
      " | Global Training Round : 1 |\n",
      "\n"
     ]
    },
    {
     "name": "stderr",
     "output_type": "stream",
     "text": [
      "\r",
      " 10%|█         | 1/10 [00:04<00:40,  4.45s/it]"
     ]
    },
    {
     "name": "stdout",
     "output_type": "stream",
     "text": [
      "Client 1: accuracy loss: 3.54 | fairness loss 354.50 | Equal Opportunity Disparity = 0.44\n",
      "Client 2: accuracy loss: 2.37 | fairness loss 331.56 | Equal Opportunity Disparity = 0.12\n",
      "Client 3: accuracy loss: 2.83 | fairness loss 331.61 | Equal Opportunity Disparity = 0.20\n",
      " \n",
      "Avg Training Stats after 1 global rounds:\n",
      "Training loss: 0.29 | Training accuracy: 87.79% | Training Equal Opportunity Disparity: 0.2007\n",
      "\n",
      " | Global Training Round : 2 |\n",
      "\n"
     ]
    },
    {
     "name": "stderr",
     "output_type": "stream",
     "text": [
      "\r",
      " 20%|██        | 2/10 [00:09<00:37,  4.66s/it]"
     ]
    },
    {
     "name": "stdout",
     "output_type": "stream",
     "text": [
      "Client 1: accuracy loss: 3.70 | fairness loss 226.11 | Equal Opportunity Disparity = 0.44\n",
      "Client 2: accuracy loss: 2.64 | fairness loss 213.63 | Equal Opportunity Disparity = 0.02\n",
      "Client 3: accuracy loss: 3.19 | fairness loss 216.57 | Equal Opportunity Disparity = 0.16\n",
      " \n",
      "Avg Training Stats after 2 global rounds:\n",
      "Training loss: 0.32 | Training accuracy: 87.10% | Training Equal Opportunity Disparity: 0.1376\n",
      "\n",
      " | Global Training Round : 3 |\n",
      "\n"
     ]
    },
    {
     "name": "stderr",
     "output_type": "stream",
     "text": [
      "\r",
      " 30%|███       | 3/10 [00:14<00:32,  4.64s/it]"
     ]
    },
    {
     "name": "stdout",
     "output_type": "stream",
     "text": [
      "Client 1: accuracy loss: 3.88 | fairness loss 172.85 | Equal Opportunity Disparity = 0.42\n",
      "Client 2: accuracy loss: 2.87 | fairness loss 164.08 | Equal Opportunity Disparity = 0.02\n",
      "Client 3: accuracy loss: 3.40 | fairness loss 168.67 | Equal Opportunity Disparity = 0.16\n",
      " \n",
      "Avg Training Stats after 3 global rounds:\n",
      "Training loss: 0.34 | Training accuracy: 85.70% | Training Equal Opportunity Disparity: 0.1317\n",
      "\n",
      " | Global Training Round : 4 |\n",
      "\n"
     ]
    },
    {
     "name": "stderr",
     "output_type": "stream",
     "text": [
      "\r",
      " 40%|████      | 4/10 [00:18<00:28,  4.68s/it]"
     ]
    },
    {
     "name": "stdout",
     "output_type": "stream",
     "text": [
      "Client 1: accuracy loss: 4.08 | fairness loss 136.91 | Equal Opportunity Disparity = 0.40\n",
      "Client 2: accuracy loss: 3.09 | fairness loss 131.56 | Equal Opportunity Disparity = 0.01\n",
      "Client 3: accuracy loss: 3.55 | fairness loss 135.26 | Equal Opportunity Disparity = 0.13\n",
      " \n",
      "Avg Training Stats after 4 global rounds:\n",
      "Training loss: 0.35 | Training accuracy: 85.40% | Training Equal Opportunity Disparity: 0.0948\n",
      "\n",
      " | Global Training Round : 5 |\n",
      "\n"
     ]
    },
    {
     "name": "stderr",
     "output_type": "stream",
     "text": [
      "\r",
      " 50%|█████     | 5/10 [00:23<00:23,  4.76s/it]"
     ]
    },
    {
     "name": "stdout",
     "output_type": "stream",
     "text": [
      "Client 1: accuracy loss: 4.29 | fairness loss 109.53 | Equal Opportunity Disparity = 0.37\n",
      "Client 2: accuracy loss: 3.31 | fairness loss 107.04 | Equal Opportunity Disparity = 0.03\n",
      "Client 3: accuracy loss: 3.68 | fairness loss 109.06 | Equal Opportunity Disparity = 0.10\n",
      " \n",
      "Avg Training Stats after 5 global rounds:\n",
      "Training loss: 0.35 | Training accuracy: 84.72% | Training Equal Opportunity Disparity: 0.0712\n",
      "\n",
      " | Global Training Round : 6 |\n",
      "\n"
     ]
    },
    {
     "name": "stderr",
     "output_type": "stream",
     "text": [
      "\r",
      " 60%|██████    | 6/10 [00:28<00:18,  4.72s/it]"
     ]
    },
    {
     "name": "stdout",
     "output_type": "stream",
     "text": [
      "Client 1: accuracy loss: 4.50 | fairness loss 87.97 | Equal Opportunity Disparity = 0.34\n",
      "Client 2: accuracy loss: 3.51 | fairness loss 87.66 | Equal Opportunity Disparity = 0.05\n",
      "Client 3: accuracy loss: 3.80 | fairness loss 88.00 | Equal Opportunity Disparity = 0.05\n",
      " \n",
      "Avg Training Stats after 6 global rounds:\n",
      "Training loss: 0.36 | Training accuracy: 83.02% | Training Equal Opportunity Disparity: 0.0416\n",
      "\n",
      " | Global Training Round : 7 |\n",
      "\n"
     ]
    },
    {
     "name": "stderr",
     "output_type": "stream",
     "text": [
      "\r",
      " 70%|███████   | 7/10 [00:33<00:14,  4.71s/it]"
     ]
    },
    {
     "name": "stdout",
     "output_type": "stream",
     "text": [
      "Client 1: accuracy loss: 4.71 | fairness loss 70.72 | Equal Opportunity Disparity = 0.34\n",
      "Client 2: accuracy loss: 3.71 | fairness loss 71.99 | Equal Opportunity Disparity = 0.01\n",
      "Client 3: accuracy loss: 3.94 | fairness loss 70.91 | Equal Opportunity Disparity = 0.02\n",
      " \n",
      "Avg Training Stats after 7 global rounds:\n",
      "Training loss: 0.37 | Training accuracy: 82.30% | Training Equal Opportunity Disparity: 0.0547\n",
      "\n",
      " | Global Training Round : 8 |\n",
      "\n"
     ]
    },
    {
     "name": "stderr",
     "output_type": "stream",
     "text": [
      "\r",
      " 80%|████████  | 8/10 [00:37<00:09,  4.68s/it]"
     ]
    },
    {
     "name": "stdout",
     "output_type": "stream",
     "text": [
      "Client 1: accuracy loss: 4.93 | fairness loss 56.72 | Equal Opportunity Disparity = 0.34\n",
      "Client 2: accuracy loss: 3.91 | fairness loss 59.11 | Equal Opportunity Disparity = 0.06\n",
      "Client 3: accuracy loss: 4.08 | fairness loss 56.91 | Equal Opportunity Disparity = 0.02\n",
      " \n",
      "Avg Training Stats after 8 global rounds:\n",
      "Training loss: 0.37 | Training accuracy: 81.72% | Training Equal Opportunity Disparity: 0.0370\n",
      "\n",
      " | Global Training Round : 9 |\n",
      "\n"
     ]
    },
    {
     "name": "stderr",
     "output_type": "stream",
     "text": [
      "\r",
      " 90%|█████████ | 9/10 [00:42<00:04,  4.80s/it]"
     ]
    },
    {
     "name": "stdout",
     "output_type": "stream",
     "text": [
      "Client 1: accuracy loss: 5.14 | fairness loss 45.24 | Equal Opportunity Disparity = 0.32\n",
      "Client 2: accuracy loss: 4.11 | fairness loss 48.37 | Equal Opportunity Disparity = 0.06\n",
      "Client 3: accuracy loss: 4.23 | fairness loss 45.38 | Equal Opportunity Disparity = 0.02\n",
      " \n",
      "Avg Training Stats after 9 global rounds:\n",
      "Training loss: 0.38 | Training accuracy: 81.75% | Training Equal Opportunity Disparity: 0.0251\n",
      "\n",
      " | Global Training Round : 10 |\n",
      "\n"
     ]
    },
    {
     "name": "stderr",
     "output_type": "stream",
     "text": [
      "100%|██████████| 10/10 [00:47<00:00,  4.79s/it]"
     ]
    },
    {
     "name": "stdout",
     "output_type": "stream",
     "text": [
      "Client 1: accuracy loss: 5.36 | fairness loss 35.77 | Equal Opportunity Disparity = 0.25\n",
      "Client 2: accuracy loss: 4.31 | fairness loss 39.34 | Equal Opportunity Disparity = 0.08\n",
      "Client 3: accuracy loss: 4.40 | fairness loss 35.84 | Equal Opportunity Disparity = 0.02\n",
      " \n",
      "Avg Training Stats after 10 global rounds:\n",
      "Training loss: 0.38 | Training accuracy: 80.35% | Training Equal Opportunity Disparity: 0.0294\n",
      " \n",
      " Results after 10 global rounds of training:\n",
      "|---- Avg Train Accuracy: 80.35%\n",
      "|---- Test Accuracy: 84.00%\n",
      "|---- Test Equal Opportunity Disparity: 0.2679\n",
      "\n",
      " Total Run Time: 47.8875 sec\n"
     ]
    },
    {
     "name": "stderr",
     "output_type": "stream",
     "text": [
      "\n"
     ]
    }
   ],
   "source": [
    "seed = 641\n",
    "synthetic_info = dataGenerate(seed = seed, test_samples = 100)\n",
    "server = Server(logReg(num_features=3, num_classes=2, seed = seed), synthetic_info, train_prn = False, seed = seed)\n",
    "server.FairBatch(num_rounds = 10, local_epochs = 30, optimizer = 'adam', learning_rate = 0.008, alpha = 0.2)\n"
   ]
  },
  {
   "cell_type": "code",
   "execution_count": 3,
   "metadata": {
    "scrolled": true
   },
   "outputs": [
    {
     "name": "stderr",
     "output_type": "stream",
     "text": [
      "\r",
      "  0%|          | 0/10 [00:00<?, ?it/s]"
     ]
    },
    {
     "name": "stdout",
     "output_type": "stream",
     "text": [
      "\n",
      " | Global Training Round : 1 |\n",
      "\n"
     ]
    },
    {
     "name": "stderr",
     "output_type": "stream",
     "text": [
      "\r",
      " 10%|█         | 1/10 [00:01<00:17,  2.00s/it]"
     ]
    },
    {
     "name": "stdout",
     "output_type": "stream",
     "text": [
      "Client 1: accuracy loss: 3.71 | fairness loss 315.57 | Equal Opportunity Disparity = 0.56\n",
      "Client 2: accuracy loss: 3.91 | fairness loss 261.89 | Equal Opportunity Disparity = 0.51\n",
      "Client 3: accuracy loss: 3.79 | fairness loss 357.00 | Equal Opportunity Disparity = 0.58\n",
      " \n",
      "Avg Training Stats after 1 global rounds:\n",
      "Training loss: 55.04 | Validation accuracy: 80.27% | Validation Equal Opportunity Disparity: 0.5858\n",
      "\n",
      " | Global Training Round : 2 |\n",
      "\n"
     ]
    },
    {
     "name": "stderr",
     "output_type": "stream",
     "text": [
      "\r",
      " 20%|██        | 2/10 [00:04<00:16,  2.01s/it]"
     ]
    },
    {
     "name": "stdout",
     "output_type": "stream",
     "text": [
      "Client 1: accuracy loss: 3.18 | fairness loss 378.74 | Equal Opportunity Disparity = 0.31\n",
      "Client 2: accuracy loss: 3.43 | fairness loss 355.27 | Equal Opportunity Disparity = 0.37\n",
      "Client 3: accuracy loss: 3.40 | fairness loss 487.86 | Equal Opportunity Disparity = 0.42\n",
      " \n",
      "Avg Training Stats after 2 global rounds:\n",
      "Training loss: 47.94 | Validation accuracy: 84.40% | Validation Equal Opportunity Disparity: 0.4057\n",
      "\n",
      " | Global Training Round : 3 |\n",
      "\n"
     ]
    },
    {
     "name": "stderr",
     "output_type": "stream",
     "text": [
      "\r",
      " 30%|███       | 3/10 [00:06<00:14,  2.02s/it]"
     ]
    },
    {
     "name": "stdout",
     "output_type": "stream",
     "text": [
      "Client 1: accuracy loss: 3.06 | fairness loss 496.84 | Equal Opportunity Disparity = 0.30\n",
      "Client 2: accuracy loss: 3.34 | fairness loss 494.62 | Equal Opportunity Disparity = 0.28\n",
      "Client 3: accuracy loss: 3.40 | fairness loss 684.17 | Equal Opportunity Disparity = 0.31\n",
      " \n",
      "Avg Training Stats after 3 global rounds:\n",
      "Training loss: 44.10 | Validation accuracy: 86.38% | Validation Equal Opportunity Disparity: 0.3157\n",
      "\n",
      " | Global Training Round : 4 |\n",
      "\n"
     ]
    },
    {
     "name": "stderr",
     "output_type": "stream",
     "text": [
      "\r",
      " 40%|████      | 4/10 [00:08<00:12,  2.08s/it]"
     ]
    },
    {
     "name": "stdout",
     "output_type": "stream",
     "text": [
      "Client 1: accuracy loss: 3.03 | fairness loss 540.77 | Equal Opportunity Disparity = 0.30\n",
      "Client 2: accuracy loss: 3.32 | fairness loss 544.32 | Equal Opportunity Disparity = 0.28\n",
      "Client 3: accuracy loss: 3.41 | fairness loss 756.35 | Equal Opportunity Disparity = 0.26\n",
      " \n",
      "Avg Training Stats after 4 global rounds:\n",
      "Training loss: 41.97 | Validation accuracy: 86.77% | Validation Equal Opportunity Disparity: 0.2956\n",
      "\n",
      " | Global Training Round : 5 |\n",
      "\n"
     ]
    },
    {
     "name": "stderr",
     "output_type": "stream",
     "text": [
      "\r",
      " 50%|█████     | 5/10 [00:10<00:10,  2.09s/it]"
     ]
    },
    {
     "name": "stdout",
     "output_type": "stream",
     "text": [
      "Client 1: accuracy loss: 3.01 | fairness loss 549.73 | Equal Opportunity Disparity = 0.19\n",
      "Client 2: accuracy loss: 3.30 | fairness loss 553.43 | Equal Opportunity Disparity = 0.28\n",
      "Client 3: accuracy loss: 3.41 | fairness loss 771.76 | Equal Opportunity Disparity = 0.26\n",
      " \n",
      "Avg Training Stats after 5 global rounds:\n",
      "Training loss: 40.65 | Validation accuracy: 87.35% | Validation Equal Opportunity Disparity: 0.2756\n",
      "\n",
      " | Global Training Round : 6 |\n",
      "\n"
     ]
    },
    {
     "name": "stderr",
     "output_type": "stream",
     "text": [
      "\r",
      " 60%|██████    | 6/10 [00:12<00:08,  2.11s/it]"
     ]
    },
    {
     "name": "stdout",
     "output_type": "stream",
     "text": [
      "Client 1: accuracy loss: 2.99 | fairness loss 553.56 | Equal Opportunity Disparity = 0.19\n",
      "Client 2: accuracy loss: 3.29 | fairness loss 556.84 | Equal Opportunity Disparity = 0.28\n",
      "Client 3: accuracy loss: 3.43 | fairness loss 778.76 | Equal Opportunity Disparity = 0.26\n",
      " \n",
      "Avg Training Stats after 6 global rounds:\n",
      "Training loss: 39.76 | Validation accuracy: 86.96% | Validation Equal Opportunity Disparity: 0.2756\n",
      "\n",
      " | Global Training Round : 7 |\n",
      "\n"
     ]
    },
    {
     "name": "stderr",
     "output_type": "stream",
     "text": [
      "\r",
      " 70%|███████   | 7/10 [00:15<00:06,  2.24s/it]"
     ]
    },
    {
     "name": "stdout",
     "output_type": "stream",
     "text": [
      "Client 1: accuracy loss: 2.98 | fairness loss 556.32 | Equal Opportunity Disparity = 0.19\n",
      "Client 2: accuracy loss: 3.28 | fairness loss 559.19 | Equal Opportunity Disparity = 0.28\n",
      "Client 3: accuracy loss: 3.44 | fairness loss 783.82 | Equal Opportunity Disparity = 0.21\n",
      " \n",
      "Avg Training Stats after 7 global rounds:\n",
      "Training loss: 39.11 | Validation accuracy: 87.35% | Validation Equal Opportunity Disparity: 0.2556\n",
      "\n",
      " | Global Training Round : 8 |\n",
      "\n"
     ]
    },
    {
     "name": "stderr",
     "output_type": "stream",
     "text": [
      "\r",
      " 80%|████████  | 8/10 [00:17<00:04,  2.31s/it]"
     ]
    },
    {
     "name": "stdout",
     "output_type": "stream",
     "text": [
      "Client 1: accuracy loss: 2.97 | fairness loss 558.62 | Equal Opportunity Disparity = 0.18\n",
      "Client 2: accuracy loss: 3.27 | fairness loss 561.17 | Equal Opportunity Disparity = 0.28\n",
      "Client 3: accuracy loss: 3.45 | fairness loss 787.99 | Equal Opportunity Disparity = 0.21\n",
      " \n",
      "Avg Training Stats after 8 global rounds:\n",
      "Training loss: 38.63 | Validation accuracy: 87.06% | Validation Equal Opportunity Disparity: 0.2506\n",
      "\n",
      " | Global Training Round : 9 |\n",
      "\n"
     ]
    },
    {
     "name": "stderr",
     "output_type": "stream",
     "text": [
      "\r",
      " 90%|█████████ | 9/10 [00:21<00:02,  2.67s/it]"
     ]
    },
    {
     "name": "stdout",
     "output_type": "stream",
     "text": [
      "Client 1: accuracy loss: 2.96 | fairness loss 560.57 | Equal Opportunity Disparity = 0.18\n",
      "Client 2: accuracy loss: 3.27 | fairness loss 562.88 | Equal Opportunity Disparity = 0.28\n",
      "Client 3: accuracy loss: 3.46 | fairness loss 791.46 | Equal Opportunity Disparity = 0.21\n",
      " \n",
      "Avg Training Stats after 9 global rounds:\n",
      "Training loss: 38.25 | Validation accuracy: 87.06% | Validation Equal Opportunity Disparity: 0.2506\n",
      "\n",
      " | Global Training Round : 10 |\n",
      "\n"
     ]
    },
    {
     "name": "stderr",
     "output_type": "stream",
     "text": [
      "100%|██████████| 10/10 [00:23<00:00,  2.35s/it]"
     ]
    },
    {
     "name": "stdout",
     "output_type": "stream",
     "text": [
      "Client 1: accuracy loss: 2.96 | fairness loss 562.21 | Equal Opportunity Disparity = 0.18\n",
      "Client 2: accuracy loss: 3.27 | fairness loss 564.33 | Equal Opportunity Disparity = 0.28\n",
      "Client 3: accuracy loss: 3.46 | fairness loss 794.35 | Equal Opportunity Disparity = 0.19\n",
      " \n",
      "Avg Training Stats after 10 global rounds:\n",
      "Training loss: 37.94 | Validation accuracy: 86.99% | Validation Equal Opportunity Disparity: 0.2456\n",
      " \n",
      " Results after 10 global rounds of training:\n",
      "|---- Avg Train Accuracy: 86.99%\n",
      "|---- Test Accuracy: 88.00%\n",
      "|---- Test Equal Opportunity Disparity: 0.2308\n",
      "\n",
      " Total Run Time: 23.5387 sec\n"
     ]
    },
    {
     "name": "stderr",
     "output_type": "stream",
     "text": [
      "\n"
     ]
    }
   ],
   "source": [
    "seed = 460\n",
    "synthetic_info = dataGenerate(seed = seed, test_samples = 100)\n",
    "server = Server(logReg(num_features=3, num_classes=2, seed = seed), synthetic_info, train_prn = False, seed = seed)\n",
    "server.Unconstrained(num_rounds = 10, local_epochs = 30, optimizer = 'adam', learning_rate = 0.001)\n",
    "\n"
   ]
  },
  {
   "cell_type": "code",
   "execution_count": null,
   "metadata": {},
   "outputs": [],
   "source": []
  }
 ],
 "metadata": {
  "kernelspec": {
   "display_name": "Python 3",
   "language": "python",
   "name": "python3"
  },
  "language_info": {
   "codemirror_mode": {
    "name": "ipython",
    "version": 3
   },
   "file_extension": ".py",
   "mimetype": "text/x-python",
   "name": "python",
   "nbconvert_exporter": "python",
   "pygments_lexer": "ipython3",
   "version": "3.7.4"
  }
 },
 "nbformat": 4,
 "nbformat_minor": 2
}
