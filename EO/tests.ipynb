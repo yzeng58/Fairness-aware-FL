{
 "cells": [
  {
   "cell_type": "code",
   "execution_count": 1,
   "metadata": {},
   "outputs": [],
   "source": [
    "from Server import *"
   ]
  },
  {
   "cell_type": "code",
   "execution_count": 2,
   "metadata": {
    "scrolled": true
   },
   "outputs": [
    {
     "name": "stderr",
     "output_type": "stream",
     "text": [
      "\r",
      "  0%|          | 0/5 [00:00<?, ?it/s]"
     ]
    },
    {
     "name": "stdout",
     "output_type": "stream",
     "text": [
      "\n",
      " | Global Training Round : 1 |\n",
      "\n"
     ]
    },
    {
     "name": "stderr",
     "output_type": "stream",
     "text": [
      "\r",
      " 20%|██        | 1/5 [00:05<00:21,  5.47s/it]"
     ]
    },
    {
     "name": "stdout",
     "output_type": "stream",
     "text": [
      "Client 1: accuracy loss: 4.37 | fairness loss 27.89 | Equal Opportunity Disparity = 0.00\n",
      "Client 2: accuracy loss: 5.50 | fairness loss 44.90 | Equal Opportunity Disparity = 0.00\n",
      "Client 3: accuracy loss: 6.53 | fairness loss 38.84 | Equal Opportunity Disparity = 0.06\n",
      " \n",
      "Avg Training Stats after 1 global rounds:\n",
      "Training loss: 159.09 | Validation accuracy: 67.31% | Validation Equal Opportunity Disparity: 0.0304\n",
      "\n",
      " | Global Training Round : 2 |\n",
      "\n"
     ]
    },
    {
     "name": "stderr",
     "output_type": "stream",
     "text": [
      "\r",
      " 40%|████      | 2/5 [00:11<00:17,  5.69s/it]"
     ]
    },
    {
     "name": "stdout",
     "output_type": "stream",
     "text": [
      "Client 1: accuracy loss: 2.42 | fairness loss 266.13 | Equal Opportunity Disparity = 0.01\n",
      "Client 2: accuracy loss: 2.52 | fairness loss 377.01 | Equal Opportunity Disparity = 0.20\n",
      "Client 3: accuracy loss: 3.17 | fairness loss 308.59 | Equal Opportunity Disparity = 0.31\n",
      " \n",
      "Avg Training Stats after 2 global rounds:\n",
      "Training loss: 101.05 | Validation accuracy: 89.89% | Validation Equal Opportunity Disparity: 0.2355\n",
      "\n",
      " | Global Training Round : 3 |\n",
      "\n"
     ]
    },
    {
     "name": "stderr",
     "output_type": "stream",
     "text": [
      "\r",
      " 60%|██████    | 3/5 [00:16<00:11,  5.56s/it]"
     ]
    },
    {
     "name": "stdout",
     "output_type": "stream",
     "text": [
      "Client 1: accuracy loss: 2.23 | fairness loss 402.53 | Equal Opportunity Disparity = 0.02\n",
      "Client 2: accuracy loss: 2.31 | fairness loss 566.74 | Equal Opportunity Disparity = 0.27\n",
      "Client 3: accuracy loss: 2.95 | fairness loss 468.16 | Equal Opportunity Disparity = 0.28\n",
      " \n",
      "Avg Training Stats after 3 global rounds:\n",
      "Training loss: 78.96 | Validation accuracy: 89.20% | Validation Equal Opportunity Disparity: 0.2603\n",
      "\n",
      " | Global Training Round : 4 |\n",
      "\n"
     ]
    },
    {
     "name": "stderr",
     "output_type": "stream",
     "text": [
      "\r",
      " 80%|████████  | 4/5 [00:22<00:05,  5.43s/it]"
     ]
    },
    {
     "name": "stdout",
     "output_type": "stream",
     "text": [
      "Client 1: accuracy loss: 2.25 | fairness loss 398.88 | Equal Opportunity Disparity = 0.02\n",
      "Client 2: accuracy loss: 2.31 | fairness loss 565.67 | Equal Opportunity Disparity = 0.25\n",
      "Client 3: accuracy loss: 2.96 | fairness loss 468.02 | Equal Opportunity Disparity = 0.28\n",
      " \n",
      "Avg Training Stats after 4 global rounds:\n",
      "Training loss: 67.85 | Validation accuracy: 88.88% | Validation Equal Opportunity Disparity: 0.2547\n",
      "\n",
      " | Global Training Round : 5 |\n",
      "\n"
     ]
    },
    {
     "name": "stderr",
     "output_type": "stream",
     "text": [
      "100%|██████████| 5/5 [00:27<00:00,  5.45s/it]"
     ]
    },
    {
     "name": "stdout",
     "output_type": "stream",
     "text": [
      "Client 1: accuracy loss: 2.26 | fairness loss 396.45 | Equal Opportunity Disparity = 0.02\n",
      "Client 2: accuracy loss: 2.31 | fairness loss 565.55 | Equal Opportunity Disparity = 0.25\n",
      "Client 3: accuracy loss: 2.97 | fairness loss 468.45 | Equal Opportunity Disparity = 0.28\n",
      " \n",
      "Avg Training Stats after 5 global rounds:\n",
      "Training loss: 61.16 | Validation accuracy: 88.88% | Validation Equal Opportunity Disparity: 0.2547\n",
      " \n",
      " Results after 5 global rounds of training:\n",
      "|---- Avg Train Accuracy: 88.88%\n",
      "|---- Test Accuracy: 84.67%\n",
      "|---- Test Equal Opportunity Disparity: 0.3330\n",
      "\n",
      " Total Run Time: 27.2999 sec\n"
     ]
    },
    {
     "name": "stderr",
     "output_type": "stream",
     "text": [
      "\n"
     ]
    }
   ],
   "source": [
    "seed = 649\n",
    "synthetic_info = dataGenerate(seed = seed, test_samples = 300)\n",
    "server = Server(logReg(num_features=3, num_classes=2, seed = seed), synthetic_info, train_prn = False, seed = seed)\n",
    "server.Unconstrained(num_rounds = 5, local_epochs = 30, optimizer = 'adam', learning_rate = 0.002)\n",
    "\n"
   ]
  },
  {
   "cell_type": "code",
   "execution_count": 53,
   "metadata": {
    "scrolled": true
   },
   "outputs": [
    {
     "name": "stderr",
     "output_type": "stream",
     "text": [
      "\n",
      "\n",
      "\n",
      "  0%|          | 0/5 [00:00<?, ?it/s]\u001b[A\u001b[A\u001b[A"
     ]
    },
    {
     "name": "stdout",
     "output_type": "stream",
     "text": [
      "\n",
      " | Global Training Round : 1 |\n",
      "\n"
     ]
    },
    {
     "name": "stderr",
     "output_type": "stream",
     "text": [
      "\n",
      "\n",
      "\n",
      " 20%|██        | 1/5 [00:02<00:10,  2.71s/it]\u001b[A\u001b[A\u001b[A"
     ]
    },
    {
     "name": "stdout",
     "output_type": "stream",
     "text": [
      "Client 1: accuracy loss: 3.56 | fairness loss 22.56 | Equal Opportunity Disparity = 0.52\n",
      "Client 2: accuracy loss: 3.71 | fairness loss 23.12 | Equal Opportunity Disparity = 0.45\n",
      "Client 3: accuracy loss: 3.61 | fairness loss 22.00 | Equal Opportunity Disparity = 0.39\n",
      " \n",
      "Avg Training Stats after 1 global rounds:\n",
      "Training loss: 88.28 | Validation accuracy: 85.24% | Validation Equal Opportunity Disparity: 0.4568\n",
      "\n",
      " | Global Training Round : 2 |\n",
      "\n"
     ]
    },
    {
     "name": "stderr",
     "output_type": "stream",
     "text": [
      "\n",
      "\n",
      "\n",
      " 40%|████      | 2/5 [00:05<00:08,  2.75s/it]\u001b[A\u001b[A\u001b[A"
     ]
    },
    {
     "name": "stdout",
     "output_type": "stream",
     "text": [
      "Client 1: accuracy loss: 3.45 | fairness loss 17.37 | Equal Opportunity Disparity = 0.38\n",
      "Client 2: accuracy loss: 3.56 | fairness loss 19.01 | Equal Opportunity Disparity = 0.06\n",
      "Client 3: accuracy loss: 3.49 | fairness loss 19.32 | Equal Opportunity Disparity = 0.08\n",
      " \n",
      "Avg Training Stats after 2 global rounds:\n",
      "Training loss: 69.92 | Validation accuracy: 87.27% | Validation Equal Opportunity Disparity: 0.1417\n",
      "\n",
      " | Global Training Round : 3 |\n",
      "\n"
     ]
    },
    {
     "name": "stderr",
     "output_type": "stream",
     "text": [
      "\n",
      "\n",
      "\n",
      " 60%|██████    | 3/5 [00:07<00:05,  2.64s/it]\u001b[A\u001b[A\u001b[A"
     ]
    },
    {
     "name": "stdout",
     "output_type": "stream",
     "text": [
      "Client 1: accuracy loss: 3.47 | fairness loss 16.91 | Equal Opportunity Disparity = 0.25\n",
      "Client 2: accuracy loss: 3.58 | fairness loss 19.26 | Equal Opportunity Disparity = 0.06\n",
      "Client 3: accuracy loss: 3.53 | fairness loss 19.59 | Equal Opportunity Disparity = 0.08\n",
      " \n",
      "Avg Training Stats after 3 global rounds:\n",
      "Training loss: 63.34 | Validation accuracy: 85.05% | Validation Equal Opportunity Disparity: 0.1113\n",
      "\n",
      " | Global Training Round : 4 |\n",
      "\n"
     ]
    },
    {
     "name": "stderr",
     "output_type": "stream",
     "text": [
      "\n",
      "\n",
      "\n",
      " 80%|████████  | 4/5 [00:10<00:02,  2.51s/it]\u001b[A\u001b[A\u001b[A"
     ]
    },
    {
     "name": "stdout",
     "output_type": "stream",
     "text": [
      "Client 1: accuracy loss: 3.47 | fairness loss 16.82 | Equal Opportunity Disparity = 0.12\n",
      "Client 2: accuracy loss: 3.58 | fairness loss 19.35 | Equal Opportunity Disparity = 0.06\n",
      "Client 3: accuracy loss: 3.54 | fairness loss 19.69 | Equal Opportunity Disparity = 0.08\n",
      " \n",
      "Avg Training Stats after 4 global rounds:\n",
      "Training loss: 60.05 | Validation accuracy: 85.34% | Validation Equal Opportunity Disparity: 0.0808\n",
      "\n",
      " | Global Training Round : 5 |\n",
      "\n"
     ]
    },
    {
     "name": "stderr",
     "output_type": "stream",
     "text": [
      "\n",
      "\n",
      "\n",
      "100%|██████████| 5/5 [00:12<00:00,  2.51s/it]\u001b[A\u001b[A\u001b[A"
     ]
    },
    {
     "name": "stdout",
     "output_type": "stream",
     "text": [
      "Client 1: accuracy loss: 3.47 | fairness loss 16.80 | Equal Opportunity Disparity = 0.12\n",
      "Client 2: accuracy loss: 3.59 | fairness loss 19.38 | Equal Opportunity Disparity = 0.06\n",
      "Client 3: accuracy loss: 3.55 | fairness loss 19.71 | Equal Opportunity Disparity = 0.08\n",
      " \n",
      "Avg Training Stats after 5 global rounds:\n",
      "Training loss: 58.07 | Validation accuracy: 85.34% | Validation Equal Opportunity Disparity: 0.0808\n",
      " \n",
      " Results after 5 global rounds of training:\n",
      "|---- Avg Train Accuracy: 85.34%\n",
      "|---- Test Accuracy: 83.33%\n",
      "|---- Test Equal Opportunity Disparity: 0.0415\n",
      "\n",
      " Total Run Time: 12.5512 sec\n"
     ]
    },
    {
     "name": "stderr",
     "output_type": "stream",
     "text": [
      "\n"
     ]
    }
   ],
   "source": [
    "seed = 86\n",
    "synthetic_info = dataGenerate(seed = seed, test_samples = 300)\n",
    "server = Server(logReg(num_features=3, num_classes=2, seed = seed), synthetic_info, train_prn = False, seed = seed)\n",
    "server.LocalFC(num_rounds = 5, local_epochs = 30, optimizer = 'adam', learning_rate = 0.004, penalty = 80)\n"
   ]
  },
  {
   "cell_type": "code",
   "execution_count": 52,
   "metadata": {
    "scrolled": true
   },
   "outputs": [
    {
     "name": "stderr",
     "output_type": "stream",
     "text": [
      "\n",
      "\n",
      "\n",
      "  0%|          | 0/1 [00:00<?, ?it/s]\u001b[A\u001b[A\u001b[A"
     ]
    },
    {
     "name": "stdout",
     "output_type": "stream",
     "text": [
      "\n",
      " | Testing Round : 1 | constraint :  Cov(z, d | y = 1) < c\n",
      "\n"
     ]
    },
    {
     "name": "stderr",
     "output_type": "stream",
     "text": [
      "\n",
      "\n",
      "\n",
      "100%|██████████| 1/1 [00:02<00:00,  2.36s/it]\u001b[A\u001b[A\u001b[A\n",
      "\n",
      "\n",
      "\n",
      "  0%|          | 0/1 [00:00<?, ?it/s]\u001b[A\u001b[A\u001b[A"
     ]
    },
    {
     "name": "stdout",
     "output_type": "stream",
     "text": [
      "Client 1: accuracy loss: 2.98 | fairness loss 27.61 | Equal Opportunity Disparity = 0.36\n",
      "Client 2: accuracy loss: 3.12 | fairness loss 30.88 | Equal Opportunity Disparity = 0.12\n",
      "Client 3: accuracy loss: 3.00 | fairness loss 29.26 | Equal Opportunity Disparity = 0.23\n",
      " \n",
      "Avg Training Stats after 1 Testing rounds:\n",
      "Training loss: 64.52 | Validation accuracy: 88.52% | Validation Equal Opportunity Disparity: 0.2173\n",
      "\n",
      " | Testing Round : 1 | constraint :  Cov(z, d | y = 1) > -c\n",
      "\n"
     ]
    },
    {
     "name": "stderr",
     "output_type": "stream",
     "text": [
      "\n",
      "\n",
      "\n",
      "100%|██████████| 1/1 [00:02<00:00,  2.38s/it]\u001b[A\u001b[A\u001b[A\n",
      "\n",
      "\n",
      "\n",
      "  0%|          | 0/8 [00:00<?, ?it/s]\u001b[A\u001b[A\u001b[A"
     ]
    },
    {
     "name": "stdout",
     "output_type": "stream",
     "text": [
      "Client 1: accuracy loss: 2.67 | fairness loss 63.94 | Equal Opportunity Disparity = 0.51\n",
      "Client 2: accuracy loss: 3.07 | fairness loss 65.78 | Equal Opportunity Disparity = 0.45\n",
      "Client 3: accuracy loss: 2.56 | fairness loss 64.78 | Equal Opportunity Disparity = 0.39\n",
      " \n",
      "Avg Training Stats after 1 Testing rounds:\n",
      "Training loss: 50.86 | Validation accuracy: 85.93% | Validation Equal Opportunity Disparity: 0.4515\n",
      "\n",
      " | Global Round : 1 | constraint :  Cov(z, d | y = 1) < c\n",
      "\n"
     ]
    },
    {
     "name": "stderr",
     "output_type": "stream",
     "text": [
      "\n",
      "\n",
      "\n",
      " 12%|█▎        | 1/8 [00:02<00:15,  2.16s/it]\u001b[A\u001b[A\u001b[A"
     ]
    },
    {
     "name": "stdout",
     "output_type": "stream",
     "text": [
      "Client 1: accuracy loss: 2.70 | fairness loss 85.22 | Equal Opportunity Disparity = 0.38\n",
      "Client 2: accuracy loss: 2.92 | fairness loss 94.32 | Equal Opportunity Disparity = 0.06\n",
      "Client 3: accuracy loss: 2.67 | fairness loss 93.14 | Equal Opportunity Disparity = 0.15\n",
      " \n",
      "Avg Training Stats after 1 global rounds:\n",
      "Training loss: 45.12 | Validation accuracy: 88.40% | Validation Equal Opportunity Disparity: 0.1722\n",
      "\n",
      " | Global Round : 2 | constraint :  Cov(z, d | y = 1) < c\n",
      "\n"
     ]
    },
    {
     "name": "stderr",
     "output_type": "stream",
     "text": [
      "\n",
      "\n",
      "\n",
      " 25%|██▌       | 2/8 [00:04<00:13,  2.18s/it]\u001b[A\u001b[A\u001b[A"
     ]
    },
    {
     "name": "stdout",
     "output_type": "stream",
     "text": [
      "Client 1: accuracy loss: 2.69 | fairness loss 219.68 | Equal Opportunity Disparity = 0.38\n",
      "Client 2: accuracy loss: 2.91 | fairness loss 241.98 | Equal Opportunity Disparity = 0.06\n",
      "Client 3: accuracy loss: 2.66 | fairness loss 242.46 | Equal Opportunity Disparity = 0.15\n",
      " \n",
      "Avg Training Stats after 2 global rounds:\n",
      "Training loss: 39.70 | Validation accuracy: 89.70% | Validation Equal Opportunity Disparity: 0.1722\n",
      "\n",
      " | Global Round : 3 | constraint :  Cov(z, d | y = 1) < c\n",
      "\n"
     ]
    },
    {
     "name": "stderr",
     "output_type": "stream",
     "text": [
      "\n",
      "\n",
      "\n",
      " 38%|███▊      | 3/8 [00:06<00:11,  2.22s/it]\u001b[A\u001b[A\u001b[A"
     ]
    },
    {
     "name": "stdout",
     "output_type": "stream",
     "text": [
      "Client 1: accuracy loss: 2.69 | fairness loss 440.73 | Equal Opportunity Disparity = 0.36\n",
      "Client 2: accuracy loss: 2.92 | fairness loss 484.07 | Equal Opportunity Disparity = 0.04\n",
      "Client 3: accuracy loss: 2.68 | fairness loss 487.77 | Equal Opportunity Disparity = 0.15\n",
      " \n",
      "Avg Training Stats after 3 global rounds:\n",
      "Training loss: 34.35 | Validation accuracy: 88.80% | Validation Equal Opportunity Disparity: 0.1564\n",
      "\n",
      " | Global Round : 4 | constraint :  Cov(z, d | y = 1) < c\n",
      "\n"
     ]
    },
    {
     "name": "stderr",
     "output_type": "stream",
     "text": [
      "\n",
      "\n",
      "\n",
      " 50%|█████     | 4/8 [00:08<00:08,  2.23s/it]\u001b[A\u001b[A\u001b[A"
     ]
    },
    {
     "name": "stdout",
     "output_type": "stream",
     "text": [
      "Client 1: accuracy loss: 2.70 | fairness loss 749.76 | Equal Opportunity Disparity = 0.36\n",
      "Client 2: accuracy loss: 2.92 | fairness loss 821.99 | Equal Opportunity Disparity = 0.04\n",
      "Client 3: accuracy loss: 2.69 | fairness loss 830.53 | Equal Opportunity Disparity = 0.15\n",
      " \n",
      "Avg Training Stats after 4 global rounds:\n",
      "Training loss: 29.05 | Validation accuracy: 88.80% | Validation Equal Opportunity Disparity: 0.1564\n",
      "\n",
      " | Global Round : 5 | constraint :  Cov(z, d | y = 1) < c\n",
      "\n"
     ]
    },
    {
     "name": "stderr",
     "output_type": "stream",
     "text": [
      "\n",
      "\n",
      "\n",
      " 62%|██████▎   | 5/8 [00:11<00:06,  2.24s/it]\u001b[A\u001b[A\u001b[A"
     ]
    },
    {
     "name": "stdout",
     "output_type": "stream",
     "text": [
      "Client 1: accuracy loss: 2.71 | fairness loss 1147.09 | Equal Opportunity Disparity = 0.36\n",
      "Client 2: accuracy loss: 2.93 | fairness loss 1256.09 | Equal Opportunity Disparity = 0.04\n",
      "Client 3: accuracy loss: 2.71 | fairness loss 1271.11 | Equal Opportunity Disparity = 0.15\n",
      " \n",
      "Avg Training Stats after 5 global rounds:\n",
      "Training loss: 23.79 | Validation accuracy: 88.80% | Validation Equal Opportunity Disparity: 0.1564\n",
      "\n",
      " | Global Round : 6 | constraint :  Cov(z, d | y = 1) < c\n",
      "\n"
     ]
    },
    {
     "name": "stderr",
     "output_type": "stream",
     "text": [
      "\n",
      "\n",
      "\n",
      " 75%|███████▌  | 6/8 [00:13<00:04,  2.27s/it]\u001b[A\u001b[A\u001b[A"
     ]
    },
    {
     "name": "stdout",
     "output_type": "stream",
     "text": [
      "Client 1: accuracy loss: 2.71 | fairness loss 1632.68 | Equal Opportunity Disparity = 0.35\n",
      "Client 2: accuracy loss: 2.93 | fairness loss 1786.35 | Equal Opportunity Disparity = 0.01\n",
      "Client 3: accuracy loss: 2.72 | fairness loss 1809.50 | Equal Opportunity Disparity = 0.08\n",
      " \n",
      "Avg Training Stats after 6 global rounds:\n",
      "Training loss: 18.54 | Validation accuracy: 87.46% | Validation Equal Opportunity Disparity: 0.1102\n",
      "\n",
      " | Global Round : 7 | constraint :  Cov(z, d | y = 1) < c\n",
      "\n"
     ]
    },
    {
     "name": "stderr",
     "output_type": "stream",
     "text": [
      "\n",
      "\n",
      "\n",
      " 88%|████████▊ | 7/8 [00:15<00:02,  2.27s/it]\u001b[A\u001b[A\u001b[A"
     ]
    },
    {
     "name": "stdout",
     "output_type": "stream",
     "text": [
      "Client 1: accuracy loss: 2.72 | fairness loss 2206.79 | Equal Opportunity Disparity = 0.33\n",
      "Client 2: accuracy loss: 2.94 | fairness loss 2413.05 | Equal Opportunity Disparity = 0.01\n",
      "Client 3: accuracy loss: 2.72 | fairness loss 2445.97 | Equal Opportunity Disparity = 0.01\n",
      " \n",
      "Avg Training Stats after 7 global rounds:\n",
      "Training loss: 13.31 | Validation accuracy: 85.24% | Validation Equal Opportunity Disparity: 0.0786\n",
      "\n",
      " | Global Round : 8 | constraint :  Cov(z, d | y = 1) < c\n",
      "\n"
     ]
    },
    {
     "name": "stderr",
     "output_type": "stream",
     "text": [
      "\n",
      "\n",
      "\n",
      "100%|██████████| 8/8 [00:18<00:00,  2.26s/it]\u001b[A\u001b[A\u001b[A"
     ]
    },
    {
     "name": "stdout",
     "output_type": "stream",
     "text": [
      "Client 1: accuracy loss: 2.72 | fairness loss 2869.53 | Equal Opportunity Disparity = 0.28\n",
      "Client 2: accuracy loss: 2.94 | fairness loss 3136.32 | Equal Opportunity Disparity = 0.07\n",
      "Client 3: accuracy loss: 2.73 | fairness loss 3180.65 | Equal Opportunity Disparity = 0.10\n",
      " \n",
      "Avg Training Stats after 8 global rounds:\n",
      "Training loss: 8.10 | Validation accuracy: 80.89% | Validation Equal Opportunity Disparity: 0.0102\n",
      " \n",
      " Results after 8 global rounds of training:\n",
      "|---- Avg Train Accuracy: 80.89%\n",
      "|---- Test Accuracy: 76.67%\n",
      "|---- Test Equal Opportunity Disparity: 0.0202\n",
      "\n",
      " Total Run Time: 22.8678 sec\n"
     ]
    },
    {
     "name": "stderr",
     "output_type": "stream",
     "text": [
      "\n"
     ]
    }
   ],
   "source": [
    "seed = 86\n",
    "synthetic_info = dataGenerate(seed = seed, test_samples = 300)\n",
    "server = Server(logReg(num_features=3, num_classes=2, seed = seed), synthetic_info, train_prn = False, seed = seed)\n",
    "server.FairConstraints(test_rounds = 1, test_lr = 0.005, test_penalty = 80, num_rounds = 8, local_epochs = 30, optimizer = 'adam', learning_rate = 0.0025, penalty = 40)\n"
   ]
  },
  {
   "cell_type": "code",
   "execution_count": 25,
   "metadata": {
    "scrolled": true
   },
   "outputs": [
    {
     "name": "stderr",
     "output_type": "stream",
     "text": [
      "\n",
      "  0%|          | 0/5 [00:00<?, ?it/s]\u001b[A"
     ]
    },
    {
     "name": "stdout",
     "output_type": "stream",
     "text": [
      "\n",
      " | Global Training Round : 1 |\n",
      "\n"
     ]
    },
    {
     "name": "stderr",
     "output_type": "stream",
     "text": [
      "\n",
      " 20%|██        | 1/5 [00:02<00:09,  2.31s/it]\u001b[A"
     ]
    },
    {
     "name": "stdout",
     "output_type": "stream",
     "text": [
      "Client 1: accuracy loss: 3.77 | fairness loss 142.72 | Equal Opportunity Disparity = 0.52\n",
      "Client 2: accuracy loss: 3.87 | fairness loss 150.02 | Equal Opportunity Disparity = 0.45\n",
      "Client 3: accuracy loss: 3.90 | fairness loss 138.88 | Equal Opportunity Disparity = 0.39\n",
      " \n",
      "Avg Training Stats after 1 global rounds:\n",
      "Training loss: 0.64 | Training accuracy: 84.87% | Training Equal Opportunity Disparity: 0.4568\n",
      "\n",
      " | Global Training Round : 2 |\n",
      "\n"
     ]
    },
    {
     "name": "stderr",
     "output_type": "stream",
     "text": [
      "\n",
      " 40%|████      | 2/5 [00:04<00:06,  2.30s/it]\u001b[A"
     ]
    },
    {
     "name": "stdout",
     "output_type": "stream",
     "text": [
      "Client 1: accuracy loss: 3.45 | fairness loss 134.46 | Equal Opportunity Disparity = 0.38\n",
      "Client 2: accuracy loss: 3.50 | fairness loss 147.01 | Equal Opportunity Disparity = 0.06\n",
      "Client 3: accuracy loss: 3.51 | fairness loss 143.80 | Equal Opportunity Disparity = 0.15\n",
      " \n",
      "Avg Training Stats after 2 global rounds:\n",
      "Training loss: 0.53 | Training accuracy: 88.07% | Training Equal Opportunity Disparity: 0.1722\n",
      "\n",
      " | Global Training Round : 3 |\n",
      "\n"
     ]
    },
    {
     "name": "stderr",
     "output_type": "stream",
     "text": [
      "\n",
      " 60%|██████    | 3/5 [00:06<00:04,  2.33s/it]\u001b[A"
     ]
    },
    {
     "name": "stdout",
     "output_type": "stream",
     "text": [
      "Client 1: accuracy loss: 3.74 | fairness loss 88.23 | Equal Opportunity Disparity = 0.23\n",
      "Client 2: accuracy loss: 3.69 | fairness loss 101.14 | Equal Opportunity Disparity = 0.04\n",
      "Client 3: accuracy loss: 3.79 | fairness loss 100.55 | Equal Opportunity Disparity = 0.08\n",
      " \n",
      "Avg Training Stats after 3 global rounds:\n",
      "Training loss: 0.50 | Training accuracy: 85.57% | Training Equal Opportunity Disparity: 0.0955\n",
      "\n",
      " | Global Training Round : 4 |\n",
      "\n"
     ]
    },
    {
     "name": "stderr",
     "output_type": "stream",
     "text": [
      "\n",
      " 80%|████████  | 4/5 [00:09<00:02,  2.36s/it]\u001b[A"
     ]
    },
    {
     "name": "stdout",
     "output_type": "stream",
     "text": [
      "Client 1: accuracy loss: 4.04 | fairness loss 62.21 | Equal Opportunity Disparity = 0.20\n",
      "Client 2: accuracy loss: 3.90 | fairness loss 74.59 | Equal Opportunity Disparity = 0.04\n",
      "Client 3: accuracy loss: 4.04 | fairness loss 75.08 | Equal Opportunity Disparity = 0.08\n",
      " \n",
      "Avg Training Stats after 4 global rounds:\n",
      "Training loss: 0.49 | Training accuracy: 86.08% | Training Equal Opportunity Disparity: 0.0850\n",
      "\n",
      " | Global Training Round : 5 |\n",
      "\n"
     ]
    },
    {
     "name": "stderr",
     "output_type": "stream",
     "text": [
      "\n",
      "100%|██████████| 5/5 [00:11<00:00,  2.36s/it]\u001b[A"
     ]
    },
    {
     "name": "stdout",
     "output_type": "stream",
     "text": [
      "Client 1: accuracy loss: 4.33 | fairness loss 46.54 | Equal Opportunity Disparity = 0.06\n",
      "Client 2: accuracy loss: 4.09 | fairness loss 58.01 | Equal Opportunity Disparity = 0.07\n",
      "Client 3: accuracy loss: 4.26 | fairness loss 58.87 | Equal Opportunity Disparity = 0.00\n",
      " \n",
      "Avg Training Stats after 5 global rounds:\n",
      "Training loss: 0.48 | Training accuracy: 84.74% | Training Equal Opportunity Disparity: 0.0222\n",
      " \n",
      " Results after 5 global rounds of training:\n",
      "|---- Avg Train Accuracy: 84.74%\n",
      "|---- Test Accuracy: 82.67%\n",
      "|---- Test Equal Opportunity Disparity: 0.0024\n",
      "\n",
      " Total Run Time: 11.8129 sec\n"
     ]
    },
    {
     "name": "stderr",
     "output_type": "stream",
     "text": [
      "\n"
     ]
    }
   ],
   "source": [
    "seed = 86\n",
    "synthetic_info = dataGenerate(seed = seed, test_samples = 300)\n",
    "server = Server(logReg(num_features=3, num_classes=2, seed = seed), synthetic_info, train_prn = False, seed = seed)\n",
    "server.FairBatch(num_rounds = 5, local_epochs = 30, optimizer = 'adam', learning_rate = 0.0025, alpha = 0.2)\n"
   ]
  },
  {
   "cell_type": "code",
   "execution_count": 32,
   "metadata": {
    "scrolled": true
   },
   "outputs": [
    {
     "name": "stderr",
     "output_type": "stream",
     "text": [
      "\n",
      "  0%|          | 0/2 [00:00<?, ?it/s]\u001b[A"
     ]
    },
    {
     "name": "stdout",
     "output_type": "stream",
     "text": [
      "\n",
      " | Global Training Round : 1 |\n",
      "\n"
     ]
    },
    {
     "name": "stderr",
     "output_type": "stream",
     "text": [
      "\n",
      " 50%|█████     | 1/2 [00:02<00:02,  2.60s/it]\u001b[A"
     ]
    },
    {
     "name": "stdout",
     "output_type": "stream",
     "text": [
      "Client 1: accuracy loss: 4.80 | fairness loss 17.82 | Equal Opportunity Disparity = 0.00\n",
      "Client 2: accuracy loss: 4.75 | fairness loss 19.54 | Equal Opportunity Disparity = 0.00\n",
      "Client 3: accuracy loss: 4.89 | fairness loss 19.87 | Equal Opportunity Disparity = 0.00\n",
      " \n",
      "Avg Training Stats after 1 global rounds:\n",
      "Training loss: 105.22 | Validation accuracy: 79.97% | Validation Equal Opportunity Disparity: 0.0000\n",
      "\n",
      " | Global Training Round : 2 |\n",
      "\n"
     ]
    },
    {
     "name": "stderr",
     "output_type": "stream",
     "text": [
      "\n",
      "100%|██████████| 2/2 [00:04<00:00,  2.47s/it]\u001b[A\n",
      "\n",
      "  0%|          | 0/3 [00:00<?, ?it/s]\u001b[A"
     ]
    },
    {
     "name": "stdout",
     "output_type": "stream",
     "text": [
      "Client 1: accuracy loss: 4.84 | fairness loss 16.41 | Equal Opportunity Disparity = 0.00\n",
      "Client 2: accuracy loss: 4.79 | fairness loss 20.70 | Equal Opportunity Disparity = 0.00\n",
      "Client 3: accuracy loss: 4.96 | fairness loss 20.91 | Equal Opportunity Disparity = 0.00\n",
      " \n",
      "Avg Training Stats after 2 global rounds:\n",
      "Training loss: 85.34 | Validation accuracy: 77.40% | Validation Equal Opportunity Disparity: 0.0000\n",
      " \n",
      " Results after 2 global rounds of training:\n",
      "|---- Avg Train Accuracy: 77.40%\n",
      "|---- Test Accuracy: 74.33%\n",
      "|---- Test Equal Opportunity Disparity: 0.0110\n",
      "\n",
      " Total Run Time: 4.9558 sec\n",
      " \n",
      " Results after 3 global rounds of training:\n",
      "|---- Test Accuracy: 74.33%\n",
      "|---- Test Equal Opportunity Disparity: 0.0110\n",
      "\n",
      " Total Run Time: 0.0281 sec\n"
     ]
    },
    {
     "name": "stderr",
     "output_type": "stream",
     "text": [
      "\n"
     ]
    }
   ],
   "source": [
    "seed = 86\n",
    "synthetic_info = dataGenerate(seed = seed, test_samples = 300)\n",
    "server = Server(logReg(num_features=3, num_classes=2, seed = seed), synthetic_info, train_prn = False, seed = seed)\n",
    "server.Unconstrained(num_rounds = 2, local_epochs = 30, optimizer = 'adam', learning_rate = 0.008)\n",
    "server.ThresholdAdjust(num_rounds = 3, local_epochs = 30, epsilon = 0.02, learning_rate = 0.002)\n"
   ]
  },
  {
   "cell_type": "code",
   "execution_count": 18,
   "metadata": {
    "scrolled": true
   },
   "outputs": [
    {
     "name": "stderr",
     "output_type": "stream",
     "text": [
      "\n",
      "  0%|          | 0/1 [00:00<?, ?it/s]\u001b[A"
     ]
    },
    {
     "name": "stdout",
     "output_type": "stream",
     "text": [
      "\n",
      " | Testing Round : 1 | constraint :  Cov(z, d | y = 1) < c\n",
      "\n"
     ]
    },
    {
     "name": "stderr",
     "output_type": "stream",
     "text": [
      "\n",
      "100%|██████████| 1/1 [00:02<00:00,  2.12s/it]\u001b[A\n",
      "\n",
      "  0%|          | 0/1 [00:00<?, ?it/s]\u001b[A"
     ]
    },
    {
     "name": "stdout",
     "output_type": "stream",
     "text": [
      "Client 1: accuracy loss: 3.44 | fairness loss 805.28 | Equal Opportunity Disparity = 0.36\n",
      "Client 2: accuracy loss: 3.49 | fairness loss 879.82 | Equal Opportunity Disparity = 0.03\n",
      "Client 3: accuracy loss: 3.71 | fairness loss 883.61 | Equal Opportunity Disparity = 0.08\n",
      " \n",
      "Avg Training Stats after 1 Testing rounds:\n",
      "Training loss: -0.82 | Validation accuracy: 85.03% | Validation Equal Opportunity Disparity: 0.0955\n",
      "\n",
      " | Testing Round : 1 | constraint :  Cov(z, d | y = 1) > -c\n",
      "\n"
     ]
    },
    {
     "name": "stderr",
     "output_type": "stream",
     "text": [
      "\n",
      "100%|██████████| 1/1 [00:02<00:00,  2.08s/it]\u001b[A\n",
      "\n",
      "  0%|          | 0/8 [00:00<?, ?it/s]\u001b[A"
     ]
    },
    {
     "name": "stdout",
     "output_type": "stream",
     "text": [
      "Client 1: accuracy loss: 2.80 | fairness loss 866.96 | Equal Opportunity Disparity = 0.64\n",
      "Client 2: accuracy loss: 3.55 | fairness loss 903.99 | Equal Opportunity Disparity = 0.28\n",
      "Client 3: accuracy loss: 2.39 | fairness loss 920.69 | Equal Opportunity Disparity = 0.39\n",
      " \n",
      "Avg Training Stats after 1 Testing rounds:\n",
      "Training loss: -32.61 | Validation accuracy: 86.98% | Validation Equal Opportunity Disparity: 0.4158\n",
      "\n",
      " | Global Round : 1 | constraint :  Cov(z, d | y = 1) < c\n",
      "\n"
     ]
    },
    {
     "name": "stderr",
     "output_type": "stream",
     "text": [
      "\n",
      " 12%|█▎        | 1/8 [00:02<00:14,  2.05s/it]\u001b[A"
     ]
    },
    {
     "name": "stdout",
     "output_type": "stream",
     "text": [
      "Client 1: accuracy loss: 2.97 | fairness loss 1461.15 | Equal Opportunity Disparity = 0.36\n",
      "Client 2: accuracy loss: 3.09 | fairness loss 1589.13 | Equal Opportunity Disparity = 0.04\n",
      "Client 3: accuracy loss: 3.08 | fairness loss 1605.72 | Equal Opportunity Disparity = 0.08\n",
      " \n",
      "Avg Training Stats after 1 global rounds:\n",
      "Training loss: -33.68 | Validation accuracy: 88.36% | Validation Equal Opportunity Disparity: 0.1259\n",
      "\n",
      " | Global Round : 2 | constraint :  Cov(z, d | y = 1) < c\n",
      "\n"
     ]
    },
    {
     "name": "stderr",
     "output_type": "stream",
     "text": [
      "\n",
      " 25%|██▌       | 2/8 [00:04<00:12,  2.04s/it]\u001b[A"
     ]
    },
    {
     "name": "stdout",
     "output_type": "stream",
     "text": [
      "Client 1: accuracy loss: 2.87 | fairness loss 2458.96 | Equal Opportunity Disparity = 0.36\n",
      "Client 2: accuracy loss: 3.02 | fairness loss 2672.28 | Equal Opportunity Disparity = 0.04\n",
      "Client 3: accuracy loss: 2.95 | fairness loss 2707.21 | Equal Opportunity Disparity = 0.08\n",
      " \n",
      "Avg Training Stats after 2 global rounds:\n",
      "Training loss: -40.80 | Validation accuracy: 88.36% | Validation Equal Opportunity Disparity: 0.1259\n",
      "\n",
      " | Global Round : 3 | constraint :  Cov(z, d | y = 1) < c\n",
      "\n"
     ]
    },
    {
     "name": "stderr",
     "output_type": "stream",
     "text": [
      "\n",
      " 38%|███▊      | 3/8 [00:06<00:10,  2.04s/it]\u001b[A"
     ]
    },
    {
     "name": "stdout",
     "output_type": "stream",
     "text": [
      "Client 1: accuracy loss: 2.84 | fairness loss 3745.42 | Equal Opportunity Disparity = 0.35\n",
      "Client 2: accuracy loss: 3.00 | fairness loss 4070.68 | Equal Opportunity Disparity = 0.01\n",
      "Client 3: accuracy loss: 2.91 | fairness loss 4129.11 | Equal Opportunity Disparity = 0.08\n",
      " \n",
      "Avg Training Stats after 3 global rounds:\n",
      "Training loss: -50.73 | Validation accuracy: 87.13% | Validation Equal Opportunity Disparity: 0.1102\n",
      "\n",
      " | Global Round : 4 | constraint :  Cov(z, d | y = 1) < c\n",
      "\n"
     ]
    },
    {
     "name": "stderr",
     "output_type": "stream",
     "text": [
      "\n",
      " 50%|█████     | 4/8 [00:08<00:08,  2.04s/it]\u001b[A"
     ]
    },
    {
     "name": "stdout",
     "output_type": "stream",
     "text": [
      "Client 1: accuracy loss: 2.83 | fairness loss 5314.42 | Equal Opportunity Disparity = 0.33\n",
      "Client 2: accuracy loss: 3.00 | fairness loss 5777.09 | Equal Opportunity Disparity = 0.01\n",
      "Client 3: accuracy loss: 2.91 | fairness loss 5864.36 | Equal Opportunity Disparity = 0.01\n",
      " \n",
      "Avg Training Stats after 4 global rounds:\n",
      "Training loss: -62.16 | Validation accuracy: 84.91% | Validation Equal Opportunity Disparity: 0.0786\n",
      "\n",
      " | Global Round : 5 | constraint :  Cov(z, d | y = 1) < c\n",
      "\n"
     ]
    },
    {
     "name": "stderr",
     "output_type": "stream",
     "text": [
      "\n",
      " 62%|██████▎   | 5/8 [00:10<00:06,  2.03s/it]\u001b[A"
     ]
    },
    {
     "name": "stdout",
     "output_type": "stream",
     "text": [
      "Client 1: accuracy loss: 2.84 | fairness loss 7165.87 | Equal Opportunity Disparity = 0.28\n",
      "Client 2: accuracy loss: 3.01 | fairness loss 7791.09 | Equal Opportunity Disparity = 0.07\n",
      "Client 3: accuracy loss: 2.91 | fairness loss 7912.66 | Equal Opportunity Disparity = 0.10\n",
      " \n",
      "Avg Training Stats after 5 global rounds:\n",
      "Training loss: -74.47 | Validation accuracy: 80.56% | Validation Equal Opportunity Disparity: 0.0102\n",
      "\n",
      " | Global Round : 6 | constraint :  Cov(z, d | y = 1) < c\n",
      "\n"
     ]
    },
    {
     "name": "stderr",
     "output_type": "stream",
     "text": [
      "\n",
      " 75%|███████▌  | 6/8 [00:12<00:04,  2.03s/it]\u001b[A"
     ]
    },
    {
     "name": "stdout",
     "output_type": "stream",
     "text": [
      "Client 1: accuracy loss: 2.84 | fairness loss 9300.37 | Equal Opportunity Disparity = 0.15\n",
      "Client 2: accuracy loss: 3.02 | fairness loss 10113.17 | Equal Opportunity Disparity = 0.15\n",
      "Client 3: accuracy loss: 2.92 | fairness loss 10274.57 | Equal Opportunity Disparity = 0.10\n",
      " \n",
      "Avg Training Stats after 6 global rounds:\n",
      "Training loss: -87.33 | Validation accuracy: 75.77% | Validation Equal Opportunity Disparity: 0.0741\n",
      "\n",
      " | Global Round : 7 | constraint :  Cov(z, d | y = 1) < c\n",
      "\n"
     ]
    },
    {
     "name": "stderr",
     "output_type": "stream",
     "text": [
      "\n",
      " 88%|████████▊ | 7/8 [00:14<00:02,  2.03s/it]\u001b[A"
     ]
    },
    {
     "name": "stdout",
     "output_type": "stream",
     "text": [
      "Client 1: accuracy loss: 2.85 | fairness loss 11718.55 | Equal Opportunity Disparity = 0.09\n",
      "Client 2: accuracy loss: 3.02 | fairness loss 12743.93 | Equal Opportunity Disparity = 0.25\n",
      "Client 3: accuracy loss: 2.93 | fairness loss 12950.72 | Equal Opportunity Disparity = 0.15\n",
      " \n",
      "Avg Training Stats after 7 global rounds:\n",
      "Training loss: -100.57 | Validation accuracy: 72.22% | Validation Equal Opportunity Disparity: 0.1425\n",
      "\n",
      " | Global Round : 8 | constraint :  Cov(z, d | y = 1) < c\n",
      "\n"
     ]
    },
    {
     "name": "stderr",
     "output_type": "stream",
     "text": [
      "\n",
      "100%|██████████| 8/8 [00:16<00:00,  2.04s/it]\u001b[A"
     ]
    },
    {
     "name": "stdout",
     "output_type": "stream",
     "text": [
      "Client 1: accuracy loss: 2.86 | fairness loss 14420.94 | Equal Opportunity Disparity = 0.15\n",
      "Client 2: accuracy loss: 3.03 | fairness loss 15683.91 | Equal Opportunity Disparity = 0.29\n",
      "Client 3: accuracy loss: 2.94 | fairness loss 15941.69 | Equal Opportunity Disparity = 0.22\n",
      " \n",
      "Avg Training Stats after 8 global rounds:\n",
      "Training loss: -114.06 | Validation accuracy: 65.84% | Validation Equal Opportunity Disparity: 0.2466\n",
      " \n",
      " Results after 8 global rounds of training:\n",
      "|---- Avg Train Accuracy: 65.84%\n",
      "|---- Test Accuracy: 62.33%\n",
      "|---- Test Equal Opportunity Disparity: 0.3251\n",
      "\n",
      " Total Run Time: 20.5096 sec\n"
     ]
    },
    {
     "name": "stderr",
     "output_type": "stream",
     "text": [
      "\n"
     ]
    }
   ],
   "source": [
    "seed = 86\n",
    "synthetic_info = dataGenerate(seed = seed, test_samples = 300)\n",
    "server = Server(logReg(num_features=3, num_classes=2, seed = seed), synthetic_info, train_prn = False, seed = seed)\n",
    "server.FairConstraints(test_rounds = 1, test_lr = 0.01, test_penalty = 200, num_rounds = 8, local_epochs = 30, optimizer = 'adam', learning_rate = 0.002, penalty = 100)\n"
   ]
  },
  {
   "cell_type": "code",
   "execution_count": 27,
   "metadata": {
    "scrolled": true
   },
   "outputs": [
    {
     "name": "stderr",
     "output_type": "stream",
     "text": [
      "\r",
      "  0%|          | 0/5 [00:00<?, ?it/s]"
     ]
    },
    {
     "name": "stdout",
     "output_type": "stream",
     "text": [
      "\n",
      " | Global Training Round : 1 |\n",
      "\n"
     ]
    },
    {
     "name": "stderr",
     "output_type": "stream",
     "text": [
      "\r",
      " 20%|██        | 1/5 [00:02<00:10,  2.68s/it]"
     ]
    },
    {
     "name": "stdout",
     "output_type": "stream",
     "text": [
      "Client 1: predictor loss: 4.62 | adversary loss 0.49 | Equal Opportunity Disparity = 0.58\n",
      "Client 2: predictor loss: 3.78 | adversary loss 0.85 | Equal Opportunity Disparity = 0.07\n",
      "Client 3: predictor loss: 4.44 | adversary loss 1.09 | Equal Opportunity Disparity = 0.27\n",
      " \n",
      "Avg Training Stats after 1 global rounds:\n",
      "Training loss: 0.87 | Validation accuracy: 80.35% | Validation Equal Opportunity Disparity: 0.2628\n",
      "\n",
      " | Global Training Round : 2 |\n",
      "\n"
     ]
    },
    {
     "name": "stderr",
     "output_type": "stream",
     "text": [
      "\r",
      " 40%|████      | 2/5 [00:05<00:07,  2.64s/it]"
     ]
    },
    {
     "name": "stdout",
     "output_type": "stream",
     "text": [
      "Client 1: predictor loss: 3.96 | adversary loss 0.26 | Equal Opportunity Disparity = 0.61\n",
      "Client 2: predictor loss: 2.77 | adversary loss 0.49 | Equal Opportunity Disparity = 0.16\n",
      "Client 3: predictor loss: 3.35 | adversary loss 0.57 | Equal Opportunity Disparity = 0.31\n",
      " \n",
      "Avg Training Stats after 2 global rounds:\n",
      "Training loss: 0.59 | Validation accuracy: 83.17% | Validation Equal Opportunity Disparity: 0.3333\n",
      "\n",
      " | Global Training Round : 3 |\n",
      "\n"
     ]
    },
    {
     "name": "stderr",
     "output_type": "stream",
     "text": [
      "\r",
      " 60%|██████    | 3/5 [00:07<00:05,  2.61s/it]"
     ]
    },
    {
     "name": "stdout",
     "output_type": "stream",
     "text": [
      "Client 1: predictor loss: 4.48 | adversary loss 0.39 | Equal Opportunity Disparity = 0.53\n",
      "Client 2: predictor loss: 3.66 | adversary loss 0.58 | Equal Opportunity Disparity = 0.05\n",
      "Client 3: predictor loss: 4.31 | adversary loss 0.63 | Equal Opportunity Disparity = 0.27\n",
      " \n",
      "Avg Training Stats after 3 global rounds:\n",
      "Training loss: 0.51 | Validation accuracy: 81.11% | Validation Equal Opportunity Disparity: 0.2333\n",
      "\n",
      " | Global Training Round : 4 |\n",
      "\n"
     ]
    },
    {
     "name": "stderr",
     "output_type": "stream",
     "text": [
      "\r",
      " 80%|████████  | 4/5 [00:10<00:02,  2.67s/it]"
     ]
    },
    {
     "name": "stdout",
     "output_type": "stream",
     "text": [
      "Client 1: predictor loss: 8.58 | adversary loss 0.57 | Equal Opportunity Disparity = 0.26\n",
      "Client 2: predictor loss: 6.66 | adversary loss 0.84 | Equal Opportunity Disparity = 0.07\n",
      "Client 3: predictor loss: 7.67 | adversary loss 1.04 | Equal Opportunity Disparity = 0.07\n",
      " \n",
      "Avg Training Stats after 4 global rounds:\n",
      "Training loss: 0.53 | Validation accuracy: 64.05% | Validation Equal Opportunity Disparity: 0.0002\n",
      "\n",
      " | Global Training Round : 5 |\n",
      "\n"
     ]
    },
    {
     "name": "stderr",
     "output_type": "stream",
     "text": [
      "100%|██████████| 5/5 [00:13<00:00,  2.68s/it]"
     ]
    },
    {
     "name": "stdout",
     "output_type": "stream",
     "text": [
      "Client 1: predictor loss: 8.13 | adversary loss 0.54 | Equal Opportunity Disparity = 0.26\n",
      "Client 2: predictor loss: 6.29 | adversary loss 0.89 | Equal Opportunity Disparity = 0.00\n",
      "Client 3: predictor loss: 7.24 | adversary loss 1.12 | Equal Opportunity Disparity = 0.11\n",
      " \n",
      "Avg Training Stats after 5 global rounds:\n",
      "Training loss: 0.61 | Validation accuracy: 66.88% | Validation Equal Opportunity Disparity: 0.0498\n",
      " \n",
      " Results after 5 global rounds of training:\n",
      "|---- Avg Train Accuracy: 66.88%\n",
      "|---- Test Accuracy: 62.67%\n",
      "|---- Test Equal Opportunity Disparity: 0.0009\n",
      "\n",
      " Total Run Time: 13.4100 sec\n"
     ]
    },
    {
     "name": "stderr",
     "output_type": "stream",
     "text": [
      "\n"
     ]
    }
   ],
   "source": [
    "seed = 815\n",
    "synthetic_info = dataGenerate(seed = seed, test_samples = 300)\n",
    "server = Server(logReg(num_features=3, num_classes=2, seed = seed), synthetic_info, train_prn = False, seed = seed)\n",
    "server.FTrain(num_rounds = 5, local_epochs = 30, init_epochs = 50, lr_g = 0.002, lr_d = 0.008, lambda_d = 1)\n"
   ]
  },
  {
   "cell_type": "code",
   "execution_count": 17,
   "metadata": {
    "scrolled": true
   },
   "outputs": [
    {
     "name": "stderr",
     "output_type": "stream",
     "text": [
      "\r",
      "  0%|          | 0/5 [00:00<?, ?it/s]"
     ]
    },
    {
     "name": "stdout",
     "output_type": "stream",
     "text": [
      "\n",
      " | Global Training Round : 1 |\n",
      "\n"
     ]
    },
    {
     "name": "stderr",
     "output_type": "stream",
     "text": [
      "\r",
      " 20%|██        | 1/5 [00:02<00:10,  2.63s/it]"
     ]
    },
    {
     "name": "stdout",
     "output_type": "stream",
     "text": [
      "Client 1: accuracy loss: 3.20 | fairness loss 253.32 | Equal Opportunity Disparity = 0.20\n",
      "Client 2: accuracy loss: 3.03 | fairness loss 307.90 | Equal Opportunity Disparity = 0.45\n",
      "Client 3: accuracy loss: 2.91 | fairness loss 314.62 | Equal Opportunity Disparity = 0.37\n",
      " \n",
      "Avg Training Stats after 1 global rounds:\n",
      "Training loss: 0.40 | Validation accuracy: 84.87% | Validation Equal Opportunity Disparity: 0.3523\n",
      "\n",
      " | Global Training Round : 2 |\n",
      "\n"
     ]
    },
    {
     "name": "stderr",
     "output_type": "stream",
     "text": [
      "\r",
      " 40%|████      | 2/5 [00:05<00:07,  2.63s/it]"
     ]
    },
    {
     "name": "stdout",
     "output_type": "stream",
     "text": [
      "Client 1: accuracy loss: 3.14 | fairness loss 254.03 | Equal Opportunity Disparity = 0.19\n",
      "Client 2: accuracy loss: 2.96 | fairness loss 306.78 | Equal Opportunity Disparity = 0.28\n",
      "Client 3: accuracy loss: 2.84 | fairness loss 310.16 | Equal Opportunity Disparity = 0.26\n",
      " \n",
      "Avg Training Stats after 2 global rounds:\n",
      "Training loss: 0.35 | Validation accuracy: 85.63% | Validation Equal Opportunity Disparity: 0.2476\n",
      "\n",
      " | Global Training Round : 3 |\n",
      "\n"
     ]
    },
    {
     "name": "stderr",
     "output_type": "stream",
     "text": [
      "\r",
      " 60%|██████    | 3/5 [00:08<00:05,  2.69s/it]"
     ]
    },
    {
     "name": "stdout",
     "output_type": "stream",
     "text": [
      "Client 1: accuracy loss: 3.17 | fairness loss 213.32 | Equal Opportunity Disparity = 0.18\n",
      "Client 2: accuracy loss: 3.03 | fairness loss 254.87 | Equal Opportunity Disparity = 0.20\n",
      "Client 3: accuracy loss: 2.98 | fairness loss 255.53 | Equal Opportunity Disparity = 0.11\n",
      " \n",
      "Avg Training Stats after 3 global rounds:\n",
      "Training loss: 0.34 | Validation accuracy: 85.45% | Validation Equal Opportunity Disparity: 0.1430\n",
      "\n",
      " | Global Training Round : 4 |\n",
      "\n"
     ]
    },
    {
     "name": "stderr",
     "output_type": "stream",
     "text": [
      "\r",
      " 80%|████████  | 4/5 [00:10<00:02,  2.68s/it]"
     ]
    },
    {
     "name": "stdout",
     "output_type": "stream",
     "text": [
      "Client 1: accuracy loss: 3.21 | fairness loss 186.63 | Equal Opportunity Disparity = 0.18\n",
      "Client 2: accuracy loss: 3.13 | fairness loss 219.72 | Equal Opportunity Disparity = 0.12\n",
      "Client 3: accuracy loss: 3.16 | fairness loss 218.79 | Equal Opportunity Disparity = 0.11\n",
      " \n",
      "Avg Training Stats after 4 global rounds:\n",
      "Training loss: 0.33 | Validation accuracy: 84.77% | Validation Equal Opportunity Disparity: 0.1182\n",
      "\n",
      " | Global Training Round : 5 |\n",
      "\n"
     ]
    },
    {
     "name": "stderr",
     "output_type": "stream",
     "text": [
      "100%|██████████| 5/5 [00:13<00:00,  2.68s/it]"
     ]
    },
    {
     "name": "stdout",
     "output_type": "stream",
     "text": [
      "Client 1: accuracy loss: 3.27 | fairness loss 169.22 | Equal Opportunity Disparity = 0.18\n",
      "Client 2: accuracy loss: 3.23 | fairness loss 196.14 | Equal Opportunity Disparity = 0.12\n",
      "Client 3: accuracy loss: 3.33 | fairness loss 194.32 | Equal Opportunity Disparity = 0.00\n",
      " \n",
      "Avg Training Stats after 5 global rounds:\n",
      "Training loss: 0.32 | Validation accuracy: 84.66% | Validation Equal Opportunity Disparity: 0.0686\n",
      " \n",
      " Results after 5 global rounds of training:\n",
      "|---- Avg Train Accuracy: 84.66%\n",
      "|---- Test Accuracy: 84.00%\n",
      "|---- Test Equal Opportunity Disparity: 0.1310\n",
      "\n",
      " Total Run Time: 13.4086 sec\n"
     ]
    },
    {
     "name": "stderr",
     "output_type": "stream",
     "text": [
      "\n"
     ]
    }
   ],
   "source": [
    "seed = 419\n",
    "synthetic_info = dataGenerate(seed = seed, test_samples = 300)\n",
    "server = Server(logReg(num_features=3, num_classes=2, seed = seed), synthetic_info, train_prn = False, seed = seed)\n",
    "server.BiasCorrecting(num_rounds = 5, local_epochs = 30, optimizer = 'adam', learning_rate = 0.01, alpha = 4)\n"
   ]
  },
  {
   "cell_type": "code",
   "execution_count": 6,
   "metadata": {
    "scrolled": true
   },
   "outputs": [
    {
     "name": "stderr",
     "output_type": "stream",
     "text": [
      "\r",
      "  0%|          | 0/1 [00:00<?, ?it/s]"
     ]
    },
    {
     "name": "stdout",
     "output_type": "stream",
     "text": [
      "\n",
      " | Global Training Round : 1 |\n",
      "\n"
     ]
    },
    {
     "name": "stderr",
     "output_type": "stream",
     "text": [
      "100%|██████████| 1/1 [00:02<00:00,  2.24s/it]\n",
      "  0%|          | 0/9 [00:00<?, ?it/s]"
     ]
    },
    {
     "name": "stdout",
     "output_type": "stream",
     "text": [
      "Client 1: accuracy loss: 2.71 | fairness loss 478.94 | Equal Opportunity Disparity = 0.28\n",
      "Client 2: accuracy loss: 2.91 | fairness loss 779.25 | Equal Opportunity Disparity = 0.14\n",
      "Client 3: accuracy loss: 2.62 | fairness loss 856.99 | Equal Opportunity Disparity = 0.19\n",
      " \n",
      "Avg Training Stats after 1 global rounds:\n",
      "Training loss: 39.69 | Validation accuracy: 86.17% | Validation Equal Opportunity Disparity: 0.2063\n",
      " \n",
      " Results after 1 global rounds of training:\n",
      "|---- Avg Train Accuracy: 86.17%\n",
      "|---- Test Accuracy: 82.00%\n",
      "|---- Test Equal Opportunity Disparity: 0.6226\n",
      "\n",
      " Total Run Time: 2.2678 sec\n",
      "\n",
      " | Global Training Round : 1 |\n",
      "\n"
     ]
    },
    {
     "name": "stderr",
     "output_type": "stream",
     "text": [
      "\r",
      " 11%|█         | 1/9 [00:03<00:24,  3.10s/it]"
     ]
    },
    {
     "name": "stdout",
     "output_type": "stream",
     "text": [
      "Client 1: predictor loss: 3.40 | adversary loss 0.36 | Equal Opportunity Disparity = 0.24\n",
      "Client 2: predictor loss: 3.00 | adversary loss 0.41 | Equal Opportunity Disparity = 0.17\n",
      "Client 3: predictor loss: 3.19 | adversary loss 0.42 | Equal Opportunity Disparity = 0.30\n",
      " \n",
      "Avg Training Stats after 1 global rounds:\n",
      "Training loss: 20.82 | Validation accuracy: 85.66% | Validation Equal Opportunity Disparity: 0.2526\n",
      "\n",
      " | Global Training Round : 2 |\n",
      "\n"
     ]
    },
    {
     "name": "stderr",
     "output_type": "stream",
     "text": [
      "\r",
      " 22%|██▏       | 2/9 [00:06<00:22,  3.18s/it]"
     ]
    },
    {
     "name": "stdout",
     "output_type": "stream",
     "text": [
      "Client 1: predictor loss: 4.18 | adversary loss 0.43 | Equal Opportunity Disparity = 0.16\n",
      "Client 2: predictor loss: 3.28 | adversary loss 0.54 | Equal Opportunity Disparity = 0.12\n",
      "Client 3: predictor loss: 3.82 | adversary loss 0.57 | Equal Opportunity Disparity = 0.25\n",
      " \n",
      "Avg Training Stats after 2 global rounds:\n",
      "Training loss: 23.13 | Validation accuracy: 83.53% | Validation Equal Opportunity Disparity: 0.1706\n",
      "\n",
      " | Global Training Round : 3 |\n",
      "\n"
     ]
    },
    {
     "name": "stderr",
     "output_type": "stream",
     "text": [
      "\r",
      " 33%|███▎      | 3/9 [00:09<00:19,  3.17s/it]"
     ]
    },
    {
     "name": "stdout",
     "output_type": "stream",
     "text": [
      "Client 1: predictor loss: 5.07 | adversary loss 0.50 | Equal Opportunity Disparity = 0.10\n",
      "Client 2: predictor loss: 3.67 | adversary loss 0.65 | Equal Opportunity Disparity = 0.08\n",
      "Client 3: predictor loss: 4.53 | adversary loss 0.71 | Equal Opportunity Disparity = 0.25\n",
      " \n",
      "Avg Training Stats after 3 global rounds:\n",
      "Training loss: 25.50 | Validation accuracy: 77.92% | Validation Equal Opportunity Disparity: 0.1402\n",
      "\n",
      " | Global Training Round : 4 |\n",
      "\n"
     ]
    },
    {
     "name": "stderr",
     "output_type": "stream",
     "text": [
      "\r",
      " 44%|████▍     | 4/9 [00:13<00:16,  3.29s/it]"
     ]
    },
    {
     "name": "stdout",
     "output_type": "stream",
     "text": [
      "Client 1: predictor loss: 6.12 | adversary loss 0.55 | Equal Opportunity Disparity = 0.04\n",
      "Client 2: predictor loss: 4.18 | adversary loss 0.71 | Equal Opportunity Disparity = 0.04\n",
      "Client 3: predictor loss: 5.35 | adversary loss 0.78 | Equal Opportunity Disparity = 0.23\n",
      " \n",
      "Avg Training Stats after 4 global rounds:\n",
      "Training loss: 28.02 | Validation accuracy: 76.58% | Validation Equal Opportunity Disparity: 0.0913\n",
      "\n",
      " | Global Training Round : 5 |\n",
      "\n"
     ]
    },
    {
     "name": "stderr",
     "output_type": "stream",
     "text": [
      "\r",
      " 56%|█████▌    | 5/9 [00:16<00:12,  3.22s/it]"
     ]
    },
    {
     "name": "stdout",
     "output_type": "stream",
     "text": [
      "Client 1: predictor loss: 7.01 | adversary loss 0.58 | Equal Opportunity Disparity = 0.05\n",
      "Client 2: predictor loss: 4.63 | adversary loss 0.76 | Equal Opportunity Disparity = 0.03\n",
      "Client 3: predictor loss: 6.05 | adversary loss 0.86 | Equal Opportunity Disparity = 0.23\n",
      " \n",
      "Avg Training Stats after 5 global rounds:\n",
      "Training loss: 30.58 | Validation accuracy: 75.06% | Validation Equal Opportunity Disparity: 0.0807\n",
      "\n",
      " | Global Training Round : 6 |\n",
      "\n"
     ]
    },
    {
     "name": "stderr",
     "output_type": "stream",
     "text": [
      "\r",
      " 67%|██████▋   | 6/9 [00:19<00:10,  3.37s/it]"
     ]
    },
    {
     "name": "stdout",
     "output_type": "stream",
     "text": [
      "Client 1: predictor loss: 7.75 | adversary loss 0.59 | Equal Opportunity Disparity = 0.06\n",
      "Client 2: predictor loss: 5.00 | adversary loss 0.79 | Equal Opportunity Disparity = 0.00\n",
      "Client 3: predictor loss: 6.66 | adversary loss 0.91 | Equal Opportunity Disparity = 0.18\n",
      " \n",
      "Avg Training Stats after 6 global rounds:\n",
      "Training loss: 33.06 | Validation accuracy: 73.72% | Validation Equal Opportunity Disparity: 0.0423\n",
      "\n",
      " | Global Training Round : 7 |\n",
      "\n"
     ]
    },
    {
     "name": "stderr",
     "output_type": "stream",
     "text": [
      "\r",
      " 78%|███████▊  | 7/9 [00:23<00:06,  3.44s/it]"
     ]
    },
    {
     "name": "stdout",
     "output_type": "stream",
     "text": [
      "Client 1: predictor loss: 8.27 | adversary loss 0.60 | Equal Opportunity Disparity = 0.08\n",
      "Client 2: predictor loss: 5.28 | adversary loss 0.82 | Equal Opportunity Disparity = 0.00\n",
      "Client 3: predictor loss: 7.06 | adversary loss 0.96 | Equal Opportunity Disparity = 0.15\n",
      " \n",
      "Avg Training Stats after 7 global rounds:\n",
      "Training loss: 35.33 | Validation accuracy: 72.41% | Validation Equal Opportunity Disparity: 0.0265\n",
      "\n",
      " | Global Training Round : 8 |\n",
      "\n"
     ]
    },
    {
     "name": "stderr",
     "output_type": "stream",
     "text": [
      "\r",
      " 89%|████████▉ | 8/9 [00:26<00:03,  3.35s/it]"
     ]
    },
    {
     "name": "stdout",
     "output_type": "stream",
     "text": [
      "Client 1: predictor loss: 8.66 | adversary loss 0.60 | Equal Opportunity Disparity = 0.08\n",
      "Client 2: predictor loss: 5.50 | adversary loss 0.84 | Equal Opportunity Disparity = 0.00\n",
      "Client 3: predictor loss: 7.38 | adversary loss 1.00 | Equal Opportunity Disparity = 0.13\n",
      " \n",
      "Avg Training Stats after 8 global rounds:\n",
      "Training loss: 37.33 | Validation accuracy: 71.69% | Validation Equal Opportunity Disparity: 0.0212\n",
      "\n",
      " | Global Training Round : 9 |\n",
      "\n"
     ]
    },
    {
     "name": "stderr",
     "output_type": "stream",
     "text": [
      "100%|██████████| 9/9 [00:29<00:00,  3.30s/it]"
     ]
    },
    {
     "name": "stdout",
     "output_type": "stream",
     "text": [
      "Client 1: predictor loss: 8.93 | adversary loss 0.59 | Equal Opportunity Disparity = 0.11\n",
      "Client 2: predictor loss: 5.64 | adversary loss 0.86 | Equal Opportunity Disparity = 0.05\n",
      "Client 3: predictor loss: 7.59 | adversary loss 1.03 | Equal Opportunity Disparity = 0.13\n",
      " \n",
      "Avg Training Stats after 9 global rounds:\n",
      "Training loss: 39.09 | Validation accuracy: 71.07% | Validation Equal Opportunity Disparity: 0.0331\n",
      " \n",
      " Results after 9 global rounds of training:\n",
      "|---- Avg Train Accuracy: 71.07%\n",
      "|---- Test Accuracy: 60.00%\n",
      "|---- Test Equal Opportunity Disparity: 0.2613\n",
      "\n",
      " Total Run Time: 29.7055 sec\n"
     ]
    },
    {
     "name": "stderr",
     "output_type": "stream",
     "text": [
      "\n"
     ]
    }
   ],
   "source": [
    "seed = 452\n",
    "synthetic_info = dataGenerate(seed = seed, test_samples = 100)\n",
    "server = Server(logReg(num_features=3, num_classes=2, seed = seed), synthetic_info, train_prn = False, seed = seed)\n",
    "server.Unconstrained(num_rounds = 1, local_epochs = 30, optimizer = 'adam', learning_rate = 0.01)\n",
    "server.AdversarialLearning(num_rounds = 9, local_epochs = 30, optimizer = 'adam', epsilon = None, learning_rate = 0.005, alpha = 0.5, adaptive_lr = True)"
   ]
  }
 ],
 "metadata": {
  "kernelspec": {
   "display_name": "Python 3",
   "language": "python",
   "name": "python3"
  },
  "language_info": {
   "codemirror_mode": {
    "name": "ipython",
    "version": 3
   },
   "file_extension": ".py",
   "mimetype": "text/x-python",
   "name": "python",
   "nbconvert_exporter": "python",
   "pygments_lexer": "ipython3",
   "version": "3.7.4"
  }
 },
 "nbformat": 4,
 "nbformat_minor": 2
}
