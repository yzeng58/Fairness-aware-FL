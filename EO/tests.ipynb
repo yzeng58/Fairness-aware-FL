{
 "cells": [
  {
   "cell_type": "code",
   "execution_count": 1,
   "metadata": {},
   "outputs": [],
   "source": [
    "from Server import *"
   ]
  },
  {
   "cell_type": "code",
   "execution_count": 2,
   "metadata": {
    "scrolled": true
   },
   "outputs": [
    {
     "name": "stderr",
     "output_type": "stream",
     "text": [
      "\r",
      "  0%|          | 0/1 [00:00<?, ?it/s]"
     ]
    },
    {
     "name": "stdout",
     "output_type": "stream",
     "text": [
      "\n",
      " | Global Training Round : 1 |\n",
      "\n"
     ]
    },
    {
     "name": "stderr",
     "output_type": "stream",
     "text": [
      "100%|██████████| 1/1 [00:04<00:00,  4.63s/it]\n",
      "  0%|          | 0/9 [00:00<?, ?it/s]"
     ]
    },
    {
     "name": "stdout",
     "output_type": "stream",
     "text": [
      "Client 1: accuracy loss: 2.67 | fairness loss 446.22 | Equal Opportunity Disparity = 0.20\n",
      "Client 2: accuracy loss: 3.49 | fairness loss 522.31 | Equal Opportunity Disparity = 0.19\n",
      "Client 3: accuracy loss: 2.96 | fairness loss 507.85 | Equal Opportunity Disparity = 0.35\n",
      " \n",
      "Avg Training Stats after 1 global rounds:\n",
      "Training loss: 53.65 | Validation accuracy: 86.28% | Validation Equal Opportunity Disparity: 0.2990\n",
      " \n",
      " Results after 1 global rounds of training:\n",
      "|---- Avg Train Accuracy: 86.28%\n",
      "|---- Test Accuracy: 82.00%\n",
      "|---- Test Equal Opportunity Disparity: 0.3295\n",
      "\n",
      " Total Run Time: 4.6474 sec\n",
      "\n",
      " | Global Training Round : 1 |\n",
      "\n"
     ]
    },
    {
     "name": "stderr",
     "output_type": "stream",
     "text": [
      "\r",
      " 11%|█         | 1/9 [00:04<00:33,  4.17s/it]"
     ]
    },
    {
     "name": "stdout",
     "output_type": "stream",
     "text": [
      "Client 1: predictor loss: 2.93 | adversary loss 0.35 | Equal Opportunity Disparity = 0.20\n",
      "Client 2: predictor loss: 3.56 | adversary loss 0.38 | Equal Opportunity Disparity = 0.32\n",
      "Client 3: predictor loss: 3.19 | adversary loss 0.27 | Equal Opportunity Disparity = 0.27\n",
      " \n",
      "Avg Training Stats after 1 global rounds:\n",
      "Training loss: 17.03 | Validation accuracy: 86.97% | Validation Equal Opportunity Disparity: 0.3106\n",
      "\n",
      " | Global Training Round : 2 |\n",
      "\n"
     ]
    },
    {
     "name": "stderr",
     "output_type": "stream",
     "text": [
      "\r",
      " 22%|██▏       | 2/9 [00:07<00:27,  3.96s/it]"
     ]
    },
    {
     "name": "stdout",
     "output_type": "stream",
     "text": [
      "Client 1: predictor loss: 2.93 | adversary loss 0.38 | Equal Opportunity Disparity = 0.30\n",
      "Client 2: predictor loss: 3.60 | adversary loss 0.45 | Equal Opportunity Disparity = 0.19\n",
      "Client 3: predictor loss: 3.13 | adversary loss 0.34 | Equal Opportunity Disparity = 0.32\n",
      " \n",
      "Avg Training Stats after 2 global rounds:\n",
      "Training loss: 17.22 | Validation accuracy: 84.61% | Validation Equal Opportunity Disparity: 0.3078\n",
      "\n",
      " | Global Training Round : 3 |\n",
      "\n"
     ]
    },
    {
     "name": "stderr",
     "output_type": "stream",
     "text": [
      "\r",
      " 33%|███▎      | 3/9 [00:10<00:22,  3.76s/it]"
     ]
    },
    {
     "name": "stdout",
     "output_type": "stream",
     "text": [
      "Client 1: predictor loss: 3.43 | adversary loss 0.45 | Equal Opportunity Disparity = 0.24\n",
      "Client 2: predictor loss: 4.17 | adversary loss 0.59 | Equal Opportunity Disparity = 0.02\n",
      "Client 3: predictor loss: 3.70 | adversary loss 0.54 | Equal Opportunity Disparity = 0.18\n",
      " \n",
      "Avg Training Stats after 3 global rounds:\n",
      "Training loss: 18.32 | Validation accuracy: 80.75% | Validation Equal Opportunity Disparity: 0.1356\n",
      "\n",
      " | Global Training Round : 4 |\n",
      "\n"
     ]
    },
    {
     "name": "stderr",
     "output_type": "stream",
     "text": [
      "\r",
      " 44%|████▍     | 4/9 [00:14<00:18,  3.71s/it]"
     ]
    },
    {
     "name": "stdout",
     "output_type": "stream",
     "text": [
      "Client 1: predictor loss: 4.02 | adversary loss 0.54 | Equal Opportunity Disparity = 0.19\n",
      "Client 2: predictor loss: 4.88 | adversary loss 0.74 | Equal Opportunity Disparity = 0.01\n",
      "Client 3: predictor loss: 4.42 | adversary loss 0.72 | Equal Opportunity Disparity = 0.09\n",
      " \n",
      "Avg Training Stats after 4 global rounds:\n",
      "Training loss: 20.15 | Validation accuracy: 75.04% | Validation Equal Opportunity Disparity: 0.1037\n",
      "\n",
      " | Global Training Round : 5 |\n",
      "\n"
     ]
    },
    {
     "name": "stderr",
     "output_type": "stream",
     "text": [
      "\r",
      " 56%|█████▌    | 5/9 [00:17<00:14,  3.64s/it]"
     ]
    },
    {
     "name": "stdout",
     "output_type": "stream",
     "text": [
      "Client 1: predictor loss: 4.39 | adversary loss 0.55 | Equal Opportunity Disparity = 0.19\n",
      "Client 2: predictor loss: 5.36 | adversary loss 0.82 | Equal Opportunity Disparity = 0.03\n",
      "Client 3: predictor loss: 4.92 | adversary loss 0.84 | Equal Opportunity Disparity = 0.07\n",
      " \n",
      "Avg Training Stats after 5 global rounds:\n",
      "Training loss: 22.09 | Validation accuracy: 72.93% | Validation Equal Opportunity Disparity: 0.0921\n",
      "\n",
      " | Global Training Round : 6 |\n",
      "\n"
     ]
    },
    {
     "name": "stderr",
     "output_type": "stream",
     "text": [
      "\r",
      " 67%|██████▋   | 6/9 [00:21<00:10,  3.52s/it]"
     ]
    },
    {
     "name": "stdout",
     "output_type": "stream",
     "text": [
      "Client 1: predictor loss: 4.66 | adversary loss 0.57 | Equal Opportunity Disparity = 0.28\n",
      "Client 2: predictor loss: 5.70 | adversary loss 0.86 | Equal Opportunity Disparity = 0.03\n",
      "Client 3: predictor loss: 5.29 | adversary loss 0.91 | Equal Opportunity Disparity = 0.07\n",
      " \n",
      "Avg Training Stats after 6 global rounds:\n",
      "Training loss: 23.82 | Validation accuracy: 70.84% | Validation Equal Opportunity Disparity: 0.1010\n",
      "\n",
      " | Global Training Round : 7 |\n",
      "\n"
     ]
    },
    {
     "name": "stderr",
     "output_type": "stream",
     "text": [
      "\r",
      " 78%|███████▊  | 7/9 [00:24<00:07,  3.51s/it]"
     ]
    },
    {
     "name": "stdout",
     "output_type": "stream",
     "text": [
      "Client 1: predictor loss: 4.92 | adversary loss 0.58 | Equal Opportunity Disparity = 0.28\n",
      "Client 2: predictor loss: 6.04 | adversary loss 0.90 | Equal Opportunity Disparity = 0.03\n",
      "Client 3: predictor loss: 5.64 | adversary loss 0.96 | Equal Opportunity Disparity = 0.01\n",
      " \n",
      "Avg Training Stats after 7 global rounds:\n",
      "Training loss: 25.36 | Validation accuracy: 69.73% | Validation Equal Opportunity Disparity: 0.0894\n",
      "\n",
      " | Global Training Round : 8 |\n",
      "\n"
     ]
    },
    {
     "name": "stderr",
     "output_type": "stream",
     "text": [
      "\r",
      " 89%|████████▉ | 8/9 [00:28<00:03,  3.52s/it]"
     ]
    },
    {
     "name": "stdout",
     "output_type": "stream",
     "text": [
      "Client 1: predictor loss: 4.97 | adversary loss 0.58 | Equal Opportunity Disparity = 0.28\n",
      "Client 2: predictor loss: 6.09 | adversary loss 0.91 | Equal Opportunity Disparity = 0.03\n",
      "Client 3: predictor loss: 5.69 | adversary loss 0.98 | Equal Opportunity Disparity = 0.01\n",
      " \n",
      "Avg Training Stats after 8 global rounds:\n",
      "Training loss: 26.68 | Validation accuracy: 70.02% | Validation Equal Opportunity Disparity: 0.0894\n",
      "\n",
      " | Global Training Round : 9 |\n",
      "\n"
     ]
    },
    {
     "name": "stderr",
     "output_type": "stream",
     "text": [
      "100%|██████████| 9/9 [00:31<00:00,  3.53s/it]"
     ]
    },
    {
     "name": "stdout",
     "output_type": "stream",
     "text": [
      "Client 1: predictor loss: 5.00 | adversary loss 0.58 | Equal Opportunity Disparity = 0.28\n",
      "Client 2: predictor loss: 6.13 | adversary loss 0.91 | Equal Opportunity Disparity = 0.03\n",
      "Client 3: predictor loss: 5.74 | adversary loss 0.99 | Equal Opportunity Disparity = 0.01\n",
      " \n",
      "Avg Training Stats after 9 global rounds:\n",
      "Training loss: 27.75 | Validation accuracy: 70.02% | Validation Equal Opportunity Disparity: 0.0894\n",
      " \n",
      " Results after 9 global rounds of training:\n",
      "|---- Avg Train Accuracy: 70.02%\n",
      "|---- Test Accuracy: 71.00%\n",
      "|---- Test Equal Opportunity Disparity: 0.0860\n",
      "\n",
      " Total Run Time: 31.7581 sec\n"
     ]
    },
    {
     "name": "stderr",
     "output_type": "stream",
     "text": [
      "\n"
     ]
    }
   ],
   "source": [
    "seed = 860\n",
    "synthetic_info = dataGenerate(seed = seed, test_samples = 100)\n",
    "server = Server(logReg(num_features=3, num_classes=2, seed = seed), synthetic_info, train_prn = False, seed = seed)\n",
    "server.Unconstrained(num_rounds = 1, local_epochs = 30, optimizer = 'adam', learning_rate = 0.01)\n",
    "server.AdversarialLearning(num_rounds = 9, local_epochs = 30, optimizer = 'adam', epsilon = None, learning_rate = 0.005, alpha = 0.5, adaptive_lr = True)"
   ]
  },
  {
   "cell_type": "code",
   "execution_count": 8,
   "metadata": {
    "scrolled": true
   },
   "outputs": [
    {
     "name": "stderr",
     "output_type": "stream",
     "text": [
      "\r",
      "  0%|          | 0/10 [00:00<?, ?it/s]"
     ]
    },
    {
     "name": "stdout",
     "output_type": "stream",
     "text": [
      "\n",
      " | Global Training Round : 1 |\n",
      "\n"
     ]
    },
    {
     "name": "stderr",
     "output_type": "stream",
     "text": [
      "\r",
      " 10%|█         | 1/10 [00:02<00:22,  2.55s/it]"
     ]
    },
    {
     "name": "stdout",
     "output_type": "stream",
     "text": [
      "Client 1: predictor loss: 3.24 | adversary loss 0.20 | Equal Opportunity Disparity = 0.43\n",
      "Client 2: predictor loss: 2.45 | adversary loss 0.28 | Equal Opportunity Disparity = 0.15\n",
      "Client 3: predictor loss: 2.78 | adversary loss 0.30 | Equal Opportunity Disparity = 0.21\n",
      " \n",
      "Avg Training Stats after 1 global rounds:\n",
      "Training loss: 0.30 | Validation accuracy: 87.40% | Validation Equal Opportunity Disparity: 0.2019\n",
      "\n",
      " | Global Training Round : 2 |\n",
      "\n"
     ]
    },
    {
     "name": "stderr",
     "output_type": "stream",
     "text": [
      "\r",
      " 20%|██        | 2/10 [00:05<00:20,  2.59s/it]"
     ]
    },
    {
     "name": "stdout",
     "output_type": "stream",
     "text": [
      "Client 1: predictor loss: 3.27 | adversary loss 0.22 | Equal Opportunity Disparity = 0.38\n",
      "Client 2: predictor loss: 2.45 | adversary loss 0.29 | Equal Opportunity Disparity = 0.15\n",
      "Client 3: predictor loss: 2.80 | adversary loss 0.30 | Equal Opportunity Disparity = 0.21\n",
      " \n",
      "Avg Training Stats after 2 global rounds:\n",
      "Training loss: 0.30 | Validation accuracy: 86.66% | Validation Equal Opportunity Disparity: 0.1810\n",
      "\n",
      " | Global Training Round : 3 |\n",
      "\n"
     ]
    },
    {
     "name": "stderr",
     "output_type": "stream",
     "text": [
      "\r",
      " 30%|███       | 3/10 [00:07<00:18,  2.64s/it]"
     ]
    },
    {
     "name": "stdout",
     "output_type": "stream",
     "text": [
      "Client 1: predictor loss: 4.23 | adversary loss 0.43 | Equal Opportunity Disparity = 0.15\n",
      "Client 2: predictor loss: 2.94 | adversary loss 0.70 | Equal Opportunity Disparity = 0.15\n",
      "Client 3: predictor loss: 3.43 | adversary loss 0.73 | Equal Opportunity Disparity = 0.08\n",
      " \n",
      "Avg Training Stats after 3 global rounds:\n",
      "Training loss: 0.31 | Validation accuracy: 82.45% | Validation Equal Opportunity Disparity: 0.0872\n",
      "\n",
      " | Global Training Round : 4 |\n",
      "\n"
     ]
    },
    {
     "name": "stderr",
     "output_type": "stream",
     "text": [
      "\r",
      " 40%|████      | 4/10 [00:10<00:15,  2.64s/it]"
     ]
    },
    {
     "name": "stdout",
     "output_type": "stream",
     "text": [
      "Client 1: predictor loss: 5.70 | adversary loss 0.51 | Equal Opportunity Disparity = 0.21\n",
      "Client 2: predictor loss: 4.66 | adversary loss 0.88 | Equal Opportunity Disparity = 0.00\n",
      "Client 3: predictor loss: 5.00 | adversary loss 0.90 | Equal Opportunity Disparity = 0.04\n",
      " \n",
      "Avg Training Stats after 4 global rounds:\n",
      "Training loss: 0.36 | Validation accuracy: 73.44% | Validation Equal Opportunity Disparity: 0.0714\n",
      "\n",
      " | Global Training Round : 5 |\n",
      "\n"
     ]
    },
    {
     "name": "stderr",
     "output_type": "stream",
     "text": [
      "\r",
      " 50%|█████     | 5/10 [00:13<00:13,  2.63s/it]"
     ]
    },
    {
     "name": "stdout",
     "output_type": "stream",
     "text": [
      "Client 1: predictor loss: 4.53 | adversary loss 0.51 | Equal Opportunity Disparity = 0.16\n",
      "Client 2: predictor loss: 3.22 | adversary loss 0.93 | Equal Opportunity Disparity = 0.06\n",
      "Client 3: predictor loss: 3.66 | adversary loss 0.96 | Equal Opportunity Disparity = 0.08\n",
      " \n",
      "Avg Training Stats after 5 global rounds:\n",
      "Training loss: 0.41 | Validation accuracy: 81.55% | Validation Equal Opportunity Disparity: 0.0301\n",
      "\n",
      " | Global Training Round : 6 |\n",
      "\n"
     ]
    },
    {
     "name": "stderr",
     "output_type": "stream",
     "text": [
      "\r",
      " 60%|██████    | 6/10 [00:15<00:10,  2.64s/it]"
     ]
    },
    {
     "name": "stdout",
     "output_type": "stream",
     "text": [
      "Client 1: predictor loss: 4.68 | adversary loss 0.50 | Equal Opportunity Disparity = 0.19\n",
      "Client 2: predictor loss: 3.38 | adversary loss 0.92 | Equal Opportunity Disparity = 0.06\n",
      "Client 3: predictor loss: 3.80 | adversary loss 0.94 | Equal Opportunity Disparity = 0.02\n",
      " \n",
      "Avg Training Stats after 6 global rounds:\n",
      "Training loss: 0.42 | Validation accuracy: 80.77% | Validation Equal Opportunity Disparity: 0.0037\n",
      "\n",
      " | Global Training Round : 7 |\n",
      "\n"
     ]
    },
    {
     "name": "stderr",
     "output_type": "stream",
     "text": [
      "\r",
      " 70%|███████   | 7/10 [00:18<00:08,  2.67s/it]"
     ]
    },
    {
     "name": "stdout",
     "output_type": "stream",
     "text": [
      "Client 1: predictor loss: 4.74 | adversary loss 0.52 | Equal Opportunity Disparity = 0.19\n",
      "Client 2: predictor loss: 3.46 | adversary loss 0.96 | Equal Opportunity Disparity = 0.06\n",
      "Client 3: predictor loss: 3.87 | adversary loss 0.98 | Equal Opportunity Disparity = 0.04\n",
      " \n",
      "Avg Training Stats after 7 global rounds:\n",
      "Training loss: 0.43 | Validation accuracy: 80.49% | Validation Equal Opportunity Disparity: 0.0271\n",
      "\n",
      " | Global Training Round : 8 |\n",
      "\n"
     ]
    },
    {
     "name": "stderr",
     "output_type": "stream",
     "text": [
      "\r",
      " 80%|████████  | 8/10 [00:21<00:05,  2.68s/it]"
     ]
    },
    {
     "name": "stdout",
     "output_type": "stream",
     "text": [
      "Client 1: predictor loss: 4.59 | adversary loss 0.55 | Equal Opportunity Disparity = 0.18\n",
      "Client 2: predictor loss: 3.29 | adversary loss 1.01 | Equal Opportunity Disparity = 0.06\n",
      "Client 3: predictor loss: 3.73 | adversary loss 1.03 | Equal Opportunity Disparity = 0.08\n",
      " \n",
      "Avg Training Stats after 8 global rounds:\n",
      "Training loss: 0.44 | Validation accuracy: 80.98% | Validation Equal Opportunity Disparity: 0.0248\n",
      "\n",
      " | Global Training Round : 9 |\n",
      "\n"
     ]
    },
    {
     "name": "stderr",
     "output_type": "stream",
     "text": [
      "\r",
      " 90%|█████████ | 9/10 [00:24<00:02,  2.73s/it]"
     ]
    },
    {
     "name": "stdout",
     "output_type": "stream",
     "text": [
      "Client 1: predictor loss: 5.04 | adversary loss 0.52 | Equal Opportunity Disparity = 0.19\n",
      "Client 2: predictor loss: 3.80 | adversary loss 0.95 | Equal Opportunity Disparity = 0.06\n",
      "Client 3: predictor loss: 4.19 | adversary loss 0.97 | Equal Opportunity Disparity = 0.04\n",
      " \n",
      "Avg Training Stats after 9 global rounds:\n",
      "Training loss: 0.44 | Validation accuracy: 78.16% | Validation Equal Opportunity Disparity: 0.0271\n",
      "\n",
      " | Global Training Round : 10 |\n",
      "\n"
     ]
    },
    {
     "name": "stderr",
     "output_type": "stream",
     "text": [
      "100%|██████████| 10/10 [00:30<00:00,  3.02s/it]"
     ]
    },
    {
     "name": "stdout",
     "output_type": "stream",
     "text": [
      "Client 1: predictor loss: 4.57 | adversary loss 0.52 | Equal Opportunity Disparity = 0.16\n",
      "Client 2: predictor loss: 3.25 | adversary loss 0.95 | Equal Opportunity Disparity = 0.06\n",
      "Client 3: predictor loss: 3.70 | adversary loss 0.98 | Equal Opportunity Disparity = 0.08\n",
      " \n",
      "Avg Training Stats after 10 global rounds:\n",
      "Training loss: 0.45 | Validation accuracy: 81.55% | Validation Equal Opportunity Disparity: 0.0301\n",
      " \n",
      " Results after 10 global rounds of training:\n",
      "|---- Avg Train Accuracy: 81.55%\n",
      "|---- Test Accuracy: 81.00%\n",
      "|---- Test Equal Opportunity Disparity: 0.0881\n",
      "\n",
      " Total Run Time: 30.1898 sec\n"
     ]
    },
    {
     "name": "stderr",
     "output_type": "stream",
     "text": [
      "\n"
     ]
    }
   ],
   "source": [
    "seed = 95\n",
    "synthetic_info = dataGenerate(seed = seed, test_samples = 100)\n",
    "server = Server(logReg(num_features=3, num_classes=2, seed = seed), synthetic_info, train_prn = False, seed = seed)\n",
    "server.FTrain(num_rounds = 10, local_epochs = 30, init_epochs = 50, lr_g = 0.005, lr_d = 0.01, lambda_d = 1)\n"
   ]
  },
  {
   "cell_type": "code",
   "execution_count": 8,
   "metadata": {
    "scrolled": true
   },
   "outputs": [
    {
     "name": "stderr",
     "output_type": "stream",
     "text": [
      "\r",
      "  0%|          | 0/3 [00:00<?, ?it/s]"
     ]
    },
    {
     "name": "stdout",
     "output_type": "stream",
     "text": [
      "\n",
      " | Testing Round : 1 | constraint :  Cov(z, d | y = 1) < c\n",
      "\n"
     ]
    },
    {
     "name": "stderr",
     "output_type": "stream",
     "text": [
      "\r",
      " 33%|███▎      | 1/3 [00:02<00:04,  2.26s/it]"
     ]
    },
    {
     "name": "stdout",
     "output_type": "stream",
     "text": [
      "Client 1: accuracy loss: 3.70 | fairness loss 26.48 | Equal Opportunity Disparity = 0.47\n",
      "Client 2: accuracy loss: 3.20 | fairness loss 19.58 | Equal Opportunity Disparity = 0.21\n",
      "Client 3: accuracy loss: 2.28 | fairness loss 26.72 | Equal Opportunity Disparity = 0.51\n",
      " \n",
      "Avg Training Stats after 1 Testing rounds:\n",
      "Training loss: 47.03 | Validation accuracy: 87.10% | Validation Equal Opportunity Disparity: 0.3898\n",
      "\n",
      " | Testing Round : 2 | constraint :  Cov(z, d | y = 1) < c\n",
      "\n"
     ]
    },
    {
     "name": "stderr",
     "output_type": "stream",
     "text": [
      "\r",
      " 67%|██████▋   | 2/3 [00:04<00:02,  2.26s/it]"
     ]
    },
    {
     "name": "stdout",
     "output_type": "stream",
     "text": [
      "Client 1: accuracy loss: 3.48 | fairness loss 192.14 | Equal Opportunity Disparity = 0.47\n",
      "Client 2: accuracy loss: 2.82 | fairness loss 141.25 | Equal Opportunity Disparity = 0.06\n",
      "Client 3: accuracy loss: 2.08 | fairness loss 192.39 | Equal Opportunity Disparity = 0.48\n",
      " \n",
      "Avg Training Stats after 2 Testing rounds:\n",
      "Training loss: 17.54 | Validation accuracy: 88.47% | Validation Equal Opportunity Disparity: 0.3360\n",
      "\n",
      " | Testing Round : 3 | constraint :  Cov(z, d | y = 1) < c\n",
      "\n"
     ]
    },
    {
     "name": "stderr",
     "output_type": "stream",
     "text": [
      "100%|██████████| 3/3 [00:06<00:00,  2.32s/it]\n",
      "  0%|          | 0/3 [00:00<?, ?it/s]"
     ]
    },
    {
     "name": "stdout",
     "output_type": "stream",
     "text": [
      "Client 1: accuracy loss: 3.46 | fairness loss 541.20 | Equal Opportunity Disparity = 0.28\n",
      "Client 2: accuracy loss: 2.77 | fairness loss 398.71 | Equal Opportunity Disparity = 0.04\n",
      "Client 3: accuracy loss: 2.09 | fairness loss 545.58 | Equal Opportunity Disparity = 0.48\n",
      " \n",
      "Avg Training Stats after 3 Testing rounds:\n",
      "Training loss: -9.47 | Validation accuracy: 85.98% | Validation Equal Opportunity Disparity: 0.2451\n",
      "\n",
      " | Testing Round : 1 | constraint :  Cov(z, d | y = 1) > -c\n",
      "\n"
     ]
    },
    {
     "name": "stderr",
     "output_type": "stream",
     "text": [
      "\r",
      " 33%|███▎      | 1/3 [00:02<00:05,  2.57s/it]"
     ]
    },
    {
     "name": "stdout",
     "output_type": "stream",
     "text": [
      "Client 1: accuracy loss: 4.15 | fairness loss 15.83 | Equal Opportunity Disparity = 0.59\n",
      "Client 2: accuracy loss: 3.47 | fairness loss 11.53 | Equal Opportunity Disparity = 0.37\n",
      "Client 3: accuracy loss: 1.39 | fairness loss 15.68 | Equal Opportunity Disparity = 0.51\n",
      " \n",
      "Avg Training Stats after 1 Testing rounds:\n",
      "Training loss: 4.35 | Validation accuracy: 87.13% | Validation Equal Opportunity Disparity: 0.4974\n",
      "\n",
      " | Testing Round : 2 | constraint :  Cov(z, d | y = 1) > -c\n",
      "\n"
     ]
    },
    {
     "name": "stderr",
     "output_type": "stream",
     "text": [
      "\r",
      " 67%|██████▋   | 2/3 [00:05<00:02,  2.53s/it]"
     ]
    },
    {
     "name": "stdout",
     "output_type": "stream",
     "text": [
      "Client 1: accuracy loss: 4.32 | fairness loss 130.96 | Equal Opportunity Disparity = 0.47\n",
      "Client 2: accuracy loss: 3.00 | fairness loss 94.65 | Equal Opportunity Disparity = 0.35\n",
      "Client 3: accuracy loss: 1.37 | fairness loss 124.98 | Equal Opportunity Disparity = 0.51\n",
      " \n",
      "Avg Training Stats after 2 Testing rounds:\n",
      "Training loss: -1.05 | Validation accuracy: 87.72% | Validation Equal Opportunity Disparity: 0.4374\n",
      "\n",
      " | Testing Round : 3 | constraint :  Cov(z, d | y = 1) > -c\n",
      "\n"
     ]
    },
    {
     "name": "stderr",
     "output_type": "stream",
     "text": [
      "100%|██████████| 3/3 [00:07<00:00,  2.51s/it]\n",
      "  0%|          | 0/4 [00:00<?, ?it/s]"
     ]
    },
    {
     "name": "stdout",
     "output_type": "stream",
     "text": [
      "Client 1: accuracy loss: 4.49 | fairness loss 434.88 | Equal Opportunity Disparity = 0.47\n",
      "Client 2: accuracy loss: 3.04 | fairness loss 316.11 | Equal Opportunity Disparity = 0.35\n",
      "Client 3: accuracy loss: 1.40 | fairness loss 421.00 | Equal Opportunity Disparity = 0.51\n",
      " \n",
      "Avg Training Stats after 3 Testing rounds:\n",
      "Training loss: -14.14 | Validation accuracy: 87.72% | Validation Equal Opportunity Disparity: 0.4374\n",
      "\n",
      " | Global Round : 1 | constraint :  Cov(z, d | y = 1) < c\n",
      "\n"
     ]
    },
    {
     "name": "stderr",
     "output_type": "stream",
     "text": [
      "\r",
      " 25%|██▌       | 1/4 [00:02<00:07,  2.61s/it]"
     ]
    },
    {
     "name": "stdout",
     "output_type": "stream",
     "text": [
      "Client 1: accuracy loss: 3.52 | fairness loss 673.49 | Equal Opportunity Disparity = 0.35\n",
      "Client 2: accuracy loss: 2.67 | fairness loss 496.25 | Equal Opportunity Disparity = 0.00\n",
      "Client 3: accuracy loss: 1.78 | fairness loss 679.41 | Equal Opportunity Disparity = 0.45\n",
      " \n",
      "Avg Training Stats after 1 global rounds:\n",
      "Training loss: -9.45 | Validation accuracy: 84.45% | Validation Equal Opportunity Disparity: 0.2557\n",
      "\n",
      " | Global Round : 2 | constraint :  Cov(z, d | y = 1) < c\n",
      "\n"
     ]
    },
    {
     "name": "stderr",
     "output_type": "stream",
     "text": [
      "\r",
      " 50%|█████     | 2/4 [00:05<00:05,  2.58s/it]"
     ]
    },
    {
     "name": "stdout",
     "output_type": "stream",
     "text": [
      "Client 1: accuracy loss: 3.53 | fairness loss 819.57 | Equal Opportunity Disparity = 0.34\n",
      "Client 2: accuracy loss: 2.67 | fairness loss 603.82 | Equal Opportunity Disparity = 0.04\n",
      "Client 3: accuracy loss: 1.77 | fairness loss 826.67 | Equal Opportunity Disparity = 0.36\n",
      " \n",
      "Avg Training Stats after 2 global rounds:\n",
      "Training loss: -6.17 | Validation accuracy: 82.65% | Validation Equal Opportunity Disparity: 0.2187\n",
      "\n",
      " | Global Round : 3 | constraint :  Cov(z, d | y = 1) < c\n",
      "\n"
     ]
    },
    {
     "name": "stderr",
     "output_type": "stream",
     "text": [
      "\r",
      " 75%|███████▌  | 3/4 [00:07<00:02,  2.56s/it]"
     ]
    },
    {
     "name": "stdout",
     "output_type": "stream",
     "text": [
      "Client 1: accuracy loss: 3.53 | fairness loss 980.19 | Equal Opportunity Disparity = 0.31\n",
      "Client 2: accuracy loss: 2.67 | fairness loss 722.12 | Equal Opportunity Disparity = 0.16\n",
      "Client 3: accuracy loss: 1.77 | fairness loss 988.59 | Equal Opportunity Disparity = 0.22\n",
      " \n",
      "Avg Training Stats after 3 global rounds:\n",
      "Training loss: -3.83 | Validation accuracy: 78.13% | Validation Equal Opportunity Disparity: 0.1384\n",
      "\n",
      " | Global Round : 4 | constraint :  Cov(z, d | y = 1) < c\n",
      "\n"
     ]
    },
    {
     "name": "stderr",
     "output_type": "stream",
     "text": [
      "100%|██████████| 4/4 [00:10<00:00,  2.53s/it]"
     ]
    },
    {
     "name": "stdout",
     "output_type": "stream",
     "text": [
      "Client 1: accuracy loss: 3.53 | fairness loss 1155.40 | Equal Opportunity Disparity = 0.22\n",
      "Client 2: accuracy loss: 2.66 | fairness loss 851.19 | Equal Opportunity Disparity = 0.22\n",
      "Client 3: accuracy loss: 1.76 | fairness loss 1165.24 | Equal Opportunity Disparity = 0.16\n",
      " \n",
      "Avg Training Stats after 4 global rounds:\n",
      "Training loss: -2.15 | Validation accuracy: 74.31% | Validation Equal Opportunity Disparity: 0.0644\n",
      " \n",
      " Results after 4 global rounds of training:\n",
      "|---- Avg Train Accuracy: 74.31%\n",
      "|---- Test Accuracy: 71.00%\n",
      "|---- Test Equal Opportunity Disparity: 0.2022\n",
      "\n",
      " Total Run Time: 24.5992 sec\n"
     ]
    },
    {
     "name": "stderr",
     "output_type": "stream",
     "text": [
      "\n"
     ]
    }
   ],
   "source": [
    "seed = 313\n",
    "synthetic_info = dataGenerate(seed = seed, test_samples = 100)\n",
    "server = Server(logReg(num_features=3, num_classes=2, seed = seed), synthetic_info, train_prn = False, seed = seed)\n",
    "server.FairConstraints(test_rounds = 3, test_lr = 0.005, test_penalty = 80, num_rounds = 4, local_epochs = 30, optimizer = 'adam', learning_rate = 0.005, penalty = 10)\n"
   ]
  },
  {
   "cell_type": "code",
   "execution_count": 4,
   "metadata": {
    "scrolled": true
   },
   "outputs": [
    {
     "name": "stderr",
     "output_type": "stream",
     "text": [
      "\n",
      "  0%|          | 0/4 [00:00<?, ?it/s]\u001b[A"
     ]
    },
    {
     "name": "stdout",
     "output_type": "stream",
     "text": [
      "\n",
      " | Testing Round : 1 | constraint :  Cov(z, d | y = 1) < c\n",
      "\n"
     ]
    },
    {
     "name": "stderr",
     "output_type": "stream",
     "text": [
      "\n",
      " 25%|██▌       | 1/4 [00:03<00:11,  3.78s/it]\u001b[A"
     ]
    },
    {
     "name": "stdout",
     "output_type": "stream",
     "text": [
      "Client 1: accuracy loss: 3.52 | fairness loss 540.99 | Equal Opportunity Disparity = 0.54\n",
      "Client 2: accuracy loss: 2.46 | fairness loss 1000.22 | Equal Opportunity Disparity = 0.21\n",
      "Client 3: accuracy loss: 2.97 | fairness loss 794.28 | Equal Opportunity Disparity = 0.18\n",
      " \n",
      "Avg Training Stats after 1 Testing rounds:\n",
      "Training loss: -60.56 | Validation accuracy: 62.96% | Validation Equal Opportunity Disparity: 0.2636\n",
      "\n",
      " | Testing Round : 2 | constraint :  Cov(z, d | y = 1) < c\n",
      "\n"
     ]
    },
    {
     "name": "stderr",
     "output_type": "stream",
     "text": [
      "\n",
      " 50%|█████     | 2/4 [00:07<00:07,  3.83s/it]\u001b[A"
     ]
    },
    {
     "name": "stdout",
     "output_type": "stream",
     "text": [
      "Client 1: accuracy loss: 3.64 | fairness loss 2059.59 | Equal Opportunity Disparity = 0.82\n",
      "Client 2: accuracy loss: 2.43 | fairness loss 3825.52 | Equal Opportunity Disparity = 0.51\n",
      "Client 3: accuracy loss: 3.09 | fairness loss 3031.68 | Equal Opportunity Disparity = 0.37\n",
      " \n",
      "Avg Training Stats after 2 Testing rounds:\n",
      "Training loss: -158.39 | Validation accuracy: 45.88% | Validation Equal Opportunity Disparity: 0.5230\n",
      "\n",
      " | Testing Round : 3 | constraint :  Cov(z, d | y = 1) < c\n",
      "\n"
     ]
    },
    {
     "name": "stderr",
     "output_type": "stream",
     "text": [
      "\n",
      " 75%|███████▌  | 3/4 [00:11<00:03,  3.83s/it]\u001b[A"
     ]
    },
    {
     "name": "stdout",
     "output_type": "stream",
     "text": [
      "Client 1: accuracy loss: 3.72 | fairness loss 4562.70 | Equal Opportunity Disparity = 0.91\n",
      "Client 2: accuracy loss: 2.41 | fairness loss 8488.01 | Equal Opportunity Disparity = 0.50\n",
      "Client 3: accuracy loss: 3.18 | fairness loss 6721.86 | Equal Opportunity Disparity = 0.21\n",
      " \n",
      "Avg Training Stats after 3 Testing rounds:\n",
      "Training loss: -256.28 | Validation accuracy: 42.92% | Validation Equal Opportunity Disparity: 0.4820\n",
      "\n",
      " | Testing Round : 4 | constraint :  Cov(z, d | y = 1) < c\n",
      "\n"
     ]
    },
    {
     "name": "stderr",
     "output_type": "stream",
     "text": [
      "\n",
      "100%|██████████| 4/4 [00:15<00:00,  3.80s/it]\u001b[A\n",
      "\n",
      "  0%|          | 0/4 [00:00<?, ?it/s]\u001b[A"
     ]
    },
    {
     "name": "stdout",
     "output_type": "stream",
     "text": [
      "Client 1: accuracy loss: 3.79 | fairness loss 8051.07 | Equal Opportunity Disparity = 0.94\n",
      "Client 2: accuracy loss: 2.40 | fairness loss 14988.92 | Equal Opportunity Disparity = 0.39\n",
      "Client 3: accuracy loss: 3.26 | fairness loss 11865.83 | Equal Opportunity Disparity = 0.25\n",
      " \n",
      "Avg Training Stats after 4 Testing rounds:\n",
      "Training loss: -354.21 | Validation accuracy: 40.74% | Validation Equal Opportunity Disparity: 0.4329\n",
      "\n",
      " | Testing Round : 1 | constraint :  Cov(z, d | y = 1) > -c\n",
      "\n"
     ]
    },
    {
     "name": "stderr",
     "output_type": "stream",
     "text": [
      "\n",
      " 25%|██▌       | 1/4 [00:03<00:11,  3.74s/it]\u001b[A"
     ]
    },
    {
     "name": "stdout",
     "output_type": "stream",
     "text": [
      "Client 1: accuracy loss: 3.48 | fairness loss 413.65 | Equal Opportunity Disparity = 0.43\n",
      "Client 2: accuracy loss: 2.97 | fairness loss 789.50 | Equal Opportunity Disparity = 0.26\n",
      "Client 3: accuracy loss: 3.05 | fairness loss 620.07 | Equal Opportunity Disparity = 0.27\n",
      " \n",
      "Avg Training Stats after 1 Testing rounds:\n",
      "Training loss: -295.98 | Validation accuracy: 86.70% | Validation Equal Opportunity Disparity: 0.2953\n",
      "\n",
      " | Testing Round : 2 | constraint :  Cov(z, d | y = 1) > -c\n",
      "\n"
     ]
    },
    {
     "name": "stderr",
     "output_type": "stream",
     "text": [
      "\n",
      " 50%|█████     | 2/4 [00:07<00:07,  3.75s/it]\u001b[A"
     ]
    },
    {
     "name": "stdout",
     "output_type": "stream",
     "text": [
      "Client 1: accuracy loss: 3.77 | fairness loss 1821.71 | Equal Opportunity Disparity = 0.66\n",
      "Client 2: accuracy loss: 3.35 | fairness loss 3445.60 | Equal Opportunity Disparity = 0.33\n",
      "Client 3: accuracy loss: 3.30 | fairness loss 2713.25 | Equal Opportunity Disparity = 0.27\n",
      " \n",
      "Avg Training Stats after 2 Testing rounds:\n",
      "Training loss: -290.08 | Validation accuracy: 85.76% | Validation Equal Opportunity Disparity: 0.3653\n",
      "\n",
      " | Testing Round : 3 | constraint :  Cov(z, d | y = 1) > -c\n",
      "\n"
     ]
    },
    {
     "name": "stderr",
     "output_type": "stream",
     "text": [
      "\n",
      " 75%|███████▌  | 3/4 [00:11<00:03,  3.75s/it]\u001b[A"
     ]
    },
    {
     "name": "stdout",
     "output_type": "stream",
     "text": [
      "Client 1: accuracy loss: 4.00 | fairness loss 4241.54 | Equal Opportunity Disparity = 0.65\n",
      "Client 2: accuracy loss: 3.64 | fairness loss 8002.07 | Equal Opportunity Disparity = 0.27\n",
      "Client 3: accuracy loss: 3.49 | fairness loss 6305.69 | Equal Opportunity Disparity = 0.18\n",
      " \n",
      "Avg Training Stats after 3 Testing rounds:\n",
      "Training loss: -314.26 | Validation accuracy: 82.56% | Validation Equal Opportunity Disparity: 0.3182\n",
      "\n",
      " | Testing Round : 4 | constraint :  Cov(z, d | y = 1) > -c\n",
      "\n"
     ]
    },
    {
     "name": "stderr",
     "output_type": "stream",
     "text": [
      "\n",
      "100%|██████████| 4/4 [00:14<00:00,  3.75s/it]\u001b[A\n",
      "\n",
      "  0%|          | 0/10 [00:00<?, ?it/s]\u001b[A"
     ]
    },
    {
     "name": "stdout",
     "output_type": "stream",
     "text": [
      "Client 1: accuracy loss: 4.20 | fairness loss 7672.77 | Equal Opportunity Disparity = 0.55\n",
      "Client 2: accuracy loss: 3.87 | fairness loss 14458.68 | Equal Opportunity Disparity = 0.13\n",
      "Client 3: accuracy loss: 3.64 | fairness loss 11396.91 | Equal Opportunity Disparity = 0.05\n",
      " \n",
      "Avg Training Stats after 4 Testing rounds:\n",
      "Training loss: -357.22 | Validation accuracy: 74.98% | Validation Equal Opportunity Disparity: 0.1978\n",
      "\n",
      " | Global Round : 1 | constraint :  Cov(z, d | y = 1) > -c\n",
      "\n"
     ]
    },
    {
     "name": "stderr",
     "output_type": "stream",
     "text": [
      "\n",
      " 10%|█         | 1/10 [00:03<00:33,  3.69s/it]\u001b[A"
     ]
    },
    {
     "name": "stdout",
     "output_type": "stream",
     "text": [
      "Client 1: accuracy loss: 3.24 | fairness loss 7722.60 | Equal Opportunity Disparity = 0.22\n",
      "Client 2: accuracy loss: 2.73 | fairness loss 14548.70 | Equal Opportunity Disparity = 0.13\n",
      "Client 3: accuracy loss: 2.68 | fairness loss 11469.33 | Equal Opportunity Disparity = 0.03\n",
      " \n",
      "Avg Training Stats after 1 global rounds:\n",
      "Training loss: -318.64 | Validation accuracy: 73.55% | Validation Equal Opportunity Disparity: 0.1325\n",
      "\n",
      " | Global Round : 2 | constraint :  Cov(z, d | y = 1) > -c\n",
      "\n"
     ]
    },
    {
     "name": "stderr",
     "output_type": "stream",
     "text": [
      "\n",
      " 20%|██        | 2/10 [00:07<00:29,  3.73s/it]\u001b[A"
     ]
    },
    {
     "name": "stdout",
     "output_type": "stream",
     "text": [
      "Client 1: accuracy loss: 3.22 | fairness loss 7867.52 | Equal Opportunity Disparity = 0.21\n",
      "Client 2: accuracy loss: 2.60 | fairness loss 14818.97 | Equal Opportunity Disparity = 0.11\n",
      "Client 3: accuracy loss: 2.71 | fairness loss 11683.39 | Equal Opportunity Disparity = 0.03\n",
      " \n",
      "Avg Training Stats after 2 global rounds:\n",
      "Training loss: -288.19 | Validation accuracy: 72.54% | Validation Equal Opportunity Disparity: 0.1221\n",
      "\n",
      " | Global Round : 3 | constraint :  Cov(z, d | y = 1) > -c\n",
      "\n"
     ]
    },
    {
     "name": "stderr",
     "output_type": "stream",
     "text": [
      "\n",
      " 30%|███       | 3/10 [00:11<00:26,  3.73s/it]\u001b[A"
     ]
    },
    {
     "name": "stdout",
     "output_type": "stream",
     "text": [
      "Client 1: accuracy loss: 3.22 | fairness loss 8017.79 | Equal Opportunity Disparity = 0.20\n",
      "Client 2: accuracy loss: 2.54 | fairness loss 15097.84 | Equal Opportunity Disparity = 0.04\n",
      "Client 3: accuracy loss: 2.74 | fairness loss 11904.31 | Equal Opportunity Disparity = 0.03\n",
      " \n",
      "Avg Training Stats after 3 global rounds:\n",
      "Training loss: -263.34 | Validation accuracy: 72.58% | Validation Equal Opportunity Disparity: 0.0702\n",
      "\n",
      " | Global Round : 4 | constraint :  Cov(z, d | y = 1) > -c\n",
      "\n"
     ]
    },
    {
     "name": "stderr",
     "output_type": "stream",
     "text": [
      "\n",
      " 40%|████      | 4/10 [00:15<00:22,  3.77s/it]\u001b[A"
     ]
    },
    {
     "name": "stdout",
     "output_type": "stream",
     "text": [
      "Client 1: accuracy loss: 3.23 | fairness loss 8170.03 | Equal Opportunity Disparity = 0.19\n",
      "Client 2: accuracy loss: 2.51 | fairness loss 15379.95 | Equal Opportunity Disparity = 0.05\n",
      "Client 3: accuracy loss: 2.75 | fairness loss 12127.83 | Equal Opportunity Disparity = 0.03\n",
      " \n",
      "Avg Training Stats after 4 global rounds:\n",
      "Training loss: -242.68 | Validation accuracy: 72.22% | Validation Equal Opportunity Disparity: 0.0130\n",
      "\n",
      " | Global Round : 5 | constraint :  Cov(z, d | y = 1) > -c\n",
      "\n"
     ]
    },
    {
     "name": "stderr",
     "output_type": "stream",
     "text": [
      "\n",
      " 50%|█████     | 5/10 [00:18<00:18,  3.77s/it]\u001b[A"
     ]
    },
    {
     "name": "stdout",
     "output_type": "stream",
     "text": [
      "Client 1: accuracy loss: 3.23 | fairness loss 8323.83 | Equal Opportunity Disparity = 0.19\n",
      "Client 2: accuracy loss: 2.50 | fairness loss 15664.79 | Equal Opportunity Disparity = 0.09\n",
      "Client 3: accuracy loss: 2.76 | fairness loss 12353.53 | Equal Opportunity Disparity = 0.01\n",
      " \n",
      "Avg Training Stats after 5 global rounds:\n",
      "Training loss: -225.23 | Validation accuracy: 72.15% | Validation Equal Opportunity Disparity: 0.0156\n",
      "\n",
      " | Global Round : 6 | constraint :  Cov(z, d | y = 1) > -c\n",
      "\n"
     ]
    },
    {
     "name": "stderr",
     "output_type": "stream",
     "text": [
      "\n",
      " 60%|██████    | 6/10 [00:22<00:15,  3.79s/it]\u001b[A"
     ]
    },
    {
     "name": "stdout",
     "output_type": "stream",
     "text": [
      "Client 1: accuracy loss: 3.23 | fairness loss 8479.11 | Equal Opportunity Disparity = 0.16\n",
      "Client 2: accuracy loss: 2.49 | fairness loss 15952.32 | Equal Opportunity Disparity = 0.13\n",
      "Client 3: accuracy loss: 2.77 | fairness loss 12581.37 | Equal Opportunity Disparity = 0.01\n",
      " \n",
      "Avg Training Stats after 6 global rounds:\n",
      "Training loss: -210.31 | Validation accuracy: 70.92% | Validation Equal Opportunity Disparity: 0.0417\n",
      "\n",
      " | Global Round : 7 | constraint :  Cov(z, d | y = 1) > -c\n",
      "\n"
     ]
    },
    {
     "name": "stderr",
     "output_type": "stream",
     "text": [
      "\n",
      " 70%|███████   | 7/10 [00:26<00:11,  3.77s/it]\u001b[A"
     ]
    },
    {
     "name": "stdout",
     "output_type": "stream",
     "text": [
      "Client 1: accuracy loss: 3.24 | fairness loss 8635.89 | Equal Opportunity Disparity = 0.15\n",
      "Client 2: accuracy loss: 2.49 | fairness loss 16242.53 | Equal Opportunity Disparity = 0.13\n",
      "Client 3: accuracy loss: 2.77 | fairness loss 12811.36 | Equal Opportunity Disparity = 0.01\n",
      " \n",
      "Avg Training Stats after 7 global rounds:\n",
      "Training loss: -197.41 | Validation accuracy: 70.64% | Validation Equal Opportunity Disparity: 0.0470\n",
      "\n",
      " | Global Round : 8 | constraint :  Cov(z, d | y = 1) > -c\n",
      "\n"
     ]
    },
    {
     "name": "stderr",
     "output_type": "stream",
     "text": [
      "\n",
      " 80%|████████  | 8/10 [00:30<00:07,  3.75s/it]\u001b[A"
     ]
    },
    {
     "name": "stdout",
     "output_type": "stream",
     "text": [
      "Client 1: accuracy loss: 3.24 | fairness loss 8794.18 | Equal Opportunity Disparity = 0.15\n",
      "Client 2: accuracy loss: 2.49 | fairness loss 16535.50 | Equal Opportunity Disparity = 0.13\n",
      "Client 3: accuracy loss: 2.77 | fairness loss 13043.53 | Equal Opportunity Disparity = 0.01\n",
      " \n",
      "Avg Training Stats after 8 global rounds:\n",
      "Training loss: -186.16 | Validation accuracy: 70.64% | Validation Equal Opportunity Disparity: 0.0470\n",
      "\n",
      " | Global Round : 9 | constraint :  Cov(z, d | y = 1) > -c\n",
      "\n"
     ]
    },
    {
     "name": "stderr",
     "output_type": "stream",
     "text": [
      "\n",
      " 90%|█████████ | 9/10 [00:33<00:03,  3.77s/it]\u001b[A"
     ]
    },
    {
     "name": "stdout",
     "output_type": "stream",
     "text": [
      "Client 1: accuracy loss: 3.24 | fairness loss 8953.98 | Equal Opportunity Disparity = 0.15\n",
      "Client 2: accuracy loss: 2.49 | fairness loss 16831.22 | Equal Opportunity Disparity = 0.13\n",
      "Client 3: accuracy loss: 2.77 | fairness loss 13277.91 | Equal Opportunity Disparity = 0.01\n",
      " \n",
      "Avg Training Stats after 9 global rounds:\n",
      "Training loss: -176.25 | Validation accuracy: 70.24% | Validation Equal Opportunity Disparity: 0.0522\n",
      "\n",
      " | Global Round : 10 | constraint :  Cov(z, d | y = 1) > -c\n",
      "\n"
     ]
    },
    {
     "name": "stderr",
     "output_type": "stream",
     "text": [
      "\n",
      "100%|██████████| 10/10 [00:37<00:00,  3.76s/it]\u001b[A"
     ]
    },
    {
     "name": "stdout",
     "output_type": "stream",
     "text": [
      "Client 1: accuracy loss: 3.24 | fairness loss 9115.31 | Equal Opportunity Disparity = 0.15\n",
      "Client 2: accuracy loss: 2.49 | fairness loss 17129.72 | Equal Opportunity Disparity = 0.13\n",
      "Client 3: accuracy loss: 2.77 | fairness loss 13514.49 | Equal Opportunity Disparity = 0.01\n",
      " \n",
      "Avg Training Stats after 10 global rounds:\n",
      "Training loss: -167.48 | Validation accuracy: 70.24% | Validation Equal Opportunity Disparity: 0.0522\n",
      " \n",
      " Results after 10 global rounds of training:\n",
      "|---- Avg Train Accuracy: 70.24%\n",
      "|---- Test Accuracy: 72.00%\n",
      "|---- Test Equal Opportunity Disparity: 0.1119\n",
      "\n",
      " Total Run Time: 67.8352 sec\n"
     ]
    },
    {
     "name": "stderr",
     "output_type": "stream",
     "text": [
      "\n"
     ]
    }
   ],
   "source": [
    "seed = 95\n",
    "synthetic_info = dataGenerate(seed = seed, test_samples = 100)\n",
    "server = Server(logReg(num_features=3, num_classes=2, seed = seed), synthetic_info, train_prn = False, seed = seed)\n",
    "server.FairConstraints(test_rounds = 4, test_lr = 0.01, test_penalty = 80, num_rounds = 5, local_epochs = 50, optimizer = 'adam', learning_rate = 0.002, penalty = 5)\n"
   ]
  },
  {
   "cell_type": "code",
   "execution_count": 3,
   "metadata": {
    "scrolled": true
   },
   "outputs": [
    {
     "name": "stderr",
     "output_type": "stream",
     "text": [
      "\r",
      "  0%|          | 0/5 [00:00<?, ?it/s]"
     ]
    },
    {
     "name": "stdout",
     "output_type": "stream",
     "text": [
      "\n",
      " | Global Training Round : 1 |\n",
      "\n"
     ]
    },
    {
     "name": "stderr",
     "output_type": "stream",
     "text": [
      "\r",
      " 20%|██        | 1/5 [00:02<00:11,  2.86s/it]"
     ]
    },
    {
     "name": "stdout",
     "output_type": "stream",
     "text": [
      "Client 1: accuracy loss: 3.73 | fairness loss 403.87 | Equal Opportunity Disparity = 0.20\n",
      "Client 2: accuracy loss: 2.15 | fairness loss 599.82 | Equal Opportunity Disparity = 0.22\n",
      "Client 3: accuracy loss: 2.86 | fairness loss 637.28 | Equal Opportunity Disparity = 0.20\n",
      " \n",
      "Avg Training Stats after 1 global rounds:\n",
      "Training loss: 0.33 | Training accuracy: 88.53% | Training Equal Opportunity Disparity: 0.2261\n",
      "\n",
      " | Global Training Round : 2 |\n",
      "\n"
     ]
    },
    {
     "name": "stderr",
     "output_type": "stream",
     "text": [
      "\r",
      " 40%|████      | 2/5 [00:06<00:09,  3.05s/it]"
     ]
    },
    {
     "name": "stdout",
     "output_type": "stream",
     "text": [
      "Client 1: accuracy loss: 4.36 | fairness loss 130.02 | Equal Opportunity Disparity = 0.09\n",
      "Client 2: accuracy loss: 3.55 | fairness loss 200.09 | Equal Opportunity Disparity = 0.09\n",
      "Client 3: accuracy loss: 4.13 | fairness loss 212.03 | Equal Opportunity Disparity = 0.08\n",
      " \n",
      "Avg Training Stats after 2 global rounds:\n",
      "Training loss: 0.38 | Training accuracy: 83.70% | Training Equal Opportunity Disparity: 0.0117\n",
      "\n",
      " | Global Training Round : 3 |\n",
      "\n"
     ]
    },
    {
     "name": "stderr",
     "output_type": "stream",
     "text": [
      "\r",
      " 60%|██████    | 3/5 [00:09<00:06,  3.11s/it]"
     ]
    },
    {
     "name": "stdout",
     "output_type": "stream",
     "text": [
      "Client 1: accuracy loss: 3.94 | fairness loss 153.25 | Equal Opportunity Disparity = 0.18\n",
      "Client 2: accuracy loss: 2.74 | fairness loss 229.35 | Equal Opportunity Disparity = 0.13\n",
      "Client 3: accuracy loss: 3.40 | fairness loss 240.43 | Equal Opportunity Disparity = 0.05\n",
      " \n",
      "Avg Training Stats after 3 global rounds:\n",
      "Training loss: 0.38 | Training accuracy: 87.13% | Training Equal Opportunity Disparity: 0.0468\n",
      "\n",
      " | Global Training Round : 4 |\n",
      "\n"
     ]
    },
    {
     "name": "stderr",
     "output_type": "stream",
     "text": [
      "\r",
      " 80%|████████  | 4/5 [00:11<00:02,  2.89s/it]"
     ]
    },
    {
     "name": "stdout",
     "output_type": "stream",
     "text": [
      "Client 1: accuracy loss: 4.22 | fairness loss 84.73 | Equal Opportunity Disparity = 0.12\n",
      "Client 2: accuracy loss: 3.29 | fairness loss 129.24 | Equal Opportunity Disparity = 0.13\n",
      "Client 3: accuracy loss: 3.88 | fairness loss 134.21 | Equal Opportunity Disparity = 0.08\n",
      " \n",
      "Avg Training Stats after 4 global rounds:\n",
      "Training loss: 0.38 | Training accuracy: 84.29% | Training Equal Opportunity Disparity: 0.0175\n",
      "\n",
      " | Global Training Round : 5 |\n",
      "\n"
     ]
    },
    {
     "name": "stderr",
     "output_type": "stream",
     "text": [
      "100%|██████████| 5/5 [00:14<00:00,  2.88s/it]"
     ]
    },
    {
     "name": "stdout",
     "output_type": "stream",
     "text": [
      "Client 1: accuracy loss: 4.01 | fairness loss 108.80 | Equal Opportunity Disparity = 0.16\n",
      "Client 2: accuracy loss: 2.88 | fairness loss 162.92 | Equal Opportunity Disparity = 0.13\n",
      "Client 3: accuracy loss: 3.52 | fairness loss 169.33 | Equal Opportunity Disparity = 0.05\n",
      " \n",
      "Avg Training Stats after 5 global rounds:\n",
      "Training loss: 0.38 | Training accuracy: 86.80% | Training Equal Opportunity Disparity: 0.0409\n",
      " \n",
      " Results after 5 global rounds of training:\n",
      "|---- Avg Train Accuracy: 86.80%\n",
      "|---- Test Accuracy: 93.00%\n",
      "|---- Test Equal Opportunity Disparity: 0.1095\n",
      "\n",
      " Total Run Time: 14.3998 sec\n"
     ]
    },
    {
     "name": "stderr",
     "output_type": "stream",
     "text": [
      "\n"
     ]
    }
   ],
   "source": [
    "seed = 41\n",
    "synthetic_info = dataGenerate(seed = seed, test_samples = 100)\n",
    "server = Server(logReg(num_features=3, num_classes=2, seed = seed), synthetic_info, train_prn = False, seed = seed)\n",
    "server.FairBatch(num_rounds = 5, local_epochs = 30, optimizer = 'adam', learning_rate = 0.005, alpha = 0.5)\n"
   ]
  },
  {
   "cell_type": "code",
   "execution_count": 4,
   "metadata": {
    "scrolled": true
   },
   "outputs": [
    {
     "name": "stderr",
     "output_type": "stream",
     "text": [
      "\r",
      "  0%|          | 0/10 [00:00<?, ?it/s]"
     ]
    },
    {
     "name": "stdout",
     "output_type": "stream",
     "text": [
      "\n",
      " | Global Training Round : 1 |\n",
      "\n"
     ]
    },
    {
     "name": "stderr",
     "output_type": "stream",
     "text": [
      "\r",
      " 10%|█         | 1/10 [00:03<00:30,  3.41s/it]"
     ]
    },
    {
     "name": "stdout",
     "output_type": "stream",
     "text": [
      "Client 1: accuracy loss: 3.49 | fairness loss 188.02 | Equal Opportunity Disparity = 0.25\n",
      "Client 2: accuracy loss: 2.86 | fairness loss 210.42 | Equal Opportunity Disparity = 0.09\n",
      "Client 3: accuracy loss: 2.63 | fairness loss 234.84 | Equal Opportunity Disparity = 0.21\n",
      " \n",
      "Avg Training Stats after 1 global rounds:\n",
      "Training loss: 0.34 | Validation accuracy: 90.22% | Validation Equal Opportunity Disparity: 0.1693\n",
      "\n",
      " | Global Training Round : 2 |\n",
      "\n"
     ]
    },
    {
     "name": "stderr",
     "output_type": "stream",
     "text": [
      "\r",
      " 20%|██        | 2/10 [00:06<00:27,  3.38s/it]"
     ]
    },
    {
     "name": "stdout",
     "output_type": "stream",
     "text": [
      "Client 1: accuracy loss: 3.53 | fairness loss 173.63 | Equal Opportunity Disparity = 0.25\n",
      "Client 2: accuracy loss: 2.91 | fairness loss 198.30 | Equal Opportunity Disparity = 0.09\n",
      "Client 3: accuracy loss: 2.69 | fairness loss 219.48 | Equal Opportunity Disparity = 0.21\n",
      " \n",
      "Avg Training Stats after 2 global rounds:\n",
      "Training loss: 0.34 | Validation accuracy: 89.89% | Validation Equal Opportunity Disparity: 0.1693\n",
      "\n",
      " | Global Training Round : 3 |\n",
      "\n"
     ]
    },
    {
     "name": "stderr",
     "output_type": "stream",
     "text": [
      "\r",
      " 30%|███       | 3/10 [00:10<00:23,  3.39s/it]"
     ]
    },
    {
     "name": "stdout",
     "output_type": "stream",
     "text": [
      "Client 1: accuracy loss: 3.59 | fairness loss 160.46 | Equal Opportunity Disparity = 0.12\n",
      "Client 2: accuracy loss: 2.98 | fairness loss 185.90 | Equal Opportunity Disparity = 0.09\n",
      "Client 3: accuracy loss: 2.76 | fairness loss 204.21 | Equal Opportunity Disparity = 0.13\n",
      " \n",
      "Avg Training Stats after 3 global rounds:\n",
      "Training loss: 0.34 | Validation accuracy: 90.87% | Validation Equal Opportunity Disparity: 0.1161\n",
      "\n",
      " | Global Training Round : 4 |\n",
      "\n"
     ]
    },
    {
     "name": "stderr",
     "output_type": "stream",
     "text": [
      "\r",
      " 40%|████      | 4/10 [00:13<00:19,  3.32s/it]"
     ]
    },
    {
     "name": "stdout",
     "output_type": "stream",
     "text": [
      "Client 1: accuracy loss: 3.65 | fairness loss 149.41 | Equal Opportunity Disparity = 0.12\n",
      "Client 2: accuracy loss: 3.06 | fairness loss 175.30 | Equal Opportunity Disparity = 0.09\n",
      "Client 3: accuracy loss: 2.83 | fairness loss 191.06 | Equal Opportunity Disparity = 0.13\n",
      " \n",
      "Avg Training Stats after 4 global rounds:\n",
      "Training loss: 0.34 | Validation accuracy: 89.67% | Validation Equal Opportunity Disparity: 0.1161\n",
      "\n",
      " | Global Training Round : 5 |\n",
      "\n"
     ]
    },
    {
     "name": "stderr",
     "output_type": "stream",
     "text": [
      "\r",
      " 50%|█████     | 5/10 [00:16<00:17,  3.43s/it]"
     ]
    },
    {
     "name": "stdout",
     "output_type": "stream",
     "text": [
      "Client 1: accuracy loss: 3.71 | fairness loss 140.07 | Equal Opportunity Disparity = 0.12\n",
      "Client 2: accuracy loss: 3.13 | fairness loss 166.23 | Equal Opportunity Disparity = 0.09\n",
      "Client 3: accuracy loss: 2.90 | fairness loss 179.76 | Equal Opportunity Disparity = 0.13\n",
      " \n",
      "Avg Training Stats after 5 global rounds:\n",
      "Training loss: 0.34 | Validation accuracy: 89.09% | Validation Equal Opportunity Disparity: 0.1161\n",
      "\n",
      " | Global Training Round : 6 |\n",
      "\n"
     ]
    },
    {
     "name": "stderr",
     "output_type": "stream",
     "text": [
      "\r",
      " 60%|██████    | 6/10 [00:21<00:14,  3.62s/it]"
     ]
    },
    {
     "name": "stdout",
     "output_type": "stream",
     "text": [
      "Client 1: accuracy loss: 3.77 | fairness loss 132.15 | Equal Opportunity Disparity = 0.12\n",
      "Client 2: accuracy loss: 3.21 | fairness loss 158.46 | Equal Opportunity Disparity = 0.09\n",
      "Client 3: accuracy loss: 2.97 | fairness loss 170.07 | Equal Opportunity Disparity = 0.06\n",
      " \n",
      "Avg Training Stats after 6 global rounds:\n",
      "Training loss: 0.34 | Validation accuracy: 89.16% | Validation Equal Opportunity Disparity: 0.0895\n",
      "\n",
      " | Global Training Round : 7 |\n",
      "\n"
     ]
    },
    {
     "name": "stderr",
     "output_type": "stream",
     "text": [
      "\r",
      " 70%|███████   | 7/10 [00:24<00:10,  3.64s/it]"
     ]
    },
    {
     "name": "stdout",
     "output_type": "stream",
     "text": [
      "Client 1: accuracy loss: 3.82 | fairness loss 125.41 | Equal Opportunity Disparity = 0.12\n",
      "Client 2: accuracy loss: 3.28 | fairness loss 151.79 | Equal Opportunity Disparity = 0.09\n",
      "Client 3: accuracy loss: 3.04 | fairness loss 161.76 | Equal Opportunity Disparity = 0.06\n",
      " \n",
      "Avg Training Stats after 7 global rounds:\n",
      "Training loss: 0.34 | Validation accuracy: 89.16% | Validation Equal Opportunity Disparity: 0.0895\n",
      "\n",
      " | Global Training Round : 8 |\n",
      "\n"
     ]
    },
    {
     "name": "stderr",
     "output_type": "stream",
     "text": [
      "\r",
      " 80%|████████  | 8/10 [00:28<00:07,  3.67s/it]"
     ]
    },
    {
     "name": "stdout",
     "output_type": "stream",
     "text": [
      "Client 1: accuracy loss: 3.87 | fairness loss 119.67 | Equal Opportunity Disparity = 0.12\n",
      "Client 2: accuracy loss: 3.34 | fairness loss 146.05 | Equal Opportunity Disparity = 0.09\n",
      "Client 3: accuracy loss: 3.10 | fairness loss 154.62 | Equal Opportunity Disparity = 0.06\n",
      " \n",
      "Avg Training Stats after 8 global rounds:\n",
      "Training loss: 0.34 | Validation accuracy: 88.51% | Validation Equal Opportunity Disparity: 0.0895\n",
      "\n",
      " | Global Training Round : 9 |\n",
      "\n"
     ]
    },
    {
     "name": "stderr",
     "output_type": "stream",
     "text": [
      "\r",
      " 90%|█████████ | 9/10 [00:31<00:03,  3.62s/it]"
     ]
    },
    {
     "name": "stdout",
     "output_type": "stream",
     "text": [
      "Client 1: accuracy loss: 3.92 | fairness loss 114.76 | Equal Opportunity Disparity = 0.12\n",
      "Client 2: accuracy loss: 3.40 | fairness loss 141.07 | Equal Opportunity Disparity = 0.09\n",
      "Client 3: accuracy loss: 3.16 | fairness loss 148.46 | Equal Opportunity Disparity = 0.06\n",
      " \n",
      "Avg Training Stats after 9 global rounds:\n",
      "Training loss: 0.34 | Validation accuracy: 87.93% | Validation Equal Opportunity Disparity: 0.0895\n",
      "\n",
      " | Global Training Round : 10 |\n",
      "\n"
     ]
    },
    {
     "name": "stderr",
     "output_type": "stream",
     "text": [
      "100%|██████████| 10/10 [00:35<00:00,  3.52s/it]"
     ]
    },
    {
     "name": "stdout",
     "output_type": "stream",
     "text": [
      "Client 1: accuracy loss: 3.96 | fairness loss 110.55 | Equal Opportunity Disparity = 0.10\n",
      "Client 2: accuracy loss: 3.46 | fairness loss 136.79 | Equal Opportunity Disparity = 0.09\n",
      "Client 3: accuracy loss: 3.22 | fairness loss 143.16 | Equal Opportunity Disparity = 0.06\n",
      " \n",
      "Avg Training Stats after 10 global rounds:\n",
      "Training loss: 0.34 | Validation accuracy: 87.64% | Validation Equal Opportunity Disparity: 0.0838\n",
      " \n",
      " Results after 10 global rounds of training:\n",
      "|---- Avg Train Accuracy: 87.64%\n",
      "|---- Test Accuracy: 85.00%\n",
      "|---- Test Equal Opportunity Disparity: 0.3180\n",
      "\n",
      " Total Run Time: 35.1614 sec\n"
     ]
    },
    {
     "name": "stderr",
     "output_type": "stream",
     "text": [
      "\n"
     ]
    }
   ],
   "source": [
    "seed = 801\n",
    "synthetic_info = dataGenerate(seed = seed, test_samples = 100)\n",
    "server = Server(logReg(num_features=3, num_classes=2, seed = seed), synthetic_info, train_prn = False, seed = seed)\n",
    "server.BiasCorrecting(num_rounds = 10, local_epochs = 30, optimizer = 'adam', learning_rate = 0.008, alpha = 2)\n"
   ]
  },
  {
   "cell_type": "code",
   "execution_count": 3,
   "metadata": {
    "scrolled": true
   },
   "outputs": [
    {
     "name": "stderr",
     "output_type": "stream",
     "text": [
      "\r",
      "  0%|          | 0/10 [00:00<?, ?it/s]"
     ]
    },
    {
     "name": "stdout",
     "output_type": "stream",
     "text": [
      "\n",
      " | Global Training Round : 1 |\n",
      "\n"
     ]
    },
    {
     "name": "stderr",
     "output_type": "stream",
     "text": [
      "\r",
      " 10%|█         | 1/10 [00:01<00:17,  2.00s/it]"
     ]
    },
    {
     "name": "stdout",
     "output_type": "stream",
     "text": [
      "Client 1: accuracy loss: 3.71 | fairness loss 315.57 | Equal Opportunity Disparity = 0.56\n",
      "Client 2: accuracy loss: 3.91 | fairness loss 261.89 | Equal Opportunity Disparity = 0.51\n",
      "Client 3: accuracy loss: 3.79 | fairness loss 357.00 | Equal Opportunity Disparity = 0.58\n",
      " \n",
      "Avg Training Stats after 1 global rounds:\n",
      "Training loss: 55.04 | Validation accuracy: 80.27% | Validation Equal Opportunity Disparity: 0.5858\n",
      "\n",
      " | Global Training Round : 2 |\n",
      "\n"
     ]
    },
    {
     "name": "stderr",
     "output_type": "stream",
     "text": [
      "\r",
      " 20%|██        | 2/10 [00:04<00:16,  2.01s/it]"
     ]
    },
    {
     "name": "stdout",
     "output_type": "stream",
     "text": [
      "Client 1: accuracy loss: 3.18 | fairness loss 378.74 | Equal Opportunity Disparity = 0.31\n",
      "Client 2: accuracy loss: 3.43 | fairness loss 355.27 | Equal Opportunity Disparity = 0.37\n",
      "Client 3: accuracy loss: 3.40 | fairness loss 487.86 | Equal Opportunity Disparity = 0.42\n",
      " \n",
      "Avg Training Stats after 2 global rounds:\n",
      "Training loss: 47.94 | Validation accuracy: 84.40% | Validation Equal Opportunity Disparity: 0.4057\n",
      "\n",
      " | Global Training Round : 3 |\n",
      "\n"
     ]
    },
    {
     "name": "stderr",
     "output_type": "stream",
     "text": [
      "\r",
      " 30%|███       | 3/10 [00:06<00:14,  2.02s/it]"
     ]
    },
    {
     "name": "stdout",
     "output_type": "stream",
     "text": [
      "Client 1: accuracy loss: 3.06 | fairness loss 496.84 | Equal Opportunity Disparity = 0.30\n",
      "Client 2: accuracy loss: 3.34 | fairness loss 494.62 | Equal Opportunity Disparity = 0.28\n",
      "Client 3: accuracy loss: 3.40 | fairness loss 684.17 | Equal Opportunity Disparity = 0.31\n",
      " \n",
      "Avg Training Stats after 3 global rounds:\n",
      "Training loss: 44.10 | Validation accuracy: 86.38% | Validation Equal Opportunity Disparity: 0.3157\n",
      "\n",
      " | Global Training Round : 4 |\n",
      "\n"
     ]
    },
    {
     "name": "stderr",
     "output_type": "stream",
     "text": [
      "\r",
      " 40%|████      | 4/10 [00:08<00:12,  2.08s/it]"
     ]
    },
    {
     "name": "stdout",
     "output_type": "stream",
     "text": [
      "Client 1: accuracy loss: 3.03 | fairness loss 540.77 | Equal Opportunity Disparity = 0.30\n",
      "Client 2: accuracy loss: 3.32 | fairness loss 544.32 | Equal Opportunity Disparity = 0.28\n",
      "Client 3: accuracy loss: 3.41 | fairness loss 756.35 | Equal Opportunity Disparity = 0.26\n",
      " \n",
      "Avg Training Stats after 4 global rounds:\n",
      "Training loss: 41.97 | Validation accuracy: 86.77% | Validation Equal Opportunity Disparity: 0.2956\n",
      "\n",
      " | Global Training Round : 5 |\n",
      "\n"
     ]
    },
    {
     "name": "stderr",
     "output_type": "stream",
     "text": [
      "\r",
      " 50%|█████     | 5/10 [00:10<00:10,  2.09s/it]"
     ]
    },
    {
     "name": "stdout",
     "output_type": "stream",
     "text": [
      "Client 1: accuracy loss: 3.01 | fairness loss 549.73 | Equal Opportunity Disparity = 0.19\n",
      "Client 2: accuracy loss: 3.30 | fairness loss 553.43 | Equal Opportunity Disparity = 0.28\n",
      "Client 3: accuracy loss: 3.41 | fairness loss 771.76 | Equal Opportunity Disparity = 0.26\n",
      " \n",
      "Avg Training Stats after 5 global rounds:\n",
      "Training loss: 40.65 | Validation accuracy: 87.35% | Validation Equal Opportunity Disparity: 0.2756\n",
      "\n",
      " | Global Training Round : 6 |\n",
      "\n"
     ]
    },
    {
     "name": "stderr",
     "output_type": "stream",
     "text": [
      "\r",
      " 60%|██████    | 6/10 [00:12<00:08,  2.11s/it]"
     ]
    },
    {
     "name": "stdout",
     "output_type": "stream",
     "text": [
      "Client 1: accuracy loss: 2.99 | fairness loss 553.56 | Equal Opportunity Disparity = 0.19\n",
      "Client 2: accuracy loss: 3.29 | fairness loss 556.84 | Equal Opportunity Disparity = 0.28\n",
      "Client 3: accuracy loss: 3.43 | fairness loss 778.76 | Equal Opportunity Disparity = 0.26\n",
      " \n",
      "Avg Training Stats after 6 global rounds:\n",
      "Training loss: 39.76 | Validation accuracy: 86.96% | Validation Equal Opportunity Disparity: 0.2756\n",
      "\n",
      " | Global Training Round : 7 |\n",
      "\n"
     ]
    },
    {
     "name": "stderr",
     "output_type": "stream",
     "text": [
      "\r",
      " 70%|███████   | 7/10 [00:15<00:06,  2.24s/it]"
     ]
    },
    {
     "name": "stdout",
     "output_type": "stream",
     "text": [
      "Client 1: accuracy loss: 2.98 | fairness loss 556.32 | Equal Opportunity Disparity = 0.19\n",
      "Client 2: accuracy loss: 3.28 | fairness loss 559.19 | Equal Opportunity Disparity = 0.28\n",
      "Client 3: accuracy loss: 3.44 | fairness loss 783.82 | Equal Opportunity Disparity = 0.21\n",
      " \n",
      "Avg Training Stats after 7 global rounds:\n",
      "Training loss: 39.11 | Validation accuracy: 87.35% | Validation Equal Opportunity Disparity: 0.2556\n",
      "\n",
      " | Global Training Round : 8 |\n",
      "\n"
     ]
    },
    {
     "name": "stderr",
     "output_type": "stream",
     "text": [
      "\r",
      " 80%|████████  | 8/10 [00:17<00:04,  2.31s/it]"
     ]
    },
    {
     "name": "stdout",
     "output_type": "stream",
     "text": [
      "Client 1: accuracy loss: 2.97 | fairness loss 558.62 | Equal Opportunity Disparity = 0.18\n",
      "Client 2: accuracy loss: 3.27 | fairness loss 561.17 | Equal Opportunity Disparity = 0.28\n",
      "Client 3: accuracy loss: 3.45 | fairness loss 787.99 | Equal Opportunity Disparity = 0.21\n",
      " \n",
      "Avg Training Stats after 8 global rounds:\n",
      "Training loss: 38.63 | Validation accuracy: 87.06% | Validation Equal Opportunity Disparity: 0.2506\n",
      "\n",
      " | Global Training Round : 9 |\n",
      "\n"
     ]
    },
    {
     "name": "stderr",
     "output_type": "stream",
     "text": [
      "\r",
      " 90%|█████████ | 9/10 [00:21<00:02,  2.67s/it]"
     ]
    },
    {
     "name": "stdout",
     "output_type": "stream",
     "text": [
      "Client 1: accuracy loss: 2.96 | fairness loss 560.57 | Equal Opportunity Disparity = 0.18\n",
      "Client 2: accuracy loss: 3.27 | fairness loss 562.88 | Equal Opportunity Disparity = 0.28\n",
      "Client 3: accuracy loss: 3.46 | fairness loss 791.46 | Equal Opportunity Disparity = 0.21\n",
      " \n",
      "Avg Training Stats after 9 global rounds:\n",
      "Training loss: 38.25 | Validation accuracy: 87.06% | Validation Equal Opportunity Disparity: 0.2506\n",
      "\n",
      " | Global Training Round : 10 |\n",
      "\n"
     ]
    },
    {
     "name": "stderr",
     "output_type": "stream",
     "text": [
      "100%|██████████| 10/10 [00:23<00:00,  2.35s/it]"
     ]
    },
    {
     "name": "stdout",
     "output_type": "stream",
     "text": [
      "Client 1: accuracy loss: 2.96 | fairness loss 562.21 | Equal Opportunity Disparity = 0.18\n",
      "Client 2: accuracy loss: 3.27 | fairness loss 564.33 | Equal Opportunity Disparity = 0.28\n",
      "Client 3: accuracy loss: 3.46 | fairness loss 794.35 | Equal Opportunity Disparity = 0.19\n",
      " \n",
      "Avg Training Stats after 10 global rounds:\n",
      "Training loss: 37.94 | Validation accuracy: 86.99% | Validation Equal Opportunity Disparity: 0.2456\n",
      " \n",
      " Results after 10 global rounds of training:\n",
      "|---- Avg Train Accuracy: 86.99%\n",
      "|---- Test Accuracy: 88.00%\n",
      "|---- Test Equal Opportunity Disparity: 0.2308\n",
      "\n",
      " Total Run Time: 23.5387 sec\n"
     ]
    },
    {
     "name": "stderr",
     "output_type": "stream",
     "text": [
      "\n"
     ]
    }
   ],
   "source": [
    "seed = 460\n",
    "synthetic_info = dataGenerate(seed = seed, test_samples = 100)\n",
    "server = Server(logReg(num_features=3, num_classes=2, seed = seed), synthetic_info, train_prn = False, seed = seed)\n",
    "server.Unconstrained(num_rounds = 10, local_epochs = 30, optimizer = 'adam', learning_rate = 0.001)\n",
    "\n"
   ]
  },
  {
   "cell_type": "code",
   "execution_count": 5,
   "metadata": {},
   "outputs": [
    {
     "data": {
      "text/plain": [
       "1.5"
      ]
     },
     "execution_count": 5,
     "metadata": {},
     "output_type": "execute_result"
    }
   ],
   "source": [
    "torch.tensor([1.,2.]).mean().item()"
   ]
  },
  {
   "cell_type": "code",
   "execution_count": null,
   "metadata": {},
   "outputs": [],
   "source": []
  }
 ],
 "metadata": {
  "kernelspec": {
   "display_name": "Python 3",
   "language": "python",
   "name": "python3"
  },
  "language_info": {
   "codemirror_mode": {
    "name": "ipython",
    "version": 3
   },
   "file_extension": ".py",
   "mimetype": "text/x-python",
   "name": "python",
   "nbconvert_exporter": "python",
   "pygments_lexer": "ipython3",
   "version": "3.7.4"
  }
 },
 "nbformat": 4,
 "nbformat_minor": 2
}
