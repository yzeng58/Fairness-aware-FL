{
 "cells": [
  {
   "cell_type": "code",
   "execution_count": 1,
   "metadata": {},
   "outputs": [],
   "source": [
    "from Server import *"
   ]
  },
  {
   "cell_type": "code",
   "execution_count": 32,
   "metadata": {
    "scrolled": true
   },
   "outputs": [
    {
     "name": "stderr",
     "output_type": "stream",
     "text": [
      "\n",
      "\n",
      "  0%|          | 0/3 [00:00<?, ?it/s]\u001b[A\u001b[A"
     ]
    },
    {
     "name": "stdout",
     "output_type": "stream",
     "text": [
      "\n",
      " | Global Training Round : 1 |\n",
      "\n"
     ]
    },
    {
     "name": "stderr",
     "output_type": "stream",
     "text": [
      "\n",
      "\n",
      " 33%|███▎      | 1/3 [00:10<00:20, 10.00s/it]\u001b[A\u001b[A"
     ]
    },
    {
     "name": "stdout",
     "output_type": "stream",
     "text": [
      "Client 1: accuracy loss: 4.42 | fairness loss 183.20 | Equal Opportunity Disparity = 0.36\n",
      "Client 2: accuracy loss: 4.22 | fairness loss 222.63 | Equal Opportunity Disparity = 0.42\n",
      "Client 3: accuracy loss: 4.38 | fairness loss 188.66 | Equal Opportunity Disparity = 0.48\n",
      " \n",
      "Avg Training Stats after 1 global rounds:\n",
      "Training loss: 70.54 | Validation accuracy: 77.29% | Validation Equal Opportunity Disparity: 0.4743\n",
      "\n",
      " | Global Training Round : 2 |\n",
      "\n"
     ]
    },
    {
     "name": "stderr",
     "output_type": "stream",
     "text": [
      "\n",
      "\n",
      " 67%|██████▋   | 2/3 [00:19<00:09,  9.99s/it]\u001b[A\u001b[A"
     ]
    },
    {
     "name": "stdout",
     "output_type": "stream",
     "text": [
      "Client 1: accuracy loss: 3.48 | fairness loss 293.95 | Equal Opportunity Disparity = 0.75\n",
      "Client 2: accuracy loss: 2.96 | fairness loss 416.84 | Equal Opportunity Disparity = 0.33\n",
      "Client 3: accuracy loss: 3.38 | fairness loss 346.14 | Equal Opportunity Disparity = 0.41\n",
      " \n",
      "Avg Training Stats after 2 global rounds:\n",
      "Training loss: 57.96 | Validation accuracy: 85.29% | Validation Equal Opportunity Disparity: 0.4588\n",
      "\n",
      " | Global Training Round : 3 |\n",
      "\n"
     ]
    },
    {
     "name": "stderr",
     "output_type": "stream",
     "text": [
      "\n",
      "\n",
      "100%|██████████| 3/3 [00:30<00:00, 10.09s/it]\u001b[A\u001b[A"
     ]
    },
    {
     "name": "stdout",
     "output_type": "stream",
     "text": [
      "Client 1: accuracy loss: 3.23 | fairness loss 401.24 | Equal Opportunity Disparity = 0.71\n",
      "Client 2: accuracy loss: 2.40 | fairness loss 636.81 | Equal Opportunity Disparity = 0.19\n",
      "Client 3: accuracy loss: 3.03 | fairness loss 531.67 | Equal Opportunity Disparity = 0.32\n",
      " \n",
      "Avg Training Stats after 3 global rounds:\n",
      "Training loss: 51.02 | Validation accuracy: 85.82% | Validation Equal Opportunity Disparity: 0.3369\n",
      " \n",
      " Results after 3 global rounds of training:\n",
      "|---- Avg Train Accuracy: 85.82%\n",
      "|---- Test Accuracy: 87.00%\n",
      "|---- Test Equal Opportunity Disparity: 0.3013\n",
      "\n",
      " Total Run Time: 30.3324 sec\n"
     ]
    },
    {
     "name": "stderr",
     "output_type": "stream",
     "text": [
      "\n",
      "\n",
      "\n",
      "  0%|          | 0/5 [00:00<?, ?it/s]\u001b[A\u001b[A\n",
      "\n",
      " 20%|██        | 1/5 [00:24<01:36, 24.02s/it]\u001b[A\u001b[A"
     ]
    },
    {
     "name": "stdout",
     "output_type": "stream",
     "text": [
      " \n",
      "Avg Training Stats after 1 threshold adjusting global rounds:\n",
      "Training loss: 14.29 | Validation accuracy: 85.42% | Validation Equal Opportunity Disparity: 0.2856\n"
     ]
    },
    {
     "name": "stderr",
     "output_type": "stream",
     "text": [
      "\n",
      "\n",
      " 40%|████      | 2/5 [00:37<01:02, 20.96s/it]\u001b[A\u001b[A"
     ]
    },
    {
     "name": "stdout",
     "output_type": "stream",
     "text": [
      " \n",
      "Avg Training Stats after 2 threshold adjusting global rounds:\n",
      "Training loss: 14.72 | Validation accuracy: 85.41% | Validation Equal Opportunity Disparity: 0.2135\n"
     ]
    },
    {
     "name": "stderr",
     "output_type": "stream",
     "text": [
      "\n",
      "\n",
      " 60%|██████    | 3/5 [00:54<00:39, 19.57s/it]\u001b[A\u001b[A"
     ]
    },
    {
     "name": "stdout",
     "output_type": "stream",
     "text": [
      " \n",
      "Avg Training Stats after 3 threshold adjusting global rounds:\n",
      "Training loss: 15.34 | Validation accuracy: 85.41% | Validation Equal Opportunity Disparity: 0.1052\n"
     ]
    },
    {
     "name": "stderr",
     "output_type": "stream",
     "text": [
      "\n",
      "\n",
      " 80%|████████  | 4/5 [01:12<00:19, 19.20s/it]\u001b[A\u001b[A"
     ]
    },
    {
     "name": "stdout",
     "output_type": "stream",
     "text": [
      " \n",
      "Avg Training Stats after 4 threshold adjusting global rounds:\n",
      "Training loss: 16.17 | Validation accuracy: 84.05% | Validation Equal Opportunity Disparity: 0.1052\n"
     ]
    },
    {
     "name": "stderr",
     "output_type": "stream",
     "text": [
      "\n",
      "\n",
      "100%|██████████| 5/5 [01:26<00:00, 17.30s/it]\u001b[A\u001b[A"
     ]
    },
    {
     "name": "stdout",
     "output_type": "stream",
     "text": [
      " \n",
      "Avg Training Stats after 5 threshold adjusting global rounds:\n",
      "Training loss: 17.22 | Validation accuracy: 83.03% | Validation Equal Opportunity Disparity: 0.0691\n",
      " \n",
      " Results after 5 global rounds of training:\n",
      "|---- Test Accuracy: 84.67%\n",
      "|---- Test Equal Opportunity Disparity: 0.0339\n",
      "\n",
      " Total Run Time: 86.6424 sec\n"
     ]
    },
    {
     "name": "stderr",
     "output_type": "stream",
     "text": [
      "\n"
     ]
    }
   ],
   "source": [
    "seed = 10\n",
    "synthetic_info = dataGenerate(seed = 745, test_samples = 300, train_samples = 3000)\n",
    "server = Server(logReg(num_features=3, num_classes=2, seed = seed), synthetic_info, train_prn = False, seed = seed)\n",
    "server.Unconstrained(num_rounds = 3, local_epochs = 30, optimizer = 'adam', learning_rate = 0.001)\n",
    "server.ThresholdAdjust(num_rounds = 5, local_epochs = 30, epsilon = 0.01, learning_rate = 0.002)"
   ]
  },
  {
   "cell_type": "code",
   "execution_count": 8,
   "metadata": {
    "scrolled": true
   },
   "outputs": [
    {
     "name": "stderr",
     "output_type": "stream",
     "text": [
      " 14%|█▍        | 1/7 [00:04<00:28,  4.80s/it]"
     ]
    },
    {
     "name": "stdout",
     "output_type": "stream",
     "text": [
      " \n",
      "Avg Training Stats after 1 threshold adjusting global rounds:\n",
      "Training loss: 14.28 | Validation accuracy: 87.86% | Validation Equal Opportunity Disparity: 0.2181\n"
     ]
    },
    {
     "name": "stderr",
     "output_type": "stream",
     "text": [
      "\r",
      " 29%|██▊       | 2/7 [00:09<00:24,  4.92s/it]"
     ]
    },
    {
     "name": "stdout",
     "output_type": "stream",
     "text": [
      " \n",
      "Avg Training Stats after 2 threshold adjusting global rounds:\n",
      "Training loss: 14.37 | Validation accuracy: 87.18% | Validation Equal Opportunity Disparity: 0.2181\n"
     ]
    },
    {
     "name": "stderr",
     "output_type": "stream",
     "text": [
      "\r",
      " 43%|████▎     | 3/7 [00:15<00:19,  4.98s/it]"
     ]
    },
    {
     "name": "stdout",
     "output_type": "stream",
     "text": [
      " \n",
      "Avg Training Stats after 3 threshold adjusting global rounds:\n",
      "Training loss: 14.62 | Validation accuracy: 86.84% | Validation Equal Opportunity Disparity: 0.2181\n"
     ]
    },
    {
     "name": "stderr",
     "output_type": "stream",
     "text": [
      "\r",
      " 57%|█████▋    | 4/7 [00:20<00:15,  5.08s/it]"
     ]
    },
    {
     "name": "stdout",
     "output_type": "stream",
     "text": [
      " \n",
      "Avg Training Stats after 4 threshold adjusting global rounds:\n",
      "Training loss: 15.04 | Validation accuracy: 86.50% | Validation Equal Opportunity Disparity: 0.1914\n"
     ]
    },
    {
     "name": "stderr",
     "output_type": "stream",
     "text": [
      "\r",
      " 71%|███████▏  | 5/7 [00:25<00:10,  5.14s/it]"
     ]
    },
    {
     "name": "stdout",
     "output_type": "stream",
     "text": [
      " \n",
      "Avg Training Stats after 5 threshold adjusting global rounds:\n",
      "Training loss: 15.66 | Validation accuracy: 87.17% | Validation Equal Opportunity Disparity: 0.1113\n"
     ]
    },
    {
     "name": "stderr",
     "output_type": "stream",
     "text": [
      "\r",
      " 86%|████████▌ | 6/7 [00:30<00:05,  5.14s/it]"
     ]
    },
    {
     "name": "stdout",
     "output_type": "stream",
     "text": [
      " \n",
      "Avg Training Stats after 6 threshold adjusting global rounds:\n",
      "Training loss: 16.47 | Validation accuracy: 85.14% | Validation Equal Opportunity Disparity: 0.0846\n"
     ]
    },
    {
     "name": "stderr",
     "output_type": "stream",
     "text": [
      "100%|██████████| 7/7 [00:35<00:00,  5.12s/it]"
     ]
    },
    {
     "name": "stdout",
     "output_type": "stream",
     "text": [
      " \n",
      "Avg Training Stats after 7 threshold adjusting global rounds:\n",
      "Training loss: 17.48 | Validation accuracy: 84.12% | Validation Equal Opportunity Disparity: 0.0579\n",
      " \n",
      " Results after 7 global rounds of training:\n",
      "|---- Test Accuracy: 82.33%\n",
      "|---- Test Equal Opportunity Disparity: 0.1336\n",
      "\n",
      " Total Run Time: 35.9012 sec\n"
     ]
    },
    {
     "name": "stderr",
     "output_type": "stream",
     "text": [
      "\n"
     ]
    }
   ],
   "source": [
    "server.ThresholdAdjust(num_rounds = 7, local_epochs = 30, epsilon = 0.02, learning_rate = 0.002)"
   ]
  },
  {
   "cell_type": "code",
   "execution_count": 2,
   "metadata": {
    "scrolled": true
   },
   "outputs": [
    {
     "name": "stderr",
     "output_type": "stream",
     "text": [
      "\r",
      "  0%|          | 0/10 [00:00<?, ?it/s]"
     ]
    },
    {
     "name": "stdout",
     "output_type": "stream",
     "text": [
      "\n",
      " | Global Training Round : 1 |\n",
      "\n"
     ]
    },
    {
     "name": "stderr",
     "output_type": "stream",
     "text": [
      "\r",
      " 10%|█         | 1/10 [00:02<00:19,  2.14s/it]"
     ]
    },
    {
     "name": "stdout",
     "output_type": "stream",
     "text": [
      "Client 1: accuracy loss: 2.15 | fairness loss 591.83 | Equal Opportunity Disparity = 0.05\n",
      "Client 2: accuracy loss: 1.95 | fairness loss 823.58 | Equal Opportunity Disparity = 0.14\n",
      "Client 3: accuracy loss: 2.63 | fairness loss 683.87 | Equal Opportunity Disparity = 0.23\n",
      " \n",
      "Avg Training Stats after 1 global rounds:\n",
      "Training loss: 39.90 | Validation accuracy: 90.60% | Validation Equal Opportunity Disparity: 0.1657\n",
      "\n",
      " | Global Training Round : 2 |\n",
      "\n"
     ]
    },
    {
     "name": "stderr",
     "output_type": "stream",
     "text": [
      "\r",
      " 20%|██        | 2/10 [00:04<00:18,  2.28s/it]"
     ]
    },
    {
     "name": "stdout",
     "output_type": "stream",
     "text": [
      "Client 1: accuracy loss: 2.12 | fairness loss 668.21 | Equal Opportunity Disparity = 0.03\n",
      "Client 2: accuracy loss: 1.94 | fairness loss 924.09 | Equal Opportunity Disparity = 0.14\n",
      "Client 3: accuracy loss: 2.62 | fairness loss 768.78 | Equal Opportunity Disparity = 0.23\n",
      " \n",
      "Avg Training Stats after 2 global rounds:\n",
      "Training loss: 37.75 | Validation accuracy: 90.90% | Validation Equal Opportunity Disparity: 0.1713\n",
      "\n",
      " | Global Training Round : 3 |\n",
      "\n"
     ]
    },
    {
     "name": "stderr",
     "output_type": "stream",
     "text": [
      "\r",
      " 30%|███       | 3/10 [00:06<00:15,  2.25s/it]"
     ]
    },
    {
     "name": "stdout",
     "output_type": "stream",
     "text": [
      "Client 1: accuracy loss: 2.12 | fairness loss 668.47 | Equal Opportunity Disparity = 0.03\n",
      "Client 2: accuracy loss: 1.94 | fairness loss 924.01 | Equal Opportunity Disparity = 0.14\n",
      "Client 3: accuracy loss: 2.62 | fairness loss 768.79 | Equal Opportunity Disparity = 0.23\n",
      " \n",
      "Avg Training Stats after 3 global rounds:\n",
      "Training loss: 37.03 | Validation accuracy: 90.60% | Validation Equal Opportunity Disparity: 0.1713\n",
      "\n",
      " | Global Training Round : 4 |\n",
      "\n"
     ]
    },
    {
     "name": "stderr",
     "output_type": "stream",
     "text": [
      "\r",
      " 40%|████      | 4/10 [00:08<00:13,  2.19s/it]"
     ]
    },
    {
     "name": "stdout",
     "output_type": "stream",
     "text": [
      "Client 1: accuracy loss: 2.12 | fairness loss 668.41 | Equal Opportunity Disparity = 0.03\n",
      "Client 2: accuracy loss: 1.94 | fairness loss 923.92 | Equal Opportunity Disparity = 0.14\n",
      "Client 3: accuracy loss: 2.62 | fairness loss 768.72 | Equal Opportunity Disparity = 0.23\n",
      " \n",
      "Avg Training Stats after 4 global rounds:\n",
      "Training loss: 36.67 | Validation accuracy: 90.60% | Validation Equal Opportunity Disparity: 0.1713\n",
      "\n",
      " | Global Training Round : 5 |\n",
      "\n"
     ]
    },
    {
     "name": "stderr",
     "output_type": "stream",
     "text": [
      "\r",
      " 50%|█████     | 5/10 [00:11<00:11,  2.20s/it]"
     ]
    },
    {
     "name": "stdout",
     "output_type": "stream",
     "text": [
      "Client 1: accuracy loss: 2.12 | fairness loss 668.41 | Equal Opportunity Disparity = 0.03\n",
      "Client 2: accuracy loss: 1.94 | fairness loss 923.92 | Equal Opportunity Disparity = 0.14\n",
      "Client 3: accuracy loss: 2.62 | fairness loss 768.72 | Equal Opportunity Disparity = 0.23\n",
      " \n",
      "Avg Training Stats after 5 global rounds:\n",
      "Training loss: 36.46 | Validation accuracy: 90.60% | Validation Equal Opportunity Disparity: 0.1713\n",
      "\n",
      " | Global Training Round : 6 |\n",
      "\n"
     ]
    },
    {
     "name": "stderr",
     "output_type": "stream",
     "text": [
      "\r",
      " 60%|██████    | 6/10 [00:17<00:13,  3.45s/it]"
     ]
    },
    {
     "name": "stdout",
     "output_type": "stream",
     "text": [
      "Client 1: accuracy loss: 2.12 | fairness loss 668.40 | Equal Opportunity Disparity = 0.03\n",
      "Client 2: accuracy loss: 1.94 | fairness loss 923.92 | Equal Opportunity Disparity = 0.14\n",
      "Client 3: accuracy loss: 2.62 | fairness loss 768.71 | Equal Opportunity Disparity = 0.23\n",
      " \n",
      "Avg Training Stats after 6 global rounds:\n",
      "Training loss: 36.31 | Validation accuracy: 90.60% | Validation Equal Opportunity Disparity: 0.1713\n",
      "\n",
      " | Global Training Round : 7 |\n",
      "\n"
     ]
    },
    {
     "name": "stderr",
     "output_type": "stream",
     "text": [
      "\r",
      " 70%|███████   | 7/10 [00:22<00:11,  3.91s/it]"
     ]
    },
    {
     "name": "stdout",
     "output_type": "stream",
     "text": [
      "Client 1: accuracy loss: 2.12 | fairness loss 668.40 | Equal Opportunity Disparity = 0.03\n",
      "Client 2: accuracy loss: 1.94 | fairness loss 923.91 | Equal Opportunity Disparity = 0.14\n",
      "Client 3: accuracy loss: 2.62 | fairness loss 768.71 | Equal Opportunity Disparity = 0.23\n",
      " \n",
      "Avg Training Stats after 7 global rounds:\n",
      "Training loss: 36.21 | Validation accuracy: 90.60% | Validation Equal Opportunity Disparity: 0.1713\n",
      "\n",
      " | Global Training Round : 8 |\n",
      "\n"
     ]
    },
    {
     "name": "stderr",
     "output_type": "stream",
     "text": [
      "\r",
      " 80%|████████  | 8/10 [00:25<00:07,  3.52s/it]"
     ]
    },
    {
     "name": "stdout",
     "output_type": "stream",
     "text": [
      "Client 1: accuracy loss: 2.12 | fairness loss 668.40 | Equal Opportunity Disparity = 0.03\n",
      "Client 2: accuracy loss: 1.94 | fairness loss 923.91 | Equal Opportunity Disparity = 0.14\n",
      "Client 3: accuracy loss: 2.62 | fairness loss 768.71 | Equal Opportunity Disparity = 0.23\n",
      " \n",
      "Avg Training Stats after 8 global rounds:\n",
      "Training loss: 36.13 | Validation accuracy: 90.60% | Validation Equal Opportunity Disparity: 0.1713\n",
      "\n",
      " | Global Training Round : 9 |\n",
      "\n"
     ]
    },
    {
     "name": "stderr",
     "output_type": "stream",
     "text": [
      "\r",
      " 90%|█████████ | 9/10 [00:28<00:03,  3.57s/it]"
     ]
    },
    {
     "name": "stdout",
     "output_type": "stream",
     "text": [
      "Client 1: accuracy loss: 2.12 | fairness loss 668.40 | Equal Opportunity Disparity = 0.03\n",
      "Client 2: accuracy loss: 1.94 | fairness loss 923.91 | Equal Opportunity Disparity = 0.14\n",
      "Client 3: accuracy loss: 2.62 | fairness loss 768.71 | Equal Opportunity Disparity = 0.23\n",
      " \n",
      "Avg Training Stats after 9 global rounds:\n",
      "Training loss: 36.07 | Validation accuracy: 90.60% | Validation Equal Opportunity Disparity: 0.1713\n",
      "\n",
      " | Global Training Round : 10 |\n",
      "\n"
     ]
    },
    {
     "name": "stderr",
     "output_type": "stream",
     "text": [
      "100%|██████████| 10/10 [00:32<00:00,  3.23s/it]"
     ]
    },
    {
     "name": "stdout",
     "output_type": "stream",
     "text": [
      "Client 1: accuracy loss: 2.12 | fairness loss 668.40 | Equal Opportunity Disparity = 0.03\n",
      "Client 2: accuracy loss: 1.94 | fairness loss 923.90 | Equal Opportunity Disparity = 0.14\n",
      "Client 3: accuracy loss: 2.62 | fairness loss 768.70 | Equal Opportunity Disparity = 0.23\n",
      " \n",
      "Avg Training Stats after 10 global rounds:\n",
      "Training loss: 36.03 | Validation accuracy: 90.60% | Validation Equal Opportunity Disparity: 0.1713\n",
      " \n",
      " Results after 10 global rounds of training:\n",
      "|---- Avg Train Accuracy: 90.60%\n",
      "|---- Test Accuracy: 85.67%\n",
      "|---- Test Equal Opportunity Disparity: 0.2244\n",
      "\n",
      " Total Run Time: 32.3188 sec\n"
     ]
    },
    {
     "name": "stderr",
     "output_type": "stream",
     "text": [
      "\n"
     ]
    }
   ],
   "source": [
    "seed = 649\n",
    "synthetic_info = dataGenerate(seed = seed, test_samples = 300)\n",
    "server = Server(logReg(num_features=3, num_classes=2, seed = seed), synthetic_info, train_prn = False, seed = seed)\n",
    "server.Unconstrained(num_rounds = 10, local_epochs = 30, optimizer = 'adam', learning_rate = 0.2)\n",
    "\n"
   ]
  },
  {
   "cell_type": "code",
   "execution_count": 26,
   "metadata": {
    "scrolled": true
   },
   "outputs": [
    {
     "name": "stderr",
     "output_type": "stream",
     "text": [
      "\n",
      "\n",
      "  0%|          | 0/5 [00:00<?, ?it/s]\u001b[A\u001b[A"
     ]
    },
    {
     "name": "stdout",
     "output_type": "stream",
     "text": [
      "\n",
      " | Global Training Round : 1 |\n",
      "\n"
     ]
    },
    {
     "name": "stderr",
     "output_type": "stream",
     "text": [
      "\n",
      "\n",
      " 20%|██        | 1/5 [00:13<00:53, 13.29s/it]\u001b[A\u001b[A"
     ]
    },
    {
     "name": "stdout",
     "output_type": "stream",
     "text": [
      "Client 1: accuracy loss: 3.73 | fairness loss 20.39 | Equal Opportunity Disparity = 0.73\n",
      "Client 2: accuracy loss: 3.18 | fairness loss 30.96 | Equal Opportunity Disparity = 0.35\n",
      "Client 3: accuracy loss: 3.67 | fairness loss 27.39 | Equal Opportunity Disparity = 0.32\n",
      " \n",
      "Avg Training Stats after 1 global rounds:\n",
      "Training loss: 90.66 | Validation accuracy: 85.94% | Validation Equal Opportunity Disparity: 0.4217\n",
      "\n",
      " | Global Training Round : 2 |\n",
      "\n",
      "Client 1: accuracy loss: 3.71 | fairness loss 18.09 | Equal Opportunity Disparity = 0.33\n",
      "Client 2: accuracy loss: 3.14 | fairness loss 30.45 | Equal Opportunity Disparity = 0.17\n",
      "Client 3: accuracy loss: 3.68 | fairness loss 24.93 | Equal Opportunity Disparity = 0.05\n",
      " \n",
      "Avg Training Stats after 2 global rounds:\n"
     ]
    },
    {
     "name": "stderr",
     "output_type": "stream",
     "text": [
      "\n",
      "\n",
      " 40%|████      | 2/5 [00:25<00:38, 12.84s/it]\u001b[A\u001b[A"
     ]
    },
    {
     "name": "stdout",
     "output_type": "stream",
     "text": [
      "Training loss: 72.44 | Validation accuracy: 86.60% | Validation Equal Opportunity Disparity: 0.1577\n",
      "\n",
      " | Global Training Round : 3 |\n",
      "\n",
      "Client 1: accuracy loss: 3.71 | fairness loss 18.03 | Equal Opportunity Disparity = 0.33\n",
      "Client 2: accuracy loss: 3.17 | fairness loss 30.95 | Equal Opportunity Disparity = 0.02\n"
     ]
    },
    {
     "name": "stderr",
     "output_type": "stream",
     "text": [
      "\n",
      "\n",
      " 60%|██████    | 3/5 [00:45<00:30, 15.22s/it]\u001b[A\u001b[A"
     ]
    },
    {
     "name": "stdout",
     "output_type": "stream",
     "text": [
      "Client 3: accuracy loss: 3.71 | fairness loss 25.10 | Equal Opportunity Disparity = 0.05\n",
      " \n",
      "Avg Training Stats after 3 global rounds:\n",
      "Training loss: 66.15 | Validation accuracy: 86.60% | Validation Equal Opportunity Disparity: 0.0836\n",
      "\n",
      " | Global Training Round : 4 |\n",
      "\n"
     ]
    },
    {
     "name": "stderr",
     "output_type": "stream",
     "text": [
      "\n",
      "\n",
      " 80%|████████  | 4/5 [01:06<00:16, 16.99s/it]\u001b[A\u001b[A"
     ]
    },
    {
     "name": "stdout",
     "output_type": "stream",
     "text": [
      "Client 1: accuracy loss: 3.71 | fairness loss 18.03 | Equal Opportunity Disparity = 0.33\n",
      "Client 2: accuracy loss: 3.18 | fairness loss 31.03 | Equal Opportunity Disparity = 0.02\n",
      "Client 3: accuracy loss: 3.71 | fairness loss 25.13 | Equal Opportunity Disparity = 0.05\n",
      " \n",
      "Avg Training Stats after 4 global rounds:\n",
      "Training loss: 63.01 | Validation accuracy: 85.82% | Validation Equal Opportunity Disparity: 0.0836\n",
      "\n",
      " | Global Training Round : 5 |\n",
      "\n",
      "Client 1: accuracy loss: 3.71 | fairness loss 18.03 | Equal Opportunity Disparity = 0.33\n",
      "Client 2: accuracy loss: 3.18 | fairness loss 31.04 | Equal Opportunity Disparity = 0.02\n"
     ]
    },
    {
     "name": "stderr",
     "output_type": "stream",
     "text": [
      "\n",
      "\n",
      "100%|██████████| 5/5 [01:23<00:00, 16.65s/it]\u001b[A\u001b[A"
     ]
    },
    {
     "name": "stdout",
     "output_type": "stream",
     "text": [
      "Client 3: accuracy loss: 3.71 | fairness loss 25.14 | Equal Opportunity Disparity = 0.05\n",
      " \n",
      "Avg Training Stats after 5 global rounds:\n",
      "Training loss: 61.13 | Validation accuracy: 85.82% | Validation Equal Opportunity Disparity: 0.0836\n",
      " \n",
      " Results after 5 global rounds of training:\n",
      "|---- Avg Train Accuracy: 85.82%\n",
      "|---- Test Accuracy: 87.67%\n",
      "|---- Test Equal Opportunity Disparity: 0.0562\n",
      "\n",
      " Total Run Time: 83.2925 sec\n"
     ]
    },
    {
     "name": "stderr",
     "output_type": "stream",
     "text": [
      "\n"
     ]
    }
   ],
   "source": [
    "seed = 111\n",
    "synthetic_info = dataGenerate(seed = 745, test_samples = 300)\n",
    "server = Server(logReg(num_features=3, num_classes=2, seed = seed), synthetic_info, train_prn = False, seed = seed)\n",
    "server.LocalFC(num_rounds = 5, local_epochs = 30, optimizer = 'adam', learning_rate = 0.005, penalty = 100)\n"
   ]
  },
  {
   "cell_type": "code",
   "execution_count": 21,
   "metadata": {
    "scrolled": true
   },
   "outputs": [
    {
     "name": "stderr",
     "output_type": "stream",
     "text": [
      "\n",
      "\n",
      "  0%|          | 0/1 [00:00<?, ?it/s]\u001b[A\u001b[A"
     ]
    },
    {
     "name": "stdout",
     "output_type": "stream",
     "text": [
      "\n",
      " | Testing Round : 1 | constraint :  Cov(z, d | y = 1) < c\n",
      "\n"
     ]
    },
    {
     "name": "stderr",
     "output_type": "stream",
     "text": [
      "\n",
      "\n",
      "100%|██████████| 1/1 [00:10<00:00, 10.82s/it]\u001b[A\u001b[A\n",
      "\n",
      "\n",
      "  0%|          | 0/1 [00:00<?, ?it/s]\u001b[A\u001b[A"
     ]
    },
    {
     "name": "stdout",
     "output_type": "stream",
     "text": [
      "Client 1: accuracy loss: 3.75 | fairness loss 1108.83 | Equal Opportunity Disparity = 0.28\n",
      "Client 2: accuracy loss: 2.62 | fairness loss 1281.11 | Equal Opportunity Disparity = 0.13\n",
      "Client 3: accuracy loss: 3.39 | fairness loss 1049.66 | Equal Opportunity Disparity = 0.19\n",
      " \n",
      "Avg Training Stats after 1 Testing rounds:\n",
      "Training loss: 5.95 | Validation accuracy: 87.51% | Validation Equal Opportunity Disparity: 0.1780\n",
      "\n",
      " | Testing Round : 1 | constraint :  Cov(z, d | y = 1) > -c\n",
      "\n"
     ]
    },
    {
     "name": "stderr",
     "output_type": "stream",
     "text": [
      "\n",
      "\n",
      "100%|██████████| 1/1 [00:08<00:00,  8.34s/it]\u001b[A\u001b[A\n",
      "\n",
      "\n",
      "  0%|          | 0/3 [00:00<?, ?it/s]\u001b[A\u001b[A"
     ]
    },
    {
     "name": "stdout",
     "output_type": "stream",
     "text": [
      "Client 1: accuracy loss: 4.00 | fairness loss 830.34 | Equal Opportunity Disparity = 0.71\n",
      "Client 2: accuracy loss: 2.89 | fairness loss 1065.21 | Equal Opportunity Disparity = 0.21\n",
      "Client 3: accuracy loss: 3.74 | fairness loss 876.27 | Equal Opportunity Disparity = 0.32\n",
      " \n",
      "Avg Training Stats after 1 Testing rounds:\n",
      "Training loss: -9.26 | Validation accuracy: 85.85% | Validation Equal Opportunity Disparity: 0.3423\n",
      "\n",
      " | Global Round : 1 | constraint :  Cov(z, d | y = 1) < c\n",
      "\n"
     ]
    },
    {
     "name": "stderr",
     "output_type": "stream",
     "text": [
      "\n",
      "\n",
      " 33%|███▎      | 1/3 [00:10<00:20, 10.39s/it]\u001b[A\u001b[A"
     ]
    },
    {
     "name": "stdout",
     "output_type": "stream",
     "text": [
      "Client 1: accuracy loss: 3.56 | fairness loss 1688.29 | Equal Opportunity Disparity = 0.28\n",
      "Client 2: accuracy loss: 2.37 | fairness loss 2005.12 | Equal Opportunity Disparity = 0.10\n",
      "Client 3: accuracy loss: 3.17 | fairness loss 1639.04 | Equal Opportunity Disparity = 0.19\n",
      " \n",
      "Avg Training Stats after 1 global rounds:\n",
      "Training loss: -13.34 | Validation accuracy: 86.57% | Validation Equal Opportunity Disparity: 0.1673\n",
      "\n",
      " | Global Round : 2 | constraint :  Cov(z, d | y = 1) < c\n",
      "\n"
     ]
    },
    {
     "name": "stderr",
     "output_type": "stream",
     "text": [
      "\n",
      "\n",
      " 67%|██████▋   | 2/3 [00:34<00:14, 14.42s/it]\u001b[A\u001b[A"
     ]
    },
    {
     "name": "stdout",
     "output_type": "stream",
     "text": [
      "Client 1: accuracy loss: 3.53 | fairness loss 2464.56 | Equal Opportunity Disparity = 0.20\n",
      "Client 2: accuracy loss: 2.34 | fairness loss 2990.30 | Equal Opportunity Disparity = 0.06\n",
      "Client 3: accuracy loss: 3.13 | fairness loss 2439.81 | Equal Opportunity Disparity = 0.15\n",
      " \n",
      "Avg Training Stats after 2 global rounds:\n",
      "Training loss: -19.07 | Validation accuracy: 83.08% | Validation Equal Opportunity Disparity: 0.1081\n",
      "\n",
      " | Global Round : 3 | constraint :  Cov(z, d | y = 1) < c\n",
      "\n",
      "Client 1: accuracy loss: 3.51 | fairness loss 3399.63 | Equal Opportunity Disparity = 0.07\n"
     ]
    },
    {
     "name": "stderr",
     "output_type": "stream",
     "text": [
      "\n",
      "\n",
      "100%|██████████| 3/3 [00:53<00:00, 17.78s/it]\u001b[A\u001b[A"
     ]
    },
    {
     "name": "stdout",
     "output_type": "stream",
     "text": [
      "Client 2: accuracy loss: 2.34 | fairness loss 4187.43 | Equal Opportunity Disparity = 0.02\n",
      "Client 3: accuracy loss: 3.12 | fairness loss 3413.03 | Equal Opportunity Disparity = 0.09\n",
      " \n",
      "Avg Training Stats after 3 global rounds:\n",
      "Training loss: -25.51 | Validation accuracy: 77.71% | Validation Equal Opportunity Disparity: 0.0114\n",
      " \n",
      " Results after 3 global rounds of training:\n",
      "|---- Avg Train Accuracy: 77.71%\n",
      "|---- Test Accuracy: 83.67%\n",
      "|---- Test Equal Opportunity Disparity: 0.0308\n",
      "\n",
      " Total Run Time: 72.6465 sec\n"
     ]
    },
    {
     "name": "stderr",
     "output_type": "stream",
     "text": [
      "\n"
     ]
    }
   ],
   "source": [
    "seed = 10\n",
    "synthetic_info = dataGenerate(seed = 745, test_samples = 300)\n",
    "server = Server(logReg(num_features=3, num_classes=2, seed = seed), synthetic_info, train_prn = False, seed = seed)\n",
    "server.FairConstraints(test_rounds = 1, test_lr = 0.01, test_penalty = 100, num_rounds = 3, local_epochs = 30, optimizer = 'adam', learning_rate = 0.002, penalty = 50)\n"
   ]
  },
  {
   "cell_type": "code",
   "execution_count": 25,
   "metadata": {
    "scrolled": true
   },
   "outputs": [
    {
     "name": "stderr",
     "output_type": "stream",
     "text": [
      "\n",
      "  0%|          | 0/5 [00:00<?, ?it/s]\u001b[A"
     ]
    },
    {
     "name": "stdout",
     "output_type": "stream",
     "text": [
      "\n",
      " | Global Training Round : 1 |\n",
      "\n"
     ]
    },
    {
     "name": "stderr",
     "output_type": "stream",
     "text": [
      "\n",
      " 20%|██        | 1/5 [00:02<00:09,  2.31s/it]\u001b[A"
     ]
    },
    {
     "name": "stdout",
     "output_type": "stream",
     "text": [
      "Client 1: accuracy loss: 3.77 | fairness loss 142.72 | Equal Opportunity Disparity = 0.52\n",
      "Client 2: accuracy loss: 3.87 | fairness loss 150.02 | Equal Opportunity Disparity = 0.45\n",
      "Client 3: accuracy loss: 3.90 | fairness loss 138.88 | Equal Opportunity Disparity = 0.39\n",
      " \n",
      "Avg Training Stats after 1 global rounds:\n",
      "Training loss: 0.64 | Training accuracy: 84.87% | Training Equal Opportunity Disparity: 0.4568\n",
      "\n",
      " | Global Training Round : 2 |\n",
      "\n"
     ]
    },
    {
     "name": "stderr",
     "output_type": "stream",
     "text": [
      "\n",
      " 40%|████      | 2/5 [00:04<00:06,  2.30s/it]\u001b[A"
     ]
    },
    {
     "name": "stdout",
     "output_type": "stream",
     "text": [
      "Client 1: accuracy loss: 3.45 | fairness loss 134.46 | Equal Opportunity Disparity = 0.38\n",
      "Client 2: accuracy loss: 3.50 | fairness loss 147.01 | Equal Opportunity Disparity = 0.06\n",
      "Client 3: accuracy loss: 3.51 | fairness loss 143.80 | Equal Opportunity Disparity = 0.15\n",
      " \n",
      "Avg Training Stats after 2 global rounds:\n",
      "Training loss: 0.53 | Training accuracy: 88.07% | Training Equal Opportunity Disparity: 0.1722\n",
      "\n",
      " | Global Training Round : 3 |\n",
      "\n"
     ]
    },
    {
     "name": "stderr",
     "output_type": "stream",
     "text": [
      "\n",
      " 60%|██████    | 3/5 [00:06<00:04,  2.33s/it]\u001b[A"
     ]
    },
    {
     "name": "stdout",
     "output_type": "stream",
     "text": [
      "Client 1: accuracy loss: 3.74 | fairness loss 88.23 | Equal Opportunity Disparity = 0.23\n",
      "Client 2: accuracy loss: 3.69 | fairness loss 101.14 | Equal Opportunity Disparity = 0.04\n",
      "Client 3: accuracy loss: 3.79 | fairness loss 100.55 | Equal Opportunity Disparity = 0.08\n",
      " \n",
      "Avg Training Stats after 3 global rounds:\n",
      "Training loss: 0.50 | Training accuracy: 85.57% | Training Equal Opportunity Disparity: 0.0955\n",
      "\n",
      " | Global Training Round : 4 |\n",
      "\n"
     ]
    },
    {
     "name": "stderr",
     "output_type": "stream",
     "text": [
      "\n",
      " 80%|████████  | 4/5 [00:09<00:02,  2.36s/it]\u001b[A"
     ]
    },
    {
     "name": "stdout",
     "output_type": "stream",
     "text": [
      "Client 1: accuracy loss: 4.04 | fairness loss 62.21 | Equal Opportunity Disparity = 0.20\n",
      "Client 2: accuracy loss: 3.90 | fairness loss 74.59 | Equal Opportunity Disparity = 0.04\n",
      "Client 3: accuracy loss: 4.04 | fairness loss 75.08 | Equal Opportunity Disparity = 0.08\n",
      " \n",
      "Avg Training Stats after 4 global rounds:\n",
      "Training loss: 0.49 | Training accuracy: 86.08% | Training Equal Opportunity Disparity: 0.0850\n",
      "\n",
      " | Global Training Round : 5 |\n",
      "\n"
     ]
    },
    {
     "name": "stderr",
     "output_type": "stream",
     "text": [
      "\n",
      "100%|██████████| 5/5 [00:11<00:00,  2.36s/it]\u001b[A"
     ]
    },
    {
     "name": "stdout",
     "output_type": "stream",
     "text": [
      "Client 1: accuracy loss: 4.33 | fairness loss 46.54 | Equal Opportunity Disparity = 0.06\n",
      "Client 2: accuracy loss: 4.09 | fairness loss 58.01 | Equal Opportunity Disparity = 0.07\n",
      "Client 3: accuracy loss: 4.26 | fairness loss 58.87 | Equal Opportunity Disparity = 0.00\n",
      " \n",
      "Avg Training Stats after 5 global rounds:\n",
      "Training loss: 0.48 | Training accuracy: 84.74% | Training Equal Opportunity Disparity: 0.0222\n",
      " \n",
      " Results after 5 global rounds of training:\n",
      "|---- Avg Train Accuracy: 84.74%\n",
      "|---- Test Accuracy: 82.67%\n",
      "|---- Test Equal Opportunity Disparity: 0.0024\n",
      "\n",
      " Total Run Time: 11.8129 sec\n"
     ]
    },
    {
     "name": "stderr",
     "output_type": "stream",
     "text": [
      "\n"
     ]
    }
   ],
   "source": [
    "seed = 86\n",
    "synthetic_info = dataGenerate(seed = seed, test_samples = 300)\n",
    "server = Server(logReg(num_features=3, num_classes=2, seed = seed), synthetic_info, train_prn = False, seed = seed)\n",
    "server.FairBatch(num_rounds = 5, local_epochs = 30, optimizer = 'adam', learning_rate = 0.0025, alpha = 0.2)\n"
   ]
  },
  {
   "cell_type": "code",
   "execution_count": 32,
   "metadata": {
    "scrolled": true
   },
   "outputs": [
    {
     "name": "stderr",
     "output_type": "stream",
     "text": [
      "\n",
      "  0%|          | 0/2 [00:00<?, ?it/s]\u001b[A"
     ]
    },
    {
     "name": "stdout",
     "output_type": "stream",
     "text": [
      "\n",
      " | Global Training Round : 1 |\n",
      "\n"
     ]
    },
    {
     "name": "stderr",
     "output_type": "stream",
     "text": [
      "\n",
      " 50%|█████     | 1/2 [00:02<00:02,  2.60s/it]\u001b[A"
     ]
    },
    {
     "name": "stdout",
     "output_type": "stream",
     "text": [
      "Client 1: accuracy loss: 4.80 | fairness loss 17.82 | Equal Opportunity Disparity = 0.00\n",
      "Client 2: accuracy loss: 4.75 | fairness loss 19.54 | Equal Opportunity Disparity = 0.00\n",
      "Client 3: accuracy loss: 4.89 | fairness loss 19.87 | Equal Opportunity Disparity = 0.00\n",
      " \n",
      "Avg Training Stats after 1 global rounds:\n",
      "Training loss: 105.22 | Validation accuracy: 79.97% | Validation Equal Opportunity Disparity: 0.0000\n",
      "\n",
      " | Global Training Round : 2 |\n",
      "\n"
     ]
    },
    {
     "name": "stderr",
     "output_type": "stream",
     "text": [
      "\n",
      "100%|██████████| 2/2 [00:04<00:00,  2.47s/it]\u001b[A\n",
      "\n",
      "  0%|          | 0/3 [00:00<?, ?it/s]\u001b[A"
     ]
    },
    {
     "name": "stdout",
     "output_type": "stream",
     "text": [
      "Client 1: accuracy loss: 4.84 | fairness loss 16.41 | Equal Opportunity Disparity = 0.00\n",
      "Client 2: accuracy loss: 4.79 | fairness loss 20.70 | Equal Opportunity Disparity = 0.00\n",
      "Client 3: accuracy loss: 4.96 | fairness loss 20.91 | Equal Opportunity Disparity = 0.00\n",
      " \n",
      "Avg Training Stats after 2 global rounds:\n",
      "Training loss: 85.34 | Validation accuracy: 77.40% | Validation Equal Opportunity Disparity: 0.0000\n",
      " \n",
      " Results after 2 global rounds of training:\n",
      "|---- Avg Train Accuracy: 77.40%\n",
      "|---- Test Accuracy: 74.33%\n",
      "|---- Test Equal Opportunity Disparity: 0.0110\n",
      "\n",
      " Total Run Time: 4.9558 sec\n",
      " \n",
      " Results after 3 global rounds of training:\n",
      "|---- Test Accuracy: 74.33%\n",
      "|---- Test Equal Opportunity Disparity: 0.0110\n",
      "\n",
      " Total Run Time: 0.0281 sec\n"
     ]
    },
    {
     "name": "stderr",
     "output_type": "stream",
     "text": [
      "\n"
     ]
    }
   ],
   "source": [
    "seed = 86\n",
    "synthetic_info = dataGenerate(seed = seed, test_samples = 300)\n",
    "server = Server(logReg(num_features=3, num_classes=2, seed = seed), synthetic_info, train_prn = False, seed = seed)\n",
    "server.Unconstrained(num_rounds = 2, local_epochs = 30, optimizer = 'adam', learning_rate = 0.008)\n",
    "server.ThresholdAdjust(num_rounds = 3, local_epochs = 30, epsilon = 0.02, learning_rate = 0.002)\n"
   ]
  },
  {
   "cell_type": "code",
   "execution_count": 10,
   "metadata": {
    "scrolled": true
   },
   "outputs": [
    {
     "name": "stderr",
     "output_type": "stream",
     "text": [
      "\r",
      "  0%|          | 0/1 [00:00<?, ?it/s]"
     ]
    },
    {
     "name": "stdout",
     "output_type": "stream",
     "text": [
      "\n",
      " | Testing Round : 1 | constraint :  Cov(z, d | y = 1) < c\n",
      "\n"
     ]
    },
    {
     "name": "stderr",
     "output_type": "stream",
     "text": [
      "100%|██████████| 1/1 [00:02<00:00,  2.36s/it]\n",
      "  0%|          | 0/1 [00:00<?, ?it/s]"
     ]
    },
    {
     "name": "stdout",
     "output_type": "stream",
     "text": [
      "Client 1: accuracy loss: 4.11 | fairness loss 673.88 | Equal Opportunity Disparity = 0.04\n",
      "Client 2: accuracy loss: 3.43 | fairness loss 663.19 | Equal Opportunity Disparity = 0.04\n",
      "Client 3: accuracy loss: 3.60 | fairness loss 654.29 | Equal Opportunity Disparity = 0.16\n",
      " \n",
      "Avg Training Stats after 1 Testing rounds:\n",
      "Training loss: -5.74 | Validation accuracy: 83.53% | Validation Equal Opportunity Disparity: 0.0989\n",
      "\n",
      " | Testing Round : 1 | constraint :  Cov(z, d | y = 1) > -c\n",
      "\n"
     ]
    },
    {
     "name": "stderr",
     "output_type": "stream",
     "text": [
      "100%|██████████| 1/1 [00:02<00:00,  2.44s/it]\n",
      "  0%|          | 0/8 [00:00<?, ?it/s]"
     ]
    },
    {
     "name": "stdout",
     "output_type": "stream",
     "text": [
      "Client 1: accuracy loss: 5.83 | fairness loss 570.82 | Equal Opportunity Disparity = 0.29\n",
      "Client 2: accuracy loss: 3.03 | fairness loss 560.97 | Equal Opportunity Disparity = 0.09\n",
      "Client 3: accuracy loss: 4.10 | fairness loss 548.78 | Equal Opportunity Disparity = 0.41\n",
      " \n",
      "Avg Training Stats after 1 Testing rounds:\n",
      "Training loss: -20.80 | Validation accuracy: 82.44% | Validation Equal Opportunity Disparity: 0.3392\n",
      "\n",
      " | Global Round : 1 | constraint :  Cov(z, d | y = 1) < c\n",
      "\n"
     ]
    },
    {
     "name": "stderr",
     "output_type": "stream",
     "text": [
      "\r",
      " 12%|█▎        | 1/8 [00:02<00:20,  2.98s/it]"
     ]
    },
    {
     "name": "stdout",
     "output_type": "stream",
     "text": [
      "Client 1: accuracy loss: 3.87 | fairness loss 948.50 | Equal Opportunity Disparity = 0.04\n",
      "Client 2: accuracy loss: 3.03 | fairness loss 929.31 | Equal Opportunity Disparity = 0.05\n",
      "Client 3: accuracy loss: 3.16 | fairness loss 914.14 | Equal Opportunity Disparity = 0.16\n",
      " \n",
      "Avg Training Stats after 1 global rounds:\n",
      "Training loss: -17.60 | Validation accuracy: 82.72% | Validation Equal Opportunity Disparity: 0.1311\n",
      "\n",
      " | Global Round : 2 | constraint :  Cov(z, d | y = 1) < c\n",
      "\n"
     ]
    },
    {
     "name": "stderr",
     "output_type": "stream",
     "text": [
      "\r",
      " 25%|██▌       | 2/8 [00:05<00:16,  2.82s/it]"
     ]
    },
    {
     "name": "stdout",
     "output_type": "stream",
     "text": [
      "Client 1: accuracy loss: 3.88 | fairness loss 1396.44 | Equal Opportunity Disparity = 0.03\n",
      "Client 2: accuracy loss: 2.98 | fairness loss 1357.64 | Equal Opportunity Disparity = 0.05\n",
      "Client 3: accuracy loss: 3.09 | fairness loss 1331.42 | Equal Opportunity Disparity = 0.16\n",
      " \n",
      "Avg Training Stats after 2 global rounds:\n",
      "Training loss: -18.65 | Validation accuracy: 83.70% | Validation Equal Opportunity Disparity: 0.1370\n",
      "\n",
      " | Global Round : 3 | constraint :  Cov(z, d | y = 1) < c\n",
      "\n"
     ]
    },
    {
     "name": "stderr",
     "output_type": "stream",
     "text": [
      "\r",
      " 38%|███▊      | 3/8 [00:08<00:13,  2.78s/it]"
     ]
    },
    {
     "name": "stdout",
     "output_type": "stream",
     "text": [
      "Client 1: accuracy loss: 3.90 | fairness loss 1949.95 | Equal Opportunity Disparity = 0.03\n",
      "Client 2: accuracy loss: 2.97 | fairness loss 1884.71 | Equal Opportunity Disparity = 0.05\n",
      "Client 3: accuracy loss: 3.07 | fairness loss 1844.12 | Equal Opportunity Disparity = 0.16\n",
      " \n",
      "Avg Training Stats after 3 global rounds:\n",
      "Training loss: -21.71 | Validation accuracy: 83.70% | Validation Equal Opportunity Disparity: 0.1370\n",
      "\n",
      " | Global Round : 4 | constraint :  Cov(z, d | y = 1) < c\n",
      "\n"
     ]
    },
    {
     "name": "stderr",
     "output_type": "stream",
     "text": [
      "\r",
      " 50%|█████     | 4/8 [00:10<00:10,  2.68s/it]"
     ]
    },
    {
     "name": "stdout",
     "output_type": "stream",
     "text": [
      "Client 1: accuracy loss: 3.91 | fairness loss 2600.07 | Equal Opportunity Disparity = 0.03\n",
      "Client 2: accuracy loss: 2.98 | fairness loss 2502.15 | Equal Opportunity Disparity = 0.05\n",
      "Client 3: accuracy loss: 3.05 | fairness loss 2444.11 | Equal Opportunity Disparity = 0.16\n",
      " \n",
      "Avg Training Stats after 4 global rounds:\n",
      "Training loss: -25.86 | Validation accuracy: 83.70% | Validation Equal Opportunity Disparity: 0.1370\n",
      "\n",
      " | Global Round : 5 | constraint :  Cov(z, d | y = 1) < c\n",
      "\n"
     ]
    },
    {
     "name": "stderr",
     "output_type": "stream",
     "text": [
      "\r",
      " 62%|██████▎   | 5/8 [00:12<00:07,  2.57s/it]"
     ]
    },
    {
     "name": "stdout",
     "output_type": "stream",
     "text": [
      "Client 1: accuracy loss: 3.92 | fairness loss 3346.09 | Equal Opportunity Disparity = 0.03\n",
      "Client 2: accuracy loss: 2.99 | fairness loss 3209.44 | Equal Opportunity Disparity = 0.03\n",
      "Client 3: accuracy loss: 3.05 | fairness loss 3130.90 | Equal Opportunity Disparity = 0.16\n",
      " \n",
      "Avg Training Stats after 5 global rounds:\n",
      "Training loss: -30.65 | Validation accuracy: 82.58% | Validation Equal Opportunity Disparity: 0.1311\n",
      "\n",
      " | Global Round : 6 | constraint :  Cov(z, d | y = 1) < c\n",
      "\n"
     ]
    },
    {
     "name": "stderr",
     "output_type": "stream",
     "text": [
      "\r",
      " 75%|███████▌  | 6/8 [00:15<00:04,  2.49s/it]"
     ]
    },
    {
     "name": "stdout",
     "output_type": "stream",
     "text": [
      "Client 1: accuracy loss: 3.92 | fairness loss 4188.50 | Equal Opportunity Disparity = 0.06\n",
      "Client 2: accuracy loss: 3.00 | fairness loss 4007.17 | Equal Opportunity Disparity = 0.03\n",
      "Client 3: accuracy loss: 3.05 | fairness loss 3905.08 | Equal Opportunity Disparity = 0.13\n",
      " \n",
      "Avg Training Stats after 6 global rounds:\n",
      "Training loss: -35.85 | Validation accuracy: 81.31% | Validation Equal Opportunity Disparity: 0.0752\n",
      "\n",
      " | Global Round : 7 | constraint :  Cov(z, d | y = 1) < c\n",
      "\n"
     ]
    },
    {
     "name": "stderr",
     "output_type": "stream",
     "text": [
      "\r",
      " 88%|████████▊ | 7/8 [00:17<00:02,  2.45s/it]"
     ]
    },
    {
     "name": "stdout",
     "output_type": "stream",
     "text": [
      "Client 1: accuracy loss: 3.93 | fairness loss 5127.75 | Equal Opportunity Disparity = 0.13\n",
      "Client 2: accuracy loss: 3.02 | fairness loss 4895.84 | Equal Opportunity Disparity = 0.11\n",
      "Client 3: accuracy loss: 3.04 | fairness loss 4767.14 | Equal Opportunity Disparity = 0.13\n",
      " \n",
      "Avg Training Stats after 7 global rounds:\n",
      "Training loss: -41.33 | Validation accuracy: 78.55% | Validation Equal Opportunity Disparity: 0.0220\n",
      "\n",
      " | Global Round : 8 | constraint :  Cov(z, d | y = 1) < c\n",
      "\n"
     ]
    },
    {
     "name": "stderr",
     "output_type": "stream",
     "text": [
      "100%|██████████| 8/8 [00:19<00:00,  2.47s/it]"
     ]
    },
    {
     "name": "stdout",
     "output_type": "stream",
     "text": [
      "Client 1: accuracy loss: 3.94 | fairness loss 6164.19 | Equal Opportunity Disparity = 0.25\n",
      "Client 2: accuracy loss: 3.03 | fairness loss 5875.78 | Equal Opportunity Disparity = 0.20\n",
      "Client 3: accuracy loss: 3.04 | fairness loss 5717.39 | Equal Opportunity Disparity = 0.06\n",
      " \n",
      "Avg Training Stats after 8 global rounds:\n",
      "Training loss: -47.00 | Validation accuracy: 73.70% | Validation Equal Opportunity Disparity: 0.0786\n",
      " \n",
      " Results after 8 global rounds of training:\n",
      "|---- Avg Train Accuracy: 73.70%\n",
      "|---- Test Accuracy: 81.67%\n",
      "|---- Test Equal Opportunity Disparity: 0.0276\n",
      "\n",
      " Total Run Time: 24.6183 sec\n"
     ]
    },
    {
     "name": "stderr",
     "output_type": "stream",
     "text": [
      "\n"
     ]
    }
   ],
   "source": [
    "seed = 815\n",
    "synthetic_info = dataGenerate(seed = seed, test_samples = 300)\n",
    "server = Server(logReg(num_features=3, num_classes=2, seed = seed), synthetic_info, train_prn = False, seed = seed)\n",
    "server.FairConstraints(test_rounds = 1, test_lr = 0.01, test_penalty = 200, num_rounds = 8, local_epochs = 30, optimizer = 'adam', learning_rate = 0.0012, penalty = 80)\n"
   ]
  },
  {
   "cell_type": "code",
   "execution_count": 27,
   "metadata": {
    "scrolled": true
   },
   "outputs": [
    {
     "name": "stderr",
     "output_type": "stream",
     "text": [
      "\r",
      "  0%|          | 0/5 [00:00<?, ?it/s]"
     ]
    },
    {
     "name": "stdout",
     "output_type": "stream",
     "text": [
      "\n",
      " | Global Training Round : 1 |\n",
      "\n"
     ]
    },
    {
     "name": "stderr",
     "output_type": "stream",
     "text": [
      "\r",
      " 20%|██        | 1/5 [00:02<00:10,  2.68s/it]"
     ]
    },
    {
     "name": "stdout",
     "output_type": "stream",
     "text": [
      "Client 1: predictor loss: 4.62 | adversary loss 0.49 | Equal Opportunity Disparity = 0.58\n",
      "Client 2: predictor loss: 3.78 | adversary loss 0.85 | Equal Opportunity Disparity = 0.07\n",
      "Client 3: predictor loss: 4.44 | adversary loss 1.09 | Equal Opportunity Disparity = 0.27\n",
      " \n",
      "Avg Training Stats after 1 global rounds:\n",
      "Training loss: 0.87 | Validation accuracy: 80.35% | Validation Equal Opportunity Disparity: 0.2628\n",
      "\n",
      " | Global Training Round : 2 |\n",
      "\n"
     ]
    },
    {
     "name": "stderr",
     "output_type": "stream",
     "text": [
      "\r",
      " 40%|████      | 2/5 [00:05<00:07,  2.64s/it]"
     ]
    },
    {
     "name": "stdout",
     "output_type": "stream",
     "text": [
      "Client 1: predictor loss: 3.96 | adversary loss 0.26 | Equal Opportunity Disparity = 0.61\n",
      "Client 2: predictor loss: 2.77 | adversary loss 0.49 | Equal Opportunity Disparity = 0.16\n",
      "Client 3: predictor loss: 3.35 | adversary loss 0.57 | Equal Opportunity Disparity = 0.31\n",
      " \n",
      "Avg Training Stats after 2 global rounds:\n",
      "Training loss: 0.59 | Validation accuracy: 83.17% | Validation Equal Opportunity Disparity: 0.3333\n",
      "\n",
      " | Global Training Round : 3 |\n",
      "\n"
     ]
    },
    {
     "name": "stderr",
     "output_type": "stream",
     "text": [
      "\r",
      " 60%|██████    | 3/5 [00:07<00:05,  2.61s/it]"
     ]
    },
    {
     "name": "stdout",
     "output_type": "stream",
     "text": [
      "Client 1: predictor loss: 4.48 | adversary loss 0.39 | Equal Opportunity Disparity = 0.53\n",
      "Client 2: predictor loss: 3.66 | adversary loss 0.58 | Equal Opportunity Disparity = 0.05\n",
      "Client 3: predictor loss: 4.31 | adversary loss 0.63 | Equal Opportunity Disparity = 0.27\n",
      " \n",
      "Avg Training Stats after 3 global rounds:\n",
      "Training loss: 0.51 | Validation accuracy: 81.11% | Validation Equal Opportunity Disparity: 0.2333\n",
      "\n",
      " | Global Training Round : 4 |\n",
      "\n"
     ]
    },
    {
     "name": "stderr",
     "output_type": "stream",
     "text": [
      "\r",
      " 80%|████████  | 4/5 [00:10<00:02,  2.67s/it]"
     ]
    },
    {
     "name": "stdout",
     "output_type": "stream",
     "text": [
      "Client 1: predictor loss: 8.58 | adversary loss 0.57 | Equal Opportunity Disparity = 0.26\n",
      "Client 2: predictor loss: 6.66 | adversary loss 0.84 | Equal Opportunity Disparity = 0.07\n",
      "Client 3: predictor loss: 7.67 | adversary loss 1.04 | Equal Opportunity Disparity = 0.07\n",
      " \n",
      "Avg Training Stats after 4 global rounds:\n",
      "Training loss: 0.53 | Validation accuracy: 64.05% | Validation Equal Opportunity Disparity: 0.0002\n",
      "\n",
      " | Global Training Round : 5 |\n",
      "\n"
     ]
    },
    {
     "name": "stderr",
     "output_type": "stream",
     "text": [
      "100%|██████████| 5/5 [00:13<00:00,  2.68s/it]"
     ]
    },
    {
     "name": "stdout",
     "output_type": "stream",
     "text": [
      "Client 1: predictor loss: 8.13 | adversary loss 0.54 | Equal Opportunity Disparity = 0.26\n",
      "Client 2: predictor loss: 6.29 | adversary loss 0.89 | Equal Opportunity Disparity = 0.00\n",
      "Client 3: predictor loss: 7.24 | adversary loss 1.12 | Equal Opportunity Disparity = 0.11\n",
      " \n",
      "Avg Training Stats after 5 global rounds:\n",
      "Training loss: 0.61 | Validation accuracy: 66.88% | Validation Equal Opportunity Disparity: 0.0498\n",
      " \n",
      " Results after 5 global rounds of training:\n",
      "|---- Avg Train Accuracy: 66.88%\n",
      "|---- Test Accuracy: 62.67%\n",
      "|---- Test Equal Opportunity Disparity: 0.0009\n",
      "\n",
      " Total Run Time: 13.4100 sec\n"
     ]
    },
    {
     "name": "stderr",
     "output_type": "stream",
     "text": [
      "\n"
     ]
    }
   ],
   "source": [
    "seed = 815\n",
    "synthetic_info = dataGenerate(seed = seed, test_samples = 300)\n",
    "server = Server(logReg(num_features=3, num_classes=2, seed = seed), synthetic_info, train_prn = False, seed = seed)\n",
    "server.FTrain(num_rounds = 5, local_epochs = 30, init_epochs = 50, lr_g = 0.002, lr_d = 0.008, lambda_d = 1)\n"
   ]
  },
  {
   "cell_type": "code",
   "execution_count": 17,
   "metadata": {
    "scrolled": true
   },
   "outputs": [
    {
     "name": "stderr",
     "output_type": "stream",
     "text": [
      "\r",
      "  0%|          | 0/5 [00:00<?, ?it/s]"
     ]
    },
    {
     "name": "stdout",
     "output_type": "stream",
     "text": [
      "\n",
      " | Global Training Round : 1 |\n",
      "\n"
     ]
    },
    {
     "name": "stderr",
     "output_type": "stream",
     "text": [
      "\r",
      " 20%|██        | 1/5 [00:02<00:10,  2.63s/it]"
     ]
    },
    {
     "name": "stdout",
     "output_type": "stream",
     "text": [
      "Client 1: accuracy loss: 3.20 | fairness loss 253.32 | Equal Opportunity Disparity = 0.20\n",
      "Client 2: accuracy loss: 3.03 | fairness loss 307.90 | Equal Opportunity Disparity = 0.45\n",
      "Client 3: accuracy loss: 2.91 | fairness loss 314.62 | Equal Opportunity Disparity = 0.37\n",
      " \n",
      "Avg Training Stats after 1 global rounds:\n",
      "Training loss: 0.40 | Validation accuracy: 84.87% | Validation Equal Opportunity Disparity: 0.3523\n",
      "\n",
      " | Global Training Round : 2 |\n",
      "\n"
     ]
    },
    {
     "name": "stderr",
     "output_type": "stream",
     "text": [
      "\r",
      " 40%|████      | 2/5 [00:05<00:07,  2.63s/it]"
     ]
    },
    {
     "name": "stdout",
     "output_type": "stream",
     "text": [
      "Client 1: accuracy loss: 3.14 | fairness loss 254.03 | Equal Opportunity Disparity = 0.19\n",
      "Client 2: accuracy loss: 2.96 | fairness loss 306.78 | Equal Opportunity Disparity = 0.28\n",
      "Client 3: accuracy loss: 2.84 | fairness loss 310.16 | Equal Opportunity Disparity = 0.26\n",
      " \n",
      "Avg Training Stats after 2 global rounds:\n",
      "Training loss: 0.35 | Validation accuracy: 85.63% | Validation Equal Opportunity Disparity: 0.2476\n",
      "\n",
      " | Global Training Round : 3 |\n",
      "\n"
     ]
    },
    {
     "name": "stderr",
     "output_type": "stream",
     "text": [
      "\r",
      " 60%|██████    | 3/5 [00:08<00:05,  2.69s/it]"
     ]
    },
    {
     "name": "stdout",
     "output_type": "stream",
     "text": [
      "Client 1: accuracy loss: 3.17 | fairness loss 213.32 | Equal Opportunity Disparity = 0.18\n",
      "Client 2: accuracy loss: 3.03 | fairness loss 254.87 | Equal Opportunity Disparity = 0.20\n",
      "Client 3: accuracy loss: 2.98 | fairness loss 255.53 | Equal Opportunity Disparity = 0.11\n",
      " \n",
      "Avg Training Stats after 3 global rounds:\n",
      "Training loss: 0.34 | Validation accuracy: 85.45% | Validation Equal Opportunity Disparity: 0.1430\n",
      "\n",
      " | Global Training Round : 4 |\n",
      "\n"
     ]
    },
    {
     "name": "stderr",
     "output_type": "stream",
     "text": [
      "\r",
      " 80%|████████  | 4/5 [00:10<00:02,  2.68s/it]"
     ]
    },
    {
     "name": "stdout",
     "output_type": "stream",
     "text": [
      "Client 1: accuracy loss: 3.21 | fairness loss 186.63 | Equal Opportunity Disparity = 0.18\n",
      "Client 2: accuracy loss: 3.13 | fairness loss 219.72 | Equal Opportunity Disparity = 0.12\n",
      "Client 3: accuracy loss: 3.16 | fairness loss 218.79 | Equal Opportunity Disparity = 0.11\n",
      " \n",
      "Avg Training Stats after 4 global rounds:\n",
      "Training loss: 0.33 | Validation accuracy: 84.77% | Validation Equal Opportunity Disparity: 0.1182\n",
      "\n",
      " | Global Training Round : 5 |\n",
      "\n"
     ]
    },
    {
     "name": "stderr",
     "output_type": "stream",
     "text": [
      "100%|██████████| 5/5 [00:13<00:00,  2.68s/it]"
     ]
    },
    {
     "name": "stdout",
     "output_type": "stream",
     "text": [
      "Client 1: accuracy loss: 3.27 | fairness loss 169.22 | Equal Opportunity Disparity = 0.18\n",
      "Client 2: accuracy loss: 3.23 | fairness loss 196.14 | Equal Opportunity Disparity = 0.12\n",
      "Client 3: accuracy loss: 3.33 | fairness loss 194.32 | Equal Opportunity Disparity = 0.00\n",
      " \n",
      "Avg Training Stats after 5 global rounds:\n",
      "Training loss: 0.32 | Validation accuracy: 84.66% | Validation Equal Opportunity Disparity: 0.0686\n",
      " \n",
      " Results after 5 global rounds of training:\n",
      "|---- Avg Train Accuracy: 84.66%\n",
      "|---- Test Accuracy: 84.00%\n",
      "|---- Test Equal Opportunity Disparity: 0.1310\n",
      "\n",
      " Total Run Time: 13.4086 sec\n"
     ]
    },
    {
     "name": "stderr",
     "output_type": "stream",
     "text": [
      "\n"
     ]
    }
   ],
   "source": [
    "seed = 419\n",
    "synthetic_info = dataGenerate(seed = seed, test_samples = 300)\n",
    "server = Server(logReg(num_features=3, num_classes=2, seed = seed), synthetic_info, train_prn = False, seed = seed)\n",
    "server.BiasCorrecting(num_rounds = 5, local_epochs = 30, optimizer = 'adam', learning_rate = 0.01, alpha = 4)\n"
   ]
  },
  {
   "cell_type": "code",
   "execution_count": 6,
   "metadata": {
    "scrolled": true
   },
   "outputs": [
    {
     "name": "stderr",
     "output_type": "stream",
     "text": [
      "\r",
      "  0%|          | 0/1 [00:00<?, ?it/s]"
     ]
    },
    {
     "name": "stdout",
     "output_type": "stream",
     "text": [
      "\n",
      " | Global Training Round : 1 |\n",
      "\n"
     ]
    },
    {
     "name": "stderr",
     "output_type": "stream",
     "text": [
      "100%|██████████| 1/1 [00:02<00:00,  2.24s/it]\n",
      "  0%|          | 0/9 [00:00<?, ?it/s]"
     ]
    },
    {
     "name": "stdout",
     "output_type": "stream",
     "text": [
      "Client 1: accuracy loss: 2.71 | fairness loss 478.94 | Equal Opportunity Disparity = 0.28\n",
      "Client 2: accuracy loss: 2.91 | fairness loss 779.25 | Equal Opportunity Disparity = 0.14\n",
      "Client 3: accuracy loss: 2.62 | fairness loss 856.99 | Equal Opportunity Disparity = 0.19\n",
      " \n",
      "Avg Training Stats after 1 global rounds:\n",
      "Training loss: 39.69 | Validation accuracy: 86.17% | Validation Equal Opportunity Disparity: 0.2063\n",
      " \n",
      " Results after 1 global rounds of training:\n",
      "|---- Avg Train Accuracy: 86.17%\n",
      "|---- Test Accuracy: 82.00%\n",
      "|---- Test Equal Opportunity Disparity: 0.6226\n",
      "\n",
      " Total Run Time: 2.2678 sec\n",
      "\n",
      " | Global Training Round : 1 |\n",
      "\n"
     ]
    },
    {
     "name": "stderr",
     "output_type": "stream",
     "text": [
      "\r",
      " 11%|█         | 1/9 [00:03<00:24,  3.10s/it]"
     ]
    },
    {
     "name": "stdout",
     "output_type": "stream",
     "text": [
      "Client 1: predictor loss: 3.40 | adversary loss 0.36 | Equal Opportunity Disparity = 0.24\n",
      "Client 2: predictor loss: 3.00 | adversary loss 0.41 | Equal Opportunity Disparity = 0.17\n",
      "Client 3: predictor loss: 3.19 | adversary loss 0.42 | Equal Opportunity Disparity = 0.30\n",
      " \n",
      "Avg Training Stats after 1 global rounds:\n",
      "Training loss: 20.82 | Validation accuracy: 85.66% | Validation Equal Opportunity Disparity: 0.2526\n",
      "\n",
      " | Global Training Round : 2 |\n",
      "\n"
     ]
    },
    {
     "name": "stderr",
     "output_type": "stream",
     "text": [
      "\r",
      " 22%|██▏       | 2/9 [00:06<00:22,  3.18s/it]"
     ]
    },
    {
     "name": "stdout",
     "output_type": "stream",
     "text": [
      "Client 1: predictor loss: 4.18 | adversary loss 0.43 | Equal Opportunity Disparity = 0.16\n",
      "Client 2: predictor loss: 3.28 | adversary loss 0.54 | Equal Opportunity Disparity = 0.12\n",
      "Client 3: predictor loss: 3.82 | adversary loss 0.57 | Equal Opportunity Disparity = 0.25\n",
      " \n",
      "Avg Training Stats after 2 global rounds:\n",
      "Training loss: 23.13 | Validation accuracy: 83.53% | Validation Equal Opportunity Disparity: 0.1706\n",
      "\n",
      " | Global Training Round : 3 |\n",
      "\n"
     ]
    },
    {
     "name": "stderr",
     "output_type": "stream",
     "text": [
      "\r",
      " 33%|███▎      | 3/9 [00:09<00:19,  3.17s/it]"
     ]
    },
    {
     "name": "stdout",
     "output_type": "stream",
     "text": [
      "Client 1: predictor loss: 5.07 | adversary loss 0.50 | Equal Opportunity Disparity = 0.10\n",
      "Client 2: predictor loss: 3.67 | adversary loss 0.65 | Equal Opportunity Disparity = 0.08\n",
      "Client 3: predictor loss: 4.53 | adversary loss 0.71 | Equal Opportunity Disparity = 0.25\n",
      " \n",
      "Avg Training Stats after 3 global rounds:\n",
      "Training loss: 25.50 | Validation accuracy: 77.92% | Validation Equal Opportunity Disparity: 0.1402\n",
      "\n",
      " | Global Training Round : 4 |\n",
      "\n"
     ]
    },
    {
     "name": "stderr",
     "output_type": "stream",
     "text": [
      "\r",
      " 44%|████▍     | 4/9 [00:13<00:16,  3.29s/it]"
     ]
    },
    {
     "name": "stdout",
     "output_type": "stream",
     "text": [
      "Client 1: predictor loss: 6.12 | adversary loss 0.55 | Equal Opportunity Disparity = 0.04\n",
      "Client 2: predictor loss: 4.18 | adversary loss 0.71 | Equal Opportunity Disparity = 0.04\n",
      "Client 3: predictor loss: 5.35 | adversary loss 0.78 | Equal Opportunity Disparity = 0.23\n",
      " \n",
      "Avg Training Stats after 4 global rounds:\n",
      "Training loss: 28.02 | Validation accuracy: 76.58% | Validation Equal Opportunity Disparity: 0.0913\n",
      "\n",
      " | Global Training Round : 5 |\n",
      "\n"
     ]
    },
    {
     "name": "stderr",
     "output_type": "stream",
     "text": [
      "\r",
      " 56%|█████▌    | 5/9 [00:16<00:12,  3.22s/it]"
     ]
    },
    {
     "name": "stdout",
     "output_type": "stream",
     "text": [
      "Client 1: predictor loss: 7.01 | adversary loss 0.58 | Equal Opportunity Disparity = 0.05\n",
      "Client 2: predictor loss: 4.63 | adversary loss 0.76 | Equal Opportunity Disparity = 0.03\n",
      "Client 3: predictor loss: 6.05 | adversary loss 0.86 | Equal Opportunity Disparity = 0.23\n",
      " \n",
      "Avg Training Stats after 5 global rounds:\n",
      "Training loss: 30.58 | Validation accuracy: 75.06% | Validation Equal Opportunity Disparity: 0.0807\n",
      "\n",
      " | Global Training Round : 6 |\n",
      "\n"
     ]
    },
    {
     "name": "stderr",
     "output_type": "stream",
     "text": [
      "\r",
      " 67%|██████▋   | 6/9 [00:19<00:10,  3.37s/it]"
     ]
    },
    {
     "name": "stdout",
     "output_type": "stream",
     "text": [
      "Client 1: predictor loss: 7.75 | adversary loss 0.59 | Equal Opportunity Disparity = 0.06\n",
      "Client 2: predictor loss: 5.00 | adversary loss 0.79 | Equal Opportunity Disparity = 0.00\n",
      "Client 3: predictor loss: 6.66 | adversary loss 0.91 | Equal Opportunity Disparity = 0.18\n",
      " \n",
      "Avg Training Stats after 6 global rounds:\n",
      "Training loss: 33.06 | Validation accuracy: 73.72% | Validation Equal Opportunity Disparity: 0.0423\n",
      "\n",
      " | Global Training Round : 7 |\n",
      "\n"
     ]
    },
    {
     "name": "stderr",
     "output_type": "stream",
     "text": [
      "\r",
      " 78%|███████▊  | 7/9 [00:23<00:06,  3.44s/it]"
     ]
    },
    {
     "name": "stdout",
     "output_type": "stream",
     "text": [
      "Client 1: predictor loss: 8.27 | adversary loss 0.60 | Equal Opportunity Disparity = 0.08\n",
      "Client 2: predictor loss: 5.28 | adversary loss 0.82 | Equal Opportunity Disparity = 0.00\n",
      "Client 3: predictor loss: 7.06 | adversary loss 0.96 | Equal Opportunity Disparity = 0.15\n",
      " \n",
      "Avg Training Stats after 7 global rounds:\n",
      "Training loss: 35.33 | Validation accuracy: 72.41% | Validation Equal Opportunity Disparity: 0.0265\n",
      "\n",
      " | Global Training Round : 8 |\n",
      "\n"
     ]
    },
    {
     "name": "stderr",
     "output_type": "stream",
     "text": [
      "\r",
      " 89%|████████▉ | 8/9 [00:26<00:03,  3.35s/it]"
     ]
    },
    {
     "name": "stdout",
     "output_type": "stream",
     "text": [
      "Client 1: predictor loss: 8.66 | adversary loss 0.60 | Equal Opportunity Disparity = 0.08\n",
      "Client 2: predictor loss: 5.50 | adversary loss 0.84 | Equal Opportunity Disparity = 0.00\n",
      "Client 3: predictor loss: 7.38 | adversary loss 1.00 | Equal Opportunity Disparity = 0.13\n",
      " \n",
      "Avg Training Stats after 8 global rounds:\n",
      "Training loss: 37.33 | Validation accuracy: 71.69% | Validation Equal Opportunity Disparity: 0.0212\n",
      "\n",
      " | Global Training Round : 9 |\n",
      "\n"
     ]
    },
    {
     "name": "stderr",
     "output_type": "stream",
     "text": [
      "100%|██████████| 9/9 [00:29<00:00,  3.30s/it]"
     ]
    },
    {
     "name": "stdout",
     "output_type": "stream",
     "text": [
      "Client 1: predictor loss: 8.93 | adversary loss 0.59 | Equal Opportunity Disparity = 0.11\n",
      "Client 2: predictor loss: 5.64 | adversary loss 0.86 | Equal Opportunity Disparity = 0.05\n",
      "Client 3: predictor loss: 7.59 | adversary loss 1.03 | Equal Opportunity Disparity = 0.13\n",
      " \n",
      "Avg Training Stats after 9 global rounds:\n",
      "Training loss: 39.09 | Validation accuracy: 71.07% | Validation Equal Opportunity Disparity: 0.0331\n",
      " \n",
      " Results after 9 global rounds of training:\n",
      "|---- Avg Train Accuracy: 71.07%\n",
      "|---- Test Accuracy: 60.00%\n",
      "|---- Test Equal Opportunity Disparity: 0.2613\n",
      "\n",
      " Total Run Time: 29.7055 sec\n"
     ]
    },
    {
     "name": "stderr",
     "output_type": "stream",
     "text": [
      "\n"
     ]
    }
   ],
   "source": [
    "seed = 452\n",
    "synthetic_info = dataGenerate(seed = seed, test_samples = 100)\n",
    "server = Server(logReg(num_features=3, num_classes=2, seed = seed), synthetic_info, train_prn = False, seed = seed)\n",
    "server.Unconstrained(num_rounds = 1, local_epochs = 30, optimizer = 'adam', learning_rate = 0.01)\n",
    "server.AdversarialLearning(num_rounds = 9, local_epochs = 30, optimizer = 'adam', epsilon = None, learning_rate = 0.005, alpha = 0.5, adaptive_lr = True)"
   ]
  }
 ],
 "metadata": {
  "kernelspec": {
   "display_name": "Python 3",
   "language": "python",
   "name": "python3"
  },
  "language_info": {
   "codemirror_mode": {
    "name": "ipython",
    "version": 3
   },
   "file_extension": ".py",
   "mimetype": "text/x-python",
   "name": "python",
   "nbconvert_exporter": "python",
   "pygments_lexer": "ipython3",
   "version": "3.7.4"
  }
 },
 "nbformat": 4,
 "nbformat_minor": 2
}
