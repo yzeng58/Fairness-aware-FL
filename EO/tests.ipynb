{
 "cells": [
  {
   "cell_type": "code",
   "execution_count": 1,
   "metadata": {},
   "outputs": [],
   "source": [
    "from Server import *"
   ]
  },
  {
   "cell_type": "code",
   "execution_count": 3,
   "metadata": {
    "scrolled": true
   },
   "outputs": [
    {
     "name": "stderr",
     "output_type": "stream",
     "text": [
      "\r",
      "  0%|          | 0/2 [00:00<?, ?it/s]"
     ]
    },
    {
     "name": "stdout",
     "output_type": "stream",
     "text": [
      "\n",
      " | Global Training Round : 1 |\n",
      "\n"
     ]
    },
    {
     "name": "stderr",
     "output_type": "stream",
     "text": [
      "\r",
      " 50%|█████     | 1/2 [00:02<00:02,  2.47s/it]"
     ]
    },
    {
     "name": "stdout",
     "output_type": "stream",
     "text": [
      "Client 1: accuracy loss: 3.36 | fairness loss 520.45 | Equal Opportunity Disparity = 0.27\n",
      "Client 2: accuracy loss: 3.08 | fairness loss 881.72 | Equal Opportunity Disparity = 0.22\n",
      "Client 3: accuracy loss: 2.87 | fairness loss 787.25 | Equal Opportunity Disparity = 0.24\n",
      " \n",
      "Avg Training Stats after 1 global rounds:\n",
      "Training loss: 41.20 | Validation accuracy: 84.85% | Validation Equal Opportunity Disparity: 0.2532\n",
      "\n",
      " | Global Training Round : 2 |\n",
      "\n"
     ]
    },
    {
     "name": "stderr",
     "output_type": "stream",
     "text": [
      "100%|██████████| 2/2 [00:04<00:00,  2.48s/it]\n",
      "  0%|          | 0/3 [00:00<?, ?it/s]"
     ]
    },
    {
     "name": "stdout",
     "output_type": "stream",
     "text": [
      "Client 1: accuracy loss: 3.35 | fairness loss 529.64 | Equal Opportunity Disparity = 0.27\n",
      "Client 2: accuracy loss: 3.12 | fairness loss 896.56 | Equal Opportunity Disparity = 0.22\n",
      "Client 3: accuracy loss: 2.88 | fairness loss 794.74 | Equal Opportunity Disparity = 0.13\n",
      " \n",
      "Avg Training Stats after 2 global rounds:\n",
      "Training loss: 38.74 | Validation accuracy: 85.31% | Validation Equal Opportunity Disparity: 0.2090\n",
      " \n",
      " Results after 2 global rounds of training:\n",
      "|---- Avg Train Accuracy: 85.31%\n",
      "|---- Test Accuracy: 86.67%\n",
      "|---- Test Equal Opportunity Disparity: 0.2194\n",
      "\n",
      " Total Run Time: 4.9668 sec\n"
     ]
    },
    {
     "name": "stderr",
     "output_type": "stream",
     "text": [
      "\r",
      " 33%|███▎      | 1/3 [00:02<00:05,  2.90s/it]"
     ]
    },
    {
     "name": "stdout",
     "output_type": "stream",
     "text": [
      " \n",
      "Avg Training Stats after 1 threshold adjusting global rounds:\n",
      "Training loss: 16.80 | Validation accuracy: 87.84% | Validation Equal Opportunity Disparity: 0.0553\n"
     ]
    },
    {
     "name": "stderr",
     "output_type": "stream",
     "text": [
      "\r",
      " 67%|██████▋   | 2/3 [00:06<00:03,  3.11s/it]"
     ]
    },
    {
     "name": "stdout",
     "output_type": "stream",
     "text": [
      " \n",
      "Avg Training Stats after 2 threshold adjusting global rounds:\n",
      "Training loss: 18.88 | Validation accuracy: 80.77% | Validation Equal Opportunity Disparity: 0.0278\n"
     ]
    },
    {
     "name": "stderr",
     "output_type": "stream",
     "text": [
      "\r",
      " 67%|██████▋   | 2/3 [00:09<00:04,  4.78s/it]"
     ]
    },
    {
     "name": "stdout",
     "output_type": "stream",
     "text": [
      " \n",
      "Avg Training Stats after 3 threshold adjusting global rounds:\n",
      "Training loss: 19.68 | Validation accuracy: 80.71% | Validation Equal Opportunity Disparity: 0.0111\n",
      " \n",
      " Results after 3 global rounds of training:\n",
      "|---- Test Accuracy: 82.67%\n",
      "|---- Test Equal Opportunity Disparity: 0.0493\n",
      "\n",
      " Total Run Time: 9.5817 sec\n"
     ]
    },
    {
     "name": "stderr",
     "output_type": "stream",
     "text": [
      "\n"
     ]
    }
   ],
   "source": [
    "seed = 452\n",
    "synthetic_info = dataGenerate(seed = seed, test_samples = 300)\n",
    "server = Server(logReg(num_features=3, num_classes=2, seed = seed), synthetic_info, train_prn = False, seed = seed)\n",
    "server.Unconstrained(num_rounds = 2, local_epochs = 30, optimizer = 'adam', learning_rate = 0.008)\n",
    "server.ThresholdAdjust(num_rounds = 3, local_epochs = 30, epsilon = 0.02, learning_rate = 0.005)\n"
   ]
  },
  {
   "cell_type": "code",
   "execution_count": 9,
   "metadata": {
    "scrolled": true
   },
   "outputs": [
    {
     "name": "stderr",
     "output_type": "stream",
     "text": [
      "\r",
      "  0%|          | 0/3 [00:00<?, ?it/s]"
     ]
    },
    {
     "name": "stdout",
     "output_type": "stream",
     "text": [
      "\n",
      " | Testing Round : 1 | constraint :  Cov(z, d | y = 1) < c\n",
      "\n"
     ]
    },
    {
     "name": "stderr",
     "output_type": "stream",
     "text": [
      "\r",
      " 33%|███▎      | 1/3 [00:02<00:05,  2.70s/it]"
     ]
    },
    {
     "name": "stdout",
     "output_type": "stream",
     "text": [
      "Client 1: accuracy loss: 3.28 | fairness loss 10.65 | Equal Opportunity Disparity = 0.26\n",
      "Client 2: accuracy loss: 2.99 | fairness loss 16.78 | Equal Opportunity Disparity = 0.02\n",
      "Client 3: accuracy loss: 3.05 | fairness loss 21.53 | Equal Opportunity Disparity = 0.09\n",
      " \n",
      "Avg Training Stats after 1 Testing rounds:\n",
      "Training loss: 43.84 | Validation accuracy: 86.89% | Validation Equal Opportunity Disparity: 0.1005\n",
      "\n",
      " | Testing Round : 2 | constraint :  Cov(z, d | y = 1) < c\n",
      "\n"
     ]
    },
    {
     "name": "stderr",
     "output_type": "stream",
     "text": [
      "\r",
      " 67%|██████▋   | 2/3 [00:05<00:02,  2.78s/it]"
     ]
    },
    {
     "name": "stdout",
     "output_type": "stream",
     "text": [
      "Client 1: accuracy loss: 3.10 | fairness loss 99.75 | Equal Opportunity Disparity = 0.26\n",
      "Client 2: accuracy loss: 2.90 | fairness loss 160.27 | Equal Opportunity Disparity = 0.04\n",
      "Client 3: accuracy loss: 2.88 | fairness loss 212.60 | Equal Opportunity Disparity = 0.09\n",
      " \n",
      "Avg Training Stats after 2 Testing rounds:\n",
      "Training loss: 22.43 | Validation accuracy: 86.64% | Validation Equal Opportunity Disparity: 0.1058\n",
      "\n",
      " | Testing Round : 3 | constraint :  Cov(z, d | y = 1) < c\n",
      "\n"
     ]
    },
    {
     "name": "stderr",
     "output_type": "stream",
     "text": [
      "100%|██████████| 3/3 [00:08<00:00,  2.88s/it]\n",
      "  0%|          | 0/3 [00:00<?, ?it/s]"
     ]
    },
    {
     "name": "stdout",
     "output_type": "stream",
     "text": [
      "Client 1: accuracy loss: 3.08 | fairness loss 299.09 | Equal Opportunity Disparity = 0.21\n",
      "Client 2: accuracy loss: 2.90 | fairness loss 482.85 | Equal Opportunity Disparity = 0.02\n",
      "Client 3: accuracy loss: 2.84 | fairness loss 634.87 | Equal Opportunity Disparity = 0.04\n",
      " \n",
      "Avg Training Stats after 3 Testing rounds:\n",
      "Training loss: -2.93 | Validation accuracy: 84.03% | Validation Equal Opportunity Disparity: 0.0688\n",
      "\n",
      " | Testing Round : 1 | constraint :  Cov(z, d | y = 1) > -c\n",
      "\n"
     ]
    },
    {
     "name": "stderr",
     "output_type": "stream",
     "text": [
      "\r",
      " 33%|███▎      | 1/3 [00:02<00:05,  2.77s/it]"
     ]
    },
    {
     "name": "stdout",
     "output_type": "stream",
     "text": [
      "Client 1: accuracy loss: 2.58 | fairness loss 16.10 | Equal Opportunity Disparity = 0.29\n",
      "Client 2: accuracy loss: 3.06 | fairness loss 26.48 | Equal Opportunity Disparity = 0.16\n",
      "Client 3: accuracy loss: 2.58 | fairness loss 28.61 | Equal Opportunity Disparity = 0.30\n",
      " \n",
      "Avg Training Stats after 1 Testing rounds:\n",
      "Training loss: 4.08 | Validation accuracy: 85.99% | Validation Equal Opportunity Disparity: 0.2619\n",
      "\n",
      " | Testing Round : 2 | constraint :  Cov(z, d | y = 1) > -c\n",
      "\n"
     ]
    },
    {
     "name": "stderr",
     "output_type": "stream",
     "text": [
      "\r",
      " 67%|██████▋   | 2/3 [00:05<00:02,  2.90s/it]"
     ]
    },
    {
     "name": "stdout",
     "output_type": "stream",
     "text": [
      "Client 1: accuracy loss: 2.57 | fairness loss 97.95 | Equal Opportunity Disparity = 0.30\n",
      "Client 2: accuracy loss: 3.27 | fairness loss 161.15 | Equal Opportunity Disparity = 0.21\n",
      "Client 3: accuracy loss: 2.64 | fairness loss 193.46 | Equal Opportunity Disparity = 0.35\n",
      " \n",
      "Avg Training Stats after 2 Testing rounds:\n",
      "Training loss: -1.87 | Validation accuracy: 86.24% | Validation Equal Opportunity Disparity: 0.3122\n",
      "\n",
      " | Testing Round : 3 | constraint :  Cov(z, d | y = 1) > -c\n",
      "\n"
     ]
    },
    {
     "name": "stderr",
     "output_type": "stream",
     "text": [
      "100%|██████████| 3/3 [00:08<00:00,  2.93s/it]\n",
      "  0%|          | 0/4 [00:00<?, ?it/s]"
     ]
    },
    {
     "name": "stdout",
     "output_type": "stream",
     "text": [
      "Client 1: accuracy loss: 2.58 | fairness loss 295.29 | Equal Opportunity Disparity = 0.42\n",
      "Client 2: accuracy loss: 3.37 | fairness loss 483.53 | Equal Opportunity Disparity = 0.27\n",
      "Client 3: accuracy loss: 2.69 | fairness loss 600.23 | Equal Opportunity Disparity = 0.35\n",
      " \n",
      "Avg Training Stats after 3 Testing rounds:\n",
      "Training loss: -15.49 | Validation accuracy: 85.95% | Validation Equal Opportunity Disparity: 0.3624\n",
      "\n",
      " | Global Round : 1 | constraint :  Cov(z, d | y = 1) < c\n",
      "\n"
     ]
    },
    {
     "name": "stderr",
     "output_type": "stream",
     "text": [
      "\r",
      " 25%|██▌       | 1/4 [00:02<00:08,  2.71s/it]"
     ]
    },
    {
     "name": "stdout",
     "output_type": "stream",
     "text": [
      "Client 1: accuracy loss: 2.81 | fairness loss 344.04 | Equal Opportunity Disparity = 0.21\n",
      "Client 2: accuracy loss: 2.89 | fairness loss 555.66 | Equal Opportunity Disparity = 0.07\n",
      "Client 3: accuracy loss: 2.60 | fairness loss 729.44 | Equal Opportunity Disparity = 0.07\n",
      " \n",
      "Avg Training Stats after 1 global rounds:\n",
      "Training loss: -10.20 | Validation accuracy: 83.56% | Validation Equal Opportunity Disparity: 0.1085\n",
      "\n",
      " | Global Round : 2 | constraint :  Cov(z, d | y = 1) < c\n",
      "\n"
     ]
    },
    {
     "name": "stderr",
     "output_type": "stream",
     "text": [
      "\r",
      " 50%|█████     | 2/4 [00:05<00:05,  2.67s/it]"
     ]
    },
    {
     "name": "stdout",
     "output_type": "stream",
     "text": [
      "Client 1: accuracy loss: 2.80 | fairness loss 394.22 | Equal Opportunity Disparity = 0.21\n",
      "Client 2: accuracy loss: 2.89 | fairness loss 636.50 | Equal Opportunity Disparity = 0.11\n",
      "Client 3: accuracy loss: 2.60 | fairness loss 834.85 | Equal Opportunity Disparity = 0.07\n",
      " \n",
      "Avg Training Stats after 2 global rounds:\n",
      "Training loss: -6.38 | Validation accuracy: 82.91% | Validation Equal Opportunity Disparity: 0.1257\n",
      "\n",
      " | Global Round : 3 | constraint :  Cov(z, d | y = 1) < c\n",
      "\n"
     ]
    },
    {
     "name": "stderr",
     "output_type": "stream",
     "text": [
      "\r",
      " 75%|███████▌  | 3/4 [00:08<00:02,  2.69s/it]"
     ]
    },
    {
     "name": "stdout",
     "output_type": "stream",
     "text": [
      "Client 1: accuracy loss: 2.80 | fairness loss 447.91 | Equal Opportunity Disparity = 0.17\n",
      "Client 2: accuracy loss: 2.89 | fairness loss 723.00 | Equal Opportunity Disparity = 0.06\n",
      "Client 3: accuracy loss: 2.60 | fairness loss 947.59 | Equal Opportunity Disparity = 0.05\n",
      " \n",
      "Avg Training Stats after 3 global rounds:\n",
      "Training loss: -3.56 | Validation accuracy: 80.66% | Validation Equal Opportunity Disparity: 0.0886\n",
      "\n",
      " | Global Round : 4 | constraint :  Cov(z, d | y = 1) < c\n",
      "\n"
     ]
    },
    {
     "name": "stderr",
     "output_type": "stream",
     "text": [
      "100%|██████████| 4/4 [00:11<00:00,  2.76s/it]"
     ]
    },
    {
     "name": "stdout",
     "output_type": "stream",
     "text": [
      "Client 1: accuracy loss: 2.80 | fairness loss 505.12 | Equal Opportunity Disparity = 0.11\n",
      "Client 2: accuracy loss: 2.89 | fairness loss 815.18 | Equal Opportunity Disparity = 0.04\n",
      "Client 3: accuracy loss: 2.60 | fairness loss 1067.68 | Equal Opportunity Disparity = 0.00\n",
      " \n",
      "Avg Training Stats after 4 global rounds:\n",
      "Training loss: -1.42 | Validation accuracy: 78.09% | Validation Equal Opportunity Disparity: 0.0463\n",
      " \n",
      " Results after 4 global rounds of training:\n",
      "|---- Avg Train Accuracy: 78.09%\n",
      "|---- Test Accuracy: 75.00%\n",
      "|---- Test Equal Opportunity Disparity: 0.3935\n",
      "\n",
      " Total Run Time: 28.5049 sec\n"
     ]
    },
    {
     "name": "stderr",
     "output_type": "stream",
     "text": [
      "\n"
     ]
    }
   ],
   "source": [
    "seed = 452\n",
    "synthetic_info = dataGenerate(seed = seed, test_samples = 100)\n",
    "server = Server(logReg(num_features=3, num_classes=2, seed = seed), synthetic_info, train_prn = False, seed = seed)\n",
    "server.FairConstraints(test_rounds = 3, test_lr = 0.005, test_penalty = 80, num_rounds = 4, local_epochs = 30, optimizer = 'adam', learning_rate = 0.003, penalty = 10)\n"
   ]
  },
  {
   "cell_type": "code",
   "execution_count": 6,
   "metadata": {
    "scrolled": true
   },
   "outputs": [
    {
     "name": "stderr",
     "output_type": "stream",
     "text": [
      "\r",
      "  0%|          | 0/1 [00:00<?, ?it/s]"
     ]
    },
    {
     "name": "stdout",
     "output_type": "stream",
     "text": [
      "\n",
      " | Global Training Round : 1 |\n",
      "\n"
     ]
    },
    {
     "name": "stderr",
     "output_type": "stream",
     "text": [
      "100%|██████████| 1/1 [00:02<00:00,  2.24s/it]\n",
      "  0%|          | 0/9 [00:00<?, ?it/s]"
     ]
    },
    {
     "name": "stdout",
     "output_type": "stream",
     "text": [
      "Client 1: accuracy loss: 2.71 | fairness loss 478.94 | Equal Opportunity Disparity = 0.28\n",
      "Client 2: accuracy loss: 2.91 | fairness loss 779.25 | Equal Opportunity Disparity = 0.14\n",
      "Client 3: accuracy loss: 2.62 | fairness loss 856.99 | Equal Opportunity Disparity = 0.19\n",
      " \n",
      "Avg Training Stats after 1 global rounds:\n",
      "Training loss: 39.69 | Validation accuracy: 86.17% | Validation Equal Opportunity Disparity: 0.2063\n",
      " \n",
      " Results after 1 global rounds of training:\n",
      "|---- Avg Train Accuracy: 86.17%\n",
      "|---- Test Accuracy: 82.00%\n",
      "|---- Test Equal Opportunity Disparity: 0.6226\n",
      "\n",
      " Total Run Time: 2.2678 sec\n",
      "\n",
      " | Global Training Round : 1 |\n",
      "\n"
     ]
    },
    {
     "name": "stderr",
     "output_type": "stream",
     "text": [
      "\r",
      " 11%|█         | 1/9 [00:03<00:24,  3.10s/it]"
     ]
    },
    {
     "name": "stdout",
     "output_type": "stream",
     "text": [
      "Client 1: predictor loss: 3.40 | adversary loss 0.36 | Equal Opportunity Disparity = 0.24\n",
      "Client 2: predictor loss: 3.00 | adversary loss 0.41 | Equal Opportunity Disparity = 0.17\n",
      "Client 3: predictor loss: 3.19 | adversary loss 0.42 | Equal Opportunity Disparity = 0.30\n",
      " \n",
      "Avg Training Stats after 1 global rounds:\n",
      "Training loss: 20.82 | Validation accuracy: 85.66% | Validation Equal Opportunity Disparity: 0.2526\n",
      "\n",
      " | Global Training Round : 2 |\n",
      "\n"
     ]
    },
    {
     "name": "stderr",
     "output_type": "stream",
     "text": [
      "\r",
      " 22%|██▏       | 2/9 [00:06<00:22,  3.18s/it]"
     ]
    },
    {
     "name": "stdout",
     "output_type": "stream",
     "text": [
      "Client 1: predictor loss: 4.18 | adversary loss 0.43 | Equal Opportunity Disparity = 0.16\n",
      "Client 2: predictor loss: 3.28 | adversary loss 0.54 | Equal Opportunity Disparity = 0.12\n",
      "Client 3: predictor loss: 3.82 | adversary loss 0.57 | Equal Opportunity Disparity = 0.25\n",
      " \n",
      "Avg Training Stats after 2 global rounds:\n",
      "Training loss: 23.13 | Validation accuracy: 83.53% | Validation Equal Opportunity Disparity: 0.1706\n",
      "\n",
      " | Global Training Round : 3 |\n",
      "\n"
     ]
    },
    {
     "name": "stderr",
     "output_type": "stream",
     "text": [
      "\r",
      " 33%|███▎      | 3/9 [00:09<00:19,  3.17s/it]"
     ]
    },
    {
     "name": "stdout",
     "output_type": "stream",
     "text": [
      "Client 1: predictor loss: 5.07 | adversary loss 0.50 | Equal Opportunity Disparity = 0.10\n",
      "Client 2: predictor loss: 3.67 | adversary loss 0.65 | Equal Opportunity Disparity = 0.08\n",
      "Client 3: predictor loss: 4.53 | adversary loss 0.71 | Equal Opportunity Disparity = 0.25\n",
      " \n",
      "Avg Training Stats after 3 global rounds:\n",
      "Training loss: 25.50 | Validation accuracy: 77.92% | Validation Equal Opportunity Disparity: 0.1402\n",
      "\n",
      " | Global Training Round : 4 |\n",
      "\n"
     ]
    },
    {
     "name": "stderr",
     "output_type": "stream",
     "text": [
      "\r",
      " 44%|████▍     | 4/9 [00:13<00:16,  3.29s/it]"
     ]
    },
    {
     "name": "stdout",
     "output_type": "stream",
     "text": [
      "Client 1: predictor loss: 6.12 | adversary loss 0.55 | Equal Opportunity Disparity = 0.04\n",
      "Client 2: predictor loss: 4.18 | adversary loss 0.71 | Equal Opportunity Disparity = 0.04\n",
      "Client 3: predictor loss: 5.35 | adversary loss 0.78 | Equal Opportunity Disparity = 0.23\n",
      " \n",
      "Avg Training Stats after 4 global rounds:\n",
      "Training loss: 28.02 | Validation accuracy: 76.58% | Validation Equal Opportunity Disparity: 0.0913\n",
      "\n",
      " | Global Training Round : 5 |\n",
      "\n"
     ]
    },
    {
     "name": "stderr",
     "output_type": "stream",
     "text": [
      "\r",
      " 56%|█████▌    | 5/9 [00:16<00:12,  3.22s/it]"
     ]
    },
    {
     "name": "stdout",
     "output_type": "stream",
     "text": [
      "Client 1: predictor loss: 7.01 | adversary loss 0.58 | Equal Opportunity Disparity = 0.05\n",
      "Client 2: predictor loss: 4.63 | adversary loss 0.76 | Equal Opportunity Disparity = 0.03\n",
      "Client 3: predictor loss: 6.05 | adversary loss 0.86 | Equal Opportunity Disparity = 0.23\n",
      " \n",
      "Avg Training Stats after 5 global rounds:\n",
      "Training loss: 30.58 | Validation accuracy: 75.06% | Validation Equal Opportunity Disparity: 0.0807\n",
      "\n",
      " | Global Training Round : 6 |\n",
      "\n"
     ]
    },
    {
     "name": "stderr",
     "output_type": "stream",
     "text": [
      "\r",
      " 67%|██████▋   | 6/9 [00:19<00:10,  3.37s/it]"
     ]
    },
    {
     "name": "stdout",
     "output_type": "stream",
     "text": [
      "Client 1: predictor loss: 7.75 | adversary loss 0.59 | Equal Opportunity Disparity = 0.06\n",
      "Client 2: predictor loss: 5.00 | adversary loss 0.79 | Equal Opportunity Disparity = 0.00\n",
      "Client 3: predictor loss: 6.66 | adversary loss 0.91 | Equal Opportunity Disparity = 0.18\n",
      " \n",
      "Avg Training Stats after 6 global rounds:\n",
      "Training loss: 33.06 | Validation accuracy: 73.72% | Validation Equal Opportunity Disparity: 0.0423\n",
      "\n",
      " | Global Training Round : 7 |\n",
      "\n"
     ]
    },
    {
     "name": "stderr",
     "output_type": "stream",
     "text": [
      "\r",
      " 78%|███████▊  | 7/9 [00:23<00:06,  3.44s/it]"
     ]
    },
    {
     "name": "stdout",
     "output_type": "stream",
     "text": [
      "Client 1: predictor loss: 8.27 | adversary loss 0.60 | Equal Opportunity Disparity = 0.08\n",
      "Client 2: predictor loss: 5.28 | adversary loss 0.82 | Equal Opportunity Disparity = 0.00\n",
      "Client 3: predictor loss: 7.06 | adversary loss 0.96 | Equal Opportunity Disparity = 0.15\n",
      " \n",
      "Avg Training Stats after 7 global rounds:\n",
      "Training loss: 35.33 | Validation accuracy: 72.41% | Validation Equal Opportunity Disparity: 0.0265\n",
      "\n",
      " | Global Training Round : 8 |\n",
      "\n"
     ]
    },
    {
     "name": "stderr",
     "output_type": "stream",
     "text": [
      "\r",
      " 89%|████████▉ | 8/9 [00:26<00:03,  3.35s/it]"
     ]
    },
    {
     "name": "stdout",
     "output_type": "stream",
     "text": [
      "Client 1: predictor loss: 8.66 | adversary loss 0.60 | Equal Opportunity Disparity = 0.08\n",
      "Client 2: predictor loss: 5.50 | adversary loss 0.84 | Equal Opportunity Disparity = 0.00\n",
      "Client 3: predictor loss: 7.38 | adversary loss 1.00 | Equal Opportunity Disparity = 0.13\n",
      " \n",
      "Avg Training Stats after 8 global rounds:\n",
      "Training loss: 37.33 | Validation accuracy: 71.69% | Validation Equal Opportunity Disparity: 0.0212\n",
      "\n",
      " | Global Training Round : 9 |\n",
      "\n"
     ]
    },
    {
     "name": "stderr",
     "output_type": "stream",
     "text": [
      "100%|██████████| 9/9 [00:29<00:00,  3.30s/it]"
     ]
    },
    {
     "name": "stdout",
     "output_type": "stream",
     "text": [
      "Client 1: predictor loss: 8.93 | adversary loss 0.59 | Equal Opportunity Disparity = 0.11\n",
      "Client 2: predictor loss: 5.64 | adversary loss 0.86 | Equal Opportunity Disparity = 0.05\n",
      "Client 3: predictor loss: 7.59 | adversary loss 1.03 | Equal Opportunity Disparity = 0.13\n",
      " \n",
      "Avg Training Stats after 9 global rounds:\n",
      "Training loss: 39.09 | Validation accuracy: 71.07% | Validation Equal Opportunity Disparity: 0.0331\n",
      " \n",
      " Results after 9 global rounds of training:\n",
      "|---- Avg Train Accuracy: 71.07%\n",
      "|---- Test Accuracy: 60.00%\n",
      "|---- Test Equal Opportunity Disparity: 0.2613\n",
      "\n",
      " Total Run Time: 29.7055 sec\n"
     ]
    },
    {
     "name": "stderr",
     "output_type": "stream",
     "text": [
      "\n"
     ]
    }
   ],
   "source": [
    "seed = 452\n",
    "synthetic_info = dataGenerate(seed = seed, test_samples = 100)\n",
    "server = Server(logReg(num_features=3, num_classes=2, seed = seed), synthetic_info, train_prn = False, seed = seed)\n",
    "server.Unconstrained(num_rounds = 1, local_epochs = 30, optimizer = 'adam', learning_rate = 0.01)\n",
    "server.AdversarialLearning(num_rounds = 9, local_epochs = 30, optimizer = 'adam', epsilon = None, learning_rate = 0.005, alpha = 0.5, adaptive_lr = True)"
   ]
  },
  {
   "cell_type": "code",
   "execution_count": 8,
   "metadata": {
    "scrolled": true
   },
   "outputs": [
    {
     "name": "stderr",
     "output_type": "stream",
     "text": [
      "\r",
      "  0%|          | 0/10 [00:00<?, ?it/s]"
     ]
    },
    {
     "name": "stdout",
     "output_type": "stream",
     "text": [
      "\n",
      " | Global Training Round : 1 |\n",
      "\n"
     ]
    },
    {
     "name": "stderr",
     "output_type": "stream",
     "text": [
      "\r",
      " 10%|█         | 1/10 [00:02<00:22,  2.55s/it]"
     ]
    },
    {
     "name": "stdout",
     "output_type": "stream",
     "text": [
      "Client 1: predictor loss: 3.24 | adversary loss 0.20 | Equal Opportunity Disparity = 0.43\n",
      "Client 2: predictor loss: 2.45 | adversary loss 0.28 | Equal Opportunity Disparity = 0.15\n",
      "Client 3: predictor loss: 2.78 | adversary loss 0.30 | Equal Opportunity Disparity = 0.21\n",
      " \n",
      "Avg Training Stats after 1 global rounds:\n",
      "Training loss: 0.30 | Validation accuracy: 87.40% | Validation Equal Opportunity Disparity: 0.2019\n",
      "\n",
      " | Global Training Round : 2 |\n",
      "\n"
     ]
    },
    {
     "name": "stderr",
     "output_type": "stream",
     "text": [
      "\r",
      " 20%|██        | 2/10 [00:05<00:20,  2.59s/it]"
     ]
    },
    {
     "name": "stdout",
     "output_type": "stream",
     "text": [
      "Client 1: predictor loss: 3.27 | adversary loss 0.22 | Equal Opportunity Disparity = 0.38\n",
      "Client 2: predictor loss: 2.45 | adversary loss 0.29 | Equal Opportunity Disparity = 0.15\n",
      "Client 3: predictor loss: 2.80 | adversary loss 0.30 | Equal Opportunity Disparity = 0.21\n",
      " \n",
      "Avg Training Stats after 2 global rounds:\n",
      "Training loss: 0.30 | Validation accuracy: 86.66% | Validation Equal Opportunity Disparity: 0.1810\n",
      "\n",
      " | Global Training Round : 3 |\n",
      "\n"
     ]
    },
    {
     "name": "stderr",
     "output_type": "stream",
     "text": [
      "\r",
      " 30%|███       | 3/10 [00:07<00:18,  2.64s/it]"
     ]
    },
    {
     "name": "stdout",
     "output_type": "stream",
     "text": [
      "Client 1: predictor loss: 4.23 | adversary loss 0.43 | Equal Opportunity Disparity = 0.15\n",
      "Client 2: predictor loss: 2.94 | adversary loss 0.70 | Equal Opportunity Disparity = 0.15\n",
      "Client 3: predictor loss: 3.43 | adversary loss 0.73 | Equal Opportunity Disparity = 0.08\n",
      " \n",
      "Avg Training Stats after 3 global rounds:\n",
      "Training loss: 0.31 | Validation accuracy: 82.45% | Validation Equal Opportunity Disparity: 0.0872\n",
      "\n",
      " | Global Training Round : 4 |\n",
      "\n"
     ]
    },
    {
     "name": "stderr",
     "output_type": "stream",
     "text": [
      "\r",
      " 40%|████      | 4/10 [00:10<00:15,  2.64s/it]"
     ]
    },
    {
     "name": "stdout",
     "output_type": "stream",
     "text": [
      "Client 1: predictor loss: 5.70 | adversary loss 0.51 | Equal Opportunity Disparity = 0.21\n",
      "Client 2: predictor loss: 4.66 | adversary loss 0.88 | Equal Opportunity Disparity = 0.00\n",
      "Client 3: predictor loss: 5.00 | adversary loss 0.90 | Equal Opportunity Disparity = 0.04\n",
      " \n",
      "Avg Training Stats after 4 global rounds:\n",
      "Training loss: 0.36 | Validation accuracy: 73.44% | Validation Equal Opportunity Disparity: 0.0714\n",
      "\n",
      " | Global Training Round : 5 |\n",
      "\n"
     ]
    },
    {
     "name": "stderr",
     "output_type": "stream",
     "text": [
      "\r",
      " 50%|█████     | 5/10 [00:13<00:13,  2.63s/it]"
     ]
    },
    {
     "name": "stdout",
     "output_type": "stream",
     "text": [
      "Client 1: predictor loss: 4.53 | adversary loss 0.51 | Equal Opportunity Disparity = 0.16\n",
      "Client 2: predictor loss: 3.22 | adversary loss 0.93 | Equal Opportunity Disparity = 0.06\n",
      "Client 3: predictor loss: 3.66 | adversary loss 0.96 | Equal Opportunity Disparity = 0.08\n",
      " \n",
      "Avg Training Stats after 5 global rounds:\n",
      "Training loss: 0.41 | Validation accuracy: 81.55% | Validation Equal Opportunity Disparity: 0.0301\n",
      "\n",
      " | Global Training Round : 6 |\n",
      "\n"
     ]
    },
    {
     "name": "stderr",
     "output_type": "stream",
     "text": [
      "\r",
      " 60%|██████    | 6/10 [00:15<00:10,  2.64s/it]"
     ]
    },
    {
     "name": "stdout",
     "output_type": "stream",
     "text": [
      "Client 1: predictor loss: 4.68 | adversary loss 0.50 | Equal Opportunity Disparity = 0.19\n",
      "Client 2: predictor loss: 3.38 | adversary loss 0.92 | Equal Opportunity Disparity = 0.06\n",
      "Client 3: predictor loss: 3.80 | adversary loss 0.94 | Equal Opportunity Disparity = 0.02\n",
      " \n",
      "Avg Training Stats after 6 global rounds:\n",
      "Training loss: 0.42 | Validation accuracy: 80.77% | Validation Equal Opportunity Disparity: 0.0037\n",
      "\n",
      " | Global Training Round : 7 |\n",
      "\n"
     ]
    },
    {
     "name": "stderr",
     "output_type": "stream",
     "text": [
      "\r",
      " 70%|███████   | 7/10 [00:18<00:08,  2.67s/it]"
     ]
    },
    {
     "name": "stdout",
     "output_type": "stream",
     "text": [
      "Client 1: predictor loss: 4.74 | adversary loss 0.52 | Equal Opportunity Disparity = 0.19\n",
      "Client 2: predictor loss: 3.46 | adversary loss 0.96 | Equal Opportunity Disparity = 0.06\n",
      "Client 3: predictor loss: 3.87 | adversary loss 0.98 | Equal Opportunity Disparity = 0.04\n",
      " \n",
      "Avg Training Stats after 7 global rounds:\n",
      "Training loss: 0.43 | Validation accuracy: 80.49% | Validation Equal Opportunity Disparity: 0.0271\n",
      "\n",
      " | Global Training Round : 8 |\n",
      "\n"
     ]
    },
    {
     "name": "stderr",
     "output_type": "stream",
     "text": [
      "\r",
      " 80%|████████  | 8/10 [00:21<00:05,  2.68s/it]"
     ]
    },
    {
     "name": "stdout",
     "output_type": "stream",
     "text": [
      "Client 1: predictor loss: 4.59 | adversary loss 0.55 | Equal Opportunity Disparity = 0.18\n",
      "Client 2: predictor loss: 3.29 | adversary loss 1.01 | Equal Opportunity Disparity = 0.06\n",
      "Client 3: predictor loss: 3.73 | adversary loss 1.03 | Equal Opportunity Disparity = 0.08\n",
      " \n",
      "Avg Training Stats after 8 global rounds:\n",
      "Training loss: 0.44 | Validation accuracy: 80.98% | Validation Equal Opportunity Disparity: 0.0248\n",
      "\n",
      " | Global Training Round : 9 |\n",
      "\n"
     ]
    },
    {
     "name": "stderr",
     "output_type": "stream",
     "text": [
      "\r",
      " 90%|█████████ | 9/10 [00:24<00:02,  2.73s/it]"
     ]
    },
    {
     "name": "stdout",
     "output_type": "stream",
     "text": [
      "Client 1: predictor loss: 5.04 | adversary loss 0.52 | Equal Opportunity Disparity = 0.19\n",
      "Client 2: predictor loss: 3.80 | adversary loss 0.95 | Equal Opportunity Disparity = 0.06\n",
      "Client 3: predictor loss: 4.19 | adversary loss 0.97 | Equal Opportunity Disparity = 0.04\n",
      " \n",
      "Avg Training Stats after 9 global rounds:\n",
      "Training loss: 0.44 | Validation accuracy: 78.16% | Validation Equal Opportunity Disparity: 0.0271\n",
      "\n",
      " | Global Training Round : 10 |\n",
      "\n"
     ]
    },
    {
     "name": "stderr",
     "output_type": "stream",
     "text": [
      "100%|██████████| 10/10 [00:30<00:00,  3.02s/it]"
     ]
    },
    {
     "name": "stdout",
     "output_type": "stream",
     "text": [
      "Client 1: predictor loss: 4.57 | adversary loss 0.52 | Equal Opportunity Disparity = 0.16\n",
      "Client 2: predictor loss: 3.25 | adversary loss 0.95 | Equal Opportunity Disparity = 0.06\n",
      "Client 3: predictor loss: 3.70 | adversary loss 0.98 | Equal Opportunity Disparity = 0.08\n",
      " \n",
      "Avg Training Stats after 10 global rounds:\n",
      "Training loss: 0.45 | Validation accuracy: 81.55% | Validation Equal Opportunity Disparity: 0.0301\n",
      " \n",
      " Results after 10 global rounds of training:\n",
      "|---- Avg Train Accuracy: 81.55%\n",
      "|---- Test Accuracy: 81.00%\n",
      "|---- Test Equal Opportunity Disparity: 0.0881\n",
      "\n",
      " Total Run Time: 30.1898 sec\n"
     ]
    },
    {
     "name": "stderr",
     "output_type": "stream",
     "text": [
      "\n"
     ]
    }
   ],
   "source": [
    "seed = 95\n",
    "synthetic_info = dataGenerate(seed = seed, test_samples = 100)\n",
    "server = Server(logReg(num_features=3, num_classes=2, seed = seed), synthetic_info, train_prn = False, seed = seed)\n",
    "server.FTrain(num_rounds = 10, local_epochs = 30, init_epochs = 50, lr_g = 0.005, lr_d = 0.01, lambda_d = 1)\n"
   ]
  },
  {
   "cell_type": "code",
   "execution_count": 4,
   "metadata": {
    "scrolled": true
   },
   "outputs": [
    {
     "name": "stderr",
     "output_type": "stream",
     "text": [
      "\n",
      "  0%|          | 0/4 [00:00<?, ?it/s]\u001b[A"
     ]
    },
    {
     "name": "stdout",
     "output_type": "stream",
     "text": [
      "\n",
      " | Testing Round : 1 | constraint :  Cov(z, d | y = 1) < c\n",
      "\n"
     ]
    },
    {
     "name": "stderr",
     "output_type": "stream",
     "text": [
      "\n",
      " 25%|██▌       | 1/4 [00:03<00:11,  3.78s/it]\u001b[A"
     ]
    },
    {
     "name": "stdout",
     "output_type": "stream",
     "text": [
      "Client 1: accuracy loss: 3.52 | fairness loss 540.99 | Equal Opportunity Disparity = 0.54\n",
      "Client 2: accuracy loss: 2.46 | fairness loss 1000.22 | Equal Opportunity Disparity = 0.21\n",
      "Client 3: accuracy loss: 2.97 | fairness loss 794.28 | Equal Opportunity Disparity = 0.18\n",
      " \n",
      "Avg Training Stats after 1 Testing rounds:\n",
      "Training loss: -60.56 | Validation accuracy: 62.96% | Validation Equal Opportunity Disparity: 0.2636\n",
      "\n",
      " | Testing Round : 2 | constraint :  Cov(z, d | y = 1) < c\n",
      "\n"
     ]
    },
    {
     "name": "stderr",
     "output_type": "stream",
     "text": [
      "\n",
      " 50%|█████     | 2/4 [00:07<00:07,  3.83s/it]\u001b[A"
     ]
    },
    {
     "name": "stdout",
     "output_type": "stream",
     "text": [
      "Client 1: accuracy loss: 3.64 | fairness loss 2059.59 | Equal Opportunity Disparity = 0.82\n",
      "Client 2: accuracy loss: 2.43 | fairness loss 3825.52 | Equal Opportunity Disparity = 0.51\n",
      "Client 3: accuracy loss: 3.09 | fairness loss 3031.68 | Equal Opportunity Disparity = 0.37\n",
      " \n",
      "Avg Training Stats after 2 Testing rounds:\n",
      "Training loss: -158.39 | Validation accuracy: 45.88% | Validation Equal Opportunity Disparity: 0.5230\n",
      "\n",
      " | Testing Round : 3 | constraint :  Cov(z, d | y = 1) < c\n",
      "\n"
     ]
    },
    {
     "name": "stderr",
     "output_type": "stream",
     "text": [
      "\n",
      " 75%|███████▌  | 3/4 [00:11<00:03,  3.83s/it]\u001b[A"
     ]
    },
    {
     "name": "stdout",
     "output_type": "stream",
     "text": [
      "Client 1: accuracy loss: 3.72 | fairness loss 4562.70 | Equal Opportunity Disparity = 0.91\n",
      "Client 2: accuracy loss: 2.41 | fairness loss 8488.01 | Equal Opportunity Disparity = 0.50\n",
      "Client 3: accuracy loss: 3.18 | fairness loss 6721.86 | Equal Opportunity Disparity = 0.21\n",
      " \n",
      "Avg Training Stats after 3 Testing rounds:\n",
      "Training loss: -256.28 | Validation accuracy: 42.92% | Validation Equal Opportunity Disparity: 0.4820\n",
      "\n",
      " | Testing Round : 4 | constraint :  Cov(z, d | y = 1) < c\n",
      "\n"
     ]
    },
    {
     "name": "stderr",
     "output_type": "stream",
     "text": [
      "\n",
      "100%|██████████| 4/4 [00:15<00:00,  3.80s/it]\u001b[A\n",
      "\n",
      "  0%|          | 0/4 [00:00<?, ?it/s]\u001b[A"
     ]
    },
    {
     "name": "stdout",
     "output_type": "stream",
     "text": [
      "Client 1: accuracy loss: 3.79 | fairness loss 8051.07 | Equal Opportunity Disparity = 0.94\n",
      "Client 2: accuracy loss: 2.40 | fairness loss 14988.92 | Equal Opportunity Disparity = 0.39\n",
      "Client 3: accuracy loss: 3.26 | fairness loss 11865.83 | Equal Opportunity Disparity = 0.25\n",
      " \n",
      "Avg Training Stats after 4 Testing rounds:\n",
      "Training loss: -354.21 | Validation accuracy: 40.74% | Validation Equal Opportunity Disparity: 0.4329\n",
      "\n",
      " | Testing Round : 1 | constraint :  Cov(z, d | y = 1) > -c\n",
      "\n"
     ]
    },
    {
     "name": "stderr",
     "output_type": "stream",
     "text": [
      "\n",
      " 25%|██▌       | 1/4 [00:03<00:11,  3.74s/it]\u001b[A"
     ]
    },
    {
     "name": "stdout",
     "output_type": "stream",
     "text": [
      "Client 1: accuracy loss: 3.48 | fairness loss 413.65 | Equal Opportunity Disparity = 0.43\n",
      "Client 2: accuracy loss: 2.97 | fairness loss 789.50 | Equal Opportunity Disparity = 0.26\n",
      "Client 3: accuracy loss: 3.05 | fairness loss 620.07 | Equal Opportunity Disparity = 0.27\n",
      " \n",
      "Avg Training Stats after 1 Testing rounds:\n",
      "Training loss: -295.98 | Validation accuracy: 86.70% | Validation Equal Opportunity Disparity: 0.2953\n",
      "\n",
      " | Testing Round : 2 | constraint :  Cov(z, d | y = 1) > -c\n",
      "\n"
     ]
    },
    {
     "name": "stderr",
     "output_type": "stream",
     "text": [
      "\n",
      " 50%|█████     | 2/4 [00:07<00:07,  3.75s/it]\u001b[A"
     ]
    },
    {
     "name": "stdout",
     "output_type": "stream",
     "text": [
      "Client 1: accuracy loss: 3.77 | fairness loss 1821.71 | Equal Opportunity Disparity = 0.66\n",
      "Client 2: accuracy loss: 3.35 | fairness loss 3445.60 | Equal Opportunity Disparity = 0.33\n",
      "Client 3: accuracy loss: 3.30 | fairness loss 2713.25 | Equal Opportunity Disparity = 0.27\n",
      " \n",
      "Avg Training Stats after 2 Testing rounds:\n",
      "Training loss: -290.08 | Validation accuracy: 85.76% | Validation Equal Opportunity Disparity: 0.3653\n",
      "\n",
      " | Testing Round : 3 | constraint :  Cov(z, d | y = 1) > -c\n",
      "\n"
     ]
    },
    {
     "name": "stderr",
     "output_type": "stream",
     "text": [
      "\n",
      " 75%|███████▌  | 3/4 [00:11<00:03,  3.75s/it]\u001b[A"
     ]
    },
    {
     "name": "stdout",
     "output_type": "stream",
     "text": [
      "Client 1: accuracy loss: 4.00 | fairness loss 4241.54 | Equal Opportunity Disparity = 0.65\n",
      "Client 2: accuracy loss: 3.64 | fairness loss 8002.07 | Equal Opportunity Disparity = 0.27\n",
      "Client 3: accuracy loss: 3.49 | fairness loss 6305.69 | Equal Opportunity Disparity = 0.18\n",
      " \n",
      "Avg Training Stats after 3 Testing rounds:\n",
      "Training loss: -314.26 | Validation accuracy: 82.56% | Validation Equal Opportunity Disparity: 0.3182\n",
      "\n",
      " | Testing Round : 4 | constraint :  Cov(z, d | y = 1) > -c\n",
      "\n"
     ]
    },
    {
     "name": "stderr",
     "output_type": "stream",
     "text": [
      "\n",
      "100%|██████████| 4/4 [00:14<00:00,  3.75s/it]\u001b[A\n",
      "\n",
      "  0%|          | 0/10 [00:00<?, ?it/s]\u001b[A"
     ]
    },
    {
     "name": "stdout",
     "output_type": "stream",
     "text": [
      "Client 1: accuracy loss: 4.20 | fairness loss 7672.77 | Equal Opportunity Disparity = 0.55\n",
      "Client 2: accuracy loss: 3.87 | fairness loss 14458.68 | Equal Opportunity Disparity = 0.13\n",
      "Client 3: accuracy loss: 3.64 | fairness loss 11396.91 | Equal Opportunity Disparity = 0.05\n",
      " \n",
      "Avg Training Stats after 4 Testing rounds:\n",
      "Training loss: -357.22 | Validation accuracy: 74.98% | Validation Equal Opportunity Disparity: 0.1978\n",
      "\n",
      " | Global Round : 1 | constraint :  Cov(z, d | y = 1) > -c\n",
      "\n"
     ]
    },
    {
     "name": "stderr",
     "output_type": "stream",
     "text": [
      "\n",
      " 10%|█         | 1/10 [00:03<00:33,  3.69s/it]\u001b[A"
     ]
    },
    {
     "name": "stdout",
     "output_type": "stream",
     "text": [
      "Client 1: accuracy loss: 3.24 | fairness loss 7722.60 | Equal Opportunity Disparity = 0.22\n",
      "Client 2: accuracy loss: 2.73 | fairness loss 14548.70 | Equal Opportunity Disparity = 0.13\n",
      "Client 3: accuracy loss: 2.68 | fairness loss 11469.33 | Equal Opportunity Disparity = 0.03\n",
      " \n",
      "Avg Training Stats after 1 global rounds:\n",
      "Training loss: -318.64 | Validation accuracy: 73.55% | Validation Equal Opportunity Disparity: 0.1325\n",
      "\n",
      " | Global Round : 2 | constraint :  Cov(z, d | y = 1) > -c\n",
      "\n"
     ]
    },
    {
     "name": "stderr",
     "output_type": "stream",
     "text": [
      "\n",
      " 20%|██        | 2/10 [00:07<00:29,  3.73s/it]\u001b[A"
     ]
    },
    {
     "name": "stdout",
     "output_type": "stream",
     "text": [
      "Client 1: accuracy loss: 3.22 | fairness loss 7867.52 | Equal Opportunity Disparity = 0.21\n",
      "Client 2: accuracy loss: 2.60 | fairness loss 14818.97 | Equal Opportunity Disparity = 0.11\n",
      "Client 3: accuracy loss: 2.71 | fairness loss 11683.39 | Equal Opportunity Disparity = 0.03\n",
      " \n",
      "Avg Training Stats after 2 global rounds:\n",
      "Training loss: -288.19 | Validation accuracy: 72.54% | Validation Equal Opportunity Disparity: 0.1221\n",
      "\n",
      " | Global Round : 3 | constraint :  Cov(z, d | y = 1) > -c\n",
      "\n"
     ]
    },
    {
     "name": "stderr",
     "output_type": "stream",
     "text": [
      "\n",
      " 30%|███       | 3/10 [00:11<00:26,  3.73s/it]\u001b[A"
     ]
    },
    {
     "name": "stdout",
     "output_type": "stream",
     "text": [
      "Client 1: accuracy loss: 3.22 | fairness loss 8017.79 | Equal Opportunity Disparity = 0.20\n",
      "Client 2: accuracy loss: 2.54 | fairness loss 15097.84 | Equal Opportunity Disparity = 0.04\n",
      "Client 3: accuracy loss: 2.74 | fairness loss 11904.31 | Equal Opportunity Disparity = 0.03\n",
      " \n",
      "Avg Training Stats after 3 global rounds:\n",
      "Training loss: -263.34 | Validation accuracy: 72.58% | Validation Equal Opportunity Disparity: 0.0702\n",
      "\n",
      " | Global Round : 4 | constraint :  Cov(z, d | y = 1) > -c\n",
      "\n"
     ]
    },
    {
     "name": "stderr",
     "output_type": "stream",
     "text": [
      "\n",
      " 40%|████      | 4/10 [00:15<00:22,  3.77s/it]\u001b[A"
     ]
    },
    {
     "name": "stdout",
     "output_type": "stream",
     "text": [
      "Client 1: accuracy loss: 3.23 | fairness loss 8170.03 | Equal Opportunity Disparity = 0.19\n",
      "Client 2: accuracy loss: 2.51 | fairness loss 15379.95 | Equal Opportunity Disparity = 0.05\n",
      "Client 3: accuracy loss: 2.75 | fairness loss 12127.83 | Equal Opportunity Disparity = 0.03\n",
      " \n",
      "Avg Training Stats after 4 global rounds:\n",
      "Training loss: -242.68 | Validation accuracy: 72.22% | Validation Equal Opportunity Disparity: 0.0130\n",
      "\n",
      " | Global Round : 5 | constraint :  Cov(z, d | y = 1) > -c\n",
      "\n"
     ]
    },
    {
     "name": "stderr",
     "output_type": "stream",
     "text": [
      "\n",
      " 50%|█████     | 5/10 [00:18<00:18,  3.77s/it]\u001b[A"
     ]
    },
    {
     "name": "stdout",
     "output_type": "stream",
     "text": [
      "Client 1: accuracy loss: 3.23 | fairness loss 8323.83 | Equal Opportunity Disparity = 0.19\n",
      "Client 2: accuracy loss: 2.50 | fairness loss 15664.79 | Equal Opportunity Disparity = 0.09\n",
      "Client 3: accuracy loss: 2.76 | fairness loss 12353.53 | Equal Opportunity Disparity = 0.01\n",
      " \n",
      "Avg Training Stats after 5 global rounds:\n",
      "Training loss: -225.23 | Validation accuracy: 72.15% | Validation Equal Opportunity Disparity: 0.0156\n",
      "\n",
      " | Global Round : 6 | constraint :  Cov(z, d | y = 1) > -c\n",
      "\n"
     ]
    },
    {
     "name": "stderr",
     "output_type": "stream",
     "text": [
      "\n",
      " 60%|██████    | 6/10 [00:22<00:15,  3.79s/it]\u001b[A"
     ]
    },
    {
     "name": "stdout",
     "output_type": "stream",
     "text": [
      "Client 1: accuracy loss: 3.23 | fairness loss 8479.11 | Equal Opportunity Disparity = 0.16\n",
      "Client 2: accuracy loss: 2.49 | fairness loss 15952.32 | Equal Opportunity Disparity = 0.13\n",
      "Client 3: accuracy loss: 2.77 | fairness loss 12581.37 | Equal Opportunity Disparity = 0.01\n",
      " \n",
      "Avg Training Stats after 6 global rounds:\n",
      "Training loss: -210.31 | Validation accuracy: 70.92% | Validation Equal Opportunity Disparity: 0.0417\n",
      "\n",
      " | Global Round : 7 | constraint :  Cov(z, d | y = 1) > -c\n",
      "\n"
     ]
    },
    {
     "name": "stderr",
     "output_type": "stream",
     "text": [
      "\n",
      " 70%|███████   | 7/10 [00:26<00:11,  3.77s/it]\u001b[A"
     ]
    },
    {
     "name": "stdout",
     "output_type": "stream",
     "text": [
      "Client 1: accuracy loss: 3.24 | fairness loss 8635.89 | Equal Opportunity Disparity = 0.15\n",
      "Client 2: accuracy loss: 2.49 | fairness loss 16242.53 | Equal Opportunity Disparity = 0.13\n",
      "Client 3: accuracy loss: 2.77 | fairness loss 12811.36 | Equal Opportunity Disparity = 0.01\n",
      " \n",
      "Avg Training Stats after 7 global rounds:\n",
      "Training loss: -197.41 | Validation accuracy: 70.64% | Validation Equal Opportunity Disparity: 0.0470\n",
      "\n",
      " | Global Round : 8 | constraint :  Cov(z, d | y = 1) > -c\n",
      "\n"
     ]
    },
    {
     "name": "stderr",
     "output_type": "stream",
     "text": [
      "\n",
      " 80%|████████  | 8/10 [00:30<00:07,  3.75s/it]\u001b[A"
     ]
    },
    {
     "name": "stdout",
     "output_type": "stream",
     "text": [
      "Client 1: accuracy loss: 3.24 | fairness loss 8794.18 | Equal Opportunity Disparity = 0.15\n",
      "Client 2: accuracy loss: 2.49 | fairness loss 16535.50 | Equal Opportunity Disparity = 0.13\n",
      "Client 3: accuracy loss: 2.77 | fairness loss 13043.53 | Equal Opportunity Disparity = 0.01\n",
      " \n",
      "Avg Training Stats after 8 global rounds:\n",
      "Training loss: -186.16 | Validation accuracy: 70.64% | Validation Equal Opportunity Disparity: 0.0470\n",
      "\n",
      " | Global Round : 9 | constraint :  Cov(z, d | y = 1) > -c\n",
      "\n"
     ]
    },
    {
     "name": "stderr",
     "output_type": "stream",
     "text": [
      "\n",
      " 90%|█████████ | 9/10 [00:33<00:03,  3.77s/it]\u001b[A"
     ]
    },
    {
     "name": "stdout",
     "output_type": "stream",
     "text": [
      "Client 1: accuracy loss: 3.24 | fairness loss 8953.98 | Equal Opportunity Disparity = 0.15\n",
      "Client 2: accuracy loss: 2.49 | fairness loss 16831.22 | Equal Opportunity Disparity = 0.13\n",
      "Client 3: accuracy loss: 2.77 | fairness loss 13277.91 | Equal Opportunity Disparity = 0.01\n",
      " \n",
      "Avg Training Stats after 9 global rounds:\n",
      "Training loss: -176.25 | Validation accuracy: 70.24% | Validation Equal Opportunity Disparity: 0.0522\n",
      "\n",
      " | Global Round : 10 | constraint :  Cov(z, d | y = 1) > -c\n",
      "\n"
     ]
    },
    {
     "name": "stderr",
     "output_type": "stream",
     "text": [
      "\n",
      "100%|██████████| 10/10 [00:37<00:00,  3.76s/it]\u001b[A"
     ]
    },
    {
     "name": "stdout",
     "output_type": "stream",
     "text": [
      "Client 1: accuracy loss: 3.24 | fairness loss 9115.31 | Equal Opportunity Disparity = 0.15\n",
      "Client 2: accuracy loss: 2.49 | fairness loss 17129.72 | Equal Opportunity Disparity = 0.13\n",
      "Client 3: accuracy loss: 2.77 | fairness loss 13514.49 | Equal Opportunity Disparity = 0.01\n",
      " \n",
      "Avg Training Stats after 10 global rounds:\n",
      "Training loss: -167.48 | Validation accuracy: 70.24% | Validation Equal Opportunity Disparity: 0.0522\n",
      " \n",
      " Results after 10 global rounds of training:\n",
      "|---- Avg Train Accuracy: 70.24%\n",
      "|---- Test Accuracy: 72.00%\n",
      "|---- Test Equal Opportunity Disparity: 0.1119\n",
      "\n",
      " Total Run Time: 67.8352 sec\n"
     ]
    },
    {
     "name": "stderr",
     "output_type": "stream",
     "text": [
      "\n"
     ]
    }
   ],
   "source": [
    "seed = 95\n",
    "synthetic_info = dataGenerate(seed = seed, test_samples = 100)\n",
    "server = Server(logReg(num_features=3, num_classes=2, seed = seed), synthetic_info, train_prn = False, seed = seed)\n",
    "server.FairConstraints(test_rounds = 4, test_lr = 0.01, test_penalty = 80, num_rounds = 5, local_epochs = 50, optimizer = 'adam', learning_rate = 0.002, penalty = 5)\n"
   ]
  },
  {
   "cell_type": "code",
   "execution_count": 3,
   "metadata": {
    "scrolled": true
   },
   "outputs": [
    {
     "name": "stderr",
     "output_type": "stream",
     "text": [
      "\r",
      "  0%|          | 0/5 [00:00<?, ?it/s]"
     ]
    },
    {
     "name": "stdout",
     "output_type": "stream",
     "text": [
      "\n",
      " | Global Training Round : 1 |\n",
      "\n"
     ]
    },
    {
     "name": "stderr",
     "output_type": "stream",
     "text": [
      "\r",
      " 20%|██        | 1/5 [00:02<00:09,  2.26s/it]"
     ]
    },
    {
     "name": "stdout",
     "output_type": "stream",
     "text": [
      "Client 1: accuracy loss: 3.16 | fairness loss 204.67 | Equal Opportunity Disparity = 0.28\n",
      "Client 2: accuracy loss: 3.08 | fairness loss 331.36 | Equal Opportunity Disparity = 0.16\n",
      "Client 3: accuracy loss: 2.96 | fairness loss 361.99 | Equal Opportunity Disparity = 0.19\n",
      " \n",
      "Avg Training Stats after 1 global rounds:\n",
      "Training loss: 0.36 | Training accuracy: 86.49% | Training Equal Opportunity Disparity: 0.2116\n",
      "\n",
      " | Global Training Round : 2 |\n",
      "\n"
     ]
    },
    {
     "name": "stderr",
     "output_type": "stream",
     "text": [
      "\r",
      " 40%|████      | 2/5 [00:04<00:06,  2.23s/it]"
     ]
    },
    {
     "name": "stdout",
     "output_type": "stream",
     "text": [
      "Client 1: accuracy loss: 4.87 | fairness loss 51.21 | Equal Opportunity Disparity = 0.18\n",
      "Client 2: accuracy loss: 4.13 | fairness loss 85.61 | Equal Opportunity Disparity = 0.02\n",
      "Client 3: accuracy loss: 4.24 | fairness loss 86.56 | Equal Opportunity Disparity = 0.03\n",
      " \n",
      "Avg Training Stats after 2 global rounds:\n",
      "Training loss: 0.42 | Training accuracy: 84.03% | Training Equal Opportunity Disparity: 0.0317\n",
      "\n",
      " | Global Training Round : 3 |\n",
      "\n"
     ]
    },
    {
     "name": "stderr",
     "output_type": "stream",
     "text": [
      "\r",
      " 60%|██████    | 3/5 [00:06<00:04,  2.29s/it]"
     ]
    },
    {
     "name": "stdout",
     "output_type": "stream",
     "text": [
      "Client 1: accuracy loss: 8.97 | fairness loss 26.43 | Equal Opportunity Disparity = 0.83\n",
      "Client 2: accuracy loss: 7.19 | fairness loss 31.69 | Equal Opportunity Disparity = 0.63\n",
      "Client 3: accuracy loss: 7.56 | fairness loss 29.51 | Equal Opportunity Disparity = 0.64\n",
      " \n",
      "Avg Training Stats after 3 global rounds:\n",
      "Training loss: 0.31 | Training accuracy: 28.35% | Training Equal Opportunity Disparity: 0.7130\n",
      "\n",
      " | Global Training Round : 4 |\n",
      "\n"
     ]
    },
    {
     "name": "stderr",
     "output_type": "stream",
     "text": [
      "\r",
      " 80%|████████  | 4/5 [00:09<00:02,  2.31s/it]"
     ]
    },
    {
     "name": "stdout",
     "output_type": "stream",
     "text": [
      "Client 1: accuracy loss: 7.47 | fairness loss 16.18 | Equal Opportunity Disparity = 0.56\n",
      "Client 2: accuracy loss: 5.89 | fairness loss 22.20 | Equal Opportunity Disparity = 0.31\n",
      "Client 3: accuracy loss: 5.93 | fairness loss 18.80 | Equal Opportunity Disparity = 0.38\n",
      " \n",
      "Avg Training Stats after 4 global rounds:\n",
      "Training loss: 0.33 | Training accuracy: 61.44% | Training Equal Opportunity Disparity: 0.4206\n",
      "\n",
      " | Global Training Round : 5 |\n",
      "\n"
     ]
    },
    {
     "name": "stderr",
     "output_type": "stream",
     "text": [
      "100%|██████████| 5/5 [00:11<00:00,  2.30s/it]"
     ]
    },
    {
     "name": "stdout",
     "output_type": "stream",
     "text": [
      "Client 1: accuracy loss: 5.44 | fairness loss 28.18 | Equal Opportunity Disparity = 0.24\n",
      "Client 2: accuracy loss: 4.39 | fairness loss 54.35 | Equal Opportunity Disparity = 0.03\n",
      "Client 3: accuracy loss: 4.35 | fairness loss 59.48 | Equal Opportunity Disparity = 0.11\n",
      " \n",
      "Avg Training Stats after 5 global rounds:\n",
      "Training loss: 0.35 | Training accuracy: 81.75% | Training Equal Opportunity Disparity: 0.1177\n",
      " \n",
      " Results after 5 global rounds of training:\n",
      "|---- Avg Train Accuracy: 81.75%\n",
      "|---- Test Accuracy: 80.00%\n",
      "|---- Test Equal Opportunity Disparity: 0.0226\n",
      "\n",
      " Total Run Time: 11.4966 sec\n"
     ]
    },
    {
     "name": "stderr",
     "output_type": "stream",
     "text": [
      "\n"
     ]
    }
   ],
   "source": [
    "seed = 452\n",
    "synthetic_info = dataGenerate(seed = seed, test_samples = 100)\n",
    "server = Server(logReg(num_features=3, num_classes=2, seed = seed), synthetic_info, train_prn = False, seed = seed)\n",
    "server.FairBatch(num_rounds = 5, local_epochs = 30, optimizer = 'adam', learning_rate = 0.005, alpha = 0.5)\n"
   ]
  },
  {
   "cell_type": "code",
   "execution_count": 4,
   "metadata": {
    "scrolled": true
   },
   "outputs": [
    {
     "name": "stderr",
     "output_type": "stream",
     "text": [
      "\r",
      "  0%|          | 0/10 [00:00<?, ?it/s]"
     ]
    },
    {
     "name": "stdout",
     "output_type": "stream",
     "text": [
      "\n",
      " | Global Training Round : 1 |\n",
      "\n"
     ]
    },
    {
     "name": "stderr",
     "output_type": "stream",
     "text": [
      "\r",
      " 10%|█         | 1/10 [00:03<00:30,  3.41s/it]"
     ]
    },
    {
     "name": "stdout",
     "output_type": "stream",
     "text": [
      "Client 1: accuracy loss: 3.49 | fairness loss 188.02 | Equal Opportunity Disparity = 0.25\n",
      "Client 2: accuracy loss: 2.86 | fairness loss 210.42 | Equal Opportunity Disparity = 0.09\n",
      "Client 3: accuracy loss: 2.63 | fairness loss 234.84 | Equal Opportunity Disparity = 0.21\n",
      " \n",
      "Avg Training Stats after 1 global rounds:\n",
      "Training loss: 0.34 | Validation accuracy: 90.22% | Validation Equal Opportunity Disparity: 0.1693\n",
      "\n",
      " | Global Training Round : 2 |\n",
      "\n"
     ]
    },
    {
     "name": "stderr",
     "output_type": "stream",
     "text": [
      "\r",
      " 20%|██        | 2/10 [00:06<00:27,  3.38s/it]"
     ]
    },
    {
     "name": "stdout",
     "output_type": "stream",
     "text": [
      "Client 1: accuracy loss: 3.53 | fairness loss 173.63 | Equal Opportunity Disparity = 0.25\n",
      "Client 2: accuracy loss: 2.91 | fairness loss 198.30 | Equal Opportunity Disparity = 0.09\n",
      "Client 3: accuracy loss: 2.69 | fairness loss 219.48 | Equal Opportunity Disparity = 0.21\n",
      " \n",
      "Avg Training Stats after 2 global rounds:\n",
      "Training loss: 0.34 | Validation accuracy: 89.89% | Validation Equal Opportunity Disparity: 0.1693\n",
      "\n",
      " | Global Training Round : 3 |\n",
      "\n"
     ]
    },
    {
     "name": "stderr",
     "output_type": "stream",
     "text": [
      "\r",
      " 30%|███       | 3/10 [00:10<00:23,  3.39s/it]"
     ]
    },
    {
     "name": "stdout",
     "output_type": "stream",
     "text": [
      "Client 1: accuracy loss: 3.59 | fairness loss 160.46 | Equal Opportunity Disparity = 0.12\n",
      "Client 2: accuracy loss: 2.98 | fairness loss 185.90 | Equal Opportunity Disparity = 0.09\n",
      "Client 3: accuracy loss: 2.76 | fairness loss 204.21 | Equal Opportunity Disparity = 0.13\n",
      " \n",
      "Avg Training Stats after 3 global rounds:\n",
      "Training loss: 0.34 | Validation accuracy: 90.87% | Validation Equal Opportunity Disparity: 0.1161\n",
      "\n",
      " | Global Training Round : 4 |\n",
      "\n"
     ]
    },
    {
     "name": "stderr",
     "output_type": "stream",
     "text": [
      "\r",
      " 40%|████      | 4/10 [00:13<00:19,  3.32s/it]"
     ]
    },
    {
     "name": "stdout",
     "output_type": "stream",
     "text": [
      "Client 1: accuracy loss: 3.65 | fairness loss 149.41 | Equal Opportunity Disparity = 0.12\n",
      "Client 2: accuracy loss: 3.06 | fairness loss 175.30 | Equal Opportunity Disparity = 0.09\n",
      "Client 3: accuracy loss: 2.83 | fairness loss 191.06 | Equal Opportunity Disparity = 0.13\n",
      " \n",
      "Avg Training Stats after 4 global rounds:\n",
      "Training loss: 0.34 | Validation accuracy: 89.67% | Validation Equal Opportunity Disparity: 0.1161\n",
      "\n",
      " | Global Training Round : 5 |\n",
      "\n"
     ]
    },
    {
     "name": "stderr",
     "output_type": "stream",
     "text": [
      "\r",
      " 50%|█████     | 5/10 [00:16<00:17,  3.43s/it]"
     ]
    },
    {
     "name": "stdout",
     "output_type": "stream",
     "text": [
      "Client 1: accuracy loss: 3.71 | fairness loss 140.07 | Equal Opportunity Disparity = 0.12\n",
      "Client 2: accuracy loss: 3.13 | fairness loss 166.23 | Equal Opportunity Disparity = 0.09\n",
      "Client 3: accuracy loss: 2.90 | fairness loss 179.76 | Equal Opportunity Disparity = 0.13\n",
      " \n",
      "Avg Training Stats after 5 global rounds:\n",
      "Training loss: 0.34 | Validation accuracy: 89.09% | Validation Equal Opportunity Disparity: 0.1161\n",
      "\n",
      " | Global Training Round : 6 |\n",
      "\n"
     ]
    },
    {
     "name": "stderr",
     "output_type": "stream",
     "text": [
      "\r",
      " 60%|██████    | 6/10 [00:21<00:14,  3.62s/it]"
     ]
    },
    {
     "name": "stdout",
     "output_type": "stream",
     "text": [
      "Client 1: accuracy loss: 3.77 | fairness loss 132.15 | Equal Opportunity Disparity = 0.12\n",
      "Client 2: accuracy loss: 3.21 | fairness loss 158.46 | Equal Opportunity Disparity = 0.09\n",
      "Client 3: accuracy loss: 2.97 | fairness loss 170.07 | Equal Opportunity Disparity = 0.06\n",
      " \n",
      "Avg Training Stats after 6 global rounds:\n",
      "Training loss: 0.34 | Validation accuracy: 89.16% | Validation Equal Opportunity Disparity: 0.0895\n",
      "\n",
      " | Global Training Round : 7 |\n",
      "\n"
     ]
    },
    {
     "name": "stderr",
     "output_type": "stream",
     "text": [
      "\r",
      " 70%|███████   | 7/10 [00:24<00:10,  3.64s/it]"
     ]
    },
    {
     "name": "stdout",
     "output_type": "stream",
     "text": [
      "Client 1: accuracy loss: 3.82 | fairness loss 125.41 | Equal Opportunity Disparity = 0.12\n",
      "Client 2: accuracy loss: 3.28 | fairness loss 151.79 | Equal Opportunity Disparity = 0.09\n",
      "Client 3: accuracy loss: 3.04 | fairness loss 161.76 | Equal Opportunity Disparity = 0.06\n",
      " \n",
      "Avg Training Stats after 7 global rounds:\n",
      "Training loss: 0.34 | Validation accuracy: 89.16% | Validation Equal Opportunity Disparity: 0.0895\n",
      "\n",
      " | Global Training Round : 8 |\n",
      "\n"
     ]
    },
    {
     "name": "stderr",
     "output_type": "stream",
     "text": [
      "\r",
      " 80%|████████  | 8/10 [00:28<00:07,  3.67s/it]"
     ]
    },
    {
     "name": "stdout",
     "output_type": "stream",
     "text": [
      "Client 1: accuracy loss: 3.87 | fairness loss 119.67 | Equal Opportunity Disparity = 0.12\n",
      "Client 2: accuracy loss: 3.34 | fairness loss 146.05 | Equal Opportunity Disparity = 0.09\n",
      "Client 3: accuracy loss: 3.10 | fairness loss 154.62 | Equal Opportunity Disparity = 0.06\n",
      " \n",
      "Avg Training Stats after 8 global rounds:\n",
      "Training loss: 0.34 | Validation accuracy: 88.51% | Validation Equal Opportunity Disparity: 0.0895\n",
      "\n",
      " | Global Training Round : 9 |\n",
      "\n"
     ]
    },
    {
     "name": "stderr",
     "output_type": "stream",
     "text": [
      "\r",
      " 90%|█████████ | 9/10 [00:31<00:03,  3.62s/it]"
     ]
    },
    {
     "name": "stdout",
     "output_type": "stream",
     "text": [
      "Client 1: accuracy loss: 3.92 | fairness loss 114.76 | Equal Opportunity Disparity = 0.12\n",
      "Client 2: accuracy loss: 3.40 | fairness loss 141.07 | Equal Opportunity Disparity = 0.09\n",
      "Client 3: accuracy loss: 3.16 | fairness loss 148.46 | Equal Opportunity Disparity = 0.06\n",
      " \n",
      "Avg Training Stats after 9 global rounds:\n",
      "Training loss: 0.34 | Validation accuracy: 87.93% | Validation Equal Opportunity Disparity: 0.0895\n",
      "\n",
      " | Global Training Round : 10 |\n",
      "\n"
     ]
    },
    {
     "name": "stderr",
     "output_type": "stream",
     "text": [
      "100%|██████████| 10/10 [00:35<00:00,  3.52s/it]"
     ]
    },
    {
     "name": "stdout",
     "output_type": "stream",
     "text": [
      "Client 1: accuracy loss: 3.96 | fairness loss 110.55 | Equal Opportunity Disparity = 0.10\n",
      "Client 2: accuracy loss: 3.46 | fairness loss 136.79 | Equal Opportunity Disparity = 0.09\n",
      "Client 3: accuracy loss: 3.22 | fairness loss 143.16 | Equal Opportunity Disparity = 0.06\n",
      " \n",
      "Avg Training Stats after 10 global rounds:\n",
      "Training loss: 0.34 | Validation accuracy: 87.64% | Validation Equal Opportunity Disparity: 0.0838\n",
      " \n",
      " Results after 10 global rounds of training:\n",
      "|---- Avg Train Accuracy: 87.64%\n",
      "|---- Test Accuracy: 85.00%\n",
      "|---- Test Equal Opportunity Disparity: 0.3180\n",
      "\n",
      " Total Run Time: 35.1614 sec\n"
     ]
    },
    {
     "name": "stderr",
     "output_type": "stream",
     "text": [
      "\n"
     ]
    }
   ],
   "source": [
    "seed = 801\n",
    "synthetic_info = dataGenerate(seed = seed, test_samples = 100)\n",
    "server = Server(logReg(num_features=3, num_classes=2, seed = seed), synthetic_info, train_prn = False, seed = seed)\n",
    "server.BiasCorrecting(num_rounds = 10, local_epochs = 30, optimizer = 'adam', learning_rate = 0.008, alpha = 2)\n"
   ]
  },
  {
   "cell_type": "code",
   "execution_count": 3,
   "metadata": {
    "scrolled": true
   },
   "outputs": [
    {
     "name": "stderr",
     "output_type": "stream",
     "text": [
      "\r",
      "  0%|          | 0/10 [00:00<?, ?it/s]"
     ]
    },
    {
     "name": "stdout",
     "output_type": "stream",
     "text": [
      "\n",
      " | Global Training Round : 1 |\n",
      "\n"
     ]
    },
    {
     "name": "stderr",
     "output_type": "stream",
     "text": [
      "\r",
      " 10%|█         | 1/10 [00:01<00:17,  2.00s/it]"
     ]
    },
    {
     "name": "stdout",
     "output_type": "stream",
     "text": [
      "Client 1: accuracy loss: 3.71 | fairness loss 315.57 | Equal Opportunity Disparity = 0.56\n",
      "Client 2: accuracy loss: 3.91 | fairness loss 261.89 | Equal Opportunity Disparity = 0.51\n",
      "Client 3: accuracy loss: 3.79 | fairness loss 357.00 | Equal Opportunity Disparity = 0.58\n",
      " \n",
      "Avg Training Stats after 1 global rounds:\n",
      "Training loss: 55.04 | Validation accuracy: 80.27% | Validation Equal Opportunity Disparity: 0.5858\n",
      "\n",
      " | Global Training Round : 2 |\n",
      "\n"
     ]
    },
    {
     "name": "stderr",
     "output_type": "stream",
     "text": [
      "\r",
      " 20%|██        | 2/10 [00:04<00:16,  2.01s/it]"
     ]
    },
    {
     "name": "stdout",
     "output_type": "stream",
     "text": [
      "Client 1: accuracy loss: 3.18 | fairness loss 378.74 | Equal Opportunity Disparity = 0.31\n",
      "Client 2: accuracy loss: 3.43 | fairness loss 355.27 | Equal Opportunity Disparity = 0.37\n",
      "Client 3: accuracy loss: 3.40 | fairness loss 487.86 | Equal Opportunity Disparity = 0.42\n",
      " \n",
      "Avg Training Stats after 2 global rounds:\n",
      "Training loss: 47.94 | Validation accuracy: 84.40% | Validation Equal Opportunity Disparity: 0.4057\n",
      "\n",
      " | Global Training Round : 3 |\n",
      "\n"
     ]
    },
    {
     "name": "stderr",
     "output_type": "stream",
     "text": [
      "\r",
      " 30%|███       | 3/10 [00:06<00:14,  2.02s/it]"
     ]
    },
    {
     "name": "stdout",
     "output_type": "stream",
     "text": [
      "Client 1: accuracy loss: 3.06 | fairness loss 496.84 | Equal Opportunity Disparity = 0.30\n",
      "Client 2: accuracy loss: 3.34 | fairness loss 494.62 | Equal Opportunity Disparity = 0.28\n",
      "Client 3: accuracy loss: 3.40 | fairness loss 684.17 | Equal Opportunity Disparity = 0.31\n",
      " \n",
      "Avg Training Stats after 3 global rounds:\n",
      "Training loss: 44.10 | Validation accuracy: 86.38% | Validation Equal Opportunity Disparity: 0.3157\n",
      "\n",
      " | Global Training Round : 4 |\n",
      "\n"
     ]
    },
    {
     "name": "stderr",
     "output_type": "stream",
     "text": [
      "\r",
      " 40%|████      | 4/10 [00:08<00:12,  2.08s/it]"
     ]
    },
    {
     "name": "stdout",
     "output_type": "stream",
     "text": [
      "Client 1: accuracy loss: 3.03 | fairness loss 540.77 | Equal Opportunity Disparity = 0.30\n",
      "Client 2: accuracy loss: 3.32 | fairness loss 544.32 | Equal Opportunity Disparity = 0.28\n",
      "Client 3: accuracy loss: 3.41 | fairness loss 756.35 | Equal Opportunity Disparity = 0.26\n",
      " \n",
      "Avg Training Stats after 4 global rounds:\n",
      "Training loss: 41.97 | Validation accuracy: 86.77% | Validation Equal Opportunity Disparity: 0.2956\n",
      "\n",
      " | Global Training Round : 5 |\n",
      "\n"
     ]
    },
    {
     "name": "stderr",
     "output_type": "stream",
     "text": [
      "\r",
      " 50%|█████     | 5/10 [00:10<00:10,  2.09s/it]"
     ]
    },
    {
     "name": "stdout",
     "output_type": "stream",
     "text": [
      "Client 1: accuracy loss: 3.01 | fairness loss 549.73 | Equal Opportunity Disparity = 0.19\n",
      "Client 2: accuracy loss: 3.30 | fairness loss 553.43 | Equal Opportunity Disparity = 0.28\n",
      "Client 3: accuracy loss: 3.41 | fairness loss 771.76 | Equal Opportunity Disparity = 0.26\n",
      " \n",
      "Avg Training Stats after 5 global rounds:\n",
      "Training loss: 40.65 | Validation accuracy: 87.35% | Validation Equal Opportunity Disparity: 0.2756\n",
      "\n",
      " | Global Training Round : 6 |\n",
      "\n"
     ]
    },
    {
     "name": "stderr",
     "output_type": "stream",
     "text": [
      "\r",
      " 60%|██████    | 6/10 [00:12<00:08,  2.11s/it]"
     ]
    },
    {
     "name": "stdout",
     "output_type": "stream",
     "text": [
      "Client 1: accuracy loss: 2.99 | fairness loss 553.56 | Equal Opportunity Disparity = 0.19\n",
      "Client 2: accuracy loss: 3.29 | fairness loss 556.84 | Equal Opportunity Disparity = 0.28\n",
      "Client 3: accuracy loss: 3.43 | fairness loss 778.76 | Equal Opportunity Disparity = 0.26\n",
      " \n",
      "Avg Training Stats after 6 global rounds:\n",
      "Training loss: 39.76 | Validation accuracy: 86.96% | Validation Equal Opportunity Disparity: 0.2756\n",
      "\n",
      " | Global Training Round : 7 |\n",
      "\n"
     ]
    },
    {
     "name": "stderr",
     "output_type": "stream",
     "text": [
      "\r",
      " 70%|███████   | 7/10 [00:15<00:06,  2.24s/it]"
     ]
    },
    {
     "name": "stdout",
     "output_type": "stream",
     "text": [
      "Client 1: accuracy loss: 2.98 | fairness loss 556.32 | Equal Opportunity Disparity = 0.19\n",
      "Client 2: accuracy loss: 3.28 | fairness loss 559.19 | Equal Opportunity Disparity = 0.28\n",
      "Client 3: accuracy loss: 3.44 | fairness loss 783.82 | Equal Opportunity Disparity = 0.21\n",
      " \n",
      "Avg Training Stats after 7 global rounds:\n",
      "Training loss: 39.11 | Validation accuracy: 87.35% | Validation Equal Opportunity Disparity: 0.2556\n",
      "\n",
      " | Global Training Round : 8 |\n",
      "\n"
     ]
    },
    {
     "name": "stderr",
     "output_type": "stream",
     "text": [
      "\r",
      " 80%|████████  | 8/10 [00:17<00:04,  2.31s/it]"
     ]
    },
    {
     "name": "stdout",
     "output_type": "stream",
     "text": [
      "Client 1: accuracy loss: 2.97 | fairness loss 558.62 | Equal Opportunity Disparity = 0.18\n",
      "Client 2: accuracy loss: 3.27 | fairness loss 561.17 | Equal Opportunity Disparity = 0.28\n",
      "Client 3: accuracy loss: 3.45 | fairness loss 787.99 | Equal Opportunity Disparity = 0.21\n",
      " \n",
      "Avg Training Stats after 8 global rounds:\n",
      "Training loss: 38.63 | Validation accuracy: 87.06% | Validation Equal Opportunity Disparity: 0.2506\n",
      "\n",
      " | Global Training Round : 9 |\n",
      "\n"
     ]
    },
    {
     "name": "stderr",
     "output_type": "stream",
     "text": [
      "\r",
      " 90%|█████████ | 9/10 [00:21<00:02,  2.67s/it]"
     ]
    },
    {
     "name": "stdout",
     "output_type": "stream",
     "text": [
      "Client 1: accuracy loss: 2.96 | fairness loss 560.57 | Equal Opportunity Disparity = 0.18\n",
      "Client 2: accuracy loss: 3.27 | fairness loss 562.88 | Equal Opportunity Disparity = 0.28\n",
      "Client 3: accuracy loss: 3.46 | fairness loss 791.46 | Equal Opportunity Disparity = 0.21\n",
      " \n",
      "Avg Training Stats after 9 global rounds:\n",
      "Training loss: 38.25 | Validation accuracy: 87.06% | Validation Equal Opportunity Disparity: 0.2506\n",
      "\n",
      " | Global Training Round : 10 |\n",
      "\n"
     ]
    },
    {
     "name": "stderr",
     "output_type": "stream",
     "text": [
      "100%|██████████| 10/10 [00:23<00:00,  2.35s/it]"
     ]
    },
    {
     "name": "stdout",
     "output_type": "stream",
     "text": [
      "Client 1: accuracy loss: 2.96 | fairness loss 562.21 | Equal Opportunity Disparity = 0.18\n",
      "Client 2: accuracy loss: 3.27 | fairness loss 564.33 | Equal Opportunity Disparity = 0.28\n",
      "Client 3: accuracy loss: 3.46 | fairness loss 794.35 | Equal Opportunity Disparity = 0.19\n",
      " \n",
      "Avg Training Stats after 10 global rounds:\n",
      "Training loss: 37.94 | Validation accuracy: 86.99% | Validation Equal Opportunity Disparity: 0.2456\n",
      " \n",
      " Results after 10 global rounds of training:\n",
      "|---- Avg Train Accuracy: 86.99%\n",
      "|---- Test Accuracy: 88.00%\n",
      "|---- Test Equal Opportunity Disparity: 0.2308\n",
      "\n",
      " Total Run Time: 23.5387 sec\n"
     ]
    },
    {
     "name": "stderr",
     "output_type": "stream",
     "text": [
      "\n"
     ]
    }
   ],
   "source": [
    "seed = 460\n",
    "synthetic_info = dataGenerate(seed = seed, test_samples = 100)\n",
    "server = Server(logReg(num_features=3, num_classes=2, seed = seed), synthetic_info, train_prn = False, seed = seed)\n",
    "server.Unconstrained(num_rounds = 10, local_epochs = 30, optimizer = 'adam', learning_rate = 0.001)\n",
    "\n"
   ]
  },
  {
   "cell_type": "code",
   "execution_count": 5,
   "metadata": {},
   "outputs": [
    {
     "data": {
      "text/plain": [
       "1.5"
      ]
     },
     "execution_count": 5,
     "metadata": {},
     "output_type": "execute_result"
    }
   ],
   "source": [
    "torch.tensor([1.,2.]).mean().item()"
   ]
  },
  {
   "cell_type": "code",
   "execution_count": null,
   "metadata": {},
   "outputs": [],
   "source": []
  }
 ],
 "metadata": {
  "kernelspec": {
   "display_name": "Python 3",
   "language": "python",
   "name": "python3"
  },
  "language_info": {
   "codemirror_mode": {
    "name": "ipython",
    "version": 3
   },
   "file_extension": ".py",
   "mimetype": "text/x-python",
   "name": "python",
   "nbconvert_exporter": "python",
   "pygments_lexer": "ipython3",
   "version": "3.7.4"
  }
 },
 "nbformat": 4,
 "nbformat_minor": 2
}
