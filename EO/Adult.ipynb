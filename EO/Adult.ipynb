{
 "cells": [
  {
   "cell_type": "code",
   "execution_count": 1,
   "metadata": {},
   "outputs": [],
   "source": [
    "from Server import *\n",
    "from load_adult import *\n",
    "seed  = 123"
   ]
  },
  {
   "cell_type": "markdown",
   "metadata": {},
   "source": [
    "# Adult experiments"
   ]
  },
  {
   "cell_type": "code",
   "execution_count": 4,
   "metadata": {
    "scrolled": true
   },
   "outputs": [
    {
     "name": "stderr",
     "output_type": "stream",
     "text": [
      "\n",
      "  0%|          | 0/5 [00:00<?, ?it/s]\u001b[A"
     ]
    },
    {
     "name": "stdout",
     "output_type": "stream",
     "text": [
      "| seed: 0 |\n"
     ]
    },
    {
     "name": "stderr",
     "output_type": "stream",
     "text": [
      "\n",
      " 20%|██        | 1/5 [00:26<01:47, 26.93s/it]\u001b[A\n",
      " 40%|████      | 2/5 [00:54<01:21, 27.19s/it]\u001b[A\n",
      " 60%|██████    | 3/5 [01:22<00:54, 27.25s/it]\u001b[A\n",
      " 80%|████████  | 4/5 [01:51<00:28, 28.02s/it]\u001b[A\n",
      "100%|██████████| 5/5 [02:16<00:00, 27.21s/it]\u001b[A\n",
      "\n",
      "  0%|          | 0/5 [00:00<?, ?it/s]\u001b[A"
     ]
    },
    {
     "name": "stdout",
     "output_type": "stream",
     "text": [
      "|------ Acc.: 0.831 | eo Dis.: 0.125 |\n",
      "| seed: 1 |\n"
     ]
    },
    {
     "name": "stderr",
     "output_type": "stream",
     "text": [
      "\n",
      " 20%|██        | 1/5 [00:24<01:37, 24.27s/it]\u001b[A\n",
      " 40%|████      | 2/5 [00:48<01:12, 24.14s/it]\u001b[A\n",
      " 60%|██████    | 3/5 [01:11<00:47, 23.92s/it]\u001b[A\n",
      " 80%|████████  | 4/5 [01:35<00:24, 24.01s/it]\u001b[A\n",
      "100%|██████████| 5/5 [01:59<00:00, 23.87s/it]\u001b[A\n",
      "\n",
      "  0%|          | 0/5 [00:00<?, ?it/s]\u001b[A"
     ]
    },
    {
     "name": "stdout",
     "output_type": "stream",
     "text": [
      "|------ Acc.: 0.849 | eo Dis.: 0.045 |\n",
      "| seed: 2 |\n"
     ]
    },
    {
     "name": "stderr",
     "output_type": "stream",
     "text": [
      "\n",
      " 20%|██        | 1/5 [00:23<01:35, 24.00s/it]\u001b[A\n",
      " 40%|████      | 2/5 [00:47<01:11, 23.94s/it]\u001b[A\n",
      " 60%|██████    | 3/5 [01:11<00:47, 23.91s/it]\u001b[A\n",
      " 80%|████████  | 4/5 [01:36<00:24, 24.23s/it]\u001b[A\n",
      "100%|██████████| 5/5 [02:00<00:00, 24.17s/it]\u001b[A\n",
      "\n",
      "  0%|          | 0/5 [00:00<?, ?it/s]\u001b[A"
     ]
    },
    {
     "name": "stdout",
     "output_type": "stream",
     "text": [
      "|------ Acc.: 0.835 | eo Dis.: 0.106 |\n",
      "| seed: 3 |\n"
     ]
    },
    {
     "name": "stderr",
     "output_type": "stream",
     "text": [
      "\n",
      " 20%|██        | 1/5 [00:24<01:38, 24.71s/it]\u001b[A\n",
      " 40%|████      | 2/5 [00:49<01:13, 24.65s/it]\u001b[A\n",
      " 60%|██████    | 3/5 [01:13<00:49, 24.65s/it]\u001b[A\n",
      " 80%|████████  | 4/5 [01:39<00:25, 25.02s/it]\u001b[A\n",
      "100%|██████████| 5/5 [02:04<00:00, 24.93s/it]\u001b[A\n",
      "\n",
      "  0%|          | 0/5 [00:00<?, ?it/s]\u001b[A"
     ]
    },
    {
     "name": "stdout",
     "output_type": "stream",
     "text": [
      "|------ Acc.: 0.836 | eo Dis.: 0.096 |\n",
      "| seed: 4 |\n"
     ]
    },
    {
     "name": "stderr",
     "output_type": "stream",
     "text": [
      "\n",
      " 20%|██        | 1/5 [00:25<01:40, 25.06s/it]\u001b[A\n",
      " 40%|████      | 2/5 [00:50<01:15, 25.03s/it]\u001b[A\n",
      " 60%|██████    | 3/5 [01:15<00:50, 25.26s/it]\u001b[A\n",
      " 80%|████████  | 4/5 [01:41<00:25, 25.30s/it]\u001b[A\n",
      "100%|██████████| 5/5 [02:06<00:00, 25.29s/it]\u001b[A\n",
      "\n",
      "  0%|          | 0/5 [00:00<?, ?it/s]\u001b[A"
     ]
    },
    {
     "name": "stdout",
     "output_type": "stream",
     "text": [
      "|------ Acc.: 0.835 | eo Dis.: 0.111 |\n",
      "| seed: 5 |\n"
     ]
    },
    {
     "name": "stderr",
     "output_type": "stream",
     "text": [
      "\n",
      " 20%|██        | 1/5 [00:25<01:42, 25.54s/it]\u001b[A\n",
      " 40%|████      | 2/5 [00:50<01:16, 25.50s/it]\u001b[A\n",
      " 60%|██████    | 3/5 [01:18<00:52, 26.01s/it]\u001b[A\n",
      " 80%|████████  | 4/5 [01:43<00:25, 25.87s/it]\u001b[A\n",
      "100%|██████████| 5/5 [02:09<00:00, 25.86s/it]\u001b[A\n",
      "\n",
      "  0%|          | 0/5 [00:00<?, ?it/s]\u001b[A"
     ]
    },
    {
     "name": "stdout",
     "output_type": "stream",
     "text": [
      "|------ Acc.: 0.850 | eo Dis.: 0.037 |\n",
      "| seed: 6 |\n"
     ]
    },
    {
     "name": "stderr",
     "output_type": "stream",
     "text": [
      "\n",
      " 20%|██        | 1/5 [00:26<01:44, 26.13s/it]\u001b[A\n",
      " 40%|████      | 2/5 [00:51<01:18, 26.01s/it]\u001b[A\n",
      " 60%|██████    | 3/5 [01:21<00:54, 27.24s/it]\u001b[A\n",
      " 80%|████████  | 4/5 [01:48<00:26, 26.92s/it]\u001b[A\n",
      "100%|██████████| 5/5 [02:14<00:00, 26.92s/it]\u001b[A\n",
      "\n",
      "  0%|          | 0/5 [00:00<?, ?it/s]\u001b[A"
     ]
    },
    {
     "name": "stdout",
     "output_type": "stream",
     "text": [
      "|------ Acc.: 0.834 | eo Dis.: 0.116 |\n",
      "| seed: 7 |\n"
     ]
    },
    {
     "name": "stderr",
     "output_type": "stream",
     "text": [
      "\n",
      " 20%|██        | 1/5 [00:27<01:48, 27.21s/it]\u001b[A\n",
      " 40%|████      | 2/5 [00:54<01:21, 27.24s/it]\u001b[A\n",
      " 60%|██████    | 3/5 [01:20<00:53, 26.91s/it]\u001b[A\n",
      " 80%|████████  | 4/5 [01:47<00:26, 26.84s/it]\u001b[A\n",
      "100%|██████████| 5/5 [02:13<00:00, 26.80s/it]\u001b[A\n",
      "\n",
      "  0%|          | 0/5 [00:00<?, ?it/s]\u001b[A"
     ]
    },
    {
     "name": "stdout",
     "output_type": "stream",
     "text": [
      "|------ Acc.: 0.850 | eo Dis.: 0.044 |\n",
      "| seed: 8 |\n"
     ]
    },
    {
     "name": "stderr",
     "output_type": "stream",
     "text": [
      "\n",
      " 20%|██        | 1/5 [00:26<01:46, 26.66s/it]\u001b[A\n",
      " 40%|████      | 2/5 [00:53<01:20, 26.85s/it]\u001b[A\n",
      " 60%|██████    | 3/5 [01:20<00:53, 26.73s/it]\u001b[A\n",
      " 80%|████████  | 4/5 [01:46<00:26, 26.66s/it]\u001b[A\n",
      "100%|██████████| 5/5 [02:13<00:00, 26.71s/it]\u001b[A\n",
      "\n",
      "  0%|          | 0/5 [00:00<?, ?it/s]\u001b[A"
     ]
    },
    {
     "name": "stdout",
     "output_type": "stream",
     "text": [
      "|------ Acc.: 0.850 | eo Dis.: 0.041 |\n",
      "| seed: 9 |\n"
     ]
    },
    {
     "name": "stderr",
     "output_type": "stream",
     "text": [
      "\n",
      " 20%|██        | 1/5 [00:27<01:51, 27.98s/it]\u001b[A\n",
      " 40%|████      | 2/5 [00:54<01:22, 27.51s/it]\u001b[A\n",
      " 60%|██████    | 3/5 [01:20<00:54, 27.18s/it]\u001b[A\n",
      " 80%|████████  | 4/5 [01:47<00:27, 27.04s/it]\u001b[A\n",
      "100%|██████████| 5/5 [02:15<00:00, 27.00s/it]\u001b[A\n"
     ]
    },
    {
     "name": "stdout",
     "output_type": "stream",
     "text": [
      "|------ Acc.: 0.833 | eo Dis.: 0.121 |\n",
      "| Acc.: 0.840(0.008) | eo Dis.: 0.084(0.035) |\n"
     ]
    }
   ],
   "source": [
    "acc, eo = np.zeros(10), np.zeros(10)\n",
    "for seed in range(10):\n",
    "    print(\"| seed: %d |\" % seed)\n",
    "    server = Server(logReg(num_features=adult_num_features, num_classes=2, seed = seed), adult_info, train_prn = False, seed = seed, ret = True)\n",
    "    acc[seed], eo[seed] = server.Unconstrained(num_rounds = 5, local_epochs = 30, optimizer = 'adam', learning_rate = 0.002)\n",
    "    print(\"|------ Acc.: %.3f | EO Dis.: %.3f |\" % (acc[seed], eo[seed]))\n",
    "print(\"| Acc.: %.3f(%.3f) | eo Dis.: %.3f(%.3f) |\" % (acc.mean(), acc.std(), eo.mean(), eo.std()))"
   ]
  },
  {
   "cell_type": "code",
   "execution_count": 2,
   "metadata": {
    "scrolled": true
   },
   "outputs": [
    {
     "name": "stderr",
     "output_type": "stream",
     "text": [
      "\r",
      "  0%|          | 0/5 [00:00<?, ?it/s]"
     ]
    },
    {
     "name": "stdout",
     "output_type": "stream",
     "text": [
      "| seed: 0 |\n"
     ]
    },
    {
     "name": "stderr",
     "output_type": "stream",
     "text": [
      "100%|██████████| 5/5 [02:19<00:00, 27.92s/it]\n",
      "  0%|          | 0/5 [00:00<?, ?it/s]"
     ]
    },
    {
     "name": "stdout",
     "output_type": "stream",
     "text": [
      "|------ Acc.: 0.830 | EO Dis.: 0.081 |\n",
      "| seed: 1 |\n"
     ]
    },
    {
     "name": "stderr",
     "output_type": "stream",
     "text": [
      "100%|██████████| 5/5 [02:18<00:00, 27.65s/it]\n",
      "  0%|          | 0/5 [00:00<?, ?it/s]"
     ]
    },
    {
     "name": "stdout",
     "output_type": "stream",
     "text": [
      "|------ Acc.: 0.845 | EO Dis.: 0.009 |\n",
      "| seed: 2 |\n"
     ]
    },
    {
     "name": "stderr",
     "output_type": "stream",
     "text": [
      "100%|██████████| 5/5 [02:22<00:00, 28.50s/it]\n",
      "  0%|          | 0/5 [00:00<?, ?it/s]"
     ]
    },
    {
     "name": "stdout",
     "output_type": "stream",
     "text": [
      "|------ Acc.: 0.830 | EO Dis.: 0.074 |\n",
      "| seed: 3 |\n"
     ]
    },
    {
     "name": "stderr",
     "output_type": "stream",
     "text": [
      "100%|██████████| 5/5 [02:40<00:00, 32.03s/it]\n",
      "  0%|          | 0/5 [00:00<?, ?it/s]"
     ]
    },
    {
     "name": "stdout",
     "output_type": "stream",
     "text": [
      "|------ Acc.: 0.832 | EO Dis.: 0.067 |\n",
      "| seed: 4 |\n"
     ]
    },
    {
     "name": "stderr",
     "output_type": "stream",
     "text": [
      "100%|██████████| 5/5 [02:49<00:00, 33.80s/it]\n",
      "  0%|          | 0/5 [00:00<?, ?it/s]"
     ]
    },
    {
     "name": "stdout",
     "output_type": "stream",
     "text": [
      "|------ Acc.: 0.831 | EO Dis.: 0.074 |\n",
      "| seed: 5 |\n"
     ]
    },
    {
     "name": "stderr",
     "output_type": "stream",
     "text": [
      "100%|██████████| 5/5 [02:43<00:00, 32.77s/it]\n",
      "  0%|          | 0/5 [00:00<?, ?it/s]"
     ]
    },
    {
     "name": "stdout",
     "output_type": "stream",
     "text": [
      "|------ Acc.: 0.845 | EO Dis.: 0.017 |\n",
      "| seed: 6 |\n"
     ]
    },
    {
     "name": "stderr",
     "output_type": "stream",
     "text": [
      "100%|██████████| 5/5 [02:46<00:00, 33.30s/it]\n",
      "  0%|          | 0/5 [00:00<?, ?it/s]"
     ]
    },
    {
     "name": "stdout",
     "output_type": "stream",
     "text": [
      "|------ Acc.: 0.831 | EO Dis.: 0.068 |\n",
      "| seed: 7 |\n"
     ]
    },
    {
     "name": "stderr",
     "output_type": "stream",
     "text": [
      "100%|██████████| 5/5 [02:42<00:00, 32.59s/it]\n",
      "  0%|          | 0/5 [00:00<?, ?it/s]"
     ]
    },
    {
     "name": "stdout",
     "output_type": "stream",
     "text": [
      "|------ Acc.: 0.844 | EO Dis.: 0.019 |\n",
      "| seed: 8 |\n"
     ]
    },
    {
     "name": "stderr",
     "output_type": "stream",
     "text": [
      "100%|██████████| 5/5 [02:26<00:00, 29.36s/it]\n",
      "  0%|          | 0/5 [00:00<?, ?it/s]"
     ]
    },
    {
     "name": "stdout",
     "output_type": "stream",
     "text": [
      "|------ Acc.: 0.843 | EO Dis.: 0.025 |\n",
      "| seed: 9 |\n"
     ]
    },
    {
     "name": "stderr",
     "output_type": "stream",
     "text": [
      "100%|██████████| 5/5 [02:24<00:00, 28.90s/it]\n"
     ]
    },
    {
     "name": "stdout",
     "output_type": "stream",
     "text": [
      "|------ Acc.: 0.832 | EO Dis.: 0.074 |\n",
      "| Acc.: 0.836(0.007) | EO Dis.: 0.051(0.028) |\n"
     ]
    }
   ],
   "source": [
    "acc, eo = np.zeros(10), np.zeros(10)\n",
    "for seed in range(10):\n",
    "    print(\"| seed: %d |\" % seed)\n",
    "    server = Server(logReg(num_features=adult_num_features, num_classes=2, seed = seed), adult_info, train_prn = False, seed = seed, ret = True)\n",
    "    acc[seed], eo[seed] = server.FairBatch(num_rounds = 5, local_epochs = 30, optimizer = 'adam', learning_rate = 0.003, alpha = 0.005)\n",
    "    print(\"|------ Acc.: %.3f | EO Dis.: %.3f |\" % (acc[seed], eo[seed]))\n",
    "print(\"| Acc.: %.3f(%.3f) | EO Dis.: %.3f(%.3f) |\" % (acc.mean(), acc.std(), eo.mean(), eo.std()))"
   ]
  },
  {
   "cell_type": "code",
   "execution_count": 8,
   "metadata": {
    "scrolled": true
   },
   "outputs": [
    {
     "name": "stderr",
     "output_type": "stream",
     "text": [
      "\n",
      "  0%|          | 0/10 [00:00<?, ?it/s]\u001b[A"
     ]
    },
    {
     "name": "stdout",
     "output_type": "stream",
     "text": [
      "| seed: 0 |\n"
     ]
    },
    {
     "name": "stderr",
     "output_type": "stream",
     "text": [
      "\n",
      " 10%|█         | 1/10 [00:40<06:02, 40.26s/it]\u001b[A\n",
      " 20%|██        | 2/10 [01:14<05:07, 38.43s/it]\u001b[A\n",
      " 30%|███       | 3/10 [01:45<04:13, 36.28s/it]\u001b[A\n",
      " 40%|████      | 4/10 [02:16<03:27, 34.54s/it]\u001b[A\n",
      " 50%|█████     | 5/10 [02:47<02:47, 33.58s/it]\u001b[A\n",
      " 60%|██████    | 6/10 [03:17<02:10, 32.62s/it]\u001b[A\n",
      " 70%|███████   | 7/10 [03:48<01:36, 32.01s/it]\u001b[A\n",
      " 80%|████████  | 8/10 [04:21<01:04, 32.43s/it]\u001b[A\n",
      " 90%|█████████ | 9/10 [04:56<00:32, 32.95s/it]\u001b[A\n",
      "100%|██████████| 10/10 [05:29<00:00, 32.94s/it]\u001b[A\n",
      "\n",
      "  0%|          | 0/10 [00:00<?, ?it/s]\u001b[A"
     ]
    },
    {
     "name": "stdout",
     "output_type": "stream",
     "text": [
      "|------ Acc.: 0.814 | EO Dis.: 0.002 |\n",
      "| seed: 1 |\n"
     ]
    },
    {
     "name": "stderr",
     "output_type": "stream",
     "text": [
      "\n",
      " 10%|█         | 1/10 [00:27<04:05, 27.27s/it]\u001b[A\n",
      " 20%|██        | 2/10 [00:53<03:36, 27.09s/it]\u001b[A\n",
      " 30%|███       | 3/10 [01:19<03:07, 26.75s/it]\u001b[A\n",
      " 40%|████      | 4/10 [01:45<02:39, 26.54s/it]\u001b[A\n",
      " 50%|█████     | 5/10 [02:11<02:11, 26.32s/it]\u001b[A\n",
      " 60%|██████    | 6/10 [02:38<01:45, 26.42s/it]\u001b[A\n",
      " 70%|███████   | 7/10 [03:08<01:22, 27.44s/it]\u001b[A\n",
      " 80%|████████  | 8/10 [03:42<00:58, 29.50s/it]\u001b[A\n",
      " 90%|█████████ | 9/10 [04:15<00:30, 30.61s/it]\u001b[A\n",
      "100%|██████████| 10/10 [04:51<00:00, 29.15s/it]\u001b[A\n",
      "\n",
      "  0%|          | 0/10 [00:00<?, ?it/s]\u001b[A"
     ]
    },
    {
     "name": "stdout",
     "output_type": "stream",
     "text": [
      "|------ Acc.: 0.846 | EO Dis.: 0.038 |\n",
      "| seed: 2 |\n"
     ]
    },
    {
     "name": "stderr",
     "output_type": "stream",
     "text": [
      "\n",
      " 10%|█         | 1/10 [00:34<05:09, 34.40s/it]\u001b[A\n",
      " 20%|██        | 2/10 [01:06<04:30, 33.79s/it]\u001b[A\n",
      " 30%|███       | 3/10 [01:40<03:56, 33.83s/it]\u001b[A\n",
      " 40%|████      | 4/10 [02:19<03:31, 35.19s/it]\u001b[A\n",
      " 50%|█████     | 5/10 [02:55<02:57, 35.42s/it]\u001b[A\n",
      " 60%|██████    | 6/10 [03:29<02:20, 35.25s/it]\u001b[A\n",
      " 70%|███████   | 7/10 [04:07<01:48, 36.00s/it]\u001b[A\n",
      " 80%|████████  | 8/10 [04:38<01:09, 34.51s/it]\u001b[A\n",
      " 90%|█████████ | 9/10 [05:05<00:32, 32.15s/it]\u001b[A\n",
      "100%|██████████| 10/10 [05:32<00:00, 33.22s/it]\u001b[A\n",
      "\n",
      "  0%|          | 0/10 [00:00<?, ?it/s]\u001b[A"
     ]
    },
    {
     "name": "stdout",
     "output_type": "stream",
     "text": [
      "|------ Acc.: 0.815 | EO Dis.: 0.018 |\n",
      "| seed: 3 |\n"
     ]
    },
    {
     "name": "stderr",
     "output_type": "stream",
     "text": [
      "\n",
      " 10%|█         | 1/10 [00:28<04:18, 28.71s/it]\u001b[A\n",
      " 20%|██        | 2/10 [00:54<03:43, 27.91s/it]\u001b[A\n",
      " 30%|███       | 3/10 [01:21<03:12, 27.53s/it]\u001b[A\n",
      " 40%|████      | 4/10 [01:48<02:44, 27.34s/it]\u001b[A\n",
      " 50%|█████     | 5/10 [02:15<02:15, 27.16s/it]\u001b[A\n",
      " 60%|██████    | 6/10 [02:42<01:48, 27.17s/it]\u001b[A\n",
      " 70%|███████   | 7/10 [03:09<01:21, 27.28s/it]\u001b[A\n",
      " 80%|████████  | 8/10 [03:37<00:54, 27.32s/it]\u001b[A\n",
      " 90%|█████████ | 9/10 [04:04<00:27, 27.35s/it]\u001b[A\n",
      "100%|██████████| 10/10 [04:31<00:00, 27.15s/it]\u001b[A\n",
      "\n",
      "  0%|          | 0/10 [00:00<?, ?it/s]\u001b[A"
     ]
    },
    {
     "name": "stdout",
     "output_type": "stream",
     "text": [
      "|------ Acc.: 0.809 | EO Dis.: 0.012 |\n",
      "| seed: 4 |\n"
     ]
    },
    {
     "name": "stderr",
     "output_type": "stream",
     "text": [
      "\n",
      " 10%|█         | 1/10 [00:26<03:59, 26.64s/it]\u001b[A\n",
      " 20%|██        | 2/10 [00:53<03:32, 26.61s/it]\u001b[A\n",
      " 30%|███       | 3/10 [01:20<03:07, 26.74s/it]\u001b[A\n",
      " 40%|████      | 4/10 [01:47<02:40, 26.80s/it]\u001b[A\n",
      " 50%|█████     | 5/10 [02:14<02:14, 26.90s/it]\u001b[A\n",
      " 60%|██████    | 6/10 [02:40<01:47, 26.82s/it]\u001b[A\n",
      " 70%|███████   | 7/10 [03:07<01:20, 26.88s/it]\u001b[A\n",
      " 80%|████████  | 8/10 [03:34<00:53, 26.89s/it]\u001b[A\n",
      " 90%|█████████ | 9/10 [04:01<00:26, 26.95s/it]\u001b[A\n",
      "100%|██████████| 10/10 [04:28<00:00, 26.88s/it]\u001b[A\n",
      "\n",
      "  0%|          | 0/10 [00:00<?, ?it/s]\u001b[A"
     ]
    },
    {
     "name": "stdout",
     "output_type": "stream",
     "text": [
      "|------ Acc.: 0.816 | EO Dis.: 0.005 |\n",
      "| seed: 5 |\n"
     ]
    },
    {
     "name": "stderr",
     "output_type": "stream",
     "text": [
      "\n",
      " 10%|█         | 1/10 [00:26<04:00, 26.71s/it]\u001b[A\n",
      " 20%|██        | 2/10 [00:52<03:32, 26.53s/it]\u001b[A\n",
      " 30%|███       | 3/10 [01:19<03:06, 26.60s/it]\u001b[A\n",
      " 40%|████      | 4/10 [01:46<02:40, 26.83s/it]\u001b[A\n",
      " 50%|█████     | 5/10 [02:13<02:14, 26.81s/it]\u001b[A\n",
      " 60%|██████    | 6/10 [02:40<01:47, 26.77s/it]\u001b[A\n",
      " 70%|███████   | 7/10 [03:07<01:20, 26.80s/it]\u001b[A\n",
      " 80%|████████  | 8/10 [03:34<00:53, 26.87s/it]\u001b[A\n",
      " 90%|█████████ | 9/10 [04:01<00:26, 26.89s/it]\u001b[A\n",
      "100%|██████████| 10/10 [04:27<00:00, 26.79s/it]\u001b[A\n",
      "\n",
      "  0%|          | 0/10 [00:00<?, ?it/s]\u001b[A"
     ]
    },
    {
     "name": "stdout",
     "output_type": "stream",
     "text": [
      "|------ Acc.: 0.845 | EO Dis.: 0.048 |\n",
      "| seed: 6 |\n"
     ]
    },
    {
     "name": "stderr",
     "output_type": "stream",
     "text": [
      "\n",
      " 10%|█         | 1/10 [00:26<03:58, 26.51s/it]\u001b[A\n",
      " 20%|██        | 2/10 [00:52<03:30, 26.36s/it]\u001b[A\n",
      " 30%|███       | 3/10 [01:19<03:05, 26.45s/it]\u001b[A\n",
      " 40%|████      | 4/10 [01:49<02:46, 27.67s/it]\u001b[A\n",
      " 50%|█████     | 5/10 [02:20<02:22, 28.55s/it]\u001b[A\n",
      " 60%|██████    | 6/10 [02:47<01:52, 28.05s/it]\u001b[A\n",
      " 70%|███████   | 7/10 [03:14<01:23, 27.72s/it]\u001b[A\n",
      " 80%|████████  | 8/10 [03:41<00:55, 27.69s/it]\u001b[A\n",
      " 90%|█████████ | 9/10 [04:08<00:27, 27.37s/it]\u001b[A\n",
      "100%|██████████| 10/10 [04:35<00:00, 27.55s/it]\u001b[A\n",
      "\n",
      "  0%|          | 0/10 [00:00<?, ?it/s]\u001b[A"
     ]
    },
    {
     "name": "stdout",
     "output_type": "stream",
     "text": [
      "|------ Acc.: 0.811 | EO Dis.: 0.001 |\n",
      "| seed: 7 |\n"
     ]
    },
    {
     "name": "stderr",
     "output_type": "stream",
     "text": [
      "\n",
      " 10%|█         | 1/10 [00:26<03:58, 26.55s/it]\u001b[A\n",
      " 20%|██        | 2/10 [00:52<03:31, 26.41s/it]\u001b[A\n",
      " 30%|███       | 3/10 [01:21<03:10, 27.19s/it]\u001b[A\n",
      " 40%|████      | 4/10 [01:48<02:42, 27.04s/it]\u001b[A\n",
      " 50%|█████     | 5/10 [02:15<02:14, 26.99s/it]\u001b[A\n",
      " 60%|██████    | 6/10 [02:42<01:48, 27.04s/it]\u001b[A\n",
      " 70%|███████   | 7/10 [03:08<01:20, 26.87s/it]\u001b[A\n",
      " 80%|████████  | 8/10 [03:35<00:53, 26.80s/it]\u001b[A\n",
      " 90%|█████████ | 9/10 [04:02<00:26, 26.73s/it]\u001b[A\n",
      "100%|██████████| 10/10 [04:28<00:00, 26.88s/it]\u001b[A\n",
      "\n",
      "  0%|          | 0/10 [00:00<?, ?it/s]\u001b[A"
     ]
    },
    {
     "name": "stdout",
     "output_type": "stream",
     "text": [
      "|------ Acc.: 0.845 | EO Dis.: 0.023 |\n",
      "| seed: 8 |\n"
     ]
    },
    {
     "name": "stderr",
     "output_type": "stream",
     "text": [
      "\n",
      " 10%|█         | 1/10 [00:26<03:58, 26.50s/it]\u001b[A\n",
      " 20%|██        | 2/10 [00:52<03:30, 26.32s/it]\u001b[A\n",
      " 30%|███       | 3/10 [01:19<03:05, 26.55s/it]\u001b[A\n",
      " 40%|████      | 4/10 [01:46<02:40, 26.76s/it]\u001b[A\n",
      " 50%|█████     | 5/10 [02:13<02:14, 26.85s/it]\u001b[A\n",
      " 60%|██████    | 6/10 [02:40<01:47, 26.78s/it]\u001b[A\n",
      " 70%|███████   | 7/10 [03:07<01:20, 26.90s/it]\u001b[A\n",
      " 80%|████████  | 8/10 [03:33<00:53, 26.74s/it]\u001b[A\n",
      " 90%|█████████ | 9/10 [04:00<00:26, 26.74s/it]\u001b[A\n",
      "100%|██████████| 10/10 [04:27<00:00, 26.74s/it]\u001b[A\n",
      "\n",
      "  0%|          | 0/10 [00:00<?, ?it/s]\u001b[A"
     ]
    },
    {
     "name": "stdout",
     "output_type": "stream",
     "text": [
      "|------ Acc.: 0.846 | EO Dis.: 0.027 |\n",
      "| seed: 9 |\n"
     ]
    },
    {
     "name": "stderr",
     "output_type": "stream",
     "text": [
      "\n",
      " 10%|█         | 1/10 [00:26<04:00, 26.73s/it]\u001b[A\n",
      " 20%|██        | 2/10 [01:00<03:50, 28.77s/it]\u001b[A\n",
      " 30%|███       | 3/10 [01:28<03:20, 28.68s/it]\u001b[A\n",
      " 40%|████      | 4/10 [01:55<02:47, 27.98s/it]\u001b[A\n",
      " 50%|█████     | 5/10 [02:21<02:18, 27.66s/it]\u001b[A\n",
      " 60%|██████    | 6/10 [02:48<01:48, 27.19s/it]\u001b[A\n",
      " 70%|███████   | 7/10 [03:14<01:20, 26.87s/it]\u001b[A\n",
      " 80%|████████  | 8/10 [03:40<00:53, 26.67s/it]\u001b[A\n",
      " 90%|█████████ | 9/10 [04:22<00:31, 31.24s/it]\u001b[A\n",
      "100%|██████████| 10/10 [04:54<00:00, 29.49s/it]\u001b[A\n"
     ]
    },
    {
     "name": "stdout",
     "output_type": "stream",
     "text": [
      "|------ Acc.: 0.816 | EO Dis.: 0.010 |\n",
      "| Acc.: 0.826(0.016) | EO Dis.: 0.018(0.015) |\n"
     ]
    }
   ],
   "source": [
    "acc, eo = np.zeros(10), np.zeros(10)\n",
    "for seed in range(10):\n",
    "    print(\"| seed: %d |\" % seed)\n",
    "    server = Server(logReg(num_features=adult_num_features, num_classes=2, seed = seed), adult_info, train_prn = False, seed = seed, ret = True)\n",
    "    acc[seed], eo[seed] = server.FairBatch(num_rounds = 10, local_epochs = 30, optimizer = 'adam', learning_rate = 0.02, alpha = 0.01)\n",
    "    print(\"|------ Acc.: %.3f | EO Dis.: %.3f |\" % (acc[seed], eo[seed]))\n",
    "print(\"| Acc.: %.3f(%.3f) | EO Dis.: %.3f(%.3f) |\" % (acc.mean(), acc.std(), eo.mean(), eo.std()))"
   ]
  },
  {
   "cell_type": "code",
   "execution_count": 8,
   "metadata": {
    "scrolled": true
   },
   "outputs": [
    {
     "name": "stderr",
     "output_type": "stream",
     "text": [
      "\r",
      "  0%|          | 0/1 [00:00<?, ?it/s]"
     ]
    },
    {
     "name": "stdout",
     "output_type": "stream",
     "text": [
      "| seed: 0 |\n"
     ]
    },
    {
     "name": "stderr",
     "output_type": "stream",
     "text": [
      "100%|██████████| 1/1 [00:23<00:00, 23.86s/it]\n",
      "100%|██████████| 1/1 [00:23<00:00, 23.52s/it]\n",
      "100%|██████████| 3/3 [01:12<00:00, 24.10s/it]\n",
      "  0%|          | 0/1 [00:00<?, ?it/s]"
     ]
    },
    {
     "name": "stdout",
     "output_type": "stream",
     "text": [
      "|------ Acc.: 0.839 | EO Dis.: 0.070 |\n",
      "| seed: 1 |\n"
     ]
    },
    {
     "name": "stderr",
     "output_type": "stream",
     "text": [
      "100%|██████████| 1/1 [00:25<00:00, 25.20s/it]\n",
      "100%|██████████| 1/1 [00:24<00:00, 24.24s/it]\n",
      "100%|██████████| 3/3 [01:13<00:00, 24.50s/it]\n",
      "  0%|          | 0/1 [00:00<?, ?it/s]"
     ]
    },
    {
     "name": "stdout",
     "output_type": "stream",
     "text": [
      "|------ Acc.: 0.849 | EO Dis.: 0.010 |\n",
      "| seed: 2 |\n"
     ]
    },
    {
     "name": "stderr",
     "output_type": "stream",
     "text": [
      "100%|██████████| 1/1 [00:25<00:00, 25.82s/it]\n",
      "100%|██████████| 1/1 [00:24<00:00, 24.69s/it]\n",
      "100%|██████████| 3/3 [01:15<00:00, 25.13s/it]\n",
      "  0%|          | 0/1 [00:00<?, ?it/s]"
     ]
    },
    {
     "name": "stdout",
     "output_type": "stream",
     "text": [
      "|------ Acc.: 0.839 | EO Dis.: 0.038 |\n",
      "| seed: 3 |\n"
     ]
    },
    {
     "name": "stderr",
     "output_type": "stream",
     "text": [
      "100%|██████████| 1/1 [00:25<00:00, 25.74s/it]\n",
      "100%|██████████| 1/1 [00:25<00:00, 25.36s/it]\n",
      "100%|██████████| 3/3 [01:16<00:00, 25.40s/it]\n",
      "  0%|          | 0/1 [00:00<?, ?it/s]"
     ]
    },
    {
     "name": "stdout",
     "output_type": "stream",
     "text": [
      "|------ Acc.: 0.840 | EO Dis.: 0.032 |\n",
      "| seed: 4 |\n"
     ]
    },
    {
     "name": "stderr",
     "output_type": "stream",
     "text": [
      "100%|██████████| 1/1 [00:26<00:00, 26.07s/it]\n",
      "100%|██████████| 1/1 [00:26<00:00, 26.25s/it]\n",
      "100%|██████████| 3/3 [01:41<00:00, 33.82s/it]\n",
      "  0%|          | 0/1 [00:00<?, ?it/s]"
     ]
    },
    {
     "name": "stdout",
     "output_type": "stream",
     "text": [
      "|------ Acc.: 0.841 | EO Dis.: 0.047 |\n",
      "| seed: 5 |\n"
     ]
    },
    {
     "name": "stderr",
     "output_type": "stream",
     "text": [
      "100%|██████████| 1/1 [00:25<00:00, 25.99s/it]\n",
      "100%|██████████| 1/1 [00:25<00:00, 25.89s/it]\n",
      "100%|██████████| 3/3 [01:27<00:00, 29.17s/it]\n",
      "  0%|          | 0/1 [00:00<?, ?it/s]"
     ]
    },
    {
     "name": "stdout",
     "output_type": "stream",
     "text": [
      "|------ Acc.: 0.850 | EO Dis.: 0.006 |\n",
      "| seed: 6 |\n"
     ]
    },
    {
     "name": "stderr",
     "output_type": "stream",
     "text": [
      "100%|██████████| 1/1 [00:29<00:00, 29.51s/it]\n",
      "100%|██████████| 1/1 [00:34<00:00, 34.43s/it]\n",
      "100%|██████████| 3/3 [01:35<00:00, 31.86s/it]\n",
      "  0%|          | 0/1 [00:00<?, ?it/s]"
     ]
    },
    {
     "name": "stdout",
     "output_type": "stream",
     "text": [
      "|------ Acc.: 0.843 | EO Dis.: 0.041 |\n",
      "| seed: 7 |\n"
     ]
    },
    {
     "name": "stderr",
     "output_type": "stream",
     "text": [
      "100%|██████████| 1/1 [00:38<00:00, 38.47s/it]\n",
      "100%|██████████| 1/1 [00:40<00:00, 40.21s/it]\n",
      "100%|██████████| 3/3 [01:55<00:00, 38.38s/it]\n",
      "  0%|          | 0/1 [00:00<?, ?it/s]"
     ]
    },
    {
     "name": "stdout",
     "output_type": "stream",
     "text": [
      "|------ Acc.: 0.849 | EO Dis.: 0.011 |\n",
      "| seed: 8 |\n"
     ]
    },
    {
     "name": "stderr",
     "output_type": "stream",
     "text": [
      "100%|██████████| 1/1 [00:48<00:00, 48.84s/it]\n",
      "100%|██████████| 1/1 [00:48<00:00, 48.89s/it]\n",
      "100%|██████████| 3/3 [01:47<00:00, 35.92s/it]\n",
      "  0%|          | 0/1 [00:00<?, ?it/s]"
     ]
    },
    {
     "name": "stdout",
     "output_type": "stream",
     "text": [
      "|------ Acc.: 0.849 | EO Dis.: 0.007 |\n",
      "| seed: 9 |\n"
     ]
    },
    {
     "name": "stderr",
     "output_type": "stream",
     "text": [
      "100%|██████████| 1/1 [00:28<00:00, 28.07s/it]\n",
      "100%|██████████| 1/1 [00:31<00:00, 31.55s/it]\n",
      "100%|██████████| 3/3 [02:19<00:00, 46.55s/it]\n"
     ]
    },
    {
     "name": "stdout",
     "output_type": "stream",
     "text": [
      "|------ Acc.: 0.838 | EO Dis.: 0.014 |\n",
      "| Acc.: 0.844(0.005) | EO Dis.: 0.028(0.020) |\n"
     ]
    }
   ],
   "source": [
    "acc, eo = np.zeros(10), np.zeros(10)\n",
    "for seed in range(10):\n",
    "    print(\"| seed: %d |\" % seed)\n",
    "    server = Server(logReg(num_features=adult_num_features, num_classes=2, seed = seed), adult_info, train_prn = False, seed = seed, ret = True)\n",
    "    acc[seed], eo[seed] = server.FairConstraints(test_rounds = 1, test_lr = 0.005, test_penalty = 10, num_rounds = 3, local_epochs = 30, optimizer = 'adam', learning_rate = 0.002, penalty = 8, adaptive_penalty = True)\n",
    "    print(\"|------ Acc.: %.3f | EO Dis.: %.3f |\" % (acc[seed], eo[seed]))\n",
    "print(\"| Acc.: %.3f(%.3f) | EO Dis.: %.3f(%.3f) |\" % (acc.mean(), acc.std(), eo.mean(), eo.std()))"
   ]
  },
  {
   "cell_type": "code",
   "execution_count": 12,
   "metadata": {
    "scrolled": true
   },
   "outputs": [
    {
     "name": "stderr",
     "output_type": "stream",
     "text": [
      "\n",
      "  0%|          | 0/5 [00:00<?, ?it/s]\u001b[A"
     ]
    },
    {
     "name": "stdout",
     "output_type": "stream",
     "text": [
      "| seed: 0 |\n"
     ]
    },
    {
     "name": "stderr",
     "output_type": "stream",
     "text": [
      "\n",
      " 20%|██        | 1/5 [00:47<03:10, 47.66s/it]\u001b[A\n",
      " 40%|████      | 2/5 [01:51<02:37, 52.44s/it]\u001b[A\n",
      " 60%|██████    | 3/5 [02:53<01:50, 55.40s/it]\u001b[A\n",
      " 80%|████████  | 4/5 [03:53<00:56, 56.80s/it]\u001b[A\n",
      "100%|██████████| 5/5 [04:41<00:00, 56.35s/it]\u001b[A\n",
      "\n",
      "  0%|          | 0/5 [00:00<?, ?it/s]\u001b[A"
     ]
    },
    {
     "name": "stdout",
     "output_type": "stream",
     "text": [
      "|------ Acc.: 0.773 | EO Dis.: 0.010 |\n",
      "| seed: 1 |\n"
     ]
    },
    {
     "name": "stderr",
     "output_type": "stream",
     "text": [
      "\n",
      " 20%|██        | 1/5 [01:03<04:14, 63.69s/it]\u001b[A\n",
      " 40%|████      | 2/5 [02:05<03:09, 63.16s/it]\u001b[A\n",
      " 60%|██████    | 3/5 [03:25<02:16, 68.05s/it]\u001b[A\n",
      " 80%|████████  | 4/5 [04:36<01:08, 69.00s/it]\u001b[A\n",
      "100%|██████████| 5/5 [05:43<00:00, 68.65s/it]\u001b[A\n",
      "\n",
      "  0%|          | 0/5 [00:00<?, ?it/s]\u001b[A"
     ]
    },
    {
     "name": "stdout",
     "output_type": "stream",
     "text": [
      "|------ Acc.: 0.771 | EO Dis.: 0.010 |\n",
      "| seed: 2 |\n"
     ]
    },
    {
     "name": "stderr",
     "output_type": "stream",
     "text": [
      "\n",
      " 20%|██        | 1/5 [01:23<05:33, 83.25s/it]\u001b[A\n",
      " 40%|████      | 2/5 [02:51<04:14, 84.68s/it]\u001b[A\n",
      " 60%|██████    | 3/5 [03:59<02:39, 79.88s/it]\u001b[A\n",
      " 80%|████████  | 4/5 [05:22<01:20, 80.73s/it]\u001b[A\n",
      "100%|██████████| 5/5 [06:20<00:00, 76.06s/it]\u001b[A\n",
      "\n",
      "  0%|          | 0/5 [00:00<?, ?it/s]\u001b[A"
     ]
    },
    {
     "name": "stdout",
     "output_type": "stream",
     "text": [
      "|------ Acc.: 0.770 | EO Dis.: 0.012 |\n",
      "| seed: 3 |\n"
     ]
    },
    {
     "name": "stderr",
     "output_type": "stream",
     "text": [
      "\n",
      " 20%|██        | 1/5 [01:12<04:51, 72.80s/it]\u001b[A\n",
      " 40%|████      | 2/5 [02:19<03:33, 71.11s/it]\u001b[A\n",
      " 60%|██████    | 3/5 [03:46<02:31, 75.81s/it]\u001b[A\n",
      " 80%|████████  | 4/5 [06:53<01:48, 108.98s/it]\u001b[A\n",
      "100%|██████████| 5/5 [08:52<00:00, 106.42s/it]\u001b[A\n",
      "\n",
      "  0%|          | 0/5 [00:00<?, ?it/s]\u001b[A"
     ]
    },
    {
     "name": "stdout",
     "output_type": "stream",
     "text": [
      "|------ Acc.: 0.765 | EO Dis.: 0.001 |\n",
      "| seed: 4 |\n"
     ]
    },
    {
     "name": "stderr",
     "output_type": "stream",
     "text": [
      "\n",
      " 20%|██        | 1/5 [01:42<06:49, 102.28s/it]\u001b[A\n",
      " 40%|████      | 2/5 [03:23<05:05, 101.85s/it]\u001b[A\n",
      " 60%|██████    | 3/5 [05:03<03:22, 101.38s/it]\u001b[A\n",
      " 80%|████████  | 4/5 [06:45<01:41, 101.48s/it]\u001b[A\n",
      "100%|██████████| 5/5 [08:32<00:00, 102.55s/it]\u001b[A\n",
      "\n",
      "  0%|          | 0/5 [00:00<?, ?it/s]\u001b[A"
     ]
    },
    {
     "name": "stdout",
     "output_type": "stream",
     "text": [
      "|------ Acc.: 0.771 | EO Dis.: 0.015 |\n",
      "| seed: 5 |\n"
     ]
    },
    {
     "name": "stderr",
     "output_type": "stream",
     "text": [
      "\n",
      " 20%|██        | 1/5 [01:09<04:38, 69.54s/it]\u001b[A\n",
      " 40%|████      | 2/5 [02:19<03:29, 69.69s/it]\u001b[A\n",
      " 60%|██████    | 3/5 [04:15<02:47, 83.50s/it]\u001b[A\n",
      " 80%|████████  | 4/5 [05:31<01:21, 81.25s/it]\u001b[A\n",
      "100%|██████████| 5/5 [07:03<00:00, 84.67s/it]\u001b[A\n",
      "\n",
      "  0%|          | 0/5 [00:00<?, ?it/s]\u001b[A"
     ]
    },
    {
     "name": "stdout",
     "output_type": "stream",
     "text": [
      "|------ Acc.: 0.770 | EO Dis.: 0.016 |\n",
      "| seed: 6 |\n"
     ]
    },
    {
     "name": "stderr",
     "output_type": "stream",
     "text": [
      "\n",
      " 20%|██        | 1/5 [00:48<03:13, 48.36s/it]\u001b[A\n",
      " 40%|████      | 2/5 [01:37<02:25, 48.65s/it]\u001b[A\n",
      " 60%|██████    | 3/5 [02:28<01:38, 49.19s/it]\u001b[A\n",
      " 80%|████████  | 4/5 [03:15<00:48, 48.60s/it]\u001b[A\n",
      "100%|██████████| 5/5 [03:58<00:00, 47.68s/it]\u001b[A\n",
      "\n",
      "  0%|          | 0/5 [00:00<?, ?it/s]\u001b[A"
     ]
    },
    {
     "name": "stdout",
     "output_type": "stream",
     "text": [
      "|------ Acc.: 0.770 | EO Dis.: 0.006 |\n",
      "| seed: 7 |\n"
     ]
    },
    {
     "name": "stderr",
     "output_type": "stream",
     "text": [
      "\n",
      " 20%|██        | 1/5 [00:42<02:51, 42.78s/it]\u001b[A\n",
      " 40%|████      | 2/5 [01:21<02:04, 41.48s/it]\u001b[A\n",
      " 60%|██████    | 3/5 [02:07<01:25, 42.96s/it]\u001b[A\n",
      " 80%|████████  | 4/5 [02:52<00:43, 43.47s/it]\u001b[A\n",
      "100%|██████████| 5/5 [03:56<00:00, 47.34s/it]\u001b[A\n",
      "\n",
      "  0%|          | 0/5 [00:00<?, ?it/s]\u001b[A"
     ]
    },
    {
     "name": "stdout",
     "output_type": "stream",
     "text": [
      "|------ Acc.: 0.774 | EO Dis.: 0.003 |\n",
      "| seed: 8 |\n"
     ]
    },
    {
     "name": "stderr",
     "output_type": "stream",
     "text": [
      "\n",
      " 20%|██        | 1/5 [01:03<04:14, 63.73s/it]\u001b[A\n",
      " 40%|████      | 2/5 [02:39<03:40, 73.49s/it]\u001b[A\n",
      " 60%|██████    | 3/5 [04:44<02:57, 88.73s/it]\u001b[A\n",
      " 80%|████████  | 4/5 [06:23<01:31, 91.92s/it]\u001b[A\n",
      "100%|██████████| 5/5 [07:55<00:00, 95.02s/it]\u001b[A\n",
      "\n",
      "  0%|          | 0/5 [00:00<?, ?it/s]\u001b[A"
     ]
    },
    {
     "name": "stdout",
     "output_type": "stream",
     "text": [
      "|------ Acc.: 0.773 | EO Dis.: 0.020 |\n",
      "| seed: 9 |\n"
     ]
    },
    {
     "name": "stderr",
     "output_type": "stream",
     "text": [
      "\n",
      " 20%|██        | 1/5 [01:56<07:46, 116.50s/it]\u001b[A\n",
      " 40%|████      | 2/5 [04:01<05:57, 119.11s/it]\u001b[A\n",
      " 60%|██████    | 3/5 [06:01<03:58, 119.31s/it]\u001b[A\n",
      " 80%|████████  | 4/5 [07:57<01:58, 118.43s/it]\u001b[A\n",
      "100%|██████████| 5/5 [09:30<00:00, 114.19s/it]\u001b[A\n"
     ]
    },
    {
     "name": "stdout",
     "output_type": "stream",
     "text": [
      "|------ Acc.: 0.769 | EO Dis.: 0.021 |\n",
      "| Acc.: 0.770(0.002) | EO Dis.: 0.011(0.006) |\n"
     ]
    }
   ],
   "source": [
    "acc, eo = np.zeros(10), np.zeros(10)\n",
    "for seed in range(10):\n",
    "    print(\"| seed: %d |\" % seed)\n",
    "    server = Server(logReg(num_features=adult_num_features, num_classes=2, seed = seed), adult_info, train_prn = False, seed = seed, ret = True)\n",
    "    acc[seed], eo[seed] = server.LocalFC(num_rounds = 5, local_epochs = 30, optimizer = 'adam', learning_rate = 0.004, penalty = 500)\n",
    "    print(\"|------ Acc.: %.3f | EO Dis.: %.3f |\" % (acc[seed], eo[seed]))\n",
    "print(\"| Acc.: %.3f(%.3f) | EO Dis.: %.3f(%.3f) |\" % (acc.mean(), acc.std(), eo.mean(), eo.std()))"
   ]
  },
  {
   "cell_type": "code",
   "execution_count": 13,
   "metadata": {},
   "outputs": [
    {
     "name": "stderr",
     "output_type": "stream",
     "text": [
      "\n",
      "  0%|          | 0/2 [00:00<?, ?it/s]\u001b[A"
     ]
    },
    {
     "name": "stdout",
     "output_type": "stream",
     "text": [
      "| seed: 0 |\n"
     ]
    },
    {
     "name": "stderr",
     "output_type": "stream",
     "text": [
      "\n",
      " 50%|█████     | 1/2 [00:26<00:26, 26.71s/it]\u001b[A\n",
      "100%|██████████| 2/2 [00:51<00:00, 25.99s/it]\u001b[A\n",
      "\n",
      "  0%|          | 0/5 [00:00<?, ?it/s]\u001b[A\n",
      " 20%|██        | 1/5 [00:32<02:10, 32.55s/it]\u001b[A\n",
      " 40%|████      | 2/5 [01:08<01:40, 33.55s/it]\u001b[A\n",
      " 60%|██████    | 3/5 [01:41<01:06, 33.50s/it]\u001b[A\n",
      "\n",
      "  0%|          | 0/2 [00:00<?, ?it/s]\u001b[A\u001b[A"
     ]
    },
    {
     "name": "stdout",
     "output_type": "stream",
     "text": [
      "|------ Acc.: 0.820 | EO Dis.: 0.064 |\n",
      "| seed: 1 |\n"
     ]
    },
    {
     "name": "stderr",
     "output_type": "stream",
     "text": [
      "\n",
      "\n",
      " 50%|█████     | 1/2 [00:26<00:26, 26.87s/it]\u001b[A\u001b[A\n",
      "\n",
      "100%|██████████| 2/2 [00:52<00:00, 26.29s/it]\u001b[A\u001b[A\n",
      "\n",
      "\n",
      "  0%|          | 0/5 [00:00<?, ?it/s]\u001b[A\u001b[A\n",
      "\n",
      " 20%|██        | 1/5 [00:28<01:54, 28.64s/it]\u001b[A\u001b[A\n",
      "\n",
      "\n",
      "  0%|          | 0/2 [00:00<?, ?it/s]\u001b[A\u001b[A\u001b[A"
     ]
    },
    {
     "name": "stdout",
     "output_type": "stream",
     "text": [
      "|------ Acc.: 0.845 | EO Dis.: 0.021 |\n",
      "| seed: 2 |\n"
     ]
    },
    {
     "name": "stderr",
     "output_type": "stream",
     "text": [
      "\n",
      "\n",
      "\n",
      " 50%|█████     | 1/2 [00:23<00:23, 23.07s/it]\u001b[A\u001b[A\u001b[A\n",
      "\n",
      "\n",
      "100%|██████████| 2/2 [00:45<00:00, 22.63s/it]\u001b[A\u001b[A\u001b[A\n",
      "\n",
      "\n",
      "\n",
      "  0%|          | 0/5 [00:00<?, ?it/s]\u001b[A\u001b[A\u001b[A\n",
      "\n",
      "\n",
      " 20%|██        | 1/5 [00:28<01:52, 28.00s/it]\u001b[A\u001b[A\u001b[A\n",
      "\n",
      "\n",
      " 40%|████      | 2/5 [00:56<01:24, 28.06s/it]\u001b[A\u001b[A\u001b[A\n",
      "\n",
      "\n",
      "\n",
      "  0%|          | 0/2 [00:00<?, ?it/s]\u001b[A\u001b[A\u001b[A\u001b[A"
     ]
    },
    {
     "name": "stdout",
     "output_type": "stream",
     "text": [
      "|------ Acc.: 0.826 | EO Dis.: 0.058 |\n",
      "| seed: 3 |\n"
     ]
    },
    {
     "name": "stderr",
     "output_type": "stream",
     "text": [
      "\n",
      "\n",
      "\n",
      "\n",
      " 50%|█████     | 1/2 [00:26<00:26, 26.37s/it]\u001b[A\u001b[A\u001b[A\u001b[A\n",
      "\n",
      "\n",
      "\n",
      "100%|██████████| 2/2 [00:49<00:00, 24.85s/it]\u001b[A\u001b[A\u001b[A\u001b[A\n",
      "\n",
      "\n",
      "\n",
      "\n",
      "  0%|          | 0/5 [00:00<?, ?it/s]\u001b[A\u001b[A\u001b[A\u001b[A\n",
      "\n",
      "\n",
      "\n",
      " 20%|██        | 1/5 [00:29<01:57, 29.40s/it]\u001b[A\u001b[A\u001b[A\u001b[A\n",
      "\n",
      "\n",
      "\n",
      " 40%|████      | 2/5 [00:59<01:28, 29.60s/it]\u001b[A\u001b[A\u001b[A\u001b[A\n",
      "\n",
      "\n",
      "\n",
      " 60%|██████    | 3/5 [01:30<00:59, 29.99s/it]\u001b[A\u001b[A\u001b[A\u001b[A\n",
      "\n",
      "\n",
      "\n",
      " 80%|████████  | 4/5 [02:00<00:30, 30.04s/it]\u001b[A\u001b[A\u001b[A\u001b[A\n",
      "\n",
      "\n",
      "\n",
      "100%|██████████| 5/5 [02:31<00:00, 30.32s/it]\u001b[A\u001b[A\u001b[A\u001b[A\n",
      "\n",
      "\n",
      "\n",
      "\n",
      "  0%|          | 0/2 [00:00<?, ?it/s]\u001b[A\u001b[A\u001b[A\u001b[A"
     ]
    },
    {
     "name": "stdout",
     "output_type": "stream",
     "text": [
      "|------ Acc.: 0.818 | EO Dis.: 0.015 |\n",
      "| seed: 4 |\n"
     ]
    },
    {
     "name": "stderr",
     "output_type": "stream",
     "text": [
      "\n",
      "\n",
      "\n",
      "\n",
      " 50%|█████     | 1/2 [00:24<00:24, 24.87s/it]\u001b[A\u001b[A\u001b[A\u001b[A\n",
      "\n",
      "\n",
      "\n",
      "100%|██████████| 2/2 [00:50<00:00, 25.15s/it]\u001b[A\u001b[A\u001b[A\u001b[A\n",
      "\n",
      "\n",
      "\n",
      "\n",
      "  0%|          | 0/5 [00:00<?, ?it/s]\u001b[A\u001b[A\u001b[A\u001b[A\n",
      "\n",
      "\n",
      "\n",
      " 20%|██        | 1/5 [00:31<02:06, 31.59s/it]\u001b[A\u001b[A\u001b[A\u001b[A\n",
      "\n",
      "\n",
      "\n",
      " 40%|████      | 2/5 [01:03<01:35, 31.76s/it]\u001b[A\u001b[A\u001b[A\u001b[A\n",
      "\n",
      "\n",
      "\n",
      " 60%|██████    | 3/5 [01:37<01:04, 32.33s/it]\u001b[A\u001b[A\u001b[A\u001b[A\n",
      "\n",
      "\n",
      "\n",
      " 80%|████████  | 4/5 [02:10<00:32, 32.54s/it]\u001b[A\u001b[A\u001b[A\u001b[A\n",
      "\n",
      "\n",
      "\n",
      "100%|██████████| 5/5 [02:43<00:00, 32.75s/it]\u001b[A\u001b[A\u001b[A\u001b[A\n",
      "\n",
      "\n",
      "\n",
      "\n",
      "  0%|          | 0/2 [00:00<?, ?it/s]\u001b[A\u001b[A\u001b[A\u001b[A"
     ]
    },
    {
     "name": "stdout",
     "output_type": "stream",
     "text": [
      "|------ Acc.: 0.809 | EO Dis.: 0.006 |\n",
      "| seed: 5 |\n"
     ]
    },
    {
     "name": "stderr",
     "output_type": "stream",
     "text": [
      "\n",
      "\n",
      "\n",
      "\n",
      " 50%|█████     | 1/2 [00:26<00:26, 26.88s/it]\u001b[A\u001b[A\u001b[A\u001b[A\n",
      "\n",
      "\n",
      "\n",
      "100%|██████████| 2/2 [00:54<00:00, 27.02s/it]\u001b[A\u001b[A\u001b[A\u001b[A\n",
      "\n",
      "\n",
      "\n",
      "\n",
      "  0%|          | 0/5 [00:00<?, ?it/s]\u001b[A\u001b[A\u001b[A\u001b[A\n",
      "\n",
      "\n",
      "\n",
      " 20%|██        | 1/5 [00:35<02:21, 35.27s/it]\u001b[A\u001b[A\u001b[A\u001b[A\n",
      "\n",
      "\n",
      "\n",
      "\n",
      "  0%|          | 0/2 [00:00<?, ?it/s]\u001b[A\u001b[A\u001b[A\u001b[A\u001b[A"
     ]
    },
    {
     "name": "stdout",
     "output_type": "stream",
     "text": [
      "|------ Acc.: 0.845 | EO Dis.: 0.011 |\n",
      "| seed: 6 |\n"
     ]
    },
    {
     "name": "stderr",
     "output_type": "stream",
     "text": [
      "\n",
      "\n",
      "\n",
      "\n",
      "\n",
      " 50%|█████     | 1/2 [00:28<00:28, 28.66s/it]\u001b[A\u001b[A\u001b[A\u001b[A\u001b[A\n",
      "\n",
      "\n",
      "\n",
      "\n",
      "100%|██████████| 2/2 [00:57<00:00, 29.00s/it]\u001b[A\u001b[A\u001b[A\u001b[A\u001b[A\n",
      "\n",
      "\n",
      "\n",
      "\n",
      "\n",
      "  0%|          | 0/5 [00:00<?, ?it/s]\u001b[A\u001b[A\u001b[A\u001b[A\u001b[A\n",
      "\n",
      "\n",
      "\n",
      "\n",
      " 20%|██        | 1/5 [00:35<02:23, 35.88s/it]\u001b[A\u001b[A\u001b[A\u001b[A\u001b[A\n",
      "\n",
      "\n",
      "\n",
      "\n",
      " 40%|████      | 2/5 [01:12<01:47, 35.98s/it]\u001b[A\u001b[A\u001b[A\u001b[A\u001b[A\n",
      "\n",
      "\n",
      "\n",
      "\n",
      " 60%|██████    | 3/5 [01:48<01:12, 36.03s/it]\u001b[A\u001b[A\u001b[A\u001b[A\u001b[A\n",
      "\n",
      "\n",
      "\n",
      "\n",
      "\n",
      "  0%|          | 0/2 [00:00<?, ?it/s]\u001b[A\u001b[A\u001b[A\u001b[A\u001b[A\u001b[A"
     ]
    },
    {
     "name": "stdout",
     "output_type": "stream",
     "text": [
      "|------ Acc.: 0.820 | EO Dis.: 0.067 |\n",
      "| seed: 7 |\n"
     ]
    },
    {
     "name": "stderr",
     "output_type": "stream",
     "text": [
      "\n",
      "\n",
      "\n",
      "\n",
      "\n",
      "\n",
      " 50%|█████     | 1/2 [00:30<00:30, 30.99s/it]\u001b[A\u001b[A\u001b[A\u001b[A\u001b[A\u001b[A\n",
      "\n",
      "\n",
      "\n",
      "\n",
      "\n",
      "100%|██████████| 2/2 [01:01<00:00, 30.95s/it]\u001b[A\u001b[A\u001b[A\u001b[A\u001b[A\u001b[A\n",
      "\n",
      "\n",
      "\n",
      "\n",
      "\n",
      "\n",
      "  0%|          | 0/5 [00:00<?, ?it/s]\u001b[A\u001b[A\u001b[A\u001b[A\u001b[A\u001b[A\n",
      "\n",
      "\n",
      "\n",
      "\n",
      "\n",
      " 20%|██        | 1/5 [00:37<02:30, 37.65s/it]\u001b[A\u001b[A\u001b[A\u001b[A\u001b[A\u001b[A\n",
      "\n",
      "\n",
      "\n",
      "\n",
      "\n",
      " 40%|████      | 2/5 [01:20<01:57, 39.28s/it]\u001b[A\u001b[A\u001b[A\u001b[A\u001b[A\u001b[A\n",
      "\n",
      "\n",
      "\n",
      "\n",
      "\n",
      " 60%|██████    | 3/5 [02:16<01:28, 44.35s/it]\u001b[A\u001b[A\u001b[A\u001b[A\u001b[A\u001b[A\n",
      "\n",
      "\n",
      "\n",
      "\n",
      "\n",
      " 80%|████████  | 4/5 [03:17<00:49, 49.10s/it]\u001b[A\u001b[A\u001b[A\u001b[A\u001b[A\u001b[A\n",
      "\n",
      "\n",
      "\n",
      "\n",
      "\n",
      "100%|██████████| 5/5 [04:30<00:00, 54.14s/it]\u001b[A\u001b[A\u001b[A\u001b[A\u001b[A\u001b[A\n",
      "\n",
      "\n",
      "\n",
      "\n",
      "\n",
      "\n",
      "  0%|          | 0/2 [00:00<?, ?it/s]\u001b[A\u001b[A\u001b[A\u001b[A\u001b[A\u001b[A"
     ]
    },
    {
     "name": "stdout",
     "output_type": "stream",
     "text": [
      "|------ Acc.: 0.837 | EO Dis.: 0.027 |\n",
      "| seed: 8 |\n"
     ]
    },
    {
     "name": "stderr",
     "output_type": "stream",
     "text": [
      "\n",
      "\n",
      "\n",
      "\n",
      "\n",
      "\n",
      " 50%|█████     | 1/2 [01:04<01:04, 64.92s/it]\u001b[A\u001b[A\u001b[A\u001b[A\u001b[A\u001b[A\n",
      "\n",
      "\n",
      "\n",
      "\n",
      "\n",
      "100%|██████████| 2/2 [02:22<00:00, 71.47s/it]\u001b[A\u001b[A\u001b[A\u001b[A\u001b[A\u001b[A\n",
      "\n",
      "\n",
      "\n",
      "\n",
      "\n",
      "\n",
      "  0%|          | 0/5 [00:00<?, ?it/s]\u001b[A\u001b[A\u001b[A\u001b[A\u001b[A\u001b[A\n",
      "\n",
      "\n",
      "\n",
      "\n",
      "\n",
      " 20%|██        | 1/5 [01:21<05:24, 81.21s/it]\u001b[A\u001b[A\u001b[A\u001b[A\u001b[A\u001b[A\n",
      "\n",
      "\n",
      "\n",
      "\n",
      "\n",
      " 40%|████      | 2/5 [02:45<04:06, 82.27s/it]\u001b[A\u001b[A\u001b[A\u001b[A\u001b[A\u001b[A\n",
      "\n",
      "\n",
      "\n",
      "\n",
      "\n",
      " 60%|██████    | 3/5 [04:25<02:54, 87.41s/it]\u001b[A\u001b[A\u001b[A\u001b[A\u001b[A\u001b[A\n",
      "\n",
      "\n",
      "\n",
      "\n",
      "\n",
      " 80%|████████  | 4/5 [05:43<01:24, 84.75s/it]\u001b[A\u001b[A\u001b[A\u001b[A\u001b[A\u001b[A\n",
      "\n",
      "\n",
      "\n",
      "\n",
      "\n",
      "100%|██████████| 5/5 [07:04<00:00, 84.87s/it]\u001b[A\u001b[A\u001b[A\u001b[A\u001b[A\u001b[A\n",
      "\n",
      "\n",
      "\n",
      "\n",
      "\n",
      "\n",
      "  0%|          | 0/2 [00:00<?, ?it/s]\u001b[A\u001b[A\u001b[A\u001b[A\u001b[A\u001b[A"
     ]
    },
    {
     "name": "stdout",
     "output_type": "stream",
     "text": [
      "|------ Acc.: 0.834 | EO Dis.: 0.032 |\n",
      "| seed: 9 |\n"
     ]
    },
    {
     "name": "stderr",
     "output_type": "stream",
     "text": [
      "\n",
      "\n",
      "\n",
      "\n",
      "\n",
      "\n",
      " 50%|█████     | 1/2 [00:47<00:47, 47.60s/it]\u001b[A\u001b[A\u001b[A\u001b[A\u001b[A\u001b[A\n",
      "\n",
      "\n",
      "\n",
      "\n",
      "\n",
      "100%|██████████| 2/2 [01:41<00:00, 50.64s/it]\u001b[A\u001b[A\u001b[A\u001b[A\u001b[A\u001b[A\n",
      "\n",
      "\n",
      "\n",
      "\n",
      "\n",
      "\n",
      "  0%|          | 0/5 [00:00<?, ?it/s]\u001b[A\u001b[A\u001b[A\u001b[A\u001b[A\u001b[A\n",
      "\n",
      "\n",
      "\n",
      "\n",
      "\n",
      " 20%|██        | 1/5 [01:24<05:38, 84.75s/it]\u001b[A\u001b[A\u001b[A\u001b[A\u001b[A\u001b[A\n",
      "\n",
      "\n",
      "\n",
      "\n",
      "\n",
      " 40%|████      | 2/5 [02:33<04:00, 80.02s/it]\u001b[A\u001b[A\u001b[A\u001b[A\u001b[A\u001b[A\n",
      "\n",
      "\n",
      "\n",
      "\n",
      "\n",
      " 60%|██████    | 3/5 [03:31<02:26, 73.48s/it]\u001b[A\u001b[A\u001b[A\u001b[A\u001b[A\u001b[A\n",
      "\n",
      "\n",
      "\n",
      "\n",
      "\n",
      " 80%|████████  | 4/5 [04:38<01:11, 71.53s/it]\u001b[A\u001b[A\u001b[A\u001b[A\u001b[A\u001b[A"
     ]
    },
    {
     "name": "stdout",
     "output_type": "stream",
     "text": [
      "|------ Acc.: 0.816 | EO Dis.: 0.072 |\n",
      "| Acc.: 0.827(0.012) | EO Dis.: 0.037(0.024) |\n"
     ]
    }
   ],
   "source": [
    "acc, eo = np.zeros(10), np.zeros(10)\n",
    "for seed in range(10):\n",
    "    print(\"| seed: %d |\" % seed)\n",
    "    server = Server(logReg(num_features=adult_num_features, num_classes=2, seed = seed), adult_info, train_prn = False, seed = seed, ret = True)\n",
    "    server.Unconstrained(num_rounds = 2, local_epochs = 30, optimizer = 'adam', learning_rate = 0.008)\n",
    "    acc[seed], eo[seed] = server.ThresholdAdjust(num_rounds = 5, local_epochs = 30, epsilon = 0.005, learning_rate = 0.0002)\n",
    "    print(\"|------ Acc.: %.3f | EO Dis.: %.3f |\" % (acc[seed], eo[seed]))\n",
    "print(\"| Acc.: %.3f(%.3f) | EO Dis.: %.3f(%.3f) |\" % (acc.mean(), acc.std(), eo.mean(), eo.std()))"
   ]
  },
  {
   "cell_type": "code",
   "execution_count": 4,
   "metadata": {
    "scrolled": true
   },
   "outputs": [
    {
     "name": "stderr",
     "output_type": "stream",
     "text": [
      "\r",
      "  0%|          | 0/5 [00:00<?, ?it/s]"
     ]
    },
    {
     "name": "stdout",
     "output_type": "stream",
     "text": [
      "| seed: 0 |\n"
     ]
    },
    {
     "name": "stderr",
     "output_type": "stream",
     "text": [
      "100%|██████████| 5/5 [02:22<00:00, 28.48s/it]\n",
      "  0%|          | 0/5 [00:00<?, ?it/s]"
     ]
    },
    {
     "name": "stdout",
     "output_type": "stream",
     "text": [
      "|------ Acc.: 0.810 | EO Dis.: 0.013 |\n",
      "| seed: 1 |\n"
     ]
    },
    {
     "name": "stderr",
     "output_type": "stream",
     "text": [
      "100%|██████████| 5/5 [02:22<00:00, 28.51s/it]\n",
      "  0%|          | 0/5 [00:00<?, ?it/s]"
     ]
    },
    {
     "name": "stdout",
     "output_type": "stream",
     "text": [
      "|------ Acc.: 0.846 | EO Dis.: 0.004 |\n",
      "| seed: 2 |\n"
     ]
    },
    {
     "name": "stderr",
     "output_type": "stream",
     "text": [
      "100%|██████████| 5/5 [02:22<00:00, 28.48s/it]\n",
      "  0%|          | 0/5 [00:00<?, ?it/s]"
     ]
    },
    {
     "name": "stdout",
     "output_type": "stream",
     "text": [
      "|------ Acc.: 0.814 | EO Dis.: 0.012 |\n",
      "| seed: 3 |\n"
     ]
    },
    {
     "name": "stderr",
     "output_type": "stream",
     "text": [
      "100%|██████████| 5/5 [02:35<00:00, 31.06s/it]\n",
      "  0%|          | 0/5 [00:00<?, ?it/s]"
     ]
    },
    {
     "name": "stdout",
     "output_type": "stream",
     "text": [
      "|------ Acc.: 0.801 | EO Dis.: 0.010 |\n",
      "| seed: 4 |\n"
     ]
    },
    {
     "name": "stderr",
     "output_type": "stream",
     "text": [
      "100%|██████████| 5/5 [02:39<00:00, 31.94s/it]\n",
      "  0%|          | 0/5 [00:00<?, ?it/s]"
     ]
    },
    {
     "name": "stdout",
     "output_type": "stream",
     "text": [
      "|------ Acc.: 0.810 | EO Dis.: 0.008 |\n",
      "| seed: 5 |\n"
     ]
    },
    {
     "name": "stderr",
     "output_type": "stream",
     "text": [
      "100%|██████████| 5/5 [02:51<00:00, 34.30s/it]\n",
      "  0%|          | 0/5 [00:00<?, ?it/s]"
     ]
    },
    {
     "name": "stdout",
     "output_type": "stream",
     "text": [
      "|------ Acc.: 0.846 | EO Dis.: 0.019 |\n",
      "| seed: 6 |\n"
     ]
    },
    {
     "name": "stderr",
     "output_type": "stream",
     "text": [
      "100%|██████████| 5/5 [03:19<00:00, 39.90s/it]\n",
      "  0%|          | 0/5 [00:00<?, ?it/s]"
     ]
    },
    {
     "name": "stdout",
     "output_type": "stream",
     "text": [
      "|------ Acc.: 0.802 | EO Dis.: 0.020 |\n",
      "| seed: 7 |\n"
     ]
    },
    {
     "name": "stderr",
     "output_type": "stream",
     "text": [
      "100%|██████████| 5/5 [04:16<00:00, 51.22s/it]\n",
      "  0%|          | 0/5 [00:00<?, ?it/s]"
     ]
    },
    {
     "name": "stdout",
     "output_type": "stream",
     "text": [
      "|------ Acc.: 0.845 | EO Dis.: 0.003 |\n",
      "| seed: 8 |\n"
     ]
    },
    {
     "name": "stderr",
     "output_type": "stream",
     "text": [
      "100%|██████████| 5/5 [04:27<00:00, 53.55s/it]\n",
      "  0%|          | 0/5 [00:00<?, ?it/s]"
     ]
    },
    {
     "name": "stdout",
     "output_type": "stream",
     "text": [
      "|------ Acc.: 0.846 | EO Dis.: 0.008 |\n",
      "| seed: 9 |\n"
     ]
    },
    {
     "name": "stderr",
     "output_type": "stream",
     "text": [
      "100%|██████████| 5/5 [03:59<00:00, 47.91s/it]\n"
     ]
    },
    {
     "name": "stdout",
     "output_type": "stream",
     "text": [
      "|------ Acc.: 0.813 | EO Dis.: 0.013 |\n",
      "| Acc.: 0.823(0.019) | EO Dis.: 0.011(0.005) |\n"
     ]
    }
   ],
   "source": [
    "acc, eo = np.zeros(10), np.zeros(10)\n",
    "for seed in range(10):\n",
    "    print(\"| seed: %d |\" % seed)\n",
    "    server = Server(logReg(num_features=adult_num_features, num_classes=2, seed = seed), adult_info, train_prn = False, seed = seed, ret = True)\n",
    "    acc[seed], eo[seed] = server.BiasCorrecting(num_rounds = 5, local_epochs = 30, optimizer = 'adam', learning_rate = 0.01, alpha = 5)\n",
    "    print(\"|------ Acc.: %.3f | EO Dis.: %.3f |\" % (acc[seed], eo[seed]))\n",
    "print(\"| Acc.: %.3f(%.3f) | EO Dis.: %.3f(%.3f) |\" % (acc.mean(), acc.std(), eo.mean(), eo.std()))"
   ]
  },
  {
   "cell_type": "code",
   "execution_count": 7,
   "metadata": {
    "scrolled": true
   },
   "outputs": [
    {
     "name": "stderr",
     "output_type": "stream",
     "text": [
      "\r",
      "  0%|          | 0/5 [00:00<?, ?it/s]"
     ]
    },
    {
     "name": "stdout",
     "output_type": "stream",
     "text": [
      "| seed: 0 |\n"
     ]
    },
    {
     "name": "stderr",
     "output_type": "stream",
     "text": [
      "100%|██████████| 5/5 [07:14<00:00, 86.96s/it]\n",
      "  0%|          | 0/5 [00:00<?, ?it/s]"
     ]
    },
    {
     "name": "stdout",
     "output_type": "stream",
     "text": [
      "|------ Acc.: 0.771 | EO Dis.: 0.004 |\n",
      "| seed: 1 |\n"
     ]
    },
    {
     "name": "stderr",
     "output_type": "stream",
     "text": [
      "100%|██████████| 5/5 [12:29<00:00, 150.00s/it]\n",
      "  0%|          | 0/5 [00:00<?, ?it/s]"
     ]
    },
    {
     "name": "stdout",
     "output_type": "stream",
     "text": [
      "|------ Acc.: 0.786 | EO Dis.: 0.004 |\n",
      "| seed: 2 |\n"
     ]
    },
    {
     "name": "stderr",
     "output_type": "stream",
     "text": [
      "100%|██████████| 5/5 [08:48<00:00, 105.71s/it]\n",
      "  0%|          | 0/5 [00:00<?, ?it/s]"
     ]
    },
    {
     "name": "stdout",
     "output_type": "stream",
     "text": [
      "|------ Acc.: 0.770 | EO Dis.: 0.004 |\n",
      "| seed: 3 |\n"
     ]
    },
    {
     "name": "stderr",
     "output_type": "stream",
     "text": [
      "100%|██████████| 5/5 [08:30<00:00, 102.03s/it]\n",
      "  0%|          | 0/5 [00:00<?, ?it/s]"
     ]
    },
    {
     "name": "stdout",
     "output_type": "stream",
     "text": [
      "|------ Acc.: 0.772 | EO Dis.: 0.011 |\n",
      "| seed: 4 |\n"
     ]
    },
    {
     "name": "stderr",
     "output_type": "stream",
     "text": [
      "100%|██████████| 5/5 [09:23<00:00, 112.78s/it]\n",
      "  0%|          | 0/5 [00:00<?, ?it/s]"
     ]
    },
    {
     "name": "stdout",
     "output_type": "stream",
     "text": [
      "|------ Acc.: 0.771 | EO Dis.: 0.004 |\n",
      "| seed: 5 |\n"
     ]
    },
    {
     "name": "stderr",
     "output_type": "stream",
     "text": [
      "100%|██████████| 5/5 [10:18<00:00, 123.60s/it]\n",
      "  0%|          | 0/5 [00:00<?, ?it/s]"
     ]
    },
    {
     "name": "stdout",
     "output_type": "stream",
     "text": [
      "|------ Acc.: 0.840 | EO Dis.: 0.100 |\n",
      "| seed: 6 |\n"
     ]
    },
    {
     "name": "stderr",
     "output_type": "stream",
     "text": [
      "100%|██████████| 5/5 [08:18<00:00, 99.75s/it] \n",
      "  0%|          | 0/5 [00:00<?, ?it/s]"
     ]
    },
    {
     "name": "stdout",
     "output_type": "stream",
     "text": [
      "|------ Acc.: 0.769 | EO Dis.: 0.001 |\n",
      "| seed: 7 |\n"
     ]
    },
    {
     "name": "stderr",
     "output_type": "stream",
     "text": [
      "100%|██████████| 5/5 [10:18<00:00, 123.60s/it]\n",
      "  0%|          | 0/5 [00:00<?, ?it/s]"
     ]
    },
    {
     "name": "stdout",
     "output_type": "stream",
     "text": [
      "|------ Acc.: 0.836 | EO Dis.: 0.144 |\n",
      "| seed: 8 |\n"
     ]
    },
    {
     "name": "stderr",
     "output_type": "stream",
     "text": [
      "100%|██████████| 5/5 [09:14<00:00, 110.87s/it]\n",
      "  0%|          | 0/5 [00:00<?, ?it/s]"
     ]
    },
    {
     "name": "stdout",
     "output_type": "stream",
     "text": [
      "|------ Acc.: 0.787 | EO Dis.: 0.008 |\n",
      "| seed: 9 |\n"
     ]
    },
    {
     "name": "stderr",
     "output_type": "stream",
     "text": [
      "100%|██████████| 5/5 [10:26<00:00, 125.31s/it]\n"
     ]
    },
    {
     "name": "stdout",
     "output_type": "stream",
     "text": [
      "|------ Acc.: 0.770 | EO Dis.: 0.002 |\n",
      "| Acc.: 0.787(0.026) | EO Dis.: 0.028(0.048) |\n"
     ]
    }
   ],
   "source": [
    "acc, eo = np.zeros(10), np.zeros(10)\n",
    "for seed in range(10):\n",
    "    print(\"| seed: %d |\" % seed)\n",
    "    server = Server(logReg(num_features=adult_num_features, num_classes=2, seed = seed), adult_info, train_prn = False, seed = seed, ret = True)\n",
    "    acc[seed], eo[seed] = server.FTrain(num_rounds = 5, local_epochs = 30, init_epochs = 50, lr_g = 0.002, lr_d = 0.008, lambda_d = 1)\n",
    "    print(\"|------ Acc.: %.3f | EO Dis.: %.3f |\" % (acc[seed], eo[seed]))\n",
    "print(\"| Acc.: %.3f(%.3f) | EO Dis.: %.3f(%.3f) |\" % (acc.mean(), acc.std(), eo.mean(), eo.std()))"
   ]
  },
  {
   "cell_type": "markdown",
   "metadata": {},
   "source": [
    "# Others"
   ]
  },
  {
   "cell_type": "code",
   "execution_count": 5,
   "metadata": {
    "scrolled": true
   },
   "outputs": [
    {
     "name": "stderr",
     "output_type": "stream",
     "text": [
      "\r",
      "  0%|          | 0/5 [00:00<?, ?it/s]"
     ]
    },
    {
     "name": "stdout",
     "output_type": "stream",
     "text": [
      "\n",
      " | Global Training Round : 1 |\n",
      "\n"
     ]
    },
    {
     "name": "stderr",
     "output_type": "stream",
     "text": [
      "\r",
      " 20%|██        | 1/5 [00:31<02:05, 31.29s/it]"
     ]
    },
    {
     "name": "stdout",
     "output_type": "stream",
     "text": [
      "Client 1: predictor loss: 91.40 | adversary loss 0.54 | Equal Opportunity Disparity = 0.12\n",
      "Client 2: predictor loss: 45.69 | adversary loss 0.68 | Equal Opportunity Disparity = 0.05\n",
      " \n",
      "Avg Training Stats after 1 global rounds:\n",
      "Training loss: 0.35 | Validation accuracy: 77.59% | Validation Equal Opportunity Disparity: 0.0960\n",
      "\n",
      " | Global Training Round : 2 |\n",
      "\n"
     ]
    },
    {
     "name": "stderr",
     "output_type": "stream",
     "text": [
      "\r",
      " 40%|████      | 2/5 [01:44<02:11, 43.79s/it]"
     ]
    },
    {
     "name": "stdout",
     "output_type": "stream",
     "text": [
      "Client 1: predictor loss: 176.41 | adversary loss 0.62 | Equal Opportunity Disparity = 0.00\n",
      "Client 2: predictor loss: 87.07 | adversary loss 0.80 | Equal Opportunity Disparity = 0.02\n",
      " \n",
      "Avg Training Stats after 2 global rounds:\n",
      "Training loss: 0.36 | Validation accuracy: 57.56% | Validation Equal Opportunity Disparity: 0.0047\n",
      "\n",
      " | Global Training Round : 3 |\n",
      "\n"
     ]
    },
    {
     "name": "stderr",
     "output_type": "stream",
     "text": [
      "\r",
      " 60%|██████    | 3/5 [02:54<01:43, 51.66s/it]"
     ]
    },
    {
     "name": "stdout",
     "output_type": "stream",
     "text": [
      "Client 1: predictor loss: 91.11 | adversary loss 0.62 | Equal Opportunity Disparity = 0.07\n",
      "Client 2: predictor loss: 45.71 | adversary loss 0.79 | Equal Opportunity Disparity = 0.04\n",
      " \n",
      "Avg Training Stats after 3 global rounds:\n",
      "Training loss: 0.42 | Validation accuracy: 77.88% | Validation Equal Opportunity Disparity: 0.0571\n",
      "\n",
      " | Global Training Round : 4 |\n",
      "\n"
     ]
    },
    {
     "name": "stderr",
     "output_type": "stream",
     "text": [
      "\r",
      " 80%|████████  | 4/5 [04:16<01:00, 60.85s/it]"
     ]
    },
    {
     "name": "stdout",
     "output_type": "stream",
     "text": [
      "Client 1: predictor loss: 163.13 | adversary loss 0.62 | Equal Opportunity Disparity = 0.01\n",
      "Client 2: predictor loss: 109.78 | adversary loss 0.80 | Equal Opportunity Disparity = 0.01\n",
      " \n",
      "Avg Training Stats after 4 global rounds:\n",
      "Training loss: 0.45 | Validation accuracy: 73.71% | Validation Equal Opportunity Disparity: 0.0123\n",
      "\n",
      " | Global Training Round : 5 |\n",
      "\n"
     ]
    },
    {
     "name": "stderr",
     "output_type": "stream",
     "text": [
      "100%|██████████| 5/5 [05:47<00:00, 69.54s/it]"
     ]
    },
    {
     "name": "stdout",
     "output_type": "stream",
     "text": [
      "Client 1: predictor loss: 243.68 | adversary loss 0.61 | Equal Opportunity Disparity = 0.01\n",
      "Client 2: predictor loss: 160.32 | adversary loss 0.80 | Equal Opportunity Disparity = 0.01\n",
      " \n",
      "Avg Training Stats after 5 global rounds:\n",
      "Training loss: 0.60 | Validation accuracy: 72.96% | Validation Equal Opportunity Disparity: 0.0101\n"
     ]
    },
    {
     "name": "stderr",
     "output_type": "stream",
     "text": [
      "\n"
     ]
    },
    {
     "name": "stdout",
     "output_type": "stream",
     "text": [
      " \n",
      " Results after 5 global rounds of training:\n",
      "|---- Avg Train Accuracy: 72.96%\n",
      "|---- Test Accuracy: 77.01%\n",
      "|---- Test Equal Opportunity Disparity: 0.0018\n",
      "\n",
      " Total Run Time: 349.3138 sec\n"
     ]
    }
   ],
   "source": [
    "server = Server(logReg(num_features=adult_num_features, num_classes=2, seed = seed), adult_info, train_prn = False, seed = seed)\n",
    "server.FTrain(num_rounds = 5, local_epochs = 30, init_epochs = 50, lr_g = 0.002, lr_d = 0.008, lambda_d = 1)"
   ]
  },
  {
   "cell_type": "code",
   "execution_count": 3,
   "metadata": {
    "scrolled": true
   },
   "outputs": [
    {
     "name": "stderr",
     "output_type": "stream",
     "text": [
      "\r",
      "  0%|          | 0/5 [00:00<?, ?it/s]"
     ]
    },
    {
     "name": "stdout",
     "output_type": "stream",
     "text": [
      "\n",
      " | Global Training Round : 1 |\n",
      "\n"
     ]
    },
    {
     "name": "stderr",
     "output_type": "stream",
     "text": [
      "\r",
      " 20%|██        | 1/5 [00:30<02:02, 30.50s/it]"
     ]
    },
    {
     "name": "stdout",
     "output_type": "stream",
     "text": [
      "Client 1: accuracy loss: 97.76 | fairness loss 128.88 | Equal Opportunity Disparity = 0.12\n",
      "Client 2: accuracy loss: 49.71 | fairness loss 170.15 | Equal Opportunity Disparity = 0.09\n",
      " \n",
      "Avg Training Stats after 1 global rounds:\n",
      "Training loss: 0.33 | Validation accuracy: 74.90% | Validation Equal Opportunity Disparity: 0.1058\n",
      "\n",
      " | Global Training Round : 2 |\n",
      "\n"
     ]
    },
    {
     "name": "stderr",
     "output_type": "stream",
     "text": [
      "\r",
      " 40%|████      | 2/5 [00:59<01:30, 30.03s/it]"
     ]
    },
    {
     "name": "stdout",
     "output_type": "stream",
     "text": [
      "Client 1: accuracy loss: 101.85 | fairness loss 125.30 | Equal Opportunity Disparity = 0.07\n",
      "Client 2: accuracy loss: 51.44 | fairness loss 169.93 | Equal Opportunity Disparity = 0.06\n",
      " \n",
      "Avg Training Stats after 2 global rounds:\n",
      "Training loss: 0.33 | Validation accuracy: 73.52% | Validation Equal Opportunity Disparity: 0.0688\n",
      "\n",
      " | Global Training Round : 3 |\n",
      "\n"
     ]
    },
    {
     "name": "stderr",
     "output_type": "stream",
     "text": [
      "\r",
      " 60%|██████    | 3/5 [01:27<00:59, 29.59s/it]"
     ]
    },
    {
     "name": "stdout",
     "output_type": "stream",
     "text": [
      "Client 1: accuracy loss: 103.49 | fairness loss 122.65 | Equal Opportunity Disparity = 0.06\n",
      "Client 2: accuracy loss: 52.21 | fairness loss 168.16 | Equal Opportunity Disparity = 0.04\n",
      " \n",
      "Avg Training Stats after 3 global rounds:\n",
      "Training loss: 0.33 | Validation accuracy: 72.64% | Validation Equal Opportunity Disparity: 0.0573\n",
      "\n",
      " | Global Training Round : 4 |\n",
      "\n"
     ]
    },
    {
     "name": "stderr",
     "output_type": "stream",
     "text": [
      "\r",
      " 80%|████████  | 4/5 [01:56<00:29, 29.29s/it]"
     ]
    },
    {
     "name": "stdout",
     "output_type": "stream",
     "text": [
      "Client 1: accuracy loss: 104.13 | fairness loss 120.79 | Equal Opportunity Disparity = 0.05\n",
      "Client 2: accuracy loss: 52.57 | fairness loss 166.39 | Equal Opportunity Disparity = 0.04\n",
      " \n",
      "Avg Training Stats after 4 global rounds:\n",
      "Training loss: 0.34 | Validation accuracy: 72.34% | Validation Equal Opportunity Disparity: 0.0505\n",
      "\n",
      " | Global Training Round : 5 |\n",
      "\n"
     ]
    },
    {
     "name": "stderr",
     "output_type": "stream",
     "text": [
      "100%|██████████| 5/5 [02:24<00:00, 28.93s/it]"
     ]
    },
    {
     "name": "stdout",
     "output_type": "stream",
     "text": [
      "Client 1: accuracy loss: 104.35 | fairness loss 119.51 | Equal Opportunity Disparity = 0.04\n",
      "Client 2: accuracy loss: 52.74 | fairness loss 164.95 | Equal Opportunity Disparity = 0.03\n",
      " \n",
      "Avg Training Stats after 5 global rounds:\n",
      "Training loss: 0.34 | Validation accuracy: 72.48% | Validation Equal Opportunity Disparity: 0.0332\n"
     ]
    },
    {
     "name": "stderr",
     "output_type": "stream",
     "text": [
      "\n"
     ]
    },
    {
     "name": "stdout",
     "output_type": "stream",
     "text": [
      " \n",
      " Results after 5 global rounds of training:\n",
      "|---- Avg Train Accuracy: 72.48%\n",
      "|---- Test Accuracy: 80.74%\n",
      "|---- Test Equal Opportunity Disparity: 0.0149\n",
      "\n",
      " Total Run Time: 145.0761 sec\n"
     ]
    }
   ],
   "source": [
    "server = Server(logReg(num_features=adult_num_features, num_classes=2, seed = seed), adult_info, train_prn = False, seed = seed)\n",
    "server.BiasCorrecting(num_rounds = 5, local_epochs = 30, optimizer = 'adam', learning_rate = 0.01, alpha = 5)"
   ]
  },
  {
   "cell_type": "code",
   "execution_count": null,
   "metadata": {},
   "outputs": [],
   "source": [
    "server = Server(logReg(num_features=adult_num_features, num_classes=2, seed = seed), adult_info, train_prn = False, seed = seed)\n",
    "server.BiasCorrecting(num_rounds = 5, local_epochs = 30, optimizer = 'adam', learning_rate = 0.01, alpha = 4)"
   ]
  },
  {
   "cell_type": "code",
   "execution_count": null,
   "metadata": {},
   "outputs": [],
   "source": [
    "server = Server(logReg(num_features=adult_num_features, num_classes=2, seed = seed), adult_info, train_prn = False, seed = seed)\n",
    "server.Unconstrained(num_rounds = 2, local_epochs = 30, optimizer = 'adam', learning_rate = 0.008)\n",
    "server.ThresholdAdjust(num_rounds = 5, local_epochs = 30, epsilon = 0.01, learning_rate = 0.001)"
   ]
  },
  {
   "cell_type": "code",
   "execution_count": 11,
   "metadata": {
    "scrolled": true
   },
   "outputs": [
    {
     "name": "stderr",
     "output_type": "stream",
     "text": [
      "\n",
      "  0%|          | 0/5 [00:00<?, ?it/s]\u001b[A"
     ]
    },
    {
     "name": "stdout",
     "output_type": "stream",
     "text": [
      "\n",
      " | Global Training Round : 1 |\n",
      "\n"
     ]
    },
    {
     "name": "stderr",
     "output_type": "stream",
     "text": [
      "\n",
      " 20%|██        | 1/5 [00:34<02:17, 34.31s/it]\u001b[A"
     ]
    },
    {
     "name": "stdout",
     "output_type": "stream",
     "text": [
      "Client 1: accuracy loss: 92.64 | fairness loss 33.74 | Equal Opportunity Disparity = 0.22\n",
      "Client 2: accuracy loss: 52.47 | fairness loss 51.92 | Equal Opportunity Disparity = 0.10\n",
      " \n",
      "Avg Training Stats after 1 global rounds:\n",
      "Training loss: 60.38 | Validation accuracy: 78.68% | Validation Equal Opportunity Disparity: 0.1781\n",
      "\n",
      " | Global Training Round : 2 |\n",
      "\n"
     ]
    },
    {
     "name": "stderr",
     "output_type": "stream",
     "text": [
      "\n",
      " 40%|████      | 2/5 [01:10<01:44, 34.83s/it]\u001b[A"
     ]
    },
    {
     "name": "stdout",
     "output_type": "stream",
     "text": [
      "Client 1: accuracy loss: 92.07 | fairness loss 35.33 | Equal Opportunity Disparity = 0.22\n",
      "Client 2: accuracy loss: 52.27 | fairness loss 54.73 | Equal Opportunity Disparity = 0.11\n",
      " \n",
      "Avg Training Stats after 2 global rounds:\n",
      "Training loss: 60.52 | Validation accuracy: 77.41% | Validation Equal Opportunity Disparity: 0.1793\n",
      "\n",
      " | Global Training Round : 3 |\n",
      "\n"
     ]
    },
    {
     "name": "stderr",
     "output_type": "stream",
     "text": [
      "\n",
      " 60%|██████    | 3/5 [01:48<01:11, 35.91s/it]\u001b[A"
     ]
    },
    {
     "name": "stdout",
     "output_type": "stream",
     "text": [
      "Client 1: accuracy loss: 91.58 | fairness loss 35.04 | Equal Opportunity Disparity = 0.15\n",
      "Client 2: accuracy loss: 52.14 | fairness loss 53.11 | Equal Opportunity Disparity = 0.06\n",
      " \n",
      "Avg Training Stats after 3 global rounds:\n",
      "Training loss: 60.71 | Validation accuracy: 75.94% | Validation Equal Opportunity Disparity: 0.1188\n",
      "\n",
      " | Global Training Round : 4 |\n",
      "\n"
     ]
    },
    {
     "name": "stderr",
     "output_type": "stream",
     "text": [
      "\n",
      " 80%|████████  | 4/5 [02:35<00:39, 39.20s/it]\u001b[A"
     ]
    },
    {
     "name": "stdout",
     "output_type": "stream",
     "text": [
      "Client 1: accuracy loss: 91.30 | fairness loss 34.73 | Equal Opportunity Disparity = 0.10\n",
      "Client 2: accuracy loss: 52.09 | fairness loss 51.55 | Equal Opportunity Disparity = 0.04\n",
      " \n",
      "Avg Training Stats after 4 global rounds:\n",
      "Training loss: 60.81 | Validation accuracy: 74.29% | Validation Equal Opportunity Disparity: 0.0783\n",
      "\n",
      " | Global Training Round : 5 |\n",
      "\n"
     ]
    },
    {
     "name": "stderr",
     "output_type": "stream",
     "text": [
      "\n",
      "100%|██████████| 5/5 [03:17<00:00, 39.48s/it]\u001b[A"
     ]
    },
    {
     "name": "stdout",
     "output_type": "stream",
     "text": [
      "Client 1: accuracy loss: 91.22 | fairness loss 34.45 | Equal Opportunity Disparity = 0.09\n",
      "Client 2: accuracy loss: 52.12 | fairness loss 50.12 | Equal Opportunity Disparity = 0.01\n",
      " \n",
      "Avg Training Stats after 5 global rounds:\n",
      "Training loss: 60.86 | Validation accuracy: 73.49% | Validation Equal Opportunity Disparity: 0.0586\n"
     ]
    },
    {
     "name": "stderr",
     "output_type": "stream",
     "text": [
      "\n"
     ]
    },
    {
     "name": "stdout",
     "output_type": "stream",
     "text": [
      " \n",
      " Results after 5 global rounds of training:\n",
      "|---- Avg Train Accuracy: 73.49%\n",
      "|---- Test Accuracy: 76.95%\n",
      "|---- Test Equal Opportunity Disparity: 0.0209\n",
      "\n",
      " Total Run Time: 198.1684 sec\n"
     ]
    }
   ],
   "source": [
    "server = Server(logReg(num_features=adult_num_features, num_classes=2, seed = seed), adult_info, train_prn = False, seed = seed)\n",
    "server.LocalFC(num_rounds = 5, local_epochs = 30, optimizer = 'adam', learning_rate = 0.004, penalty = 500)"
   ]
  },
  {
   "cell_type": "code",
   "execution_count": null,
   "metadata": {
    "scrolled": true
   },
   "outputs": [],
   "source": [
    "seed = 9\n",
    "server = Server(logReg(num_features=adult_num_features, num_classes=2, seed = seed), adult_info, train_prn = False, seed = seed)\n",
    "server.Unconstrained(num_rounds = 5, local_epochs = 30, optimizer = 'adam', learning_rate = 0.002)\n"
   ]
  },
  {
   "cell_type": "code",
   "execution_count": null,
   "metadata": {
    "scrolled": true
   },
   "outputs": [],
   "source": [
    "server = Server(logReg(num_features=adult_num_features, num_classes=2, seed = seed), adult_info, train_prn = False, seed = seed)\n",
    "server.FTrain(num_rounds = 5, local_epochs = 30, init_epochs = 50, lr_g = 0.002, lr_d = 0.008, lambda_d = 1)"
   ]
  },
  {
   "cell_type": "code",
   "execution_count": 5,
   "metadata": {
    "scrolled": true
   },
   "outputs": [
    {
     "name": "stderr",
     "output_type": "stream",
     "text": [
      "\r",
      "  0%|          | 0/10 [00:00<?, ?it/s]"
     ]
    },
    {
     "name": "stdout",
     "output_type": "stream",
     "text": [
      "\n",
      " | Global Training Round : 1 |\n",
      "\n",
      "Client 1: accuracy loss: 41.44 | fairness loss 147.11 | Equal Opportunity Disparity = 0.13\n"
     ]
    },
    {
     "name": "stderr",
     "output_type": "stream",
     "text": [
      "\r",
      " 10%|█         | 1/10 [00:26<03:54, 26.05s/it]"
     ]
    },
    {
     "name": "stdout",
     "output_type": "stream",
     "text": [
      "Client 2: accuracy loss: 56.49 | fairness loss 181.93 | Equal Opportunity Disparity = 0.11\n",
      " \n",
      "Avg Training Stats after 1 global rounds:\n",
      "Training loss: 0.33 | Training accuracy: 81.96% | Training Equal Opportunity Disparity: 0.1156\n",
      "\n",
      " | Global Training Round : 2 |\n",
      "\n",
      "Client 1: accuracy loss: 41.63 | fairness loss 145.22 | Equal Opportunity Disparity = 0.11\n"
     ]
    },
    {
     "name": "stderr",
     "output_type": "stream",
     "text": [
      "\r",
      " 20%|██        | 2/10 [00:52<03:28, 26.02s/it]"
     ]
    },
    {
     "name": "stdout",
     "output_type": "stream",
     "text": [
      "Client 2: accuracy loss: 57.98 | fairness loss 182.05 | Equal Opportunity Disparity = 0.09\n",
      " \n",
      "Avg Training Stats after 2 global rounds:\n",
      "Training loss: 0.33 | Training accuracy: 81.59% | Training Equal Opportunity Disparity: 0.0940\n",
      "\n",
      " | Global Training Round : 3 |\n",
      "\n",
      "Client 1: accuracy loss: 41.79 | fairness loss 144.07 | Equal Opportunity Disparity = 0.10\n"
     ]
    },
    {
     "name": "stderr",
     "output_type": "stream",
     "text": [
      "\r",
      " 30%|███       | 3/10 [01:18<03:03, 26.22s/it]"
     ]
    },
    {
     "name": "stdout",
     "output_type": "stream",
     "text": [
      "Client 2: accuracy loss: 58.33 | fairness loss 180.49 | Equal Opportunity Disparity = 0.08\n",
      " \n",
      "Avg Training Stats after 3 global rounds:\n",
      "Training loss: 0.33 | Training accuracy: 81.51% | Training Equal Opportunity Disparity: 0.0864\n",
      "\n",
      " | Global Training Round : 4 |\n",
      "\n",
      "Client 1: accuracy loss: 41.88 | fairness loss 143.03 | Equal Opportunity Disparity = 0.08\n"
     ]
    },
    {
     "name": "stderr",
     "output_type": "stream",
     "text": [
      "\r",
      " 40%|████      | 4/10 [01:51<02:48, 28.11s/it]"
     ]
    },
    {
     "name": "stdout",
     "output_type": "stream",
     "text": [
      "Client 2: accuracy loss: 58.19 | fairness loss 178.42 | Equal Opportunity Disparity = 0.08\n",
      " \n",
      "Avg Training Stats after 4 global rounds:\n",
      "Training loss: 0.33 | Training accuracy: 81.58% | Training Equal Opportunity Disparity: 0.0731\n",
      "\n",
      " | Global Training Round : 5 |\n",
      "\n",
      "Client 1: accuracy loss: 41.95 | fairness loss 142.09 | Equal Opportunity Disparity = 0.08\n"
     ]
    },
    {
     "name": "stderr",
     "output_type": "stream",
     "text": [
      "\r",
      " 50%|█████     | 5/10 [02:23<02:26, 29.26s/it]"
     ]
    },
    {
     "name": "stdout",
     "output_type": "stream",
     "text": [
      "Client 2: accuracy loss: 57.92 | fairness loss 176.36 | Equal Opportunity Disparity = 0.08\n",
      " \n",
      "Avg Training Stats after 5 global rounds:\n",
      "Training loss: 0.33 | Training accuracy: 81.65% | Training Equal Opportunity Disparity: 0.0708\n",
      "\n",
      " | Global Training Round : 6 |\n",
      "\n",
      "Client 1: accuracy loss: 42.00 | fairness loss 141.24 | Equal Opportunity Disparity = 0.07\n"
     ]
    },
    {
     "name": "stderr",
     "output_type": "stream",
     "text": [
      "\r",
      " 60%|██████    | 6/10 [03:00<02:07, 31.78s/it]"
     ]
    },
    {
     "name": "stdout",
     "output_type": "stream",
     "text": [
      "Client 2: accuracy loss: 57.63 | fairness loss 174.48 | Equal Opportunity Disparity = 0.07\n",
      " \n",
      "Avg Training Stats after 6 global rounds:\n",
      "Training loss: 0.33 | Training accuracy: 81.74% | Training Equal Opportunity Disparity: 0.0666\n",
      "\n",
      " | Global Training Round : 7 |\n",
      "\n",
      "Client 1: accuracy loss: 42.05 | fairness loss 140.48 | Equal Opportunity Disparity = 0.06\n"
     ]
    },
    {
     "name": "stderr",
     "output_type": "stream",
     "text": [
      "\r",
      " 70%|███████   | 7/10 [03:33<01:36, 32.20s/it]"
     ]
    },
    {
     "name": "stdout",
     "output_type": "stream",
     "text": [
      "Client 2: accuracy loss: 57.38 | fairness loss 172.80 | Equal Opportunity Disparity = 0.07\n",
      " \n",
      "Avg Training Stats after 7 global rounds:\n",
      "Training loss: 0.33 | Training accuracy: 81.84% | Training Equal Opportunity Disparity: 0.0614\n",
      "\n",
      " | Global Training Round : 8 |\n",
      "\n",
      "Client 1: accuracy loss: 42.09 | fairness loss 139.78 | Equal Opportunity Disparity = 0.06\n"
     ]
    },
    {
     "name": "stderr",
     "output_type": "stream",
     "text": [
      "\r",
      " 80%|████████  | 8/10 [04:02<01:02, 31.20s/it]"
     ]
    },
    {
     "name": "stdout",
     "output_type": "stream",
     "text": [
      "Client 2: accuracy loss: 57.16 | fairness loss 171.29 | Equal Opportunity Disparity = 0.06\n",
      " \n",
      "Avg Training Stats after 8 global rounds:\n",
      "Training loss: 0.33 | Training accuracy: 81.91% | Training Equal Opportunity Disparity: 0.0590\n",
      "\n",
      " | Global Training Round : 9 |\n",
      "\n",
      "Client 1: accuracy loss: 42.14 | fairness loss 139.15 | Equal Opportunity Disparity = 0.06\n"
     ]
    },
    {
     "name": "stderr",
     "output_type": "stream",
     "text": [
      "\r",
      " 90%|█████████ | 9/10 [04:37<00:32, 32.12s/it]"
     ]
    },
    {
     "name": "stdout",
     "output_type": "stream",
     "text": [
      "Client 2: accuracy loss: 56.97 | fairness loss 169.95 | Equal Opportunity Disparity = 0.06\n",
      " \n",
      "Avg Training Stats after 9 global rounds:\n",
      "Training loss: 0.33 | Training accuracy: 81.98% | Training Equal Opportunity Disparity: 0.0565\n",
      "\n",
      " | Global Training Round : 10 |\n",
      "\n",
      "Client 1: accuracy loss: 42.17 | fairness loss 138.56 | Equal Opportunity Disparity = 0.06\n"
     ]
    },
    {
     "name": "stderr",
     "output_type": "stream",
     "text": [
      "100%|██████████| 10/10 [05:03<00:00, 30.38s/it]"
     ]
    },
    {
     "name": "stdout",
     "output_type": "stream",
     "text": [
      "Client 2: accuracy loss: 56.81 | fairness loss 168.73 | Equal Opportunity Disparity = 0.06\n",
      " \n",
      "Avg Training Stats after 10 global rounds:\n",
      "Training loss: 0.33 | Training accuracy: 82.05% | Training Equal Opportunity Disparity: 0.0572\n"
     ]
    },
    {
     "name": "stderr",
     "output_type": "stream",
     "text": [
      "\n"
     ]
    },
    {
     "name": "stdout",
     "output_type": "stream",
     "text": [
      " \n",
      " Results after 10 global rounds of training:\n",
      "|---- Avg Train Accuracy: 82.05%\n",
      "|---- Test Accuracy: 82.05%\n",
      "|---- Test Equal Opportunity Disparity: 0.0516\n",
      "\n",
      " Total Run Time: 304.1861 sec\n"
     ]
    }
   ],
   "source": [
    "seed = 0\n",
    "server = Server(logReg(num_features=adult_num_features, num_classes=2, seed = seed), adult_info, train_prn = False, seed = seed)\n",
    "server.FairBatch(num_rounds = 10, local_epochs = 30, optimizer = 'adam', learning_rate = 0.01, alpha = 0.005)"
   ]
  },
  {
   "cell_type": "code",
   "execution_count": 6,
   "metadata": {
    "scrolled": true
   },
   "outputs": [
    {
     "name": "stderr",
     "output_type": "stream",
     "text": [
      "\r",
      "  0%|          | 0/20 [00:00<?, ?it/s]"
     ]
    },
    {
     "name": "stdout",
     "output_type": "stream",
     "text": [
      "\n",
      " | Global Training Round : 1 |\n",
      "\n",
      "Client 1: accuracy loss: 41.52 | fairness loss 147.07 | Equal Opportunity Disparity = 0.14\n"
     ]
    },
    {
     "name": "stderr",
     "output_type": "stream",
     "text": [
      "\r",
      "  5%|▌         | 1/20 [00:31<09:55, 31.33s/it]"
     ]
    },
    {
     "name": "stdout",
     "output_type": "stream",
     "text": [
      "Client 2: accuracy loss: 56.16 | fairness loss 179.97 | Equal Opportunity Disparity = 0.12\n",
      " \n",
      "Avg Training Stats after 1 global rounds:\n",
      "Training loss: 0.33 | Training accuracy: 82.18% | Training Equal Opportunity Disparity: 0.1254\n",
      "\n",
      " | Global Training Round : 2 |\n",
      "\n",
      "Client 1: accuracy loss: 41.76 | fairness loss 145.27 | Equal Opportunity Disparity = 0.11\n"
     ]
    },
    {
     "name": "stderr",
     "output_type": "stream",
     "text": [
      "\r",
      " 10%|█         | 2/20 [00:57<08:53, 29.64s/it]"
     ]
    },
    {
     "name": "stdout",
     "output_type": "stream",
     "text": [
      "Client 2: accuracy loss: 57.55 | fairness loss 179.71 | Equal Opportunity Disparity = 0.10\n",
      " \n",
      "Avg Training Stats after 2 global rounds:\n",
      "Training loss: 0.33 | Training accuracy: 81.73% | Training Equal Opportunity Disparity: 0.0996\n",
      "\n",
      " | Global Training Round : 3 |\n",
      "\n",
      "Client 1: accuracy loss: 41.88 | fairness loss 143.66 | Equal Opportunity Disparity = 0.09\n"
     ]
    },
    {
     "name": "stderr",
     "output_type": "stream",
     "text": [
      "\r",
      " 15%|█▌        | 3/20 [01:24<08:11, 28.88s/it]"
     ]
    },
    {
     "name": "stdout",
     "output_type": "stream",
     "text": [
      "Client 2: accuracy loss: 57.70 | fairness loss 177.67 | Equal Opportunity Disparity = 0.08\n",
      " \n",
      "Avg Training Stats after 3 global rounds:\n",
      "Training loss: 0.33 | Training accuracy: 81.71% | Training Equal Opportunity Disparity: 0.0848\n",
      "\n",
      " | Global Training Round : 4 |\n",
      "\n",
      "Client 1: accuracy loss: 41.97 | fairness loss 142.28 | Equal Opportunity Disparity = 0.08\n"
     ]
    },
    {
     "name": "stderr",
     "output_type": "stream",
     "text": [
      "\r",
      " 20%|██        | 4/20 [01:51<07:33, 28.32s/it]"
     ]
    },
    {
     "name": "stdout",
     "output_type": "stream",
     "text": [
      "Client 2: accuracy loss: 57.52 | fairness loss 175.33 | Equal Opportunity Disparity = 0.08\n",
      " \n",
      "Avg Training Stats after 4 global rounds:\n",
      "Training loss: 0.33 | Training accuracy: 81.76% | Training Equal Opportunity Disparity: 0.0745\n",
      "\n",
      " | Global Training Round : 5 |\n",
      "\n",
      "Client 1: accuracy loss: 42.04 | fairness loss 141.10 | Equal Opportunity Disparity = 0.07\n"
     ]
    },
    {
     "name": "stderr",
     "output_type": "stream",
     "text": [
      "\r",
      " 25%|██▌       | 5/20 [02:19<07:04, 28.29s/it]"
     ]
    },
    {
     "name": "stdout",
     "output_type": "stream",
     "text": [
      "Client 2: accuracy loss: 57.26 | fairness loss 173.11 | Equal Opportunity Disparity = 0.08\n",
      " \n",
      "Avg Training Stats after 5 global rounds:\n",
      "Training loss: 0.33 | Training accuracy: 81.84% | Training Equal Opportunity Disparity: 0.0714\n",
      "\n",
      " | Global Training Round : 6 |\n",
      "\n",
      "Client 1: accuracy loss: 42.10 | fairness loss 140.06 | Equal Opportunity Disparity = 0.07\n"
     ]
    },
    {
     "name": "stderr",
     "output_type": "stream",
     "text": [
      "\r",
      " 30%|███       | 6/20 [02:44<06:24, 27.46s/it]"
     ]
    },
    {
     "name": "stdout",
     "output_type": "stream",
     "text": [
      "Client 2: accuracy loss: 57.02 | fairness loss 171.10 | Equal Opportunity Disparity = 0.07\n",
      " \n",
      "Avg Training Stats after 6 global rounds:\n",
      "Training loss: 0.33 | Training accuracy: 81.96% | Training Equal Opportunity Disparity: 0.0661\n",
      "\n",
      " | Global Training Round : 7 |\n",
      "\n",
      "Client 1: accuracy loss: 42.16 | fairness loss 139.14 | Equal Opportunity Disparity = 0.07\n"
     ]
    },
    {
     "name": "stderr",
     "output_type": "stream",
     "text": [
      "\r",
      " 35%|███▌      | 7/20 [03:10<05:51, 27.02s/it]"
     ]
    },
    {
     "name": "stdout",
     "output_type": "stream",
     "text": [
      "Client 2: accuracy loss: 56.81 | fairness loss 169.30 | Equal Opportunity Disparity = 0.07\n",
      " \n",
      "Avg Training Stats after 7 global rounds:\n",
      "Training loss: 0.33 | Training accuracy: 82.05% | Training Equal Opportunity Disparity: 0.0654\n",
      "\n",
      " | Global Training Round : 8 |\n",
      "\n",
      "Client 1: accuracy loss: 42.21 | fairness loss 138.30 | Equal Opportunity Disparity = 0.07\n"
     ]
    },
    {
     "name": "stderr",
     "output_type": "stream",
     "text": [
      "\r",
      " 40%|████      | 8/20 [03:36<05:18, 26.53s/it]"
     ]
    },
    {
     "name": "stdout",
     "output_type": "stream",
     "text": [
      "Client 2: accuracy loss: 56.62 | fairness loss 167.68 | Equal Opportunity Disparity = 0.07\n",
      " \n",
      "Avg Training Stats after 8 global rounds:\n",
      "Training loss: 0.33 | Training accuracy: 82.09% | Training Equal Opportunity Disparity: 0.0639\n",
      "\n",
      " | Global Training Round : 9 |\n",
      "\n",
      "Client 1: accuracy loss: 42.26 | fairness loss 137.53 | Equal Opportunity Disparity = 0.07\n"
     ]
    },
    {
     "name": "stderr",
     "output_type": "stream",
     "text": [
      "\r",
      " 45%|████▌     | 9/20 [04:04<04:55, 26.89s/it]"
     ]
    },
    {
     "name": "stdout",
     "output_type": "stream",
     "text": [
      "Client 2: accuracy loss: 56.46 | fairness loss 166.21 | Equal Opportunity Disparity = 0.07\n",
      " \n",
      "Avg Training Stats after 9 global rounds:\n",
      "Training loss: 0.33 | Training accuracy: 82.13% | Training Equal Opportunity Disparity: 0.0620\n",
      "\n",
      " | Global Training Round : 10 |\n",
      "\n",
      "Client 1: accuracy loss: 42.31 | fairness loss 136.81 | Equal Opportunity Disparity = 0.06\n"
     ]
    },
    {
     "name": "stderr",
     "output_type": "stream",
     "text": [
      "\r",
      " 50%|█████     | 10/20 [04:30<04:27, 26.75s/it]"
     ]
    },
    {
     "name": "stdout",
     "output_type": "stream",
     "text": [
      "Client 2: accuracy loss: 56.33 | fairness loss 164.88 | Equal Opportunity Disparity = 0.06\n",
      " \n",
      "Avg Training Stats after 10 global rounds:\n",
      "Training loss: 0.33 | Training accuracy: 82.19% | Training Equal Opportunity Disparity: 0.0592\n",
      "\n",
      " | Global Training Round : 11 |\n",
      "\n",
      "Client 1: accuracy loss: 42.35 | fairness loss 136.14 | Equal Opportunity Disparity = 0.06\n"
     ]
    },
    {
     "name": "stderr",
     "output_type": "stream",
     "text": [
      "\r",
      " 55%|█████▌    | 11/20 [04:56<03:59, 26.64s/it]"
     ]
    },
    {
     "name": "stdout",
     "output_type": "stream",
     "text": [
      "Client 2: accuracy loss: 56.21 | fairness loss 163.64 | Equal Opportunity Disparity = 0.06\n",
      " \n",
      "Avg Training Stats after 11 global rounds:\n",
      "Training loss: 0.33 | Training accuracy: 82.22% | Training Equal Opportunity Disparity: 0.0574\n",
      "\n",
      " | Global Training Round : 12 |\n",
      "\n",
      "Client 1: accuracy loss: 42.39 | fairness loss 135.50 | Equal Opportunity Disparity = 0.06\n"
     ]
    },
    {
     "name": "stderr",
     "output_type": "stream",
     "text": [
      "\r",
      " 60%|██████    | 12/20 [05:22<03:31, 26.39s/it]"
     ]
    },
    {
     "name": "stdout",
     "output_type": "stream",
     "text": [
      "Client 2: accuracy loss: 56.10 | fairness loss 162.50 | Equal Opportunity Disparity = 0.06\n",
      " \n",
      "Avg Training Stats after 12 global rounds:\n",
      "Training loss: 0.33 | Training accuracy: 82.27% | Training Equal Opportunity Disparity: 0.0557\n",
      "\n",
      " | Global Training Round : 13 |\n",
      "\n",
      "Client 1: accuracy loss: 42.42 | fairness loss 134.89 | Equal Opportunity Disparity = 0.06\n"
     ]
    },
    {
     "name": "stderr",
     "output_type": "stream",
     "text": [
      "\r",
      " 65%|██████▌   | 13/20 [05:49<03:05, 26.56s/it]"
     ]
    },
    {
     "name": "stdout",
     "output_type": "stream",
     "text": [
      "Client 2: accuracy loss: 56.01 | fairness loss 161.44 | Equal Opportunity Disparity = 0.06\n",
      " \n",
      "Avg Training Stats after 13 global rounds:\n",
      "Training loss: 0.33 | Training accuracy: 82.32% | Training Equal Opportunity Disparity: 0.0544\n",
      "\n",
      " | Global Training Round : 14 |\n",
      "\n",
      "Client 1: accuracy loss: 42.46 | fairness loss 134.32 | Equal Opportunity Disparity = 0.06\n"
     ]
    },
    {
     "name": "stderr",
     "output_type": "stream",
     "text": [
      "\r",
      " 70%|███████   | 14/20 [06:16<02:40, 26.75s/it]"
     ]
    },
    {
     "name": "stdout",
     "output_type": "stream",
     "text": [
      "Client 2: accuracy loss: 55.93 | fairness loss 160.44 | Equal Opportunity Disparity = 0.06\n",
      " \n",
      "Avg Training Stats after 14 global rounds:\n",
      "Training loss: 0.33 | Training accuracy: 82.36% | Training Equal Opportunity Disparity: 0.0540\n",
      "\n",
      " | Global Training Round : 15 |\n",
      "\n",
      "Client 1: accuracy loss: 42.49 | fairness loss 133.76 | Equal Opportunity Disparity = 0.06\n"
     ]
    },
    {
     "name": "stderr",
     "output_type": "stream",
     "text": [
      "\r",
      " 75%|███████▌  | 15/20 [06:45<02:16, 27.33s/it]"
     ]
    },
    {
     "name": "stdout",
     "output_type": "stream",
     "text": [
      "Client 2: accuracy loss: 55.85 | fairness loss 159.49 | Equal Opportunity Disparity = 0.05\n",
      " \n",
      "Avg Training Stats after 15 global rounds:\n",
      "Training loss: 0.33 | Training accuracy: 82.37% | Training Equal Opportunity Disparity: 0.0524\n",
      "\n",
      " | Global Training Round : 16 |\n",
      "\n",
      "Client 1: accuracy loss: 42.52 | fairness loss 133.23 | Equal Opportunity Disparity = 0.06\n"
     ]
    },
    {
     "name": "stderr",
     "output_type": "stream",
     "text": [
      "\r",
      " 80%|████████  | 16/20 [07:11<01:47, 26.81s/it]"
     ]
    },
    {
     "name": "stdout",
     "output_type": "stream",
     "text": [
      "Client 2: accuracy loss: 55.78 | fairness loss 158.60 | Equal Opportunity Disparity = 0.05\n",
      " \n",
      "Avg Training Stats after 16 global rounds:\n",
      "Training loss: 0.33 | Training accuracy: 82.39% | Training Equal Opportunity Disparity: 0.0519\n",
      "\n",
      " | Global Training Round : 17 |\n",
      "\n",
      "Client 1: accuracy loss: 42.55 | fairness loss 132.73 | Equal Opportunity Disparity = 0.06\n"
     ]
    },
    {
     "name": "stderr",
     "output_type": "stream",
     "text": [
      "\r",
      " 85%|████████▌ | 17/20 [07:36<01:19, 26.45s/it]"
     ]
    },
    {
     "name": "stdout",
     "output_type": "stream",
     "text": [
      "Client 2: accuracy loss: 55.72 | fairness loss 157.75 | Equal Opportunity Disparity = 0.05\n",
      " \n",
      "Avg Training Stats after 17 global rounds:\n",
      "Training loss: 0.33 | Training accuracy: 82.39% | Training Equal Opportunity Disparity: 0.0510\n",
      "\n",
      " | Global Training Round : 18 |\n",
      "\n",
      "Client 1: accuracy loss: 42.58 | fairness loss 132.24 | Equal Opportunity Disparity = 0.05\n"
     ]
    },
    {
     "name": "stderr",
     "output_type": "stream",
     "text": [
      "\r",
      " 90%|█████████ | 18/20 [08:02<00:52, 26.21s/it]"
     ]
    },
    {
     "name": "stdout",
     "output_type": "stream",
     "text": [
      "Client 2: accuracy loss: 55.66 | fairness loss 156.94 | Equal Opportunity Disparity = 0.05\n",
      " \n",
      "Avg Training Stats after 18 global rounds:\n",
      "Training loss: 0.33 | Training accuracy: 82.41% | Training Equal Opportunity Disparity: 0.0486\n",
      "\n",
      " | Global Training Round : 19 |\n",
      "\n",
      "Client 1: accuracy loss: 42.60 | fairness loss 131.76 | Equal Opportunity Disparity = 0.05\n"
     ]
    },
    {
     "name": "stderr",
     "output_type": "stream",
     "text": [
      "\r",
      " 95%|█████████▌| 19/20 [08:27<00:26, 26.00s/it]"
     ]
    },
    {
     "name": "stdout",
     "output_type": "stream",
     "text": [
      "Client 2: accuracy loss: 55.61 | fairness loss 156.17 | Equal Opportunity Disparity = 0.05\n",
      " \n",
      "Avg Training Stats after 19 global rounds:\n",
      "Training loss: 0.33 | Training accuracy: 82.43% | Training Equal Opportunity Disparity: 0.0475\n",
      "\n",
      " | Global Training Round : 20 |\n",
      "\n",
      "Client 1: accuracy loss: 42.63 | fairness loss 131.30 | Equal Opportunity Disparity = 0.05\n"
     ]
    },
    {
     "name": "stderr",
     "output_type": "stream",
     "text": [
      "100%|██████████| 20/20 [08:53<00:00, 26.67s/it]"
     ]
    },
    {
     "name": "stdout",
     "output_type": "stream",
     "text": [
      "Client 2: accuracy loss: 55.56 | fairness loss 155.42 | Equal Opportunity Disparity = 0.05\n",
      " \n",
      "Avg Training Stats after 20 global rounds:\n",
      "Training loss: 0.33 | Training accuracy: 82.45% | Training Equal Opportunity Disparity: 0.0455\n"
     ]
    },
    {
     "name": "stderr",
     "output_type": "stream",
     "text": [
      "\n"
     ]
    },
    {
     "name": "stdout",
     "output_type": "stream",
     "text": [
      " \n",
      " Results after 20 global rounds of training:\n",
      "|---- Avg Train Accuracy: 82.45%\n",
      "|---- Test Accuracy: 82.50%\n",
      "|---- Test Equal Opportunity Disparity: 0.0471\n",
      "\n",
      " Total Run Time: 533.7622 sec\n"
     ]
    }
   ],
   "source": [
    "seed = 0\n",
    "server = Server(logReg(num_features=adult_num_features, num_classes=2, seed = seed), adult_info, train_prn = False, seed = seed)\n",
    "server.FairBatch(num_rounds = 20, local_epochs = 30, optimizer = 'adam', learning_rate = 0.008, alpha = 0.005)"
   ]
  },
  {
   "cell_type": "code",
   "execution_count": 7,
   "metadata": {
    "scrolled": true
   },
   "outputs": [
    {
     "name": "stderr",
     "output_type": "stream",
     "text": [
      "\r",
      "  0%|          | 0/20 [00:00<?, ?it/s]"
     ]
    },
    {
     "name": "stdout",
     "output_type": "stream",
     "text": [
      "\n",
      " | Global Training Round : 1 |\n",
      "\n",
      "Client 1: accuracy loss: 41.57 | fairness loss 149.58 | Equal Opportunity Disparity = 0.12\n"
     ]
    },
    {
     "name": "stderr",
     "output_type": "stream",
     "text": [
      "\r",
      "  5%|▌         | 1/20 [00:25<08:00, 25.31s/it]"
     ]
    },
    {
     "name": "stdout",
     "output_type": "stream",
     "text": [
      "Client 2: accuracy loss: 59.36 | fairness loss 191.11 | Equal Opportunity Disparity = 0.10\n",
      " \n",
      "Avg Training Stats after 1 global rounds:\n",
      "Training loss: 0.33 | Training accuracy: 81.02% | Training Equal Opportunity Disparity: 0.1079\n",
      "\n",
      " | Global Training Round : 2 |\n",
      "\n",
      "Client 1: accuracy loss: 41.68 | fairness loss 142.94 | Equal Opportunity Disparity = 0.07\n"
     ]
    },
    {
     "name": "stderr",
     "output_type": "stream",
     "text": [
      "\r",
      " 10%|█         | 2/20 [00:51<07:39, 25.52s/it]"
     ]
    },
    {
     "name": "stdout",
     "output_type": "stream",
     "text": [
      "Client 2: accuracy loss: 60.54 | fairness loss 187.25 | Equal Opportunity Disparity = 0.06\n",
      " \n",
      "Avg Training Stats after 2 global rounds:\n",
      "Training loss: 0.33 | Training accuracy: 80.68% | Training Equal Opportunity Disparity: 0.0619\n",
      "\n",
      " | Global Training Round : 3 |\n",
      "\n",
      "Client 1: accuracy loss: 41.69 | fairness loss 140.08 | Equal Opportunity Disparity = 0.03\n"
     ]
    },
    {
     "name": "stderr",
     "output_type": "stream",
     "text": [
      "\r",
      " 15%|█▌        | 3/20 [01:20<07:33, 26.70s/it]"
     ]
    },
    {
     "name": "stdout",
     "output_type": "stream",
     "text": [
      "Client 2: accuracy loss: 60.12 | fairness loss 183.86 | Equal Opportunity Disparity = 0.05\n",
      " \n",
      "Avg Training Stats after 3 global rounds:\n",
      "Training loss: 0.33 | Training accuracy: 80.80% | Training Equal Opportunity Disparity: 0.0369\n",
      "\n",
      " | Global Training Round : 4 |\n",
      "\n",
      "Client 1: accuracy loss: 41.74 | fairness loss 138.57 | Equal Opportunity Disparity = 0.02\n"
     ]
    },
    {
     "name": "stderr",
     "output_type": "stream",
     "text": [
      "\r",
      " 20%|██        | 4/20 [01:48<07:10, 26.88s/it]"
     ]
    },
    {
     "name": "stdout",
     "output_type": "stream",
     "text": [
      "Client 2: accuracy loss: 59.65 | fairness loss 180.98 | Equal Opportunity Disparity = 0.05\n",
      " \n",
      "Avg Training Stats after 4 global rounds:\n",
      "Training loss: 0.33 | Training accuracy: 80.99% | Training Equal Opportunity Disparity: 0.0291\n",
      "\n",
      " | Global Training Round : 5 |\n",
      "\n",
      "Client 1: accuracy loss: 41.82 | fairness loss 137.70 | Equal Opportunity Disparity = 0.01\n"
     ]
    },
    {
     "name": "stderr",
     "output_type": "stream",
     "text": [
      "\r",
      " 25%|██▌       | 5/20 [02:14<06:39, 26.67s/it]"
     ]
    },
    {
     "name": "stdout",
     "output_type": "stream",
     "text": [
      "Client 2: accuracy loss: 59.30 | fairness loss 178.62 | Equal Opportunity Disparity = 0.05\n",
      " \n",
      "Avg Training Stats after 5 global rounds:\n",
      "Training loss: 0.33 | Training accuracy: 81.11% | Training Equal Opportunity Disparity: 0.0202\n",
      "\n",
      " | Global Training Round : 6 |\n",
      "\n",
      "Client 1: accuracy loss: 41.90 | fairness loss 137.13 | Equal Opportunity Disparity = 0.01\n"
     ]
    },
    {
     "name": "stderr",
     "output_type": "stream",
     "text": [
      "\r",
      " 30%|███       | 6/20 [02:40<06:12, 26.61s/it]"
     ]
    },
    {
     "name": "stdout",
     "output_type": "stream",
     "text": [
      "Client 2: accuracy loss: 59.04 | fairness loss 176.65 | Equal Opportunity Disparity = 0.04\n",
      " \n",
      "Avg Training Stats after 6 global rounds:\n",
      "Training loss: 0.33 | Training accuracy: 81.30% | Training Equal Opportunity Disparity: 0.0166\n",
      "\n",
      " | Global Training Round : 7 |\n",
      "\n",
      "Client 1: accuracy loss: 41.98 | fairness loss 136.70 | Equal Opportunity Disparity = 0.00\n"
     ]
    },
    {
     "name": "stderr",
     "output_type": "stream",
     "text": [
      "\r",
      " 35%|███▌      | 7/20 [03:07<05:44, 26.52s/it]"
     ]
    },
    {
     "name": "stdout",
     "output_type": "stream",
     "text": [
      "Client 2: accuracy loss: 58.83 | fairness loss 174.97 | Equal Opportunity Disparity = 0.04\n",
      " \n",
      "Avg Training Stats after 7 global rounds:\n",
      "Training loss: 0.33 | Training accuracy: 81.38% | Training Equal Opportunity Disparity: 0.0134\n",
      "\n",
      " | Global Training Round : 8 |\n",
      "\n",
      "Client 1: accuracy loss: 42.05 | fairness loss 136.34 | Equal Opportunity Disparity = 0.00\n"
     ]
    },
    {
     "name": "stderr",
     "output_type": "stream",
     "text": [
      "\r",
      " 40%|████      | 8/20 [03:37<05:31, 27.62s/it]"
     ]
    },
    {
     "name": "stdout",
     "output_type": "stream",
     "text": [
      "Client 2: accuracy loss: 58.64 | fairness loss 173.53 | Equal Opportunity Disparity = 0.03\n",
      " \n",
      "Avg Training Stats after 8 global rounds:\n",
      "Training loss: 0.33 | Training accuracy: 81.38% | Training Equal Opportunity Disparity: 0.0108\n",
      "\n",
      " | Global Training Round : 9 |\n",
      "\n",
      "Client 1: accuracy loss: 42.11 | fairness loss 136.02 | Equal Opportunity Disparity = 0.00\n"
     ]
    },
    {
     "name": "stderr",
     "output_type": "stream",
     "text": [
      "\r",
      " 45%|████▌     | 9/20 [04:07<05:11, 28.31s/it]"
     ]
    },
    {
     "name": "stdout",
     "output_type": "stream",
     "text": [
      "Client 2: accuracy loss: 58.46 | fairness loss 172.26 | Equal Opportunity Disparity = 0.03\n",
      " \n",
      "Avg Training Stats after 9 global rounds:\n",
      "Training loss: 0.33 | Training accuracy: 81.44% | Training Equal Opportunity Disparity: 0.0080\n",
      "\n",
      " | Global Training Round : 10 |\n",
      "\n",
      "Client 1: accuracy loss: 42.17 | fairness loss 135.71 | Equal Opportunity Disparity = 0.00\n"
     ]
    },
    {
     "name": "stderr",
     "output_type": "stream",
     "text": [
      "\r",
      " 50%|█████     | 10/20 [04:38<04:51, 29.15s/it]"
     ]
    },
    {
     "name": "stdout",
     "output_type": "stream",
     "text": [
      "Client 2: accuracy loss: 58.30 | fairness loss 171.15 | Equal Opportunity Disparity = 0.02\n",
      " \n",
      "Avg Training Stats after 10 global rounds:\n",
      "Training loss: 0.33 | Training accuracy: 81.50% | Training Equal Opportunity Disparity: 0.0033\n",
      "\n",
      " | Global Training Round : 11 |\n",
      "\n"
     ]
    },
    {
     "ename": "KeyboardInterrupt",
     "evalue": "",
     "output_type": "error",
     "traceback": [
      "\u001b[0;31m---------------------------------------------------------------------------\u001b[0m",
      "\u001b[0;31mKeyboardInterrupt\u001b[0m                         Traceback (most recent call last)",
      "\u001b[0;32m<ipython-input-7-3b43e1eb373d>\u001b[0m in \u001b[0;36m<module>\u001b[0;34m\u001b[0m\n\u001b[1;32m      1\u001b[0m \u001b[0mseed\u001b[0m \u001b[0;34m=\u001b[0m \u001b[0;36m0\u001b[0m\u001b[0;34m\u001b[0m\u001b[0;34m\u001b[0m\u001b[0m\n\u001b[1;32m      2\u001b[0m \u001b[0mserver\u001b[0m \u001b[0;34m=\u001b[0m \u001b[0mServer\u001b[0m\u001b[0;34m(\u001b[0m\u001b[0mlogReg\u001b[0m\u001b[0;34m(\u001b[0m\u001b[0mnum_features\u001b[0m\u001b[0;34m=\u001b[0m\u001b[0madult_num_features\u001b[0m\u001b[0;34m,\u001b[0m \u001b[0mnum_classes\u001b[0m\u001b[0;34m=\u001b[0m\u001b[0;36m2\u001b[0m\u001b[0;34m,\u001b[0m \u001b[0mseed\u001b[0m \u001b[0;34m=\u001b[0m \u001b[0mseed\u001b[0m\u001b[0;34m)\u001b[0m\u001b[0;34m,\u001b[0m \u001b[0madult_info\u001b[0m\u001b[0;34m,\u001b[0m \u001b[0mtrain_prn\u001b[0m \u001b[0;34m=\u001b[0m \u001b[0;32mFalse\u001b[0m\u001b[0;34m,\u001b[0m \u001b[0mseed\u001b[0m \u001b[0;34m=\u001b[0m \u001b[0mseed\u001b[0m\u001b[0;34m)\u001b[0m\u001b[0;34m\u001b[0m\u001b[0;34m\u001b[0m\u001b[0m\n\u001b[0;32m----> 3\u001b[0;31m \u001b[0mserver\u001b[0m\u001b[0;34m.\u001b[0m\u001b[0mFairBatch\u001b[0m\u001b[0;34m(\u001b[0m\u001b[0mnum_rounds\u001b[0m \u001b[0;34m=\u001b[0m \u001b[0;36m20\u001b[0m\u001b[0;34m,\u001b[0m \u001b[0mlocal_epochs\u001b[0m \u001b[0;34m=\u001b[0m \u001b[0;36m30\u001b[0m\u001b[0;34m,\u001b[0m \u001b[0moptimizer\u001b[0m \u001b[0;34m=\u001b[0m \u001b[0;34m'adam'\u001b[0m\u001b[0;34m,\u001b[0m \u001b[0mlearning_rate\u001b[0m \u001b[0;34m=\u001b[0m \u001b[0;36m0.02\u001b[0m\u001b[0;34m,\u001b[0m \u001b[0malpha\u001b[0m \u001b[0;34m=\u001b[0m \u001b[0;36m0.01\u001b[0m\u001b[0;34m)\u001b[0m\u001b[0;34m\u001b[0m\u001b[0;34m\u001b[0m\u001b[0m\n\u001b[0m",
      "\u001b[0;32m~/Google Drive/办公/research/code/Fair-FedAvg/EO/Server.py\u001b[0m in \u001b[0;36mFairBatch\u001b[0;34m(self, num_rounds, local_epochs, learning_rate, optimizer, alpha)\u001b[0m\n\u001b[1;32m    295\u001b[0m                                 \u001b[0mmodel\u001b[0m\u001b[0;34m=\u001b[0m\u001b[0mcopy\u001b[0m\u001b[0;34m.\u001b[0m\u001b[0mdeepcopy\u001b[0m\u001b[0;34m(\u001b[0m\u001b[0mself\u001b[0m\u001b[0;34m.\u001b[0m\u001b[0mmodel\u001b[0m\u001b[0;34m)\u001b[0m\u001b[0;34m,\u001b[0m \u001b[0mglobal_round\u001b[0m\u001b[0;34m=\u001b[0m\u001b[0mround_\u001b[0m\u001b[0;34m,\u001b[0m\u001b[0;34m\u001b[0m\u001b[0;34m\u001b[0m\u001b[0m\n\u001b[1;32m    296\u001b[0m                                     \u001b[0mlearning_rate\u001b[0m \u001b[0;34m=\u001b[0m \u001b[0mlearning_rate\u001b[0m \u001b[0;34m/\u001b[0m \u001b[0mnp\u001b[0m\u001b[0;34m.\u001b[0m\u001b[0msqrt\u001b[0m\u001b[0;34m(\u001b[0m\u001b[0mround_\u001b[0m \u001b[0;34m+\u001b[0m \u001b[0;36m1\u001b[0m\u001b[0;34m)\u001b[0m\u001b[0;34m,\u001b[0m \u001b[0mlocal_epochs\u001b[0m \u001b[0;34m=\u001b[0m \u001b[0mlocal_epochs\u001b[0m\u001b[0;34m,\u001b[0m\u001b[0;34m\u001b[0m\u001b[0;34m\u001b[0m\u001b[0m\n\u001b[0;32m--> 297\u001b[0;31m                                     optimizer = optimizer, lbd = lbd, m_1z = m_1z, m = len(self.train_dataset.y))\n\u001b[0m\u001b[1;32m    298\u001b[0m                 \u001b[0mnc\u001b[0m\u001b[0;34m.\u001b[0m\u001b[0mappend\u001b[0m\u001b[0;34m(\u001b[0m\u001b[0mnc_\u001b[0m\u001b[0;34m)\u001b[0m\u001b[0;34m\u001b[0m\u001b[0;34m\u001b[0m\u001b[0m\n\u001b[1;32m    299\u001b[0m                 \u001b[0mlocal_weights\u001b[0m\u001b[0;34m.\u001b[0m\u001b[0mappend\u001b[0m\u001b[0;34m(\u001b[0m\u001b[0mcopy\u001b[0m\u001b[0;34m.\u001b[0m\u001b[0mdeepcopy\u001b[0m\u001b[0;34m(\u001b[0m\u001b[0mw\u001b[0m\u001b[0;34m)\u001b[0m\u001b[0;34m)\u001b[0m\u001b[0;34m\u001b[0m\u001b[0;34m\u001b[0m\u001b[0m\n",
      "\u001b[0;32m~/Google Drive/办公/research/code/Fair-FedAvg/EO/Client.py\u001b[0m in \u001b[0;36mfb_update\u001b[0;34m(self, model, global_round, learning_rate, local_epochs, optimizer, lbd, m_1z, m)\u001b[0m\n\u001b[1;32m    458\u001b[0m         \u001b[0;32mfor\u001b[0m \u001b[0mi\u001b[0m \u001b[0;32min\u001b[0m \u001b[0mrange\u001b[0m\u001b[0;34m(\u001b[0m\u001b[0mlocal_epochs\u001b[0m\u001b[0;34m)\u001b[0m\u001b[0;34m:\u001b[0m\u001b[0;34m\u001b[0m\u001b[0;34m\u001b[0m\u001b[0m\n\u001b[1;32m    459\u001b[0m             \u001b[0mbatch_loss\u001b[0m \u001b[0;34m=\u001b[0m \u001b[0;34m[\u001b[0m\u001b[0;34m]\u001b[0m\u001b[0;34m\u001b[0m\u001b[0;34m\u001b[0m\u001b[0m\n\u001b[0;32m--> 460\u001b[0;31m             \u001b[0;32mfor\u001b[0m \u001b[0mbatch_idx\u001b[0m\u001b[0;34m,\u001b[0m \u001b[0;34m(\u001b[0m\u001b[0mfeatures\u001b[0m\u001b[0;34m,\u001b[0m \u001b[0mlabels\u001b[0m\u001b[0;34m,\u001b[0m \u001b[0msensitive\u001b[0m\u001b[0;34m)\u001b[0m \u001b[0;32min\u001b[0m \u001b[0menumerate\u001b[0m\u001b[0;34m(\u001b[0m\u001b[0mself\u001b[0m\u001b[0;34m.\u001b[0m\u001b[0mtrainloader\u001b[0m\u001b[0;34m)\u001b[0m\u001b[0;34m:\u001b[0m\u001b[0;34m\u001b[0m\u001b[0;34m\u001b[0m\u001b[0m\n\u001b[0m\u001b[1;32m    461\u001b[0m                 \u001b[0mfeatures\u001b[0m\u001b[0;34m,\u001b[0m \u001b[0mlabels\u001b[0m \u001b[0;34m=\u001b[0m \u001b[0mfeatures\u001b[0m\u001b[0;34m.\u001b[0m\u001b[0mto\u001b[0m\u001b[0;34m(\u001b[0m\u001b[0mDEVICE\u001b[0m\u001b[0;34m)\u001b[0m\u001b[0;34m,\u001b[0m \u001b[0mlabels\u001b[0m\u001b[0;34m.\u001b[0m\u001b[0mto\u001b[0m\u001b[0;34m(\u001b[0m\u001b[0mDEVICE\u001b[0m\u001b[0;34m)\u001b[0m\u001b[0;34m.\u001b[0m\u001b[0mtype\u001b[0m\u001b[0;34m(\u001b[0m\u001b[0mtorch\u001b[0m\u001b[0;34m.\u001b[0m\u001b[0mLongTensor\u001b[0m\u001b[0;34m)\u001b[0m\u001b[0;34m\u001b[0m\u001b[0;34m\u001b[0m\u001b[0m\n\u001b[1;32m    462\u001b[0m                 \u001b[0msensitive\u001b[0m \u001b[0;34m=\u001b[0m \u001b[0msensitive\u001b[0m\u001b[0;34m.\u001b[0m\u001b[0mto\u001b[0m\u001b[0;34m(\u001b[0m\u001b[0mDEVICE\u001b[0m\u001b[0;34m)\u001b[0m\u001b[0;34m\u001b[0m\u001b[0;34m\u001b[0m\u001b[0m\n",
      "\u001b[0;32m/opt/anaconda3/lib/python3.7/site-packages/torch/utils/data/dataloader.py\u001b[0m in \u001b[0;36m__next__\u001b[0;34m(self)\u001b[0m\n\u001b[1;32m    433\u001b[0m         \u001b[0;32mif\u001b[0m \u001b[0mself\u001b[0m\u001b[0;34m.\u001b[0m\u001b[0m_sampler_iter\u001b[0m \u001b[0;32mis\u001b[0m \u001b[0;32mNone\u001b[0m\u001b[0;34m:\u001b[0m\u001b[0;34m\u001b[0m\u001b[0;34m\u001b[0m\u001b[0m\n\u001b[1;32m    434\u001b[0m             \u001b[0mself\u001b[0m\u001b[0;34m.\u001b[0m\u001b[0m_reset\u001b[0m\u001b[0;34m(\u001b[0m\u001b[0;34m)\u001b[0m\u001b[0;34m\u001b[0m\u001b[0;34m\u001b[0m\u001b[0m\n\u001b[0;32m--> 435\u001b[0;31m         \u001b[0mdata\u001b[0m \u001b[0;34m=\u001b[0m \u001b[0mself\u001b[0m\u001b[0;34m.\u001b[0m\u001b[0m_next_data\u001b[0m\u001b[0;34m(\u001b[0m\u001b[0;34m)\u001b[0m\u001b[0;34m\u001b[0m\u001b[0;34m\u001b[0m\u001b[0m\n\u001b[0m\u001b[1;32m    436\u001b[0m         \u001b[0mself\u001b[0m\u001b[0;34m.\u001b[0m\u001b[0m_num_yielded\u001b[0m \u001b[0;34m+=\u001b[0m \u001b[0;36m1\u001b[0m\u001b[0;34m\u001b[0m\u001b[0;34m\u001b[0m\u001b[0m\n\u001b[1;32m    437\u001b[0m         \u001b[0;32mif\u001b[0m \u001b[0mself\u001b[0m\u001b[0;34m.\u001b[0m\u001b[0m_dataset_kind\u001b[0m \u001b[0;34m==\u001b[0m \u001b[0m_DatasetKind\u001b[0m\u001b[0;34m.\u001b[0m\u001b[0mIterable\u001b[0m \u001b[0;32mand\u001b[0m\u001b[0;31m \u001b[0m\u001b[0;31m\\\u001b[0m\u001b[0;34m\u001b[0m\u001b[0;34m\u001b[0m\u001b[0m\n",
      "\u001b[0;32m/opt/anaconda3/lib/python3.7/site-packages/torch/utils/data/dataloader.py\u001b[0m in \u001b[0;36m_next_data\u001b[0;34m(self)\u001b[0m\n\u001b[1;32m    473\u001b[0m     \u001b[0;32mdef\u001b[0m \u001b[0m_next_data\u001b[0m\u001b[0;34m(\u001b[0m\u001b[0mself\u001b[0m\u001b[0;34m)\u001b[0m\u001b[0;34m:\u001b[0m\u001b[0;34m\u001b[0m\u001b[0;34m\u001b[0m\u001b[0m\n\u001b[1;32m    474\u001b[0m         \u001b[0mindex\u001b[0m \u001b[0;34m=\u001b[0m \u001b[0mself\u001b[0m\u001b[0;34m.\u001b[0m\u001b[0m_next_index\u001b[0m\u001b[0;34m(\u001b[0m\u001b[0;34m)\u001b[0m  \u001b[0;31m# may raise StopIteration\u001b[0m\u001b[0;34m\u001b[0m\u001b[0;34m\u001b[0m\u001b[0m\n\u001b[0;32m--> 475\u001b[0;31m         \u001b[0mdata\u001b[0m \u001b[0;34m=\u001b[0m \u001b[0mself\u001b[0m\u001b[0;34m.\u001b[0m\u001b[0m_dataset_fetcher\u001b[0m\u001b[0;34m.\u001b[0m\u001b[0mfetch\u001b[0m\u001b[0;34m(\u001b[0m\u001b[0mindex\u001b[0m\u001b[0;34m)\u001b[0m  \u001b[0;31m# may raise StopIteration\u001b[0m\u001b[0;34m\u001b[0m\u001b[0;34m\u001b[0m\u001b[0m\n\u001b[0m\u001b[1;32m    476\u001b[0m         \u001b[0;32mif\u001b[0m \u001b[0mself\u001b[0m\u001b[0;34m.\u001b[0m\u001b[0m_pin_memory\u001b[0m\u001b[0;34m:\u001b[0m\u001b[0;34m\u001b[0m\u001b[0;34m\u001b[0m\u001b[0m\n\u001b[1;32m    477\u001b[0m             \u001b[0mdata\u001b[0m \u001b[0;34m=\u001b[0m \u001b[0m_utils\u001b[0m\u001b[0;34m.\u001b[0m\u001b[0mpin_memory\u001b[0m\u001b[0;34m.\u001b[0m\u001b[0mpin_memory\u001b[0m\u001b[0;34m(\u001b[0m\u001b[0mdata\u001b[0m\u001b[0;34m)\u001b[0m\u001b[0;34m\u001b[0m\u001b[0;34m\u001b[0m\u001b[0m\n",
      "\u001b[0;31mKeyboardInterrupt\u001b[0m: "
     ]
    }
   ],
   "source": [
    "seed = 0\n",
    "server = Server(logReg(num_features=adult_num_features, num_classes=2, seed = seed), adult_info, train_prn = False, seed = seed)\n",
    "server.FairBatch(num_rounds = 10, local_epochs = 30, optimizer = 'adam', learning_rate = 0.02, alpha = 0.01)"
   ]
  },
  {
   "cell_type": "code",
   "execution_count": null,
   "metadata": {
    "scrolled": true
   },
   "outputs": [],
   "source": [
    "server = Server(logReg(num_features=adult_num_features, num_classes=2, seed = seed), adult_info, train_prn = False, seed = seed)\n",
    "server.FairConstraints(test_rounds = 1, test_lr = 0.005, test_penalty = 50, num_rounds = 2, local_epochs = 30, optimizer = 'adam', learning_rate = 0.002, penalty = 5, adaptive_penalty = True)\n"
   ]
  },
  {
   "cell_type": "code",
   "execution_count": null,
   "metadata": {
    "scrolled": true
   },
   "outputs": [],
   "source": [
    "server = Server(logReg(num_features=adult_num_features, num_classes=2, seed = seed), adult_info, train_prn = False, seed = seed)\n",
    "server.LocalFC(num_rounds = 5, local_epochs = 30, optimizer = 'adam', learning_rate = 0.001, penalty = 100)"
   ]
  },
  {
   "cell_type": "code",
   "execution_count": null,
   "metadata": {
    "scrolled": true
   },
   "outputs": [],
   "source": [
    "server = Server(logReg(num_features=adult_num_features, num_classes=2, seed = seed), adult_info, train_prn = False, seed = seed)\n",
    "server.Unconstrained(num_rounds = 2, local_epochs = 30, optimizer = 'adam', learning_rate = 0.008)\n",
    "server.ThresholdAdjust(num_rounds = 3, local_epochs = 30, epsilon = 0.02, learning_rate = 0.001)"
   ]
  },
  {
   "cell_type": "code",
   "execution_count": 11,
   "metadata": {
    "scrolled": true
   },
   "outputs": [
    {
     "name": "stderr",
     "output_type": "stream",
     "text": [
      "\n",
      "\n",
      "  0%|          | 0/5 [00:00<?, ?it/s]\u001b[A\u001b[A"
     ]
    },
    {
     "name": "stdout",
     "output_type": "stream",
     "text": [
      "\n",
      " | Global Training Round : 1 |\n",
      "\n"
     ]
    },
    {
     "name": "stderr",
     "output_type": "stream",
     "text": [
      "\n",
      "\n",
      " 20%|██        | 1/5 [00:24<01:39, 24.79s/it]\u001b[A\u001b[A"
     ]
    },
    {
     "name": "stdout",
     "output_type": "stream",
     "text": [
      "Client 1: accuracy loss: 87.67 | fairness loss 118.84 | Equal Opportunity Disparity = 0.14\n",
      "Client 2: accuracy loss: 46.24 | fairness loss 146.11 | Equal Opportunity Disparity = 0.08\n",
      " \n",
      "Avg Training Stats after 1 global rounds:\n",
      "Training loss: 0.34 | Training accuracy: 78.89% | Training Equal Opportunity Disparity: 0.1157\n",
      "\n",
      " | Global Training Round : 2 |\n",
      "\n"
     ]
    },
    {
     "name": "stderr",
     "output_type": "stream",
     "text": [
      "\n",
      "\n",
      " 40%|████      | 2/5 [00:51<01:15, 25.24s/it]\u001b[A\u001b[A"
     ]
    },
    {
     "name": "stdout",
     "output_type": "stream",
     "text": [
      "Client 1: accuracy loss: 88.46 | fairness loss 120.01 | Equal Opportunity Disparity = 0.10\n",
      "Client 2: accuracy loss: 46.55 | fairness loss 147.98 | Equal Opportunity Disparity = 0.05\n",
      " \n",
      "Avg Training Stats after 2 global rounds:\n",
      "Training loss: 0.34 | Training accuracy: 78.69% | Training Equal Opportunity Disparity: 0.0823\n",
      "\n",
      " | Global Training Round : 3 |\n",
      "\n"
     ]
    },
    {
     "name": "stderr",
     "output_type": "stream",
     "text": [
      "\n",
      "\n",
      " 60%|██████    | 3/5 [01:20<00:52, 26.39s/it]\u001b[A\u001b[A"
     ]
    },
    {
     "name": "stdout",
     "output_type": "stream",
     "text": [
      "Client 1: accuracy loss: 88.50 | fairness loss 117.50 | Equal Opportunity Disparity = 0.08\n",
      "Client 2: accuracy loss: 46.64 | fairness loss 144.98 | Equal Opportunity Disparity = 0.05\n",
      " \n",
      "Avg Training Stats after 3 global rounds:\n",
      "Training loss: 0.33 | Training accuracy: 78.69% | Training Equal Opportunity Disparity: 0.0708\n",
      "\n",
      " | Global Training Round : 4 |\n",
      "\n"
     ]
    },
    {
     "name": "stderr",
     "output_type": "stream",
     "text": [
      "\n",
      "\n",
      " 80%|████████  | 4/5 [01:48<00:27, 27.02s/it]\u001b[A\u001b[A"
     ]
    },
    {
     "name": "stdout",
     "output_type": "stream",
     "text": [
      "Client 1: accuracy loss: 88.32 | fairness loss 115.01 | Equal Opportunity Disparity = 0.09\n",
      "Client 2: accuracy loss: 46.63 | fairness loss 141.82 | Equal Opportunity Disparity = 0.05\n",
      " \n",
      "Avg Training Stats after 4 global rounds:\n",
      "Training loss: 0.33 | Training accuracy: 78.72% | Training Equal Opportunity Disparity: 0.0743\n",
      "\n",
      " | Global Training Round : 5 |\n",
      "\n"
     ]
    },
    {
     "name": "stderr",
     "output_type": "stream",
     "text": [
      "\n",
      "\n",
      "100%|██████████| 5/5 [02:24<00:00, 28.92s/it]\u001b[A\u001b[A"
     ]
    },
    {
     "name": "stdout",
     "output_type": "stream",
     "text": [
      "Client 1: accuracy loss: 88.08 | fairness loss 112.83 | Equal Opportunity Disparity = 0.08\n",
      "Client 2: accuracy loss: 46.59 | fairness loss 139.02 | Equal Opportunity Disparity = 0.05\n",
      " \n",
      "Avg Training Stats after 5 global rounds:\n",
      "Training loss: 0.33 | Training accuracy: 78.74% | Training Equal Opportunity Disparity: 0.0711\n"
     ]
    },
    {
     "name": "stderr",
     "output_type": "stream",
     "text": [
      "\n"
     ]
    },
    {
     "name": "stdout",
     "output_type": "stream",
     "text": [
      " \n",
      " Results after 5 global rounds of training:\n",
      "|---- Avg Train Accuracy: 78.74%\n",
      "|---- Test Accuracy: 82.97%\n",
      "|---- Test Equal Opportunity Disparity: 0.0806\n",
      "\n",
      " Total Run Time: 145.0698 sec\n"
     ]
    }
   ],
   "source": [
    "seed = 0\n",
    "server = Server(logReg(num_features=adult_num_features, num_classes=2, seed = seed), adult_info, train_prn = False, seed = seed)\n",
    "server.FairBatch(num_rounds = 5, local_epochs = 30, optimizer = 'adam', learning_rate = 0.003, alpha = 0.005)"
   ]
  },
  {
   "cell_type": "code",
   "execution_count": 7,
   "metadata": {},
   "outputs": [
    {
     "name": "stderr",
     "output_type": "stream",
     "text": [
      "\n",
      "\n",
      "  0%|          | 0/5 [00:00<?, ?it/s]\u001b[A\u001b[A\n",
      "\n",
      " 20%|██        | 1/5 [00:23<01:32, 23.22s/it]\u001b[A\u001b[A\n",
      "\n",
      " 40%|████      | 2/5 [00:46<01:09, 23.13s/it]\u001b[A\u001b[A\n",
      "\n",
      " 60%|██████    | 3/5 [01:10<00:46, 23.44s/it]\u001b[A\u001b[A\n",
      "\n",
      " 80%|████████  | 4/5 [01:34<00:23, 23.80s/it]\u001b[A\u001b[A\n",
      "\n",
      "100%|██████████| 5/5 [01:59<00:00, 23.84s/it]\u001b[A\u001b[A\n"
     ]
    },
    {
     "data": {
      "text/plain": [
       "(0.8309071924328972, 0.12456260962302901)"
      ]
     },
     "execution_count": 7,
     "metadata": {},
     "output_type": "execute_result"
    }
   ],
   "source": [
    "seed = 0\n",
    "server = Server(logReg(num_features=adult_num_features, num_classes=2, seed = seed), adult_info, train_prn = False, seed = seed)\n",
    "server.Unconstrained(num_rounds = 5, local_epochs = 30, optimizer = 'adam', learning_rate = 0.002)"
   ]
  },
  {
   "cell_type": "code",
   "execution_count": 8,
   "metadata": {
    "scrolled": true
   },
   "outputs": [
    {
     "name": "stderr",
     "output_type": "stream",
     "text": [
      "\n",
      "\n",
      "  0%|          | 0/5 [00:00<?, ?it/s]\u001b[A\u001b[A"
     ]
    },
    {
     "name": "stdout",
     "output_type": "stream",
     "text": [
      "\n",
      " | Global Training Round : 1 |\n",
      "\n"
     ]
    },
    {
     "name": "stderr",
     "output_type": "stream",
     "text": [
      "\n",
      "\n",
      " 20%|██        | 1/5 [00:25<01:42, 25.72s/it]\u001b[A\u001b[A"
     ]
    },
    {
     "name": "stdout",
     "output_type": "stream",
     "text": [
      "Client 1: accuracy loss: 89.13 | fairness loss 308.84 | Equal Opportunity Disparity = 0.11\n",
      "Client 2: accuracy loss: 44.67 | fairness loss 377.06 | Equal Opportunity Disparity = 0.05\n",
      " \n",
      "Avg Training Stats after 1 global rounds:\n",
      "Training loss: 44.49 | Validation accuracy: 78.25% | Validation Equal Opportunity Disparity: 0.0880\n",
      "\n",
      " | Global Training Round : 2 |\n",
      "\n"
     ]
    },
    {
     "name": "stderr",
     "output_type": "stream",
     "text": [
      "\n",
      "\n",
      " 40%|████      | 2/5 [00:51<01:16, 25.66s/it]\u001b[A\u001b[A"
     ]
    },
    {
     "name": "stdout",
     "output_type": "stream",
     "text": [
      "Client 1: accuracy loss: 90.08 | fairness loss 401.22 | Equal Opportunity Disparity = 0.11\n",
      "Client 2: accuracy loss: 44.57 | fairness loss 482.93 | Equal Opportunity Disparity = 0.08\n",
      " \n",
      "Avg Training Stats after 2 global rounds:\n",
      "Training loss: 42.84 | Validation accuracy: 78.52% | Validation Equal Opportunity Disparity: 0.0990\n",
      "\n",
      " | Global Training Round : 3 |\n",
      "\n"
     ]
    },
    {
     "name": "stderr",
     "output_type": "stream",
     "text": [
      "\n",
      "\n",
      " 60%|██████    | 3/5 [01:14<00:50, 25.01s/it]\u001b[A\u001b[A"
     ]
    },
    {
     "name": "stdout",
     "output_type": "stream",
     "text": [
      "Client 1: accuracy loss: 90.68 | fairness loss 474.73 | Equal Opportunity Disparity = 0.09\n",
      "Client 2: accuracy loss: 44.62 | fairness loss 561.14 | Equal Opportunity Disparity = 0.07\n",
      " \n",
      "Avg Training Stats after 3 global rounds:\n",
      "Training loss: 42.12 | Validation accuracy: 78.64% | Validation Equal Opportunity Disparity: 0.0817\n",
      "\n",
      " | Global Training Round : 4 |\n",
      "\n"
     ]
    },
    {
     "name": "stderr",
     "output_type": "stream",
     "text": [
      "\n",
      "\n",
      " 80%|████████  | 4/5 [01:39<00:25, 25.05s/it]\u001b[A\u001b[A"
     ]
    },
    {
     "name": "stdout",
     "output_type": "stream",
     "text": [
      "Client 1: accuracy loss: 91.01 | fairness loss 512.43 | Equal Opportunity Disparity = 0.08\n",
      "Client 2: accuracy loss: 44.69 | fairness loss 599.62 | Equal Opportunity Disparity = 0.07\n",
      " \n",
      "Avg Training Stats after 4 global rounds:\n",
      "Training loss: 41.74 | Validation accuracy: 78.68% | Validation Equal Opportunity Disparity: 0.0749\n",
      "\n",
      " | Global Training Round : 5 |\n",
      "\n"
     ]
    },
    {
     "name": "stderr",
     "output_type": "stream",
     "text": [
      "\n",
      "\n",
      "100%|██████████| 5/5 [02:05<00:00, 25.06s/it]\u001b[A\u001b[A"
     ]
    },
    {
     "name": "stdout",
     "output_type": "stream",
     "text": [
      "Client 1: accuracy loss: 91.12 | fairness loss 531.87 | Equal Opportunity Disparity = 0.08\n",
      "Client 2: accuracy loss: 44.71 | fairness loss 618.83 | Equal Opportunity Disparity = 0.07\n",
      " \n",
      "Avg Training Stats after 5 global rounds:\n",
      "Training loss: 41.51 | Validation accuracy: 78.64% | Validation Equal Opportunity Disparity: 0.0738\n"
     ]
    },
    {
     "name": "stderr",
     "output_type": "stream",
     "text": [
      "\n"
     ]
    },
    {
     "name": "stdout",
     "output_type": "stream",
     "text": [
      " \n",
      " Results after 5 global rounds of training:\n",
      "|---- Avg Train Accuracy: 78.64%\n",
      "|---- Test Accuracy: 83.09%\n",
      "|---- Test Equal Opportunity Disparity: 0.1246\n",
      "\n",
      " Total Run Time: 125.7897 sec\n"
     ]
    }
   ],
   "source": [
    "seed = 0\n",
    "server = Server(logReg(num_features=adult_num_features, num_classes=2, seed = seed), adult_info, train_prn = False, seed = seed)\n",
    "server.Unconstrained(num_rounds = 5, local_epochs = 30, optimizer = 'adam', learning_rate = 0.001)"
   ]
  },
  {
   "cell_type": "code",
   "execution_count": 7,
   "metadata": {
    "scrolled": true
   },
   "outputs": [
    {
     "name": "stderr",
     "output_type": "stream",
     "text": [
      "\r",
      "  0%|          | 0/1 [00:00<?, ?it/s]"
     ]
    },
    {
     "name": "stdout",
     "output_type": "stream",
     "text": [
      "\n",
      " | Testing Round : 1 | constraint :  Cov(z, d | y = 1) < c\n",
      "\n"
     ]
    },
    {
     "name": "stderr",
     "output_type": "stream",
     "text": [
      "100%|██████████| 1/1 [00:26<00:00, 26.76s/it]\n",
      "  0%|          | 0/1 [00:00<?, ?it/s]"
     ]
    },
    {
     "name": "stdout",
     "output_type": "stream",
     "text": [
      "Client 1: accuracy loss: 86.62 | fairness loss 342.62 | Equal Opportunity Disparity = 0.22\n",
      "Client 2: accuracy loss: 43.20 | fairness loss 369.78 | Equal Opportunity Disparity = 0.17\n",
      " \n",
      "Avg Training Stats after 1 Testing rounds:\n",
      "Training loss: 33.08 | Validation accuracy: 79.11% | Validation Equal Opportunity Disparity: 0.2042\n",
      "\n",
      " | Testing Round : 1 | constraint :  Cov(z, d | y = 1) > -c\n",
      "\n"
     ]
    },
    {
     "name": "stderr",
     "output_type": "stream",
     "text": [
      "100%|██████████| 1/1 [00:31<00:00, 31.10s/it]\n",
      "  0%|          | 0/3 [00:00<?, ?it/s]"
     ]
    },
    {
     "name": "stdout",
     "output_type": "stream",
     "text": [
      "Client 1: accuracy loss: 85.30 | fairness loss 286.22 | Equal Opportunity Disparity = 0.09\n",
      "Client 2: accuracy loss: 43.10 | fairness loss 309.14 | Equal Opportunity Disparity = 0.07\n",
      " \n",
      "Avg Training Stats after 1 Testing rounds:\n",
      "Training loss: 33.90 | Validation accuracy: 79.71% | Validation Equal Opportunity Disparity: 0.0875\n",
      "\n",
      " | Global Round : 1 | constraint :  Cov(z, d | y = 1) > -c\n",
      "\n"
     ]
    },
    {
     "name": "stderr",
     "output_type": "stream",
     "text": [
      "\r",
      " 33%|███▎      | 1/3 [00:33<01:07, 33.90s/it]"
     ]
    },
    {
     "name": "stdout",
     "output_type": "stream",
     "text": [
      "Client 1: accuracy loss: 86.36 | fairness loss 532.70 | Equal Opportunity Disparity = 0.08\n",
      "Client 2: accuracy loss: 43.27 | fairness loss 574.34 | Equal Opportunity Disparity = 0.05\n",
      " \n",
      "Avg Training Stats after 1 global rounds:\n",
      "Training loss: 29.44 | Validation accuracy: 79.78% | Validation Equal Opportunity Disparity: 0.0656\n",
      "\n",
      " | Global Round : 2 | constraint :  Cov(z, d | y = 1) > -c\n",
      "\n"
     ]
    },
    {
     "name": "stderr",
     "output_type": "stream",
     "text": [
      "\r",
      " 67%|██████▋   | 2/3 [01:08<00:33, 33.97s/it]"
     ]
    },
    {
     "name": "stdout",
     "output_type": "stream",
     "text": [
      "Client 1: accuracy loss: 86.17 | fairness loss 653.71 | Equal Opportunity Disparity = 0.06\n",
      "Client 2: accuracy loss: 43.09 | fairness loss 704.29 | Equal Opportunity Disparity = 0.04\n",
      " \n",
      "Avg Training Stats after 2 global rounds:\n",
      "Training loss: 26.85 | Validation accuracy: 80.30% | Validation Equal Opportunity Disparity: 0.0522\n",
      "\n",
      " | Global Round : 3 | constraint :  Cov(z, d | y = 1) > -c\n",
      "\n"
     ]
    },
    {
     "name": "stderr",
     "output_type": "stream",
     "text": [
      "100%|██████████| 3/3 [01:40<00:00, 33.51s/it]"
     ]
    },
    {
     "name": "stdout",
     "output_type": "stream",
     "text": [
      "Client 1: accuracy loss: 86.03 | fairness loss 684.71 | Equal Opportunity Disparity = 0.00\n",
      "Client 2: accuracy loss: 42.97 | fairness loss 737.42 | Equal Opportunity Disparity = 0.01\n",
      " \n",
      "Avg Training Stats after 3 global rounds:\n",
      "Training loss: 25.52 | Validation accuracy: 81.24% | Validation Equal Opportunity Disparity: 0.0018\n"
     ]
    },
    {
     "name": "stderr",
     "output_type": "stream",
     "text": [
      "\n"
     ]
    },
    {
     "name": "stdout",
     "output_type": "stream",
     "text": [
      " \n",
      " Results after 3 global rounds of training:\n",
      "|---- Avg Train Accuracy: 81.24%\n",
      "|---- Test Accuracy: 83.78%\n",
      "|---- Test Equal Opportunity Disparity: 0.0140\n",
      "\n",
      " Total Run Time: 159.0774 sec\n"
     ]
    }
   ],
   "source": [
    "server = Server(logReg(num_features=adult_num_features, num_classes=2, seed = seed), adult_info, train_prn = False, seed = seed)\n",
    "server.FairConstraints(test_rounds = 1, test_lr = 0.005, test_penalty = 10, num_rounds = 3, local_epochs = 30, optimizer = 'adam', learning_rate = 0.002, penalty = 8, adaptive_penalty = True)"
   ]
  },
  {
   "cell_type": "code",
   "execution_count": null,
   "metadata": {},
   "outputs": [],
   "source": []
  }
 ],
 "metadata": {
  "kernelspec": {
   "display_name": "Python 3",
   "language": "python",
   "name": "python3"
  },
  "language_info": {
   "codemirror_mode": {
    "name": "ipython",
    "version": 3
   },
   "file_extension": ".py",
   "mimetype": "text/x-python",
   "name": "python",
   "nbconvert_exporter": "python",
   "pygments_lexer": "ipython3",
   "version": "3.7.4"
  }
 },
 "nbformat": 4,
 "nbformat_minor": 2
}
