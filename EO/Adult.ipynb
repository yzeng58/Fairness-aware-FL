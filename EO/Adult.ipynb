{
 "cells": [
  {
   "cell_type": "code",
   "execution_count": 1,
   "metadata": {},
   "outputs": [],
   "source": [
    "from Server import *\n",
    "from load_adult import *\n",
    "seed  = 123"
   ]
  },
  {
   "cell_type": "markdown",
   "metadata": {},
   "source": [
    "# Adult experiments"
   ]
  },
  {
   "cell_type": "code",
   "execution_count": 4,
   "metadata": {
    "scrolled": true
   },
   "outputs": [
    {
     "name": "stderr",
     "output_type": "stream",
     "text": [
      "\n",
      "  0%|          | 0/5 [00:00<?, ?it/s]\u001b[A"
     ]
    },
    {
     "name": "stdout",
     "output_type": "stream",
     "text": [
      "| seed: 0 |\n"
     ]
    },
    {
     "name": "stderr",
     "output_type": "stream",
     "text": [
      "\n",
      " 20%|██        | 1/5 [00:26<01:47, 26.93s/it]\u001b[A\n",
      " 40%|████      | 2/5 [00:54<01:21, 27.19s/it]\u001b[A\n",
      " 60%|██████    | 3/5 [01:22<00:54, 27.25s/it]\u001b[A\n",
      " 80%|████████  | 4/5 [01:51<00:28, 28.02s/it]\u001b[A\n",
      "100%|██████████| 5/5 [02:16<00:00, 27.21s/it]\u001b[A\n",
      "\n",
      "  0%|          | 0/5 [00:00<?, ?it/s]\u001b[A"
     ]
    },
    {
     "name": "stdout",
     "output_type": "stream",
     "text": [
      "|------ Acc.: 0.831 | eo Dis.: 0.125 |\n",
      "| seed: 1 |\n"
     ]
    },
    {
     "name": "stderr",
     "output_type": "stream",
     "text": [
      "\n",
      " 20%|██        | 1/5 [00:24<01:37, 24.27s/it]\u001b[A\n",
      " 40%|████      | 2/5 [00:48<01:12, 24.14s/it]\u001b[A\n",
      " 60%|██████    | 3/5 [01:11<00:47, 23.92s/it]\u001b[A\n",
      " 80%|████████  | 4/5 [01:35<00:24, 24.01s/it]\u001b[A\n",
      "100%|██████████| 5/5 [01:59<00:00, 23.87s/it]\u001b[A\n",
      "\n",
      "  0%|          | 0/5 [00:00<?, ?it/s]\u001b[A"
     ]
    },
    {
     "name": "stdout",
     "output_type": "stream",
     "text": [
      "|------ Acc.: 0.849 | eo Dis.: 0.045 |\n",
      "| seed: 2 |\n"
     ]
    },
    {
     "name": "stderr",
     "output_type": "stream",
     "text": [
      "\n",
      " 20%|██        | 1/5 [00:23<01:35, 24.00s/it]\u001b[A\n",
      " 40%|████      | 2/5 [00:47<01:11, 23.94s/it]\u001b[A\n",
      " 60%|██████    | 3/5 [01:11<00:47, 23.91s/it]\u001b[A\n",
      " 80%|████████  | 4/5 [01:36<00:24, 24.23s/it]\u001b[A\n",
      "100%|██████████| 5/5 [02:00<00:00, 24.17s/it]\u001b[A\n",
      "\n",
      "  0%|          | 0/5 [00:00<?, ?it/s]\u001b[A"
     ]
    },
    {
     "name": "stdout",
     "output_type": "stream",
     "text": [
      "|------ Acc.: 0.835 | eo Dis.: 0.106 |\n",
      "| seed: 3 |\n"
     ]
    },
    {
     "name": "stderr",
     "output_type": "stream",
     "text": [
      "\n",
      " 20%|██        | 1/5 [00:24<01:38, 24.71s/it]\u001b[A\n",
      " 40%|████      | 2/5 [00:49<01:13, 24.65s/it]\u001b[A\n",
      " 60%|██████    | 3/5 [01:13<00:49, 24.65s/it]\u001b[A\n",
      " 80%|████████  | 4/5 [01:39<00:25, 25.02s/it]\u001b[A\n",
      "100%|██████████| 5/5 [02:04<00:00, 24.93s/it]\u001b[A\n",
      "\n",
      "  0%|          | 0/5 [00:00<?, ?it/s]\u001b[A"
     ]
    },
    {
     "name": "stdout",
     "output_type": "stream",
     "text": [
      "|------ Acc.: 0.836 | eo Dis.: 0.096 |\n",
      "| seed: 4 |\n"
     ]
    },
    {
     "name": "stderr",
     "output_type": "stream",
     "text": [
      "\n",
      " 20%|██        | 1/5 [00:25<01:40, 25.06s/it]\u001b[A\n",
      " 40%|████      | 2/5 [00:50<01:15, 25.03s/it]\u001b[A\n",
      " 60%|██████    | 3/5 [01:15<00:50, 25.26s/it]\u001b[A\n",
      " 80%|████████  | 4/5 [01:41<00:25, 25.30s/it]\u001b[A\n",
      "100%|██████████| 5/5 [02:06<00:00, 25.29s/it]\u001b[A\n",
      "\n",
      "  0%|          | 0/5 [00:00<?, ?it/s]\u001b[A"
     ]
    },
    {
     "name": "stdout",
     "output_type": "stream",
     "text": [
      "|------ Acc.: 0.835 | eo Dis.: 0.111 |\n",
      "| seed: 5 |\n"
     ]
    },
    {
     "name": "stderr",
     "output_type": "stream",
     "text": [
      "\n",
      " 20%|██        | 1/5 [00:25<01:42, 25.54s/it]\u001b[A\n",
      " 40%|████      | 2/5 [00:50<01:16, 25.50s/it]\u001b[A\n",
      " 60%|██████    | 3/5 [01:18<00:52, 26.01s/it]\u001b[A\n",
      " 80%|████████  | 4/5 [01:43<00:25, 25.87s/it]\u001b[A\n",
      "100%|██████████| 5/5 [02:09<00:00, 25.86s/it]\u001b[A\n",
      "\n",
      "  0%|          | 0/5 [00:00<?, ?it/s]\u001b[A"
     ]
    },
    {
     "name": "stdout",
     "output_type": "stream",
     "text": [
      "|------ Acc.: 0.850 | eo Dis.: 0.037 |\n",
      "| seed: 6 |\n"
     ]
    },
    {
     "name": "stderr",
     "output_type": "stream",
     "text": [
      "\n",
      " 20%|██        | 1/5 [00:26<01:44, 26.13s/it]\u001b[A\n",
      " 40%|████      | 2/5 [00:51<01:18, 26.01s/it]\u001b[A\n",
      " 60%|██████    | 3/5 [01:21<00:54, 27.24s/it]\u001b[A\n",
      " 80%|████████  | 4/5 [01:48<00:26, 26.92s/it]\u001b[A\n",
      "100%|██████████| 5/5 [02:14<00:00, 26.92s/it]\u001b[A\n",
      "\n",
      "  0%|          | 0/5 [00:00<?, ?it/s]\u001b[A"
     ]
    },
    {
     "name": "stdout",
     "output_type": "stream",
     "text": [
      "|------ Acc.: 0.834 | eo Dis.: 0.116 |\n",
      "| seed: 7 |\n"
     ]
    },
    {
     "name": "stderr",
     "output_type": "stream",
     "text": [
      "\n",
      " 20%|██        | 1/5 [00:27<01:48, 27.21s/it]\u001b[A\n",
      " 40%|████      | 2/5 [00:54<01:21, 27.24s/it]\u001b[A\n",
      " 60%|██████    | 3/5 [01:20<00:53, 26.91s/it]\u001b[A\n",
      " 80%|████████  | 4/5 [01:47<00:26, 26.84s/it]\u001b[A\n",
      "100%|██████████| 5/5 [02:13<00:00, 26.80s/it]\u001b[A\n",
      "\n",
      "  0%|          | 0/5 [00:00<?, ?it/s]\u001b[A"
     ]
    },
    {
     "name": "stdout",
     "output_type": "stream",
     "text": [
      "|------ Acc.: 0.850 | eo Dis.: 0.044 |\n",
      "| seed: 8 |\n"
     ]
    },
    {
     "name": "stderr",
     "output_type": "stream",
     "text": [
      "\n",
      " 20%|██        | 1/5 [00:26<01:46, 26.66s/it]\u001b[A\n",
      " 40%|████      | 2/5 [00:53<01:20, 26.85s/it]\u001b[A\n",
      " 60%|██████    | 3/5 [01:20<00:53, 26.73s/it]\u001b[A\n",
      " 80%|████████  | 4/5 [01:46<00:26, 26.66s/it]\u001b[A\n",
      "100%|██████████| 5/5 [02:13<00:00, 26.71s/it]\u001b[A\n",
      "\n",
      "  0%|          | 0/5 [00:00<?, ?it/s]\u001b[A"
     ]
    },
    {
     "name": "stdout",
     "output_type": "stream",
     "text": [
      "|------ Acc.: 0.850 | eo Dis.: 0.041 |\n",
      "| seed: 9 |\n"
     ]
    },
    {
     "name": "stderr",
     "output_type": "stream",
     "text": [
      "\n",
      " 20%|██        | 1/5 [00:27<01:51, 27.98s/it]\u001b[A\n",
      " 40%|████      | 2/5 [00:54<01:22, 27.51s/it]\u001b[A\n",
      " 60%|██████    | 3/5 [01:20<00:54, 27.18s/it]\u001b[A\n",
      " 80%|████████  | 4/5 [01:47<00:27, 27.04s/it]\u001b[A\n",
      "100%|██████████| 5/5 [02:15<00:00, 27.00s/it]\u001b[A\n"
     ]
    },
    {
     "name": "stdout",
     "output_type": "stream",
     "text": [
      "|------ Acc.: 0.833 | eo Dis.: 0.121 |\n",
      "| Acc.: 0.840(0.008) | eo Dis.: 0.084(0.035) |\n"
     ]
    }
   ],
   "source": [
    "acc, eo = np.zeros(10), np.zeros(10)\n",
    "for seed in range(10):\n",
    "    print(\"| seed: %d |\" % seed)\n",
    "    server = Server(logReg(num_features=adult_num_features, num_classes=2, seed = seed), adult_info, train_prn = False, seed = seed, ret = True)\n",
    "    acc[seed], eo[seed] = server.Unconstrained(num_rounds = 5, local_epochs = 30, optimizer = 'adam', learning_rate = 0.002)\n",
    "    print(\"|------ Acc.: %.3f | EO Dis.: %.3f |\" % (acc[seed], eo[seed]))\n",
    "print(\"| Acc.: %.3f(%.3f) | eo Dis.: %.3f(%.3f) |\" % (acc.mean(), acc.std(), eo.mean(), eo.std()))"
   ]
  },
  {
   "cell_type": "code",
   "execution_count": 2,
   "metadata": {
    "scrolled": true
   },
   "outputs": [
    {
     "name": "stderr",
     "output_type": "stream",
     "text": [
      "\r",
      "  0%|          | 0/5 [00:00<?, ?it/s]"
     ]
    },
    {
     "name": "stdout",
     "output_type": "stream",
     "text": [
      "| seed: 0 |\n"
     ]
    },
    {
     "name": "stderr",
     "output_type": "stream",
     "text": [
      "100%|██████████| 5/5 [02:19<00:00, 27.92s/it]\n",
      "  0%|          | 0/5 [00:00<?, ?it/s]"
     ]
    },
    {
     "name": "stdout",
     "output_type": "stream",
     "text": [
      "|------ Acc.: 0.830 | EO Dis.: 0.081 |\n",
      "| seed: 1 |\n"
     ]
    },
    {
     "name": "stderr",
     "output_type": "stream",
     "text": [
      "100%|██████████| 5/5 [02:18<00:00, 27.65s/it]\n",
      "  0%|          | 0/5 [00:00<?, ?it/s]"
     ]
    },
    {
     "name": "stdout",
     "output_type": "stream",
     "text": [
      "|------ Acc.: 0.845 | EO Dis.: 0.009 |\n",
      "| seed: 2 |\n"
     ]
    },
    {
     "name": "stderr",
     "output_type": "stream",
     "text": [
      "100%|██████████| 5/5 [02:22<00:00, 28.50s/it]\n",
      "  0%|          | 0/5 [00:00<?, ?it/s]"
     ]
    },
    {
     "name": "stdout",
     "output_type": "stream",
     "text": [
      "|------ Acc.: 0.830 | EO Dis.: 0.074 |\n",
      "| seed: 3 |\n"
     ]
    },
    {
     "name": "stderr",
     "output_type": "stream",
     "text": [
      "100%|██████████| 5/5 [02:40<00:00, 32.03s/it]\n",
      "  0%|          | 0/5 [00:00<?, ?it/s]"
     ]
    },
    {
     "name": "stdout",
     "output_type": "stream",
     "text": [
      "|------ Acc.: 0.832 | EO Dis.: 0.067 |\n",
      "| seed: 4 |\n"
     ]
    },
    {
     "name": "stderr",
     "output_type": "stream",
     "text": [
      "100%|██████████| 5/5 [02:49<00:00, 33.80s/it]\n",
      "  0%|          | 0/5 [00:00<?, ?it/s]"
     ]
    },
    {
     "name": "stdout",
     "output_type": "stream",
     "text": [
      "|------ Acc.: 0.831 | EO Dis.: 0.074 |\n",
      "| seed: 5 |\n"
     ]
    },
    {
     "name": "stderr",
     "output_type": "stream",
     "text": [
      "100%|██████████| 5/5 [02:43<00:00, 32.77s/it]\n",
      "  0%|          | 0/5 [00:00<?, ?it/s]"
     ]
    },
    {
     "name": "stdout",
     "output_type": "stream",
     "text": [
      "|------ Acc.: 0.845 | EO Dis.: 0.017 |\n",
      "| seed: 6 |\n"
     ]
    },
    {
     "name": "stderr",
     "output_type": "stream",
     "text": [
      "100%|██████████| 5/5 [02:46<00:00, 33.30s/it]\n",
      "  0%|          | 0/5 [00:00<?, ?it/s]"
     ]
    },
    {
     "name": "stdout",
     "output_type": "stream",
     "text": [
      "|------ Acc.: 0.831 | EO Dis.: 0.068 |\n",
      "| seed: 7 |\n"
     ]
    },
    {
     "name": "stderr",
     "output_type": "stream",
     "text": [
      "100%|██████████| 5/5 [02:42<00:00, 32.59s/it]\n",
      "  0%|          | 0/5 [00:00<?, ?it/s]"
     ]
    },
    {
     "name": "stdout",
     "output_type": "stream",
     "text": [
      "|------ Acc.: 0.844 | EO Dis.: 0.019 |\n",
      "| seed: 8 |\n"
     ]
    },
    {
     "name": "stderr",
     "output_type": "stream",
     "text": [
      "100%|██████████| 5/5 [02:26<00:00, 29.36s/it]\n",
      "  0%|          | 0/5 [00:00<?, ?it/s]"
     ]
    },
    {
     "name": "stdout",
     "output_type": "stream",
     "text": [
      "|------ Acc.: 0.843 | EO Dis.: 0.025 |\n",
      "| seed: 9 |\n"
     ]
    },
    {
     "name": "stderr",
     "output_type": "stream",
     "text": [
      "100%|██████████| 5/5 [02:24<00:00, 28.90s/it]\n"
     ]
    },
    {
     "name": "stdout",
     "output_type": "stream",
     "text": [
      "|------ Acc.: 0.832 | EO Dis.: 0.074 |\n",
      "| Acc.: 0.836(0.007) | EO Dis.: 0.051(0.028) |\n"
     ]
    }
   ],
   "source": [
    "acc, eo = np.zeros(10), np.zeros(10)\n",
    "for seed in range(10):\n",
    "    print(\"| seed: %d |\" % seed)\n",
    "    server = Server(logReg(num_features=adult_num_features, num_classes=2, seed = seed), adult_info, train_prn = False, seed = seed, ret = True)\n",
    "    acc[seed], eo[seed] = server.FairBatch(num_rounds = 5, local_epochs = 30, optimizer = 'adam', learning_rate = 0.003, alpha = 0.005)\n",
    "    print(\"|------ Acc.: %.3f | EO Dis.: %.3f |\" % (acc[seed], eo[seed]))\n",
    "print(\"| Acc.: %.3f(%.3f) | EO Dis.: %.3f(%.3f) |\" % (acc.mean(), acc.std(), eo.mean(), eo.std()))"
   ]
  },
  {
   "cell_type": "code",
   "execution_count": 8,
   "metadata": {
    "scrolled": true
   },
   "outputs": [
    {
     "name": "stderr",
     "output_type": "stream",
     "text": [
      "\r",
      "  0%|          | 0/1 [00:00<?, ?it/s]"
     ]
    },
    {
     "name": "stdout",
     "output_type": "stream",
     "text": [
      "| seed: 0 |\n"
     ]
    },
    {
     "name": "stderr",
     "output_type": "stream",
     "text": [
      "100%|██████████| 1/1 [00:23<00:00, 23.86s/it]\n",
      "100%|██████████| 1/1 [00:23<00:00, 23.52s/it]\n",
      "100%|██████████| 3/3 [01:12<00:00, 24.10s/it]\n",
      "  0%|          | 0/1 [00:00<?, ?it/s]"
     ]
    },
    {
     "name": "stdout",
     "output_type": "stream",
     "text": [
      "|------ Acc.: 0.839 | EO Dis.: 0.070 |\n",
      "| seed: 1 |\n"
     ]
    },
    {
     "name": "stderr",
     "output_type": "stream",
     "text": [
      "100%|██████████| 1/1 [00:25<00:00, 25.20s/it]\n",
      "100%|██████████| 1/1 [00:24<00:00, 24.24s/it]\n",
      "100%|██████████| 3/3 [01:13<00:00, 24.50s/it]\n",
      "  0%|          | 0/1 [00:00<?, ?it/s]"
     ]
    },
    {
     "name": "stdout",
     "output_type": "stream",
     "text": [
      "|------ Acc.: 0.849 | EO Dis.: 0.010 |\n",
      "| seed: 2 |\n"
     ]
    },
    {
     "name": "stderr",
     "output_type": "stream",
     "text": [
      "100%|██████████| 1/1 [00:25<00:00, 25.82s/it]\n",
      "100%|██████████| 1/1 [00:24<00:00, 24.69s/it]\n",
      "100%|██████████| 3/3 [01:15<00:00, 25.13s/it]\n",
      "  0%|          | 0/1 [00:00<?, ?it/s]"
     ]
    },
    {
     "name": "stdout",
     "output_type": "stream",
     "text": [
      "|------ Acc.: 0.839 | EO Dis.: 0.038 |\n",
      "| seed: 3 |\n"
     ]
    },
    {
     "name": "stderr",
     "output_type": "stream",
     "text": [
      "100%|██████████| 1/1 [00:25<00:00, 25.74s/it]\n",
      "100%|██████████| 1/1 [00:25<00:00, 25.36s/it]\n",
      "100%|██████████| 3/3 [01:16<00:00, 25.40s/it]\n",
      "  0%|          | 0/1 [00:00<?, ?it/s]"
     ]
    },
    {
     "name": "stdout",
     "output_type": "stream",
     "text": [
      "|------ Acc.: 0.840 | EO Dis.: 0.032 |\n",
      "| seed: 4 |\n"
     ]
    },
    {
     "name": "stderr",
     "output_type": "stream",
     "text": [
      "100%|██████████| 1/1 [00:26<00:00, 26.07s/it]\n",
      "100%|██████████| 1/1 [00:26<00:00, 26.25s/it]\n",
      "100%|██████████| 3/3 [01:41<00:00, 33.82s/it]\n",
      "  0%|          | 0/1 [00:00<?, ?it/s]"
     ]
    },
    {
     "name": "stdout",
     "output_type": "stream",
     "text": [
      "|------ Acc.: 0.841 | EO Dis.: 0.047 |\n",
      "| seed: 5 |\n"
     ]
    },
    {
     "name": "stderr",
     "output_type": "stream",
     "text": [
      "100%|██████████| 1/1 [00:25<00:00, 25.99s/it]\n",
      "100%|██████████| 1/1 [00:25<00:00, 25.89s/it]\n",
      "100%|██████████| 3/3 [01:27<00:00, 29.17s/it]\n",
      "  0%|          | 0/1 [00:00<?, ?it/s]"
     ]
    },
    {
     "name": "stdout",
     "output_type": "stream",
     "text": [
      "|------ Acc.: 0.850 | EO Dis.: 0.006 |\n",
      "| seed: 6 |\n"
     ]
    },
    {
     "name": "stderr",
     "output_type": "stream",
     "text": [
      "100%|██████████| 1/1 [00:29<00:00, 29.51s/it]\n",
      "100%|██████████| 1/1 [00:34<00:00, 34.43s/it]\n",
      "100%|██████████| 3/3 [01:35<00:00, 31.86s/it]\n",
      "  0%|          | 0/1 [00:00<?, ?it/s]"
     ]
    },
    {
     "name": "stdout",
     "output_type": "stream",
     "text": [
      "|------ Acc.: 0.843 | EO Dis.: 0.041 |\n",
      "| seed: 7 |\n"
     ]
    },
    {
     "name": "stderr",
     "output_type": "stream",
     "text": [
      "100%|██████████| 1/1 [00:38<00:00, 38.47s/it]\n",
      "100%|██████████| 1/1 [00:40<00:00, 40.21s/it]\n",
      "100%|██████████| 3/3 [01:55<00:00, 38.38s/it]\n",
      "  0%|          | 0/1 [00:00<?, ?it/s]"
     ]
    },
    {
     "name": "stdout",
     "output_type": "stream",
     "text": [
      "|------ Acc.: 0.849 | EO Dis.: 0.011 |\n",
      "| seed: 8 |\n"
     ]
    },
    {
     "name": "stderr",
     "output_type": "stream",
     "text": [
      "100%|██████████| 1/1 [00:48<00:00, 48.84s/it]\n",
      "100%|██████████| 1/1 [00:48<00:00, 48.89s/it]\n",
      "100%|██████████| 3/3 [01:47<00:00, 35.92s/it]\n",
      "  0%|          | 0/1 [00:00<?, ?it/s]"
     ]
    },
    {
     "name": "stdout",
     "output_type": "stream",
     "text": [
      "|------ Acc.: 0.849 | EO Dis.: 0.007 |\n",
      "| seed: 9 |\n"
     ]
    },
    {
     "name": "stderr",
     "output_type": "stream",
     "text": [
      "100%|██████████| 1/1 [00:28<00:00, 28.07s/it]\n",
      "100%|██████████| 1/1 [00:31<00:00, 31.55s/it]\n",
      "100%|██████████| 3/3 [02:19<00:00, 46.55s/it]\n"
     ]
    },
    {
     "name": "stdout",
     "output_type": "stream",
     "text": [
      "|------ Acc.: 0.838 | EO Dis.: 0.014 |\n",
      "| Acc.: 0.844(0.005) | EO Dis.: 0.028(0.020) |\n"
     ]
    }
   ],
   "source": [
    "acc, eo = np.zeros(10), np.zeros(10)\n",
    "for seed in range(10):\n",
    "    print(\"| seed: %d |\" % seed)\n",
    "    server = Server(logReg(num_features=adult_num_features, num_classes=2, seed = seed), adult_info, train_prn = False, seed = seed, ret = True)\n",
    "    acc[seed], eo[seed] = server.FairConstraints(test_rounds = 1, test_lr = 0.005, test_penalty = 10, num_rounds = 3, local_epochs = 30, optimizer = 'adam', learning_rate = 0.002, penalty = 8, adaptive_penalty = True)\n",
    "    print(\"|------ Acc.: %.3f | EO Dis.: %.3f |\" % (acc[seed], eo[seed]))\n",
    "print(\"| Acc.: %.3f(%.3f) | EO Dis.: %.3f(%.3f) |\" % (acc.mean(), acc.std(), eo.mean(), eo.std()))"
   ]
  },
  {
   "cell_type": "code",
   "execution_count": 12,
   "metadata": {
    "scrolled": true
   },
   "outputs": [
    {
     "name": "stderr",
     "output_type": "stream",
     "text": [
      "\n",
      "  0%|          | 0/5 [00:00<?, ?it/s]\u001b[A"
     ]
    },
    {
     "name": "stdout",
     "output_type": "stream",
     "text": [
      "| seed: 0 |\n"
     ]
    },
    {
     "name": "stderr",
     "output_type": "stream",
     "text": [
      "\n",
      " 20%|██        | 1/5 [00:47<03:10, 47.66s/it]\u001b[A\n",
      " 40%|████      | 2/5 [01:51<02:37, 52.44s/it]\u001b[A\n",
      " 60%|██████    | 3/5 [02:53<01:50, 55.40s/it]\u001b[A\n",
      " 80%|████████  | 4/5 [03:53<00:56, 56.80s/it]\u001b[A\n",
      "100%|██████████| 5/5 [04:41<00:00, 56.35s/it]\u001b[A\n",
      "\n",
      "  0%|          | 0/5 [00:00<?, ?it/s]\u001b[A"
     ]
    },
    {
     "name": "stdout",
     "output_type": "stream",
     "text": [
      "|------ Acc.: 0.773 | EO Dis.: 0.010 |\n",
      "| seed: 1 |\n"
     ]
    },
    {
     "name": "stderr",
     "output_type": "stream",
     "text": [
      "\n",
      " 20%|██        | 1/5 [01:03<04:14, 63.69s/it]\u001b[A\n",
      " 40%|████      | 2/5 [02:05<03:09, 63.16s/it]\u001b[A\n",
      " 60%|██████    | 3/5 [03:25<02:16, 68.05s/it]\u001b[A\n",
      " 80%|████████  | 4/5 [04:36<01:08, 69.00s/it]\u001b[A\n",
      "100%|██████████| 5/5 [05:43<00:00, 68.65s/it]\u001b[A\n",
      "\n",
      "  0%|          | 0/5 [00:00<?, ?it/s]\u001b[A"
     ]
    },
    {
     "name": "stdout",
     "output_type": "stream",
     "text": [
      "|------ Acc.: 0.771 | EO Dis.: 0.010 |\n",
      "| seed: 2 |\n"
     ]
    },
    {
     "name": "stderr",
     "output_type": "stream",
     "text": [
      "\n",
      " 20%|██        | 1/5 [01:23<05:33, 83.25s/it]\u001b[A\n",
      " 40%|████      | 2/5 [02:51<04:14, 84.68s/it]\u001b[A\n",
      " 60%|██████    | 3/5 [03:59<02:39, 79.88s/it]\u001b[A\n",
      " 80%|████████  | 4/5 [05:22<01:20, 80.73s/it]\u001b[A\n",
      "100%|██████████| 5/5 [06:20<00:00, 76.06s/it]\u001b[A\n",
      "\n",
      "  0%|          | 0/5 [00:00<?, ?it/s]\u001b[A"
     ]
    },
    {
     "name": "stdout",
     "output_type": "stream",
     "text": [
      "|------ Acc.: 0.770 | EO Dis.: 0.012 |\n",
      "| seed: 3 |\n"
     ]
    },
    {
     "name": "stderr",
     "output_type": "stream",
     "text": [
      "\n",
      " 20%|██        | 1/5 [01:12<04:51, 72.80s/it]\u001b[A\n",
      " 40%|████      | 2/5 [02:19<03:33, 71.11s/it]\u001b[A\n",
      " 60%|██████    | 3/5 [03:46<02:31, 75.81s/it]\u001b[A\n",
      " 80%|████████  | 4/5 [06:53<01:48, 108.98s/it]\u001b[A\n",
      "100%|██████████| 5/5 [08:52<00:00, 106.42s/it]\u001b[A\n",
      "\n",
      "  0%|          | 0/5 [00:00<?, ?it/s]\u001b[A"
     ]
    },
    {
     "name": "stdout",
     "output_type": "stream",
     "text": [
      "|------ Acc.: 0.765 | EO Dis.: 0.001 |\n",
      "| seed: 4 |\n"
     ]
    },
    {
     "name": "stderr",
     "output_type": "stream",
     "text": [
      "\n",
      " 20%|██        | 1/5 [01:42<06:49, 102.28s/it]\u001b[A\n",
      " 40%|████      | 2/5 [03:23<05:05, 101.85s/it]\u001b[A\n",
      " 60%|██████    | 3/5 [05:03<03:22, 101.38s/it]\u001b[A\n",
      " 80%|████████  | 4/5 [06:45<01:41, 101.48s/it]\u001b[A\n",
      "100%|██████████| 5/5 [08:32<00:00, 102.55s/it]\u001b[A\n",
      "\n",
      "  0%|          | 0/5 [00:00<?, ?it/s]\u001b[A"
     ]
    },
    {
     "name": "stdout",
     "output_type": "stream",
     "text": [
      "|------ Acc.: 0.771 | EO Dis.: 0.015 |\n",
      "| seed: 5 |\n"
     ]
    },
    {
     "name": "stderr",
     "output_type": "stream",
     "text": [
      "\n",
      " 20%|██        | 1/5 [01:09<04:38, 69.54s/it]\u001b[A\n",
      " 40%|████      | 2/5 [02:19<03:29, 69.69s/it]\u001b[A\n",
      " 60%|██████    | 3/5 [04:15<02:47, 83.50s/it]\u001b[A\n",
      " 80%|████████  | 4/5 [05:31<01:21, 81.25s/it]\u001b[A\n",
      "100%|██████████| 5/5 [07:03<00:00, 84.67s/it]\u001b[A\n",
      "\n",
      "  0%|          | 0/5 [00:00<?, ?it/s]\u001b[A"
     ]
    },
    {
     "name": "stdout",
     "output_type": "stream",
     "text": [
      "|------ Acc.: 0.770 | EO Dis.: 0.016 |\n",
      "| seed: 6 |\n"
     ]
    },
    {
     "name": "stderr",
     "output_type": "stream",
     "text": [
      "\n",
      " 20%|██        | 1/5 [00:48<03:13, 48.36s/it]\u001b[A\n",
      " 40%|████      | 2/5 [01:37<02:25, 48.65s/it]\u001b[A\n",
      " 60%|██████    | 3/5 [02:28<01:38, 49.19s/it]\u001b[A\n",
      " 80%|████████  | 4/5 [03:15<00:48, 48.60s/it]\u001b[A\n",
      "100%|██████████| 5/5 [03:58<00:00, 47.68s/it]\u001b[A\n",
      "\n",
      "  0%|          | 0/5 [00:00<?, ?it/s]\u001b[A"
     ]
    },
    {
     "name": "stdout",
     "output_type": "stream",
     "text": [
      "|------ Acc.: 0.770 | EO Dis.: 0.006 |\n",
      "| seed: 7 |\n"
     ]
    },
    {
     "name": "stderr",
     "output_type": "stream",
     "text": [
      "\n",
      " 20%|██        | 1/5 [00:42<02:51, 42.78s/it]\u001b[A\n",
      " 40%|████      | 2/5 [01:21<02:04, 41.48s/it]\u001b[A\n",
      " 60%|██████    | 3/5 [02:07<01:25, 42.96s/it]\u001b[A\n",
      " 80%|████████  | 4/5 [02:52<00:43, 43.47s/it]\u001b[A\n",
      "100%|██████████| 5/5 [03:56<00:00, 47.34s/it]\u001b[A\n",
      "\n",
      "  0%|          | 0/5 [00:00<?, ?it/s]\u001b[A"
     ]
    },
    {
     "name": "stdout",
     "output_type": "stream",
     "text": [
      "|------ Acc.: 0.774 | EO Dis.: 0.003 |\n",
      "| seed: 8 |\n"
     ]
    },
    {
     "name": "stderr",
     "output_type": "stream",
     "text": [
      "\n",
      " 20%|██        | 1/5 [01:03<04:14, 63.73s/it]\u001b[A\n",
      " 40%|████      | 2/5 [02:39<03:40, 73.49s/it]\u001b[A\n",
      " 60%|██████    | 3/5 [04:44<02:57, 88.73s/it]\u001b[A\n",
      " 80%|████████  | 4/5 [06:23<01:31, 91.92s/it]\u001b[A\n",
      "100%|██████████| 5/5 [07:55<00:00, 95.02s/it]\u001b[A\n",
      "\n",
      "  0%|          | 0/5 [00:00<?, ?it/s]\u001b[A"
     ]
    },
    {
     "name": "stdout",
     "output_type": "stream",
     "text": [
      "|------ Acc.: 0.773 | EO Dis.: 0.020 |\n",
      "| seed: 9 |\n"
     ]
    },
    {
     "name": "stderr",
     "output_type": "stream",
     "text": [
      "\n",
      " 20%|██        | 1/5 [01:56<07:46, 116.50s/it]\u001b[A\n",
      " 40%|████      | 2/5 [04:01<05:57, 119.11s/it]\u001b[A\n",
      " 60%|██████    | 3/5 [06:01<03:58, 119.31s/it]\u001b[A\n",
      " 80%|████████  | 4/5 [07:57<01:58, 118.43s/it]\u001b[A\n",
      "100%|██████████| 5/5 [09:30<00:00, 114.19s/it]\u001b[A\n"
     ]
    },
    {
     "name": "stdout",
     "output_type": "stream",
     "text": [
      "|------ Acc.: 0.769 | EO Dis.: 0.021 |\n",
      "| Acc.: 0.770(0.002) | EO Dis.: 0.011(0.006) |\n"
     ]
    }
   ],
   "source": [
    "acc, eo = np.zeros(10), np.zeros(10)\n",
    "for seed in range(10):\n",
    "    print(\"| seed: %d |\" % seed)\n",
    "    server = Server(logReg(num_features=adult_num_features, num_classes=2, seed = seed), adult_info, train_prn = False, seed = seed, ret = True)\n",
    "    acc[seed], eo[seed] = server.LocalFC(num_rounds = 5, local_epochs = 30, optimizer = 'adam', learning_rate = 0.004, penalty = 500)\n",
    "    print(\"|------ Acc.: %.3f | EO Dis.: %.3f |\" % (acc[seed], eo[seed]))\n",
    "print(\"| Acc.: %.3f(%.3f) | EO Dis.: %.3f(%.3f) |\" % (acc.mean(), acc.std(), eo.mean(), eo.std()))"
   ]
  },
  {
   "cell_type": "code",
   "execution_count": 13,
   "metadata": {},
   "outputs": [
    {
     "name": "stderr",
     "output_type": "stream",
     "text": [
      "\n",
      "  0%|          | 0/2 [00:00<?, ?it/s]\u001b[A"
     ]
    },
    {
     "name": "stdout",
     "output_type": "stream",
     "text": [
      "| seed: 0 |\n"
     ]
    },
    {
     "name": "stderr",
     "output_type": "stream",
     "text": [
      "\n",
      " 50%|█████     | 1/2 [00:26<00:26, 26.71s/it]\u001b[A\n",
      "100%|██████████| 2/2 [00:51<00:00, 25.99s/it]\u001b[A\n",
      "\n",
      "  0%|          | 0/5 [00:00<?, ?it/s]\u001b[A\n",
      " 20%|██        | 1/5 [00:32<02:10, 32.55s/it]\u001b[A\n",
      " 40%|████      | 2/5 [01:08<01:40, 33.55s/it]\u001b[A\n",
      " 60%|██████    | 3/5 [01:41<01:06, 33.50s/it]\u001b[A\n",
      "\n",
      "  0%|          | 0/2 [00:00<?, ?it/s]\u001b[A\u001b[A"
     ]
    },
    {
     "name": "stdout",
     "output_type": "stream",
     "text": [
      "|------ Acc.: 0.820 | EO Dis.: 0.064 |\n",
      "| seed: 1 |\n"
     ]
    },
    {
     "name": "stderr",
     "output_type": "stream",
     "text": [
      "\n",
      "\n",
      " 50%|█████     | 1/2 [00:26<00:26, 26.87s/it]\u001b[A\u001b[A\n",
      "\n",
      "100%|██████████| 2/2 [00:52<00:00, 26.29s/it]\u001b[A\u001b[A\n",
      "\n",
      "\n",
      "  0%|          | 0/5 [00:00<?, ?it/s]\u001b[A\u001b[A\n",
      "\n",
      " 20%|██        | 1/5 [00:28<01:54, 28.64s/it]\u001b[A\u001b[A\n",
      "\n",
      "\n",
      "  0%|          | 0/2 [00:00<?, ?it/s]\u001b[A\u001b[A\u001b[A"
     ]
    },
    {
     "name": "stdout",
     "output_type": "stream",
     "text": [
      "|------ Acc.: 0.845 | EO Dis.: 0.021 |\n",
      "| seed: 2 |\n"
     ]
    },
    {
     "name": "stderr",
     "output_type": "stream",
     "text": [
      "\n",
      "\n",
      "\n",
      " 50%|█████     | 1/2 [00:23<00:23, 23.07s/it]\u001b[A\u001b[A\u001b[A\n",
      "\n",
      "\n",
      "100%|██████████| 2/2 [00:45<00:00, 22.63s/it]\u001b[A\u001b[A\u001b[A\n",
      "\n",
      "\n",
      "\n",
      "  0%|          | 0/5 [00:00<?, ?it/s]\u001b[A\u001b[A\u001b[A\n",
      "\n",
      "\n",
      " 20%|██        | 1/5 [00:28<01:52, 28.00s/it]\u001b[A\u001b[A\u001b[A\n",
      "\n",
      "\n",
      " 40%|████      | 2/5 [00:56<01:24, 28.06s/it]\u001b[A\u001b[A\u001b[A\n",
      "\n",
      "\n",
      "\n",
      "  0%|          | 0/2 [00:00<?, ?it/s]\u001b[A\u001b[A\u001b[A\u001b[A"
     ]
    },
    {
     "name": "stdout",
     "output_type": "stream",
     "text": [
      "|------ Acc.: 0.826 | EO Dis.: 0.058 |\n",
      "| seed: 3 |\n"
     ]
    },
    {
     "name": "stderr",
     "output_type": "stream",
     "text": [
      "\n",
      "\n",
      "\n",
      "\n",
      " 50%|█████     | 1/2 [00:26<00:26, 26.37s/it]\u001b[A\u001b[A\u001b[A\u001b[A\n",
      "\n",
      "\n",
      "\n",
      "100%|██████████| 2/2 [00:49<00:00, 24.85s/it]\u001b[A\u001b[A\u001b[A\u001b[A\n",
      "\n",
      "\n",
      "\n",
      "\n",
      "  0%|          | 0/5 [00:00<?, ?it/s]\u001b[A\u001b[A\u001b[A\u001b[A\n",
      "\n",
      "\n",
      "\n",
      " 20%|██        | 1/5 [00:29<01:57, 29.40s/it]\u001b[A\u001b[A\u001b[A\u001b[A\n",
      "\n",
      "\n",
      "\n",
      " 40%|████      | 2/5 [00:59<01:28, 29.60s/it]\u001b[A\u001b[A\u001b[A\u001b[A\n",
      "\n",
      "\n",
      "\n",
      " 60%|██████    | 3/5 [01:30<00:59, 29.99s/it]\u001b[A\u001b[A\u001b[A\u001b[A\n",
      "\n",
      "\n",
      "\n",
      " 80%|████████  | 4/5 [02:00<00:30, 30.04s/it]\u001b[A\u001b[A\u001b[A\u001b[A\n",
      "\n",
      "\n",
      "\n",
      "100%|██████████| 5/5 [02:31<00:00, 30.32s/it]\u001b[A\u001b[A\u001b[A\u001b[A\n",
      "\n",
      "\n",
      "\n",
      "\n",
      "  0%|          | 0/2 [00:00<?, ?it/s]\u001b[A\u001b[A\u001b[A\u001b[A"
     ]
    },
    {
     "name": "stdout",
     "output_type": "stream",
     "text": [
      "|------ Acc.: 0.818 | EO Dis.: 0.015 |\n",
      "| seed: 4 |\n"
     ]
    },
    {
     "name": "stderr",
     "output_type": "stream",
     "text": [
      "\n",
      "\n",
      "\n",
      "\n",
      " 50%|█████     | 1/2 [00:24<00:24, 24.87s/it]\u001b[A\u001b[A\u001b[A\u001b[A\n",
      "\n",
      "\n",
      "\n",
      "100%|██████████| 2/2 [00:50<00:00, 25.15s/it]\u001b[A\u001b[A\u001b[A\u001b[A\n",
      "\n",
      "\n",
      "\n",
      "\n",
      "  0%|          | 0/5 [00:00<?, ?it/s]\u001b[A\u001b[A\u001b[A\u001b[A\n",
      "\n",
      "\n",
      "\n",
      " 20%|██        | 1/5 [00:31<02:06, 31.59s/it]\u001b[A\u001b[A\u001b[A\u001b[A\n",
      "\n",
      "\n",
      "\n",
      " 40%|████      | 2/5 [01:03<01:35, 31.76s/it]\u001b[A\u001b[A\u001b[A\u001b[A\n",
      "\n",
      "\n",
      "\n",
      " 60%|██████    | 3/5 [01:37<01:04, 32.33s/it]\u001b[A\u001b[A\u001b[A\u001b[A\n",
      "\n",
      "\n",
      "\n",
      " 80%|████████  | 4/5 [02:10<00:32, 32.54s/it]\u001b[A\u001b[A\u001b[A\u001b[A\n",
      "\n",
      "\n",
      "\n",
      "100%|██████████| 5/5 [02:43<00:00, 32.75s/it]\u001b[A\u001b[A\u001b[A\u001b[A\n",
      "\n",
      "\n",
      "\n",
      "\n",
      "  0%|          | 0/2 [00:00<?, ?it/s]\u001b[A\u001b[A\u001b[A\u001b[A"
     ]
    },
    {
     "name": "stdout",
     "output_type": "stream",
     "text": [
      "|------ Acc.: 0.809 | EO Dis.: 0.006 |\n",
      "| seed: 5 |\n"
     ]
    },
    {
     "name": "stderr",
     "output_type": "stream",
     "text": [
      "\n",
      "\n",
      "\n",
      "\n",
      " 50%|█████     | 1/2 [00:26<00:26, 26.88s/it]\u001b[A\u001b[A\u001b[A\u001b[A\n",
      "\n",
      "\n",
      "\n",
      "100%|██████████| 2/2 [00:54<00:00, 27.02s/it]\u001b[A\u001b[A\u001b[A\u001b[A\n",
      "\n",
      "\n",
      "\n",
      "\n",
      "  0%|          | 0/5 [00:00<?, ?it/s]\u001b[A\u001b[A\u001b[A\u001b[A\n",
      "\n",
      "\n",
      "\n",
      " 20%|██        | 1/5 [00:35<02:21, 35.27s/it]\u001b[A\u001b[A\u001b[A\u001b[A\n",
      "\n",
      "\n",
      "\n",
      "\n",
      "  0%|          | 0/2 [00:00<?, ?it/s]\u001b[A\u001b[A\u001b[A\u001b[A\u001b[A"
     ]
    },
    {
     "name": "stdout",
     "output_type": "stream",
     "text": [
      "|------ Acc.: 0.845 | EO Dis.: 0.011 |\n",
      "| seed: 6 |\n"
     ]
    },
    {
     "name": "stderr",
     "output_type": "stream",
     "text": [
      "\n",
      "\n",
      "\n",
      "\n",
      "\n",
      " 50%|█████     | 1/2 [00:28<00:28, 28.66s/it]\u001b[A\u001b[A\u001b[A\u001b[A\u001b[A\n",
      "\n",
      "\n",
      "\n",
      "\n",
      "100%|██████████| 2/2 [00:57<00:00, 29.00s/it]\u001b[A\u001b[A\u001b[A\u001b[A\u001b[A\n",
      "\n",
      "\n",
      "\n",
      "\n",
      "\n",
      "  0%|          | 0/5 [00:00<?, ?it/s]\u001b[A\u001b[A\u001b[A\u001b[A\u001b[A\n",
      "\n",
      "\n",
      "\n",
      "\n",
      " 20%|██        | 1/5 [00:35<02:23, 35.88s/it]\u001b[A\u001b[A\u001b[A\u001b[A\u001b[A\n",
      "\n",
      "\n",
      "\n",
      "\n",
      " 40%|████      | 2/5 [01:12<01:47, 35.98s/it]\u001b[A\u001b[A\u001b[A\u001b[A\u001b[A\n",
      "\n",
      "\n",
      "\n",
      "\n",
      " 60%|██████    | 3/5 [01:48<01:12, 36.03s/it]\u001b[A\u001b[A\u001b[A\u001b[A\u001b[A\n",
      "\n",
      "\n",
      "\n",
      "\n",
      "\n",
      "  0%|          | 0/2 [00:00<?, ?it/s]\u001b[A\u001b[A\u001b[A\u001b[A\u001b[A\u001b[A"
     ]
    },
    {
     "name": "stdout",
     "output_type": "stream",
     "text": [
      "|------ Acc.: 0.820 | EO Dis.: 0.067 |\n",
      "| seed: 7 |\n"
     ]
    },
    {
     "name": "stderr",
     "output_type": "stream",
     "text": [
      "\n",
      "\n",
      "\n",
      "\n",
      "\n",
      "\n",
      " 50%|█████     | 1/2 [00:30<00:30, 30.99s/it]\u001b[A\u001b[A\u001b[A\u001b[A\u001b[A\u001b[A\n",
      "\n",
      "\n",
      "\n",
      "\n",
      "\n",
      "100%|██████████| 2/2 [01:01<00:00, 30.95s/it]\u001b[A\u001b[A\u001b[A\u001b[A\u001b[A\u001b[A\n",
      "\n",
      "\n",
      "\n",
      "\n",
      "\n",
      "\n",
      "  0%|          | 0/5 [00:00<?, ?it/s]\u001b[A\u001b[A\u001b[A\u001b[A\u001b[A\u001b[A\n",
      "\n",
      "\n",
      "\n",
      "\n",
      "\n",
      " 20%|██        | 1/5 [00:37<02:30, 37.65s/it]\u001b[A\u001b[A\u001b[A\u001b[A\u001b[A\u001b[A\n",
      "\n",
      "\n",
      "\n",
      "\n",
      "\n",
      " 40%|████      | 2/5 [01:20<01:57, 39.28s/it]\u001b[A\u001b[A\u001b[A\u001b[A\u001b[A\u001b[A\n",
      "\n",
      "\n",
      "\n",
      "\n",
      "\n",
      " 60%|██████    | 3/5 [02:16<01:28, 44.35s/it]\u001b[A\u001b[A\u001b[A\u001b[A\u001b[A\u001b[A\n",
      "\n",
      "\n",
      "\n",
      "\n",
      "\n",
      " 80%|████████  | 4/5 [03:17<00:49, 49.10s/it]\u001b[A\u001b[A\u001b[A\u001b[A\u001b[A\u001b[A\n",
      "\n",
      "\n",
      "\n",
      "\n",
      "\n",
      "100%|██████████| 5/5 [04:30<00:00, 54.14s/it]\u001b[A\u001b[A\u001b[A\u001b[A\u001b[A\u001b[A\n",
      "\n",
      "\n",
      "\n",
      "\n",
      "\n",
      "\n",
      "  0%|          | 0/2 [00:00<?, ?it/s]\u001b[A\u001b[A\u001b[A\u001b[A\u001b[A\u001b[A"
     ]
    },
    {
     "name": "stdout",
     "output_type": "stream",
     "text": [
      "|------ Acc.: 0.837 | EO Dis.: 0.027 |\n",
      "| seed: 8 |\n"
     ]
    },
    {
     "name": "stderr",
     "output_type": "stream",
     "text": [
      "\n",
      "\n",
      "\n",
      "\n",
      "\n",
      "\n",
      " 50%|█████     | 1/2 [01:04<01:04, 64.92s/it]\u001b[A\u001b[A\u001b[A\u001b[A\u001b[A\u001b[A\n",
      "\n",
      "\n",
      "\n",
      "\n",
      "\n",
      "100%|██████████| 2/2 [02:22<00:00, 71.47s/it]\u001b[A\u001b[A\u001b[A\u001b[A\u001b[A\u001b[A\n",
      "\n",
      "\n",
      "\n",
      "\n",
      "\n",
      "\n",
      "  0%|          | 0/5 [00:00<?, ?it/s]\u001b[A\u001b[A\u001b[A\u001b[A\u001b[A\u001b[A\n",
      "\n",
      "\n",
      "\n",
      "\n",
      "\n",
      " 20%|██        | 1/5 [01:21<05:24, 81.21s/it]\u001b[A\u001b[A\u001b[A\u001b[A\u001b[A\u001b[A\n",
      "\n",
      "\n",
      "\n",
      "\n",
      "\n",
      " 40%|████      | 2/5 [02:45<04:06, 82.27s/it]\u001b[A\u001b[A\u001b[A\u001b[A\u001b[A\u001b[A\n",
      "\n",
      "\n",
      "\n",
      "\n",
      "\n",
      " 60%|██████    | 3/5 [04:25<02:54, 87.41s/it]\u001b[A\u001b[A\u001b[A\u001b[A\u001b[A\u001b[A\n",
      "\n",
      "\n",
      "\n",
      "\n",
      "\n",
      " 80%|████████  | 4/5 [05:43<01:24, 84.75s/it]\u001b[A\u001b[A\u001b[A\u001b[A\u001b[A\u001b[A\n",
      "\n",
      "\n",
      "\n",
      "\n",
      "\n",
      "100%|██████████| 5/5 [07:04<00:00, 84.87s/it]\u001b[A\u001b[A\u001b[A\u001b[A\u001b[A\u001b[A\n",
      "\n",
      "\n",
      "\n",
      "\n",
      "\n",
      "\n",
      "  0%|          | 0/2 [00:00<?, ?it/s]\u001b[A\u001b[A\u001b[A\u001b[A\u001b[A\u001b[A"
     ]
    },
    {
     "name": "stdout",
     "output_type": "stream",
     "text": [
      "|------ Acc.: 0.834 | EO Dis.: 0.032 |\n",
      "| seed: 9 |\n"
     ]
    },
    {
     "name": "stderr",
     "output_type": "stream",
     "text": [
      "\n",
      "\n",
      "\n",
      "\n",
      "\n",
      "\n",
      " 50%|█████     | 1/2 [00:47<00:47, 47.60s/it]\u001b[A\u001b[A\u001b[A\u001b[A\u001b[A\u001b[A\n",
      "\n",
      "\n",
      "\n",
      "\n",
      "\n",
      "100%|██████████| 2/2 [01:41<00:00, 50.64s/it]\u001b[A\u001b[A\u001b[A\u001b[A\u001b[A\u001b[A\n",
      "\n",
      "\n",
      "\n",
      "\n",
      "\n",
      "\n",
      "  0%|          | 0/5 [00:00<?, ?it/s]\u001b[A\u001b[A\u001b[A\u001b[A\u001b[A\u001b[A\n",
      "\n",
      "\n",
      "\n",
      "\n",
      "\n",
      " 20%|██        | 1/5 [01:24<05:38, 84.75s/it]\u001b[A\u001b[A\u001b[A\u001b[A\u001b[A\u001b[A\n",
      "\n",
      "\n",
      "\n",
      "\n",
      "\n",
      " 40%|████      | 2/5 [02:33<04:00, 80.02s/it]\u001b[A\u001b[A\u001b[A\u001b[A\u001b[A\u001b[A\n",
      "\n",
      "\n",
      "\n",
      "\n",
      "\n",
      " 60%|██████    | 3/5 [03:31<02:26, 73.48s/it]\u001b[A\u001b[A\u001b[A\u001b[A\u001b[A\u001b[A\n",
      "\n",
      "\n",
      "\n",
      "\n",
      "\n",
      " 80%|████████  | 4/5 [04:38<01:11, 71.53s/it]\u001b[A\u001b[A\u001b[A\u001b[A\u001b[A\u001b[A"
     ]
    },
    {
     "name": "stdout",
     "output_type": "stream",
     "text": [
      "|------ Acc.: 0.816 | EO Dis.: 0.072 |\n",
      "| Acc.: 0.827(0.012) | EO Dis.: 0.037(0.024) |\n"
     ]
    }
   ],
   "source": [
    "acc, eo = np.zeros(10), np.zeros(10)\n",
    "for seed in range(10):\n",
    "    print(\"| seed: %d |\" % seed)\n",
    "    server = Server(logReg(num_features=adult_num_features, num_classes=2, seed = seed), adult_info, train_prn = False, seed = seed, ret = True)\n",
    "    server.Unconstrained(num_rounds = 2, local_epochs = 30, optimizer = 'adam', learning_rate = 0.008)\n",
    "    acc[seed], eo[seed] = server.ThresholdAdjust(num_rounds = 5, local_epochs = 30, epsilon = 0.005, learning_rate = 0.0002)\n",
    "    print(\"|------ Acc.: %.3f | EO Dis.: %.3f |\" % (acc[seed], eo[seed]))\n",
    "print(\"| Acc.: %.3f(%.3f) | EO Dis.: %.3f(%.3f) |\" % (acc.mean(), acc.std(), eo.mean(), eo.std()))"
   ]
  },
  {
   "cell_type": "markdown",
   "metadata": {},
   "source": [
    "# Others"
   ]
  },
  {
   "cell_type": "code",
   "execution_count": null,
   "metadata": {},
   "outputs": [],
   "source": [
    "server = Server(logReg(num_features=adult_num_features, num_classes=2, seed = seed), adult_info, train_prn = False, seed = seed)\n",
    "server.Unconstrained(num_rounds = 2, local_epochs = 30, optimizer = 'adam', learning_rate = 0.008)\n",
    "server.ThresholdAdjust(num_rounds = 5, local_epochs = 30, epsilon = 0.01, learning_rate = 0.001)"
   ]
  },
  {
   "cell_type": "code",
   "execution_count": 11,
   "metadata": {
    "scrolled": true
   },
   "outputs": [
    {
     "name": "stderr",
     "output_type": "stream",
     "text": [
      "\n",
      "  0%|          | 0/5 [00:00<?, ?it/s]\u001b[A"
     ]
    },
    {
     "name": "stdout",
     "output_type": "stream",
     "text": [
      "\n",
      " | Global Training Round : 1 |\n",
      "\n"
     ]
    },
    {
     "name": "stderr",
     "output_type": "stream",
     "text": [
      "\n",
      " 20%|██        | 1/5 [00:34<02:17, 34.31s/it]\u001b[A"
     ]
    },
    {
     "name": "stdout",
     "output_type": "stream",
     "text": [
      "Client 1: accuracy loss: 92.64 | fairness loss 33.74 | Equal Opportunity Disparity = 0.22\n",
      "Client 2: accuracy loss: 52.47 | fairness loss 51.92 | Equal Opportunity Disparity = 0.10\n",
      " \n",
      "Avg Training Stats after 1 global rounds:\n",
      "Training loss: 60.38 | Validation accuracy: 78.68% | Validation Equal Opportunity Disparity: 0.1781\n",
      "\n",
      " | Global Training Round : 2 |\n",
      "\n"
     ]
    },
    {
     "name": "stderr",
     "output_type": "stream",
     "text": [
      "\n",
      " 40%|████      | 2/5 [01:10<01:44, 34.83s/it]\u001b[A"
     ]
    },
    {
     "name": "stdout",
     "output_type": "stream",
     "text": [
      "Client 1: accuracy loss: 92.07 | fairness loss 35.33 | Equal Opportunity Disparity = 0.22\n",
      "Client 2: accuracy loss: 52.27 | fairness loss 54.73 | Equal Opportunity Disparity = 0.11\n",
      " \n",
      "Avg Training Stats after 2 global rounds:\n",
      "Training loss: 60.52 | Validation accuracy: 77.41% | Validation Equal Opportunity Disparity: 0.1793\n",
      "\n",
      " | Global Training Round : 3 |\n",
      "\n"
     ]
    },
    {
     "name": "stderr",
     "output_type": "stream",
     "text": [
      "\n",
      " 60%|██████    | 3/5 [01:48<01:11, 35.91s/it]\u001b[A"
     ]
    },
    {
     "name": "stdout",
     "output_type": "stream",
     "text": [
      "Client 1: accuracy loss: 91.58 | fairness loss 35.04 | Equal Opportunity Disparity = 0.15\n",
      "Client 2: accuracy loss: 52.14 | fairness loss 53.11 | Equal Opportunity Disparity = 0.06\n",
      " \n",
      "Avg Training Stats after 3 global rounds:\n",
      "Training loss: 60.71 | Validation accuracy: 75.94% | Validation Equal Opportunity Disparity: 0.1188\n",
      "\n",
      " | Global Training Round : 4 |\n",
      "\n"
     ]
    },
    {
     "name": "stderr",
     "output_type": "stream",
     "text": [
      "\n",
      " 80%|████████  | 4/5 [02:35<00:39, 39.20s/it]\u001b[A"
     ]
    },
    {
     "name": "stdout",
     "output_type": "stream",
     "text": [
      "Client 1: accuracy loss: 91.30 | fairness loss 34.73 | Equal Opportunity Disparity = 0.10\n",
      "Client 2: accuracy loss: 52.09 | fairness loss 51.55 | Equal Opportunity Disparity = 0.04\n",
      " \n",
      "Avg Training Stats after 4 global rounds:\n",
      "Training loss: 60.81 | Validation accuracy: 74.29% | Validation Equal Opportunity Disparity: 0.0783\n",
      "\n",
      " | Global Training Round : 5 |\n",
      "\n"
     ]
    },
    {
     "name": "stderr",
     "output_type": "stream",
     "text": [
      "\n",
      "100%|██████████| 5/5 [03:17<00:00, 39.48s/it]\u001b[A"
     ]
    },
    {
     "name": "stdout",
     "output_type": "stream",
     "text": [
      "Client 1: accuracy loss: 91.22 | fairness loss 34.45 | Equal Opportunity Disparity = 0.09\n",
      "Client 2: accuracy loss: 52.12 | fairness loss 50.12 | Equal Opportunity Disparity = 0.01\n",
      " \n",
      "Avg Training Stats after 5 global rounds:\n",
      "Training loss: 60.86 | Validation accuracy: 73.49% | Validation Equal Opportunity Disparity: 0.0586\n"
     ]
    },
    {
     "name": "stderr",
     "output_type": "stream",
     "text": [
      "\n"
     ]
    },
    {
     "name": "stdout",
     "output_type": "stream",
     "text": [
      " \n",
      " Results after 5 global rounds of training:\n",
      "|---- Avg Train Accuracy: 73.49%\n",
      "|---- Test Accuracy: 76.95%\n",
      "|---- Test Equal Opportunity Disparity: 0.0209\n",
      "\n",
      " Total Run Time: 198.1684 sec\n"
     ]
    }
   ],
   "source": [
    "server = Server(logReg(num_features=adult_num_features, num_classes=2, seed = seed), adult_info, train_prn = False, seed = seed)\n",
    "server.LocalFC(num_rounds = 5, local_epochs = 30, optimizer = 'adam', learning_rate = 0.004, penalty = 500)"
   ]
  },
  {
   "cell_type": "code",
   "execution_count": null,
   "metadata": {
    "scrolled": true
   },
   "outputs": [],
   "source": [
    "seed = 9\n",
    "server = Server(logReg(num_features=adult_num_features, num_classes=2, seed = seed), adult_info, train_prn = False, seed = seed)\n",
    "server.Unconstrained(num_rounds = 5, local_epochs = 30, optimizer = 'adam', learning_rate = 0.002)\n"
   ]
  },
  {
   "cell_type": "code",
   "execution_count": null,
   "metadata": {
    "scrolled": true
   },
   "outputs": [],
   "source": [
    "server = Server(logReg(num_features=adult_num_features, num_classes=2, seed = seed), adult_info, train_prn = False, seed = seed)\n",
    "server.FTrain(num_rounds = 5, local_epochs = 30, init_epochs = 50, lr_g = 0.002, lr_d = 0.008, lambda_d = 1)"
   ]
  },
  {
   "cell_type": "code",
   "execution_count": null,
   "metadata": {
    "scrolled": true
   },
   "outputs": [],
   "source": [
    "server = Server(logReg(num_features=adult_num_features, num_classes=2, seed = seed), adult_info, train_prn = False, seed = seed)\n",
    "server.BiasCorrecting(num_rounds = 5, local_epochs = 30, optimizer = 'adam', learning_rate = 0.01, alpha = 4)"
   ]
  },
  {
   "cell_type": "code",
   "execution_count": 6,
   "metadata": {
    "scrolled": true
   },
   "outputs": [
    {
     "name": "stderr",
     "output_type": "stream",
     "text": [
      "\n",
      "  0%|          | 0/5 [00:00<?, ?it/s]\u001b[A"
     ]
    },
    {
     "name": "stdout",
     "output_type": "stream",
     "text": [
      "\n",
      " | Global Training Round : 1 |\n",
      "\n"
     ]
    },
    {
     "name": "stderr",
     "output_type": "stream",
     "text": [
      "\n",
      " 20%|██        | 1/5 [01:07<04:29, 67.37s/it]\u001b[A"
     ]
    },
    {
     "name": "stdout",
     "output_type": "stream",
     "text": [
      "Client 1: accuracy loss: 81.72 | fairness loss 83.44 | Equal Opportunity Disparity = 0.01\n",
      "Client 2: accuracy loss: 48.03 | fairness loss 107.47 | Equal Opportunity Disparity = 0.07\n",
      " \n",
      "Avg Training Stats after 1 global rounds:\n",
      "Training loss: 0.35 | Training accuracy: 78.96% | Training Equal Opportunity Disparity: 0.0398\n",
      "\n",
      " | Global Training Round : 2 |\n",
      "\n"
     ]
    },
    {
     "name": "stderr",
     "output_type": "stream",
     "text": [
      "\n",
      " 40%|████      | 2/5 [01:56<03:05, 62.00s/it]\u001b[A"
     ]
    },
    {
     "name": "stdout",
     "output_type": "stream",
     "text": [
      "Client 1: accuracy loss: 83.01 | fairness loss 85.17 | Equal Opportunity Disparity = 0.00\n",
      "Client 2: accuracy loss: 49.26 | fairness loss 108.11 | Equal Opportunity Disparity = 0.06\n",
      " \n",
      "Avg Training Stats after 2 global rounds:\n",
      "Training loss: 0.34 | Training accuracy: 78.27% | Training Equal Opportunity Disparity: 0.0231\n",
      "\n",
      " | Global Training Round : 3 |\n",
      "\n"
     ]
    },
    {
     "name": "stderr",
     "output_type": "stream",
     "text": [
      "\n",
      " 60%|██████    | 3/5 [02:43<01:55, 57.53s/it]\u001b[A"
     ]
    },
    {
     "name": "stdout",
     "output_type": "stream",
     "text": [
      "Client 1: accuracy loss: 83.24 | fairness loss 84.80 | Equal Opportunity Disparity = 0.00\n",
      "Client 2: accuracy loss: 49.37 | fairness loss 106.56 | Equal Opportunity Disparity = 0.05\n",
      " \n",
      "Avg Training Stats after 3 global rounds:\n",
      "Training loss: 0.34 | Training accuracy: 78.11% | Training Equal Opportunity Disparity: 0.0245\n",
      "\n",
      " | Global Training Round : 4 |\n",
      "\n"
     ]
    },
    {
     "name": "stderr",
     "output_type": "stream",
     "text": [
      "\n",
      " 80%|████████  | 4/5 [03:30<00:54, 54.37s/it]\u001b[A"
     ]
    },
    {
     "name": "stdout",
     "output_type": "stream",
     "text": [
      "Client 1: accuracy loss: 83.15 | fairness loss 83.91 | Equal Opportunity Disparity = 0.00\n",
      "Client 2: accuracy loss: 49.19 | fairness loss 104.79 | Equal Opportunity Disparity = 0.05\n",
      " \n",
      "Avg Training Stats after 4 global rounds:\n",
      "Training loss: 0.34 | Training accuracy: 78.11% | Training Equal Opportunity Disparity: 0.0245\n",
      "\n",
      " | Global Training Round : 5 |\n",
      "\n"
     ]
    },
    {
     "name": "stderr",
     "output_type": "stream",
     "text": [
      "\n",
      "100%|██████████| 5/5 [04:14<00:00, 50.91s/it]\u001b[A"
     ]
    },
    {
     "name": "stdout",
     "output_type": "stream",
     "text": [
      "Client 1: accuracy loss: 82.97 | fairness loss 83.00 | Equal Opportunity Disparity = 0.00\n",
      "Client 2: accuracy loss: 48.96 | fairness loss 103.23 | Equal Opportunity Disparity = 0.06\n",
      " \n",
      "Avg Training Stats after 5 global rounds:\n",
      "Training loss: 0.34 | Training accuracy: 78.24% | Training Equal Opportunity Disparity: 0.0220\n"
     ]
    },
    {
     "name": "stderr",
     "output_type": "stream",
     "text": [
      "\n"
     ]
    },
    {
     "name": "stdout",
     "output_type": "stream",
     "text": [
      " \n",
      " Results after 5 global rounds of training:\n",
      "|---- Avg Train Accuracy: 78.24%\n",
      "|---- Test Accuracy: 78.53%\n",
      "|---- Test Equal Opportunity Disparity: 0.0133\n",
      "\n",
      " Total Run Time: 255.1371 sec\n"
     ]
    }
   ],
   "source": [
    "server = Server(logReg(num_features=adult_num_features, num_classes=2, seed = seed), adult_info, train_prn = False, seed = seed)\n",
    "server.FairBatch(num_rounds = 5, local_epochs = 30, optimizer = 'adam', learning_rate = 0.002, alpha = 0.001)"
   ]
  },
  {
   "cell_type": "code",
   "execution_count": null,
   "metadata": {
    "scrolled": true
   },
   "outputs": [],
   "source": [
    "server = Server(logReg(num_features=adult_num_features, num_classes=2, seed = seed), adult_info, train_prn = False, seed = seed)\n",
    "server.FairConstraints(test_rounds = 1, test_lr = 0.005, test_penalty = 50, num_rounds = 2, local_epochs = 30, optimizer = 'adam', learning_rate = 0.002, penalty = 5, adaptive_penalty = True)\n"
   ]
  },
  {
   "cell_type": "code",
   "execution_count": null,
   "metadata": {
    "scrolled": true
   },
   "outputs": [],
   "source": [
    "server = Server(logReg(num_features=adult_num_features, num_classes=2, seed = seed), adult_info, train_prn = False, seed = seed)\n",
    "server.LocalFC(num_rounds = 5, local_epochs = 30, optimizer = 'adam', learning_rate = 0.001, penalty = 100)"
   ]
  },
  {
   "cell_type": "code",
   "execution_count": null,
   "metadata": {
    "scrolled": true
   },
   "outputs": [],
   "source": [
    "server = Server(logReg(num_features=adult_num_features, num_classes=2, seed = seed), adult_info, train_prn = False, seed = seed)\n",
    "server.Unconstrained(num_rounds = 2, local_epochs = 30, optimizer = 'adam', learning_rate = 0.008)\n",
    "server.ThresholdAdjust(num_rounds = 3, local_epochs = 30, epsilon = 0.02, learning_rate = 0.001)"
   ]
  },
  {
   "cell_type": "code",
   "execution_count": 11,
   "metadata": {
    "scrolled": true
   },
   "outputs": [
    {
     "name": "stderr",
     "output_type": "stream",
     "text": [
      "\n",
      "\n",
      "  0%|          | 0/5 [00:00<?, ?it/s]\u001b[A\u001b[A"
     ]
    },
    {
     "name": "stdout",
     "output_type": "stream",
     "text": [
      "\n",
      " | Global Training Round : 1 |\n",
      "\n"
     ]
    },
    {
     "name": "stderr",
     "output_type": "stream",
     "text": [
      "\n",
      "\n",
      " 20%|██        | 1/5 [00:24<01:39, 24.79s/it]\u001b[A\u001b[A"
     ]
    },
    {
     "name": "stdout",
     "output_type": "stream",
     "text": [
      "Client 1: accuracy loss: 87.67 | fairness loss 118.84 | Equal Opportunity Disparity = 0.14\n",
      "Client 2: accuracy loss: 46.24 | fairness loss 146.11 | Equal Opportunity Disparity = 0.08\n",
      " \n",
      "Avg Training Stats after 1 global rounds:\n",
      "Training loss: 0.34 | Training accuracy: 78.89% | Training Equal Opportunity Disparity: 0.1157\n",
      "\n",
      " | Global Training Round : 2 |\n",
      "\n"
     ]
    },
    {
     "name": "stderr",
     "output_type": "stream",
     "text": [
      "\n",
      "\n",
      " 40%|████      | 2/5 [00:51<01:15, 25.24s/it]\u001b[A\u001b[A"
     ]
    },
    {
     "name": "stdout",
     "output_type": "stream",
     "text": [
      "Client 1: accuracy loss: 88.46 | fairness loss 120.01 | Equal Opportunity Disparity = 0.10\n",
      "Client 2: accuracy loss: 46.55 | fairness loss 147.98 | Equal Opportunity Disparity = 0.05\n",
      " \n",
      "Avg Training Stats after 2 global rounds:\n",
      "Training loss: 0.34 | Training accuracy: 78.69% | Training Equal Opportunity Disparity: 0.0823\n",
      "\n",
      " | Global Training Round : 3 |\n",
      "\n"
     ]
    },
    {
     "name": "stderr",
     "output_type": "stream",
     "text": [
      "\n",
      "\n",
      " 60%|██████    | 3/5 [01:20<00:52, 26.39s/it]\u001b[A\u001b[A"
     ]
    },
    {
     "name": "stdout",
     "output_type": "stream",
     "text": [
      "Client 1: accuracy loss: 88.50 | fairness loss 117.50 | Equal Opportunity Disparity = 0.08\n",
      "Client 2: accuracy loss: 46.64 | fairness loss 144.98 | Equal Opportunity Disparity = 0.05\n",
      " \n",
      "Avg Training Stats after 3 global rounds:\n",
      "Training loss: 0.33 | Training accuracy: 78.69% | Training Equal Opportunity Disparity: 0.0708\n",
      "\n",
      " | Global Training Round : 4 |\n",
      "\n"
     ]
    },
    {
     "name": "stderr",
     "output_type": "stream",
     "text": [
      "\n",
      "\n",
      " 80%|████████  | 4/5 [01:48<00:27, 27.02s/it]\u001b[A\u001b[A"
     ]
    },
    {
     "name": "stdout",
     "output_type": "stream",
     "text": [
      "Client 1: accuracy loss: 88.32 | fairness loss 115.01 | Equal Opportunity Disparity = 0.09\n",
      "Client 2: accuracy loss: 46.63 | fairness loss 141.82 | Equal Opportunity Disparity = 0.05\n",
      " \n",
      "Avg Training Stats after 4 global rounds:\n",
      "Training loss: 0.33 | Training accuracy: 78.72% | Training Equal Opportunity Disparity: 0.0743\n",
      "\n",
      " | Global Training Round : 5 |\n",
      "\n"
     ]
    },
    {
     "name": "stderr",
     "output_type": "stream",
     "text": [
      "\n",
      "\n",
      "100%|██████████| 5/5 [02:24<00:00, 28.92s/it]\u001b[A\u001b[A"
     ]
    },
    {
     "name": "stdout",
     "output_type": "stream",
     "text": [
      "Client 1: accuracy loss: 88.08 | fairness loss 112.83 | Equal Opportunity Disparity = 0.08\n",
      "Client 2: accuracy loss: 46.59 | fairness loss 139.02 | Equal Opportunity Disparity = 0.05\n",
      " \n",
      "Avg Training Stats after 5 global rounds:\n",
      "Training loss: 0.33 | Training accuracy: 78.74% | Training Equal Opportunity Disparity: 0.0711\n"
     ]
    },
    {
     "name": "stderr",
     "output_type": "stream",
     "text": [
      "\n"
     ]
    },
    {
     "name": "stdout",
     "output_type": "stream",
     "text": [
      " \n",
      " Results after 5 global rounds of training:\n",
      "|---- Avg Train Accuracy: 78.74%\n",
      "|---- Test Accuracy: 82.97%\n",
      "|---- Test Equal Opportunity Disparity: 0.0806\n",
      "\n",
      " Total Run Time: 145.0698 sec\n"
     ]
    }
   ],
   "source": [
    "seed = 0\n",
    "server = Server(logReg(num_features=adult_num_features, num_classes=2, seed = seed), adult_info, train_prn = False, seed = seed)\n",
    "server.FairBatch(num_rounds = 5, local_epochs = 30, optimizer = 'adam', learning_rate = 0.003, alpha = 0.005)"
   ]
  },
  {
   "cell_type": "code",
   "execution_count": 7,
   "metadata": {},
   "outputs": [
    {
     "name": "stderr",
     "output_type": "stream",
     "text": [
      "\n",
      "\n",
      "  0%|          | 0/5 [00:00<?, ?it/s]\u001b[A\u001b[A\n",
      "\n",
      " 20%|██        | 1/5 [00:23<01:32, 23.22s/it]\u001b[A\u001b[A\n",
      "\n",
      " 40%|████      | 2/5 [00:46<01:09, 23.13s/it]\u001b[A\u001b[A\n",
      "\n",
      " 60%|██████    | 3/5 [01:10<00:46, 23.44s/it]\u001b[A\u001b[A\n",
      "\n",
      " 80%|████████  | 4/5 [01:34<00:23, 23.80s/it]\u001b[A\u001b[A\n",
      "\n",
      "100%|██████████| 5/5 [01:59<00:00, 23.84s/it]\u001b[A\u001b[A\n"
     ]
    },
    {
     "data": {
      "text/plain": [
       "(0.8309071924328972, 0.12456260962302901)"
      ]
     },
     "execution_count": 7,
     "metadata": {},
     "output_type": "execute_result"
    }
   ],
   "source": [
    "seed = 0\n",
    "server = Server(logReg(num_features=adult_num_features, num_classes=2, seed = seed), adult_info, train_prn = False, seed = seed)\n",
    "server.Unconstrained(num_rounds = 5, local_epochs = 30, optimizer = 'adam', learning_rate = 0.002)"
   ]
  },
  {
   "cell_type": "code",
   "execution_count": 8,
   "metadata": {
    "scrolled": true
   },
   "outputs": [
    {
     "name": "stderr",
     "output_type": "stream",
     "text": [
      "\n",
      "\n",
      "  0%|          | 0/5 [00:00<?, ?it/s]\u001b[A\u001b[A"
     ]
    },
    {
     "name": "stdout",
     "output_type": "stream",
     "text": [
      "\n",
      " | Global Training Round : 1 |\n",
      "\n"
     ]
    },
    {
     "name": "stderr",
     "output_type": "stream",
     "text": [
      "\n",
      "\n",
      " 20%|██        | 1/5 [00:25<01:42, 25.72s/it]\u001b[A\u001b[A"
     ]
    },
    {
     "name": "stdout",
     "output_type": "stream",
     "text": [
      "Client 1: accuracy loss: 89.13 | fairness loss 308.84 | Equal Opportunity Disparity = 0.11\n",
      "Client 2: accuracy loss: 44.67 | fairness loss 377.06 | Equal Opportunity Disparity = 0.05\n",
      " \n",
      "Avg Training Stats after 1 global rounds:\n",
      "Training loss: 44.49 | Validation accuracy: 78.25% | Validation Equal Opportunity Disparity: 0.0880\n",
      "\n",
      " | Global Training Round : 2 |\n",
      "\n"
     ]
    },
    {
     "name": "stderr",
     "output_type": "stream",
     "text": [
      "\n",
      "\n",
      " 40%|████      | 2/5 [00:51<01:16, 25.66s/it]\u001b[A\u001b[A"
     ]
    },
    {
     "name": "stdout",
     "output_type": "stream",
     "text": [
      "Client 1: accuracy loss: 90.08 | fairness loss 401.22 | Equal Opportunity Disparity = 0.11\n",
      "Client 2: accuracy loss: 44.57 | fairness loss 482.93 | Equal Opportunity Disparity = 0.08\n",
      " \n",
      "Avg Training Stats after 2 global rounds:\n",
      "Training loss: 42.84 | Validation accuracy: 78.52% | Validation Equal Opportunity Disparity: 0.0990\n",
      "\n",
      " | Global Training Round : 3 |\n",
      "\n"
     ]
    },
    {
     "name": "stderr",
     "output_type": "stream",
     "text": [
      "\n",
      "\n",
      " 60%|██████    | 3/5 [01:14<00:50, 25.01s/it]\u001b[A\u001b[A"
     ]
    },
    {
     "name": "stdout",
     "output_type": "stream",
     "text": [
      "Client 1: accuracy loss: 90.68 | fairness loss 474.73 | Equal Opportunity Disparity = 0.09\n",
      "Client 2: accuracy loss: 44.62 | fairness loss 561.14 | Equal Opportunity Disparity = 0.07\n",
      " \n",
      "Avg Training Stats after 3 global rounds:\n",
      "Training loss: 42.12 | Validation accuracy: 78.64% | Validation Equal Opportunity Disparity: 0.0817\n",
      "\n",
      " | Global Training Round : 4 |\n",
      "\n"
     ]
    },
    {
     "name": "stderr",
     "output_type": "stream",
     "text": [
      "\n",
      "\n",
      " 80%|████████  | 4/5 [01:39<00:25, 25.05s/it]\u001b[A\u001b[A"
     ]
    },
    {
     "name": "stdout",
     "output_type": "stream",
     "text": [
      "Client 1: accuracy loss: 91.01 | fairness loss 512.43 | Equal Opportunity Disparity = 0.08\n",
      "Client 2: accuracy loss: 44.69 | fairness loss 599.62 | Equal Opportunity Disparity = 0.07\n",
      " \n",
      "Avg Training Stats after 4 global rounds:\n",
      "Training loss: 41.74 | Validation accuracy: 78.68% | Validation Equal Opportunity Disparity: 0.0749\n",
      "\n",
      " | Global Training Round : 5 |\n",
      "\n"
     ]
    },
    {
     "name": "stderr",
     "output_type": "stream",
     "text": [
      "\n",
      "\n",
      "100%|██████████| 5/5 [02:05<00:00, 25.06s/it]\u001b[A\u001b[A"
     ]
    },
    {
     "name": "stdout",
     "output_type": "stream",
     "text": [
      "Client 1: accuracy loss: 91.12 | fairness loss 531.87 | Equal Opportunity Disparity = 0.08\n",
      "Client 2: accuracy loss: 44.71 | fairness loss 618.83 | Equal Opportunity Disparity = 0.07\n",
      " \n",
      "Avg Training Stats after 5 global rounds:\n",
      "Training loss: 41.51 | Validation accuracy: 78.64% | Validation Equal Opportunity Disparity: 0.0738\n"
     ]
    },
    {
     "name": "stderr",
     "output_type": "stream",
     "text": [
      "\n"
     ]
    },
    {
     "name": "stdout",
     "output_type": "stream",
     "text": [
      " \n",
      " Results after 5 global rounds of training:\n",
      "|---- Avg Train Accuracy: 78.64%\n",
      "|---- Test Accuracy: 83.09%\n",
      "|---- Test Equal Opportunity Disparity: 0.1246\n",
      "\n",
      " Total Run Time: 125.7897 sec\n"
     ]
    }
   ],
   "source": [
    "seed = 0\n",
    "server = Server(logReg(num_features=adult_num_features, num_classes=2, seed = seed), adult_info, train_prn = False, seed = seed)\n",
    "server.Unconstrained(num_rounds = 5, local_epochs = 30, optimizer = 'adam', learning_rate = 0.001)"
   ]
  },
  {
   "cell_type": "code",
   "execution_count": 7,
   "metadata": {
    "scrolled": true
   },
   "outputs": [
    {
     "name": "stderr",
     "output_type": "stream",
     "text": [
      "\r",
      "  0%|          | 0/1 [00:00<?, ?it/s]"
     ]
    },
    {
     "name": "stdout",
     "output_type": "stream",
     "text": [
      "\n",
      " | Testing Round : 1 | constraint :  Cov(z, d | y = 1) < c\n",
      "\n"
     ]
    },
    {
     "name": "stderr",
     "output_type": "stream",
     "text": [
      "100%|██████████| 1/1 [00:26<00:00, 26.76s/it]\n",
      "  0%|          | 0/1 [00:00<?, ?it/s]"
     ]
    },
    {
     "name": "stdout",
     "output_type": "stream",
     "text": [
      "Client 1: accuracy loss: 86.62 | fairness loss 342.62 | Equal Opportunity Disparity = 0.22\n",
      "Client 2: accuracy loss: 43.20 | fairness loss 369.78 | Equal Opportunity Disparity = 0.17\n",
      " \n",
      "Avg Training Stats after 1 Testing rounds:\n",
      "Training loss: 33.08 | Validation accuracy: 79.11% | Validation Equal Opportunity Disparity: 0.2042\n",
      "\n",
      " | Testing Round : 1 | constraint :  Cov(z, d | y = 1) > -c\n",
      "\n"
     ]
    },
    {
     "name": "stderr",
     "output_type": "stream",
     "text": [
      "100%|██████████| 1/1 [00:31<00:00, 31.10s/it]\n",
      "  0%|          | 0/3 [00:00<?, ?it/s]"
     ]
    },
    {
     "name": "stdout",
     "output_type": "stream",
     "text": [
      "Client 1: accuracy loss: 85.30 | fairness loss 286.22 | Equal Opportunity Disparity = 0.09\n",
      "Client 2: accuracy loss: 43.10 | fairness loss 309.14 | Equal Opportunity Disparity = 0.07\n",
      " \n",
      "Avg Training Stats after 1 Testing rounds:\n",
      "Training loss: 33.90 | Validation accuracy: 79.71% | Validation Equal Opportunity Disparity: 0.0875\n",
      "\n",
      " | Global Round : 1 | constraint :  Cov(z, d | y = 1) > -c\n",
      "\n"
     ]
    },
    {
     "name": "stderr",
     "output_type": "stream",
     "text": [
      "\r",
      " 33%|███▎      | 1/3 [00:33<01:07, 33.90s/it]"
     ]
    },
    {
     "name": "stdout",
     "output_type": "stream",
     "text": [
      "Client 1: accuracy loss: 86.36 | fairness loss 532.70 | Equal Opportunity Disparity = 0.08\n",
      "Client 2: accuracy loss: 43.27 | fairness loss 574.34 | Equal Opportunity Disparity = 0.05\n",
      " \n",
      "Avg Training Stats after 1 global rounds:\n",
      "Training loss: 29.44 | Validation accuracy: 79.78% | Validation Equal Opportunity Disparity: 0.0656\n",
      "\n",
      " | Global Round : 2 | constraint :  Cov(z, d | y = 1) > -c\n",
      "\n"
     ]
    },
    {
     "name": "stderr",
     "output_type": "stream",
     "text": [
      "\r",
      " 67%|██████▋   | 2/3 [01:08<00:33, 33.97s/it]"
     ]
    },
    {
     "name": "stdout",
     "output_type": "stream",
     "text": [
      "Client 1: accuracy loss: 86.17 | fairness loss 653.71 | Equal Opportunity Disparity = 0.06\n",
      "Client 2: accuracy loss: 43.09 | fairness loss 704.29 | Equal Opportunity Disparity = 0.04\n",
      " \n",
      "Avg Training Stats after 2 global rounds:\n",
      "Training loss: 26.85 | Validation accuracy: 80.30% | Validation Equal Opportunity Disparity: 0.0522\n",
      "\n",
      " | Global Round : 3 | constraint :  Cov(z, d | y = 1) > -c\n",
      "\n"
     ]
    },
    {
     "name": "stderr",
     "output_type": "stream",
     "text": [
      "100%|██████████| 3/3 [01:40<00:00, 33.51s/it]"
     ]
    },
    {
     "name": "stdout",
     "output_type": "stream",
     "text": [
      "Client 1: accuracy loss: 86.03 | fairness loss 684.71 | Equal Opportunity Disparity = 0.00\n",
      "Client 2: accuracy loss: 42.97 | fairness loss 737.42 | Equal Opportunity Disparity = 0.01\n",
      " \n",
      "Avg Training Stats after 3 global rounds:\n",
      "Training loss: 25.52 | Validation accuracy: 81.24% | Validation Equal Opportunity Disparity: 0.0018\n"
     ]
    },
    {
     "name": "stderr",
     "output_type": "stream",
     "text": [
      "\n"
     ]
    },
    {
     "name": "stdout",
     "output_type": "stream",
     "text": [
      " \n",
      " Results after 3 global rounds of training:\n",
      "|---- Avg Train Accuracy: 81.24%\n",
      "|---- Test Accuracy: 83.78%\n",
      "|---- Test Equal Opportunity Disparity: 0.0140\n",
      "\n",
      " Total Run Time: 159.0774 sec\n"
     ]
    }
   ],
   "source": [
    "server = Server(logReg(num_features=adult_num_features, num_classes=2, seed = seed), adult_info, train_prn = False, seed = seed)\n",
    "server.FairConstraints(test_rounds = 1, test_lr = 0.005, test_penalty = 10, num_rounds = 3, local_epochs = 30, optimizer = 'adam', learning_rate = 0.002, penalty = 8, adaptive_penalty = True)"
   ]
  },
  {
   "cell_type": "code",
   "execution_count": null,
   "metadata": {},
   "outputs": [],
   "source": []
  }
 ],
 "metadata": {
  "kernelspec": {
   "display_name": "Python 3",
   "language": "python",
   "name": "python3"
  },
  "language_info": {
   "codemirror_mode": {
    "name": "ipython",
    "version": 3
   },
   "file_extension": ".py",
   "mimetype": "text/x-python",
   "name": "python",
   "nbconvert_exporter": "python",
   "pygments_lexer": "ipython3",
   "version": "3.7.4"
  }
 },
 "nbformat": 4,
 "nbformat_minor": 2
}
