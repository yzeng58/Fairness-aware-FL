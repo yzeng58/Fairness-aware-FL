{
 "cells": [
  {
   "cell_type": "code",
   "execution_count": 1,
   "metadata": {},
   "outputs": [],
   "source": [
    "from Server import *\n",
    "from load_adult import *\n",
    "seed  = 123"
   ]
  },
  {
   "cell_type": "code",
   "execution_count": 4,
   "metadata": {
    "scrolled": true
   },
   "outputs": [
    {
     "name": "stderr",
     "output_type": "stream",
     "text": [
      "\n",
      "  0%|          | 0/5 [00:00<?, ?it/s]\u001b[A"
     ]
    },
    {
     "name": "stdout",
     "output_type": "stream",
     "text": [
      "| seed: 0 |\n"
     ]
    },
    {
     "name": "stderr",
     "output_type": "stream",
     "text": [
      "\n",
      " 20%|██        | 1/5 [00:26<01:47, 26.93s/it]\u001b[A\n",
      " 40%|████      | 2/5 [00:54<01:21, 27.19s/it]\u001b[A\n",
      " 60%|██████    | 3/5 [01:22<00:54, 27.25s/it]\u001b[A\n",
      " 80%|████████  | 4/5 [01:51<00:28, 28.02s/it]\u001b[A\n",
      "100%|██████████| 5/5 [02:16<00:00, 27.21s/it]\u001b[A\n",
      "\n",
      "  0%|          | 0/5 [00:00<?, ?it/s]\u001b[A"
     ]
    },
    {
     "name": "stdout",
     "output_type": "stream",
     "text": [
      "|------ Acc.: 0.831 | eo Dis.: 0.125 |\n",
      "| seed: 1 |\n"
     ]
    },
    {
     "name": "stderr",
     "output_type": "stream",
     "text": [
      "\n",
      " 20%|██        | 1/5 [00:24<01:37, 24.27s/it]\u001b[A\n",
      " 40%|████      | 2/5 [00:48<01:12, 24.14s/it]\u001b[A\n",
      " 60%|██████    | 3/5 [01:11<00:47, 23.92s/it]\u001b[A\n",
      " 80%|████████  | 4/5 [01:35<00:24, 24.01s/it]\u001b[A\n",
      "100%|██████████| 5/5 [01:59<00:00, 23.87s/it]\u001b[A\n",
      "\n",
      "  0%|          | 0/5 [00:00<?, ?it/s]\u001b[A"
     ]
    },
    {
     "name": "stdout",
     "output_type": "stream",
     "text": [
      "|------ Acc.: 0.849 | eo Dis.: 0.045 |\n",
      "| seed: 2 |\n"
     ]
    },
    {
     "name": "stderr",
     "output_type": "stream",
     "text": [
      "\n",
      " 20%|██        | 1/5 [00:23<01:35, 24.00s/it]\u001b[A\n",
      " 40%|████      | 2/5 [00:47<01:11, 23.94s/it]\u001b[A\n",
      " 60%|██████    | 3/5 [01:11<00:47, 23.91s/it]\u001b[A\n",
      " 80%|████████  | 4/5 [01:36<00:24, 24.23s/it]\u001b[A\n",
      "100%|██████████| 5/5 [02:00<00:00, 24.17s/it]\u001b[A\n",
      "\n",
      "  0%|          | 0/5 [00:00<?, ?it/s]\u001b[A"
     ]
    },
    {
     "name": "stdout",
     "output_type": "stream",
     "text": [
      "|------ Acc.: 0.835 | eo Dis.: 0.106 |\n",
      "| seed: 3 |\n"
     ]
    },
    {
     "name": "stderr",
     "output_type": "stream",
     "text": [
      "\n",
      " 20%|██        | 1/5 [00:24<01:38, 24.71s/it]\u001b[A\n",
      " 40%|████      | 2/5 [00:49<01:13, 24.65s/it]\u001b[A\n",
      " 60%|██████    | 3/5 [01:13<00:49, 24.65s/it]\u001b[A\n",
      " 80%|████████  | 4/5 [01:39<00:25, 25.02s/it]\u001b[A\n",
      "100%|██████████| 5/5 [02:04<00:00, 24.93s/it]\u001b[A\n",
      "\n",
      "  0%|          | 0/5 [00:00<?, ?it/s]\u001b[A"
     ]
    },
    {
     "name": "stdout",
     "output_type": "stream",
     "text": [
      "|------ Acc.: 0.836 | eo Dis.: 0.096 |\n",
      "| seed: 4 |\n"
     ]
    },
    {
     "name": "stderr",
     "output_type": "stream",
     "text": [
      "\n",
      " 20%|██        | 1/5 [00:25<01:40, 25.06s/it]\u001b[A\n",
      " 40%|████      | 2/5 [00:50<01:15, 25.03s/it]\u001b[A\n",
      " 60%|██████    | 3/5 [01:15<00:50, 25.26s/it]\u001b[A\n",
      " 80%|████████  | 4/5 [01:41<00:25, 25.30s/it]\u001b[A\n",
      "100%|██████████| 5/5 [02:06<00:00, 25.29s/it]\u001b[A\n",
      "\n",
      "  0%|          | 0/5 [00:00<?, ?it/s]\u001b[A"
     ]
    },
    {
     "name": "stdout",
     "output_type": "stream",
     "text": [
      "|------ Acc.: 0.835 | eo Dis.: 0.111 |\n",
      "| seed: 5 |\n"
     ]
    },
    {
     "name": "stderr",
     "output_type": "stream",
     "text": [
      "\n",
      " 20%|██        | 1/5 [00:25<01:42, 25.54s/it]\u001b[A\n",
      " 40%|████      | 2/5 [00:50<01:16, 25.50s/it]\u001b[A\n",
      " 60%|██████    | 3/5 [01:18<00:52, 26.01s/it]\u001b[A\n",
      " 80%|████████  | 4/5 [01:43<00:25, 25.87s/it]\u001b[A\n",
      "100%|██████████| 5/5 [02:09<00:00, 25.86s/it]\u001b[A\n",
      "\n",
      "  0%|          | 0/5 [00:00<?, ?it/s]\u001b[A"
     ]
    },
    {
     "name": "stdout",
     "output_type": "stream",
     "text": [
      "|------ Acc.: 0.850 | eo Dis.: 0.037 |\n",
      "| seed: 6 |\n"
     ]
    },
    {
     "name": "stderr",
     "output_type": "stream",
     "text": [
      "\n",
      " 20%|██        | 1/5 [00:26<01:44, 26.13s/it]\u001b[A\n",
      " 40%|████      | 2/5 [00:51<01:18, 26.01s/it]\u001b[A\n",
      " 60%|██████    | 3/5 [01:21<00:54, 27.24s/it]\u001b[A\n",
      " 80%|████████  | 4/5 [01:48<00:26, 26.92s/it]\u001b[A\n",
      "100%|██████████| 5/5 [02:14<00:00, 26.92s/it]\u001b[A\n",
      "\n",
      "  0%|          | 0/5 [00:00<?, ?it/s]\u001b[A"
     ]
    },
    {
     "name": "stdout",
     "output_type": "stream",
     "text": [
      "|------ Acc.: 0.834 | eo Dis.: 0.116 |\n",
      "| seed: 7 |\n"
     ]
    },
    {
     "name": "stderr",
     "output_type": "stream",
     "text": [
      "\n",
      " 20%|██        | 1/5 [00:27<01:48, 27.21s/it]\u001b[A\n",
      " 40%|████      | 2/5 [00:54<01:21, 27.24s/it]\u001b[A\n",
      " 60%|██████    | 3/5 [01:20<00:53, 26.91s/it]\u001b[A\n",
      " 80%|████████  | 4/5 [01:47<00:26, 26.84s/it]\u001b[A\n",
      "100%|██████████| 5/5 [02:13<00:00, 26.80s/it]\u001b[A\n",
      "\n",
      "  0%|          | 0/5 [00:00<?, ?it/s]\u001b[A"
     ]
    },
    {
     "name": "stdout",
     "output_type": "stream",
     "text": [
      "|------ Acc.: 0.850 | eo Dis.: 0.044 |\n",
      "| seed: 8 |\n"
     ]
    },
    {
     "name": "stderr",
     "output_type": "stream",
     "text": [
      "\n",
      " 20%|██        | 1/5 [00:26<01:46, 26.66s/it]\u001b[A\n",
      " 40%|████      | 2/5 [00:53<01:20, 26.85s/it]\u001b[A\n",
      " 60%|██████    | 3/5 [01:20<00:53, 26.73s/it]\u001b[A\n",
      " 80%|████████  | 4/5 [01:46<00:26, 26.66s/it]\u001b[A\n",
      "100%|██████████| 5/5 [02:13<00:00, 26.71s/it]\u001b[A\n",
      "\n",
      "  0%|          | 0/5 [00:00<?, ?it/s]\u001b[A"
     ]
    },
    {
     "name": "stdout",
     "output_type": "stream",
     "text": [
      "|------ Acc.: 0.850 | eo Dis.: 0.041 |\n",
      "| seed: 9 |\n"
     ]
    },
    {
     "name": "stderr",
     "output_type": "stream",
     "text": [
      "\n",
      " 20%|██        | 1/5 [00:27<01:51, 27.98s/it]\u001b[A\n",
      " 40%|████      | 2/5 [00:54<01:22, 27.51s/it]\u001b[A\n",
      " 60%|██████    | 3/5 [01:20<00:54, 27.18s/it]\u001b[A\n",
      " 80%|████████  | 4/5 [01:47<00:27, 27.04s/it]\u001b[A\n",
      "100%|██████████| 5/5 [02:15<00:00, 27.00s/it]\u001b[A\n"
     ]
    },
    {
     "name": "stdout",
     "output_type": "stream",
     "text": [
      "|------ Acc.: 0.833 | eo Dis.: 0.121 |\n",
      "| Acc.: 0.840(0.008) | eo Dis.: 0.084(0.035) |\n"
     ]
    }
   ],
   "source": [
    "acc, eo = np.zeros(10), np.zeros(10)\n",
    "for seed in range(10):\n",
    "    print(\"| seed: %d |\" % seed)\n",
    "    server = Server(logReg(num_features=adult_num_features, num_classes=2, seed = seed), adult_info, train_prn = False, seed = seed, ret = True)\n",
    "    acc[seed], eo[seed] = server.Unconstrained(num_rounds = 5, local_epochs = 30, optimizer = 'adam', learning_rate = 0.002)\n",
    "    print(\"|------ Acc.: %.3f | EO Dis.: %.3f |\" % (acc[seed], eo[seed]))\n",
    "print(\"| Acc.: %.3f(%.3f) | eo Dis.: %.3f(%.3f) |\" % (acc.mean(), acc.std(), eo.mean(), eo.std()))"
   ]
  },
  {
   "cell_type": "code",
   "execution_count": 5,
   "metadata": {
    "scrolled": true
   },
   "outputs": [
    {
     "name": "stderr",
     "output_type": "stream",
     "text": [
      "\n",
      "  0%|          | 0/5 [00:00<?, ?it/s]\u001b[A"
     ]
    },
    {
     "name": "stdout",
     "output_type": "stream",
     "text": [
      "| seed: 0 |\n"
     ]
    },
    {
     "name": "stderr",
     "output_type": "stream",
     "text": [
      "\n",
      " 20%|██        | 1/5 [00:29<01:57, 29.26s/it]\u001b[A\n",
      " 40%|████      | 2/5 [00:58<01:27, 29.12s/it]\u001b[A\n",
      " 60%|██████    | 3/5 [01:27<00:58, 29.09s/it]\u001b[A\n",
      " 80%|████████  | 4/5 [01:56<00:29, 29.19s/it]\u001b[A\n",
      "100%|██████████| 5/5 [02:26<00:00, 29.28s/it]\u001b[A\n",
      "\n",
      "  0%|          | 0/5 [00:00<?, ?it/s]\u001b[A"
     ]
    },
    {
     "name": "stdout",
     "output_type": "stream",
     "text": [
      "|------ Acc.: 0.831 | eo Dis.: 0.116 |\n",
      "| seed: 1 |\n"
     ]
    },
    {
     "name": "stderr",
     "output_type": "stream",
     "text": [
      "\n",
      " 20%|██        | 1/5 [00:29<01:56, 29.11s/it]\u001b[A\n",
      " 40%|████      | 2/5 [00:57<01:26, 28.91s/it]\u001b[A\n",
      " 60%|██████    | 3/5 [01:27<00:58, 29.10s/it]\u001b[A\n",
      " 80%|████████  | 4/5 [01:57<00:29, 29.39s/it]\u001b[A\n",
      "100%|██████████| 5/5 [02:26<00:00, 29.23s/it]\u001b[A\n",
      "\n",
      "  0%|          | 0/5 [00:00<?, ?it/s]\u001b[A"
     ]
    },
    {
     "name": "stdout",
     "output_type": "stream",
     "text": [
      "|------ Acc.: 0.846 | eo Dis.: 0.053 |\n",
      "| seed: 2 |\n"
     ]
    },
    {
     "name": "stderr",
     "output_type": "stream",
     "text": [
      "\n",
      " 20%|██        | 1/5 [00:28<01:55, 28.79s/it]\u001b[A\n",
      " 40%|████      | 2/5 [00:57<01:25, 28.67s/it]\u001b[A\n",
      " 60%|██████    | 3/5 [01:27<00:58, 29.08s/it]\u001b[A\n",
      " 80%|████████  | 4/5 [01:56<00:29, 29.01s/it]\u001b[A\n",
      "100%|██████████| 5/5 [02:25<00:00, 29.01s/it]\u001b[A\n",
      "\n",
      "  0%|          | 0/5 [00:00<?, ?it/s]\u001b[A"
     ]
    },
    {
     "name": "stdout",
     "output_type": "stream",
     "text": [
      "|------ Acc.: 0.831 | eo Dis.: 0.114 |\n",
      "| seed: 3 |\n"
     ]
    },
    {
     "name": "stderr",
     "output_type": "stream",
     "text": [
      "\n",
      " 20%|██        | 1/5 [00:28<01:53, 28.49s/it]\u001b[A\n",
      " 40%|████      | 2/5 [00:58<01:26, 28.81s/it]\u001b[A\n",
      " 60%|██████    | 3/5 [01:26<00:57, 28.77s/it]\u001b[A\n",
      " 80%|████████  | 4/5 [01:55<00:28, 28.75s/it]\u001b[A\n",
      "100%|██████████| 5/5 [02:24<00:00, 28.83s/it]\u001b[A\n",
      "\n",
      "  0%|          | 0/5 [00:00<?, ?it/s]\u001b[A"
     ]
    },
    {
     "name": "stdout",
     "output_type": "stream",
     "text": [
      "|------ Acc.: 0.833 | eo Dis.: 0.108 |\n",
      "| seed: 4 |\n"
     ]
    },
    {
     "name": "stderr",
     "output_type": "stream",
     "text": [
      "\n",
      " 20%|██        | 1/5 [00:29<01:58, 29.74s/it]\u001b[A\n",
      " 40%|████      | 2/5 [00:57<01:27, 29.25s/it]\u001b[A\n",
      " 60%|██████    | 3/5 [01:26<00:58, 29.13s/it]\u001b[A\n",
      " 80%|████████  | 4/5 [01:55<00:29, 29.01s/it]\u001b[A\n",
      "100%|██████████| 5/5 [02:25<00:00, 29.07s/it]\u001b[A\n",
      "\n",
      "  0%|          | 0/5 [00:00<?, ?it/s]\u001b[A"
     ]
    },
    {
     "name": "stdout",
     "output_type": "stream",
     "text": [
      "|------ Acc.: 0.833 | eo Dis.: 0.112 |\n",
      "| seed: 5 |\n"
     ]
    },
    {
     "name": "stderr",
     "output_type": "stream",
     "text": [
      "\n",
      " 20%|██        | 1/5 [00:28<01:53, 28.28s/it]\u001b[A\n",
      " 40%|████      | 2/5 [00:56<01:24, 28.32s/it]\u001b[A\n",
      " 60%|██████    | 3/5 [01:25<00:56, 28.46s/it]\u001b[A\n",
      " 80%|████████  | 4/5 [01:55<00:28, 28.85s/it]\u001b[A\n",
      "100%|██████████| 5/5 [02:28<00:00, 29.62s/it]\u001b[A\n",
      "\n",
      "  0%|          | 0/5 [00:00<?, ?it/s]\u001b[A"
     ]
    },
    {
     "name": "stdout",
     "output_type": "stream",
     "text": [
      "|------ Acc.: 0.843 | eo Dis.: 0.074 |\n",
      "| seed: 6 |\n"
     ]
    },
    {
     "name": "stderr",
     "output_type": "stream",
     "text": [
      "\n",
      " 20%|██        | 1/5 [00:29<01:56, 29.11s/it]\u001b[A\n",
      " 40%|████      | 2/5 [00:57<01:26, 28.86s/it]\u001b[A\n",
      " 60%|██████    | 3/5 [01:27<00:58, 29.18s/it]\u001b[A\n",
      " 80%|████████  | 4/5 [01:56<00:29, 29.10s/it]\u001b[A\n",
      "100%|██████████| 5/5 [02:25<00:00, 29.01s/it]\u001b[A\n",
      "\n",
      "  0%|          | 0/5 [00:00<?, ?it/s]\u001b[A"
     ]
    },
    {
     "name": "stdout",
     "output_type": "stream",
     "text": [
      "|------ Acc.: 0.832 | eo Dis.: 0.107 |\n",
      "| seed: 7 |\n"
     ]
    },
    {
     "name": "stderr",
     "output_type": "stream",
     "text": [
      "\n",
      " 20%|██        | 1/5 [00:28<01:55, 28.90s/it]\u001b[A\n",
      " 40%|████      | 2/5 [00:58<01:27, 29.15s/it]\u001b[A\n",
      " 60%|██████    | 3/5 [01:27<00:58, 29.10s/it]\u001b[A\n",
      " 80%|████████  | 4/5 [01:56<00:28, 28.98s/it]\u001b[A\n",
      "100%|██████████| 5/5 [02:25<00:00, 29.01s/it]\u001b[A\n",
      "\n",
      "  0%|          | 0/5 [00:00<?, ?it/s]\u001b[A"
     ]
    },
    {
     "name": "stdout",
     "output_type": "stream",
     "text": [
      "|------ Acc.: 0.844 | eo Dis.: 0.071 |\n",
      "| seed: 8 |\n"
     ]
    },
    {
     "name": "stderr",
     "output_type": "stream",
     "text": [
      "\n",
      " 20%|██        | 1/5 [00:29<01:56, 29.18s/it]\u001b[A\n",
      " 40%|████      | 2/5 [00:58<01:27, 29.21s/it]\u001b[A\n",
      " 60%|██████    | 3/5 [01:26<00:58, 29.01s/it]\u001b[A\n",
      " 80%|████████  | 4/5 [01:55<00:28, 29.00s/it]\u001b[A\n",
      "100%|██████████| 5/5 [02:25<00:00, 29.00s/it]\u001b[A\n",
      "\n",
      "  0%|          | 0/5 [00:00<?, ?it/s]\u001b[A"
     ]
    },
    {
     "name": "stdout",
     "output_type": "stream",
     "text": [
      "|------ Acc.: 0.844 | eo Dis.: 0.074 |\n",
      "| seed: 9 |\n"
     ]
    },
    {
     "name": "stderr",
     "output_type": "stream",
     "text": [
      "\n",
      " 20%|██        | 1/5 [00:29<01:57, 29.25s/it]\u001b[A\n",
      " 40%|████      | 2/5 [00:57<01:26, 28.93s/it]\u001b[A\n",
      " 60%|██████    | 3/5 [01:25<00:57, 28.82s/it]\u001b[A\n",
      " 80%|████████  | 4/5 [01:55<00:28, 28.89s/it]\u001b[A\n",
      "100%|██████████| 5/5 [02:24<00:00, 28.94s/it]\u001b[A\n"
     ]
    },
    {
     "name": "stdout",
     "output_type": "stream",
     "text": [
      "|------ Acc.: 0.832 | eo Dis.: 0.115 |\n",
      "| Acc.: 0.837(0.006) | eo Dis.: 0.094(0.023) |\n"
     ]
    }
   ],
   "source": [
    "acc, eo = np.zeros(10), np.zeros(10)\n",
    "for seed in range(10):\n",
    "    print(\"| seed: %d |\" % seed)\n",
    "    server = Server(logReg(num_features=adult_num_features, num_classes=2, seed = seed), adult_info, train_prn = False, seed = seed, ret = True)\n",
    "    acc[seed], eo[seed] = server.FairBatch(num_rounds = 5, local_epochs = 30, optimizer = 'adam', learning_rate = 0.002, alpha = 0.001)\n",
    "    print(\"|------ Acc.: %.3f | EO Dis.: %.3f |\" % (acc[seed], eo[seed]))\n",
    "print(\"| Acc.: %.3f(%.3f) | EO Dis.: %.3f(%.3f) |\" % (acc.mean(), acc.std(), eo.mean(), eo.std()))"
   ]
  },
  {
   "cell_type": "code",
   "execution_count": 6,
   "metadata": {},
   "outputs": [
    {
     "name": "stderr",
     "output_type": "stream",
     "text": [
      "\n",
      "  0%|          | 0/1 [00:00<?, ?it/s]\u001b[A"
     ]
    },
    {
     "name": "stdout",
     "output_type": "stream",
     "text": [
      "| seed: 0 |\n"
     ]
    },
    {
     "name": "stderr",
     "output_type": "stream",
     "text": [
      "\n",
      "100%|██████████| 1/1 [00:27<00:00, 27.59s/it]\u001b[A\n",
      "\n",
      "  0%|          | 0/1 [00:00<?, ?it/s]\u001b[A\n",
      "100%|██████████| 1/1 [00:27<00:00, 27.57s/it]\u001b[A\n",
      "\n",
      "  0%|          | 0/2 [00:00<?, ?it/s]\u001b[A\n",
      " 50%|█████     | 1/2 [00:27<00:27, 27.11s/it]\u001b[A\n",
      "100%|██████████| 2/2 [00:56<00:00, 28.01s/it]\u001b[A\n",
      "\n",
      "  0%|          | 0/1 [00:00<?, ?it/s]\u001b[A"
     ]
    },
    {
     "name": "stdout",
     "output_type": "stream",
     "text": [
      "|------ Acc.: 0.772 | eo Dis.: 0.541 |\n",
      "| seed: 1 |\n"
     ]
    },
    {
     "name": "stderr",
     "output_type": "stream",
     "text": [
      "\n",
      "100%|██████████| 1/1 [00:27<00:00, 27.40s/it]\u001b[A\n",
      "\n",
      "  0%|          | 0/1 [00:00<?, ?it/s]\u001b[A\n",
      "100%|██████████| 1/1 [00:27<00:00, 27.18s/it]\u001b[A\n",
      "\n",
      "  0%|          | 0/2 [00:00<?, ?it/s]\u001b[A\n",
      " 50%|█████     | 1/2 [00:27<00:27, 27.31s/it]\u001b[A\n",
      "100%|██████████| 2/2 [00:55<00:00, 27.69s/it]\u001b[A\n",
      "\n",
      "  0%|          | 0/1 [00:00<?, ?it/s]\u001b[A"
     ]
    },
    {
     "name": "stdout",
     "output_type": "stream",
     "text": [
      "|------ Acc.: 0.776 | eo Dis.: 0.532 |\n",
      "| seed: 2 |\n"
     ]
    },
    {
     "name": "stderr",
     "output_type": "stream",
     "text": [
      "\n",
      "100%|██████████| 1/1 [00:27<00:00, 27.34s/it]\u001b[A\n",
      "\n",
      "  0%|          | 0/1 [00:00<?, ?it/s]\u001b[A\n",
      "100%|██████████| 1/1 [00:27<00:00, 27.35s/it]\u001b[A\n",
      "\n",
      "  0%|          | 0/2 [00:00<?, ?it/s]\u001b[A\n",
      " 50%|█████     | 1/2 [00:26<00:26, 26.97s/it]\u001b[A\n",
      "100%|██████████| 2/2 [00:54<00:00, 27.07s/it]\u001b[A\n",
      "\n",
      "  0%|          | 0/1 [00:00<?, ?it/s]\u001b[A"
     ]
    },
    {
     "name": "stdout",
     "output_type": "stream",
     "text": [
      "|------ Acc.: 0.774 | eo Dis.: 0.521 |\n",
      "| seed: 3 |\n"
     ]
    },
    {
     "name": "stderr",
     "output_type": "stream",
     "text": [
      "\n",
      "100%|██████████| 1/1 [00:28<00:00, 28.62s/it]\u001b[A\n",
      "\n",
      "  0%|          | 0/1 [00:00<?, ?it/s]\u001b[A\n",
      "100%|██████████| 1/1 [00:27<00:00, 27.43s/it]\u001b[A\n",
      "\n",
      "  0%|          | 0/2 [00:00<?, ?it/s]\u001b[A\n",
      " 50%|█████     | 1/2 [00:27<00:27, 27.35s/it]\u001b[A\n",
      "100%|██████████| 2/2 [00:54<00:00, 27.16s/it]\u001b[A\n",
      "\n",
      "  0%|          | 0/1 [00:00<?, ?it/s]\u001b[A"
     ]
    },
    {
     "name": "stdout",
     "output_type": "stream",
     "text": [
      "|------ Acc.: 0.775 | eo Dis.: 0.514 |\n",
      "| seed: 4 |\n"
     ]
    },
    {
     "name": "stderr",
     "output_type": "stream",
     "text": [
      "\n",
      "100%|██████████| 1/1 [00:28<00:00, 28.59s/it]\u001b[A\n",
      "\n",
      "  0%|          | 0/1 [00:00<?, ?it/s]\u001b[A\n",
      "100%|██████████| 1/1 [00:27<00:00, 27.06s/it]\u001b[A\n",
      "\n",
      "  0%|          | 0/2 [00:00<?, ?it/s]\u001b[A\n",
      " 50%|█████     | 1/2 [00:27<00:27, 27.47s/it]\u001b[A\n",
      "100%|██████████| 2/2 [00:54<00:00, 27.22s/it]\u001b[A\n",
      "\n",
      "  0%|          | 0/1 [00:00<?, ?it/s]\u001b[A"
     ]
    },
    {
     "name": "stdout",
     "output_type": "stream",
     "text": [
      "|------ Acc.: 0.773 | eo Dis.: 0.525 |\n",
      "| seed: 5 |\n"
     ]
    },
    {
     "name": "stderr",
     "output_type": "stream",
     "text": [
      "\n",
      "100%|██████████| 1/1 [00:28<00:00, 28.25s/it]\u001b[A\n",
      "\n",
      "  0%|          | 0/1 [00:00<?, ?it/s]\u001b[A\n",
      "100%|██████████| 1/1 [00:27<00:00, 27.37s/it]\u001b[A\n",
      "\n",
      "  0%|          | 0/2 [00:00<?, ?it/s]\u001b[A\n",
      " 50%|█████     | 1/2 [00:28<00:28, 28.03s/it]\u001b[A\n",
      "100%|██████████| 2/2 [00:55<00:00, 27.61s/it]\u001b[A\n",
      "\n",
      "  0%|          | 0/1 [00:00<?, ?it/s]\u001b[A"
     ]
    },
    {
     "name": "stdout",
     "output_type": "stream",
     "text": [
      "|------ Acc.: 0.776 | eo Dis.: 0.528 |\n",
      "| seed: 6 |\n"
     ]
    },
    {
     "name": "stderr",
     "output_type": "stream",
     "text": [
      "\n",
      "100%|██████████| 1/1 [00:27<00:00, 27.08s/it]\u001b[A\n",
      "\n",
      "  0%|          | 0/1 [00:00<?, ?it/s]\u001b[A\n",
      "100%|██████████| 1/1 [00:28<00:00, 28.40s/it]\u001b[A\n",
      "\n",
      "  0%|          | 0/2 [00:00<?, ?it/s]\u001b[A\n",
      " 50%|█████     | 1/2 [00:27<00:27, 27.04s/it]\u001b[A\n",
      "100%|██████████| 2/2 [00:53<00:00, 26.99s/it]\u001b[A\n",
      "\n",
      "  0%|          | 0/1 [00:00<?, ?it/s]\u001b[A"
     ]
    },
    {
     "name": "stdout",
     "output_type": "stream",
     "text": [
      "|------ Acc.: 0.774 | eo Dis.: 0.527 |\n",
      "| seed: 7 |\n"
     ]
    },
    {
     "name": "stderr",
     "output_type": "stream",
     "text": [
      "\n",
      "100%|██████████| 1/1 [00:28<00:00, 28.23s/it]\u001b[A\n",
      "\n",
      "  0%|          | 0/1 [00:00<?, ?it/s]\u001b[A\n",
      "100%|██████████| 1/1 [00:29<00:00, 29.21s/it]\u001b[A\n",
      "\n",
      "  0%|          | 0/2 [00:00<?, ?it/s]\u001b[A\n",
      " 50%|█████     | 1/2 [00:26<00:26, 26.76s/it]\u001b[A\n",
      "100%|██████████| 2/2 [00:53<00:00, 26.89s/it]\u001b[A\n",
      "\n",
      "  0%|          | 0/1 [00:00<?, ?it/s]\u001b[A"
     ]
    },
    {
     "name": "stdout",
     "output_type": "stream",
     "text": [
      "|------ Acc.: 0.777 | eo Dis.: 0.524 |\n",
      "| seed: 8 |\n"
     ]
    },
    {
     "name": "stderr",
     "output_type": "stream",
     "text": [
      "\n",
      "100%|██████████| 1/1 [00:27<00:00, 27.05s/it]\u001b[A\n",
      "\n",
      "  0%|          | 0/1 [00:00<?, ?it/s]\u001b[A\n",
      "100%|██████████| 1/1 [00:28<00:00, 28.22s/it]\u001b[A\n",
      "\n",
      "  0%|          | 0/2 [00:00<?, ?it/s]\u001b[A\n",
      " 50%|█████     | 1/2 [00:27<00:27, 27.50s/it]\u001b[A\n",
      "100%|██████████| 2/2 [00:54<00:00, 27.29s/it]\u001b[A\n",
      "\n",
      "  0%|          | 0/1 [00:00<?, ?it/s]\u001b[A"
     ]
    },
    {
     "name": "stdout",
     "output_type": "stream",
     "text": [
      "|------ Acc.: 0.775 | eo Dis.: 0.534 |\n",
      "| seed: 9 |\n"
     ]
    },
    {
     "name": "stderr",
     "output_type": "stream",
     "text": [
      "\n",
      "100%|██████████| 1/1 [00:27<00:00, 27.47s/it]\u001b[A\n",
      "\n",
      "  0%|          | 0/1 [00:00<?, ?it/s]\u001b[A\n",
      "100%|██████████| 1/1 [00:27<00:00, 27.05s/it]\u001b[A\n",
      "\n",
      "  0%|          | 0/2 [00:00<?, ?it/s]\u001b[A\n",
      " 50%|█████     | 1/2 [00:28<00:28, 28.22s/it]\u001b[A\n",
      "100%|██████████| 2/2 [00:55<00:00, 27.51s/it]\u001b[A\n"
     ]
    },
    {
     "name": "stdout",
     "output_type": "stream",
     "text": [
      "|------ Acc.: 0.774 | eo Dis.: 0.524 |\n",
      "| Acc.: 0.775(0.001) | eo Dis.: 0.527(0.007) |\n"
     ]
    }
   ],
   "source": [
    "acc, eo = np.zeros(10), np.zeros(10)\n",
    "for seed in range(10):\n",
    "    print(\"| seed: %d |\" % seed)\n",
    "    server = Server(logReg(num_features=adult_num_features, num_classes=2, seed = seed), adult_info, train_prn = False, seed = seed, ret = True)\n",
    "    acc[seed], eo[seed] = server.FairConstraints(test_rounds = 1, test_lr = 0.005, test_penalty = 50, num_rounds = 2, local_epochs = 30, optimizer = 'adam', learning_rate = 0.002, penalty = 5, adaptive_penalty = True)\n",
    "    print(\"|------ Acc.: %.3f | EO Dis.: %.3f |\" % (acc[seed], eo[seed]))\n",
    "print(\"| Acc.: %.3f(%.3f) | EO Dis.: %.3f(%.3f) |\" % (acc.mean(), acc.std(), eo.mean(), eo.std()))"
   ]
  },
  {
   "cell_type": "code",
   "execution_count": 7,
   "metadata": {},
   "outputs": [
    {
     "name": "stderr",
     "output_type": "stream",
     "text": [
      "\n",
      "  0%|          | 0/5 [00:00<?, ?it/s]\u001b[A"
     ]
    },
    {
     "name": "stdout",
     "output_type": "stream",
     "text": [
      "| seed: 0 |\n"
     ]
    },
    {
     "name": "stderr",
     "output_type": "stream",
     "text": [
      "\n",
      " 20%|██        | 1/5 [00:29<01:56, 29.22s/it]\u001b[A\n",
      " 40%|████      | 2/5 [00:58<01:27, 29.14s/it]\u001b[A\n",
      " 60%|██████    | 3/5 [01:28<00:58, 29.45s/it]\u001b[A\n",
      " 80%|████████  | 4/5 [01:57<00:29, 29.31s/it]\u001b[A\n",
      "100%|██████████| 5/5 [02:26<00:00, 29.32s/it]\u001b[A\n",
      "\n",
      "  0%|          | 0/5 [00:00<?, ?it/s]\u001b[A"
     ]
    },
    {
     "name": "stdout",
     "output_type": "stream",
     "text": [
      "|------ Acc.: 0.823 | eo Dis.: 0.165 |\n",
      "| seed: 1 |\n"
     ]
    },
    {
     "name": "stderr",
     "output_type": "stream",
     "text": [
      "\n",
      " 20%|██        | 1/5 [00:28<01:55, 28.93s/it]\u001b[A\n",
      " 40%|████      | 2/5 [01:00<01:28, 29.64s/it]\u001b[A\n",
      " 60%|██████    | 3/5 [01:29<00:58, 29.45s/it]\u001b[A\n",
      " 80%|████████  | 4/5 [01:58<00:29, 29.32s/it]\u001b[A\n",
      "100%|██████████| 5/5 [02:27<00:00, 29.45s/it]\u001b[A\n",
      "\n",
      "  0%|          | 0/5 [00:00<?, ?it/s]\u001b[A"
     ]
    },
    {
     "name": "stdout",
     "output_type": "stream",
     "text": [
      "|------ Acc.: 0.837 | eo Dis.: 0.088 |\n",
      "| seed: 2 |\n"
     ]
    },
    {
     "name": "stderr",
     "output_type": "stream",
     "text": [
      "\n",
      " 20%|██        | 1/5 [00:30<02:01, 30.43s/it]\u001b[A\n",
      " 40%|████      | 2/5 [00:59<01:30, 30.15s/it]\u001b[A\n",
      " 60%|██████    | 3/5 [01:28<00:59, 29.79s/it]\u001b[A\n",
      " 80%|████████  | 4/5 [01:57<00:29, 29.52s/it]\u001b[A\n",
      "100%|██████████| 5/5 [02:28<00:00, 29.70s/it]\u001b[A\n",
      "\n",
      "  0%|          | 0/5 [00:00<?, ?it/s]\u001b[A"
     ]
    },
    {
     "name": "stdout",
     "output_type": "stream",
     "text": [
      "|------ Acc.: 0.820 | eo Dis.: 0.149 |\n",
      "| seed: 3 |\n"
     ]
    },
    {
     "name": "stderr",
     "output_type": "stream",
     "text": [
      "\n",
      " 20%|██        | 1/5 [00:28<01:55, 28.85s/it]\u001b[A\n",
      " 40%|████      | 2/5 [00:57<01:26, 28.90s/it]\u001b[A\n",
      " 60%|██████    | 3/5 [01:26<00:57, 28.95s/it]\u001b[A\n",
      " 80%|████████  | 4/5 [01:57<00:29, 29.40s/it]\u001b[A\n",
      "100%|██████████| 5/5 [02:26<00:00, 29.23s/it]\u001b[A\n",
      "\n",
      "  0%|          | 0/5 [00:00<?, ?it/s]\u001b[A"
     ]
    },
    {
     "name": "stdout",
     "output_type": "stream",
     "text": [
      "|------ Acc.: 0.819 | eo Dis.: 0.142 |\n",
      "| seed: 4 |\n"
     ]
    },
    {
     "name": "stderr",
     "output_type": "stream",
     "text": [
      "\n",
      " 20%|██        | 1/5 [00:29<01:56, 29.09s/it]\u001b[A\n",
      " 40%|████      | 2/5 [00:58<01:27, 29.05s/it]\u001b[A\n",
      " 60%|██████    | 3/5 [01:28<00:59, 29.57s/it]\u001b[A\n",
      " 80%|████████  | 4/5 [01:57<00:29, 29.41s/it]\u001b[A\n",
      "100%|██████████| 5/5 [02:27<00:00, 29.46s/it]\u001b[A\n",
      "\n",
      "  0%|          | 0/5 [00:00<?, ?it/s]\u001b[A"
     ]
    },
    {
     "name": "stdout",
     "output_type": "stream",
     "text": [
      "|------ Acc.: 0.824 | eo Dis.: 0.156 |\n",
      "| seed: 5 |\n"
     ]
    },
    {
     "name": "stderr",
     "output_type": "stream",
     "text": [
      "\n",
      " 20%|██        | 1/5 [00:29<01:56, 29.19s/it]\u001b[A\n",
      " 40%|████      | 2/5 [00:59<01:28, 29.47s/it]\u001b[A\n",
      " 60%|██████    | 3/5 [01:28<00:58, 29.30s/it]\u001b[A\n",
      " 80%|████████  | 4/5 [01:57<00:29, 29.42s/it]\u001b[A\n",
      "100%|██████████| 5/5 [02:32<00:00, 30.49s/it]\u001b[A\n",
      "\n",
      "  0%|          | 0/5 [00:00<?, ?it/s]\u001b[A"
     ]
    },
    {
     "name": "stdout",
     "output_type": "stream",
     "text": [
      "|------ Acc.: 0.836 | eo Dis.: 0.095 |\n",
      "| seed: 6 |\n"
     ]
    },
    {
     "name": "stderr",
     "output_type": "stream",
     "text": [
      "\n",
      " 20%|██        | 1/5 [00:37<02:28, 37.08s/it]\u001b[A\n",
      " 40%|████      | 2/5 [01:06<01:44, 34.90s/it]\u001b[A\n",
      " 60%|██████    | 3/5 [01:36<01:06, 33.19s/it]\u001b[A\n",
      " 80%|████████  | 4/5 [02:05<00:31, 31.93s/it]\u001b[A\n",
      "100%|██████████| 5/5 [02:35<00:00, 31.18s/it]\u001b[A\n",
      "\n",
      "  0%|          | 0/5 [00:00<?, ?it/s]\u001b[A"
     ]
    },
    {
     "name": "stdout",
     "output_type": "stream",
     "text": [
      "|------ Acc.: 0.821 | eo Dis.: 0.159 |\n",
      "| seed: 7 |\n"
     ]
    },
    {
     "name": "stderr",
     "output_type": "stream",
     "text": [
      "\n",
      " 20%|██        | 1/5 [00:29<01:57, 29.29s/it]\u001b[A\n",
      " 40%|████      | 2/5 [00:58<01:27, 29.26s/it]\u001b[A\n",
      " 60%|██████    | 3/5 [01:27<00:58, 29.24s/it]\u001b[A\n",
      " 80%|████████  | 4/5 [01:58<00:29, 29.74s/it]\u001b[A\n",
      "100%|██████████| 5/5 [02:28<00:00, 29.60s/it]\u001b[A\n",
      "\n",
      "  0%|          | 0/5 [00:00<?, ?it/s]\u001b[A"
     ]
    },
    {
     "name": "stdout",
     "output_type": "stream",
     "text": [
      "|------ Acc.: 0.836 | eo Dis.: 0.086 |\n",
      "| seed: 8 |\n"
     ]
    },
    {
     "name": "stderr",
     "output_type": "stream",
     "text": [
      "\n",
      " 20%|██        | 1/5 [00:29<01:57, 29.43s/it]\u001b[A\n",
      " 40%|████      | 2/5 [00:58<01:27, 29.29s/it]\u001b[A\n",
      " 60%|██████    | 3/5 [01:29<00:59, 29.80s/it]\u001b[A\n",
      " 80%|████████  | 4/5 [01:58<00:29, 29.59s/it]\u001b[A\n",
      "100%|██████████| 5/5 [02:27<00:00, 29.58s/it]\u001b[A\n",
      "\n",
      "  0%|          | 0/5 [00:00<?, ?it/s]\u001b[A"
     ]
    },
    {
     "name": "stdout",
     "output_type": "stream",
     "text": [
      "|------ Acc.: 0.835 | eo Dis.: 0.089 |\n",
      "| seed: 9 |\n"
     ]
    },
    {
     "name": "stderr",
     "output_type": "stream",
     "text": [
      "\n",
      " 20%|██        | 1/5 [00:28<01:55, 28.92s/it]\u001b[A\n",
      " 40%|████      | 2/5 [00:59<01:28, 29.38s/it]\u001b[A\n",
      " 60%|██████    | 3/5 [01:28<00:58, 29.27s/it]\u001b[A\n",
      " 80%|████████  | 4/5 [01:57<00:29, 29.19s/it]\u001b[A\n",
      "100%|██████████| 5/5 [02:27<00:00, 29.47s/it]\u001b[A\n"
     ]
    },
    {
     "name": "stdout",
     "output_type": "stream",
     "text": [
      "|------ Acc.: 0.817 | eo Dis.: 0.159 |\n",
      "| Acc.: 0.827(0.008) | eo Dis.: 0.129(0.033) |\n"
     ]
    }
   ],
   "source": [
    "acc, eo = np.zeros(10), np.zeros(10)\n",
    "for seed in range(10):\n",
    "    print(\"| seed: %d |\" % seed)\n",
    "    server = Server(logReg(num_features=adult_num_features, num_classes=2, seed = seed), adult_info, train_prn = False, seed = seed, ret = True)\n",
    "    acc[seed], eo[seed] = server.LocalFC(num_rounds = 5, local_epochs = 30, optimizer = 'adam', learning_rate = 0.001, penalty = 100)\n",
    "    print(\"|------ Acc.: %.3f | EO Dis.: %.3f |\" % (acc[seed], eo[seed]))\n",
    "print(\"| Acc.: %.3f(%.3f) | EO Dis.: %.3f(%.3f) |\" % (acc.mean(), acc.std(), eo.mean(), eo.std()))"
   ]
  },
  {
   "cell_type": "code",
   "execution_count": null,
   "metadata": {},
   "outputs": [
    {
     "name": "stderr",
     "output_type": "stream",
     "text": [
      "\n",
      "  0%|          | 0/2 [00:00<?, ?it/s]\u001b[A"
     ]
    },
    {
     "name": "stdout",
     "output_type": "stream",
     "text": [
      "| seed: 0 |\n"
     ]
    },
    {
     "name": "stderr",
     "output_type": "stream",
     "text": [
      "\n",
      " 50%|█████     | 1/2 [00:27<00:27, 27.54s/it]\u001b[A\n",
      "100%|██████████| 2/2 [00:53<00:00, 26.77s/it]\u001b[A\n",
      "\n",
      "  0%|          | 0/3 [00:00<?, ?it/s]\u001b[A\n",
      " 33%|███▎      | 1/3 [00:33<01:06, 33.33s/it]\u001b[A\n",
      " 67%|██████▋   | 2/3 [01:06<00:33, 33.14s/it]\u001b[A\n",
      "\n",
      "  0%|          | 0/2 [00:00<?, ?it/s]\u001b[A\u001b[A"
     ]
    },
    {
     "name": "stdout",
     "output_type": "stream",
     "text": [
      "|------ Acc.: 0.633 | eo Dis.: 0.009 |\n",
      "| seed: 1 |\n"
     ]
    },
    {
     "name": "stderr",
     "output_type": "stream",
     "text": [
      "\n",
      "\n",
      " 50%|█████     | 1/2 [00:26<00:26, 26.01s/it]\u001b[A\u001b[A\n",
      "\n",
      "100%|██████████| 2/2 [00:52<00:00, 26.07s/it]\u001b[A\u001b[A\n",
      "\n",
      "\n",
      "  0%|          | 0/3 [00:00<?, ?it/s]\u001b[A\u001b[A\n",
      "\n",
      " 33%|███▎      | 1/3 [00:32<01:05, 32.81s/it]\u001b[A\u001b[A\n",
      "\n",
      " 67%|██████▋   | 2/3 [01:06<00:33, 33.14s/it]\u001b[A\u001b[A\n",
      "\n",
      "\n",
      "  0%|          | 0/2 [00:00<?, ?it/s]\u001b[A\u001b[A\u001b[A"
     ]
    },
    {
     "name": "stdout",
     "output_type": "stream",
     "text": [
      "|------ Acc.: 0.655 | eo Dis.: 0.016 |\n",
      "| seed: 2 |\n"
     ]
    },
    {
     "name": "stderr",
     "output_type": "stream",
     "text": [
      "\n",
      "\n",
      "\n",
      " 50%|█████     | 1/2 [00:27<00:27, 27.42s/it]\u001b[A\u001b[A\u001b[A\n",
      "\n",
      "\n",
      "100%|██████████| 2/2 [00:53<00:00, 26.74s/it]\u001b[A\u001b[A\u001b[A\n",
      "\n",
      "\n",
      "\n",
      "  0%|          | 0/3 [00:00<?, ?it/s]\u001b[A\u001b[A\u001b[A\n",
      "\n",
      "\n",
      " 33%|███▎      | 1/3 [00:33<01:07, 33.93s/it]\u001b[A\u001b[A\u001b[A\n",
      "\n",
      "\n",
      " 67%|██████▋   | 2/3 [01:12<00:35, 35.26s/it]\u001b[A\u001b[A\u001b[A\n",
      "\n",
      "\n",
      "\n",
      "  0%|          | 0/2 [00:00<?, ?it/s]\u001b[A\u001b[A\u001b[A\u001b[A"
     ]
    },
    {
     "name": "stdout",
     "output_type": "stream",
     "text": [
      "|------ Acc.: 0.655 | eo Dis.: 0.012 |\n",
      "| seed: 3 |\n"
     ]
    },
    {
     "name": "stderr",
     "output_type": "stream",
     "text": [
      "\n",
      "\n",
      "\n",
      "\n",
      " 50%|█████     | 1/2 [36:08<36:08, 2168.87s/it]\u001b[A\u001b[A\u001b[A\u001b[A\n",
      "\n",
      "\n",
      "\n",
      "100%|██████████| 2/2 [36:45<00:00, 1102.67s/it]\u001b[A\u001b[A\u001b[A\u001b[A\n",
      "\n",
      "\n",
      "\n",
      "\n",
      "  0%|          | 0/3 [00:00<?, ?it/s]\u001b[A\u001b[A\u001b[A\u001b[A\n",
      "\n",
      "\n",
      "\n",
      " 33%|███▎      | 1/3 [34:39<1:09:18, 2079.23s/it]\u001b[A\u001b[A\u001b[A\u001b[A\n",
      "\n",
      "\n",
      "\n",
      " 67%|██████▋   | 2/3 [1:14:07<36:05, 2165.87s/it]\u001b[A\u001b[A\u001b[A\u001b[A\n",
      "\n",
      "\n",
      "\n",
      "\n",
      "  0%|          | 0/2 [00:00<?, ?it/s]\u001b[A\u001b[A\u001b[A\u001b[A\u001b[A"
     ]
    },
    {
     "name": "stdout",
     "output_type": "stream",
     "text": [
      "|------ Acc.: 0.673 | eo Dis.: 0.014 |\n",
      "| seed: 4 |\n"
     ]
    },
    {
     "name": "stderr",
     "output_type": "stream",
     "text": [
      "\n",
      "\n",
      "\n",
      "\n",
      "\n",
      " 50%|█████     | 1/2 [1:47:48<1:47:48, 6468.39s/it]\u001b[A\u001b[A\u001b[A\u001b[A\u001b[A\n",
      "\n",
      "\n",
      "\n",
      "\n",
      "100%|██████████| 2/2 [1:48:11<00:00, 3245.58s/it]  \u001b[A\u001b[A\u001b[A\u001b[A\u001b[A\n",
      "\n",
      "\n",
      "\n",
      "\n",
      "\n",
      "  0%|          | 0/3 [00:00<?, ?it/s]\u001b[A\u001b[A\u001b[A\u001b[A\u001b[A\n",
      "\n",
      "\n",
      "\n",
      "\n",
      " 33%|███▎      | 1/3 [1:47:52<3:35:44, 6472.32s/it]\u001b[A\u001b[A\u001b[A\u001b[A\u001b[A\n",
      "\n",
      "\n",
      "\n",
      "\n",
      " 67%|██████▋   | 2/3 [2:54:05<1:35:22, 5722.51s/it]\u001b[A\u001b[A\u001b[A\u001b[A\u001b[A\n",
      "\n",
      "\n",
      "\n",
      "\n",
      "\n",
      "  0%|          | 0/2 [00:00<?, ?it/s]\u001b[A\u001b[A\u001b[A\u001b[A\u001b[A\u001b[A"
     ]
    },
    {
     "name": "stdout",
     "output_type": "stream",
     "text": [
      "|------ Acc.: 0.651 | eo Dis.: 0.012 |\n",
      "| seed: 5 |\n"
     ]
    },
    {
     "name": "stderr",
     "output_type": "stream",
     "text": [
      "\n",
      "\n",
      "\n",
      "\n",
      "\n",
      "\n",
      " 50%|█████     | 1/2 [00:23<00:23, 23.93s/it]\u001b[A\u001b[A\u001b[A\u001b[A\u001b[A\u001b[A\n",
      "\n",
      "\n",
      "\n",
      "\n",
      "\n",
      "100%|██████████| 2/2 [00:49<00:00, 24.65s/it]\u001b[A\u001b[A\u001b[A\u001b[A\u001b[A\u001b[A\n",
      "\n",
      "\n",
      "\n",
      "\n",
      "\n",
      "\n",
      "  0%|          | 0/3 [00:00<?, ?it/s]\u001b[A\u001b[A\u001b[A\u001b[A\u001b[A\u001b[A\n",
      "\n",
      "\n",
      "\n",
      "\n",
      "\n",
      " 33%|███▎      | 1/3 [00:32<01:04, 32.35s/it]\u001b[A\u001b[A\u001b[A\u001b[A\u001b[A\u001b[A\n",
      "\n",
      "\n",
      "\n",
      "\n",
      "\n",
      " 67%|██████▋   | 2/3 [01:05<00:32, 32.62s/it]\u001b[A\u001b[A\u001b[A\u001b[A\u001b[A\u001b[A\n",
      "\n",
      "\n",
      "\n",
      "\n",
      "\n",
      "\n",
      "  0%|          | 0/2 [00:00<?, ?it/s]\u001b[A\u001b[A\u001b[A\u001b[A\u001b[A\u001b[A\u001b[A"
     ]
    },
    {
     "name": "stdout",
     "output_type": "stream",
     "text": [
      "|------ Acc.: 0.661 | eo Dis.: 0.017 |\n",
      "| seed: 6 |\n"
     ]
    },
    {
     "name": "stderr",
     "output_type": "stream",
     "text": [
      "\n",
      "\n",
      "\n",
      "\n",
      "\n",
      "\n",
      "\n",
      " 50%|█████     | 1/2 [00:29<00:29, 29.30s/it]\u001b[A\u001b[A\u001b[A\u001b[A\u001b[A\u001b[A\u001b[A\n",
      "\n",
      "\n",
      "\n",
      "\n",
      "\n",
      "\n",
      "100%|██████████| 2/2 [01:00<00:00, 30.18s/it]\u001b[A\u001b[A\u001b[A\u001b[A\u001b[A\u001b[A\u001b[A\n",
      "\n",
      "\n",
      "\n",
      "\n",
      "\n",
      "\n",
      "\n",
      "  0%|          | 0/3 [00:00<?, ?it/s]\u001b[A\u001b[A\u001b[A\u001b[A\u001b[A\u001b[A\u001b[A\n",
      "\n",
      "\n",
      "\n",
      "\n",
      "\n",
      "\n",
      " 33%|███▎      | 1/3 [00:34<01:09, 34.61s/it]\u001b[A\u001b[A\u001b[A\u001b[A\u001b[A\u001b[A\u001b[A\n",
      "\n",
      "\n",
      "\n",
      "\n",
      "\n",
      "\n",
      " 67%|██████▋   | 2/3 [01:08<00:34, 34.48s/it]\u001b[A\u001b[A\u001b[A\u001b[A\u001b[A\u001b[A\u001b[A\n",
      "\n",
      "\n",
      "\n",
      "\n",
      "\n",
      "\n",
      "\n",
      "  0%|          | 0/2 [00:00<?, ?it/s]\u001b[A\u001b[A\u001b[A\u001b[A\u001b[A\u001b[A\u001b[A\u001b[A"
     ]
    },
    {
     "name": "stdout",
     "output_type": "stream",
     "text": [
      "|------ Acc.: 0.651 | eo Dis.: 0.011 |\n",
      "| seed: 7 |\n"
     ]
    },
    {
     "name": "stderr",
     "output_type": "stream",
     "text": [
      "\n",
      "\n",
      "\n",
      "\n",
      "\n",
      "\n",
      "\n",
      "\n",
      " 50%|█████     | 1/2 [00:24<00:24, 24.89s/it]\u001b[A\u001b[A\u001b[A\u001b[A\u001b[A\u001b[A\u001b[A\u001b[A\n",
      "\n",
      "\n",
      "\n",
      "\n",
      "\n",
      "\n",
      "\n",
      "100%|██████████| 2/2 [00:51<00:00, 25.57s/it]\u001b[A\u001b[A\u001b[A\u001b[A\u001b[A\u001b[A\u001b[A\u001b[A\n",
      "\n",
      "\n",
      "\n",
      "\n",
      "\n",
      "\n",
      "\n",
      "\n",
      "  0%|          | 0/3 [00:00<?, ?it/s]\u001b[A\u001b[A\u001b[A\u001b[A\u001b[A\u001b[A\u001b[A\u001b[A\n",
      "\n",
      "\n",
      "\n",
      "\n",
      "\n",
      "\n",
      "\n",
      " 33%|███▎      | 1/3 [00:36<01:12, 36.31s/it]\u001b[A\u001b[A\u001b[A\u001b[A\u001b[A\u001b[A\u001b[A\u001b[A\n",
      "\n",
      "\n",
      "\n",
      "\n",
      "\n",
      "\n",
      "\n",
      " 67%|██████▋   | 2/3 [01:06<00:34, 34.62s/it]\u001b[A\u001b[A\u001b[A\u001b[A\u001b[A\u001b[A\u001b[A\u001b[A\n",
      "\n",
      "\n",
      "\n",
      "\n",
      "\n",
      "\n",
      "\n",
      "\n",
      "  0%|          | 0/2 [00:00<?, ?it/s]\u001b[A\u001b[A\u001b[A\u001b[A\u001b[A\u001b[A\u001b[A\u001b[A\u001b[A"
     ]
    },
    {
     "name": "stdout",
     "output_type": "stream",
     "text": [
      "|------ Acc.: 0.655 | eo Dis.: 0.015 |\n",
      "| seed: 8 |\n"
     ]
    },
    {
     "name": "stderr",
     "output_type": "stream",
     "text": [
      "\n",
      "\n",
      "\n",
      "\n",
      "\n",
      "\n",
      "\n",
      "\n",
      "\n",
      " 50%|█████     | 1/2 [00:30<00:30, 30.06s/it]\u001b[A\u001b[A\u001b[A\u001b[A\u001b[A\u001b[A\u001b[A\u001b[A\u001b[A\n",
      "\n",
      "\n",
      "\n",
      "\n",
      "\n",
      "\n",
      "\n",
      "\n",
      "100%|██████████| 2/2 [00:56<00:00, 28.17s/it]\u001b[A\u001b[A\u001b[A\u001b[A\u001b[A\u001b[A\u001b[A\u001b[A\u001b[A\n",
      "\n",
      "\n",
      "\n",
      "\n",
      "\n",
      "\n",
      "\n",
      "\n",
      "\n",
      "  0%|          | 0/3 [00:00<?, ?it/s]\u001b[A\u001b[A\u001b[A\u001b[A\u001b[A\u001b[A\u001b[A\u001b[A\u001b[A\n",
      "\n",
      "\n",
      "\n",
      "\n",
      "\n",
      "\n",
      "\n",
      "\n",
      " 33%|███▎      | 1/3 [00:31<01:03, 31.90s/it]\u001b[A\u001b[A\u001b[A\u001b[A\u001b[A\u001b[A\u001b[A\u001b[A\u001b[A\n",
      "\n",
      "\n",
      "\n",
      "\n",
      "\n",
      "\n",
      "\n",
      "\n",
      " 67%|██████▋   | 2/3 [01:02<00:31, 31.43s/it]\u001b[A\u001b[A\u001b[A\u001b[A\u001b[A\u001b[A\u001b[A\u001b[A\u001b[A\n",
      "\n",
      "\n",
      "\n",
      "\n",
      "\n",
      "\n",
      "\n",
      "\n",
      "\n",
      "  0%|          | 0/2 [00:00<?, ?it/s]\u001b[A\u001b[A\u001b[A\u001b[A\u001b[A\u001b[A\u001b[A\u001b[A\u001b[A\u001b[A"
     ]
    },
    {
     "name": "stdout",
     "output_type": "stream",
     "text": [
      "|------ Acc.: 0.656 | eo Dis.: 0.016 |\n",
      "| seed: 9 |\n"
     ]
    }
   ],
   "source": [
    "acc, eo = np.zeros(10), np.zeros(10)\n",
    "for seed in range(10):\n",
    "    print(\"| seed: %d |\" % seed)\n",
    "    server = Server(logReg(num_features=adult_num_features, num_classes=2, seed = seed), adult_info, train_prn = False, seed = seed, ret = True)\n",
    "    server.Unconstrained(num_rounds = 2, local_epochs = 30, optimizer = 'adam', learning_rate = 0.002)\n",
    "    acc[seed], eo[seed] = server.ThresholdAdjust(num_rounds = 3, local_epochs = 30, epsilon = 0.02, learning_rate = 0.001)\n",
    "    print(\"|------ Acc.: %.3f | EO Dis.: %.3f |\" % (acc[seed], eo[seed]))\n",
    "print(\"| Acc.: %.3f(%.3f) | EO Dis.: %.3f(%.3f) |\" % (acc.mean(), acc.std(), eo.mean(), eo.std()))"
   ]
  },
  {
   "cell_type": "code",
   "execution_count": null,
   "metadata": {},
   "outputs": [],
   "source": [
    "server = Server(logReg(num_features=adult_num_features, num_classes=2, seed = seed), adult_info, train_prn = False, seed = seed)\n",
    "server.Unconstrained(num_rounds = 2, local_epochs = 30, optimizer = 'adam', learning_rate = 0.008)\n",
    "server.ThresholdAdjust(num_rounds = 3, local_epochs = 30, epsilon = 0.02, learning_rate = 0.001)"
   ]
  },
  {
   "cell_type": "code",
   "execution_count": null,
   "metadata": {
    "scrolled": true
   },
   "outputs": [],
   "source": [
    "seed = 9\n",
    "server = Server(logReg(num_features=adult_num_features, num_classes=2, seed = seed), adult_info, train_prn = False, seed = seed)\n",
    "server.Unconstrained(num_rounds = 5, local_epochs = 30, optimizer = 'adam', learning_rate = 0.002)\n"
   ]
  },
  {
   "cell_type": "code",
   "execution_count": null,
   "metadata": {
    "scrolled": true
   },
   "outputs": [],
   "source": [
    "server = Server(logReg(num_features=adult_num_features, num_classes=2, seed = seed), adult_info, train_prn = False, seed = seed)\n",
    "server.FTrain(num_rounds = 5, local_epochs = 30, init_epochs = 50, lr_g = 0.002, lr_d = 0.008, lambda_d = 1)"
   ]
  },
  {
   "cell_type": "code",
   "execution_count": null,
   "metadata": {
    "scrolled": true
   },
   "outputs": [],
   "source": [
    "server = Server(logReg(num_features=adult_num_features, num_classes=2, seed = seed), adult_info, train_prn = False, seed = seed)\n",
    "server.BiasCorrecting(num_rounds = 5, local_epochs = 30, optimizer = 'adam', learning_rate = 0.01, alpha = 4)"
   ]
  },
  {
   "cell_type": "code",
   "execution_count": 6,
   "metadata": {
    "scrolled": true
   },
   "outputs": [
    {
     "name": "stderr",
     "output_type": "stream",
     "text": [
      "\n",
      "  0%|          | 0/5 [00:00<?, ?it/s]\u001b[A"
     ]
    },
    {
     "name": "stdout",
     "output_type": "stream",
     "text": [
      "\n",
      " | Global Training Round : 1 |\n",
      "\n"
     ]
    },
    {
     "name": "stderr",
     "output_type": "stream",
     "text": [
      "\n",
      " 20%|██        | 1/5 [01:07<04:29, 67.37s/it]\u001b[A"
     ]
    },
    {
     "name": "stdout",
     "output_type": "stream",
     "text": [
      "Client 1: accuracy loss: 81.72 | fairness loss 83.44 | Equal Opportunity Disparity = 0.01\n",
      "Client 2: accuracy loss: 48.03 | fairness loss 107.47 | Equal Opportunity Disparity = 0.07\n",
      " \n",
      "Avg Training Stats after 1 global rounds:\n",
      "Training loss: 0.35 | Training accuracy: 78.96% | Training Equal Opportunity Disparity: 0.0398\n",
      "\n",
      " | Global Training Round : 2 |\n",
      "\n"
     ]
    },
    {
     "name": "stderr",
     "output_type": "stream",
     "text": [
      "\n",
      " 40%|████      | 2/5 [01:56<03:05, 62.00s/it]\u001b[A"
     ]
    },
    {
     "name": "stdout",
     "output_type": "stream",
     "text": [
      "Client 1: accuracy loss: 83.01 | fairness loss 85.17 | Equal Opportunity Disparity = 0.00\n",
      "Client 2: accuracy loss: 49.26 | fairness loss 108.11 | Equal Opportunity Disparity = 0.06\n",
      " \n",
      "Avg Training Stats after 2 global rounds:\n",
      "Training loss: 0.34 | Training accuracy: 78.27% | Training Equal Opportunity Disparity: 0.0231\n",
      "\n",
      " | Global Training Round : 3 |\n",
      "\n"
     ]
    },
    {
     "name": "stderr",
     "output_type": "stream",
     "text": [
      "\n",
      " 60%|██████    | 3/5 [02:43<01:55, 57.53s/it]\u001b[A"
     ]
    },
    {
     "name": "stdout",
     "output_type": "stream",
     "text": [
      "Client 1: accuracy loss: 83.24 | fairness loss 84.80 | Equal Opportunity Disparity = 0.00\n",
      "Client 2: accuracy loss: 49.37 | fairness loss 106.56 | Equal Opportunity Disparity = 0.05\n",
      " \n",
      "Avg Training Stats after 3 global rounds:\n",
      "Training loss: 0.34 | Training accuracy: 78.11% | Training Equal Opportunity Disparity: 0.0245\n",
      "\n",
      " | Global Training Round : 4 |\n",
      "\n"
     ]
    },
    {
     "name": "stderr",
     "output_type": "stream",
     "text": [
      "\n",
      " 80%|████████  | 4/5 [03:30<00:54, 54.37s/it]\u001b[A"
     ]
    },
    {
     "name": "stdout",
     "output_type": "stream",
     "text": [
      "Client 1: accuracy loss: 83.15 | fairness loss 83.91 | Equal Opportunity Disparity = 0.00\n",
      "Client 2: accuracy loss: 49.19 | fairness loss 104.79 | Equal Opportunity Disparity = 0.05\n",
      " \n",
      "Avg Training Stats after 4 global rounds:\n",
      "Training loss: 0.34 | Training accuracy: 78.11% | Training Equal Opportunity Disparity: 0.0245\n",
      "\n",
      " | Global Training Round : 5 |\n",
      "\n"
     ]
    },
    {
     "name": "stderr",
     "output_type": "stream",
     "text": [
      "\n",
      "100%|██████████| 5/5 [04:14<00:00, 50.91s/it]\u001b[A"
     ]
    },
    {
     "name": "stdout",
     "output_type": "stream",
     "text": [
      "Client 1: accuracy loss: 82.97 | fairness loss 83.00 | Equal Opportunity Disparity = 0.00\n",
      "Client 2: accuracy loss: 48.96 | fairness loss 103.23 | Equal Opportunity Disparity = 0.06\n",
      " \n",
      "Avg Training Stats after 5 global rounds:\n",
      "Training loss: 0.34 | Training accuracy: 78.24% | Training Equal Opportunity Disparity: 0.0220\n"
     ]
    },
    {
     "name": "stderr",
     "output_type": "stream",
     "text": [
      "\n"
     ]
    },
    {
     "name": "stdout",
     "output_type": "stream",
     "text": [
      " \n",
      " Results after 5 global rounds of training:\n",
      "|---- Avg Train Accuracy: 78.24%\n",
      "|---- Test Accuracy: 78.53%\n",
      "|---- Test Equal Opportunity Disparity: 0.0133\n",
      "\n",
      " Total Run Time: 255.1371 sec\n"
     ]
    }
   ],
   "source": [
    "server = Server(logReg(num_features=adult_num_features, num_classes=2, seed = seed), adult_info, train_prn = False, seed = seed)\n",
    "server.FairBatch(num_rounds = 5, local_epochs = 30, optimizer = 'adam', learning_rate = 0.002, alpha = 0.001)"
   ]
  },
  {
   "cell_type": "code",
   "execution_count": null,
   "metadata": {
    "scrolled": true
   },
   "outputs": [],
   "source": [
    "server = Server(logReg(num_features=adult_num_features, num_classes=2, seed = seed), adult_info, train_prn = False, seed = seed)\n",
    "server.FairConstraints(test_rounds = 1, test_lr = 0.005, test_penalty = 50, num_rounds = 2, local_epochs = 30, optimizer = 'adam', learning_rate = 0.002, penalty = 5, adaptive_penalty = True)\n"
   ]
  },
  {
   "cell_type": "code",
   "execution_count": null,
   "metadata": {
    "scrolled": true
   },
   "outputs": [],
   "source": [
    "server = Server(logReg(num_features=adult_num_features, num_classes=2, seed = seed), adult_info, train_prn = False, seed = seed)\n",
    "server.LocalFC(num_rounds = 5, local_epochs = 30, optimizer = 'adam', learning_rate = 0.001, penalty = 100)"
   ]
  },
  {
   "cell_type": "code",
   "execution_count": null,
   "metadata": {
    "scrolled": true
   },
   "outputs": [],
   "source": [
    "server = Server(logReg(num_features=adult_num_features, num_classes=2, seed = seed), adult_info, train_prn = False, seed = seed)\n",
    "server.Unconstrained(num_rounds = 2, local_epochs = 30, optimizer = 'adam', learning_rate = 0.008)\n",
    "server.ThresholdAdjust(num_rounds = 3, local_epochs = 30, epsilon = 0.02, learning_rate = 0.001)"
   ]
  },
  {
   "cell_type": "code",
   "execution_count": null,
   "metadata": {},
   "outputs": [],
   "source": [
    "server = Server(logReg(num_features=adult_num_features, num_classes=2, seed = seed), adult_info, train_prn = False, seed = seed, ret = True)\n",
    "acc[seed], eo[seed] = server.FairBatch(num_rounds = 5, local_epochs = 30, optimizer = 'adam', learning_rate = 0.002, alpha = 0.001)"
   ]
  }
 ],
 "metadata": {
  "kernelspec": {
   "display_name": "Python 3",
   "language": "python",
   "name": "python3"
  },
  "language_info": {
   "codemirror_mode": {
    "name": "ipython",
    "version": 3
   },
   "file_extension": ".py",
   "mimetype": "text/x-python",
   "name": "python",
   "nbconvert_exporter": "python",
   "pygments_lexer": "ipython3",
   "version": "3.7.4"
  }
 },
 "nbformat": 4,
 "nbformat_minor": 2
}
