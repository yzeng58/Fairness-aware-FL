{
 "cells": [
  {
   "cell_type": "code",
   "execution_count": 38,
   "metadata": {},
   "outputs": [],
   "source": [
    "from torchvision import transforms\n",
    "from torch.utils.data import Dataset\n",
    "from torch.utils.data import DataLoader\n",
    "import torch.nn.functional as F\n",
    "import torch\n",
    "from utils import *\n",
    "import time\n",
    "import matplotlib.pyplot as plt"
   ]
  },
  {
   "cell_type": "code",
   "execution_count": 52,
   "metadata": {},
   "outputs": [],
   "source": [
    "def compute_epoch_loss(model, data_loader):\n",
    "    curr_loss, num_examples = 0., 0\n",
    "    with torch.no_grad():\n",
    "        for features, targets, _ in data_loader:\n",
    "            features = features.view(-1, NUM_FEATURES).to(DEVICE)\n",
    "            targets = targets.to(DEVICE).type(torch.LongTensor)\n",
    "            logits, probas = model(features)\n",
    "            loss = F.cross_entropy(logits, targets, reduction='sum')\n",
    "            num_examples += targets.size(0)\n",
    "            curr_loss += loss\n",
    "\n",
    "        curr_loss = curr_loss / num_examples\n",
    "        return curr_loss\n",
    "\n",
    "    \n",
    "def compute_accuracy(model, data_loader):\n",
    "    correct_pred, num_examples = 0, 0\n",
    "    n_yz = {(0,0):0, (0,1):0, (1,0):0, (1,1):0}\n",
    "    \n",
    "    with torch.no_grad():\n",
    "        for features, targets, sensitive in data_loader:\n",
    "            group_boolean_idx = {}\n",
    "            try:\n",
    "                features = features.view(-1, NUM_FEATURES).to(DEVICE)\n",
    "            except:\n",
    "                print(features)\n",
    "            targets = targets.to(DEVICE)\n",
    "            logits, probas = model.forward(features)\n",
    "            \n",
    "            predicted_labels = torch.argmax(probas, 1)\n",
    "            num_examples += targets.size(0)\n",
    "            correct_pred += (predicted_labels == targets).sum()\n",
    "            \n",
    "            for yz in n_yz:\n",
    "                group_boolean_idx[yz] = (predicted_labels == yz[0]) & (sensitive == yz[1])\n",
    "                n_yz[yz] += torch.sum(group_boolean_idx[yz]).item()  \n",
    "                \n",
    "        return correct_pred.float()/num_examples * 100, DPDisparity(n_yz)"
   ]
  },
  {
   "cell_type": "code",
   "execution_count": 69,
   "metadata": {},
   "outputs": [],
   "source": [
    "train_set, test_set, _ = dataGenerate(seed = 95, train_samples = 3000, test_samples = 100)"
   ]
  },
  {
   "cell_type": "code",
   "execution_count": 70,
   "metadata": {},
   "outputs": [],
   "source": [
    "mean_z = train_set.sen.mean()"
   ]
  },
  {
   "cell_type": "code",
   "execution_count": 108,
   "metadata": {},
   "outputs": [],
   "source": [
    "train_loader = DataLoader(train_set, batch_size = BATCH_SIZE)\n",
    "test_loader = DataLoader(test_set, batch_size = BATCH_SIZE)"
   ]
  },
  {
   "cell_type": "code",
   "execution_count": 117,
   "metadata": {},
   "outputs": [],
   "source": [
    "LEARNING_RATE = 0.05\n",
    "NUM_EPOCHS = 600\n",
    "PENALTY = 200\n",
    "NUM_FEATURES = 3\n",
    "DEVICE = torch.device('cuda:0' if torch.cuda.is_available() else 'cpu')\n",
    "BATCH_SIZE = 128"
   ]
  },
  {
   "cell_type": "code",
   "execution_count": 118,
   "metadata": {
    "scrolled": true,
    "tags": []
   },
   "outputs": [
    {
     "name": "stdout",
     "output_type": "stream",
     "text": [
      "Epoch: 020/600 Accuracy: 74.2333 DP: 0.2839 Cost: 0.6932\n",
      "Epoch: 040/600 Accuracy: 74.6000 DP: 0.2521 Cost: 0.6931\n",
      "Epoch: 060/600 Accuracy: 75.1000 DP: 0.2394 Cost: 0.6931\n",
      "Epoch: 080/600 Accuracy: 75.6000 DP: 0.2289 Cost: 0.6931\n",
      "Epoch: 100/600 Accuracy: 75.6000 DP: 0.2163 Cost: 0.6931\n",
      "Epoch: 120/600 Accuracy: 75.3667 DP: 0.2060 Cost: 0.6931\n",
      "Epoch: 140/600 Accuracy: 75.3000 DP: 0.1940 Cost: 0.6931\n",
      "Epoch: 160/600 Accuracy: 75.3667 DP: 0.1885 Cost: 0.6931\n",
      "Epoch: 180/600 Accuracy: 75.2667 DP: 0.1791 Cost: 0.6931\n",
      "Epoch: 200/600 Accuracy: 75.2333 DP: 0.1674 Cost: 0.6931\n",
      "Epoch: 220/600 Accuracy: 75.1333 DP: 0.1594 Cost: 0.6931\n",
      "Epoch: 240/600 Accuracy: 75.1667 DP: 0.1542 Cost: 0.6932\n",
      "Epoch: 260/600 Accuracy: 75.1667 DP: 0.1486 Cost: 0.6932\n",
      "Epoch: 280/600 Accuracy: 75.1333 DP: 0.1434 Cost: 0.6932\n",
      "Epoch: 300/600 Accuracy: 74.8667 DP: 0.1381 Cost: 0.6932\n",
      "Epoch: 320/600 Accuracy: 74.7333 DP: 0.1274 Cost: 0.6932\n",
      "Epoch: 340/600 Accuracy: 74.7000 DP: 0.1216 Cost: 0.6932\n",
      "Epoch: 360/600 Accuracy: 74.6000 DP: 0.1155 Cost: 0.6932\n",
      "Epoch: 380/600 Accuracy: 74.6000 DP: 0.1104 Cost: 0.6932\n",
      "Epoch: 400/600 Accuracy: 74.4667 DP: 0.1073 Cost: 0.6932\n",
      "Epoch: 420/600 Accuracy: 74.2333 DP: 0.1018 Cost: 0.6932\n",
      "Epoch: 440/600 Accuracy: 74.1000 DP: 0.0963 Cost: 0.6932\n",
      "Epoch: 460/600 Accuracy: 73.9000 DP: 0.0921 Cost: 0.6932\n",
      "Epoch: 480/600 Accuracy: 73.5000 DP: 0.0850 Cost: 0.6932\n",
      "Epoch: 500/600 Accuracy: 73.6000 DP: 0.0813 Cost: 0.6932\n",
      "Epoch: 520/600 Accuracy: 73.3000 DP: 0.0761 Cost: 0.6932\n",
      "Epoch: 540/600 Accuracy: 73.2333 DP: 0.0712 Cost: 0.6932\n",
      "Epoch: 560/600 Accuracy: 73.1667 DP: 0.0697 Cost: 0.6932\n",
      "Epoch: 580/600 Accuracy: 73.0000 DP: 0.0658 Cost: 0.6932\n",
      "Epoch: 600/600 Accuracy: 73.0000 DP: 0.0623 Cost: 0.6932\n",
      "Total Training Time: 2.05 min\n"
     ]
    }
   ],
   "source": [
    "# one-sided Fairness Constraint\n",
    "start_time = time.time()\n",
    "minibatch_cost = []\n",
    "epoch_cost = []\n",
    "model = logReg(num_features=3, num_classes=2)\n",
    "optimizer = torch.optim.Adam(model.parameters(), lr=LEARNING_RATE)\n",
    "\n",
    "\n",
    "for epoch in range(NUM_EPOCHS):\n",
    "    model.train()\n",
    "    for batch_idx, (features, targets, sensitive) in enumerate(train_loader):\n",
    "        features = features.view(-1, NUM_FEATURES).to(DEVICE)\n",
    "        targets = targets.to(DEVICE).type(torch.LongTensor)\n",
    "            \n",
    "        ### FORWARD AND BACK PROP\n",
    "        probas, logits = model(features)\n",
    "        cost = zafar_loss(logits, targets, probas, sensitive, PENALTY, mean_z, True)\n",
    "        optimizer.zero_grad()\n",
    "        \n",
    "        cost.backward()\n",
    "        minibatch_cost.append(cost)\n",
    "        ### UPDATE MODEL PARAMETERS\n",
    "        optimizer.step()\n",
    "\n",
    "        \n",
    "    model.eval()\n",
    "    cost = compute_epoch_loss(model, train_loader)\n",
    "    epoch_cost.append(cost)\n",
    "    \n",
    "    train_accuracy, train_dp = compute_accuracy(model, train_loader)\n",
    "    test_accuracy, test_dp = compute_accuracy(model, test_loader)\n",
    "    \n",
    "    if (epoch+1) % 20 == 0:\n",
    "        print('Epoch: %03d/%03d Accuracy: %.4f DP: %.4f Cost: %.4f' % (\n",
    "                epoch+1, NUM_EPOCHS, train_accuracy, train_dp, cost))\n",
    "#         print('Train Accuracy: %.3f | Test Accuracy: %.3f' % (train_accuracy, test_accuracy))\n",
    "#         print('Train DP: %.3f | Test DP: %.3f' % (train_dp, test_dp))\n",
    "#         print('Time elapsed: %.2f min' % ((time.time() - start_time)/60))\n",
    "    \n",
    "print('Total Training Time: %.2f min' % ((time.time() - start_time)/60))\n"
   ]
  },
  {
   "cell_type": "code",
   "execution_count": 99,
   "metadata": {},
   "outputs": [],
   "source": [
    "PENALTY = 500\n",
    "LEARNING_RATE = 0.0001\n",
    "NUM_EPOCHS = 300"
   ]
  },
  {
   "cell_type": "code",
   "execution_count": 100,
   "metadata": {},
   "outputs": [
    {
     "name": "stdout",
     "output_type": "stream",
     "text": [
      "Epoch: 020/300 Accuracy: 53.4667 DP: 0.1815 Cost: 0.6955\n",
      "Epoch: 040/300 Accuracy: 52.5667 DP: 0.1616 Cost: 0.6983\n",
      "Epoch: 060/300 Accuracy: 53.8333 DP: 0.1640 Cost: 0.6959\n",
      "Epoch: 080/300 Accuracy: 55.0333 DP: 0.1652 Cost: 0.6919\n",
      "Epoch: 100/300 Accuracy: 57.3667 DP: 0.1767 Cost: 0.6878\n",
      "Epoch: 120/300 Accuracy: 59.6667 DP: 0.1797 Cost: 0.6839\n",
      "Epoch: 140/300 Accuracy: 61.4667 DP: 0.1750 Cost: 0.6803\n",
      "Epoch: 160/300 Accuracy: 62.2000 DP: 0.1531 Cost: 0.6769\n",
      "Epoch: 180/300 Accuracy: 61.9667 DP: 0.1142 Cost: 0.6737\n",
      "Epoch: 200/300 Accuracy: 61.9667 DP: 0.0634 Cost: 0.6708\n",
      "Epoch: 220/300 Accuracy: 62.3333 DP: 0.0132 Cost: 0.6680\n",
      "Epoch: 240/300 Accuracy: 62.0667 DP: 0.0011 Cost: 0.6655\n",
      "Epoch: 260/300 Accuracy: 62.3333 DP: 0.0055 Cost: 0.6634\n",
      "Epoch: 280/300 Accuracy: 63.3333 DP: 0.0221 Cost: 0.6616\n",
      "Epoch: 300/300 Accuracy: 65.1000 DP: 0.0513 Cost: 0.6602\n",
      "Total Training Time: 1.04 min\n"
     ]
    }
   ],
   "source": [
    "# Fairness Constraint\n",
    "start_time = time.time()\n",
    "minibatch_cost = []\n",
    "epoch_cost = []\n",
    "model = logReg(num_features=3, num_classes=2)\n",
    "optimizer = torch.optim.Adam(model.parameters(), lr=LEARNING_RATE)\n",
    "\n",
    "\n",
    "for epoch in range(NUM_EPOCHS):\n",
    "    model.train()\n",
    "    for batch_idx, (features, targets, sensitive) in enumerate(train_loader):\n",
    "        features = features.view(-1, NUM_FEATURES).to(DEVICE)\n",
    "        targets = targets.to(DEVICE).type(torch.LongTensor)\n",
    "            \n",
    "        ### FORWARD AND BACK PROP\n",
    "        probas, logits = model(features)\n",
    "        \n",
    "        acc_loss = F.cross_entropy(logits, targets, reduction = 'sum')\n",
    "        fair_loss0 = torch.mul(sensitive - mean_z, logits.T[0] - torch.mean(logits.T[0]))\n",
    "        fair_loss0 = torch.mean(torch.mul(fair_loss0, fair_loss0)) \n",
    "        fair_loss1 = torch.mul(sensitive - mean_z, logits.T[1] - torch.mean(logits.T[1]))\n",
    "        fair_loss1 = torch.mean(torch.mul(fair_loss1, fair_loss1)) \n",
    "        fair_loss = fair_loss0 + fair_loss1\n",
    "        cost = acc_loss + PENALTY * fair_loss\n",
    "        \n",
    "        optimizer.zero_grad()\n",
    "        \n",
    "        cost.backward()\n",
    "        minibatch_cost.append(cost)\n",
    "        ### UPDATE MODEL PARAMETERS\n",
    "        optimizer.step()\n",
    "\n",
    "        \n",
    "    model.eval()\n",
    "    cost = compute_epoch_loss(model, train_loader)\n",
    "    epoch_cost.append(cost)\n",
    "    \n",
    "    train_accuracy, train_dp = compute_accuracy(model, train_loader)\n",
    "    test_accuracy, test_dp = compute_accuracy(model, test_loader)\n",
    "    \n",
    "    if (epoch+1) % 20 == 0:\n",
    "        print('Epoch: %03d/%03d Accuracy: %.4f DP: %.4f Cost: %.4f' % (\n",
    "                epoch+1, NUM_EPOCHS, train_accuracy, train_dp, cost))\n",
    "#         print('Train Accuracy: %.3f | Test Accuracy: %.3f' % (train_accuracy, test_accuracy))\n",
    "#         print('Train DP: %.3f | Test DP: %.3f' % (train_dp, test_dp))\n",
    "#         print('Time elapsed: %.2f min' % ((time.time() - start_time)/60))\n",
    "    \n",
    "print('Total Training Time: %.2f min' % ((time.time() - start_time)/60))\n"
   ]
  },
  {
   "cell_type": "code",
   "execution_count": 45,
   "metadata": {},
   "outputs": [
    {
     "data": {
      "image/png": "[encoded data removed]",
      "text/plain": [
       "<Figure size 432x288 with 1 Axes>"
      ]
     },
     "metadata": {
      "needs_background": "light"
     },
     "output_type": "display_data"
    },
    {
     "data": {
      "image/png": "[encoded data removed]",
      "text/plain": [
       "<Figure size 432x288 with 1 Axes>"
      ]
     },
     "metadata": {
      "needs_background": "light"
     },
     "output_type": "display_data"
    }
   ],
   "source": [
    "plt.plot(range(len(minibatch_cost)), minibatch_cost)\n",
    "plt.ylabel('Cross Entropy')\n",
    "plt.xlabel('Minibatch')\n",
    "plt.show()\n",
    "\n",
    "plt.plot(range(len(epoch_cost)), epoch_cost)\n",
    "plt.ylabel('Cross Entropy')\n",
    "plt.xlabel('Epoch')\n",
    "plt.show()"
   ]
  },
  {
   "cell_type": "code",
   "execution_count": null,
   "metadata": {},
   "outputs": [],
   "source": []
  }
 ],
 "metadata": {
  "kernelspec": {
   "display_name": "Python 3",
   "language": "python",
   "name": "python3"
  },
  "language_info": {
   "codemirror_mode": {
    "name": "ipython",
    "version": 3
   },
   "file_extension": ".py",
   "mimetype": "text/x-python",
   "name": "python",
   "nbconvert_exporter": "python",
   "pygments_lexer": "ipython3",
   "version": "3.7.4"
  }
 },
 "nbformat": 4,
 "nbformat_minor": 2
}
