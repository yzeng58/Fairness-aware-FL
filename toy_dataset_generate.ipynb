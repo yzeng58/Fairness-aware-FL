{
 "cells": [
  {
   "cell_type": "code",
   "execution_count": 1,
   "metadata": {},
   "outputs": [],
   "source": [
    "import numpy as np\n",
    "import pandas as pd\n",
    "import copy\n",
    "from utils import *"
   ]
  },
  {
   "cell_type": "code",
   "execution_count": 8,
   "metadata": {},
   "outputs": [],
   "source": [
    "def nsfData(q = (0.99, 0.01), theta = (0.38/0.99, -0.5), train_samples = 3000, test_samples = 300):\n",
    "    clients_idx = [np.arange(0,train_samples//2,1), np.arange(train_samples//2, train_samples//2*2, 1)]\n",
    "    train_data, test_data = [], []\n",
    "\n",
    "    for c in range(2):\n",
    "        a = np.random.binomial(n = 1, p = q[c], size = train_samples//2 + test_samples//2)\n",
    "        def prod_x(a):\n",
    "            if a:\n",
    "                return np.random.binomial(n=1, p=1/2+theta[c], size=1)\n",
    "            else:\n",
    "                return np.random.binomial(n=1, p=1/2, size=1)\n",
    "        prod_x_v = np.vectorize(prod_x)\n",
    "        x = prod_x_v(a)\n",
    "        y = copy.deepcopy(x)\n",
    "        data = pd.DataFrame(zip(x,a,y), columns = [\"x\", \"a\", \"y\"])\n",
    "        train_data.append(data[:train_samples//2])\n",
    "        test_data.append(data[train_samples//2:])\n",
    "    train_data = pd.concat(train_data)\n",
    "    test_data = pd.concat(test_data)\n",
    "    train_dataset = LoadData(train_data, \"y\", \"a\")\n",
    "    test_dataset = LoadData(test_data, \"y\", \"a\")\n",
    "return [train_dataset, test_dataset, client_idx]"
   ]
  },
  {
   "cell_type": "code",
   "execution_count": 9,
   "metadata": {},
   "outputs": [
    {
     "name": "stdout",
     "output_type": "stream",
     "text": [
      "[1 1 1 ... 1 1 1]\n",
      "[0 0 0 ... 0 0 0]\n"
     ]
    }
   ],
   "source": [
    "nsfData()"
   ]
  },
  {
   "cell_type": "code",
   "execution_count": 12,
   "metadata": {},
   "outputs": [],
   "source": [
    "a = np.random.binomial(n = 1, p = 0.99, size = 1500 + 150)"
   ]
  },
  {
   "cell_type": "code",
   "execution_count": 3,
   "metadata": {},
   "outputs": [],
   "source": [
    "q = (0.99, 0.01)\n",
    "theta = (0.38/0.99, -0.5)\n",
    "train_samples = 3000\n",
    "test_samples = 300"
   ]
  },
  {
   "cell_type": "code",
   "execution_count": 15,
   "metadata": {},
   "outputs": [],
   "source": [
    "clients_idx = []\n",
    "train_data, test_data = [], []\n",
    "\n",
    "for c in range(2):\n",
    "    a = np.random.binomial(n = 1, p = q[c], size = train_samples//2 + test_samples//2)\n",
    "    def prod_x(a):\n",
    "        if a:\n",
    "            return np.random.binomial(n=1, p=1/2+theta[c], size=1)\n",
    "        else:\n",
    "            return np.random.binomial(n=1, p=1/2, size=1)\n",
    "    prod_x_v = np.vectorize(prod_x)\n",
    "    x = prod_x_v(a)\n",
    "    y = copy.deepcopy(x)\n",
    "    data = pd.DataFrame(zip(x,a,y), columns = [\"x\", \"a\", \"y\"])\n",
    "    train_data.append(data[:train_samples//2])\n",
    "    test_data.append(data[train_samples//2:])\n",
    "train_data = pd.concat(train_data).reset_index(drop=True)\n",
    "test_data = pd.concat(test_data).reset_index(drop=True)\n",
    "train_data = train_data.sample(frac = 1)\n",
    "clients_idx[0] = np.where(train_data.index < train_samples//2)[0]\n",
    "clients_idx[1] = np.where(train_data.index >= train_samples//2)[0]\n",
    "train_data = train_data.reset_index(drop=True)"
   ]
  },
  {
   "cell_type": "code",
   "execution_count": 16,
   "metadata": {},
   "outputs": [
    {
     "data": {
      "text/plain": [
       "Int64Index([1198,  541, 2895,  800, 2131,  912, 1959, 1637, 2291, 1584,\n",
       "            ...\n",
       "            1399, 1429, 1348,    9, 1958,  807, 2633,  214, 2909, 1558],\n",
       "           dtype='int64', length=3000)"
      ]
     },
     "execution_count": 16,
     "metadata": {},
     "output_type": "execute_result"
    }
   ],
   "source": [
    "train_data.index"
   ]
  },
  {
   "cell_type": "code",
   "execution_count": 8,
   "metadata": {},
   "outputs": [],
   "source": [
    "clients_idx[0] = train_data.index[clients_idx[0]]"
   ]
  },
  {
   "cell_type": "code",
   "execution_count": 9,
   "metadata": {},
   "outputs": [
    {
     "data": {
      "text/plain": [
       "Int64Index([1489,  466, 1386, 1196, 1142,  807,  976, 1050, 1304,  338,\n",
       "            ...\n",
       "             241,   12,  526, 1421,  313,  425,  146, 1378, 1066,  219],\n",
       "           dtype='int64', length=1500)"
      ]
     },
     "execution_count": 9,
     "metadata": {},
     "output_type": "execute_result"
    }
   ],
   "source": [
    "clients_idx[0] "
   ]
  },
  {
   "cell_type": "code",
   "execution_count": 19,
   "metadata": {},
   "outputs": [
    {
     "data": {
      "text/plain": [
       "(array([   0,    1,    3, ..., 2993, 2995, 2997]),)"
      ]
     },
     "execution_count": 19,
     "metadata": {},
     "output_type": "execute_result"
    }
   ],
   "source": [
    "np.where(train_data.index < train_samples//2)"
   ]
  },
  {
   "cell_type": "code",
   "execution_count": 18,
   "metadata": {},
   "outputs": [
    {
     "data": {
      "text/plain": [
       "1500"
      ]
     },
     "execution_count": 18,
     "metadata": {},
     "output_type": "execute_result"
    }
   ],
   "source": [
    "sum(train_data.index < (train_samples//2))"
   ]
  },
  {
   "cell_type": "code",
   "execution_count": null,
   "metadata": {},
   "outputs": [],
   "source": []
  }
 ],
 "metadata": {
  "kernelspec": {
   "display_name": "Python 3",
   "language": "python",
   "name": "python3"
  },
  "language_info": {
   "codemirror_mode": {
    "name": "ipython",
    "version": 3
   },
   "file_extension": ".py",
   "mimetype": "text/x-python",
   "name": "python",
   "nbconvert_exporter": "python",
   "pygments_lexer": "ipython3",
   "version": "3.7.4"
  }
 },
 "nbformat": 4,
 "nbformat_minor": 2
}
